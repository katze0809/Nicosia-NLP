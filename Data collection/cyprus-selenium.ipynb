{
 "cells": [
  {
   "cell_type": "code",
   "execution_count": null,
   "metadata": {},
   "outputs": [],
   "source": [
    "import csv\n",
    "import time\n",
    "from selenium import webdriver\n",
    "from selenium.common.exceptions import NoSuchElementException"
   ]
  },
  {
   "cell_type": "code",
   "execution_count": null,
   "metadata": {},
   "outputs": [],
   "source": [
    "# import the webdriver, this one is using chrome webdriver\n",
    "driver = webdriver.Chrome(\"C:/Users/Dell/Documents\\MASTER CDE/RISE INTERNSHIP/TRIPADV SCRIPTS/driver/chromedriver.exe\")\n",
    "\n",
    "# insert TripAdvisor link of one attraction\n",
    "driver.get(\"https://www.tripadvisor.com/Attraction_Review-g190383-d5786091-Reviews-The_Venetian_Column-Nicosia_Nicosia_District.html\")\n",
    "#max window\n",
    "driver.maximize_window()\n",
    "time.sleep(5)"
   ]
  },
  {
   "cell_type": "code",
   "execution_count": null,
   "metadata": {},
   "outputs": [],
   "source": [
    "def check_exists_by_xpath(xpath):\n",
    "    try:\n",
    "        driver.find_element_by_xpath(xpath)\n",
    "    except NoSuchElementException:\n",
    "        return False\n",
    "    return True\n",
    "\n",
    "#create csv file\n",
    "csvFile = open(r\"C:/Users/Dell/Desktop/Attractions/The Venetian Column.csv\", 'a', encoding = 'utf-8', newline ='')\n",
    "csvWriter = csv.writer(csvFile)\n",
    "header = ['r_points', 'r_text', 'place']\n",
    "csvWriter.writerow(header)"
   ]
  },
  {
   "cell_type": "code",
   "execution_count": null,
   "metadata": {},
   "outputs": [],
   "source": [
    "for i in range(0,250):\n",
    "    \n",
    "    if (check_exists_by_xpath(\"//span[@class='_3maEfNCR']\")):\n",
    "        driver.find_element_by_xpath(\"//span[@class='_3maEfNCR']\").click()\n",
    "        time.sleep(5)\n",
    "\n",
    "    container = driver.find_elements_by_xpath(\"//div[@class='Dq9MAugU T870kzTX LnVzGwUB']\")\n",
    "    num_page_items = len(container);\n",
    "\n",
    "    for j in range(num_page_items):\n",
    "        # save the ratting\n",
    "        string = container[j].find_element_by_xpath(\n",
    "            \".//span[contains(@class, 'ui_bubble_rating bubble_')]\").get_attribute(\"class\")\n",
    "        data = string.split(\"_\")\n",
    "        # to save in a csv file in this format \n",
    "        csvWriter.writerow(\n",
    "            [data[3], container[j].find_element_by_xpath(\".//q[@class='IRsGHoPm']\").text.replace(\"\\n\", \"\"), \"The Venetian Column\"])\n",
    "\n",
    "    # click next page\n",
    "    if (check_exists_by_xpath('//a[@class=\"ui_button nav next primary \"]')):\n",
    "        driver.find_element_by_xpath('//a[@class=\"ui_button nav next primary \"]').click()\n",
    "    time.sleep(10)\n",
    "\n",
    "driver.close()"
   ]
  }
 ],
 "metadata": {
  "kernelspec": {
   "display_name": "Python 3",
   "language": "python",
   "name": "python3"
  },
  "language_info": {
   "codemirror_mode": {
    "name": "ipython",
    "version": 3
   },
   "file_extension": ".py",
   "mimetype": "text/x-python",
   "name": "python",
   "nbconvert_exporter": "python",
   "pygments_lexer": "ipython3",
   "version": "3.7.4"
  }
 },
 "nbformat": 4,
 "nbformat_minor": 2
}
