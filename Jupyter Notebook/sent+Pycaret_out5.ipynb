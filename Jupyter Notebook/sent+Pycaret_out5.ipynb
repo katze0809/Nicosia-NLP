{
 "cells": [
  {
   "cell_type": "code",
   "execution_count": 1,
   "metadata": {},
   "outputs": [],
   "source": [
    "import pandas as pd"
   ]
  },
  {
   "cell_type": "code",
   "execution_count": 2,
   "metadata": {},
   "outputs": [
    {
     "data": {
      "text/html": [
       "<div>\n",
       "<style scoped>\n",
       "    .dataframe tbody tr th:only-of-type {\n",
       "        vertical-align: middle;\n",
       "    }\n",
       "\n",
       "    .dataframe tbody tr th {\n",
       "        vertical-align: top;\n",
       "    }\n",
       "\n",
       "    .dataframe thead th {\n",
       "        text-align: right;\n",
       "    }\n",
       "</style>\n",
       "<table border=\"1\" class=\"dataframe\">\n",
       "  <thead>\n",
       "    <tr style=\"text-align: right;\">\n",
       "      <th></th>\n",
       "      <th>r_points</th>\n",
       "      <th>r_text</th>\n",
       "      <th>place</th>\n",
       "    </tr>\n",
       "  </thead>\n",
       "  <tbody>\n",
       "    <tr>\n",
       "      <th>0</th>\n",
       "      <td>50</td>\n",
       "      <td>We went to Louis tavern for our Tsiknopempti d...</td>\n",
       "      <td>Louis Tavern &amp; Restaurant</td>\n",
       "    </tr>\n",
       "    <tr>\n",
       "      <th>1</th>\n",
       "      <td>50</td>\n",
       "      <td>I have not ate this good in a long time. Wide ...</td>\n",
       "      <td>Louis Tavern &amp; Restaurant</td>\n",
       "    </tr>\n",
       "    <tr>\n",
       "      <th>2</th>\n",
       "      <td>50</td>\n",
       "      <td>Went last night for the first time after it wa...</td>\n",
       "      <td>Louis Tavern &amp; Restaurant</td>\n",
       "    </tr>\n",
       "    <tr>\n",
       "      <th>3</th>\n",
       "      <td>40</td>\n",
       "      <td>We went to Louis with a group a friends. The f...</td>\n",
       "      <td>Louis Tavern &amp; Restaurant</td>\n",
       "    </tr>\n",
       "    <tr>\n",
       "      <th>4</th>\n",
       "      <td>50</td>\n",
       "      <td>My husband and I visited this restaurant after...</td>\n",
       "      <td>Louis Tavern &amp; Restaurant</td>\n",
       "    </tr>\n",
       "    <tr>\n",
       "      <th>...</th>\n",
       "      <td>...</td>\n",
       "      <td>...</td>\n",
       "      <td>...</td>\n",
       "    </tr>\n",
       "    <tr>\n",
       "      <th>108</th>\n",
       "      <td>50</td>\n",
       "      <td>If one wants to have one of the best quality m...</td>\n",
       "      <td>Louis Tavern &amp; Restaurant</td>\n",
       "    </tr>\n",
       "    <tr>\n",
       "      <th>109</th>\n",
       "      <td>50</td>\n",
       "      <td>I have been to this restaurant many times in t...</td>\n",
       "      <td>Louis Tavern &amp; Restaurant</td>\n",
       "    </tr>\n",
       "    <tr>\n",
       "      <th>110</th>\n",
       "      <td>50</td>\n",
       "      <td>A touch of Cyprus at its best, a cypriot meze ...</td>\n",
       "      <td>Louis Tavern &amp; Restaurant</td>\n",
       "    </tr>\n",
       "    <tr>\n",
       "      <th>111</th>\n",
       "      <td>50</td>\n",
       "      <td>i have to say that this is the best (meat) mez...</td>\n",
       "      <td>Louis Tavern &amp; Restaurant</td>\n",
       "    </tr>\n",
       "    <tr>\n",
       "      <th>112</th>\n",
       "      <td>50</td>\n",
       "      <td>This is a Cypriot meze taverna with great food...</td>\n",
       "      <td>Louis Tavern &amp; Restaurant</td>\n",
       "    </tr>\n",
       "  </tbody>\n",
       "</table>\n",
       "<p>113 rows × 3 columns</p>\n",
       "</div>"
      ],
      "text/plain": [
       "     r_points                                             r_text  \\\n",
       "0          50  We went to Louis tavern for our Tsiknopempti d...   \n",
       "1          50  I have not ate this good in a long time. Wide ...   \n",
       "2          50  Went last night for the first time after it wa...   \n",
       "3          40  We went to Louis with a group a friends. The f...   \n",
       "4          50  My husband and I visited this restaurant after...   \n",
       "..        ...                                                ...   \n",
       "108        50  If one wants to have one of the best quality m...   \n",
       "109        50  I have been to this restaurant many times in t...   \n",
       "110        50  A touch of Cyprus at its best, a cypriot meze ...   \n",
       "111        50  i have to say that this is the best (meat) mez...   \n",
       "112        50  This is a Cypriot meze taverna with great food...   \n",
       "\n",
       "                         place  \n",
       "0    Louis Tavern & Restaurant  \n",
       "1    Louis Tavern & Restaurant  \n",
       "2    Louis Tavern & Restaurant  \n",
       "3    Louis Tavern & Restaurant  \n",
       "4    Louis Tavern & Restaurant  \n",
       "..                         ...  \n",
       "108  Louis Tavern & Restaurant  \n",
       "109  Louis Tavern & Restaurant  \n",
       "110  Louis Tavern & Restaurant  \n",
       "111  Louis Tavern & Restaurant  \n",
       "112  Louis Tavern & Restaurant  \n",
       "\n",
       "[113 rows x 3 columns]"
      ]
     },
     "execution_count": 2,
     "metadata": {},
     "output_type": "execute_result"
    }
   ],
   "source": [
    "tripadv_review = pd.read_csv(r'C:\\Users\\Dell\\Desktop\\Restaurant\\Louis Tavern & Restaurant.csv', error_bad_lines=False);\n",
    "tripadv_review"
   ]
  },
  {
   "cell_type": "code",
   "execution_count": 3,
   "metadata": {},
   "outputs": [
    {
     "name": "stderr",
     "output_type": "stream",
     "text": [
      "[nltk_data] Downloading package vader_lexicon to\n",
      "[nltk_data]     C:\\Users\\Dell\\AppData\\Roaming\\nltk_data...\n",
      "[nltk_data]   Package vader_lexicon is already up-to-date!\n"
     ]
    }
   ],
   "source": [
    "import nltk\n",
    "nltk.download('vader_lexicon')\n",
    "from nltk.sentiment.vader import SentimentIntensityAnalyzer\n",
    "sent = SentimentIntensityAnalyzer()"
   ]
  },
  {
   "cell_type": "code",
   "execution_count": 4,
   "metadata": {},
   "outputs": [
    {
     "data": {
      "text/plain": [
       "{'neg': 0.0, 'neu': 0.662, 'pos': 0.338, 'compound': 0.9905}"
      ]
     },
     "execution_count": 4,
     "metadata": {},
     "output_type": "execute_result"
    }
   ],
   "source": [
    "sent.polarity_scores(tripadv_review.iloc[0]['r_text'])"
   ]
  },
  {
   "cell_type": "code",
   "execution_count": 6,
   "metadata": {},
   "outputs": [
    {
     "data": {
      "text/html": [
       "<div>\n",
       "<style scoped>\n",
       "    .dataframe tbody tr th:only-of-type {\n",
       "        vertical-align: middle;\n",
       "    }\n",
       "\n",
       "    .dataframe tbody tr th {\n",
       "        vertical-align: top;\n",
       "    }\n",
       "\n",
       "    .dataframe thead th {\n",
       "        text-align: right;\n",
       "    }\n",
       "</style>\n",
       "<table border=\"1\" class=\"dataframe\">\n",
       "  <thead>\n",
       "    <tr style=\"text-align: right;\">\n",
       "      <th></th>\n",
       "      <th>r_points</th>\n",
       "      <th>r_text</th>\n",
       "      <th>place</th>\n",
       "      <th>scores</th>\n",
       "      <th>compound</th>\n",
       "      <th>score</th>\n",
       "    </tr>\n",
       "  </thead>\n",
       "  <tbody>\n",
       "    <tr>\n",
       "      <th>0</th>\n",
       "      <td>50</td>\n",
       "      <td>We went to Louis tavern for our Tsiknopempti d...</td>\n",
       "      <td>Louis Tavern &amp; Restaurant</td>\n",
       "      <td>{'neg': 0.0, 'neu': 0.662, 'pos': 0.338, 'comp...</td>\n",
       "      <td>0.9905</td>\n",
       "      <td>pos</td>\n",
       "    </tr>\n",
       "    <tr>\n",
       "      <th>1</th>\n",
       "      <td>50</td>\n",
       "      <td>I have not ate this good in a long time. Wide ...</td>\n",
       "      <td>Louis Tavern &amp; Restaurant</td>\n",
       "      <td>{'neg': 0.0, 'neu': 0.746, 'pos': 0.254, 'comp...</td>\n",
       "      <td>0.8164</td>\n",
       "      <td>pos</td>\n",
       "    </tr>\n",
       "    <tr>\n",
       "      <th>2</th>\n",
       "      <td>50</td>\n",
       "      <td>Went last night for the first time after it wa...</td>\n",
       "      <td>Louis Tavern &amp; Restaurant</td>\n",
       "      <td>{'neg': 0.085, 'neu': 0.676, 'pos': 0.24, 'com...</td>\n",
       "      <td>0.9780</td>\n",
       "      <td>pos</td>\n",
       "    </tr>\n",
       "    <tr>\n",
       "      <th>3</th>\n",
       "      <td>40</td>\n",
       "      <td>We went to Louis with a group a friends. The f...</td>\n",
       "      <td>Louis Tavern &amp; Restaurant</td>\n",
       "      <td>{'neg': 0.0, 'neu': 0.789, 'pos': 0.211, 'comp...</td>\n",
       "      <td>0.8791</td>\n",
       "      <td>pos</td>\n",
       "    </tr>\n",
       "    <tr>\n",
       "      <th>4</th>\n",
       "      <td>50</td>\n",
       "      <td>My husband and I visited this restaurant after...</td>\n",
       "      <td>Louis Tavern &amp; Restaurant</td>\n",
       "      <td>{'neg': 0.022, 'neu': 0.735, 'pos': 0.243, 'co...</td>\n",
       "      <td>0.9727</td>\n",
       "      <td>pos</td>\n",
       "    </tr>\n",
       "  </tbody>\n",
       "</table>\n",
       "</div>"
      ],
      "text/plain": [
       "   r_points                                             r_text  \\\n",
       "0        50  We went to Louis tavern for our Tsiknopempti d...   \n",
       "1        50  I have not ate this good in a long time. Wide ...   \n",
       "2        50  Went last night for the first time after it wa...   \n",
       "3        40  We went to Louis with a group a friends. The f...   \n",
       "4        50  My husband and I visited this restaurant after...   \n",
       "\n",
       "                       place  \\\n",
       "0  Louis Tavern & Restaurant   \n",
       "1  Louis Tavern & Restaurant   \n",
       "2  Louis Tavern & Restaurant   \n",
       "3  Louis Tavern & Restaurant   \n",
       "4  Louis Tavern & Restaurant   \n",
       "\n",
       "                                              scores  compound score  \n",
       "0  {'neg': 0.0, 'neu': 0.662, 'pos': 0.338, 'comp...    0.9905   pos  \n",
       "1  {'neg': 0.0, 'neu': 0.746, 'pos': 0.254, 'comp...    0.8164   pos  \n",
       "2  {'neg': 0.085, 'neu': 0.676, 'pos': 0.24, 'com...    0.9780   pos  \n",
       "3  {'neg': 0.0, 'neu': 0.789, 'pos': 0.211, 'comp...    0.8791   pos  \n",
       "4  {'neg': 0.022, 'neu': 0.735, 'pos': 0.243, 'co...    0.9727   pos  "
      ]
     },
     "execution_count": 6,
     "metadata": {},
     "output_type": "execute_result"
    }
   ],
   "source": [
    "tripadv_review['scores'] = tripadv_review['r_text'].apply(lambda review:sent.polarity_scores(review))\n",
    "tripadv_review['compound'] = tripadv_review['scores'].apply(lambda d:d['compound'])\n",
    "tripadv_review['score'] = tripadv_review['compound'].apply(lambda score: 'pos' if score >=0 else 'neg')\n",
    "tripadv_review.head()"
   ]
  },
  {
   "cell_type": "code",
   "execution_count": 7,
   "metadata": {},
   "outputs": [],
   "source": [
    "tripadv_review.to_csv(r'C:\\Users\\Dell\\Desktop\\sentiment_out5.csv')"
   ]
  },
  {
   "cell_type": "code",
   "execution_count": 8,
   "metadata": {},
   "outputs": [],
   "source": [
    "pos_rev=tripadv_review[(tripadv_review['score'] .str.contains('pos'))]\n",
    "pos_rev.to_csv(r'C:\\Users\\Dell\\Desktop\\sentiment_out5_pos.csv')\n",
    "neg_rev=tripadv_review[(tripadv_review['score'] .str.contains('neg'))]\n",
    "neg_rev.to_csv(r'C:\\Users\\Dell\\Desktop\\sentiment_out5_neg.csv')"
   ]
  },
  {
   "cell_type": "code",
   "execution_count": 9,
   "metadata": {},
   "outputs": [],
   "source": [
    "pos_review_imp= pd.read_csv(r'C:\\Users\\Dell\\Desktop\\sentiment_out5_pos.csv')\n",
    "neg_review_imp = pd.read_csv(r'C:\\Users\\Dell\\Desktop\\sentiment_out5_neg.csv')"
   ]
  },
  {
   "cell_type": "code",
   "execution_count": 10,
   "metadata": {},
   "outputs": [],
   "source": [
    "from pycaret.nlp import *"
   ]
  },
  {
   "cell_type": "code",
   "execution_count": 11,
   "metadata": {},
   "outputs": [
    {
     "data": {
      "text/html": [
       "<style  type=\"text/css\" >\n",
       "</style><table id=\"T_a37e192c_3012_11eb_bce0_c48e8ff9d2e0\" ><thead>    <tr>        <th class=\"col_heading level0 col0\" >Description</th>        <th class=\"col_heading level0 col1\" >Value</th>    </tr></thead><tbody>\n",
       "                <tr>\n",
       "                                <td id=\"T_a37e192c_3012_11eb_bce0_c48e8ff9d2e0row0_col0\" class=\"data row0 col0\" >session_id</td>\n",
       "                        <td id=\"T_a37e192c_3012_11eb_bce0_c48e8ff9d2e0row0_col1\" class=\"data row0 col1\" >633</td>\n",
       "            </tr>\n",
       "            <tr>\n",
       "                                <td id=\"T_a37e192c_3012_11eb_bce0_c48e8ff9d2e0row1_col0\" class=\"data row1 col0\" >Documents</td>\n",
       "                        <td id=\"T_a37e192c_3012_11eb_bce0_c48e8ff9d2e0row1_col1\" class=\"data row1 col1\" >110</td>\n",
       "            </tr>\n",
       "            <tr>\n",
       "                                <td id=\"T_a37e192c_3012_11eb_bce0_c48e8ff9d2e0row2_col0\" class=\"data row2 col0\" >Vocab Size</td>\n",
       "                        <td id=\"T_a37e192c_3012_11eb_bce0_c48e8ff9d2e0row2_col1\" class=\"data row2 col1\" >996</td>\n",
       "            </tr>\n",
       "            <tr>\n",
       "                                <td id=\"T_a37e192c_3012_11eb_bce0_c48e8ff9d2e0row3_col0\" class=\"data row3 col0\" >Custom Stopwords</td>\n",
       "                        <td id=\"T_a37e192c_3012_11eb_bce0_c48e8ff9d2e0row3_col1\" class=\"data row3 col1\" >True</td>\n",
       "            </tr>\n",
       "    </tbody></table>"
      ],
      "text/plain": [
       "<pandas.io.formats.style.Styler at 0x284cbe1e948>"
      ]
     },
     "metadata": {},
     "output_type": "display_data"
    }
   ],
   "source": [
    "exp_nlp = setup(data = pos_review_imp, target = 'r_text',\n",
    "                custom_stopwords = [ 'hotel', 'room', 'nice', 'good', 'excellent','restaurant', 'food'])"
   ]
  },
  {
   "cell_type": "code",
   "execution_count": 12,
   "metadata": {},
   "outputs": [
    {
     "name": "stdout",
     "output_type": "stream",
     "text": [
      "LdaModel(num_terms=996, num_topics=4, decay=0.5, chunksize=100)\n"
     ]
    }
   ],
   "source": [
    "#create an LDA model\n",
    "lda_pos_custom = create_model('lda')\n",
    "print(lda_pos_custom)"
   ]
  },
  {
   "cell_type": "code",
   "execution_count": 13,
   "metadata": {},
   "outputs": [
    {
     "data": {
      "text/html": [
       "<div>\n",
       "<style scoped>\n",
       "    .dataframe tbody tr th:only-of-type {\n",
       "        vertical-align: middle;\n",
       "    }\n",
       "\n",
       "    .dataframe tbody tr th {\n",
       "        vertical-align: top;\n",
       "    }\n",
       "\n",
       "    .dataframe thead th {\n",
       "        text-align: right;\n",
       "    }\n",
       "</style>\n",
       "<table border=\"1\" class=\"dataframe\">\n",
       "  <thead>\n",
       "    <tr style=\"text-align: right;\">\n",
       "      <th></th>\n",
       "      <th>Unnamed: 0</th>\n",
       "      <th>r_points</th>\n",
       "      <th>r_text</th>\n",
       "      <th>place</th>\n",
       "      <th>scores</th>\n",
       "      <th>compound</th>\n",
       "      <th>score</th>\n",
       "      <th>Topic_0</th>\n",
       "      <th>Topic_1</th>\n",
       "      <th>Topic_2</th>\n",
       "      <th>Topic_3</th>\n",
       "      <th>Dominant_Topic</th>\n",
       "      <th>Perc_Dominant_Topic</th>\n",
       "    </tr>\n",
       "  </thead>\n",
       "  <tbody>\n",
       "    <tr>\n",
       "      <th>0</th>\n",
       "      <td>0</td>\n",
       "      <td>50</td>\n",
       "      <td>go dinner greet warm welcome lovingly decorate...</td>\n",
       "      <td>Louis Tavern &amp; Restaurant</td>\n",
       "      <td>{'neg': 0.0, 'neu': 0.662, 'pos': 0.338, 'comp...</td>\n",
       "      <td>0.9905</td>\n",
       "      <td>pos</td>\n",
       "      <td>0.163451</td>\n",
       "      <td>0.371420</td>\n",
       "      <td>0.002110</td>\n",
       "      <td>0.463018</td>\n",
       "      <td>Topic 3</td>\n",
       "      <td>0.46</td>\n",
       "    </tr>\n",
       "    <tr>\n",
       "      <th>1</th>\n",
       "      <td>1</td>\n",
       "      <td>50</td>\n",
       "      <td>eat long time wide variety vegetarian option g...</td>\n",
       "      <td>Louis Tavern &amp; Restaurant</td>\n",
       "      <td>{'neg': 0.0, 'neu': 0.746, 'pos': 0.254, 'comp...</td>\n",
       "      <td>0.8164</td>\n",
       "      <td>pos</td>\n",
       "      <td>0.190627</td>\n",
       "      <td>0.800870</td>\n",
       "      <td>0.005193</td>\n",
       "      <td>0.003310</td>\n",
       "      <td>Topic 1</td>\n",
       "      <td>0.80</td>\n",
       "    </tr>\n",
       "    <tr>\n",
       "      <th>2</th>\n",
       "      <td>2</td>\n",
       "      <td>50</td>\n",
       "      <td>go last night first time recommend couple time...</td>\n",
       "      <td>Louis Tavern &amp; Restaurant</td>\n",
       "      <td>{'neg': 0.085, 'neu': 0.676, 'pos': 0.24, 'com...</td>\n",
       "      <td>0.9780</td>\n",
       "      <td>pos</td>\n",
       "      <td>0.361116</td>\n",
       "      <td>0.312675</td>\n",
       "      <td>0.001399</td>\n",
       "      <td>0.324811</td>\n",
       "      <td>Topic 0</td>\n",
       "      <td>0.36</td>\n",
       "    </tr>\n",
       "    <tr>\n",
       "      <th>3</th>\n",
       "      <td>3</td>\n",
       "      <td>40</td>\n",
       "      <td>go friend really variety meat base tavern endl...</td>\n",
       "      <td>Louis Tavern &amp; Restaurant</td>\n",
       "      <td>{'neg': 0.0, 'neu': 0.789, 'pos': 0.211, 'comp...</td>\n",
       "      <td>0.8791</td>\n",
       "      <td>pos</td>\n",
       "      <td>0.009839</td>\n",
       "      <td>0.447621</td>\n",
       "      <td>0.425382</td>\n",
       "      <td>0.117157</td>\n",
       "      <td>Topic 1</td>\n",
       "      <td>0.45</td>\n",
       "    </tr>\n",
       "    <tr>\n",
       "      <th>4</th>\n",
       "      <td>4</td>\n",
       "      <td>50</td>\n",
       "      <td>visit reading review trip arrival escort outdo...</td>\n",
       "      <td>Louis Tavern &amp; Restaurant</td>\n",
       "      <td>{'neg': 0.022, 'neu': 0.735, 'pos': 0.243, 'co...</td>\n",
       "      <td>0.9727</td>\n",
       "      <td>pos</td>\n",
       "      <td>0.292083</td>\n",
       "      <td>0.002735</td>\n",
       "      <td>0.002631</td>\n",
       "      <td>0.702552</td>\n",
       "      <td>Topic 3</td>\n",
       "      <td>0.70</td>\n",
       "    </tr>\n",
       "    <tr>\n",
       "      <th>...</th>\n",
       "      <td>...</td>\n",
       "      <td>...</td>\n",
       "      <td>...</td>\n",
       "      <td>...</td>\n",
       "      <td>...</td>\n",
       "      <td>...</td>\n",
       "      <td>...</td>\n",
       "      <td>...</td>\n",
       "      <td>...</td>\n",
       "      <td>...</td>\n",
       "      <td>...</td>\n",
       "      <td>...</td>\n",
       "      <td>...</td>\n",
       "    </tr>\n",
       "    <tr>\n",
       "      <th>105</th>\n",
       "      <td>108</td>\n",
       "      <td>50</td>\n",
       "      <td>want quality town definitely top ranking visit...</td>\n",
       "      <td>Louis Tavern &amp; Restaurant</td>\n",
       "      <td>{'neg': 0.0, 'neu': 0.706, 'pos': 0.294, 'comp...</td>\n",
       "      <td>0.9893</td>\n",
       "      <td>pos</td>\n",
       "      <td>0.994507</td>\n",
       "      <td>0.002133</td>\n",
       "      <td>0.002052</td>\n",
       "      <td>0.001308</td>\n",
       "      <td>Topic 0</td>\n",
       "      <td>0.99</td>\n",
       "    </tr>\n",
       "    <tr>\n",
       "      <th>106</th>\n",
       "      <td>109</td>\n",
       "      <td>50</td>\n",
       "      <td>many time really know keep standard tavern fam...</td>\n",
       "      <td>Louis Tavern &amp; Restaurant</td>\n",
       "      <td>{'neg': 0.0, 'neu': 0.813, 'pos': 0.187, 'comp...</td>\n",
       "      <td>0.9677</td>\n",
       "      <td>pos</td>\n",
       "      <td>0.994793</td>\n",
       "      <td>0.002022</td>\n",
       "      <td>0.001945</td>\n",
       "      <td>0.001240</td>\n",
       "      <td>Topic 0</td>\n",
       "      <td>0.99</td>\n",
       "    </tr>\n",
       "    <tr>\n",
       "      <th>107</th>\n",
       "      <td>110</td>\n",
       "      <td>50</td>\n",
       "      <td>cypriot make go back tick box lovely evening f...</td>\n",
       "      <td>Louis Tavern &amp; Restaurant</td>\n",
       "      <td>{'neg': 0.024, 'neu': 0.833, 'pos': 0.143, 'co...</td>\n",
       "      <td>0.9217</td>\n",
       "      <td>pos</td>\n",
       "      <td>0.993829</td>\n",
       "      <td>0.002396</td>\n",
       "      <td>0.002305</td>\n",
       "      <td>0.001470</td>\n",
       "      <td>Topic 0</td>\n",
       "      <td>0.99</td>\n",
       "    </tr>\n",
       "    <tr>\n",
       "      <th>108</th>\n",
       "      <td>111</td>\n",
       "      <td>50</td>\n",
       "      <td>say live frequently travel go tavern friend re...</td>\n",
       "      <td>Louis Tavern &amp; Restaurant</td>\n",
       "      <td>{'neg': 0.044, 'neu': 0.844, 'pos': 0.113, 'co...</td>\n",
       "      <td>0.9731</td>\n",
       "      <td>pos</td>\n",
       "      <td>0.001937</td>\n",
       "      <td>0.000840</td>\n",
       "      <td>0.996708</td>\n",
       "      <td>0.000515</td>\n",
       "      <td>Topic 2</td>\n",
       "      <td>1.00</td>\n",
       "    </tr>\n",
       "    <tr>\n",
       "      <th>109</th>\n",
       "      <td>112</td>\n",
       "      <td>50</td>\n",
       "      <td>great mushroom alone worth go ensure welcome w...</td>\n",
       "      <td>Louis Tavern &amp; Restaurant</td>\n",
       "      <td>{'neg': 0.036, 'neu': 0.709, 'pos': 0.256, 'co...</td>\n",
       "      <td>0.9775</td>\n",
       "      <td>pos</td>\n",
       "      <td>0.649370</td>\n",
       "      <td>0.001970</td>\n",
       "      <td>0.347451</td>\n",
       "      <td>0.001208</td>\n",
       "      <td>Topic 0</td>\n",
       "      <td>0.65</td>\n",
       "    </tr>\n",
       "  </tbody>\n",
       "</table>\n",
       "<p>110 rows × 13 columns</p>\n",
       "</div>"
      ],
      "text/plain": [
       "     Unnamed: 0  r_points                                             r_text  \\\n",
       "0             0        50  go dinner greet warm welcome lovingly decorate...   \n",
       "1             1        50  eat long time wide variety vegetarian option g...   \n",
       "2             2        50  go last night first time recommend couple time...   \n",
       "3             3        40  go friend really variety meat base tavern endl...   \n",
       "4             4        50  visit reading review trip arrival escort outdo...   \n",
       "..          ...       ...                                                ...   \n",
       "105         108        50  want quality town definitely top ranking visit...   \n",
       "106         109        50  many time really know keep standard tavern fam...   \n",
       "107         110        50  cypriot make go back tick box lovely evening f...   \n",
       "108         111        50  say live frequently travel go tavern friend re...   \n",
       "109         112        50  great mushroom alone worth go ensure welcome w...   \n",
       "\n",
       "                         place  \\\n",
       "0    Louis Tavern & Restaurant   \n",
       "1    Louis Tavern & Restaurant   \n",
       "2    Louis Tavern & Restaurant   \n",
       "3    Louis Tavern & Restaurant   \n",
       "4    Louis Tavern & Restaurant   \n",
       "..                         ...   \n",
       "105  Louis Tavern & Restaurant   \n",
       "106  Louis Tavern & Restaurant   \n",
       "107  Louis Tavern & Restaurant   \n",
       "108  Louis Tavern & Restaurant   \n",
       "109  Louis Tavern & Restaurant   \n",
       "\n",
       "                                                scores  compound score  \\\n",
       "0    {'neg': 0.0, 'neu': 0.662, 'pos': 0.338, 'comp...    0.9905   pos   \n",
       "1    {'neg': 0.0, 'neu': 0.746, 'pos': 0.254, 'comp...    0.8164   pos   \n",
       "2    {'neg': 0.085, 'neu': 0.676, 'pos': 0.24, 'com...    0.9780   pos   \n",
       "3    {'neg': 0.0, 'neu': 0.789, 'pos': 0.211, 'comp...    0.8791   pos   \n",
       "4    {'neg': 0.022, 'neu': 0.735, 'pos': 0.243, 'co...    0.9727   pos   \n",
       "..                                                 ...       ...   ...   \n",
       "105  {'neg': 0.0, 'neu': 0.706, 'pos': 0.294, 'comp...    0.9893   pos   \n",
       "106  {'neg': 0.0, 'neu': 0.813, 'pos': 0.187, 'comp...    0.9677   pos   \n",
       "107  {'neg': 0.024, 'neu': 0.833, 'pos': 0.143, 'co...    0.9217   pos   \n",
       "108  {'neg': 0.044, 'neu': 0.844, 'pos': 0.113, 'co...    0.9731   pos   \n",
       "109  {'neg': 0.036, 'neu': 0.709, 'pos': 0.256, 'co...    0.9775   pos   \n",
       "\n",
       "      Topic_0   Topic_1   Topic_2   Topic_3 Dominant_Topic  \\\n",
       "0    0.163451  0.371420  0.002110  0.463018        Topic 3   \n",
       "1    0.190627  0.800870  0.005193  0.003310        Topic 1   \n",
       "2    0.361116  0.312675  0.001399  0.324811        Topic 0   \n",
       "3    0.009839  0.447621  0.425382  0.117157        Topic 1   \n",
       "4    0.292083  0.002735  0.002631  0.702552        Topic 3   \n",
       "..        ...       ...       ...       ...            ...   \n",
       "105  0.994507  0.002133  0.002052  0.001308        Topic 0   \n",
       "106  0.994793  0.002022  0.001945  0.001240        Topic 0   \n",
       "107  0.993829  0.002396  0.002305  0.001470        Topic 0   \n",
       "108  0.001937  0.000840  0.996708  0.000515        Topic 2   \n",
       "109  0.649370  0.001970  0.347451  0.001208        Topic 0   \n",
       "\n",
       "     Perc_Dominant_Topic  \n",
       "0                   0.46  \n",
       "1                   0.80  \n",
       "2                   0.36  \n",
       "3                   0.45  \n",
       "4                   0.70  \n",
       "..                   ...  \n",
       "105                 0.99  \n",
       "106                 0.99  \n",
       "107                 0.99  \n",
       "108                 1.00  \n",
       "109                 0.65  \n",
       "\n",
       "[110 rows x 13 columns]"
      ]
     },
     "execution_count": 13,
     "metadata": {},
     "output_type": "execute_result"
    }
   ],
   "source": [
    "apply_lda_pos = assign_model(lda_pos_custom)\n",
    "apply_lda_pos"
   ]
  },
  {
   "cell_type": "code",
   "execution_count": 14,
   "metadata": {},
   "outputs": [
    {
     "data": {
      "application/vnd.jupyter.widget-view+json": {
       "model_id": "d83fe3cdda074e0a8d8cfdbc74e6bd82",
       "version_major": 2,
       "version_minor": 0
      },
      "text/plain": [
       "interactive(children=(ToggleButtons(description='Plot Type:', icons=('',), options=(('Frequency Plot', 'freque…"
      ]
     },
     "metadata": {},
     "output_type": "display_data"
    }
   ],
   "source": [
    "evaluate_model(lda_pos_custom)"
   ]
  },
  {
   "cell_type": "code",
   "execution_count": 15,
   "metadata": {},
   "outputs": [
    {
     "data": {
      "text/html": [
       "        <script type=\"text/javascript\">\n",
       "        window.PlotlyConfig = {MathJaxConfig: 'local'};\n",
       "        if (window.MathJax) {MathJax.Hub.Config({SVG: {font: \"STIX-Web\"}});}\n",
       "        if (typeof require !== 'undefined') {\n",
       "        require.undef(\"plotly\");\n",
       "        requirejs.config({\n",
       "            paths: {\n",
       "                'plotly': ['https://cdn.plot.ly/plotly-latest.min']\n",
       "            }\n",
       "        });\n",
       "        require(['plotly'], function(Plotly) {\n",
       "            window._Plotly = Plotly;\n",
       "        });\n",
       "        }\n",
       "        </script>\n",
       "        "
      ]
     },
     "metadata": {},
     "output_type": "display_data"
    },
    {
     "data": {
      "text/html": [
       "\n",
       "<link rel=\"stylesheet\" type=\"text/css\" href=\"https://cdn.rawgit.com/bmabey/pyLDAvis/files/ldavis.v1.0.0.css\">\n",
       "\n",
       "\n",
       "<div id=\"ldavis_el922427695285322963245899068\"></div>\n",
       "<script type=\"text/javascript\">\n",
       "\n",
       "var ldavis_el922427695285322963245899068_data = {\"mdsDat\": {\"x\": [-0.1269583890743184, -0.11472993269520548, 0.09973773275919061, 0.14195058901033328], \"y\": [-0.092991051251286, 0.1421084120079042, -0.1671731404545117, 0.11805577969789355], \"topics\": [1, 2, 3, 4], \"cluster\": [1, 1, 1, 1], \"Freq\": [39.129390716552734, 32.97170639038086, 15.777079582214355, 12.12182331085205]}, \"tinfo\": {\"Term\": [\"place\", \"go\", \"eat\", \"wine\", \"think\", \"home\", \"definitely\", \"back\", \"variety\", \"small\", \"friend\", \"charge\", \"dish\", \"service\", \"worth\", \"hospitality\", \"say\", \"great\", \"several\", \"occasion\", \"business\", \"stop\", \"overwhelmingly\", \"heartwarme\", \"indulge\", \"instance\", \"pleasure\", \"magnificant\", \"typical\", \"whenever\", \"variety\", \"appreciate\", \"taste\", \"salad\", \"sausage\", \"freshly\", \"receive\", \"next\", \"pay\", \"day\", \"butter\", \"fact\", \"truly\", \"crispy\", \"left\", \"husband\", \"refill\", \"pack\", \"hook\", \"feta\", \"daughter\", \"remember\", \"request\", \"tahini\", \"warmth\", \"burst\", \"traditionally\", \"hot\", \"son\", \"traditional\", \"fresh\", \"pork\", \"experience\", \"home\", \"leave\", \"dish\", \"serve\", \"also\", \"time\", \"visit\", \"enjoy\", \"make\", \"quality\", \"cypriot\", \"cook\", \"meat\", \"well\", \"real\", \"love\", \"really\", \"family\", \"delicious\", \"go\", \"want\", \"mushroom\", \"eat\", \"definitely\", \"back\", \"try\", \"always\", \"taverna\", \"plate\", \"get\", \"sit\", \"quantity\", \"cooked\", \"keep\", \"lovely\", \"still\", \"able\", \"winter\", \"selection\", \"plenty\", \"finish\", \"return\", \"best\", \"old\", \"favorite\", \"touch\", \"welcome\", \"frendly\", \"die\", \"space\", \"town\", \"ready\", \"friend\", \"soon\", \"warm\", \"nicosia\", \"great\", \"go\", \"meal\", \"place\", \"well\", \"visit\", \"cypriot\", \"quality\", \"mushroom\", \"really\", \"small\", \"want\", \"tavern\", \"time\", \"dish\", \"recommend\", \"serve\", \"never\", \"make\", \"stop\", \"pleasure\", \"overwhelmingly\", \"magnificant\", \"instance\", \"indulge\", \"heartwarme\", \"business\", \"several\", \"trip\", \"reasonable\", \"combine\", \"car\", \"little\", \"believe\", \"else\", \"wrong\", \"spend\", \"even\", \"review\", \"help\", \"nevertheless\", \"possible\", \"disturb\", \"kind\", \"kebab\", \"background\", \"rock\", \"reading\", \"slightly\", \"walk\", \"price\", \"occasion\", \"opinion\", \"whenever\", \"hospitality\", \"owner\", \"greek\", \"give\", \"typical\", \"feel\", \"tavern\", \"home\", \"road\", \"cypriot\", \"table\", \"atmosphere\", \"come\", \"service\", \"also\", \"include\", \"think\", \"drink\", \"red\", \"open\", \"special\", \"travel\", \"middle\", \"hospitable\", \"rip\", \"frequently\", \"thepork\", \"reccomende\", \"souvla\", \"slowly\", \"cava\", \"aproximately\", \"important\", \"mother\", \"notice\", \"outdoors\", \"pair\", \"improtant\", \"fake\", \"temperature\", \"chop\", \"lot\", \"simple\", \"worth\", \"thing\", \"attentive\", \"wine\", \"say\", \"place\", \"authentic\", \"go\", \"service\", \"charge\", \"small\", \"bit\", \"ask\", \"sure\", \"example\", \"friendly\", \"single\", \"bring\", \"live\", \"come\", \"extra\", \"dish\", \"make\", \"cypriot\", \"fire\", \"visit\", \"great\", \"serve\", \"meal\", \"tavern\", \"mushroom\", \"friend\"], \"Freq\": [37.0, 55.0, 22.0, 12.0, 8.0, 27.0, 16.0, 16.0, 19.0, 15.0, 21.0, 12.0, 56.0, 20.0, 7.0, 13.0, 9.0, 32.0, 7.0, 11.0, 7.0, 6.0, 6.0, 6.0, 6.0, 6.0, 6.0, 6.0, 14.0, 10.0, 19.1630802154541, 13.484233856201172, 13.06942367553711, 10.584383010864258, 9.257894515991211, 8.804658889770508, 7.9595627784729, 9.17487621307373, 8.33876895904541, 8.337172508239746, 7.515956878662109, 7.518067836761475, 8.295819282531738, 7.084072589874268, 7.082663059234619, 7.076975345611572, 6.644620895385742, 6.644620895385742, 6.644620895385742, 6.644620895385742, 6.644620895385742, 6.644620895385742, 6.644620895385742, 6.644620895385742, 6.644620895385742, 7.025545597076416, 7.015959739685059, 7.302257061004639, 7.260092258453369, 12.149547576904297, 15.004461288452148, 11.576972007751465, 15.658331871032715, 20.819944381713867, 8.599604606628418, 36.45254135131836, 28.43258285522461, 11.677506446838379, 19.480825424194336, 28.36253547668457, 10.942787170410156, 13.531096458435059, 13.974286079406738, 16.681472778320312, 10.814358711242676, 10.359562873840332, 12.804258346557617, 8.460691452026367, 9.504707336425781, 10.056465148925781, 9.774590492248535, 9.118291854858398, 10.351757049560547, 9.003480911254883, 9.111346244812012, 22.188846588134766, 15.993988990783691, 15.96921157836914, 11.923343658447266, 10.80392837524414, 9.136503219604492, 7.564053058624268, 6.9855523109436035, 10.022625923156738, 6.434638977050781, 6.688143730163574, 7.198492050170898, 5.886911392211914, 5.610469341278076, 8.611236572265625, 5.333586692810059, 5.559403419494629, 5.0532097816467285, 5.303146839141846, 5.041143417358398, 4.787853717803955, 4.786070346832275, 4.784804344177246, 4.783658504486084, 13.91517448425293, 4.5089287757873535, 4.50892972946167, 4.508735656738281, 4.508770942687988, 4.508770942687988, 17.141740798950195, 6.18857479095459, 6.876249313354492, 6.031775951385498, 23.16899871826172, 32.59062576293945, 11.164154052734375, 21.08493995666504, 17.904211044311523, 30.00352668762207, 18.724313735961914, 13.76800537109375, 12.006876945495605, 11.115297317504883, 8.976292610168457, 10.142484664916992, 11.99375057220459, 11.439435958862305, 13.384081840515137, 8.970312118530273, 9.984024047851562, 8.129349708557129, 8.582505226135254, 6.241523265838623, 6.241523265838623, 6.241523265838623, 6.241523265838623, 6.241523265838623, 6.241523265838623, 6.241523265838623, 6.548091411590576, 6.652429580688477, 2.494250774383545, 1.8694264888763428, 1.8640367984771729, 1.4606513977050781, 1.4549098014831543, 1.4495209455490112, 1.4491900205612183, 1.4073872566223145, 1.3986409902572632, 2.240806818008423, 3.7663583755493164, 1.0502550601959229, 1.0495058298110962, 1.050670862197876, 1.0498608350753784, 1.0497106313705444, 1.0489463806152344, 1.0482149124145508, 1.0477346181869507, 1.0479881763458252, 1.0470565557479858, 2.161200523376465, 5.273646831512451, 6.619006156921387, 1.8250765800476074, 6.239255428314209, 7.356882572174072, 6.214474201202393, 1.8489569425582886, 2.832920551300049, 6.5765790939331055, 7.966711044311523, 8.018861770629883, 6.596238613128662, 1.8706040382385254, 6.904713153839111, 2.1612436771392822, 2.3611724376678467, 2.7340378761291504, 2.6483559608459473, 2.3306186199188232, 1.9014248847961426, 8.273031234741211, 5.2033772468566895, 4.971088886260986, 2.9857587814331055, 2.9872453212738037, 2.668060541152954, 2.664916515350342, 2.5031638145446777, 2.5023117065429688, 2.5023117065429688, 2.5023117065429688, 2.5023117065429688, 2.5023117065429688, 2.5023117065429688, 2.5023117065429688, 2.5023117065429688, 2.5023117065429688, 2.5023117065429688, 2.5023117065429688, 2.5023117065429688, 2.5023117065429688, 2.5023117065429688, 2.633626699447632, 2.623089075088501, 2.609499216079712, 3.1404571533203125, 3.0394623279571533, 5.918603420257568, 2.96939754486084, 3.451045274734497, 7.938482284545898, 5.799415111541748, 15.059696197509766, 2.829564094543457, 12.125409126281738, 7.036570072174072, 5.295572757720947, 5.386214256286621, 2.7839250564575195, 2.955256223678589, 3.141026496887207, 2.870246171951294, 3.9696099758148193, 2.837768316268921, 3.1069633960723877, 4.087766170501709, 3.923809289932251, 2.902294874191284, 6.2878031730651855, 4.68865966796875, 5.236291408538818, 3.551678419113159, 4.017077445983887, 3.645226001739502, 3.5682950019836426, 3.237769365310669, 3.350921392440796, 3.2789528369903564, 3.234668016433716], \"Total\": [37.0, 55.0, 22.0, 12.0, 8.0, 27.0, 16.0, 16.0, 19.0, 15.0, 21.0, 12.0, 56.0, 20.0, 7.0, 13.0, 9.0, 32.0, 7.0, 11.0, 7.0, 6.0, 6.0, 6.0, 6.0, 6.0, 6.0, 6.0, 14.0, 10.0, 19.654964447021484, 13.963451385498047, 13.644414901733398, 11.066513061523438, 9.750484466552734, 9.303499221801758, 8.438660621643066, 9.73079776763916, 8.850704193115234, 8.85765266418457, 7.9976959228515625, 8.000276565551758, 8.839497566223145, 7.562572002410889, 7.562041282653809, 7.5582051277160645, 7.123875617980957, 7.123875617980957, 7.123875617980957, 7.123875617980957, 7.123875617980957, 7.123875617980957, 7.123875617980957, 7.123875617980957, 7.123875617980957, 7.541037082672119, 7.541701316833496, 7.92073392868042, 7.905388355255127, 13.310807228088379, 16.86480712890625, 13.123927116394043, 18.911888122558594, 27.66696548461914, 9.693228721618652, 56.46479034423828, 42.224037170410156, 14.928625106811523, 31.27329444885254, 62.66094970703125, 16.39371109008789, 27.052766799926758, 31.183557510375977, 47.54678726196289, 18.75430679321289, 18.2514591217041, 31.071250915527344, 11.328144073486328, 16.980920791625977, 22.366758346557617, 20.36278533935547, 17.680715560913086, 55.30998611450195, 19.477886199951172, 24.629831314086914, 22.944255828857422, 16.576414108276367, 16.579864501953125, 12.500518798828125, 11.382955551147461, 9.71097183227539, 8.149144172668457, 7.588016510009766, 10.932241439819336, 7.040125370025635, 7.3336334228515625, 7.914500713348389, 6.478926658630371, 6.197080612182617, 9.550084114074707, 5.9185075759887695, 6.191750526428223, 5.6303582191467285, 5.920078277587891, 5.6365180015563965, 5.355431079864502, 5.3564043045043945, 5.357097148895264, 5.35776948928833, 15.666531562805176, 5.076493263244629, 5.0764946937561035, 5.076420783996582, 5.076587677001953, 5.076587677001953, 21.502845764160156, 7.183035373687744, 8.090338706970215, 7.0215325355529785, 32.52903366088867, 55.30998611450195, 15.876215934753418, 37.36865997314453, 31.071250915527344, 62.66094970703125, 47.54678726196289, 31.183557510375977, 24.629831314086914, 22.366758346557617, 15.155484199523926, 19.477886199951172, 31.636144638061523, 31.27329444885254, 56.46479034423828, 18.075031280517578, 42.224037170410156, 16.94818878173828, 27.052766799926758, 6.735293388366699, 6.735293388366699, 6.735293388366699, 6.735293388366699, 6.735293388366699, 6.735293388366699, 6.735293388366699, 7.120965957641602, 7.425379276275635, 3.0918068885803223, 2.367645502090454, 2.3660807609558105, 1.9565528631210327, 1.9570063352584839, 1.9532852172851562, 1.956890344619751, 1.9280755519866943, 1.9595012664794922, 3.22062087059021, 5.512223243713379, 1.5457098484039307, 1.5448493957519531, 1.5465915203094482, 1.5455718040466309, 1.5455503463745117, 1.544684648513794, 1.5450420379638672, 1.5443854331970215, 1.5455057621002197, 1.5447478294372559, 3.202444314956665, 7.942553997039795, 11.209994316101074, 2.809213161468506, 10.808588027954102, 13.815105438232422, 11.573372840881348, 2.962693452835083, 5.029364109039307, 14.738273620605469, 19.965293884277344, 31.636144638061523, 27.66696548461914, 3.2424163818359375, 47.54678726196289, 4.503429889678955, 5.733028411865234, 10.619566917419434, 20.88483428955078, 14.928625106811523, 5.867884159088135, 8.994990348815918, 5.906103134155273, 5.8889570236206055, 3.639129877090454, 3.6456985473632812, 3.299776315689087, 3.3018996715545654, 3.1344351768493652, 3.135770082473755, 3.135770082473755, 3.135770082473755, 3.135770082473755, 3.135770082473755, 3.135770082473755, 3.135770082473755, 3.135770082473755, 3.135770082473755, 3.135770082473755, 3.135770082473755, 3.135770082473755, 3.135770082473755, 3.135770082473755, 3.3256237506866455, 3.3741164207458496, 3.3960981369018555, 4.101874351501465, 3.998950242996216, 7.815069198608398, 3.931340456008911, 4.632132530212402, 12.987831115722656, 9.41868782043457, 37.36865997314453, 3.905177116394043, 55.30998611450195, 20.88483428955078, 12.6051025390625, 15.155484199523926, 3.949880838394165, 4.497640609741211, 5.1424384117126465, 4.275790691375732, 9.84290885925293, 4.322417736053467, 5.491451263427734, 11.30789566040039, 10.619566917419434, 4.592339515686035, 56.46479034423828, 27.052766799926758, 47.54678726196289, 11.117276191711426, 62.66094970703125, 32.52903366088867, 42.224037170410156, 15.876215934753418, 31.636144638061523, 24.629831314086914, 21.502845764160156], \"Category\": [\"Default\", \"Default\", \"Default\", \"Default\", \"Default\", \"Default\", \"Default\", \"Default\", \"Default\", \"Default\", \"Default\", \"Default\", \"Default\", \"Default\", \"Default\", \"Default\", \"Default\", \"Default\", \"Default\", \"Default\", \"Default\", \"Default\", \"Default\", \"Default\", \"Default\", \"Default\", \"Default\", \"Default\", \"Default\", \"Default\", \"Topic1\", \"Topic1\", \"Topic1\", \"Topic1\", \"Topic1\", \"Topic1\", \"Topic1\", \"Topic1\", \"Topic1\", \"Topic1\", \"Topic1\", \"Topic1\", \"Topic1\", \"Topic1\", \"Topic1\", \"Topic1\", \"Topic1\", \"Topic1\", \"Topic1\", \"Topic1\", \"Topic1\", \"Topic1\", \"Topic1\", \"Topic1\", \"Topic1\", \"Topic1\", \"Topic1\", \"Topic1\", \"Topic1\", \"Topic1\", \"Topic1\", \"Topic1\", \"Topic1\", \"Topic1\", \"Topic1\", \"Topic1\", \"Topic1\", \"Topic1\", \"Topic1\", \"Topic1\", \"Topic1\", \"Topic1\", \"Topic1\", \"Topic1\", \"Topic1\", \"Topic1\", \"Topic1\", \"Topic1\", \"Topic1\", \"Topic1\", \"Topic1\", \"Topic1\", \"Topic1\", \"Topic1\", \"Topic1\", \"Topic2\", \"Topic2\", \"Topic2\", \"Topic2\", \"Topic2\", \"Topic2\", \"Topic2\", \"Topic2\", \"Topic2\", \"Topic2\", \"Topic2\", \"Topic2\", \"Topic2\", \"Topic2\", \"Topic2\", \"Topic2\", \"Topic2\", \"Topic2\", \"Topic2\", \"Topic2\", \"Topic2\", \"Topic2\", \"Topic2\", \"Topic2\", \"Topic2\", \"Topic2\", \"Topic2\", \"Topic2\", \"Topic2\", \"Topic2\", \"Topic2\", \"Topic2\", \"Topic2\", \"Topic2\", \"Topic2\", \"Topic2\", \"Topic2\", \"Topic2\", \"Topic2\", \"Topic2\", \"Topic2\", \"Topic2\", \"Topic2\", \"Topic2\", \"Topic2\", \"Topic2\", \"Topic2\", \"Topic2\", \"Topic2\", \"Topic2\", \"Topic2\", \"Topic2\", \"Topic2\", \"Topic3\", \"Topic3\", \"Topic3\", \"Topic3\", \"Topic3\", \"Topic3\", \"Topic3\", \"Topic3\", \"Topic3\", \"Topic3\", \"Topic3\", \"Topic3\", \"Topic3\", \"Topic3\", \"Topic3\", \"Topic3\", \"Topic3\", \"Topic3\", \"Topic3\", \"Topic3\", \"Topic3\", \"Topic3\", \"Topic3\", \"Topic3\", \"Topic3\", \"Topic3\", \"Topic3\", \"Topic3\", \"Topic3\", \"Topic3\", \"Topic3\", \"Topic3\", \"Topic3\", \"Topic3\", \"Topic3\", \"Topic3\", \"Topic3\", \"Topic3\", \"Topic3\", \"Topic3\", \"Topic3\", \"Topic3\", \"Topic3\", \"Topic3\", \"Topic3\", \"Topic3\", \"Topic3\", \"Topic3\", \"Topic3\", \"Topic3\", \"Topic3\", \"Topic4\", \"Topic4\", \"Topic4\", \"Topic4\", \"Topic4\", \"Topic4\", \"Topic4\", \"Topic4\", \"Topic4\", \"Topic4\", \"Topic4\", \"Topic4\", \"Topic4\", \"Topic4\", \"Topic4\", \"Topic4\", \"Topic4\", \"Topic4\", \"Topic4\", \"Topic4\", \"Topic4\", \"Topic4\", \"Topic4\", \"Topic4\", \"Topic4\", \"Topic4\", \"Topic4\", \"Topic4\", \"Topic4\", \"Topic4\", \"Topic4\", \"Topic4\", \"Topic4\", \"Topic4\", \"Topic4\", \"Topic4\", \"Topic4\", \"Topic4\", \"Topic4\", \"Topic4\", \"Topic4\", \"Topic4\", \"Topic4\", \"Topic4\", \"Topic4\", \"Topic4\", \"Topic4\", \"Topic4\", \"Topic4\", \"Topic4\", \"Topic4\", \"Topic4\", \"Topic4\", \"Topic4\", \"Topic4\", \"Topic4\", \"Topic4\", \"Topic4\", \"Topic4\"], \"logprob\": [30.0, 29.0, 28.0, 27.0, 26.0, 25.0, 24.0, 23.0, 22.0, 21.0, 20.0, 19.0, 18.0, 17.0, 16.0, 15.0, 14.0, 13.0, 12.0, 11.0, 10.0, 9.0, 8.0, 7.0, 6.0, 5.0, 4.0, 3.0, 2.0, 1.0, -4.261499881744385, -4.61299991607666, -4.644199848175049, -4.855100154876709, -4.988999843597412, -5.0391998291015625, -5.140100002288818, -4.998000144958496, -5.093599796295166, -5.093800067901611, -5.197400093078613, -5.197199821472168, -5.098700046539307, -5.2565999031066895, -5.256800174713135, -5.257599830627441, -5.320700168609619, -5.320700168609619, -5.320700168609619, -5.320700168609619, -5.320700168609619, -5.320700168609619, -5.320700168609619, -5.320700168609619, -5.320700168609619, -5.264900207519531, -5.266300201416016, -5.22629976272583, -5.232100009918213, -4.717199802398682, -4.506100177764893, -4.765500068664551, -4.463500022888184, -4.178599834442139, -5.06279993057251, -3.618499994277954, -3.8668999671936035, -4.756800174713135, -4.244999885559082, -3.8694000244140625, -4.821800231933594, -4.609499931335449, -4.577300071716309, -4.400199890136719, -4.833600044250488, -4.8765997886657715, -4.664700031280518, -5.078999996185303, -4.962699890136719, -4.906300067901611, -4.934700012207031, -5.004199981689453, -4.877299785614014, -5.016900062561035, -5.005000114440918, -3.943700075149536, -4.270999908447266, -4.272600173950195, -4.564799785614014, -4.663300037384033, -4.830999851226807, -5.019800186157227, -5.099400043487549, -4.738399982452393, -5.181600093841553, -5.142899990081787, -5.069399833679199, -5.270500183105469, -5.318600177764893, -4.890200138092041, -5.369200229644775, -5.3277997970581055, -5.4232001304626465, -5.375, -5.425600051879883, -5.477200031280518, -5.477499961853027, -5.477799892425537, -5.478000164031982, -4.410299777984619, -5.537199974060059, -5.537199974060059, -5.537199974060059, -5.537199974060059, -5.537199974060059, -4.201700210571289, -5.2204999923706055, -5.115200042724609, -5.246200084686279, -3.900399923324585, -3.5592000484466553, -4.630499839782715, -3.9946999549865723, -4.158199787139893, -3.641900062561035, -4.113399982452393, -4.420899868011475, -4.557799816131592, -4.634900093078613, -4.848700046539307, -4.726500034332275, -4.558899879455566, -4.606200218200684, -4.44920015335083, -4.849299907684326, -4.742300033569336, -4.947800159454346, -4.893499851226807, -4.474899768829346, -4.474899768829346, -4.474899768829346, -4.474899768829346, -4.474899768829346, -4.474899768829346, -4.474899768829346, -4.427000045776367, -4.411200046539307, -5.392199993133545, -5.680500030517578, -5.6834001541137695, -5.927299976348877, -5.93120002746582, -5.934899806976318, -5.935200214385986, -5.964399814605713, -5.970699787139893, -5.499300003051758, -4.980100154876709, -6.2571001052856445, -6.257800102233887, -6.256700038909912, -6.257500171661377, -6.257599830627441, -6.258399963378906, -6.259099960327148, -6.259500026702881, -6.259300231933594, -6.260200023651123, -5.5355000495910645, -4.643400192260742, -4.416200160980225, -5.704500198364258, -4.475299835205078, -4.310500144958496, -4.479300022125244, -5.691500186920166, -5.264900207519531, -4.422599792480469, -4.230899810791016, -4.224400043487549, -4.4197001457214355, -5.679900169372559, -4.374000072479248, -5.5355000495910645, -5.447000026702881, -5.3003997802734375, -5.332200050354004, -5.460000038146973, -5.663599967956543, -3.9296000003814697, -4.3933000564575195, -4.439000129699707, -4.948800086975098, -4.948299884796143, -5.061299800872803, -5.062399864196777, -5.125100135803223, -5.125400066375732, -5.125400066375732, -5.125400066375732, -5.125400066375732, -5.125400066375732, -5.125400066375732, -5.125400066375732, -5.125400066375732, -5.125400066375732, -5.125400066375732, -5.125400066375732, -5.125400066375732, -5.125400066375732, -5.125400066375732, -5.07420015335083, -5.0782999992370605, -5.083499908447266, -4.898200035095215, -4.9309000968933105, -4.264500141143799, -4.9542999267578125, -4.803899765014648, -3.970900058746338, -4.284900188446045, -3.3306000232696533, -5.002500057220459, -3.547300100326538, -4.0914998054504395, -4.375699996948242, -4.358799934387207, -5.018700122833252, -4.959000110626221, -4.898099899291992, -4.9882001876831055, -4.663899898529053, -4.999599933624268, -4.908999919891357, -4.6346001625061035, -4.67549991607666, -4.977099895477295, -4.203999996185303, -4.497499942779541, -4.38700008392334, -4.775199890136719, -4.652100086212158, -4.749199867248535, -4.770500183105469, -4.867700099945068, -4.833399772644043, -4.855100154876709, -4.86870002746582], \"loglift\": [30.0, 29.0, 28.0, 27.0, 26.0, 25.0, 24.0, 23.0, 22.0, 21.0, 20.0, 19.0, 18.0, 17.0, 16.0, 15.0, 14.0, 13.0, 12.0, 11.0, 10.0, 9.0, 8.0, 7.0, 6.0, 5.0, 4.0, 3.0, 2.0, 1.0, 0.9129999876022339, 0.9034000039100647, 0.8952000141143799, 0.8938000202178955, 0.8865000009536743, 0.8831999897956848, 0.879800021648407, 0.8794999718666077, 0.8787000179290771, 0.8776999711990356, 0.8762000203132629, 0.8761000037193298, 0.8748000264167786, 0.8729000091552734, 0.8727999925613403, 0.8725000023841858, 0.8687000274658203, 0.8687000274658203, 0.8687000274658203, 0.8687000274658203, 0.8687000274658203, 0.8687000274658203, 0.8687000274658203, 0.8687000274658203, 0.8687000274658203, 0.8675000071525574, 0.8659999966621399, 0.8569999933242798, 0.8531000018119812, 0.847000002861023, 0.821399986743927, 0.8129000067710876, 0.7494999766349792, 0.6539999842643738, 0.8185999989509583, 0.5006999969482422, 0.5428000092506409, 0.6927000284194946, 0.4650000035762787, 0.14560000598430634, 0.5340999960899353, 0.24549999833106995, 0.1356000006198883, -0.10909999907016754, 0.38769999146461487, 0.3720000088214874, 0.05180000141263008, 0.646399974822998, 0.3580000102519989, 0.1388999968767166, 0.20440000295639038, 0.2761000096797943, -0.737500011920929, 0.16660000383853912, -0.05609999969601631, 1.0759999752044678, 1.073799967765808, 1.0720000267028809, 1.0621999502182007, 1.0572999715805054, 1.0484999418258667, 1.034999966621399, 1.0268000364303589, 1.0226000547409058, 1.0196000337600708, 1.0174000263214111, 1.0147000551223755, 1.013700008392334, 1.01010000705719, 1.00600004196167, 1.0054999589920044, 1.0017999410629272, 1.0013999938964844, 0.9994999766349792, 0.9979000091552734, 0.9975000023841858, 0.9969000220298767, 0.9965000152587891, 0.9962000250816345, 0.9909999966621399, 0.9909999966621399, 0.9909999966621399, 0.9908999800682068, 0.9908999800682068, 0.9908999800682068, 0.8828999996185303, 0.9605000019073486, 0.9469000101089478, 0.9575999975204468, 0.7702000141143799, 0.5806000232696533, 0.7573999762535095, 0.5371999740600586, 0.5583000183105469, 0.37310001254081726, 0.17759999632835388, 0.2919999957084656, 0.39100000262260437, 0.41029998660087585, 0.5856999754905701, 0.4569999873638153, 0.1395999938249588, 0.10379999876022339, -0.33000001311302185, 0.4088999927043915, -0.33250001072883606, 0.3747999966144562, -0.03849999979138374, 1.7704999446868896, 1.7704999446868896, 1.7704999446868896, 1.7704999446868896, 1.7704999446868896, 1.7704999446868896, 1.7704999446868896, 1.7626999616622925, 1.7367000579833984, 1.6318000555038452, 1.6102999448776245, 1.6081000566482544, 1.5542999505996704, 1.5500999689102173, 1.54830002784729, 1.5463000535964966, 1.5318000316619873, 1.5094000101089478, 1.4838999509811401, 1.4658000469207764, 1.4601999521255493, 1.4600000381469727, 1.4600000381469727, 1.4599000215530396, 1.4596999883651733, 1.4595999717712402, 1.4586000442504883, 1.4586000442504883, 1.4580999612808228, 1.4577000141143799, 1.4534000158309937, 1.4371000528335571, 1.3198000192642212, 1.4153000116348267, 1.2970999479293823, 1.2165000438690186, 1.2247999906539917, 1.375100016593933, 1.2726000547409058, 1.0397000312805176, 0.9279000163078308, 0.4740999937057495, 0.41290000081062317, 1.2965999841690063, -0.08290000259876251, 1.1124999523162842, 0.9595000147819519, 0.48969998955726624, -0.21850000321865082, -0.010499999858438969, 0.7196999788284302, 2.0264999866485596, 1.9835000038146973, 1.9407000541687012, 1.9122999906539917, 1.9110000133514404, 1.8976999521255493, 1.895799994468689, 1.8853000402450562, 1.8845000267028809, 1.8845000267028809, 1.8845000267028809, 1.8845000267028809, 1.8845000267028809, 1.8845000267028809, 1.8845000267028809, 1.8845000267028809, 1.8845000267028809, 1.8845000267028809, 1.8845000267028809, 1.8845000267028809, 1.8845000267028809, 1.8845000267028809, 1.8768999576568604, 1.8583999872207642, 1.8466999530792236, 1.8430999517440796, 1.835800051689148, 1.832200050354004, 1.8294999599456787, 1.8157999515533447, 1.617900013923645, 1.6252000331878662, 1.2014000415802002, 1.7879999876022339, 0.5924999713897705, 1.0223000049591064, 1.242900013923645, 1.075600028038025, 1.7603000402450562, 1.6901999711990356, 1.6172000169754028, 1.7115999460220337, 1.2021000385284424, 1.6893999576568604, 1.5405999422073364, 1.0927000045776367, 1.1145000457763672, 1.6512999534606934, -0.08479999750852585, 0.35749998688697815, -0.09589999914169312, 0.9690999984741211, -0.6370000243186951, -0.07859999686479568, -0.36070001125335693, 0.5202000141143799, -0.13490000367164612, 0.09369999915361404, 0.2159000039100647]}, \"token.table\": {\"Topic\": [1, 2, 1, 2, 3, 2, 1, 4, 1, 4, 1, 2, 3, 1, 4, 1, 4, 2, 3, 3, 2, 3, 4, 1, 3, 4, 1, 3, 1, 3, 4, 1, 4, 4, 3, 1, 2, 3, 4, 1, 2, 3, 2, 1, 1, 2, 3, 4, 1, 1, 2, 1, 2, 4, 2, 1, 2, 4, 3, 4, 2, 3, 1, 2, 1, 3, 1, 4, 1, 2, 3, 1, 4, 1, 4, 1, 2, 4, 2, 1, 2, 3, 4, 1, 2, 2, 4, 2, 4, 1, 2, 1, 1, 2, 4, 1, 2, 4, 2, 1, 2, 3, 1, 2, 4, 1, 2, 3, 4, 1, 3, 3, 3, 1, 3, 1, 4, 1, 2, 3, 1, 1, 4, 4, 1, 3, 3, 3, 3, 2, 3, 1, 3, 1, 3, 2, 4, 4, 1, 2, 2, 3, 1, 2, 4, 1, 2, 4, 1, 2, 4, 4, 4, 1, 2, 4, 1, 2, 3, 1, 2, 4, 4, 2, 3, 2, 4, 1, 3, 4, 3, 1, 2, 3, 4, 1, 4, 1, 1, 2, 4, 2, 3, 2, 1, 3, 3, 1, 3, 1, 2, 3, 4, 2, 3, 2, 1, 4, 1, 2, 3, 3, 4, 1, 1, 2, 4, 1, 4, 1, 1, 1, 2, 2, 3, 4, 1, 3, 3, 1, 1, 1, 2, 4, 2, 1, 2, 4, 1, 2, 3, 4, 3, 1, 4, 1, 4, 2, 3, 3, 4, 1, 2, 4, 1, 1, 2, 4, 2, 4, 3, 2, 3, 1, 4, 1, 3, 1, 1, 1, 2, 3, 4, 2, 4, 4, 4, 4, 1, 2, 2, 2, 1, 2, 1, 4, 3, 1, 2, 2, 3, 4, 1, 1, 2, 4, 1, 3, 1, 2, 1, 2, 1, 2, 3, 4, 1, 2, 2, 3, 1, 3, 4, 2, 1, 4, 3], \"Freq\": [0.1047111228108406, 0.9424000978469849, 0.8038248419761658, 0.06698540598154068, 0.13397081196308136, 0.9663571119308472, 0.9310019016265869, 0.9567027688026428, 0.22233879566192627, 0.6670163869857788, 0.17442788183689117, 0.34885576367378235, 0.34885576367378235, 0.2158832848072052, 0.647649884223938, 0.2560703456401825, 0.7682110071182251, 0.9650259613990784, 0.6472315788269043, 0.5119580030441284, 0.9336316585540771, 0.2531721889972687, 0.7595165967941284, 0.18210121989250183, 0.18210121989250183, 0.5463036894798279, 0.9282543063163757, 0.9830126762390137, 1.0002881288528442, 0.5111029744148254, 0.9567027688026428, 0.5553306937217712, 0.3966647684574127, 0.8833667039871216, 0.8452796936035156, 0.2824974060058594, 0.09416580200195312, 0.2824974060058594, 0.3766632080078125, 0.586531937122345, 0.31992650032043457, 0.05332108587026596, 0.9545063972473145, 0.9256110191345215, 0.3575425446033478, 0.3996063768863678, 0.14722341299057007, 0.10515957325696945, 0.9826111793518066, 0.9031738042831421, 0.9652268290519714, 0.5090291500091553, 0.3393527865409851, 0.16967639327049255, 0.9849315881729126, 0.6375654339790344, 0.23023197054862976, 0.10626091063022614, 0.6470097303390503, 0.8465818762779236, 0.9588456749916077, 0.5110148191452026, 0.6709890365600586, 0.30499500036239624, 0.3104991316795349, 0.6209982633590698, 0.2338748723268509, 0.7016246318817139, 0.8460286855697632, 0.1057535856962204, 0.0528767928481102, 0.21775393187999725, 0.6532617807388306, 0.9999654293060303, 0.9020864367485046, 0.4910919666290283, 0.34376436471939087, 0.14732758700847626, 0.9333413243293762, 0.4006953239440918, 0.15026074647903442, 0.4006953239440918, 0.050086915493011475, 0.9826111793518066, 0.8445834517478943, 0.6296506524085999, 0.3598003685474396, 0.9849318861961365, 0.9567027688026428, 0.8894261121749878, 0.11859014630317688, 0.9673779606819153, 0.04650547355413437, 0.7905930280685425, 0.1395164132118225, 0.30478793382644653, 0.30478793382644653, 0.4063839316368103, 0.9225072264671326, 0.19883228838443756, 0.3976645767688751, 0.5964968800544739, 0.18079917132854462, 0.5966373085975647, 0.21695901453495026, 0.15370884537696838, 0.7070606350898743, 0.030741767957806587, 0.12296707183122635, 0.3375307023525238, 0.6750614047050476, 0.8908298015594482, 0.6469519734382629, 0.7590279579162598, 0.2530093193054199, 0.9826111793518066, 0.9571102261543274, 0.0723845362663269, 0.4343072175979614, 0.5066917538642883, 0.8837564587593079, 0.9261457920074463, 0.9567027688026428, 0.9567027688026428, 0.6816766858100891, 0.34083834290504456, 0.8908298015594482, 0.8908298015594482, 0.6473813056945801, 0.8844525218009949, 0.6470187306404114, 0.9284831881523132, 0.10316479951143265, 0.9256759881973267, 0.5109845399856567, 0.6190364956855774, 0.35373514890670776, 0.7313729524612427, 0.5888962149620056, 0.4122273623943329, 0.9260793328285217, 0.8908298015594482, 0.5175071358680725, 0.33268317580223083, 0.18482397496700287, 0.0629873052239418, 0.6928603053092957, 0.1889619082212448, 0.5479013919830322, 0.2739506959915161, 0.16437041759490967, 0.9085679054260254, 0.9567027688026428, 0.36541053652763367, 0.487214058637619, 0.12180351465940475, 0.47202685475349426, 0.47202685475349426, 0.6473122835159302, 0.9248984456062317, 0.8545143008232117, 0.14241905510425568, 0.9567027688026428, 0.35682445764541626, 0.6244427561759949, 0.9334620237350464, 0.8243728876113892, 0.3559715747833252, 0.7119431495666504, 0.9567027688026428, 0.8908298015594482, 0.25921571254730225, 0.17281046509742737, 0.5184314250946045, 0.08640523254871368, 0.9826111793518066, 0.9567027688026428, 0.9038828611373901, 0.026760391891002655, 0.5619682669639587, 0.40140587091445923, 0.9816981554031372, 0.8908298015594482, 0.8880429863929749, 0.9143604636192322, 0.07619670778512955, 0.6465831398963928, 0.25180816650390625, 0.6295204162597656, 0.4489545524120331, 0.4489545524120331, 0.03206818178296089, 0.09620454907417297, 0.8522575497627258, 0.6470373868942261, 0.9849135279655457, 0.7062057256698608, 0.1765514314174652, 0.44709205627441406, 0.49180126190185547, 0.044709205627441406, 0.8447210788726807, 0.9567027688026428, 0.9480177164077759, 0.3319496214389801, 0.49792444705963135, 0.16597481071949005, 0.16980935633182526, 0.8490467667579651, 0.9826111793518066, 0.9826111793518066, 0.9826111793518066, 0.8870725035667419, 0.18141500651836395, 0.7256600260734558, 0.9567027688026428, 0.30841195583343506, 0.6168239116668701, 0.6475067734718323, 0.9939897060394287, 0.9230310320854187, 0.21234379708766937, 0.21234379708766937, 0.6370314359664917, 0.9690312743186951, 0.6631293892860413, 0.2368319183588028, 0.09473276883363724, 0.3830530643463135, 0.14364489912986755, 0.14364489912986755, 0.3351714313030243, 0.9427127838134766, 0.2500656247138977, 0.7501968741416931, 0.23135200142860413, 0.6940560340881348, 0.9147254824638367, 0.0914725512266159, 0.6473548412322998, 0.9567027688026428, 0.06598271429538727, 0.5938444137573242, 0.32991358637809753, 0.8854719996452332, 0.13921691477298737, 0.8353014588356018, 0.9567027688026428, 0.9849459528923035, 0.8228875398635864, 0.5103339552879333, 0.9681978225708008, 0.8908298015594482, 0.38892054557800293, 0.5833808183670044, 0.44410595297813416, 0.44410595297813416, 0.9826111793518066, 0.9527707695960999, 0.25287532806396484, 0.3793129622936249, 0.25287532806396484, 0.09482824057340622, 0.9267867207527161, 0.8891216516494751, 0.9567027688026428, 0.7630984783172607, 0.8893839716911316, 0.6075471043586731, 0.3517377972602844, 0.9332242012023926, 0.9849135279655457, 0.9015231132507324, 0.07512692362070084, 0.9281725287437439, 0.9091525077819824, 0.6468709111213684, 0.9050288200378418, 0.9599601626396179, 0.339252769947052, 0.47495386004447937, 0.20355165004730225, 0.9666768908500671, 0.4468492865562439, 0.478767067193985, 0.06383561342954636, 0.3122614920139313, 0.6245229840278625, 0.46206244826316833, 0.5134027600288391, 0.12360421568155289, 0.8652295470237732, 0.9826111793518066, 0.8936247229576111, 0.06383033841848373, 0.06383033841848373, 0.41839319467544556, 0.5793136358261108, 0.37007609009742737, 0.5551141500473022, 0.30798059701919556, 0.07699514925479889, 0.6159611940383911, 0.8448075652122498, 0.12795792520046234, 0.7677475214004517, 0.5186519026756287], \"Term\": [\"able\", \"able\", \"also\", \"also\", \"also\", \"always\", \"appreciate\", \"aproximately\", \"ask\", \"ask\", \"atmosphere\", \"atmosphere\", \"atmosphere\", \"attentive\", \"attentive\", \"authentic\", \"authentic\", \"back\", \"background\", \"believe\", \"best\", \"bit\", \"bit\", \"bring\", \"bring\", \"bring\", \"burst\", \"business\", \"butter\", \"car\", \"cava\", \"charge\", \"charge\", \"chop\", \"combine\", \"come\", \"come\", \"come\", \"come\", \"cook\", \"cook\", \"cook\", \"cooked\", \"crispy\", \"cypriot\", \"cypriot\", \"cypriot\", \"cypriot\", \"daughter\", \"day\", \"definitely\", \"delicious\", \"delicious\", \"delicious\", \"die\", \"dish\", \"dish\", \"dish\", \"disturb\", \"drink\", \"eat\", \"else\", \"enjoy\", \"enjoy\", \"even\", \"even\", \"example\", \"example\", \"experience\", \"experience\", \"experience\", \"extra\", \"extra\", \"fact\", \"fake\", \"family\", \"family\", \"family\", \"favorite\", \"feel\", \"feel\", \"feel\", \"feel\", \"feta\", \"finish\", \"fire\", \"fire\", \"frendly\", \"frequently\", \"fresh\", \"fresh\", \"freshly\", \"friend\", \"friend\", \"friend\", \"friendly\", \"friendly\", \"friendly\", \"get\", \"give\", \"give\", \"give\", \"go\", \"go\", \"go\", \"great\", \"great\", \"great\", \"great\", \"greek\", \"greek\", \"heartwarme\", \"help\", \"home\", \"home\", \"hook\", \"hospitable\", \"hospitality\", \"hospitality\", \"hospitality\", \"hot\", \"husband\", \"important\", \"improtant\", \"include\", \"include\", \"indulge\", \"instance\", \"kebab\", \"keep\", \"kind\", \"leave\", \"leave\", \"left\", \"little\", \"live\", \"live\", \"lot\", \"love\", \"love\", \"lovely\", \"magnificant\", \"make\", \"make\", \"make\", \"meal\", \"meal\", \"meal\", \"meat\", \"meat\", \"meat\", \"middle\", \"mother\", \"mushroom\", \"mushroom\", \"mushroom\", \"never\", \"never\", \"nevertheless\", \"next\", \"nicosia\", \"nicosia\", \"notice\", \"occasion\", \"occasion\", \"old\", \"open\", \"opinion\", \"opinion\", \"outdoors\", \"overwhelmingly\", \"owner\", \"owner\", \"owner\", \"owner\", \"pack\", \"pair\", \"pay\", \"place\", \"place\", \"place\", \"plate\", \"pleasure\", \"plenty\", \"pork\", \"pork\", \"possible\", \"price\", \"price\", \"quality\", \"quality\", \"quality\", \"quality\", \"quantity\", \"reading\", \"ready\", \"real\", \"real\", \"really\", \"really\", \"really\", \"reasonable\", \"reccomende\", \"receive\", \"recommend\", \"recommend\", \"recommend\", \"red\", \"red\", \"refill\", \"remember\", \"request\", \"return\", \"review\", \"review\", \"rip\", \"road\", \"road\", \"rock\", \"salad\", \"sausage\", \"say\", \"say\", \"say\", \"selection\", \"serve\", \"serve\", \"serve\", \"service\", \"service\", \"service\", \"service\", \"several\", \"simple\", \"simple\", \"single\", \"single\", \"sit\", \"sit\", \"slightly\", \"slowly\", \"small\", \"small\", \"small\", \"son\", \"soon\", \"soon\", \"souvla\", \"space\", \"special\", \"spend\", \"still\", \"stop\", \"sure\", \"sure\", \"table\", \"table\", \"tahini\", \"taste\", \"tavern\", \"tavern\", \"tavern\", \"tavern\", \"taverna\", \"temperature\", \"thepork\", \"thing\", \"think\", \"time\", \"time\", \"touch\", \"town\", \"traditional\", \"traditional\", \"traditionally\", \"travel\", \"trip\", \"truly\", \"try\", \"typical\", \"typical\", \"typical\", \"variety\", \"visit\", \"visit\", \"visit\", \"walk\", \"walk\", \"want\", \"want\", \"warm\", \"warm\", \"warmth\", \"welcome\", \"welcome\", \"welcome\", \"well\", \"well\", \"whenever\", \"whenever\", \"wine\", \"wine\", \"wine\", \"winter\", \"worth\", \"worth\", \"wrong\"]}, \"R\": 30, \"lambda.step\": 0.01, \"plot.opts\": {\"xlab\": \"PC1\", \"ylab\": \"PC2\"}, \"topic.order\": [2, 1, 4, 3]};\n",
       "\n",
       "function LDAvis_load_lib(url, callback){\n",
       "  var s = document.createElement('script');\n",
       "  s.src = url;\n",
       "  s.async = true;\n",
       "  s.onreadystatechange = s.onload = callback;\n",
       "  s.onerror = function(){console.warn(\"failed to load library \" + url);};\n",
       "  document.getElementsByTagName(\"head\")[0].appendChild(s);\n",
       "}\n",
       "\n",
       "if(typeof(LDAvis) !== \"undefined\"){\n",
       "   // already loaded: just create the visualization\n",
       "   !function(LDAvis){\n",
       "       new LDAvis(\"#\" + \"ldavis_el922427695285322963245899068\", ldavis_el922427695285322963245899068_data);\n",
       "   }(LDAvis);\n",
       "}else if(typeof define === \"function\" && define.amd){\n",
       "   // require.js is available: use it to load d3/LDAvis\n",
       "   require.config({paths: {d3: \"https://cdnjs.cloudflare.com/ajax/libs/d3/3.5.5/d3.min\"}});\n",
       "   require([\"d3\"], function(d3){\n",
       "      window.d3 = d3;\n",
       "      LDAvis_load_lib(\"https://cdn.rawgit.com/bmabey/pyLDAvis/files/ldavis.v1.0.0.js\", function(){\n",
       "        new LDAvis(\"#\" + \"ldavis_el922427695285322963245899068\", ldavis_el922427695285322963245899068_data);\n",
       "      });\n",
       "    });\n",
       "}else{\n",
       "    // require.js not available: dynamically load d3 & LDAvis\n",
       "    LDAvis_load_lib(\"https://cdnjs.cloudflare.com/ajax/libs/d3/3.5.5/d3.min.js\", function(){\n",
       "         LDAvis_load_lib(\"https://cdn.rawgit.com/bmabey/pyLDAvis/files/ldavis.v1.0.0.js\", function(){\n",
       "                 new LDAvis(\"#\" + \"ldavis_el922427695285322963245899068\", ldavis_el922427695285322963245899068_data);\n",
       "            })\n",
       "         });\n",
       "}\n",
       "</script>"
      ],
      "text/plain": [
       "PreparedData(topic_coordinates=              x         y  topics  cluster       Freq\n",
       "topic                                                \n",
       "1     -0.126958 -0.092991       1        1  39.129391\n",
       "0     -0.114730  0.142108       2        1  32.971706\n",
       "3      0.099738 -0.167173       3        1  15.777080\n",
       "2      0.141951  0.118056       4        1  12.121823, topic_info=         Term       Freq      Total Category  logprob  loglift\n",
       "107     place  37.000000  37.000000  Default  30.0000  30.0000\n",
       "11         go  55.000000  55.000000  Default  29.0000  29.0000\n",
       "34        eat  22.000000  22.000000  Default  28.0000  28.0000\n",
       "354      wine  12.000000  12.000000  Default  27.0000  27.0000\n",
       "558     think   8.000000   8.000000  Default  26.0000  26.0000\n",
       "..        ...        ...        ...      ...      ...      ...\n",
       "158     serve   3.568295  42.224037   Topic4  -4.7705  -0.3607\n",
       "103      meal   3.237769  15.876216   Topic4  -4.8677   0.5202\n",
       "92     tavern   3.350921  31.636145   Topic4  -4.8334  -0.1349\n",
       "343  mushroom   3.278953  24.629831   Topic4  -4.8551   0.0937\n",
       "88     friend   3.234668  21.502846   Topic4  -4.8687   0.2159\n",
       "\n",
       "[248 rows x 6 columns], token_table=      Topic      Freq    Term\n",
       "term                         \n",
       "666       1  0.104711    able\n",
       "666       2  0.942400    able\n",
       "46        1  0.803825    also\n",
       "46        2  0.066985    also\n",
       "46        3  0.133971    also\n",
       "...     ...       ...     ...\n",
       "354       4  0.615961    wine\n",
       "325       2  0.844808  winter\n",
       "199       1  0.127958   worth\n",
       "199       4  0.767748   worth\n",
       "463       3  0.518652   wrong\n",
       "\n",
       "[307 rows x 3 columns], R=30, lambda_step=0.01, plot_opts={'xlab': 'PC1', 'ylab': 'PC2'}, topic_order=[2, 1, 4, 3])"
      ]
     },
     "metadata": {},
     "output_type": "display_data"
    }
   ],
   "source": [
    "plot_model(lda_pos_custom, plot ='topic_model')"
   ]
  },
  {
   "cell_type": "code",
   "execution_count": 16,
   "metadata": {},
   "outputs": [
    {
     "data": {
      "application/vnd.jupyter.widget-view+json": {
       "model_id": "",
       "version_major": 2,
       "version_minor": 0
      },
      "text/plain": [
       "IntProgress(value=0, description='Processing: ', max=25)"
      ]
     },
     "metadata": {},
     "output_type": "display_data"
    },
    {
     "data": {
      "application/vnd.jupyter.widget-view+json": {
       "model_id": "71bd2a1b1a9148658d1c5f1648682bd4",
       "version_major": 2,
       "version_minor": 0
      },
      "text/plain": [
       "Output()"
      ]
     },
     "metadata": {},
     "output_type": "display_data"
    },
    {
     "data": {
      "text/html": [
       "        <script type=\"text/javascript\">\n",
       "        window.PlotlyConfig = {MathJaxConfig: 'local'};\n",
       "        if (window.MathJax) {MathJax.Hub.Config({SVG: {font: \"STIX-Web\"}});}\n",
       "        if (typeof require !== 'undefined') {\n",
       "        require.undef(\"plotly\");\n",
       "        requirejs.config({\n",
       "            paths: {\n",
       "                'plotly': ['https://cdn.plot.ly/plotly-latest.min']\n",
       "            }\n",
       "        });\n",
       "        require(['plotly'], function(Plotly) {\n",
       "            window._Plotly = Plotly;\n",
       "        });\n",
       "        }\n",
       "        </script>\n",
       "        "
      ]
     },
     "metadata": {},
     "output_type": "display_data"
    },
    {
     "data": {
      "application/vnd.plotly.v1+json": {
       "config": {
        "plotlyServerURL": "https://plot.ly"
       },
       "data": [
        {
         "hovertemplate": "Metric=Coherence<br># Topics=%{x}<br>Score=%{y}<extra></extra>",
         "legendgroup": "Coherence",
         "line": {
          "color": "#636efa",
          "dash": "solid",
          "shape": "linear"
         },
         "mode": "lines",
         "name": "Coherence",
         "orientation": "v",
         "showlegend": true,
         "type": "scatter",
         "x": [
          2,
          4,
          8,
          16,
          32,
          64,
          100,
          200,
          300,
          400
         ],
         "xaxis": "x",
         "y": [
          0.3623553100143434,
          0.41328120977933935,
          0.4464837092891702,
          0.35170639132849835,
          0.41251443429903006,
          0.4930922721219261,
          0.48756562748056476,
          0.482601181776697,
          0.4452297438521797,
          0.42440142738400566
         ],
         "yaxis": "y"
        }
       ],
       "layout": {
        "legend": {
         "title": {
          "text": "Metric"
         },
         "tracegroupgap": 0
        },
        "plot_bgcolor": "rgb(245,245,245)",
        "template": {
         "data": {
          "bar": [
           {
            "error_x": {
             "color": "#2a3f5f"
            },
            "error_y": {
             "color": "#2a3f5f"
            },
            "marker": {
             "line": {
              "color": "#E5ECF6",
              "width": 0.5
             }
            },
            "type": "bar"
           }
          ],
          "barpolar": [
           {
            "marker": {
             "line": {
              "color": "#E5ECF6",
              "width": 0.5
             }
            },
            "type": "barpolar"
           }
          ],
          "carpet": [
           {
            "aaxis": {
             "endlinecolor": "#2a3f5f",
             "gridcolor": "white",
             "linecolor": "white",
             "minorgridcolor": "white",
             "startlinecolor": "#2a3f5f"
            },
            "baxis": {
             "endlinecolor": "#2a3f5f",
             "gridcolor": "white",
             "linecolor": "white",
             "minorgridcolor": "white",
             "startlinecolor": "#2a3f5f"
            },
            "type": "carpet"
           }
          ],
          "choropleth": [
           {
            "colorbar": {
             "outlinewidth": 0,
             "ticks": ""
            },
            "type": "choropleth"
           }
          ],
          "contour": [
           {
            "colorbar": {
             "outlinewidth": 0,
             "ticks": ""
            },
            "colorscale": [
             [
              0,
              "#0d0887"
             ],
             [
              0.1111111111111111,
              "#46039f"
             ],
             [
              0.2222222222222222,
              "#7201a8"
             ],
             [
              0.3333333333333333,
              "#9c179e"
             ],
             [
              0.4444444444444444,
              "#bd3786"
             ],
             [
              0.5555555555555556,
              "#d8576b"
             ],
             [
              0.6666666666666666,
              "#ed7953"
             ],
             [
              0.7777777777777778,
              "#fb9f3a"
             ],
             [
              0.8888888888888888,
              "#fdca26"
             ],
             [
              1,
              "#f0f921"
             ]
            ],
            "type": "contour"
           }
          ],
          "contourcarpet": [
           {
            "colorbar": {
             "outlinewidth": 0,
             "ticks": ""
            },
            "type": "contourcarpet"
           }
          ],
          "heatmap": [
           {
            "colorbar": {
             "outlinewidth": 0,
             "ticks": ""
            },
            "colorscale": [
             [
              0,
              "#0d0887"
             ],
             [
              0.1111111111111111,
              "#46039f"
             ],
             [
              0.2222222222222222,
              "#7201a8"
             ],
             [
              0.3333333333333333,
              "#9c179e"
             ],
             [
              0.4444444444444444,
              "#bd3786"
             ],
             [
              0.5555555555555556,
              "#d8576b"
             ],
             [
              0.6666666666666666,
              "#ed7953"
             ],
             [
              0.7777777777777778,
              "#fb9f3a"
             ],
             [
              0.8888888888888888,
              "#fdca26"
             ],
             [
              1,
              "#f0f921"
             ]
            ],
            "type": "heatmap"
           }
          ],
          "heatmapgl": [
           {
            "colorbar": {
             "outlinewidth": 0,
             "ticks": ""
            },
            "colorscale": [
             [
              0,
              "#0d0887"
             ],
             [
              0.1111111111111111,
              "#46039f"
             ],
             [
              0.2222222222222222,
              "#7201a8"
             ],
             [
              0.3333333333333333,
              "#9c179e"
             ],
             [
              0.4444444444444444,
              "#bd3786"
             ],
             [
              0.5555555555555556,
              "#d8576b"
             ],
             [
              0.6666666666666666,
              "#ed7953"
             ],
             [
              0.7777777777777778,
              "#fb9f3a"
             ],
             [
              0.8888888888888888,
              "#fdca26"
             ],
             [
              1,
              "#f0f921"
             ]
            ],
            "type": "heatmapgl"
           }
          ],
          "histogram": [
           {
            "marker": {
             "colorbar": {
              "outlinewidth": 0,
              "ticks": ""
             }
            },
            "type": "histogram"
           }
          ],
          "histogram2d": [
           {
            "colorbar": {
             "outlinewidth": 0,
             "ticks": ""
            },
            "colorscale": [
             [
              0,
              "#0d0887"
             ],
             [
              0.1111111111111111,
              "#46039f"
             ],
             [
              0.2222222222222222,
              "#7201a8"
             ],
             [
              0.3333333333333333,
              "#9c179e"
             ],
             [
              0.4444444444444444,
              "#bd3786"
             ],
             [
              0.5555555555555556,
              "#d8576b"
             ],
             [
              0.6666666666666666,
              "#ed7953"
             ],
             [
              0.7777777777777778,
              "#fb9f3a"
             ],
             [
              0.8888888888888888,
              "#fdca26"
             ],
             [
              1,
              "#f0f921"
             ]
            ],
            "type": "histogram2d"
           }
          ],
          "histogram2dcontour": [
           {
            "colorbar": {
             "outlinewidth": 0,
             "ticks": ""
            },
            "colorscale": [
             [
              0,
              "#0d0887"
             ],
             [
              0.1111111111111111,
              "#46039f"
             ],
             [
              0.2222222222222222,
              "#7201a8"
             ],
             [
              0.3333333333333333,
              "#9c179e"
             ],
             [
              0.4444444444444444,
              "#bd3786"
             ],
             [
              0.5555555555555556,
              "#d8576b"
             ],
             [
              0.6666666666666666,
              "#ed7953"
             ],
             [
              0.7777777777777778,
              "#fb9f3a"
             ],
             [
              0.8888888888888888,
              "#fdca26"
             ],
             [
              1,
              "#f0f921"
             ]
            ],
            "type": "histogram2dcontour"
           }
          ],
          "mesh3d": [
           {
            "colorbar": {
             "outlinewidth": 0,
             "ticks": ""
            },
            "type": "mesh3d"
           }
          ],
          "parcoords": [
           {
            "line": {
             "colorbar": {
              "outlinewidth": 0,
              "ticks": ""
             }
            },
            "type": "parcoords"
           }
          ],
          "pie": [
           {
            "automargin": true,
            "type": "pie"
           }
          ],
          "scatter": [
           {
            "marker": {
             "colorbar": {
              "outlinewidth": 0,
              "ticks": ""
             }
            },
            "type": "scatter"
           }
          ],
          "scatter3d": [
           {
            "line": {
             "colorbar": {
              "outlinewidth": 0,
              "ticks": ""
             }
            },
            "marker": {
             "colorbar": {
              "outlinewidth": 0,
              "ticks": ""
             }
            },
            "type": "scatter3d"
           }
          ],
          "scattercarpet": [
           {
            "marker": {
             "colorbar": {
              "outlinewidth": 0,
              "ticks": ""
             }
            },
            "type": "scattercarpet"
           }
          ],
          "scattergeo": [
           {
            "marker": {
             "colorbar": {
              "outlinewidth": 0,
              "ticks": ""
             }
            },
            "type": "scattergeo"
           }
          ],
          "scattergl": [
           {
            "marker": {
             "colorbar": {
              "outlinewidth": 0,
              "ticks": ""
             }
            },
            "type": "scattergl"
           }
          ],
          "scattermapbox": [
           {
            "marker": {
             "colorbar": {
              "outlinewidth": 0,
              "ticks": ""
             }
            },
            "type": "scattermapbox"
           }
          ],
          "scatterpolar": [
           {
            "marker": {
             "colorbar": {
              "outlinewidth": 0,
              "ticks": ""
             }
            },
            "type": "scatterpolar"
           }
          ],
          "scatterpolargl": [
           {
            "marker": {
             "colorbar": {
              "outlinewidth": 0,
              "ticks": ""
             }
            },
            "type": "scatterpolargl"
           }
          ],
          "scatterternary": [
           {
            "marker": {
             "colorbar": {
              "outlinewidth": 0,
              "ticks": ""
             }
            },
            "type": "scatterternary"
           }
          ],
          "surface": [
           {
            "colorbar": {
             "outlinewidth": 0,
             "ticks": ""
            },
            "colorscale": [
             [
              0,
              "#0d0887"
             ],
             [
              0.1111111111111111,
              "#46039f"
             ],
             [
              0.2222222222222222,
              "#7201a8"
             ],
             [
              0.3333333333333333,
              "#9c179e"
             ],
             [
              0.4444444444444444,
              "#bd3786"
             ],
             [
              0.5555555555555556,
              "#d8576b"
             ],
             [
              0.6666666666666666,
              "#ed7953"
             ],
             [
              0.7777777777777778,
              "#fb9f3a"
             ],
             [
              0.8888888888888888,
              "#fdca26"
             ],
             [
              1,
              "#f0f921"
             ]
            ],
            "type": "surface"
           }
          ],
          "table": [
           {
            "cells": {
             "fill": {
              "color": "#EBF0F8"
             },
             "line": {
              "color": "white"
             }
            },
            "header": {
             "fill": {
              "color": "#C8D4E3"
             },
             "line": {
              "color": "white"
             }
            },
            "type": "table"
           }
          ]
         },
         "layout": {
          "annotationdefaults": {
           "arrowcolor": "#2a3f5f",
           "arrowhead": 0,
           "arrowwidth": 1
          },
          "coloraxis": {
           "colorbar": {
            "outlinewidth": 0,
            "ticks": ""
           }
          },
          "colorscale": {
           "diverging": [
            [
             0,
             "#8e0152"
            ],
            [
             0.1,
             "#c51b7d"
            ],
            [
             0.2,
             "#de77ae"
            ],
            [
             0.3,
             "#f1b6da"
            ],
            [
             0.4,
             "#fde0ef"
            ],
            [
             0.5,
             "#f7f7f7"
            ],
            [
             0.6,
             "#e6f5d0"
            ],
            [
             0.7,
             "#b8e186"
            ],
            [
             0.8,
             "#7fbc41"
            ],
            [
             0.9,
             "#4d9221"
            ],
            [
             1,
             "#276419"
            ]
           ],
           "sequential": [
            [
             0,
             "#0d0887"
            ],
            [
             0.1111111111111111,
             "#46039f"
            ],
            [
             0.2222222222222222,
             "#7201a8"
            ],
            [
             0.3333333333333333,
             "#9c179e"
            ],
            [
             0.4444444444444444,
             "#bd3786"
            ],
            [
             0.5555555555555556,
             "#d8576b"
            ],
            [
             0.6666666666666666,
             "#ed7953"
            ],
            [
             0.7777777777777778,
             "#fb9f3a"
            ],
            [
             0.8888888888888888,
             "#fdca26"
            ],
            [
             1,
             "#f0f921"
            ]
           ],
           "sequentialminus": [
            [
             0,
             "#0d0887"
            ],
            [
             0.1111111111111111,
             "#46039f"
            ],
            [
             0.2222222222222222,
             "#7201a8"
            ],
            [
             0.3333333333333333,
             "#9c179e"
            ],
            [
             0.4444444444444444,
             "#bd3786"
            ],
            [
             0.5555555555555556,
             "#d8576b"
            ],
            [
             0.6666666666666666,
             "#ed7953"
            ],
            [
             0.7777777777777778,
             "#fb9f3a"
            ],
            [
             0.8888888888888888,
             "#fdca26"
            ],
            [
             1,
             "#f0f921"
            ]
           ]
          },
          "colorway": [
           "#636efa",
           "#EF553B",
           "#00cc96",
           "#ab63fa",
           "#FFA15A",
           "#19d3f3",
           "#FF6692",
           "#B6E880",
           "#FF97FF",
           "#FECB52"
          ],
          "font": {
           "color": "#2a3f5f"
          },
          "geo": {
           "bgcolor": "white",
           "lakecolor": "white",
           "landcolor": "#E5ECF6",
           "showlakes": true,
           "showland": true,
           "subunitcolor": "white"
          },
          "hoverlabel": {
           "align": "left"
          },
          "hovermode": "closest",
          "mapbox": {
           "style": "light"
          },
          "paper_bgcolor": "white",
          "plot_bgcolor": "#E5ECF6",
          "polar": {
           "angularaxis": {
            "gridcolor": "white",
            "linecolor": "white",
            "ticks": ""
           },
           "bgcolor": "#E5ECF6",
           "radialaxis": {
            "gridcolor": "white",
            "linecolor": "white",
            "ticks": ""
           }
          },
          "scene": {
           "xaxis": {
            "backgroundcolor": "#E5ECF6",
            "gridcolor": "white",
            "gridwidth": 2,
            "linecolor": "white",
            "showbackground": true,
            "ticks": "",
            "zerolinecolor": "white"
           },
           "yaxis": {
            "backgroundcolor": "#E5ECF6",
            "gridcolor": "white",
            "gridwidth": 2,
            "linecolor": "white",
            "showbackground": true,
            "ticks": "",
            "zerolinecolor": "white"
           },
           "zaxis": {
            "backgroundcolor": "#E5ECF6",
            "gridcolor": "white",
            "gridwidth": 2,
            "linecolor": "white",
            "showbackground": true,
            "ticks": "",
            "zerolinecolor": "white"
           }
          },
          "shapedefaults": {
           "line": {
            "color": "#2a3f5f"
           }
          },
          "ternary": {
           "aaxis": {
            "gridcolor": "white",
            "linecolor": "white",
            "ticks": ""
           },
           "baxis": {
            "gridcolor": "white",
            "linecolor": "white",
            "ticks": ""
           },
           "bgcolor": "#E5ECF6",
           "caxis": {
            "gridcolor": "white",
            "linecolor": "white",
            "ticks": ""
           }
          },
          "title": {
           "x": 0.05
          },
          "xaxis": {
           "automargin": true,
           "gridcolor": "white",
           "linecolor": "white",
           "ticks": "",
           "title": {
            "standoff": 15
           },
           "zerolinecolor": "white",
           "zerolinewidth": 2
          },
          "yaxis": {
           "automargin": true,
           "gridcolor": "white",
           "linecolor": "white",
           "ticks": "",
           "title": {
            "standoff": 15
           },
           "zerolinecolor": "white",
           "zerolinewidth": 2
          }
         }
        },
        "title": {
         "text": "Coherence Value and # of Topics"
        },
        "xaxis": {
         "anchor": "y",
         "domain": [
          0,
          1
         ],
         "title": {
          "text": "# Topics"
         }
        },
        "yaxis": {
         "anchor": "x",
         "domain": [
          0,
          1
         ],
         "title": {
          "text": "Score"
         }
        }
       }
      },
      "text/html": [
       "<div>\n",
       "        \n",
       "        \n",
       "            <div id=\"6b17458c-1529-47e9-933f-eee431f2554b\" class=\"plotly-graph-div\" style=\"height:525px; width:100%;\"></div>\n",
       "            <script type=\"text/javascript\">\n",
       "                require([\"plotly\"], function(Plotly) {\n",
       "                    window.PLOTLYENV=window.PLOTLYENV || {};\n",
       "                    \n",
       "                if (document.getElementById(\"6b17458c-1529-47e9-933f-eee431f2554b\")) {\n",
       "                    Plotly.newPlot(\n",
       "                        '6b17458c-1529-47e9-933f-eee431f2554b',\n",
       "                        [{\"hovertemplate\": \"Metric=Coherence<br># Topics=%{x}<br>Score=%{y}<extra></extra>\", \"legendgroup\": \"Coherence\", \"line\": {\"color\": \"#636efa\", \"dash\": \"solid\", \"shape\": \"linear\"}, \"mode\": \"lines\", \"name\": \"Coherence\", \"orientation\": \"v\", \"showlegend\": true, \"type\": \"scatter\", \"x\": [2, 4, 8, 16, 32, 64, 100, 200, 300, 400], \"xaxis\": \"x\", \"y\": [0.3623553100143434, 0.41328120977933935, 0.4464837092891702, 0.35170639132849835, 0.41251443429903006, 0.4930922721219261, 0.48756562748056476, 0.482601181776697, 0.4452297438521797, 0.42440142738400566], \"yaxis\": \"y\"}],\n",
       "                        {\"legend\": {\"title\": {\"text\": \"Metric\"}, \"tracegroupgap\": 0}, \"plot_bgcolor\": \"rgb(245,245,245)\", \"template\": {\"data\": {\"bar\": [{\"error_x\": {\"color\": \"#2a3f5f\"}, \"error_y\": {\"color\": \"#2a3f5f\"}, \"marker\": {\"line\": {\"color\": \"#E5ECF6\", \"width\": 0.5}}, \"type\": \"bar\"}], \"barpolar\": [{\"marker\": {\"line\": {\"color\": \"#E5ECF6\", \"width\": 0.5}}, \"type\": \"barpolar\"}], \"carpet\": [{\"aaxis\": {\"endlinecolor\": \"#2a3f5f\", \"gridcolor\": \"white\", \"linecolor\": \"white\", \"minorgridcolor\": \"white\", \"startlinecolor\": \"#2a3f5f\"}, \"baxis\": {\"endlinecolor\": \"#2a3f5f\", \"gridcolor\": \"white\", \"linecolor\": \"white\", \"minorgridcolor\": \"white\", \"startlinecolor\": \"#2a3f5f\"}, \"type\": \"carpet\"}], \"choropleth\": [{\"colorbar\": {\"outlinewidth\": 0, \"ticks\": \"\"}, \"type\": \"choropleth\"}], \"contour\": [{\"colorbar\": {\"outlinewidth\": 0, \"ticks\": \"\"}, \"colorscale\": [[0.0, \"#0d0887\"], [0.1111111111111111, \"#46039f\"], [0.2222222222222222, \"#7201a8\"], [0.3333333333333333, \"#9c179e\"], [0.4444444444444444, \"#bd3786\"], [0.5555555555555556, \"#d8576b\"], [0.6666666666666666, \"#ed7953\"], [0.7777777777777778, \"#fb9f3a\"], [0.8888888888888888, \"#fdca26\"], [1.0, \"#f0f921\"]], \"type\": \"contour\"}], \"contourcarpet\": [{\"colorbar\": {\"outlinewidth\": 0, \"ticks\": \"\"}, \"type\": \"contourcarpet\"}], \"heatmap\": [{\"colorbar\": {\"outlinewidth\": 0, \"ticks\": \"\"}, \"colorscale\": [[0.0, \"#0d0887\"], [0.1111111111111111, \"#46039f\"], [0.2222222222222222, \"#7201a8\"], [0.3333333333333333, \"#9c179e\"], [0.4444444444444444, \"#bd3786\"], [0.5555555555555556, \"#d8576b\"], [0.6666666666666666, \"#ed7953\"], [0.7777777777777778, \"#fb9f3a\"], [0.8888888888888888, \"#fdca26\"], [1.0, \"#f0f921\"]], \"type\": \"heatmap\"}], \"heatmapgl\": [{\"colorbar\": {\"outlinewidth\": 0, \"ticks\": \"\"}, \"colorscale\": [[0.0, \"#0d0887\"], [0.1111111111111111, \"#46039f\"], [0.2222222222222222, \"#7201a8\"], [0.3333333333333333, \"#9c179e\"], [0.4444444444444444, \"#bd3786\"], [0.5555555555555556, \"#d8576b\"], [0.6666666666666666, \"#ed7953\"], [0.7777777777777778, \"#fb9f3a\"], [0.8888888888888888, \"#fdca26\"], [1.0, \"#f0f921\"]], \"type\": \"heatmapgl\"}], \"histogram\": [{\"marker\": {\"colorbar\": {\"outlinewidth\": 0, \"ticks\": \"\"}}, \"type\": \"histogram\"}], \"histogram2d\": [{\"colorbar\": {\"outlinewidth\": 0, \"ticks\": \"\"}, \"colorscale\": [[0.0, \"#0d0887\"], [0.1111111111111111, \"#46039f\"], [0.2222222222222222, \"#7201a8\"], [0.3333333333333333, \"#9c179e\"], [0.4444444444444444, \"#bd3786\"], [0.5555555555555556, \"#d8576b\"], [0.6666666666666666, \"#ed7953\"], [0.7777777777777778, \"#fb9f3a\"], [0.8888888888888888, \"#fdca26\"], [1.0, \"#f0f921\"]], \"type\": \"histogram2d\"}], \"histogram2dcontour\": [{\"colorbar\": {\"outlinewidth\": 0, \"ticks\": \"\"}, \"colorscale\": [[0.0, \"#0d0887\"], [0.1111111111111111, \"#46039f\"], [0.2222222222222222, \"#7201a8\"], [0.3333333333333333, \"#9c179e\"], [0.4444444444444444, \"#bd3786\"], [0.5555555555555556, \"#d8576b\"], [0.6666666666666666, \"#ed7953\"], [0.7777777777777778, \"#fb9f3a\"], [0.8888888888888888, \"#fdca26\"], [1.0, \"#f0f921\"]], \"type\": \"histogram2dcontour\"}], \"mesh3d\": [{\"colorbar\": {\"outlinewidth\": 0, \"ticks\": \"\"}, \"type\": \"mesh3d\"}], \"parcoords\": [{\"line\": {\"colorbar\": {\"outlinewidth\": 0, \"ticks\": \"\"}}, \"type\": \"parcoords\"}], \"pie\": [{\"automargin\": true, \"type\": \"pie\"}], \"scatter\": [{\"marker\": {\"colorbar\": {\"outlinewidth\": 0, \"ticks\": \"\"}}, \"type\": \"scatter\"}], \"scatter3d\": [{\"line\": {\"colorbar\": {\"outlinewidth\": 0, \"ticks\": \"\"}}, \"marker\": {\"colorbar\": {\"outlinewidth\": 0, \"ticks\": \"\"}}, \"type\": \"scatter3d\"}], \"scattercarpet\": [{\"marker\": {\"colorbar\": {\"outlinewidth\": 0, \"ticks\": \"\"}}, \"type\": \"scattercarpet\"}], \"scattergeo\": [{\"marker\": {\"colorbar\": {\"outlinewidth\": 0, \"ticks\": \"\"}}, \"type\": \"scattergeo\"}], \"scattergl\": [{\"marker\": {\"colorbar\": {\"outlinewidth\": 0, \"ticks\": \"\"}}, \"type\": \"scattergl\"}], \"scattermapbox\": [{\"marker\": {\"colorbar\": {\"outlinewidth\": 0, \"ticks\": \"\"}}, \"type\": \"scattermapbox\"}], \"scatterpolar\": [{\"marker\": {\"colorbar\": {\"outlinewidth\": 0, \"ticks\": \"\"}}, \"type\": \"scatterpolar\"}], \"scatterpolargl\": [{\"marker\": {\"colorbar\": {\"outlinewidth\": 0, \"ticks\": \"\"}}, \"type\": \"scatterpolargl\"}], \"scatterternary\": [{\"marker\": {\"colorbar\": {\"outlinewidth\": 0, \"ticks\": \"\"}}, \"type\": \"scatterternary\"}], \"surface\": [{\"colorbar\": {\"outlinewidth\": 0, \"ticks\": \"\"}, \"colorscale\": [[0.0, \"#0d0887\"], [0.1111111111111111, \"#46039f\"], [0.2222222222222222, \"#7201a8\"], [0.3333333333333333, \"#9c179e\"], [0.4444444444444444, \"#bd3786\"], [0.5555555555555556, \"#d8576b\"], [0.6666666666666666, \"#ed7953\"], [0.7777777777777778, \"#fb9f3a\"], [0.8888888888888888, \"#fdca26\"], [1.0, \"#f0f921\"]], \"type\": \"surface\"}], \"table\": [{\"cells\": {\"fill\": {\"color\": \"#EBF0F8\"}, \"line\": {\"color\": \"white\"}}, \"header\": {\"fill\": {\"color\": \"#C8D4E3\"}, \"line\": {\"color\": \"white\"}}, \"type\": \"table\"}]}, \"layout\": {\"annotationdefaults\": {\"arrowcolor\": \"#2a3f5f\", \"arrowhead\": 0, \"arrowwidth\": 1}, \"coloraxis\": {\"colorbar\": {\"outlinewidth\": 0, \"ticks\": \"\"}}, \"colorscale\": {\"diverging\": [[0, \"#8e0152\"], [0.1, \"#c51b7d\"], [0.2, \"#de77ae\"], [0.3, \"#f1b6da\"], [0.4, \"#fde0ef\"], [0.5, \"#f7f7f7\"], [0.6, \"#e6f5d0\"], [0.7, \"#b8e186\"], [0.8, \"#7fbc41\"], [0.9, \"#4d9221\"], [1, \"#276419\"]], \"sequential\": [[0.0, \"#0d0887\"], [0.1111111111111111, \"#46039f\"], [0.2222222222222222, \"#7201a8\"], [0.3333333333333333, \"#9c179e\"], [0.4444444444444444, \"#bd3786\"], [0.5555555555555556, \"#d8576b\"], [0.6666666666666666, \"#ed7953\"], [0.7777777777777778, \"#fb9f3a\"], [0.8888888888888888, \"#fdca26\"], [1.0, \"#f0f921\"]], \"sequentialminus\": [[0.0, \"#0d0887\"], [0.1111111111111111, \"#46039f\"], [0.2222222222222222, \"#7201a8\"], [0.3333333333333333, \"#9c179e\"], [0.4444444444444444, \"#bd3786\"], [0.5555555555555556, \"#d8576b\"], [0.6666666666666666, \"#ed7953\"], [0.7777777777777778, \"#fb9f3a\"], [0.8888888888888888, \"#fdca26\"], [1.0, \"#f0f921\"]]}, \"colorway\": [\"#636efa\", \"#EF553B\", \"#00cc96\", \"#ab63fa\", \"#FFA15A\", \"#19d3f3\", \"#FF6692\", \"#B6E880\", \"#FF97FF\", \"#FECB52\"], \"font\": {\"color\": \"#2a3f5f\"}, \"geo\": {\"bgcolor\": \"white\", \"lakecolor\": \"white\", \"landcolor\": \"#E5ECF6\", \"showlakes\": true, \"showland\": true, \"subunitcolor\": \"white\"}, \"hoverlabel\": {\"align\": \"left\"}, \"hovermode\": \"closest\", \"mapbox\": {\"style\": \"light\"}, \"paper_bgcolor\": \"white\", \"plot_bgcolor\": \"#E5ECF6\", \"polar\": {\"angularaxis\": {\"gridcolor\": \"white\", \"linecolor\": \"white\", \"ticks\": \"\"}, \"bgcolor\": \"#E5ECF6\", \"radialaxis\": {\"gridcolor\": \"white\", \"linecolor\": \"white\", \"ticks\": \"\"}}, \"scene\": {\"xaxis\": {\"backgroundcolor\": \"#E5ECF6\", \"gridcolor\": \"white\", \"gridwidth\": 2, \"linecolor\": \"white\", \"showbackground\": true, \"ticks\": \"\", \"zerolinecolor\": \"white\"}, \"yaxis\": {\"backgroundcolor\": \"#E5ECF6\", \"gridcolor\": \"white\", \"gridwidth\": 2, \"linecolor\": \"white\", \"showbackground\": true, \"ticks\": \"\", \"zerolinecolor\": \"white\"}, \"zaxis\": {\"backgroundcolor\": \"#E5ECF6\", \"gridcolor\": \"white\", \"gridwidth\": 2, \"linecolor\": \"white\", \"showbackground\": true, \"ticks\": \"\", \"zerolinecolor\": \"white\"}}, \"shapedefaults\": {\"line\": {\"color\": \"#2a3f5f\"}}, \"ternary\": {\"aaxis\": {\"gridcolor\": \"white\", \"linecolor\": \"white\", \"ticks\": \"\"}, \"baxis\": {\"gridcolor\": \"white\", \"linecolor\": \"white\", \"ticks\": \"\"}, \"bgcolor\": \"#E5ECF6\", \"caxis\": {\"gridcolor\": \"white\", \"linecolor\": \"white\", \"ticks\": \"\"}}, \"title\": {\"x\": 0.05}, \"xaxis\": {\"automargin\": true, \"gridcolor\": \"white\", \"linecolor\": \"white\", \"ticks\": \"\", \"title\": {\"standoff\": 15}, \"zerolinecolor\": \"white\", \"zerolinewidth\": 2}, \"yaxis\": {\"automargin\": true, \"gridcolor\": \"white\", \"linecolor\": \"white\", \"ticks\": \"\", \"title\": {\"standoff\": 15}, \"zerolinecolor\": \"white\", \"zerolinewidth\": 2}}}, \"title\": {\"text\": \"Coherence Value and # of Topics\"}, \"xaxis\": {\"anchor\": \"y\", \"domain\": [0.0, 1.0], \"title\": {\"text\": \"# Topics\"}}, \"yaxis\": {\"anchor\": \"x\", \"domain\": [0.0, 1.0], \"title\": {\"text\": \"Score\"}}},\n",
       "                        {\"responsive\": true}\n",
       "                    ).then(function(){\n",
       "                            \n",
       "var gd = document.getElementById('6b17458c-1529-47e9-933f-eee431f2554b');\n",
       "var x = new MutationObserver(function (mutations, observer) {{\n",
       "        var display = window.getComputedStyle(gd).display;\n",
       "        if (!display || display === 'none') {{\n",
       "            console.log([gd, 'removed!']);\n",
       "            Plotly.purge(gd);\n",
       "            observer.disconnect();\n",
       "        }}\n",
       "}});\n",
       "\n",
       "// Listen for the removal of the full notebook cells\n",
       "var notebookContainer = gd.closest('#notebook-container');\n",
       "if (notebookContainer) {{\n",
       "    x.observe(notebookContainer, {childList: true});\n",
       "}}\n",
       "\n",
       "// Listen for the clearing of the current output cell\n",
       "var outputEl = gd.closest('.output');\n",
       "if (outputEl) {{\n",
       "    x.observe(outputEl, {childList: true});\n",
       "}}\n",
       "\n",
       "                        })\n",
       "                };\n",
       "                });\n",
       "            </script>\n",
       "        </div>"
      ]
     },
     "metadata": {},
     "output_type": "display_data"
    },
    {
     "name": "stdout",
     "output_type": "stream",
     "text": [
      "Best Model: Latent Dirichlet Allocation | # Topics: 64 | Coherence: 0.4931\n"
     ]
    }
   ],
   "source": [
    "tune_lda_positive = tune_model(model='lda', supervised_target=None, estimator='xgboost')"
   ]
  },
  {
   "cell_type": "markdown",
   "metadata": {},
   "source": [
    "8 topics selected"
   ]
  },
  {
   "cell_type": "code",
   "execution_count": 17,
   "metadata": {},
   "outputs": [
    {
     "name": "stdout",
     "output_type": "stream",
     "text": [
      "LdaModel(num_terms=996, num_topics=8, decay=0.5, chunksize=100)\n"
     ]
    }
   ],
   "source": [
    "lda_pos_tuned = create_model('lda', num_topics=8)\n",
    "print(lda_pos_tuned)"
   ]
  },
  {
   "cell_type": "code",
   "execution_count": 18,
   "metadata": {},
   "outputs": [
    {
     "data": {
      "text/html": [
       "<div>\n",
       "<style scoped>\n",
       "    .dataframe tbody tr th:only-of-type {\n",
       "        vertical-align: middle;\n",
       "    }\n",
       "\n",
       "    .dataframe tbody tr th {\n",
       "        vertical-align: top;\n",
       "    }\n",
       "\n",
       "    .dataframe thead th {\n",
       "        text-align: right;\n",
       "    }\n",
       "</style>\n",
       "<table border=\"1\" class=\"dataframe\">\n",
       "  <thead>\n",
       "    <tr style=\"text-align: right;\">\n",
       "      <th></th>\n",
       "      <th>Unnamed: 0</th>\n",
       "      <th>r_points</th>\n",
       "      <th>r_text</th>\n",
       "      <th>place</th>\n",
       "      <th>scores</th>\n",
       "      <th>compound</th>\n",
       "      <th>score</th>\n",
       "      <th>Topic_0</th>\n",
       "      <th>Topic_1</th>\n",
       "      <th>Topic_2</th>\n",
       "      <th>Topic_3</th>\n",
       "      <th>Topic_4</th>\n",
       "      <th>Topic_5</th>\n",
       "      <th>Topic_6</th>\n",
       "      <th>Topic_7</th>\n",
       "      <th>Dominant_Topic</th>\n",
       "      <th>Perc_Dominant_Topic</th>\n",
       "    </tr>\n",
       "  </thead>\n",
       "  <tbody>\n",
       "    <tr>\n",
       "      <th>0</th>\n",
       "      <td>0</td>\n",
       "      <td>50</td>\n",
       "      <td>go dinner greet warm welcome lovingly decorate...</td>\n",
       "      <td>Louis Tavern &amp; Restaurant</td>\n",
       "      <td>{'neg': 0.0, 'neu': 0.662, 'pos': 0.338, 'comp...</td>\n",
       "      <td>0.9905</td>\n",
       "      <td>pos</td>\n",
       "      <td>0.035786</td>\n",
       "      <td>0.002702</td>\n",
       "      <td>0.001501</td>\n",
       "      <td>0.001012</td>\n",
       "      <td>0.001504</td>\n",
       "      <td>0.002092</td>\n",
       "      <td>0.951838</td>\n",
       "      <td>0.003564</td>\n",
       "      <td>Topic 6</td>\n",
       "      <td>0.95</td>\n",
       "    </tr>\n",
       "    <tr>\n",
       "      <th>1</th>\n",
       "      <td>1</td>\n",
       "      <td>50</td>\n",
       "      <td>eat long time wide variety vegetarian option g...</td>\n",
       "      <td>Louis Tavern &amp; Restaurant</td>\n",
       "      <td>{'neg': 0.0, 'neu': 0.746, 'pos': 0.254, 'comp...</td>\n",
       "      <td>0.8164</td>\n",
       "      <td>pos</td>\n",
       "      <td>0.486027</td>\n",
       "      <td>0.006433</td>\n",
       "      <td>0.466363</td>\n",
       "      <td>0.002409</td>\n",
       "      <td>0.003579</td>\n",
       "      <td>0.004979</td>\n",
       "      <td>0.021743</td>\n",
       "      <td>0.008467</td>\n",
       "      <td>Topic 0</td>\n",
       "      <td>0.49</td>\n",
       "    </tr>\n",
       "    <tr>\n",
       "      <th>2</th>\n",
       "      <td>2</td>\n",
       "      <td>50</td>\n",
       "      <td>go last night first time recommend couple time...</td>\n",
       "      <td>Louis Tavern &amp; Restaurant</td>\n",
       "      <td>{'neg': 0.085, 'neu': 0.676, 'pos': 0.24, 'com...</td>\n",
       "      <td>0.9780</td>\n",
       "      <td>pos</td>\n",
       "      <td>0.177448</td>\n",
       "      <td>0.001805</td>\n",
       "      <td>0.001003</td>\n",
       "      <td>0.000676</td>\n",
       "      <td>0.001004</td>\n",
       "      <td>0.001397</td>\n",
       "      <td>0.814291</td>\n",
       "      <td>0.002376</td>\n",
       "      <td>Topic 6</td>\n",
       "      <td>0.81</td>\n",
       "    </tr>\n",
       "    <tr>\n",
       "      <th>3</th>\n",
       "      <td>3</td>\n",
       "      <td>40</td>\n",
       "      <td>go friend really variety meat base tavern endl...</td>\n",
       "      <td>Louis Tavern &amp; Restaurant</td>\n",
       "      <td>{'neg': 0.0, 'neu': 0.789, 'pos': 0.211, 'comp...</td>\n",
       "      <td>0.8791</td>\n",
       "      <td>pos</td>\n",
       "      <td>0.524142</td>\n",
       "      <td>0.005094</td>\n",
       "      <td>0.435934</td>\n",
       "      <td>0.001907</td>\n",
       "      <td>0.002834</td>\n",
       "      <td>0.003943</td>\n",
       "      <td>0.019431</td>\n",
       "      <td>0.006716</td>\n",
       "      <td>Topic 0</td>\n",
       "      <td>0.52</td>\n",
       "    </tr>\n",
       "    <tr>\n",
       "      <th>4</th>\n",
       "      <td>4</td>\n",
       "      <td>50</td>\n",
       "      <td>visit reading review trip arrival escort outdo...</td>\n",
       "      <td>Louis Tavern &amp; Restaurant</td>\n",
       "      <td>{'neg': 0.022, 'neu': 0.735, 'pos': 0.243, 'co...</td>\n",
       "      <td>0.9727</td>\n",
       "      <td>pos</td>\n",
       "      <td>0.102059</td>\n",
       "      <td>0.003350</td>\n",
       "      <td>0.001861</td>\n",
       "      <td>0.579261</td>\n",
       "      <td>0.001864</td>\n",
       "      <td>0.070189</td>\n",
       "      <td>0.237002</td>\n",
       "      <td>0.004414</td>\n",
       "      <td>Topic 3</td>\n",
       "      <td>0.58</td>\n",
       "    </tr>\n",
       "    <tr>\n",
       "      <th>...</th>\n",
       "      <td>...</td>\n",
       "      <td>...</td>\n",
       "      <td>...</td>\n",
       "      <td>...</td>\n",
       "      <td>...</td>\n",
       "      <td>...</td>\n",
       "      <td>...</td>\n",
       "      <td>...</td>\n",
       "      <td>...</td>\n",
       "      <td>...</td>\n",
       "      <td>...</td>\n",
       "      <td>...</td>\n",
       "      <td>...</td>\n",
       "      <td>...</td>\n",
       "      <td>...</td>\n",
       "      <td>...</td>\n",
       "      <td>...</td>\n",
       "    </tr>\n",
       "    <tr>\n",
       "      <th>105</th>\n",
       "      <td>108</td>\n",
       "      <td>50</td>\n",
       "      <td>want quality town definitely top ranking visit...</td>\n",
       "      <td>Louis Tavern &amp; Restaurant</td>\n",
       "      <td>{'neg': 0.0, 'neu': 0.706, 'pos': 0.294, 'comp...</td>\n",
       "      <td>0.9893</td>\n",
       "      <td>pos</td>\n",
       "      <td>0.056957</td>\n",
       "      <td>0.037930</td>\n",
       "      <td>0.001461</td>\n",
       "      <td>0.000985</td>\n",
       "      <td>0.001463</td>\n",
       "      <td>0.002035</td>\n",
       "      <td>0.864653</td>\n",
       "      <td>0.034517</td>\n",
       "      <td>Topic 6</td>\n",
       "      <td>0.86</td>\n",
       "    </tr>\n",
       "    <tr>\n",
       "      <th>106</th>\n",
       "      <td>109</td>\n",
       "      <td>50</td>\n",
       "      <td>many time really know keep standard tavern fam...</td>\n",
       "      <td>Louis Tavern &amp; Restaurant</td>\n",
       "      <td>{'neg': 0.0, 'neu': 0.813, 'pos': 0.187, 'comp...</td>\n",
       "      <td>0.9677</td>\n",
       "      <td>pos</td>\n",
       "      <td>0.341511</td>\n",
       "      <td>0.002495</td>\n",
       "      <td>0.027493</td>\n",
       "      <td>0.000934</td>\n",
       "      <td>0.001388</td>\n",
       "      <td>0.001931</td>\n",
       "      <td>0.620962</td>\n",
       "      <td>0.003285</td>\n",
       "      <td>Topic 6</td>\n",
       "      <td>0.62</td>\n",
       "    </tr>\n",
       "    <tr>\n",
       "      <th>107</th>\n",
       "      <td>110</td>\n",
       "      <td>50</td>\n",
       "      <td>cypriot make go back tick box lovely evening f...</td>\n",
       "      <td>Louis Tavern &amp; Restaurant</td>\n",
       "      <td>{'neg': 0.024, 'neu': 0.833, 'pos': 0.143, 'co...</td>\n",
       "      <td>0.9217</td>\n",
       "      <td>pos</td>\n",
       "      <td>0.015225</td>\n",
       "      <td>0.685225</td>\n",
       "      <td>0.001637</td>\n",
       "      <td>0.001103</td>\n",
       "      <td>0.001639</td>\n",
       "      <td>0.037178</td>\n",
       "      <td>0.009752</td>\n",
       "      <td>0.248240</td>\n",
       "      <td>Topic 1</td>\n",
       "      <td>0.69</td>\n",
       "    </tr>\n",
       "    <tr>\n",
       "      <th>108</th>\n",
       "      <td>111</td>\n",
       "      <td>50</td>\n",
       "      <td>say live frequently travel go tavern friend re...</td>\n",
       "      <td>Louis Tavern &amp; Restaurant</td>\n",
       "      <td>{'neg': 0.044, 'neu': 0.844, 'pos': 0.113, 'co...</td>\n",
       "      <td>0.9731</td>\n",
       "      <td>pos</td>\n",
       "      <td>0.070440</td>\n",
       "      <td>0.156156</td>\n",
       "      <td>0.000583</td>\n",
       "      <td>0.000393</td>\n",
       "      <td>0.012283</td>\n",
       "      <td>0.000813</td>\n",
       "      <td>0.081525</td>\n",
       "      <td>0.677807</td>\n",
       "      <td>Topic 7</td>\n",
       "      <td>0.68</td>\n",
       "    </tr>\n",
       "    <tr>\n",
       "      <th>109</th>\n",
       "      <td>112</td>\n",
       "      <td>50</td>\n",
       "      <td>great mushroom alone worth go ensure welcome w...</td>\n",
       "      <td>Louis Tavern &amp; Restaurant</td>\n",
       "      <td>{'neg': 0.036, 'neu': 0.709, 'pos': 0.256, 'co...</td>\n",
       "      <td>0.9775</td>\n",
       "      <td>pos</td>\n",
       "      <td>0.258634</td>\n",
       "      <td>0.002433</td>\n",
       "      <td>0.001352</td>\n",
       "      <td>0.025765</td>\n",
       "      <td>0.027062</td>\n",
       "      <td>0.001883</td>\n",
       "      <td>0.679664</td>\n",
       "      <td>0.003206</td>\n",
       "      <td>Topic 6</td>\n",
       "      <td>0.68</td>\n",
       "    </tr>\n",
       "  </tbody>\n",
       "</table>\n",
       "<p>110 rows × 17 columns</p>\n",
       "</div>"
      ],
      "text/plain": [
       "     Unnamed: 0  r_points                                             r_text  \\\n",
       "0             0        50  go dinner greet warm welcome lovingly decorate...   \n",
       "1             1        50  eat long time wide variety vegetarian option g...   \n",
       "2             2        50  go last night first time recommend couple time...   \n",
       "3             3        40  go friend really variety meat base tavern endl...   \n",
       "4             4        50  visit reading review trip arrival escort outdo...   \n",
       "..          ...       ...                                                ...   \n",
       "105         108        50  want quality town definitely top ranking visit...   \n",
       "106         109        50  many time really know keep standard tavern fam...   \n",
       "107         110        50  cypriot make go back tick box lovely evening f...   \n",
       "108         111        50  say live frequently travel go tavern friend re...   \n",
       "109         112        50  great mushroom alone worth go ensure welcome w...   \n",
       "\n",
       "                         place  \\\n",
       "0    Louis Tavern & Restaurant   \n",
       "1    Louis Tavern & Restaurant   \n",
       "2    Louis Tavern & Restaurant   \n",
       "3    Louis Tavern & Restaurant   \n",
       "4    Louis Tavern & Restaurant   \n",
       "..                         ...   \n",
       "105  Louis Tavern & Restaurant   \n",
       "106  Louis Tavern & Restaurant   \n",
       "107  Louis Tavern & Restaurant   \n",
       "108  Louis Tavern & Restaurant   \n",
       "109  Louis Tavern & Restaurant   \n",
       "\n",
       "                                                scores  compound score  \\\n",
       "0    {'neg': 0.0, 'neu': 0.662, 'pos': 0.338, 'comp...    0.9905   pos   \n",
       "1    {'neg': 0.0, 'neu': 0.746, 'pos': 0.254, 'comp...    0.8164   pos   \n",
       "2    {'neg': 0.085, 'neu': 0.676, 'pos': 0.24, 'com...    0.9780   pos   \n",
       "3    {'neg': 0.0, 'neu': 0.789, 'pos': 0.211, 'comp...    0.8791   pos   \n",
       "4    {'neg': 0.022, 'neu': 0.735, 'pos': 0.243, 'co...    0.9727   pos   \n",
       "..                                                 ...       ...   ...   \n",
       "105  {'neg': 0.0, 'neu': 0.706, 'pos': 0.294, 'comp...    0.9893   pos   \n",
       "106  {'neg': 0.0, 'neu': 0.813, 'pos': 0.187, 'comp...    0.9677   pos   \n",
       "107  {'neg': 0.024, 'neu': 0.833, 'pos': 0.143, 'co...    0.9217   pos   \n",
       "108  {'neg': 0.044, 'neu': 0.844, 'pos': 0.113, 'co...    0.9731   pos   \n",
       "109  {'neg': 0.036, 'neu': 0.709, 'pos': 0.256, 'co...    0.9775   pos   \n",
       "\n",
       "      Topic_0   Topic_1   Topic_2   Topic_3   Topic_4   Topic_5   Topic_6  \\\n",
       "0    0.035786  0.002702  0.001501  0.001012  0.001504  0.002092  0.951838   \n",
       "1    0.486027  0.006433  0.466363  0.002409  0.003579  0.004979  0.021743   \n",
       "2    0.177448  0.001805  0.001003  0.000676  0.001004  0.001397  0.814291   \n",
       "3    0.524142  0.005094  0.435934  0.001907  0.002834  0.003943  0.019431   \n",
       "4    0.102059  0.003350  0.001861  0.579261  0.001864  0.070189  0.237002   \n",
       "..        ...       ...       ...       ...       ...       ...       ...   \n",
       "105  0.056957  0.037930  0.001461  0.000985  0.001463  0.002035  0.864653   \n",
       "106  0.341511  0.002495  0.027493  0.000934  0.001388  0.001931  0.620962   \n",
       "107  0.015225  0.685225  0.001637  0.001103  0.001639  0.037178  0.009752   \n",
       "108  0.070440  0.156156  0.000583  0.000393  0.012283  0.000813  0.081525   \n",
       "109  0.258634  0.002433  0.001352  0.025765  0.027062  0.001883  0.679664   \n",
       "\n",
       "      Topic_7 Dominant_Topic  Perc_Dominant_Topic  \n",
       "0    0.003564        Topic 6                 0.95  \n",
       "1    0.008467        Topic 0                 0.49  \n",
       "2    0.002376        Topic 6                 0.81  \n",
       "3    0.006716        Topic 0                 0.52  \n",
       "4    0.004414        Topic 3                 0.58  \n",
       "..        ...            ...                  ...  \n",
       "105  0.034517        Topic 6                 0.86  \n",
       "106  0.003285        Topic 6                 0.62  \n",
       "107  0.248240        Topic 1                 0.69  \n",
       "108  0.677807        Topic 7                 0.68  \n",
       "109  0.003206        Topic 6                 0.68  \n",
       "\n",
       "[110 rows x 17 columns]"
      ]
     },
     "execution_count": 18,
     "metadata": {},
     "output_type": "execute_result"
    }
   ],
   "source": [
    "apply_tuned_pos = assign_model(lda_pos_tuned)\n",
    "apply_tuned_pos"
   ]
  },
  {
   "cell_type": "code",
   "execution_count": 19,
   "metadata": {},
   "outputs": [
    {
     "data": {
      "application/vnd.jupyter.widget-view+json": {
       "model_id": "e88ea735720344a59b7ccc63d424163d",
       "version_major": 2,
       "version_minor": 0
      },
      "text/plain": [
       "interactive(children=(ToggleButtons(description='Plot Type:', icons=('',), options=(('Frequency Plot', 'freque…"
      ]
     },
     "metadata": {},
     "output_type": "display_data"
    }
   ],
   "source": [
    "evaluate_model(lda_pos_tuned)"
   ]
  },
  {
   "cell_type": "code",
   "execution_count": 20,
   "metadata": {},
   "outputs": [
    {
     "data": {
      "text/html": [
       "        <script type=\"text/javascript\">\n",
       "        window.PlotlyConfig = {MathJaxConfig: 'local'};\n",
       "        if (window.MathJax) {MathJax.Hub.Config({SVG: {font: \"STIX-Web\"}});}\n",
       "        if (typeof require !== 'undefined') {\n",
       "        require.undef(\"plotly\");\n",
       "        requirejs.config({\n",
       "            paths: {\n",
       "                'plotly': ['https://cdn.plot.ly/plotly-latest.min']\n",
       "            }\n",
       "        });\n",
       "        require(['plotly'], function(Plotly) {\n",
       "            window._Plotly = Plotly;\n",
       "        });\n",
       "        }\n",
       "        </script>\n",
       "        "
      ]
     },
     "metadata": {},
     "output_type": "display_data"
    },
    {
     "data": {
      "text/html": [
       "\n",
       "<link rel=\"stylesheet\" type=\"text/css\" href=\"https://cdn.rawgit.com/bmabey/pyLDAvis/files/ldavis.v1.0.0.css\">\n",
       "\n",
       "\n",
       "<div id=\"ldavis_el922427695286231769553967365\"></div>\n",
       "<script type=\"text/javascript\">\n",
       "\n",
       "var ldavis_el922427695286231769553967365_data = {\"mdsDat\": {\"x\": [-0.04923815413546741, 0.11947770230951046, 0.2901992177460364, -0.1672725107030895, 0.059965517183561565, -0.23932929874544417, -0.013357230305562755, -0.00044524334954458106], \"y\": [0.2474572847145376, 0.20634180400424254, 0.011897079143278083, -0.14295488225339642, -0.1761686625783864, 0.0631408376988067, -0.13947495645146074, -0.07023850427762135], \"topics\": [1, 2, 3, 4, 5, 6, 7, 8], \"cluster\": [1, 1, 1, 1, 1, 1, 1, 1], \"Freq\": [39.6677360534668, 26.897626876831055, 10.348396301269531, 7.6374053955078125, 5.833821773529053, 5.57261323928833, 2.6763744354248047, 1.3660237789154053]}, \"tinfo\": {\"Term\": [\"go\", \"friend\", \"place\", \"never\", \"cypriot\", \"live\", \"mushroom\", \"small\", \"wide\", \"visit\", \"welcome\", \"family\", \"dish\", \"meal\", \"eat\", \"home\", \"great\", \"ensure\", \"sit\", \"definitely\", \"enjoy\", \"hear\", \"summer\", \"plate\", \"able\", \"make\", \"get\", \"sweet\", \"think\", \"full\", \"try\", \"cuisine\", \"never\", \"traditional\", \"lamb_chop\", \"finish\", \"day\", \"friendly\", \"authentic\", \"look\", \"son\", \"dip\", \"add\", \"whole\", \"butter\", \"manage\", \"fake\", \"middle\", \"chef\", \"hot\", \"die\", \"space\", \"remain\", \"ever\", \"delicious\", \"hospitable\", \"keep\", \"really\", \"taste\", \"last\", \"salad\", \"fresh\", \"service\", \"visit\", \"well\", \"cypriot\", \"great\", \"recommend\", \"cook\", \"want\", \"place\", \"local\", \"time\", \"hospitality\", \"experience\", \"love\", \"go\", \"dish\", \"eat\", \"family\", \"serve\", \"quality\", \"welcome\", \"always\", \"taverna\", \"second\", \"worth\", \"attentive\", \"smile\", \"selection\", \"simple\", \"choice\", \"open\", \"value_money\", \"fact\", \"town\", \"ready\", \"range\", \"manner\", \"business\", \"yet\", \"homemade\", \"ranking\", \"abroad\", \"consider\", \"numerous\", \"expertly\", \"wood\", \"defenitely\", \"alone\", \"plenty\", \"forward\", \"definitely\", \"standard\", \"back\", \"several\", \"return\", \"quality\", \"tavern\", \"different\", \"feel\", \"dish\", \"visit\", \"cooked\", \"top\", \"mushroom\", \"serve\", \"go\", \"first\", \"make\", \"time\", \"well\", \"great\", \"eat\", \"drink\", \"friend\", \"home\", \"real\", \"appreciate\", \"occasion\", \"charge\", \"think\", \"special\", \"temperature\", \"burst\", \"left\", \"log\", \"crispy\", \"receive\", \"pleasure\", \"instance\", \"magnificant\", \"stop\", \"heartwarme\", \"indulge\", \"overwhelmingly\", \"remember\", \"refill\", \"tahini\", \"pack\", \"hook\", \"feta\", \"warmth\", \"daughter\", \"request\", \"pair\", \"aproximately\", \"thepork\", \"important\", \"notice\", \"improtant\", \"mother\", \"outdoors\", \"slowly\", \"reccomende\", \"wine\", \"winter\", \"cypriot\", \"place\", \"say\", \"extra\", \"small\", \"fire\", \"dish\", \"euro\", \"typical\", \"many\", \"serve\", \"feel\", \"go\", \"make\", \"meat\", \"variety\", \"tavern\", \"music\", \"family\", \"back\", \"offer\", \"old\", \"traditionally\", \"intimate\", \"thinking\", \"eggplant\", \"dream\", \"cyrpus\", \"hummus\", \"still\", \"empty\", \"small\", \"satisfied\", \"stomach\", \"get\", \"invite\", \"plate\", \"disturb\", \"type\", \"possible\", \"state\", \"idea\", \"cake\", \"full\", \"birthday\", \"live\", \"especially\", \"however\", \"sauce\", \"review\", \"wrong\", \"bring\", \"friend\", \"meal\", \"eat\", \"place\", \"great\", \"go\", \"table\", \"owner\", \"sit\", \"lot\", \"ensure\", \"chat\", \"little\", \"pita\", \"catch\", \"house\", \"super\", \"appetizer\", \"moist\", \"chit\", \"overly\", \"village\", \"showcase\", \"tender\", \"establishment\", \"reasonable\", \"part\", \"non\", \"even\", \"life\", \"garden\", \"huge\", \"complimentary\", \"shock\", \"escort\", \"absolute\", \"immediately\", \"natural\", \"default\", \"practically\", \"cosy\", \"high\", \"rare\", \"guest\", \"include\", \"couple\", \"price\", \"arrival\", \"trip\", \"tell\", \"hear\", \"summer\", \"touch\", \"favorite\", \"best\", \"frendly\", \"cold\", \"require\", \"tradition\", \"backtound\", \"box\", \"burning\", \"listen\", \"tick\", \"sit\", \"genuine\", \"fruit\", \"start\", \"end\", \"lovely\", \"chicken\", \"red\", \"fry\", \"delicate\", \"evening\", \"stand\", \"smoke\", \"beef\", \"absolutely\", \"glad\", \"meal\", \"able\", \"friend\", \"sweet\", \"mushroom\", \"family\", \"go\", \"enjoy\", \"wide\", \"long\", \"ok\", \"extremely\", \"definately\", \"vegetarian\", \"together\", \"succesfull\", \"similar\", \"term\", \"taxi\", \"halloumi\", \"charming\", \"goodprice\", \"foodwise\", \"endless\", \"scratch\", \"note\", \"fairly\", \"entrance\", \"sieftalia\", \"tastefull\", \"fyi\", \"cost\", \"evenly\", \"intend\", \"cute\", \"decpr\", \"salty\", \"tasteless\", \"accommodate\", \"dinner\", \"exceptional\", \"come\", \"tavern\", \"make\", \"keep\", \"get\", \"worth\", \"option\", \"base\", \"absolutely\", \"travel\", \"husband\", \"area\", \"live\", \"dining\", \"skeptical\", \"insite\", \"tremendous\", \"photo\", \"simply\", \"season\", \"produce\", \"emphasis\", \"inexpensive\", \"specially\", \"flavour\", \"correct\", \"brilliant\", \"splendid\", \"popular\", \"tasteful\", \"describe\", \"far\", \"combine\", \"stand\", \"exceptional\", \"absolutely\", \"pretty\", \"forget\", \"right\", \"year\", \"portion\", \"table\", \"never\", \"wait\", \"service\", \"know\"], \"Freq\": [66.0, 24.0, 51.0, 22.0, 46.0, 9.0, 28.0, 15.0, 7.0, 83.0, 20.0, 19.0, 54.0, 15.0, 32.0, 9.0, 49.0, 7.0, 7.0, 21.0, 15.0, 6.0, 6.0, 9.0, 11.0, 25.0, 9.0, 11.0, 8.0, 9.0, 20.113306045532227, 16.32283592224121, 21.59028434753418, 13.882610321044922, 8.948139190673828, 8.947101593017578, 8.946114540100098, 17.770601272583008, 8.474577903747559, 9.972572326660156, 7.999902248382568, 7.999788284301758, 7.999146938323975, 7.996335506439209, 7.988951206207275, 7.525757789611816, 7.515107154846191, 7.515048503875732, 7.515038013458252, 7.956150531768799, 7.511833190917969, 7.511651992797852, 7.51072883605957, 14.756806373596191, 24.965768814086914, 7.051933288574219, 11.454402923583984, 27.98772621154785, 12.6658935546875, 3.901508331298828, 8.160149574279785, 13.721882820129395, 23.833354949951172, 55.35979461669922, 29.873931884765625, 32.224369049072266, 34.03694152832031, 19.823198318481445, 16.47727394104004, 17.882036209106445, 30.722124099731445, 12.508976936340332, 20.980228424072266, 10.940113067626953, 12.174972534179688, 13.47615909576416, 26.54774284362793, 23.095375061035156, 17.23029899597168, 12.763151168823242, 17.130233764648438, 14.087666511535645, 19.504898071289062, 13.867169380187988, 11.713603973388672, 10.986028671264648, 13.492552757263184, 7.888662338256836, 7.530126094818115, 7.169038772583008, 6.799198150634766, 6.448546409606934, 6.447995662689209, 6.443889141082764, 6.078915119171143, 5.727603435516357, 5.727598190307617, 5.727429389953613, 5.72743034362793, 5.724580764770508, 5.7260589599609375, 5.71337890625, 5.366650104522705, 5.366650104522705, 5.366650104522705, 5.366650104522705, 5.36228084564209, 5.36228084564209, 5.36228084564209, 5.36228084564209, 6.360376834869385, 5.327942848205566, 19.310016632080078, 7.644213676452637, 13.507488250732422, 5.944369316101074, 6.201374053955078, 21.604894638061523, 19.05333709716797, 7.678454875946045, 9.317063331604004, 22.820751190185547, 27.65935707092285, 7.298559665679932, 8.603601455688477, 13.237979888916016, 15.505412101745605, 20.345714569091797, 7.755627632141113, 11.364078521728516, 11.61960220336914, 10.775933265686035, 11.011872291564941, 9.670086860656738, 6.78859281539917, 7.654750347137451, 9.273797035217285, 4.950742721557617, 4.510114669799805, 4.507051467895508, 6.823856830596924, 7.177615642547607, 2.6450021266937256, 2.3496298789978027, 2.3495240211486816, 2.3493943214416504, 2.3488781452178955, 2.34108829498291, 2.6059436798095703, 2.201612710952759, 2.201612710952759, 2.201612710952759, 2.201612710952759, 2.201612710952759, 2.201612710952759, 2.201612710952759, 2.201151132583618, 2.201151132583618, 2.201151132583618, 2.201151132583618, 2.201151132583618, 2.201151132583618, 2.201151132583618, 2.201151132583618, 2.201151132583618, 2.1999449729919434, 2.1999449729919434, 2.1999449729919434, 2.1999449729919434, 2.1999449729919434, 2.1999449729919434, 2.1999449729919434, 2.1999449729919434, 2.1999449729919434, 2.1999449729919434, 6.739751815795898, 2.611471176147461, 10.659902572631836, 10.403287887573242, 4.556207656860352, 2.6601169109344482, 4.765061855316162, 4.373359680175781, 8.336761474609375, 2.5517632961273193, 4.398321151733398, 4.182039260864258, 6.252682209014893, 3.9225986003875732, 6.28620719909668, 4.433340549468994, 3.750513792037964, 3.3950459957122803, 3.2866969108581543, 2.5165724754333496, 2.868710994720459, 2.8195817470550537, 2.6093716621398926, 5.2411088943481445, 4.913483619689941, 4.629156112670898, 4.629156112670898, 4.629156112670898, 4.629156112670898, 4.629156112670898, 4.629156112670898, 5.180319309234619, 5.270772457122803, 10.087262153625488, 1.019775152206421, 4.587610721588135, 5.4016594886779785, 1.0197774171829224, 5.646240711212158, 0.7087805271148682, 0.7087817192077637, 0.7087467312812805, 0.7087526321411133, 0.7087406516075134, 0.7059872150421143, 5.367096424102783, 0.8542600870132446, 4.947330474853516, 0.7087618708610535, 0.7087822556495667, 0.7087425589561462, 2.5126774311065674, 0.7086994051933289, 1.939602017402649, 6.416280269622803, 4.282390117645264, 5.22035026550293, 6.54813289642334, 4.493857383728027, 5.099276542663574, 1.0401426553726196, 1.7306829690933228, 1.0721694231033325, 0.8682803511619568, 6.486842632293701, 1.7491322755813599, 1.3404113054275513, 1.340431571006775, 1.3403911590576172, 0.9316464066505432, 0.9316396117210388, 0.9315725564956665, 0.9315550923347473, 0.9314822554588318, 0.9313624501228333, 0.9313035011291504, 0.9310678839683533, 0.9310285449028015, 1.340056300163269, 1.3338778018951416, 0.9314505457878113, 0.9305785298347473, 1.3225016593933105, 0.9229246377944946, 0.522911012172699, 0.5229106545448303, 0.5229108333587646, 0.5229102373123169, 0.5229101777076721, 0.5229085683822632, 0.5227685570716858, 0.5227654576301575, 0.5227672457695007, 0.5227672457695007, 0.8727163672447205, 1.593168020248413, 0.8414649367332458, 0.9057391881942749, 1.6989753246307373, 1.2137178182601929, 1.9038814306259155, 0.8871206045150757, 0.7584512233734131, 0.7142646312713623, 6.0604047775268555, 5.873391151428223, 3.151050567626953, 3.1500160694122314, 3.148454427719116, 2.9645516872406006, 2.964010238647461, 2.775723695755005, 2.775723695755005, 2.775723695755005, 2.775723695755005, 2.775723695755005, 2.775723695755005, 2.775723695755005, 6.211586952209473, 3.184654474258423, 3.2661783695220947, 3.051663398742676, 3.1566600799560547, 3.0111165046691895, 3.5360500812530518, 2.9355051517486572, 1.149664282798767, 0.42519789934158325, 3.4163103103637695, 0.3556196689605713, 0.4251573383808136, 0.5252431035041809, 0.3555618226528168, 0.2386757731437683, 4.376866817474365, 2.913421154022217, 5.734585285186768, 2.538076162338257, 4.7737345695495605, 3.5023529529571533, 7.878735065460205, 2.9188899993896484, 6.9986677169799805, 0.7460331916809082, 0.5234779715538025, 0.5234559178352356, 0.293799489736557, 0.293799489736557, 0.293799489736557, 0.293799489736557, 0.29377931356430054, 0.29377859830856323, 0.293778657913208, 0.29377859830856323, 0.29377859830856323, 0.29377803206443787, 0.2937774360179901, 0.2937769293785095, 0.2937776446342468, 0.29377633333206177, 0.29375648498535156, 0.29375630617141724, 0.29375573992729187, 0.29375550150871277, 0.2937556207180023, 0.29375505447387695, 0.293754518032074, 0.29375457763671875, 0.2937401831150055, 0.2937401831150055, 0.2937401831150055, 0.2937096953392029, 0.5233150720596313, 0.7093967795372009, 0.45476919412612915, 0.7599464654922485, 0.6136347055435181, 0.5275293588638306, 0.4368201494216919, 0.309535950422287, 0.30897414684295654, 0.29379600286483765, 0.29377830028533936, 0.2937774956226349, 2.0349223613739014, 2.035684585571289, 0.2925933599472046, 2.300201892852783, 0.16423223912715912, 0.16423223912715912, 0.16423209011554718, 0.1642320603132248, 0.16423186659812927, 0.16420969367027283, 0.1641133576631546, 0.1641133576631546, 0.1637452244758606, 0.1637423187494278, 0.16332697868347168, 0.16423189640045166, 0.1642099916934967, 0.16423223912715912, 0.164232075214386, 0.16411328315734863, 0.15426132082939148, 0.1641613394021988, 0.16419215500354767, 0.16350075602531433, 0.08341768383979797, 0.16263262927532196, 0.08349979668855667, 0.06093137711286545, 0.12957046926021576, 0.17741891741752625, 0.16080410778522491, 0.1632421910762787, 0.16407129168510437, 0.4889776110649109, 0.17294897139072418, 0.20581400394439697, 0.1672033667564392], \"Total\": [66.0, 24.0, 51.0, 22.0, 46.0, 9.0, 28.0, 15.0, 7.0, 83.0, 20.0, 19.0, 54.0, 15.0, 32.0, 9.0, 49.0, 7.0, 7.0, 21.0, 15.0, 6.0, 6.0, 9.0, 11.0, 25.0, 9.0, 11.0, 8.0, 9.0, 20.624736785888672, 16.827991485595703, 22.53997230529785, 14.587028503417969, 9.444221496582031, 9.443588256835938, 9.44307804107666, 18.76192855834961, 8.970460891723633, 10.576361656188965, 8.495966911315918, 8.495925903320312, 8.495820999145508, 8.493589401245117, 8.49237060546875, 8.022180557250977, 8.014084815979004, 8.01404857635498, 8.01404857635498, 8.485471725463867, 8.016081809997559, 8.015978813171387, 8.015132904052734, 15.760998725891113, 26.690153121948242, 7.5485334396362305, 12.352867126464844, 30.270933151245117, 14.230596542358398, 4.409443378448486, 9.645910263061523, 16.87995719909668, 31.63343620300293, 83.73925018310547, 41.053714752197266, 46.43292236328125, 49.86219787597656, 25.97113037109375, 21.502031326293945, 24.783342361450195, 51.965003967285156, 15.689205169677734, 34.25621795654297, 13.718912124633789, 16.458913803100586, 20.460954666137695, 66.39599609375, 54.66434097290039, 32.496315002441406, 19.734529495239258, 39.25096893310547, 37.44710159301758, 20.03277587890625, 14.409319877624512, 12.242579460144043, 11.516840934753418, 14.26663875579834, 8.417566299438477, 8.057730674743652, 7.69725227355957, 7.3329291343688965, 6.976092338562012, 6.975914478302002, 6.973698139190674, 6.611264228820801, 6.255064010620117, 6.25506591796875, 6.255026817321777, 6.255029201507568, 6.252899646759033, 6.254810333251953, 6.249592304229736, 5.894290447235107, 5.894290447235107, 5.894290447235107, 5.894290447235107, 5.894650459289551, 5.894650459289551, 5.894650459289551, 5.894650459289551, 7.0018696784973145, 5.90504789352417, 21.515098571777344, 8.479440689086914, 17.192405700683594, 6.656147003173828, 7.053333282470703, 37.44710159301758, 34.015342712402344, 10.013679504394531, 13.73351764678955, 54.66434097290039, 83.73925018310547, 9.55135726928711, 12.900739669799805, 28.1018123626709, 39.25096893310547, 66.39599609375, 11.044703483581543, 25.16126251220703, 34.25621795654297, 41.053714752197266, 49.86219787597656, 32.496315002441406, 9.194701194763184, 24.43511962890625, 9.863486289978027, 5.544813632965088, 5.0972089767456055, 5.099088191986084, 7.793974876403809, 8.494096755981445, 3.2326838970184326, 2.9366238117218018, 2.9368650913238525, 2.9371464252471924, 2.9367198944091797, 2.9488675594329834, 3.2891685962677, 2.7888002395629883, 2.7888002395629883, 2.7888002395629883, 2.7888002395629883, 2.7888002395629883, 2.7888002395629883, 2.7888002395629883, 2.7895991802215576, 2.7895991802215576, 2.7895991802215576, 2.7895991802215576, 2.7895991802215576, 2.7895991802215576, 2.7895991802215576, 2.7895991802215576, 2.7895991802215576, 2.789592742919922, 2.789592742919922, 2.789592742919922, 2.789592742919922, 2.789592742919922, 2.789592742919922, 2.789592742919922, 2.789592742919922, 2.789592742919922, 2.789592742919922, 12.758347511291504, 3.580179452896118, 46.43292236328125, 51.965003967285156, 11.008123397827148, 4.143183708190918, 15.432210922241211, 12.791511535644531, 54.66434097290039, 3.9123198986053467, 14.624446868896484, 13.225330352783203, 39.25096893310547, 13.73351764678955, 66.39599609375, 25.16126251220703, 16.9034481048584, 13.378130912780762, 34.015342712402344, 4.924818515777588, 19.734529495239258, 17.192405700683594, 9.632462501525879, 5.787705421447754, 5.469574451446533, 5.170730113983154, 5.170730113983154, 5.170730113983154, 5.170730113983154, 5.170730113983154, 5.170730113983154, 7.250885963439941, 7.96343994140625, 15.432210922241211, 1.5611392259597778, 7.342183589935303, 9.046688079833984, 1.709118366241455, 9.934098243713379, 1.250134825706482, 1.2501373291015625, 1.250108242034912, 1.2501329183578491, 1.2501490116119385, 1.2494090795516968, 9.709640502929688, 1.7045503854751587, 9.907716751098633, 1.4367581605911255, 1.4797897338867188, 1.4799126386642456, 5.356327533721924, 1.610405683517456, 5.188862323760986, 24.43511962890625, 15.509400367736816, 32.496315002441406, 51.965003967285156, 49.86219787597656, 66.39599609375, 3.251404285430908, 12.543750762939453, 7.780294418334961, 7.568597316741943, 7.00508451461792, 2.2632226943969727, 1.8544516563415527, 1.8544880151748657, 1.854469656944275, 1.4456970691680908, 1.445687174797058, 1.445690393447876, 1.4457043409347534, 1.445682168006897, 1.4457032680511475, 1.4457169771194458, 1.4457552433013916, 1.4457643032073975, 2.1653733253479004, 2.2139439582824707, 1.5935407876968384, 1.6755534410476685, 2.4577553272247314, 1.8048148155212402, 1.036905288696289, 1.036905288696289, 1.0369054079055786, 1.03690505027771, 1.036905288696289, 1.0369049310684204, 1.036866307258606, 1.0368679761886597, 1.0368715524673462, 1.036874532699585, 1.9284920692443848, 4.260322570800781, 1.932443380355835, 2.162943124771118, 5.121206760406494, 3.2809088230133057, 7.077204704284668, 2.276327133178711, 3.052598237991333, 2.787343740463257, 6.642374038696289, 6.456348419189453, 3.72723126411438, 3.7277297973632812, 3.727973222732544, 3.5406408309936523, 3.5405914783477783, 3.353606700897217, 3.353606700897217, 3.353606700897217, 3.353606700897217, 3.353606700897217, 3.353606700897217, 3.353606700897217, 7.780294418334961, 4.140352249145508, 4.670986175537109, 4.9526872634887695, 5.524697303771973, 5.491827487945557, 6.564626216888428, 5.708712100982666, 2.358487367630005, 1.001477837562561, 8.613147735595703, 0.9800379276275635, 1.3123717308044434, 1.66341233253479, 1.2095863819122314, 0.814789354801178, 15.509400367736816, 11.012982368469238, 24.43511962890625, 11.116436958312988, 28.1018123626709, 19.734529495239258, 66.39599609375, 15.824270248413086, 7.56685209274292, 1.3223965167999268, 1.0875698328018188, 1.0875718593597412, 0.8578896522521973, 0.8578896522521973, 0.8578896522521973, 0.8578896522521973, 0.8578937649726868, 0.857893168926239, 0.857894241809845, 0.8578943014144897, 0.8578943014144897, 0.8578929901123047, 0.8578929901123047, 0.8578928112983704, 0.857895016670227, 0.8578959107398987, 0.8578864932060242, 0.8578869104385376, 0.8578870296478271, 0.8578871488571167, 0.8578875064849854, 0.857887327671051, 0.8578870296478271, 0.857887327671051, 0.8578884601593018, 0.8578884601593018, 0.8578884601593018, 0.8579404950141907, 1.6440943479537964, 2.4249932765960693, 2.2302446365356445, 11.928193092346191, 34.015342712402344, 25.16126251220703, 12.352867126464844, 9.046688079833984, 14.26663875579834, 1.5774390697479248, 1.2664519548416138, 1.2095863819122314, 2.631744861602783, 2.632755756378174, 0.8849369287490845, 9.907716751098633, 0.7565759420394897, 0.7565759420394897, 0.7565759420394897, 0.7565760016441345, 0.7565760612487793, 0.7565982341766357, 0.7566984295845032, 0.7566984295845032, 0.7569180130958557, 0.7569231986999512, 0.7574337124824524, 0.9045586585998535, 0.9044579267501831, 0.9862289428710938, 1.067439079284668, 1.0675976276397705, 1.2568010091781616, 1.4775762557983398, 1.6049131155014038, 1.8383359909057617, 0.9800379276275635, 2.2302446365356445, 1.2095863819122314, 0.920813798904419, 2.2353944778442383, 3.143120288848877, 2.99509596824646, 3.069202423095703, 3.251404285430908, 22.53997230529785, 4.07461404800415, 31.63343620300293, 13.395663261413574], \"Category\": [\"Default\", \"Default\", \"Default\", \"Default\", \"Default\", \"Default\", \"Default\", \"Default\", \"Default\", \"Default\", \"Default\", \"Default\", \"Default\", \"Default\", \"Default\", \"Default\", \"Default\", \"Default\", \"Default\", \"Default\", \"Default\", \"Default\", \"Default\", \"Default\", \"Default\", \"Default\", \"Default\", \"Default\", \"Default\", \"Default\", \"Topic1\", \"Topic1\", \"Topic1\", \"Topic1\", \"Topic1\", \"Topic1\", \"Topic1\", \"Topic1\", \"Topic1\", \"Topic1\", \"Topic1\", \"Topic1\", \"Topic1\", \"Topic1\", \"Topic1\", \"Topic1\", \"Topic1\", \"Topic1\", \"Topic1\", \"Topic1\", \"Topic1\", \"Topic1\", \"Topic1\", \"Topic1\", \"Topic1\", \"Topic1\", \"Topic1\", \"Topic1\", \"Topic1\", \"Topic1\", \"Topic1\", \"Topic1\", \"Topic1\", \"Topic1\", \"Topic1\", \"Topic1\", \"Topic1\", \"Topic1\", \"Topic1\", \"Topic1\", \"Topic1\", \"Topic1\", \"Topic1\", \"Topic1\", \"Topic1\", \"Topic1\", \"Topic1\", \"Topic1\", \"Topic1\", \"Topic1\", \"Topic1\", \"Topic1\", \"Topic2\", \"Topic2\", \"Topic2\", \"Topic2\", \"Topic2\", \"Topic2\", \"Topic2\", \"Topic2\", \"Topic2\", \"Topic2\", \"Topic2\", \"Topic2\", \"Topic2\", \"Topic2\", \"Topic2\", \"Topic2\", \"Topic2\", \"Topic2\", \"Topic2\", \"Topic2\", \"Topic2\", \"Topic2\", \"Topic2\", \"Topic2\", \"Topic2\", \"Topic2\", \"Topic2\", \"Topic2\", \"Topic2\", \"Topic2\", \"Topic2\", \"Topic2\", \"Topic2\", \"Topic2\", \"Topic2\", \"Topic2\", \"Topic2\", \"Topic2\", \"Topic2\", \"Topic2\", \"Topic2\", \"Topic2\", \"Topic2\", \"Topic2\", \"Topic2\", \"Topic2\", \"Topic2\", \"Topic2\", \"Topic2\", \"Topic2\", \"Topic2\", \"Topic2\", \"Topic2\", \"Topic2\", \"Topic3\", \"Topic3\", \"Topic3\", \"Topic3\", \"Topic3\", \"Topic3\", \"Topic3\", \"Topic3\", \"Topic3\", \"Topic3\", \"Topic3\", \"Topic3\", \"Topic3\", \"Topic3\", \"Topic3\", \"Topic3\", \"Topic3\", \"Topic3\", \"Topic3\", \"Topic3\", \"Topic3\", \"Topic3\", \"Topic3\", \"Topic3\", \"Topic3\", \"Topic3\", \"Topic3\", \"Topic3\", \"Topic3\", \"Topic3\", \"Topic3\", \"Topic3\", \"Topic3\", \"Topic3\", \"Topic3\", \"Topic3\", \"Topic3\", \"Topic3\", \"Topic3\", \"Topic3\", \"Topic3\", \"Topic3\", \"Topic3\", \"Topic3\", \"Topic3\", \"Topic3\", \"Topic3\", \"Topic3\", \"Topic3\", \"Topic3\", \"Topic3\", \"Topic3\", \"Topic3\", \"Topic3\", \"Topic3\", \"Topic3\", \"Topic3\", \"Topic3\", \"Topic3\", \"Topic3\", \"Topic3\", \"Topic3\", \"Topic4\", \"Topic4\", \"Topic4\", \"Topic4\", \"Topic4\", \"Topic4\", \"Topic4\", \"Topic4\", \"Topic4\", \"Topic4\", \"Topic4\", \"Topic4\", \"Topic4\", \"Topic4\", \"Topic4\", \"Topic4\", \"Topic4\", \"Topic4\", \"Topic4\", \"Topic4\", \"Topic4\", \"Topic4\", \"Topic4\", \"Topic4\", \"Topic4\", \"Topic4\", \"Topic4\", \"Topic4\", \"Topic4\", \"Topic4\", \"Topic4\", \"Topic4\", \"Topic4\", \"Topic4\", \"Topic4\", \"Topic4\", \"Topic4\", \"Topic4\", \"Topic4\", \"Topic4\", \"Topic4\", \"Topic5\", \"Topic5\", \"Topic5\", \"Topic5\", \"Topic5\", \"Topic5\", \"Topic5\", \"Topic5\", \"Topic5\", \"Topic5\", \"Topic5\", \"Topic5\", \"Topic5\", \"Topic5\", \"Topic5\", \"Topic5\", \"Topic5\", \"Topic5\", \"Topic5\", \"Topic5\", \"Topic5\", \"Topic5\", \"Topic5\", \"Topic5\", \"Topic5\", \"Topic5\", \"Topic5\", \"Topic5\", \"Topic5\", \"Topic5\", \"Topic5\", \"Topic5\", \"Topic5\", \"Topic5\", \"Topic5\", \"Topic5\", \"Topic5\", \"Topic5\", \"Topic5\", \"Topic5\", \"Topic6\", \"Topic6\", \"Topic6\", \"Topic6\", \"Topic6\", \"Topic6\", \"Topic6\", \"Topic6\", \"Topic6\", \"Topic6\", \"Topic6\", \"Topic6\", \"Topic6\", \"Topic6\", \"Topic6\", \"Topic6\", \"Topic6\", \"Topic6\", \"Topic6\", \"Topic6\", \"Topic6\", \"Topic6\", \"Topic6\", \"Topic6\", \"Topic6\", \"Topic6\", \"Topic6\", \"Topic6\", \"Topic6\", \"Topic6\", \"Topic6\", \"Topic6\", \"Topic6\", \"Topic6\", \"Topic6\", \"Topic6\", \"Topic6\", \"Topic6\", \"Topic7\", \"Topic7\", \"Topic7\", \"Topic7\", \"Topic7\", \"Topic7\", \"Topic7\", \"Topic7\", \"Topic7\", \"Topic7\", \"Topic7\", \"Topic7\", \"Topic7\", \"Topic7\", \"Topic7\", \"Topic7\", \"Topic7\", \"Topic7\", \"Topic7\", \"Topic7\", \"Topic7\", \"Topic7\", \"Topic7\", \"Topic7\", \"Topic7\", \"Topic7\", \"Topic7\", \"Topic7\", \"Topic7\", \"Topic7\", \"Topic7\", \"Topic7\", \"Topic7\", \"Topic7\", \"Topic7\", \"Topic7\", \"Topic7\", \"Topic7\", \"Topic7\", \"Topic7\", \"Topic7\", \"Topic7\", \"Topic8\", \"Topic8\", \"Topic8\", \"Topic8\", \"Topic8\", \"Topic8\", \"Topic8\", \"Topic8\", \"Topic8\", \"Topic8\", \"Topic8\", \"Topic8\", \"Topic8\", \"Topic8\", \"Topic8\", \"Topic8\", \"Topic8\", \"Topic8\", \"Topic8\", \"Topic8\", \"Topic8\", \"Topic8\", \"Topic8\", \"Topic8\", \"Topic8\", \"Topic8\", \"Topic8\", \"Topic8\", \"Topic8\", \"Topic8\", \"Topic8\", \"Topic8\", \"Topic8\", \"Topic8\", \"Topic8\", \"Topic8\", \"Topic8\"], \"logprob\": [30.0, 29.0, 28.0, 27.0, 26.0, 25.0, 24.0, 23.0, 22.0, 21.0, 20.0, 19.0, 18.0, 17.0, 16.0, 15.0, 14.0, 13.0, 12.0, 11.0, 10.0, 9.0, 8.0, 7.0, 6.0, 5.0, 4.0, 3.0, 2.0, 1.0, -4.226799964904785, -4.4355998039245605, -4.155900001525879, -4.597499847412109, -5.0366997718811035, -5.036799907684326, -5.036900043487549, -4.350599765777588, -5.091100215911865, -4.928299903869629, -5.14870023727417, -5.14870023727417, -5.148799896240234, -5.149199962615967, -5.150100231170654, -5.209799766540527, -5.21120023727417, -5.21120023727417, -5.21120023727417, -5.154200077056885, -5.211699962615967, -5.211699962615967, -5.2118000984191895, -4.536399841308594, -4.0106000900268555, -5.274799823760986, -4.78980016708374, -3.896399974822998, -4.689199924468994, -5.866799831390381, -5.128900051116943, -4.6092000007629395, -4.05709981918335, -3.2142999172210693, -3.831199884414673, -3.7553999423980713, -3.700700044631958, -4.241300106048584, -4.426199913024902, -4.344299793243408, -3.8032000064849854, -4.701700210571289, -4.184599876403809, -4.835700035095215, -4.728799819946289, -4.627200126647949, -3.949199914932251, -4.088500022888184, -4.381499767303467, -4.681600093841553, -4.38730001449585, -4.582799911499023, -3.86899995803833, -4.210100173950195, -4.378900051116943, -4.442999839782715, -4.237500190734863, -4.774199962615967, -4.820700168609619, -4.869900226593018, -4.922800064086914, -4.975800037384033, -4.975900173187256, -4.976500034332275, -5.034800052642822, -5.094299793243408, -5.094299793243408, -5.094399929046631, -5.094399929046631, -5.094900131225586, -5.094600200653076, -5.096799850463867, -5.15939998626709, -5.15939998626709, -5.15939998626709, -5.15939998626709, -5.160299777984619, -5.160299777984619, -5.160299777984619, -5.160299777984619, -4.98960018157959, -5.1666998863220215, -3.878999948501587, -4.805699825286865, -4.236400127410889, -5.057199954986572, -5.014900207519531, -3.766700029373169, -3.892400026321411, -4.801199913024902, -4.607800006866455, -3.7119998931884766, -3.519700050354004, -4.8520002365112305, -4.6875, -4.2565999031066895, -4.098499774932861, -3.8268001079559326, -4.791200160980225, -4.409200191497803, -4.386899948120117, -4.462299823760986, -4.440700054168701, -4.5706000328063965, -4.9243998527526855, -4.804299831390381, -3.6572000980377197, -4.284900188446045, -4.3780999183654785, -4.378799915313721, -3.9639999866485596, -3.9135000705718994, -4.911799907684326, -5.030200004577637, -5.030200004577637, -5.030300140380859, -5.0304999351501465, -5.03380012512207, -4.926599979400635, -5.095200061798096, -5.095200061798096, -5.095200061798096, -5.095200061798096, -5.095200061798096, -5.095200061798096, -5.095200061798096, -5.0954999923706055, -5.0954999923706055, -5.0954999923706055, -5.0954999923706055, -5.0954999923706055, -5.0954999923706055, -5.0954999923706055, -5.0954999923706055, -5.0954999923706055, -5.0960001945495605, -5.0960001945495605, -5.0960001945495605, -5.0960001945495605, -5.0960001945495605, -5.0960001945495605, -5.0960001945495605, -5.0960001945495605, -5.0960001945495605, -5.0960001945495605, -3.9763998985290527, -4.924499988555908, -3.517899990081787, -3.54229998588562, -4.3678998947143555, -4.906099796295166, -4.3231000900268555, -4.408899784088135, -3.7637999057769775, -4.947700023651123, -4.403200149536133, -4.45359992980957, -4.051400184631348, -4.5177001953125, -4.04610013961792, -4.395299911499023, -4.5625, -4.662099838256836, -4.6946001052856445, -4.96150016784668, -4.830599784851074, -4.847799777984619, -4.925300121307373, -3.924099922180176, -3.9886999130249023, -4.048299789428711, -4.048299789428711, -4.048299789428711, -4.048299789428711, -4.048299789428711, -4.048299789428711, -3.935800075531006, -3.9184999465942383, -3.269399881362915, -5.561100006103516, -4.057300090789795, -3.8940000534057617, -5.561100006103516, -3.8496999740600586, -5.924900054931641, -5.924900054931641, -5.924900054931641, -5.924900054931641, -5.924900054931641, -5.928800106048584, -3.900399923324585, -5.7382001876831055, -3.981800079345703, -5.924900054931641, -5.924900054931641, -5.924900054931641, -4.659299850463867, -5.925000190734863, -4.9182000160217285, -3.7218000888824463, -4.126200199127197, -3.928100109100342, -3.7014999389648438, -4.078000068664551, -3.9516000747680664, -5.541299819946289, -5.032100200653076, -5.511000156402588, -5.72189998626709, -3.441499948501587, -4.752200126647949, -5.0183000564575195, -5.0183000564575195, -5.0183000564575195, -5.3821001052856445, -5.3821001052856445, -5.382199764251709, -5.382199764251709, -5.382299900054932, -5.382400035858154, -5.382400035858154, -5.382699966430664, -5.382699966430664, -5.018599987030029, -5.023200035095215, -5.382299900054932, -5.383200168609619, -5.031799793243408, -5.391499996185303, -5.95959997177124, -5.95959997177124, -5.95959997177124, -5.95959997177124, -5.95959997177124, -5.95959997177124, -5.95989990234375, -5.95989990234375, -5.95989990234375, -5.95989990234375, -5.447400093078613, -4.845600128173828, -5.48390007019043, -5.410299777984619, -4.781300067901611, -5.117599964141846, -4.667399883270264, -5.431099891662598, -5.587800025939941, -5.647799968719482, -3.46370005607605, -3.494999885559082, -4.117700099945068, -4.118100166320801, -4.118599891662598, -4.178699970245361, -4.178899765014648, -4.24459981918335, -4.24459981918335, -4.24459981918335, -4.24459981918335, -4.24459981918335, -4.24459981918335, -4.24459981918335, -3.4391000270843506, -4.107100009918213, -4.0817999839782715, -4.149799823760986, -4.116000175476074, -4.1631999015808105, -4.002500057220459, -4.188600063323975, -5.125999927520752, -6.120699882507324, -4.036900043487549, -6.2993998527526855, -6.120800018310547, -5.90939998626709, -6.299499988555908, -6.6981000900268555, -3.789099931716919, -4.196100234985352, -3.5190000534057617, -4.334099769592285, -3.7023000717163086, -4.01200008392334, -3.2012999057769775, -4.194300174713135, -2.5862998962402344, -4.825099945068359, -5.179299831390381, -5.1793999671936035, -5.756899833679199, -5.756899833679199, -5.756899833679199, -5.756899833679199, -5.756999969482422, -5.756999969482422, -5.756999969482422, -5.756999969482422, -5.756999969482422, -5.756999969482422, -5.756999969482422, -5.756999969482422, -5.756999969482422, -5.756999969482422, -5.7571001052856445, -5.7571001052856445, -5.7571001052856445, -5.7571001052856445, -5.7571001052856445, -5.7571001052856445, -5.7571001052856445, -5.7571001052856445, -5.7571001052856445, -5.7571001052856445, -5.7571001052856445, -5.757199764251709, -5.179599761962891, -4.875400066375732, -5.320000171661377, -4.806600093841553, -5.020400047302246, -5.171599864959717, -5.360300064086914, -5.704699993133545, -5.706600189208984, -5.756899833679199, -5.756999969482422, -5.756999969482422, -3.1491000652313232, -3.148699998855591, -5.088500022888184, -3.0264999866485596, -5.665999889373779, -5.665999889373779, -5.665999889373779, -5.665999889373779, -5.665999889373779, -5.666100025177002, -5.6666998863220215, -5.6666998863220215, -5.669000148773193, -5.669000148773193, -5.671500205993652, -5.665999889373779, -5.666100025177002, -5.665999889373779, -5.665999889373779, -5.6666998863220215, -5.728600025177002, -5.666399955749512, -5.666200160980225, -5.670400142669678, -6.343400001525879, -5.67579984664917, -6.342400074005127, -6.65749979019165, -5.9029998779296875, -5.588699817657471, -5.687099933624268, -5.671999931335449, -5.666999816894531, -4.574900150299072, -5.614299774169922, -5.440299987792969, -5.648099899291992], \"loglift\": [30.0, 29.0, 28.0, 27.0, 26.0, 25.0, 24.0, 23.0, 22.0, 21.0, 20.0, 19.0, 18.0, 17.0, 16.0, 15.0, 14.0, 13.0, 12.0, 11.0, 10.0, 9.0, 8.0, 7.0, 6.0, 5.0, 4.0, 3.0, 2.0, 1.0, 0.8995000123977661, 0.8942000269889832, 0.881600022315979, 0.8751000165939331, 0.8707000017166138, 0.8705999851226807, 0.8705999851226807, 0.8702999949455261, 0.8677999973297119, 0.8658000230789185, 0.8644999861717224, 0.8644999861717224, 0.8644000291824341, 0.864300012588501, 0.8634999990463257, 0.86080002784729, 0.8603000044822693, 0.8603000044822693, 0.8603000044822693, 0.8601999878883362, 0.8597000241279602, 0.8597000241279602, 0.8596000075340271, 0.8587999939918518, 0.8578000068664551, 0.8565999865531921, 0.8490999937057495, 0.8461999893188477, 0.8082000017166138, 0.8022000193595886, 0.7573999762535095, 0.7174999713897705, 0.6414999961853027, 0.5108000040054321, 0.6067000031471252, 0.5593000054359436, 0.5428000092506409, 0.6545000076293945, 0.6585000157356262, 0.5982999801635742, 0.39899998903274536, 0.6980999708175659, 0.4343000054359436, 0.6983000040054321, 0.6230999827384949, 0.5070000290870667, 0.007899999618530273, 0.06310000270605087, 0.29019999504089355, 0.4887999892234802, 0.09549999982118607, -0.05299999937415123, 1.2863999605178833, 1.2747999429702759, 1.2690000534057617, 1.2659000158309937, 1.2573000192642212, 1.2482000589370728, 1.2453999519348145, 1.2419999837875366, 1.2375999689102173, 1.2345000505447388, 1.2344000339508057, 1.2340999841690063, 1.229200005531311, 1.225000023841858, 1.225000023841858, 1.225000023841858, 1.225000023841858, 1.2249000072479248, 1.2247999906539917, 1.2233999967575073, 1.2194000482559204, 1.2194000482559204, 1.2194000482559204, 1.2194000482559204, 1.218500018119812, 1.218500018119812, 1.218500018119812, 1.218500018119812, 1.2170000076293945, 1.2102999687194824, 1.2050000429153442, 1.2094000577926636, 1.0719000101089478, 1.2000000476837158, 1.184399962425232, 0.7631000280380249, 0.7336000204086304, 1.0476000308990479, 0.9251000285148621, 0.43959999084472656, 0.2054000049829483, 1.044100046157837, 0.9079999923706055, 0.5604000091552734, 0.38429999351501465, 0.13040000200271606, 0.9595999717712402, 0.5182999968528748, 0.23199999332427979, -0.024399999529123306, -0.1972000002861023, 0.10100000351667404, 1.0096999406814575, 0.15240000188350677, 2.206700086593628, 2.1549999713897705, 2.1459999084472656, 2.14490008354187, 2.1354000568389893, 2.099900007247925, 2.067699909210205, 2.045300006866455, 2.0452001094818115, 2.045099973678589, 2.0450000762939453, 2.0374999046325684, 2.0355000495910645, 2.031899929046631, 2.031899929046631, 2.031899929046631, 2.031899929046631, 2.031899929046631, 2.031899929046631, 2.031899929046631, 2.031399965286255, 2.031399965286255, 2.031399965286255, 2.031399965286255, 2.031399965286255, 2.031399965286255, 2.031399965286255, 2.031399965286255, 2.031399965286255, 2.030900001525879, 2.030900001525879, 2.030900001525879, 2.030900001525879, 2.030900001525879, 2.030900001525879, 2.030900001525879, 2.030900001525879, 2.030900001525879, 2.030900001525879, 1.6302000284194946, 1.9528000354766846, 0.7968000173568726, 0.6599000096321106, 1.386199951171875, 1.8251999616622925, 1.0931999683380127, 1.195099949836731, 0.387800008058548, 1.840999960899353, 1.0669000148773193, 1.1169999837875366, 0.43140000104904175, 1.0153000354766846, -0.08889999985694885, 0.5321999788284302, 0.7627000212669373, 0.8970000147819519, -0.06859999895095825, 1.5968999862670898, 0.33980000019073486, 0.46050000190734863, 0.9623000025749207, 2.472899913787842, 2.464900016784668, 2.4614999294281006, 2.4614999294281006, 2.4614999294281006, 2.4614999294281006, 2.4614999294281006, 2.4614999294281006, 2.2358999252319336, 2.15939998626709, 2.146899938583374, 2.1463000774383545, 2.101799964904785, 2.0564000606536865, 2.0557000637054443, 2.0071001052856445, 2.004699945449829, 2.004699945449829, 2.0046000480651855, 2.0046000480651855, 2.0046000480651855, 2.001300096511841, 1.9793000221252441, 1.8812999725341797, 1.8775999546051025, 1.8654999732971191, 1.8359999656677246, 1.8358999490737915, 1.8151999711990356, 1.7512999773025513, 1.5880999565124512, 1.2348999977111816, 1.2851999998092651, 0.7436000108718872, 0.5006999969482422, 0.1656000018119812, 0.00559999980032444, 1.4323999881744385, 0.5914000272750854, 0.5902000069618225, 0.40689998865127563, 2.7646000385284424, 2.5838000774383545, 2.516900062561035, 2.516900062561035, 2.516900062561035, 2.402100086212158, 2.402100086212158, 2.4019999504089355, 2.4019999504089355, 2.401900053024292, 2.4017999172210693, 2.401700019836426, 2.401400089263916, 2.401400089263916, 2.361599922180176, 2.3348000049591064, 2.304500102996826, 2.2534000873565674, 2.2218000888824463, 2.170799970626831, 2.156899929046631, 2.156899929046631, 2.156899929046631, 2.156899929046631, 2.156899929046631, 2.156899929046631, 2.1566998958587646, 2.1566998958587646, 2.1566998958587646, 2.1566998958587646, 2.0485999584198, 1.8579000234603882, 2.0100998878479004, 1.9709999561309814, 1.7381000518798828, 1.847100019454956, 1.528499960899353, 1.8991999626159668, 1.4490000009536743, 1.4799000024795532, 2.795599937438965, 2.7927000522613525, 2.719399929046631, 2.718899965286255, 2.718400001525879, 2.709700107574463, 2.7095999717712402, 2.698199987411499, 2.698199987411499, 2.698199987411499, 2.698199987411499, 2.698199987411499, 2.698199987411499, 2.698199987411499, 2.662100076675415, 2.6249001026153564, 2.529599905014038, 2.40310001373291, 2.3276000022888184, 2.286400079727173, 2.2685999870300293, 2.2221999168395996, 2.168800115585327, 2.030600070953369, 1.9625999927520752, 1.8736000061035156, 1.760200023651123, 1.7345000505447388, 1.6629999876022339, 1.659500002861023, 1.6222000122070312, 1.5576000213623047, 1.4378000497817993, 1.4103000164031982, 1.1145999431610107, 1.158400058746338, 0.7558000087738037, 1.1970000267028809, 3.54259991645813, 3.04830002784729, 2.8894999027252197, 2.8894999027252197, 2.549099922180176, 2.549099922180176, 2.549099922180176, 2.549099922180176, 2.549099922180176, 2.549099922180176, 2.549099922180176, 2.549099922180176, 2.549099922180176, 2.549099922180176, 2.5490000247955322, 2.5490000247955322, 2.5490000247955322, 2.5490000247955322, 2.5490000247955322, 2.5490000247955322, 2.5490000247955322, 2.5490000247955322, 2.5490000247955322, 2.5490000247955322, 2.5490000247955322, 2.5490000247955322, 2.5488998889923096, 2.5488998889923096, 2.5488998889923096, 2.548799991607666, 2.4758999347686768, 2.3914999961853027, 2.030600070953369, 0.8672999739646912, -0.3944999873638153, -0.24410000443458557, 0.2786000072956085, 0.24560000002384186, -0.21170000731945038, 1.940000057220459, 2.159600019454956, 2.2054998874664307, 4.036099910736084, 4.036099910736084, 3.186500072479248, 2.832900047302246, 2.765700101852417, 2.765700101852417, 2.765700101852417, 2.765700101852417, 2.765700101852417, 2.7655999660491943, 2.764899969100952, 2.764899969100952, 2.7623000144958496, 2.7623000144958496, 2.7590999603271484, 2.587100028991699, 2.587100028991699, 2.500699996948242, 2.4214999675750732, 2.4207000732421875, 2.1956000328063965, 2.0959999561309814, 2.0134999752044678, 1.8734999895095825, 1.8294999599456787, 1.6749000549316406, 1.6201000213623047, 1.5778000354766846, 1.4452999830245972, 1.4187999963760376, 1.3687000274658203, 1.3593000173568726, 1.3066999912261963, 0.4625000059604645, 1.1337000131607056, -0.7416999936103821, -0.09019999951124191]}, \"token.table\": {\"Topic\": [1, 6, 2, 5, 5, 7, 1, 2, 2, 5, 3, 3, 1, 5, 2, 1, 2, 3, 6, 5, 6, 6, 4, 6, 2, 3, 4, 6, 3, 2, 1, 4, 5, 3, 5, 1, 3, 6, 5, 2, 6, 2, 1, 3, 6, 7, 5, 2, 1, 2, 3, 1, 2, 1, 5, 2, 5, 3, 1, 1, 2, 3, 6, 4, 3, 1, 5, 2, 1, 2, 1, 2, 2, 1, 2, 3, 2, 7, 1, 1, 2, 3, 4, 4, 2, 3, 1, 2, 4, 4, 3, 4, 1, 6, 1, 2, 6, 5, 5, 4, 5, 1, 3, 5, 1, 4, 6, 1, 3, 1, 1, 2, 3, 2, 1, 3, 7, 2, 1, 1, 3, 6, 2, 6, 2, 3, 3, 1, 1, 3, 2, 3, 4, 1, 2, 6, 1, 2, 3, 1, 2, 4, 6, 1, 2, 2, 6, 2, 6, 1, 3, 4, 5, 1, 6, 1, 2, 4, 1, 2, 3, 4, 6, 1, 2, 4, 2, 5, 6, 3, 1, 2, 5, 3, 2, 3, 1, 1, 3, 1, 5, 4, 5, 4, 8, 4, 5, 3, 3, 2, 5, 3, 3, 4, 4, 1, 1, 2, 3, 1, 1, 3, 5, 6, 5, 3, 4, 8, 1, 2, 3, 7, 1, 2, 4, 1, 2, 1, 6, 3, 1, 2, 3, 6, 7, 1, 2, 1, 2, 3, 1, 2, 3, 4, 6, 1, 2, 3, 1, 5, 3, 1, 2, 6, 1, 3, 5, 1, 5, 3, 2, 3, 2, 3, 7, 4, 2, 5, 3, 5, 3, 1, 2, 4, 3, 3, 5, 5, 1, 2, 3, 4, 6, 1, 4, 3, 2, 1, 2, 4, 5, 2, 5, 1, 2, 3, 2, 2, 1, 5, 2, 3, 1, 2, 5, 3, 3, 1, 2, 6, 3, 6, 3, 1, 3, 3, 6, 2, 1, 2, 4, 2, 1, 3, 4, 4, 1, 3, 2, 2, 1, 2, 3, 1, 2, 3, 2, 5, 5, 2, 4, 6, 3, 3, 4, 2, 1, 1, 3, 2, 4, 6, 4, 1, 4, 3, 4, 3, 6, 5, 1, 6, 2, 4, 3, 1, 2, 1, 1, 2, 3, 7, 2, 1, 5, 3, 5, 3, 1, 3, 4, 6, 1, 2, 3, 1, 2, 6, 6, 2, 6, 1, 4, 8, 1, 2, 5, 1, 4, 1, 3, 2, 1, 2, 3, 5, 1, 2, 2, 3, 4, 1, 2, 3, 2, 1, 2, 1, 7, 1, 2, 3, 3, 2, 2, 4, 1, 2, 2], \"Freq\": [0.7264153957366943, 0.2724057734012604, 0.8482785224914551, 0.9644085764884949, 0.608237624168396, 0.608237624168396, 0.9416394233703613, 0.8482267260551453, 0.9715933799743652, 0.6917110085487366, 0.9809289574623108, 0.716950535774231, 0.4393041729927063, 0.4393041729927063, 0.9503934383392334, 0.8918159604072571, 0.8143130540847778, 0.1744956523180008, 0.8945592641830444, 0.7896075248718262, 0.6011738777160645, 0.8047268390655518, 0.5866649746894836, 0.8945592641830444, 0.1927204728126526, 0.3854409456253052, 0.3854409456253052, 0.8945592641830444, 0.6809982657432556, 0.9595547914505005, 0.9420220255851746, 0.8003783822059631, 0.5392377376556396, 0.8981296420097351, 0.8836956024169922, 0.9982470273971558, 0.30466318130493164, 0.6093263626098633, 0.6917149424552917, 0.860080361366272, 0.8473160266876221, 0.5439702272415161, 0.6706799268722534, 0.16766998171806335, 0.08383499085903168, 0.08383499085903168, 0.9644080996513367, 0.8482785224914551, 0.7441157698631287, 0.18602894246578217, 0.04650723561644554, 0.20939432084560394, 0.7328801155090332, 0.5185398459434509, 0.5185398459434509, 0.6095871925354004, 0.3047935962677002, 0.6782264709472656, 0.9507967829704285, 0.6891661882400513, 0.043072886765003204, 0.23690088093280792, 0.021536443382501602, 0.9669814109802246, 0.7169488668441772, 0.9530790448188782, 0.9644396305084229, 0.8482267260551453, 0.09295797348022461, 0.8831007480621338, 0.9366750121116638, 0.037467002868652344, 0.6767840385437012, 0.9979938268661499, 0.7989071607589722, 0.19972679018974304, 0.41237229108810425, 0.41237229108810425, 0.9416278004646301, 0.42074960470199585, 0.42074960470199585, 0.14634768664836884, 0.7999137043952942, 0.9669814109802246, 0.7613080739974976, 0.21751658618450165, 0.5231362581253052, 0.307727187871933, 0.1538635939359665, 0.9669814109802246, 0.2511477470397949, 0.6278693675994873, 0.36201077699661255, 0.5430161952972412, 0.6951347589492798, 0.06319406628608704, 0.1895821988582611, 0.8565207123756409, 0.9644082188606262, 0.6960113644599915, 0.46181413531303406, 0.25560280680656433, 0.7668084502220154, 0.4068753123283386, 0.464406281709671, 0.11610157042741776, 0.34830471873283386, 0.9517163634300232, 0.06344775855541229, 0.44838130474090576, 0.7290881872177124, 0.1215147003531456, 0.1215147003531456, 0.8482267260551453, 0.24136029183864594, 0.7240808606147766, 0.919479489326477, 0.9075419902801514, 0.9982424974441528, 0.6587438583374023, 0.15201781690120697, 0.20269042253494263, 0.62308669090271, 0.8047793507575989, 0.655331015586853, 0.29125821590423584, 0.7169488668441772, 0.9530275464057922, 0.6254147291183472, 0.3127073645591736, 0.7243291139602661, 0.18108227849006653, 0.09054113924503326, 0.8946966528892517, 0.8467332124710083, 0.8473042249679565, 0.8293859958648682, 0.11848371475934982, 0.05924185737967491, 0.16369880735874176, 0.3273976147174835, 0.24554821848869324, 0.24554821848869324, 0.9593896269798279, 0.053299423307180405, 0.21408754587173462, 0.6422626376152039, 0.4240005612373352, 0.4240005612373352, 0.20598085224628448, 0.20598085224628448, 0.5149521231651306, 0.9644082188606262, 0.241525337100029, 0.7245760560035706, 0.2210753858089447, 0.11053769290447235, 0.5526884198188782, 0.40665102005004883, 0.3012229800224304, 0.090366892516613, 0.0753057450056076, 0.1204891949892044, 0.6818792819976807, 0.22060801088809967, 0.08022109419107437, 0.46233299374580383, 0.46233299374580383, 0.9032915234565735, 0.7171542644500732, 0.2347240149974823, 0.2347240149974823, 0.4694480299949646, 0.9124562740325928, 0.9600626230239868, 0.7169488668441772, 0.9273324608802795, 0.8018128275871277, 0.1457841545343399, 0.9427878856658936, 0.6917078495025635, 0.6757717132568359, 0.9644082188606262, 0.9669814109802246, 0.7596603035926819, 0.7999046444892883, 0.9644445180892944, 0.716950535774231, 0.716950535774231, 0.5857994556427002, 0.3905329406261444, 0.7171542644500732, 0.7171542644500732, 0.9669814109802246, 0.5850969552993774, 0.8904815316200256, 0.5225571990013123, 0.3732551336288452, 0.07465102523565292, 0.952963650226593, 0.9071439504623413, 0.6809329986572266, 0.5540734529495239, 0.8945592641830444, 0.5392429828643799, 0.2018628567457199, 0.5046571493148804, 0.2018628567457199, 0.8285952210426331, 0.19121427834033966, 0.6810319423675537, 0.7562028169631958, 0.9455047249794006, 0.792749285697937, 0.1321248710155487, 0.6353564858436584, 0.34211501479148865, 0.36417749524116516, 0.5462662577629089, 0.7171542644500732, 0.23846180737018585, 0.4371799826622009, 0.1589745283126831, 0.07948726415634155, 0.039743632078170776, 0.997235119342804, 0.9592281579971313, 0.22683744132518768, 0.45367488265037537, 0.30244991183280945, 0.2579081058502197, 0.06447702646255493, 0.12895405292510986, 0.2579081058502197, 0.2579081058502197, 0.3549571633338928, 0.3549571633338928, 0.2366381138563156, 0.9982470273971558, 0.6917043924331665, 0.716950535774231, 0.35584893822669983, 0.4626036286354065, 0.17792446911334991, 0.4061063230037689, 0.609159529209137, 0.9644429683685303, 0.9760437607765198, 0.5968177318572998, 0.716950535774231, 0.8482785224914551, 0.980567455291748, 0.7267093062400818, 0.3114468455314636, 0.9194811582565308, 0.8639002442359924, 0.8601022958755493, 0.6339389085769653, 0.716950535774231, 0.6917048692703247, 0.7171542644500732, 0.47832584381103516, 0.31888389587402344, 0.15944194793701172, 0.7169488668441772, 0.716950535774231, 0.6275333762168884, 0.5392323732376099, 0.5965553522109985, 0.07697488367557526, 0.19243720173835754, 0.1347060352563858, 0.019243720918893814, 0.4026535451412201, 0.6039803624153137, 0.7171542644500732, 0.8569139838218689, 0.3258175551891327, 0.6516351103782654, 0.7999307513237, 0.9644368290901184, 0.706493616104126, 0.28259745240211487, 0.3738607168197632, 0.5874953866004944, 0.02670433558523655, 0.959228515625, 0.8482785224914551, 0.5174795985221863, 0.5174795985221863, 0.9592224955558777, 0.9017435908317566, 0.9249797463417053, 0.06606998294591904, 0.4516826272010803, 0.716950535774231, 0.9120845794677734, 0.770085871219635, 0.15401716530323029, 0.07700858265161514, 0.35034170746803284, 0.5255125761032104, 0.7169488668441772, 0.9981119632720947, 0.7169488668441772, 0.7169488668441772, 0.8945592641830444, 0.8506616353988647, 0.37339016795158386, 0.18669508397579193, 0.5600852370262146, 0.636310338973999, 0.8293670415878296, 0.1036708801984787, 0.6405578851699829, 0.6757155656814575, 0.5450520515441895, 0.4542100131511688, 0.9551230072975159, 0.9094154238700867, 0.4331103265285492, 0.4076332449913025, 0.15286247432231903, 0.7586908936500549, 0.18967272341251373, 0.03161212056875229, 0.901422381401062, 0.9644084572792053, 0.6916800141334534, 0.954598069190979, 0.1285298466682434, 0.7711790204048157, 0.716950535774231, 0.3239976465702057, 0.6479952931404114, 0.9928353428840637, 0.9416232705116272, 0.9980066418647766, 0.9280214309692383, 0.9434584379196167, 0.2019105851650238, 0.6057317852973938, 0.7999149560928345, 0.27582836151123047, 0.6895709037780762, 0.27239853143692017, 0.680996298789978, 0.7171542644500732, 0.9293178915977478, 0.6917125582695007, 0.7196550369262695, 0.2698706388473511, 0.30755940079689026, 0.30755940079689026, 0.7169488668441772, 0.9135246276855469, 0.07027111947536469, 0.7956709265708923, 0.32338348031044006, 0.558571457862854, 0.08819549530744553, 0.029398499056696892, 0.9801855683326721, 0.35876449942588806, 0.35876449942588806, 0.6810542345046997, 0.6916756629943848, 0.716950535774231, 0.1177288219332695, 0.8241017460823059, 0.9669814109802246, 0.8945592641830444, 0.6130273938179016, 0.3503013551235199, 0.02919178083539009, 0.15502986311912537, 0.6976343989372253, 0.07751493155956268, 0.8048869967460632, 0.9592227935791016, 0.8945592641830444, 0.9597567915916443, 0.9141479134559631, 0.7599520683288574, 0.3275897800922394, 0.3275897800922394, 0.3275897800922394, 0.9697093367576599, 0.7999120950698853, 0.6837865710258484, 0.27351462841033936, 0.8603756427764893, 0.6727397441864014, 0.07474885880947113, 0.2242465764284134, 0.6916983127593994, 0.6568007469177246, 0.33437126874923706, 0.24542202055454254, 0.4908440411090851, 0.24542202055454254, 0.7262942790985107, 0.24209809303283691, 0.7169488668441772, 0.9983639121055603, 0.7307499647140503, 0.2679416537284851, 0.941886842250824, 0.9250874519348145, 0.313520222902298, 0.0783800557255745, 0.548660397529602, 0.8379468321800232, 0.8482267260551453, 0.9112167358398438, 0.6209615468978882, 0.6677582263946533, 0.33387911319732666, 0.9592617154121399], \"Term\": [\"able\", \"able\", \"abroad\", \"absolute\", \"accommodate\", \"accommodate\", \"add\", \"alone\", \"always\", \"appetizer\", \"appreciate\", \"aproximately\", \"arrival\", \"arrival\", \"attentive\", \"authentic\", \"back\", \"back\", \"backtound\", \"base\", \"beef\", \"best\", \"birthday\", \"box\", \"bring\", \"bring\", \"bring\", \"burning\", \"burst\", \"business\", \"butter\", \"cake\", \"catch\", \"charge\", \"chat\", \"chef\", \"chicken\", \"chicken\", \"chit\", \"choice\", \"cold\", \"combine\", \"come\", \"come\", \"come\", \"come\", \"complimentary\", \"consider\", \"cook\", \"cook\", \"cook\", \"cooked\", \"cooked\", \"cosy\", \"cosy\", \"couple\", \"couple\", \"crispy\", \"cuisine\", \"cypriot\", \"cypriot\", \"cypriot\", \"cypriot\", \"cyrpus\", \"daughter\", \"day\", \"default\", \"defenitely\", \"definitely\", \"definitely\", \"delicious\", \"delicious\", \"describe\", \"die\", \"different\", \"different\", \"dinner\", \"dinner\", \"dip\", \"dish\", \"dish\", \"dish\", \"disturb\", \"dream\", \"drink\", \"drink\", \"eat\", \"eat\", \"eat\", \"eggplant\", \"empty\", \"empty\", \"end\", \"end\", \"enjoy\", \"enjoy\", \"enjoy\", \"ensure\", \"escort\", \"especially\", \"establishment\", \"euro\", \"euro\", \"even\", \"evening\", \"evening\", \"evening\", \"ever\", \"ever\", \"exceptional\", \"experience\", \"experience\", \"experience\", \"expertly\", \"extra\", \"extra\", \"extremely\", \"fact\", \"fake\", \"family\", \"family\", \"family\", \"far\", \"favorite\", \"feel\", \"feel\", \"feta\", \"finish\", \"fire\", \"fire\", \"first\", \"first\", \"first\", \"forget\", \"forward\", \"frendly\", \"fresh\", \"fresh\", \"fresh\", \"friend\", \"friend\", \"friend\", \"friend\", \"friendly\", \"friendly\", \"fruit\", \"fruit\", \"fry\", \"fry\", \"full\", \"full\", \"full\", \"garden\", \"genuine\", \"genuine\", \"get\", \"get\", \"get\", \"go\", \"go\", \"go\", \"go\", \"go\", \"great\", \"great\", \"great\", \"guest\", \"guest\", \"hear\", \"heartwarme\", \"high\", \"high\", \"high\", \"home\", \"homemade\", \"hook\", \"hospitable\", \"hospitality\", \"hospitality\", \"hot\", \"house\", \"however\", \"huge\", \"hummus\", \"husband\", \"idea\", \"immediately\", \"important\", \"improtant\", \"include\", \"include\", \"indulge\", \"instance\", \"intimate\", \"invite\", \"keep\", \"know\", \"know\", \"know\", \"lamb_chop\", \"last\", \"left\", \"life\", \"listen\", \"little\", \"live\", \"live\", \"live\", \"local\", \"local\", \"log\", \"long\", \"look\", \"lot\", \"lot\", \"love\", \"love\", \"lovely\", \"lovely\", \"magnificant\", \"make\", \"make\", \"make\", \"make\", \"make\", \"manage\", \"manner\", \"many\", \"many\", \"many\", \"meal\", \"meal\", \"meal\", \"meal\", \"meal\", \"meat\", \"meat\", \"meat\", \"middle\", \"moist\", \"mother\", \"mushroom\", \"mushroom\", \"mushroom\", \"music\", \"music\", \"natural\", \"never\", \"non\", \"notice\", \"numerous\", \"occasion\", \"offer\", \"offer\", \"ok\", \"old\", \"open\", \"option\", \"outdoors\", \"overly\", \"overwhelmingly\", \"owner\", \"owner\", \"owner\", \"pack\", \"pair\", \"part\", \"pita\", \"place\", \"place\", \"place\", \"place\", \"place\", \"plate\", \"plate\", \"pleasure\", \"plenty\", \"portion\", \"portion\", \"possible\", \"practically\", \"price\", \"price\", \"quality\", \"quality\", \"quality\", \"range\", \"ranking\", \"rare\", \"rare\", \"ready\", \"real\", \"really\", \"really\", \"reasonable\", \"reccomende\", \"receive\", \"recommend\", \"recommend\", \"recommend\", \"red\", \"red\", \"refill\", \"remain\", \"remember\", \"request\", \"require\", \"return\", \"review\", \"review\", \"review\", \"right\", \"salad\", \"salad\", \"satisfied\", \"sauce\", \"say\", \"say\", \"second\", \"selection\", \"serve\", \"serve\", \"serve\", \"service\", \"service\", \"service\", \"several\", \"shock\", \"showcase\", \"simple\", \"sit\", \"sit\", \"slowly\", \"small\", \"small\", \"smile\", \"son\", \"space\", \"special\", \"standard\", \"start\", \"start\", \"state\", \"still\", \"still\", \"stomach\", \"stomach\", \"stop\", \"summer\", \"super\", \"sweet\", \"sweet\", \"table\", \"table\", \"tahini\", \"taste\", \"taste\", \"tasteful\", \"tavern\", \"tavern\", \"tavern\", \"tavern\", \"taverna\", \"tell\", \"tell\", \"temperature\", \"tender\", \"thepork\", \"think\", \"think\", \"thinking\", \"tick\", \"time\", \"time\", \"time\", \"top\", \"top\", \"top\", \"touch\", \"town\", \"tradition\", \"traditional\", \"traditionally\", \"travel\", \"trip\", \"trip\", \"trip\", \"try\", \"type\", \"typical\", \"typical\", \"value_money\", \"variety\", \"variety\", \"variety\", \"village\", \"visit\", \"visit\", \"wait\", \"wait\", \"wait\", \"want\", \"want\", \"warmth\", \"welcome\", \"well\", \"well\", \"whole\", \"wide\", \"wine\", \"wine\", \"wine\", \"winter\", \"wood\", \"worth\", \"wrong\", \"year\", \"year\", \"yet\"]}, \"R\": 30, \"lambda.step\": 0.01, \"plot.opts\": {\"xlab\": \"PC1\", \"ylab\": \"PC2\"}, \"topic.order\": [1, 7, 8, 6, 4, 2, 3, 5]};\n",
       "\n",
       "function LDAvis_load_lib(url, callback){\n",
       "  var s = document.createElement('script');\n",
       "  s.src = url;\n",
       "  s.async = true;\n",
       "  s.onreadystatechange = s.onload = callback;\n",
       "  s.onerror = function(){console.warn(\"failed to load library \" + url);};\n",
       "  document.getElementsByTagName(\"head\")[0].appendChild(s);\n",
       "}\n",
       "\n",
       "if(typeof(LDAvis) !== \"undefined\"){\n",
       "   // already loaded: just create the visualization\n",
       "   !function(LDAvis){\n",
       "       new LDAvis(\"#\" + \"ldavis_el922427695286231769553967365\", ldavis_el922427695286231769553967365_data);\n",
       "   }(LDAvis);\n",
       "}else if(typeof define === \"function\" && define.amd){\n",
       "   // require.js is available: use it to load d3/LDAvis\n",
       "   require.config({paths: {d3: \"https://cdnjs.cloudflare.com/ajax/libs/d3/3.5.5/d3.min\"}});\n",
       "   require([\"d3\"], function(d3){\n",
       "      window.d3 = d3;\n",
       "      LDAvis_load_lib(\"https://cdn.rawgit.com/bmabey/pyLDAvis/files/ldavis.v1.0.0.js\", function(){\n",
       "        new LDAvis(\"#\" + \"ldavis_el922427695286231769553967365\", ldavis_el922427695286231769553967365_data);\n",
       "      });\n",
       "    });\n",
       "}else{\n",
       "    // require.js not available: dynamically load d3 & LDAvis\n",
       "    LDAvis_load_lib(\"https://cdnjs.cloudflare.com/ajax/libs/d3/3.5.5/d3.min.js\", function(){\n",
       "         LDAvis_load_lib(\"https://cdn.rawgit.com/bmabey/pyLDAvis/files/ldavis.v1.0.0.js\", function(){\n",
       "                 new LDAvis(\"#\" + \"ldavis_el922427695286231769553967365\", ldavis_el922427695286231769553967365_data);\n",
       "            })\n",
       "         });\n",
       "}\n",
       "</script>"
      ],
      "text/plain": [
       "PreparedData(topic_coordinates=              x         y  topics  cluster       Freq\n",
       "topic                                                \n",
       "0     -0.049238  0.247457       1        1  39.667736\n",
       "6      0.119478  0.206342       2        1  26.897627\n",
       "7      0.290199  0.011897       3        1  10.348396\n",
       "5     -0.167273 -0.142955       4        1   7.637405\n",
       "3      0.059966 -0.176169       5        1   5.833822\n",
       "1     -0.239329  0.063141       6        1   5.572613\n",
       "2     -0.013357 -0.139475       7        1   2.676374\n",
       "4     -0.000445 -0.070239       8        1   1.366024, topic_info=        Term       Freq      Total Category  logprob  loglift\n",
       "11        go  66.000000  66.000000  Default  30.0000  30.0000\n",
       "88    friend  24.000000  24.000000  Default  29.0000  29.0000\n",
       "107    place  51.000000  51.000000  Default  28.0000  28.0000\n",
       "284    never  22.000000  22.000000  Default  27.0000  27.0000\n",
       "131  cypriot  46.000000  46.000000  Default  26.0000  26.0000\n",
       "..       ...        ...        ...      ...      ...      ...\n",
       "162    table   0.164071   3.251404   Topic8  -5.6670   1.3067\n",
       "284    never   0.488978  22.539972   Topic8  -4.5749   0.4625\n",
       "272     wait   0.172949   4.074614   Topic8  -5.6143   1.1337\n",
       "24   service   0.205814  31.633436   Topic8  -5.4403  -0.7417\n",
       "402     know   0.167203  13.395663   Topic8  -5.6481  -0.0902\n",
       "\n",
       "[396 rows x 6 columns], token_table=      Topic      Freq         Term\n",
       "term                              \n",
       "666       1  0.726415         able\n",
       "666       6  0.272406         able\n",
       "962       2  0.848279       abroad\n",
       "94        5  0.964409     absolute\n",
       "191       5  0.608238  accommodate\n",
       "...     ...       ...          ...\n",
       "199       2  0.911217        worth\n",
       "463       4  0.620962        wrong\n",
       "32        1  0.667758         year\n",
       "32        2  0.333879         year\n",
       "423       2  0.959262          yet\n",
       "\n",
       "[419 rows x 3 columns], R=30, lambda_step=0.01, plot_opts={'xlab': 'PC1', 'ylab': 'PC2'}, topic_order=[1, 7, 8, 6, 4, 2, 3, 5])"
      ]
     },
     "metadata": {},
     "output_type": "display_data"
    }
   ],
   "source": [
    "plot_model(lda_pos_tuned, plot ='topic_model')"
   ]
  },
  {
   "cell_type": "markdown",
   "metadata": {},
   "source": [
    "## Negative reviews"
   ]
  },
  {
   "cell_type": "code",
   "execution_count": 21,
   "metadata": {},
   "outputs": [
    {
     "data": {
      "text/html": [
       "<style  type=\"text/css\" >\n",
       "</style><table id=\"T_723796ba_3014_11eb_b35d_c48e8ff9d2e0\" ><thead>    <tr>        <th class=\"col_heading level0 col0\" >Description</th>        <th class=\"col_heading level0 col1\" >Value</th>    </tr></thead><tbody>\n",
       "                <tr>\n",
       "                                <td id=\"T_723796ba_3014_11eb_b35d_c48e8ff9d2e0row0_col0\" class=\"data row0 col0\" >session_id</td>\n",
       "                        <td id=\"T_723796ba_3014_11eb_b35d_c48e8ff9d2e0row0_col1\" class=\"data row0 col1\" >7416</td>\n",
       "            </tr>\n",
       "            <tr>\n",
       "                                <td id=\"T_723796ba_3014_11eb_b35d_c48e8ff9d2e0row1_col0\" class=\"data row1 col0\" >Documents</td>\n",
       "                        <td id=\"T_723796ba_3014_11eb_b35d_c48e8ff9d2e0row1_col1\" class=\"data row1 col1\" >3</td>\n",
       "            </tr>\n",
       "            <tr>\n",
       "                                <td id=\"T_723796ba_3014_11eb_b35d_c48e8ff9d2e0row2_col0\" class=\"data row2 col0\" >Vocab Size</td>\n",
       "                        <td id=\"T_723796ba_3014_11eb_b35d_c48e8ff9d2e0row2_col1\" class=\"data row2 col1\" >68</td>\n",
       "            </tr>\n",
       "            <tr>\n",
       "                                <td id=\"T_723796ba_3014_11eb_b35d_c48e8ff9d2e0row3_col0\" class=\"data row3 col0\" >Custom Stopwords</td>\n",
       "                        <td id=\"T_723796ba_3014_11eb_b35d_c48e8ff9d2e0row3_col1\" class=\"data row3 col1\" >True</td>\n",
       "            </tr>\n",
       "    </tbody></table>"
      ],
      "text/plain": [
       "<pandas.io.formats.style.Styler at 0x284d1901248>"
      ]
     },
     "metadata": {},
     "output_type": "display_data"
    }
   ],
   "source": [
    "exp_nlp_neg = setup(data = neg_review_imp, target = 'r_text',\n",
    "                custom_stopwords = [ 'hotel', 'room', 'nice', 'good','restaurant', 'food','bad'])"
   ]
  },
  {
   "cell_type": "code",
   "execution_count": 22,
   "metadata": {},
   "outputs": [
    {
     "name": "stdout",
     "output_type": "stream",
     "text": [
      "LdaModel(num_terms=68, num_topics=4, decay=0.5, chunksize=100)\n"
     ]
    }
   ],
   "source": [
    "#create an LDA model\n",
    "lda_neg_custom = create_model('lda')\n",
    "print(lda_neg_custom)"
   ]
  },
  {
   "cell_type": "code",
   "execution_count": 23,
   "metadata": {},
   "outputs": [
    {
     "data": {
      "text/html": [
       "<div>\n",
       "<style scoped>\n",
       "    .dataframe tbody tr th:only-of-type {\n",
       "        vertical-align: middle;\n",
       "    }\n",
       "\n",
       "    .dataframe tbody tr th {\n",
       "        vertical-align: top;\n",
       "    }\n",
       "\n",
       "    .dataframe thead th {\n",
       "        text-align: right;\n",
       "    }\n",
       "</style>\n",
       "<table border=\"1\" class=\"dataframe\">\n",
       "  <thead>\n",
       "    <tr style=\"text-align: right;\">\n",
       "      <th></th>\n",
       "      <th>Unnamed: 0</th>\n",
       "      <th>r_points</th>\n",
       "      <th>r_text</th>\n",
       "      <th>place</th>\n",
       "      <th>scores</th>\n",
       "      <th>compound</th>\n",
       "      <th>score</th>\n",
       "      <th>Topic_0</th>\n",
       "      <th>Topic_1</th>\n",
       "      <th>Topic_2</th>\n",
       "      <th>Topic_3</th>\n",
       "      <th>Dominant_Topic</th>\n",
       "      <th>Perc_Dominant_Topic</th>\n",
       "    </tr>\n",
       "  </thead>\n",
       "  <tbody>\n",
       "    <tr>\n",
       "      <th>0</th>\n",
       "      <td>39</td>\n",
       "      <td>30</td>\n",
       "      <td>collect order phone ready time quality staff p...</td>\n",
       "      <td>Louis Tavern &amp; Restaurant</td>\n",
       "      <td>{'neg': 0.125, 'neu': 0.703, 'pos': 0.173, 'co...</td>\n",
       "      <td>-0.0767</td>\n",
       "      <td>neg</td>\n",
       "      <td>0.005938</td>\n",
       "      <td>0.986955</td>\n",
       "      <td>0.005379</td>\n",
       "      <td>0.001728</td>\n",
       "      <td>Topic 1</td>\n",
       "      <td>0.99</td>\n",
       "    </tr>\n",
       "    <tr>\n",
       "      <th>1</th>\n",
       "      <td>71</td>\n",
       "      <td>10</td>\n",
       "      <td>base review go regret much go family small gir...</td>\n",
       "      <td>Louis Tavern &amp; Restaurant</td>\n",
       "      <td>{'neg': 0.092, 'neu': 0.849, 'pos': 0.059, 'co...</td>\n",
       "      <td>-0.8331</td>\n",
       "      <td>neg</td>\n",
       "      <td>0.997843</td>\n",
       "      <td>0.000937</td>\n",
       "      <td>0.000923</td>\n",
       "      <td>0.000297</td>\n",
       "      <td>Topic 0</td>\n",
       "      <td>1.00</td>\n",
       "    </tr>\n",
       "    <tr>\n",
       "      <th>2</th>\n",
       "      <td>103</td>\n",
       "      <td>30</td>\n",
       "      <td>overall special average quality foodservice gr...</td>\n",
       "      <td>Louis Tavern &amp; Restaurant</td>\n",
       "      <td>{'neg': 0.175, 'neu': 0.725, 'pos': 0.101, 'co...</td>\n",
       "      <td>-0.3311</td>\n",
       "      <td>neg</td>\n",
       "      <td>0.007099</td>\n",
       "      <td>0.006527</td>\n",
       "      <td>0.984308</td>\n",
       "      <td>0.002066</td>\n",
       "      <td>Topic 2</td>\n",
       "      <td>0.98</td>\n",
       "    </tr>\n",
       "  </tbody>\n",
       "</table>\n",
       "</div>"
      ],
      "text/plain": [
       "   Unnamed: 0  r_points                                             r_text  \\\n",
       "0          39        30  collect order phone ready time quality staff p...   \n",
       "1          71        10  base review go regret much go family small gir...   \n",
       "2         103        30  overall special average quality foodservice gr...   \n",
       "\n",
       "                       place  \\\n",
       "0  Louis Tavern & Restaurant   \n",
       "1  Louis Tavern & Restaurant   \n",
       "2  Louis Tavern & Restaurant   \n",
       "\n",
       "                                              scores  compound score  \\\n",
       "0  {'neg': 0.125, 'neu': 0.703, 'pos': 0.173, 'co...   -0.0767   neg   \n",
       "1  {'neg': 0.092, 'neu': 0.849, 'pos': 0.059, 'co...   -0.8331   neg   \n",
       "2  {'neg': 0.175, 'neu': 0.725, 'pos': 0.101, 'co...   -0.3311   neg   \n",
       "\n",
       "    Topic_0   Topic_1   Topic_2   Topic_3 Dominant_Topic  Perc_Dominant_Topic  \n",
       "0  0.005938  0.986955  0.005379  0.001728        Topic 1                 0.99  \n",
       "1  0.997843  0.000937  0.000923  0.000297        Topic 0                 1.00  \n",
       "2  0.007099  0.006527  0.984308  0.002066        Topic 2                 0.98  "
      ]
     },
     "execution_count": 23,
     "metadata": {},
     "output_type": "execute_result"
    }
   ],
   "source": [
    "apply_lda_neg = assign_model(lda_neg_custom)\n",
    "apply_lda_neg"
   ]
  },
  {
   "cell_type": "code",
   "execution_count": 24,
   "metadata": {},
   "outputs": [
    {
     "data": {
      "application/vnd.jupyter.widget-view+json": {
       "model_id": "e68cd4074a72447bb2c2e31adc436927",
       "version_major": 2,
       "version_minor": 0
      },
      "text/plain": [
       "interactive(children=(ToggleButtons(description='Plot Type:', icons=('',), options=(('Frequency Plot', 'freque…"
      ]
     },
     "metadata": {},
     "output_type": "display_data"
    }
   ],
   "source": [
    "evaluate_model(lda_neg_custom)"
   ]
  },
  {
   "cell_type": "code",
   "execution_count": 26,
   "metadata": {},
   "outputs": [
    {
     "data": {
      "text/html": [
       "        <script type=\"text/javascript\">\n",
       "        window.PlotlyConfig = {MathJaxConfig: 'local'};\n",
       "        if (window.MathJax) {MathJax.Hub.Config({SVG: {font: \"STIX-Web\"}});}\n",
       "        if (typeof require !== 'undefined') {\n",
       "        require.undef(\"plotly\");\n",
       "        requirejs.config({\n",
       "            paths: {\n",
       "                'plotly': ['https://cdn.plot.ly/plotly-latest.min']\n",
       "            }\n",
       "        });\n",
       "        require(['plotly'], function(Plotly) {\n",
       "            window._Plotly = Plotly;\n",
       "        });\n",
       "        }\n",
       "        </script>\n",
       "        "
      ]
     },
     "metadata": {},
     "output_type": "display_data"
    },
    {
     "data": {
      "text/html": [
       "\n",
       "<link rel=\"stylesheet\" type=\"text/css\" href=\"https://cdn.rawgit.com/bmabey/pyLDAvis/files/ldavis.v1.0.0.css\">\n",
       "\n",
       "\n",
       "<div id=\"ldavis_el922427695560716242112271455\"></div>\n",
       "<script type=\"text/javascript\">\n",
       "\n",
       "var ldavis_el922427695560716242112271455_data = {\"mdsDat\": {\"x\": [0.07203434331548322, -0.08029545627110726, 0.0023932881032339877, 0.005867824852390053], \"y\": [-0.061594637703307954, -3.754806528507515e-05, 0.06774103529774923, -0.006108849529156211], \"topics\": [1, 2, 3, 4], \"cluster\": [1, 1, 1, 1], \"Freq\": [76.33235168457031, 12.876625061035156, 10.723849296569824, 0.06716882437467575]}, \"tinfo\": {\"Term\": [\"portion\", \"family\", \"small\", \"much\", \"salty\", \"order\", \"go\", \"include\", \"eat\", \"base\", \"cypriot\", \"review\", \"bit\", \"even\", \"twice\", \"water\", \"car\", \"lot\", \"young\", \"beer\", \"choose\", \"finish\", \"get\", \"actually\", \"casual\", \"usually\", \"also\", \"adult\", \"parking\", \"agree\", \"portion\", \"small\", \"much\", \"salty\", \"go\", \"include\", \"eat\", \"base\", \"cypriot\", \"review\", \"bit\", \"twice\", \"water\", \"car\", \"lot\", \"young\", \"beer\", \"choose\", \"finish\", \"get\", \"actually\", \"casual\", \"usually\", \"also\", \"adult\", \"parking\", \"agree\", \"insist\", \"barely\", \"owner\", \"family\", \"order\", \"venue\", \"collect\", \"phone\", \"look\", \"eating\", \"ready\", \"pleasant\", \"staff\", \"time\", \"quality\", \"great\", \"order\", \"special\", \"overall\", \"restaurantthe\", \"average\", \"foodservice\", \"desser\", \"child\", \"always\", \"get\", \"pay\", \"crisis\", \"middle\", \"tavern\", \"owner\", \"usually\", \"location\", \"think\", \"elsewhere\", \"insist\", \"finish\", \"also\", \"actually\", \"even\", \"family\", \"portion\", \"small\", \"much\", \"salty\", \"base\", \"bit\", \"eat\", \"go\", \"include\", \"cypriot\", \"desser\", \"foodservice\", \"average\", \"restaurantthe\", \"overall\", \"special\", \"great\", \"quality\", \"even\", \"family\", \"time\", \"eating\", \"look\", \"staff\", \"ready\", \"pleasant\", \"collect\", \"venue\", \"phone\", \"location\", \"crisis\", \"tavern\", \"call\", \"regret\", \"elsewhere\", \"child\", \"always\", \"middle\", \"euros\", \"typical\", \"portion\", \"girl\", \"want\", \"part\", \"pay\", \"dinner\", \"use\", \"bit\", \"review\", \"salty\", \"order\", \"much\", \"cypriot\", \"small\", \"eat\", \"base\", \"include\", \"go\", \"foodservice\", \"desser\", \"restaurantthe\", \"average\", \"overall\", \"special\", \"pleasant\", \"look\", \"eating\", \"venue\", \"ready\", \"staff\", \"time\", \"collect\", \"phone\", \"great\", \"quality\", \"location\", \"crisis\", \"tavern\", \"regret\", \"child\", \"call\", \"elsewhere\", \"always\", \"middle\", \"typical\", \"euros\", \"pay\", \"part\", \"girl\", \"want\", \"owner\", \"barely\", \"parking\", \"insist\", \"even\", \"order\", \"family\", \"portion\", \"much\", \"eat\", \"small\", \"go\", \"bit\", \"cypriot\", \"salty\", \"review\", \"include\"], \"Freq\": [5.0, 2.0, 2.0, 2.0, 2.0, 2.0, 2.0, 2.0, 2.0, 2.0, 2.0, 2.0, 2.0, 1.0, 1.0, 1.0, 1.0, 1.0, 1.0, 1.0, 1.0, 1.0, 1.0, 1.0, 1.0, 1.0, 1.0, 1.0, 1.0, 1.0, 5.0381293296813965, 2.621885299682617, 2.6218535900115967, 2.6213226318359375, 1.8152804374694824, 1.814838171005249, 1.8147348165512085, 1.8147294521331787, 1.814391016960144, 1.8142755031585693, 1.8141008615493774, 1.0090363025665283, 1.0089486837387085, 1.0089223384857178, 1.0088996887207031, 1.0088591575622559, 1.0087882280349731, 1.0087732076644897, 1.008689522743225, 1.0086634159088135, 1.008623719215393, 1.0086102485656738, 1.0086084604263306, 1.0085606575012207, 1.008528709411621, 1.0084911584854126, 1.0084909200668335, 1.0084608793258667, 1.0084490776062012, 1.0084172487258911, 1.8138099908828735, 1.8133330345153809, 0.5153751969337463, 0.5153743028640747, 0.515373706817627, 0.5153708457946777, 0.51537024974823, 0.5153709650039673, 0.5153706073760986, 0.5153690576553345, 0.5153688788414001, 0.5168719291687012, 0.5167089104652405, 0.5155907273292542, 0.10446012765169144, 0.10426706075668335, 0.1042037382721901, 0.1041736751794815, 0.10407118499279022, 0.10402804613113403, 0.10322675853967667, 0.10321293026208878, 0.10323140770196915, 0.10320156067609787, 0.10318097472190857, 0.10319015383720398, 0.10318291932344437, 0.10320978611707687, 0.10321271419525146, 0.10317085683345795, 0.10319908708333969, 0.10317615419626236, 0.10319533199071884, 0.10320348292589188, 0.10319258272647858, 0.1031896322965622, 0.1041862890124321, 0.10420311242341995, 0.10358376801013947, 0.1033603698015213, 0.10335639119148254, 0.10330735146999359, 0.10330616682767868, 0.10329896211624146, 0.10328074544668198, 0.10328028351068497, 0.10327707976102829, 0.10323593765497208, 0.45714035630226135, 0.45710328221321106, 0.45701318979263306, 0.45698118209838867, 0.45692989230155945, 0.45675840973854065, 0.4568033516407013, 0.45666006207466125, 0.45854848623275757, 0.46003493666648865, 0.09160713106393814, 0.09160678088665009, 0.09160644561052322, 0.09160575270652771, 0.09160494804382324, 0.09160470962524414, 0.09160460531711578, 0.09160413593053818, 0.09160418063402176, 0.09317594021558762, 0.0931573435664177, 0.09311453253030777, 0.09310576319694519, 0.09309826046228409, 0.09307043254375458, 0.09304718673229218, 0.0930386409163475, 0.09303918480873108, 0.09303557872772217, 0.09303220361471176, 0.09971114248037338, 0.09301338344812393, 0.09300920367240906, 0.0930059552192688, 0.0929974615573883, 0.09295854717493057, 0.09293247014284134, 0.09431280195713043, 0.09429948031902313, 0.09516892582178116, 0.0946742594242096, 0.09488441795110703, 0.09423744678497314, 0.09486649930477142, 0.09404156357049942, 0.09402208030223846, 0.09399855881929398, 0.09379535913467407, 0.0009186855750158429, 0.0009186696261167526, 0.0009186816751025617, 0.0009186687530018389, 0.0009186744573526084, 0.0009186674724332988, 0.0009186652605421841, 0.000918662000913173, 0.0009186612442135811, 0.0009186593815684319, 0.0009186615352518857, 0.0009186621173284948, 0.000918655947316438, 0.0009186516981571913, 0.0009186464012600482, 0.0009187489049509168, 0.0009187025716528296, 0.0009186122333630919, 0.0009186122333630919, 0.0009186132228933275, 0.000918614212423563, 0.0009186115930788219, 0.0009186112438328564, 0.0009186128154397011, 0.0009186126990243793, 0.0009186144452542067, 0.0009186126990243793, 0.0009186114766635001, 0.0009186103707179427, 0.000918609497603029, 0.0009186146780848503, 0.000918614852707833, 0.0009186171810142696, 0.0009186160750687122, 0.0009186159586533904, 0.0009186152019537985, 0.0009186790557578206, 0.0009186670067720115, 0.0009186651441268623, 0.0009186451206915081, 0.0009186274837702513, 0.0009186276001855731, 0.000918627018108964, 0.0009186239913105965, 0.0009186241659335792, 0.0009186237584799528, 0.000918623642064631, 0.0009186218958348036, 0.0009186221286654472], \"Total\": [5.0, 2.0, 2.0, 2.0, 2.0, 2.0, 2.0, 2.0, 2.0, 2.0, 2.0, 2.0, 2.0, 1.0, 1.0, 1.0, 1.0, 1.0, 1.0, 1.0, 1.0, 1.0, 1.0, 1.0, 1.0, 1.0, 1.0, 1.0, 1.0, 1.0, 5.242342948913574, 2.821030855178833, 2.8210129737854004, 2.8207173347473145, 2.013274669647217, 2.0130324363708496, 2.0129756927490234, 2.0129764080047607, 2.0127830505371094, 2.012718915939331, 2.012631416320801, 1.2057149410247803, 1.2056647539138794, 1.2056503295898438, 1.2056397199630737, 1.2056119441986084, 1.2055771350860596, 1.205567479133606, 1.2055269479751587, 1.2055155038833618, 1.2054893970489502, 1.2054816484451294, 1.205483317375183, 1.2054548263549805, 1.2054353952407837, 1.2054131031036377, 1.2054144144058228, 1.2054004669189453, 1.2053906917572021, 1.2053780555725098, 2.3789665699005127, 2.4245166778564453, 0.810188889503479, 0.8101908564567566, 0.8101930618286133, 0.8101896643638611, 0.8101899027824402, 0.8101914525032043, 0.8101912140846252, 0.8101921677589417, 0.8101919889450073, 1.1767584085464478, 1.176732063293457, 2.4245166778564453, 0.7644309401512146, 0.7644080519676208, 0.7644053101539612, 0.7643986344337463, 0.7643846869468689, 0.764384925365448, 1.2051033973693848, 1.2051268815994263, 1.2055155038833618, 1.2051881551742554, 1.2050142288208008, 1.2051477432250977, 1.205063819885254, 1.2053780555725098, 1.205483317375183, 1.2050013542175293, 1.2053756713867188, 1.2051236629486084, 1.2054004669189453, 1.2055269479751587, 1.2054548263549805, 1.2054893970489502, 1.5716464519500732, 2.3789665699005127, 5.242342948913574, 2.821030855178833, 2.8210129737854004, 2.8207173347473145, 2.0129764080047607, 2.012631416320801, 2.0129756927490234, 2.013274669647217, 2.0130324363708496, 2.0127830505371094, 0.764384925365448, 0.7643846869468689, 0.7643986344337463, 0.7644053101539612, 0.7644080519676208, 0.7644309401512146, 1.176732063293457, 1.1767584085464478, 1.5716464519500732, 2.3789665699005127, 0.8101919889450073, 0.8101899027824402, 0.8101896643638611, 0.8101921677589417, 0.8101914525032043, 0.8101912140846252, 0.8101908564567566, 0.810188889503479, 0.8101930618286133, 1.2050013542175293, 1.2050142288208008, 1.205063819885254, 1.2051032781600952, 1.205098271369934, 1.2051236629486084, 1.2051033973693848, 1.2051268815994263, 1.2051477432250977, 1.2051782608032227, 1.2051796913146973, 5.242342948913574, 1.2052102088928223, 1.2052273750305176, 1.205200433731079, 1.2051881551742554, 1.205277919769287, 1.2053179740905762, 2.012631416320801, 2.012718915939331, 2.8207173347473145, 2.4245166778564453, 2.8210129737854004, 2.0127830505371094, 2.821030855178833, 2.0129756927490234, 2.0129764080047607, 2.0130324363708496, 2.013274669647217, 0.7643846869468689, 0.764384925365448, 0.7644053101539612, 0.7643986344337463, 0.7644080519676208, 0.7644309401512146, 0.8101912140846252, 0.8101896643638611, 0.8101899027824402, 0.810188889503479, 0.8101914525032043, 0.8101921677589417, 0.8101919889450073, 0.8101908564567566, 0.8101930618286133, 1.176732063293457, 1.1767584085464478, 1.2050013542175293, 1.2050142288208008, 1.205063819885254, 1.205098271369934, 1.2051033973693848, 1.2051032781600952, 1.2051236629486084, 1.2051268815994263, 1.2051477432250977, 1.2051796913146973, 1.2051782608032227, 1.2051881551742554, 1.205200433731079, 1.2052102088928223, 1.2052273750305176, 1.2053780555725098, 1.2053906917572021, 1.2054131031036377, 1.2054004669189453, 1.5716464519500732, 2.4245166778564453, 2.3789665699005127, 5.242342948913574, 2.8210129737854004, 2.0129756927490234, 2.821030855178833, 2.013274669647217, 2.012631416320801, 2.0127830505371094, 2.8207173347473145, 2.012718915939331, 2.0130324363708496], \"Category\": [\"Default\", \"Default\", \"Default\", \"Default\", \"Default\", \"Default\", \"Default\", \"Default\", \"Default\", \"Default\", \"Default\", \"Default\", \"Default\", \"Default\", \"Default\", \"Default\", \"Default\", \"Default\", \"Default\", \"Default\", \"Default\", \"Default\", \"Default\", \"Default\", \"Default\", \"Default\", \"Default\", \"Default\", \"Default\", \"Default\", \"Topic1\", \"Topic1\", \"Topic1\", \"Topic1\", \"Topic1\", \"Topic1\", \"Topic1\", \"Topic1\", \"Topic1\", \"Topic1\", \"Topic1\", \"Topic1\", \"Topic1\", \"Topic1\", \"Topic1\", \"Topic1\", \"Topic1\", \"Topic1\", \"Topic1\", \"Topic1\", \"Topic1\", \"Topic1\", \"Topic1\", \"Topic1\", \"Topic1\", \"Topic1\", \"Topic1\", \"Topic1\", \"Topic1\", \"Topic1\", \"Topic1\", \"Topic1\", \"Topic2\", \"Topic2\", \"Topic2\", \"Topic2\", \"Topic2\", \"Topic2\", \"Topic2\", \"Topic2\", \"Topic2\", \"Topic2\", \"Topic2\", \"Topic2\", \"Topic2\", \"Topic2\", \"Topic2\", \"Topic2\", \"Topic2\", \"Topic2\", \"Topic2\", \"Topic2\", \"Topic2\", \"Topic2\", \"Topic2\", \"Topic2\", \"Topic2\", \"Topic2\", \"Topic2\", \"Topic2\", \"Topic2\", \"Topic2\", \"Topic2\", \"Topic2\", \"Topic2\", \"Topic2\", \"Topic2\", \"Topic2\", \"Topic2\", \"Topic2\", \"Topic2\", \"Topic2\", \"Topic2\", \"Topic2\", \"Topic2\", \"Topic2\", \"Topic2\", \"Topic2\", \"Topic3\", \"Topic3\", \"Topic3\", \"Topic3\", \"Topic3\", \"Topic3\", \"Topic3\", \"Topic3\", \"Topic3\", \"Topic3\", \"Topic3\", \"Topic3\", \"Topic3\", \"Topic3\", \"Topic3\", \"Topic3\", \"Topic3\", \"Topic3\", \"Topic3\", \"Topic3\", \"Topic3\", \"Topic3\", \"Topic3\", \"Topic3\", \"Topic3\", \"Topic3\", \"Topic3\", \"Topic3\", \"Topic3\", \"Topic3\", \"Topic3\", \"Topic3\", \"Topic3\", \"Topic3\", \"Topic3\", \"Topic3\", \"Topic3\", \"Topic3\", \"Topic3\", \"Topic3\", \"Topic3\", \"Topic3\", \"Topic3\", \"Topic3\", \"Topic3\", \"Topic3\", \"Topic3\", \"Topic3\", \"Topic4\", \"Topic4\", \"Topic4\", \"Topic4\", \"Topic4\", \"Topic4\", \"Topic4\", \"Topic4\", \"Topic4\", \"Topic4\", \"Topic4\", \"Topic4\", \"Topic4\", \"Topic4\", \"Topic4\", \"Topic4\", \"Topic4\", \"Topic4\", \"Topic4\", \"Topic4\", \"Topic4\", \"Topic4\", \"Topic4\", \"Topic4\", \"Topic4\", \"Topic4\", \"Topic4\", \"Topic4\", \"Topic4\", \"Topic4\", \"Topic4\", \"Topic4\", \"Topic4\", \"Topic4\", \"Topic4\", \"Topic4\", \"Topic4\", \"Topic4\", \"Topic4\", \"Topic4\", \"Topic4\", \"Topic4\", \"Topic4\", \"Topic4\", \"Topic4\", \"Topic4\", \"Topic4\", \"Topic4\", \"Topic4\"], \"logprob\": [30.0, 29.0, 28.0, 27.0, 26.0, 25.0, 24.0, 23.0, 22.0, 21.0, 20.0, 19.0, 18.0, 17.0, 16.0, 15.0, 14.0, 13.0, 12.0, 11.0, 10.0, 9.0, 8.0, 7.0, 6.0, 5.0, 4.0, 3.0, 2.0, 1.0, -2.6454999446868896, -3.2985999584198, -3.2985999584198, -3.298799991607666, -3.666300058364868, -3.6665000915527344, -3.666599988937378, -3.666599988937378, -3.666800022125244, -3.666800022125244, -3.6668999195098877, -4.253499984741211, -4.253600120544434, -4.253600120544434, -4.253699779510498, -4.253699779510498, -4.253799915313721, -4.253799915313721, -4.253900051116943, -4.253900051116943, -4.253900051116943, -4.254000186920166, -4.254000186920166, -4.254000186920166, -4.254000186920166, -4.2540998458862305, -4.2540998458862305, -4.2540998458862305, -4.2540998458862305, -4.2540998458862305, -3.667099952697754, -3.6673998832702637, -3.145699977874756, -3.145699977874756, -3.145699977874756, -3.145699977874756, -3.145699977874756, -3.145699977874756, -3.145699977874756, -3.145699977874756, -3.145699977874756, -3.1428000926971436, -3.1431000232696533, -3.1452999114990234, -4.741799831390381, -4.743599891662598, -4.74429988861084, -4.744500160217285, -4.745500087738037, -4.7459001541137695, -4.753699779510498, -4.753799915313721, -4.753600120544434, -4.753900051116943, -4.7540998458862305, -4.754000186920166, -4.7540998458862305, -4.753799915313721, -4.753799915313721, -4.754199981689453, -4.753900051116943, -4.754199981689453, -4.754000186920166, -4.753900051116943, -4.754000186920166, -4.754000186920166, -4.7444000244140625, -4.74429988861084, -4.750199794769287, -4.752399921417236, -4.752399921417236, -4.752900123596191, -4.752900123596191, -4.752999782562256, -4.7530999183654785, -4.753200054168701, -4.753200054168701, -4.753600120544434, -3.08270001411438, -3.08270001411438, -3.082900047302246, -3.0829999446868896, -3.0831000804901123, -3.0834999084472656, -3.083400011062622, -3.083699941635132, -3.0796000957489014, -3.0764000415802, -4.690100193023682, -4.690100193023682, -4.690199851989746, -4.690199851989746, -4.690199851989746, -4.690199851989746, -4.690199851989746, -4.690199851989746, -4.690199851989746, -4.6732001304626465, -4.673399925231934, -4.673799991607666, -4.673900127410889, -4.673999786376953, -4.674300193786621, -4.674499988555908, -4.674600124359131, -4.674600124359131, -4.674699783325195, -4.674699783325195, -4.605400085449219, -4.674900054931641, -4.675000190734863, -4.675000190734863, -4.675099849700928, -4.67549991607666, -4.67579984664917, -4.660999774932861, -4.661200046539307, -4.6519999504089355, -4.657199859619141, -4.65500020980835, -4.661799907684326, -4.655200004577637, -4.663899898529053, -4.664100170135498, -4.664400100708008, -4.666500091552734, -4.219399929046631, -4.2195000648498535, -4.2195000648498535, -4.2195000648498535, -4.2195000648498535, -4.2195000648498535, -4.2195000648498535, -4.2195000648498535, -4.2195000648498535, -4.2195000648498535, -4.2195000648498535, -4.2195000648498535, -4.2195000648498535, -4.2195000648498535, -4.2195000648498535, -4.219399929046631, -4.219399929046631, -4.2195000648498535, -4.2195000648498535, -4.2195000648498535, -4.2195000648498535, -4.2195000648498535, -4.2195000648498535, -4.2195000648498535, -4.2195000648498535, -4.2195000648498535, -4.2195000648498535, -4.2195000648498535, -4.2195000648498535, -4.2195000648498535, -4.2195000648498535, -4.2195000648498535, -4.2195000648498535, -4.2195000648498535, -4.2195000648498535, -4.2195000648498535, -4.2195000648498535, -4.2195000648498535, -4.2195000648498535, -4.2195000648498535, -4.2195000648498535, -4.2195000648498535, -4.2195000648498535, -4.2195000648498535, -4.2195000648498535, -4.2195000648498535, -4.2195000648498535, -4.2195000648498535, -4.2195000648498535], \"loglift\": [30.0, 29.0, 28.0, 27.0, 26.0, 25.0, 24.0, 23.0, 22.0, 21.0, 20.0, 19.0, 18.0, 17.0, 16.0, 15.0, 14.0, 13.0, 12.0, 11.0, 10.0, 9.0, 8.0, 7.0, 6.0, 5.0, 4.0, 3.0, 2.0, 1.0, 0.23029999434947968, 0.19689999520778656, 0.19689999520778656, 0.19679999351501465, 0.16660000383853912, 0.1664000004529953, 0.1664000004529953, 0.1664000004529953, 0.1662999987602234, 0.1662999987602234, 0.16619999706745148, 0.09200000017881393, 0.09200000017881393, 0.09189999848604202, 0.09189999848604202, 0.09189999848604202, 0.09189999848604202, 0.09189999848604202, 0.09179999679327011, 0.09179999679327011, 0.09179999679327011, 0.09179999679327011, 0.09179999679327011, 0.0917000025510788, 0.0917000025510788, 0.0917000025510788, 0.0917000025510788, 0.0917000025510788, 0.0917000025510788, 0.0917000025510788, -0.0012000000569969416, -0.020400000736117363, 1.5973999500274658, 1.5973999500274658, 1.5973999500274658, 1.5973999500274658, 1.5973999500274658, 1.5973999500274658, 1.5973999500274658, 1.5973999500274658, 1.5973999500274658, 1.2269999980926514, 1.226699948310852, 0.5016999840736389, 0.05939999967813492, 0.0575999990105629, 0.05700000002980232, 0.056699998676776886, 0.055799998342990875, 0.05530000105500221, -0.4075999855995178, -0.40779998898506165, -0.40790000557899475, -0.40799999237060547, -0.40799999237060547, -0.40799999237060547, -0.40799999237060547, -0.40799999237060547, -0.4081000089645386, -0.4081000089645386, -0.4081000089645386, -0.4081000089645386, -0.4081999957561493, -0.4081999957561493, -0.4083000123500824, -0.4083000123500824, -0.6639000177383423, -1.0782999992370605, -1.874400019645691, -1.2568999528884888, -1.2568999528884888, -1.2573000192642212, -0.9199000000953674, -0.9197999835014343, -0.920199990272522, -0.9203000068664551, -0.920199990272522, -0.9204999804496765, 1.7186000347137451, 1.718500018119812, 1.7182999849319458, 1.7181999683380127, 1.7180999517440796, 1.7177000045776367, 1.2864999771118164, 1.2861000299453735, 1.0009000301361084, 0.5896000266075134, 0.05290000140666962, 0.05290000140666962, 0.05290000140666962, 0.05290000140666962, 0.05290000140666962, 0.05290000140666962, 0.05290000140666962, 0.05290000140666962, 0.05290000140666962, -0.3269999921321869, -0.3273000121116638, -0.3278000056743622, -0.3278999924659729, -0.328000009059906, -0.32829999923706055, -0.32850000262260437, -0.3285999894142151, -0.3285999894142151, -0.3287000060081482, -0.3287000060081482, -1.7295000553131104, -0.32899999618530273, -0.32899999618530273, -0.32899999618530273, -0.32910001277923584, -0.3296000063419342, -0.32989999651908875, -0.8278999924659729, -0.8281000256538391, -1.1563999652862549, -1.010200023651123, -1.159500002861023, -0.8288000226020813, -1.1597000360488892, -0.8309000134468079, -0.8310999870300293, -0.8313999772071838, -0.8337000012397766, 0.5817999839782715, 0.5817999839782715, 0.5817999839782715, 0.5817999839782715, 0.5817999839782715, 0.5817999839782715, 0.5235999822616577, 0.5235999822616577, 0.5235999822616577, 0.5235999822616577, 0.5235999822616577, 0.5235999822616577, 0.5235999822616577, 0.5235999822616577, 0.5235999822616577, 0.15049999952316284, 0.15039999783039093, 0.1265999972820282, 0.1265999972820282, 0.1264999955892563, 0.1264999955892563, 0.1264999955892563, 0.1264999955892563, 0.1264999955892563, 0.1264999955892563, 0.1264999955892563, 0.12639999389648438, 0.12639999389648438, 0.12639999389648438, 0.12639999389648438, 0.12639999389648438, 0.12639999389648438, 0.12630000710487366, 0.12630000710487366, 0.12630000710487366, 0.12630000710487366, -0.13899999856948853, -0.5724999904632568, -0.5534999966621399, -1.3437000513076782, -0.7239999771118164, -0.3865000009536743, -0.7239999771118164, -0.38670000433921814, -0.3864000141620636, -0.3864000141620636, -0.7239000201225281, -0.3864000141620636, -0.38659998774528503]}, \"token.table\": {\"Topic\": [1, 1, 1, 1, 1, 1, 1, 1, 1, 1, 1, 1, 1, 1, 2, 1, 1, 1, 1, 2, 1, 1, 1, 1, 1, 1, 1, 1, 2, 1, 1, 1, 2, 1, 1, 1, 1, 2, 1, 1, 1, 1, 2, 2, 1, 2, 2, 1, 1, 1, 1, 2, 1, 1, 2, 1, 1, 1, 1, 2, 1, 1, 1], \"Freq\": [0.8295385837554932, 0.829575777053833, 0.8295902013778687, 0.8295624256134033, 0.8297881484031677, 0.8296065330505371, 0.993553638458252, 0.8294782638549805, 0.9937239289283752, 0.8298044204711914, 0.8294278979301453, 0.829543948173523, 0.8298043012619019, 0.8294848799705505, 1.2342771291732788, 0.8298656940460205, 0.9936490654945374, 0.8296841382980347, 0.9935539960861206, 1.2342785596847534, 0.8297903537750244, 0.8297527432441711, 0.6362754106521606, 0.840701162815094, 0.8295127749443054, 0.8295206427574158, 0.829730749130249, 0.9934064149856567, 0.8498111367225647, 0.9935259819030762, 0.8295997977256775, 0.829874575138092, 1.234278917312622, 0.8294351696968079, 0.8297737836837769, 1.0634478330612183, 0.8249067068099976, 0.4124533534049988, 0.8296152353286743, 0.8295910954475403, 0.8297374844551086, 0.8297459483146667, 1.2342736721038818, 1.234276533126831, 0.9537720084190369, 0.8497921228408813, 1.2342761754989624, 0.8298078179359436, 0.9936807155609131, 1.0635592937469482, 1.0634410381317139, 1.2342751026153564, 0.8298315405845642, 0.829616904258728, 1.2342753410339355, 0.8293834328651428, 0.8297517895698547, 0.8296566009521484, 0.8295428156852722, 1.2342801094055176, 0.8297189474105835, 0.8294179439544678, 0.8294543027877808], \"Term\": [\"actually\", \"adult\", \"agree\", \"also\", \"always\", \"barely\", \"base\", \"beer\", \"bit\", \"call\", \"car\", \"casual\", \"child\", \"choose\", \"collect\", \"crisis\", \"cypriot\", \"dinner\", \"eat\", \"eating\", \"elsewhere\", \"euros\", \"even\", \"family\", \"finish\", \"get\", \"girl\", \"go\", \"great\", \"include\", \"insist\", \"location\", \"look\", \"lot\", \"middle\", \"much\", \"order\", \"order\", \"owner\", \"parking\", \"part\", \"pay\", \"phone\", \"pleasant\", \"portion\", \"quality\", \"ready\", \"regret\", \"review\", \"salty\", \"small\", \"staff\", \"tavern\", \"think\", \"time\", \"twice\", \"typical\", \"use\", \"usually\", \"venue\", \"want\", \"water\", \"young\"]}, \"R\": 30, \"lambda.step\": 0.01, \"plot.opts\": {\"xlab\": \"PC1\", \"ylab\": \"PC2\"}, \"topic.order\": [1, 2, 3, 4]};\n",
       "\n",
       "function LDAvis_load_lib(url, callback){\n",
       "  var s = document.createElement('script');\n",
       "  s.src = url;\n",
       "  s.async = true;\n",
       "  s.onreadystatechange = s.onload = callback;\n",
       "  s.onerror = function(){console.warn(\"failed to load library \" + url);};\n",
       "  document.getElementsByTagName(\"head\")[0].appendChild(s);\n",
       "}\n",
       "\n",
       "if(typeof(LDAvis) !== \"undefined\"){\n",
       "   // already loaded: just create the visualization\n",
       "   !function(LDAvis){\n",
       "       new LDAvis(\"#\" + \"ldavis_el922427695560716242112271455\", ldavis_el922427695560716242112271455_data);\n",
       "   }(LDAvis);\n",
       "}else if(typeof define === \"function\" && define.amd){\n",
       "   // require.js is available: use it to load d3/LDAvis\n",
       "   require.config({paths: {d3: \"https://cdnjs.cloudflare.com/ajax/libs/d3/3.5.5/d3.min\"}});\n",
       "   require([\"d3\"], function(d3){\n",
       "      window.d3 = d3;\n",
       "      LDAvis_load_lib(\"https://cdn.rawgit.com/bmabey/pyLDAvis/files/ldavis.v1.0.0.js\", function(){\n",
       "        new LDAvis(\"#\" + \"ldavis_el922427695560716242112271455\", ldavis_el922427695560716242112271455_data);\n",
       "      });\n",
       "    });\n",
       "}else{\n",
       "    // require.js not available: dynamically load d3 & LDAvis\n",
       "    LDAvis_load_lib(\"https://cdnjs.cloudflare.com/ajax/libs/d3/3.5.5/d3.min.js\", function(){\n",
       "         LDAvis_load_lib(\"https://cdn.rawgit.com/bmabey/pyLDAvis/files/ldavis.v1.0.0.js\", function(){\n",
       "                 new LDAvis(\"#\" + \"ldavis_el922427695560716242112271455\", ldavis_el922427695560716242112271455_data);\n",
       "            })\n",
       "         });\n",
       "}\n",
       "</script>"
      ],
      "text/plain": [
       "PreparedData(topic_coordinates=              x         y  topics  cluster       Freq\n",
       "topic                                                \n",
       "0      0.072034 -0.061595       1        1  76.332352\n",
       "1     -0.080295 -0.000038       2        1  12.876625\n",
       "2      0.002393  0.067741       3        1  10.723849\n",
       "3      0.005868 -0.006109       4        1   0.067169, topic_info=       Term      Freq     Total Category  logprob  loglift\n",
       "48  portion  5.000000  5.000000  Default  30.0000  30.0000\n",
       "33   family  2.000000  2.000000  Default  29.0000  29.0000\n",
       "52    small  2.000000  2.000000  Default  28.0000  28.0000\n",
       "43     much  2.000000  2.000000  Default  27.0000  27.0000\n",
       "51    salty  2.000000  2.000000  Default  26.0000  26.0000\n",
       "..      ...       ...       ...      ...      ...      ...\n",
       "20      bit  0.000919  2.012631   Topic4  -4.2195  -0.3864\n",
       "27  cypriot  0.000919  2.012783   Topic4  -4.2195  -0.3864\n",
       "51    salty  0.000919  2.820717   Topic4  -4.2195  -0.7239\n",
       "50   review  0.000919  2.012719   Topic4  -4.2195  -0.3864\n",
       "38  include  0.000919  2.013032   Topic4  -4.2195  -0.3866\n",
       "\n",
       "[205 rows x 6 columns], token_table=      Topic      Freq      Term\n",
       "term                           \n",
       "12        1  0.829539  actually\n",
       "13        1  0.829576     adult\n",
       "14        1  0.829590     agree\n",
       "15        1  0.829562      also\n",
       "16        1  0.829788    always\n",
       "...     ...       ...       ...\n",
       "58        1  0.829543   usually\n",
       "11        2  1.234280     venue\n",
       "59        1  0.829719      want\n",
       "60        1  0.829418     water\n",
       "61        1  0.829454     young\n",
       "\n",
       "[63 rows x 3 columns], R=30, lambda_step=0.01, plot_opts={'xlab': 'PC1', 'ylab': 'PC2'}, topic_order=[1, 2, 3, 4])"
      ]
     },
     "metadata": {},
     "output_type": "display_data"
    }
   ],
   "source": [
    "plot_model(lda_neg_custom, plot ='topic_model')"
   ]
  },
  {
   "cell_type": "code",
   "execution_count": null,
   "metadata": {},
   "outputs": [],
   "source": []
  }
 ],
 "metadata": {
  "kernelspec": {
   "display_name": "Python 3",
   "language": "python",
   "name": "python3"
  },
  "language_info": {
   "codemirror_mode": {
    "name": "ipython",
    "version": 3
   },
   "file_extension": ".py",
   "mimetype": "text/x-python",
   "name": "python",
   "nbconvert_exporter": "python",
   "pygments_lexer": "ipython3",
   "version": "3.7.4"
  }
 },
 "nbformat": 4,
 "nbformat_minor": 2
}
