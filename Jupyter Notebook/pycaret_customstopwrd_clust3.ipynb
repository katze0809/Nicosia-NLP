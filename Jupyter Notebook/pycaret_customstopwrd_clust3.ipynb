{
 "cells": [
  {
   "cell_type": "code",
   "execution_count": 1,
   "metadata": {},
   "outputs": [],
   "source": [
    "import pandas as pd\n",
    "import glob"
   ]
  },
  {
   "cell_type": "markdown",
   "metadata": {},
   "source": [
    "# Positive Reviews"
   ]
  },
  {
   "cell_type": "code",
   "execution_count": 2,
   "metadata": {},
   "outputs": [
    {
     "data": {
      "text/html": [
       "<div>\n",
       "<style scoped>\n",
       "    .dataframe tbody tr th:only-of-type {\n",
       "        vertical-align: middle;\n",
       "    }\n",
       "\n",
       "    .dataframe tbody tr th {\n",
       "        vertical-align: top;\n",
       "    }\n",
       "\n",
       "    .dataframe thead th {\n",
       "        text-align: right;\n",
       "    }\n",
       "</style>\n",
       "<table border=\"1\" class=\"dataframe\">\n",
       "  <thead>\n",
       "    <tr style=\"text-align: right;\">\n",
       "      <th></th>\n",
       "      <th>Unnamed: 0</th>\n",
       "      <th>r_points</th>\n",
       "      <th>r_text</th>\n",
       "      <th>place</th>\n",
       "      <th>scores</th>\n",
       "      <th>compound</th>\n",
       "      <th>score</th>\n",
       "    </tr>\n",
       "  </thead>\n",
       "  <tbody>\n",
       "    <tr>\n",
       "      <th>0</th>\n",
       "      <td>0</td>\n",
       "      <td>50</td>\n",
       "      <td>What a sweet hotel out the way and quite .. ca...</td>\n",
       "      <td>Averof Hotel</td>\n",
       "      <td>{'neg': 0.0, 'neu': 0.677, 'pos': 0.323, 'comp...</td>\n",
       "      <td>0.9638</td>\n",
       "      <td>pos</td>\n",
       "    </tr>\n",
       "    <tr>\n",
       "      <th>1</th>\n",
       "      <td>1</td>\n",
       "      <td>40</td>\n",
       "      <td>Stayed two nights at this hotel.Very much like...</td>\n",
       "      <td>Averof Hotel</td>\n",
       "      <td>{'neg': 0.025, 'neu': 0.733, 'pos': 0.243, 'co...</td>\n",
       "      <td>0.9769</td>\n",
       "      <td>pos</td>\n",
       "    </tr>\n",
       "    <tr>\n",
       "      <th>2</th>\n",
       "      <td>2</td>\n",
       "      <td>40</td>\n",
       "      <td>I was on a business trip and needed a place ne...</td>\n",
       "      <td>Averof Hotel</td>\n",
       "      <td>{'neg': 0.0, 'neu': 0.815, 'pos': 0.185, 'comp...</td>\n",
       "      <td>0.8277</td>\n",
       "      <td>pos</td>\n",
       "    </tr>\n",
       "    <tr>\n",
       "      <th>3</th>\n",
       "      <td>3</td>\n",
       "      <td>10</td>\n",
       "      <td>We booked a twin room for two nights, but when...</td>\n",
       "      <td>Averof Hotel</td>\n",
       "      <td>{'neg': 0.056, 'neu': 0.873, 'pos': 0.071, 'co...</td>\n",
       "      <td>0.5651</td>\n",
       "      <td>pos</td>\n",
       "    </tr>\n",
       "    <tr>\n",
       "      <th>4</th>\n",
       "      <td>4</td>\n",
       "      <td>50</td>\n",
       "      <td>HiI visited Nicosia in Oct for two days and ha...</td>\n",
       "      <td>Averof Hotel</td>\n",
       "      <td>{'neg': 0.0, 'neu': 0.726, 'pos': 0.274, 'comp...</td>\n",
       "      <td>0.9972</td>\n",
       "      <td>pos</td>\n",
       "    </tr>\n",
       "    <tr>\n",
       "      <th>...</th>\n",
       "      <td>...</td>\n",
       "      <td>...</td>\n",
       "      <td>...</td>\n",
       "      <td>...</td>\n",
       "      <td>...</td>\n",
       "      <td>...</td>\n",
       "      <td>...</td>\n",
       "    </tr>\n",
       "    <tr>\n",
       "      <th>97</th>\n",
       "      <td>68</td>\n",
       "      <td>10</td>\n",
       "      <td>positive:area was nice and quiet.price compare...</td>\n",
       "      <td>Crown Inn Hotel</td>\n",
       "      <td>{'neg': 0.032, 'neu': 0.915, 'pos': 0.053, 'co...</td>\n",
       "      <td>0.2810</td>\n",
       "      <td>pos</td>\n",
       "    </tr>\n",
       "    <tr>\n",
       "      <th>98</th>\n",
       "      <td>69</td>\n",
       "      <td>30</td>\n",
       "      <td>An average quality hotel, at a cosy and quiet ...</td>\n",
       "      <td>Crown Inn Hotel</td>\n",
       "      <td>{'neg': 0.048, 'neu': 0.756, 'pos': 0.196, 'co...</td>\n",
       "      <td>0.8573</td>\n",
       "      <td>pos</td>\n",
       "    </tr>\n",
       "    <tr>\n",
       "      <th>99</th>\n",
       "      <td>70</td>\n",
       "      <td>40</td>\n",
       "      <td>Nice hotel in a quiet area yet not so far from...</td>\n",
       "      <td>Crown Inn Hotel</td>\n",
       "      <td>{'neg': 0.0, 'neu': 0.748, 'pos': 0.252, 'comp...</td>\n",
       "      <td>0.9648</td>\n",
       "      <td>pos</td>\n",
       "    </tr>\n",
       "    <tr>\n",
       "      <th>100</th>\n",
       "      <td>71</td>\n",
       "      <td>30</td>\n",
       "      <td>I was made aware of this hotel from a list pro...</td>\n",
       "      <td>Crown Inn Hotel</td>\n",
       "      <td>{'neg': 0.026, 'neu': 0.877, 'pos': 0.096, 'co...</td>\n",
       "      <td>0.9592</td>\n",
       "      <td>pos</td>\n",
       "    </tr>\n",
       "    <tr>\n",
       "      <th>101</th>\n",
       "      <td>72</td>\n",
       "      <td>40</td>\n",
       "      <td>We arrived very late at night at Nicosia and n...</td>\n",
       "      <td>Crown Inn Hotel</td>\n",
       "      <td>{'neg': 0.0, 'neu': 0.953, 'pos': 0.047, 'comp...</td>\n",
       "      <td>0.7351</td>\n",
       "      <td>pos</td>\n",
       "    </tr>\n",
       "  </tbody>\n",
       "</table>\n",
       "<p>102 rows × 7 columns</p>\n",
       "</div>"
      ],
      "text/plain": [
       "     Unnamed: 0  r_points                                             r_text  \\\n",
       "0             0        50  What a sweet hotel out the way and quite .. ca...   \n",
       "1             1        40  Stayed two nights at this hotel.Very much like...   \n",
       "2             2        40  I was on a business trip and needed a place ne...   \n",
       "3             3        10  We booked a twin room for two nights, but when...   \n",
       "4             4        50  HiI visited Nicosia in Oct for two days and ha...   \n",
       "..          ...       ...                                                ...   \n",
       "97           68        10  positive:area was nice and quiet.price compare...   \n",
       "98           69        30  An average quality hotel, at a cosy and quiet ...   \n",
       "99           70        40  Nice hotel in a quiet area yet not so far from...   \n",
       "100          71        30  I was made aware of this hotel from a list pro...   \n",
       "101          72        40  We arrived very late at night at Nicosia and n...   \n",
       "\n",
       "               place                                             scores  \\\n",
       "0       Averof Hotel  {'neg': 0.0, 'neu': 0.677, 'pos': 0.323, 'comp...   \n",
       "1       Averof Hotel  {'neg': 0.025, 'neu': 0.733, 'pos': 0.243, 'co...   \n",
       "2       Averof Hotel  {'neg': 0.0, 'neu': 0.815, 'pos': 0.185, 'comp...   \n",
       "3       Averof Hotel  {'neg': 0.056, 'neu': 0.873, 'pos': 0.071, 'co...   \n",
       "4       Averof Hotel  {'neg': 0.0, 'neu': 0.726, 'pos': 0.274, 'comp...   \n",
       "..               ...                                                ...   \n",
       "97   Crown Inn Hotel  {'neg': 0.032, 'neu': 0.915, 'pos': 0.053, 'co...   \n",
       "98   Crown Inn Hotel  {'neg': 0.048, 'neu': 0.756, 'pos': 0.196, 'co...   \n",
       "99   Crown Inn Hotel  {'neg': 0.0, 'neu': 0.748, 'pos': 0.252, 'comp...   \n",
       "100  Crown Inn Hotel  {'neg': 0.026, 'neu': 0.877, 'pos': 0.096, 'co...   \n",
       "101  Crown Inn Hotel  {'neg': 0.0, 'neu': 0.953, 'pos': 0.047, 'comp...   \n",
       "\n",
       "     compound score  \n",
       "0      0.9638   pos  \n",
       "1      0.9769   pos  \n",
       "2      0.8277   pos  \n",
       "3      0.5651   pos  \n",
       "4      0.9972   pos  \n",
       "..        ...   ...  \n",
       "97     0.2810   pos  \n",
       "98     0.8573   pos  \n",
       "99     0.9648   pos  \n",
       "100    0.9592   pos  \n",
       "101    0.7351   pos  \n",
       "\n",
       "[102 rows x 7 columns]"
      ]
     },
     "execution_count": 2,
     "metadata": {},
     "output_type": "execute_result"
    }
   ],
   "source": [
    "pos_review = pd.read_csv(r'C:\\Users\\Dell\\Desktop\\sentiment_cluster3_pos.csv')\n",
    "pos_review"
   ]
  },
  {
   "cell_type": "code",
   "execution_count": 3,
   "metadata": {},
   "outputs": [],
   "source": [
    "from pycaret.nlp import *"
   ]
  },
  {
   "cell_type": "code",
   "execution_count": 4,
   "metadata": {},
   "outputs": [
    {
     "data": {
      "text/html": [
       "<style  type=\"text/css\" >\n",
       "</style><table id=\"T_f885be6e_319e_11eb_86b9_c48e8ff9d2e0\" ><thead>    <tr>        <th class=\"col_heading level0 col0\" >Description</th>        <th class=\"col_heading level0 col1\" >Value</th>    </tr></thead><tbody>\n",
       "                <tr>\n",
       "                                <td id=\"T_f885be6e_319e_11eb_86b9_c48e8ff9d2e0row0_col0\" class=\"data row0 col0\" >session_id</td>\n",
       "                        <td id=\"T_f885be6e_319e_11eb_86b9_c48e8ff9d2e0row0_col1\" class=\"data row0 col1\" >3828</td>\n",
       "            </tr>\n",
       "            <tr>\n",
       "                                <td id=\"T_f885be6e_319e_11eb_86b9_c48e8ff9d2e0row1_col0\" class=\"data row1 col0\" >Documents</td>\n",
       "                        <td id=\"T_f885be6e_319e_11eb_86b9_c48e8ff9d2e0row1_col1\" class=\"data row1 col1\" >102</td>\n",
       "            </tr>\n",
       "            <tr>\n",
       "                                <td id=\"T_f885be6e_319e_11eb_86b9_c48e8ff9d2e0row2_col0\" class=\"data row2 col0\" >Vocab Size</td>\n",
       "                        <td id=\"T_f885be6e_319e_11eb_86b9_c48e8ff9d2e0row2_col1\" class=\"data row2 col1\" >1136</td>\n",
       "            </tr>\n",
       "            <tr>\n",
       "                                <td id=\"T_f885be6e_319e_11eb_86b9_c48e8ff9d2e0row3_col0\" class=\"data row3 col0\" >Custom Stopwords</td>\n",
       "                        <td id=\"T_f885be6e_319e_11eb_86b9_c48e8ff9d2e0row3_col1\" class=\"data row3 col1\" >True</td>\n",
       "            </tr>\n",
       "    </tbody></table>"
      ],
      "text/plain": [
       "<pandas.io.formats.style.Styler at 0x20ceb1008c8>"
      ]
     },
     "metadata": {},
     "output_type": "display_data"
    }
   ],
   "source": [
    "exp_nlp = setup(data = pos_review, target = 'r_text',\n",
    "                custom_stopwords = [ 'hotel', 'room', 'nice', 'good', 'restaurant', 'food'])"
   ]
  },
  {
   "cell_type": "code",
   "execution_count": 5,
   "metadata": {},
   "outputs": [
    {
     "name": "stdout",
     "output_type": "stream",
     "text": [
      "LdaModel(num_terms=1136, num_topics=4, decay=0.5, chunksize=100)\n"
     ]
    }
   ],
   "source": [
    "#create an LDA model\n",
    "lda_pos_custom = create_model('lda')\n",
    "print(lda_pos_custom)"
   ]
  },
  {
   "cell_type": "code",
   "execution_count": 6,
   "metadata": {},
   "outputs": [],
   "source": [
    "apply_lda_pos = assign_model(lda_pos_custom)"
   ]
  },
  {
   "cell_type": "code",
   "execution_count": 7,
   "metadata": {},
   "outputs": [
    {
     "data": {
      "text/html": [
       "<div>\n",
       "<style scoped>\n",
       "    .dataframe tbody tr th:only-of-type {\n",
       "        vertical-align: middle;\n",
       "    }\n",
       "\n",
       "    .dataframe tbody tr th {\n",
       "        vertical-align: top;\n",
       "    }\n",
       "\n",
       "    .dataframe thead th {\n",
       "        text-align: right;\n",
       "    }\n",
       "</style>\n",
       "<table border=\"1\" class=\"dataframe\">\n",
       "  <thead>\n",
       "    <tr style=\"text-align: right;\">\n",
       "      <th></th>\n",
       "      <th>Unnamed: 0</th>\n",
       "      <th>r_points</th>\n",
       "      <th>r_text</th>\n",
       "      <th>place</th>\n",
       "      <th>scores</th>\n",
       "      <th>compound</th>\n",
       "      <th>score</th>\n",
       "      <th>Topic_0</th>\n",
       "      <th>Topic_1</th>\n",
       "      <th>Topic_2</th>\n",
       "      <th>Topic_3</th>\n",
       "      <th>Dominant_Topic</th>\n",
       "      <th>Perc_Dominant_Topic</th>\n",
       "    </tr>\n",
       "  </thead>\n",
       "  <tbody>\n",
       "    <tr>\n",
       "      <th>0</th>\n",
       "      <td>0</td>\n",
       "      <td>50</td>\n",
       "      <td>sweet way quite come visit son want chill time...</td>\n",
       "      <td>Averof Hotel</td>\n",
       "      <td>{'neg': 0.0, 'neu': 0.677, 'pos': 0.323, 'comp...</td>\n",
       "      <td>0.9638</td>\n",
       "      <td>pos</td>\n",
       "      <td>0.001089</td>\n",
       "      <td>0.994325</td>\n",
       "      <td>0.002408</td>\n",
       "      <td>0.002178</td>\n",
       "      <td>Topic 1</td>\n",
       "      <td>0.99</td>\n",
       "    </tr>\n",
       "    <tr>\n",
       "      <th>1</th>\n",
       "      <td>1</td>\n",
       "      <td>40</td>\n",
       "      <td>stay night much like balcony check relatively ...</td>\n",
       "      <td>Averof Hotel</td>\n",
       "      <td>{'neg': 0.025, 'neu': 0.733, 'pos': 0.243, 'co...</td>\n",
       "      <td>0.9769</td>\n",
       "      <td>pos</td>\n",
       "      <td>0.111984</td>\n",
       "      <td>0.885125</td>\n",
       "      <td>0.001518</td>\n",
       "      <td>0.001373</td>\n",
       "      <td>Topic 1</td>\n",
       "      <td>0.89</td>\n",
       "    </tr>\n",
       "    <tr>\n",
       "      <th>2</th>\n",
       "      <td>2</td>\n",
       "      <td>40</td>\n",
       "      <td>business trip need place office quiet place sm...</td>\n",
       "      <td>Averof Hotel</td>\n",
       "      <td>{'neg': 0.0, 'neu': 0.815, 'pos': 0.185, 'comp...</td>\n",
       "      <td>0.8277</td>\n",
       "      <td>pos</td>\n",
       "      <td>0.001591</td>\n",
       "      <td>0.285368</td>\n",
       "      <td>0.599794</td>\n",
       "      <td>0.113247</td>\n",
       "      <td>Topic 2</td>\n",
       "      <td>0.60</td>\n",
       "    </tr>\n",
       "    <tr>\n",
       "      <th>3</th>\n",
       "      <td>3</td>\n",
       "      <td>10</td>\n",
       "      <td>book night get say put big think great give ke...</td>\n",
       "      <td>Averof Hotel</td>\n",
       "      <td>{'neg': 0.056, 'neu': 0.873, 'pos': 0.071, 'co...</td>\n",
       "      <td>0.5651</td>\n",
       "      <td>pos</td>\n",
       "      <td>0.467193</td>\n",
       "      <td>0.357943</td>\n",
       "      <td>0.173631</td>\n",
       "      <td>0.001233</td>\n",
       "      <td>Topic 0</td>\n",
       "      <td>0.47</td>\n",
       "    </tr>\n",
       "    <tr>\n",
       "      <th>4</th>\n",
       "      <td>4</td>\n",
       "      <td>50</td>\n",
       "      <td>visit day say quite interesting city excellent...</td>\n",
       "      <td>Averof Hotel</td>\n",
       "      <td>{'neg': 0.0, 'neu': 0.726, 'pos': 0.274, 'comp...</td>\n",
       "      <td>0.9972</td>\n",
       "      <td>pos</td>\n",
       "      <td>0.000280</td>\n",
       "      <td>0.940487</td>\n",
       "      <td>0.058672</td>\n",
       "      <td>0.000561</td>\n",
       "      <td>Topic 1</td>\n",
       "      <td>0.94</td>\n",
       "    </tr>\n",
       "    <tr>\n",
       "      <th>...</th>\n",
       "      <td>...</td>\n",
       "      <td>...</td>\n",
       "      <td>...</td>\n",
       "      <td>...</td>\n",
       "      <td>...</td>\n",
       "      <td>...</td>\n",
       "      <td>...</td>\n",
       "      <td>...</td>\n",
       "      <td>...</td>\n",
       "      <td>...</td>\n",
       "      <td>...</td>\n",
       "      <td>...</td>\n",
       "      <td>...</td>\n",
       "    </tr>\n",
       "    <tr>\n",
       "      <th>97</th>\n",
       "      <td>68</td>\n",
       "      <td>10</td>\n",
       "      <td>positive area quiet price compare lownegative ...</td>\n",
       "      <td>Crown Inn Hotel</td>\n",
       "      <td>{'neg': 0.032, 'neu': 0.915, 'pos': 0.053, 'co...</td>\n",
       "      <td>0.2810</td>\n",
       "      <td>pos</td>\n",
       "      <td>0.000707</td>\n",
       "      <td>0.965975</td>\n",
       "      <td>0.001563</td>\n",
       "      <td>0.031755</td>\n",
       "      <td>Topic 1</td>\n",
       "      <td>0.97</td>\n",
       "    </tr>\n",
       "    <tr>\n",
       "      <th>98</th>\n",
       "      <td>69</td>\n",
       "      <td>30</td>\n",
       "      <td>average quality quiet area old city bus stop l...</td>\n",
       "      <td>Crown Inn Hotel</td>\n",
       "      <td>{'neg': 0.048, 'neu': 0.756, 'pos': 0.196, 'co...</td>\n",
       "      <td>0.8573</td>\n",
       "      <td>pos</td>\n",
       "      <td>0.000728</td>\n",
       "      <td>0.961813</td>\n",
       "      <td>0.001610</td>\n",
       "      <td>0.035849</td>\n",
       "      <td>Topic 1</td>\n",
       "      <td>0.96</td>\n",
       "    </tr>\n",
       "    <tr>\n",
       "      <th>99</th>\n",
       "      <td>70</td>\n",
       "      <td>40</td>\n",
       "      <td>quiet area yet far town ver spasious clean eno...</td>\n",
       "      <td>Crown Inn Hotel</td>\n",
       "      <td>{'neg': 0.0, 'neu': 0.748, 'pos': 0.252, 'comp...</td>\n",
       "      <td>0.9648</td>\n",
       "      <td>pos</td>\n",
       "      <td>0.247597</td>\n",
       "      <td>0.673925</td>\n",
       "      <td>0.001660</td>\n",
       "      <td>0.076818</td>\n",
       "      <td>Topic 1</td>\n",
       "      <td>0.67</td>\n",
       "    </tr>\n",
       "    <tr>\n",
       "      <th>100</th>\n",
       "      <td>71</td>\n",
       "      <td>30</td>\n",
       "      <td>make aware list provide conference organiser s...</td>\n",
       "      <td>Crown Inn Hotel</td>\n",
       "      <td>{'neg': 0.026, 'neu': 0.877, 'pos': 0.096, 'co...</td>\n",
       "      <td>0.9592</td>\n",
       "      <td>pos</td>\n",
       "      <td>0.000254</td>\n",
       "      <td>0.000483</td>\n",
       "      <td>0.000561</td>\n",
       "      <td>0.998702</td>\n",
       "      <td>Topic 3</td>\n",
       "      <td>1.00</td>\n",
       "    </tr>\n",
       "    <tr>\n",
       "      <th>101</th>\n",
       "      <td>72</td>\n",
       "      <td>40</td>\n",
       "      <td>arrive late night need place spend night inexp...</td>\n",
       "      <td>Crown Inn Hotel</td>\n",
       "      <td>{'neg': 0.0, 'neu': 0.953, 'pos': 0.047, 'comp...</td>\n",
       "      <td>0.7351</td>\n",
       "      <td>pos</td>\n",
       "      <td>0.000472</td>\n",
       "      <td>0.000898</td>\n",
       "      <td>0.997686</td>\n",
       "      <td>0.000944</td>\n",
       "      <td>Topic 2</td>\n",
       "      <td>1.00</td>\n",
       "    </tr>\n",
       "  </tbody>\n",
       "</table>\n",
       "<p>102 rows × 13 columns</p>\n",
       "</div>"
      ],
      "text/plain": [
       "     Unnamed: 0  r_points                                             r_text  \\\n",
       "0             0        50  sweet way quite come visit son want chill time...   \n",
       "1             1        40  stay night much like balcony check relatively ...   \n",
       "2             2        40  business trip need place office quiet place sm...   \n",
       "3             3        10  book night get say put big think great give ke...   \n",
       "4             4        50  visit day say quite interesting city excellent...   \n",
       "..          ...       ...                                                ...   \n",
       "97           68        10  positive area quiet price compare lownegative ...   \n",
       "98           69        30  average quality quiet area old city bus stop l...   \n",
       "99           70        40  quiet area yet far town ver spasious clean eno...   \n",
       "100          71        30  make aware list provide conference organiser s...   \n",
       "101          72        40  arrive late night need place spend night inexp...   \n",
       "\n",
       "               place                                             scores  \\\n",
       "0       Averof Hotel  {'neg': 0.0, 'neu': 0.677, 'pos': 0.323, 'comp...   \n",
       "1       Averof Hotel  {'neg': 0.025, 'neu': 0.733, 'pos': 0.243, 'co...   \n",
       "2       Averof Hotel  {'neg': 0.0, 'neu': 0.815, 'pos': 0.185, 'comp...   \n",
       "3       Averof Hotel  {'neg': 0.056, 'neu': 0.873, 'pos': 0.071, 'co...   \n",
       "4       Averof Hotel  {'neg': 0.0, 'neu': 0.726, 'pos': 0.274, 'comp...   \n",
       "..               ...                                                ...   \n",
       "97   Crown Inn Hotel  {'neg': 0.032, 'neu': 0.915, 'pos': 0.053, 'co...   \n",
       "98   Crown Inn Hotel  {'neg': 0.048, 'neu': 0.756, 'pos': 0.196, 'co...   \n",
       "99   Crown Inn Hotel  {'neg': 0.0, 'neu': 0.748, 'pos': 0.252, 'comp...   \n",
       "100  Crown Inn Hotel  {'neg': 0.026, 'neu': 0.877, 'pos': 0.096, 'co...   \n",
       "101  Crown Inn Hotel  {'neg': 0.0, 'neu': 0.953, 'pos': 0.047, 'comp...   \n",
       "\n",
       "     compound score   Topic_0   Topic_1   Topic_2   Topic_3 Dominant_Topic  \\\n",
       "0      0.9638   pos  0.001089  0.994325  0.002408  0.002178        Topic 1   \n",
       "1      0.9769   pos  0.111984  0.885125  0.001518  0.001373        Topic 1   \n",
       "2      0.8277   pos  0.001591  0.285368  0.599794  0.113247        Topic 2   \n",
       "3      0.5651   pos  0.467193  0.357943  0.173631  0.001233        Topic 0   \n",
       "4      0.9972   pos  0.000280  0.940487  0.058672  0.000561        Topic 1   \n",
       "..        ...   ...       ...       ...       ...       ...            ...   \n",
       "97     0.2810   pos  0.000707  0.965975  0.001563  0.031755        Topic 1   \n",
       "98     0.8573   pos  0.000728  0.961813  0.001610  0.035849        Topic 1   \n",
       "99     0.9648   pos  0.247597  0.673925  0.001660  0.076818        Topic 1   \n",
       "100    0.9592   pos  0.000254  0.000483  0.000561  0.998702        Topic 3   \n",
       "101    0.7351   pos  0.000472  0.000898  0.997686  0.000944        Topic 2   \n",
       "\n",
       "     Perc_Dominant_Topic  \n",
       "0                   0.99  \n",
       "1                   0.89  \n",
       "2                   0.60  \n",
       "3                   0.47  \n",
       "4                   0.94  \n",
       "..                   ...  \n",
       "97                  0.97  \n",
       "98                  0.96  \n",
       "99                  0.67  \n",
       "100                 1.00  \n",
       "101                 1.00  \n",
       "\n",
       "[102 rows x 13 columns]"
      ]
     },
     "execution_count": 7,
     "metadata": {},
     "output_type": "execute_result"
    }
   ],
   "source": [
    "apply_lda_pos"
   ]
  },
  {
   "cell_type": "code",
   "execution_count": 8,
   "metadata": {},
   "outputs": [
    {
     "data": {
      "application/vnd.jupyter.widget-view+json": {
       "model_id": "e1aa959337a549469bf3af2992aef4fd",
       "version_major": 2,
       "version_minor": 0
      },
      "text/plain": [
       "interactive(children=(ToggleButtons(description='Plot Type:', icons=('',), options=(('Frequency Plot', 'freque…"
      ]
     },
     "metadata": {},
     "output_type": "display_data"
    }
   ],
   "source": [
    "evaluate_model(lda_pos_custom)"
   ]
  },
  {
   "cell_type": "code",
   "execution_count": 9,
   "metadata": {},
   "outputs": [
    {
     "data": {
      "text/html": [
       "        <script type=\"text/javascript\">\n",
       "        window.PlotlyConfig = {MathJaxConfig: 'local'};\n",
       "        if (window.MathJax) {MathJax.Hub.Config({SVG: {font: \"STIX-Web\"}});}\n",
       "        if (typeof require !== 'undefined') {\n",
       "        require.undef(\"plotly\");\n",
       "        requirejs.config({\n",
       "            paths: {\n",
       "                'plotly': ['https://cdn.plot.ly/plotly-latest.min']\n",
       "            }\n",
       "        });\n",
       "        require(['plotly'], function(Plotly) {\n",
       "            window._Plotly = Plotly;\n",
       "        });\n",
       "        }\n",
       "        </script>\n",
       "        "
      ]
     },
     "metadata": {},
     "output_type": "display_data"
    },
    {
     "data": {
      "text/html": [
       "\n",
       "<link rel=\"stylesheet\" type=\"text/css\" href=\"https://cdn.rawgit.com/bmabey/pyLDAvis/files/ldavis.v1.0.0.css\">\n",
       "\n",
       "\n",
       "<div id=\"ldavis_el212422546567095763709811914\"></div>\n",
       "<script type=\"text/javascript\">\n",
       "\n",
       "var ldavis_el212422546567095763709811914_data = {\"mdsDat\": {\"x\": [0.16068837145015155, 0.1414976336764517, -0.25468854498848614, -0.04749746013811714], \"y\": [0.002992863545820007, -0.11160758528590564, -0.18212519206376745, 0.29073991380385317], \"topics\": [1, 2, 3, 4], \"cluster\": [1, 1, 1, 1], \"Freq\": [77.65718078613281, 14.685768127441406, 4.043562889099121, 3.613490581512451]}, \"tinfo\": {\"Term\": [\"night\", \"place\", \"clean\", \"breakfast\", \"quiet\", \"well\", \"make\", \"old\", \"work\", \"book\", \"little\", \"need\", \"feel\", \"friendly\", \"close\", \"bed\", \"stay\", \"get\", \"staff\", \"money\", \"small\", \"time\", \"simple\", \"basic\", \"even\", \"egg\", \"much\", \"arrive\", \"balcony\", \"water\", \"area\", \"walk\", \"city\", \"comfortable\", \"day\", \"minute\", \"quite\", \"locate\", \"visit\", \"help\", \"welcome\", \"hot\", \"offer\", \"thank\", \"reception\", \"really\", \"town\", \"manager\", \"way\", \"business\", \"warm\", \"thing\", \"helpful\", \"big\", \"bus\", \"centre\", \"see\", \"pleasant\", \"always\", \"situate\", \"stay\", \"friendly\", \"staff\", \"breakfast\", \"clean\", \"enough\", \"location\", \"quiet\", \"great\", \"recommend\", \"value\", \"small\", \"make\", \"time\", \"night\", \"work\", \"old\", \"coffee\", \"price\", \"place\", \"need\", \"well\", \"dirty\", \"reason\", \"least\", \"else\", \"music\", \"due\", \"accommodate\", \"flight\", \"smoke\", \"repair\", \"base\", \"description\", \"dot\", \"training\", \"table\", \"treasure\", \"year\", \"floor\", \"enter\", \"euros\", \"tired\", \"handle\", \"cochrache\", \"svetlana\", \"amazingly\", \"comfort\", \"last\", \"traffic\", \"assist\", \"maximum\", \"prepare\", \"leave\", \"go\", \"complain\", \"arrange\", \"course\", \"say\", \"bit\", \"people\", \"price\", \"beautiful\", \"pay\", \"need\", \"drive\", \"service\", \"great\", \"find\", \"look\", \"bathroom\", \"money\", \"charge\", \"well\", \"fresh\", \"lovely\", \"staff\", \"time\", \"clean\", \"small\", \"breakfast\", \"use\", \"visitor\", \"rate\", \"oblige\", \"pre\", \"carry\", \"converse\", \"drinking\", \"entity\", \"homely\", \"life\", \"linen\", \"market\", \"noon\", \"begin\", \"organiser\", \"organization\", \"prepared\", \"behalf\", \"prospective\", \"quantity\", \"salad\", \"sandwich\", \"separately\", \"sunnyside\", \"supply\", \"baclony\", \"aware\", \"advise\", \"addition\", \"bottled\", \"option\", \"whole\", \"greek\", \"view\", \"water\", \"major\", \"mostly\", \"scramble\", \"egg\", \"well\", \"channel\", \"budget\", \"generally\", \"make\", \"manage\", \"call\", \"particularly\", \"tiny\", \"buy\", \"take\", \"cheese\", \"sit\", \"cereal\", \"love\", \"tell\", \"order\", \"give\", \"especially\", \"even\", \"people\", \"shower\", \"suite\", \"reservation\", \"office\", \"street\", \"early\", \"furniture\", \"seem\", \"face\", \"shape\", \"online\", \"newly\", \"muggy\", \"inexpensive\", \"fully\", \"canopy\", \"renovate\", \"read\", \"receive\", \"probably\", \"spend\", \"case\", \"arrive\", \"incl\", \"decent\", \"late\", \"give\", \"book\", \"little\", \"balcony\", \"simple\", \"night\", \"place\", \"get\", \"money\", \"well\", \"need\", \"old\", \"quiet\", \"bed\", \"clean\", \"breakfast\", \"close\"], \"Freq\": [34.0, 24.0, 56.0, 43.0, 26.0, 22.0, 27.0, 25.0, 19.0, 12.0, 12.0, 21.0, 15.0, 37.0, 12.0, 12.0, 68.0, 11.0, 52.0, 11.0, 24.0, 23.0, 8.0, 13.0, 12.0, 8.0, 13.0, 6.0, 7.0, 7.0, 28.159481048583984, 21.762609481811523, 20.1198673248291, 20.913461685180664, 16.842382431030273, 16.038997650146484, 17.598169326782227, 12.726983070373535, 12.727060317993164, 12.646783828735352, 17.305688858032227, 10.31283950805664, 10.292016983032227, 10.284911155700684, 9.491127014160156, 21.836095809936523, 14.828392028808594, 8.659847259521484, 8.659717559814453, 8.644759178161621, 8.634970664978027, 9.397900581359863, 30.038578033447266, 8.622965812683105, 7.858774185180664, 7.858095645904541, 8.610333442687988, 8.611385345458984, 7.832462310791016, 7.038122653961182, 65.86250305175781, 35.91297912597656, 49.148250579833984, 39.509315490722656, 50.612178802490234, 9.974785804748535, 14.482807159423828, 23.950725555419922, 20.557092666625977, 11.773176193237305, 14.647893905639648, 20.926563262939453, 22.905540466308594, 20.346355438232422, 27.467512130737305, 16.866287231445312, 20.535581588745117, 12.304474830627441, 17.998493194580078, 18.757638931274414, 15.51755428314209, 13.88943862915039, 2.0288963317871094, 2.020090341567993, 2.012956142425537, 2.007021427154541, 1.59173583984375, 1.5813812017440796, 1.5561668872833252, 1.1499994993209839, 1.1498326063156128, 1.149768590927124, 1.1496385335922241, 1.148461937904358, 1.1484618186950684, 1.1474882364273071, 1.146213173866272, 1.144680380821228, 1.1445919275283813, 1.1429673433303833, 1.1429411172866821, 1.142289161682129, 1.1422661542892456, 1.141972303390503, 1.1408360004425049, 1.1414554119110107, 1.1380276679992676, 1.136537790298462, 1.1342027187347412, 1.133286714553833, 1.1322742700576782, 1.1231825351715088, 1.9930822849273682, 1.8653136491775513, 5.194840908050537, 1.5834591388702393, 1.5659862756729126, 1.5189204216003418, 2.5131614208221436, 2.3584189414978027, 2.229692220687866, 3.6270453929901123, 1.7668606042861938, 2.078625440597534, 3.27801251411438, 1.4442178010940552, 2.2569215297698975, 2.6887967586517334, 2.292100667953491, 2.033552646636963, 2.08762788772583, 2.04990553855896, 1.496202826499939, 2.148160934448242, 1.632148027420044, 1.7206517457962036, 2.0435423851013184, 1.8433414697647095, 1.9763308763504028, 1.7027254104614258, 1.7211395502090454, 1.5916249752044678, 3.000661611557007, 3.0063083171844482, 1.4961766004562378, 1.4961766004562378, 1.4961766004562378, 1.4961766004562378, 1.4961766004562378, 1.4961766004562378, 1.4961766004562378, 1.4961766004562378, 1.4961766004562378, 1.4961766004562378, 1.4961766004562378, 1.4961766004562378, 1.4961766004562378, 1.4961766004562378, 1.4961766004562378, 1.4961766004562378, 1.4961766004562378, 1.4961766004562378, 1.4961766004562378, 1.4961766004562378, 1.4961766004562378, 1.4961766004562378, 1.4961766004562378, 1.4961766004562378, 1.4961766004562378, 1.4961766004562378, 1.4961766004562378, 1.4961766004562378, 1.535847783088684, 1.5159164667129517, 2.9930419921875, 1.5162187814712524, 3.040286064147949, 1.5158729553222656, 1.5352859497070312, 1.5155211687088013, 2.9931018352508545, 4.492525577545166, 1.5147193670272827, 1.5332016944885254, 1.514169454574585, 3.0083699226379395, 1.528116226196289, 1.5282152891159058, 1.5285216569900513, 1.5505998134613037, 1.507383942604065, 1.5325438976287842, 1.5176331996917725, 1.5150245428085327, 1.5205590724945068, 1.530889868736267, 1.5212023258209229, 1.5179544687271118, 1.5159528255462646, 1.5179516077041626, 1.5199689865112305, 1.5170207023620605, 1.5161004066467285, 4.664130210876465, 2.371936321258545, 2.310983180999756, 2.371950387954712, 2.3412020206451416, 2.3413805961608887, 2.3411176204681396, 2.3106513023376465, 2.2800779342651367, 2.2800779342651367, 2.2800779342651367, 2.2800779342651367, 2.2800779342651367, 2.2800779342651367, 2.2800779342651367, 2.2800779342651367, 2.3102970123291016, 2.340742826461792, 2.3407366275787354, 2.429957389831543, 2.3082282543182373, 4.692646026611328, 2.280104398727417, 2.37144136428833, 2.337176561355591, 2.3082077503204346, 4.685406684875488, 4.626003265380859, 2.310736894607544, 2.350609540939331, 6.989315509796143, 4.696072578430176, 2.3682217597961426, 2.363734722137451, 2.373213529586792, 2.3674235343933105, 2.3618662357330322, 2.3627912998199463, 2.3405356407165527, 2.356417417526245, 2.342944622039795, 2.319688081741333], \"Total\": [34.0, 24.0, 56.0, 43.0, 26.0, 22.0, 27.0, 25.0, 19.0, 12.0, 12.0, 21.0, 15.0, 37.0, 12.0, 12.0, 68.0, 11.0, 52.0, 11.0, 24.0, 23.0, 8.0, 13.0, 12.0, 8.0, 13.0, 6.0, 7.0, 7.0, 28.542701721191406, 22.064088821411133, 20.424232482910156, 21.231956481933594, 17.14970588684082, 16.337928771972656, 17.93912696838379, 13.046981811523438, 13.047450065612793, 13.010011672973633, 17.80455780029297, 10.610692024230957, 10.601062774658203, 10.598091125488281, 9.790781021118164, 22.54022979736328, 15.338824272155762, 8.966623306274414, 8.966519355773926, 8.956502914428711, 8.955099105834961, 9.748191833496094, 31.173933029174805, 8.94906234741211, 8.156596183776855, 8.15589427947998, 8.942527770996094, 8.943623542785645, 8.14417552947998, 7.336799144744873, 68.80855560302734, 37.80891418457031, 52.717777252197266, 43.58570098876953, 56.449974060058594, 10.45479965209961, 15.620991706848145, 26.88459587097168, 23.276866912841797, 12.607972145080566, 16.13936424255371, 24.160411834716797, 27.184207916259766, 23.708454132080078, 34.74076461791992, 19.46368980407715, 25.180749893188477, 13.294677734375, 21.65656280517578, 24.47597885131836, 21.175251007080078, 22.903337478637695, 2.562483310699463, 2.569650650024414, 2.574697732925415, 2.5789990425109863, 2.1168060302734375, 2.1255409717559814, 2.1467549800872803, 1.6750520467758179, 1.6748758554458618, 1.6748160123825073, 1.6746951341629028, 1.6764196157455444, 1.6764194965362549, 1.6772726774215698, 1.6764189004898071, 1.6791867017745972, 1.6796852350234985, 1.678263783454895, 1.6797133684158325, 1.6791861057281494, 1.6815968751907349, 1.681318759918213, 1.6802345514297485, 1.682295560836792, 1.6849502325057983, 1.6844520568847656, 1.688157320022583, 1.6885597705841064, 1.6897779703140259, 1.6971558332443237, 3.410649538040161, 3.5185699462890625, 18.683223724365234, 2.9408631324768066, 2.9561688899993896, 2.996445655822754, 8.692221641540527, 8.008686065673828, 7.1483659744262695, 21.65656280517578, 4.420790195465088, 6.608517169952393, 21.175251007080078, 3.0577054023742676, 12.187929153442383, 23.276866912841797, 14.610715866088867, 10.73987865447998, 11.920808792114258, 11.67618179321289, 4.650509834289551, 22.903337478637695, 7.273421287536621, 10.18988037109375, 52.717777252197266, 23.708454132080078, 56.449974060058594, 24.160411834716797, 43.58570098876953, 7.025737285614014, 3.7898190021514893, 4.115200519561768, 2.2787444591522217, 2.2787444591522217, 2.2787444591522217, 2.2787444591522217, 2.2787444591522217, 2.2787444591522217, 2.2787444591522217, 2.2787444591522217, 2.2787444591522217, 2.2787444591522217, 2.2787444591522217, 2.2787444591522217, 2.2787444591522217, 2.2787444591522217, 2.2787444591522217, 2.2787444591522217, 2.2787444591522217, 2.2787444591522217, 2.2787444591522217, 2.2787444591522217, 2.2787444591522217, 2.2787444591522217, 2.2787444591522217, 2.2787444591522217, 2.2787444591522217, 2.2787444591522217, 2.2787444591522217, 2.2787444591522217, 2.34035587310791, 2.3109560012817383, 4.826923370361328, 2.315582752227783, 7.260798454284668, 2.330136775970459, 2.3832662105560303, 2.3338382244110107, 8.481696128845215, 22.903337478637695, 2.3550305366516113, 2.440819263458252, 2.367812395095825, 27.184207916259766, 2.498561143875122, 2.5057055950164795, 2.649514675140381, 2.965444326400757, 2.4951395988464355, 3.826378345489502, 3.1861610412597656, 3.2485828399658203, 3.778993606567383, 5.422813892364502, 5.281725883483887, 5.4635910987854, 5.090069770812988, 7.107456684112549, 12.780024528503418, 7.1483659744262695, 6.411640644073486, 5.462212085723877, 3.160715103149414, 3.084282636642456, 3.167468547821045, 3.126823663711548, 3.1275529861450195, 3.1312849521636963, 3.0926356315612793, 3.0531435012817383, 3.0531435012817383, 3.0531435012817383, 3.0531435012817383, 3.0531435012817383, 3.0531435012817383, 3.0531435012817383, 3.0531435012817383, 3.101532459259033, 3.1430835723876953, 3.144385576248169, 3.278524875640869, 3.152996778488159, 6.976014137268066, 3.4943482875823975, 3.996518611907959, 4.8609185218811035, 5.090069770812988, 12.209959030151367, 12.160743713378906, 7.5798234939575195, 8.593064308166504, 34.74076461791992, 24.47597885131836, 11.538249969482422, 11.67618179321289, 22.903337478637695, 21.175251007080078, 25.180749893188477, 26.88459587097168, 12.90449333190918, 56.449974060058594, 43.58570098876953, 12.682282447814941], \"Category\": [\"Default\", \"Default\", \"Default\", \"Default\", \"Default\", \"Default\", \"Default\", \"Default\", \"Default\", \"Default\", \"Default\", \"Default\", \"Default\", \"Default\", \"Default\", \"Default\", \"Default\", \"Default\", \"Default\", \"Default\", \"Default\", \"Default\", \"Default\", \"Default\", \"Default\", \"Default\", \"Default\", \"Default\", \"Default\", \"Default\", \"Topic1\", \"Topic1\", \"Topic1\", \"Topic1\", \"Topic1\", \"Topic1\", \"Topic1\", \"Topic1\", \"Topic1\", \"Topic1\", \"Topic1\", \"Topic1\", \"Topic1\", \"Topic1\", \"Topic1\", \"Topic1\", \"Topic1\", \"Topic1\", \"Topic1\", \"Topic1\", \"Topic1\", \"Topic1\", \"Topic1\", \"Topic1\", \"Topic1\", \"Topic1\", \"Topic1\", \"Topic1\", \"Topic1\", \"Topic1\", \"Topic1\", \"Topic1\", \"Topic1\", \"Topic1\", \"Topic1\", \"Topic1\", \"Topic1\", \"Topic1\", \"Topic1\", \"Topic1\", \"Topic1\", \"Topic1\", \"Topic1\", \"Topic1\", \"Topic1\", \"Topic1\", \"Topic1\", \"Topic1\", \"Topic1\", \"Topic1\", \"Topic1\", \"Topic1\", \"Topic2\", \"Topic2\", \"Topic2\", \"Topic2\", \"Topic2\", \"Topic2\", \"Topic2\", \"Topic2\", \"Topic2\", \"Topic2\", \"Topic2\", \"Topic2\", \"Topic2\", \"Topic2\", \"Topic2\", \"Topic2\", \"Topic2\", \"Topic2\", \"Topic2\", \"Topic2\", \"Topic2\", \"Topic2\", \"Topic2\", \"Topic2\", \"Topic2\", \"Topic2\", \"Topic2\", \"Topic2\", \"Topic2\", \"Topic2\", \"Topic2\", \"Topic2\", \"Topic2\", \"Topic2\", \"Topic2\", \"Topic2\", \"Topic2\", \"Topic2\", \"Topic2\", \"Topic2\", \"Topic2\", \"Topic2\", \"Topic2\", \"Topic2\", \"Topic2\", \"Topic2\", \"Topic2\", \"Topic2\", \"Topic2\", \"Topic2\", \"Topic2\", \"Topic2\", \"Topic2\", \"Topic2\", \"Topic2\", \"Topic2\", \"Topic2\", \"Topic2\", \"Topic2\", \"Topic2\", \"Topic3\", \"Topic3\", \"Topic3\", \"Topic3\", \"Topic3\", \"Topic3\", \"Topic3\", \"Topic3\", \"Topic3\", \"Topic3\", \"Topic3\", \"Topic3\", \"Topic3\", \"Topic3\", \"Topic3\", \"Topic3\", \"Topic3\", \"Topic3\", \"Topic3\", \"Topic3\", \"Topic3\", \"Topic3\", \"Topic3\", \"Topic3\", \"Topic3\", \"Topic3\", \"Topic3\", \"Topic3\", \"Topic3\", \"Topic3\", \"Topic3\", \"Topic3\", \"Topic3\", \"Topic3\", \"Topic3\", \"Topic3\", \"Topic3\", \"Topic3\", \"Topic3\", \"Topic3\", \"Topic3\", \"Topic3\", \"Topic3\", \"Topic3\", \"Topic3\", \"Topic3\", \"Topic3\", \"Topic3\", \"Topic3\", \"Topic3\", \"Topic3\", \"Topic3\", \"Topic3\", \"Topic3\", \"Topic3\", \"Topic3\", \"Topic3\", \"Topic3\", \"Topic3\", \"Topic3\", \"Topic3\", \"Topic4\", \"Topic4\", \"Topic4\", \"Topic4\", \"Topic4\", \"Topic4\", \"Topic4\", \"Topic4\", \"Topic4\", \"Topic4\", \"Topic4\", \"Topic4\", \"Topic4\", \"Topic4\", \"Topic4\", \"Topic4\", \"Topic4\", \"Topic4\", \"Topic4\", \"Topic4\", \"Topic4\", \"Topic4\", \"Topic4\", \"Topic4\", \"Topic4\", \"Topic4\", \"Topic4\", \"Topic4\", \"Topic4\", \"Topic4\", \"Topic4\", \"Topic4\", \"Topic4\", \"Topic4\", \"Topic4\", \"Topic4\", \"Topic4\", \"Topic4\", \"Topic4\", \"Topic4\", \"Topic4\", \"Topic4\"], \"logprob\": [30.0, 29.0, 28.0, 27.0, 26.0, 25.0, 24.0, 23.0, 22.0, 21.0, 20.0, 19.0, 18.0, 17.0, 16.0, 15.0, 14.0, 13.0, 12.0, 11.0, 10.0, 9.0, 8.0, 7.0, 6.0, 5.0, 4.0, 3.0, 2.0, 1.0, -4.666600227355957, -4.924300193786621, -5.002799987792969, -4.964099884033203, -5.180600166320801, -5.229499816894531, -5.13670015335083, -5.4608001708984375, -5.4608001708984375, -5.467100143432617, -5.153500080108643, -5.67110013961792, -5.6732001304626465, -5.673799991607666, -5.754199981689453, -4.921000003814697, -5.308000087738037, -5.845799922943115, -5.845799922943115, -5.847599983215332, -5.848700046539307, -5.763999938964844, -4.6020002365112305, -5.850100040435791, -5.94290018081665, -5.942999839782715, -5.851600170135498, -5.851399898529053, -5.946199893951416, -6.053199768066406, -3.816999912261963, -4.423399925231934, -4.1097002029418945, -4.328000068664551, -4.0802998542785645, -5.704500198364258, -5.331600189208984, -4.828499794006348, -4.981299877166748, -5.538700103759766, -5.320199966430664, -4.963500022888184, -4.8730998039245605, -4.991600036621094, -4.691500186920166, -5.179200172424316, -4.982399940490723, -5.49459981918335, -5.114200115203857, -5.07289981842041, -5.262499809265137, -5.3734002113342285, -5.6315999031066895, -5.636000156402588, -5.639500141143799, -5.642399787902832, -5.874300003051758, -5.880799770355225, -5.896900177001953, -6.1992998123168945, -6.19950008392334, -6.19950008392334, -6.1996002197265625, -6.200699806213379, -6.200699806213379, -6.201499938964844, -6.202600002288818, -6.203999996185303, -6.203999996185303, -6.20550012588501, -6.20550012588501, -6.206099987030029, -6.206099987030029, -6.206299781799316, -6.207300186157227, -6.2067999839782715, -6.209799766540527, -6.211100101470947, -6.213200092315674, -6.214000225067139, -6.214900016784668, -6.222899913787842, -5.649400234222412, -5.715700149536133, -4.691400051116943, -5.879499912261963, -5.890600204467773, -5.92110013961792, -5.417600154876709, -5.481100082397461, -5.537199974060059, -5.0507001876831055, -5.769899845123291, -5.607399940490723, -5.151899814605713, -5.971499919891357, -5.525100231170654, -5.349999904632568, -5.5096001625061035, -5.629300117492676, -5.603099822998047, -5.621300220489502, -5.936200141906738, -5.57450008392334, -5.8491997718811035, -5.79640007019043, -5.6244001388549805, -5.727499961853027, -5.657899856567383, -5.8069000244140625, -5.79610013961792, -5.874300003051758, -3.950500011444092, -3.9486000537872314, -4.646399974822998, -4.646399974822998, -4.646399974822998, -4.646399974822998, -4.646399974822998, -4.646399974822998, -4.646399974822998, -4.646399974822998, -4.646399974822998, -4.646399974822998, -4.646399974822998, -4.646399974822998, -4.646399974822998, -4.646399974822998, -4.646399974822998, -4.646399974822998, -4.646399974822998, -4.646399974822998, -4.646399974822998, -4.646399974822998, -4.646399974822998, -4.646399974822998, -4.646399974822998, -4.646399974822998, -4.646399974822998, -4.646399974822998, -4.646399974822998, -4.646399974822998, -4.620299816131592, -4.633299827575684, -3.9530999660491943, -4.6331000328063965, -3.9374001026153564, -4.633399963378906, -4.62060022354126, -4.633600234985352, -3.953000068664551, -3.5469000339508057, -4.634099960327148, -4.622000217437744, -4.634500026702881, -3.9479000568389893, -4.62529993057251, -4.625199794769287, -4.625, -4.6107001304626465, -4.638999938964844, -4.622399806976318, -4.632199764251709, -4.633900165557861, -4.630300045013428, -4.623499870300293, -4.629799842834473, -4.631999969482422, -4.633299827575684, -4.631999969482422, -4.63070011138916, -4.632599830627441, -4.633200168609619, -3.3970000743865967, -4.073200225830078, -4.0991997718811035, -4.073200225830078, -4.08620023727417, -4.086100101470947, -4.086299896240234, -4.099400043487549, -4.11269998550415, -4.11269998550415, -4.11269998550415, -4.11269998550415, -4.11269998550415, -4.11269998550415, -4.11269998550415, -4.11269998550415, -4.0995001792907715, -4.086400032043457, -4.086400032043457, -4.048999786376953, -4.100399971008301, -3.390899896621704, -4.11269998550415, -4.073400020599365, -4.087900161743164, -4.100399971008301, -3.392400026321411, -3.4052000045776367, -4.099299907684326, -4.082200050354004, -2.992500066757202, -3.390199899673462, -4.07480001449585, -4.076600074768066, -4.0725998878479, -4.075099945068359, -4.077400207519531, -4.077000141143799, -4.08650016784668, -4.079699993133545, -4.0854997634887695, -4.0954999923706055], \"loglift\": [30.0, 29.0, 28.0, 27.0, 26.0, 25.0, 24.0, 23.0, 22.0, 21.0, 20.0, 19.0, 18.0, 17.0, 16.0, 15.0, 14.0, 13.0, 12.0, 11.0, 10.0, 9.0, 8.0, 7.0, 6.0, 5.0, 4.0, 3.0, 2.0, 1.0, 0.23929999768733978, 0.23909999430179596, 0.2379000037908554, 0.2378000020980835, 0.23479999601840973, 0.23440000414848328, 0.2337000072002411, 0.2280000001192093, 0.2280000001192093, 0.22460000216960907, 0.22439999878406525, 0.22439999878406525, 0.2232999950647354, 0.22290000319480896, 0.22179999947547913, 0.22110000252723694, 0.21899999678134918, 0.21809999644756317, 0.21809999644756317, 0.21739999949932098, 0.21649999916553497, 0.21629999577999115, 0.21580000221729279, 0.21570000052452087, 0.21570000052452087, 0.21570000052452087, 0.2150000035762787, 0.2150000035762787, 0.21379999816417694, 0.21130000054836273, 0.20909999310970306, 0.2013999968767166, 0.18279999494552612, 0.15469999611377716, 0.1437000036239624, 0.20589999854564667, 0.17720000445842743, 0.13729999959468842, 0.12860000133514404, 0.18440000712871552, 0.1559000015258789, 0.10920000076293945, 0.08160000294446945, 0.09989999979734421, 0.017999999225139618, 0.1096000000834465, 0.048900000751018524, 0.17550000548362732, 0.06780000030994415, -0.013199999928474426, -0.057999998331069946, -0.24729999899864197, 1.6848000288009644, 1.6777000427246094, 1.6721999645233154, 1.6675000190734863, 1.6332000494003296, 1.6225999593734741, 1.59660005569458, 1.542199969291687, 1.542199969291687, 1.542099952697754, 1.542099952697754, 1.5400999784469604, 1.5400999784469604, 1.538699984550476, 1.538100004196167, 1.535099983215332, 1.5347000360488892, 1.5341999530792236, 1.5333000421524048, 1.5329999923706055, 1.531599998474121, 1.531499981880188, 1.5311000347137451, 1.530400037765503, 1.5259000062942505, 1.5247999429702759, 1.5205999612808228, 1.5195000171661377, 1.517899990081787, 1.5054999589920044, 1.381100058555603, 1.2836999893188477, 0.6383000016212463, 1.2992000579833984, 1.2828999757766724, 1.2388999462127686, 0.6773999929428101, 0.6958000063896179, 0.7533000111579895, 0.131400004029274, 1.0011999607086182, 0.7616000175476074, 0.05270000174641609, 1.1682000160217285, 0.23180000483989716, -0.24009999632835388, 0.06599999964237213, 0.2540999948978424, 0.17599999904632568, 0.1784999966621399, 0.7842000126838684, -0.44839999079704285, 0.42399999499320984, 0.1395999938249588, -1.3320000171661377, -0.6359999775886536, -1.4337999820709229, -0.7342000007629395, -1.3135000467300415, 0.4334999918937683, 2.974600076675415, 2.8940999507904053, 2.7873001098632812, 2.7873001098632812, 2.7873001098632812, 2.7873001098632812, 2.7873001098632812, 2.7873001098632812, 2.7873001098632812, 2.7873001098632812, 2.7873001098632812, 2.7873001098632812, 2.7873001098632812, 2.7873001098632812, 2.7873001098632812, 2.7873001098632812, 2.7873001098632812, 2.7873001098632812, 2.7873001098632812, 2.7873001098632812, 2.7873001098632812, 2.7873001098632812, 2.7873001098632812, 2.7873001098632812, 2.7873001098632812, 2.7873001098632812, 2.7873001098632812, 2.7873001098632812, 2.7873001098632812, 2.7873001098632812, 2.786799907684326, 2.786400079727173, 2.73009991645813, 2.784600019454956, 2.3375000953674316, 2.77810001373291, 2.7683000564575195, 2.7762999534606934, 2.1663999557495117, 1.579200029373169, 2.766700029373169, 2.7430999279022217, 2.7609000205993652, 1.0068000555038452, 2.716399908065796, 2.713599920272827, 2.6579999923706055, 2.5597000122070312, 2.7040998935699463, 2.293100118637085, 2.466399908065796, 2.4453001022338867, 2.2976999282836914, 1.9433000087738037, 1.9632999897003174, 1.927299976348877, 1.9967999458312988, 1.6642999649047852, 1.0788999795913696, 1.6578999757766724, 1.7661000490188599, 3.1624999046325684, 3.033400058746338, 3.031899929046631, 3.0313000679016113, 3.031100034713745, 3.0309998989105225, 3.0297000408172607, 3.0290000438690186, 3.0285000801086426, 3.0285000801086426, 3.0285000801086426, 3.0285000801086426, 3.0285000801086426, 3.0285000801086426, 3.0285000801086426, 3.0285000801086426, 3.0260000228881836, 3.0257999897003174, 3.0253000259399414, 3.0209999084472656, 3.0085999965667725, 2.9240000247955322, 2.8935999870300293, 2.7985999584198, 2.588200092315674, 2.5297000408172607, 2.3626999855041504, 2.3540000915527344, 2.1326000690460205, 2.024199962615967, 1.7170000076293945, 1.6694999933242798, 1.7369999885559082, 1.7231999635696411, 1.0535000562667847, 1.1295000314712524, 0.9538999795913696, 0.8888000249862671, 1.6132999658584595, 0.14429999887943268, 0.39719998836517334, 1.6217000484466553]}, \"token.table\": {\"Topic\": [1, 2, 3, 3, 1, 1, 2, 1, 1, 2, 1, 3, 4, 1, 2, 3, 3, 1, 2, 4, 2, 1, 3, 1, 2, 3, 1, 2, 1, 2, 4, 3, 3, 1, 1, 2, 1, 4, 3, 1, 2, 4, 1, 3, 1, 1, 1, 3, 1, 3, 4, 3, 1, 4, 1, 1, 3, 1, 3, 1, 2, 1, 2, 3, 1, 1, 2, 3, 4, 1, 4, 1, 2, 1, 2, 1, 2, 1, 1, 2, 3, 1, 2, 1, 1, 4, 2, 1, 2, 2, 3, 1, 2, 1, 2, 1, 4, 1, 2, 3, 1, 2, 1, 1, 2, 3, 1, 3, 1, 2, 1, 3, 1, 4, 1, 2, 4, 1, 2, 2, 1, 2, 1, 2, 3, 1, 3, 4, 1, 4, 1, 3, 1, 2, 4, 1, 2, 3, 4, 1, 2, 1, 2, 2, 3, 1, 2, 1, 1, 2, 3, 1, 2, 4, 4, 1, 2, 1, 4, 1, 2, 1, 2, 3, 3, 1, 4, 1, 1, 2, 1, 2, 1, 2, 3, 1, 2, 1, 3, 1, 2, 3, 1, 3, 1, 3, 1, 2, 1, 1, 2, 4, 1, 3, 1, 2, 3, 4, 2, 1, 2, 4, 4, 1, 4, 3, 3, 1, 4, 1, 2, 3, 4, 4, 1, 3, 1, 3, 3, 3, 1, 3, 1, 2, 1, 2, 3, 1, 2, 4, 1, 3, 1, 2, 3, 1, 2, 1, 4, 3, 3, 1, 2, 4, 1, 1, 2, 3, 1, 4, 1, 2, 1, 2, 1, 4, 1, 1, 2, 4, 2, 1, 4, 3, 3, 1, 2, 1, 3, 1, 1, 4, 3, 1, 2, 4, 1, 3, 1, 4, 1, 2, 3, 1, 1, 2, 3, 2, 1, 4, 1, 2, 3, 1, 2, 3, 1, 4, 1, 4, 3, 3, 1, 2, 2, 1, 2, 3, 1, 3, 1, 1, 1, 2, 3, 1, 2, 3, 1, 2, 1, 1, 2, 2, 1, 2, 1, 2, 1, 2, 1, 3, 1, 1, 3, 1, 1, 1, 2, 3, 1, 1, 1, 2, 3, 4, 1, 3, 1, 4, 1, 2], \"Freq\": [0.4658193588256836, 0.9316387176513672, 0.4388381540775299, 0.4388381540775299, 0.9822971224784851, 0.5934893488883972, 0.5934893488883972, 0.9809862971305847, 0.338275671005249, 0.676551342010498, 0.1433483362197876, 0.1433483362197876, 0.716741681098938, 0.5917937159538269, 0.5917937159538269, 0.4388381540775299, 0.4388381540775299, 0.5277167558670044, 0.1319291889667511, 0.2638583779335022, 0.5971236228942871, 0.829260528087616, 0.15077464282512665, 0.6710954308509827, 0.16777385771274567, 0.16777385771274567, 0.678611695766449, 0.4524078071117401, 0.6974315047264099, 0.07749238610267639, 0.15498477220535278, 0.4388381540775299, 0.4388381540775299, 1.0056920051574707, 0.7491865754127502, 0.24972885847091675, 0.5733025074005127, 0.4095017910003662, 0.4388381540775299, 0.9177321791648865, 0.04588660970330238, 0.04588660970330238, 0.4096985161304474, 0.8193970322608948, 0.9808012843132019, 1.0048564672470093, 0.40077918767929077, 0.8015583753585815, 0.39908918738365173, 0.7981783747673035, 0.6550625562667847, 0.4388381540775299, 0.317158579826355, 0.63431715965271, 0.9808856844902039, 0.5292414426803589, 0.5292414426803589, 0.42462295293807983, 0.8492459058761597, 0.6450905799865723, 0.21503019332885742, 0.3138573169708252, 0.3138573169708252, 0.6277146339416504, 0.9792289733886719, 0.9034547805786133, 0.03542960062623024, 0.03542960062623024, 0.03542960062623024, 0.7885016202926636, 0.157700315117836, 0.5951550006866455, 0.5951550006866455, 0.9026168584823608, 0.075218066573143, 0.5936648845672607, 0.5936648845672607, 0.9890751242637634, 0.34003621339797974, 0.6800724267959595, 0.4388381540775299, 0.33372873067855835, 0.6674574613571167, 0.9912706613540649, 0.2502177655696869, 0.5004355311393738, 0.5965093374252319, 0.3902464509010315, 0.780492901802063, 0.5965093970298767, 0.4388381540775299, 0.6540852785110474, 0.3270426392555237, 0.4704684615135193, 0.9409369230270386, 0.3198133707046509, 0.6396267414093018, 0.5895047187805176, 0.11790094524621964, 0.3537028431892395, 0.3877473473548889, 0.7754946947097778, 0.9564985036849976, 0.5953396558761597, 0.5953396558761597, 0.4388381540775299, 0.7034865021705627, 0.2813946008682251, 0.5955265760421753, 0.5955265760421753, 0.8607182502746582, 0.15649421513080597, 0.3233487904071808, 0.6466975808143616, 0.8157419562339783, 0.06274938583374023, 0.12549877166748047, 0.8213149905204773, 0.1368858367204666, 0.5969963669776917, 0.595853865146637, 0.595853865146637, 0.5499475002288818, 0.2749737501144409, 0.2749737501144409, 0.9521564245223999, 0.052897579967975616, 0.6550625562667847, 0.3197387754917145, 0.639477550983429, 0.422330766916275, 0.84466153383255, 0.6933460235595703, 0.08666825294494629, 0.17333650588989258, 0.19646096229553223, 0.19646096229553223, 0.39292192459106445, 0.39292192459106445, 0.69581139087677, 0.2676197588443756, 0.9021832942962646, 0.12888333201408386, 0.20717130601406097, 0.6215139031410217, 0.5947712063789368, 0.5947712063789368, 0.9992304444313049, 0.9623425006866455, 0.032078083604574203, 0.4388381540775299, 0.9424455761909485, 0.2861763834953308, 0.5723527669906616, 0.6550625562667847, 0.5923618674278259, 0.5923618674278259, 0.41144487261772156, 0.41144487261772156, 0.3883951008319855, 0.776790201663971, 0.568412721157074, 0.568412721157074, 0.4388381540775299, 0.4388381540775299, 0.5756226778030396, 0.41115906834602356, 0.9963990449905396, 0.8962299227714539, 0.0640164241194725, 0.8379982709884644, 0.18622183799743652, 0.5532183051109314, 0.1844061017036438, 0.3688122034072876, 0.7850926518440247, 0.19627316296100616, 0.42915934324264526, 0.8583186864852905, 0.8460794687271118, 0.03678606450557709, 0.11035819351673126, 0.400230348110199, 0.800460696220398, 1.0037223100662231, 0.4388381540775299, 0.5892210602760315, 0.5892210602760315, 0.9793162941932678, 0.5995110273361206, 0.1712888777256012, 0.1712888777256012, 0.4195922315120697, 0.8391844630241394, 0.7899745106697083, 0.0718158632516861, 0.1436317265033722, 0.6550625562667847, 0.9448196887969971, 0.7555990815162659, 0.14167483150959015, 0.09444988518953323, 0.6550625562667847, 0.7771849632263184, 0.20149239897727966, 0.4388381540775299, 0.4388381540775299, 0.9433016777038574, 0.6484490036964417, 0.8339703679084778, 0.039712876081466675, 0.07942575216293335, 0.07942575216293335, 0.6550625562667847, 0.42728543281555176, 0.8545708656311035, 0.7321192026138306, 0.3660596013069153, 0.4388381540775299, 0.4388381540775299, 0.3774276077747345, 0.754855215549469, 0.6052795052528381, 0.30263975262641907, 0.4196763336658478, 0.279784232378006, 0.279784232378006, 0.7762712836265564, 0.04085638374090195, 0.20428192615509033, 1.0063035488128662, 0.4388381540775299, 0.2931992709636688, 0.5863985419273376, 0.4388381540775299, 0.831156849861145, 0.18470151722431183, 0.31802716851234436, 0.6360543370246887, 0.4388381540775299, 0.4388381540775299, 0.8927044868469238, 0.037196021527051926, 0.07439204305410385, 1.003393292427063, 0.2430015206336975, 0.2430015206336975, 0.7290045619010925, 0.32242125272750854, 0.6448425054550171, 0.9760326147079468, 0.04436511918902397, 0.3891579508781433, 0.7783159017562866, 0.318158894777298, 0.636317789554596, 0.9192320704460144, 0.951778769493103, 0.07931489497423172, 0.6550625562667847, 0.5970805287361145, 0.31638410687446594, 0.6327682137489319, 0.4388381540775299, 0.4388381540775299, 0.690272331237793, 0.3451361656188965, 0.4284787178039551, 0.8569574356079102, 1.0064268112182617, 0.3193577229976654, 0.6387154459953308, 0.4388381540775299, 0.820483922958374, 0.16409678757190704, 0.6550625562667847, 0.77983158826828, 0.31193265318870544, 0.6982375383377075, 0.23274584114551544, 0.30782654881477356, 0.30782654881477356, 0.6156530976295471, 0.9540945291519165, 0.8691904544830322, 0.08278004825115204, 0.08278004825115204, 0.5970591902732849, 0.3050152361392975, 0.610030472278595, 0.9294777512550354, 0.037937868386507034, 0.037937868386507034, 0.9591830372810364, 0.01453307643532753, 0.02906615287065506, 0.31570953130722046, 0.6314190626144409, 0.18307600915431976, 0.91538006067276, 0.4388381540775299, 0.4388381540775299, 0.5944258570671082, 0.5944258570671082, 0.5965096354484558, 0.5226874947547913, 0.26134374737739563, 0.5226874947547913, 0.5679961442947388, 0.3786641061306, 0.9435661435127258, 0.9232481718063354, 0.843580961227417, 0.0843580961227417, 0.04217904806137085, 0.3372175991535187, 0.3372175991535187, 0.6744351983070374, 0.5946728587150574, 0.5946728587150574, 0.9779106974601746, 0.592220664024353, 0.592220664024353, 0.59620600938797, 0.595526397228241, 0.595526397228241, 0.7116690874099731, 0.28466764092445374, 0.929404616355896, 0.061960309743881226, 0.4318567216396332, 0.8637134432792664, 0.9963632822036743, 0.2638648450374603, 0.7915945053100586, 0.9970953464508057, 1.0050140619277954, 0.4131776988506317, 0.13772590458393097, 0.4131776988506317, 1.0037339925765991, 0.954811692237854, 0.6112646460533142, 0.08732351660728455, 0.1746470332145691, 0.08732351660728455, 0.432721346616745, 0.86544269323349, 0.8734212517738342, 0.10275544226169586, 0.5953496694564819, 0.5953496694564819], \"Term\": [\"accommodate\", \"accommodate\", \"addition\", \"advise\", \"always\", \"amazingly\", \"amazingly\", \"area\", \"arrange\", \"arrange\", \"arrive\", \"arrive\", \"arrive\", \"assist\", \"assist\", \"aware\", \"baclony\", \"balcony\", \"balcony\", \"balcony\", \"base\", \"basic\", \"basic\", \"bathroom\", \"bathroom\", \"bathroom\", \"beautiful\", \"beautiful\", \"bed\", \"bed\", \"bed\", \"begin\", \"behalf\", \"big\", \"bit\", \"bit\", \"book\", \"book\", \"bottled\", \"breakfast\", \"breakfast\", \"breakfast\", \"budget\", \"budget\", \"bus\", \"business\", \"buy\", \"buy\", \"call\", \"call\", \"canopy\", \"carry\", \"case\", \"case\", \"centre\", \"cereal\", \"cereal\", \"channel\", \"channel\", \"charge\", \"charge\", \"cheese\", \"cheese\", \"cheese\", \"city\", \"clean\", \"clean\", \"clean\", \"clean\", \"close\", \"close\", \"cochrache\", \"cochrache\", \"coffee\", \"coffee\", \"comfort\", \"comfort\", \"comfortable\", \"complain\", \"complain\", \"converse\", \"course\", \"course\", \"day\", \"decent\", \"decent\", \"description\", \"dirty\", \"dirty\", \"dot\", \"drinking\", \"drive\", \"drive\", \"due\", \"due\", \"early\", \"early\", \"egg\", \"egg\", \"egg\", \"else\", \"else\", \"enough\", \"enter\", \"enter\", \"entity\", \"especially\", \"especially\", \"euros\", \"euros\", \"even\", \"even\", \"face\", \"face\", \"feel\", \"feel\", \"feel\", \"find\", \"find\", \"flight\", \"floor\", \"floor\", \"fresh\", \"fresh\", \"fresh\", \"friendly\", \"friendly\", \"fully\", \"furniture\", \"furniture\", \"generally\", \"generally\", \"get\", \"get\", \"get\", \"give\", \"give\", \"give\", \"give\", \"go\", \"go\", \"great\", \"great\", \"greek\", \"greek\", \"handle\", \"handle\", \"help\", \"helpful\", \"helpful\", \"homely\", \"hot\", \"incl\", \"incl\", \"inexpensive\", \"last\", \"last\", \"late\", \"late\", \"least\", \"least\", \"leave\", \"leave\", \"life\", \"linen\", \"little\", \"little\", \"locate\", \"location\", \"location\", \"look\", \"look\", \"love\", \"love\", \"love\", \"lovely\", \"lovely\", \"major\", \"major\", \"make\", \"make\", \"make\", \"manage\", \"manage\", \"manager\", \"market\", \"maximum\", \"maximum\", \"minute\", \"money\", \"money\", \"money\", \"mostly\", \"mostly\", \"much\", \"much\", \"much\", \"muggy\", \"music\", \"need\", \"need\", \"need\", \"newly\", \"night\", \"night\", \"noon\", \"oblige\", \"offer\", \"office\", \"old\", \"old\", \"old\", \"old\", \"online\", \"option\", \"option\", \"order\", \"order\", \"organiser\", \"organization\", \"particularly\", \"particularly\", \"pay\", \"pay\", \"people\", \"people\", \"people\", \"place\", \"place\", \"place\", \"pleasant\", \"pre\", \"prepare\", \"prepare\", \"prepared\", \"price\", \"price\", \"probably\", \"probably\", \"prospective\", \"quantity\", \"quiet\", \"quiet\", \"quiet\", \"quite\", \"rate\", \"rate\", \"rate\", \"read\", \"read\", \"really\", \"really\", \"reason\", \"reason\", \"receive\", \"receive\", \"reception\", \"recommend\", \"recommend\", \"renovate\", \"repair\", \"reservation\", \"reservation\", \"salad\", \"sandwich\", \"say\", \"say\", \"scramble\", \"scramble\", \"see\", \"seem\", \"seem\", \"separately\", \"service\", \"service\", \"shape\", \"shower\", \"shower\", \"simple\", \"simple\", \"sit\", \"sit\", \"sit\", \"situate\", \"small\", \"small\", \"small\", \"smoke\", \"spend\", \"spend\", \"staff\", \"staff\", \"staff\", \"stay\", \"stay\", \"stay\", \"street\", \"street\", \"suite\", \"suite\", \"sunnyside\", \"supply\", \"svetlana\", \"svetlana\", \"table\", \"take\", \"take\", \"take\", \"tell\", \"tell\", \"thank\", \"thing\", \"time\", \"time\", \"time\", \"tiny\", \"tiny\", \"tiny\", \"tired\", \"tired\", \"town\", \"traffic\", \"traffic\", \"training\", \"treasure\", \"treasure\", \"use\", \"use\", \"value\", \"value\", \"view\", \"view\", \"visit\", \"visitor\", \"visitor\", \"walk\", \"warm\", \"water\", \"water\", \"water\", \"way\", \"welcome\", \"well\", \"well\", \"well\", \"well\", \"whole\", \"whole\", \"work\", \"work\", \"year\", \"year\"]}, \"R\": 30, \"lambda.step\": 0.01, \"plot.opts\": {\"xlab\": \"PC1\", \"ylab\": \"PC2\"}, \"topic.order\": [2, 1, 4, 3]};\n",
       "\n",
       "function LDAvis_load_lib(url, callback){\n",
       "  var s = document.createElement('script');\n",
       "  s.src = url;\n",
       "  s.async = true;\n",
       "  s.onreadystatechange = s.onload = callback;\n",
       "  s.onerror = function(){console.warn(\"failed to load library \" + url);};\n",
       "  document.getElementsByTagName(\"head\")[0].appendChild(s);\n",
       "}\n",
       "\n",
       "if(typeof(LDAvis) !== \"undefined\"){\n",
       "   // already loaded: just create the visualization\n",
       "   !function(LDAvis){\n",
       "       new LDAvis(\"#\" + \"ldavis_el212422546567095763709811914\", ldavis_el212422546567095763709811914_data);\n",
       "   }(LDAvis);\n",
       "}else if(typeof define === \"function\" && define.amd){\n",
       "   // require.js is available: use it to load d3/LDAvis\n",
       "   require.config({paths: {d3: \"https://cdnjs.cloudflare.com/ajax/libs/d3/3.5.5/d3.min\"}});\n",
       "   require([\"d3\"], function(d3){\n",
       "      window.d3 = d3;\n",
       "      LDAvis_load_lib(\"https://cdn.rawgit.com/bmabey/pyLDAvis/files/ldavis.v1.0.0.js\", function(){\n",
       "        new LDAvis(\"#\" + \"ldavis_el212422546567095763709811914\", ldavis_el212422546567095763709811914_data);\n",
       "      });\n",
       "    });\n",
       "}else{\n",
       "    // require.js not available: dynamically load d3 & LDAvis\n",
       "    LDAvis_load_lib(\"https://cdnjs.cloudflare.com/ajax/libs/d3/3.5.5/d3.min.js\", function(){\n",
       "         LDAvis_load_lib(\"https://cdn.rawgit.com/bmabey/pyLDAvis/files/ldavis.v1.0.0.js\", function(){\n",
       "                 new LDAvis(\"#\" + \"ldavis_el212422546567095763709811914\", ldavis_el212422546567095763709811914_data);\n",
       "            })\n",
       "         });\n",
       "}\n",
       "</script>"
      ],
      "text/plain": [
       "PreparedData(topic_coordinates=              x         y  topics  cluster       Freq\n",
       "topic                                                \n",
       "1      0.160688  0.002993       1        1  77.657181\n",
       "0      0.141498 -0.111608       2        1  14.685768\n",
       "3     -0.254689 -0.182125       3        1   4.043563\n",
       "2     -0.047497  0.290740       4        1   3.613491, topic_info=          Term       Freq      Total Category  logprob  loglift\n",
       "38       night  34.000000  34.000000  Default  30.0000  30.0000\n",
       "53       place  24.000000  24.000000  Default  29.0000  29.0000\n",
       "47       clean  56.000000  56.000000  Default  28.0000  28.0000\n",
       "2    breakfast  43.000000  43.000000  Default  27.0000  27.0000\n",
       "54       quiet  26.000000  26.000000  Default  26.0000  26.0000\n",
       "..         ...        ...        ...      ...      ...      ...\n",
       "54       quiet   2.362791  26.884596   Topic4  -4.0770   0.8888\n",
       "59         bed   2.340536  12.904493   Topic4  -4.0865   1.6133\n",
       "47       clean   2.356417  56.449974   Topic4  -4.0797   0.1443\n",
       "2    breakfast   2.342945  43.585701   Topic4  -4.0855   0.3972\n",
       "163      close   2.319688  12.682282   Topic4  -4.0955   1.6217\n",
       "\n",
       "[245 rows x 6 columns], token_table=      Topic      Freq         Term\n",
       "term                              \n",
       "21        1  0.465819  accommodate\n",
       "21        2  0.931639  accommodate\n",
       "1100      3  0.438838     addition\n",
       "1101      3  0.438838       advise\n",
       "485       1  0.982297       always\n",
       "...     ...       ...          ...\n",
       "812       3  0.865443        whole\n",
       "44        1  0.873421         work\n",
       "44        4  0.102755         work\n",
       "570       1  0.595350         year\n",
       "570       2  0.595350         year\n",
       "\n",
       "[352 rows x 3 columns], R=30, lambda_step=0.01, plot_opts={'xlab': 'PC1', 'ylab': 'PC2'}, topic_order=[2, 1, 4, 3])"
      ]
     },
     "metadata": {},
     "output_type": "display_data"
    }
   ],
   "source": [
    "plot_model(lda_pos_custom, plot ='topic_model')"
   ]
  },
  {
   "cell_type": "markdown",
   "metadata": {},
   "source": [
    "## Tuning the model using Coherence Value"
   ]
  },
  {
   "cell_type": "code",
   "execution_count": 10,
   "metadata": {},
   "outputs": [
    {
     "data": {
      "application/vnd.jupyter.widget-view+json": {
       "model_id": "",
       "version_major": 2,
       "version_minor": 0
      },
      "text/plain": [
       "IntProgress(value=0, description='Processing: ', max=25)"
      ]
     },
     "metadata": {},
     "output_type": "display_data"
    },
    {
     "data": {
      "application/vnd.jupyter.widget-view+json": {
       "model_id": "ba629a8f30ca4c0d9bd3d2aaffc258b4",
       "version_major": 2,
       "version_minor": 0
      },
      "text/plain": [
       "Output()"
      ]
     },
     "metadata": {},
     "output_type": "display_data"
    },
    {
     "data": {
      "text/html": [
       "        <script type=\"text/javascript\">\n",
       "        window.PlotlyConfig = {MathJaxConfig: 'local'};\n",
       "        if (window.MathJax) {MathJax.Hub.Config({SVG: {font: \"STIX-Web\"}});}\n",
       "        if (typeof require !== 'undefined') {\n",
       "        require.undef(\"plotly\");\n",
       "        requirejs.config({\n",
       "            paths: {\n",
       "                'plotly': ['https://cdn.plot.ly/plotly-latest.min']\n",
       "            }\n",
       "        });\n",
       "        require(['plotly'], function(Plotly) {\n",
       "            window._Plotly = Plotly;\n",
       "        });\n",
       "        }\n",
       "        </script>\n",
       "        "
      ]
     },
     "metadata": {},
     "output_type": "display_data"
    },
    {
     "data": {
      "application/vnd.plotly.v1+json": {
       "config": {
        "plotlyServerURL": "https://plot.ly"
       },
       "data": [
        {
         "hovertemplate": "Metric=Coherence<br># Topics=%{x}<br>Score=%{y}<extra></extra>",
         "legendgroup": "Coherence",
         "line": {
          "color": "#636efa",
          "dash": "solid",
          "shape": "linear"
         },
         "mode": "lines",
         "name": "Coherence",
         "orientation": "v",
         "showlegend": true,
         "type": "scatter",
         "x": [
          2,
          4,
          8,
          16,
          32,
          64,
          100,
          200,
          300,
          400
         ],
         "xaxis": "x",
         "y": [
          0.5389330913730388,
          0.5105393395905153,
          0.5290921625683052,
          0.44541197717243963,
          0.49283594513115725,
          0.5930526614171577,
          0.6080381464664671,
          0.653957760942289,
          0.6669387587394653,
          0.6565381064203137
         ],
         "yaxis": "y"
        }
       ],
       "layout": {
        "legend": {
         "title": {
          "text": "Metric"
         },
         "tracegroupgap": 0
        },
        "plot_bgcolor": "rgb(245,245,245)",
        "template": {
         "data": {
          "bar": [
           {
            "error_x": {
             "color": "#2a3f5f"
            },
            "error_y": {
             "color": "#2a3f5f"
            },
            "marker": {
             "line": {
              "color": "#E5ECF6",
              "width": 0.5
             }
            },
            "type": "bar"
           }
          ],
          "barpolar": [
           {
            "marker": {
             "line": {
              "color": "#E5ECF6",
              "width": 0.5
             }
            },
            "type": "barpolar"
           }
          ],
          "carpet": [
           {
            "aaxis": {
             "endlinecolor": "#2a3f5f",
             "gridcolor": "white",
             "linecolor": "white",
             "minorgridcolor": "white",
             "startlinecolor": "#2a3f5f"
            },
            "baxis": {
             "endlinecolor": "#2a3f5f",
             "gridcolor": "white",
             "linecolor": "white",
             "minorgridcolor": "white",
             "startlinecolor": "#2a3f5f"
            },
            "type": "carpet"
           }
          ],
          "choropleth": [
           {
            "colorbar": {
             "outlinewidth": 0,
             "ticks": ""
            },
            "type": "choropleth"
           }
          ],
          "contour": [
           {
            "colorbar": {
             "outlinewidth": 0,
             "ticks": ""
            },
            "colorscale": [
             [
              0,
              "#0d0887"
             ],
             [
              0.1111111111111111,
              "#46039f"
             ],
             [
              0.2222222222222222,
              "#7201a8"
             ],
             [
              0.3333333333333333,
              "#9c179e"
             ],
             [
              0.4444444444444444,
              "#bd3786"
             ],
             [
              0.5555555555555556,
              "#d8576b"
             ],
             [
              0.6666666666666666,
              "#ed7953"
             ],
             [
              0.7777777777777778,
              "#fb9f3a"
             ],
             [
              0.8888888888888888,
              "#fdca26"
             ],
             [
              1,
              "#f0f921"
             ]
            ],
            "type": "contour"
           }
          ],
          "contourcarpet": [
           {
            "colorbar": {
             "outlinewidth": 0,
             "ticks": ""
            },
            "type": "contourcarpet"
           }
          ],
          "heatmap": [
           {
            "colorbar": {
             "outlinewidth": 0,
             "ticks": ""
            },
            "colorscale": [
             [
              0,
              "#0d0887"
             ],
             [
              0.1111111111111111,
              "#46039f"
             ],
             [
              0.2222222222222222,
              "#7201a8"
             ],
             [
              0.3333333333333333,
              "#9c179e"
             ],
             [
              0.4444444444444444,
              "#bd3786"
             ],
             [
              0.5555555555555556,
              "#d8576b"
             ],
             [
              0.6666666666666666,
              "#ed7953"
             ],
             [
              0.7777777777777778,
              "#fb9f3a"
             ],
             [
              0.8888888888888888,
              "#fdca26"
             ],
             [
              1,
              "#f0f921"
             ]
            ],
            "type": "heatmap"
           }
          ],
          "heatmapgl": [
           {
            "colorbar": {
             "outlinewidth": 0,
             "ticks": ""
            },
            "colorscale": [
             [
              0,
              "#0d0887"
             ],
             [
              0.1111111111111111,
              "#46039f"
             ],
             [
              0.2222222222222222,
              "#7201a8"
             ],
             [
              0.3333333333333333,
              "#9c179e"
             ],
             [
              0.4444444444444444,
              "#bd3786"
             ],
             [
              0.5555555555555556,
              "#d8576b"
             ],
             [
              0.6666666666666666,
              "#ed7953"
             ],
             [
              0.7777777777777778,
              "#fb9f3a"
             ],
             [
              0.8888888888888888,
              "#fdca26"
             ],
             [
              1,
              "#f0f921"
             ]
            ],
            "type": "heatmapgl"
           }
          ],
          "histogram": [
           {
            "marker": {
             "colorbar": {
              "outlinewidth": 0,
              "ticks": ""
             }
            },
            "type": "histogram"
           }
          ],
          "histogram2d": [
           {
            "colorbar": {
             "outlinewidth": 0,
             "ticks": ""
            },
            "colorscale": [
             [
              0,
              "#0d0887"
             ],
             [
              0.1111111111111111,
              "#46039f"
             ],
             [
              0.2222222222222222,
              "#7201a8"
             ],
             [
              0.3333333333333333,
              "#9c179e"
             ],
             [
              0.4444444444444444,
              "#bd3786"
             ],
             [
              0.5555555555555556,
              "#d8576b"
             ],
             [
              0.6666666666666666,
              "#ed7953"
             ],
             [
              0.7777777777777778,
              "#fb9f3a"
             ],
             [
              0.8888888888888888,
              "#fdca26"
             ],
             [
              1,
              "#f0f921"
             ]
            ],
            "type": "histogram2d"
           }
          ],
          "histogram2dcontour": [
           {
            "colorbar": {
             "outlinewidth": 0,
             "ticks": ""
            },
            "colorscale": [
             [
              0,
              "#0d0887"
             ],
             [
              0.1111111111111111,
              "#46039f"
             ],
             [
              0.2222222222222222,
              "#7201a8"
             ],
             [
              0.3333333333333333,
              "#9c179e"
             ],
             [
              0.4444444444444444,
              "#bd3786"
             ],
             [
              0.5555555555555556,
              "#d8576b"
             ],
             [
              0.6666666666666666,
              "#ed7953"
             ],
             [
              0.7777777777777778,
              "#fb9f3a"
             ],
             [
              0.8888888888888888,
              "#fdca26"
             ],
             [
              1,
              "#f0f921"
             ]
            ],
            "type": "histogram2dcontour"
           }
          ],
          "mesh3d": [
           {
            "colorbar": {
             "outlinewidth": 0,
             "ticks": ""
            },
            "type": "mesh3d"
           }
          ],
          "parcoords": [
           {
            "line": {
             "colorbar": {
              "outlinewidth": 0,
              "ticks": ""
             }
            },
            "type": "parcoords"
           }
          ],
          "pie": [
           {
            "automargin": true,
            "type": "pie"
           }
          ],
          "scatter": [
           {
            "marker": {
             "colorbar": {
              "outlinewidth": 0,
              "ticks": ""
             }
            },
            "type": "scatter"
           }
          ],
          "scatter3d": [
           {
            "line": {
             "colorbar": {
              "outlinewidth": 0,
              "ticks": ""
             }
            },
            "marker": {
             "colorbar": {
              "outlinewidth": 0,
              "ticks": ""
             }
            },
            "type": "scatter3d"
           }
          ],
          "scattercarpet": [
           {
            "marker": {
             "colorbar": {
              "outlinewidth": 0,
              "ticks": ""
             }
            },
            "type": "scattercarpet"
           }
          ],
          "scattergeo": [
           {
            "marker": {
             "colorbar": {
              "outlinewidth": 0,
              "ticks": ""
             }
            },
            "type": "scattergeo"
           }
          ],
          "scattergl": [
           {
            "marker": {
             "colorbar": {
              "outlinewidth": 0,
              "ticks": ""
             }
            },
            "type": "scattergl"
           }
          ],
          "scattermapbox": [
           {
            "marker": {
             "colorbar": {
              "outlinewidth": 0,
              "ticks": ""
             }
            },
            "type": "scattermapbox"
           }
          ],
          "scatterpolar": [
           {
            "marker": {
             "colorbar": {
              "outlinewidth": 0,
              "ticks": ""
             }
            },
            "type": "scatterpolar"
           }
          ],
          "scatterpolargl": [
           {
            "marker": {
             "colorbar": {
              "outlinewidth": 0,
              "ticks": ""
             }
            },
            "type": "scatterpolargl"
           }
          ],
          "scatterternary": [
           {
            "marker": {
             "colorbar": {
              "outlinewidth": 0,
              "ticks": ""
             }
            },
            "type": "scatterternary"
           }
          ],
          "surface": [
           {
            "colorbar": {
             "outlinewidth": 0,
             "ticks": ""
            },
            "colorscale": [
             [
              0,
              "#0d0887"
             ],
             [
              0.1111111111111111,
              "#46039f"
             ],
             [
              0.2222222222222222,
              "#7201a8"
             ],
             [
              0.3333333333333333,
              "#9c179e"
             ],
             [
              0.4444444444444444,
              "#bd3786"
             ],
             [
              0.5555555555555556,
              "#d8576b"
             ],
             [
              0.6666666666666666,
              "#ed7953"
             ],
             [
              0.7777777777777778,
              "#fb9f3a"
             ],
             [
              0.8888888888888888,
              "#fdca26"
             ],
             [
              1,
              "#f0f921"
             ]
            ],
            "type": "surface"
           }
          ],
          "table": [
           {
            "cells": {
             "fill": {
              "color": "#EBF0F8"
             },
             "line": {
              "color": "white"
             }
            },
            "header": {
             "fill": {
              "color": "#C8D4E3"
             },
             "line": {
              "color": "white"
             }
            },
            "type": "table"
           }
          ]
         },
         "layout": {
          "annotationdefaults": {
           "arrowcolor": "#2a3f5f",
           "arrowhead": 0,
           "arrowwidth": 1
          },
          "coloraxis": {
           "colorbar": {
            "outlinewidth": 0,
            "ticks": ""
           }
          },
          "colorscale": {
           "diverging": [
            [
             0,
             "#8e0152"
            ],
            [
             0.1,
             "#c51b7d"
            ],
            [
             0.2,
             "#de77ae"
            ],
            [
             0.3,
             "#f1b6da"
            ],
            [
             0.4,
             "#fde0ef"
            ],
            [
             0.5,
             "#f7f7f7"
            ],
            [
             0.6,
             "#e6f5d0"
            ],
            [
             0.7,
             "#b8e186"
            ],
            [
             0.8,
             "#7fbc41"
            ],
            [
             0.9,
             "#4d9221"
            ],
            [
             1,
             "#276419"
            ]
           ],
           "sequential": [
            [
             0,
             "#0d0887"
            ],
            [
             0.1111111111111111,
             "#46039f"
            ],
            [
             0.2222222222222222,
             "#7201a8"
            ],
            [
             0.3333333333333333,
             "#9c179e"
            ],
            [
             0.4444444444444444,
             "#bd3786"
            ],
            [
             0.5555555555555556,
             "#d8576b"
            ],
            [
             0.6666666666666666,
             "#ed7953"
            ],
            [
             0.7777777777777778,
             "#fb9f3a"
            ],
            [
             0.8888888888888888,
             "#fdca26"
            ],
            [
             1,
             "#f0f921"
            ]
           ],
           "sequentialminus": [
            [
             0,
             "#0d0887"
            ],
            [
             0.1111111111111111,
             "#46039f"
            ],
            [
             0.2222222222222222,
             "#7201a8"
            ],
            [
             0.3333333333333333,
             "#9c179e"
            ],
            [
             0.4444444444444444,
             "#bd3786"
            ],
            [
             0.5555555555555556,
             "#d8576b"
            ],
            [
             0.6666666666666666,
             "#ed7953"
            ],
            [
             0.7777777777777778,
             "#fb9f3a"
            ],
            [
             0.8888888888888888,
             "#fdca26"
            ],
            [
             1,
             "#f0f921"
            ]
           ]
          },
          "colorway": [
           "#636efa",
           "#EF553B",
           "#00cc96",
           "#ab63fa",
           "#FFA15A",
           "#19d3f3",
           "#FF6692",
           "#B6E880",
           "#FF97FF",
           "#FECB52"
          ],
          "font": {
           "color": "#2a3f5f"
          },
          "geo": {
           "bgcolor": "white",
           "lakecolor": "white",
           "landcolor": "#E5ECF6",
           "showlakes": true,
           "showland": true,
           "subunitcolor": "white"
          },
          "hoverlabel": {
           "align": "left"
          },
          "hovermode": "closest",
          "mapbox": {
           "style": "light"
          },
          "paper_bgcolor": "white",
          "plot_bgcolor": "#E5ECF6",
          "polar": {
           "angularaxis": {
            "gridcolor": "white",
            "linecolor": "white",
            "ticks": ""
           },
           "bgcolor": "#E5ECF6",
           "radialaxis": {
            "gridcolor": "white",
            "linecolor": "white",
            "ticks": ""
           }
          },
          "scene": {
           "xaxis": {
            "backgroundcolor": "#E5ECF6",
            "gridcolor": "white",
            "gridwidth": 2,
            "linecolor": "white",
            "showbackground": true,
            "ticks": "",
            "zerolinecolor": "white"
           },
           "yaxis": {
            "backgroundcolor": "#E5ECF6",
            "gridcolor": "white",
            "gridwidth": 2,
            "linecolor": "white",
            "showbackground": true,
            "ticks": "",
            "zerolinecolor": "white"
           },
           "zaxis": {
            "backgroundcolor": "#E5ECF6",
            "gridcolor": "white",
            "gridwidth": 2,
            "linecolor": "white",
            "showbackground": true,
            "ticks": "",
            "zerolinecolor": "white"
           }
          },
          "shapedefaults": {
           "line": {
            "color": "#2a3f5f"
           }
          },
          "ternary": {
           "aaxis": {
            "gridcolor": "white",
            "linecolor": "white",
            "ticks": ""
           },
           "baxis": {
            "gridcolor": "white",
            "linecolor": "white",
            "ticks": ""
           },
           "bgcolor": "#E5ECF6",
           "caxis": {
            "gridcolor": "white",
            "linecolor": "white",
            "ticks": ""
           }
          },
          "title": {
           "x": 0.05
          },
          "xaxis": {
           "automargin": true,
           "gridcolor": "white",
           "linecolor": "white",
           "ticks": "",
           "title": {
            "standoff": 15
           },
           "zerolinecolor": "white",
           "zerolinewidth": 2
          },
          "yaxis": {
           "automargin": true,
           "gridcolor": "white",
           "linecolor": "white",
           "ticks": "",
           "title": {
            "standoff": 15
           },
           "zerolinecolor": "white",
           "zerolinewidth": 2
          }
         }
        },
        "title": {
         "text": "Coherence Value and # of Topics"
        },
        "xaxis": {
         "anchor": "y",
         "domain": [
          0,
          1
         ],
         "title": {
          "text": "# Topics"
         }
        },
        "yaxis": {
         "anchor": "x",
         "domain": [
          0,
          1
         ],
         "title": {
          "text": "Score"
         }
        }
       }
      },
      "text/html": [
       "<div>\n",
       "        \n",
       "        \n",
       "            <div id=\"1cbddc1a-d493-4f50-b3b4-e899a49c911b\" class=\"plotly-graph-div\" style=\"height:525px; width:100%;\"></div>\n",
       "            <script type=\"text/javascript\">\n",
       "                require([\"plotly\"], function(Plotly) {\n",
       "                    window.PLOTLYENV=window.PLOTLYENV || {};\n",
       "                    \n",
       "                if (document.getElementById(\"1cbddc1a-d493-4f50-b3b4-e899a49c911b\")) {\n",
       "                    Plotly.newPlot(\n",
       "                        '1cbddc1a-d493-4f50-b3b4-e899a49c911b',\n",
       "                        [{\"hovertemplate\": \"Metric=Coherence<br># Topics=%{x}<br>Score=%{y}<extra></extra>\", \"legendgroup\": \"Coherence\", \"line\": {\"color\": \"#636efa\", \"dash\": \"solid\", \"shape\": \"linear\"}, \"mode\": \"lines\", \"name\": \"Coherence\", \"orientation\": \"v\", \"showlegend\": true, \"type\": \"scatter\", \"x\": [2, 4, 8, 16, 32, 64, 100, 200, 300, 400], \"xaxis\": \"x\", \"y\": [0.5389330913730388, 0.5105393395905153, 0.5290921625683052, 0.44541197717243963, 0.49283594513115725, 0.5930526614171577, 0.6080381464664671, 0.653957760942289, 0.6669387587394653, 0.6565381064203137], \"yaxis\": \"y\"}],\n",
       "                        {\"legend\": {\"title\": {\"text\": \"Metric\"}, \"tracegroupgap\": 0}, \"plot_bgcolor\": \"rgb(245,245,245)\", \"template\": {\"data\": {\"bar\": [{\"error_x\": {\"color\": \"#2a3f5f\"}, \"error_y\": {\"color\": \"#2a3f5f\"}, \"marker\": {\"line\": {\"color\": \"#E5ECF6\", \"width\": 0.5}}, \"type\": \"bar\"}], \"barpolar\": [{\"marker\": {\"line\": {\"color\": \"#E5ECF6\", \"width\": 0.5}}, \"type\": \"barpolar\"}], \"carpet\": [{\"aaxis\": {\"endlinecolor\": \"#2a3f5f\", \"gridcolor\": \"white\", \"linecolor\": \"white\", \"minorgridcolor\": \"white\", \"startlinecolor\": \"#2a3f5f\"}, \"baxis\": {\"endlinecolor\": \"#2a3f5f\", \"gridcolor\": \"white\", \"linecolor\": \"white\", \"minorgridcolor\": \"white\", \"startlinecolor\": \"#2a3f5f\"}, \"type\": \"carpet\"}], \"choropleth\": [{\"colorbar\": {\"outlinewidth\": 0, \"ticks\": \"\"}, \"type\": \"choropleth\"}], \"contour\": [{\"colorbar\": {\"outlinewidth\": 0, \"ticks\": \"\"}, \"colorscale\": [[0.0, \"#0d0887\"], [0.1111111111111111, \"#46039f\"], [0.2222222222222222, \"#7201a8\"], [0.3333333333333333, \"#9c179e\"], [0.4444444444444444, \"#bd3786\"], [0.5555555555555556, \"#d8576b\"], [0.6666666666666666, \"#ed7953\"], [0.7777777777777778, \"#fb9f3a\"], [0.8888888888888888, \"#fdca26\"], [1.0, \"#f0f921\"]], \"type\": \"contour\"}], \"contourcarpet\": [{\"colorbar\": {\"outlinewidth\": 0, \"ticks\": \"\"}, \"type\": \"contourcarpet\"}], \"heatmap\": [{\"colorbar\": {\"outlinewidth\": 0, \"ticks\": \"\"}, \"colorscale\": [[0.0, \"#0d0887\"], [0.1111111111111111, \"#46039f\"], [0.2222222222222222, \"#7201a8\"], [0.3333333333333333, \"#9c179e\"], [0.4444444444444444, \"#bd3786\"], [0.5555555555555556, \"#d8576b\"], [0.6666666666666666, \"#ed7953\"], [0.7777777777777778, \"#fb9f3a\"], [0.8888888888888888, \"#fdca26\"], [1.0, \"#f0f921\"]], \"type\": \"heatmap\"}], \"heatmapgl\": [{\"colorbar\": {\"outlinewidth\": 0, \"ticks\": \"\"}, \"colorscale\": [[0.0, \"#0d0887\"], [0.1111111111111111, \"#46039f\"], [0.2222222222222222, \"#7201a8\"], [0.3333333333333333, \"#9c179e\"], [0.4444444444444444, \"#bd3786\"], [0.5555555555555556, \"#d8576b\"], [0.6666666666666666, \"#ed7953\"], [0.7777777777777778, \"#fb9f3a\"], [0.8888888888888888, \"#fdca26\"], [1.0, \"#f0f921\"]], \"type\": \"heatmapgl\"}], \"histogram\": [{\"marker\": {\"colorbar\": {\"outlinewidth\": 0, \"ticks\": \"\"}}, \"type\": \"histogram\"}], \"histogram2d\": [{\"colorbar\": {\"outlinewidth\": 0, \"ticks\": \"\"}, \"colorscale\": [[0.0, \"#0d0887\"], [0.1111111111111111, \"#46039f\"], [0.2222222222222222, \"#7201a8\"], [0.3333333333333333, \"#9c179e\"], [0.4444444444444444, \"#bd3786\"], [0.5555555555555556, \"#d8576b\"], [0.6666666666666666, \"#ed7953\"], [0.7777777777777778, \"#fb9f3a\"], [0.8888888888888888, \"#fdca26\"], [1.0, \"#f0f921\"]], \"type\": \"histogram2d\"}], \"histogram2dcontour\": [{\"colorbar\": {\"outlinewidth\": 0, \"ticks\": \"\"}, \"colorscale\": [[0.0, \"#0d0887\"], [0.1111111111111111, \"#46039f\"], [0.2222222222222222, \"#7201a8\"], [0.3333333333333333, \"#9c179e\"], [0.4444444444444444, \"#bd3786\"], [0.5555555555555556, \"#d8576b\"], [0.6666666666666666, \"#ed7953\"], [0.7777777777777778, \"#fb9f3a\"], [0.8888888888888888, \"#fdca26\"], [1.0, \"#f0f921\"]], \"type\": \"histogram2dcontour\"}], \"mesh3d\": [{\"colorbar\": {\"outlinewidth\": 0, \"ticks\": \"\"}, \"type\": \"mesh3d\"}], \"parcoords\": [{\"line\": {\"colorbar\": {\"outlinewidth\": 0, \"ticks\": \"\"}}, \"type\": \"parcoords\"}], \"pie\": [{\"automargin\": true, \"type\": \"pie\"}], \"scatter\": [{\"marker\": {\"colorbar\": {\"outlinewidth\": 0, \"ticks\": \"\"}}, \"type\": \"scatter\"}], \"scatter3d\": [{\"line\": {\"colorbar\": {\"outlinewidth\": 0, \"ticks\": \"\"}}, \"marker\": {\"colorbar\": {\"outlinewidth\": 0, \"ticks\": \"\"}}, \"type\": \"scatter3d\"}], \"scattercarpet\": [{\"marker\": {\"colorbar\": {\"outlinewidth\": 0, \"ticks\": \"\"}}, \"type\": \"scattercarpet\"}], \"scattergeo\": [{\"marker\": {\"colorbar\": {\"outlinewidth\": 0, \"ticks\": \"\"}}, \"type\": \"scattergeo\"}], \"scattergl\": [{\"marker\": {\"colorbar\": {\"outlinewidth\": 0, \"ticks\": \"\"}}, \"type\": \"scattergl\"}], \"scattermapbox\": [{\"marker\": {\"colorbar\": {\"outlinewidth\": 0, \"ticks\": \"\"}}, \"type\": \"scattermapbox\"}], \"scatterpolar\": [{\"marker\": {\"colorbar\": {\"outlinewidth\": 0, \"ticks\": \"\"}}, \"type\": \"scatterpolar\"}], \"scatterpolargl\": [{\"marker\": {\"colorbar\": {\"outlinewidth\": 0, \"ticks\": \"\"}}, \"type\": \"scatterpolargl\"}], \"scatterternary\": [{\"marker\": {\"colorbar\": {\"outlinewidth\": 0, \"ticks\": \"\"}}, \"type\": \"scatterternary\"}], \"surface\": [{\"colorbar\": {\"outlinewidth\": 0, \"ticks\": \"\"}, \"colorscale\": [[0.0, \"#0d0887\"], [0.1111111111111111, \"#46039f\"], [0.2222222222222222, \"#7201a8\"], [0.3333333333333333, \"#9c179e\"], [0.4444444444444444, \"#bd3786\"], [0.5555555555555556, \"#d8576b\"], [0.6666666666666666, \"#ed7953\"], [0.7777777777777778, \"#fb9f3a\"], [0.8888888888888888, \"#fdca26\"], [1.0, \"#f0f921\"]], \"type\": \"surface\"}], \"table\": [{\"cells\": {\"fill\": {\"color\": \"#EBF0F8\"}, \"line\": {\"color\": \"white\"}}, \"header\": {\"fill\": {\"color\": \"#C8D4E3\"}, \"line\": {\"color\": \"white\"}}, \"type\": \"table\"}]}, \"layout\": {\"annotationdefaults\": {\"arrowcolor\": \"#2a3f5f\", \"arrowhead\": 0, \"arrowwidth\": 1}, \"coloraxis\": {\"colorbar\": {\"outlinewidth\": 0, \"ticks\": \"\"}}, \"colorscale\": {\"diverging\": [[0, \"#8e0152\"], [0.1, \"#c51b7d\"], [0.2, \"#de77ae\"], [0.3, \"#f1b6da\"], [0.4, \"#fde0ef\"], [0.5, \"#f7f7f7\"], [0.6, \"#e6f5d0\"], [0.7, \"#b8e186\"], [0.8, \"#7fbc41\"], [0.9, \"#4d9221\"], [1, \"#276419\"]], \"sequential\": [[0.0, \"#0d0887\"], [0.1111111111111111, \"#46039f\"], [0.2222222222222222, \"#7201a8\"], [0.3333333333333333, \"#9c179e\"], [0.4444444444444444, \"#bd3786\"], [0.5555555555555556, \"#d8576b\"], [0.6666666666666666, \"#ed7953\"], [0.7777777777777778, \"#fb9f3a\"], [0.8888888888888888, \"#fdca26\"], [1.0, \"#f0f921\"]], \"sequentialminus\": [[0.0, \"#0d0887\"], [0.1111111111111111, \"#46039f\"], [0.2222222222222222, \"#7201a8\"], [0.3333333333333333, \"#9c179e\"], [0.4444444444444444, \"#bd3786\"], [0.5555555555555556, \"#d8576b\"], [0.6666666666666666, \"#ed7953\"], [0.7777777777777778, \"#fb9f3a\"], [0.8888888888888888, \"#fdca26\"], [1.0, \"#f0f921\"]]}, \"colorway\": [\"#636efa\", \"#EF553B\", \"#00cc96\", \"#ab63fa\", \"#FFA15A\", \"#19d3f3\", \"#FF6692\", \"#B6E880\", \"#FF97FF\", \"#FECB52\"], \"font\": {\"color\": \"#2a3f5f\"}, \"geo\": {\"bgcolor\": \"white\", \"lakecolor\": \"white\", \"landcolor\": \"#E5ECF6\", \"showlakes\": true, \"showland\": true, \"subunitcolor\": \"white\"}, \"hoverlabel\": {\"align\": \"left\"}, \"hovermode\": \"closest\", \"mapbox\": {\"style\": \"light\"}, \"paper_bgcolor\": \"white\", \"plot_bgcolor\": \"#E5ECF6\", \"polar\": {\"angularaxis\": {\"gridcolor\": \"white\", \"linecolor\": \"white\", \"ticks\": \"\"}, \"bgcolor\": \"#E5ECF6\", \"radialaxis\": {\"gridcolor\": \"white\", \"linecolor\": \"white\", \"ticks\": \"\"}}, \"scene\": {\"xaxis\": {\"backgroundcolor\": \"#E5ECF6\", \"gridcolor\": \"white\", \"gridwidth\": 2, \"linecolor\": \"white\", \"showbackground\": true, \"ticks\": \"\", \"zerolinecolor\": \"white\"}, \"yaxis\": {\"backgroundcolor\": \"#E5ECF6\", \"gridcolor\": \"white\", \"gridwidth\": 2, \"linecolor\": \"white\", \"showbackground\": true, \"ticks\": \"\", \"zerolinecolor\": \"white\"}, \"zaxis\": {\"backgroundcolor\": \"#E5ECF6\", \"gridcolor\": \"white\", \"gridwidth\": 2, \"linecolor\": \"white\", \"showbackground\": true, \"ticks\": \"\", \"zerolinecolor\": \"white\"}}, \"shapedefaults\": {\"line\": {\"color\": \"#2a3f5f\"}}, \"ternary\": {\"aaxis\": {\"gridcolor\": \"white\", \"linecolor\": \"white\", \"ticks\": \"\"}, \"baxis\": {\"gridcolor\": \"white\", \"linecolor\": \"white\", \"ticks\": \"\"}, \"bgcolor\": \"#E5ECF6\", \"caxis\": {\"gridcolor\": \"white\", \"linecolor\": \"white\", \"ticks\": \"\"}}, \"title\": {\"x\": 0.05}, \"xaxis\": {\"automargin\": true, \"gridcolor\": \"white\", \"linecolor\": \"white\", \"ticks\": \"\", \"title\": {\"standoff\": 15}, \"zerolinecolor\": \"white\", \"zerolinewidth\": 2}, \"yaxis\": {\"automargin\": true, \"gridcolor\": \"white\", \"linecolor\": \"white\", \"ticks\": \"\", \"title\": {\"standoff\": 15}, \"zerolinecolor\": \"white\", \"zerolinewidth\": 2}}}, \"title\": {\"text\": \"Coherence Value and # of Topics\"}, \"xaxis\": {\"anchor\": \"y\", \"domain\": [0.0, 1.0], \"title\": {\"text\": \"# Topics\"}}, \"yaxis\": {\"anchor\": \"x\", \"domain\": [0.0, 1.0], \"title\": {\"text\": \"Score\"}}},\n",
       "                        {\"responsive\": true}\n",
       "                    ).then(function(){\n",
       "                            \n",
       "var gd = document.getElementById('1cbddc1a-d493-4f50-b3b4-e899a49c911b');\n",
       "var x = new MutationObserver(function (mutations, observer) {{\n",
       "        var display = window.getComputedStyle(gd).display;\n",
       "        if (!display || display === 'none') {{\n",
       "            console.log([gd, 'removed!']);\n",
       "            Plotly.purge(gd);\n",
       "            observer.disconnect();\n",
       "        }}\n",
       "}});\n",
       "\n",
       "// Listen for the removal of the full notebook cells\n",
       "var notebookContainer = gd.closest('#notebook-container');\n",
       "if (notebookContainer) {{\n",
       "    x.observe(notebookContainer, {childList: true});\n",
       "}}\n",
       "\n",
       "// Listen for the clearing of the current output cell\n",
       "var outputEl = gd.closest('.output');\n",
       "if (outputEl) {{\n",
       "    x.observe(outputEl, {childList: true});\n",
       "}}\n",
       "\n",
       "                        })\n",
       "                };\n",
       "                });\n",
       "            </script>\n",
       "        </div>"
      ]
     },
     "metadata": {},
     "output_type": "display_data"
    },
    {
     "name": "stdout",
     "output_type": "stream",
     "text": [
      "Best Model: Latent Dirichlet Allocation | # Topics: 300 | Coherence: 0.6669\n"
     ]
    }
   ],
   "source": [
    "tune_lda_positive = tune_model(model='lda', supervised_target=None, estimator='xgboost')"
   ]
  },
  {
   "cell_type": "markdown",
   "metadata": {},
   "source": [
    "8 topics is chosen because 300 might be too much"
   ]
  },
  {
   "cell_type": "code",
   "execution_count": 11,
   "metadata": {},
   "outputs": [
    {
     "name": "stdout",
     "output_type": "stream",
     "text": [
      "LdaModel(num_terms=1136, num_topics=8, decay=0.5, chunksize=100)\n"
     ]
    }
   ],
   "source": [
    "#create an LDA model\n",
    "tuned_pos_8 = create_model('lda', num_topics = 8)\n",
    "print(tuned_pos_8)"
   ]
  },
  {
   "cell_type": "code",
   "execution_count": 12,
   "metadata": {},
   "outputs": [],
   "source": [
    "apply_tuned_pos = assign_model(tuned_pos_8)"
   ]
  },
  {
   "cell_type": "code",
   "execution_count": 13,
   "metadata": {},
   "outputs": [
    {
     "data": {
      "application/vnd.jupyter.widget-view+json": {
       "model_id": "c508ddee12de42e187a79ab28d308629",
       "version_major": 2,
       "version_minor": 0
      },
      "text/plain": [
       "interactive(children=(ToggleButtons(description='Plot Type:', icons=('',), options=(('Frequency Plot', 'freque…"
      ]
     },
     "metadata": {},
     "output_type": "display_data"
    }
   ],
   "source": [
    "evaluate_model(tuned_pos_8)"
   ]
  },
  {
   "cell_type": "code",
   "execution_count": 14,
   "metadata": {},
   "outputs": [
    {
     "data": {
      "text/html": [
       "        <script type=\"text/javascript\">\n",
       "        window.PlotlyConfig = {MathJaxConfig: 'local'};\n",
       "        if (window.MathJax) {MathJax.Hub.Config({SVG: {font: \"STIX-Web\"}});}\n",
       "        if (typeof require !== 'undefined') {\n",
       "        require.undef(\"plotly\");\n",
       "        requirejs.config({\n",
       "            paths: {\n",
       "                'plotly': ['https://cdn.plot.ly/plotly-latest.min']\n",
       "            }\n",
       "        });\n",
       "        require(['plotly'], function(Plotly) {\n",
       "            window._Plotly = Plotly;\n",
       "        });\n",
       "        }\n",
       "        </script>\n",
       "        "
      ]
     },
     "metadata": {},
     "output_type": "display_data"
    },
    {
     "data": {
      "text/html": [
       "\n",
       "<link rel=\"stylesheet\" type=\"text/css\" href=\"https://cdn.rawgit.com/bmabey/pyLDAvis/files/ldavis.v1.0.0.css\">\n",
       "\n",
       "\n",
       "<div id=\"ldavis_el212422546957722329547471828\"></div>\n",
       "<script type=\"text/javascript\">\n",
       "\n",
       "var ldavis_el212422546957722329547471828_data = {\"mdsDat\": {\"x\": [-0.24649724715394922, 0.05274744764254012, 0.25029436251550635, -0.15066759341705482, 0.3088379527569405, -0.023404769443768222, -0.12690117247299074, -0.06440898042722391], \"y\": [0.14744634288681188, 0.25547477937895147, -0.2861347540768899, -0.0015974959144802047, 0.2104099080986879, 0.018348763604978884, -0.27521619419056687, -0.06873134978749317], \"topics\": [1, 2, 3, 4, 5, 6, 7, 8], \"cluster\": [1, 1, 1, 1, 1, 1, 1, 1], \"Freq\": [54.90685272216797, 9.953704833984375, 7.916478633880615, 7.161852836608887, 6.968752861022949, 5.3787431716918945, 4.654951572418213, 3.0586702823638916]}, \"tinfo\": {\"Term\": [\"receive\", \"night\", \"high\", \"rate\", \"bed\", \"balcony\", \"give\", \"place\", \"reservation\", \"probably\", \"office\", \"face\", \"generally\", \"major\", \"well\", \"arrive\", \"book\", \"make\", \"little\", \"suite\", \"buy\", \"space\", \"intimate\", \"meat\", \"conference\", \"lunch\", \"list\", \"feel\", \"money\", \"work\", \"helpful\", \"great\", \"price\", \"comfortable\", \"go\", \"area\", \"city\", \"quite\", \"location\", \"town\", \"also\", \"really\", \"recommend\", \"help\", \"walk\", \"look\", \"lovely\", \"enough\", \"want\", \"say\", \"bit\", \"first\", \"excellent\", \"thing\", \"part\", \"business\", \"warm\", \"big\", \"see\", \"day\", \"stay\", \"staff\", \"find\", \"welcome\", \"friendly\", \"service\", \"breakfast\", \"clean\", \"small\", \"free\", \"time\", \"work\", \"quiet\", \"need\", \"make\", \"night\", \"place\", \"balcony\", \"reservation\", \"probably\", \"office\", \"face\", \"generally\", \"major\", \"give\", \"money\", \"bed\", \"compare\", \"ant\", \"think\", \"polite\", \"shampoo\", \"understand\", \"full\", \"woman\", \"main\", \"description\", \"dot\", \"level\", \"floor\", \"euros\", \"everywhere\", \"aged\", \"bite\", \"tired\", \"surely\", \"single\", \"value\", \"spend\", \"simple\", \"put\", \"well\", \"place\", \"old\", \"night\", \"little\", \"need\", \"quiet\", \"get\", \"street\", \"clean\", \"breakfast\", \"close\", \"incl\", \"work\", \"visitor\", \"cereal\", \"option\", \"call\", \"budget\", \"manage\", \"mostly\", \"particularly\", \"scramble\", \"whole\", \"channel\", \"view\", \"store\", \"pass\", \"homely\", \"addition\", \"advise\", \"aware\", \"baclony\", \"behalf\", \"bottled\", \"carry\", \"converse\", \"drinking\", \"begin\", \"life\", \"prospective\", \"supply\", \"sunnyside\", \"separately\", \"water\", \"prepared\", \"entity\", \"organization\", \"sandwich\", \"pre\", \"salad\", \"quantity\", \"organiser\", \"especially\", \"sit\", \"egg\", \"tiny\", \"greek\", \"well\", \"cheese\", \"linen\", \"noon\", \"market\", \"oblige\", \"make\", \"take\", \"love\", \"tell\", \"people\", \"even\", \"basic\", \"less\", \"provide\", \"arrive\", \"old\", \"stay\", \"accommodation\", \"travel\", \"group\", \"relax\", \"professional\", \"side\", \"fruit\", \"towel\", \"tea\", \"daily\", \"arrival\", \"deliver\", \"explore\", \"upgrade\", \"wife\", \"complimentary\", \"amenity\", \"winter\", \"fancy\", \"customer\", \"front\", \"change\", \"treat\", \"satisfy\", \"hospitality\", \"home\", \"student\", \"friendliness\", \"abroad\", \"cross\", \"return\", \"neighborhood\", \"bus\", \"facility\", \"downtown\", \"make\", \"delicious\", \"visit\", \"clean\", \"sheet\", \"coffee\", \"stay\", \"reception\", \"value\", \"thank\", \"breakfast\", \"decent\", \"read\", \"suite\", \"case\", \"book\", \"canopy\", \"renovate\", \"shape\", \"fully\", \"inexpensive\", \"online\", \"muggy\", \"newly\", \"furniture\", \"seem\", \"early\", \"late\", \"close\", \"incl\", \"little\", \"arrive\", \"street\", \"spend\", \"night\", \"simple\", \"get\", \"feel\", \"place\", \"work\", \"old\", \"quiet\", \"need\", \"receive\", \"minute\", \"residential\", \"efficient\", \"child\", \"accomodation\", \"executive\", \"reliable\", \"treasure\", \"receptionist\", \"review\", \"live\", \"operate\", \"solid\", \"hesitate\", \"cypriot\", \"quick\", \"new\", \"bean\", \"conditioning\", \"hand\", \"stop\", \"corner\", \"toast\", \"mind\", \"slightly\", \"snack\", \"school\", \"adult\", \"suggestion\", \"facility\", \"move\", \"value\", \"air\", \"like\", \"order\", \"bus\", \"book\", \"suite\", \"rate\", \"buy\", \"intimate\", \"space\", \"meat\", \"conference\", \"list\", \"lunch\", \"cold\", \"dirty\", \"greek\", \"music\", \"flight\", \"lack\", \"fresh\", \"order\", \"elevator\", \"sigerate\", \"pilow\", \"smelly\", \"familly\", \"smellbut\", \"minimarket\", \"dweller\", \"otherside\", \"basement\", \"half\", \"localfood\", \"roll\", \"giant\", \"use\", \"car\", \"home\", \"send\", \"include\", \"make\", \"time\", \"wall\", \"put\", \"water\", \"tiny\", \"return\", \"cheese\", \"friendly\", \"much\", \"bathroom\", \"small\", \"staff\", \"well\", \"take\", \"high\", \"morning\", \"information\", \"awful\", \"year\", \"training\", \"ready\", \"interesting\", \"house\", \"couple\", \"cooked\", \"slice\", \"plastic\", \"originally\", \"dingy\", \"bread\", \"afraid\", \"aside\", \"supermarket\", \"drab\", \"margarine\", \"wrapper\", \"leafy\", \"offerre\", \"map\", \"foot\", \"brochure\", \"spotlessly\", \"butter\", \"spread\", \"standard\", \"car\", \"include\", \"residential\", \"tourist\", \"prepare\", \"lunch\", \"try\", \"list\", \"really\", \"facility\", \"minute\", \"tour\"], \"Freq\": [25.0, 36.0, 17.0, 19.0, 27.0, 19.0, 23.0, 31.0, 18.0, 18.0, 18.0, 18.0, 18.0, 18.0, 32.0, 15.0, 13.0, 27.0, 14.0, 12.0, 9.0, 9.0, 9.0, 9.0, 9.0, 10.0, 10.0, 17.0, 15.0, 23.0, 32.9049072265625, 26.067100524902344, 25.186386108398438, 21.751075744628906, 23.33245849609375, 29.02510643005371, 20.725982666015625, 18.299806594848633, 16.604421615600586, 15.706467628479004, 14.857118606567383, 22.518770217895508, 13.159920692443848, 13.100967407226562, 21.72381019592285, 12.233183860778809, 11.410468101501465, 10.58535099029541, 10.585580825805664, 10.53262996673584, 9.719385147094727, 9.722405433654785, 13.525528907775879, 9.642175674438477, 9.664459228515625, 8.864814758300781, 8.864453315734863, 8.861969947814941, 8.829188346862793, 16.61448097229004, 64.84906005859375, 51.06282424926758, 15.077914237976074, 16.44293212890625, 35.11444091796875, 12.813754081726074, 36.91180419921875, 41.46205520629883, 19.93037223815918, 11.928415298461914, 19.837196350097656, 16.099443435668945, 16.8365535736084, 16.056522369384766, 15.40149974822998, 13.646151542663574, 13.429303169250488, 19.252721786499023, 18.2938289642334, 18.055763244628906, 17.81771469116211, 17.817630767822266, 17.809818267822266, 17.809738159179688, 19.551259994506836, 12.324774742126465, 19.040119171142578, 0.9420593976974487, 0.7899259924888611, 0.7898538112640381, 0.9360277056694031, 0.7159221172332764, 0.6548203825950623, 1.028602957725525, 0.5505017638206482, 0.5505042672157288, 0.5504909753799438, 0.5504892468452454, 0.5504122376441956, 0.5503473281860352, 0.550254225730896, 0.5492198467254639, 0.5491458177566528, 0.5485188961029053, 0.5483593940734863, 0.5464997887611389, 0.5435814261436462, 2.9337453842163086, 4.30858850479126, 4.646069049835205, 0.7926027178764343, 9.522082328796387, 7.525489807128906, 5.231256008148193, 5.477309703826904, 2.9249157905578613, 2.9824962615966797, 3.037545919418335, 2.1900217533111572, 1.4922478199005127, 4.145056247711182, 3.437087297439575, 1.1265143156051636, 1.0743259191513062, 1.160781741142273, 7.102478504180908, 3.6808576583862305, 3.6331567764282227, 3.6331288814544678, 3.633051872253418, 3.632952928543091, 3.632669448852539, 3.632241725921631, 3.585012197494507, 3.584995746612549, 3.5849013328552246, 3.5818300247192383, 3.5827035903930664, 3.629218339920044, 3.408137559890747, 3.408137559890747, 3.408137559890747, 3.408137559890747, 3.408137559890747, 3.408137559890747, 3.408137559890747, 3.408137559890747, 3.408137559890747, 3.408137559890747, 3.408137559890747, 3.408137559890747, 3.408137559890747, 3.408137559890747, 3.408137559890747, 3.408137559890747, 7.018337249755859, 3.408137559890747, 3.408137559890747, 3.408137559890747, 3.408137559890747, 3.408137559890747, 3.408137559890747, 3.408137559890747, 3.408137559890747, 3.8125646114349365, 3.5866341590881348, 7.049686431884766, 3.5390312671661377, 5.591968536376953, 10.311899185180664, 3.5000932216644287, 3.408137559890747, 3.408137559890747, 3.408137559890747, 3.408137559890747, 6.235169887542725, 3.5257794857025146, 3.717608690261841, 3.6168062686920166, 3.6941332817077637, 3.7717795372009277, 3.7369096279144287, 3.536555528640747, 3.5778896808624268, 3.5858328342437744, 3.5944175720214844, 3.543516159057617, 2.299511671066284, 1.8659546375274658, 1.853183627128601, 1.867767095565796, 1.43030846118927, 1.429328203201294, 1.424931287765503, 1.337153673171997, 1.865470290184021, 1.8386391401290894, 1.8217666149139404, 0.9994606971740723, 0.9993042349815369, 0.9990730285644531, 0.9991436004638672, 0.9988304376602173, 0.9988545179367065, 0.998100757598877, 0.997668981552124, 0.9969563484191895, 0.9863896369934082, 1.4288281202316284, 0.9991003274917603, 1.431389331817627, 0.9852611422538757, 1.4224328994750977, 1.3759933710098267, 0.9986069798469543, 0.9957846403121948, 0.9984235167503357, 1.852843999862671, 1.4005168676376343, 1.8138947486877441, 1.5808697938919067, 1.7520344257354736, 3.0865437984466553, 1.5033280849456787, 1.8785393238067627, 2.860402822494507, 1.213115930557251, 1.6230597496032715, 2.2989819049835205, 1.3557738065719604, 1.2199233770370483, 1.2696982622146606, 1.409307599067688, 5.965857028961182, 5.726573944091797, 11.430927276611328, 5.614677906036377, 12.01374340057373, 5.596579074859619, 5.596579074859619, 5.596579074859619, 5.596579074859619, 5.596579074859619, 5.596579074859619, 5.596579074859619, 5.596579074859619, 5.590837001800537, 5.576837539672852, 5.571361541748047, 5.7079057693481445, 6.317254543304443, 5.40889835357666, 11.22105598449707, 11.598569869995117, 5.432020664215088, 4.679213047027588, 16.985506057739258, 4.754021167755127, 5.461285591125488, 6.020172595977783, 9.890366554260254, 5.50644063949585, 5.421663284301758, 5.56112003326416, 5.418679714202881, 25.049394607543945, 6.074860572814941, 2.0906264781951904, 1.0958434343338013, 0.7644558548927307, 0.7644553184509277, 0.7643800377845764, 0.7643791437149048, 0.7643332481384277, 0.7643241882324219, 0.7638727426528931, 0.7635415196418762, 0.7629297375679016, 0.7623990774154663, 0.7607947587966919, 1.4278547763824463, 0.7557151317596436, 1.4320143461227417, 0.5937971472740173, 0.763925313949585, 0.7626214027404785, 0.7606776356697083, 0.7610847353935242, 0.6521135568618774, 0.4960259199142456, 0.7634814381599426, 0.7625052332878113, 0.43223047256469727, 0.4322299361228943, 0.43222981691360474, 1.313978672027588, 0.7643445134162903, 1.8774276971817017, 0.7340605854988098, 0.90447598695755, 0.963610827922821, 0.7735680937767029, 0.8488063812255859, 0.8334246277809143, 18.452560424804688, 9.246234893798828, 9.243446350097656, 9.244552612304688, 9.243978500366211, 9.167524337768555, 9.084467887878418, 9.116363525390625, 4.827383518218994, 0.5340903997421265, 4.194563865661621, 0.4099324941635132, 0.28573843836784363, 0.28561192750930786, 2.3793015480041504, 1.3738446235656738, 0.1615389883518219, 0.1615389883518219, 0.1615389883518219, 0.1615389883518219, 0.1615389883518219, 0.1615389734506607, 0.16150152683258057, 0.1615014523267746, 0.16150131821632385, 0.16150124371051788, 0.16150131821632385, 0.16150124371051788, 0.1615011990070343, 0.16150124371051788, 0.5094191431999207, 0.4053534269332886, 0.4128352701663971, 0.28573742508888245, 0.8056178689002991, 2.981707811355591, 2.5981738567352295, 0.2771932780742645, 0.28372636437416077, 0.9467201828956604, 0.528529942035675, 0.41276639699935913, 0.5027937293052673, 2.0540072917938232, 0.9201323986053467, 0.8183761239051819, 1.027608036994934, 1.130278468132019, 0.7594246864318848, 0.4381825625896454, 16.62246322631836, 0.7283028960227966, 0.7277892827987671, 0.5081261992454529, 0.5080914497375488, 0.5080775618553162, 0.5070227384567261, 0.5067901611328125, 0.5050252676010132, 0.5073726177215576, 0.28729039430618286, 0.28729021549224854, 0.2872903645038605, 0.28729015588760376, 0.28728964924812317, 0.2872897684574127, 0.28728967905044556, 0.2872895300388336, 0.28728964924812317, 0.2872893810272217, 0.2872893810272217, 0.2872893810272217, 0.2872956693172455, 0.28729572892189026, 0.28729555010795593, 0.28729555010795593, 0.28729555010795593, 0.28729483485221863, 0.2872886061668396, 0.2872883379459381, 0.5080093741416931, 0.5044430494308472, 0.8064962029457092, 0.5079756379127502, 0.46442487835884094, 0.39215368032455444, 0.5186949372291565, 0.3868820071220398, 0.3546083867549896, 0.305557519197464, 0.28801244497299194, 0.2872961461544037, 0.2872949242591858], \"Total\": [25.0, 36.0, 17.0, 19.0, 27.0, 19.0, 23.0, 31.0, 18.0, 18.0, 18.0, 18.0, 18.0, 18.0, 32.0, 15.0, 13.0, 27.0, 14.0, 12.0, 9.0, 9.0, 9.0, 9.0, 9.0, 10.0, 10.0, 17.0, 15.0, 23.0, 33.371212005615234, 26.51558494567871, 25.640060424804688, 22.20472526550293, 23.847749710083008, 29.67378044128418, 21.238954544067383, 18.754430770874023, 17.051660537719727, 16.168899536132812, 15.309316635131836, 23.225322723388672, 13.609335899353027, 13.57397174835205, 22.521024703979492, 12.695416450500488, 11.864936828613281, 11.031476974487305, 11.031743049621582, 10.99744987487793, 10.16578483581543, 10.168992042541504, 14.170140266418457, 10.109253883361816, 10.134056091308594, 9.310677528381348, 9.310359001159668, 9.308445930480957, 9.283845901489258, 17.49063491821289, 71.34867095947266, 56.72287368774414, 16.11417007446289, 17.84068489074707, 40.999656677246094, 13.870345115661621, 47.151084899902344, 57.82621765136719, 25.427486419677734, 12.992487907409668, 26.506397247314453, 23.119070053100586, 26.460763931274414, 24.995372772216797, 27.969430923461914, 36.493099212646484, 31.448020935058594, 19.886953353881836, 18.927631378173828, 18.690784454345703, 18.45099449157715, 18.45093536376953, 18.444671630859375, 18.44467544555664, 23.458925247192383, 15.804363250732422, 27.316499710083008, 1.5962492227554321, 1.4232795238494873, 1.423369288444519, 1.698845386505127, 1.3655678033828735, 1.317000389099121, 2.09692120552063, 1.1840827465057373, 1.1841391324996948, 1.1841654777526855, 1.1841696500778198, 1.1841715574264526, 1.1842987537384033, 1.1844940185546875, 1.184020757675171, 1.1838992834091187, 1.183566689491272, 1.183679223060608, 1.1830555200576782, 1.199939489364624, 6.480728626251221, 9.598041534423828, 10.551396369934082, 1.756279706954956, 32.68674087524414, 31.448020935058594, 22.809778213500977, 36.493099212646484, 14.757225036621094, 24.995372772216797, 26.460763931274414, 14.887483596801758, 7.534451484680176, 57.82621765136719, 47.151084899902344, 8.065986633300781, 7.098868370056152, 23.119070053100586, 7.8180131912231445, 4.374297142028809, 4.324164390563965, 4.324270725250244, 4.3242878913879395, 4.3246660232543945, 4.326075553894043, 4.326409339904785, 4.276017189025879, 4.276270389556885, 4.276805400848389, 4.288612365722656, 4.314815521240234, 4.579441547393799, 4.431704044342041, 4.431704044342041, 4.431704044342041, 4.431704044342041, 4.431704044342041, 4.431704044342041, 4.431704044342041, 4.431704044342041, 4.431704044342041, 4.431704044342041, 4.431704044342041, 4.431704044342041, 4.431704044342041, 4.431704044342041, 4.431704044342041, 4.431704044342041, 9.282892227172852, 4.431704044342041, 4.431704044342041, 4.431704044342041, 4.431704044342041, 4.431704044342041, 4.431704044342041, 4.431704044342041, 4.431704044342041, 5.040672302246094, 4.7173333168029785, 11.800146102905273, 4.721404075622559, 10.440189361572266, 32.68674087524414, 4.660665988922119, 4.431704044342041, 4.431704044342041, 4.431704044342041, 4.431704044342041, 27.969430923461914, 5.059503555297852, 6.299595355987549, 6.993076324462891, 8.40092658996582, 12.020155906677246, 12.73172664642334, 6.814173698425293, 8.697981834411621, 15.856199264526367, 22.809778213500977, 71.34867095947266, 2.874680280685425, 2.441166400909424, 2.432501792907715, 2.495032787322998, 2.0053770542144775, 2.0052576065063477, 2.000427007675171, 1.9719291925430298, 2.7737514972686768, 2.7673940658569336, 2.761748790740967, 1.5737046003341675, 1.5737489461898804, 1.5736294984817505, 1.573784351348877, 1.573455572128296, 1.573522925376892, 1.573446273803711, 1.572996973991394, 1.573252558708191, 1.5639410018920898, 2.3220067024230957, 1.6252120733261108, 2.33927321434021, 1.6436570882797241, 2.3733551502227783, 2.3233845233917236, 1.697908878326416, 1.6957898139953613, 1.812829852104187, 3.3789734840393066, 2.5630619525909424, 3.6402692794799805, 3.5916314125061035, 5.997042655944824, 27.969430923461914, 5.378020286560059, 11.89666748046875, 57.82621765136719, 3.084218978881836, 13.007699966430664, 71.34867095947266, 8.960846900939941, 6.480728626251221, 9.913702964782715, 47.151084899902344, 6.648601531982422, 6.433658599853516, 12.846603393554688, 6.372939109802246, 13.77493953704834, 6.469161033630371, 6.469161033630371, 6.469161033630371, 6.469161033630371, 6.469161033630371, 6.469161033630371, 6.469161033630371, 6.469161033630371, 6.960485935211182, 6.989984512329102, 7.0012125968933105, 7.192862033843994, 8.065986633300781, 7.098868370056152, 14.757225036621094, 15.856199264526367, 7.534451484680176, 9.598041534423828, 36.493099212646484, 10.551396369934082, 14.887483596801758, 17.152647018432617, 31.448020935058594, 23.119070053100586, 22.809778213500977, 26.460763931274414, 24.995372772216797, 25.658536911010742, 6.903197288513184, 3.1384902000427246, 1.828398585319519, 1.369642734527588, 1.3696424961090088, 1.3696892261505127, 1.369689702987671, 1.3696513175964355, 1.3696845769882202, 1.370105504989624, 1.3699275255203247, 1.368923306465149, 1.3697553873062134, 1.3677791357040405, 2.7073299884796143, 1.4893821477890015, 2.9010822772979736, 1.2278306484222412, 1.5911957025527954, 1.5913517475128174, 1.6068476438522339, 1.611311674118042, 1.503415584564209, 1.1661584377288818, 1.8047926425933838, 1.8039627075195312, 1.037492275238037, 1.0374921560287476, 1.0374921560287476, 3.5916314125061035, 1.9745315313339233, 6.480728626251221, 2.4955248832702637, 4.588765621185303, 6.025710582733154, 3.6402692794799805, 13.77493953704834, 12.846603393554688, 19.131772994995117, 9.914288520812988, 9.912697792053223, 9.919181823730469, 9.92064094543457, 9.975857734680176, 10.040468215942383, 10.23648452758789, 7.325061798095703, 1.2023003101348877, 10.440189361572266, 1.0780164003372192, 0.9538564682006836, 0.9542367458343506, 9.25578784942627, 6.025710582733154, 0.8296335935592651, 0.8296335935592651, 0.8296335935592651, 0.8296335935592651, 0.8296335935592651, 0.8296335339546204, 0.8297696709632874, 0.8297699093818665, 0.8297702074050903, 0.829770028591156, 0.8297706842422485, 0.8297704458236694, 0.8297704458236694, 0.8297707438468933, 2.7265408039093018, 2.235227108001709, 2.3733551502227783, 1.608855962753296, 5.614749908447266, 27.969430923461914, 26.506397247314453, 1.6372898817062378, 1.756279706954956, 9.282892227172852, 4.721404075622559, 3.3789734840393066, 4.660665988922119, 40.999656677246094, 16.52768325805664, 14.365276336669922, 25.427486419677734, 56.72287368774414, 32.68674087524414, 5.059503555297852, 17.363149642944336, 1.3681899309158325, 1.447601079940796, 1.1469471454620361, 1.1470115184783936, 1.1470094919204712, 1.1477406024932861, 1.4794234037399292, 1.4814062118530273, 1.5872673988342285, 0.9261807799339294, 0.9261809587478638, 0.9261819124221802, 0.9261816740036011, 0.9261822700500488, 0.926182746887207, 0.9261828660964966, 0.9261829853057861, 0.926183819770813, 0.9261829853057861, 0.9261834621429443, 0.9261837005615234, 0.9262045621871948, 0.9262046813964844, 0.9262045621871948, 0.9262045621871948, 0.9262045621871948, 0.9262043237686157, 0.9261845946311951, 0.9261856079101562, 1.7511403560638428, 2.235227108001709, 5.614749908447266, 3.1384902000427246, 5.575929641723633, 3.2130823135375977, 10.23648452758789, 4.0786919593811035, 10.040468215942383, 23.225322723388672, 3.5916314125061035, 6.903197288513184, 1.360419750213623], \"Category\": [\"Default\", \"Default\", \"Default\", \"Default\", \"Default\", \"Default\", \"Default\", \"Default\", \"Default\", \"Default\", \"Default\", \"Default\", \"Default\", \"Default\", \"Default\", \"Default\", \"Default\", \"Default\", \"Default\", \"Default\", \"Default\", \"Default\", \"Default\", \"Default\", \"Default\", \"Default\", \"Default\", \"Default\", \"Default\", \"Default\", \"Topic1\", \"Topic1\", \"Topic1\", \"Topic1\", \"Topic1\", \"Topic1\", \"Topic1\", \"Topic1\", \"Topic1\", \"Topic1\", \"Topic1\", \"Topic1\", \"Topic1\", \"Topic1\", \"Topic1\", \"Topic1\", \"Topic1\", \"Topic1\", \"Topic1\", \"Topic1\", \"Topic1\", \"Topic1\", \"Topic1\", \"Topic1\", \"Topic1\", \"Topic1\", \"Topic1\", \"Topic1\", \"Topic1\", \"Topic1\", \"Topic1\", \"Topic1\", \"Topic1\", \"Topic1\", \"Topic1\", \"Topic1\", \"Topic1\", \"Topic1\", \"Topic1\", \"Topic1\", \"Topic1\", \"Topic1\", \"Topic1\", \"Topic1\", \"Topic1\", \"Topic1\", \"Topic1\", \"Topic2\", \"Topic2\", \"Topic2\", \"Topic2\", \"Topic2\", \"Topic2\", \"Topic2\", \"Topic2\", \"Topic2\", \"Topic2\", \"Topic2\", \"Topic2\", \"Topic2\", \"Topic2\", \"Topic2\", \"Topic2\", \"Topic2\", \"Topic2\", \"Topic2\", \"Topic2\", \"Topic2\", \"Topic2\", \"Topic2\", \"Topic2\", \"Topic2\", \"Topic2\", \"Topic2\", \"Topic2\", \"Topic2\", \"Topic2\", \"Topic2\", \"Topic2\", \"Topic2\", \"Topic2\", \"Topic2\", \"Topic2\", \"Topic2\", \"Topic2\", \"Topic2\", \"Topic2\", \"Topic2\", \"Topic2\", \"Topic2\", \"Topic2\", \"Topic2\", \"Topic2\", \"Topic2\", \"Topic2\", \"Topic3\", \"Topic3\", \"Topic3\", \"Topic3\", \"Topic3\", \"Topic3\", \"Topic3\", \"Topic3\", \"Topic3\", \"Topic3\", \"Topic3\", \"Topic3\", \"Topic3\", \"Topic3\", \"Topic3\", \"Topic3\", \"Topic3\", \"Topic3\", \"Topic3\", \"Topic3\", \"Topic3\", \"Topic3\", \"Topic3\", \"Topic3\", \"Topic3\", \"Topic3\", \"Topic3\", \"Topic3\", \"Topic3\", \"Topic3\", \"Topic3\", \"Topic3\", \"Topic3\", \"Topic3\", \"Topic3\", \"Topic3\", \"Topic3\", \"Topic3\", \"Topic3\", \"Topic3\", \"Topic3\", \"Topic3\", \"Topic3\", \"Topic3\", \"Topic3\", \"Topic3\", \"Topic3\", \"Topic3\", \"Topic3\", \"Topic3\", \"Topic3\", \"Topic3\", \"Topic3\", \"Topic3\", \"Topic3\", \"Topic3\", \"Topic3\", \"Topic3\", \"Topic3\", \"Topic3\", \"Topic3\", \"Topic3\", \"Topic4\", \"Topic4\", \"Topic4\", \"Topic4\", \"Topic4\", \"Topic4\", \"Topic4\", \"Topic4\", \"Topic4\", \"Topic4\", \"Topic4\", \"Topic4\", \"Topic4\", \"Topic4\", \"Topic4\", \"Topic4\", \"Topic4\", \"Topic4\", \"Topic4\", \"Topic4\", \"Topic4\", \"Topic4\", \"Topic4\", \"Topic4\", \"Topic4\", \"Topic4\", \"Topic4\", \"Topic4\", \"Topic4\", \"Topic4\", \"Topic4\", \"Topic4\", \"Topic4\", \"Topic4\", \"Topic4\", \"Topic4\", \"Topic4\", \"Topic4\", \"Topic4\", \"Topic4\", \"Topic4\", \"Topic4\", \"Topic4\", \"Topic4\", \"Topic4\", \"Topic4\", \"Topic5\", \"Topic5\", \"Topic5\", \"Topic5\", \"Topic5\", \"Topic5\", \"Topic5\", \"Topic5\", \"Topic5\", \"Topic5\", \"Topic5\", \"Topic5\", \"Topic5\", \"Topic5\", \"Topic5\", \"Topic5\", \"Topic5\", \"Topic5\", \"Topic5\", \"Topic5\", \"Topic5\", \"Topic5\", \"Topic5\", \"Topic5\", \"Topic5\", \"Topic5\", \"Topic5\", \"Topic5\", \"Topic5\", \"Topic5\", \"Topic5\", \"Topic5\", \"Topic6\", \"Topic6\", \"Topic6\", \"Topic6\", \"Topic6\", \"Topic6\", \"Topic6\", \"Topic6\", \"Topic6\", \"Topic6\", \"Topic6\", \"Topic6\", \"Topic6\", \"Topic6\", \"Topic6\", \"Topic6\", \"Topic6\", \"Topic6\", \"Topic6\", \"Topic6\", \"Topic6\", \"Topic6\", \"Topic6\", \"Topic6\", \"Topic6\", \"Topic6\", \"Topic6\", \"Topic6\", \"Topic6\", \"Topic6\", \"Topic6\", \"Topic6\", \"Topic6\", \"Topic6\", \"Topic6\", \"Topic6\", \"Topic6\", \"Topic6\", \"Topic6\", \"Topic7\", \"Topic7\", \"Topic7\", \"Topic7\", \"Topic7\", \"Topic7\", \"Topic7\", \"Topic7\", \"Topic7\", \"Topic7\", \"Topic7\", \"Topic7\", \"Topic7\", \"Topic7\", \"Topic7\", \"Topic7\", \"Topic7\", \"Topic7\", \"Topic7\", \"Topic7\", \"Topic7\", \"Topic7\", \"Topic7\", \"Topic7\", \"Topic7\", \"Topic7\", \"Topic7\", \"Topic7\", \"Topic7\", \"Topic7\", \"Topic7\", \"Topic7\", \"Topic7\", \"Topic7\", \"Topic7\", \"Topic7\", \"Topic7\", \"Topic7\", \"Topic7\", \"Topic7\", \"Topic7\", \"Topic7\", \"Topic7\", \"Topic7\", \"Topic7\", \"Topic7\", \"Topic7\", \"Topic7\", \"Topic7\", \"Topic7\", \"Topic8\", \"Topic8\", \"Topic8\", \"Topic8\", \"Topic8\", \"Topic8\", \"Topic8\", \"Topic8\", \"Topic8\", \"Topic8\", \"Topic8\", \"Topic8\", \"Topic8\", \"Topic8\", \"Topic8\", \"Topic8\", \"Topic8\", \"Topic8\", \"Topic8\", \"Topic8\", \"Topic8\", \"Topic8\", \"Topic8\", \"Topic8\", \"Topic8\", \"Topic8\", \"Topic8\", \"Topic8\", \"Topic8\", \"Topic8\", \"Topic8\", \"Topic8\", \"Topic8\", \"Topic8\", \"Topic8\", \"Topic8\", \"Topic8\", \"Topic8\", \"Topic8\", \"Topic8\", \"Topic8\", \"Topic8\", \"Topic8\"], \"logprob\": [30.0, 29.0, 28.0, 27.0, 26.0, 25.0, 24.0, 23.0, 22.0, 21.0, 20.0, 19.0, 18.0, 17.0, 16.0, 15.0, 14.0, 13.0, 12.0, 11.0, 10.0, 9.0, 8.0, 7.0, 6.0, 5.0, 4.0, 3.0, 2.0, 1.0, -4.1641998291015625, -4.397200107574463, -4.431600093841553, -4.578199863433838, -4.507999897003174, -4.289700031280518, -4.626500129699707, -4.750999927520752, -4.848199844360352, -4.903800010681152, -4.959400177001953, -4.543499946594238, -5.080699920654297, -5.08519983291626, -4.579400062561035, -5.15369987487793, -5.223299980163574, -5.298399925231934, -5.298399925231934, -5.303400039672852, -5.383699893951416, -5.383399963378906, -5.053299903869629, -5.39169979095459, -5.389400005340576, -5.475800037384033, -5.475800037384033, -5.476099967956543, -5.479800224304199, -4.847599983215332, -3.48580002784729, -3.7248001098632812, -4.9446001052856445, -4.857999801635742, -4.0991997718811035, -5.1072998046875, -4.049300193786621, -3.9330999851226807, -4.665599822998047, -5.178899765014648, -4.670300006866455, -4.8790998458862305, -4.8343000411987305, -4.881700038909912, -4.923399925231934, -5.044400215148926, -5.060400009155273, -2.992500066757202, -3.043600082397461, -3.0566999912261963, -3.069999933242798, -3.069999933242798, -3.0703999996185303, -3.0703999996185303, -2.977099895477295, -3.438499927520752, -3.0035998821258545, -6.009799957275391, -6.185999870300293, -6.186100006103516, -6.016300201416016, -6.284299850463867, -6.373600006103516, -5.921999931335449, -6.547100067138672, -6.547100067138672, -6.547100067138672, -6.547100067138672, -6.5472002029418945, -6.547399997711182, -6.547500133514404, -6.5493998527526855, -6.549600124359131, -6.5507001876831055, -6.551000118255615, -6.5543999671936035, -6.559700012207031, -4.873899936676025, -4.48960018157959, -4.414100170135498, -6.182600021362305, -3.696500062942505, -3.9319000244140625, -4.295499801635742, -4.249499797821045, -4.8769001960754395, -4.857399940490723, -4.839099884033203, -5.166200160980225, -5.549900054931641, -4.528200149536133, -4.7154998779296875, -5.830999851226807, -5.878499984741211, -5.80109977722168, -3.760699987411499, -4.418000221252441, -4.431099891662598, -4.431099891662598, -4.431099891662598, -4.431099891662598, -4.43120002746582, -4.431300163269043, -4.444399833679199, -4.444399833679199, -4.444399833679199, -4.445300102233887, -4.445000171661377, -4.43209981918335, -4.494999885559082, -4.494999885559082, -4.494999885559082, -4.494999885559082, -4.494999885559082, -4.494999885559082, -4.494999885559082, -4.494999885559082, -4.494999885559082, -4.494999885559082, -4.494999885559082, -4.494999885559082, -4.494999885559082, -4.494999885559082, -4.494999885559082, -4.494999885559082, -3.772599935531616, -4.494999885559082, -4.494999885559082, -4.494999885559082, -4.494999885559082, -4.494999885559082, -4.494999885559082, -4.494999885559082, -4.494999885559082, -4.382900238037109, -4.443900108337402, -3.768199920654297, -4.457300186157227, -3.999799966812134, -3.3879001140594482, -4.468400001525879, -4.494999885559082, -4.494999885559082, -4.494999885559082, -4.494999885559082, -3.8910000324249268, -4.461100101470947, -4.408100128173828, -4.4355998039245605, -4.414400100708008, -4.393599987030029, -4.402900218963623, -4.458000183105469, -4.446400165557861, -4.444200038909912, -4.441800117492676, -4.455999851226807, -4.788300037384033, -4.997200012207031, -5.0040998458862305, -4.996200084686279, -5.2631001472473145, -5.263800144195557, -5.266900062561035, -5.330399990081787, -4.997499942779541, -5.01200008392334, -5.021200180053711, -5.621500015258789, -5.621699810028076, -5.6219000816345215, -5.621799945831299, -5.622200012207031, -5.622099876403809, -5.622900009155273, -5.623300075531006, -5.624000072479248, -5.634699821472168, -5.264100074768066, -5.6219000816345215, -5.26230001449585, -5.635799884796143, -5.268599987030029, -5.301799774169922, -5.622399806976318, -5.625199794769287, -5.622600078582764, -5.004300117492676, -5.28410005569458, -5.0254998207092285, -5.163000106811523, -5.060200214385986, -4.493899822235107, -5.2133002281188965, -4.990499973297119, -4.570000171661377, -5.427800178527832, -5.13670015335083, -4.78849983215332, -5.3165998458862305, -5.4222002029418945, -5.382199764251709, -5.277900218963623, -3.8076000213623047, -3.8485000133514404, -3.1572999954223633, -3.868299961090088, -3.107599973678589, -3.871500015258789, -3.871500015258789, -3.871500015258789, -3.871500015258789, -3.871500015258789, -3.871500015258789, -3.871500015258789, -3.871500015258789, -3.872499942779541, -3.875, -3.875999927520752, -3.851799964904785, -3.7504000663757324, -3.905600070953369, -3.1758999824523926, -3.1428000926971436, -3.9012999534606934, -4.05049991607666, -2.7613000869750977, -4.0346999168396, -3.8959999084472656, -3.7985000610351562, -3.3020999431610107, -3.887700080871582, -3.9031999111175537, -3.8778998851776123, -3.9038000106811523, -2.113800048828125, -3.5304999351501465, -4.5971999168396, -5.243100166320801, -5.603300094604492, -5.603300094604492, -5.603400230407715, -5.603400230407715, -5.603400230407715, -5.603400230407715, -5.604000091552734, -5.604499816894531, -5.605299949645996, -5.605999946594238, -5.608099937438965, -4.978499889373779, -5.614799976348877, -4.975599765777588, -5.855899810791016, -5.604000091552734, -5.6057000160217285, -5.6082000732421875, -5.607699871063232, -5.762199878692627, -6.035799980163574, -5.604499816894531, -5.605800151824951, -6.173500061035156, -6.173500061035156, -6.173500061035156, -5.061600208282471, -5.603400230407715, -4.704800128936768, -5.643799781799316, -5.435100078582764, -5.371699810028076, -5.591400146484375, -5.498600006103516, -5.516900062561035, -2.274899959564209, -2.96589994430542, -2.966200113296509, -2.966099977493286, -2.966200113296509, -2.9744999408721924, -2.983599901199341, -2.98009991645813, -3.615799903869629, -5.817299842834473, -3.7564001083374023, -6.081900119781494, -6.442800045013428, -6.443299770355225, -4.323299884796143, -4.872499942779541, -7.013199806213379, -7.013199806213379, -7.013199806213379, -7.013199806213379, -7.013199806213379, -7.013199806213379, -7.013400077819824, -7.013400077819824, -7.013400077819824, -7.013400077819824, -7.013400077819824, -7.013400077819824, -7.013400077819824, -7.013400077819824, -5.86460018157959, -6.093100070953369, -6.074900150299072, -6.442800045013428, -5.406300067901611, -4.097700119018555, -4.235300064086914, -6.473199844360352, -6.449900150299072, -5.244900226593018, -5.8277997970581055, -6.074999809265137, -5.877699851989746, -4.470399856567383, -5.273399829864502, -5.390600204467773, -5.162899971008301, -5.067699909210205, -5.4653000831604, -6.0152997970581055, -1.9594000577926636, -5.087200164794922, -5.087900161743164, -5.447199821472168, -5.447299957275391, -5.447299957275391, -5.449399948120117, -5.449900150299072, -5.4532999992370605, -5.448699951171875, -6.017499923706055, -6.017499923706055, -6.017499923706055, -6.017499923706055, -6.017499923706055, -6.017499923706055, -6.017499923706055, -6.017499923706055, -6.017499923706055, -6.017499923706055, -6.017499923706055, -6.017499923706055, -6.017399787902832, -6.017399787902832, -6.017399787902832, -6.017399787902832, -6.017399787902832, -6.017399787902832, -6.017499923706055, -6.017499923706055, -5.447500228881836, -5.454500198364258, -4.985300064086914, -5.447500228881836, -5.537199974060059, -5.706299781799316, -5.426599979400635, -5.719799995422363, -5.8069000244140625, -5.9558000564575195, -6.014900207519531, -6.017399787902832, -6.017399787902832], \"loglift\": [30.0, 29.0, 28.0, 27.0, 26.0, 25.0, 24.0, 23.0, 22.0, 21.0, 20.0, 19.0, 18.0, 17.0, 16.0, 15.0, 14.0, 13.0, 12.0, 11.0, 10.0, 9.0, 8.0, 7.0, 6.0, 5.0, 4.0, 3.0, 2.0, 1.0, 0.5855000019073486, 0.5824999809265137, 0.5817000269889832, 0.5788999795913696, 0.5777000188827515, 0.5774000287055969, 0.5751000046730042, 0.574999988079071, 0.5730000138282776, 0.5705000162124634, 0.5695000290870667, 0.5685999989509583, 0.5659999847412109, 0.5641000270843506, 0.5634999871253967, 0.5623999834060669, 0.5605000257492065, 0.5583000183105469, 0.5582000017166138, 0.5562999844551086, 0.5546000003814697, 0.5546000003814697, 0.5529999732971191, 0.5522000193595886, 0.5521000027656555, 0.5504999756813049, 0.5504999756813049, 0.5504000186920166, 0.5493000149726868, 0.5480999946594238, 0.5040000081062317, 0.4943999946117401, 0.5331000089645386, 0.5178999900817871, 0.444599986076355, 0.5202999711036682, 0.3546999990940094, 0.2669000029563904, 0.35589998960494995, 0.5141000151634216, 0.30970001220703125, 0.23770000040531158, 0.14740000665187836, 0.15700000524520874, 0.002899999963119626, -0.3840999901294708, -0.2513999938964844, 2.2748000621795654, 2.273200035095215, 2.272700071334839, 2.2723000049591064, 2.2723000049591064, 2.272200107574463, 2.272200107574463, 2.125, 2.0585999488830566, 1.9463000297546387, 1.7798999547958374, 1.718400001525879, 1.7182999849319458, 1.7111999988555908, 1.6614999771118164, 1.6085000038146973, 1.5950000286102295, 1.5413000583648682, 1.5413000583648682, 1.541200041770935, 1.541200041770935, 1.541100025177002, 1.5408999919891357, 1.5405000448226929, 1.5391000509262085, 1.5390000343322754, 1.5382000207901, 1.5377999544143677, 1.5348999500274658, 1.5154000520706177, 1.5147000551223755, 1.5062999725341797, 1.4869999885559082, 1.5116000175476074, 1.0738999843597412, 0.8772000074386597, 0.8346999883651733, 0.4106999933719635, 0.6887999773025513, 0.18129999935626984, 0.14259999990463257, 0.3905999958515167, 0.6880000233650208, -0.32829999923706055, -0.31150001287460327, 0.33869999647140503, 0.4189999997615814, -0.6843000054359436, 2.440200090408325, 2.363600015640259, 2.3620998859405518, 2.3620998859405518, 2.361999988555908, 2.3619000911712646, 2.3615000247955322, 2.361299991607666, 2.359999895095825, 2.3598999977111816, 2.3596999645233154, 2.356100082397461, 2.3503000736236572, 2.3036999702453613, 2.2736001014709473, 2.2736001014709473, 2.2736001014709473, 2.2736001014709473, 2.2736001014709473, 2.2736001014709473, 2.2736001014709473, 2.2736001014709473, 2.2736001014709473, 2.2736001014709473, 2.2736001014709473, 2.2736001014709473, 2.2736001014709473, 2.2736001014709473, 2.2736001014709473, 2.2736001014709473, 2.2565999031066895, 2.2736001014709473, 2.2736001014709473, 2.2736001014709473, 2.2736001014709473, 2.2736001014709473, 2.2736001014709473, 2.2736001014709473, 2.2736001014709473, 2.256999969482422, 2.262200117111206, 2.0211000442504883, 2.247999906539917, 1.9119000434875488, 1.382599949836731, 2.2499001026153564, 2.2736001014709473, 2.2736001014709473, 2.2736001014709473, 2.2736001014709473, 1.0353000164031982, 2.175100088119507, 2.0088000297546387, 1.8768999576568604, 1.7145999670028687, 1.3772000074386597, 1.3104000091552734, 1.8803999423980713, 1.6478999853134155, 1.0497000217437744, 0.6883999705314636, -0.46619999408721924, 2.4131999015808105, 2.3677000999450684, 2.3643999099731445, 2.3468000888824463, 2.2985000610351562, 2.297800064086914, 2.2971999645233154, 2.2479000091552734, 2.2397000789642334, 2.2274999618530273, 2.2202999591827393, 2.1823999881744385, 2.1821999549865723, 2.1821000576019287, 2.1821000576019287, 2.181999921798706, 2.1819000244140625, 2.1812000274658203, 2.1810998916625977, 2.1802000999450684, 2.17549991607666, 2.1507999897003174, 2.149899959564209, 2.14520001411438, 2.1245999336242676, 2.124500036239624, 2.112600088119507, 2.105600118637085, 2.1040000915527344, 2.039900064468384, 2.035599946975708, 2.0320000648498535, 1.9398000240325928, 1.8157999515533447, 1.405900001525879, 0.43230000138282776, 1.361799955368042, 0.7906000018119812, -0.3700999915599823, 1.7032999992370605, 0.5551999807357788, -0.7986999750137329, 0.7479000091552734, 0.9664000272750854, 0.5813000202178955, -0.8738999962806702, 2.5553998947143555, 2.547300100326538, 2.546999931335449, 2.537100076675415, 2.526900053024292, 2.5188000202178955, 2.5188000202178955, 2.5188000202178955, 2.5188000202178955, 2.5188000202178955, 2.5188000202178955, 2.5188000202178955, 2.5188000202178955, 2.4446001052856445, 2.4379000663757324, 2.43530011177063, 2.432499885559082, 2.4193999767303467, 2.3917999267578125, 2.3898000717163086, 2.351099967956543, 2.3366000652313232, 1.9452999830245972, 1.8990000486373901, 1.8665000200271606, 1.6608999967575073, 1.6167000532150269, 1.5069999694824219, 1.2289999723434448, 1.2268999814987183, 1.1038999557495117, 1.1348999738693237, 2.898699998855591, 2.7948999404907227, 2.516400098800659, 2.410799980163574, 2.339600086212158, 2.339600086212158, 2.339400053024292, 2.339400053024292, 2.339400053024292, 2.339400053024292, 2.3385000228881836, 2.338200092315674, 2.338099956512451, 2.3368000984191895, 2.3361001014709473, 2.282900094985962, 2.24429988861084, 2.2167000770568848, 2.196199893951416, 2.1888999938964844, 2.1870999336242676, 2.1749000549316406, 2.1726999282836914, 2.087399959564209, 2.0678999423980713, 2.0624001026153564, 2.0615999698638916, 2.047100067138672, 2.047100067138672, 2.047100067138672, 1.917199969291687, 1.9736000299453735, 1.6837999820709229, 1.6991000175476074, 1.298699975013733, 1.0895999670028687, 1.373900055885315, 0.13590000569820404, 0.1873999983072281, 3.031100034713745, 2.997499942779541, 2.997299909591675, 2.996799945831299, 2.9965999126434326, 2.9827001094818115, 2.9672000408172607, 2.9514000415802, 2.6501998901367188, 2.2558000087738037, 2.155400037765503, 2.100399971008301, 1.861799955368042, 1.8609999418258667, 1.708799958229065, 1.5887999534606934, 1.430999994277954, 1.430999994277954, 1.430999994277954, 1.430999994277954, 1.430999994277954, 1.430999994277954, 1.4306000471115112, 1.4306000471115112, 1.4306000471115112, 1.4306000471115112, 1.4306000471115112, 1.4306000471115112, 1.4306000471115112, 1.4306000471115112, 1.3897000551223755, 1.3598999977111816, 1.3181999921798706, 1.3389999866485596, 1.1256999969482422, 0.8285999894142151, 0.744700014591217, 1.291200041770935, 1.2443000078201294, 0.7843000292778015, 0.8774999976158142, 0.9648000001907349, 0.840499997138977, 0.07349999994039536, 0.17900000512599945, 0.20200000703334808, -0.14139999449253082, -0.8485000133514404, -0.6948999762535095, 0.6208999752998352, 3.4435999393463135, 2.8566999435424805, 2.799499988555908, 2.673099994659424, 2.6728999614715576, 2.6728999614715576, 2.6702001094818115, 2.4158999919891357, 2.411099910736084, 2.3466999530792236, 2.3166000843048096, 2.3166000843048096, 2.3166000843048096, 2.3166000843048096, 2.3166000843048096, 2.3166000843048096, 2.3166000843048096, 2.3166000843048096, 2.3166000843048096, 2.3166000843048096, 2.3166000843048096, 2.3166000843048096, 2.3166000843048096, 2.3166000843048096, 2.3166000843048096, 2.3166000843048096, 2.3166000843048096, 2.3166000843048096, 2.3166000843048096, 2.3166000843048096, 2.2497000694274902, 1.9984999895095825, 1.5467000007629395, 1.666100025177002, 1.0017999410629272, 1.3839000463485718, 0.504800021648407, 1.1318000555038452, 0.14380000531673431, -0.8436999917030334, 0.9638000130653381, 0.30799999833106995, 1.9321999549865723]}, \"token.table\": {\"Topic\": [4, 4, 6, 3, 3, 2, 2, 4, 6, 1, 4, 2, 1, 4, 3, 5, 3, 8, 3, 2, 1, 3, 1, 3, 7, 6, 1, 2, 3, 3, 1, 1, 2, 5, 6, 3, 1, 2, 4, 5, 3, 2, 4, 6, 1, 7, 3, 5, 2, 8, 3, 5, 3, 4, 3, 3, 7, 6, 1, 1, 2, 3, 4, 5, 2, 5, 1, 4, 3, 7, 1, 2, 4, 6, 7, 3, 6, 8, 4, 4, 4, 6, 4, 1, 4, 5, 1, 4, 4, 2, 7, 2, 1, 4, 3, 2, 5, 6, 1, 3, 1, 3, 3, 4, 2, 1, 3, 2, 1, 6, 4, 2, 4, 6, 4, 1, 5, 1, 6, 1, 2, 1, 4, 1, 3, 4, 7, 4, 1, 3, 4, 7, 4, 4, 2, 4, 5, 2, 5, 2, 1, 2, 5, 2, 3, 1, 1, 3, 7, 4, 6, 1, 1, 6, 8, 4, 3, 4, 8, 2, 5, 3, 7, 8, 5, 8, 8, 7, 2, 5, 1, 3, 2, 3, 1, 6, 3, 7, 2, 5, 6, 1, 1, 1, 3, 1, 7, 8, 2, 2, 1, 3, 4, 7, 3, 3, 7, 6, 2, 5, 8, 3, 2, 6, 1, 3, 7, 5, 1, 2, 5, 4, 4, 6, 5, 1, 2, 5, 3, 3, 2, 1, 2, 3, 5, 5, 6, 3, 3, 6, 7, 3, 3, 1, 3, 3, 1, 3, 1, 2, 5, 2, 3, 1, 6, 3, 1, 2, 4, 3, 1, 3, 2, 3, 6, 1, 2, 4, 5, 1, 7, 5, 8, 1, 6, 1, 4, 6, 1, 4, 6, 5, 2, 6, 8, 4, 6, 3, 3, 4, 1, 3, 1, 2, 5, 4, 3, 1, 4, 2, 5, 1, 4, 4, 2, 5, 6, 2, 3, 4, 6, 1, 3, 4, 7, 4, 6, 6, 7, 2, 5, 1, 3, 4, 7, 2, 8, 1, 3, 4, 6, 3, 2, 5, 4, 5, 6, 3, 3, 2, 3, 4, 4, 1, 3, 1, 4, 1, 2, 1, 3, 4, 7, 3, 7, 2, 6, 4, 1, 4, 1, 8, 4, 6, 4, 1, 2, 4, 2, 4, 7, 2, 4, 6, 3, 1, 4, 3, 1, 1, 1, 3, 4, 7, 1, 4, 1, 2, 3, 5, 7, 3, 4, 4, 2, 1, 2, 5, 8], \"Freq\": [0.5896957516670227, 0.6957295536994934, 0.7301175594329834, 0.6769405007362366, 0.6769405007362366, 0.8446664214134216, 0.40071728825569153, 0.40071728825569153, 0.40071728825569153, 0.979795515537262, 0.6355166435241699, 0.7026026844978333, 0.9772937297821045, 0.7241788506507874, 0.2522672712802887, 0.7568017840385437, 0.6769405007362366, 0.8718797564506531, 0.6769405007362366, 0.9554002285003662, 0.6283515095710754, 0.3141757547855377, 0.6961230635643005, 0.20883691310882568, 0.0696123018860817, 0.8144445419311523, 0.29286327958106995, 0.6955503225326538, 0.6769405007362366, 0.6769405007362366, 0.9668638706207275, 0.9836918711662292, 0.844903826713562, 0.8711472153663635, 0.07259559631347656, 0.6769405007362366, 0.7847115397453308, 0.0636252611875534, 0.021208420395851135, 0.10604210197925568, 0.9250078201293945, 0.2747049629688263, 0.5494099259376526, 0.2747049629688263, 0.9666321277618408, 0.9077807068824768, 0.9250114560127258, 0.9274773001670837, 0.4473818242549896, 0.4473818242549896, 0.6769405007362366, 0.941480815410614, 0.9144326448440552, 0.43066197633743286, 0.93527752161026, 0.8582464456558228, 0.2145616114139557, 0.7301173806190491, 0.9887492060661316, 0.7090209722518921, 0.06917277723550797, 0.06917277723550797, 0.051879581063985825, 0.08646596968173981, 0.12397739291191101, 0.7438643574714661, 0.8456529378890991, 0.1537550836801529, 0.2730352282524109, 0.6825881004333496, 0.9907801151275635, 0.6264685988426208, 0.6355438232421875, 0.6284582018852234, 0.9021780490875244, 0.6769405007362366, 0.620612382888794, 0.6300135850906372, 0.5516237616539001, 0.6356258392333984, 0.3693675994873047, 0.3693675994873047, 0.7227015495300293, 0.9719486832618713, 0.05717345327138901, 0.9024454355239868, 0.7437680959701538, 0.3718840479850769, 0.6354432702064514, 0.844476580619812, 0.8317389488220215, 0.8444736003875732, 0.6669954061508179, 0.33349770307540894, 0.6769405007362366, 0.14283239841461182, 0.8569943904876709, 0.5469266772270203, 0.3389788568019867, 0.5932130217552185, 0.9971466064453125, 0.6769405007362366, 0.7935449481010437, 0.19838623702526093, 0.8442423343658447, 0.6655488014221191, 0.33277440071105957, 0.844579815864563, 0.987993061542511, 0.7300926446914673, 0.6354253888130188, 0.9755603075027466, 0.556850016117096, 0.278425008058548, 0.6357291340827942, 0.6413004398345947, 0.3498002290725708, 0.9308577179908752, 0.06205718219280243, 0.9833816289901733, 0.8443815112113953, 0.9236106276512146, 0.07696755230426788, 0.32412150502204895, 0.32412150502204895, 0.10804050415754318, 0.21608100831508636, 0.5889597535133362, 0.8536657094955444, 0.07317134737968445, 0.02439044788479805, 0.0487808957695961, 0.6394103169441223, 0.49989327788352966, 0.47688964009284973, 0.47688964009284973, 0.9274773001670837, 0.14366813004016876, 0.862008810043335, 0.9758915901184082, 0.47019362449645996, 0.1343410313129425, 0.33585259318351746, 0.8525539636611938, 0.12788309156894684, 0.9644516110420227, 0.9805554151535034, 0.5747022032737732, 0.3831348121166229, 0.822198748588562, 0.6283965706825256, 0.9577152729034424, 0.9888762831687927, 0.7311121821403503, 0.9790850281715393, 0.42134442925453186, 0.6769405007362366, 0.6083993911743164, 0.6750342845916748, 0.14086751639842987, 0.7043375968933105, 0.5343069434165955, 0.17810232937335968, 0.17810232937335968, 0.9274773001670837, 0.6907980442047119, 0.6759390234947205, 0.9079263806343079, 0.1390267163515091, 0.834160327911377, 0.44025880098342896, 0.5870117545127869, 0.8444722294807434, 0.6769405007362366, 0.6537705659866333, 0.21792353689670563, 0.6769405007362366, 0.8963725566864014, 0.20329025387763977, 0.7453975677490234, 0.7299656271934509, 0.9969703555107117, 0.9452230334281921, 0.3174807131290436, 0.6349614262580872, 0.9271014332771301, 0.8792080879211426, 0.09768978506326675, 0.8444953560829163, 0.9758914113044739, 0.5362997651100159, 0.2145199179649353, 0.10725995898246765, 0.10725995898246765, 0.9249269366264343, 0.6769405007362366, 0.9071994423866272, 0.8691624402999878, 0.7592840194702148, 0.1898210048675537, 0.7308926582336426, 0.92462557554245, 0.5064492225646973, 0.5064492225646973, 0.7260545492172241, 0.18151363730430603, 0.060504548251628876, 0.9274773001670837, 0.6401184797286987, 0.12002221494913101, 0.20003701746463776, 0.39015835523605347, 0.3446989357471466, 0.3446989357471466, 0.9274773001670837, 0.38363417983055115, 0.13701219856739044, 0.46584150195121765, 0.6769405007362366, 0.6769405007362366, 0.9755571484565735, 0.35072678327560425, 0.21920423209667206, 0.17536339163780212, 0.21920423209667206, 0.9274773001670837, 0.730501115322113, 0.92503422498703, 0.49786660075187683, 0.1659555286169052, 0.1659555286169052, 0.6769405007362366, 0.6769405007362366, 0.9867717027664185, 0.9245542287826538, 0.8734689354896545, 0.4761379659175873, 0.4761379659175873, 0.41338053345680237, 0.2543880343437195, 0.31798502802848816, 0.5886350870132446, 0.6769405007362366, 0.6224552392959595, 0.31122761964797974, 0.6769405007362366, 0.9750366806983948, 0.9630414247512817, 0.4986593425273895, 0.6769405007362366, 0.5748459696769714, 0.45987680554389954, 0.5693854093551636, 0.6769405007362366, 0.6714193820953369, 0.6424606442451477, 0.11337541043758392, 0.03779180347919464, 0.22675082087516785, 0.9597731828689575, 0.9408432841300964, 0.9325953125953674, 0.8712770342826843, 0.9902983903884888, 0.9743345975875854, 0.7811761498451233, 0.11159659177064896, 0.7300950884819031, 0.9552266001701355, 0.8015926480293274, 0.7300923466682434, 0.9274773001670837, 0.950990617275238, 0.6372491121292114, 0.3186245560646057, 0.5918957591056824, 0.7298707962036133, 0.6769405007362366, 0.6769405007362366, 0.4274832010269165, 1.0002318620681763, 0.9354499578475952, 0.9694258570671082, 0.1430618315935135, 0.8583710193634033, 0.6215596795082092, 0.6769405007362366, 0.9372513890266418, 0.07209625840187073, 0.7322961091995239, 0.9274773001670837, 0.6484624147415161, 0.32423120737075806, 0.49868905544281006, 0.4738709330558777, 0.4738709330558777, 0.09477418661117554, 0.8333753347396851, 0.8479366898536682, 0.5540802478790283, 0.5540802478790283, 0.7865504026412964, 0.11798255890607834, 0.03932752087712288, 0.03932752087712288, 0.5543351769447327, 0.5543351769447327, 0.7300573587417603, 0.9073328971862793, 0.4167516827583313, 0.5209395885467529, 0.8991081714630127, 0.052888717502355576, 0.017629573121666908, 0.017629573121666908, 0.5710564255714417, 0.5710564255714417, 0.9110190868377686, 0.056062713265419006, 0.028031356632709503, 0.6223365664482117, 0.9270384907722473, 0.13272365927696228, 0.6636183261871338, 0.4304066002368927, 0.856257438659668, 0.07784158736467361, 0.6769405007362366, 0.6769405007362366, 0.8452688455581665, 0.7905914187431335, 0.1976478546857834, 0.7210451364517212, 0.4289957582950592, 0.5719943046569824, 0.8069638609886169, 0.10087048262357712, 0.9891926646232605, 0.7025583386421204, 0.7545348405838013, 0.11318022757768631, 0.037726741284132004, 0.11318022757768631, 0.8472055792808533, 0.21180139482021332, 0.8448234796524048, 0.6651520729064941, 0.7350672483444214, 0.8967114686965942, 0.5071176290512085, 0.9895540475845337, 0.8718323707580566, 0.8192805051803589, 0.7301128506660461, 0.6153042912483215, 0.735529899597168, 0.7593012452125549, 0.6354736089706421, 0.3667650818824768, 0.3667650818824768, 0.3667650818824768, 0.462910920381546, 0.154303640127182, 0.308607280254364, 0.9327026009559631, 0.8405715227127075, 0.1681143045425415, 0.8953681588172913, 0.9768649935722351, 0.997122585773468, 0.9666652083396912, 0.7540753483772278, 0.10772504657506943, 0.10772504657506943, 0.8968265652656555, 0.05605166032910347, 0.2447475641965866, 0.30593445897102356, 0.30593445897102356, 0.1223737820982933, 0.030593445524573326, 0.9353945255279541, 0.6354110836982727, 0.6355475783348083, 0.8445355892181396, 0.6920693516731262, 0.04325433447957039, 0.25952601432800293, 0.8718308210372925], \"Term\": [\"abroad\", \"accommodation\", \"accomodation\", \"addition\", \"advise\", \"aged\", \"air\", \"air\", \"air\", \"also\", \"amenity\", \"ant\", \"area\", \"arrival\", \"arrive\", \"arrive\", \"aware\", \"awful\", \"baclony\", \"balcony\", \"basic\", \"basic\", \"bathroom\", \"bathroom\", \"bathroom\", \"bean\", \"bed\", \"bed\", \"begin\", \"behalf\", \"big\", \"bit\", \"bite\", \"book\", \"book\", \"bottled\", \"breakfast\", \"breakfast\", \"breakfast\", \"breakfast\", \"budget\", \"bus\", \"bus\", \"bus\", \"business\", \"buy\", \"call\", \"canopy\", \"car\", \"car\", \"carry\", \"case\", \"cereal\", \"change\", \"channel\", \"cheese\", \"cheese\", \"child\", \"city\", \"clean\", \"clean\", \"clean\", \"clean\", \"clean\", \"close\", \"close\", \"coffee\", \"coffee\", \"cold\", \"cold\", \"comfortable\", \"compare\", \"complimentary\", \"conditioning\", \"conference\", \"converse\", \"corner\", \"couple\", \"cross\", \"customer\", \"cypriot\", \"cypriot\", \"daily\", \"day\", \"day\", \"decent\", \"delicious\", \"delicious\", \"deliver\", \"description\", \"dirty\", \"dot\", \"downtown\", \"downtown\", \"drinking\", \"early\", \"early\", \"efficient\", \"egg\", \"egg\", \"enough\", \"entity\", \"especially\", \"especially\", \"euros\", \"even\", \"even\", \"everywhere\", \"excellent\", \"executive\", \"explore\", \"face\", \"facility\", \"facility\", \"fancy\", \"feel\", \"feel\", \"find\", \"find\", \"first\", \"floor\", \"free\", \"free\", \"fresh\", \"fresh\", \"fresh\", \"fresh\", \"friendliness\", \"friendly\", \"friendly\", \"friendly\", \"friendly\", \"front\", \"fruit\", \"full\", \"full\", \"fully\", \"furniture\", \"furniture\", \"generally\", \"get\", \"get\", \"get\", \"give\", \"give\", \"go\", \"great\", \"greek\", \"greek\", \"group\", \"hand\", \"help\", \"helpful\", \"hesitate\", \"high\", \"home\", \"homely\", \"hospitality\", \"house\", \"incl\", \"incl\", \"include\", \"include\", \"include\", \"inexpensive\", \"information\", \"interesting\", \"intimate\", \"late\", \"late\", \"less\", \"less\", \"level\", \"life\", \"like\", \"like\", \"linen\", \"list\", \"little\", \"little\", \"live\", \"location\", \"look\", \"love\", \"love\", \"lovely\", \"lunch\", \"lunch\", \"main\", \"major\", \"make\", \"make\", \"make\", \"make\", \"manage\", \"market\", \"meat\", \"minute\", \"money\", \"money\", \"morning\", \"mostly\", \"move\", \"move\", \"much\", \"much\", \"much\", \"muggy\", \"need\", \"need\", \"need\", \"neighborhood\", \"new\", \"new\", \"newly\", \"night\", \"night\", \"night\", \"noon\", \"oblige\", \"office\", \"old\", \"old\", \"old\", \"old\", \"online\", \"operate\", \"option\", \"order\", \"order\", \"order\", \"organiser\", \"organization\", \"part\", \"particularly\", \"pass\", \"people\", \"people\", \"place\", \"place\", \"place\", \"polite\", \"pre\", \"prepare\", \"prepare\", \"prepared\", \"price\", \"probably\", \"professional\", \"prospective\", \"provide\", \"provide\", \"put\", \"quantity\", \"quick\", \"quiet\", \"quiet\", \"quiet\", \"quiet\", \"quite\", \"rate\", \"read\", \"ready\", \"really\", \"receive\", \"reception\", \"reception\", \"receptionist\", \"recommend\", \"relax\", \"reliable\", \"renovate\", \"reservation\", \"residential\", \"residential\", \"return\", \"review\", \"salad\", \"sandwich\", \"satisfy\", \"say\", \"scramble\", \"see\", \"seem\", \"seem\", \"send\", \"separately\", \"service\", \"service\", \"shampoo\", \"shape\", \"sheet\", \"sheet\", \"side\", \"simple\", \"simple\", \"simple\", \"single\", \"sit\", \"slightly\", \"slightly\", \"small\", \"small\", \"small\", \"small\", \"snack\", \"snack\", \"solid\", \"space\", \"spend\", \"spend\", \"staff\", \"staff\", \"staff\", \"staff\", \"standard\", \"standard\", \"stay\", \"stay\", \"stay\", \"stop\", \"store\", \"street\", \"street\", \"student\", \"suite\", \"suite\", \"sunnyside\", \"supply\", \"surely\", \"take\", \"take\", \"tea\", \"tell\", \"tell\", \"thank\", \"thank\", \"thing\", \"think\", \"time\", \"time\", \"time\", \"time\", \"tiny\", \"tiny\", \"tired\", \"toast\", \"tour\", \"tourist\", \"towel\", \"town\", \"training\", \"travel\", \"treasure\", \"treat\", \"try\", \"understand\", \"upgrade\", \"use\", \"use\", \"use\", \"value\", \"value\", \"value\", \"view\", \"visit\", \"visit\", \"visitor\", \"walk\", \"want\", \"warm\", \"water\", \"water\", \"water\", \"welcome\", \"welcome\", \"well\", \"well\", \"well\", \"well\", \"well\", \"whole\", \"wife\", \"winter\", \"woman\", \"work\", \"work\", \"work\", \"year\"]}, \"R\": 30, \"lambda.step\": 0.01, \"plot.opts\": {\"xlab\": \"PC1\", \"ylab\": \"PC2\"}, \"topic.order\": [5, 8, 6, 2, 3, 4, 1, 7]};\n",
       "\n",
       "function LDAvis_load_lib(url, callback){\n",
       "  var s = document.createElement('script');\n",
       "  s.src = url;\n",
       "  s.async = true;\n",
       "  s.onreadystatechange = s.onload = callback;\n",
       "  s.onerror = function(){console.warn(\"failed to load library \" + url);};\n",
       "  document.getElementsByTagName(\"head\")[0].appendChild(s);\n",
       "}\n",
       "\n",
       "if(typeof(LDAvis) !== \"undefined\"){\n",
       "   // already loaded: just create the visualization\n",
       "   !function(LDAvis){\n",
       "       new LDAvis(\"#\" + \"ldavis_el212422546957722329547471828\", ldavis_el212422546957722329547471828_data);\n",
       "   }(LDAvis);\n",
       "}else if(typeof define === \"function\" && define.amd){\n",
       "   // require.js is available: use it to load d3/LDAvis\n",
       "   require.config({paths: {d3: \"https://cdnjs.cloudflare.com/ajax/libs/d3/3.5.5/d3.min\"}});\n",
       "   require([\"d3\"], function(d3){\n",
       "      window.d3 = d3;\n",
       "      LDAvis_load_lib(\"https://cdn.rawgit.com/bmabey/pyLDAvis/files/ldavis.v1.0.0.js\", function(){\n",
       "        new LDAvis(\"#\" + \"ldavis_el212422546957722329547471828\", ldavis_el212422546957722329547471828_data);\n",
       "      });\n",
       "    });\n",
       "}else{\n",
       "    // require.js not available: dynamically load d3 & LDAvis\n",
       "    LDAvis_load_lib(\"https://cdnjs.cloudflare.com/ajax/libs/d3/3.5.5/d3.min.js\", function(){\n",
       "         LDAvis_load_lib(\"https://cdn.rawgit.com/bmabey/pyLDAvis/files/ldavis.v1.0.0.js\", function(){\n",
       "                 new LDAvis(\"#\" + \"ldavis_el212422546957722329547471828\", ldavis_el212422546957722329547471828_data);\n",
       "            })\n",
       "         });\n",
       "}\n",
       "</script>"
      ],
      "text/plain": [
       "PreparedData(topic_coordinates=              x         y  topics  cluster       Freq\n",
       "topic                                                \n",
       "4     -0.246497  0.147446       1        1  54.906853\n",
       "7      0.052747  0.255475       2        1   9.953705\n",
       "5      0.250294 -0.286135       3        1   7.916479\n",
       "1     -0.150668 -0.001597       4        1   7.161853\n",
       "2      0.308838  0.210410       5        1   6.968753\n",
       "3     -0.023405  0.018349       6        1   5.378743\n",
       "0     -0.126901 -0.275216       7        1   4.654952\n",
       "6     -0.064409 -0.068731       8        1   3.058670, topic_info=         Term       Freq      Total Category  logprob  loglift\n",
       "944   receive  25.000000  25.000000  Default  30.0000  30.0000\n",
       "38      night  36.000000  36.000000  Default  29.0000  29.0000\n",
       "838      high  17.000000  17.000000  Default  28.0000  28.0000\n",
       "618      rate  19.000000  19.000000  Default  27.0000  27.0000\n",
       "59        bed  27.000000  27.000000  Default  26.0000  26.0000\n",
       "..        ...        ...        ...      ...      ...      ...\n",
       "319      list   0.354608  10.040468   Topic8  -5.8069   0.1438\n",
       "124    really   0.305558  23.225323   Topic8  -5.9558  -0.8437\n",
       "315  facility   0.288012   3.591631   Topic8  -6.0149   0.9638\n",
       "321    minute   0.287296   6.903197   Topic8  -6.0174   0.3080\n",
       "326      tour   0.287295   1.360420   Topic8  -6.0174   1.9322\n",
       "\n",
       "[397 rows x 6 columns], token_table=      Topic      Freq           Term\n",
       "term                                \n",
       "435       4  0.589696         abroad\n",
       "152       4  0.695730  accommodation\n",
       "421       6  0.730118   accomodation\n",
       "1100      3  0.676941       addition\n",
       "1101      3  0.676941         advise\n",
       "...     ...       ...            ...\n",
       "277       2  0.844536          woman\n",
       "44        1  0.692069           work\n",
       "44        2  0.043254           work\n",
       "44        5  0.259526           work\n",
       "570       8  0.871831           year\n",
       "\n",
       "[389 rows x 3 columns], R=30, lambda_step=0.01, plot_opts={'xlab': 'PC1', 'ylab': 'PC2'}, topic_order=[5, 8, 6, 2, 3, 4, 1, 7])"
      ]
     },
     "metadata": {},
     "output_type": "display_data"
    }
   ],
   "source": [
    "plot_model(tuned_pos_8, plot ='topic_model', save=True)"
   ]
  },
  {
   "cell_type": "markdown",
   "metadata": {},
   "source": [
    "# Negative reviews"
   ]
  },
  {
   "cell_type": "code",
   "execution_count": 15,
   "metadata": {},
   "outputs": [
    {
     "data": {
      "text/html": [
       "<div>\n",
       "<style scoped>\n",
       "    .dataframe tbody tr th:only-of-type {\n",
       "        vertical-align: middle;\n",
       "    }\n",
       "\n",
       "    .dataframe tbody tr th {\n",
       "        vertical-align: top;\n",
       "    }\n",
       "\n",
       "    .dataframe thead th {\n",
       "        text-align: right;\n",
       "    }\n",
       "</style>\n",
       "<table border=\"1\" class=\"dataframe\">\n",
       "  <thead>\n",
       "    <tr style=\"text-align: right;\">\n",
       "      <th></th>\n",
       "      <th>Unnamed: 0</th>\n",
       "      <th>r_points</th>\n",
       "      <th>r_text</th>\n",
       "      <th>place</th>\n",
       "      <th>scores</th>\n",
       "      <th>compound</th>\n",
       "      <th>score</th>\n",
       "    </tr>\n",
       "  </thead>\n",
       "  <tbody>\n",
       "    <tr>\n",
       "      <th>0</th>\n",
       "      <td>17</td>\n",
       "      <td>30</td>\n",
       "      <td>Let's start from the pro:- slighltly cheaper t...</td>\n",
       "      <td>Averof Hotel</td>\n",
       "      <td>{'neg': 0.133, 'neu': 0.725, 'pos': 0.142, 'co...</td>\n",
       "      <td>-0.1432</td>\n",
       "      <td>neg</td>\n",
       "    </tr>\n",
       "    <tr>\n",
       "      <th>1</th>\n",
       "      <td>32</td>\n",
       "      <td>10</td>\n",
       "      <td>Booked for location and family run Cypriot fri...</td>\n",
       "      <td>Averof Hotel</td>\n",
       "      <td>{'neg': 0.14, 'neu': 0.774, 'pos': 0.085, 'com...</td>\n",
       "      <td>-0.7354</td>\n",
       "      <td>neg</td>\n",
       "    </tr>\n",
       "    <tr>\n",
       "      <th>2</th>\n",
       "      <td>36</td>\n",
       "      <td>20</td>\n",
       "      <td>I stayed at the Averof Hotel with my father du...</td>\n",
       "      <td>Averof Hotel</td>\n",
       "      <td>{'neg': 0.172, 'neu': 0.766, 'pos': 0.062, 'co...</td>\n",
       "      <td>-0.9792</td>\n",
       "      <td>neg</td>\n",
       "    </tr>\n",
       "    <tr>\n",
       "      <th>3</th>\n",
       "      <td>39</td>\n",
       "      <td>10</td>\n",
       "      <td>This hotel was the worst \"hotel\" ever imaginab...</td>\n",
       "      <td>Averof Hotel</td>\n",
       "      <td>{'neg': 0.112, 'neu': 0.767, 'pos': 0.12, 'com...</td>\n",
       "      <td>-0.1451</td>\n",
       "      <td>neg</td>\n",
       "    </tr>\n",
       "    <tr>\n",
       "      <th>4</th>\n",
       "      <td>2</td>\n",
       "      <td>10</td>\n",
       "      <td>Hotel is well located for reaching the tourist...</td>\n",
       "      <td>Crown Inn Hotel</td>\n",
       "      <td>{'neg': 0.12, 'neu': 0.821, 'pos': 0.059, 'com...</td>\n",
       "      <td>-0.8471</td>\n",
       "      <td>neg</td>\n",
       "    </tr>\n",
       "    <tr>\n",
       "      <th>5</th>\n",
       "      <td>5</td>\n",
       "      <td>30</td>\n",
       "      <td>This was my third time here and it’s gone down...</td>\n",
       "      <td>Crown Inn Hotel</td>\n",
       "      <td>{'neg': 0.167, 'neu': 0.738, 'pos': 0.095, 'co...</td>\n",
       "      <td>-0.7598</td>\n",
       "      <td>neg</td>\n",
       "    </tr>\n",
       "    <tr>\n",
       "      <th>6</th>\n",
       "      <td>8</td>\n",
       "      <td>20</td>\n",
       "      <td>The worst bed I have ever slept on, you could ...</td>\n",
       "      <td>Crown Inn Hotel</td>\n",
       "      <td>{'neg': 0.223, 'neu': 0.658, 'pos': 0.12, 'com...</td>\n",
       "      <td>-0.6258</td>\n",
       "      <td>neg</td>\n",
       "    </tr>\n",
       "    <tr>\n",
       "      <th>7</th>\n",
       "      <td>17</td>\n",
       "      <td>30</td>\n",
       "      <td>A basic hotel with a small bathtub that would ...</td>\n",
       "      <td>Crown Inn Hotel</td>\n",
       "      <td>{'neg': 0.207, 'neu': 0.728, 'pos': 0.065, 'co...</td>\n",
       "      <td>-0.7391</td>\n",
       "      <td>neg</td>\n",
       "    </tr>\n",
       "    <tr>\n",
       "      <th>8</th>\n",
       "      <td>25</td>\n",
       "      <td>40</td>\n",
       "      <td>My wife and I stayed in this hotel for 12 nigh...</td>\n",
       "      <td>Crown Inn Hotel</td>\n",
       "      <td>{'neg': 0.126, 'neu': 0.782, 'pos': 0.093, 'co...</td>\n",
       "      <td>-0.3485</td>\n",
       "      <td>neg</td>\n",
       "    </tr>\n",
       "    <tr>\n",
       "      <th>9</th>\n",
       "      <td>39</td>\n",
       "      <td>20</td>\n",
       "      <td>The reception staff Ms.Sophie and Mr.Harris, n...</td>\n",
       "      <td>Crown Inn Hotel</td>\n",
       "      <td>{'neg': 0.126, 'neu': 0.769, 'pos': 0.105, 'co...</td>\n",
       "      <td>-0.2500</td>\n",
       "      <td>neg</td>\n",
       "    </tr>\n",
       "    <tr>\n",
       "      <th>10</th>\n",
       "      <td>63</td>\n",
       "      <td>30</td>\n",
       "      <td>Hotel outside the city center in the quiet nei...</td>\n",
       "      <td>Crown Inn Hotel</td>\n",
       "      <td>{'neg': 0.109, 'neu': 0.804, 'pos': 0.087, 'co...</td>\n",
       "      <td>-0.3096</td>\n",
       "      <td>neg</td>\n",
       "    </tr>\n",
       "    <tr>\n",
       "      <th>11</th>\n",
       "      <td>64</td>\n",
       "      <td>10</td>\n",
       "      <td>I was placed in this hotel, as most others see...</td>\n",
       "      <td>Crown Inn Hotel</td>\n",
       "      <td>{'neg': 0.087, 'neu': 0.848, 'pos': 0.065, 'co...</td>\n",
       "      <td>-0.5101</td>\n",
       "      <td>neg</td>\n",
       "    </tr>\n",
       "  </tbody>\n",
       "</table>\n",
       "</div>"
      ],
      "text/plain": [
       "    Unnamed: 0  r_points                                             r_text  \\\n",
       "0           17        30  Let's start from the pro:- slighltly cheaper t...   \n",
       "1           32        10  Booked for location and family run Cypriot fri...   \n",
       "2           36        20  I stayed at the Averof Hotel with my father du...   \n",
       "3           39        10  This hotel was the worst \"hotel\" ever imaginab...   \n",
       "4            2        10  Hotel is well located for reaching the tourist...   \n",
       "5            5        30  This was my third time here and it’s gone down...   \n",
       "6            8        20  The worst bed I have ever slept on, you could ...   \n",
       "7           17        30  A basic hotel with a small bathtub that would ...   \n",
       "8           25        40  My wife and I stayed in this hotel for 12 nigh...   \n",
       "9           39        20  The reception staff Ms.Sophie and Mr.Harris, n...   \n",
       "10          63        30  Hotel outside the city center in the quiet nei...   \n",
       "11          64        10  I was placed in this hotel, as most others see...   \n",
       "\n",
       "              place                                             scores  \\\n",
       "0      Averof Hotel  {'neg': 0.133, 'neu': 0.725, 'pos': 0.142, 'co...   \n",
       "1      Averof Hotel  {'neg': 0.14, 'neu': 0.774, 'pos': 0.085, 'com...   \n",
       "2      Averof Hotel  {'neg': 0.172, 'neu': 0.766, 'pos': 0.062, 'co...   \n",
       "3      Averof Hotel  {'neg': 0.112, 'neu': 0.767, 'pos': 0.12, 'com...   \n",
       "4   Crown Inn Hotel  {'neg': 0.12, 'neu': 0.821, 'pos': 0.059, 'com...   \n",
       "5   Crown Inn Hotel  {'neg': 0.167, 'neu': 0.738, 'pos': 0.095, 'co...   \n",
       "6   Crown Inn Hotel  {'neg': 0.223, 'neu': 0.658, 'pos': 0.12, 'com...   \n",
       "7   Crown Inn Hotel  {'neg': 0.207, 'neu': 0.728, 'pos': 0.065, 'co...   \n",
       "8   Crown Inn Hotel  {'neg': 0.126, 'neu': 0.782, 'pos': 0.093, 'co...   \n",
       "9   Crown Inn Hotel  {'neg': 0.126, 'neu': 0.769, 'pos': 0.105, 'co...   \n",
       "10  Crown Inn Hotel  {'neg': 0.109, 'neu': 0.804, 'pos': 0.087, 'co...   \n",
       "11  Crown Inn Hotel  {'neg': 0.087, 'neu': 0.848, 'pos': 0.065, 'co...   \n",
       "\n",
       "    compound score  \n",
       "0    -0.1432   neg  \n",
       "1    -0.7354   neg  \n",
       "2    -0.9792   neg  \n",
       "3    -0.1451   neg  \n",
       "4    -0.8471   neg  \n",
       "5    -0.7598   neg  \n",
       "6    -0.6258   neg  \n",
       "7    -0.7391   neg  \n",
       "8    -0.3485   neg  \n",
       "9    -0.2500   neg  \n",
       "10   -0.3096   neg  \n",
       "11   -0.5101   neg  "
      ]
     },
     "execution_count": 15,
     "metadata": {},
     "output_type": "execute_result"
    }
   ],
   "source": [
    "neg_review = pd.read_csv(r'C:\\Users\\Dell\\Desktop\\sentiment_cluster3_neg.csv')\n",
    "neg_review"
   ]
  },
  {
   "cell_type": "code",
   "execution_count": 16,
   "metadata": {},
   "outputs": [
    {
     "data": {
      "text/html": [
       "<style  type=\"text/css\" >\n",
       "</style><table id=\"T_635ae2d0_319f_11eb_a2e2_c48e8ff9d2e0\" ><thead>    <tr>        <th class=\"col_heading level0 col0\" >Description</th>        <th class=\"col_heading level0 col1\" >Value</th>    </tr></thead><tbody>\n",
       "                <tr>\n",
       "                                <td id=\"T_635ae2d0_319f_11eb_a2e2_c48e8ff9d2e0row0_col0\" class=\"data row0 col0\" >session_id</td>\n",
       "                        <td id=\"T_635ae2d0_319f_11eb_a2e2_c48e8ff9d2e0row0_col1\" class=\"data row0 col1\" >3526</td>\n",
       "            </tr>\n",
       "            <tr>\n",
       "                                <td id=\"T_635ae2d0_319f_11eb_a2e2_c48e8ff9d2e0row1_col0\" class=\"data row1 col0\" >Documents</td>\n",
       "                        <td id=\"T_635ae2d0_319f_11eb_a2e2_c48e8ff9d2e0row1_col1\" class=\"data row1 col1\" >12</td>\n",
       "            </tr>\n",
       "            <tr>\n",
       "                                <td id=\"T_635ae2d0_319f_11eb_a2e2_c48e8ff9d2e0row2_col0\" class=\"data row2 col0\" >Vocab Size</td>\n",
       "                        <td id=\"T_635ae2d0_319f_11eb_a2e2_c48e8ff9d2e0row2_col1\" class=\"data row2 col1\" >332</td>\n",
       "            </tr>\n",
       "            <tr>\n",
       "                                <td id=\"T_635ae2d0_319f_11eb_a2e2_c48e8ff9d2e0row3_col0\" class=\"data row3 col0\" >Custom Stopwords</td>\n",
       "                        <td id=\"T_635ae2d0_319f_11eb_a2e2_c48e8ff9d2e0row3_col1\" class=\"data row3 col1\" >True</td>\n",
       "            </tr>\n",
       "    </tbody></table>"
      ],
      "text/plain": [
       "<pandas.io.formats.style.Styler at 0x20cf573a488>"
      ]
     },
     "metadata": {},
     "output_type": "display_data"
    }
   ],
   "source": [
    "exp_nlp_neg = setup(data = neg_review, target = 'r_text',\n",
    "                custom_stopwords = [ 'hotel', 'room', 'nice', 'good','restaurant', 'food','bad'])"
   ]
  },
  {
   "cell_type": "code",
   "execution_count": 17,
   "metadata": {},
   "outputs": [
    {
     "name": "stdout",
     "output_type": "stream",
     "text": [
      "LdaModel(num_terms=332, num_topics=4, decay=0.5, chunksize=100)\n"
     ]
    }
   ],
   "source": [
    "#create an LDA model\n",
    "lda_neg_custom = create_model('lda')\n",
    "print(lda_neg_custom)"
   ]
  },
  {
   "cell_type": "code",
   "execution_count": 18,
   "metadata": {},
   "outputs": [],
   "source": [
    "apply_lda_neg = assign_model(lda_neg_custom)"
   ]
  },
  {
   "cell_type": "code",
   "execution_count": 19,
   "metadata": {},
   "outputs": [
    {
     "data": {
      "application/vnd.jupyter.widget-view+json": {
       "model_id": "2da615188998432bbf7b285d03b9ced7",
       "version_major": 2,
       "version_minor": 0
      },
      "text/plain": [
       "interactive(children=(ToggleButtons(description='Plot Type:', icons=('',), options=(('Frequency Plot', 'freque…"
      ]
     },
     "metadata": {},
     "output_type": "display_data"
    }
   ],
   "source": [
    "evaluate_model(lda_neg_custom)"
   ]
  },
  {
   "cell_type": "code",
   "execution_count": 24,
   "metadata": {},
   "outputs": [
    {
     "data": {
      "text/html": [
       "        <script type=\"text/javascript\">\n",
       "        window.PlotlyConfig = {MathJaxConfig: 'local'};\n",
       "        if (window.MathJax) {MathJax.Hub.Config({SVG: {font: \"STIX-Web\"}});}\n",
       "        if (typeof require !== 'undefined') {\n",
       "        require.undef(\"plotly\");\n",
       "        requirejs.config({\n",
       "            paths: {\n",
       "                'plotly': ['https://cdn.plot.ly/plotly-latest.min']\n",
       "            }\n",
       "        });\n",
       "        require(['plotly'], function(Plotly) {\n",
       "            window._Plotly = Plotly;\n",
       "        });\n",
       "        }\n",
       "        </script>\n",
       "        "
      ]
     },
     "metadata": {},
     "output_type": "display_data"
    },
    {
     "data": {
      "text/html": [
       "\n",
       "<link rel=\"stylesheet\" type=\"text/css\" href=\"https://cdn.rawgit.com/bmabey/pyLDAvis/files/ldavis.v1.0.0.css\">\n",
       "\n",
       "\n",
       "<div id=\"ldavis_el212422546585837523315642413\"></div>\n",
       "<script type=\"text/javascript\">\n",
       "\n",
       "var ldavis_el212422546585837523315642413_data = {\"mdsDat\": {\"x\": [0.10182732379609727, 0.04175986184451377, -0.10010275552939807, -0.04348443011121297], \"y\": [0.06964137456999285, -0.09275145960250519, -0.05204435462564748, 0.07515443965815984], \"topics\": [1, 2, 3, 4], \"cluster\": [1, 1, 1, 1], \"Freq\": [41.42156982421875, 24.163475036621094, 19.226713180541992, 15.188236236572266]}, \"tinfo\": {\"Term\": [\"day\", \"hang\", \"cypriot\", \"trip\", \"second\", \"work\", \"breakfast\", \"cheap\", \"special\", \"suppose\", \"well\", \"price\", \"bed\", \"even\", \"coffee\", \"problem\", \"never\", \"reception\", \"sink\", \"decoration\", \"stay\", \"poor\", \"mattress\", \"city\", \"old\", \"go\", \"shower\", \"time\", \"rise\", \"edge\", \"hard\", \"tiny\", \"state\", \"desk\", \"fridge\", \"try\", \"hardly\", \"ever\", \"door\", \"cleanliness\", \"feel\", \"full\", \"seem\", \"small\", \"bed\", \"go\", \"shower\", \"similar\", \"conditioning\", \"bathtub\", \"appreciate\", \"star\", \"compare\", \"channel\", \"limited\", \"much\", \"noisy\", \"way\", \"basic\", \"drink\", \"sleep\", \"pillow\", \"book\", \"place\", \"tv\", \"dirty\", \"breakfast\", \"air\", \"stay\", \"towel\", \"location\", \"review\", \"ok\", \"sink\", \"decoration\", \"faucet\", \"lobby\", \"bathroom\", \"space\", \"enjoy\", \"receptionist\", \"satisfactory\", \"early\", \"leave\", \"thoroughly\", \"bus\", \"sophie\", \"chat\", \"stop\", \"warning\", \"leaking\", \"variety\", \"condition\", \"low\", \"comparatively\", \"middle\", \"tube\", \"availability\", \"evening\", \"purpose\", \"additionally\", \"understand\", \"incredibly\", \"never\", \"problem\", \"reception\", \"stay\", \"day\", \"breakfast\", \"bed\", \"set\", \"recommend\", \"night\", \"even\", \"provide\", \"decorate\", \"cover\", \"parking\", \"coffee\", \"uncomfortable\", \"money\", \"bath\", \"poor\", \"city\", \"dust\", \"air\", \"mattress\", \"suppose\", \"special\", \"well\", \"price\", \"minute\", \"town\", \"furniture\", \"walk\", \"pleasant\", \"refigerator\", \"outside\", \"negative\", \"tasty\", \"moment\", \"housekeeping\", \"point\", \"train\", \"guide\", \"responsible\", \"really\", \"miss\", \"meal\", \"trainer\", \"rate\", \"fine\", \"always\", \"pro\", \"personnel\", \"morning\", \"machine\", \"work\", \"coffee\", \"breakfast\", \"even\", \"old\", \"stay\", \"staff\", \"tourist\", \"night\", \"kind\", \"break\", \"clean\", \"reception\", \"make\", \"hang\", \"cypriot\", \"trip\", \"time\", \"rise\", \"edge\", \"toaster\", \"paint\", \"shame\", \"thin\", \"socket\", \"third\", \"ceiling\", \"new\", \"laughable\", \"meet\", \"unfriendly\", \"explore\", \"miserable\", \"family\", \"park\", \"bread\", \"people\", \"plan\", \"check\", \"run\", \"hot\", \"rather\", \"car\", \"build\", \"second\", \"day\", \"cheap\", \"stay\", \"problem\", \"bed\", \"poor\", \"mattress\", \"breakfast\", \"location\", \"even\", \"never\", \"pillow\", \"night\", \"book\", \"go\", \"uncomfortable\", \"shower\", \"broken\", \"city\", \"get\"], \"Freq\": [2.0, 1.0, 1.0, 1.0, 2.0, 2.0, 5.0, 2.0, 1.0, 1.0, 1.0, 1.0, 8.0, 2.0, 2.0, 2.0, 2.0, 2.0, 1.0, 1.0, 3.0, 2.0, 1.0, 1.0, 2.0, 3.0, 3.0, 1.0, 1.0, 1.0, 2.269815444946289, 2.2685961723327637, 2.2677009105682373, 1.5723074674606323, 1.571800708770752, 1.5716620683670044, 1.5712807178497314, 1.5711733102798462, 1.570987582206726, 1.570688247680664, 1.5709360837936401, 1.570475697517395, 1.5705276727676392, 2.970449209213257, 6.46757698059082, 2.270115613937378, 2.2693965435028076, 0.8738652467727661, 0.8738067150115967, 0.8737903833389282, 0.8737900257110596, 0.8737793564796448, 0.8737576007843018, 0.8736856579780579, 0.8735950589179993, 0.8735870122909546, 0.8735756278038025, 0.8735042214393616, 0.8734642267227173, 0.8733739852905273, 1.5721635818481445, 1.571254014968872, 1.5710721015930176, 1.5716826915740967, 1.5764875411987305, 1.5754542350769043, 1.5785377025604248, 0.8787187337875366, 0.8785343170166016, 0.8769009113311768, 0.8768515586853027, 0.876839816570282, 0.8766805529594421, 1.2942965030670166, 1.2939732074737549, 0.7200021743774414, 0.7199776768684387, 0.719759464263916, 0.7195717096328735, 0.719542384147644, 0.719478964805603, 0.7194520831108093, 0.719438374042511, 0.7194454669952393, 0.7193576097488403, 0.7193117141723633, 0.7193921208381653, 0.7194081544876099, 0.71928870677948, 0.7194780111312866, 0.7193644642829895, 0.7194989323616028, 0.7193464636802673, 0.7194076776504517, 0.7194039821624756, 0.7192564010620117, 0.7194668054580688, 0.7193190455436707, 0.7192398905754089, 0.7193759679794312, 0.7193881273269653, 0.7194186449050903, 0.7193573713302612, 1.2943092584609985, 1.2927792072296143, 1.2955322265625, 1.869818091392517, 1.294428825378418, 1.298317313194275, 1.2974919080734253, 0.719391405582428, 0.7207213044166565, 0.7206010818481445, 0.7204911112785339, 0.7203899025917053, 0.7203622460365295, 0.7201732397079468, 0.7201659679412842, 0.7201443910598755, 0.7200757265090942, 0.7200550436973572, 0.7199603319168091, 0.7197636365890503, 0.7197416424751282, 0.7196303606033325, 0.7195277214050293, 0.719517707824707, 1.16798734664917, 1.1680043935775757, 1.1675128936767578, 1.16572904586792, 0.6496957540512085, 0.6496901512145996, 0.6496883034706116, 0.6496878862380981, 0.6496859192848206, 0.6496857404708862, 0.6496835947036743, 0.6495091915130615, 0.6494959592819214, 0.6494883894920349, 0.6494846343994141, 0.6494576930999756, 0.6494454145431519, 0.6494401097297668, 0.6494249105453491, 0.6494227647781372, 0.6494026780128479, 0.6493902802467346, 0.6493600606918335, 0.6485538482666016, 0.6482928991317749, 0.6482418775558472, 0.6482226252555847, 0.6482260227203369, 0.6481936573982239, 0.6481955051422119, 1.1686936616897583, 1.16828453540802, 2.2075588703155518, 1.1667263507843018, 1.1700561046600342, 0.6525745987892151, 0.6509115695953369, 0.6503019332885742, 0.6502428650856018, 0.6502119302749634, 0.6501335501670837, 0.6499493718147278, 0.6497186422348022, 0.6494847536087036, 1.0365498065948486, 1.03545343875885, 1.0343843698501587, 0.5759556889533997, 0.5759440064430237, 0.5759087204933167, 0.5759018659591675, 0.5758872032165527, 0.5758761167526245, 0.5758705735206604, 0.5758622884750366, 0.5757879018783569, 0.5757723450660706, 0.5757423043251038, 0.5754364132881165, 0.5754396915435791, 0.57540363073349, 0.5753633379936218, 0.5753165483474731, 0.5753257870674133, 0.575305163860321, 0.5753023028373718, 0.5752759575843811, 0.5752607583999634, 0.5752511024475098, 0.5752391815185547, 0.5751944780349731, 0.5751783847808838, 0.5751538276672363, 0.5751466751098633, 1.0362915992736816, 1.0372942686080933, 1.036120057106018, 0.5786063075065613, 0.5779751539230347, 0.5778070688247681, 0.5773748159408569, 0.5769919753074646, 0.5767320990562439, 0.576600193977356, 0.5765522718429565, 0.5764487385749817, 0.5764284133911133, 0.5763477087020874, 0.5763236284255981, 0.5763182044029236, 0.5762506723403931, 0.5762194991111755, 0.576144814491272, 0.576025664806366, 0.575950562953949], \"Total\": [2.0, 1.0, 1.0, 1.0, 2.0, 2.0, 5.0, 2.0, 1.0, 1.0, 1.0, 1.0, 8.0, 2.0, 2.0, 2.0, 2.0, 2.0, 1.0, 1.0, 3.0, 2.0, 1.0, 1.0, 2.0, 3.0, 3.0, 1.0, 1.0, 1.0, 2.6623406410217285, 2.6621432304382324, 2.6615796089172363, 1.963295817375183, 1.9632164239883423, 1.9631434679031372, 1.9630948305130005, 1.9631341695785522, 1.9630165100097656, 1.9627224206924438, 1.9630558490753174, 1.9627524614334106, 1.9629334211349487, 3.882058620452881, 8.476585388183594, 3.1233925819396973, 3.123304843902588, 1.264014720916748, 1.2639994621276855, 1.263995885848999, 1.26399564743042, 1.263993740081787, 1.2639875411987305, 1.2639708518981934, 1.2639487981796265, 1.2639483213424683, 1.263942003250122, 1.2639474868774414, 1.2639153003692627, 1.2639243602752686, 2.4244158267974854, 2.4239344596862793, 2.4238617420196533, 2.4831840991973877, 2.542099714279175, 2.5415573120117188, 5.6611456871032715, 2.362900495529175, 3.9795334339141846, 1.8425909280776978, 2.303459644317627, 1.842418909072876, 1.8424779176712036, 1.720937728881836, 1.7215063571929932, 1.1427373886108398, 1.1428918838500977, 1.142864465713501, 1.1428135633468628, 1.142861008644104, 1.142762303352356, 1.1427576541900635, 1.142781376838684, 1.1427958011627197, 1.1426892280578613, 1.1426798105239868, 1.1428143978118896, 1.1428585052490234, 1.1426728963851929, 1.143032193183899, 1.1428871154785156, 1.1431124210357666, 1.1428951025009155, 1.1429942846298218, 1.1429893970489502, 1.1427568197250366, 1.1431177854537964, 1.142903447151184, 1.1428143978118896, 1.143078327178955, 1.1431041955947876, 1.1431663036346436, 1.1430754661560059, 2.182878255844116, 2.1825156211853027, 2.241443157196045, 3.9795334339141846, 2.643552303314209, 5.6611456871032715, 8.476585388183594, 1.143232822418213, 1.8423768281936646, 2.8233065605163574, 2.644639015197754, 1.6633918285369873, 1.8422223329544067, 1.8421564102172852, 1.6629412174224854, 2.183124303817749, 2.3032755851745605, 1.84244704246521, 1.842303991317749, 2.1237998008728027, 1.6041905879974365, 1.842488408088684, 2.362900495529175, 1.6037347316741943, 1.6045466661453247, 1.6045845746994019, 1.604707956314087, 1.6051236391067505, 1.0844089984893799, 1.084409236907959, 1.0844095945358276, 1.0844088792800903, 1.0844100713729858, 1.0844099521636963, 1.0844097137451172, 1.0844749212265015, 1.0844786167144775, 1.084481954574585, 1.0844837427139282, 1.084491491317749, 1.0844967365264893, 1.0844981670379639, 1.0845037698745728, 1.0845032930374146, 1.0845109224319458, 1.0845139026641846, 1.084525465965271, 1.0846871137619019, 1.0847465991973877, 1.0847818851470947, 1.0847671031951904, 1.0848095417022705, 1.0847615003585815, 1.0847687721252441, 2.0654475688934326, 2.183124303817749, 5.6611456871032715, 2.644639015197754, 2.8819425106048584, 3.9795334339141846, 2.3622629642486572, 1.7834453582763672, 2.8233065605163574, 1.662976861000061, 1.662947416305542, 1.7836217880249023, 2.241443157196045, 1.7836968898773193, 1.486524224281311, 1.4868524074554443, 1.4871289730072021, 1.025566577911377, 1.0255677700042725, 1.0255725383758545, 1.0255733728408813, 1.0255757570266724, 1.0255765914916992, 1.0255780220031738, 1.025578498840332, 1.0255881547927856, 1.0255903005599976, 1.0255939960479736, 1.0257103443145752, 1.0257502794265747, 1.0257303714752197, 1.0257476568222046, 1.0257408618927002, 1.0257658958435059, 1.0257582664489746, 1.0257537364959717, 1.0257596969604492, 1.025762677192688, 1.0257740020751953, 1.0257585048675537, 1.0257925987243652, 1.0257914066314697, 1.025787353515625, 1.0257986783981323, 2.1858978271484375, 2.643552303314209, 2.7061872482299805, 3.9795334339141846, 2.1825156211853027, 8.476585388183594, 2.1237998008728027, 1.6037347316741943, 5.6611456871032715, 2.303459644317627, 2.644639015197754, 2.182878255844116, 2.4239344596862793, 2.8233065605163574, 2.4238617420196533, 3.1233925819396973, 2.3032755851745605, 3.123304843902588, 1.7248625755310059, 1.6041905879974365, 1.724844217300415], \"Category\": [\"Default\", \"Default\", \"Default\", \"Default\", \"Default\", \"Default\", \"Default\", \"Default\", \"Default\", \"Default\", \"Default\", \"Default\", \"Default\", \"Default\", \"Default\", \"Default\", \"Default\", \"Default\", \"Default\", \"Default\", \"Default\", \"Default\", \"Default\", \"Default\", \"Default\", \"Default\", \"Default\", \"Default\", \"Default\", \"Default\", \"Topic1\", \"Topic1\", \"Topic1\", \"Topic1\", \"Topic1\", \"Topic1\", \"Topic1\", \"Topic1\", \"Topic1\", \"Topic1\", \"Topic1\", \"Topic1\", \"Topic1\", \"Topic1\", \"Topic1\", \"Topic1\", \"Topic1\", \"Topic1\", \"Topic1\", \"Topic1\", \"Topic1\", \"Topic1\", \"Topic1\", \"Topic1\", \"Topic1\", \"Topic1\", \"Topic1\", \"Topic1\", \"Topic1\", \"Topic1\", \"Topic1\", \"Topic1\", \"Topic1\", \"Topic1\", \"Topic1\", \"Topic1\", \"Topic1\", \"Topic1\", \"Topic1\", \"Topic1\", \"Topic1\", \"Topic1\", \"Topic1\", \"Topic2\", \"Topic2\", \"Topic2\", \"Topic2\", \"Topic2\", \"Topic2\", \"Topic2\", \"Topic2\", \"Topic2\", \"Topic2\", \"Topic2\", \"Topic2\", \"Topic2\", \"Topic2\", \"Topic2\", \"Topic2\", \"Topic2\", \"Topic2\", \"Topic2\", \"Topic2\", \"Topic2\", \"Topic2\", \"Topic2\", \"Topic2\", \"Topic2\", \"Topic2\", \"Topic2\", \"Topic2\", \"Topic2\", \"Topic2\", \"Topic2\", \"Topic2\", \"Topic2\", \"Topic2\", \"Topic2\", \"Topic2\", \"Topic2\", \"Topic2\", \"Topic2\", \"Topic2\", \"Topic2\", \"Topic2\", \"Topic2\", \"Topic2\", \"Topic2\", \"Topic2\", \"Topic2\", \"Topic2\", \"Topic2\", \"Topic2\", \"Topic2\", \"Topic2\", \"Topic2\", \"Topic2\", \"Topic3\", \"Topic3\", \"Topic3\", \"Topic3\", \"Topic3\", \"Topic3\", \"Topic3\", \"Topic3\", \"Topic3\", \"Topic3\", \"Topic3\", \"Topic3\", \"Topic3\", \"Topic3\", \"Topic3\", \"Topic3\", \"Topic3\", \"Topic3\", \"Topic3\", \"Topic3\", \"Topic3\", \"Topic3\", \"Topic3\", \"Topic3\", \"Topic3\", \"Topic3\", \"Topic3\", \"Topic3\", \"Topic3\", \"Topic3\", \"Topic3\", \"Topic3\", \"Topic3\", \"Topic3\", \"Topic3\", \"Topic3\", \"Topic3\", \"Topic3\", \"Topic3\", \"Topic3\", \"Topic3\", \"Topic3\", \"Topic3\", \"Topic3\", \"Topic4\", \"Topic4\", \"Topic4\", \"Topic4\", \"Topic4\", \"Topic4\", \"Topic4\", \"Topic4\", \"Topic4\", \"Topic4\", \"Topic4\", \"Topic4\", \"Topic4\", \"Topic4\", \"Topic4\", \"Topic4\", \"Topic4\", \"Topic4\", \"Topic4\", \"Topic4\", \"Topic4\", \"Topic4\", \"Topic4\", \"Topic4\", \"Topic4\", \"Topic4\", \"Topic4\", \"Topic4\", \"Topic4\", \"Topic4\", \"Topic4\", \"Topic4\", \"Topic4\", \"Topic4\", \"Topic4\", \"Topic4\", \"Topic4\", \"Topic4\", \"Topic4\", \"Topic4\", \"Topic4\", \"Topic4\", \"Topic4\", \"Topic4\", \"Topic4\", \"Topic4\", \"Topic4\", \"Topic4\", \"Topic4\", \"Topic4\", \"Topic4\"], \"logprob\": [30.0, 29.0, 28.0, 27.0, 26.0, 25.0, 24.0, 23.0, 22.0, 21.0, 20.0, 19.0, 18.0, 17.0, 16.0, 15.0, 14.0, 13.0, 12.0, 11.0, 10.0, 9.0, 8.0, 7.0, 6.0, 5.0, 4.0, 3.0, 2.0, 1.0, -4.447400093078613, -4.44789981842041, -4.448299884796143, -4.814599990844727, -4.814899921417236, -4.815000057220459, -4.815199851989746, -4.815299987792969, -4.815400123596191, -4.8155999183654785, -4.815400123596191, -4.815700054168701, -4.815700054168701, -4.178400039672852, -3.4003000259399414, -4.447299957275391, -4.4475998878479, -5.401899814605713, -5.4019999504089355, -5.4019999504089355, -5.4019999504089355, -5.4019999504089355, -5.402100086212158, -5.402100086212158, -5.402200222015381, -5.402200222015381, -5.402299880981445, -5.402299880981445, -5.402400016784668, -5.402500152587891, -4.814599990844727, -4.815199851989746, -4.815299987792969, -4.815000057220459, -4.8119001388549805, -4.812600135803223, -4.8105998039245605, -5.396399974822998, -5.396599769592285, -5.398499965667725, -5.398499965667725, -5.398499965667725, -5.39870023727417, -4.470200061798096, -4.470399856567383, -5.056600093841553, -5.056700229644775, -5.057000160217285, -5.057199954986572, -5.057300090789795, -5.057400226593018, -5.057400226593018, -5.057400226593018, -5.057400226593018, -5.057499885559082, -5.057600021362305, -5.057499885559082, -5.057499885559082, -5.057600021362305, -5.057400226593018, -5.057499885559082, -5.057300090789795, -5.057600021362305, -5.057499885559082, -5.057499885559082, -5.057700157165527, -5.057400226593018, -5.057600021362305, -5.057700157165527, -5.057499885559082, -5.057499885559082, -5.057499885559082, -5.057499885559082, -4.470200061798096, -4.47130012512207, -4.469200134277344, -4.10230016708374, -4.470099925994873, -4.467100143432617, -4.467700004577637, -5.057499885559082, -5.055600166320801, -5.055799961090088, -5.056000232696533, -5.056099891662598, -5.056099891662598, -5.056399822235107, -5.056399822235107, -5.056399822235107, -5.05649995803833, -5.056600093841553, -5.056700229644775, -5.057000160217285, -5.057000160217285, -5.057199954986572, -5.057300090789795, -5.057300090789795, -4.344299793243408, -4.344299793243408, -4.344699859619141, -4.34630012512207, -4.930799961090088, -4.9309000968933105, -4.9309000968933105, -4.9309000968933105, -4.9309000968933105, -4.9309000968933105, -4.9309000968933105, -4.931099891662598, -4.93120002746582, -4.93120002746582, -4.93120002746582, -4.93120002746582, -4.93120002746582, -4.93120002746582, -4.931300163269043, -4.931300163269043, -4.931300163269043, -4.931300163269043, -4.931399822235107, -4.932600021362305, -4.933000087738037, -4.93310022354126, -4.93310022354126, -4.93310022354126, -4.933199882507324, -4.933199882507324, -4.343699932098389, -4.344099998474121, -3.70770001411438, -4.345399856567383, -4.34250020980835, -4.926400184631348, -4.928999900817871, -4.929900169372559, -4.929999828338623, -4.930099964141846, -4.930200099945068, -4.930500030517578, -4.930799961090088, -4.93120002746582, -4.22790002822876, -4.229000091552734, -4.230000019073486, -4.815499782562256, -4.8155999183654785, -4.8155999183654785, -4.8155999183654785, -4.815700054168701, -4.815700054168701, -4.815700054168701, -4.815700054168701, -4.815800189971924, -4.815899848937988, -4.815899848937988, -4.816400051116943, -4.816400051116943, -4.816500186920166, -4.8165998458862305, -4.816699981689453, -4.8165998458862305, -4.816699981689453, -4.816699981689453, -4.816699981689453, -4.816800117492676, -4.816800117492676, -4.816800117492676, -4.81689977645874, -4.81689977645874, -4.81689977645874, -4.816999912261963, -4.2281999588012695, -4.227200031280518, -4.228300094604492, -4.810999870300293, -4.811999797821045, -4.812300205230713, -4.8130998611450195, -4.813700199127197, -4.814199924468994, -4.8144001960754395, -4.814499855041504, -4.814700126647949, -4.814700126647949, -4.814899921417236, -4.814899921417236, -4.814899921417236, -4.815000057220459, -4.815100193023682, -4.815199851989746, -4.815400123596191, -4.8155999183654785], \"loglift\": [30.0, 29.0, 28.0, 27.0, 26.0, 25.0, 24.0, 23.0, 22.0, 21.0, 20.0, 19.0, 18.0, 17.0, 16.0, 15.0, 14.0, 13.0, 12.0, 11.0, 10.0, 9.0, 8.0, 7.0, 6.0, 5.0, 4.0, 3.0, 2.0, 1.0, 0.7218999862670898, 0.7214000225067139, 0.7211999893188477, 0.6593000292778015, 0.6589999794960022, 0.6589999794960022, 0.6586999893188477, 0.6585999727249146, 0.6585999727249146, 0.6585000157356262, 0.6585000157356262, 0.6583999991416931, 0.65829998254776, 0.6136999726295471, 0.6108999848365784, 0.5623000264167786, 0.5619999766349792, 0.5121999979019165, 0.5121999979019165, 0.5121999979019165, 0.5121999979019165, 0.5121999979019165, 0.5120999813079834, 0.5120999813079834, 0.5120000243186951, 0.5120000243186951, 0.5120000243186951, 0.511900007724762, 0.511900007724762, 0.5117999911308289, 0.448199987411499, 0.4478999972343445, 0.44780001044273376, 0.42399999499320984, 0.4036000072956085, 0.40310001373291016, -0.39579999446868896, -0.10779999941587448, -0.6292999982833862, 0.1387999951839447, -0.08449999988079071, 0.1388999968767166, 0.13860000669956207, 1.1354000568389893, 1.1347999572753906, 0.9584000110626221, 0.9581999778747559, 0.9580000042915344, 0.9577000141143799, 0.9577000141143799, 0.9577000141143799, 0.9575999975204468, 0.9575999975204468, 0.9575999975204468, 0.9574999809265137, 0.9574999809265137, 0.9574999809265137, 0.9574999809265137, 0.9574999809265137, 0.9574000239372253, 0.9574000239372253, 0.9574000239372253, 0.9574000239372253, 0.9573000073432922, 0.9573000073432922, 0.9573000073432922, 0.9573000073432922, 0.9573000073432922, 0.9573000073432922, 0.9571999907493591, 0.9571999907493591, 0.9571999907493591, 0.9571999907493591, 0.8977000117301941, 0.8966000080108643, 0.8720999956130981, 0.6650000214576721, 0.7063000202178955, -0.05220000073313713, -0.45649999380111694, 0.957099974155426, 0.48179998993873596, 0.05469999834895134, 0.11999999731779099, 0.5835000276565552, 0.4814000129699707, 0.4810999929904938, 0.5835000276565552, 0.31130000948905945, 0.25760000944137573, 0.48080000281333923, 0.48080000281333923, 0.3382999897003174, 0.6187999844551086, 0.48019999265670776, 0.2312999963760376, 0.6187999844551086, 1.3313000202178955, 1.3313000202178955, 1.3308000564575195, 1.3289999961853027, 1.1366000175476074, 1.1366000175476074, 1.1366000175476074, 1.1366000175476074, 1.1366000175476074, 1.1366000175476074, 1.1366000175476074, 1.136199951171875, 1.136199951171875, 1.136199951171875, 1.136199951171875, 1.1361000537872314, 1.1361000537872314, 1.1361000537872314, 1.1361000537872314, 1.1361000537872314, 1.1360000371932983, 1.1360000371932983, 1.1360000371932983, 1.134600043296814, 1.1340999603271484, 1.1339999437332153, 1.1339999437332153, 1.1339000463485718, 1.1339000463485718, 1.1339000463485718, 1.0793999433517456, 1.0235999822616577, 0.707099974155426, 0.8305000066757202, 0.7475000023841858, -0.1590999960899353, 0.35989999771118164, 0.6399999856948853, 0.18060000240802765, 0.7098000049591064, 0.7096999883651733, 0.6394000053405762, 0.4104999899864197, 0.6385999917984009, 1.5240999460220337, 1.5227999687194824, 1.5216000080108643, 1.3077000379562378, 1.3077000379562378, 1.3076000213623047, 1.3076000213623047, 1.3076000213623047, 1.3075000047683716, 1.3075000047683716, 1.3075000047683716, 1.3073999881744385, 1.3072999715805054, 1.3072999715805054, 1.3065999746322632, 1.3065999746322632, 1.3065999746322632, 1.30649995803833, 1.306399941444397, 1.306399941444397, 1.306399941444397, 1.306399941444397, 1.3063000440597534, 1.3063000440597534, 1.3063000440597534, 1.3062000274658203, 1.3061000108718872, 1.3061000108718872, 1.3061000108718872, 1.305999994277954, 1.1382999420166016, 0.9491000175476074, 0.9246000051498413, -0.04360000044107437, 0.555899977684021, -0.8011999726295471, 0.5821999907493591, 0.8623999953269958, -0.399399995803833, 0.49959999322891235, 0.3614000082015991, 0.5530999898910522, 0.44839999079704285, 0.2957000136375427, 0.448199987411499, 0.19460000097751617, 0.499099999666214, 0.19449999928474426, 0.788100004196167, 0.8604000210762024, 0.7878000140190125]}, \"token.table\": {\"Topic\": [2, 1, 2, 3, 3, 1, 2, 1, 1, 2, 2, 1, 1, 2, 4, 1, 4, 4, 2, 3, 1, 2, 3, 4, 1, 4, 4, 2, 4, 4, 1, 2, 1, 3, 4, 4, 2, 4, 1, 3, 1, 2, 3, 2, 1, 2, 1, 1, 2, 4, 2, 4, 1, 2, 2, 1, 1, 2, 1, 1, 1, 2, 2, 4, 2, 2, 3, 4, 2, 1, 4, 4, 2, 1, 3, 1, 1, 3, 1, 4, 1, 4, 3, 4, 1, 1, 4, 3, 2, 2, 3, 4, 2, 2, 1, 2, 1, 2, 4, 2, 3, 1, 3, 2, 4, 3, 4, 2, 3, 4, 3, 3, 1, 2, 3, 1, 3, 2, 4, 4, 1, 2, 3, 4, 1, 1, 2, 1, 2, 3, 3, 4, 4, 2, 3, 4, 3, 1, 4, 1, 3, 4, 3, 3, 2, 3, 4, 3, 3, 2, 4, 2, 3, 2, 3, 4, 3, 2, 3, 2, 1, 2, 3, 3, 1, 2, 4, 4, 2, 1, 4, 1, 2, 4, 1, 4, 1, 2, 1, 4, 1, 3, 4, 2, 2, 3, 1, 2, 3, 1, 1, 1, 2, 3, 4, 2, 3, 3, 4, 4, 2, 4, 1, 4, 1, 3, 1, 2, 3, 3, 3, 4, 1, 2, 1, 2, 1, 2, 4, 2, 4, 2, 3, 2, 1, 3, 3, 4], \"Freq\": [0.8748108744621277, 0.42320868372917175, 0.42320868372917175, 0.42320868372917175, 0.9218443036079407, 0.7911419868469238, 0.8749645352363586, 0.7911922335624695, 0.5427985787391663, 0.5427985787391663, 0.8749943971633911, 0.7911418080329895, 0.7078322172164917, 0.11797203123569489, 0.11797203123569489, 0.8251295685768127, 0.41256478428840637, 0.9748928546905518, 0.6013419032096863, 0.6013419032096863, 0.35328537225723267, 0.17664268612861633, 0.35328537225723267, 0.17664268612861633, 0.5797563195228577, 0.5797563195228577, 0.9748501777648926, 0.8751357793807983, 0.9748609066009521, 0.9750482439994812, 0.7911574840545654, 0.8749989867210388, 0.3695235848426819, 0.3695235848426819, 0.3695235848426819, 0.9748736023902893, 0.6233673095703125, 0.6233673095703125, 0.5606569647789001, 0.5606569647789001, 1.0189927816390991, 0.4580591320991516, 0.4580591320991516, 0.8748987317085266, 0.7911470532417297, 0.8749709129333496, 0.7911396026611328, 0.5428420901298523, 0.5428420901298523, 0.6725617051124573, 0.3782788813114166, 0.3782788813114166, 0.5428226590156555, 0.5428226590156555, 0.5808866024017334, 1.0186952352523804, 0.786919116973877, 0.3934595584869385, 1.0188400745391846, 0.7911865711212158, 0.5427442789077759, 0.5427442789077759, 0.8750579953193665, 0.9750651121139526, 0.8749970197677612, 0.3781234323978424, 0.3781234323978424, 0.3781234323978424, 0.8750327229499817, 1.0187790393829346, 0.974898636341095, 0.9748812913894653, 0.8750916719436646, 1.0188196897506714, 0.9218742847442627, 1.0187363624572754, 1.018977165222168, 0.922160804271698, 0.5797625184059143, 0.5797625184059143, 0.6403293609619141, 0.32016468048095703, 0.9220854640007019, 0.6727101802825928, 0.7512186765670776, 1.0187995433807373, 0.9748559594154358, 0.9220977425575256, 0.8748328685760498, 0.6013312935829163, 0.6013312935829163, 0.9749341011047363, 0.8749770522117615, 0.875046968460083, 0.7911713123321533, 0.8749734163284302, 0.43412959575653076, 0.43412959575653076, 0.43412959575653076, 0.8748950362205505, 0.9218554496765137, 0.5606333613395691, 0.5606333613395691, 0.6235445141792297, 0.6235445141792297, 0.9220721125602722, 0.9748961329460144, 0.8750768303871155, 0.9221612811088562, 0.9749050736427307, 0.9220746159553528, 0.922099232673645, 0.5427564382553101, 0.5427564382553101, 0.9218616485595703, 0.7911716103553772, 0.9221052527427673, 0.4581107497215271, 0.4581107497215271, 0.9750447273254395, 0.35419461131095886, 0.35419461131095886, 0.35419461131095886, 0.35419461131095886, 0.7911755442619324, 0.5427473187446594, 0.5427473187446594, 0.34698817133903503, 0.34698817133903503, 0.34698817133903503, 0.9221606850624084, 0.9750620722770691, 0.9748885631561279, 0.6013441681861877, 0.6013441681861877, 0.9748871922492981, 0.9218208193778992, 0.825104832649231, 0.4125524163246155, 0.805417537689209, 0.4027087688446045, 0.9748843908309937, 0.9221603870391846, 0.9220911264419556, 0.47085416316986084, 0.47085416316986084, 0.47085416316986084, 0.6230049729347229, 0.9218568801879883, 0.4581868648529053, 0.4581868648529053, 0.6011812686920166, 0.6011812686920166, 0.8748306632041931, 0.9219248294830322, 0.9748570919036865, 0.9220811128616333, 0.4461411237716675, 0.4461411237716675, 0.8750725984573364, 0.5427771210670471, 0.5427771210670471, 0.9221605062484741, 0.9220806956291199, 0.5427647233009338, 0.5427647233009338, 0.9750696420669556, 0.9748883247375488, 0.875076174736023, 0.4574779272079468, 0.4574779272079468, 1.018883228302002, 0.8747124671936035, 0.9750612378120422, 0.6403473615646362, 0.3201736807823181, 0.791130006313324, 0.5810785293579102, 0.8249409794807434, 0.4124704897403717, 0.7727858424186707, 0.2575953006744385, 0.975059449672699, 0.8750327229499817, 0.8750333786010742, 0.6232142448425293, 0.4233228862285614, 0.4233228862285614, 0.4233228862285614, 0.7911431789398193, 0.7514334917068481, 0.25128573179244995, 0.5025714635848999, 0.25128573179244995, 0.25128573179244995, 0.8751410841941833, 0.6232289671897888, 0.9221020936965942, 0.9750598669052124, 0.9750502705574036, 0.8751285672187805, 0.9750707745552063, 0.7512744069099426, 0.9750643372535706, 0.560712456703186, 0.560712456703186, 0.5427140593528748, 0.5427140593528748, 0.9221611022949219, 0.9220866560935974, 0.9220622777938843, 0.6724366545677185, 1.0187742710113525, 0.8748005032539368, 0.7867512106895447, 0.39337560534477234, 0.43416428565979004, 0.43416428565979004, 0.43416428565979004, 0.8747633695602417, 0.974915087223053, 0.8748046159744263, 0.9221614003181458, 0.8748660087585449, 0.7911720871925354, 0.6231663227081299, 0.4841565787792206, 0.4841565787792206], \"Term\": [\"additionally\", \"air\", \"air\", \"air\", \"always\", \"appreciate\", \"availability\", \"basic\", \"bath\", \"bath\", \"bathroom\", \"bathtub\", \"bed\", \"bed\", \"bed\", \"book\", \"book\", \"bread\", \"break\", \"break\", \"breakfast\", \"breakfast\", \"breakfast\", \"breakfast\", \"broken\", \"broken\", \"build\", \"bus\", \"car\", \"ceiling\", \"channel\", \"chat\", \"cheap\", \"cheap\", \"cheap\", \"check\", \"city\", \"city\", \"clean\", \"clean\", \"cleanliness\", \"coffee\", \"coffee\", \"comparatively\", \"compare\", \"condition\", \"conditioning\", \"cover\", \"cover\", \"cypriot\", \"day\", \"day\", \"decorate\", \"decorate\", \"decoration\", \"desk\", \"dirty\", \"dirty\", \"door\", \"drink\", \"dust\", \"dust\", \"early\", \"edge\", \"enjoy\", \"even\", \"even\", \"even\", \"evening\", \"ever\", \"explore\", \"family\", \"faucet\", \"feel\", \"fine\", \"fridge\", \"full\", \"furniture\", \"get\", \"get\", \"go\", \"go\", \"guide\", \"hang\", \"hard\", \"hardly\", \"hot\", \"housekeeping\", \"incredibly\", \"kind\", \"kind\", \"laughable\", \"leaking\", \"leave\", \"limited\", \"lobby\", \"location\", \"location\", \"location\", \"low\", \"machine\", \"make\", \"make\", \"mattress\", \"mattress\", \"meal\", \"meet\", \"middle\", \"minute\", \"miserable\", \"miss\", \"moment\", \"money\", \"money\", \"morning\", \"much\", \"negative\", \"never\", \"never\", \"new\", \"night\", \"night\", \"night\", \"night\", \"noisy\", \"ok\", \"ok\", \"old\", \"old\", \"old\", \"outside\", \"paint\", \"park\", \"parking\", \"parking\", \"people\", \"personnel\", \"pillow\", \"pillow\", \"place\", \"place\", \"plan\", \"pleasant\", \"point\", \"poor\", \"poor\", \"poor\", \"price\", \"pro\", \"problem\", \"problem\", \"provide\", \"provide\", \"purpose\", \"rate\", \"rather\", \"really\", \"reception\", \"reception\", \"receptionist\", \"recommend\", \"recommend\", \"refigerator\", \"responsible\", \"review\", \"review\", \"rise\", \"run\", \"satisfactory\", \"second\", \"second\", \"seem\", \"set\", \"shame\", \"shower\", \"shower\", \"similar\", \"sink\", \"sleep\", \"sleep\", \"small\", \"small\", \"socket\", \"sophie\", \"space\", \"special\", \"staff\", \"staff\", \"staff\", \"star\", \"state\", \"stay\", \"stay\", \"stay\", \"stay\", \"stop\", \"suppose\", \"tasty\", \"thin\", \"third\", \"thoroughly\", \"time\", \"tiny\", \"toaster\", \"tourist\", \"tourist\", \"towel\", \"towel\", \"town\", \"train\", \"trainer\", \"trip\", \"try\", \"tube\", \"tv\", \"tv\", \"uncomfortable\", \"uncomfortable\", \"uncomfortable\", \"understand\", \"unfriendly\", \"variety\", \"walk\", \"warning\", \"way\", \"well\", \"work\", \"work\"]}, \"R\": 30, \"lambda.step\": 0.01, \"plot.opts\": {\"xlab\": \"PC1\", \"ylab\": \"PC2\"}, \"topic.order\": [2, 4, 3, 1]};\n",
       "\n",
       "function LDAvis_load_lib(url, callback){\n",
       "  var s = document.createElement('script');\n",
       "  s.src = url;\n",
       "  s.async = true;\n",
       "  s.onreadystatechange = s.onload = callback;\n",
       "  s.onerror = function(){console.warn(\"failed to load library \" + url);};\n",
       "  document.getElementsByTagName(\"head\")[0].appendChild(s);\n",
       "}\n",
       "\n",
       "if(typeof(LDAvis) !== \"undefined\"){\n",
       "   // already loaded: just create the visualization\n",
       "   !function(LDAvis){\n",
       "       new LDAvis(\"#\" + \"ldavis_el212422546585837523315642413\", ldavis_el212422546585837523315642413_data);\n",
       "   }(LDAvis);\n",
       "}else if(typeof define === \"function\" && define.amd){\n",
       "   // require.js is available: use it to load d3/LDAvis\n",
       "   require.config({paths: {d3: \"https://cdnjs.cloudflare.com/ajax/libs/d3/3.5.5/d3.min\"}});\n",
       "   require([\"d3\"], function(d3){\n",
       "      window.d3 = d3;\n",
       "      LDAvis_load_lib(\"https://cdn.rawgit.com/bmabey/pyLDAvis/files/ldavis.v1.0.0.js\", function(){\n",
       "        new LDAvis(\"#\" + \"ldavis_el212422546585837523315642413\", ldavis_el212422546585837523315642413_data);\n",
       "      });\n",
       "    });\n",
       "}else{\n",
       "    // require.js not available: dynamically load d3 & LDAvis\n",
       "    LDAvis_load_lib(\"https://cdnjs.cloudflare.com/ajax/libs/d3/3.5.5/d3.min.js\", function(){\n",
       "         LDAvis_load_lib(\"https://cdn.rawgit.com/bmabey/pyLDAvis/files/ldavis.v1.0.0.js\", function(){\n",
       "                 new LDAvis(\"#\" + \"ldavis_el212422546585837523315642413\", ldavis_el212422546585837523315642413_data);\n",
       "            })\n",
       "         });\n",
       "}\n",
       "</script>"
      ],
      "text/plain": [
       "PreparedData(topic_coordinates=              x         y  topics  cluster       Freq\n",
       "topic                                                \n",
       "1      0.101827  0.069641       1        1  41.421570\n",
       "3      0.041760 -0.092751       2        1  24.163475\n",
       "2     -0.100103 -0.052044       3        1  19.226713\n",
       "0     -0.043484  0.075154       4        1  15.188236, topic_info=              Term      Freq     Total Category  logprob  loglift\n",
       "61             day  2.000000  2.000000  Default  30.0000  30.0000\n",
       "208           hang  1.000000  1.000000  Default  29.0000  29.0000\n",
       "59         cypriot  1.000000  1.000000  Default  28.0000  28.0000\n",
       "84            trip  1.000000  1.000000  Default  27.0000  27.0000\n",
       "80          second  2.000000  2.000000  Default  26.0000  26.0000\n",
       "..             ...       ...       ...      ...      ...      ...\n",
       "85   uncomfortable  0.576251  2.303276   Topic4  -4.8150   0.4991\n",
       "164         shower  0.576219  3.123305   Topic4  -4.8151   0.1945\n",
       "204         broken  0.576145  1.724863   Topic4  -4.8152   0.7881\n",
       "58            city  0.576026  1.604191   Topic4  -4.8154   0.8604\n",
       "207            get  0.575951  1.724844   Topic4  -4.8156   0.7878\n",
       "\n",
       "[222 rows x 6 columns], token_table=      Topic      Freq          Term\n",
       "term                               \n",
       "92        2  0.874811  additionally\n",
       "0         1  0.423209           air\n",
       "0         2  0.423209           air\n",
       "0         3  0.423209           air\n",
       "2         3  0.921844        always\n",
       "...     ...       ...           ...\n",
       "154       2  0.874866       warning\n",
       "331       1  0.791172           way\n",
       "49        3  0.623166          well\n",
       "50        3  0.484157          work\n",
       "50        4  0.484157          work\n",
       "\n",
       "[228 rows x 3 columns], R=30, lambda_step=0.01, plot_opts={'xlab': 'PC1', 'ylab': 'PC2'}, topic_order=[2, 4, 3, 1])"
      ]
     },
     "metadata": {},
     "output_type": "display_data"
    }
   ],
   "source": [
    "plot_model(lda_neg_custom, plot ='topic_model')"
   ]
  },
  {
   "cell_type": "code",
   "execution_count": 20,
   "metadata": {},
   "outputs": [
    {
     "data": {
      "application/vnd.jupyter.widget-view+json": {
       "model_id": "",
       "version_major": 2,
       "version_minor": 0
      },
      "text/plain": [
       "IntProgress(value=0, description='Processing: ', max=25)"
      ]
     },
     "metadata": {},
     "output_type": "display_data"
    },
    {
     "data": {
      "application/vnd.jupyter.widget-view+json": {
       "model_id": "175038b30ca741c7945905a9da3c6ffd",
       "version_major": 2,
       "version_minor": 0
      },
      "text/plain": [
       "Output()"
      ]
     },
     "metadata": {},
     "output_type": "display_data"
    },
    {
     "data": {
      "text/html": [
       "        <script type=\"text/javascript\">\n",
       "        window.PlotlyConfig = {MathJaxConfig: 'local'};\n",
       "        if (window.MathJax) {MathJax.Hub.Config({SVG: {font: \"STIX-Web\"}});}\n",
       "        if (typeof require !== 'undefined') {\n",
       "        require.undef(\"plotly\");\n",
       "        requirejs.config({\n",
       "            paths: {\n",
       "                'plotly': ['https://cdn.plot.ly/plotly-latest.min']\n",
       "            }\n",
       "        });\n",
       "        require(['plotly'], function(Plotly) {\n",
       "            window._Plotly = Plotly;\n",
       "        });\n",
       "        }\n",
       "        </script>\n",
       "        "
      ]
     },
     "metadata": {},
     "output_type": "display_data"
    },
    {
     "data": {
      "application/vnd.plotly.v1+json": {
       "config": {
        "plotlyServerURL": "https://plot.ly"
       },
       "data": [
        {
         "hovertemplate": "Metric=Coherence<br># Topics=%{x}<br>Score=%{y}<extra></extra>",
         "legendgroup": "Coherence",
         "line": {
          "color": "#636efa",
          "dash": "solid",
          "shape": "linear"
         },
         "mode": "lines",
         "name": "Coherence",
         "orientation": "v",
         "showlegend": true,
         "type": "scatter",
         "x": [
          2,
          4,
          8,
          16,
          32,
          64,
          100,
          200,
          300,
          400
         ],
         "xaxis": "x",
         "y": [
          0.2407235220070314,
          0.33525569463420235,
          0.6394916118788027,
          0.7273047108891405,
          0.6050056946774303,
          0.41167885706349194,
          0.3608781099163417,
          0.2933682889483667,
          0.24118040221159817,
          0.22985910128993217
         ],
         "yaxis": "y"
        }
       ],
       "layout": {
        "legend": {
         "title": {
          "text": "Metric"
         },
         "tracegroupgap": 0
        },
        "plot_bgcolor": "rgb(245,245,245)",
        "template": {
         "data": {
          "bar": [
           {
            "error_x": {
             "color": "#2a3f5f"
            },
            "error_y": {
             "color": "#2a3f5f"
            },
            "marker": {
             "line": {
              "color": "#E5ECF6",
              "width": 0.5
             }
            },
            "type": "bar"
           }
          ],
          "barpolar": [
           {
            "marker": {
             "line": {
              "color": "#E5ECF6",
              "width": 0.5
             }
            },
            "type": "barpolar"
           }
          ],
          "carpet": [
           {
            "aaxis": {
             "endlinecolor": "#2a3f5f",
             "gridcolor": "white",
             "linecolor": "white",
             "minorgridcolor": "white",
             "startlinecolor": "#2a3f5f"
            },
            "baxis": {
             "endlinecolor": "#2a3f5f",
             "gridcolor": "white",
             "linecolor": "white",
             "minorgridcolor": "white",
             "startlinecolor": "#2a3f5f"
            },
            "type": "carpet"
           }
          ],
          "choropleth": [
           {
            "colorbar": {
             "outlinewidth": 0,
             "ticks": ""
            },
            "type": "choropleth"
           }
          ],
          "contour": [
           {
            "colorbar": {
             "outlinewidth": 0,
             "ticks": ""
            },
            "colorscale": [
             [
              0,
              "#0d0887"
             ],
             [
              0.1111111111111111,
              "#46039f"
             ],
             [
              0.2222222222222222,
              "#7201a8"
             ],
             [
              0.3333333333333333,
              "#9c179e"
             ],
             [
              0.4444444444444444,
              "#bd3786"
             ],
             [
              0.5555555555555556,
              "#d8576b"
             ],
             [
              0.6666666666666666,
              "#ed7953"
             ],
             [
              0.7777777777777778,
              "#fb9f3a"
             ],
             [
              0.8888888888888888,
              "#fdca26"
             ],
             [
              1,
              "#f0f921"
             ]
            ],
            "type": "contour"
           }
          ],
          "contourcarpet": [
           {
            "colorbar": {
             "outlinewidth": 0,
             "ticks": ""
            },
            "type": "contourcarpet"
           }
          ],
          "heatmap": [
           {
            "colorbar": {
             "outlinewidth": 0,
             "ticks": ""
            },
            "colorscale": [
             [
              0,
              "#0d0887"
             ],
             [
              0.1111111111111111,
              "#46039f"
             ],
             [
              0.2222222222222222,
              "#7201a8"
             ],
             [
              0.3333333333333333,
              "#9c179e"
             ],
             [
              0.4444444444444444,
              "#bd3786"
             ],
             [
              0.5555555555555556,
              "#d8576b"
             ],
             [
              0.6666666666666666,
              "#ed7953"
             ],
             [
              0.7777777777777778,
              "#fb9f3a"
             ],
             [
              0.8888888888888888,
              "#fdca26"
             ],
             [
              1,
              "#f0f921"
             ]
            ],
            "type": "heatmap"
           }
          ],
          "heatmapgl": [
           {
            "colorbar": {
             "outlinewidth": 0,
             "ticks": ""
            },
            "colorscale": [
             [
              0,
              "#0d0887"
             ],
             [
              0.1111111111111111,
              "#46039f"
             ],
             [
              0.2222222222222222,
              "#7201a8"
             ],
             [
              0.3333333333333333,
              "#9c179e"
             ],
             [
              0.4444444444444444,
              "#bd3786"
             ],
             [
              0.5555555555555556,
              "#d8576b"
             ],
             [
              0.6666666666666666,
              "#ed7953"
             ],
             [
              0.7777777777777778,
              "#fb9f3a"
             ],
             [
              0.8888888888888888,
              "#fdca26"
             ],
             [
              1,
              "#f0f921"
             ]
            ],
            "type": "heatmapgl"
           }
          ],
          "histogram": [
           {
            "marker": {
             "colorbar": {
              "outlinewidth": 0,
              "ticks": ""
             }
            },
            "type": "histogram"
           }
          ],
          "histogram2d": [
           {
            "colorbar": {
             "outlinewidth": 0,
             "ticks": ""
            },
            "colorscale": [
             [
              0,
              "#0d0887"
             ],
             [
              0.1111111111111111,
              "#46039f"
             ],
             [
              0.2222222222222222,
              "#7201a8"
             ],
             [
              0.3333333333333333,
              "#9c179e"
             ],
             [
              0.4444444444444444,
              "#bd3786"
             ],
             [
              0.5555555555555556,
              "#d8576b"
             ],
             [
              0.6666666666666666,
              "#ed7953"
             ],
             [
              0.7777777777777778,
              "#fb9f3a"
             ],
             [
              0.8888888888888888,
              "#fdca26"
             ],
             [
              1,
              "#f0f921"
             ]
            ],
            "type": "histogram2d"
           }
          ],
          "histogram2dcontour": [
           {
            "colorbar": {
             "outlinewidth": 0,
             "ticks": ""
            },
            "colorscale": [
             [
              0,
              "#0d0887"
             ],
             [
              0.1111111111111111,
              "#46039f"
             ],
             [
              0.2222222222222222,
              "#7201a8"
             ],
             [
              0.3333333333333333,
              "#9c179e"
             ],
             [
              0.4444444444444444,
              "#bd3786"
             ],
             [
              0.5555555555555556,
              "#d8576b"
             ],
             [
              0.6666666666666666,
              "#ed7953"
             ],
             [
              0.7777777777777778,
              "#fb9f3a"
             ],
             [
              0.8888888888888888,
              "#fdca26"
             ],
             [
              1,
              "#f0f921"
             ]
            ],
            "type": "histogram2dcontour"
           }
          ],
          "mesh3d": [
           {
            "colorbar": {
             "outlinewidth": 0,
             "ticks": ""
            },
            "type": "mesh3d"
           }
          ],
          "parcoords": [
           {
            "line": {
             "colorbar": {
              "outlinewidth": 0,
              "ticks": ""
             }
            },
            "type": "parcoords"
           }
          ],
          "pie": [
           {
            "automargin": true,
            "type": "pie"
           }
          ],
          "scatter": [
           {
            "marker": {
             "colorbar": {
              "outlinewidth": 0,
              "ticks": ""
             }
            },
            "type": "scatter"
           }
          ],
          "scatter3d": [
           {
            "line": {
             "colorbar": {
              "outlinewidth": 0,
              "ticks": ""
             }
            },
            "marker": {
             "colorbar": {
              "outlinewidth": 0,
              "ticks": ""
             }
            },
            "type": "scatter3d"
           }
          ],
          "scattercarpet": [
           {
            "marker": {
             "colorbar": {
              "outlinewidth": 0,
              "ticks": ""
             }
            },
            "type": "scattercarpet"
           }
          ],
          "scattergeo": [
           {
            "marker": {
             "colorbar": {
              "outlinewidth": 0,
              "ticks": ""
             }
            },
            "type": "scattergeo"
           }
          ],
          "scattergl": [
           {
            "marker": {
             "colorbar": {
              "outlinewidth": 0,
              "ticks": ""
             }
            },
            "type": "scattergl"
           }
          ],
          "scattermapbox": [
           {
            "marker": {
             "colorbar": {
              "outlinewidth": 0,
              "ticks": ""
             }
            },
            "type": "scattermapbox"
           }
          ],
          "scatterpolar": [
           {
            "marker": {
             "colorbar": {
              "outlinewidth": 0,
              "ticks": ""
             }
            },
            "type": "scatterpolar"
           }
          ],
          "scatterpolargl": [
           {
            "marker": {
             "colorbar": {
              "outlinewidth": 0,
              "ticks": ""
             }
            },
            "type": "scatterpolargl"
           }
          ],
          "scatterternary": [
           {
            "marker": {
             "colorbar": {
              "outlinewidth": 0,
              "ticks": ""
             }
            },
            "type": "scatterternary"
           }
          ],
          "surface": [
           {
            "colorbar": {
             "outlinewidth": 0,
             "ticks": ""
            },
            "colorscale": [
             [
              0,
              "#0d0887"
             ],
             [
              0.1111111111111111,
              "#46039f"
             ],
             [
              0.2222222222222222,
              "#7201a8"
             ],
             [
              0.3333333333333333,
              "#9c179e"
             ],
             [
              0.4444444444444444,
              "#bd3786"
             ],
             [
              0.5555555555555556,
              "#d8576b"
             ],
             [
              0.6666666666666666,
              "#ed7953"
             ],
             [
              0.7777777777777778,
              "#fb9f3a"
             ],
             [
              0.8888888888888888,
              "#fdca26"
             ],
             [
              1,
              "#f0f921"
             ]
            ],
            "type": "surface"
           }
          ],
          "table": [
           {
            "cells": {
             "fill": {
              "color": "#EBF0F8"
             },
             "line": {
              "color": "white"
             }
            },
            "header": {
             "fill": {
              "color": "#C8D4E3"
             },
             "line": {
              "color": "white"
             }
            },
            "type": "table"
           }
          ]
         },
         "layout": {
          "annotationdefaults": {
           "arrowcolor": "#2a3f5f",
           "arrowhead": 0,
           "arrowwidth": 1
          },
          "coloraxis": {
           "colorbar": {
            "outlinewidth": 0,
            "ticks": ""
           }
          },
          "colorscale": {
           "diverging": [
            [
             0,
             "#8e0152"
            ],
            [
             0.1,
             "#c51b7d"
            ],
            [
             0.2,
             "#de77ae"
            ],
            [
             0.3,
             "#f1b6da"
            ],
            [
             0.4,
             "#fde0ef"
            ],
            [
             0.5,
             "#f7f7f7"
            ],
            [
             0.6,
             "#e6f5d0"
            ],
            [
             0.7,
             "#b8e186"
            ],
            [
             0.8,
             "#7fbc41"
            ],
            [
             0.9,
             "#4d9221"
            ],
            [
             1,
             "#276419"
            ]
           ],
           "sequential": [
            [
             0,
             "#0d0887"
            ],
            [
             0.1111111111111111,
             "#46039f"
            ],
            [
             0.2222222222222222,
             "#7201a8"
            ],
            [
             0.3333333333333333,
             "#9c179e"
            ],
            [
             0.4444444444444444,
             "#bd3786"
            ],
            [
             0.5555555555555556,
             "#d8576b"
            ],
            [
             0.6666666666666666,
             "#ed7953"
            ],
            [
             0.7777777777777778,
             "#fb9f3a"
            ],
            [
             0.8888888888888888,
             "#fdca26"
            ],
            [
             1,
             "#f0f921"
            ]
           ],
           "sequentialminus": [
            [
             0,
             "#0d0887"
            ],
            [
             0.1111111111111111,
             "#46039f"
            ],
            [
             0.2222222222222222,
             "#7201a8"
            ],
            [
             0.3333333333333333,
             "#9c179e"
            ],
            [
             0.4444444444444444,
             "#bd3786"
            ],
            [
             0.5555555555555556,
             "#d8576b"
            ],
            [
             0.6666666666666666,
             "#ed7953"
            ],
            [
             0.7777777777777778,
             "#fb9f3a"
            ],
            [
             0.8888888888888888,
             "#fdca26"
            ],
            [
             1,
             "#f0f921"
            ]
           ]
          },
          "colorway": [
           "#636efa",
           "#EF553B",
           "#00cc96",
           "#ab63fa",
           "#FFA15A",
           "#19d3f3",
           "#FF6692",
           "#B6E880",
           "#FF97FF",
           "#FECB52"
          ],
          "font": {
           "color": "#2a3f5f"
          },
          "geo": {
           "bgcolor": "white",
           "lakecolor": "white",
           "landcolor": "#E5ECF6",
           "showlakes": true,
           "showland": true,
           "subunitcolor": "white"
          },
          "hoverlabel": {
           "align": "left"
          },
          "hovermode": "closest",
          "mapbox": {
           "style": "light"
          },
          "paper_bgcolor": "white",
          "plot_bgcolor": "#E5ECF6",
          "polar": {
           "angularaxis": {
            "gridcolor": "white",
            "linecolor": "white",
            "ticks": ""
           },
           "bgcolor": "#E5ECF6",
           "radialaxis": {
            "gridcolor": "white",
            "linecolor": "white",
            "ticks": ""
           }
          },
          "scene": {
           "xaxis": {
            "backgroundcolor": "#E5ECF6",
            "gridcolor": "white",
            "gridwidth": 2,
            "linecolor": "white",
            "showbackground": true,
            "ticks": "",
            "zerolinecolor": "white"
           },
           "yaxis": {
            "backgroundcolor": "#E5ECF6",
            "gridcolor": "white",
            "gridwidth": 2,
            "linecolor": "white",
            "showbackground": true,
            "ticks": "",
            "zerolinecolor": "white"
           },
           "zaxis": {
            "backgroundcolor": "#E5ECF6",
            "gridcolor": "white",
            "gridwidth": 2,
            "linecolor": "white",
            "showbackground": true,
            "ticks": "",
            "zerolinecolor": "white"
           }
          },
          "shapedefaults": {
           "line": {
            "color": "#2a3f5f"
           }
          },
          "ternary": {
           "aaxis": {
            "gridcolor": "white",
            "linecolor": "white",
            "ticks": ""
           },
           "baxis": {
            "gridcolor": "white",
            "linecolor": "white",
            "ticks": ""
           },
           "bgcolor": "#E5ECF6",
           "caxis": {
            "gridcolor": "white",
            "linecolor": "white",
            "ticks": ""
           }
          },
          "title": {
           "x": 0.05
          },
          "xaxis": {
           "automargin": true,
           "gridcolor": "white",
           "linecolor": "white",
           "ticks": "",
           "title": {
            "standoff": 15
           },
           "zerolinecolor": "white",
           "zerolinewidth": 2
          },
          "yaxis": {
           "automargin": true,
           "gridcolor": "white",
           "linecolor": "white",
           "ticks": "",
           "title": {
            "standoff": 15
           },
           "zerolinecolor": "white",
           "zerolinewidth": 2
          }
         }
        },
        "title": {
         "text": "Coherence Value and # of Topics"
        },
        "xaxis": {
         "anchor": "y",
         "domain": [
          0,
          1
         ],
         "title": {
          "text": "# Topics"
         }
        },
        "yaxis": {
         "anchor": "x",
         "domain": [
          0,
          1
         ],
         "title": {
          "text": "Score"
         }
        }
       }
      },
      "text/html": [
       "<div>\n",
       "        \n",
       "        \n",
       "            <div id=\"24b9a795-78fe-4415-93a6-01d13019c4f6\" class=\"plotly-graph-div\" style=\"height:525px; width:100%;\"></div>\n",
       "            <script type=\"text/javascript\">\n",
       "                require([\"plotly\"], function(Plotly) {\n",
       "                    window.PLOTLYENV=window.PLOTLYENV || {};\n",
       "                    \n",
       "                if (document.getElementById(\"24b9a795-78fe-4415-93a6-01d13019c4f6\")) {\n",
       "                    Plotly.newPlot(\n",
       "                        '24b9a795-78fe-4415-93a6-01d13019c4f6',\n",
       "                        [{\"hovertemplate\": \"Metric=Coherence<br># Topics=%{x}<br>Score=%{y}<extra></extra>\", \"legendgroup\": \"Coherence\", \"line\": {\"color\": \"#636efa\", \"dash\": \"solid\", \"shape\": \"linear\"}, \"mode\": \"lines\", \"name\": \"Coherence\", \"orientation\": \"v\", \"showlegend\": true, \"type\": \"scatter\", \"x\": [2, 4, 8, 16, 32, 64, 100, 200, 300, 400], \"xaxis\": \"x\", \"y\": [0.2407235220070314, 0.33525569463420235, 0.6394916118788027, 0.7273047108891405, 0.6050056946774303, 0.41167885706349194, 0.3608781099163417, 0.2933682889483667, 0.24118040221159817, 0.22985910128993217], \"yaxis\": \"y\"}],\n",
       "                        {\"legend\": {\"title\": {\"text\": \"Metric\"}, \"tracegroupgap\": 0}, \"plot_bgcolor\": \"rgb(245,245,245)\", \"template\": {\"data\": {\"bar\": [{\"error_x\": {\"color\": \"#2a3f5f\"}, \"error_y\": {\"color\": \"#2a3f5f\"}, \"marker\": {\"line\": {\"color\": \"#E5ECF6\", \"width\": 0.5}}, \"type\": \"bar\"}], \"barpolar\": [{\"marker\": {\"line\": {\"color\": \"#E5ECF6\", \"width\": 0.5}}, \"type\": \"barpolar\"}], \"carpet\": [{\"aaxis\": {\"endlinecolor\": \"#2a3f5f\", \"gridcolor\": \"white\", \"linecolor\": \"white\", \"minorgridcolor\": \"white\", \"startlinecolor\": \"#2a3f5f\"}, \"baxis\": {\"endlinecolor\": \"#2a3f5f\", \"gridcolor\": \"white\", \"linecolor\": \"white\", \"minorgridcolor\": \"white\", \"startlinecolor\": \"#2a3f5f\"}, \"type\": \"carpet\"}], \"choropleth\": [{\"colorbar\": {\"outlinewidth\": 0, \"ticks\": \"\"}, \"type\": \"choropleth\"}], \"contour\": [{\"colorbar\": {\"outlinewidth\": 0, \"ticks\": \"\"}, \"colorscale\": [[0.0, \"#0d0887\"], [0.1111111111111111, \"#46039f\"], [0.2222222222222222, \"#7201a8\"], [0.3333333333333333, \"#9c179e\"], [0.4444444444444444, \"#bd3786\"], [0.5555555555555556, \"#d8576b\"], [0.6666666666666666, \"#ed7953\"], [0.7777777777777778, \"#fb9f3a\"], [0.8888888888888888, \"#fdca26\"], [1.0, \"#f0f921\"]], \"type\": \"contour\"}], \"contourcarpet\": [{\"colorbar\": {\"outlinewidth\": 0, \"ticks\": \"\"}, \"type\": \"contourcarpet\"}], \"heatmap\": [{\"colorbar\": {\"outlinewidth\": 0, \"ticks\": \"\"}, \"colorscale\": [[0.0, \"#0d0887\"], [0.1111111111111111, \"#46039f\"], [0.2222222222222222, \"#7201a8\"], [0.3333333333333333, \"#9c179e\"], [0.4444444444444444, \"#bd3786\"], [0.5555555555555556, \"#d8576b\"], [0.6666666666666666, \"#ed7953\"], [0.7777777777777778, \"#fb9f3a\"], [0.8888888888888888, \"#fdca26\"], [1.0, \"#f0f921\"]], \"type\": \"heatmap\"}], \"heatmapgl\": [{\"colorbar\": {\"outlinewidth\": 0, \"ticks\": \"\"}, \"colorscale\": [[0.0, \"#0d0887\"], [0.1111111111111111, \"#46039f\"], [0.2222222222222222, \"#7201a8\"], [0.3333333333333333, \"#9c179e\"], [0.4444444444444444, \"#bd3786\"], [0.5555555555555556, \"#d8576b\"], [0.6666666666666666, \"#ed7953\"], [0.7777777777777778, \"#fb9f3a\"], [0.8888888888888888, \"#fdca26\"], [1.0, \"#f0f921\"]], \"type\": \"heatmapgl\"}], \"histogram\": [{\"marker\": {\"colorbar\": {\"outlinewidth\": 0, \"ticks\": \"\"}}, \"type\": \"histogram\"}], \"histogram2d\": [{\"colorbar\": {\"outlinewidth\": 0, \"ticks\": \"\"}, \"colorscale\": [[0.0, \"#0d0887\"], [0.1111111111111111, \"#46039f\"], [0.2222222222222222, \"#7201a8\"], [0.3333333333333333, \"#9c179e\"], [0.4444444444444444, \"#bd3786\"], [0.5555555555555556, \"#d8576b\"], [0.6666666666666666, \"#ed7953\"], [0.7777777777777778, \"#fb9f3a\"], [0.8888888888888888, \"#fdca26\"], [1.0, \"#f0f921\"]], \"type\": \"histogram2d\"}], \"histogram2dcontour\": [{\"colorbar\": {\"outlinewidth\": 0, \"ticks\": \"\"}, \"colorscale\": [[0.0, \"#0d0887\"], [0.1111111111111111, \"#46039f\"], [0.2222222222222222, \"#7201a8\"], [0.3333333333333333, \"#9c179e\"], [0.4444444444444444, \"#bd3786\"], [0.5555555555555556, \"#d8576b\"], [0.6666666666666666, \"#ed7953\"], [0.7777777777777778, \"#fb9f3a\"], [0.8888888888888888, \"#fdca26\"], [1.0, \"#f0f921\"]], \"type\": \"histogram2dcontour\"}], \"mesh3d\": [{\"colorbar\": {\"outlinewidth\": 0, \"ticks\": \"\"}, \"type\": \"mesh3d\"}], \"parcoords\": [{\"line\": {\"colorbar\": {\"outlinewidth\": 0, \"ticks\": \"\"}}, \"type\": \"parcoords\"}], \"pie\": [{\"automargin\": true, \"type\": \"pie\"}], \"scatter\": [{\"marker\": {\"colorbar\": {\"outlinewidth\": 0, \"ticks\": \"\"}}, \"type\": \"scatter\"}], \"scatter3d\": [{\"line\": {\"colorbar\": {\"outlinewidth\": 0, \"ticks\": \"\"}}, \"marker\": {\"colorbar\": {\"outlinewidth\": 0, \"ticks\": \"\"}}, \"type\": \"scatter3d\"}], \"scattercarpet\": [{\"marker\": {\"colorbar\": {\"outlinewidth\": 0, \"ticks\": \"\"}}, \"type\": \"scattercarpet\"}], \"scattergeo\": [{\"marker\": {\"colorbar\": {\"outlinewidth\": 0, \"ticks\": \"\"}}, \"type\": \"scattergeo\"}], \"scattergl\": [{\"marker\": {\"colorbar\": {\"outlinewidth\": 0, \"ticks\": \"\"}}, \"type\": \"scattergl\"}], \"scattermapbox\": [{\"marker\": {\"colorbar\": {\"outlinewidth\": 0, \"ticks\": \"\"}}, \"type\": \"scattermapbox\"}], \"scatterpolar\": [{\"marker\": {\"colorbar\": {\"outlinewidth\": 0, \"ticks\": \"\"}}, \"type\": \"scatterpolar\"}], \"scatterpolargl\": [{\"marker\": {\"colorbar\": {\"outlinewidth\": 0, \"ticks\": \"\"}}, \"type\": \"scatterpolargl\"}], \"scatterternary\": [{\"marker\": {\"colorbar\": {\"outlinewidth\": 0, \"ticks\": \"\"}}, \"type\": \"scatterternary\"}], \"surface\": [{\"colorbar\": {\"outlinewidth\": 0, \"ticks\": \"\"}, \"colorscale\": [[0.0, \"#0d0887\"], [0.1111111111111111, \"#46039f\"], [0.2222222222222222, \"#7201a8\"], [0.3333333333333333, \"#9c179e\"], [0.4444444444444444, \"#bd3786\"], [0.5555555555555556, \"#d8576b\"], [0.6666666666666666, \"#ed7953\"], [0.7777777777777778, \"#fb9f3a\"], [0.8888888888888888, \"#fdca26\"], [1.0, \"#f0f921\"]], \"type\": \"surface\"}], \"table\": [{\"cells\": {\"fill\": {\"color\": \"#EBF0F8\"}, \"line\": {\"color\": \"white\"}}, \"header\": {\"fill\": {\"color\": \"#C8D4E3\"}, \"line\": {\"color\": \"white\"}}, \"type\": \"table\"}]}, \"layout\": {\"annotationdefaults\": {\"arrowcolor\": \"#2a3f5f\", \"arrowhead\": 0, \"arrowwidth\": 1}, \"coloraxis\": {\"colorbar\": {\"outlinewidth\": 0, \"ticks\": \"\"}}, \"colorscale\": {\"diverging\": [[0, \"#8e0152\"], [0.1, \"#c51b7d\"], [0.2, \"#de77ae\"], [0.3, \"#f1b6da\"], [0.4, \"#fde0ef\"], [0.5, \"#f7f7f7\"], [0.6, \"#e6f5d0\"], [0.7, \"#b8e186\"], [0.8, \"#7fbc41\"], [0.9, \"#4d9221\"], [1, \"#276419\"]], \"sequential\": [[0.0, \"#0d0887\"], [0.1111111111111111, \"#46039f\"], [0.2222222222222222, \"#7201a8\"], [0.3333333333333333, \"#9c179e\"], [0.4444444444444444, \"#bd3786\"], [0.5555555555555556, \"#d8576b\"], [0.6666666666666666, \"#ed7953\"], [0.7777777777777778, \"#fb9f3a\"], [0.8888888888888888, \"#fdca26\"], [1.0, \"#f0f921\"]], \"sequentialminus\": [[0.0, \"#0d0887\"], [0.1111111111111111, \"#46039f\"], [0.2222222222222222, \"#7201a8\"], [0.3333333333333333, \"#9c179e\"], [0.4444444444444444, \"#bd3786\"], [0.5555555555555556, \"#d8576b\"], [0.6666666666666666, \"#ed7953\"], [0.7777777777777778, \"#fb9f3a\"], [0.8888888888888888, \"#fdca26\"], [1.0, \"#f0f921\"]]}, \"colorway\": [\"#636efa\", \"#EF553B\", \"#00cc96\", \"#ab63fa\", \"#FFA15A\", \"#19d3f3\", \"#FF6692\", \"#B6E880\", \"#FF97FF\", \"#FECB52\"], \"font\": {\"color\": \"#2a3f5f\"}, \"geo\": {\"bgcolor\": \"white\", \"lakecolor\": \"white\", \"landcolor\": \"#E5ECF6\", \"showlakes\": true, \"showland\": true, \"subunitcolor\": \"white\"}, \"hoverlabel\": {\"align\": \"left\"}, \"hovermode\": \"closest\", \"mapbox\": {\"style\": \"light\"}, \"paper_bgcolor\": \"white\", \"plot_bgcolor\": \"#E5ECF6\", \"polar\": {\"angularaxis\": {\"gridcolor\": \"white\", \"linecolor\": \"white\", \"ticks\": \"\"}, \"bgcolor\": \"#E5ECF6\", \"radialaxis\": {\"gridcolor\": \"white\", \"linecolor\": \"white\", \"ticks\": \"\"}}, \"scene\": {\"xaxis\": {\"backgroundcolor\": \"#E5ECF6\", \"gridcolor\": \"white\", \"gridwidth\": 2, \"linecolor\": \"white\", \"showbackground\": true, \"ticks\": \"\", \"zerolinecolor\": \"white\"}, \"yaxis\": {\"backgroundcolor\": \"#E5ECF6\", \"gridcolor\": \"white\", \"gridwidth\": 2, \"linecolor\": \"white\", \"showbackground\": true, \"ticks\": \"\", \"zerolinecolor\": \"white\"}, \"zaxis\": {\"backgroundcolor\": \"#E5ECF6\", \"gridcolor\": \"white\", \"gridwidth\": 2, \"linecolor\": \"white\", \"showbackground\": true, \"ticks\": \"\", \"zerolinecolor\": \"white\"}}, \"shapedefaults\": {\"line\": {\"color\": \"#2a3f5f\"}}, \"ternary\": {\"aaxis\": {\"gridcolor\": \"white\", \"linecolor\": \"white\", \"ticks\": \"\"}, \"baxis\": {\"gridcolor\": \"white\", \"linecolor\": \"white\", \"ticks\": \"\"}, \"bgcolor\": \"#E5ECF6\", \"caxis\": {\"gridcolor\": \"white\", \"linecolor\": \"white\", \"ticks\": \"\"}}, \"title\": {\"x\": 0.05}, \"xaxis\": {\"automargin\": true, \"gridcolor\": \"white\", \"linecolor\": \"white\", \"ticks\": \"\", \"title\": {\"standoff\": 15}, \"zerolinecolor\": \"white\", \"zerolinewidth\": 2}, \"yaxis\": {\"automargin\": true, \"gridcolor\": \"white\", \"linecolor\": \"white\", \"ticks\": \"\", \"title\": {\"standoff\": 15}, \"zerolinecolor\": \"white\", \"zerolinewidth\": 2}}}, \"title\": {\"text\": \"Coherence Value and # of Topics\"}, \"xaxis\": {\"anchor\": \"y\", \"domain\": [0.0, 1.0], \"title\": {\"text\": \"# Topics\"}}, \"yaxis\": {\"anchor\": \"x\", \"domain\": [0.0, 1.0], \"title\": {\"text\": \"Score\"}}},\n",
       "                        {\"responsive\": true}\n",
       "                    ).then(function(){\n",
       "                            \n",
       "var gd = document.getElementById('24b9a795-78fe-4415-93a6-01d13019c4f6');\n",
       "var x = new MutationObserver(function (mutations, observer) {{\n",
       "        var display = window.getComputedStyle(gd).display;\n",
       "        if (!display || display === 'none') {{\n",
       "            console.log([gd, 'removed!']);\n",
       "            Plotly.purge(gd);\n",
       "            observer.disconnect();\n",
       "        }}\n",
       "}});\n",
       "\n",
       "// Listen for the removal of the full notebook cells\n",
       "var notebookContainer = gd.closest('#notebook-container');\n",
       "if (notebookContainer) {{\n",
       "    x.observe(notebookContainer, {childList: true});\n",
       "}}\n",
       "\n",
       "// Listen for the clearing of the current output cell\n",
       "var outputEl = gd.closest('.output');\n",
       "if (outputEl) {{\n",
       "    x.observe(outputEl, {childList: true});\n",
       "}}\n",
       "\n",
       "                        })\n",
       "                };\n",
       "                });\n",
       "            </script>\n",
       "        </div>"
      ]
     },
     "metadata": {},
     "output_type": "display_data"
    },
    {
     "name": "stdout",
     "output_type": "stream",
     "text": [
      "Best Model: Latent Dirichlet Allocation | # Topics: 16 | Coherence: 0.7273\n"
     ]
    }
   ],
   "source": [
    "tune_lda_negative = tune_model(model='lda', supervised_target=None, estimator='xgboost')"
   ]
  },
  {
   "cell_type": "markdown",
   "metadata": {},
   "source": []
  },
  {
   "cell_type": "code",
   "execution_count": 21,
   "metadata": {},
   "outputs": [
    {
     "name": "stdout",
     "output_type": "stream",
     "text": [
      "LdaModel(num_terms=332, num_topics=16, decay=0.5, chunksize=100)\n"
     ]
    }
   ],
   "source": [
    "lda_neg_16 = create_model('lda', num_topics=16)\n",
    "print(lda_neg_16)"
   ]
  },
  {
   "cell_type": "code",
   "execution_count": 22,
   "metadata": {},
   "outputs": [
    {
     "data": {
      "application/vnd.jupyter.widget-view+json": {
       "model_id": "afa8ddd9408d49ecbbbeff520d19b16c",
       "version_major": 2,
       "version_minor": 0
      },
      "text/plain": [
       "interactive(children=(ToggleButtons(description='Plot Type:', icons=('',), options=(('Frequency Plot', 'freque…"
      ]
     },
     "metadata": {},
     "output_type": "display_data"
    }
   ],
   "source": [
    "evaluate_model(lda_neg_16)"
   ]
  },
  {
   "cell_type": "code",
   "execution_count": 23,
   "metadata": {},
   "outputs": [
    {
     "data": {
      "text/html": [
       "        <script type=\"text/javascript\">\n",
       "        window.PlotlyConfig = {MathJaxConfig: 'local'};\n",
       "        if (window.MathJax) {MathJax.Hub.Config({SVG: {font: \"STIX-Web\"}});}\n",
       "        if (typeof require !== 'undefined') {\n",
       "        require.undef(\"plotly\");\n",
       "        requirejs.config({\n",
       "            paths: {\n",
       "                'plotly': ['https://cdn.plot.ly/plotly-latest.min']\n",
       "            }\n",
       "        });\n",
       "        require(['plotly'], function(Plotly) {\n",
       "            window._Plotly = Plotly;\n",
       "        });\n",
       "        }\n",
       "        </script>\n",
       "        "
      ]
     },
     "metadata": {},
     "output_type": "display_data"
    },
    {
     "data": {
      "text/html": [
       "\n",
       "<link rel=\"stylesheet\" type=\"text/css\" href=\"https://cdn.rawgit.com/bmabey/pyLDAvis/files/ldavis.v1.0.0.css\">\n",
       "\n",
       "\n",
       "<div id=\"ldavis_el212422546570563287046683714\"></div>\n",
       "<script type=\"text/javascript\">\n",
       "\n",
       "var ldavis_el212422546570563287046683714_data = {\"mdsDat\": {\"x\": [0.15721425216773266, -0.006792240224314977, -0.21741479921463544, -0.13786709464648977, 0.16884248894816034, 0.14915433020628685, 0.012796417400341577, -0.06975498132216394, -0.006906311980188776, -0.006822495405121633, -0.007234007335312701, -0.00699111274338487, -0.007067626169105232, -0.007041404263296748, -0.007057700856970691, -0.007057714561536678], \"y\": [0.16008451326818623, -0.2277514905757175, -0.06396067997972774, 0.17962010328029698, -0.132286549880017, -0.010251794862454365, 0.13495966942881454, -0.06987327486668052, 0.00355218258774122, 0.003928006885839678, 0.00361565265488004, 0.003777614863163852, 0.0035650575180276663, 0.0036860609001091275, 0.003667459768481564, 0.003667469009056041], \"topics\": [1, 2, 3, 4, 5, 6, 7, 8, 9, 10, 11, 12, 13, 14, 15, 16], \"cluster\": [1, 1, 1, 1, 1, 1, 1, 1, 1, 1, 1, 1, 1, 1, 1, 1], \"Freq\": [28.73766326904297, 17.76422691345215, 17.28159523010254, 11.650680541992188, 11.512761116027832, 5.316333293914795, 4.466328144073486, 2.751371383666992, 0.07092376053333282, 0.06528670340776443, 0.06512054055929184, 0.06511073559522629, 0.06504372507333755, 0.0647946149110794, 0.06137896701693535, 0.06137896701693535]}, \"tinfo\": {\"Term\": [\"bed\", \"old\", \"breakfast\", \"tiny\", \"hard\", \"state\", \"stay\", \"small\", \"day\", \"shower\", \"night\", \"pillow\", \"book\", \"dirty\", \"even\", \"cheap\", \"go\", \"seem\", \"never\", \"hardly\", \"door\", \"tv\", \"full\", \"cleanliness\", \"problem\", \"uncomfortable\", \"sleep\", \"second\", \"location\", \"place\", \"hard\", \"tiny\", \"state\", \"hardly\", \"door\", \"seem\", \"full\", \"cleanliness\", \"disgusting\", \"way\", \"open\", \"varied\", \"gather\", \"ministerial\", \"due\", \"decor\", \"unattractive\", \"lump\", \"half\", \"everywhere\", \"seriously\", \"shelf\", \"owner\", \"equally\", \"rub\", \"complete\", \"completely\", \"portrait\", \"front\", \"fall\", \"bed\", \"pillow\", \"book\", \"dirty\", \"small\", \"towel\", \"ok\", \"breakfast\", \"dust\", \"broken\", \"bath\", \"desk\", \"night\", \"bother\", \"water\", \"trip\", \"cypriot\", \"still\", \"shady\", \"business\", \"filthy\", \"imaginable\", \"surprised\", \"take\", \"classic\", \"explore\", \"use\", \"people\", \"terrible\", \"family\", \"hot\", \"meet\", \"build\", \"wink\", \"park\", \"miserable\", \"run\", \"car\", \"nope\", \"rather\", \"ruin\", \"unhospitable\", \"unfriendly\", \"bread\", \"uncomfortable\", \"tv\", \"cheap\", \"shower\", \"day\", \"small\", \"compare\", \"much\", \"channel\", \"bed\", \"noisy\", \"limited\", \"money\", \"recommend\", \"go\", \"ever\", \"place\", \"sleep\", \"desk\", \"decoration\", \"understand\", \"amount\", \"available\", \"purpose\", \"warning\", \"tacky\", \"set\", \"constant\", \"read\", \"tube\", \"relevant\", \"incredibly\", \"claim\", \"excuse\", \"low\", \"spacious\", \"additionally\", \"fairly\", \"euro\", \"close\", \"limit\", \"website\", \"research\", \"variety\", \"generally\", \"pay\", \"web\", \"comparatively\", \"lift\", \"change\", \"problem\", \"never\", \"day\", \"big\", \"breakfast\", \"decorate\", \"reception\", \"city\", \"site\", \"bath\", \"provide\", \"coffee\", \"kind\", \"recommend\", \"floor\", \"sink\", \"chat\", \"sophie\", \"meal\", \"availability\", \"bathroom\", \"receptionist\", \"satisfactory\", \"proximity\", \"middle\", \"lobby\", \"leave\", \"faucet\", \"evening\", \"enjoy\", \"early\", \"bus\", \"thoroughly\", \"trainer\", \"moment\", \"stop\", \"condition\", \"train\", \"tasty\", \"responsible\", \"leaking\", \"really\", \"point\", \"negative\", \"miss\", \"housekeeping\", \"guide\", \"space\", \"stay\", \"night\", \"breakfast\", \"tourist\", \"clean\", \"bed\", \"make\", \"poor\", \"uncomfortable\", \"mattress\", \"reception\", \"price\", \"start\", \"disgust\", \"general\", \"almost\", \"find\", \"high\", \"average\", \"comfortable\", \"awful\", \"morning\", \"breakfastso\", \"safe\", \"machine\", \"eat\", \"refilling\", \"recommendation\", \"else\", \"fine\", \"let\", \"quality\", \"slighltly\", \"personnel\", \"bit\", \"rate\", \"always\", \"rotten\", \"ready\", \"fruit\", \"toast\", \"free\", \"even\", \"breakfast\", \"small\", \"air\", \"cheap\", \"suppose\", \"well\", \"coffee\", \"poor\", \"hang\", \"time\", \"rise\", \"edge\", \"toaster\", \"paint\", \"shame\", \"thin\", \"socket\", \"third\", \"ceiling\", \"new\", \"get\", \"mattress\", \"broken\", \"work\", \"poor\", \"problem\", \"second\", \"pillow\", \"go\", \"even\", \"cheap\", \"shower\", \"pleasant\", \"minute\", \"refigerator\", \"furniture\", \"walk\", \"town\", \"outside\", \"bed\", \"hard\", \"tiny\", \"door\", \"seem\", \"escape\", \"spring\", \"drink\", \"needless\", \"literally\", \"wine\", \"edible\", \"back\", \"positive\", \"ridiculous\", \"get\", \"note\", \"say\", \"friendly\", \"ever\", \"feel\", \"try\", \"staff\", \"sleep\", \"go\", \"breakfast\", \"bed\", \"pleasant\", \"minute\", \"walk\", \"furniture\", \"refigerator\", \"outside\", \"town\", \"new\", \"ceiling\", \"mobility\", \"assume\", \"feeling\", \"buffet\", \"charge\", \"centre\", \"traditional\", \"ask\", \"tasteless\", \"dirty\", \"problem\", \"decoration\", \"day\", \"never\", \"review\", \"stay\", \"location\", \"walk\", \"outside\", \"town\", \"refigerator\", \"furniture\", \"pleasant\", \"minute\", \"old\", \"special\", \"suppose\", \"work\", \"breakfast\", \"back\", \"wine\", \"edible\", \"spring\", \"ridiculous\", \"positive\", \"needless\", \"literally\", \"drink\", \"new\", \"ceiling\", \"third\", \"socket\", \"thin\", \"shame\", \"paint\", \"toaster\", \"edge\", \"additionally\", \"excuse\", \"decoration\", \"dirty\", \"wink\", \"water\", \"dust\", \"euro\", \"wait\", \"cover\", \"use\", \"unhospitable\", \"unfriendly\", \"uncomfortable\", \"trip\", \"decorate\", \"constant\", \"amount\", \"minute\", \"pleasant\", \"furniture\", \"walk\", \"refigerator\", \"town\", \"outside\", \"wine\", \"back\", \"edible\", \"drink\", \"spring\", \"ridiculous\", \"positive\", \"needless\", \"literally\", \"new\", \"ceiling\", \"third\", \"socket\", \"thin\", \"shame\", \"paint\", \"toaster\", \"edge\", \"rise\", \"time\", \"pro\", \"give\", \"rate\", \"hang\", \"work\", \"always\", \"fruit\", \"toast\", \"tou\", \"rotten\", \"personnel\", \"bit\", \"even\", \"mattress\", \"free\", \"ready\", \"poor\", \"problem\", \"pillow\", \"get\", \"broken\", \"cheap\", \"price\", \"shower\", \"second\", \"breakfast\", \"go\", \"reception\", \"coffee\", \"provide\", \"pleasant\", \"minute\", \"refigerator\", \"walk\", \"furniture\", \"town\", \"outside\", \"wine\", \"back\", \"edible\", \"literally\", \"spring\", \"ridiculous\", \"positive\", \"needless\", \"drink\", \"new\", \"ceiling\", \"third\", \"socket\", \"thin\", \"shame\", \"paint\", \"toaster\", \"edge\", \"rise\", \"time\", \"negative\", \"condition\", \"leaking\", \"tasty\", \"point\", \"guide\", \"evening\", \"sophie\", \"satisfactory\", \"leave\", \"thoroughly\", \"stop\", \"responsible\", \"enjoy\", \"receptionist\", \"faucet\", \"middle\", \"early\", \"miss\", \"throw\", \"escape\", \"fill\", \"manageress\", \"lot\", \"collection\", \"apart\", \"hurry\", \"huge\", \"single\", \"squeaky\", \"light\", \"stain\", \"disintegration\", \"front\", \"obvious\", \"tiny\", \"seem\", \"noise\", \"imagine\", \"lady\", \"bang\", \"completely\", \"hard\", \"hardly\", \"fall\", \"seriously\", \"avoid\", \"dimly\", \"complete\", \"door\", \"bed\", \"small\", \"cover\", \"shower\", \"old\", \"second\", \"full\", \"feel\", \"decorate\", \"place\", \"pleasant\", \"minute\", \"walk\", \"refigerator\", \"furniture\", \"outside\", \"town\", \"wine\", \"back\", \"edible\", \"positive\", \"spring\", \"ridiculous\", \"drink\", \"literally\", \"needless\", \"new\", \"ceiling\", \"third\", \"socket\", \"thin\", \"shame\", \"paint\", \"toaster\", \"edge\", \"rise\", \"time\", \"negative\", \"condition\", \"leaking\", \"point\", \"tasty\", \"guide\", \"leave\", \"thoroughly\", \"stop\", \"space\", \"middle\", \"enjoy\", \"satisfactory\", \"lobby\", \"faucet\", \"centre\", \"comprise\", \"table\", \"peaceful\", \"research\", \"overall\", \"limit\", \"web\", \"tasteless\", \"rest\", \"pay\", \"buffet\", \"feeling\", \"euro\", \"traditional\", \"ask\", \"spacious\", \"tacky\", \"read\", \"change\", \"constant\", \"assume\", \"lift\", \"decoration\", \"comparatively\", \"charge\", \"warning\", \"excuse\", \"purpose\", \"available\", \"day\", \"problem\", \"location\", \"review\", \"air\", \"balcony\", \"never\", \"staff\", \"dust\", \"towel\", \"floor\", \"old\", \"tv\", \"dirty\", \"money\", \"provide\", \"pleasant\", \"minute\", \"refigerator\", \"furniture\", \"walk\", \"outside\", \"town\", \"edible\", \"back\", \"wine\", \"needless\", \"literally\", \"positive\", \"ridiculous\", \"spring\", \"drink\", \"new\", \"ceiling\", \"third\", \"socket\", \"thin\", \"shame\", \"paint\", \"toaster\", \"edge\", \"rise\", \"time\", \"negative\", \"tasty\", \"leaking\", \"miss\", \"responsible\", \"space\", \"stop\", \"sophie\", \"thoroughly\", \"guide\", \"point\", \"proximity\", \"bathroom\", \"middle\", \"evening\", \"chat\", \"condition\", \"lobby\", \"faucet\", \"leave\", \"bus\", \"enjoy\", \"vacuum\", \"attention\", \"receptionist\", \"also\", \"otherwise\", \"demand\", \"traveller\", \"travel\", \"dreadful\", \"grandchild\", \"locate\", \"arrival\", \"reach\", \"bedsheet\", \"happy\", \"elsewhere\", \"however\", \"mop\", \"recently\", \"base\", \"glow\", \"need\", \"hair\", \"offer\", \"cleanliness\", \"child\", \"receive\", \"bring\", \"hallway\", \"refund\", \"apology\", \"state\", \"book\", \"dirty\", \"bed\", \"location\", \"site\", \"tourist\", \"floor\", \"stay\", \"pleasant\", \"minute\", \"refigerator\", \"furniture\", \"walk\", \"outside\", \"town\", \"edible\", \"back\", \"wine\", \"needless\", \"literally\", \"positive\", \"ridiculous\", \"spring\", \"drink\", \"new\", \"ceiling\", \"third\", \"socket\", \"thin\", \"shame\", \"paint\", \"toaster\", \"edge\", \"rise\", \"time\", \"negative\", \"tasty\", \"leaking\", \"responsible\", \"miss\", \"sophie\", \"space\", \"stop\", \"thoroughly\", \"guide\", \"faucet\", \"margarine\", \"check\", \"laughable\", \"damp\", \"wait\", \"plan\", \"bread\", \"unfriendly\", \"unhospitable\", \"ruin\", \"rather\", \"nope\", \"car\", \"run\", \"cypriot\", \"miserable\", \"park\", \"wink\", \"build\", \"meet\", \"hot\", \"family\", \"terrible\", \"trip\", \"people\", \"use\", \"explore\", \"bother\", \"water\", \"day\", \"friendly\", \"night\", \"second\", \"book\", \"stay\", \"never\", \"cheap\", \"location\", \"pleasant\", \"minute\", \"refigerator\", \"walk\", \"furniture\", \"town\", \"outside\", \"back\", \"wine\", \"edible\", \"spring\", \"drink\", \"literally\", \"needless\", \"positive\", \"ridiculous\", \"new\", \"ceiling\", \"third\", \"socket\", \"thin\", \"shame\", \"paint\", \"toaster\", \"edge\", \"rise\", \"time\", \"negative\", \"leaking\", \"condition\", \"satisfactory\", \"middle\", \"point\", \"tasty\", \"leave\", \"thoroughly\", \"stop\", \"guide\", \"proximity\", \"receptionist\", \"space\", \"faucet\", \"evening\", \"trainer\", \"sophie\", \"train\", \"lot\", \"collection\", \"bang\", \"portrait\", \"hurry\", \"bed\", \"hard\", \"tiny\", \"seem\", \"door\", \"small\", \"hardly\", \"state\", \"make\", \"obvious\", \"squeaky\", \"old\", \"place\", \"escape\", \"dimly\", \"imagine\", \"apart\", \"complete\", \"rub\", \"light\", \"decor\", \"bath\", \"disintegration\", \"half\", \"fridge\", \"pleasant\", \"minute\", \"refigerator\", \"furniture\", \"walk\", \"outside\", \"town\", \"edible\", \"back\", \"wine\", \"needless\", \"literally\", \"positive\", \"ridiculous\", \"spring\", \"drink\", \"new\", \"ceiling\", \"third\", \"socket\", \"thin\", \"shame\", \"paint\", \"toaster\", \"edge\", \"rise\", \"time\", \"negative\", \"tasty\", \"leaking\", \"space\", \"stop\", \"responsible\", \"thoroughly\", \"guide\", \"miss\", \"sophie\", \"middle\", \"proximity\", \"satisfactory\", \"receptionist\", \"really\", \"way\", \"change\", \"claim\", \"close\", \"comparatively\", \"comprise\", \"constant\", \"cover\", \"decorate\", \"decoration\", \"dirty\", \"dust\", \"euro\", \"excuse\", \"fairly\", \"feeling\", \"floor\", \"generally\", \"incredibly\", \"charge\", \"centre\", \"lift\", \"buffet\", \"trip\", \"uncomfortable\", \"unfriendly\", \"unhospitable\", \"use\", \"wait\", \"water\", \"pleasant\", \"minute\", \"refigerator\", \"furniture\", \"walk\", \"outside\", \"town\", \"edible\", \"back\", \"wine\", \"needless\", \"literally\", \"positive\", \"ridiculous\", \"spring\", \"drink\", \"new\", \"ceiling\", \"third\", \"socket\", \"thin\", \"shame\", \"paint\", \"toaster\", \"edge\", \"rise\", \"time\", \"negative\", \"tasty\", \"leaking\", \"space\", \"stop\", \"responsible\", \"thoroughly\", \"guide\", \"miss\", \"sophie\", \"middle\", \"proximity\", \"satisfactory\", \"receptionist\", \"really\", \"way\", \"change\", \"claim\", \"close\", \"comparatively\", \"comprise\", \"constant\", \"cover\", \"decorate\", \"decoration\", \"dirty\", \"dust\", \"euro\", \"excuse\", \"fairly\", \"feeling\", \"floor\", \"generally\", \"incredibly\", \"charge\", \"centre\", \"lift\", \"buffet\", \"trip\", \"uncomfortable\", \"unfriendly\", \"unhospitable\", \"use\", \"wait\", \"water\"], \"Freq\": [9.0, 2.0, 6.0, 2.0, 2.0, 2.0, 4.0, 4.0, 3.0, 3.0, 3.0, 2.0, 2.0, 2.0, 3.0, 3.0, 3.0, 2.0, 2.0, 2.0, 2.0, 2.0, 2.0, 2.0, 2.0, 2.0, 2.0, 2.0, 2.0, 2.0, 2.6471962928771973, 2.646078109741211, 2.6416831016540527, 1.7828365564346313, 1.7827656269073486, 1.7817814350128174, 1.7793371677398682, 1.7744238376617432, 0.9192160367965698, 0.9189688563346863, 0.9188273549079895, 0.9188216924667358, 0.918781578540802, 0.9187707304954529, 0.9187403321266174, 0.918694794178009, 0.9188132286071777, 0.9186819791793823, 0.9186988472938538, 0.9186014533042908, 0.9185675382614136, 0.9185855388641357, 0.9185818433761597, 0.9186004996299744, 0.9185596108436584, 0.9185027480125427, 0.918499767780304, 0.9185442924499512, 0.9184635281562805, 0.9184966087341309, 6.101914405822754, 1.7802231311798096, 1.774839997291565, 1.7755370140075684, 1.7837449312210083, 0.9193891286849976, 0.9191519618034363, 0.9190701246261597, 0.9190281629562378, 0.9190061688423157, 0.9189097881317139, 0.9188811182975769, 0.9188372492790222, 0.9188333749771118, 1.6370034217834473, 1.6365569829940796, 1.635702133178711, 0.8438153266906738, 0.8438153266906738, 0.8438153266906738, 0.8438152074813843, 0.84381502866745, 0.8438152074813843, 0.8438152074813843, 0.8438152074813843, 0.8432748317718506, 0.8432590961456299, 0.843167781829834, 0.8431640267372131, 0.8431535363197327, 0.8431409001350403, 0.843135416507721, 0.8431172966957092, 0.8431041240692139, 0.8430857062339783, 0.8429528474807739, 0.842949628829956, 0.8429359197616577, 0.842926561832428, 0.8429070115089417, 0.8429028987884521, 0.8428635597229004, 0.8428320288658142, 0.8428291082382202, 1.6368136405944824, 1.6366945505142212, 1.636648416519165, 1.6374142169952393, 1.6366413831710815, 1.6362154483795166, 0.8431984186172485, 0.8431920409202576, 0.8431496620178223, 1.6368578672409058, 0.8431430459022522, 0.843130350112915, 0.8438162803649902, 0.843816339969635, 0.8438153266906738, 0.8438152074813843, 0.8438152074813843, 0.8431916236877441, 0.8431873321533203, 1.6383286714553833, 0.8447325825691223, 0.8446545004844666, 0.8445327281951904, 0.8445355892181396, 0.8443582057952881, 0.8442963361740112, 0.844422459602356, 0.8442797660827637, 0.8442583084106445, 0.844380259513855, 0.8443627953529358, 0.8442899584770203, 0.8443887233734131, 0.8441271185874939, 0.8441888093948364, 0.8440986275672913, 0.8441668152809143, 0.8442758917808533, 0.8440454602241516, 0.8439905643463135, 0.8439308404922485, 0.8439992666244507, 0.8438357710838318, 0.8440166115760803, 0.8439319133758545, 0.8438774347305298, 0.843842625617981, 0.8438937067985535, 0.8438617587089539, 0.8439862728118896, 1.6376572847366333, 1.6390820741653442, 1.6379355192184448, 0.8439553380012512, 0.8445481657981873, 0.8444918990135193, 0.8444826602935791, 0.8443843126296997, 0.8443810343742371, 0.8443765044212341, 0.8443460464477539, 0.8442942500114441, 0.844282329082489, 0.8442277312278748, 0.844219446182251, 1.4803637266159058, 0.7626053690910339, 0.7626053690910339, 0.7626053690910339, 0.7626053690910339, 0.7626053690910339, 0.7626052498817444, 0.7626052498817444, 0.7626052498817444, 0.7626052498817444, 0.7626052498817444, 0.7626052498817444, 0.7626052498817444, 0.7626052498817444, 0.7626052498817444, 0.7626054286956787, 0.7626052498817444, 0.7626052498817444, 0.7626052498817444, 0.7626052498817444, 0.7626052498817444, 0.7626051306724548, 0.7626051902770996, 0.7626051306724548, 0.7626051306724548, 0.7626051306724548, 0.7626051902770996, 0.7626051306724548, 0.7626050114631653, 0.7626051306724548, 0.7626051306724548, 0.7626051306724548, 0.7626051902770996, 2.2072670459747314, 1.4804633855819702, 1.480431079864502, 0.7697585225105286, 0.7688643932342529, 0.7674305438995361, 0.7626973390579224, 0.7626053690910339, 0.7626053690910339, 0.7626053690910339, 0.7626052498817444, 1.4859050512313843, 0.7656939625740051, 0.7656808495521545, 0.7656351327896118, 0.7656252980232239, 0.7656151652336121, 0.7656012177467346, 0.7655799388885498, 0.765605092048645, 0.7655813694000244, 0.7655669450759888, 0.7655539512634277, 0.765572190284729, 0.765529215335846, 0.7655496001243591, 0.7655562162399292, 0.7655177116394043, 0.7655074000358582, 0.7655052542686462, 0.765522837638855, 0.7655271887779236, 0.7655128240585327, 0.7654498219490051, 0.7654563188552856, 0.7653806805610657, 0.7653907537460327, 0.7654126882553101, 0.7654358148574829, 0.765390157699585, 0.7653937339782715, 0.7654309868812561, 1.486146092414856, 1.4859071969985962, 0.7672780752182007, 0.7664710879325867, 0.7660710215568542, 0.7656232118606567, 0.7656180262565613, 0.7655579447746277, 0.7655285596847534, 1.1207960844039917, 0.577633798122406, 0.5775935649871826, 0.5774832367897034, 0.5774613618850708, 0.5774226188659668, 0.5773841142654419, 0.5773723125457764, 0.5773431062698364, 0.5771301984786987, 0.5770900845527649, 0.5770073533058167, 0.5776206254959106, 0.5773601531982422, 0.5775111317634583, 0.5769822001457214, 0.5775282382965088, 0.5776088237762451, 0.5775428414344788, 0.5771949887275696, 0.5775181651115417, 0.5773547291755676, 0.5775869488716125, 0.577421247959137, 0.03401518613100052, 0.03401518613100052, 0.03401518613100052, 0.03401518613100052, 0.03401518613100052, 0.03401518613100052, 0.03401518613100052, 0.03412432596087456, 0.03412260115146637, 0.0341184027493, 0.03408683091402054, 0.03408537060022354, 0.034078631550073624, 0.5284935832023621, 0.5284935832023621, 0.5284935832023621, 0.5284935832023621, 0.5284934639930725, 0.5284934639930725, 0.5284934639930725, 0.5284935235977173, 0.5284935235977173, 0.5284935832023621, 0.5284934639930725, 0.5284934639930725, 0.5284935832023621, 0.5284935235977173, 0.5284935832023621, 0.5284935832023621, 0.5296393632888794, 0.5284935832023621, 0.5292408466339111, 0.5296357870101929, 0.531518280506134, 0.031088117510080338, 0.031088117510080338, 0.031088117510080338, 0.031088117510080338, 0.031088117510080338, 0.031088117510080338, 0.031088117510080338, 0.031088117510080338, 0.031088117510080338, 0.03289667144417763, 0.032678328454494476, 0.03256978839635849, 0.032567303627729416, 0.03252944350242615, 0.0325142927467823, 0.03250695765018463, 0.03248577192425728, 0.03247736766934395, 0.03421146050095558, 0.03388611972332001, 0.033364586532115936, 0.03369348868727684, 0.03327568247914314, 0.033017244189977646, 0.03326857462525368, 0.03304203972220421, 0.405366986989975, 0.40536704659461975, 0.40536704659461975, 0.405366986989975, 0.405366986989975, 0.4053669571876526, 0.4053669571876526, 0.786891758441925, 0.4053669571876526, 0.4053669571876526, 0.40536704659461975, 0.4053669571876526, 0.023845281451940536, 0.023845281451940536, 0.023845281451940536, 0.023845281451940536, 0.023845281451940536, 0.023845281451940536, 0.023845281451940536, 0.023845281451940536, 0.023845281451940536, 0.023845281451940536, 0.023845281451940536, 0.023845281451940536, 0.023845281451940536, 0.023845281451940536, 0.023845281451940536, 0.023845281451940536, 0.023845281451940536, 0.023845281451940536, 0.023845281451940536, 0.023845281451940536, 0.023845281451940536, 0.023845281451940536, 0.023845281451940536, 0.023845281451940536, 0.023845281451940536, 0.023845281451940536, 0.023845281451940536, 0.023845281451940536, 0.023845281451940536, 0.023845281451940536, 0.023845281451940536, 0.023845281451940536, 0.023845281451940536, 0.023845281451940536, 0.023845281451940536, 0.023845281451940536, 0.0009948326041921973, 0.0009948326041921973, 0.0009948326041921973, 0.0009948326041921973, 0.0009948326041921973, 0.0009948326041921973, 0.0009948326041921973, 0.0009948326041921973, 0.0009948326041921973, 0.0009948326041921973, 0.0009948326041921973, 0.0009948326041921973, 0.0009948326041921973, 0.0009948326041921973, 0.0009948326041921973, 0.0009948326041921973, 0.001031259773299098, 0.0010288410121574998, 0.0010276678949594498, 0.0010214418871328235, 0.0010205884464085102, 0.0010202443227171898, 0.001019116840325296, 0.001017984701320529, 0.0010173453483730555, 0.0010141220409423113, 0.0010129465954378247, 0.0010088569251820445, 0.0010087323607876897, 0.0010083275847136974, 0.001044567790813744, 0.0010446995729580522, 0.001007948536425829, 0.0010078286286443472, 0.0010076600592583418, 0.001007312210276723, 0.0010072747245430946, 0.0010068800766021013, 0.0010064981179311872, 0.0010440044570714235, 0.0010209443280473351, 0.0010064910165965557, 0.0010064424714073539, 0.0010262755677103996, 0.0010259761475026608, 0.001026535639539361, 0.0010133277392014861, 0.0010173444170504808, 0.0010252413339912891, 0.001016617869026959, 0.0010203244164586067, 0.0010166780557483435, 0.00102154107298702, 0.0010163208935409784, 0.0010150009766221046, 0.0010100534418597817, 0.0010094022145494819, 0.0009128180681727827, 0.0009128180681727827, 0.0009128180681727827, 0.0009128180681727827, 0.0009128180681727827, 0.0009128180681727827, 0.0009128180681727827, 0.0009128180681727827, 0.0009128180681727827, 0.0009128180681727827, 0.0009128180681727827, 0.0009128180681727827, 0.0009128180681727827, 0.0009128180681727827, 0.0009128180681727827, 0.0009128180681727827, 0.0009128180681727827, 0.0009128180681727827, 0.0009128180681727827, 0.0009128180681727827, 0.0009128180681727827, 0.0009128180681727827, 0.0009128180681727827, 0.0009128180681727827, 0.0009128180681727827, 0.0009128180681727827, 0.0009128180681727827, 0.0009128180681727827, 0.0009128180681727827, 0.0009128180681727827, 0.0009128180681727827, 0.0009128180681727827, 0.0009128180681727827, 0.0009128180681727827, 0.0009128180681727827, 0.0009128180681727827, 0.0009128180681727827, 0.0009128180681727827, 0.0009128180681727827, 0.0009128180681727827, 0.0009128180681727827, 0.0009128180681727827, 0.0009128180681727827, 0.0009128180681727827, 0.0009128180681727827, 0.0009128180681727827, 0.0009520446183159947, 0.0009501167805865407, 0.0009497508872300386, 0.0009494732948951423, 0.0009491197415627539, 0.0009479630971327424, 0.0009471979574300349, 0.000946931482758373, 0.0009463192545808852, 0.0009460876462981105, 0.0009459342109039426, 0.0009457063279114664, 0.0009450589423067868, 0.0009438443230465055, 0.0009435829124413431, 0.000943175342399627, 0.0010208870517089963, 0.0009889908833429217, 0.0009431311045773327, 0.0009431037469767034, 0.0009430510690435767, 0.0009424452437087893, 0.0009423056035302579, 0.0010003000497817993, 0.0009740983950905502, 0.000942290120292455, 0.0009420259157195687, 0.0009418433182872832, 0.0009418317931704223, 0.0009417898836545646, 0.0009728079312480986, 0.0010235309600830078, 0.0009559829486533999, 0.0009474515682086349, 0.0009495888953097165, 0.0009483109461143613, 0.0009460242581553757, 0.0009454232640564442, 0.0009440185385756195, 0.0009437707485631108, 0.0009437037515453994, 0.0009148778044618666, 0.0009148778044618666, 0.0009148778044618666, 0.0009148778044618666, 0.0009148778044618666, 0.0009148778044618666, 0.0009148778044618666, 0.0009148778044618666, 0.0009148778044618666, 0.0009148778044618666, 0.0009148778044618666, 0.0009148778044618666, 0.0009148778044618666, 0.0009148778044618666, 0.0009148778044618666, 0.0009148778044618666, 0.0009148778044618666, 0.0009148778044618666, 0.0009148778044618666, 0.0009148778044618666, 0.0009148778044618666, 0.0009148778044618666, 0.0009148778044618666, 0.0009148778044618666, 0.0009148778044618666, 0.0009148778044618666, 0.0009148778044618666, 0.0009148778044618666, 0.0009148778044618666, 0.0009148778044618666, 0.0009148778044618666, 0.0009148778044618666, 0.0009148778044618666, 0.0009148778044618666, 0.0009148778044618666, 0.0009148778044618666, 0.0009148778044618666, 0.0009148778044618666, 0.0009148778044618666, 0.0009148778044618666, 0.0009148778044618666, 0.0009148778044618666, 0.0009333011112175882, 0.0009324140846729279, 0.0009321890538558364, 0.0009312067995779216, 0.000930866866838187, 0.0009303319966420531, 0.0009297561482526362, 0.0009294637129642069, 0.0009293420589528978, 0.0009291157475672662, 0.0009289363515563309, 0.0009285377454943955, 0.0009284502593800426, 0.0009284382103942335, 0.0009284287807531655, 0.0009283749968744814, 0.000928232038859278, 0.0009281339589506388, 0.0009278025245293975, 0.0009277308126911521, 0.0009276684722863138, 0.0009275794727727771, 0.0009275494376197457, 0.000944715749938041, 0.000927489367313683, 0.0009274442563764751, 0.0009274253970943391, 0.0009274175972677767, 0.0009266525157727301, 0.0009266500710509717, 0.0009422681760042906, 0.000935435586143285, 0.0009331302717328072, 0.0009315761853940785, 0.0009313066839240491, 0.0009312176844105124, 0.0009309439337812364, 0.000930726295337081, 0.000930077105294913, 0.0009297473588958383, 0.0009295772179029882, 0.000929344620089978, 0.0009292637696489692, 0.0009288423461839557, 0.0009287024731747806, 0.0009285602136515081, 0.0009148711105808616, 0.0009148711105808616, 0.0009148711105808616, 0.0009148711105808616, 0.0009148711105808616, 0.0009148711105808616, 0.0009148711105808616, 0.0009148711105808616, 0.0009148711105808616, 0.0009148711105808616, 0.0009148711105808616, 0.0009148711105808616, 0.0009148711105808616, 0.0009148711105808616, 0.0009148711105808616, 0.0009148711105808616, 0.0009148711105808616, 0.0009148711105808616, 0.0009148711105808616, 0.0009148711105808616, 0.0009148711105808616, 0.0009148711105808616, 0.0009148711105808616, 0.0009148711105808616, 0.0009148711105808616, 0.0009148711105808616, 0.0009148711105808616, 0.0009148711105808616, 0.0009148711105808616, 0.0009148711105808616, 0.0009148711105808616, 0.0009148711105808616, 0.0009148711105808616, 0.0009148711105808616, 0.0009148711105808616, 0.0009148711105808616, 0.0009148711105808616, 0.0009148711105808616, 0.0009148711105808616, 0.0009148711105808616, 0.0009148711105808616, 0.0009148711105808616, 0.0009148711105808616, 0.0009148711105808616, 0.0009148711105808616, 0.0009148711105808616, 0.0009148711105808616, 0.0009148711105808616, 0.0009148711105808616, 0.0009401905699633062, 0.0009396261302754283, 0.0009148711105808616, 0.0009379074326716363, 0.0009376655798405409, 0.000937532284297049, 0.000937271339353174, 0.0009369103936478496, 0.0009366519516333938, 0.0009364655707031488, 0.0009363141725771129, 0.0009359460673294961, 0.0009357720846310258, 0.0009353818604722619, 0.0009353650966659188, 0.0009351695189252496, 0.0009350523469038308, 0.0009348992607556283, 0.0009346695151180029, 0.0009346578735858202, 0.0009343637502752244, 0.0009342982084490359, 0.0009340104879811406, 0.0009338046074844897, 0.0009565274813212454, 0.0009333273628726602, 0.0009332510526292026, 0.0009328995947726071, 0.0009324575657956302, 0.0009309779270552099, 0.0009308718144893646, 0.0009537200094200671, 0.0009515909478068352, 0.0009471597149968147, 0.0009402455179952085, 0.0009370443876832724, 0.0009362372802570462, 0.0009360273252241313, 0.0009358567767776549, 0.000935658230446279, 0.0009147917153313756, 0.0009147917153313756, 0.0009147917153313756, 0.0009147917153313756, 0.0009147917153313756, 0.0009147917153313756, 0.0009147917153313756, 0.0009147917153313756, 0.0009147917153313756, 0.0009147917153313756, 0.0009147917153313756, 0.0009147917153313756, 0.0009147917153313756, 0.0009147917153313756, 0.0009147917153313756, 0.0009147917153313756, 0.0009147917153313756, 0.0009147917153313756, 0.0009147917153313756, 0.0009147917153313756, 0.0009147917153313756, 0.0009147917153313756, 0.0009147917153313756, 0.0009147917153313756, 0.0009147917153313756, 0.0009147917153313756, 0.0009147917153313756, 0.0009147917153313756, 0.0009147917153313756, 0.0009147917153313756, 0.0009147917153313756, 0.0009147917153313756, 0.0009147917153313756, 0.0009147917153313756, 0.0009147917153313756, 0.0009147917153313756, 0.0009147917153313756, 0.0009147917153313756, 0.0009345515863969922, 0.0009345415164716542, 0.0009339472744613886, 0.0009338869713246822, 0.0009332183981314301, 0.0009330399334430695, 0.0009329708409495652, 0.0009329163585789502, 0.0009323369595222175, 0.0009316103532910347, 0.0009315325878560543, 0.0009311718167737126, 0.0009310001623816788, 0.0009307487052865326, 0.000957382086198777, 0.0009306870633736253, 0.0009282442042604089, 0.0009279035148210824, 0.0009276585187762976, 0.0009273274336010218, 0.000927225686609745, 0.0009269926813431084, 0.0009267989080399275, 0.0009416372049599886, 0.0009267310961149633, 0.000925048312637955, 0.0009247577982023358, 0.0009344513528048992, 0.0009334046626463532, 0.000940111349336803, 0.0009297432261519134, 0.000929974892642349, 0.0009293965413235128, 0.0009292882750742137, 0.0009289014851674438, 0.0009282559622079134, 0.0009280871599912643, 0.0009277354110963643, 0.0009128237725235522, 0.0009128237725235522, 0.0009128237725235522, 0.0009128237725235522, 0.0009128237725235522, 0.0009128237725235522, 0.0009128237725235522, 0.0009128237725235522, 0.0009128237725235522, 0.0009128237725235522, 0.0009128237725235522, 0.0009128237725235522, 0.0009128237725235522, 0.0009128237725235522, 0.0009128237725235522, 0.0009128237725235522, 0.0009128237725235522, 0.0009128237725235522, 0.0009128237725235522, 0.0009128237725235522, 0.0009128237725235522, 0.0009128237725235522, 0.0009128237725235522, 0.0009128237725235522, 0.0009128237725235522, 0.0009128237725235522, 0.0009128237725235522, 0.0009128237725235522, 0.0009128237725235522, 0.0009128237725235522, 0.0009128237725235522, 0.0009128237725235522, 0.0009128237725235522, 0.0009128237725235522, 0.0009128237725235522, 0.0009128237725235522, 0.0009128237725235522, 0.0009128237725235522, 0.0009128237725235522, 0.0009128237725235522, 0.0009128237725235522, 0.0009128237725235522, 0.0009128237725235522, 0.0009128237725235522, 0.0009128237725235522, 0.0009128237725235522, 0.0009162250789813697, 0.0009160874178633094, 0.0009160608751699328, 0.0009158682660199702, 0.0009156581945717335, 0.0009217415354214609, 0.0009198846528306603, 0.0009186443057842553, 0.0009178096079267561, 0.0009173993021249771, 0.0009167433599941432, 0.0009162235073745251, 0.0009160896297544241, 0.000915749289561063, 0.0009156088344752789, 0.0009154723957180977, 0.000915464770514518, 0.0009154118597507477, 0.0009154104627668858, 0.0009154004510492086, 0.0009153650025837123, 0.0009153555729426444, 0.0009153045248240232, 0.000915303360670805, 0.0009152902057394385, 0.0009152699494734406, 0.0009152518468908966, 0.0009152115671895444, 0.0009151919512078166, 0.000915150681976229, 0.0008652216056361794, 0.0008652216056361794, 0.0008652216056361794, 0.0008652216056361794, 0.0008652216056361794, 0.0008652216056361794, 0.0008652216056361794, 0.0008652216056361794, 0.0008652216056361794, 0.0008652216056361794, 0.0008652216056361794, 0.0008652216056361794, 0.0008652216056361794, 0.0008652216056361794, 0.0008652216056361794, 0.0008652216056361794, 0.0008652216056361794, 0.0008652216056361794, 0.0008652216056361794, 0.0008652216056361794, 0.0008652216056361794, 0.0008652216056361794, 0.0008652216056361794, 0.0008652216056361794, 0.0008652216056361794, 0.0008652216056361794, 0.0008652216056361794, 0.0008652216056361794, 0.0008652216056361794, 0.0008652216056361794, 0.0008652216056361794, 0.0008652216056361794, 0.0008652216056361794, 0.0008652216056361794, 0.0008652216056361794, 0.0008652216056361794, 0.0008652216056361794, 0.0008652216056361794, 0.0008652216056361794, 0.0008652216056361794, 0.0008652216056361794, 0.0008652216056361794, 0.0008652216056361794, 0.0008652216056361794, 0.0008652216056361794, 0.0008652216056361794, 0.0008652216056361794, 0.0008652216056361794, 0.0008652216056361794, 0.0008652216056361794, 0.0008652216056361794, 0.0008652216056361794, 0.0008652216056361794, 0.0008652216056361794, 0.0008652216056361794, 0.0008652216056361794, 0.0008652216056361794, 0.0008652216056361794, 0.0008652216056361794, 0.0008652216056361794, 0.0008652216056361794, 0.0008652216056361794, 0.0008652216056361794, 0.0008652216056361794, 0.0008652216056361794, 0.0008652216056361794, 0.0008652216056361794, 0.0008652216056361794, 0.0008652216056361794, 0.0008652216056361794, 0.0008652216056361794, 0.0008652216056361794, 0.0008652216056361794, 0.0008652216056361794, 0.0008652216056361794, 0.0008652216056361794, 0.0008652216056361794, 0.0008652216056361794, 0.0008652216056361794, 0.0008652216056361794, 0.0008652216056361794, 0.0008652216056361794, 0.0008652216056361794, 0.0008652216056361794, 0.0008652216056361794, 0.0008652216056361794, 0.0008652216056361794, 0.0008652216056361794, 0.0008652216056361794, 0.0008652216056361794, 0.0008652216056361794, 0.0008652216056361794, 0.0008652216056361794, 0.0008652216056361794, 0.0008652216056361794, 0.0008652216056361794, 0.0008652216056361794, 0.0008652216056361794, 0.0008652216056361794, 0.0008652216056361794, 0.0008652216056361794, 0.0008652216056361794, 0.0008652216056361794, 0.0008652216056361794, 0.0008652216056361794, 0.0008652216056361794, 0.0008652216056361794, 0.0008652216056361794, 0.0008652216056361794, 0.0008652216056361794, 0.0008652216056361794, 0.0008652216056361794, 0.0008652216056361794, 0.0008652216056361794, 0.0008652216056361794, 0.0008652216056361794, 0.0008652216056361794, 0.0008652216056361794, 0.0008652216056361794, 0.0008652216056361794, 0.0008652216056361794, 0.0008652216056361794, 0.0008652216056361794, 0.0008652216056361794, 0.0008652216056361794, 0.0008652216056361794, 0.0008652216056361794, 0.0008652216056361794, 0.0008652216056361794, 0.0008652216056361794, 0.0008652216056361794, 0.0008652216056361794, 0.0008652216056361794, 0.0008652216056361794, 0.0008652216056361794, 0.0008652216056361794, 0.0008652216056361794, 0.0008652216056361794, 0.0008652216056361794, 0.0008652216056361794, 0.0008652216056361794, 0.0008652216056361794, 0.0008652216056361794, 0.0008652216056361794], \"Total\": [9.0, 2.0, 6.0, 2.0, 2.0, 2.0, 4.0, 4.0, 3.0, 3.0, 3.0, 2.0, 2.0, 2.0, 3.0, 3.0, 3.0, 2.0, 2.0, 2.0, 2.0, 2.0, 2.0, 2.0, 2.0, 2.0, 2.0, 2.0, 2.0, 2.0, 2.9333279132843018, 2.9322056770324707, 2.933225393295288, 2.0687320232391357, 2.068721055984497, 2.067753791809082, 2.0683960914611816, 2.0677919387817383, 1.204979419708252, 1.2047227621078491, 1.2045793533325195, 1.2045729160308838, 1.204531192779541, 1.2045373916625977, 1.2044990062713623, 1.2044594287872314, 1.204617977142334, 1.204448938369751, 1.204479455947876, 1.2043724060058594, 1.204338788986206, 1.2043743133544922, 1.2043712139129639, 1.2043975591659546, 1.2043448686599731, 1.2042902708053589, 1.204288125038147, 1.2043486833572388, 1.2042455673217773, 1.2042948007583618, 9.992609024047852, 2.6119544506073, 2.861543893814087, 2.8637807369232178, 4.378577709197998, 2.000408411026001, 2.0001583099365234, 6.549492835998535, 2.000171184539795, 1.7482479810714722, 2.0003225803375244, 1.9987746477127075, 3.4335031509399414, 1.9977282285690308, 1.927175760269165, 1.9267375469207764, 1.9258984327316284, 1.1339691877365112, 1.1339691877365112, 1.1339691877365112, 1.1339690685272217, 1.1339688301086426, 1.1339690685272217, 1.1339690685272217, 1.1339690685272217, 1.1334385871887207, 1.1334232091903687, 1.1333335638046265, 1.1333298683166504, 1.1333194971084595, 1.1333070993423462, 1.1333017349243164, 1.1332839727401733, 1.1332710981369019, 1.1332529783248901, 1.1331225633621216, 1.1331194639205933, 1.133105993270874, 1.133096694946289, 1.1330775022506714, 1.1330735683441162, 1.1330349445343018, 1.1330039501190186, 1.1330010890960693, 2.645202159881592, 2.7237389087677, 3.191481351852417, 3.335569381713867, 3.5180821418762207, 4.378577709197998, 1.1339123249053955, 1.1339117288589478, 1.1339079141616821, 9.992609024047852, 1.1339071989059448, 1.1339058876037598, 1.929734706878662, 1.9299272298812866, 3.0393381118774414, 1.631374478340149, 2.7188351154327393, 2.4952733516693115, 1.9987746477127075, 1.931204915046692, 1.1359370946884155, 1.1358871459960938, 1.135729432106018, 1.135758399963379, 1.1356889009475708, 1.1356381177902222, 1.135827898979187, 1.135644555091858, 1.1356160640716553, 1.1357845067977905, 1.1357725858688354, 1.1356987953186035, 1.1358522176742554, 1.1355100870132446, 1.135643720626831, 1.1355265378952026, 1.1356793642044067, 1.135837435722351, 1.1355606317520142, 1.135492205619812, 1.1354262828826904, 1.1355259418487549, 1.1353172063827515, 1.1355671882629395, 1.1354905366897583, 1.1354202032089233, 1.1353774070739746, 1.13545823097229, 1.1354291439056396, 1.135612964630127, 2.4749138355255127, 2.7254462242126465, 3.5180821418762207, 1.1356160640716553, 6.549492835998535, 2.0002071857452393, 2.5737967491149902, 1.9292893409729004, 1.9993159770965576, 2.0003225803375244, 1.8561561107635498, 2.5739879608154297, 1.8534941673278809, 1.9299272298812866, 1.9999053478240967, 1.7752948999404907, 1.0575366020202637, 1.0575366020202637, 1.0575366020202637, 1.0575366020202637, 1.0575366020202637, 1.0575364828109741, 1.0575364828109741, 1.0575364828109741, 1.0575364828109741, 1.0575364828109741, 1.0575364828109741, 1.0575364828109741, 1.0575364828109741, 1.0575364828109741, 1.0575367212295532, 1.0575364828109741, 1.0575364828109741, 1.0575364828109741, 1.0575364828109741, 1.0575364828109741, 1.0575363636016846, 1.0575364828109741, 1.0575363636016846, 1.0575363636016846, 1.0575363636016846, 1.0575364828109741, 1.0575363636016846, 1.057536244392395, 1.0575363636016846, 1.0575363636016846, 1.0575363636016846, 1.0575364828109741, 4.944864749908447, 3.4335031509399414, 6.549492835998535, 1.9206961393356323, 1.9208769798278809, 9.992609024047852, 1.9219688177108765, 2.3215904235839844, 2.645202159881592, 1.6009076833724976, 2.5737967491149902, 1.7807896137237549, 1.0604676008224487, 1.0604541301727295, 1.0604170560836792, 1.060415506362915, 1.0604069232940674, 1.0603885650634766, 1.060360074043274, 1.0603965520858765, 1.0603721141815186, 1.0603524446487427, 1.060340166091919, 1.060367465019226, 1.0603171586990356, 1.0603456497192383, 1.0603581666946411, 1.060304880142212, 1.0602926015853882, 1.0602915287017822, 1.0603162050247192, 1.060328722000122, 1.0603107213974, 1.0602303743362427, 1.0602482557296753, 1.0601664781570435, 1.0601840019226074, 1.060214877128601, 1.0602531433105469, 1.060189962387085, 1.0601978302001953, 1.0602513551712036, 3.1201343536376953, 6.549492835998535, 4.378577709197998, 2.65018892288208, 3.191481351852417, 1.4419208765029907, 1.7781437635421753, 2.5739879608154297, 2.3215904235839844, 1.426621675491333, 0.8834277987480164, 0.8833888173103333, 0.8832816481590271, 0.8832604885101318, 0.8832228779792786, 0.8831855058670044, 0.8831740617752075, 0.8831456899642944, 0.8829389810562134, 0.8828999996185303, 0.8828197121620178, 1.3808205127716064, 1.6009076833724976, 1.7482479810714722, 1.9847278594970703, 2.3215904235839844, 2.4749138355255127, 2.5410046577453613, 2.6119544506073, 3.0393381118774414, 3.1201343536376953, 3.191481351852417, 3.335569381713867, 0.7213128209114075, 0.7213128209114075, 0.7213128805160522, 0.7213128805160522, 0.7213128805160522, 0.721312940120697, 0.721312940120697, 9.992609024047852, 2.9333279132843018, 2.9322056770324707, 2.068721055984497, 2.067753791809082, 1.2037822008132935, 0.8371965885162354, 0.8371965885162354, 0.8371965885162354, 0.8371965885162354, 0.8371964693069458, 0.8371964693069458, 0.8371964693069458, 0.8371965885162354, 0.8371965885162354, 1.3808205127716064, 1.5576164722442627, 1.5577168464660645, 1.6305785179138184, 1.631374478340149, 1.701573371887207, 1.7017256021499634, 2.3504626750946045, 2.4952733516693115, 3.0393381118774414, 6.549492835998535, 9.992609024047852, 0.7213128209114075, 0.7213128209114075, 0.7213128805160522, 0.7213128805160522, 0.7213128805160522, 0.721312940120697, 0.721312940120697, 0.8828197121620178, 0.8828999996185303, 1.1353251934051514, 1.1352756023406982, 1.1352612972259521, 1.1353598833084106, 1.1355043649673462, 1.1351392269134521, 1.1354269981384277, 1.135446310043335, 1.1353824138641357, 2.8637807369232178, 2.4749138355255127, 1.931204915046692, 3.5180821418762207, 2.7254462242126465, 1.9995472431182861, 4.944864749908447, 2.7927985191345215, 0.7213128805160522, 0.721312940120697, 0.721312940120697, 0.7213128805160522, 0.7213128805160522, 0.7213128209114075, 0.7213128209114075, 2.762403726577759, 1.441773533821106, 1.4419208765029907, 1.9847278594970703, 6.549492835998535, 0.8371964693069458, 0.8371964693069458, 0.8371964693069458, 0.8371965885162354, 0.8371965885162354, 0.8371965885162354, 0.8371965885162354, 0.8371965885162354, 0.8371965885162354, 0.8828197121620178, 0.8828999996185303, 0.8829389810562134, 0.8831456899642944, 0.8831740617752075, 0.8831855058670044, 0.8832228779792786, 0.8832604885101318, 0.8832816481590271, 1.1356793642044067, 1.1355100870132446, 1.931204915046692, 2.8637807369232178, 1.1332710981369019, 1.927175760269165, 2.000171184539795, 1.1355606317520142, 1.1329877376556396, 1.9997470378875732, 1.1334232091903687, 1.1330349445343018, 1.1330039501190186, 2.645202159881592, 1.9267375469207764, 2.0002071857452393, 1.135644555091858, 1.1358871459960938, 0.7213128209114075, 0.7213128209114075, 0.7213128805160522, 0.7213128805160522, 0.7213128805160522, 0.721312940120697, 0.721312940120697, 0.8371964693069458, 0.8371964693069458, 0.8371964693069458, 0.8371965885162354, 0.8371965885162354, 0.8371965885162354, 0.8371965885162354, 0.8371965885162354, 0.8371965885162354, 0.8828197121620178, 0.8828999996185303, 0.8829389810562134, 0.8831456899642944, 0.8831740617752075, 0.8831855058670044, 0.8832228779792786, 0.8832604885101318, 0.8832816481590271, 0.8833888173103333, 0.8834277987480164, 1.0601450204849243, 1.0601530075073242, 1.0601664781570435, 1.426621675491333, 1.9847278594970703, 1.0601840019226074, 1.060189962387085, 1.0601978302001953, 1.0602149963378906, 1.060214877128601, 1.0602303743362427, 1.0602482557296753, 3.1201343536376953, 1.6009076833724976, 1.0602513551712036, 1.0602531433105469, 2.3215904235839844, 2.4749138355255127, 2.6119544506073, 1.3808205127716064, 1.7482479810714722, 3.191481351852417, 1.7807896137237549, 3.335569381713867, 2.5410046577453613, 6.549492835998535, 3.0393381118774414, 2.5737967491149902, 2.5739879608154297, 1.8561561107635498, 0.7213128209114075, 0.7213128209114075, 0.7213128805160522, 0.7213128805160522, 0.7213128805160522, 0.721312940120697, 0.721312940120697, 0.8371964693069458, 0.8371964693069458, 0.8371964693069458, 0.8371965885162354, 0.8371965885162354, 0.8371965885162354, 0.8371965885162354, 0.8371965885162354, 0.8371965885162354, 0.8828197121620178, 0.8828999996185303, 0.8829389810562134, 0.8831456899642944, 0.8831740617752075, 0.8831855058670044, 0.8832228779792786, 0.8832604885101318, 0.8832816481590271, 0.8833888173103333, 0.8834277987480164, 1.057536244392395, 1.0575363636016846, 1.0575363636016846, 1.0575363636016846, 1.0575363636016846, 1.0575363636016846, 1.0575364828109741, 1.0575366020202637, 1.0575364828109741, 1.0575364828109741, 1.0575364828109741, 1.0575364828109741, 1.0575363636016846, 1.0575364828109741, 1.0575364828109741, 1.0575364828109741, 1.0575364828109741, 1.0575367212295532, 1.0575363636016846, 1.2037099599838257, 1.2037822008132935, 1.2038671970367432, 1.203878402709961, 1.20380437374115, 1.203880786895752, 1.2039649486541748, 1.203955054283142, 1.204033613204956, 1.2040839195251465, 1.204031229019165, 1.2040629386901855, 1.2041436433792114, 1.2041707038879395, 1.2042455673217773, 1.2041722536087036, 2.9322056770324707, 2.067753791809082, 1.2042458057403564, 1.2042046785354614, 1.2042407989501953, 1.2041963338851929, 1.204288125038147, 2.9333279132843018, 2.0687320232391357, 1.2042948007583618, 1.204338788986206, 1.2042897939682007, 1.204276204109192, 1.2042902708053589, 2.068721055984497, 9.992609024047852, 4.378577709197998, 1.9997470378875732, 3.335569381713867, 2.762403726577759, 2.5410046577453613, 2.0683960914611816, 1.701573371887207, 2.0002071857452393, 2.7188351154327393, 0.7213128209114075, 0.7213128209114075, 0.7213128805160522, 0.7213128805160522, 0.7213128805160522, 0.721312940120697, 0.721312940120697, 0.8371964693069458, 0.8371964693069458, 0.8371964693069458, 0.8371965885162354, 0.8371965885162354, 0.8371965885162354, 0.8371965885162354, 0.8371965885162354, 0.8371965885162354, 0.8828197121620178, 0.8828999996185303, 0.8829389810562134, 0.8831456899642944, 0.8831740617752075, 0.8831855058670044, 0.8832228779792786, 0.8832604885101318, 0.8832816481590271, 0.8833888173103333, 0.8834277987480164, 1.057536244392395, 1.0575363636016846, 1.0575363636016846, 1.0575363636016846, 1.0575363636016846, 1.0575363636016846, 1.0575364828109741, 1.0575364828109741, 1.0575364828109741, 1.0575364828109741, 1.0575364828109741, 1.0575364828109741, 1.0575364828109741, 1.0575364828109741, 1.0575364828109741, 1.1351392269134521, 1.1353375911712646, 1.1352311372756958, 1.1352899074554443, 1.1353172063827515, 1.1353237628936768, 1.1354262828826904, 1.1353774070739746, 1.1353824138641357, 1.1353344917297363, 1.1354202032089233, 1.1353598833084106, 1.1352612972259521, 1.1355606317520142, 1.1354269981384277, 1.135446310043335, 1.1355265378952026, 1.1356381177902222, 1.1356160640716553, 1.135612964630127, 1.135644555091858, 1.1352756023406982, 1.1354291439056396, 1.931204915046692, 1.13545823097229, 1.1355043649673462, 1.1356889009475708, 1.1355100870132446, 1.135758399963379, 1.135729432106018, 3.5180821418762207, 2.4749138355255127, 2.7927985191345215, 1.9995472431182861, 2.65018892288208, 1.9293347597122192, 2.7254462242126465, 2.3504626750946045, 2.000171184539795, 2.000408411026001, 1.9999053478240967, 2.762403726577759, 2.7237389087677, 2.8637807369232178, 1.929734706878662, 1.8561561107635498, 0.7213128209114075, 0.7213128209114075, 0.7213128805160522, 0.7213128805160522, 0.7213128805160522, 0.721312940120697, 0.721312940120697, 0.8371964693069458, 0.8371964693069458, 0.8371964693069458, 0.8371965885162354, 0.8371965885162354, 0.8371965885162354, 0.8371965885162354, 0.8371965885162354, 0.8371965885162354, 0.8828197121620178, 0.8828999996185303, 0.8829389810562134, 0.8831456899642944, 0.8831740617752075, 0.8831855058670044, 0.8832228779792786, 0.8832604885101318, 0.8832816481590271, 0.8833888173103333, 0.8834277987480164, 1.057536244392395, 1.0575363636016846, 1.0575363636016846, 1.0575363636016846, 1.0575363636016846, 1.0575364828109741, 1.0575364828109741, 1.0575366020202637, 1.0575364828109741, 1.0575363636016846, 1.0575363636016846, 1.0575364828109741, 1.0575366020202637, 1.0575364828109741, 1.0575364828109741, 1.0575366020202637, 1.0575363636016846, 1.0575364828109741, 1.0575364828109741, 1.0575364828109741, 1.0575364828109741, 1.0575364828109741, 1.2035259008407593, 1.2036302089691162, 1.0575364828109741, 1.2037789821624756, 1.2036296129226685, 1.203824520111084, 1.2038503885269165, 1.2038637399673462, 1.203726887702942, 1.2038416862487793, 1.2037986516952515, 1.2037614583969116, 1.2037734985351562, 1.2035731077194214, 1.2038079500198364, 1.2037839889526367, 1.2039031982421875, 1.2039467096328735, 1.2037047147750854, 1.2039732933044434, 1.2038122415542603, 1.2040818929672241, 1.2041343450546265, 1.2038724422454834, 2.0677919387817383, 1.2036819458007812, 1.203959345817566, 1.2038742303848267, 1.2039333581924438, 1.2040998935699463, 1.2043365240097046, 2.933225393295288, 2.861543893814087, 2.8637807369232178, 9.992609024047852, 2.7927985191345215, 1.9993159770965576, 1.9206961393356323, 1.9999053478240967, 4.944864749908447, 0.7213128209114075, 0.7213128209114075, 0.7213128805160522, 0.7213128805160522, 0.7213128805160522, 0.721312940120697, 0.721312940120697, 0.8371964693069458, 0.8371964693069458, 0.8371964693069458, 0.8371965885162354, 0.8371965885162354, 0.8371965885162354, 0.8371965885162354, 0.8371965885162354, 0.8371965885162354, 0.8828197121620178, 0.8828999996185303, 0.8829389810562134, 0.8831456899642944, 0.8831740617752075, 0.8831855058670044, 0.8832228779792786, 0.8832604885101318, 0.8832816481590271, 0.8833888173103333, 0.8834277987480164, 1.057536244392395, 1.0575363636016846, 1.0575363636016846, 1.0575363636016846, 1.0575363636016846, 1.0575366020202637, 1.0575364828109741, 1.0575364828109741, 1.0575364828109741, 1.0575363636016846, 1.0575364828109741, 1.132916808128357, 1.1329174041748047, 1.1329489946365356, 1.132952094078064, 1.1329877376556396, 1.1329972743988037, 1.1330010890960693, 1.1330039501190186, 1.1330349445343018, 1.1330735683441162, 1.1330775022506714, 1.133096694946289, 1.133105993270874, 1.1331194639205933, 1.9258984327316284, 1.1331225633621216, 1.1332529783248901, 1.1332710981369019, 1.1332839727401733, 1.1333017349243164, 1.1333070993423462, 1.1333194971084595, 1.1333298683166504, 1.9267375469207764, 1.1333335638046265, 1.1334232091903687, 1.1334385871887207, 1.9977282285690308, 1.927175760269165, 3.5180821418762207, 1.6305785179138184, 3.4335031509399414, 2.5410046577453613, 2.861543893814087, 4.944864749908447, 2.7254462242126465, 3.191481351852417, 2.7927985191345215, 0.7213128209114075, 0.7213128209114075, 0.7213128805160522, 0.7213128805160522, 0.7213128805160522, 0.721312940120697, 0.721312940120697, 0.8371964693069458, 0.8371964693069458, 0.8371964693069458, 0.8371965885162354, 0.8371965885162354, 0.8371965885162354, 0.8371965885162354, 0.8371965885162354, 0.8371965885162354, 0.8828197121620178, 0.8828999996185303, 0.8829389810562134, 0.8831456899642944, 0.8831740617752075, 0.8831855058670044, 0.8832228779792786, 0.8832604885101318, 0.8832816481590271, 0.8833888173103333, 0.8834277987480164, 1.057536244392395, 1.0575363636016846, 1.0575363636016846, 1.0575364828109741, 1.0575364828109741, 1.0575363636016846, 1.0575363636016846, 1.0575364828109741, 1.0575364828109741, 1.0575364828109741, 1.0575363636016846, 1.0575364828109741, 1.0575364828109741, 1.0575364828109741, 1.0575364828109741, 1.0575364828109741, 1.0575364828109741, 1.0575366020202637, 1.0575364828109741, 1.20380437374115, 1.203880786895752, 1.2041963338851929, 1.2043486833572388, 1.203955054283142, 9.992609024047852, 2.9333279132843018, 2.9322056770324707, 2.067753791809082, 2.068721055984497, 4.378577709197998, 2.0687320232391357, 2.933225393295288, 1.9219688177108765, 1.2041722536087036, 1.204031229019165, 2.762403726577759, 2.7188351154327393, 1.2037822008132935, 1.204276204109192, 1.2042046785354614, 1.2039649486541748, 1.2042902708053589, 1.2043448686599731, 1.2040629386901855, 1.2044594287872314, 2.0003225803375244, 1.2041707038879395, 1.204479455947876, 1.9984418153762817, 0.7213128209114075, 0.7213128209114075, 0.7213128805160522, 0.7213128805160522, 0.7213128805160522, 0.721312940120697, 0.721312940120697, 0.8371964693069458, 0.8371964693069458, 0.8371964693069458, 0.8371965885162354, 0.8371965885162354, 0.8371965885162354, 0.8371965885162354, 0.8371965885162354, 0.8371965885162354, 0.8828197121620178, 0.8828999996185303, 0.8829389810562134, 0.8831456899642944, 0.8831740617752075, 0.8831855058670044, 0.8832228779792786, 0.8832604885101318, 0.8832816481590271, 0.8833888173103333, 0.8834277987480164, 1.057536244392395, 1.0575363636016846, 1.0575363636016846, 1.0575364828109741, 1.0575364828109741, 1.0575363636016846, 1.0575364828109741, 1.0575363636016846, 1.0575363636016846, 1.0575366020202637, 1.0575364828109741, 1.0575364828109741, 1.0575364828109741, 1.0575364828109741, 1.0575364828109741, 1.2047227621078491, 1.135612964630127, 1.1358522176742554, 1.135492205619812, 1.13545823097229, 1.1353375911712646, 1.135644555091858, 1.9997470378875732, 2.0002071857452393, 1.931204915046692, 2.8637807369232178, 2.000171184539795, 1.1355606317520142, 1.1355100870132446, 1.135837435722351, 1.1352612972259521, 1.9999053478240967, 1.1354905366897583, 1.1356987953186035, 1.1355043649673462, 1.1351392269134521, 1.1354291439056396, 1.1353598833084106, 1.9267375469207764, 2.645202159881592, 1.1330039501190186, 1.1330349445343018, 1.1334232091903687, 1.1329877376556396, 1.927175760269165, 0.7213128209114075, 0.7213128209114075, 0.7213128805160522, 0.7213128805160522, 0.7213128805160522, 0.721312940120697, 0.721312940120697, 0.8371964693069458, 0.8371964693069458, 0.8371964693069458, 0.8371965885162354, 0.8371965885162354, 0.8371965885162354, 0.8371965885162354, 0.8371965885162354, 0.8371965885162354, 0.8828197121620178, 0.8828999996185303, 0.8829389810562134, 0.8831456899642944, 0.8831740617752075, 0.8831855058670044, 0.8832228779792786, 0.8832604885101318, 0.8832816481590271, 0.8833888173103333, 0.8834277987480164, 1.057536244392395, 1.0575363636016846, 1.0575363636016846, 1.0575364828109741, 1.0575364828109741, 1.0575363636016846, 1.0575364828109741, 1.0575363636016846, 1.0575363636016846, 1.0575366020202637, 1.0575364828109741, 1.0575364828109741, 1.0575364828109741, 1.0575364828109741, 1.0575364828109741, 1.2047227621078491, 1.135612964630127, 1.1358522176742554, 1.135492205619812, 1.13545823097229, 1.1353375911712646, 1.135644555091858, 1.9997470378875732, 2.0002071857452393, 1.931204915046692, 2.8637807369232178, 2.000171184539795, 1.1355606317520142, 1.1355100870132446, 1.135837435722351, 1.1352612972259521, 1.9999053478240967, 1.1354905366897583, 1.1356987953186035, 1.1355043649673462, 1.1351392269134521, 1.1354291439056396, 1.1353598833084106, 1.9267375469207764, 2.645202159881592, 1.1330039501190186, 1.1330349445343018, 1.1334232091903687, 1.1329877376556396, 1.927175760269165], \"Category\": [\"Default\", \"Default\", \"Default\", \"Default\", \"Default\", \"Default\", \"Default\", \"Default\", \"Default\", \"Default\", \"Default\", \"Default\", \"Default\", \"Default\", \"Default\", \"Default\", \"Default\", \"Default\", \"Default\", \"Default\", \"Default\", \"Default\", \"Default\", \"Default\", \"Default\", \"Default\", \"Default\", \"Default\", \"Default\", \"Default\", \"Topic1\", \"Topic1\", \"Topic1\", \"Topic1\", \"Topic1\", \"Topic1\", \"Topic1\", \"Topic1\", \"Topic1\", \"Topic1\", \"Topic1\", \"Topic1\", \"Topic1\", \"Topic1\", \"Topic1\", \"Topic1\", \"Topic1\", \"Topic1\", \"Topic1\", \"Topic1\", \"Topic1\", \"Topic1\", \"Topic1\", \"Topic1\", \"Topic1\", \"Topic1\", \"Topic1\", \"Topic1\", \"Topic1\", \"Topic1\", \"Topic1\", \"Topic1\", \"Topic1\", \"Topic1\", \"Topic1\", \"Topic1\", \"Topic1\", \"Topic1\", \"Topic1\", \"Topic1\", \"Topic1\", \"Topic1\", \"Topic1\", \"Topic1\", \"Topic2\", \"Topic2\", \"Topic2\", \"Topic2\", \"Topic2\", \"Topic2\", \"Topic2\", \"Topic2\", \"Topic2\", \"Topic2\", \"Topic2\", \"Topic2\", \"Topic2\", \"Topic2\", \"Topic2\", \"Topic2\", \"Topic2\", \"Topic2\", \"Topic2\", \"Topic2\", \"Topic2\", \"Topic2\", \"Topic2\", \"Topic2\", \"Topic2\", \"Topic2\", \"Topic2\", \"Topic2\", \"Topic2\", \"Topic2\", \"Topic2\", \"Topic2\", \"Topic2\", \"Topic2\", \"Topic2\", \"Topic2\", \"Topic2\", \"Topic2\", \"Topic2\", \"Topic2\", \"Topic2\", \"Topic2\", \"Topic2\", \"Topic2\", \"Topic2\", \"Topic2\", \"Topic2\", \"Topic2\", \"Topic2\", \"Topic3\", \"Topic3\", \"Topic3\", \"Topic3\", \"Topic3\", \"Topic3\", \"Topic3\", \"Topic3\", \"Topic3\", \"Topic3\", \"Topic3\", \"Topic3\", \"Topic3\", \"Topic3\", \"Topic3\", \"Topic3\", \"Topic3\", \"Topic3\", \"Topic3\", \"Topic3\", \"Topic3\", \"Topic3\", \"Topic3\", \"Topic3\", \"Topic3\", \"Topic3\", \"Topic3\", \"Topic3\", \"Topic3\", \"Topic3\", \"Topic3\", \"Topic3\", \"Topic3\", \"Topic3\", \"Topic3\", \"Topic3\", \"Topic3\", \"Topic3\", \"Topic3\", \"Topic3\", \"Topic3\", \"Topic3\", \"Topic3\", \"Topic3\", \"Topic3\", \"Topic3\", \"Topic4\", \"Topic4\", \"Topic4\", \"Topic4\", \"Topic4\", \"Topic4\", \"Topic4\", \"Topic4\", \"Topic4\", \"Topic4\", \"Topic4\", \"Topic4\", \"Topic4\", \"Topic4\", \"Topic4\", \"Topic4\", \"Topic4\", \"Topic4\", \"Topic4\", \"Topic4\", \"Topic4\", \"Topic4\", \"Topic4\", \"Topic4\", \"Topic4\", \"Topic4\", \"Topic4\", \"Topic4\", \"Topic4\", \"Topic4\", \"Topic4\", \"Topic4\", \"Topic4\", \"Topic4\", \"Topic4\", \"Topic4\", \"Topic4\", \"Topic4\", \"Topic4\", \"Topic4\", \"Topic4\", \"Topic4\", \"Topic4\", \"Topic4\", \"Topic5\", \"Topic5\", \"Topic5\", \"Topic5\", \"Topic5\", \"Topic5\", \"Topic5\", \"Topic5\", \"Topic5\", \"Topic5\", \"Topic5\", \"Topic5\", \"Topic5\", \"Topic5\", \"Topic5\", \"Topic5\", \"Topic5\", \"Topic5\", \"Topic5\", \"Topic5\", \"Topic5\", \"Topic5\", \"Topic5\", \"Topic5\", \"Topic5\", \"Topic5\", \"Topic5\", \"Topic5\", \"Topic5\", \"Topic5\", \"Topic5\", \"Topic5\", \"Topic5\", \"Topic5\", \"Topic5\", \"Topic5\", \"Topic5\", \"Topic5\", \"Topic5\", \"Topic5\", \"Topic6\", \"Topic6\", \"Topic6\", \"Topic6\", \"Topic6\", \"Topic6\", \"Topic6\", \"Topic6\", \"Topic6\", \"Topic6\", \"Topic6\", \"Topic6\", \"Topic6\", \"Topic6\", \"Topic6\", \"Topic6\", \"Topic6\", \"Topic6\", \"Topic6\", \"Topic6\", \"Topic6\", \"Topic6\", \"Topic6\", \"Topic6\", \"Topic6\", \"Topic6\", \"Topic6\", \"Topic6\", \"Topic6\", \"Topic6\", \"Topic6\", \"Topic6\", \"Topic6\", \"Topic6\", \"Topic6\", \"Topic6\", \"Topic6\", \"Topic7\", \"Topic7\", \"Topic7\", \"Topic7\", \"Topic7\", \"Topic7\", \"Topic7\", \"Topic7\", \"Topic7\", \"Topic7\", \"Topic7\", \"Topic7\", \"Topic7\", \"Topic7\", \"Topic7\", \"Topic7\", \"Topic7\", \"Topic7\", \"Topic7\", \"Topic7\", \"Topic7\", \"Topic7\", \"Topic7\", \"Topic7\", \"Topic7\", \"Topic7\", \"Topic7\", \"Topic7\", \"Topic7\", \"Topic7\", \"Topic7\", \"Topic7\", \"Topic7\", \"Topic7\", \"Topic7\", \"Topic7\", \"Topic7\", \"Topic7\", \"Topic7\", \"Topic7\", \"Topic7\", \"Topic7\", \"Topic7\", \"Topic7\", \"Topic7\", \"Topic7\", \"Topic7\", \"Topic8\", \"Topic8\", \"Topic8\", \"Topic8\", \"Topic8\", \"Topic8\", \"Topic8\", \"Topic8\", \"Topic8\", \"Topic8\", \"Topic8\", \"Topic8\", \"Topic8\", \"Topic8\", \"Topic8\", \"Topic8\", \"Topic8\", \"Topic8\", \"Topic8\", \"Topic8\", \"Topic8\", \"Topic8\", \"Topic8\", \"Topic8\", \"Topic8\", \"Topic8\", \"Topic8\", \"Topic8\", \"Topic8\", \"Topic8\", \"Topic8\", \"Topic8\", \"Topic8\", \"Topic8\", \"Topic8\", \"Topic8\", \"Topic8\", \"Topic8\", \"Topic8\", \"Topic8\", \"Topic8\", \"Topic8\", \"Topic8\", \"Topic8\", \"Topic8\", \"Topic8\", \"Topic8\", \"Topic8\", \"Topic9\", \"Topic9\", \"Topic9\", \"Topic9\", \"Topic9\", \"Topic9\", \"Topic9\", \"Topic9\", \"Topic9\", \"Topic9\", \"Topic9\", \"Topic9\", \"Topic9\", \"Topic9\", \"Topic9\", \"Topic9\", \"Topic9\", \"Topic9\", \"Topic9\", \"Topic9\", \"Topic9\", \"Topic9\", \"Topic9\", \"Topic9\", \"Topic9\", \"Topic9\", \"Topic9\", \"Topic9\", \"Topic9\", \"Topic9\", \"Topic9\", \"Topic9\", \"Topic9\", \"Topic9\", \"Topic9\", \"Topic9\", \"Topic9\", \"Topic9\", \"Topic9\", \"Topic9\", \"Topic9\", \"Topic9\", \"Topic9\", \"Topic9\", \"Topic9\", \"Topic9\", \"Topic9\", \"Topic9\", \"Topic9\", \"Topic9\", \"Topic9\", \"Topic9\", \"Topic9\", \"Topic9\", \"Topic9\", \"Topic9\", \"Topic9\", \"Topic10\", \"Topic10\", \"Topic10\", \"Topic10\", \"Topic10\", \"Topic10\", \"Topic10\", \"Topic10\", \"Topic10\", \"Topic10\", \"Topic10\", \"Topic10\", \"Topic10\", \"Topic10\", \"Topic10\", \"Topic10\", \"Topic10\", \"Topic10\", \"Topic10\", \"Topic10\", \"Topic10\", \"Topic10\", \"Topic10\", \"Topic10\", \"Topic10\", \"Topic10\", \"Topic10\", \"Topic10\", \"Topic10\", \"Topic10\", \"Topic10\", \"Topic10\", \"Topic10\", \"Topic10\", \"Topic10\", \"Topic10\", \"Topic10\", \"Topic10\", \"Topic10\", \"Topic10\", \"Topic10\", \"Topic10\", \"Topic10\", \"Topic10\", \"Topic10\", \"Topic10\", \"Topic10\", \"Topic10\", \"Topic10\", \"Topic10\", \"Topic10\", \"Topic10\", \"Topic10\", \"Topic10\", \"Topic10\", \"Topic10\", \"Topic10\", \"Topic10\", \"Topic10\", \"Topic10\", \"Topic10\", \"Topic10\", \"Topic10\", \"Topic10\", \"Topic10\", \"Topic10\", \"Topic10\", \"Topic10\", \"Topic10\", \"Topic10\", \"Topic10\", \"Topic10\", \"Topic10\", \"Topic10\", \"Topic10\", \"Topic10\", \"Topic10\", \"Topic10\", \"Topic10\", \"Topic10\", \"Topic10\", \"Topic10\", \"Topic10\", \"Topic10\", \"Topic10\", \"Topic10\", \"Topic10\", \"Topic11\", \"Topic11\", \"Topic11\", \"Topic11\", \"Topic11\", \"Topic11\", \"Topic11\", \"Topic11\", \"Topic11\", \"Topic11\", \"Topic11\", \"Topic11\", \"Topic11\", \"Topic11\", \"Topic11\", \"Topic11\", \"Topic11\", \"Topic11\", \"Topic11\", \"Topic11\", \"Topic11\", \"Topic11\", \"Topic11\", \"Topic11\", \"Topic11\", \"Topic11\", \"Topic11\", \"Topic11\", \"Topic11\", \"Topic11\", \"Topic11\", \"Topic11\", \"Topic11\", \"Topic11\", \"Topic11\", \"Topic11\", \"Topic11\", \"Topic11\", \"Topic11\", \"Topic11\", \"Topic11\", \"Topic11\", \"Topic11\", \"Topic11\", \"Topic11\", \"Topic11\", \"Topic11\", \"Topic11\", \"Topic11\", \"Topic11\", \"Topic11\", \"Topic11\", \"Topic11\", \"Topic11\", \"Topic11\", \"Topic11\", \"Topic11\", \"Topic11\", \"Topic11\", \"Topic11\", \"Topic11\", \"Topic11\", \"Topic11\", \"Topic11\", \"Topic11\", \"Topic11\", \"Topic11\", \"Topic11\", \"Topic11\", \"Topic11\", \"Topic11\", \"Topic11\", \"Topic11\", \"Topic11\", \"Topic11\", \"Topic11\", \"Topic11\", \"Topic11\", \"Topic11\", \"Topic11\", \"Topic11\", \"Topic11\", \"Topic11\", \"Topic11\", \"Topic11\", \"Topic11\", \"Topic11\", \"Topic11\", \"Topic12\", \"Topic12\", \"Topic12\", \"Topic12\", \"Topic12\", \"Topic12\", \"Topic12\", \"Topic12\", \"Topic12\", \"Topic12\", \"Topic12\", \"Topic12\", \"Topic12\", \"Topic12\", \"Topic12\", \"Topic12\", \"Topic12\", \"Topic12\", \"Topic12\", \"Topic12\", \"Topic12\", \"Topic12\", \"Topic12\", \"Topic12\", \"Topic12\", \"Topic12\", \"Topic12\", \"Topic12\", \"Topic12\", \"Topic12\", \"Topic12\", \"Topic12\", \"Topic12\", \"Topic12\", \"Topic12\", \"Topic12\", \"Topic12\", \"Topic12\", \"Topic12\", \"Topic12\", \"Topic12\", \"Topic12\", \"Topic12\", \"Topic12\", \"Topic12\", \"Topic12\", \"Topic12\", \"Topic12\", \"Topic12\", \"Topic12\", \"Topic12\", \"Topic12\", \"Topic12\", \"Topic12\", \"Topic12\", \"Topic12\", \"Topic12\", \"Topic12\", \"Topic12\", \"Topic12\", \"Topic12\", \"Topic12\", \"Topic12\", \"Topic12\", \"Topic12\", \"Topic12\", \"Topic12\", \"Topic12\", \"Topic12\", \"Topic12\", \"Topic12\", \"Topic12\", \"Topic12\", \"Topic12\", \"Topic12\", \"Topic12\", \"Topic12\", \"Topic12\", \"Topic12\", \"Topic12\", \"Topic12\", \"Topic12\", \"Topic12\", \"Topic12\", \"Topic12\", \"Topic12\", \"Topic12\", \"Topic12\", \"Topic12\", \"Topic13\", \"Topic13\", \"Topic13\", \"Topic13\", \"Topic13\", \"Topic13\", \"Topic13\", \"Topic13\", \"Topic13\", \"Topic13\", \"Topic13\", \"Topic13\", \"Topic13\", \"Topic13\", \"Topic13\", \"Topic13\", \"Topic13\", \"Topic13\", \"Topic13\", \"Topic13\", \"Topic13\", \"Topic13\", \"Topic13\", \"Topic13\", \"Topic13\", \"Topic13\", \"Topic13\", \"Topic13\", \"Topic13\", \"Topic13\", \"Topic13\", \"Topic13\", \"Topic13\", \"Topic13\", \"Topic13\", \"Topic13\", \"Topic13\", \"Topic13\", \"Topic13\", \"Topic13\", \"Topic13\", \"Topic13\", \"Topic13\", \"Topic13\", \"Topic13\", \"Topic13\", \"Topic13\", \"Topic13\", \"Topic13\", \"Topic13\", \"Topic13\", \"Topic13\", \"Topic13\", \"Topic13\", \"Topic13\", \"Topic13\", \"Topic13\", \"Topic13\", \"Topic13\", \"Topic13\", \"Topic13\", \"Topic13\", \"Topic13\", \"Topic13\", \"Topic13\", \"Topic13\", \"Topic13\", \"Topic13\", \"Topic13\", \"Topic13\", \"Topic13\", \"Topic13\", \"Topic13\", \"Topic13\", \"Topic13\", \"Topic13\", \"Topic14\", \"Topic14\", \"Topic14\", \"Topic14\", \"Topic14\", \"Topic14\", \"Topic14\", \"Topic14\", \"Topic14\", \"Topic14\", \"Topic14\", \"Topic14\", \"Topic14\", \"Topic14\", \"Topic14\", \"Topic14\", \"Topic14\", \"Topic14\", \"Topic14\", \"Topic14\", \"Topic14\", \"Topic14\", \"Topic14\", \"Topic14\", \"Topic14\", \"Topic14\", \"Topic14\", \"Topic14\", \"Topic14\", \"Topic14\", \"Topic14\", \"Topic14\", \"Topic14\", \"Topic14\", \"Topic14\", \"Topic14\", \"Topic14\", \"Topic14\", \"Topic14\", \"Topic14\", \"Topic14\", \"Topic14\", \"Topic14\", \"Topic14\", \"Topic14\", \"Topic14\", \"Topic14\", \"Topic14\", \"Topic14\", \"Topic14\", \"Topic14\", \"Topic14\", \"Topic14\", \"Topic14\", \"Topic14\", \"Topic14\", \"Topic14\", \"Topic14\", \"Topic14\", \"Topic14\", \"Topic14\", \"Topic14\", \"Topic14\", \"Topic14\", \"Topic14\", \"Topic14\", \"Topic14\", \"Topic14\", \"Topic14\", \"Topic14\", \"Topic14\", \"Topic14\", \"Topic14\", \"Topic14\", \"Topic14\", \"Topic14\", \"Topic15\", \"Topic15\", \"Topic15\", \"Topic15\", \"Topic15\", \"Topic15\", \"Topic15\", \"Topic15\", \"Topic15\", \"Topic15\", \"Topic15\", \"Topic15\", \"Topic15\", \"Topic15\", \"Topic15\", \"Topic15\", \"Topic15\", \"Topic15\", \"Topic15\", \"Topic15\", \"Topic15\", \"Topic15\", \"Topic15\", \"Topic15\", \"Topic15\", \"Topic15\", \"Topic15\", \"Topic15\", \"Topic15\", \"Topic15\", \"Topic15\", \"Topic15\", \"Topic15\", \"Topic15\", \"Topic15\", \"Topic15\", \"Topic15\", \"Topic15\", \"Topic15\", \"Topic15\", \"Topic15\", \"Topic15\", \"Topic15\", \"Topic15\", \"Topic15\", \"Topic15\", \"Topic15\", \"Topic15\", \"Topic15\", \"Topic15\", \"Topic15\", \"Topic15\", \"Topic15\", \"Topic15\", \"Topic15\", \"Topic15\", \"Topic15\", \"Topic15\", \"Topic15\", \"Topic15\", \"Topic15\", \"Topic15\", \"Topic15\", \"Topic15\", \"Topic15\", \"Topic15\", \"Topic15\", \"Topic15\", \"Topic15\", \"Topic15\", \"Topic15\", \"Topic15\", \"Topic16\", \"Topic16\", \"Topic16\", \"Topic16\", \"Topic16\", \"Topic16\", \"Topic16\", \"Topic16\", \"Topic16\", \"Topic16\", \"Topic16\", \"Topic16\", \"Topic16\", \"Topic16\", \"Topic16\", \"Topic16\", \"Topic16\", \"Topic16\", \"Topic16\", \"Topic16\", \"Topic16\", \"Topic16\", \"Topic16\", \"Topic16\", \"Topic16\", \"Topic16\", \"Topic16\", \"Topic16\", \"Topic16\", \"Topic16\", \"Topic16\", \"Topic16\", \"Topic16\", \"Topic16\", \"Topic16\", \"Topic16\", \"Topic16\", \"Topic16\", \"Topic16\", \"Topic16\", \"Topic16\", \"Topic16\", \"Topic16\", \"Topic16\", \"Topic16\", \"Topic16\", \"Topic16\", \"Topic16\", \"Topic16\", \"Topic16\", \"Topic16\", \"Topic16\", \"Topic16\", \"Topic16\", \"Topic16\", \"Topic16\", \"Topic16\", \"Topic16\", \"Topic16\", \"Topic16\", \"Topic16\", \"Topic16\", \"Topic16\", \"Topic16\", \"Topic16\", \"Topic16\", \"Topic16\", \"Topic16\", \"Topic16\", \"Topic16\", \"Topic16\", \"Topic16\"], \"logprob\": [30.0, 29.0, 28.0, 27.0, 26.0, 25.0, 24.0, 23.0, 22.0, 21.0, 20.0, 19.0, 18.0, 17.0, 16.0, 15.0, 14.0, 13.0, 12.0, 11.0, 10.0, 9.0, 8.0, 7.0, 6.0, 5.0, 4.0, 3.0, 2.0, 1.0, -3.927999973297119, -3.9284000396728516, -3.9300999641418457, -4.323299884796143, -4.323299884796143, -4.32390022277832, -4.325300216674805, -4.328000068664551, -4.9857001304626465, -4.986000061035156, -4.986199855804443, -4.986199855804443, -4.986199855804443, -4.986199855804443, -4.986299991607666, -4.986299991607666, -4.986199855804443, -4.986299991607666, -4.986299991607666, -4.986400127410889, -4.986400127410889, -4.986400127410889, -4.986400127410889, -4.986400127410889, -4.986499786376953, -4.986499786376953, -4.986499786376953, -4.986499786376953, -4.986599922180176, -4.986499786376953, -3.092900037765503, -4.32480001449585, -4.3277997970581055, -4.327400207519531, -4.322800159454346, -4.985599994659424, -4.985799789428711, -4.985899925231934, -4.985899925231934, -4.986000061035156, -4.986100196838379, -4.986100196838379, -4.986199855804443, -4.986199855804443, -3.9275999069213867, -3.9279000759124756, -3.9284000396728516, -4.5903000831604, -4.5903000831604, -4.5903000831604, -4.5903000831604, -4.5903000831604, -4.5903000831604, -4.5903000831604, -4.5903000831604, -4.59089994430542, -4.591000080108643, -4.591100215911865, -4.591100215911865, -4.591100215911865, -4.591100215911865, -4.591100215911865, -4.591100215911865, -4.59119987487793, -4.59119987487793, -4.591300010681152, -4.591300010681152, -4.591300010681152, -4.591400146484375, -4.591400146484375, -4.591400146484375, -4.591400146484375, -4.5914998054504395, -4.5914998054504395, -3.9277000427246094, -3.927799940109253, -3.927799940109253, -3.9274001121520996, -3.927799940109253, -3.928100109100342, -4.591000080108643, -4.591000080108643, -4.591100215911865, -3.9277000427246094, -4.591100215911865, -4.591100215911865, -4.5903000831604, -4.5903000831604, -4.5903000831604, -4.5903000831604, -4.5903000831604, -4.591000080108643, -4.591100215911865, -3.8993000984191895, -4.561699867248535, -4.561800003051758, -4.5619001388549805, -4.5619001388549805, -4.562099933624268, -4.56220006942749, -4.561999797821045, -4.56220006942749, -4.56220006942749, -4.562099933624268, -4.562099933624268, -4.56220006942749, -4.562099933624268, -4.562399864196777, -4.562300205230713, -4.562399864196777, -4.562300205230713, -4.56220006942749, -4.5625, -4.562600135803223, -4.562600135803223, -4.5625, -4.562699794769287, -4.5625, -4.562600135803223, -4.562699794769287, -4.562699794769287, -4.562699794769287, -4.562699794769287, -4.562600135803223, -3.8996999263763428, -3.8987998962402344, -3.8994998931884766, -4.562600135803223, -4.5619001388549805, -4.561999797821045, -4.561999797821045, -4.562099933624268, -4.562099933624268, -4.562099933624268, -4.562099933624268, -4.56220006942749, -4.56220006942749, -4.562300205230713, -4.562300205230713, -3.6064000129699707, -4.269700050354004, -4.269700050354004, -4.269700050354004, -4.269700050354004, -4.269700050354004, -4.269700050354004, -4.269700050354004, -4.269700050354004, -4.269700050354004, -4.269700050354004, -4.269700050354004, -4.269700050354004, -4.269700050354004, -4.269700050354004, -4.269700050354004, -4.269700050354004, -4.269700050354004, -4.269700050354004, -4.269700050354004, -4.269700050354004, -4.269700050354004, -4.269700050354004, -4.269700050354004, -4.269700050354004, -4.269700050354004, -4.269700050354004, -4.269700050354004, -4.269700050354004, -4.269700050354004, -4.269700050354004, -4.269700050354004, -4.269700050354004, -3.206899881362915, -3.606300115585327, -3.606300115585327, -4.260300159454346, -4.261499881744385, -4.263400077819824, -4.269599914550781, -4.269700050354004, -4.269700050354004, -4.269700050354004, -4.269700050354004, -3.5906999111175537, -4.253699779510498, -4.253699779510498, -4.253799915313721, -4.253799915313721, -4.253799915313721, -4.253799915313721, -4.253900051116943, -4.253799915313721, -4.253900051116943, -4.253900051116943, -4.253900051116943, -4.253900051116943, -4.253900051116943, -4.253900051116943, -4.253900051116943, -4.254000186920166, -4.254000186920166, -4.254000186920166, -4.254000186920166, -4.253900051116943, -4.254000186920166, -4.254000186920166, -4.254000186920166, -4.2540998458862305, -4.2540998458862305, -4.2540998458862305, -4.2540998458862305, -4.2540998458862305, -4.2540998458862305, -4.2540998458862305, -3.59060001373291, -3.5906999111175537, -4.251699924468994, -4.252699851989746, -4.253200054168701, -4.253799915313721, -4.253799915313721, -4.253900051116943, -4.253900051116943, -3.0999999046325684, -3.7629001140594482, -3.763000011444092, -3.763200044631958, -3.763200044631958, -3.7632999420166016, -3.7632999420166016, -3.763400077819824, -3.763400077819824, -3.7637999057769775, -3.7637999057769775, -3.7639999389648438, -3.7629001140594482, -3.763400077819824, -3.7630999088287354, -3.7639999389648438, -3.7630999088287354, -3.7629001140594482, -3.7630999088287354, -3.763700008392334, -3.7630999088287354, -3.763400077819824, -3.763000011444092, -3.7632999420166016, -6.59499979019165, -6.59499979019165, -6.59499979019165, -6.59499979019165, -6.59499979019165, -6.59499979019165, -6.59499979019165, -6.591800212860107, -6.591899871826172, -6.5920000076293945, -6.592899799346924, -6.5929999351501465, -6.593200206756592, -3.6775999069213867, -3.6775999069213867, -3.6775999069213867, -3.6775999069213867, -3.6775999069213867, -3.6775999069213867, -3.6775999069213867, -3.6775999069213867, -3.6775999069213867, -3.6775999069213867, -3.6775999069213867, -3.6775999069213867, -3.6775999069213867, -3.6775999069213867, -3.6775999069213867, -3.6775999069213867, -3.6754000186920166, -3.6775999069213867, -3.6761999130249023, -3.6754000186920166, -3.6719000339508057, -6.510799884796143, -6.510799884796143, -6.510799884796143, -6.510799884796143, -6.510799884796143, -6.510799884796143, -6.510799884796143, -6.510799884796143, -6.510799884796143, -6.45419979095459, -6.460899829864502, -6.464200019836426, -6.464300155639648, -6.4654998779296875, -6.46589994430542, -6.46619987487793, -6.466800212860107, -6.467100143432617, -6.41510009765625, -6.424600124359131, -6.440100193023682, -6.430300235748291, -6.442800045013428, -6.4506001472473145, -6.442999839782715, -6.44980001449585, -3.458400011062622, -3.458400011062622, -3.458400011062622, -3.458400011062622, -3.458400011062622, -3.458400011062622, -3.458400011062622, -2.795099973678589, -3.458400011062622, -3.458400011062622, -3.458400011062622, -3.458400011062622, -6.291600227355957, -6.291600227355957, -6.291600227355957, -6.291600227355957, -6.291600227355957, -6.291600227355957, -6.291600227355957, -6.291600227355957, -6.291600227355957, -6.291600227355957, -6.291600227355957, -6.291600227355957, -6.291600227355957, -6.291600227355957, -6.291600227355957, -6.291600227355957, -6.291600227355957, -6.291600227355957, -6.291600227355957, -6.291600227355957, -6.291600227355957, -6.291600227355957, -6.291600227355957, -6.291600227355957, -6.291600227355957, -6.291600227355957, -6.291600227355957, -6.291600227355957, -6.291600227355957, -6.291600227355957, -6.291600227355957, -6.291600227355957, -6.291600227355957, -6.291600227355957, -6.291600227355957, -6.291600227355957, -5.810100078582764, -5.810100078582764, -5.810100078582764, -5.810100078582764, -5.810100078582764, -5.810100078582764, -5.810100078582764, -5.810100078582764, -5.810100078582764, -5.810100078582764, -5.810100078582764, -5.810100078582764, -5.810100078582764, -5.810100078582764, -5.810100078582764, -5.810100078582764, -5.774099826812744, -5.776500225067139, -5.777599811553955, -5.783699989318848, -5.7845001220703125, -5.784900188446045, -5.785999774932861, -5.787099838256836, -5.787700176239014, -5.790900230407715, -5.791999816894531, -5.79610013961792, -5.796199798583984, -5.796599864959717, -5.761300086975098, -5.761199951171875, -5.796999931335449, -5.797100067138672, -5.797299861907959, -5.797599792480469, -5.797699928283691, -5.797999858856201, -5.798399925231934, -5.7617998123168945, -5.784200191497803, -5.798399925231934, -5.798500061035156, -5.7789998054504395, -5.779300212860107, -5.77869987487793, -5.7916998863220215, -5.787700176239014, -5.78000020980835, -5.788400173187256, -5.784800052642822, -5.788400173187256, -5.783599853515625, -5.788700103759766, -5.789999961853027, -5.794899940490723, -5.795499801635742, -5.813300132751465, -5.813300132751465, -5.813300132751465, -5.813300132751465, -5.813300132751465, -5.813300132751465, -5.813300132751465, -5.813300132751465, -5.813300132751465, -5.813300132751465, -5.813300132751465, -5.813300132751465, -5.813300132751465, -5.813300132751465, -5.813300132751465, -5.813300132751465, -5.813300132751465, -5.813300132751465, -5.813300132751465, -5.813300132751465, -5.813300132751465, -5.813300132751465, -5.813300132751465, -5.813300132751465, -5.813300132751465, -5.813300132751465, -5.813300132751465, -5.813300132751465, -5.813300132751465, -5.813300132751465, -5.813300132751465, -5.813300132751465, -5.813300132751465, -5.813300132751465, -5.813300132751465, -5.813300132751465, -5.813300132751465, -5.813300132751465, -5.813300132751465, -5.813300132751465, -5.813300132751465, -5.813300132751465, -5.813300132751465, -5.813300132751465, -5.813300132751465, -5.813300132751465, -5.771200180053711, -5.7733001708984375, -5.773600101470947, -5.773900032043457, -5.7743000984191895, -5.7754998207092285, -5.776299953460693, -5.776599884033203, -5.777299880981445, -5.777500152587891, -5.777699947357178, -5.777900218963623, -5.778600215911865, -5.779900074005127, -5.780200004577637, -5.780600070953369, -5.701399803161621, -5.7332000732421875, -5.780600070953369, -5.780700206756592, -5.780700206756592, -5.781400203704834, -5.781499862670898, -5.721799850463867, -5.748300075531006, -5.781499862670898, -5.781799793243408, -5.7820000648498535, -5.7820000648498535, -5.782100200653076, -5.74970006942749, -5.698800086975098, -5.767099857330322, -5.776100158691406, -5.773799896240234, -5.775199890136719, -5.777599811553955, -5.778200149536133, -5.779699802398682, -5.78000020980835, -5.78000020980835, -5.808499813079834, -5.808499813079834, -5.808499813079834, -5.808499813079834, -5.808499813079834, -5.808499813079834, -5.808499813079834, -5.808499813079834, -5.808499813079834, -5.808499813079834, -5.808499813079834, -5.808499813079834, -5.808499813079834, -5.808499813079834, -5.808499813079834, -5.808499813079834, -5.808499813079834, -5.808499813079834, -5.808499813079834, -5.808499813079834, -5.808499813079834, -5.808499813079834, -5.808499813079834, -5.808499813079834, -5.808499813079834, -5.808499813079834, -5.808499813079834, -5.808499813079834, -5.808499813079834, -5.808499813079834, -5.808499813079834, -5.808499813079834, -5.808499813079834, -5.808499813079834, -5.808499813079834, -5.808499813079834, -5.808499813079834, -5.808499813079834, -5.808499813079834, -5.808499813079834, -5.808499813079834, -5.808499813079834, -5.788599967956543, -5.7895002365112305, -5.78980016708374, -5.790800094604492, -5.791200160980225, -5.791800022125244, -5.792399883270264, -5.792699813842773, -5.792799949645996, -5.793099880218506, -5.793300151824951, -5.793700218200684, -5.793799877166748, -5.793799877166748, -5.793799877166748, -5.793900012969971, -5.794000148773193, -5.794099807739258, -5.79449987411499, -5.794600009918213, -5.794600009918213, -5.7947001457214355, -5.7947001457214355, -5.776400089263916, -5.7947998046875, -5.794899940490723, -5.794899940490723, -5.794899940490723, -5.7957000732421875, -5.7957000732421875, -5.7789998054504395, -5.786300182342529, -5.788700103759766, -5.79040002822876, -5.7906999588012695, -5.790800094604492, -5.791100025177002, -5.791299819946289, -5.791999816894531, -5.792399883270264, -5.792600154876709, -5.792799949645996, -5.792900085449219, -5.793399810791016, -5.793499946594238, -5.793700218200684, -5.8084001541137695, -5.8084001541137695, -5.8084001541137695, -5.8084001541137695, -5.8084001541137695, -5.8084001541137695, -5.8084001541137695, -5.8084001541137695, -5.8084001541137695, -5.8084001541137695, -5.8084001541137695, -5.8084001541137695, -5.8084001541137695, -5.8084001541137695, -5.8084001541137695, -5.8084001541137695, -5.8084001541137695, -5.8084001541137695, -5.8084001541137695, -5.8084001541137695, -5.8084001541137695, -5.8084001541137695, -5.8084001541137695, -5.8084001541137695, -5.8084001541137695, -5.8084001541137695, -5.8084001541137695, -5.8084001541137695, -5.8084001541137695, -5.8084001541137695, -5.8084001541137695, -5.8084001541137695, -5.8084001541137695, -5.8084001541137695, -5.8084001541137695, -5.8084001541137695, -5.8084001541137695, -5.8084001541137695, -5.8084001541137695, -5.8084001541137695, -5.8084001541137695, -5.8084001541137695, -5.8084001541137695, -5.8084001541137695, -5.8084001541137695, -5.8084001541137695, -5.8084001541137695, -5.8084001541137695, -5.8084001541137695, -5.781099796295166, -5.781700134277344, -5.8084001541137695, -5.7835001945495605, -5.783699989318848, -5.783899784088135, -5.784200191497803, -5.784599781036377, -5.784800052642822, -5.784999847412109, -5.785200119018555, -5.785600185394287, -5.785799980163574, -5.786200046539307, -5.786200046539307, -5.786399841308594, -5.786499977111816, -5.7866997718811035, -5.786900043487549, -5.7870001792907715, -5.787300109863281, -5.787300109863281, -5.787700176239014, -5.787899971008301, -5.763800144195557, -5.788400173187256, -5.78849983215332, -5.78879976272583, -5.789299964904785, -5.790900230407715, -5.790999889373779, -5.7667999267578125, -5.769000053405762, -5.77370023727417, -5.781000137329102, -5.78439998626709, -5.785299777984619, -5.7855000495910645, -5.785699844360352, -5.785900115966797, -5.807400226593018, -5.807400226593018, -5.807400226593018, -5.807400226593018, -5.807400226593018, -5.807400226593018, -5.807400226593018, -5.807400226593018, -5.807400226593018, -5.807400226593018, -5.807400226593018, -5.807400226593018, -5.807400226593018, -5.807400226593018, -5.807400226593018, -5.807400226593018, -5.807400226593018, -5.807400226593018, -5.807400226593018, -5.807400226593018, -5.807400226593018, -5.807400226593018, -5.807400226593018, -5.807400226593018, -5.807400226593018, -5.807400226593018, -5.807400226593018, -5.807400226593018, -5.807400226593018, -5.807400226593018, -5.807400226593018, -5.807400226593018, -5.807400226593018, -5.807400226593018, -5.807400226593018, -5.807400226593018, -5.807400226593018, -5.807400226593018, -5.785999774932861, -5.786099910736084, -5.7866997718811035, -5.786799907684326, -5.787499904632568, -5.787700176239014, -5.787700176239014, -5.787799835205078, -5.788400173187256, -5.7891998291015625, -5.789299964904785, -5.789700031280518, -5.789899826049805, -5.79010009765625, -5.761899948120117, -5.790200233459473, -5.792799949645996, -5.7932000160217285, -5.793399810791016, -5.793799877166748, -5.793900012969971, -5.7941999435424805, -5.794400215148926, -5.778500080108643, -5.794400215148926, -5.796299934387207, -5.796599864959717, -5.786200046539307, -5.787300109863281, -5.780099868774414, -5.791200160980225, -5.790999889373779, -5.791600227355957, -5.7916998863220215, -5.792099952697754, -5.792799949645996, -5.793000221252441, -5.793399810791016, -5.805699825286865, -5.805699825286865, -5.805699825286865, -5.805699825286865, -5.805699825286865, -5.805699825286865, -5.805699825286865, -5.805699825286865, -5.805699825286865, -5.805699825286865, -5.805699825286865, -5.805699825286865, -5.805699825286865, -5.805699825286865, -5.805699825286865, -5.805699825286865, -5.805699825286865, -5.805699825286865, -5.805699825286865, -5.805699825286865, -5.805699825286865, -5.805699825286865, -5.805699825286865, -5.805699825286865, -5.805699825286865, -5.805699825286865, -5.805699825286865, -5.805699825286865, -5.805699825286865, -5.805699825286865, -5.805699825286865, -5.805699825286865, -5.805699825286865, -5.805699825286865, -5.805699825286865, -5.805699825286865, -5.805699825286865, -5.805699825286865, -5.805699825286865, -5.805699825286865, -5.805699825286865, -5.805699825286865, -5.805699825286865, -5.805699825286865, -5.805699825286865, -5.805699825286865, -5.802000045776367, -5.802199840545654, -5.802199840545654, -5.8024001121521, -5.802599906921387, -5.796000003814697, -5.797999858856201, -5.7993998527526855, -5.800300121307373, -5.8007001876831055, -5.801400184631348, -5.802000045776367, -5.802199840545654, -5.802499771118164, -5.802700042724609, -5.802800178527832, -5.802800178527832, -5.8028998374938965, -5.8028998374938965, -5.8028998374938965, -5.802999973297119, -5.802999973297119, -5.802999973297119, -5.802999973297119, -5.802999973297119, -5.803100109100342, -5.803100109100342, -5.803100109100342, -5.803100109100342, -5.803199768066406, -5.805099964141846, -5.805099964141846, -5.805099964141846, -5.805099964141846, -5.805099964141846, -5.805099964141846, -5.805099964141846, -5.805099964141846, -5.805099964141846, -5.805099964141846, -5.805099964141846, -5.805099964141846, -5.805099964141846, -5.805099964141846, -5.805099964141846, -5.805099964141846, -5.805099964141846, -5.805099964141846, -5.805099964141846, -5.805099964141846, -5.805099964141846, -5.805099964141846, -5.805099964141846, -5.805099964141846, -5.805099964141846, -5.805099964141846, -5.805099964141846, -5.805099964141846, -5.805099964141846, -5.805099964141846, -5.805099964141846, -5.805099964141846, -5.805099964141846, -5.805099964141846, -5.805099964141846, -5.805099964141846, -5.805099964141846, -5.805099964141846, -5.805099964141846, -5.805099964141846, -5.805099964141846, -5.805099964141846, -5.805099964141846, -5.805099964141846, -5.805099964141846, -5.805099964141846, -5.805099964141846, -5.805099964141846, -5.805099964141846, -5.805099964141846, -5.805099964141846, -5.805099964141846, -5.805099964141846, -5.805099964141846, -5.805099964141846, -5.805099964141846, -5.805099964141846, -5.805099964141846, -5.805099964141846, -5.805099964141846, -5.805099964141846, -5.805099964141846, -5.805099964141846, -5.805099964141846, -5.805099964141846, -5.805099964141846, -5.805099964141846, -5.805099964141846, -5.805099964141846, -5.805099964141846, -5.805099964141846, -5.805099964141846, -5.805099964141846, -5.805099964141846, -5.805099964141846, -5.805099964141846, -5.805099964141846, -5.805099964141846, -5.805099964141846, -5.805099964141846, -5.805099964141846, -5.805099964141846, -5.805099964141846, -5.805099964141846, -5.805099964141846, -5.805099964141846, -5.805099964141846, -5.805099964141846, -5.805099964141846, -5.805099964141846, -5.805099964141846, -5.805099964141846, -5.805099964141846, -5.805099964141846, -5.805099964141846, -5.805099964141846, -5.805099964141846, -5.805099964141846, -5.805099964141846, -5.805099964141846, -5.805099964141846, -5.805099964141846, -5.805099964141846, -5.805099964141846, -5.805099964141846, -5.805099964141846, -5.805099964141846, -5.805099964141846, -5.805099964141846, -5.805099964141846, -5.805099964141846, -5.805099964141846, -5.805099964141846, -5.805099964141846, -5.805099964141846, -5.805099964141846, -5.805099964141846, -5.805099964141846, -5.805099964141846, -5.805099964141846, -5.805099964141846, -5.805099964141846, -5.805099964141846, -5.805099964141846, -5.805099964141846, -5.805099964141846, -5.805099964141846, -5.805099964141846, -5.805099964141846, -5.805099964141846, -5.805099964141846, -5.805099964141846, -5.805099964141846, -5.805099964141846, -5.805099964141846, -5.805099964141846, -5.805099964141846, -5.805099964141846, -5.805099964141846, -5.805099964141846, -5.805099964141846, -5.805099964141846, -5.805099964141846, -5.805099964141846], \"loglift\": [30.0, 29.0, 28.0, 27.0, 26.0, 25.0, 24.0, 23.0, 22.0, 21.0, 20.0, 19.0, 18.0, 17.0, 16.0, 15.0, 14.0, 13.0, 12.0, 11.0, 10.0, 9.0, 8.0, 7.0, 6.0, 5.0, 4.0, 3.0, 2.0, 1.0, 1.1442999839782715, 1.1442999839782715, 1.142300009727478, 1.0981999635696411, 1.0981999635696411, 1.098099946975708, 1.0964000225067139, 1.093999981880188, 0.9763000011444092, 0.9761999845504761, 0.9761999845504761, 0.9761999845504761, 0.9761999845504761, 0.9761000275611877, 0.9761000275611877, 0.9761000275611877, 0.9761000275611877, 0.9761000275611877, 0.9761000275611877, 0.9761000275611877, 0.9761000275611877, 0.9761000275611877, 0.9761000275611877, 0.9761000275611877, 0.9761000275611877, 0.9761000275611877, 0.9761000275611877, 0.9761000275611877, 0.9761000275611877, 0.9761000275611877, 0.7537000179290771, 0.8636000156402588, 0.7692999839782715, 0.7688999772071838, 0.3490000069141388, 0.46959999203681946, 0.46939998865127563, -0.7167999744415283, 0.4693000018596649, 0.6039000153541565, 0.4690999984741211, 0.4697999954223633, -0.07129999995231628, 0.47029998898506165, 1.5648000240325928, 1.5647000074386597, 1.5647000074386597, 1.4323999881744385, 1.4323999881744385, 1.4323999881744385, 1.4323999881744385, 1.4323999881744385, 1.4323999881744385, 1.4323999881744385, 1.4323999881744385, 1.4322999715805054, 1.4322999715805054, 1.4321999549865723, 1.4321999549865723, 1.4321999549865723, 1.4321999549865723, 1.4321999549865723, 1.4321999549865723, 1.4321999549865723, 1.4321999549865723, 1.4321999549865723, 1.4321999549865723, 1.4321999549865723, 1.4321999549865723, 1.4321000576019287, 1.4321000576019287, 1.4321000576019287, 1.4321000576019287, 1.4321000576019287, 1.2480000257492065, 1.2187000513076782, 1.0600999593734741, 1.0164999961853027, 0.9627000093460083, 0.7436000108718872, 1.4318000078201294, 1.4316999912261963, 1.4316999912261963, -0.08110000193119049, 1.4316999912261963, 1.4316999912261963, 0.9007999897003174, 0.9006999731063843, 0.4465000033378601, 1.0686999559402466, 0.5580000281333923, 0.6430000066757202, 0.8648999929428101, 1.5910999774932861, 1.4593000411987305, 1.4593000411987305, 1.4593000411987305, 1.4593000411987305, 1.4591000080108643, 1.4591000080108643, 1.4591000080108643, 1.4591000080108643, 1.4591000080108643, 1.4591000080108643, 1.4589999914169312, 1.4589999914169312, 1.4589999914169312, 1.4589999914169312, 1.458899974822998, 1.458899974822998, 1.458899974822998, 1.458899974822998, 1.458899974822998, 1.458799958229065, 1.458799958229065, 1.458799958229065, 1.458799958229065, 1.458799958229065, 1.458799958229065, 1.458799958229065, 1.458799958229065, 1.458799958229065, 1.458799958229065, 1.4586999416351318, 1.3425999879837036, 1.246999979019165, 0.9909999966621399, 1.4586999416351318, -0.29280000925064087, 0.8932999968528748, 0.6410999894142151, 0.9291999936103821, 0.8935999870300293, 0.8931000232696533, 0.9678000211715698, 0.6407999992370605, 0.9692000150680542, 0.9286999702453613, 0.8931000232696533, 1.9680999517440796, 1.8228000402450562, 1.8228000402450562, 1.8228000402450562, 1.8228000402450562, 1.8228000402450562, 1.8228000402450562, 1.8228000402450562, 1.8228000402450562, 1.8228000402450562, 1.8228000402450562, 1.8228000402450562, 1.8228000402450562, 1.8228000402450562, 1.8228000402450562, 1.8228000402450562, 1.8228000402450562, 1.8228000402450562, 1.8228000402450562, 1.8228000402450562, 1.8228000402450562, 1.8228000402450562, 1.8228000402450562, 1.8228000402450562, 1.8228000402450562, 1.8228000402450562, 1.8228000402450562, 1.8228000402450562, 1.8228000402450562, 1.8228000402450562, 1.8228000402450562, 1.8228000402450562, 1.8228000402450562, 1.3431999683380127, 1.3085999488830566, 0.6628000140190125, 1.2353999614715576, 1.2342000007629395, -0.41670000553131104, 1.225600004196167, 1.0364999771118164, 0.906000018119812, 1.4082000255584717, 0.9333999752998352, 1.9807000160217285, 1.8359999656677246, 1.8359999656677246, 1.8359999656677246, 1.8359999656677246, 1.8359999656677246, 1.8359999656677246, 1.8359999656677246, 1.8359999656677246, 1.8359999656677246, 1.8359999656677246, 1.8359999656677246, 1.8359999656677246, 1.8359999656677246, 1.8359999656677246, 1.8359999656677246, 1.8359999656677246, 1.8359999656677246, 1.8359999656677246, 1.8359999656677246, 1.8358999490737915, 1.8358999490737915, 1.8358999490737915, 1.8358999490737915, 1.8358999490737915, 1.8358999490737915, 1.8358999490737915, 1.8358999490737915, 1.8358999490737915, 1.8358999490737915, 1.8358999490737915, 1.4199999570846558, 0.6783999800682068, 0.42010000348091125, 0.9211000204086304, 0.7347000241279602, 1.5286999940872192, 1.319100022315979, 0.9491000175476074, 1.052299976348877, 2.6930999755859375, 2.509500026702881, 2.509500026702881, 2.509399890899658, 2.509399890899658, 2.509399890899658, 2.509399890899658, 2.509399890899658, 2.5092999935150146, 2.509200096130371, 2.509200096130371, 2.5090999603271484, 2.0629000663757324, 1.9144999980926514, 1.82669997215271, 1.6990000009536743, 1.5430999994277954, 1.4793000221252441, 1.4529000520706177, 1.4247000217437744, 1.2736999988555908, 1.2472000122070312, 1.225000023841858, 1.1806000471115112, -0.11990000307559967, -0.11990000307559967, -0.11990000307559967, -0.11990000307559967, -0.11990000307559967, -0.11990000307559967, -0.11990000307559967, -2.7451999187469482, -1.5195000171661377, -1.5192999839782715, -1.1713999509811401, -1.1710000038146973, -0.6302000284194946, 2.6486001014709473, 2.6486001014709473, 2.6486001014709473, 2.6486001014709473, 2.6486001014709473, 2.6486001014709473, 2.6486001014709473, 2.6486001014709473, 2.6486001014709473, 2.148200035095215, 2.0276999473571777, 2.0276999473571777, 1.9818999767303467, 1.9815000295639038, 1.9392999410629272, 1.9392000436782837, 1.618399977684021, 1.55649995803833, 1.360700011253357, 0.5936999917030334, 0.17470000684261322, -0.035599999129772186, -0.035599999129772186, -0.035599999129772186, -0.035599999129772186, -0.035599999129772186, -0.035599999129772186, -0.035599999129772186, -0.23770000040531158, -0.2378000020980835, -0.4327000081539154, -0.439300000667572, -0.4426000118255615, -0.44279998540878296, -0.4440999925136566, -0.4442000091075897, -0.4447000026702881, -0.4453999996185303, -0.4456000030040741, -1.3186999559402466, -1.1823999881744385, -0.9498000144958496, -1.5398000478744507, -1.2970000505447388, -0.9950000047683716, -1.892899990081787, -1.3284000158309937, 3.0167999267578125, 3.0167999267578125, 3.0167999267578125, 3.0167999267578125, 3.0167999267578125, 3.0167999267578125, 3.0167999267578125, 2.3373000621795654, 2.324199914932251, 2.3241000175476074, 2.0046000480651855, 0.810699999332428, 0.03460000082850456, 0.03460000082850456, 0.03460000082850456, 0.03460000082850456, 0.03460000082850456, 0.03460000082850456, 0.03460000082850456, 0.03460000082850456, 0.03460000082850456, -0.01850000023841858, -0.01860000006854534, -0.01860000006854534, -0.018799999728798866, -0.01889999955892563, -0.01889999955892563, -0.01889999955892563, -0.01899999938905239, -0.01899999938905239, -0.2703000009059906, -0.2702000141143799, -0.8011999726295471, -1.195199966430664, -0.26820001006126404, -0.7991999983787537, -0.8363000154495239, -0.2702000141143799, -0.2680000066757202, -0.8360999822616577, -0.26829999685287476, -0.2680000066757202, -0.2680000066757202, -1.1158000230789185, -0.7989000082015991, -0.8363000154495239, -0.2703000009059906, -0.2705000042915344, 0.6650999784469604, 0.6650999784469604, 0.6650999784469604, 0.6650999784469604, 0.6650999784469604, 0.6650999784469604, 0.6650999784469604, 0.5160999894142151, 0.5160999894142151, 0.5160999894142151, 0.5160999894142151, 0.5160999894142151, 0.5160999894142151, 0.5160999894142151, 0.5160999894142151, 0.5160999894142151, 0.49900001287460327, 0.4964999854564667, 0.49540001153945923, 0.48899999260902405, 0.48820000886917114, 0.4878000020980835, 0.48669999837875366, 0.4855000078678131, 0.48489999771118164, 0.48159998655319214, 0.4803999960422516, 0.2939999997615814, 0.2937999963760376, 0.29339998960494995, 0.03189999982714653, -0.29820001125335693, 0.2930000126361847, 0.2928999960422516, 0.29269999265670776, 0.2924000024795532, 0.2922999858856201, 0.29190000891685486, 0.2915000021457672, -0.7512000203132629, -0.1062999963760376, 0.2915000021457672, 0.2915000021457672, -0.47279998660087585, -0.5370000004768372, -0.5903000235557556, 0.0340999998152256, -0.19789999723434448, -0.7919999957084656, -0.21699999272823334, -0.8410000205039978, -0.5724999904632568, -1.5145000219345093, -0.7519000172615051, -0.586899995803833, -0.5918999910354614, -0.2655999958515167, 0.6618000268936157, 0.6618000268936157, 0.6618000268936157, 0.6618000268936157, 0.6618000268936157, 0.6618000268936157, 0.6618000268936157, 0.5128999948501587, 0.5128999948501587, 0.5128999948501587, 0.5128999948501587, 0.5128999948501587, 0.5128999948501587, 0.5128999948501587, 0.5128999948501587, 0.5128999948501587, 0.45980000495910645, 0.45969998836517334, 0.45969998836517334, 0.4593999981880188, 0.4593999981880188, 0.4593999981880188, 0.4593000113964081, 0.4593000113964081, 0.4593000113964081, 0.459199994802475, 0.45910000801086426, 0.2791999876499176, 0.2791999876499176, 0.2791999876499176, 0.2791999876499176, 0.2791999876499176, 0.2791999876499176, 0.2791999876499176, 0.2791999876499176, 0.2791999876499176, 0.2791999876499176, 0.2791999876499176, 0.2791999876499176, 0.2791999876499176, 0.2791999876499176, 0.2791999876499176, 0.2791999876499176, 0.2791999876499176, 0.2791999876499176, 0.2791999876499176, 0.19179999828338623, 0.18970000743865967, 0.18930000066757202, 0.1889999955892563, 0.18870000541210175, 0.1873999983072281, 0.18649999797344208, 0.18619999289512634, 0.18549999594688416, 0.18520000576972961, 0.1851000040769577, 0.18490000069141388, 0.18410000205039978, 0.18279999494552612, 0.18250000476837158, 0.18209999799728394, -0.6287000179290771, -0.31119999289512634, 0.18199999630451202, 0.18199999630451202, 0.1818999946117401, 0.18129999935626984, 0.181099995970726, -0.6495000123977661, -0.32679998874664307, 0.1809999942779541, 0.18070000410079956, 0.18060000240802765, 0.18060000240802765, 0.18050000071525574, -0.3280999958515167, -1.8522000312805176, -1.0953999757766724, -0.3206000030040741, -0.8299999833106995, -0.642799973487854, -0.5616999864578247, -0.3564999997615814, -0.16279999911785126, -0.3246999979019165, -0.6317999958992004, 0.6665999889373779, 0.6665999889373779, 0.6665999889373779, 0.6665999889373779, 0.6665999889373779, 0.6665999889373779, 0.6665999889373779, 0.5177000164985657, 0.5177000164985657, 0.5177000164985657, 0.5177000164985657, 0.5177000164985657, 0.5177000164985657, 0.5177000164985657, 0.5177000164985657, 0.5177000164985657, 0.46459999680519104, 0.4645000100135803, 0.4645000100135803, 0.4641999900341034, 0.4641999900341034, 0.4641999900341034, 0.4641000032424927, 0.4641000032424927, 0.4641000032424927, 0.46399998664855957, 0.46389999985694885, 0.2840000092983246, 0.2840000092983246, 0.2840000092983246, 0.2840000092983246, 0.2840000092983246, 0.2840000092983246, 0.2840000092983246, 0.2840000092983246, 0.2840000092983246, 0.2840000092983246, 0.2840000092983246, 0.2840000092983246, 0.2840000092983246, 0.2840000092983246, 0.2840000092983246, 0.23309999704360962, 0.23199999332427979, 0.23190000653266907, 0.23080000281333923, 0.2303999960422516, 0.2298000007867813, 0.22910000383853912, 0.2287999987602234, 0.22869999706745148, 0.22849999368190765, 0.2282000035047531, 0.22779999673366547, 0.22779999673366547, 0.22759999334812164, 0.22769999504089355, 0.22759999334812164, 0.227400004863739, 0.2272000014781952, 0.22679999470710754, 0.22669999301433563, 0.22660000622272491, 0.22689999639987946, 0.22669999301433563, -0.28610000014305115, 0.22660000622272491, 0.226500004529953, 0.22630000114440918, 0.226500004529953, 0.22550000250339508, 0.22550000250339508, -0.8884999752044678, -0.5440000295639038, -0.6672999858856201, -0.33489999175071716, -0.6169000267982483, -0.2994999885559082, -0.6452999711036682, -0.4975000023841858, -0.3368000090122223, -0.33730000257492065, -0.33719998598098755, -0.6603999733924866, -0.646399974822998, -0.6970000267028809, -0.30239999294281006, -0.263700008392334, 0.6668000221252441, 0.6668000221252441, 0.6668000221252441, 0.6668000221252441, 0.6668000221252441, 0.6668000221252441, 0.6668000221252441, 0.517799973487854, 0.517799973487854, 0.517799973487854, 0.517799973487854, 0.517799973487854, 0.517799973487854, 0.517799973487854, 0.517799973487854, 0.517799973487854, 0.46470001339912415, 0.46470001339912415, 0.46459999680519104, 0.4643999934196472, 0.4643000066280365, 0.4643000066280365, 0.4643000066280365, 0.4641999900341034, 0.4641999900341034, 0.4641000032424927, 0.4641000032424927, 0.2842000126838684, 0.2842000126838684, 0.2842000126838684, 0.2842000126838684, 0.2842000126838684, 0.2842000126838684, 0.2842000126838684, 0.2842000126838684, 0.2842000126838684, 0.2842000126838684, 0.2842000126838684, 0.2842000126838684, 0.2842000126838684, 0.2842000126838684, 0.2842000126838684, 0.2842000126838684, 0.2842000126838684, 0.2842000126838684, 0.2842000126838684, 0.2842000126838684, 0.2842000126838684, 0.2842000126838684, 0.18219999969005585, 0.18150000274181366, 0.2842000126838684, 0.17949999868869781, 0.1793999969959259, 0.17910000681877136, 0.17880000174045563, 0.17839999496936798, 0.17820000648498535, 0.17790000140666962, 0.1777999997138977, 0.17739999294281006, 0.17720000445842743, 0.1770000010728836, 0.17679999768733978, 0.17659999430179596, 0.17640000581741333, 0.1762000024318695, 0.1761000007390976, 0.17589999735355377, 0.17569999396800995, 0.1754000037908554, 0.17509999871253967, 0.17499999701976776, -0.3418000042438507, 0.17470000684261322, 0.17440000176429749, 0.17409999668598175, 0.1736000031232834, 0.17180000245571136, 0.17149999737739563, -0.6944000124931335, -0.6718999743461609, -0.677299976348877, -1.934399962425232, -0.6629999876022339, -0.3296000063419342, -0.2897000014781952, -0.3303000032901764, -1.23580002784729, 0.6676999926567078, 0.6676999926567078, 0.6676999926567078, 0.6676999926567078, 0.6676999926567078, 0.6676999926567078, 0.6676999926567078, 0.5187000036239624, 0.5187000036239624, 0.5187000036239624, 0.5187000036239624, 0.5187000036239624, 0.5187000036239624, 0.5187000036239624, 0.5187000036239624, 0.5187000036239624, 0.4657000005245209, 0.46560001373291016, 0.46560001373291016, 0.4652999937534332, 0.4652999937534332, 0.4652999937534332, 0.4652000069618225, 0.4652000069618225, 0.4652000069618225, 0.4650000035762787, 0.4650000035762787, 0.2851000130176544, 0.2851000130176544, 0.2851000130176544, 0.2851000130176544, 0.2851000130176544, 0.2851000130176544, 0.2851000130176544, 0.2851000130176544, 0.2851000130176544, 0.2851000130176544, 0.2851000130176544, 0.23759999871253967, 0.23759999871253967, 0.2370000034570694, 0.23690000176429749, 0.2361000031232834, 0.23589999973773956, 0.23589999973773956, 0.23579999804496765, 0.23510000109672546, 0.23430000245571136, 0.23420000076293945, 0.2337999939918518, 0.2337000072002411, 0.23340000212192535, -0.2687999904155731, 0.23330000042915344, 0.2305999994277954, 0.23019999265670776, 0.22990000247955322, 0.22949999570846558, 0.22939999401569366, 0.22910000383853912, 0.2289000004529953, -0.2858999967575073, 0.2289000004529953, 0.22699999809265137, 0.22660000622272491, -0.3296999931335449, -0.29490000009536743, -0.8895999789237976, -0.13169999420642853, -0.8761000037193298, -0.5756999850273132, -0.694599986076355, -1.2419999837875366, -0.6470000147819519, -0.8050000071525574, -0.6718999743461609, 0.6693999767303467, 0.6693999767303467, 0.6693999767303467, 0.6693999767303467, 0.6693999767303467, 0.6693999767303467, 0.6693999767303467, 0.5203999876976013, 0.5203999876976013, 0.5203999876976013, 0.5203999876976013, 0.5203999876976013, 0.5203999876976013, 0.5203999876976013, 0.5203999876976013, 0.5203999876976013, 0.4674000144004822, 0.4672999978065491, 0.46720001101493835, 0.46700000762939453, 0.46700000762939453, 0.46700000762939453, 0.4668999910354614, 0.4668999910354614, 0.4668000042438507, 0.4666999876499176, 0.4666999876499176, 0.28679999709129333, 0.28679999709129333, 0.28679999709129333, 0.28679999709129333, 0.28679999709129333, 0.28679999709129333, 0.28679999709129333, 0.28679999709129333, 0.28679999709129333, 0.28679999709129333, 0.28679999709129333, 0.28679999709129333, 0.28679999709129333, 0.28679999709129333, 0.28679999709129333, 0.28679999709129333, 0.28679999709129333, 0.28679999709129333, 0.28679999709129333, 0.16099999845027924, 0.1607999950647354, 0.16050000488758087, 0.16009999811649323, 0.16019999980926514, -1.9493999481201172, -0.7257000207901001, -0.7267000079154968, -0.3783000111579895, -0.3792000114917755, -1.129699945449829, -0.3804999887943268, -0.7297999858856201, -0.3073999881744385, 0.1599999964237213, 0.1599999964237213, -0.6704999804496765, -0.6546000242233276, 0.16009999811649323, 0.15970000624656677, 0.15970000624656677, 0.1598999947309494, 0.15960000455379486, 0.15950000286102295, 0.15970000624656677, 0.15940000116825104, -0.34790000319480896, 0.15960000455379486, 0.15929999947547913, -0.34709998965263367, 0.6700000166893005, 0.6700000166893005, 0.6700000166893005, 0.6700000166893005, 0.6700000166893005, 0.6700000166893005, 0.6700000166893005, 0.5210000276565552, 0.5210000276565552, 0.5210000276565552, 0.5210000276565552, 0.5210000276565552, 0.5210000276565552, 0.5210000276565552, 0.5210000276565552, 0.5210000276565552, 0.46799999475479126, 0.46790000796318054, 0.46779999136924744, 0.4675999879837036, 0.4675999879837036, 0.4675999879837036, 0.4675000011920929, 0.4675000011920929, 0.4674000144004822, 0.4672999978065491, 0.4672999978065491, 0.2874000072479248, 0.2874000072479248, 0.2874000072479248, 0.2874000072479248, 0.2874000072479248, 0.2874000072479248, 0.2874000072479248, 0.2874000072479248, 0.2874000072479248, 0.2874000072479248, 0.2874000072479248, 0.2874000072479248, 0.2874000072479248, 0.2874000072479248, 0.2874000072479248, 0.15710000693798065, 0.21619999408721924, 0.2160000056028366, 0.21629999577999115, 0.21629999577999115, 0.21639999747276306, 0.21610000729560852, -0.349700003862381, -0.3499000072479248, -0.3147999942302704, -0.7088000178337097, -0.3499000072479248, 0.21619999408721924, 0.21629999577999115, 0.2160000056028366, 0.21649999916553497, -0.3497999906539917, 0.21629999577999115, 0.21610000729560852, 0.21629999577999115, 0.21660000085830688, 0.21629999577999115, 0.21639999747276306, -0.3125, -0.6294000148773193, 0.21850000321865082, 0.2184000015258789, 0.21809999644756317, 0.21850000321865082, -0.3127000033855438, 0.6700000166893005, 0.6700000166893005, 0.6700000166893005, 0.6700000166893005, 0.6700000166893005, 0.6700000166893005, 0.6700000166893005, 0.5210000276565552, 0.5210000276565552, 0.5210000276565552, 0.5210000276565552, 0.5210000276565552, 0.5210000276565552, 0.5210000276565552, 0.5210000276565552, 0.5210000276565552, 0.46799999475479126, 0.46790000796318054, 0.46779999136924744, 0.4675999879837036, 0.4675999879837036, 0.4675999879837036, 0.4675000011920929, 0.4675000011920929, 0.4674000144004822, 0.4672999978065491, 0.4672999978065491, 0.2874000072479248, 0.2874000072479248, 0.2874000072479248, 0.2874000072479248, 0.2874000072479248, 0.2874000072479248, 0.2874000072479248, 0.2874000072479248, 0.2874000072479248, 0.2874000072479248, 0.2874000072479248, 0.2874000072479248, 0.2874000072479248, 0.2874000072479248, 0.2874000072479248, 0.15710000693798065, 0.21619999408721924, 0.2160000056028366, 0.21629999577999115, 0.21629999577999115, 0.21639999747276306, 0.21610000729560852, -0.349700003862381, -0.3499000072479248, -0.3147999942302704, -0.7088000178337097, -0.3499000072479248, 0.21619999408721924, 0.21629999577999115, 0.2160000056028366, 0.21649999916553497, -0.3497999906539917, 0.21629999577999115, 0.21610000729560852, 0.21629999577999115, 0.21660000085830688, 0.21629999577999115, 0.21639999747276306, -0.3125, -0.6294000148773193, 0.21850000321865082, 0.2184000015258789, 0.21809999644756317, 0.21850000321865082, -0.3127000033855438]}, \"token.table\": {\"Topic\": [3, 2, 3, 5, 5, 1, 5, 3, 1, 1, 1, 3, 3, 1, 4, 3, 5, 1, 5, 7, 2, 3, 1, 1, 1, 3, 4, 1, 2, 3, 4, 7, 1, 3, 5, 1, 2, 1, 2, 2, 1, 2, 3, 4, 5, 7, 5, 1, 1, 6, 3, 2, 4, 2, 2, 6, 3, 3, 2, 3, 4, 2, 5, 6, 2, 1, 2, 3, 3, 2, 1, 4, 1, 3, 3, 4, 5, 1, 5, 3, 2, 1, 1, 3, 4, 3, 1, 3, 2, 2, 2, 3, 1, 1, 3, 3, 1, 1, 2, 1, 1, 3, 5, 1, 1, 1, 1, 7, 1, 1, 3, 4, 5, 6, 7, 5, 1, 4, 1, 1, 3, 3, 5, 6, 4, 2, 7, 1, 3, 2, 3, 1, 2, 4, 1, 7, 3, 1, 2, 5, 5, 1, 3, 5, 1, 2, 2, 7, 1, 5, 1, 1, 5, 3, 6, 7, 5, 1, 1, 2, 6, 7, 1, 4, 1, 1, 1, 6, 1, 1, 1, 5, 2, 4, 1, 1, 1, 2, 1, 3, 3, 4, 1, 2, 4, 4, 5, 3, 1, 3, 2, 7, 4, 1, 1, 2, 3, 1, 3, 1, 5, 1, 4, 1, 2, 4, 6, 4, 2, 4, 1, 2, 4, 3, 4, 2, 3, 1, 5, 2, 1, 7, 4, 2, 3, 6, 1, 2, 4, 1, 2, 2, 5, 7, 1, 1, 1, 3, 1, 3, 8, 1, 1, 3, 1, 6, 2, 3, 3, 2, 5, 1, 6, 1, 2, 5, 2, 4, 4, 5, 6, 1, 7, 5, 5, 3, 6, 3, 5, 4, 3, 5, 5, 2, 1, 3, 5, 4, 1, 1, 3, 4, 5, 4, 2, 3, 5, 5, 1, 3, 3, 4, 3, 1, 3, 7, 6, 5, 1, 2, 2, 5, 4, 5, 7, 1, 2, 6, 1, 1, 3, 2, 6, 1, 1, 2, 6, 1, 4, 1, 3, 1, 2, 7, 5, 1, 2, 5, 6, 4, 4, 3, 5, 7, 1, 3, 4, 7, 1, 5, 1, 1, 2, 3, 4, 2, 4, 5, 2, 3, 3, 2, 3, 4, 2, 6, 6, 4, 1, 6, 1, 5, 6, 5, 1, 4, 1, 3, 3, 4, 4, 1, 1, 2, 1, 7, 3, 2, 3, 1, 2, 4, 3, 2, 2, 2, 1, 1, 3, 2, 3, 2, 1, 3, 3, 4, 5, 7, 2, 5, 6], \"Freq\": [0.8805302381515503, 0.37733158469200134, 0.37733158469200134, 0.37733158469200134, 0.9430265426635742, 0.8307172656059265, 0.9432324767112732, 0.8803691267967224, 0.8305889368057251, 0.8303326964378357, 0.8307293653488159, 0.8807109594345093, 0.8808434009552002, 0.8308199644088745, 0.9455937743186951, 0.8804913759231567, 0.9430758953094482, 0.8303649425506592, 0.9430651664733887, 1.194462776184082, 0.5183133482933044, 0.5183133482933044, 0.8304293751716614, 0.8305832147598267, 0.4999193549156189, 0.4999193549156189, 0.9455937743186951, 0.6004437804222107, 0.20014792680740356, 0.10007396340370178, 0.10007396340370178, 0.10007396340370178, 0.830859363079071, 0.8805792927742004, 0.9431753158569336, 0.6989234089851379, 0.34946170449256897, 0.5005685687065125, 0.5005685687065125, 0.8826116919517517, 0.1526835709810257, 0.1526835709810257, 0.1526835709810257, 0.1526835709810257, 0.1526835709810257, 0.1526835709810257, 0.9430935978889465, 0.830651581287384, 0.5720012187957764, 0.5720012187957764, 0.8807780146598816, 0.8823913931846619, 0.9455938339233398, 0.8818581700325012, 0.8825299739837646, 1.1326310634613037, 0.8809491991996765, 0.8805816769599915, 0.8819058537483215, 0.8806658983230591, 0.9455937743186951, 0.6266682147979736, 0.3133341073989868, 0.3133341073989868, 0.882676899433136, 0.830784261226654, 0.5183255672454834, 0.5183255672454834, 0.8803962469100952, 0.8818582892417908, 0.5205955505371094, 0.5205955505371094, 0.9672152996063232, 0.8806753754615784, 0.38850221037864685, 0.38850221037864685, 0.38850221037864685, 0.8306470513343811, 0.9430434107780457, 0.8807017207145691, 0.8819023966789246, 0.8303645849227905, 0.8303660750389099, 0.8807953000068665, 0.9455939531326294, 0.8805571794509888, 0.5000632405281067, 0.5000632405281067, 1.0384763479232788, 0.882649838924408, 0.5684915781021118, 0.5684915781021118, 0.8302479982376099, 0.4999482035636902, 0.4999482035636902, 1.0356228351593018, 0.8306858539581299, 0.5003065466880798, 0.5003065466880798, 0.8303743004798889, 0.6983774900436401, 0.34918874502182007, 0.9429922103881836, 0.829889714717865, 0.8304470181465149, 0.9667809009552002, 0.8307532072067261, 1.194462537765503, 0.8302206993103027, 0.49995720386505127, 0.49995720386505127, 0.9455936551094055, 0.943088710308075, 1.1321417093276978, 1.194462776184082, 0.9431358575820923, 0.8307138085365295, 0.9455938339233398, 0.8302906155586243, 0.8307150602340698, 0.8806222677230835, 0.3204990327358246, 0.3204990327358246, 0.3204990327358246, 0.9455938339233398, 0.61298006772995, 0.61298006772995, 0.8303079605102539, 0.8806614875793457, 0.8822709918022156, 0.8804076910018921, 0.8303614854812622, 0.8823637366294861, 0.9455938339233398, 0.5876913666725159, 0.5876913666725159, 0.8808544874191284, 0.8306564092636108, 0.8818582892417908, 0.9430342316627502, 0.9431368112564087, 0.5000236630439758, 0.5000236630439758, 0.9431725740432739, 0.5003898739814758, 0.5003898739814758, 0.6132792830467224, 0.6132792830467224, 0.8303954005241394, 0.9432271718978882, 0.9669327735900879, 0.8301985263824463, 0.9430251717567444, 0.8806766271591187, 0.7242071032524109, 0.7242071032524109, 0.9432600736618042, 0.830694317817688, 0.3290190100669861, 0.3290190100669861, 0.3290190100669861, 0.3290190100669861, 0.8306739926338196, 0.9455939531326294, 0.8304721117019653, 0.830234169960022, 0.8306107521057129, 0.7009567022323608, 0.8306972980499268, 1.0227291584014893, 0.9667757749557495, 0.9430505037307739, 0.8823733925819397, 0.9455939531326294, 0.8306315541267395, 0.8305416107177734, 0.8305957913398743, 0.8818584680557251, 0.8304235935211182, 0.8805151581764221, 0.5395215153694153, 0.5395215153694153, 0.830398678779602, 0.8826522827148438, 0.9455939531326294, 0.9455938339233398, 0.9431148767471313, 0.8807242512702942, 0.8305213451385498, 0.8807264566421509, 0.8819074034690857, 1.194462537765503, 0.9455938339233398, 0.8307036757469177, 0.35806378722190857, 0.35806378722190857, 0.35806378722190857, 0.8306997418403625, 0.8805578351020813, 0.8302552103996277, 0.9431140422821045, 0.5202997922897339, 0.5202997922897339, 0.83064866065979, 0.8826773166656494, 0.6246456503868103, 0.6246456503868103, 0.9455937743186951, 0.882377564907074, 0.9455938339233398, 0.8301942348480225, 0.8825170397758484, 0.9455939531326294, 0.8808048963546753, 0.9455938339233398, 0.5182059407234192, 0.5182059407234192, 0.8306015729904175, 0.9430826306343079, 0.8819028735160828, 0.830508291721344, 1.194462537765503, 0.945594072341919, 0.3669123947620392, 0.7338247895240784, 1.1327340602874756, 0.29124772548675537, 0.29124772548675537, 0.29124772548675537, 0.8303952813148499, 0.8819063901901245, 0.8825371861457825, 0.6420065760612488, 0.6420065760612488, 0.8304459452629089, 0.8306527733802795, 0.49996042251586914, 0.49996042251586914, 0.3620035648345947, 0.3620035648345947, 0.3620035648345947, 0.8301653265953064, 0.8308203816413879, 0.880806028842926, 0.8303087949752808, 1.1322170495986938, 0.8824155330657959, 0.8807312250137329, 0.8808322548866272, 0.8823527693748474, 0.9431912302970886, 0.7657101154327393, 0.38285505771636963, 0.3678045868873596, 0.3678045868873596, 0.3678045868873596, 0.8826146721839905, 0.9455939531326294, 0.4307391941547394, 0.4307391941547394, 0.4307391941547394, 0.8303242921829224, 1.194462537765503, 0.56154865026474, 0.9432671666145325, 0.808108925819397, 0.4040544629096985, 0.5387477874755859, 0.5387477874755859, 0.9455938339233398, 0.8804689645767212, 0.9431037306785583, 0.9432480931282043, 0.8825521469116211, 0.8307210803031921, 0.8805792927742004, 0.943170964717865, 0.9455938339233398, 0.8305928111076355, 0.8307685256004333, 0.38853105902671814, 0.38853105902671814, 0.38853105902671814, 0.9455938339233398, 0.5181542634963989, 0.5181542634963989, 0.9431249499320984, 0.943077564239502, 0.8304958939552307, 0.8804579377174377, 0.8808110952377319, 0.9455939531326294, 0.8807976841926575, 0.5001131892204285, 0.5001131892204285, 1.194462537765503, 1.1320043802261353, 0.9432049989700317, 0.8303269743919373, 0.8825552463531494, 0.8825194835662842, 0.9430692791938782, 0.9455938339233398, 0.6419652104377747, 0.6419652104377747, 0.39354512095451355, 0.39354512095451355, 0.39354512095451355, 0.9672331213951111, 0.8303311467170715, 0.8804150819778442, 0.8818581700325012, 1.1322649717330933, 0.8303066492080688, 0.2997988760471344, 0.5995977520942688, 0.2997988760471344, 0.8305069208145142, 0.5632867217063904, 0.5001710653305054, 0.5001710653305054, 0.40075770020484924, 0.40075770020484924, 0.40075770020484924, 0.9431197643280029, 0.45676931738853455, 0.45676931738853455, 0.22838465869426727, 1.132315993309021, 0.9455937743186951, 0.9455938339233398, 0.8806487321853638, 0.6935902237892151, 1.194462537765503, 0.8305432200431824, 0.42544814944267273, 0.42544814944267273, 0.42544814944267273, 0.8304657340049744, 0.9429802298545837, 1.0227649211883545, 0.20223000645637512, 0.20223000645637512, 0.20223000645637512, 0.40446001291275024, 0.8818581700325012, 0.9455938339233398, 0.6935193538665771, 0.8818582892417908, 0.8808778524398804, 0.8805621862411499, 0.8818582892417908, 0.8807604908943176, 0.9455939531326294, 0.8823556303977966, 1.132279634475708, 1.132581114768982, 0.9455938339233398, 0.830764889717102, 1.1319544315338135, 1.023120641708374, 0.9432201981544495, 1.1321688890457153, 0.943204939365387, 0.5206445455551147, 0.5206445455551147, 0.49989792704582214, 0.49989792704582214, 0.8807259202003479, 0.9455938339233398, 0.9455938339233398, 0.8306587934494019, 0.830668032169342, 1.0380240678787231, 0.587638795375824, 0.587638795375824, 0.8804486989974976, 0.7342847585678101, 0.36714237928390503, 0.8301386833190918, 0.7560858726501465, 0.37804293632507324, 0.8803304433822632, 0.8826094269752502, 0.8825852870941162, 0.8822829723358154, 0.8308919668197632, 0.8301697373390198, 0.8806172013282776, 0.8826220631599426, 0.8805228471755981, 1.0377880334854126, 0.8300665020942688, 0.8807644248008728, 0.880649209022522, 0.5623842477798462, 0.5623842477798462, 1.194462776184082, 0.8824014067649841, 0.5038474202156067, 0.5038474202156067], \"Term\": [\"additionally\", \"air\", \"air\", \"air\", \"almost\", \"also\", \"always\", \"amount\", \"apart\", \"apology\", \"arrival\", \"ask\", \"assume\", \"attention\", \"availability\", \"available\", \"average\", \"avoid\", \"awful\", \"back\", \"balcony\", \"balcony\", \"bang\", \"base\", \"bath\", \"bath\", \"bathroom\", \"bed\", \"bed\", \"bed\", \"bed\", \"bed\", \"bedsheet\", \"big\", \"bit\", \"book\", \"book\", \"bother\", \"bother\", \"bread\", \"breakfast\", \"breakfast\", \"breakfast\", \"breakfast\", \"breakfast\", \"breakfast\", \"breakfastso\", \"bring\", \"broken\", \"broken\", \"buffet\", \"build\", \"bus\", \"business\", \"car\", \"ceiling\", \"centre\", \"change\", \"channel\", \"charge\", \"chat\", \"cheap\", \"cheap\", \"cheap\", \"check\", \"child\", \"city\", \"city\", \"claim\", \"classic\", \"clean\", \"clean\", \"cleanliness\", \"close\", \"coffee\", \"coffee\", \"coffee\", \"collection\", \"comfortable\", \"comparatively\", \"compare\", \"complete\", \"completely\", \"comprise\", \"condition\", \"constant\", \"cover\", \"cover\", \"cypriot\", \"damp\", \"day\", \"day\", \"decor\", \"decorate\", \"decorate\", \"decoration\", \"demand\", \"desk\", \"desk\", \"dimly\", \"dirty\", \"dirty\", \"disgust\", \"disgusting\", \"disintegration\", \"door\", \"dreadful\", \"drink\", \"due\", \"dust\", \"dust\", \"early\", \"eat\", \"edge\", \"edible\", \"else\", \"elsewhere\", \"enjoy\", \"equally\", \"escape\", \"euro\", \"even\", \"even\", \"even\", \"evening\", \"ever\", \"ever\", \"everywhere\", \"excuse\", \"explore\", \"fairly\", \"fall\", \"family\", \"faucet\", \"feel\", \"feel\", \"feeling\", \"fill\", \"filthy\", \"find\", \"fine\", \"floor\", \"floor\", \"free\", \"fridge\", \"fridge\", \"friendly\", \"friendly\", \"front\", \"fruit\", \"full\", \"gather\", \"general\", \"generally\", \"get\", \"get\", \"give\", \"glow\", \"go\", \"go\", \"go\", \"go\", \"grandchild\", \"guide\", \"hair\", \"half\", \"hallway\", \"hang\", \"happy\", \"hard\", \"hardly\", \"high\", \"hot\", \"housekeeping\", \"however\", \"huge\", \"hurry\", \"imaginable\", \"imagine\", \"incredibly\", \"kind\", \"kind\", \"lady\", \"laughable\", \"leaking\", \"leave\", \"let\", \"lift\", \"light\", \"limit\", \"limited\", \"literally\", \"lobby\", \"locate\", \"location\", \"location\", \"location\", \"lot\", \"low\", \"lump\", \"machine\", \"make\", \"make\", \"manageress\", \"margarine\", \"mattress\", \"mattress\", \"meal\", \"meet\", \"middle\", \"ministerial\", \"miserable\", \"miss\", \"mobility\", \"moment\", \"money\", \"money\", \"mop\", \"morning\", \"much\", \"need\", \"needless\", \"negative\", \"never\", \"never\", \"new\", \"night\", \"night\", \"night\", \"noise\", \"noisy\", \"nope\", \"note\", \"note\", \"obvious\", \"offer\", \"ok\", \"ok\", \"old\", \"old\", \"old\", \"open\", \"otherwise\", \"overall\", \"owner\", \"paint\", \"park\", \"pay\", \"peaceful\", \"people\", \"personnel\", \"pillow\", \"pillow\", \"place\", \"place\", \"place\", \"plan\", \"point\", \"poor\", \"poor\", \"poor\", \"portrait\", \"positive\", \"price\", \"pro\", \"problem\", \"problem\", \"provide\", \"provide\", \"proximity\", \"purpose\", \"quality\", \"rate\", \"rather\", \"reach\", \"read\", \"ready\", \"really\", \"receive\", \"recently\", \"reception\", \"reception\", \"reception\", \"receptionist\", \"recommend\", \"recommend\", \"recommendation\", \"refilling\", \"refund\", \"relevant\", \"research\", \"responsible\", \"rest\", \"review\", \"review\", \"ridiculous\", \"rise\", \"rotten\", \"rub\", \"ruin\", \"run\", \"safe\", \"satisfactory\", \"say\", \"say\", \"second\", \"second\", \"second\", \"seem\", \"seriously\", \"set\", \"shady\", \"shame\", \"shelf\", \"shower\", \"shower\", \"shower\", \"single\", \"sink\", \"site\", \"site\", \"sleep\", \"sleep\", \"sleep\", \"slighltly\", \"small\", \"small\", \"small\", \"socket\", \"sophie\", \"space\", \"spacious\", \"special\", \"spring\", \"squeaky\", \"staff\", \"staff\", \"staff\", \"stain\", \"start\", \"state\", \"stay\", \"stay\", \"stay\", \"stay\", \"still\", \"stop\", \"suppose\", \"surprised\", \"table\", \"tacky\", \"take\", \"tasteless\", \"tasty\", \"terrible\", \"thin\", \"third\", \"thoroughly\", \"throw\", \"time\", \"tiny\", \"toast\", \"toaster\", \"tou\", \"tourist\", \"tourist\", \"towel\", \"towel\", \"traditional\", \"train\", \"trainer\", \"travel\", \"traveller\", \"trip\", \"try\", \"try\", \"tube\", \"tv\", \"tv\", \"unattractive\", \"uncomfortable\", \"uncomfortable\", \"understand\", \"unfriendly\", \"unhospitable\", \"use\", \"vacuum\", \"varied\", \"variety\", \"wait\", \"warning\", \"water\", \"way\", \"web\", \"website\", \"well\", \"well\", \"wine\", \"wink\", \"work\", \"work\"]}, \"R\": 30, \"lambda.step\": 0.01, \"plot.opts\": {\"xlab\": \"PC1\", \"ylab\": \"PC2\"}, \"topic.order\": [2, 9, 4, 10, 7, 1, 12, 11, 3, 14, 15, 5, 8, 16, 13, 6]};\n",
       "\n",
       "function LDAvis_load_lib(url, callback){\n",
       "  var s = document.createElement('script');\n",
       "  s.src = url;\n",
       "  s.async = true;\n",
       "  s.onreadystatechange = s.onload = callback;\n",
       "  s.onerror = function(){console.warn(\"failed to load library \" + url);};\n",
       "  document.getElementsByTagName(\"head\")[0].appendChild(s);\n",
       "}\n",
       "\n",
       "if(typeof(LDAvis) !== \"undefined\"){\n",
       "   // already loaded: just create the visualization\n",
       "   !function(LDAvis){\n",
       "       new LDAvis(\"#\" + \"ldavis_el212422546570563287046683714\", ldavis_el212422546570563287046683714_data);\n",
       "   }(LDAvis);\n",
       "}else if(typeof define === \"function\" && define.amd){\n",
       "   // require.js is available: use it to load d3/LDAvis\n",
       "   require.config({paths: {d3: \"https://cdnjs.cloudflare.com/ajax/libs/d3/3.5.5/d3.min\"}});\n",
       "   require([\"d3\"], function(d3){\n",
       "      window.d3 = d3;\n",
       "      LDAvis_load_lib(\"https://cdn.rawgit.com/bmabey/pyLDAvis/files/ldavis.v1.0.0.js\", function(){\n",
       "        new LDAvis(\"#\" + \"ldavis_el212422546570563287046683714\", ldavis_el212422546570563287046683714_data);\n",
       "      });\n",
       "    });\n",
       "}else{\n",
       "    // require.js not available: dynamically load d3 & LDAvis\n",
       "    LDAvis_load_lib(\"https://cdnjs.cloudflare.com/ajax/libs/d3/3.5.5/d3.min.js\", function(){\n",
       "         LDAvis_load_lib(\"https://cdn.rawgit.com/bmabey/pyLDAvis/files/ldavis.v1.0.0.js\", function(){\n",
       "                 new LDAvis(\"#\" + \"ldavis_el212422546570563287046683714\", ldavis_el212422546570563287046683714_data);\n",
       "            })\n",
       "         });\n",
       "}\n",
       "</script>"
      ],
      "text/plain": [
       "PreparedData(topic_coordinates=              x         y  topics  cluster       Freq\n",
       "topic                                                \n",
       "1      0.157214  0.160085       1        1  28.737663\n",
       "8     -0.006792 -0.227751       2        1  17.764227\n",
       "3     -0.217415 -0.063961       3        1  17.281595\n",
       "9     -0.137867  0.179620       4        1  11.650681\n",
       "6      0.168842 -0.132287       5        1  11.512761\n",
       "0      0.149154 -0.010252       6        1   5.316333\n",
       "11     0.012796  0.134960       7        1   4.466328\n",
       "10    -0.069755 -0.069873       8        1   2.751371\n",
       "2     -0.006906  0.003552       9        1   0.070924\n",
       "13    -0.006822  0.003928      10        1   0.065287\n",
       "14    -0.007234  0.003616      11        1   0.065121\n",
       "4     -0.006991  0.003778      12        1   0.065111\n",
       "7     -0.007068  0.003565      13        1   0.065044\n",
       "15    -0.007041  0.003686      14        1   0.064795\n",
       "12    -0.007058  0.003667      15        1   0.061379\n",
       "5     -0.007058  0.003667      16        1   0.061379, topic_info=             Term      Freq     Total Category  logprob  loglift\n",
       "51            bed  9.000000  9.000000  Default  30.0000  30.0000\n",
       "129           old  2.000000  2.000000  Default  29.0000  29.0000\n",
       "6       breakfast  6.000000  6.000000  Default  28.0000  28.0000\n",
       "328          tiny  2.000000  2.000000  Default  27.0000  27.0000\n",
       "304          hard  2.000000  2.000000  Default  26.0000  26.0000\n",
       "..            ...       ...       ...      ...      ...      ...\n",
       "86     unfriendly  0.000865  1.133004  Topic16  -5.8051   0.2185\n",
       "87   unhospitable  0.000865  1.133035  Topic16  -5.8051   0.2184\n",
       "88            use  0.000865  1.133423  Topic16  -5.8051   0.2181\n",
       "89           wait  0.000865  1.132988  Topic16  -5.8051   0.2185\n",
       "90          water  0.000865  1.927176  Topic16  -5.8051  -0.3127\n",
       "\n",
       "[1002 rows x 6 columns], token_table=      Topic      Freq          Term\n",
       "term                               \n",
       "92        3  0.880530  additionally\n",
       "0         2  0.377332           air\n",
       "0         3  0.377332           air\n",
       "0         5  0.377332           air\n",
       "1         5  0.943027        almost\n",
       "...     ...       ...           ...\n",
       "49        5  0.562384          well\n",
       "229       7  1.194463          wine\n",
       "91        2  0.882401          wink\n",
       "50        5  0.503847          work\n",
       "50        6  0.503847          work\n",
       "\n",
       "[401 rows x 3 columns], R=30, lambda_step=0.01, plot_opts={'xlab': 'PC1', 'ylab': 'PC2'}, topic_order=[2, 9, 4, 10, 7, 1, 12, 11, 3, 14, 15, 5, 8, 16, 13, 6])"
      ]
     },
     "metadata": {},
     "output_type": "display_data"
    }
   ],
   "source": [
    "plot_model(lda_neg_16, plot ='topic_model')"
   ]
  },
  {
   "cell_type": "code",
   "execution_count": null,
   "metadata": {},
   "outputs": [],
   "source": []
  }
 ],
 "metadata": {
  "kernelspec": {
   "display_name": "Python 3",
   "language": "python",
   "name": "python3"
  },
  "language_info": {
   "codemirror_mode": {
    "name": "ipython",
    "version": 3
   },
   "file_extension": ".py",
   "mimetype": "text/x-python",
   "name": "python",
   "nbconvert_exporter": "python",
   "pygments_lexer": "ipython3",
   "version": "3.7.4"
  }
 },
 "nbformat": 4,
 "nbformat_minor": 2
}
