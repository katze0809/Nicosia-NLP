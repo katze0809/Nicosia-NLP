{
 "cells": [
  {
   "cell_type": "code",
   "execution_count": 1,
   "metadata": {},
   "outputs": [],
   "source": [
    "import pandas as pd"
   ]
  },
  {
   "cell_type": "code",
   "execution_count": 2,
   "metadata": {},
   "outputs": [
    {
     "data": {
      "text/html": [
       "<div>\n",
       "<style scoped>\n",
       "    .dataframe tbody tr th:only-of-type {\n",
       "        vertical-align: middle;\n",
       "    }\n",
       "\n",
       "    .dataframe tbody tr th {\n",
       "        vertical-align: top;\n",
       "    }\n",
       "\n",
       "    .dataframe thead th {\n",
       "        text-align: right;\n",
       "    }\n",
       "</style>\n",
       "<table border=\"1\" class=\"dataframe\">\n",
       "  <thead>\n",
       "    <tr style=\"text-align: right;\">\n",
       "      <th></th>\n",
       "      <th>r_points</th>\n",
       "      <th>r_text</th>\n",
       "      <th>place</th>\n",
       "    </tr>\n",
       "  </thead>\n",
       "  <tbody>\n",
       "    <tr>\n",
       "      <th>0</th>\n",
       "      <td>40</td>\n",
       "      <td>Very nice people. They were very helpful. The ...</td>\n",
       "      <td>Europa Plaza Hotel</td>\n",
       "    </tr>\n",
       "    <tr>\n",
       "      <th>1</th>\n",
       "      <td>10</td>\n",
       "      <td>Do not stay at this hotel unless you like loud...</td>\n",
       "      <td>Europa Plaza Hotel</td>\n",
       "    </tr>\n",
       "    <tr>\n",
       "      <th>2</th>\n",
       "      <td>10</td>\n",
       "      <td>Don't waste money. Very rude receptionist . If...</td>\n",
       "      <td>Europa Plaza Hotel</td>\n",
       "    </tr>\n",
       "    <tr>\n",
       "      <th>3</th>\n",
       "      <td>20</td>\n",
       "      <td>Many things to report about this hotel. Unfort...</td>\n",
       "      <td>Europa Plaza Hotel</td>\n",
       "    </tr>\n",
       "    <tr>\n",
       "      <th>4</th>\n",
       "      <td>40</td>\n",
       "      <td>We stayed five nights in early October 2018. I...</td>\n",
       "      <td>Europa Plaza Hotel</td>\n",
       "    </tr>\n",
       "    <tr>\n",
       "      <th>...</th>\n",
       "      <td>...</td>\n",
       "      <td>...</td>\n",
       "      <td>...</td>\n",
       "    </tr>\n",
       "    <tr>\n",
       "      <th>68</th>\n",
       "      <td>30</td>\n",
       "      <td>The Europa is a quiet, clean and friendly hote...</td>\n",
       "      <td>Europa Plaza Hotel</td>\n",
       "    </tr>\n",
       "    <tr>\n",
       "      <th>69</th>\n",
       "      <td>40</td>\n",
       "      <td>Stay in this hotel for 5 days in AugustVery fr...</td>\n",
       "      <td>Europa Plaza Hotel</td>\n",
       "    </tr>\n",
       "    <tr>\n",
       "      <th>70</th>\n",
       "      <td>50</td>\n",
       "      <td>A beautiful experience! Nice clean and large r...</td>\n",
       "      <td>Europa Plaza Hotel</td>\n",
       "    </tr>\n",
       "    <tr>\n",
       "      <th>71</th>\n",
       "      <td>40</td>\n",
       "      <td>Not much I can say really, a nice clean, moder...</td>\n",
       "      <td>Europa Plaza Hotel</td>\n",
       "    </tr>\n",
       "    <tr>\n",
       "      <th>72</th>\n",
       "      <td>40</td>\n",
       "      <td>Stayed at the Europa for 7 nights on business....</td>\n",
       "      <td>Europa Plaza Hotel</td>\n",
       "    </tr>\n",
       "  </tbody>\n",
       "</table>\n",
       "<p>73 rows × 3 columns</p>\n",
       "</div>"
      ],
      "text/plain": [
       "    r_points                                             r_text  \\\n",
       "0         40  Very nice people. They were very helpful. The ...   \n",
       "1         10  Do not stay at this hotel unless you like loud...   \n",
       "2         10  Don't waste money. Very rude receptionist . If...   \n",
       "3         20  Many things to report about this hotel. Unfort...   \n",
       "4         40  We stayed five nights in early October 2018. I...   \n",
       "..       ...                                                ...   \n",
       "68        30  The Europa is a quiet, clean and friendly hote...   \n",
       "69        40  Stay in this hotel for 5 days in AugustVery fr...   \n",
       "70        50  A beautiful experience! Nice clean and large r...   \n",
       "71        40  Not much I can say really, a nice clean, moder...   \n",
       "72        40  Stayed at the Europa for 7 nights on business....   \n",
       "\n",
       "                 place  \n",
       "0   Europa Plaza Hotel  \n",
       "1   Europa Plaza Hotel  \n",
       "2   Europa Plaza Hotel  \n",
       "3   Europa Plaza Hotel  \n",
       "4   Europa Plaza Hotel  \n",
       "..                 ...  \n",
       "68  Europa Plaza Hotel  \n",
       "69  Europa Plaza Hotel  \n",
       "70  Europa Plaza Hotel  \n",
       "71  Europa Plaza Hotel  \n",
       "72  Europa Plaza Hotel  \n",
       "\n",
       "[73 rows x 3 columns]"
      ]
     },
     "execution_count": 2,
     "metadata": {},
     "output_type": "execute_result"
    }
   ],
   "source": [
    "tripadv_review = pd.read_csv(r'C:\\Users\\Dell\\Desktop\\Hotel\\Europa Plaza Hotel.csv', error_bad_lines=False);\n",
    "tripadv_review"
   ]
  },
  {
   "cell_type": "code",
   "execution_count": 3,
   "metadata": {},
   "outputs": [
    {
     "name": "stderr",
     "output_type": "stream",
     "text": [
      "[nltk_data] Downloading package vader_lexicon to\n",
      "[nltk_data]     C:\\Users\\Dell\\AppData\\Roaming\\nltk_data...\n",
      "[nltk_data]   Package vader_lexicon is already up-to-date!\n"
     ]
    }
   ],
   "source": [
    "import nltk\n",
    "nltk.download('vader_lexicon')\n",
    "from nltk.sentiment.vader import SentimentIntensityAnalyzer\n",
    "sent = SentimentIntensityAnalyzer()"
   ]
  },
  {
   "cell_type": "code",
   "execution_count": 4,
   "metadata": {},
   "outputs": [
    {
     "data": {
      "text/plain": [
       "{'neg': 0.0, 'neu': 0.793, 'pos': 0.207, 'compound': 0.8548}"
      ]
     },
     "execution_count": 4,
     "metadata": {},
     "output_type": "execute_result"
    }
   ],
   "source": [
    "sent.polarity_scores(tripadv_review.iloc[0]['r_text'])"
   ]
  },
  {
   "cell_type": "code",
   "execution_count": 5,
   "metadata": {},
   "outputs": [
    {
     "data": {
      "text/html": [
       "<div>\n",
       "<style scoped>\n",
       "    .dataframe tbody tr th:only-of-type {\n",
       "        vertical-align: middle;\n",
       "    }\n",
       "\n",
       "    .dataframe tbody tr th {\n",
       "        vertical-align: top;\n",
       "    }\n",
       "\n",
       "    .dataframe thead th {\n",
       "        text-align: right;\n",
       "    }\n",
       "</style>\n",
       "<table border=\"1\" class=\"dataframe\">\n",
       "  <thead>\n",
       "    <tr style=\"text-align: right;\">\n",
       "      <th></th>\n",
       "      <th>r_points</th>\n",
       "      <th>r_text</th>\n",
       "      <th>place</th>\n",
       "      <th>scores</th>\n",
       "      <th>compound</th>\n",
       "      <th>score</th>\n",
       "    </tr>\n",
       "  </thead>\n",
       "  <tbody>\n",
       "    <tr>\n",
       "      <th>0</th>\n",
       "      <td>40</td>\n",
       "      <td>Very nice people. They were very helpful. The ...</td>\n",
       "      <td>Europa Plaza Hotel</td>\n",
       "      <td>{'neg': 0.0, 'neu': 0.793, 'pos': 0.207, 'comp...</td>\n",
       "      <td>0.8548</td>\n",
       "      <td>pos</td>\n",
       "    </tr>\n",
       "    <tr>\n",
       "      <th>1</th>\n",
       "      <td>10</td>\n",
       "      <td>Do not stay at this hotel unless you like loud...</td>\n",
       "      <td>Europa Plaza Hotel</td>\n",
       "      <td>{'neg': 0.151, 'neu': 0.778, 'pos': 0.071, 'co...</td>\n",
       "      <td>-0.6908</td>\n",
       "      <td>neg</td>\n",
       "    </tr>\n",
       "    <tr>\n",
       "      <th>2</th>\n",
       "      <td>10</td>\n",
       "      <td>Don't waste money. Very rude receptionist . If...</td>\n",
       "      <td>Europa Plaza Hotel</td>\n",
       "      <td>{'neg': 0.197, 'neu': 0.663, 'pos': 0.141, 'co...</td>\n",
       "      <td>-0.7150</td>\n",
       "      <td>neg</td>\n",
       "    </tr>\n",
       "    <tr>\n",
       "      <th>3</th>\n",
       "      <td>20</td>\n",
       "      <td>Many things to report about this hotel. Unfort...</td>\n",
       "      <td>Europa Plaza Hotel</td>\n",
       "      <td>{'neg': 0.081, 'neu': 0.902, 'pos': 0.017, 'co...</td>\n",
       "      <td>-0.7168</td>\n",
       "      <td>neg</td>\n",
       "    </tr>\n",
       "    <tr>\n",
       "      <th>4</th>\n",
       "      <td>40</td>\n",
       "      <td>We stayed five nights in early October 2018. I...</td>\n",
       "      <td>Europa Plaza Hotel</td>\n",
       "      <td>{'neg': 0.0, 'neu': 0.831, 'pos': 0.169, 'comp...</td>\n",
       "      <td>0.7264</td>\n",
       "      <td>pos</td>\n",
       "    </tr>\n",
       "  </tbody>\n",
       "</table>\n",
       "</div>"
      ],
      "text/plain": [
       "   r_points                                             r_text  \\\n",
       "0        40  Very nice people. They were very helpful. The ...   \n",
       "1        10  Do not stay at this hotel unless you like loud...   \n",
       "2        10  Don't waste money. Very rude receptionist . If...   \n",
       "3        20  Many things to report about this hotel. Unfort...   \n",
       "4        40  We stayed five nights in early October 2018. I...   \n",
       "\n",
       "                place                                             scores  \\\n",
       "0  Europa Plaza Hotel  {'neg': 0.0, 'neu': 0.793, 'pos': 0.207, 'comp...   \n",
       "1  Europa Plaza Hotel  {'neg': 0.151, 'neu': 0.778, 'pos': 0.071, 'co...   \n",
       "2  Europa Plaza Hotel  {'neg': 0.197, 'neu': 0.663, 'pos': 0.141, 'co...   \n",
       "3  Europa Plaza Hotel  {'neg': 0.081, 'neu': 0.902, 'pos': 0.017, 'co...   \n",
       "4  Europa Plaza Hotel  {'neg': 0.0, 'neu': 0.831, 'pos': 0.169, 'comp...   \n",
       "\n",
       "   compound score  \n",
       "0    0.8548   pos  \n",
       "1   -0.6908   neg  \n",
       "2   -0.7150   neg  \n",
       "3   -0.7168   neg  \n",
       "4    0.7264   pos  "
      ]
     },
     "execution_count": 5,
     "metadata": {},
     "output_type": "execute_result"
    }
   ],
   "source": [
    "tripadv_review['scores'] = tripadv_review['r_text'].apply(lambda review:sent.polarity_scores(review))\n",
    "tripadv_review['compound'] = tripadv_review['scores'].apply(lambda d:d['compound'])\n",
    "tripadv_review['score'] = tripadv_review['compound'].apply(lambda score: 'pos' if score >=0 else 'neg')\n",
    "tripadv_review.head()"
   ]
  },
  {
   "cell_type": "code",
   "execution_count": 9,
   "metadata": {},
   "outputs": [],
   "source": [
    "tripadv_review.to_csv(r'C:\\Users\\Dell\\Desktop\\sentiment_out2.csv')"
   ]
  },
  {
   "cell_type": "code",
   "execution_count": 10,
   "metadata": {},
   "outputs": [],
   "source": [
    "pos_rev=tripadv_review[(tripadv_review['score'] .str.contains('pos'))]\n",
    "pos_rev.to_csv(r'C:\\Users\\Dell\\Desktop\\sentiment_out2_pos.csv')\n",
    "neg_rev=tripadv_review[(tripadv_review['score'] .str.contains('neg'))]\n",
    "neg_rev.to_csv(r'C:\\Users\\Dell\\Desktop\\sentiment_out2_neg.csv')"
   ]
  },
  {
   "cell_type": "code",
   "execution_count": 11,
   "metadata": {},
   "outputs": [],
   "source": [
    "from pycaret.nlp import *"
   ]
  },
  {
   "cell_type": "code",
   "execution_count": 12,
   "metadata": {},
   "outputs": [
    {
     "data": {
      "text/html": [
       "<style  type=\"text/css\" >\n",
       "</style><table id=\"T_fd59b5a2_3004_11eb_985a_c48e8ff9d2e0\" ><thead>    <tr>        <th class=\"col_heading level0 col0\" >Description</th>        <th class=\"col_heading level0 col1\" >Value</th>    </tr></thead><tbody>\n",
       "                <tr>\n",
       "                                <td id=\"T_fd59b5a2_3004_11eb_985a_c48e8ff9d2e0row0_col0\" class=\"data row0 col0\" >session_id</td>\n",
       "                        <td id=\"T_fd59b5a2_3004_11eb_985a_c48e8ff9d2e0row0_col1\" class=\"data row0 col1\" >7437</td>\n",
       "            </tr>\n",
       "            <tr>\n",
       "                                <td id=\"T_fd59b5a2_3004_11eb_985a_c48e8ff9d2e0row1_col0\" class=\"data row1 col0\" >Documents</td>\n",
       "                        <td id=\"T_fd59b5a2_3004_11eb_985a_c48e8ff9d2e0row1_col1\" class=\"data row1 col1\" >60</td>\n",
       "            </tr>\n",
       "            <tr>\n",
       "                                <td id=\"T_fd59b5a2_3004_11eb_985a_c48e8ff9d2e0row2_col0\" class=\"data row2 col0\" >Vocab Size</td>\n",
       "                        <td id=\"T_fd59b5a2_3004_11eb_985a_c48e8ff9d2e0row2_col1\" class=\"data row2 col1\" >876</td>\n",
       "            </tr>\n",
       "            <tr>\n",
       "                                <td id=\"T_fd59b5a2_3004_11eb_985a_c48e8ff9d2e0row3_col0\" class=\"data row3 col0\" >Custom Stopwords</td>\n",
       "                        <td id=\"T_fd59b5a2_3004_11eb_985a_c48e8ff9d2e0row3_col1\" class=\"data row3 col1\" >True</td>\n",
       "            </tr>\n",
       "    </tbody></table>"
      ],
      "text/plain": [
       "<pandas.io.formats.style.Styler at 0x25d7797e248>"
      ]
     },
     "metadata": {},
     "output_type": "display_data"
    }
   ],
   "source": [
    "exp_nlp = setup(data = pos_rev, target = 'r_text',\n",
    "                custom_stopwords = [ 'hotel', 'room', 'nice', 'good', 'excellent','restaurant', 'food'])"
   ]
  },
  {
   "cell_type": "code",
   "execution_count": 13,
   "metadata": {},
   "outputs": [
    {
     "name": "stdout",
     "output_type": "stream",
     "text": [
      "LdaModel(num_terms=876, num_topics=4, decay=0.5, chunksize=100)\n"
     ]
    }
   ],
   "source": [
    "#create an LDA model\n",
    "lda_pos_custom = create_model('lda')\n",
    "print(lda_pos_custom)"
   ]
  },
  {
   "cell_type": "code",
   "execution_count": 14,
   "metadata": {},
   "outputs": [
    {
     "data": {
      "text/html": [
       "<div>\n",
       "<style scoped>\n",
       "    .dataframe tbody tr th:only-of-type {\n",
       "        vertical-align: middle;\n",
       "    }\n",
       "\n",
       "    .dataframe tbody tr th {\n",
       "        vertical-align: top;\n",
       "    }\n",
       "\n",
       "    .dataframe thead th {\n",
       "        text-align: right;\n",
       "    }\n",
       "</style>\n",
       "<table border=\"1\" class=\"dataframe\">\n",
       "  <thead>\n",
       "    <tr style=\"text-align: right;\">\n",
       "      <th></th>\n",
       "      <th>r_points</th>\n",
       "      <th>r_text</th>\n",
       "      <th>place</th>\n",
       "      <th>scores</th>\n",
       "      <th>compound</th>\n",
       "      <th>score</th>\n",
       "      <th>Topic_0</th>\n",
       "      <th>Topic_1</th>\n",
       "      <th>Topic_2</th>\n",
       "      <th>Topic_3</th>\n",
       "      <th>Dominant_Topic</th>\n",
       "      <th>Perc_Dominant_Topic</th>\n",
       "    </tr>\n",
       "  </thead>\n",
       "  <tbody>\n",
       "    <tr>\n",
       "      <th>0</th>\n",
       "      <td>40.0</td>\n",
       "      <td>people helpful breakfast get close door hear n...</td>\n",
       "      <td>Europa Plaza Hotel</td>\n",
       "      <td>{'neg': 0.0, 'neu': 0.793, 'pos': 0.207, 'comp...</td>\n",
       "      <td>0.8548</td>\n",
       "      <td>pos</td>\n",
       "      <td>0.004648</td>\n",
       "      <td>0.004505</td>\n",
       "      <td>0.983936</td>\n",
       "      <td>0.006911</td>\n",
       "      <td>Topic 2</td>\n",
       "      <td>0.98</td>\n",
       "    </tr>\n",
       "    <tr>\n",
       "      <th>1</th>\n",
       "      <td>NaN</td>\n",
       "      <td>NaN</td>\n",
       "      <td>NaN</td>\n",
       "      <td>NaN</td>\n",
       "      <td>NaN</td>\n",
       "      <td>NaN</td>\n",
       "      <td>0.005151</td>\n",
       "      <td>0.004992</td>\n",
       "      <td>0.982198</td>\n",
       "      <td>0.007659</td>\n",
       "      <td>Topic 2</td>\n",
       "      <td>0.98</td>\n",
       "    </tr>\n",
       "    <tr>\n",
       "      <th>2</th>\n",
       "      <td>NaN</td>\n",
       "      <td>NaN</td>\n",
       "      <td>NaN</td>\n",
       "      <td>NaN</td>\n",
       "      <td>NaN</td>\n",
       "      <td>NaN</td>\n",
       "      <td>0.002761</td>\n",
       "      <td>0.002676</td>\n",
       "      <td>0.004482</td>\n",
       "      <td>0.990081</td>\n",
       "      <td>Topic 3</td>\n",
       "      <td>0.99</td>\n",
       "    </tr>\n",
       "    <tr>\n",
       "      <th>3</th>\n",
       "      <td>NaN</td>\n",
       "      <td>NaN</td>\n",
       "      <td>NaN</td>\n",
       "      <td>NaN</td>\n",
       "      <td>NaN</td>\n",
       "      <td>NaN</td>\n",
       "      <td>0.002761</td>\n",
       "      <td>0.002676</td>\n",
       "      <td>0.990457</td>\n",
       "      <td>0.004105</td>\n",
       "      <td>Topic 2</td>\n",
       "      <td>0.99</td>\n",
       "    </tr>\n",
       "    <tr>\n",
       "      <th>4</th>\n",
       "      <td>40.0</td>\n",
       "      <td>stay night early locate close city worth stay ...</td>\n",
       "      <td>Europa Plaza Hotel</td>\n",
       "      <td>{'neg': 0.0, 'neu': 0.831, 'pos': 0.169, 'comp...</td>\n",
       "      <td>0.7264</td>\n",
       "      <td>pos</td>\n",
       "      <td>0.000273</td>\n",
       "      <td>0.000265</td>\n",
       "      <td>0.999056</td>\n",
       "      <td>0.000406</td>\n",
       "      <td>Topic 2</td>\n",
       "      <td>1.00</td>\n",
       "    </tr>\n",
       "    <tr>\n",
       "      <th>...</th>\n",
       "      <td>...</td>\n",
       "      <td>...</td>\n",
       "      <td>...</td>\n",
       "      <td>...</td>\n",
       "      <td>...</td>\n",
       "      <td>...</td>\n",
       "      <td>...</td>\n",
       "      <td>...</td>\n",
       "      <td>...</td>\n",
       "      <td>...</td>\n",
       "      <td>...</td>\n",
       "      <td>...</td>\n",
       "    </tr>\n",
       "    <tr>\n",
       "      <th>68</th>\n",
       "      <td>30.0</td>\n",
       "      <td>quiet clean friendly minute walk book website ...</td>\n",
       "      <td>Europa Plaza Hotel</td>\n",
       "      <td>{'neg': 0.022, 'neu': 0.855, 'pos': 0.123, 'co...</td>\n",
       "      <td>0.8839</td>\n",
       "      <td>pos</td>\n",
       "      <td>NaN</td>\n",
       "      <td>NaN</td>\n",
       "      <td>NaN</td>\n",
       "      <td>NaN</td>\n",
       "      <td>NaN</td>\n",
       "      <td>NaN</td>\n",
       "    </tr>\n",
       "    <tr>\n",
       "      <th>69</th>\n",
       "      <td>40.0</td>\n",
       "      <td>stay day staff reception clean fresh towel fre...</td>\n",
       "      <td>Europa Plaza Hotel</td>\n",
       "      <td>{'neg': 0.039, 'neu': 0.787, 'pos': 0.174, 'co...</td>\n",
       "      <td>0.8316</td>\n",
       "      <td>pos</td>\n",
       "      <td>NaN</td>\n",
       "      <td>NaN</td>\n",
       "      <td>NaN</td>\n",
       "      <td>NaN</td>\n",
       "      <td>NaN</td>\n",
       "      <td>NaN</td>\n",
       "    </tr>\n",
       "    <tr>\n",
       "      <th>70</th>\n",
       "      <td>50.0</td>\n",
       "      <td>beautiful experience clean large change everyd...</td>\n",
       "      <td>Europa Plaza Hotel</td>\n",
       "      <td>{'neg': 0.024, 'neu': 0.637, 'pos': 0.339, 'co...</td>\n",
       "      <td>0.9708</td>\n",
       "      <td>pos</td>\n",
       "      <td>NaN</td>\n",
       "      <td>NaN</td>\n",
       "      <td>NaN</td>\n",
       "      <td>NaN</td>\n",
       "      <td>NaN</td>\n",
       "      <td>NaN</td>\n",
       "    </tr>\n",
       "    <tr>\n",
       "      <th>71</th>\n",
       "      <td>40.0</td>\n",
       "      <td>much say really clean modern aim mainly busine...</td>\n",
       "      <td>Europa Plaza Hotel</td>\n",
       "      <td>{'neg': 0.022, 'neu': 0.746, 'pos': 0.232, 'co...</td>\n",
       "      <td>0.9863</td>\n",
       "      <td>pos</td>\n",
       "      <td>NaN</td>\n",
       "      <td>NaN</td>\n",
       "      <td>NaN</td>\n",
       "      <td>NaN</td>\n",
       "      <td>NaN</td>\n",
       "      <td>NaN</td>\n",
       "    </tr>\n",
       "    <tr>\n",
       "      <th>72</th>\n",
       "      <td>40.0</td>\n",
       "      <td>stay night business newly decorate fair size w...</td>\n",
       "      <td>Europa Plaza Hotel</td>\n",
       "      <td>{'neg': 0.052, 'neu': 0.82, 'pos': 0.128, 'com...</td>\n",
       "      <td>0.8134</td>\n",
       "      <td>pos</td>\n",
       "      <td>NaN</td>\n",
       "      <td>NaN</td>\n",
       "      <td>NaN</td>\n",
       "      <td>NaN</td>\n",
       "      <td>NaN</td>\n",
       "      <td>NaN</td>\n",
       "    </tr>\n",
       "  </tbody>\n",
       "</table>\n",
       "<p>71 rows × 12 columns</p>\n",
       "</div>"
      ],
      "text/plain": [
       "    r_points                                             r_text  \\\n",
       "0       40.0  people helpful breakfast get close door hear n...   \n",
       "1        NaN                                                NaN   \n",
       "2        NaN                                                NaN   \n",
       "3        NaN                                                NaN   \n",
       "4       40.0  stay night early locate close city worth stay ...   \n",
       "..       ...                                                ...   \n",
       "68      30.0  quiet clean friendly minute walk book website ...   \n",
       "69      40.0  stay day staff reception clean fresh towel fre...   \n",
       "70      50.0  beautiful experience clean large change everyd...   \n",
       "71      40.0  much say really clean modern aim mainly busine...   \n",
       "72      40.0  stay night business newly decorate fair size w...   \n",
       "\n",
       "                 place                                             scores  \\\n",
       "0   Europa Plaza Hotel  {'neg': 0.0, 'neu': 0.793, 'pos': 0.207, 'comp...   \n",
       "1                  NaN                                                NaN   \n",
       "2                  NaN                                                NaN   \n",
       "3                  NaN                                                NaN   \n",
       "4   Europa Plaza Hotel  {'neg': 0.0, 'neu': 0.831, 'pos': 0.169, 'comp...   \n",
       "..                 ...                                                ...   \n",
       "68  Europa Plaza Hotel  {'neg': 0.022, 'neu': 0.855, 'pos': 0.123, 'co...   \n",
       "69  Europa Plaza Hotel  {'neg': 0.039, 'neu': 0.787, 'pos': 0.174, 'co...   \n",
       "70  Europa Plaza Hotel  {'neg': 0.024, 'neu': 0.637, 'pos': 0.339, 'co...   \n",
       "71  Europa Plaza Hotel  {'neg': 0.022, 'neu': 0.746, 'pos': 0.232, 'co...   \n",
       "72  Europa Plaza Hotel  {'neg': 0.052, 'neu': 0.82, 'pos': 0.128, 'com...   \n",
       "\n",
       "    compound score   Topic_0   Topic_1   Topic_2   Topic_3 Dominant_Topic  \\\n",
       "0     0.8548   pos  0.004648  0.004505  0.983936  0.006911        Topic 2   \n",
       "1        NaN   NaN  0.005151  0.004992  0.982198  0.007659        Topic 2   \n",
       "2        NaN   NaN  0.002761  0.002676  0.004482  0.990081        Topic 3   \n",
       "3        NaN   NaN  0.002761  0.002676  0.990457  0.004105        Topic 2   \n",
       "4     0.7264   pos  0.000273  0.000265  0.999056  0.000406        Topic 2   \n",
       "..       ...   ...       ...       ...       ...       ...            ...   \n",
       "68    0.8839   pos       NaN       NaN       NaN       NaN            NaN   \n",
       "69    0.8316   pos       NaN       NaN       NaN       NaN            NaN   \n",
       "70    0.9708   pos       NaN       NaN       NaN       NaN            NaN   \n",
       "71    0.9863   pos       NaN       NaN       NaN       NaN            NaN   \n",
       "72    0.8134   pos       NaN       NaN       NaN       NaN            NaN   \n",
       "\n",
       "    Perc_Dominant_Topic  \n",
       "0                  0.98  \n",
       "1                  0.98  \n",
       "2                  0.99  \n",
       "3                  0.99  \n",
       "4                  1.00  \n",
       "..                  ...  \n",
       "68                  NaN  \n",
       "69                  NaN  \n",
       "70                  NaN  \n",
       "71                  NaN  \n",
       "72                  NaN  \n",
       "\n",
       "[71 rows x 12 columns]"
      ]
     },
     "execution_count": 14,
     "metadata": {},
     "output_type": "execute_result"
    }
   ],
   "source": [
    "apply_lda_pos = assign_model(lda_pos_custom)\n",
    "apply_lda_pos"
   ]
  },
  {
   "cell_type": "code",
   "execution_count": 15,
   "metadata": {},
   "outputs": [
    {
     "data": {
      "application/vnd.jupyter.widget-view+json": {
       "model_id": "1ed09f63250a447dbea0a2f43290b683",
       "version_major": 2,
       "version_minor": 0
      },
      "text/plain": [
       "interactive(children=(ToggleButtons(description='Plot Type:', icons=('',), options=(('Frequency Plot', 'freque…"
      ]
     },
     "metadata": {},
     "output_type": "display_data"
    }
   ],
   "source": [
    "evaluate_model(lda_pos_custom)"
   ]
  },
  {
   "cell_type": "code",
   "execution_count": 16,
   "metadata": {},
   "outputs": [
    {
     "data": {
      "text/html": [
       "        <script type=\"text/javascript\">\n",
       "        window.PlotlyConfig = {MathJaxConfig: 'local'};\n",
       "        if (window.MathJax) {MathJax.Hub.Config({SVG: {font: \"STIX-Web\"}});}\n",
       "        if (typeof require !== 'undefined') {\n",
       "        require.undef(\"plotly\");\n",
       "        requirejs.config({\n",
       "            paths: {\n",
       "                'plotly': ['https://cdn.plot.ly/plotly-latest.min']\n",
       "            }\n",
       "        });\n",
       "        require(['plotly'], function(Plotly) {\n",
       "            window._Plotly = Plotly;\n",
       "        });\n",
       "        }\n",
       "        </script>\n",
       "        "
      ]
     },
     "metadata": {},
     "output_type": "display_data"
    },
    {
     "data": {
      "text/html": [
       "\n",
       "<link rel=\"stylesheet\" type=\"text/css\" href=\"https://cdn.rawgit.com/bmabey/pyLDAvis/files/ldavis.v1.0.0.css\">\n",
       "\n",
       "\n",
       "<div id=\"ldavis_el1848026005010679766156656666\"></div>\n",
       "<script type=\"text/javascript\">\n",
       "\n",
       "var ldavis_el1848026005010679766156656666_data = {\"mdsDat\": {\"x\": [-0.08374481415447321, -0.04736916533055058, 0.06372480048792349, 0.06738917899710029], \"y\": [-0.05615298164263816, 0.08514192019719874, -0.07660643201143719, 0.047617493456876624], \"topics\": [1, 2, 3, 4], \"cluster\": [1, 1, 1, 1], \"Freq\": [33.5516242980957, 28.947656631469727, 20.622318267822266, 16.87839698791504]}, \"tinfo\": {\"Term\": [\"stay\", \"ask\", \"car\", \"seem\", \"hard\", \"receptionist\", \"area\", \"noisy\", \"bath\", \"problem\", \"offer\", \"short\", \"adequate\", \"staff\", \"night\", \"old\", \"sleep\", \"friendly\", \"personnel\", \"immediately\", \"visit\", \"call\", \"also\", \"great\", \"taxi\", \"suite\", \"fruit\", \"need\", \"air\", \"size\", \"enough\", \"hour\", \"air\", \"woman\", \"professional\", \"view\", \"condition\", \"style\", \"rock\", \"fine\", \"souless\", \"facelift\", \"asleep\", \"aircon\", \"fall\", \"emergency\", \"exit\", \"teenager\", \"nicely\", \"screen\", \"huge\", \"manager\", \"personal\", \"star\", \"use\", \"refurbish\", \"rather\", \"nicosia\", \"place\", \"noisy\", \"visit\", \"service\", \"great\", \"bathroom\", \"get\", \"clean\", \"help\", \"always\", \"location\", \"basic\", \"floor\", \"average\", \"breakfast\", \"eat\", \"conditioning\", \"spacious\", \"day\", \"spend\", \"bed\", \"staff\", \"well\", \"business\", \"bar\", \"large\", \"night\", \"price\", \"choice\", \"need\", \"small\", \"stay\", \"bath\", \"suite\", \"fruit\", \"worth\", \"school\", \"plug\", \"fresh\", \"cereal\", \"party\", \"effective\", \"inform\", \"bread\", \"teenage\", \"laugh\", \"child\", \"selection\", \"sleep\", \"thing\", \"tasty\", \"issue\", \"group\", \"ready\", \"limited\", \"bean\", \"sausage\", \"unavailable\", \"meat\", \"cheese\", \"hairdryer\", \"space\", \"book\", \"comfortable\", \"also\", \"morning\", \"water\", \"night\", \"close\", \"part\", \"stay\", \"breakfast\", \"free\", \"friendly\", \"staff\", \"tea\", \"business\", \"helpful\", \"well\", \"clean\", \"cold\", \"find\", \"center\", \"location\", \"choice\", \"work\", \"time\", \"day\", \"make\", \"bar\", \"get\", \"bed\", \"coffee\", \"personnel\", \"immediately\", \"rarely\", \"roll\", \"machine\", \"bad\", \"beautiful\", \"repair\", \"suffer\", \"phone\", \"reasonable\", \"future\", \"receptionist\", \"come\", \"travel\", \"satisfactory\", \"compare\", \"posh\", \"almost\", \"recommendation\", \"spending\", \"appreciate\", \"activity\", \"sufficient\", \"expose\", \"mind\", \"indeed\", \"depend\", \"dirt\", \"gasstation\", \"car\", \"ask\", \"offer\", \"call\", \"polite\", \"overall\", \"normal\", \"bacon\", \"bus\", \"arrive\", \"least\", \"tell\", \"last\", \"need\", \"coffee\", \"area\", \"value\", \"give\", \"bed\", \"breakfast\", \"noise\", \"price\", \"make\", \"well\", \"clean\", \"night\", \"large\", \"first\", \"noisy\", \"side\", \"city\", \"staff\", \"small\", \"business\", \"definately\", \"sure\", \"fairly\", \"ride\", \"awake\", \"distance\", \"irish\", \"adequate\", \"regolar\", \"bite\", \"abundant\", \"planning\", \"clothe\", \"laundry\", \"expedite\", \"husband\", \"supply\", \"attendant\", \"thought\", \"servicing\", \"sugar\", \"never\", \"delightful\", \"disturb\", \"constant\", \"positive\", \"discomfort\", \"smoking\", \"dryer\", \"hair\", \"short\", \"problem\", \"seem\", \"hard\", \"certainly\", \"bit\", \"town\", \"plenty\", \"motorbike\", \"old\", \"include\", \"stay\", \"easy\", \"extremely\", \"size\", \"main\", \"area\", \"staff\", \"go\", \"friendly\", \"helpful\", \"clean\", \"car\", \"free\", \"bed\", \"europa\", \"bar\", \"city\", \"need\", \"quite\", \"value\", \"ask\", \"noise\", \"well\", \"night\"], \"Freq\": [20.0, 9.0, 5.0, 6.0, 5.0, 5.0, 7.0, 8.0, 4.0, 3.0, 4.0, 3.0, 3.0, 24.0, 25.0, 6.0, 5.0, 11.0, 2.0, 2.0, 8.0, 4.0, 6.0, 8.0, 3.0, 3.0, 3.0, 14.0, 6.0, 4.0, 3.261087417602539, 2.4862382411956787, 4.795595169067383, 1.7282673120498657, 1.7282588481903076, 1.72824227809906, 1.728217363357544, 1.7281726598739624, 1.7281144857406616, 1.7271697521209717, 1.7256149053573608, 1.724768042564392, 1.7241733074188232, 1.7239490747451782, 1.7237460613250732, 1.7222405672073364, 1.7222387790679932, 1.7213002443313599, 1.7204970121383667, 1.7194381952285767, 1.7187796831130981, 1.7148257493972778, 1.712575912475586, 2.793086528778076, 3.2622392177581787, 1.529314398765564, 3.5646753311157227, 2.488877058029175, 4.032242298126221, 5.543736457824707, 5.568075656890869, 5.530508995056152, 5.497674942016602, 4.730483531951904, 6.299485683441162, 12.450021743774414, 3.270416498184204, 3.2621545791625977, 6.23529577255249, 3.2612693309783936, 3.251572847366333, 2.4934258460998535, 9.537878036499023, 2.493274450302124, 2.4918789863586426, 2.462153911590576, 4.756533622741699, 3.2639315128326416, 6.341068744659424, 7.809514045715332, 6.298737049102783, 5.575660228729248, 4.743975639343262, 3.2669517993927, 6.2325592041015625, 3.9393310546875, 3.5510642528533936, 4.135007858276367, 3.4183566570281982, 3.524157762527466, 3.852081060409546, 3.116666316986084, 3.116318941116333, 2.385183811187744, 2.379249334335327, 1.6527321338653564, 1.6513479948043823, 1.6506624221801758, 1.6501703262329102, 1.6487314701080322, 1.647603988647461, 1.6477501392364502, 1.64742910861969, 1.64710533618927, 1.646406650543213, 1.645482063293457, 4.234078407287598, 3.1195406913757324, 2.033149242401123, 1.997532606124878, 2.3825089931488037, 2.383420705795288, 0.9185125231742859, 0.9185107350349426, 0.9185106158256531, 0.9185109734535217, 0.9185099005699158, 0.9185082912445068, 0.918506920337677, 0.9185048937797546, 3.1142351627349854, 3.118713855743408, 3.8807425498962402, 3.116217851638794, 3.115659475326538, 13.493789672851562, 3.573561906814575, 2.3807263374328613, 9.063573837280273, 8.623892784118652, 4.759992599487305, 5.115654945373535, 8.03803539276123, 3.117852210998535, 5.313133239746094, 4.623538017272949, 5.375004291534424, 7.199129104614258, 2.381270170211792, 3.1177077293395996, 3.122161388397217, 3.8953042030334473, 3.1274070739746094, 3.130511522293091, 3.121549129486084, 3.167523145675659, 3.1200268268585205, 3.2345492839813232, 3.1485025882720947, 3.1382949352264404, 3.121575355529785, 2.1826488971710205, 2.1688120365142822, 1.5276331901550293, 1.5269904136657715, 1.526711106300354, 1.525644302368164, 1.5246853828430176, 1.5229068994522095, 1.5195856094360352, 1.5132368803024292, 1.51173734664917, 1.4513309001922607, 3.5589733123779297, 2.2087626457214355, 0.8518792986869812, 0.8518716096878052, 0.8518528342247009, 0.8518502116203308, 0.8518432378768921, 0.851334273815155, 0.8513060212135315, 0.8512868285179138, 0.8512790203094482, 0.8512588143348694, 0.8512293100357056, 0.851134181022644, 0.8510609269142151, 0.8510265350341797, 0.8503291010856628, 0.8500162363052368, 3.5624186992645264, 5.490225791931152, 2.864896535873413, 2.857985019683838, 2.069868326187134, 1.5315241813659668, 1.5273734331130981, 1.5228912830352783, 1.5221391916275024, 1.5281908512115479, 1.526160717010498, 2.8886139392852783, 1.5091149806976318, 4.818940162658691, 4.074155807495117, 2.7540032863616943, 2.895418405532837, 2.658587694168091, 4.2390947341918945, 5.164012432098389, 2.882965087890625, 2.889559745788574, 2.779191732406616, 3.566575765609741, 3.9650168418884277, 3.5844764709472656, 2.202461004257202, 2.118102788925171, 2.2149219512939453, 2.050868272781372, 2.0337042808532715, 2.5049636363983154, 2.026823043823242, 2.2180066108703613, 1.4050530195236206, 1.4049757719039917, 1.4018839597702026, 1.399085283279419, 1.398087739944458, 1.3939858675003052, 1.3923964500427246, 2.017461061477661, 0.780792772769928, 0.7807777523994446, 0.7805997133255005, 0.7805743217468262, 0.7805415987968445, 0.7805394530296326, 0.7805174589157104, 0.78050696849823, 0.78049635887146, 0.7804652452468872, 0.7804387211799622, 0.7803863883018494, 0.7803794145584106, 0.7802549004554749, 0.7802062034606934, 0.7800047993659973, 0.7799633741378784, 0.7798670530319214, 0.7795084118843079, 0.7795072197914124, 0.7793559432029724, 0.7793075442314148, 2.255462408065796, 2.0221433639526367, 3.2717230319976807, 2.64860200881958, 1.405075192451477, 1.4041748046875, 1.4010525941848755, 1.4002184867858887, 1.4026141166687012, 2.649373769760132, 1.3653618097305298, 6.462599277496338, 1.605658769607544, 1.592360019683838, 2.0113277435302734, 2.001052141189575, 2.6367955207824707, 5.76000452041626, 2.0098769664764404, 3.2662150859832764, 3.2565267086029053, 5.733980655670166, 2.0317604541778564, 2.633375883102417, 3.282740592956543, 2.0281240940093994, 2.6126694679260254, 2.0302510261535645, 2.6373541355133057, 2.030355930328369, 2.0248606204986572, 2.072321891784668, 2.016218662261963, 2.0322368144989014, 2.039966106414795], \"Total\": [20.0, 9.0, 5.0, 6.0, 5.0, 5.0, 7.0, 8.0, 4.0, 3.0, 4.0, 3.0, 3.0, 24.0, 25.0, 6.0, 5.0, 11.0, 2.0, 2.0, 8.0, 4.0, 6.0, 8.0, 3.0, 3.0, 3.0, 14.0, 6.0, 4.0, 3.774517059326172, 3.0060195922851562, 6.0451483726501465, 2.238577127456665, 2.2385756969451904, 2.2385737895965576, 2.2385735511779785, 2.2385706901550293, 2.238565683364868, 2.2385177612304688, 2.2381482124328613, 2.2382733821868896, 2.238114833831787, 2.2379438877105713, 2.238065481185913, 2.237729072570801, 2.237776041030884, 2.2376301288604736, 2.2380619049072266, 2.238046884536743, 2.237973690032959, 2.2375850677490234, 2.237597703933716, 3.720283031463623, 4.399883270263672, 2.2149806022644043, 5.171811103820801, 3.632648468017578, 5.906151294708252, 8.122016906738281, 8.283608436584473, 8.228239059448242, 8.279914855957031, 7.28455924987793, 11.715001106262207, 29.348148345947266, 5.191475868225098, 5.190640926361084, 12.498488426208496, 5.243829250335693, 5.243208408355713, 3.6878597736358643, 24.744958877563477, 3.7409508228302, 3.7409462928771973, 3.7398388385772705, 10.23640251159668, 5.925684928894043, 17.001197814941406, 24.112516403198242, 17.272554397583008, 14.51689624786377, 12.118139266967773, 6.554660320281982, 25.350791931152344, 10.094128608703613, 8.109210968017578, 14.034516334533691, 8.55692195892334, 20.232023239135742, 4.376513957977295, 3.641357421875, 3.641817808151245, 2.9068007469177246, 2.9062483310699463, 2.1719954013824463, 2.1720991134643555, 2.171855926513672, 2.1717965602874756, 2.1714911460876465, 2.1716277599334717, 2.1720004081726074, 2.171635150909424, 2.171548366546631, 2.171652317047119, 2.171755790710449, 5.752471923828125, 4.40919303894043, 2.9222054481506348, 2.923297166824341, 3.5317883491516113, 3.674534797668457, 1.4371377229690552, 1.4371378421783447, 1.4371377229690552, 1.437138319015503, 1.4371376037597656, 1.437137484550476, 1.4371381998062134, 1.437137246131897, 4.947484016418457, 5.034114360809326, 6.311455726623535, 5.090679168701172, 5.091242790222168, 25.350791931152344, 6.429969787597656, 4.212363243103027, 20.232023239135742, 24.744958877563477, 10.523894309997559, 11.941696166992188, 24.112516403198242, 5.80281400680542, 14.51689624786377, 11.907665252685547, 17.272554397583008, 29.348148345947266, 4.26950216293335, 7.107863426208496, 7.252358436584473, 12.498488426208496, 8.109210968017578, 8.55926513671875, 8.559349060058594, 10.23640251159668, 9.930877685546875, 12.118139266967773, 11.715001106262207, 17.001197814941406, 11.301294326782227, 2.7492079734802246, 2.7492167949676514, 2.0656068325042725, 2.0657222270965576, 2.0656425952911377, 2.0655832290649414, 2.065847396850586, 2.066014528274536, 2.066220283508301, 2.0662412643432617, 2.0659985542297363, 2.0704903602600098, 5.470494747161865, 3.5146117210388184, 1.3838378190994263, 1.3838374614715576, 1.383837342262268, 1.3838375806808472, 1.383837342262268, 1.3838797807693481, 1.3838818073272705, 1.3838835954666138, 1.3838838338851929, 1.3838852643966675, 1.3838876485824585, 1.3838945627212524, 1.383900761604309, 1.3839036226272583, 1.3837077617645264, 1.3836811780929565, 5.985472679138184, 9.571739196777344, 4.899294376373291, 4.934727191925049, 3.5317022800445557, 2.800170660018921, 2.8003764152526855, 2.8008315563201904, 2.800657272338867, 2.8334453105926514, 2.8336215019226074, 6.290821552276611, 2.8348472118377686, 14.034516334533691, 11.301294326782227, 7.4751057624816895, 8.27668285369873, 7.230210781097412, 17.001197814941406, 24.744958877563477, 9.812334060668945, 10.094128608703613, 9.930877685546875, 17.272554397583008, 29.348148345947266, 25.350791931152344, 6.554660320281982, 6.4982218742370605, 8.122016906738281, 6.3155059814453125, 6.873188495635986, 24.112516403198242, 8.55692195892334, 14.51689624786377, 1.9517911672592163, 1.9518035650253296, 1.9524931907653809, 1.952889084815979, 1.9532570838928223, 1.9537748098373413, 1.9540557861328125, 3.346735715866089, 1.3269987106323242, 1.3270020484924316, 1.3270314931869507, 1.3270344734191895, 1.3270409107208252, 1.3270416259765625, 1.3270454406738281, 1.3270463943481445, 1.3270478248596191, 1.3270524740219116, 1.327060580253601, 1.3270678520202637, 1.3270689249038696, 1.3270933628082275, 1.3270992040634155, 1.3271372318267822, 1.3271443843841553, 1.3271609544754028, 1.327223777770996, 1.3272392749786377, 1.3272709846496582, 1.3272833824157715, 3.9752860069274902, 3.941744089126587, 6.86442756652832, 5.506647109985352, 2.6866538524627686, 2.6868185997009277, 2.6873016357421875, 2.6873855590820312, 2.7199885845184326, 6.122694969177246, 2.6936559677124023, 20.232023239135742, 3.3518011569976807, 3.3525400161743164, 4.817575931549072, 4.819397926330566, 7.4751057624816895, 24.112516403198242, 5.498682975769043, 11.941696166992188, 11.907665252685547, 29.348148345947266, 5.985472679138184, 10.523894309997559, 17.001197814941406, 6.2115936279296875, 12.118139266967773, 6.873188495635986, 14.034516334533691, 7.680257320404053, 8.27668285369873, 9.571739196777344, 9.812334060668945, 17.272554397583008, 25.350791931152344], \"Category\": [\"Default\", \"Default\", \"Default\", \"Default\", \"Default\", \"Default\", \"Default\", \"Default\", \"Default\", \"Default\", \"Default\", \"Default\", \"Default\", \"Default\", \"Default\", \"Default\", \"Default\", \"Default\", \"Default\", \"Default\", \"Default\", \"Default\", \"Default\", \"Default\", \"Default\", \"Default\", \"Default\", \"Default\", \"Default\", \"Default\", \"Topic1\", \"Topic1\", \"Topic1\", \"Topic1\", \"Topic1\", \"Topic1\", \"Topic1\", \"Topic1\", \"Topic1\", \"Topic1\", \"Topic1\", \"Topic1\", \"Topic1\", \"Topic1\", \"Topic1\", \"Topic1\", \"Topic1\", \"Topic1\", \"Topic1\", \"Topic1\", \"Topic1\", \"Topic1\", \"Topic1\", \"Topic1\", \"Topic1\", \"Topic1\", \"Topic1\", \"Topic1\", \"Topic1\", \"Topic1\", \"Topic1\", \"Topic1\", \"Topic1\", \"Topic1\", \"Topic1\", \"Topic1\", \"Topic1\", \"Topic1\", \"Topic1\", \"Topic1\", \"Topic1\", \"Topic1\", \"Topic1\", \"Topic1\", \"Topic1\", \"Topic1\", \"Topic1\", \"Topic1\", \"Topic1\", \"Topic1\", \"Topic1\", \"Topic1\", \"Topic1\", \"Topic1\", \"Topic1\", \"Topic1\", \"Topic1\", \"Topic1\", \"Topic1\", \"Topic1\", \"Topic2\", \"Topic2\", \"Topic2\", \"Topic2\", \"Topic2\", \"Topic2\", \"Topic2\", \"Topic2\", \"Topic2\", \"Topic2\", \"Topic2\", \"Topic2\", \"Topic2\", \"Topic2\", \"Topic2\", \"Topic2\", \"Topic2\", \"Topic2\", \"Topic2\", \"Topic2\", \"Topic2\", \"Topic2\", \"Topic2\", \"Topic2\", \"Topic2\", \"Topic2\", \"Topic2\", \"Topic2\", \"Topic2\", \"Topic2\", \"Topic2\", \"Topic2\", \"Topic2\", \"Topic2\", \"Topic2\", \"Topic2\", \"Topic2\", \"Topic2\", \"Topic2\", \"Topic2\", \"Topic2\", \"Topic2\", \"Topic2\", \"Topic2\", \"Topic2\", \"Topic2\", \"Topic2\", \"Topic2\", \"Topic2\", \"Topic2\", \"Topic2\", \"Topic2\", \"Topic2\", \"Topic2\", \"Topic2\", \"Topic2\", \"Topic2\", \"Topic2\", \"Topic2\", \"Topic2\", \"Topic2\", \"Topic3\", \"Topic3\", \"Topic3\", \"Topic3\", \"Topic3\", \"Topic3\", \"Topic3\", \"Topic3\", \"Topic3\", \"Topic3\", \"Topic3\", \"Topic3\", \"Topic3\", \"Topic3\", \"Topic3\", \"Topic3\", \"Topic3\", \"Topic3\", \"Topic3\", \"Topic3\", \"Topic3\", \"Topic3\", \"Topic3\", \"Topic3\", \"Topic3\", \"Topic3\", \"Topic3\", \"Topic3\", \"Topic3\", \"Topic3\", \"Topic3\", \"Topic3\", \"Topic3\", \"Topic3\", \"Topic3\", \"Topic3\", \"Topic3\", \"Topic3\", \"Topic3\", \"Topic3\", \"Topic3\", \"Topic3\", \"Topic3\", \"Topic3\", \"Topic3\", \"Topic3\", \"Topic3\", \"Topic3\", \"Topic3\", \"Topic3\", \"Topic3\", \"Topic3\", \"Topic3\", \"Topic3\", \"Topic3\", \"Topic3\", \"Topic3\", \"Topic3\", \"Topic3\", \"Topic3\", \"Topic3\", \"Topic3\", \"Topic3\", \"Topic3\", \"Topic4\", \"Topic4\", \"Topic4\", \"Topic4\", \"Topic4\", \"Topic4\", \"Topic4\", \"Topic4\", \"Topic4\", \"Topic4\", \"Topic4\", \"Topic4\", \"Topic4\", \"Topic4\", \"Topic4\", \"Topic4\", \"Topic4\", \"Topic4\", \"Topic4\", \"Topic4\", \"Topic4\", \"Topic4\", \"Topic4\", \"Topic4\", \"Topic4\", \"Topic4\", \"Topic4\", \"Topic4\", \"Topic4\", \"Topic4\", \"Topic4\", \"Topic4\", \"Topic4\", \"Topic4\", \"Topic4\", \"Topic4\", \"Topic4\", \"Topic4\", \"Topic4\", \"Topic4\", \"Topic4\", \"Topic4\", \"Topic4\", \"Topic4\", \"Topic4\", \"Topic4\", \"Topic4\", \"Topic4\", \"Topic4\", \"Topic4\", \"Topic4\", \"Topic4\", \"Topic4\", \"Topic4\", \"Topic4\", \"Topic4\", \"Topic4\", \"Topic4\", \"Topic4\", \"Topic4\", \"Topic4\", \"Topic4\", \"Topic4\", \"Topic4\", \"Topic4\"], \"logprob\": [30.0, 29.0, 28.0, 27.0, 26.0, 25.0, 24.0, 23.0, 22.0, 21.0, 20.0, 19.0, 18.0, 17.0, 16.0, 15.0, 14.0, 13.0, 12.0, 11.0, 10.0, 9.0, 8.0, 7.0, 6.0, 5.0, 4.0, 3.0, 2.0, 1.0, -5.40880012512207, -5.680099964141846, -5.023200035095215, -6.043700218200684, -6.043700218200684, -6.043799877166748, -6.043799877166748, -6.043799877166748, -6.043799877166748, -6.044400215148926, -6.045300006866455, -6.04580020904541, -6.04610013961792, -6.046199798583984, -6.04640007019043, -6.0472002029418945, -6.0472002029418945, -6.047800064086914, -6.0482001304626465, -6.048900127410889, -6.049200057983398, -6.051499843597412, -6.0528998374938965, -5.563700199127197, -5.408400058746338, -6.165999889373779, -5.319799900054932, -5.678999900817871, -5.196499824523926, -4.878200054168701, -4.873799800872803, -4.8805999755859375, -4.886499881744385, -5.036799907684326, -4.750400066375732, -4.0690999031066895, -5.405900001525879, -5.4085001945495605, -4.7606000900268555, -5.408699989318848, -5.4116997718811035, -5.677199840545654, -4.335599899291992, -5.677299976348877, -5.677800178527832, -5.689799785614014, -5.031300067901611, -5.407899856567383, -4.743800163269043, -4.5355000495910645, -4.750500202178955, -4.872399806976318, -5.033999919891357, -5.4070000648498535, -4.761099815368652, -5.219799995422363, -5.323599815368652, -5.17140007019043, -5.361700057983398, -5.331200122833252, -5.094600200653076, -5.30649995803833, -5.306600093841553, -5.573999881744385, -5.576499938964844, -5.940800189971924, -5.941699981689453, -5.9421000480651855, -5.942399978637695, -5.943299770355225, -5.943900108337402, -5.943900108337402, -5.943999767303467, -5.944200038909912, -5.944699764251709, -5.945199966430664, -5.000100135803223, -5.305600166320801, -5.733699798583984, -5.751299858093262, -5.575099945068359, -5.574699878692627, -6.528299808502197, -6.528299808502197, -6.528299808502197, -6.528299808502197, -6.528299808502197, -6.528299808502197, -6.528299808502197, -6.528299808502197, -5.307300090789795, -5.305799961090088, -5.087200164794922, -5.306600093841553, -5.30679988861084, -3.8410000801086426, -5.1697001457214355, -5.575900077819824, -4.238999843597412, -4.288700103759766, -4.882999897003174, -4.810999870300293, -4.359099864959717, -5.306099891662598, -4.773099899291992, -4.912099838256836, -4.761499881744385, -4.469299793243408, -5.5756001472473145, -5.30620002746582, -5.304699897766113, -5.083499908447266, -5.303100109100342, -5.30210018157959, -5.304900169372559, -5.290299892425537, -5.3053998947143555, -5.269400119781494, -5.296299934387207, -5.299600124359131, -5.304900169372559, -5.323599815368652, -5.329999923706055, -5.6803998947143555, -5.680799961090088, -5.681000232696533, -5.681700229644775, -5.682400226593018, -5.683499813079834, -5.685699939727783, -5.689899921417236, -5.690899848937988, -5.7316999435424805, -4.834700107574463, -5.311699867248535, -6.264500141143799, -6.264500141143799, -6.264500141143799, -6.264500141143799, -6.264500141143799, -6.265100002288818, -6.265100002288818, -6.265200138092041, -6.265200138092041, -6.265200138092041, -6.265200138092041, -6.2652997970581055, -6.265399932861328, -6.265500068664551, -6.266300201416016, -6.266600131988525, -4.833700180053711, -4.401199817657471, -5.051599979400635, -5.053999900817871, -5.376699924468994, -5.6778998374938965, -5.680600166320801, -5.683499813079834, -5.684000015258789, -5.680099964141846, -5.681399822235107, -5.043399810791016, -5.692599773406982, -4.531599998474121, -4.69950008392334, -5.091100215911865, -5.040999889373779, -5.126399993896484, -4.659800052642822, -4.462399959564209, -5.045300006866455, -5.043000221252441, -5.081999778747559, -4.832499980926514, -4.726600170135498, -4.827499866485596, -5.314599990844727, -5.353600025177002, -5.308899879455566, -5.385900020599365, -5.3942999839782715, -5.1859002113342285, -5.39769983291626, -5.307499885559082, -5.563700199127197, -5.563799858093262, -5.565999984741211, -5.567999839782715, -5.568699836730957, -5.571599960327148, -5.572800159454346, -5.202000141143799, -6.151299953460693, -6.151299953460693, -6.151500225067139, -6.151500225067139, -6.151599884033203, -6.151599884033203, -6.151599884033203, -6.151599884033203, -6.151599884033203, -6.151700019836426, -6.151700019836426, -6.151800155639648, -6.151800155639648, -6.151899814605713, -6.1519999504089355, -6.152299880981445, -6.152299880981445, -6.152400016784668, -6.152900218963623, -6.152900218963623, -6.15310001373291, -6.153200149536133, -5.0904998779296875, -5.1996002197265625, -4.718500137329102, -4.929800033569336, -5.563700199127197, -5.5644001960754395, -5.5665998458862305, -5.567200183868408, -5.565499782562256, -4.929500102996826, -5.592400074005127, -4.037799835205078, -5.430300235748291, -5.438600063323975, -5.204999923706055, -5.210100173950195, -4.934199810028076, -4.152900218963623, -5.205699920654297, -4.720200061798096, -4.723100185394287, -4.157400131225586, -5.194900035858154, -4.935500144958496, -4.715099811553955, -5.196700096130371, -4.943399906158447, -5.1956000328063965, -4.934000015258789, -5.1956000328063965, -5.198299884796143, -5.175099849700928, -5.202600002288818, -5.194699764251709, -5.190899848937988], \"loglift\": [30.0, 29.0, 28.0, 27.0, 26.0, 25.0, 24.0, 23.0, 22.0, 21.0, 20.0, 19.0, 18.0, 17.0, 16.0, 15.0, 14.0, 13.0, 12.0, 11.0, 10.0, 9.0, 8.0, 7.0, 6.0, 5.0, 4.0, 3.0, 2.0, 1.0, 0.945900022983551, 0.9021999835968018, 0.8604999780654907, 0.8334000110626221, 0.8334000110626221, 0.8334000110626221, 0.833299994468689, 0.833299994468689, 0.833299994468689, 0.8327999711036682, 0.8320000171661377, 0.8314999938011169, 0.8312000036239624, 0.8310999870300293, 0.8309999704360962, 0.8302000164985657, 0.8302000164985657, 0.8296999931335449, 0.8291000127792358, 0.828499972820282, 0.8281000256538391, 0.8259999752044678, 0.8246999979019165, 0.805400013923645, 0.792900025844574, 0.7217000126838684, 0.7199000120162964, 0.7139999866485596, 0.7103999853134155, 0.7102000117301941, 0.6948999762535095, 0.6948000192642212, 0.6826000213623047, 0.6603999733924866, 0.4717000126838684, 0.2345999926328659, 0.6299999952316284, 0.6276000142097473, 0.396699994802475, 0.6171000003814697, 0.614300012588501, 0.7006999850273132, 0.1386999934911728, 0.6862999796867371, 0.6858000159263611, 0.6740999817848206, 0.3257000148296356, 0.49570000171661377, 0.10580000281333923, -0.03530000150203705, 0.08330000191926956, 0.13519999384880066, 0.1543000042438507, 0.39579999446868896, -0.3109000027179718, 0.15109999477863312, 0.2662999927997589, -0.1298999935388565, 0.1745000034570694, -0.6554999947547913, 1.1119999885559082, 1.0841000080108643, 1.083899974822998, 1.0419000387191772, 1.0396000146865845, 0.9664999842643738, 0.9656000137329102, 0.9653000235557556, 0.9649999737739563, 0.9642999768257141, 0.9635000228881836, 0.9634000062942505, 0.9634000062942505, 0.9632999897003174, 0.9628000259399414, 0.9621999859809875, 0.9332000017166138, 0.8937000036239624, 0.8769000172615051, 0.8589000105857849, 0.8460000157356262, 0.8068000078201294, 0.7919999957084656, 0.7919999957084656, 0.7919999957084656, 0.7919999957084656, 0.7919999957084656, 0.7919999957084656, 0.7919999957084656, 0.7919999957084656, 0.7767999768257141, 0.7609000205993652, 0.7533000111579895, 0.7488999962806702, 0.7486000061035156, 0.6090999841690063, 0.6523000001907349, 0.6690999865531921, 0.4366999864578247, 0.18559999763965607, 0.4462999999523163, 0.3919999897480011, 0.14110000431537628, 0.6184999942779541, 0.2345000058412552, 0.2937000095844269, 0.0723000019788742, -0.1656000018119812, 0.6557999849319458, 0.4156000018119812, 0.3968999981880188, 0.0737999975681305, 0.28690001368522644, 0.23389999568462372, 0.23100000619888306, 0.06669999659061432, 0.08190000057220459, -0.08110000193119049, -0.07429999858140945, -0.4499000012874603, -0.04690000042319298, 1.3480000495910645, 1.3416999578475952, 1.2770999670028687, 1.2766000032424927, 1.2764999866485596, 1.2757999897003174, 1.274999976158142, 1.273800015449524, 1.2714999914169312, 1.267300009727478, 1.2663999795913696, 1.2235000133514404, 1.148900032043457, 1.114300012588501, 1.0936000347137451, 1.0936000347137451, 1.0936000347137451, 1.0936000347137451, 1.0936000347137451, 1.093000054359436, 1.092900037765503, 1.092900037765503, 1.092900037765503, 1.092900037765503, 1.0928000211715698, 1.0927000045776367, 1.0925999879837036, 1.0925999879837036, 1.0918999910354614, 1.0915000438690186, 1.0599000453948975, 1.0230000019073486, 1.042199969291687, 1.0326000452041626, 1.0444999933242798, 0.9753999710083008, 0.972599983215332, 0.9695000052452087, 0.9690999984741211, 0.9613999724388123, 0.9599999785423279, 0.8004999756813049, 0.9483000040054321, 0.5098000168800354, 0.5584999918937683, 0.580299973487854, 0.5285000205039978, 0.5782999992370605, 0.1898999959230423, 0.011900000274181366, 0.3540000021457672, 0.3278999924659729, 0.3052999973297119, 0.0013000000035390258, -0.42289999127388, -0.3774000108242035, 0.48820000886917114, 0.4578000009059906, 0.2793999910354614, 0.45410001277923584, 0.3610000014305115, -0.685699999332428, 0.13850000500679016, -0.29989999532699585, 1.4505000114440918, 1.4503999948501587, 1.4478000402450562, 1.4456000328063965, 1.444700002670288, 1.441499948501587, 1.4402999877929688, 1.2730000019073486, 1.2488000392913818, 1.2487000226974487, 1.2484999895095825, 1.2484999895095825, 1.2483999729156494, 1.2483999729156494, 1.2483999729156494, 1.2483999729156494, 1.2483999729156494, 1.2482999563217163, 1.2482999563217163, 1.2482000589370728, 1.2482000589370728, 1.2480000257492065, 1.2479000091552734, 1.2476999759674072, 1.2475999593734741, 1.247499942779541, 1.246999979019165, 1.246899962425232, 1.2467000484466553, 1.2467000484466553, 1.212399959564209, 1.1117000579833984, 1.038100004196167, 1.0471999645233154, 1.1309000253677368, 1.1302000284194946, 1.1277999877929688, 1.1272000074386597, 1.1167999505996704, 0.9415000081062317, 1.0996999740600586, 0.6378999948501587, 1.0432000160217285, 1.034600019454956, 0.9057000279426575, 0.9002000093460083, 0.7371000051498413, 0.3472999930381775, 0.7727000117301941, 0.482699990272522, 0.48260000348091125, 0.14630000293254852, 0.6987000107765198, 0.3937999904155731, 0.13449999690055847, 0.6597999930381775, 0.24480000138282776, 0.5597000122070312, 0.10740000009536743, 0.4487000107765198, 0.37119999527931213, 0.24899999797344208, 0.19670000672340393, -0.36079999804496765, -0.7407000064849854]}, \"token.table\": {\"Topic\": [4, 3, 1, 4, 1, 2, 1, 3, 2, 3, 4, 1, 2, 3, 3, 1, 3, 4, 1, 3, 1, 3, 4, 1, 4, 1, 3, 4, 2, 3, 3, 1, 2, 3, 4, 1, 2, 2, 1, 2, 4, 2, 3, 1, 2, 3, 4, 2, 4, 4, 2, 3, 4, 2, 1, 2, 3, 4, 2, 3, 1, 2, 3, 4, 1, 2, 3, 3, 4, 1, 2, 3, 4, 2, 2, 4, 2, 2, 1, 2, 3, 1, 2, 3, 4, 1, 2, 3, 4, 1, 2, 3, 4, 4, 1, 2, 3, 4, 2, 3, 1, 3, 1, 2, 4, 3, 1, 1, 2, 4, 1, 2, 3, 4, 4, 4, 3, 3, 4, 4, 4, 4, 2, 3, 4, 1, 2, 2, 1, 1, 1, 2, 3, 4, 1, 4, 3, 2, 3, 4, 1, 4, 1, 1, 2, 3, 4, 1, 1, 2, 3, 1, 2, 1, 2, 3, 4, 2, 1, 2, 3, 4, 2, 3, 3, 1, 2, 3, 4, 1, 2, 3, 1, 2, 3, 4, 1, 2, 2, 4, 4, 2, 1, 4, 1, 2, 3, 1, 2, 3, 4, 1, 1, 4, 3, 2, 4, 3, 2, 4, 1, 2, 1, 2, 3, 1, 3, 2, 4, 1, 3, 2, 1, 2, 3, 4, 3, 1, 2, 4, 1, 2, 3, 4, 1, 2, 3, 1, 2, 3, 1, 4, 1, 2, 3, 4, 4, 1, 1, 4, 1, 2, 3, 4, 1, 2, 3, 4, 1, 3, 2, 3, 2, 3, 1, 2, 3, 4, 2, 3, 2, 3, 4, 2, 1, 3, 3, 1, 3, 4, 2, 4, 2, 1, 3, 3, 4, 1, 2, 3, 4, 3, 4, 1, 1, 2, 3, 4, 3, 1, 3, 1, 2, 3, 2, 3, 4, 3, 1, 4, 3, 4, 1, 3, 3, 2, 2, 1, 1, 2, 4, 2, 1, 2, 3, 4, 2, 3, 4, 1, 3, 4, 1, 2, 4, 1, 2, 4, 1, 2, 3, 4, 4, 1, 2, 1, 2, 1, 2, 3, 3, 1, 2, 3, 4, 1, 3, 1, 2, 3, 4, 1, 3, 3, 4, 2, 4, 4, 1, 2, 3, 4, 1, 2, 4, 2, 1, 1, 2, 3, 4, 1, 2, 4, 1, 2, 3, 4, 2, 4, 3, 2, 1, 4, 1, 2, 3, 4, 1, 1, 2, 1, 2, 3, 1, 2, 3, 4, 1, 1, 2, 3, 4, 2], \"Freq\": [0.7535616159439087, 0.722603976726532, 0.2987986207008362, 0.5975972414016724, 0.8271095752716064, 0.16542191803455353, 0.8936774730682373, 0.7226282954216003, 0.6337682008743286, 0.15844205021858215, 0.15844205021858215, 0.5779632925987244, 0.19265443086624146, 0.19265443086624146, 0.7226041555404663, 0.26755473017692566, 0.4013321101665497, 0.4013321101665497, 0.35292723774909973, 0.7058544754981995, 0.20894844830036163, 0.5223711133003235, 0.20894844830036163, 0.8936092257499695, 0.7535496950149536, 0.5423199534416199, 0.27115997672080994, 0.5119653940200806, 0.357036828994751, 0.714073657989502, 0.9682495594024658, 0.41260460019111633, 0.24756276607513428, 0.16504183411598206, 0.24756276607513428, 0.5721009969711304, 0.3814006745815277, 0.9139694571495056, 0.6863833069801331, 0.13727666437625885, 0.13727666437625885, 0.6958274841308594, 0.9681257009506226, 0.35291630029678345, 0.17645815014839172, 0.23527753353118896, 0.17645815014839172, 0.37218737602233887, 0.37218737602233887, 0.7535783648490906, 0.6063688397407532, 0.20212294161319733, 0.20212294161319733, 0.9208101630210876, 0.4041227102279663, 0.3637104332447052, 0.20206135511398315, 0.04041227325797081, 0.3570590317249298, 0.7141180634498596, 0.4133114814758301, 0.3444262444972992, 0.13777048885822296, 0.06888524442911148, 0.2026454508304596, 0.2026454508304596, 0.6079363226890564, 0.6682847142219543, 0.3341423571109772, 0.275772362947464, 0.4136585295200348, 0.137886181473732, 0.137886181473732, 0.920871376991272, 0.37221020460128784, 0.37221020460128784, 0.6958276629447937, 0.9209577441215515, 0.493266224861145, 0.36994966864585876, 0.12331655621528625, 0.14549288153648376, 0.29098576307296753, 0.29098576307296753, 0.29098576307296753, 0.4088844060897827, 0.23851589858531952, 0.13629479706287384, 0.20444220304489136, 0.1555217206478119, 0.6220868825912476, 0.1555217206478119, 0.1555217206478119, 0.7535562515258789, 0.26545631885528564, 0.26545631885528564, 0.35394176840782166, 0.08848544210195541, 0.46843868494033813, 0.46843868494033813, 0.28452643752098083, 0.5690528750419617, 0.19864466786384583, 0.5959340333938599, 0.19864466786384583, 0.7226282954216003, 0.8934260606765747, 0.5346240997314453, 0.26731204986572266, 0.7534975409507751, 0.48845285177230835, 0.2930717170238495, 0.19538113474845886, 0.09769056737422943, 0.5123499035835266, 0.7535231709480286, 0.7225936651229858, 0.7226959466934204, 0.7534524202346802, 0.5118297338485718, 0.7535015940666199, 0.753425657749176, 0.2983470559120178, 0.2983470559120178, 0.5966941118240356, 0.5346234440803528, 0.2673117220401764, 0.9210261106491089, 0.8937632441520691, 0.7948036789894104, 0.3219785690307617, 0.16098928451538086, 0.3219785690307617, 0.3219785690307617, 0.8937444686889648, 0.7535536885261536, 0.7226020097732544, 0.29828131198883057, 0.29828131198883057, 0.5965626239776611, 0.893545925617218, 0.5121656656265259, 0.8936288952827454, 0.28137850761413574, 0.4220677614212036, 0.14068925380706787, 0.14068925380706787, 0.8934483528137207, 0.3077765107154846, 0.3077765107154846, 0.3077765107154846, 0.57216876745224, 0.38144582509994507, 0.19004371762275696, 0.4751093089580536, 0.09502185881137848, 0.28506559133529663, 0.9207683205604553, 0.16748039424419403, 0.4187009930610657, 0.08374019712209702, 0.25122058391571045, 0.823764443397522, 0.48297739028930664, 0.7227098345756531, 0.5121638178825378, 0.2560819089412689, 0.08536063879728317, 0.08536063879728317, 0.4149256646633148, 0.2766171097755432, 0.4149256646633148, 0.1818617284297943, 0.3637234568595886, 0.1818617284297943, 0.3637234568595886, 0.6038709282875061, 0.24154837429523468, 0.5662853717803955, 0.28314268589019775, 0.7534186244010925, 0.695827305316925, 0.3631974160671234, 0.5447961091995239, 0.5778703689575195, 0.19262345135211945, 0.19262345135211945, 0.2519385516643524, 0.41989758610725403, 0.1679590344429016, 0.2519385516643524, 0.6653316617012024, 0.8936655521392822, 0.7535531520843506, 0.7274799346923828, 0.3712426722049713, 0.3712426722049713, 0.7225951552391052, 0.9209681749343872, 0.5117561221122742, 0.3420794904232025, 0.684158980846405, 0.4576896131038666, 0.152563214302063, 0.305126428604126, 0.352752685546875, 0.70550537109375, 0.9210017919540405, 0.7535558938980103, 0.3529052734375, 0.705810546875, 0.6958275437355042, 0.48005804419517517, 0.32003870606422424, 0.16001935303211212, 0.08000967651605606, 0.9682217240333557, 0.2074947953224182, 0.4149895906448364, 0.4149895906448364, 0.3020881116390228, 0.3020881116390228, 0.3020881116390228, 0.10069603472948074, 0.8938207626342773, 0.6958276033401489, 0.7225983738899231, 0.19643744826316833, 0.5893123149871826, 0.19643744826316833, 0.3676486015319824, 0.3676486015319824, 0.2850115895271301, 0.14250579476356506, 0.35626450181007385, 0.2137587070465088, 0.753526508808136, 0.89363032579422, 0.5505625009536743, 0.27528125047683716, 0.23667900264263153, 0.5128045082092285, 0.15778599679470062, 0.07889299839735031, 0.20382510125637054, 0.20382510125637054, 0.3057376444339752, 0.20382510125637054, 0.7387327551841736, 0.24624425172805786, 0.3570948541164398, 0.7141897082328796, 0.4082220494747162, 0.6123330593109131, 0.16332677006721497, 0.32665354013442993, 0.16332677006721497, 0.4899803102016449, 0.357121080160141, 0.714242160320282, 0.47479286789894104, 0.23739643394947052, 0.23739643394947052, 0.920896589756012, 0.8938156962394714, 0.727482259273529, 0.967941164970398, 0.6772599816322327, 0.33862999081611633, 0.753559947013855, 0.3721088767051697, 0.3721088767051697, 0.9208122491836548, 0.2831495702266693, 0.5662991404533386, 0.7226281762123108, 0.7534881234169006, 0.3962699770927429, 0.19813498854637146, 0.297202467918396, 0.09906749427318573, 0.5073896050453186, 0.5073896050453186, 0.8934252262115479, 0.260407954454422, 0.260407954454422, 0.260407954454422, 0.260407954454422, 0.9682384729385376, 0.773423433303833, 0.19335585832595825, 0.27214330434799194, 0.5442866086959839, 0.9680548906326294, 0.1827988177537918, 0.7311952710151672, 0.1827988177537918, 0.7226061224937439, 0.902942419052124, 0.7535802125930786, 0.9680473804473877, 0.5120618343353271, 0.8934292197227478, 0.9681844115257263, 0.7226282358169556, 0.6958275437355042, 0.688172459602356, 0.8936363458633423, 0.2913571298122406, 0.1456785649061203, 0.4370357096195221, 0.9209138751029968, 0.7291961312294006, 0.24306537210941315, 0.12153268605470657, 0.7535409927368164, 0.2515542209148407, 0.2515542209148407, 0.5031084418296814, 0.4750213325023651, 0.3166808784008026, 0.1583404392004013, 0.20757326483726501, 0.41514652967453003, 0.41514652967453003, 0.1738383173942566, 0.6953532695770264, 0.1738383173942566, 0.35059335827827454, 0.23372890055179596, 0.23372890055179596, 0.11686445027589798, 0.7534436583518982, 0.8935958743095398, 0.6958277821540833, 0.5347824096679688, 0.2673912048339844, 0.5062705874443054, 0.3375137150287628, 0.1687568575143814, 0.7226050496101379, 0.3317779004573822, 0.3317779004573822, 0.12441670894622803, 0.24883341789245605, 0.8063902854919434, 0.26879674196243286, 0.19770637154579163, 0.44483935832977295, 0.049426592886447906, 0.29655957221984863, 0.8934272527694702, 0.9679509997367859, 0.7226032614707947, 0.7535403370857239, 0.8238685727119446, 0.7535523176193237, 0.512346625328064, 0.34220728278160095, 0.6844145655632019, 0.6030716896057129, 0.30153584480285645, 0.34466037154197693, 0.5169905424118042, 0.17233018577098846, 0.9209650158882141, 0.8938027620315552, 0.15896174311637878, 0.31792348623275757, 0.47688525915145874, 0.15896174311637878, 0.226798877120018, 0.6803966164588928, 0.7535451054573059, 0.3504939377307892, 0.3504939377307892, 0.23366263508796692, 0.11683131754398346, 0.3721204996109009, 0.3721204996109009, 0.7226280570030212, 0.6958272457122803, 0.6818362474441528, 0.22727875411510468, 0.12082134932279587, 0.24164269864559174, 0.362464040517807, 0.24164269864559174, 0.8934260010719299, 0.7243220210075378, 0.24144066870212555, 0.19641569256782532, 0.5892471075057983, 0.19641569256782532, 0.347371906042099, 0.28947657346725464, 0.23158127069473267, 0.11579063534736633, 0.8934246301651001, 0.23366491496562958, 0.35049736499786377, 0.23366491496562958, 0.11683245748281479, 0.688041627407074], \"Term\": [\"abundant\", \"activity\", \"adequate\", \"adequate\", \"air\", \"air\", \"aircon\", \"almost\", \"also\", \"also\", \"also\", \"always\", \"always\", \"always\", \"appreciate\", \"area\", \"area\", \"area\", \"arrive\", \"arrive\", \"ask\", \"ask\", \"ask\", \"asleep\", \"attendant\", \"average\", \"average\", \"awake\", \"bacon\", \"bacon\", \"bad\", \"bar\", \"bar\", \"bar\", \"bar\", \"basic\", \"basic\", \"bath\", \"bathroom\", \"bathroom\", \"bathroom\", \"bean\", \"beautiful\", \"bed\", \"bed\", \"bed\", \"bed\", \"bit\", \"bit\", \"bite\", \"book\", \"book\", \"book\", \"bread\", \"breakfast\", \"breakfast\", \"breakfast\", \"breakfast\", \"bus\", \"bus\", \"business\", \"business\", \"business\", \"business\", \"call\", \"call\", \"call\", \"car\", \"car\", \"center\", \"center\", \"center\", \"center\", \"cereal\", \"certainly\", \"certainly\", \"cheese\", \"child\", \"choice\", \"choice\", \"choice\", \"city\", \"city\", \"city\", \"city\", \"clean\", \"clean\", \"clean\", \"clean\", \"close\", \"close\", \"close\", \"close\", \"clothe\", \"coffee\", \"coffee\", \"coffee\", \"coffee\", \"cold\", \"cold\", \"come\", \"come\", \"comfortable\", \"comfortable\", \"comfortable\", \"compare\", \"condition\", \"conditioning\", \"conditioning\", \"constant\", \"day\", \"day\", \"day\", \"day\", \"definately\", \"delightful\", \"depend\", \"dirt\", \"discomfort\", \"distance\", \"disturb\", \"dryer\", \"easy\", \"easy\", \"easy\", \"eat\", \"eat\", \"effective\", \"emergency\", \"enough\", \"europa\", \"europa\", \"europa\", \"europa\", \"exit\", \"expedite\", \"expose\", \"extremely\", \"extremely\", \"extremely\", \"facelift\", \"fairly\", \"fall\", \"find\", \"find\", \"find\", \"find\", \"fine\", \"first\", \"first\", \"first\", \"floor\", \"floor\", \"free\", \"free\", \"free\", \"free\", \"fresh\", \"friendly\", \"friendly\", \"friendly\", \"friendly\", \"fruit\", \"future\", \"gasstation\", \"get\", \"get\", \"get\", \"get\", \"give\", \"give\", \"give\", \"go\", \"go\", \"go\", \"go\", \"great\", \"great\", \"group\", \"group\", \"hair\", \"hairdryer\", \"hard\", \"hard\", \"help\", \"help\", \"help\", \"helpful\", \"helpful\", \"helpful\", \"helpful\", \"hour\", \"huge\", \"husband\", \"immediately\", \"include\", \"include\", \"indeed\", \"inform\", \"irish\", \"issue\", \"issue\", \"large\", \"large\", \"large\", \"last\", \"last\", \"laugh\", \"laundry\", \"least\", \"least\", \"limited\", \"location\", \"location\", \"location\", \"location\", \"machine\", \"main\", \"main\", \"main\", \"make\", \"make\", \"make\", \"make\", \"manager\", \"meat\", \"mind\", \"morning\", \"morning\", \"morning\", \"motorbike\", \"motorbike\", \"need\", \"need\", \"need\", \"need\", \"never\", \"nicely\", \"nicosia\", \"nicosia\", \"night\", \"night\", \"night\", \"night\", \"noise\", \"noise\", \"noise\", \"noise\", \"noisy\", \"noisy\", \"normal\", \"normal\", \"offer\", \"offer\", \"old\", \"old\", \"old\", \"old\", \"overall\", \"overall\", \"part\", \"part\", \"part\", \"party\", \"personal\", \"personnel\", \"phone\", \"place\", \"place\", \"planning\", \"plenty\", \"plenty\", \"plug\", \"polite\", \"polite\", \"posh\", \"positive\", \"price\", \"price\", \"price\", \"price\", \"problem\", \"problem\", \"professional\", \"quite\", \"quite\", \"quite\", \"quite\", \"rarely\", \"rather\", \"rather\", \"ready\", \"ready\", \"reasonable\", \"receptionist\", \"receptionist\", \"receptionist\", \"recommendation\", \"refurbish\", \"regolar\", \"repair\", \"ride\", \"rock\", \"roll\", \"satisfactory\", \"sausage\", \"school\", \"screen\", \"seem\", \"seem\", \"seem\", \"selection\", \"service\", \"service\", \"service\", \"servicing\", \"short\", \"short\", \"short\", \"side\", \"side\", \"side\", \"size\", \"size\", \"size\", \"sleep\", \"sleep\", \"sleep\", \"small\", \"small\", \"small\", \"small\", \"smoking\", \"souless\", \"space\", \"spacious\", \"spacious\", \"spend\", \"spend\", \"spend\", \"spending\", \"staff\", \"staff\", \"staff\", \"staff\", \"star\", \"star\", \"stay\", \"stay\", \"stay\", \"stay\", \"style\", \"suffer\", \"sufficient\", \"sugar\", \"suite\", \"supply\", \"sure\", \"tasty\", \"tasty\", \"taxi\", \"taxi\", \"tea\", \"tea\", \"tea\", \"teenage\", \"teenager\", \"tell\", \"tell\", \"tell\", \"tell\", \"thing\", \"thing\", \"thought\", \"time\", \"time\", \"time\", \"time\", \"town\", \"town\", \"travel\", \"unavailable\", \"use\", \"use\", \"value\", \"value\", \"value\", \"value\", \"view\", \"visit\", \"visit\", \"water\", \"water\", \"water\", \"well\", \"well\", \"well\", \"well\", \"woman\", \"work\", \"work\", \"work\", \"work\", \"worth\"]}, \"R\": 30, \"lambda.step\": 0.01, \"plot.opts\": {\"xlab\": \"PC1\", \"ylab\": \"PC2\"}, \"topic.order\": [4, 3, 2, 1]};\n",
       "\n",
       "function LDAvis_load_lib(url, callback){\n",
       "  var s = document.createElement('script');\n",
       "  s.src = url;\n",
       "  s.async = true;\n",
       "  s.onreadystatechange = s.onload = callback;\n",
       "  s.onerror = function(){console.warn(\"failed to load library \" + url);};\n",
       "  document.getElementsByTagName(\"head\")[0].appendChild(s);\n",
       "}\n",
       "\n",
       "if(typeof(LDAvis) !== \"undefined\"){\n",
       "   // already loaded: just create the visualization\n",
       "   !function(LDAvis){\n",
       "       new LDAvis(\"#\" + \"ldavis_el1848026005010679766156656666\", ldavis_el1848026005010679766156656666_data);\n",
       "   }(LDAvis);\n",
       "}else if(typeof define === \"function\" && define.amd){\n",
       "   // require.js is available: use it to load d3/LDAvis\n",
       "   require.config({paths: {d3: \"https://cdnjs.cloudflare.com/ajax/libs/d3/3.5.5/d3.min\"}});\n",
       "   require([\"d3\"], function(d3){\n",
       "      window.d3 = d3;\n",
       "      LDAvis_load_lib(\"https://cdn.rawgit.com/bmabey/pyLDAvis/files/ldavis.v1.0.0.js\", function(){\n",
       "        new LDAvis(\"#\" + \"ldavis_el1848026005010679766156656666\", ldavis_el1848026005010679766156656666_data);\n",
       "      });\n",
       "    });\n",
       "}else{\n",
       "    // require.js not available: dynamically load d3 & LDAvis\n",
       "    LDAvis_load_lib(\"https://cdnjs.cloudflare.com/ajax/libs/d3/3.5.5/d3.min.js\", function(){\n",
       "         LDAvis_load_lib(\"https://cdn.rawgit.com/bmabey/pyLDAvis/files/ldavis.v1.0.0.js\", function(){\n",
       "                 new LDAvis(\"#\" + \"ldavis_el1848026005010679766156656666\", ldavis_el1848026005010679766156656666_data);\n",
       "            })\n",
       "         });\n",
       "}\n",
       "</script>"
      ],
      "text/plain": [
       "PreparedData(topic_coordinates=              x         y  topics  cluster       Freq\n",
       "topic                                                \n",
       "3     -0.083745 -0.056153       1        1  33.551624\n",
       "2     -0.047369  0.085142       2        1  28.947657\n",
       "1      0.063725 -0.076606       3        1  20.622318\n",
       "0      0.067389  0.047617       4        1  16.878397, topic_info=      Term       Freq      Total Category  logprob  loglift\n",
       "13    stay  20.000000  20.000000  Default  30.0000  30.0000\n",
       "207    ask   9.000000   9.000000  Default  29.0000  29.0000\n",
       "214    car   5.000000   5.000000  Default  28.0000  28.0000\n",
       "391   seem   6.000000   6.000000  Default  27.0000  27.0000\n",
       "189   hard   5.000000   5.000000  Default  26.0000  26.0000\n",
       "..     ...        ...        ...      ...      ...      ...\n",
       "346  value   2.024861   8.276683   Topic4  -5.1983   0.3712\n",
       "207    ask   2.072322   9.571739   Topic4  -5.1751   0.2490\n",
       "7    noise   2.016219   9.812334   Topic4  -5.2026   0.1967\n",
       "160   well   2.032237  17.272554   Topic4  -5.1947  -0.3608\n",
       "12   night   2.039966  25.350792   Topic4  -5.1909  -0.7407\n",
       "\n",
       "[280 rows x 6 columns], token_table=      Topic      Freq      Term\n",
       "term                           \n",
       "758       4  0.753562  abundant\n",
       "732       3  0.722604  activity\n",
       "275       1  0.298799  adequate\n",
       "275       4  0.597597  adequate\n",
       "49        1  0.827110       air\n",
       "...     ...       ...       ...\n",
       "46        1  0.233665      work\n",
       "46        2  0.350497      work\n",
       "46        3  0.233665      work\n",
       "46        4  0.116832      work\n",
       "15        2  0.688042     worth\n",
       "\n",
       "[404 rows x 3 columns], R=30, lambda_step=0.01, plot_opts={'xlab': 'PC1', 'ylab': 'PC2'}, topic_order=[4, 3, 2, 1])"
      ]
     },
     "metadata": {},
     "output_type": "display_data"
    }
   ],
   "source": [
    "plot_model(lda_pos_custom, plot ='topic_model')"
   ]
  },
  {
   "cell_type": "code",
   "execution_count": 17,
   "metadata": {},
   "outputs": [
    {
     "data": {
      "application/vnd.jupyter.widget-view+json": {
       "model_id": "",
       "version_major": 2,
       "version_minor": 0
      },
      "text/plain": [
       "IntProgress(value=0, description='Processing: ', max=25)"
      ]
     },
     "metadata": {},
     "output_type": "display_data"
    },
    {
     "data": {
      "application/vnd.jupyter.widget-view+json": {
       "model_id": "840295fbd294404f85b6f49f9b621454",
       "version_major": 2,
       "version_minor": 0
      },
      "text/plain": [
       "Output()"
      ]
     },
     "metadata": {},
     "output_type": "display_data"
    },
    {
     "data": {
      "text/html": [
       "        <script type=\"text/javascript\">\n",
       "        window.PlotlyConfig = {MathJaxConfig: 'local'};\n",
       "        if (window.MathJax) {MathJax.Hub.Config({SVG: {font: \"STIX-Web\"}});}\n",
       "        if (typeof require !== 'undefined') {\n",
       "        require.undef(\"plotly\");\n",
       "        requirejs.config({\n",
       "            paths: {\n",
       "                'plotly': ['https://cdn.plot.ly/plotly-latest.min']\n",
       "            }\n",
       "        });\n",
       "        require(['plotly'], function(Plotly) {\n",
       "            window._Plotly = Plotly;\n",
       "        });\n",
       "        }\n",
       "        </script>\n",
       "        "
      ]
     },
     "metadata": {},
     "output_type": "display_data"
    },
    {
     "data": {
      "application/vnd.plotly.v1+json": {
       "config": {
        "plotlyServerURL": "https://plot.ly"
       },
       "data": [
        {
         "hovertemplate": "Metric=Coherence<br># Topics=%{x}<br>Score=%{y}<extra></extra>",
         "legendgroup": "Coherence",
         "line": {
          "color": "#636efa",
          "dash": "solid",
          "shape": "linear"
         },
         "mode": "lines",
         "name": "Coherence",
         "orientation": "v",
         "showlegend": true,
         "type": "scatter",
         "x": [
          2,
          4,
          8,
          16,
          32,
          64,
          100,
          200,
          300,
          400
         ],
         "xaxis": "x",
         "y": [
          0.32628168305327276,
          0.3318108220316336,
          0.2623141880879695,
          0.420856649055126,
          0.49470621089515354,
          0.5399116278074881,
          0.4804130402547896,
          0.37992334200907474,
          0.3400820675677707,
          0.29484924329694673
         ],
         "yaxis": "y"
        }
       ],
       "layout": {
        "legend": {
         "title": {
          "text": "Metric"
         },
         "tracegroupgap": 0
        },
        "plot_bgcolor": "rgb(245,245,245)",
        "template": {
         "data": {
          "bar": [
           {
            "error_x": {
             "color": "#2a3f5f"
            },
            "error_y": {
             "color": "#2a3f5f"
            },
            "marker": {
             "line": {
              "color": "#E5ECF6",
              "width": 0.5
             }
            },
            "type": "bar"
           }
          ],
          "barpolar": [
           {
            "marker": {
             "line": {
              "color": "#E5ECF6",
              "width": 0.5
             }
            },
            "type": "barpolar"
           }
          ],
          "carpet": [
           {
            "aaxis": {
             "endlinecolor": "#2a3f5f",
             "gridcolor": "white",
             "linecolor": "white",
             "minorgridcolor": "white",
             "startlinecolor": "#2a3f5f"
            },
            "baxis": {
             "endlinecolor": "#2a3f5f",
             "gridcolor": "white",
             "linecolor": "white",
             "minorgridcolor": "white",
             "startlinecolor": "#2a3f5f"
            },
            "type": "carpet"
           }
          ],
          "choropleth": [
           {
            "colorbar": {
             "outlinewidth": 0,
             "ticks": ""
            },
            "type": "choropleth"
           }
          ],
          "contour": [
           {
            "colorbar": {
             "outlinewidth": 0,
             "ticks": ""
            },
            "colorscale": [
             [
              0,
              "#0d0887"
             ],
             [
              0.1111111111111111,
              "#46039f"
             ],
             [
              0.2222222222222222,
              "#7201a8"
             ],
             [
              0.3333333333333333,
              "#9c179e"
             ],
             [
              0.4444444444444444,
              "#bd3786"
             ],
             [
              0.5555555555555556,
              "#d8576b"
             ],
             [
              0.6666666666666666,
              "#ed7953"
             ],
             [
              0.7777777777777778,
              "#fb9f3a"
             ],
             [
              0.8888888888888888,
              "#fdca26"
             ],
             [
              1,
              "#f0f921"
             ]
            ],
            "type": "contour"
           }
          ],
          "contourcarpet": [
           {
            "colorbar": {
             "outlinewidth": 0,
             "ticks": ""
            },
            "type": "contourcarpet"
           }
          ],
          "heatmap": [
           {
            "colorbar": {
             "outlinewidth": 0,
             "ticks": ""
            },
            "colorscale": [
             [
              0,
              "#0d0887"
             ],
             [
              0.1111111111111111,
              "#46039f"
             ],
             [
              0.2222222222222222,
              "#7201a8"
             ],
             [
              0.3333333333333333,
              "#9c179e"
             ],
             [
              0.4444444444444444,
              "#bd3786"
             ],
             [
              0.5555555555555556,
              "#d8576b"
             ],
             [
              0.6666666666666666,
              "#ed7953"
             ],
             [
              0.7777777777777778,
              "#fb9f3a"
             ],
             [
              0.8888888888888888,
              "#fdca26"
             ],
             [
              1,
              "#f0f921"
             ]
            ],
            "type": "heatmap"
           }
          ],
          "heatmapgl": [
           {
            "colorbar": {
             "outlinewidth": 0,
             "ticks": ""
            },
            "colorscale": [
             [
              0,
              "#0d0887"
             ],
             [
              0.1111111111111111,
              "#46039f"
             ],
             [
              0.2222222222222222,
              "#7201a8"
             ],
             [
              0.3333333333333333,
              "#9c179e"
             ],
             [
              0.4444444444444444,
              "#bd3786"
             ],
             [
              0.5555555555555556,
              "#d8576b"
             ],
             [
              0.6666666666666666,
              "#ed7953"
             ],
             [
              0.7777777777777778,
              "#fb9f3a"
             ],
             [
              0.8888888888888888,
              "#fdca26"
             ],
             [
              1,
              "#f0f921"
             ]
            ],
            "type": "heatmapgl"
           }
          ],
          "histogram": [
           {
            "marker": {
             "colorbar": {
              "outlinewidth": 0,
              "ticks": ""
             }
            },
            "type": "histogram"
           }
          ],
          "histogram2d": [
           {
            "colorbar": {
             "outlinewidth": 0,
             "ticks": ""
            },
            "colorscale": [
             [
              0,
              "#0d0887"
             ],
             [
              0.1111111111111111,
              "#46039f"
             ],
             [
              0.2222222222222222,
              "#7201a8"
             ],
             [
              0.3333333333333333,
              "#9c179e"
             ],
             [
              0.4444444444444444,
              "#bd3786"
             ],
             [
              0.5555555555555556,
              "#d8576b"
             ],
             [
              0.6666666666666666,
              "#ed7953"
             ],
             [
              0.7777777777777778,
              "#fb9f3a"
             ],
             [
              0.8888888888888888,
              "#fdca26"
             ],
             [
              1,
              "#f0f921"
             ]
            ],
            "type": "histogram2d"
           }
          ],
          "histogram2dcontour": [
           {
            "colorbar": {
             "outlinewidth": 0,
             "ticks": ""
            },
            "colorscale": [
             [
              0,
              "#0d0887"
             ],
             [
              0.1111111111111111,
              "#46039f"
             ],
             [
              0.2222222222222222,
              "#7201a8"
             ],
             [
              0.3333333333333333,
              "#9c179e"
             ],
             [
              0.4444444444444444,
              "#bd3786"
             ],
             [
              0.5555555555555556,
              "#d8576b"
             ],
             [
              0.6666666666666666,
              "#ed7953"
             ],
             [
              0.7777777777777778,
              "#fb9f3a"
             ],
             [
              0.8888888888888888,
              "#fdca26"
             ],
             [
              1,
              "#f0f921"
             ]
            ],
            "type": "histogram2dcontour"
           }
          ],
          "mesh3d": [
           {
            "colorbar": {
             "outlinewidth": 0,
             "ticks": ""
            },
            "type": "mesh3d"
           }
          ],
          "parcoords": [
           {
            "line": {
             "colorbar": {
              "outlinewidth": 0,
              "ticks": ""
             }
            },
            "type": "parcoords"
           }
          ],
          "pie": [
           {
            "automargin": true,
            "type": "pie"
           }
          ],
          "scatter": [
           {
            "marker": {
             "colorbar": {
              "outlinewidth": 0,
              "ticks": ""
             }
            },
            "type": "scatter"
           }
          ],
          "scatter3d": [
           {
            "line": {
             "colorbar": {
              "outlinewidth": 0,
              "ticks": ""
             }
            },
            "marker": {
             "colorbar": {
              "outlinewidth": 0,
              "ticks": ""
             }
            },
            "type": "scatter3d"
           }
          ],
          "scattercarpet": [
           {
            "marker": {
             "colorbar": {
              "outlinewidth": 0,
              "ticks": ""
             }
            },
            "type": "scattercarpet"
           }
          ],
          "scattergeo": [
           {
            "marker": {
             "colorbar": {
              "outlinewidth": 0,
              "ticks": ""
             }
            },
            "type": "scattergeo"
           }
          ],
          "scattergl": [
           {
            "marker": {
             "colorbar": {
              "outlinewidth": 0,
              "ticks": ""
             }
            },
            "type": "scattergl"
           }
          ],
          "scattermapbox": [
           {
            "marker": {
             "colorbar": {
              "outlinewidth": 0,
              "ticks": ""
             }
            },
            "type": "scattermapbox"
           }
          ],
          "scatterpolar": [
           {
            "marker": {
             "colorbar": {
              "outlinewidth": 0,
              "ticks": ""
             }
            },
            "type": "scatterpolar"
           }
          ],
          "scatterpolargl": [
           {
            "marker": {
             "colorbar": {
              "outlinewidth": 0,
              "ticks": ""
             }
            },
            "type": "scatterpolargl"
           }
          ],
          "scatterternary": [
           {
            "marker": {
             "colorbar": {
              "outlinewidth": 0,
              "ticks": ""
             }
            },
            "type": "scatterternary"
           }
          ],
          "surface": [
           {
            "colorbar": {
             "outlinewidth": 0,
             "ticks": ""
            },
            "colorscale": [
             [
              0,
              "#0d0887"
             ],
             [
              0.1111111111111111,
              "#46039f"
             ],
             [
              0.2222222222222222,
              "#7201a8"
             ],
             [
              0.3333333333333333,
              "#9c179e"
             ],
             [
              0.4444444444444444,
              "#bd3786"
             ],
             [
              0.5555555555555556,
              "#d8576b"
             ],
             [
              0.6666666666666666,
              "#ed7953"
             ],
             [
              0.7777777777777778,
              "#fb9f3a"
             ],
             [
              0.8888888888888888,
              "#fdca26"
             ],
             [
              1,
              "#f0f921"
             ]
            ],
            "type": "surface"
           }
          ],
          "table": [
           {
            "cells": {
             "fill": {
              "color": "#EBF0F8"
             },
             "line": {
              "color": "white"
             }
            },
            "header": {
             "fill": {
              "color": "#C8D4E3"
             },
             "line": {
              "color": "white"
             }
            },
            "type": "table"
           }
          ]
         },
         "layout": {
          "annotationdefaults": {
           "arrowcolor": "#2a3f5f",
           "arrowhead": 0,
           "arrowwidth": 1
          },
          "coloraxis": {
           "colorbar": {
            "outlinewidth": 0,
            "ticks": ""
           }
          },
          "colorscale": {
           "diverging": [
            [
             0,
             "#8e0152"
            ],
            [
             0.1,
             "#c51b7d"
            ],
            [
             0.2,
             "#de77ae"
            ],
            [
             0.3,
             "#f1b6da"
            ],
            [
             0.4,
             "#fde0ef"
            ],
            [
             0.5,
             "#f7f7f7"
            ],
            [
             0.6,
             "#e6f5d0"
            ],
            [
             0.7,
             "#b8e186"
            ],
            [
             0.8,
             "#7fbc41"
            ],
            [
             0.9,
             "#4d9221"
            ],
            [
             1,
             "#276419"
            ]
           ],
           "sequential": [
            [
             0,
             "#0d0887"
            ],
            [
             0.1111111111111111,
             "#46039f"
            ],
            [
             0.2222222222222222,
             "#7201a8"
            ],
            [
             0.3333333333333333,
             "#9c179e"
            ],
            [
             0.4444444444444444,
             "#bd3786"
            ],
            [
             0.5555555555555556,
             "#d8576b"
            ],
            [
             0.6666666666666666,
             "#ed7953"
            ],
            [
             0.7777777777777778,
             "#fb9f3a"
            ],
            [
             0.8888888888888888,
             "#fdca26"
            ],
            [
             1,
             "#f0f921"
            ]
           ],
           "sequentialminus": [
            [
             0,
             "#0d0887"
            ],
            [
             0.1111111111111111,
             "#46039f"
            ],
            [
             0.2222222222222222,
             "#7201a8"
            ],
            [
             0.3333333333333333,
             "#9c179e"
            ],
            [
             0.4444444444444444,
             "#bd3786"
            ],
            [
             0.5555555555555556,
             "#d8576b"
            ],
            [
             0.6666666666666666,
             "#ed7953"
            ],
            [
             0.7777777777777778,
             "#fb9f3a"
            ],
            [
             0.8888888888888888,
             "#fdca26"
            ],
            [
             1,
             "#f0f921"
            ]
           ]
          },
          "colorway": [
           "#636efa",
           "#EF553B",
           "#00cc96",
           "#ab63fa",
           "#FFA15A",
           "#19d3f3",
           "#FF6692",
           "#B6E880",
           "#FF97FF",
           "#FECB52"
          ],
          "font": {
           "color": "#2a3f5f"
          },
          "geo": {
           "bgcolor": "white",
           "lakecolor": "white",
           "landcolor": "#E5ECF6",
           "showlakes": true,
           "showland": true,
           "subunitcolor": "white"
          },
          "hoverlabel": {
           "align": "left"
          },
          "hovermode": "closest",
          "mapbox": {
           "style": "light"
          },
          "paper_bgcolor": "white",
          "plot_bgcolor": "#E5ECF6",
          "polar": {
           "angularaxis": {
            "gridcolor": "white",
            "linecolor": "white",
            "ticks": ""
           },
           "bgcolor": "#E5ECF6",
           "radialaxis": {
            "gridcolor": "white",
            "linecolor": "white",
            "ticks": ""
           }
          },
          "scene": {
           "xaxis": {
            "backgroundcolor": "#E5ECF6",
            "gridcolor": "white",
            "gridwidth": 2,
            "linecolor": "white",
            "showbackground": true,
            "ticks": "",
            "zerolinecolor": "white"
           },
           "yaxis": {
            "backgroundcolor": "#E5ECF6",
            "gridcolor": "white",
            "gridwidth": 2,
            "linecolor": "white",
            "showbackground": true,
            "ticks": "",
            "zerolinecolor": "white"
           },
           "zaxis": {
            "backgroundcolor": "#E5ECF6",
            "gridcolor": "white",
            "gridwidth": 2,
            "linecolor": "white",
            "showbackground": true,
            "ticks": "",
            "zerolinecolor": "white"
           }
          },
          "shapedefaults": {
           "line": {
            "color": "#2a3f5f"
           }
          },
          "ternary": {
           "aaxis": {
            "gridcolor": "white",
            "linecolor": "white",
            "ticks": ""
           },
           "baxis": {
            "gridcolor": "white",
            "linecolor": "white",
            "ticks": ""
           },
           "bgcolor": "#E5ECF6",
           "caxis": {
            "gridcolor": "white",
            "linecolor": "white",
            "ticks": ""
           }
          },
          "title": {
           "x": 0.05
          },
          "xaxis": {
           "automargin": true,
           "gridcolor": "white",
           "linecolor": "white",
           "ticks": "",
           "title": {
            "standoff": 15
           },
           "zerolinecolor": "white",
           "zerolinewidth": 2
          },
          "yaxis": {
           "automargin": true,
           "gridcolor": "white",
           "linecolor": "white",
           "ticks": "",
           "title": {
            "standoff": 15
           },
           "zerolinecolor": "white",
           "zerolinewidth": 2
          }
         }
        },
        "title": {
         "text": "Coherence Value and # of Topics"
        },
        "xaxis": {
         "anchor": "y",
         "domain": [
          0,
          1
         ],
         "title": {
          "text": "# Topics"
         }
        },
        "yaxis": {
         "anchor": "x",
         "domain": [
          0,
          1
         ],
         "title": {
          "text": "Score"
         }
        }
       }
      },
      "text/html": [
       "<div>\n",
       "        \n",
       "        \n",
       "            <div id=\"96b6244a-bc4b-44bb-8986-d0201df64a99\" class=\"plotly-graph-div\" style=\"height:525px; width:100%;\"></div>\n",
       "            <script type=\"text/javascript\">\n",
       "                require([\"plotly\"], function(Plotly) {\n",
       "                    window.PLOTLYENV=window.PLOTLYENV || {};\n",
       "                    \n",
       "                if (document.getElementById(\"96b6244a-bc4b-44bb-8986-d0201df64a99\")) {\n",
       "                    Plotly.newPlot(\n",
       "                        '96b6244a-bc4b-44bb-8986-d0201df64a99',\n",
       "                        [{\"hovertemplate\": \"Metric=Coherence<br># Topics=%{x}<br>Score=%{y}<extra></extra>\", \"legendgroup\": \"Coherence\", \"line\": {\"color\": \"#636efa\", \"dash\": \"solid\", \"shape\": \"linear\"}, \"mode\": \"lines\", \"name\": \"Coherence\", \"orientation\": \"v\", \"showlegend\": true, \"type\": \"scatter\", \"x\": [2, 4, 8, 16, 32, 64, 100, 200, 300, 400], \"xaxis\": \"x\", \"y\": [0.32628168305327276, 0.3318108220316336, 0.2623141880879695, 0.420856649055126, 0.49470621089515354, 0.5399116278074881, 0.4804130402547896, 0.37992334200907474, 0.3400820675677707, 0.29484924329694673], \"yaxis\": \"y\"}],\n",
       "                        {\"legend\": {\"title\": {\"text\": \"Metric\"}, \"tracegroupgap\": 0}, \"plot_bgcolor\": \"rgb(245,245,245)\", \"template\": {\"data\": {\"bar\": [{\"error_x\": {\"color\": \"#2a3f5f\"}, \"error_y\": {\"color\": \"#2a3f5f\"}, \"marker\": {\"line\": {\"color\": \"#E5ECF6\", \"width\": 0.5}}, \"type\": \"bar\"}], \"barpolar\": [{\"marker\": {\"line\": {\"color\": \"#E5ECF6\", \"width\": 0.5}}, \"type\": \"barpolar\"}], \"carpet\": [{\"aaxis\": {\"endlinecolor\": \"#2a3f5f\", \"gridcolor\": \"white\", \"linecolor\": \"white\", \"minorgridcolor\": \"white\", \"startlinecolor\": \"#2a3f5f\"}, \"baxis\": {\"endlinecolor\": \"#2a3f5f\", \"gridcolor\": \"white\", \"linecolor\": \"white\", \"minorgridcolor\": \"white\", \"startlinecolor\": \"#2a3f5f\"}, \"type\": \"carpet\"}], \"choropleth\": [{\"colorbar\": {\"outlinewidth\": 0, \"ticks\": \"\"}, \"type\": \"choropleth\"}], \"contour\": [{\"colorbar\": {\"outlinewidth\": 0, \"ticks\": \"\"}, \"colorscale\": [[0.0, \"#0d0887\"], [0.1111111111111111, \"#46039f\"], [0.2222222222222222, \"#7201a8\"], [0.3333333333333333, \"#9c179e\"], [0.4444444444444444, \"#bd3786\"], [0.5555555555555556, \"#d8576b\"], [0.6666666666666666, \"#ed7953\"], [0.7777777777777778, \"#fb9f3a\"], [0.8888888888888888, \"#fdca26\"], [1.0, \"#f0f921\"]], \"type\": \"contour\"}], \"contourcarpet\": [{\"colorbar\": {\"outlinewidth\": 0, \"ticks\": \"\"}, \"type\": \"contourcarpet\"}], \"heatmap\": [{\"colorbar\": {\"outlinewidth\": 0, \"ticks\": \"\"}, \"colorscale\": [[0.0, \"#0d0887\"], [0.1111111111111111, \"#46039f\"], [0.2222222222222222, \"#7201a8\"], [0.3333333333333333, \"#9c179e\"], [0.4444444444444444, \"#bd3786\"], [0.5555555555555556, \"#d8576b\"], [0.6666666666666666, \"#ed7953\"], [0.7777777777777778, \"#fb9f3a\"], [0.8888888888888888, \"#fdca26\"], [1.0, \"#f0f921\"]], \"type\": \"heatmap\"}], \"heatmapgl\": [{\"colorbar\": {\"outlinewidth\": 0, \"ticks\": \"\"}, \"colorscale\": [[0.0, \"#0d0887\"], [0.1111111111111111, \"#46039f\"], [0.2222222222222222, \"#7201a8\"], [0.3333333333333333, \"#9c179e\"], [0.4444444444444444, \"#bd3786\"], [0.5555555555555556, \"#d8576b\"], [0.6666666666666666, \"#ed7953\"], [0.7777777777777778, \"#fb9f3a\"], [0.8888888888888888, \"#fdca26\"], [1.0, \"#f0f921\"]], \"type\": \"heatmapgl\"}], \"histogram\": [{\"marker\": {\"colorbar\": {\"outlinewidth\": 0, \"ticks\": \"\"}}, \"type\": \"histogram\"}], \"histogram2d\": [{\"colorbar\": {\"outlinewidth\": 0, \"ticks\": \"\"}, \"colorscale\": [[0.0, \"#0d0887\"], [0.1111111111111111, \"#46039f\"], [0.2222222222222222, \"#7201a8\"], [0.3333333333333333, \"#9c179e\"], [0.4444444444444444, \"#bd3786\"], [0.5555555555555556, \"#d8576b\"], [0.6666666666666666, \"#ed7953\"], [0.7777777777777778, \"#fb9f3a\"], [0.8888888888888888, \"#fdca26\"], [1.0, \"#f0f921\"]], \"type\": \"histogram2d\"}], \"histogram2dcontour\": [{\"colorbar\": {\"outlinewidth\": 0, \"ticks\": \"\"}, \"colorscale\": [[0.0, \"#0d0887\"], [0.1111111111111111, \"#46039f\"], [0.2222222222222222, \"#7201a8\"], [0.3333333333333333, \"#9c179e\"], [0.4444444444444444, \"#bd3786\"], [0.5555555555555556, \"#d8576b\"], [0.6666666666666666, \"#ed7953\"], [0.7777777777777778, \"#fb9f3a\"], [0.8888888888888888, \"#fdca26\"], [1.0, \"#f0f921\"]], \"type\": \"histogram2dcontour\"}], \"mesh3d\": [{\"colorbar\": {\"outlinewidth\": 0, \"ticks\": \"\"}, \"type\": \"mesh3d\"}], \"parcoords\": [{\"line\": {\"colorbar\": {\"outlinewidth\": 0, \"ticks\": \"\"}}, \"type\": \"parcoords\"}], \"pie\": [{\"automargin\": true, \"type\": \"pie\"}], \"scatter\": [{\"marker\": {\"colorbar\": {\"outlinewidth\": 0, \"ticks\": \"\"}}, \"type\": \"scatter\"}], \"scatter3d\": [{\"line\": {\"colorbar\": {\"outlinewidth\": 0, \"ticks\": \"\"}}, \"marker\": {\"colorbar\": {\"outlinewidth\": 0, \"ticks\": \"\"}}, \"type\": \"scatter3d\"}], \"scattercarpet\": [{\"marker\": {\"colorbar\": {\"outlinewidth\": 0, \"ticks\": \"\"}}, \"type\": \"scattercarpet\"}], \"scattergeo\": [{\"marker\": {\"colorbar\": {\"outlinewidth\": 0, \"ticks\": \"\"}}, \"type\": \"scattergeo\"}], \"scattergl\": [{\"marker\": {\"colorbar\": {\"outlinewidth\": 0, \"ticks\": \"\"}}, \"type\": \"scattergl\"}], \"scattermapbox\": [{\"marker\": {\"colorbar\": {\"outlinewidth\": 0, \"ticks\": \"\"}}, \"type\": \"scattermapbox\"}], \"scatterpolar\": [{\"marker\": {\"colorbar\": {\"outlinewidth\": 0, \"ticks\": \"\"}}, \"type\": \"scatterpolar\"}], \"scatterpolargl\": [{\"marker\": {\"colorbar\": {\"outlinewidth\": 0, \"ticks\": \"\"}}, \"type\": \"scatterpolargl\"}], \"scatterternary\": [{\"marker\": {\"colorbar\": {\"outlinewidth\": 0, \"ticks\": \"\"}}, \"type\": \"scatterternary\"}], \"surface\": [{\"colorbar\": {\"outlinewidth\": 0, \"ticks\": \"\"}, \"colorscale\": [[0.0, \"#0d0887\"], [0.1111111111111111, \"#46039f\"], [0.2222222222222222, \"#7201a8\"], [0.3333333333333333, \"#9c179e\"], [0.4444444444444444, \"#bd3786\"], [0.5555555555555556, \"#d8576b\"], [0.6666666666666666, \"#ed7953\"], [0.7777777777777778, \"#fb9f3a\"], [0.8888888888888888, \"#fdca26\"], [1.0, \"#f0f921\"]], \"type\": \"surface\"}], \"table\": [{\"cells\": {\"fill\": {\"color\": \"#EBF0F8\"}, \"line\": {\"color\": \"white\"}}, \"header\": {\"fill\": {\"color\": \"#C8D4E3\"}, \"line\": {\"color\": \"white\"}}, \"type\": \"table\"}]}, \"layout\": {\"annotationdefaults\": {\"arrowcolor\": \"#2a3f5f\", \"arrowhead\": 0, \"arrowwidth\": 1}, \"coloraxis\": {\"colorbar\": {\"outlinewidth\": 0, \"ticks\": \"\"}}, \"colorscale\": {\"diverging\": [[0, \"#8e0152\"], [0.1, \"#c51b7d\"], [0.2, \"#de77ae\"], [0.3, \"#f1b6da\"], [0.4, \"#fde0ef\"], [0.5, \"#f7f7f7\"], [0.6, \"#e6f5d0\"], [0.7, \"#b8e186\"], [0.8, \"#7fbc41\"], [0.9, \"#4d9221\"], [1, \"#276419\"]], \"sequential\": [[0.0, \"#0d0887\"], [0.1111111111111111, \"#46039f\"], [0.2222222222222222, \"#7201a8\"], [0.3333333333333333, \"#9c179e\"], [0.4444444444444444, \"#bd3786\"], [0.5555555555555556, \"#d8576b\"], [0.6666666666666666, \"#ed7953\"], [0.7777777777777778, \"#fb9f3a\"], [0.8888888888888888, \"#fdca26\"], [1.0, \"#f0f921\"]], \"sequentialminus\": [[0.0, \"#0d0887\"], [0.1111111111111111, \"#46039f\"], [0.2222222222222222, \"#7201a8\"], [0.3333333333333333, \"#9c179e\"], [0.4444444444444444, \"#bd3786\"], [0.5555555555555556, \"#d8576b\"], [0.6666666666666666, \"#ed7953\"], [0.7777777777777778, \"#fb9f3a\"], [0.8888888888888888, \"#fdca26\"], [1.0, \"#f0f921\"]]}, \"colorway\": [\"#636efa\", \"#EF553B\", \"#00cc96\", \"#ab63fa\", \"#FFA15A\", \"#19d3f3\", \"#FF6692\", \"#B6E880\", \"#FF97FF\", \"#FECB52\"], \"font\": {\"color\": \"#2a3f5f\"}, \"geo\": {\"bgcolor\": \"white\", \"lakecolor\": \"white\", \"landcolor\": \"#E5ECF6\", \"showlakes\": true, \"showland\": true, \"subunitcolor\": \"white\"}, \"hoverlabel\": {\"align\": \"left\"}, \"hovermode\": \"closest\", \"mapbox\": {\"style\": \"light\"}, \"paper_bgcolor\": \"white\", \"plot_bgcolor\": \"#E5ECF6\", \"polar\": {\"angularaxis\": {\"gridcolor\": \"white\", \"linecolor\": \"white\", \"ticks\": \"\"}, \"bgcolor\": \"#E5ECF6\", \"radialaxis\": {\"gridcolor\": \"white\", \"linecolor\": \"white\", \"ticks\": \"\"}}, \"scene\": {\"xaxis\": {\"backgroundcolor\": \"#E5ECF6\", \"gridcolor\": \"white\", \"gridwidth\": 2, \"linecolor\": \"white\", \"showbackground\": true, \"ticks\": \"\", \"zerolinecolor\": \"white\"}, \"yaxis\": {\"backgroundcolor\": \"#E5ECF6\", \"gridcolor\": \"white\", \"gridwidth\": 2, \"linecolor\": \"white\", \"showbackground\": true, \"ticks\": \"\", \"zerolinecolor\": \"white\"}, \"zaxis\": {\"backgroundcolor\": \"#E5ECF6\", \"gridcolor\": \"white\", \"gridwidth\": 2, \"linecolor\": \"white\", \"showbackground\": true, \"ticks\": \"\", \"zerolinecolor\": \"white\"}}, \"shapedefaults\": {\"line\": {\"color\": \"#2a3f5f\"}}, \"ternary\": {\"aaxis\": {\"gridcolor\": \"white\", \"linecolor\": \"white\", \"ticks\": \"\"}, \"baxis\": {\"gridcolor\": \"white\", \"linecolor\": \"white\", \"ticks\": \"\"}, \"bgcolor\": \"#E5ECF6\", \"caxis\": {\"gridcolor\": \"white\", \"linecolor\": \"white\", \"ticks\": \"\"}}, \"title\": {\"x\": 0.05}, \"xaxis\": {\"automargin\": true, \"gridcolor\": \"white\", \"linecolor\": \"white\", \"ticks\": \"\", \"title\": {\"standoff\": 15}, \"zerolinecolor\": \"white\", \"zerolinewidth\": 2}, \"yaxis\": {\"automargin\": true, \"gridcolor\": \"white\", \"linecolor\": \"white\", \"ticks\": \"\", \"title\": {\"standoff\": 15}, \"zerolinecolor\": \"white\", \"zerolinewidth\": 2}}}, \"title\": {\"text\": \"Coherence Value and # of Topics\"}, \"xaxis\": {\"anchor\": \"y\", \"domain\": [0.0, 1.0], \"title\": {\"text\": \"# Topics\"}}, \"yaxis\": {\"anchor\": \"x\", \"domain\": [0.0, 1.0], \"title\": {\"text\": \"Score\"}}},\n",
       "                        {\"responsive\": true}\n",
       "                    ).then(function(){\n",
       "                            \n",
       "var gd = document.getElementById('96b6244a-bc4b-44bb-8986-d0201df64a99');\n",
       "var x = new MutationObserver(function (mutations, observer) {{\n",
       "        var display = window.getComputedStyle(gd).display;\n",
       "        if (!display || display === 'none') {{\n",
       "            console.log([gd, 'removed!']);\n",
       "            Plotly.purge(gd);\n",
       "            observer.disconnect();\n",
       "        }}\n",
       "}});\n",
       "\n",
       "// Listen for the removal of the full notebook cells\n",
       "var notebookContainer = gd.closest('#notebook-container');\n",
       "if (notebookContainer) {{\n",
       "    x.observe(notebookContainer, {childList: true});\n",
       "}}\n",
       "\n",
       "// Listen for the clearing of the current output cell\n",
       "var outputEl = gd.closest('.output');\n",
       "if (outputEl) {{\n",
       "    x.observe(outputEl, {childList: true});\n",
       "}}\n",
       "\n",
       "                        })\n",
       "                };\n",
       "                });\n",
       "            </script>\n",
       "        </div>"
      ]
     },
     "metadata": {},
     "output_type": "display_data"
    },
    {
     "name": "stdout",
     "output_type": "stream",
     "text": [
      "Best Model: Latent Dirichlet Allocation | # Topics: 64 | Coherence: 0.5399\n"
     ]
    }
   ],
   "source": [
    "tune_lda_positive = tune_model(model='lda', supervised_target=None, estimator='xgboost')"
   ]
  },
  {
   "cell_type": "markdown",
   "metadata": {},
   "source": [
    "16 topics selected"
   ]
  },
  {
   "cell_type": "markdown",
   "metadata": {},
   "source": [
    "## NEGATIVE REVIEWS"
   ]
  },
  {
   "cell_type": "code",
   "execution_count": 22,
   "metadata": {},
   "outputs": [
    {
     "data": {
      "text/html": [
       "<style  type=\"text/css\" >\n",
       "</style><table id=\"T_00ec75b8_3007_11eb_b92c_c48e8ff9d2e0\" ><thead>    <tr>        <th class=\"col_heading level0 col0\" >Description</th>        <th class=\"col_heading level0 col1\" >Value</th>    </tr></thead><tbody>\n",
       "                <tr>\n",
       "                                <td id=\"T_00ec75b8_3007_11eb_b92c_c48e8ff9d2e0row0_col0\" class=\"data row0 col0\" >session_id</td>\n",
       "                        <td id=\"T_00ec75b8_3007_11eb_b92c_c48e8ff9d2e0row0_col1\" class=\"data row0 col1\" >4932</td>\n",
       "            </tr>\n",
       "            <tr>\n",
       "                                <td id=\"T_00ec75b8_3007_11eb_b92c_c48e8ff9d2e0row1_col0\" class=\"data row1 col0\" >Documents</td>\n",
       "                        <td id=\"T_00ec75b8_3007_11eb_b92c_c48e8ff9d2e0row1_col1\" class=\"data row1 col1\" >13</td>\n",
       "            </tr>\n",
       "            <tr>\n",
       "                                <td id=\"T_00ec75b8_3007_11eb_b92c_c48e8ff9d2e0row2_col0\" class=\"data row2 col0\" >Vocab Size</td>\n",
       "                        <td id=\"T_00ec75b8_3007_11eb_b92c_c48e8ff9d2e0row2_col1\" class=\"data row2 col1\" >334</td>\n",
       "            </tr>\n",
       "            <tr>\n",
       "                                <td id=\"T_00ec75b8_3007_11eb_b92c_c48e8ff9d2e0row3_col0\" class=\"data row3 col0\" >Custom Stopwords</td>\n",
       "                        <td id=\"T_00ec75b8_3007_11eb_b92c_c48e8ff9d2e0row3_col1\" class=\"data row3 col1\" >True</td>\n",
       "            </tr>\n",
       "    </tbody></table>"
      ],
      "text/plain": [
       "<pandas.io.formats.style.Styler at 0x25d7bb0cfc8>"
      ]
     },
     "metadata": {},
     "output_type": "display_data"
    }
   ],
   "source": [
    "exp_nlp_neg = setup(data = neg_rev, target = 'r_text',\n",
    "                custom_stopwords = [ 'hotel', 'room', 'nice', 'good','restaurant', 'food','bad'])"
   ]
  },
  {
   "cell_type": "code",
   "execution_count": 23,
   "metadata": {},
   "outputs": [
    {
     "name": "stdout",
     "output_type": "stream",
     "text": [
      "LdaModel(num_terms=334, num_topics=4, decay=0.5, chunksize=100)\n"
     ]
    }
   ],
   "source": [
    "#create an LDA model\n",
    "lda_neg_custom = create_model('lda')\n",
    "print(lda_neg_custom)"
   ]
  },
  {
   "cell_type": "code",
   "execution_count": 25,
   "metadata": {},
   "outputs": [
    {
     "data": {
      "text/html": [
       "<div>\n",
       "<style scoped>\n",
       "    .dataframe tbody tr th:only-of-type {\n",
       "        vertical-align: middle;\n",
       "    }\n",
       "\n",
       "    .dataframe tbody tr th {\n",
       "        vertical-align: top;\n",
       "    }\n",
       "\n",
       "    .dataframe thead th {\n",
       "        text-align: right;\n",
       "    }\n",
       "</style>\n",
       "<table border=\"1\" class=\"dataframe\">\n",
       "  <thead>\n",
       "    <tr style=\"text-align: right;\">\n",
       "      <th></th>\n",
       "      <th>r_points</th>\n",
       "      <th>r_text</th>\n",
       "      <th>place</th>\n",
       "      <th>scores</th>\n",
       "      <th>compound</th>\n",
       "      <th>score</th>\n",
       "      <th>Topic_0</th>\n",
       "      <th>Topic_1</th>\n",
       "      <th>Topic_2</th>\n",
       "      <th>Topic_3</th>\n",
       "      <th>Dominant_Topic</th>\n",
       "      <th>Perc_Dominant_Topic</th>\n",
       "    </tr>\n",
       "  </thead>\n",
       "  <tbody>\n",
       "    <tr>\n",
       "      <th>0</th>\n",
       "      <td>NaN</td>\n",
       "      <td>NaN</td>\n",
       "      <td>NaN</td>\n",
       "      <td>NaN</td>\n",
       "      <td>NaN</td>\n",
       "      <td>NaN</td>\n",
       "      <td>0.993659</td>\n",
       "      <td>0.002836</td>\n",
       "      <td>0.002462</td>\n",
       "      <td>0.001044</td>\n",
       "      <td>Topic 0</td>\n",
       "      <td>0.99</td>\n",
       "    </tr>\n",
       "    <tr>\n",
       "      <th>1</th>\n",
       "      <td>10.0</td>\n",
       "      <td>stay loud music noisy traffic motorcycle scree...</td>\n",
       "      <td>Europa Plaza Hotel</td>\n",
       "      <td>{'neg': 0.151, 'neu': 0.778, 'pos': 0.071, 'co...</td>\n",
       "      <td>-0.6908</td>\n",
       "      <td>neg</td>\n",
       "      <td>0.004516</td>\n",
       "      <td>0.989022</td>\n",
       "      <td>0.004537</td>\n",
       "      <td>0.001924</td>\n",
       "      <td>Topic 1</td>\n",
       "      <td>0.99</td>\n",
       "    </tr>\n",
       "    <tr>\n",
       "      <th>2</th>\n",
       "      <td>10.0</td>\n",
       "      <td>receptionist want experience go head try peopl...</td>\n",
       "      <td>Europa Plaza Hotel</td>\n",
       "      <td>{'neg': 0.197, 'neu': 0.663, 'pos': 0.141, 'co...</td>\n",
       "      <td>-0.7150</td>\n",
       "      <td>neg</td>\n",
       "      <td>0.001104</td>\n",
       "      <td>0.001277</td>\n",
       "      <td>0.997149</td>\n",
       "      <td>0.000470</td>\n",
       "      <td>Topic 2</td>\n",
       "      <td>1.00</td>\n",
       "    </tr>\n",
       "    <tr>\n",
       "      <th>3</th>\n",
       "      <td>20.0</td>\n",
       "      <td>many thing report unfortunately late night arr...</td>\n",
       "      <td>Europa Plaza Hotel</td>\n",
       "      <td>{'neg': 0.081, 'neu': 0.902, 'pos': 0.017, 'co...</td>\n",
       "      <td>-0.7168</td>\n",
       "      <td>neg</td>\n",
       "      <td>0.005255</td>\n",
       "      <td>0.006081</td>\n",
       "      <td>0.986425</td>\n",
       "      <td>0.002239</td>\n",
       "      <td>Topic 2</td>\n",
       "      <td>0.99</td>\n",
       "    </tr>\n",
       "    <tr>\n",
       "      <th>4</th>\n",
       "      <td>NaN</td>\n",
       "      <td>NaN</td>\n",
       "      <td>NaN</td>\n",
       "      <td>NaN</td>\n",
       "      <td>NaN</td>\n",
       "      <td>NaN</td>\n",
       "      <td>0.000617</td>\n",
       "      <td>0.998501</td>\n",
       "      <td>0.000619</td>\n",
       "      <td>0.000263</td>\n",
       "      <td>Topic 1</td>\n",
       "      <td>1.00</td>\n",
       "    </tr>\n",
       "    <tr>\n",
       "      <th>5</th>\n",
       "      <td>10.0</td>\n",
       "      <td>book conference suggest dirty carpet remaining...</td>\n",
       "      <td>Europa Plaza Hotel</td>\n",
       "      <td>{'neg': 0.083, 'neu': 0.917, 'pos': 0.0, 'comp...</td>\n",
       "      <td>-0.4404</td>\n",
       "      <td>neg</td>\n",
       "      <td>0.991778</td>\n",
       "      <td>0.003676</td>\n",
       "      <td>0.003192</td>\n",
       "      <td>0.001354</td>\n",
       "      <td>Topic 0</td>\n",
       "      <td>0.99</td>\n",
       "    </tr>\n",
       "    <tr>\n",
       "      <th>6</th>\n",
       "      <td>NaN</td>\n",
       "      <td>NaN</td>\n",
       "      <td>NaN</td>\n",
       "      <td>NaN</td>\n",
       "      <td>NaN</td>\n",
       "      <td>NaN</td>\n",
       "      <td>0.006282</td>\n",
       "      <td>0.984730</td>\n",
       "      <td>0.006311</td>\n",
       "      <td>0.002677</td>\n",
       "      <td>Topic 1</td>\n",
       "      <td>0.98</td>\n",
       "    </tr>\n",
       "    <tr>\n",
       "      <th>7</th>\n",
       "      <td>NaN</td>\n",
       "      <td>NaN</td>\n",
       "      <td>NaN</td>\n",
       "      <td>NaN</td>\n",
       "      <td>NaN</td>\n",
       "      <td>NaN</td>\n",
       "      <td>0.001522</td>\n",
       "      <td>0.001761</td>\n",
       "      <td>0.996068</td>\n",
       "      <td>0.000648</td>\n",
       "      <td>Topic 2</td>\n",
       "      <td>1.00</td>\n",
       "    </tr>\n",
       "    <tr>\n",
       "      <th>8</th>\n",
       "      <td>NaN</td>\n",
       "      <td>NaN</td>\n",
       "      <td>NaN</td>\n",
       "      <td>NaN</td>\n",
       "      <td>NaN</td>\n",
       "      <td>NaN</td>\n",
       "      <td>0.994108</td>\n",
       "      <td>0.002635</td>\n",
       "      <td>0.002287</td>\n",
       "      <td>0.000970</td>\n",
       "      <td>Topic 0</td>\n",
       "      <td>0.99</td>\n",
       "    </tr>\n",
       "    <tr>\n",
       "      <th>9</th>\n",
       "      <td>NaN</td>\n",
       "      <td>NaN</td>\n",
       "      <td>NaN</td>\n",
       "      <td>NaN</td>\n",
       "      <td>NaN</td>\n",
       "      <td>NaN</td>\n",
       "      <td>0.004516</td>\n",
       "      <td>0.989022</td>\n",
       "      <td>0.004537</td>\n",
       "      <td>0.001924</td>\n",
       "      <td>Topic 1</td>\n",
       "      <td>0.99</td>\n",
       "    </tr>\n",
       "    <tr>\n",
       "      <th>10</th>\n",
       "      <td>20.0</td>\n",
       "      <td>year time disaster always clean tidy service r...</td>\n",
       "      <td>Europa Plaza Hotel</td>\n",
       "      <td>{'neg': 0.117, 'neu': 0.788, 'pos': 0.095, 'co...</td>\n",
       "      <td>-0.8261</td>\n",
       "      <td>neg</td>\n",
       "      <td>0.997192</td>\n",
       "      <td>0.001256</td>\n",
       "      <td>0.001090</td>\n",
       "      <td>0.000462</td>\n",
       "      <td>Topic 0</td>\n",
       "      <td>1.00</td>\n",
       "    </tr>\n",
       "    <tr>\n",
       "      <th>11</th>\n",
       "      <td>NaN</td>\n",
       "      <td>NaN</td>\n",
       "      <td>NaN</td>\n",
       "      <td>NaN</td>\n",
       "      <td>NaN</td>\n",
       "      <td>NaN</td>\n",
       "      <td>0.000902</td>\n",
       "      <td>0.001044</td>\n",
       "      <td>0.997669</td>\n",
       "      <td>0.000384</td>\n",
       "      <td>Topic 2</td>\n",
       "      <td>1.00</td>\n",
       "    </tr>\n",
       "    <tr>\n",
       "      <th>12</th>\n",
       "      <td>NaN</td>\n",
       "      <td>NaN</td>\n",
       "      <td>NaN</td>\n",
       "      <td>NaN</td>\n",
       "      <td>NaN</td>\n",
       "      <td>NaN</td>\n",
       "      <td>0.005255</td>\n",
       "      <td>0.987227</td>\n",
       "      <td>0.005279</td>\n",
       "      <td>0.002239</td>\n",
       "      <td>Topic 1</td>\n",
       "      <td>0.99</td>\n",
       "    </tr>\n",
       "    <tr>\n",
       "      <th>13</th>\n",
       "      <td>10.0</td>\n",
       "      <td>surrounded night club bar loud music busy stre...</td>\n",
       "      <td>Europa Plaza Hotel</td>\n",
       "      <td>{'neg': 0.149, 'neu': 0.851, 'pos': 0.0, 'comp...</td>\n",
       "      <td>-0.7430</td>\n",
       "      <td>neg</td>\n",
       "      <td>NaN</td>\n",
       "      <td>NaN</td>\n",
       "      <td>NaN</td>\n",
       "      <td>NaN</td>\n",
       "      <td>NaN</td>\n",
       "      <td>NaN</td>\n",
       "    </tr>\n",
       "    <tr>\n",
       "      <th>14</th>\n",
       "      <td>30.0</td>\n",
       "      <td>company book business dinner shower get flood ...</td>\n",
       "      <td>Europa Plaza Hotel</td>\n",
       "      <td>{'neg': 0.106, 'neu': 0.894, 'pos': 0.0, 'comp...</td>\n",
       "      <td>-0.5577</td>\n",
       "      <td>neg</td>\n",
       "      <td>NaN</td>\n",
       "      <td>NaN</td>\n",
       "      <td>NaN</td>\n",
       "      <td>NaN</td>\n",
       "      <td>NaN</td>\n",
       "      <td>NaN</td>\n",
       "    </tr>\n",
       "    <tr>\n",
       "      <th>39</th>\n",
       "      <td>40.0</td>\n",
       "      <td>second trip time stay thing change great great...</td>\n",
       "      <td>Europa Plaza Hotel</td>\n",
       "      <td>{'neg': 0.136, 'neu': 0.78, 'pos': 0.085, 'com...</td>\n",
       "      <td>-0.7077</td>\n",
       "      <td>neg</td>\n",
       "      <td>NaN</td>\n",
       "      <td>NaN</td>\n",
       "      <td>NaN</td>\n",
       "      <td>NaN</td>\n",
       "      <td>NaN</td>\n",
       "      <td>NaN</td>\n",
       "    </tr>\n",
       "    <tr>\n",
       "      <th>52</th>\n",
       "      <td>30.0</td>\n",
       "      <td>second time stay clean fair value money choice...</td>\n",
       "      <td>Europa Plaza Hotel</td>\n",
       "      <td>{'neg': 0.07, 'neu': 0.884, 'pos': 0.046, 'com...</td>\n",
       "      <td>-0.2028</td>\n",
       "      <td>neg</td>\n",
       "      <td>NaN</td>\n",
       "      <td>NaN</td>\n",
       "      <td>NaN</td>\n",
       "      <td>NaN</td>\n",
       "      <td>NaN</td>\n",
       "      <td>NaN</td>\n",
       "    </tr>\n",
       "    <tr>\n",
       "      <th>53</th>\n",
       "      <td>40.0</td>\n",
       "      <td>little budget standard facility luxury city am...</td>\n",
       "      <td>Europa Plaza Hotel</td>\n",
       "      <td>{'neg': 0.063, 'neu': 0.895, 'pos': 0.043, 'co...</td>\n",
       "      <td>-0.2263</td>\n",
       "      <td>neg</td>\n",
       "      <td>NaN</td>\n",
       "      <td>NaN</td>\n",
       "      <td>NaN</td>\n",
       "      <td>NaN</td>\n",
       "      <td>NaN</td>\n",
       "      <td>NaN</td>\n",
       "    </tr>\n",
       "    <tr>\n",
       "      <th>55</th>\n",
       "      <td>30.0</td>\n",
       "      <td>location make convenient business trip area em...</td>\n",
       "      <td>Europa Plaza Hotel</td>\n",
       "      <td>{'neg': 0.118, 'neu': 0.816, 'pos': 0.065, 'co...</td>\n",
       "      <td>-0.8553</td>\n",
       "      <td>neg</td>\n",
       "      <td>NaN</td>\n",
       "      <td>NaN</td>\n",
       "      <td>NaN</td>\n",
       "      <td>NaN</td>\n",
       "      <td>NaN</td>\n",
       "      <td>NaN</td>\n",
       "    </tr>\n",
       "    <tr>\n",
       "      <th>60</th>\n",
       "      <td>20.0</td>\n",
       "      <td>stay destination pick attend amenity old fashi...</td>\n",
       "      <td>Europa Plaza Hotel</td>\n",
       "      <td>{'neg': 0.071, 'neu': 0.889, 'pos': 0.039, 'co...</td>\n",
       "      <td>-0.7447</td>\n",
       "      <td>neg</td>\n",
       "      <td>NaN</td>\n",
       "      <td>NaN</td>\n",
       "      <td>NaN</td>\n",
       "      <td>NaN</td>\n",
       "      <td>NaN</td>\n",
       "      <td>NaN</td>\n",
       "    </tr>\n",
       "    <tr>\n",
       "      <th>62</th>\n",
       "      <td>20.0</td>\n",
       "      <td>bed hard key minibar pay bit strange elevator ...</td>\n",
       "      <td>Europa Plaza Hotel</td>\n",
       "      <td>{'neg': 0.14, 'neu': 0.86, 'pos': 0.0, 'compou...</td>\n",
       "      <td>-0.4391</td>\n",
       "      <td>neg</td>\n",
       "      <td>NaN</td>\n",
       "      <td>NaN</td>\n",
       "      <td>NaN</td>\n",
       "      <td>NaN</td>\n",
       "      <td>NaN</td>\n",
       "      <td>NaN</td>\n",
       "    </tr>\n",
       "  </tbody>\n",
       "</table>\n",
       "</div>"
      ],
      "text/plain": [
       "    r_points                                             r_text  \\\n",
       "0        NaN                                                NaN   \n",
       "1       10.0  stay loud music noisy traffic motorcycle scree...   \n",
       "2       10.0  receptionist want experience go head try peopl...   \n",
       "3       20.0  many thing report unfortunately late night arr...   \n",
       "4        NaN                                                NaN   \n",
       "5       10.0  book conference suggest dirty carpet remaining...   \n",
       "6        NaN                                                NaN   \n",
       "7        NaN                                                NaN   \n",
       "8        NaN                                                NaN   \n",
       "9        NaN                                                NaN   \n",
       "10      20.0  year time disaster always clean tidy service r...   \n",
       "11       NaN                                                NaN   \n",
       "12       NaN                                                NaN   \n",
       "13      10.0  surrounded night club bar loud music busy stre...   \n",
       "14      30.0  company book business dinner shower get flood ...   \n",
       "39      40.0  second trip time stay thing change great great...   \n",
       "52      30.0  second time stay clean fair value money choice...   \n",
       "53      40.0  little budget standard facility luxury city am...   \n",
       "55      30.0  location make convenient business trip area em...   \n",
       "60      20.0  stay destination pick attend amenity old fashi...   \n",
       "62      20.0  bed hard key minibar pay bit strange elevator ...   \n",
       "\n",
       "                 place                                             scores  \\\n",
       "0                  NaN                                                NaN   \n",
       "1   Europa Plaza Hotel  {'neg': 0.151, 'neu': 0.778, 'pos': 0.071, 'co...   \n",
       "2   Europa Plaza Hotel  {'neg': 0.197, 'neu': 0.663, 'pos': 0.141, 'co...   \n",
       "3   Europa Plaza Hotel  {'neg': 0.081, 'neu': 0.902, 'pos': 0.017, 'co...   \n",
       "4                  NaN                                                NaN   \n",
       "5   Europa Plaza Hotel  {'neg': 0.083, 'neu': 0.917, 'pos': 0.0, 'comp...   \n",
       "6                  NaN                                                NaN   \n",
       "7                  NaN                                                NaN   \n",
       "8                  NaN                                                NaN   \n",
       "9                  NaN                                                NaN   \n",
       "10  Europa Plaza Hotel  {'neg': 0.117, 'neu': 0.788, 'pos': 0.095, 'co...   \n",
       "11                 NaN                                                NaN   \n",
       "12                 NaN                                                NaN   \n",
       "13  Europa Plaza Hotel  {'neg': 0.149, 'neu': 0.851, 'pos': 0.0, 'comp...   \n",
       "14  Europa Plaza Hotel  {'neg': 0.106, 'neu': 0.894, 'pos': 0.0, 'comp...   \n",
       "39  Europa Plaza Hotel  {'neg': 0.136, 'neu': 0.78, 'pos': 0.085, 'com...   \n",
       "52  Europa Plaza Hotel  {'neg': 0.07, 'neu': 0.884, 'pos': 0.046, 'com...   \n",
       "53  Europa Plaza Hotel  {'neg': 0.063, 'neu': 0.895, 'pos': 0.043, 'co...   \n",
       "55  Europa Plaza Hotel  {'neg': 0.118, 'neu': 0.816, 'pos': 0.065, 'co...   \n",
       "60  Europa Plaza Hotel  {'neg': 0.071, 'neu': 0.889, 'pos': 0.039, 'co...   \n",
       "62  Europa Plaza Hotel  {'neg': 0.14, 'neu': 0.86, 'pos': 0.0, 'compou...   \n",
       "\n",
       "    compound score   Topic_0   Topic_1   Topic_2   Topic_3 Dominant_Topic  \\\n",
       "0        NaN   NaN  0.993659  0.002836  0.002462  0.001044        Topic 0   \n",
       "1    -0.6908   neg  0.004516  0.989022  0.004537  0.001924        Topic 1   \n",
       "2    -0.7150   neg  0.001104  0.001277  0.997149  0.000470        Topic 2   \n",
       "3    -0.7168   neg  0.005255  0.006081  0.986425  0.002239        Topic 2   \n",
       "4        NaN   NaN  0.000617  0.998501  0.000619  0.000263        Topic 1   \n",
       "5    -0.4404   neg  0.991778  0.003676  0.003192  0.001354        Topic 0   \n",
       "6        NaN   NaN  0.006282  0.984730  0.006311  0.002677        Topic 1   \n",
       "7        NaN   NaN  0.001522  0.001761  0.996068  0.000648        Topic 2   \n",
       "8        NaN   NaN  0.994108  0.002635  0.002287  0.000970        Topic 0   \n",
       "9        NaN   NaN  0.004516  0.989022  0.004537  0.001924        Topic 1   \n",
       "10   -0.8261   neg  0.997192  0.001256  0.001090  0.000462        Topic 0   \n",
       "11       NaN   NaN  0.000902  0.001044  0.997669  0.000384        Topic 2   \n",
       "12       NaN   NaN  0.005255  0.987227  0.005279  0.002239        Topic 1   \n",
       "13   -0.7430   neg       NaN       NaN       NaN       NaN            NaN   \n",
       "14   -0.5577   neg       NaN       NaN       NaN       NaN            NaN   \n",
       "39   -0.7077   neg       NaN       NaN       NaN       NaN            NaN   \n",
       "52   -0.2028   neg       NaN       NaN       NaN       NaN            NaN   \n",
       "53   -0.2263   neg       NaN       NaN       NaN       NaN            NaN   \n",
       "55   -0.8553   neg       NaN       NaN       NaN       NaN            NaN   \n",
       "60   -0.7447   neg       NaN       NaN       NaN       NaN            NaN   \n",
       "62   -0.4391   neg       NaN       NaN       NaN       NaN            NaN   \n",
       "\n",
       "    Perc_Dominant_Topic  \n",
       "0                  0.99  \n",
       "1                  0.99  \n",
       "2                  1.00  \n",
       "3                  0.99  \n",
       "4                  1.00  \n",
       "5                  0.99  \n",
       "6                  0.98  \n",
       "7                  1.00  \n",
       "8                  0.99  \n",
       "9                  0.99  \n",
       "10                 1.00  \n",
       "11                 1.00  \n",
       "12                 0.99  \n",
       "13                  NaN  \n",
       "14                  NaN  \n",
       "39                  NaN  \n",
       "52                  NaN  \n",
       "53                  NaN  \n",
       "55                  NaN  \n",
       "60                  NaN  \n",
       "62                  NaN  "
      ]
     },
     "execution_count": 25,
     "metadata": {},
     "output_type": "execute_result"
    }
   ],
   "source": [
    "apply_lda_neg = assign_model(lda_neg_custom)\n",
    "apply_lda_neg"
   ]
  },
  {
   "cell_type": "code",
   "execution_count": 26,
   "metadata": {},
   "outputs": [
    {
     "data": {
      "application/vnd.jupyter.widget-view+json": {
       "model_id": "be159c32e9824722824613fa167d2f2b",
       "version_major": 2,
       "version_minor": 0
      },
      "text/plain": [
       "interactive(children=(ToggleButtons(description='Plot Type:', icons=('',), options=(('Frequency Plot', 'freque…"
      ]
     },
     "metadata": {},
     "output_type": "display_data"
    }
   ],
   "source": [
    "evaluate_model(lda_neg_custom)"
   ]
  },
  {
   "cell_type": "code",
   "execution_count": 29,
   "metadata": {},
   "outputs": [
    {
     "data": {
      "application/vnd.jupyter.widget-view+json": {
       "model_id": "",
       "version_major": 2,
       "version_minor": 0
      },
      "text/plain": [
       "IntProgress(value=0, description='Processing: ', max=25)"
      ]
     },
     "metadata": {},
     "output_type": "display_data"
    },
    {
     "data": {
      "application/vnd.jupyter.widget-view+json": {
       "model_id": "4637bdbf24f64c3da1386b7eaf372ad6",
       "version_major": 2,
       "version_minor": 0
      },
      "text/plain": [
       "Output()"
      ]
     },
     "metadata": {},
     "output_type": "display_data"
    },
    {
     "data": {
      "text/html": [
       "        <script type=\"text/javascript\">\n",
       "        window.PlotlyConfig = {MathJaxConfig: 'local'};\n",
       "        if (window.MathJax) {MathJax.Hub.Config({SVG: {font: \"STIX-Web\"}});}\n",
       "        if (typeof require !== 'undefined') {\n",
       "        require.undef(\"plotly\");\n",
       "        requirejs.config({\n",
       "            paths: {\n",
       "                'plotly': ['https://cdn.plot.ly/plotly-latest.min']\n",
       "            }\n",
       "        });\n",
       "        require(['plotly'], function(Plotly) {\n",
       "            window._Plotly = Plotly;\n",
       "        });\n",
       "        }\n",
       "        </script>\n",
       "        "
      ]
     },
     "metadata": {},
     "output_type": "display_data"
    },
    {
     "data": {
      "application/vnd.plotly.v1+json": {
       "config": {
        "plotlyServerURL": "https://plot.ly"
       },
       "data": [
        {
         "hovertemplate": "Metric=Coherence<br># Topics=%{x}<br>Score=%{y}<extra></extra>",
         "legendgroup": "Coherence",
         "line": {
          "color": "#636efa",
          "dash": "solid",
          "shape": "linear"
         },
         "mode": "lines",
         "name": "Coherence",
         "orientation": "v",
         "showlegend": true,
         "type": "scatter",
         "x": [
          2,
          4,
          8,
          16,
          32,
          64,
          100,
          200,
          300,
          400
         ],
         "xaxis": "x",
         "y": [
          0.46274395606422447,
          0.4281722631119847,
          0.5604251863987582,
          0.6922347888914651,
          0.6793187301868602,
          0.671508644766157,
          0.6427243257485852,
          0.6419901342711849,
          0.632675270355553,
          0.6251320207367342
         ],
         "yaxis": "y"
        }
       ],
       "layout": {
        "legend": {
         "title": {
          "text": "Metric"
         },
         "tracegroupgap": 0
        },
        "plot_bgcolor": "rgb(245,245,245)",
        "template": {
         "data": {
          "bar": [
           {
            "error_x": {
             "color": "#2a3f5f"
            },
            "error_y": {
             "color": "#2a3f5f"
            },
            "marker": {
             "line": {
              "color": "#E5ECF6",
              "width": 0.5
             }
            },
            "type": "bar"
           }
          ],
          "barpolar": [
           {
            "marker": {
             "line": {
              "color": "#E5ECF6",
              "width": 0.5
             }
            },
            "type": "barpolar"
           }
          ],
          "carpet": [
           {
            "aaxis": {
             "endlinecolor": "#2a3f5f",
             "gridcolor": "white",
             "linecolor": "white",
             "minorgridcolor": "white",
             "startlinecolor": "#2a3f5f"
            },
            "baxis": {
             "endlinecolor": "#2a3f5f",
             "gridcolor": "white",
             "linecolor": "white",
             "minorgridcolor": "white",
             "startlinecolor": "#2a3f5f"
            },
            "type": "carpet"
           }
          ],
          "choropleth": [
           {
            "colorbar": {
             "outlinewidth": 0,
             "ticks": ""
            },
            "type": "choropleth"
           }
          ],
          "contour": [
           {
            "colorbar": {
             "outlinewidth": 0,
             "ticks": ""
            },
            "colorscale": [
             [
              0,
              "#0d0887"
             ],
             [
              0.1111111111111111,
              "#46039f"
             ],
             [
              0.2222222222222222,
              "#7201a8"
             ],
             [
              0.3333333333333333,
              "#9c179e"
             ],
             [
              0.4444444444444444,
              "#bd3786"
             ],
             [
              0.5555555555555556,
              "#d8576b"
             ],
             [
              0.6666666666666666,
              "#ed7953"
             ],
             [
              0.7777777777777778,
              "#fb9f3a"
             ],
             [
              0.8888888888888888,
              "#fdca26"
             ],
             [
              1,
              "#f0f921"
             ]
            ],
            "type": "contour"
           }
          ],
          "contourcarpet": [
           {
            "colorbar": {
             "outlinewidth": 0,
             "ticks": ""
            },
            "type": "contourcarpet"
           }
          ],
          "heatmap": [
           {
            "colorbar": {
             "outlinewidth": 0,
             "ticks": ""
            },
            "colorscale": [
             [
              0,
              "#0d0887"
             ],
             [
              0.1111111111111111,
              "#46039f"
             ],
             [
              0.2222222222222222,
              "#7201a8"
             ],
             [
              0.3333333333333333,
              "#9c179e"
             ],
             [
              0.4444444444444444,
              "#bd3786"
             ],
             [
              0.5555555555555556,
              "#d8576b"
             ],
             [
              0.6666666666666666,
              "#ed7953"
             ],
             [
              0.7777777777777778,
              "#fb9f3a"
             ],
             [
              0.8888888888888888,
              "#fdca26"
             ],
             [
              1,
              "#f0f921"
             ]
            ],
            "type": "heatmap"
           }
          ],
          "heatmapgl": [
           {
            "colorbar": {
             "outlinewidth": 0,
             "ticks": ""
            },
            "colorscale": [
             [
              0,
              "#0d0887"
             ],
             [
              0.1111111111111111,
              "#46039f"
             ],
             [
              0.2222222222222222,
              "#7201a8"
             ],
             [
              0.3333333333333333,
              "#9c179e"
             ],
             [
              0.4444444444444444,
              "#bd3786"
             ],
             [
              0.5555555555555556,
              "#d8576b"
             ],
             [
              0.6666666666666666,
              "#ed7953"
             ],
             [
              0.7777777777777778,
              "#fb9f3a"
             ],
             [
              0.8888888888888888,
              "#fdca26"
             ],
             [
              1,
              "#f0f921"
             ]
            ],
            "type": "heatmapgl"
           }
          ],
          "histogram": [
           {
            "marker": {
             "colorbar": {
              "outlinewidth": 0,
              "ticks": ""
             }
            },
            "type": "histogram"
           }
          ],
          "histogram2d": [
           {
            "colorbar": {
             "outlinewidth": 0,
             "ticks": ""
            },
            "colorscale": [
             [
              0,
              "#0d0887"
             ],
             [
              0.1111111111111111,
              "#46039f"
             ],
             [
              0.2222222222222222,
              "#7201a8"
             ],
             [
              0.3333333333333333,
              "#9c179e"
             ],
             [
              0.4444444444444444,
              "#bd3786"
             ],
             [
              0.5555555555555556,
              "#d8576b"
             ],
             [
              0.6666666666666666,
              "#ed7953"
             ],
             [
              0.7777777777777778,
              "#fb9f3a"
             ],
             [
              0.8888888888888888,
              "#fdca26"
             ],
             [
              1,
              "#f0f921"
             ]
            ],
            "type": "histogram2d"
           }
          ],
          "histogram2dcontour": [
           {
            "colorbar": {
             "outlinewidth": 0,
             "ticks": ""
            },
            "colorscale": [
             [
              0,
              "#0d0887"
             ],
             [
              0.1111111111111111,
              "#46039f"
             ],
             [
              0.2222222222222222,
              "#7201a8"
             ],
             [
              0.3333333333333333,
              "#9c179e"
             ],
             [
              0.4444444444444444,
              "#bd3786"
             ],
             [
              0.5555555555555556,
              "#d8576b"
             ],
             [
              0.6666666666666666,
              "#ed7953"
             ],
             [
              0.7777777777777778,
              "#fb9f3a"
             ],
             [
              0.8888888888888888,
              "#fdca26"
             ],
             [
              1,
              "#f0f921"
             ]
            ],
            "type": "histogram2dcontour"
           }
          ],
          "mesh3d": [
           {
            "colorbar": {
             "outlinewidth": 0,
             "ticks": ""
            },
            "type": "mesh3d"
           }
          ],
          "parcoords": [
           {
            "line": {
             "colorbar": {
              "outlinewidth": 0,
              "ticks": ""
             }
            },
            "type": "parcoords"
           }
          ],
          "pie": [
           {
            "automargin": true,
            "type": "pie"
           }
          ],
          "scatter": [
           {
            "marker": {
             "colorbar": {
              "outlinewidth": 0,
              "ticks": ""
             }
            },
            "type": "scatter"
           }
          ],
          "scatter3d": [
           {
            "line": {
             "colorbar": {
              "outlinewidth": 0,
              "ticks": ""
             }
            },
            "marker": {
             "colorbar": {
              "outlinewidth": 0,
              "ticks": ""
             }
            },
            "type": "scatter3d"
           }
          ],
          "scattercarpet": [
           {
            "marker": {
             "colorbar": {
              "outlinewidth": 0,
              "ticks": ""
             }
            },
            "type": "scattercarpet"
           }
          ],
          "scattergeo": [
           {
            "marker": {
             "colorbar": {
              "outlinewidth": 0,
              "ticks": ""
             }
            },
            "type": "scattergeo"
           }
          ],
          "scattergl": [
           {
            "marker": {
             "colorbar": {
              "outlinewidth": 0,
              "ticks": ""
             }
            },
            "type": "scattergl"
           }
          ],
          "scattermapbox": [
           {
            "marker": {
             "colorbar": {
              "outlinewidth": 0,
              "ticks": ""
             }
            },
            "type": "scattermapbox"
           }
          ],
          "scatterpolar": [
           {
            "marker": {
             "colorbar": {
              "outlinewidth": 0,
              "ticks": ""
             }
            },
            "type": "scatterpolar"
           }
          ],
          "scatterpolargl": [
           {
            "marker": {
             "colorbar": {
              "outlinewidth": 0,
              "ticks": ""
             }
            },
            "type": "scatterpolargl"
           }
          ],
          "scatterternary": [
           {
            "marker": {
             "colorbar": {
              "outlinewidth": 0,
              "ticks": ""
             }
            },
            "type": "scatterternary"
           }
          ],
          "surface": [
           {
            "colorbar": {
             "outlinewidth": 0,
             "ticks": ""
            },
            "colorscale": [
             [
              0,
              "#0d0887"
             ],
             [
              0.1111111111111111,
              "#46039f"
             ],
             [
              0.2222222222222222,
              "#7201a8"
             ],
             [
              0.3333333333333333,
              "#9c179e"
             ],
             [
              0.4444444444444444,
              "#bd3786"
             ],
             [
              0.5555555555555556,
              "#d8576b"
             ],
             [
              0.6666666666666666,
              "#ed7953"
             ],
             [
              0.7777777777777778,
              "#fb9f3a"
             ],
             [
              0.8888888888888888,
              "#fdca26"
             ],
             [
              1,
              "#f0f921"
             ]
            ],
            "type": "surface"
           }
          ],
          "table": [
           {
            "cells": {
             "fill": {
              "color": "#EBF0F8"
             },
             "line": {
              "color": "white"
             }
            },
            "header": {
             "fill": {
              "color": "#C8D4E3"
             },
             "line": {
              "color": "white"
             }
            },
            "type": "table"
           }
          ]
         },
         "layout": {
          "annotationdefaults": {
           "arrowcolor": "#2a3f5f",
           "arrowhead": 0,
           "arrowwidth": 1
          },
          "coloraxis": {
           "colorbar": {
            "outlinewidth": 0,
            "ticks": ""
           }
          },
          "colorscale": {
           "diverging": [
            [
             0,
             "#8e0152"
            ],
            [
             0.1,
             "#c51b7d"
            ],
            [
             0.2,
             "#de77ae"
            ],
            [
             0.3,
             "#f1b6da"
            ],
            [
             0.4,
             "#fde0ef"
            ],
            [
             0.5,
             "#f7f7f7"
            ],
            [
             0.6,
             "#e6f5d0"
            ],
            [
             0.7,
             "#b8e186"
            ],
            [
             0.8,
             "#7fbc41"
            ],
            [
             0.9,
             "#4d9221"
            ],
            [
             1,
             "#276419"
            ]
           ],
           "sequential": [
            [
             0,
             "#0d0887"
            ],
            [
             0.1111111111111111,
             "#46039f"
            ],
            [
             0.2222222222222222,
             "#7201a8"
            ],
            [
             0.3333333333333333,
             "#9c179e"
            ],
            [
             0.4444444444444444,
             "#bd3786"
            ],
            [
             0.5555555555555556,
             "#d8576b"
            ],
            [
             0.6666666666666666,
             "#ed7953"
            ],
            [
             0.7777777777777778,
             "#fb9f3a"
            ],
            [
             0.8888888888888888,
             "#fdca26"
            ],
            [
             1,
             "#f0f921"
            ]
           ],
           "sequentialminus": [
            [
             0,
             "#0d0887"
            ],
            [
             0.1111111111111111,
             "#46039f"
            ],
            [
             0.2222222222222222,
             "#7201a8"
            ],
            [
             0.3333333333333333,
             "#9c179e"
            ],
            [
             0.4444444444444444,
             "#bd3786"
            ],
            [
             0.5555555555555556,
             "#d8576b"
            ],
            [
             0.6666666666666666,
             "#ed7953"
            ],
            [
             0.7777777777777778,
             "#fb9f3a"
            ],
            [
             0.8888888888888888,
             "#fdca26"
            ],
            [
             1,
             "#f0f921"
            ]
           ]
          },
          "colorway": [
           "#636efa",
           "#EF553B",
           "#00cc96",
           "#ab63fa",
           "#FFA15A",
           "#19d3f3",
           "#FF6692",
           "#B6E880",
           "#FF97FF",
           "#FECB52"
          ],
          "font": {
           "color": "#2a3f5f"
          },
          "geo": {
           "bgcolor": "white",
           "lakecolor": "white",
           "landcolor": "#E5ECF6",
           "showlakes": true,
           "showland": true,
           "subunitcolor": "white"
          },
          "hoverlabel": {
           "align": "left"
          },
          "hovermode": "closest",
          "mapbox": {
           "style": "light"
          },
          "paper_bgcolor": "white",
          "plot_bgcolor": "#E5ECF6",
          "polar": {
           "angularaxis": {
            "gridcolor": "white",
            "linecolor": "white",
            "ticks": ""
           },
           "bgcolor": "#E5ECF6",
           "radialaxis": {
            "gridcolor": "white",
            "linecolor": "white",
            "ticks": ""
           }
          },
          "scene": {
           "xaxis": {
            "backgroundcolor": "#E5ECF6",
            "gridcolor": "white",
            "gridwidth": 2,
            "linecolor": "white",
            "showbackground": true,
            "ticks": "",
            "zerolinecolor": "white"
           },
           "yaxis": {
            "backgroundcolor": "#E5ECF6",
            "gridcolor": "white",
            "gridwidth": 2,
            "linecolor": "white",
            "showbackground": true,
            "ticks": "",
            "zerolinecolor": "white"
           },
           "zaxis": {
            "backgroundcolor": "#E5ECF6",
            "gridcolor": "white",
            "gridwidth": 2,
            "linecolor": "white",
            "showbackground": true,
            "ticks": "",
            "zerolinecolor": "white"
           }
          },
          "shapedefaults": {
           "line": {
            "color": "#2a3f5f"
           }
          },
          "ternary": {
           "aaxis": {
            "gridcolor": "white",
            "linecolor": "white",
            "ticks": ""
           },
           "baxis": {
            "gridcolor": "white",
            "linecolor": "white",
            "ticks": ""
           },
           "bgcolor": "#E5ECF6",
           "caxis": {
            "gridcolor": "white",
            "linecolor": "white",
            "ticks": ""
           }
          },
          "title": {
           "x": 0.05
          },
          "xaxis": {
           "automargin": true,
           "gridcolor": "white",
           "linecolor": "white",
           "ticks": "",
           "title": {
            "standoff": 15
           },
           "zerolinecolor": "white",
           "zerolinewidth": 2
          },
          "yaxis": {
           "automargin": true,
           "gridcolor": "white",
           "linecolor": "white",
           "ticks": "",
           "title": {
            "standoff": 15
           },
           "zerolinecolor": "white",
           "zerolinewidth": 2
          }
         }
        },
        "title": {
         "text": "Coherence Value and # of Topics"
        },
        "xaxis": {
         "anchor": "y",
         "domain": [
          0,
          1
         ],
         "title": {
          "text": "# Topics"
         }
        },
        "yaxis": {
         "anchor": "x",
         "domain": [
          0,
          1
         ],
         "title": {
          "text": "Score"
         }
        }
       }
      },
      "text/html": [
       "<div>\n",
       "        \n",
       "        \n",
       "            <div id=\"16fe3103-70a7-44bb-a1ca-74fb54e5a9e0\" class=\"plotly-graph-div\" style=\"height:525px; width:100%;\"></div>\n",
       "            <script type=\"text/javascript\">\n",
       "                require([\"plotly\"], function(Plotly) {\n",
       "                    window.PLOTLYENV=window.PLOTLYENV || {};\n",
       "                    \n",
       "                if (document.getElementById(\"16fe3103-70a7-44bb-a1ca-74fb54e5a9e0\")) {\n",
       "                    Plotly.newPlot(\n",
       "                        '16fe3103-70a7-44bb-a1ca-74fb54e5a9e0',\n",
       "                        [{\"hovertemplate\": \"Metric=Coherence<br># Topics=%{x}<br>Score=%{y}<extra></extra>\", \"legendgroup\": \"Coherence\", \"line\": {\"color\": \"#636efa\", \"dash\": \"solid\", \"shape\": \"linear\"}, \"mode\": \"lines\", \"name\": \"Coherence\", \"orientation\": \"v\", \"showlegend\": true, \"type\": \"scatter\", \"x\": [2, 4, 8, 16, 32, 64, 100, 200, 300, 400], \"xaxis\": \"x\", \"y\": [0.46274395606422447, 0.4281722631119847, 0.5604251863987582, 0.6922347888914651, 0.6793187301868602, 0.671508644766157, 0.6427243257485852, 0.6419901342711849, 0.632675270355553, 0.6251320207367342], \"yaxis\": \"y\"}],\n",
       "                        {\"legend\": {\"title\": {\"text\": \"Metric\"}, \"tracegroupgap\": 0}, \"plot_bgcolor\": \"rgb(245,245,245)\", \"template\": {\"data\": {\"bar\": [{\"error_x\": {\"color\": \"#2a3f5f\"}, \"error_y\": {\"color\": \"#2a3f5f\"}, \"marker\": {\"line\": {\"color\": \"#E5ECF6\", \"width\": 0.5}}, \"type\": \"bar\"}], \"barpolar\": [{\"marker\": {\"line\": {\"color\": \"#E5ECF6\", \"width\": 0.5}}, \"type\": \"barpolar\"}], \"carpet\": [{\"aaxis\": {\"endlinecolor\": \"#2a3f5f\", \"gridcolor\": \"white\", \"linecolor\": \"white\", \"minorgridcolor\": \"white\", \"startlinecolor\": \"#2a3f5f\"}, \"baxis\": {\"endlinecolor\": \"#2a3f5f\", \"gridcolor\": \"white\", \"linecolor\": \"white\", \"minorgridcolor\": \"white\", \"startlinecolor\": \"#2a3f5f\"}, \"type\": \"carpet\"}], \"choropleth\": [{\"colorbar\": {\"outlinewidth\": 0, \"ticks\": \"\"}, \"type\": \"choropleth\"}], \"contour\": [{\"colorbar\": {\"outlinewidth\": 0, \"ticks\": \"\"}, \"colorscale\": [[0.0, \"#0d0887\"], [0.1111111111111111, \"#46039f\"], [0.2222222222222222, \"#7201a8\"], [0.3333333333333333, \"#9c179e\"], [0.4444444444444444, \"#bd3786\"], [0.5555555555555556, \"#d8576b\"], [0.6666666666666666, \"#ed7953\"], [0.7777777777777778, \"#fb9f3a\"], [0.8888888888888888, \"#fdca26\"], [1.0, \"#f0f921\"]], \"type\": \"contour\"}], \"contourcarpet\": [{\"colorbar\": {\"outlinewidth\": 0, \"ticks\": \"\"}, \"type\": \"contourcarpet\"}], \"heatmap\": [{\"colorbar\": {\"outlinewidth\": 0, \"ticks\": \"\"}, \"colorscale\": [[0.0, \"#0d0887\"], [0.1111111111111111, \"#46039f\"], [0.2222222222222222, \"#7201a8\"], [0.3333333333333333, \"#9c179e\"], [0.4444444444444444, \"#bd3786\"], [0.5555555555555556, \"#d8576b\"], [0.6666666666666666, \"#ed7953\"], [0.7777777777777778, \"#fb9f3a\"], [0.8888888888888888, \"#fdca26\"], [1.0, \"#f0f921\"]], \"type\": \"heatmap\"}], \"heatmapgl\": [{\"colorbar\": {\"outlinewidth\": 0, \"ticks\": \"\"}, \"colorscale\": [[0.0, \"#0d0887\"], [0.1111111111111111, \"#46039f\"], [0.2222222222222222, \"#7201a8\"], [0.3333333333333333, \"#9c179e\"], [0.4444444444444444, \"#bd3786\"], [0.5555555555555556, \"#d8576b\"], [0.6666666666666666, \"#ed7953\"], [0.7777777777777778, \"#fb9f3a\"], [0.8888888888888888, \"#fdca26\"], [1.0, \"#f0f921\"]], \"type\": \"heatmapgl\"}], \"histogram\": [{\"marker\": {\"colorbar\": {\"outlinewidth\": 0, \"ticks\": \"\"}}, \"type\": \"histogram\"}], \"histogram2d\": [{\"colorbar\": {\"outlinewidth\": 0, \"ticks\": \"\"}, \"colorscale\": [[0.0, \"#0d0887\"], [0.1111111111111111, \"#46039f\"], [0.2222222222222222, \"#7201a8\"], [0.3333333333333333, \"#9c179e\"], [0.4444444444444444, \"#bd3786\"], [0.5555555555555556, \"#d8576b\"], [0.6666666666666666, \"#ed7953\"], [0.7777777777777778, \"#fb9f3a\"], [0.8888888888888888, \"#fdca26\"], [1.0, \"#f0f921\"]], \"type\": \"histogram2d\"}], \"histogram2dcontour\": [{\"colorbar\": {\"outlinewidth\": 0, \"ticks\": \"\"}, \"colorscale\": [[0.0, \"#0d0887\"], [0.1111111111111111, \"#46039f\"], [0.2222222222222222, \"#7201a8\"], [0.3333333333333333, \"#9c179e\"], [0.4444444444444444, \"#bd3786\"], [0.5555555555555556, \"#d8576b\"], [0.6666666666666666, \"#ed7953\"], [0.7777777777777778, \"#fb9f3a\"], [0.8888888888888888, \"#fdca26\"], [1.0, \"#f0f921\"]], \"type\": \"histogram2dcontour\"}], \"mesh3d\": [{\"colorbar\": {\"outlinewidth\": 0, \"ticks\": \"\"}, \"type\": \"mesh3d\"}], \"parcoords\": [{\"line\": {\"colorbar\": {\"outlinewidth\": 0, \"ticks\": \"\"}}, \"type\": \"parcoords\"}], \"pie\": [{\"automargin\": true, \"type\": \"pie\"}], \"scatter\": [{\"marker\": {\"colorbar\": {\"outlinewidth\": 0, \"ticks\": \"\"}}, \"type\": \"scatter\"}], \"scatter3d\": [{\"line\": {\"colorbar\": {\"outlinewidth\": 0, \"ticks\": \"\"}}, \"marker\": {\"colorbar\": {\"outlinewidth\": 0, \"ticks\": \"\"}}, \"type\": \"scatter3d\"}], \"scattercarpet\": [{\"marker\": {\"colorbar\": {\"outlinewidth\": 0, \"ticks\": \"\"}}, \"type\": \"scattercarpet\"}], \"scattergeo\": [{\"marker\": {\"colorbar\": {\"outlinewidth\": 0, \"ticks\": \"\"}}, \"type\": \"scattergeo\"}], \"scattergl\": [{\"marker\": {\"colorbar\": {\"outlinewidth\": 0, \"ticks\": \"\"}}, \"type\": \"scattergl\"}], \"scattermapbox\": [{\"marker\": {\"colorbar\": {\"outlinewidth\": 0, \"ticks\": \"\"}}, \"type\": \"scattermapbox\"}], \"scatterpolar\": [{\"marker\": {\"colorbar\": {\"outlinewidth\": 0, \"ticks\": \"\"}}, \"type\": \"scatterpolar\"}], \"scatterpolargl\": [{\"marker\": {\"colorbar\": {\"outlinewidth\": 0, \"ticks\": \"\"}}, \"type\": \"scatterpolargl\"}], \"scatterternary\": [{\"marker\": {\"colorbar\": {\"outlinewidth\": 0, \"ticks\": \"\"}}, \"type\": \"scatterternary\"}], \"surface\": [{\"colorbar\": {\"outlinewidth\": 0, \"ticks\": \"\"}, \"colorscale\": [[0.0, \"#0d0887\"], [0.1111111111111111, \"#46039f\"], [0.2222222222222222, \"#7201a8\"], [0.3333333333333333, \"#9c179e\"], [0.4444444444444444, \"#bd3786\"], [0.5555555555555556, \"#d8576b\"], [0.6666666666666666, \"#ed7953\"], [0.7777777777777778, \"#fb9f3a\"], [0.8888888888888888, \"#fdca26\"], [1.0, \"#f0f921\"]], \"type\": \"surface\"}], \"table\": [{\"cells\": {\"fill\": {\"color\": \"#EBF0F8\"}, \"line\": {\"color\": \"white\"}}, \"header\": {\"fill\": {\"color\": \"#C8D4E3\"}, \"line\": {\"color\": \"white\"}}, \"type\": \"table\"}]}, \"layout\": {\"annotationdefaults\": {\"arrowcolor\": \"#2a3f5f\", \"arrowhead\": 0, \"arrowwidth\": 1}, \"coloraxis\": {\"colorbar\": {\"outlinewidth\": 0, \"ticks\": \"\"}}, \"colorscale\": {\"diverging\": [[0, \"#8e0152\"], [0.1, \"#c51b7d\"], [0.2, \"#de77ae\"], [0.3, \"#f1b6da\"], [0.4, \"#fde0ef\"], [0.5, \"#f7f7f7\"], [0.6, \"#e6f5d0\"], [0.7, \"#b8e186\"], [0.8, \"#7fbc41\"], [0.9, \"#4d9221\"], [1, \"#276419\"]], \"sequential\": [[0.0, \"#0d0887\"], [0.1111111111111111, \"#46039f\"], [0.2222222222222222, \"#7201a8\"], [0.3333333333333333, \"#9c179e\"], [0.4444444444444444, \"#bd3786\"], [0.5555555555555556, \"#d8576b\"], [0.6666666666666666, \"#ed7953\"], [0.7777777777777778, \"#fb9f3a\"], [0.8888888888888888, \"#fdca26\"], [1.0, \"#f0f921\"]], \"sequentialminus\": [[0.0, \"#0d0887\"], [0.1111111111111111, \"#46039f\"], [0.2222222222222222, \"#7201a8\"], [0.3333333333333333, \"#9c179e\"], [0.4444444444444444, \"#bd3786\"], [0.5555555555555556, \"#d8576b\"], [0.6666666666666666, \"#ed7953\"], [0.7777777777777778, \"#fb9f3a\"], [0.8888888888888888, \"#fdca26\"], [1.0, \"#f0f921\"]]}, \"colorway\": [\"#636efa\", \"#EF553B\", \"#00cc96\", \"#ab63fa\", \"#FFA15A\", \"#19d3f3\", \"#FF6692\", \"#B6E880\", \"#FF97FF\", \"#FECB52\"], \"font\": {\"color\": \"#2a3f5f\"}, \"geo\": {\"bgcolor\": \"white\", \"lakecolor\": \"white\", \"landcolor\": \"#E5ECF6\", \"showlakes\": true, \"showland\": true, \"subunitcolor\": \"white\"}, \"hoverlabel\": {\"align\": \"left\"}, \"hovermode\": \"closest\", \"mapbox\": {\"style\": \"light\"}, \"paper_bgcolor\": \"white\", \"plot_bgcolor\": \"#E5ECF6\", \"polar\": {\"angularaxis\": {\"gridcolor\": \"white\", \"linecolor\": \"white\", \"ticks\": \"\"}, \"bgcolor\": \"#E5ECF6\", \"radialaxis\": {\"gridcolor\": \"white\", \"linecolor\": \"white\", \"ticks\": \"\"}}, \"scene\": {\"xaxis\": {\"backgroundcolor\": \"#E5ECF6\", \"gridcolor\": \"white\", \"gridwidth\": 2, \"linecolor\": \"white\", \"showbackground\": true, \"ticks\": \"\", \"zerolinecolor\": \"white\"}, \"yaxis\": {\"backgroundcolor\": \"#E5ECF6\", \"gridcolor\": \"white\", \"gridwidth\": 2, \"linecolor\": \"white\", \"showbackground\": true, \"ticks\": \"\", \"zerolinecolor\": \"white\"}, \"zaxis\": {\"backgroundcolor\": \"#E5ECF6\", \"gridcolor\": \"white\", \"gridwidth\": 2, \"linecolor\": \"white\", \"showbackground\": true, \"ticks\": \"\", \"zerolinecolor\": \"white\"}}, \"shapedefaults\": {\"line\": {\"color\": \"#2a3f5f\"}}, \"ternary\": {\"aaxis\": {\"gridcolor\": \"white\", \"linecolor\": \"white\", \"ticks\": \"\"}, \"baxis\": {\"gridcolor\": \"white\", \"linecolor\": \"white\", \"ticks\": \"\"}, \"bgcolor\": \"#E5ECF6\", \"caxis\": {\"gridcolor\": \"white\", \"linecolor\": \"white\", \"ticks\": \"\"}}, \"title\": {\"x\": 0.05}, \"xaxis\": {\"automargin\": true, \"gridcolor\": \"white\", \"linecolor\": \"white\", \"ticks\": \"\", \"title\": {\"standoff\": 15}, \"zerolinecolor\": \"white\", \"zerolinewidth\": 2}, \"yaxis\": {\"automargin\": true, \"gridcolor\": \"white\", \"linecolor\": \"white\", \"ticks\": \"\", \"title\": {\"standoff\": 15}, \"zerolinecolor\": \"white\", \"zerolinewidth\": 2}}}, \"title\": {\"text\": \"Coherence Value and # of Topics\"}, \"xaxis\": {\"anchor\": \"y\", \"domain\": [0.0, 1.0], \"title\": {\"text\": \"# Topics\"}}, \"yaxis\": {\"anchor\": \"x\", \"domain\": [0.0, 1.0], \"title\": {\"text\": \"Score\"}}},\n",
       "                        {\"responsive\": true}\n",
       "                    ).then(function(){\n",
       "                            \n",
       "var gd = document.getElementById('16fe3103-70a7-44bb-a1ca-74fb54e5a9e0');\n",
       "var x = new MutationObserver(function (mutations, observer) {{\n",
       "        var display = window.getComputedStyle(gd).display;\n",
       "        if (!display || display === 'none') {{\n",
       "            console.log([gd, 'removed!']);\n",
       "            Plotly.purge(gd);\n",
       "            observer.disconnect();\n",
       "        }}\n",
       "}});\n",
       "\n",
       "// Listen for the removal of the full notebook cells\n",
       "var notebookContainer = gd.closest('#notebook-container');\n",
       "if (notebookContainer) {{\n",
       "    x.observe(notebookContainer, {childList: true});\n",
       "}}\n",
       "\n",
       "// Listen for the clearing of the current output cell\n",
       "var outputEl = gd.closest('.output');\n",
       "if (outputEl) {{\n",
       "    x.observe(outputEl, {childList: true});\n",
       "}}\n",
       "\n",
       "                        })\n",
       "                };\n",
       "                });\n",
       "            </script>\n",
       "        </div>"
      ]
     },
     "metadata": {},
     "output_type": "display_data"
    },
    {
     "name": "stdout",
     "output_type": "stream",
     "text": [
      "Best Model: Latent Dirichlet Allocation | # Topics: 16 | Coherence: 0.6922\n"
     ]
    }
   ],
   "source": [
    "tune_lda_negative = tune_model(model='lda', supervised_target=None, estimator='xgboost')"
   ]
  },
  {
   "cell_type": "code",
   "execution_count": 30,
   "metadata": {},
   "outputs": [
    {
     "name": "stdout",
     "output_type": "stream",
     "text": [
      "LdaModel(num_terms=334, num_topics=2, decay=0.5, chunksize=100)\n"
     ]
    }
   ],
   "source": [
    "lda_neg_tuned = create_model('lda', num_topics=2)\n",
    "print(lda_neg_tuned)"
   ]
  },
  {
   "cell_type": "code",
   "execution_count": 31,
   "metadata": {},
   "outputs": [
    {
     "data": {
      "text/html": [
       "<div>\n",
       "<style scoped>\n",
       "    .dataframe tbody tr th:only-of-type {\n",
       "        vertical-align: middle;\n",
       "    }\n",
       "\n",
       "    .dataframe tbody tr th {\n",
       "        vertical-align: top;\n",
       "    }\n",
       "\n",
       "    .dataframe thead th {\n",
       "        text-align: right;\n",
       "    }\n",
       "</style>\n",
       "<table border=\"1\" class=\"dataframe\">\n",
       "  <thead>\n",
       "    <tr style=\"text-align: right;\">\n",
       "      <th></th>\n",
       "      <th>r_points</th>\n",
       "      <th>r_text</th>\n",
       "      <th>place</th>\n",
       "      <th>scores</th>\n",
       "      <th>compound</th>\n",
       "      <th>score</th>\n",
       "      <th>Topic_0</th>\n",
       "      <th>Topic_1</th>\n",
       "      <th>Dominant_Topic</th>\n",
       "      <th>Perc_Dominant_Topic</th>\n",
       "    </tr>\n",
       "  </thead>\n",
       "  <tbody>\n",
       "    <tr>\n",
       "      <th>0</th>\n",
       "      <td>NaN</td>\n",
       "      <td>NaN</td>\n",
       "      <td>NaN</td>\n",
       "      <td>NaN</td>\n",
       "      <td>NaN</td>\n",
       "      <td>NaN</td>\n",
       "      <td>0.997523</td>\n",
       "      <td>0.002476</td>\n",
       "      <td>Topic 0</td>\n",
       "      <td>1.00</td>\n",
       "    </tr>\n",
       "    <tr>\n",
       "      <th>1</th>\n",
       "      <td>10.0</td>\n",
       "      <td>stay loud music noisy traffic motorcycle scree...</td>\n",
       "      <td>Europa Plaza Hotel</td>\n",
       "      <td>{'neg': 0.151, 'neu': 0.778, 'pos': 0.071, 'co...</td>\n",
       "      <td>-0.6908</td>\n",
       "      <td>neg</td>\n",
       "      <td>0.004254</td>\n",
       "      <td>0.995746</td>\n",
       "      <td>Topic 1</td>\n",
       "      <td>1.00</td>\n",
       "    </tr>\n",
       "    <tr>\n",
       "      <th>2</th>\n",
       "      <td>10.0</td>\n",
       "      <td>receptionist want experience go head try peopl...</td>\n",
       "      <td>Europa Plaza Hotel</td>\n",
       "      <td>{'neg': 0.197, 'neu': 0.663, 'pos': 0.141, 'co...</td>\n",
       "      <td>-0.7150</td>\n",
       "      <td>neg</td>\n",
       "      <td>0.998887</td>\n",
       "      <td>0.001113</td>\n",
       "      <td>Topic 0</td>\n",
       "      <td>1.00</td>\n",
       "    </tr>\n",
       "    <tr>\n",
       "      <th>3</th>\n",
       "      <td>20.0</td>\n",
       "      <td>many thing report unfortunately late night arr...</td>\n",
       "      <td>Europa Plaza Hotel</td>\n",
       "      <td>{'neg': 0.081, 'neu': 0.902, 'pos': 0.017, 'co...</td>\n",
       "      <td>-0.7168</td>\n",
       "      <td>neg</td>\n",
       "      <td>0.004955</td>\n",
       "      <td>0.995045</td>\n",
       "      <td>Topic 1</td>\n",
       "      <td>1.00</td>\n",
       "    </tr>\n",
       "    <tr>\n",
       "      <th>4</th>\n",
       "      <td>NaN</td>\n",
       "      <td>NaN</td>\n",
       "      <td>NaN</td>\n",
       "      <td>NaN</td>\n",
       "      <td>NaN</td>\n",
       "      <td>NaN</td>\n",
       "      <td>0.000577</td>\n",
       "      <td>0.999423</td>\n",
       "      <td>Topic 1</td>\n",
       "      <td>1.00</td>\n",
       "    </tr>\n",
       "    <tr>\n",
       "      <th>5</th>\n",
       "      <td>10.0</td>\n",
       "      <td>book conference suggest dirty carpet remaining...</td>\n",
       "      <td>Europa Plaza Hotel</td>\n",
       "      <td>{'neg': 0.083, 'neu': 0.917, 'pos': 0.0, 'comp...</td>\n",
       "      <td>-0.4404</td>\n",
       "      <td>neg</td>\n",
       "      <td>0.002985</td>\n",
       "      <td>0.997015</td>\n",
       "      <td>Topic 1</td>\n",
       "      <td>1.00</td>\n",
       "    </tr>\n",
       "    <tr>\n",
       "      <th>6</th>\n",
       "      <td>NaN</td>\n",
       "      <td>NaN</td>\n",
       "      <td>NaN</td>\n",
       "      <td>NaN</td>\n",
       "      <td>NaN</td>\n",
       "      <td>NaN</td>\n",
       "      <td>0.005934</td>\n",
       "      <td>0.994066</td>\n",
       "      <td>Topic 1</td>\n",
       "      <td>0.99</td>\n",
       "    </tr>\n",
       "    <tr>\n",
       "      <th>7</th>\n",
       "      <td>NaN</td>\n",
       "      <td>NaN</td>\n",
       "      <td>NaN</td>\n",
       "      <td>NaN</td>\n",
       "      <td>NaN</td>\n",
       "      <td>NaN</td>\n",
       "      <td>0.998464</td>\n",
       "      <td>0.001536</td>\n",
       "      <td>Topic 0</td>\n",
       "      <td>1.00</td>\n",
       "    </tr>\n",
       "    <tr>\n",
       "      <th>8</th>\n",
       "      <td>NaN</td>\n",
       "      <td>NaN</td>\n",
       "      <td>NaN</td>\n",
       "      <td>NaN</td>\n",
       "      <td>NaN</td>\n",
       "      <td>NaN</td>\n",
       "      <td>0.997700</td>\n",
       "      <td>0.002300</td>\n",
       "      <td>Topic 0</td>\n",
       "      <td>1.00</td>\n",
       "    </tr>\n",
       "    <tr>\n",
       "      <th>9</th>\n",
       "      <td>NaN</td>\n",
       "      <td>NaN</td>\n",
       "      <td>NaN</td>\n",
       "      <td>NaN</td>\n",
       "      <td>NaN</td>\n",
       "      <td>NaN</td>\n",
       "      <td>0.004254</td>\n",
       "      <td>0.995746</td>\n",
       "      <td>Topic 1</td>\n",
       "      <td>1.00</td>\n",
       "    </tr>\n",
       "    <tr>\n",
       "      <th>10</th>\n",
       "      <td>20.0</td>\n",
       "      <td>year time disaster always clean tidy service r...</td>\n",
       "      <td>Europa Plaza Hotel</td>\n",
       "      <td>{'neg': 0.117, 'neu': 0.788, 'pos': 0.095, 'co...</td>\n",
       "      <td>-0.8261</td>\n",
       "      <td>neg</td>\n",
       "      <td>0.998906</td>\n",
       "      <td>0.001094</td>\n",
       "      <td>Topic 0</td>\n",
       "      <td>1.00</td>\n",
       "    </tr>\n",
       "    <tr>\n",
       "      <th>11</th>\n",
       "      <td>NaN</td>\n",
       "      <td>NaN</td>\n",
       "      <td>NaN</td>\n",
       "      <td>NaN</td>\n",
       "      <td>NaN</td>\n",
       "      <td>NaN</td>\n",
       "      <td>0.999090</td>\n",
       "      <td>0.000910</td>\n",
       "      <td>Topic 0</td>\n",
       "      <td>1.00</td>\n",
       "    </tr>\n",
       "    <tr>\n",
       "      <th>12</th>\n",
       "      <td>NaN</td>\n",
       "      <td>NaN</td>\n",
       "      <td>NaN</td>\n",
       "      <td>NaN</td>\n",
       "      <td>NaN</td>\n",
       "      <td>NaN</td>\n",
       "      <td>0.004955</td>\n",
       "      <td>0.995045</td>\n",
       "      <td>Topic 1</td>\n",
       "      <td>1.00</td>\n",
       "    </tr>\n",
       "    <tr>\n",
       "      <th>13</th>\n",
       "      <td>10.0</td>\n",
       "      <td>surrounded night club bar loud music busy stre...</td>\n",
       "      <td>Europa Plaza Hotel</td>\n",
       "      <td>{'neg': 0.149, 'neu': 0.851, 'pos': 0.0, 'comp...</td>\n",
       "      <td>-0.7430</td>\n",
       "      <td>neg</td>\n",
       "      <td>NaN</td>\n",
       "      <td>NaN</td>\n",
       "      <td>NaN</td>\n",
       "      <td>NaN</td>\n",
       "    </tr>\n",
       "    <tr>\n",
       "      <th>14</th>\n",
       "      <td>30.0</td>\n",
       "      <td>company book business dinner shower get flood ...</td>\n",
       "      <td>Europa Plaza Hotel</td>\n",
       "      <td>{'neg': 0.106, 'neu': 0.894, 'pos': 0.0, 'comp...</td>\n",
       "      <td>-0.5577</td>\n",
       "      <td>neg</td>\n",
       "      <td>NaN</td>\n",
       "      <td>NaN</td>\n",
       "      <td>NaN</td>\n",
       "      <td>NaN</td>\n",
       "    </tr>\n",
       "    <tr>\n",
       "      <th>39</th>\n",
       "      <td>40.0</td>\n",
       "      <td>second trip time stay thing change great great...</td>\n",
       "      <td>Europa Plaza Hotel</td>\n",
       "      <td>{'neg': 0.136, 'neu': 0.78, 'pos': 0.085, 'com...</td>\n",
       "      <td>-0.7077</td>\n",
       "      <td>neg</td>\n",
       "      <td>NaN</td>\n",
       "      <td>NaN</td>\n",
       "      <td>NaN</td>\n",
       "      <td>NaN</td>\n",
       "    </tr>\n",
       "    <tr>\n",
       "      <th>52</th>\n",
       "      <td>30.0</td>\n",
       "      <td>second time stay clean fair value money choice...</td>\n",
       "      <td>Europa Plaza Hotel</td>\n",
       "      <td>{'neg': 0.07, 'neu': 0.884, 'pos': 0.046, 'com...</td>\n",
       "      <td>-0.2028</td>\n",
       "      <td>neg</td>\n",
       "      <td>NaN</td>\n",
       "      <td>NaN</td>\n",
       "      <td>NaN</td>\n",
       "      <td>NaN</td>\n",
       "    </tr>\n",
       "    <tr>\n",
       "      <th>53</th>\n",
       "      <td>40.0</td>\n",
       "      <td>little budget standard facility luxury city am...</td>\n",
       "      <td>Europa Plaza Hotel</td>\n",
       "      <td>{'neg': 0.063, 'neu': 0.895, 'pos': 0.043, 'co...</td>\n",
       "      <td>-0.2263</td>\n",
       "      <td>neg</td>\n",
       "      <td>NaN</td>\n",
       "      <td>NaN</td>\n",
       "      <td>NaN</td>\n",
       "      <td>NaN</td>\n",
       "    </tr>\n",
       "    <tr>\n",
       "      <th>55</th>\n",
       "      <td>30.0</td>\n",
       "      <td>location make convenient business trip area em...</td>\n",
       "      <td>Europa Plaza Hotel</td>\n",
       "      <td>{'neg': 0.118, 'neu': 0.816, 'pos': 0.065, 'co...</td>\n",
       "      <td>-0.8553</td>\n",
       "      <td>neg</td>\n",
       "      <td>NaN</td>\n",
       "      <td>NaN</td>\n",
       "      <td>NaN</td>\n",
       "      <td>NaN</td>\n",
       "    </tr>\n",
       "    <tr>\n",
       "      <th>60</th>\n",
       "      <td>20.0</td>\n",
       "      <td>stay destination pick attend amenity old fashi...</td>\n",
       "      <td>Europa Plaza Hotel</td>\n",
       "      <td>{'neg': 0.071, 'neu': 0.889, 'pos': 0.039, 'co...</td>\n",
       "      <td>-0.7447</td>\n",
       "      <td>neg</td>\n",
       "      <td>NaN</td>\n",
       "      <td>NaN</td>\n",
       "      <td>NaN</td>\n",
       "      <td>NaN</td>\n",
       "    </tr>\n",
       "    <tr>\n",
       "      <th>62</th>\n",
       "      <td>20.0</td>\n",
       "      <td>bed hard key minibar pay bit strange elevator ...</td>\n",
       "      <td>Europa Plaza Hotel</td>\n",
       "      <td>{'neg': 0.14, 'neu': 0.86, 'pos': 0.0, 'compou...</td>\n",
       "      <td>-0.4391</td>\n",
       "      <td>neg</td>\n",
       "      <td>NaN</td>\n",
       "      <td>NaN</td>\n",
       "      <td>NaN</td>\n",
       "      <td>NaN</td>\n",
       "    </tr>\n",
       "  </tbody>\n",
       "</table>\n",
       "</div>"
      ],
      "text/plain": [
       "    r_points                                             r_text  \\\n",
       "0        NaN                                                NaN   \n",
       "1       10.0  stay loud music noisy traffic motorcycle scree...   \n",
       "2       10.0  receptionist want experience go head try peopl...   \n",
       "3       20.0  many thing report unfortunately late night arr...   \n",
       "4        NaN                                                NaN   \n",
       "5       10.0  book conference suggest dirty carpet remaining...   \n",
       "6        NaN                                                NaN   \n",
       "7        NaN                                                NaN   \n",
       "8        NaN                                                NaN   \n",
       "9        NaN                                                NaN   \n",
       "10      20.0  year time disaster always clean tidy service r...   \n",
       "11       NaN                                                NaN   \n",
       "12       NaN                                                NaN   \n",
       "13      10.0  surrounded night club bar loud music busy stre...   \n",
       "14      30.0  company book business dinner shower get flood ...   \n",
       "39      40.0  second trip time stay thing change great great...   \n",
       "52      30.0  second time stay clean fair value money choice...   \n",
       "53      40.0  little budget standard facility luxury city am...   \n",
       "55      30.0  location make convenient business trip area em...   \n",
       "60      20.0  stay destination pick attend amenity old fashi...   \n",
       "62      20.0  bed hard key minibar pay bit strange elevator ...   \n",
       "\n",
       "                 place                                             scores  \\\n",
       "0                  NaN                                                NaN   \n",
       "1   Europa Plaza Hotel  {'neg': 0.151, 'neu': 0.778, 'pos': 0.071, 'co...   \n",
       "2   Europa Plaza Hotel  {'neg': 0.197, 'neu': 0.663, 'pos': 0.141, 'co...   \n",
       "3   Europa Plaza Hotel  {'neg': 0.081, 'neu': 0.902, 'pos': 0.017, 'co...   \n",
       "4                  NaN                                                NaN   \n",
       "5   Europa Plaza Hotel  {'neg': 0.083, 'neu': 0.917, 'pos': 0.0, 'comp...   \n",
       "6                  NaN                                                NaN   \n",
       "7                  NaN                                                NaN   \n",
       "8                  NaN                                                NaN   \n",
       "9                  NaN                                                NaN   \n",
       "10  Europa Plaza Hotel  {'neg': 0.117, 'neu': 0.788, 'pos': 0.095, 'co...   \n",
       "11                 NaN                                                NaN   \n",
       "12                 NaN                                                NaN   \n",
       "13  Europa Plaza Hotel  {'neg': 0.149, 'neu': 0.851, 'pos': 0.0, 'comp...   \n",
       "14  Europa Plaza Hotel  {'neg': 0.106, 'neu': 0.894, 'pos': 0.0, 'comp...   \n",
       "39  Europa Plaza Hotel  {'neg': 0.136, 'neu': 0.78, 'pos': 0.085, 'com...   \n",
       "52  Europa Plaza Hotel  {'neg': 0.07, 'neu': 0.884, 'pos': 0.046, 'com...   \n",
       "53  Europa Plaza Hotel  {'neg': 0.063, 'neu': 0.895, 'pos': 0.043, 'co...   \n",
       "55  Europa Plaza Hotel  {'neg': 0.118, 'neu': 0.816, 'pos': 0.065, 'co...   \n",
       "60  Europa Plaza Hotel  {'neg': 0.071, 'neu': 0.889, 'pos': 0.039, 'co...   \n",
       "62  Europa Plaza Hotel  {'neg': 0.14, 'neu': 0.86, 'pos': 0.0, 'compou...   \n",
       "\n",
       "    compound score   Topic_0   Topic_1 Dominant_Topic  Perc_Dominant_Topic  \n",
       "0        NaN   NaN  0.997523  0.002476        Topic 0                 1.00  \n",
       "1    -0.6908   neg  0.004254  0.995746        Topic 1                 1.00  \n",
       "2    -0.7150   neg  0.998887  0.001113        Topic 0                 1.00  \n",
       "3    -0.7168   neg  0.004955  0.995045        Topic 1                 1.00  \n",
       "4        NaN   NaN  0.000577  0.999423        Topic 1                 1.00  \n",
       "5    -0.4404   neg  0.002985  0.997015        Topic 1                 1.00  \n",
       "6        NaN   NaN  0.005934  0.994066        Topic 1                 0.99  \n",
       "7        NaN   NaN  0.998464  0.001536        Topic 0                 1.00  \n",
       "8        NaN   NaN  0.997700  0.002300        Topic 0                 1.00  \n",
       "9        NaN   NaN  0.004254  0.995746        Topic 1                 1.00  \n",
       "10   -0.8261   neg  0.998906  0.001094        Topic 0                 1.00  \n",
       "11       NaN   NaN  0.999090  0.000910        Topic 0                 1.00  \n",
       "12       NaN   NaN  0.004955  0.995045        Topic 1                 1.00  \n",
       "13   -0.7430   neg       NaN       NaN            NaN                  NaN  \n",
       "14   -0.5577   neg       NaN       NaN            NaN                  NaN  \n",
       "39   -0.7077   neg       NaN       NaN            NaN                  NaN  \n",
       "52   -0.2028   neg       NaN       NaN            NaN                  NaN  \n",
       "53   -0.2263   neg       NaN       NaN            NaN                  NaN  \n",
       "55   -0.8553   neg       NaN       NaN            NaN                  NaN  \n",
       "60   -0.7447   neg       NaN       NaN            NaN                  NaN  \n",
       "62   -0.4391   neg       NaN       NaN            NaN                  NaN  "
      ]
     },
     "execution_count": 31,
     "metadata": {},
     "output_type": "execute_result"
    }
   ],
   "source": [
    "apply_tuned_neg = assign_model(lda_neg_tuned)\n",
    "apply_tuned_neg"
   ]
  },
  {
   "cell_type": "code",
   "execution_count": 32,
   "metadata": {},
   "outputs": [
    {
     "data": {
      "application/vnd.jupyter.widget-view+json": {
       "model_id": "ad907672c8b143588b544630fc03e2c6",
       "version_major": 2,
       "version_minor": 0
      },
      "text/plain": [
       "interactive(children=(ToggleButtons(description='Plot Type:', icons=('',), options=(('Frequency Plot', 'freque…"
      ]
     },
     "metadata": {},
     "output_type": "display_data"
    }
   ],
   "source": [
    "evaluate_model(lda_neg_tuned)"
   ]
  },
  {
   "cell_type": "code",
   "execution_count": 33,
   "metadata": {},
   "outputs": [
    {
     "data": {
      "text/html": [
       "        <script type=\"text/javascript\">\n",
       "        window.PlotlyConfig = {MathJaxConfig: 'local'};\n",
       "        if (window.MathJax) {MathJax.Hub.Config({SVG: {font: \"STIX-Web\"}});}\n",
       "        if (typeof require !== 'undefined') {\n",
       "        require.undef(\"plotly\");\n",
       "        requirejs.config({\n",
       "            paths: {\n",
       "                'plotly': ['https://cdn.plot.ly/plotly-latest.min']\n",
       "            }\n",
       "        });\n",
       "        require(['plotly'], function(Plotly) {\n",
       "            window._Plotly = Plotly;\n",
       "        });\n",
       "        }\n",
       "        </script>\n",
       "        "
      ]
     },
     "metadata": {},
     "output_type": "display_data"
    },
    {
     "data": {
      "text/html": [
       "\n",
       "<link rel=\"stylesheet\" type=\"text/css\" href=\"https://cdn.rawgit.com/bmabey/pyLDAvis/files/ldavis.v1.0.0.css\">\n",
       "\n",
       "\n",
       "<div id=\"ldavis_el1848026005275306969001614340\"></div>\n",
       "<script type=\"text/javascript\">\n",
       "\n",
       "var ldavis_el1848026005275306969001614340_data = {\"mdsDat\": {\"x\": [-0.019941097521323493, 0.019941097521323493], \"y\": [0.06294903168798895, -0.06294903168798895], \"topics\": [1, 2], \"cluster\": [1, 1], \"Freq\": [60.43193435668945, 39.56806945800781]}, \"tinfo\": {\"Term\": [\"breakfast\", \"want\", \"bed\", \"police\", \"shower\", \"try\", \"take\", \"book\", \"absolutely\", \"read\", \"hard\", \"midnight\", \"speed\", \"sleep\", \"light\", \"call\", \"tank\", \"towel\", \"hear\", \"say\", \"reception\", \"staff\", \"stay\", \"area\", \"motorcycle\", \"loud\", \"parking\", \"dinner\", \"distance\", \"short\", \"breakfast\", \"staff\", \"great\", \"price\", \"also\", \"stay\", \"still\", \"second\", \"traffic\", \"trip\", \"helpful\", \"cold\", \"decent\", \"hot\", \"think\", \"center\", \"convenient\", \"basic\", \"thing\", \"unfortunately\", \"find\", \"overall\", \"discover\", \"lot\", \"floor\", \"smell\", \"heat\", \"especially\", \"work\", \"time\", \"always\", \"offer\", \"night\", \"clean\", \"service\", \"noise\", \"year\", \"hour\", \"business\", \"want\", \"bed\", \"police\", \"shower\", \"try\", \"take\", \"book\", \"absolutely\", \"read\", \"hard\", \"midnight\", \"speed\", \"sleep\", \"light\", \"call\", \"tank\", \"towel\", \"hear\", \"parking\", \"dinner\", \"distance\", \"short\", \"budget\", \"luxury\", \"ample\", \"eatery\", \"go\", \"facility\", \"space\", \"plus\", \"say\", \"reception\", \"night\", \"area\", \"motorcycle\", \"loud\", \"pay\", \"hour\", \"noise\", \"receptionist\", \"offer\", \"half\", \"business\"], \"Freq\": [4.0, 2.0, 2.0, 2.0, 1.0, 1.0, 1.0, 1.0, 1.0, 1.0, 1.0, 1.0, 1.0, 1.0, 1.0, 1.0, 1.0, 1.0, 1.0, 2.0, 2.0, 3.0, 5.0, 2.0, 2.0, 2.0, 1.0, 1.0, 1.0, 1.0, 4.714357852935791, 2.828859329223633, 2.2013583183288574, 2.1995787620544434, 2.198838472366333, 4.725494384765625, 1.5740156173706055, 1.573556661605835, 1.57338547706604, 1.5723776817321777, 1.5708205699920654, 1.5705360174179077, 1.5705277919769287, 1.5704827308654785, 1.5703368186950684, 1.5702431201934814, 1.5701555013656616, 1.570040225982666, 1.5699706077575684, 1.5699453353881836, 1.5699008703231812, 1.5697963237762451, 1.5697027444839478, 1.5696048736572266, 1.5695236921310425, 1.5693808794021606, 1.5684592723846436, 1.5683553218841553, 1.5665616989135742, 2.8357043266296387, 2.8353271484375, 2.829578161239624, 3.4689908027648926, 1.577437162399292, 1.574225902557373, 1.577336072921753, 1.574078917503357, 1.57607901096344, 1.5699431896209717, 1.8401598930358887, 1.8350287675857544, 1.8341695070266724, 1.3156936168670654, 1.3156466484069824, 1.3154234886169434, 1.3130602836608887, 1.312435507774353, 1.3123472929000854, 1.3117256164550781, 1.3114336729049683, 1.31123685836792, 1.311077356338501, 1.310796856880188, 1.3106697797775269, 1.3105746507644653, 1.3101260662078857, 1.3073784112930298, 0.7894683480262756, 0.7894605994224548, 0.7894150018692017, 0.7894077897071838, 0.7894030213356018, 0.7894020676612854, 0.7894020676612854, 0.7893959283828735, 0.7893947958946228, 0.7893921136856079, 0.7893909215927124, 0.7893852591514587, 1.838972568511963, 1.8350731134414673, 2.8928279876708984, 1.3133684396743774, 1.309191107749939, 1.308078408241272, 1.3217545747756958, 1.3155096769332886, 1.3144594430923462, 0.7930420637130737, 0.7947097420692444, 0.7941860556602478, 0.7941694259643555], \"Total\": [4.0, 2.0, 2.0, 2.0, 1.0, 1.0, 1.0, 1.0, 1.0, 1.0, 1.0, 1.0, 1.0, 1.0, 1.0, 1.0, 1.0, 1.0, 1.0, 2.0, 2.0, 3.0, 5.0, 2.0, 2.0, 2.0, 1.0, 1.0, 1.0, 1.0, 4.987334251403809, 3.0977230072021484, 2.4680168628692627, 2.467723846435547, 2.467602014541626, 5.515613079071045, 1.8383371829986572, 1.838261604309082, 1.8382333517074585, 1.8380672931671143, 1.8378111124038696, 1.837764024734497, 1.8377628326416016, 1.8377553224563599, 1.8377312421798706, 1.8377161026000977, 1.8377015590667725, 1.8376827239990234, 1.8376708030700684, 1.8376667499542236, 1.837659478187561, 1.8376421928405762, 1.8376269340515137, 1.8376108407974243, 1.8375974893569946, 1.8375740051269531, 1.8374221324920654, 1.8374052047729492, 1.8371096849441528, 3.6252951622009277, 3.6252331733703613, 3.6242878437042236, 6.361818790435791, 2.3653454780578613, 2.3648176193237305, 2.8917956352233887, 2.364793300628662, 2.8915886878967285, 2.364112615585327, 2.1581645011901855, 2.159174919128418, 2.1593434810638428, 1.631304383277893, 1.6313138008117676, 1.6313574314117432, 1.6318224668502808, 1.631945252418518, 1.6319628953933716, 1.6320853233337402, 1.632142424583435, 1.63218092918396, 1.632212519645691, 1.6322678327560425, 1.6322927474975586, 1.6323113441467285, 1.6323996782302856, 1.6329400539398193, 1.1047909259796143, 1.1047922372817993, 1.1048012971878052, 1.1048027276992798, 1.1048035621643066, 1.1048036813735962, 1.1048039197921753, 1.1048049926757812, 1.1048052310943604, 1.104805827140808, 1.1048059463500977, 1.1048071384429932, 2.7885074615478516, 2.789276123046875, 6.361818790435791, 2.261870861053467, 2.2626938819885254, 2.2629129886627197, 2.8903582096099854, 2.8915886878967285, 2.8917956352233887, 1.7341947555541992, 3.6242878437042236, 2.364109754562378, 2.364112615585327], \"Category\": [\"Default\", \"Default\", \"Default\", \"Default\", \"Default\", \"Default\", \"Default\", \"Default\", \"Default\", \"Default\", \"Default\", \"Default\", \"Default\", \"Default\", \"Default\", \"Default\", \"Default\", \"Default\", \"Default\", \"Default\", \"Default\", \"Default\", \"Default\", \"Default\", \"Default\", \"Default\", \"Default\", \"Default\", \"Default\", \"Default\", \"Topic1\", \"Topic1\", \"Topic1\", \"Topic1\", \"Topic1\", \"Topic1\", \"Topic1\", \"Topic1\", \"Topic1\", \"Topic1\", \"Topic1\", \"Topic1\", \"Topic1\", \"Topic1\", \"Topic1\", \"Topic1\", \"Topic1\", \"Topic1\", \"Topic1\", \"Topic1\", \"Topic1\", \"Topic1\", \"Topic1\", \"Topic1\", \"Topic1\", \"Topic1\", \"Topic1\", \"Topic1\", \"Topic1\", \"Topic1\", \"Topic1\", \"Topic1\", \"Topic1\", \"Topic1\", \"Topic1\", \"Topic1\", \"Topic1\", \"Topic1\", \"Topic1\", \"Topic2\", \"Topic2\", \"Topic2\", \"Topic2\", \"Topic2\", \"Topic2\", \"Topic2\", \"Topic2\", \"Topic2\", \"Topic2\", \"Topic2\", \"Topic2\", \"Topic2\", \"Topic2\", \"Topic2\", \"Topic2\", \"Topic2\", \"Topic2\", \"Topic2\", \"Topic2\", \"Topic2\", \"Topic2\", \"Topic2\", \"Topic2\", \"Topic2\", \"Topic2\", \"Topic2\", \"Topic2\", \"Topic2\", \"Topic2\", \"Topic2\", \"Topic2\", \"Topic2\", \"Topic2\", \"Topic2\", \"Topic2\", \"Topic2\", \"Topic2\", \"Topic2\", \"Topic2\", \"Topic2\", \"Topic2\", \"Topic2\"], \"logprob\": [30.0, 29.0, 28.0, 27.0, 26.0, 25.0, 24.0, 23.0, 22.0, 21.0, 20.0, 19.0, 18.0, 17.0, 16.0, 15.0, 14.0, 13.0, 12.0, 11.0, 10.0, 9.0, 8.0, 7.0, 6.0, 5.0, 4.0, 3.0, 2.0, 1.0, -4.098499774932861, -4.6092000007629395, -4.860000133514404, -4.860799789428711, -4.861199855804443, -4.096099853515625, -5.195400238037109, -5.195700168609619, -5.195899963378906, -5.196499824523926, -5.197500228881836, -5.197700023651123, -5.197700023651123, -5.197700023651123, -5.197800159454346, -5.197800159454346, -5.19789981842041, -5.197999954223633, -5.197999954223633, -5.197999954223633, -5.1981000900268555, -5.1981000900268555, -5.198200225830078, -5.198299884796143, -5.198299884796143, -5.198400020599365, -5.198999881744385, -5.199100017547607, -5.200200080871582, -4.606800079345703, -4.606900215148926, -4.609000205993652, -4.405200004577637, -5.193299770355225, -5.195300102233887, -5.193299770355225, -5.195400238037109, -5.1940999031066895, -5.197999954223633, -4.615699768066406, -4.618500232696533, -4.61899995803833, -4.951200008392334, -4.951300144195557, -4.951399803161621, -4.953199863433838, -4.953700065612793, -4.953800201416016, -4.95419979095459, -4.954500198364258, -4.954599857330322, -4.954699993133545, -4.954899787902832, -4.954999923706055, -4.955100059509277, -4.95550012588501, -4.957600116729736, -5.461999893188477, -5.461999893188477, -5.461999893188477, -5.462100028991699, -5.462100028991699, -5.462100028991699, -5.462100028991699, -5.462100028991699, -5.462100028991699, -5.462100028991699, -5.462100028991699, -5.462100028991699, -4.616399765014648, -4.618500232696533, -4.163400173187256, -4.953000068664551, -4.956200122833252, -4.956999778747559, -4.946599960327148, -4.951399803161621, -4.952199935913086, -5.457499980926514, -5.455399990081787, -5.455999851226807, -5.455999851226807], \"loglift\": [30.0, 29.0, 28.0, 27.0, 26.0, 25.0, 24.0, 23.0, 22.0, 21.0, 20.0, 19.0, 18.0, 17.0, 16.0, 15.0, 14.0, 13.0, 12.0, 11.0, 10.0, 9.0, 8.0, 7.0, 6.0, 5.0, 4.0, 3.0, 2.0, 1.0, 0.4474000036716461, 0.41290000081062317, 0.38929998874664307, 0.3885999917984009, 0.38830000162124634, 0.3490000069141388, 0.3483999967575073, 0.3481999933719635, 0.3481000065803528, 0.3474999964237213, 0.3467000126838684, 0.3465000092983246, 0.3465000092983246, 0.3465000092983246, 0.3463999927043915, 0.3463999927043915, 0.34630000591278076, 0.34619998931884766, 0.34619998931884766, 0.34619998931884766, 0.34619998931884766, 0.34610000252723694, 0.34610000252723694, 0.34599998593330383, 0.34599998593330383, 0.3458999991416931, 0.34540000557899475, 0.34529998898506165, 0.3443000018596649, 0.257999986410141, 0.2578999996185303, 0.25609999895095825, -0.10279999673366547, 0.09849999845027924, 0.09669999778270721, -0.10249999910593033, 0.0966000035405159, -0.10320000350475311, 0.09430000185966492, 0.7677000164985657, 0.7645000219345093, 0.7638999819755554, 0.7121000289916992, 0.7121000289916992, 0.711899995803833, 0.7098000049591064, 0.7092999815940857, 0.7092000246047974, 0.7085999846458435, 0.7084000110626221, 0.7081999778747559, 0.7081000208854675, 0.7077999711036682, 0.7077000141143799, 0.7075999975204468, 0.7071999907493591, 0.704800009727478, 0.5910999774932861, 0.5910999774932861, 0.5910000205039978, 0.5910000205039978, 0.5910000205039978, 0.5910000205039978, 0.5910000205039978, 0.5910000205039978, 0.5910000205039978, 0.5910000205039978, 0.5910000205039978, 0.5910000205039978, 0.5108000040054321, 0.508400022983551, 0.13910000026226044, 0.38359999656677246, 0.3799999952316284, 0.3790999948978424, 0.14470000565052032, 0.1395999938249588, 0.1386999934911728, 0.14470000565052032, -0.5903000235557556, -0.16369999945163727, -0.16369999945163727]}, \"token.table\": {\"Topic\": [2, 1, 1, 2, 2, 1, 2, 1, 2, 2, 1, 2, 1, 2, 2, 1, 1, 2, 1, 1, 1, 2, 1, 2, 2, 1, 2, 1, 1, 2, 1, 1, 2, 2, 2, 1, 1, 1, 1, 2, 2, 1, 1, 2, 2, 2, 1, 2, 1, 2, 1, 2, 1, 2, 1, 2, 1, 2, 2, 2, 1, 2, 1, 2, 1, 2, 1, 2, 1, 1, 2, 2, 2, 2, 1, 2, 2, 1, 1, 2, 1, 2, 2, 1, 1, 1, 2, 2, 1, 1, 2, 1, 2, 1, 1, 2], \"Freq\": [0.6127656698226929, 0.8105034828186035, 0.8275330066680908, 0.2758443355560303, 0.9051380157470703, 0.44211187958717346, 0.44211187958717346, 1.088327169418335, 0.9262797236442566, 0.6128117442131042, 1.0025396347045898, 0.9051382541656494, 0.8459833860397339, 0.42299169301986694, 0.6126351952552795, 1.0883073806762695, 0.8455424308776855, 0.4227712154388428, 1.0882790088653564, 1.0883159637451172, 1.0882797241210938, 0.9051475524902344, 1.0883601903915405, 0.9051401615142822, 0.9051371216773987, 1.0884915590286255, 0.9051364064216614, 1.0883408784866333, 1.088377594947815, 0.9051369428634644, 0.810367226600647, 0.8459843993186951, 0.42299219965934753, 0.6127130389213562, 0.6123923659324646, 1.0884815454483032, 1.0882511138916016, 1.0882841348648071, 0.6916612982749939, 0.34583064913749695, 0.6126445531845093, 1.0883697271347046, 0.4419082999229431, 0.4419082999229431, 0.9051381945610046, 0.6126916408538818, 0.44195106625556946, 0.44195106625556946, 0.4715632498264313, 0.4715632498264313, 0.6916118264198303, 0.34580591320991516, 0.8277488350868225, 0.27591627836227417, 1.0883511304855347, 0.9051486253738403, 0.6919557452201843, 0.34597787261009216, 0.9051353335380554, 0.926207423210144, 0.8104634284973145, 0.6127590537071228, 0.3585159480571747, 0.7170318961143494, 0.5766364932060242, 0.5766364932060242, 0.3586147725582123, 0.7172295451164246, 1.0879844427108765, 0.8457311987876892, 0.4228655993938446, 0.9051389694213867, 0.6130064129829407, 0.6126652956008911, 1.0883915424346924, 0.9051363468170166, 0.6126771569252014, 0.9684532880783081, 0.9065175652503967, 0.1813035011291504, 1.087939739227295, 0.6129864454269409, 0.6126282215118408, 1.0883342027664185, 1.0882984399795532, 0.8275188207626343, 0.27583959698677063, 0.6125950813293457, 1.0880011320114136, 1.088099479675293, 0.6130028367042542, 1.0883365869522095, 0.9267134070396423, 1.0886666774749756, 0.8457399010658264, 0.4228699505329132], \"Term\": [\"absolutely\", \"also\", \"always\", \"always\", \"ample\", \"area\", \"area\", \"basic\", \"bed\", \"book\", \"breakfast\", \"budget\", \"business\", \"business\", \"call\", \"center\", \"clean\", \"clean\", \"cold\", \"convenient\", \"decent\", \"dinner\", \"discover\", \"distance\", \"eatery\", \"especially\", \"facility\", \"find\", \"floor\", \"go\", \"great\", \"half\", \"half\", \"hard\", \"hear\", \"heat\", \"helpful\", \"hot\", \"hour\", \"hour\", \"light\", \"lot\", \"loud\", \"loud\", \"luxury\", \"midnight\", \"motorcycle\", \"motorcycle\", \"night\", \"night\", \"noise\", \"noise\", \"offer\", \"offer\", \"overall\", \"parking\", \"pay\", \"pay\", \"plus\", \"police\", \"price\", \"read\", \"reception\", \"reception\", \"receptionist\", \"receptionist\", \"say\", \"say\", \"second\", \"service\", \"service\", \"short\", \"shower\", \"sleep\", \"smell\", \"space\", \"speed\", \"staff\", \"stay\", \"stay\", \"still\", \"take\", \"tank\", \"thing\", \"think\", \"time\", \"time\", \"towel\", \"traffic\", \"trip\", \"try\", \"unfortunately\", \"want\", \"work\", \"year\", \"year\"]}, \"R\": 30, \"lambda.step\": 0.01, \"plot.opts\": {\"xlab\": \"PC1\", \"ylab\": \"PC2\"}, \"topic.order\": [1, 2]};\n",
       "\n",
       "function LDAvis_load_lib(url, callback){\n",
       "  var s = document.createElement('script');\n",
       "  s.src = url;\n",
       "  s.async = true;\n",
       "  s.onreadystatechange = s.onload = callback;\n",
       "  s.onerror = function(){console.warn(\"failed to load library \" + url);};\n",
       "  document.getElementsByTagName(\"head\")[0].appendChild(s);\n",
       "}\n",
       "\n",
       "if(typeof(LDAvis) !== \"undefined\"){\n",
       "   // already loaded: just create the visualization\n",
       "   !function(LDAvis){\n",
       "       new LDAvis(\"#\" + \"ldavis_el1848026005275306969001614340\", ldavis_el1848026005275306969001614340_data);\n",
       "   }(LDAvis);\n",
       "}else if(typeof define === \"function\" && define.amd){\n",
       "   // require.js is available: use it to load d3/LDAvis\n",
       "   require.config({paths: {d3: \"https://cdnjs.cloudflare.com/ajax/libs/d3/3.5.5/d3.min\"}});\n",
       "   require([\"d3\"], function(d3){\n",
       "      window.d3 = d3;\n",
       "      LDAvis_load_lib(\"https://cdn.rawgit.com/bmabey/pyLDAvis/files/ldavis.v1.0.0.js\", function(){\n",
       "        new LDAvis(\"#\" + \"ldavis_el1848026005275306969001614340\", ldavis_el1848026005275306969001614340_data);\n",
       "      });\n",
       "    });\n",
       "}else{\n",
       "    // require.js not available: dynamically load d3 & LDAvis\n",
       "    LDAvis_load_lib(\"https://cdnjs.cloudflare.com/ajax/libs/d3/3.5.5/d3.min.js\", function(){\n",
       "         LDAvis_load_lib(\"https://cdn.rawgit.com/bmabey/pyLDAvis/files/ldavis.v1.0.0.js\", function(){\n",
       "                 new LDAvis(\"#\" + \"ldavis_el1848026005275306969001614340\", ldavis_el1848026005275306969001614340_data);\n",
       "            })\n",
       "         });\n",
       "}\n",
       "</script>"
      ],
      "text/plain": [
       "PreparedData(topic_coordinates=              x         y  topics  cluster       Freq\n",
       "topic                                                \n",
       "0     -0.019941  0.062949       1        1  60.431934\n",
       "1      0.019941 -0.062949       2        1  39.568069, topic_info=             Term      Freq     Total Category  logprob  loglift\n",
       "41      breakfast  4.000000  4.000000  Default  30.0000  30.0000\n",
       "35           want  2.000000  2.000000  Default  29.0000  29.0000\n",
       "107           bed  2.000000  2.000000  Default  28.0000  28.0000\n",
       "149        police  2.000000  2.000000  Default  27.0000  27.0000\n",
       "192        shower  1.000000  1.000000  Default  26.0000  26.0000\n",
       "..            ...       ...       ...      ...      ...      ...\n",
       "65          noise  1.314459  2.891796   Topic2  -4.9522   0.1387\n",
       "32   receptionist  0.793042  1.734195   Topic2  -5.4575   0.1447\n",
       "147         offer  0.794710  3.624288   Topic2  -5.4554  -0.5903\n",
       "8            half  0.794186  2.364110   Topic2  -5.4560  -0.1637\n",
       "187      business  0.794169  2.364113   Topic2  -5.4560  -0.1637\n",
       "\n",
       "[112 rows x 6 columns], token_table=      Topic      Freq           Term\n",
       "term                                \n",
       "87        2  0.612766     absolutely\n",
       "193       1  0.810503           also\n",
       "100       1  0.827533         always\n",
       "100       2  0.275844         always\n",
       "235       2  0.905138          ample\n",
       "...     ...       ...            ...\n",
       "79        1  1.088337  unfortunately\n",
       "35        2  0.926713           want\n",
       "85        1  1.088667           work\n",
       "86        1  0.845740           year\n",
       "86        2  0.422870           year\n",
       "\n",
       "[96 rows x 3 columns], R=30, lambda_step=0.01, plot_opts={'xlab': 'PC1', 'ylab': 'PC2'}, topic_order=[1, 2])"
      ]
     },
     "metadata": {},
     "output_type": "display_data"
    }
   ],
   "source": [
    "plot_model(lda_neg_tuned, plot ='topic_model')"
   ]
  },
  {
   "cell_type": "code",
   "execution_count": null,
   "metadata": {},
   "outputs": [],
   "source": []
  }
 ],
 "metadata": {
  "kernelspec": {
   "display_name": "Python 3",
   "language": "python",
   "name": "python3"
  },
  "language_info": {
   "codemirror_mode": {
    "name": "ipython",
    "version": 3
   },
   "file_extension": ".py",
   "mimetype": "text/x-python",
   "name": "python",
   "nbconvert_exporter": "python",
   "pygments_lexer": "ipython3",
   "version": "3.7.4"
  }
 },
 "nbformat": 4,
 "nbformat_minor": 2
}
