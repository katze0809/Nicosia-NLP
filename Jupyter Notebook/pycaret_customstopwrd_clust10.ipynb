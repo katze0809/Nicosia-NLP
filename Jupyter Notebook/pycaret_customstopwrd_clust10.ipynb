{
 "cells": [
  {
   "cell_type": "code",
   "execution_count": 1,
   "metadata": {},
   "outputs": [],
   "source": [
    "import pandas as pd\n",
    "import glob"
   ]
  },
  {
   "cell_type": "markdown",
   "metadata": {},
   "source": [
    "# Positive Reviews"
   ]
  },
  {
   "cell_type": "code",
   "execution_count": 2,
   "metadata": {},
   "outputs": [
    {
     "data": {
      "text/html": [
       "<div>\n",
       "<style scoped>\n",
       "    .dataframe tbody tr th:only-of-type {\n",
       "        vertical-align: middle;\n",
       "    }\n",
       "\n",
       "    .dataframe tbody tr th {\n",
       "        vertical-align: top;\n",
       "    }\n",
       "\n",
       "    .dataframe thead th {\n",
       "        text-align: right;\n",
       "    }\n",
       "</style>\n",
       "<table border=\"1\" class=\"dataframe\">\n",
       "  <thead>\n",
       "    <tr style=\"text-align: right;\">\n",
       "      <th></th>\n",
       "      <th>Unnamed: 0</th>\n",
       "      <th>r_points</th>\n",
       "      <th>r_text</th>\n",
       "      <th>place</th>\n",
       "      <th>Unnamed: 3</th>\n",
       "      <th>Unnamed: 4</th>\n",
       "      <th>scores</th>\n",
       "      <th>compound</th>\n",
       "      <th>score</th>\n",
       "    </tr>\n",
       "  </thead>\n",
       "  <tbody>\n",
       "    <tr>\n",
       "      <th>0</th>\n",
       "      <td>2</td>\n",
       "      <td>40</td>\n",
       "      <td>spacious and elegant with all you need for a b...</td>\n",
       "      <td>Almond Business Hotel</td>\n",
       "      <td>NaN</td>\n",
       "      <td>NaN</td>\n",
       "      <td>{'neg': 0.0, 'neu': 0.646, 'pos': 0.354, 'comp...</td>\n",
       "      <td>0.9421</td>\n",
       "      <td>pos</td>\n",
       "    </tr>\n",
       "    <tr>\n",
       "      <th>1</th>\n",
       "      <td>3</td>\n",
       "      <td>40</td>\n",
       "      <td>I have stayed here as I had a very quick 2 day...</td>\n",
       "      <td>Almond Business Hotel</td>\n",
       "      <td>NaN</td>\n",
       "      <td>NaN</td>\n",
       "      <td>{'neg': 0.0, 'neu': 0.874, 'pos': 0.126, 'comp...</td>\n",
       "      <td>0.7845</td>\n",
       "      <td>pos</td>\n",
       "    </tr>\n",
       "    <tr>\n",
       "      <th>2</th>\n",
       "      <td>4</td>\n",
       "      <td>50</td>\n",
       "      <td>I had been staying in that place several years...</td>\n",
       "      <td>Almond Business Hotel</td>\n",
       "      <td>NaN</td>\n",
       "      <td>NaN</td>\n",
       "      <td>{'neg': 0.026, 'neu': 0.767, 'pos': 0.208, 'co...</td>\n",
       "      <td>0.9760</td>\n",
       "      <td>pos</td>\n",
       "    </tr>\n",
       "    <tr>\n",
       "      <th>3</th>\n",
       "      <td>5</td>\n",
       "      <td>40</td>\n",
       "      <td>Located a regular neighborhood, the hotel is b...</td>\n",
       "      <td>Almond Business Hotel</td>\n",
       "      <td>NaN</td>\n",
       "      <td>NaN</td>\n",
       "      <td>{'neg': 0.026, 'neu': 0.881, 'pos': 0.094, 'co...</td>\n",
       "      <td>0.5023</td>\n",
       "      <td>pos</td>\n",
       "    </tr>\n",
       "    <tr>\n",
       "      <th>4</th>\n",
       "      <td>6</td>\n",
       "      <td>30</td>\n",
       "      <td>This hotel is something of a budget version of...</td>\n",
       "      <td>Almond Business Hotel</td>\n",
       "      <td>NaN</td>\n",
       "      <td>NaN</td>\n",
       "      <td>{'neg': 0.032, 'neu': 0.852, 'pos': 0.116, 'co...</td>\n",
       "      <td>0.6249</td>\n",
       "      <td>pos</td>\n",
       "    </tr>\n",
       "    <tr>\n",
       "      <th>...</th>\n",
       "      <td>...</td>\n",
       "      <td>...</td>\n",
       "      <td>...</td>\n",
       "      <td>...</td>\n",
       "      <td>...</td>\n",
       "      <td>...</td>\n",
       "      <td>...</td>\n",
       "      <td>...</td>\n",
       "      <td>...</td>\n",
       "    </tr>\n",
       "    <tr>\n",
       "      <th>398</th>\n",
       "      <td>421</td>\n",
       "      <td>50</td>\n",
       "      <td>I went there with my husband to celebrate Vale...</td>\n",
       "      <td>Vino Cultura</td>\n",
       "      <td>Review 135 Similarity</td>\n",
       "      <td>0.0</td>\n",
       "      <td>{'neg': 0.021, 'neu': 0.767, 'pos': 0.212, 'co...</td>\n",
       "      <td>0.9548</td>\n",
       "      <td>pos</td>\n",
       "    </tr>\n",
       "    <tr>\n",
       "      <th>399</th>\n",
       "      <td>422</td>\n",
       "      <td>50</td>\n",
       "      <td>great great great......... this is a must go p...</td>\n",
       "      <td>Vino Cultura</td>\n",
       "      <td>Review 197 Similarity</td>\n",
       "      <td>0.0</td>\n",
       "      <td>{'neg': 0.0, 'neu': 0.44, 'pos': 0.56, 'compou...</td>\n",
       "      <td>0.9460</td>\n",
       "      <td>pos</td>\n",
       "    </tr>\n",
       "    <tr>\n",
       "      <th>400</th>\n",
       "      <td>423</td>\n",
       "      <td>50</td>\n",
       "      <td>Great food,atmosphere and service.no other pla...</td>\n",
       "      <td>Vino Cultura</td>\n",
       "      <td>Review 199 Similarity</td>\n",
       "      <td>0.0</td>\n",
       "      <td>{'neg': 0.0, 'neu': 0.622, 'pos': 0.378, 'comp...</td>\n",
       "      <td>0.8442</td>\n",
       "      <td>pos</td>\n",
       "    </tr>\n",
       "    <tr>\n",
       "      <th>401</th>\n",
       "      <td>425</td>\n",
       "      <td>40</td>\n",
       "      <td>The atmosphere is very nice when we visited we...</td>\n",
       "      <td>Vino Cultura</td>\n",
       "      <td>Review 206 Similarity</td>\n",
       "      <td>0.0</td>\n",
       "      <td>{'neg': 0.0, 'neu': 0.647, 'pos': 0.353, 'comp...</td>\n",
       "      <td>0.8856</td>\n",
       "      <td>pos</td>\n",
       "    </tr>\n",
       "    <tr>\n",
       "      <th>402</th>\n",
       "      <td>426</td>\n",
       "      <td>20</td>\n",
       "      <td>We were recommended Vino Cultura by a friend. ...</td>\n",
       "      <td>Vino Cultura</td>\n",
       "      <td>Review 208 Similarity</td>\n",
       "      <td>0.0</td>\n",
       "      <td>{'neg': 0.009, 'neu': 0.855, 'pos': 0.136, 'co...</td>\n",
       "      <td>0.9511</td>\n",
       "      <td>pos</td>\n",
       "    </tr>\n",
       "  </tbody>\n",
       "</table>\n",
       "<p>403 rows × 9 columns</p>\n",
       "</div>"
      ],
      "text/plain": [
       "     Unnamed: 0  r_points                                             r_text  \\\n",
       "0             2        40  spacious and elegant with all you need for a b...   \n",
       "1             3        40  I have stayed here as I had a very quick 2 day...   \n",
       "2             4        50  I had been staying in that place several years...   \n",
       "3             5        40  Located a regular neighborhood, the hotel is b...   \n",
       "4             6        30  This hotel is something of a budget version of...   \n",
       "..          ...       ...                                                ...   \n",
       "398         421        50  I went there with my husband to celebrate Vale...   \n",
       "399         422        50  great great great......... this is a must go p...   \n",
       "400         423        50  Great food,atmosphere and service.no other pla...   \n",
       "401         425        40  The atmosphere is very nice when we visited we...   \n",
       "402         426        20  We were recommended Vino Cultura by a friend. ...   \n",
       "\n",
       "                     place             Unnamed: 3  Unnamed: 4  \\\n",
       "0    Almond Business Hotel                    NaN         NaN   \n",
       "1    Almond Business Hotel                    NaN         NaN   \n",
       "2    Almond Business Hotel                    NaN         NaN   \n",
       "3    Almond Business Hotel                    NaN         NaN   \n",
       "4    Almond Business Hotel                    NaN         NaN   \n",
       "..                     ...                    ...         ...   \n",
       "398           Vino Cultura  Review 135 Similarity         0.0   \n",
       "399           Vino Cultura  Review 197 Similarity         0.0   \n",
       "400           Vino Cultura  Review 199 Similarity         0.0   \n",
       "401           Vino Cultura  Review 206 Similarity         0.0   \n",
       "402           Vino Cultura  Review 208 Similarity         0.0   \n",
       "\n",
       "                                                scores  compound score  \n",
       "0    {'neg': 0.0, 'neu': 0.646, 'pos': 0.354, 'comp...    0.9421   pos  \n",
       "1    {'neg': 0.0, 'neu': 0.874, 'pos': 0.126, 'comp...    0.7845   pos  \n",
       "2    {'neg': 0.026, 'neu': 0.767, 'pos': 0.208, 'co...    0.9760   pos  \n",
       "3    {'neg': 0.026, 'neu': 0.881, 'pos': 0.094, 'co...    0.5023   pos  \n",
       "4    {'neg': 0.032, 'neu': 0.852, 'pos': 0.116, 'co...    0.6249   pos  \n",
       "..                                                 ...       ...   ...  \n",
       "398  {'neg': 0.021, 'neu': 0.767, 'pos': 0.212, 'co...    0.9548   pos  \n",
       "399  {'neg': 0.0, 'neu': 0.44, 'pos': 0.56, 'compou...    0.9460   pos  \n",
       "400  {'neg': 0.0, 'neu': 0.622, 'pos': 0.378, 'comp...    0.8442   pos  \n",
       "401  {'neg': 0.0, 'neu': 0.647, 'pos': 0.353, 'comp...    0.8856   pos  \n",
       "402  {'neg': 0.009, 'neu': 0.855, 'pos': 0.136, 'co...    0.9511   pos  \n",
       "\n",
       "[403 rows x 9 columns]"
      ]
     },
     "execution_count": 2,
     "metadata": {},
     "output_type": "execute_result"
    }
   ],
   "source": [
    "pos_review = pd.read_csv(r'C:\\Users\\Dell\\Desktop\\sentiment_cluster10_pos.csv')\n",
    "pos_review"
   ]
  },
  {
   "cell_type": "code",
   "execution_count": 3,
   "metadata": {},
   "outputs": [],
   "source": [
    "from pycaret.nlp import *"
   ]
  },
  {
   "cell_type": "code",
   "execution_count": 4,
   "metadata": {},
   "outputs": [
    {
     "data": {
      "text/html": [
       "<style  type=\"text/css\" >\n",
       "</style><table id=\"T_537e4558_2fcd_11eb_921c_c48e8ff9d2e0\" ><thead>    <tr>        <th class=\"col_heading level0 col0\" >Description</th>        <th class=\"col_heading level0 col1\" >Value</th>    </tr></thead><tbody>\n",
       "                <tr>\n",
       "                                <td id=\"T_537e4558_2fcd_11eb_921c_c48e8ff9d2e0row0_col0\" class=\"data row0 col0\" >session_id</td>\n",
       "                        <td id=\"T_537e4558_2fcd_11eb_921c_c48e8ff9d2e0row0_col1\" class=\"data row0 col1\" >5842</td>\n",
       "            </tr>\n",
       "            <tr>\n",
       "                                <td id=\"T_537e4558_2fcd_11eb_921c_c48e8ff9d2e0row1_col0\" class=\"data row1 col0\" >Documents</td>\n",
       "                        <td id=\"T_537e4558_2fcd_11eb_921c_c48e8ff9d2e0row1_col1\" class=\"data row1 col1\" >403</td>\n",
       "            </tr>\n",
       "            <tr>\n",
       "                                <td id=\"T_537e4558_2fcd_11eb_921c_c48e8ff9d2e0row2_col0\" class=\"data row2 col0\" >Vocab Size</td>\n",
       "                        <td id=\"T_537e4558_2fcd_11eb_921c_c48e8ff9d2e0row2_col1\" class=\"data row2 col1\" >1965</td>\n",
       "            </tr>\n",
       "            <tr>\n",
       "                                <td id=\"T_537e4558_2fcd_11eb_921c_c48e8ff9d2e0row3_col0\" class=\"data row3 col0\" >Custom Stopwords</td>\n",
       "                        <td id=\"T_537e4558_2fcd_11eb_921c_c48e8ff9d2e0row3_col1\" class=\"data row3 col1\" >True</td>\n",
       "            </tr>\n",
       "    </tbody></table>"
      ],
      "text/plain": [
       "<pandas.io.formats.style.Styler at 0x18e76e21dc8>"
      ]
     },
     "metadata": {},
     "output_type": "display_data"
    }
   ],
   "source": [
    "exp_nlp = setup(data = pos_review, target = 'r_text',\n",
    "                custom_stopwords = [ 'hotel', 'room', 'nice', 'good', 'restaurant', 'food','almond','au','vino','au bon'])"
   ]
  },
  {
   "cell_type": "code",
   "execution_count": 5,
   "metadata": {},
   "outputs": [
    {
     "name": "stdout",
     "output_type": "stream",
     "text": [
      "LdaModel(num_terms=1965, num_topics=4, decay=0.5, chunksize=100)\n"
     ]
    }
   ],
   "source": [
    "#create an LDA model\n",
    "lda_pos_custom = create_model('lda')\n",
    "print(lda_pos_custom)"
   ]
  },
  {
   "cell_type": "code",
   "execution_count": 6,
   "metadata": {},
   "outputs": [],
   "source": [
    "apply_lda_pos = assign_model(lda_pos_custom)"
   ]
  },
  {
   "cell_type": "code",
   "execution_count": 7,
   "metadata": {},
   "outputs": [
    {
     "data": {
      "text/html": [
       "<div>\n",
       "<style scoped>\n",
       "    .dataframe tbody tr th:only-of-type {\n",
       "        vertical-align: middle;\n",
       "    }\n",
       "\n",
       "    .dataframe tbody tr th {\n",
       "        vertical-align: top;\n",
       "    }\n",
       "\n",
       "    .dataframe thead th {\n",
       "        text-align: right;\n",
       "    }\n",
       "</style>\n",
       "<table border=\"1\" class=\"dataframe\">\n",
       "  <thead>\n",
       "    <tr style=\"text-align: right;\">\n",
       "      <th></th>\n",
       "      <th>Unnamed: 0</th>\n",
       "      <th>r_points</th>\n",
       "      <th>r_text</th>\n",
       "      <th>place</th>\n",
       "      <th>Unnamed: 3</th>\n",
       "      <th>Unnamed: 4</th>\n",
       "      <th>scores</th>\n",
       "      <th>compound</th>\n",
       "      <th>score</th>\n",
       "      <th>Topic_0</th>\n",
       "      <th>Topic_1</th>\n",
       "      <th>Topic_2</th>\n",
       "      <th>Topic_3</th>\n",
       "      <th>Dominant_Topic</th>\n",
       "      <th>Perc_Dominant_Topic</th>\n",
       "    </tr>\n",
       "  </thead>\n",
       "  <tbody>\n",
       "    <tr>\n",
       "      <th>0</th>\n",
       "      <td>2</td>\n",
       "      <td>40</td>\n",
       "      <td>spacious elegant need business apartment updat...</td>\n",
       "      <td>Almond Business Hotel</td>\n",
       "      <td>NaN</td>\n",
       "      <td>NaN</td>\n",
       "      <td>{'neg': 0.0, 'neu': 0.646, 'pos': 0.354, 'comp...</td>\n",
       "      <td>0.9421</td>\n",
       "      <td>pos</td>\n",
       "      <td>0.002275</td>\n",
       "      <td>0.009150</td>\n",
       "      <td>0.960418</td>\n",
       "      <td>0.028157</td>\n",
       "      <td>Topic 2</td>\n",
       "      <td>0.96</td>\n",
       "    </tr>\n",
       "    <tr>\n",
       "      <th>1</th>\n",
       "      <td>3</td>\n",
       "      <td>40</td>\n",
       "      <td>stay quick day meet convenient breakfast optio...</td>\n",
       "      <td>Almond Business Hotel</td>\n",
       "      <td>NaN</td>\n",
       "      <td>NaN</td>\n",
       "      <td>{'neg': 0.0, 'neu': 0.874, 'pos': 0.126, 'comp...</td>\n",
       "      <td>0.7845</td>\n",
       "      <td>pos</td>\n",
       "      <td>0.001858</td>\n",
       "      <td>0.007481</td>\n",
       "      <td>0.756927</td>\n",
       "      <td>0.233734</td>\n",
       "      <td>Topic 2</td>\n",
       "      <td>0.76</td>\n",
       "    </tr>\n",
       "    <tr>\n",
       "      <th>2</th>\n",
       "      <td>4</td>\n",
       "      <td>50</td>\n",
       "      <td>stay place several year ago definitely happy b...</td>\n",
       "      <td>Almond Business Hotel</td>\n",
       "      <td>NaN</td>\n",
       "      <td>NaN</td>\n",
       "      <td>{'neg': 0.026, 'neu': 0.767, 'pos': 0.208, 'co...</td>\n",
       "      <td>0.9760</td>\n",
       "      <td>pos</td>\n",
       "      <td>0.000646</td>\n",
       "      <td>0.002626</td>\n",
       "      <td>0.981617</td>\n",
       "      <td>0.015111</td>\n",
       "      <td>Topic 2</td>\n",
       "      <td>0.98</td>\n",
       "    </tr>\n",
       "    <tr>\n",
       "      <th>3</th>\n",
       "      <td>5</td>\n",
       "      <td>40</td>\n",
       "      <td>locate regular neighborhood mean spectacular i...</td>\n",
       "      <td>Almond Business Hotel</td>\n",
       "      <td>NaN</td>\n",
       "      <td>NaN</td>\n",
       "      <td>{'neg': 0.026, 'neu': 0.881, 'pos': 0.094, 'co...</td>\n",
       "      <td>0.5023</td>\n",
       "      <td>pos</td>\n",
       "      <td>0.067347</td>\n",
       "      <td>0.006131</td>\n",
       "      <td>0.906975</td>\n",
       "      <td>0.019547</td>\n",
       "      <td>Topic 2</td>\n",
       "      <td>0.91</td>\n",
       "    </tr>\n",
       "    <tr>\n",
       "      <th>4</th>\n",
       "      <td>6</td>\n",
       "      <td>30</td>\n",
       "      <td>budget property stay suite basic kitchen small...</td>\n",
       "      <td>Almond Business Hotel</td>\n",
       "      <td>NaN</td>\n",
       "      <td>NaN</td>\n",
       "      <td>{'neg': 0.032, 'neu': 0.852, 'pos': 0.116, 'co...</td>\n",
       "      <td>0.6249</td>\n",
       "      <td>pos</td>\n",
       "      <td>0.001948</td>\n",
       "      <td>0.007849</td>\n",
       "      <td>0.965686</td>\n",
       "      <td>0.024518</td>\n",
       "      <td>Topic 2</td>\n",
       "      <td>0.97</td>\n",
       "    </tr>\n",
       "    <tr>\n",
       "      <th>...</th>\n",
       "      <td>...</td>\n",
       "      <td>...</td>\n",
       "      <td>...</td>\n",
       "      <td>...</td>\n",
       "      <td>...</td>\n",
       "      <td>...</td>\n",
       "      <td>...</td>\n",
       "      <td>...</td>\n",
       "      <td>...</td>\n",
       "      <td>...</td>\n",
       "      <td>...</td>\n",
       "      <td>...</td>\n",
       "      <td>...</td>\n",
       "      <td>...</td>\n",
       "      <td>...</td>\n",
       "    </tr>\n",
       "    <tr>\n",
       "      <th>398</th>\n",
       "      <td>421</td>\n",
       "      <td>50</td>\n",
       "      <td>go set menu get choose tapas amazing well try ...</td>\n",
       "      <td>Vino Cultura</td>\n",
       "      <td>Review 135 Similarity</td>\n",
       "      <td>0.0</td>\n",
       "      <td>{'neg': 0.021, 'neu': 0.767, 'pos': 0.212, 'co...</td>\n",
       "      <td>0.9548</td>\n",
       "      <td>pos</td>\n",
       "      <td>0.000947</td>\n",
       "      <td>0.307386</td>\n",
       "      <td>0.334108</td>\n",
       "      <td>0.357558</td>\n",
       "      <td>Topic 3</td>\n",
       "      <td>0.36</td>\n",
       "    </tr>\n",
       "    <tr>\n",
       "      <th>399</th>\n",
       "      <td>422</td>\n",
       "      <td>50</td>\n",
       "      <td>great great go place excellent service bar try...</td>\n",
       "      <td>Vino Cultura</td>\n",
       "      <td>Review 197 Similarity</td>\n",
       "      <td>0.0</td>\n",
       "      <td>{'neg': 0.0, 'neu': 0.44, 'pos': 0.56, 'compou...</td>\n",
       "      <td>0.9460</td>\n",
       "      <td>pos</td>\n",
       "      <td>0.003429</td>\n",
       "      <td>0.128252</td>\n",
       "      <td>0.013438</td>\n",
       "      <td>0.854881</td>\n",
       "      <td>Topic 3</td>\n",
       "      <td>0.85</td>\n",
       "    </tr>\n",
       "    <tr>\n",
       "      <th>400</th>\n",
       "      <td>423</td>\n",
       "      <td>50</td>\n",
       "      <td>great service place really unique dish recommend</td>\n",
       "      <td>Vino Cultura</td>\n",
       "      <td>Review 199 Similarity</td>\n",
       "      <td>0.0</td>\n",
       "      <td>{'neg': 0.0, 'neu': 0.622, 'pos': 0.378, 'comp...</td>\n",
       "      <td>0.8442</td>\n",
       "      <td>pos</td>\n",
       "      <td>0.005179</td>\n",
       "      <td>0.020858</td>\n",
       "      <td>0.020278</td>\n",
       "      <td>0.953686</td>\n",
       "      <td>Topic 3</td>\n",
       "      <td>0.95</td>\n",
       "    </tr>\n",
       "    <tr>\n",
       "      <th>401</th>\n",
       "      <td>425</td>\n",
       "      <td>40</td>\n",
       "      <td>visit enjoy quality live latin music professio...</td>\n",
       "      <td>Vino Cultura</td>\n",
       "      <td>Review 206 Similarity</td>\n",
       "      <td>0.0</td>\n",
       "      <td>{'neg': 0.0, 'neu': 0.647, 'pos': 0.353, 'comp...</td>\n",
       "      <td>0.8856</td>\n",
       "      <td>pos</td>\n",
       "      <td>0.002735</td>\n",
       "      <td>0.010993</td>\n",
       "      <td>0.010700</td>\n",
       "      <td>0.975572</td>\n",
       "      <td>Topic 3</td>\n",
       "      <td>0.98</td>\n",
       "    </tr>\n",
       "    <tr>\n",
       "      <th>402</th>\n",
       "      <td>426</td>\n",
       "      <td>20</td>\n",
       "      <td>recommend friend go night walk ask guy front d...</td>\n",
       "      <td>Vino Cultura</td>\n",
       "      <td>Review 208 Similarity</td>\n",
       "      <td>0.0</td>\n",
       "      <td>{'neg': 0.009, 'neu': 0.855, 'pos': 0.136, 'co...</td>\n",
       "      <td>0.9511</td>\n",
       "      <td>pos</td>\n",
       "      <td>0.000885</td>\n",
       "      <td>0.003556</td>\n",
       "      <td>0.003462</td>\n",
       "      <td>0.992096</td>\n",
       "      <td>Topic 3</td>\n",
       "      <td>0.99</td>\n",
       "    </tr>\n",
       "  </tbody>\n",
       "</table>\n",
       "<p>403 rows × 15 columns</p>\n",
       "</div>"
      ],
      "text/plain": [
       "     Unnamed: 0  r_points                                             r_text  \\\n",
       "0             2        40  spacious elegant need business apartment updat...   \n",
       "1             3        40  stay quick day meet convenient breakfast optio...   \n",
       "2             4        50  stay place several year ago definitely happy b...   \n",
       "3             5        40  locate regular neighborhood mean spectacular i...   \n",
       "4             6        30  budget property stay suite basic kitchen small...   \n",
       "..          ...       ...                                                ...   \n",
       "398         421        50  go set menu get choose tapas amazing well try ...   \n",
       "399         422        50  great great go place excellent service bar try...   \n",
       "400         423        50   great service place really unique dish recommend   \n",
       "401         425        40  visit enjoy quality live latin music professio...   \n",
       "402         426        20  recommend friend go night walk ask guy front d...   \n",
       "\n",
       "                     place             Unnamed: 3  Unnamed: 4  \\\n",
       "0    Almond Business Hotel                    NaN         NaN   \n",
       "1    Almond Business Hotel                    NaN         NaN   \n",
       "2    Almond Business Hotel                    NaN         NaN   \n",
       "3    Almond Business Hotel                    NaN         NaN   \n",
       "4    Almond Business Hotel                    NaN         NaN   \n",
       "..                     ...                    ...         ...   \n",
       "398           Vino Cultura  Review 135 Similarity         0.0   \n",
       "399           Vino Cultura  Review 197 Similarity         0.0   \n",
       "400           Vino Cultura  Review 199 Similarity         0.0   \n",
       "401           Vino Cultura  Review 206 Similarity         0.0   \n",
       "402           Vino Cultura  Review 208 Similarity         0.0   \n",
       "\n",
       "                                                scores  compound score  \\\n",
       "0    {'neg': 0.0, 'neu': 0.646, 'pos': 0.354, 'comp...    0.9421   pos   \n",
       "1    {'neg': 0.0, 'neu': 0.874, 'pos': 0.126, 'comp...    0.7845   pos   \n",
       "2    {'neg': 0.026, 'neu': 0.767, 'pos': 0.208, 'co...    0.9760   pos   \n",
       "3    {'neg': 0.026, 'neu': 0.881, 'pos': 0.094, 'co...    0.5023   pos   \n",
       "4    {'neg': 0.032, 'neu': 0.852, 'pos': 0.116, 'co...    0.6249   pos   \n",
       "..                                                 ...       ...   ...   \n",
       "398  {'neg': 0.021, 'neu': 0.767, 'pos': 0.212, 'co...    0.9548   pos   \n",
       "399  {'neg': 0.0, 'neu': 0.44, 'pos': 0.56, 'compou...    0.9460   pos   \n",
       "400  {'neg': 0.0, 'neu': 0.622, 'pos': 0.378, 'comp...    0.8442   pos   \n",
       "401  {'neg': 0.0, 'neu': 0.647, 'pos': 0.353, 'comp...    0.8856   pos   \n",
       "402  {'neg': 0.009, 'neu': 0.855, 'pos': 0.136, 'co...    0.9511   pos   \n",
       "\n",
       "      Topic_0   Topic_1   Topic_2   Topic_3 Dominant_Topic  \\\n",
       "0    0.002275  0.009150  0.960418  0.028157        Topic 2   \n",
       "1    0.001858  0.007481  0.756927  0.233734        Topic 2   \n",
       "2    0.000646  0.002626  0.981617  0.015111        Topic 2   \n",
       "3    0.067347  0.006131  0.906975  0.019547        Topic 2   \n",
       "4    0.001948  0.007849  0.965686  0.024518        Topic 2   \n",
       "..        ...       ...       ...       ...            ...   \n",
       "398  0.000947  0.307386  0.334108  0.357558        Topic 3   \n",
       "399  0.003429  0.128252  0.013438  0.854881        Topic 3   \n",
       "400  0.005179  0.020858  0.020278  0.953686        Topic 3   \n",
       "401  0.002735  0.010993  0.010700  0.975572        Topic 3   \n",
       "402  0.000885  0.003556  0.003462  0.992096        Topic 3   \n",
       "\n",
       "     Perc_Dominant_Topic  \n",
       "0                   0.96  \n",
       "1                   0.76  \n",
       "2                   0.98  \n",
       "3                   0.91  \n",
       "4                   0.97  \n",
       "..                   ...  \n",
       "398                 0.36  \n",
       "399                 0.85  \n",
       "400                 0.95  \n",
       "401                 0.98  \n",
       "402                 0.99  \n",
       "\n",
       "[403 rows x 15 columns]"
      ]
     },
     "execution_count": 7,
     "metadata": {},
     "output_type": "execute_result"
    }
   ],
   "source": [
    "apply_lda_pos"
   ]
  },
  {
   "cell_type": "code",
   "execution_count": 8,
   "metadata": {},
   "outputs": [
    {
     "data": {
      "application/vnd.jupyter.widget-view+json": {
       "model_id": "78212dbd4588457da3865d6fcb00f612",
       "version_major": 2,
       "version_minor": 0
      },
      "text/plain": [
       "interactive(children=(ToggleButtons(description='Plot Type:', icons=('',), options=(('Frequency Plot', 'freque…"
      ]
     },
     "metadata": {},
     "output_type": "display_data"
    }
   ],
   "source": [
    "evaluate_model(lda_pos_custom)"
   ]
  },
  {
   "cell_type": "code",
   "execution_count": 9,
   "metadata": {},
   "outputs": [
    {
     "data": {
      "text/html": [
       "        <script type=\"text/javascript\">\n",
       "        window.PlotlyConfig = {MathJaxConfig: 'local'};\n",
       "        if (window.MathJax) {MathJax.Hub.Config({SVG: {font: \"STIX-Web\"}});}\n",
       "        if (typeof require !== 'undefined') {\n",
       "        require.undef(\"plotly\");\n",
       "        requirejs.config({\n",
       "            paths: {\n",
       "                'plotly': ['https://cdn.plot.ly/plotly-latest.min']\n",
       "            }\n",
       "        });\n",
       "        require(['plotly'], function(Plotly) {\n",
       "            window._Plotly = Plotly;\n",
       "        });\n",
       "        }\n",
       "        </script>\n",
       "        "
      ]
     },
     "metadata": {},
     "output_type": "display_data"
    },
    {
     "data": {
      "text/html": [
       "\n",
       "<link rel=\"stylesheet\" type=\"text/css\" href=\"https://cdn.rawgit.com/bmabey/pyLDAvis/files/ldavis.v1.0.0.css\">\n",
       "\n",
       "\n",
       "<div id=\"ldavis_el621617115433166804090631687\"></div>\n",
       "<script type=\"text/javascript\">\n",
       "\n",
       "var ldavis_el621617115433166804090631687_data = {\"mdsDat\": {\"x\": [-0.15798351602225827, -0.10847480295271385, 0.17656659037359648, 0.0898917286013756], \"y\": [-0.07701366173469158, 0.13612796005001665, -0.2227466678776591, 0.16363236956233404], \"topics\": [1, 2, 3, 4], \"cluster\": [1, 1, 1, 1], \"Freq\": [36.72626495361328, 29.822397232055664, 27.17971420288086, 6.271622180938721]}, \"tinfo\": {\"Term\": [\"friend\", \"bar\", \"wine\", \"ask\", \"staff\", \"recommend\", \"steak\", \"go\", \"music\", \"great\", \"business\", \"stay\", \"french\", \"enjoy\", \"night\", \"cheese\", \"mussel\", \"drink\", \"breakfast\", \"try\", \"visit\", \"taste\", \"get\", \"evening\", \"take\", \"back\", \"sure\", \"busy\", \"way\", \"amazing\", \"steak\", \"taste\", \"french\", \"mussel\", \"cook\", \"amazing\", \"main\", \"duck\", \"beef\", \"starter\", \"owner\", \"perfect\", \"review\", \"new\", \"occasion\", \"dessert\", \"sauce\", \"order\", \"top\", \"cosy\", \"butter\", \"reasonable\", \"chef\", \"cooked_perfection\", \"comment\", \"back\", \"creme_brulee\", \"certainly\", \"leg\", \"try\", \"portion\", \"fresh\", \"expect\", \"special\", \"say\", \"find\", \"know\", \"love\", \"experience\", \"definitely\", \"excellent\", \"well\", \"come\", \"plate\", \"first\", \"price\", \"wine\", \"visit\", \"service\", \"place\", \"dish\", \"time\", \"small\", \"atmosphere\", \"friendly\", \"menu\", \"go\", \"business\", \"stay\", \"breakfast\", \"clean\", \"relax\", \"wonderful\", \"spacious\", \"work\", \"locate\", \"suite\", \"pleasant\", \"share\", \"kitchen\", \"comfortable\", \"town\", \"style\", \"quiet\", \"option\", \"bedroom\", \"space\", \"minute\", \"apartment\", \"team\", \"spend\", \"free\", \"parking\", \"coffee\", \"reception\", \"fine\", \"old\", \"big\", \"least\", \"serve\", \"need\", \"helpful\", \"friendly\", \"expensive\", \"staff\", \"also\", \"always\", \"location\", \"large\", \"day\", \"well\", \"quite\", \"small\", \"time\", \"service\", \"great\", \"place\", \"excellent\", \"recommend\", \"friend\", \"bar\", \"ask\", \"music\", \"drink\", \"cheese\", \"evening\", \"busy\", \"sure\", \"way\", \"reservation\", \"unique\", \"platter\", \"decide\", \"professional\", \"else\", \"front\", \"venue\", \"point\", \"charming\", \"though\", \"reply\", \"pricey\", \"somewhere\", \"allow\", \"guy\", \"treat\", \"self\", \"response\", \"sternly\", \"leave\", \"sit\", \"door\", \"full\", \"enjoy\", \"night\", \"recommend\", \"long\", \"take\", \"go\", \"get\", \"great\", \"wine\", \"staff\", \"place\", \"quality\", \"really\", \"bit\", \"visit\", \"service\", \"look\", \"live\", \"eat\", \"dish\", \"time\", \"delicious\", \"menu\", \"table\", \"husband\", \"chicken\", \"birthday\", \"mostly\", \"perfection\", \"deserve\", \"dry\", \"truly\", \"season\", \"pork\", \"exclusive\", \"beer\", \"game\", \"completely\", \"chocolate\", \"fall\", \"gra\", \"favorite\", \"man\", \"outside\", \"escargot\", \"disappointment\", \"patient\", \"art\", \"actual\", \"child\", \"vegetable\", \"play\", \"downside\", \"pretentious\", \"wish\", \"totally\", \"mention\", \"part\", \"away\", \"change\", \"right\", \"little\", \"expectation\", \"far\", \"cellar\", \"standard\", \"family\", \"customer\", \"offer\", \"dinner\", \"thing\", \"quite\", \"set\", \"trip\"], \"Freq\": [72.0, 65.0, 123.0, 54.0, 108.0, 80.0, 61.0, 107.0, 45.0, 119.0, 43.0, 39.0, 50.0, 48.0, 46.0, 35.0, 47.0, 35.0, 37.0, 60.0, 82.0, 44.0, 44.0, 32.0, 39.0, 53.0, 29.0, 29.0, 29.0, 42.0, 61.15562438964844, 43.53317642211914, 49.664215087890625, 46.755916595458984, 22.236722946166992, 40.68404769897461, 20.53764533996582, 17.711050033569336, 15.700716018676758, 14.135135650634766, 37.45790481567383, 23.218364715576172, 13.26786994934082, 13.676104545593262, 12.587093353271484, 12.537030220031738, 19.823305130004883, 41.396949768066406, 12.712053298950195, 10.238269805908203, 9.732953071594238, 10.109967231750488, 11.25063705444336, 9.066941261291504, 8.703001976013184, 49.34006118774414, 8.678600311279297, 8.877016067504883, 8.301689147949219, 55.94509506225586, 23.56969451904297, 32.46818542480469, 15.943787574768066, 30.161455154418945, 22.65705108642578, 37.1963996887207, 15.963913917541504, 26.132835388183594, 35.857181549072266, 37.85584259033203, 50.62739562988281, 48.73127746582031, 28.980051040649414, 16.257293701171875, 19.053184509277344, 30.322168350219727, 46.19188690185547, 35.790130615234375, 40.593448638916016, 42.22551345825195, 30.85407829284668, 31.788684844970703, 24.047592163085938, 24.54210090637207, 26.525243759155273, 24.819093704223633, 24.4165096282959, 43.10039520263672, 39.08909225463867, 36.47201156616211, 25.993467330932617, 25.041648864746094, 25.475833892822266, 19.43060302734375, 19.047327041625977, 17.12624740600586, 16.091320037841797, 15.840765953063965, 19.043216705322266, 13.69033145904541, 12.681180953979492, 11.056873321533203, 12.148120880126953, 10.782857894897461, 10.815000534057617, 10.267557144165039, 10.456119537353516, 9.897249221801758, 9.105531692504883, 9.267459869384766, 8.42797565460205, 13.49006175994873, 9.214510917663574, 7.357025146484375, 7.354717254638672, 7.721813678741455, 10.410588264465332, 30.819046020507812, 9.123833656311035, 26.092844009399414, 19.823184967041016, 27.722354888916016, 37.51220703125, 19.26359748840332, 41.38105392456055, 26.448089599609375, 20.005441665649414, 13.952268600463867, 14.74597454071045, 16.789569854736328, 25.111019134521484, 14.742544174194336, 16.965087890625, 21.511232376098633, 22.472562789916992, 21.736120223999023, 19.835222244262695, 16.605998992919922, 15.595568656921387, 71.68704223632812, 64.55294036865234, 53.93996047973633, 44.99976348876953, 34.430171966552734, 34.68289566040039, 31.89716911315918, 28.921070098876953, 29.001529693603516, 28.85952377319336, 27.846899032592773, 27.28712272644043, 27.153644561767578, 27.72804832458496, 26.715747833251953, 26.062232971191406, 25.264549255371094, 24.96580696105957, 25.02968978881836, 24.98778533935547, 24.650259017944336, 24.408035278320312, 24.44674301147461, 24.608102798461914, 24.30816650390625, 24.30792808532715, 24.644750595092773, 24.12887954711914, 23.9277400970459, 23.9277400970459, 26.689605712890625, 27.880178451538086, 24.325031280517578, 27.3327693939209, 42.65229415893555, 41.11503601074219, 64.18964385986328, 28.354379653930664, 34.554115295410156, 74.87830352783203, 38.12453842163086, 78.49132537841797, 76.68032836914062, 66.24555969238281, 69.24786376953125, 39.177734375, 40.53701400756836, 34.06071472167969, 45.601318359375, 52.15911102294922, 31.391414642333984, 32.49698257446289, 30.370643615722656, 37.41828918457031, 39.80259704589844, 31.738914489746094, 32.19728088378906, 30.323820114135742, 3.5854499340057373, 3.267268419265747, 2.9617483615875244, 2.941988945007324, 2.8046014308929443, 2.4627645015716553, 2.4878721237182617, 2.2741031646728516, 2.20955753326416, 2.2384376525878906, 2.06783127784729, 2.0510220527648926, 2.1312453746795654, 1.9596142768859863, 2.839332103729248, 1.8252583742141724, 2.628758192062378, 3.659740447998047, 1.7354164123535156, 1.6093472242355347, 1.522577166557312, 1.4743616580963135, 1.4603420495986938, 1.4628300666809082, 1.4547455310821533, 1.379515290260315, 1.3279366493225098, 2.6216814517974854, 1.3150614500045776, 1.2683132886886597, 2.6737074851989746, 2.047236680984497, 2.133059024810791, 3.026172161102295, 4.6297197341918945, 3.8625123500823975, 3.2041866779327393, 5.2064619064331055, 2.0115854740142822, 2.873002052307129, 2.150583028793335, 2.107879161834717, 3.090378761291504, 2.6134462356567383, 3.0072548389434814, 2.9708540439605713, 2.6956138610839844, 2.372021198272705, 2.2038660049438477, 2.196486473083496], \"Total\": [72.0, 65.0, 123.0, 54.0, 108.0, 80.0, 61.0, 107.0, 45.0, 119.0, 43.0, 39.0, 50.0, 48.0, 46.0, 35.0, 47.0, 35.0, 37.0, 60.0, 82.0, 44.0, 44.0, 32.0, 39.0, 53.0, 29.0, 29.0, 29.0, 42.0, 61.865325927734375, 44.26111602783203, 50.56684112548828, 47.65104675292969, 22.952232360839844, 42.02785110473633, 21.265111923217773, 18.40801239013672, 16.39570426940918, 14.830866813659668, 39.38218688964844, 24.428625106811523, 13.969274520874023, 14.431480407714844, 13.314644813537598, 13.299696922302246, 21.061710357666016, 44.23471450805664, 13.590943336486816, 10.954178810119629, 10.436017036437988, 10.870488166809082, 12.107901573181152, 9.760544776916504, 9.410569190979004, 53.39518737792969, 9.394091606140137, 9.623482704162598, 9.001059532165527, 60.677791595458984, 25.652002334594727, 35.76356887817383, 17.472248077392578, 33.703426361083984, 25.528602600097656, 43.692604064941406, 17.760635375976562, 31.482105255126953, 46.476139068603516, 49.586551666259766, 82.02233123779297, 81.60108947753906, 43.0377197265625, 18.832481384277344, 24.16874122619629, 52.04247283935547, 123.99419403076172, 82.20314025878906, 115.41644287109375, 131.50047302246094, 69.06288146972656, 93.29615020751953, 41.34822463989258, 45.19344711303711, 69.8304443359375, 57.590919494628906, 107.69261932373047, 43.7780876159668, 39.76523971557617, 37.14586639404297, 26.66537094116211, 25.76998519897461, 26.251094818115234, 20.106760025024414, 19.735132217407227, 17.81148338317871, 16.764328002929688, 16.54865264892578, 19.93472671508789, 14.362127304077148, 13.36905288696289, 11.757023811340332, 12.92170524597168, 11.476469039916992, 11.5228271484375, 10.941174507141113, 11.176959037780762, 10.596990585327148, 9.77662181854248, 9.951566696166992, 9.113510131835938, 14.623050689697266, 10.048975944519043, 8.029865264892578, 8.028841018676758, 8.433237075805664, 11.391551971435547, 36.330928802490234, 10.077595710754395, 32.05179977416992, 24.823017120361328, 43.548118591308594, 69.8304443359375, 31.23248863220215, 108.2739028930664, 54.04583740234375, 35.09135437011719, 20.005693435668945, 23.047393798828125, 31.293685913085938, 81.60108947753906, 26.043415069580078, 41.34822463989258, 93.29615020751953, 115.41644287109375, 119.99439239501953, 131.50047302246094, 82.02233123779297, 80.35008239746094, 72.62651824951172, 65.49114227294922, 54.8766975402832, 45.98273849487305, 35.35756301879883, 35.65979766845703, 32.83863830566406, 29.846752166748047, 29.950929641723633, 29.815481185913086, 28.774269104003906, 28.207874298095703, 28.07065200805664, 28.6811580657959, 27.64508819580078, 27.003541946411133, 26.19083023071289, 25.88177490234375, 25.95152473449707, 25.913930892944336, 25.56852149963379, 25.32321548461914, 25.36360740661621, 25.531959533691406, 25.22176742553711, 25.222232818603516, 25.57869529724121, 25.04482078552246, 24.840354919433594, 24.840354919433594, 27.730491638183594, 29.016374588012695, 25.259889602661133, 28.83162498474121, 48.09761047363281, 46.734615325927734, 80.35008239746094, 30.388656616210938, 39.395973205566406, 107.69261932373047, 44.9185905456543, 119.99439239501953, 123.99419403076172, 108.2739028930664, 131.50047302246094, 54.66838836669922, 62.54219436645508, 44.58723068237305, 82.20314025878906, 115.41644287109375, 39.22896957397461, 43.112518310546875, 36.441978454589844, 69.06288146972656, 93.29615020751953, 49.332096099853516, 57.590919494628906, 43.23468780517578, 4.478526592254639, 4.223007678985596, 3.8315391540527344, 3.8480162620544434, 3.7030601501464844, 3.3494486808776855, 3.413470983505249, 3.141878604888916, 3.0941238403320312, 3.1631381511688232, 2.9468722343444824, 2.9509689807891846, 3.0755417346954346, 2.8359954357147217, 4.213282108306885, 2.7418758869171143, 3.960599899291992, 5.566669464111328, 2.6557846069335938, 2.4947621822357178, 2.3947434425354004, 2.3420486450195312, 2.3410937786102295, 2.3459649085998535, 2.356727123260498, 2.2425506114959717, 2.1961793899536133, 4.379897594451904, 2.2003567218780518, 2.1401526927948, 4.77761697769165, 3.582770586013794, 3.7502946853637695, 5.625257968902588, 13.60135555267334, 10.560809135437012, 8.580961227416992, 19.780208587646484, 3.9731078147888184, 8.498262405395508, 4.628086566925049, 4.43934965133667, 13.483302116394043, 8.449756622314453, 14.875687599182129, 19.195579528808594, 15.817423820495605, 26.043415069580078, 10.622199058532715, 10.49867057800293], \"Category\": [\"Default\", \"Default\", \"Default\", \"Default\", \"Default\", \"Default\", \"Default\", \"Default\", \"Default\", \"Default\", \"Default\", \"Default\", \"Default\", \"Default\", \"Default\", \"Default\", \"Default\", \"Default\", \"Default\", \"Default\", \"Default\", \"Default\", \"Default\", \"Default\", \"Default\", \"Default\", \"Default\", \"Default\", \"Default\", \"Default\", \"Topic1\", \"Topic1\", \"Topic1\", \"Topic1\", \"Topic1\", \"Topic1\", \"Topic1\", \"Topic1\", \"Topic1\", \"Topic1\", \"Topic1\", \"Topic1\", \"Topic1\", \"Topic1\", \"Topic1\", \"Topic1\", \"Topic1\", \"Topic1\", \"Topic1\", \"Topic1\", \"Topic1\", \"Topic1\", \"Topic1\", \"Topic1\", \"Topic1\", \"Topic1\", \"Topic1\", \"Topic1\", \"Topic1\", \"Topic1\", \"Topic1\", \"Topic1\", \"Topic1\", \"Topic1\", \"Topic1\", \"Topic1\", \"Topic1\", \"Topic1\", \"Topic1\", \"Topic1\", \"Topic1\", \"Topic1\", \"Topic1\", \"Topic1\", \"Topic1\", \"Topic1\", \"Topic1\", \"Topic1\", \"Topic1\", \"Topic1\", \"Topic1\", \"Topic1\", \"Topic1\", \"Topic1\", \"Topic1\", \"Topic1\", \"Topic1\", \"Topic2\", \"Topic2\", \"Topic2\", \"Topic2\", \"Topic2\", \"Topic2\", \"Topic2\", \"Topic2\", \"Topic2\", \"Topic2\", \"Topic2\", \"Topic2\", \"Topic2\", \"Topic2\", \"Topic2\", \"Topic2\", \"Topic2\", \"Topic2\", \"Topic2\", \"Topic2\", \"Topic2\", \"Topic2\", \"Topic2\", \"Topic2\", \"Topic2\", \"Topic2\", \"Topic2\", \"Topic2\", \"Topic2\", \"Topic2\", \"Topic2\", \"Topic2\", \"Topic2\", \"Topic2\", \"Topic2\", \"Topic2\", \"Topic2\", \"Topic2\", \"Topic2\", \"Topic2\", \"Topic2\", \"Topic2\", \"Topic2\", \"Topic2\", \"Topic2\", \"Topic2\", \"Topic2\", \"Topic2\", \"Topic2\", \"Topic2\", \"Topic2\", \"Topic2\", \"Topic3\", \"Topic3\", \"Topic3\", \"Topic3\", \"Topic3\", \"Topic3\", \"Topic3\", \"Topic3\", \"Topic3\", \"Topic3\", \"Topic3\", \"Topic3\", \"Topic3\", \"Topic3\", \"Topic3\", \"Topic3\", \"Topic3\", \"Topic3\", \"Topic3\", \"Topic3\", \"Topic3\", \"Topic3\", \"Topic3\", \"Topic3\", \"Topic3\", \"Topic3\", \"Topic3\", \"Topic3\", \"Topic3\", \"Topic3\", \"Topic3\", \"Topic3\", \"Topic3\", \"Topic3\", \"Topic3\", \"Topic3\", \"Topic3\", \"Topic3\", \"Topic3\", \"Topic3\", \"Topic3\", \"Topic3\", \"Topic3\", \"Topic3\", \"Topic3\", \"Topic3\", \"Topic3\", \"Topic3\", \"Topic3\", \"Topic3\", \"Topic3\", \"Topic3\", \"Topic3\", \"Topic3\", \"Topic3\", \"Topic3\", \"Topic3\", \"Topic3\", \"Topic4\", \"Topic4\", \"Topic4\", \"Topic4\", \"Topic4\", \"Topic4\", \"Topic4\", \"Topic4\", \"Topic4\", \"Topic4\", \"Topic4\", \"Topic4\", \"Topic4\", \"Topic4\", \"Topic4\", \"Topic4\", \"Topic4\", \"Topic4\", \"Topic4\", \"Topic4\", \"Topic4\", \"Topic4\", \"Topic4\", \"Topic4\", \"Topic4\", \"Topic4\", \"Topic4\", \"Topic4\", \"Topic4\", \"Topic4\", \"Topic4\", \"Topic4\", \"Topic4\", \"Topic4\", \"Topic4\", \"Topic4\", \"Topic4\", \"Topic4\", \"Topic4\", \"Topic4\", \"Topic4\", \"Topic4\", \"Topic4\", \"Topic4\", \"Topic4\", \"Topic4\", \"Topic4\", \"Topic4\", \"Topic4\", \"Topic4\"], \"logprob\": [30.0, 29.0, 28.0, 27.0, 26.0, 25.0, 24.0, 23.0, 22.0, 21.0, 20.0, 19.0, 18.0, 17.0, 16.0, 15.0, 14.0, 13.0, 12.0, 11.0, 10.0, 9.0, 8.0, 7.0, 6.0, 5.0, 4.0, 3.0, 2.0, 1.0, -4.203499794006348, -4.543399810791016, -4.411600112915039, -4.47189998626709, -5.215099811553955, -4.611100196838379, -5.294600009918213, -5.442699909210205, -5.563199996948242, -5.6682000160217285, -4.693699836730957, -5.171899795532227, -5.731500148773193, -5.701200008392334, -5.784200191497803, -5.7881999015808105, -5.329999923706055, -4.593699932098389, -5.7743000984191895, -5.990799903869629, -6.041399955749512, -6.003399848937988, -5.896500110626221, -6.112299919128418, -6.153200149536133, -4.4182000160217285, -6.156000137329102, -6.133399963378906, -6.200399875640869, -4.292500019073486, -5.156899929046631, -4.836599826812744, -5.547800064086914, -4.910299777984619, -5.196400165557861, -4.700699806213379, -5.546599864959717, -5.053699970245361, -4.737299919128418, -4.68310022354126, -4.392399787902832, -4.430600166320801, -4.950300216674805, -5.528299808502197, -5.369699954986572, -4.90500020980835, -4.484099864959717, -4.739200115203857, -4.61329984664917, -4.57390022277832, -4.887599945068359, -4.857800006866455, -5.136899948120117, -5.116499900817871, -5.03879976272583, -5.105299949645996, -5.121600151062012, -4.345099925994873, -4.442800045013428, -4.5121002197265625, -4.850800037384033, -4.8881001472473145, -4.8709001541137695, -5.1417999267578125, -5.1616997718811035, -5.26800012588501, -5.330399990081787, -5.346099853515625, -5.161900043487549, -5.492000102996826, -5.56850004196167, -5.705599784851074, -5.611499786376953, -5.7307000160217285, -5.727700233459473, -5.779699802398682, -5.761499881744385, -5.816400051116943, -5.899799823760986, -5.8821001052856445, -5.977099895477295, -5.506700038909912, -5.887899875640869, -6.11299991607666, -6.11329984664917, -6.064599990844727, -5.7657999992370605, -4.680500030517578, -5.897799968719482, -4.8470001220703125, -5.121799945831299, -4.786399841308594, -4.484000205993652, -5.150400161743164, -4.385799884796143, -4.833499908447266, -5.11269998550415, -5.4730000495910645, -5.417699813842773, -5.287899971008301, -4.885300159454346, -5.417900085449219, -5.277500152587891, -5.04010009765625, -4.996399879455566, -5.029699802398682, -5.121200084686279, -5.298900127410889, -5.361700057983398, -3.7435998916625977, -3.848400115966797, -4.0279998779296875, -4.209199905395508, -4.476900100708008, -4.469600200653076, -4.553400039672852, -4.651299953460693, -4.648499965667725, -4.65339994430542, -4.6890997886657715, -4.709499835968018, -4.714399814605713, -4.693399906158447, -4.730599880218506, -4.75540018081665, -4.786499977111816, -4.798399925231934, -4.79580020904541, -4.797500133514404, -4.811100006103516, -4.821000099182129, -4.819399833679199, -4.81279993057251, -4.825099945068359, -4.825099945068359, -4.811299800872803, -4.832499980926514, -4.840799808502197, -4.840799808502197, -4.731599807739258, -4.688000202178955, -4.824399948120117, -4.707799911499023, -4.262800216674805, -4.299499988555908, -3.8540000915527344, -4.67110013961792, -4.473299980163574, -3.700000047683716, -4.375, -3.652899980545044, -3.6761999130249023, -3.822499990463257, -3.7781999111175537, -4.347799777984619, -4.313700199127197, -4.48769998550415, -4.195899963378906, -4.061600208282471, -4.569300174713135, -4.5346999168396, -4.602399826049805, -4.393700122833252, -4.331900119781494, -4.558300018310547, -4.544000148773193, -4.603899955749512, -5.272500038146973, -5.365499973297119, -5.463699817657471, -5.470300197601318, -5.518199920654297, -5.648099899291992, -5.638000011444092, -5.727799892425537, -5.7565999031066895, -5.74370002746582, -5.82289981842041, -5.831099987030029, -5.792699813842773, -5.876699924468994, -5.505899906158447, -5.947700023651123, -5.582900047302246, -5.251999855041504, -5.998199939727783, -6.073599815368652, -6.129000186920166, -6.161200046539307, -6.17080020904541, -6.169099807739258, -6.174600124359131, -6.227700233459473, -6.2657999992370605, -5.585599899291992, -6.2754998207092285, -6.311699867248535, -5.565999984741211, -5.832900047302246, -5.791900157928467, -5.4421000480651855, -5.016900062561035, -5.1981000900268555, -5.385000228881836, -4.899499893188477, -5.850500106811523, -5.494100093841553, -5.783699989318848, -5.803699970245361, -5.42110013961792, -5.588799953460693, -5.448400020599365, -5.460599899291992, -5.557799816131592, -5.685699939727783, -5.759200096130371, -5.762599945068359], \"loglift\": [30.0, 29.0, 28.0, 27.0, 26.0, 25.0, 24.0, 23.0, 22.0, 21.0, 20.0, 19.0, 18.0, 17.0, 16.0, 15.0, 14.0, 13.0, 12.0, 11.0, 10.0, 9.0, 8.0, 7.0, 6.0, 5.0, 4.0, 3.0, 2.0, 1.0, 0.9901000261306763, 0.9850999712944031, 0.9836999773979187, 0.982699990272522, 0.9700000286102295, 0.9692000150680542, 0.9668999910354614, 0.963100016117096, 0.9584000110626221, 0.9535999894142151, 0.9516000151634216, 0.9509000182151794, 0.9502000212669373, 0.9478999972343445, 0.9455000162124634, 0.9426000118255615, 0.941100001335144, 0.9354000091552734, 0.9348000288009644, 0.9340999722480774, 0.9319000244140625, 0.929099977016449, 0.9282000064849854, 0.9279999732971191, 0.9235000014305115, 0.9226999878883362, 0.9225000143051147, 0.9208999872207642, 0.920799970626831, 0.9204999804496765, 0.9169999957084656, 0.9049999713897705, 0.910099983215332, 0.8906000256538391, 0.8823000192642212, 0.8406999707221985, 0.8949999809265137, 0.815500020980835, 0.7422999739646912, 0.7317000031471252, 0.5192000269889832, 0.4862000048160553, 0.6061999797821045, 0.8546000123023987, 0.7638999819755554, 0.46149998903274536, 0.0142000000923872, 0.17020000517368317, -0.043299999088048935, -0.13429999351501465, 0.19589999318122864, -0.07500000298023224, 0.45969998836517334, 0.3910999894142151, 0.03370000049471855, 0.1598999947309494, -0.4823000133037567, 1.1943000555038452, 1.1928000450134277, 1.19159996509552, 1.184399962425232, 1.1812000274658203, 1.179900050163269, 1.1756999492645264, 1.174399971961975, 1.170699954032898, 1.1689000129699707, 1.166200041770935, 1.164199948310852, 1.1619999408721924, 1.157099962234497, 1.1484999656677246, 1.1482000350952148, 1.1476000547409058, 1.1464999914169312, 1.146399974822998, 1.1432000398635864, 1.1416000127792358, 1.138800024986267, 1.138700008392334, 1.131700038909912, 1.1292999982833862, 1.1232000589370728, 1.1224000453948975, 1.1222000122070312, 1.1217999458312988, 1.1198999881744385, 1.0454000234603882, 1.1104999780654907, 1.0041999816894531, 0.9850000143051147, 0.7583000063896179, 0.5885000228881836, 0.7267000079154968, 0.24809999763965607, 0.4952999949455261, 0.6480000019073486, 0.8495000004768372, 0.7633000016212463, 0.5873000025749207, 0.03139999881386757, 0.6409000158309937, 0.3190000057220459, -0.2572999894618988, -0.4262999892234802, -0.4986000061035156, -0.6815999746322632, -0.3873000144958496, -0.429500013589859, 1.2897000312805176, 1.2883000373840332, 1.2855000495910645, 1.2811000347137451, 1.2761000394821167, 1.274899959564209, 1.2735999822616577, 1.2711999416351318, 1.2704999446868896, 1.2700999975204468, 1.2698999643325806, 1.2695000171661377, 1.2695000171661377, 1.2689000368118286, 1.2684999704360962, 1.267199993133545, 1.266700029373169, 1.266700029373169, 1.2664999961853027, 1.2662999629974365, 1.2661000490188599, 1.2659000158309937, 1.2659000158309937, 1.2657999992370605, 1.2657999992370605, 1.2657999992370605, 1.2654999494552612, 1.2654000520706177, 1.2653000354766846, 1.2653000354766846, 1.2644000053405762, 1.2627999782562256, 1.2649999856948853, 1.2493000030517578, 1.1825000047683716, 1.1746000051498413, 1.0780999660491943, 1.2333999872207642, 1.1715999841690063, 0.939300000667572, 1.138700008392334, 0.8781999945640564, 0.8220999836921692, 0.8113999962806702, 0.6614000201225281, 0.9695000052452087, 0.8690999746322632, 1.033400058746338, 0.7134000062942505, 0.5084999799728394, 1.079800009727478, 1.0199999809265137, 1.1204999685287476, 0.6898000240325928, 0.45089998841285706, 0.8616999983787537, 0.7211999893188477, 0.9480000138282776, 2.5467000007629395, 2.512500047683716, 2.5116000175476074, 2.500699996948242, 2.4911999702453613, 2.4616000652313232, 2.4528000354766846, 2.4458999633789062, 2.4323999881744385, 2.42330002784729, 2.414900064468384, 2.4052999019622803, 2.402400016784668, 2.3994998931884766, 2.374500036239624, 2.3622000217437744, 2.359299898147583, 2.3496999740600586, 2.343600034713745, 2.3308000564575195, 2.3162999153137207, 2.306299924850464, 2.2971999645233154, 2.296799898147583, 2.2867000102996826, 2.2832999229431152, 2.2660000324249268, 2.2558999061584473, 2.2544000148773193, 2.2458999156951904, 2.188699960708618, 2.2095000743865967, 2.204900026321411, 2.149199962615967, 1.691499948501587, 1.7632999420166016, 1.784000039100647, 1.434399962425232, 2.0885000228881836, 1.6845999956130981, 2.002700090408325, 2.0243000984191895, 1.2960000038146973, 1.5957000255584717, 1.1704000234603882, 0.9032999873161316, 0.9995999932289124, 0.37310001254081726, 1.1964000463485718, 1.204699993133545]}, \"token.table\": {\"Topic\": [4, 3, 1, 2, 3, 4, 1, 2, 3, 4, 1, 2, 3, 2, 4, 3, 1, 2, 3, 2, 4, 1, 2, 3, 3, 2, 1, 4, 1, 2, 4, 1, 2, 3, 2, 2, 3, 1, 2, 4, 1, 2, 4, 3, 3, 1, 2, 4, 4, 1, 4, 2, 2, 1, 2, 4, 2, 1, 4, 1, 1, 1, 1, 1, 3, 4, 1, 2, 3, 1, 2, 3, 1, 3, 4, 1, 2, 3, 4, 4, 1, 2, 3, 3, 4, 3, 4, 1, 1, 3, 3, 2, 3, 4, 3, 1, 2, 3, 4, 1, 2, 2, 4, 1, 2, 1, 2, 3, 4, 2, 4, 1, 2, 4, 1, 3, 4, 1, 2, 3, 2, 1, 2, 2, 4, 1, 2, 1, 2, 3, 1, 2, 3, 3, 2, 3, 4, 1, 3, 1, 2, 3, 2, 4, 1, 2, 3, 3, 1, 2, 4, 2, 1, 2, 3, 1, 2, 3, 1, 2, 3, 1, 1, 2, 4, 1, 2, 3, 2, 1, 2, 4, 2, 3, 1, 2, 3, 1, 3, 1, 4, 2, 3, 4, 1, 3, 2, 4, 3, 1, 2, 1, 2, 1, 2, 3, 1, 2, 3, 4, 1, 2, 2, 1, 3, 4, 1, 3, 1, 2, 2, 4, 4, 1, 2, 4, 1, 2, 3, 1, 3, 3, 3, 4, 2, 3, 4, 1, 3, 4, 1, 2, 3, 3, 3, 1, 2, 3, 2, 1, 2, 4, 1, 2, 3, 1, 2, 2, 3, 2, 3, 3, 3, 1, 2, 3, 4, 1, 4, 1, 2, 4, 4, 3, 1, 2, 3, 1, 2, 3, 2, 3, 4, 1, 2, 2, 3, 1, 2, 3, 2, 2, 1, 2, 2, 2, 3, 3, 4, 1, 2, 1, 3, 2, 2, 3, 1, 2, 3, 2, 3, 1, 2, 1, 2, 4, 3, 1, 2, 3, 1, 2, 1, 4, 2, 3, 2, 4, 4, 1, 2, 3, 3, 4, 3, 1, 2, 3, 3, 1, 2, 3, 1, 2, 3, 2, 4, 2, 2], \"Freq\": [0.42431727051734924, 0.9515590071678162, 0.3885590732097626, 0.48107314109802246, 0.11101687699556351, 0.018502812832593918, 0.02849704772233963, 0.5699409246444702, 0.3704616129398346, 0.02849704772233963, 0.9755435585975647, 0.023793745785951614, 0.023793745785951614, 0.9205633997917175, 0.42626383900642395, 0.9840242266654968, 0.553177535533905, 0.11063551157712936, 0.35403361916542053, 0.5881766676902771, 0.3676104247570038, 0.9176856875419617, 0.05618483945727348, 0.018728280439972878, 0.9925006031990051, 0.913978636264801, 0.975865364074707, 0.6777434945106506, 0.13762378692626953, 0.8532674908638, 0.7829751372337341, 0.15699562430381775, 0.06728383898735046, 0.7625501751899719, 0.9691522717475891, 0.982226550579071, 0.9716299772262573, 0.9582200050354004, 0.43214404582977295, 0.43214404582977295, 0.9352123737335205, 0.5681383013725281, 0.37875884771347046, 0.9647320508956909, 0.9814974069595337, 0.9084976315498352, 0.08259069174528122, 0.7103941440582275, 0.44592082500457764, 0.2373446524143219, 0.7120339870452881, 0.9750473499298096, 0.8717456459999084, 0.6738275289535522, 0.27882519364356995, 0.02323543094098568, 0.9723950028419495, 0.9563714861869812, 0.7052197456359863, 0.9585124254226685, 0.9220796823501587, 0.9128936529159546, 0.9580489993095398, 0.47338640689849854, 0.23669320344924927, 0.3550398051738739, 0.4473745822906494, 0.5432406067848206, 0.9762506484985352, 0.7663367986679077, 0.20166757702827454, 0.020166758447885513, 0.3446032404899597, 0.6486648917198181, 0.5971131920814514, 0.9774658679962158, 0.05209532752633095, 0.7293345928192139, 0.15628598630428314, 0.42697662115097046, 0.4488663077354431, 0.014479557983577251, 0.5357436537742615, 0.9501228928565979, 0.45447176694869995, 0.9616047143936157, 0.585913896560669, 0.9778350591659546, 0.13720440864562988, 0.8232264518737793, 0.9628366827964783, 0.10395526885986328, 0.8940153121948242, 0.8351625204086304, 0.9744618535041809, 0.6217818856239319, 0.2072606235742569, 0.18287701904773712, 0.6786856651306152, 0.9157379269599915, 0.057233620434999466, 0.25169214606285095, 0.5033842921257019, 0.3842152953147888, 0.6083409190177917, 0.7745910286903381, 0.17213134467601776, 0.04303283616900444, 0.7294276356697083, 0.741658091545105, 0.22249741852283478, 0.11767111718654633, 0.588355541229248, 0.3530133366584778, 0.17964062094688416, 0.17964062094688416, 0.7185624837875366, 0.8468252420425415, 0.09154867380857468, 0.04577433690428734, 0.9486274123191833, 0.7861394286155701, 0.20687879621982574, 0.8890073895454407, 0.06838518381118774, 0.9887902736663818, 0.01977580599486828, 0.894765317440033, 0.08388424664735794, 0.9913734197616577, 0.38665083050727844, 0.5441752672195435, 0.08592241257429123, 0.9545325636863708, 0.034684136509895325, 0.9364716410636902, 0.650291919708252, 0.133574977517128, 0.8459749221801758, 0.22285649180412292, 0.07428549975156784, 0.6964265704154968, 0.2524870038032532, 0.7574610114097595, 0.1666744500398636, 0.18334190547466278, 0.6500303745269775, 0.9515414237976074, 0.3444465696811676, 0.6429669260978699, 0.8931508660316467, 0.9747859835624695, 0.9008686542510986, 0.056304290890693665, 0.056304290890693665, 0.2603331208229065, 0.6508328318595886, 0.0867777094244957, 0.09923002123832703, 0.8930701613426208, 0.9736574292182922, 0.8887842297554016, 0.30333349108695984, 0.4044446647167206, 0.25277793407440186, 0.023195119574666023, 0.23195119202136993, 0.7422438263893127, 0.9544404149055481, 0.24992884695529938, 0.6998007893562317, 0.049985770136117935, 0.032907016575336456, 0.9213964343070984, 0.10196546465158463, 0.10196546465158463, 0.7902323007583618, 0.8258659839630127, 0.15882037580013275, 0.9875330328941345, 0.7530730962753296, 0.2666456997394562, 0.2666456997394562, 0.5332913994789124, 0.43409621715545654, 0.5556431412696838, 0.9436641335487366, 0.779622495174408, 0.9786280989646912, 0.9863371849060059, 0.02098589763045311, 0.2014259546995163, 0.8057038187980652, 0.9701014161109924, 0.10698708146810532, 0.8772940635681152, 0.9763684868812561, 0.6050140261650085, 0.13444755971431732, 0.20167134702205658, 0.08778434991836548, 0.8778434991836548, 0.9546268582344055, 0.9268738627433777, 0.045213356614112854, 0.8016796112060547, 0.9395110607147217, 0.025392191484570503, 0.09951262921094894, 0.8956136703491211, 0.3555392622947693, 0.5333088636398315, 0.42715075612068176, 0.9415184259414673, 0.04093558341264725, 0.8101407885551453, 0.3193904757499695, 0.15209071338176727, 0.5247129201889038, 0.8495959639549255, 0.10619949549436569, 0.9618586897850037, 0.22831584513187408, 0.6849475502967834, 0.9668461084365845, 0.9633345603942871, 0.6322835087776184, 0.9355995059013367, 0.038983311504125595, 0.4672563672065735, 0.5764522552490234, 0.24979597330093384, 0.17293566465377808, 0.9462376236915588, 0.9766653776168823, 0.1280447542667389, 0.1463368535041809, 0.7133921384811401, 0.9584829807281494, 0.34557679295539856, 0.5759613513946533, 0.07679484039545059, 0.2238488793373108, 0.12791363894939423, 0.6555574536323547, 0.919921875, 0.8718568682670593, 0.19912861287593842, 0.7965144515037537, 0.9701208472251892, 0.9477469325065613, 0.9730916023254395, 0.9661697745323181, 0.9306138157844543, 0.11653706431388855, 0.4661482572555542, 0.34961119294166565, 0.9495905041694641, 0.047479525208473206, 0.9009501934051514, 0.039171747863292694, 0.039171747863292694, 0.6463865637779236, 0.958281934261322, 0.062398992478847504, 0.8111869096755981, 0.12479798495769501, 0.35523533821105957, 0.19061408936977386, 0.4505423903465271, 0.5648548007011414, 0.18828493356704712, 0.18828493356704712, 0.050163716077804565, 0.9531106352806091, 0.034463297575712204, 0.9649723768234253, 0.5804360508918762, 0.4111422002315521, 0.9791649580001831, 0.8946977257728577, 0.9449558258056641, 0.8901172280311584, 0.08901172131299973, 0.8778176307678223, 0.37866926193237305, 0.6095651984214783, 0.2252582162618637, 0.4505164325237274, 0.9439771771430969, 0.9807560443878174, 0.9860127568244934, 0.9661697745323181, 0.9286699891090393, 0.9544074535369873, 0.9682503938674927, 0.1387774497270584, 0.16190703213214874, 0.6938872933387756, 0.10153321921825409, 0.8884156942367554, 0.9941005706787109, 0.904380202293396, 0.5689927935600281, 0.2528856694698334, 0.18966425955295563, 0.9777647852897644, 0.3429937958717346, 0.23580822348594666, 0.4287422299385071, 0.9565193057060242, 0.07357840985059738, 0.2791135907173157, 0.5582271814346313, 0.9356109499931335, 0.977375864982605, 0.7620012164115906, 0.19050030410289764, 0.6365618109703064, 0.9229077100753784, 0.06592197716236115, 0.016480494290590286, 0.9571795463562012, 0.45533621311187744, 0.9659306406974792, 0.43793946504592896, 0.01216498576104641, 0.5595893263816833, 0.972649097442627, 0.600482165813446, 0.30636847019195557, 0.08578316867351532, 0.37098512053489685, 0.008064894005656242, 0.6209968328475952, 0.41861873865127563, 0.6279281377792358, 0.9523412585258484, 0.9627500772476196], \"Term\": [\"actual\", \"allow\", \"also\", \"also\", \"also\", \"also\", \"always\", \"always\", \"always\", \"always\", \"amazing\", \"amazing\", \"amazing\", \"apartment\", \"art\", \"ask\", \"atmosphere\", \"atmosphere\", \"atmosphere\", \"away\", \"away\", \"back\", \"back\", \"back\", \"bar\", \"bedroom\", \"beef\", \"beer\", \"big\", \"big\", \"birthday\", \"bit\", \"bit\", \"bit\", \"breakfast\", \"business\", \"busy\", \"butter\", \"cellar\", \"cellar\", \"certainly\", \"change\", \"change\", \"charming\", \"cheese\", \"chef\", \"chef\", \"chicken\", \"child\", \"chocolate\", \"chocolate\", \"clean\", \"coffee\", \"come\", \"come\", \"come\", \"comfortable\", \"comment\", \"completely\", \"cook\", \"cooked_perfection\", \"cosy\", \"creme_brulee\", \"customer\", \"customer\", \"customer\", \"day\", \"day\", \"decide\", \"definitely\", \"definitely\", \"definitely\", \"delicious\", \"delicious\", \"deserve\", \"dessert\", \"dinner\", \"dinner\", \"dinner\", \"disappointment\", \"dish\", \"dish\", \"dish\", \"door\", \"downside\", \"drink\", \"dry\", \"duck\", \"eat\", \"eat\", \"else\", \"enjoy\", \"enjoy\", \"escargot\", \"evening\", \"excellent\", \"excellent\", \"excellent\", \"exclusive\", \"expect\", \"expect\", \"expectation\", \"expectation\", \"expensive\", \"expensive\", \"experience\", \"experience\", \"experience\", \"fall\", \"family\", \"family\", \"far\", \"far\", \"far\", \"favorite\", \"favorite\", \"favorite\", \"find\", \"find\", \"find\", \"fine\", \"first\", \"first\", \"free\", \"free\", \"french\", \"french\", \"fresh\", \"fresh\", \"friend\", \"friendly\", \"friendly\", \"friendly\", \"front\", \"full\", \"full\", \"game\", \"get\", \"get\", \"go\", \"go\", \"go\", \"gra\", \"gra\", \"great\", \"great\", \"great\", \"guy\", \"helpful\", \"helpful\", \"husband\", \"kitchen\", \"know\", \"know\", \"know\", \"large\", \"large\", \"large\", \"least\", \"least\", \"leave\", \"leg\", \"little\", \"little\", \"little\", \"live\", \"live\", \"live\", \"locate\", \"location\", \"location\", \"location\", \"long\", \"long\", \"look\", \"look\", \"look\", \"love\", \"love\", \"main\", \"man\", \"mention\", \"mention\", \"mention\", \"menu\", \"menu\", \"minute\", \"mostly\", \"music\", \"mussel\", \"mussel\", \"need\", \"need\", \"new\", \"night\", \"night\", \"occasion\", \"offer\", \"offer\", \"offer\", \"old\", \"old\", \"option\", \"order\", \"order\", \"outside\", \"owner\", \"owner\", \"parking\", \"parking\", \"part\", \"part\", \"patient\", \"perfect\", \"perfect\", \"perfection\", \"place\", \"place\", \"place\", \"plate\", \"plate\", \"platter\", \"play\", \"play\", \"pleasant\", \"point\", \"pork\", \"portion\", \"portion\", \"pretentious\", \"price\", \"price\", \"price\", \"pricey\", \"professional\", \"quality\", \"quality\", \"quality\", \"quiet\", \"quite\", \"quite\", \"quite\", \"really\", \"really\", \"really\", \"reasonable\", \"reception\", \"recommend\", \"recommend\", \"relax\", \"reply\", \"reservation\", \"response\", \"review\", \"right\", \"right\", \"right\", \"sauce\", \"sauce\", \"say\", \"say\", \"say\", \"season\", \"self\", \"serve\", \"serve\", \"serve\", \"service\", \"service\", \"service\", \"set\", \"set\", \"set\", \"share\", \"share\", \"sit\", \"sit\", \"small\", \"small\", \"somewhere\", \"space\", \"spacious\", \"special\", \"special\", \"spend\", \"staff\", \"staff\", \"standard\", \"standard\", \"starter\", \"stay\", \"steak\", \"sternly\", \"style\", \"suite\", \"sure\", \"table\", \"table\", \"table\", \"take\", \"take\", \"taste\", \"team\", \"thing\", \"thing\", \"thing\", \"though\", \"time\", \"time\", \"time\", \"top\", \"top\", \"totally\", \"totally\", \"town\", \"treat\", \"trip\", \"trip\", \"truly\", \"try\", \"try\", \"try\", \"unique\", \"vegetable\", \"venue\", \"visit\", \"visit\", \"visit\", \"way\", \"well\", \"well\", \"well\", \"wine\", \"wine\", \"wine\", \"wish\", \"wish\", \"wonderful\", \"work\"]}, \"R\": 30, \"lambda.step\": 0.01, \"plot.opts\": {\"xlab\": \"PC1\", \"ylab\": \"PC2\"}, \"topic.order\": [2, 3, 4, 1]};\n",
       "\n",
       "function LDAvis_load_lib(url, callback){\n",
       "  var s = document.createElement('script');\n",
       "  s.src = url;\n",
       "  s.async = true;\n",
       "  s.onreadystatechange = s.onload = callback;\n",
       "  s.onerror = function(){console.warn(\"failed to load library \" + url);};\n",
       "  document.getElementsByTagName(\"head\")[0].appendChild(s);\n",
       "}\n",
       "\n",
       "if(typeof(LDAvis) !== \"undefined\"){\n",
       "   // already loaded: just create the visualization\n",
       "   !function(LDAvis){\n",
       "       new LDAvis(\"#\" + \"ldavis_el621617115433166804090631687\", ldavis_el621617115433166804090631687_data);\n",
       "   }(LDAvis);\n",
       "}else if(typeof define === \"function\" && define.amd){\n",
       "   // require.js is available: use it to load d3/LDAvis\n",
       "   require.config({paths: {d3: \"https://cdnjs.cloudflare.com/ajax/libs/d3/3.5.5/d3.min\"}});\n",
       "   require([\"d3\"], function(d3){\n",
       "      window.d3 = d3;\n",
       "      LDAvis_load_lib(\"https://cdn.rawgit.com/bmabey/pyLDAvis/files/ldavis.v1.0.0.js\", function(){\n",
       "        new LDAvis(\"#\" + \"ldavis_el621617115433166804090631687\", ldavis_el621617115433166804090631687_data);\n",
       "      });\n",
       "    });\n",
       "}else{\n",
       "    // require.js not available: dynamically load d3 & LDAvis\n",
       "    LDAvis_load_lib(\"https://cdnjs.cloudflare.com/ajax/libs/d3/3.5.5/d3.min.js\", function(){\n",
       "         LDAvis_load_lib(\"https://cdn.rawgit.com/bmabey/pyLDAvis/files/ldavis.v1.0.0.js\", function(){\n",
       "                 new LDAvis(\"#\" + \"ldavis_el621617115433166804090631687\", ldavis_el621617115433166804090631687_data);\n",
       "            })\n",
       "         });\n",
       "}\n",
       "</script>"
      ],
      "text/plain": [
       "PreparedData(topic_coordinates=              x         y  topics  cluster       Freq\n",
       "topic                                                \n",
       "1     -0.157984 -0.077014       1        1  36.726265\n",
       "2     -0.108475  0.136128       2        1  29.822397\n",
       "3      0.176567 -0.222747       3        1  27.179714\n",
       "0      0.089892  0.163632       4        1   6.271622, topic_info=       Term        Freq       Total Category  logprob  loglift\n",
       "272  friend   72.000000   72.000000  Default  30.0000  30.0000\n",
       "122     bar   65.000000   65.000000  Default  29.0000  29.0000\n",
       "841    wine  123.000000  123.000000  Default  28.0000  28.0000\n",
       "208     ask   54.000000   54.000000  Default  27.0000  27.0000\n",
       "14    staff  108.000000  108.000000  Default  26.0000  26.0000\n",
       "..      ...         ...         ...      ...      ...      ...\n",
       "434  dinner    2.970854   19.195580   Topic4  -5.4606   0.9033\n",
       "154   thing    2.695614   15.817424   Topic4  -5.5578   0.9996\n",
       "356   quite    2.372021   26.043415   Topic4  -5.6857   0.3731\n",
       "381     set    2.203866   10.622199   Topic4  -5.7592   1.1964\n",
       "156    trip    2.196486   10.498671   Topic4  -5.7626   1.2047\n",
       "\n",
       "[247 rows x 6 columns], token_table=      Topic      Freq       Term\n",
       "term                            \n",
       "1602      4  0.424317     actual\n",
       "1620      3  0.951559      allow\n",
       "270       1  0.388559       also\n",
       "270       2  0.481073       also\n",
       "270       3  0.111017       also\n",
       "...     ...       ...        ...\n",
       "841       3  0.620997       wine\n",
       "219       2  0.418619       wish\n",
       "219       4  0.627928       wish\n",
       "573       2  0.952341  wonderful\n",
       "89        2  0.962750       work\n",
       "\n",
       "[339 rows x 3 columns], R=30, lambda_step=0.01, plot_opts={'xlab': 'PC1', 'ylab': 'PC2'}, topic_order=[2, 3, 4, 1])"
      ]
     },
     "metadata": {},
     "output_type": "display_data"
    }
   ],
   "source": [
    "plot_model(lda_pos_custom, plot ='topic_model')"
   ]
  },
  {
   "cell_type": "markdown",
   "metadata": {},
   "source": [
    "## Tuning the model using Coherence Value"
   ]
  },
  {
   "cell_type": "code",
   "execution_count": 10,
   "metadata": {},
   "outputs": [
    {
     "data": {
      "application/vnd.jupyter.widget-view+json": {
       "model_id": "",
       "version_major": 2,
       "version_minor": 0
      },
      "text/plain": [
       "IntProgress(value=0, description='Processing: ', max=25)"
      ]
     },
     "metadata": {},
     "output_type": "display_data"
    },
    {
     "data": {
      "application/vnd.jupyter.widget-view+json": {
       "model_id": "e2870e2c29124a4a9b7397d414f0dd69",
       "version_major": 2,
       "version_minor": 0
      },
      "text/plain": [
       "Output()"
      ]
     },
     "metadata": {},
     "output_type": "display_data"
    },
    {
     "data": {
      "text/html": [
       "        <script type=\"text/javascript\">\n",
       "        window.PlotlyConfig = {MathJaxConfig: 'local'};\n",
       "        if (window.MathJax) {MathJax.Hub.Config({SVG: {font: \"STIX-Web\"}});}\n",
       "        if (typeof require !== 'undefined') {\n",
       "        require.undef(\"plotly\");\n",
       "        requirejs.config({\n",
       "            paths: {\n",
       "                'plotly': ['https://cdn.plot.ly/plotly-latest.min']\n",
       "            }\n",
       "        });\n",
       "        require(['plotly'], function(Plotly) {\n",
       "            window._Plotly = Plotly;\n",
       "        });\n",
       "        }\n",
       "        </script>\n",
       "        "
      ]
     },
     "metadata": {},
     "output_type": "display_data"
    },
    {
     "data": {
      "application/vnd.plotly.v1+json": {
       "config": {
        "plotlyServerURL": "https://plot.ly"
       },
       "data": [
        {
         "hovertemplate": "Metric=Coherence<br># Topics=%{x}<br>Score=%{y}<extra></extra>",
         "legendgroup": "Coherence",
         "line": {
          "color": "#636efa",
          "dash": "solid",
          "shape": "linear"
         },
         "mode": "lines",
         "name": "Coherence",
         "orientation": "v",
         "showlegend": true,
         "type": "scatter",
         "x": [
          2,
          4,
          8,
          16,
          32,
          64,
          100,
          200,
          300,
          400
         ],
         "xaxis": "x",
         "y": [
          0.35648511683380696,
          0.355756769383056,
          0.3932531147354422,
          0.4294254055354886,
          0.49078680922972134,
          0.44475700702341536,
          0.5089699260519991,
          0.5140785042294045,
          0.498340171096358,
          0.4504325132144416
         ],
         "yaxis": "y"
        }
       ],
       "layout": {
        "legend": {
         "title": {
          "text": "Metric"
         },
         "tracegroupgap": 0
        },
        "plot_bgcolor": "rgb(245,245,245)",
        "template": {
         "data": {
          "bar": [
           {
            "error_x": {
             "color": "#2a3f5f"
            },
            "error_y": {
             "color": "#2a3f5f"
            },
            "marker": {
             "line": {
              "color": "#E5ECF6",
              "width": 0.5
             }
            },
            "type": "bar"
           }
          ],
          "barpolar": [
           {
            "marker": {
             "line": {
              "color": "#E5ECF6",
              "width": 0.5
             }
            },
            "type": "barpolar"
           }
          ],
          "carpet": [
           {
            "aaxis": {
             "endlinecolor": "#2a3f5f",
             "gridcolor": "white",
             "linecolor": "white",
             "minorgridcolor": "white",
             "startlinecolor": "#2a3f5f"
            },
            "baxis": {
             "endlinecolor": "#2a3f5f",
             "gridcolor": "white",
             "linecolor": "white",
             "minorgridcolor": "white",
             "startlinecolor": "#2a3f5f"
            },
            "type": "carpet"
           }
          ],
          "choropleth": [
           {
            "colorbar": {
             "outlinewidth": 0,
             "ticks": ""
            },
            "type": "choropleth"
           }
          ],
          "contour": [
           {
            "colorbar": {
             "outlinewidth": 0,
             "ticks": ""
            },
            "colorscale": [
             [
              0,
              "#0d0887"
             ],
             [
              0.1111111111111111,
              "#46039f"
             ],
             [
              0.2222222222222222,
              "#7201a8"
             ],
             [
              0.3333333333333333,
              "#9c179e"
             ],
             [
              0.4444444444444444,
              "#bd3786"
             ],
             [
              0.5555555555555556,
              "#d8576b"
             ],
             [
              0.6666666666666666,
              "#ed7953"
             ],
             [
              0.7777777777777778,
              "#fb9f3a"
             ],
             [
              0.8888888888888888,
              "#fdca26"
             ],
             [
              1,
              "#f0f921"
             ]
            ],
            "type": "contour"
           }
          ],
          "contourcarpet": [
           {
            "colorbar": {
             "outlinewidth": 0,
             "ticks": ""
            },
            "type": "contourcarpet"
           }
          ],
          "heatmap": [
           {
            "colorbar": {
             "outlinewidth": 0,
             "ticks": ""
            },
            "colorscale": [
             [
              0,
              "#0d0887"
             ],
             [
              0.1111111111111111,
              "#46039f"
             ],
             [
              0.2222222222222222,
              "#7201a8"
             ],
             [
              0.3333333333333333,
              "#9c179e"
             ],
             [
              0.4444444444444444,
              "#bd3786"
             ],
             [
              0.5555555555555556,
              "#d8576b"
             ],
             [
              0.6666666666666666,
              "#ed7953"
             ],
             [
              0.7777777777777778,
              "#fb9f3a"
             ],
             [
              0.8888888888888888,
              "#fdca26"
             ],
             [
              1,
              "#f0f921"
             ]
            ],
            "type": "heatmap"
           }
          ],
          "heatmapgl": [
           {
            "colorbar": {
             "outlinewidth": 0,
             "ticks": ""
            },
            "colorscale": [
             [
              0,
              "#0d0887"
             ],
             [
              0.1111111111111111,
              "#46039f"
             ],
             [
              0.2222222222222222,
              "#7201a8"
             ],
             [
              0.3333333333333333,
              "#9c179e"
             ],
             [
              0.4444444444444444,
              "#bd3786"
             ],
             [
              0.5555555555555556,
              "#d8576b"
             ],
             [
              0.6666666666666666,
              "#ed7953"
             ],
             [
              0.7777777777777778,
              "#fb9f3a"
             ],
             [
              0.8888888888888888,
              "#fdca26"
             ],
             [
              1,
              "#f0f921"
             ]
            ],
            "type": "heatmapgl"
           }
          ],
          "histogram": [
           {
            "marker": {
             "colorbar": {
              "outlinewidth": 0,
              "ticks": ""
             }
            },
            "type": "histogram"
           }
          ],
          "histogram2d": [
           {
            "colorbar": {
             "outlinewidth": 0,
             "ticks": ""
            },
            "colorscale": [
             [
              0,
              "#0d0887"
             ],
             [
              0.1111111111111111,
              "#46039f"
             ],
             [
              0.2222222222222222,
              "#7201a8"
             ],
             [
              0.3333333333333333,
              "#9c179e"
             ],
             [
              0.4444444444444444,
              "#bd3786"
             ],
             [
              0.5555555555555556,
              "#d8576b"
             ],
             [
              0.6666666666666666,
              "#ed7953"
             ],
             [
              0.7777777777777778,
              "#fb9f3a"
             ],
             [
              0.8888888888888888,
              "#fdca26"
             ],
             [
              1,
              "#f0f921"
             ]
            ],
            "type": "histogram2d"
           }
          ],
          "histogram2dcontour": [
           {
            "colorbar": {
             "outlinewidth": 0,
             "ticks": ""
            },
            "colorscale": [
             [
              0,
              "#0d0887"
             ],
             [
              0.1111111111111111,
              "#46039f"
             ],
             [
              0.2222222222222222,
              "#7201a8"
             ],
             [
              0.3333333333333333,
              "#9c179e"
             ],
             [
              0.4444444444444444,
              "#bd3786"
             ],
             [
              0.5555555555555556,
              "#d8576b"
             ],
             [
              0.6666666666666666,
              "#ed7953"
             ],
             [
              0.7777777777777778,
              "#fb9f3a"
             ],
             [
              0.8888888888888888,
              "#fdca26"
             ],
             [
              1,
              "#f0f921"
             ]
            ],
            "type": "histogram2dcontour"
           }
          ],
          "mesh3d": [
           {
            "colorbar": {
             "outlinewidth": 0,
             "ticks": ""
            },
            "type": "mesh3d"
           }
          ],
          "parcoords": [
           {
            "line": {
             "colorbar": {
              "outlinewidth": 0,
              "ticks": ""
             }
            },
            "type": "parcoords"
           }
          ],
          "pie": [
           {
            "automargin": true,
            "type": "pie"
           }
          ],
          "scatter": [
           {
            "marker": {
             "colorbar": {
              "outlinewidth": 0,
              "ticks": ""
             }
            },
            "type": "scatter"
           }
          ],
          "scatter3d": [
           {
            "line": {
             "colorbar": {
              "outlinewidth": 0,
              "ticks": ""
             }
            },
            "marker": {
             "colorbar": {
              "outlinewidth": 0,
              "ticks": ""
             }
            },
            "type": "scatter3d"
           }
          ],
          "scattercarpet": [
           {
            "marker": {
             "colorbar": {
              "outlinewidth": 0,
              "ticks": ""
             }
            },
            "type": "scattercarpet"
           }
          ],
          "scattergeo": [
           {
            "marker": {
             "colorbar": {
              "outlinewidth": 0,
              "ticks": ""
             }
            },
            "type": "scattergeo"
           }
          ],
          "scattergl": [
           {
            "marker": {
             "colorbar": {
              "outlinewidth": 0,
              "ticks": ""
             }
            },
            "type": "scattergl"
           }
          ],
          "scattermapbox": [
           {
            "marker": {
             "colorbar": {
              "outlinewidth": 0,
              "ticks": ""
             }
            },
            "type": "scattermapbox"
           }
          ],
          "scatterpolar": [
           {
            "marker": {
             "colorbar": {
              "outlinewidth": 0,
              "ticks": ""
             }
            },
            "type": "scatterpolar"
           }
          ],
          "scatterpolargl": [
           {
            "marker": {
             "colorbar": {
              "outlinewidth": 0,
              "ticks": ""
             }
            },
            "type": "scatterpolargl"
           }
          ],
          "scatterternary": [
           {
            "marker": {
             "colorbar": {
              "outlinewidth": 0,
              "ticks": ""
             }
            },
            "type": "scatterternary"
           }
          ],
          "surface": [
           {
            "colorbar": {
             "outlinewidth": 0,
             "ticks": ""
            },
            "colorscale": [
             [
              0,
              "#0d0887"
             ],
             [
              0.1111111111111111,
              "#46039f"
             ],
             [
              0.2222222222222222,
              "#7201a8"
             ],
             [
              0.3333333333333333,
              "#9c179e"
             ],
             [
              0.4444444444444444,
              "#bd3786"
             ],
             [
              0.5555555555555556,
              "#d8576b"
             ],
             [
              0.6666666666666666,
              "#ed7953"
             ],
             [
              0.7777777777777778,
              "#fb9f3a"
             ],
             [
              0.8888888888888888,
              "#fdca26"
             ],
             [
              1,
              "#f0f921"
             ]
            ],
            "type": "surface"
           }
          ],
          "table": [
           {
            "cells": {
             "fill": {
              "color": "#EBF0F8"
             },
             "line": {
              "color": "white"
             }
            },
            "header": {
             "fill": {
              "color": "#C8D4E3"
             },
             "line": {
              "color": "white"
             }
            },
            "type": "table"
           }
          ]
         },
         "layout": {
          "annotationdefaults": {
           "arrowcolor": "#2a3f5f",
           "arrowhead": 0,
           "arrowwidth": 1
          },
          "coloraxis": {
           "colorbar": {
            "outlinewidth": 0,
            "ticks": ""
           }
          },
          "colorscale": {
           "diverging": [
            [
             0,
             "#8e0152"
            ],
            [
             0.1,
             "#c51b7d"
            ],
            [
             0.2,
             "#de77ae"
            ],
            [
             0.3,
             "#f1b6da"
            ],
            [
             0.4,
             "#fde0ef"
            ],
            [
             0.5,
             "#f7f7f7"
            ],
            [
             0.6,
             "#e6f5d0"
            ],
            [
             0.7,
             "#b8e186"
            ],
            [
             0.8,
             "#7fbc41"
            ],
            [
             0.9,
             "#4d9221"
            ],
            [
             1,
             "#276419"
            ]
           ],
           "sequential": [
            [
             0,
             "#0d0887"
            ],
            [
             0.1111111111111111,
             "#46039f"
            ],
            [
             0.2222222222222222,
             "#7201a8"
            ],
            [
             0.3333333333333333,
             "#9c179e"
            ],
            [
             0.4444444444444444,
             "#bd3786"
            ],
            [
             0.5555555555555556,
             "#d8576b"
            ],
            [
             0.6666666666666666,
             "#ed7953"
            ],
            [
             0.7777777777777778,
             "#fb9f3a"
            ],
            [
             0.8888888888888888,
             "#fdca26"
            ],
            [
             1,
             "#f0f921"
            ]
           ],
           "sequentialminus": [
            [
             0,
             "#0d0887"
            ],
            [
             0.1111111111111111,
             "#46039f"
            ],
            [
             0.2222222222222222,
             "#7201a8"
            ],
            [
             0.3333333333333333,
             "#9c179e"
            ],
            [
             0.4444444444444444,
             "#bd3786"
            ],
            [
             0.5555555555555556,
             "#d8576b"
            ],
            [
             0.6666666666666666,
             "#ed7953"
            ],
            [
             0.7777777777777778,
             "#fb9f3a"
            ],
            [
             0.8888888888888888,
             "#fdca26"
            ],
            [
             1,
             "#f0f921"
            ]
           ]
          },
          "colorway": [
           "#636efa",
           "#EF553B",
           "#00cc96",
           "#ab63fa",
           "#FFA15A",
           "#19d3f3",
           "#FF6692",
           "#B6E880",
           "#FF97FF",
           "#FECB52"
          ],
          "font": {
           "color": "#2a3f5f"
          },
          "geo": {
           "bgcolor": "white",
           "lakecolor": "white",
           "landcolor": "#E5ECF6",
           "showlakes": true,
           "showland": true,
           "subunitcolor": "white"
          },
          "hoverlabel": {
           "align": "left"
          },
          "hovermode": "closest",
          "mapbox": {
           "style": "light"
          },
          "paper_bgcolor": "white",
          "plot_bgcolor": "#E5ECF6",
          "polar": {
           "angularaxis": {
            "gridcolor": "white",
            "linecolor": "white",
            "ticks": ""
           },
           "bgcolor": "#E5ECF6",
           "radialaxis": {
            "gridcolor": "white",
            "linecolor": "white",
            "ticks": ""
           }
          },
          "scene": {
           "xaxis": {
            "backgroundcolor": "#E5ECF6",
            "gridcolor": "white",
            "gridwidth": 2,
            "linecolor": "white",
            "showbackground": true,
            "ticks": "",
            "zerolinecolor": "white"
           },
           "yaxis": {
            "backgroundcolor": "#E5ECF6",
            "gridcolor": "white",
            "gridwidth": 2,
            "linecolor": "white",
            "showbackground": true,
            "ticks": "",
            "zerolinecolor": "white"
           },
           "zaxis": {
            "backgroundcolor": "#E5ECF6",
            "gridcolor": "white",
            "gridwidth": 2,
            "linecolor": "white",
            "showbackground": true,
            "ticks": "",
            "zerolinecolor": "white"
           }
          },
          "shapedefaults": {
           "line": {
            "color": "#2a3f5f"
           }
          },
          "ternary": {
           "aaxis": {
            "gridcolor": "white",
            "linecolor": "white",
            "ticks": ""
           },
           "baxis": {
            "gridcolor": "white",
            "linecolor": "white",
            "ticks": ""
           },
           "bgcolor": "#E5ECF6",
           "caxis": {
            "gridcolor": "white",
            "linecolor": "white",
            "ticks": ""
           }
          },
          "title": {
           "x": 0.05
          },
          "xaxis": {
           "automargin": true,
           "gridcolor": "white",
           "linecolor": "white",
           "ticks": "",
           "title": {
            "standoff": 15
           },
           "zerolinecolor": "white",
           "zerolinewidth": 2
          },
          "yaxis": {
           "automargin": true,
           "gridcolor": "white",
           "linecolor": "white",
           "ticks": "",
           "title": {
            "standoff": 15
           },
           "zerolinecolor": "white",
           "zerolinewidth": 2
          }
         }
        },
        "title": {
         "text": "Coherence Value and # of Topics"
        },
        "xaxis": {
         "anchor": "y",
         "domain": [
          0,
          1
         ],
         "title": {
          "text": "# Topics"
         }
        },
        "yaxis": {
         "anchor": "x",
         "domain": [
          0,
          1
         ],
         "title": {
          "text": "Score"
         }
        }
       }
      },
      "text/html": [
       "<div>\n",
       "        \n",
       "        \n",
       "            <div id=\"f3ca9de0-3bdb-4285-a4ee-a540b6b9489c\" class=\"plotly-graph-div\" style=\"height:525px; width:100%;\"></div>\n",
       "            <script type=\"text/javascript\">\n",
       "                require([\"plotly\"], function(Plotly) {\n",
       "                    window.PLOTLYENV=window.PLOTLYENV || {};\n",
       "                    \n",
       "                if (document.getElementById(\"f3ca9de0-3bdb-4285-a4ee-a540b6b9489c\")) {\n",
       "                    Plotly.newPlot(\n",
       "                        'f3ca9de0-3bdb-4285-a4ee-a540b6b9489c',\n",
       "                        [{\"hovertemplate\": \"Metric=Coherence<br># Topics=%{x}<br>Score=%{y}<extra></extra>\", \"legendgroup\": \"Coherence\", \"line\": {\"color\": \"#636efa\", \"dash\": \"solid\", \"shape\": \"linear\"}, \"mode\": \"lines\", \"name\": \"Coherence\", \"orientation\": \"v\", \"showlegend\": true, \"type\": \"scatter\", \"x\": [2, 4, 8, 16, 32, 64, 100, 200, 300, 400], \"xaxis\": \"x\", \"y\": [0.35648511683380696, 0.355756769383056, 0.3932531147354422, 0.4294254055354886, 0.49078680922972134, 0.44475700702341536, 0.5089699260519991, 0.5140785042294045, 0.498340171096358, 0.4504325132144416], \"yaxis\": \"y\"}],\n",
       "                        {\"legend\": {\"title\": {\"text\": \"Metric\"}, \"tracegroupgap\": 0}, \"plot_bgcolor\": \"rgb(245,245,245)\", \"template\": {\"data\": {\"bar\": [{\"error_x\": {\"color\": \"#2a3f5f\"}, \"error_y\": {\"color\": \"#2a3f5f\"}, \"marker\": {\"line\": {\"color\": \"#E5ECF6\", \"width\": 0.5}}, \"type\": \"bar\"}], \"barpolar\": [{\"marker\": {\"line\": {\"color\": \"#E5ECF6\", \"width\": 0.5}}, \"type\": \"barpolar\"}], \"carpet\": [{\"aaxis\": {\"endlinecolor\": \"#2a3f5f\", \"gridcolor\": \"white\", \"linecolor\": \"white\", \"minorgridcolor\": \"white\", \"startlinecolor\": \"#2a3f5f\"}, \"baxis\": {\"endlinecolor\": \"#2a3f5f\", \"gridcolor\": \"white\", \"linecolor\": \"white\", \"minorgridcolor\": \"white\", \"startlinecolor\": \"#2a3f5f\"}, \"type\": \"carpet\"}], \"choropleth\": [{\"colorbar\": {\"outlinewidth\": 0, \"ticks\": \"\"}, \"type\": \"choropleth\"}], \"contour\": [{\"colorbar\": {\"outlinewidth\": 0, \"ticks\": \"\"}, \"colorscale\": [[0.0, \"#0d0887\"], [0.1111111111111111, \"#46039f\"], [0.2222222222222222, \"#7201a8\"], [0.3333333333333333, \"#9c179e\"], [0.4444444444444444, \"#bd3786\"], [0.5555555555555556, \"#d8576b\"], [0.6666666666666666, \"#ed7953\"], [0.7777777777777778, \"#fb9f3a\"], [0.8888888888888888, \"#fdca26\"], [1.0, \"#f0f921\"]], \"type\": \"contour\"}], \"contourcarpet\": [{\"colorbar\": {\"outlinewidth\": 0, \"ticks\": \"\"}, \"type\": \"contourcarpet\"}], \"heatmap\": [{\"colorbar\": {\"outlinewidth\": 0, \"ticks\": \"\"}, \"colorscale\": [[0.0, \"#0d0887\"], [0.1111111111111111, \"#46039f\"], [0.2222222222222222, \"#7201a8\"], [0.3333333333333333, \"#9c179e\"], [0.4444444444444444, \"#bd3786\"], [0.5555555555555556, \"#d8576b\"], [0.6666666666666666, \"#ed7953\"], [0.7777777777777778, \"#fb9f3a\"], [0.8888888888888888, \"#fdca26\"], [1.0, \"#f0f921\"]], \"type\": \"heatmap\"}], \"heatmapgl\": [{\"colorbar\": {\"outlinewidth\": 0, \"ticks\": \"\"}, \"colorscale\": [[0.0, \"#0d0887\"], [0.1111111111111111, \"#46039f\"], [0.2222222222222222, \"#7201a8\"], [0.3333333333333333, \"#9c179e\"], [0.4444444444444444, \"#bd3786\"], [0.5555555555555556, \"#d8576b\"], [0.6666666666666666, \"#ed7953\"], [0.7777777777777778, \"#fb9f3a\"], [0.8888888888888888, \"#fdca26\"], [1.0, \"#f0f921\"]], \"type\": \"heatmapgl\"}], \"histogram\": [{\"marker\": {\"colorbar\": {\"outlinewidth\": 0, \"ticks\": \"\"}}, \"type\": \"histogram\"}], \"histogram2d\": [{\"colorbar\": {\"outlinewidth\": 0, \"ticks\": \"\"}, \"colorscale\": [[0.0, \"#0d0887\"], [0.1111111111111111, \"#46039f\"], [0.2222222222222222, \"#7201a8\"], [0.3333333333333333, \"#9c179e\"], [0.4444444444444444, \"#bd3786\"], [0.5555555555555556, \"#d8576b\"], [0.6666666666666666, \"#ed7953\"], [0.7777777777777778, \"#fb9f3a\"], [0.8888888888888888, \"#fdca26\"], [1.0, \"#f0f921\"]], \"type\": \"histogram2d\"}], \"histogram2dcontour\": [{\"colorbar\": {\"outlinewidth\": 0, \"ticks\": \"\"}, \"colorscale\": [[0.0, \"#0d0887\"], [0.1111111111111111, \"#46039f\"], [0.2222222222222222, \"#7201a8\"], [0.3333333333333333, \"#9c179e\"], [0.4444444444444444, \"#bd3786\"], [0.5555555555555556, \"#d8576b\"], [0.6666666666666666, \"#ed7953\"], [0.7777777777777778, \"#fb9f3a\"], [0.8888888888888888, \"#fdca26\"], [1.0, \"#f0f921\"]], \"type\": \"histogram2dcontour\"}], \"mesh3d\": [{\"colorbar\": {\"outlinewidth\": 0, \"ticks\": \"\"}, \"type\": \"mesh3d\"}], \"parcoords\": [{\"line\": {\"colorbar\": {\"outlinewidth\": 0, \"ticks\": \"\"}}, \"type\": \"parcoords\"}], \"pie\": [{\"automargin\": true, \"type\": \"pie\"}], \"scatter\": [{\"marker\": {\"colorbar\": {\"outlinewidth\": 0, \"ticks\": \"\"}}, \"type\": \"scatter\"}], \"scatter3d\": [{\"line\": {\"colorbar\": {\"outlinewidth\": 0, \"ticks\": \"\"}}, \"marker\": {\"colorbar\": {\"outlinewidth\": 0, \"ticks\": \"\"}}, \"type\": \"scatter3d\"}], \"scattercarpet\": [{\"marker\": {\"colorbar\": {\"outlinewidth\": 0, \"ticks\": \"\"}}, \"type\": \"scattercarpet\"}], \"scattergeo\": [{\"marker\": {\"colorbar\": {\"outlinewidth\": 0, \"ticks\": \"\"}}, \"type\": \"scattergeo\"}], \"scattergl\": [{\"marker\": {\"colorbar\": {\"outlinewidth\": 0, \"ticks\": \"\"}}, \"type\": \"scattergl\"}], \"scattermapbox\": [{\"marker\": {\"colorbar\": {\"outlinewidth\": 0, \"ticks\": \"\"}}, \"type\": \"scattermapbox\"}], \"scatterpolar\": [{\"marker\": {\"colorbar\": {\"outlinewidth\": 0, \"ticks\": \"\"}}, \"type\": \"scatterpolar\"}], \"scatterpolargl\": [{\"marker\": {\"colorbar\": {\"outlinewidth\": 0, \"ticks\": \"\"}}, \"type\": \"scatterpolargl\"}], \"scatterternary\": [{\"marker\": {\"colorbar\": {\"outlinewidth\": 0, \"ticks\": \"\"}}, \"type\": \"scatterternary\"}], \"surface\": [{\"colorbar\": {\"outlinewidth\": 0, \"ticks\": \"\"}, \"colorscale\": [[0.0, \"#0d0887\"], [0.1111111111111111, \"#46039f\"], [0.2222222222222222, \"#7201a8\"], [0.3333333333333333, \"#9c179e\"], [0.4444444444444444, \"#bd3786\"], [0.5555555555555556, \"#d8576b\"], [0.6666666666666666, \"#ed7953\"], [0.7777777777777778, \"#fb9f3a\"], [0.8888888888888888, \"#fdca26\"], [1.0, \"#f0f921\"]], \"type\": \"surface\"}], \"table\": [{\"cells\": {\"fill\": {\"color\": \"#EBF0F8\"}, \"line\": {\"color\": \"white\"}}, \"header\": {\"fill\": {\"color\": \"#C8D4E3\"}, \"line\": {\"color\": \"white\"}}, \"type\": \"table\"}]}, \"layout\": {\"annotationdefaults\": {\"arrowcolor\": \"#2a3f5f\", \"arrowhead\": 0, \"arrowwidth\": 1}, \"coloraxis\": {\"colorbar\": {\"outlinewidth\": 0, \"ticks\": \"\"}}, \"colorscale\": {\"diverging\": [[0, \"#8e0152\"], [0.1, \"#c51b7d\"], [0.2, \"#de77ae\"], [0.3, \"#f1b6da\"], [0.4, \"#fde0ef\"], [0.5, \"#f7f7f7\"], [0.6, \"#e6f5d0\"], [0.7, \"#b8e186\"], [0.8, \"#7fbc41\"], [0.9, \"#4d9221\"], [1, \"#276419\"]], \"sequential\": [[0.0, \"#0d0887\"], [0.1111111111111111, \"#46039f\"], [0.2222222222222222, \"#7201a8\"], [0.3333333333333333, \"#9c179e\"], [0.4444444444444444, \"#bd3786\"], [0.5555555555555556, \"#d8576b\"], [0.6666666666666666, \"#ed7953\"], [0.7777777777777778, \"#fb9f3a\"], [0.8888888888888888, \"#fdca26\"], [1.0, \"#f0f921\"]], \"sequentialminus\": [[0.0, \"#0d0887\"], [0.1111111111111111, \"#46039f\"], [0.2222222222222222, \"#7201a8\"], [0.3333333333333333, \"#9c179e\"], [0.4444444444444444, \"#bd3786\"], [0.5555555555555556, \"#d8576b\"], [0.6666666666666666, \"#ed7953\"], [0.7777777777777778, \"#fb9f3a\"], [0.8888888888888888, \"#fdca26\"], [1.0, \"#f0f921\"]]}, \"colorway\": [\"#636efa\", \"#EF553B\", \"#00cc96\", \"#ab63fa\", \"#FFA15A\", \"#19d3f3\", \"#FF6692\", \"#B6E880\", \"#FF97FF\", \"#FECB52\"], \"font\": {\"color\": \"#2a3f5f\"}, \"geo\": {\"bgcolor\": \"white\", \"lakecolor\": \"white\", \"landcolor\": \"#E5ECF6\", \"showlakes\": true, \"showland\": true, \"subunitcolor\": \"white\"}, \"hoverlabel\": {\"align\": \"left\"}, \"hovermode\": \"closest\", \"mapbox\": {\"style\": \"light\"}, \"paper_bgcolor\": \"white\", \"plot_bgcolor\": \"#E5ECF6\", \"polar\": {\"angularaxis\": {\"gridcolor\": \"white\", \"linecolor\": \"white\", \"ticks\": \"\"}, \"bgcolor\": \"#E5ECF6\", \"radialaxis\": {\"gridcolor\": \"white\", \"linecolor\": \"white\", \"ticks\": \"\"}}, \"scene\": {\"xaxis\": {\"backgroundcolor\": \"#E5ECF6\", \"gridcolor\": \"white\", \"gridwidth\": 2, \"linecolor\": \"white\", \"showbackground\": true, \"ticks\": \"\", \"zerolinecolor\": \"white\"}, \"yaxis\": {\"backgroundcolor\": \"#E5ECF6\", \"gridcolor\": \"white\", \"gridwidth\": 2, \"linecolor\": \"white\", \"showbackground\": true, \"ticks\": \"\", \"zerolinecolor\": \"white\"}, \"zaxis\": {\"backgroundcolor\": \"#E5ECF6\", \"gridcolor\": \"white\", \"gridwidth\": 2, \"linecolor\": \"white\", \"showbackground\": true, \"ticks\": \"\", \"zerolinecolor\": \"white\"}}, \"shapedefaults\": {\"line\": {\"color\": \"#2a3f5f\"}}, \"ternary\": {\"aaxis\": {\"gridcolor\": \"white\", \"linecolor\": \"white\", \"ticks\": \"\"}, \"baxis\": {\"gridcolor\": \"white\", \"linecolor\": \"white\", \"ticks\": \"\"}, \"bgcolor\": \"#E5ECF6\", \"caxis\": {\"gridcolor\": \"white\", \"linecolor\": \"white\", \"ticks\": \"\"}}, \"title\": {\"x\": 0.05}, \"xaxis\": {\"automargin\": true, \"gridcolor\": \"white\", \"linecolor\": \"white\", \"ticks\": \"\", \"title\": {\"standoff\": 15}, \"zerolinecolor\": \"white\", \"zerolinewidth\": 2}, \"yaxis\": {\"automargin\": true, \"gridcolor\": \"white\", \"linecolor\": \"white\", \"ticks\": \"\", \"title\": {\"standoff\": 15}, \"zerolinecolor\": \"white\", \"zerolinewidth\": 2}}}, \"title\": {\"text\": \"Coherence Value and # of Topics\"}, \"xaxis\": {\"anchor\": \"y\", \"domain\": [0.0, 1.0], \"title\": {\"text\": \"# Topics\"}}, \"yaxis\": {\"anchor\": \"x\", \"domain\": [0.0, 1.0], \"title\": {\"text\": \"Score\"}}},\n",
       "                        {\"responsive\": true}\n",
       "                    ).then(function(){\n",
       "                            \n",
       "var gd = document.getElementById('f3ca9de0-3bdb-4285-a4ee-a540b6b9489c');\n",
       "var x = new MutationObserver(function (mutations, observer) {{\n",
       "        var display = window.getComputedStyle(gd).display;\n",
       "        if (!display || display === 'none') {{\n",
       "            console.log([gd, 'removed!']);\n",
       "            Plotly.purge(gd);\n",
       "            observer.disconnect();\n",
       "        }}\n",
       "}});\n",
       "\n",
       "// Listen for the removal of the full notebook cells\n",
       "var notebookContainer = gd.closest('#notebook-container');\n",
       "if (notebookContainer) {{\n",
       "    x.observe(notebookContainer, {childList: true});\n",
       "}}\n",
       "\n",
       "// Listen for the clearing of the current output cell\n",
       "var outputEl = gd.closest('.output');\n",
       "if (outputEl) {{\n",
       "    x.observe(outputEl, {childList: true});\n",
       "}}\n",
       "\n",
       "                        })\n",
       "                };\n",
       "                });\n",
       "            </script>\n",
       "        </div>"
      ]
     },
     "metadata": {},
     "output_type": "display_data"
    },
    {
     "name": "stdout",
     "output_type": "stream",
     "text": [
      "Best Model: Latent Dirichlet Allocation | # Topics: 200 | Coherence: 0.5141\n"
     ]
    }
   ],
   "source": [
    "tune_lda_positive = tune_model(model='lda', supervised_target=None, estimator='xgboost')"
   ]
  },
  {
   "cell_type": "markdown",
   "metadata": {},
   "source": [
    "4 is selected"
   ]
  },
  {
   "cell_type": "markdown",
   "metadata": {},
   "source": [
    "# Negative reviews"
   ]
  },
  {
   "cell_type": "code",
   "execution_count": 11,
   "metadata": {},
   "outputs": [
    {
     "data": {
      "text/html": [
       "<div>\n",
       "<style scoped>\n",
       "    .dataframe tbody tr th:only-of-type {\n",
       "        vertical-align: middle;\n",
       "    }\n",
       "\n",
       "    .dataframe tbody tr th {\n",
       "        vertical-align: top;\n",
       "    }\n",
       "\n",
       "    .dataframe thead th {\n",
       "        text-align: right;\n",
       "    }\n",
       "</style>\n",
       "<table border=\"1\" class=\"dataframe\">\n",
       "  <thead>\n",
       "    <tr style=\"text-align: right;\">\n",
       "      <th></th>\n",
       "      <th>Unnamed: 0</th>\n",
       "      <th>r_points</th>\n",
       "      <th>r_text</th>\n",
       "      <th>place</th>\n",
       "      <th>Unnamed: 3</th>\n",
       "      <th>Unnamed: 4</th>\n",
       "      <th>scores</th>\n",
       "      <th>compound</th>\n",
       "      <th>score</th>\n",
       "    </tr>\n",
       "  </thead>\n",
       "  <tbody>\n",
       "    <tr>\n",
       "      <th>0</th>\n",
       "      <td>0</td>\n",
       "      <td>30</td>\n",
       "      <td>the hotel is under re-makingthe room ( what we...</td>\n",
       "      <td>Almond Business Hotel</td>\n",
       "      <td>NaN</td>\n",
       "      <td>NaN</td>\n",
       "      <td>{'neg': 0.082, 'neu': 0.843, 'pos': 0.075, 'co...</td>\n",
       "      <td>-0.3675</td>\n",
       "      <td>neg</td>\n",
       "    </tr>\n",
       "    <tr>\n",
       "      <th>1</th>\n",
       "      <td>1</td>\n",
       "      <td>20</td>\n",
       "      <td>Hotel has large rooms, old furniture back from...</td>\n",
       "      <td>Almond Business Hotel</td>\n",
       "      <td>NaN</td>\n",
       "      <td>NaN</td>\n",
       "      <td>{'neg': 0.049, 'neu': 0.925, 'pos': 0.026, 'co...</td>\n",
       "      <td>-0.2059</td>\n",
       "      <td>neg</td>\n",
       "    </tr>\n",
       "    <tr>\n",
       "      <th>2</th>\n",
       "      <td>8</td>\n",
       "      <td>30</td>\n",
       "      <td>My travel agent booked this room for me but th...</td>\n",
       "      <td>Almond Business Hotel</td>\n",
       "      <td>NaN</td>\n",
       "      <td>NaN</td>\n",
       "      <td>{'neg': 0.051, 'neu': 0.911, 'pos': 0.038, 'co...</td>\n",
       "      <td>-0.2382</td>\n",
       "      <td>neg</td>\n",
       "    </tr>\n",
       "    <tr>\n",
       "      <th>3</th>\n",
       "      <td>30</td>\n",
       "      <td>40</td>\n",
       "      <td>Spacious appartment well equipped and clean.A ...</td>\n",
       "      <td>Almond Business Hotel</td>\n",
       "      <td>NaN</td>\n",
       "      <td>NaN</td>\n",
       "      <td>{'neg': 0.062, 'neu': 0.891, 'pos': 0.048, 'co...</td>\n",
       "      <td>-0.1190</td>\n",
       "      <td>neg</td>\n",
       "    </tr>\n",
       "    <tr>\n",
       "      <th>4</th>\n",
       "      <td>54</td>\n",
       "      <td>30</td>\n",
       "      <td>Booked the Almond having previously not stayed...</td>\n",
       "      <td>Almond Business Hotel</td>\n",
       "      <td>NaN</td>\n",
       "      <td>NaN</td>\n",
       "      <td>{'neg': 0.072, 'neu': 0.907, 'pos': 0.021, 'co...</td>\n",
       "      <td>-0.7477</td>\n",
       "      <td>neg</td>\n",
       "    </tr>\n",
       "    <tr>\n",
       "      <th>5</th>\n",
       "      <td>68</td>\n",
       "      <td>20</td>\n",
       "      <td>Eventually this concept did not work out for m...</td>\n",
       "      <td>Almond Business Hotel</td>\n",
       "      <td>NaN</td>\n",
       "      <td>NaN</td>\n",
       "      <td>{'neg': 0.138, 'neu': 0.83, 'pos': 0.032, 'com...</td>\n",
       "      <td>-0.9061</td>\n",
       "      <td>neg</td>\n",
       "    </tr>\n",
       "    <tr>\n",
       "      <th>6</th>\n",
       "      <td>77</td>\n",
       "      <td>10</td>\n",
       "      <td>Booked this hotel for 5 people in 5 seperate r...</td>\n",
       "      <td>Almond Business Hotel</td>\n",
       "      <td>NaN</td>\n",
       "      <td>NaN</td>\n",
       "      <td>{'neg': 0.113, 'neu': 0.879, 'pos': 0.008, 'co...</td>\n",
       "      <td>-0.9482</td>\n",
       "      <td>neg</td>\n",
       "    </tr>\n",
       "    <tr>\n",
       "      <th>7</th>\n",
       "      <td>89</td>\n",
       "      <td>10</td>\n",
       "      <td>My husband took me here for our anniversary, a...</td>\n",
       "      <td>Brasserie Au Bon Plaisir</td>\n",
       "      <td>Review 219 Similarity</td>\n",
       "      <td>0.493915</td>\n",
       "      <td>{'neg': 0.132, 'neu': 0.819, 'pos': 0.049, 'co...</td>\n",
       "      <td>-0.9702</td>\n",
       "      <td>neg</td>\n",
       "    </tr>\n",
       "    <tr>\n",
       "      <th>8</th>\n",
       "      <td>137</td>\n",
       "      <td>20</td>\n",
       "      <td>I have been to this place many times over the ...</td>\n",
       "      <td>Brasserie Au Bon Plaisir</td>\n",
       "      <td>Review 148 Similarity</td>\n",
       "      <td>0.374503</td>\n",
       "      <td>{'neg': 0.107, 'neu': 0.818, 'pos': 0.076, 'co...</td>\n",
       "      <td>-0.8920</td>\n",
       "      <td>neg</td>\n",
       "    </tr>\n",
       "    <tr>\n",
       "      <th>9</th>\n",
       "      <td>143</td>\n",
       "      <td>10</td>\n",
       "      <td>expensive restaurant for mussel and wine, qual...</td>\n",
       "      <td>Brasserie Au Bon Plaisir</td>\n",
       "      <td>Review 154 Similarity</td>\n",
       "      <td>0.359211</td>\n",
       "      <td>{'neg': 0.07, 'neu': 0.93, 'pos': 0.0, 'compou...</td>\n",
       "      <td>-0.1511</td>\n",
       "      <td>neg</td>\n",
       "    </tr>\n",
       "    <tr>\n",
       "      <th>10</th>\n",
       "      <td>155</td>\n",
       "      <td>30</td>\n",
       "      <td>more than one hour service vejry bad and not p...</td>\n",
       "      <td>Brasserie Au Bon Plaisir</td>\n",
       "      <td>Review 20 Similarity</td>\n",
       "      <td>0.321288</td>\n",
       "      <td>{'neg': 0.101, 'neu': 0.899, 'pos': 0.0, 'comp...</td>\n",
       "      <td>-0.5423</td>\n",
       "      <td>neg</td>\n",
       "    </tr>\n",
       "    <tr>\n",
       "      <th>11</th>\n",
       "      <td>158</td>\n",
       "      <td>20</td>\n",
       "      <td>First visit the food was very good (don't try ...</td>\n",
       "      <td>Brasserie Au Bon Plaisir</td>\n",
       "      <td>Review 194 Similarity</td>\n",
       "      <td>0.321288</td>\n",
       "      <td>{'neg': 0.104, 'neu': 0.787, 'pos': 0.109, 'co...</td>\n",
       "      <td>-0.1263</td>\n",
       "      <td>neg</td>\n",
       "    </tr>\n",
       "    <tr>\n",
       "      <th>12</th>\n",
       "      <td>163</td>\n",
       "      <td>10</td>\n",
       "      <td>Not a very great experience. Food was average ...</td>\n",
       "      <td>Brasserie Au Bon Plaisir</td>\n",
       "      <td>Review 31 Similarity</td>\n",
       "      <td>0.311086</td>\n",
       "      <td>{'neg': 0.143, 'neu': 0.857, 'pos': 0.0, 'comp...</td>\n",
       "      <td>-0.5440</td>\n",
       "      <td>neg</td>\n",
       "    </tr>\n",
       "    <tr>\n",
       "      <th>13</th>\n",
       "      <td>196</td>\n",
       "      <td>30</td>\n",
       "      <td>The atmosphere is nice. The service is poor - ...</td>\n",
       "      <td>Brasserie Au Bon Plaisir</td>\n",
       "      <td>Review 67 Similarity</td>\n",
       "      <td>0.240966</td>\n",
       "      <td>{'neg': 0.163, 'neu': 0.733, 'pos': 0.104, 'co...</td>\n",
       "      <td>-0.4939</td>\n",
       "      <td>neg</td>\n",
       "    </tr>\n",
       "    <tr>\n",
       "      <th>14</th>\n",
       "      <td>202</td>\n",
       "      <td>20</td>\n",
       "      <td>We went to the restaurant with my husband havi...</td>\n",
       "      <td>Brasserie Au Bon Plaisir</td>\n",
       "      <td>Review 14 Similarity</td>\n",
       "      <td>0.219971</td>\n",
       "      <td>{'neg': 0.102, 'neu': 0.803, 'pos': 0.094, 'co...</td>\n",
       "      <td>-0.2462</td>\n",
       "      <td>neg</td>\n",
       "    </tr>\n",
       "    <tr>\n",
       "      <th>15</th>\n",
       "      <td>206</td>\n",
       "      <td>10</td>\n",
       "      <td>terrible food, good service, overpriced. To co...</td>\n",
       "      <td>Brasserie Au Bon Plaisir</td>\n",
       "      <td>Review 27 Similarity</td>\n",
       "      <td>0.207390</td>\n",
       "      <td>{'neg': 0.134, 'neu': 0.751, 'pos': 0.115, 'co...</td>\n",
       "      <td>-0.1260</td>\n",
       "      <td>neg</td>\n",
       "    </tr>\n",
       "    <tr>\n",
       "      <th>16</th>\n",
       "      <td>214</td>\n",
       "      <td>10</td>\n",
       "      <td>I suppose that you shouldn't believe all you r...</td>\n",
       "      <td>Brasserie Au Bon Plaisir</td>\n",
       "      <td>Review 57 Similarity</td>\n",
       "      <td>0.179605</td>\n",
       "      <td>{'neg': 0.129, 'neu': 0.798, 'pos': 0.074, 'co...</td>\n",
       "      <td>-0.6104</td>\n",
       "      <td>neg</td>\n",
       "    </tr>\n",
       "    <tr>\n",
       "      <th>17</th>\n",
       "      <td>222</td>\n",
       "      <td>50</td>\n",
       "      <td>Wholeheartedly recommended, good pricing for t...</td>\n",
       "      <td>Brasserie Au Bon Plaisir</td>\n",
       "      <td>Review 3 Similarity</td>\n",
       "      <td>0.160644</td>\n",
       "      <td>{'neg': 0.076, 'neu': 0.808, 'pos': 0.116, 'co...</td>\n",
       "      <td>-0.3145</td>\n",
       "      <td>neg</td>\n",
       "    </tr>\n",
       "    <tr>\n",
       "      <th>18</th>\n",
       "      <td>236</td>\n",
       "      <td>20</td>\n",
       "      <td>First of all the service moderate.The wine was...</td>\n",
       "      <td>Brasserie Au Bon Plaisir</td>\n",
       "      <td>Review 22 Similarity</td>\n",
       "      <td>0.127000</td>\n",
       "      <td>{'neg': 0.122, 'neu': 0.82, 'pos': 0.059, 'com...</td>\n",
       "      <td>-0.5812</td>\n",
       "      <td>neg</td>\n",
       "    </tr>\n",
       "    <tr>\n",
       "      <th>19</th>\n",
       "      <td>253</td>\n",
       "      <td>30</td>\n",
       "      <td>I have been to Brasserie Au Bon Plaisir with m...</td>\n",
       "      <td>Brasserie Au Bon Plaisir</td>\n",
       "      <td>Review 140 Similarity</td>\n",
       "      <td>0.046374</td>\n",
       "      <td>{'neg': 0.091, 'neu': 0.87, 'pos': 0.039, 'com...</td>\n",
       "      <td>-0.7579</td>\n",
       "      <td>neg</td>\n",
       "    </tr>\n",
       "    <tr>\n",
       "      <th>20</th>\n",
       "      <td>316</td>\n",
       "      <td>40</td>\n",
       "      <td>Went there for the first time Thursday night a...</td>\n",
       "      <td>Vino Cultura</td>\n",
       "      <td>Review 152 Similarity</td>\n",
       "      <td>0.384900</td>\n",
       "      <td>{'neg': 0.157, 'neu': 0.778, 'pos': 0.065, 'co...</td>\n",
       "      <td>-0.8905</td>\n",
       "      <td>neg</td>\n",
       "    </tr>\n",
       "    <tr>\n",
       "      <th>21</th>\n",
       "      <td>342</td>\n",
       "      <td>10</td>\n",
       "      <td>Was very disappointed with the service and qua...</td>\n",
       "      <td>Vino Cultura</td>\n",
       "      <td>Review 114 Similarity</td>\n",
       "      <td>0.333333</td>\n",
       "      <td>{'neg': 0.118, 'neu': 0.841, 'pos': 0.041, 'co...</td>\n",
       "      <td>-0.6352</td>\n",
       "      <td>neg</td>\n",
       "    </tr>\n",
       "    <tr>\n",
       "      <th>22</th>\n",
       "      <td>395</td>\n",
       "      <td>10</td>\n",
       "      <td>I can write many many good things about this p...</td>\n",
       "      <td>Vino Cultura</td>\n",
       "      <td>Review 172 Similarity</td>\n",
       "      <td>0.188982</td>\n",
       "      <td>{'neg': 0.109, 'neu': 0.775, 'pos': 0.115, 'co...</td>\n",
       "      <td>-0.0258</td>\n",
       "      <td>neg</td>\n",
       "    </tr>\n",
       "    <tr>\n",
       "      <th>23</th>\n",
       "      <td>424</td>\n",
       "      <td>10</td>\n",
       "      <td>Terrible restaurant, they had almost all table...</td>\n",
       "      <td>Vino Cultura</td>\n",
       "      <td>Review 200 Similarity</td>\n",
       "      <td>0.000000</td>\n",
       "      <td>{'neg': 0.212, 'neu': 0.788, 'pos': 0.0, 'comp...</td>\n",
       "      <td>-0.8511</td>\n",
       "      <td>neg</td>\n",
       "    </tr>\n",
       "  </tbody>\n",
       "</table>\n",
       "</div>"
      ],
      "text/plain": [
       "    Unnamed: 0  r_points                                             r_text  \\\n",
       "0            0        30  the hotel is under re-makingthe room ( what we...   \n",
       "1            1        20  Hotel has large rooms, old furniture back from...   \n",
       "2            8        30  My travel agent booked this room for me but th...   \n",
       "3           30        40  Spacious appartment well equipped and clean.A ...   \n",
       "4           54        30  Booked the Almond having previously not stayed...   \n",
       "5           68        20  Eventually this concept did not work out for m...   \n",
       "6           77        10  Booked this hotel for 5 people in 5 seperate r...   \n",
       "7           89        10  My husband took me here for our anniversary, a...   \n",
       "8          137        20  I have been to this place many times over the ...   \n",
       "9          143        10  expensive restaurant for mussel and wine, qual...   \n",
       "10         155        30  more than one hour service vejry bad and not p...   \n",
       "11         158        20  First visit the food was very good (don't try ...   \n",
       "12         163        10  Not a very great experience. Food was average ...   \n",
       "13         196        30  The atmosphere is nice. The service is poor - ...   \n",
       "14         202        20  We went to the restaurant with my husband havi...   \n",
       "15         206        10  terrible food, good service, overpriced. To co...   \n",
       "16         214        10  I suppose that you shouldn't believe all you r...   \n",
       "17         222        50  Wholeheartedly recommended, good pricing for t...   \n",
       "18         236        20  First of all the service moderate.The wine was...   \n",
       "19         253        30  I have been to Brasserie Au Bon Plaisir with m...   \n",
       "20         316        40  Went there for the first time Thursday night a...   \n",
       "21         342        10  Was very disappointed with the service and qua...   \n",
       "22         395        10  I can write many many good things about this p...   \n",
       "23         424        10  Terrible restaurant, they had almost all table...   \n",
       "\n",
       "                       place             Unnamed: 3  Unnamed: 4  \\\n",
       "0      Almond Business Hotel                    NaN         NaN   \n",
       "1      Almond Business Hotel                    NaN         NaN   \n",
       "2      Almond Business Hotel                    NaN         NaN   \n",
       "3      Almond Business Hotel                    NaN         NaN   \n",
       "4      Almond Business Hotel                    NaN         NaN   \n",
       "5      Almond Business Hotel                    NaN         NaN   \n",
       "6      Almond Business Hotel                    NaN         NaN   \n",
       "7   Brasserie Au Bon Plaisir  Review 219 Similarity    0.493915   \n",
       "8   Brasserie Au Bon Plaisir  Review 148 Similarity    0.374503   \n",
       "9   Brasserie Au Bon Plaisir  Review 154 Similarity    0.359211   \n",
       "10  Brasserie Au Bon Plaisir   Review 20 Similarity    0.321288   \n",
       "11  Brasserie Au Bon Plaisir  Review 194 Similarity    0.321288   \n",
       "12  Brasserie Au Bon Plaisir   Review 31 Similarity    0.311086   \n",
       "13  Brasserie Au Bon Plaisir   Review 67 Similarity    0.240966   \n",
       "14  Brasserie Au Bon Plaisir   Review 14 Similarity    0.219971   \n",
       "15  Brasserie Au Bon Plaisir   Review 27 Similarity    0.207390   \n",
       "16  Brasserie Au Bon Plaisir   Review 57 Similarity    0.179605   \n",
       "17  Brasserie Au Bon Plaisir    Review 3 Similarity    0.160644   \n",
       "18  Brasserie Au Bon Plaisir   Review 22 Similarity    0.127000   \n",
       "19  Brasserie Au Bon Plaisir  Review 140 Similarity    0.046374   \n",
       "20              Vino Cultura  Review 152 Similarity    0.384900   \n",
       "21              Vino Cultura  Review 114 Similarity    0.333333   \n",
       "22              Vino Cultura  Review 172 Similarity    0.188982   \n",
       "23              Vino Cultura  Review 200 Similarity    0.000000   \n",
       "\n",
       "                                               scores  compound score  \n",
       "0   {'neg': 0.082, 'neu': 0.843, 'pos': 0.075, 'co...   -0.3675   neg  \n",
       "1   {'neg': 0.049, 'neu': 0.925, 'pos': 0.026, 'co...   -0.2059   neg  \n",
       "2   {'neg': 0.051, 'neu': 0.911, 'pos': 0.038, 'co...   -0.2382   neg  \n",
       "3   {'neg': 0.062, 'neu': 0.891, 'pos': 0.048, 'co...   -0.1190   neg  \n",
       "4   {'neg': 0.072, 'neu': 0.907, 'pos': 0.021, 'co...   -0.7477   neg  \n",
       "5   {'neg': 0.138, 'neu': 0.83, 'pos': 0.032, 'com...   -0.9061   neg  \n",
       "6   {'neg': 0.113, 'neu': 0.879, 'pos': 0.008, 'co...   -0.9482   neg  \n",
       "7   {'neg': 0.132, 'neu': 0.819, 'pos': 0.049, 'co...   -0.9702   neg  \n",
       "8   {'neg': 0.107, 'neu': 0.818, 'pos': 0.076, 'co...   -0.8920   neg  \n",
       "9   {'neg': 0.07, 'neu': 0.93, 'pos': 0.0, 'compou...   -0.1511   neg  \n",
       "10  {'neg': 0.101, 'neu': 0.899, 'pos': 0.0, 'comp...   -0.5423   neg  \n",
       "11  {'neg': 0.104, 'neu': 0.787, 'pos': 0.109, 'co...   -0.1263   neg  \n",
       "12  {'neg': 0.143, 'neu': 0.857, 'pos': 0.0, 'comp...   -0.5440   neg  \n",
       "13  {'neg': 0.163, 'neu': 0.733, 'pos': 0.104, 'co...   -0.4939   neg  \n",
       "14  {'neg': 0.102, 'neu': 0.803, 'pos': 0.094, 'co...   -0.2462   neg  \n",
       "15  {'neg': 0.134, 'neu': 0.751, 'pos': 0.115, 'co...   -0.1260   neg  \n",
       "16  {'neg': 0.129, 'neu': 0.798, 'pos': 0.074, 'co...   -0.6104   neg  \n",
       "17  {'neg': 0.076, 'neu': 0.808, 'pos': 0.116, 'co...   -0.3145   neg  \n",
       "18  {'neg': 0.122, 'neu': 0.82, 'pos': 0.059, 'com...   -0.5812   neg  \n",
       "19  {'neg': 0.091, 'neu': 0.87, 'pos': 0.039, 'com...   -0.7579   neg  \n",
       "20  {'neg': 0.157, 'neu': 0.778, 'pos': 0.065, 'co...   -0.8905   neg  \n",
       "21  {'neg': 0.118, 'neu': 0.841, 'pos': 0.041, 'co...   -0.6352   neg  \n",
       "22  {'neg': 0.109, 'neu': 0.775, 'pos': 0.115, 'co...   -0.0258   neg  \n",
       "23  {'neg': 0.212, 'neu': 0.788, 'pos': 0.0, 'comp...   -0.8511   neg  "
      ]
     },
     "execution_count": 11,
     "metadata": {},
     "output_type": "execute_result"
    }
   ],
   "source": [
    "neg_review = pd.read_csv(r'C:\\Users\\Dell\\Desktop\\sentiment_cluster10_neg.csv')\n",
    "neg_review"
   ]
  },
  {
   "cell_type": "code",
   "execution_count": 12,
   "metadata": {},
   "outputs": [
    {
     "data": {
      "text/html": [
       "<style  type=\"text/css\" >\n",
       "</style><table id=\"T_03b23850_2fce_11eb_92de_c48e8ff9d2e0\" ><thead>    <tr>        <th class=\"col_heading level0 col0\" >Description</th>        <th class=\"col_heading level0 col1\" >Value</th>    </tr></thead><tbody>\n",
       "                <tr>\n",
       "                                <td id=\"T_03b23850_2fce_11eb_92de_c48e8ff9d2e0row0_col0\" class=\"data row0 col0\" >session_id</td>\n",
       "                        <td id=\"T_03b23850_2fce_11eb_92de_c48e8ff9d2e0row0_col1\" class=\"data row0 col1\" >5750</td>\n",
       "            </tr>\n",
       "            <tr>\n",
       "                                <td id=\"T_03b23850_2fce_11eb_92de_c48e8ff9d2e0row1_col0\" class=\"data row1 col0\" >Documents</td>\n",
       "                        <td id=\"T_03b23850_2fce_11eb_92de_c48e8ff9d2e0row1_col1\" class=\"data row1 col1\" >24</td>\n",
       "            </tr>\n",
       "            <tr>\n",
       "                                <td id=\"T_03b23850_2fce_11eb_92de_c48e8ff9d2e0row2_col0\" class=\"data row2 col0\" >Vocab Size</td>\n",
       "                        <td id=\"T_03b23850_2fce_11eb_92de_c48e8ff9d2e0row2_col1\" class=\"data row2 col1\" >487</td>\n",
       "            </tr>\n",
       "            <tr>\n",
       "                                <td id=\"T_03b23850_2fce_11eb_92de_c48e8ff9d2e0row3_col0\" class=\"data row3 col0\" >Custom Stopwords</td>\n",
       "                        <td id=\"T_03b23850_2fce_11eb_92de_c48e8ff9d2e0row3_col1\" class=\"data row3 col1\" >True</td>\n",
       "            </tr>\n",
       "    </tbody></table>"
      ],
      "text/plain": [
       "<pandas.io.formats.style.Styler at 0x18e01cba048>"
      ]
     },
     "metadata": {},
     "output_type": "display_data"
    }
   ],
   "source": [
    "exp_nlp_neg = setup(data = neg_review, target = 'r_text',\n",
    "                custom_stopwords = [ 'hotel', 'room', 'nice', 'good', 'restaurant', 'food','almond','au','vino','au bon'])"
   ]
  },
  {
   "cell_type": "code",
   "execution_count": 13,
   "metadata": {},
   "outputs": [
    {
     "name": "stdout",
     "output_type": "stream",
     "text": [
      "LdaModel(num_terms=487, num_topics=4, decay=0.5, chunksize=100)\n"
     ]
    }
   ],
   "source": [
    "#create an LDA model\n",
    "lda_neg_custom = create_model('lda')\n",
    "print(lda_neg_custom)"
   ]
  },
  {
   "cell_type": "code",
   "execution_count": 14,
   "metadata": {},
   "outputs": [],
   "source": [
    "apply_lda_neg = assign_model(lda_neg_custom)"
   ]
  },
  {
   "cell_type": "code",
   "execution_count": 15,
   "metadata": {},
   "outputs": [
    {
     "data": {
      "application/vnd.jupyter.widget-view+json": {
       "model_id": "d6c443b5e87b40e2bcd4f9b88c644260",
       "version_major": 2,
       "version_minor": 0
      },
      "text/plain": [
       "interactive(children=(ToggleButtons(description='Plot Type:', icons=('',), options=(('Frequency Plot', 'freque…"
      ]
     },
     "metadata": {},
     "output_type": "display_data"
    }
   ],
   "source": [
    "evaluate_model(lda_neg_custom)"
   ]
  },
  {
   "cell_type": "code",
   "execution_count": 16,
   "metadata": {},
   "outputs": [
    {
     "data": {
      "application/vnd.jupyter.widget-view+json": {
       "model_id": "",
       "version_major": 2,
       "version_minor": 0
      },
      "text/plain": [
       "IntProgress(value=0, description='Processing: ', max=25)"
      ]
     },
     "metadata": {},
     "output_type": "display_data"
    },
    {
     "data": {
      "application/vnd.jupyter.widget-view+json": {
       "model_id": "8d93cc9665c04709b83045e6fc7689b7",
       "version_major": 2,
       "version_minor": 0
      },
      "text/plain": [
       "Output()"
      ]
     },
     "metadata": {},
     "output_type": "display_data"
    },
    {
     "data": {
      "text/html": [
       "        <script type=\"text/javascript\">\n",
       "        window.PlotlyConfig = {MathJaxConfig: 'local'};\n",
       "        if (window.MathJax) {MathJax.Hub.Config({SVG: {font: \"STIX-Web\"}});}\n",
       "        if (typeof require !== 'undefined') {\n",
       "        require.undef(\"plotly\");\n",
       "        requirejs.config({\n",
       "            paths: {\n",
       "                'plotly': ['https://cdn.plot.ly/plotly-latest.min']\n",
       "            }\n",
       "        });\n",
       "        require(['plotly'], function(Plotly) {\n",
       "            window._Plotly = Plotly;\n",
       "        });\n",
       "        }\n",
       "        </script>\n",
       "        "
      ]
     },
     "metadata": {},
     "output_type": "display_data"
    },
    {
     "data": {
      "application/vnd.plotly.v1+json": {
       "config": {
        "plotlyServerURL": "https://plot.ly"
       },
       "data": [
        {
         "hovertemplate": "Metric=Coherence<br># Topics=%{x}<br>Score=%{y}<extra></extra>",
         "legendgroup": "Coherence",
         "line": {
          "color": "#636efa",
          "dash": "solid",
          "shape": "linear"
         },
         "mode": "lines",
         "name": "Coherence",
         "orientation": "v",
         "showlegend": true,
         "type": "scatter",
         "x": [
          2,
          4,
          8,
          16,
          32,
          64,
          100,
          200,
          300,
          400
         ],
         "xaxis": "x",
         "y": [
          0.3575211038373589,
          0.36187661943332083,
          0.4427960703024667,
          0.6158423268160728,
          0.6976978387848385,
          0.6804230593874576,
          0.5954293685748051,
          0.5100472501054394,
          0.48667538549515615,
          0.47073039709746406
         ],
         "yaxis": "y"
        }
       ],
       "layout": {
        "legend": {
         "title": {
          "text": "Metric"
         },
         "tracegroupgap": 0
        },
        "plot_bgcolor": "rgb(245,245,245)",
        "template": {
         "data": {
          "bar": [
           {
            "error_x": {
             "color": "#2a3f5f"
            },
            "error_y": {
             "color": "#2a3f5f"
            },
            "marker": {
             "line": {
              "color": "#E5ECF6",
              "width": 0.5
             }
            },
            "type": "bar"
           }
          ],
          "barpolar": [
           {
            "marker": {
             "line": {
              "color": "#E5ECF6",
              "width": 0.5
             }
            },
            "type": "barpolar"
           }
          ],
          "carpet": [
           {
            "aaxis": {
             "endlinecolor": "#2a3f5f",
             "gridcolor": "white",
             "linecolor": "white",
             "minorgridcolor": "white",
             "startlinecolor": "#2a3f5f"
            },
            "baxis": {
             "endlinecolor": "#2a3f5f",
             "gridcolor": "white",
             "linecolor": "white",
             "minorgridcolor": "white",
             "startlinecolor": "#2a3f5f"
            },
            "type": "carpet"
           }
          ],
          "choropleth": [
           {
            "colorbar": {
             "outlinewidth": 0,
             "ticks": ""
            },
            "type": "choropleth"
           }
          ],
          "contour": [
           {
            "colorbar": {
             "outlinewidth": 0,
             "ticks": ""
            },
            "colorscale": [
             [
              0,
              "#0d0887"
             ],
             [
              0.1111111111111111,
              "#46039f"
             ],
             [
              0.2222222222222222,
              "#7201a8"
             ],
             [
              0.3333333333333333,
              "#9c179e"
             ],
             [
              0.4444444444444444,
              "#bd3786"
             ],
             [
              0.5555555555555556,
              "#d8576b"
             ],
             [
              0.6666666666666666,
              "#ed7953"
             ],
             [
              0.7777777777777778,
              "#fb9f3a"
             ],
             [
              0.8888888888888888,
              "#fdca26"
             ],
             [
              1,
              "#f0f921"
             ]
            ],
            "type": "contour"
           }
          ],
          "contourcarpet": [
           {
            "colorbar": {
             "outlinewidth": 0,
             "ticks": ""
            },
            "type": "contourcarpet"
           }
          ],
          "heatmap": [
           {
            "colorbar": {
             "outlinewidth": 0,
             "ticks": ""
            },
            "colorscale": [
             [
              0,
              "#0d0887"
             ],
             [
              0.1111111111111111,
              "#46039f"
             ],
             [
              0.2222222222222222,
              "#7201a8"
             ],
             [
              0.3333333333333333,
              "#9c179e"
             ],
             [
              0.4444444444444444,
              "#bd3786"
             ],
             [
              0.5555555555555556,
              "#d8576b"
             ],
             [
              0.6666666666666666,
              "#ed7953"
             ],
             [
              0.7777777777777778,
              "#fb9f3a"
             ],
             [
              0.8888888888888888,
              "#fdca26"
             ],
             [
              1,
              "#f0f921"
             ]
            ],
            "type": "heatmap"
           }
          ],
          "heatmapgl": [
           {
            "colorbar": {
             "outlinewidth": 0,
             "ticks": ""
            },
            "colorscale": [
             [
              0,
              "#0d0887"
             ],
             [
              0.1111111111111111,
              "#46039f"
             ],
             [
              0.2222222222222222,
              "#7201a8"
             ],
             [
              0.3333333333333333,
              "#9c179e"
             ],
             [
              0.4444444444444444,
              "#bd3786"
             ],
             [
              0.5555555555555556,
              "#d8576b"
             ],
             [
              0.6666666666666666,
              "#ed7953"
             ],
             [
              0.7777777777777778,
              "#fb9f3a"
             ],
             [
              0.8888888888888888,
              "#fdca26"
             ],
             [
              1,
              "#f0f921"
             ]
            ],
            "type": "heatmapgl"
           }
          ],
          "histogram": [
           {
            "marker": {
             "colorbar": {
              "outlinewidth": 0,
              "ticks": ""
             }
            },
            "type": "histogram"
           }
          ],
          "histogram2d": [
           {
            "colorbar": {
             "outlinewidth": 0,
             "ticks": ""
            },
            "colorscale": [
             [
              0,
              "#0d0887"
             ],
             [
              0.1111111111111111,
              "#46039f"
             ],
             [
              0.2222222222222222,
              "#7201a8"
             ],
             [
              0.3333333333333333,
              "#9c179e"
             ],
             [
              0.4444444444444444,
              "#bd3786"
             ],
             [
              0.5555555555555556,
              "#d8576b"
             ],
             [
              0.6666666666666666,
              "#ed7953"
             ],
             [
              0.7777777777777778,
              "#fb9f3a"
             ],
             [
              0.8888888888888888,
              "#fdca26"
             ],
             [
              1,
              "#f0f921"
             ]
            ],
            "type": "histogram2d"
           }
          ],
          "histogram2dcontour": [
           {
            "colorbar": {
             "outlinewidth": 0,
             "ticks": ""
            },
            "colorscale": [
             [
              0,
              "#0d0887"
             ],
             [
              0.1111111111111111,
              "#46039f"
             ],
             [
              0.2222222222222222,
              "#7201a8"
             ],
             [
              0.3333333333333333,
              "#9c179e"
             ],
             [
              0.4444444444444444,
              "#bd3786"
             ],
             [
              0.5555555555555556,
              "#d8576b"
             ],
             [
              0.6666666666666666,
              "#ed7953"
             ],
             [
              0.7777777777777778,
              "#fb9f3a"
             ],
             [
              0.8888888888888888,
              "#fdca26"
             ],
             [
              1,
              "#f0f921"
             ]
            ],
            "type": "histogram2dcontour"
           }
          ],
          "mesh3d": [
           {
            "colorbar": {
             "outlinewidth": 0,
             "ticks": ""
            },
            "type": "mesh3d"
           }
          ],
          "parcoords": [
           {
            "line": {
             "colorbar": {
              "outlinewidth": 0,
              "ticks": ""
             }
            },
            "type": "parcoords"
           }
          ],
          "pie": [
           {
            "automargin": true,
            "type": "pie"
           }
          ],
          "scatter": [
           {
            "marker": {
             "colorbar": {
              "outlinewidth": 0,
              "ticks": ""
             }
            },
            "type": "scatter"
           }
          ],
          "scatter3d": [
           {
            "line": {
             "colorbar": {
              "outlinewidth": 0,
              "ticks": ""
             }
            },
            "marker": {
             "colorbar": {
              "outlinewidth": 0,
              "ticks": ""
             }
            },
            "type": "scatter3d"
           }
          ],
          "scattercarpet": [
           {
            "marker": {
             "colorbar": {
              "outlinewidth": 0,
              "ticks": ""
             }
            },
            "type": "scattercarpet"
           }
          ],
          "scattergeo": [
           {
            "marker": {
             "colorbar": {
              "outlinewidth": 0,
              "ticks": ""
             }
            },
            "type": "scattergeo"
           }
          ],
          "scattergl": [
           {
            "marker": {
             "colorbar": {
              "outlinewidth": 0,
              "ticks": ""
             }
            },
            "type": "scattergl"
           }
          ],
          "scattermapbox": [
           {
            "marker": {
             "colorbar": {
              "outlinewidth": 0,
              "ticks": ""
             }
            },
            "type": "scattermapbox"
           }
          ],
          "scatterpolar": [
           {
            "marker": {
             "colorbar": {
              "outlinewidth": 0,
              "ticks": ""
             }
            },
            "type": "scatterpolar"
           }
          ],
          "scatterpolargl": [
           {
            "marker": {
             "colorbar": {
              "outlinewidth": 0,
              "ticks": ""
             }
            },
            "type": "scatterpolargl"
           }
          ],
          "scatterternary": [
           {
            "marker": {
             "colorbar": {
              "outlinewidth": 0,
              "ticks": ""
             }
            },
            "type": "scatterternary"
           }
          ],
          "surface": [
           {
            "colorbar": {
             "outlinewidth": 0,
             "ticks": ""
            },
            "colorscale": [
             [
              0,
              "#0d0887"
             ],
             [
              0.1111111111111111,
              "#46039f"
             ],
             [
              0.2222222222222222,
              "#7201a8"
             ],
             [
              0.3333333333333333,
              "#9c179e"
             ],
             [
              0.4444444444444444,
              "#bd3786"
             ],
             [
              0.5555555555555556,
              "#d8576b"
             ],
             [
              0.6666666666666666,
              "#ed7953"
             ],
             [
              0.7777777777777778,
              "#fb9f3a"
             ],
             [
              0.8888888888888888,
              "#fdca26"
             ],
             [
              1,
              "#f0f921"
             ]
            ],
            "type": "surface"
           }
          ],
          "table": [
           {
            "cells": {
             "fill": {
              "color": "#EBF0F8"
             },
             "line": {
              "color": "white"
             }
            },
            "header": {
             "fill": {
              "color": "#C8D4E3"
             },
             "line": {
              "color": "white"
             }
            },
            "type": "table"
           }
          ]
         },
         "layout": {
          "annotationdefaults": {
           "arrowcolor": "#2a3f5f",
           "arrowhead": 0,
           "arrowwidth": 1
          },
          "coloraxis": {
           "colorbar": {
            "outlinewidth": 0,
            "ticks": ""
           }
          },
          "colorscale": {
           "diverging": [
            [
             0,
             "#8e0152"
            ],
            [
             0.1,
             "#c51b7d"
            ],
            [
             0.2,
             "#de77ae"
            ],
            [
             0.3,
             "#f1b6da"
            ],
            [
             0.4,
             "#fde0ef"
            ],
            [
             0.5,
             "#f7f7f7"
            ],
            [
             0.6,
             "#e6f5d0"
            ],
            [
             0.7,
             "#b8e186"
            ],
            [
             0.8,
             "#7fbc41"
            ],
            [
             0.9,
             "#4d9221"
            ],
            [
             1,
             "#276419"
            ]
           ],
           "sequential": [
            [
             0,
             "#0d0887"
            ],
            [
             0.1111111111111111,
             "#46039f"
            ],
            [
             0.2222222222222222,
             "#7201a8"
            ],
            [
             0.3333333333333333,
             "#9c179e"
            ],
            [
             0.4444444444444444,
             "#bd3786"
            ],
            [
             0.5555555555555556,
             "#d8576b"
            ],
            [
             0.6666666666666666,
             "#ed7953"
            ],
            [
             0.7777777777777778,
             "#fb9f3a"
            ],
            [
             0.8888888888888888,
             "#fdca26"
            ],
            [
             1,
             "#f0f921"
            ]
           ],
           "sequentialminus": [
            [
             0,
             "#0d0887"
            ],
            [
             0.1111111111111111,
             "#46039f"
            ],
            [
             0.2222222222222222,
             "#7201a8"
            ],
            [
             0.3333333333333333,
             "#9c179e"
            ],
            [
             0.4444444444444444,
             "#bd3786"
            ],
            [
             0.5555555555555556,
             "#d8576b"
            ],
            [
             0.6666666666666666,
             "#ed7953"
            ],
            [
             0.7777777777777778,
             "#fb9f3a"
            ],
            [
             0.8888888888888888,
             "#fdca26"
            ],
            [
             1,
             "#f0f921"
            ]
           ]
          },
          "colorway": [
           "#636efa",
           "#EF553B",
           "#00cc96",
           "#ab63fa",
           "#FFA15A",
           "#19d3f3",
           "#FF6692",
           "#B6E880",
           "#FF97FF",
           "#FECB52"
          ],
          "font": {
           "color": "#2a3f5f"
          },
          "geo": {
           "bgcolor": "white",
           "lakecolor": "white",
           "landcolor": "#E5ECF6",
           "showlakes": true,
           "showland": true,
           "subunitcolor": "white"
          },
          "hoverlabel": {
           "align": "left"
          },
          "hovermode": "closest",
          "mapbox": {
           "style": "light"
          },
          "paper_bgcolor": "white",
          "plot_bgcolor": "#E5ECF6",
          "polar": {
           "angularaxis": {
            "gridcolor": "white",
            "linecolor": "white",
            "ticks": ""
           },
           "bgcolor": "#E5ECF6",
           "radialaxis": {
            "gridcolor": "white",
            "linecolor": "white",
            "ticks": ""
           }
          },
          "scene": {
           "xaxis": {
            "backgroundcolor": "#E5ECF6",
            "gridcolor": "white",
            "gridwidth": 2,
            "linecolor": "white",
            "showbackground": true,
            "ticks": "",
            "zerolinecolor": "white"
           },
           "yaxis": {
            "backgroundcolor": "#E5ECF6",
            "gridcolor": "white",
            "gridwidth": 2,
            "linecolor": "white",
            "showbackground": true,
            "ticks": "",
            "zerolinecolor": "white"
           },
           "zaxis": {
            "backgroundcolor": "#E5ECF6",
            "gridcolor": "white",
            "gridwidth": 2,
            "linecolor": "white",
            "showbackground": true,
            "ticks": "",
            "zerolinecolor": "white"
           }
          },
          "shapedefaults": {
           "line": {
            "color": "#2a3f5f"
           }
          },
          "ternary": {
           "aaxis": {
            "gridcolor": "white",
            "linecolor": "white",
            "ticks": ""
           },
           "baxis": {
            "gridcolor": "white",
            "linecolor": "white",
            "ticks": ""
           },
           "bgcolor": "#E5ECF6",
           "caxis": {
            "gridcolor": "white",
            "linecolor": "white",
            "ticks": ""
           }
          },
          "title": {
           "x": 0.05
          },
          "xaxis": {
           "automargin": true,
           "gridcolor": "white",
           "linecolor": "white",
           "ticks": "",
           "title": {
            "standoff": 15
           },
           "zerolinecolor": "white",
           "zerolinewidth": 2
          },
          "yaxis": {
           "automargin": true,
           "gridcolor": "white",
           "linecolor": "white",
           "ticks": "",
           "title": {
            "standoff": 15
           },
           "zerolinecolor": "white",
           "zerolinewidth": 2
          }
         }
        },
        "title": {
         "text": "Coherence Value and # of Topics"
        },
        "xaxis": {
         "anchor": "y",
         "domain": [
          0,
          1
         ],
         "title": {
          "text": "# Topics"
         }
        },
        "yaxis": {
         "anchor": "x",
         "domain": [
          0,
          1
         ],
         "title": {
          "text": "Score"
         }
        }
       }
      },
      "text/html": [
       "<div>\n",
       "        \n",
       "        \n",
       "            <div id=\"51cc0565-5443-4d32-a961-88b750881318\" class=\"plotly-graph-div\" style=\"height:525px; width:100%;\"></div>\n",
       "            <script type=\"text/javascript\">\n",
       "                require([\"plotly\"], function(Plotly) {\n",
       "                    window.PLOTLYENV=window.PLOTLYENV || {};\n",
       "                    \n",
       "                if (document.getElementById(\"51cc0565-5443-4d32-a961-88b750881318\")) {\n",
       "                    Plotly.newPlot(\n",
       "                        '51cc0565-5443-4d32-a961-88b750881318',\n",
       "                        [{\"hovertemplate\": \"Metric=Coherence<br># Topics=%{x}<br>Score=%{y}<extra></extra>\", \"legendgroup\": \"Coherence\", \"line\": {\"color\": \"#636efa\", \"dash\": \"solid\", \"shape\": \"linear\"}, \"mode\": \"lines\", \"name\": \"Coherence\", \"orientation\": \"v\", \"showlegend\": true, \"type\": \"scatter\", \"x\": [2, 4, 8, 16, 32, 64, 100, 200, 300, 400], \"xaxis\": \"x\", \"y\": [0.3575211038373589, 0.36187661943332083, 0.4427960703024667, 0.6158423268160728, 0.6976978387848385, 0.6804230593874576, 0.5954293685748051, 0.5100472501054394, 0.48667538549515615, 0.47073039709746406], \"yaxis\": \"y\"}],\n",
       "                        {\"legend\": {\"title\": {\"text\": \"Metric\"}, \"tracegroupgap\": 0}, \"plot_bgcolor\": \"rgb(245,245,245)\", \"template\": {\"data\": {\"bar\": [{\"error_x\": {\"color\": \"#2a3f5f\"}, \"error_y\": {\"color\": \"#2a3f5f\"}, \"marker\": {\"line\": {\"color\": \"#E5ECF6\", \"width\": 0.5}}, \"type\": \"bar\"}], \"barpolar\": [{\"marker\": {\"line\": {\"color\": \"#E5ECF6\", \"width\": 0.5}}, \"type\": \"barpolar\"}], \"carpet\": [{\"aaxis\": {\"endlinecolor\": \"#2a3f5f\", \"gridcolor\": \"white\", \"linecolor\": \"white\", \"minorgridcolor\": \"white\", \"startlinecolor\": \"#2a3f5f\"}, \"baxis\": {\"endlinecolor\": \"#2a3f5f\", \"gridcolor\": \"white\", \"linecolor\": \"white\", \"minorgridcolor\": \"white\", \"startlinecolor\": \"#2a3f5f\"}, \"type\": \"carpet\"}], \"choropleth\": [{\"colorbar\": {\"outlinewidth\": 0, \"ticks\": \"\"}, \"type\": \"choropleth\"}], \"contour\": [{\"colorbar\": {\"outlinewidth\": 0, \"ticks\": \"\"}, \"colorscale\": [[0.0, \"#0d0887\"], [0.1111111111111111, \"#46039f\"], [0.2222222222222222, \"#7201a8\"], [0.3333333333333333, \"#9c179e\"], [0.4444444444444444, \"#bd3786\"], [0.5555555555555556, \"#d8576b\"], [0.6666666666666666, \"#ed7953\"], [0.7777777777777778, \"#fb9f3a\"], [0.8888888888888888, \"#fdca26\"], [1.0, \"#f0f921\"]], \"type\": \"contour\"}], \"contourcarpet\": [{\"colorbar\": {\"outlinewidth\": 0, \"ticks\": \"\"}, \"type\": \"contourcarpet\"}], \"heatmap\": [{\"colorbar\": {\"outlinewidth\": 0, \"ticks\": \"\"}, \"colorscale\": [[0.0, \"#0d0887\"], [0.1111111111111111, \"#46039f\"], [0.2222222222222222, \"#7201a8\"], [0.3333333333333333, \"#9c179e\"], [0.4444444444444444, \"#bd3786\"], [0.5555555555555556, \"#d8576b\"], [0.6666666666666666, \"#ed7953\"], [0.7777777777777778, \"#fb9f3a\"], [0.8888888888888888, \"#fdca26\"], [1.0, \"#f0f921\"]], \"type\": \"heatmap\"}], \"heatmapgl\": [{\"colorbar\": {\"outlinewidth\": 0, \"ticks\": \"\"}, \"colorscale\": [[0.0, \"#0d0887\"], [0.1111111111111111, \"#46039f\"], [0.2222222222222222, \"#7201a8\"], [0.3333333333333333, \"#9c179e\"], [0.4444444444444444, \"#bd3786\"], [0.5555555555555556, \"#d8576b\"], [0.6666666666666666, \"#ed7953\"], [0.7777777777777778, \"#fb9f3a\"], [0.8888888888888888, \"#fdca26\"], [1.0, \"#f0f921\"]], \"type\": \"heatmapgl\"}], \"histogram\": [{\"marker\": {\"colorbar\": {\"outlinewidth\": 0, \"ticks\": \"\"}}, \"type\": \"histogram\"}], \"histogram2d\": [{\"colorbar\": {\"outlinewidth\": 0, \"ticks\": \"\"}, \"colorscale\": [[0.0, \"#0d0887\"], [0.1111111111111111, \"#46039f\"], [0.2222222222222222, \"#7201a8\"], [0.3333333333333333, \"#9c179e\"], [0.4444444444444444, \"#bd3786\"], [0.5555555555555556, \"#d8576b\"], [0.6666666666666666, \"#ed7953\"], [0.7777777777777778, \"#fb9f3a\"], [0.8888888888888888, \"#fdca26\"], [1.0, \"#f0f921\"]], \"type\": \"histogram2d\"}], \"histogram2dcontour\": [{\"colorbar\": {\"outlinewidth\": 0, \"ticks\": \"\"}, \"colorscale\": [[0.0, \"#0d0887\"], [0.1111111111111111, \"#46039f\"], [0.2222222222222222, \"#7201a8\"], [0.3333333333333333, \"#9c179e\"], [0.4444444444444444, \"#bd3786\"], [0.5555555555555556, \"#d8576b\"], [0.6666666666666666, \"#ed7953\"], [0.7777777777777778, \"#fb9f3a\"], [0.8888888888888888, \"#fdca26\"], [1.0, \"#f0f921\"]], \"type\": \"histogram2dcontour\"}], \"mesh3d\": [{\"colorbar\": {\"outlinewidth\": 0, \"ticks\": \"\"}, \"type\": \"mesh3d\"}], \"parcoords\": [{\"line\": {\"colorbar\": {\"outlinewidth\": 0, \"ticks\": \"\"}}, \"type\": \"parcoords\"}], \"pie\": [{\"automargin\": true, \"type\": \"pie\"}], \"scatter\": [{\"marker\": {\"colorbar\": {\"outlinewidth\": 0, \"ticks\": \"\"}}, \"type\": \"scatter\"}], \"scatter3d\": [{\"line\": {\"colorbar\": {\"outlinewidth\": 0, \"ticks\": \"\"}}, \"marker\": {\"colorbar\": {\"outlinewidth\": 0, \"ticks\": \"\"}}, \"type\": \"scatter3d\"}], \"scattercarpet\": [{\"marker\": {\"colorbar\": {\"outlinewidth\": 0, \"ticks\": \"\"}}, \"type\": \"scattercarpet\"}], \"scattergeo\": [{\"marker\": {\"colorbar\": {\"outlinewidth\": 0, \"ticks\": \"\"}}, \"type\": \"scattergeo\"}], \"scattergl\": [{\"marker\": {\"colorbar\": {\"outlinewidth\": 0, \"ticks\": \"\"}}, \"type\": \"scattergl\"}], \"scattermapbox\": [{\"marker\": {\"colorbar\": {\"outlinewidth\": 0, \"ticks\": \"\"}}, \"type\": \"scattermapbox\"}], \"scatterpolar\": [{\"marker\": {\"colorbar\": {\"outlinewidth\": 0, \"ticks\": \"\"}}, \"type\": \"scatterpolar\"}], \"scatterpolargl\": [{\"marker\": {\"colorbar\": {\"outlinewidth\": 0, \"ticks\": \"\"}}, \"type\": \"scatterpolargl\"}], \"scatterternary\": [{\"marker\": {\"colorbar\": {\"outlinewidth\": 0, \"ticks\": \"\"}}, \"type\": \"scatterternary\"}], \"surface\": [{\"colorbar\": {\"outlinewidth\": 0, \"ticks\": \"\"}, \"colorscale\": [[0.0, \"#0d0887\"], [0.1111111111111111, \"#46039f\"], [0.2222222222222222, \"#7201a8\"], [0.3333333333333333, \"#9c179e\"], [0.4444444444444444, \"#bd3786\"], [0.5555555555555556, \"#d8576b\"], [0.6666666666666666, \"#ed7953\"], [0.7777777777777778, \"#fb9f3a\"], [0.8888888888888888, \"#fdca26\"], [1.0, \"#f0f921\"]], \"type\": \"surface\"}], \"table\": [{\"cells\": {\"fill\": {\"color\": \"#EBF0F8\"}, \"line\": {\"color\": \"white\"}}, \"header\": {\"fill\": {\"color\": \"#C8D4E3\"}, \"line\": {\"color\": \"white\"}}, \"type\": \"table\"}]}, \"layout\": {\"annotationdefaults\": {\"arrowcolor\": \"#2a3f5f\", \"arrowhead\": 0, \"arrowwidth\": 1}, \"coloraxis\": {\"colorbar\": {\"outlinewidth\": 0, \"ticks\": \"\"}}, \"colorscale\": {\"diverging\": [[0, \"#8e0152\"], [0.1, \"#c51b7d\"], [0.2, \"#de77ae\"], [0.3, \"#f1b6da\"], [0.4, \"#fde0ef\"], [0.5, \"#f7f7f7\"], [0.6, \"#e6f5d0\"], [0.7, \"#b8e186\"], [0.8, \"#7fbc41\"], [0.9, \"#4d9221\"], [1, \"#276419\"]], \"sequential\": [[0.0, \"#0d0887\"], [0.1111111111111111, \"#46039f\"], [0.2222222222222222, \"#7201a8\"], [0.3333333333333333, \"#9c179e\"], [0.4444444444444444, \"#bd3786\"], [0.5555555555555556, \"#d8576b\"], [0.6666666666666666, \"#ed7953\"], [0.7777777777777778, \"#fb9f3a\"], [0.8888888888888888, \"#fdca26\"], [1.0, \"#f0f921\"]], \"sequentialminus\": [[0.0, \"#0d0887\"], [0.1111111111111111, \"#46039f\"], [0.2222222222222222, \"#7201a8\"], [0.3333333333333333, \"#9c179e\"], [0.4444444444444444, \"#bd3786\"], [0.5555555555555556, \"#d8576b\"], [0.6666666666666666, \"#ed7953\"], [0.7777777777777778, \"#fb9f3a\"], [0.8888888888888888, \"#fdca26\"], [1.0, \"#f0f921\"]]}, \"colorway\": [\"#636efa\", \"#EF553B\", \"#00cc96\", \"#ab63fa\", \"#FFA15A\", \"#19d3f3\", \"#FF6692\", \"#B6E880\", \"#FF97FF\", \"#FECB52\"], \"font\": {\"color\": \"#2a3f5f\"}, \"geo\": {\"bgcolor\": \"white\", \"lakecolor\": \"white\", \"landcolor\": \"#E5ECF6\", \"showlakes\": true, \"showland\": true, \"subunitcolor\": \"white\"}, \"hoverlabel\": {\"align\": \"left\"}, \"hovermode\": \"closest\", \"mapbox\": {\"style\": \"light\"}, \"paper_bgcolor\": \"white\", \"plot_bgcolor\": \"#E5ECF6\", \"polar\": {\"angularaxis\": {\"gridcolor\": \"white\", \"linecolor\": \"white\", \"ticks\": \"\"}, \"bgcolor\": \"#E5ECF6\", \"radialaxis\": {\"gridcolor\": \"white\", \"linecolor\": \"white\", \"ticks\": \"\"}}, \"scene\": {\"xaxis\": {\"backgroundcolor\": \"#E5ECF6\", \"gridcolor\": \"white\", \"gridwidth\": 2, \"linecolor\": \"white\", \"showbackground\": true, \"ticks\": \"\", \"zerolinecolor\": \"white\"}, \"yaxis\": {\"backgroundcolor\": \"#E5ECF6\", \"gridcolor\": \"white\", \"gridwidth\": 2, \"linecolor\": \"white\", \"showbackground\": true, \"ticks\": \"\", \"zerolinecolor\": \"white\"}, \"zaxis\": {\"backgroundcolor\": \"#E5ECF6\", \"gridcolor\": \"white\", \"gridwidth\": 2, \"linecolor\": \"white\", \"showbackground\": true, \"ticks\": \"\", \"zerolinecolor\": \"white\"}}, \"shapedefaults\": {\"line\": {\"color\": \"#2a3f5f\"}}, \"ternary\": {\"aaxis\": {\"gridcolor\": \"white\", \"linecolor\": \"white\", \"ticks\": \"\"}, \"baxis\": {\"gridcolor\": \"white\", \"linecolor\": \"white\", \"ticks\": \"\"}, \"bgcolor\": \"#E5ECF6\", \"caxis\": {\"gridcolor\": \"white\", \"linecolor\": \"white\", \"ticks\": \"\"}}, \"title\": {\"x\": 0.05}, \"xaxis\": {\"automargin\": true, \"gridcolor\": \"white\", \"linecolor\": \"white\", \"ticks\": \"\", \"title\": {\"standoff\": 15}, \"zerolinecolor\": \"white\", \"zerolinewidth\": 2}, \"yaxis\": {\"automargin\": true, \"gridcolor\": \"white\", \"linecolor\": \"white\", \"ticks\": \"\", \"title\": {\"standoff\": 15}, \"zerolinecolor\": \"white\", \"zerolinewidth\": 2}}}, \"title\": {\"text\": \"Coherence Value and # of Topics\"}, \"xaxis\": {\"anchor\": \"y\", \"domain\": [0.0, 1.0], \"title\": {\"text\": \"# Topics\"}}, \"yaxis\": {\"anchor\": \"x\", \"domain\": [0.0, 1.0], \"title\": {\"text\": \"Score\"}}},\n",
       "                        {\"responsive\": true}\n",
       "                    ).then(function(){\n",
       "                            \n",
       "var gd = document.getElementById('51cc0565-5443-4d32-a961-88b750881318');\n",
       "var x = new MutationObserver(function (mutations, observer) {{\n",
       "        var display = window.getComputedStyle(gd).display;\n",
       "        if (!display || display === 'none') {{\n",
       "            console.log([gd, 'removed!']);\n",
       "            Plotly.purge(gd);\n",
       "            observer.disconnect();\n",
       "        }}\n",
       "}});\n",
       "\n",
       "// Listen for the removal of the full notebook cells\n",
       "var notebookContainer = gd.closest('#notebook-container');\n",
       "if (notebookContainer) {{\n",
       "    x.observe(notebookContainer, {childList: true});\n",
       "}}\n",
       "\n",
       "// Listen for the clearing of the current output cell\n",
       "var outputEl = gd.closest('.output');\n",
       "if (outputEl) {{\n",
       "    x.observe(outputEl, {childList: true});\n",
       "}}\n",
       "\n",
       "                        })\n",
       "                };\n",
       "                });\n",
       "            </script>\n",
       "        </div>"
      ]
     },
     "metadata": {},
     "output_type": "display_data"
    },
    {
     "name": "stdout",
     "output_type": "stream",
     "text": [
      "Best Model: Latent Dirichlet Allocation | # Topics: 32 | Coherence: 0.6977\n"
     ]
    }
   ],
   "source": [
    "tune_lda_negative = tune_model(model='lda', supervised_target=None, estimator='xgboost')"
   ]
  },
  {
   "cell_type": "markdown",
   "metadata": {},
   "source": [
    "4 topics is chosen"
   ]
  },
  {
   "cell_type": "code",
   "execution_count": 17,
   "metadata": {},
   "outputs": [
    {
     "data": {
      "text/html": [
       "        <script type=\"text/javascript\">\n",
       "        window.PlotlyConfig = {MathJaxConfig: 'local'};\n",
       "        if (window.MathJax) {MathJax.Hub.Config({SVG: {font: \"STIX-Web\"}});}\n",
       "        if (typeof require !== 'undefined') {\n",
       "        require.undef(\"plotly\");\n",
       "        requirejs.config({\n",
       "            paths: {\n",
       "                'plotly': ['https://cdn.plot.ly/plotly-latest.min']\n",
       "            }\n",
       "        });\n",
       "        require(['plotly'], function(Plotly) {\n",
       "            window._Plotly = Plotly;\n",
       "        });\n",
       "        }\n",
       "        </script>\n",
       "        "
      ]
     },
     "metadata": {},
     "output_type": "display_data"
    },
    {
     "data": {
      "text/html": [
       "\n",
       "<link rel=\"stylesheet\" type=\"text/css\" href=\"https://cdn.rawgit.com/bmabey/pyLDAvis/files/ldavis.v1.0.0.css\">\n",
       "\n",
       "\n",
       "<div id=\"ldavis_el621617094138573527931714649\"></div>\n",
       "<script type=\"text/javascript\">\n",
       "\n",
       "var ldavis_el621617094138573527931714649_data = {\"mdsDat\": {\"x\": [0.05500055751114143, 0.1007528593615069, -0.07725083820530955, -0.07850257866733878], \"y\": [-0.09577833681281228, 0.06997344663373903, 0.08947907538178526, -0.06367418520271202], \"topics\": [1, 2, 3, 4], \"cluster\": [1, 1, 1, 1], \"Freq\": [31.98170280456543, 29.385011672973633, 25.893112182617188, 12.740164756774902]}, \"tinfo\": {\"Term\": [\"casserole\", \"table\", \"time\", \"expensive\", \"big\", \"bad\", \"go\", \"smoking\", \"husband\", \"service\", \"business\", \"waitress\", \"recipe\", \"muscle\", \"different\", \"previous\", \"delay\", \"visit\", \"bar\", \"stay\", \"wine\", \"cook\", \"mussel\", \"stink\", \"allow\", \"week\", \"place\", \"even\", \"clean\", \"roach\", \"day\", \"carrefour\", \"maybe\", \"salad\", \"portion\", \"coffee\", \"bedroom\", \"power\", \"facility\", \"cost\", \"overall\", \"small\", \"keep\", \"take\", \"menu\", \"import\", \"explain\", \"hard\", \"waitress\", \"even\", \"give\", \"kitchen\", \"pricing\", \"wholeheartedly\", \"dessert\", \"soon\", \"beef\", \"revisit\", \"plan\", \"town\", \"try\", \"wrong\", \"thing\", \"need\", \"area\", \"least\", \"wait\", \"probably\", \"quality\", \"french\", \"service\", \"table\", \"serve\", \"night\", \"mussel\", \"well\", \"great\", \"leave\", \"say\", \"go\", \"terrible\", \"order\", \"clean\", \"roach\", \"person\", \"ie\", \"work\", \"machine\", \"expect\", \"actually\", \"taste\", \"fish\", \"however\", \"find\", \"feel\", \"show\", \"terribly\", \"move\", \"suite\", \"point\", \"guest\", \"week\", \"stay\", \"business\", \"sauce\", \"book\", \"reset\", \"design\", \"elevator\", \"sense\", \"okbreakfast\", \"sort\", \"staff\", \"well\", \"husband\", \"first\", \"eat\", \"people\", \"night\", \"dish\", \"get\", \"great\", \"place\", \"serve\", \"warm\", \"order\", \"mussel\", \"smoking\", \"stink\", \"allow\", \"smoke\", \"treat\", \"ask\", \"hour\", \"everywhere\", \"smoker\", \"back\", \"disappointed\", \"modarate\", \"bar\", \"really\", \"want\", \"almost\", \"park\", \"packet\", \"reserve\", \"helpful\", \"qualified\", \"personnel\", \"professional\", \"vejry\", \"shame\", \"wife\", \"long\", \"stand\", \"much\", \"communication\", \"wine\", \"place\", \"table\", \"empty\", \"new\", \"go\", \"way\", \"clothe\", \"time\", \"service\", \"serve\", \"recommend\", \"many\", \"say\", \"night\", \"leave\", \"business\", \"great\", \"quality\", \"casserole\", \"recipe\", \"muscle\", \"different\", \"previous\", \"delay\", \"visit\", \"bad\", \"expensive\", \"big\", \"confuse\", \"smell\", \"eating\", \"mediocre\", \"cuisine\", \"seafood\", \"real\", \"begin\", \"usually\", \"front\", \"ignore\", \"interval\", \"dissappointe\", \"quantity\", \"lose\", \"suit\", \"phenomenally\", \"number\", \"creme\", \"feeling\", \"time\", \"cook\", \"husband\", \"go\", \"mussel\", \"order\", \"service\", \"waitress\", \"end\", \"french\", \"arrive\", \"especially\", \"stop\", \"wrong\", \"cheese\", \"quality\", \"wine\", \"even\", \"thing\", \"many\", \"experience\", \"recommend\"], \"Freq\": [2.0, 7.0, 4.0, 2.0, 2.0, 2.0, 7.0, 3.0, 2.0, 6.0, 5.0, 3.0, 1.0, 1.0, 1.0, 1.0, 1.0, 1.0, 3.0, 6.0, 7.0, 2.0, 4.0, 2.0, 2.0, 3.0, 5.0, 3.0, 2.0, 2.0, 2.249011516571045, 2.2432522773742676, 1.5596343278884888, 1.5592689514160156, 1.5593457221984863, 1.5593816041946411, 1.5595693588256836, 1.5592656135559082, 1.5589672327041626, 1.5587607622146606, 1.5579426288604736, 1.556950569152832, 1.5565128326416016, 1.553611159324646, 1.5527894496917725, 1.5527411699295044, 1.5521281957626343, 1.5519155263900757, 2.9283034801483154, 2.2457525730133057, 2.2510831356048584, 2.2489514350891113, 0.8682973384857178, 0.8682968020439148, 0.8682941198348999, 0.8682937026023865, 0.8682932257652283, 0.8682893514633179, 0.8682896494865417, 0.8669980764389038, 1.558223009109497, 1.552690029144287, 2.2497193813323975, 2.2483739852905273, 1.5583118200302124, 1.5529260635375977, 1.5502214431762695, 1.5579181909561157, 2.248392343521118, 2.2382850646972656, 2.9396698474884033, 2.93904447555542, 2.9523134231567383, 2.949141263961792, 2.242546319961548, 1.5615214109420776, 1.5598483085632324, 1.5596721172332764, 1.5595664978027344, 1.5593591928482056, 1.5592066049575806, 1.5590496063232422, 2.1904947757720947, 2.1816885471343994, 2.181175947189331, 1.5164633989334106, 1.5161991119384766, 1.5157712697982788, 1.515642523765564, 1.5151591300964355, 1.5143765211105347, 1.514248251914978, 1.514094352722168, 1.513415813446045, 1.5127639770507812, 1.5124229192733765, 1.5119214057922363, 1.5115036964416504, 1.511161208152771, 1.5107158422470093, 1.5095345973968506, 2.1796581745147705, 4.198470115661621, 3.5302367210388184, 2.1870205402374268, 2.1846747398376465, 0.84248948097229, 0.8424889445304871, 0.8424877524375916, 0.8424875736236572, 0.8424871563911438, 0.8424851298332214, 1.5132331848144531, 2.1876304149627686, 1.5140132904052734, 1.5155811309814453, 1.5129302740097046, 1.5113115310668945, 2.189563751220703, 1.5243102312088013, 1.5162583589553833, 1.516013264656067, 1.5156208276748657, 1.5153390169143677, 1.5151416063308716, 1.5142828226089478, 1.513617992401123, 2.7372794151306152, 2.094695568084717, 2.0925302505493164, 1.4500349760055542, 1.4496877193450928, 1.4499483108520508, 1.4495573043823242, 1.447755217552185, 1.447774887084961, 1.447994351387024, 1.4470802545547485, 1.4373273849487305, 2.737677574157715, 2.0910444259643555, 0.8066253662109375, 0.8066255450248718, 0.8066257834434509, 0.8066251873970032, 0.8066245913505554, 0.8066249489784241, 0.8066214323043823, 0.8066203594207764, 0.8066191077232361, 0.8066187500953674, 0.8058316707611084, 0.8058343529701233, 0.8058134317398071, 0.8058116436004639, 0.8057830333709717, 0.805745005607605, 4.019268035888672, 3.3867440223693848, 4.0237555503845215, 1.4511559009552002, 1.4490875005722046, 3.3857171535491943, 1.4497313499450684, 1.448227882385254, 2.098540782928467, 2.7373709678649902, 2.7374682426452637, 2.0980851650238037, 1.4525234699249268, 1.4508073329925537, 2.098085403442383, 1.4519903659820557, 1.4536861181259155, 1.451460361480713, 1.4505786895751953, 1.9974782466888428, 1.0590763092041016, 1.0590757131576538, 1.0590693950653076, 1.057222604751587, 1.056962013244629, 1.056609034538269, 1.5277376174926758, 1.52701997756958, 1.5264439582824707, 0.5883694887161255, 0.5883681178092957, 0.5883632898330688, 0.5880010724067688, 0.5879675149917603, 0.5879367589950562, 0.5878298878669739, 0.5876280665397644, 0.5875654220581055, 0.5874995589256287, 0.5874832272529602, 0.5874577760696411, 0.5874503254890442, 0.587432324886322, 0.5874189138412476, 0.5874117016792297, 0.5874102711677551, 0.5873924493789673, 0.5873960256576538, 0.5873850584030151, 1.5316652059555054, 1.0625495910644531, 1.0574194192886353, 1.5331730842590332, 1.0667831897735596, 1.0620700120925903, 1.067929983139038, 0.6029043793678284, 0.5932826399803162, 0.6005256772041321, 0.5921390652656555, 0.5918424725532532, 0.5916406512260437, 0.5933287739753723, 0.5943990349769592, 0.5951548218727112, 0.5943396091461182, 0.5936553478240967, 0.5926322937011719, 0.5924942493438721, 0.5924270749092102, 0.5918563008308411], \"Total\": [2.0, 7.0, 4.0, 2.0, 2.0, 2.0, 7.0, 3.0, 2.0, 6.0, 5.0, 3.0, 1.0, 1.0, 1.0, 1.0, 1.0, 1.0, 3.0, 6.0, 7.0, 2.0, 4.0, 2.0, 2.0, 3.0, 5.0, 3.0, 2.0, 2.0, 2.703505754470825, 2.7008798122406006, 2.0095748901367188, 2.0094425678253174, 2.009558916091919, 2.009622097015381, 2.0103209018707275, 2.010295867919922, 2.010279893875122, 2.0102639198303223, 2.0096628665924072, 2.0092413425445557, 2.0092902183532715, 2.007946014404297, 2.0074656009674072, 2.0074684619903564, 2.00734806060791, 2.0071933269500732, 3.86354398727417, 3.1731607913970947, 3.377415180206299, 3.3770387172698975, 1.3158334493637085, 1.3158332109451294, 1.3158326148986816, 1.3158327341079712, 1.3158327341079712, 1.3158318996429443, 1.3158328533172607, 1.3157585859298706, 2.479837417602539, 2.478686571121216, 3.8190877437591553, 4.021955490112305, 2.6551220417022705, 2.652545928955078, 2.6514461040496826, 2.683104991912842, 4.463421821594238, 4.489298343658447, 6.918692588806152, 7.268331527709961, 7.327467441558838, 7.356807231903076, 4.990607261657715, 4.677125930786133, 4.647886753082275, 3.9739034175872803, 3.2998743057250977, 7.321883678436279, 3.3287606239318848, 4.9438042640686035, 2.6432435512542725, 2.64290189743042, 2.6429226398468018, 1.9692093133926392, 1.9692107439041138, 1.9691981077194214, 1.9691954851150513, 1.969077229499817, 1.9689216613769531, 1.9689631462097168, 1.9691001176834106, 1.9691033363342285, 1.9690980911254883, 1.9690912961959839, 1.9689675569534302, 1.9690494537353516, 1.9690581560134888, 1.9690289497375488, 1.968970775604248, 3.1140787601470947, 6.004493236541748, 5.280794620513916, 3.3365490436553955, 3.3375163078308105, 1.2951868772506714, 1.2951868772506714, 1.2951865196228027, 1.2951867580413818, 1.2951865196228027, 1.295186161994934, 2.6143951416015625, 4.677125930786133, 2.9111990928649902, 3.085237979888916, 3.132965326309204, 3.3074052333831787, 7.356807231903076, 4.000372409820557, 3.3560612201690674, 4.647886753082275, 5.888789653778076, 7.327467441558838, 3.35530161857605, 4.9438042640686035, 4.990607261657715, 3.201648712158203, 2.5566351413726807, 2.5562541484832764, 1.91141676902771, 1.911386251449585, 1.9119936227798462, 1.9120228290557861, 1.9110685586929321, 1.91111159324646, 1.9117203950881958, 1.9115849733352661, 1.912433385848999, 3.876439094543457, 3.2299346923828125, 1.26650071144104, 1.2665010690689087, 1.2665016651153564, 1.2665014266967773, 1.2665008306503296, 1.2665016651153564, 1.2665016651153564, 1.26650071144104, 1.2665003538131714, 1.2665005922317505, 1.266353726387024, 1.2663648128509521, 1.2663465738296509, 1.266344666481018, 1.266335129737854, 1.2663171291351318, 7.025163650512695, 5.888789653778076, 7.268331527709961, 2.585491180419922, 2.5857903957366943, 7.321883678436279, 2.6041619777679443, 2.604957103729248, 4.662964344024658, 6.918692588806152, 7.327467441558838, 5.08955192565918, 3.075186014175415, 3.2998743057250977, 7.356807231903076, 3.9739034175872803, 5.280794620513916, 4.647886753082275, 4.463421821594238, 2.5051937103271484, 1.5626285076141357, 1.5626285076141357, 1.5626307725906372, 1.5633149147033691, 1.5634114742279053, 1.5635719299316406, 2.6794590950012207, 2.7083868980407715, 2.7085838317871094, 1.0919016599655151, 1.091902494430542, 1.0919041633605957, 1.0920383930206299, 1.0920510292053223, 1.0920624732971191, 1.09210205078125, 1.0921761989593506, 1.0921995639801025, 1.0922404527664185, 1.0922298431396484, 1.0922393798828125, 1.0922420024871826, 1.092273235321045, 1.0922536849975586, 1.092272400856018, 1.0922795534133911, 1.0922634601593018, 1.0922800302505493, 1.0922662019729614, 4.662964344024658, 2.9293758869171143, 2.9111990928649902, 7.321883678436279, 4.990607261657715, 4.9438042640686035, 6.918692588806152, 3.86354398727417, 1.7841901779174805, 4.489298343658447, 1.7846367359161377, 1.7847812175750732, 1.7848858833312988, 2.478686571121216, 3.1522035598754883, 4.463421821594238, 7.025163650512695, 3.1731607913970947, 3.8190877437591553, 3.075186014175415, 3.1039042472839355, 5.08955192565918], \"Category\": [\"Default\", \"Default\", \"Default\", \"Default\", \"Default\", \"Default\", \"Default\", \"Default\", \"Default\", \"Default\", \"Default\", \"Default\", \"Default\", \"Default\", \"Default\", \"Default\", \"Default\", \"Default\", \"Default\", \"Default\", \"Default\", \"Default\", \"Default\", \"Default\", \"Default\", \"Default\", \"Default\", \"Default\", \"Default\", \"Default\", \"Topic1\", \"Topic1\", \"Topic1\", \"Topic1\", \"Topic1\", \"Topic1\", \"Topic1\", \"Topic1\", \"Topic1\", \"Topic1\", \"Topic1\", \"Topic1\", \"Topic1\", \"Topic1\", \"Topic1\", \"Topic1\", \"Topic1\", \"Topic1\", \"Topic1\", \"Topic1\", \"Topic1\", \"Topic1\", \"Topic1\", \"Topic1\", \"Topic1\", \"Topic1\", \"Topic1\", \"Topic1\", \"Topic1\", \"Topic1\", \"Topic1\", \"Topic1\", \"Topic1\", \"Topic1\", \"Topic1\", \"Topic1\", \"Topic1\", \"Topic1\", \"Topic1\", \"Topic1\", \"Topic1\", \"Topic1\", \"Topic1\", \"Topic1\", \"Topic1\", \"Topic1\", \"Topic1\", \"Topic1\", \"Topic1\", \"Topic1\", \"Topic1\", \"Topic1\", \"Topic2\", \"Topic2\", \"Topic2\", \"Topic2\", \"Topic2\", \"Topic2\", \"Topic2\", \"Topic2\", \"Topic2\", \"Topic2\", \"Topic2\", \"Topic2\", \"Topic2\", \"Topic2\", \"Topic2\", \"Topic2\", \"Topic2\", \"Topic2\", \"Topic2\", \"Topic2\", \"Topic2\", \"Topic2\", \"Topic2\", \"Topic2\", \"Topic2\", \"Topic2\", \"Topic2\", \"Topic2\", \"Topic2\", \"Topic2\", \"Topic2\", \"Topic2\", \"Topic2\", \"Topic2\", \"Topic2\", \"Topic2\", \"Topic2\", \"Topic2\", \"Topic2\", \"Topic2\", \"Topic2\", \"Topic2\", \"Topic2\", \"Topic2\", \"Topic2\", \"Topic3\", \"Topic3\", \"Topic3\", \"Topic3\", \"Topic3\", \"Topic3\", \"Topic3\", \"Topic3\", \"Topic3\", \"Topic3\", \"Topic3\", \"Topic3\", \"Topic3\", \"Topic3\", \"Topic3\", \"Topic3\", \"Topic3\", \"Topic3\", \"Topic3\", \"Topic3\", \"Topic3\", \"Topic3\", \"Topic3\", \"Topic3\", \"Topic3\", \"Topic3\", \"Topic3\", \"Topic3\", \"Topic3\", \"Topic3\", \"Topic3\", \"Topic3\", \"Topic3\", \"Topic3\", \"Topic3\", \"Topic3\", \"Topic3\", \"Topic3\", \"Topic3\", \"Topic3\", \"Topic3\", \"Topic3\", \"Topic3\", \"Topic3\", \"Topic3\", \"Topic3\", \"Topic3\", \"Topic3\", \"Topic3\", \"Topic4\", \"Topic4\", \"Topic4\", \"Topic4\", \"Topic4\", \"Topic4\", \"Topic4\", \"Topic4\", \"Topic4\", \"Topic4\", \"Topic4\", \"Topic4\", \"Topic4\", \"Topic4\", \"Topic4\", \"Topic4\", \"Topic4\", \"Topic4\", \"Topic4\", \"Topic4\", \"Topic4\", \"Topic4\", \"Topic4\", \"Topic4\", \"Topic4\", \"Topic4\", \"Topic4\", \"Topic4\", \"Topic4\", \"Topic4\", \"Topic4\", \"Topic4\", \"Topic4\", \"Topic4\", \"Topic4\", \"Topic4\", \"Topic4\", \"Topic4\", \"Topic4\", \"Topic4\", \"Topic4\", \"Topic4\", \"Topic4\", \"Topic4\", \"Topic4\", \"Topic4\", \"Topic4\", \"Topic4\", \"Topic4\", \"Topic4\", \"Topic4\", \"Topic4\"], \"logprob\": [30.0, 29.0, 28.0, 27.0, 26.0, 25.0, 24.0, 23.0, 22.0, 21.0, 20.0, 19.0, 18.0, 17.0, 16.0, 15.0, 14.0, 13.0, 12.0, 11.0, 10.0, 9.0, 8.0, 7.0, 6.0, 5.0, 4.0, 3.0, 2.0, 1.0, -4.8028998374938965, -4.805500030517578, -5.169000148773193, -5.1691999435424805, -5.1691999435424805, -5.169099807739258, -5.169000148773193, -5.1691999435424805, -5.169400215148926, -5.16949987411499, -5.170100212097168, -5.1707000732421875, -5.171000003814697, -5.172800064086914, -5.173399925231934, -5.173399925231934, -5.173799991607666, -5.173900127410889, -4.539000034332275, -4.8043999671936035, -4.802000045776367, -4.802999973297119, -5.754700183868408, -5.754700183868408, -5.754700183868408, -5.754700183868408, -5.754700183868408, -5.754700183868408, -5.754700183868408, -5.756199836730957, -5.169899940490723, -5.173399925231934, -4.802599906921387, -4.803199768066406, -5.1697998046875, -5.173299789428711, -5.175000190734863, -5.170100212097168, -4.803199768066406, -4.807700157165527, -4.535099983215332, -4.535299777984619, -4.530799865722656, -4.531899929046631, -4.805799961090088, -5.167799949645996, -5.168799877166748, -5.169000148773193, -5.169000148773193, -5.1691999435424805, -5.169300079345703, -5.169400215148926, -4.74459981918335, -4.748700141906738, -4.748899936676025, -5.112400054931641, -5.112500190734863, -5.112800121307373, -5.1128997802734375, -5.1132001876831055, -5.113699913024902, -5.113800048828125, -5.113900184631348, -5.1143999099731445, -5.114799976348877, -5.114999771118164, -5.1153998374938965, -5.115600109100342, -5.115900039672852, -5.116199970245361, -5.117000102996826, -4.749599933624268, -4.093999862670898, -4.267399787902832, -4.746200084686279, -4.747300148010254, -5.700099945068359, -5.700099945068359, -5.700099945068359, -5.700099945068359, -5.700099945068359, -5.700200080871582, -5.114500045776367, -4.7459001541137695, -5.113999843597412, -5.11299991607666, -5.114699840545654, -5.115799903869629, -4.745100021362305, -5.1072001457214355, -5.112500190734863, -5.11269998550415, -5.1128997802734375, -5.113100051879883, -5.1132001876831055, -5.113800048828125, -5.114200115203857, -4.395299911499023, -4.662799835205078, -4.663899898529053, -5.030700206756592, -5.030900001525879, -5.030700206756592, -5.031000137329102, -5.032199859619141, -5.032199859619141, -5.032100200653076, -5.032700061798096, -5.0395002365112305, -4.395100116729736, -4.664599895477295, -5.617099761962891, -5.617099761962891, -5.617099761962891, -5.617099761962891, -5.617099761962891, -5.617099761962891, -5.617099761962891, -5.617099761962891, -5.617099761962891, -5.617099761962891, -5.618100166320801, -5.618100166320801, -5.618100166320801, -5.618199825286865, -5.618199825286865, -5.618199825286865, -4.011099815368652, -4.182400226593018, -4.010000228881836, -5.029900074005127, -5.031300067901611, -4.182700157165527, -5.030900001525879, -5.031899929046631, -4.660999774932861, -4.395199775695801, -4.395199775695801, -4.661200046539307, -5.028900146484375, -5.030099868774414, -4.661200046539307, -5.029300212860107, -5.02810001373291, -5.029699802398682, -5.030300140380859, -4.001100063323975, -4.6356000900268555, -4.6356000900268555, -4.6356000900268555, -4.637400150299072, -4.637599945068359, -4.638000011444092, -4.269199848175049, -4.269700050354004, -4.270100116729736, -5.223400115966797, -5.223400115966797, -5.223400115966797, -5.224100112915039, -5.224100112915039, -5.2241997718811035, -5.224299907684326, -5.224699974060059, -5.224800109863281, -5.224899768829346, -5.224899768829346, -5.224999904632568, -5.224999904632568, -5.224999904632568, -5.224999904632568, -5.225100040435791, -5.225100040435791, -5.225100040435791, -5.225100040435791, -5.225100040435791, -4.26669979095459, -4.632400035858154, -4.637199878692627, -4.265699863433838, -4.628399848937988, -4.632800102233887, -4.627299785614014, -5.198999881744385, -5.215099811553955, -5.203000068664551, -5.2170000076293945, -5.21750020980835, -5.217899799346924, -5.215000152587891, -5.213200092315674, -5.211999893188477, -5.2133002281188965, -5.2144999504089355, -5.21619987487793, -5.216400146484375, -5.216599941253662, -5.21750020980835], \"loglift\": [30.0, 29.0, 28.0, 27.0, 26.0, 25.0, 24.0, 23.0, 22.0, 21.0, 20.0, 19.0, 18.0, 17.0, 16.0, 15.0, 14.0, 13.0, 12.0, 11.0, 10.0, 9.0, 8.0, 7.0, 6.0, 5.0, 4.0, 3.0, 2.0, 1.0, 0.9559000134468079, 0.9544000029563904, 0.8865000009536743, 0.8863999843597412, 0.8863999843597412, 0.8863000273704529, 0.8860999941825867, 0.8859000205993652, 0.8858000040054321, 0.8855999708175659, 0.8853999972343445, 0.8849999904632568, 0.8847000002861023, 0.8834999799728394, 0.8831999897956848, 0.8831999897956848, 0.8827999830245972, 0.8827999830245972, 0.8628000020980835, 0.7943000197410583, 0.7343000173568726, 0.7335000038146973, 0.7243000268936157, 0.7243000268936157, 0.7243000268936157, 0.7243000268936157, 0.7243000268936157, 0.7243000268936157, 0.7243000268936157, 0.7228999733924866, 0.6754000186920166, 0.6722999811172485, 0.61080002784729, 0.5583999752998352, 0.6071000099182129, 0.6046000123023987, 0.6032999753952026, 0.5964000225067139, 0.4542999863624573, 0.4440000057220459, 0.2840999960899353, 0.2345999926328659, 0.23100000619888306, 0.22589999437332153, 0.3400999903678894, 0.0430000014603138, 0.04820000007748604, 0.20469999313354492, 0.390500009059906, -0.4065999984741211, 0.3815999925136566, -0.014100000262260437, 1.0368000268936157, 1.0328999757766724, 1.0326999425888062, 0.9634000062942505, 0.9632999897003174, 0.9629999995231628, 0.9628999829292297, 0.9625999927520752, 0.9621999859809875, 0.9621000289916992, 0.961899995803833, 0.9614999890327454, 0.9610000252723694, 0.9607999920845032, 0.9606000185012817, 0.9602000117301941, 0.9599999785423279, 0.9596999883651733, 0.9589999914169312, 0.867900013923645, 0.8669000267982483, 0.8220000267028809, 0.802299976348877, 0.8008999824523926, 0.7946000099182129, 0.7946000099182129, 0.7946000099182129, 0.7946000099182129, 0.7946000099182129, 0.7946000099182129, 0.6779000163078308, 0.46480000019073486, 0.570900022983551, 0.5138999819755554, 0.4968000054359436, 0.4415000081062317, 0.012799999676644802, 0.259799987077713, 0.4302000105381012, 0.10440000146627426, -0.13249999284744263, -0.3513000011444092, 0.42969998717308044, 0.04149999842047691, 0.031599998474121094, 1.1944999694824219, 1.151900053024292, 1.1510000228881836, 1.0749000310897827, 1.0746999979019165, 1.0745999813079834, 1.0743000507354736, 1.0735000371932983, 1.0735000371932983, 1.0734000205993652, 1.0728000402450562, 1.065600037574768, 1.0033999681472778, 0.9164000153541565, 0.8999999761581421, 0.8999999761581421, 0.8999999761581421, 0.8999999761581421, 0.8999999761581421, 0.8999999761581421, 0.8999999761581421, 0.8999999761581421, 0.8999999761581421, 0.8999999761581421, 0.8992000222206116, 0.8992000222206116, 0.8992000222206116, 0.8992000222206116, 0.8991000056266785, 0.8991000056266785, 0.7928000092506409, 0.7979999780654907, 0.7598999738693237, 0.7735999822616577, 0.7720999717712402, 0.5799000263214111, 0.765500009059906, 0.7641000151634216, 0.5527999997138977, 0.42399999499320984, 0.36660000681877136, 0.4650000035762787, 0.6011000275611877, 0.5293999910354614, 0.0966000035405159, 0.34439998865127563, 0.06120000034570694, 0.1873999983072281, 0.2272000014781952, 1.833899974822998, 1.6713999509811401, 1.6713999509811401, 1.6713999509811401, 1.6691999435424805, 1.6689000129699707, 1.6684999465942383, 1.4986000061035156, 1.4874000549316406, 1.486899971961975, 1.4421000480651855, 1.4421000480651855, 1.4421000480651855, 1.4413000345230103, 1.4413000345230103, 1.4412000179290771, 1.440999984741211, 1.440600037574768, 1.4404000043869019, 1.4402999877929688, 1.4402999877929688, 1.4401999711990356, 1.4401999711990356, 1.4401999711990356, 1.4401999711990356, 1.4400999546051025, 1.4400999546051025, 1.4400999546051025, 1.4400999546051025, 1.4400999546051025, 0.9470999836921692, 1.0463000535964966, 1.047700047492981, 0.4968999922275543, 0.5174999833106995, 0.5224999785423279, 0.19189999997615814, 0.20280000567436218, 0.9593999981880188, 0.04879999905824661, 0.9571999907493591, 0.95660001039505, 0.9562000036239624, 0.6306999921798706, 0.3921000063419342, 0.04560000076889992, -0.40939998626708984, 0.38420000672340393, 0.1972000002861023, 0.41359999775886536, 0.4041999876499176, -0.09130000323057175]}, \"token.table\": {\"Topic\": [2, 3, 3, 1, 3, 1, 4, 3, 3, 3, 4, 2, 3, 1, 1, 4, 2, 4, 1, 2, 2, 3, 1, 4, 1, 2, 4, 2, 1, 3, 1, 3, 4, 1, 2, 4, 1, 4, 4, 1, 4, 2, 1, 4, 3, 1, 2, 3, 4, 1, 2, 4, 4, 2, 2, 3, 1, 4, 1, 4, 1, 4, 3, 2, 2, 4, 1, 2, 3, 4, 1, 1, 2, 4, 2, 2, 3, 4, 2, 1, 2, 3, 4, 4, 1, 2, 1, 2, 1, 2, 3, 4, 1, 2, 3, 2, 1, 3, 3, 2, 2, 4, 2, 4, 1, 4, 1, 1, 2, 1, 3, 1, 2, 3, 3, 4, 2, 1, 3, 4, 1, 4, 1, 3, 2, 3, 4, 1, 2, 4, 1, 2, 3, 2, 3, 1, 2, 3, 4, 2, 1, 2, 3, 4, 1, 3, 3, 1, 2, 3, 2, 3, 4, 1, 2, 3, 1, 2, 1, 1, 4, 1, 1, 2, 3, 3, 1, 3, 4, 4, 4, 2, 3, 4, 1, 2, 3, 4, 3, 2, 1, 2, 1, 1, 2, 1, 3, 4, 2, 1, 2, 3, 1, 3, 4, 3, 2, 1, 4, 3, 3, 3, 1, 2, 2, 3, 3, 1, 2, 3, 3, 1, 4, 4, 2, 1, 3, 1, 2, 1, 2, 3, 2, 1, 3, 4, 1, 3, 4, 1, 3, 1, 4, 4, 3, 4, 1, 3, 1, 4, 3, 1, 2, 1, 3, 2, 4, 1, 2, 3, 1, 3, 1, 2, 3, 4, 2, 1, 4], \"Freq\": [1.0157041549682617, 0.7823948264122009, 0.7895768880844116, 0.7532610297203064, 0.3766305148601532, 0.5603381395339966, 0.5603381395339966, 0.5230143070220947, 0.5230890512466431, 0.3732096552848816, 0.7464193105697632, 0.2579687237739563, 0.7739061117172241, 0.9948660135269165, 0.759975016117096, 0.9156031608581543, 0.3691966235637665, 0.738393247127533, 0.2996239960193634, 0.5992479920387268, 0.7574617862701416, 0.1893654465675354, 0.7404994368553162, 0.7983414530754089, 0.6344767808914185, 0.31723839044570923, 0.31723839044570923, 0.7566461563110352, 0.3838834762573242, 0.3838834762573242, 0.9952119588851929, 0.7896916270256042, 0.9158334136009216, 0.34136962890625, 0.34136962890625, 0.34136962890625, 0.99489426612854, 0.9155161380767822, 0.9157081246376038, 0.7397801876068115, 0.6396268606185913, 0.7720893621444702, 0.7599750757217407, 0.639946460723877, 0.5231261253356934, 0.4999534487724304, 0.4999534487724304, 0.2499767243862152, 0.9155480265617371, 0.31918641924858093, 0.6383728384971619, 0.31918641924858093, 0.9158312678337097, 0.7720895409584045, 0.3867737054824829, 0.3867737054824829, 0.5604783892631531, 0.5604783892631531, 0.5602927803993225, 0.5602927803993225, 0.6302863955497742, 0.3151431977748871, 0.5232674479484558, 1.0156432390213013, 0.3692234754562378, 0.7384469509124756, 0.32217487692832947, 0.32217487692832947, 0.32217487692832947, 0.32217487692832947, 0.9963394403457642, 0.9948863387107849, 1.0156934261322021, 0.9155277609825134, 1.0156906843185425, 0.6482481956481934, 0.3241240978240967, 0.3241240978240967, 1.0157630443572998, 0.44550392031669617, 0.22275196015834808, 0.22275196015834808, 0.22275196015834808, 0.9155493378639221, 0.59593665599823, 0.59593665599823, 0.5921688079833984, 0.2960844039916992, 0.27315375208854675, 0.13657687604427338, 0.4097306430339813, 0.27315375208854675, 0.43030309677124023, 0.43030309677124023, 0.21515154838562012, 1.0157591104507446, 0.9964162111282349, 0.789576530456543, 0.5230063199996948, 1.0156923532485962, 0.6870021224021912, 0.3435010612010956, 1.0156360864639282, 0.9155582189559937, 0.9962796568870544, 0.9155502319335938, 0.9953763484954834, 0.5922348499298096, 0.2961174249649048, 0.7539926171302795, 0.37699630856513977, 0.5032835006713867, 0.25164175033569336, 0.25164175033569336, 0.7896732091903687, 0.9155382513999939, 1.0156418085098267, 0.32518357038497925, 0.32518357038497925, 0.32518357038497925, 0.9952353835105896, 0.9157187342643738, 0.996281087398529, 0.522894024848938, 1.0157185792922974, 0.7896803617477417, 0.6399473547935486, 0.40075284242630005, 0.40075284242630005, 0.20037642121315002, 0.4972705543041229, 0.24863527715206146, 0.24863527715206146, 0.3867289423942566, 0.3867289423942566, 0.4077855944633484, 0.27185705304145813, 0.27185705304145813, 0.9155300259590149, 0.7720895409584045, 0.4045467674732208, 0.4045467674732208, 0.2022733837366104, 0.2022733837366104, 0.9951918125152588, 0.7895767092704773, 0.789576530456543, 0.30235183238983154, 0.6047036647796631, 0.30235183238983154, 0.756738007068634, 0.7895771265029907, 0.9155165553092957, 0.16981418430805206, 0.3396283686161041, 0.5094425678253174, 0.7599749565124512, 1.0157290697097778, 0.9952432513237, 0.9948784112930298, 0.6396663784980774, 0.7599745988845825, 0.7454050183296204, 0.3727025091648102, 0.7895773649215698, 0.789576530456543, 0.4480867087841034, 0.2240433543920517, 0.2240433543920517, 0.9155218601226807, 0.915665328502655, 0.3096037805080414, 0.6192075610160828, 0.6399473547935486, 0.39296188950538635, 0.19648094475269318, 0.39296188950538635, 0.19648094475269318, 0.789577066898346, 0.7720893621444702, 0.7599754929542542, 0.7567439675331116, 0.9953008890151978, 0.29971086978912354, 0.5994217395782471, 0.6060836911201477, 0.30304184556007385, 0.9156985282897949, 0.772089421749115, 0.40941840410232544, 0.2729456126689911, 0.40941840410232544, 0.43360793590545654, 0.43360793590545654, 0.14453597366809845, 0.7896687984466553, 1.0156968832015991, 0.995400607585907, 0.9158326983451843, 0.52317214012146, 0.5232557058334351, 0.9370172023773193, 0.759975016117096, 0.7720897793769836, 0.764995276927948, 0.382497638463974, 0.7896744012832642, 0.1665419489145279, 0.6661677956581116, 0.1665419489145279, 0.7822782397270203, 0.5602598786354065, 0.5602598786354065, 0.9155225157737732, 1.0157140493392944, 0.4127494692802429, 0.5503326058387756, 0.9960427284240723, 1.015784502029419, 0.600824236869812, 0.300412118434906, 0.300412118434906, 1.0157607793807983, 0.5236852765083313, 0.26184263825416565, 0.26184263825416565, 0.21445585787296295, 0.4289117157459259, 0.4289117157459259, 0.7600178122520447, 0.5231804847717285, 0.806504487991333, 0.4032522439956665, 0.915583610534668, 0.7895771861076355, 0.6395612359046936, 0.754305362701416, 0.377152681350708, 0.7764891386032104, 0.2588297128677368, 0.7895771265029907, 0.5960716009140015, 0.5960716009140015, 0.384000688791275, 0.384000688791275, 0.6422445178031921, 0.32112225890159607, 0.4276130199432373, 0.4276130199432373, 0.21380650997161865, 0.7599747180938721, 0.7896618843078613, 0.28469088673591614, 0.14234544336795807, 0.5693817734718323, 0.14234544336795807, 1.015635371208191, 0.806878924369812, 0.403439462184906], \"Term\": [\"actually\", \"allow\", \"almost\", \"area\", \"area\", \"arrive\", \"arrive\", \"ask\", \"back\", \"bad\", \"bad\", \"bar\", \"bar\", \"bedroom\", \"beef\", \"begin\", \"big\", \"big\", \"book\", \"book\", \"business\", \"business\", \"carrefour\", \"casserole\", \"cheese\", \"cheese\", \"cheese\", \"clean\", \"clothe\", \"clothe\", \"coffee\", \"communication\", \"confuse\", \"cook\", \"cook\", \"cook\", \"cost\", \"creme\", \"cuisine\", \"day\", \"delay\", \"design\", \"dessert\", \"different\", \"disappointed\", \"dish\", \"dish\", \"dish\", \"dissappointe\", \"eat\", \"eat\", \"eat\", \"eating\", \"elevator\", \"empty\", \"empty\", \"end\", \"end\", \"especially\", \"especially\", \"even\", \"even\", \"everywhere\", \"expect\", \"expensive\", \"expensive\", \"experience\", \"experience\", \"experience\", \"experience\", \"explain\", \"facility\", \"feel\", \"feeling\", \"find\", \"first\", \"first\", \"first\", \"fish\", \"french\", \"french\", \"french\", \"french\", \"front\", \"get\", \"get\", \"give\", \"give\", \"go\", \"go\", \"go\", \"go\", \"great\", \"great\", \"great\", \"guest\", \"hard\", \"helpful\", \"hour\", \"however\", \"husband\", \"husband\", \"ie\", \"ignore\", \"import\", \"interval\", \"keep\", \"kitchen\", \"kitchen\", \"least\", \"least\", \"leave\", \"leave\", \"leave\", \"long\", \"lose\", \"machine\", \"many\", \"many\", \"many\", \"maybe\", \"mediocre\", \"menu\", \"modarate\", \"move\", \"much\", \"muscle\", \"mussel\", \"mussel\", \"mussel\", \"need\", \"need\", \"need\", \"new\", \"new\", \"night\", \"night\", \"night\", \"number\", \"okbreakfast\", \"order\", \"order\", \"order\", \"order\", \"overall\", \"packet\", \"park\", \"people\", \"people\", \"people\", \"person\", \"personnel\", \"phenomenally\", \"place\", \"place\", \"place\", \"plan\", \"point\", \"portion\", \"power\", \"previous\", \"pricing\", \"probably\", \"probably\", \"professional\", \"qualified\", \"quality\", \"quality\", \"quality\", \"quantity\", \"real\", \"really\", \"really\", \"recipe\", \"recommend\", \"recommend\", \"recommend\", \"recommend\", \"reserve\", \"reset\", \"revisit\", \"roach\", \"salad\", \"sauce\", \"sauce\", \"say\", \"say\", \"seafood\", \"sense\", \"serve\", \"serve\", \"serve\", \"service\", \"service\", \"service\", \"shame\", \"show\", \"small\", \"smell\", \"smoke\", \"smoker\", \"smoking\", \"soon\", \"sort\", \"staff\", \"staff\", \"stand\", \"stay\", \"stay\", \"stay\", \"stink\", \"stop\", \"stop\", \"suit\", \"suite\", \"table\", \"table\", \"take\", \"taste\", \"terrible\", \"terrible\", \"terrible\", \"terribly\", \"thing\", \"thing\", \"thing\", \"time\", \"time\", \"time\", \"town\", \"treat\", \"try\", \"try\", \"usually\", \"vejry\", \"visit\", \"wait\", \"wait\", \"waitress\", \"waitress\", \"want\", \"warm\", \"warm\", \"way\", \"way\", \"week\", \"week\", \"well\", \"well\", \"well\", \"wholeheartedly\", \"wife\", \"wine\", \"wine\", \"wine\", \"wine\", \"work\", \"wrong\", \"wrong\"]}, \"R\": 30, \"lambda.step\": 0.01, \"plot.opts\": {\"xlab\": \"PC1\", \"ylab\": \"PC2\"}, \"topic.order\": [1, 4, 3, 2]};\n",
       "\n",
       "function LDAvis_load_lib(url, callback){\n",
       "  var s = document.createElement('script');\n",
       "  s.src = url;\n",
       "  s.async = true;\n",
       "  s.onreadystatechange = s.onload = callback;\n",
       "  s.onerror = function(){console.warn(\"failed to load library \" + url);};\n",
       "  document.getElementsByTagName(\"head\")[0].appendChild(s);\n",
       "}\n",
       "\n",
       "if(typeof(LDAvis) !== \"undefined\"){\n",
       "   // already loaded: just create the visualization\n",
       "   !function(LDAvis){\n",
       "       new LDAvis(\"#\" + \"ldavis_el621617094138573527931714649\", ldavis_el621617094138573527931714649_data);\n",
       "   }(LDAvis);\n",
       "}else if(typeof define === \"function\" && define.amd){\n",
       "   // require.js is available: use it to load d3/LDAvis\n",
       "   require.config({paths: {d3: \"https://cdnjs.cloudflare.com/ajax/libs/d3/3.5.5/d3.min\"}});\n",
       "   require([\"d3\"], function(d3){\n",
       "      window.d3 = d3;\n",
       "      LDAvis_load_lib(\"https://cdn.rawgit.com/bmabey/pyLDAvis/files/ldavis.v1.0.0.js\", function(){\n",
       "        new LDAvis(\"#\" + \"ldavis_el621617094138573527931714649\", ldavis_el621617094138573527931714649_data);\n",
       "      });\n",
       "    });\n",
       "}else{\n",
       "    // require.js not available: dynamically load d3 & LDAvis\n",
       "    LDAvis_load_lib(\"https://cdnjs.cloudflare.com/ajax/libs/d3/3.5.5/d3.min.js\", function(){\n",
       "         LDAvis_load_lib(\"https://cdn.rawgit.com/bmabey/pyLDAvis/files/ldavis.v1.0.0.js\", function(){\n",
       "                 new LDAvis(\"#\" + \"ldavis_el621617094138573527931714649\", ldavis_el621617094138573527931714649_data);\n",
       "            })\n",
       "         });\n",
       "}\n",
       "</script>"
      ],
      "text/plain": [
       "PreparedData(topic_coordinates=              x         y  topics  cluster       Freq\n",
       "topic                                                \n",
       "0      0.055001 -0.095778       1        1  31.981703\n",
       "3      0.100753  0.069973       2        1  29.385012\n",
       "2     -0.077251  0.089479       3        1  25.893112\n",
       "1     -0.078503 -0.063674       4        1  12.740165, topic_info=           Term      Freq     Total Category  logprob  loglift\n",
       "409   casserole  2.000000  2.000000  Default  30.0000  30.0000\n",
       "299       table  7.000000  7.000000  Default  29.0000  29.0000\n",
       "302        time  4.000000  4.000000  Default  28.0000  28.0000\n",
       "311   expensive  2.000000  2.000000  Default  27.0000  27.0000\n",
       "2           big  2.000000  2.000000  Default  26.0000  26.0000\n",
       "..          ...       ...       ...      ...      ...      ...\n",
       "94         even  0.593655  3.173161   Topic4  -5.2145   0.3842\n",
       "301       thing  0.592632  3.819088   Topic4  -5.2162   0.1972\n",
       "275        many  0.592494  3.075186   Topic4  -5.2164   0.4136\n",
       "206  experience  0.592427  3.103904   Topic4  -5.2166   0.4042\n",
       "42    recommend  0.591856  5.089552   Topic4  -5.2175  -0.0913\n",
       "\n",
       "[228 rows x 6 columns], token_table=      Topic      Freq      Term\n",
       "term                           \n",
       "122       2  1.015704  actually\n",
       "426       3  0.782395     allow\n",
       "481       3  0.789577    almost\n",
       "84        1  0.753261      area\n",
       "84        3  0.376631      area\n",
       "...     ...       ...       ...\n",
       "307       3  0.569382      wine\n",
       "307       4  0.142345      wine\n",
       "20        2  1.015635      work\n",
       "248       1  0.806879     wrong\n",
       "248       4  0.403439     wrong\n",
       "\n",
       "[259 rows x 3 columns], R=30, lambda_step=0.01, plot_opts={'xlab': 'PC1', 'ylab': 'PC2'}, topic_order=[1, 4, 3, 2])"
      ]
     },
     "metadata": {},
     "output_type": "display_data"
    }
   ],
   "source": [
    "plot_model(lda_neg_custom, plot ='topic_model',save=True)"
   ]
  },
  {
   "cell_type": "code",
   "execution_count": 25,
   "metadata": {},
   "outputs": [
    {
     "ename": "SyntaxError",
     "evalue": "invalid syntax (<ipython-input-25-136c5a60b842>, line 1)",
     "output_type": "error",
     "traceback": [
      "\u001b[1;36m  File \u001b[1;32m\"<ipython-input-25-136c5a60b842>\"\u001b[1;36m, line \u001b[1;32m1\u001b[0m\n\u001b[1;33m    jupyter nbconvert --to html pycaret_customstopwrd_clust4.ipynb\u001b[0m\n\u001b[1;37m                    ^\u001b[0m\n\u001b[1;31mSyntaxError\u001b[0m\u001b[1;31m:\u001b[0m invalid syntax\n"
     ]
    }
   ],
   "source": [
    "jupyter nbconvert --to html pycaret_customstopwrd_clust4.ipynb"
   ]
  },
  {
   "cell_type": "code",
   "execution_count": null,
   "metadata": {},
   "outputs": [],
   "source": []
  }
 ],
 "metadata": {
  "kernelspec": {
   "display_name": "Python 3",
   "language": "python",
   "name": "python3"
  },
  "language_info": {
   "codemirror_mode": {
    "name": "ipython",
    "version": 3
   },
   "file_extension": ".py",
   "mimetype": "text/x-python",
   "name": "python",
   "nbconvert_exporter": "python",
   "pygments_lexer": "ipython3",
   "version": "3.7.4"
  },
  "widgets": {
   "application/vnd.jupyter.widget-state+json": {
    "state": {
     "0117c18961784440b5d8753007486595": {
      "model_module": "@jupyter-widgets/base",
      "model_module_version": "1.2.0",
      "model_name": "LayoutModel",
      "state": {}
     },
     "011d55cba1d2424b9b3535f3f6304d6a": {
      "model_module": "@jupyter-widgets/controls",
      "model_module_version": "1.5.0",
      "model_name": "DescriptionStyleModel",
      "state": {
       "description_width": ""
      }
     },
     "0373170d28414abead8ee7b1e80ca1e1": {
      "model_module": "@jupyter-widgets/base",
      "model_module_version": "1.2.0",
      "model_name": "LayoutModel",
      "state": {}
     },
     "0764c20174304f3e9df4de4a9740120c": {
      "model_module": "@jupyter-widgets/base",
      "model_module_version": "1.2.0",
      "model_name": "LayoutModel",
      "state": {}
     },
     "07cadb2a40d44b9c82d27537c72ea0b7": {
      "model_module": "@jupyter-widgets/controls",
      "model_module_version": "1.5.0",
      "model_name": "IntProgressModel",
      "state": {
       "description": "Processing: ",
       "layout": "IPY_MODEL_374d9a1bae56432c95465d275e0f0edf",
       "max": 870,
       "style": "IPY_MODEL_97e9ddff3e324cafbe45798124f3620f",
       "value": 870
      }
     },
     "08aa6aa0ef6447a0bdc4244114ce3161": {
      "model_module": "@jupyter-widgets/controls",
      "model_module_version": "1.5.0",
      "model_name": "ToggleButtonsModel",
      "state": {
       "_options_labels": [
        "Frequency Plot",
        "Bigrams",
        "Trigrams",
        "Sentiment Polarity",
        "Word Cloud"
       ],
       "button_style": "",
       "description": "Plot Type:",
       "icons": [
        ""
       ],
       "index": 0,
       "layout": "IPY_MODEL_ec2ee32df4b34e6d91cb958ada69ae44",
       "style": "IPY_MODEL_a742a2a945db42c3a75be1bb9b816ab1",
       "tooltips": []
      }
     },
     "08e8d8e39f4440d49e27f90ccb39ca91": {
      "model_module": "@jupyter-widgets/base",
      "model_module_version": "1.2.0",
      "model_name": "LayoutModel",
      "state": {}
     },
     "09733c562d1348feab4b8e9135b545b8": {
      "model_module": "@jupyter-widgets/controls",
      "model_module_version": "1.5.0",
      "model_name": "ProgressStyleModel",
      "state": {
       "description_width": ""
      }
     },
     "09875ed6ea6648dfaf28dd3ba9e100dd": {
      "model_module": "@jupyter-widgets/base",
      "model_module_version": "1.2.0",
      "model_name": "LayoutModel",
      "state": {}
     },
     "09da599d43ae45bc8c6dee91524cd7b5": {
      "model_module": "@jupyter-widgets/controls",
      "model_module_version": "1.5.0",
      "model_name": "IntProgressModel",
      "state": {
       "description": "Processing: ",
       "layout": "IPY_MODEL_c19dd1e299d540e6b565a1ce24abb292",
       "max": 4,
       "style": "IPY_MODEL_a34fb008861f46e496add1a395f98c5c",
       "value": 4
      }
     },
     "0b344abf71a24150aa935a7f913cbea4": {
      "model_module": "@jupyter-widgets/base",
      "model_module_version": "1.2.0",
      "model_name": "LayoutModel",
      "state": {}
     },
     "0c66ab04e33b42c9bde43f9096e72993": {
      "model_module": "@jupyter-widgets/base",
      "model_module_version": "1.2.0",
      "model_name": "LayoutModel",
      "state": {}
     },
     "0ca41fee96084ec6b860c2c557524953": {
      "model_module": "@jupyter-widgets/controls",
      "model_module_version": "1.5.0",
      "model_name": "ButtonModel",
      "state": {
       "description": "Run Interact",
       "layout": "IPY_MODEL_e3cae36ab6d443e6bf117d901b58f5d5",
       "style": "IPY_MODEL_f9a5a98739fa4ba6a81df3a08ed82c5a"
      }
     },
     "0cc5da2e312e40de8682a7fc343208dd": {
      "model_module": "@jupyter-widgets/controls",
      "model_module_version": "1.5.0",
      "model_name": "ProgressStyleModel",
      "state": {
       "description_width": ""
      }
     },
     "0db6eb636e3846ae9c7311a0242e7c96": {
      "model_module": "@jupyter-widgets/base",
      "model_module_version": "1.2.0",
      "model_name": "LayoutModel",
      "state": {}
     },
     "0e8fea0b79e245859bbb5e40c0241525": {
      "model_module": "@jupyter-widgets/controls",
      "model_module_version": "1.5.0",
      "model_name": "ProgressStyleModel",
      "state": {
       "description_width": ""
      }
     },
     "0f6c8ac6d1f846068fb9281665654538": {
      "model_module": "@jupyter-widgets/controls",
      "model_module_version": "1.5.0",
      "model_name": "ProgressStyleModel",
      "state": {
       "description_width": ""
      }
     },
     "1198a964cca548019a74dd779a581444": {
      "model_module": "@jupyter-widgets/controls",
      "model_module_version": "1.5.0",
      "model_name": "IntProgressModel",
      "state": {
       "description": "Processing: ",
       "layout": "IPY_MODEL_23c2129d6e4b4e60aea46e684ef74565",
       "max": 48,
       "style": "IPY_MODEL_36da061b06cd4ee99e00182a6e9ce4bc",
       "value": 48
      }
     },
     "125c99e83f704685bfb89f907ade2fa7": {
      "model_module": "@jupyter-widgets/base",
      "model_module_version": "1.2.0",
      "model_name": "LayoutModel",
      "state": {}
     },
     "14e074f71fd342fca47034ca4a825b51": {
      "model_module": "@jupyter-widgets/base",
      "model_module_version": "1.2.0",
      "model_name": "LayoutModel",
      "state": {}
     },
     "14e6ec2ea7e14054810148b216201d6b": {
      "model_module": "@jupyter-widgets/controls",
      "model_module_version": "1.5.0",
      "model_name": "IntProgressModel",
      "state": {
       "description": "Processing: ",
       "layout": "IPY_MODEL_d1261151d6a241c2be4de1ba33f52b2a",
       "max": 870,
       "style": "IPY_MODEL_c7d2734dbf3f49eeaf3de24042d97c77",
       "value": 870
      }
     },
     "161d3ee7408a4de3b183655f24ccb534": {
      "model_module": "@jupyter-widgets/controls",
      "model_module_version": "1.5.0",
      "model_name": "ProgressStyleModel",
      "state": {
       "description_width": ""
      }
     },
     "16e9e2a08a3f427ca590447071eb82e0": {
      "model_module": "@jupyter-widgets/base",
      "model_module_version": "1.2.0",
      "model_name": "LayoutModel",
      "state": {}
     },
     "1710c717bd8445f3a5810ec5bd6f44cb": {
      "model_module": "@jupyter-widgets/controls",
      "model_module_version": "1.5.0",
      "model_name": "ProgressStyleModel",
      "state": {
       "description_width": ""
      }
     },
     "17918aac13614c9294221adfef9f1907": {
      "model_module": "@jupyter-widgets/controls",
      "model_module_version": "1.5.0",
      "model_name": "IntProgressModel",
      "state": {
       "description": "Processing: ",
       "layout": "IPY_MODEL_ec27026dd7434ab3a8fd3300a6f6c0df",
       "max": 870,
       "style": "IPY_MODEL_367873095006426c9e320950f7b4ae8d",
       "value": 870
      }
     },
     "192d8afedf20450eb270e406abe64e0e": {
      "model_module": "@jupyter-widgets/controls",
      "model_module_version": "1.5.0",
      "model_name": "IntProgressModel",
      "state": {
       "description": "Processing: ",
       "layout": "IPY_MODEL_2ade8d5999e24b38aa950416d69b90b6",
       "max": 48,
       "style": "IPY_MODEL_cdf17ecba82143e5a3e9de5fecc3a1ff",
       "value": 48
      }
     },
     "1a19b13730c34adb8ac3f3e6fcc55655": {
      "model_module": "@jupyter-widgets/controls",
      "model_module_version": "1.5.0",
      "model_name": "ProgressStyleModel",
      "state": {
       "description_width": ""
      }
     },
     "1a44e97fbbe94591bf4aad7f63cc012a": {
      "model_module": "@jupyter-widgets/base",
      "model_module_version": "1.2.0",
      "model_name": "LayoutModel",
      "state": {}
     },
     "1b08de3ef7aa4b4384a1e311af2322ba": {
      "model_module": "@jupyter-widgets/controls",
      "model_module_version": "1.5.0",
      "model_name": "ProgressStyleModel",
      "state": {
       "description_width": ""
      }
     },
     "1c9056f33a1a44b480d6146ec57c5394": {
      "model_module": "@jupyter-widgets/base",
      "model_module_version": "1.2.0",
      "model_name": "LayoutModel",
      "state": {}
     },
     "1cd42b32b75a46dcaeea4756c5638425": {
      "model_module": "@jupyter-widgets/controls",
      "model_module_version": "1.5.0",
      "model_name": "ProgressStyleModel",
      "state": {
       "description_width": ""
      }
     },
     "1da79ec76dd64bfc8614901e6b5f0330": {
      "model_module": "@jupyter-widgets/controls",
      "model_module_version": "1.5.0",
      "model_name": "IntProgressModel",
      "state": {
       "description": "Processing: ",
       "layout": "IPY_MODEL_f99bff09f5564cecb7aac86ee3ba30f0",
       "max": 48,
       "style": "IPY_MODEL_bf25e802d4f34cbd8a1157570c911d56",
       "value": 48
      }
     },
     "1f0483d3c33345778b9899b758906692": {
      "model_module": "@jupyter-widgets/controls",
      "model_module_version": "1.5.0",
      "model_name": "IntProgressModel",
      "state": {
       "description": "Processing: ",
       "layout": "IPY_MODEL_7b0513ed1df24cb6ac19ec71eebd739b",
       "max": 4,
       "style": "IPY_MODEL_6eca3fee38aa49eaa15618e2c784e7ef",
       "value": 4
      }
     },
     "20e5fd6a0069454fafd326e0b2c6874e": {
      "model_module": "@jupyter-widgets/controls",
      "model_module_version": "1.5.0",
      "model_name": "IntProgressModel",
      "state": {
       "description": "Processing: ",
       "layout": "IPY_MODEL_9f25d12341b64552868de4dabd7bb506",
       "max": 4,
       "style": "IPY_MODEL_caa659819c434f14a218de71ea5e9920",
       "value": 4
      }
     },
     "214f5c9d01af4e3280d72e111805b628": {
      "model_module": "@jupyter-widgets/controls",
      "model_module_version": "1.5.0",
      "model_name": "IntProgressModel",
      "state": {
       "description": "Processing: ",
       "layout": "IPY_MODEL_e08b19f5eb244d1db0b11de26a4f32c2",
       "max": 870,
       "style": "IPY_MODEL_e6faccfc6fd544afa2637f5003bf7d9a",
       "value": 870
      }
     },
     "21f73cd0eb41414ba504f5427afc948b": {
      "model_module": "@jupyter-widgets/base",
      "model_module_version": "1.2.0",
      "model_name": "LayoutModel",
      "state": {}
     },
     "22df95c90c8f4280af2639447b493322": {
      "model_module": "@jupyter-widgets/controls",
      "model_module_version": "1.5.0",
      "model_name": "IntProgressModel",
      "state": {
       "description": "Processing: ",
       "layout": "IPY_MODEL_08e8d8e39f4440d49e27f90ccb39ca91",
       "max": 48,
       "style": "IPY_MODEL_0e8fea0b79e245859bbb5e40c0241525",
       "value": 48
      }
     },
     "2307265549e1422c90e209ab9fac75d9": {
      "model_module": "@jupyter-widgets/base",
      "model_module_version": "1.2.0",
      "model_name": "LayoutModel",
      "state": {}
     },
     "23c2129d6e4b4e60aea46e684ef74565": {
      "model_module": "@jupyter-widgets/base",
      "model_module_version": "1.2.0",
      "model_name": "LayoutModel",
      "state": {}
     },
     "23ed8d269a2b44afaef219e7a53bc0a6": {
      "model_module": "@jupyter-widgets/controls",
      "model_module_version": "1.5.0",
      "model_name": "DropdownModel",
      "state": {
       "_options_labels": [
        "Topic 0",
        "Topic 1",
        "Topic 2",
        "Topic 3"
       ],
       "description": "Topic #:",
       "index": 3,
       "layout": "IPY_MODEL_33eb2b1b8bb14719ba8a21393bcd7130",
       "style": "IPY_MODEL_fa30d12576524391bd1a84daf0e5e3e2"
      }
     },
     "25083cc1971945d7bc6bc8bef8f5913a": {
      "model_module": "@jupyter-widgets/controls",
      "model_module_version": "1.5.0",
      "model_name": "IntProgressModel",
      "state": {
       "description": "Processing: ",
       "layout": "IPY_MODEL_c45c5a4d34b4456884f58bb925af73f9",
       "max": 870,
       "style": "IPY_MODEL_ae2910a0461b4c3981e9225276dea5c2",
       "value": 870
      }
     },
     "26f02ce620224ea8a80f62d026ec1419": {
      "model_module": "@jupyter-widgets/controls",
      "model_module_version": "1.5.0",
      "model_name": "ProgressStyleModel",
      "state": {
       "description_width": ""
      }
     },
     "283c6fb0bef0443d8e6420eca0655ce4": {
      "model_module": "@jupyter-widgets/controls",
      "model_module_version": "1.5.0",
      "model_name": "IntProgressModel",
      "state": {
       "description": "Processing: ",
       "layout": "IPY_MODEL_934bc2eb15ec404c9b98c481e126b7ac",
       "max": 4,
       "style": "IPY_MODEL_9c60033ee0d74e949a5e8bbb2ad1aca6",
       "value": 4
      }
     },
     "283fc5c6b2514ea2b9ac077137ff3078": {
      "model_module": "@jupyter-widgets/controls",
      "model_module_version": "1.5.0",
      "model_name": "IntProgressModel",
      "state": {
       "description": "Processing: ",
       "layout": "IPY_MODEL_f471eca31f6e48c1bd81b6d2d26b8b72",
       "max": 4,
       "style": "IPY_MODEL_4447fae23ca74ff987b96e31f0ca8c64",
       "value": 4
      }
     },
     "2ade8d5999e24b38aa950416d69b90b6": {
      "model_module": "@jupyter-widgets/base",
      "model_module_version": "1.2.0",
      "model_name": "LayoutModel",
      "state": {}
     },
     "2b987b17499247a58f0f89886a90de49": {
      "model_module": "@jupyter-widgets/controls",
      "model_module_version": "1.5.0",
      "model_name": "IntProgressModel",
      "state": {
       "description": "Processing: ",
       "layout": "IPY_MODEL_a83a1065e8ea46f79cd22b93a05f9934",
       "max": 4,
       "style": "IPY_MODEL_09733c562d1348feab4b8e9135b545b8",
       "value": 4
      }
     },
     "2bb1a14617cf4d9dafd97b6ea9f6b467": {
      "model_module": "@jupyter-widgets/controls",
      "model_module_version": "1.5.0",
      "model_name": "IntProgressModel",
      "state": {
       "description": "Processing: ",
       "layout": "IPY_MODEL_21f73cd0eb41414ba504f5427afc948b",
       "max": 870,
       "style": "IPY_MODEL_1a19b13730c34adb8ac3f3e6fcc55655",
       "value": 870
      }
     },
     "2bd9437396b44d9b9119d03a87f910cd": {
      "model_module": "@jupyter-widgets/controls",
      "model_module_version": "1.5.0",
      "model_name": "IntProgressModel",
      "state": {
       "description": "Processing: ",
       "layout": "IPY_MODEL_0c66ab04e33b42c9bde43f9096e72993",
       "max": 4,
       "style": "IPY_MODEL_ebc411cffcd441f08ebce6e23bb4561b",
       "value": 4
      }
     },
     "31b3baafeb774a7cbac7db870aa9dd74": {
      "model_module": "@jupyter-widgets/base",
      "model_module_version": "1.2.0",
      "model_name": "LayoutModel",
      "state": {}
     },
     "31cc43fcacf44bd492789694ad981918": {
      "model_module": "@jupyter-widgets/controls",
      "model_module_version": "1.5.0",
      "model_name": "ButtonModel",
      "state": {
       "description": "Run Interact",
       "layout": "IPY_MODEL_df6710eb9bd64e1399f6eb85417e19bc",
       "style": "IPY_MODEL_e804e8b8e49742c7b794eb645e9cfbb7"
      }
     },
     "322c4bab47e543bb86e141cc5dd3babe": {
      "model_module": "@jupyter-widgets/controls",
      "model_module_version": "1.5.0",
      "model_name": "VBoxModel",
      "state": {
       "_dom_classes": [
        "widget-interact"
       ],
       "children": [
        "IPY_MODEL_f0aa0b72c5d34fd6b0fdec52b7bc6792",
        "IPY_MODEL_b60e569c302f4aed9a592d920bb1d704",
        "IPY_MODEL_31cc43fcacf44bd492789694ad981918",
        "IPY_MODEL_937c0719026c43d2b1b5d22fa0f42fb5"
       ],
       "layout": "IPY_MODEL_a90a548c760246d6a187aeac60b8d716"
      }
     },
     "331b048b024f45e780b69e099540ecf6": {
      "model_module": "@jupyter-widgets/base",
      "model_module_version": "1.2.0",
      "model_name": "LayoutModel",
      "state": {}
     },
     "33eb2b1b8bb14719ba8a21393bcd7130": {
      "model_module": "@jupyter-widgets/base",
      "model_module_version": "1.2.0",
      "model_name": "LayoutModel",
      "state": {}
     },
     "343289ca052f45dd9faadaefc9372136": {
      "model_module": "@jupyter-widgets/controls",
      "model_module_version": "1.5.0",
      "model_name": "ProgressStyleModel",
      "state": {
       "description_width": ""
      }
     },
     "34c55935c58b4f5d9becee874b767226": {
      "model_module": "@jupyter-widgets/base",
      "model_module_version": "1.2.0",
      "model_name": "LayoutModel",
      "state": {}
     },
     "35edcc52f9ab42fe9998f1f225424eaf": {
      "model_module": "@jupyter-widgets/base",
      "model_module_version": "1.2.0",
      "model_name": "LayoutModel",
      "state": {}
     },
     "367873095006426c9e320950f7b4ae8d": {
      "model_module": "@jupyter-widgets/controls",
      "model_module_version": "1.5.0",
      "model_name": "ProgressStyleModel",
      "state": {
       "description_width": ""
      }
     },
     "36da061b06cd4ee99e00182a6e9ce4bc": {
      "model_module": "@jupyter-widgets/controls",
      "model_module_version": "1.5.0",
      "model_name": "ProgressStyleModel",
      "state": {
       "description_width": ""
      }
     },
     "374d9a1bae56432c95465d275e0f0edf": {
      "model_module": "@jupyter-widgets/base",
      "model_module_version": "1.2.0",
      "model_name": "LayoutModel",
      "state": {}
     },
     "379ae64d79ba4e5eb105aff54a88ccd5": {
      "model_module": "@jupyter-widgets/base",
      "model_module_version": "1.2.0",
      "model_name": "LayoutModel",
      "state": {}
     },
     "3a8cd6d206e444258351efc0bcae2d1d": {
      "model_module": "@jupyter-widgets/base",
      "model_module_version": "1.2.0",
      "model_name": "LayoutModel",
      "state": {}
     },
     "3acab8a540094d4098b78789d04c32ee": {
      "model_module": "@jupyter-widgets/controls",
      "model_module_version": "1.5.0",
      "model_name": "ProgressStyleModel",
      "state": {
       "description_width": ""
      }
     },
     "3b43b69302be48c1b7fe3f6c01b6050e": {
      "model_module": "@jupyter-widgets/base",
      "model_module_version": "1.2.0",
      "model_name": "LayoutModel",
      "state": {}
     },
     "3bf7f25f47ad4584bbb8ee0ebc13b456": {
      "model_module": "@jupyter-widgets/controls",
      "model_module_version": "1.5.0",
      "model_name": "IntProgressModel",
      "state": {
       "description": "Processing: ",
       "layout": "IPY_MODEL_4e2151d4cb4c4f0ca0db2d5778d48953",
       "max": 48,
       "style": "IPY_MODEL_c36c5f6e93d24320b9c334cd7da8e437",
       "value": 48
      }
     },
     "3f46aa5b765141ed92a825ac31204f31": {
      "model_module": "@jupyter-widgets/controls",
      "model_module_version": "1.5.0",
      "model_name": "ButtonStyleModel",
      "state": {}
     },
     "423bc887d5c74b828758d8bde8648171": {
      "model_module": "@jupyter-widgets/base",
      "model_module_version": "1.2.0",
      "model_name": "LayoutModel",
      "state": {}
     },
     "4447fae23ca74ff987b96e31f0ca8c64": {
      "model_module": "@jupyter-widgets/controls",
      "model_module_version": "1.5.0",
      "model_name": "ProgressStyleModel",
      "state": {
       "description_width": ""
      }
     },
     "45a586cfd60944c28a4a5cb8dfe23639": {
      "model_module": "@jupyter-widgets/controls",
      "model_module_version": "1.5.0",
      "model_name": "ProgressStyleModel",
      "state": {
       "description_width": ""
      }
     },
     "45f53047ff5540dfa38eba501bd244ed": {
      "model_module": "@jupyter-widgets/controls",
      "model_module_version": "1.5.0",
      "model_name": "IntProgressModel",
      "state": {
       "description": "Processing: ",
       "layout": "IPY_MODEL_0117c18961784440b5d8753007486595",
       "max": 4,
       "style": "IPY_MODEL_1b08de3ef7aa4b4384a1e311af2322ba",
       "value": 4
      }
     },
     "460c90df8cb44ac69590932b8b6e5074": {
      "model_module": "@jupyter-widgets/base",
      "model_module_version": "1.2.0",
      "model_name": "LayoutModel",
      "state": {}
     },
     "479439093be741ac88e852948d5c5ab8": {
      "model_module": "@jupyter-widgets/base",
      "model_module_version": "1.2.0",
      "model_name": "LayoutModel",
      "state": {}
     },
     "4b6faed7bfb248248bf88f723cafb57e": {
      "model_module": "@jupyter-widgets/base",
      "model_module_version": "1.2.0",
      "model_name": "LayoutModel",
      "state": {}
     },
     "4e1fdee38f5c468196e169e6a5f7c101": {
      "model_module": "@jupyter-widgets/controls",
      "model_module_version": "1.5.0",
      "model_name": "ProgressStyleModel",
      "state": {
       "description_width": ""
      }
     },
     "4e2151d4cb4c4f0ca0db2d5778d48953": {
      "model_module": "@jupyter-widgets/base",
      "model_module_version": "1.2.0",
      "model_name": "LayoutModel",
      "state": {}
     },
     "4e3242bd35ff4ec681ee4cacddc4c182": {
      "model_module": "@jupyter-widgets/base",
      "model_module_version": "1.2.0",
      "model_name": "LayoutModel",
      "state": {}
     },
     "5035a2b460474f83903c74c7dad63a39": {
      "model_module": "@jupyter-widgets/controls",
      "model_module_version": "1.5.0",
      "model_name": "IntProgressModel",
      "state": {
       "description": "Processing: ",
       "layout": "IPY_MODEL_f90aba366131435b94408fae809d8109",
       "max": 4,
       "style": "IPY_MODEL_6b283543764646a9ae26e0b933fba321",
       "value": 4
      }
     },
     "529b5b871ba3463887efe28bc5b168c3": {
      "model_module": "@jupyter-widgets/controls",
      "model_module_version": "1.5.0",
      "model_name": "IntProgressModel",
      "state": {
       "description": "Processing: ",
       "layout": "IPY_MODEL_bc73140e8d064bf7b2f2e0ab84454788",
       "max": 4,
       "style": "IPY_MODEL_8588d3da2aaf42249875a17f77c6efc7",
       "value": 4
      }
     },
     "53158dec7f594db998d1d3c997266e28": {
      "model_module": "@jupyter-widgets/base",
      "model_module_version": "1.2.0",
      "model_name": "LayoutModel",
      "state": {}
     },
     "535c7dfe55704c279516fe05a4193ccd": {
      "model_module": "@jupyter-widgets/controls",
      "model_module_version": "1.5.0",
      "model_name": "IntProgressModel",
      "state": {
       "description": "Processing: ",
       "layout": "IPY_MODEL_16e9e2a08a3f427ca590447071eb82e0",
       "max": 870,
       "style": "IPY_MODEL_ba2240e1c94a478cb4a761e40d0958b0",
       "value": 870
      }
     },
     "57cac375ec6d4fd3b96900dc60fef2aa": {
      "model_module": "@jupyter-widgets/base",
      "model_module_version": "1.2.0",
      "model_name": "LayoutModel",
      "state": {}
     },
     "58831f023c5b497e919aff6f4eb8a4a5": {
      "model_module": "@jupyter-widgets/base",
      "model_module_version": "1.2.0",
      "model_name": "LayoutModel",
      "state": {}
     },
     "5971dcb9f6424a1cbf1c2014a1386b81": {
      "model_module": "@jupyter-widgets/controls",
      "model_module_version": "1.5.0",
      "model_name": "ButtonModel",
      "state": {
       "description": "Run Interact",
       "layout": "IPY_MODEL_70a28876caf14ca4a0c5f7a06e67284a",
       "style": "IPY_MODEL_ed6c19d2b9dd4d0cb71431f7aa30934c"
      }
     },
     "5a09472c1ef3476b924f3803890a10e1": {
      "model_module": "@jupyter-widgets/controls",
      "model_module_version": "1.5.0",
      "model_name": "IntProgressModel",
      "state": {
       "description": "Processing: ",
       "layout": "IPY_MODEL_b97fc926337941f882e40c70b1f6d86a",
       "max": 870,
       "style": "IPY_MODEL_9e6d802bfa104586a25109d50ceff98d",
       "value": 870
      }
     },
     "5b6b8326f0a5417d876abb0002f1a002": {
      "model_module": "@jupyter-widgets/controls",
      "model_module_version": "1.5.0",
      "model_name": "ToggleButtonsStyleModel",
      "state": {
       "button_width": "",
       "description_width": ""
      }
     },
     "5bcb2f51df654e0f8523e33e88d2609f": {
      "model_module": "@jupyter-widgets/controls",
      "model_module_version": "1.5.0",
      "model_name": "ProgressStyleModel",
      "state": {
       "description_width": ""
      }
     },
     "5be6d5098d9f467098ed1693d37e32b2": {
      "model_module": "@jupyter-widgets/output",
      "model_module_version": "1.0.0",
      "model_name": "OutputModel",
      "state": {
       "layout": "IPY_MODEL_5e22a500410947d3a5b677dcf2f13a84",
       "outputs": [
        {
         "data": {
          "text/html": "        <script type=\"text/javascript\">\n        window.PlotlyConfig = {MathJaxConfig: 'local'};\n        if (window.MathJax) {MathJax.Hub.Config({SVG: {font: \"STIX-Web\"}});}\n        if (typeof require !== 'undefined') {\n        require.undef(\"plotly\");\n        requirejs.config({\n            paths: {\n                'plotly': ['https://cdn.plot.ly/plotly-latest.min']\n            }\n        });\n        require(['plotly'], function(Plotly) {\n            window._Plotly = Plotly;\n        });\n        }\n        </script>\n        "
         },
         "metadata": {},
         "output_type": "display_data"
        },
        {
         "data": {
          "application/vnd.plotly.v1+json": {
           "config": {
            "linkText": "Export to plot.ly",
            "plotlyServerURL": "https://plot.ly",
            "showLink": true
           },
           "data": [
            {
             "marker": {
              "color": "rgba(255, 153, 51, 0.6)",
              "line": {
               "color": "rgba(255, 153, 51, 1.0)",
               "width": 1
              }
             },
             "name": "count",
             "orientation": "v",
             "text": "",
             "type": "bar",
             "x": [
              "outdoor pool",
              "pool bar",
              "stay night",
              "great variety",
              "go back",
              "first time",
              "lunch dinner",
              "night stay",
              "business trip",
              "staff friendly",
              "excellent service",
              "make sure",
              "next time",
              "pool area",
              "worth visit",
              "stay business",
              "business lunch",
              "late night",
              "morning breakfast",
              "staff excellent",
              "extra charge",
              "little old",
              "little bit",
              "well decorate",
              "flight cancel",
              "swim pool",
              "indoor pool",
              "friendly helpful",
              "include price",
              "friendly staff",
              "high quality",
              "bit pricey",
              "next day",
              "many time",
              "great time",
              "different salad",
              "spa area",
              "really like",
              "place stay",
              "soft drink",
              "day breakfast",
              "old fashion",
              "several different",
              "stay well",
              "buffet option",
              "complimentary drink",
              "cost euros",
              "book night",
              "change glass",
              "couple day",
              "go wife",
              "great atmosphere",
              "fresh fruit",
              "fan buffet",
              "buffet choose",
              "dessert include",
              "buffet rich",
              "buffet excellent",
              "buffet great",
              "entree dish",
              "buffet make",
              "enjoy great",
              "easy find",
              "drink also",
              "great place",
              "let know",
              "great value",
              "stay service",
              "really worth",
              "reasonable price",
              "right get",
              "salad meat",
              "service excellent",
              "staff keep",
              "summer time",
              "helpful polite",
              "think dessert",
              "try different",
              "variety choice",
              "variety salad",
              "want change",
              "want pay",
              "quality taste",
              "price friendly",
              "place go",
              "minute_walk away",
              "meat fish",
              "many option",
              "lunch salad",
              "lunch buffet",
              "local speciality",
              "like change",
              "late lunch",
              "large varaiety",
              "large clean",
              "indoor outdoor",
              "huge variety",
              "hot dish",
              "highly recomende",
              "always great"
             ],
             "y": [
              6,
              6,
              6,
              5,
              5,
              5,
              5,
              5,
              5,
              4,
              4,
              4,
              4,
              4,
              4,
              4,
              3,
              3,
              3,
              3,
              3,
              3,
              3,
              3,
              3,
              3,
              3,
              3,
              3,
              3,
              3,
              3,
              3,
              3,
              3,
              3,
              3,
              3,
              3,
              3,
              3,
              3,
              3,
              3,
              2,
              2,
              2,
              2,
              2,
              2,
              2,
              2,
              2,
              2,
              2,
              2,
              2,
              2,
              2,
              2,
              2,
              2,
              2,
              2,
              2,
              2,
              2,
              2,
              2,
              2,
              2,
              2,
              2,
              2,
              2,
              2,
              2,
              2,
              2,
              2,
              2,
              2,
              2,
              2,
              2,
              2,
              2,
              2,
              2,
              2,
              2,
              2,
              2,
              2,
              2,
              2,
              2,
              2,
              2,
              2
             ]
            }
           ],
           "layout": {
            "legend": {
             "bgcolor": "#F5F6F9",
             "font": {
              "color": "#4D5663"
             }
            },
            "paper_bgcolor": "#F5F6F9",
            "plot_bgcolor": "#F5F6F9",
            "template": {
             "data": {
              "bar": [
               {
                "error_x": {
                 "color": "#2a3f5f"
                },
                "error_y": {
                 "color": "#2a3f5f"
                },
                "marker": {
                 "line": {
                  "color": "#E5ECF6",
                  "width": 0.5
                 }
                },
                "type": "bar"
               }
              ],
              "barpolar": [
               {
                "marker": {
                 "line": {
                  "color": "#E5ECF6",
                  "width": 0.5
                 }
                },
                "type": "barpolar"
               }
              ],
              "carpet": [
               {
                "aaxis": {
                 "endlinecolor": "#2a3f5f",
                 "gridcolor": "white",
                 "linecolor": "white",
                 "minorgridcolor": "white",
                 "startlinecolor": "#2a3f5f"
                },
                "baxis": {
                 "endlinecolor": "#2a3f5f",
                 "gridcolor": "white",
                 "linecolor": "white",
                 "minorgridcolor": "white",
                 "startlinecolor": "#2a3f5f"
                },
                "type": "carpet"
               }
              ],
              "choropleth": [
               {
                "colorbar": {
                 "outlinewidth": 0,
                 "ticks": ""
                },
                "type": "choropleth"
               }
              ],
              "contour": [
               {
                "colorbar": {
                 "outlinewidth": 0,
                 "ticks": ""
                },
                "colorscale": [
                 [
                  0,
                  "#0d0887"
                 ],
                 [
                  0.1111111111111111,
                  "#46039f"
                 ],
                 [
                  0.2222222222222222,
                  "#7201a8"
                 ],
                 [
                  0.3333333333333333,
                  "#9c179e"
                 ],
                 [
                  0.4444444444444444,
                  "#bd3786"
                 ],
                 [
                  0.5555555555555556,
                  "#d8576b"
                 ],
                 [
                  0.6666666666666666,
                  "#ed7953"
                 ],
                 [
                  0.7777777777777778,
                  "#fb9f3a"
                 ],
                 [
                  0.8888888888888888,
                  "#fdca26"
                 ],
                 [
                  1,
                  "#f0f921"
                 ]
                ],
                "type": "contour"
               }
              ],
              "contourcarpet": [
               {
                "colorbar": {
                 "outlinewidth": 0,
                 "ticks": ""
                },
                "type": "contourcarpet"
               }
              ],
              "heatmap": [
               {
                "colorbar": {
                 "outlinewidth": 0,
                 "ticks": ""
                },
                "colorscale": [
                 [
                  0,
                  "#0d0887"
                 ],
                 [
                  0.1111111111111111,
                  "#46039f"
                 ],
                 [
                  0.2222222222222222,
                  "#7201a8"
                 ],
                 [
                  0.3333333333333333,
                  "#9c179e"
                 ],
                 [
                  0.4444444444444444,
                  "#bd3786"
                 ],
                 [
                  0.5555555555555556,
                  "#d8576b"
                 ],
                 [
                  0.6666666666666666,
                  "#ed7953"
                 ],
                 [
                  0.7777777777777778,
                  "#fb9f3a"
                 ],
                 [
                  0.8888888888888888,
                  "#fdca26"
                 ],
                 [
                  1,
                  "#f0f921"
                 ]
                ],
                "type": "heatmap"
               }
              ],
              "heatmapgl": [
               {
                "colorbar": {
                 "outlinewidth": 0,
                 "ticks": ""
                },
                "colorscale": [
                 [
                  0,
                  "#0d0887"
                 ],
                 [
                  0.1111111111111111,
                  "#46039f"
                 ],
                 [
                  0.2222222222222222,
                  "#7201a8"
                 ],
                 [
                  0.3333333333333333,
                  "#9c179e"
                 ],
                 [
                  0.4444444444444444,
                  "#bd3786"
                 ],
                 [
                  0.5555555555555556,
                  "#d8576b"
                 ],
                 [
                  0.6666666666666666,
                  "#ed7953"
                 ],
                 [
                  0.7777777777777778,
                  "#fb9f3a"
                 ],
                 [
                  0.8888888888888888,
                  "#fdca26"
                 ],
                 [
                  1,
                  "#f0f921"
                 ]
                ],
                "type": "heatmapgl"
               }
              ],
              "histogram": [
               {
                "marker": {
                 "colorbar": {
                  "outlinewidth": 0,
                  "ticks": ""
                 }
                },
                "type": "histogram"
               }
              ],
              "histogram2d": [
               {
                "colorbar": {
                 "outlinewidth": 0,
                 "ticks": ""
                },
                "colorscale": [
                 [
                  0,
                  "#0d0887"
                 ],
                 [
                  0.1111111111111111,
                  "#46039f"
                 ],
                 [
                  0.2222222222222222,
                  "#7201a8"
                 ],
                 [
                  0.3333333333333333,
                  "#9c179e"
                 ],
                 [
                  0.4444444444444444,
                  "#bd3786"
                 ],
                 [
                  0.5555555555555556,
                  "#d8576b"
                 ],
                 [
                  0.6666666666666666,
                  "#ed7953"
                 ],
                 [
                  0.7777777777777778,
                  "#fb9f3a"
                 ],
                 [
                  0.8888888888888888,
                  "#fdca26"
                 ],
                 [
                  1,
                  "#f0f921"
                 ]
                ],
                "type": "histogram2d"
               }
              ],
              "histogram2dcontour": [
               {
                "colorbar": {
                 "outlinewidth": 0,
                 "ticks": ""
                },
                "colorscale": [
                 [
                  0,
                  "#0d0887"
                 ],
                 [
                  0.1111111111111111,
                  "#46039f"
                 ],
                 [
                  0.2222222222222222,
                  "#7201a8"
                 ],
                 [
                  0.3333333333333333,
                  "#9c179e"
                 ],
                 [
                  0.4444444444444444,
                  "#bd3786"
                 ],
                 [
                  0.5555555555555556,
                  "#d8576b"
                 ],
                 [
                  0.6666666666666666,
                  "#ed7953"
                 ],
                 [
                  0.7777777777777778,
                  "#fb9f3a"
                 ],
                 [
                  0.8888888888888888,
                  "#fdca26"
                 ],
                 [
                  1,
                  "#f0f921"
                 ]
                ],
                "type": "histogram2dcontour"
               }
              ],
              "mesh3d": [
               {
                "colorbar": {
                 "outlinewidth": 0,
                 "ticks": ""
                },
                "type": "mesh3d"
               }
              ],
              "parcoords": [
               {
                "line": {
                 "colorbar": {
                  "outlinewidth": 0,
                  "ticks": ""
                 }
                },
                "type": "parcoords"
               }
              ],
              "pie": [
               {
                "automargin": true,
                "type": "pie"
               }
              ],
              "scatter": [
               {
                "marker": {
                 "colorbar": {
                  "outlinewidth": 0,
                  "ticks": ""
                 }
                },
                "type": "scatter"
               }
              ],
              "scatter3d": [
               {
                "line": {
                 "colorbar": {
                  "outlinewidth": 0,
                  "ticks": ""
                 }
                },
                "marker": {
                 "colorbar": {
                  "outlinewidth": 0,
                  "ticks": ""
                 }
                },
                "type": "scatter3d"
               }
              ],
              "scattercarpet": [
               {
                "marker": {
                 "colorbar": {
                  "outlinewidth": 0,
                  "ticks": ""
                 }
                },
                "type": "scattercarpet"
               }
              ],
              "scattergeo": [
               {
                "marker": {
                 "colorbar": {
                  "outlinewidth": 0,
                  "ticks": ""
                 }
                },
                "type": "scattergeo"
               }
              ],
              "scattergl": [
               {
                "marker": {
                 "colorbar": {
                  "outlinewidth": 0,
                  "ticks": ""
                 }
                },
                "type": "scattergl"
               }
              ],
              "scattermapbox": [
               {
                "marker": {
                 "colorbar": {
                  "outlinewidth": 0,
                  "ticks": ""
                 }
                },
                "type": "scattermapbox"
               }
              ],
              "scatterpolar": [
               {
                "marker": {
                 "colorbar": {
                  "outlinewidth": 0,
                  "ticks": ""
                 }
                },
                "type": "scatterpolar"
               }
              ],
              "scatterpolargl": [
               {
                "marker": {
                 "colorbar": {
                  "outlinewidth": 0,
                  "ticks": ""
                 }
                },
                "type": "scatterpolargl"
               }
              ],
              "scatterternary": [
               {
                "marker": {
                 "colorbar": {
                  "outlinewidth": 0,
                  "ticks": ""
                 }
                },
                "type": "scatterternary"
               }
              ],
              "surface": [
               {
                "colorbar": {
                 "outlinewidth": 0,
                 "ticks": ""
                },
                "colorscale": [
                 [
                  0,
                  "#0d0887"
                 ],
                 [
                  0.1111111111111111,
                  "#46039f"
                 ],
                 [
                  0.2222222222222222,
                  "#7201a8"
                 ],
                 [
                  0.3333333333333333,
                  "#9c179e"
                 ],
                 [
                  0.4444444444444444,
                  "#bd3786"
                 ],
                 [
                  0.5555555555555556,
                  "#d8576b"
                 ],
                 [
                  0.6666666666666666,
                  "#ed7953"
                 ],
                 [
                  0.7777777777777778,
                  "#fb9f3a"
                 ],
                 [
                  0.8888888888888888,
                  "#fdca26"
                 ],
                 [
                  1,
                  "#f0f921"
                 ]
                ],
                "type": "surface"
               }
              ],
              "table": [
               {
                "cells": {
                 "fill": {
                  "color": "#EBF0F8"
                 },
                 "line": {
                  "color": "white"
                 }
                },
                "header": {
                 "fill": {
                  "color": "#C8D4E3"
                 },
                 "line": {
                  "color": "white"
                 }
                },
                "type": "table"
               }
              ]
             },
             "layout": {
              "annotationdefaults": {
               "arrowcolor": "#2a3f5f",
               "arrowhead": 0,
               "arrowwidth": 1
              },
              "coloraxis": {
               "colorbar": {
                "outlinewidth": 0,
                "ticks": ""
               }
              },
              "colorscale": {
               "diverging": [
                [
                 0,
                 "#8e0152"
                ],
                [
                 0.1,
                 "#c51b7d"
                ],
                [
                 0.2,
                 "#de77ae"
                ],
                [
                 0.3,
                 "#f1b6da"
                ],
                [
                 0.4,
                 "#fde0ef"
                ],
                [
                 0.5,
                 "#f7f7f7"
                ],
                [
                 0.6,
                 "#e6f5d0"
                ],
                [
                 0.7,
                 "#b8e186"
                ],
                [
                 0.8,
                 "#7fbc41"
                ],
                [
                 0.9,
                 "#4d9221"
                ],
                [
                 1,
                 "#276419"
                ]
               ],
               "sequential": [
                [
                 0,
                 "#0d0887"
                ],
                [
                 0.1111111111111111,
                 "#46039f"
                ],
                [
                 0.2222222222222222,
                 "#7201a8"
                ],
                [
                 0.3333333333333333,
                 "#9c179e"
                ],
                [
                 0.4444444444444444,
                 "#bd3786"
                ],
                [
                 0.5555555555555556,
                 "#d8576b"
                ],
                [
                 0.6666666666666666,
                 "#ed7953"
                ],
                [
                 0.7777777777777778,
                 "#fb9f3a"
                ],
                [
                 0.8888888888888888,
                 "#fdca26"
                ],
                [
                 1,
                 "#f0f921"
                ]
               ],
               "sequentialminus": [
                [
                 0,
                 "#0d0887"
                ],
                [
                 0.1111111111111111,
                 "#46039f"
                ],
                [
                 0.2222222222222222,
                 "#7201a8"
                ],
                [
                 0.3333333333333333,
                 "#9c179e"
                ],
                [
                 0.4444444444444444,
                 "#bd3786"
                ],
                [
                 0.5555555555555556,
                 "#d8576b"
                ],
                [
                 0.6666666666666666,
                 "#ed7953"
                ],
                [
                 0.7777777777777778,
                 "#fb9f3a"
                ],
                [
                 0.8888888888888888,
                 "#fdca26"
                ],
                [
                 1,
                 "#f0f921"
                ]
               ]
              },
              "colorway": [
               "#636efa",
               "#EF553B",
               "#00cc96",
               "#ab63fa",
               "#FFA15A",
               "#19d3f3",
               "#FF6692",
               "#B6E880",
               "#FF97FF",
               "#FECB52"
              ],
              "font": {
               "color": "#2a3f5f"
              },
              "geo": {
               "bgcolor": "white",
               "lakecolor": "white",
               "landcolor": "#E5ECF6",
               "showlakes": true,
               "showland": true,
               "subunitcolor": "white"
              },
              "hoverlabel": {
               "align": "left"
              },
              "hovermode": "closest",
              "mapbox": {
               "style": "light"
              },
              "paper_bgcolor": "white",
              "plot_bgcolor": "#E5ECF6",
              "polar": {
               "angularaxis": {
                "gridcolor": "white",
                "linecolor": "white",
                "ticks": ""
               },
               "bgcolor": "#E5ECF6",
               "radialaxis": {
                "gridcolor": "white",
                "linecolor": "white",
                "ticks": ""
               }
              },
              "scene": {
               "xaxis": {
                "backgroundcolor": "#E5ECF6",
                "gridcolor": "white",
                "gridwidth": 2,
                "linecolor": "white",
                "showbackground": true,
                "ticks": "",
                "zerolinecolor": "white"
               },
               "yaxis": {
                "backgroundcolor": "#E5ECF6",
                "gridcolor": "white",
                "gridwidth": 2,
                "linecolor": "white",
                "showbackground": true,
                "ticks": "",
                "zerolinecolor": "white"
               },
               "zaxis": {
                "backgroundcolor": "#E5ECF6",
                "gridcolor": "white",
                "gridwidth": 2,
                "linecolor": "white",
                "showbackground": true,
                "ticks": "",
                "zerolinecolor": "white"
               }
              },
              "shapedefaults": {
               "line": {
                "color": "#2a3f5f"
               }
              },
              "ternary": {
               "aaxis": {
                "gridcolor": "white",
                "linecolor": "white",
                "ticks": ""
               },
               "baxis": {
                "gridcolor": "white",
                "linecolor": "white",
                "ticks": ""
               },
               "bgcolor": "#E5ECF6",
               "caxis": {
                "gridcolor": "white",
                "linecolor": "white",
                "ticks": ""
               }
              },
              "title": {
               "x": 0.05
              },
              "xaxis": {
               "automargin": true,
               "gridcolor": "white",
               "linecolor": "white",
               "ticks": "",
               "title": {
                "standoff": 15
               },
               "zerolinecolor": "white",
               "zerolinewidth": 2
              },
              "yaxis": {
               "automargin": true,
               "gridcolor": "white",
               "linecolor": "white",
               "ticks": "",
               "title": {
                "standoff": 15
               },
               "zerolinecolor": "white",
               "zerolinewidth": 2
              }
             }
            },
            "title": {
             "font": {
              "color": "#4D5663"
             },
             "text": "Topic 3: Top 100 bigrams after removing stop words"
            },
            "xaxis": {
             "gridcolor": "#E1E5ED",
             "linecolor": "black",
             "showgrid": true,
             "tickfont": {
              "color": "#4D5663"
             },
             "title": {
              "font": {
               "color": "#4D5663"
              },
              "text": ""
             },
             "zerolinecolor": "#E1E5ED"
            },
            "yaxis": {
             "gridcolor": "#E1E5ED",
             "linecolor": "black",
             "showgrid": true,
             "tickfont": {
              "color": "#4D5663"
             },
             "title": {
              "font": {
               "color": "#4D5663"
              },
              "text": "Count"
             },
             "zerolinecolor": "#E1E5ED"
            }
           }
          },
          "text/html": "<div>\n        \n        \n            <div id=\"35eb5c21-06d4-46a5-a219-ad3a7e64fe2b\" class=\"plotly-graph-div\" style=\"height:525px; width:100%;\"></div>\n            <script type=\"text/javascript\">\n                require([\"plotly\"], function(Plotly) {\n                    window.PLOTLYENV=window.PLOTLYENV || {};\n                    window.PLOTLYENV.BASE_URL='https://plot.ly';\n                    \n                if (document.getElementById(\"35eb5c21-06d4-46a5-a219-ad3a7e64fe2b\")) {\n                    Plotly.newPlot(\n                        '35eb5c21-06d4-46a5-a219-ad3a7e64fe2b',\n                        [{\"marker\": {\"color\": \"rgba(255, 153, 51, 0.6)\", \"line\": {\"color\": \"rgba(255, 153, 51, 1.0)\", \"width\": 1}}, \"name\": \"count\", \"orientation\": \"v\", \"text\": \"\", \"type\": \"bar\", \"x\": [\"outdoor pool\", \"pool bar\", \"stay night\", \"great variety\", \"go back\", \"first time\", \"lunch dinner\", \"night stay\", \"business trip\", \"staff friendly\", \"excellent service\", \"make sure\", \"next time\", \"pool area\", \"worth visit\", \"stay business\", \"business lunch\", \"late night\", \"morning breakfast\", \"staff excellent\", \"extra charge\", \"little old\", \"little bit\", \"well decorate\", \"flight cancel\", \"swim pool\", \"indoor pool\", \"friendly helpful\", \"include price\", \"friendly staff\", \"high quality\", \"bit pricey\", \"next day\", \"many time\", \"great time\", \"different salad\", \"spa area\", \"really like\", \"place stay\", \"soft drink\", \"day breakfast\", \"old fashion\", \"several different\", \"stay well\", \"buffet option\", \"complimentary drink\", \"cost euros\", \"book night\", \"change glass\", \"couple day\", \"go wife\", \"great atmosphere\", \"fresh fruit\", \"fan buffet\", \"buffet choose\", \"dessert include\", \"buffet rich\", \"buffet excellent\", \"buffet great\", \"entree dish\", \"buffet make\", \"enjoy great\", \"easy find\", \"drink also\", \"great place\", \"let know\", \"great value\", \"stay service\", \"really worth\", \"reasonable price\", \"right get\", \"salad meat\", \"service excellent\", \"staff keep\", \"summer time\", \"helpful polite\", \"think dessert\", \"try different\", \"variety choice\", \"variety salad\", \"want change\", \"want pay\", \"quality taste\", \"price friendly\", \"place go\", \"minute_walk away\", \"meat fish\", \"many option\", \"lunch salad\", \"lunch buffet\", \"local speciality\", \"like change\", \"late lunch\", \"large varaiety\", \"large clean\", \"indoor outdoor\", \"huge variety\", \"hot dish\", \"highly recomende\", \"always great\"], \"y\": [6, 6, 6, 5, 5, 5, 5, 5, 5, 4, 4, 4, 4, 4, 4, 4, 3, 3, 3, 3, 3, 3, 3, 3, 3, 3, 3, 3, 3, 3, 3, 3, 3, 3, 3, 3, 3, 3, 3, 3, 3, 3, 3, 3, 2, 2, 2, 2, 2, 2, 2, 2, 2, 2, 2, 2, 2, 2, 2, 2, 2, 2, 2, 2, 2, 2, 2, 2, 2, 2, 2, 2, 2, 2, 2, 2, 2, 2, 2, 2, 2, 2, 2, 2, 2, 2, 2, 2, 2, 2, 2, 2, 2, 2, 2, 2, 2, 2, 2, 2]}],\n                        {\"legend\": {\"bgcolor\": \"#F5F6F9\", \"font\": {\"color\": \"#4D5663\"}}, \"paper_bgcolor\": \"#F5F6F9\", \"plot_bgcolor\": \"#F5F6F9\", \"template\": {\"data\": {\"bar\": [{\"error_x\": {\"color\": \"#2a3f5f\"}, \"error_y\": {\"color\": \"#2a3f5f\"}, \"marker\": {\"line\": {\"color\": \"#E5ECF6\", \"width\": 0.5}}, \"type\": \"bar\"}], \"barpolar\": [{\"marker\": {\"line\": {\"color\": \"#E5ECF6\", \"width\": 0.5}}, \"type\": \"barpolar\"}], \"carpet\": [{\"aaxis\": {\"endlinecolor\": \"#2a3f5f\", \"gridcolor\": \"white\", \"linecolor\": \"white\", \"minorgridcolor\": \"white\", \"startlinecolor\": \"#2a3f5f\"}, \"baxis\": {\"endlinecolor\": \"#2a3f5f\", \"gridcolor\": \"white\", \"linecolor\": \"white\", \"minorgridcolor\": \"white\", \"startlinecolor\": \"#2a3f5f\"}, \"type\": \"carpet\"}], \"choropleth\": [{\"colorbar\": {\"outlinewidth\": 0, \"ticks\": \"\"}, \"type\": \"choropleth\"}], \"contour\": [{\"colorbar\": {\"outlinewidth\": 0, \"ticks\": \"\"}, \"colorscale\": [[0.0, \"#0d0887\"], [0.1111111111111111, \"#46039f\"], [0.2222222222222222, \"#7201a8\"], [0.3333333333333333, \"#9c179e\"], [0.4444444444444444, \"#bd3786\"], [0.5555555555555556, \"#d8576b\"], [0.6666666666666666, \"#ed7953\"], [0.7777777777777778, \"#fb9f3a\"], [0.8888888888888888, \"#fdca26\"], [1.0, \"#f0f921\"]], \"type\": \"contour\"}], \"contourcarpet\": [{\"colorbar\": {\"outlinewidth\": 0, \"ticks\": \"\"}, \"type\": \"contourcarpet\"}], \"heatmap\": [{\"colorbar\": {\"outlinewidth\": 0, \"ticks\": \"\"}, \"colorscale\": [[0.0, \"#0d0887\"], [0.1111111111111111, \"#46039f\"], [0.2222222222222222, \"#7201a8\"], [0.3333333333333333, \"#9c179e\"], [0.4444444444444444, \"#bd3786\"], [0.5555555555555556, \"#d8576b\"], [0.6666666666666666, \"#ed7953\"], [0.7777777777777778, \"#fb9f3a\"], [0.8888888888888888, \"#fdca26\"], [1.0, \"#f0f921\"]], \"type\": \"heatmap\"}], \"heatmapgl\": [{\"colorbar\": {\"outlinewidth\": 0, \"ticks\": \"\"}, \"colorscale\": [[0.0, \"#0d0887\"], [0.1111111111111111, \"#46039f\"], [0.2222222222222222, \"#7201a8\"], [0.3333333333333333, \"#9c179e\"], [0.4444444444444444, \"#bd3786\"], [0.5555555555555556, \"#d8576b\"], [0.6666666666666666, \"#ed7953\"], [0.7777777777777778, \"#fb9f3a\"], [0.8888888888888888, \"#fdca26\"], [1.0, \"#f0f921\"]], \"type\": \"heatmapgl\"}], \"histogram\": [{\"marker\": {\"colorbar\": {\"outlinewidth\": 0, \"ticks\": \"\"}}, \"type\": \"histogram\"}], \"histogram2d\": [{\"colorbar\": {\"outlinewidth\": 0, \"ticks\": \"\"}, \"colorscale\": [[0.0, \"#0d0887\"], [0.1111111111111111, \"#46039f\"], [0.2222222222222222, \"#7201a8\"], [0.3333333333333333, \"#9c179e\"], [0.4444444444444444, \"#bd3786\"], [0.5555555555555556, \"#d8576b\"], [0.6666666666666666, \"#ed7953\"], [0.7777777777777778, \"#fb9f3a\"], [0.8888888888888888, \"#fdca26\"], [1.0, \"#f0f921\"]], \"type\": \"histogram2d\"}], \"histogram2dcontour\": [{\"colorbar\": {\"outlinewidth\": 0, \"ticks\": \"\"}, \"colorscale\": [[0.0, \"#0d0887\"], [0.1111111111111111, \"#46039f\"], [0.2222222222222222, \"#7201a8\"], [0.3333333333333333, \"#9c179e\"], [0.4444444444444444, \"#bd3786\"], [0.5555555555555556, \"#d8576b\"], [0.6666666666666666, \"#ed7953\"], [0.7777777777777778, \"#fb9f3a\"], [0.8888888888888888, \"#fdca26\"], [1.0, \"#f0f921\"]], \"type\": \"histogram2dcontour\"}], \"mesh3d\": [{\"colorbar\": {\"outlinewidth\": 0, \"ticks\": \"\"}, \"type\": \"mesh3d\"}], \"parcoords\": [{\"line\": {\"colorbar\": {\"outlinewidth\": 0, \"ticks\": \"\"}}, \"type\": \"parcoords\"}], \"pie\": [{\"automargin\": true, \"type\": \"pie\"}], \"scatter\": [{\"marker\": {\"colorbar\": {\"outlinewidth\": 0, \"ticks\": \"\"}}, \"type\": \"scatter\"}], \"scatter3d\": [{\"line\": {\"colorbar\": {\"outlinewidth\": 0, \"ticks\": \"\"}}, \"marker\": {\"colorbar\": {\"outlinewidth\": 0, \"ticks\": \"\"}}, \"type\": \"scatter3d\"}], \"scattercarpet\": [{\"marker\": {\"colorbar\": {\"outlinewidth\": 0, \"ticks\": \"\"}}, \"type\": \"scattercarpet\"}], \"scattergeo\": [{\"marker\": {\"colorbar\": {\"outlinewidth\": 0, \"ticks\": \"\"}}, \"type\": \"scattergeo\"}], \"scattergl\": [{\"marker\": {\"colorbar\": {\"outlinewidth\": 0, \"ticks\": \"\"}}, \"type\": \"scattergl\"}], \"scattermapbox\": [{\"marker\": {\"colorbar\": {\"outlinewidth\": 0, \"ticks\": \"\"}}, \"type\": \"scattermapbox\"}], \"scatterpolar\": [{\"marker\": {\"colorbar\": {\"outlinewidth\": 0, \"ticks\": \"\"}}, \"type\": \"scatterpolar\"}], \"scatterpolargl\": [{\"marker\": {\"colorbar\": {\"outlinewidth\": 0, \"ticks\": \"\"}}, \"type\": \"scatterpolargl\"}], \"scatterternary\": [{\"marker\": {\"colorbar\": {\"outlinewidth\": 0, \"ticks\": \"\"}}, \"type\": \"scatterternary\"}], \"surface\": [{\"colorbar\": {\"outlinewidth\": 0, \"ticks\": \"\"}, \"colorscale\": [[0.0, \"#0d0887\"], [0.1111111111111111, \"#46039f\"], [0.2222222222222222, \"#7201a8\"], [0.3333333333333333, \"#9c179e\"], [0.4444444444444444, \"#bd3786\"], [0.5555555555555556, \"#d8576b\"], [0.6666666666666666, \"#ed7953\"], [0.7777777777777778, \"#fb9f3a\"], [0.8888888888888888, \"#fdca26\"], [1.0, \"#f0f921\"]], \"type\": \"surface\"}], \"table\": [{\"cells\": {\"fill\": {\"color\": \"#EBF0F8\"}, \"line\": {\"color\": \"white\"}}, \"header\": {\"fill\": {\"color\": \"#C8D4E3\"}, \"line\": {\"color\": \"white\"}}, \"type\": \"table\"}]}, \"layout\": {\"annotationdefaults\": {\"arrowcolor\": \"#2a3f5f\", \"arrowhead\": 0, \"arrowwidth\": 1}, \"coloraxis\": {\"colorbar\": {\"outlinewidth\": 0, \"ticks\": \"\"}}, \"colorscale\": {\"diverging\": [[0, \"#8e0152\"], [0.1, \"#c51b7d\"], [0.2, \"#de77ae\"], [0.3, \"#f1b6da\"], [0.4, \"#fde0ef\"], [0.5, \"#f7f7f7\"], [0.6, \"#e6f5d0\"], [0.7, \"#b8e186\"], [0.8, \"#7fbc41\"], [0.9, \"#4d9221\"], [1, \"#276419\"]], \"sequential\": [[0.0, \"#0d0887\"], [0.1111111111111111, \"#46039f\"], [0.2222222222222222, \"#7201a8\"], [0.3333333333333333, \"#9c179e\"], [0.4444444444444444, \"#bd3786\"], [0.5555555555555556, \"#d8576b\"], [0.6666666666666666, \"#ed7953\"], [0.7777777777777778, \"#fb9f3a\"], [0.8888888888888888, \"#fdca26\"], [1.0, \"#f0f921\"]], \"sequentialminus\": [[0.0, \"#0d0887\"], [0.1111111111111111, \"#46039f\"], [0.2222222222222222, \"#7201a8\"], [0.3333333333333333, \"#9c179e\"], [0.4444444444444444, \"#bd3786\"], [0.5555555555555556, \"#d8576b\"], [0.6666666666666666, \"#ed7953\"], [0.7777777777777778, \"#fb9f3a\"], [0.8888888888888888, \"#fdca26\"], [1.0, \"#f0f921\"]]}, \"colorway\": [\"#636efa\", \"#EF553B\", \"#00cc96\", \"#ab63fa\", \"#FFA15A\", \"#19d3f3\", \"#FF6692\", \"#B6E880\", \"#FF97FF\", \"#FECB52\"], \"font\": {\"color\": \"#2a3f5f\"}, \"geo\": {\"bgcolor\": \"white\", \"lakecolor\": \"white\", \"landcolor\": \"#E5ECF6\", \"showlakes\": true, \"showland\": true, \"subunitcolor\": \"white\"}, \"hoverlabel\": {\"align\": \"left\"}, \"hovermode\": \"closest\", \"mapbox\": {\"style\": \"light\"}, \"paper_bgcolor\": \"white\", \"plot_bgcolor\": \"#E5ECF6\", \"polar\": {\"angularaxis\": {\"gridcolor\": \"white\", \"linecolor\": \"white\", \"ticks\": \"\"}, \"bgcolor\": \"#E5ECF6\", \"radialaxis\": {\"gridcolor\": \"white\", \"linecolor\": \"white\", \"ticks\": \"\"}}, \"scene\": {\"xaxis\": {\"backgroundcolor\": \"#E5ECF6\", \"gridcolor\": \"white\", \"gridwidth\": 2, \"linecolor\": \"white\", \"showbackground\": true, \"ticks\": \"\", \"zerolinecolor\": \"white\"}, \"yaxis\": {\"backgroundcolor\": \"#E5ECF6\", \"gridcolor\": \"white\", \"gridwidth\": 2, \"linecolor\": \"white\", \"showbackground\": true, \"ticks\": \"\", \"zerolinecolor\": \"white\"}, \"zaxis\": {\"backgroundcolor\": \"#E5ECF6\", \"gridcolor\": \"white\", \"gridwidth\": 2, \"linecolor\": \"white\", \"showbackground\": true, \"ticks\": \"\", \"zerolinecolor\": \"white\"}}, \"shapedefaults\": {\"line\": {\"color\": \"#2a3f5f\"}}, \"ternary\": {\"aaxis\": {\"gridcolor\": \"white\", \"linecolor\": \"white\", \"ticks\": \"\"}, \"baxis\": {\"gridcolor\": \"white\", \"linecolor\": \"white\", \"ticks\": \"\"}, \"bgcolor\": \"#E5ECF6\", \"caxis\": {\"gridcolor\": \"white\", \"linecolor\": \"white\", \"ticks\": \"\"}}, \"title\": {\"x\": 0.05}, \"xaxis\": {\"automargin\": true, \"gridcolor\": \"white\", \"linecolor\": \"white\", \"ticks\": \"\", \"title\": {\"standoff\": 15}, \"zerolinecolor\": \"white\", \"zerolinewidth\": 2}, \"yaxis\": {\"automargin\": true, \"gridcolor\": \"white\", \"linecolor\": \"white\", \"ticks\": \"\", \"title\": {\"standoff\": 15}, \"zerolinecolor\": \"white\", \"zerolinewidth\": 2}}}, \"title\": {\"font\": {\"color\": \"#4D5663\"}, \"text\": \"Topic 3: Top 100 bigrams after removing stop words\"}, \"xaxis\": {\"gridcolor\": \"#E1E5ED\", \"linecolor\": \"black\", \"showgrid\": true, \"tickfont\": {\"color\": \"#4D5663\"}, \"title\": {\"font\": {\"color\": \"#4D5663\"}, \"text\": \"\"}, \"zerolinecolor\": \"#E1E5ED\"}, \"yaxis\": {\"gridcolor\": \"#E1E5ED\", \"linecolor\": \"black\", \"showgrid\": true, \"tickfont\": {\"color\": \"#4D5663\"}, \"title\": {\"font\": {\"color\": \"#4D5663\"}, \"text\": \"Count\"}, \"zerolinecolor\": \"#E1E5ED\"}},\n                        {\"showLink\": true, \"linkText\": \"Export to plot.ly\", \"plotlyServerURL\": \"https://plot.ly\", \"responsive\": true}\n                    ).then(function(){\n                            \nvar gd = document.getElementById('35eb5c21-06d4-46a5-a219-ad3a7e64fe2b');\nvar x = new MutationObserver(function (mutations, observer) {{\n        var display = window.getComputedStyle(gd).display;\n        if (!display || display === 'none') {{\n            console.log([gd, 'removed!']);\n            Plotly.purge(gd);\n            observer.disconnect();\n        }}\n}});\n\n// Listen for the removal of the full notebook cells\nvar notebookContainer = gd.closest('#notebook-container');\nif (notebookContainer) {{\n    x.observe(notebookContainer, {childList: true});\n}}\n\n// Listen for the clearing of the current output cell\nvar outputEl = gd.closest('.output');\nif (outputEl) {{\n    x.observe(outputEl, {childList: true});\n}}\n\n                        })\n                };\n                });\n            </script>\n        </div>"
         },
         "metadata": {},
         "output_type": "display_data"
        }
       ]
      }
     },
     "5e22a500410947d3a5b677dcf2f13a84": {
      "model_module": "@jupyter-widgets/base",
      "model_module_version": "1.2.0",
      "model_name": "LayoutModel",
      "state": {}
     },
     "5e3b8284655e4d1193d517ba382113c1": {
      "model_module": "@jupyter-widgets/base",
      "model_module_version": "1.2.0",
      "model_name": "LayoutModel",
      "state": {}
     },
     "5eb3637191734eec9f79620da58e5f29": {
      "model_module": "@jupyter-widgets/controls",
      "model_module_version": "1.5.0",
      "model_name": "ProgressStyleModel",
      "state": {
       "description_width": ""
      }
     },
     "5f1dad62fcbe45caac6444f661f27d10": {
      "model_module": "@jupyter-widgets/controls",
      "model_module_version": "1.5.0",
      "model_name": "ProgressStyleModel",
      "state": {
       "description_width": ""
      }
     },
     "62077375abdf48e28987780b10e7d2da": {
      "model_module": "@jupyter-widgets/controls",
      "model_module_version": "1.5.0",
      "model_name": "ProgressStyleModel",
      "state": {
       "description_width": ""
      }
     },
     "63382beeefa04a0a9a1169f1407a4c47": {
      "model_module": "@jupyter-widgets/controls",
      "model_module_version": "1.5.0",
      "model_name": "IntProgressModel",
      "state": {
       "description": "Processing: ",
       "layout": "IPY_MODEL_5e3b8284655e4d1193d517ba382113c1",
       "max": 48,
       "style": "IPY_MODEL_5eb3637191734eec9f79620da58e5f29",
       "value": 48
      }
     },
     "6581d7cb4d92419fbad67bffc7c275ab": {
      "model_module": "@jupyter-widgets/controls",
      "model_module_version": "1.5.0",
      "model_name": "IntProgressModel",
      "state": {
       "description": "Processing: ",
       "layout": "IPY_MODEL_9f4d9978372844b092eb142c012eb461",
       "max": 48,
       "style": "IPY_MODEL_ed35519ca52f4fd795e8c6cce2a7e233",
       "value": 48
      }
     },
     "66a25303bbe84b82b97f0a28a1667233": {
      "model_module": "@jupyter-widgets/base",
      "model_module_version": "1.2.0",
      "model_name": "LayoutModel",
      "state": {}
     },
     "68f776c0ee6042a2808649742f4bac2b": {
      "model_module": "@jupyter-widgets/controls",
      "model_module_version": "1.5.0",
      "model_name": "IntProgressModel",
      "state": {
       "description": "Processing: ",
       "layout": "IPY_MODEL_96f8fd9dded14f198991a160b4ce8f0e",
       "max": 48,
       "style": "IPY_MODEL_9c4378f7d73c44c79a71e9357098d2d3",
       "value": 48
      }
     },
     "69bb7f060370468ab969885a393bc713": {
      "model_module": "@jupyter-widgets/controls",
      "model_module_version": "1.5.0",
      "model_name": "DropdownModel",
      "state": {
       "_options_labels": [
        "Topic 0",
        "Topic 1",
        "Topic 2",
        "Topic 3",
        "Topic 4",
        "Topic 5",
        "Topic 6",
        "Topic 7",
        "Topic 8",
        "Topic 9"
       ],
       "description": "Topic #:",
       "index": 9,
       "layout": "IPY_MODEL_d2aabbfda6494143b42c40dc46625599",
       "style": "IPY_MODEL_d03d1c65475a46e7b028e243ac822384"
      }
     },
     "6b283543764646a9ae26e0b933fba321": {
      "model_module": "@jupyter-widgets/controls",
      "model_module_version": "1.5.0",
      "model_name": "ProgressStyleModel",
      "state": {
       "description_width": ""
      }
     },
     "6eca3fee38aa49eaa15618e2c784e7ef": {
      "model_module": "@jupyter-widgets/controls",
      "model_module_version": "1.5.0",
      "model_name": "ProgressStyleModel",
      "state": {
       "description_width": ""
      }
     },
     "704ea141a5074eaa83f67d44f98d2c0b": {
      "model_module": "@jupyter-widgets/controls",
      "model_module_version": "1.5.0",
      "model_name": "ToggleButtonsStyleModel",
      "state": {
       "button_width": "",
       "description_width": ""
      }
     },
     "70815f0b5b404c93be39bdaaca26b098": {
      "model_module": "@jupyter-widgets/controls",
      "model_module_version": "1.5.0",
      "model_name": "IntProgressModel",
      "state": {
       "description": "Processing: ",
       "layout": "IPY_MODEL_31b3baafeb774a7cbac7db870aa9dd74",
       "max": 11,
       "style": "IPY_MODEL_c94240c41acb4685a37cdf7f48cfe378",
       "value": 11
      }
     },
     "70a28876caf14ca4a0c5f7a06e67284a": {
      "model_module": "@jupyter-widgets/base",
      "model_module_version": "1.2.0",
      "model_name": "LayoutModel",
      "state": {}
     },
     "70c00a1bfdac47bab63eb7884d8f47ba": {
      "model_module": "@jupyter-widgets/controls",
      "model_module_version": "1.5.0",
      "model_name": "ProgressStyleModel",
      "state": {
       "description_width": ""
      }
     },
     "745fc4e908784fe492b489c290b04246": {
      "model_module": "@jupyter-widgets/base",
      "model_module_version": "1.2.0",
      "model_name": "LayoutModel",
      "state": {}
     },
     "7523194a671343439ee041b30daed4b8": {
      "model_module": "@jupyter-widgets/controls",
      "model_module_version": "1.5.0",
      "model_name": "IntProgressModel",
      "state": {
       "description": "Processing: ",
       "layout": "IPY_MODEL_53158dec7f594db998d1d3c997266e28",
       "max": 4,
       "style": "IPY_MODEL_45a586cfd60944c28a4a5cb8dfe23639",
       "value": 4
      }
     },
     "763db75e3ecf42a391036ae7cc84eedf": {
      "model_module": "@jupyter-widgets/controls",
      "model_module_version": "1.5.0",
      "model_name": "IntProgressModel",
      "state": {
       "description": "Processing: ",
       "layout": "IPY_MODEL_4b6faed7bfb248248bf88f723cafb57e",
       "max": 48,
       "style": "IPY_MODEL_d1fccbfe4ee44d3e966860acc4854a60",
       "value": 48
      }
     },
     "7a1376c322984f3dba0280748cca767c": {
      "model_module": "@jupyter-widgets/base",
      "model_module_version": "1.2.0",
      "model_name": "LayoutModel",
      "state": {}
     },
     "7b0513ed1df24cb6ac19ec71eebd739b": {
      "model_module": "@jupyter-widgets/base",
      "model_module_version": "1.2.0",
      "model_name": "LayoutModel",
      "state": {}
     },
     "7b0e6a4e2dfd48e390c41694374a5825": {
      "model_module": "@jupyter-widgets/controls",
      "model_module_version": "1.5.0",
      "model_name": "VBoxModel",
      "state": {
       "_dom_classes": [
        "widget-interact"
       ],
       "children": [
        "IPY_MODEL_b7ee6a23727d4f128a27c5424cfa14bd",
        "IPY_MODEL_23ed8d269a2b44afaef219e7a53bc0a6",
        "IPY_MODEL_ac0b46a532c142189c00dd3359f6d926",
        "IPY_MODEL_5be6d5098d9f467098ed1693d37e32b2"
       ],
       "layout": "IPY_MODEL_331b048b024f45e780b69e099540ecf6"
      }
     },
     "7b5a5643220a48888c4c3b6f73df3a63": {
      "model_module": "@jupyter-widgets/controls",
      "model_module_version": "1.5.0",
      "model_name": "IntProgressModel",
      "state": {
       "description": "Processing: ",
       "layout": "IPY_MODEL_7fb3d2a1a8404f7497fb26679cf4166d",
       "max": 870,
       "style": "IPY_MODEL_cf980fd03b41494883574b8be5f315d9",
       "value": 870
      }
     },
     "7f76dc59fe0f4871a34e98099e7bf624": {
      "model_module": "@jupyter-widgets/controls",
      "model_module_version": "1.5.0",
      "model_name": "ProgressStyleModel",
      "state": {
       "description_width": ""
      }
     },
     "7fb3d2a1a8404f7497fb26679cf4166d": {
      "model_module": "@jupyter-widgets/base",
      "model_module_version": "1.2.0",
      "model_name": "LayoutModel",
      "state": {}
     },
     "8003fd95dc824071acdbe35c3483e10b": {
      "model_module": "@jupyter-widgets/base",
      "model_module_version": "1.2.0",
      "model_name": "LayoutModel",
      "state": {}
     },
     "80183cf5fe844d7083166c3250f3fcaa": {
      "model_module": "@jupyter-widgets/base",
      "model_module_version": "1.2.0",
      "model_name": "LayoutModel",
      "state": {}
     },
     "801d09e6ba6a4c10b6e38212173591c2": {
      "model_module": "@jupyter-widgets/controls",
      "model_module_version": "1.5.0",
      "model_name": "IntProgressModel",
      "state": {
       "description": "Processing: ",
       "layout": "IPY_MODEL_b3b7e8dd4298442697da18f77b3df623",
       "max": 4,
       "style": "IPY_MODEL_ef3e23835aa14ee99e95326fc0ca375f",
       "value": 4
      }
     },
     "806b8881c83940ddbaa76483ffdc7f97": {
      "model_module": "@jupyter-widgets/controls",
      "model_module_version": "1.5.0",
      "model_name": "ToggleButtonsStyleModel",
      "state": {
       "button_width": "",
       "description_width": ""
      }
     },
     "84430717888d4c71a53354d53ab75469": {
      "model_module": "@jupyter-widgets/base",
      "model_module_version": "1.2.0",
      "model_name": "LayoutModel",
      "state": {}
     },
     "84fc731fdbef457a939c9ececba04239": {
      "model_module": "@jupyter-widgets/base",
      "model_module_version": "1.2.0",
      "model_name": "LayoutModel",
      "state": {}
     },
     "850b945cf1d84925b36b47b26dc721b1": {
      "model_module": "@jupyter-widgets/controls",
      "model_module_version": "1.5.0",
      "model_name": "IntProgressModel",
      "state": {
       "description": "Processing: ",
       "layout": "IPY_MODEL_1a44e97fbbe94591bf4aad7f63cc012a",
       "max": 870,
       "style": "IPY_MODEL_0f6c8ac6d1f846068fb9281665654538",
       "value": 870
      }
     },
     "8588d3da2aaf42249875a17f77c6efc7": {
      "model_module": "@jupyter-widgets/controls",
      "model_module_version": "1.5.0",
      "model_name": "ProgressStyleModel",
      "state": {
       "description_width": ""
      }
     },
     "86672c973c42441ebc1b07345926a549": {
      "model_module": "@jupyter-widgets/base",
      "model_module_version": "1.2.0",
      "model_name": "LayoutModel",
      "state": {}
     },
     "89b18157ae0c48089e0a9398fd4437f7": {
      "model_module": "@jupyter-widgets/controls",
      "model_module_version": "1.5.0",
      "model_name": "IntProgressModel",
      "state": {
       "description": "Processing: ",
       "layout": "IPY_MODEL_460c90df8cb44ac69590932b8b6e5074",
       "max": 48,
       "style": "IPY_MODEL_343289ca052f45dd9faadaefc9372136",
       "value": 48
      }
     },
     "8abccd2044f944c381d6a35591de0eac": {
      "model_module": "@jupyter-widgets/controls",
      "model_module_version": "1.5.0",
      "model_name": "VBoxModel",
      "state": {
       "_dom_classes": [
        "widget-interact"
       ],
       "children": [
        "IPY_MODEL_08aa6aa0ef6447a0bdc4244114ce3161",
        "IPY_MODEL_ea9cafbe17334322a6646de324d3464d",
        "IPY_MODEL_5971dcb9f6424a1cbf1c2014a1386b81",
        "IPY_MODEL_fbc08f74a0834df1ac913e55ca9f491b"
       ],
       "layout": "IPY_MODEL_2307265549e1422c90e209ab9fac75d9"
      }
     },
     "8b04a0dfd25a4ae8b9db2d90479cf22c": {
      "model_module": "@jupyter-widgets/base",
      "model_module_version": "1.2.0",
      "model_name": "LayoutModel",
      "state": {}
     },
     "8f1efb22dc584147b5cfa796e614d5e4": {
      "model_module": "@jupyter-widgets/controls",
      "model_module_version": "1.5.0",
      "model_name": "ProgressStyleModel",
      "state": {
       "description_width": ""
      }
     },
     "91384f83997a40989067f97b2a15c999": {
      "model_module": "@jupyter-widgets/controls",
      "model_module_version": "1.5.0",
      "model_name": "ProgressStyleModel",
      "state": {
       "description_width": ""
      }
     },
     "923076edcc1f4dd1ae098ee1879c5ad2": {
      "model_module": "@jupyter-widgets/controls",
      "model_module_version": "1.5.0",
      "model_name": "ProgressStyleModel",
      "state": {
       "description_width": ""
      }
     },
     "934bc2eb15ec404c9b98c481e126b7ac": {
      "model_module": "@jupyter-widgets/base",
      "model_module_version": "1.2.0",
      "model_name": "LayoutModel",
      "state": {}
     },
     "937c0719026c43d2b1b5d22fa0f42fb5": {
      "model_module": "@jupyter-widgets/output",
      "model_module_version": "1.0.0",
      "model_name": "OutputModel",
      "state": {
       "layout": "IPY_MODEL_e5f43c05ab66450d9111641e6985360b",
       "outputs": [
        {
         "data": {
          "text/html": "        <script type=\"text/javascript\">\n        window.PlotlyConfig = {MathJaxConfig: 'local'};\n        if (window.MathJax) {MathJax.Hub.Config({SVG: {font: \"STIX-Web\"}});}\n        if (typeof require !== 'undefined') {\n        require.undef(\"plotly\");\n        requirejs.config({\n            paths: {\n                'plotly': ['https://cdn.plot.ly/plotly-latest.min']\n            }\n        });\n        require(['plotly'], function(Plotly) {\n            window._Plotly = Plotly;\n        });\n        }\n        </script>\n        "
         },
         "metadata": {},
         "output_type": "display_data"
        },
        {
         "data": {
          "application/vnd.plotly.v1+json": {
           "config": {
            "linkText": "Export to plot.ly",
            "plotlyServerURL": "https://plot.ly",
            "showLink": true
           },
           "data": [
            {
             "marker": {
              "color": "rgba(255, 153, 51, 0.6)",
              "line": {
               "color": "rgba(255, 153, 51, 1.0)",
               "width": 1
              }
             },
             "name": "count",
             "orientation": "v",
             "text": "",
             "type": "bar",
             "x": [
              "include price",
              "breakfast breakfast",
              "pool look",
              "internet access",
              "price pay",
              "executive suite",
              "extra charge",
              "order breakfast",
              "breakfast selection",
              "business people",
              "general place",
              "full business",
              "impression cause",
              "however price",
              "honest lower",
              "hit shock",
              "expect many",
              "happen lobby",
              "fair location",
              "fill container",
              "go different",
              "fill plate",
              "finally fair",
              "find glass",
              "elevator breakfast",
              "friendly waiter",
              "glass complain",
              "euro mainly",
              "whole ambience",
              "eat bit",
              "due sale",
              "also offer",
              "ambience deadish",
              "apart staff",
              "average friendly",
              "bit pricey",
              "block elevator",
              "boring ago",
              "breakfast find",
              "breakfast less",
              "building block",
              "case extraordinary",
              "cause renovation",
              "complain much",
              "concierge parking",
              "container however",
              "convenient business",
              "dead boring",
              "deadish dead",
              "different building",
              "drink fill",
              "lobby notice",
              "less star",
              "want starve",
              "prime nicosianowaday",
              "promotion finally",
              "rate stay",
              "reception go",
              "relatively low",
              "renovation happen",
              "salad eat",
              "sale promotion",
              "shock sometimes",
              "sometimes pay",
              "special convenient",
              "special maybe",
              "staff polite",
              "star special",
              "star sure",
              "stay honest",
              "sure order",
              "think general",
              "value money",
              "visit overall",
              "waiter think",
              "pricey drink",
              "price hit",
              "polite whole",
              "much want",
              "location ideal",
              "low due",
              "lower expect",
              "mainly salad",
              "many star",
              "maybe impression",
              "money much",
              "much price",
              "much taste",
              "nicosianowaday special",
              "plate much",
              "notice concierge",
              "offer fill",
              "overall rate",
              "parking reception",
              "pay euro",
              "pay relatively",
              "people also",
              "people case",
              "place value",
              "ago prime"
             ],
             "y": [
              2,
              2,
              2,
              2,
              2,
              2,
              2,
              2,
              2,
              2,
              1,
              1,
              1,
              1,
              1,
              1,
              1,
              1,
              1,
              1,
              1,
              1,
              1,
              1,
              1,
              1,
              1,
              1,
              1,
              1,
              1,
              1,
              1,
              1,
              1,
              1,
              1,
              1,
              1,
              1,
              1,
              1,
              1,
              1,
              1,
              1,
              1,
              1,
              1,
              1,
              1,
              1,
              1,
              1,
              1,
              1,
              1,
              1,
              1,
              1,
              1,
              1,
              1,
              1,
              1,
              1,
              1,
              1,
              1,
              1,
              1,
              1,
              1,
              1,
              1,
              1,
              1,
              1,
              1,
              1,
              1,
              1,
              1,
              1,
              1,
              1,
              1,
              1,
              1,
              1,
              1,
              1,
              1,
              1,
              1,
              1,
              1,
              1,
              1,
              1
             ]
            }
           ],
           "layout": {
            "legend": {
             "bgcolor": "#F5F6F9",
             "font": {
              "color": "#4D5663"
             }
            },
            "paper_bgcolor": "#F5F6F9",
            "plot_bgcolor": "#F5F6F9",
            "template": {
             "data": {
              "bar": [
               {
                "error_x": {
                 "color": "#2a3f5f"
                },
                "error_y": {
                 "color": "#2a3f5f"
                },
                "marker": {
                 "line": {
                  "color": "#E5ECF6",
                  "width": 0.5
                 }
                },
                "type": "bar"
               }
              ],
              "barpolar": [
               {
                "marker": {
                 "line": {
                  "color": "#E5ECF6",
                  "width": 0.5
                 }
                },
                "type": "barpolar"
               }
              ],
              "carpet": [
               {
                "aaxis": {
                 "endlinecolor": "#2a3f5f",
                 "gridcolor": "white",
                 "linecolor": "white",
                 "minorgridcolor": "white",
                 "startlinecolor": "#2a3f5f"
                },
                "baxis": {
                 "endlinecolor": "#2a3f5f",
                 "gridcolor": "white",
                 "linecolor": "white",
                 "minorgridcolor": "white",
                 "startlinecolor": "#2a3f5f"
                },
                "type": "carpet"
               }
              ],
              "choropleth": [
               {
                "colorbar": {
                 "outlinewidth": 0,
                 "ticks": ""
                },
                "type": "choropleth"
               }
              ],
              "contour": [
               {
                "colorbar": {
                 "outlinewidth": 0,
                 "ticks": ""
                },
                "colorscale": [
                 [
                  0,
                  "#0d0887"
                 ],
                 [
                  0.1111111111111111,
                  "#46039f"
                 ],
                 [
                  0.2222222222222222,
                  "#7201a8"
                 ],
                 [
                  0.3333333333333333,
                  "#9c179e"
                 ],
                 [
                  0.4444444444444444,
                  "#bd3786"
                 ],
                 [
                  0.5555555555555556,
                  "#d8576b"
                 ],
                 [
                  0.6666666666666666,
                  "#ed7953"
                 ],
                 [
                  0.7777777777777778,
                  "#fb9f3a"
                 ],
                 [
                  0.8888888888888888,
                  "#fdca26"
                 ],
                 [
                  1,
                  "#f0f921"
                 ]
                ],
                "type": "contour"
               }
              ],
              "contourcarpet": [
               {
                "colorbar": {
                 "outlinewidth": 0,
                 "ticks": ""
                },
                "type": "contourcarpet"
               }
              ],
              "heatmap": [
               {
                "colorbar": {
                 "outlinewidth": 0,
                 "ticks": ""
                },
                "colorscale": [
                 [
                  0,
                  "#0d0887"
                 ],
                 [
                  0.1111111111111111,
                  "#46039f"
                 ],
                 [
                  0.2222222222222222,
                  "#7201a8"
                 ],
                 [
                  0.3333333333333333,
                  "#9c179e"
                 ],
                 [
                  0.4444444444444444,
                  "#bd3786"
                 ],
                 [
                  0.5555555555555556,
                  "#d8576b"
                 ],
                 [
                  0.6666666666666666,
                  "#ed7953"
                 ],
                 [
                  0.7777777777777778,
                  "#fb9f3a"
                 ],
                 [
                  0.8888888888888888,
                  "#fdca26"
                 ],
                 [
                  1,
                  "#f0f921"
                 ]
                ],
                "type": "heatmap"
               }
              ],
              "heatmapgl": [
               {
                "colorbar": {
                 "outlinewidth": 0,
                 "ticks": ""
                },
                "colorscale": [
                 [
                  0,
                  "#0d0887"
                 ],
                 [
                  0.1111111111111111,
                  "#46039f"
                 ],
                 [
                  0.2222222222222222,
                  "#7201a8"
                 ],
                 [
                  0.3333333333333333,
                  "#9c179e"
                 ],
                 [
                  0.4444444444444444,
                  "#bd3786"
                 ],
                 [
                  0.5555555555555556,
                  "#d8576b"
                 ],
                 [
                  0.6666666666666666,
                  "#ed7953"
                 ],
                 [
                  0.7777777777777778,
                  "#fb9f3a"
                 ],
                 [
                  0.8888888888888888,
                  "#fdca26"
                 ],
                 [
                  1,
                  "#f0f921"
                 ]
                ],
                "type": "heatmapgl"
               }
              ],
              "histogram": [
               {
                "marker": {
                 "colorbar": {
                  "outlinewidth": 0,
                  "ticks": ""
                 }
                },
                "type": "histogram"
               }
              ],
              "histogram2d": [
               {
                "colorbar": {
                 "outlinewidth": 0,
                 "ticks": ""
                },
                "colorscale": [
                 [
                  0,
                  "#0d0887"
                 ],
                 [
                  0.1111111111111111,
                  "#46039f"
                 ],
                 [
                  0.2222222222222222,
                  "#7201a8"
                 ],
                 [
                  0.3333333333333333,
                  "#9c179e"
                 ],
                 [
                  0.4444444444444444,
                  "#bd3786"
                 ],
                 [
                  0.5555555555555556,
                  "#d8576b"
                 ],
                 [
                  0.6666666666666666,
                  "#ed7953"
                 ],
                 [
                  0.7777777777777778,
                  "#fb9f3a"
                 ],
                 [
                  0.8888888888888888,
                  "#fdca26"
                 ],
                 [
                  1,
                  "#f0f921"
                 ]
                ],
                "type": "histogram2d"
               }
              ],
              "histogram2dcontour": [
               {
                "colorbar": {
                 "outlinewidth": 0,
                 "ticks": ""
                },
                "colorscale": [
                 [
                  0,
                  "#0d0887"
                 ],
                 [
                  0.1111111111111111,
                  "#46039f"
                 ],
                 [
                  0.2222222222222222,
                  "#7201a8"
                 ],
                 [
                  0.3333333333333333,
                  "#9c179e"
                 ],
                 [
                  0.4444444444444444,
                  "#bd3786"
                 ],
                 [
                  0.5555555555555556,
                  "#d8576b"
                 ],
                 [
                  0.6666666666666666,
                  "#ed7953"
                 ],
                 [
                  0.7777777777777778,
                  "#fb9f3a"
                 ],
                 [
                  0.8888888888888888,
                  "#fdca26"
                 ],
                 [
                  1,
                  "#f0f921"
                 ]
                ],
                "type": "histogram2dcontour"
               }
              ],
              "mesh3d": [
               {
                "colorbar": {
                 "outlinewidth": 0,
                 "ticks": ""
                },
                "type": "mesh3d"
               }
              ],
              "parcoords": [
               {
                "line": {
                 "colorbar": {
                  "outlinewidth": 0,
                  "ticks": ""
                 }
                },
                "type": "parcoords"
               }
              ],
              "pie": [
               {
                "automargin": true,
                "type": "pie"
               }
              ],
              "scatter": [
               {
                "marker": {
                 "colorbar": {
                  "outlinewidth": 0,
                  "ticks": ""
                 }
                },
                "type": "scatter"
               }
              ],
              "scatter3d": [
               {
                "line": {
                 "colorbar": {
                  "outlinewidth": 0,
                  "ticks": ""
                 }
                },
                "marker": {
                 "colorbar": {
                  "outlinewidth": 0,
                  "ticks": ""
                 }
                },
                "type": "scatter3d"
               }
              ],
              "scattercarpet": [
               {
                "marker": {
                 "colorbar": {
                  "outlinewidth": 0,
                  "ticks": ""
                 }
                },
                "type": "scattercarpet"
               }
              ],
              "scattergeo": [
               {
                "marker": {
                 "colorbar": {
                  "outlinewidth": 0,
                  "ticks": ""
                 }
                },
                "type": "scattergeo"
               }
              ],
              "scattergl": [
               {
                "marker": {
                 "colorbar": {
                  "outlinewidth": 0,
                  "ticks": ""
                 }
                },
                "type": "scattergl"
               }
              ],
              "scattermapbox": [
               {
                "marker": {
                 "colorbar": {
                  "outlinewidth": 0,
                  "ticks": ""
                 }
                },
                "type": "scattermapbox"
               }
              ],
              "scatterpolar": [
               {
                "marker": {
                 "colorbar": {
                  "outlinewidth": 0,
                  "ticks": ""
                 }
                },
                "type": "scatterpolar"
               }
              ],
              "scatterpolargl": [
               {
                "marker": {
                 "colorbar": {
                  "outlinewidth": 0,
                  "ticks": ""
                 }
                },
                "type": "scatterpolargl"
               }
              ],
              "scatterternary": [
               {
                "marker": {
                 "colorbar": {
                  "outlinewidth": 0,
                  "ticks": ""
                 }
                },
                "type": "scatterternary"
               }
              ],
              "surface": [
               {
                "colorbar": {
                 "outlinewidth": 0,
                 "ticks": ""
                },
                "colorscale": [
                 [
                  0,
                  "#0d0887"
                 ],
                 [
                  0.1111111111111111,
                  "#46039f"
                 ],
                 [
                  0.2222222222222222,
                  "#7201a8"
                 ],
                 [
                  0.3333333333333333,
                  "#9c179e"
                 ],
                 [
                  0.4444444444444444,
                  "#bd3786"
                 ],
                 [
                  0.5555555555555556,
                  "#d8576b"
                 ],
                 [
                  0.6666666666666666,
                  "#ed7953"
                 ],
                 [
                  0.7777777777777778,
                  "#fb9f3a"
                 ],
                 [
                  0.8888888888888888,
                  "#fdca26"
                 ],
                 [
                  1,
                  "#f0f921"
                 ]
                ],
                "type": "surface"
               }
              ],
              "table": [
               {
                "cells": {
                 "fill": {
                  "color": "#EBF0F8"
                 },
                 "line": {
                  "color": "white"
                 }
                },
                "header": {
                 "fill": {
                  "color": "#C8D4E3"
                 },
                 "line": {
                  "color": "white"
                 }
                },
                "type": "table"
               }
              ]
             },
             "layout": {
              "annotationdefaults": {
               "arrowcolor": "#2a3f5f",
               "arrowhead": 0,
               "arrowwidth": 1
              },
              "coloraxis": {
               "colorbar": {
                "outlinewidth": 0,
                "ticks": ""
               }
              },
              "colorscale": {
               "diverging": [
                [
                 0,
                 "#8e0152"
                ],
                [
                 0.1,
                 "#c51b7d"
                ],
                [
                 0.2,
                 "#de77ae"
                ],
                [
                 0.3,
                 "#f1b6da"
                ],
                [
                 0.4,
                 "#fde0ef"
                ],
                [
                 0.5,
                 "#f7f7f7"
                ],
                [
                 0.6,
                 "#e6f5d0"
                ],
                [
                 0.7,
                 "#b8e186"
                ],
                [
                 0.8,
                 "#7fbc41"
                ],
                [
                 0.9,
                 "#4d9221"
                ],
                [
                 1,
                 "#276419"
                ]
               ],
               "sequential": [
                [
                 0,
                 "#0d0887"
                ],
                [
                 0.1111111111111111,
                 "#46039f"
                ],
                [
                 0.2222222222222222,
                 "#7201a8"
                ],
                [
                 0.3333333333333333,
                 "#9c179e"
                ],
                [
                 0.4444444444444444,
                 "#bd3786"
                ],
                [
                 0.5555555555555556,
                 "#d8576b"
                ],
                [
                 0.6666666666666666,
                 "#ed7953"
                ],
                [
                 0.7777777777777778,
                 "#fb9f3a"
                ],
                [
                 0.8888888888888888,
                 "#fdca26"
                ],
                [
                 1,
                 "#f0f921"
                ]
               ],
               "sequentialminus": [
                [
                 0,
                 "#0d0887"
                ],
                [
                 0.1111111111111111,
                 "#46039f"
                ],
                [
                 0.2222222222222222,
                 "#7201a8"
                ],
                [
                 0.3333333333333333,
                 "#9c179e"
                ],
                [
                 0.4444444444444444,
                 "#bd3786"
                ],
                [
                 0.5555555555555556,
                 "#d8576b"
                ],
                [
                 0.6666666666666666,
                 "#ed7953"
                ],
                [
                 0.7777777777777778,
                 "#fb9f3a"
                ],
                [
                 0.8888888888888888,
                 "#fdca26"
                ],
                [
                 1,
                 "#f0f921"
                ]
               ]
              },
              "colorway": [
               "#636efa",
               "#EF553B",
               "#00cc96",
               "#ab63fa",
               "#FFA15A",
               "#19d3f3",
               "#FF6692",
               "#B6E880",
               "#FF97FF",
               "#FECB52"
              ],
              "font": {
               "color": "#2a3f5f"
              },
              "geo": {
               "bgcolor": "white",
               "lakecolor": "white",
               "landcolor": "#E5ECF6",
               "showlakes": true,
               "showland": true,
               "subunitcolor": "white"
              },
              "hoverlabel": {
               "align": "left"
              },
              "hovermode": "closest",
              "mapbox": {
               "style": "light"
              },
              "paper_bgcolor": "white",
              "plot_bgcolor": "#E5ECF6",
              "polar": {
               "angularaxis": {
                "gridcolor": "white",
                "linecolor": "white",
                "ticks": ""
               },
               "bgcolor": "#E5ECF6",
               "radialaxis": {
                "gridcolor": "white",
                "linecolor": "white",
                "ticks": ""
               }
              },
              "scene": {
               "xaxis": {
                "backgroundcolor": "#E5ECF6",
                "gridcolor": "white",
                "gridwidth": 2,
                "linecolor": "white",
                "showbackground": true,
                "ticks": "",
                "zerolinecolor": "white"
               },
               "yaxis": {
                "backgroundcolor": "#E5ECF6",
                "gridcolor": "white",
                "gridwidth": 2,
                "linecolor": "white",
                "showbackground": true,
                "ticks": "",
                "zerolinecolor": "white"
               },
               "zaxis": {
                "backgroundcolor": "#E5ECF6",
                "gridcolor": "white",
                "gridwidth": 2,
                "linecolor": "white",
                "showbackground": true,
                "ticks": "",
                "zerolinecolor": "white"
               }
              },
              "shapedefaults": {
               "line": {
                "color": "#2a3f5f"
               }
              },
              "ternary": {
               "aaxis": {
                "gridcolor": "white",
                "linecolor": "white",
                "ticks": ""
               },
               "baxis": {
                "gridcolor": "white",
                "linecolor": "white",
                "ticks": ""
               },
               "bgcolor": "#E5ECF6",
               "caxis": {
                "gridcolor": "white",
                "linecolor": "white",
                "ticks": ""
               }
              },
              "title": {
               "x": 0.05
              },
              "xaxis": {
               "automargin": true,
               "gridcolor": "white",
               "linecolor": "white",
               "ticks": "",
               "title": {
                "standoff": 15
               },
               "zerolinecolor": "white",
               "zerolinewidth": 2
              },
              "yaxis": {
               "automargin": true,
               "gridcolor": "white",
               "linecolor": "white",
               "ticks": "",
               "title": {
                "standoff": 15
               },
               "zerolinecolor": "white",
               "zerolinewidth": 2
              }
             }
            },
            "title": {
             "font": {
              "color": "#4D5663"
             },
             "text": "Topic 2: Top 100 bigrams after removing stop words"
            },
            "xaxis": {
             "gridcolor": "#E1E5ED",
             "linecolor": "black",
             "showgrid": true,
             "tickfont": {
              "color": "#4D5663"
             },
             "title": {
              "font": {
               "color": "#4D5663"
              },
              "text": ""
             },
             "zerolinecolor": "#E1E5ED"
            },
            "yaxis": {
             "gridcolor": "#E1E5ED",
             "linecolor": "black",
             "showgrid": true,
             "tickfont": {
              "color": "#4D5663"
             },
             "title": {
              "font": {
               "color": "#4D5663"
              },
              "text": "Count"
             },
             "zerolinecolor": "#E1E5ED"
            }
           }
          },
          "text/html": "<div>\n        \n        \n            <div id=\"329d6fa4-ba02-4ddf-9e32-2f808a27a483\" class=\"plotly-graph-div\" style=\"height:525px; width:100%;\"></div>\n            <script type=\"text/javascript\">\n                require([\"plotly\"], function(Plotly) {\n                    window.PLOTLYENV=window.PLOTLYENV || {};\n                    window.PLOTLYENV.BASE_URL='https://plot.ly';\n                    \n                if (document.getElementById(\"329d6fa4-ba02-4ddf-9e32-2f808a27a483\")) {\n                    Plotly.newPlot(\n                        '329d6fa4-ba02-4ddf-9e32-2f808a27a483',\n                        [{\"marker\": {\"color\": \"rgba(255, 153, 51, 0.6)\", \"line\": {\"color\": \"rgba(255, 153, 51, 1.0)\", \"width\": 1}}, \"name\": \"count\", \"orientation\": \"v\", \"text\": \"\", \"type\": \"bar\", \"x\": [\"include price\", \"breakfast breakfast\", \"pool look\", \"internet access\", \"price pay\", \"executive suite\", \"extra charge\", \"order breakfast\", \"breakfast selection\", \"business people\", \"general place\", \"full business\", \"impression cause\", \"however price\", \"honest lower\", \"hit shock\", \"expect many\", \"happen lobby\", \"fair location\", \"fill container\", \"go different\", \"fill plate\", \"finally fair\", \"find glass\", \"elevator breakfast\", \"friendly waiter\", \"glass complain\", \"euro mainly\", \"whole ambience\", \"eat bit\", \"due sale\", \"also offer\", \"ambience deadish\", \"apart staff\", \"average friendly\", \"bit pricey\", \"block elevator\", \"boring ago\", \"breakfast find\", \"breakfast less\", \"building block\", \"case extraordinary\", \"cause renovation\", \"complain much\", \"concierge parking\", \"container however\", \"convenient business\", \"dead boring\", \"deadish dead\", \"different building\", \"drink fill\", \"lobby notice\", \"less star\", \"want starve\", \"prime nicosianowaday\", \"promotion finally\", \"rate stay\", \"reception go\", \"relatively low\", \"renovation happen\", \"salad eat\", \"sale promotion\", \"shock sometimes\", \"sometimes pay\", \"special convenient\", \"special maybe\", \"staff polite\", \"star special\", \"star sure\", \"stay honest\", \"sure order\", \"think general\", \"value money\", \"visit overall\", \"waiter think\", \"pricey drink\", \"price hit\", \"polite whole\", \"much want\", \"location ideal\", \"low due\", \"lower expect\", \"mainly salad\", \"many star\", \"maybe impression\", \"money much\", \"much price\", \"much taste\", \"nicosianowaday special\", \"plate much\", \"notice concierge\", \"offer fill\", \"overall rate\", \"parking reception\", \"pay euro\", \"pay relatively\", \"people also\", \"people case\", \"place value\", \"ago prime\"], \"y\": [2, 2, 2, 2, 2, 2, 2, 2, 2, 2, 1, 1, 1, 1, 1, 1, 1, 1, 1, 1, 1, 1, 1, 1, 1, 1, 1, 1, 1, 1, 1, 1, 1, 1, 1, 1, 1, 1, 1, 1, 1, 1, 1, 1, 1, 1, 1, 1, 1, 1, 1, 1, 1, 1, 1, 1, 1, 1, 1, 1, 1, 1, 1, 1, 1, 1, 1, 1, 1, 1, 1, 1, 1, 1, 1, 1, 1, 1, 1, 1, 1, 1, 1, 1, 1, 1, 1, 1, 1, 1, 1, 1, 1, 1, 1, 1, 1, 1, 1, 1]}],\n                        {\"legend\": {\"bgcolor\": \"#F5F6F9\", \"font\": {\"color\": \"#4D5663\"}}, \"paper_bgcolor\": \"#F5F6F9\", \"plot_bgcolor\": \"#F5F6F9\", \"template\": {\"data\": {\"bar\": [{\"error_x\": {\"color\": \"#2a3f5f\"}, \"error_y\": {\"color\": \"#2a3f5f\"}, \"marker\": {\"line\": {\"color\": \"#E5ECF6\", \"width\": 0.5}}, \"type\": \"bar\"}], \"barpolar\": [{\"marker\": {\"line\": {\"color\": \"#E5ECF6\", \"width\": 0.5}}, \"type\": \"barpolar\"}], \"carpet\": [{\"aaxis\": {\"endlinecolor\": \"#2a3f5f\", \"gridcolor\": \"white\", \"linecolor\": \"white\", \"minorgridcolor\": \"white\", \"startlinecolor\": \"#2a3f5f\"}, \"baxis\": {\"endlinecolor\": \"#2a3f5f\", \"gridcolor\": \"white\", \"linecolor\": \"white\", \"minorgridcolor\": \"white\", \"startlinecolor\": \"#2a3f5f\"}, \"type\": \"carpet\"}], \"choropleth\": [{\"colorbar\": {\"outlinewidth\": 0, \"ticks\": \"\"}, \"type\": \"choropleth\"}], \"contour\": [{\"colorbar\": {\"outlinewidth\": 0, \"ticks\": \"\"}, \"colorscale\": [[0.0, \"#0d0887\"], [0.1111111111111111, \"#46039f\"], [0.2222222222222222, \"#7201a8\"], [0.3333333333333333, \"#9c179e\"], [0.4444444444444444, \"#bd3786\"], [0.5555555555555556, \"#d8576b\"], [0.6666666666666666, \"#ed7953\"], [0.7777777777777778, \"#fb9f3a\"], [0.8888888888888888, \"#fdca26\"], [1.0, \"#f0f921\"]], \"type\": \"contour\"}], \"contourcarpet\": [{\"colorbar\": {\"outlinewidth\": 0, \"ticks\": \"\"}, \"type\": \"contourcarpet\"}], \"heatmap\": [{\"colorbar\": {\"outlinewidth\": 0, \"ticks\": \"\"}, \"colorscale\": [[0.0, \"#0d0887\"], [0.1111111111111111, \"#46039f\"], [0.2222222222222222, \"#7201a8\"], [0.3333333333333333, \"#9c179e\"], [0.4444444444444444, \"#bd3786\"], [0.5555555555555556, \"#d8576b\"], [0.6666666666666666, \"#ed7953\"], [0.7777777777777778, \"#fb9f3a\"], [0.8888888888888888, \"#fdca26\"], [1.0, \"#f0f921\"]], \"type\": \"heatmap\"}], \"heatmapgl\": [{\"colorbar\": {\"outlinewidth\": 0, \"ticks\": \"\"}, \"colorscale\": [[0.0, \"#0d0887\"], [0.1111111111111111, \"#46039f\"], [0.2222222222222222, \"#7201a8\"], [0.3333333333333333, \"#9c179e\"], [0.4444444444444444, \"#bd3786\"], [0.5555555555555556, \"#d8576b\"], [0.6666666666666666, \"#ed7953\"], [0.7777777777777778, \"#fb9f3a\"], [0.8888888888888888, \"#fdca26\"], [1.0, \"#f0f921\"]], \"type\": \"heatmapgl\"}], \"histogram\": [{\"marker\": {\"colorbar\": {\"outlinewidth\": 0, \"ticks\": \"\"}}, \"type\": \"histogram\"}], \"histogram2d\": [{\"colorbar\": {\"outlinewidth\": 0, \"ticks\": \"\"}, \"colorscale\": [[0.0, \"#0d0887\"], [0.1111111111111111, \"#46039f\"], [0.2222222222222222, \"#7201a8\"], [0.3333333333333333, \"#9c179e\"], [0.4444444444444444, \"#bd3786\"], [0.5555555555555556, \"#d8576b\"], [0.6666666666666666, \"#ed7953\"], [0.7777777777777778, \"#fb9f3a\"], [0.8888888888888888, \"#fdca26\"], [1.0, \"#f0f921\"]], \"type\": \"histogram2d\"}], \"histogram2dcontour\": [{\"colorbar\": {\"outlinewidth\": 0, \"ticks\": \"\"}, \"colorscale\": [[0.0, \"#0d0887\"], [0.1111111111111111, \"#46039f\"], [0.2222222222222222, \"#7201a8\"], [0.3333333333333333, \"#9c179e\"], [0.4444444444444444, \"#bd3786\"], [0.5555555555555556, \"#d8576b\"], [0.6666666666666666, \"#ed7953\"], [0.7777777777777778, \"#fb9f3a\"], [0.8888888888888888, \"#fdca26\"], [1.0, \"#f0f921\"]], \"type\": \"histogram2dcontour\"}], \"mesh3d\": [{\"colorbar\": {\"outlinewidth\": 0, \"ticks\": \"\"}, \"type\": \"mesh3d\"}], \"parcoords\": [{\"line\": {\"colorbar\": {\"outlinewidth\": 0, \"ticks\": \"\"}}, \"type\": \"parcoords\"}], \"pie\": [{\"automargin\": true, \"type\": \"pie\"}], \"scatter\": [{\"marker\": {\"colorbar\": {\"outlinewidth\": 0, \"ticks\": \"\"}}, \"type\": \"scatter\"}], \"scatter3d\": [{\"line\": {\"colorbar\": {\"outlinewidth\": 0, \"ticks\": \"\"}}, \"marker\": {\"colorbar\": {\"outlinewidth\": 0, \"ticks\": \"\"}}, \"type\": \"scatter3d\"}], \"scattercarpet\": [{\"marker\": {\"colorbar\": {\"outlinewidth\": 0, \"ticks\": \"\"}}, \"type\": \"scattercarpet\"}], \"scattergeo\": [{\"marker\": {\"colorbar\": {\"outlinewidth\": 0, \"ticks\": \"\"}}, \"type\": \"scattergeo\"}], \"scattergl\": [{\"marker\": {\"colorbar\": {\"outlinewidth\": 0, \"ticks\": \"\"}}, \"type\": \"scattergl\"}], \"scattermapbox\": [{\"marker\": {\"colorbar\": {\"outlinewidth\": 0, \"ticks\": \"\"}}, \"type\": \"scattermapbox\"}], \"scatterpolar\": [{\"marker\": {\"colorbar\": {\"outlinewidth\": 0, \"ticks\": \"\"}}, \"type\": \"scatterpolar\"}], \"scatterpolargl\": [{\"marker\": {\"colorbar\": {\"outlinewidth\": 0, \"ticks\": \"\"}}, \"type\": \"scatterpolargl\"}], \"scatterternary\": [{\"marker\": {\"colorbar\": {\"outlinewidth\": 0, \"ticks\": \"\"}}, \"type\": \"scatterternary\"}], \"surface\": [{\"colorbar\": {\"outlinewidth\": 0, \"ticks\": \"\"}, \"colorscale\": [[0.0, \"#0d0887\"], [0.1111111111111111, \"#46039f\"], [0.2222222222222222, \"#7201a8\"], [0.3333333333333333, \"#9c179e\"], [0.4444444444444444, \"#bd3786\"], [0.5555555555555556, \"#d8576b\"], [0.6666666666666666, \"#ed7953\"], [0.7777777777777778, \"#fb9f3a\"], [0.8888888888888888, \"#fdca26\"], [1.0, \"#f0f921\"]], \"type\": \"surface\"}], \"table\": [{\"cells\": {\"fill\": {\"color\": \"#EBF0F8\"}, \"line\": {\"color\": \"white\"}}, \"header\": {\"fill\": {\"color\": \"#C8D4E3\"}, \"line\": {\"color\": \"white\"}}, \"type\": \"table\"}]}, \"layout\": {\"annotationdefaults\": {\"arrowcolor\": \"#2a3f5f\", \"arrowhead\": 0, \"arrowwidth\": 1}, \"coloraxis\": {\"colorbar\": {\"outlinewidth\": 0, \"ticks\": \"\"}}, \"colorscale\": {\"diverging\": [[0, \"#8e0152\"], [0.1, \"#c51b7d\"], [0.2, \"#de77ae\"], [0.3, \"#f1b6da\"], [0.4, \"#fde0ef\"], [0.5, \"#f7f7f7\"], [0.6, \"#e6f5d0\"], [0.7, \"#b8e186\"], [0.8, \"#7fbc41\"], [0.9, \"#4d9221\"], [1, \"#276419\"]], \"sequential\": [[0.0, \"#0d0887\"], [0.1111111111111111, \"#46039f\"], [0.2222222222222222, \"#7201a8\"], [0.3333333333333333, \"#9c179e\"], [0.4444444444444444, \"#bd3786\"], [0.5555555555555556, \"#d8576b\"], [0.6666666666666666, \"#ed7953\"], [0.7777777777777778, \"#fb9f3a\"], [0.8888888888888888, \"#fdca26\"], [1.0, \"#f0f921\"]], \"sequentialminus\": [[0.0, \"#0d0887\"], [0.1111111111111111, \"#46039f\"], [0.2222222222222222, \"#7201a8\"], [0.3333333333333333, \"#9c179e\"], [0.4444444444444444, \"#bd3786\"], [0.5555555555555556, \"#d8576b\"], [0.6666666666666666, \"#ed7953\"], [0.7777777777777778, \"#fb9f3a\"], [0.8888888888888888, \"#fdca26\"], [1.0, \"#f0f921\"]]}, \"colorway\": [\"#636efa\", \"#EF553B\", \"#00cc96\", \"#ab63fa\", \"#FFA15A\", \"#19d3f3\", \"#FF6692\", \"#B6E880\", \"#FF97FF\", \"#FECB52\"], \"font\": {\"color\": \"#2a3f5f\"}, \"geo\": {\"bgcolor\": \"white\", \"lakecolor\": \"white\", \"landcolor\": \"#E5ECF6\", \"showlakes\": true, \"showland\": true, \"subunitcolor\": \"white\"}, \"hoverlabel\": {\"align\": \"left\"}, \"hovermode\": \"closest\", \"mapbox\": {\"style\": \"light\"}, \"paper_bgcolor\": \"white\", \"plot_bgcolor\": \"#E5ECF6\", \"polar\": {\"angularaxis\": {\"gridcolor\": \"white\", \"linecolor\": \"white\", \"ticks\": \"\"}, \"bgcolor\": \"#E5ECF6\", \"radialaxis\": {\"gridcolor\": \"white\", \"linecolor\": \"white\", \"ticks\": \"\"}}, \"scene\": {\"xaxis\": {\"backgroundcolor\": \"#E5ECF6\", \"gridcolor\": \"white\", \"gridwidth\": 2, \"linecolor\": \"white\", \"showbackground\": true, \"ticks\": \"\", \"zerolinecolor\": \"white\"}, \"yaxis\": {\"backgroundcolor\": \"#E5ECF6\", \"gridcolor\": \"white\", \"gridwidth\": 2, \"linecolor\": \"white\", \"showbackground\": true, \"ticks\": \"\", \"zerolinecolor\": \"white\"}, \"zaxis\": {\"backgroundcolor\": \"#E5ECF6\", \"gridcolor\": \"white\", \"gridwidth\": 2, \"linecolor\": \"white\", \"showbackground\": true, \"ticks\": \"\", \"zerolinecolor\": \"white\"}}, \"shapedefaults\": {\"line\": {\"color\": \"#2a3f5f\"}}, \"ternary\": {\"aaxis\": {\"gridcolor\": \"white\", \"linecolor\": \"white\", \"ticks\": \"\"}, \"baxis\": {\"gridcolor\": \"white\", \"linecolor\": \"white\", \"ticks\": \"\"}, \"bgcolor\": \"#E5ECF6\", \"caxis\": {\"gridcolor\": \"white\", \"linecolor\": \"white\", \"ticks\": \"\"}}, \"title\": {\"x\": 0.05}, \"xaxis\": {\"automargin\": true, \"gridcolor\": \"white\", \"linecolor\": \"white\", \"ticks\": \"\", \"title\": {\"standoff\": 15}, \"zerolinecolor\": \"white\", \"zerolinewidth\": 2}, \"yaxis\": {\"automargin\": true, \"gridcolor\": \"white\", \"linecolor\": \"white\", \"ticks\": \"\", \"title\": {\"standoff\": 15}, \"zerolinecolor\": \"white\", \"zerolinewidth\": 2}}}, \"title\": {\"font\": {\"color\": \"#4D5663\"}, \"text\": \"Topic 2: Top 100 bigrams after removing stop words\"}, \"xaxis\": {\"gridcolor\": \"#E1E5ED\", \"linecolor\": \"black\", \"showgrid\": true, \"tickfont\": {\"color\": \"#4D5663\"}, \"title\": {\"font\": {\"color\": \"#4D5663\"}, \"text\": \"\"}, \"zerolinecolor\": \"#E1E5ED\"}, \"yaxis\": {\"gridcolor\": \"#E1E5ED\", \"linecolor\": \"black\", \"showgrid\": true, \"tickfont\": {\"color\": \"#4D5663\"}, \"title\": {\"font\": {\"color\": \"#4D5663\"}, \"text\": \"Count\"}, \"zerolinecolor\": \"#E1E5ED\"}},\n                        {\"showLink\": true, \"linkText\": \"Export to plot.ly\", \"plotlyServerURL\": \"https://plot.ly\", \"responsive\": true}\n                    ).then(function(){\n                            \nvar gd = document.getElementById('329d6fa4-ba02-4ddf-9e32-2f808a27a483');\nvar x = new MutationObserver(function (mutations, observer) {{\n        var display = window.getComputedStyle(gd).display;\n        if (!display || display === 'none') {{\n            console.log([gd, 'removed!']);\n            Plotly.purge(gd);\n            observer.disconnect();\n        }}\n}});\n\n// Listen for the removal of the full notebook cells\nvar notebookContainer = gd.closest('#notebook-container');\nif (notebookContainer) {{\n    x.observe(notebookContainer, {childList: true});\n}}\n\n// Listen for the clearing of the current output cell\nvar outputEl = gd.closest('.output');\nif (outputEl) {{\n    x.observe(outputEl, {childList: true});\n}}\n\n                        })\n                };\n                });\n            </script>\n        </div>"
         },
         "metadata": {},
         "output_type": "display_data"
        }
       ]
      }
     },
     "93acdd56af924feda1fa9548e71bb783": {
      "model_module": "@jupyter-widgets/base",
      "model_module_version": "1.2.0",
      "model_name": "LayoutModel",
      "state": {}
     },
     "93d58084ac804cbe93762e3d49f909b6": {
      "model_module": "@jupyter-widgets/controls",
      "model_module_version": "1.5.0",
      "model_name": "IntProgressModel",
      "state": {
       "description": "Processing: ",
       "layout": "IPY_MODEL_379ae64d79ba4e5eb105aff54a88ccd5",
       "max": 4,
       "style": "IPY_MODEL_91384f83997a40989067f97b2a15c999",
       "value": 4
      }
     },
     "95ef5bf7c10d49e3abc6007441890ba5": {
      "model_module": "@jupyter-widgets/controls",
      "model_module_version": "1.5.0",
      "model_name": "IntProgressModel",
      "state": {
       "description": "Processing: ",
       "layout": "IPY_MODEL_aa6d72bec06047ed9817f7e9edb5ddea",
       "max": 870,
       "style": "IPY_MODEL_c40dc93f165442c495c677db4987a53b",
       "value": 870
      }
     },
     "95f3e31f5349418db0ea0938aa4c8222": {
      "model_module": "@jupyter-widgets/controls",
      "model_module_version": "1.5.0",
      "model_name": "ProgressStyleModel",
      "state": {
       "description_width": ""
      }
     },
     "96f8fd9dded14f198991a160b4ce8f0e": {
      "model_module": "@jupyter-widgets/base",
      "model_module_version": "1.2.0",
      "model_name": "LayoutModel",
      "state": {}
     },
     "97e9ddff3e324cafbe45798124f3620f": {
      "model_module": "@jupyter-widgets/controls",
      "model_module_version": "1.5.0",
      "model_name": "ProgressStyleModel",
      "state": {
       "description_width": ""
      }
     },
     "98ec7b2109b443cd830023b2284e5337": {
      "model_module": "@jupyter-widgets/controls",
      "model_module_version": "1.5.0",
      "model_name": "DescriptionStyleModel",
      "state": {
       "description_width": ""
      }
     },
     "9a4c8b08486a40eeaa9253f434a0601e": {
      "model_module": "@jupyter-widgets/controls",
      "model_module_version": "1.5.0",
      "model_name": "IntProgressModel",
      "state": {
       "description": "Processing: ",
       "layout": "IPY_MODEL_be2c764e2e784646825313c7e654e5ba",
       "max": 48,
       "style": "IPY_MODEL_70c00a1bfdac47bab63eb7884d8f47ba",
       "value": 48
      }
     },
     "9aabb3b829874b058fd783f5e9b3d23c": {
      "model_module": "@jupyter-widgets/controls",
      "model_module_version": "1.5.0",
      "model_name": "IntProgressModel",
      "state": {
       "description": "Processing: ",
       "layout": "IPY_MODEL_0b344abf71a24150aa935a7f913cbea4",
       "max": 48,
       "style": "IPY_MODEL_7f76dc59fe0f4871a34e98099e7bf624",
       "value": 48
      }
     },
     "9b64f8fc10254320baddc9ed31f2b5f6": {
      "model_module": "@jupyter-widgets/controls",
      "model_module_version": "1.5.0",
      "model_name": "IntProgressModel",
      "state": {
       "description": "Processing: ",
       "layout": "IPY_MODEL_1c9056f33a1a44b480d6146ec57c5394",
       "max": 4,
       "style": "IPY_MODEL_b9a0c6615ef04ac495bb438fa8117d0c",
       "value": 4
      }
     },
     "9c4378f7d73c44c79a71e9357098d2d3": {
      "model_module": "@jupyter-widgets/controls",
      "model_module_version": "1.5.0",
      "model_name": "ProgressStyleModel",
      "state": {
       "description_width": ""
      }
     },
     "9c60033ee0d74e949a5e8bbb2ad1aca6": {
      "model_module": "@jupyter-widgets/controls",
      "model_module_version": "1.5.0",
      "model_name": "ProgressStyleModel",
      "state": {
       "description_width": ""
      }
     },
     "9dc261eb9a4e494586ff942cfe9e6f98": {
      "model_module": "@jupyter-widgets/controls",
      "model_module_version": "1.5.0",
      "model_name": "VBoxModel",
      "state": {
       "_dom_classes": [
        "widget-interact"
       ],
       "children": [
        "IPY_MODEL_dda1594c70a342a5b6b0748ea00dd659",
        "IPY_MODEL_69bb7f060370468ab969885a393bc713",
        "IPY_MODEL_0ca41fee96084ec6b860c2c557524953",
        "IPY_MODEL_ef7bc8a5ff5a4641b8b745d7b49cb773"
       ],
       "layout": "IPY_MODEL_58831f023c5b497e919aff6f4eb8a4a5"
      }
     },
     "9e372dc8d8dd4332b410424cc92f84c5": {
      "model_module": "@jupyter-widgets/controls",
      "model_module_version": "1.5.0",
      "model_name": "ProgressStyleModel",
      "state": {
       "description_width": ""
      }
     },
     "9e6d802bfa104586a25109d50ceff98d": {
      "model_module": "@jupyter-widgets/controls",
      "model_module_version": "1.5.0",
      "model_name": "ProgressStyleModel",
      "state": {
       "description_width": ""
      }
     },
     "9ef43e6e7e114d4784803f678f08a6c2": {
      "model_module": "@jupyter-widgets/controls",
      "model_module_version": "1.5.0",
      "model_name": "IntProgressModel",
      "state": {
       "description": "Processing: ",
       "layout": "IPY_MODEL_93acdd56af924feda1fa9548e71bb783",
       "max": 4,
       "style": "IPY_MODEL_fdc6a6ef75b44c73a1349f2dd0d7348a",
       "value": 4
      }
     },
     "9f25d12341b64552868de4dabd7bb506": {
      "model_module": "@jupyter-widgets/base",
      "model_module_version": "1.2.0",
      "model_name": "LayoutModel",
      "state": {}
     },
     "9f4d9978372844b092eb142c012eb461": {
      "model_module": "@jupyter-widgets/base",
      "model_module_version": "1.2.0",
      "model_name": "LayoutModel",
      "state": {}
     },
     "9faa55c9b02641e6abb0471247a2af53": {
      "model_module": "@jupyter-widgets/controls",
      "model_module_version": "1.5.0",
      "model_name": "ProgressStyleModel",
      "state": {
       "description_width": ""
      }
     },
     "a258c0286fa0415d818d3992c5c8338f": {
      "model_module": "@jupyter-widgets/controls",
      "model_module_version": "1.5.0",
      "model_name": "IntProgressModel",
      "state": {
       "description": "Processing: ",
       "layout": "IPY_MODEL_fae045083bb24cc5b7d9651f5abf55fd",
       "max": 4,
       "style": "IPY_MODEL_be2a7d4439384344931597cb08b5d5d5",
       "value": 4
      }
     },
     "a26c19ef5e91416490b0d2ef8b50537d": {
      "model_module": "@jupyter-widgets/output",
      "model_module_version": "1.0.0",
      "model_name": "OutputModel",
      "state": {
       "layout": "IPY_MODEL_4e3242bd35ff4ec681ee4cacddc4c182"
      }
     },
     "a3319ec54e0d41f382217ed7648b4abb": {
      "model_module": "@jupyter-widgets/controls",
      "model_module_version": "1.5.0",
      "model_name": "IntProgressModel",
      "state": {
       "description": "Processing: ",
       "layout": "IPY_MODEL_0db6eb636e3846ae9c7311a0242e7c96",
       "max": 48,
       "style": "IPY_MODEL_4e1fdee38f5c468196e169e6a5f7c101",
       "value": 48
      }
     },
     "a34fb008861f46e496add1a395f98c5c": {
      "model_module": "@jupyter-widgets/controls",
      "model_module_version": "1.5.0",
      "model_name": "ProgressStyleModel",
      "state": {
       "description_width": ""
      }
     },
     "a6d7d14e7d2743408312f61026036be1": {
      "model_module": "@jupyter-widgets/controls",
      "model_module_version": "1.5.0",
      "model_name": "ProgressStyleModel",
      "state": {
       "description_width": ""
      }
     },
     "a742a2a945db42c3a75be1bb9b816ab1": {
      "model_module": "@jupyter-widgets/controls",
      "model_module_version": "1.5.0",
      "model_name": "ToggleButtonsStyleModel",
      "state": {
       "button_width": "",
       "description_width": ""
      }
     },
     "a83a1065e8ea46f79cd22b93a05f9934": {
      "model_module": "@jupyter-widgets/base",
      "model_module_version": "1.2.0",
      "model_name": "LayoutModel",
      "state": {}
     },
     "a90a548c760246d6a187aeac60b8d716": {
      "model_module": "@jupyter-widgets/base",
      "model_module_version": "1.2.0",
      "model_name": "LayoutModel",
      "state": {}
     },
     "aa6d72bec06047ed9817f7e9edb5ddea": {
      "model_module": "@jupyter-widgets/base",
      "model_module_version": "1.2.0",
      "model_name": "LayoutModel",
      "state": {}
     },
     "abe072bd93824013b97f90ef499fb6da": {
      "model_module": "@jupyter-widgets/controls",
      "model_module_version": "1.5.0",
      "model_name": "ProgressStyleModel",
      "state": {
       "description_width": ""
      }
     },
     "ac0b46a532c142189c00dd3359f6d926": {
      "model_module": "@jupyter-widgets/controls",
      "model_module_version": "1.5.0",
      "model_name": "ButtonModel",
      "state": {
       "description": "Run Interact",
       "layout": "IPY_MODEL_0764c20174304f3e9df4de4a9740120c",
       "style": "IPY_MODEL_3f46aa5b765141ed92a825ac31204f31"
      }
     },
     "ac9e9ba97f7b4504aa27ec13c58d86d5": {
      "model_module": "@jupyter-widgets/base",
      "model_module_version": "1.2.0",
      "model_name": "LayoutModel",
      "state": {}
     },
     "ad38166a4bbc4532adc419c462abe613": {
      "model_module": "@jupyter-widgets/base",
      "model_module_version": "1.2.0",
      "model_name": "LayoutModel",
      "state": {}
     },
     "ad66ab41138c4307b80b59febd707236": {
      "model_module": "@jupyter-widgets/controls",
      "model_module_version": "1.5.0",
      "model_name": "ProgressStyleModel",
      "state": {
       "description_width": ""
      }
     },
     "ae2910a0461b4c3981e9225276dea5c2": {
      "model_module": "@jupyter-widgets/controls",
      "model_module_version": "1.5.0",
      "model_name": "ProgressStyleModel",
      "state": {
       "description_width": ""
      }
     },
     "b12f0fe4f8064a78850358a93c47c3df": {
      "model_module": "@jupyter-widgets/controls",
      "model_module_version": "1.5.0",
      "model_name": "IntProgressModel",
      "state": {
       "description": "Processing: ",
       "layout": "IPY_MODEL_e71a462d184d4220a6db5d431f1e30fe",
       "max": 870,
       "style": "IPY_MODEL_eed46932d7754328953be4b63dabc209",
       "value": 870
      }
     },
     "b3b7e8dd4298442697da18f77b3df623": {
      "model_module": "@jupyter-widgets/base",
      "model_module_version": "1.2.0",
      "model_name": "LayoutModel",
      "state": {}
     },
     "b40622a8926e4b758efc5c2d4eb5a023": {
      "model_module": "@jupyter-widgets/controls",
      "model_module_version": "1.5.0",
      "model_name": "IntProgressModel",
      "state": {
       "description": "Processing: ",
       "layout": "IPY_MODEL_fa9507c53bc945c38aa156d272a76a16",
       "max": 4,
       "style": "IPY_MODEL_ad66ab41138c4307b80b59febd707236",
       "value": 4
      }
     },
     "b4d0cd19d38e4b5ca3c1387a033125fa": {
      "model_module": "@jupyter-widgets/controls",
      "model_module_version": "1.5.0",
      "model_name": "IntProgressModel",
      "state": {
       "description": "Processing: ",
       "layout": "IPY_MODEL_745fc4e908784fe492b489c290b04246",
       "max": 870,
       "style": "IPY_MODEL_161d3ee7408a4de3b183655f24ccb534",
       "value": 870
      }
     },
     "b59b355d0c0f4ba884effbba76f430bf": {
      "model_module": "@jupyter-widgets/controls",
      "model_module_version": "1.5.0",
      "model_name": "IntProgressModel",
      "state": {
       "description": "Processing: ",
       "layout": "IPY_MODEL_09875ed6ea6648dfaf28dd3ba9e100dd",
       "max": 870,
       "style": "IPY_MODEL_bed8fc24103f4a2195eab281246524c9",
       "value": 870
      }
     },
     "b5f457b1a3de46378621c4dada36ceab": {
      "model_module": "@jupyter-widgets/base",
      "model_module_version": "1.2.0",
      "model_name": "LayoutModel",
      "state": {}
     },
     "b5f64572a64b4acd92ff3f379a591cbf": {
      "model_module": "@jupyter-widgets/base",
      "model_module_version": "1.2.0",
      "model_name": "LayoutModel",
      "state": {}
     },
     "b60e569c302f4aed9a592d920bb1d704": {
      "model_module": "@jupyter-widgets/controls",
      "model_module_version": "1.5.0",
      "model_name": "DropdownModel",
      "state": {
       "_options_labels": [
        "Topic 0",
        "Topic 1",
        "Topic 2",
        "Topic 3"
       ],
       "description": "Topic #:",
       "index": 2,
       "layout": "IPY_MODEL_8b04a0dfd25a4ae8b9db2d90479cf22c",
       "style": "IPY_MODEL_98ec7b2109b443cd830023b2284e5337"
      }
     },
     "b759bbd0fe404138801ea7e21a5a11f5": {
      "model_module": "@jupyter-widgets/controls",
      "model_module_version": "1.5.0",
      "model_name": "IntProgressModel",
      "state": {
       "description": "Processing: ",
       "layout": "IPY_MODEL_84430717888d4c71a53354d53ab75469",
       "max": 4,
       "style": "IPY_MODEL_1cd42b32b75a46dcaeea4756c5638425",
       "value": 4
      }
     },
     "b7ee6a23727d4f128a27c5424cfa14bd": {
      "model_module": "@jupyter-widgets/controls",
      "model_module_version": "1.5.0",
      "model_name": "ToggleButtonsModel",
      "state": {
       "_options_labels": [
        "Frequency Plot",
        "Bigrams",
        "Trigrams",
        "Sentiment Polarity",
        "Word Cloud"
       ],
       "button_style": "",
       "description": "Plot Type:",
       "icons": [
        ""
       ],
       "index": 1,
       "layout": "IPY_MODEL_8003fd95dc824071acdbe35c3483e10b",
       "style": "IPY_MODEL_806b8881c83940ddbaa76483ffdc7f97",
       "tooltips": []
      }
     },
     "b97fc926337941f882e40c70b1f6d86a": {
      "model_module": "@jupyter-widgets/base",
      "model_module_version": "1.2.0",
      "model_name": "LayoutModel",
      "state": {}
     },
     "b9a0c6615ef04ac495bb438fa8117d0c": {
      "model_module": "@jupyter-widgets/controls",
      "model_module_version": "1.5.0",
      "model_name": "ProgressStyleModel",
      "state": {
       "description_width": ""
      }
     },
     "ba2240e1c94a478cb4a761e40d0958b0": {
      "model_module": "@jupyter-widgets/controls",
      "model_module_version": "1.5.0",
      "model_name": "ProgressStyleModel",
      "state": {
       "description_width": ""
      }
     },
     "bc73140e8d064bf7b2f2e0ab84454788": {
      "model_module": "@jupyter-widgets/base",
      "model_module_version": "1.2.0",
      "model_name": "LayoutModel",
      "state": {}
     },
     "be2a7d4439384344931597cb08b5d5d5": {
      "model_module": "@jupyter-widgets/controls",
      "model_module_version": "1.5.0",
      "model_name": "ProgressStyleModel",
      "state": {
       "description_width": ""
      }
     },
     "be2c764e2e784646825313c7e654e5ba": {
      "model_module": "@jupyter-widgets/base",
      "model_module_version": "1.2.0",
      "model_name": "LayoutModel",
      "state": {}
     },
     "bed8fc24103f4a2195eab281246524c9": {
      "model_module": "@jupyter-widgets/controls",
      "model_module_version": "1.5.0",
      "model_name": "ProgressStyleModel",
      "state": {
       "description_width": ""
      }
     },
     "bf25e802d4f34cbd8a1157570c911d56": {
      "model_module": "@jupyter-widgets/controls",
      "model_module_version": "1.5.0",
      "model_name": "ProgressStyleModel",
      "state": {
       "description_width": ""
      }
     },
     "bfc1b4483bbd4920bb9befdaad7be39d": {
      "model_module": "@jupyter-widgets/controls",
      "model_module_version": "1.5.0",
      "model_name": "IntProgressModel",
      "state": {
       "description": "Processing: ",
       "layout": "IPY_MODEL_ad38166a4bbc4532adc419c462abe613",
       "max": 11,
       "style": "IPY_MODEL_8f1efb22dc584147b5cfa796e614d5e4",
       "value": 11
      }
     },
     "c0742be887a24fa080baf6d23b1ebe30": {
      "model_module": "@jupyter-widgets/base",
      "model_module_version": "1.2.0",
      "model_name": "LayoutModel",
      "state": {}
     },
     "c19dd1e299d540e6b565a1ce24abb292": {
      "model_module": "@jupyter-widgets/base",
      "model_module_version": "1.2.0",
      "model_name": "LayoutModel",
      "state": {}
     },
     "c2ef8b2e41dc4f2cbb808cb0ed3203b4": {
      "model_module": "@jupyter-widgets/controls",
      "model_module_version": "1.5.0",
      "model_name": "IntProgressModel",
      "state": {
       "description": "Processing: ",
       "layout": "IPY_MODEL_7a1376c322984f3dba0280748cca767c",
       "max": 48,
       "style": "IPY_MODEL_a6d7d14e7d2743408312f61026036be1",
       "value": 48
      }
     },
     "c36c5f6e93d24320b9c334cd7da8e437": {
      "model_module": "@jupyter-widgets/controls",
      "model_module_version": "1.5.0",
      "model_name": "ProgressStyleModel",
      "state": {
       "description_width": ""
      }
     },
     "c40dc93f165442c495c677db4987a53b": {
      "model_module": "@jupyter-widgets/controls",
      "model_module_version": "1.5.0",
      "model_name": "ProgressStyleModel",
      "state": {
       "description_width": ""
      }
     },
     "c45c5a4d34b4456884f58bb925af73f9": {
      "model_module": "@jupyter-widgets/base",
      "model_module_version": "1.2.0",
      "model_name": "LayoutModel",
      "state": {}
     },
     "c63cc2709e25419ba3e5761d63e6fb55": {
      "model_module": "@jupyter-widgets/output",
      "model_module_version": "1.0.0",
      "model_name": "OutputModel",
      "state": {
       "layout": "IPY_MODEL_3b43b69302be48c1b7fe3f6c01b6050e"
      }
     },
     "c79e454527a64401b237c45c4231ec24": {
      "model_module": "@jupyter-widgets/controls",
      "model_module_version": "1.5.0",
      "model_name": "IntProgressModel",
      "state": {
       "description": "Processing: ",
       "layout": "IPY_MODEL_84fc731fdbef457a939c9ececba04239",
       "max": 4,
       "style": "IPY_MODEL_95f3e31f5349418db0ea0938aa4c8222",
       "value": 4
      }
     },
     "c7d2734dbf3f49eeaf3de24042d97c77": {
      "model_module": "@jupyter-widgets/controls",
      "model_module_version": "1.5.0",
      "model_name": "ProgressStyleModel",
      "state": {
       "description_width": ""
      }
     },
     "c8eb4149d7a842dba0f40facbad1d89f": {
      "model_module": "@jupyter-widgets/base",
      "model_module_version": "1.2.0",
      "model_name": "LayoutModel",
      "state": {}
     },
     "c91c721a80904f2684bd850d3c26168c": {
      "model_module": "@jupyter-widgets/controls",
      "model_module_version": "1.5.0",
      "model_name": "IntProgressModel",
      "state": {
       "description": "Processing: ",
       "layout": "IPY_MODEL_d16466eaa6694e2a993022747b22abc0",
       "max": 4,
       "style": "IPY_MODEL_f998f6135090423c9f6adcabdd644be7",
       "value": 4
      }
     },
     "c94240c41acb4685a37cdf7f48cfe378": {
      "model_module": "@jupyter-widgets/controls",
      "model_module_version": "1.5.0",
      "model_name": "ProgressStyleModel",
      "state": {
       "description_width": ""
      }
     },
     "c9fa692b3c754ae18c158343025e9403": {
      "model_module": "@jupyter-widgets/controls",
      "model_module_version": "1.5.0",
      "model_name": "IntProgressModel",
      "state": {
       "description": "Processing: ",
       "layout": "IPY_MODEL_b5f457b1a3de46378621c4dada36ceab",
       "max": 4,
       "style": "IPY_MODEL_3acab8a540094d4098b78789d04c32ee",
       "value": 4
      }
     },
     "caa659819c434f14a218de71ea5e9920": {
      "model_module": "@jupyter-widgets/controls",
      "model_module_version": "1.5.0",
      "model_name": "ProgressStyleModel",
      "state": {
       "description_width": ""
      }
     },
     "cd45fc8852c0463bbedf71ef72c5aba5": {
      "model_module": "@jupyter-widgets/controls",
      "model_module_version": "1.5.0",
      "model_name": "IntProgressModel",
      "state": {
       "description": "Processing: ",
       "layout": "IPY_MODEL_86672c973c42441ebc1b07345926a549",
       "max": 4,
       "style": "IPY_MODEL_e87fb1343ae74d24a185c6b74a6ad89a",
       "value": 4
      }
     },
     "cdf17ecba82143e5a3e9de5fecc3a1ff": {
      "model_module": "@jupyter-widgets/controls",
      "model_module_version": "1.5.0",
      "model_name": "ProgressStyleModel",
      "state": {
       "description_width": ""
      }
     },
     "cdf2b8f2e6f14919aa8e23a8a3a02d2f": {
      "model_module": "@jupyter-widgets/controls",
      "model_module_version": "1.5.0",
      "model_name": "IntProgressModel",
      "state": {
       "description": "Processing: ",
       "layout": "IPY_MODEL_c0742be887a24fa080baf6d23b1ebe30",
       "max": 870,
       "style": "IPY_MODEL_9faa55c9b02641e6abb0471247a2af53",
       "value": 870
      }
     },
     "cf112e01e4634908840880db4337a1b6": {
      "model_module": "@jupyter-widgets/controls",
      "model_module_version": "1.5.0",
      "model_name": "IntProgressModel",
      "state": {
       "description": "Processing: ",
       "layout": "IPY_MODEL_35edcc52f9ab42fe9998f1f225424eaf",
       "max": 4,
       "style": "IPY_MODEL_1710c717bd8445f3a5810ec5bd6f44cb",
       "value": 4
      }
     },
     "cf980fd03b41494883574b8be5f315d9": {
      "model_module": "@jupyter-widgets/controls",
      "model_module_version": "1.5.0",
      "model_name": "ProgressStyleModel",
      "state": {
       "description_width": ""
      }
     },
     "cfd6c3e72cf74c52a810a8e192033337": {
      "model_module": "@jupyter-widgets/base",
      "model_module_version": "1.2.0",
      "model_name": "LayoutModel",
      "state": {}
     },
     "d03d1c65475a46e7b028e243ac822384": {
      "model_module": "@jupyter-widgets/controls",
      "model_module_version": "1.5.0",
      "model_name": "DescriptionStyleModel",
      "state": {
       "description_width": ""
      }
     },
     "d1261151d6a241c2be4de1ba33f52b2a": {
      "model_module": "@jupyter-widgets/base",
      "model_module_version": "1.2.0",
      "model_name": "LayoutModel",
      "state": {}
     },
     "d16466eaa6694e2a993022747b22abc0": {
      "model_module": "@jupyter-widgets/base",
      "model_module_version": "1.2.0",
      "model_name": "LayoutModel",
      "state": {}
     },
     "d1fccbfe4ee44d3e966860acc4854a60": {
      "model_module": "@jupyter-widgets/controls",
      "model_module_version": "1.5.0",
      "model_name": "ProgressStyleModel",
      "state": {
       "description_width": ""
      }
     },
     "d2aabbfda6494143b42c40dc46625599": {
      "model_module": "@jupyter-widgets/base",
      "model_module_version": "1.2.0",
      "model_name": "LayoutModel",
      "state": {}
     },
     "d4aa91fdb15c4bbeb5e9be34d4e36a75": {
      "model_module": "@jupyter-widgets/controls",
      "model_module_version": "1.5.0",
      "model_name": "IntProgressModel",
      "state": {
       "description": "Processing: ",
       "layout": "IPY_MODEL_cfd6c3e72cf74c52a810a8e192033337",
       "max": 48,
       "style": "IPY_MODEL_26f02ce620224ea8a80f62d026ec1419",
       "value": 48
      }
     },
     "d63697bfc5fe40f1946b1f0fafd0982a": {
      "model_module": "@jupyter-widgets/base",
      "model_module_version": "1.2.0",
      "model_name": "LayoutModel",
      "state": {}
     },
     "d82d000f5f9c42d18dfac2c0111a3417": {
      "model_module": "@jupyter-widgets/controls",
      "model_module_version": "1.5.0",
      "model_name": "IntProgressModel",
      "state": {
       "description": "Processing: ",
       "layout": "IPY_MODEL_14e074f71fd342fca47034ca4a825b51",
       "max": 870,
       "style": "IPY_MODEL_9e372dc8d8dd4332b410424cc92f84c5",
       "value": 870
      }
     },
     "d98f2d36d1b84e52b93b739c11af5bba": {
      "model_module": "@jupyter-widgets/controls",
      "model_module_version": "1.5.0",
      "model_name": "IntProgressModel",
      "state": {
       "description": "Processing: ",
       "layout": "IPY_MODEL_fe7cffdc36954cb688f49536930c7e11",
       "max": 870,
       "style": "IPY_MODEL_fdd91b2e5fb84437a70dd6b50c6c9eee",
       "value": 870
      }
     },
     "dda1594c70a342a5b6b0748ea00dd659": {
      "model_module": "@jupyter-widgets/controls",
      "model_module_version": "1.5.0",
      "model_name": "ToggleButtonsModel",
      "state": {
       "_options_labels": [
        "Frequency Plot",
        "Bigrams",
        "Trigrams",
        "Sentiment Polarity",
        "Word Cloud"
       ],
       "button_style": "",
       "description": "Plot Type:",
       "icons": [
        ""
       ],
       "index": 0,
       "layout": "IPY_MODEL_3a8cd6d206e444258351efc0bcae2d1d",
       "style": "IPY_MODEL_704ea141a5074eaa83f67d44f98d2c0b",
       "tooltips": []
      }
     },
     "de9e45298c6146c192cd25d0f087722b": {
      "model_module": "@jupyter-widgets/controls",
      "model_module_version": "1.5.0",
      "model_name": "ProgressStyleModel",
      "state": {
       "description_width": ""
      }
     },
     "df6710eb9bd64e1399f6eb85417e19bc": {
      "model_module": "@jupyter-widgets/base",
      "model_module_version": "1.2.0",
      "model_name": "LayoutModel",
      "state": {}
     },
     "e08b19f5eb244d1db0b11de26a4f32c2": {
      "model_module": "@jupyter-widgets/base",
      "model_module_version": "1.2.0",
      "model_name": "LayoutModel",
      "state": {}
     },
     "e3cae36ab6d443e6bf117d901b58f5d5": {
      "model_module": "@jupyter-widgets/base",
      "model_module_version": "1.2.0",
      "model_name": "LayoutModel",
      "state": {}
     },
     "e5f43c05ab66450d9111641e6985360b": {
      "model_module": "@jupyter-widgets/base",
      "model_module_version": "1.2.0",
      "model_name": "LayoutModel",
      "state": {}
     },
     "e6faccfc6fd544afa2637f5003bf7d9a": {
      "model_module": "@jupyter-widgets/controls",
      "model_module_version": "1.5.0",
      "model_name": "ProgressStyleModel",
      "state": {
       "description_width": ""
      }
     },
     "e71a462d184d4220a6db5d431f1e30fe": {
      "model_module": "@jupyter-widgets/base",
      "model_module_version": "1.2.0",
      "model_name": "LayoutModel",
      "state": {}
     },
     "e7f5ce9ac4454dd59223feb29de9f4f0": {
      "model_module": "@jupyter-widgets/controls",
      "model_module_version": "1.5.0",
      "model_name": "ProgressStyleModel",
      "state": {
       "description_width": ""
      }
     },
     "e804e8b8e49742c7b794eb645e9cfbb7": {
      "model_module": "@jupyter-widgets/controls",
      "model_module_version": "1.5.0",
      "model_name": "ButtonStyleModel",
      "state": {}
     },
     "e87fb1343ae74d24a185c6b74a6ad89a": {
      "model_module": "@jupyter-widgets/controls",
      "model_module_version": "1.5.0",
      "model_name": "ProgressStyleModel",
      "state": {
       "description_width": ""
      }
     },
     "ea9cafbe17334322a6646de324d3464d": {
      "model_module": "@jupyter-widgets/controls",
      "model_module_version": "1.5.0",
      "model_name": "DropdownModel",
      "state": {
       "_options_labels": [
        "Topic 0",
        "Topic 1",
        "Topic 2",
        "Topic 3",
        "Topic 4",
        "Topic 5",
        "Topic 6",
        "Topic 7",
        "Topic 8",
        "Topic 9"
       ],
       "description": "Topic #:",
       "index": 0,
       "layout": "IPY_MODEL_423bc887d5c74b828758d8bde8648171",
       "style": "IPY_MODEL_011d55cba1d2424b9b3535f3f6304d6a"
      }
     },
     "ebc411cffcd441f08ebce6e23bb4561b": {
      "model_module": "@jupyter-widgets/controls",
      "model_module_version": "1.5.0",
      "model_name": "ProgressStyleModel",
      "state": {
       "description_width": ""
      }
     },
     "ec0a7fed5165484799f14f346a99efff": {
      "model_module": "@jupyter-widgets/controls",
      "model_module_version": "1.5.0",
      "model_name": "IntProgressModel",
      "state": {
       "description": "Processing: ",
       "layout": "IPY_MODEL_ac9e9ba97f7b4504aa27ec13c58d86d5",
       "max": 870,
       "style": "IPY_MODEL_5f1dad62fcbe45caac6444f661f27d10",
       "value": 870
      }
     },
     "ec27026dd7434ab3a8fd3300a6f6c0df": {
      "model_module": "@jupyter-widgets/base",
      "model_module_version": "1.2.0",
      "model_name": "LayoutModel",
      "state": {}
     },
     "ec2ee32df4b34e6d91cb958ada69ae44": {
      "model_module": "@jupyter-widgets/base",
      "model_module_version": "1.2.0",
      "model_name": "LayoutModel",
      "state": {}
     },
     "ed35519ca52f4fd795e8c6cce2a7e233": {
      "model_module": "@jupyter-widgets/controls",
      "model_module_version": "1.5.0",
      "model_name": "ProgressStyleModel",
      "state": {
       "description_width": ""
      }
     },
     "ed6c19d2b9dd4d0cb71431f7aa30934c": {
      "model_module": "@jupyter-widgets/controls",
      "model_module_version": "1.5.0",
      "model_name": "ButtonStyleModel",
      "state": {}
     },
     "edee030403c44930b0c7622bb17ca79e": {
      "model_module": "@jupyter-widgets/controls",
      "model_module_version": "1.5.0",
      "model_name": "IntProgressModel",
      "state": {
       "description": "Processing: ",
       "layout": "IPY_MODEL_125c99e83f704685bfb89f907ade2fa7",
       "max": 870,
       "style": "IPY_MODEL_62077375abdf48e28987780b10e7d2da",
       "value": 870
      }
     },
     "eed46932d7754328953be4b63dabc209": {
      "model_module": "@jupyter-widgets/controls",
      "model_module_version": "1.5.0",
      "model_name": "ProgressStyleModel",
      "state": {
       "description_width": ""
      }
     },
     "ef033c789c0a4cbfa0cd93802fe28e76": {
      "model_module": "@jupyter-widgets/controls",
      "model_module_version": "1.5.0",
      "model_name": "IntProgressModel",
      "state": {
       "description": "Processing: ",
       "layout": "IPY_MODEL_0373170d28414abead8ee7b1e80ca1e1",
       "max": 48,
       "style": "IPY_MODEL_abe072bd93824013b97f90ef499fb6da",
       "value": 48
      }
     },
     "ef3e23835aa14ee99e95326fc0ca375f": {
      "model_module": "@jupyter-widgets/controls",
      "model_module_version": "1.5.0",
      "model_name": "ProgressStyleModel",
      "state": {
       "description_width": ""
      }
     },
     "ef40aec45187478aa8cae74cea8a52c7": {
      "model_module": "@jupyter-widgets/controls",
      "model_module_version": "1.5.0",
      "model_name": "IntProgressModel",
      "state": {
       "description": "Processing: ",
       "layout": "IPY_MODEL_66a25303bbe84b82b97f0a28a1667233",
       "max": 4,
       "style": "IPY_MODEL_de9e45298c6146c192cd25d0f087722b",
       "value": 4
      }
     },
     "ef7bc8a5ff5a4641b8b745d7b49cb773": {
      "model_module": "@jupyter-widgets/output",
      "model_module_version": "1.0.0",
      "model_name": "OutputModel",
      "state": {
       "layout": "IPY_MODEL_c8eb4149d7a842dba0f40facbad1d89f",
       "outputs": [
        {
         "data": {
          "text/html": "        <script type=\"text/javascript\">\n        window.PlotlyConfig = {MathJaxConfig: 'local'};\n        if (window.MathJax) {MathJax.Hub.Config({SVG: {font: \"STIX-Web\"}});}\n        if (typeof require !== 'undefined') {\n        require.undef(\"plotly\");\n        requirejs.config({\n            paths: {\n                'plotly': ['https://cdn.plot.ly/plotly-latest.min']\n            }\n        });\n        require(['plotly'], function(Plotly) {\n            window._Plotly = Plotly;\n        });\n        }\n        </script>\n        "
         },
         "metadata": {},
         "output_type": "display_data"
        },
        {
         "ename": "SystemExit",
         "evalue": "(Value Error): Invalid topic_num param or empty Vocab. Try changing Topic Number.",
         "output_type": "error",
         "traceback": [
          "\u001b[1;31m---------------------------------------------------------------------------\u001b[0m",
          "\u001b[1;31mValueError\u001b[0m                                Traceback (most recent call last)",
          "\u001b[1;32m~\\AppData\\Roaming\\Python\\Python37\\site-packages\\pycaret\\nlp.py\u001b[0m in \u001b[0;36mplot_model\u001b[1;34m(model, plot, topic_num, save, system)\u001b[0m\n\u001b[0;32m   1838\u001b[0m                 \u001b[0mfiltered_df\u001b[0m \u001b[1;33m=\u001b[0m \u001b[0massigned_df\u001b[0m\u001b[1;33m.\u001b[0m\u001b[0mloc\u001b[0m\u001b[1;33m[\u001b[0m\u001b[0massigned_df\u001b[0m\u001b[1;33m[\u001b[0m\u001b[1;34m'Dominant_Topic'\u001b[0m\u001b[1;33m]\u001b[0m \u001b[1;33m==\u001b[0m \u001b[0mtopic_num\u001b[0m\u001b[1;33m]\u001b[0m\u001b[1;33m\u001b[0m\u001b[1;33m\u001b[0m\u001b[0m\n\u001b[1;32m-> 1839\u001b[1;33m                 \u001b[0mcommon_words\u001b[0m \u001b[1;33m=\u001b[0m \u001b[0mget_top_n_words\u001b[0m\u001b[1;33m(\u001b[0m\u001b[0mfiltered_df\u001b[0m\u001b[1;33m[\u001b[0m\u001b[0mtarget_\u001b[0m\u001b[1;33m]\u001b[0m\u001b[1;33m,\u001b[0m \u001b[0mn\u001b[0m\u001b[1;33m=\u001b[0m\u001b[1;36m100\u001b[0m\u001b[1;33m)\u001b[0m\u001b[1;33m\u001b[0m\u001b[1;33m\u001b[0m\u001b[0m\n\u001b[0m\u001b[0;32m   1840\u001b[0m                 \u001b[0mdf2\u001b[0m \u001b[1;33m=\u001b[0m \u001b[0mpd\u001b[0m\u001b[1;33m.\u001b[0m\u001b[0mDataFrame\u001b[0m\u001b[1;33m(\u001b[0m\u001b[0mcommon_words\u001b[0m\u001b[1;33m,\u001b[0m \u001b[0mcolumns\u001b[0m \u001b[1;33m=\u001b[0m \u001b[1;33m[\u001b[0m\u001b[1;34m'Text'\u001b[0m \u001b[1;33m,\u001b[0m \u001b[1;34m'count'\u001b[0m\u001b[1;33m]\u001b[0m\u001b[1;33m)\u001b[0m\u001b[1;33m\u001b[0m\u001b[1;33m\u001b[0m\u001b[0m\n",
          "\u001b[1;32m~\\AppData\\Roaming\\Python\\Python37\\site-packages\\pycaret\\nlp.py\u001b[0m in \u001b[0;36mget_top_n_words\u001b[1;34m(corpus, n)\u001b[0m\n\u001b[0;32m   1816\u001b[0m                 \u001b[0mlogger\u001b[0m\u001b[1;33m.\u001b[0m\u001b[0minfo\u001b[0m\u001b[1;33m(\u001b[0m\u001b[1;34m\"Fitting CountVectorizer()\"\u001b[0m\u001b[1;33m)\u001b[0m\u001b[1;33m\u001b[0m\u001b[1;33m\u001b[0m\u001b[0m\n\u001b[1;32m-> 1817\u001b[1;33m                 \u001b[0mbag_of_words\u001b[0m \u001b[1;33m=\u001b[0m \u001b[0mvec\u001b[0m\u001b[1;33m.\u001b[0m\u001b[0mfit_transform\u001b[0m\u001b[1;33m(\u001b[0m\u001b[0mcorpus\u001b[0m\u001b[1;33m)\u001b[0m\u001b[1;33m\u001b[0m\u001b[1;33m\u001b[0m\u001b[0m\n\u001b[0m\u001b[0;32m   1818\u001b[0m                 \u001b[0msum_words\u001b[0m \u001b[1;33m=\u001b[0m \u001b[0mbag_of_words\u001b[0m\u001b[1;33m.\u001b[0m\u001b[0msum\u001b[0m\u001b[1;33m(\u001b[0m\u001b[0maxis\u001b[0m\u001b[1;33m=\u001b[0m\u001b[1;36m0\u001b[0m\u001b[1;33m)\u001b[0m\u001b[1;33m\u001b[0m\u001b[1;33m\u001b[0m\u001b[0m\n",
          "\u001b[1;32m~\\Anaconda3\\lib\\site-packages\\sklearn\\feature_extraction\\text.py\u001b[0m in \u001b[0;36mfit_transform\u001b[1;34m(self, raw_documents, y)\u001b[0m\n\u001b[0;32m   1198\u001b[0m         vocabulary, X = self._count_vocab(raw_documents,\n\u001b[1;32m-> 1199\u001b[1;33m                                           self.fixed_vocabulary_)\n\u001b[0m\u001b[0;32m   1200\u001b[0m \u001b[1;33m\u001b[0m\u001b[0m\n",
          "\u001b[1;32m~\\Anaconda3\\lib\\site-packages\\sklearn\\feature_extraction\\text.py\u001b[0m in \u001b[0;36m_count_vocab\u001b[1;34m(self, raw_documents, fixed_vocab)\u001b[0m\n\u001b[0;32m   1128\u001b[0m             \u001b[1;32mif\u001b[0m \u001b[1;32mnot\u001b[0m \u001b[0mvocabulary\u001b[0m\u001b[1;33m:\u001b[0m\u001b[1;33m\u001b[0m\u001b[1;33m\u001b[0m\u001b[0m\n\u001b[1;32m-> 1129\u001b[1;33m                 raise ValueError(\"empty vocabulary; perhaps the documents only\"\n\u001b[0m\u001b[0;32m   1130\u001b[0m                                  \" contain stop words\")\n",
          "\u001b[1;31mValueError\u001b[0m: empty vocabulary; perhaps the documents only contain stop words",
          "\nDuring handling of the above exception, another exception occurred:\n",
          "\u001b[1;31mSystemExit\u001b[0m                                Traceback (most recent call last)",
          "\u001b[1;32m~\\Anaconda3\\lib\\site-packages\\ipywidgets\\widgets\\interaction.py\u001b[0m in \u001b[0;36mupdate\u001b[1;34m(self, *args)\u001b[0m\n\u001b[0;32m    254\u001b[0m                     \u001b[0mvalue\u001b[0m \u001b[1;33m=\u001b[0m \u001b[0mwidget\u001b[0m\u001b[1;33m.\u001b[0m\u001b[0mget_interact_value\u001b[0m\u001b[1;33m(\u001b[0m\u001b[1;33m)\u001b[0m\u001b[1;33m\u001b[0m\u001b[1;33m\u001b[0m\u001b[0m\n\u001b[0;32m    255\u001b[0m                     \u001b[0mself\u001b[0m\u001b[1;33m.\u001b[0m\u001b[0mkwargs\u001b[0m\u001b[1;33m[\u001b[0m\u001b[0mwidget\u001b[0m\u001b[1;33m.\u001b[0m\u001b[0m_kwarg\u001b[0m\u001b[1;33m]\u001b[0m \u001b[1;33m=\u001b[0m \u001b[0mvalue\u001b[0m\u001b[1;33m\u001b[0m\u001b[1;33m\u001b[0m\u001b[0m\n\u001b[1;32m--> 256\u001b[1;33m                 \u001b[0mself\u001b[0m\u001b[1;33m.\u001b[0m\u001b[0mresult\u001b[0m \u001b[1;33m=\u001b[0m \u001b[0mself\u001b[0m\u001b[1;33m.\u001b[0m\u001b[0mf\u001b[0m\u001b[1;33m(\u001b[0m\u001b[1;33m**\u001b[0m\u001b[0mself\u001b[0m\u001b[1;33m.\u001b[0m\u001b[0mkwargs\u001b[0m\u001b[1;33m)\u001b[0m\u001b[1;33m\u001b[0m\u001b[1;33m\u001b[0m\u001b[0m\n\u001b[0m\u001b[0;32m    257\u001b[0m                 \u001b[0mshow_inline_matplotlib_plots\u001b[0m\u001b[1;33m(\u001b[0m\u001b[1;33m)\u001b[0m\u001b[1;33m\u001b[0m\u001b[1;33m\u001b[0m\u001b[0m\n\u001b[0;32m    258\u001b[0m                 \u001b[1;32mif\u001b[0m \u001b[0mself\u001b[0m\u001b[1;33m.\u001b[0m\u001b[0mauto_display\u001b[0m \u001b[1;32mand\u001b[0m \u001b[0mself\u001b[0m\u001b[1;33m.\u001b[0m\u001b[0mresult\u001b[0m \u001b[1;32mis\u001b[0m \u001b[1;32mnot\u001b[0m \u001b[1;32mNone\u001b[0m\u001b[1;33m:\u001b[0m\u001b[1;33m\u001b[0m\u001b[1;33m\u001b[0m\u001b[0m\n",
          "\u001b[1;32m~\\AppData\\Roaming\\Python\\Python37\\site-packages\\pycaret\\nlp.py\u001b[0m in \u001b[0;36mplot_model\u001b[1;34m(model, plot, topic_num, save, system)\u001b[0m\n\u001b[0;32m   1850\u001b[0m         \u001b[1;32mexcept\u001b[0m\u001b[1;33m:\u001b[0m\u001b[1;33m\u001b[0m\u001b[1;33m\u001b[0m\u001b[0m\n\u001b[0;32m   1851\u001b[0m             \u001b[0mlogger\u001b[0m\u001b[1;33m.\u001b[0m\u001b[0mwarning\u001b[0m\u001b[1;33m(\u001b[0m\u001b[1;34m\"Invalid topic_num param or empty Vocab. Try changing Topic Number.\"\u001b[0m\u001b[1;33m)\u001b[0m\u001b[1;33m\u001b[0m\u001b[1;33m\u001b[0m\u001b[0m\n\u001b[1;32m-> 1852\u001b[1;33m             \u001b[0msys\u001b[0m\u001b[1;33m.\u001b[0m\u001b[0mexit\u001b[0m\u001b[1;33m(\u001b[0m\u001b[1;34m'(Value Error): Invalid topic_num param or empty Vocab. Try changing Topic Number.'\u001b[0m\u001b[1;33m)\u001b[0m\u001b[1;33m\u001b[0m\u001b[1;33m\u001b[0m\u001b[0m\n\u001b[0m\u001b[0;32m   1853\u001b[0m \u001b[1;33m\u001b[0m\u001b[0m\n\u001b[0;32m   1854\u001b[0m \u001b[1;33m\u001b[0m\u001b[0m\n",
          "\u001b[1;31mSystemExit\u001b[0m: (Value Error): Invalid topic_num param or empty Vocab. Try changing Topic Number."
         ]
        }
       ]
      }
     },
     "f0aa0b72c5d34fd6b0fdec52b7bc6792": {
      "model_module": "@jupyter-widgets/controls",
      "model_module_version": "1.5.0",
      "model_name": "ToggleButtonsModel",
      "state": {
       "_options_labels": [
        "Frequency Plot",
        "Bigrams",
        "Trigrams",
        "Sentiment Polarity",
        "Word Cloud"
       ],
       "button_style": "",
       "description": "Plot Type:",
       "icons": [
        ""
       ],
       "index": 1,
       "layout": "IPY_MODEL_b5f64572a64b4acd92ff3f379a591cbf",
       "style": "IPY_MODEL_5b6b8326f0a5417d876abb0002f1a002",
       "tooltips": []
      }
     },
     "f18573d6c3f34538a9334ae261aa7425": {
      "model_module": "@jupyter-widgets/controls",
      "model_module_version": "1.5.0",
      "model_name": "IntProgressModel",
      "state": {
       "description": "Processing: ",
       "layout": "IPY_MODEL_80183cf5fe844d7083166c3250f3fcaa",
       "max": 48,
       "style": "IPY_MODEL_5bcb2f51df654e0f8523e33e88d2609f",
       "value": 48
      }
     },
     "f27b48ee4d564e7b961c6cd5cb814990": {
      "model_module": "@jupyter-widgets/controls",
      "model_module_version": "1.5.0",
      "model_name": "IntProgressModel",
      "state": {
       "description": "Processing: ",
       "layout": "IPY_MODEL_57cac375ec6d4fd3b96900dc60fef2aa",
       "max": 48,
       "style": "IPY_MODEL_923076edcc1f4dd1ae098ee1879c5ad2",
       "value": 48
      }
     },
     "f471eca31f6e48c1bd81b6d2d26b8b72": {
      "model_module": "@jupyter-widgets/base",
      "model_module_version": "1.2.0",
      "model_name": "LayoutModel",
      "state": {}
     },
     "f90aba366131435b94408fae809d8109": {
      "model_module": "@jupyter-widgets/base",
      "model_module_version": "1.2.0",
      "model_name": "LayoutModel",
      "state": {}
     },
     "f998f6135090423c9f6adcabdd644be7": {
      "model_module": "@jupyter-widgets/controls",
      "model_module_version": "1.5.0",
      "model_name": "ProgressStyleModel",
      "state": {
       "description_width": ""
      }
     },
     "f99bff09f5564cecb7aac86ee3ba30f0": {
      "model_module": "@jupyter-widgets/base",
      "model_module_version": "1.2.0",
      "model_name": "LayoutModel",
      "state": {}
     },
     "f9a5a98739fa4ba6a81df3a08ed82c5a": {
      "model_module": "@jupyter-widgets/controls",
      "model_module_version": "1.5.0",
      "model_name": "ButtonStyleModel",
      "state": {}
     },
     "fa30d12576524391bd1a84daf0e5e3e2": {
      "model_module": "@jupyter-widgets/controls",
      "model_module_version": "1.5.0",
      "model_name": "DescriptionStyleModel",
      "state": {
       "description_width": ""
      }
     },
     "fa9507c53bc945c38aa156d272a76a16": {
      "model_module": "@jupyter-widgets/base",
      "model_module_version": "1.2.0",
      "model_name": "LayoutModel",
      "state": {}
     },
     "fae045083bb24cc5b7d9651f5abf55fd": {
      "model_module": "@jupyter-widgets/base",
      "model_module_version": "1.2.0",
      "model_name": "LayoutModel",
      "state": {}
     },
     "fbc08f74a0834df1ac913e55ca9f491b": {
      "model_module": "@jupyter-widgets/output",
      "model_module_version": "1.0.0",
      "model_name": "OutputModel",
      "state": {
       "layout": "IPY_MODEL_d63697bfc5fe40f1946b1f0fafd0982a"
      }
     },
     "fdc6a6ef75b44c73a1349f2dd0d7348a": {
      "model_module": "@jupyter-widgets/controls",
      "model_module_version": "1.5.0",
      "model_name": "ProgressStyleModel",
      "state": {
       "description_width": ""
      }
     },
     "fdd91b2e5fb84437a70dd6b50c6c9eee": {
      "model_module": "@jupyter-widgets/controls",
      "model_module_version": "1.5.0",
      "model_name": "ProgressStyleModel",
      "state": {
       "description_width": ""
      }
     },
     "fe7cffdc36954cb688f49536930c7e11": {
      "model_module": "@jupyter-widgets/base",
      "model_module_version": "1.2.0",
      "model_name": "LayoutModel",
      "state": {}
     }
    },
    "version_major": 2,
    "version_minor": 0
   }
  }
 },
 "nbformat": 4,
 "nbformat_minor": 2
}
