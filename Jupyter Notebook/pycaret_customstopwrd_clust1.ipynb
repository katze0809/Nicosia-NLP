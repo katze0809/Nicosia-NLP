{
 "cells": [
  {
   "cell_type": "code",
   "execution_count": 1,
   "metadata": {},
   "outputs": [],
   "source": [
    "import pandas as pd\n",
    "import glob"
   ]
  },
  {
   "cell_type": "markdown",
   "metadata": {},
   "source": [
    "# Positive Reviews"
   ]
  },
  {
   "cell_type": "code",
   "execution_count": 2,
   "metadata": {},
   "outputs": [
    {
     "data": {
      "text/html": [
       "<div>\n",
       "<style scoped>\n",
       "    .dataframe tbody tr th:only-of-type {\n",
       "        vertical-align: middle;\n",
       "    }\n",
       "\n",
       "    .dataframe tbody tr th {\n",
       "        vertical-align: top;\n",
       "    }\n",
       "\n",
       "    .dataframe thead th {\n",
       "        text-align: right;\n",
       "    }\n",
       "</style>\n",
       "<table border=\"1\" class=\"dataframe\">\n",
       "  <thead>\n",
       "    <tr style=\"text-align: right;\">\n",
       "      <th></th>\n",
       "      <th>Unnamed: 0</th>\n",
       "      <th>r_points</th>\n",
       "      <th>r_text</th>\n",
       "      <th>place</th>\n",
       "      <th>No of review</th>\n",
       "      <th>cosine sim</th>\n",
       "      <th>Unnamed: 3</th>\n",
       "      <th>Unnamed: 4</th>\n",
       "      <th>Unnamed: 5</th>\n",
       "      <th>Unnamed: 6</th>\n",
       "      <th>scores</th>\n",
       "      <th>compound</th>\n",
       "      <th>score</th>\n",
       "    </tr>\n",
       "  </thead>\n",
       "  <tbody>\n",
       "    <tr>\n",
       "      <th>0</th>\n",
       "      <td>1</td>\n",
       "      <td>50</td>\n",
       "      <td>Excellent food, great atmosphere and service.C...</td>\n",
       "      <td>Akakiko</td>\n",
       "      <td>Review 1 Similarity</td>\n",
       "      <td>0.507093</td>\n",
       "      <td>NaN</td>\n",
       "      <td>NaN</td>\n",
       "      <td>NaN</td>\n",
       "      <td>NaN</td>\n",
       "      <td>{'neg': 0.0, 'neu': 0.439, 'pos': 0.561, 'comp...</td>\n",
       "      <td>0.9097</td>\n",
       "      <td>pos</td>\n",
       "    </tr>\n",
       "    <tr>\n",
       "      <th>1</th>\n",
       "      <td>2</td>\n",
       "      <td>50</td>\n",
       "      <td>Visited Akakiko Nicosia on a Friday night. Alt...</td>\n",
       "      <td>Akakiko</td>\n",
       "      <td>Review 48 Similarity</td>\n",
       "      <td>0.507093</td>\n",
       "      <td>NaN</td>\n",
       "      <td>NaN</td>\n",
       "      <td>NaN</td>\n",
       "      <td>NaN</td>\n",
       "      <td>{'neg': 0.0, 'neu': 0.724, 'pos': 0.276, 'comp...</td>\n",
       "      <td>0.8923</td>\n",
       "      <td>pos</td>\n",
       "    </tr>\n",
       "    <tr>\n",
       "      <th>2</th>\n",
       "      <td>3</td>\n",
       "      <td>30</td>\n",
       "      <td>The food is great and it's a nice place but be...</td>\n",
       "      <td>Akakiko</td>\n",
       "      <td>Review 51 Similarity</td>\n",
       "      <td>0.507093</td>\n",
       "      <td>NaN</td>\n",
       "      <td>NaN</td>\n",
       "      <td>NaN</td>\n",
       "      <td>NaN</td>\n",
       "      <td>{'neg': 0.0, 'neu': 0.779, 'pos': 0.221, 'comp...</td>\n",
       "      <td>0.7003</td>\n",
       "      <td>pos</td>\n",
       "    </tr>\n",
       "    <tr>\n",
       "      <th>3</th>\n",
       "      <td>4</td>\n",
       "      <td>50</td>\n",
       "      <td>Good prices very taste maki rolls huge suchi m...</td>\n",
       "      <td>Akakiko</td>\n",
       "      <td>Review 68 Similarity</td>\n",
       "      <td>0.507093</td>\n",
       "      <td>NaN</td>\n",
       "      <td>NaN</td>\n",
       "      <td>NaN</td>\n",
       "      <td>NaN</td>\n",
       "      <td>{'neg': 0.0, 'neu': 0.766, 'pos': 0.234, 'comp...</td>\n",
       "      <td>0.6369</td>\n",
       "      <td>pos</td>\n",
       "    </tr>\n",
       "    <tr>\n",
       "      <th>4</th>\n",
       "      <td>5</td>\n",
       "      <td>40</td>\n",
       "      <td>eating there almost every month with family. a...</td>\n",
       "      <td>Akakiko</td>\n",
       "      <td>Review 87 Similarity</td>\n",
       "      <td>0.507093</td>\n",
       "      <td>NaN</td>\n",
       "      <td>NaN</td>\n",
       "      <td>NaN</td>\n",
       "      <td>NaN</td>\n",
       "      <td>{'neg': 0.051, 'neu': 0.773, 'pos': 0.176, 'co...</td>\n",
       "      <td>0.6169</td>\n",
       "      <td>pos</td>\n",
       "    </tr>\n",
       "    <tr>\n",
       "      <th>...</th>\n",
       "      <td>...</td>\n",
       "      <td>...</td>\n",
       "      <td>...</td>\n",
       "      <td>...</td>\n",
       "      <td>...</td>\n",
       "      <td>...</td>\n",
       "      <td>...</td>\n",
       "      <td>...</td>\n",
       "      <td>...</td>\n",
       "      <td>...</td>\n",
       "      <td>...</td>\n",
       "      <td>...</td>\n",
       "      <td>...</td>\n",
       "    </tr>\n",
       "    <tr>\n",
       "      <th>1224</th>\n",
       "      <td>1315</td>\n",
       "      <td>40</td>\n",
       "      <td>The portions were big with a good tasteWe orde...</td>\n",
       "      <td>To Elliniko Ouzomezedopoleio</td>\n",
       "      <td>NaN</td>\n",
       "      <td>NaN</td>\n",
       "      <td>Review 6 Similarity</td>\n",
       "      <td>0.0</td>\n",
       "      <td>Review 198 Similarity</td>\n",
       "      <td>0.0</td>\n",
       "      <td>{'neg': 0.0, 'neu': 0.732, 'pos': 0.268, 'comp...</td>\n",
       "      <td>0.7650</td>\n",
       "      <td>pos</td>\n",
       "    </tr>\n",
       "    <tr>\n",
       "      <th>1225</th>\n",
       "      <td>1316</td>\n",
       "      <td>50</td>\n",
       "      <td>All what we have ordered was exceptional, nice...</td>\n",
       "      <td>To Elliniko Ouzomezedopoleio</td>\n",
       "      <td>NaN</td>\n",
       "      <td>NaN</td>\n",
       "      <td>Review 45 Similarity</td>\n",
       "      <td>0.0</td>\n",
       "      <td>Review 200 Similarity</td>\n",
       "      <td>0.0</td>\n",
       "      <td>{'neg': 0.0, 'neu': 0.565, 'pos': 0.435, 'comp...</td>\n",
       "      <td>0.8748</td>\n",
       "      <td>pos</td>\n",
       "    </tr>\n",
       "    <tr>\n",
       "      <th>1226</th>\n",
       "      <td>1317</td>\n",
       "      <td>50</td>\n",
       "      <td>Unsusual decor, modern with a touch of old gre...</td>\n",
       "      <td>To Elliniko Ouzomezedopoleio</td>\n",
       "      <td>NaN</td>\n",
       "      <td>NaN</td>\n",
       "      <td>Review 83 Similarity</td>\n",
       "      <td>0.0</td>\n",
       "      <td>Review 202 Similarity</td>\n",
       "      <td>0.0</td>\n",
       "      <td>{'neg': 0.027, 'neu': 0.893, 'pos': 0.079, 'co...</td>\n",
       "      <td>0.4635</td>\n",
       "      <td>pos</td>\n",
       "    </tr>\n",
       "    <tr>\n",
       "      <th>1227</th>\n",
       "      <td>1318</td>\n",
       "      <td>50</td>\n",
       "      <td>The original Greek cuisine at your plate. The ...</td>\n",
       "      <td>To Elliniko Ouzomezedopoleio</td>\n",
       "      <td>NaN</td>\n",
       "      <td>NaN</td>\n",
       "      <td>Review 115 Similarity</td>\n",
       "      <td>0.0</td>\n",
       "      <td>Review 204 Similarity</td>\n",
       "      <td>0.0</td>\n",
       "      <td>{'neg': 0.035, 'neu': 0.755, 'pos': 0.21, 'com...</td>\n",
       "      <td>0.7992</td>\n",
       "      <td>pos</td>\n",
       "    </tr>\n",
       "    <tr>\n",
       "      <th>1228</th>\n",
       "      <td>1319</td>\n",
       "      <td>50</td>\n",
       "      <td>greak greek tastes we tried the calamari skewe...</td>\n",
       "      <td>To Elliniko Ouzomezedopoleio</td>\n",
       "      <td>NaN</td>\n",
       "      <td>NaN</td>\n",
       "      <td>Review 129 Similarity</td>\n",
       "      <td>0.0</td>\n",
       "      <td>Review 205 Similarity</td>\n",
       "      <td>0.0</td>\n",
       "      <td>{'neg': 0.0, 'neu': 0.817, 'pos': 0.183, 'comp...</td>\n",
       "      <td>0.6435</td>\n",
       "      <td>pos</td>\n",
       "    </tr>\n",
       "  </tbody>\n",
       "</table>\n",
       "<p>1229 rows × 13 columns</p>\n",
       "</div>"
      ],
      "text/plain": [
       "      Unnamed: 0  r_points                                             r_text  \\\n",
       "0              1        50  Excellent food, great atmosphere and service.C...   \n",
       "1              2        50  Visited Akakiko Nicosia on a Friday night. Alt...   \n",
       "2              3        30  The food is great and it's a nice place but be...   \n",
       "3              4        50  Good prices very taste maki rolls huge suchi m...   \n",
       "4              5        40  eating there almost every month with family. a...   \n",
       "...          ...       ...                                                ...   \n",
       "1224        1315        40  The portions were big with a good tasteWe orde...   \n",
       "1225        1316        50  All what we have ordered was exceptional, nice...   \n",
       "1226        1317        50  Unsusual decor, modern with a touch of old gre...   \n",
       "1227        1318        50  The original Greek cuisine at your plate. The ...   \n",
       "1228        1319        50  greak greek tastes we tried the calamari skewe...   \n",
       "\n",
       "                             place          No of review  cosine sim  \\\n",
       "0                          Akakiko   Review 1 Similarity    0.507093   \n",
       "1                          Akakiko  Review 48 Similarity    0.507093   \n",
       "2                          Akakiko  Review 51 Similarity    0.507093   \n",
       "3                          Akakiko  Review 68 Similarity    0.507093   \n",
       "4                          Akakiko  Review 87 Similarity    0.507093   \n",
       "...                            ...                   ...         ...   \n",
       "1224  To Elliniko Ouzomezedopoleio                   NaN         NaN   \n",
       "1225  To Elliniko Ouzomezedopoleio                   NaN         NaN   \n",
       "1226  To Elliniko Ouzomezedopoleio                   NaN         NaN   \n",
       "1227  To Elliniko Ouzomezedopoleio                   NaN         NaN   \n",
       "1228  To Elliniko Ouzomezedopoleio                   NaN         NaN   \n",
       "\n",
       "                 Unnamed: 3  Unnamed: 4             Unnamed: 5  Unnamed: 6  \\\n",
       "0                       NaN         NaN                    NaN         NaN   \n",
       "1                       NaN         NaN                    NaN         NaN   \n",
       "2                       NaN         NaN                    NaN         NaN   \n",
       "3                       NaN         NaN                    NaN         NaN   \n",
       "4                       NaN         NaN                    NaN         NaN   \n",
       "...                     ...         ...                    ...         ...   \n",
       "1224    Review 6 Similarity         0.0  Review 198 Similarity         0.0   \n",
       "1225   Review 45 Similarity         0.0  Review 200 Similarity         0.0   \n",
       "1226   Review 83 Similarity         0.0  Review 202 Similarity         0.0   \n",
       "1227  Review 115 Similarity         0.0  Review 204 Similarity         0.0   \n",
       "1228  Review 129 Similarity         0.0  Review 205 Similarity         0.0   \n",
       "\n",
       "                                                 scores  compound score  \n",
       "0     {'neg': 0.0, 'neu': 0.439, 'pos': 0.561, 'comp...    0.9097   pos  \n",
       "1     {'neg': 0.0, 'neu': 0.724, 'pos': 0.276, 'comp...    0.8923   pos  \n",
       "2     {'neg': 0.0, 'neu': 0.779, 'pos': 0.221, 'comp...    0.7003   pos  \n",
       "3     {'neg': 0.0, 'neu': 0.766, 'pos': 0.234, 'comp...    0.6369   pos  \n",
       "4     {'neg': 0.051, 'neu': 0.773, 'pos': 0.176, 'co...    0.6169   pos  \n",
       "...                                                 ...       ...   ...  \n",
       "1224  {'neg': 0.0, 'neu': 0.732, 'pos': 0.268, 'comp...    0.7650   pos  \n",
       "1225  {'neg': 0.0, 'neu': 0.565, 'pos': 0.435, 'comp...    0.8748   pos  \n",
       "1226  {'neg': 0.027, 'neu': 0.893, 'pos': 0.079, 'co...    0.4635   pos  \n",
       "1227  {'neg': 0.035, 'neu': 0.755, 'pos': 0.21, 'com...    0.7992   pos  \n",
       "1228  {'neg': 0.0, 'neu': 0.817, 'pos': 0.183, 'comp...    0.6435   pos  \n",
       "\n",
       "[1229 rows x 13 columns]"
      ]
     },
     "execution_count": 2,
     "metadata": {},
     "output_type": "execute_result"
    }
   ],
   "source": [
    "pos_review = pd.read_csv(r'C:\\Users\\Dell\\Desktop\\sentiment_cluster1_pos.csv')\n",
    "pos_review"
   ]
  },
  {
   "cell_type": "code",
   "execution_count": 3,
   "metadata": {},
   "outputs": [],
   "source": [
    "from pycaret.nlp import *"
   ]
  },
  {
   "cell_type": "code",
   "execution_count": 4,
   "metadata": {},
   "outputs": [
    {
     "data": {
      "text/html": [
       "<style  type=\"text/css\" >\n",
       "</style><table id=\"T_bb6f9634_3899_11eb_8ab8_c48e8ff9d2e0\" ><thead>    <tr>        <th class=\"col_heading level0 col0\" >Description</th>        <th class=\"col_heading level0 col1\" >Value</th>    </tr></thead><tbody>\n",
       "                <tr>\n",
       "                                <td id=\"T_bb6f9634_3899_11eb_8ab8_c48e8ff9d2e0row0_col0\" class=\"data row0 col0\" >session_id</td>\n",
       "                        <td id=\"T_bb6f9634_3899_11eb_8ab8_c48e8ff9d2e0row0_col1\" class=\"data row0 col1\" >4838</td>\n",
       "            </tr>\n",
       "            <tr>\n",
       "                                <td id=\"T_bb6f9634_3899_11eb_8ab8_c48e8ff9d2e0row1_col0\" class=\"data row1 col0\" >Documents</td>\n",
       "                        <td id=\"T_bb6f9634_3899_11eb_8ab8_c48e8ff9d2e0row1_col1\" class=\"data row1 col1\" >1229</td>\n",
       "            </tr>\n",
       "            <tr>\n",
       "                                <td id=\"T_bb6f9634_3899_11eb_8ab8_c48e8ff9d2e0row2_col0\" class=\"data row2 col0\" >Vocab Size</td>\n",
       "                        <td id=\"T_bb6f9634_3899_11eb_8ab8_c48e8ff9d2e0row2_col1\" class=\"data row2 col1\" >3735</td>\n",
       "            </tr>\n",
       "            <tr>\n",
       "                                <td id=\"T_bb6f9634_3899_11eb_8ab8_c48e8ff9d2e0row3_col0\" class=\"data row3 col0\" >Custom Stopwords</td>\n",
       "                        <td id=\"T_bb6f9634_3899_11eb_8ab8_c48e8ff9d2e0row3_col1\" class=\"data row3 col1\" >True</td>\n",
       "            </tr>\n",
       "    </tbody></table>"
      ],
      "text/plain": [
       "<pandas.io.formats.style.Styler at 0x28f54124ac8>"
      ]
     },
     "metadata": {},
     "output_type": "display_data"
    }
   ],
   "source": [
    "exp_nlp = setup(data = pos_review, target = 'r_text',\n",
    "                custom_stopwords = [ 'hotel', 'room', 'nice', 'good', 'restaurant', 'food'])"
   ]
  },
  {
   "cell_type": "code",
   "execution_count": 5,
   "metadata": {},
   "outputs": [
    {
     "name": "stdout",
     "output_type": "stream",
     "text": [
      "LdaModel(num_terms=3735, num_topics=4, decay=0.5, chunksize=100)\n"
     ]
    }
   ],
   "source": [
    "#create an LDA model\n",
    "lda_pos_custom = create_model('lda')\n",
    "print(lda_pos_custom)"
   ]
  },
  {
   "cell_type": "code",
   "execution_count": 6,
   "metadata": {},
   "outputs": [],
   "source": [
    "apply_lda_pos = assign_model(lda_pos_custom)"
   ]
  },
  {
   "cell_type": "code",
   "execution_count": 7,
   "metadata": {},
   "outputs": [
    {
     "data": {
      "text/html": [
       "<div>\n",
       "<style scoped>\n",
       "    .dataframe tbody tr th:only-of-type {\n",
       "        vertical-align: middle;\n",
       "    }\n",
       "\n",
       "    .dataframe tbody tr th {\n",
       "        vertical-align: top;\n",
       "    }\n",
       "\n",
       "    .dataframe thead th {\n",
       "        text-align: right;\n",
       "    }\n",
       "</style>\n",
       "<table border=\"1\" class=\"dataframe\">\n",
       "  <thead>\n",
       "    <tr style=\"text-align: right;\">\n",
       "      <th></th>\n",
       "      <th>Unnamed: 0</th>\n",
       "      <th>r_points</th>\n",
       "      <th>r_text</th>\n",
       "      <th>place</th>\n",
       "      <th>No of review</th>\n",
       "      <th>cosine sim</th>\n",
       "      <th>Unnamed: 3</th>\n",
       "      <th>Unnamed: 4</th>\n",
       "      <th>Unnamed: 5</th>\n",
       "      <th>Unnamed: 6</th>\n",
       "      <th>scores</th>\n",
       "      <th>compound</th>\n",
       "      <th>score</th>\n",
       "      <th>Topic_0</th>\n",
       "      <th>Topic_1</th>\n",
       "      <th>Topic_2</th>\n",
       "      <th>Topic_3</th>\n",
       "      <th>Dominant_Topic</th>\n",
       "      <th>Perc_Dominant_Topic</th>\n",
       "    </tr>\n",
       "  </thead>\n",
       "  <tbody>\n",
       "    <tr>\n",
       "      <th>0</th>\n",
       "      <td>1</td>\n",
       "      <td>50</td>\n",
       "      <td>excellent great atmosphere service cosy elegan...</td>\n",
       "      <td>Akakiko</td>\n",
       "      <td>Review 1 Similarity</td>\n",
       "      <td>0.507093</td>\n",
       "      <td>NaN</td>\n",
       "      <td>NaN</td>\n",
       "      <td>NaN</td>\n",
       "      <td>NaN</td>\n",
       "      <td>{'neg': 0.0, 'neu': 0.439, 'pos': 0.561, 'comp...</td>\n",
       "      <td>0.9097</td>\n",
       "      <td>pos</td>\n",
       "      <td>0.164340</td>\n",
       "      <td>0.046593</td>\n",
       "      <td>0.691895</td>\n",
       "      <td>0.097172</td>\n",
       "      <td>Topic 2</td>\n",
       "      <td>0.69</td>\n",
       "    </tr>\n",
       "    <tr>\n",
       "      <th>1</th>\n",
       "      <td>2</td>\n",
       "      <td>50</td>\n",
       "      <td>visit night busy find table reservation staff ...</td>\n",
       "      <td>Akakiko</td>\n",
       "      <td>Review 48 Similarity</td>\n",
       "      <td>0.507093</td>\n",
       "      <td>NaN</td>\n",
       "      <td>NaN</td>\n",
       "      <td>NaN</td>\n",
       "      <td>NaN</td>\n",
       "      <td>{'neg': 0.0, 'neu': 0.724, 'pos': 0.276, 'comp...</td>\n",
       "      <td>0.8923</td>\n",
       "      <td>pos</td>\n",
       "      <td>0.030732</td>\n",
       "      <td>0.070655</td>\n",
       "      <td>0.735807</td>\n",
       "      <td>0.162806</td>\n",
       "      <td>Topic 2</td>\n",
       "      <td>0.74</td>\n",
       "    </tr>\n",
       "    <tr>\n",
       "      <th>2</th>\n",
       "      <td>3</td>\n",
       "      <td>30</td>\n",
       "      <td>great place prepare sit wait service try reall...</td>\n",
       "      <td>Akakiko</td>\n",
       "      <td>Review 51 Similarity</td>\n",
       "      <td>0.507093</td>\n",
       "      <td>NaN</td>\n",
       "      <td>NaN</td>\n",
       "      <td>NaN</td>\n",
       "      <td>NaN</td>\n",
       "      <td>{'neg': 0.0, 'neu': 0.779, 'pos': 0.221, 'comp...</td>\n",
       "      <td>0.7003</td>\n",
       "      <td>pos</td>\n",
       "      <td>0.037608</td>\n",
       "      <td>0.227757</td>\n",
       "      <td>0.627657</td>\n",
       "      <td>0.106977</td>\n",
       "      <td>Topic 2</td>\n",
       "      <td>0.63</td>\n",
       "    </tr>\n",
       "    <tr>\n",
       "      <th>3</th>\n",
       "      <td>4</td>\n",
       "      <td>50</td>\n",
       "      <td>price taste maki_roll huge choice professional...</td>\n",
       "      <td>Akakiko</td>\n",
       "      <td>Review 68 Similarity</td>\n",
       "      <td>0.507093</td>\n",
       "      <td>NaN</td>\n",
       "      <td>NaN</td>\n",
       "      <td>NaN</td>\n",
       "      <td>NaN</td>\n",
       "      <td>{'neg': 0.0, 'neu': 0.766, 'pos': 0.234, 'comp...</td>\n",
       "      <td>0.6369</td>\n",
       "      <td>pos</td>\n",
       "      <td>0.041799</td>\n",
       "      <td>0.043782</td>\n",
       "      <td>0.673395</td>\n",
       "      <td>0.241023</td>\n",
       "      <td>Topic 2</td>\n",
       "      <td>0.67</td>\n",
       "    </tr>\n",
       "    <tr>\n",
       "      <th>4</th>\n",
       "      <td>5</td>\n",
       "      <td>40</td>\n",
       "      <td>eat almost month family always hospitality mod...</td>\n",
       "      <td>Akakiko</td>\n",
       "      <td>Review 87 Similarity</td>\n",
       "      <td>0.507093</td>\n",
       "      <td>NaN</td>\n",
       "      <td>NaN</td>\n",
       "      <td>NaN</td>\n",
       "      <td>NaN</td>\n",
       "      <td>{'neg': 0.051, 'neu': 0.773, 'pos': 0.176, 'co...</td>\n",
       "      <td>0.6169</td>\n",
       "      <td>pos</td>\n",
       "      <td>0.029234</td>\n",
       "      <td>0.036975</td>\n",
       "      <td>0.829904</td>\n",
       "      <td>0.103887</td>\n",
       "      <td>Topic 2</td>\n",
       "      <td>0.83</td>\n",
       "    </tr>\n",
       "    <tr>\n",
       "      <th>...</th>\n",
       "      <td>...</td>\n",
       "      <td>...</td>\n",
       "      <td>...</td>\n",
       "      <td>...</td>\n",
       "      <td>...</td>\n",
       "      <td>...</td>\n",
       "      <td>...</td>\n",
       "      <td>...</td>\n",
       "      <td>...</td>\n",
       "      <td>...</td>\n",
       "      <td>...</td>\n",
       "      <td>...</td>\n",
       "      <td>...</td>\n",
       "      <td>...</td>\n",
       "      <td>...</td>\n",
       "      <td>...</td>\n",
       "      <td>...</td>\n",
       "      <td>...</td>\n",
       "      <td>...</td>\n",
       "    </tr>\n",
       "    <tr>\n",
       "      <th>1224</th>\n",
       "      <td>1315</td>\n",
       "      <td>40</td>\n",
       "      <td>portion big order ball salad chip pie plate ta...</td>\n",
       "      <td>To Elliniko Ouzomezedopoleio</td>\n",
       "      <td>NaN</td>\n",
       "      <td>NaN</td>\n",
       "      <td>Review 6 Similarity</td>\n",
       "      <td>0.0</td>\n",
       "      <td>Review 198 Similarity</td>\n",
       "      <td>0.0</td>\n",
       "      <td>{'neg': 0.0, 'neu': 0.732, 'pos': 0.268, 'comp...</td>\n",
       "      <td>0.7650</td>\n",
       "      <td>pos</td>\n",
       "      <td>0.347400</td>\n",
       "      <td>0.047117</td>\n",
       "      <td>0.420598</td>\n",
       "      <td>0.184885</td>\n",
       "      <td>Topic 2</td>\n",
       "      <td>0.42</td>\n",
       "    </tr>\n",
       "    <tr>\n",
       "      <th>1225</th>\n",
       "      <td>1316</td>\n",
       "      <td>50</td>\n",
       "      <td>order exceptional atmosphere waiter friendly p...</td>\n",
       "      <td>To Elliniko Ouzomezedopoleio</td>\n",
       "      <td>NaN</td>\n",
       "      <td>NaN</td>\n",
       "      <td>Review 45 Similarity</td>\n",
       "      <td>0.0</td>\n",
       "      <td>Review 200 Similarity</td>\n",
       "      <td>0.0</td>\n",
       "      <td>{'neg': 0.0, 'neu': 0.565, 'pos': 0.435, 'comp...</td>\n",
       "      <td>0.8748</td>\n",
       "      <td>pos</td>\n",
       "      <td>0.053858</td>\n",
       "      <td>0.176063</td>\n",
       "      <td>0.454883</td>\n",
       "      <td>0.315196</td>\n",
       "      <td>Topic 2</td>\n",
       "      <td>0.45</td>\n",
       "    </tr>\n",
       "    <tr>\n",
       "      <th>1226</th>\n",
       "      <td>1317</td>\n",
       "      <td>50</td>\n",
       "      <td>unsusual decor modern touch old scrumptious wo...</td>\n",
       "      <td>To Elliniko Ouzomezedopoleio</td>\n",
       "      <td>NaN</td>\n",
       "      <td>NaN</td>\n",
       "      <td>Review 83 Similarity</td>\n",
       "      <td>0.0</td>\n",
       "      <td>Review 202 Similarity</td>\n",
       "      <td>0.0</td>\n",
       "      <td>{'neg': 0.027, 'neu': 0.893, 'pos': 0.079, 'co...</td>\n",
       "      <td>0.4635</td>\n",
       "      <td>pos</td>\n",
       "      <td>0.390480</td>\n",
       "      <td>0.071805</td>\n",
       "      <td>0.257346</td>\n",
       "      <td>0.280369</td>\n",
       "      <td>Topic 0</td>\n",
       "      <td>0.39</td>\n",
       "    </tr>\n",
       "    <tr>\n",
       "      <th>1227</th>\n",
       "      <td>1318</td>\n",
       "      <td>50</td>\n",
       "      <td>original plate cuisine immaculate small treasu...</td>\n",
       "      <td>To Elliniko Ouzomezedopoleio</td>\n",
       "      <td>NaN</td>\n",
       "      <td>NaN</td>\n",
       "      <td>Review 115 Similarity</td>\n",
       "      <td>0.0</td>\n",
       "      <td>Review 204 Similarity</td>\n",
       "      <td>0.0</td>\n",
       "      <td>{'neg': 0.035, 'neu': 0.755, 'pos': 0.21, 'com...</td>\n",
       "      <td>0.7992</td>\n",
       "      <td>pos</td>\n",
       "      <td>0.228496</td>\n",
       "      <td>0.085046</td>\n",
       "      <td>0.524719</td>\n",
       "      <td>0.161739</td>\n",
       "      <td>Topic 2</td>\n",
       "      <td>0.52</td>\n",
       "    </tr>\n",
       "    <tr>\n",
       "      <th>1228</th>\n",
       "      <td>1319</td>\n",
       "      <td>50</td>\n",
       "      <td>taste try calamari skewer mushroom pork salad ...</td>\n",
       "      <td>To Elliniko Ouzomezedopoleio</td>\n",
       "      <td>NaN</td>\n",
       "      <td>NaN</td>\n",
       "      <td>Review 129 Similarity</td>\n",
       "      <td>0.0</td>\n",
       "      <td>Review 205 Similarity</td>\n",
       "      <td>0.0</td>\n",
       "      <td>{'neg': 0.0, 'neu': 0.817, 'pos': 0.183, 'comp...</td>\n",
       "      <td>0.6435</td>\n",
       "      <td>pos</td>\n",
       "      <td>0.445862</td>\n",
       "      <td>0.113515</td>\n",
       "      <td>0.336905</td>\n",
       "      <td>0.103718</td>\n",
       "      <td>Topic 0</td>\n",
       "      <td>0.45</td>\n",
       "    </tr>\n",
       "  </tbody>\n",
       "</table>\n",
       "<p>1229 rows × 19 columns</p>\n",
       "</div>"
      ],
      "text/plain": [
       "      Unnamed: 0  r_points                                             r_text  \\\n",
       "0              1        50  excellent great atmosphere service cosy elegan...   \n",
       "1              2        50  visit night busy find table reservation staff ...   \n",
       "2              3        30  great place prepare sit wait service try reall...   \n",
       "3              4        50  price taste maki_roll huge choice professional...   \n",
       "4              5        40  eat almost month family always hospitality mod...   \n",
       "...          ...       ...                                                ...   \n",
       "1224        1315        40  portion big order ball salad chip pie plate ta...   \n",
       "1225        1316        50  order exceptional atmosphere waiter friendly p...   \n",
       "1226        1317        50  unsusual decor modern touch old scrumptious wo...   \n",
       "1227        1318        50  original plate cuisine immaculate small treasu...   \n",
       "1228        1319        50  taste try calamari skewer mushroom pork salad ...   \n",
       "\n",
       "                             place          No of review  cosine sim  \\\n",
       "0                          Akakiko   Review 1 Similarity    0.507093   \n",
       "1                          Akakiko  Review 48 Similarity    0.507093   \n",
       "2                          Akakiko  Review 51 Similarity    0.507093   \n",
       "3                          Akakiko  Review 68 Similarity    0.507093   \n",
       "4                          Akakiko  Review 87 Similarity    0.507093   \n",
       "...                            ...                   ...         ...   \n",
       "1224  To Elliniko Ouzomezedopoleio                   NaN         NaN   \n",
       "1225  To Elliniko Ouzomezedopoleio                   NaN         NaN   \n",
       "1226  To Elliniko Ouzomezedopoleio                   NaN         NaN   \n",
       "1227  To Elliniko Ouzomezedopoleio                   NaN         NaN   \n",
       "1228  To Elliniko Ouzomezedopoleio                   NaN         NaN   \n",
       "\n",
       "                 Unnamed: 3  Unnamed: 4             Unnamed: 5  Unnamed: 6  \\\n",
       "0                       NaN         NaN                    NaN         NaN   \n",
       "1                       NaN         NaN                    NaN         NaN   \n",
       "2                       NaN         NaN                    NaN         NaN   \n",
       "3                       NaN         NaN                    NaN         NaN   \n",
       "4                       NaN         NaN                    NaN         NaN   \n",
       "...                     ...         ...                    ...         ...   \n",
       "1224    Review 6 Similarity         0.0  Review 198 Similarity         0.0   \n",
       "1225   Review 45 Similarity         0.0  Review 200 Similarity         0.0   \n",
       "1226   Review 83 Similarity         0.0  Review 202 Similarity         0.0   \n",
       "1227  Review 115 Similarity         0.0  Review 204 Similarity         0.0   \n",
       "1228  Review 129 Similarity         0.0  Review 205 Similarity         0.0   \n",
       "\n",
       "                                                 scores  compound score  \\\n",
       "0     {'neg': 0.0, 'neu': 0.439, 'pos': 0.561, 'comp...    0.9097   pos   \n",
       "1     {'neg': 0.0, 'neu': 0.724, 'pos': 0.276, 'comp...    0.8923   pos   \n",
       "2     {'neg': 0.0, 'neu': 0.779, 'pos': 0.221, 'comp...    0.7003   pos   \n",
       "3     {'neg': 0.0, 'neu': 0.766, 'pos': 0.234, 'comp...    0.6369   pos   \n",
       "4     {'neg': 0.051, 'neu': 0.773, 'pos': 0.176, 'co...    0.6169   pos   \n",
       "...                                                 ...       ...   ...   \n",
       "1224  {'neg': 0.0, 'neu': 0.732, 'pos': 0.268, 'comp...    0.7650   pos   \n",
       "1225  {'neg': 0.0, 'neu': 0.565, 'pos': 0.435, 'comp...    0.8748   pos   \n",
       "1226  {'neg': 0.027, 'neu': 0.893, 'pos': 0.079, 'co...    0.4635   pos   \n",
       "1227  {'neg': 0.035, 'neu': 0.755, 'pos': 0.21, 'com...    0.7992   pos   \n",
       "1228  {'neg': 0.0, 'neu': 0.817, 'pos': 0.183, 'comp...    0.6435   pos   \n",
       "\n",
       "       Topic_0   Topic_1   Topic_2   Topic_3 Dominant_Topic  \\\n",
       "0     0.164340  0.046593  0.691895  0.097172        Topic 2   \n",
       "1     0.030732  0.070655  0.735807  0.162806        Topic 2   \n",
       "2     0.037608  0.227757  0.627657  0.106977        Topic 2   \n",
       "3     0.041799  0.043782  0.673395  0.241023        Topic 2   \n",
       "4     0.029234  0.036975  0.829904  0.103887        Topic 2   \n",
       "...        ...       ...       ...       ...            ...   \n",
       "1224  0.347400  0.047117  0.420598  0.184885        Topic 2   \n",
       "1225  0.053858  0.176063  0.454883  0.315196        Topic 2   \n",
       "1226  0.390480  0.071805  0.257346  0.280369        Topic 0   \n",
       "1227  0.228496  0.085046  0.524719  0.161739        Topic 2   \n",
       "1228  0.445862  0.113515  0.336905  0.103718        Topic 0   \n",
       "\n",
       "      Perc_Dominant_Topic  \n",
       "0                    0.69  \n",
       "1                    0.74  \n",
       "2                    0.63  \n",
       "3                    0.67  \n",
       "4                    0.83  \n",
       "...                   ...  \n",
       "1224                 0.42  \n",
       "1225                 0.45  \n",
       "1226                 0.39  \n",
       "1227                 0.52  \n",
       "1228                 0.45  \n",
       "\n",
       "[1229 rows x 19 columns]"
      ]
     },
     "execution_count": 7,
     "metadata": {},
     "output_type": "execute_result"
    }
   ],
   "source": [
    "apply_lda_pos"
   ]
  },
  {
   "cell_type": "code",
   "execution_count": 8,
   "metadata": {},
   "outputs": [
    {
     "data": {
      "application/vnd.jupyter.widget-view+json": {
       "model_id": "8c31e9ab762744b8a2546a782c793fba",
       "version_major": 2,
       "version_minor": 0
      },
      "text/plain": [
       "interactive(children=(ToggleButtons(description='Plot Type:', icons=('',), options=(('Frequency Plot', 'freque…"
      ]
     },
     "metadata": {},
     "output_type": "display_data"
    }
   ],
   "source": [
    "evaluate_model(lda_pos_custom)"
   ]
  },
  {
   "cell_type": "code",
   "execution_count": 9,
   "metadata": {},
   "outputs": [
    {
     "data": {
      "text/html": [
       "        <script type=\"text/javascript\">\n",
       "        window.PlotlyConfig = {MathJaxConfig: 'local'};\n",
       "        if (window.MathJax) {MathJax.Hub.Config({SVG: {font: \"STIX-Web\"}});}\n",
       "        if (typeof require !== 'undefined') {\n",
       "        require.undef(\"plotly\");\n",
       "        requirejs.config({\n",
       "            paths: {\n",
       "                'plotly': ['https://cdn.plot.ly/plotly-latest.min']\n",
       "            }\n",
       "        });\n",
       "        require(['plotly'], function(Plotly) {\n",
       "            window._Plotly = Plotly;\n",
       "        });\n",
       "        }\n",
       "        </script>\n",
       "        "
      ]
     },
     "metadata": {},
     "output_type": "display_data"
    },
    {
     "data": {
      "text/html": [
       "\n",
       "<link rel=\"stylesheet\" type=\"text/css\" href=\"https://cdn.rawgit.com/bmabey/pyLDAvis/files/ldavis.v1.0.0.css\">\n",
       "\n",
       "\n",
       "<div id=\"ldavis_el28781628146954170329872174866\"></div>\n",
       "<script type=\"text/javascript\">\n",
       "\n",
       "var ldavis_el28781628146954170329872174866_data = {\"mdsDat\": {\"x\": [-0.2510227406964252, -0.14549795842584437, 0.15585641446926024, 0.24066428465300937], \"y\": [-0.1505149602336461, 0.21573618908837489, -0.2056517445309899, 0.1404305156762611], \"topics\": [1, 2, 3, 4], \"cluster\": [1, 1, 1, 1], \"Freq\": [54.112159729003906, 22.271774291992188, 15.114816665649414, 8.501251220703125]}, \"tinfo\": {\"Term\": [\"stay\", \"friendly\", \"staff\", \"dish\", \"service\", \"taste\", \"salad\", \"great\", \"excellent\", \"order\", \"helpful\", \"time\", \"visit\", \"area\", \"main\", \"place\", \"plate\", \"well\", \"quality\", \"waiter\", \"tasty\", \"expect\", \"ask\", \"try\", \"breakfast\", \"italian\", \"really\", \"delicious\", \"cook\", \"different\", \"great\", \"service\", \"visit\", \"quality\", \"greek\", \"time\", \"atmosphere\", \"business\", \"recommend\", \"pool\", \"amazing\", \"clean\", \"always\", \"friend\", \"lunch\", \"back\", \"definitely\", \"family\", \"traditional\", \"excellent\", \"professional\", \"experience\", \"first\", \"high\", \"quite\", \"people\", \"last\", \"feel\", \"place\", \"variety\", \"really\", \"enjoy\", \"dinner\", \"big\", \"find\", \"go\", \"try\", \"dish\", \"well\", \"also\", \"make\", \"come\", \"staff\", \"menu\", \"price\", \"stay\", \"helpful\", \"main\", \"different\", \"average\", \"close\", \"nicosia\", \"choose\", \"extremely\", \"set\", \"reasonable\", \"group\", \"change\", \"decor\", \"expensive\", \"attentive\", \"plenty\", \"efficient\", \"probably\", \"quiet\", \"exceptional\", \"decorate\", \"whole\", \"wide\", \"value\", \"perfectly\", \"suggest\", \"compare\", \"speak\", \"word\", \"friendly\", \"ball\", \"wrong\", \"modern\", \"bed\", \"staff\", \"welcome\", \"breakfast\", \"choice\", \"large\", \"need\", \"polite\", \"portion\", \"well\", \"bit\", \"small\", \"lovely\", \"starter\", \"price\", \"order\", \"dessert\", \"meal\", \"area\", \"waiter\", \"ask\", \"kitchen\", \"seat\", \"hilton_park\", \"crowd\", \"rather\", \"nearby\", \"dry\", \"mention\", \"fact\", \"tasteless\", \"guy\", \"result\", \"smell\", \"glass\", \"beef\", \"bill\", \"receive\", \"interior_design\", \"conference\", \"tell\", \"medium\", \"hard\", \"section\", \"prepare\", \"calamari\", \"notice\", \"third\", \"remind\", \"name\", \"cold\", \"share\", \"expect\", \"table\", \"several\", \"arrive\", \"leave\", \"order\", \"give\", \"absolutely\", \"look\", \"get\", \"know\", \"evening\", \"hot\", \"parking\", \"however\", \"say\", \"serve\", \"pay\", \"take\", \"italian\", \"chicken\", \"burger\", \"environment\", \"fry\", \"sauce\", \"steak\", \"mushroom\", \"jamie_italian\", \"pork\", \"old\", \"chip\", \"general\", \"child\", \"appetizer\", \"decide\", \"grill\", \"cook\", \"unique\", \"quantity\", \"personnel\", \"salad\", \"chop\", \"souvlaki\", \"garlic_bread\", \"oil\", \"improve\", \"kid\", \"twice\", \"noisy\", \"chef\", \"pasta\", \"taste\", \"cheese\", \"dish\", \"order\", \"plate\", \"tasty\", \"meat\", \"starter\", \"bit\", \"delicious\", \"try\"], \"Freq\": [310.0, 305.0, 566.0, 326.0, 472.0, 165.0, 106.0, 392.0, 422.0, 180.0, 120.0, 319.0, 303.0, 85.0, 102.0, 269.0, 88.0, 384.0, 222.0, 67.0, 119.0, 83.0, 62.0, 171.0, 117.0, 44.0, 231.0, 136.0, 44.0, 72.0, 391.6249694824219, 471.51824951171875, 302.2327575683594, 221.94244384765625, 185.3601531982422, 317.769287109375, 154.31719970703125, 146.7581329345703, 150.52206420898438, 142.29168701171875, 131.6474609375, 129.95216369628906, 125.24919128417969, 129.97079467773438, 123.27946472167969, 119.2398681640625, 111.39007568359375, 106.15438079833984, 106.68231201171875, 419.43524169921875, 93.9234390258789, 137.1352996826172, 93.50811767578125, 87.8726806640625, 90.47838592529297, 86.07939147949219, 85.61685180664062, 82.55101776123047, 267.62640380859375, 82.85222625732422, 227.16612243652344, 127.24163818359375, 113.52593231201172, 103.25209045410156, 108.9625244140625, 262.9607238769531, 151.25328063964844, 244.59225463867188, 272.9908142089844, 170.32781982421875, 145.4347686767578, 125.89250946044922, 241.4522705078125, 118.18167114257812, 120.16223907470703, 310.02618408203125, 119.82101440429688, 102.0510025024414, 71.74298095703125, 69.30748748779297, 53.638816833496094, 45.2653694152832, 49.553627014160156, 43.15553665161133, 37.76919174194336, 36.947296142578125, 39.325706481933594, 37.24882507324219, 38.81072235107422, 69.38050079345703, 38.968116760253906, 32.6856803894043, 32.83491134643555, 33.705135345458984, 29.572847366333008, 29.124589920043945, 28.615625381469727, 27.148143768310547, 26.27654266357422, 25.873008728027344, 24.475873947143555, 23.212568283081055, 23.880390167236328, 21.029985427856445, 22.950550079345703, 293.6623229980469, 26.691560745239258, 24.324602127075195, 59.82344055175781, 39.944793701171875, 324.964599609375, 48.10691452026367, 84.65602111816406, 69.71041870117188, 61.799259185791016, 69.6534423828125, 54.1005744934082, 69.61116790771484, 111.17340087890625, 44.888824462890625, 61.51375961303711, 54.194435119628906, 46.55754089355469, 57.629676818847656, 45.538360595703125, 41.25038528442383, 41.4877815246582, 85.22789764404297, 66.43123626708984, 61.496925354003906, 46.01605224609375, 39.931339263916016, 48.237388610839844, 27.26704978942871, 25.689510345458984, 23.813430786132812, 24.007448196411133, 20.97147560119629, 21.677858352661133, 22.43265724182129, 22.099151611328125, 19.134584426879883, 19.670989990234375, 19.718746185302734, 18.40252685546875, 17.326583862304688, 16.103084564208984, 17.632797241210938, 15.35940170288086, 14.761648178100586, 15.197911262512207, 14.718029022216797, 15.346508026123047, 14.646739959716797, 18.242158889770508, 13.655376434326172, 16.51900863647461, 15.000540733337402, 26.880643844604492, 41.12718963623047, 25.16111183166504, 65.81977081298828, 51.16007614135742, 21.5363826751709, 41.66493225097656, 36.273040771484375, 83.89529418945312, 41.58761978149414, 21.441478729248047, 39.3917350769043, 47.28111267089844, 32.716644287109375, 27.56810760498047, 27.774171829223633, 28.33273696899414, 28.27303695678711, 27.810317993164062, 28.751537322998047, 24.262542724609375, 23.864675521850586, 43.57378387451172, 39.95439529418945, 30.960926055908203, 30.895687103271484, 27.846193313598633, 27.116985321044922, 31.882469177246094, 23.19677734375, 22.726163864135742, 20.91036033630371, 20.80876922607422, 19.515714645385742, 19.56364631652832, 18.3626708984375, 18.831893920898438, 17.59562873840332, 17.559431076049805, 41.88520812988281, 15.213722229003906, 14.664176940917969, 15.11746883392334, 100.5216064453125, 12.983488082885742, 12.65852165222168, 13.618573188781738, 11.227267265319824, 10.861385345458984, 31.60633659362793, 10.461495399475098, 10.960413932800293, 21.86258316040039, 28.107677459716797, 60.459510803222656, 27.195358276367188, 67.29251861572266, 45.57496643066406, 31.740100860595703, 31.21234893798828, 25.341320037841797, 25.773645401000977, 19.232669830322266, 18.768657684326172, 18.743371963500977], \"Total\": [310.0, 305.0, 566.0, 326.0, 472.0, 165.0, 106.0, 392.0, 422.0, 180.0, 120.0, 319.0, 303.0, 85.0, 102.0, 269.0, 88.0, 384.0, 222.0, 67.0, 119.0, 83.0, 62.0, 171.0, 117.0, 44.0, 231.0, 136.0, 44.0, 72.0, 392.32861328125, 472.4506530761719, 303.0664978027344, 222.66046142578125, 186.1063232421875, 319.1204528808594, 155.03598022460938, 147.45626831054688, 151.26974487304688, 143.0113525390625, 132.3468475341797, 130.6576690673828, 125.94622039794922, 130.70770263671875, 124.00390625, 119.95280456542969, 112.10399627685547, 106.87147521972656, 107.44507598876953, 422.461669921875, 94.62776947021484, 138.18565368652344, 94.22608947753906, 88.57884979248047, 91.20999908447266, 86.78971099853516, 86.34735107421875, 83.25582885742188, 269.9335021972656, 83.5957260131836, 231.2184600830078, 129.3426971435547, 116.53093719482422, 105.79322814941406, 112.41809844970703, 302.1482238769531, 171.75091552734375, 326.71514892578125, 384.66448974609375, 205.5812530517578, 190.6216583251953, 148.20693969726562, 566.8348999023438, 151.52218627929688, 178.22520446777344, 310.72186279296875, 120.52278900146484, 102.84383392333984, 72.50534057617188, 70.09403228759766, 54.34918975830078, 45.97551345825195, 50.38478088378906, 43.884742736816406, 38.5150032043457, 37.68574905395508, 40.124969482421875, 38.009857177734375, 39.61930847167969, 70.85457611083984, 39.79948806762695, 33.4027099609375, 33.55616760253906, 34.481788635253906, 30.306289672851562, 29.85529327392578, 29.359596252441406, 27.87872314453125, 26.99862289428711, 26.599239349365234, 25.227943420410156, 23.944957733154297, 24.638568878173828, 21.760644912719727, 23.759742736816406, 305.9863586425781, 27.693675994873047, 25.203739166259766, 69.83170318603516, 44.21065139770508, 566.8348999023438, 57.76417541503906, 117.2641830444336, 97.343017578125, 87.28449249267578, 109.47335815429688, 85.84637451171875, 142.05438232421875, 384.66448974609375, 64.66685485839844, 128.279296875, 106.61124420166016, 75.93379974365234, 178.22520446777344, 180.9535369873047, 96.25508117675781, 108.34122467041016, 85.99279022216797, 67.20098876953125, 62.30836486816406, 46.847312927246094, 40.73915481567383, 49.3679313659668, 28.068334579467773, 26.45000648498535, 24.565397262573242, 24.78483009338379, 21.728116989135742, 22.467952728271484, 23.255125045776367, 22.914249420166016, 19.87926483154297, 20.445846557617188, 20.51963996887207, 19.169160842895508, 18.056808471679688, 16.841537475585938, 18.4466609954834, 16.109737396240234, 15.499403953552246, 15.960816383361816, 15.46804428100586, 16.13681411743164, 15.424489974975586, 19.215009689331055, 14.394003868103027, 17.436079025268555, 15.88233757019043, 29.447614669799805, 46.849544525146484, 28.242170333862305, 83.3675765991211, 65.43342590332031, 23.940942764282227, 52.185462951660156, 45.87079620361328, 180.9535369873047, 79.02494049072266, 25.948959350585938, 77.84620666503906, 115.35484313964844, 58.787620544433594, 42.52033996582031, 44.171478271484375, 58.223636627197266, 74.3714599609375, 102.25709533691406, 147.3163299560547, 54.44581604003906, 80.82754516601562, 44.41542053222656, 40.81485366821289, 31.784156799316406, 31.787137985229492, 28.67582130432129, 27.933704376220703, 32.9345703125, 24.047880172729492, 23.60406494140625, 21.790939331054688, 21.691146850585938, 20.343589782714844, 20.469127655029297, 19.215051651000977, 19.722679138183594, 18.466550827026367, 18.491085052490234, 44.21812438964844, 16.075193405151367, 15.52871322631836, 16.027671813964844, 106.78516387939453, 13.816888809204102, 13.526777267456055, 14.553805351257324, 12.07226276397705, 11.725046157836914, 34.1968879699707, 11.341717720031738, 11.895219802856445, 23.81863021850586, 50.168636322021484, 165.55825805664062, 52.358612060546875, 326.71514892578125, 180.9535369873047, 88.35809326171875, 119.44928741455078, 71.77394104003906, 75.93379974365234, 64.66685485839844, 136.40695190429688, 171.75091552734375], \"Category\": [\"Default\", \"Default\", \"Default\", \"Default\", \"Default\", \"Default\", \"Default\", \"Default\", \"Default\", \"Default\", \"Default\", \"Default\", \"Default\", \"Default\", \"Default\", \"Default\", \"Default\", \"Default\", \"Default\", \"Default\", \"Default\", \"Default\", \"Default\", \"Default\", \"Default\", \"Default\", \"Default\", \"Default\", \"Default\", \"Default\", \"Topic1\", \"Topic1\", \"Topic1\", \"Topic1\", \"Topic1\", \"Topic1\", \"Topic1\", \"Topic1\", \"Topic1\", \"Topic1\", \"Topic1\", \"Topic1\", \"Topic1\", \"Topic1\", \"Topic1\", \"Topic1\", \"Topic1\", \"Topic1\", \"Topic1\", \"Topic1\", \"Topic1\", \"Topic1\", \"Topic1\", \"Topic1\", \"Topic1\", \"Topic1\", \"Topic1\", \"Topic1\", \"Topic1\", \"Topic1\", \"Topic1\", \"Topic1\", \"Topic1\", \"Topic1\", \"Topic1\", \"Topic1\", \"Topic1\", \"Topic1\", \"Topic1\", \"Topic1\", \"Topic1\", \"Topic1\", \"Topic1\", \"Topic1\", \"Topic1\", \"Topic2\", \"Topic2\", \"Topic2\", \"Topic2\", \"Topic2\", \"Topic2\", \"Topic2\", \"Topic2\", \"Topic2\", \"Topic2\", \"Topic2\", \"Topic2\", \"Topic2\", \"Topic2\", \"Topic2\", \"Topic2\", \"Topic2\", \"Topic2\", \"Topic2\", \"Topic2\", \"Topic2\", \"Topic2\", \"Topic2\", \"Topic2\", \"Topic2\", \"Topic2\", \"Topic2\", \"Topic2\", \"Topic2\", \"Topic2\", \"Topic2\", \"Topic2\", \"Topic2\", \"Topic2\", \"Topic2\", \"Topic2\", \"Topic2\", \"Topic2\", \"Topic2\", \"Topic2\", \"Topic2\", \"Topic2\", \"Topic2\", \"Topic2\", \"Topic2\", \"Topic2\", \"Topic2\", \"Topic2\", \"Topic2\", \"Topic2\", \"Topic2\", \"Topic2\", \"Topic3\", \"Topic3\", \"Topic3\", \"Topic3\", \"Topic3\", \"Topic3\", \"Topic3\", \"Topic3\", \"Topic3\", \"Topic3\", \"Topic3\", \"Topic3\", \"Topic3\", \"Topic3\", \"Topic3\", \"Topic3\", \"Topic3\", \"Topic3\", \"Topic3\", \"Topic3\", \"Topic3\", \"Topic3\", \"Topic3\", \"Topic3\", \"Topic3\", \"Topic3\", \"Topic3\", \"Topic3\", \"Topic3\", \"Topic3\", \"Topic3\", \"Topic3\", \"Topic3\", \"Topic3\", \"Topic3\", \"Topic3\", \"Topic3\", \"Topic3\", \"Topic3\", \"Topic3\", \"Topic3\", \"Topic3\", \"Topic3\", \"Topic3\", \"Topic3\", \"Topic3\", \"Topic3\", \"Topic3\", \"Topic3\", \"Topic3\", \"Topic3\", \"Topic3\", \"Topic3\", \"Topic4\", \"Topic4\", \"Topic4\", \"Topic4\", \"Topic4\", \"Topic4\", \"Topic4\", \"Topic4\", \"Topic4\", \"Topic4\", \"Topic4\", \"Topic4\", \"Topic4\", \"Topic4\", \"Topic4\", \"Topic4\", \"Topic4\", \"Topic4\", \"Topic4\", \"Topic4\", \"Topic4\", \"Topic4\", \"Topic4\", \"Topic4\", \"Topic4\", \"Topic4\", \"Topic4\", \"Topic4\", \"Topic4\", \"Topic4\", \"Topic4\", \"Topic4\", \"Topic4\", \"Topic4\", \"Topic4\", \"Topic4\", \"Topic4\", \"Topic4\", \"Topic4\", \"Topic4\", \"Topic4\", \"Topic4\", \"Topic4\"], \"logprob\": [30.0, 29.0, 28.0, 27.0, 26.0, 25.0, 24.0, 23.0, 22.0, 21.0, 20.0, 19.0, 18.0, 17.0, 16.0, 15.0, 14.0, 13.0, 12.0, 11.0, 10.0, 9.0, 8.0, 7.0, 6.0, 5.0, 4.0, 3.0, 2.0, 1.0, -3.8949999809265137, -3.7093000411987305, -4.154099941253662, -4.462900161743164, -4.64300012588501, -4.104000091552734, -4.826300144195557, -4.876500129699707, -4.851200103759766, -4.907400131225586, -4.985199928283691, -4.9980998039245605, -5.034999847412109, -4.998000144958496, -5.05079984664917, -5.084099769592285, -5.152200222015381, -5.200399875640869, -5.195400238037109, -3.8264000415802, -5.322800159454346, -4.944300174713135, -5.327199935913086, -5.389400005340576, -5.360199928283691, -5.409999847412109, -5.41540002822876, -5.451900005340576, -4.275700092315674, -5.448200225830078, -4.439599990844727, -5.019199848175049, -5.133299827575684, -5.228099822998047, -5.174300193786621, -4.293300151824951, -4.84630012512207, -4.365699768066406, -4.255799770355225, -4.72760009765625, -4.8856000900268555, -5.029900074005127, -4.378600120544434, -5.093100070953369, -5.076399803161621, -3.2409000396728516, -4.191500186920166, -4.352099895477295, -4.704500198364258, -4.738999843597412, -4.995299816131592, -5.164999961853027, -5.07450008392334, -5.212699890136719, -5.346099853515625, -5.368100166320801, -5.305699825286865, -5.359899997711182, -5.318900108337402, -4.7378997802734375, -5.314799785614014, -5.490600109100342, -5.486100196838379, -5.45989990234375, -5.590700149536133, -5.605999946594238, -5.623600006103516, -5.676199913024902, -5.708899974822998, -5.724299907684326, -5.779900074005127, -5.832900047302246, -5.804500102996826, -5.931600093841553, -5.844200134277344, -3.295099973678589, -5.69320011138916, -5.786099910736084, -4.886199951171875, -5.289999961853027, -3.1937999725341797, -5.104100227355957, -4.539000034332275, -4.7332000732421875, -4.853700160980225, -4.734000205993652, -4.986700057983398, -4.734600067138672, -4.266499996185303, -5.173399925231934, -4.85830020904541, -4.985000133514404, -5.136899948120117, -4.923500061035156, -5.158999919891357, -5.257900238037109, -5.252099990844727, -4.144599914550781, -4.393700122833252, -4.470900058746338, -4.760900020599365, -4.902699947357178, -4.713799953460693, -5.284200191497803, -5.343800067901611, -5.4197001457214355, -5.411499977111816, -5.5467000007629395, -5.513599872589111, -5.479400157928467, -5.4944000244140625, -5.638400077819824, -5.610799789428711, -5.60830020904541, -5.6774001121521, -5.73769998550415, -5.8109002113342285, -5.720099925994873, -5.8582000732421875, -5.897900104522705, -5.86870002746582, -5.9008002281188965, -5.859000205993652, -5.905700206756592, -5.686200141906738, -5.975800037384033, -5.785399913787842, -5.881800174713135, -5.298500061035156, -4.873199939727783, -5.36460018157959, -4.4029998779296875, -4.654900074005127, -5.520199775695801, -4.860199928283691, -4.998799800872803, -4.160299777984619, -4.862100124359131, -5.524600028991699, -4.916299819946289, -4.733799934387207, -5.1020002365112305, -5.273200035095215, -5.2657999992370605, -5.2459001541137695, -5.248000144958496, -5.264500141143799, -5.231200218200684, -5.401000022888184, -5.417500019073486, -4.239999771118164, -4.326700210571289, -4.581699848175049, -4.583799839019775, -4.687699794769287, -4.714300155639648, -4.5524001121521, -4.8703999519348145, -4.890900135040283, -4.9741997718811035, -4.979100227355957, -5.0432000160217285, -5.040800094604492, -5.104100227355957, -5.07889986038208, -5.1468000411987305, -5.148799896240234, -4.2795000076293945, -5.292200088500977, -5.328999996185303, -5.298600196838379, -3.404099941253662, -5.450799942016602, -5.476099967956543, -5.4029998779296875, -5.596099853515625, -5.629199981689453, -4.561100006103516, -5.6666998863220215, -5.620200157165527, -4.929699897766113, -4.678400039672852, -3.9124999046325684, -4.711400032043457, -3.8053998947143555, -4.195099830627441, -4.5569000244140625, -4.573599815368652, -4.7820000648498535, -4.765100002288818, -5.057799816131592, -5.082300186157227, -5.083600044250488], \"loglift\": [30.0, 29.0, 28.0, 27.0, 26.0, 25.0, 24.0, 23.0, 22.0, 21.0, 20.0, 19.0, 18.0, 17.0, 16.0, 15.0, 14.0, 13.0, 12.0, 11.0, 10.0, 9.0, 8.0, 7.0, 6.0, 5.0, 4.0, 3.0, 2.0, 1.0, 0.6122999787330627, 0.6121000051498413, 0.6114000082015991, 0.6108999848365784, 0.6100999712944031, 0.6098999977111816, 0.609499990940094, 0.6093999743461609, 0.6092000007629395, 0.6090999841690063, 0.6087999939918518, 0.6086999773979187, 0.6086000204086304, 0.6085000038146973, 0.608299970626831, 0.6082000136375427, 0.607699990272522, 0.6074000000953674, 0.6069999933242798, 0.6068999767303467, 0.6065999865531921, 0.6065000295639038, 0.6065000295639038, 0.6061000227928162, 0.6061000227928162, 0.60589998960495, 0.6055999994277954, 0.6055999994277954, 0.6054999828338623, 0.6051999926567078, 0.5964000225067139, 0.5976999998092651, 0.5879999995231628, 0.5898000001907349, 0.5828999876976013, 0.47519999742507935, 0.4869999885559082, 0.3246000111103058, 0.2712000012397766, 0.4259999990463257, 0.3434999883174896, 0.45089998841285706, -0.23929999768733978, 0.36559998989105225, 0.2198999971151352, 1.4996000528335571, 1.496000051498413, 1.4940999746322632, 1.4912999868392944, 1.4905999898910522, 1.488700032234192, 1.486299991607666, 1.485200047492981, 1.4851000308990479, 1.482300043106079, 1.482100009918213, 1.4816999435424805, 1.481600046157837, 1.4811999797821045, 1.4808000326156616, 1.4807000160217285, 1.4802000522613525, 1.4801000356674194, 1.479099988937378, 1.4773999452590942, 1.4771000146865845, 1.476199984550476, 1.4752999544143677, 1.4746999740600586, 1.4742000102996826, 1.47160005569458, 1.4708000421524048, 1.4706000089645386, 1.4677000045776367, 1.4672000408172607, 1.4607000350952148, 1.465000033378601, 1.4663000106811523, 1.3472000360488892, 1.4004000425338745, 0.9455000162124634, 1.3188999891281128, 1.1759999990463257, 1.1679999828338623, 1.156599998474121, 1.0497000217437744, 1.0400999784469604, 0.7886000275611877, 0.2606000006198883, 1.1368000507354736, 0.7669000029563904, 0.8252000212669373, 1.0126999616622925, 0.37279999256134033, 0.12219999730587006, 0.6545000076293945, 0.5419999957084656, 1.8805999755859375, 1.878000020980835, 1.8763999938964844, 1.8716000318527222, 1.8695000410079956, 1.8662999868392944, 1.8604999780654907, 1.8602999448776245, 1.8583999872207642, 1.8575999736785889, 1.854099988937378, 1.853700041770935, 1.8535000085830688, 1.8532999753952026, 1.8513000011444092, 1.8509000539779663, 1.8496999740600586, 1.8487000465393066, 1.8481999635696411, 1.8446999788284302, 1.8444000482559204, 1.8417999744415283, 1.8407000303268433, 1.840499997138977, 1.8398000001907349, 1.8393000364303589, 1.8378000259399414, 1.837499976158142, 1.8367999792099, 1.8355000019073486, 1.8323999643325806, 1.79830002784729, 1.7591999769210815, 1.7740000486373901, 1.6532000303268433, 1.643399953842163, 1.7835999727249146, 1.6643999814987183, 1.6547000408172607, 1.1208000183105469, 1.247499942779541, 1.698699951171875, 1.208299994468689, 0.9976000189781189, 1.3034000396728516, 1.4562000036239624, 1.4255000352859497, 1.1691999435424805, 0.9222999811172485, 0.5874000191688538, 0.2556000053882599, 1.0812000036239624, 0.6696000099182129, 2.4458000659942627, 2.4435999393463135, 2.438699960708618, 2.436500072479248, 2.4356000423431396, 2.43530011177063, 2.432499885559082, 2.4289000034332275, 2.4270999431610107, 2.4237000942230225, 2.4233999252319336, 2.4233999252319336, 2.4196999073028564, 2.419600009918213, 2.4186999797821045, 2.416599988937378, 2.413300037384033, 2.410799980163574, 2.409899950027466, 2.4077000617980957, 2.4065001010894775, 2.4045000076293945, 2.4026999473571777, 2.3986001014709473, 2.3984999656677246, 2.392400026321411, 2.388400077819824, 2.386199951171875, 2.384200096130371, 2.3831000328063965, 2.379300117492676, 1.885599970817566, 1.4575999975204468, 1.8099000453948975, 0.8848999738693237, 1.0860999822616577, 1.441100001335144, 1.1229000091552734, 1.4239000082015991, 1.3844000101089478, 1.2523000240325928, 0.4814999997615814, 0.24979999661445618]}, \"token.table\": {\"Topic\": [2, 3, 1, 2, 3, 1, 1, 4, 3, 1, 3, 3, 1, 2, 2, 1, 2, 1, 2, 3, 3, 1, 4, 3, 2, 4, 1, 2, 4, 1, 3, 2, 2, 4, 1, 4, 4, 4, 4, 1, 2, 2, 4, 1, 2, 2, 3, 1, 2, 2, 3, 2, 4, 3, 4, 2, 2, 1, 1, 2, 4, 1, 2, 3, 2, 1, 2, 1, 2, 3, 4, 3, 2, 1, 2, 4, 1, 3, 1, 2, 2, 2, 3, 2, 4, 1, 3, 2, 3, 1, 1, 1, 3, 1, 1, 1, 2, 4, 4, 4, 1, 2, 3, 1, 3, 4, 3, 1, 2, 1, 1, 4, 2, 3, 3, 2, 1, 1, 3, 1, 2, 3, 1, 2, 3, 4, 3, 4, 4, 1, 4, 3, 1, 3, 1, 2, 1, 2, 3, 1, 3, 1, 2, 1, 2, 1, 2, 3, 1, 2, 1, 3, 4, 3, 3, 1, 2, 3, 1, 2, 4, 1, 3, 3, 1, 2, 2, 4, 3, 4, 4, 1, 2, 3, 4, 2, 3, 3, 4, 2, 3, 1, 2, 4, 1, 2, 1, 4, 2, 1, 2, 1, 4, 1, 2, 4, 3, 1, 2, 2, 1, 1, 4, 2, 1, 3, 1, 2, 2, 3, 1, 3, 3, 1, 2, 3, 4, 4, 1, 3, 3, 3, 1, 2, 3, 1, 2, 2, 1, 3, 2, 3, 1, 2, 3, 4, 2, 1, 2, 2, 3, 4, 2, 4, 2, 2, 3, 1, 3, 1, 4, 3, 1, 2, 4, 3, 3, 1, 2, 1, 1, 2, 3, 4, 4, 4, 2, 1, 1, 3, 1, 2, 1, 2, 2, 2, 2, 2], \"Freq\": [0.15414875745773315, 0.8092809915542603, 0.826923668384552, 0.16538472473621368, 0.009728513658046722, 0.9924871325492859, 0.9973792433738708, 0.9633579850196838, 0.9884549379348755, 0.1916242390871048, 0.8048218488693237, 0.9790017604827881, 0.9933177828788757, 0.9799121022224426, 0.9843919277191162, 0.9920568466186523, 0.9749518036842346, 0.06785695254802704, 0.9047593474388123, 0.022618982940912247, 0.9390082359313965, 0.9735972881317139, 0.018904801458120346, 0.941473126411438, 0.6958742737770081, 0.2938135862350464, 0.27288809418678284, 0.7248589992523193, 0.9753286838531494, 0.9969057440757751, 0.9367676973342896, 0.9734317064285278, 0.4774763584136963, 0.5156744718551636, 0.041983943432569504, 0.9236467480659485, 0.9800353646278381, 0.9367656111717224, 0.9831106662750244, 0.2773696780204773, 0.7191065549850464, 0.9923631548881531, 0.9408774971961975, 0.994966447353363, 0.9935750961303711, 0.10672461986541748, 0.8751419186592102, 0.8501626253128052, 0.14844109117984772, 0.9740825295448303, 0.9311138987541199, 0.04523032158613205, 0.9498367309570312, 0.9619380831718445, 0.9747353792190552, 0.9843685030937195, 0.9877520203590393, 0.9901520609855652, 0.8430655598640442, 0.014662009663879871, 0.13928908109664917, 0.4675077795982361, 0.4259515404701233, 0.10389062017202377, 0.993030309677124, 0.9782809615135193, 0.025744237005710602, 0.7498887181282043, 0.006121540442109108, 0.03672924265265465, 0.2050715982913971, 0.9683342576026917, 0.9834257960319519, 0.981887698173523, 0.015462798066437244, 0.9752371907234192, 0.3292541801929474, 0.6585083603858948, 0.9918059706687927, 0.0071012359112501144, 0.9713520407676697, 0.20391620695590973, 0.7916746735572815, 0.9738255739212036, 0.014113414101302624, 0.9914198517799377, 0.007236641366034746, 0.9798393845558167, 0.97917240858078, 0.9918455481529236, 0.9969272017478943, 0.9695947766304016, 0.02668609470129013, 0.9976005554199219, 0.9945856332778931, 0.03921743482351303, 0.9608271718025208, 0.9764323830604553, 0.9619477391242981, 0.9770811796188354, 0.5548098087310791, 0.034675613045692444, 0.4074384570121765, 0.43024390935897827, 0.5314778089523315, 0.03796269744634628, 0.9746759533882141, 0.8704336881637573, 0.12907572090625763, 0.9991623759269714, 0.994055449962616, 0.9734420776367188, 0.9719633460044861, 0.9601012468338013, 0.9697412252426147, 0.9956623315811157, 0.9934651255607605, 0.02025606483221054, 0.972291111946106, 0.27166852355003357, 0.09055617451667786, 0.6338931918144226, 0.5647327899932861, 0.053784072399139404, 0.37648850679397583, 0.938162624835968, 0.9757863283157349, 0.9906469583511353, 0.9744084477424622, 0.05848485231399536, 0.9357576370239258, 0.9819133281707764, 0.4422699809074402, 0.5613426566123962, 0.28641971945762634, 0.7103208899497986, 0.9959772825241089, 0.19620326161384583, 0.7848130464553833, 0.4881419539451599, 0.5009878277778625, 0.48775342106819153, 0.5065131783485413, 0.9919042587280273, 0.991795003414154, 0.7606690526008606, 0.18885576725006104, 0.04721394181251526, 0.6091864109039307, 0.3784339725971222, 0.5155074596405029, 0.12539370357990265, 0.3483158349990845, 0.9398015737533569, 0.9664896130561829, 0.7787638306617737, 0.11879448592662811, 0.0989954024553299, 0.14320144057273865, 0.8592085838317871, 0.9564252495765686, 0.06791721284389496, 0.9168823957443237, 0.9769840240478516, 0.356251060962677, 0.6394249796867371, 0.9787818789482117, 0.9247412085533142, 0.9726272225379944, 0.9111796617507935, 0.9681369066238403, 0.03315768390893936, 0.25420889258384705, 0.46420755982398987, 0.25420889258384705, 0.4980795085430145, 0.48090434074401855, 0.41858822107315063, 0.5581176280975342, 0.551006555557251, 0.44080522656440735, 0.9909008741378784, 0.9513260722160339, 0.9358813762664795, 0.992837131023407, 0.007409232202917337, 0.6337845921516418, 0.36216264963150024, 0.9879437685012817, 0.3611101806163788, 0.6290306448936462, 0.992928147315979, 0.9637032747268677, 0.47868990898132324, 0.4927690327167511, 0.02815823070704937, 0.9724794626235962, 0.6733054518699646, 0.3254309594631195, 0.986027717590332, 0.9933658838272095, 0.9970337748527527, 0.9659525156021118, 0.9898935556411743, 0.9867339134216309, 0.9829865097999573, 0.9817554950714111, 0.017299657687544823, 0.9818034768104553, 0.9500320553779602, 0.9982168078422546, 0.9444453716278076, 0.9557697772979736, 0.028093790635466576, 0.018729193136096, 0.009364596568048, 0.9458242654800415, 0.9665742516517639, 0.7236661911010742, 0.27381962537765503, 0.9818564057350159, 0.9295515418052673, 0.7806330919265747, 0.020364340394735336, 0.19685529172420502, 0.9990461468696594, 0.0021166231017559767, 0.986628532409668, 0.08353889733552933, 0.9189279079437256, 0.10622413456439972, 0.885201096534729, 0.5145023465156555, 0.4833203852176666, 0.9781937599182129, 0.9610567092895508, 0.9650449156761169, 0.42516788840293884, 0.5733591914176941, 0.6189602017402649, 0.03950809687376022, 0.34240350127220154, 0.9976768493652344, 0.971623420715332, 0.9605362415313721, 0.21395792067050934, 0.7794181704521179, 0.7052051424980164, 0.2969284653663635, 0.6342178583145142, 0.36241018772125244, 0.9460280537605286, 0.5776510238647461, 0.15906332433223724, 0.2595243752002716, 0.9677791595458984, 0.9749898314476013, 0.9964889287948608, 0.0031336129177361727, 0.9958576560020447, 0.8791801929473877, 0.00582238519564271, 0.00582238519564271, 0.11062531918287277, 0.8817006349563599, 0.933114767074585, 0.9774715900421143, 0.9928737282752991, 0.9964810013771057, 0.982128381729126, 0.15580591559410095, 0.8309648633003235, 0.7097094058990479, 0.28856316208839417, 0.9684805274009705, 0.9630120992660522, 0.968023955821991, 0.9522396326065063], \"Term\": [\"absolutely\", \"absolutely\", \"also\", \"also\", \"also\", \"always\", \"amazing\", \"appetizer\", \"area\", \"arrive\", \"arrive\", \"ask\", \"atmosphere\", \"attentive\", \"average\", \"back\", \"ball\", \"bed\", \"bed\", \"bed\", \"beef\", \"big\", \"big\", \"bill\", \"bit\", \"bit\", \"breakfast\", \"breakfast\", \"burger\", \"business\", \"calamari\", \"change\", \"cheese\", \"cheese\", \"chef\", \"chef\", \"chicken\", \"child\", \"chip\", \"choice\", \"choice\", \"choose\", \"chop\", \"clean\", \"close\", \"cold\", \"cold\", \"come\", \"come\", \"compare\", \"conference\", \"cook\", \"cook\", \"crowd\", \"decide\", \"decor\", \"decorate\", \"definitely\", \"delicious\", \"delicious\", \"delicious\", \"dessert\", \"dessert\", \"dessert\", \"different\", \"dinner\", \"dinner\", \"dish\", \"dish\", \"dish\", \"dish\", \"dry\", \"efficient\", \"enjoy\", \"enjoy\", \"environment\", \"evening\", \"evening\", \"excellent\", \"excellent\", \"exceptional\", \"expect\", \"expect\", \"expensive\", \"expensive\", \"experience\", \"experience\", \"extremely\", \"fact\", \"family\", \"feel\", \"find\", \"find\", \"first\", \"friend\", \"friendly\", \"friendly\", \"fry\", \"garlic_bread\", \"general\", \"get\", \"get\", \"get\", \"give\", \"give\", \"give\", \"glass\", \"go\", \"go\", \"great\", \"greek\", \"grill\", \"group\", \"guy\", \"hard\", \"helpful\", \"high\", \"hilton_park\", \"hilton_park\", \"hot\", \"hot\", \"hot\", \"however\", \"however\", \"however\", \"improve\", \"interior_design\", \"italian\", \"jamie_italian\", \"kid\", \"kid\", \"kitchen\", \"know\", \"know\", \"large\", \"large\", \"last\", \"leave\", \"leave\", \"look\", \"look\", \"lovely\", \"lovely\", \"lunch\", \"main\", \"make\", \"make\", \"make\", \"meal\", \"meal\", \"meat\", \"meat\", \"meat\", \"medium\", \"mention\", \"menu\", \"menu\", \"menu\", \"modern\", \"modern\", \"mushroom\", \"name\", \"name\", \"nearby\", \"need\", \"need\", \"nicosia\", \"noisy\", \"notice\", \"oil\", \"old\", \"order\", \"order\", \"order\", \"order\", \"parking\", \"parking\", \"pasta\", \"pasta\", \"pay\", \"pay\", \"people\", \"perfectly\", \"personnel\", \"place\", \"place\", \"plate\", \"plate\", \"plenty\", \"polite\", \"polite\", \"pool\", \"pork\", \"portion\", \"portion\", \"portion\", \"prepare\", \"price\", \"price\", \"probably\", \"professional\", \"quality\", \"quantity\", \"quiet\", \"quite\", \"rather\", \"really\", \"really\", \"reasonable\", \"receive\", \"recommend\", \"remind\", \"result\", \"salad\", \"salad\", \"salad\", \"salad\", \"sauce\", \"say\", \"say\", \"seat\", \"section\", \"serve\", \"serve\", \"serve\", \"service\", \"service\", \"set\", \"several\", \"several\", \"share\", \"share\", \"small\", \"small\", \"smell\", \"souvlaki\", \"speak\", \"staff\", \"staff\", \"starter\", \"starter\", \"starter\", \"stay\", \"steak\", \"suggest\", \"table\", \"table\", \"take\", \"take\", \"taste\", \"taste\", \"tasteless\", \"tasty\", \"tasty\", \"tasty\", \"tell\", \"third\", \"time\", \"time\", \"traditional\", \"try\", \"try\", \"try\", \"try\", \"twice\", \"unique\", \"value\", \"variety\", \"visit\", \"waiter\", \"welcome\", \"welcome\", \"well\", \"well\", \"whole\", \"wide\", \"word\", \"wrong\"]}, \"R\": 30, \"lambda.step\": 0.01, \"plot.opts\": {\"xlab\": \"PC1\", \"ylab\": \"PC2\"}, \"topic.order\": [3, 4, 2, 1]};\n",
       "\n",
       "function LDAvis_load_lib(url, callback){\n",
       "  var s = document.createElement('script');\n",
       "  s.src = url;\n",
       "  s.async = true;\n",
       "  s.onreadystatechange = s.onload = callback;\n",
       "  s.onerror = function(){console.warn(\"failed to load library \" + url);};\n",
       "  document.getElementsByTagName(\"head\")[0].appendChild(s);\n",
       "}\n",
       "\n",
       "if(typeof(LDAvis) !== \"undefined\"){\n",
       "   // already loaded: just create the visualization\n",
       "   !function(LDAvis){\n",
       "       new LDAvis(\"#\" + \"ldavis_el28781628146954170329872174866\", ldavis_el28781628146954170329872174866_data);\n",
       "   }(LDAvis);\n",
       "}else if(typeof define === \"function\" && define.amd){\n",
       "   // require.js is available: use it to load d3/LDAvis\n",
       "   require.config({paths: {d3: \"https://cdnjs.cloudflare.com/ajax/libs/d3/3.5.5/d3.min\"}});\n",
       "   require([\"d3\"], function(d3){\n",
       "      window.d3 = d3;\n",
       "      LDAvis_load_lib(\"https://cdn.rawgit.com/bmabey/pyLDAvis/files/ldavis.v1.0.0.js\", function(){\n",
       "        new LDAvis(\"#\" + \"ldavis_el28781628146954170329872174866\", ldavis_el28781628146954170329872174866_data);\n",
       "      });\n",
       "    });\n",
       "}else{\n",
       "    // require.js not available: dynamically load d3 & LDAvis\n",
       "    LDAvis_load_lib(\"https://cdnjs.cloudflare.com/ajax/libs/d3/3.5.5/d3.min.js\", function(){\n",
       "         LDAvis_load_lib(\"https://cdn.rawgit.com/bmabey/pyLDAvis/files/ldavis.v1.0.0.js\", function(){\n",
       "                 new LDAvis(\"#\" + \"ldavis_el28781628146954170329872174866\", ldavis_el28781628146954170329872174866_data);\n",
       "            })\n",
       "         });\n",
       "}\n",
       "</script>"
      ],
      "text/plain": [
       "PreparedData(topic_coordinates=              x         y  topics  cluster       Freq\n",
       "topic                                                \n",
       "2     -0.251023 -0.150515       1        1  54.112160\n",
       "3     -0.145498  0.215736       2        1  22.271774\n",
       "1      0.155856 -0.205652       3        1  15.114817\n",
       "0      0.240664  0.140431       4        1   8.501251, topic_info=          Term        Freq       Total Category  logprob  loglift\n",
       "140       stay  310.000000  310.000000  Default  30.0000  30.0000\n",
       "145   friendly  305.000000  305.000000  Default  29.0000  29.0000\n",
       "16       staff  566.000000  566.000000  Default  28.0000  28.0000\n",
       "37        dish  326.000000  326.000000  Default  27.0000  27.0000\n",
       "8      service  472.000000  472.000000  Default  26.0000  26.0000\n",
       "..         ...         ...         ...      ...      ...      ...\n",
       "303       meat   25.341320   71.773941   Topic4  -4.7820   1.4239\n",
       "139    starter   25.773645   75.933800   Topic4  -4.7651   1.3844\n",
       "50         bit   19.232670   64.666855   Topic4  -5.0578   1.2523\n",
       "200  delicious   18.768658  136.406952   Topic4  -5.0823   0.4815\n",
       "26         try   18.743372  171.750916   Topic4  -5.0836   0.2498\n",
       "\n",
       "[223 rows x 6 columns], token_table=      Topic      Freq        Term\n",
       "term                             \n",
       "377       2  0.154149  absolutely\n",
       "377       3  0.809281  absolutely\n",
       "89        1  0.826924        also\n",
       "89        2  0.165385        also\n",
       "89        3  0.009729        also\n",
       "...     ...       ...         ...\n",
       "155       2  0.288563        well\n",
       "457       2  0.968481       whole\n",
       "739       2  0.963012        wide\n",
       "1548      2  0.968024        word\n",
       "854       2  0.952240       wrong\n",
       "\n",
       "[278 rows x 3 columns], R=30, lambda_step=0.01, plot_opts={'xlab': 'PC1', 'ylab': 'PC2'}, topic_order=[3, 4, 2, 1])"
      ]
     },
     "metadata": {},
     "output_type": "display_data"
    }
   ],
   "source": [
    "plot_model(lda_pos_custom, plot ='topic_model', save=True)"
   ]
  },
  {
   "cell_type": "code",
   "execution_count": 10,
   "metadata": {},
   "outputs": [
    {
     "data": {
      "text/html": [
       "        <script type=\"text/javascript\">\n",
       "        window.PlotlyConfig = {MathJaxConfig: 'local'};\n",
       "        if (window.MathJax) {MathJax.Hub.Config({SVG: {font: \"STIX-Web\"}});}\n",
       "        if (typeof require !== 'undefined') {\n",
       "        require.undef(\"plotly\");\n",
       "        requirejs.config({\n",
       "            paths: {\n",
       "                'plotly': ['https://cdn.plot.ly/plotly-latest.min']\n",
       "            }\n",
       "        });\n",
       "        require(['plotly'], function(Plotly) {\n",
       "            window._Plotly = Plotly;\n",
       "        });\n",
       "        }\n",
       "        </script>\n",
       "        "
      ]
     },
     "metadata": {},
     "output_type": "display_data"
    },
    {
     "data": {
      "application/vnd.plotly.v1+json": {
       "config": {
        "plotlyServerURL": "https://plot.ly"
       },
       "data": [
        {
         "alignmentgroup": "True",
         "customdata": [
          [
           "salad, dish, taste, order, italian, cook, chicken, steak, plate, kid"
          ],
          [
           "area, order, waiter, expect, ask, table, hilton_park, get, kitchen, arrive"
          ],
          [
           "service, excellent, great, time, visit, well, place, go, dish, staff"
          ],
          [
           "staff, stay, friendly, helpful, well, main, breakfast, different, choice, need"
          ]
         ],
         "hovertemplate": "Topic=%{x}<br>Documents=%{y}<br>Keyword=%{customdata[0]}<extra></extra>",
         "legendgroup": "",
         "marker": {
          "color": "#636efa"
         },
         "name": "",
         "offsetgroup": "",
         "orientation": "v",
         "showlegend": false,
         "textposition": "auto",
         "type": "bar",
         "x": [
          "Topic 0",
          "Topic 1",
          "Topic 2",
          "Topic 3"
         ],
         "xaxis": "x",
         "y": [
          18,
          50,
          1064,
          97
         ],
         "yaxis": "y"
        }
       ],
       "layout": {
        "barmode": "relative",
        "legend": {
         "tracegroupgap": 0
        },
        "template": {
         "data": {
          "bar": [
           {
            "error_x": {
             "color": "#2a3f5f"
            },
            "error_y": {
             "color": "#2a3f5f"
            },
            "marker": {
             "line": {
              "color": "#E5ECF6",
              "width": 0.5
             }
            },
            "type": "bar"
           }
          ],
          "barpolar": [
           {
            "marker": {
             "line": {
              "color": "#E5ECF6",
              "width": 0.5
             }
            },
            "type": "barpolar"
           }
          ],
          "carpet": [
           {
            "aaxis": {
             "endlinecolor": "#2a3f5f",
             "gridcolor": "white",
             "linecolor": "white",
             "minorgridcolor": "white",
             "startlinecolor": "#2a3f5f"
            },
            "baxis": {
             "endlinecolor": "#2a3f5f",
             "gridcolor": "white",
             "linecolor": "white",
             "minorgridcolor": "white",
             "startlinecolor": "#2a3f5f"
            },
            "type": "carpet"
           }
          ],
          "choropleth": [
           {
            "colorbar": {
             "outlinewidth": 0,
             "ticks": ""
            },
            "type": "choropleth"
           }
          ],
          "contour": [
           {
            "colorbar": {
             "outlinewidth": 0,
             "ticks": ""
            },
            "colorscale": [
             [
              0,
              "#0d0887"
             ],
             [
              0.1111111111111111,
              "#46039f"
             ],
             [
              0.2222222222222222,
              "#7201a8"
             ],
             [
              0.3333333333333333,
              "#9c179e"
             ],
             [
              0.4444444444444444,
              "#bd3786"
             ],
             [
              0.5555555555555556,
              "#d8576b"
             ],
             [
              0.6666666666666666,
              "#ed7953"
             ],
             [
              0.7777777777777778,
              "#fb9f3a"
             ],
             [
              0.8888888888888888,
              "#fdca26"
             ],
             [
              1,
              "#f0f921"
             ]
            ],
            "type": "contour"
           }
          ],
          "contourcarpet": [
           {
            "colorbar": {
             "outlinewidth": 0,
             "ticks": ""
            },
            "type": "contourcarpet"
           }
          ],
          "heatmap": [
           {
            "colorbar": {
             "outlinewidth": 0,
             "ticks": ""
            },
            "colorscale": [
             [
              0,
              "#0d0887"
             ],
             [
              0.1111111111111111,
              "#46039f"
             ],
             [
              0.2222222222222222,
              "#7201a8"
             ],
             [
              0.3333333333333333,
              "#9c179e"
             ],
             [
              0.4444444444444444,
              "#bd3786"
             ],
             [
              0.5555555555555556,
              "#d8576b"
             ],
             [
              0.6666666666666666,
              "#ed7953"
             ],
             [
              0.7777777777777778,
              "#fb9f3a"
             ],
             [
              0.8888888888888888,
              "#fdca26"
             ],
             [
              1,
              "#f0f921"
             ]
            ],
            "type": "heatmap"
           }
          ],
          "heatmapgl": [
           {
            "colorbar": {
             "outlinewidth": 0,
             "ticks": ""
            },
            "colorscale": [
             [
              0,
              "#0d0887"
             ],
             [
              0.1111111111111111,
              "#46039f"
             ],
             [
              0.2222222222222222,
              "#7201a8"
             ],
             [
              0.3333333333333333,
              "#9c179e"
             ],
             [
              0.4444444444444444,
              "#bd3786"
             ],
             [
              0.5555555555555556,
              "#d8576b"
             ],
             [
              0.6666666666666666,
              "#ed7953"
             ],
             [
              0.7777777777777778,
              "#fb9f3a"
             ],
             [
              0.8888888888888888,
              "#fdca26"
             ],
             [
              1,
              "#f0f921"
             ]
            ],
            "type": "heatmapgl"
           }
          ],
          "histogram": [
           {
            "marker": {
             "colorbar": {
              "outlinewidth": 0,
              "ticks": ""
             }
            },
            "type": "histogram"
           }
          ],
          "histogram2d": [
           {
            "colorbar": {
             "outlinewidth": 0,
             "ticks": ""
            },
            "colorscale": [
             [
              0,
              "#0d0887"
             ],
             [
              0.1111111111111111,
              "#46039f"
             ],
             [
              0.2222222222222222,
              "#7201a8"
             ],
             [
              0.3333333333333333,
              "#9c179e"
             ],
             [
              0.4444444444444444,
              "#bd3786"
             ],
             [
              0.5555555555555556,
              "#d8576b"
             ],
             [
              0.6666666666666666,
              "#ed7953"
             ],
             [
              0.7777777777777778,
              "#fb9f3a"
             ],
             [
              0.8888888888888888,
              "#fdca26"
             ],
             [
              1,
              "#f0f921"
             ]
            ],
            "type": "histogram2d"
           }
          ],
          "histogram2dcontour": [
           {
            "colorbar": {
             "outlinewidth": 0,
             "ticks": ""
            },
            "colorscale": [
             [
              0,
              "#0d0887"
             ],
             [
              0.1111111111111111,
              "#46039f"
             ],
             [
              0.2222222222222222,
              "#7201a8"
             ],
             [
              0.3333333333333333,
              "#9c179e"
             ],
             [
              0.4444444444444444,
              "#bd3786"
             ],
             [
              0.5555555555555556,
              "#d8576b"
             ],
             [
              0.6666666666666666,
              "#ed7953"
             ],
             [
              0.7777777777777778,
              "#fb9f3a"
             ],
             [
              0.8888888888888888,
              "#fdca26"
             ],
             [
              1,
              "#f0f921"
             ]
            ],
            "type": "histogram2dcontour"
           }
          ],
          "mesh3d": [
           {
            "colorbar": {
             "outlinewidth": 0,
             "ticks": ""
            },
            "type": "mesh3d"
           }
          ],
          "parcoords": [
           {
            "line": {
             "colorbar": {
              "outlinewidth": 0,
              "ticks": ""
             }
            },
            "type": "parcoords"
           }
          ],
          "pie": [
           {
            "automargin": true,
            "type": "pie"
           }
          ],
          "scatter": [
           {
            "marker": {
             "colorbar": {
              "outlinewidth": 0,
              "ticks": ""
             }
            },
            "type": "scatter"
           }
          ],
          "scatter3d": [
           {
            "line": {
             "colorbar": {
              "outlinewidth": 0,
              "ticks": ""
             }
            },
            "marker": {
             "colorbar": {
              "outlinewidth": 0,
              "ticks": ""
             }
            },
            "type": "scatter3d"
           }
          ],
          "scattercarpet": [
           {
            "marker": {
             "colorbar": {
              "outlinewidth": 0,
              "ticks": ""
             }
            },
            "type": "scattercarpet"
           }
          ],
          "scattergeo": [
           {
            "marker": {
             "colorbar": {
              "outlinewidth": 0,
              "ticks": ""
             }
            },
            "type": "scattergeo"
           }
          ],
          "scattergl": [
           {
            "marker": {
             "colorbar": {
              "outlinewidth": 0,
              "ticks": ""
             }
            },
            "type": "scattergl"
           }
          ],
          "scattermapbox": [
           {
            "marker": {
             "colorbar": {
              "outlinewidth": 0,
              "ticks": ""
             }
            },
            "type": "scattermapbox"
           }
          ],
          "scatterpolar": [
           {
            "marker": {
             "colorbar": {
              "outlinewidth": 0,
              "ticks": ""
             }
            },
            "type": "scatterpolar"
           }
          ],
          "scatterpolargl": [
           {
            "marker": {
             "colorbar": {
              "outlinewidth": 0,
              "ticks": ""
             }
            },
            "type": "scatterpolargl"
           }
          ],
          "scatterternary": [
           {
            "marker": {
             "colorbar": {
              "outlinewidth": 0,
              "ticks": ""
             }
            },
            "type": "scatterternary"
           }
          ],
          "surface": [
           {
            "colorbar": {
             "outlinewidth": 0,
             "ticks": ""
            },
            "colorscale": [
             [
              0,
              "#0d0887"
             ],
             [
              0.1111111111111111,
              "#46039f"
             ],
             [
              0.2222222222222222,
              "#7201a8"
             ],
             [
              0.3333333333333333,
              "#9c179e"
             ],
             [
              0.4444444444444444,
              "#bd3786"
             ],
             [
              0.5555555555555556,
              "#d8576b"
             ],
             [
              0.6666666666666666,
              "#ed7953"
             ],
             [
              0.7777777777777778,
              "#fb9f3a"
             ],
             [
              0.8888888888888888,
              "#fdca26"
             ],
             [
              1,
              "#f0f921"
             ]
            ],
            "type": "surface"
           }
          ],
          "table": [
           {
            "cells": {
             "fill": {
              "color": "#EBF0F8"
             },
             "line": {
              "color": "white"
             }
            },
            "header": {
             "fill": {
              "color": "#C8D4E3"
             },
             "line": {
              "color": "white"
             }
            },
            "type": "table"
           }
          ]
         },
         "layout": {
          "annotationdefaults": {
           "arrowcolor": "#2a3f5f",
           "arrowhead": 0,
           "arrowwidth": 1
          },
          "coloraxis": {
           "colorbar": {
            "outlinewidth": 0,
            "ticks": ""
           }
          },
          "colorscale": {
           "diverging": [
            [
             0,
             "#8e0152"
            ],
            [
             0.1,
             "#c51b7d"
            ],
            [
             0.2,
             "#de77ae"
            ],
            [
             0.3,
             "#f1b6da"
            ],
            [
             0.4,
             "#fde0ef"
            ],
            [
             0.5,
             "#f7f7f7"
            ],
            [
             0.6,
             "#e6f5d0"
            ],
            [
             0.7,
             "#b8e186"
            ],
            [
             0.8,
             "#7fbc41"
            ],
            [
             0.9,
             "#4d9221"
            ],
            [
             1,
             "#276419"
            ]
           ],
           "sequential": [
            [
             0,
             "#0d0887"
            ],
            [
             0.1111111111111111,
             "#46039f"
            ],
            [
             0.2222222222222222,
             "#7201a8"
            ],
            [
             0.3333333333333333,
             "#9c179e"
            ],
            [
             0.4444444444444444,
             "#bd3786"
            ],
            [
             0.5555555555555556,
             "#d8576b"
            ],
            [
             0.6666666666666666,
             "#ed7953"
            ],
            [
             0.7777777777777778,
             "#fb9f3a"
            ],
            [
             0.8888888888888888,
             "#fdca26"
            ],
            [
             1,
             "#f0f921"
            ]
           ],
           "sequentialminus": [
            [
             0,
             "#0d0887"
            ],
            [
             0.1111111111111111,
             "#46039f"
            ],
            [
             0.2222222222222222,
             "#7201a8"
            ],
            [
             0.3333333333333333,
             "#9c179e"
            ],
            [
             0.4444444444444444,
             "#bd3786"
            ],
            [
             0.5555555555555556,
             "#d8576b"
            ],
            [
             0.6666666666666666,
             "#ed7953"
            ],
            [
             0.7777777777777778,
             "#fb9f3a"
            ],
            [
             0.8888888888888888,
             "#fdca26"
            ],
            [
             1,
             "#f0f921"
            ]
           ]
          },
          "colorway": [
           "#636efa",
           "#EF553B",
           "#00cc96",
           "#ab63fa",
           "#FFA15A",
           "#19d3f3",
           "#FF6692",
           "#B6E880",
           "#FF97FF",
           "#FECB52"
          ],
          "font": {
           "color": "#2a3f5f"
          },
          "geo": {
           "bgcolor": "white",
           "lakecolor": "white",
           "landcolor": "#E5ECF6",
           "showlakes": true,
           "showland": true,
           "subunitcolor": "white"
          },
          "hoverlabel": {
           "align": "left"
          },
          "hovermode": "closest",
          "mapbox": {
           "style": "light"
          },
          "paper_bgcolor": "white",
          "plot_bgcolor": "#E5ECF6",
          "polar": {
           "angularaxis": {
            "gridcolor": "white",
            "linecolor": "white",
            "ticks": ""
           },
           "bgcolor": "#E5ECF6",
           "radialaxis": {
            "gridcolor": "white",
            "linecolor": "white",
            "ticks": ""
           }
          },
          "scene": {
           "xaxis": {
            "backgroundcolor": "#E5ECF6",
            "gridcolor": "white",
            "gridwidth": 2,
            "linecolor": "white",
            "showbackground": true,
            "ticks": "",
            "zerolinecolor": "white"
           },
           "yaxis": {
            "backgroundcolor": "#E5ECF6",
            "gridcolor": "white",
            "gridwidth": 2,
            "linecolor": "white",
            "showbackground": true,
            "ticks": "",
            "zerolinecolor": "white"
           },
           "zaxis": {
            "backgroundcolor": "#E5ECF6",
            "gridcolor": "white",
            "gridwidth": 2,
            "linecolor": "white",
            "showbackground": true,
            "ticks": "",
            "zerolinecolor": "white"
           }
          },
          "shapedefaults": {
           "line": {
            "color": "#2a3f5f"
           }
          },
          "ternary": {
           "aaxis": {
            "gridcolor": "white",
            "linecolor": "white",
            "ticks": ""
           },
           "baxis": {
            "gridcolor": "white",
            "linecolor": "white",
            "ticks": ""
           },
           "bgcolor": "#E5ECF6",
           "caxis": {
            "gridcolor": "white",
            "linecolor": "white",
            "ticks": ""
           }
          },
          "title": {
           "x": 0.05
          },
          "xaxis": {
           "automargin": true,
           "gridcolor": "white",
           "linecolor": "white",
           "ticks": "",
           "title": {
            "standoff": 15
           },
           "zerolinecolor": "white",
           "zerolinewidth": 2
          },
          "yaxis": {
           "automargin": true,
           "gridcolor": "white",
           "linecolor": "white",
           "ticks": "",
           "title": {
            "standoff": 15
           },
           "zerolinecolor": "white",
           "zerolinewidth": 2
          }
         }
        },
        "title": {
         "text": "Document Distribution by Topics"
        },
        "xaxis": {
         "anchor": "y",
         "domain": [
          0,
          1
         ],
         "title": {
          "text": "Topic"
         }
        },
        "yaxis": {
         "anchor": "x",
         "domain": [
          0,
          1
         ],
         "title": {
          "text": "Documents"
         }
        }
       }
      },
      "text/html": [
       "<div>\n",
       "        \n",
       "        \n",
       "            <div id=\"4b95de3d-7a34-410d-8742-6e5860a4e919\" class=\"plotly-graph-div\" style=\"height:525px; width:100%;\"></div>\n",
       "            <script type=\"text/javascript\">\n",
       "                require([\"plotly\"], function(Plotly) {\n",
       "                    window.PLOTLYENV=window.PLOTLYENV || {};\n",
       "                    \n",
       "                if (document.getElementById(\"4b95de3d-7a34-410d-8742-6e5860a4e919\")) {\n",
       "                    Plotly.newPlot(\n",
       "                        '4b95de3d-7a34-410d-8742-6e5860a4e919',\n",
       "                        [{\"alignmentgroup\": \"True\", \"customdata\": [[\"salad, dish, taste, order, italian, cook, chicken, steak, plate, kid\"], [\"area, order, waiter, expect, ask, table, hilton_park, get, kitchen, arrive\"], [\"service, excellent, great, time, visit, well, place, go, dish, staff\"], [\"staff, stay, friendly, helpful, well, main, breakfast, different, choice, need\"]], \"hovertemplate\": \"Topic=%{x}<br>Documents=%{y}<br>Keyword=%{customdata[0]}<extra></extra>\", \"legendgroup\": \"\", \"marker\": {\"color\": \"#636efa\"}, \"name\": \"\", \"offsetgroup\": \"\", \"orientation\": \"v\", \"showlegend\": false, \"textposition\": \"auto\", \"type\": \"bar\", \"x\": [\"Topic 0\", \"Topic 1\", \"Topic 2\", \"Topic 3\"], \"xaxis\": \"x\", \"y\": [18, 50, 1064, 97], \"yaxis\": \"y\"}],\n",
       "                        {\"barmode\": \"relative\", \"legend\": {\"tracegroupgap\": 0}, \"template\": {\"data\": {\"bar\": [{\"error_x\": {\"color\": \"#2a3f5f\"}, \"error_y\": {\"color\": \"#2a3f5f\"}, \"marker\": {\"line\": {\"color\": \"#E5ECF6\", \"width\": 0.5}}, \"type\": \"bar\"}], \"barpolar\": [{\"marker\": {\"line\": {\"color\": \"#E5ECF6\", \"width\": 0.5}}, \"type\": \"barpolar\"}], \"carpet\": [{\"aaxis\": {\"endlinecolor\": \"#2a3f5f\", \"gridcolor\": \"white\", \"linecolor\": \"white\", \"minorgridcolor\": \"white\", \"startlinecolor\": \"#2a3f5f\"}, \"baxis\": {\"endlinecolor\": \"#2a3f5f\", \"gridcolor\": \"white\", \"linecolor\": \"white\", \"minorgridcolor\": \"white\", \"startlinecolor\": \"#2a3f5f\"}, \"type\": \"carpet\"}], \"choropleth\": [{\"colorbar\": {\"outlinewidth\": 0, \"ticks\": \"\"}, \"type\": \"choropleth\"}], \"contour\": [{\"colorbar\": {\"outlinewidth\": 0, \"ticks\": \"\"}, \"colorscale\": [[0.0, \"#0d0887\"], [0.1111111111111111, \"#46039f\"], [0.2222222222222222, \"#7201a8\"], [0.3333333333333333, \"#9c179e\"], [0.4444444444444444, \"#bd3786\"], [0.5555555555555556, \"#d8576b\"], [0.6666666666666666, \"#ed7953\"], [0.7777777777777778, \"#fb9f3a\"], [0.8888888888888888, \"#fdca26\"], [1.0, \"#f0f921\"]], \"type\": \"contour\"}], \"contourcarpet\": [{\"colorbar\": {\"outlinewidth\": 0, \"ticks\": \"\"}, \"type\": \"contourcarpet\"}], \"heatmap\": [{\"colorbar\": {\"outlinewidth\": 0, \"ticks\": \"\"}, \"colorscale\": [[0.0, \"#0d0887\"], [0.1111111111111111, \"#46039f\"], [0.2222222222222222, \"#7201a8\"], [0.3333333333333333, \"#9c179e\"], [0.4444444444444444, \"#bd3786\"], [0.5555555555555556, \"#d8576b\"], [0.6666666666666666, \"#ed7953\"], [0.7777777777777778, \"#fb9f3a\"], [0.8888888888888888, \"#fdca26\"], [1.0, \"#f0f921\"]], \"type\": \"heatmap\"}], \"heatmapgl\": [{\"colorbar\": {\"outlinewidth\": 0, \"ticks\": \"\"}, \"colorscale\": [[0.0, \"#0d0887\"], [0.1111111111111111, \"#46039f\"], [0.2222222222222222, \"#7201a8\"], [0.3333333333333333, \"#9c179e\"], [0.4444444444444444, \"#bd3786\"], [0.5555555555555556, \"#d8576b\"], [0.6666666666666666, \"#ed7953\"], [0.7777777777777778, \"#fb9f3a\"], [0.8888888888888888, \"#fdca26\"], [1.0, \"#f0f921\"]], \"type\": \"heatmapgl\"}], \"histogram\": [{\"marker\": {\"colorbar\": {\"outlinewidth\": 0, \"ticks\": \"\"}}, \"type\": \"histogram\"}], \"histogram2d\": [{\"colorbar\": {\"outlinewidth\": 0, \"ticks\": \"\"}, \"colorscale\": [[0.0, \"#0d0887\"], [0.1111111111111111, \"#46039f\"], [0.2222222222222222, \"#7201a8\"], [0.3333333333333333, \"#9c179e\"], [0.4444444444444444, \"#bd3786\"], [0.5555555555555556, \"#d8576b\"], [0.6666666666666666, \"#ed7953\"], [0.7777777777777778, \"#fb9f3a\"], [0.8888888888888888, \"#fdca26\"], [1.0, \"#f0f921\"]], \"type\": \"histogram2d\"}], \"histogram2dcontour\": [{\"colorbar\": {\"outlinewidth\": 0, \"ticks\": \"\"}, \"colorscale\": [[0.0, \"#0d0887\"], [0.1111111111111111, \"#46039f\"], [0.2222222222222222, \"#7201a8\"], [0.3333333333333333, \"#9c179e\"], [0.4444444444444444, \"#bd3786\"], [0.5555555555555556, \"#d8576b\"], [0.6666666666666666, \"#ed7953\"], [0.7777777777777778, \"#fb9f3a\"], [0.8888888888888888, \"#fdca26\"], [1.0, \"#f0f921\"]], \"type\": \"histogram2dcontour\"}], \"mesh3d\": [{\"colorbar\": {\"outlinewidth\": 0, \"ticks\": \"\"}, \"type\": \"mesh3d\"}], \"parcoords\": [{\"line\": {\"colorbar\": {\"outlinewidth\": 0, \"ticks\": \"\"}}, \"type\": \"parcoords\"}], \"pie\": [{\"automargin\": true, \"type\": \"pie\"}], \"scatter\": [{\"marker\": {\"colorbar\": {\"outlinewidth\": 0, \"ticks\": \"\"}}, \"type\": \"scatter\"}], \"scatter3d\": [{\"line\": {\"colorbar\": {\"outlinewidth\": 0, \"ticks\": \"\"}}, \"marker\": {\"colorbar\": {\"outlinewidth\": 0, \"ticks\": \"\"}}, \"type\": \"scatter3d\"}], \"scattercarpet\": [{\"marker\": {\"colorbar\": {\"outlinewidth\": 0, \"ticks\": \"\"}}, \"type\": \"scattercarpet\"}], \"scattergeo\": [{\"marker\": {\"colorbar\": {\"outlinewidth\": 0, \"ticks\": \"\"}}, \"type\": \"scattergeo\"}], \"scattergl\": [{\"marker\": {\"colorbar\": {\"outlinewidth\": 0, \"ticks\": \"\"}}, \"type\": \"scattergl\"}], \"scattermapbox\": [{\"marker\": {\"colorbar\": {\"outlinewidth\": 0, \"ticks\": \"\"}}, \"type\": \"scattermapbox\"}], \"scatterpolar\": [{\"marker\": {\"colorbar\": {\"outlinewidth\": 0, \"ticks\": \"\"}}, \"type\": \"scatterpolar\"}], \"scatterpolargl\": [{\"marker\": {\"colorbar\": {\"outlinewidth\": 0, \"ticks\": \"\"}}, \"type\": \"scatterpolargl\"}], \"scatterternary\": [{\"marker\": {\"colorbar\": {\"outlinewidth\": 0, \"ticks\": \"\"}}, \"type\": \"scatterternary\"}], \"surface\": [{\"colorbar\": {\"outlinewidth\": 0, \"ticks\": \"\"}, \"colorscale\": [[0.0, \"#0d0887\"], [0.1111111111111111, \"#46039f\"], [0.2222222222222222, \"#7201a8\"], [0.3333333333333333, \"#9c179e\"], [0.4444444444444444, \"#bd3786\"], [0.5555555555555556, \"#d8576b\"], [0.6666666666666666, \"#ed7953\"], [0.7777777777777778, \"#fb9f3a\"], [0.8888888888888888, \"#fdca26\"], [1.0, \"#f0f921\"]], \"type\": \"surface\"}], \"table\": [{\"cells\": {\"fill\": {\"color\": \"#EBF0F8\"}, \"line\": {\"color\": \"white\"}}, \"header\": {\"fill\": {\"color\": \"#C8D4E3\"}, \"line\": {\"color\": \"white\"}}, \"type\": \"table\"}]}, \"layout\": {\"annotationdefaults\": {\"arrowcolor\": \"#2a3f5f\", \"arrowhead\": 0, \"arrowwidth\": 1}, \"coloraxis\": {\"colorbar\": {\"outlinewidth\": 0, \"ticks\": \"\"}}, \"colorscale\": {\"diverging\": [[0, \"#8e0152\"], [0.1, \"#c51b7d\"], [0.2, \"#de77ae\"], [0.3, \"#f1b6da\"], [0.4, \"#fde0ef\"], [0.5, \"#f7f7f7\"], [0.6, \"#e6f5d0\"], [0.7, \"#b8e186\"], [0.8, \"#7fbc41\"], [0.9, \"#4d9221\"], [1, \"#276419\"]], \"sequential\": [[0.0, \"#0d0887\"], [0.1111111111111111, \"#46039f\"], [0.2222222222222222, \"#7201a8\"], [0.3333333333333333, \"#9c179e\"], [0.4444444444444444, \"#bd3786\"], [0.5555555555555556, \"#d8576b\"], [0.6666666666666666, \"#ed7953\"], [0.7777777777777778, \"#fb9f3a\"], [0.8888888888888888, \"#fdca26\"], [1.0, \"#f0f921\"]], \"sequentialminus\": [[0.0, \"#0d0887\"], [0.1111111111111111, \"#46039f\"], [0.2222222222222222, \"#7201a8\"], [0.3333333333333333, \"#9c179e\"], [0.4444444444444444, \"#bd3786\"], [0.5555555555555556, \"#d8576b\"], [0.6666666666666666, \"#ed7953\"], [0.7777777777777778, \"#fb9f3a\"], [0.8888888888888888, \"#fdca26\"], [1.0, \"#f0f921\"]]}, \"colorway\": [\"#636efa\", \"#EF553B\", \"#00cc96\", \"#ab63fa\", \"#FFA15A\", \"#19d3f3\", \"#FF6692\", \"#B6E880\", \"#FF97FF\", \"#FECB52\"], \"font\": {\"color\": \"#2a3f5f\"}, \"geo\": {\"bgcolor\": \"white\", \"lakecolor\": \"white\", \"landcolor\": \"#E5ECF6\", \"showlakes\": true, \"showland\": true, \"subunitcolor\": \"white\"}, \"hoverlabel\": {\"align\": \"left\"}, \"hovermode\": \"closest\", \"mapbox\": {\"style\": \"light\"}, \"paper_bgcolor\": \"white\", \"plot_bgcolor\": \"#E5ECF6\", \"polar\": {\"angularaxis\": {\"gridcolor\": \"white\", \"linecolor\": \"white\", \"ticks\": \"\"}, \"bgcolor\": \"#E5ECF6\", \"radialaxis\": {\"gridcolor\": \"white\", \"linecolor\": \"white\", \"ticks\": \"\"}}, \"scene\": {\"xaxis\": {\"backgroundcolor\": \"#E5ECF6\", \"gridcolor\": \"white\", \"gridwidth\": 2, \"linecolor\": \"white\", \"showbackground\": true, \"ticks\": \"\", \"zerolinecolor\": \"white\"}, \"yaxis\": {\"backgroundcolor\": \"#E5ECF6\", \"gridcolor\": \"white\", \"gridwidth\": 2, \"linecolor\": \"white\", \"showbackground\": true, \"ticks\": \"\", \"zerolinecolor\": \"white\"}, \"zaxis\": {\"backgroundcolor\": \"#E5ECF6\", \"gridcolor\": \"white\", \"gridwidth\": 2, \"linecolor\": \"white\", \"showbackground\": true, \"ticks\": \"\", \"zerolinecolor\": \"white\"}}, \"shapedefaults\": {\"line\": {\"color\": \"#2a3f5f\"}}, \"ternary\": {\"aaxis\": {\"gridcolor\": \"white\", \"linecolor\": \"white\", \"ticks\": \"\"}, \"baxis\": {\"gridcolor\": \"white\", \"linecolor\": \"white\", \"ticks\": \"\"}, \"bgcolor\": \"#E5ECF6\", \"caxis\": {\"gridcolor\": \"white\", \"linecolor\": \"white\", \"ticks\": \"\"}}, \"title\": {\"x\": 0.05}, \"xaxis\": {\"automargin\": true, \"gridcolor\": \"white\", \"linecolor\": \"white\", \"ticks\": \"\", \"title\": {\"standoff\": 15}, \"zerolinecolor\": \"white\", \"zerolinewidth\": 2}, \"yaxis\": {\"automargin\": true, \"gridcolor\": \"white\", \"linecolor\": \"white\", \"ticks\": \"\", \"title\": {\"standoff\": 15}, \"zerolinecolor\": \"white\", \"zerolinewidth\": 2}}}, \"title\": {\"text\": \"Document Distribution by Topics\"}, \"xaxis\": {\"anchor\": \"y\", \"domain\": [0.0, 1.0], \"title\": {\"text\": \"Topic\"}}, \"yaxis\": {\"anchor\": \"x\", \"domain\": [0.0, 1.0], \"title\": {\"text\": \"Documents\"}}},\n",
       "                        {\"responsive\": true}\n",
       "                    ).then(function(){\n",
       "                            \n",
       "var gd = document.getElementById('4b95de3d-7a34-410d-8742-6e5860a4e919');\n",
       "var x = new MutationObserver(function (mutations, observer) {{\n",
       "        var display = window.getComputedStyle(gd).display;\n",
       "        if (!display || display === 'none') {{\n",
       "            console.log([gd, 'removed!']);\n",
       "            Plotly.purge(gd);\n",
       "            observer.disconnect();\n",
       "        }}\n",
       "}});\n",
       "\n",
       "// Listen for the removal of the full notebook cells\n",
       "var notebookContainer = gd.closest('#notebook-container');\n",
       "if (notebookContainer) {{\n",
       "    x.observe(notebookContainer, {childList: true});\n",
       "}}\n",
       "\n",
       "// Listen for the clearing of the current output cell\n",
       "var outputEl = gd.closest('.output');\n",
       "if (outputEl) {{\n",
       "    x.observe(outputEl, {childList: true});\n",
       "}}\n",
       "\n",
       "                        })\n",
       "                };\n",
       "                });\n",
       "            </script>\n",
       "        </div>"
      ]
     },
     "metadata": {},
     "output_type": "display_data"
    }
   ],
   "source": [
    "plot_model(lda_pos_custom, plot ='topic_distribution', save=True)"
   ]
  },
  {
   "cell_type": "markdown",
   "metadata": {},
   "source": [
    "## Tuning the model using Coherence Value"
   ]
  },
  {
   "cell_type": "code",
   "execution_count": 11,
   "metadata": {},
   "outputs": [
    {
     "data": {
      "application/vnd.jupyter.widget-view+json": {
       "model_id": "",
       "version_major": 2,
       "version_minor": 0
      },
      "text/plain": [
       "IntProgress(value=0, description='Processing: ', max=25)"
      ]
     },
     "metadata": {},
     "output_type": "display_data"
    },
    {
     "data": {
      "application/vnd.jupyter.widget-view+json": {
       "model_id": "9b669d11e7b441c7b6c2719c8fe31bed",
       "version_major": 2,
       "version_minor": 0
      },
      "text/plain": [
       "Output()"
      ]
     },
     "metadata": {},
     "output_type": "display_data"
    },
    {
     "data": {
      "text/html": [
       "        <script type=\"text/javascript\">\n",
       "        window.PlotlyConfig = {MathJaxConfig: 'local'};\n",
       "        if (window.MathJax) {MathJax.Hub.Config({SVG: {font: \"STIX-Web\"}});}\n",
       "        if (typeof require !== 'undefined') {\n",
       "        require.undef(\"plotly\");\n",
       "        requirejs.config({\n",
       "            paths: {\n",
       "                'plotly': ['https://cdn.plot.ly/plotly-latest.min']\n",
       "            }\n",
       "        });\n",
       "        require(['plotly'], function(Plotly) {\n",
       "            window._Plotly = Plotly;\n",
       "        });\n",
       "        }\n",
       "        </script>\n",
       "        "
      ]
     },
     "metadata": {},
     "output_type": "display_data"
    },
    {
     "data": {
      "application/vnd.plotly.v1+json": {
       "config": {
        "plotlyServerURL": "https://plot.ly"
       },
       "data": [
        {
         "hovertemplate": "Metric=Coherence<br># Topics=%{x}<br>Score=%{y}<extra></extra>",
         "legendgroup": "Coherence",
         "line": {
          "color": "#636efa",
          "dash": "solid",
          "shape": "linear"
         },
         "mode": "lines",
         "name": "Coherence",
         "orientation": "v",
         "showlegend": true,
         "type": "scatter",
         "x": [
          2,
          4,
          8,
          16,
          32,
          64,
          100,
          200,
          300,
          400
         ],
         "xaxis": "x",
         "y": [
          0.41507116104378616,
          0.3672602230542742,
          0.4186566354927326,
          0.4156269379079989,
          0.41463656773322793,
          0.39207466000594077,
          0.3898065092300573,
          0.40101837579733896,
          0.4030626839774351,
          0.40238913191434056
         ],
         "yaxis": "y"
        }
       ],
       "layout": {
        "legend": {
         "title": {
          "text": "Metric"
         },
         "tracegroupgap": 0
        },
        "plot_bgcolor": "rgb(245,245,245)",
        "template": {
         "data": {
          "bar": [
           {
            "error_x": {
             "color": "#2a3f5f"
            },
            "error_y": {
             "color": "#2a3f5f"
            },
            "marker": {
             "line": {
              "color": "#E5ECF6",
              "width": 0.5
             }
            },
            "type": "bar"
           }
          ],
          "barpolar": [
           {
            "marker": {
             "line": {
              "color": "#E5ECF6",
              "width": 0.5
             }
            },
            "type": "barpolar"
           }
          ],
          "carpet": [
           {
            "aaxis": {
             "endlinecolor": "#2a3f5f",
             "gridcolor": "white",
             "linecolor": "white",
             "minorgridcolor": "white",
             "startlinecolor": "#2a3f5f"
            },
            "baxis": {
             "endlinecolor": "#2a3f5f",
             "gridcolor": "white",
             "linecolor": "white",
             "minorgridcolor": "white",
             "startlinecolor": "#2a3f5f"
            },
            "type": "carpet"
           }
          ],
          "choropleth": [
           {
            "colorbar": {
             "outlinewidth": 0,
             "ticks": ""
            },
            "type": "choropleth"
           }
          ],
          "contour": [
           {
            "colorbar": {
             "outlinewidth": 0,
             "ticks": ""
            },
            "colorscale": [
             [
              0,
              "#0d0887"
             ],
             [
              0.1111111111111111,
              "#46039f"
             ],
             [
              0.2222222222222222,
              "#7201a8"
             ],
             [
              0.3333333333333333,
              "#9c179e"
             ],
             [
              0.4444444444444444,
              "#bd3786"
             ],
             [
              0.5555555555555556,
              "#d8576b"
             ],
             [
              0.6666666666666666,
              "#ed7953"
             ],
             [
              0.7777777777777778,
              "#fb9f3a"
             ],
             [
              0.8888888888888888,
              "#fdca26"
             ],
             [
              1,
              "#f0f921"
             ]
            ],
            "type": "contour"
           }
          ],
          "contourcarpet": [
           {
            "colorbar": {
             "outlinewidth": 0,
             "ticks": ""
            },
            "type": "contourcarpet"
           }
          ],
          "heatmap": [
           {
            "colorbar": {
             "outlinewidth": 0,
             "ticks": ""
            },
            "colorscale": [
             [
              0,
              "#0d0887"
             ],
             [
              0.1111111111111111,
              "#46039f"
             ],
             [
              0.2222222222222222,
              "#7201a8"
             ],
             [
              0.3333333333333333,
              "#9c179e"
             ],
             [
              0.4444444444444444,
              "#bd3786"
             ],
             [
              0.5555555555555556,
              "#d8576b"
             ],
             [
              0.6666666666666666,
              "#ed7953"
             ],
             [
              0.7777777777777778,
              "#fb9f3a"
             ],
             [
              0.8888888888888888,
              "#fdca26"
             ],
             [
              1,
              "#f0f921"
             ]
            ],
            "type": "heatmap"
           }
          ],
          "heatmapgl": [
           {
            "colorbar": {
             "outlinewidth": 0,
             "ticks": ""
            },
            "colorscale": [
             [
              0,
              "#0d0887"
             ],
             [
              0.1111111111111111,
              "#46039f"
             ],
             [
              0.2222222222222222,
              "#7201a8"
             ],
             [
              0.3333333333333333,
              "#9c179e"
             ],
             [
              0.4444444444444444,
              "#bd3786"
             ],
             [
              0.5555555555555556,
              "#d8576b"
             ],
             [
              0.6666666666666666,
              "#ed7953"
             ],
             [
              0.7777777777777778,
              "#fb9f3a"
             ],
             [
              0.8888888888888888,
              "#fdca26"
             ],
             [
              1,
              "#f0f921"
             ]
            ],
            "type": "heatmapgl"
           }
          ],
          "histogram": [
           {
            "marker": {
             "colorbar": {
              "outlinewidth": 0,
              "ticks": ""
             }
            },
            "type": "histogram"
           }
          ],
          "histogram2d": [
           {
            "colorbar": {
             "outlinewidth": 0,
             "ticks": ""
            },
            "colorscale": [
             [
              0,
              "#0d0887"
             ],
             [
              0.1111111111111111,
              "#46039f"
             ],
             [
              0.2222222222222222,
              "#7201a8"
             ],
             [
              0.3333333333333333,
              "#9c179e"
             ],
             [
              0.4444444444444444,
              "#bd3786"
             ],
             [
              0.5555555555555556,
              "#d8576b"
             ],
             [
              0.6666666666666666,
              "#ed7953"
             ],
             [
              0.7777777777777778,
              "#fb9f3a"
             ],
             [
              0.8888888888888888,
              "#fdca26"
             ],
             [
              1,
              "#f0f921"
             ]
            ],
            "type": "histogram2d"
           }
          ],
          "histogram2dcontour": [
           {
            "colorbar": {
             "outlinewidth": 0,
             "ticks": ""
            },
            "colorscale": [
             [
              0,
              "#0d0887"
             ],
             [
              0.1111111111111111,
              "#46039f"
             ],
             [
              0.2222222222222222,
              "#7201a8"
             ],
             [
              0.3333333333333333,
              "#9c179e"
             ],
             [
              0.4444444444444444,
              "#bd3786"
             ],
             [
              0.5555555555555556,
              "#d8576b"
             ],
             [
              0.6666666666666666,
              "#ed7953"
             ],
             [
              0.7777777777777778,
              "#fb9f3a"
             ],
             [
              0.8888888888888888,
              "#fdca26"
             ],
             [
              1,
              "#f0f921"
             ]
            ],
            "type": "histogram2dcontour"
           }
          ],
          "mesh3d": [
           {
            "colorbar": {
             "outlinewidth": 0,
             "ticks": ""
            },
            "type": "mesh3d"
           }
          ],
          "parcoords": [
           {
            "line": {
             "colorbar": {
              "outlinewidth": 0,
              "ticks": ""
             }
            },
            "type": "parcoords"
           }
          ],
          "pie": [
           {
            "automargin": true,
            "type": "pie"
           }
          ],
          "scatter": [
           {
            "marker": {
             "colorbar": {
              "outlinewidth": 0,
              "ticks": ""
             }
            },
            "type": "scatter"
           }
          ],
          "scatter3d": [
           {
            "line": {
             "colorbar": {
              "outlinewidth": 0,
              "ticks": ""
             }
            },
            "marker": {
             "colorbar": {
              "outlinewidth": 0,
              "ticks": ""
             }
            },
            "type": "scatter3d"
           }
          ],
          "scattercarpet": [
           {
            "marker": {
             "colorbar": {
              "outlinewidth": 0,
              "ticks": ""
             }
            },
            "type": "scattercarpet"
           }
          ],
          "scattergeo": [
           {
            "marker": {
             "colorbar": {
              "outlinewidth": 0,
              "ticks": ""
             }
            },
            "type": "scattergeo"
           }
          ],
          "scattergl": [
           {
            "marker": {
             "colorbar": {
              "outlinewidth": 0,
              "ticks": ""
             }
            },
            "type": "scattergl"
           }
          ],
          "scattermapbox": [
           {
            "marker": {
             "colorbar": {
              "outlinewidth": 0,
              "ticks": ""
             }
            },
            "type": "scattermapbox"
           }
          ],
          "scatterpolar": [
           {
            "marker": {
             "colorbar": {
              "outlinewidth": 0,
              "ticks": ""
             }
            },
            "type": "scatterpolar"
           }
          ],
          "scatterpolargl": [
           {
            "marker": {
             "colorbar": {
              "outlinewidth": 0,
              "ticks": ""
             }
            },
            "type": "scatterpolargl"
           }
          ],
          "scatterternary": [
           {
            "marker": {
             "colorbar": {
              "outlinewidth": 0,
              "ticks": ""
             }
            },
            "type": "scatterternary"
           }
          ],
          "surface": [
           {
            "colorbar": {
             "outlinewidth": 0,
             "ticks": ""
            },
            "colorscale": [
             [
              0,
              "#0d0887"
             ],
             [
              0.1111111111111111,
              "#46039f"
             ],
             [
              0.2222222222222222,
              "#7201a8"
             ],
             [
              0.3333333333333333,
              "#9c179e"
             ],
             [
              0.4444444444444444,
              "#bd3786"
             ],
             [
              0.5555555555555556,
              "#d8576b"
             ],
             [
              0.6666666666666666,
              "#ed7953"
             ],
             [
              0.7777777777777778,
              "#fb9f3a"
             ],
             [
              0.8888888888888888,
              "#fdca26"
             ],
             [
              1,
              "#f0f921"
             ]
            ],
            "type": "surface"
           }
          ],
          "table": [
           {
            "cells": {
             "fill": {
              "color": "#EBF0F8"
             },
             "line": {
              "color": "white"
             }
            },
            "header": {
             "fill": {
              "color": "#C8D4E3"
             },
             "line": {
              "color": "white"
             }
            },
            "type": "table"
           }
          ]
         },
         "layout": {
          "annotationdefaults": {
           "arrowcolor": "#2a3f5f",
           "arrowhead": 0,
           "arrowwidth": 1
          },
          "coloraxis": {
           "colorbar": {
            "outlinewidth": 0,
            "ticks": ""
           }
          },
          "colorscale": {
           "diverging": [
            [
             0,
             "#8e0152"
            ],
            [
             0.1,
             "#c51b7d"
            ],
            [
             0.2,
             "#de77ae"
            ],
            [
             0.3,
             "#f1b6da"
            ],
            [
             0.4,
             "#fde0ef"
            ],
            [
             0.5,
             "#f7f7f7"
            ],
            [
             0.6,
             "#e6f5d0"
            ],
            [
             0.7,
             "#b8e186"
            ],
            [
             0.8,
             "#7fbc41"
            ],
            [
             0.9,
             "#4d9221"
            ],
            [
             1,
             "#276419"
            ]
           ],
           "sequential": [
            [
             0,
             "#0d0887"
            ],
            [
             0.1111111111111111,
             "#46039f"
            ],
            [
             0.2222222222222222,
             "#7201a8"
            ],
            [
             0.3333333333333333,
             "#9c179e"
            ],
            [
             0.4444444444444444,
             "#bd3786"
            ],
            [
             0.5555555555555556,
             "#d8576b"
            ],
            [
             0.6666666666666666,
             "#ed7953"
            ],
            [
             0.7777777777777778,
             "#fb9f3a"
            ],
            [
             0.8888888888888888,
             "#fdca26"
            ],
            [
             1,
             "#f0f921"
            ]
           ],
           "sequentialminus": [
            [
             0,
             "#0d0887"
            ],
            [
             0.1111111111111111,
             "#46039f"
            ],
            [
             0.2222222222222222,
             "#7201a8"
            ],
            [
             0.3333333333333333,
             "#9c179e"
            ],
            [
             0.4444444444444444,
             "#bd3786"
            ],
            [
             0.5555555555555556,
             "#d8576b"
            ],
            [
             0.6666666666666666,
             "#ed7953"
            ],
            [
             0.7777777777777778,
             "#fb9f3a"
            ],
            [
             0.8888888888888888,
             "#fdca26"
            ],
            [
             1,
             "#f0f921"
            ]
           ]
          },
          "colorway": [
           "#636efa",
           "#EF553B",
           "#00cc96",
           "#ab63fa",
           "#FFA15A",
           "#19d3f3",
           "#FF6692",
           "#B6E880",
           "#FF97FF",
           "#FECB52"
          ],
          "font": {
           "color": "#2a3f5f"
          },
          "geo": {
           "bgcolor": "white",
           "lakecolor": "white",
           "landcolor": "#E5ECF6",
           "showlakes": true,
           "showland": true,
           "subunitcolor": "white"
          },
          "hoverlabel": {
           "align": "left"
          },
          "hovermode": "closest",
          "mapbox": {
           "style": "light"
          },
          "paper_bgcolor": "white",
          "plot_bgcolor": "#E5ECF6",
          "polar": {
           "angularaxis": {
            "gridcolor": "white",
            "linecolor": "white",
            "ticks": ""
           },
           "bgcolor": "#E5ECF6",
           "radialaxis": {
            "gridcolor": "white",
            "linecolor": "white",
            "ticks": ""
           }
          },
          "scene": {
           "xaxis": {
            "backgroundcolor": "#E5ECF6",
            "gridcolor": "white",
            "gridwidth": 2,
            "linecolor": "white",
            "showbackground": true,
            "ticks": "",
            "zerolinecolor": "white"
           },
           "yaxis": {
            "backgroundcolor": "#E5ECF6",
            "gridcolor": "white",
            "gridwidth": 2,
            "linecolor": "white",
            "showbackground": true,
            "ticks": "",
            "zerolinecolor": "white"
           },
           "zaxis": {
            "backgroundcolor": "#E5ECF6",
            "gridcolor": "white",
            "gridwidth": 2,
            "linecolor": "white",
            "showbackground": true,
            "ticks": "",
            "zerolinecolor": "white"
           }
          },
          "shapedefaults": {
           "line": {
            "color": "#2a3f5f"
           }
          },
          "ternary": {
           "aaxis": {
            "gridcolor": "white",
            "linecolor": "white",
            "ticks": ""
           },
           "baxis": {
            "gridcolor": "white",
            "linecolor": "white",
            "ticks": ""
           },
           "bgcolor": "#E5ECF6",
           "caxis": {
            "gridcolor": "white",
            "linecolor": "white",
            "ticks": ""
           }
          },
          "title": {
           "x": 0.05
          },
          "xaxis": {
           "automargin": true,
           "gridcolor": "white",
           "linecolor": "white",
           "ticks": "",
           "title": {
            "standoff": 15
           },
           "zerolinecolor": "white",
           "zerolinewidth": 2
          },
          "yaxis": {
           "automargin": true,
           "gridcolor": "white",
           "linecolor": "white",
           "ticks": "",
           "title": {
            "standoff": 15
           },
           "zerolinecolor": "white",
           "zerolinewidth": 2
          }
         }
        },
        "title": {
         "text": "Coherence Value and # of Topics"
        },
        "xaxis": {
         "anchor": "y",
         "domain": [
          0,
          1
         ],
         "title": {
          "text": "# Topics"
         }
        },
        "yaxis": {
         "anchor": "x",
         "domain": [
          0,
          1
         ],
         "title": {
          "text": "Score"
         }
        }
       }
      },
      "text/html": [
       "<div>\n",
       "        \n",
       "        \n",
       "            <div id=\"7676189c-ed79-493d-af0b-126d4c5ede0f\" class=\"plotly-graph-div\" style=\"height:525px; width:100%;\"></div>\n",
       "            <script type=\"text/javascript\">\n",
       "                require([\"plotly\"], function(Plotly) {\n",
       "                    window.PLOTLYENV=window.PLOTLYENV || {};\n",
       "                    \n",
       "                if (document.getElementById(\"7676189c-ed79-493d-af0b-126d4c5ede0f\")) {\n",
       "                    Plotly.newPlot(\n",
       "                        '7676189c-ed79-493d-af0b-126d4c5ede0f',\n",
       "                        [{\"hovertemplate\": \"Metric=Coherence<br># Topics=%{x}<br>Score=%{y}<extra></extra>\", \"legendgroup\": \"Coherence\", \"line\": {\"color\": \"#636efa\", \"dash\": \"solid\", \"shape\": \"linear\"}, \"mode\": \"lines\", \"name\": \"Coherence\", \"orientation\": \"v\", \"showlegend\": true, \"type\": \"scatter\", \"x\": [2, 4, 8, 16, 32, 64, 100, 200, 300, 400], \"xaxis\": \"x\", \"y\": [0.41507116104378616, 0.3672602230542742, 0.4186566354927326, 0.4156269379079989, 0.41463656773322793, 0.39207466000594077, 0.3898065092300573, 0.40101837579733896, 0.4030626839774351, 0.40238913191434056], \"yaxis\": \"y\"}],\n",
       "                        {\"legend\": {\"title\": {\"text\": \"Metric\"}, \"tracegroupgap\": 0}, \"plot_bgcolor\": \"rgb(245,245,245)\", \"template\": {\"data\": {\"bar\": [{\"error_x\": {\"color\": \"#2a3f5f\"}, \"error_y\": {\"color\": \"#2a3f5f\"}, \"marker\": {\"line\": {\"color\": \"#E5ECF6\", \"width\": 0.5}}, \"type\": \"bar\"}], \"barpolar\": [{\"marker\": {\"line\": {\"color\": \"#E5ECF6\", \"width\": 0.5}}, \"type\": \"barpolar\"}], \"carpet\": [{\"aaxis\": {\"endlinecolor\": \"#2a3f5f\", \"gridcolor\": \"white\", \"linecolor\": \"white\", \"minorgridcolor\": \"white\", \"startlinecolor\": \"#2a3f5f\"}, \"baxis\": {\"endlinecolor\": \"#2a3f5f\", \"gridcolor\": \"white\", \"linecolor\": \"white\", \"minorgridcolor\": \"white\", \"startlinecolor\": \"#2a3f5f\"}, \"type\": \"carpet\"}], \"choropleth\": [{\"colorbar\": {\"outlinewidth\": 0, \"ticks\": \"\"}, \"type\": \"choropleth\"}], \"contour\": [{\"colorbar\": {\"outlinewidth\": 0, \"ticks\": \"\"}, \"colorscale\": [[0.0, \"#0d0887\"], [0.1111111111111111, \"#46039f\"], [0.2222222222222222, \"#7201a8\"], [0.3333333333333333, \"#9c179e\"], [0.4444444444444444, \"#bd3786\"], [0.5555555555555556, \"#d8576b\"], [0.6666666666666666, \"#ed7953\"], [0.7777777777777778, \"#fb9f3a\"], [0.8888888888888888, \"#fdca26\"], [1.0, \"#f0f921\"]], \"type\": \"contour\"}], \"contourcarpet\": [{\"colorbar\": {\"outlinewidth\": 0, \"ticks\": \"\"}, \"type\": \"contourcarpet\"}], \"heatmap\": [{\"colorbar\": {\"outlinewidth\": 0, \"ticks\": \"\"}, \"colorscale\": [[0.0, \"#0d0887\"], [0.1111111111111111, \"#46039f\"], [0.2222222222222222, \"#7201a8\"], [0.3333333333333333, \"#9c179e\"], [0.4444444444444444, \"#bd3786\"], [0.5555555555555556, \"#d8576b\"], [0.6666666666666666, \"#ed7953\"], [0.7777777777777778, \"#fb9f3a\"], [0.8888888888888888, \"#fdca26\"], [1.0, \"#f0f921\"]], \"type\": \"heatmap\"}], \"heatmapgl\": [{\"colorbar\": {\"outlinewidth\": 0, \"ticks\": \"\"}, \"colorscale\": [[0.0, \"#0d0887\"], [0.1111111111111111, \"#46039f\"], [0.2222222222222222, \"#7201a8\"], [0.3333333333333333, \"#9c179e\"], [0.4444444444444444, \"#bd3786\"], [0.5555555555555556, \"#d8576b\"], [0.6666666666666666, \"#ed7953\"], [0.7777777777777778, \"#fb9f3a\"], [0.8888888888888888, \"#fdca26\"], [1.0, \"#f0f921\"]], \"type\": \"heatmapgl\"}], \"histogram\": [{\"marker\": {\"colorbar\": {\"outlinewidth\": 0, \"ticks\": \"\"}}, \"type\": \"histogram\"}], \"histogram2d\": [{\"colorbar\": {\"outlinewidth\": 0, \"ticks\": \"\"}, \"colorscale\": [[0.0, \"#0d0887\"], [0.1111111111111111, \"#46039f\"], [0.2222222222222222, \"#7201a8\"], [0.3333333333333333, \"#9c179e\"], [0.4444444444444444, \"#bd3786\"], [0.5555555555555556, \"#d8576b\"], [0.6666666666666666, \"#ed7953\"], [0.7777777777777778, \"#fb9f3a\"], [0.8888888888888888, \"#fdca26\"], [1.0, \"#f0f921\"]], \"type\": \"histogram2d\"}], \"histogram2dcontour\": [{\"colorbar\": {\"outlinewidth\": 0, \"ticks\": \"\"}, \"colorscale\": [[0.0, \"#0d0887\"], [0.1111111111111111, \"#46039f\"], [0.2222222222222222, \"#7201a8\"], [0.3333333333333333, \"#9c179e\"], [0.4444444444444444, \"#bd3786\"], [0.5555555555555556, \"#d8576b\"], [0.6666666666666666, \"#ed7953\"], [0.7777777777777778, \"#fb9f3a\"], [0.8888888888888888, \"#fdca26\"], [1.0, \"#f0f921\"]], \"type\": \"histogram2dcontour\"}], \"mesh3d\": [{\"colorbar\": {\"outlinewidth\": 0, \"ticks\": \"\"}, \"type\": \"mesh3d\"}], \"parcoords\": [{\"line\": {\"colorbar\": {\"outlinewidth\": 0, \"ticks\": \"\"}}, \"type\": \"parcoords\"}], \"pie\": [{\"automargin\": true, \"type\": \"pie\"}], \"scatter\": [{\"marker\": {\"colorbar\": {\"outlinewidth\": 0, \"ticks\": \"\"}}, \"type\": \"scatter\"}], \"scatter3d\": [{\"line\": {\"colorbar\": {\"outlinewidth\": 0, \"ticks\": \"\"}}, \"marker\": {\"colorbar\": {\"outlinewidth\": 0, \"ticks\": \"\"}}, \"type\": \"scatter3d\"}], \"scattercarpet\": [{\"marker\": {\"colorbar\": {\"outlinewidth\": 0, \"ticks\": \"\"}}, \"type\": \"scattercarpet\"}], \"scattergeo\": [{\"marker\": {\"colorbar\": {\"outlinewidth\": 0, \"ticks\": \"\"}}, \"type\": \"scattergeo\"}], \"scattergl\": [{\"marker\": {\"colorbar\": {\"outlinewidth\": 0, \"ticks\": \"\"}}, \"type\": \"scattergl\"}], \"scattermapbox\": [{\"marker\": {\"colorbar\": {\"outlinewidth\": 0, \"ticks\": \"\"}}, \"type\": \"scattermapbox\"}], \"scatterpolar\": [{\"marker\": {\"colorbar\": {\"outlinewidth\": 0, \"ticks\": \"\"}}, \"type\": \"scatterpolar\"}], \"scatterpolargl\": [{\"marker\": {\"colorbar\": {\"outlinewidth\": 0, \"ticks\": \"\"}}, \"type\": \"scatterpolargl\"}], \"scatterternary\": [{\"marker\": {\"colorbar\": {\"outlinewidth\": 0, \"ticks\": \"\"}}, \"type\": \"scatterternary\"}], \"surface\": [{\"colorbar\": {\"outlinewidth\": 0, \"ticks\": \"\"}, \"colorscale\": [[0.0, \"#0d0887\"], [0.1111111111111111, \"#46039f\"], [0.2222222222222222, \"#7201a8\"], [0.3333333333333333, \"#9c179e\"], [0.4444444444444444, \"#bd3786\"], [0.5555555555555556, \"#d8576b\"], [0.6666666666666666, \"#ed7953\"], [0.7777777777777778, \"#fb9f3a\"], [0.8888888888888888, \"#fdca26\"], [1.0, \"#f0f921\"]], \"type\": \"surface\"}], \"table\": [{\"cells\": {\"fill\": {\"color\": \"#EBF0F8\"}, \"line\": {\"color\": \"white\"}}, \"header\": {\"fill\": {\"color\": \"#C8D4E3\"}, \"line\": {\"color\": \"white\"}}, \"type\": \"table\"}]}, \"layout\": {\"annotationdefaults\": {\"arrowcolor\": \"#2a3f5f\", \"arrowhead\": 0, \"arrowwidth\": 1}, \"coloraxis\": {\"colorbar\": {\"outlinewidth\": 0, \"ticks\": \"\"}}, \"colorscale\": {\"diverging\": [[0, \"#8e0152\"], [0.1, \"#c51b7d\"], [0.2, \"#de77ae\"], [0.3, \"#f1b6da\"], [0.4, \"#fde0ef\"], [0.5, \"#f7f7f7\"], [0.6, \"#e6f5d0\"], [0.7, \"#b8e186\"], [0.8, \"#7fbc41\"], [0.9, \"#4d9221\"], [1, \"#276419\"]], \"sequential\": [[0.0, \"#0d0887\"], [0.1111111111111111, \"#46039f\"], [0.2222222222222222, \"#7201a8\"], [0.3333333333333333, \"#9c179e\"], [0.4444444444444444, \"#bd3786\"], [0.5555555555555556, \"#d8576b\"], [0.6666666666666666, \"#ed7953\"], [0.7777777777777778, \"#fb9f3a\"], [0.8888888888888888, \"#fdca26\"], [1.0, \"#f0f921\"]], \"sequentialminus\": [[0.0, \"#0d0887\"], [0.1111111111111111, \"#46039f\"], [0.2222222222222222, \"#7201a8\"], [0.3333333333333333, \"#9c179e\"], [0.4444444444444444, \"#bd3786\"], [0.5555555555555556, \"#d8576b\"], [0.6666666666666666, \"#ed7953\"], [0.7777777777777778, \"#fb9f3a\"], [0.8888888888888888, \"#fdca26\"], [1.0, \"#f0f921\"]]}, \"colorway\": [\"#636efa\", \"#EF553B\", \"#00cc96\", \"#ab63fa\", \"#FFA15A\", \"#19d3f3\", \"#FF6692\", \"#B6E880\", \"#FF97FF\", \"#FECB52\"], \"font\": {\"color\": \"#2a3f5f\"}, \"geo\": {\"bgcolor\": \"white\", \"lakecolor\": \"white\", \"landcolor\": \"#E5ECF6\", \"showlakes\": true, \"showland\": true, \"subunitcolor\": \"white\"}, \"hoverlabel\": {\"align\": \"left\"}, \"hovermode\": \"closest\", \"mapbox\": {\"style\": \"light\"}, \"paper_bgcolor\": \"white\", \"plot_bgcolor\": \"#E5ECF6\", \"polar\": {\"angularaxis\": {\"gridcolor\": \"white\", \"linecolor\": \"white\", \"ticks\": \"\"}, \"bgcolor\": \"#E5ECF6\", \"radialaxis\": {\"gridcolor\": \"white\", \"linecolor\": \"white\", \"ticks\": \"\"}}, \"scene\": {\"xaxis\": {\"backgroundcolor\": \"#E5ECF6\", \"gridcolor\": \"white\", \"gridwidth\": 2, \"linecolor\": \"white\", \"showbackground\": true, \"ticks\": \"\", \"zerolinecolor\": \"white\"}, \"yaxis\": {\"backgroundcolor\": \"#E5ECF6\", \"gridcolor\": \"white\", \"gridwidth\": 2, \"linecolor\": \"white\", \"showbackground\": true, \"ticks\": \"\", \"zerolinecolor\": \"white\"}, \"zaxis\": {\"backgroundcolor\": \"#E5ECF6\", \"gridcolor\": \"white\", \"gridwidth\": 2, \"linecolor\": \"white\", \"showbackground\": true, \"ticks\": \"\", \"zerolinecolor\": \"white\"}}, \"shapedefaults\": {\"line\": {\"color\": \"#2a3f5f\"}}, \"ternary\": {\"aaxis\": {\"gridcolor\": \"white\", \"linecolor\": \"white\", \"ticks\": \"\"}, \"baxis\": {\"gridcolor\": \"white\", \"linecolor\": \"white\", \"ticks\": \"\"}, \"bgcolor\": \"#E5ECF6\", \"caxis\": {\"gridcolor\": \"white\", \"linecolor\": \"white\", \"ticks\": \"\"}}, \"title\": {\"x\": 0.05}, \"xaxis\": {\"automargin\": true, \"gridcolor\": \"white\", \"linecolor\": \"white\", \"ticks\": \"\", \"title\": {\"standoff\": 15}, \"zerolinecolor\": \"white\", \"zerolinewidth\": 2}, \"yaxis\": {\"automargin\": true, \"gridcolor\": \"white\", \"linecolor\": \"white\", \"ticks\": \"\", \"title\": {\"standoff\": 15}, \"zerolinecolor\": \"white\", \"zerolinewidth\": 2}}}, \"title\": {\"text\": \"Coherence Value and # of Topics\"}, \"xaxis\": {\"anchor\": \"y\", \"domain\": [0.0, 1.0], \"title\": {\"text\": \"# Topics\"}}, \"yaxis\": {\"anchor\": \"x\", \"domain\": [0.0, 1.0], \"title\": {\"text\": \"Score\"}}},\n",
       "                        {\"responsive\": true}\n",
       "                    ).then(function(){\n",
       "                            \n",
       "var gd = document.getElementById('7676189c-ed79-493d-af0b-126d4c5ede0f');\n",
       "var x = new MutationObserver(function (mutations, observer) {{\n",
       "        var display = window.getComputedStyle(gd).display;\n",
       "        if (!display || display === 'none') {{\n",
       "            console.log([gd, 'removed!']);\n",
       "            Plotly.purge(gd);\n",
       "            observer.disconnect();\n",
       "        }}\n",
       "}});\n",
       "\n",
       "// Listen for the removal of the full notebook cells\n",
       "var notebookContainer = gd.closest('#notebook-container');\n",
       "if (notebookContainer) {{\n",
       "    x.observe(notebookContainer, {childList: true});\n",
       "}}\n",
       "\n",
       "// Listen for the clearing of the current output cell\n",
       "var outputEl = gd.closest('.output');\n",
       "if (outputEl) {{\n",
       "    x.observe(outputEl, {childList: true});\n",
       "}}\n",
       "\n",
       "                        })\n",
       "                };\n",
       "                });\n",
       "            </script>\n",
       "        </div>"
      ]
     },
     "metadata": {},
     "output_type": "display_data"
    },
    {
     "name": "stdout",
     "output_type": "stream",
     "text": [
      "Best Model: Latent Dirichlet Allocation | # Topics: 8 | Coherence: 0.4187\n"
     ]
    }
   ],
   "source": [
    "tune_lda_positive = tune_model(model='lda', supervised_target=None, estimator='xgboost')"
   ]
  },
  {
   "cell_type": "code",
   "execution_count": 12,
   "metadata": {},
   "outputs": [],
   "source": [
    "apply_tuned_pos = assign_model(tune_lda_positive)"
   ]
  },
  {
   "cell_type": "code",
   "execution_count": 13,
   "metadata": {},
   "outputs": [
    {
     "data": {
      "application/vnd.jupyter.widget-view+json": {
       "model_id": "044f80bffdfe46a4a2958b5dd5630cec",
       "version_major": 2,
       "version_minor": 0
      },
      "text/plain": [
       "interactive(children=(ToggleButtons(description='Plot Type:', icons=('',), options=(('Frequency Plot', 'freque…"
      ]
     },
     "metadata": {},
     "output_type": "display_data"
    }
   ],
   "source": [
    "evaluate_model(tune_lda_positive)"
   ]
  },
  {
   "cell_type": "code",
   "execution_count": 16,
   "metadata": {
    "scrolled": false
   },
   "outputs": [
    {
     "data": {
      "text/html": [
       "        <script type=\"text/javascript\">\n",
       "        window.PlotlyConfig = {MathJaxConfig: 'local'};\n",
       "        if (window.MathJax) {MathJax.Hub.Config({SVG: {font: \"STIX-Web\"}});}\n",
       "        if (typeof require !== 'undefined') {\n",
       "        require.undef(\"plotly\");\n",
       "        requirejs.config({\n",
       "            paths: {\n",
       "                'plotly': ['https://cdn.plot.ly/plotly-latest.min']\n",
       "            }\n",
       "        });\n",
       "        require(['plotly'], function(Plotly) {\n",
       "            window._Plotly = Plotly;\n",
       "        });\n",
       "        }\n",
       "        </script>\n",
       "        "
      ]
     },
     "metadata": {},
     "output_type": "display_data"
    },
    {
     "data": {
      "text/html": [
       "\n",
       "<link rel=\"stylesheet\" type=\"text/css\" href=\"https://cdn.rawgit.com/bmabey/pyLDAvis/files/ldavis.v1.0.0.css\">\n",
       "\n",
       "\n",
       "<div id=\"ldavis_el28781628146967082967847468639\"></div>\n",
       "<script type=\"text/javascript\">\n",
       "\n",
       "var ldavis_el28781628146967082967847468639_data = {\"mdsDat\": {\"x\": [0.05151814188004731, -0.3826883433588436, -0.1975795083713888, 0.33704104614890296, -0.14299663949073518, 0.19349728003507252, 0.10742392382767514, 0.03378409932926972], \"y\": [0.4230119999220377, -0.025440729300950902, 0.1974075413832947, 0.04474177120092297, -0.27483950034269183, -0.27901485167421813, 0.029956253777588086, -0.1158224849659825], \"topics\": [1, 2, 3, 4, 5, 6, 7, 8], \"cluster\": [1, 1, 1, 1, 1, 1, 1, 1], \"Freq\": [57.22625732421875, 10.957680702209473, 9.493814468383789, 7.292644500732422, 6.58203125, 4.517518997192383, 1.9937829971313477, 1.9362707138061523]}, \"tinfo\": {\"Term\": [\"stay\", \"dish\", \"helpful\", \"staff\", \"taste\", \"area\", \"service\", \"salad\", \"main\", \"order\", \"excellent\", \"try\", \"great\", \"tasty\", \"say\", \"well\", \"ask\", \"parking\", \"look\", \"cheese\", \"expensive\", \"time\", \"friendly\", \"visit\", \"hilton_park\", \"delicious\", \"menu\", \"guest\", \"environment\", \"town\", \"staff\", \"service\", \"excellent\", \"great\", \"friendly\", \"visit\", \"place\", \"quality\", \"also\", \"time\", \"greek\", \"atmosphere\", \"recommend\", \"business\", \"well\", \"experience\", \"portion\", \"amazing\", \"clean\", \"friend\", \"always\", \"enjoy\", \"back\", \"dinner\", \"find\", \"definitely\", \"traditional\", \"big\", \"family\", \"lovely\", \"really\", \"go\", \"night\", \"make\", \"come\", \"price\", \"offer\", \"pool\", \"day\", \"dish\", \"salad\", \"tasty\", \"dessert\", \"starter\", \"meat\", \"italian\", \"cook\", \"average\", \"chicken\", \"fish\", \"steak\", \"cypriot\", \"fry\", \"highly_recommende\", \"sauce\", \"seat\", \"casual\", \"mushroom\", \"jamie_italian\", \"decor\", \"authentic\", \"pork\", \"dip\", \"chip\", \"appetizer\", \"potato\", \"grill\", \"ingredient\", \"dry\", \"different\", \"order\", \"taste\", \"try\", \"pasta\", \"menu\", \"meal\", \"delicious\", \"plate\", \"fresh\", \"serve\", \"love\", \"stay\", \"main\", \"cheese\", \"expensive\", \"sure\", \"burger\", \"free\", \"set\", \"change\", \"reasonable\", \"probably\", \"available\", \"help\", \"exceptional\", \"whole\", \"ball\", \"wide\", \"value\", \"possible\", \"perfectly\", \"fact\", \"compare\", \"generally\", \"beer\", \"opinion\", \"speak\", \"item\", \"cost\", \"else\", \"colleague\", \"quick\", \"pay\", \"far\", \"waiter\", \"love\", \"wait\", \"meal\", \"leave\", \"plate\", \"table\", \"parking\", \"hilton_park\", \"guest\", \"town\", \"worth\", \"nearby\", \"member\", \"personnel\", \"due\", \"product\", \"glass\", \"result\", \"term\", \"door\", \"receive\", \"executive\", \"maintain\", \"train\", \"visitor\", \"gold\", \"extensive\", \"easily\", \"outdoor\", \"bathroom\", \"display\", \"taxi\", \"surround\", \"car\", \"convenient\", \"excited\", \"problem\", \"look\", \"ok\", \"bed\", \"seem\", \"lobby\", \"expect\", \"pool\", \"ask\", \"kitchen\", \"cocktail\", \"coffee\", \"absolutely\", \"several\", \"tasteless\", \"calamari\", \"beef\", \"third\", \"salt\", \"seafood\", \"tell\", \"hard\", \"prepare\", \"notice\", \"reserve\", \"disappointed\", \"drop\", \"slightly\", \"attention\", \"impression\", \"range\", \"establishment\", \"soft\", \"surrounding\", \"previous\", \"pepper\", \"supper\", \"picture\", \"dress\", \"expect\", \"charge\", \"look\", \"know\", \"say\", \"arrive\", \"waiter\", \"cold\", \"name\", \"get\", \"give\", \"take\", \"order\", \"evening\", \"table\", \"area\", \"choose\", \"customer\", \"extremely\", \"locate\", \"interesting\", \"crowd\", \"decide\", \"put\", \"noisy\", \"improve\", \"usual\", \"twice\", \"perhaps\", \"hear\", \"medium\", \"strongly\", \"low\", \"careful\", \"weekend\", \"case\", \"totally\", \"recently\", \"comment\", \"generous\", \"renovate\", \"renovation\", \"overpriced\", \"congrat\", \"fault\", \"let\", \"rather\", \"helpful\", \"decorate\", \"guy\", \"event\", \"least\", \"conference\", \"season\", \"knowledgeable\", \"awesome\", \"unpretentious\", \"occasion\", \"rate\", \"organise\", \"host\", \"cool\", \"enter\", \"personally\", \"prompt\", \"approach\", \"employee\", \"speed\", \"ellinikon\", \"replace\", \"adult\", \"spread\", \"branch\", \"company\", \"successful\", \"attempt\", \"closed\", \"issue\", \"rich\", \"environment\", \"jamie\", \"word\", \"olive\", \"buy\", \"cheap\", \"slow\", \"hand\", \"budget\", \"personal\", \"possibly\", \"consistency\", \"flavor\", \"classic\", \"beverage\", \"daily\", \"study\", \"eatery\", \"handle\", \"strong\", \"adequate\", \"equipment\", \"indeed\", \"per_person\", \"joke\", \"appear\", \"funny\", \"story\", \"assistance\", \"chair\"], \"Freq\": [297.0, 236.0, 82.0, 599.0, 149.0, 83.0, 502.0, 111.0, 98.0, 151.0, 449.0, 146.0, 417.0, 89.0, 105.0, 408.0, 61.0, 64.0, 80.0, 68.0, 68.0, 339.0, 322.0, 322.0, 57.0, 127.0, 122.0, 54.0, 34.0, 52.0, 599.0780639648438, 501.90179443359375, 448.6817626953125, 416.6385803222656, 321.81103515625, 321.6523742675781, 286.37811279296875, 236.08863830566406, 217.7344970703125, 338.24822998046875, 197.1975555419922, 164.12722778320312, 160.11488342285156, 156.0537567138672, 405.9612121582031, 146.23434448242188, 152.6168670654297, 139.9773406982422, 138.17762756347656, 138.24354553222656, 133.1640167236328, 136.74453735351562, 126.78992462158203, 123.13663482666016, 119.08677673339844, 118.4380874633789, 113.4964828491211, 113.08063507080078, 112.8726806640625, 112.05110931396484, 243.5320281982422, 306.3563537597656, 117.17781829833984, 193.8227996826172, 152.9694061279297, 167.9835205078125, 123.349365234375, 134.6778106689453, 123.59945678710938, 235.86386108398438, 111.00391387939453, 88.34357452392578, 60.692832946777344, 58.573463439941406, 56.45096206665039, 46.58768081665039, 45.711631774902344, 43.30253219604492, 42.725242614746094, 36.7299919128418, 34.22151565551758, 30.369630813598633, 29.745973587036133, 29.161956787109375, 28.957107543945312, 27.98351287841797, 27.20599937438965, 24.78473472595215, 24.296283721923828, 24.268335342407227, 23.89902114868164, 22.356027603149414, 21.983299255371094, 20.828134536743164, 20.137968063354492, 19.959733963012695, 18.805551528930664, 18.796981811523438, 16.8050537109375, 43.64775085449219, 115.20581817626953, 104.51766204833984, 72.9370346069336, 35.4293098449707, 55.943843841552734, 43.40095138549805, 45.22334289550781, 35.28915786743164, 35.68935775756836, 37.297489166259766, 26.873950958251953, 296.364501953125, 97.60725402832031, 67.73956298828125, 67.50003814697266, 51.413429260253906, 50.63053894042969, 37.769901275634766, 36.064701080322266, 35.590904235839844, 35.27376174926758, 32.220359802246094, 29.821619033813477, 28.70623779296875, 27.782379150390625, 25.894968032836914, 25.81631851196289, 25.047687530517578, 24.666337966918945, 24.449913024902344, 23.374406814575195, 23.222957611083984, 22.807687759399414, 21.89838981628418, 21.793418884277344, 20.161474227905273, 20.049400329589844, 18.51881217956543, 16.937349319458008, 16.83872413635254, 15.929813385009766, 32.731319427490234, 45.799591064453125, 37.05336380004883, 45.422157287597656, 38.304683685302734, 28.070648193359375, 37.08740234375, 29.530014038085938, 28.660499572753906, 25.96823501586914, 63.566871643066406, 56.86149215698242, 54.1302604675293, 51.7152214050293, 35.1121826171875, 27.826034545898438, 27.753398895263672, 27.0487003326416, 25.586515426635742, 24.155590057373047, 23.078426361083984, 22.32414436340332, 21.919147491455078, 19.276954650878906, 18.775157928466797, 17.369422912597656, 17.115081787109375, 17.07752799987793, 17.013538360595703, 16.900840759277344, 16.611881256103516, 16.435649871826172, 16.006853103637695, 14.57166576385498, 14.370826721191406, 14.153592109680176, 14.142769813537598, 13.953882217407227, 13.815296173095703, 12.545624732971191, 30.408336639404297, 43.049190521240234, 20.348480224609375, 26.197067260742188, 22.10560417175293, 17.244064331054688, 17.507917404174805, 16.20968246459961, 61.15715789794922, 45.79428482055664, 31.815149307250977, 31.038942337036133, 24.58707618713379, 22.83378028869629, 22.345670700073242, 18.387531280517578, 18.251314163208008, 16.536367416381836, 15.80397891998291, 15.46184253692627, 14.599989891052246, 14.566797256469727, 14.527076721191406, 13.496819496154785, 12.645528793334961, 12.466381072998047, 12.498003005981445, 12.35234260559082, 10.887748718261719, 10.82302188873291, 10.687301635742188, 10.48820686340332, 10.377659797668457, 10.34917163848877, 10.196529388427734, 10.154203414916992, 9.486882209777832, 9.324705123901367, 9.328010559082031, 41.38424301147461, 15.054339408874512, 36.440956115722656, 27.01613998413086, 34.16307067871094, 22.99843406677246, 24.04594612121582, 18.4693603515625, 14.933331489562988, 23.066102981567383, 19.61994171142578, 19.397228240966797, 16.93876838684082, 14.59177017211914, 14.334388732910156, 82.505126953125, 42.85222244262695, 39.79814529418945, 37.19635772705078, 30.185298919677734, 29.361774444580078, 26.394390106201172, 25.982254028320312, 23.85317039489746, 16.230239868164062, 16.014936447143555, 15.882014274597168, 15.43716812133789, 15.416058540344238, 14.815147399902344, 14.661980628967285, 14.459859848022461, 14.380217552185059, 14.37806510925293, 13.851902961730957, 13.812776565551758, 13.311883926391602, 13.170953750610352, 13.120981216430664, 12.851704597473145, 12.676345825195312, 12.152522087097168, 11.74111557006836, 11.629843711853027, 11.339777946472168, 12.115750312805176, 13.83694839477539, 81.61181640625, 19.473215103149414, 16.90625762939453, 14.769597053527832, 12.385542869567871, 11.672292709350586, 11.018182754516602, 9.019612312316895, 8.373058319091797, 7.059847354888916, 6.930476665496826, 6.71832799911499, 6.43520975112915, 6.2761688232421875, 5.842301845550537, 4.759941577911377, 4.661031246185303, 4.55458927154541, 3.8004021644592285, 3.540614604949951, 3.5242326259613037, 3.4292287826538086, 3.2012033462524414, 2.920571804046631, 2.826340436935425, 2.699216842651367, 2.6409308910369873, 2.4644434452056885, 2.2048001289367676, 1.9682896137237549, 3.9856321811676025, 3.7920031547546387, 33.50905990600586, 16.866619110107422, 14.562845230102539, 11.234671592712402, 10.110036849975586, 9.929983139038086, 7.611440181732178, 7.232538223266602, 6.8522491455078125, 6.054584503173828, 5.379652976989746, 5.381423473358154, 5.351080894470215, 5.302811145782471, 5.188791751861572, 4.89702844619751, 4.735879898071289, 4.693403244018555, 4.676568984985352, 4.339540481567383, 4.219208717346191, 4.1932878494262695, 4.1263427734375, 4.100070953369141, 3.805401086807251, 3.4965364933013916, 3.1859512329101562, 3.1913673877716064, 3.1504580974578857, 3.1334195137023926], \"Total\": [297.0, 236.0, 82.0, 599.0, 149.0, 83.0, 502.0, 111.0, 98.0, 151.0, 449.0, 146.0, 417.0, 89.0, 105.0, 408.0, 61.0, 64.0, 80.0, 68.0, 68.0, 339.0, 322.0, 322.0, 57.0, 127.0, 122.0, 54.0, 34.0, 52.0, 599.8578491210938, 502.6810302734375, 449.4608459472656, 417.41748046875, 322.59002685546875, 322.4320068359375, 287.1573791503906, 236.8679656982422, 218.51376342773438, 339.4640197753906, 197.9777374267578, 164.90658569335938, 160.89414978027344, 156.8326873779297, 408.0494079589844, 147.01353454589844, 153.4449462890625, 140.75621032714844, 138.9564666748047, 139.0231170654297, 133.9429473876953, 137.54730224609375, 127.56914520263672, 123.91609954833984, 119.86790466308594, 119.21721649169922, 114.27680969238281, 113.85985565185547, 113.65182495117188, 112.8302001953125, 245.78968811035156, 319.781494140625, 118.1522216796875, 202.57936096191406, 157.09764099121094, 180.75978088378906, 128.05062866210938, 151.8806915283203, 134.48460388183594, 236.70201110839844, 111.84193420410156, 89.20033264160156, 61.533424377441406, 59.41150665283203, 57.28933334350586, 47.42552947998047, 46.54963302612305, 44.14052963256836, 43.563079833984375, 37.568267822265625, 35.05966567993164, 31.208423614501953, 30.58376121520996, 30.00010108947754, 29.79471778869629, 28.821739196777344, 28.044309616088867, 25.622648239135742, 25.135032653808594, 25.10668182373047, 24.73801612854004, 23.19481086730957, 22.823116302490234, 21.666215896606445, 20.97632598876953, 20.800426483154297, 19.644250869750977, 19.64610481262207, 17.64383888244629, 46.24512481689453, 151.42481994628906, 149.03536987304688, 146.43646240234375, 49.7170524597168, 122.20174407958984, 81.2744140625, 127.82946014404297, 90.25445556640625, 93.97792053222656, 134.4683074951172, 65.88551330566406, 297.15679931640625, 98.4007797241211, 68.53422546386719, 68.29277801513672, 52.2071418762207, 51.425025939941406, 38.562538146972656, 36.857601165771484, 36.38383865356445, 36.06660079956055, 33.01321792602539, 30.614229202270508, 29.498807907104492, 28.574825286865234, 26.68758201599121, 26.610441207885742, 25.84087562561035, 25.459394454956055, 25.242694854736328, 24.16733169555664, 24.017499923706055, 23.600685119628906, 22.692686080932617, 22.586551666259766, 20.954586029052734, 20.842323303222656, 19.3118896484375, 17.730670928955078, 17.631345748901367, 16.723989486694336, 35.32448959350586, 54.29389190673828, 49.712520599365234, 70.13997650146484, 65.88551330566406, 40.27505874633789, 81.2744140625, 47.926204681396484, 90.25445556640625, 58.2619743347168, 64.3479232788086, 57.64198684692383, 54.910728454589844, 52.49602127075195, 35.89305114746094, 28.60658836364746, 28.534090042114258, 27.829532623291016, 26.367944717407227, 24.93677520751953, 23.864896774291992, 23.10723114013672, 22.700231552124023, 20.057472229003906, 19.555837631225586, 18.149457931518555, 17.895633697509766, 17.85955810546875, 17.79414939880371, 17.683082580566406, 17.39333724975586, 17.21680450439453, 16.787599563598633, 15.351860046386719, 15.153651237487793, 14.933631896972656, 14.924341201782227, 14.73399829864502, 14.595508575439453, 13.329885482788086, 33.487884521484375, 80.14965057373047, 27.574878692626953, 46.475059509277344, 47.142822265625, 30.766538619995117, 80.57110595703125, 151.8806915283203, 61.959266662597656, 46.59816360473633, 32.617576599121094, 31.84111785888672, 25.389394760131836, 23.636926651000977, 23.14852523803711, 19.19162368774414, 19.054929733276367, 17.339052200317383, 16.606367111206055, 16.26484489440918, 15.4022216796875, 15.369222640991211, 15.32955265045166, 14.298752784729004, 13.449480056762695, 13.2688627243042, 13.305007934570312, 13.156038284301758, 11.690288543701172, 11.625821113586426, 11.489444732666016, 11.292479515075684, 11.17984676361084, 11.151558876037598, 10.99911117553711, 10.958714485168457, 10.298615455627441, 10.127421379089355, 10.131206512451172, 80.57110595703125, 20.364192962646484, 80.14965057373047, 61.25457763671875, 105.58490753173828, 55.60051345825195, 70.13997650146484, 49.213993072509766, 31.620080947875977, 123.13946533203125, 74.9013671875, 85.09619140625, 151.42481994628906, 45.67924880981445, 58.2619743347168, 83.3109359741211, 43.66350555419922, 40.60404586791992, 38.00380325317383, 30.990495681762695, 30.16840934753418, 27.201026916503906, 26.78899383544922, 24.65960121154785, 17.036108016967773, 16.8206729888916, 16.68809700012207, 16.24399185180664, 16.22262954711914, 15.62073802947998, 15.470270156860352, 15.265262603759766, 15.185985565185547, 15.184572219848633, 14.657180786132812, 14.618480682373047, 14.118083000183105, 13.976062774658203, 13.926708221435547, 13.657947540283203, 13.48137378692627, 12.957535743713379, 12.547191619873047, 12.439746856689453, 12.145805358886719, 13.018574714660645, 25.929508209228516, 82.44194030761719, 20.30467987060547, 17.738433837890625, 15.599529266357422, 13.217238426208496, 12.531813621520996, 11.850066184997559, 9.849623680114746, 9.203676223754883, 7.897889614105225, 7.762085914611816, 7.550164699554443, 7.2658209800720215, 7.107436656951904, 6.6731672286987305, 5.591096878051758, 5.49240779876709, 5.386131763458252, 4.632058143615723, 4.370409965515137, 4.355739593505859, 4.264235496520996, 4.035100936889648, 3.7546679973602295, 3.6674461364746094, 3.5294559001922607, 3.471752166748047, 3.295954942703247, 3.0376152992248535, 2.7983946800231934, 8.796842575073242, 8.238926887512207, 34.34601593017578, 17.706050872802734, 15.400925636291504, 12.074016571044922, 10.949686050415039, 10.767282485961914, 8.448500633239746, 8.069276809692383, 7.689942359924316, 6.891237735748291, 6.218630790710449, 6.221015453338623, 6.188790321350098, 6.14024019241333, 6.0257463455200195, 5.734703063964844, 5.575638294219971, 5.530940055847168, 5.530280113220215, 5.177211761474609, 5.056717872619629, 5.029766082763672, 4.963631629943848, 4.940704345703125, 4.64372444152832, 4.335285663604736, 4.023309230804443, 4.032186508178711, 3.9874777793884277, 3.9707939624786377], \"Category\": [\"Default\", \"Default\", \"Default\", \"Default\", \"Default\", \"Default\", \"Default\", \"Default\", \"Default\", \"Default\", \"Default\", \"Default\", \"Default\", \"Default\", \"Default\", \"Default\", \"Default\", \"Default\", \"Default\", \"Default\", \"Default\", \"Default\", \"Default\", \"Default\", \"Default\", \"Default\", \"Default\", \"Default\", \"Default\", \"Default\", \"Topic1\", \"Topic1\", \"Topic1\", \"Topic1\", \"Topic1\", \"Topic1\", \"Topic1\", \"Topic1\", \"Topic1\", \"Topic1\", \"Topic1\", \"Topic1\", \"Topic1\", \"Topic1\", \"Topic1\", \"Topic1\", \"Topic1\", \"Topic1\", \"Topic1\", \"Topic1\", \"Topic1\", \"Topic1\", \"Topic1\", \"Topic1\", \"Topic1\", \"Topic1\", \"Topic1\", \"Topic1\", \"Topic1\", \"Topic1\", \"Topic1\", \"Topic1\", \"Topic1\", \"Topic1\", \"Topic1\", \"Topic1\", \"Topic1\", \"Topic1\", \"Topic1\", \"Topic2\", \"Topic2\", \"Topic2\", \"Topic2\", \"Topic2\", \"Topic2\", \"Topic2\", \"Topic2\", \"Topic2\", \"Topic2\", \"Topic2\", \"Topic2\", \"Topic2\", \"Topic2\", \"Topic2\", \"Topic2\", \"Topic2\", \"Topic2\", \"Topic2\", \"Topic2\", \"Topic2\", \"Topic2\", \"Topic2\", \"Topic2\", \"Topic2\", \"Topic2\", \"Topic2\", \"Topic2\", \"Topic2\", \"Topic2\", \"Topic2\", \"Topic2\", \"Topic2\", \"Topic2\", \"Topic2\", \"Topic2\", \"Topic2\", \"Topic2\", \"Topic2\", \"Topic2\", \"Topic2\", \"Topic2\", \"Topic3\", \"Topic3\", \"Topic3\", \"Topic3\", \"Topic3\", \"Topic3\", \"Topic3\", \"Topic3\", \"Topic3\", \"Topic3\", \"Topic3\", \"Topic3\", \"Topic3\", \"Topic3\", \"Topic3\", \"Topic3\", \"Topic3\", \"Topic3\", \"Topic3\", \"Topic3\", \"Topic3\", \"Topic3\", \"Topic3\", \"Topic3\", \"Topic3\", \"Topic3\", \"Topic3\", \"Topic3\", \"Topic3\", \"Topic3\", \"Topic3\", \"Topic3\", \"Topic3\", \"Topic3\", \"Topic3\", \"Topic3\", \"Topic3\", \"Topic3\", \"Topic3\", \"Topic3\", \"Topic4\", \"Topic4\", \"Topic4\", \"Topic4\", \"Topic4\", \"Topic4\", \"Topic4\", \"Topic4\", \"Topic4\", \"Topic4\", \"Topic4\", \"Topic4\", \"Topic4\", \"Topic4\", \"Topic4\", \"Topic4\", \"Topic4\", \"Topic4\", \"Topic4\", \"Topic4\", \"Topic4\", \"Topic4\", \"Topic4\", \"Topic4\", \"Topic4\", \"Topic4\", \"Topic4\", \"Topic4\", \"Topic4\", \"Topic4\", \"Topic4\", \"Topic4\", \"Topic4\", \"Topic4\", \"Topic4\", \"Topic4\", \"Topic4\", \"Topic4\", \"Topic5\", \"Topic5\", \"Topic5\", \"Topic5\", \"Topic5\", \"Topic5\", \"Topic5\", \"Topic5\", \"Topic5\", \"Topic5\", \"Topic5\", \"Topic5\", \"Topic5\", \"Topic5\", \"Topic5\", \"Topic5\", \"Topic5\", \"Topic5\", \"Topic5\", \"Topic5\", \"Topic5\", \"Topic5\", \"Topic5\", \"Topic5\", \"Topic5\", \"Topic5\", \"Topic5\", \"Topic5\", \"Topic5\", \"Topic5\", \"Topic5\", \"Topic5\", \"Topic5\", \"Topic5\", \"Topic5\", \"Topic5\", \"Topic5\", \"Topic5\", \"Topic5\", \"Topic5\", \"Topic5\", \"Topic5\", \"Topic5\", \"Topic5\", \"Topic5\", \"Topic5\", \"Topic6\", \"Topic6\", \"Topic6\", \"Topic6\", \"Topic6\", \"Topic6\", \"Topic6\", \"Topic6\", \"Topic6\", \"Topic6\", \"Topic6\", \"Topic6\", \"Topic6\", \"Topic6\", \"Topic6\", \"Topic6\", \"Topic6\", \"Topic6\", \"Topic6\", \"Topic6\", \"Topic6\", \"Topic6\", \"Topic6\", \"Topic6\", \"Topic6\", \"Topic6\", \"Topic6\", \"Topic6\", \"Topic6\", \"Topic6\", \"Topic6\", \"Topic6\", \"Topic7\", \"Topic7\", \"Topic7\", \"Topic7\", \"Topic7\", \"Topic7\", \"Topic7\", \"Topic7\", \"Topic7\", \"Topic7\", \"Topic7\", \"Topic7\", \"Topic7\", \"Topic7\", \"Topic7\", \"Topic7\", \"Topic7\", \"Topic7\", \"Topic7\", \"Topic7\", \"Topic7\", \"Topic7\", \"Topic7\", \"Topic7\", \"Topic7\", \"Topic7\", \"Topic7\", \"Topic7\", \"Topic7\", \"Topic7\", \"Topic7\", \"Topic7\", \"Topic8\", \"Topic8\", \"Topic8\", \"Topic8\", \"Topic8\", \"Topic8\", \"Topic8\", \"Topic8\", \"Topic8\", \"Topic8\", \"Topic8\", \"Topic8\", \"Topic8\", \"Topic8\", \"Topic8\", \"Topic8\", \"Topic8\", \"Topic8\", \"Topic8\", \"Topic8\", \"Topic8\", \"Topic8\", \"Topic8\", \"Topic8\", \"Topic8\", \"Topic8\", \"Topic8\", \"Topic8\", \"Topic8\", \"Topic8\"], \"logprob\": [30.0, 29.0, 28.0, 27.0, 26.0, 25.0, 24.0, 23.0, 22.0, 21.0, 20.0, 19.0, 18.0, 17.0, 16.0, 15.0, 14.0, 13.0, 12.0, 11.0, 10.0, 9.0, 8.0, 7.0, 6.0, 5.0, 4.0, 3.0, 2.0, 1.0, -3.5257999897003174, -3.7028000354766846, -3.8148999214172363, -3.8889999389648438, -4.147299766540527, -4.147799968719482, -4.263899803161621, -4.456999778747559, -4.538000106811523, -4.097499847412109, -4.63700008392334, -4.8206000328063965, -4.845300197601318, -4.870999813079834, -3.9149999618530273, -4.935999870300293, -4.8933000564575195, -4.979800224304199, -4.992700099945068, -4.992199897766113, -5.029699802398682, -5.0030999183654785, -5.078700065612793, -5.107900142669678, -5.14139986038208, -5.146900177001953, -5.189499855041504, -5.1930999755859375, -5.195000171661377, -5.202300071716309, -4.426000118255615, -4.196499824523926, -5.15749979019165, -4.654300212860107, -4.890999794006348, -4.797399997711182, -5.106200218200684, -5.018400192260742, -5.1041998863220215, -2.805000066757202, -3.5587000846862793, -3.7869999408721924, -4.162399768829346, -4.197999954223633, -4.234899997711182, -4.4268999099731445, -4.445899963378906, -4.500100135803223, -4.513500213623047, -4.664700031280518, -4.735400199890137, -4.854800224304199, -4.8755998611450195, -4.895400047302246, -4.902500152587891, -4.936699867248535, -4.964799880981445, -5.058000087738037, -5.077899932861328, -5.079100131988525, -5.094399929046631, -5.161200046539307, -5.177999973297119, -5.23199987411499, -5.265699863433838, -5.274600028991699, -5.334099769592285, -5.33459997177124, -5.446599960327148, -4.492099761962891, -3.5215001106262207, -3.6189000606536865, -3.9786999225616455, -4.700699806213379, -4.243899822235107, -4.497799873352051, -4.456699848175049, -4.704699993133545, -4.693399906158447, -4.6493000984191895, -4.977099895477295, -2.433300018310547, -3.5439000129699707, -3.9091999530792236, -3.9126999378204346, -4.184999942779541, -4.200300216674805, -4.4934000968933105, -4.539599895477295, -4.552800178527832, -4.561699867248535, -4.652299880981445, -4.729599952697754, -4.7677998542785645, -4.80049991607666, -4.870800018310547, -4.873899936676025, -4.904099941253662, -4.919400215148926, -4.928199768066406, -4.973199844360352, -4.979700088500977, -4.997799873352051, -5.03849983215332, -5.043300151824951, -5.121099948883057, -5.126699924468994, -5.206099987030029, -5.295300006866455, -5.301199913024902, -5.3566999435424805, -4.636499881744385, -4.300600051879883, -4.512499809265137, -4.308899879455566, -4.479300022125244, -4.79010009765625, -4.511600017547607, -4.739500045776367, -4.7692999839782715, -4.868000030517578, -3.7090001106262207, -3.820499897003174, -3.8696999549865723, -3.915299892425537, -4.302499771118164, -4.535099983215332, -4.537700176239014, -4.563499927520752, -4.61899995803833, -4.676599979400635, -4.7221999168396, -4.75540018081665, -4.77370023727417, -4.902200222015381, -4.928599834442139, -5.006400108337402, -5.021100044250488, -5.0233001708984375, -5.027100086212158, -5.033699989318848, -5.051000118255615, -5.061600208282471, -5.088099956512451, -5.182000160217285, -5.195899963378906, -5.211100101470947, -5.211900234222412, -5.225299835205078, -5.235300064086914, -5.331699848175049, -4.446400165557861, -4.098800182342529, -4.848100185394287, -4.595399856567383, -4.7652997970581055, -5.013599872589111, -4.9984002113342285, -5.075500011444092, -3.6451001167297363, -3.9344000816345215, -4.298600196838379, -4.323299884796143, -4.556399822235107, -4.630300045013428, -4.651899814605713, -4.84689998626709, -4.854300022125244, -4.953000068664551, -4.998300075531006, -5.020199775695801, -5.077600002288818, -5.079800128936768, -5.082600116729736, -5.156099796295166, -5.22130012512207, -5.235499858856201, -5.232999801635742, -5.244699954986572, -5.3709001541137695, -5.3769001960754395, -5.389500141143799, -5.408299922943115, -5.418900012969971, -5.4217000007629395, -5.436500072479248, -5.440700054168701, -5.508699893951416, -5.525899887084961, -5.525599956512451, -4.035699844360352, -5.046899795532227, -4.162899971008301, -4.462100028991699, -4.227399826049805, -4.6230998039245605, -4.57859992980957, -4.84250020980835, -5.054999828338623, -4.620200157165527, -4.7820000648498535, -4.793399810791016, -4.928999900817871, -5.078100204467773, -5.095900058746338, -2.9693000316619873, -3.6243999004364014, -3.6984000205993652, -3.7660000324249268, -3.9748001098632812, -4.002500057220459, -4.109000205993652, -4.124800205230713, -4.210299968719482, -4.595300197601318, -4.608699798583984, -4.617000102996826, -4.645400047302246, -4.6468000411987305, -4.686500072479248, -4.696899890899658, -4.7108001708984375, -4.716300010681152, -4.7164998054504395, -4.753799915313721, -4.7565999031066895, -4.793499946594238, -4.804200172424316, -4.808000087738037, -4.828700065612793, -4.84250020980835, -4.884699821472168, -4.919099807739258, -4.928599834442139, -4.95389986038208, -4.887700080871582, -4.754799842834473, -2.1623001098632812, -3.5952000617980957, -3.736599922180176, -3.8717000484466553, -4.047699928283691, -4.10699987411499, -4.164700031280518, -4.3649001121521, -4.439199924468994, -4.609799861907959, -4.628300189971924, -4.65939998626709, -4.702499866485596, -4.727499961853027, -4.799099922180176, -5.004000186920166, -5.025000095367432, -5.048099994659424, -5.2291998863220215, -5.300000190734863, -5.304599761962891, -5.331900119781494, -5.400700092315674, -5.492499828338623, -5.525300025939941, -5.571300029754639, -5.593100070953369, -5.662300109863281, -5.773600101470947, -5.8871002197265625, -5.181600093841553, -5.231400012969971, -3.023200035095215, -3.709700107574463, -3.8564999103546143, -4.116000175476074, -4.221499919891357, -4.2393999099731445, -4.505300045013428, -4.556399822235107, -4.610400199890137, -4.7342000007629395, -4.852399826049805, -4.8520002365112305, -4.857699871063232, -4.866799831390381, -4.888500213623047, -4.946400165557861, -4.979800224304199, -4.988800048828125, -4.992400169372559, -5.067200183868408, -5.095300197601318, -5.101500034332275, -5.117599964141846, -5.124000072479248, -5.198599815368652, -5.283199787139893, -5.376200199127197, -5.374499797821045, -5.387400150299072, -5.392899990081787], \"loglift\": [30.0, 29.0, 28.0, 27.0, 26.0, 25.0, 24.0, 23.0, 22.0, 21.0, 20.0, 19.0, 18.0, 17.0, 16.0, 15.0, 14.0, 13.0, 12.0, 11.0, 10.0, 9.0, 8.0, 7.0, 6.0, 5.0, 4.0, 3.0, 2.0, 1.0, 0.5569000244140625, 0.5565999746322632, 0.5564000010490417, 0.5562999844551086, 0.5557000041007996, 0.5557000041007996, 0.555400013923645, 0.5548999905586243, 0.5546000003814697, 0.5546000003814697, 0.5541999936103821, 0.5533999800682068, 0.5533000230789185, 0.5532000064849854, 0.5529999732971191, 0.5527999997138977, 0.5526999831199646, 0.5526000261306763, 0.5525000095367432, 0.5525000095367432, 0.552299976348877, 0.552299976348877, 0.5519999861717224, 0.551800012588501, 0.5515999794006348, 0.5515999794006348, 0.5512999892234802, 0.5512999892234802, 0.5512999892234802, 0.5511999726295471, 0.5489000082015991, 0.5152999758720398, 0.5498999953269958, 0.5139999985694885, 0.531499981880188, 0.48489999771118164, 0.520799994468689, 0.43790000677108765, 0.47380000352859497, 2.2076001167297363, 2.2035999298095703, 2.2014999389648438, 2.1974000930786133, 2.196899890899658, 2.1963999271392822, 2.1933000087738037, 2.193000078201294, 2.191999912261963, 2.191699981689453, 2.1886000633239746, 2.1868999004364014, 2.1839001178741455, 2.1833999156951904, 2.182800054550171, 2.1826000213623047, 2.1816000938415527, 2.180799961090088, 2.1779000759124756, 2.1772000789642334, 2.1772000789642334, 2.1765999794006348, 2.174299955368042, 2.1735999584198, 2.1717000007629395, 2.170300006866455, 2.1698999404907227, 2.1675000190734863, 2.1668999195098877, 2.162400007247925, 2.1533000469207764, 1.9378000497817993, 1.8562999963760376, 1.5140999555587769, 1.8723000288009644, 1.429800033569336, 1.583799958229065, 1.1720000505447388, 1.2720999717712402, 1.242900013923645, 0.9286999702453613, 1.3143999576568604, 2.351900100708008, 2.346400022506714, 2.342900037765503, 2.342900037765503, 2.339200019836426, 2.3389999866485596, 2.3338000774383545, 2.3327999114990234, 2.3324999809265137, 2.3322999477386475, 2.330199956893921, 2.3282999992370605, 2.3273000717163086, 2.3264000415802, 2.324399948120117, 2.324199914932251, 2.3234000205993652, 2.3229000568389893, 2.3225998878479004, 2.321199893951416, 2.3208999633789062, 2.3203999996185303, 2.3189001083374023, 2.3187999725341797, 2.3159000873565674, 2.315700054168701, 2.3125998973846436, 2.308799982070923, 2.308500051498413, 2.3059000968933105, 2.2783000469207764, 2.1844000816345215, 2.0606000423431396, 1.9199999570846558, 1.8121999502182007, 1.993499994277954, 1.5700000524520874, 1.870300054550171, 1.2073999643325806, 1.5464999675750732, 2.606100082397461, 2.6047000885009766, 2.6040000915527344, 2.603300094604492, 2.596299886703491, 2.59060001373291, 2.59060001373291, 2.5897998809814453, 2.588200092315674, 2.5864999294281006, 2.5848000049591064, 2.5838000774383545, 2.5833001136779785, 2.5785999298095703, 2.5776000022888184, 2.574399948120117, 2.573699951171875, 2.573499917984009, 2.5734000205993652, 2.5731000900268555, 2.5722999572753906, 2.571899890899658, 2.57069993019104, 2.5660998821258545, 2.5652999877929688, 2.56469988822937, 2.564500093460083, 2.5638999938964844, 2.5634000301361084, 2.5576999187469482, 2.5218000411987305, 1.9967999458312988, 2.3143999576568604, 2.0450000762939453, 1.8609999418258667, 2.039299964904785, 1.0917999744415283, 0.3808000087738037, 2.7077999114990234, 2.703399896621704, 2.6958999633789062, 2.6953001022338867, 2.688699960708618, 2.686300039291382, 2.685499906539917, 2.677999973297119, 2.6777000427246094, 2.6733999252319336, 2.671299934387207, 2.6702001094818115, 2.66729998588562, 2.6672000885009766, 2.667099952697754, 2.663100004196167, 2.6591999530792236, 2.658400058746338, 2.6582999229431152, 2.6577999591827393, 2.6496999263763428, 2.6493000984191895, 2.6484999656677246, 2.646899938583374, 2.646399974822998, 2.646199941635132, 2.6451001167297363, 2.6445999145507812, 2.638700008392334, 2.638200044631958, 2.638200044631958, 2.0546000003814697, 2.4186999797821045, 1.9326000213623047, 1.9021999835968018, 1.5924999713897705, 1.8380999565124512, 1.6503000259399414, 1.7408000230789185, 1.9706000089645386, 1.0458999872207642, 1.3811999559402466, 1.2422000169754028, 0.5303000211715698, 1.5795999765396118, 1.31850004196167, 3.0875000953674316, 3.0785000324249268, 3.077199935913086, 3.075700044631958, 3.0708999633789062, 3.0701000690460205, 3.0671000480651855, 3.0666000843048096, 3.063999891281128, 3.0487000942230225, 3.048099994659424, 3.0476999282836914, 3.046299934387207, 3.0462000370025635, 3.044300079345703, 3.0434999465942383, 3.0429999828338623, 3.0427000522613525, 3.04259991645813, 3.0406999588012695, 3.0404999256134033, 3.0383999347686768, 3.037899971008301, 3.037600040435791, 3.036400079727173, 3.035599946975708, 3.033099889755249, 3.0308001041412354, 3.029900074005127, 3.0285000801086426, 3.0253000259399414, 2.4691998958587646, 3.9049999713897705, 3.873300075531006, 3.8671000003814697, 3.8605000972747803, 3.850100040435791, 3.844099998474121, 3.8422999382019043, 3.8271000385284424, 3.8206000328063965, 3.802999973297119, 3.801800012588501, 3.7983999252319336, 3.7936999797821045, 3.790800094604492, 3.7822000980377197, 3.754199981689453, 3.750999927520752, 3.7474000453948975, 3.7172000408172607, 3.7046000957489014, 3.7032999992370605, 3.697200059890747, 3.6835999488830566, 3.6638998985290527, 3.654599905014038, 3.6470000743865967, 3.6415998935699463, 3.6243999004364014, 3.5947000980377197, 3.5632998943328857, 3.1233999729156494, 3.13919997215271, 3.9196999073028564, 3.8958001136779785, 3.8884999752044678, 3.8724000453948975, 3.8645999431610107, 3.8635001182556152, 3.840100049972534, 3.83489990234375, 3.8290998935699463, 3.815000057220459, 3.799499988555908, 3.7994000911712646, 3.7990000247955322, 3.797800064086914, 3.7948999404907227, 3.7864999771118164, 3.7811999320983887, 3.7802000045776367, 3.776700019836426, 3.767899990081787, 3.7632999420166016, 3.762500047683716, 3.759700059890747, 3.7578999996185303, 3.745300054550171, 3.7293999195098877, 3.7111001014709473, 3.7105000019073486, 3.7088000774383545, 3.7076001167297363]}, \"token.table\": {\"Topic\": [5, 8, 7, 1, 1, 1, 8, 2, 7, 6, 1, 3, 5, 5, 8, 1, 7, 5, 2, 3, 2, 7, 1, 3, 4, 1, 4, 5, 3, 8, 1, 7, 8, 3, 1, 8, 5, 4, 6, 6, 2, 8, 3, 5, 6, 8, 3, 2, 2, 6, 8, 1, 7, 5, 5, 1, 3, 5, 3, 1, 3, 6, 7, 3, 7, 6, 8, 4, 2, 7, 3, 6, 6, 2, 8, 1, 5, 6, 2, 7, 1, 1, 2, 2, 2, 3, 1, 2, 5, 2, 4, 4, 5, 5, 2, 4, 4, 8, 7, 3, 7, 1, 7, 8, 8, 5, 1, 5, 7, 1, 3, 4, 4, 1, 2, 4, 5, 3, 1, 4, 6, 3, 1, 2, 3, 6, 1, 2, 8, 3, 1, 2, 1, 1, 2, 8, 3, 6, 1, 3, 4, 5, 6, 1, 2, 5, 4, 1, 3, 4, 1, 1, 2, 4, 7, 8, 8, 5, 6, 3, 7, 2, 4, 7, 5, 6, 8, 2, 6, 4, 7, 2, 3, 8, 2, 8, 5, 1, 5, 7, 7, 1, 3, 5, 6, 1, 4, 6, 4, 5, 2, 3, 1, 6, 3, 4, 1, 3, 2, 3, 2, 6, 4, 1, 2, 3, 2, 1, 5, 4, 1, 6, 5, 7, 1, 2, 4, 5, 8, 3, 2, 3, 5, 7, 4, 6, 4, 2, 5, 3, 5, 5, 8, 3, 6, 8, 7, 4, 5, 1, 1, 2, 3, 1, 4, 2, 1, 3, 8, 2, 5, 5, 1, 2, 3, 4, 5, 4, 7, 6, 1, 2, 3, 5, 7, 5, 6, 1, 3, 3, 4, 6, 1, 6, 6, 7, 5, 4, 3, 7, 2, 5, 2, 1, 5, 5, 7, 2, 1, 4, 1, 2, 1, 3, 5, 5, 8, 5, 3, 7, 7, 1, 2, 3, 2, 8, 8, 6, 8, 7, 5, 3, 4, 5, 2, 3, 5, 1, 5, 1, 2, 5, 2, 4, 5, 4, 5, 1, 3, 6, 4, 1, 4, 1, 2, 6, 7, 6, 3, 1, 4, 1, 3, 5, 3, 5, 6, 1, 3, 3, 3, 8, 4], \"Freq\": [0.9846630692481995, 0.7910269498825073, 0.799005389213562, 0.9976488351821899, 0.9929600954055786, 0.9946275353431702, 0.6919959187507629, 0.9534558057785034, 0.8635470271110535, 0.9962677359580994, 0.5035924911499023, 0.07194177806377411, 0.413665235042572, 0.9845178127288818, 0.7523552775382996, 0.9945024251937866, 0.6584112048149109, 0.940951943397522, 0.9701667428016663, 0.9799364805221558, 0.9741613864898682, 0.8692178726196289, 0.9955385327339172, 0.977060079574585, 0.9770802855491638, 0.4303383529186249, 0.5594398379325867, 0.9446374177932739, 0.9740309119224548, 0.8297727108001709, 0.9924481511116028, 0.8499893546104431, 0.9102799296379089, 0.99173504114151, 0.9946905970573425, 0.9132682085037231, 0.9379091858863831, 0.9501833319664001, 0.9219884276390076, 0.9576918482780457, 0.962762176990509, 0.7555164098739624, 0.9894502758979797, 0.7365869879722595, 0.24552899599075317, 0.9287394285202026, 0.9922049641609192, 0.9870743751525879, 0.9692509174346924, 0.984804093837738, 0.8143004179000854, 0.9931167960166931, 0.7146954536437988, 0.9810661673545837, 0.9735839366912842, 0.24383309483528137, 0.38606905937194824, 0.36574962735176086, 0.9567095041275024, 0.9739165902137756, 0.019096404314041138, 0.9334582090377808, 0.8641169667243958, 0.9745479822158813, 0.9575629234313965, 0.9646498560905457, 0.8037273287773132, 0.9591991901397705, 0.9881925582885742, 0.8991232514381409, 0.9587905406951904, 0.9558462500572205, 0.9851235151290894, 0.9612789154052734, 0.8718847036361694, 0.9220386147499084, 0.07435795664787292, 0.9705478549003601, 0.9559208154678345, 0.9357448816299438, 0.9897899031639099, 0.6414796710014343, 0.35203152894973755, 0.991331160068512, 0.9514516592025757, 0.04324780032038689, 0.9926071166992188, 0.9639349579811096, 0.9043729305267334, 0.9970341920852661, 0.9238697290420532, 0.9472779035568237, 0.8883443474769592, 0.9019160270690918, 0.9635091423988342, 0.986045777797699, 0.9293246269226074, 0.9040054678916931, 0.7035259008407593, 0.9641918540000916, 0.9152459502220154, 0.9960209727287292, 0.894278883934021, 0.9899255633354187, 0.7952656149864197, 0.8855451345443726, 0.6567533612251282, 0.3283766806125641, 0.9615674614906311, 0.9989746809005737, 0.9798834919929504, 0.9752522110939026, 0.9366670846939087, 0.12411396950483322, 0.13652536273002625, 0.2234051525592804, 0.5088672637939453, 0.9957128763198853, 0.9931058287620544, 0.9773857593536377, 0.9735867977142334, 0.9576350450515747, 0.9942647218704224, 0.24138787388801575, 0.7442793250083923, 0.905662477016449, 0.9927594661712646, 0.9848737120628357, 0.8079123497009277, 0.9854122996330261, 0.6171662211418152, 0.383068710565567, 0.9926406741142273, 0.9981709718704224, 0.9809126853942871, 0.745654821395874, 0.9694753885269165, 0.9518267512321472, 0.7065159678459167, 0.01624174602329731, 0.06496698409318924, 0.18678008019924164, 0.01624174602329731, 0.48063206672668457, 0.24031603336334229, 0.26701781153678894, 0.963758647441864, 0.9569033980369568, 0.04065275937318802, 0.9613708257675171, 0.998999834060669, 0.9950613975524902, 0.9672040939331055, 0.983414351940155, 0.9583709836006165, 0.867487907409668, 0.9041133522987366, 0.9759764671325684, 0.9602619409561157, 0.9830905795097351, 0.9946393966674805, 0.9666634202003479, 0.9888625144958496, 0.8441861867904663, 0.9461697340011597, 0.9512104392051697, 0.8058615922927856, 0.9671128392219543, 0.9612704515457153, 0.45470860600471497, 0.45470860600471497, 0.9910274147987366, 0.9838498830795288, 0.9601237773895264, 0.9548426270484924, 0.8613775372505188, 0.9871633648872375, 0.5550605654716492, 0.44078338146209717, 0.9137405157089233, 0.9079052209854126, 0.1460578888654709, 0.6259623765945435, 0.2295195311307907, 0.9217599034309387, 0.4225369691848755, 0.552548348903656, 0.9680387377738953, 0.5364964008331299, 0.44915980100631714, 0.40980178117752075, 0.5767580270767212, 0.9926420450210571, 0.9219026565551758, 0.995927095413208, 0.9499523639678955, 0.9576494097709656, 0.03949069604277611, 0.5290718078613281, 0.45524781942367554, 0.9774943590164185, 0.9696016907691956, 0.9812824130058289, 0.3682435154914856, 0.45825859904289246, 0.17184697091579437, 0.9756993055343628, 0.5060075521469116, 0.47438207268714905, 0.9787955284118652, 0.9902479648590088, 0.9391816258430481, 0.9091702103614807, 0.9018194675445557, 0.9605575799942017, 0.03123764507472515, 0.7252978682518005, 0.25385424494743347, 0.9110472798347473, 0.9544450044631958, 0.759452760219574, 0.12547481060028076, 0.11226693540811539, 0.8257842063903809, 0.9530844688415527, 0.956389307975769, 0.99459308385849, 0.7039837837219238, 0.28159353137016296, 0.8472408056259155, 0.14734622836112976, 0.9125158190727234, 0.8096011877059937, 0.9516979455947876, 0.9246343374252319, 0.8706708550453186, 0.910347580909729, 0.9701923727989197, 0.8886763453483582, 0.9959695339202881, 0.28807443380355835, 0.3877924978733063, 0.3213137686252594, 0.8888555765151978, 0.10534584522247314, 0.9484879970550537, 0.997100293636322, 0.9507701396942139, 0.804035484790802, 0.9615187644958496, 0.9785021543502808, 0.9091643691062927, 0.9294102787971497, 0.06638644635677338, 0.9693087339401245, 0.8958463668823242, 0.05972309038043022, 0.9624339938163757, 0.928309977054596, 0.9732517600059509, 0.9963356852531433, 0.056617945432662964, 0.9341961145401001, 0.9574005007743835, 0.9271320700645447, 0.4242270886898041, 0.5399253964424133, 0.9927186369895935, 0.008137037977576256, 0.9704269170761108, 0.9715768694877625, 0.9301618337631226, 0.9944426417350769, 0.9642934203147888, 0.9261020421981812, 0.7434758543968201, 0.9665800929069519, 0.9520829319953918, 0.48550012707710266, 0.48550012707710266, 0.9924721121788025, 0.963485836982727, 0.9733268618583679, 0.6724445819854736, 0.3220157325267792, 0.9222344160079956, 0.928264856338501, 0.971488893032074, 0.5090912580490112, 0.4666670262813568, 0.7139228582382202, 0.27515777945518494, 0.9986451864242554, 0.9767320156097412, 0.9730537533760071, 0.9121286869049072, 0.9469135999679565, 0.8944666385650635, 0.9595859050750732, 0.9183285236358643, 0.8180079460144043, 0.998569905757904, 0.9930736422538757, 0.9961071014404297, 0.969775378704071, 0.7440131902694702, 0.7726166248321533, 0.9171149134635925, 0.8967583179473877, 0.6068044304847717, 0.8739038705825806, 0.9768778681755066, 0.9380648732185364, 0.8967356085777283, 0.29178550839424133, 0.4462601840496063, 0.240293949842453, 0.763841450214386, 0.22327673435211182, 0.2952319383621216, 0.7045307159423828, 0.9503844976425171, 0.9865434169769287, 0.9374812841415405, 0.9738854765892029, 0.969153106212616, 0.9804457426071167, 0.9956872463226318, 0.0029458203352987766, 0.9208049178123474, 0.990551233291626, 0.9888270497322083, 0.9518712759017944, 0.4985097348690033, 0.4985097348690033, 0.9234183430671692, 0.88631272315979, 0.9587671756744385, 0.9819558262825012, 0.998660147190094, 0.9553701877593994, 0.24829262495040894, 0.6952193379402161, 0.04965852573513985, 0.6415742039680481, 0.34217292070388794, 0.9551632404327393, 0.9949775338172913, 0.002450683619827032, 0.9742358922958374, 0.967459499835968, 0.973967432975769, 0.9751191139221191], \"Term\": [\"absolutely\", \"adequate\", \"adult\", \"also\", \"always\", \"amazing\", \"appear\", \"appetizer\", \"approach\", \"area\", \"arrive\", \"arrive\", \"arrive\", \"ask\", \"assistance\", \"atmosphere\", \"attempt\", \"attention\", \"authentic\", \"available\", \"average\", \"awesome\", \"back\", \"ball\", \"bathroom\", \"bed\", \"bed\", \"beef\", \"beer\", \"beverage\", \"big\", \"branch\", \"budget\", \"burger\", \"business\", \"buy\", \"calamari\", \"car\", \"careful\", \"case\", \"casual\", \"chair\", \"change\", \"charge\", \"charge\", \"cheap\", \"cheese\", \"chicken\", \"chip\", \"choose\", \"classic\", \"clean\", \"closed\", \"cocktail\", \"coffee\", \"cold\", \"cold\", \"cold\", \"colleague\", \"come\", \"come\", \"comment\", \"company\", \"compare\", \"conference\", \"congrat\", \"consistency\", \"convenient\", \"cook\", \"cool\", \"cost\", \"crowd\", \"customer\", \"cypriot\", \"daily\", \"day\", \"day\", \"decide\", \"decor\", \"decorate\", \"definitely\", \"delicious\", \"delicious\", \"dessert\", \"different\", \"different\", \"dinner\", \"dip\", \"disappointed\", \"dish\", \"display\", \"door\", \"dress\", \"drop\", \"dry\", \"due\", \"easily\", \"eatery\", \"ellinikon\", \"else\", \"employee\", \"enjoy\", \"enter\", \"environment\", \"equipment\", \"establishment\", \"evening\", \"evening\", \"event\", \"excellent\", \"exceptional\", \"excited\", \"executive\", \"expect\", \"expect\", \"expect\", \"expect\", \"expensive\", \"experience\", \"extensive\", \"extremely\", \"fact\", \"family\", \"far\", \"far\", \"fault\", \"find\", \"fish\", \"flavor\", \"free\", \"fresh\", \"fresh\", \"friend\", \"friendly\", \"fry\", \"funny\", \"generally\", \"generous\", \"get\", \"get\", \"get\", \"get\", \"get\", \"give\", \"give\", \"give\", \"glass\", \"go\", \"go\", \"gold\", \"great\", \"greek\", \"grill\", \"guest\", \"guy\", \"hand\", \"handle\", \"hard\", \"hear\", \"help\", \"helpful\", \"highly_recommende\", \"hilton_park\", \"host\", \"impression\", \"improve\", \"indeed\", \"ingredient\", \"interesting\", \"issue\", \"issue\", \"italian\", \"item\", \"jamie\", \"jamie_italian\", \"joke\", \"kitchen\", \"know\", \"know\", \"knowledgeable\", \"least\", \"leave\", \"leave\", \"leave\", \"let\", \"lobby\", \"lobby\", \"locate\", \"look\", \"look\", \"love\", \"love\", \"lovely\", \"low\", \"main\", \"maintain\", \"make\", \"make\", \"meal\", \"meal\", \"meat\", \"medium\", \"member\", \"menu\", \"menu\", \"menu\", \"mushroom\", \"name\", \"name\", \"nearby\", \"night\", \"noisy\", \"notice\", \"occasion\", \"offer\", \"offer\", \"ok\", \"ok\", \"olive\", \"opinion\", \"order\", \"order\", \"order\", \"organise\", \"outdoor\", \"overpriced\", \"parking\", \"pasta\", \"pasta\", \"pay\", \"pay\", \"pepper\", \"per_person\", \"perfectly\", \"perhaps\", \"personal\", \"personally\", \"personnel\", \"picture\", \"place\", \"plate\", \"plate\", \"plate\", \"pool\", \"pool\", \"pork\", \"portion\", \"possible\", \"possibly\", \"potato\", \"prepare\", \"previous\", \"price\", \"price\", \"probably\", \"problem\", \"problem\", \"product\", \"prompt\", \"put\", \"quality\", \"quick\", \"quick\", \"range\", \"rate\", \"rather\", \"rather\", \"really\", \"really\", \"reasonable\", \"receive\", \"recently\", \"recommend\", \"renovate\", \"renovation\", \"replace\", \"reserve\", \"result\", \"rich\", \"rich\", \"salad\", \"salt\", \"sauce\", \"say\", \"say\", \"seafood\", \"season\", \"seat\", \"seem\", \"seem\", \"serve\", \"serve\", \"service\", \"set\", \"several\", \"slightly\", \"slow\", \"soft\", \"speak\", \"speed\", \"spread\", \"staff\", \"starter\", \"stay\", \"steak\", \"story\", \"strong\", \"strongly\", \"study\", \"successful\", \"supper\", \"sure\", \"surround\", \"surrounding\", \"table\", \"table\", \"table\", \"take\", \"take\", \"taste\", \"taste\", \"tasteless\", \"tasty\", \"taxi\", \"tell\", \"term\", \"third\", \"time\", \"time\", \"totally\", \"town\", \"traditional\", \"train\", \"try\", \"try\", \"twice\", \"unpretentious\", \"usual\", \"value\", \"visit\", \"visitor\", \"wait\", \"wait\", \"wait\", \"waiter\", \"waiter\", \"weekend\", \"well\", \"well\", \"whole\", \"wide\", \"word\", \"worth\"]}, \"R\": 30, \"lambda.step\": 0.01, \"plot.opts\": {\"xlab\": \"PC1\", \"ylab\": \"PC2\"}, \"topic.order\": [3, 5, 4, 7, 2, 1, 6, 8]};\n",
       "\n",
       "function LDAvis_load_lib(url, callback){\n",
       "  var s = document.createElement('script');\n",
       "  s.src = url;\n",
       "  s.async = true;\n",
       "  s.onreadystatechange = s.onload = callback;\n",
       "  s.onerror = function(){console.warn(\"failed to load library \" + url);};\n",
       "  document.getElementsByTagName(\"head\")[0].appendChild(s);\n",
       "}\n",
       "\n",
       "if(typeof(LDAvis) !== \"undefined\"){\n",
       "   // already loaded: just create the visualization\n",
       "   !function(LDAvis){\n",
       "       new LDAvis(\"#\" + \"ldavis_el28781628146967082967847468639\", ldavis_el28781628146967082967847468639_data);\n",
       "   }(LDAvis);\n",
       "}else if(typeof define === \"function\" && define.amd){\n",
       "   // require.js is available: use it to load d3/LDAvis\n",
       "   require.config({paths: {d3: \"https://cdnjs.cloudflare.com/ajax/libs/d3/3.5.5/d3.min\"}});\n",
       "   require([\"d3\"], function(d3){\n",
       "      window.d3 = d3;\n",
       "      LDAvis_load_lib(\"https://cdn.rawgit.com/bmabey/pyLDAvis/files/ldavis.v1.0.0.js\", function(){\n",
       "        new LDAvis(\"#\" + \"ldavis_el28781628146967082967847468639\", ldavis_el28781628146967082967847468639_data);\n",
       "      });\n",
       "    });\n",
       "}else{\n",
       "    // require.js not available: dynamically load d3 & LDAvis\n",
       "    LDAvis_load_lib(\"https://cdnjs.cloudflare.com/ajax/libs/d3/3.5.5/d3.min.js\", function(){\n",
       "         LDAvis_load_lib(\"https://cdn.rawgit.com/bmabey/pyLDAvis/files/ldavis.v1.0.0.js\", function(){\n",
       "                 new LDAvis(\"#\" + \"ldavis_el28781628146967082967847468639\", ldavis_el28781628146967082967847468639_data);\n",
       "            })\n",
       "         });\n",
       "}\n",
       "</script>"
      ],
      "text/plain": [
       "PreparedData(topic_coordinates=              x         y  topics  cluster       Freq\n",
       "topic                                                \n",
       "2      0.051518  0.423012       1        1  57.226257\n",
       "4     -0.382688 -0.025441       2        1  10.957681\n",
       "3     -0.197580  0.197408       3        1   9.493814\n",
       "6      0.337041  0.044742       4        1   7.292645\n",
       "1     -0.142997 -0.274840       5        1   6.582031\n",
       "0      0.193497 -0.279015       6        1   4.517519\n",
       "5      0.107424  0.029956       7        1   1.993783\n",
       "7      0.033784 -0.115822       8        1   1.936271, topic_info=            Term        Freq       Total Category  logprob  loglift\n",
       "140         stay  297.000000  297.000000  Default  30.0000  30.0000\n",
       "37          dish  236.000000  236.000000  Default  29.0000  29.0000\n",
       "437      helpful   82.000000   82.000000  Default  28.0000  28.0000\n",
       "16         staff  599.000000  599.000000  Default  27.0000  27.0000\n",
       "34         taste  149.000000  149.000000  Default  26.0000  26.0000\n",
       "...          ...         ...         ...      ...      ...      ...\n",
       "1494      appear    3.496536    4.335286   Topic8  -5.2832   3.7294\n",
       "1115       funny    3.185951    4.023309   Topic8  -5.3762   3.7111\n",
       "2790       story    3.191367    4.032187   Topic8  -5.3745   3.7105\n",
       "1714  assistance    3.150458    3.987478   Topic8  -5.3874   3.7088\n",
       "1819       chair    3.133420    3.970794   Topic8  -5.3929   3.7076\n",
       "\n",
       "[329 rows x 6 columns], token_table=      Topic      Freq        Term\n",
       "term                             \n",
       "377       5  0.984663  absolutely\n",
       "2161      8  0.791027    adequate\n",
       "2720      7  0.799005       adult\n",
       "89        1  0.997649        also\n",
       "36        1  0.992960      always\n",
       "...     ...       ...         ...\n",
       "155       3  0.002451        well\n",
       "457       3  0.974236       whole\n",
       "739       3  0.967459        wide\n",
       "1548      8  0.973967        word\n",
       "122       4  0.975119       worth\n",
       "\n",
       "[353 rows x 3 columns], R=30, lambda_step=0.01, plot_opts={'xlab': 'PC1', 'ylab': 'PC2'}, topic_order=[3, 5, 4, 7, 2, 1, 6, 8])"
      ]
     },
     "metadata": {},
     "output_type": "display_data"
    }
   ],
   "source": [
    "plot_model(tune_lda_positive, plot ='topic_model',save=True)"
   ]
  },
  {
   "cell_type": "code",
   "execution_count": 17,
   "metadata": {},
   "outputs": [
    {
     "data": {
      "text/html": [
       "        <script type=\"text/javascript\">\n",
       "        window.PlotlyConfig = {MathJaxConfig: 'local'};\n",
       "        if (window.MathJax) {MathJax.Hub.Config({SVG: {font: \"STIX-Web\"}});}\n",
       "        if (typeof require !== 'undefined') {\n",
       "        require.undef(\"plotly\");\n",
       "        requirejs.config({\n",
       "            paths: {\n",
       "                'plotly': ['https://cdn.plot.ly/plotly-latest.min']\n",
       "            }\n",
       "        });\n",
       "        require(['plotly'], function(Plotly) {\n",
       "            window._Plotly = Plotly;\n",
       "        });\n",
       "        }\n",
       "        </script>\n",
       "        "
      ]
     },
     "metadata": {},
     "output_type": "display_data"
    },
    {
     "data": {
      "application/vnd.plotly.v1+json": {
       "config": {
        "plotlyServerURL": "https://plot.ly"
       },
       "data": [
        {
         "alignmentgroup": "True",
         "customdata": [
          [
           "ask, kitchen, expect, look, say, cocktail, coffee, know, absolutely, waiter"
          ],
          [
           "staff, service, excellent, great, well, time, friendly, visit, go, place"
          ],
          [
           "stay, main, cheese, expensive, sure, burger, pay, waiter, love, free"
          ],
          [
           "dish, order, salad, taste, tasty, try, dessert, starter, meat, menu"
          ],
          [
           "parking, hilton_park, guest, town, look, worth, problem, nearby, member, personnel"
          ]
         ],
         "hovertemplate": "Topic=%{x}<br>Documents=%{y}<br>Keyword=%{customdata[0]}<extra></extra>",
         "legendgroup": "",
         "marker": {
          "color": "#636efa"
         },
         "name": "",
         "offsetgroup": "",
         "orientation": "v",
         "showlegend": false,
         "textposition": "auto",
         "type": "bar",
         "x": [
          "Topic 1",
          "Topic 2",
          "Topic 3",
          "Topic 4",
          "Topic 6"
         ],
         "xaxis": "x",
         "y": [
          6,
          1194,
          2,
          22,
          5
         ],
         "yaxis": "y"
        }
       ],
       "layout": {
        "barmode": "relative",
        "legend": {
         "tracegroupgap": 0
        },
        "template": {
         "data": {
          "bar": [
           {
            "error_x": {
             "color": "#2a3f5f"
            },
            "error_y": {
             "color": "#2a3f5f"
            },
            "marker": {
             "line": {
              "color": "#E5ECF6",
              "width": 0.5
             }
            },
            "type": "bar"
           }
          ],
          "barpolar": [
           {
            "marker": {
             "line": {
              "color": "#E5ECF6",
              "width": 0.5
             }
            },
            "type": "barpolar"
           }
          ],
          "carpet": [
           {
            "aaxis": {
             "endlinecolor": "#2a3f5f",
             "gridcolor": "white",
             "linecolor": "white",
             "minorgridcolor": "white",
             "startlinecolor": "#2a3f5f"
            },
            "baxis": {
             "endlinecolor": "#2a3f5f",
             "gridcolor": "white",
             "linecolor": "white",
             "minorgridcolor": "white",
             "startlinecolor": "#2a3f5f"
            },
            "type": "carpet"
           }
          ],
          "choropleth": [
           {
            "colorbar": {
             "outlinewidth": 0,
             "ticks": ""
            },
            "type": "choropleth"
           }
          ],
          "contour": [
           {
            "colorbar": {
             "outlinewidth": 0,
             "ticks": ""
            },
            "colorscale": [
             [
              0,
              "#0d0887"
             ],
             [
              0.1111111111111111,
              "#46039f"
             ],
             [
              0.2222222222222222,
              "#7201a8"
             ],
             [
              0.3333333333333333,
              "#9c179e"
             ],
             [
              0.4444444444444444,
              "#bd3786"
             ],
             [
              0.5555555555555556,
              "#d8576b"
             ],
             [
              0.6666666666666666,
              "#ed7953"
             ],
             [
              0.7777777777777778,
              "#fb9f3a"
             ],
             [
              0.8888888888888888,
              "#fdca26"
             ],
             [
              1,
              "#f0f921"
             ]
            ],
            "type": "contour"
           }
          ],
          "contourcarpet": [
           {
            "colorbar": {
             "outlinewidth": 0,
             "ticks": ""
            },
            "type": "contourcarpet"
           }
          ],
          "heatmap": [
           {
            "colorbar": {
             "outlinewidth": 0,
             "ticks": ""
            },
            "colorscale": [
             [
              0,
              "#0d0887"
             ],
             [
              0.1111111111111111,
              "#46039f"
             ],
             [
              0.2222222222222222,
              "#7201a8"
             ],
             [
              0.3333333333333333,
              "#9c179e"
             ],
             [
              0.4444444444444444,
              "#bd3786"
             ],
             [
              0.5555555555555556,
              "#d8576b"
             ],
             [
              0.6666666666666666,
              "#ed7953"
             ],
             [
              0.7777777777777778,
              "#fb9f3a"
             ],
             [
              0.8888888888888888,
              "#fdca26"
             ],
             [
              1,
              "#f0f921"
             ]
            ],
            "type": "heatmap"
           }
          ],
          "heatmapgl": [
           {
            "colorbar": {
             "outlinewidth": 0,
             "ticks": ""
            },
            "colorscale": [
             [
              0,
              "#0d0887"
             ],
             [
              0.1111111111111111,
              "#46039f"
             ],
             [
              0.2222222222222222,
              "#7201a8"
             ],
             [
              0.3333333333333333,
              "#9c179e"
             ],
             [
              0.4444444444444444,
              "#bd3786"
             ],
             [
              0.5555555555555556,
              "#d8576b"
             ],
             [
              0.6666666666666666,
              "#ed7953"
             ],
             [
              0.7777777777777778,
              "#fb9f3a"
             ],
             [
              0.8888888888888888,
              "#fdca26"
             ],
             [
              1,
              "#f0f921"
             ]
            ],
            "type": "heatmapgl"
           }
          ],
          "histogram": [
           {
            "marker": {
             "colorbar": {
              "outlinewidth": 0,
              "ticks": ""
             }
            },
            "type": "histogram"
           }
          ],
          "histogram2d": [
           {
            "colorbar": {
             "outlinewidth": 0,
             "ticks": ""
            },
            "colorscale": [
             [
              0,
              "#0d0887"
             ],
             [
              0.1111111111111111,
              "#46039f"
             ],
             [
              0.2222222222222222,
              "#7201a8"
             ],
             [
              0.3333333333333333,
              "#9c179e"
             ],
             [
              0.4444444444444444,
              "#bd3786"
             ],
             [
              0.5555555555555556,
              "#d8576b"
             ],
             [
              0.6666666666666666,
              "#ed7953"
             ],
             [
              0.7777777777777778,
              "#fb9f3a"
             ],
             [
              0.8888888888888888,
              "#fdca26"
             ],
             [
              1,
              "#f0f921"
             ]
            ],
            "type": "histogram2d"
           }
          ],
          "histogram2dcontour": [
           {
            "colorbar": {
             "outlinewidth": 0,
             "ticks": ""
            },
            "colorscale": [
             [
              0,
              "#0d0887"
             ],
             [
              0.1111111111111111,
              "#46039f"
             ],
             [
              0.2222222222222222,
              "#7201a8"
             ],
             [
              0.3333333333333333,
              "#9c179e"
             ],
             [
              0.4444444444444444,
              "#bd3786"
             ],
             [
              0.5555555555555556,
              "#d8576b"
             ],
             [
              0.6666666666666666,
              "#ed7953"
             ],
             [
              0.7777777777777778,
              "#fb9f3a"
             ],
             [
              0.8888888888888888,
              "#fdca26"
             ],
             [
              1,
              "#f0f921"
             ]
            ],
            "type": "histogram2dcontour"
           }
          ],
          "mesh3d": [
           {
            "colorbar": {
             "outlinewidth": 0,
             "ticks": ""
            },
            "type": "mesh3d"
           }
          ],
          "parcoords": [
           {
            "line": {
             "colorbar": {
              "outlinewidth": 0,
              "ticks": ""
             }
            },
            "type": "parcoords"
           }
          ],
          "pie": [
           {
            "automargin": true,
            "type": "pie"
           }
          ],
          "scatter": [
           {
            "marker": {
             "colorbar": {
              "outlinewidth": 0,
              "ticks": ""
             }
            },
            "type": "scatter"
           }
          ],
          "scatter3d": [
           {
            "line": {
             "colorbar": {
              "outlinewidth": 0,
              "ticks": ""
             }
            },
            "marker": {
             "colorbar": {
              "outlinewidth": 0,
              "ticks": ""
             }
            },
            "type": "scatter3d"
           }
          ],
          "scattercarpet": [
           {
            "marker": {
             "colorbar": {
              "outlinewidth": 0,
              "ticks": ""
             }
            },
            "type": "scattercarpet"
           }
          ],
          "scattergeo": [
           {
            "marker": {
             "colorbar": {
              "outlinewidth": 0,
              "ticks": ""
             }
            },
            "type": "scattergeo"
           }
          ],
          "scattergl": [
           {
            "marker": {
             "colorbar": {
              "outlinewidth": 0,
              "ticks": ""
             }
            },
            "type": "scattergl"
           }
          ],
          "scattermapbox": [
           {
            "marker": {
             "colorbar": {
              "outlinewidth": 0,
              "ticks": ""
             }
            },
            "type": "scattermapbox"
           }
          ],
          "scatterpolar": [
           {
            "marker": {
             "colorbar": {
              "outlinewidth": 0,
              "ticks": ""
             }
            },
            "type": "scatterpolar"
           }
          ],
          "scatterpolargl": [
           {
            "marker": {
             "colorbar": {
              "outlinewidth": 0,
              "ticks": ""
             }
            },
            "type": "scatterpolargl"
           }
          ],
          "scatterternary": [
           {
            "marker": {
             "colorbar": {
              "outlinewidth": 0,
              "ticks": ""
             }
            },
            "type": "scatterternary"
           }
          ],
          "surface": [
           {
            "colorbar": {
             "outlinewidth": 0,
             "ticks": ""
            },
            "colorscale": [
             [
              0,
              "#0d0887"
             ],
             [
              0.1111111111111111,
              "#46039f"
             ],
             [
              0.2222222222222222,
              "#7201a8"
             ],
             [
              0.3333333333333333,
              "#9c179e"
             ],
             [
              0.4444444444444444,
              "#bd3786"
             ],
             [
              0.5555555555555556,
              "#d8576b"
             ],
             [
              0.6666666666666666,
              "#ed7953"
             ],
             [
              0.7777777777777778,
              "#fb9f3a"
             ],
             [
              0.8888888888888888,
              "#fdca26"
             ],
             [
              1,
              "#f0f921"
             ]
            ],
            "type": "surface"
           }
          ],
          "table": [
           {
            "cells": {
             "fill": {
              "color": "#EBF0F8"
             },
             "line": {
              "color": "white"
             }
            },
            "header": {
             "fill": {
              "color": "#C8D4E3"
             },
             "line": {
              "color": "white"
             }
            },
            "type": "table"
           }
          ]
         },
         "layout": {
          "annotationdefaults": {
           "arrowcolor": "#2a3f5f",
           "arrowhead": 0,
           "arrowwidth": 1
          },
          "coloraxis": {
           "colorbar": {
            "outlinewidth": 0,
            "ticks": ""
           }
          },
          "colorscale": {
           "diverging": [
            [
             0,
             "#8e0152"
            ],
            [
             0.1,
             "#c51b7d"
            ],
            [
             0.2,
             "#de77ae"
            ],
            [
             0.3,
             "#f1b6da"
            ],
            [
             0.4,
             "#fde0ef"
            ],
            [
             0.5,
             "#f7f7f7"
            ],
            [
             0.6,
             "#e6f5d0"
            ],
            [
             0.7,
             "#b8e186"
            ],
            [
             0.8,
             "#7fbc41"
            ],
            [
             0.9,
             "#4d9221"
            ],
            [
             1,
             "#276419"
            ]
           ],
           "sequential": [
            [
             0,
             "#0d0887"
            ],
            [
             0.1111111111111111,
             "#46039f"
            ],
            [
             0.2222222222222222,
             "#7201a8"
            ],
            [
             0.3333333333333333,
             "#9c179e"
            ],
            [
             0.4444444444444444,
             "#bd3786"
            ],
            [
             0.5555555555555556,
             "#d8576b"
            ],
            [
             0.6666666666666666,
             "#ed7953"
            ],
            [
             0.7777777777777778,
             "#fb9f3a"
            ],
            [
             0.8888888888888888,
             "#fdca26"
            ],
            [
             1,
             "#f0f921"
            ]
           ],
           "sequentialminus": [
            [
             0,
             "#0d0887"
            ],
            [
             0.1111111111111111,
             "#46039f"
            ],
            [
             0.2222222222222222,
             "#7201a8"
            ],
            [
             0.3333333333333333,
             "#9c179e"
            ],
            [
             0.4444444444444444,
             "#bd3786"
            ],
            [
             0.5555555555555556,
             "#d8576b"
            ],
            [
             0.6666666666666666,
             "#ed7953"
            ],
            [
             0.7777777777777778,
             "#fb9f3a"
            ],
            [
             0.8888888888888888,
             "#fdca26"
            ],
            [
             1,
             "#f0f921"
            ]
           ]
          },
          "colorway": [
           "#636efa",
           "#EF553B",
           "#00cc96",
           "#ab63fa",
           "#FFA15A",
           "#19d3f3",
           "#FF6692",
           "#B6E880",
           "#FF97FF",
           "#FECB52"
          ],
          "font": {
           "color": "#2a3f5f"
          },
          "geo": {
           "bgcolor": "white",
           "lakecolor": "white",
           "landcolor": "#E5ECF6",
           "showlakes": true,
           "showland": true,
           "subunitcolor": "white"
          },
          "hoverlabel": {
           "align": "left"
          },
          "hovermode": "closest",
          "mapbox": {
           "style": "light"
          },
          "paper_bgcolor": "white",
          "plot_bgcolor": "#E5ECF6",
          "polar": {
           "angularaxis": {
            "gridcolor": "white",
            "linecolor": "white",
            "ticks": ""
           },
           "bgcolor": "#E5ECF6",
           "radialaxis": {
            "gridcolor": "white",
            "linecolor": "white",
            "ticks": ""
           }
          },
          "scene": {
           "xaxis": {
            "backgroundcolor": "#E5ECF6",
            "gridcolor": "white",
            "gridwidth": 2,
            "linecolor": "white",
            "showbackground": true,
            "ticks": "",
            "zerolinecolor": "white"
           },
           "yaxis": {
            "backgroundcolor": "#E5ECF6",
            "gridcolor": "white",
            "gridwidth": 2,
            "linecolor": "white",
            "showbackground": true,
            "ticks": "",
            "zerolinecolor": "white"
           },
           "zaxis": {
            "backgroundcolor": "#E5ECF6",
            "gridcolor": "white",
            "gridwidth": 2,
            "linecolor": "white",
            "showbackground": true,
            "ticks": "",
            "zerolinecolor": "white"
           }
          },
          "shapedefaults": {
           "line": {
            "color": "#2a3f5f"
           }
          },
          "ternary": {
           "aaxis": {
            "gridcolor": "white",
            "linecolor": "white",
            "ticks": ""
           },
           "baxis": {
            "gridcolor": "white",
            "linecolor": "white",
            "ticks": ""
           },
           "bgcolor": "#E5ECF6",
           "caxis": {
            "gridcolor": "white",
            "linecolor": "white",
            "ticks": ""
           }
          },
          "title": {
           "x": 0.05
          },
          "xaxis": {
           "automargin": true,
           "gridcolor": "white",
           "linecolor": "white",
           "ticks": "",
           "title": {
            "standoff": 15
           },
           "zerolinecolor": "white",
           "zerolinewidth": 2
          },
          "yaxis": {
           "automargin": true,
           "gridcolor": "white",
           "linecolor": "white",
           "ticks": "",
           "title": {
            "standoff": 15
           },
           "zerolinecolor": "white",
           "zerolinewidth": 2
          }
         }
        },
        "title": {
         "text": "Document Distribution by Topics"
        },
        "xaxis": {
         "anchor": "y",
         "domain": [
          0,
          1
         ],
         "title": {
          "text": "Topic"
         }
        },
        "yaxis": {
         "anchor": "x",
         "domain": [
          0,
          1
         ],
         "title": {
          "text": "Documents"
         }
        }
       }
      },
      "text/html": [
       "<div>\n",
       "        \n",
       "        \n",
       "            <div id=\"a9afec83-2713-4896-9cdc-f500d5c022f8\" class=\"plotly-graph-div\" style=\"height:525px; width:100%;\"></div>\n",
       "            <script type=\"text/javascript\">\n",
       "                require([\"plotly\"], function(Plotly) {\n",
       "                    window.PLOTLYENV=window.PLOTLYENV || {};\n",
       "                    \n",
       "                if (document.getElementById(\"a9afec83-2713-4896-9cdc-f500d5c022f8\")) {\n",
       "                    Plotly.newPlot(\n",
       "                        'a9afec83-2713-4896-9cdc-f500d5c022f8',\n",
       "                        [{\"alignmentgroup\": \"True\", \"customdata\": [[\"ask, kitchen, expect, look, say, cocktail, coffee, know, absolutely, waiter\"], [\"staff, service, excellent, great, well, time, friendly, visit, go, place\"], [\"stay, main, cheese, expensive, sure, burger, pay, waiter, love, free\"], [\"dish, order, salad, taste, tasty, try, dessert, starter, meat, menu\"], [\"parking, hilton_park, guest, town, look, worth, problem, nearby, member, personnel\"]], \"hovertemplate\": \"Topic=%{x}<br>Documents=%{y}<br>Keyword=%{customdata[0]}<extra></extra>\", \"legendgroup\": \"\", \"marker\": {\"color\": \"#636efa\"}, \"name\": \"\", \"offsetgroup\": \"\", \"orientation\": \"v\", \"showlegend\": false, \"textposition\": \"auto\", \"type\": \"bar\", \"x\": [\"Topic 1\", \"Topic 2\", \"Topic 3\", \"Topic 4\", \"Topic 6\"], \"xaxis\": \"x\", \"y\": [6, 1194, 2, 22, 5], \"yaxis\": \"y\"}],\n",
       "                        {\"barmode\": \"relative\", \"legend\": {\"tracegroupgap\": 0}, \"template\": {\"data\": {\"bar\": [{\"error_x\": {\"color\": \"#2a3f5f\"}, \"error_y\": {\"color\": \"#2a3f5f\"}, \"marker\": {\"line\": {\"color\": \"#E5ECF6\", \"width\": 0.5}}, \"type\": \"bar\"}], \"barpolar\": [{\"marker\": {\"line\": {\"color\": \"#E5ECF6\", \"width\": 0.5}}, \"type\": \"barpolar\"}], \"carpet\": [{\"aaxis\": {\"endlinecolor\": \"#2a3f5f\", \"gridcolor\": \"white\", \"linecolor\": \"white\", \"minorgridcolor\": \"white\", \"startlinecolor\": \"#2a3f5f\"}, \"baxis\": {\"endlinecolor\": \"#2a3f5f\", \"gridcolor\": \"white\", \"linecolor\": \"white\", \"minorgridcolor\": \"white\", \"startlinecolor\": \"#2a3f5f\"}, \"type\": \"carpet\"}], \"choropleth\": [{\"colorbar\": {\"outlinewidth\": 0, \"ticks\": \"\"}, \"type\": \"choropleth\"}], \"contour\": [{\"colorbar\": {\"outlinewidth\": 0, \"ticks\": \"\"}, \"colorscale\": [[0.0, \"#0d0887\"], [0.1111111111111111, \"#46039f\"], [0.2222222222222222, \"#7201a8\"], [0.3333333333333333, \"#9c179e\"], [0.4444444444444444, \"#bd3786\"], [0.5555555555555556, \"#d8576b\"], [0.6666666666666666, \"#ed7953\"], [0.7777777777777778, \"#fb9f3a\"], [0.8888888888888888, \"#fdca26\"], [1.0, \"#f0f921\"]], \"type\": \"contour\"}], \"contourcarpet\": [{\"colorbar\": {\"outlinewidth\": 0, \"ticks\": \"\"}, \"type\": \"contourcarpet\"}], \"heatmap\": [{\"colorbar\": {\"outlinewidth\": 0, \"ticks\": \"\"}, \"colorscale\": [[0.0, \"#0d0887\"], [0.1111111111111111, \"#46039f\"], [0.2222222222222222, \"#7201a8\"], [0.3333333333333333, \"#9c179e\"], [0.4444444444444444, \"#bd3786\"], [0.5555555555555556, \"#d8576b\"], [0.6666666666666666, \"#ed7953\"], [0.7777777777777778, \"#fb9f3a\"], [0.8888888888888888, \"#fdca26\"], [1.0, \"#f0f921\"]], \"type\": \"heatmap\"}], \"heatmapgl\": [{\"colorbar\": {\"outlinewidth\": 0, \"ticks\": \"\"}, \"colorscale\": [[0.0, \"#0d0887\"], [0.1111111111111111, \"#46039f\"], [0.2222222222222222, \"#7201a8\"], [0.3333333333333333, \"#9c179e\"], [0.4444444444444444, \"#bd3786\"], [0.5555555555555556, \"#d8576b\"], [0.6666666666666666, \"#ed7953\"], [0.7777777777777778, \"#fb9f3a\"], [0.8888888888888888, \"#fdca26\"], [1.0, \"#f0f921\"]], \"type\": \"heatmapgl\"}], \"histogram\": [{\"marker\": {\"colorbar\": {\"outlinewidth\": 0, \"ticks\": \"\"}}, \"type\": \"histogram\"}], \"histogram2d\": [{\"colorbar\": {\"outlinewidth\": 0, \"ticks\": \"\"}, \"colorscale\": [[0.0, \"#0d0887\"], [0.1111111111111111, \"#46039f\"], [0.2222222222222222, \"#7201a8\"], [0.3333333333333333, \"#9c179e\"], [0.4444444444444444, \"#bd3786\"], [0.5555555555555556, \"#d8576b\"], [0.6666666666666666, \"#ed7953\"], [0.7777777777777778, \"#fb9f3a\"], [0.8888888888888888, \"#fdca26\"], [1.0, \"#f0f921\"]], \"type\": \"histogram2d\"}], \"histogram2dcontour\": [{\"colorbar\": {\"outlinewidth\": 0, \"ticks\": \"\"}, \"colorscale\": [[0.0, \"#0d0887\"], [0.1111111111111111, \"#46039f\"], [0.2222222222222222, \"#7201a8\"], [0.3333333333333333, \"#9c179e\"], [0.4444444444444444, \"#bd3786\"], [0.5555555555555556, \"#d8576b\"], [0.6666666666666666, \"#ed7953\"], [0.7777777777777778, \"#fb9f3a\"], [0.8888888888888888, \"#fdca26\"], [1.0, \"#f0f921\"]], \"type\": \"histogram2dcontour\"}], \"mesh3d\": [{\"colorbar\": {\"outlinewidth\": 0, \"ticks\": \"\"}, \"type\": \"mesh3d\"}], \"parcoords\": [{\"line\": {\"colorbar\": {\"outlinewidth\": 0, \"ticks\": \"\"}}, \"type\": \"parcoords\"}], \"pie\": [{\"automargin\": true, \"type\": \"pie\"}], \"scatter\": [{\"marker\": {\"colorbar\": {\"outlinewidth\": 0, \"ticks\": \"\"}}, \"type\": \"scatter\"}], \"scatter3d\": [{\"line\": {\"colorbar\": {\"outlinewidth\": 0, \"ticks\": \"\"}}, \"marker\": {\"colorbar\": {\"outlinewidth\": 0, \"ticks\": \"\"}}, \"type\": \"scatter3d\"}], \"scattercarpet\": [{\"marker\": {\"colorbar\": {\"outlinewidth\": 0, \"ticks\": \"\"}}, \"type\": \"scattercarpet\"}], \"scattergeo\": [{\"marker\": {\"colorbar\": {\"outlinewidth\": 0, \"ticks\": \"\"}}, \"type\": \"scattergeo\"}], \"scattergl\": [{\"marker\": {\"colorbar\": {\"outlinewidth\": 0, \"ticks\": \"\"}}, \"type\": \"scattergl\"}], \"scattermapbox\": [{\"marker\": {\"colorbar\": {\"outlinewidth\": 0, \"ticks\": \"\"}}, \"type\": \"scattermapbox\"}], \"scatterpolar\": [{\"marker\": {\"colorbar\": {\"outlinewidth\": 0, \"ticks\": \"\"}}, \"type\": \"scatterpolar\"}], \"scatterpolargl\": [{\"marker\": {\"colorbar\": {\"outlinewidth\": 0, \"ticks\": \"\"}}, \"type\": \"scatterpolargl\"}], \"scatterternary\": [{\"marker\": {\"colorbar\": {\"outlinewidth\": 0, \"ticks\": \"\"}}, \"type\": \"scatterternary\"}], \"surface\": [{\"colorbar\": {\"outlinewidth\": 0, \"ticks\": \"\"}, \"colorscale\": [[0.0, \"#0d0887\"], [0.1111111111111111, \"#46039f\"], [0.2222222222222222, \"#7201a8\"], [0.3333333333333333, \"#9c179e\"], [0.4444444444444444, \"#bd3786\"], [0.5555555555555556, \"#d8576b\"], [0.6666666666666666, \"#ed7953\"], [0.7777777777777778, \"#fb9f3a\"], [0.8888888888888888, \"#fdca26\"], [1.0, \"#f0f921\"]], \"type\": \"surface\"}], \"table\": [{\"cells\": {\"fill\": {\"color\": \"#EBF0F8\"}, \"line\": {\"color\": \"white\"}}, \"header\": {\"fill\": {\"color\": \"#C8D4E3\"}, \"line\": {\"color\": \"white\"}}, \"type\": \"table\"}]}, \"layout\": {\"annotationdefaults\": {\"arrowcolor\": \"#2a3f5f\", \"arrowhead\": 0, \"arrowwidth\": 1}, \"coloraxis\": {\"colorbar\": {\"outlinewidth\": 0, \"ticks\": \"\"}}, \"colorscale\": {\"diverging\": [[0, \"#8e0152\"], [0.1, \"#c51b7d\"], [0.2, \"#de77ae\"], [0.3, \"#f1b6da\"], [0.4, \"#fde0ef\"], [0.5, \"#f7f7f7\"], [0.6, \"#e6f5d0\"], [0.7, \"#b8e186\"], [0.8, \"#7fbc41\"], [0.9, \"#4d9221\"], [1, \"#276419\"]], \"sequential\": [[0.0, \"#0d0887\"], [0.1111111111111111, \"#46039f\"], [0.2222222222222222, \"#7201a8\"], [0.3333333333333333, \"#9c179e\"], [0.4444444444444444, \"#bd3786\"], [0.5555555555555556, \"#d8576b\"], [0.6666666666666666, \"#ed7953\"], [0.7777777777777778, \"#fb9f3a\"], [0.8888888888888888, \"#fdca26\"], [1.0, \"#f0f921\"]], \"sequentialminus\": [[0.0, \"#0d0887\"], [0.1111111111111111, \"#46039f\"], [0.2222222222222222, \"#7201a8\"], [0.3333333333333333, \"#9c179e\"], [0.4444444444444444, \"#bd3786\"], [0.5555555555555556, \"#d8576b\"], [0.6666666666666666, \"#ed7953\"], [0.7777777777777778, \"#fb9f3a\"], [0.8888888888888888, \"#fdca26\"], [1.0, \"#f0f921\"]]}, \"colorway\": [\"#636efa\", \"#EF553B\", \"#00cc96\", \"#ab63fa\", \"#FFA15A\", \"#19d3f3\", \"#FF6692\", \"#B6E880\", \"#FF97FF\", \"#FECB52\"], \"font\": {\"color\": \"#2a3f5f\"}, \"geo\": {\"bgcolor\": \"white\", \"lakecolor\": \"white\", \"landcolor\": \"#E5ECF6\", \"showlakes\": true, \"showland\": true, \"subunitcolor\": \"white\"}, \"hoverlabel\": {\"align\": \"left\"}, \"hovermode\": \"closest\", \"mapbox\": {\"style\": \"light\"}, \"paper_bgcolor\": \"white\", \"plot_bgcolor\": \"#E5ECF6\", \"polar\": {\"angularaxis\": {\"gridcolor\": \"white\", \"linecolor\": \"white\", \"ticks\": \"\"}, \"bgcolor\": \"#E5ECF6\", \"radialaxis\": {\"gridcolor\": \"white\", \"linecolor\": \"white\", \"ticks\": \"\"}}, \"scene\": {\"xaxis\": {\"backgroundcolor\": \"#E5ECF6\", \"gridcolor\": \"white\", \"gridwidth\": 2, \"linecolor\": \"white\", \"showbackground\": true, \"ticks\": \"\", \"zerolinecolor\": \"white\"}, \"yaxis\": {\"backgroundcolor\": \"#E5ECF6\", \"gridcolor\": \"white\", \"gridwidth\": 2, \"linecolor\": \"white\", \"showbackground\": true, \"ticks\": \"\", \"zerolinecolor\": \"white\"}, \"zaxis\": {\"backgroundcolor\": \"#E5ECF6\", \"gridcolor\": \"white\", \"gridwidth\": 2, \"linecolor\": \"white\", \"showbackground\": true, \"ticks\": \"\", \"zerolinecolor\": \"white\"}}, \"shapedefaults\": {\"line\": {\"color\": \"#2a3f5f\"}}, \"ternary\": {\"aaxis\": {\"gridcolor\": \"white\", \"linecolor\": \"white\", \"ticks\": \"\"}, \"baxis\": {\"gridcolor\": \"white\", \"linecolor\": \"white\", \"ticks\": \"\"}, \"bgcolor\": \"#E5ECF6\", \"caxis\": {\"gridcolor\": \"white\", \"linecolor\": \"white\", \"ticks\": \"\"}}, \"title\": {\"x\": 0.05}, \"xaxis\": {\"automargin\": true, \"gridcolor\": \"white\", \"linecolor\": \"white\", \"ticks\": \"\", \"title\": {\"standoff\": 15}, \"zerolinecolor\": \"white\", \"zerolinewidth\": 2}, \"yaxis\": {\"automargin\": true, \"gridcolor\": \"white\", \"linecolor\": \"white\", \"ticks\": \"\", \"title\": {\"standoff\": 15}, \"zerolinecolor\": \"white\", \"zerolinewidth\": 2}}}, \"title\": {\"text\": \"Document Distribution by Topics\"}, \"xaxis\": {\"anchor\": \"y\", \"domain\": [0.0, 1.0], \"title\": {\"text\": \"Topic\"}}, \"yaxis\": {\"anchor\": \"x\", \"domain\": [0.0, 1.0], \"title\": {\"text\": \"Documents\"}}},\n",
       "                        {\"responsive\": true}\n",
       "                    ).then(function(){\n",
       "                            \n",
       "var gd = document.getElementById('a9afec83-2713-4896-9cdc-f500d5c022f8');\n",
       "var x = new MutationObserver(function (mutations, observer) {{\n",
       "        var display = window.getComputedStyle(gd).display;\n",
       "        if (!display || display === 'none') {{\n",
       "            console.log([gd, 'removed!']);\n",
       "            Plotly.purge(gd);\n",
       "            observer.disconnect();\n",
       "        }}\n",
       "}});\n",
       "\n",
       "// Listen for the removal of the full notebook cells\n",
       "var notebookContainer = gd.closest('#notebook-container');\n",
       "if (notebookContainer) {{\n",
       "    x.observe(notebookContainer, {childList: true});\n",
       "}}\n",
       "\n",
       "// Listen for the clearing of the current output cell\n",
       "var outputEl = gd.closest('.output');\n",
       "if (outputEl) {{\n",
       "    x.observe(outputEl, {childList: true});\n",
       "}}\n",
       "\n",
       "                        })\n",
       "                };\n",
       "                });\n",
       "            </script>\n",
       "        </div>"
      ]
     },
     "metadata": {},
     "output_type": "display_data"
    }
   ],
   "source": [
    "plot_model(tune_lda_positive, plot ='topic_distribution',save=True)"
   ]
  },
  {
   "cell_type": "code",
   "execution_count": 15,
   "metadata": {},
   "outputs": [
    {
     "data": {
      "text/html": [
       "        <script type=\"text/javascript\">\n",
       "        window.PlotlyConfig = {MathJaxConfig: 'local'};\n",
       "        if (window.MathJax) {MathJax.Hub.Config({SVG: {font: \"STIX-Web\"}});}\n",
       "        if (typeof require !== 'undefined') {\n",
       "        require.undef(\"plotly\");\n",
       "        requirejs.config({\n",
       "            paths: {\n",
       "                'plotly': ['https://cdn.plot.ly/plotly-latest.min']\n",
       "            }\n",
       "        });\n",
       "        require(['plotly'], function(Plotly) {\n",
       "            window._Plotly = Plotly;\n",
       "        });\n",
       "        }\n",
       "        </script>\n",
       "        "
      ]
     },
     "metadata": {},
     "output_type": "display_data"
    },
    {
     "ename": "SystemExit",
     "evalue": "(Value Error): Invalid topic_num param or empty Vocab. Try changing Topic Number.",
     "output_type": "error",
     "traceback": [
      "An exception has occurred, use %tb to see the full traceback.\n",
      "\u001b[1;31mSystemExit\u001b[0m\u001b[1;31m:\u001b[0m (Value Error): Invalid topic_num param or empty Vocab. Try changing Topic Number.\n"
     ]
    }
   ],
   "source": [
    "plot_model(tune_lda_positive, plot = 'bigram')"
   ]
  },
  {
   "cell_type": "code",
   "execution_count": null,
   "metadata": {
    "scrolled": false
   },
   "outputs": [],
   "source": [
    "plot_model(tune_lda_positive)"
   ]
  },
  {
   "cell_type": "markdown",
   "metadata": {},
   "source": [
    "# Negative reviews"
   ]
  },
  {
   "cell_type": "code",
   "execution_count": 18,
   "metadata": {},
   "outputs": [
    {
     "data": {
      "text/html": [
       "<div>\n",
       "<style scoped>\n",
       "    .dataframe tbody tr th:only-of-type {\n",
       "        vertical-align: middle;\n",
       "    }\n",
       "\n",
       "    .dataframe tbody tr th {\n",
       "        vertical-align: top;\n",
       "    }\n",
       "\n",
       "    .dataframe thead th {\n",
       "        text-align: right;\n",
       "    }\n",
       "</style>\n",
       "<table border=\"1\" class=\"dataframe\">\n",
       "  <thead>\n",
       "    <tr style=\"text-align: right;\">\n",
       "      <th></th>\n",
       "      <th>Unnamed: 0</th>\n",
       "      <th>r_points</th>\n",
       "      <th>r_text</th>\n",
       "      <th>place</th>\n",
       "      <th>No of review</th>\n",
       "      <th>cosine sim</th>\n",
       "      <th>Unnamed: 3</th>\n",
       "      <th>Unnamed: 4</th>\n",
       "      <th>Unnamed: 5</th>\n",
       "      <th>Unnamed: 6</th>\n",
       "      <th>scores</th>\n",
       "      <th>compound</th>\n",
       "      <th>score</th>\n",
       "    </tr>\n",
       "  </thead>\n",
       "  <tbody>\n",
       "    <tr>\n",
       "      <th>0</th>\n",
       "      <td>0</td>\n",
       "      <td>10</td>\n",
       "      <td>I do not recommend this restaurant. food not g...</td>\n",
       "      <td>Akakiko</td>\n",
       "      <td>Review 18 Similarity</td>\n",
       "      <td>1.000000</td>\n",
       "      <td>NaN</td>\n",
       "      <td>NaN</td>\n",
       "      <td>NaN</td>\n",
       "      <td>NaN</td>\n",
       "      <td>{'neg': 0.29, 'neu': 0.71, 'pos': 0.0, 'compou...</td>\n",
       "      <td>-0.9337</td>\n",
       "      <td>neg</td>\n",
       "    </tr>\n",
       "    <tr>\n",
       "      <th>1</th>\n",
       "      <td>7</td>\n",
       "      <td>10</td>\n",
       "      <td>I have been in the restaurant twice since it o...</td>\n",
       "      <td>Akakiko</td>\n",
       "      <td>Review 274 Similarity</td>\n",
       "      <td>0.507093</td>\n",
       "      <td>NaN</td>\n",
       "      <td>NaN</td>\n",
       "      <td>NaN</td>\n",
       "      <td>NaN</td>\n",
       "      <td>{'neg': 0.057, 'neu': 0.903, 'pos': 0.04, 'com...</td>\n",
       "      <td>-0.4198</td>\n",
       "      <td>neg</td>\n",
       "    </tr>\n",
       "    <tr>\n",
       "      <th>2</th>\n",
       "      <td>35</td>\n",
       "      <td>20</td>\n",
       "      <td>We used to go to Akakiko or take away food qui...</td>\n",
       "      <td>Akakiko</td>\n",
       "      <td>Review 285 Similarity</td>\n",
       "      <td>0.454569</td>\n",
       "      <td>NaN</td>\n",
       "      <td>NaN</td>\n",
       "      <td>NaN</td>\n",
       "      <td>NaN</td>\n",
       "      <td>{'neg': 0.184, 'neu': 0.685, 'pos': 0.131, 'co...</td>\n",
       "      <td>-0.9151</td>\n",
       "      <td>neg</td>\n",
       "    </tr>\n",
       "    <tr>\n",
       "      <th>3</th>\n",
       "      <td>42</td>\n",
       "      <td>30</td>\n",
       "      <td>The service can definitely improve, since the ...</td>\n",
       "      <td>Akakiko</td>\n",
       "      <td>Review 108 Similarity</td>\n",
       "      <td>0.436436</td>\n",
       "      <td>NaN</td>\n",
       "      <td>NaN</td>\n",
       "      <td>NaN</td>\n",
       "      <td>NaN</td>\n",
       "      <td>{'neg': 0.033, 'neu': 0.925, 'pos': 0.042, 'co...</td>\n",
       "      <td>-0.0511</td>\n",
       "      <td>neg</td>\n",
       "    </tr>\n",
       "    <tr>\n",
       "      <th>4</th>\n",
       "      <td>44</td>\n",
       "      <td>30</td>\n",
       "      <td>The food was good but I think the waitress was...</td>\n",
       "      <td>Akakiko</td>\n",
       "      <td>Review 116 Similarity</td>\n",
       "      <td>0.436436</td>\n",
       "      <td>NaN</td>\n",
       "      <td>NaN</td>\n",
       "      <td>NaN</td>\n",
       "      <td>NaN</td>\n",
       "      <td>{'neg': 0.143, 'neu': 0.787, 'pos': 0.07, 'com...</td>\n",
       "      <td>-0.4673</td>\n",
       "      <td>neg</td>\n",
       "    </tr>\n",
       "    <tr>\n",
       "      <th>...</th>\n",
       "      <td>...</td>\n",
       "      <td>...</td>\n",
       "      <td>...</td>\n",
       "      <td>...</td>\n",
       "      <td>...</td>\n",
       "      <td>...</td>\n",
       "      <td>...</td>\n",
       "      <td>...</td>\n",
       "      <td>...</td>\n",
       "      <td>...</td>\n",
       "      <td>...</td>\n",
       "      <td>...</td>\n",
       "      <td>...</td>\n",
       "    </tr>\n",
       "    <tr>\n",
       "      <th>86</th>\n",
       "      <td>1134</td>\n",
       "      <td>10</td>\n",
       "      <td>The meat I ordered was not fresh, got poisoned...</td>\n",
       "      <td>To Elliniko Ouzomezedopoleio</td>\n",
       "      <td>NaN</td>\n",
       "      <td>NaN</td>\n",
       "      <td>Review 68 Similarity</td>\n",
       "      <td>0.000000</td>\n",
       "      <td>Review 201 Similarity</td>\n",
       "      <td>1.0</td>\n",
       "      <td>{'neg': 0.316, 'neu': 0.484, 'pos': 0.201, 'co...</td>\n",
       "      <td>-0.5150</td>\n",
       "      <td>neg</td>\n",
       "    </tr>\n",
       "    <tr>\n",
       "      <th>87</th>\n",
       "      <td>1249</td>\n",
       "      <td>30</td>\n",
       "      <td>Nice menu with delicious, freshly made and tas...</td>\n",
       "      <td>To Elliniko Ouzomezedopoleio</td>\n",
       "      <td>NaN</td>\n",
       "      <td>NaN</td>\n",
       "      <td>Review 120 Similarity</td>\n",
       "      <td>0.270501</td>\n",
       "      <td>Review 89 Similarity</td>\n",
       "      <td>0.0</td>\n",
       "      <td>{'neg': 0.2, 'neu': 0.603, 'pos': 0.197, 'comp...</td>\n",
       "      <td>-0.2617</td>\n",
       "      <td>neg</td>\n",
       "    </tr>\n",
       "    <tr>\n",
       "      <th>88</th>\n",
       "      <td>1286</td>\n",
       "      <td>20</td>\n",
       "      <td>It wasn't what it was expected to be; thorough...</td>\n",
       "      <td>To Elliniko Ouzomezedopoleio</td>\n",
       "      <td>NaN</td>\n",
       "      <td>NaN</td>\n",
       "      <td>Review 98 Similarity</td>\n",
       "      <td>0.156174</td>\n",
       "      <td>Review 146 Similarity</td>\n",
       "      <td>0.0</td>\n",
       "      <td>{'neg': 0.04, 'neu': 0.909, 'pos': 0.052, 'com...</td>\n",
       "      <td>-0.0868</td>\n",
       "      <td>neg</td>\n",
       "    </tr>\n",
       "    <tr>\n",
       "      <th>89</th>\n",
       "      <td>1304</td>\n",
       "      <td>30</td>\n",
       "      <td>Although the decoration and the atmosphere is ...</td>\n",
       "      <td>To Elliniko Ouzomezedopoleio</td>\n",
       "      <td>NaN</td>\n",
       "      <td>NaN</td>\n",
       "      <td>Review 228 Similarity</td>\n",
       "      <td>0.090167</td>\n",
       "      <td>Review 178 Similarity</td>\n",
       "      <td>0.0</td>\n",
       "      <td>{'neg': 0.111, 'neu': 0.789, 'pos': 0.1, 'comp...</td>\n",
       "      <td>-0.0772</td>\n",
       "      <td>neg</td>\n",
       "    </tr>\n",
       "    <tr>\n",
       "      <th>90</th>\n",
       "      <td>1310</td>\n",
       "      <td>20</td>\n",
       "      <td>The atmosphere was very nice. Service was good...</td>\n",
       "      <td>To Elliniko Ouzomezedopoleio</td>\n",
       "      <td>NaN</td>\n",
       "      <td>NaN</td>\n",
       "      <td>Review 244 Similarity</td>\n",
       "      <td>0.063758</td>\n",
       "      <td>Review 190 Similarity</td>\n",
       "      <td>0.0</td>\n",
       "      <td>{'neg': 0.098, 'neu': 0.767, 'pos': 0.135, 'co...</td>\n",
       "      <td>-0.0885</td>\n",
       "      <td>neg</td>\n",
       "    </tr>\n",
       "  </tbody>\n",
       "</table>\n",
       "<p>91 rows × 13 columns</p>\n",
       "</div>"
      ],
      "text/plain": [
       "    Unnamed: 0  r_points                                             r_text  \\\n",
       "0            0        10  I do not recommend this restaurant. food not g...   \n",
       "1            7        10  I have been in the restaurant twice since it o...   \n",
       "2           35        20  We used to go to Akakiko or take away food qui...   \n",
       "3           42        30  The service can definitely improve, since the ...   \n",
       "4           44        30  The food was good but I think the waitress was...   \n",
       "..         ...       ...                                                ...   \n",
       "86        1134        10  The meat I ordered was not fresh, got poisoned...   \n",
       "87        1249        30  Nice menu with delicious, freshly made and tas...   \n",
       "88        1286        20  It wasn't what it was expected to be; thorough...   \n",
       "89        1304        30  Although the decoration and the atmosphere is ...   \n",
       "90        1310        20  The atmosphere was very nice. Service was good...   \n",
       "\n",
       "                           place           No of review  cosine sim  \\\n",
       "0                        Akakiko   Review 18 Similarity    1.000000   \n",
       "1                        Akakiko  Review 274 Similarity    0.507093   \n",
       "2                        Akakiko  Review 285 Similarity    0.454569   \n",
       "3                        Akakiko  Review 108 Similarity    0.436436   \n",
       "4                        Akakiko  Review 116 Similarity    0.436436   \n",
       "..                           ...                    ...         ...   \n",
       "86  To Elliniko Ouzomezedopoleio                    NaN         NaN   \n",
       "87  To Elliniko Ouzomezedopoleio                    NaN         NaN   \n",
       "88  To Elliniko Ouzomezedopoleio                    NaN         NaN   \n",
       "89  To Elliniko Ouzomezedopoleio                    NaN         NaN   \n",
       "90  To Elliniko Ouzomezedopoleio                    NaN         NaN   \n",
       "\n",
       "               Unnamed: 3  Unnamed: 4             Unnamed: 5  Unnamed: 6  \\\n",
       "0                     NaN         NaN                    NaN         NaN   \n",
       "1                     NaN         NaN                    NaN         NaN   \n",
       "2                     NaN         NaN                    NaN         NaN   \n",
       "3                     NaN         NaN                    NaN         NaN   \n",
       "4                     NaN         NaN                    NaN         NaN   \n",
       "..                    ...         ...                    ...         ...   \n",
       "86   Review 68 Similarity    0.000000  Review 201 Similarity         1.0   \n",
       "87  Review 120 Similarity    0.270501   Review 89 Similarity         0.0   \n",
       "88   Review 98 Similarity    0.156174  Review 146 Similarity         0.0   \n",
       "89  Review 228 Similarity    0.090167  Review 178 Similarity         0.0   \n",
       "90  Review 244 Similarity    0.063758  Review 190 Similarity         0.0   \n",
       "\n",
       "                                               scores  compound score  \n",
       "0   {'neg': 0.29, 'neu': 0.71, 'pos': 0.0, 'compou...   -0.9337   neg  \n",
       "1   {'neg': 0.057, 'neu': 0.903, 'pos': 0.04, 'com...   -0.4198   neg  \n",
       "2   {'neg': 0.184, 'neu': 0.685, 'pos': 0.131, 'co...   -0.9151   neg  \n",
       "3   {'neg': 0.033, 'neu': 0.925, 'pos': 0.042, 'co...   -0.0511   neg  \n",
       "4   {'neg': 0.143, 'neu': 0.787, 'pos': 0.07, 'com...   -0.4673   neg  \n",
       "..                                                ...       ...   ...  \n",
       "86  {'neg': 0.316, 'neu': 0.484, 'pos': 0.201, 'co...   -0.5150   neg  \n",
       "87  {'neg': 0.2, 'neu': 0.603, 'pos': 0.197, 'comp...   -0.2617   neg  \n",
       "88  {'neg': 0.04, 'neu': 0.909, 'pos': 0.052, 'com...   -0.0868   neg  \n",
       "89  {'neg': 0.111, 'neu': 0.789, 'pos': 0.1, 'comp...   -0.0772   neg  \n",
       "90  {'neg': 0.098, 'neu': 0.767, 'pos': 0.135, 'co...   -0.0885   neg  \n",
       "\n",
       "[91 rows x 13 columns]"
      ]
     },
     "execution_count": 18,
     "metadata": {},
     "output_type": "execute_result"
    }
   ],
   "source": [
    "neg_review = pd.read_csv(r'C:\\Users\\Dell\\Desktop\\sentiment_cluster1_neg.csv')\n",
    "neg_review"
   ]
  },
  {
   "cell_type": "code",
   "execution_count": 19,
   "metadata": {},
   "outputs": [
    {
     "data": {
      "text/html": [
       "<style  type=\"text/css\" >\n",
       "</style><table id=\"T_7a79fbe2_38a0_11eb_bd84_c48e8ff9d2e0\" ><thead>    <tr>        <th class=\"col_heading level0 col0\" >Description</th>        <th class=\"col_heading level0 col1\" >Value</th>    </tr></thead><tbody>\n",
       "                <tr>\n",
       "                                <td id=\"T_7a79fbe2_38a0_11eb_bd84_c48e8ff9d2e0row0_col0\" class=\"data row0 col0\" >session_id</td>\n",
       "                        <td id=\"T_7a79fbe2_38a0_11eb_bd84_c48e8ff9d2e0row0_col1\" class=\"data row0 col1\" >4239</td>\n",
       "            </tr>\n",
       "            <tr>\n",
       "                                <td id=\"T_7a79fbe2_38a0_11eb_bd84_c48e8ff9d2e0row1_col0\" class=\"data row1 col0\" >Documents</td>\n",
       "                        <td id=\"T_7a79fbe2_38a0_11eb_bd84_c48e8ff9d2e0row1_col1\" class=\"data row1 col1\" >91</td>\n",
       "            </tr>\n",
       "            <tr>\n",
       "                                <td id=\"T_7a79fbe2_38a0_11eb_bd84_c48e8ff9d2e0row2_col0\" class=\"data row2 col0\" >Vocab Size</td>\n",
       "                        <td id=\"T_7a79fbe2_38a0_11eb_bd84_c48e8ff9d2e0row2_col1\" class=\"data row2 col1\" >998</td>\n",
       "            </tr>\n",
       "            <tr>\n",
       "                                <td id=\"T_7a79fbe2_38a0_11eb_bd84_c48e8ff9d2e0row3_col0\" class=\"data row3 col0\" >Custom Stopwords</td>\n",
       "                        <td id=\"T_7a79fbe2_38a0_11eb_bd84_c48e8ff9d2e0row3_col1\" class=\"data row3 col1\" >True</td>\n",
       "            </tr>\n",
       "    </tbody></table>"
      ],
      "text/plain": [
       "<pandas.io.formats.style.Styler at 0x28f5ad50c48>"
      ]
     },
     "metadata": {},
     "output_type": "display_data"
    }
   ],
   "source": [
    "exp_nlp_neg = setup(data = neg_review, target = 'r_text',\n",
    "                custom_stopwords = [ 'hotel', 'room', 'nice', 'good','restaurant', 'food','bad'])"
   ]
  },
  {
   "cell_type": "code",
   "execution_count": 20,
   "metadata": {},
   "outputs": [
    {
     "name": "stdout",
     "output_type": "stream",
     "text": [
      "LdaModel(num_terms=998, num_topics=4, decay=0.5, chunksize=100)\n"
     ]
    }
   ],
   "source": [
    "#create an LDA model\n",
    "lda_neg_custom = create_model('lda')\n",
    "print(lda_neg_custom)"
   ]
  },
  {
   "cell_type": "code",
   "execution_count": 21,
   "metadata": {},
   "outputs": [],
   "source": [
    "apply_lda_neg = assign_model(lda_neg_custom)"
   ]
  },
  {
   "cell_type": "code",
   "execution_count": null,
   "metadata": {},
   "outputs": [],
   "source": [
    "evaluate_model(lda_neg_custom)"
   ]
  },
  {
   "cell_type": "code",
   "execution_count": null,
   "metadata": {},
   "outputs": [],
   "source": [
    "tune_lda_negative = tune_model(model='lda', supervised_target=None, estimator='xgboost')"
   ]
  },
  {
   "cell_type": "markdown",
   "metadata": {},
   "source": [
    "100 topics can be too much, it might contain redundant words. We will try with 16 topics"
   ]
  },
  {
   "cell_type": "code",
   "execution_count": 22,
   "metadata": {},
   "outputs": [
    {
     "name": "stdout",
     "output_type": "stream",
     "text": [
      "LdaModel(num_terms=998, num_topics=4, decay=0.5, chunksize=100)\n"
     ]
    }
   ],
   "source": [
    "lda_neg_16 = create_model('lda', num_topics=4)\n",
    "print(lda_neg_16)"
   ]
  },
  {
   "cell_type": "code",
   "execution_count": 23,
   "metadata": {},
   "outputs": [
    {
     "data": {
      "application/vnd.jupyter.widget-view+json": {
       "model_id": "de8ef055ca9e4ff89f06df278647e49e",
       "version_major": 2,
       "version_minor": 0
      },
      "text/plain": [
       "interactive(children=(ToggleButtons(description='Plot Type:', icons=('',), options=(('Frequency Plot', 'freque…"
      ]
     },
     "metadata": {},
     "output_type": "display_data"
    }
   ],
   "source": [
    "evaluate_model(lda_neg_16)"
   ]
  },
  {
   "cell_type": "code",
   "execution_count": 24,
   "metadata": {},
   "outputs": [
    {
     "data": {
      "text/html": [
       "        <script type=\"text/javascript\">\n",
       "        window.PlotlyConfig = {MathJaxConfig: 'local'};\n",
       "        if (window.MathJax) {MathJax.Hub.Config({SVG: {font: \"STIX-Web\"}});}\n",
       "        if (typeof require !== 'undefined') {\n",
       "        require.undef(\"plotly\");\n",
       "        requirejs.config({\n",
       "            paths: {\n",
       "                'plotly': ['https://cdn.plot.ly/plotly-latest.min']\n",
       "            }\n",
       "        });\n",
       "        require(['plotly'], function(Plotly) {\n",
       "            window._Plotly = Plotly;\n",
       "        });\n",
       "        }\n",
       "        </script>\n",
       "        "
      ]
     },
     "metadata": {},
     "output_type": "display_data"
    },
    {
     "data": {
      "text/html": [
       "\n",
       "<link rel=\"stylesheet\" type=\"text/css\" href=\"https://cdn.rawgit.com/bmabey/pyLDAvis/files/ldavis.v1.0.0.css\">\n",
       "\n",
       "\n",
       "<div id=\"ldavis_el28781628146974207441481173115\"></div>\n",
       "<script type=\"text/javascript\">\n",
       "\n",
       "var ldavis_el28781628146974207441481173115_data = {\"mdsDat\": {\"x\": [-0.0832748397555626, -0.06008844776129112, 0.05997140234109277, 0.08339188517576095], \"y\": [-0.06054668868454243, 0.09269933737734853, -0.08734615871186373, 0.05519351001905765], \"topics\": [1, 2, 3, 4], \"cluster\": [1, 1, 1, 1], \"Freq\": [33.51932907104492, 28.338109970092773, 22.717466354370117, 15.425090789794922]}, \"tinfo\": {\"Term\": [\"really\", \"tell\", \"try\", \"order\", \"quality\", \"cheap\", \"quite\", \"main\", \"starter\", \"thing\", \"minute\", \"staff\", \"taste\", \"wrong\", \"spa\", \"contain\", \"excellent\", \"small\", \"work\", \"get\", \"different\", \"also\", \"reason\", \"service\", \"much\", \"go\", \"wine\", \"use\", \"average\", \"arrive\", \"burger\", \"plate\", \"morning\", \"check\", \"selection\", \"person\", \"early\", \"seminar\", \"smoke\", \"salmon\", \"answer\", \"tasteless\", \"open\", \"teethe\", \"rice\", \"generally\", \"always\", \"actually\", \"elsewhere\", \"compare\", \"less\", \"import\", \"close\", \"name\", \"bath\", \"grill\", \"veggie\", \"concern\", \"rather\", \"cold\", \"say\", \"much\", \"also\", \"well\", \"sauce\", \"pasta\", \"tell\", \"time\", \"visit\", \"price\", \"sushi\", \"reception\", \"full\", \"even\", \"dish\", \"service\", \"terrible\", \"order\", \"special\", \"look\", \"quality\", \"breakfast\", \"go\", \"try\", \"give\", \"get\", \"expect\", \"wrong\", \"helpful\", \"bed\", \"great\", \"thin\", \"star\", \"address\", \"shower\", \"properly\", \"internet\", \"lovely\", \"napkin\", \"terrace\", \"send\", \"right\", \"limited\", \"milanese\", \"comfortable\", \"lie\", \"car\", \"free\", \"finally\", \"job\", \"toilet\", \"sadly\", \"option\", \"deep\", \"friendly\", \"decent\", \"staff\", \"night\", \"book\", \"make\", \"need\", \"offer\", \"bit\", \"menu\", \"first\", \"give\", \"dinner\", \"stay\", \"water\", \"work\", \"bring\", \"back\", \"never\", \"go\", \"really\", \"table\", \"time\", \"disappoint\", \"visit\", \"dish\", \"eat\", \"also\", \"even\", \"get\", \"order\", \"quality\", \"overcook\", \"minute\", \"none\", \"apology\", \"pork\", \"japanese\", \"heavily\", \"drop\", \"pregnant\", \"raman\", \"cocktail\", \"sit\", \"calamari\", \"tuna\", \"quite\", \"coursesnot\", \"reccommend\", \"truffle\", \"cooking\", \"production\", \"product\", \"burn\", \"follow\", \"mass\", \"traveller\", \"interesting\", \"bother\", \"deliver\", \"definitively\", \"impressed\", \"recommend\", \"lady\", \"really\", \"use\", \"know\", \"rude\", \"main\", \"quality\", \"taste\", \"order\", \"shame\", \"finish\", \"drink\", \"get\", \"course\", \"starter\", \"take\", \"place\", \"wait\", \"dish\", \"experience\", \"fish\", \"table\", \"time\", \"service\", \"come\", \"change\", \"expect\", \"customer\", \"go\", \"first\", \"fresh\", \"offer\", \"even\", \"disappoint\", \"back\", \"spa\", \"contain\", \"remind\", \"reflect\", \"miss\", \"show\", \"aircondition\", \"dirty\", \"pour\", \"forward\", \"crispy\", \"birthday\", \"excellent\", \"small\", \"different\", \"akakiko\", \"presentation\", \"thoroughly\", \"reputation\", \"plan\", \"normal\", \"category\", \"daughter\", \"guess\", \"road\", \"euros\", \"non\", \"entree\", \"chinese\", \"fast\", \"cheap\", \"thing\", \"wine\", \"unfortunately\", \"pool\", \"spend\", \"manager\", \"client\", \"locate\", \"prawn\", \"worth\", \"try\", \"reason\", \"high\", \"arrive\", \"go\", \"tell\", \"service\", \"work\", \"average\", \"find\", \"ask\", \"look\", \"starter\", \"come\", \"taste\", \"visit\", \"dish\", \"serve\", \"price\", \"time\", \"get\", \"expensive\", \"main\"], \"Freq\": [14.0, 8.0, 10.0, 20.0, 19.0, 4.0, 6.0, 9.0, 9.0, 4.0, 4.0, 13.0, 9.0, 4.0, 2.0, 2.0, 3.0, 3.0, 6.0, 16.0, 3.0, 11.0, 4.0, 19.0, 8.0, 18.0, 3.0, 7.0, 6.0, 4.0, 3.9916138648986816, 3.2636659145355225, 3.263366460800171, 3.259761095046997, 2.502715826034546, 2.495204210281372, 2.4933664798736572, 2.492859125137329, 2.4902803897857666, 2.4852662086486816, 2.4691898822784424, 4.799537658691406, 4.041093826293945, 1.7331116199493408, 1.7317328453063965, 1.7317768335342407, 1.7317616939544678, 4.054048538208008, 1.7314950227737427, 1.7306597232818604, 1.7307732105255127, 1.729819893836975, 1.7290639877319336, 1.727172613143921, 1.7261406183242798, 1.722139835357666, 1.7223137617111206, 1.7183305025100708, 4.039004325866699, 4.808045387268066, 6.339602947235107, 5.577208042144775, 7.8833465576171875, 7.884606838226318, 5.572470664978027, 6.34588098526001, 5.570217132568359, 13.25041389465332, 8.689241409301758, 6.269018173217773, 4.038172245025635, 3.2621679306030273, 2.499018430709839, 6.358069896697998, 8.668678283691406, 8.541872024536133, 4.816414833068848, 7.296205043792725, 4.0345234870910645, 4.035794734954834, 6.344655990600586, 3.268686532974243, 4.815915107727051, 4.048031806945801, 4.021017074584961, 4.443815231323242, 3.2905545234680176, 3.878258228302002, 3.1415882110595703, 3.14054536819458, 3.1328353881835938, 2.4018924236297607, 2.400581121444702, 2.3999526500701904, 2.3991310596466064, 2.396629810333252, 1.663511037826538, 1.6633199453353882, 1.6633148193359375, 1.6632332801818848, 1.6627460718154907, 1.6625479459762573, 1.6624729633331299, 1.6623512506484985, 1.6618627309799194, 1.661914348602295, 1.659752607345581, 1.6589601039886475, 1.658400058746338, 1.6577693223953247, 1.6566236019134521, 1.655706763267517, 2.3988778591156006, 2.4015395641326904, 3.8892993927001953, 2.396182060241699, 9.048735618591309, 6.095218658447266, 3.900416612625122, 3.8811068534851074, 3.8717780113220215, 3.875162124633789, 2.4013404846191406, 3.879918098449707, 5.360618591308594, 4.637696743011475, 3.1443917751312256, 3.8735759258270264, 3.882110357284546, 3.1385586261749268, 3.14158034324646, 3.882478713989258, 3.13798451423645, 5.371138095855713, 4.606254577636719, 3.912792205810547, 5.365312576293945, 3.137667179107666, 3.870145559310913, 3.8988518714904785, 2.883976459503174, 3.1396193504333496, 3.131587266921997, 3.149336099624634, 3.1635756492614746, 3.145995855331421, 2.2698588371276855, 3.6096341609954834, 1.5719249248504639, 1.5719188451766968, 1.5711500644683838, 1.5701236724853516, 1.569115161895752, 1.5689284801483154, 1.5684667825698853, 1.5680756568908691, 1.5674383640289307, 1.5658056735992432, 1.5658386945724487, 1.4622743129730225, 4.351470470428467, 0.8732591271400452, 0.8732589483261108, 0.8732564449310303, 0.8732553124427795, 0.8732548356056213, 0.8732540011405945, 0.8732532262802124, 0.8732531666755676, 0.8732504844665527, 0.8732503652572632, 0.8732489943504333, 0.8732488751411438, 0.8732478022575378, 0.8732470273971558, 0.8732460737228394, 2.197543144226074, 2.9629430770874023, 7.850329399108887, 4.350380897521973, 2.0889294147491455, 2.8289105892181396, 5.051946640014648, 9.231074333190918, 4.902519226074219, 9.735200881958008, 1.5720423460006714, 1.5616652965545654, 2.269479513168335, 7.477741241455078, 2.2590932846069336, 4.2973432540893555, 4.346717834472656, 4.35738468170166, 2.711488723754883, 5.044622898101807, 2.9672369956970215, 2.826582670211792, 3.6292831897735596, 5.042206287384033, 4.353470802307129, 2.9651262760162354, 2.2656807899475098, 2.955613374710083, 2.260302782058716, 3.6661131381988525, 2.9659512042999268, 2.264235258102417, 2.2728235721588135, 2.274091958999634, 2.2698073387145996, 2.269784688949585, 1.9756228923797607, 1.9751724004745483, 1.3714771270751953, 1.3714617490768433, 1.3687139749526978, 1.3682854175567627, 1.3679498434066772, 1.3678534030914307, 1.366733193397522, 1.366294503211975, 1.3658853769302368, 1.3654333353042603, 1.9814962148666382, 1.9747360944747925, 1.9478168487548828, 0.7619029879570007, 0.7618998885154724, 0.761899471282959, 0.7618996500968933, 0.7618986964225769, 0.7618986964225769, 0.7618982791900635, 0.7618982791900635, 0.7618972659111023, 0.7618969082832336, 0.7618969082832336, 0.7618956565856934, 0.7618948221206665, 0.7618935108184814, 0.7618928551673889, 2.5844712257385254, 2.5836341381073, 1.975260615348816, 1.371471643447876, 1.3671379089355469, 1.3668571710586548, 1.3654354810714722, 1.3688057661056519, 1.3675789833068848, 1.367168664932251, 1.3714840412139893, 3.806403160095215, 1.9819368124008179, 1.2921696901321411, 1.9738152027130127, 4.411154270172119, 2.586118698120117, 3.9195189476013184, 1.9774481058120728, 1.9815362691879272, 1.9772378206253052, 1.976040005683899, 1.9744004011154175, 1.9799288511276245, 1.9839117527008057, 1.9845741987228394, 1.978838324546814, 1.9831000566482544, 1.4982614517211914, 1.4358761310577393, 1.4176764488220215, 1.3830934762954712, 1.376067876815796, 1.3758710622787476], \"Total\": [14.0, 8.0, 10.0, 20.0, 19.0, 4.0, 6.0, 9.0, 9.0, 4.0, 4.0, 13.0, 9.0, 4.0, 2.0, 2.0, 3.0, 3.0, 6.0, 16.0, 3.0, 11.0, 4.0, 19.0, 8.0, 18.0, 3.0, 7.0, 6.0, 4.0, 4.553309917449951, 3.7837986946105957, 3.784762144088745, 3.7845728397369385, 3.0152556896209717, 3.014631509780884, 3.014647960662842, 3.014464855194092, 3.0141987800598145, 3.0139307975769043, 3.0139613151550293, 6.06446647644043, 5.165759086608887, 2.245059013366699, 2.24476957321167, 2.2449896335601807, 2.2449867725372314, 5.2557454109191895, 2.2449917793273926, 2.244762659072876, 2.2449612617492676, 2.2448787689208984, 2.244668483734131, 2.244598150253296, 2.244460105895996, 2.2438437938690186, 2.244152784347534, 2.242473840713501, 5.292921543121338, 6.632857799530029, 8.953875541687012, 8.013566970825195, 11.973289489746094, 11.980520248413086, 8.231902122497559, 9.693870544433594, 8.53474235534668, 25.07560920715332, 16.102781295776367, 11.684428215026855, 6.651691436767578, 5.1337175369262695, 3.624560832977295, 12.529224395751953, 19.595252990722656, 19.218059539794922, 8.812292098999023, 20.997119903564453, 7.2118239402771, 7.864121437072754, 19.512001037597656, 5.263759136199951, 18.264320373535156, 10.432149887084961, 10.21018123626709, 16.4539852142334, 9.279820442199707, 4.401045799255371, 3.6618406772613525, 3.661975860595703, 3.661760091781616, 2.922510862350464, 2.9223203659057617, 2.922285795211792, 2.9225547313690186, 2.9221177101135254, 2.1831777095794678, 2.18316650390625, 2.1831653118133545, 2.183161973953247, 2.1831350326538086, 2.1830079555511475, 2.1831188201904297, 2.183112144470215, 2.182887554168701, 2.1832242012023926, 2.1827847957611084, 2.183150291442871, 2.1830878257751465, 2.1829276084899902, 2.1831297874450684, 2.1828370094299316, 3.531881332397461, 3.620542526245117, 5.870715618133545, 3.6206746101379395, 13.894115447998047, 10.16611099243164, 6.480676651000977, 6.4794392585754395, 7.177994728088379, 7.2675089836120605, 3.692073345184326, 7.410167217254639, 12.366170883178711, 10.21018123626709, 5.829636096954346, 8.557857513427734, 8.790863037109375, 6.189859867095947, 6.3500657081604, 9.258106231689453, 6.5992302894592285, 18.264320373535156, 14.367568016052246, 10.815999031066895, 25.07560920715332, 7.137803554534912, 16.102781295776367, 19.595252990722656, 7.290382385253906, 11.973289489746094, 12.529224395751953, 16.4539852142334, 20.997119903564453, 19.512001037597656, 2.8005242347717285, 4.8134002685546875, 2.101793050765991, 2.101792573928833, 2.1018357276916504, 2.1019771099090576, 2.1020779609680176, 2.102095365524292, 2.102142572402954, 2.1019089221954346, 2.1018710136413574, 2.1018660068511963, 2.1021459102630615, 2.1126890182495117, 6.437962055206299, 1.4030992984771729, 1.4030992984771729, 1.4030990600585938, 1.4030988216400146, 1.4030992984771729, 1.4030990600585938, 1.4030989408493042, 1.4030988216400146, 1.4030989408493042, 1.4030988216400146, 1.4030988216400146, 1.4030991792678833, 1.4030988216400146, 1.403098702430725, 1.4030989408493042, 3.5471372604370117, 4.880052089691162, 14.367568016052246, 7.786163330078125, 3.58913516998291, 5.023073673248291, 9.895550727844238, 19.512001037597656, 9.71306324005127, 20.997119903564453, 2.7121741771698, 2.7114109992980957, 4.149709701538086, 16.4539852142334, 4.1789774894714355, 9.04073715209961, 9.29487419128418, 10.196207046508789, 5.834427833557129, 19.595252990722656, 7.097525119781494, 6.501208782196045, 10.815999031066895, 25.07560920715332, 19.218059539794922, 9.116923332214355, 4.919586658477783, 9.279820442199707, 5.049806118011475, 18.264320373535156, 12.366170883178711, 5.080153942108154, 7.2675089836120605, 12.529224395751953, 7.137803554534912, 9.258106231689453, 2.5343005657196045, 2.534613609313965, 1.9236068725585938, 1.9236092567443848, 1.9242455959320068, 1.924222469329834, 1.9242274761199951, 1.924336314201355, 1.924642562866211, 1.9246752262115479, 1.9247726202011108, 1.9249752759933472, 3.272371768951416, 3.3045740127563477, 3.2812047004699707, 1.3140203952789307, 1.3140208721160889, 1.3140208721160889, 1.314021348953247, 1.314021110534668, 1.3140218257904053, 1.314021110534668, 1.314021348953247, 1.314021348953247, 1.314021348953247, 1.3140214681625366, 1.314021348953247, 1.3140215873718262, 1.3140225410461426, 1.3140220642089844, 4.541306495666504, 4.582243919372559, 3.9723949432373047, 2.622828960418701, 2.623230218887329, 2.6231746673583984, 2.623384475708008, 2.6634814739227295, 2.663524866104126, 2.6638150215148926, 2.693812847137451, 10.432149887084961, 4.670045375823975, 2.642988443374634, 4.814452171325684, 18.264320373535156, 8.53474235534668, 19.218059539794922, 6.189859867095947, 6.241374492645264, 6.981518268585205, 7.076960563659668, 7.864121437072754, 9.04073715209961, 9.116923332214355, 9.71306324005127, 16.102781295776367, 19.595252990722656, 7.148484230041504, 11.684428215026855, 25.07560920715332, 16.4539852142334, 7.839357376098633, 9.895550727844238], \"Category\": [\"Default\", \"Default\", \"Default\", \"Default\", \"Default\", \"Default\", \"Default\", \"Default\", \"Default\", \"Default\", \"Default\", \"Default\", \"Default\", \"Default\", \"Default\", \"Default\", \"Default\", \"Default\", \"Default\", \"Default\", \"Default\", \"Default\", \"Default\", \"Default\", \"Default\", \"Default\", \"Default\", \"Default\", \"Default\", \"Default\", \"Topic1\", \"Topic1\", \"Topic1\", \"Topic1\", \"Topic1\", \"Topic1\", \"Topic1\", \"Topic1\", \"Topic1\", \"Topic1\", \"Topic1\", \"Topic1\", \"Topic1\", \"Topic1\", \"Topic1\", \"Topic1\", \"Topic1\", \"Topic1\", \"Topic1\", \"Topic1\", \"Topic1\", \"Topic1\", \"Topic1\", \"Topic1\", \"Topic1\", \"Topic1\", \"Topic1\", \"Topic1\", \"Topic1\", \"Topic1\", \"Topic1\", \"Topic1\", \"Topic1\", \"Topic1\", \"Topic1\", \"Topic1\", \"Topic1\", \"Topic1\", \"Topic1\", \"Topic1\", \"Topic1\", \"Topic1\", \"Topic1\", \"Topic1\", \"Topic1\", \"Topic1\", \"Topic1\", \"Topic1\", \"Topic1\", \"Topic1\", \"Topic1\", \"Topic1\", \"Topic1\", \"Topic1\", \"Topic1\", \"Topic1\", \"Topic1\", \"Topic2\", \"Topic2\", \"Topic2\", \"Topic2\", \"Topic2\", \"Topic2\", \"Topic2\", \"Topic2\", \"Topic2\", \"Topic2\", \"Topic2\", \"Topic2\", \"Topic2\", \"Topic2\", \"Topic2\", \"Topic2\", \"Topic2\", \"Topic2\", \"Topic2\", \"Topic2\", \"Topic2\", \"Topic2\", \"Topic2\", \"Topic2\", \"Topic2\", \"Topic2\", \"Topic2\", \"Topic2\", \"Topic2\", \"Topic2\", \"Topic2\", \"Topic2\", \"Topic2\", \"Topic2\", \"Topic2\", \"Topic2\", \"Topic2\", \"Topic2\", \"Topic2\", \"Topic2\", \"Topic2\", \"Topic2\", \"Topic2\", \"Topic2\", \"Topic2\", \"Topic2\", \"Topic2\", \"Topic2\", \"Topic2\", \"Topic2\", \"Topic2\", \"Topic2\", \"Topic2\", \"Topic2\", \"Topic2\", \"Topic2\", \"Topic2\", \"Topic2\", \"Topic2\", \"Topic3\", \"Topic3\", \"Topic3\", \"Topic3\", \"Topic3\", \"Topic3\", \"Topic3\", \"Topic3\", \"Topic3\", \"Topic3\", \"Topic3\", \"Topic3\", \"Topic3\", \"Topic3\", \"Topic3\", \"Topic3\", \"Topic3\", \"Topic3\", \"Topic3\", \"Topic3\", \"Topic3\", \"Topic3\", \"Topic3\", \"Topic3\", \"Topic3\", \"Topic3\", \"Topic3\", \"Topic3\", \"Topic3\", \"Topic3\", \"Topic3\", \"Topic3\", \"Topic3\", \"Topic3\", \"Topic3\", \"Topic3\", \"Topic3\", \"Topic3\", \"Topic3\", \"Topic3\", \"Topic3\", \"Topic3\", \"Topic3\", \"Topic3\", \"Topic3\", \"Topic3\", \"Topic3\", \"Topic3\", \"Topic3\", \"Topic3\", \"Topic3\", \"Topic3\", \"Topic3\", \"Topic3\", \"Topic3\", \"Topic3\", \"Topic3\", \"Topic3\", \"Topic3\", \"Topic3\", \"Topic3\", \"Topic3\", \"Topic3\", \"Topic3\", \"Topic3\", \"Topic3\", \"Topic4\", \"Topic4\", \"Topic4\", \"Topic4\", \"Topic4\", \"Topic4\", \"Topic4\", \"Topic4\", \"Topic4\", \"Topic4\", \"Topic4\", \"Topic4\", \"Topic4\", \"Topic4\", \"Topic4\", \"Topic4\", \"Topic4\", \"Topic4\", \"Topic4\", \"Topic4\", \"Topic4\", \"Topic4\", \"Topic4\", \"Topic4\", \"Topic4\", \"Topic4\", \"Topic4\", \"Topic4\", \"Topic4\", \"Topic4\", \"Topic4\", \"Topic4\", \"Topic4\", \"Topic4\", \"Topic4\", \"Topic4\", \"Topic4\", \"Topic4\", \"Topic4\", \"Topic4\", \"Topic4\", \"Topic4\", \"Topic4\", \"Topic4\", \"Topic4\", \"Topic4\", \"Topic4\", \"Topic4\", \"Topic4\", \"Topic4\", \"Topic4\", \"Topic4\", \"Topic4\", \"Topic4\", \"Topic4\", \"Topic4\", \"Topic4\", \"Topic4\", \"Topic4\", \"Topic4\", \"Topic4\", \"Topic4\", \"Topic4\", \"Topic4\"], \"logprob\": [30.0, 29.0, 28.0, 27.0, 26.0, 25.0, 24.0, 23.0, 22.0, 21.0, 20.0, 19.0, 18.0, 17.0, 16.0, 15.0, 14.0, 13.0, 12.0, 11.0, 10.0, 9.0, 8.0, 7.0, 6.0, 5.0, 4.0, 3.0, 2.0, 1.0, -5.3531999588012695, -5.554500102996826, -5.554599761962891, -5.555699825286865, -5.820000171661377, -5.822999954223633, -5.823699951171875, -5.82390022277832, -5.824999809265137, -5.827000141143799, -5.833499908447266, -5.168900012969971, -5.34089994430542, -6.1875, -6.188300132751465, -6.188199996948242, -6.188199996948242, -5.337699890136719, -6.188399791717529, -6.188899993896484, -6.188799858093262, -6.1894001960754395, -6.189799785614014, -6.190899848937988, -6.191500186920166, -6.19379997253418, -6.193699836730957, -6.196000099182129, -5.341400146484375, -5.167099952697754, -4.890600204467773, -5.018700122833252, -4.672599792480469, -4.672500133514404, -5.019499778747559, -4.889599800109863, -5.019899845123291, -4.153299808502197, -4.575300216674805, -4.901800155639648, -5.341599941253662, -5.554999828338623, -5.821499824523926, -4.887700080871582, -4.577700138092041, -4.592400074005127, -5.165299892425537, -4.75, -5.34250020980835, -5.342199802398682, -4.889800071716309, -5.552999973297119, -5.165500164031982, -5.339099884033203, -5.345799922943115, -5.2459001541137695, -5.546299934387207, -5.214099884033203, -5.424699783325195, -5.425099849700928, -5.427499771118164, -5.69320011138916, -5.69379997253418, -5.693999767303467, -5.694399833679199, -5.695400238037109, -6.060500144958496, -6.0605998039245605, -6.060699939727783, -6.060699939727783, -6.060999870300293, -6.061100006103516, -6.061200141906738, -6.061200141906738, -6.061500072479248, -6.061500072479248, -6.06279993057251, -6.063300132751465, -6.063600063323975, -6.064000129699707, -6.064700126647949, -6.065199851989746, -5.694499969482422, -5.693399906158447, -5.21120023727417, -5.6956000328063965, -4.366799831390381, -4.76200008392334, -5.208399772644043, -5.2133002281188965, -5.215700149536133, -5.214900016784668, -5.693399906158447, -5.213600158691406, -4.890399932861328, -5.035200119018555, -5.423799991607666, -5.2153000831604, -5.213099956512451, -5.4257001876831055, -5.424699783325195, -5.2129998207092285, -5.425899982452393, -4.888400077819824, -5.041999816894531, -5.2052001953125, -4.889500141143799, -5.426000118255615, -5.21619987487793, -5.208799839019775, -5.510300159454346, -5.4253997802734375, -5.4278998374938965, -5.422299861907959, -5.417799949645996, -5.423299789428711, -5.52869987487793, -5.064799785614014, -5.896100044250488, -5.896100044250488, -5.896599769592285, -5.897200107574463, -5.897900104522705, -5.8979997634887695, -5.8983001708984375, -5.898499965667725, -5.898900032043457, -5.900000095367432, -5.900000095367432, -5.968400001525879, -4.877900123596191, -6.48390007019043, -6.48390007019043, -6.48390007019043, -6.48390007019043, -6.48390007019043, -6.48390007019043, -6.48390007019043, -6.48390007019043, -6.48390007019043, -6.48390007019043, -6.48390007019043, -6.48390007019043, -6.48390007019043, -6.48390007019043, -6.48390007019043, -5.560999870300293, -5.262199878692627, -4.287799835205078, -4.8780999183654785, -5.611700057983398, -5.308499813079834, -4.728600025177002, -4.125800132751465, -4.758600234985352, -4.0725998878479, -5.895999908447266, -5.902599811553955, -5.528800010681152, -4.33650016784668, -5.533400058746338, -4.890399932861328, -4.879000186920166, -4.876500129699707, -5.350900173187256, -4.730100154876709, -5.260799884796143, -5.309299945831299, -5.0594000816345215, -4.730500221252441, -4.877399921417236, -5.261499881744385, -5.5304999351501465, -5.264699935913086, -5.532899856567383, -5.049300193786621, -5.261199951171875, -5.531199932098389, -5.527400016784668, -5.526800155639648, -5.52869987487793, -5.52869987487793, -5.280399799346924, -5.280600070953369, -5.645400047302246, -5.645400047302246, -5.64739990234375, -5.64769983291626, -5.647900104522705, -5.6479997634887695, -5.648799896240234, -5.649099826812744, -5.649400234222412, -5.649799823760986, -5.277400016784668, -5.280799865722656, -5.29449987411499, -6.2332000732421875, -6.2332000732421875, -6.2332000732421875, -6.2332000732421875, -6.2332000732421875, -6.2332000732421875, -6.2332000732421875, -6.2332000732421875, -6.2332000732421875, -6.2332000732421875, -6.2332000732421875, -6.2332000732421875, -6.2332000732421875, -6.2332000732421875, -6.2332000732421875, -5.01170015335083, -5.0121002197265625, -5.280600070953369, -5.645400047302246, -5.648499965667725, -5.64870023727417, -5.649799823760986, -5.647299766540527, -5.648200035095215, -5.648499965667725, -5.645400047302246, -4.624599933624268, -5.277200222015381, -5.704899787902832, -5.281300067901611, -4.477099895477295, -5.011099815368652, -4.595300197601318, -5.279399871826172, -5.277400016784668, -5.279600143432617, -5.280200004577637, -5.281000137329102, -5.278200149536133, -5.276199817657471, -5.2758002281188965, -5.27869987487793, -5.276599884033203, -5.5569000244140625, -5.5995001792907715, -5.612199783325195, -5.636899948120117, -5.642000198364258, -5.642199993133545], \"loglift\": [30.0, 29.0, 28.0, 27.0, 26.0, 25.0, 24.0, 23.0, 22.0, 21.0, 20.0, 19.0, 18.0, 17.0, 16.0, 15.0, 14.0, 13.0, 12.0, 11.0, 10.0, 9.0, 8.0, 7.0, 6.0, 5.0, 4.0, 3.0, 2.0, 1.0, 0.9613999724388123, 0.9452000260353088, 0.9448000192642212, 0.9437999725341797, 0.9067000150680542, 0.9039000272750854, 0.9031999707221985, 0.9031000137329102, 0.9021000266075134, 0.9002000093460083, 0.8937000036239624, 0.8590999841690063, 0.8475000262260437, 0.8342000246047974, 0.8335999846458435, 0.8335000276565552, 0.8335000276565552, 0.8334000110626221, 0.833299994468689, 0.8330000042915344, 0.8328999876976013, 0.8324000239372253, 0.832099974155426, 0.8309999704360962, 0.8305000066757202, 0.8284000158309937, 0.8284000158309937, 0.8267999887466431, 0.822700023651123, 0.7713000178337097, 0.7477999925613403, 0.7305999994277954, 0.6751000285148621, 0.6747000217437744, 0.7028999924659729, 0.6693999767303467, 0.6662999987602234, 0.4551999866962433, 0.47609999775886536, 0.47040000557899475, 0.593999981880188, 0.6395999789237976, 0.7211999893188477, 0.4147000014781952, 0.2775000035762787, 0.28220000863075256, 0.48890000581741333, 0.035999998450279236, 0.5121999979019165, 0.42590001225471497, -0.030400000512599945, 0.616599977016449, -0.23999999463558197, 0.14640000462532043, 0.16120000183582306, -0.2160000056028366, 0.056299999356269836, 1.1345000267028809, 1.107699990272522, 1.1073999404907227, 1.1050000190734863, 1.0648000240325928, 1.0642999410629272, 1.0640000104904175, 1.063599944114685, 1.0627000331878662, 0.9890999794006348, 0.9890000224113464, 0.9890000224113464, 0.9890000224113464, 0.9886999726295471, 0.9886000156402588, 0.9884999990463257, 0.9883999824523926, 0.9883000254631042, 0.988099992275238, 0.9869999885559082, 0.9864000082015991, 0.9861000180244446, 0.98580002784729, 0.9850000143051147, 0.9846000075340271, 0.8741000294685364, 0.8503999710083008, 0.8492000102996826, 0.8482000231742859, 0.832099974155426, 0.7494000196456909, 0.7531999945640564, 0.7483999729156494, 0.6437000036239624, 0.632099986076355, 0.8307999968528748, 0.6139000058174133, 0.4250999987125397, 0.4717999994754791, 0.6435999870300293, 0.4683000147342682, 0.44359999895095825, 0.5817999839782715, 0.557200014591217, 0.3919000029563904, 0.5175999999046326, 0.03709999844431877, 0.1234000027179718, 0.24420000612735748, -0.2809999883174896, 0.4390000104904175, -0.1647000014781952, -0.35359999537467957, 0.3336000144481659, -0.07760000228881836, -0.12559999525547028, -0.39239999651908875, -0.6316999793052673, -0.5638999938964844, 1.2719000577926636, 1.194200038909912, 1.191499948501587, 1.191499948501587, 1.190999984741211, 1.1902999877929688, 1.1895999908447266, 1.1894999742507935, 1.1892000436782837, 1.1890000104904175, 1.1886999607086182, 1.187600016593933, 1.1875, 1.1140999794006348, 1.0902999639511108, 1.0077999830245972, 1.0077999830245972, 1.0077999830245972, 1.0077999830245972, 1.0077999830245972, 1.0077999830245972, 1.0077999830245972, 1.0077999830245972, 1.0077999830245972, 1.0077999830245972, 1.0077999830245972, 1.0077999830245972, 1.0077999830245972, 1.0077999830245972, 1.0077999830245972, 1.0032000541687012, 0.9830999970436096, 0.8776000142097473, 0.8999999761581421, 0.9408000111579895, 0.9078999757766724, 0.8097000122070312, 0.7336000204086304, 0.79830002784729, 0.7134000062942505, 0.9366999864578247, 0.9302999973297119, 0.8784999847412109, 0.6934000253677368, 0.8669000267982483, 0.7383000254631042, 0.722000002861023, 0.6319000124931335, 0.7157999873161316, 0.1251000016927719, 0.6098999977111816, 0.6491000056266785, 0.38999998569488525, -0.12200000137090683, -0.00279999990016222, 0.3587999939918518, 0.7067000269889832, 0.3379000127315521, 0.6782000064849854, -0.12380000203847885, 0.05429999902844429, 0.6739000082015991, 0.319599986076355, -0.22439999878406525, 0.33629998564720154, 0.07620000094175339, 1.6201000213623047, 1.6197999715805054, 1.530900001525879, 1.5307999849319458, 1.528499960899353, 1.5282000303268433, 1.527999997138977, 1.5277999639511108, 1.526900053024292, 1.5264999866485596, 1.5262000560760498, 1.5256999731063843, 1.3674999475479126, 1.3543000221252441, 1.3476999998092651, 1.3241000175476074, 1.3241000175476074, 1.3241000175476074, 1.3241000175476074, 1.3241000175476074, 1.3241000175476074, 1.3241000175476074, 1.3241000175476074, 1.3241000175476074, 1.3241000175476074, 1.3241000175476074, 1.3241000175476074, 1.3241000175476074, 1.3241000175476074, 1.3241000175476074, 1.3055000305175781, 1.2962000370025635, 1.1705000400543213, 1.2208000421524048, 1.2174999713897705, 1.2173000574111938, 1.2161999940872192, 1.2035000324249268, 1.2026000022888184, 1.2022000551223755, 1.194100022315979, 0.8610000014305115, 1.0120999813079834, 1.1535999774932861, 0.9775000214576721, 0.44839999079704285, 0.6751999855041504, 0.2793000042438507, 0.7281000018119812, 0.7218000292778015, 0.6075999736785889, 0.5934000015258789, 0.4871000051498413, 0.3504999876022339, 0.3440999984741211, 0.28110000491142273, -0.2273000031709671, -0.42149999737739563, 0.30660000443458557, -0.2273000031709671, -1.0037000179290771, -0.6071000099182129, 0.12919999659061432, -0.10379999876022339]}, \"token.table\": {\"Topic\": [1, 3, 2, 4, 4, 1, 2, 4, 1, 1, 3, 1, 2, 4, 1, 2, 4, 1, 3, 4, 1, 2, 3, 4, 1, 2, 4, 1, 2, 1, 2, 3, 4, 3, 1, 2, 1, 2, 3, 4, 1, 3, 3, 2, 4, 1, 2, 3, 4, 3, 4, 1, 4, 2, 4, 1, 3, 1, 3, 4, 1, 2, 3, 4, 2, 1, 1, 4, 3, 1, 3, 4, 3, 4, 1, 2, 3, 4, 2, 3, 2, 3, 3, 3, 2, 4, 1, 2, 3, 4, 1, 2, 3, 4, 1, 2, 3, 4, 2, 3, 4, 3, 1, 1, 2, 3, 4, 1, 4, 4, 1, 2, 3, 4, 2, 4, 1, 2, 3, 4, 1, 2, 3, 4, 1, 2, 3, 4, 4, 2, 1, 2, 3, 4, 3, 4, 1, 2, 3, 4, 1, 2, 3, 3, 4, 2, 1, 2, 3, 1, 2, 3, 1, 4, 1, 1, 2, 3, 4, 1, 2, 4, 1, 2, 3, 4, 2, 1, 4, 3, 2, 3, 4, 1, 3, 3, 2, 3, 2, 1, 3, 1, 3, 4, 1, 2, 2, 2, 4, 1, 2, 4, 2, 1, 3, 4, 1, 2, 3, 4, 3, 4, 3, 1, 2, 3, 2, 3, 4, 4, 1, 1, 3, 4, 1, 2, 1, 2, 3, 4, 1, 2, 3, 1, 2, 3, 4, 4, 3, 4, 1, 2, 3, 1, 4, 2, 4, 1, 2, 3, 4, 3, 1, 2, 4, 1, 1, 2, 3, 4, 1, 3, 4, 3, 4, 2, 4, 3, 4, 1, 2, 3, 4, 3, 3, 2, 1, 2, 3, 4, 1, 3, 3, 1, 2, 1, 2, 3, 2, 3, 4, 3, 1, 2, 4, 2, 3, 4, 4, 4, 1, 2, 4, 1, 2, 3, 2, 1, 1, 2, 3, 1, 2, 4, 1, 1, 2, 1, 2, 3, 4, 1, 2, 3, 4, 3, 4, 4, 2, 3, 1, 4, 1, 4, 1, 2, 3, 4, 3, 4, 1, 2, 3, 4, 2, 1, 3, 4, 1, 2, 3, 4, 1, 3, 1, 2, 3, 4, 1, 2, 3, 4, 1, 2, 3, 4, 1, 2, 1, 1, 4, 2, 1, 2, 3, 4, 2, 2, 3, 4, 4, 1, 2, 3, 4, 2, 3, 3, 1, 2, 4, 3, 3, 4, 1, 2, 3, 4, 1, 1, 2, 3, 4, 1, 3, 1, 2, 3, 4, 1, 2, 3, 2, 3, 4, 2, 3, 4, 1, 4, 2], \"Freq\": [0.7610718607902527, 0.19026796519756317, 0.6843957304954529, 0.5196890830993652, 0.761023223400116, 0.6681538820266724, 0.25055772066116333, 0.08351923525333405, 0.8908738493919373, 0.6635785102844238, 0.9515686631202698, 0.4154159128665924, 0.2077079564332962, 0.4154159128665924, 0.42391079664230347, 0.28260719776153564, 0.28260719776153564, 0.48066335916519165, 0.32044222950935364, 0.32044222950935364, 0.2160269021987915, 0.432053804397583, 0.2160269021987915, 0.10801345109939575, 0.8910828828811646, 0.8192298412322998, 0.519487202167511, 0.2708505094051361, 0.5417010188102722, 0.1543048769235611, 0.6172195076942444, 0.1543048769235611, 0.1543048769235611, 0.7127079963684082, 0.5699349045753479, 0.37995660305023193, 0.1574786901473999, 0.4724360704421997, 0.1574786901473999, 0.1574786901473999, 0.8784818053245544, 0.7127081155776978, 0.9514087438583374, 0.9162607192993164, 0.7610228061676025, 0.2032691091299057, 0.2032691091299057, 0.4065382182598114, 0.2032691091299057, 0.44040191173553467, 0.660602867603302, 0.7926918268203735, 0.7610219717025757, 0.37544846534729004, 0.37544846534729004, 0.8910001516342163, 0.9515331983566284, 0.7538228631019592, 0.1507645696401596, 0.1507645696401596, 0.21937225759029388, 0.21937225759029388, 0.32905837893486023, 0.21937225759029388, 0.9162176251411438, 0.8909627795219421, 0.8918721675872803, 0.7890748977661133, 0.7127081751823425, 0.23929297924041748, 0.47858595848083496, 0.23929297924041748, 0.7127079367637634, 0.51954185962677, 0.19802740216255188, 0.39605480432510376, 0.39605480432510376, 0.7610226273536682, 0.5523832440376282, 0.2761916220188141, 0.5524033904075623, 0.27620169520378113, 0.7127082347869873, 0.7127081751823425, 0.30476611852645874, 0.6095322370529175, 0.17153729498386383, 0.5146118998527527, 0.34307458996772766, 0.519659698009491, 0.14009912312030792, 0.4202973544597626, 0.28019824624061584, 0.14009912312030792, 0.4592949151992798, 0.20413106679916382, 0.25516384840011597, 0.10206553339958191, 0.24098071455955505, 0.4819614291191101, 0.24098071455955505, 0.9514316320419312, 0.6634273529052734, 0.41150104999542236, 0.41150104999542236, 0.13716702163219452, 0.13716702163219452, 0.8908718824386597, 0.7610225081443787, 0.7610225677490234, 0.4788804054260254, 0.2394402027130127, 0.1596267968416214, 0.0798133984208107, 0.3055887520313263, 0.6111775040626526, 0.3232821226119995, 0.2155214101076126, 0.3232821226119995, 0.1077607050538063, 0.3826844394207001, 0.12756147980690002, 0.25512295961380005, 0.12756147980690002, 0.14089418947696686, 0.2817883789539337, 0.4226825535297394, 0.14089418947696686, 0.7610222101211548, 0.9161335229873657, 0.429705947637558, 0.14323532581329346, 0.2864706516265869, 0.2864706516265869, 0.7376233339309692, 0.3688116669654846, 0.2425973266363144, 0.4043288826942444, 0.2425973266363144, 0.080865778028965, 0.1538175493478775, 0.307635098695755, 0.4614526331424713, 0.7127081751823425, 0.5195682048797607, 0.9161073565483093, 0.3936888575553894, 0.1968444287776947, 0.3936888575553894, 0.1703369915485382, 0.6813479661941528, 0.1703369915485382, 0.5517910122871399, 0.27589550614356995, 0.8908727169036865, 0.24310219287872314, 0.18232664465904236, 0.4254288375377655, 0.060775548219680786, 0.3917658030986786, 0.48970726132392883, 0.09794145077466965, 0.27375778555870056, 0.27375778555870056, 0.2190062254667282, 0.2190062254667282, 0.8192781209945679, 0.8913276195526123, 0.7610226273536682, 0.9514394998550415, 0.8192601203918457, 0.3783595860004425, 0.3783595860004425, 0.8909167051315308, 0.7127081155776978, 0.7127081751823425, 0.9160958528518677, 0.9514851570129395, 0.9162008166313171, 0.2786186635494232, 0.5572373270988464, 0.204915851354599, 0.6147475242614746, 0.204915851354599, 0.8908839821815491, 0.9160763025283813, 0.9161205291748047, 0.3754423260688782, 0.3754423260688782, 0.5086391568183899, 0.25431957840919495, 0.25431957840919495, 0.9161005616188049, 0.30316653847694397, 0.5052775740623474, 0.10105551779270172, 0.15433433651924133, 0.6173373460769653, 0.15433433651924133, 0.15433433651924133, 0.38118699193000793, 0.38118699193000793, 0.7127081155776978, 0.40484917163848877, 0.5397988557815552, 0.1349497139453888, 0.9161233305931091, 0.8310133814811707, 0.20775334537029266, 0.5196841955184937, 0.7926521897315979, 0.7487302422523499, 0.12478837370872498, 0.12478837370872498, 0.891028106212616, 0.9161010384559631, 0.1393146812915802, 0.5572587251663208, 0.2786293625831604, 0.1393146812915802, 0.3030656576156616, 0.45459845662117004, 0.3030656576156616, 0.1967320591211319, 0.5901961922645569, 0.1967320591211319, 0.09836602956056595, 0.7610226273536682, 0.9515684843063354, 0.7610223889350891, 0.13759872317314148, 0.5503948926925659, 0.27519744634628296, 0.7743295431137085, 0.19358238577842712, 0.5662704706192017, 0.28313523530960083, 0.3333790600299835, 0.1428767442703247, 0.4762558043003082, 0.0476255789399147, 0.7141519784927368, 0.6189478039741516, 0.20631593465805054, 0.10315796732902527, 0.6634309887886047, 0.29422706365585327, 0.19615137577056885, 0.3923027515411377, 0.7610228061676025, 0.7928540110588074, 0.3812094032764435, 0.3812094032764435, 0.9515491724014282, 0.5195769667625427, 0.37540143728256226, 0.37540143728256226, 0.9514102339744568, 0.7610229253768921, 0.5135039687156677, 0.1711679846048355, 0.1711679846048355, 0.08558399230241776, 0.712708055973053, 0.7127079367637634, 0.6844351291656494, 0.3075030446052551, 0.15375152230262756, 0.4612545967102051, 0.05125050991773605, 0.3106573224067688, 0.6213146448135376, 0.9515160322189331, 0.7557262778282166, 0.18893156945705414, 0.13920240104198456, 0.348006010055542, 0.5568096041679382, 0.2141306847333908, 0.4282613694667816, 0.4282613694667816, 0.7127079367637634, 0.5843718647956848, 0.19479061663150787, 0.19479061663150787, 0.2819174826145172, 0.5638349652290344, 0.5198560953140259, 0.5198567509651184, 0.7610226273536682, 0.8909600377082825, 0.9161670804023743, 0.7610226273536682, 0.19908128678798676, 0.19908128678798676, 0.5972439050674438, 0.9162388443946838, 0.6635852456092834, 0.7288716435432434, 0.1214786097407341, 0.2429572194814682, 0.6701008677482605, 0.22336696088314056, 0.11168348044157028, 0.9949405193328857, 0.6634677052497864, 0.9161137342453003, 0.41966938972473145, 0.2797795832157135, 0.13988979160785675, 0.13988979160785675, 0.46830952167510986, 0.10406877845525742, 0.20813755691051483, 0.20813755691051483, 0.7374157905578613, 0.36870789527893066, 0.5196904540061951, 0.6843327879905701, 0.9515354633331299, 0.3026108741760254, 0.6052217483520508, 0.6635262370109558, 0.789172351360321, 0.5546447038650513, 0.13866117596626282, 0.13866117596626282, 0.13866117596626282, 0.38121747970581055, 0.38121747970581055, 0.21591874957084656, 0.6477562189102173, 0.1439458280801773, 0.07197291404008865, 0.6843876838684082, 0.33183133602142334, 0.44244179129600525, 0.22122089564800262, 0.2337033599615097, 0.4674067199230194, 0.2337033599615097, 0.11685167998075485, 0.6013507843017578, 0.3006753921508789, 0.27736687660217285, 0.36982253193855286, 0.36982253193855286, 0.09245563298463821, 0.3227585256099701, 0.21517236530780792, 0.43034473061561584, 0.10758618265390396, 0.20590826869010925, 0.10295413434505463, 0.5147706866264343, 0.20590826869010925, 0.8244748115539551, 0.1648949682712555, 0.8908451795578003, 0.7030088901519775, 0.35150444507598877, 0.916102409362793, 0.5673892498016357, 0.22695571184158325, 0.22695571184158325, 0.11347785592079163, 0.6843430399894714, 0.21823368966579437, 0.21823368966579437, 0.6547010540962219, 0.7610229253768921, 0.518432080745697, 0.19939695298671722, 0.19939695298671722, 0.039879389107227325, 0.916115939617157, 0.7127081751823425, 0.712708055973053, 0.3834300637245178, 0.1917150318622589, 0.3834300637245178, 0.47333043813705444, 0.3812677264213562, 0.3812677264213562, 0.256865918636322, 0.128432959318161, 0.513731837272644, 0.128432959318161, 0.8912048935890198, 0.5589096546173096, 0.24840429425239563, 0.12420214712619781, 0.12420214712619781, 0.5141892433166504, 0.5141892433166504, 0.34126341342926025, 0.45501789450645447, 0.11375447362661362, 0.11375447362661362, 0.6677506566047668, 0.1669376641511917, 0.1669376641511917, 0.2517372965812683, 0.2517372965812683, 0.5034745931625366, 0.48466363549232483, 0.16155454516410828, 0.32310909032821655, 0.37122103571891785, 0.37122103571891785, 0.9088748693466187], \"Term\": [\"actually\", \"actually\", \"address\", \"aircondition\", \"akakiko\", \"also\", \"also\", \"also\", \"always\", \"answer\", \"apology\", \"arrive\", \"arrive\", \"arrive\", \"ask\", \"ask\", \"ask\", \"average\", \"average\", \"average\", \"back\", \"back\", \"back\", \"back\", \"bath\", \"bed\", \"birthday\", \"bit\", \"bit\", \"book\", \"book\", \"book\", \"book\", \"bother\", \"breakfast\", \"breakfast\", \"bring\", \"bring\", \"bring\", \"bring\", \"burger\", \"burn\", \"calamari\", \"car\", \"category\", \"change\", \"change\", \"change\", \"change\", \"cheap\", \"cheap\", \"check\", \"chinese\", \"client\", \"client\", \"close\", \"cocktail\", \"cold\", \"cold\", \"cold\", \"come\", \"come\", \"come\", \"come\", \"comfortable\", \"compare\", \"concern\", \"contain\", \"cooking\", \"course\", \"course\", \"course\", \"coursesnot\", \"crispy\", \"customer\", \"customer\", \"customer\", \"daughter\", \"decent\", \"decent\", \"deep\", \"deep\", \"definitively\", \"deliver\", \"different\", \"different\", \"dinner\", \"dinner\", \"dinner\", \"dirty\", \"disappoint\", \"disappoint\", \"disappoint\", \"disappoint\", \"dish\", \"dish\", \"dish\", \"dish\", \"drink\", \"drink\", \"drink\", \"drop\", \"early\", \"eat\", \"eat\", \"eat\", \"eat\", \"elsewhere\", \"entree\", \"euros\", \"even\", \"even\", \"even\", \"even\", \"excellent\", \"excellent\", \"expect\", \"expect\", \"expect\", \"expect\", \"expensive\", \"expensive\", \"expensive\", \"expensive\", \"experience\", \"experience\", \"experience\", \"experience\", \"fast\", \"finally\", \"find\", \"find\", \"find\", \"find\", \"finish\", \"finish\", \"first\", \"first\", \"first\", \"first\", \"fish\", \"fish\", \"fish\", \"follow\", \"forward\", \"free\", \"fresh\", \"fresh\", \"fresh\", \"friendly\", \"friendly\", \"friendly\", \"full\", \"full\", \"generally\", \"get\", \"get\", \"get\", \"get\", \"give\", \"give\", \"give\", \"go\", \"go\", \"go\", \"go\", \"great\", \"grill\", \"guess\", \"heavily\", \"helpful\", \"high\", \"high\", \"import\", \"impressed\", \"interesting\", \"internet\", \"japanese\", \"job\", \"know\", \"know\", \"lady\", \"lady\", \"lady\", \"less\", \"lie\", \"limited\", \"locate\", \"locate\", \"look\", \"look\", \"look\", \"lovely\", \"main\", \"main\", \"main\", \"make\", \"make\", \"make\", \"make\", \"manager\", \"manager\", \"mass\", \"menu\", \"menu\", \"menu\", \"milanese\", \"minute\", \"minute\", \"miss\", \"morning\", \"much\", \"much\", \"much\", \"name\", \"napkin\", \"need\", \"need\", \"need\", \"need\", \"never\", \"never\", \"never\", \"night\", \"night\", \"night\", \"night\", \"non\", \"none\", \"normal\", \"offer\", \"offer\", \"offer\", \"open\", \"open\", \"option\", \"option\", \"order\", \"order\", \"order\", \"order\", \"overcook\", \"pasta\", \"pasta\", \"pasta\", \"person\", \"place\", \"place\", \"place\", \"plan\", \"plate\", \"pool\", \"pool\", \"pork\", \"pour\", \"prawn\", \"prawn\", \"pregnant\", \"presentation\", \"price\", \"price\", \"price\", \"price\", \"product\", \"production\", \"properly\", \"quality\", \"quality\", \"quality\", \"quality\", \"quite\", \"quite\", \"raman\", \"rather\", \"rather\", \"really\", \"really\", \"really\", \"reason\", \"reason\", \"reason\", \"reccommend\", \"reception\", \"reception\", \"reception\", \"recommend\", \"recommend\", \"reflect\", \"remind\", \"reputation\", \"rice\", \"right\", \"road\", \"rude\", \"rude\", \"rude\", \"sadly\", \"salmon\", \"sauce\", \"sauce\", \"sauce\", \"say\", \"say\", \"say\", \"selection\", \"seminar\", \"send\", \"serve\", \"serve\", \"serve\", \"serve\", \"service\", \"service\", \"service\", \"service\", \"shame\", \"shame\", \"show\", \"shower\", \"sit\", \"small\", \"small\", \"smoke\", \"spa\", \"special\", \"special\", \"special\", \"special\", \"spend\", \"spend\", \"staff\", \"staff\", \"staff\", \"staff\", \"star\", \"starter\", \"starter\", \"starter\", \"stay\", \"stay\", \"stay\", \"stay\", \"sushi\", \"sushi\", \"table\", \"table\", \"table\", \"table\", \"take\", \"take\", \"take\", \"take\", \"taste\", \"taste\", \"taste\", \"taste\", \"tasteless\", \"tasteless\", \"teethe\", \"tell\", \"tell\", \"terrace\", \"terrible\", \"terrible\", \"terrible\", \"terrible\", \"thin\", \"thing\", \"thing\", \"thing\", \"thoroughly\", \"time\", \"time\", \"time\", \"time\", \"toilet\", \"traveller\", \"truffle\", \"try\", \"try\", \"try\", \"tuna\", \"unfortunately\", \"unfortunately\", \"use\", \"use\", \"use\", \"use\", \"veggie\", \"visit\", \"visit\", \"visit\", \"visit\", \"wait\", \"wait\", \"water\", \"water\", \"water\", \"water\", \"well\", \"well\", \"well\", \"wine\", \"wine\", \"wine\", \"work\", \"work\", \"work\", \"worth\", \"worth\", \"wrong\"]}, \"R\": 30, \"lambda.step\": 0.01, \"plot.opts\": {\"xlab\": \"PC1\", \"ylab\": \"PC2\"}, \"topic.order\": [3, 4, 2, 1]};\n",
       "\n",
       "function LDAvis_load_lib(url, callback){\n",
       "  var s = document.createElement('script');\n",
       "  s.src = url;\n",
       "  s.async = true;\n",
       "  s.onreadystatechange = s.onload = callback;\n",
       "  s.onerror = function(){console.warn(\"failed to load library \" + url);};\n",
       "  document.getElementsByTagName(\"head\")[0].appendChild(s);\n",
       "}\n",
       "\n",
       "if(typeof(LDAvis) !== \"undefined\"){\n",
       "   // already loaded: just create the visualization\n",
       "   !function(LDAvis){\n",
       "       new LDAvis(\"#\" + \"ldavis_el28781628146974207441481173115\", ldavis_el28781628146974207441481173115_data);\n",
       "   }(LDAvis);\n",
       "}else if(typeof define === \"function\" && define.amd){\n",
       "   // require.js is available: use it to load d3/LDAvis\n",
       "   require.config({paths: {d3: \"https://cdnjs.cloudflare.com/ajax/libs/d3/3.5.5/d3.min\"}});\n",
       "   require([\"d3\"], function(d3){\n",
       "      window.d3 = d3;\n",
       "      LDAvis_load_lib(\"https://cdn.rawgit.com/bmabey/pyLDAvis/files/ldavis.v1.0.0.js\", function(){\n",
       "        new LDAvis(\"#\" + \"ldavis_el28781628146974207441481173115\", ldavis_el28781628146974207441481173115_data);\n",
       "      });\n",
       "    });\n",
       "}else{\n",
       "    // require.js not available: dynamically load d3 & LDAvis\n",
       "    LDAvis_load_lib(\"https://cdnjs.cloudflare.com/ajax/libs/d3/3.5.5/d3.min.js\", function(){\n",
       "         LDAvis_load_lib(\"https://cdn.rawgit.com/bmabey/pyLDAvis/files/ldavis.v1.0.0.js\", function(){\n",
       "                 new LDAvis(\"#\" + \"ldavis_el28781628146974207441481173115\", ldavis_el28781628146974207441481173115_data);\n",
       "            })\n",
       "         });\n",
       "}\n",
       "</script>"
      ],
      "text/plain": [
       "PreparedData(topic_coordinates=              x         y  topics  cluster       Freq\n",
       "topic                                                \n",
       "2     -0.083275 -0.060547       1        1  33.519329\n",
       "3     -0.060088  0.092699       2        1  28.338110\n",
       "1      0.059971 -0.087346       3        1  22.717466\n",
       "0      0.083392  0.055194       4        1  15.425091, topic_info=          Term       Freq      Total Category  logprob  loglift\n",
       "84      really  14.000000  14.000000  Default  30.0000  30.0000\n",
       "113       tell   8.000000   8.000000  Default  29.0000  29.0000\n",
       "46         try  10.000000  10.000000  Default  28.0000  28.0000\n",
       "7        order  20.000000  20.000000  Default  27.0000  27.0000\n",
       "81     quality  19.000000  19.000000  Default  26.0000  26.0000\n",
       "..         ...        ...        ...      ...      ...      ...\n",
       "221      price   1.435876  11.684428   Topic4  -5.5995  -0.2273\n",
       "91        time   1.417676  25.075609   Topic4  -5.6122  -1.0037\n",
       "3          get   1.383093  16.453985   Topic4  -5.6369  -0.6071\n",
       "203  expensive   1.376068   7.839357   Topic4  -5.6420   0.1292\n",
       "69        main   1.375871   9.895551   Topic4  -5.6422  -0.1038\n",
       "\n",
       "[276 rows x 6 columns], token_table=      Topic      Freq          Term\n",
       "term                               \n",
       "251       1  0.761072      actually\n",
       "251       3  0.190268      actually\n",
       "299       2  0.684396       address\n",
       "400       4  0.519689  aircondition\n",
       "134       4  0.761023       akakiko\n",
       "...     ...       ...           ...\n",
       "120       3  0.161555          work\n",
       "120       4  0.323109          work\n",
       "891       1  0.371221         worth\n",
       "891       4  0.371221         worth\n",
       "314       2  0.908875         wrong\n",
       "\n",
       "[411 rows x 3 columns], R=30, lambda_step=0.01, plot_opts={'xlab': 'PC1', 'ylab': 'PC2'}, topic_order=[3, 4, 2, 1])"
      ]
     },
     "metadata": {},
     "output_type": "display_data"
    }
   ],
   "source": [
    "plot_model(lda_neg_16, plot ='topic_model')"
   ]
  },
  {
   "cell_type": "code",
   "execution_count": 25,
   "metadata": {},
   "outputs": [
    {
     "data": {
      "text/html": [
       "        <script type=\"text/javascript\">\n",
       "        window.PlotlyConfig = {MathJaxConfig: 'local'};\n",
       "        if (window.MathJax) {MathJax.Hub.Config({SVG: {font: \"STIX-Web\"}});}\n",
       "        if (typeof require !== 'undefined') {\n",
       "        require.undef(\"plotly\");\n",
       "        requirejs.config({\n",
       "            paths: {\n",
       "                'plotly': ['https://cdn.plot.ly/plotly-latest.min']\n",
       "            }\n",
       "        });\n",
       "        require(['plotly'], function(Plotly) {\n",
       "            window._Plotly = Plotly;\n",
       "        });\n",
       "        }\n",
       "        </script>\n",
       "        "
      ]
     },
     "metadata": {},
     "output_type": "display_data"
    },
    {
     "data": {
      "application/vnd.plotly.v1+json": {
       "config": {
        "plotlyServerURL": "https://plot.ly"
       },
       "data": [
        {
         "alignmentgroup": "True",
         "customdata": [
          [
           "go, service, try, tell, cheap, thing, taste, come, dish, reason"
          ],
          [
           "order, quality, really, get, main, dish, time, taste, place, service"
          ],
          [
           "time, visit, dish, service, well, also, order, even, pasta, quality"
          ],
          [
           "staff, night, go, time, first, give, really, table, book, dish"
          ]
         ],
         "hovertemplate": "Topic=%{x}<br>Documents=%{y}<br>Keyword=%{customdata[0]}<extra></extra>",
         "legendgroup": "",
         "marker": {
          "color": "#636efa"
         },
         "name": "",
         "offsetgroup": "",
         "orientation": "v",
         "showlegend": false,
         "textposition": "auto",
         "type": "bar",
         "x": [
          "Topic 0",
          "Topic 1",
          "Topic 2",
          "Topic 3"
         ],
         "xaxis": "x",
         "y": [
          13,
          22,
          28,
          28
         ],
         "yaxis": "y"
        }
       ],
       "layout": {
        "barmode": "relative",
        "legend": {
         "tracegroupgap": 0
        },
        "template": {
         "data": {
          "bar": [
           {
            "error_x": {
             "color": "#2a3f5f"
            },
            "error_y": {
             "color": "#2a3f5f"
            },
            "marker": {
             "line": {
              "color": "#E5ECF6",
              "width": 0.5
             }
            },
            "type": "bar"
           }
          ],
          "barpolar": [
           {
            "marker": {
             "line": {
              "color": "#E5ECF6",
              "width": 0.5
             }
            },
            "type": "barpolar"
           }
          ],
          "carpet": [
           {
            "aaxis": {
             "endlinecolor": "#2a3f5f",
             "gridcolor": "white",
             "linecolor": "white",
             "minorgridcolor": "white",
             "startlinecolor": "#2a3f5f"
            },
            "baxis": {
             "endlinecolor": "#2a3f5f",
             "gridcolor": "white",
             "linecolor": "white",
             "minorgridcolor": "white",
             "startlinecolor": "#2a3f5f"
            },
            "type": "carpet"
           }
          ],
          "choropleth": [
           {
            "colorbar": {
             "outlinewidth": 0,
             "ticks": ""
            },
            "type": "choropleth"
           }
          ],
          "contour": [
           {
            "colorbar": {
             "outlinewidth": 0,
             "ticks": ""
            },
            "colorscale": [
             [
              0,
              "#0d0887"
             ],
             [
              0.1111111111111111,
              "#46039f"
             ],
             [
              0.2222222222222222,
              "#7201a8"
             ],
             [
              0.3333333333333333,
              "#9c179e"
             ],
             [
              0.4444444444444444,
              "#bd3786"
             ],
             [
              0.5555555555555556,
              "#d8576b"
             ],
             [
              0.6666666666666666,
              "#ed7953"
             ],
             [
              0.7777777777777778,
              "#fb9f3a"
             ],
             [
              0.8888888888888888,
              "#fdca26"
             ],
             [
              1,
              "#f0f921"
             ]
            ],
            "type": "contour"
           }
          ],
          "contourcarpet": [
           {
            "colorbar": {
             "outlinewidth": 0,
             "ticks": ""
            },
            "type": "contourcarpet"
           }
          ],
          "heatmap": [
           {
            "colorbar": {
             "outlinewidth": 0,
             "ticks": ""
            },
            "colorscale": [
             [
              0,
              "#0d0887"
             ],
             [
              0.1111111111111111,
              "#46039f"
             ],
             [
              0.2222222222222222,
              "#7201a8"
             ],
             [
              0.3333333333333333,
              "#9c179e"
             ],
             [
              0.4444444444444444,
              "#bd3786"
             ],
             [
              0.5555555555555556,
              "#d8576b"
             ],
             [
              0.6666666666666666,
              "#ed7953"
             ],
             [
              0.7777777777777778,
              "#fb9f3a"
             ],
             [
              0.8888888888888888,
              "#fdca26"
             ],
             [
              1,
              "#f0f921"
             ]
            ],
            "type": "heatmap"
           }
          ],
          "heatmapgl": [
           {
            "colorbar": {
             "outlinewidth": 0,
             "ticks": ""
            },
            "colorscale": [
             [
              0,
              "#0d0887"
             ],
             [
              0.1111111111111111,
              "#46039f"
             ],
             [
              0.2222222222222222,
              "#7201a8"
             ],
             [
              0.3333333333333333,
              "#9c179e"
             ],
             [
              0.4444444444444444,
              "#bd3786"
             ],
             [
              0.5555555555555556,
              "#d8576b"
             ],
             [
              0.6666666666666666,
              "#ed7953"
             ],
             [
              0.7777777777777778,
              "#fb9f3a"
             ],
             [
              0.8888888888888888,
              "#fdca26"
             ],
             [
              1,
              "#f0f921"
             ]
            ],
            "type": "heatmapgl"
           }
          ],
          "histogram": [
           {
            "marker": {
             "colorbar": {
              "outlinewidth": 0,
              "ticks": ""
             }
            },
            "type": "histogram"
           }
          ],
          "histogram2d": [
           {
            "colorbar": {
             "outlinewidth": 0,
             "ticks": ""
            },
            "colorscale": [
             [
              0,
              "#0d0887"
             ],
             [
              0.1111111111111111,
              "#46039f"
             ],
             [
              0.2222222222222222,
              "#7201a8"
             ],
             [
              0.3333333333333333,
              "#9c179e"
             ],
             [
              0.4444444444444444,
              "#bd3786"
             ],
             [
              0.5555555555555556,
              "#d8576b"
             ],
             [
              0.6666666666666666,
              "#ed7953"
             ],
             [
              0.7777777777777778,
              "#fb9f3a"
             ],
             [
              0.8888888888888888,
              "#fdca26"
             ],
             [
              1,
              "#f0f921"
             ]
            ],
            "type": "histogram2d"
           }
          ],
          "histogram2dcontour": [
           {
            "colorbar": {
             "outlinewidth": 0,
             "ticks": ""
            },
            "colorscale": [
             [
              0,
              "#0d0887"
             ],
             [
              0.1111111111111111,
              "#46039f"
             ],
             [
              0.2222222222222222,
              "#7201a8"
             ],
             [
              0.3333333333333333,
              "#9c179e"
             ],
             [
              0.4444444444444444,
              "#bd3786"
             ],
             [
              0.5555555555555556,
              "#d8576b"
             ],
             [
              0.6666666666666666,
              "#ed7953"
             ],
             [
              0.7777777777777778,
              "#fb9f3a"
             ],
             [
              0.8888888888888888,
              "#fdca26"
             ],
             [
              1,
              "#f0f921"
             ]
            ],
            "type": "histogram2dcontour"
           }
          ],
          "mesh3d": [
           {
            "colorbar": {
             "outlinewidth": 0,
             "ticks": ""
            },
            "type": "mesh3d"
           }
          ],
          "parcoords": [
           {
            "line": {
             "colorbar": {
              "outlinewidth": 0,
              "ticks": ""
             }
            },
            "type": "parcoords"
           }
          ],
          "pie": [
           {
            "automargin": true,
            "type": "pie"
           }
          ],
          "scatter": [
           {
            "marker": {
             "colorbar": {
              "outlinewidth": 0,
              "ticks": ""
             }
            },
            "type": "scatter"
           }
          ],
          "scatter3d": [
           {
            "line": {
             "colorbar": {
              "outlinewidth": 0,
              "ticks": ""
             }
            },
            "marker": {
             "colorbar": {
              "outlinewidth": 0,
              "ticks": ""
             }
            },
            "type": "scatter3d"
           }
          ],
          "scattercarpet": [
           {
            "marker": {
             "colorbar": {
              "outlinewidth": 0,
              "ticks": ""
             }
            },
            "type": "scattercarpet"
           }
          ],
          "scattergeo": [
           {
            "marker": {
             "colorbar": {
              "outlinewidth": 0,
              "ticks": ""
             }
            },
            "type": "scattergeo"
           }
          ],
          "scattergl": [
           {
            "marker": {
             "colorbar": {
              "outlinewidth": 0,
              "ticks": ""
             }
            },
            "type": "scattergl"
           }
          ],
          "scattermapbox": [
           {
            "marker": {
             "colorbar": {
              "outlinewidth": 0,
              "ticks": ""
             }
            },
            "type": "scattermapbox"
           }
          ],
          "scatterpolar": [
           {
            "marker": {
             "colorbar": {
              "outlinewidth": 0,
              "ticks": ""
             }
            },
            "type": "scatterpolar"
           }
          ],
          "scatterpolargl": [
           {
            "marker": {
             "colorbar": {
              "outlinewidth": 0,
              "ticks": ""
             }
            },
            "type": "scatterpolargl"
           }
          ],
          "scatterternary": [
           {
            "marker": {
             "colorbar": {
              "outlinewidth": 0,
              "ticks": ""
             }
            },
            "type": "scatterternary"
           }
          ],
          "surface": [
           {
            "colorbar": {
             "outlinewidth": 0,
             "ticks": ""
            },
            "colorscale": [
             [
              0,
              "#0d0887"
             ],
             [
              0.1111111111111111,
              "#46039f"
             ],
             [
              0.2222222222222222,
              "#7201a8"
             ],
             [
              0.3333333333333333,
              "#9c179e"
             ],
             [
              0.4444444444444444,
              "#bd3786"
             ],
             [
              0.5555555555555556,
              "#d8576b"
             ],
             [
              0.6666666666666666,
              "#ed7953"
             ],
             [
              0.7777777777777778,
              "#fb9f3a"
             ],
             [
              0.8888888888888888,
              "#fdca26"
             ],
             [
              1,
              "#f0f921"
             ]
            ],
            "type": "surface"
           }
          ],
          "table": [
           {
            "cells": {
             "fill": {
              "color": "#EBF0F8"
             },
             "line": {
              "color": "white"
             }
            },
            "header": {
             "fill": {
              "color": "#C8D4E3"
             },
             "line": {
              "color": "white"
             }
            },
            "type": "table"
           }
          ]
         },
         "layout": {
          "annotationdefaults": {
           "arrowcolor": "#2a3f5f",
           "arrowhead": 0,
           "arrowwidth": 1
          },
          "coloraxis": {
           "colorbar": {
            "outlinewidth": 0,
            "ticks": ""
           }
          },
          "colorscale": {
           "diverging": [
            [
             0,
             "#8e0152"
            ],
            [
             0.1,
             "#c51b7d"
            ],
            [
             0.2,
             "#de77ae"
            ],
            [
             0.3,
             "#f1b6da"
            ],
            [
             0.4,
             "#fde0ef"
            ],
            [
             0.5,
             "#f7f7f7"
            ],
            [
             0.6,
             "#e6f5d0"
            ],
            [
             0.7,
             "#b8e186"
            ],
            [
             0.8,
             "#7fbc41"
            ],
            [
             0.9,
             "#4d9221"
            ],
            [
             1,
             "#276419"
            ]
           ],
           "sequential": [
            [
             0,
             "#0d0887"
            ],
            [
             0.1111111111111111,
             "#46039f"
            ],
            [
             0.2222222222222222,
             "#7201a8"
            ],
            [
             0.3333333333333333,
             "#9c179e"
            ],
            [
             0.4444444444444444,
             "#bd3786"
            ],
            [
             0.5555555555555556,
             "#d8576b"
            ],
            [
             0.6666666666666666,
             "#ed7953"
            ],
            [
             0.7777777777777778,
             "#fb9f3a"
            ],
            [
             0.8888888888888888,
             "#fdca26"
            ],
            [
             1,
             "#f0f921"
            ]
           ],
           "sequentialminus": [
            [
             0,
             "#0d0887"
            ],
            [
             0.1111111111111111,
             "#46039f"
            ],
            [
             0.2222222222222222,
             "#7201a8"
            ],
            [
             0.3333333333333333,
             "#9c179e"
            ],
            [
             0.4444444444444444,
             "#bd3786"
            ],
            [
             0.5555555555555556,
             "#d8576b"
            ],
            [
             0.6666666666666666,
             "#ed7953"
            ],
            [
             0.7777777777777778,
             "#fb9f3a"
            ],
            [
             0.8888888888888888,
             "#fdca26"
            ],
            [
             1,
             "#f0f921"
            ]
           ]
          },
          "colorway": [
           "#636efa",
           "#EF553B",
           "#00cc96",
           "#ab63fa",
           "#FFA15A",
           "#19d3f3",
           "#FF6692",
           "#B6E880",
           "#FF97FF",
           "#FECB52"
          ],
          "font": {
           "color": "#2a3f5f"
          },
          "geo": {
           "bgcolor": "white",
           "lakecolor": "white",
           "landcolor": "#E5ECF6",
           "showlakes": true,
           "showland": true,
           "subunitcolor": "white"
          },
          "hoverlabel": {
           "align": "left"
          },
          "hovermode": "closest",
          "mapbox": {
           "style": "light"
          },
          "paper_bgcolor": "white",
          "plot_bgcolor": "#E5ECF6",
          "polar": {
           "angularaxis": {
            "gridcolor": "white",
            "linecolor": "white",
            "ticks": ""
           },
           "bgcolor": "#E5ECF6",
           "radialaxis": {
            "gridcolor": "white",
            "linecolor": "white",
            "ticks": ""
           }
          },
          "scene": {
           "xaxis": {
            "backgroundcolor": "#E5ECF6",
            "gridcolor": "white",
            "gridwidth": 2,
            "linecolor": "white",
            "showbackground": true,
            "ticks": "",
            "zerolinecolor": "white"
           },
           "yaxis": {
            "backgroundcolor": "#E5ECF6",
            "gridcolor": "white",
            "gridwidth": 2,
            "linecolor": "white",
            "showbackground": true,
            "ticks": "",
            "zerolinecolor": "white"
           },
           "zaxis": {
            "backgroundcolor": "#E5ECF6",
            "gridcolor": "white",
            "gridwidth": 2,
            "linecolor": "white",
            "showbackground": true,
            "ticks": "",
            "zerolinecolor": "white"
           }
          },
          "shapedefaults": {
           "line": {
            "color": "#2a3f5f"
           }
          },
          "ternary": {
           "aaxis": {
            "gridcolor": "white",
            "linecolor": "white",
            "ticks": ""
           },
           "baxis": {
            "gridcolor": "white",
            "linecolor": "white",
            "ticks": ""
           },
           "bgcolor": "#E5ECF6",
           "caxis": {
            "gridcolor": "white",
            "linecolor": "white",
            "ticks": ""
           }
          },
          "title": {
           "x": 0.05
          },
          "xaxis": {
           "automargin": true,
           "gridcolor": "white",
           "linecolor": "white",
           "ticks": "",
           "title": {
            "standoff": 15
           },
           "zerolinecolor": "white",
           "zerolinewidth": 2
          },
          "yaxis": {
           "automargin": true,
           "gridcolor": "white",
           "linecolor": "white",
           "ticks": "",
           "title": {
            "standoff": 15
           },
           "zerolinecolor": "white",
           "zerolinewidth": 2
          }
         }
        },
        "title": {
         "text": "Document Distribution by Topics"
        },
        "xaxis": {
         "anchor": "y",
         "domain": [
          0,
          1
         ],
         "title": {
          "text": "Topic"
         }
        },
        "yaxis": {
         "anchor": "x",
         "domain": [
          0,
          1
         ],
         "title": {
          "text": "Documents"
         }
        }
       }
      },
      "text/html": [
       "<div>\n",
       "        \n",
       "        \n",
       "            <div id=\"2d48ac78-5d43-4139-b1aa-82e2cb137ba5\" class=\"plotly-graph-div\" style=\"height:525px; width:100%;\"></div>\n",
       "            <script type=\"text/javascript\">\n",
       "                require([\"plotly\"], function(Plotly) {\n",
       "                    window.PLOTLYENV=window.PLOTLYENV || {};\n",
       "                    \n",
       "                if (document.getElementById(\"2d48ac78-5d43-4139-b1aa-82e2cb137ba5\")) {\n",
       "                    Plotly.newPlot(\n",
       "                        '2d48ac78-5d43-4139-b1aa-82e2cb137ba5',\n",
       "                        [{\"alignmentgroup\": \"True\", \"customdata\": [[\"go, service, try, tell, cheap, thing, taste, come, dish, reason\"], [\"order, quality, really, get, main, dish, time, taste, place, service\"], [\"time, visit, dish, service, well, also, order, even, pasta, quality\"], [\"staff, night, go, time, first, give, really, table, book, dish\"]], \"hovertemplate\": \"Topic=%{x}<br>Documents=%{y}<br>Keyword=%{customdata[0]}<extra></extra>\", \"legendgroup\": \"\", \"marker\": {\"color\": \"#636efa\"}, \"name\": \"\", \"offsetgroup\": \"\", \"orientation\": \"v\", \"showlegend\": false, \"textposition\": \"auto\", \"type\": \"bar\", \"x\": [\"Topic 0\", \"Topic 1\", \"Topic 2\", \"Topic 3\"], \"xaxis\": \"x\", \"y\": [13, 22, 28, 28], \"yaxis\": \"y\"}],\n",
       "                        {\"barmode\": \"relative\", \"legend\": {\"tracegroupgap\": 0}, \"template\": {\"data\": {\"bar\": [{\"error_x\": {\"color\": \"#2a3f5f\"}, \"error_y\": {\"color\": \"#2a3f5f\"}, \"marker\": {\"line\": {\"color\": \"#E5ECF6\", \"width\": 0.5}}, \"type\": \"bar\"}], \"barpolar\": [{\"marker\": {\"line\": {\"color\": \"#E5ECF6\", \"width\": 0.5}}, \"type\": \"barpolar\"}], \"carpet\": [{\"aaxis\": {\"endlinecolor\": \"#2a3f5f\", \"gridcolor\": \"white\", \"linecolor\": \"white\", \"minorgridcolor\": \"white\", \"startlinecolor\": \"#2a3f5f\"}, \"baxis\": {\"endlinecolor\": \"#2a3f5f\", \"gridcolor\": \"white\", \"linecolor\": \"white\", \"minorgridcolor\": \"white\", \"startlinecolor\": \"#2a3f5f\"}, \"type\": \"carpet\"}], \"choropleth\": [{\"colorbar\": {\"outlinewidth\": 0, \"ticks\": \"\"}, \"type\": \"choropleth\"}], \"contour\": [{\"colorbar\": {\"outlinewidth\": 0, \"ticks\": \"\"}, \"colorscale\": [[0.0, \"#0d0887\"], [0.1111111111111111, \"#46039f\"], [0.2222222222222222, \"#7201a8\"], [0.3333333333333333, \"#9c179e\"], [0.4444444444444444, \"#bd3786\"], [0.5555555555555556, \"#d8576b\"], [0.6666666666666666, \"#ed7953\"], [0.7777777777777778, \"#fb9f3a\"], [0.8888888888888888, \"#fdca26\"], [1.0, \"#f0f921\"]], \"type\": \"contour\"}], \"contourcarpet\": [{\"colorbar\": {\"outlinewidth\": 0, \"ticks\": \"\"}, \"type\": \"contourcarpet\"}], \"heatmap\": [{\"colorbar\": {\"outlinewidth\": 0, \"ticks\": \"\"}, \"colorscale\": [[0.0, \"#0d0887\"], [0.1111111111111111, \"#46039f\"], [0.2222222222222222, \"#7201a8\"], [0.3333333333333333, \"#9c179e\"], [0.4444444444444444, \"#bd3786\"], [0.5555555555555556, \"#d8576b\"], [0.6666666666666666, \"#ed7953\"], [0.7777777777777778, \"#fb9f3a\"], [0.8888888888888888, \"#fdca26\"], [1.0, \"#f0f921\"]], \"type\": \"heatmap\"}], \"heatmapgl\": [{\"colorbar\": {\"outlinewidth\": 0, \"ticks\": \"\"}, \"colorscale\": [[0.0, \"#0d0887\"], [0.1111111111111111, \"#46039f\"], [0.2222222222222222, \"#7201a8\"], [0.3333333333333333, \"#9c179e\"], [0.4444444444444444, \"#bd3786\"], [0.5555555555555556, \"#d8576b\"], [0.6666666666666666, \"#ed7953\"], [0.7777777777777778, \"#fb9f3a\"], [0.8888888888888888, \"#fdca26\"], [1.0, \"#f0f921\"]], \"type\": \"heatmapgl\"}], \"histogram\": [{\"marker\": {\"colorbar\": {\"outlinewidth\": 0, \"ticks\": \"\"}}, \"type\": \"histogram\"}], \"histogram2d\": [{\"colorbar\": {\"outlinewidth\": 0, \"ticks\": \"\"}, \"colorscale\": [[0.0, \"#0d0887\"], [0.1111111111111111, \"#46039f\"], [0.2222222222222222, \"#7201a8\"], [0.3333333333333333, \"#9c179e\"], [0.4444444444444444, \"#bd3786\"], [0.5555555555555556, \"#d8576b\"], [0.6666666666666666, \"#ed7953\"], [0.7777777777777778, \"#fb9f3a\"], [0.8888888888888888, \"#fdca26\"], [1.0, \"#f0f921\"]], \"type\": \"histogram2d\"}], \"histogram2dcontour\": [{\"colorbar\": {\"outlinewidth\": 0, \"ticks\": \"\"}, \"colorscale\": [[0.0, \"#0d0887\"], [0.1111111111111111, \"#46039f\"], [0.2222222222222222, \"#7201a8\"], [0.3333333333333333, \"#9c179e\"], [0.4444444444444444, \"#bd3786\"], [0.5555555555555556, \"#d8576b\"], [0.6666666666666666, \"#ed7953\"], [0.7777777777777778, \"#fb9f3a\"], [0.8888888888888888, \"#fdca26\"], [1.0, \"#f0f921\"]], \"type\": \"histogram2dcontour\"}], \"mesh3d\": [{\"colorbar\": {\"outlinewidth\": 0, \"ticks\": \"\"}, \"type\": \"mesh3d\"}], \"parcoords\": [{\"line\": {\"colorbar\": {\"outlinewidth\": 0, \"ticks\": \"\"}}, \"type\": \"parcoords\"}], \"pie\": [{\"automargin\": true, \"type\": \"pie\"}], \"scatter\": [{\"marker\": {\"colorbar\": {\"outlinewidth\": 0, \"ticks\": \"\"}}, \"type\": \"scatter\"}], \"scatter3d\": [{\"line\": {\"colorbar\": {\"outlinewidth\": 0, \"ticks\": \"\"}}, \"marker\": {\"colorbar\": {\"outlinewidth\": 0, \"ticks\": \"\"}}, \"type\": \"scatter3d\"}], \"scattercarpet\": [{\"marker\": {\"colorbar\": {\"outlinewidth\": 0, \"ticks\": \"\"}}, \"type\": \"scattercarpet\"}], \"scattergeo\": [{\"marker\": {\"colorbar\": {\"outlinewidth\": 0, \"ticks\": \"\"}}, \"type\": \"scattergeo\"}], \"scattergl\": [{\"marker\": {\"colorbar\": {\"outlinewidth\": 0, \"ticks\": \"\"}}, \"type\": \"scattergl\"}], \"scattermapbox\": [{\"marker\": {\"colorbar\": {\"outlinewidth\": 0, \"ticks\": \"\"}}, \"type\": \"scattermapbox\"}], \"scatterpolar\": [{\"marker\": {\"colorbar\": {\"outlinewidth\": 0, \"ticks\": \"\"}}, \"type\": \"scatterpolar\"}], \"scatterpolargl\": [{\"marker\": {\"colorbar\": {\"outlinewidth\": 0, \"ticks\": \"\"}}, \"type\": \"scatterpolargl\"}], \"scatterternary\": [{\"marker\": {\"colorbar\": {\"outlinewidth\": 0, \"ticks\": \"\"}}, \"type\": \"scatterternary\"}], \"surface\": [{\"colorbar\": {\"outlinewidth\": 0, \"ticks\": \"\"}, \"colorscale\": [[0.0, \"#0d0887\"], [0.1111111111111111, \"#46039f\"], [0.2222222222222222, \"#7201a8\"], [0.3333333333333333, \"#9c179e\"], [0.4444444444444444, \"#bd3786\"], [0.5555555555555556, \"#d8576b\"], [0.6666666666666666, \"#ed7953\"], [0.7777777777777778, \"#fb9f3a\"], [0.8888888888888888, \"#fdca26\"], [1.0, \"#f0f921\"]], \"type\": \"surface\"}], \"table\": [{\"cells\": {\"fill\": {\"color\": \"#EBF0F8\"}, \"line\": {\"color\": \"white\"}}, \"header\": {\"fill\": {\"color\": \"#C8D4E3\"}, \"line\": {\"color\": \"white\"}}, \"type\": \"table\"}]}, \"layout\": {\"annotationdefaults\": {\"arrowcolor\": \"#2a3f5f\", \"arrowhead\": 0, \"arrowwidth\": 1}, \"coloraxis\": {\"colorbar\": {\"outlinewidth\": 0, \"ticks\": \"\"}}, \"colorscale\": {\"diverging\": [[0, \"#8e0152\"], [0.1, \"#c51b7d\"], [0.2, \"#de77ae\"], [0.3, \"#f1b6da\"], [0.4, \"#fde0ef\"], [0.5, \"#f7f7f7\"], [0.6, \"#e6f5d0\"], [0.7, \"#b8e186\"], [0.8, \"#7fbc41\"], [0.9, \"#4d9221\"], [1, \"#276419\"]], \"sequential\": [[0.0, \"#0d0887\"], [0.1111111111111111, \"#46039f\"], [0.2222222222222222, \"#7201a8\"], [0.3333333333333333, \"#9c179e\"], [0.4444444444444444, \"#bd3786\"], [0.5555555555555556, \"#d8576b\"], [0.6666666666666666, \"#ed7953\"], [0.7777777777777778, \"#fb9f3a\"], [0.8888888888888888, \"#fdca26\"], [1.0, \"#f0f921\"]], \"sequentialminus\": [[0.0, \"#0d0887\"], [0.1111111111111111, \"#46039f\"], [0.2222222222222222, \"#7201a8\"], [0.3333333333333333, \"#9c179e\"], [0.4444444444444444, \"#bd3786\"], [0.5555555555555556, \"#d8576b\"], [0.6666666666666666, \"#ed7953\"], [0.7777777777777778, \"#fb9f3a\"], [0.8888888888888888, \"#fdca26\"], [1.0, \"#f0f921\"]]}, \"colorway\": [\"#636efa\", \"#EF553B\", \"#00cc96\", \"#ab63fa\", \"#FFA15A\", \"#19d3f3\", \"#FF6692\", \"#B6E880\", \"#FF97FF\", \"#FECB52\"], \"font\": {\"color\": \"#2a3f5f\"}, \"geo\": {\"bgcolor\": \"white\", \"lakecolor\": \"white\", \"landcolor\": \"#E5ECF6\", \"showlakes\": true, \"showland\": true, \"subunitcolor\": \"white\"}, \"hoverlabel\": {\"align\": \"left\"}, \"hovermode\": \"closest\", \"mapbox\": {\"style\": \"light\"}, \"paper_bgcolor\": \"white\", \"plot_bgcolor\": \"#E5ECF6\", \"polar\": {\"angularaxis\": {\"gridcolor\": \"white\", \"linecolor\": \"white\", \"ticks\": \"\"}, \"bgcolor\": \"#E5ECF6\", \"radialaxis\": {\"gridcolor\": \"white\", \"linecolor\": \"white\", \"ticks\": \"\"}}, \"scene\": {\"xaxis\": {\"backgroundcolor\": \"#E5ECF6\", \"gridcolor\": \"white\", \"gridwidth\": 2, \"linecolor\": \"white\", \"showbackground\": true, \"ticks\": \"\", \"zerolinecolor\": \"white\"}, \"yaxis\": {\"backgroundcolor\": \"#E5ECF6\", \"gridcolor\": \"white\", \"gridwidth\": 2, \"linecolor\": \"white\", \"showbackground\": true, \"ticks\": \"\", \"zerolinecolor\": \"white\"}, \"zaxis\": {\"backgroundcolor\": \"#E5ECF6\", \"gridcolor\": \"white\", \"gridwidth\": 2, \"linecolor\": \"white\", \"showbackground\": true, \"ticks\": \"\", \"zerolinecolor\": \"white\"}}, \"shapedefaults\": {\"line\": {\"color\": \"#2a3f5f\"}}, \"ternary\": {\"aaxis\": {\"gridcolor\": \"white\", \"linecolor\": \"white\", \"ticks\": \"\"}, \"baxis\": {\"gridcolor\": \"white\", \"linecolor\": \"white\", \"ticks\": \"\"}, \"bgcolor\": \"#E5ECF6\", \"caxis\": {\"gridcolor\": \"white\", \"linecolor\": \"white\", \"ticks\": \"\"}}, \"title\": {\"x\": 0.05}, \"xaxis\": {\"automargin\": true, \"gridcolor\": \"white\", \"linecolor\": \"white\", \"ticks\": \"\", \"title\": {\"standoff\": 15}, \"zerolinecolor\": \"white\", \"zerolinewidth\": 2}, \"yaxis\": {\"automargin\": true, \"gridcolor\": \"white\", \"linecolor\": \"white\", \"ticks\": \"\", \"title\": {\"standoff\": 15}, \"zerolinecolor\": \"white\", \"zerolinewidth\": 2}}}, \"title\": {\"text\": \"Document Distribution by Topics\"}, \"xaxis\": {\"anchor\": \"y\", \"domain\": [0.0, 1.0], \"title\": {\"text\": \"Topic\"}}, \"yaxis\": {\"anchor\": \"x\", \"domain\": [0.0, 1.0], \"title\": {\"text\": \"Documents\"}}},\n",
       "                        {\"responsive\": true}\n",
       "                    ).then(function(){\n",
       "                            \n",
       "var gd = document.getElementById('2d48ac78-5d43-4139-b1aa-82e2cb137ba5');\n",
       "var x = new MutationObserver(function (mutations, observer) {{\n",
       "        var display = window.getComputedStyle(gd).display;\n",
       "        if (!display || display === 'none') {{\n",
       "            console.log([gd, 'removed!']);\n",
       "            Plotly.purge(gd);\n",
       "            observer.disconnect();\n",
       "        }}\n",
       "}});\n",
       "\n",
       "// Listen for the removal of the full notebook cells\n",
       "var notebookContainer = gd.closest('#notebook-container');\n",
       "if (notebookContainer) {{\n",
       "    x.observe(notebookContainer, {childList: true});\n",
       "}}\n",
       "\n",
       "// Listen for the clearing of the current output cell\n",
       "var outputEl = gd.closest('.output');\n",
       "if (outputEl) {{\n",
       "    x.observe(outputEl, {childList: true});\n",
       "}}\n",
       "\n",
       "                        })\n",
       "                };\n",
       "                });\n",
       "            </script>\n",
       "        </div>"
      ]
     },
     "metadata": {},
     "output_type": "display_data"
    }
   ],
   "source": [
    "plot_model(lda_neg_16, plot ='topic_distribution', save =True )"
   ]
  },
  {
   "cell_type": "code",
   "execution_count": null,
   "metadata": {},
   "outputs": [],
   "source": []
  }
 ],
 "metadata": {
  "kernelspec": {
   "display_name": "Python 3",
   "language": "python",
   "name": "python3"
  },
  "language_info": {
   "codemirror_mode": {
    "name": "ipython",
    "version": 3
   },
   "file_extension": ".py",
   "mimetype": "text/x-python",
   "name": "python",
   "nbconvert_exporter": "python",
   "pygments_lexer": "ipython3",
   "version": "3.7.4"
  }
 },
 "nbformat": 4,
 "nbformat_minor": 2
}
