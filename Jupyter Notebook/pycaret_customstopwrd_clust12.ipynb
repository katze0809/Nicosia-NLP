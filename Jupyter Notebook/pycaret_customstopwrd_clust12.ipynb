{
 "cells": [
  {
   "cell_type": "code",
   "execution_count": 1,
   "metadata": {},
   "outputs": [],
   "source": [
    "import pandas as pd\n",
    "import glob"
   ]
  },
  {
   "cell_type": "markdown",
   "metadata": {},
   "source": [
    "# Positive Reviews"
   ]
  },
  {
   "cell_type": "code",
   "execution_count": 2,
   "metadata": {},
   "outputs": [
    {
     "data": {
      "text/html": [
       "<div>\n",
       "<style scoped>\n",
       "    .dataframe tbody tr th:only-of-type {\n",
       "        vertical-align: middle;\n",
       "    }\n",
       "\n",
       "    .dataframe tbody tr th {\n",
       "        vertical-align: top;\n",
       "    }\n",
       "\n",
       "    .dataframe thead th {\n",
       "        text-align: right;\n",
       "    }\n",
       "</style>\n",
       "<table border=\"1\" class=\"dataframe\">\n",
       "  <thead>\n",
       "    <tr style=\"text-align: right;\">\n",
       "      <th></th>\n",
       "      <th>Unnamed: 0</th>\n",
       "      <th>r_points</th>\n",
       "      <th>r_text</th>\n",
       "      <th>place</th>\n",
       "      <th>Unnamed: 3</th>\n",
       "      <th>Unnamed: 4</th>\n",
       "      <th>Unnamed: 5</th>\n",
       "      <th>Unnamed: 6</th>\n",
       "      <th>scores</th>\n",
       "      <th>compound</th>\n",
       "      <th>score</th>\n",
       "    </tr>\n",
       "  </thead>\n",
       "  <tbody>\n",
       "    <tr>\n",
       "      <th>0</th>\n",
       "      <td>0</td>\n",
       "      <td>40</td>\n",
       "      <td>Great collection of paintings and artifacts fr...</td>\n",
       "      <td>A G Leventis Gallery</td>\n",
       "      <td>Review 1 Similarity</td>\n",
       "      <td>0.346410</td>\n",
       "      <td>NaN</td>\n",
       "      <td>NaN</td>\n",
       "      <td>{'neg': 0.0, 'neu': 0.785, 'pos': 0.215, 'comp...</td>\n",
       "      <td>0.6249</td>\n",
       "      <td>pos</td>\n",
       "    </tr>\n",
       "    <tr>\n",
       "      <th>1</th>\n",
       "      <td>1</td>\n",
       "      <td>50</td>\n",
       "      <td>We really enjoyed the Cypriot collection and w...</td>\n",
       "      <td>A G Leventis Gallery</td>\n",
       "      <td>Review 14 Similarity</td>\n",
       "      <td>1.000000</td>\n",
       "      <td>NaN</td>\n",
       "      <td>NaN</td>\n",
       "      <td>{'neg': 0.0, 'neu': 0.792, 'pos': 0.208, 'comp...</td>\n",
       "      <td>0.9561</td>\n",
       "      <td>pos</td>\n",
       "    </tr>\n",
       "    <tr>\n",
       "      <th>2</th>\n",
       "      <td>2</td>\n",
       "      <td>50</td>\n",
       "      <td>A stone's throw away from the old city centre,...</td>\n",
       "      <td>A G Leventis Gallery</td>\n",
       "      <td>Review 93 Similarity</td>\n",
       "      <td>0.489898</td>\n",
       "      <td>NaN</td>\n",
       "      <td>NaN</td>\n",
       "      <td>{'neg': 0.0, 'neu': 0.847, 'pos': 0.153, 'comp...</td>\n",
       "      <td>0.8805</td>\n",
       "      <td>pos</td>\n",
       "    </tr>\n",
       "    <tr>\n",
       "      <th>3</th>\n",
       "      <td>3</td>\n",
       "      <td>50</td>\n",
       "      <td>It was about time Nicosia got its own internat...</td>\n",
       "      <td>A G Leventis Gallery</td>\n",
       "      <td>Review 105 Similarity</td>\n",
       "      <td>0.489898</td>\n",
       "      <td>NaN</td>\n",
       "      <td>NaN</td>\n",
       "      <td>{'neg': 0.0, 'neu': 0.753, 'pos': 0.247, 'comp...</td>\n",
       "      <td>0.8885</td>\n",
       "      <td>pos</td>\n",
       "    </tr>\n",
       "    <tr>\n",
       "      <th>4</th>\n",
       "      <td>4</td>\n",
       "      <td>50</td>\n",
       "      <td>Great art, great events for kids - unmissable!...</td>\n",
       "      <td>A G Leventis Gallery</td>\n",
       "      <td>Review 134 Similarity</td>\n",
       "      <td>0.489898</td>\n",
       "      <td>NaN</td>\n",
       "      <td>NaN</td>\n",
       "      <td>{'neg': 0.0, 'neu': 0.813, 'pos': 0.187, 'comp...</td>\n",
       "      <td>0.9563</td>\n",
       "      <td>pos</td>\n",
       "    </tr>\n",
       "    <tr>\n",
       "      <th>...</th>\n",
       "      <td>...</td>\n",
       "      <td>...</td>\n",
       "      <td>...</td>\n",
       "      <td>...</td>\n",
       "      <td>...</td>\n",
       "      <td>...</td>\n",
       "      <td>...</td>\n",
       "      <td>...</td>\n",
       "      <td>...</td>\n",
       "      <td>...</td>\n",
       "      <td>...</td>\n",
       "    </tr>\n",
       "    <tr>\n",
       "      <th>1908</th>\n",
       "      <td>2203</td>\n",
       "      <td>30</td>\n",
       "      <td>Walked past this as part of the blue line walk...</td>\n",
       "      <td>The Arabahmet Mosque</td>\n",
       "      <td>NaN</td>\n",
       "      <td>NaN</td>\n",
       "      <td>NaN</td>\n",
       "      <td>NaN</td>\n",
       "      <td>{'neg': 0.0, 'neu': 0.814, 'pos': 0.186, 'comp...</td>\n",
       "      <td>0.8634</td>\n",
       "      <td>pos</td>\n",
       "    </tr>\n",
       "    <tr>\n",
       "      <th>1909</th>\n",
       "      <td>2204</td>\n",
       "      <td>40</td>\n",
       "      <td>Another pretty feature of Lefkosa where one ca...</td>\n",
       "      <td>The Arabahmet Mosque</td>\n",
       "      <td>NaN</td>\n",
       "      <td>NaN</td>\n",
       "      <td>NaN</td>\n",
       "      <td>NaN</td>\n",
       "      <td>{'neg': 0.0, 'neu': 0.706, 'pos': 0.294, 'comp...</td>\n",
       "      <td>0.7030</td>\n",
       "      <td>pos</td>\n",
       "    </tr>\n",
       "    <tr>\n",
       "      <th>1910</th>\n",
       "      <td>2205</td>\n",
       "      <td>50</td>\n",
       "      <td>The Armenian Quarter of Nicosia where this mos...</td>\n",
       "      <td>The Arabahmet Mosque</td>\n",
       "      <td>NaN</td>\n",
       "      <td>NaN</td>\n",
       "      <td>NaN</td>\n",
       "      <td>NaN</td>\n",
       "      <td>{'neg': 0.0, 'neu': 0.563, 'pos': 0.437, 'comp...</td>\n",
       "      <td>0.8442</td>\n",
       "      <td>pos</td>\n",
       "    </tr>\n",
       "    <tr>\n",
       "      <th>1911</th>\n",
       "      <td>2206</td>\n",
       "      <td>40</td>\n",
       "      <td>The Arabahmet Mosque is located in the Turkish...</td>\n",
       "      <td>The Arabahmet Mosque</td>\n",
       "      <td>NaN</td>\n",
       "      <td>NaN</td>\n",
       "      <td>NaN</td>\n",
       "      <td>NaN</td>\n",
       "      <td>{'neg': 0.046, 'neu': 0.819, 'pos': 0.134, 'co...</td>\n",
       "      <td>0.4939</td>\n",
       "      <td>pos</td>\n",
       "    </tr>\n",
       "    <tr>\n",
       "      <th>1912</th>\n",
       "      <td>2207</td>\n",
       "      <td>40</td>\n",
       "      <td>Built in 1845, the Arabahmet Mosque, in the Ar...</td>\n",
       "      <td>The Arabahmet Mosque</td>\n",
       "      <td>NaN</td>\n",
       "      <td>NaN</td>\n",
       "      <td>NaN</td>\n",
       "      <td>NaN</td>\n",
       "      <td>{'neg': 0.046, 'neu': 0.866, 'pos': 0.088, 'co...</td>\n",
       "      <td>0.4404</td>\n",
       "      <td>pos</td>\n",
       "    </tr>\n",
       "  </tbody>\n",
       "</table>\n",
       "<p>1913 rows × 11 columns</p>\n",
       "</div>"
      ],
      "text/plain": [
       "      Unnamed: 0  r_points                                             r_text  \\\n",
       "0              0        40  Great collection of paintings and artifacts fr...   \n",
       "1              1        50  We really enjoyed the Cypriot collection and w...   \n",
       "2              2        50  A stone's throw away from the old city centre,...   \n",
       "3              3        50  It was about time Nicosia got its own internat...   \n",
       "4              4        50  Great art, great events for kids - unmissable!...   \n",
       "...          ...       ...                                                ...   \n",
       "1908        2203        30  Walked past this as part of the blue line walk...   \n",
       "1909        2204        40  Another pretty feature of Lefkosa where one ca...   \n",
       "1910        2205        50  The Armenian Quarter of Nicosia where this mos...   \n",
       "1911        2206        40  The Arabahmet Mosque is located in the Turkish...   \n",
       "1912        2207        40  Built in 1845, the Arabahmet Mosque, in the Ar...   \n",
       "\n",
       "                     place             Unnamed: 3  Unnamed: 4 Unnamed: 5  \\\n",
       "0     A G Leventis Gallery    Review 1 Similarity    0.346410        NaN   \n",
       "1     A G Leventis Gallery   Review 14 Similarity    1.000000        NaN   \n",
       "2     A G Leventis Gallery   Review 93 Similarity    0.489898        NaN   \n",
       "3     A G Leventis Gallery  Review 105 Similarity    0.489898        NaN   \n",
       "4     A G Leventis Gallery  Review 134 Similarity    0.489898        NaN   \n",
       "...                    ...                    ...         ...        ...   \n",
       "1908  The Arabahmet Mosque                    NaN         NaN        NaN   \n",
       "1909  The Arabahmet Mosque                    NaN         NaN        NaN   \n",
       "1910  The Arabahmet Mosque                    NaN         NaN        NaN   \n",
       "1911  The Arabahmet Mosque                    NaN         NaN        NaN   \n",
       "1912  The Arabahmet Mosque                    NaN         NaN        NaN   \n",
       "\n",
       "      Unnamed: 6                                             scores  compound  \\\n",
       "0            NaN  {'neg': 0.0, 'neu': 0.785, 'pos': 0.215, 'comp...    0.6249   \n",
       "1            NaN  {'neg': 0.0, 'neu': 0.792, 'pos': 0.208, 'comp...    0.9561   \n",
       "2            NaN  {'neg': 0.0, 'neu': 0.847, 'pos': 0.153, 'comp...    0.8805   \n",
       "3            NaN  {'neg': 0.0, 'neu': 0.753, 'pos': 0.247, 'comp...    0.8885   \n",
       "4            NaN  {'neg': 0.0, 'neu': 0.813, 'pos': 0.187, 'comp...    0.9563   \n",
       "...          ...                                                ...       ...   \n",
       "1908         NaN  {'neg': 0.0, 'neu': 0.814, 'pos': 0.186, 'comp...    0.8634   \n",
       "1909         NaN  {'neg': 0.0, 'neu': 0.706, 'pos': 0.294, 'comp...    0.7030   \n",
       "1910         NaN  {'neg': 0.0, 'neu': 0.563, 'pos': 0.437, 'comp...    0.8442   \n",
       "1911         NaN  {'neg': 0.046, 'neu': 0.819, 'pos': 0.134, 'co...    0.4939   \n",
       "1912         NaN  {'neg': 0.046, 'neu': 0.866, 'pos': 0.088, 'co...    0.4404   \n",
       "\n",
       "     score  \n",
       "0      pos  \n",
       "1      pos  \n",
       "2      pos  \n",
       "3      pos  \n",
       "4      pos  \n",
       "...    ...  \n",
       "1908   pos  \n",
       "1909   pos  \n",
       "1910   pos  \n",
       "1911   pos  \n",
       "1912   pos  \n",
       "\n",
       "[1913 rows x 11 columns]"
      ]
     },
     "execution_count": 2,
     "metadata": {},
     "output_type": "execute_result"
    }
   ],
   "source": [
    "pos_review = pd.read_csv(r'C:\\Users\\Dell\\Desktop\\sentiment_cluster12_pos.csv')\n",
    "pos_review"
   ]
  },
  {
   "cell_type": "code",
   "execution_count": 3,
   "metadata": {},
   "outputs": [],
   "source": [
    "from pycaret.nlp import *"
   ]
  },
  {
   "cell_type": "code",
   "execution_count": 4,
   "metadata": {},
   "outputs": [
    {
     "data": {
      "text/html": [
       "<style  type=\"text/css\" >\n",
       "</style><table id=\"T_718e2d28_38a1_11eb_b8ca_c48e8ff9d2e0\" ><thead>    <tr>        <th class=\"col_heading level0 col0\" >Description</th>        <th class=\"col_heading level0 col1\" >Value</th>    </tr></thead><tbody>\n",
       "                <tr>\n",
       "                                <td id=\"T_718e2d28_38a1_11eb_b8ca_c48e8ff9d2e0row0_col0\" class=\"data row0 col0\" >session_id</td>\n",
       "                        <td id=\"T_718e2d28_38a1_11eb_b8ca_c48e8ff9d2e0row0_col1\" class=\"data row0 col1\" >5146</td>\n",
       "            </tr>\n",
       "            <tr>\n",
       "                                <td id=\"T_718e2d28_38a1_11eb_b8ca_c48e8ff9d2e0row1_col0\" class=\"data row1 col0\" >Documents</td>\n",
       "                        <td id=\"T_718e2d28_38a1_11eb_b8ca_c48e8ff9d2e0row1_col1\" class=\"data row1 col1\" >1913</td>\n",
       "            </tr>\n",
       "            <tr>\n",
       "                                <td id=\"T_718e2d28_38a1_11eb_b8ca_c48e8ff9d2e0row2_col0\" class=\"data row2 col0\" >Vocab Size</td>\n",
       "                        <td id=\"T_718e2d28_38a1_11eb_b8ca_c48e8ff9d2e0row2_col1\" class=\"data row2 col1\" >4658</td>\n",
       "            </tr>\n",
       "            <tr>\n",
       "                                <td id=\"T_718e2d28_38a1_11eb_b8ca_c48e8ff9d2e0row3_col0\" class=\"data row3 col0\" >Custom Stopwords</td>\n",
       "                        <td id=\"T_718e2d28_38a1_11eb_b8ca_c48e8ff9d2e0row3_col1\" class=\"data row3 col1\" >True</td>\n",
       "            </tr>\n",
       "    </tbody></table>"
      ],
      "text/plain": [
       "<pandas.io.formats.style.Styler at 0x2baefcde348>"
      ]
     },
     "metadata": {},
     "output_type": "display_data"
    }
   ],
   "source": [
    "exp_nlp = setup(data = pos_review, target = 'r_text',\n",
    "                custom_stopwords = [ 'hotel', 'room', 'nice', 'good', 'restaurant', 'food','place',\n",
    "                                   'excellent','great'])"
   ]
  },
  {
   "cell_type": "code",
   "execution_count": 5,
   "metadata": {},
   "outputs": [
    {
     "name": "stdout",
     "output_type": "stream",
     "text": [
      "LdaModel(num_terms=4658, num_topics=4, decay=0.5, chunksize=100)\n"
     ]
    }
   ],
   "source": [
    "#create an LDA model\n",
    "lda_pos_custom = create_model('lda')\n",
    "print(lda_pos_custom)"
   ]
  },
  {
   "cell_type": "code",
   "execution_count": 6,
   "metadata": {},
   "outputs": [],
   "source": [
    "apply_lda_pos = assign_model(lda_pos_custom)"
   ]
  },
  {
   "cell_type": "code",
   "execution_count": 7,
   "metadata": {},
   "outputs": [
    {
     "data": {
      "text/html": [
       "<div>\n",
       "<style scoped>\n",
       "    .dataframe tbody tr th:only-of-type {\n",
       "        vertical-align: middle;\n",
       "    }\n",
       "\n",
       "    .dataframe tbody tr th {\n",
       "        vertical-align: top;\n",
       "    }\n",
       "\n",
       "    .dataframe thead th {\n",
       "        text-align: right;\n",
       "    }\n",
       "</style>\n",
       "<table border=\"1\" class=\"dataframe\">\n",
       "  <thead>\n",
       "    <tr style=\"text-align: right;\">\n",
       "      <th></th>\n",
       "      <th>Unnamed: 0</th>\n",
       "      <th>r_points</th>\n",
       "      <th>r_text</th>\n",
       "      <th>place</th>\n",
       "      <th>Unnamed: 3</th>\n",
       "      <th>Unnamed: 4</th>\n",
       "      <th>Unnamed: 5</th>\n",
       "      <th>Unnamed: 6</th>\n",
       "      <th>scores</th>\n",
       "      <th>compound</th>\n",
       "      <th>score</th>\n",
       "      <th>Topic_0</th>\n",
       "      <th>Topic_1</th>\n",
       "      <th>Topic_2</th>\n",
       "      <th>Topic_3</th>\n",
       "      <th>Dominant_Topic</th>\n",
       "      <th>Perc_Dominant_Topic</th>\n",
       "    </tr>\n",
       "  </thead>\n",
       "  <tbody>\n",
       "    <tr>\n",
       "      <th>0</th>\n",
       "      <td>0</td>\n",
       "      <td>40</td>\n",
       "      <td>collection painting artifact family famous cyp...</td>\n",
       "      <td>A G Leventis Gallery</td>\n",
       "      <td>Review 1 Similarity</td>\n",
       "      <td>0.346410</td>\n",
       "      <td>NaN</td>\n",
       "      <td>NaN</td>\n",
       "      <td>{'neg': 0.0, 'neu': 0.785, 'pos': 0.215, 'comp...</td>\n",
       "      <td>0.6249</td>\n",
       "      <td>pos</td>\n",
       "      <td>0.061794</td>\n",
       "      <td>0.723823</td>\n",
       "      <td>0.178804</td>\n",
       "      <td>0.035579</td>\n",
       "      <td>Topic 1</td>\n",
       "      <td>0.72</td>\n",
       "    </tr>\n",
       "    <tr>\n",
       "      <th>1</th>\n",
       "      <td>1</td>\n",
       "      <td>50</td>\n",
       "      <td>really enjoy cypriot collection greek art inte...</td>\n",
       "      <td>A G Leventis Gallery</td>\n",
       "      <td>Review 14 Similarity</td>\n",
       "      <td>1.000000</td>\n",
       "      <td>NaN</td>\n",
       "      <td>NaN</td>\n",
       "      <td>{'neg': 0.0, 'neu': 0.792, 'pos': 0.208, 'comp...</td>\n",
       "      <td>0.9561</td>\n",
       "      <td>pos</td>\n",
       "      <td>0.025693</td>\n",
       "      <td>0.864219</td>\n",
       "      <td>0.095467</td>\n",
       "      <td>0.014622</td>\n",
       "      <td>Topic 1</td>\n",
       "      <td>0.86</td>\n",
       "    </tr>\n",
       "    <tr>\n",
       "      <th>2</th>\n",
       "      <td>2</td>\n",
       "      <td>50</td>\n",
       "      <td>stone throw away old city centre relatively ne...</td>\n",
       "      <td>A G Leventis Gallery</td>\n",
       "      <td>Review 93 Similarity</td>\n",
       "      <td>0.489898</td>\n",
       "      <td>NaN</td>\n",
       "      <td>NaN</td>\n",
       "      <td>{'neg': 0.0, 'neu': 0.847, 'pos': 0.153, 'comp...</td>\n",
       "      <td>0.8805</td>\n",
       "      <td>pos</td>\n",
       "      <td>0.081222</td>\n",
       "      <td>0.829492</td>\n",
       "      <td>0.044829</td>\n",
       "      <td>0.044457</td>\n",
       "      <td>Topic 1</td>\n",
       "      <td>0.83</td>\n",
       "    </tr>\n",
       "    <tr>\n",
       "      <th>3</th>\n",
       "      <td>3</td>\n",
       "      <td>50</td>\n",
       "      <td>get international art gallery beautifully desi...</td>\n",
       "      <td>A G Leventis Gallery</td>\n",
       "      <td>Review 105 Similarity</td>\n",
       "      <td>0.489898</td>\n",
       "      <td>NaN</td>\n",
       "      <td>NaN</td>\n",
       "      <td>{'neg': 0.0, 'neu': 0.753, 'pos': 0.247, 'comp...</td>\n",
       "      <td>0.8885</td>\n",
       "      <td>pos</td>\n",
       "      <td>0.288185</td>\n",
       "      <td>0.597592</td>\n",
       "      <td>0.049226</td>\n",
       "      <td>0.064997</td>\n",
       "      <td>Topic 1</td>\n",
       "      <td>0.60</td>\n",
       "    </tr>\n",
       "    <tr>\n",
       "      <th>4</th>\n",
       "      <td>4</td>\n",
       "      <td>50</td>\n",
       "      <td>art event kid unmissable collection broad gree...</td>\n",
       "      <td>A G Leventis Gallery</td>\n",
       "      <td>Review 134 Similarity</td>\n",
       "      <td>0.489898</td>\n",
       "      <td>NaN</td>\n",
       "      <td>NaN</td>\n",
       "      <td>{'neg': 0.0, 'neu': 0.813, 'pos': 0.187, 'comp...</td>\n",
       "      <td>0.9563</td>\n",
       "      <td>pos</td>\n",
       "      <td>0.022681</td>\n",
       "      <td>0.691888</td>\n",
       "      <td>0.271119</td>\n",
       "      <td>0.014312</td>\n",
       "      <td>Topic 1</td>\n",
       "      <td>0.69</td>\n",
       "    </tr>\n",
       "    <tr>\n",
       "      <th>...</th>\n",
       "      <td>...</td>\n",
       "      <td>...</td>\n",
       "      <td>...</td>\n",
       "      <td>...</td>\n",
       "      <td>...</td>\n",
       "      <td>...</td>\n",
       "      <td>...</td>\n",
       "      <td>...</td>\n",
       "      <td>...</td>\n",
       "      <td>...</td>\n",
       "      <td>...</td>\n",
       "      <td>...</td>\n",
       "      <td>...</td>\n",
       "      <td>...</td>\n",
       "      <td>...</td>\n",
       "      <td>...</td>\n",
       "      <td>...</td>\n",
       "    </tr>\n",
       "    <tr>\n",
       "      <th>1908</th>\n",
       "      <td>2203</td>\n",
       "      <td>30</td>\n",
       "      <td>walk past part blue line walk tour look attrac...</td>\n",
       "      <td>The Arabahmet Mosque</td>\n",
       "      <td>NaN</td>\n",
       "      <td>NaN</td>\n",
       "      <td>NaN</td>\n",
       "      <td>NaN</td>\n",
       "      <td>{'neg': 0.0, 'neu': 0.814, 'pos': 0.186, 'comp...</td>\n",
       "      <td>0.8634</td>\n",
       "      <td>pos</td>\n",
       "      <td>0.302311</td>\n",
       "      <td>0.542054</td>\n",
       "      <td>0.066585</td>\n",
       "      <td>0.089050</td>\n",
       "      <td>Topic 1</td>\n",
       "      <td>0.54</td>\n",
       "    </tr>\n",
       "    <tr>\n",
       "      <th>1909</th>\n",
       "      <td>2204</td>\n",
       "      <td>40</td>\n",
       "      <td>pretty feature offer silent prayer fear intrusive</td>\n",
       "      <td>The Arabahmet Mosque</td>\n",
       "      <td>NaN</td>\n",
       "      <td>NaN</td>\n",
       "      <td>NaN</td>\n",
       "      <td>NaN</td>\n",
       "      <td>{'neg': 0.0, 'neu': 0.706, 'pos': 0.294, 'comp...</td>\n",
       "      <td>0.7030</td>\n",
       "      <td>pos</td>\n",
       "      <td>0.056877</td>\n",
       "      <td>0.443944</td>\n",
       "      <td>0.075613</td>\n",
       "      <td>0.423566</td>\n",
       "      <td>Topic 1</td>\n",
       "      <td>0.44</td>\n",
       "    </tr>\n",
       "    <tr>\n",
       "      <th>1910</th>\n",
       "      <td>2205</td>\n",
       "      <td>50</td>\n",
       "      <td>armenian quarter beautifully restore well wort...</td>\n",
       "      <td>The Arabahmet Mosque</td>\n",
       "      <td>NaN</td>\n",
       "      <td>NaN</td>\n",
       "      <td>NaN</td>\n",
       "      <td>NaN</td>\n",
       "      <td>{'neg': 0.0, 'neu': 0.563, 'pos': 0.437, 'comp...</td>\n",
       "      <td>0.8442</td>\n",
       "      <td>pos</td>\n",
       "      <td>0.125881</td>\n",
       "      <td>0.577987</td>\n",
       "      <td>0.074732</td>\n",
       "      <td>0.221401</td>\n",
       "      <td>Topic 1</td>\n",
       "      <td>0.58</td>\n",
       "    </tr>\n",
       "    <tr>\n",
       "      <th>1911</th>\n",
       "      <td>2206</td>\n",
       "      <td>40</td>\n",
       "      <td>locate turkish part architecture present impor...</td>\n",
       "      <td>The Arabahmet Mosque</td>\n",
       "      <td>NaN</td>\n",
       "      <td>NaN</td>\n",
       "      <td>NaN</td>\n",
       "      <td>NaN</td>\n",
       "      <td>{'neg': 0.046, 'neu': 0.819, 'pos': 0.134, 'co...</td>\n",
       "      <td>0.4939</td>\n",
       "      <td>pos</td>\n",
       "      <td>0.092283</td>\n",
       "      <td>0.821411</td>\n",
       "      <td>0.056221</td>\n",
       "      <td>0.030084</td>\n",
       "      <td>Topic 1</td>\n",
       "      <td>0.82</td>\n",
       "    </tr>\n",
       "    <tr>\n",
       "      <th>1912</th>\n",
       "      <td>2207</td>\n",
       "      <td>40</td>\n",
       "      <td>build example well preserve classical architec...</td>\n",
       "      <td>The Arabahmet Mosque</td>\n",
       "      <td>NaN</td>\n",
       "      <td>NaN</td>\n",
       "      <td>NaN</td>\n",
       "      <td>NaN</td>\n",
       "      <td>{'neg': 0.046, 'neu': 0.866, 'pos': 0.088, 'co...</td>\n",
       "      <td>0.4404</td>\n",
       "      <td>pos</td>\n",
       "      <td>0.027742</td>\n",
       "      <td>0.750030</td>\n",
       "      <td>0.037514</td>\n",
       "      <td>0.184715</td>\n",
       "      <td>Topic 1</td>\n",
       "      <td>0.75</td>\n",
       "    </tr>\n",
       "  </tbody>\n",
       "</table>\n",
       "<p>1913 rows × 17 columns</p>\n",
       "</div>"
      ],
      "text/plain": [
       "      Unnamed: 0  r_points                                             r_text  \\\n",
       "0              0        40  collection painting artifact family famous cyp...   \n",
       "1              1        50  really enjoy cypriot collection greek art inte...   \n",
       "2              2        50  stone throw away old city centre relatively ne...   \n",
       "3              3        50  get international art gallery beautifully desi...   \n",
       "4              4        50  art event kid unmissable collection broad gree...   \n",
       "...          ...       ...                                                ...   \n",
       "1908        2203        30  walk past part blue line walk tour look attrac...   \n",
       "1909        2204        40  pretty feature offer silent prayer fear intrusive   \n",
       "1910        2205        50  armenian quarter beautifully restore well wort...   \n",
       "1911        2206        40  locate turkish part architecture present impor...   \n",
       "1912        2207        40  build example well preserve classical architec...   \n",
       "\n",
       "                     place             Unnamed: 3  Unnamed: 4 Unnamed: 5  \\\n",
       "0     A G Leventis Gallery    Review 1 Similarity    0.346410        NaN   \n",
       "1     A G Leventis Gallery   Review 14 Similarity    1.000000        NaN   \n",
       "2     A G Leventis Gallery   Review 93 Similarity    0.489898        NaN   \n",
       "3     A G Leventis Gallery  Review 105 Similarity    0.489898        NaN   \n",
       "4     A G Leventis Gallery  Review 134 Similarity    0.489898        NaN   \n",
       "...                    ...                    ...         ...        ...   \n",
       "1908  The Arabahmet Mosque                    NaN         NaN        NaN   \n",
       "1909  The Arabahmet Mosque                    NaN         NaN        NaN   \n",
       "1910  The Arabahmet Mosque                    NaN         NaN        NaN   \n",
       "1911  The Arabahmet Mosque                    NaN         NaN        NaN   \n",
       "1912  The Arabahmet Mosque                    NaN         NaN        NaN   \n",
       "\n",
       "      Unnamed: 6                                             scores  compound  \\\n",
       "0            NaN  {'neg': 0.0, 'neu': 0.785, 'pos': 0.215, 'comp...    0.6249   \n",
       "1            NaN  {'neg': 0.0, 'neu': 0.792, 'pos': 0.208, 'comp...    0.9561   \n",
       "2            NaN  {'neg': 0.0, 'neu': 0.847, 'pos': 0.153, 'comp...    0.8805   \n",
       "3            NaN  {'neg': 0.0, 'neu': 0.753, 'pos': 0.247, 'comp...    0.8885   \n",
       "4            NaN  {'neg': 0.0, 'neu': 0.813, 'pos': 0.187, 'comp...    0.9563   \n",
       "...          ...                                                ...       ...   \n",
       "1908         NaN  {'neg': 0.0, 'neu': 0.814, 'pos': 0.186, 'comp...    0.8634   \n",
       "1909         NaN  {'neg': 0.0, 'neu': 0.706, 'pos': 0.294, 'comp...    0.7030   \n",
       "1910         NaN  {'neg': 0.0, 'neu': 0.563, 'pos': 0.437, 'comp...    0.8442   \n",
       "1911         NaN  {'neg': 0.046, 'neu': 0.819, 'pos': 0.134, 'co...    0.4939   \n",
       "1912         NaN  {'neg': 0.046, 'neu': 0.866, 'pos': 0.088, 'co...    0.4404   \n",
       "\n",
       "     score   Topic_0   Topic_1   Topic_2   Topic_3 Dominant_Topic  \\\n",
       "0      pos  0.061794  0.723823  0.178804  0.035579        Topic 1   \n",
       "1      pos  0.025693  0.864219  0.095467  0.014622        Topic 1   \n",
       "2      pos  0.081222  0.829492  0.044829  0.044457        Topic 1   \n",
       "3      pos  0.288185  0.597592  0.049226  0.064997        Topic 1   \n",
       "4      pos  0.022681  0.691888  0.271119  0.014312        Topic 1   \n",
       "...    ...       ...       ...       ...       ...            ...   \n",
       "1908   pos  0.302311  0.542054  0.066585  0.089050        Topic 1   \n",
       "1909   pos  0.056877  0.443944  0.075613  0.423566        Topic 1   \n",
       "1910   pos  0.125881  0.577987  0.074732  0.221401        Topic 1   \n",
       "1911   pos  0.092283  0.821411  0.056221  0.030084        Topic 1   \n",
       "1912   pos  0.027742  0.750030  0.037514  0.184715        Topic 1   \n",
       "\n",
       "      Perc_Dominant_Topic  \n",
       "0                    0.72  \n",
       "1                    0.86  \n",
       "2                    0.83  \n",
       "3                    0.60  \n",
       "4                    0.69  \n",
       "...                   ...  \n",
       "1908                 0.54  \n",
       "1909                 0.44  \n",
       "1910                 0.58  \n",
       "1911                 0.82  \n",
       "1912                 0.75  \n",
       "\n",
       "[1913 rows x 17 columns]"
      ]
     },
     "execution_count": 7,
     "metadata": {},
     "output_type": "execute_result"
    }
   ],
   "source": [
    "apply_lda_pos"
   ]
  },
  {
   "cell_type": "code",
   "execution_count": 8,
   "metadata": {},
   "outputs": [
    {
     "data": {
      "application/vnd.jupyter.widget-view+json": {
       "model_id": "395672c3c8954fd089be754707c5a66d",
       "version_major": 2,
       "version_minor": 0
      },
      "text/plain": [
       "interactive(children=(ToggleButtons(description='Plot Type:', icons=('',), options=(('Frequency Plot', 'freque…"
      ]
     },
     "metadata": {},
     "output_type": "display_data"
    }
   ],
   "source": [
    "evaluate_model(lda_pos_custom)"
   ]
  },
  {
   "cell_type": "code",
   "execution_count": 9,
   "metadata": {},
   "outputs": [
    {
     "data": {
      "text/html": [
       "        <script type=\"text/javascript\">\n",
       "        window.PlotlyConfig = {MathJaxConfig: 'local'};\n",
       "        if (window.MathJax) {MathJax.Hub.Config({SVG: {font: \"STIX-Web\"}});}\n",
       "        if (typeof require !== 'undefined') {\n",
       "        require.undef(\"plotly\");\n",
       "        requirejs.config({\n",
       "            paths: {\n",
       "                'plotly': ['https://cdn.plot.ly/plotly-latest.min']\n",
       "            }\n",
       "        });\n",
       "        require(['plotly'], function(Plotly) {\n",
       "            window._Plotly = Plotly;\n",
       "        });\n",
       "        }\n",
       "        </script>\n",
       "        "
      ]
     },
     "metadata": {},
     "output_type": "display_data"
    },
    {
     "data": {
      "text/html": [
       "\n",
       "<link rel=\"stylesheet\" type=\"text/css\" href=\"https://cdn.rawgit.com/bmabey/pyLDAvis/files/ldavis.v1.0.0.css\">\n",
       "\n",
       "\n",
       "<div id=\"ldavis_el30275230020764434644977956938\"></div>\n",
       "<script type=\"text/javascript\">\n",
       "\n",
       "var ldavis_el30275230020764434644977956938_data = {\"mdsDat\": {\"x\": [-0.28734805518087014, -0.11513022201556508, 0.1892837825483624, 0.21319449464807277], \"y\": [-0.18289195674569342, 0.24298073411343254, -0.19183971056414018, 0.13175093319640102], \"topics\": [1, 2, 3, 4], \"cluster\": [1, 1, 1, 1], \"Freq\": [63.550960540771484, 18.68543815612793, 10.019670486450195, 7.743931770324707]}, \"tinfo\": {\"Term\": [\"make\", \"point\", \"staff\", \"visit\", \"back\", \"see\", \"give\", \"friendly\", \"need\", \"side\", \"north\", \"city\", \"garden\", \"quite\", \"thing\", \"people\", \"stay\", \"helpful\", \"night\", \"turkish\", \"style\", \"worth\", \"go\", \"well\", \"try\", \"however\", \"check\", \"divide\", \"simple\", \"old\", \"visit\", \"see\", \"side\", \"city\", \"turkish\", \"worth\", \"well\", \"old\", \"walk\", \"take\", \"view\", \"interesting\", \"part\", \"time\", \"area\", \"cross\", \"also\", \"shop\", \"small\", \"history\", \"border\", \"lot\", \"many\", \"passport\", \"church\", \"go\", \"find\", \"beer\", \"experience\", \"building\", \"get\", \"really\", \"look\", \"staff\", \"need\", \"quite\", \"stay\", \"night\", \"helpful\", \"thing\", \"make\", \"north\", \"check\", \"clean\", \"perfect\", \"location\", \"pay\", \"breakfast\", \"window\", \"outside\", \"huge\", \"meet\", \"access\", \"problem\", \"choice\", \"heart\", \"forget\", \"else\", \"overall\", \"give\", \"comfortable\", \"carpet\", \"week\", \"talk\", \"parking\", \"hot\", \"friendly\", \"service\", \"bar\", \"day\", \"get\", \"close\", \"point\", \"back\", \"however\", \"country\", \"line\", \"divide\", \"garden\", \"year\", \"informative\", \"never\", \"peaceful\", \"past\", \"blue\", \"explain\", \"beautifully\", \"comment\", \"interior\", \"start\", \"carve\", \"green\", \"tell\", \"discover\", \"explanation\", \"fantastic\", \"welcome\", \"clearly\", \"hopefully\", \"turk\", \"capital\", \"female\", \"grave\", \"big\", \"trouser\", \"tombstone\", \"people\", \"style\", \"try\", \"simple\", \"store\", \"example\", \"prayer\", \"watch\", \"brew\", \"former\", \"head\", \"selection\", \"travel\", \"fear\", \"quarter\", \"menu\", \"evening\", \"door\", \"least\", \"dish\", \"microbrewery\", \"silent\", \"feature\", \"delicious\", \"middle\", \"intrusive\", \"lock\", \"fine\", \"run\", \"nicely\", \"speak\", \"eye\", \"rectangular\", \"conqueror\", \"hemisphere\", \"armenian\", \"people\", \"offer\", \"gate\", \"restore\"], \"Freq\": [226.0, 155.0, 179.0, 667.0, 119.0, 626.0, 171.0, 175.0, 149.0, 572.0, 136.0, 455.0, 81.0, 111.0, 108.0, 91.0, 104.0, 104.0, 104.0, 419.0, 65.0, 395.0, 423.0, 373.0, 57.0, 63.0, 87.0, 62.0, 54.0, 345.0, 666.8261108398438, 626.0546875, 571.4761962890625, 454.70318603515625, 418.814208984375, 394.9165954589844, 372.7644958496094, 345.1984558105469, 304.093017578125, 295.44744873046875, 308.5395202636719, 288.61712646484375, 288.0953063964844, 267.1412353515625, 262.9208068847656, 254.8489990234375, 250.57113647460938, 238.02740478515625, 238.5270233154297, 211.40988159179688, 268.1163635253906, 200.20066833496094, 199.2516326904297, 217.15310668945312, 205.15870666503906, 421.40985107421875, 176.6145477294922, 260.4127197265625, 171.54473876953125, 171.29782104492188, 205.82489013671875, 184.10760498046875, 184.98948669433594, 178.958740234375, 148.89280700683594, 111.17793273925781, 104.21147155761719, 104.044921875, 104.17597961425781, 107.5088882446289, 224.63633728027344, 135.1578826904297, 86.35317993164062, 73.87405395507812, 70.8262939453125, 65.16084289550781, 65.65421295166016, 59.36183166503906, 62.18791580200195, 62.31574249267578, 59.81099319458008, 50.5830078125, 48.095008850097656, 45.12879180908203, 34.36337661743164, 36.251068115234375, 56.344879150390625, 31.895275115966797, 30.898521423339844, 167.25662231445312, 27.776531219482422, 40.72431945800781, 25.716922760009766, 27.712026596069336, 40.5516471862793, 59.440799713134766, 150.06488037109375, 72.32958984375, 45.102813720703125, 63.16084289550781, 55.35720443725586, 47.25383377075195, 154.2850341796875, 118.90060424804688, 62.77656936645508, 58.744205474853516, 58.97920608520508, 61.430416107177734, 80.27656555175781, 49.47560501098633, 46.48236846923828, 35.43612289428711, 33.94387435913086, 33.033451080322266, 33.97534942626953, 34.05908966064453, 49.43827819824219, 31.762252807617188, 39.166629791259766, 30.10371971130371, 30.7929744720459, 29.122608184814453, 26.474666595458984, 29.0902099609375, 29.449260711669922, 24.493328094482422, 24.127607345581055, 21.65463638305664, 26.120567321777344, 19.39820671081543, 19.570301055908203, 24.238431930541992, 24.028064727783203, 54.64558792114258, 22.90032958984375, 34.8147087097168, 28.004640579223633, 64.69573974609375, 57.05241012573242, 53.90589141845703, 33.367069244384766, 27.41059112548828, 28.164461135864258, 27.7432804107666, 26.917282104492188, 48.15597915649414, 29.35226058959961, 25.10841178894043, 22.201765060424805, 23.563249588012695, 24.74176025390625, 23.648468017578125, 20.79852867126465, 20.147245407104492, 19.75545883178711, 20.085466384887695, 25.27547264099121, 22.980022430419922, 22.93680191040039, 18.415210723876953, 17.2298583984375, 22.638212203979492, 25.18291664123535, 15.87231159210205, 15.979290008544922, 14.9747314453125, 19.08563804626465, 17.129619598388672, 22.110525131225586, 21.916770935058594, 21.916770935058594, 21.66912078857422, 62.64338302612305, 31.265886306762695, 25.309572219848633, 21.83062744140625], \"Total\": [226.0, 155.0, 179.0, 667.0, 119.0, 626.0, 171.0, 175.0, 149.0, 572.0, 136.0, 455.0, 81.0, 111.0, 108.0, 91.0, 104.0, 104.0, 104.0, 419.0, 65.0, 395.0, 423.0, 373.0, 57.0, 63.0, 87.0, 62.0, 54.0, 345.0, 667.594482421875, 626.8271484375, 572.2440795898438, 455.4853515625, 419.5796813964844, 395.68524169921875, 373.55072021484375, 345.9734802246094, 304.8722229003906, 296.215087890625, 309.3514709472656, 289.3817443847656, 288.8735656738281, 267.90802001953125, 263.689453125, 255.62486267089844, 251.34524536132812, 238.77972412109375, 239.30010986328125, 212.1736602783203, 269.097412109375, 200.9652862548828, 200.01412963867188, 218.0210418701172, 205.9851531982422, 423.2441101074219, 177.39854431152344, 261.57073974609375, 172.3168182373047, 172.072265625, 263.1847839355469, 205.88070678710938, 218.75038146972656, 179.64759826660156, 149.6089630126953, 111.8980484008789, 104.8895492553711, 104.72673797607422, 104.87538146972656, 108.24049377441406, 226.35670471191406, 136.21128845214844, 87.09736633300781, 74.55393981933594, 71.5367431640625, 65.84378814697266, 66.3725357055664, 60.03352355957031, 62.995906829833984, 63.168209075927734, 60.69220733642578, 51.3422966003418, 48.846893310546875, 45.84607696533203, 35.04994583129883, 36.986053466796875, 57.505741119384766, 32.594669342041016, 31.587627410888672, 171.26409912109375, 28.48059844970703, 41.813682556152344, 26.412288665771484, 28.470186233520508, 42.47164535522461, 64.35083770751953, 175.73667907714844, 81.95188903808594, 72.34245300292969, 180.77760314941406, 263.1847839355469, 107.81329345703125, 155.1192169189453, 119.73011016845703, 63.60871887207031, 59.54673767089844, 59.785400390625, 62.280574798583984, 81.39518737792969, 50.28190994262695, 47.436439514160156, 36.26335525512695, 34.76801300048828, 33.840614318847656, 34.85836410522461, 34.95564270019531, 50.74523162841797, 32.611122131347656, 40.252994537353516, 30.949792861938477, 31.760923385620117, 30.045141220092773, 27.326749801635742, 30.072141647338867, 30.454730987548828, 25.343679428100586, 25.018461227416992, 22.535106658935547, 27.207576751708984, 20.21773338317871, 20.404659271240234, 25.311153411865234, 25.348337173461914, 62.84150314331055, 24.635818481445312, 105.22801208496094, 91.25141143798828, 65.62708282470703, 57.89908218383789, 54.84529113769531, 34.22556686401367, 28.250938415527344, 29.046613693237305, 28.614763259887695, 27.767560958862305, 49.71930694580078, 30.34450912475586, 25.96454620361328, 23.03876304626465, 24.4592342376709, 25.692113876342773, 24.56474494934082, 21.641544342041016, 20.969594955444336, 20.580711364746094, 20.92854118347168, 26.33829689025879, 23.957645416259766, 23.921463012695312, 19.2399845123291, 18.055076599121094, 23.748659133911133, 26.44247817993164, 16.695762634277344, 16.820133209228516, 15.786738395690918, 20.147319793701172, 18.133338928222656, 23.891056060791016, 23.779525756835938, 23.779525756835938, 23.797273635864258, 91.25141143798828, 88.83661651611328, 47.56353759765625, 41.28133010864258], \"Category\": [\"Default\", \"Default\", \"Default\", \"Default\", \"Default\", \"Default\", \"Default\", \"Default\", \"Default\", \"Default\", \"Default\", \"Default\", \"Default\", \"Default\", \"Default\", \"Default\", \"Default\", \"Default\", \"Default\", \"Default\", \"Default\", \"Default\", \"Default\", \"Default\", \"Default\", \"Default\", \"Default\", \"Default\", \"Default\", \"Default\", \"Topic1\", \"Topic1\", \"Topic1\", \"Topic1\", \"Topic1\", \"Topic1\", \"Topic1\", \"Topic1\", \"Topic1\", \"Topic1\", \"Topic1\", \"Topic1\", \"Topic1\", \"Topic1\", \"Topic1\", \"Topic1\", \"Topic1\", \"Topic1\", \"Topic1\", \"Topic1\", \"Topic1\", \"Topic1\", \"Topic1\", \"Topic1\", \"Topic1\", \"Topic1\", \"Topic1\", \"Topic1\", \"Topic1\", \"Topic1\", \"Topic1\", \"Topic1\", \"Topic1\", \"Topic2\", \"Topic2\", \"Topic2\", \"Topic2\", \"Topic2\", \"Topic2\", \"Topic2\", \"Topic2\", \"Topic2\", \"Topic2\", \"Topic2\", \"Topic2\", \"Topic2\", \"Topic2\", \"Topic2\", \"Topic2\", \"Topic2\", \"Topic2\", \"Topic2\", \"Topic2\", \"Topic2\", \"Topic2\", \"Topic2\", \"Topic2\", \"Topic2\", \"Topic2\", \"Topic2\", \"Topic2\", \"Topic2\", \"Topic2\", \"Topic2\", \"Topic2\", \"Topic2\", \"Topic2\", \"Topic2\", \"Topic2\", \"Topic2\", \"Topic2\", \"Topic2\", \"Topic3\", \"Topic3\", \"Topic3\", \"Topic3\", \"Topic3\", \"Topic3\", \"Topic3\", \"Topic3\", \"Topic3\", \"Topic3\", \"Topic3\", \"Topic3\", \"Topic3\", \"Topic3\", \"Topic3\", \"Topic3\", \"Topic3\", \"Topic3\", \"Topic3\", \"Topic3\", \"Topic3\", \"Topic3\", \"Topic3\", \"Topic3\", \"Topic3\", \"Topic3\", \"Topic3\", \"Topic3\", \"Topic3\", \"Topic3\", \"Topic3\", \"Topic3\", \"Topic3\", \"Topic3\", \"Topic3\", \"Topic4\", \"Topic4\", \"Topic4\", \"Topic4\", \"Topic4\", \"Topic4\", \"Topic4\", \"Topic4\", \"Topic4\", \"Topic4\", \"Topic4\", \"Topic4\", \"Topic4\", \"Topic4\", \"Topic4\", \"Topic4\", \"Topic4\", \"Topic4\", \"Topic4\", \"Topic4\", \"Topic4\", \"Topic4\", \"Topic4\", \"Topic4\", \"Topic4\", \"Topic4\", \"Topic4\", \"Topic4\", \"Topic4\", \"Topic4\", \"Topic4\", \"Topic4\", \"Topic4\", \"Topic4\", \"Topic4\", \"Topic4\", \"Topic4\", \"Topic4\", \"Topic4\"], \"logprob\": [30.0, 29.0, 28.0, 27.0, 26.0, 25.0, 24.0, 23.0, 22.0, 21.0, 20.0, 19.0, 18.0, 17.0, 16.0, 15.0, 14.0, 13.0, 12.0, 11.0, 10.0, 9.0, 8.0, 7.0, 6.0, 5.0, 4.0, 3.0, 2.0, 1.0, -3.747499942779541, -3.810499906539917, -3.9017999172210693, -4.130300045013428, -4.212600231170654, -4.271299839019775, -4.328999996185303, -4.405900001525879, -4.532599925994873, -4.561500072479248, -4.518099784851074, -4.58489990234375, -4.586699962615967, -4.662199974060059, -4.678100109100342, -4.7093000411987305, -4.726200103759766, -4.777599811553955, -4.7754998207092285, -4.896200180053711, -4.658599853515625, -4.950699806213379, -4.955399990081787, -4.8694000244140625, -4.926199913024902, -4.206399917602539, -5.076000213623047, -4.687699794769287, -5.105100154876709, -5.106599807739258, -4.922999858856201, -5.0345001220703125, -5.029699802398682, -3.83870005607605, -4.02269983291626, -4.314799785614014, -4.379499912261963, -4.381100177764893, -4.379799842834473, -4.348299980163574, -3.6113998889923096, -4.1194000244140625, -4.567399978637695, -4.723499774932861, -4.765699863433838, -4.848999977111816, -4.8414998054504395, -4.942200183868408, -4.895699977874756, -4.893700122833252, -4.934700012207031, -5.10230016708374, -5.152699947357178, -5.216400146484375, -5.488900184631348, -5.435400009155273, -4.9944000244140625, -5.563399791717529, -5.595200061798096, -3.906399965286255, -5.701700210571289, -5.3190999031066895, -5.77869987487793, -5.703999996185303, -5.323299884796143, -4.940899848937988, -4.014800071716309, -4.744699954986572, -5.216899871826172, -4.880199909210205, -5.0121002197265625, -5.170400142669678, -3.3638999462127686, -3.6243999004364014, -4.2631001472473145, -4.329500198364258, -4.325500011444092, -4.284800052642822, -4.017199993133545, -4.501200199127197, -4.563600063323975, -4.835000038146973, -4.877999782562256, -4.905200004577637, -4.877099990844727, -4.874599933624268, -4.501999855041504, -4.944399833679199, -4.734899997711182, -4.998000144958496, -4.975399971008301, -5.031199932098389, -5.126500129699707, -5.032299995422363, -5.019999980926514, -5.2042999267578125, -5.219299793243408, -5.327499866485596, -5.139999866485596, -5.4375, -5.428699970245361, -5.214799880981445, -5.223499774932861, -4.401800155639648, -5.271500110626221, -4.852700233459473, -5.070300102233887, -3.975399971008301, -4.101099967956543, -4.157800197601318, -4.637499809265137, -4.834099769592285, -4.807000160217285, -4.8221001625061035, -4.85230016708374, -4.270599842071533, -4.765699863433838, -4.921800136566162, -5.044899940490723, -4.985400199890137, -4.936600208282471, -4.981800079345703, -5.110199928283691, -5.142000198364258, -5.161600112915039, -5.145100116729736, -4.915200233459473, -5.01039981842041, -5.01230001449585, -5.231900215148926, -5.298399925231934, -5.025400161743164, -4.918900012969971, -5.380499839782715, -5.373799800872803, -5.438700199127197, -5.196100234985352, -5.304200172424316, -5.048999786376953, -5.057799816131592, -5.057799816131592, -5.069200038909912, -4.007599830627441, -4.702499866485596, -4.913899898529053, -5.061699867248535], \"loglift\": [30.0, 29.0, 28.0, 27.0, 26.0, 25.0, 24.0, 23.0, 22.0, 21.0, 20.0, 19.0, 18.0, 17.0, 16.0, 15.0, 14.0, 13.0, 12.0, 11.0, 10.0, 9.0, 8.0, 7.0, 6.0, 5.0, 4.0, 3.0, 2.0, 1.0, 0.4521999955177307, 0.45210000872612, 0.4519999921321869, 0.45159998536109924, 0.4514999985694885, 0.4514000117778778, 0.451200008392334, 0.4510999917984009, 0.45080000162124634, 0.4507000148296356, 0.4507000148296356, 0.4507000148296356, 0.4505999982357025, 0.4505000114440918, 0.4503999948501587, 0.450300008058548, 0.45019999146461487, 0.45019999146461487, 0.45010000467300415, 0.4496999979019165, 0.4496999979019165, 0.4494999945163727, 0.4494999945163727, 0.44929999113082886, 0.44929999113082886, 0.4490000009536743, 0.4489000141620636, 0.4489000141620636, 0.4487999975681305, 0.4487999975681305, 0.20749999582767487, 0.3416000008583069, 0.2856999933719635, 1.6735999584197998, 1.6726000308990479, 1.6710000038146973, 1.6708999872207642, 1.6708999872207642, 1.670699954032898, 1.6706000566482544, 1.669800043106079, 1.669700026512146, 1.6687999963760376, 1.6683000326156616, 1.6674000024795532, 1.6670000553131104, 1.6664999723434448, 1.666200041770935, 1.6644999980926514, 1.6638000011444092, 1.6627999544143677, 1.662500023841858, 1.6619000434875488, 1.6617000102996826, 1.6576000452041626, 1.6574000120162964, 1.656999945640564, 1.6556999683380127, 1.655400037765503, 1.6536999940872192, 1.652400016784668, 1.6510000228881836, 1.6506999731063843, 1.6504000425338745, 1.6311999559402466, 1.598099946975708, 1.5195000171661377, 1.5525000095367432, 1.2050000429153442, 0.6258000135421753, 0.11840000003576279, 0.8525999784469604, 2.2952001094818115, 2.2936999797821045, 2.2874999046325684, 2.287100076675415, 2.2869999408721924, 2.286900043487549, 2.286799907684326, 2.2844998836517334, 2.2802999019622803, 2.2774999141693115, 2.276599884033203, 2.2764999866485596, 2.2750000953674316, 2.274600028991699, 2.2744998931884766, 2.274199962615967, 2.2732999324798584, 2.272900104522705, 2.269700050354004, 2.269399881362915, 2.268899917602539, 2.267400026321411, 2.2669999599456787, 2.2664999961853027, 2.264400005340576, 2.2607998847961426, 2.2597999572753906, 2.259200096130371, 2.2588999271392822, 2.2572999000549316, 2.2471001148223877, 2.160900115966797, 2.22760009765625, 1.1944999694824219, 1.1194000244140625, 2.5439999103546143, 2.5434999465942383, 2.5409998893737793, 2.532900094985962, 2.52810001373291, 2.527400016784668, 2.5272998809814453, 2.5271999835968018, 2.5262999534606934, 2.5250000953674316, 2.5246999263763428, 2.5213000774383545, 2.520900011062622, 2.5206000804901123, 2.52020001411438, 2.5185000896453857, 2.5183000564575195, 2.5172998905181885, 2.5171000957489014, 2.5171000957489014, 2.5165998935699463, 2.516200065612793, 2.514400005340576, 2.5114998817443848, 2.5104000568389893, 2.509500026702881, 2.507699966430664, 2.506999969482422, 2.505500078201294, 2.5041000843048096, 2.501300096511841, 2.480799913406372, 2.4767000675201416, 2.4767000675201416, 2.464600086212158, 2.1821000576019287, 1.5140000581741333, 1.92739999294281, 1.9212000370025635]}, \"token.table\": {\"Topic\": [2, 1, 1, 1, 2, 3, 4, 3, 1, 2, 3, 1, 2, 3, 3, 1, 2, 4, 1, 3, 2, 3, 2, 2, 1, 1, 2, 3, 1, 2, 2, 3, 1, 4, 3, 1, 1, 2, 4, 3, 4, 3, 4, 2, 4, 4, 1, 3, 3, 4, 3, 4, 4, 3, 1, 4, 2, 1, 2, 4, 1, 2, 3, 3, 4, 1, 2, 3, 2, 4, 1, 2, 2, 3, 3, 4, 2, 2, 1, 4, 1, 1, 3, 1, 2, 3, 2, 3, 1, 3, 4, 4, 3, 2, 3, 4, 1, 2, 3, 1, 2, 4, 1, 2, 4, 4, 4, 2, 3, 4, 2, 1, 2, 1, 2, 4, 1, 2, 2, 2, 4, 1, 1, 3, 2, 3, 3, 4, 2, 3, 4, 2, 4, 2, 1, 2, 1, 4, 1, 3, 4, 4, 1, 4, 2, 4, 1, 1, 4, 4, 1, 2, 4, 2, 3, 2, 4, 4, 1, 2, 3, 2, 1, 1, 2, 3, 4, 4, 1, 2, 3, 4, 4, 3, 1, 1, 1, 1, 4, 2, 3, 1, 2, 1, 3], \"Freq\": [0.9826622605323792, 0.9986264109611511, 0.9973853826522827, 0.04202162101864815, 0.04202162101864815, 0.04202162101864815, 0.9244756698608398, 0.9939020276069641, 0.37322482466697693, 0.6220414042472839, 0.9656079411506653, 0.993994951248169, 0.12730440497398376, 0.8752177953720093, 0.9753756523132324, 0.9959218502044678, 0.9827842116355896, 0.9723576307296753, 0.9937685132026672, 0.9801682829856873, 0.9805402755737305, 0.9760421514511108, 0.9874007105827332, 0.9700443148612976, 0.9952173829078674, 0.9989344477653503, 0.9925699234008789, 0.9762545228004456, 0.5565176606178284, 0.43593883514404297, 0.9831253886222839, 0.9812602996826172, 0.0420529842376709, 0.9251656532287598, 0.9908183217048645, 0.9975555539131165, 0.6472040414810181, 0.3484944999217987, 0.9355517029762268, 0.9643476605415344, 0.9556328058242798, 0.9794386029243469, 0.953761875629425, 0.9817556142807007, 0.9703558683395386, 0.9557204842567444, 0.9981614351272583, 0.9726612567901611, 0.9522330164909363, 0.9374997019767761, 0.94698166847229, 0.9812244772911072, 0.961479663848877, 0.9481986165046692, 0.997753381729126, 0.9583269953727722, 0.9738157987594604, 0.020112911239266396, 0.020112911239266396, 0.9654197096824646, 0.14225828647613525, 0.8535497784614563, 0.9828590750694275, 0.4625391960144043, 0.5256127119064331, 0.7827200293540955, 0.20897865295410156, 0.007599223405122757, 0.9751021862030029, 0.017516806721687317, 0.9946978092193604, 0.002362702740356326, 0.03945032134652138, 0.9468076825141907, 0.9652143120765686, 0.9556918740272522, 0.973339855670929, 0.9916531443595886, 0.0420529842376709, 0.9251656532287598, 0.9944683909416199, 0.03675446659326553, 0.9556161761283875, 0.06215925142168999, 0.9168489575386047, 0.9904302358627319, 0.9885947704315186, 0.9697186350822449, 0.998680830001831, 0.9688720107078552, 0.9684757590293884, 0.9717836976051331, 0.9868630170822144, 0.987185001373291, 0.03781793639063835, 0.9454484581947327, 0.8457128405570984, 0.12799978256225586, 0.0274285227060318, 0.9951967597007751, 0.994006335735321, 0.004417805932462215, 0.9949297308921814, 0.9933330416679382, 0.9770099520683289, 0.9491881728172302, 0.9415634274482727, 0.9959296584129333, 0.9651616811752319, 0.9501646161079407, 0.9930606484413147, 0.007341535296291113, 0.9911072850227356, 0.5178045034408569, 0.12382281571626663, 0.3489552140235901, 0.9971862435340881, 0.98150634765625, 0.9813969135284424, 0.9653499126434326, 0.023545119911432266, 0.9969759583473206, 0.9953168034553528, 0.9751595854759216, 0.9943872094154358, 0.9779103398323059, 0.306844562292099, 0.6904003024101257, 0.9924969673156738, 0.9927847981452942, 0.9639678001403809, 0.9815452694892883, 0.973061203956604, 0.991974413394928, 0.8937214612960815, 0.10200081765651703, 0.04185666888952255, 0.920846700668335, 0.36336037516593933, 0.09689610451459885, 0.5329285860061646, 0.9512409567832947, 0.9986804127693176, 0.9628514051437378, 0.8785642385482788, 0.10982052981853485, 0.9967345595359802, 0.9978259801864624, 0.9600275754928589, 0.9845877289772034, 0.998745858669281, 0.04963439330458641, 0.9430534839630127, 0.9963951706886292, 0.9693118333816528, 0.9915191531181335, 0.9641914963722229, 0.9904447793960571, 0.9958979487419128, 0.9834849834442139, 0.9514486789703369, 0.9977781772613525, 0.996610701084137, 0.6557189226150513, 0.00950317271053791, 0.3326110541820526, 0.00950317271053791, 0.9549123644828796, 0.04059130325913429, 0.04059130325913429, 0.9336000084877014, 0.04059130325913429, 0.9844715595245361, 0.9397690296173096, 0.9986184239387512, 0.9988638162612915, 0.9991095066070557, 0.997139036655426, 0.9785158634185791, 0.9843902587890625, 0.9592916369438171, 0.9985257387161255, 0.9841909408569336, 0.998268187046051, 0.9745055437088013], \"Term\": [\"access\", \"also\", \"area\", \"armenian\", \"armenian\", \"armenian\", \"armenian\", \"back\", \"bar\", \"bar\", \"beautifully\", \"beer\", \"big\", \"big\", \"blue\", \"border\", \"breakfast\", \"brew\", \"building\", \"capital\", \"carpet\", \"carve\", \"check\", \"choice\", \"church\", \"city\", \"clean\", \"clearly\", \"close\", \"close\", \"comfortable\", \"comment\", \"conqueror\", \"conqueror\", \"country\", \"cross\", \"day\", \"day\", \"delicious\", \"discover\", \"dish\", \"divide\", \"door\", \"else\", \"evening\", \"example\", \"experience\", \"explain\", \"explanation\", \"eye\", \"fantastic\", \"fear\", \"feature\", \"female\", \"find\", \"fine\", \"forget\", \"former\", \"former\", \"former\", \"friendly\", \"friendly\", \"garden\", \"gate\", \"gate\", \"get\", \"get\", \"get\", \"give\", \"give\", \"go\", \"go\", \"grave\", \"grave\", \"green\", \"head\", \"heart\", \"helpful\", \"hemisphere\", \"hemisphere\", \"history\", \"hopefully\", \"hopefully\", \"hot\", \"hot\", \"however\", \"huge\", \"informative\", \"interesting\", \"interior\", \"intrusive\", \"least\", \"line\", \"location\", \"lock\", \"lock\", \"look\", \"look\", \"look\", \"lot\", \"make\", \"make\", \"many\", \"meet\", \"menu\", \"microbrewery\", \"middle\", \"need\", \"never\", \"nicely\", \"night\", \"north\", \"north\", \"offer\", \"offer\", \"offer\", \"old\", \"outside\", \"overall\", \"parking\", \"parking\", \"part\", \"passport\", \"past\", \"pay\", \"peaceful\", \"people\", \"people\", \"perfect\", \"point\", \"prayer\", \"problem\", \"quarter\", \"quite\", \"really\", \"really\", \"rectangular\", \"rectangular\", \"restore\", \"restore\", \"restore\", \"run\", \"see\", \"selection\", \"service\", \"service\", \"shop\", \"side\", \"silent\", \"simple\", \"small\", \"speak\", \"speak\", \"staff\", \"start\", \"stay\", \"store\", \"style\", \"take\", \"talk\", \"tell\", \"thing\", \"time\", \"tombstone\", \"tombstone\", \"tombstone\", \"tombstone\", \"travel\", \"trouser\", \"trouser\", \"trouser\", \"trouser\", \"try\", \"turk\", \"turkish\", \"view\", \"visit\", \"walk\", \"watch\", \"week\", \"welcome\", \"well\", \"window\", \"worth\", \"year\"]}, \"R\": 30, \"lambda.step\": 0.01, \"plot.opts\": {\"xlab\": \"PC1\", \"ylab\": \"PC2\"}, \"topic.order\": [2, 3, 1, 4]};\n",
       "\n",
       "function LDAvis_load_lib(url, callback){\n",
       "  var s = document.createElement('script');\n",
       "  s.src = url;\n",
       "  s.async = true;\n",
       "  s.onreadystatechange = s.onload = callback;\n",
       "  s.onerror = function(){console.warn(\"failed to load library \" + url);};\n",
       "  document.getElementsByTagName(\"head\")[0].appendChild(s);\n",
       "}\n",
       "\n",
       "if(typeof(LDAvis) !== \"undefined\"){\n",
       "   // already loaded: just create the visualization\n",
       "   !function(LDAvis){\n",
       "       new LDAvis(\"#\" + \"ldavis_el30275230020764434644977956938\", ldavis_el30275230020764434644977956938_data);\n",
       "   }(LDAvis);\n",
       "}else if(typeof define === \"function\" && define.amd){\n",
       "   // require.js is available: use it to load d3/LDAvis\n",
       "   require.config({paths: {d3: \"https://cdnjs.cloudflare.com/ajax/libs/d3/3.5.5/d3.min\"}});\n",
       "   require([\"d3\"], function(d3){\n",
       "      window.d3 = d3;\n",
       "      LDAvis_load_lib(\"https://cdn.rawgit.com/bmabey/pyLDAvis/files/ldavis.v1.0.0.js\", function(){\n",
       "        new LDAvis(\"#\" + \"ldavis_el30275230020764434644977956938\", ldavis_el30275230020764434644977956938_data);\n",
       "      });\n",
       "    });\n",
       "}else{\n",
       "    // require.js not available: dynamically load d3 & LDAvis\n",
       "    LDAvis_load_lib(\"https://cdnjs.cloudflare.com/ajax/libs/d3/3.5.5/d3.min.js\", function(){\n",
       "         LDAvis_load_lib(\"https://cdn.rawgit.com/bmabey/pyLDAvis/files/ldavis.v1.0.0.js\", function(){\n",
       "                 new LDAvis(\"#\" + \"ldavis_el30275230020764434644977956938\", ldavis_el30275230020764434644977956938_data);\n",
       "            })\n",
       "         });\n",
       "}\n",
       "</script>"
      ],
      "text/plain": [
       "PreparedData(topic_coordinates=              x         y  topics  cluster       Freq\n",
       "topic                                                \n",
       "1     -0.287348 -0.182892       1        1  63.550961\n",
       "2     -0.115130  0.242981       2        1  18.685438\n",
       "0      0.189284 -0.191840       3        1  10.019670\n",
       "3      0.213194  0.131751       4        1   7.743932, topic_info=          Term        Freq       Total Category  logprob  loglift\n",
       "89        make  226.000000  226.000000  Default  30.0000  30.0000\n",
       "686      point  155.000000  155.000000  Default  29.0000  29.0000\n",
       "244      staff  179.000000  179.000000  Default  28.0000  28.0000\n",
       "33       visit  667.000000  667.000000  Default  27.0000  27.0000\n",
       "671       back  119.000000  119.000000  Default  26.0000  26.0000\n",
       "...        ...         ...         ...      ...      ...      ...\n",
       "4654  armenian   21.669121   23.797274   Topic4  -5.0692   2.4646\n",
       "142     people   62.643383   91.251411   Topic4  -4.0076   2.1821\n",
       "389      offer   31.265886   88.836617   Topic4  -4.7025   1.5140\n",
       "1078      gate   25.309572   47.563538   Topic4  -4.9139   1.9274\n",
       "888    restore   21.830627   41.281330   Topic4  -5.0617   1.9212\n",
       "\n",
       "[176 rows x 6 columns], token_table=      Topic      Freq      Term\n",
       "term                           \n",
       "76        2  0.982662    access\n",
       "8         1  0.998626      also\n",
       "186       1  0.997385      area\n",
       "4654      1  0.042022  armenian\n",
       "4654      2  0.042022  armenian\n",
       "...     ...       ...       ...\n",
       "687       3  0.959292   welcome\n",
       "63        1  0.998526      well\n",
       "1135      2  0.984191    window\n",
       "110       1  0.998268     worth\n",
       "75        3  0.974506      year\n",
       "\n",
       "[185 rows x 3 columns], R=30, lambda_step=0.01, plot_opts={'xlab': 'PC1', 'ylab': 'PC2'}, topic_order=[2, 3, 1, 4])"
      ]
     },
     "metadata": {},
     "output_type": "display_data"
    }
   ],
   "source": [
    "plot_model(lda_pos_custom, plot ='topic_model')"
   ]
  },
  {
   "cell_type": "markdown",
   "metadata": {},
   "source": [
    "## Tuning the model using Coherence Value"
   ]
  },
  {
   "cell_type": "code",
   "execution_count": 10,
   "metadata": {},
   "outputs": [
    {
     "data": {
      "application/vnd.jupyter.widget-view+json": {
       "model_id": "",
       "version_major": 2,
       "version_minor": 0
      },
      "text/plain": [
       "IntProgress(value=0, description='Processing: ', max=25)"
      ]
     },
     "metadata": {},
     "output_type": "display_data"
    },
    {
     "data": {
      "application/vnd.jupyter.widget-view+json": {
       "model_id": "6f44b289dd0243d9b5a612bd543e6576",
       "version_major": 2,
       "version_minor": 0
      },
      "text/plain": [
       "Output()"
      ]
     },
     "metadata": {},
     "output_type": "display_data"
    },
    {
     "data": {
      "text/html": [
       "        <script type=\"text/javascript\">\n",
       "        window.PlotlyConfig = {MathJaxConfig: 'local'};\n",
       "        if (window.MathJax) {MathJax.Hub.Config({SVG: {font: \"STIX-Web\"}});}\n",
       "        if (typeof require !== 'undefined') {\n",
       "        require.undef(\"plotly\");\n",
       "        requirejs.config({\n",
       "            paths: {\n",
       "                'plotly': ['https://cdn.plot.ly/plotly-latest.min']\n",
       "            }\n",
       "        });\n",
       "        require(['plotly'], function(Plotly) {\n",
       "            window._Plotly = Plotly;\n",
       "        });\n",
       "        }\n",
       "        </script>\n",
       "        "
      ]
     },
     "metadata": {},
     "output_type": "display_data"
    },
    {
     "data": {
      "application/vnd.plotly.v1+json": {
       "config": {
        "plotlyServerURL": "https://plot.ly"
       },
       "data": [
        {
         "hovertemplate": "Metric=Coherence<br># Topics=%{x}<br>Score=%{y}<extra></extra>",
         "legendgroup": "Coherence",
         "line": {
          "color": "#636efa",
          "dash": "solid",
          "shape": "linear"
         },
         "mode": "lines",
         "name": "Coherence",
         "orientation": "v",
         "showlegend": true,
         "type": "scatter",
         "x": [
          2,
          4,
          8,
          16,
          32,
          64,
          100,
          200,
          300,
          400
         ],
         "xaxis": "x",
         "y": [
          0.4132409002866795,
          0.42819533408287425,
          0.42360074242559087,
          0.43768530468679084,
          0.48070522808531496,
          0.4988606814330968,
          0.5147864819041308,
          0.523476738307259,
          0.5252037254209225,
          0.526860214047005
         ],
         "yaxis": "y"
        }
       ],
       "layout": {
        "legend": {
         "title": {
          "text": "Metric"
         },
         "tracegroupgap": 0
        },
        "plot_bgcolor": "rgb(245,245,245)",
        "template": {
         "data": {
          "bar": [
           {
            "error_x": {
             "color": "#2a3f5f"
            },
            "error_y": {
             "color": "#2a3f5f"
            },
            "marker": {
             "line": {
              "color": "#E5ECF6",
              "width": 0.5
             }
            },
            "type": "bar"
           }
          ],
          "barpolar": [
           {
            "marker": {
             "line": {
              "color": "#E5ECF6",
              "width": 0.5
             }
            },
            "type": "barpolar"
           }
          ],
          "carpet": [
           {
            "aaxis": {
             "endlinecolor": "#2a3f5f",
             "gridcolor": "white",
             "linecolor": "white",
             "minorgridcolor": "white",
             "startlinecolor": "#2a3f5f"
            },
            "baxis": {
             "endlinecolor": "#2a3f5f",
             "gridcolor": "white",
             "linecolor": "white",
             "minorgridcolor": "white",
             "startlinecolor": "#2a3f5f"
            },
            "type": "carpet"
           }
          ],
          "choropleth": [
           {
            "colorbar": {
             "outlinewidth": 0,
             "ticks": ""
            },
            "type": "choropleth"
           }
          ],
          "contour": [
           {
            "colorbar": {
             "outlinewidth": 0,
             "ticks": ""
            },
            "colorscale": [
             [
              0,
              "#0d0887"
             ],
             [
              0.1111111111111111,
              "#46039f"
             ],
             [
              0.2222222222222222,
              "#7201a8"
             ],
             [
              0.3333333333333333,
              "#9c179e"
             ],
             [
              0.4444444444444444,
              "#bd3786"
             ],
             [
              0.5555555555555556,
              "#d8576b"
             ],
             [
              0.6666666666666666,
              "#ed7953"
             ],
             [
              0.7777777777777778,
              "#fb9f3a"
             ],
             [
              0.8888888888888888,
              "#fdca26"
             ],
             [
              1,
              "#f0f921"
             ]
            ],
            "type": "contour"
           }
          ],
          "contourcarpet": [
           {
            "colorbar": {
             "outlinewidth": 0,
             "ticks": ""
            },
            "type": "contourcarpet"
           }
          ],
          "heatmap": [
           {
            "colorbar": {
             "outlinewidth": 0,
             "ticks": ""
            },
            "colorscale": [
             [
              0,
              "#0d0887"
             ],
             [
              0.1111111111111111,
              "#46039f"
             ],
             [
              0.2222222222222222,
              "#7201a8"
             ],
             [
              0.3333333333333333,
              "#9c179e"
             ],
             [
              0.4444444444444444,
              "#bd3786"
             ],
             [
              0.5555555555555556,
              "#d8576b"
             ],
             [
              0.6666666666666666,
              "#ed7953"
             ],
             [
              0.7777777777777778,
              "#fb9f3a"
             ],
             [
              0.8888888888888888,
              "#fdca26"
             ],
             [
              1,
              "#f0f921"
             ]
            ],
            "type": "heatmap"
           }
          ],
          "heatmapgl": [
           {
            "colorbar": {
             "outlinewidth": 0,
             "ticks": ""
            },
            "colorscale": [
             [
              0,
              "#0d0887"
             ],
             [
              0.1111111111111111,
              "#46039f"
             ],
             [
              0.2222222222222222,
              "#7201a8"
             ],
             [
              0.3333333333333333,
              "#9c179e"
             ],
             [
              0.4444444444444444,
              "#bd3786"
             ],
             [
              0.5555555555555556,
              "#d8576b"
             ],
             [
              0.6666666666666666,
              "#ed7953"
             ],
             [
              0.7777777777777778,
              "#fb9f3a"
             ],
             [
              0.8888888888888888,
              "#fdca26"
             ],
             [
              1,
              "#f0f921"
             ]
            ],
            "type": "heatmapgl"
           }
          ],
          "histogram": [
           {
            "marker": {
             "colorbar": {
              "outlinewidth": 0,
              "ticks": ""
             }
            },
            "type": "histogram"
           }
          ],
          "histogram2d": [
           {
            "colorbar": {
             "outlinewidth": 0,
             "ticks": ""
            },
            "colorscale": [
             [
              0,
              "#0d0887"
             ],
             [
              0.1111111111111111,
              "#46039f"
             ],
             [
              0.2222222222222222,
              "#7201a8"
             ],
             [
              0.3333333333333333,
              "#9c179e"
             ],
             [
              0.4444444444444444,
              "#bd3786"
             ],
             [
              0.5555555555555556,
              "#d8576b"
             ],
             [
              0.6666666666666666,
              "#ed7953"
             ],
             [
              0.7777777777777778,
              "#fb9f3a"
             ],
             [
              0.8888888888888888,
              "#fdca26"
             ],
             [
              1,
              "#f0f921"
             ]
            ],
            "type": "histogram2d"
           }
          ],
          "histogram2dcontour": [
           {
            "colorbar": {
             "outlinewidth": 0,
             "ticks": ""
            },
            "colorscale": [
             [
              0,
              "#0d0887"
             ],
             [
              0.1111111111111111,
              "#46039f"
             ],
             [
              0.2222222222222222,
              "#7201a8"
             ],
             [
              0.3333333333333333,
              "#9c179e"
             ],
             [
              0.4444444444444444,
              "#bd3786"
             ],
             [
              0.5555555555555556,
              "#d8576b"
             ],
             [
              0.6666666666666666,
              "#ed7953"
             ],
             [
              0.7777777777777778,
              "#fb9f3a"
             ],
             [
              0.8888888888888888,
              "#fdca26"
             ],
             [
              1,
              "#f0f921"
             ]
            ],
            "type": "histogram2dcontour"
           }
          ],
          "mesh3d": [
           {
            "colorbar": {
             "outlinewidth": 0,
             "ticks": ""
            },
            "type": "mesh3d"
           }
          ],
          "parcoords": [
           {
            "line": {
             "colorbar": {
              "outlinewidth": 0,
              "ticks": ""
             }
            },
            "type": "parcoords"
           }
          ],
          "pie": [
           {
            "automargin": true,
            "type": "pie"
           }
          ],
          "scatter": [
           {
            "marker": {
             "colorbar": {
              "outlinewidth": 0,
              "ticks": ""
             }
            },
            "type": "scatter"
           }
          ],
          "scatter3d": [
           {
            "line": {
             "colorbar": {
              "outlinewidth": 0,
              "ticks": ""
             }
            },
            "marker": {
             "colorbar": {
              "outlinewidth": 0,
              "ticks": ""
             }
            },
            "type": "scatter3d"
           }
          ],
          "scattercarpet": [
           {
            "marker": {
             "colorbar": {
              "outlinewidth": 0,
              "ticks": ""
             }
            },
            "type": "scattercarpet"
           }
          ],
          "scattergeo": [
           {
            "marker": {
             "colorbar": {
              "outlinewidth": 0,
              "ticks": ""
             }
            },
            "type": "scattergeo"
           }
          ],
          "scattergl": [
           {
            "marker": {
             "colorbar": {
              "outlinewidth": 0,
              "ticks": ""
             }
            },
            "type": "scattergl"
           }
          ],
          "scattermapbox": [
           {
            "marker": {
             "colorbar": {
              "outlinewidth": 0,
              "ticks": ""
             }
            },
            "type": "scattermapbox"
           }
          ],
          "scatterpolar": [
           {
            "marker": {
             "colorbar": {
              "outlinewidth": 0,
              "ticks": ""
             }
            },
            "type": "scatterpolar"
           }
          ],
          "scatterpolargl": [
           {
            "marker": {
             "colorbar": {
              "outlinewidth": 0,
              "ticks": ""
             }
            },
            "type": "scatterpolargl"
           }
          ],
          "scatterternary": [
           {
            "marker": {
             "colorbar": {
              "outlinewidth": 0,
              "ticks": ""
             }
            },
            "type": "scatterternary"
           }
          ],
          "surface": [
           {
            "colorbar": {
             "outlinewidth": 0,
             "ticks": ""
            },
            "colorscale": [
             [
              0,
              "#0d0887"
             ],
             [
              0.1111111111111111,
              "#46039f"
             ],
             [
              0.2222222222222222,
              "#7201a8"
             ],
             [
              0.3333333333333333,
              "#9c179e"
             ],
             [
              0.4444444444444444,
              "#bd3786"
             ],
             [
              0.5555555555555556,
              "#d8576b"
             ],
             [
              0.6666666666666666,
              "#ed7953"
             ],
             [
              0.7777777777777778,
              "#fb9f3a"
             ],
             [
              0.8888888888888888,
              "#fdca26"
             ],
             [
              1,
              "#f0f921"
             ]
            ],
            "type": "surface"
           }
          ],
          "table": [
           {
            "cells": {
             "fill": {
              "color": "#EBF0F8"
             },
             "line": {
              "color": "white"
             }
            },
            "header": {
             "fill": {
              "color": "#C8D4E3"
             },
             "line": {
              "color": "white"
             }
            },
            "type": "table"
           }
          ]
         },
         "layout": {
          "annotationdefaults": {
           "arrowcolor": "#2a3f5f",
           "arrowhead": 0,
           "arrowwidth": 1
          },
          "coloraxis": {
           "colorbar": {
            "outlinewidth": 0,
            "ticks": ""
           }
          },
          "colorscale": {
           "diverging": [
            [
             0,
             "#8e0152"
            ],
            [
             0.1,
             "#c51b7d"
            ],
            [
             0.2,
             "#de77ae"
            ],
            [
             0.3,
             "#f1b6da"
            ],
            [
             0.4,
             "#fde0ef"
            ],
            [
             0.5,
             "#f7f7f7"
            ],
            [
             0.6,
             "#e6f5d0"
            ],
            [
             0.7,
             "#b8e186"
            ],
            [
             0.8,
             "#7fbc41"
            ],
            [
             0.9,
             "#4d9221"
            ],
            [
             1,
             "#276419"
            ]
           ],
           "sequential": [
            [
             0,
             "#0d0887"
            ],
            [
             0.1111111111111111,
             "#46039f"
            ],
            [
             0.2222222222222222,
             "#7201a8"
            ],
            [
             0.3333333333333333,
             "#9c179e"
            ],
            [
             0.4444444444444444,
             "#bd3786"
            ],
            [
             0.5555555555555556,
             "#d8576b"
            ],
            [
             0.6666666666666666,
             "#ed7953"
            ],
            [
             0.7777777777777778,
             "#fb9f3a"
            ],
            [
             0.8888888888888888,
             "#fdca26"
            ],
            [
             1,
             "#f0f921"
            ]
           ],
           "sequentialminus": [
            [
             0,
             "#0d0887"
            ],
            [
             0.1111111111111111,
             "#46039f"
            ],
            [
             0.2222222222222222,
             "#7201a8"
            ],
            [
             0.3333333333333333,
             "#9c179e"
            ],
            [
             0.4444444444444444,
             "#bd3786"
            ],
            [
             0.5555555555555556,
             "#d8576b"
            ],
            [
             0.6666666666666666,
             "#ed7953"
            ],
            [
             0.7777777777777778,
             "#fb9f3a"
            ],
            [
             0.8888888888888888,
             "#fdca26"
            ],
            [
             1,
             "#f0f921"
            ]
           ]
          },
          "colorway": [
           "#636efa",
           "#EF553B",
           "#00cc96",
           "#ab63fa",
           "#FFA15A",
           "#19d3f3",
           "#FF6692",
           "#B6E880",
           "#FF97FF",
           "#FECB52"
          ],
          "font": {
           "color": "#2a3f5f"
          },
          "geo": {
           "bgcolor": "white",
           "lakecolor": "white",
           "landcolor": "#E5ECF6",
           "showlakes": true,
           "showland": true,
           "subunitcolor": "white"
          },
          "hoverlabel": {
           "align": "left"
          },
          "hovermode": "closest",
          "mapbox": {
           "style": "light"
          },
          "paper_bgcolor": "white",
          "plot_bgcolor": "#E5ECF6",
          "polar": {
           "angularaxis": {
            "gridcolor": "white",
            "linecolor": "white",
            "ticks": ""
           },
           "bgcolor": "#E5ECF6",
           "radialaxis": {
            "gridcolor": "white",
            "linecolor": "white",
            "ticks": ""
           }
          },
          "scene": {
           "xaxis": {
            "backgroundcolor": "#E5ECF6",
            "gridcolor": "white",
            "gridwidth": 2,
            "linecolor": "white",
            "showbackground": true,
            "ticks": "",
            "zerolinecolor": "white"
           },
           "yaxis": {
            "backgroundcolor": "#E5ECF6",
            "gridcolor": "white",
            "gridwidth": 2,
            "linecolor": "white",
            "showbackground": true,
            "ticks": "",
            "zerolinecolor": "white"
           },
           "zaxis": {
            "backgroundcolor": "#E5ECF6",
            "gridcolor": "white",
            "gridwidth": 2,
            "linecolor": "white",
            "showbackground": true,
            "ticks": "",
            "zerolinecolor": "white"
           }
          },
          "shapedefaults": {
           "line": {
            "color": "#2a3f5f"
           }
          },
          "ternary": {
           "aaxis": {
            "gridcolor": "white",
            "linecolor": "white",
            "ticks": ""
           },
           "baxis": {
            "gridcolor": "white",
            "linecolor": "white",
            "ticks": ""
           },
           "bgcolor": "#E5ECF6",
           "caxis": {
            "gridcolor": "white",
            "linecolor": "white",
            "ticks": ""
           }
          },
          "title": {
           "x": 0.05
          },
          "xaxis": {
           "automargin": true,
           "gridcolor": "white",
           "linecolor": "white",
           "ticks": "",
           "title": {
            "standoff": 15
           },
           "zerolinecolor": "white",
           "zerolinewidth": 2
          },
          "yaxis": {
           "automargin": true,
           "gridcolor": "white",
           "linecolor": "white",
           "ticks": "",
           "title": {
            "standoff": 15
           },
           "zerolinecolor": "white",
           "zerolinewidth": 2
          }
         }
        },
        "title": {
         "text": "Coherence Value and # of Topics"
        },
        "xaxis": {
         "anchor": "y",
         "domain": [
          0,
          1
         ],
         "title": {
          "text": "# Topics"
         }
        },
        "yaxis": {
         "anchor": "x",
         "domain": [
          0,
          1
         ],
         "title": {
          "text": "Score"
         }
        }
       }
      },
      "text/html": [
       "<div>\n",
       "        \n",
       "        \n",
       "            <div id=\"a229ed0c-67d6-408a-bec6-29e9e241e461\" class=\"plotly-graph-div\" style=\"height:525px; width:100%;\"></div>\n",
       "            <script type=\"text/javascript\">\n",
       "                require([\"plotly\"], function(Plotly) {\n",
       "                    window.PLOTLYENV=window.PLOTLYENV || {};\n",
       "                    \n",
       "                if (document.getElementById(\"a229ed0c-67d6-408a-bec6-29e9e241e461\")) {\n",
       "                    Plotly.newPlot(\n",
       "                        'a229ed0c-67d6-408a-bec6-29e9e241e461',\n",
       "                        [{\"hovertemplate\": \"Metric=Coherence<br># Topics=%{x}<br>Score=%{y}<extra></extra>\", \"legendgroup\": \"Coherence\", \"line\": {\"color\": \"#636efa\", \"dash\": \"solid\", \"shape\": \"linear\"}, \"mode\": \"lines\", \"name\": \"Coherence\", \"orientation\": \"v\", \"showlegend\": true, \"type\": \"scatter\", \"x\": [2, 4, 8, 16, 32, 64, 100, 200, 300, 400], \"xaxis\": \"x\", \"y\": [0.4132409002866795, 0.42819533408287425, 0.42360074242559087, 0.43768530468679084, 0.48070522808531496, 0.4988606814330968, 0.5147864819041308, 0.523476738307259, 0.5252037254209225, 0.526860214047005], \"yaxis\": \"y\"}],\n",
       "                        {\"legend\": {\"title\": {\"text\": \"Metric\"}, \"tracegroupgap\": 0}, \"plot_bgcolor\": \"rgb(245,245,245)\", \"template\": {\"data\": {\"bar\": [{\"error_x\": {\"color\": \"#2a3f5f\"}, \"error_y\": {\"color\": \"#2a3f5f\"}, \"marker\": {\"line\": {\"color\": \"#E5ECF6\", \"width\": 0.5}}, \"type\": \"bar\"}], \"barpolar\": [{\"marker\": {\"line\": {\"color\": \"#E5ECF6\", \"width\": 0.5}}, \"type\": \"barpolar\"}], \"carpet\": [{\"aaxis\": {\"endlinecolor\": \"#2a3f5f\", \"gridcolor\": \"white\", \"linecolor\": \"white\", \"minorgridcolor\": \"white\", \"startlinecolor\": \"#2a3f5f\"}, \"baxis\": {\"endlinecolor\": \"#2a3f5f\", \"gridcolor\": \"white\", \"linecolor\": \"white\", \"minorgridcolor\": \"white\", \"startlinecolor\": \"#2a3f5f\"}, \"type\": \"carpet\"}], \"choropleth\": [{\"colorbar\": {\"outlinewidth\": 0, \"ticks\": \"\"}, \"type\": \"choropleth\"}], \"contour\": [{\"colorbar\": {\"outlinewidth\": 0, \"ticks\": \"\"}, \"colorscale\": [[0.0, \"#0d0887\"], [0.1111111111111111, \"#46039f\"], [0.2222222222222222, \"#7201a8\"], [0.3333333333333333, \"#9c179e\"], [0.4444444444444444, \"#bd3786\"], [0.5555555555555556, \"#d8576b\"], [0.6666666666666666, \"#ed7953\"], [0.7777777777777778, \"#fb9f3a\"], [0.8888888888888888, \"#fdca26\"], [1.0, \"#f0f921\"]], \"type\": \"contour\"}], \"contourcarpet\": [{\"colorbar\": {\"outlinewidth\": 0, \"ticks\": \"\"}, \"type\": \"contourcarpet\"}], \"heatmap\": [{\"colorbar\": {\"outlinewidth\": 0, \"ticks\": \"\"}, \"colorscale\": [[0.0, \"#0d0887\"], [0.1111111111111111, \"#46039f\"], [0.2222222222222222, \"#7201a8\"], [0.3333333333333333, \"#9c179e\"], [0.4444444444444444, \"#bd3786\"], [0.5555555555555556, \"#d8576b\"], [0.6666666666666666, \"#ed7953\"], [0.7777777777777778, \"#fb9f3a\"], [0.8888888888888888, \"#fdca26\"], [1.0, \"#f0f921\"]], \"type\": \"heatmap\"}], \"heatmapgl\": [{\"colorbar\": {\"outlinewidth\": 0, \"ticks\": \"\"}, \"colorscale\": [[0.0, \"#0d0887\"], [0.1111111111111111, \"#46039f\"], [0.2222222222222222, \"#7201a8\"], [0.3333333333333333, \"#9c179e\"], [0.4444444444444444, \"#bd3786\"], [0.5555555555555556, \"#d8576b\"], [0.6666666666666666, \"#ed7953\"], [0.7777777777777778, \"#fb9f3a\"], [0.8888888888888888, \"#fdca26\"], [1.0, \"#f0f921\"]], \"type\": \"heatmapgl\"}], \"histogram\": [{\"marker\": {\"colorbar\": {\"outlinewidth\": 0, \"ticks\": \"\"}}, \"type\": \"histogram\"}], \"histogram2d\": [{\"colorbar\": {\"outlinewidth\": 0, \"ticks\": \"\"}, \"colorscale\": [[0.0, \"#0d0887\"], [0.1111111111111111, \"#46039f\"], [0.2222222222222222, \"#7201a8\"], [0.3333333333333333, \"#9c179e\"], [0.4444444444444444, \"#bd3786\"], [0.5555555555555556, \"#d8576b\"], [0.6666666666666666, \"#ed7953\"], [0.7777777777777778, \"#fb9f3a\"], [0.8888888888888888, \"#fdca26\"], [1.0, \"#f0f921\"]], \"type\": \"histogram2d\"}], \"histogram2dcontour\": [{\"colorbar\": {\"outlinewidth\": 0, \"ticks\": \"\"}, \"colorscale\": [[0.0, \"#0d0887\"], [0.1111111111111111, \"#46039f\"], [0.2222222222222222, \"#7201a8\"], [0.3333333333333333, \"#9c179e\"], [0.4444444444444444, \"#bd3786\"], [0.5555555555555556, \"#d8576b\"], [0.6666666666666666, \"#ed7953\"], [0.7777777777777778, \"#fb9f3a\"], [0.8888888888888888, \"#fdca26\"], [1.0, \"#f0f921\"]], \"type\": \"histogram2dcontour\"}], \"mesh3d\": [{\"colorbar\": {\"outlinewidth\": 0, \"ticks\": \"\"}, \"type\": \"mesh3d\"}], \"parcoords\": [{\"line\": {\"colorbar\": {\"outlinewidth\": 0, \"ticks\": \"\"}}, \"type\": \"parcoords\"}], \"pie\": [{\"automargin\": true, \"type\": \"pie\"}], \"scatter\": [{\"marker\": {\"colorbar\": {\"outlinewidth\": 0, \"ticks\": \"\"}}, \"type\": \"scatter\"}], \"scatter3d\": [{\"line\": {\"colorbar\": {\"outlinewidth\": 0, \"ticks\": \"\"}}, \"marker\": {\"colorbar\": {\"outlinewidth\": 0, \"ticks\": \"\"}}, \"type\": \"scatter3d\"}], \"scattercarpet\": [{\"marker\": {\"colorbar\": {\"outlinewidth\": 0, \"ticks\": \"\"}}, \"type\": \"scattercarpet\"}], \"scattergeo\": [{\"marker\": {\"colorbar\": {\"outlinewidth\": 0, \"ticks\": \"\"}}, \"type\": \"scattergeo\"}], \"scattergl\": [{\"marker\": {\"colorbar\": {\"outlinewidth\": 0, \"ticks\": \"\"}}, \"type\": \"scattergl\"}], \"scattermapbox\": [{\"marker\": {\"colorbar\": {\"outlinewidth\": 0, \"ticks\": \"\"}}, \"type\": \"scattermapbox\"}], \"scatterpolar\": [{\"marker\": {\"colorbar\": {\"outlinewidth\": 0, \"ticks\": \"\"}}, \"type\": \"scatterpolar\"}], \"scatterpolargl\": [{\"marker\": {\"colorbar\": {\"outlinewidth\": 0, \"ticks\": \"\"}}, \"type\": \"scatterpolargl\"}], \"scatterternary\": [{\"marker\": {\"colorbar\": {\"outlinewidth\": 0, \"ticks\": \"\"}}, \"type\": \"scatterternary\"}], \"surface\": [{\"colorbar\": {\"outlinewidth\": 0, \"ticks\": \"\"}, \"colorscale\": [[0.0, \"#0d0887\"], [0.1111111111111111, \"#46039f\"], [0.2222222222222222, \"#7201a8\"], [0.3333333333333333, \"#9c179e\"], [0.4444444444444444, \"#bd3786\"], [0.5555555555555556, \"#d8576b\"], [0.6666666666666666, \"#ed7953\"], [0.7777777777777778, \"#fb9f3a\"], [0.8888888888888888, \"#fdca26\"], [1.0, \"#f0f921\"]], \"type\": \"surface\"}], \"table\": [{\"cells\": {\"fill\": {\"color\": \"#EBF0F8\"}, \"line\": {\"color\": \"white\"}}, \"header\": {\"fill\": {\"color\": \"#C8D4E3\"}, \"line\": {\"color\": \"white\"}}, \"type\": \"table\"}]}, \"layout\": {\"annotationdefaults\": {\"arrowcolor\": \"#2a3f5f\", \"arrowhead\": 0, \"arrowwidth\": 1}, \"coloraxis\": {\"colorbar\": {\"outlinewidth\": 0, \"ticks\": \"\"}}, \"colorscale\": {\"diverging\": [[0, \"#8e0152\"], [0.1, \"#c51b7d\"], [0.2, \"#de77ae\"], [0.3, \"#f1b6da\"], [0.4, \"#fde0ef\"], [0.5, \"#f7f7f7\"], [0.6, \"#e6f5d0\"], [0.7, \"#b8e186\"], [0.8, \"#7fbc41\"], [0.9, \"#4d9221\"], [1, \"#276419\"]], \"sequential\": [[0.0, \"#0d0887\"], [0.1111111111111111, \"#46039f\"], [0.2222222222222222, \"#7201a8\"], [0.3333333333333333, \"#9c179e\"], [0.4444444444444444, \"#bd3786\"], [0.5555555555555556, \"#d8576b\"], [0.6666666666666666, \"#ed7953\"], [0.7777777777777778, \"#fb9f3a\"], [0.8888888888888888, \"#fdca26\"], [1.0, \"#f0f921\"]], \"sequentialminus\": [[0.0, \"#0d0887\"], [0.1111111111111111, \"#46039f\"], [0.2222222222222222, \"#7201a8\"], [0.3333333333333333, \"#9c179e\"], [0.4444444444444444, \"#bd3786\"], [0.5555555555555556, \"#d8576b\"], [0.6666666666666666, \"#ed7953\"], [0.7777777777777778, \"#fb9f3a\"], [0.8888888888888888, \"#fdca26\"], [1.0, \"#f0f921\"]]}, \"colorway\": [\"#636efa\", \"#EF553B\", \"#00cc96\", \"#ab63fa\", \"#FFA15A\", \"#19d3f3\", \"#FF6692\", \"#B6E880\", \"#FF97FF\", \"#FECB52\"], \"font\": {\"color\": \"#2a3f5f\"}, \"geo\": {\"bgcolor\": \"white\", \"lakecolor\": \"white\", \"landcolor\": \"#E5ECF6\", \"showlakes\": true, \"showland\": true, \"subunitcolor\": \"white\"}, \"hoverlabel\": {\"align\": \"left\"}, \"hovermode\": \"closest\", \"mapbox\": {\"style\": \"light\"}, \"paper_bgcolor\": \"white\", \"plot_bgcolor\": \"#E5ECF6\", \"polar\": {\"angularaxis\": {\"gridcolor\": \"white\", \"linecolor\": \"white\", \"ticks\": \"\"}, \"bgcolor\": \"#E5ECF6\", \"radialaxis\": {\"gridcolor\": \"white\", \"linecolor\": \"white\", \"ticks\": \"\"}}, \"scene\": {\"xaxis\": {\"backgroundcolor\": \"#E5ECF6\", \"gridcolor\": \"white\", \"gridwidth\": 2, \"linecolor\": \"white\", \"showbackground\": true, \"ticks\": \"\", \"zerolinecolor\": \"white\"}, \"yaxis\": {\"backgroundcolor\": \"#E5ECF6\", \"gridcolor\": \"white\", \"gridwidth\": 2, \"linecolor\": \"white\", \"showbackground\": true, \"ticks\": \"\", \"zerolinecolor\": \"white\"}, \"zaxis\": {\"backgroundcolor\": \"#E5ECF6\", \"gridcolor\": \"white\", \"gridwidth\": 2, \"linecolor\": \"white\", \"showbackground\": true, \"ticks\": \"\", \"zerolinecolor\": \"white\"}}, \"shapedefaults\": {\"line\": {\"color\": \"#2a3f5f\"}}, \"ternary\": {\"aaxis\": {\"gridcolor\": \"white\", \"linecolor\": \"white\", \"ticks\": \"\"}, \"baxis\": {\"gridcolor\": \"white\", \"linecolor\": \"white\", \"ticks\": \"\"}, \"bgcolor\": \"#E5ECF6\", \"caxis\": {\"gridcolor\": \"white\", \"linecolor\": \"white\", \"ticks\": \"\"}}, \"title\": {\"x\": 0.05}, \"xaxis\": {\"automargin\": true, \"gridcolor\": \"white\", \"linecolor\": \"white\", \"ticks\": \"\", \"title\": {\"standoff\": 15}, \"zerolinecolor\": \"white\", \"zerolinewidth\": 2}, \"yaxis\": {\"automargin\": true, \"gridcolor\": \"white\", \"linecolor\": \"white\", \"ticks\": \"\", \"title\": {\"standoff\": 15}, \"zerolinecolor\": \"white\", \"zerolinewidth\": 2}}}, \"title\": {\"text\": \"Coherence Value and # of Topics\"}, \"xaxis\": {\"anchor\": \"y\", \"domain\": [0.0, 1.0], \"title\": {\"text\": \"# Topics\"}}, \"yaxis\": {\"anchor\": \"x\", \"domain\": [0.0, 1.0], \"title\": {\"text\": \"Score\"}}},\n",
       "                        {\"responsive\": true}\n",
       "                    ).then(function(){\n",
       "                            \n",
       "var gd = document.getElementById('a229ed0c-67d6-408a-bec6-29e9e241e461');\n",
       "var x = new MutationObserver(function (mutations, observer) {{\n",
       "        var display = window.getComputedStyle(gd).display;\n",
       "        if (!display || display === 'none') {{\n",
       "            console.log([gd, 'removed!']);\n",
       "            Plotly.purge(gd);\n",
       "            observer.disconnect();\n",
       "        }}\n",
       "}});\n",
       "\n",
       "// Listen for the removal of the full notebook cells\n",
       "var notebookContainer = gd.closest('#notebook-container');\n",
       "if (notebookContainer) {{\n",
       "    x.observe(notebookContainer, {childList: true});\n",
       "}}\n",
       "\n",
       "// Listen for the clearing of the current output cell\n",
       "var outputEl = gd.closest('.output');\n",
       "if (outputEl) {{\n",
       "    x.observe(outputEl, {childList: true});\n",
       "}}\n",
       "\n",
       "                        })\n",
       "                };\n",
       "                });\n",
       "            </script>\n",
       "        </div>"
      ]
     },
     "metadata": {},
     "output_type": "display_data"
    },
    {
     "name": "stdout",
     "output_type": "stream",
     "text": [
      "Best Model: Latent Dirichlet Allocation | # Topics: 400 | Coherence: 0.5269\n"
     ]
    }
   ],
   "source": [
    "tune_lda_positive = tune_model(model='lda', supervised_target=None, estimator='xgboost')"
   ]
  },
  {
   "cell_type": "markdown",
   "metadata": {},
   "source": [
    "generates 8 topics"
   ]
  },
  {
   "cell_type": "code",
   "execution_count": 11,
   "metadata": {},
   "outputs": [
    {
     "name": "stdout",
     "output_type": "stream",
     "text": [
      "LdaModel(num_terms=4658, num_topics=8, decay=0.5, chunksize=100)\n"
     ]
    }
   ],
   "source": [
    "#create an LDA model\n",
    "tuned_pos_8 = create_model('lda', num_topics = 8)\n",
    "print(tuned_pos_8)"
   ]
  },
  {
   "cell_type": "code",
   "execution_count": 12,
   "metadata": {},
   "outputs": [],
   "source": [
    "apply_tuned_pos = assign_model(tuned_pos_8)"
   ]
  },
  {
   "cell_type": "code",
   "execution_count": 13,
   "metadata": {},
   "outputs": [
    {
     "data": {
      "application/vnd.jupyter.widget-view+json": {
       "model_id": "51c51ea4fcd340e5a0c5bac5bd377157",
       "version_major": 2,
       "version_minor": 0
      },
      "text/plain": [
       "interactive(children=(ToggleButtons(description='Plot Type:', icons=('',), options=(('Frequency Plot', 'freque…"
      ]
     },
     "metadata": {},
     "output_type": "display_data"
    }
   ],
   "source": [
    "evaluate_model(tuned_pos_8)"
   ]
  },
  {
   "cell_type": "code",
   "execution_count": 14,
   "metadata": {},
   "outputs": [
    {
     "data": {
      "text/html": [
       "        <script type=\"text/javascript\">\n",
       "        window.PlotlyConfig = {MathJaxConfig: 'local'};\n",
       "        if (window.MathJax) {MathJax.Hub.Config({SVG: {font: \"STIX-Web\"}});}\n",
       "        if (typeof require !== 'undefined') {\n",
       "        require.undef(\"plotly\");\n",
       "        requirejs.config({\n",
       "            paths: {\n",
       "                'plotly': ['https://cdn.plot.ly/plotly-latest.min']\n",
       "            }\n",
       "        });\n",
       "        require(['plotly'], function(Plotly) {\n",
       "            window._Plotly = Plotly;\n",
       "        });\n",
       "        }\n",
       "        </script>\n",
       "        "
      ]
     },
     "metadata": {},
     "output_type": "display_data"
    },
    {
     "data": {
      "text/html": [
       "\n",
       "<link rel=\"stylesheet\" type=\"text/css\" href=\"https://cdn.rawgit.com/bmabey/pyLDAvis/files/ldavis.v1.0.0.css\">\n",
       "\n",
       "\n",
       "<div id=\"ldavis_el30275230020806165206326420033\"></div>\n",
       "<script type=\"text/javascript\">\n",
       "\n",
       "var ldavis_el30275230020806165206326420033_data = {\"mdsDat\": {\"x\": [-0.05715807173508859, -0.11308884794814376, -0.34587437303246155, -0.312772141528335, 0.2695255568084642, 0.3079942765528123, 0.20893794878012428, 0.04243565210262807], \"y\": [0.38984001030122506, -0.3838777469816069, -0.13126144666989537, 0.19482775777669184, -0.25756371989858207, 0.01896630674521968, 0.2012404253422348, -0.032171586615287066], \"topics\": [1, 2, 3, 4, 5, 6, 7, 8], \"cluster\": [1, 1, 1, 1, 1, 1, 1, 1], \"Freq\": [24.53854751586914, 23.829927444458008, 16.355606079101562, 16.06192970275879, 10.063891410827637, 5.014149188995361, 2.0920910835266113, 2.0438573360443115]}, \"tinfo\": {\"Term\": [\"visit\", \"side\", \"turkish\", \"worth\", \"passport\", \"go\", \"view\", \"part\", \"old\", \"well\", \"point\", \"border\", \"give\", \"walk\", \"interesting\", \"beer\", \"area\", \"church\", \"city\", \"look\", \"need\", \"many\", \"make\", \"really\", \"lot\", \"take\", \"see\", \"cross\", \"mosque\", \"greek\", \"old\", \"walk\", \"area\", \"really\", \"lot\", \"day\", \"back\", \"town\", \"building\", \"locate\", \"main\", \"architecture\", \"important\", \"night\", \"observatory\", \"bit\", \"short\", \"video\", \"information\", \"divide\", \"around\", \"cover\", \"check\", \"interest\", \"bar\", \"icon\", \"help\", \"nicosia\", \"perfect\", \"lovely\", \"go\", \"feel\", \"friendly\", \"take\", \"people\", \"offer\", \"enjoy\", \"city\", \"also\", \"small\", \"time\", \"street\", \"see\", \"visit\", \"worth\", \"interesting\", \"many\", \"experience\", \"different\", \"museum\", \"name\", \"show\", \"cheap\", \"cemetery\", \"full\", \"quality\", \"price\", \"amazing\", \"special\", \"long\", \"historical\", \"display\", \"present\", \"pretty\", \"especially\", \"several\", \"visitor\", \"know\", \"friend\", \"late\", \"enter\", \"taste\", \"culture\", \"well\", \"whole\", \"even\", \"beautiful\", \"cross\", \"history\", \"definitely\", \"see\", \"time\", \"also\", \"small\", \"shop\", \"side\", \"turkish\", \"part\", \"border\", \"church\", \"greek\", \"crossing\", \"easy\", \"north\", \"tourist\", \"northern\", \"simple\", \"say\", \"occupy\", \"former\", \"beautifully\", \"market\", \"gate\", \"plan\", \"flag\", \"seem\", \"euro\", \"idea\", \"busy\", \"glass\", \"sadly\", \"control\", \"stamp\", \"silver\", \"access\", \"local\", \"city\", \"shop\", \"buy\", \"see\", \"get\", \"cypriot\", \"way\", \"much\", \"street\", \"view\", \"beer\", \"look\", \"make\", \"mosque\", \"build\", \"large\", \"tour\", \"garden\", \"dome\", \"style\", \"however\", \"unfortunately\", \"inside\", \"right\", \"love\", \"first\", \"lift\", \"picture\", \"set\", \"entrance\", \"atmosphere\", \"outside\", \"window\", \"forget\", \"mountain\", \"drink\", \"end\", \"read\", \"preserve\", \"floor\", \"top\", \"recommend\", \"find\", \"quite\", \"next\", \"little\", \"get\", \"way\", \"see\", \"passport\", \"point\", \"need\", \"thing\", \"helpful\", \"free\", \"still\", \"stay\", \"attractive\", \"tower\", \"situate\", \"huge\", \"never\", \"typical\", \"green\", \"owner\", \"parking\", \"tell\", \"lock\", \"hopefully\", \"south\", \"welcome\", \"female\", \"queue\", \"choice\", \"stand\", \"door\", \"bag\", \"fascinating\", \"produce\", \"staff\", \"line\", \"get\", \"give\", \"use\", \"ask\", \"past\", \"far\", \"expect\", \"call\", \"brew\", \"classical\", \"live\", \"talk\", \"week\", \"sight\", \"fresh\", \"bed\", \"spectacular\", \"later\", \"man\", \"one\", \"type\", \"opinion\", \"young\", \"certain\", \"seasonal\", \"brother\", \"cook\", \"star\", \"become\", \"twice\", \"together\", \"overall\", \"service\", \"tombstone\", \"big\", \"country\", \"language\", \"informative\", \"explanation\", \"carpet\", \"kind\", \"translation\", \"hall\", \"automatic\", \"virtual\", \"commander\", \"graveyard\", \"islamic\", \"ottoman\", \"probably\", \"chance\", \"put\", \"highlight\", \"create\", \"paphos_gate\", \"note\", \"card\", \"period\", \"wrong\", \"begin\", \"write\", \"recommendation\", \"limit\", \"try\", \"eat\", \"bring\", \"delicious\", \"middle\", \"fast\", \"fine\", \"appreciate\", \"paper\", \"salad\", \"brief\", \"hope\", \"bazaar\", \"lack\", \"flavor\", \"guest\", \"pray\", \"reasonable_price\", \"peace\", \"combine\", \"fake_good\", \"rise\", \"otherwise\", \"establishment\", \"exchange\", \"conversation\", \"charming\", \"operate\", \"admit\", \"reminder\"], \"Freq\": [743.0, 576.0, 422.0, 440.0, 261.0, 457.0, 293.0, 291.0, 374.0, 413.0, 214.0, 271.0, 150.0, 329.0, 322.0, 247.0, 285.0, 207.0, 472.0, 202.0, 138.0, 222.0, 166.0, 217.0, 217.0, 322.0, 666.0, 283.0, 149.0, 150.0, 373.5635070800781, 329.07867431640625, 284.4976501464844, 216.78665161132812, 216.60183715820312, 179.38327026367188, 148.6503448486328, 141.2783966064453, 185.07359313964844, 105.19194793701172, 101.69883728027344, 100.0611572265625, 90.16085815429688, 87.06060791015625, 86.5994873046875, 85.09581756591797, 84.77490997314453, 84.0910415649414, 77.67726135253906, 76.78766632080078, 75.65753173828125, 75.55823516845703, 72.31161499023438, 68.64585876464844, 66.42677307128906, 65.52339172363281, 64.34186553955078, 60.02078628540039, 59.259368896484375, 56.932037353515625, 450.0943298339844, 121.43385314941406, 140.31158447265625, 260.6761169433594, 106.05322265625, 92.38896942138672, 93.4195556640625, 218.78359985351562, 132.89486694335938, 113.46760559082031, 109.7999496459961, 86.47265625, 90.59905242919922, 742.9203491210938, 439.9405212402344, 321.4891357421875, 221.9090576171875, 191.04617309570312, 170.1166229248047, 121.44432830810547, 117.24943542480469, 95.61779022216797, 91.51923370361328, 91.26630401611328, 82.55306243896484, 82.50947570800781, 80.95597839355469, 77.88825988769531, 77.66577911376953, 76.73912048339844, 76.46646118164062, 71.34590148925781, 67.820068359375, 65.62247467041016, 64.0367202758789, 64.06483459472656, 61.703460693359375, 60.0777587890625, 55.55721664428711, 53.834049224853516, 52.987205505371094, 52.907859802246094, 52.07681655883789, 399.5900573730469, 88.6153793334961, 119.24822998046875, 172.95733642578125, 234.09080505371094, 191.1143341064453, 109.29303741455078, 328.9210205078125, 184.67172241210938, 136.35409545898438, 131.67108154296875, 105.46843719482422, 575.8179931640625, 421.96917724609375, 290.2464904785156, 270.35162353515625, 206.71139526367188, 149.92947387695312, 126.50537872314453, 119.24483489990234, 105.72696685791016, 84.62967681884766, 68.3780517578125, 65.31759643554688, 63.7476806640625, 63.58631134033203, 59.005882263183594, 58.00343704223633, 55.653724670410156, 55.50941467285156, 53.51371383666992, 49.283538818359375, 48.9070930480957, 51.27632522583008, 43.09656524658203, 42.3634033203125, 40.7339973449707, 39.5583381652832, 38.24760437011719, 38.048980712890625, 38.05747985839844, 37.48725509643555, 100.25686645507812, 224.81936645507812, 135.09091186523438, 42.29584884643555, 199.52294921875, 83.67845153808594, 60.17727279663086, 52.413047790527344, 50.92751693725586, 49.709468841552734, 292.1822814941406, 246.973876953125, 201.3004913330078, 165.76785278320312, 148.6948699951172, 143.28713989257812, 105.45909118652344, 103.26464080810547, 88.04440307617188, 84.45565795898438, 73.6645278930664, 68.64414978027344, 68.58078002929688, 65.41191864013672, 57.143577575683594, 56.037296295166016, 55.348777770996094, 54.35118865966797, 47.89680099487305, 47.05111312866211, 46.668453216552734, 46.48468017578125, 45.76890182495117, 45.625362396240234, 41.7234992980957, 41.456443786621094, 41.04134750366211, 39.900917053222656, 39.459407806396484, 38.66849136352539, 66.5219955444336, 64.91273498535156, 69.66488647460938, 131.2553253173828, 71.47228240966797, 57.54454803466797, 68.52995300292969, 65.90658569335938, 47.5519905090332, 46.84736633300781, 260.3421325683594, 213.67811584472656, 138.09823608398438, 99.71017456054688, 96.57158660888672, 86.38018798828125, 84.5080795288086, 96.29586791992188, 71.53871154785156, 67.13335418701172, 63.607479095458984, 55.62986755371094, 49.01054000854492, 47.32769775390625, 40.3741340637207, 39.486610412597656, 39.288883209228516, 36.62852096557617, 36.755332946777344, 36.36280059814453, 35.841793060302734, 33.419761657714844, 33.73530960083008, 32.643428802490234, 31.768295288085938, 29.266094207763672, 28.9249210357666, 24.67940330505371, 24.366178512573242, 24.220304489135742, 87.70197296142578, 37.235416412353516, 30.121795654296875, 149.4844207763672, 86.47044372558594, 43.03773880004883, 42.673606872558594, 40.248050689697266, 38.89330291748047, 36.455604553222656, 36.188568115234375, 33.90626525878906, 24.68572998046875, 24.025115966796875, 22.213106155395508, 22.108999252319336, 17.991151809692383, 17.853885650634766, 16.697345733642578, 16.33320426940918, 16.033071517944336, 15.285176277160645, 14.268874168395996, 14.053855895996094, 13.768375396728516, 12.925068855285645, 12.6445951461792, 12.602991104125977, 12.539566993713379, 11.995244979858398, 11.69406795501709, 11.617368698120117, 11.493207931518555, 20.745542526245117, 40.231346130371094, 62.828460693359375, 39.38044357299805, 38.80842971801758, 31.49702262878418, 30.782665252685547, 19.5516300201416, 18.261415481567383, 16.424026489257812, 16.145883560180664, 16.224519729614258, 15.670281410217285, 15.670281410217285, 15.656585693359375, 15.656585693359375, 15.656585693359375, 15.656585693359375, 11.423276901245117, 10.986600875854492, 10.927962303161621, 9.115894317626953, 7.672811031341553, 7.613508224487305, 6.794972896575928, 6.750378608703613, 6.4530134201049805, 6.199672222137451, 5.707333087921143, 5.593685626983643, 5.553730487823486, 4.713291168212891, 54.43244552612305, 25.956771850585938, 24.643306732177734, 17.521400451660156, 16.391008377075195, 15.549867630004883, 15.089579582214355, 14.658512115478516, 14.081436157226562, 12.679445266723633, 11.34831714630127, 10.759815216064453, 9.78597640991211, 9.613785743713379, 9.424322128295898, 9.384315490722656, 8.523449897766113, 8.462228775024414, 7.9860029220581055, 7.507882118225098, 6.1640424728393555, 6.1207594871521, 5.979111671447754, 5.899236679077148, 5.076711177825928, 5.070026397705078, 4.364452362060547, 3.618182420730591, 3.4410064220428467, 3.307535409927368], \"Total\": [743.0, 576.0, 422.0, 440.0, 261.0, 457.0, 293.0, 291.0, 374.0, 413.0, 214.0, 271.0, 150.0, 329.0, 322.0, 247.0, 285.0, 207.0, 472.0, 202.0, 138.0, 222.0, 166.0, 217.0, 217.0, 322.0, 666.0, 283.0, 149.0, 150.0, 374.40179443359375, 329.9132080078125, 285.33203125, 217.6207733154297, 217.4360809326172, 180.2178192138672, 149.48443603515625, 142.1125946044922, 186.17044067382812, 106.02631378173828, 102.53303527832031, 100.8964614868164, 90.99563598632812, 87.89446258544922, 87.4390869140625, 85.93001556396484, 85.60916900634766, 84.9289779663086, 78.5118637084961, 77.6224365234375, 76.4939956665039, 76.3944320678711, 73.14594268798828, 69.48094940185547, 67.26081085205078, 66.36122131347656, 65.1773910522461, 60.854957580566406, 60.094383239746094, 57.76582717895508, 457.1746520996094, 127.38518524169922, 154.0037078857422, 322.2470397949219, 115.72451782226562, 100.37291717529297, 104.88907623291016, 472.2913818359375, 275.1204528808594, 260.5816955566406, 295.1680908203125, 136.8917694091797, 666.3455810546875, 743.7507934570312, 440.7710266113281, 322.3195495605469, 222.7395477294922, 191.8765411376953, 170.9474334716797, 122.27434539794922, 118.08271789550781, 96.44806671142578, 92.3500747680664, 92.14330291748047, 83.3837890625, 83.34048461914062, 81.7861557006836, 78.7186279296875, 78.49712371826172, 77.56949615478516, 77.29673767089844, 72.17652130126953, 68.65081787109375, 66.45284271240234, 64.86711120605469, 64.89579010009766, 62.5340461730957, 60.907989501953125, 56.38785171508789, 54.665313720703125, 53.81769561767578, 53.740230560302734, 52.906742095947266, 413.7535400390625, 90.6512451171875, 122.75861358642578, 182.70806884765625, 283.2839660644531, 235.02297973632812, 131.60475158691406, 666.3455810546875, 295.1680908203125, 275.1204528808594, 260.5816955566406, 250.58688354492188, 576.6611938476562, 422.8124694824219, 291.0909118652344, 271.1949462890625, 207.5574951171875, 150.7725830078125, 127.34862518310547, 120.1407241821289, 106.57100677490234, 85.47432708740234, 69.2214584350586, 66.16152954101562, 64.59134674072266, 64.42994689941406, 59.85865020751953, 58.85728073120117, 56.49761199951172, 56.35630416870117, 54.35902786254883, 50.12786102294922, 49.75051498413086, 52.2055549621582, 43.94274139404297, 43.20704650878906, 41.58034896850586, 40.40715026855469, 39.09062194824219, 38.89216995239258, 38.90388107299805, 38.33115005493164, 121.15162658691406, 472.2913818359375, 250.58688354492188, 45.71808624267578, 666.3455810546875, 258.9140319824219, 125.41686248779297, 120.17989349365234, 125.48957061767578, 136.8917694091797, 293.0358581542969, 247.8267822265625, 202.15150451660156, 166.6186981201172, 149.5519256591797, 144.13902282714844, 106.31050872802734, 104.11785888671875, 88.901123046875, 85.3116455078125, 74.51653289794922, 69.4950942993164, 69.43228149414062, 66.26428985595703, 57.99449920654297, 56.88798904418945, 56.199501037597656, 55.20398712158203, 48.7486572265625, 47.90232467651367, 47.520267486572266, 47.33558654785156, 46.62080383300781, 46.477272033691406, 42.5759162902832, 42.310462951660156, 41.89191436767578, 40.751834869384766, 40.31085968017578, 39.52070236206055, 74.34066772460938, 72.31514739990234, 79.18035888671875, 173.1905517578125, 83.72509002685547, 83.19259643554688, 121.09423828125, 258.9140319824219, 120.17989349365234, 666.3455810546875, 261.1626892089844, 214.4984130859375, 138.91799926757812, 100.53008270263672, 97.39463806152344, 87.20035552978516, 85.32808685302734, 97.37293243408203, 72.36734008789062, 67.9586181640625, 64.42853546142578, 56.45191192626953, 49.830406188964844, 48.150390625, 41.19706344604492, 40.307376861572266, 40.1086540222168, 37.448707580566406, 37.58041763305664, 37.20311737060547, 36.68877410888672, 34.2398567199707, 34.57115936279297, 33.463504791259766, 32.58908462524414, 30.085891723632812, 29.744850158691406, 25.49956512451172, 25.186574935913086, 25.04217529296875, 159.177978515625, 75.34803009033203, 258.9140319824219, 150.31480407714844, 87.29998016357422, 43.867095947265625, 43.50712585449219, 41.07786178588867, 39.7230224609375, 37.285221099853516, 37.02090072631836, 34.74895095825195, 25.515512466430664, 24.85491943359375, 23.042734146118164, 22.939529418945312, 18.820676803588867, 18.682819366455078, 17.529970169067383, 17.162567138671875, 16.862533569335938, 16.114341735839844, 15.098666191101074, 14.883591651916504, 14.597792625427246, 13.755224227905273, 13.477904319763184, 13.433599472045898, 13.369384765625, 12.824058532714844, 12.523653984069824, 12.447111129760742, 12.322689056396484, 27.495134353637695, 75.30669403076172, 63.76294708251953, 40.27740478515625, 39.70563507080078, 32.395751953125, 31.681840896606445, 20.450225830078125, 19.160673141479492, 17.321645736694336, 17.04656982421875, 17.150175094604492, 16.584142684936523, 16.584142684936523, 16.575895309448242, 16.575895309448242, 16.575895309448242, 16.575895309448242, 12.321063995361328, 11.884602546691895, 11.825411796569824, 10.013849258422852, 8.570304870605469, 8.516605377197266, 7.692409515380859, 7.647911548614502, 7.349705219268799, 7.097679138183594, 6.605078220367432, 6.490603446960449, 6.453014850616455, 5.6106367111206055, 55.30243682861328, 26.82614517211914, 25.513158798217773, 18.391178131103516, 17.260929107666016, 16.4198055267334, 15.959217071533203, 15.528836250305176, 14.95179271697998, 13.554694175720215, 12.222410202026367, 11.629754066467285, 10.656171798706055, 10.485800743103027, 10.29468059539795, 10.253926277160645, 9.394200325012207, 9.332444190979004, 8.856001853942871, 8.379266738891602, 7.033987045288086, 6.991514205932617, 6.850278854370117, 6.774371147155762, 5.946366310119629, 5.94164514541626, 5.234258651733398, 4.487933158874512, 4.311441898345947, 4.177328586578369], \"Category\": [\"Default\", \"Default\", \"Default\", \"Default\", \"Default\", \"Default\", \"Default\", \"Default\", \"Default\", \"Default\", \"Default\", \"Default\", \"Default\", \"Default\", \"Default\", \"Default\", \"Default\", \"Default\", \"Default\", \"Default\", \"Default\", \"Default\", \"Default\", \"Default\", \"Default\", \"Default\", \"Default\", \"Default\", \"Default\", \"Default\", \"Topic1\", \"Topic1\", \"Topic1\", \"Topic1\", \"Topic1\", \"Topic1\", \"Topic1\", \"Topic1\", \"Topic1\", \"Topic1\", \"Topic1\", \"Topic1\", \"Topic1\", \"Topic1\", \"Topic1\", \"Topic1\", \"Topic1\", \"Topic1\", \"Topic1\", \"Topic1\", \"Topic1\", \"Topic1\", \"Topic1\", \"Topic1\", \"Topic1\", \"Topic1\", \"Topic1\", \"Topic1\", \"Topic1\", \"Topic1\", \"Topic1\", \"Topic1\", \"Topic1\", \"Topic1\", \"Topic1\", \"Topic1\", \"Topic1\", \"Topic1\", \"Topic1\", \"Topic1\", \"Topic1\", \"Topic1\", \"Topic1\", \"Topic2\", \"Topic2\", \"Topic2\", \"Topic2\", \"Topic2\", \"Topic2\", \"Topic2\", \"Topic2\", \"Topic2\", \"Topic2\", \"Topic2\", \"Topic2\", \"Topic2\", \"Topic2\", \"Topic2\", \"Topic2\", \"Topic2\", \"Topic2\", \"Topic2\", \"Topic2\", \"Topic2\", \"Topic2\", \"Topic2\", \"Topic2\", \"Topic2\", \"Topic2\", \"Topic2\", \"Topic2\", \"Topic2\", \"Topic2\", \"Topic2\", \"Topic2\", \"Topic2\", \"Topic2\", \"Topic2\", \"Topic2\", \"Topic2\", \"Topic2\", \"Topic2\", \"Topic2\", \"Topic2\", \"Topic2\", \"Topic3\", \"Topic3\", \"Topic3\", \"Topic3\", \"Topic3\", \"Topic3\", \"Topic3\", \"Topic3\", \"Topic3\", \"Topic3\", \"Topic3\", \"Topic3\", \"Topic3\", \"Topic3\", \"Topic3\", \"Topic3\", \"Topic3\", \"Topic3\", \"Topic3\", \"Topic3\", \"Topic3\", \"Topic3\", \"Topic3\", \"Topic3\", \"Topic3\", \"Topic3\", \"Topic3\", \"Topic3\", \"Topic3\", \"Topic3\", \"Topic3\", \"Topic3\", \"Topic3\", \"Topic3\", \"Topic3\", \"Topic3\", \"Topic3\", \"Topic3\", \"Topic3\", \"Topic3\", \"Topic4\", \"Topic4\", \"Topic4\", \"Topic4\", \"Topic4\", \"Topic4\", \"Topic4\", \"Topic4\", \"Topic4\", \"Topic4\", \"Topic4\", \"Topic4\", \"Topic4\", \"Topic4\", \"Topic4\", \"Topic4\", \"Topic4\", \"Topic4\", \"Topic4\", \"Topic4\", \"Topic4\", \"Topic4\", \"Topic4\", \"Topic4\", \"Topic4\", \"Topic4\", \"Topic4\", \"Topic4\", \"Topic4\", \"Topic4\", \"Topic4\", \"Topic4\", \"Topic4\", \"Topic4\", \"Topic4\", \"Topic4\", \"Topic4\", \"Topic4\", \"Topic4\", \"Topic4\", \"Topic5\", \"Topic5\", \"Topic5\", \"Topic5\", \"Topic5\", \"Topic5\", \"Topic5\", \"Topic5\", \"Topic5\", \"Topic5\", \"Topic5\", \"Topic5\", \"Topic5\", \"Topic5\", \"Topic5\", \"Topic5\", \"Topic5\", \"Topic5\", \"Topic5\", \"Topic5\", \"Topic5\", \"Topic5\", \"Topic5\", \"Topic5\", \"Topic5\", \"Topic5\", \"Topic5\", \"Topic5\", \"Topic5\", \"Topic5\", \"Topic5\", \"Topic5\", \"Topic5\", \"Topic6\", \"Topic6\", \"Topic6\", \"Topic6\", \"Topic6\", \"Topic6\", \"Topic6\", \"Topic6\", \"Topic6\", \"Topic6\", \"Topic6\", \"Topic6\", \"Topic6\", \"Topic6\", \"Topic6\", \"Topic6\", \"Topic6\", \"Topic6\", \"Topic6\", \"Topic6\", \"Topic6\", \"Topic6\", \"Topic6\", \"Topic6\", \"Topic6\", \"Topic6\", \"Topic6\", \"Topic6\", \"Topic6\", \"Topic6\", \"Topic6\", \"Topic6\", \"Topic7\", \"Topic7\", \"Topic7\", \"Topic7\", \"Topic7\", \"Topic7\", \"Topic7\", \"Topic7\", \"Topic7\", \"Topic7\", \"Topic7\", \"Topic7\", \"Topic7\", \"Topic7\", \"Topic7\", \"Topic7\", \"Topic7\", \"Topic7\", \"Topic7\", \"Topic7\", \"Topic7\", \"Topic7\", \"Topic7\", \"Topic7\", \"Topic7\", \"Topic7\", \"Topic7\", \"Topic7\", \"Topic7\", \"Topic7\", \"Topic8\", \"Topic8\", \"Topic8\", \"Topic8\", \"Topic8\", \"Topic8\", \"Topic8\", \"Topic8\", \"Topic8\", \"Topic8\", \"Topic8\", \"Topic8\", \"Topic8\", \"Topic8\", \"Topic8\", \"Topic8\", \"Topic8\", \"Topic8\", \"Topic8\", \"Topic8\", \"Topic8\", \"Topic8\", \"Topic8\", \"Topic8\", \"Topic8\", \"Topic8\", \"Topic8\", \"Topic8\", \"Topic8\", \"Topic8\"], \"logprob\": [30.0, 29.0, 28.0, 27.0, 26.0, 25.0, 24.0, 23.0, 22.0, 21.0, 20.0, 19.0, 18.0, 17.0, 16.0, 15.0, 14.0, 13.0, 12.0, 11.0, 10.0, 9.0, 8.0, 7.0, 6.0, 5.0, 4.0, 3.0, 2.0, 1.0, -3.3752999305725098, -3.5020999908447266, -3.647700071334839, -3.9195001125335693, -3.920300006866455, -4.10890007019043, -4.296800136566162, -4.347700119018555, -4.077600002288818, -4.642600059509277, -4.676400184631348, -4.692599773406982, -4.796800136566162, -4.8317999839782715, -4.837100028991699, -4.854599952697754, -4.858399868011475, -4.866499900817871, -4.945799827575684, -4.957300186157227, -4.9721999168396, -4.973499774932861, -5.017399787902832, -5.069399833679199, -5.10230016708374, -5.116000175476074, -5.134200096130371, -5.203700065612793, -5.2164998054504395, -5.256499767303467, -3.1888999938964844, -4.499000072479248, -4.354499816894531, -3.735100030899048, -4.634399890899658, -4.77239990234375, -4.761300086975098, -3.9103000164031982, -4.40880012512207, -4.56689977645874, -4.599699974060059, -4.838600158691406, -4.791900157928467, -2.6584999561309814, -3.1823999881744385, -3.4960999488830566, -3.86680006980896, -4.016600131988525, -4.132599830627441, -4.469600200653076, -4.504799842834473, -4.708700180053711, -4.752500057220459, -4.755300045013428, -4.855599880218506, -4.856200218200684, -4.875199794769287, -4.91379976272583, -4.9166998863220215, -4.928699970245361, -4.932199954986572, -5.001500129699707, -5.052199840545654, -5.08519983291626, -5.109600067138672, -5.1092000007629395, -5.146699905395508, -5.173399925231934, -5.251699924468994, -5.283199787139893, -5.298999786376953, -5.30049991607666, -5.316400051116943, -3.278599977493286, -4.784800052642822, -4.4878997802734375, -4.116000175476074, -3.8134000301361084, -4.016200065612793, -4.575099945068359, -3.473299980163574, -4.05049991607666, -4.353799819946289, -4.388800144195557, -4.6107001304626465, -2.536900043487549, -2.8478000164031982, -3.2219998836517334, -3.2929999828338623, -3.5613999366760254, -3.882499933242798, -4.0524001121521, -4.111499786376953, -4.231900215148926, -4.454400062561035, -4.667699813842773, -4.713500022888184, -4.737800121307373, -4.740300178527832, -4.815100193023682, -4.832200050354004, -4.873600006103516, -4.876200199127197, -4.912799835205078, -4.995100021362305, -5.002799987792969, -4.95550012588501, -5.129300117492676, -5.146399974822998, -5.1855998039245605, -5.214900016784668, -5.248600006103516, -5.253799915313721, -5.253600120544434, -5.268700122833252, -4.284999847412109, -3.477400064468384, -3.986799955368042, -5.1479997634887695, -3.5968000888824463, -4.465700149536133, -4.795400142669678, -4.933599948883057, -4.962299823760986, -4.986499786376953, -3.197200059890747, -3.365299940109253, -3.5697999000549316, -3.7639999389648438, -3.8726999759674072, -3.9096999168395996, -4.216300010681152, -4.237299919128418, -4.3968000411987305, -4.438399791717529, -4.575099945068359, -4.645699977874756, -4.646599769592285, -4.693900108337402, -4.828999996185303, -4.848599910736084, -4.860899925231934, -4.8790998458862305, -5.005499839782715, -5.023399829864502, -5.031499862670898, -5.0355000495910645, -5.051000118255615, -5.054100036621094, -5.143499851226807, -5.150000095367432, -5.159999847412109, -5.188199996948242, -5.1992998123168945, -5.219600200653076, -4.67710018157959, -4.701499938964844, -4.630899906158447, -3.9974000453948975, -4.605299949645996, -4.822000026702881, -4.647299766540527, -4.686399936676025, -5.012800216674805, -5.027699947357178, -2.845099925994873, -3.04259991645813, -3.479099988937378, -3.804800033569336, -3.8368000984191895, -3.9482998847961426, -3.9702000617980957, -3.8396999835968018, -4.136899948120117, -4.200399875640869, -4.25439977645874, -4.388400077819824, -4.515100002288818, -4.550000190734863, -4.708899974822998, -4.731100082397461, -4.736199855804443, -4.806300163269043, -4.802800178527832, -4.813499927520752, -4.828000068664551, -4.897900104522705, -4.888599872589111, -4.921500205993652, -4.948599815368652, -5.030700206756592, -5.042399883270264, -5.201099872589111, -5.213900089263916, -5.219900131225586, -3.933199882507324, -4.78980016708374, -5.001800060272217, -2.703200101852417, -3.2506000995635986, -3.9482998847961426, -3.9567999839782715, -4.0152997970581055, -4.049600124359131, -4.114299774169922, -4.121699810028076, -4.186800003051758, -4.504199981689453, -4.531300067901611, -4.6097002029418945, -4.6143999099731445, -4.820499897003174, -4.828199863433838, -4.895199775695801, -4.917200088500977, -4.935800075531006, -4.983500003814697, -5.052299976348877, -5.067500114440918, -5.0879998207092285, -5.151199817657471, -5.1732001304626465, -5.176499843597412, -5.18149995803833, -5.225900173187256, -5.251299858093262, -5.257900238037109, -5.268599987030029, -4.678100109100342, -4.0157999992370605, -2.6958999633789062, -3.1630001068115234, -3.1777000427246094, -3.386399984359741, -3.40939998626709, -3.8631999492645264, -3.93149995803833, -4.037600040435791, -4.054599761962891, -4.049799919128418, -4.084499835968018, -4.084499835968018, -4.085400104522705, -4.085400104522705, -4.085400104522705, -4.085400104522705, -4.400700092315674, -4.439599990844727, -4.445000171661377, -4.626299858093262, -4.798600196838379, -4.806399822235107, -4.920100212097168, -4.926700115203857, -4.971799850463867, -5.0117998123168945, -5.094600200653076, -5.114699840545654, -5.121799945831299, -5.285900115966797, -2.815999984741211, -3.55649995803833, -3.6085000038146973, -3.9495999813079834, -4.016200065612793, -4.068900108337402, -4.098999977111816, -4.127999782562256, -4.168099880218506, -4.2729997634887695, -4.383900165557861, -4.43720006942749, -4.5320000648498535, -4.549799919128418, -4.569699764251709, -4.57390022277832, -4.670199871063232, -4.6774001121521, -4.735300064086914, -4.796999931335449, -4.994200229644775, -5.001299858093262, -5.024700164794922, -5.0381999015808105, -5.188300132751465, -5.189599990844727, -5.3394999504089355, -5.5269999504089355, -5.577199935913086, -5.616799831390381], \"loglift\": [30.0, 29.0, 28.0, 27.0, 26.0, 25.0, 24.0, 23.0, 22.0, 21.0, 20.0, 19.0, 18.0, 17.0, 16.0, 15.0, 14.0, 13.0, 12.0, 11.0, 10.0, 9.0, 8.0, 7.0, 6.0, 5.0, 4.0, 3.0, 2.0, 1.0, 1.4026999473571777, 1.402400016784668, 1.4019999504089355, 1.4011000394821167, 1.4011000394821167, 1.4003000259399414, 1.3992999792099, 1.3990000486373901, 1.3990000486373901, 1.3969999551773071, 1.3968000411987305, 1.3966000080108643, 1.3956999778747559, 1.395400047302246, 1.395300030708313, 1.3952000141143799, 1.3950999975204468, 1.3949999809265137, 1.3941999673843384, 1.3940999507904053, 1.3939000368118286, 1.3939000368118286, 1.3934999704360962, 1.392799973487854, 1.3924000263214111, 1.392199993133545, 1.3919999599456787, 1.3911000490188599, 1.3909000158309937, 1.3904000520706177, 1.389299988746643, 1.357100009918213, 1.3118000030517578, 1.1928999423980713, 1.3177000284194946, 1.3220000267028809, 1.2891000509262085, 0.6353999972343445, 0.677299976348877, 0.5734999775886536, 0.41600000858306885, 0.9455999732017517, -0.590399980545044, 1.4330999851226807, 1.4322999715805054, 1.4315999746322632, 1.4305000305175781, 1.429900050163269, 1.4293999671936035, 1.42739999294281, 1.4270999431610107, 1.4256000518798828, 1.4251999855041504, 1.4247000217437744, 1.4242000579833984, 1.4242000579833984, 1.4240000247955322, 1.4235999584197998, 1.4235999584197998, 1.4234999418258667, 1.4234000444412231, 1.422700047492981, 1.4220999479293823, 1.4217000007629395, 1.4213000535964966, 1.4213000535964966, 1.4208999872207642, 1.4205000400543213, 1.4193999767303467, 1.4189000129699707, 1.4186999797821045, 1.4185999631881714, 1.4184000492095947, 1.399399995803833, 1.4114999771118164, 1.4052000045776367, 1.3794000148773193, 1.243499994277954, 1.2273999452590942, 1.2484999895095825, 0.7282000184059143, 0.9653000235557556, 0.7322999835014343, 0.7516000270843506, 0.5687999725341797, 1.8091000318527222, 1.8085999488830566, 1.8077000379562378, 1.8075000047683716, 1.80649995803833, 1.8049999475479126, 1.8040000200271606, 1.8030999898910522, 1.8026000261306763, 1.8006999492645264, 1.79830002784729, 1.7977999448776245, 1.7975000143051147, 1.7973999977111816, 1.7963000535964966, 1.7960000038146973, 1.7956000566482544, 1.7955000400543213, 1.7948999404907227, 1.7935999631881714, 1.7934999465942383, 1.7926000356674194, 1.791200041770935, 1.7908999919891357, 1.7899999618530273, 1.7893999814987183, 1.7888000011444092, 1.788699984550476, 1.788599967956543, 1.7883000373840332, 1.6212999820709229, 1.0683000087738037, 1.1927000284194946, 1.732800006866455, 0.6047000288963318, 0.6811000108718872, 1.076300024986267, 0.9807999730110168, 0.9088000059127808, 0.7975999712944031, 1.8257999420166016, 1.8252999782562256, 1.8244999647140503, 1.8236000537872314, 1.8229999542236328, 1.8228000402450562, 1.8207000494003296, 1.8205000162124634, 1.819000005722046, 1.818600058555603, 1.817199945449829, 1.8164000511169434, 1.8164000511169434, 1.8157999515533447, 1.8138999938964844, 1.8136999607086182, 1.8135000467300415, 1.813099980354309, 1.8111000061035156, 1.8107999563217163, 1.8106000423431396, 1.8106000423431396, 1.8102999925613403, 1.8101999759674072, 1.808500051498413, 1.8083000183105469, 1.8082000017166138, 1.8076000213623047, 1.8073999881744385, 1.8069000244140625, 1.7175999879837036, 1.7207000255584717, 1.700700044631958, 1.5514999628067017, 1.6705000400543213, 1.4601000547409058, 1.2594000101089478, 0.46050000190734863, 0.9016000032424927, -0.826200008392334, 2.293100118637085, 2.2923998832702637, 2.290299892425537, 2.2880001068115234, 2.2876999378204346, 2.286799907684326, 2.286600112915039, 2.285099983215332, 2.2846999168395996, 2.2839999198913574, 2.283400058746338, 2.2815001010894775, 2.279599905014038, 2.2790000438690186, 2.2760000228881836, 2.275599956512451, 2.275599956512451, 2.2741000652313232, 2.2739999294281006, 2.273400068283081, 2.272900104522705, 2.2720000743865967, 2.271699905395508, 2.271399974822998, 2.270699977874756, 2.2685999870300293, 2.2683000564575195, 2.2634999752044678, 2.2630999088287354, 2.2627999782562256, 1.7000999450683594, 1.5914000272750854, 0.14499999582767487, 2.9874000549316406, 2.9834001064300537, 2.97379994392395, 2.973599910736084, 2.9725000858306885, 2.9718000888824463, 2.970400094985962, 2.9702000617980957, 2.968400001525879, 2.9598000049591064, 2.9590001106262207, 2.956199884414673, 2.9560000896453857, 2.9477999210357666, 2.947499990463257, 2.944200038909912, 2.9433999061584473, 2.942500114440918, 2.9400999546051025, 2.9363999366760254, 2.935499906539917, 2.9344000816345215, 2.9307000637054443, 2.9291000366210938, 2.9291000366210938, 2.928800106048584, 2.926100015640259, 2.9244000911712646, 2.9238998889923096, 2.9231998920440674, 2.711199998855591, 2.365999937057495, 3.8522000312805176, 3.8445000648498535, 3.8441998958587646, 3.838900089263916, 3.838200092315674, 3.8220999240875244, 3.8189001083374023, 3.813800096511841, 3.812700033187866, 3.811500072479248, 3.81030011177063, 3.81030011177063, 3.8099000453948975, 3.8099000453948975, 3.8099000453948975, 3.8099000453948975, 3.791300058364868, 3.7883999347686768, 3.788100004196167, 3.773099899291992, 3.7564001083374023, 3.7548999786376953, 3.743000030517578, 3.7421998977661133, 3.7369000911712646, 3.7316999435424805, 3.720900058746338, 3.7183001041412354, 3.716900110244751, 3.692699909210205, 3.874500036239624, 3.8573999404907227, 3.855600118637085, 3.841900110244751, 3.838599920272827, 3.835900068283081, 3.8343000411987305, 3.83270001411438, 3.830399990081787, 3.8236000537872314, 3.8160998821258545, 3.8125998973846436, 3.8050999641418457, 3.803499937057495, 3.802000045776367, 3.8017001152038574, 3.793100118637085, 3.7923998832702637, 3.786900043487549, 3.7804999351501465, 3.7583000659942627, 3.7572999000549316, 3.754300117492676, 3.752000093460083, 3.7321999073028564, 3.7316999435424805, 3.7086000442504883, 3.6749000549316406, 3.664799928665161, 3.656899929046631]}, \"token.table\": {\"Topic\": [3, 8, 1, 2, 4, 2, 8, 1, 1, 1, 6, 4, 5, 7, 1, 5, 1, 8, 2, 4, 3, 6, 6, 4, 7, 7, 1, 3, 6, 8, 8, 6, 4, 1, 3, 3, 4, 6, 7, 7, 2, 6, 7, 8, 2, 1, 5, 3, 1, 3, 4, 6, 8, 7, 3, 8, 6, 7, 1, 7, 1, 2, 3, 2, 2, 3, 1, 1, 2, 8, 2, 2, 1, 4, 5, 4, 3, 8, 4, 1, 2, 2, 4, 2, 8, 3, 2, 5, 8, 6, 2, 7, 8, 6, 5, 8, 1, 5, 5, 1, 4, 8, 4, 3, 8, 1, 4, 4, 3, 5, 6, 2, 1, 4, 5, 2, 4, 3, 1, 3, 4, 5, 6, 3, 1, 3, 4, 7, 3, 5, 8, 7, 1, 5, 7, 2, 1, 2, 8, 5, 4, 5, 1, 3, 1, 1, 7, 4, 1, 2, 7, 7, 2, 8, 7, 4, 2, 6, 4, 7, 3, 5, 1, 4, 6, 1, 3, 1, 5, 2, 4, 1, 4, 1, 1, 4, 6, 2, 3, 8, 4, 4, 2, 3, 2, 2, 5, 5, 4, 5, 1, 1, 3, 3, 7, 1, 3, 1, 2, 1, 6, 8, 6, 8, 7, 4, 2, 6, 5, 8, 7, 5, 3, 5, 6, 8, 1, 4, 1, 7, 4, 3, 5, 8, 2, 4, 2, 2, 7, 5, 7, 2, 5, 1, 4, 4, 1, 8, 2, 4, 7, 8, 4, 8, 3, 8, 3, 6, 1, 2, 3, 4, 3, 2, 6, 4, 2, 1, 2, 3, 4, 1, 2, 3, 6, 3, 3, 5, 1, 2, 4, 5, 2, 6, 1, 5, 3, 5, 6, 5, 5, 1, 3, 4, 1, 2, 6, 2, 5, 5, 1, 2, 6, 7, 1, 4, 4, 3, 5, 1, 7, 8, 3, 6, 6, 5, 4, 6, 1, 4, 7, 2, 2, 1, 2, 3, 4, 6, 5, 2, 4, 2, 4, 4, 2, 7, 7, 6], \"Freq\": [0.9652723670005798, 0.6958228945732117, 0.4834246039390564, 0.49432894587516785, 0.018173858523368835, 0.9908709526062012, 0.9659448862075806, 0.9911150336265564, 0.9953316450119019, 0.9935420155525208, 0.9802335500717163, 0.9717847108840942, 0.9949239492416382, 0.9647770524024963, 0.996759295463562, 0.9804088473320007, 0.9812548756599426, 0.9384233355522156, 0.9468656778335571, 0.04925890639424324, 0.9854345917701721, 0.9581868052482605, 0.9634520411491394, 0.9966638684272766, 0.9083919525146484, 0.9682848453521729, 0.9891770482063293, 0.995593786239624, 0.9724236726760864, 0.8999861478805542, 0.979886531829834, 0.9677227735519409, 0.9920977354049683, 0.9937130808830261, 0.9720636606216431, 0.9186736345291138, 0.06561954319477081, 0.9655300378799438, 0.9152825474739075, 0.9394242167472839, 0.9875921010971069, 0.9450954794883728, 0.9255673289299011, 0.7641960978507996, 0.9962092638015747, 0.9843334555625916, 0.9819238781929016, 0.9973140358924866, 0.46369680762290955, 0.47640082240104675, 0.05928543582558632, 0.9784467816352844, 0.9547374844551086, 0.9652570486068726, 0.9721001386642456, 0.8415177464485168, 0.9723708629608154, 0.9822283387184143, 0.9948369264602661, 0.9334557056427002, 0.16944128274917603, 0.8260262608528137, 0.9972624182701111, 0.9828615188598633, 0.5182716250419617, 0.47840458154678345, 0.9932425022125244, 0.16716721653938293, 0.8282375931739807, 0.9787301421165466, 0.9944577217102051, 0.983699381351471, 0.9919812083244324, 0.9846252202987671, 0.9749586582183838, 0.9787091612815857, 0.9905050992965698, 0.9692037105560303, 0.9815508723258972, 0.8866509795188904, 0.1048726961016655, 0.9848061800003052, 0.9890516996383667, 0.9866325259208679, 0.8856910467147827, 0.9769075512886047, 0.969382107257843, 0.024438204243779182, 0.8408496379852295, 0.9817984104156494, 0.9954317212104797, 0.9779843091964722, 0.8530012965202332, 0.9737605452537537, 0.9528886079788208, 0.9744330048561096, 0.949874997138977, 0.03925103321671486, 0.9834787249565125, 0.23673346638679504, 0.7563923001289368, 0.939895749092102, 0.9786563515663147, 0.977500319480896, 0.8742378950119019, 0.09416111558675766, 0.9012563824653625, 0.9864732027053833, 0.9856553673744202, 0.9862344861030579, 0.9563949108123779, 0.9931217432022095, 0.9090690016746521, 0.01948004961013794, 0.06493350118398666, 0.9953973293304443, 0.9898637533187866, 0.9936776757240295, 0.305120587348938, 0.32443201541900635, 0.2549108564853668, 0.11586857587099075, 0.9912530183792114, 0.9860427379608154, 0.9843065142631531, 0.006562043447047472, 0.006562043447047472, 0.9652570486068726, 0.9948758482933044, 0.9709429740905762, 0.8777125477790833, 0.9329350590705872, 0.9819356203079224, 0.995948076248169, 0.8987553119659424, 0.9832239151000977, 0.18296083807945251, 0.8126865029335022, 0.9458497762680054, 0.9676608443260193, 0.9928758144378662, 0.9919947385787964, 0.994556725025177, 0.978546142578125, 0.9890584349632263, 0.9934804439544678, 0.9784784913063049, 0.9809204936027527, 0.9930779933929443, 0.9959060549736023, 0.9652570486068726, 0.9236997365951538, 0.9850924611091614, 0.9536706209182739, 0.956915557384491, 0.9876728057861328, 0.987829327583313, 0.9322614669799805, 0.9781902432441711, 0.8911644816398621, 0.4910546541213989, 0.4910546541213989, 0.42941761016845703, 0.5698041319847107, 0.9797961115837097, 0.1650823950767517, 0.8254119753837585, 0.9903202056884766, 0.9845553040504456, 0.992658257484436, 0.9943037629127502, 0.9979944229125977, 0.9843905568122864, 0.9867425560951233, 0.9948013424873352, 0.9962867498397827, 0.9488491415977478, 0.9966797828674316, 0.9911923408508301, 0.9269489645957947, 0.9963094592094421, 0.9690274596214294, 0.5896904468536377, 0.40640828013420105, 0.9895780086517334, 0.9908308386802673, 0.9933918118476868, 0.9833353757858276, 0.6971774101257324, 0.300507515668869, 0.9859508872032166, 0.9898234605789185, 0.9946420192718506, 0.9823543429374695, 0.9099879264831543, 0.9949783682823181, 0.9933269023895264, 0.916581928730011, 0.069739930331707, 0.9989268183708191, 0.9308478236198425, 0.891278862953186, 0.9406331777572632, 0.8758767247200012, 0.9652570486068726, 0.9866839647293091, 0.21822042763233185, 0.7637714743614197, 0.9675648212432861, 0.9363425970077515, 0.9393414258956909, 0.9723587036132812, 0.9962523579597473, 0.9955480098724365, 0.9883438348770142, 0.9033421874046326, 0.9159683585166931, 0.0777709037065506, 0.9817889332771301, 0.816359281539917, 0.984642505645752, 0.9933952689170837, 0.9976763725280762, 0.9580379128456116, 0.9905198812484741, 0.9868245720863342, 0.9931855201721191, 0.9903876781463623, 0.892780065536499, 0.9583832025527954, 0.9302001595497131, 0.9959145188331604, 0.9861489534378052, 0.14332620799541473, 0.8480134010314941, 0.967481255531311, 0.9971474409103394, 0.8572245240211487, 0.11366455256938934, 0.8840576410293579, 0.9297979474067688, 0.7181622982025146, 0.9828518629074097, 0.8581832051277161, 0.9899238348007202, 0.9590773582458496, 0.9908447861671448, 0.9645416736602783, 0.13656577467918396, 0.4937377870082855, 0.3001445531845093, 0.07053396850824356, 0.9849144220352173, 0.45148709416389465, 0.5311613082885742, 0.9811632633209229, 0.9861964583396912, 0.015962528064846992, 0.4190163314342499, 0.5387353301048279, 0.023943791165947914, 0.9928842782974243, 0.9953542947769165, 0.9988533854484558, 0.9590432047843933, 0.9767662882804871, 0.9824440479278564, 0.9933486580848694, 0.43364518880844116, 0.5065590143203735, 0.05756352096796036, 0.9812265634536743, 0.9936670064926147, 0.9697677493095398, 0.4460415840148926, 0.5528402924537659, 0.9770604372024536, 0.9639069437980652, 0.9357411861419678, 0.9859002828598022, 0.9961550235748291, 0.6282335519790649, 0.3652520477771759, 0.9930682182312012, 0.809937596321106, 0.18929576873779297, 0.9656035900115967, 0.9862257838249207, 0.9880180954933167, 0.9947271347045898, 0.3726690113544464, 0.6267614960670471, 0.8926622867584229, 0.9880346059799194, 0.09679853171110153, 0.89884352684021, 0.9892635345458984, 0.9944506287574768, 0.9858940839767456, 0.992171049118042, 0.9386052489280701, 0.9764488339424133, 0.9980784058570862, 0.9640791416168213, 0.9272342324256897, 0.9761083722114563, 0.9937740564346313, 0.9851090312004089, 0.989061713218689, 0.9964650869369507, 0.9647770524024963, 0.998990535736084, 0.9914599061012268, 0.9972319602966309, 0.1664171814918518, 0.43268468976020813, 0.3994012475013733, 0.9547477960586548, 0.9637891054153442, 0.9667590856552124, 0.031419672071933746, 0.9817846417427063, 0.011031287722289562, 0.9897310733795166, 0.9982507228851318, 0.92441326379776, 0.8453467488288879, 0.9590491056442261], \"Term\": [\"access\", \"admit\", \"also\", \"also\", \"also\", \"amazing\", \"appreciate\", \"architecture\", \"area\", \"around\", \"ask\", \"atmosphere\", \"attractive\", \"automatic\", \"back\", \"bag\", \"bar\", \"bazaar\", \"beautiful\", \"beautiful\", \"beautifully\", \"become\", \"bed\", \"beer\", \"begin\", \"big\", \"bit\", \"border\", \"brew\", \"brief\", \"bring\", \"brother\", \"build\", \"building\", \"busy\", \"buy\", \"buy\", \"call\", \"card\", \"carpet\", \"cemetery\", \"certain\", \"chance\", \"charming\", \"cheap\", \"check\", \"choice\", \"church\", \"city\", \"city\", \"city\", \"classical\", \"combine\", \"commander\", \"control\", \"conversation\", \"cook\", \"country\", \"cover\", \"create\", \"cross\", \"cross\", \"crossing\", \"culture\", \"cypriot\", \"cypriot\", \"day\", \"definitely\", \"definitely\", \"delicious\", \"different\", \"display\", \"divide\", \"dome\", \"door\", \"drink\", \"easy\", \"eat\", \"end\", \"enjoy\", \"enjoy\", \"enter\", \"entrance\", \"especially\", \"establishment\", \"euro\", \"even\", \"even\", \"exchange\", \"expect\", \"experience\", \"explanation\", \"fake_good\", \"far\", \"fascinating\", \"fast\", \"feel\", \"feel\", \"female\", \"find\", \"find\", \"fine\", \"first\", \"flag\", \"flavor\", \"floor\", \"floor\", \"forget\", \"former\", \"free\", \"fresh\", \"friend\", \"friendly\", \"friendly\", \"friendly\", \"full\", \"garden\", \"gate\", \"get\", \"get\", \"get\", \"get\", \"give\", \"glass\", \"go\", \"go\", \"go\", \"graveyard\", \"greek\", \"green\", \"guest\", \"hall\", \"help\", \"helpful\", \"highlight\", \"historical\", \"history\", \"history\", \"hope\", \"hopefully\", \"however\", \"huge\", \"icon\", \"idea\", \"important\", \"information\", \"informative\", \"inside\", \"interest\", \"interesting\", \"islamic\", \"kind\", \"know\", \"lack\", \"language\", \"large\", \"late\", \"later\", \"lift\", \"limit\", \"line\", \"line\", \"little\", \"little\", \"live\", \"local\", \"local\", \"locate\", \"lock\", \"long\", \"look\", \"lot\", \"love\", \"lovely\", \"main\", \"make\", \"man\", \"many\", \"market\", \"middle\", \"mosque\", \"mountain\", \"much\", \"much\", \"museum\", \"name\", \"need\", \"never\", \"next\", \"next\", \"nicosia\", \"night\", \"north\", \"northern\", \"note\", \"observatory\", \"occupy\", \"offer\", \"offer\", \"old\", \"one\", \"operate\", \"opinion\", \"otherwise\", \"ottoman\", \"outside\", \"overall\", \"overall\", \"owner\", \"paper\", \"paphos_gate\", \"parking\", \"part\", \"passport\", \"past\", \"peace\", \"people\", \"people\", \"perfect\", \"period\", \"picture\", \"plan\", \"point\", \"pray\", \"present\", \"preserve\", \"pretty\", \"price\", \"probably\", \"produce\", \"put\", \"quality\", \"queue\", \"quite\", \"quite\", \"read\", \"really\", \"reasonable_price\", \"recommend\", \"recommend\", \"recommendation\", \"reminder\", \"right\", \"rise\", \"sadly\", \"salad\", \"say\", \"seasonal\", \"see\", \"see\", \"see\", \"see\", \"seem\", \"service\", \"service\", \"set\", \"several\", \"shop\", \"shop\", \"shop\", \"shop\", \"short\", \"show\", \"side\", \"sight\", \"silver\", \"simple\", \"situate\", \"small\", \"small\", \"small\", \"south\", \"special\", \"spectacular\", \"staff\", \"staff\", \"stamp\", \"stand\", \"star\", \"stay\", \"still\", \"street\", \"street\", \"style\", \"take\", \"take\", \"talk\", \"taste\", \"tell\", \"thing\", \"time\", \"time\", \"together\", \"tombstone\", \"top\", \"top\", \"tour\", \"tourist\", \"tower\", \"town\", \"translation\", \"try\", \"turkish\", \"twice\", \"type\", \"typical\", \"unfortunately\", \"use\", \"video\", \"view\", \"virtual\", \"visit\", \"visitor\", \"walk\", \"way\", \"way\", \"way\", \"week\", \"welcome\", \"well\", \"well\", \"whole\", \"whole\", \"window\", \"worth\", \"write\", \"wrong\", \"young\"]}, \"R\": 30, \"lambda.step\": 0.01, \"plot.opts\": {\"xlab\": \"PC1\", \"ylab\": \"PC2\"}, \"topic.order\": [7, 2, 6, 8, 5, 3, 1, 4]};\n",
       "\n",
       "function LDAvis_load_lib(url, callback){\n",
       "  var s = document.createElement('script');\n",
       "  s.src = url;\n",
       "  s.async = true;\n",
       "  s.onreadystatechange = s.onload = callback;\n",
       "  s.onerror = function(){console.warn(\"failed to load library \" + url);};\n",
       "  document.getElementsByTagName(\"head\")[0].appendChild(s);\n",
       "}\n",
       "\n",
       "if(typeof(LDAvis) !== \"undefined\"){\n",
       "   // already loaded: just create the visualization\n",
       "   !function(LDAvis){\n",
       "       new LDAvis(\"#\" + \"ldavis_el30275230020806165206326420033\", ldavis_el30275230020806165206326420033_data);\n",
       "   }(LDAvis);\n",
       "}else if(typeof define === \"function\" && define.amd){\n",
       "   // require.js is available: use it to load d3/LDAvis\n",
       "   require.config({paths: {d3: \"https://cdnjs.cloudflare.com/ajax/libs/d3/3.5.5/d3.min\"}});\n",
       "   require([\"d3\"], function(d3){\n",
       "      window.d3 = d3;\n",
       "      LDAvis_load_lib(\"https://cdn.rawgit.com/bmabey/pyLDAvis/files/ldavis.v1.0.0.js\", function(){\n",
       "        new LDAvis(\"#\" + \"ldavis_el30275230020806165206326420033\", ldavis_el30275230020806165206326420033_data);\n",
       "      });\n",
       "    });\n",
       "}else{\n",
       "    // require.js not available: dynamically load d3 & LDAvis\n",
       "    LDAvis_load_lib(\"https://cdnjs.cloudflare.com/ajax/libs/d3/3.5.5/d3.min.js\", function(){\n",
       "         LDAvis_load_lib(\"https://cdn.rawgit.com/bmabey/pyLDAvis/files/ldavis.v1.0.0.js\", function(){\n",
       "                 new LDAvis(\"#\" + \"ldavis_el30275230020806165206326420033\", ldavis_el30275230020806165206326420033_data);\n",
       "            })\n",
       "         });\n",
       "}\n",
       "</script>"
      ],
      "text/plain": [
       "PreparedData(topic_coordinates=              x         y  topics  cluster       Freq\n",
       "topic                                                \n",
       "6     -0.057158  0.389840       1        1  24.538548\n",
       "1     -0.113089 -0.383878       2        1  23.829927\n",
       "5     -0.345874 -0.131261       3        1  16.355606\n",
       "7     -0.312772  0.194828       4        1  16.061930\n",
       "4      0.269526 -0.257564       5        1  10.063891\n",
       "2      0.307994  0.018966       6        1   5.014149\n",
       "0      0.208938  0.201240       7        1   2.092091\n",
       "3      0.042436 -0.032172       8        1   2.043857, topic_info=              Term        Freq       Total Category  logprob  loglift\n",
       "33           visit  743.000000  743.000000  Default  30.0000  30.0000\n",
       "238           side  576.000000  576.000000  Default  29.0000  29.0000\n",
       "931        turkish  422.000000  422.000000  Default  28.0000  28.0000\n",
       "110          worth  440.000000  440.000000  Default  27.0000  27.0000\n",
       "987       passport  261.000000  261.000000  Default  26.0000  26.0000\n",
       "...            ...         ...         ...      ...      ...      ...\n",
       "842   conversation    5.070026    5.941645   Topic8  -5.1896   3.7317\n",
       "921       charming    4.364452    5.234259   Topic8  -5.3395   3.7086\n",
       "1814       operate    3.618182    4.487933   Topic8  -5.5270   3.6749\n",
       "3599         admit    3.441006    4.311442   Topic8  -5.5772   3.6648\n",
       "2025      reminder    3.307535    4.177329   Topic8  -5.6168   3.6569\n",
       "\n",
       "[320 rows x 6 columns], token_table=      Topic      Freq    Term\n",
       "term                         \n",
       "76        3  0.965272  access\n",
       "3599      8  0.695823   admit\n",
       "8         1  0.483425    also\n",
       "8         2  0.494329    also\n",
       "8         4  0.018174    also\n",
       "...     ...       ...     ...\n",
       "1135      4  0.989731  window\n",
       "110       2  0.998251   worth\n",
       "399       7  0.924413   write\n",
       "2804      7  0.845347   wrong\n",
       "857       6  0.959049   young\n",
       "\n",
       "[328 rows x 3 columns], R=30, lambda_step=0.01, plot_opts={'xlab': 'PC1', 'ylab': 'PC2'}, topic_order=[7, 2, 6, 8, 5, 3, 1, 4])"
      ]
     },
     "metadata": {},
     "output_type": "display_data"
    }
   ],
   "source": [
    "plot_model(tuned_pos_8, plot ='topic_model')"
   ]
  },
  {
   "cell_type": "code",
   "execution_count": 24,
   "metadata": {},
   "outputs": [
    {
     "data": {
      "text/html": [
       "        <script type=\"text/javascript\">\n",
       "        window.PlotlyConfig = {MathJaxConfig: 'local'};\n",
       "        if (window.MathJax) {MathJax.Hub.Config({SVG: {font: \"STIX-Web\"}});}\n",
       "        if (typeof require !== 'undefined') {\n",
       "        require.undef(\"plotly\");\n",
       "        requirejs.config({\n",
       "            paths: {\n",
       "                'plotly': ['https://cdn.plot.ly/plotly-latest.min']\n",
       "            }\n",
       "        });\n",
       "        require(['plotly'], function(Plotly) {\n",
       "            window._Plotly = Plotly;\n",
       "        });\n",
       "        }\n",
       "        </script>\n",
       "        "
      ]
     },
     "metadata": {},
     "output_type": "display_data"
    },
    {
     "data": {
      "application/vnd.plotly.v1+json": {
       "config": {
        "plotlyServerURL": "https://plot.ly"
       },
       "data": [
        {
         "alignmentgroup": "True",
         "customdata": [
          [
           "visit, worth, well, see, interesting, cross, many, history, experience, time"
          ],
          [
           "passport, point, need, thing, helpful, stay, staff, free, still, attractive"
          ],
          [
           "side, turkish, part, border, city, church, see, greek, shop, crossing"
          ],
          [
           "go, old, walk, area, take, city, really, lot, building, day"
          ],
          [
           "view, beer, look, make, mosque, build, find, large, tour, garden"
          ]
         ],
         "hovertemplate": "Topic=%{x}<br>Documents=%{y}<br>Keyword=%{customdata[0]}<extra></extra>",
         "legendgroup": "",
         "marker": {
          "color": "#636efa"
         },
         "name": "",
         "offsetgroup": "",
         "orientation": "v",
         "showlegend": false,
         "textposition": "auto",
         "type": "bar",
         "x": [
          "Topic 1",
          "Topic 4",
          "Topic 5",
          "Topic 6",
          "Topic 7"
         ],
         "xaxis": "x",
         "y": [
          121,
          1,
          13,
          63,
          97
         ],
         "yaxis": "y"
        }
       ],
       "layout": {
        "barmode": "relative",
        "legend": {
         "tracegroupgap": 0
        },
        "template": {
         "data": {
          "bar": [
           {
            "error_x": {
             "color": "#2a3f5f"
            },
            "error_y": {
             "color": "#2a3f5f"
            },
            "marker": {
             "line": {
              "color": "#E5ECF6",
              "width": 0.5
             }
            },
            "type": "bar"
           }
          ],
          "barpolar": [
           {
            "marker": {
             "line": {
              "color": "#E5ECF6",
              "width": 0.5
             }
            },
            "type": "barpolar"
           }
          ],
          "carpet": [
           {
            "aaxis": {
             "endlinecolor": "#2a3f5f",
             "gridcolor": "white",
             "linecolor": "white",
             "minorgridcolor": "white",
             "startlinecolor": "#2a3f5f"
            },
            "baxis": {
             "endlinecolor": "#2a3f5f",
             "gridcolor": "white",
             "linecolor": "white",
             "minorgridcolor": "white",
             "startlinecolor": "#2a3f5f"
            },
            "type": "carpet"
           }
          ],
          "choropleth": [
           {
            "colorbar": {
             "outlinewidth": 0,
             "ticks": ""
            },
            "type": "choropleth"
           }
          ],
          "contour": [
           {
            "colorbar": {
             "outlinewidth": 0,
             "ticks": ""
            },
            "colorscale": [
             [
              0,
              "#0d0887"
             ],
             [
              0.1111111111111111,
              "#46039f"
             ],
             [
              0.2222222222222222,
              "#7201a8"
             ],
             [
              0.3333333333333333,
              "#9c179e"
             ],
             [
              0.4444444444444444,
              "#bd3786"
             ],
             [
              0.5555555555555556,
              "#d8576b"
             ],
             [
              0.6666666666666666,
              "#ed7953"
             ],
             [
              0.7777777777777778,
              "#fb9f3a"
             ],
             [
              0.8888888888888888,
              "#fdca26"
             ],
             [
              1,
              "#f0f921"
             ]
            ],
            "type": "contour"
           }
          ],
          "contourcarpet": [
           {
            "colorbar": {
             "outlinewidth": 0,
             "ticks": ""
            },
            "type": "contourcarpet"
           }
          ],
          "heatmap": [
           {
            "colorbar": {
             "outlinewidth": 0,
             "ticks": ""
            },
            "colorscale": [
             [
              0,
              "#0d0887"
             ],
             [
              0.1111111111111111,
              "#46039f"
             ],
             [
              0.2222222222222222,
              "#7201a8"
             ],
             [
              0.3333333333333333,
              "#9c179e"
             ],
             [
              0.4444444444444444,
              "#bd3786"
             ],
             [
              0.5555555555555556,
              "#d8576b"
             ],
             [
              0.6666666666666666,
              "#ed7953"
             ],
             [
              0.7777777777777778,
              "#fb9f3a"
             ],
             [
              0.8888888888888888,
              "#fdca26"
             ],
             [
              1,
              "#f0f921"
             ]
            ],
            "type": "heatmap"
           }
          ],
          "heatmapgl": [
           {
            "colorbar": {
             "outlinewidth": 0,
             "ticks": ""
            },
            "colorscale": [
             [
              0,
              "#0d0887"
             ],
             [
              0.1111111111111111,
              "#46039f"
             ],
             [
              0.2222222222222222,
              "#7201a8"
             ],
             [
              0.3333333333333333,
              "#9c179e"
             ],
             [
              0.4444444444444444,
              "#bd3786"
             ],
             [
              0.5555555555555556,
              "#d8576b"
             ],
             [
              0.6666666666666666,
              "#ed7953"
             ],
             [
              0.7777777777777778,
              "#fb9f3a"
             ],
             [
              0.8888888888888888,
              "#fdca26"
             ],
             [
              1,
              "#f0f921"
             ]
            ],
            "type": "heatmapgl"
           }
          ],
          "histogram": [
           {
            "marker": {
             "colorbar": {
              "outlinewidth": 0,
              "ticks": ""
             }
            },
            "type": "histogram"
           }
          ],
          "histogram2d": [
           {
            "colorbar": {
             "outlinewidth": 0,
             "ticks": ""
            },
            "colorscale": [
             [
              0,
              "#0d0887"
             ],
             [
              0.1111111111111111,
              "#46039f"
             ],
             [
              0.2222222222222222,
              "#7201a8"
             ],
             [
              0.3333333333333333,
              "#9c179e"
             ],
             [
              0.4444444444444444,
              "#bd3786"
             ],
             [
              0.5555555555555556,
              "#d8576b"
             ],
             [
              0.6666666666666666,
              "#ed7953"
             ],
             [
              0.7777777777777778,
              "#fb9f3a"
             ],
             [
              0.8888888888888888,
              "#fdca26"
             ],
             [
              1,
              "#f0f921"
             ]
            ],
            "type": "histogram2d"
           }
          ],
          "histogram2dcontour": [
           {
            "colorbar": {
             "outlinewidth": 0,
             "ticks": ""
            },
            "colorscale": [
             [
              0,
              "#0d0887"
             ],
             [
              0.1111111111111111,
              "#46039f"
             ],
             [
              0.2222222222222222,
              "#7201a8"
             ],
             [
              0.3333333333333333,
              "#9c179e"
             ],
             [
              0.4444444444444444,
              "#bd3786"
             ],
             [
              0.5555555555555556,
              "#d8576b"
             ],
             [
              0.6666666666666666,
              "#ed7953"
             ],
             [
              0.7777777777777778,
              "#fb9f3a"
             ],
             [
              0.8888888888888888,
              "#fdca26"
             ],
             [
              1,
              "#f0f921"
             ]
            ],
            "type": "histogram2dcontour"
           }
          ],
          "mesh3d": [
           {
            "colorbar": {
             "outlinewidth": 0,
             "ticks": ""
            },
            "type": "mesh3d"
           }
          ],
          "parcoords": [
           {
            "line": {
             "colorbar": {
              "outlinewidth": 0,
              "ticks": ""
             }
            },
            "type": "parcoords"
           }
          ],
          "pie": [
           {
            "automargin": true,
            "type": "pie"
           }
          ],
          "scatter": [
           {
            "marker": {
             "colorbar": {
              "outlinewidth": 0,
              "ticks": ""
             }
            },
            "type": "scatter"
           }
          ],
          "scatter3d": [
           {
            "line": {
             "colorbar": {
              "outlinewidth": 0,
              "ticks": ""
             }
            },
            "marker": {
             "colorbar": {
              "outlinewidth": 0,
              "ticks": ""
             }
            },
            "type": "scatter3d"
           }
          ],
          "scattercarpet": [
           {
            "marker": {
             "colorbar": {
              "outlinewidth": 0,
              "ticks": ""
             }
            },
            "type": "scattercarpet"
           }
          ],
          "scattergeo": [
           {
            "marker": {
             "colorbar": {
              "outlinewidth": 0,
              "ticks": ""
             }
            },
            "type": "scattergeo"
           }
          ],
          "scattergl": [
           {
            "marker": {
             "colorbar": {
              "outlinewidth": 0,
              "ticks": ""
             }
            },
            "type": "scattergl"
           }
          ],
          "scattermapbox": [
           {
            "marker": {
             "colorbar": {
              "outlinewidth": 0,
              "ticks": ""
             }
            },
            "type": "scattermapbox"
           }
          ],
          "scatterpolar": [
           {
            "marker": {
             "colorbar": {
              "outlinewidth": 0,
              "ticks": ""
             }
            },
            "type": "scatterpolar"
           }
          ],
          "scatterpolargl": [
           {
            "marker": {
             "colorbar": {
              "outlinewidth": 0,
              "ticks": ""
             }
            },
            "type": "scatterpolargl"
           }
          ],
          "scatterternary": [
           {
            "marker": {
             "colorbar": {
              "outlinewidth": 0,
              "ticks": ""
             }
            },
            "type": "scatterternary"
           }
          ],
          "surface": [
           {
            "colorbar": {
             "outlinewidth": 0,
             "ticks": ""
            },
            "colorscale": [
             [
              0,
              "#0d0887"
             ],
             [
              0.1111111111111111,
              "#46039f"
             ],
             [
              0.2222222222222222,
              "#7201a8"
             ],
             [
              0.3333333333333333,
              "#9c179e"
             ],
             [
              0.4444444444444444,
              "#bd3786"
             ],
             [
              0.5555555555555556,
              "#d8576b"
             ],
             [
              0.6666666666666666,
              "#ed7953"
             ],
             [
              0.7777777777777778,
              "#fb9f3a"
             ],
             [
              0.8888888888888888,
              "#fdca26"
             ],
             [
              1,
              "#f0f921"
             ]
            ],
            "type": "surface"
           }
          ],
          "table": [
           {
            "cells": {
             "fill": {
              "color": "#EBF0F8"
             },
             "line": {
              "color": "white"
             }
            },
            "header": {
             "fill": {
              "color": "#C8D4E3"
             },
             "line": {
              "color": "white"
             }
            },
            "type": "table"
           }
          ]
         },
         "layout": {
          "annotationdefaults": {
           "arrowcolor": "#2a3f5f",
           "arrowhead": 0,
           "arrowwidth": 1
          },
          "coloraxis": {
           "colorbar": {
            "outlinewidth": 0,
            "ticks": ""
           }
          },
          "colorscale": {
           "diverging": [
            [
             0,
             "#8e0152"
            ],
            [
             0.1,
             "#c51b7d"
            ],
            [
             0.2,
             "#de77ae"
            ],
            [
             0.3,
             "#f1b6da"
            ],
            [
             0.4,
             "#fde0ef"
            ],
            [
             0.5,
             "#f7f7f7"
            ],
            [
             0.6,
             "#e6f5d0"
            ],
            [
             0.7,
             "#b8e186"
            ],
            [
             0.8,
             "#7fbc41"
            ],
            [
             0.9,
             "#4d9221"
            ],
            [
             1,
             "#276419"
            ]
           ],
           "sequential": [
            [
             0,
             "#0d0887"
            ],
            [
             0.1111111111111111,
             "#46039f"
            ],
            [
             0.2222222222222222,
             "#7201a8"
            ],
            [
             0.3333333333333333,
             "#9c179e"
            ],
            [
             0.4444444444444444,
             "#bd3786"
            ],
            [
             0.5555555555555556,
             "#d8576b"
            ],
            [
             0.6666666666666666,
             "#ed7953"
            ],
            [
             0.7777777777777778,
             "#fb9f3a"
            ],
            [
             0.8888888888888888,
             "#fdca26"
            ],
            [
             1,
             "#f0f921"
            ]
           ],
           "sequentialminus": [
            [
             0,
             "#0d0887"
            ],
            [
             0.1111111111111111,
             "#46039f"
            ],
            [
             0.2222222222222222,
             "#7201a8"
            ],
            [
             0.3333333333333333,
             "#9c179e"
            ],
            [
             0.4444444444444444,
             "#bd3786"
            ],
            [
             0.5555555555555556,
             "#d8576b"
            ],
            [
             0.6666666666666666,
             "#ed7953"
            ],
            [
             0.7777777777777778,
             "#fb9f3a"
            ],
            [
             0.8888888888888888,
             "#fdca26"
            ],
            [
             1,
             "#f0f921"
            ]
           ]
          },
          "colorway": [
           "#636efa",
           "#EF553B",
           "#00cc96",
           "#ab63fa",
           "#FFA15A",
           "#19d3f3",
           "#FF6692",
           "#B6E880",
           "#FF97FF",
           "#FECB52"
          ],
          "font": {
           "color": "#2a3f5f"
          },
          "geo": {
           "bgcolor": "white",
           "lakecolor": "white",
           "landcolor": "#E5ECF6",
           "showlakes": true,
           "showland": true,
           "subunitcolor": "white"
          },
          "hoverlabel": {
           "align": "left"
          },
          "hovermode": "closest",
          "mapbox": {
           "style": "light"
          },
          "paper_bgcolor": "white",
          "plot_bgcolor": "#E5ECF6",
          "polar": {
           "angularaxis": {
            "gridcolor": "white",
            "linecolor": "white",
            "ticks": ""
           },
           "bgcolor": "#E5ECF6",
           "radialaxis": {
            "gridcolor": "white",
            "linecolor": "white",
            "ticks": ""
           }
          },
          "scene": {
           "xaxis": {
            "backgroundcolor": "#E5ECF6",
            "gridcolor": "white",
            "gridwidth": 2,
            "linecolor": "white",
            "showbackground": true,
            "ticks": "",
            "zerolinecolor": "white"
           },
           "yaxis": {
            "backgroundcolor": "#E5ECF6",
            "gridcolor": "white",
            "gridwidth": 2,
            "linecolor": "white",
            "showbackground": true,
            "ticks": "",
            "zerolinecolor": "white"
           },
           "zaxis": {
            "backgroundcolor": "#E5ECF6",
            "gridcolor": "white",
            "gridwidth": 2,
            "linecolor": "white",
            "showbackground": true,
            "ticks": "",
            "zerolinecolor": "white"
           }
          },
          "shapedefaults": {
           "line": {
            "color": "#2a3f5f"
           }
          },
          "ternary": {
           "aaxis": {
            "gridcolor": "white",
            "linecolor": "white",
            "ticks": ""
           },
           "baxis": {
            "gridcolor": "white",
            "linecolor": "white",
            "ticks": ""
           },
           "bgcolor": "#E5ECF6",
           "caxis": {
            "gridcolor": "white",
            "linecolor": "white",
            "ticks": ""
           }
          },
          "title": {
           "x": 0.05
          },
          "xaxis": {
           "automargin": true,
           "gridcolor": "white",
           "linecolor": "white",
           "ticks": "",
           "title": {
            "standoff": 15
           },
           "zerolinecolor": "white",
           "zerolinewidth": 2
          },
          "yaxis": {
           "automargin": true,
           "gridcolor": "white",
           "linecolor": "white",
           "ticks": "",
           "title": {
            "standoff": 15
           },
           "zerolinecolor": "white",
           "zerolinewidth": 2
          }
         }
        },
        "title": {
         "text": "Document Distribution by Topics"
        },
        "xaxis": {
         "anchor": "y",
         "domain": [
          0,
          1
         ],
         "title": {
          "text": "Topic"
         }
        },
        "yaxis": {
         "anchor": "x",
         "domain": [
          0,
          1
         ],
         "title": {
          "text": "Documents"
         }
        }
       }
      },
      "text/html": [
       "<div>\n",
       "        \n",
       "        \n",
       "            <div id=\"01887ce6-fe55-4875-8364-372eb93be69e\" class=\"plotly-graph-div\" style=\"height:525px; width:100%;\"></div>\n",
       "            <script type=\"text/javascript\">\n",
       "                require([\"plotly\"], function(Plotly) {\n",
       "                    window.PLOTLYENV=window.PLOTLYENV || {};\n",
       "                    \n",
       "                if (document.getElementById(\"01887ce6-fe55-4875-8364-372eb93be69e\")) {\n",
       "                    Plotly.newPlot(\n",
       "                        '01887ce6-fe55-4875-8364-372eb93be69e',\n",
       "                        [{\"alignmentgroup\": \"True\", \"customdata\": [[\"visit, worth, well, see, interesting, cross, many, history, experience, time\"], [\"passport, point, need, thing, helpful, stay, staff, free, still, attractive\"], [\"side, turkish, part, border, city, church, see, greek, shop, crossing\"], [\"go, old, walk, area, take, city, really, lot, building, day\"], [\"view, beer, look, make, mosque, build, find, large, tour, garden\"]], \"hovertemplate\": \"Topic=%{x}<br>Documents=%{y}<br>Keyword=%{customdata[0]}<extra></extra>\", \"legendgroup\": \"\", \"marker\": {\"color\": \"#636efa\"}, \"name\": \"\", \"offsetgroup\": \"\", \"orientation\": \"v\", \"showlegend\": false, \"textposition\": \"auto\", \"type\": \"bar\", \"x\": [\"Topic 1\", \"Topic 4\", \"Topic 5\", \"Topic 6\", \"Topic 7\"], \"xaxis\": \"x\", \"y\": [121, 1, 13, 63, 97], \"yaxis\": \"y\"}],\n",
       "                        {\"barmode\": \"relative\", \"legend\": {\"tracegroupgap\": 0}, \"template\": {\"data\": {\"bar\": [{\"error_x\": {\"color\": \"#2a3f5f\"}, \"error_y\": {\"color\": \"#2a3f5f\"}, \"marker\": {\"line\": {\"color\": \"#E5ECF6\", \"width\": 0.5}}, \"type\": \"bar\"}], \"barpolar\": [{\"marker\": {\"line\": {\"color\": \"#E5ECF6\", \"width\": 0.5}}, \"type\": \"barpolar\"}], \"carpet\": [{\"aaxis\": {\"endlinecolor\": \"#2a3f5f\", \"gridcolor\": \"white\", \"linecolor\": \"white\", \"minorgridcolor\": \"white\", \"startlinecolor\": \"#2a3f5f\"}, \"baxis\": {\"endlinecolor\": \"#2a3f5f\", \"gridcolor\": \"white\", \"linecolor\": \"white\", \"minorgridcolor\": \"white\", \"startlinecolor\": \"#2a3f5f\"}, \"type\": \"carpet\"}], \"choropleth\": [{\"colorbar\": {\"outlinewidth\": 0, \"ticks\": \"\"}, \"type\": \"choropleth\"}], \"contour\": [{\"colorbar\": {\"outlinewidth\": 0, \"ticks\": \"\"}, \"colorscale\": [[0.0, \"#0d0887\"], [0.1111111111111111, \"#46039f\"], [0.2222222222222222, \"#7201a8\"], [0.3333333333333333, \"#9c179e\"], [0.4444444444444444, \"#bd3786\"], [0.5555555555555556, \"#d8576b\"], [0.6666666666666666, \"#ed7953\"], [0.7777777777777778, \"#fb9f3a\"], [0.8888888888888888, \"#fdca26\"], [1.0, \"#f0f921\"]], \"type\": \"contour\"}], \"contourcarpet\": [{\"colorbar\": {\"outlinewidth\": 0, \"ticks\": \"\"}, \"type\": \"contourcarpet\"}], \"heatmap\": [{\"colorbar\": {\"outlinewidth\": 0, \"ticks\": \"\"}, \"colorscale\": [[0.0, \"#0d0887\"], [0.1111111111111111, \"#46039f\"], [0.2222222222222222, \"#7201a8\"], [0.3333333333333333, \"#9c179e\"], [0.4444444444444444, \"#bd3786\"], [0.5555555555555556, \"#d8576b\"], [0.6666666666666666, \"#ed7953\"], [0.7777777777777778, \"#fb9f3a\"], [0.8888888888888888, \"#fdca26\"], [1.0, \"#f0f921\"]], \"type\": \"heatmap\"}], \"heatmapgl\": [{\"colorbar\": {\"outlinewidth\": 0, \"ticks\": \"\"}, \"colorscale\": [[0.0, \"#0d0887\"], [0.1111111111111111, \"#46039f\"], [0.2222222222222222, \"#7201a8\"], [0.3333333333333333, \"#9c179e\"], [0.4444444444444444, \"#bd3786\"], [0.5555555555555556, \"#d8576b\"], [0.6666666666666666, \"#ed7953\"], [0.7777777777777778, \"#fb9f3a\"], [0.8888888888888888, \"#fdca26\"], [1.0, \"#f0f921\"]], \"type\": \"heatmapgl\"}], \"histogram\": [{\"marker\": {\"colorbar\": {\"outlinewidth\": 0, \"ticks\": \"\"}}, \"type\": \"histogram\"}], \"histogram2d\": [{\"colorbar\": {\"outlinewidth\": 0, \"ticks\": \"\"}, \"colorscale\": [[0.0, \"#0d0887\"], [0.1111111111111111, \"#46039f\"], [0.2222222222222222, \"#7201a8\"], [0.3333333333333333, \"#9c179e\"], [0.4444444444444444, \"#bd3786\"], [0.5555555555555556, \"#d8576b\"], [0.6666666666666666, \"#ed7953\"], [0.7777777777777778, \"#fb9f3a\"], [0.8888888888888888, \"#fdca26\"], [1.0, \"#f0f921\"]], \"type\": \"histogram2d\"}], \"histogram2dcontour\": [{\"colorbar\": {\"outlinewidth\": 0, \"ticks\": \"\"}, \"colorscale\": [[0.0, \"#0d0887\"], [0.1111111111111111, \"#46039f\"], [0.2222222222222222, \"#7201a8\"], [0.3333333333333333, \"#9c179e\"], [0.4444444444444444, \"#bd3786\"], [0.5555555555555556, \"#d8576b\"], [0.6666666666666666, \"#ed7953\"], [0.7777777777777778, \"#fb9f3a\"], [0.8888888888888888, \"#fdca26\"], [1.0, \"#f0f921\"]], \"type\": \"histogram2dcontour\"}], \"mesh3d\": [{\"colorbar\": {\"outlinewidth\": 0, \"ticks\": \"\"}, \"type\": \"mesh3d\"}], \"parcoords\": [{\"line\": {\"colorbar\": {\"outlinewidth\": 0, \"ticks\": \"\"}}, \"type\": \"parcoords\"}], \"pie\": [{\"automargin\": true, \"type\": \"pie\"}], \"scatter\": [{\"marker\": {\"colorbar\": {\"outlinewidth\": 0, \"ticks\": \"\"}}, \"type\": \"scatter\"}], \"scatter3d\": [{\"line\": {\"colorbar\": {\"outlinewidth\": 0, \"ticks\": \"\"}}, \"marker\": {\"colorbar\": {\"outlinewidth\": 0, \"ticks\": \"\"}}, \"type\": \"scatter3d\"}], \"scattercarpet\": [{\"marker\": {\"colorbar\": {\"outlinewidth\": 0, \"ticks\": \"\"}}, \"type\": \"scattercarpet\"}], \"scattergeo\": [{\"marker\": {\"colorbar\": {\"outlinewidth\": 0, \"ticks\": \"\"}}, \"type\": \"scattergeo\"}], \"scattergl\": [{\"marker\": {\"colorbar\": {\"outlinewidth\": 0, \"ticks\": \"\"}}, \"type\": \"scattergl\"}], \"scattermapbox\": [{\"marker\": {\"colorbar\": {\"outlinewidth\": 0, \"ticks\": \"\"}}, \"type\": \"scattermapbox\"}], \"scatterpolar\": [{\"marker\": {\"colorbar\": {\"outlinewidth\": 0, \"ticks\": \"\"}}, \"type\": \"scatterpolar\"}], \"scatterpolargl\": [{\"marker\": {\"colorbar\": {\"outlinewidth\": 0, \"ticks\": \"\"}}, \"type\": \"scatterpolargl\"}], \"scatterternary\": [{\"marker\": {\"colorbar\": {\"outlinewidth\": 0, \"ticks\": \"\"}}, \"type\": \"scatterternary\"}], \"surface\": [{\"colorbar\": {\"outlinewidth\": 0, \"ticks\": \"\"}, \"colorscale\": [[0.0, \"#0d0887\"], [0.1111111111111111, \"#46039f\"], [0.2222222222222222, \"#7201a8\"], [0.3333333333333333, \"#9c179e\"], [0.4444444444444444, \"#bd3786\"], [0.5555555555555556, \"#d8576b\"], [0.6666666666666666, \"#ed7953\"], [0.7777777777777778, \"#fb9f3a\"], [0.8888888888888888, \"#fdca26\"], [1.0, \"#f0f921\"]], \"type\": \"surface\"}], \"table\": [{\"cells\": {\"fill\": {\"color\": \"#EBF0F8\"}, \"line\": {\"color\": \"white\"}}, \"header\": {\"fill\": {\"color\": \"#C8D4E3\"}, \"line\": {\"color\": \"white\"}}, \"type\": \"table\"}]}, \"layout\": {\"annotationdefaults\": {\"arrowcolor\": \"#2a3f5f\", \"arrowhead\": 0, \"arrowwidth\": 1}, \"coloraxis\": {\"colorbar\": {\"outlinewidth\": 0, \"ticks\": \"\"}}, \"colorscale\": {\"diverging\": [[0, \"#8e0152\"], [0.1, \"#c51b7d\"], [0.2, \"#de77ae\"], [0.3, \"#f1b6da\"], [0.4, \"#fde0ef\"], [0.5, \"#f7f7f7\"], [0.6, \"#e6f5d0\"], [0.7, \"#b8e186\"], [0.8, \"#7fbc41\"], [0.9, \"#4d9221\"], [1, \"#276419\"]], \"sequential\": [[0.0, \"#0d0887\"], [0.1111111111111111, \"#46039f\"], [0.2222222222222222, \"#7201a8\"], [0.3333333333333333, \"#9c179e\"], [0.4444444444444444, \"#bd3786\"], [0.5555555555555556, \"#d8576b\"], [0.6666666666666666, \"#ed7953\"], [0.7777777777777778, \"#fb9f3a\"], [0.8888888888888888, \"#fdca26\"], [1.0, \"#f0f921\"]], \"sequentialminus\": [[0.0, \"#0d0887\"], [0.1111111111111111, \"#46039f\"], [0.2222222222222222, \"#7201a8\"], [0.3333333333333333, \"#9c179e\"], [0.4444444444444444, \"#bd3786\"], [0.5555555555555556, \"#d8576b\"], [0.6666666666666666, \"#ed7953\"], [0.7777777777777778, \"#fb9f3a\"], [0.8888888888888888, \"#fdca26\"], [1.0, \"#f0f921\"]]}, \"colorway\": [\"#636efa\", \"#EF553B\", \"#00cc96\", \"#ab63fa\", \"#FFA15A\", \"#19d3f3\", \"#FF6692\", \"#B6E880\", \"#FF97FF\", \"#FECB52\"], \"font\": {\"color\": \"#2a3f5f\"}, \"geo\": {\"bgcolor\": \"white\", \"lakecolor\": \"white\", \"landcolor\": \"#E5ECF6\", \"showlakes\": true, \"showland\": true, \"subunitcolor\": \"white\"}, \"hoverlabel\": {\"align\": \"left\"}, \"hovermode\": \"closest\", \"mapbox\": {\"style\": \"light\"}, \"paper_bgcolor\": \"white\", \"plot_bgcolor\": \"#E5ECF6\", \"polar\": {\"angularaxis\": {\"gridcolor\": \"white\", \"linecolor\": \"white\", \"ticks\": \"\"}, \"bgcolor\": \"#E5ECF6\", \"radialaxis\": {\"gridcolor\": \"white\", \"linecolor\": \"white\", \"ticks\": \"\"}}, \"scene\": {\"xaxis\": {\"backgroundcolor\": \"#E5ECF6\", \"gridcolor\": \"white\", \"gridwidth\": 2, \"linecolor\": \"white\", \"showbackground\": true, \"ticks\": \"\", \"zerolinecolor\": \"white\"}, \"yaxis\": {\"backgroundcolor\": \"#E5ECF6\", \"gridcolor\": \"white\", \"gridwidth\": 2, \"linecolor\": \"white\", \"showbackground\": true, \"ticks\": \"\", \"zerolinecolor\": \"white\"}, \"zaxis\": {\"backgroundcolor\": \"#E5ECF6\", \"gridcolor\": \"white\", \"gridwidth\": 2, \"linecolor\": \"white\", \"showbackground\": true, \"ticks\": \"\", \"zerolinecolor\": \"white\"}}, \"shapedefaults\": {\"line\": {\"color\": \"#2a3f5f\"}}, \"ternary\": {\"aaxis\": {\"gridcolor\": \"white\", \"linecolor\": \"white\", \"ticks\": \"\"}, \"baxis\": {\"gridcolor\": \"white\", \"linecolor\": \"white\", \"ticks\": \"\"}, \"bgcolor\": \"#E5ECF6\", \"caxis\": {\"gridcolor\": \"white\", \"linecolor\": \"white\", \"ticks\": \"\"}}, \"title\": {\"x\": 0.05}, \"xaxis\": {\"automargin\": true, \"gridcolor\": \"white\", \"linecolor\": \"white\", \"ticks\": \"\", \"title\": {\"standoff\": 15}, \"zerolinecolor\": \"white\", \"zerolinewidth\": 2}, \"yaxis\": {\"automargin\": true, \"gridcolor\": \"white\", \"linecolor\": \"white\", \"ticks\": \"\", \"title\": {\"standoff\": 15}, \"zerolinecolor\": \"white\", \"zerolinewidth\": 2}}}, \"title\": {\"text\": \"Document Distribution by Topics\"}, \"xaxis\": {\"anchor\": \"y\", \"domain\": [0.0, 1.0], \"title\": {\"text\": \"Topic\"}}, \"yaxis\": {\"anchor\": \"x\", \"domain\": [0.0, 1.0], \"title\": {\"text\": \"Documents\"}}},\n",
       "                        {\"responsive\": true}\n",
       "                    ).then(function(){\n",
       "                            \n",
       "var gd = document.getElementById('01887ce6-fe55-4875-8364-372eb93be69e');\n",
       "var x = new MutationObserver(function (mutations, observer) {{\n",
       "        var display = window.getComputedStyle(gd).display;\n",
       "        if (!display || display === 'none') {{\n",
       "            console.log([gd, 'removed!']);\n",
       "            Plotly.purge(gd);\n",
       "            observer.disconnect();\n",
       "        }}\n",
       "}});\n",
       "\n",
       "// Listen for the removal of the full notebook cells\n",
       "var notebookContainer = gd.closest('#notebook-container');\n",
       "if (notebookContainer) {{\n",
       "    x.observe(notebookContainer, {childList: true});\n",
       "}}\n",
       "\n",
       "// Listen for the clearing of the current output cell\n",
       "var outputEl = gd.closest('.output');\n",
       "if (outputEl) {{\n",
       "    x.observe(outputEl, {childList: true});\n",
       "}}\n",
       "\n",
       "                        })\n",
       "                };\n",
       "                });\n",
       "            </script>\n",
       "        </div>"
      ]
     },
     "metadata": {},
     "output_type": "display_data"
    }
   ],
   "source": [
    "plot_model(tuned_pos_8, plot ='topic_distribution', save=True)"
   ]
  },
  {
   "cell_type": "markdown",
   "metadata": {},
   "source": [
    "# Negative reviews"
   ]
  },
  {
   "cell_type": "code",
   "execution_count": 16,
   "metadata": {},
   "outputs": [
    {
     "data": {
      "text/html": [
       "<div>\n",
       "<style scoped>\n",
       "    .dataframe tbody tr th:only-of-type {\n",
       "        vertical-align: middle;\n",
       "    }\n",
       "\n",
       "    .dataframe tbody tr th {\n",
       "        vertical-align: top;\n",
       "    }\n",
       "\n",
       "    .dataframe thead th {\n",
       "        text-align: right;\n",
       "    }\n",
       "</style>\n",
       "<table border=\"1\" class=\"dataframe\">\n",
       "  <thead>\n",
       "    <tr style=\"text-align: right;\">\n",
       "      <th></th>\n",
       "      <th>Unnamed: 0</th>\n",
       "      <th>r_points</th>\n",
       "      <th>r_text</th>\n",
       "      <th>place</th>\n",
       "      <th>Unnamed: 3</th>\n",
       "      <th>Unnamed: 4</th>\n",
       "      <th>Unnamed: 5</th>\n",
       "      <th>Unnamed: 6</th>\n",
       "      <th>scores</th>\n",
       "      <th>compound</th>\n",
       "      <th>score</th>\n",
       "    </tr>\n",
       "  </thead>\n",
       "  <tbody>\n",
       "    <tr>\n",
       "      <th>0</th>\n",
       "      <td>81</td>\n",
       "      <td>50</td>\n",
       "      <td>Ecellent vernisage of belgian Painters, with m...</td>\n",
       "      <td>A G Leventis Gallery</td>\n",
       "      <td>Review 5 Similarity</td>\n",
       "      <td>0.182574</td>\n",
       "      <td>NaN</td>\n",
       "      <td>NaN</td>\n",
       "      <td>{'neg': 0.137, 'neu': 0.75, 'pos': 0.113, 'com...</td>\n",
       "      <td>-0.1516</td>\n",
       "      <td>neg</td>\n",
       "    </tr>\n",
       "    <tr>\n",
       "      <th>1</th>\n",
       "      <td>133</td>\n",
       "      <td>50</td>\n",
       "      <td>The architecture and details on the walls by t...</td>\n",
       "      <td>Bedestan Church and Mosque</td>\n",
       "      <td>NaN</td>\n",
       "      <td>NaN</td>\n",
       "      <td>NaN</td>\n",
       "      <td>NaN</td>\n",
       "      <td>{'neg': 0.045, 'neu': 0.955, 'pos': 0.0, 'comp...</td>\n",
       "      <td>-0.1027</td>\n",
       "      <td>neg</td>\n",
       "    </tr>\n",
       "    <tr>\n",
       "      <th>2</th>\n",
       "      <td>153</td>\n",
       "      <td>40</td>\n",
       "      <td>Stumbled across this building that use to be S...</td>\n",
       "      <td>Bedestan Church and Mosque</td>\n",
       "      <td>NaN</td>\n",
       "      <td>NaN</td>\n",
       "      <td>NaN</td>\n",
       "      <td>NaN</td>\n",
       "      <td>{'neg': 0.089, 'neu': 0.911, 'pos': 0.0, 'comp...</td>\n",
       "      <td>-0.8625</td>\n",
       "      <td>neg</td>\n",
       "    </tr>\n",
       "    <tr>\n",
       "      <th>3</th>\n",
       "      <td>155</td>\n",
       "      <td>10</td>\n",
       "      <td>There was nothing explaining the history of th...</td>\n",
       "      <td>Buyuk Han</td>\n",
       "      <td>Review 438 Similarity</td>\n",
       "      <td>0.000000</td>\n",
       "      <td>Review 459 Similarity</td>\n",
       "      <td>1.0</td>\n",
       "      <td>{'neg': 0.12, 'neu': 0.88, 'pos': 0.0, 'compou...</td>\n",
       "      <td>-0.3400</td>\n",
       "      <td>neg</td>\n",
       "    </tr>\n",
       "    <tr>\n",
       "      <th>4</th>\n",
       "      <td>166</td>\n",
       "      <td>40</td>\n",
       "      <td>We walked by it but unfortunately it was close...</td>\n",
       "      <td>Buyuk Han</td>\n",
       "      <td>Review 251 Similarity</td>\n",
       "      <td>0.316228</td>\n",
       "      <td>Review 178 Similarity</td>\n",
       "      <td>0.5</td>\n",
       "      <td>{'neg': 0.114, 'neu': 0.886, 'pos': 0.0, 'comp...</td>\n",
       "      <td>-0.4767</td>\n",
       "      <td>neg</td>\n",
       "    </tr>\n",
       "    <tr>\n",
       "      <th>...</th>\n",
       "      <td>...</td>\n",
       "      <td>...</td>\n",
       "      <td>...</td>\n",
       "      <td>...</td>\n",
       "      <td>...</td>\n",
       "      <td>...</td>\n",
       "      <td>...</td>\n",
       "      <td>...</td>\n",
       "      <td>...</td>\n",
       "      <td>...</td>\n",
       "      <td>...</td>\n",
       "    </tr>\n",
       "    <tr>\n",
       "      <th>290</th>\n",
       "      <td>2165</td>\n",
       "      <td>30</td>\n",
       "      <td>if you are nearby the bazaar you can visit her...</td>\n",
       "      <td>Shacolas Tower</td>\n",
       "      <td>Review 45 Similarity</td>\n",
       "      <td>0.123091</td>\n",
       "      <td>NaN</td>\n",
       "      <td>NaN</td>\n",
       "      <td>{'neg': 0.052, 'neu': 0.91, 'pos': 0.038, 'com...</td>\n",
       "      <td>-0.1403</td>\n",
       "      <td>neg</td>\n",
       "    </tr>\n",
       "    <tr>\n",
       "      <th>291</th>\n",
       "      <td>2178</td>\n",
       "      <td>50</td>\n",
       "      <td>It really worths visiting it. The visitor is a...</td>\n",
       "      <td>Shacolas Tower</td>\n",
       "      <td>Review 27 Similarity</td>\n",
       "      <td>0.000000</td>\n",
       "      <td>NaN</td>\n",
       "      <td>NaN</td>\n",
       "      <td>{'neg': 0.08, 'neu': 0.92, 'pos': 0.0, 'compou...</td>\n",
       "      <td>-0.5256</td>\n",
       "      <td>neg</td>\n",
       "    </tr>\n",
       "    <tr>\n",
       "      <th>292</th>\n",
       "      <td>2180</td>\n",
       "      <td>30</td>\n",
       "      <td>Hardly worth visiting as there really isn't th...</td>\n",
       "      <td>Shacolas Tower</td>\n",
       "      <td>Review 48 Similarity</td>\n",
       "      <td>0.000000</td>\n",
       "      <td>NaN</td>\n",
       "      <td>NaN</td>\n",
       "      <td>{'neg': 0.227, 'neu': 0.731, 'pos': 0.042, 'co...</td>\n",
       "      <td>-0.7249</td>\n",
       "      <td>neg</td>\n",
       "    </tr>\n",
       "    <tr>\n",
       "      <th>293</th>\n",
       "      <td>2183</td>\n",
       "      <td>40</td>\n",
       "      <td>We paid €5 to go into the tower. There's histo...</td>\n",
       "      <td>Shacolas Tower</td>\n",
       "      <td>Review 105 Similarity</td>\n",
       "      <td>0.000000</td>\n",
       "      <td>NaN</td>\n",
       "      <td>NaN</td>\n",
       "      <td>{'neg': 0.149, 'neu': 0.758, 'pos': 0.092, 'co...</td>\n",
       "      <td>-0.3400</td>\n",
       "      <td>neg</td>\n",
       "    </tr>\n",
       "    <tr>\n",
       "      <th>294</th>\n",
       "      <td>2185</td>\n",
       "      <td>10</td>\n",
       "      <td>We attempted to visit the observatory last Fri...</td>\n",
       "      <td>Shacolas Tower</td>\n",
       "      <td>Review 141 Similarity</td>\n",
       "      <td>0.000000</td>\n",
       "      <td>NaN</td>\n",
       "      <td>NaN</td>\n",
       "      <td>{'neg': 0.049, 'neu': 0.94, 'pos': 0.012, 'com...</td>\n",
       "      <td>-0.5362</td>\n",
       "      <td>neg</td>\n",
       "    </tr>\n",
       "  </tbody>\n",
       "</table>\n",
       "<p>295 rows × 11 columns</p>\n",
       "</div>"
      ],
      "text/plain": [
       "     Unnamed: 0  r_points                                             r_text  \\\n",
       "0            81        50  Ecellent vernisage of belgian Painters, with m...   \n",
       "1           133        50  The architecture and details on the walls by t...   \n",
       "2           153        40  Stumbled across this building that use to be S...   \n",
       "3           155        10  There was nothing explaining the history of th...   \n",
       "4           166        40  We walked by it but unfortunately it was close...   \n",
       "..          ...       ...                                                ...   \n",
       "290        2165        30  if you are nearby the bazaar you can visit her...   \n",
       "291        2178        50  It really worths visiting it. The visitor is a...   \n",
       "292        2180        30  Hardly worth visiting as there really isn't th...   \n",
       "293        2183        40  We paid €5 to go into the tower. There's histo...   \n",
       "294        2185        10  We attempted to visit the observatory last Fri...   \n",
       "\n",
       "                          place             Unnamed: 3  Unnamed: 4  \\\n",
       "0          A G Leventis Gallery    Review 5 Similarity    0.182574   \n",
       "1    Bedestan Church and Mosque                    NaN         NaN   \n",
       "2    Bedestan Church and Mosque                    NaN         NaN   \n",
       "3                     Buyuk Han  Review 438 Similarity    0.000000   \n",
       "4                     Buyuk Han  Review 251 Similarity    0.316228   \n",
       "..                          ...                    ...         ...   \n",
       "290              Shacolas Tower   Review 45 Similarity    0.123091   \n",
       "291              Shacolas Tower   Review 27 Similarity    0.000000   \n",
       "292              Shacolas Tower   Review 48 Similarity    0.000000   \n",
       "293              Shacolas Tower  Review 105 Similarity    0.000000   \n",
       "294              Shacolas Tower  Review 141 Similarity    0.000000   \n",
       "\n",
       "                Unnamed: 5  Unnamed: 6  \\\n",
       "0                      NaN         NaN   \n",
       "1                      NaN         NaN   \n",
       "2                      NaN         NaN   \n",
       "3    Review 459 Similarity         1.0   \n",
       "4    Review 178 Similarity         0.5   \n",
       "..                     ...         ...   \n",
       "290                    NaN         NaN   \n",
       "291                    NaN         NaN   \n",
       "292                    NaN         NaN   \n",
       "293                    NaN         NaN   \n",
       "294                    NaN         NaN   \n",
       "\n",
       "                                                scores  compound score  \n",
       "0    {'neg': 0.137, 'neu': 0.75, 'pos': 0.113, 'com...   -0.1516   neg  \n",
       "1    {'neg': 0.045, 'neu': 0.955, 'pos': 0.0, 'comp...   -0.1027   neg  \n",
       "2    {'neg': 0.089, 'neu': 0.911, 'pos': 0.0, 'comp...   -0.8625   neg  \n",
       "3    {'neg': 0.12, 'neu': 0.88, 'pos': 0.0, 'compou...   -0.3400   neg  \n",
       "4    {'neg': 0.114, 'neu': 0.886, 'pos': 0.0, 'comp...   -0.4767   neg  \n",
       "..                                                 ...       ...   ...  \n",
       "290  {'neg': 0.052, 'neu': 0.91, 'pos': 0.038, 'com...   -0.1403   neg  \n",
       "291  {'neg': 0.08, 'neu': 0.92, 'pos': 0.0, 'compou...   -0.5256   neg  \n",
       "292  {'neg': 0.227, 'neu': 0.731, 'pos': 0.042, 'co...   -0.7249   neg  \n",
       "293  {'neg': 0.149, 'neu': 0.758, 'pos': 0.092, 'co...   -0.3400   neg  \n",
       "294  {'neg': 0.049, 'neu': 0.94, 'pos': 0.012, 'com...   -0.5362   neg  \n",
       "\n",
       "[295 rows x 11 columns]"
      ]
     },
     "execution_count": 16,
     "metadata": {},
     "output_type": "execute_result"
    }
   ],
   "source": [
    "neg_review = pd.read_csv(r'C:\\Users\\Dell\\Desktop\\sentiment_cluster12_neg.csv')\n",
    "neg_review"
   ]
  },
  {
   "cell_type": "code",
   "execution_count": 17,
   "metadata": {},
   "outputs": [
    {
     "data": {
      "text/html": [
       "<style  type=\"text/css\" >\n",
       "</style><table id=\"T_6acf4ca4_38a3_11eb_ba7e_c48e8ff9d2e0\" ><thead>    <tr>        <th class=\"col_heading level0 col0\" >Description</th>        <th class=\"col_heading level0 col1\" >Value</th>    </tr></thead><tbody>\n",
       "                <tr>\n",
       "                                <td id=\"T_6acf4ca4_38a3_11eb_ba7e_c48e8ff9d2e0row0_col0\" class=\"data row0 col0\" >session_id</td>\n",
       "                        <td id=\"T_6acf4ca4_38a3_11eb_ba7e_c48e8ff9d2e0row0_col1\" class=\"data row0 col1\" >458</td>\n",
       "            </tr>\n",
       "            <tr>\n",
       "                                <td id=\"T_6acf4ca4_38a3_11eb_ba7e_c48e8ff9d2e0row1_col0\" class=\"data row1 col0\" >Documents</td>\n",
       "                        <td id=\"T_6acf4ca4_38a3_11eb_ba7e_c48e8ff9d2e0row1_col1\" class=\"data row1 col1\" >295</td>\n",
       "            </tr>\n",
       "            <tr>\n",
       "                                <td id=\"T_6acf4ca4_38a3_11eb_ba7e_c48e8ff9d2e0row2_col0\" class=\"data row2 col0\" >Vocab Size</td>\n",
       "                        <td id=\"T_6acf4ca4_38a3_11eb_ba7e_c48e8ff9d2e0row2_col1\" class=\"data row2 col1\" >1946</td>\n",
       "            </tr>\n",
       "            <tr>\n",
       "                                <td id=\"T_6acf4ca4_38a3_11eb_ba7e_c48e8ff9d2e0row3_col0\" class=\"data row3 col0\" >Custom Stopwords</td>\n",
       "                        <td id=\"T_6acf4ca4_38a3_11eb_ba7e_c48e8ff9d2e0row3_col1\" class=\"data row3 col1\" >True</td>\n",
       "            </tr>\n",
       "    </tbody></table>"
      ],
      "text/plain": [
       "<pandas.io.formats.style.Styler at 0x2ba81a0e3c8>"
      ]
     },
     "metadata": {},
     "output_type": "display_data"
    }
   ],
   "source": [
    "exp_nlp_neg = setup(data = neg_review, target = 'r_text',\n",
    "                custom_stopwords = [ 'hotel', 'room', 'nice', 'good','restaurant', 'food','bad','place'])"
   ]
  },
  {
   "cell_type": "code",
   "execution_count": 18,
   "metadata": {},
   "outputs": [
    {
     "name": "stdout",
     "output_type": "stream",
     "text": [
      "LdaModel(num_terms=1946, num_topics=4, decay=0.5, chunksize=100)\n"
     ]
    }
   ],
   "source": [
    "#create an LDA model\n",
    "lda_neg_custom = create_model('lda')\n",
    "print(lda_neg_custom)"
   ]
  },
  {
   "cell_type": "code",
   "execution_count": 19,
   "metadata": {},
   "outputs": [],
   "source": [
    "apply_lda_neg = assign_model(lda_neg_custom)"
   ]
  },
  {
   "cell_type": "code",
   "execution_count": 20,
   "metadata": {},
   "outputs": [
    {
     "data": {
      "application/vnd.jupyter.widget-view+json": {
       "model_id": "de82b6f97a2b4f6e86bcb8b2c80f898d",
       "version_major": 2,
       "version_minor": 0
      },
      "text/plain": [
       "interactive(children=(ToggleButtons(description='Plot Type:', icons=('',), options=(('Frequency Plot', 'freque…"
      ]
     },
     "metadata": {},
     "output_type": "display_data"
    }
   ],
   "source": [
    "evaluate_model(lda_neg_custom)"
   ]
  },
  {
   "cell_type": "code",
   "execution_count": 21,
   "metadata": {},
   "outputs": [
    {
     "data": {
      "application/vnd.jupyter.widget-view+json": {
       "model_id": "",
       "version_major": 2,
       "version_minor": 0
      },
      "text/plain": [
       "IntProgress(value=0, description='Processing: ', max=25)"
      ]
     },
     "metadata": {},
     "output_type": "display_data"
    },
    {
     "data": {
      "application/vnd.jupyter.widget-view+json": {
       "model_id": "ef84407413ca4ab9915162045d138ae8",
       "version_major": 2,
       "version_minor": 0
      },
      "text/plain": [
       "Output()"
      ]
     },
     "metadata": {},
     "output_type": "display_data"
    },
    {
     "data": {
      "text/html": [
       "        <script type=\"text/javascript\">\n",
       "        window.PlotlyConfig = {MathJaxConfig: 'local'};\n",
       "        if (window.MathJax) {MathJax.Hub.Config({SVG: {font: \"STIX-Web\"}});}\n",
       "        if (typeof require !== 'undefined') {\n",
       "        require.undef(\"plotly\");\n",
       "        requirejs.config({\n",
       "            paths: {\n",
       "                'plotly': ['https://cdn.plot.ly/plotly-latest.min']\n",
       "            }\n",
       "        });\n",
       "        require(['plotly'], function(Plotly) {\n",
       "            window._Plotly = Plotly;\n",
       "        });\n",
       "        }\n",
       "        </script>\n",
       "        "
      ]
     },
     "metadata": {},
     "output_type": "display_data"
    },
    {
     "data": {
      "application/vnd.plotly.v1+json": {
       "config": {
        "plotlyServerURL": "https://plot.ly"
       },
       "data": [
        {
         "hovertemplate": "Metric=Coherence<br># Topics=%{x}<br>Score=%{y}<extra></extra>",
         "legendgroup": "Coherence",
         "line": {
          "color": "#636efa",
          "dash": "solid",
          "shape": "linear"
         },
         "mode": "lines",
         "name": "Coherence",
         "orientation": "v",
         "showlegend": true,
         "type": "scatter",
         "x": [
          2,
          4,
          8,
          16,
          32,
          64,
          100,
          200,
          300,
          400
         ],
         "xaxis": "x",
         "y": [
          0.42344040374674985,
          0.3929878864603078,
          0.2749997999390437,
          0.37874326263371577,
          0.4035600498026224,
          0.40808943774789197,
          0.44686967194630767,
          0.4070601937906395,
          0.3613847876366662,
          0.31798705012878437
         ],
         "yaxis": "y"
        }
       ],
       "layout": {
        "legend": {
         "title": {
          "text": "Metric"
         },
         "tracegroupgap": 0
        },
        "plot_bgcolor": "rgb(245,245,245)",
        "template": {
         "data": {
          "bar": [
           {
            "error_x": {
             "color": "#2a3f5f"
            },
            "error_y": {
             "color": "#2a3f5f"
            },
            "marker": {
             "line": {
              "color": "#E5ECF6",
              "width": 0.5
             }
            },
            "type": "bar"
           }
          ],
          "barpolar": [
           {
            "marker": {
             "line": {
              "color": "#E5ECF6",
              "width": 0.5
             }
            },
            "type": "barpolar"
           }
          ],
          "carpet": [
           {
            "aaxis": {
             "endlinecolor": "#2a3f5f",
             "gridcolor": "white",
             "linecolor": "white",
             "minorgridcolor": "white",
             "startlinecolor": "#2a3f5f"
            },
            "baxis": {
             "endlinecolor": "#2a3f5f",
             "gridcolor": "white",
             "linecolor": "white",
             "minorgridcolor": "white",
             "startlinecolor": "#2a3f5f"
            },
            "type": "carpet"
           }
          ],
          "choropleth": [
           {
            "colorbar": {
             "outlinewidth": 0,
             "ticks": ""
            },
            "type": "choropleth"
           }
          ],
          "contour": [
           {
            "colorbar": {
             "outlinewidth": 0,
             "ticks": ""
            },
            "colorscale": [
             [
              0,
              "#0d0887"
             ],
             [
              0.1111111111111111,
              "#46039f"
             ],
             [
              0.2222222222222222,
              "#7201a8"
             ],
             [
              0.3333333333333333,
              "#9c179e"
             ],
             [
              0.4444444444444444,
              "#bd3786"
             ],
             [
              0.5555555555555556,
              "#d8576b"
             ],
             [
              0.6666666666666666,
              "#ed7953"
             ],
             [
              0.7777777777777778,
              "#fb9f3a"
             ],
             [
              0.8888888888888888,
              "#fdca26"
             ],
             [
              1,
              "#f0f921"
             ]
            ],
            "type": "contour"
           }
          ],
          "contourcarpet": [
           {
            "colorbar": {
             "outlinewidth": 0,
             "ticks": ""
            },
            "type": "contourcarpet"
           }
          ],
          "heatmap": [
           {
            "colorbar": {
             "outlinewidth": 0,
             "ticks": ""
            },
            "colorscale": [
             [
              0,
              "#0d0887"
             ],
             [
              0.1111111111111111,
              "#46039f"
             ],
             [
              0.2222222222222222,
              "#7201a8"
             ],
             [
              0.3333333333333333,
              "#9c179e"
             ],
             [
              0.4444444444444444,
              "#bd3786"
             ],
             [
              0.5555555555555556,
              "#d8576b"
             ],
             [
              0.6666666666666666,
              "#ed7953"
             ],
             [
              0.7777777777777778,
              "#fb9f3a"
             ],
             [
              0.8888888888888888,
              "#fdca26"
             ],
             [
              1,
              "#f0f921"
             ]
            ],
            "type": "heatmap"
           }
          ],
          "heatmapgl": [
           {
            "colorbar": {
             "outlinewidth": 0,
             "ticks": ""
            },
            "colorscale": [
             [
              0,
              "#0d0887"
             ],
             [
              0.1111111111111111,
              "#46039f"
             ],
             [
              0.2222222222222222,
              "#7201a8"
             ],
             [
              0.3333333333333333,
              "#9c179e"
             ],
             [
              0.4444444444444444,
              "#bd3786"
             ],
             [
              0.5555555555555556,
              "#d8576b"
             ],
             [
              0.6666666666666666,
              "#ed7953"
             ],
             [
              0.7777777777777778,
              "#fb9f3a"
             ],
             [
              0.8888888888888888,
              "#fdca26"
             ],
             [
              1,
              "#f0f921"
             ]
            ],
            "type": "heatmapgl"
           }
          ],
          "histogram": [
           {
            "marker": {
             "colorbar": {
              "outlinewidth": 0,
              "ticks": ""
             }
            },
            "type": "histogram"
           }
          ],
          "histogram2d": [
           {
            "colorbar": {
             "outlinewidth": 0,
             "ticks": ""
            },
            "colorscale": [
             [
              0,
              "#0d0887"
             ],
             [
              0.1111111111111111,
              "#46039f"
             ],
             [
              0.2222222222222222,
              "#7201a8"
             ],
             [
              0.3333333333333333,
              "#9c179e"
             ],
             [
              0.4444444444444444,
              "#bd3786"
             ],
             [
              0.5555555555555556,
              "#d8576b"
             ],
             [
              0.6666666666666666,
              "#ed7953"
             ],
             [
              0.7777777777777778,
              "#fb9f3a"
             ],
             [
              0.8888888888888888,
              "#fdca26"
             ],
             [
              1,
              "#f0f921"
             ]
            ],
            "type": "histogram2d"
           }
          ],
          "histogram2dcontour": [
           {
            "colorbar": {
             "outlinewidth": 0,
             "ticks": ""
            },
            "colorscale": [
             [
              0,
              "#0d0887"
             ],
             [
              0.1111111111111111,
              "#46039f"
             ],
             [
              0.2222222222222222,
              "#7201a8"
             ],
             [
              0.3333333333333333,
              "#9c179e"
             ],
             [
              0.4444444444444444,
              "#bd3786"
             ],
             [
              0.5555555555555556,
              "#d8576b"
             ],
             [
              0.6666666666666666,
              "#ed7953"
             ],
             [
              0.7777777777777778,
              "#fb9f3a"
             ],
             [
              0.8888888888888888,
              "#fdca26"
             ],
             [
              1,
              "#f0f921"
             ]
            ],
            "type": "histogram2dcontour"
           }
          ],
          "mesh3d": [
           {
            "colorbar": {
             "outlinewidth": 0,
             "ticks": ""
            },
            "type": "mesh3d"
           }
          ],
          "parcoords": [
           {
            "line": {
             "colorbar": {
              "outlinewidth": 0,
              "ticks": ""
             }
            },
            "type": "parcoords"
           }
          ],
          "pie": [
           {
            "automargin": true,
            "type": "pie"
           }
          ],
          "scatter": [
           {
            "marker": {
             "colorbar": {
              "outlinewidth": 0,
              "ticks": ""
             }
            },
            "type": "scatter"
           }
          ],
          "scatter3d": [
           {
            "line": {
             "colorbar": {
              "outlinewidth": 0,
              "ticks": ""
             }
            },
            "marker": {
             "colorbar": {
              "outlinewidth": 0,
              "ticks": ""
             }
            },
            "type": "scatter3d"
           }
          ],
          "scattercarpet": [
           {
            "marker": {
             "colorbar": {
              "outlinewidth": 0,
              "ticks": ""
             }
            },
            "type": "scattercarpet"
           }
          ],
          "scattergeo": [
           {
            "marker": {
             "colorbar": {
              "outlinewidth": 0,
              "ticks": ""
             }
            },
            "type": "scattergeo"
           }
          ],
          "scattergl": [
           {
            "marker": {
             "colorbar": {
              "outlinewidth": 0,
              "ticks": ""
             }
            },
            "type": "scattergl"
           }
          ],
          "scattermapbox": [
           {
            "marker": {
             "colorbar": {
              "outlinewidth": 0,
              "ticks": ""
             }
            },
            "type": "scattermapbox"
           }
          ],
          "scatterpolar": [
           {
            "marker": {
             "colorbar": {
              "outlinewidth": 0,
              "ticks": ""
             }
            },
            "type": "scatterpolar"
           }
          ],
          "scatterpolargl": [
           {
            "marker": {
             "colorbar": {
              "outlinewidth": 0,
              "ticks": ""
             }
            },
            "type": "scatterpolargl"
           }
          ],
          "scatterternary": [
           {
            "marker": {
             "colorbar": {
              "outlinewidth": 0,
              "ticks": ""
             }
            },
            "type": "scatterternary"
           }
          ],
          "surface": [
           {
            "colorbar": {
             "outlinewidth": 0,
             "ticks": ""
            },
            "colorscale": [
             [
              0,
              "#0d0887"
             ],
             [
              0.1111111111111111,
              "#46039f"
             ],
             [
              0.2222222222222222,
              "#7201a8"
             ],
             [
              0.3333333333333333,
              "#9c179e"
             ],
             [
              0.4444444444444444,
              "#bd3786"
             ],
             [
              0.5555555555555556,
              "#d8576b"
             ],
             [
              0.6666666666666666,
              "#ed7953"
             ],
             [
              0.7777777777777778,
              "#fb9f3a"
             ],
             [
              0.8888888888888888,
              "#fdca26"
             ],
             [
              1,
              "#f0f921"
             ]
            ],
            "type": "surface"
           }
          ],
          "table": [
           {
            "cells": {
             "fill": {
              "color": "#EBF0F8"
             },
             "line": {
              "color": "white"
             }
            },
            "header": {
             "fill": {
              "color": "#C8D4E3"
             },
             "line": {
              "color": "white"
             }
            },
            "type": "table"
           }
          ]
         },
         "layout": {
          "annotationdefaults": {
           "arrowcolor": "#2a3f5f",
           "arrowhead": 0,
           "arrowwidth": 1
          },
          "coloraxis": {
           "colorbar": {
            "outlinewidth": 0,
            "ticks": ""
           }
          },
          "colorscale": {
           "diverging": [
            [
             0,
             "#8e0152"
            ],
            [
             0.1,
             "#c51b7d"
            ],
            [
             0.2,
             "#de77ae"
            ],
            [
             0.3,
             "#f1b6da"
            ],
            [
             0.4,
             "#fde0ef"
            ],
            [
             0.5,
             "#f7f7f7"
            ],
            [
             0.6,
             "#e6f5d0"
            ],
            [
             0.7,
             "#b8e186"
            ],
            [
             0.8,
             "#7fbc41"
            ],
            [
             0.9,
             "#4d9221"
            ],
            [
             1,
             "#276419"
            ]
           ],
           "sequential": [
            [
             0,
             "#0d0887"
            ],
            [
             0.1111111111111111,
             "#46039f"
            ],
            [
             0.2222222222222222,
             "#7201a8"
            ],
            [
             0.3333333333333333,
             "#9c179e"
            ],
            [
             0.4444444444444444,
             "#bd3786"
            ],
            [
             0.5555555555555556,
             "#d8576b"
            ],
            [
             0.6666666666666666,
             "#ed7953"
            ],
            [
             0.7777777777777778,
             "#fb9f3a"
            ],
            [
             0.8888888888888888,
             "#fdca26"
            ],
            [
             1,
             "#f0f921"
            ]
           ],
           "sequentialminus": [
            [
             0,
             "#0d0887"
            ],
            [
             0.1111111111111111,
             "#46039f"
            ],
            [
             0.2222222222222222,
             "#7201a8"
            ],
            [
             0.3333333333333333,
             "#9c179e"
            ],
            [
             0.4444444444444444,
             "#bd3786"
            ],
            [
             0.5555555555555556,
             "#d8576b"
            ],
            [
             0.6666666666666666,
             "#ed7953"
            ],
            [
             0.7777777777777778,
             "#fb9f3a"
            ],
            [
             0.8888888888888888,
             "#fdca26"
            ],
            [
             1,
             "#f0f921"
            ]
           ]
          },
          "colorway": [
           "#636efa",
           "#EF553B",
           "#00cc96",
           "#ab63fa",
           "#FFA15A",
           "#19d3f3",
           "#FF6692",
           "#B6E880",
           "#FF97FF",
           "#FECB52"
          ],
          "font": {
           "color": "#2a3f5f"
          },
          "geo": {
           "bgcolor": "white",
           "lakecolor": "white",
           "landcolor": "#E5ECF6",
           "showlakes": true,
           "showland": true,
           "subunitcolor": "white"
          },
          "hoverlabel": {
           "align": "left"
          },
          "hovermode": "closest",
          "mapbox": {
           "style": "light"
          },
          "paper_bgcolor": "white",
          "plot_bgcolor": "#E5ECF6",
          "polar": {
           "angularaxis": {
            "gridcolor": "white",
            "linecolor": "white",
            "ticks": ""
           },
           "bgcolor": "#E5ECF6",
           "radialaxis": {
            "gridcolor": "white",
            "linecolor": "white",
            "ticks": ""
           }
          },
          "scene": {
           "xaxis": {
            "backgroundcolor": "#E5ECF6",
            "gridcolor": "white",
            "gridwidth": 2,
            "linecolor": "white",
            "showbackground": true,
            "ticks": "",
            "zerolinecolor": "white"
           },
           "yaxis": {
            "backgroundcolor": "#E5ECF6",
            "gridcolor": "white",
            "gridwidth": 2,
            "linecolor": "white",
            "showbackground": true,
            "ticks": "",
            "zerolinecolor": "white"
           },
           "zaxis": {
            "backgroundcolor": "#E5ECF6",
            "gridcolor": "white",
            "gridwidth": 2,
            "linecolor": "white",
            "showbackground": true,
            "ticks": "",
            "zerolinecolor": "white"
           }
          },
          "shapedefaults": {
           "line": {
            "color": "#2a3f5f"
           }
          },
          "ternary": {
           "aaxis": {
            "gridcolor": "white",
            "linecolor": "white",
            "ticks": ""
           },
           "baxis": {
            "gridcolor": "white",
            "linecolor": "white",
            "ticks": ""
           },
           "bgcolor": "#E5ECF6",
           "caxis": {
            "gridcolor": "white",
            "linecolor": "white",
            "ticks": ""
           }
          },
          "title": {
           "x": 0.05
          },
          "xaxis": {
           "automargin": true,
           "gridcolor": "white",
           "linecolor": "white",
           "ticks": "",
           "title": {
            "standoff": 15
           },
           "zerolinecolor": "white",
           "zerolinewidth": 2
          },
          "yaxis": {
           "automargin": true,
           "gridcolor": "white",
           "linecolor": "white",
           "ticks": "",
           "title": {
            "standoff": 15
           },
           "zerolinecolor": "white",
           "zerolinewidth": 2
          }
         }
        },
        "title": {
         "text": "Coherence Value and # of Topics"
        },
        "xaxis": {
         "anchor": "y",
         "domain": [
          0,
          1
         ],
         "title": {
          "text": "# Topics"
         }
        },
        "yaxis": {
         "anchor": "x",
         "domain": [
          0,
          1
         ],
         "title": {
          "text": "Score"
         }
        }
       }
      },
      "text/html": [
       "<div>\n",
       "        \n",
       "        \n",
       "            <div id=\"ee729ac7-9493-46ad-b649-f89ae8994a7c\" class=\"plotly-graph-div\" style=\"height:525px; width:100%;\"></div>\n",
       "            <script type=\"text/javascript\">\n",
       "                require([\"plotly\"], function(Plotly) {\n",
       "                    window.PLOTLYENV=window.PLOTLYENV || {};\n",
       "                    \n",
       "                if (document.getElementById(\"ee729ac7-9493-46ad-b649-f89ae8994a7c\")) {\n",
       "                    Plotly.newPlot(\n",
       "                        'ee729ac7-9493-46ad-b649-f89ae8994a7c',\n",
       "                        [{\"hovertemplate\": \"Metric=Coherence<br># Topics=%{x}<br>Score=%{y}<extra></extra>\", \"legendgroup\": \"Coherence\", \"line\": {\"color\": \"#636efa\", \"dash\": \"solid\", \"shape\": \"linear\"}, \"mode\": \"lines\", \"name\": \"Coherence\", \"orientation\": \"v\", \"showlegend\": true, \"type\": \"scatter\", \"x\": [2, 4, 8, 16, 32, 64, 100, 200, 300, 400], \"xaxis\": \"x\", \"y\": [0.42344040374674985, 0.3929878864603078, 0.2749997999390437, 0.37874326263371577, 0.4035600498026224, 0.40808943774789197, 0.44686967194630767, 0.4070601937906395, 0.3613847876366662, 0.31798705012878437], \"yaxis\": \"y\"}],\n",
       "                        {\"legend\": {\"title\": {\"text\": \"Metric\"}, \"tracegroupgap\": 0}, \"plot_bgcolor\": \"rgb(245,245,245)\", \"template\": {\"data\": {\"bar\": [{\"error_x\": {\"color\": \"#2a3f5f\"}, \"error_y\": {\"color\": \"#2a3f5f\"}, \"marker\": {\"line\": {\"color\": \"#E5ECF6\", \"width\": 0.5}}, \"type\": \"bar\"}], \"barpolar\": [{\"marker\": {\"line\": {\"color\": \"#E5ECF6\", \"width\": 0.5}}, \"type\": \"barpolar\"}], \"carpet\": [{\"aaxis\": {\"endlinecolor\": \"#2a3f5f\", \"gridcolor\": \"white\", \"linecolor\": \"white\", \"minorgridcolor\": \"white\", \"startlinecolor\": \"#2a3f5f\"}, \"baxis\": {\"endlinecolor\": \"#2a3f5f\", \"gridcolor\": \"white\", \"linecolor\": \"white\", \"minorgridcolor\": \"white\", \"startlinecolor\": \"#2a3f5f\"}, \"type\": \"carpet\"}], \"choropleth\": [{\"colorbar\": {\"outlinewidth\": 0, \"ticks\": \"\"}, \"type\": \"choropleth\"}], \"contour\": [{\"colorbar\": {\"outlinewidth\": 0, \"ticks\": \"\"}, \"colorscale\": [[0.0, \"#0d0887\"], [0.1111111111111111, \"#46039f\"], [0.2222222222222222, \"#7201a8\"], [0.3333333333333333, \"#9c179e\"], [0.4444444444444444, \"#bd3786\"], [0.5555555555555556, \"#d8576b\"], [0.6666666666666666, \"#ed7953\"], [0.7777777777777778, \"#fb9f3a\"], [0.8888888888888888, \"#fdca26\"], [1.0, \"#f0f921\"]], \"type\": \"contour\"}], \"contourcarpet\": [{\"colorbar\": {\"outlinewidth\": 0, \"ticks\": \"\"}, \"type\": \"contourcarpet\"}], \"heatmap\": [{\"colorbar\": {\"outlinewidth\": 0, \"ticks\": \"\"}, \"colorscale\": [[0.0, \"#0d0887\"], [0.1111111111111111, \"#46039f\"], [0.2222222222222222, \"#7201a8\"], [0.3333333333333333, \"#9c179e\"], [0.4444444444444444, \"#bd3786\"], [0.5555555555555556, \"#d8576b\"], [0.6666666666666666, \"#ed7953\"], [0.7777777777777778, \"#fb9f3a\"], [0.8888888888888888, \"#fdca26\"], [1.0, \"#f0f921\"]], \"type\": \"heatmap\"}], \"heatmapgl\": [{\"colorbar\": {\"outlinewidth\": 0, \"ticks\": \"\"}, \"colorscale\": [[0.0, \"#0d0887\"], [0.1111111111111111, \"#46039f\"], [0.2222222222222222, \"#7201a8\"], [0.3333333333333333, \"#9c179e\"], [0.4444444444444444, \"#bd3786\"], [0.5555555555555556, \"#d8576b\"], [0.6666666666666666, \"#ed7953\"], [0.7777777777777778, \"#fb9f3a\"], [0.8888888888888888, \"#fdca26\"], [1.0, \"#f0f921\"]], \"type\": \"heatmapgl\"}], \"histogram\": [{\"marker\": {\"colorbar\": {\"outlinewidth\": 0, \"ticks\": \"\"}}, \"type\": \"histogram\"}], \"histogram2d\": [{\"colorbar\": {\"outlinewidth\": 0, \"ticks\": \"\"}, \"colorscale\": [[0.0, \"#0d0887\"], [0.1111111111111111, \"#46039f\"], [0.2222222222222222, \"#7201a8\"], [0.3333333333333333, \"#9c179e\"], [0.4444444444444444, \"#bd3786\"], [0.5555555555555556, \"#d8576b\"], [0.6666666666666666, \"#ed7953\"], [0.7777777777777778, \"#fb9f3a\"], [0.8888888888888888, \"#fdca26\"], [1.0, \"#f0f921\"]], \"type\": \"histogram2d\"}], \"histogram2dcontour\": [{\"colorbar\": {\"outlinewidth\": 0, \"ticks\": \"\"}, \"colorscale\": [[0.0, \"#0d0887\"], [0.1111111111111111, \"#46039f\"], [0.2222222222222222, \"#7201a8\"], [0.3333333333333333, \"#9c179e\"], [0.4444444444444444, \"#bd3786\"], [0.5555555555555556, \"#d8576b\"], [0.6666666666666666, \"#ed7953\"], [0.7777777777777778, \"#fb9f3a\"], [0.8888888888888888, \"#fdca26\"], [1.0, \"#f0f921\"]], \"type\": \"histogram2dcontour\"}], \"mesh3d\": [{\"colorbar\": {\"outlinewidth\": 0, \"ticks\": \"\"}, \"type\": \"mesh3d\"}], \"parcoords\": [{\"line\": {\"colorbar\": {\"outlinewidth\": 0, \"ticks\": \"\"}}, \"type\": \"parcoords\"}], \"pie\": [{\"automargin\": true, \"type\": \"pie\"}], \"scatter\": [{\"marker\": {\"colorbar\": {\"outlinewidth\": 0, \"ticks\": \"\"}}, \"type\": \"scatter\"}], \"scatter3d\": [{\"line\": {\"colorbar\": {\"outlinewidth\": 0, \"ticks\": \"\"}}, \"marker\": {\"colorbar\": {\"outlinewidth\": 0, \"ticks\": \"\"}}, \"type\": \"scatter3d\"}], \"scattercarpet\": [{\"marker\": {\"colorbar\": {\"outlinewidth\": 0, \"ticks\": \"\"}}, \"type\": \"scattercarpet\"}], \"scattergeo\": [{\"marker\": {\"colorbar\": {\"outlinewidth\": 0, \"ticks\": \"\"}}, \"type\": \"scattergeo\"}], \"scattergl\": [{\"marker\": {\"colorbar\": {\"outlinewidth\": 0, \"ticks\": \"\"}}, \"type\": \"scattergl\"}], \"scattermapbox\": [{\"marker\": {\"colorbar\": {\"outlinewidth\": 0, \"ticks\": \"\"}}, \"type\": \"scattermapbox\"}], \"scatterpolar\": [{\"marker\": {\"colorbar\": {\"outlinewidth\": 0, \"ticks\": \"\"}}, \"type\": \"scatterpolar\"}], \"scatterpolargl\": [{\"marker\": {\"colorbar\": {\"outlinewidth\": 0, \"ticks\": \"\"}}, \"type\": \"scatterpolargl\"}], \"scatterternary\": [{\"marker\": {\"colorbar\": {\"outlinewidth\": 0, \"ticks\": \"\"}}, \"type\": \"scatterternary\"}], \"surface\": [{\"colorbar\": {\"outlinewidth\": 0, \"ticks\": \"\"}, \"colorscale\": [[0.0, \"#0d0887\"], [0.1111111111111111, \"#46039f\"], [0.2222222222222222, \"#7201a8\"], [0.3333333333333333, \"#9c179e\"], [0.4444444444444444, \"#bd3786\"], [0.5555555555555556, \"#d8576b\"], [0.6666666666666666, \"#ed7953\"], [0.7777777777777778, \"#fb9f3a\"], [0.8888888888888888, \"#fdca26\"], [1.0, \"#f0f921\"]], \"type\": \"surface\"}], \"table\": [{\"cells\": {\"fill\": {\"color\": \"#EBF0F8\"}, \"line\": {\"color\": \"white\"}}, \"header\": {\"fill\": {\"color\": \"#C8D4E3\"}, \"line\": {\"color\": \"white\"}}, \"type\": \"table\"}]}, \"layout\": {\"annotationdefaults\": {\"arrowcolor\": \"#2a3f5f\", \"arrowhead\": 0, \"arrowwidth\": 1}, \"coloraxis\": {\"colorbar\": {\"outlinewidth\": 0, \"ticks\": \"\"}}, \"colorscale\": {\"diverging\": [[0, \"#8e0152\"], [0.1, \"#c51b7d\"], [0.2, \"#de77ae\"], [0.3, \"#f1b6da\"], [0.4, \"#fde0ef\"], [0.5, \"#f7f7f7\"], [0.6, \"#e6f5d0\"], [0.7, \"#b8e186\"], [0.8, \"#7fbc41\"], [0.9, \"#4d9221\"], [1, \"#276419\"]], \"sequential\": [[0.0, \"#0d0887\"], [0.1111111111111111, \"#46039f\"], [0.2222222222222222, \"#7201a8\"], [0.3333333333333333, \"#9c179e\"], [0.4444444444444444, \"#bd3786\"], [0.5555555555555556, \"#d8576b\"], [0.6666666666666666, \"#ed7953\"], [0.7777777777777778, \"#fb9f3a\"], [0.8888888888888888, \"#fdca26\"], [1.0, \"#f0f921\"]], \"sequentialminus\": [[0.0, \"#0d0887\"], [0.1111111111111111, \"#46039f\"], [0.2222222222222222, \"#7201a8\"], [0.3333333333333333, \"#9c179e\"], [0.4444444444444444, \"#bd3786\"], [0.5555555555555556, \"#d8576b\"], [0.6666666666666666, \"#ed7953\"], [0.7777777777777778, \"#fb9f3a\"], [0.8888888888888888, \"#fdca26\"], [1.0, \"#f0f921\"]]}, \"colorway\": [\"#636efa\", \"#EF553B\", \"#00cc96\", \"#ab63fa\", \"#FFA15A\", \"#19d3f3\", \"#FF6692\", \"#B6E880\", \"#FF97FF\", \"#FECB52\"], \"font\": {\"color\": \"#2a3f5f\"}, \"geo\": {\"bgcolor\": \"white\", \"lakecolor\": \"white\", \"landcolor\": \"#E5ECF6\", \"showlakes\": true, \"showland\": true, \"subunitcolor\": \"white\"}, \"hoverlabel\": {\"align\": \"left\"}, \"hovermode\": \"closest\", \"mapbox\": {\"style\": \"light\"}, \"paper_bgcolor\": \"white\", \"plot_bgcolor\": \"#E5ECF6\", \"polar\": {\"angularaxis\": {\"gridcolor\": \"white\", \"linecolor\": \"white\", \"ticks\": \"\"}, \"bgcolor\": \"#E5ECF6\", \"radialaxis\": {\"gridcolor\": \"white\", \"linecolor\": \"white\", \"ticks\": \"\"}}, \"scene\": {\"xaxis\": {\"backgroundcolor\": \"#E5ECF6\", \"gridcolor\": \"white\", \"gridwidth\": 2, \"linecolor\": \"white\", \"showbackground\": true, \"ticks\": \"\", \"zerolinecolor\": \"white\"}, \"yaxis\": {\"backgroundcolor\": \"#E5ECF6\", \"gridcolor\": \"white\", \"gridwidth\": 2, \"linecolor\": \"white\", \"showbackground\": true, \"ticks\": \"\", \"zerolinecolor\": \"white\"}, \"zaxis\": {\"backgroundcolor\": \"#E5ECF6\", \"gridcolor\": \"white\", \"gridwidth\": 2, \"linecolor\": \"white\", \"showbackground\": true, \"ticks\": \"\", \"zerolinecolor\": \"white\"}}, \"shapedefaults\": {\"line\": {\"color\": \"#2a3f5f\"}}, \"ternary\": {\"aaxis\": {\"gridcolor\": \"white\", \"linecolor\": \"white\", \"ticks\": \"\"}, \"baxis\": {\"gridcolor\": \"white\", \"linecolor\": \"white\", \"ticks\": \"\"}, \"bgcolor\": \"#E5ECF6\", \"caxis\": {\"gridcolor\": \"white\", \"linecolor\": \"white\", \"ticks\": \"\"}}, \"title\": {\"x\": 0.05}, \"xaxis\": {\"automargin\": true, \"gridcolor\": \"white\", \"linecolor\": \"white\", \"ticks\": \"\", \"title\": {\"standoff\": 15}, \"zerolinecolor\": \"white\", \"zerolinewidth\": 2}, \"yaxis\": {\"automargin\": true, \"gridcolor\": \"white\", \"linecolor\": \"white\", \"ticks\": \"\", \"title\": {\"standoff\": 15}, \"zerolinecolor\": \"white\", \"zerolinewidth\": 2}}}, \"title\": {\"text\": \"Coherence Value and # of Topics\"}, \"xaxis\": {\"anchor\": \"y\", \"domain\": [0.0, 1.0], \"title\": {\"text\": \"# Topics\"}}, \"yaxis\": {\"anchor\": \"x\", \"domain\": [0.0, 1.0], \"title\": {\"text\": \"Score\"}}},\n",
       "                        {\"responsive\": true}\n",
       "                    ).then(function(){\n",
       "                            \n",
       "var gd = document.getElementById('ee729ac7-9493-46ad-b649-f89ae8994a7c');\n",
       "var x = new MutationObserver(function (mutations, observer) {{\n",
       "        var display = window.getComputedStyle(gd).display;\n",
       "        if (!display || display === 'none') {{\n",
       "            console.log([gd, 'removed!']);\n",
       "            Plotly.purge(gd);\n",
       "            observer.disconnect();\n",
       "        }}\n",
       "}});\n",
       "\n",
       "// Listen for the removal of the full notebook cells\n",
       "var notebookContainer = gd.closest('#notebook-container');\n",
       "if (notebookContainer) {{\n",
       "    x.observe(notebookContainer, {childList: true});\n",
       "}}\n",
       "\n",
       "// Listen for the clearing of the current output cell\n",
       "var outputEl = gd.closest('.output');\n",
       "if (outputEl) {{\n",
       "    x.observe(outputEl, {childList: true});\n",
       "}}\n",
       "\n",
       "                        })\n",
       "                };\n",
       "                });\n",
       "            </script>\n",
       "        </div>"
      ]
     },
     "metadata": {},
     "output_type": "display_data"
    },
    {
     "name": "stdout",
     "output_type": "stream",
     "text": [
      "Best Model: Latent Dirichlet Allocation | # Topics: 100 | Coherence: 0.4469\n"
     ]
    }
   ],
   "source": [
    "tune_lda_negative = tune_model(model='lda', supervised_target=None, estimator='xgboost')"
   ]
  },
  {
   "cell_type": "markdown",
   "metadata": {},
   "source": [
    "4 topics is chosen"
   ]
  },
  {
   "cell_type": "code",
   "execution_count": 22,
   "metadata": {},
   "outputs": [
    {
     "data": {
      "text/html": [
       "        <script type=\"text/javascript\">\n",
       "        window.PlotlyConfig = {MathJaxConfig: 'local'};\n",
       "        if (window.MathJax) {MathJax.Hub.Config({SVG: {font: \"STIX-Web\"}});}\n",
       "        if (typeof require !== 'undefined') {\n",
       "        require.undef(\"plotly\");\n",
       "        requirejs.config({\n",
       "            paths: {\n",
       "                'plotly': ['https://cdn.plot.ly/plotly-latest.min']\n",
       "            }\n",
       "        });\n",
       "        require(['plotly'], function(Plotly) {\n",
       "            window._Plotly = Plotly;\n",
       "        });\n",
       "        }\n",
       "        </script>\n",
       "        "
      ]
     },
     "metadata": {},
     "output_type": "display_data"
    },
    {
     "data": {
      "text/html": [
       "\n",
       "<link rel=\"stylesheet\" type=\"text/css\" href=\"https://cdn.rawgit.com/bmabey/pyLDAvis/files/ldavis.v1.0.0.css\">\n",
       "\n",
       "\n",
       "<div id=\"ldavis_el30275230020831171287541351628\"></div>\n",
       "<script type=\"text/javascript\">\n",
       "\n",
       "var ldavis_el30275230020831171287541351628_data = {\"mdsDat\": {\"x\": [-0.11940589109054321, -0.05870940577965464, 0.09271223383058641, 0.08540306303961144], \"y\": [-0.13006292136501388, 0.14264451811866158, -0.12051932640793384, 0.10793772965428614], \"topics\": [1, 2, 3, 4], \"cluster\": [1, 1, 1, 1], \"Freq\": [37.58143615722656, 23.86768341064453, 23.811473846435547, 14.739407539367676]}, \"tinfo\": {\"Term\": [\"side\", \"turkish\", \"part\", \"greek\", \"cross\", \"border\", \"sad\", \"gate\", \"passport\", \"crossing\", \"night\", \"feel\", \"country\", \"breakfast\", \"staff\", \"old\", \"street\", \"look\", \"stay\", \"shop\", \"occupy\", \"interesting\", \"divide\", \"point\", \"towel\", \"bathroom\", \"control\", \"tourist\", \"walk\", \"book\", \"part\", \"greek\", \"sad\", \"occupy\", \"control\", \"tourist\", \"stamp\", \"northern\", \"line\", \"sell\", \"allow\", \"fill\", \"paper\", \"reality\", \"sign\", \"european\", \"interesting\", \"turk\", \"guard\", \"world\", \"form\", \"southern\", \"hand\", \"attraction\", \"follow\", \"custom\", \"able\", \"divided_capital\", \"buy\", \"spend\", \"queue\", \"turkish\", \"passport\", \"take\", \"photo\", \"border\", \"side\", \"little\", \"minute\", \"see\", \"check\", \"cross\", \"city\", \"visit\", \"pass\", \"back\", \"time\", \"show\", \"way\", \"really\", \"go\", \"bring\", \"worth\", \"divide\", \"crossing\", \"people\", \"get\", \"experience\", \"point\", \"gate\", \"eat\", \"set\", \"bathroom\", \"cover\", \"helpful\", \"air\", \"closed\", \"dark\", \"overall\", \"video\", \"conditioning\", \"pool\", \"loud\", \"bored\", \"warm\", \"facility\", \"bite\", \"refurbish\", \"right\", \"plan\", \"signage\", \"manner\", \"button\", \"portrait\", \"least\", \"hold\", \"traffic\", \"luggage\", \"decent\", \"night\", \"due\", \"display\", \"park\", \"window\", \"single\", \"light\", \"old\", \"stay\", \"bed\", \"small\", \"offer\", \"floor\", \"wall\", \"business\", \"breakfast\", \"day\", \"staff\", \"close\", \"open\", \"look\", \"say\", \"location\", \"book\", \"go\", \"entrance\", \"come\", \"seem\", \"work\", \"leave\", \"visit\", \"also\", \"get\", \"back\", \"see\", \"country\", \"strange\", \"north\", \"shopping\", \"middle\", \"wire\", \"remind\", \"live\", \"barb\", \"odd\", \"actual\", \"end\", \"forget\", \"atmosphere\", \"beautiful\", \"bus\", \"weird\", \"second\", \"authority\", \"life\", \"meet\", \"sight\", \"let\", \"remember\", \"land\", \"currency\", \"lead\", \"suppose\", \"run\", \"gun\", \"war\", \"street\", \"feel\", \"thought\", \"home\", \"hard\", \"shop\", \"year\", \"walk\", \"crossing\", \"point\", \"look\", \"cross\", \"side\", \"divide\", \"cypriot\", \"road\", \"visit\", \"see\", \"border\", \"lot\", \"turkish\", \"go\", \"city\", \"town\", \"passport\", \"time\", \"thing\", \"still\", \"experience\", \"people\", \"pretty\", \"cold\", \"opinion\", \"screen\", \"stain\", \"smoke\", \"extra\", \"absolutely\", \"touch\", \"guest\", \"elevator\", \"info\", \"properly\", \"towel\", \"glass\", \"tv\", \"tragedy\", \"ever\", \"focus\", \"external\", \"description\", \"cleanliness\", \"heater\", \"spot\", \"ceiling\", \"management\", \"nothing_special\", \"egg\", \"midnight\", \"rating\", \"standard\", \"disappointed\", \"picture\", \"hot\", \"phone\", \"attention\", \"bath\", \"access\", \"machine\", \"high\", \"staff\", \"breakfast\", \"reception\", \"whole\", \"hear\", \"pay\", \"book\", \"problem\", \"well\", \"clean\", \"need\", \"even\", \"really\", \"stay\", \"call\", \"service\", \"worth\", \"work\", \"go\", \"give\", \"find\", \"old\", \"use\", \"night\", \"say\"], \"Freq\": [121.0, 79.0, 41.0, 38.0, 66.0, 65.0, 34.0, 21.0, 54.0, 40.0, 23.0, 26.0, 16.0, 21.0, 18.0, 40.0, 23.0, 36.0, 23.0, 24.0, 21.0, 27.0, 33.0, 37.0, 10.0, 13.0, 18.0, 19.0, 43.0, 13.0, 41.189659118652344, 37.48012924194336, 33.83477783203125, 20.79136085510254, 18.294775009155273, 18.386213302612305, 13.78956413269043, 12.3671875, 12.631096839904785, 9.975870132446289, 9.839454650878906, 8.832530975341797, 8.693549156188965, 7.459290504455566, 7.31884765625, 7.136255741119385, 25.484651565551758, 8.580501556396484, 6.9416890144348145, 9.380868911743164, 6.349074840545654, 6.027470111846924, 5.7552409172058105, 5.951332092285156, 5.521944999694824, 5.387687683105469, 5.204365253448486, 5.231808185577393, 9.063375473022461, 5.425358295440674, 11.899515151977539, 62.76374435424805, 42.739601135253906, 31.441333770751953, 9.895700454711914, 48.148067474365234, 81.69589233398438, 13.356769561767578, 15.097785949707031, 51.869937896728516, 22.887828826904297, 40.85846710205078, 33.59095764160156, 38.77494430541992, 15.22449779510498, 24.84499168395996, 27.485431671142578, 16.20781135559082, 13.14319133758545, 20.341270446777344, 29.03656768798828, 14.538653373718262, 17.96101951599121, 18.53019905090332, 19.199081420898438, 16.983999252319336, 15.849845886230469, 15.980355262756348, 15.711488723754883, 20.80062484741211, 10.027053833007812, 9.091421127319336, 12.173667907714844, 5.933477878570557, 5.486717700958252, 5.296137809753418, 4.737299919128418, 4.702079772949219, 4.655981063842773, 4.113524436950684, 4.035497188568115, 4.002620697021484, 3.4454329013824463, 3.4434056282043457, 3.4075496196746826, 3.3677585124969482, 3.4272308349609375, 3.3657915592193604, 9.00029182434082, 2.9992077350616455, 2.8213930130004883, 2.9885737895965576, 2.816575288772583, 2.812628984451294, 5.551509857177734, 2.780028820037842, 2.805537462234497, 2.7434282302856445, 2.7695515155792236, 18.652729034423828, 3.432570219039917, 5.2418293952941895, 7.1329851150512695, 7.091620922088623, 4.655200481414795, 8.588343620300293, 25.76250457763672, 15.589816093444824, 9.26472282409668, 20.091646194458008, 5.799481391906738, 10.380643844604492, 12.662572860717773, 6.7620015144348145, 12.580998420715332, 15.326090812683105, 10.2938814163208, 9.315893173217773, 9.266241073608398, 14.942780494689941, 11.824623107910156, 9.549490928649902, 7.966926574707031, 17.67381477355957, 7.327343940734863, 9.200117111206055, 8.015138626098633, 7.862087726593018, 8.96959114074707, 11.000396728515625, 7.9902520179748535, 8.258928298950195, 8.24730110168457, 8.02924919128418, 16.018030166625977, 8.848550796508789, 8.061332702636719, 8.20433521270752, 7.811251163482666, 6.516470909118652, 6.171212196350098, 6.165398597717285, 5.251594066619873, 5.049558162689209, 4.891899585723877, 9.555753707885742, 5.182209014892578, 4.35057258605957, 4.349436283111572, 3.9715139865875244, 3.967223882675171, 3.7504019737243652, 3.7859084606170654, 10.913054466247559, 3.570702314376831, 3.4665398597717285, 3.4394588470458984, 4.311288833618164, 3.111267566680908, 3.0731449127197266, 3.400331974029541, 2.88613224029541, 3.1987979412078857, 2.8660998344421387, 9.934760093688965, 17.705835342407227, 19.313379287719727, 4.886195659637451, 5.104161262512207, 5.768157482147217, 15.993837356567383, 12.793511390686035, 22.895084381103516, 20.584243774414062, 19.449323654174805, 17.901731491088867, 24.955259323120117, 35.88051986694336, 14.599925994873047, 10.368946075439453, 7.497625350952148, 20.986635208129883, 21.37542724609375, 17.320505142211914, 7.656431198120117, 16.438312530517578, 14.841218948364258, 12.989718437194824, 8.079590797424316, 11.76278018951416, 11.236488342285156, 8.37413501739502, 8.489633560180664, 8.646885871887207, 8.608097076416016, 5.532642841339111, 4.961612224578857, 3.7663402557373047, 3.230109691619873, 3.161442279815674, 3.1736562252044678, 3.139273166656494, 2.841733694076538, 2.63713002204895, 2.606017827987671, 2.5713863372802734, 2.7835500240325928, 2.5589942932128906, 8.270549774169922, 2.5657317638397217, 2.490405559539795, 2.2473368644714355, 2.192972183227539, 2.184361457824707, 2.018512010574341, 1.985668659210205, 1.985668420791626, 1.985668420791626, 1.9856281280517578, 1.9854140281677246, 1.9851288795471191, 3.689664602279663, 1.978106141090393, 1.9746885299682617, 1.9438321590423584, 4.992093563079834, 4.285939693450928, 3.731091260910034, 5.194832801818848, 4.322220802307129, 3.3661980628967285, 3.096144437789917, 3.159681558609009, 2.3568782806396484, 3.774198055267334, 7.875441551208496, 8.68175983428955, 5.190610885620117, 3.7536754608154297, 3.474991798400879, 6.107867240905762, 5.528080940246582, 6.245636940002441, 5.573298454284668, 5.081320762634277, 5.795290946960449, 6.215208053588867, 6.9655351638793945, 5.862968921661377, 4.2291083335876465, 4.076999664306641, 5.417539119720459, 4.4595723152160645, 6.004652500152588, 4.106102466583252, 4.335890769958496, 4.676411151885986, 4.224801063537598, 4.199853420257568, 4.194760322570801], \"Total\": [121.0, 79.0, 41.0, 38.0, 66.0, 65.0, 34.0, 21.0, 54.0, 40.0, 23.0, 26.0, 16.0, 21.0, 18.0, 40.0, 23.0, 36.0, 23.0, 24.0, 21.0, 27.0, 33.0, 37.0, 10.0, 13.0, 18.0, 19.0, 43.0, 13.0, 41.9267692565918, 38.16477966308594, 34.50675964355469, 21.46565818786621, 18.982013702392578, 19.095552444458008, 14.471330642700195, 13.017967224121094, 13.34391975402832, 10.644543647766113, 10.499577522277832, 9.487960815429688, 9.340612411499023, 8.117382049560547, 7.969925880432129, 7.781192779541016, 27.822031021118164, 9.374673843383789, 7.602448463439941, 10.325490951538086, 7.001436233520508, 6.675654411315918, 6.410514831542969, 6.63059663772583, 6.190042972564697, 6.043397903442383, 5.853704452514648, 5.894867420196533, 10.24211311340332, 6.1659135818481445, 13.54770278930664, 79.65435028076172, 54.954349517822266, 40.09642028808594, 11.591252326965332, 65.9244384765625, 121.34480285644531, 16.29316520690918, 19.246368408203125, 83.07444763183594, 31.446481704711914, 66.2717514038086, 52.63309097290039, 72.94039916992188, 20.762157440185547, 41.2235107421875, 47.71763229370117, 23.31390380859375, 17.35391616821289, 36.3193244934082, 67.5562515258789, 20.707679748535156, 30.637754440307617, 33.58433151245117, 40.235511779785156, 30.75714874267578, 29.697298049926758, 31.19878387451172, 37.748497009277344, 21.547840118408203, 10.676475524902344, 9.790121078491211, 13.323789596557617, 6.579697608947754, 6.127473831176758, 5.91693639755249, 5.361867427825928, 5.3253021240234375, 5.287313461303711, 4.733602523803711, 4.658777236938477, 4.622062683105469, 4.067554950714111, 4.06704568862915, 4.030409812927246, 3.99282169342041, 4.06411075592041, 3.9926438331604004, 10.843913078308105, 3.647974729537964, 3.4389684200286865, 3.6459898948669434, 3.4382989406585693, 3.4377522468566895, 6.78889799118042, 3.401388645172119, 3.436689853668213, 3.3642187118530273, 3.3994052410125732, 23.25812530517578, 4.214113235473633, 6.53713321685791, 9.236757278442383, 9.207988739013672, 5.876729965209961, 11.602499008178711, 40.70857620239258, 23.671831130981445, 13.201359748840332, 34.273380279541016, 7.716382026672363, 16.367069244384766, 21.329809188842773, 9.613849639892578, 21.664073944091797, 31.36863899230957, 18.573184967041016, 16.826595306396484, 16.992929458618164, 36.45454406738281, 26.669090270996094, 19.061134338378906, 13.942598342895508, 67.5562515258789, 12.304685592651367, 20.465137481689453, 15.336063385009766, 15.936040878295898, 24.49005889892578, 72.94039916992188, 18.48645782470703, 29.697298049926758, 41.2235107421875, 83.07444763183594, 16.70451545715332, 9.537071228027344, 8.732781410217285, 8.903456687927246, 8.48287296295166, 7.180515766143799, 6.832444190979004, 6.8326616287231445, 5.9188737869262695, 5.750952243804932, 5.572331428527832, 10.887697219848633, 5.932004928588867, 5.013962745666504, 5.013643741607666, 4.667740345001221, 4.668264389038086, 4.428299427032471, 4.490525722503662, 12.985758781433105, 4.249129772186279, 4.140614032745361, 4.1090006828308105, 5.237743377685547, 3.793262481689453, 3.7522599697113037, 4.152243137359619, 3.541832685470581, 3.9386985301971436, 3.5439863204956055, 12.569926261901855, 23.24382781982422, 26.08057403564453, 6.164165019989014, 6.566854953765869, 7.627991676330566, 24.995607376098633, 20.738636016845703, 43.70358657836914, 40.235511779785156, 37.748497009277344, 36.45454406738281, 66.2717514038086, 121.34480285644531, 33.58433151245117, 20.466554641723633, 12.518941879272461, 72.94039916992188, 83.07444763183594, 65.9244384765625, 13.569018363952637, 79.65435028076172, 67.5562515258789, 52.63309097290039, 16.261348724365234, 54.954349517822266, 47.71763229370117, 21.303627014160156, 23.030519485473633, 31.19878387451172, 30.75714874267578, 6.220241069793701, 5.599931240081787, 4.45327091217041, 3.8659403324127197, 3.7965383529663086, 3.830296039581299, 3.7979564666748047, 3.4765257835388184, 3.276069164276123, 3.242008686065674, 3.2072789669036865, 3.4724998474121094, 3.206592082977295, 10.372177124023438, 3.2380752563476562, 3.1987192630767822, 2.8866171836853027, 2.8505263328552246, 2.850053071975708, 2.652395248413086, 2.617673635482788, 2.6176741123199463, 2.6176750659942627, 2.617676258087158, 2.617654323577881, 2.6176321506500244, 4.87241792678833, 2.618037223815918, 2.6182966232299805, 2.6163558959960938, 6.818214416503906, 5.912222385406494, 5.1816911697387695, 7.75275993347168, 6.313512802124023, 4.76746129989624, 4.429537773132324, 4.562941074371338, 3.214127779006958, 6.279061794281006, 18.573184967041016, 21.664073944091797, 10.576471328735352, 6.446994781494141, 5.7338337898254395, 16.031084060668945, 13.942598342895508, 18.530941009521484, 15.044062614440918, 13.252326011657715, 21.92430877685547, 26.763996124267578, 36.3193244934082, 23.671831130981445, 10.214357376098633, 10.02352523803711, 30.637754440307617, 15.936040878295898, 67.5562515258789, 12.399602890014648, 21.352718353271484, 40.70857620239258, 19.750335693359375, 23.25812530517578, 26.669090270996094], \"Category\": [\"Default\", \"Default\", \"Default\", \"Default\", \"Default\", \"Default\", \"Default\", \"Default\", \"Default\", \"Default\", \"Default\", \"Default\", \"Default\", \"Default\", \"Default\", \"Default\", \"Default\", \"Default\", \"Default\", \"Default\", \"Default\", \"Default\", \"Default\", \"Default\", \"Default\", \"Default\", \"Default\", \"Default\", \"Default\", \"Default\", \"Topic1\", \"Topic1\", \"Topic1\", \"Topic1\", \"Topic1\", \"Topic1\", \"Topic1\", \"Topic1\", \"Topic1\", \"Topic1\", \"Topic1\", \"Topic1\", \"Topic1\", \"Topic1\", \"Topic1\", \"Topic1\", \"Topic1\", \"Topic1\", \"Topic1\", \"Topic1\", \"Topic1\", \"Topic1\", \"Topic1\", \"Topic1\", \"Topic1\", \"Topic1\", \"Topic1\", \"Topic1\", \"Topic1\", \"Topic1\", \"Topic1\", \"Topic1\", \"Topic1\", \"Topic1\", \"Topic1\", \"Topic1\", \"Topic1\", \"Topic1\", \"Topic1\", \"Topic1\", \"Topic1\", \"Topic1\", \"Topic1\", \"Topic1\", \"Topic1\", \"Topic1\", \"Topic1\", \"Topic1\", \"Topic1\", \"Topic1\", \"Topic1\", \"Topic1\", \"Topic1\", \"Topic1\", \"Topic1\", \"Topic1\", \"Topic1\", \"Topic1\", \"Topic1\", \"Topic2\", \"Topic2\", \"Topic2\", \"Topic2\", \"Topic2\", \"Topic2\", \"Topic2\", \"Topic2\", \"Topic2\", \"Topic2\", \"Topic2\", \"Topic2\", \"Topic2\", \"Topic2\", \"Topic2\", \"Topic2\", \"Topic2\", \"Topic2\", \"Topic2\", \"Topic2\", \"Topic2\", \"Topic2\", \"Topic2\", \"Topic2\", \"Topic2\", \"Topic2\", \"Topic2\", \"Topic2\", \"Topic2\", \"Topic2\", \"Topic2\", \"Topic2\", \"Topic2\", \"Topic2\", \"Topic2\", \"Topic2\", \"Topic2\", \"Topic2\", \"Topic2\", \"Topic2\", \"Topic2\", \"Topic2\", \"Topic2\", \"Topic2\", \"Topic2\", \"Topic2\", \"Topic2\", \"Topic2\", \"Topic2\", \"Topic2\", \"Topic2\", \"Topic2\", \"Topic2\", \"Topic2\", \"Topic2\", \"Topic2\", \"Topic2\", \"Topic2\", \"Topic2\", \"Topic2\", \"Topic2\", \"Topic2\", \"Topic2\", \"Topic2\", \"Topic2\", \"Topic3\", \"Topic3\", \"Topic3\", \"Topic3\", \"Topic3\", \"Topic3\", \"Topic3\", \"Topic3\", \"Topic3\", \"Topic3\", \"Topic3\", \"Topic3\", \"Topic3\", \"Topic3\", \"Topic3\", \"Topic3\", \"Topic3\", \"Topic3\", \"Topic3\", \"Topic3\", \"Topic3\", \"Topic3\", \"Topic3\", \"Topic3\", \"Topic3\", \"Topic3\", \"Topic3\", \"Topic3\", \"Topic3\", \"Topic3\", \"Topic3\", \"Topic3\", \"Topic3\", \"Topic3\", \"Topic3\", \"Topic3\", \"Topic3\", \"Topic3\", \"Topic3\", \"Topic3\", \"Topic3\", \"Topic3\", \"Topic3\", \"Topic3\", \"Topic3\", \"Topic3\", \"Topic3\", \"Topic3\", \"Topic3\", \"Topic3\", \"Topic3\", \"Topic3\", \"Topic3\", \"Topic3\", \"Topic3\", \"Topic3\", \"Topic3\", \"Topic3\", \"Topic3\", \"Topic3\", \"Topic3\", \"Topic4\", \"Topic4\", \"Topic4\", \"Topic4\", \"Topic4\", \"Topic4\", \"Topic4\", \"Topic4\", \"Topic4\", \"Topic4\", \"Topic4\", \"Topic4\", \"Topic4\", \"Topic4\", \"Topic4\", \"Topic4\", \"Topic4\", \"Topic4\", \"Topic4\", \"Topic4\", \"Topic4\", \"Topic4\", \"Topic4\", \"Topic4\", \"Topic4\", \"Topic4\", \"Topic4\", \"Topic4\", \"Topic4\", \"Topic4\", \"Topic4\", \"Topic4\", \"Topic4\", \"Topic4\", \"Topic4\", \"Topic4\", \"Topic4\", \"Topic4\", \"Topic4\", \"Topic4\", \"Topic4\", \"Topic4\", \"Topic4\", \"Topic4\", \"Topic4\", \"Topic4\", \"Topic4\", \"Topic4\", \"Topic4\", \"Topic4\", \"Topic4\", \"Topic4\", \"Topic4\", \"Topic4\", \"Topic4\", \"Topic4\", \"Topic4\", \"Topic4\", \"Topic4\", \"Topic4\", \"Topic4\", \"Topic4\", \"Topic4\", \"Topic4\", \"Topic4\"], \"logprob\": [30.0, 29.0, 28.0, 27.0, 26.0, 25.0, 24.0, 23.0, 22.0, 21.0, 20.0, 19.0, 18.0, 17.0, 16.0, 15.0, 14.0, 13.0, 12.0, 11.0, 10.0, 9.0, 8.0, 7.0, 6.0, 5.0, 4.0, 3.0, 2.0, 1.0, -4.28849983215332, -4.382800102233887, -4.485199928283691, -4.972099781036377, -5.099999904632568, -5.095099925994873, -5.382699966430664, -5.491600036621094, -5.4704999923706055, -5.706500053405762, -5.720300197601318, -5.828199863433838, -5.844099998474121, -5.997200012207031, -6.016200065612793, -6.041500091552734, -4.768599987030029, -5.8572001457214355, -6.0690999031066895, -5.76800012588501, -6.158400058746338, -6.210299968719482, -6.256499767303467, -6.2230000495910645, -6.297900199890137, -6.322500228881836, -6.3572001457214355, -6.351900100708008, -5.8024001121521, -6.3155999183654785, -5.530200004577637, -3.867300033569336, -4.251500129699707, -4.558499813079834, -5.714600086212158, -4.132400035858154, -3.6036999225616455, -5.414599895477295, -5.292099952697754, -4.0578999519348145, -4.876100063323975, -4.296500205993652, -4.492400169372559, -4.348899841308594, -5.28380012512207, -4.794000148773193, -4.692999839782715, -5.221199989318848, -5.430799961090088, -4.99399995803833, -4.6381001472473145, -5.329800128936768, -5.118500232696533, -5.087299823760986, -5.051799774169922, -5.1743998527526855, -5.243500232696533, -5.235300064086914, -5.252299785614014, -4.5177001953125, -5.247399806976318, -5.345300197601318, -5.053400039672852, -5.77209997177124, -5.850299835205078, -5.885700225830078, -5.997200012207031, -6.004700183868408, -6.014500141143799, -6.138400077819824, -6.15749979019165, -6.1656999588012695, -6.3155999183654785, -6.316199779510498, -6.326700210571289, -6.338399887084961, -6.320899963378906, -6.339000225067139, -5.355400085449219, -6.4542999267578125, -6.515399932861328, -6.457900047302246, -6.517199993133545, -6.518599987030029, -5.838600158691406, -6.530200004577637, -6.521100044250488, -6.543499946594238, -6.533999919891357, -4.626699924468994, -6.319399833679199, -5.895999908447266, -5.587900161743164, -5.593800067901611, -6.014699935913086, -5.402299880981445, -4.303800106048584, -4.806099891662598, -5.326499938964844, -4.5524001121521, -5.794899940490723, -5.212699890136719, -5.013999938964844, -5.64139986038208, -5.020500183105469, -4.8231000900268555, -5.221099853515625, -5.321000099182129, -5.326300144195557, -4.848400115966797, -5.082499980926514, -5.296199798583984, -5.477399826049805, -4.680600166320801, -5.561100006103516, -5.333499908447266, -5.47130012512207, -5.490600109100342, -5.358799934387207, -5.154699802398682, -5.4745001792907715, -5.441400051116943, -5.442800045013428, -5.469600200653076, -4.776599884033203, -5.370100021362305, -5.463200092315674, -5.445700168609619, -5.494800090789795, -5.676000118255615, -5.730400085449219, -5.731400012969971, -5.8917999267578125, -5.931000232696533, -5.962699890136719, -5.2932000160217285, -5.905099868774414, -6.079999923706055, -6.0802998542785645, -6.171199798583984, -6.172299861907959, -6.228499889373779, -6.218999862670898, -5.160399913787842, -6.277599811553955, -6.307199954986572, -6.315000057220459, -6.089099884033203, -6.415299892425537, -6.427599906921387, -6.326399803161621, -6.4903998374938965, -6.387499809265137, -6.497399806976318, -5.254300117492676, -4.676400184631348, -4.5894999504089355, -5.963900089263916, -5.920300006866455, -5.797999858856201, -4.77810001373291, -5.001399993896484, -4.419400215148926, -4.5258002281188965, -4.582499980926514, -4.66540002822876, -4.333199977874756, -3.970099925994873, -4.86929988861084, -5.21150016784668, -5.535699844360352, -4.506400108337402, -4.488100051879883, -4.698400020599365, -5.514800071716309, -4.750699996948242, -4.85290002822876, -4.986199855804443, -5.460999965667725, -5.085400104522705, -5.131199836730957, -5.42519998550415, -5.411499977111816, -5.393099784851074, -5.397600173950195, -5.360000133514404, -5.468900203704834, -5.74459981918335, -5.898200035095215, -5.919600009918213, -5.915800094604492, -5.926700115203857, -6.026299953460693, -6.10099983215332, -6.1128997802734375, -6.126200199127197, -6.046899795532227, -6.131100177764893, -4.958000183105469, -6.128399848937988, -6.158199787139893, -6.260900020599365, -6.285399913787842, -6.289400100708008, -6.368299961090088, -6.384699821472168, -6.384699821472168, -6.384699821472168, -6.384699821472168, -6.384799957275391, -6.385000228881836, -5.765100002288818, -6.388500213623047, -6.3902997970581055, -6.406000137329102, -5.462800025939941, -5.615300178527832, -5.754000186920166, -5.422999858856201, -5.606900215148926, -5.856900215148926, -5.940499782562256, -5.920199871063232, -6.2133002281188965, -5.742499828338623, -5.006899833679199, -4.90939998626709, -5.423799991607666, -5.747900009155273, -5.825099945068359, -5.261099815368652, -5.360799789428711, -5.238800048828125, -5.352700233459473, -5.445099830627441, -5.313600063323975, -5.24370002746582, -5.129700183868408, -5.302000045776367, -5.628699779510498, -5.665299892425537, -5.38100004196167, -5.5756001472473145, -5.27810001373291, -5.658199787139893, -5.603700160980225, -5.52810001373291, -5.629700183868408, -5.6356000900268555, -5.6367998123168945], \"loglift\": [30.0, 29.0, 28.0, 27.0, 26.0, 25.0, 24.0, 23.0, 22.0, 21.0, 20.0, 19.0, 18.0, 17.0, 16.0, 15.0, 14.0, 13.0, 12.0, 11.0, 10.0, 9.0, 8.0, 7.0, 6.0, 5.0, 4.0, 3.0, 2.0, 1.0, 0.9609000086784363, 0.9606000185012817, 0.9589999914169312, 0.9466999769210815, 0.9417999982833862, 0.9408000111579895, 0.930400013923645, 0.9273999929428101, 0.923799991607666, 0.9138000011444092, 0.9136999845504761, 0.9071000218391418, 0.9068999886512756, 0.89410001039505, 0.8934000134468079, 0.8920999765396118, 0.8909000158309937, 0.8901000022888184, 0.8877000212669373, 0.8827000260353088, 0.8809000253677368, 0.8765000104904175, 0.8708000183105469, 0.8705999851226807, 0.8644000291824341, 0.8637999892234802, 0.8611000180244446, 0.8593000173568726, 0.8564000129699707, 0.8507000207901001, 0.8489000201225281, 0.7402999997138977, 0.7272999882698059, 0.7354999780654907, 0.8205000162124634, 0.6643999814987183, 0.5830000042915344, 0.7799000144004822, 0.7358999848365784, 0.5077000260353088, 0.6610000133514404, 0.4950000047683716, 0.5296000242233276, 0.3467999994754791, 0.66839998960495, 0.4722999930381775, 0.4269999861717224, 0.6151000261306763, 0.7006999850273132, 0.39899998903274536, 0.13429999351501465, 0.625, 0.444599986076355, 0.3840000033378601, 0.23880000412464142, 0.384799987077713, 0.3508000075817108, 0.30959999561309814, 0.10209999978542328, 1.3974000215530396, 1.3698999881744385, 1.3586000204086304, 1.3423999547958374, 1.329300045967102, 1.3221999406814575, 1.3217999935150146, 1.3087999820709229, 1.3082000017166138, 1.3055000305175781, 1.292199969291687, 1.2890000343322754, 1.2888000011444092, 1.266700029373169, 1.2661999464035034, 1.264799952507019, 1.2624000310897827, 1.2621999979019165, 1.2618999481201172, 1.2462999820709229, 1.236799955368042, 1.2346999645233154, 1.2338000535964966, 1.233199954032898, 1.2318999767303467, 1.2314000129699707, 1.2309000492095947, 1.229699969291687, 1.228700041770935, 1.2276999950408936, 1.2120000123977661, 1.2274999618530273, 1.2117999792099, 1.1742000579833984, 1.1714999675750732, 1.1995999813079834, 1.1318000555038452, 0.9750999808311462, 1.0149999856948853, 1.0785000324249268, 0.8985999822616577, 1.1470999717712402, 0.9772999882698059, 0.9111999869346619, 1.0808000564575195, 0.88919997215271, 0.7164000272750854, 0.8424999713897705, 0.8414000272750854, 0.826200008392334, 0.5407999753952026, 0.6193000078201294, 0.7415000200271606, 0.8730000257492065, 0.09179999679327011, 0.9143000245094299, 0.6330999732017517, 0.7838000059127808, 0.7261000275611877, 0.42820000648498535, -0.45910000801086426, 0.5938000082969666, 0.15289999544620514, -0.17649999260902405, -0.9039999842643738, 1.3930000066757202, 1.3601000308990479, 1.3550000190734863, 1.3531999588012695, 1.3524999618530273, 1.3380000591278076, 1.3331999778747559, 1.332200050354004, 1.3154000043869019, 1.304900050163269, 1.304800033569336, 1.3044999837875366, 1.2999000549316406, 1.2930999994277954, 1.2928999662399292, 1.2734999656677246, 1.2723000049591064, 1.2688000202178955, 1.264299988746643, 1.2611000537872314, 1.2611000537872314, 1.2573000192642212, 1.257099986076355, 1.2403000593185425, 1.236799955368042, 1.2352999448776245, 1.235200047492981, 1.230299949645996, 1.2268999814987183, 1.2226999998092651, 1.1996999979019165, 1.1628999710083008, 1.134600043296814, 1.2027000188827515, 1.1829999685287476, 1.155500054359436, 0.9884999990463257, 0.9519000053405762, 0.7885000109672546, 0.7648000121116638, 0.7718999981880188, 0.723800003528595, 0.45829999446868896, 0.21660000085830688, 0.6019999980926514, 0.7549999952316284, 0.9222999811172485, 0.1891999989748001, 0.07750000059604645, 0.09839999675750732, 0.8628000020980835, -0.14309999346733093, -0.08049999922513962, 0.03579999879002571, 0.7355999946594238, -0.10660000145435333, -0.011099999770522118, 0.5012999773025513, 0.43700000643730164, 0.1518000066280365, 0.1615999937057495, 1.7975000143051147, 1.7935999631881714, 1.7470999956130981, 1.7350000143051147, 1.731600046157837, 1.7266000509262085, 1.7242000102996826, 1.7130000591278076, 1.697700023651123, 1.6963000297546387, 1.6936999559402466, 1.69350004196167, 1.6891000270843506, 1.6881999969482422, 1.6819000244140625, 1.6642999649047852, 1.6642999649047852, 1.652400016784668, 1.6485999822616577, 1.6414999961853027, 1.6382999420166016, 1.6382999420166016, 1.6382999420166016, 1.6382999420166016, 1.638200044631958, 1.638100028038025, 1.6366000175476074, 1.6344000101089478, 1.6325000524520874, 1.6174999475479126, 1.6029000282287598, 1.593000054359436, 1.5861999988555908, 1.514299988746643, 1.5356999635696411, 1.56659996509552, 1.55649995803833, 1.5470999479293823, 1.6044000387191772, 1.4055999517440796, 1.0566999912261963, 1.0002000331878662, 1.2029000520706177, 1.3738000392913818, 1.4139000177383423, 0.9496999979019165, 0.9894999861717224, 0.8270999789237976, 0.9215999841690063, 0.9559999704360962, 0.5841000080108643, 0.4546000063419342, 0.26330000162124634, 0.5189999938011169, 1.0327999591827393, 1.0151000022888184, 0.18209999799728394, 0.6410999894142151, -0.5058000087738037, 0.809499979019165, 0.3203999996185303, -0.2493000030517578, 0.3723999857902527, 0.2029999941587448, 0.06499999761581421]}, \"token.table\": {\"Topic\": [1, 4, 3, 4, 3, 2, 1, 1, 2, 3, 4, 3, 3, 4, 1, 3, 1, 2, 3, 4, 3, 2, 4, 2, 3, 3, 2, 4, 2, 2, 4, 1, 3, 2, 2, 4, 1, 3, 4, 3, 1, 2, 3, 4, 2, 1, 3, 1, 2, 4, 4, 1, 2, 3, 4, 1, 2, 3, 4, 2, 3, 4, 4, 2, 3, 4, 2, 4, 1, 2, 4, 2, 1, 3, 2, 1, 3, 1, 3, 3, 1, 1, 3, 2, 1, 2, 3, 4, 2, 4, 2, 4, 2, 4, 1, 3, 1, 2, 2, 4, 4, 3, 4, 1, 2, 3, 1, 1, 2, 3, 4, 4, 1, 2, 3, 4, 4, 4, 2, 1, 3, 1, 1, 2, 3, 4, 1, 2, 4, 4, 1, 3, 1, 2, 1, 2, 3, 4, 2, 3, 4, 4, 1, 2, 3, 4, 1, 1, 4, 3, 1, 1, 2, 3, 2, 4, 4, 2, 3, 4, 2, 3, 4, 2, 4, 4, 1, 2, 3, 3, 2, 4, 1, 2, 4, 3, 2, 3, 2, 4, 1, 1, 2, 4, 3, 2, 3, 4, 1, 2, 3, 4, 1, 2, 3, 4, 2, 2, 4, 4, 2, 3, 3, 4, 1, 2, 3, 4, 1, 2, 3, 4, 2, 4, 3, 1, 2, 4, 1, 3, 2, 4, 1, 2, 3, 4, 1, 2, 3, 4, 2, 1, 2, 3, 1, 1, 3, 1, 3, 1, 2, 3, 4, 1, 2, 3, 4, 1, 4, 1, 4, 3, 4, 2, 1, 3, 4, 2, 2, 4, 1, 2, 3, 4, 4, 1, 3, 4, 1, 1, 2, 3, 4, 2, 4, 2, 3, 3, 1, 2, 1, 2, 3, 4, 3, 1, 1, 2, 3, 4, 4, 3, 1, 2, 3, 4, 1, 2, 3, 1, 2, 4, 2, 1, 3, 3, 1, 2, 3, 1, 2, 3, 3, 1, 2, 2, 4, 1, 2, 3, 4, 4, 1, 1, 4, 2, 4, 4, 1, 2, 4, 2, 3, 4, 1, 2, 3, 3, 1, 3, 4, 3, 1, 2, 3, 4, 1, 2, 3, 4, 3, 4, 1, 2, 3, 4, 4, 1, 2, 4, 1, 2, 3, 2, 4, 1, 1, 3, 4, 1, 2, 3, 4, 2, 1, 2, 3, 4, 1, 2, 3, 4, 2, 3, 4, 1, 3, 2, 1, 2, 3, 4, 3, 1, 2, 3, 4, 2, 3, 4, 2, 4, 3, 1, 2, 3, 4, 1, 4, 1, 2, 3, 4, 1, 2, 3], \"Freq\": [0.854159951210022, 0.8629304766654968, 0.2191568911075592, 0.657470703125, 0.8972904682159424, 0.8450319170951843, 0.9524192810058594, 0.3245618939399719, 0.4327492117881775, 0.10818730294704437, 0.16228094696998596, 0.7977721691131592, 0.20975524187088013, 0.6292657256126404, 0.9048959612846375, 0.8907642960548401, 0.6064500212669373, 0.19406402111053467, 0.16980601847171783, 0.024258002638816833, 0.8447552919387817, 0.2257571965456009, 0.6772715449333191, 0.9006446599960327, 0.07505372166633606, 0.7978229522705078, 0.6817479729652405, 0.3029990792274475, 0.7381688356399536, 0.5737811326980591, 0.4303358495235443, 0.7281063199043274, 0.25787097215652466, 0.737636148929596, 0.6000717878341675, 0.415434330701828, 0.7243689298629761, 0.19316504895687103, 0.04829126223921776, 0.8569456934928894, 0.10401660203933716, 0.7281162142753601, 0.10401660203933716, 0.10401660203933716, 0.8725244998931885, 0.8787249326705933, 0.09763610363006592, 0.4895070493221283, 0.09790141135454178, 0.3916056454181671, 0.7640427947044373, 0.7314013838768005, 0.15900029242038727, 0.06360012292861938, 0.06360012292861938, 0.6459814310073853, 0.09499727189540863, 0.24699290096759796, 0.018999453634023666, 0.45275071263313293, 0.1509169042110443, 0.3772922456264496, 0.7640370726585388, 0.5348675847053528, 0.35657837986946106, 0.059429727494716644, 0.9325109124183655, 0.8928681015968323, 0.39090868830680847, 0.43977227807044983, 0.14659075438976288, 0.8585944175720215, 0.9482660889625549, 0.9578248262405396, 0.9118959903717041, 0.6186648011207581, 0.37723463773727417, 0.47221967577934265, 0.521926999092102, 0.7995181679725647, 0.8273491263389587, 0.48860201239585876, 0.48860201239585876, 0.938913881778717, 0.3187897205352783, 0.47818461060523987, 0.09563691914081573, 0.09563691914081573, 0.88250732421875, 0.7640371918678284, 0.16914112865924835, 0.6765645146369934, 0.7648612856864929, 0.1529722511768341, 0.5657399892807007, 0.4466368556022644, 0.848195493221283, 0.7118935585021973, 0.9366387128829956, 0.7639310956001282, 0.9353723526000977, 0.9184678792953491, 0.09184678643941879, 0.32507941126823425, 0.5688889622688293, 0.08126985281705856, 0.8996050357818604, 0.2989090383052826, 0.2615453898906708, 0.18681813776493073, 0.22418177127838135, 0.7016248106956482, 0.5128405094146729, 0.1282101273536682, 0.2884727716445923, 0.09615759551525116, 0.7540354132652283, 0.7898984551429749, 0.7513483762741089, 0.2300562858581543, 0.7285115718841553, 0.9485705494880676, 0.4214920103549957, 0.18732978403568268, 0.18732978403568268, 0.18732978403568268, 0.183294877409935, 0.6109829545021057, 0.183294877409935, 0.7017413377761841, 0.9692986011505127, 0.8428853154182434, 0.856967031955719, 0.9745756387710571, 0.538769543170929, 0.2693847715854645, 0.13469238579273224, 0.06734619289636612, 0.32259097695350647, 0.32259097695350647, 0.32259097695350647, 0.9264762997627258, 0.4292719066143036, 0.2664446234703064, 0.2220371812582016, 0.088814876973629, 0.9694802761077881, 0.9207559823989868, 0.9253522157669067, 0.8465043902397156, 0.9359622597694397, 0.13109610974788666, 0.13109610974788666, 0.7865766286849976, 0.348806768655777, 0.5232101678848267, 0.7640367746353149, 0.8159969449043274, 0.3185189366340637, 0.6370378732681274, 0.8819926977157593, 0.761399507522583, 0.15227989852428436, 0.2579726576805115, 0.6449316143989563, 0.8639309406280518, 0.8985684514045715, 0.07188548147678375, 0.7908759117126465, 0.7225010395050049, 0.8837958574295044, 0.14729930460453033, 0.5308276414871216, 0.3674960434436798, 0.12249868363142014, 0.7301045060157776, 0.07700743526220322, 0.8470817804336548, 0.7756949663162231, 0.2585649788379669, 0.9742264747619629, 0.7978805899620056, 0.12275085598230362, 0.06137542799115181, 0.878135085105896, 0.5246277451515198, 0.2623138725757599, 0.20985110104084015, 0.0822942703962326, 0.41147133708000183, 0.49376559257507324, 0.027431422844529152, 0.147394597530365, 0.22109189629554749, 0.58957839012146, 0.0736972987651825, 0.7375438213348389, 0.8917375206947327, 0.6222528219223022, 0.7640492916107178, 0.8228217959403992, 0.9413692355155945, 0.9430767297744751, 0.7638553977012634, 0.7793678045272827, 0.10391570627689362, 0.05195785313844681, 0.05195785313844681, 0.18244588375091553, 0.2280573546886444, 0.3192802965641022, 0.2736688256263733, 0.8169187903404236, 0.17198291420936584, 0.9160884022712708, 0.9218028783798218, 0.20523691177368164, 0.8209476470947266, 0.9783068299293518, 0.8694212436676025, 0.7775664925575256, 0.25918883085250854, 0.12282424420118332, 0.6386860609054565, 0.14738908410072327, 0.12282424420118332, 0.17654401063919067, 0.529632031917572, 0.2942400276660919, 0.898216187953949, 0.9456598162651062, 0.9635342359542847, 0.7578417062759399, 0.21652621030807495, 0.9778954982757568, 0.7224682569503784, 0.24082276225090027, 0.7824676632881165, 0.21836306154727936, 0.3118940591812134, 0.1871364414691925, 0.1871364414691925, 0.374272882938385, 0.5527170300483704, 0.13005106151103973, 0.2926149070262909, 0.032512765377759933, 0.31678086519241333, 0.6335617303848267, 0.8627195358276367, 0.08627195656299591, 0.19298718869686127, 0.7719487547874451, 0.8223741054534912, 0.4238579273223877, 0.5033313035964966, 0.05298224091529846, 0.8654145002365112, 0.8726632595062256, 0.9645928144454956, 0.5396379828453064, 0.0539637990295887, 0.0539637990295887, 0.3237828016281128, 0.9355726838111877, 0.8857589960098267, 0.07381325215101242, 0.7644219994544983, 0.8623470067977905, 0.5506710410118103, 0.05506710335612297, 0.19273486733436584, 0.19273486733436584, 0.47274747490882874, 0.47274747490882874, 0.7513818144798279, 0.7636876702308655, 0.8781630396842957, 0.09221763163805008, 0.8299586772918701, 0.15975791215896606, 0.15975791215896606, 0.5591526627540588, 0.07987895607948303, 0.7616729140281677, 0.9853141903877258, 0.18748296797275543, 0.4499590992927551, 0.22497954964637756, 0.1499863713979721, 0.7760078310966492, 0.9032812714576721, 0.6259445548057556, 0.09629916399717331, 0.2527852952480316, 0.024074790999293327, 0.3260289132595062, 0.52164626121521, 0.1304115653038025, 0.9394484758377075, 0.5985918045043945, 0.3990612030029297, 0.9192940592765808, 0.36006325483322144, 0.6401124596595764, 0.8985274434089661, 0.6862857341766357, 0.042892858386039734, 0.2573571503162384, 0.6757602691650391, 0.024722937494516373, 0.29667526483535767, 0.7245302200317383, 0.878301739692688, 0.8723546266555786, 0.8508132696151733, 0.17016266286373138, 0.17506298422813416, 0.5835432410240173, 0.17506298422813416, 0.05835432559251785, 0.7832292914390564, 0.8987882733345032, 0.8109098672866821, 0.7640364170074463, 0.5384106040000916, 0.4307284951210022, 0.790193498134613, 0.967430055141449, 0.14666596055030823, 0.7333298325538635, 0.6759088635444641, 0.08448860794305801, 0.25346580147743225, 0.5210477113723755, 0.08684129267930984, 0.3473651707172394, 0.9436859488487244, 0.17208869755268097, 0.7743991017341614, 0.04302217438817024, 0.8470191359519958, 0.7731363773345947, 0.0498797632753849, 0.0748196467757225, 0.0997595265507698, 0.2816421687602997, 0.2816421687602997, 0.3755229115486145, 0.04694036394357681, 0.8111398816108704, 0.16222797334194183, 0.5658285617828369, 0.1047830730676651, 0.2305227518081665, 0.0838264524936676, 0.9157316088676453, 0.9426278471946716, 0.19282354414463043, 0.7712941765785217, 0.30747756361961365, 0.1844865381717682, 0.49196410179138184, 0.872933030128479, 0.6928524971008301, 0.9600334167480469, 0.7909172773361206, 0.20086787641048431, 0.6252502202987671, 0.6075845956802368, 0.1012641042470932, 0.1012641042470932, 0.2025282084941864, 0.8450223803520203, 0.534683108329773, 0.15080806612968445, 0.287906289100647, 0.027419647201895714, 0.3432212471961975, 0.11440708488225937, 0.5262725949287415, 0.022881416603922844, 0.6094756722450256, 0.2344137281179428, 0.1406482309103012, 0.1591099202632904, 0.7955496311187744, 0.7443411946296692, 0.7491104602813721, 0.11524776369333267, 0.057623881846666336, 0.057623881846666336, 0.8568494915962219, 0.2658856213092804, 0.1994142234325409, 0.1329428106546402, 0.3988284468650818, 0.3102220594882965, 0.15511102974414825, 0.620444118976593, 0.7602094411849976, 0.21720269322395325, 0.9748603105545044, 0.12550169229507446, 0.5020067691802979, 0.06275084614753723, 0.2510033845901489, 0.8716292381286621, 0.09684769809246063, 0.5875104069709778, 0.03263946622610092, 0.19583681225776672, 0.1631973385810852, 0.19287671148777008, 0.14465753734111786, 0.626849353313446], \"Term\": [\"able\", \"absolutely\", \"access\", \"access\", \"actual\", \"air\", \"allow\", \"also\", \"also\", \"also\", \"also\", \"atmosphere\", \"attention\", \"attention\", \"attraction\", \"authority\", \"back\", \"back\", \"back\", \"back\", \"barb\", \"bath\", \"bath\", \"bathroom\", \"bathroom\", \"beautiful\", \"bed\", \"bed\", \"bite\", \"book\", \"book\", \"border\", \"border\", \"bored\", \"breakfast\", \"breakfast\", \"bring\", \"bring\", \"bring\", \"bus\", \"business\", \"business\", \"business\", \"business\", \"button\", \"buy\", \"buy\", \"call\", \"call\", \"call\", \"ceiling\", \"check\", \"check\", \"check\", \"check\", \"city\", \"city\", \"city\", \"city\", \"clean\", \"clean\", \"clean\", \"cleanliness\", \"close\", \"close\", \"close\", \"closed\", \"cold\", \"come\", \"come\", \"come\", \"conditioning\", \"control\", \"country\", \"cover\", \"cross\", \"cross\", \"crossing\", \"crossing\", \"currency\", \"custom\", \"cypriot\", \"cypriot\", \"dark\", \"day\", \"day\", \"day\", \"day\", \"decent\", \"description\", \"disappointed\", \"disappointed\", \"display\", \"display\", \"divide\", \"divide\", \"divided_capital\", \"due\", \"eat\", \"egg\", \"elevator\", \"end\", \"end\", \"entrance\", \"entrance\", \"entrance\", \"european\", \"even\", \"even\", \"even\", \"even\", \"ever\", \"experience\", \"experience\", \"experience\", \"experience\", \"external\", \"extra\", \"facility\", \"feel\", \"feel\", \"fill\", \"find\", \"find\", \"find\", \"find\", \"floor\", \"floor\", \"floor\", \"focus\", \"follow\", \"forget\", \"form\", \"gate\", \"get\", \"get\", \"get\", \"get\", \"give\", \"give\", \"give\", \"glass\", \"go\", \"go\", \"go\", \"go\", \"greek\", \"guard\", \"guest\", \"gun\", \"hand\", \"hard\", \"hard\", \"hard\", \"hear\", \"hear\", \"heater\", \"helpful\", \"high\", \"high\", \"hold\", \"home\", \"home\", \"hot\", \"hot\", \"info\", \"interesting\", \"interesting\", \"land\", \"lead\", \"least\", \"least\", \"leave\", \"leave\", \"leave\", \"let\", \"life\", \"life\", \"light\", \"light\", \"line\", \"little\", \"little\", \"little\", \"live\", \"location\", \"location\", \"location\", \"look\", \"look\", \"look\", \"look\", \"lot\", \"lot\", \"lot\", \"lot\", \"loud\", \"luggage\", \"machine\", \"management\", \"manner\", \"meet\", \"middle\", \"midnight\", \"minute\", \"minute\", \"minute\", \"minute\", \"need\", \"need\", \"need\", \"need\", \"night\", \"night\", \"north\", \"northern\", \"nothing_special\", \"nothing_special\", \"occupy\", \"odd\", \"offer\", \"offer\", \"old\", \"old\", \"old\", \"old\", \"open\", \"open\", \"open\", \"opinion\", \"overall\", \"paper\", \"park\", \"park\", \"part\", \"pass\", \"pass\", \"passport\", \"passport\", \"pay\", \"pay\", \"pay\", \"pay\", \"people\", \"people\", \"people\", \"people\", \"phone\", \"phone\", \"photo\", \"photo\", \"picture\", \"picture\", \"plan\", \"point\", \"point\", \"point\", \"pool\", \"portrait\", \"pretty\", \"problem\", \"problem\", \"problem\", \"problem\", \"properly\", \"queue\", \"queue\", \"rating\", \"reality\", \"really\", \"really\", \"really\", \"really\", \"reception\", \"reception\", \"refurbish\", \"remember\", \"remind\", \"right\", \"right\", \"road\", \"road\", \"road\", \"road\", \"run\", \"sad\", \"say\", \"say\", \"say\", \"say\", \"screen\", \"second\", \"see\", \"see\", \"see\", \"see\", \"seem\", \"seem\", \"seem\", \"sell\", \"service\", \"service\", \"set\", \"shop\", \"shop\", \"shopping\", \"show\", \"show\", \"show\", \"side\", \"side\", \"side\", \"sight\", \"sign\", \"signage\", \"single\", \"single\", \"small\", \"small\", \"small\", \"small\", \"smoke\", \"southern\", \"spend\", \"spot\", \"staff\", \"staff\", \"stain\", \"stamp\", \"standard\", \"standard\", \"stay\", \"stay\", \"stay\", \"still\", \"still\", \"still\", \"strange\", \"street\", \"street\", \"street\", \"suppose\", \"take\", \"take\", \"take\", \"take\", \"thing\", \"thing\", \"thing\", \"thing\", \"thought\", \"thought\", \"time\", \"time\", \"time\", \"time\", \"touch\", \"tourist\", \"towel\", \"towel\", \"town\", \"town\", \"town\", \"traffic\", \"tragedy\", \"turk\", \"turkish\", \"turkish\", \"tv\", \"use\", \"use\", \"use\", \"use\", \"video\", \"visit\", \"visit\", \"visit\", \"visit\", \"walk\", \"walk\", \"walk\", \"walk\", \"wall\", \"wall\", \"wall\", \"war\", \"war\", \"warm\", \"way\", \"way\", \"way\", \"way\", \"weird\", \"well\", \"well\", \"well\", \"well\", \"whole\", \"whole\", \"whole\", \"window\", \"window\", \"wire\", \"work\", \"work\", \"work\", \"work\", \"world\", \"world\", \"worth\", \"worth\", \"worth\", \"worth\", \"year\", \"year\", \"year\"]}, \"R\": 30, \"lambda.step\": 0.01, \"plot.opts\": {\"xlab\": \"PC1\", \"ylab\": \"PC2\"}, \"topic.order\": [3, 4, 2, 1]};\n",
       "\n",
       "function LDAvis_load_lib(url, callback){\n",
       "  var s = document.createElement('script');\n",
       "  s.src = url;\n",
       "  s.async = true;\n",
       "  s.onreadystatechange = s.onload = callback;\n",
       "  s.onerror = function(){console.warn(\"failed to load library \" + url);};\n",
       "  document.getElementsByTagName(\"head\")[0].appendChild(s);\n",
       "}\n",
       "\n",
       "if(typeof(LDAvis) !== \"undefined\"){\n",
       "   // already loaded: just create the visualization\n",
       "   !function(LDAvis){\n",
       "       new LDAvis(\"#\" + \"ldavis_el30275230020831171287541351628\", ldavis_el30275230020831171287541351628_data);\n",
       "   }(LDAvis);\n",
       "}else if(typeof define === \"function\" && define.amd){\n",
       "   // require.js is available: use it to load d3/LDAvis\n",
       "   require.config({paths: {d3: \"https://cdnjs.cloudflare.com/ajax/libs/d3/3.5.5/d3.min\"}});\n",
       "   require([\"d3\"], function(d3){\n",
       "      window.d3 = d3;\n",
       "      LDAvis_load_lib(\"https://cdn.rawgit.com/bmabey/pyLDAvis/files/ldavis.v1.0.0.js\", function(){\n",
       "        new LDAvis(\"#\" + \"ldavis_el30275230020831171287541351628\", ldavis_el30275230020831171287541351628_data);\n",
       "      });\n",
       "    });\n",
       "}else{\n",
       "    // require.js not available: dynamically load d3 & LDAvis\n",
       "    LDAvis_load_lib(\"https://cdnjs.cloudflare.com/ajax/libs/d3/3.5.5/d3.min.js\", function(){\n",
       "         LDAvis_load_lib(\"https://cdn.rawgit.com/bmabey/pyLDAvis/files/ldavis.v1.0.0.js\", function(){\n",
       "                 new LDAvis(\"#\" + \"ldavis_el30275230020831171287541351628\", ldavis_el30275230020831171287541351628_data);\n",
       "            })\n",
       "         });\n",
       "}\n",
       "</script>"
      ],
      "text/plain": [
       "PreparedData(topic_coordinates=              x         y  topics  cluster       Freq\n",
       "topic                                                \n",
       "2     -0.119406 -0.130063       1        1  37.581436\n",
       "3     -0.058709  0.142645       2        1  23.867683\n",
       "1      0.092712 -0.120519       3        1  23.811474\n",
       "0      0.085403  0.107938       4        1  14.739408, topic_info=         Term        Freq       Total Category  logprob  loglift\n",
       "118      side  121.000000  121.000000  Default  30.0000  30.0000\n",
       "128   turkish   79.000000   79.000000  Default  29.0000  29.0000\n",
       "157      part   41.000000   41.000000  Default  28.0000  28.0000\n",
       "1167    greek   38.000000   38.000000  Default  27.0000  27.0000\n",
       "137     cross   66.000000   66.000000  Default  26.0000  26.0000\n",
       "...       ...         ...         ...      ...      ...      ...\n",
       "169      find    4.335891   21.352718   Topic4  -5.6037   0.3204\n",
       "142       old    4.676411   40.708576   Topic4  -5.5281  -0.2493\n",
       "58        use    4.224801   19.750336   Topic4  -5.6297   0.3724\n",
       "261     night    4.199853   23.258125   Topic4  -5.6356   0.2030\n",
       "322       say    4.194760   26.669090   Topic4  -5.6368   0.0650\n",
       "\n",
       "[280 rows x 6 columns], token_table=      Topic      Freq        Term\n",
       "term                             \n",
       "1436      1  0.854160        able\n",
       "946       4  0.862930  absolutely\n",
       "583       3  0.219157      access\n",
       "583       4  0.657471      access\n",
       "1405      3  0.897290      actual\n",
       "...     ...       ...         ...\n",
       "189       3  0.195837       worth\n",
       "189       4  0.163197       worth\n",
       "90        1  0.192877        year\n",
       "90        2  0.144658        year\n",
       "90        3  0.626849        year\n",
       "\n",
       "[416 rows x 3 columns], R=30, lambda_step=0.01, plot_opts={'xlab': 'PC1', 'ylab': 'PC2'}, topic_order=[3, 4, 2, 1])"
      ]
     },
     "metadata": {},
     "output_type": "display_data"
    }
   ],
   "source": [
    "plot_model(lda_neg_custom, plot ='topic_model')"
   ]
  },
  {
   "cell_type": "code",
   "execution_count": 23,
   "metadata": {},
   "outputs": [
    {
     "data": {
      "text/html": [
       "        <script type=\"text/javascript\">\n",
       "        window.PlotlyConfig = {MathJaxConfig: 'local'};\n",
       "        if (window.MathJax) {MathJax.Hub.Config({SVG: {font: \"STIX-Web\"}});}\n",
       "        if (typeof require !== 'undefined') {\n",
       "        require.undef(\"plotly\");\n",
       "        requirejs.config({\n",
       "            paths: {\n",
       "                'plotly': ['https://cdn.plot.ly/plotly-latest.min']\n",
       "            }\n",
       "        });\n",
       "        require(['plotly'], function(Plotly) {\n",
       "            window._Plotly = Plotly;\n",
       "        });\n",
       "        }\n",
       "        </script>\n",
       "        "
      ]
     },
     "metadata": {},
     "output_type": "display_data"
    },
    {
     "data": {
      "application/vnd.plotly.v1+json": {
       "config": {
        "plotlyServerURL": "https://plot.ly"
       },
       "data": [
        {
         "alignmentgroup": "True",
         "customdata": [
          [
           "breakfast, towel, staff, really, problem, even, pay, go, stay, need"
          ],
          [
           "side, cross, walk, see, visit, crossing, point, feel, look, street"
          ],
          [
           "side, turkish, see, border, passport, part, cross, visit, greek, sad"
          ],
          [
           "old, gate, small, night, go, stay, day, look, wall, breakfast"
          ]
         ],
         "hovertemplate": "Topic=%{x}<br>Documents=%{y}<br>Keyword=%{customdata[0]}<extra></extra>",
         "legendgroup": "",
         "marker": {
          "color": "#636efa"
         },
         "name": "",
         "offsetgroup": "",
         "orientation": "v",
         "showlegend": false,
         "textposition": "auto",
         "type": "bar",
         "x": [
          "Topic 0",
          "Topic 1",
          "Topic 2",
          "Topic 3"
         ],
         "xaxis": "x",
         "y": [
          37,
          71,
          132,
          55
         ],
         "yaxis": "y"
        }
       ],
       "layout": {
        "barmode": "relative",
        "legend": {
         "tracegroupgap": 0
        },
        "template": {
         "data": {
          "bar": [
           {
            "error_x": {
             "color": "#2a3f5f"
            },
            "error_y": {
             "color": "#2a3f5f"
            },
            "marker": {
             "line": {
              "color": "#E5ECF6",
              "width": 0.5
             }
            },
            "type": "bar"
           }
          ],
          "barpolar": [
           {
            "marker": {
             "line": {
              "color": "#E5ECF6",
              "width": 0.5
             }
            },
            "type": "barpolar"
           }
          ],
          "carpet": [
           {
            "aaxis": {
             "endlinecolor": "#2a3f5f",
             "gridcolor": "white",
             "linecolor": "white",
             "minorgridcolor": "white",
             "startlinecolor": "#2a3f5f"
            },
            "baxis": {
             "endlinecolor": "#2a3f5f",
             "gridcolor": "white",
             "linecolor": "white",
             "minorgridcolor": "white",
             "startlinecolor": "#2a3f5f"
            },
            "type": "carpet"
           }
          ],
          "choropleth": [
           {
            "colorbar": {
             "outlinewidth": 0,
             "ticks": ""
            },
            "type": "choropleth"
           }
          ],
          "contour": [
           {
            "colorbar": {
             "outlinewidth": 0,
             "ticks": ""
            },
            "colorscale": [
             [
              0,
              "#0d0887"
             ],
             [
              0.1111111111111111,
              "#46039f"
             ],
             [
              0.2222222222222222,
              "#7201a8"
             ],
             [
              0.3333333333333333,
              "#9c179e"
             ],
             [
              0.4444444444444444,
              "#bd3786"
             ],
             [
              0.5555555555555556,
              "#d8576b"
             ],
             [
              0.6666666666666666,
              "#ed7953"
             ],
             [
              0.7777777777777778,
              "#fb9f3a"
             ],
             [
              0.8888888888888888,
              "#fdca26"
             ],
             [
              1,
              "#f0f921"
             ]
            ],
            "type": "contour"
           }
          ],
          "contourcarpet": [
           {
            "colorbar": {
             "outlinewidth": 0,
             "ticks": ""
            },
            "type": "contourcarpet"
           }
          ],
          "heatmap": [
           {
            "colorbar": {
             "outlinewidth": 0,
             "ticks": ""
            },
            "colorscale": [
             [
              0,
              "#0d0887"
             ],
             [
              0.1111111111111111,
              "#46039f"
             ],
             [
              0.2222222222222222,
              "#7201a8"
             ],
             [
              0.3333333333333333,
              "#9c179e"
             ],
             [
              0.4444444444444444,
              "#bd3786"
             ],
             [
              0.5555555555555556,
              "#d8576b"
             ],
             [
              0.6666666666666666,
              "#ed7953"
             ],
             [
              0.7777777777777778,
              "#fb9f3a"
             ],
             [
              0.8888888888888888,
              "#fdca26"
             ],
             [
              1,
              "#f0f921"
             ]
            ],
            "type": "heatmap"
           }
          ],
          "heatmapgl": [
           {
            "colorbar": {
             "outlinewidth": 0,
             "ticks": ""
            },
            "colorscale": [
             [
              0,
              "#0d0887"
             ],
             [
              0.1111111111111111,
              "#46039f"
             ],
             [
              0.2222222222222222,
              "#7201a8"
             ],
             [
              0.3333333333333333,
              "#9c179e"
             ],
             [
              0.4444444444444444,
              "#bd3786"
             ],
             [
              0.5555555555555556,
              "#d8576b"
             ],
             [
              0.6666666666666666,
              "#ed7953"
             ],
             [
              0.7777777777777778,
              "#fb9f3a"
             ],
             [
              0.8888888888888888,
              "#fdca26"
             ],
             [
              1,
              "#f0f921"
             ]
            ],
            "type": "heatmapgl"
           }
          ],
          "histogram": [
           {
            "marker": {
             "colorbar": {
              "outlinewidth": 0,
              "ticks": ""
             }
            },
            "type": "histogram"
           }
          ],
          "histogram2d": [
           {
            "colorbar": {
             "outlinewidth": 0,
             "ticks": ""
            },
            "colorscale": [
             [
              0,
              "#0d0887"
             ],
             [
              0.1111111111111111,
              "#46039f"
             ],
             [
              0.2222222222222222,
              "#7201a8"
             ],
             [
              0.3333333333333333,
              "#9c179e"
             ],
             [
              0.4444444444444444,
              "#bd3786"
             ],
             [
              0.5555555555555556,
              "#d8576b"
             ],
             [
              0.6666666666666666,
              "#ed7953"
             ],
             [
              0.7777777777777778,
              "#fb9f3a"
             ],
             [
              0.8888888888888888,
              "#fdca26"
             ],
             [
              1,
              "#f0f921"
             ]
            ],
            "type": "histogram2d"
           }
          ],
          "histogram2dcontour": [
           {
            "colorbar": {
             "outlinewidth": 0,
             "ticks": ""
            },
            "colorscale": [
             [
              0,
              "#0d0887"
             ],
             [
              0.1111111111111111,
              "#46039f"
             ],
             [
              0.2222222222222222,
              "#7201a8"
             ],
             [
              0.3333333333333333,
              "#9c179e"
             ],
             [
              0.4444444444444444,
              "#bd3786"
             ],
             [
              0.5555555555555556,
              "#d8576b"
             ],
             [
              0.6666666666666666,
              "#ed7953"
             ],
             [
              0.7777777777777778,
              "#fb9f3a"
             ],
             [
              0.8888888888888888,
              "#fdca26"
             ],
             [
              1,
              "#f0f921"
             ]
            ],
            "type": "histogram2dcontour"
           }
          ],
          "mesh3d": [
           {
            "colorbar": {
             "outlinewidth": 0,
             "ticks": ""
            },
            "type": "mesh3d"
           }
          ],
          "parcoords": [
           {
            "line": {
             "colorbar": {
              "outlinewidth": 0,
              "ticks": ""
             }
            },
            "type": "parcoords"
           }
          ],
          "pie": [
           {
            "automargin": true,
            "type": "pie"
           }
          ],
          "scatter": [
           {
            "marker": {
             "colorbar": {
              "outlinewidth": 0,
              "ticks": ""
             }
            },
            "type": "scatter"
           }
          ],
          "scatter3d": [
           {
            "line": {
             "colorbar": {
              "outlinewidth": 0,
              "ticks": ""
             }
            },
            "marker": {
             "colorbar": {
              "outlinewidth": 0,
              "ticks": ""
             }
            },
            "type": "scatter3d"
           }
          ],
          "scattercarpet": [
           {
            "marker": {
             "colorbar": {
              "outlinewidth": 0,
              "ticks": ""
             }
            },
            "type": "scattercarpet"
           }
          ],
          "scattergeo": [
           {
            "marker": {
             "colorbar": {
              "outlinewidth": 0,
              "ticks": ""
             }
            },
            "type": "scattergeo"
           }
          ],
          "scattergl": [
           {
            "marker": {
             "colorbar": {
              "outlinewidth": 0,
              "ticks": ""
             }
            },
            "type": "scattergl"
           }
          ],
          "scattermapbox": [
           {
            "marker": {
             "colorbar": {
              "outlinewidth": 0,
              "ticks": ""
             }
            },
            "type": "scattermapbox"
           }
          ],
          "scatterpolar": [
           {
            "marker": {
             "colorbar": {
              "outlinewidth": 0,
              "ticks": ""
             }
            },
            "type": "scatterpolar"
           }
          ],
          "scatterpolargl": [
           {
            "marker": {
             "colorbar": {
              "outlinewidth": 0,
              "ticks": ""
             }
            },
            "type": "scatterpolargl"
           }
          ],
          "scatterternary": [
           {
            "marker": {
             "colorbar": {
              "outlinewidth": 0,
              "ticks": ""
             }
            },
            "type": "scatterternary"
           }
          ],
          "surface": [
           {
            "colorbar": {
             "outlinewidth": 0,
             "ticks": ""
            },
            "colorscale": [
             [
              0,
              "#0d0887"
             ],
             [
              0.1111111111111111,
              "#46039f"
             ],
             [
              0.2222222222222222,
              "#7201a8"
             ],
             [
              0.3333333333333333,
              "#9c179e"
             ],
             [
              0.4444444444444444,
              "#bd3786"
             ],
             [
              0.5555555555555556,
              "#d8576b"
             ],
             [
              0.6666666666666666,
              "#ed7953"
             ],
             [
              0.7777777777777778,
              "#fb9f3a"
             ],
             [
              0.8888888888888888,
              "#fdca26"
             ],
             [
              1,
              "#f0f921"
             ]
            ],
            "type": "surface"
           }
          ],
          "table": [
           {
            "cells": {
             "fill": {
              "color": "#EBF0F8"
             },
             "line": {
              "color": "white"
             }
            },
            "header": {
             "fill": {
              "color": "#C8D4E3"
             },
             "line": {
              "color": "white"
             }
            },
            "type": "table"
           }
          ]
         },
         "layout": {
          "annotationdefaults": {
           "arrowcolor": "#2a3f5f",
           "arrowhead": 0,
           "arrowwidth": 1
          },
          "coloraxis": {
           "colorbar": {
            "outlinewidth": 0,
            "ticks": ""
           }
          },
          "colorscale": {
           "diverging": [
            [
             0,
             "#8e0152"
            ],
            [
             0.1,
             "#c51b7d"
            ],
            [
             0.2,
             "#de77ae"
            ],
            [
             0.3,
             "#f1b6da"
            ],
            [
             0.4,
             "#fde0ef"
            ],
            [
             0.5,
             "#f7f7f7"
            ],
            [
             0.6,
             "#e6f5d0"
            ],
            [
             0.7,
             "#b8e186"
            ],
            [
             0.8,
             "#7fbc41"
            ],
            [
             0.9,
             "#4d9221"
            ],
            [
             1,
             "#276419"
            ]
           ],
           "sequential": [
            [
             0,
             "#0d0887"
            ],
            [
             0.1111111111111111,
             "#46039f"
            ],
            [
             0.2222222222222222,
             "#7201a8"
            ],
            [
             0.3333333333333333,
             "#9c179e"
            ],
            [
             0.4444444444444444,
             "#bd3786"
            ],
            [
             0.5555555555555556,
             "#d8576b"
            ],
            [
             0.6666666666666666,
             "#ed7953"
            ],
            [
             0.7777777777777778,
             "#fb9f3a"
            ],
            [
             0.8888888888888888,
             "#fdca26"
            ],
            [
             1,
             "#f0f921"
            ]
           ],
           "sequentialminus": [
            [
             0,
             "#0d0887"
            ],
            [
             0.1111111111111111,
             "#46039f"
            ],
            [
             0.2222222222222222,
             "#7201a8"
            ],
            [
             0.3333333333333333,
             "#9c179e"
            ],
            [
             0.4444444444444444,
             "#bd3786"
            ],
            [
             0.5555555555555556,
             "#d8576b"
            ],
            [
             0.6666666666666666,
             "#ed7953"
            ],
            [
             0.7777777777777778,
             "#fb9f3a"
            ],
            [
             0.8888888888888888,
             "#fdca26"
            ],
            [
             1,
             "#f0f921"
            ]
           ]
          },
          "colorway": [
           "#636efa",
           "#EF553B",
           "#00cc96",
           "#ab63fa",
           "#FFA15A",
           "#19d3f3",
           "#FF6692",
           "#B6E880",
           "#FF97FF",
           "#FECB52"
          ],
          "font": {
           "color": "#2a3f5f"
          },
          "geo": {
           "bgcolor": "white",
           "lakecolor": "white",
           "landcolor": "#E5ECF6",
           "showlakes": true,
           "showland": true,
           "subunitcolor": "white"
          },
          "hoverlabel": {
           "align": "left"
          },
          "hovermode": "closest",
          "mapbox": {
           "style": "light"
          },
          "paper_bgcolor": "white",
          "plot_bgcolor": "#E5ECF6",
          "polar": {
           "angularaxis": {
            "gridcolor": "white",
            "linecolor": "white",
            "ticks": ""
           },
           "bgcolor": "#E5ECF6",
           "radialaxis": {
            "gridcolor": "white",
            "linecolor": "white",
            "ticks": ""
           }
          },
          "scene": {
           "xaxis": {
            "backgroundcolor": "#E5ECF6",
            "gridcolor": "white",
            "gridwidth": 2,
            "linecolor": "white",
            "showbackground": true,
            "ticks": "",
            "zerolinecolor": "white"
           },
           "yaxis": {
            "backgroundcolor": "#E5ECF6",
            "gridcolor": "white",
            "gridwidth": 2,
            "linecolor": "white",
            "showbackground": true,
            "ticks": "",
            "zerolinecolor": "white"
           },
           "zaxis": {
            "backgroundcolor": "#E5ECF6",
            "gridcolor": "white",
            "gridwidth": 2,
            "linecolor": "white",
            "showbackground": true,
            "ticks": "",
            "zerolinecolor": "white"
           }
          },
          "shapedefaults": {
           "line": {
            "color": "#2a3f5f"
           }
          },
          "ternary": {
           "aaxis": {
            "gridcolor": "white",
            "linecolor": "white",
            "ticks": ""
           },
           "baxis": {
            "gridcolor": "white",
            "linecolor": "white",
            "ticks": ""
           },
           "bgcolor": "#E5ECF6",
           "caxis": {
            "gridcolor": "white",
            "linecolor": "white",
            "ticks": ""
           }
          },
          "title": {
           "x": 0.05
          },
          "xaxis": {
           "automargin": true,
           "gridcolor": "white",
           "linecolor": "white",
           "ticks": "",
           "title": {
            "standoff": 15
           },
           "zerolinecolor": "white",
           "zerolinewidth": 2
          },
          "yaxis": {
           "automargin": true,
           "gridcolor": "white",
           "linecolor": "white",
           "ticks": "",
           "title": {
            "standoff": 15
           },
           "zerolinecolor": "white",
           "zerolinewidth": 2
          }
         }
        },
        "title": {
         "text": "Document Distribution by Topics"
        },
        "xaxis": {
         "anchor": "y",
         "domain": [
          0,
          1
         ],
         "title": {
          "text": "Topic"
         }
        },
        "yaxis": {
         "anchor": "x",
         "domain": [
          0,
          1
         ],
         "title": {
          "text": "Documents"
         }
        }
       }
      },
      "text/html": [
       "<div>\n",
       "        \n",
       "        \n",
       "            <div id=\"ce3a31e7-04fc-49d0-8bcd-44f230b231d4\" class=\"plotly-graph-div\" style=\"height:525px; width:100%;\"></div>\n",
       "            <script type=\"text/javascript\">\n",
       "                require([\"plotly\"], function(Plotly) {\n",
       "                    window.PLOTLYENV=window.PLOTLYENV || {};\n",
       "                    \n",
       "                if (document.getElementById(\"ce3a31e7-04fc-49d0-8bcd-44f230b231d4\")) {\n",
       "                    Plotly.newPlot(\n",
       "                        'ce3a31e7-04fc-49d0-8bcd-44f230b231d4',\n",
       "                        [{\"alignmentgroup\": \"True\", \"customdata\": [[\"breakfast, towel, staff, really, problem, even, pay, go, stay, need\"], [\"side, cross, walk, see, visit, crossing, point, feel, look, street\"], [\"side, turkish, see, border, passport, part, cross, visit, greek, sad\"], [\"old, gate, small, night, go, stay, day, look, wall, breakfast\"]], \"hovertemplate\": \"Topic=%{x}<br>Documents=%{y}<br>Keyword=%{customdata[0]}<extra></extra>\", \"legendgroup\": \"\", \"marker\": {\"color\": \"#636efa\"}, \"name\": \"\", \"offsetgroup\": \"\", \"orientation\": \"v\", \"showlegend\": false, \"textposition\": \"auto\", \"type\": \"bar\", \"x\": [\"Topic 0\", \"Topic 1\", \"Topic 2\", \"Topic 3\"], \"xaxis\": \"x\", \"y\": [37, 71, 132, 55], \"yaxis\": \"y\"}],\n",
       "                        {\"barmode\": \"relative\", \"legend\": {\"tracegroupgap\": 0}, \"template\": {\"data\": {\"bar\": [{\"error_x\": {\"color\": \"#2a3f5f\"}, \"error_y\": {\"color\": \"#2a3f5f\"}, \"marker\": {\"line\": {\"color\": \"#E5ECF6\", \"width\": 0.5}}, \"type\": \"bar\"}], \"barpolar\": [{\"marker\": {\"line\": {\"color\": \"#E5ECF6\", \"width\": 0.5}}, \"type\": \"barpolar\"}], \"carpet\": [{\"aaxis\": {\"endlinecolor\": \"#2a3f5f\", \"gridcolor\": \"white\", \"linecolor\": \"white\", \"minorgridcolor\": \"white\", \"startlinecolor\": \"#2a3f5f\"}, \"baxis\": {\"endlinecolor\": \"#2a3f5f\", \"gridcolor\": \"white\", \"linecolor\": \"white\", \"minorgridcolor\": \"white\", \"startlinecolor\": \"#2a3f5f\"}, \"type\": \"carpet\"}], \"choropleth\": [{\"colorbar\": {\"outlinewidth\": 0, \"ticks\": \"\"}, \"type\": \"choropleth\"}], \"contour\": [{\"colorbar\": {\"outlinewidth\": 0, \"ticks\": \"\"}, \"colorscale\": [[0.0, \"#0d0887\"], [0.1111111111111111, \"#46039f\"], [0.2222222222222222, \"#7201a8\"], [0.3333333333333333, \"#9c179e\"], [0.4444444444444444, \"#bd3786\"], [0.5555555555555556, \"#d8576b\"], [0.6666666666666666, \"#ed7953\"], [0.7777777777777778, \"#fb9f3a\"], [0.8888888888888888, \"#fdca26\"], [1.0, \"#f0f921\"]], \"type\": \"contour\"}], \"contourcarpet\": [{\"colorbar\": {\"outlinewidth\": 0, \"ticks\": \"\"}, \"type\": \"contourcarpet\"}], \"heatmap\": [{\"colorbar\": {\"outlinewidth\": 0, \"ticks\": \"\"}, \"colorscale\": [[0.0, \"#0d0887\"], [0.1111111111111111, \"#46039f\"], [0.2222222222222222, \"#7201a8\"], [0.3333333333333333, \"#9c179e\"], [0.4444444444444444, \"#bd3786\"], [0.5555555555555556, \"#d8576b\"], [0.6666666666666666, \"#ed7953\"], [0.7777777777777778, \"#fb9f3a\"], [0.8888888888888888, \"#fdca26\"], [1.0, \"#f0f921\"]], \"type\": \"heatmap\"}], \"heatmapgl\": [{\"colorbar\": {\"outlinewidth\": 0, \"ticks\": \"\"}, \"colorscale\": [[0.0, \"#0d0887\"], [0.1111111111111111, \"#46039f\"], [0.2222222222222222, \"#7201a8\"], [0.3333333333333333, \"#9c179e\"], [0.4444444444444444, \"#bd3786\"], [0.5555555555555556, \"#d8576b\"], [0.6666666666666666, \"#ed7953\"], [0.7777777777777778, \"#fb9f3a\"], [0.8888888888888888, \"#fdca26\"], [1.0, \"#f0f921\"]], \"type\": \"heatmapgl\"}], \"histogram\": [{\"marker\": {\"colorbar\": {\"outlinewidth\": 0, \"ticks\": \"\"}}, \"type\": \"histogram\"}], \"histogram2d\": [{\"colorbar\": {\"outlinewidth\": 0, \"ticks\": \"\"}, \"colorscale\": [[0.0, \"#0d0887\"], [0.1111111111111111, \"#46039f\"], [0.2222222222222222, \"#7201a8\"], [0.3333333333333333, \"#9c179e\"], [0.4444444444444444, \"#bd3786\"], [0.5555555555555556, \"#d8576b\"], [0.6666666666666666, \"#ed7953\"], [0.7777777777777778, \"#fb9f3a\"], [0.8888888888888888, \"#fdca26\"], [1.0, \"#f0f921\"]], \"type\": \"histogram2d\"}], \"histogram2dcontour\": [{\"colorbar\": {\"outlinewidth\": 0, \"ticks\": \"\"}, \"colorscale\": [[0.0, \"#0d0887\"], [0.1111111111111111, \"#46039f\"], [0.2222222222222222, \"#7201a8\"], [0.3333333333333333, \"#9c179e\"], [0.4444444444444444, \"#bd3786\"], [0.5555555555555556, \"#d8576b\"], [0.6666666666666666, \"#ed7953\"], [0.7777777777777778, \"#fb9f3a\"], [0.8888888888888888, \"#fdca26\"], [1.0, \"#f0f921\"]], \"type\": \"histogram2dcontour\"}], \"mesh3d\": [{\"colorbar\": {\"outlinewidth\": 0, \"ticks\": \"\"}, \"type\": \"mesh3d\"}], \"parcoords\": [{\"line\": {\"colorbar\": {\"outlinewidth\": 0, \"ticks\": \"\"}}, \"type\": \"parcoords\"}], \"pie\": [{\"automargin\": true, \"type\": \"pie\"}], \"scatter\": [{\"marker\": {\"colorbar\": {\"outlinewidth\": 0, \"ticks\": \"\"}}, \"type\": \"scatter\"}], \"scatter3d\": [{\"line\": {\"colorbar\": {\"outlinewidth\": 0, \"ticks\": \"\"}}, \"marker\": {\"colorbar\": {\"outlinewidth\": 0, \"ticks\": \"\"}}, \"type\": \"scatter3d\"}], \"scattercarpet\": [{\"marker\": {\"colorbar\": {\"outlinewidth\": 0, \"ticks\": \"\"}}, \"type\": \"scattercarpet\"}], \"scattergeo\": [{\"marker\": {\"colorbar\": {\"outlinewidth\": 0, \"ticks\": \"\"}}, \"type\": \"scattergeo\"}], \"scattergl\": [{\"marker\": {\"colorbar\": {\"outlinewidth\": 0, \"ticks\": \"\"}}, \"type\": \"scattergl\"}], \"scattermapbox\": [{\"marker\": {\"colorbar\": {\"outlinewidth\": 0, \"ticks\": \"\"}}, \"type\": \"scattermapbox\"}], \"scatterpolar\": [{\"marker\": {\"colorbar\": {\"outlinewidth\": 0, \"ticks\": \"\"}}, \"type\": \"scatterpolar\"}], \"scatterpolargl\": [{\"marker\": {\"colorbar\": {\"outlinewidth\": 0, \"ticks\": \"\"}}, \"type\": \"scatterpolargl\"}], \"scatterternary\": [{\"marker\": {\"colorbar\": {\"outlinewidth\": 0, \"ticks\": \"\"}}, \"type\": \"scatterternary\"}], \"surface\": [{\"colorbar\": {\"outlinewidth\": 0, \"ticks\": \"\"}, \"colorscale\": [[0.0, \"#0d0887\"], [0.1111111111111111, \"#46039f\"], [0.2222222222222222, \"#7201a8\"], [0.3333333333333333, \"#9c179e\"], [0.4444444444444444, \"#bd3786\"], [0.5555555555555556, \"#d8576b\"], [0.6666666666666666, \"#ed7953\"], [0.7777777777777778, \"#fb9f3a\"], [0.8888888888888888, \"#fdca26\"], [1.0, \"#f0f921\"]], \"type\": \"surface\"}], \"table\": [{\"cells\": {\"fill\": {\"color\": \"#EBF0F8\"}, \"line\": {\"color\": \"white\"}}, \"header\": {\"fill\": {\"color\": \"#C8D4E3\"}, \"line\": {\"color\": \"white\"}}, \"type\": \"table\"}]}, \"layout\": {\"annotationdefaults\": {\"arrowcolor\": \"#2a3f5f\", \"arrowhead\": 0, \"arrowwidth\": 1}, \"coloraxis\": {\"colorbar\": {\"outlinewidth\": 0, \"ticks\": \"\"}}, \"colorscale\": {\"diverging\": [[0, \"#8e0152\"], [0.1, \"#c51b7d\"], [0.2, \"#de77ae\"], [0.3, \"#f1b6da\"], [0.4, \"#fde0ef\"], [0.5, \"#f7f7f7\"], [0.6, \"#e6f5d0\"], [0.7, \"#b8e186\"], [0.8, \"#7fbc41\"], [0.9, \"#4d9221\"], [1, \"#276419\"]], \"sequential\": [[0.0, \"#0d0887\"], [0.1111111111111111, \"#46039f\"], [0.2222222222222222, \"#7201a8\"], [0.3333333333333333, \"#9c179e\"], [0.4444444444444444, \"#bd3786\"], [0.5555555555555556, \"#d8576b\"], [0.6666666666666666, \"#ed7953\"], [0.7777777777777778, \"#fb9f3a\"], [0.8888888888888888, \"#fdca26\"], [1.0, \"#f0f921\"]], \"sequentialminus\": [[0.0, \"#0d0887\"], [0.1111111111111111, \"#46039f\"], [0.2222222222222222, \"#7201a8\"], [0.3333333333333333, \"#9c179e\"], [0.4444444444444444, \"#bd3786\"], [0.5555555555555556, \"#d8576b\"], [0.6666666666666666, \"#ed7953\"], [0.7777777777777778, \"#fb9f3a\"], [0.8888888888888888, \"#fdca26\"], [1.0, \"#f0f921\"]]}, \"colorway\": [\"#636efa\", \"#EF553B\", \"#00cc96\", \"#ab63fa\", \"#FFA15A\", \"#19d3f3\", \"#FF6692\", \"#B6E880\", \"#FF97FF\", \"#FECB52\"], \"font\": {\"color\": \"#2a3f5f\"}, \"geo\": {\"bgcolor\": \"white\", \"lakecolor\": \"white\", \"landcolor\": \"#E5ECF6\", \"showlakes\": true, \"showland\": true, \"subunitcolor\": \"white\"}, \"hoverlabel\": {\"align\": \"left\"}, \"hovermode\": \"closest\", \"mapbox\": {\"style\": \"light\"}, \"paper_bgcolor\": \"white\", \"plot_bgcolor\": \"#E5ECF6\", \"polar\": {\"angularaxis\": {\"gridcolor\": \"white\", \"linecolor\": \"white\", \"ticks\": \"\"}, \"bgcolor\": \"#E5ECF6\", \"radialaxis\": {\"gridcolor\": \"white\", \"linecolor\": \"white\", \"ticks\": \"\"}}, \"scene\": {\"xaxis\": {\"backgroundcolor\": \"#E5ECF6\", \"gridcolor\": \"white\", \"gridwidth\": 2, \"linecolor\": \"white\", \"showbackground\": true, \"ticks\": \"\", \"zerolinecolor\": \"white\"}, \"yaxis\": {\"backgroundcolor\": \"#E5ECF6\", \"gridcolor\": \"white\", \"gridwidth\": 2, \"linecolor\": \"white\", \"showbackground\": true, \"ticks\": \"\", \"zerolinecolor\": \"white\"}, \"zaxis\": {\"backgroundcolor\": \"#E5ECF6\", \"gridcolor\": \"white\", \"gridwidth\": 2, \"linecolor\": \"white\", \"showbackground\": true, \"ticks\": \"\", \"zerolinecolor\": \"white\"}}, \"shapedefaults\": {\"line\": {\"color\": \"#2a3f5f\"}}, \"ternary\": {\"aaxis\": {\"gridcolor\": \"white\", \"linecolor\": \"white\", \"ticks\": \"\"}, \"baxis\": {\"gridcolor\": \"white\", \"linecolor\": \"white\", \"ticks\": \"\"}, \"bgcolor\": \"#E5ECF6\", \"caxis\": {\"gridcolor\": \"white\", \"linecolor\": \"white\", \"ticks\": \"\"}}, \"title\": {\"x\": 0.05}, \"xaxis\": {\"automargin\": true, \"gridcolor\": \"white\", \"linecolor\": \"white\", \"ticks\": \"\", \"title\": {\"standoff\": 15}, \"zerolinecolor\": \"white\", \"zerolinewidth\": 2}, \"yaxis\": {\"automargin\": true, \"gridcolor\": \"white\", \"linecolor\": \"white\", \"ticks\": \"\", \"title\": {\"standoff\": 15}, \"zerolinecolor\": \"white\", \"zerolinewidth\": 2}}}, \"title\": {\"text\": \"Document Distribution by Topics\"}, \"xaxis\": {\"anchor\": \"y\", \"domain\": [0.0, 1.0], \"title\": {\"text\": \"Topic\"}}, \"yaxis\": {\"anchor\": \"x\", \"domain\": [0.0, 1.0], \"title\": {\"text\": \"Documents\"}}},\n",
       "                        {\"responsive\": true}\n",
       "                    ).then(function(){\n",
       "                            \n",
       "var gd = document.getElementById('ce3a31e7-04fc-49d0-8bcd-44f230b231d4');\n",
       "var x = new MutationObserver(function (mutations, observer) {{\n",
       "        var display = window.getComputedStyle(gd).display;\n",
       "        if (!display || display === 'none') {{\n",
       "            console.log([gd, 'removed!']);\n",
       "            Plotly.purge(gd);\n",
       "            observer.disconnect();\n",
       "        }}\n",
       "}});\n",
       "\n",
       "// Listen for the removal of the full notebook cells\n",
       "var notebookContainer = gd.closest('#notebook-container');\n",
       "if (notebookContainer) {{\n",
       "    x.observe(notebookContainer, {childList: true});\n",
       "}}\n",
       "\n",
       "// Listen for the clearing of the current output cell\n",
       "var outputEl = gd.closest('.output');\n",
       "if (outputEl) {{\n",
       "    x.observe(outputEl, {childList: true});\n",
       "}}\n",
       "\n",
       "                        })\n",
       "                };\n",
       "                });\n",
       "            </script>\n",
       "        </div>"
      ]
     },
     "metadata": {},
     "output_type": "display_data"
    }
   ],
   "source": [
    "plot_model(lda_neg_custom, plot ='topic_distribution', save=True)"
   ]
  },
  {
   "cell_type": "code",
   "execution_count": null,
   "metadata": {},
   "outputs": [],
   "source": []
  }
 ],
 "metadata": {
  "kernelspec": {
   "display_name": "Python 3",
   "language": "python",
   "name": "python3"
  },
  "language_info": {
   "codemirror_mode": {
    "name": "ipython",
    "version": 3
   },
   "file_extension": ".py",
   "mimetype": "text/x-python",
   "name": "python",
   "nbconvert_exporter": "python",
   "pygments_lexer": "ipython3",
   "version": "3.7.4"
  },
  "widgets": {
   "application/vnd.jupyter.widget-state+json": {
    "state": {
     "0117c18961784440b5d8753007486595": {
      "model_module": "@jupyter-widgets/base",
      "model_module_version": "1.2.0",
      "model_name": "LayoutModel",
      "state": {}
     },
     "011d55cba1d2424b9b3535f3f6304d6a": {
      "model_module": "@jupyter-widgets/controls",
      "model_module_version": "1.5.0",
      "model_name": "DescriptionStyleModel",
      "state": {
       "description_width": ""
      }
     },
     "0373170d28414abead8ee7b1e80ca1e1": {
      "model_module": "@jupyter-widgets/base",
      "model_module_version": "1.2.0",
      "model_name": "LayoutModel",
      "state": {}
     },
     "0764c20174304f3e9df4de4a9740120c": {
      "model_module": "@jupyter-widgets/base",
      "model_module_version": "1.2.0",
      "model_name": "LayoutModel",
      "state": {}
     },
     "07cadb2a40d44b9c82d27537c72ea0b7": {
      "model_module": "@jupyter-widgets/controls",
      "model_module_version": "1.5.0",
      "model_name": "IntProgressModel",
      "state": {
       "description": "Processing: ",
       "layout": "IPY_MODEL_374d9a1bae56432c95465d275e0f0edf",
       "max": 870,
       "style": "IPY_MODEL_97e9ddff3e324cafbe45798124f3620f",
       "value": 870
      }
     },
     "08aa6aa0ef6447a0bdc4244114ce3161": {
      "model_module": "@jupyter-widgets/controls",
      "model_module_version": "1.5.0",
      "model_name": "ToggleButtonsModel",
      "state": {
       "_options_labels": [
        "Frequency Plot",
        "Bigrams",
        "Trigrams",
        "Sentiment Polarity",
        "Word Cloud"
       ],
       "button_style": "",
       "description": "Plot Type:",
       "icons": [
        ""
       ],
       "index": 0,
       "layout": "IPY_MODEL_ec2ee32df4b34e6d91cb958ada69ae44",
       "style": "IPY_MODEL_a742a2a945db42c3a75be1bb9b816ab1",
       "tooltips": []
      }
     },
     "08e8d8e39f4440d49e27f90ccb39ca91": {
      "model_module": "@jupyter-widgets/base",
      "model_module_version": "1.2.0",
      "model_name": "LayoutModel",
      "state": {}
     },
     "09733c562d1348feab4b8e9135b545b8": {
      "model_module": "@jupyter-widgets/controls",
      "model_module_version": "1.5.0",
      "model_name": "ProgressStyleModel",
      "state": {
       "description_width": ""
      }
     },
     "09875ed6ea6648dfaf28dd3ba9e100dd": {
      "model_module": "@jupyter-widgets/base",
      "model_module_version": "1.2.0",
      "model_name": "LayoutModel",
      "state": {}
     },
     "09da599d43ae45bc8c6dee91524cd7b5": {
      "model_module": "@jupyter-widgets/controls",
      "model_module_version": "1.5.0",
      "model_name": "IntProgressModel",
      "state": {
       "description": "Processing: ",
       "layout": "IPY_MODEL_c19dd1e299d540e6b565a1ce24abb292",
       "max": 4,
       "style": "IPY_MODEL_a34fb008861f46e496add1a395f98c5c",
       "value": 4
      }
     },
     "0b344abf71a24150aa935a7f913cbea4": {
      "model_module": "@jupyter-widgets/base",
      "model_module_version": "1.2.0",
      "model_name": "LayoutModel",
      "state": {}
     },
     "0c66ab04e33b42c9bde43f9096e72993": {
      "model_module": "@jupyter-widgets/base",
      "model_module_version": "1.2.0",
      "model_name": "LayoutModel",
      "state": {}
     },
     "0ca41fee96084ec6b860c2c557524953": {
      "model_module": "@jupyter-widgets/controls",
      "model_module_version": "1.5.0",
      "model_name": "ButtonModel",
      "state": {
       "description": "Run Interact",
       "layout": "IPY_MODEL_e3cae36ab6d443e6bf117d901b58f5d5",
       "style": "IPY_MODEL_f9a5a98739fa4ba6a81df3a08ed82c5a"
      }
     },
     "0cc5da2e312e40de8682a7fc343208dd": {
      "model_module": "@jupyter-widgets/controls",
      "model_module_version": "1.5.0",
      "model_name": "ProgressStyleModel",
      "state": {
       "description_width": ""
      }
     },
     "0db6eb636e3846ae9c7311a0242e7c96": {
      "model_module": "@jupyter-widgets/base",
      "model_module_version": "1.2.0",
      "model_name": "LayoutModel",
      "state": {}
     },
     "0e8fea0b79e245859bbb5e40c0241525": {
      "model_module": "@jupyter-widgets/controls",
      "model_module_version": "1.5.0",
      "model_name": "ProgressStyleModel",
      "state": {
       "description_width": ""
      }
     },
     "0f6c8ac6d1f846068fb9281665654538": {
      "model_module": "@jupyter-widgets/controls",
      "model_module_version": "1.5.0",
      "model_name": "ProgressStyleModel",
      "state": {
       "description_width": ""
      }
     },
     "1198a964cca548019a74dd779a581444": {
      "model_module": "@jupyter-widgets/controls",
      "model_module_version": "1.5.0",
      "model_name": "IntProgressModel",
      "state": {
       "description": "Processing: ",
       "layout": "IPY_MODEL_23c2129d6e4b4e60aea46e684ef74565",
       "max": 48,
       "style": "IPY_MODEL_36da061b06cd4ee99e00182a6e9ce4bc",
       "value": 48
      }
     },
     "125c99e83f704685bfb89f907ade2fa7": {
      "model_module": "@jupyter-widgets/base",
      "model_module_version": "1.2.0",
      "model_name": "LayoutModel",
      "state": {}
     },
     "14e074f71fd342fca47034ca4a825b51": {
      "model_module": "@jupyter-widgets/base",
      "model_module_version": "1.2.0",
      "model_name": "LayoutModel",
      "state": {}
     },
     "14e6ec2ea7e14054810148b216201d6b": {
      "model_module": "@jupyter-widgets/controls",
      "model_module_version": "1.5.0",
      "model_name": "IntProgressModel",
      "state": {
       "description": "Processing: ",
       "layout": "IPY_MODEL_d1261151d6a241c2be4de1ba33f52b2a",
       "max": 870,
       "style": "IPY_MODEL_c7d2734dbf3f49eeaf3de24042d97c77",
       "value": 870
      }
     },
     "161d3ee7408a4de3b183655f24ccb534": {
      "model_module": "@jupyter-widgets/controls",
      "model_module_version": "1.5.0",
      "model_name": "ProgressStyleModel",
      "state": {
       "description_width": ""
      }
     },
     "16e9e2a08a3f427ca590447071eb82e0": {
      "model_module": "@jupyter-widgets/base",
      "model_module_version": "1.2.0",
      "model_name": "LayoutModel",
      "state": {}
     },
     "1710c717bd8445f3a5810ec5bd6f44cb": {
      "model_module": "@jupyter-widgets/controls",
      "model_module_version": "1.5.0",
      "model_name": "ProgressStyleModel",
      "state": {
       "description_width": ""
      }
     },
     "17918aac13614c9294221adfef9f1907": {
      "model_module": "@jupyter-widgets/controls",
      "model_module_version": "1.5.0",
      "model_name": "IntProgressModel",
      "state": {
       "description": "Processing: ",
       "layout": "IPY_MODEL_ec27026dd7434ab3a8fd3300a6f6c0df",
       "max": 870,
       "style": "IPY_MODEL_367873095006426c9e320950f7b4ae8d",
       "value": 870
      }
     },
     "192d8afedf20450eb270e406abe64e0e": {
      "model_module": "@jupyter-widgets/controls",
      "model_module_version": "1.5.0",
      "model_name": "IntProgressModel",
      "state": {
       "description": "Processing: ",
       "layout": "IPY_MODEL_2ade8d5999e24b38aa950416d69b90b6",
       "max": 48,
       "style": "IPY_MODEL_cdf17ecba82143e5a3e9de5fecc3a1ff",
       "value": 48
      }
     },
     "1a19b13730c34adb8ac3f3e6fcc55655": {
      "model_module": "@jupyter-widgets/controls",
      "model_module_version": "1.5.0",
      "model_name": "ProgressStyleModel",
      "state": {
       "description_width": ""
      }
     },
     "1a44e97fbbe94591bf4aad7f63cc012a": {
      "model_module": "@jupyter-widgets/base",
      "model_module_version": "1.2.0",
      "model_name": "LayoutModel",
      "state": {}
     },
     "1b08de3ef7aa4b4384a1e311af2322ba": {
      "model_module": "@jupyter-widgets/controls",
      "model_module_version": "1.5.0",
      "model_name": "ProgressStyleModel",
      "state": {
       "description_width": ""
      }
     },
     "1c9056f33a1a44b480d6146ec57c5394": {
      "model_module": "@jupyter-widgets/base",
      "model_module_version": "1.2.0",
      "model_name": "LayoutModel",
      "state": {}
     },
     "1cd42b32b75a46dcaeea4756c5638425": {
      "model_module": "@jupyter-widgets/controls",
      "model_module_version": "1.5.0",
      "model_name": "ProgressStyleModel",
      "state": {
       "description_width": ""
      }
     },
     "1da79ec76dd64bfc8614901e6b5f0330": {
      "model_module": "@jupyter-widgets/controls",
      "model_module_version": "1.5.0",
      "model_name": "IntProgressModel",
      "state": {
       "description": "Processing: ",
       "layout": "IPY_MODEL_f99bff09f5564cecb7aac86ee3ba30f0",
       "max": 48,
       "style": "IPY_MODEL_bf25e802d4f34cbd8a1157570c911d56",
       "value": 48
      }
     },
     "1f0483d3c33345778b9899b758906692": {
      "model_module": "@jupyter-widgets/controls",
      "model_module_version": "1.5.0",
      "model_name": "IntProgressModel",
      "state": {
       "description": "Processing: ",
       "layout": "IPY_MODEL_7b0513ed1df24cb6ac19ec71eebd739b",
       "max": 4,
       "style": "IPY_MODEL_6eca3fee38aa49eaa15618e2c784e7ef",
       "value": 4
      }
     },
     "20e5fd6a0069454fafd326e0b2c6874e": {
      "model_module": "@jupyter-widgets/controls",
      "model_module_version": "1.5.0",
      "model_name": "IntProgressModel",
      "state": {
       "description": "Processing: ",
       "layout": "IPY_MODEL_9f25d12341b64552868de4dabd7bb506",
       "max": 4,
       "style": "IPY_MODEL_caa659819c434f14a218de71ea5e9920",
       "value": 4
      }
     },
     "214f5c9d01af4e3280d72e111805b628": {
      "model_module": "@jupyter-widgets/controls",
      "model_module_version": "1.5.0",
      "model_name": "IntProgressModel",
      "state": {
       "description": "Processing: ",
       "layout": "IPY_MODEL_e08b19f5eb244d1db0b11de26a4f32c2",
       "max": 870,
       "style": "IPY_MODEL_e6faccfc6fd544afa2637f5003bf7d9a",
       "value": 870
      }
     },
     "21f73cd0eb41414ba504f5427afc948b": {
      "model_module": "@jupyter-widgets/base",
      "model_module_version": "1.2.0",
      "model_name": "LayoutModel",
      "state": {}
     },
     "22df95c90c8f4280af2639447b493322": {
      "model_module": "@jupyter-widgets/controls",
      "model_module_version": "1.5.0",
      "model_name": "IntProgressModel",
      "state": {
       "description": "Processing: ",
       "layout": "IPY_MODEL_08e8d8e39f4440d49e27f90ccb39ca91",
       "max": 48,
       "style": "IPY_MODEL_0e8fea0b79e245859bbb5e40c0241525",
       "value": 48
      }
     },
     "2307265549e1422c90e209ab9fac75d9": {
      "model_module": "@jupyter-widgets/base",
      "model_module_version": "1.2.0",
      "model_name": "LayoutModel",
      "state": {}
     },
     "23c2129d6e4b4e60aea46e684ef74565": {
      "model_module": "@jupyter-widgets/base",
      "model_module_version": "1.2.0",
      "model_name": "LayoutModel",
      "state": {}
     },
     "23ed8d269a2b44afaef219e7a53bc0a6": {
      "model_module": "@jupyter-widgets/controls",
      "model_module_version": "1.5.0",
      "model_name": "DropdownModel",
      "state": {
       "_options_labels": [
        "Topic 0",
        "Topic 1",
        "Topic 2",
        "Topic 3"
       ],
       "description": "Topic #:",
       "index": 3,
       "layout": "IPY_MODEL_33eb2b1b8bb14719ba8a21393bcd7130",
       "style": "IPY_MODEL_fa30d12576524391bd1a84daf0e5e3e2"
      }
     },
     "25083cc1971945d7bc6bc8bef8f5913a": {
      "model_module": "@jupyter-widgets/controls",
      "model_module_version": "1.5.0",
      "model_name": "IntProgressModel",
      "state": {
       "description": "Processing: ",
       "layout": "IPY_MODEL_c45c5a4d34b4456884f58bb925af73f9",
       "max": 870,
       "style": "IPY_MODEL_ae2910a0461b4c3981e9225276dea5c2",
       "value": 870
      }
     },
     "26f02ce620224ea8a80f62d026ec1419": {
      "model_module": "@jupyter-widgets/controls",
      "model_module_version": "1.5.0",
      "model_name": "ProgressStyleModel",
      "state": {
       "description_width": ""
      }
     },
     "283c6fb0bef0443d8e6420eca0655ce4": {
      "model_module": "@jupyter-widgets/controls",
      "model_module_version": "1.5.0",
      "model_name": "IntProgressModel",
      "state": {
       "description": "Processing: ",
       "layout": "IPY_MODEL_934bc2eb15ec404c9b98c481e126b7ac",
       "max": 4,
       "style": "IPY_MODEL_9c60033ee0d74e949a5e8bbb2ad1aca6",
       "value": 4
      }
     },
     "283fc5c6b2514ea2b9ac077137ff3078": {
      "model_module": "@jupyter-widgets/controls",
      "model_module_version": "1.5.0",
      "model_name": "IntProgressModel",
      "state": {
       "description": "Processing: ",
       "layout": "IPY_MODEL_f471eca31f6e48c1bd81b6d2d26b8b72",
       "max": 4,
       "style": "IPY_MODEL_4447fae23ca74ff987b96e31f0ca8c64",
       "value": 4
      }
     },
     "2ade8d5999e24b38aa950416d69b90b6": {
      "model_module": "@jupyter-widgets/base",
      "model_module_version": "1.2.0",
      "model_name": "LayoutModel",
      "state": {}
     },
     "2b987b17499247a58f0f89886a90de49": {
      "model_module": "@jupyter-widgets/controls",
      "model_module_version": "1.5.0",
      "model_name": "IntProgressModel",
      "state": {
       "description": "Processing: ",
       "layout": "IPY_MODEL_a83a1065e8ea46f79cd22b93a05f9934",
       "max": 4,
       "style": "IPY_MODEL_09733c562d1348feab4b8e9135b545b8",
       "value": 4
      }
     },
     "2bb1a14617cf4d9dafd97b6ea9f6b467": {
      "model_module": "@jupyter-widgets/controls",
      "model_module_version": "1.5.0",
      "model_name": "IntProgressModel",
      "state": {
       "description": "Processing: ",
       "layout": "IPY_MODEL_21f73cd0eb41414ba504f5427afc948b",
       "max": 870,
       "style": "IPY_MODEL_1a19b13730c34adb8ac3f3e6fcc55655",
       "value": 870
      }
     },
     "2bd9437396b44d9b9119d03a87f910cd": {
      "model_module": "@jupyter-widgets/controls",
      "model_module_version": "1.5.0",
      "model_name": "IntProgressModel",
      "state": {
       "description": "Processing: ",
       "layout": "IPY_MODEL_0c66ab04e33b42c9bde43f9096e72993",
       "max": 4,
       "style": "IPY_MODEL_ebc411cffcd441f08ebce6e23bb4561b",
       "value": 4
      }
     },
     "31b3baafeb774a7cbac7db870aa9dd74": {
      "model_module": "@jupyter-widgets/base",
      "model_module_version": "1.2.0",
      "model_name": "LayoutModel",
      "state": {}
     },
     "31cc43fcacf44bd492789694ad981918": {
      "model_module": "@jupyter-widgets/controls",
      "model_module_version": "1.5.0",
      "model_name": "ButtonModel",
      "state": {
       "description": "Run Interact",
       "layout": "IPY_MODEL_df6710eb9bd64e1399f6eb85417e19bc",
       "style": "IPY_MODEL_e804e8b8e49742c7b794eb645e9cfbb7"
      }
     },
     "322c4bab47e543bb86e141cc5dd3babe": {
      "model_module": "@jupyter-widgets/controls",
      "model_module_version": "1.5.0",
      "model_name": "VBoxModel",
      "state": {
       "_dom_classes": [
        "widget-interact"
       ],
       "children": [
        "IPY_MODEL_f0aa0b72c5d34fd6b0fdec52b7bc6792",
        "IPY_MODEL_b60e569c302f4aed9a592d920bb1d704",
        "IPY_MODEL_31cc43fcacf44bd492789694ad981918",
        "IPY_MODEL_937c0719026c43d2b1b5d22fa0f42fb5"
       ],
       "layout": "IPY_MODEL_a90a548c760246d6a187aeac60b8d716"
      }
     },
     "331b048b024f45e780b69e099540ecf6": {
      "model_module": "@jupyter-widgets/base",
      "model_module_version": "1.2.0",
      "model_name": "LayoutModel",
      "state": {}
     },
     "33eb2b1b8bb14719ba8a21393bcd7130": {
      "model_module": "@jupyter-widgets/base",
      "model_module_version": "1.2.0",
      "model_name": "LayoutModel",
      "state": {}
     },
     "343289ca052f45dd9faadaefc9372136": {
      "model_module": "@jupyter-widgets/controls",
      "model_module_version": "1.5.0",
      "model_name": "ProgressStyleModel",
      "state": {
       "description_width": ""
      }
     },
     "34c55935c58b4f5d9becee874b767226": {
      "model_module": "@jupyter-widgets/base",
      "model_module_version": "1.2.0",
      "model_name": "LayoutModel",
      "state": {}
     },
     "35edcc52f9ab42fe9998f1f225424eaf": {
      "model_module": "@jupyter-widgets/base",
      "model_module_version": "1.2.0",
      "model_name": "LayoutModel",
      "state": {}
     },
     "367873095006426c9e320950f7b4ae8d": {
      "model_module": "@jupyter-widgets/controls",
      "model_module_version": "1.5.0",
      "model_name": "ProgressStyleModel",
      "state": {
       "description_width": ""
      }
     },
     "36da061b06cd4ee99e00182a6e9ce4bc": {
      "model_module": "@jupyter-widgets/controls",
      "model_module_version": "1.5.0",
      "model_name": "ProgressStyleModel",
      "state": {
       "description_width": ""
      }
     },
     "374d9a1bae56432c95465d275e0f0edf": {
      "model_module": "@jupyter-widgets/base",
      "model_module_version": "1.2.0",
      "model_name": "LayoutModel",
      "state": {}
     },
     "379ae64d79ba4e5eb105aff54a88ccd5": {
      "model_module": "@jupyter-widgets/base",
      "model_module_version": "1.2.0",
      "model_name": "LayoutModel",
      "state": {}
     },
     "3a8cd6d206e444258351efc0bcae2d1d": {
      "model_module": "@jupyter-widgets/base",
      "model_module_version": "1.2.0",
      "model_name": "LayoutModel",
      "state": {}
     },
     "3acab8a540094d4098b78789d04c32ee": {
      "model_module": "@jupyter-widgets/controls",
      "model_module_version": "1.5.0",
      "model_name": "ProgressStyleModel",
      "state": {
       "description_width": ""
      }
     },
     "3b43b69302be48c1b7fe3f6c01b6050e": {
      "model_module": "@jupyter-widgets/base",
      "model_module_version": "1.2.0",
      "model_name": "LayoutModel",
      "state": {}
     },
     "3bf7f25f47ad4584bbb8ee0ebc13b456": {
      "model_module": "@jupyter-widgets/controls",
      "model_module_version": "1.5.0",
      "model_name": "IntProgressModel",
      "state": {
       "description": "Processing: ",
       "layout": "IPY_MODEL_4e2151d4cb4c4f0ca0db2d5778d48953",
       "max": 48,
       "style": "IPY_MODEL_c36c5f6e93d24320b9c334cd7da8e437",
       "value": 48
      }
     },
     "3f46aa5b765141ed92a825ac31204f31": {
      "model_module": "@jupyter-widgets/controls",
      "model_module_version": "1.5.0",
      "model_name": "ButtonStyleModel",
      "state": {}
     },
     "423bc887d5c74b828758d8bde8648171": {
      "model_module": "@jupyter-widgets/base",
      "model_module_version": "1.2.0",
      "model_name": "LayoutModel",
      "state": {}
     },
     "4447fae23ca74ff987b96e31f0ca8c64": {
      "model_module": "@jupyter-widgets/controls",
      "model_module_version": "1.5.0",
      "model_name": "ProgressStyleModel",
      "state": {
       "description_width": ""
      }
     },
     "45a586cfd60944c28a4a5cb8dfe23639": {
      "model_module": "@jupyter-widgets/controls",
      "model_module_version": "1.5.0",
      "model_name": "ProgressStyleModel",
      "state": {
       "description_width": ""
      }
     },
     "45f53047ff5540dfa38eba501bd244ed": {
      "model_module": "@jupyter-widgets/controls",
      "model_module_version": "1.5.0",
      "model_name": "IntProgressModel",
      "state": {
       "description": "Processing: ",
       "layout": "IPY_MODEL_0117c18961784440b5d8753007486595",
       "max": 4,
       "style": "IPY_MODEL_1b08de3ef7aa4b4384a1e311af2322ba",
       "value": 4
      }
     },
     "460c90df8cb44ac69590932b8b6e5074": {
      "model_module": "@jupyter-widgets/base",
      "model_module_version": "1.2.0",
      "model_name": "LayoutModel",
      "state": {}
     },
     "479439093be741ac88e852948d5c5ab8": {
      "model_module": "@jupyter-widgets/base",
      "model_module_version": "1.2.0",
      "model_name": "LayoutModel",
      "state": {}
     },
     "4b6faed7bfb248248bf88f723cafb57e": {
      "model_module": "@jupyter-widgets/base",
      "model_module_version": "1.2.0",
      "model_name": "LayoutModel",
      "state": {}
     },
     "4e1fdee38f5c468196e169e6a5f7c101": {
      "model_module": "@jupyter-widgets/controls",
      "model_module_version": "1.5.0",
      "model_name": "ProgressStyleModel",
      "state": {
       "description_width": ""
      }
     },
     "4e2151d4cb4c4f0ca0db2d5778d48953": {
      "model_module": "@jupyter-widgets/base",
      "model_module_version": "1.2.0",
      "model_name": "LayoutModel",
      "state": {}
     },
     "4e3242bd35ff4ec681ee4cacddc4c182": {
      "model_module": "@jupyter-widgets/base",
      "model_module_version": "1.2.0",
      "model_name": "LayoutModel",
      "state": {}
     },
     "5035a2b460474f83903c74c7dad63a39": {
      "model_module": "@jupyter-widgets/controls",
      "model_module_version": "1.5.0",
      "model_name": "IntProgressModel",
      "state": {
       "description": "Processing: ",
       "layout": "IPY_MODEL_f90aba366131435b94408fae809d8109",
       "max": 4,
       "style": "IPY_MODEL_6b283543764646a9ae26e0b933fba321",
       "value": 4
      }
     },
     "529b5b871ba3463887efe28bc5b168c3": {
      "model_module": "@jupyter-widgets/controls",
      "model_module_version": "1.5.0",
      "model_name": "IntProgressModel",
      "state": {
       "description": "Processing: ",
       "layout": "IPY_MODEL_bc73140e8d064bf7b2f2e0ab84454788",
       "max": 4,
       "style": "IPY_MODEL_8588d3da2aaf42249875a17f77c6efc7",
       "value": 4
      }
     },
     "53158dec7f594db998d1d3c997266e28": {
      "model_module": "@jupyter-widgets/base",
      "model_module_version": "1.2.0",
      "model_name": "LayoutModel",
      "state": {}
     },
     "535c7dfe55704c279516fe05a4193ccd": {
      "model_module": "@jupyter-widgets/controls",
      "model_module_version": "1.5.0",
      "model_name": "IntProgressModel",
      "state": {
       "description": "Processing: ",
       "layout": "IPY_MODEL_16e9e2a08a3f427ca590447071eb82e0",
       "max": 870,
       "style": "IPY_MODEL_ba2240e1c94a478cb4a761e40d0958b0",
       "value": 870
      }
     },
     "57cac375ec6d4fd3b96900dc60fef2aa": {
      "model_module": "@jupyter-widgets/base",
      "model_module_version": "1.2.0",
      "model_name": "LayoutModel",
      "state": {}
     },
     "58831f023c5b497e919aff6f4eb8a4a5": {
      "model_module": "@jupyter-widgets/base",
      "model_module_version": "1.2.0",
      "model_name": "LayoutModel",
      "state": {}
     },
     "5971dcb9f6424a1cbf1c2014a1386b81": {
      "model_module": "@jupyter-widgets/controls",
      "model_module_version": "1.5.0",
      "model_name": "ButtonModel",
      "state": {
       "description": "Run Interact",
       "layout": "IPY_MODEL_70a28876caf14ca4a0c5f7a06e67284a",
       "style": "IPY_MODEL_ed6c19d2b9dd4d0cb71431f7aa30934c"
      }
     },
     "5a09472c1ef3476b924f3803890a10e1": {
      "model_module": "@jupyter-widgets/controls",
      "model_module_version": "1.5.0",
      "model_name": "IntProgressModel",
      "state": {
       "description": "Processing: ",
       "layout": "IPY_MODEL_b97fc926337941f882e40c70b1f6d86a",
       "max": 870,
       "style": "IPY_MODEL_9e6d802bfa104586a25109d50ceff98d",
       "value": 870
      }
     },
     "5b6b8326f0a5417d876abb0002f1a002": {
      "model_module": "@jupyter-widgets/controls",
      "model_module_version": "1.5.0",
      "model_name": "ToggleButtonsStyleModel",
      "state": {
       "button_width": "",
       "description_width": ""
      }
     },
     "5bcb2f51df654e0f8523e33e88d2609f": {
      "model_module": "@jupyter-widgets/controls",
      "model_module_version": "1.5.0",
      "model_name": "ProgressStyleModel",
      "state": {
       "description_width": ""
      }
     },
     "5be6d5098d9f467098ed1693d37e32b2": {
      "model_module": "@jupyter-widgets/output",
      "model_module_version": "1.0.0",
      "model_name": "OutputModel",
      "state": {
       "layout": "IPY_MODEL_5e22a500410947d3a5b677dcf2f13a84",
       "outputs": [
        {
         "data": {
          "text/html": "        <script type=\"text/javascript\">\n        window.PlotlyConfig = {MathJaxConfig: 'local'};\n        if (window.MathJax) {MathJax.Hub.Config({SVG: {font: \"STIX-Web\"}});}\n        if (typeof require !== 'undefined') {\n        require.undef(\"plotly\");\n        requirejs.config({\n            paths: {\n                'plotly': ['https://cdn.plot.ly/plotly-latest.min']\n            }\n        });\n        require(['plotly'], function(Plotly) {\n            window._Plotly = Plotly;\n        });\n        }\n        </script>\n        "
         },
         "metadata": {},
         "output_type": "display_data"
        },
        {
         "data": {
          "application/vnd.plotly.v1+json": {
           "config": {
            "linkText": "Export to plot.ly",
            "plotlyServerURL": "https://plot.ly",
            "showLink": true
           },
           "data": [
            {
             "marker": {
              "color": "rgba(255, 153, 51, 0.6)",
              "line": {
               "color": "rgba(255, 153, 51, 1.0)",
               "width": 1
              }
             },
             "name": "count",
             "orientation": "v",
             "text": "",
             "type": "bar",
             "x": [
              "outdoor pool",
              "pool bar",
              "stay night",
              "great variety",
              "go back",
              "first time",
              "lunch dinner",
              "night stay",
              "business trip",
              "staff friendly",
              "excellent service",
              "make sure",
              "next time",
              "pool area",
              "worth visit",
              "stay business",
              "business lunch",
              "late night",
              "morning breakfast",
              "staff excellent",
              "extra charge",
              "little old",
              "little bit",
              "well decorate",
              "flight cancel",
              "swim pool",
              "indoor pool",
              "friendly helpful",
              "include price",
              "friendly staff",
              "high quality",
              "bit pricey",
              "next day",
              "many time",
              "great time",
              "different salad",
              "spa area",
              "really like",
              "place stay",
              "soft drink",
              "day breakfast",
              "old fashion",
              "several different",
              "stay well",
              "buffet option",
              "complimentary drink",
              "cost euros",
              "book night",
              "change glass",
              "couple day",
              "go wife",
              "great atmosphere",
              "fresh fruit",
              "fan buffet",
              "buffet choose",
              "dessert include",
              "buffet rich",
              "buffet excellent",
              "buffet great",
              "entree dish",
              "buffet make",
              "enjoy great",
              "easy find",
              "drink also",
              "great place",
              "let know",
              "great value",
              "stay service",
              "really worth",
              "reasonable price",
              "right get",
              "salad meat",
              "service excellent",
              "staff keep",
              "summer time",
              "helpful polite",
              "think dessert",
              "try different",
              "variety choice",
              "variety salad",
              "want change",
              "want pay",
              "quality taste",
              "price friendly",
              "place go",
              "minute_walk away",
              "meat fish",
              "many option",
              "lunch salad",
              "lunch buffet",
              "local speciality",
              "like change",
              "late lunch",
              "large varaiety",
              "large clean",
              "indoor outdoor",
              "huge variety",
              "hot dish",
              "highly recomende",
              "always great"
             ],
             "y": [
              6,
              6,
              6,
              5,
              5,
              5,
              5,
              5,
              5,
              4,
              4,
              4,
              4,
              4,
              4,
              4,
              3,
              3,
              3,
              3,
              3,
              3,
              3,
              3,
              3,
              3,
              3,
              3,
              3,
              3,
              3,
              3,
              3,
              3,
              3,
              3,
              3,
              3,
              3,
              3,
              3,
              3,
              3,
              3,
              2,
              2,
              2,
              2,
              2,
              2,
              2,
              2,
              2,
              2,
              2,
              2,
              2,
              2,
              2,
              2,
              2,
              2,
              2,
              2,
              2,
              2,
              2,
              2,
              2,
              2,
              2,
              2,
              2,
              2,
              2,
              2,
              2,
              2,
              2,
              2,
              2,
              2,
              2,
              2,
              2,
              2,
              2,
              2,
              2,
              2,
              2,
              2,
              2,
              2,
              2,
              2,
              2,
              2,
              2,
              2
             ]
            }
           ],
           "layout": {
            "legend": {
             "bgcolor": "#F5F6F9",
             "font": {
              "color": "#4D5663"
             }
            },
            "paper_bgcolor": "#F5F6F9",
            "plot_bgcolor": "#F5F6F9",
            "template": {
             "data": {
              "bar": [
               {
                "error_x": {
                 "color": "#2a3f5f"
                },
                "error_y": {
                 "color": "#2a3f5f"
                },
                "marker": {
                 "line": {
                  "color": "#E5ECF6",
                  "width": 0.5
                 }
                },
                "type": "bar"
               }
              ],
              "barpolar": [
               {
                "marker": {
                 "line": {
                  "color": "#E5ECF6",
                  "width": 0.5
                 }
                },
                "type": "barpolar"
               }
              ],
              "carpet": [
               {
                "aaxis": {
                 "endlinecolor": "#2a3f5f",
                 "gridcolor": "white",
                 "linecolor": "white",
                 "minorgridcolor": "white",
                 "startlinecolor": "#2a3f5f"
                },
                "baxis": {
                 "endlinecolor": "#2a3f5f",
                 "gridcolor": "white",
                 "linecolor": "white",
                 "minorgridcolor": "white",
                 "startlinecolor": "#2a3f5f"
                },
                "type": "carpet"
               }
              ],
              "choropleth": [
               {
                "colorbar": {
                 "outlinewidth": 0,
                 "ticks": ""
                },
                "type": "choropleth"
               }
              ],
              "contour": [
               {
                "colorbar": {
                 "outlinewidth": 0,
                 "ticks": ""
                },
                "colorscale": [
                 [
                  0,
                  "#0d0887"
                 ],
                 [
                  0.1111111111111111,
                  "#46039f"
                 ],
                 [
                  0.2222222222222222,
                  "#7201a8"
                 ],
                 [
                  0.3333333333333333,
                  "#9c179e"
                 ],
                 [
                  0.4444444444444444,
                  "#bd3786"
                 ],
                 [
                  0.5555555555555556,
                  "#d8576b"
                 ],
                 [
                  0.6666666666666666,
                  "#ed7953"
                 ],
                 [
                  0.7777777777777778,
                  "#fb9f3a"
                 ],
                 [
                  0.8888888888888888,
                  "#fdca26"
                 ],
                 [
                  1,
                  "#f0f921"
                 ]
                ],
                "type": "contour"
               }
              ],
              "contourcarpet": [
               {
                "colorbar": {
                 "outlinewidth": 0,
                 "ticks": ""
                },
                "type": "contourcarpet"
               }
              ],
              "heatmap": [
               {
                "colorbar": {
                 "outlinewidth": 0,
                 "ticks": ""
                },
                "colorscale": [
                 [
                  0,
                  "#0d0887"
                 ],
                 [
                  0.1111111111111111,
                  "#46039f"
                 ],
                 [
                  0.2222222222222222,
                  "#7201a8"
                 ],
                 [
                  0.3333333333333333,
                  "#9c179e"
                 ],
                 [
                  0.4444444444444444,
                  "#bd3786"
                 ],
                 [
                  0.5555555555555556,
                  "#d8576b"
                 ],
                 [
                  0.6666666666666666,
                  "#ed7953"
                 ],
                 [
                  0.7777777777777778,
                  "#fb9f3a"
                 ],
                 [
                  0.8888888888888888,
                  "#fdca26"
                 ],
                 [
                  1,
                  "#f0f921"
                 ]
                ],
                "type": "heatmap"
               }
              ],
              "heatmapgl": [
               {
                "colorbar": {
                 "outlinewidth": 0,
                 "ticks": ""
                },
                "colorscale": [
                 [
                  0,
                  "#0d0887"
                 ],
                 [
                  0.1111111111111111,
                  "#46039f"
                 ],
                 [
                  0.2222222222222222,
                  "#7201a8"
                 ],
                 [
                  0.3333333333333333,
                  "#9c179e"
                 ],
                 [
                  0.4444444444444444,
                  "#bd3786"
                 ],
                 [
                  0.5555555555555556,
                  "#d8576b"
                 ],
                 [
                  0.6666666666666666,
                  "#ed7953"
                 ],
                 [
                  0.7777777777777778,
                  "#fb9f3a"
                 ],
                 [
                  0.8888888888888888,
                  "#fdca26"
                 ],
                 [
                  1,
                  "#f0f921"
                 ]
                ],
                "type": "heatmapgl"
               }
              ],
              "histogram": [
               {
                "marker": {
                 "colorbar": {
                  "outlinewidth": 0,
                  "ticks": ""
                 }
                },
                "type": "histogram"
               }
              ],
              "histogram2d": [
               {
                "colorbar": {
                 "outlinewidth": 0,
                 "ticks": ""
                },
                "colorscale": [
                 [
                  0,
                  "#0d0887"
                 ],
                 [
                  0.1111111111111111,
                  "#46039f"
                 ],
                 [
                  0.2222222222222222,
                  "#7201a8"
                 ],
                 [
                  0.3333333333333333,
                  "#9c179e"
                 ],
                 [
                  0.4444444444444444,
                  "#bd3786"
                 ],
                 [
                  0.5555555555555556,
                  "#d8576b"
                 ],
                 [
                  0.6666666666666666,
                  "#ed7953"
                 ],
                 [
                  0.7777777777777778,
                  "#fb9f3a"
                 ],
                 [
                  0.8888888888888888,
                  "#fdca26"
                 ],
                 [
                  1,
                  "#f0f921"
                 ]
                ],
                "type": "histogram2d"
               }
              ],
              "histogram2dcontour": [
               {
                "colorbar": {
                 "outlinewidth": 0,
                 "ticks": ""
                },
                "colorscale": [
                 [
                  0,
                  "#0d0887"
                 ],
                 [
                  0.1111111111111111,
                  "#46039f"
                 ],
                 [
                  0.2222222222222222,
                  "#7201a8"
                 ],
                 [
                  0.3333333333333333,
                  "#9c179e"
                 ],
                 [
                  0.4444444444444444,
                  "#bd3786"
                 ],
                 [
                  0.5555555555555556,
                  "#d8576b"
                 ],
                 [
                  0.6666666666666666,
                  "#ed7953"
                 ],
                 [
                  0.7777777777777778,
                  "#fb9f3a"
                 ],
                 [
                  0.8888888888888888,
                  "#fdca26"
                 ],
                 [
                  1,
                  "#f0f921"
                 ]
                ],
                "type": "histogram2dcontour"
               }
              ],
              "mesh3d": [
               {
                "colorbar": {
                 "outlinewidth": 0,
                 "ticks": ""
                },
                "type": "mesh3d"
               }
              ],
              "parcoords": [
               {
                "line": {
                 "colorbar": {
                  "outlinewidth": 0,
                  "ticks": ""
                 }
                },
                "type": "parcoords"
               }
              ],
              "pie": [
               {
                "automargin": true,
                "type": "pie"
               }
              ],
              "scatter": [
               {
                "marker": {
                 "colorbar": {
                  "outlinewidth": 0,
                  "ticks": ""
                 }
                },
                "type": "scatter"
               }
              ],
              "scatter3d": [
               {
                "line": {
                 "colorbar": {
                  "outlinewidth": 0,
                  "ticks": ""
                 }
                },
                "marker": {
                 "colorbar": {
                  "outlinewidth": 0,
                  "ticks": ""
                 }
                },
                "type": "scatter3d"
               }
              ],
              "scattercarpet": [
               {
                "marker": {
                 "colorbar": {
                  "outlinewidth": 0,
                  "ticks": ""
                 }
                },
                "type": "scattercarpet"
               }
              ],
              "scattergeo": [
               {
                "marker": {
                 "colorbar": {
                  "outlinewidth": 0,
                  "ticks": ""
                 }
                },
                "type": "scattergeo"
               }
              ],
              "scattergl": [
               {
                "marker": {
                 "colorbar": {
                  "outlinewidth": 0,
                  "ticks": ""
                 }
                },
                "type": "scattergl"
               }
              ],
              "scattermapbox": [
               {
                "marker": {
                 "colorbar": {
                  "outlinewidth": 0,
                  "ticks": ""
                 }
                },
                "type": "scattermapbox"
               }
              ],
              "scatterpolar": [
               {
                "marker": {
                 "colorbar": {
                  "outlinewidth": 0,
                  "ticks": ""
                 }
                },
                "type": "scatterpolar"
               }
              ],
              "scatterpolargl": [
               {
                "marker": {
                 "colorbar": {
                  "outlinewidth": 0,
                  "ticks": ""
                 }
                },
                "type": "scatterpolargl"
               }
              ],
              "scatterternary": [
               {
                "marker": {
                 "colorbar": {
                  "outlinewidth": 0,
                  "ticks": ""
                 }
                },
                "type": "scatterternary"
               }
              ],
              "surface": [
               {
                "colorbar": {
                 "outlinewidth": 0,
                 "ticks": ""
                },
                "colorscale": [
                 [
                  0,
                  "#0d0887"
                 ],
                 [
                  0.1111111111111111,
                  "#46039f"
                 ],
                 [
                  0.2222222222222222,
                  "#7201a8"
                 ],
                 [
                  0.3333333333333333,
                  "#9c179e"
                 ],
                 [
                  0.4444444444444444,
                  "#bd3786"
                 ],
                 [
                  0.5555555555555556,
                  "#d8576b"
                 ],
                 [
                  0.6666666666666666,
                  "#ed7953"
                 ],
                 [
                  0.7777777777777778,
                  "#fb9f3a"
                 ],
                 [
                  0.8888888888888888,
                  "#fdca26"
                 ],
                 [
                  1,
                  "#f0f921"
                 ]
                ],
                "type": "surface"
               }
              ],
              "table": [
               {
                "cells": {
                 "fill": {
                  "color": "#EBF0F8"
                 },
                 "line": {
                  "color": "white"
                 }
                },
                "header": {
                 "fill": {
                  "color": "#C8D4E3"
                 },
                 "line": {
                  "color": "white"
                 }
                },
                "type": "table"
               }
              ]
             },
             "layout": {
              "annotationdefaults": {
               "arrowcolor": "#2a3f5f",
               "arrowhead": 0,
               "arrowwidth": 1
              },
              "coloraxis": {
               "colorbar": {
                "outlinewidth": 0,
                "ticks": ""
               }
              },
              "colorscale": {
               "diverging": [
                [
                 0,
                 "#8e0152"
                ],
                [
                 0.1,
                 "#c51b7d"
                ],
                [
                 0.2,
                 "#de77ae"
                ],
                [
                 0.3,
                 "#f1b6da"
                ],
                [
                 0.4,
                 "#fde0ef"
                ],
                [
                 0.5,
                 "#f7f7f7"
                ],
                [
                 0.6,
                 "#e6f5d0"
                ],
                [
                 0.7,
                 "#b8e186"
                ],
                [
                 0.8,
                 "#7fbc41"
                ],
                [
                 0.9,
                 "#4d9221"
                ],
                [
                 1,
                 "#276419"
                ]
               ],
               "sequential": [
                [
                 0,
                 "#0d0887"
                ],
                [
                 0.1111111111111111,
                 "#46039f"
                ],
                [
                 0.2222222222222222,
                 "#7201a8"
                ],
                [
                 0.3333333333333333,
                 "#9c179e"
                ],
                [
                 0.4444444444444444,
                 "#bd3786"
                ],
                [
                 0.5555555555555556,
                 "#d8576b"
                ],
                [
                 0.6666666666666666,
                 "#ed7953"
                ],
                [
                 0.7777777777777778,
                 "#fb9f3a"
                ],
                [
                 0.8888888888888888,
                 "#fdca26"
                ],
                [
                 1,
                 "#f0f921"
                ]
               ],
               "sequentialminus": [
                [
                 0,
                 "#0d0887"
                ],
                [
                 0.1111111111111111,
                 "#46039f"
                ],
                [
                 0.2222222222222222,
                 "#7201a8"
                ],
                [
                 0.3333333333333333,
                 "#9c179e"
                ],
                [
                 0.4444444444444444,
                 "#bd3786"
                ],
                [
                 0.5555555555555556,
                 "#d8576b"
                ],
                [
                 0.6666666666666666,
                 "#ed7953"
                ],
                [
                 0.7777777777777778,
                 "#fb9f3a"
                ],
                [
                 0.8888888888888888,
                 "#fdca26"
                ],
                [
                 1,
                 "#f0f921"
                ]
               ]
              },
              "colorway": [
               "#636efa",
               "#EF553B",
               "#00cc96",
               "#ab63fa",
               "#FFA15A",
               "#19d3f3",
               "#FF6692",
               "#B6E880",
               "#FF97FF",
               "#FECB52"
              ],
              "font": {
               "color": "#2a3f5f"
              },
              "geo": {
               "bgcolor": "white",
               "lakecolor": "white",
               "landcolor": "#E5ECF6",
               "showlakes": true,
               "showland": true,
               "subunitcolor": "white"
              },
              "hoverlabel": {
               "align": "left"
              },
              "hovermode": "closest",
              "mapbox": {
               "style": "light"
              },
              "paper_bgcolor": "white",
              "plot_bgcolor": "#E5ECF6",
              "polar": {
               "angularaxis": {
                "gridcolor": "white",
                "linecolor": "white",
                "ticks": ""
               },
               "bgcolor": "#E5ECF6",
               "radialaxis": {
                "gridcolor": "white",
                "linecolor": "white",
                "ticks": ""
               }
              },
              "scene": {
               "xaxis": {
                "backgroundcolor": "#E5ECF6",
                "gridcolor": "white",
                "gridwidth": 2,
                "linecolor": "white",
                "showbackground": true,
                "ticks": "",
                "zerolinecolor": "white"
               },
               "yaxis": {
                "backgroundcolor": "#E5ECF6",
                "gridcolor": "white",
                "gridwidth": 2,
                "linecolor": "white",
                "showbackground": true,
                "ticks": "",
                "zerolinecolor": "white"
               },
               "zaxis": {
                "backgroundcolor": "#E5ECF6",
                "gridcolor": "white",
                "gridwidth": 2,
                "linecolor": "white",
                "showbackground": true,
                "ticks": "",
                "zerolinecolor": "white"
               }
              },
              "shapedefaults": {
               "line": {
                "color": "#2a3f5f"
               }
              },
              "ternary": {
               "aaxis": {
                "gridcolor": "white",
                "linecolor": "white",
                "ticks": ""
               },
               "baxis": {
                "gridcolor": "white",
                "linecolor": "white",
                "ticks": ""
               },
               "bgcolor": "#E5ECF6",
               "caxis": {
                "gridcolor": "white",
                "linecolor": "white",
                "ticks": ""
               }
              },
              "title": {
               "x": 0.05
              },
              "xaxis": {
               "automargin": true,
               "gridcolor": "white",
               "linecolor": "white",
               "ticks": "",
               "title": {
                "standoff": 15
               },
               "zerolinecolor": "white",
               "zerolinewidth": 2
              },
              "yaxis": {
               "automargin": true,
               "gridcolor": "white",
               "linecolor": "white",
               "ticks": "",
               "title": {
                "standoff": 15
               },
               "zerolinecolor": "white",
               "zerolinewidth": 2
              }
             }
            },
            "title": {
             "font": {
              "color": "#4D5663"
             },
             "text": "Topic 3: Top 100 bigrams after removing stop words"
            },
            "xaxis": {
             "gridcolor": "#E1E5ED",
             "linecolor": "black",
             "showgrid": true,
             "tickfont": {
              "color": "#4D5663"
             },
             "title": {
              "font": {
               "color": "#4D5663"
              },
              "text": ""
             },
             "zerolinecolor": "#E1E5ED"
            },
            "yaxis": {
             "gridcolor": "#E1E5ED",
             "linecolor": "black",
             "showgrid": true,
             "tickfont": {
              "color": "#4D5663"
             },
             "title": {
              "font": {
               "color": "#4D5663"
              },
              "text": "Count"
             },
             "zerolinecolor": "#E1E5ED"
            }
           }
          },
          "text/html": "<div>\n        \n        \n            <div id=\"35eb5c21-06d4-46a5-a219-ad3a7e64fe2b\" class=\"plotly-graph-div\" style=\"height:525px; width:100%;\"></div>\n            <script type=\"text/javascript\">\n                require([\"plotly\"], function(Plotly) {\n                    window.PLOTLYENV=window.PLOTLYENV || {};\n                    window.PLOTLYENV.BASE_URL='https://plot.ly';\n                    \n                if (document.getElementById(\"35eb5c21-06d4-46a5-a219-ad3a7e64fe2b\")) {\n                    Plotly.newPlot(\n                        '35eb5c21-06d4-46a5-a219-ad3a7e64fe2b',\n                        [{\"marker\": {\"color\": \"rgba(255, 153, 51, 0.6)\", \"line\": {\"color\": \"rgba(255, 153, 51, 1.0)\", \"width\": 1}}, \"name\": \"count\", \"orientation\": \"v\", \"text\": \"\", \"type\": \"bar\", \"x\": [\"outdoor pool\", \"pool bar\", \"stay night\", \"great variety\", \"go back\", \"first time\", \"lunch dinner\", \"night stay\", \"business trip\", \"staff friendly\", \"excellent service\", \"make sure\", \"next time\", \"pool area\", \"worth visit\", \"stay business\", \"business lunch\", \"late night\", \"morning breakfast\", \"staff excellent\", \"extra charge\", \"little old\", \"little bit\", \"well decorate\", \"flight cancel\", \"swim pool\", \"indoor pool\", \"friendly helpful\", \"include price\", \"friendly staff\", \"high quality\", \"bit pricey\", \"next day\", \"many time\", \"great time\", \"different salad\", \"spa area\", \"really like\", \"place stay\", \"soft drink\", \"day breakfast\", \"old fashion\", \"several different\", \"stay well\", \"buffet option\", \"complimentary drink\", \"cost euros\", \"book night\", \"change glass\", \"couple day\", \"go wife\", \"great atmosphere\", \"fresh fruit\", \"fan buffet\", \"buffet choose\", \"dessert include\", \"buffet rich\", \"buffet excellent\", \"buffet great\", \"entree dish\", \"buffet make\", \"enjoy great\", \"easy find\", \"drink also\", \"great place\", \"let know\", \"great value\", \"stay service\", \"really worth\", \"reasonable price\", \"right get\", \"salad meat\", \"service excellent\", \"staff keep\", \"summer time\", \"helpful polite\", \"think dessert\", \"try different\", \"variety choice\", \"variety salad\", \"want change\", \"want pay\", \"quality taste\", \"price friendly\", \"place go\", \"minute_walk away\", \"meat fish\", \"many option\", \"lunch salad\", \"lunch buffet\", \"local speciality\", \"like change\", \"late lunch\", \"large varaiety\", \"large clean\", \"indoor outdoor\", \"huge variety\", \"hot dish\", \"highly recomende\", \"always great\"], \"y\": [6, 6, 6, 5, 5, 5, 5, 5, 5, 4, 4, 4, 4, 4, 4, 4, 3, 3, 3, 3, 3, 3, 3, 3, 3, 3, 3, 3, 3, 3, 3, 3, 3, 3, 3, 3, 3, 3, 3, 3, 3, 3, 3, 3, 2, 2, 2, 2, 2, 2, 2, 2, 2, 2, 2, 2, 2, 2, 2, 2, 2, 2, 2, 2, 2, 2, 2, 2, 2, 2, 2, 2, 2, 2, 2, 2, 2, 2, 2, 2, 2, 2, 2, 2, 2, 2, 2, 2, 2, 2, 2, 2, 2, 2, 2, 2, 2, 2, 2, 2]}],\n                        {\"legend\": {\"bgcolor\": \"#F5F6F9\", \"font\": {\"color\": \"#4D5663\"}}, \"paper_bgcolor\": \"#F5F6F9\", \"plot_bgcolor\": \"#F5F6F9\", \"template\": {\"data\": {\"bar\": [{\"error_x\": {\"color\": \"#2a3f5f\"}, \"error_y\": {\"color\": \"#2a3f5f\"}, \"marker\": {\"line\": {\"color\": \"#E5ECF6\", \"width\": 0.5}}, \"type\": \"bar\"}], \"barpolar\": [{\"marker\": {\"line\": {\"color\": \"#E5ECF6\", \"width\": 0.5}}, \"type\": \"barpolar\"}], \"carpet\": [{\"aaxis\": {\"endlinecolor\": \"#2a3f5f\", \"gridcolor\": \"white\", \"linecolor\": \"white\", \"minorgridcolor\": \"white\", \"startlinecolor\": \"#2a3f5f\"}, \"baxis\": {\"endlinecolor\": \"#2a3f5f\", \"gridcolor\": \"white\", \"linecolor\": \"white\", \"minorgridcolor\": \"white\", \"startlinecolor\": \"#2a3f5f\"}, \"type\": \"carpet\"}], \"choropleth\": [{\"colorbar\": {\"outlinewidth\": 0, \"ticks\": \"\"}, \"type\": \"choropleth\"}], \"contour\": [{\"colorbar\": {\"outlinewidth\": 0, \"ticks\": \"\"}, \"colorscale\": [[0.0, \"#0d0887\"], [0.1111111111111111, \"#46039f\"], [0.2222222222222222, \"#7201a8\"], [0.3333333333333333, \"#9c179e\"], [0.4444444444444444, \"#bd3786\"], [0.5555555555555556, \"#d8576b\"], [0.6666666666666666, \"#ed7953\"], [0.7777777777777778, \"#fb9f3a\"], [0.8888888888888888, \"#fdca26\"], [1.0, \"#f0f921\"]], \"type\": \"contour\"}], \"contourcarpet\": [{\"colorbar\": {\"outlinewidth\": 0, \"ticks\": \"\"}, \"type\": \"contourcarpet\"}], \"heatmap\": [{\"colorbar\": {\"outlinewidth\": 0, \"ticks\": \"\"}, \"colorscale\": [[0.0, \"#0d0887\"], [0.1111111111111111, \"#46039f\"], [0.2222222222222222, \"#7201a8\"], [0.3333333333333333, \"#9c179e\"], [0.4444444444444444, \"#bd3786\"], [0.5555555555555556, \"#d8576b\"], [0.6666666666666666, \"#ed7953\"], [0.7777777777777778, \"#fb9f3a\"], [0.8888888888888888, \"#fdca26\"], [1.0, \"#f0f921\"]], \"type\": \"heatmap\"}], \"heatmapgl\": [{\"colorbar\": {\"outlinewidth\": 0, \"ticks\": \"\"}, \"colorscale\": [[0.0, \"#0d0887\"], [0.1111111111111111, \"#46039f\"], [0.2222222222222222, \"#7201a8\"], [0.3333333333333333, \"#9c179e\"], [0.4444444444444444, \"#bd3786\"], [0.5555555555555556, \"#d8576b\"], [0.6666666666666666, \"#ed7953\"], [0.7777777777777778, \"#fb9f3a\"], [0.8888888888888888, \"#fdca26\"], [1.0, \"#f0f921\"]], \"type\": \"heatmapgl\"}], \"histogram\": [{\"marker\": {\"colorbar\": {\"outlinewidth\": 0, \"ticks\": \"\"}}, \"type\": \"histogram\"}], \"histogram2d\": [{\"colorbar\": {\"outlinewidth\": 0, \"ticks\": \"\"}, \"colorscale\": [[0.0, \"#0d0887\"], [0.1111111111111111, \"#46039f\"], [0.2222222222222222, \"#7201a8\"], [0.3333333333333333, \"#9c179e\"], [0.4444444444444444, \"#bd3786\"], [0.5555555555555556, \"#d8576b\"], [0.6666666666666666, \"#ed7953\"], [0.7777777777777778, \"#fb9f3a\"], [0.8888888888888888, \"#fdca26\"], [1.0, \"#f0f921\"]], \"type\": \"histogram2d\"}], \"histogram2dcontour\": [{\"colorbar\": {\"outlinewidth\": 0, \"ticks\": \"\"}, \"colorscale\": [[0.0, \"#0d0887\"], [0.1111111111111111, \"#46039f\"], [0.2222222222222222, \"#7201a8\"], [0.3333333333333333, \"#9c179e\"], [0.4444444444444444, \"#bd3786\"], [0.5555555555555556, \"#d8576b\"], [0.6666666666666666, \"#ed7953\"], [0.7777777777777778, \"#fb9f3a\"], [0.8888888888888888, \"#fdca26\"], [1.0, \"#f0f921\"]], \"type\": \"histogram2dcontour\"}], \"mesh3d\": [{\"colorbar\": {\"outlinewidth\": 0, \"ticks\": \"\"}, \"type\": \"mesh3d\"}], \"parcoords\": [{\"line\": {\"colorbar\": {\"outlinewidth\": 0, \"ticks\": \"\"}}, \"type\": \"parcoords\"}], \"pie\": [{\"automargin\": true, \"type\": \"pie\"}], \"scatter\": [{\"marker\": {\"colorbar\": {\"outlinewidth\": 0, \"ticks\": \"\"}}, \"type\": \"scatter\"}], \"scatter3d\": [{\"line\": {\"colorbar\": {\"outlinewidth\": 0, \"ticks\": \"\"}}, \"marker\": {\"colorbar\": {\"outlinewidth\": 0, \"ticks\": \"\"}}, \"type\": \"scatter3d\"}], \"scattercarpet\": [{\"marker\": {\"colorbar\": {\"outlinewidth\": 0, \"ticks\": \"\"}}, \"type\": \"scattercarpet\"}], \"scattergeo\": [{\"marker\": {\"colorbar\": {\"outlinewidth\": 0, \"ticks\": \"\"}}, \"type\": \"scattergeo\"}], \"scattergl\": [{\"marker\": {\"colorbar\": {\"outlinewidth\": 0, \"ticks\": \"\"}}, \"type\": \"scattergl\"}], \"scattermapbox\": [{\"marker\": {\"colorbar\": {\"outlinewidth\": 0, \"ticks\": \"\"}}, \"type\": \"scattermapbox\"}], \"scatterpolar\": [{\"marker\": {\"colorbar\": {\"outlinewidth\": 0, \"ticks\": \"\"}}, \"type\": \"scatterpolar\"}], \"scatterpolargl\": [{\"marker\": {\"colorbar\": {\"outlinewidth\": 0, \"ticks\": \"\"}}, \"type\": \"scatterpolargl\"}], \"scatterternary\": [{\"marker\": {\"colorbar\": {\"outlinewidth\": 0, \"ticks\": \"\"}}, \"type\": \"scatterternary\"}], \"surface\": [{\"colorbar\": {\"outlinewidth\": 0, \"ticks\": \"\"}, \"colorscale\": [[0.0, \"#0d0887\"], [0.1111111111111111, \"#46039f\"], [0.2222222222222222, \"#7201a8\"], [0.3333333333333333, \"#9c179e\"], [0.4444444444444444, \"#bd3786\"], [0.5555555555555556, \"#d8576b\"], [0.6666666666666666, \"#ed7953\"], [0.7777777777777778, \"#fb9f3a\"], [0.8888888888888888, \"#fdca26\"], [1.0, \"#f0f921\"]], \"type\": \"surface\"}], \"table\": [{\"cells\": {\"fill\": {\"color\": \"#EBF0F8\"}, \"line\": {\"color\": \"white\"}}, \"header\": {\"fill\": {\"color\": \"#C8D4E3\"}, \"line\": {\"color\": \"white\"}}, \"type\": \"table\"}]}, \"layout\": {\"annotationdefaults\": {\"arrowcolor\": \"#2a3f5f\", \"arrowhead\": 0, \"arrowwidth\": 1}, \"coloraxis\": {\"colorbar\": {\"outlinewidth\": 0, \"ticks\": \"\"}}, \"colorscale\": {\"diverging\": [[0, \"#8e0152\"], [0.1, \"#c51b7d\"], [0.2, \"#de77ae\"], [0.3, \"#f1b6da\"], [0.4, \"#fde0ef\"], [0.5, \"#f7f7f7\"], [0.6, \"#e6f5d0\"], [0.7, \"#b8e186\"], [0.8, \"#7fbc41\"], [0.9, \"#4d9221\"], [1, \"#276419\"]], \"sequential\": [[0.0, \"#0d0887\"], [0.1111111111111111, \"#46039f\"], [0.2222222222222222, \"#7201a8\"], [0.3333333333333333, \"#9c179e\"], [0.4444444444444444, \"#bd3786\"], [0.5555555555555556, \"#d8576b\"], [0.6666666666666666, \"#ed7953\"], [0.7777777777777778, \"#fb9f3a\"], [0.8888888888888888, \"#fdca26\"], [1.0, \"#f0f921\"]], \"sequentialminus\": [[0.0, \"#0d0887\"], [0.1111111111111111, \"#46039f\"], [0.2222222222222222, \"#7201a8\"], [0.3333333333333333, \"#9c179e\"], [0.4444444444444444, \"#bd3786\"], [0.5555555555555556, \"#d8576b\"], [0.6666666666666666, \"#ed7953\"], [0.7777777777777778, \"#fb9f3a\"], [0.8888888888888888, \"#fdca26\"], [1.0, \"#f0f921\"]]}, \"colorway\": [\"#636efa\", \"#EF553B\", \"#00cc96\", \"#ab63fa\", \"#FFA15A\", \"#19d3f3\", \"#FF6692\", \"#B6E880\", \"#FF97FF\", \"#FECB52\"], \"font\": {\"color\": \"#2a3f5f\"}, \"geo\": {\"bgcolor\": \"white\", \"lakecolor\": \"white\", \"landcolor\": \"#E5ECF6\", \"showlakes\": true, \"showland\": true, \"subunitcolor\": \"white\"}, \"hoverlabel\": {\"align\": \"left\"}, \"hovermode\": \"closest\", \"mapbox\": {\"style\": \"light\"}, \"paper_bgcolor\": \"white\", \"plot_bgcolor\": \"#E5ECF6\", \"polar\": {\"angularaxis\": {\"gridcolor\": \"white\", \"linecolor\": \"white\", \"ticks\": \"\"}, \"bgcolor\": \"#E5ECF6\", \"radialaxis\": {\"gridcolor\": \"white\", \"linecolor\": \"white\", \"ticks\": \"\"}}, \"scene\": {\"xaxis\": {\"backgroundcolor\": \"#E5ECF6\", \"gridcolor\": \"white\", \"gridwidth\": 2, \"linecolor\": \"white\", \"showbackground\": true, \"ticks\": \"\", \"zerolinecolor\": \"white\"}, \"yaxis\": {\"backgroundcolor\": \"#E5ECF6\", \"gridcolor\": \"white\", \"gridwidth\": 2, \"linecolor\": \"white\", \"showbackground\": true, \"ticks\": \"\", \"zerolinecolor\": \"white\"}, \"zaxis\": {\"backgroundcolor\": \"#E5ECF6\", \"gridcolor\": \"white\", \"gridwidth\": 2, \"linecolor\": \"white\", \"showbackground\": true, \"ticks\": \"\", \"zerolinecolor\": \"white\"}}, \"shapedefaults\": {\"line\": {\"color\": \"#2a3f5f\"}}, \"ternary\": {\"aaxis\": {\"gridcolor\": \"white\", \"linecolor\": \"white\", \"ticks\": \"\"}, \"baxis\": {\"gridcolor\": \"white\", \"linecolor\": \"white\", \"ticks\": \"\"}, \"bgcolor\": \"#E5ECF6\", \"caxis\": {\"gridcolor\": \"white\", \"linecolor\": \"white\", \"ticks\": \"\"}}, \"title\": {\"x\": 0.05}, \"xaxis\": {\"automargin\": true, \"gridcolor\": \"white\", \"linecolor\": \"white\", \"ticks\": \"\", \"title\": {\"standoff\": 15}, \"zerolinecolor\": \"white\", \"zerolinewidth\": 2}, \"yaxis\": {\"automargin\": true, \"gridcolor\": \"white\", \"linecolor\": \"white\", \"ticks\": \"\", \"title\": {\"standoff\": 15}, \"zerolinecolor\": \"white\", \"zerolinewidth\": 2}}}, \"title\": {\"font\": {\"color\": \"#4D5663\"}, \"text\": \"Topic 3: Top 100 bigrams after removing stop words\"}, \"xaxis\": {\"gridcolor\": \"#E1E5ED\", \"linecolor\": \"black\", \"showgrid\": true, \"tickfont\": {\"color\": \"#4D5663\"}, \"title\": {\"font\": {\"color\": \"#4D5663\"}, \"text\": \"\"}, \"zerolinecolor\": \"#E1E5ED\"}, \"yaxis\": {\"gridcolor\": \"#E1E5ED\", \"linecolor\": \"black\", \"showgrid\": true, \"tickfont\": {\"color\": \"#4D5663\"}, \"title\": {\"font\": {\"color\": \"#4D5663\"}, \"text\": \"Count\"}, \"zerolinecolor\": \"#E1E5ED\"}},\n                        {\"showLink\": true, \"linkText\": \"Export to plot.ly\", \"plotlyServerURL\": \"https://plot.ly\", \"responsive\": true}\n                    ).then(function(){\n                            \nvar gd = document.getElementById('35eb5c21-06d4-46a5-a219-ad3a7e64fe2b');\nvar x = new MutationObserver(function (mutations, observer) {{\n        var display = window.getComputedStyle(gd).display;\n        if (!display || display === 'none') {{\n            console.log([gd, 'removed!']);\n            Plotly.purge(gd);\n            observer.disconnect();\n        }}\n}});\n\n// Listen for the removal of the full notebook cells\nvar notebookContainer = gd.closest('#notebook-container');\nif (notebookContainer) {{\n    x.observe(notebookContainer, {childList: true});\n}}\n\n// Listen for the clearing of the current output cell\nvar outputEl = gd.closest('.output');\nif (outputEl) {{\n    x.observe(outputEl, {childList: true});\n}}\n\n                        })\n                };\n                });\n            </script>\n        </div>"
         },
         "metadata": {},
         "output_type": "display_data"
        }
       ]
      }
     },
     "5e22a500410947d3a5b677dcf2f13a84": {
      "model_module": "@jupyter-widgets/base",
      "model_module_version": "1.2.0",
      "model_name": "LayoutModel",
      "state": {}
     },
     "5e3b8284655e4d1193d517ba382113c1": {
      "model_module": "@jupyter-widgets/base",
      "model_module_version": "1.2.0",
      "model_name": "LayoutModel",
      "state": {}
     },
     "5eb3637191734eec9f79620da58e5f29": {
      "model_module": "@jupyter-widgets/controls",
      "model_module_version": "1.5.0",
      "model_name": "ProgressStyleModel",
      "state": {
       "description_width": ""
      }
     },
     "5f1dad62fcbe45caac6444f661f27d10": {
      "model_module": "@jupyter-widgets/controls",
      "model_module_version": "1.5.0",
      "model_name": "ProgressStyleModel",
      "state": {
       "description_width": ""
      }
     },
     "62077375abdf48e28987780b10e7d2da": {
      "model_module": "@jupyter-widgets/controls",
      "model_module_version": "1.5.0",
      "model_name": "ProgressStyleModel",
      "state": {
       "description_width": ""
      }
     },
     "63382beeefa04a0a9a1169f1407a4c47": {
      "model_module": "@jupyter-widgets/controls",
      "model_module_version": "1.5.0",
      "model_name": "IntProgressModel",
      "state": {
       "description": "Processing: ",
       "layout": "IPY_MODEL_5e3b8284655e4d1193d517ba382113c1",
       "max": 48,
       "style": "IPY_MODEL_5eb3637191734eec9f79620da58e5f29",
       "value": 48
      }
     },
     "6581d7cb4d92419fbad67bffc7c275ab": {
      "model_module": "@jupyter-widgets/controls",
      "model_module_version": "1.5.0",
      "model_name": "IntProgressModel",
      "state": {
       "description": "Processing: ",
       "layout": "IPY_MODEL_9f4d9978372844b092eb142c012eb461",
       "max": 48,
       "style": "IPY_MODEL_ed35519ca52f4fd795e8c6cce2a7e233",
       "value": 48
      }
     },
     "66a25303bbe84b82b97f0a28a1667233": {
      "model_module": "@jupyter-widgets/base",
      "model_module_version": "1.2.0",
      "model_name": "LayoutModel",
      "state": {}
     },
     "68f776c0ee6042a2808649742f4bac2b": {
      "model_module": "@jupyter-widgets/controls",
      "model_module_version": "1.5.0",
      "model_name": "IntProgressModel",
      "state": {
       "description": "Processing: ",
       "layout": "IPY_MODEL_96f8fd9dded14f198991a160b4ce8f0e",
       "max": 48,
       "style": "IPY_MODEL_9c4378f7d73c44c79a71e9357098d2d3",
       "value": 48
      }
     },
     "69bb7f060370468ab969885a393bc713": {
      "model_module": "@jupyter-widgets/controls",
      "model_module_version": "1.5.0",
      "model_name": "DropdownModel",
      "state": {
       "_options_labels": [
        "Topic 0",
        "Topic 1",
        "Topic 2",
        "Topic 3",
        "Topic 4",
        "Topic 5",
        "Topic 6",
        "Topic 7",
        "Topic 8",
        "Topic 9"
       ],
       "description": "Topic #:",
       "index": 9,
       "layout": "IPY_MODEL_d2aabbfda6494143b42c40dc46625599",
       "style": "IPY_MODEL_d03d1c65475a46e7b028e243ac822384"
      }
     },
     "6b283543764646a9ae26e0b933fba321": {
      "model_module": "@jupyter-widgets/controls",
      "model_module_version": "1.5.0",
      "model_name": "ProgressStyleModel",
      "state": {
       "description_width": ""
      }
     },
     "6eca3fee38aa49eaa15618e2c784e7ef": {
      "model_module": "@jupyter-widgets/controls",
      "model_module_version": "1.5.0",
      "model_name": "ProgressStyleModel",
      "state": {
       "description_width": ""
      }
     },
     "704ea141a5074eaa83f67d44f98d2c0b": {
      "model_module": "@jupyter-widgets/controls",
      "model_module_version": "1.5.0",
      "model_name": "ToggleButtonsStyleModel",
      "state": {
       "button_width": "",
       "description_width": ""
      }
     },
     "70815f0b5b404c93be39bdaaca26b098": {
      "model_module": "@jupyter-widgets/controls",
      "model_module_version": "1.5.0",
      "model_name": "IntProgressModel",
      "state": {
       "description": "Processing: ",
       "layout": "IPY_MODEL_31b3baafeb774a7cbac7db870aa9dd74",
       "max": 11,
       "style": "IPY_MODEL_c94240c41acb4685a37cdf7f48cfe378",
       "value": 11
      }
     },
     "70a28876caf14ca4a0c5f7a06e67284a": {
      "model_module": "@jupyter-widgets/base",
      "model_module_version": "1.2.0",
      "model_name": "LayoutModel",
      "state": {}
     },
     "70c00a1bfdac47bab63eb7884d8f47ba": {
      "model_module": "@jupyter-widgets/controls",
      "model_module_version": "1.5.0",
      "model_name": "ProgressStyleModel",
      "state": {
       "description_width": ""
      }
     },
     "745fc4e908784fe492b489c290b04246": {
      "model_module": "@jupyter-widgets/base",
      "model_module_version": "1.2.0",
      "model_name": "LayoutModel",
      "state": {}
     },
     "7523194a671343439ee041b30daed4b8": {
      "model_module": "@jupyter-widgets/controls",
      "model_module_version": "1.5.0",
      "model_name": "IntProgressModel",
      "state": {
       "description": "Processing: ",
       "layout": "IPY_MODEL_53158dec7f594db998d1d3c997266e28",
       "max": 4,
       "style": "IPY_MODEL_45a586cfd60944c28a4a5cb8dfe23639",
       "value": 4
      }
     },
     "763db75e3ecf42a391036ae7cc84eedf": {
      "model_module": "@jupyter-widgets/controls",
      "model_module_version": "1.5.0",
      "model_name": "IntProgressModel",
      "state": {
       "description": "Processing: ",
       "layout": "IPY_MODEL_4b6faed7bfb248248bf88f723cafb57e",
       "max": 48,
       "style": "IPY_MODEL_d1fccbfe4ee44d3e966860acc4854a60",
       "value": 48
      }
     },
     "7a1376c322984f3dba0280748cca767c": {
      "model_module": "@jupyter-widgets/base",
      "model_module_version": "1.2.0",
      "model_name": "LayoutModel",
      "state": {}
     },
     "7b0513ed1df24cb6ac19ec71eebd739b": {
      "model_module": "@jupyter-widgets/base",
      "model_module_version": "1.2.0",
      "model_name": "LayoutModel",
      "state": {}
     },
     "7b0e6a4e2dfd48e390c41694374a5825": {
      "model_module": "@jupyter-widgets/controls",
      "model_module_version": "1.5.0",
      "model_name": "VBoxModel",
      "state": {
       "_dom_classes": [
        "widget-interact"
       ],
       "children": [
        "IPY_MODEL_b7ee6a23727d4f128a27c5424cfa14bd",
        "IPY_MODEL_23ed8d269a2b44afaef219e7a53bc0a6",
        "IPY_MODEL_ac0b46a532c142189c00dd3359f6d926",
        "IPY_MODEL_5be6d5098d9f467098ed1693d37e32b2"
       ],
       "layout": "IPY_MODEL_331b048b024f45e780b69e099540ecf6"
      }
     },
     "7b5a5643220a48888c4c3b6f73df3a63": {
      "model_module": "@jupyter-widgets/controls",
      "model_module_version": "1.5.0",
      "model_name": "IntProgressModel",
      "state": {
       "description": "Processing: ",
       "layout": "IPY_MODEL_7fb3d2a1a8404f7497fb26679cf4166d",
       "max": 870,
       "style": "IPY_MODEL_cf980fd03b41494883574b8be5f315d9",
       "value": 870
      }
     },
     "7f76dc59fe0f4871a34e98099e7bf624": {
      "model_module": "@jupyter-widgets/controls",
      "model_module_version": "1.5.0",
      "model_name": "ProgressStyleModel",
      "state": {
       "description_width": ""
      }
     },
     "7fb3d2a1a8404f7497fb26679cf4166d": {
      "model_module": "@jupyter-widgets/base",
      "model_module_version": "1.2.0",
      "model_name": "LayoutModel",
      "state": {}
     },
     "8003fd95dc824071acdbe35c3483e10b": {
      "model_module": "@jupyter-widgets/base",
      "model_module_version": "1.2.0",
      "model_name": "LayoutModel",
      "state": {}
     },
     "80183cf5fe844d7083166c3250f3fcaa": {
      "model_module": "@jupyter-widgets/base",
      "model_module_version": "1.2.0",
      "model_name": "LayoutModel",
      "state": {}
     },
     "801d09e6ba6a4c10b6e38212173591c2": {
      "model_module": "@jupyter-widgets/controls",
      "model_module_version": "1.5.0",
      "model_name": "IntProgressModel",
      "state": {
       "description": "Processing: ",
       "layout": "IPY_MODEL_b3b7e8dd4298442697da18f77b3df623",
       "max": 4,
       "style": "IPY_MODEL_ef3e23835aa14ee99e95326fc0ca375f",
       "value": 4
      }
     },
     "806b8881c83940ddbaa76483ffdc7f97": {
      "model_module": "@jupyter-widgets/controls",
      "model_module_version": "1.5.0",
      "model_name": "ToggleButtonsStyleModel",
      "state": {
       "button_width": "",
       "description_width": ""
      }
     },
     "84430717888d4c71a53354d53ab75469": {
      "model_module": "@jupyter-widgets/base",
      "model_module_version": "1.2.0",
      "model_name": "LayoutModel",
      "state": {}
     },
     "84fc731fdbef457a939c9ececba04239": {
      "model_module": "@jupyter-widgets/base",
      "model_module_version": "1.2.0",
      "model_name": "LayoutModel",
      "state": {}
     },
     "850b945cf1d84925b36b47b26dc721b1": {
      "model_module": "@jupyter-widgets/controls",
      "model_module_version": "1.5.0",
      "model_name": "IntProgressModel",
      "state": {
       "description": "Processing: ",
       "layout": "IPY_MODEL_1a44e97fbbe94591bf4aad7f63cc012a",
       "max": 870,
       "style": "IPY_MODEL_0f6c8ac6d1f846068fb9281665654538",
       "value": 870
      }
     },
     "8588d3da2aaf42249875a17f77c6efc7": {
      "model_module": "@jupyter-widgets/controls",
      "model_module_version": "1.5.0",
      "model_name": "ProgressStyleModel",
      "state": {
       "description_width": ""
      }
     },
     "86672c973c42441ebc1b07345926a549": {
      "model_module": "@jupyter-widgets/base",
      "model_module_version": "1.2.0",
      "model_name": "LayoutModel",
      "state": {}
     },
     "89b18157ae0c48089e0a9398fd4437f7": {
      "model_module": "@jupyter-widgets/controls",
      "model_module_version": "1.5.0",
      "model_name": "IntProgressModel",
      "state": {
       "description": "Processing: ",
       "layout": "IPY_MODEL_460c90df8cb44ac69590932b8b6e5074",
       "max": 48,
       "style": "IPY_MODEL_343289ca052f45dd9faadaefc9372136",
       "value": 48
      }
     },
     "8abccd2044f944c381d6a35591de0eac": {
      "model_module": "@jupyter-widgets/controls",
      "model_module_version": "1.5.0",
      "model_name": "VBoxModel",
      "state": {
       "_dom_classes": [
        "widget-interact"
       ],
       "children": [
        "IPY_MODEL_08aa6aa0ef6447a0bdc4244114ce3161",
        "IPY_MODEL_ea9cafbe17334322a6646de324d3464d",
        "IPY_MODEL_5971dcb9f6424a1cbf1c2014a1386b81",
        "IPY_MODEL_fbc08f74a0834df1ac913e55ca9f491b"
       ],
       "layout": "IPY_MODEL_2307265549e1422c90e209ab9fac75d9"
      }
     },
     "8b04a0dfd25a4ae8b9db2d90479cf22c": {
      "model_module": "@jupyter-widgets/base",
      "model_module_version": "1.2.0",
      "model_name": "LayoutModel",
      "state": {}
     },
     "8f1efb22dc584147b5cfa796e614d5e4": {
      "model_module": "@jupyter-widgets/controls",
      "model_module_version": "1.5.0",
      "model_name": "ProgressStyleModel",
      "state": {
       "description_width": ""
      }
     },
     "91384f83997a40989067f97b2a15c999": {
      "model_module": "@jupyter-widgets/controls",
      "model_module_version": "1.5.0",
      "model_name": "ProgressStyleModel",
      "state": {
       "description_width": ""
      }
     },
     "923076edcc1f4dd1ae098ee1879c5ad2": {
      "model_module": "@jupyter-widgets/controls",
      "model_module_version": "1.5.0",
      "model_name": "ProgressStyleModel",
      "state": {
       "description_width": ""
      }
     },
     "934bc2eb15ec404c9b98c481e126b7ac": {
      "model_module": "@jupyter-widgets/base",
      "model_module_version": "1.2.0",
      "model_name": "LayoutModel",
      "state": {}
     },
     "937c0719026c43d2b1b5d22fa0f42fb5": {
      "model_module": "@jupyter-widgets/output",
      "model_module_version": "1.0.0",
      "model_name": "OutputModel",
      "state": {
       "layout": "IPY_MODEL_e5f43c05ab66450d9111641e6985360b",
       "outputs": [
        {
         "data": {
          "text/html": "        <script type=\"text/javascript\">\n        window.PlotlyConfig = {MathJaxConfig: 'local'};\n        if (window.MathJax) {MathJax.Hub.Config({SVG: {font: \"STIX-Web\"}});}\n        if (typeof require !== 'undefined') {\n        require.undef(\"plotly\");\n        requirejs.config({\n            paths: {\n                'plotly': ['https://cdn.plot.ly/plotly-latest.min']\n            }\n        });\n        require(['plotly'], function(Plotly) {\n            window._Plotly = Plotly;\n        });\n        }\n        </script>\n        "
         },
         "metadata": {},
         "output_type": "display_data"
        },
        {
         "data": {
          "application/vnd.plotly.v1+json": {
           "config": {
            "linkText": "Export to plot.ly",
            "plotlyServerURL": "https://plot.ly",
            "showLink": true
           },
           "data": [
            {
             "marker": {
              "color": "rgba(255, 153, 51, 0.6)",
              "line": {
               "color": "rgba(255, 153, 51, 1.0)",
               "width": 1
              }
             },
             "name": "count",
             "orientation": "v",
             "text": "",
             "type": "bar",
             "x": [
              "include price",
              "breakfast breakfast",
              "pool look",
              "internet access",
              "price pay",
              "executive suite",
              "extra charge",
              "order breakfast",
              "breakfast selection",
              "business people",
              "general place",
              "full business",
              "impression cause",
              "however price",
              "honest lower",
              "hit shock",
              "expect many",
              "happen lobby",
              "fair location",
              "fill container",
              "go different",
              "fill plate",
              "finally fair",
              "find glass",
              "elevator breakfast",
              "friendly waiter",
              "glass complain",
              "euro mainly",
              "whole ambience",
              "eat bit",
              "due sale",
              "also offer",
              "ambience deadish",
              "apart staff",
              "average friendly",
              "bit pricey",
              "block elevator",
              "boring ago",
              "breakfast find",
              "breakfast less",
              "building block",
              "case extraordinary",
              "cause renovation",
              "complain much",
              "concierge parking",
              "container however",
              "convenient business",
              "dead boring",
              "deadish dead",
              "different building",
              "drink fill",
              "lobby notice",
              "less star",
              "want starve",
              "prime nicosianowaday",
              "promotion finally",
              "rate stay",
              "reception go",
              "relatively low",
              "renovation happen",
              "salad eat",
              "sale promotion",
              "shock sometimes",
              "sometimes pay",
              "special convenient",
              "special maybe",
              "staff polite",
              "star special",
              "star sure",
              "stay honest",
              "sure order",
              "think general",
              "value money",
              "visit overall",
              "waiter think",
              "pricey drink",
              "price hit",
              "polite whole",
              "much want",
              "location ideal",
              "low due",
              "lower expect",
              "mainly salad",
              "many star",
              "maybe impression",
              "money much",
              "much price",
              "much taste",
              "nicosianowaday special",
              "plate much",
              "notice concierge",
              "offer fill",
              "overall rate",
              "parking reception",
              "pay euro",
              "pay relatively",
              "people also",
              "people case",
              "place value",
              "ago prime"
             ],
             "y": [
              2,
              2,
              2,
              2,
              2,
              2,
              2,
              2,
              2,
              2,
              1,
              1,
              1,
              1,
              1,
              1,
              1,
              1,
              1,
              1,
              1,
              1,
              1,
              1,
              1,
              1,
              1,
              1,
              1,
              1,
              1,
              1,
              1,
              1,
              1,
              1,
              1,
              1,
              1,
              1,
              1,
              1,
              1,
              1,
              1,
              1,
              1,
              1,
              1,
              1,
              1,
              1,
              1,
              1,
              1,
              1,
              1,
              1,
              1,
              1,
              1,
              1,
              1,
              1,
              1,
              1,
              1,
              1,
              1,
              1,
              1,
              1,
              1,
              1,
              1,
              1,
              1,
              1,
              1,
              1,
              1,
              1,
              1,
              1,
              1,
              1,
              1,
              1,
              1,
              1,
              1,
              1,
              1,
              1,
              1,
              1,
              1,
              1,
              1,
              1
             ]
            }
           ],
           "layout": {
            "legend": {
             "bgcolor": "#F5F6F9",
             "font": {
              "color": "#4D5663"
             }
            },
            "paper_bgcolor": "#F5F6F9",
            "plot_bgcolor": "#F5F6F9",
            "template": {
             "data": {
              "bar": [
               {
                "error_x": {
                 "color": "#2a3f5f"
                },
                "error_y": {
                 "color": "#2a3f5f"
                },
                "marker": {
                 "line": {
                  "color": "#E5ECF6",
                  "width": 0.5
                 }
                },
                "type": "bar"
               }
              ],
              "barpolar": [
               {
                "marker": {
                 "line": {
                  "color": "#E5ECF6",
                  "width": 0.5
                 }
                },
                "type": "barpolar"
               }
              ],
              "carpet": [
               {
                "aaxis": {
                 "endlinecolor": "#2a3f5f",
                 "gridcolor": "white",
                 "linecolor": "white",
                 "minorgridcolor": "white",
                 "startlinecolor": "#2a3f5f"
                },
                "baxis": {
                 "endlinecolor": "#2a3f5f",
                 "gridcolor": "white",
                 "linecolor": "white",
                 "minorgridcolor": "white",
                 "startlinecolor": "#2a3f5f"
                },
                "type": "carpet"
               }
              ],
              "choropleth": [
               {
                "colorbar": {
                 "outlinewidth": 0,
                 "ticks": ""
                },
                "type": "choropleth"
               }
              ],
              "contour": [
               {
                "colorbar": {
                 "outlinewidth": 0,
                 "ticks": ""
                },
                "colorscale": [
                 [
                  0,
                  "#0d0887"
                 ],
                 [
                  0.1111111111111111,
                  "#46039f"
                 ],
                 [
                  0.2222222222222222,
                  "#7201a8"
                 ],
                 [
                  0.3333333333333333,
                  "#9c179e"
                 ],
                 [
                  0.4444444444444444,
                  "#bd3786"
                 ],
                 [
                  0.5555555555555556,
                  "#d8576b"
                 ],
                 [
                  0.6666666666666666,
                  "#ed7953"
                 ],
                 [
                  0.7777777777777778,
                  "#fb9f3a"
                 ],
                 [
                  0.8888888888888888,
                  "#fdca26"
                 ],
                 [
                  1,
                  "#f0f921"
                 ]
                ],
                "type": "contour"
               }
              ],
              "contourcarpet": [
               {
                "colorbar": {
                 "outlinewidth": 0,
                 "ticks": ""
                },
                "type": "contourcarpet"
               }
              ],
              "heatmap": [
               {
                "colorbar": {
                 "outlinewidth": 0,
                 "ticks": ""
                },
                "colorscale": [
                 [
                  0,
                  "#0d0887"
                 ],
                 [
                  0.1111111111111111,
                  "#46039f"
                 ],
                 [
                  0.2222222222222222,
                  "#7201a8"
                 ],
                 [
                  0.3333333333333333,
                  "#9c179e"
                 ],
                 [
                  0.4444444444444444,
                  "#bd3786"
                 ],
                 [
                  0.5555555555555556,
                  "#d8576b"
                 ],
                 [
                  0.6666666666666666,
                  "#ed7953"
                 ],
                 [
                  0.7777777777777778,
                  "#fb9f3a"
                 ],
                 [
                  0.8888888888888888,
                  "#fdca26"
                 ],
                 [
                  1,
                  "#f0f921"
                 ]
                ],
                "type": "heatmap"
               }
              ],
              "heatmapgl": [
               {
                "colorbar": {
                 "outlinewidth": 0,
                 "ticks": ""
                },
                "colorscale": [
                 [
                  0,
                  "#0d0887"
                 ],
                 [
                  0.1111111111111111,
                  "#46039f"
                 ],
                 [
                  0.2222222222222222,
                  "#7201a8"
                 ],
                 [
                  0.3333333333333333,
                  "#9c179e"
                 ],
                 [
                  0.4444444444444444,
                  "#bd3786"
                 ],
                 [
                  0.5555555555555556,
                  "#d8576b"
                 ],
                 [
                  0.6666666666666666,
                  "#ed7953"
                 ],
                 [
                  0.7777777777777778,
                  "#fb9f3a"
                 ],
                 [
                  0.8888888888888888,
                  "#fdca26"
                 ],
                 [
                  1,
                  "#f0f921"
                 ]
                ],
                "type": "heatmapgl"
               }
              ],
              "histogram": [
               {
                "marker": {
                 "colorbar": {
                  "outlinewidth": 0,
                  "ticks": ""
                 }
                },
                "type": "histogram"
               }
              ],
              "histogram2d": [
               {
                "colorbar": {
                 "outlinewidth": 0,
                 "ticks": ""
                },
                "colorscale": [
                 [
                  0,
                  "#0d0887"
                 ],
                 [
                  0.1111111111111111,
                  "#46039f"
                 ],
                 [
                  0.2222222222222222,
                  "#7201a8"
                 ],
                 [
                  0.3333333333333333,
                  "#9c179e"
                 ],
                 [
                  0.4444444444444444,
                  "#bd3786"
                 ],
                 [
                  0.5555555555555556,
                  "#d8576b"
                 ],
                 [
                  0.6666666666666666,
                  "#ed7953"
                 ],
                 [
                  0.7777777777777778,
                  "#fb9f3a"
                 ],
                 [
                  0.8888888888888888,
                  "#fdca26"
                 ],
                 [
                  1,
                  "#f0f921"
                 ]
                ],
                "type": "histogram2d"
               }
              ],
              "histogram2dcontour": [
               {
                "colorbar": {
                 "outlinewidth": 0,
                 "ticks": ""
                },
                "colorscale": [
                 [
                  0,
                  "#0d0887"
                 ],
                 [
                  0.1111111111111111,
                  "#46039f"
                 ],
                 [
                  0.2222222222222222,
                  "#7201a8"
                 ],
                 [
                  0.3333333333333333,
                  "#9c179e"
                 ],
                 [
                  0.4444444444444444,
                  "#bd3786"
                 ],
                 [
                  0.5555555555555556,
                  "#d8576b"
                 ],
                 [
                  0.6666666666666666,
                  "#ed7953"
                 ],
                 [
                  0.7777777777777778,
                  "#fb9f3a"
                 ],
                 [
                  0.8888888888888888,
                  "#fdca26"
                 ],
                 [
                  1,
                  "#f0f921"
                 ]
                ],
                "type": "histogram2dcontour"
               }
              ],
              "mesh3d": [
               {
                "colorbar": {
                 "outlinewidth": 0,
                 "ticks": ""
                },
                "type": "mesh3d"
               }
              ],
              "parcoords": [
               {
                "line": {
                 "colorbar": {
                  "outlinewidth": 0,
                  "ticks": ""
                 }
                },
                "type": "parcoords"
               }
              ],
              "pie": [
               {
                "automargin": true,
                "type": "pie"
               }
              ],
              "scatter": [
               {
                "marker": {
                 "colorbar": {
                  "outlinewidth": 0,
                  "ticks": ""
                 }
                },
                "type": "scatter"
               }
              ],
              "scatter3d": [
               {
                "line": {
                 "colorbar": {
                  "outlinewidth": 0,
                  "ticks": ""
                 }
                },
                "marker": {
                 "colorbar": {
                  "outlinewidth": 0,
                  "ticks": ""
                 }
                },
                "type": "scatter3d"
               }
              ],
              "scattercarpet": [
               {
                "marker": {
                 "colorbar": {
                  "outlinewidth": 0,
                  "ticks": ""
                 }
                },
                "type": "scattercarpet"
               }
              ],
              "scattergeo": [
               {
                "marker": {
                 "colorbar": {
                  "outlinewidth": 0,
                  "ticks": ""
                 }
                },
                "type": "scattergeo"
               }
              ],
              "scattergl": [
               {
                "marker": {
                 "colorbar": {
                  "outlinewidth": 0,
                  "ticks": ""
                 }
                },
                "type": "scattergl"
               }
              ],
              "scattermapbox": [
               {
                "marker": {
                 "colorbar": {
                  "outlinewidth": 0,
                  "ticks": ""
                 }
                },
                "type": "scattermapbox"
               }
              ],
              "scatterpolar": [
               {
                "marker": {
                 "colorbar": {
                  "outlinewidth": 0,
                  "ticks": ""
                 }
                },
                "type": "scatterpolar"
               }
              ],
              "scatterpolargl": [
               {
                "marker": {
                 "colorbar": {
                  "outlinewidth": 0,
                  "ticks": ""
                 }
                },
                "type": "scatterpolargl"
               }
              ],
              "scatterternary": [
               {
                "marker": {
                 "colorbar": {
                  "outlinewidth": 0,
                  "ticks": ""
                 }
                },
                "type": "scatterternary"
               }
              ],
              "surface": [
               {
                "colorbar": {
                 "outlinewidth": 0,
                 "ticks": ""
                },
                "colorscale": [
                 [
                  0,
                  "#0d0887"
                 ],
                 [
                  0.1111111111111111,
                  "#46039f"
                 ],
                 [
                  0.2222222222222222,
                  "#7201a8"
                 ],
                 [
                  0.3333333333333333,
                  "#9c179e"
                 ],
                 [
                  0.4444444444444444,
                  "#bd3786"
                 ],
                 [
                  0.5555555555555556,
                  "#d8576b"
                 ],
                 [
                  0.6666666666666666,
                  "#ed7953"
                 ],
                 [
                  0.7777777777777778,
                  "#fb9f3a"
                 ],
                 [
                  0.8888888888888888,
                  "#fdca26"
                 ],
                 [
                  1,
                  "#f0f921"
                 ]
                ],
                "type": "surface"
               }
              ],
              "table": [
               {
                "cells": {
                 "fill": {
                  "color": "#EBF0F8"
                 },
                 "line": {
                  "color": "white"
                 }
                },
                "header": {
                 "fill": {
                  "color": "#C8D4E3"
                 },
                 "line": {
                  "color": "white"
                 }
                },
                "type": "table"
               }
              ]
             },
             "layout": {
              "annotationdefaults": {
               "arrowcolor": "#2a3f5f",
               "arrowhead": 0,
               "arrowwidth": 1
              },
              "coloraxis": {
               "colorbar": {
                "outlinewidth": 0,
                "ticks": ""
               }
              },
              "colorscale": {
               "diverging": [
                [
                 0,
                 "#8e0152"
                ],
                [
                 0.1,
                 "#c51b7d"
                ],
                [
                 0.2,
                 "#de77ae"
                ],
                [
                 0.3,
                 "#f1b6da"
                ],
                [
                 0.4,
                 "#fde0ef"
                ],
                [
                 0.5,
                 "#f7f7f7"
                ],
                [
                 0.6,
                 "#e6f5d0"
                ],
                [
                 0.7,
                 "#b8e186"
                ],
                [
                 0.8,
                 "#7fbc41"
                ],
                [
                 0.9,
                 "#4d9221"
                ],
                [
                 1,
                 "#276419"
                ]
               ],
               "sequential": [
                [
                 0,
                 "#0d0887"
                ],
                [
                 0.1111111111111111,
                 "#46039f"
                ],
                [
                 0.2222222222222222,
                 "#7201a8"
                ],
                [
                 0.3333333333333333,
                 "#9c179e"
                ],
                [
                 0.4444444444444444,
                 "#bd3786"
                ],
                [
                 0.5555555555555556,
                 "#d8576b"
                ],
                [
                 0.6666666666666666,
                 "#ed7953"
                ],
                [
                 0.7777777777777778,
                 "#fb9f3a"
                ],
                [
                 0.8888888888888888,
                 "#fdca26"
                ],
                [
                 1,
                 "#f0f921"
                ]
               ],
               "sequentialminus": [
                [
                 0,
                 "#0d0887"
                ],
                [
                 0.1111111111111111,
                 "#46039f"
                ],
                [
                 0.2222222222222222,
                 "#7201a8"
                ],
                [
                 0.3333333333333333,
                 "#9c179e"
                ],
                [
                 0.4444444444444444,
                 "#bd3786"
                ],
                [
                 0.5555555555555556,
                 "#d8576b"
                ],
                [
                 0.6666666666666666,
                 "#ed7953"
                ],
                [
                 0.7777777777777778,
                 "#fb9f3a"
                ],
                [
                 0.8888888888888888,
                 "#fdca26"
                ],
                [
                 1,
                 "#f0f921"
                ]
               ]
              },
              "colorway": [
               "#636efa",
               "#EF553B",
               "#00cc96",
               "#ab63fa",
               "#FFA15A",
               "#19d3f3",
               "#FF6692",
               "#B6E880",
               "#FF97FF",
               "#FECB52"
              ],
              "font": {
               "color": "#2a3f5f"
              },
              "geo": {
               "bgcolor": "white",
               "lakecolor": "white",
               "landcolor": "#E5ECF6",
               "showlakes": true,
               "showland": true,
               "subunitcolor": "white"
              },
              "hoverlabel": {
               "align": "left"
              },
              "hovermode": "closest",
              "mapbox": {
               "style": "light"
              },
              "paper_bgcolor": "white",
              "plot_bgcolor": "#E5ECF6",
              "polar": {
               "angularaxis": {
                "gridcolor": "white",
                "linecolor": "white",
                "ticks": ""
               },
               "bgcolor": "#E5ECF6",
               "radialaxis": {
                "gridcolor": "white",
                "linecolor": "white",
                "ticks": ""
               }
              },
              "scene": {
               "xaxis": {
                "backgroundcolor": "#E5ECF6",
                "gridcolor": "white",
                "gridwidth": 2,
                "linecolor": "white",
                "showbackground": true,
                "ticks": "",
                "zerolinecolor": "white"
               },
               "yaxis": {
                "backgroundcolor": "#E5ECF6",
                "gridcolor": "white",
                "gridwidth": 2,
                "linecolor": "white",
                "showbackground": true,
                "ticks": "",
                "zerolinecolor": "white"
               },
               "zaxis": {
                "backgroundcolor": "#E5ECF6",
                "gridcolor": "white",
                "gridwidth": 2,
                "linecolor": "white",
                "showbackground": true,
                "ticks": "",
                "zerolinecolor": "white"
               }
              },
              "shapedefaults": {
               "line": {
                "color": "#2a3f5f"
               }
              },
              "ternary": {
               "aaxis": {
                "gridcolor": "white",
                "linecolor": "white",
                "ticks": ""
               },
               "baxis": {
                "gridcolor": "white",
                "linecolor": "white",
                "ticks": ""
               },
               "bgcolor": "#E5ECF6",
               "caxis": {
                "gridcolor": "white",
                "linecolor": "white",
                "ticks": ""
               }
              },
              "title": {
               "x": 0.05
              },
              "xaxis": {
               "automargin": true,
               "gridcolor": "white",
               "linecolor": "white",
               "ticks": "",
               "title": {
                "standoff": 15
               },
               "zerolinecolor": "white",
               "zerolinewidth": 2
              },
              "yaxis": {
               "automargin": true,
               "gridcolor": "white",
               "linecolor": "white",
               "ticks": "",
               "title": {
                "standoff": 15
               },
               "zerolinecolor": "white",
               "zerolinewidth": 2
              }
             }
            },
            "title": {
             "font": {
              "color": "#4D5663"
             },
             "text": "Topic 2: Top 100 bigrams after removing stop words"
            },
            "xaxis": {
             "gridcolor": "#E1E5ED",
             "linecolor": "black",
             "showgrid": true,
             "tickfont": {
              "color": "#4D5663"
             },
             "title": {
              "font": {
               "color": "#4D5663"
              },
              "text": ""
             },
             "zerolinecolor": "#E1E5ED"
            },
            "yaxis": {
             "gridcolor": "#E1E5ED",
             "linecolor": "black",
             "showgrid": true,
             "tickfont": {
              "color": "#4D5663"
             },
             "title": {
              "font": {
               "color": "#4D5663"
              },
              "text": "Count"
             },
             "zerolinecolor": "#E1E5ED"
            }
           }
          },
          "text/html": "<div>\n        \n        \n            <div id=\"329d6fa4-ba02-4ddf-9e32-2f808a27a483\" class=\"plotly-graph-div\" style=\"height:525px; width:100%;\"></div>\n            <script type=\"text/javascript\">\n                require([\"plotly\"], function(Plotly) {\n                    window.PLOTLYENV=window.PLOTLYENV || {};\n                    window.PLOTLYENV.BASE_URL='https://plot.ly';\n                    \n                if (document.getElementById(\"329d6fa4-ba02-4ddf-9e32-2f808a27a483\")) {\n                    Plotly.newPlot(\n                        '329d6fa4-ba02-4ddf-9e32-2f808a27a483',\n                        [{\"marker\": {\"color\": \"rgba(255, 153, 51, 0.6)\", \"line\": {\"color\": \"rgba(255, 153, 51, 1.0)\", \"width\": 1}}, \"name\": \"count\", \"orientation\": \"v\", \"text\": \"\", \"type\": \"bar\", \"x\": [\"include price\", \"breakfast breakfast\", \"pool look\", \"internet access\", \"price pay\", \"executive suite\", \"extra charge\", \"order breakfast\", \"breakfast selection\", \"business people\", \"general place\", \"full business\", \"impression cause\", \"however price\", \"honest lower\", \"hit shock\", \"expect many\", \"happen lobby\", \"fair location\", \"fill container\", \"go different\", \"fill plate\", \"finally fair\", \"find glass\", \"elevator breakfast\", \"friendly waiter\", \"glass complain\", \"euro mainly\", \"whole ambience\", \"eat bit\", \"due sale\", \"also offer\", \"ambience deadish\", \"apart staff\", \"average friendly\", \"bit pricey\", \"block elevator\", \"boring ago\", \"breakfast find\", \"breakfast less\", \"building block\", \"case extraordinary\", \"cause renovation\", \"complain much\", \"concierge parking\", \"container however\", \"convenient business\", \"dead boring\", \"deadish dead\", \"different building\", \"drink fill\", \"lobby notice\", \"less star\", \"want starve\", \"prime nicosianowaday\", \"promotion finally\", \"rate stay\", \"reception go\", \"relatively low\", \"renovation happen\", \"salad eat\", \"sale promotion\", \"shock sometimes\", \"sometimes pay\", \"special convenient\", \"special maybe\", \"staff polite\", \"star special\", \"star sure\", \"stay honest\", \"sure order\", \"think general\", \"value money\", \"visit overall\", \"waiter think\", \"pricey drink\", \"price hit\", \"polite whole\", \"much want\", \"location ideal\", \"low due\", \"lower expect\", \"mainly salad\", \"many star\", \"maybe impression\", \"money much\", \"much price\", \"much taste\", \"nicosianowaday special\", \"plate much\", \"notice concierge\", \"offer fill\", \"overall rate\", \"parking reception\", \"pay euro\", \"pay relatively\", \"people also\", \"people case\", \"place value\", \"ago prime\"], \"y\": [2, 2, 2, 2, 2, 2, 2, 2, 2, 2, 1, 1, 1, 1, 1, 1, 1, 1, 1, 1, 1, 1, 1, 1, 1, 1, 1, 1, 1, 1, 1, 1, 1, 1, 1, 1, 1, 1, 1, 1, 1, 1, 1, 1, 1, 1, 1, 1, 1, 1, 1, 1, 1, 1, 1, 1, 1, 1, 1, 1, 1, 1, 1, 1, 1, 1, 1, 1, 1, 1, 1, 1, 1, 1, 1, 1, 1, 1, 1, 1, 1, 1, 1, 1, 1, 1, 1, 1, 1, 1, 1, 1, 1, 1, 1, 1, 1, 1, 1, 1]}],\n                        {\"legend\": {\"bgcolor\": \"#F5F6F9\", \"font\": {\"color\": \"#4D5663\"}}, \"paper_bgcolor\": \"#F5F6F9\", \"plot_bgcolor\": \"#F5F6F9\", \"template\": {\"data\": {\"bar\": [{\"error_x\": {\"color\": \"#2a3f5f\"}, \"error_y\": {\"color\": \"#2a3f5f\"}, \"marker\": {\"line\": {\"color\": \"#E5ECF6\", \"width\": 0.5}}, \"type\": \"bar\"}], \"barpolar\": [{\"marker\": {\"line\": {\"color\": \"#E5ECF6\", \"width\": 0.5}}, \"type\": \"barpolar\"}], \"carpet\": [{\"aaxis\": {\"endlinecolor\": \"#2a3f5f\", \"gridcolor\": \"white\", \"linecolor\": \"white\", \"minorgridcolor\": \"white\", \"startlinecolor\": \"#2a3f5f\"}, \"baxis\": {\"endlinecolor\": \"#2a3f5f\", \"gridcolor\": \"white\", \"linecolor\": \"white\", \"minorgridcolor\": \"white\", \"startlinecolor\": \"#2a3f5f\"}, \"type\": \"carpet\"}], \"choropleth\": [{\"colorbar\": {\"outlinewidth\": 0, \"ticks\": \"\"}, \"type\": \"choropleth\"}], \"contour\": [{\"colorbar\": {\"outlinewidth\": 0, \"ticks\": \"\"}, \"colorscale\": [[0.0, \"#0d0887\"], [0.1111111111111111, \"#46039f\"], [0.2222222222222222, \"#7201a8\"], [0.3333333333333333, \"#9c179e\"], [0.4444444444444444, \"#bd3786\"], [0.5555555555555556, \"#d8576b\"], [0.6666666666666666, \"#ed7953\"], [0.7777777777777778, \"#fb9f3a\"], [0.8888888888888888, \"#fdca26\"], [1.0, \"#f0f921\"]], \"type\": \"contour\"}], \"contourcarpet\": [{\"colorbar\": {\"outlinewidth\": 0, \"ticks\": \"\"}, \"type\": \"contourcarpet\"}], \"heatmap\": [{\"colorbar\": {\"outlinewidth\": 0, \"ticks\": \"\"}, \"colorscale\": [[0.0, \"#0d0887\"], [0.1111111111111111, \"#46039f\"], [0.2222222222222222, \"#7201a8\"], [0.3333333333333333, \"#9c179e\"], [0.4444444444444444, \"#bd3786\"], [0.5555555555555556, \"#d8576b\"], [0.6666666666666666, \"#ed7953\"], [0.7777777777777778, \"#fb9f3a\"], [0.8888888888888888, \"#fdca26\"], [1.0, \"#f0f921\"]], \"type\": \"heatmap\"}], \"heatmapgl\": [{\"colorbar\": {\"outlinewidth\": 0, \"ticks\": \"\"}, \"colorscale\": [[0.0, \"#0d0887\"], [0.1111111111111111, \"#46039f\"], [0.2222222222222222, \"#7201a8\"], [0.3333333333333333, \"#9c179e\"], [0.4444444444444444, \"#bd3786\"], [0.5555555555555556, \"#d8576b\"], [0.6666666666666666, \"#ed7953\"], [0.7777777777777778, \"#fb9f3a\"], [0.8888888888888888, \"#fdca26\"], [1.0, \"#f0f921\"]], \"type\": \"heatmapgl\"}], \"histogram\": [{\"marker\": {\"colorbar\": {\"outlinewidth\": 0, \"ticks\": \"\"}}, \"type\": \"histogram\"}], \"histogram2d\": [{\"colorbar\": {\"outlinewidth\": 0, \"ticks\": \"\"}, \"colorscale\": [[0.0, \"#0d0887\"], [0.1111111111111111, \"#46039f\"], [0.2222222222222222, \"#7201a8\"], [0.3333333333333333, \"#9c179e\"], [0.4444444444444444, \"#bd3786\"], [0.5555555555555556, \"#d8576b\"], [0.6666666666666666, \"#ed7953\"], [0.7777777777777778, \"#fb9f3a\"], [0.8888888888888888, \"#fdca26\"], [1.0, \"#f0f921\"]], \"type\": \"histogram2d\"}], \"histogram2dcontour\": [{\"colorbar\": {\"outlinewidth\": 0, \"ticks\": \"\"}, \"colorscale\": [[0.0, \"#0d0887\"], [0.1111111111111111, \"#46039f\"], [0.2222222222222222, \"#7201a8\"], [0.3333333333333333, \"#9c179e\"], [0.4444444444444444, \"#bd3786\"], [0.5555555555555556, \"#d8576b\"], [0.6666666666666666, \"#ed7953\"], [0.7777777777777778, \"#fb9f3a\"], [0.8888888888888888, \"#fdca26\"], [1.0, \"#f0f921\"]], \"type\": \"histogram2dcontour\"}], \"mesh3d\": [{\"colorbar\": {\"outlinewidth\": 0, \"ticks\": \"\"}, \"type\": \"mesh3d\"}], \"parcoords\": [{\"line\": {\"colorbar\": {\"outlinewidth\": 0, \"ticks\": \"\"}}, \"type\": \"parcoords\"}], \"pie\": [{\"automargin\": true, \"type\": \"pie\"}], \"scatter\": [{\"marker\": {\"colorbar\": {\"outlinewidth\": 0, \"ticks\": \"\"}}, \"type\": \"scatter\"}], \"scatter3d\": [{\"line\": {\"colorbar\": {\"outlinewidth\": 0, \"ticks\": \"\"}}, \"marker\": {\"colorbar\": {\"outlinewidth\": 0, \"ticks\": \"\"}}, \"type\": \"scatter3d\"}], \"scattercarpet\": [{\"marker\": {\"colorbar\": {\"outlinewidth\": 0, \"ticks\": \"\"}}, \"type\": \"scattercarpet\"}], \"scattergeo\": [{\"marker\": {\"colorbar\": {\"outlinewidth\": 0, \"ticks\": \"\"}}, \"type\": \"scattergeo\"}], \"scattergl\": [{\"marker\": {\"colorbar\": {\"outlinewidth\": 0, \"ticks\": \"\"}}, \"type\": \"scattergl\"}], \"scattermapbox\": [{\"marker\": {\"colorbar\": {\"outlinewidth\": 0, \"ticks\": \"\"}}, \"type\": \"scattermapbox\"}], \"scatterpolar\": [{\"marker\": {\"colorbar\": {\"outlinewidth\": 0, \"ticks\": \"\"}}, \"type\": \"scatterpolar\"}], \"scatterpolargl\": [{\"marker\": {\"colorbar\": {\"outlinewidth\": 0, \"ticks\": \"\"}}, \"type\": \"scatterpolargl\"}], \"scatterternary\": [{\"marker\": {\"colorbar\": {\"outlinewidth\": 0, \"ticks\": \"\"}}, \"type\": \"scatterternary\"}], \"surface\": [{\"colorbar\": {\"outlinewidth\": 0, \"ticks\": \"\"}, \"colorscale\": [[0.0, \"#0d0887\"], [0.1111111111111111, \"#46039f\"], [0.2222222222222222, \"#7201a8\"], [0.3333333333333333, \"#9c179e\"], [0.4444444444444444, \"#bd3786\"], [0.5555555555555556, \"#d8576b\"], [0.6666666666666666, \"#ed7953\"], [0.7777777777777778, \"#fb9f3a\"], [0.8888888888888888, \"#fdca26\"], [1.0, \"#f0f921\"]], \"type\": \"surface\"}], \"table\": [{\"cells\": {\"fill\": {\"color\": \"#EBF0F8\"}, \"line\": {\"color\": \"white\"}}, \"header\": {\"fill\": {\"color\": \"#C8D4E3\"}, \"line\": {\"color\": \"white\"}}, \"type\": \"table\"}]}, \"layout\": {\"annotationdefaults\": {\"arrowcolor\": \"#2a3f5f\", \"arrowhead\": 0, \"arrowwidth\": 1}, \"coloraxis\": {\"colorbar\": {\"outlinewidth\": 0, \"ticks\": \"\"}}, \"colorscale\": {\"diverging\": [[0, \"#8e0152\"], [0.1, \"#c51b7d\"], [0.2, \"#de77ae\"], [0.3, \"#f1b6da\"], [0.4, \"#fde0ef\"], [0.5, \"#f7f7f7\"], [0.6, \"#e6f5d0\"], [0.7, \"#b8e186\"], [0.8, \"#7fbc41\"], [0.9, \"#4d9221\"], [1, \"#276419\"]], \"sequential\": [[0.0, \"#0d0887\"], [0.1111111111111111, \"#46039f\"], [0.2222222222222222, \"#7201a8\"], [0.3333333333333333, \"#9c179e\"], [0.4444444444444444, \"#bd3786\"], [0.5555555555555556, \"#d8576b\"], [0.6666666666666666, \"#ed7953\"], [0.7777777777777778, \"#fb9f3a\"], [0.8888888888888888, \"#fdca26\"], [1.0, \"#f0f921\"]], \"sequentialminus\": [[0.0, \"#0d0887\"], [0.1111111111111111, \"#46039f\"], [0.2222222222222222, \"#7201a8\"], [0.3333333333333333, \"#9c179e\"], [0.4444444444444444, \"#bd3786\"], [0.5555555555555556, \"#d8576b\"], [0.6666666666666666, \"#ed7953\"], [0.7777777777777778, \"#fb9f3a\"], [0.8888888888888888, \"#fdca26\"], [1.0, \"#f0f921\"]]}, \"colorway\": [\"#636efa\", \"#EF553B\", \"#00cc96\", \"#ab63fa\", \"#FFA15A\", \"#19d3f3\", \"#FF6692\", \"#B6E880\", \"#FF97FF\", \"#FECB52\"], \"font\": {\"color\": \"#2a3f5f\"}, \"geo\": {\"bgcolor\": \"white\", \"lakecolor\": \"white\", \"landcolor\": \"#E5ECF6\", \"showlakes\": true, \"showland\": true, \"subunitcolor\": \"white\"}, \"hoverlabel\": {\"align\": \"left\"}, \"hovermode\": \"closest\", \"mapbox\": {\"style\": \"light\"}, \"paper_bgcolor\": \"white\", \"plot_bgcolor\": \"#E5ECF6\", \"polar\": {\"angularaxis\": {\"gridcolor\": \"white\", \"linecolor\": \"white\", \"ticks\": \"\"}, \"bgcolor\": \"#E5ECF6\", \"radialaxis\": {\"gridcolor\": \"white\", \"linecolor\": \"white\", \"ticks\": \"\"}}, \"scene\": {\"xaxis\": {\"backgroundcolor\": \"#E5ECF6\", \"gridcolor\": \"white\", \"gridwidth\": 2, \"linecolor\": \"white\", \"showbackground\": true, \"ticks\": \"\", \"zerolinecolor\": \"white\"}, \"yaxis\": {\"backgroundcolor\": \"#E5ECF6\", \"gridcolor\": \"white\", \"gridwidth\": 2, \"linecolor\": \"white\", \"showbackground\": true, \"ticks\": \"\", \"zerolinecolor\": \"white\"}, \"zaxis\": {\"backgroundcolor\": \"#E5ECF6\", \"gridcolor\": \"white\", \"gridwidth\": 2, \"linecolor\": \"white\", \"showbackground\": true, \"ticks\": \"\", \"zerolinecolor\": \"white\"}}, \"shapedefaults\": {\"line\": {\"color\": \"#2a3f5f\"}}, \"ternary\": {\"aaxis\": {\"gridcolor\": \"white\", \"linecolor\": \"white\", \"ticks\": \"\"}, \"baxis\": {\"gridcolor\": \"white\", \"linecolor\": \"white\", \"ticks\": \"\"}, \"bgcolor\": \"#E5ECF6\", \"caxis\": {\"gridcolor\": \"white\", \"linecolor\": \"white\", \"ticks\": \"\"}}, \"title\": {\"x\": 0.05}, \"xaxis\": {\"automargin\": true, \"gridcolor\": \"white\", \"linecolor\": \"white\", \"ticks\": \"\", \"title\": {\"standoff\": 15}, \"zerolinecolor\": \"white\", \"zerolinewidth\": 2}, \"yaxis\": {\"automargin\": true, \"gridcolor\": \"white\", \"linecolor\": \"white\", \"ticks\": \"\", \"title\": {\"standoff\": 15}, \"zerolinecolor\": \"white\", \"zerolinewidth\": 2}}}, \"title\": {\"font\": {\"color\": \"#4D5663\"}, \"text\": \"Topic 2: Top 100 bigrams after removing stop words\"}, \"xaxis\": {\"gridcolor\": \"#E1E5ED\", \"linecolor\": \"black\", \"showgrid\": true, \"tickfont\": {\"color\": \"#4D5663\"}, \"title\": {\"font\": {\"color\": \"#4D5663\"}, \"text\": \"\"}, \"zerolinecolor\": \"#E1E5ED\"}, \"yaxis\": {\"gridcolor\": \"#E1E5ED\", \"linecolor\": \"black\", \"showgrid\": true, \"tickfont\": {\"color\": \"#4D5663\"}, \"title\": {\"font\": {\"color\": \"#4D5663\"}, \"text\": \"Count\"}, \"zerolinecolor\": \"#E1E5ED\"}},\n                        {\"showLink\": true, \"linkText\": \"Export to plot.ly\", \"plotlyServerURL\": \"https://plot.ly\", \"responsive\": true}\n                    ).then(function(){\n                            \nvar gd = document.getElementById('329d6fa4-ba02-4ddf-9e32-2f808a27a483');\nvar x = new MutationObserver(function (mutations, observer) {{\n        var display = window.getComputedStyle(gd).display;\n        if (!display || display === 'none') {{\n            console.log([gd, 'removed!']);\n            Plotly.purge(gd);\n            observer.disconnect();\n        }}\n}});\n\n// Listen for the removal of the full notebook cells\nvar notebookContainer = gd.closest('#notebook-container');\nif (notebookContainer) {{\n    x.observe(notebookContainer, {childList: true});\n}}\n\n// Listen for the clearing of the current output cell\nvar outputEl = gd.closest('.output');\nif (outputEl) {{\n    x.observe(outputEl, {childList: true});\n}}\n\n                        })\n                };\n                });\n            </script>\n        </div>"
         },
         "metadata": {},
         "output_type": "display_data"
        }
       ]
      }
     },
     "93acdd56af924feda1fa9548e71bb783": {
      "model_module": "@jupyter-widgets/base",
      "model_module_version": "1.2.0",
      "model_name": "LayoutModel",
      "state": {}
     },
     "93d58084ac804cbe93762e3d49f909b6": {
      "model_module": "@jupyter-widgets/controls",
      "model_module_version": "1.5.0",
      "model_name": "IntProgressModel",
      "state": {
       "description": "Processing: ",
       "layout": "IPY_MODEL_379ae64d79ba4e5eb105aff54a88ccd5",
       "max": 4,
       "style": "IPY_MODEL_91384f83997a40989067f97b2a15c999",
       "value": 4
      }
     },
     "95ef5bf7c10d49e3abc6007441890ba5": {
      "model_module": "@jupyter-widgets/controls",
      "model_module_version": "1.5.0",
      "model_name": "IntProgressModel",
      "state": {
       "description": "Processing: ",
       "layout": "IPY_MODEL_aa6d72bec06047ed9817f7e9edb5ddea",
       "max": 870,
       "style": "IPY_MODEL_c40dc93f165442c495c677db4987a53b",
       "value": 870
      }
     },
     "95f3e31f5349418db0ea0938aa4c8222": {
      "model_module": "@jupyter-widgets/controls",
      "model_module_version": "1.5.0",
      "model_name": "ProgressStyleModel",
      "state": {
       "description_width": ""
      }
     },
     "96f8fd9dded14f198991a160b4ce8f0e": {
      "model_module": "@jupyter-widgets/base",
      "model_module_version": "1.2.0",
      "model_name": "LayoutModel",
      "state": {}
     },
     "97e9ddff3e324cafbe45798124f3620f": {
      "model_module": "@jupyter-widgets/controls",
      "model_module_version": "1.5.0",
      "model_name": "ProgressStyleModel",
      "state": {
       "description_width": ""
      }
     },
     "98ec7b2109b443cd830023b2284e5337": {
      "model_module": "@jupyter-widgets/controls",
      "model_module_version": "1.5.0",
      "model_name": "DescriptionStyleModel",
      "state": {
       "description_width": ""
      }
     },
     "9a4c8b08486a40eeaa9253f434a0601e": {
      "model_module": "@jupyter-widgets/controls",
      "model_module_version": "1.5.0",
      "model_name": "IntProgressModel",
      "state": {
       "description": "Processing: ",
       "layout": "IPY_MODEL_be2c764e2e784646825313c7e654e5ba",
       "max": 48,
       "style": "IPY_MODEL_70c00a1bfdac47bab63eb7884d8f47ba",
       "value": 48
      }
     },
     "9aabb3b829874b058fd783f5e9b3d23c": {
      "model_module": "@jupyter-widgets/controls",
      "model_module_version": "1.5.0",
      "model_name": "IntProgressModel",
      "state": {
       "description": "Processing: ",
       "layout": "IPY_MODEL_0b344abf71a24150aa935a7f913cbea4",
       "max": 48,
       "style": "IPY_MODEL_7f76dc59fe0f4871a34e98099e7bf624",
       "value": 48
      }
     },
     "9b64f8fc10254320baddc9ed31f2b5f6": {
      "model_module": "@jupyter-widgets/controls",
      "model_module_version": "1.5.0",
      "model_name": "IntProgressModel",
      "state": {
       "description": "Processing: ",
       "layout": "IPY_MODEL_1c9056f33a1a44b480d6146ec57c5394",
       "max": 4,
       "style": "IPY_MODEL_b9a0c6615ef04ac495bb438fa8117d0c",
       "value": 4
      }
     },
     "9c4378f7d73c44c79a71e9357098d2d3": {
      "model_module": "@jupyter-widgets/controls",
      "model_module_version": "1.5.0",
      "model_name": "ProgressStyleModel",
      "state": {
       "description_width": ""
      }
     },
     "9c60033ee0d74e949a5e8bbb2ad1aca6": {
      "model_module": "@jupyter-widgets/controls",
      "model_module_version": "1.5.0",
      "model_name": "ProgressStyleModel",
      "state": {
       "description_width": ""
      }
     },
     "9dc261eb9a4e494586ff942cfe9e6f98": {
      "model_module": "@jupyter-widgets/controls",
      "model_module_version": "1.5.0",
      "model_name": "VBoxModel",
      "state": {
       "_dom_classes": [
        "widget-interact"
       ],
       "children": [
        "IPY_MODEL_dda1594c70a342a5b6b0748ea00dd659",
        "IPY_MODEL_69bb7f060370468ab969885a393bc713",
        "IPY_MODEL_0ca41fee96084ec6b860c2c557524953",
        "IPY_MODEL_ef7bc8a5ff5a4641b8b745d7b49cb773"
       ],
       "layout": "IPY_MODEL_58831f023c5b497e919aff6f4eb8a4a5"
      }
     },
     "9e372dc8d8dd4332b410424cc92f84c5": {
      "model_module": "@jupyter-widgets/controls",
      "model_module_version": "1.5.0",
      "model_name": "ProgressStyleModel",
      "state": {
       "description_width": ""
      }
     },
     "9e6d802bfa104586a25109d50ceff98d": {
      "model_module": "@jupyter-widgets/controls",
      "model_module_version": "1.5.0",
      "model_name": "ProgressStyleModel",
      "state": {
       "description_width": ""
      }
     },
     "9ef43e6e7e114d4784803f678f08a6c2": {
      "model_module": "@jupyter-widgets/controls",
      "model_module_version": "1.5.0",
      "model_name": "IntProgressModel",
      "state": {
       "description": "Processing: ",
       "layout": "IPY_MODEL_93acdd56af924feda1fa9548e71bb783",
       "max": 4,
       "style": "IPY_MODEL_fdc6a6ef75b44c73a1349f2dd0d7348a",
       "value": 4
      }
     },
     "9f25d12341b64552868de4dabd7bb506": {
      "model_module": "@jupyter-widgets/base",
      "model_module_version": "1.2.0",
      "model_name": "LayoutModel",
      "state": {}
     },
     "9f4d9978372844b092eb142c012eb461": {
      "model_module": "@jupyter-widgets/base",
      "model_module_version": "1.2.0",
      "model_name": "LayoutModel",
      "state": {}
     },
     "9faa55c9b02641e6abb0471247a2af53": {
      "model_module": "@jupyter-widgets/controls",
      "model_module_version": "1.5.0",
      "model_name": "ProgressStyleModel",
      "state": {
       "description_width": ""
      }
     },
     "a258c0286fa0415d818d3992c5c8338f": {
      "model_module": "@jupyter-widgets/controls",
      "model_module_version": "1.5.0",
      "model_name": "IntProgressModel",
      "state": {
       "description": "Processing: ",
       "layout": "IPY_MODEL_fae045083bb24cc5b7d9651f5abf55fd",
       "max": 4,
       "style": "IPY_MODEL_be2a7d4439384344931597cb08b5d5d5",
       "value": 4
      }
     },
     "a26c19ef5e91416490b0d2ef8b50537d": {
      "model_module": "@jupyter-widgets/output",
      "model_module_version": "1.0.0",
      "model_name": "OutputModel",
      "state": {
       "layout": "IPY_MODEL_4e3242bd35ff4ec681ee4cacddc4c182"
      }
     },
     "a3319ec54e0d41f382217ed7648b4abb": {
      "model_module": "@jupyter-widgets/controls",
      "model_module_version": "1.5.0",
      "model_name": "IntProgressModel",
      "state": {
       "description": "Processing: ",
       "layout": "IPY_MODEL_0db6eb636e3846ae9c7311a0242e7c96",
       "max": 48,
       "style": "IPY_MODEL_4e1fdee38f5c468196e169e6a5f7c101",
       "value": 48
      }
     },
     "a34fb008861f46e496add1a395f98c5c": {
      "model_module": "@jupyter-widgets/controls",
      "model_module_version": "1.5.0",
      "model_name": "ProgressStyleModel",
      "state": {
       "description_width": ""
      }
     },
     "a6d7d14e7d2743408312f61026036be1": {
      "model_module": "@jupyter-widgets/controls",
      "model_module_version": "1.5.0",
      "model_name": "ProgressStyleModel",
      "state": {
       "description_width": ""
      }
     },
     "a742a2a945db42c3a75be1bb9b816ab1": {
      "model_module": "@jupyter-widgets/controls",
      "model_module_version": "1.5.0",
      "model_name": "ToggleButtonsStyleModel",
      "state": {
       "button_width": "",
       "description_width": ""
      }
     },
     "a83a1065e8ea46f79cd22b93a05f9934": {
      "model_module": "@jupyter-widgets/base",
      "model_module_version": "1.2.0",
      "model_name": "LayoutModel",
      "state": {}
     },
     "a90a548c760246d6a187aeac60b8d716": {
      "model_module": "@jupyter-widgets/base",
      "model_module_version": "1.2.0",
      "model_name": "LayoutModel",
      "state": {}
     },
     "aa6d72bec06047ed9817f7e9edb5ddea": {
      "model_module": "@jupyter-widgets/base",
      "model_module_version": "1.2.0",
      "model_name": "LayoutModel",
      "state": {}
     },
     "abe072bd93824013b97f90ef499fb6da": {
      "model_module": "@jupyter-widgets/controls",
      "model_module_version": "1.5.0",
      "model_name": "ProgressStyleModel",
      "state": {
       "description_width": ""
      }
     },
     "ac0b46a532c142189c00dd3359f6d926": {
      "model_module": "@jupyter-widgets/controls",
      "model_module_version": "1.5.0",
      "model_name": "ButtonModel",
      "state": {
       "description": "Run Interact",
       "layout": "IPY_MODEL_0764c20174304f3e9df4de4a9740120c",
       "style": "IPY_MODEL_3f46aa5b765141ed92a825ac31204f31"
      }
     },
     "ac9e9ba97f7b4504aa27ec13c58d86d5": {
      "model_module": "@jupyter-widgets/base",
      "model_module_version": "1.2.0",
      "model_name": "LayoutModel",
      "state": {}
     },
     "ad38166a4bbc4532adc419c462abe613": {
      "model_module": "@jupyter-widgets/base",
      "model_module_version": "1.2.0",
      "model_name": "LayoutModel",
      "state": {}
     },
     "ad66ab41138c4307b80b59febd707236": {
      "model_module": "@jupyter-widgets/controls",
      "model_module_version": "1.5.0",
      "model_name": "ProgressStyleModel",
      "state": {
       "description_width": ""
      }
     },
     "ae2910a0461b4c3981e9225276dea5c2": {
      "model_module": "@jupyter-widgets/controls",
      "model_module_version": "1.5.0",
      "model_name": "ProgressStyleModel",
      "state": {
       "description_width": ""
      }
     },
     "b12f0fe4f8064a78850358a93c47c3df": {
      "model_module": "@jupyter-widgets/controls",
      "model_module_version": "1.5.0",
      "model_name": "IntProgressModel",
      "state": {
       "description": "Processing: ",
       "layout": "IPY_MODEL_e71a462d184d4220a6db5d431f1e30fe",
       "max": 870,
       "style": "IPY_MODEL_eed46932d7754328953be4b63dabc209",
       "value": 870
      }
     },
     "b3b7e8dd4298442697da18f77b3df623": {
      "model_module": "@jupyter-widgets/base",
      "model_module_version": "1.2.0",
      "model_name": "LayoutModel",
      "state": {}
     },
     "b40622a8926e4b758efc5c2d4eb5a023": {
      "model_module": "@jupyter-widgets/controls",
      "model_module_version": "1.5.0",
      "model_name": "IntProgressModel",
      "state": {
       "description": "Processing: ",
       "layout": "IPY_MODEL_fa9507c53bc945c38aa156d272a76a16",
       "max": 4,
       "style": "IPY_MODEL_ad66ab41138c4307b80b59febd707236",
       "value": 4
      }
     },
     "b4d0cd19d38e4b5ca3c1387a033125fa": {
      "model_module": "@jupyter-widgets/controls",
      "model_module_version": "1.5.0",
      "model_name": "IntProgressModel",
      "state": {
       "description": "Processing: ",
       "layout": "IPY_MODEL_745fc4e908784fe492b489c290b04246",
       "max": 870,
       "style": "IPY_MODEL_161d3ee7408a4de3b183655f24ccb534",
       "value": 870
      }
     },
     "b59b355d0c0f4ba884effbba76f430bf": {
      "model_module": "@jupyter-widgets/controls",
      "model_module_version": "1.5.0",
      "model_name": "IntProgressModel",
      "state": {
       "description": "Processing: ",
       "layout": "IPY_MODEL_09875ed6ea6648dfaf28dd3ba9e100dd",
       "max": 870,
       "style": "IPY_MODEL_bed8fc24103f4a2195eab281246524c9",
       "value": 870
      }
     },
     "b5f457b1a3de46378621c4dada36ceab": {
      "model_module": "@jupyter-widgets/base",
      "model_module_version": "1.2.0",
      "model_name": "LayoutModel",
      "state": {}
     },
     "b5f64572a64b4acd92ff3f379a591cbf": {
      "model_module": "@jupyter-widgets/base",
      "model_module_version": "1.2.0",
      "model_name": "LayoutModel",
      "state": {}
     },
     "b60e569c302f4aed9a592d920bb1d704": {
      "model_module": "@jupyter-widgets/controls",
      "model_module_version": "1.5.0",
      "model_name": "DropdownModel",
      "state": {
       "_options_labels": [
        "Topic 0",
        "Topic 1",
        "Topic 2",
        "Topic 3"
       ],
       "description": "Topic #:",
       "index": 2,
       "layout": "IPY_MODEL_8b04a0dfd25a4ae8b9db2d90479cf22c",
       "style": "IPY_MODEL_98ec7b2109b443cd830023b2284e5337"
      }
     },
     "b759bbd0fe404138801ea7e21a5a11f5": {
      "model_module": "@jupyter-widgets/controls",
      "model_module_version": "1.5.0",
      "model_name": "IntProgressModel",
      "state": {
       "description": "Processing: ",
       "layout": "IPY_MODEL_84430717888d4c71a53354d53ab75469",
       "max": 4,
       "style": "IPY_MODEL_1cd42b32b75a46dcaeea4756c5638425",
       "value": 4
      }
     },
     "b7ee6a23727d4f128a27c5424cfa14bd": {
      "model_module": "@jupyter-widgets/controls",
      "model_module_version": "1.5.0",
      "model_name": "ToggleButtonsModel",
      "state": {
       "_options_labels": [
        "Frequency Plot",
        "Bigrams",
        "Trigrams",
        "Sentiment Polarity",
        "Word Cloud"
       ],
       "button_style": "",
       "description": "Plot Type:",
       "icons": [
        ""
       ],
       "index": 1,
       "layout": "IPY_MODEL_8003fd95dc824071acdbe35c3483e10b",
       "style": "IPY_MODEL_806b8881c83940ddbaa76483ffdc7f97",
       "tooltips": []
      }
     },
     "b97fc926337941f882e40c70b1f6d86a": {
      "model_module": "@jupyter-widgets/base",
      "model_module_version": "1.2.0",
      "model_name": "LayoutModel",
      "state": {}
     },
     "b9a0c6615ef04ac495bb438fa8117d0c": {
      "model_module": "@jupyter-widgets/controls",
      "model_module_version": "1.5.0",
      "model_name": "ProgressStyleModel",
      "state": {
       "description_width": ""
      }
     },
     "ba2240e1c94a478cb4a761e40d0958b0": {
      "model_module": "@jupyter-widgets/controls",
      "model_module_version": "1.5.0",
      "model_name": "ProgressStyleModel",
      "state": {
       "description_width": ""
      }
     },
     "bc73140e8d064bf7b2f2e0ab84454788": {
      "model_module": "@jupyter-widgets/base",
      "model_module_version": "1.2.0",
      "model_name": "LayoutModel",
      "state": {}
     },
     "be2a7d4439384344931597cb08b5d5d5": {
      "model_module": "@jupyter-widgets/controls",
      "model_module_version": "1.5.0",
      "model_name": "ProgressStyleModel",
      "state": {
       "description_width": ""
      }
     },
     "be2c764e2e784646825313c7e654e5ba": {
      "model_module": "@jupyter-widgets/base",
      "model_module_version": "1.2.0",
      "model_name": "LayoutModel",
      "state": {}
     },
     "bed8fc24103f4a2195eab281246524c9": {
      "model_module": "@jupyter-widgets/controls",
      "model_module_version": "1.5.0",
      "model_name": "ProgressStyleModel",
      "state": {
       "description_width": ""
      }
     },
     "bf25e802d4f34cbd8a1157570c911d56": {
      "model_module": "@jupyter-widgets/controls",
      "model_module_version": "1.5.0",
      "model_name": "ProgressStyleModel",
      "state": {
       "description_width": ""
      }
     },
     "bfc1b4483bbd4920bb9befdaad7be39d": {
      "model_module": "@jupyter-widgets/controls",
      "model_module_version": "1.5.0",
      "model_name": "IntProgressModel",
      "state": {
       "description": "Processing: ",
       "layout": "IPY_MODEL_ad38166a4bbc4532adc419c462abe613",
       "max": 11,
       "style": "IPY_MODEL_8f1efb22dc584147b5cfa796e614d5e4",
       "value": 11
      }
     },
     "c0742be887a24fa080baf6d23b1ebe30": {
      "model_module": "@jupyter-widgets/base",
      "model_module_version": "1.2.0",
      "model_name": "LayoutModel",
      "state": {}
     },
     "c19dd1e299d540e6b565a1ce24abb292": {
      "model_module": "@jupyter-widgets/base",
      "model_module_version": "1.2.0",
      "model_name": "LayoutModel",
      "state": {}
     },
     "c2ef8b2e41dc4f2cbb808cb0ed3203b4": {
      "model_module": "@jupyter-widgets/controls",
      "model_module_version": "1.5.0",
      "model_name": "IntProgressModel",
      "state": {
       "description": "Processing: ",
       "layout": "IPY_MODEL_7a1376c322984f3dba0280748cca767c",
       "max": 48,
       "style": "IPY_MODEL_a6d7d14e7d2743408312f61026036be1",
       "value": 48
      }
     },
     "c36c5f6e93d24320b9c334cd7da8e437": {
      "model_module": "@jupyter-widgets/controls",
      "model_module_version": "1.5.0",
      "model_name": "ProgressStyleModel",
      "state": {
       "description_width": ""
      }
     },
     "c40dc93f165442c495c677db4987a53b": {
      "model_module": "@jupyter-widgets/controls",
      "model_module_version": "1.5.0",
      "model_name": "ProgressStyleModel",
      "state": {
       "description_width": ""
      }
     },
     "c45c5a4d34b4456884f58bb925af73f9": {
      "model_module": "@jupyter-widgets/base",
      "model_module_version": "1.2.0",
      "model_name": "LayoutModel",
      "state": {}
     },
     "c63cc2709e25419ba3e5761d63e6fb55": {
      "model_module": "@jupyter-widgets/output",
      "model_module_version": "1.0.0",
      "model_name": "OutputModel",
      "state": {
       "layout": "IPY_MODEL_3b43b69302be48c1b7fe3f6c01b6050e"
      }
     },
     "c79e454527a64401b237c45c4231ec24": {
      "model_module": "@jupyter-widgets/controls",
      "model_module_version": "1.5.0",
      "model_name": "IntProgressModel",
      "state": {
       "description": "Processing: ",
       "layout": "IPY_MODEL_84fc731fdbef457a939c9ececba04239",
       "max": 4,
       "style": "IPY_MODEL_95f3e31f5349418db0ea0938aa4c8222",
       "value": 4
      }
     },
     "c7d2734dbf3f49eeaf3de24042d97c77": {
      "model_module": "@jupyter-widgets/controls",
      "model_module_version": "1.5.0",
      "model_name": "ProgressStyleModel",
      "state": {
       "description_width": ""
      }
     },
     "c8eb4149d7a842dba0f40facbad1d89f": {
      "model_module": "@jupyter-widgets/base",
      "model_module_version": "1.2.0",
      "model_name": "LayoutModel",
      "state": {}
     },
     "c91c721a80904f2684bd850d3c26168c": {
      "model_module": "@jupyter-widgets/controls",
      "model_module_version": "1.5.0",
      "model_name": "IntProgressModel",
      "state": {
       "description": "Processing: ",
       "layout": "IPY_MODEL_d16466eaa6694e2a993022747b22abc0",
       "max": 4,
       "style": "IPY_MODEL_f998f6135090423c9f6adcabdd644be7",
       "value": 4
      }
     },
     "c94240c41acb4685a37cdf7f48cfe378": {
      "model_module": "@jupyter-widgets/controls",
      "model_module_version": "1.5.0",
      "model_name": "ProgressStyleModel",
      "state": {
       "description_width": ""
      }
     },
     "c9fa692b3c754ae18c158343025e9403": {
      "model_module": "@jupyter-widgets/controls",
      "model_module_version": "1.5.0",
      "model_name": "IntProgressModel",
      "state": {
       "description": "Processing: ",
       "layout": "IPY_MODEL_b5f457b1a3de46378621c4dada36ceab",
       "max": 4,
       "style": "IPY_MODEL_3acab8a540094d4098b78789d04c32ee",
       "value": 4
      }
     },
     "caa659819c434f14a218de71ea5e9920": {
      "model_module": "@jupyter-widgets/controls",
      "model_module_version": "1.5.0",
      "model_name": "ProgressStyleModel",
      "state": {
       "description_width": ""
      }
     },
     "cd45fc8852c0463bbedf71ef72c5aba5": {
      "model_module": "@jupyter-widgets/controls",
      "model_module_version": "1.5.0",
      "model_name": "IntProgressModel",
      "state": {
       "description": "Processing: ",
       "layout": "IPY_MODEL_86672c973c42441ebc1b07345926a549",
       "max": 4,
       "style": "IPY_MODEL_e87fb1343ae74d24a185c6b74a6ad89a",
       "value": 4
      }
     },
     "cdf17ecba82143e5a3e9de5fecc3a1ff": {
      "model_module": "@jupyter-widgets/controls",
      "model_module_version": "1.5.0",
      "model_name": "ProgressStyleModel",
      "state": {
       "description_width": ""
      }
     },
     "cdf2b8f2e6f14919aa8e23a8a3a02d2f": {
      "model_module": "@jupyter-widgets/controls",
      "model_module_version": "1.5.0",
      "model_name": "IntProgressModel",
      "state": {
       "description": "Processing: ",
       "layout": "IPY_MODEL_c0742be887a24fa080baf6d23b1ebe30",
       "max": 870,
       "style": "IPY_MODEL_9faa55c9b02641e6abb0471247a2af53",
       "value": 870
      }
     },
     "cf112e01e4634908840880db4337a1b6": {
      "model_module": "@jupyter-widgets/controls",
      "model_module_version": "1.5.0",
      "model_name": "IntProgressModel",
      "state": {
       "description": "Processing: ",
       "layout": "IPY_MODEL_35edcc52f9ab42fe9998f1f225424eaf",
       "max": 4,
       "style": "IPY_MODEL_1710c717bd8445f3a5810ec5bd6f44cb",
       "value": 4
      }
     },
     "cf980fd03b41494883574b8be5f315d9": {
      "model_module": "@jupyter-widgets/controls",
      "model_module_version": "1.5.0",
      "model_name": "ProgressStyleModel",
      "state": {
       "description_width": ""
      }
     },
     "cfd6c3e72cf74c52a810a8e192033337": {
      "model_module": "@jupyter-widgets/base",
      "model_module_version": "1.2.0",
      "model_name": "LayoutModel",
      "state": {}
     },
     "d03d1c65475a46e7b028e243ac822384": {
      "model_module": "@jupyter-widgets/controls",
      "model_module_version": "1.5.0",
      "model_name": "DescriptionStyleModel",
      "state": {
       "description_width": ""
      }
     },
     "d1261151d6a241c2be4de1ba33f52b2a": {
      "model_module": "@jupyter-widgets/base",
      "model_module_version": "1.2.0",
      "model_name": "LayoutModel",
      "state": {}
     },
     "d16466eaa6694e2a993022747b22abc0": {
      "model_module": "@jupyter-widgets/base",
      "model_module_version": "1.2.0",
      "model_name": "LayoutModel",
      "state": {}
     },
     "d1fccbfe4ee44d3e966860acc4854a60": {
      "model_module": "@jupyter-widgets/controls",
      "model_module_version": "1.5.0",
      "model_name": "ProgressStyleModel",
      "state": {
       "description_width": ""
      }
     },
     "d2aabbfda6494143b42c40dc46625599": {
      "model_module": "@jupyter-widgets/base",
      "model_module_version": "1.2.0",
      "model_name": "LayoutModel",
      "state": {}
     },
     "d4aa91fdb15c4bbeb5e9be34d4e36a75": {
      "model_module": "@jupyter-widgets/controls",
      "model_module_version": "1.5.0",
      "model_name": "IntProgressModel",
      "state": {
       "description": "Processing: ",
       "layout": "IPY_MODEL_cfd6c3e72cf74c52a810a8e192033337",
       "max": 48,
       "style": "IPY_MODEL_26f02ce620224ea8a80f62d026ec1419",
       "value": 48
      }
     },
     "d63697bfc5fe40f1946b1f0fafd0982a": {
      "model_module": "@jupyter-widgets/base",
      "model_module_version": "1.2.0",
      "model_name": "LayoutModel",
      "state": {}
     },
     "d82d000f5f9c42d18dfac2c0111a3417": {
      "model_module": "@jupyter-widgets/controls",
      "model_module_version": "1.5.0",
      "model_name": "IntProgressModel",
      "state": {
       "description": "Processing: ",
       "layout": "IPY_MODEL_14e074f71fd342fca47034ca4a825b51",
       "max": 870,
       "style": "IPY_MODEL_9e372dc8d8dd4332b410424cc92f84c5",
       "value": 870
      }
     },
     "d98f2d36d1b84e52b93b739c11af5bba": {
      "model_module": "@jupyter-widgets/controls",
      "model_module_version": "1.5.0",
      "model_name": "IntProgressModel",
      "state": {
       "description": "Processing: ",
       "layout": "IPY_MODEL_fe7cffdc36954cb688f49536930c7e11",
       "max": 870,
       "style": "IPY_MODEL_fdd91b2e5fb84437a70dd6b50c6c9eee",
       "value": 870
      }
     },
     "dda1594c70a342a5b6b0748ea00dd659": {
      "model_module": "@jupyter-widgets/controls",
      "model_module_version": "1.5.0",
      "model_name": "ToggleButtonsModel",
      "state": {
       "_options_labels": [
        "Frequency Plot",
        "Bigrams",
        "Trigrams",
        "Sentiment Polarity",
        "Word Cloud"
       ],
       "button_style": "",
       "description": "Plot Type:",
       "icons": [
        ""
       ],
       "index": 0,
       "layout": "IPY_MODEL_3a8cd6d206e444258351efc0bcae2d1d",
       "style": "IPY_MODEL_704ea141a5074eaa83f67d44f98d2c0b",
       "tooltips": []
      }
     },
     "de9e45298c6146c192cd25d0f087722b": {
      "model_module": "@jupyter-widgets/controls",
      "model_module_version": "1.5.0",
      "model_name": "ProgressStyleModel",
      "state": {
       "description_width": ""
      }
     },
     "df6710eb9bd64e1399f6eb85417e19bc": {
      "model_module": "@jupyter-widgets/base",
      "model_module_version": "1.2.0",
      "model_name": "LayoutModel",
      "state": {}
     },
     "e08b19f5eb244d1db0b11de26a4f32c2": {
      "model_module": "@jupyter-widgets/base",
      "model_module_version": "1.2.0",
      "model_name": "LayoutModel",
      "state": {}
     },
     "e3cae36ab6d443e6bf117d901b58f5d5": {
      "model_module": "@jupyter-widgets/base",
      "model_module_version": "1.2.0",
      "model_name": "LayoutModel",
      "state": {}
     },
     "e5f43c05ab66450d9111641e6985360b": {
      "model_module": "@jupyter-widgets/base",
      "model_module_version": "1.2.0",
      "model_name": "LayoutModel",
      "state": {}
     },
     "e6faccfc6fd544afa2637f5003bf7d9a": {
      "model_module": "@jupyter-widgets/controls",
      "model_module_version": "1.5.0",
      "model_name": "ProgressStyleModel",
      "state": {
       "description_width": ""
      }
     },
     "e71a462d184d4220a6db5d431f1e30fe": {
      "model_module": "@jupyter-widgets/base",
      "model_module_version": "1.2.0",
      "model_name": "LayoutModel",
      "state": {}
     },
     "e7f5ce9ac4454dd59223feb29de9f4f0": {
      "model_module": "@jupyter-widgets/controls",
      "model_module_version": "1.5.0",
      "model_name": "ProgressStyleModel",
      "state": {
       "description_width": ""
      }
     },
     "e804e8b8e49742c7b794eb645e9cfbb7": {
      "model_module": "@jupyter-widgets/controls",
      "model_module_version": "1.5.0",
      "model_name": "ButtonStyleModel",
      "state": {}
     },
     "e87fb1343ae74d24a185c6b74a6ad89a": {
      "model_module": "@jupyter-widgets/controls",
      "model_module_version": "1.5.0",
      "model_name": "ProgressStyleModel",
      "state": {
       "description_width": ""
      }
     },
     "ea9cafbe17334322a6646de324d3464d": {
      "model_module": "@jupyter-widgets/controls",
      "model_module_version": "1.5.0",
      "model_name": "DropdownModel",
      "state": {
       "_options_labels": [
        "Topic 0",
        "Topic 1",
        "Topic 2",
        "Topic 3",
        "Topic 4",
        "Topic 5",
        "Topic 6",
        "Topic 7",
        "Topic 8",
        "Topic 9"
       ],
       "description": "Topic #:",
       "index": 0,
       "layout": "IPY_MODEL_423bc887d5c74b828758d8bde8648171",
       "style": "IPY_MODEL_011d55cba1d2424b9b3535f3f6304d6a"
      }
     },
     "ebc411cffcd441f08ebce6e23bb4561b": {
      "model_module": "@jupyter-widgets/controls",
      "model_module_version": "1.5.0",
      "model_name": "ProgressStyleModel",
      "state": {
       "description_width": ""
      }
     },
     "ec0a7fed5165484799f14f346a99efff": {
      "model_module": "@jupyter-widgets/controls",
      "model_module_version": "1.5.0",
      "model_name": "IntProgressModel",
      "state": {
       "description": "Processing: ",
       "layout": "IPY_MODEL_ac9e9ba97f7b4504aa27ec13c58d86d5",
       "max": 870,
       "style": "IPY_MODEL_5f1dad62fcbe45caac6444f661f27d10",
       "value": 870
      }
     },
     "ec27026dd7434ab3a8fd3300a6f6c0df": {
      "model_module": "@jupyter-widgets/base",
      "model_module_version": "1.2.0",
      "model_name": "LayoutModel",
      "state": {}
     },
     "ec2ee32df4b34e6d91cb958ada69ae44": {
      "model_module": "@jupyter-widgets/base",
      "model_module_version": "1.2.0",
      "model_name": "LayoutModel",
      "state": {}
     },
     "ed35519ca52f4fd795e8c6cce2a7e233": {
      "model_module": "@jupyter-widgets/controls",
      "model_module_version": "1.5.0",
      "model_name": "ProgressStyleModel",
      "state": {
       "description_width": ""
      }
     },
     "ed6c19d2b9dd4d0cb71431f7aa30934c": {
      "model_module": "@jupyter-widgets/controls",
      "model_module_version": "1.5.0",
      "model_name": "ButtonStyleModel",
      "state": {}
     },
     "edee030403c44930b0c7622bb17ca79e": {
      "model_module": "@jupyter-widgets/controls",
      "model_module_version": "1.5.0",
      "model_name": "IntProgressModel",
      "state": {
       "description": "Processing: ",
       "layout": "IPY_MODEL_125c99e83f704685bfb89f907ade2fa7",
       "max": 870,
       "style": "IPY_MODEL_62077375abdf48e28987780b10e7d2da",
       "value": 870
      }
     },
     "eed46932d7754328953be4b63dabc209": {
      "model_module": "@jupyter-widgets/controls",
      "model_module_version": "1.5.0",
      "model_name": "ProgressStyleModel",
      "state": {
       "description_width": ""
      }
     },
     "ef033c789c0a4cbfa0cd93802fe28e76": {
      "model_module": "@jupyter-widgets/controls",
      "model_module_version": "1.5.0",
      "model_name": "IntProgressModel",
      "state": {
       "description": "Processing: ",
       "layout": "IPY_MODEL_0373170d28414abead8ee7b1e80ca1e1",
       "max": 48,
       "style": "IPY_MODEL_abe072bd93824013b97f90ef499fb6da",
       "value": 48
      }
     },
     "ef3e23835aa14ee99e95326fc0ca375f": {
      "model_module": "@jupyter-widgets/controls",
      "model_module_version": "1.5.0",
      "model_name": "ProgressStyleModel",
      "state": {
       "description_width": ""
      }
     },
     "ef40aec45187478aa8cae74cea8a52c7": {
      "model_module": "@jupyter-widgets/controls",
      "model_module_version": "1.5.0",
      "model_name": "IntProgressModel",
      "state": {
       "description": "Processing: ",
       "layout": "IPY_MODEL_66a25303bbe84b82b97f0a28a1667233",
       "max": 4,
       "style": "IPY_MODEL_de9e45298c6146c192cd25d0f087722b",
       "value": 4
      }
     },
     "ef7bc8a5ff5a4641b8b745d7b49cb773": {
      "model_module": "@jupyter-widgets/output",
      "model_module_version": "1.0.0",
      "model_name": "OutputModel",
      "state": {
       "layout": "IPY_MODEL_c8eb4149d7a842dba0f40facbad1d89f",
       "outputs": [
        {
         "data": {
          "text/html": "        <script type=\"text/javascript\">\n        window.PlotlyConfig = {MathJaxConfig: 'local'};\n        if (window.MathJax) {MathJax.Hub.Config({SVG: {font: \"STIX-Web\"}});}\n        if (typeof require !== 'undefined') {\n        require.undef(\"plotly\");\n        requirejs.config({\n            paths: {\n                'plotly': ['https://cdn.plot.ly/plotly-latest.min']\n            }\n        });\n        require(['plotly'], function(Plotly) {\n            window._Plotly = Plotly;\n        });\n        }\n        </script>\n        "
         },
         "metadata": {},
         "output_type": "display_data"
        },
        {
         "ename": "SystemExit",
         "evalue": "(Value Error): Invalid topic_num param or empty Vocab. Try changing Topic Number.",
         "output_type": "error",
         "traceback": [
          "\u001b[1;31m---------------------------------------------------------------------------\u001b[0m",
          "\u001b[1;31mValueError\u001b[0m                                Traceback (most recent call last)",
          "\u001b[1;32m~\\AppData\\Roaming\\Python\\Python37\\site-packages\\pycaret\\nlp.py\u001b[0m in \u001b[0;36mplot_model\u001b[1;34m(model, plot, topic_num, save, system)\u001b[0m\n\u001b[0;32m   1838\u001b[0m                 \u001b[0mfiltered_df\u001b[0m \u001b[1;33m=\u001b[0m \u001b[0massigned_df\u001b[0m\u001b[1;33m.\u001b[0m\u001b[0mloc\u001b[0m\u001b[1;33m[\u001b[0m\u001b[0massigned_df\u001b[0m\u001b[1;33m[\u001b[0m\u001b[1;34m'Dominant_Topic'\u001b[0m\u001b[1;33m]\u001b[0m \u001b[1;33m==\u001b[0m \u001b[0mtopic_num\u001b[0m\u001b[1;33m]\u001b[0m\u001b[1;33m\u001b[0m\u001b[1;33m\u001b[0m\u001b[0m\n\u001b[1;32m-> 1839\u001b[1;33m                 \u001b[0mcommon_words\u001b[0m \u001b[1;33m=\u001b[0m \u001b[0mget_top_n_words\u001b[0m\u001b[1;33m(\u001b[0m\u001b[0mfiltered_df\u001b[0m\u001b[1;33m[\u001b[0m\u001b[0mtarget_\u001b[0m\u001b[1;33m]\u001b[0m\u001b[1;33m,\u001b[0m \u001b[0mn\u001b[0m\u001b[1;33m=\u001b[0m\u001b[1;36m100\u001b[0m\u001b[1;33m)\u001b[0m\u001b[1;33m\u001b[0m\u001b[1;33m\u001b[0m\u001b[0m\n\u001b[0m\u001b[0;32m   1840\u001b[0m                 \u001b[0mdf2\u001b[0m \u001b[1;33m=\u001b[0m \u001b[0mpd\u001b[0m\u001b[1;33m.\u001b[0m\u001b[0mDataFrame\u001b[0m\u001b[1;33m(\u001b[0m\u001b[0mcommon_words\u001b[0m\u001b[1;33m,\u001b[0m \u001b[0mcolumns\u001b[0m \u001b[1;33m=\u001b[0m \u001b[1;33m[\u001b[0m\u001b[1;34m'Text'\u001b[0m \u001b[1;33m,\u001b[0m \u001b[1;34m'count'\u001b[0m\u001b[1;33m]\u001b[0m\u001b[1;33m)\u001b[0m\u001b[1;33m\u001b[0m\u001b[1;33m\u001b[0m\u001b[0m\n",
          "\u001b[1;32m~\\AppData\\Roaming\\Python\\Python37\\site-packages\\pycaret\\nlp.py\u001b[0m in \u001b[0;36mget_top_n_words\u001b[1;34m(corpus, n)\u001b[0m\n\u001b[0;32m   1816\u001b[0m                 \u001b[0mlogger\u001b[0m\u001b[1;33m.\u001b[0m\u001b[0minfo\u001b[0m\u001b[1;33m(\u001b[0m\u001b[1;34m\"Fitting CountVectorizer()\"\u001b[0m\u001b[1;33m)\u001b[0m\u001b[1;33m\u001b[0m\u001b[1;33m\u001b[0m\u001b[0m\n\u001b[1;32m-> 1817\u001b[1;33m                 \u001b[0mbag_of_words\u001b[0m \u001b[1;33m=\u001b[0m \u001b[0mvec\u001b[0m\u001b[1;33m.\u001b[0m\u001b[0mfit_transform\u001b[0m\u001b[1;33m(\u001b[0m\u001b[0mcorpus\u001b[0m\u001b[1;33m)\u001b[0m\u001b[1;33m\u001b[0m\u001b[1;33m\u001b[0m\u001b[0m\n\u001b[0m\u001b[0;32m   1818\u001b[0m                 \u001b[0msum_words\u001b[0m \u001b[1;33m=\u001b[0m \u001b[0mbag_of_words\u001b[0m\u001b[1;33m.\u001b[0m\u001b[0msum\u001b[0m\u001b[1;33m(\u001b[0m\u001b[0maxis\u001b[0m\u001b[1;33m=\u001b[0m\u001b[1;36m0\u001b[0m\u001b[1;33m)\u001b[0m\u001b[1;33m\u001b[0m\u001b[1;33m\u001b[0m\u001b[0m\n",
          "\u001b[1;32m~\\Anaconda3\\lib\\site-packages\\sklearn\\feature_extraction\\text.py\u001b[0m in \u001b[0;36mfit_transform\u001b[1;34m(self, raw_documents, y)\u001b[0m\n\u001b[0;32m   1198\u001b[0m         vocabulary, X = self._count_vocab(raw_documents,\n\u001b[1;32m-> 1199\u001b[1;33m                                           self.fixed_vocabulary_)\n\u001b[0m\u001b[0;32m   1200\u001b[0m \u001b[1;33m\u001b[0m\u001b[0m\n",
          "\u001b[1;32m~\\Anaconda3\\lib\\site-packages\\sklearn\\feature_extraction\\text.py\u001b[0m in \u001b[0;36m_count_vocab\u001b[1;34m(self, raw_documents, fixed_vocab)\u001b[0m\n\u001b[0;32m   1128\u001b[0m             \u001b[1;32mif\u001b[0m \u001b[1;32mnot\u001b[0m \u001b[0mvocabulary\u001b[0m\u001b[1;33m:\u001b[0m\u001b[1;33m\u001b[0m\u001b[1;33m\u001b[0m\u001b[0m\n\u001b[1;32m-> 1129\u001b[1;33m                 raise ValueError(\"empty vocabulary; perhaps the documents only\"\n\u001b[0m\u001b[0;32m   1130\u001b[0m                                  \" contain stop words\")\n",
          "\u001b[1;31mValueError\u001b[0m: empty vocabulary; perhaps the documents only contain stop words",
          "\nDuring handling of the above exception, another exception occurred:\n",
          "\u001b[1;31mSystemExit\u001b[0m                                Traceback (most recent call last)",
          "\u001b[1;32m~\\Anaconda3\\lib\\site-packages\\ipywidgets\\widgets\\interaction.py\u001b[0m in \u001b[0;36mupdate\u001b[1;34m(self, *args)\u001b[0m\n\u001b[0;32m    254\u001b[0m                     \u001b[0mvalue\u001b[0m \u001b[1;33m=\u001b[0m \u001b[0mwidget\u001b[0m\u001b[1;33m.\u001b[0m\u001b[0mget_interact_value\u001b[0m\u001b[1;33m(\u001b[0m\u001b[1;33m)\u001b[0m\u001b[1;33m\u001b[0m\u001b[1;33m\u001b[0m\u001b[0m\n\u001b[0;32m    255\u001b[0m                     \u001b[0mself\u001b[0m\u001b[1;33m.\u001b[0m\u001b[0mkwargs\u001b[0m\u001b[1;33m[\u001b[0m\u001b[0mwidget\u001b[0m\u001b[1;33m.\u001b[0m\u001b[0m_kwarg\u001b[0m\u001b[1;33m]\u001b[0m \u001b[1;33m=\u001b[0m \u001b[0mvalue\u001b[0m\u001b[1;33m\u001b[0m\u001b[1;33m\u001b[0m\u001b[0m\n\u001b[1;32m--> 256\u001b[1;33m                 \u001b[0mself\u001b[0m\u001b[1;33m.\u001b[0m\u001b[0mresult\u001b[0m \u001b[1;33m=\u001b[0m \u001b[0mself\u001b[0m\u001b[1;33m.\u001b[0m\u001b[0mf\u001b[0m\u001b[1;33m(\u001b[0m\u001b[1;33m**\u001b[0m\u001b[0mself\u001b[0m\u001b[1;33m.\u001b[0m\u001b[0mkwargs\u001b[0m\u001b[1;33m)\u001b[0m\u001b[1;33m\u001b[0m\u001b[1;33m\u001b[0m\u001b[0m\n\u001b[0m\u001b[0;32m    257\u001b[0m                 \u001b[0mshow_inline_matplotlib_plots\u001b[0m\u001b[1;33m(\u001b[0m\u001b[1;33m)\u001b[0m\u001b[1;33m\u001b[0m\u001b[1;33m\u001b[0m\u001b[0m\n\u001b[0;32m    258\u001b[0m                 \u001b[1;32mif\u001b[0m \u001b[0mself\u001b[0m\u001b[1;33m.\u001b[0m\u001b[0mauto_display\u001b[0m \u001b[1;32mand\u001b[0m \u001b[0mself\u001b[0m\u001b[1;33m.\u001b[0m\u001b[0mresult\u001b[0m \u001b[1;32mis\u001b[0m \u001b[1;32mnot\u001b[0m \u001b[1;32mNone\u001b[0m\u001b[1;33m:\u001b[0m\u001b[1;33m\u001b[0m\u001b[1;33m\u001b[0m\u001b[0m\n",
          "\u001b[1;32m~\\AppData\\Roaming\\Python\\Python37\\site-packages\\pycaret\\nlp.py\u001b[0m in \u001b[0;36mplot_model\u001b[1;34m(model, plot, topic_num, save, system)\u001b[0m\n\u001b[0;32m   1850\u001b[0m         \u001b[1;32mexcept\u001b[0m\u001b[1;33m:\u001b[0m\u001b[1;33m\u001b[0m\u001b[1;33m\u001b[0m\u001b[0m\n\u001b[0;32m   1851\u001b[0m             \u001b[0mlogger\u001b[0m\u001b[1;33m.\u001b[0m\u001b[0mwarning\u001b[0m\u001b[1;33m(\u001b[0m\u001b[1;34m\"Invalid topic_num param or empty Vocab. Try changing Topic Number.\"\u001b[0m\u001b[1;33m)\u001b[0m\u001b[1;33m\u001b[0m\u001b[1;33m\u001b[0m\u001b[0m\n\u001b[1;32m-> 1852\u001b[1;33m             \u001b[0msys\u001b[0m\u001b[1;33m.\u001b[0m\u001b[0mexit\u001b[0m\u001b[1;33m(\u001b[0m\u001b[1;34m'(Value Error): Invalid topic_num param or empty Vocab. Try changing Topic Number.'\u001b[0m\u001b[1;33m)\u001b[0m\u001b[1;33m\u001b[0m\u001b[1;33m\u001b[0m\u001b[0m\n\u001b[0m\u001b[0;32m   1853\u001b[0m \u001b[1;33m\u001b[0m\u001b[0m\n\u001b[0;32m   1854\u001b[0m \u001b[1;33m\u001b[0m\u001b[0m\n",
          "\u001b[1;31mSystemExit\u001b[0m: (Value Error): Invalid topic_num param or empty Vocab. Try changing Topic Number."
         ]
        }
       ]
      }
     },
     "f0aa0b72c5d34fd6b0fdec52b7bc6792": {
      "model_module": "@jupyter-widgets/controls",
      "model_module_version": "1.5.0",
      "model_name": "ToggleButtonsModel",
      "state": {
       "_options_labels": [
        "Frequency Plot",
        "Bigrams",
        "Trigrams",
        "Sentiment Polarity",
        "Word Cloud"
       ],
       "button_style": "",
       "description": "Plot Type:",
       "icons": [
        ""
       ],
       "index": 1,
       "layout": "IPY_MODEL_b5f64572a64b4acd92ff3f379a591cbf",
       "style": "IPY_MODEL_5b6b8326f0a5417d876abb0002f1a002",
       "tooltips": []
      }
     },
     "f18573d6c3f34538a9334ae261aa7425": {
      "model_module": "@jupyter-widgets/controls",
      "model_module_version": "1.5.0",
      "model_name": "IntProgressModel",
      "state": {
       "description": "Processing: ",
       "layout": "IPY_MODEL_80183cf5fe844d7083166c3250f3fcaa",
       "max": 48,
       "style": "IPY_MODEL_5bcb2f51df654e0f8523e33e88d2609f",
       "value": 48
      }
     },
     "f27b48ee4d564e7b961c6cd5cb814990": {
      "model_module": "@jupyter-widgets/controls",
      "model_module_version": "1.5.0",
      "model_name": "IntProgressModel",
      "state": {
       "description": "Processing: ",
       "layout": "IPY_MODEL_57cac375ec6d4fd3b96900dc60fef2aa",
       "max": 48,
       "style": "IPY_MODEL_923076edcc1f4dd1ae098ee1879c5ad2",
       "value": 48
      }
     },
     "f471eca31f6e48c1bd81b6d2d26b8b72": {
      "model_module": "@jupyter-widgets/base",
      "model_module_version": "1.2.0",
      "model_name": "LayoutModel",
      "state": {}
     },
     "f90aba366131435b94408fae809d8109": {
      "model_module": "@jupyter-widgets/base",
      "model_module_version": "1.2.0",
      "model_name": "LayoutModel",
      "state": {}
     },
     "f998f6135090423c9f6adcabdd644be7": {
      "model_module": "@jupyter-widgets/controls",
      "model_module_version": "1.5.0",
      "model_name": "ProgressStyleModel",
      "state": {
       "description_width": ""
      }
     },
     "f99bff09f5564cecb7aac86ee3ba30f0": {
      "model_module": "@jupyter-widgets/base",
      "model_module_version": "1.2.0",
      "model_name": "LayoutModel",
      "state": {}
     },
     "f9a5a98739fa4ba6a81df3a08ed82c5a": {
      "model_module": "@jupyter-widgets/controls",
      "model_module_version": "1.5.0",
      "model_name": "ButtonStyleModel",
      "state": {}
     },
     "fa30d12576524391bd1a84daf0e5e3e2": {
      "model_module": "@jupyter-widgets/controls",
      "model_module_version": "1.5.0",
      "model_name": "DescriptionStyleModel",
      "state": {
       "description_width": ""
      }
     },
     "fa9507c53bc945c38aa156d272a76a16": {
      "model_module": "@jupyter-widgets/base",
      "model_module_version": "1.2.0",
      "model_name": "LayoutModel",
      "state": {}
     },
     "fae045083bb24cc5b7d9651f5abf55fd": {
      "model_module": "@jupyter-widgets/base",
      "model_module_version": "1.2.0",
      "model_name": "LayoutModel",
      "state": {}
     },
     "fbc08f74a0834df1ac913e55ca9f491b": {
      "model_module": "@jupyter-widgets/output",
      "model_module_version": "1.0.0",
      "model_name": "OutputModel",
      "state": {
       "layout": "IPY_MODEL_d63697bfc5fe40f1946b1f0fafd0982a"
      }
     },
     "fdc6a6ef75b44c73a1349f2dd0d7348a": {
      "model_module": "@jupyter-widgets/controls",
      "model_module_version": "1.5.0",
      "model_name": "ProgressStyleModel",
      "state": {
       "description_width": ""
      }
     },
     "fdd91b2e5fb84437a70dd6b50c6c9eee": {
      "model_module": "@jupyter-widgets/controls",
      "model_module_version": "1.5.0",
      "model_name": "ProgressStyleModel",
      "state": {
       "description_width": ""
      }
     },
     "fe7cffdc36954cb688f49536930c7e11": {
      "model_module": "@jupyter-widgets/base",
      "model_module_version": "1.2.0",
      "model_name": "LayoutModel",
      "state": {}
     }
    },
    "version_major": 2,
    "version_minor": 0
   }
  }
 },
 "nbformat": 4,
 "nbformat_minor": 2
}
