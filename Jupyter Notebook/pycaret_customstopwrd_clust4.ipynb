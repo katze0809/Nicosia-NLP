{
 "cells": [
  {
   "cell_type": "code",
   "execution_count": 1,
   "metadata": {},
   "outputs": [],
   "source": [
    "import pandas as pd\n",
    "import glob"
   ]
  },
  {
   "cell_type": "markdown",
   "metadata": {},
   "source": [
    "# Positive Reviews"
   ]
  },
  {
   "cell_type": "code",
   "execution_count": 2,
   "metadata": {
    "scrolled": false
   },
   "outputs": [
    {
     "data": {
      "text/html": [
       "<div>\n",
       "<style scoped>\n",
       "    .dataframe tbody tr th:only-of-type {\n",
       "        vertical-align: middle;\n",
       "    }\n",
       "\n",
       "    .dataframe tbody tr th {\n",
       "        vertical-align: top;\n",
       "    }\n",
       "\n",
       "    .dataframe thead th {\n",
       "        text-align: right;\n",
       "    }\n",
       "</style>\n",
       "<table border=\"1\" class=\"dataframe\">\n",
       "  <thead>\n",
       "    <tr style=\"text-align: right;\">\n",
       "      <th></th>\n",
       "      <th>Unnamed: 0</th>\n",
       "      <th>r_points</th>\n",
       "      <th>r_text</th>\n",
       "      <th>place</th>\n",
       "      <th>Unnamed: 3</th>\n",
       "      <th>Unnamed: 4</th>\n",
       "      <th>Unnamed: 5</th>\n",
       "      <th>Unnamed: 6</th>\n",
       "      <th>scores</th>\n",
       "      <th>compound</th>\n",
       "      <th>score</th>\n",
       "    </tr>\n",
       "  </thead>\n",
       "  <tbody>\n",
       "    <tr>\n",
       "      <th>0</th>\n",
       "      <td>0</td>\n",
       "      <td>30</td>\n",
       "      <td>I don't know what's so elegant about this plac...</td>\n",
       "      <td>Evohia</td>\n",
       "      <td>NaN</td>\n",
       "      <td>NaN</td>\n",
       "      <td>NaN</td>\n",
       "      <td>NaN</td>\n",
       "      <td>{'neg': 0.12, 'neu': 0.661, 'pos': 0.219, 'com...</td>\n",
       "      <td>0.4105</td>\n",
       "      <td>pos</td>\n",
       "    </tr>\n",
       "    <tr>\n",
       "      <th>1</th>\n",
       "      <td>1</td>\n",
       "      <td>40</td>\n",
       "      <td>Over the years, this place doesn't change. It ...</td>\n",
       "      <td>Evohia</td>\n",
       "      <td>NaN</td>\n",
       "      <td>NaN</td>\n",
       "      <td>NaN</td>\n",
       "      <td>NaN</td>\n",
       "      <td>{'neg': 0.045, 'neu': 0.815, 'pos': 0.14, 'com...</td>\n",
       "      <td>0.9843</td>\n",
       "      <td>pos</td>\n",
       "    </tr>\n",
       "    <tr>\n",
       "      <th>2</th>\n",
       "      <td>2</td>\n",
       "      <td>50</td>\n",
       "      <td>Close to center a very friendly place with a m...</td>\n",
       "      <td>Evohia</td>\n",
       "      <td>NaN</td>\n",
       "      <td>NaN</td>\n",
       "      <td>NaN</td>\n",
       "      <td>NaN</td>\n",
       "      <td>{'neg': 0.0, 'neu': 0.69, 'pos': 0.31, 'compou...</td>\n",
       "      <td>0.8016</td>\n",
       "      <td>pos</td>\n",
       "    </tr>\n",
       "    <tr>\n",
       "      <th>3</th>\n",
       "      <td>4</td>\n",
       "      <td>50</td>\n",
       "      <td>Very good buffet and friendly staff. Offers he...</td>\n",
       "      <td>Evohia</td>\n",
       "      <td>NaN</td>\n",
       "      <td>NaN</td>\n",
       "      <td>NaN</td>\n",
       "      <td>NaN</td>\n",
       "      <td>{'neg': 0.0, 'neu': 0.607, 'pos': 0.393, 'comp...</td>\n",
       "      <td>0.8748</td>\n",
       "      <td>pos</td>\n",
       "    </tr>\n",
       "    <tr>\n",
       "      <th>4</th>\n",
       "      <td>5</td>\n",
       "      <td>50</td>\n",
       "      <td>Thanks for the tasty food out of the buffet. Y...</td>\n",
       "      <td>Evohia</td>\n",
       "      <td>NaN</td>\n",
       "      <td>NaN</td>\n",
       "      <td>NaN</td>\n",
       "      <td>NaN</td>\n",
       "      <td>{'neg': 0.0, 'neu': 0.676, 'pos': 0.324, 'comp...</td>\n",
       "      <td>0.9822</td>\n",
       "      <td>pos</td>\n",
       "    </tr>\n",
       "    <tr>\n",
       "      <th>...</th>\n",
       "      <td>...</td>\n",
       "      <td>...</td>\n",
       "      <td>...</td>\n",
       "      <td>...</td>\n",
       "      <td>...</td>\n",
       "      <td>...</td>\n",
       "      <td>...</td>\n",
       "      <td>...</td>\n",
       "      <td>...</td>\n",
       "      <td>...</td>\n",
       "      <td>...</td>\n",
       "    </tr>\n",
       "    <tr>\n",
       "      <th>860</th>\n",
       "      <td>902</td>\n",
       "      <td>50</td>\n",
       "      <td>Very comfortable; Very Clean; Very Friendly an...</td>\n",
       "      <td>The Landmark Nicosia</td>\n",
       "      <td>Review 923 Similarity</td>\n",
       "      <td>0.111803</td>\n",
       "      <td>Review 784 Similarity</td>\n",
       "      <td>0.0</td>\n",
       "      <td>{'neg': 0.053, 'neu': 0.692, 'pos': 0.255, 'co...</td>\n",
       "      <td>0.9432</td>\n",
       "      <td>pos</td>\n",
       "    </tr>\n",
       "    <tr>\n",
       "      <th>861</th>\n",
       "      <td>903</td>\n",
       "      <td>50</td>\n",
       "      <td>I had one of the best experience at Hilton Cyp...</td>\n",
       "      <td>The Landmark Nicosia</td>\n",
       "      <td>Review 678 Similarity</td>\n",
       "      <td>0.042258</td>\n",
       "      <td>Review 804 Similarity</td>\n",
       "      <td>0.0</td>\n",
       "      <td>{'neg': 0.0, 'neu': 0.813, 'pos': 0.187, 'comp...</td>\n",
       "      <td>0.9617</td>\n",
       "      <td>pos</td>\n",
       "    </tr>\n",
       "    <tr>\n",
       "      <th>862</th>\n",
       "      <td>904</td>\n",
       "      <td>50</td>\n",
       "      <td>I was visiting for work and staying at Hilton ...</td>\n",
       "      <td>The Landmark Nicosia</td>\n",
       "      <td>Review 120 Similarity</td>\n",
       "      <td>0.000000</td>\n",
       "      <td>Review 812 Similarity</td>\n",
       "      <td>0.0</td>\n",
       "      <td>{'neg': 0.0, 'neu': 0.692, 'pos': 0.308, 'comp...</td>\n",
       "      <td>0.9001</td>\n",
       "      <td>pos</td>\n",
       "    </tr>\n",
       "    <tr>\n",
       "      <th>863</th>\n",
       "      <td>906</td>\n",
       "      <td>50</td>\n",
       "      <td>Hilton Cyprus is unique, as it has the most wa...</td>\n",
       "      <td>The Landmark Nicosia</td>\n",
       "      <td>Review 616 Similarity</td>\n",
       "      <td>0.000000</td>\n",
       "      <td>Review 818 Similarity</td>\n",
       "      <td>0.0</td>\n",
       "      <td>{'neg': 0.02, 'neu': 0.775, 'pos': 0.205, 'com...</td>\n",
       "      <td>0.9147</td>\n",
       "      <td>pos</td>\n",
       "    </tr>\n",
       "    <tr>\n",
       "      <th>864</th>\n",
       "      <td>907</td>\n",
       "      <td>40</td>\n",
       "      <td>It is actually the best thing you can find in ...</td>\n",
       "      <td>The Landmark Nicosia</td>\n",
       "      <td>Review 893 Similarity</td>\n",
       "      <td>0.000000</td>\n",
       "      <td>Review 823 Similarity</td>\n",
       "      <td>0.0</td>\n",
       "      <td>{'neg': 0.036, 'neu': 0.916, 'pos': 0.049, 'co...</td>\n",
       "      <td>0.1779</td>\n",
       "      <td>pos</td>\n",
       "    </tr>\n",
       "  </tbody>\n",
       "</table>\n",
       "<p>865 rows × 11 columns</p>\n",
       "</div>"
      ],
      "text/plain": [
       "     Unnamed: 0  r_points                                             r_text  \\\n",
       "0             0        30  I don't know what's so elegant about this plac...   \n",
       "1             1        40  Over the years, this place doesn't change. It ...   \n",
       "2             2        50  Close to center a very friendly place with a m...   \n",
       "3             4        50  Very good buffet and friendly staff. Offers he...   \n",
       "4             5        50  Thanks for the tasty food out of the buffet. Y...   \n",
       "..          ...       ...                                                ...   \n",
       "860         902        50  Very comfortable; Very Clean; Very Friendly an...   \n",
       "861         903        50  I had one of the best experience at Hilton Cyp...   \n",
       "862         904        50  I was visiting for work and staying at Hilton ...   \n",
       "863         906        50  Hilton Cyprus is unique, as it has the most wa...   \n",
       "864         907        40  It is actually the best thing you can find in ...   \n",
       "\n",
       "                    place             Unnamed: 3  Unnamed: 4  \\\n",
       "0                  Evohia                    NaN         NaN   \n",
       "1                  Evohia                    NaN         NaN   \n",
       "2                  Evohia                    NaN         NaN   \n",
       "3                  Evohia                    NaN         NaN   \n",
       "4                  Evohia                    NaN         NaN   \n",
       "..                    ...                    ...         ...   \n",
       "860  The Landmark Nicosia  Review 923 Similarity    0.111803   \n",
       "861  The Landmark Nicosia  Review 678 Similarity    0.042258   \n",
       "862  The Landmark Nicosia  Review 120 Similarity    0.000000   \n",
       "863  The Landmark Nicosia  Review 616 Similarity    0.000000   \n",
       "864  The Landmark Nicosia  Review 893 Similarity    0.000000   \n",
       "\n",
       "                Unnamed: 5  Unnamed: 6  \\\n",
       "0                      NaN         NaN   \n",
       "1                      NaN         NaN   \n",
       "2                      NaN         NaN   \n",
       "3                      NaN         NaN   \n",
       "4                      NaN         NaN   \n",
       "..                     ...         ...   \n",
       "860  Review 784 Similarity         0.0   \n",
       "861  Review 804 Similarity         0.0   \n",
       "862  Review 812 Similarity         0.0   \n",
       "863  Review 818 Similarity         0.0   \n",
       "864  Review 823 Similarity         0.0   \n",
       "\n",
       "                                                scores  compound score  \n",
       "0    {'neg': 0.12, 'neu': 0.661, 'pos': 0.219, 'com...    0.4105   pos  \n",
       "1    {'neg': 0.045, 'neu': 0.815, 'pos': 0.14, 'com...    0.9843   pos  \n",
       "2    {'neg': 0.0, 'neu': 0.69, 'pos': 0.31, 'compou...    0.8016   pos  \n",
       "3    {'neg': 0.0, 'neu': 0.607, 'pos': 0.393, 'comp...    0.8748   pos  \n",
       "4    {'neg': 0.0, 'neu': 0.676, 'pos': 0.324, 'comp...    0.9822   pos  \n",
       "..                                                 ...       ...   ...  \n",
       "860  {'neg': 0.053, 'neu': 0.692, 'pos': 0.255, 'co...    0.9432   pos  \n",
       "861  {'neg': 0.0, 'neu': 0.813, 'pos': 0.187, 'comp...    0.9617   pos  \n",
       "862  {'neg': 0.0, 'neu': 0.692, 'pos': 0.308, 'comp...    0.9001   pos  \n",
       "863  {'neg': 0.02, 'neu': 0.775, 'pos': 0.205, 'com...    0.9147   pos  \n",
       "864  {'neg': 0.036, 'neu': 0.916, 'pos': 0.049, 'co...    0.1779   pos  \n",
       "\n",
       "[865 rows x 11 columns]"
      ]
     },
     "execution_count": 2,
     "metadata": {},
     "output_type": "execute_result"
    }
   ],
   "source": [
    "pos_review = pd.read_csv(r'C:\\Users\\Dell\\Desktop\\sentiment_cluster4_pos.csv')\n",
    "pos_review"
   ]
  },
  {
   "cell_type": "code",
   "execution_count": 3,
   "metadata": {},
   "outputs": [],
   "source": [
    "from pycaret.nlp import *"
   ]
  },
  {
   "cell_type": "code",
   "execution_count": 4,
   "metadata": {},
   "outputs": [
    {
     "data": {
      "text/html": [
       "<style  type=\"text/css\" >\n",
       "</style><table id=\"T_33e431ca_31a2_11eb_ba8b_c48e8ff9d2e0\" ><thead>    <tr>        <th class=\"col_heading level0 col0\" >Description</th>        <th class=\"col_heading level0 col1\" >Value</th>    </tr></thead><tbody>\n",
       "                <tr>\n",
       "                                <td id=\"T_33e431ca_31a2_11eb_ba8b_c48e8ff9d2e0row0_col0\" class=\"data row0 col0\" >session_id</td>\n",
       "                        <td id=\"T_33e431ca_31a2_11eb_ba8b_c48e8ff9d2e0row0_col1\" class=\"data row0 col1\" >7760</td>\n",
       "            </tr>\n",
       "            <tr>\n",
       "                                <td id=\"T_33e431ca_31a2_11eb_ba8b_c48e8ff9d2e0row1_col0\" class=\"data row1 col0\" >Documents</td>\n",
       "                        <td id=\"T_33e431ca_31a2_11eb_ba8b_c48e8ff9d2e0row1_col1\" class=\"data row1 col1\" >865</td>\n",
       "            </tr>\n",
       "            <tr>\n",
       "                                <td id=\"T_33e431ca_31a2_11eb_ba8b_c48e8ff9d2e0row2_col0\" class=\"data row2 col0\" >Vocab Size</td>\n",
       "                        <td id=\"T_33e431ca_31a2_11eb_ba8b_c48e8ff9d2e0row2_col1\" class=\"data row2 col1\" >3319</td>\n",
       "            </tr>\n",
       "            <tr>\n",
       "                                <td id=\"T_33e431ca_31a2_11eb_ba8b_c48e8ff9d2e0row3_col0\" class=\"data row3 col0\" >Custom Stopwords</td>\n",
       "                        <td id=\"T_33e431ca_31a2_11eb_ba8b_c48e8ff9d2e0row3_col1\" class=\"data row3 col1\" >True</td>\n",
       "            </tr>\n",
       "    </tbody></table>"
      ],
      "text/plain": [
       "<pandas.io.formats.style.Styler at 0x2512dd6cf08>"
      ]
     },
     "metadata": {},
     "output_type": "display_data"
    }
   ],
   "source": [
    "exp_nlp = setup(data = pos_review, target = 'r_text',\n",
    "                custom_stopwords = [ 'hotel', 'room', 'nice', 'good', 'restaurant', 'food'])"
   ]
  },
  {
   "cell_type": "code",
   "execution_count": 5,
   "metadata": {},
   "outputs": [
    {
     "name": "stdout",
     "output_type": "stream",
     "text": [
      "LdaModel(num_terms=3319, num_topics=4, decay=0.5, chunksize=100)\n"
     ]
    }
   ],
   "source": [
    "#create an LDA model\n",
    "lda_pos_custom = create_model('lda')\n",
    "print(lda_pos_custom)"
   ]
  },
  {
   "cell_type": "code",
   "execution_count": 6,
   "metadata": {},
   "outputs": [],
   "source": [
    "apply_lda_pos = assign_model(lda_pos_custom)"
   ]
  },
  {
   "cell_type": "code",
   "execution_count": 7,
   "metadata": {},
   "outputs": [
    {
     "data": {
      "text/html": [
       "<div>\n",
       "<style scoped>\n",
       "    .dataframe tbody tr th:only-of-type {\n",
       "        vertical-align: middle;\n",
       "    }\n",
       "\n",
       "    .dataframe tbody tr th {\n",
       "        vertical-align: top;\n",
       "    }\n",
       "\n",
       "    .dataframe thead th {\n",
       "        text-align: right;\n",
       "    }\n",
       "</style>\n",
       "<table border=\"1\" class=\"dataframe\">\n",
       "  <thead>\n",
       "    <tr style=\"text-align: right;\">\n",
       "      <th></th>\n",
       "      <th>Unnamed: 0</th>\n",
       "      <th>r_points</th>\n",
       "      <th>r_text</th>\n",
       "      <th>place</th>\n",
       "      <th>Unnamed: 3</th>\n",
       "      <th>Unnamed: 4</th>\n",
       "      <th>Unnamed: 5</th>\n",
       "      <th>Unnamed: 6</th>\n",
       "      <th>scores</th>\n",
       "      <th>compound</th>\n",
       "      <th>score</th>\n",
       "      <th>Topic_0</th>\n",
       "      <th>Topic_1</th>\n",
       "      <th>Topic_2</th>\n",
       "      <th>Topic_3</th>\n",
       "      <th>Dominant_Topic</th>\n",
       "      <th>Perc_Dominant_Topic</th>\n",
       "    </tr>\n",
       "  </thead>\n",
       "  <tbody>\n",
       "    <tr>\n",
       "      <th>0</th>\n",
       "      <td>0</td>\n",
       "      <td>30</td>\n",
       "      <td>know elegant place interior design business bu...</td>\n",
       "      <td>Evohia</td>\n",
       "      <td>NaN</td>\n",
       "      <td>NaN</td>\n",
       "      <td>NaN</td>\n",
       "      <td>NaN</td>\n",
       "      <td>{'neg': 0.12, 'neu': 0.661, 'pos': 0.219, 'com...</td>\n",
       "      <td>0.4105</td>\n",
       "      <td>pos</td>\n",
       "      <td>0.116029</td>\n",
       "      <td>0.030390</td>\n",
       "      <td>0.837821</td>\n",
       "      <td>0.015759</td>\n",
       "      <td>Topic 2</td>\n",
       "      <td>0.84</td>\n",
       "    </tr>\n",
       "    <tr>\n",
       "      <th>1</th>\n",
       "      <td>1</td>\n",
       "      <td>40</td>\n",
       "      <td>year place change reach high standard level se...</td>\n",
       "      <td>Evohia</td>\n",
       "      <td>NaN</td>\n",
       "      <td>NaN</td>\n",
       "      <td>NaN</td>\n",
       "      <td>NaN</td>\n",
       "      <td>{'neg': 0.045, 'neu': 0.815, 'pos': 0.14, 'com...</td>\n",
       "      <td>0.9843</td>\n",
       "      <td>pos</td>\n",
       "      <td>0.529066</td>\n",
       "      <td>0.005434</td>\n",
       "      <td>0.463461</td>\n",
       "      <td>0.002039</td>\n",
       "      <td>Topic 0</td>\n",
       "      <td>0.53</td>\n",
       "    </tr>\n",
       "    <tr>\n",
       "      <th>2</th>\n",
       "      <td>2</td>\n",
       "      <td>50</td>\n",
       "      <td>close center friendly place menu also taste va...</td>\n",
       "      <td>Evohia</td>\n",
       "      <td>NaN</td>\n",
       "      <td>NaN</td>\n",
       "      <td>NaN</td>\n",
       "      <td>NaN</td>\n",
       "      <td>{'neg': 0.0, 'neu': 0.69, 'pos': 0.31, 'compou...</td>\n",
       "      <td>0.8016</td>\n",
       "      <td>pos</td>\n",
       "      <td>0.096669</td>\n",
       "      <td>0.026814</td>\n",
       "      <td>0.862478</td>\n",
       "      <td>0.014039</td>\n",
       "      <td>Topic 2</td>\n",
       "      <td>0.86</td>\n",
       "    </tr>\n",
       "    <tr>\n",
       "      <th>3</th>\n",
       "      <td>4</td>\n",
       "      <td>50</td>\n",
       "      <td>friendly offer healthy option assorted salad c...</td>\n",
       "      <td>Evohia</td>\n",
       "      <td>NaN</td>\n",
       "      <td>NaN</td>\n",
       "      <td>NaN</td>\n",
       "      <td>NaN</td>\n",
       "      <td>{'neg': 0.0, 'neu': 0.607, 'pos': 0.393, 'comp...</td>\n",
       "      <td>0.8748</td>\n",
       "      <td>pos</td>\n",
       "      <td>0.167220</td>\n",
       "      <td>0.133164</td>\n",
       "      <td>0.686305</td>\n",
       "      <td>0.013311</td>\n",
       "      <td>Topic 2</td>\n",
       "      <td>0.69</td>\n",
       "    </tr>\n",
       "    <tr>\n",
       "      <th>4</th>\n",
       "      <td>5</td>\n",
       "      <td>50</td>\n",
       "      <td>thank buffet eat much want big choice salad me...</td>\n",
       "      <td>Evohia</td>\n",
       "      <td>NaN</td>\n",
       "      <td>NaN</td>\n",
       "      <td>NaN</td>\n",
       "      <td>NaN</td>\n",
       "      <td>{'neg': 0.0, 'neu': 0.676, 'pos': 0.324, 'comp...</td>\n",
       "      <td>0.9822</td>\n",
       "      <td>pos</td>\n",
       "      <td>0.061659</td>\n",
       "      <td>0.012953</td>\n",
       "      <td>0.919127</td>\n",
       "      <td>0.006261</td>\n",
       "      <td>Topic 2</td>\n",
       "      <td>0.92</td>\n",
       "    </tr>\n",
       "    <tr>\n",
       "      <th>...</th>\n",
       "      <td>...</td>\n",
       "      <td>...</td>\n",
       "      <td>...</td>\n",
       "      <td>...</td>\n",
       "      <td>...</td>\n",
       "      <td>...</td>\n",
       "      <td>...</td>\n",
       "      <td>...</td>\n",
       "      <td>...</td>\n",
       "      <td>...</td>\n",
       "      <td>...</td>\n",
       "      <td>...</td>\n",
       "      <td>...</td>\n",
       "      <td>...</td>\n",
       "      <td>...</td>\n",
       "      <td>...</td>\n",
       "      <td>...</td>\n",
       "    </tr>\n",
       "    <tr>\n",
       "      <th>860</th>\n",
       "      <td>902</td>\n",
       "      <td>50</td>\n",
       "      <td>comfortable clean friendly considerate guest n...</td>\n",
       "      <td>The Landmark Nicosia</td>\n",
       "      <td>Review 923 Similarity</td>\n",
       "      <td>0.111803</td>\n",
       "      <td>Review 784 Similarity</td>\n",
       "      <td>0.0</td>\n",
       "      <td>{'neg': 0.053, 'neu': 0.692, 'pos': 0.255, 'co...</td>\n",
       "      <td>0.9432</td>\n",
       "      <td>pos</td>\n",
       "      <td>0.418890</td>\n",
       "      <td>0.124021</td>\n",
       "      <td>0.448589</td>\n",
       "      <td>0.008500</td>\n",
       "      <td>Topic 2</td>\n",
       "      <td>0.45</td>\n",
       "    </tr>\n",
       "    <tr>\n",
       "      <th>861</th>\n",
       "      <td>903</td>\n",
       "      <td>50</td>\n",
       "      <td>experience respond inquiry promptly well offer...</td>\n",
       "      <td>The Landmark Nicosia</td>\n",
       "      <td>Review 678 Similarity</td>\n",
       "      <td>0.042258</td>\n",
       "      <td>Review 804 Similarity</td>\n",
       "      <td>0.0</td>\n",
       "      <td>{'neg': 0.0, 'neu': 0.813, 'pos': 0.187, 'comp...</td>\n",
       "      <td>0.9617</td>\n",
       "      <td>pos</td>\n",
       "      <td>0.062004</td>\n",
       "      <td>0.009306</td>\n",
       "      <td>0.756628</td>\n",
       "      <td>0.172062</td>\n",
       "      <td>Topic 2</td>\n",
       "      <td>0.76</td>\n",
       "    </tr>\n",
       "    <tr>\n",
       "      <th>862</th>\n",
       "      <td>904</td>\n",
       "      <td>50</td>\n",
       "      <td>visit work stay go make wonderful experience t...</td>\n",
       "      <td>The Landmark Nicosia</td>\n",
       "      <td>Review 120 Similarity</td>\n",
       "      <td>0.000000</td>\n",
       "      <td>Review 812 Similarity</td>\n",
       "      <td>0.0</td>\n",
       "      <td>{'neg': 0.0, 'neu': 0.692, 'pos': 0.308, 'comp...</td>\n",
       "      <td>0.9001</td>\n",
       "      <td>pos</td>\n",
       "      <td>0.088133</td>\n",
       "      <td>0.022896</td>\n",
       "      <td>0.877252</td>\n",
       "      <td>0.011719</td>\n",
       "      <td>Topic 2</td>\n",
       "      <td>0.88</td>\n",
       "    </tr>\n",
       "    <tr>\n",
       "      <th>863</th>\n",
       "      <td>906</td>\n",
       "      <td>50</td>\n",
       "      <td>warm welcome reception team well know internat...</td>\n",
       "      <td>The Landmark Nicosia</td>\n",
       "      <td>Review 616 Similarity</td>\n",
       "      <td>0.000000</td>\n",
       "      <td>Review 818 Similarity</td>\n",
       "      <td>0.0</td>\n",
       "      <td>{'neg': 0.02, 'neu': 0.775, 'pos': 0.205, 'com...</td>\n",
       "      <td>0.9147</td>\n",
       "      <td>pos</td>\n",
       "      <td>0.024252</td>\n",
       "      <td>0.013531</td>\n",
       "      <td>0.766734</td>\n",
       "      <td>0.195483</td>\n",
       "      <td>Topic 2</td>\n",
       "      <td>0.77</td>\n",
       "    </tr>\n",
       "    <tr>\n",
       "      <th>864</th>\n",
       "      <td>907</td>\n",
       "      <td>40</td>\n",
       "      <td>actually thing find accommodation however clos...</td>\n",
       "      <td>The Landmark Nicosia</td>\n",
       "      <td>Review 893 Similarity</td>\n",
       "      <td>0.000000</td>\n",
       "      <td>Review 823 Similarity</td>\n",
       "      <td>0.0</td>\n",
       "      <td>{'neg': 0.036, 'neu': 0.916, 'pos': 0.049, 'co...</td>\n",
       "      <td>0.1779</td>\n",
       "      <td>pos</td>\n",
       "      <td>0.089707</td>\n",
       "      <td>0.076229</td>\n",
       "      <td>0.824137</td>\n",
       "      <td>0.009927</td>\n",
       "      <td>Topic 2</td>\n",
       "      <td>0.82</td>\n",
       "    </tr>\n",
       "  </tbody>\n",
       "</table>\n",
       "<p>865 rows × 17 columns</p>\n",
       "</div>"
      ],
      "text/plain": [
       "     Unnamed: 0  r_points                                             r_text  \\\n",
       "0             0        30  know elegant place interior design business bu...   \n",
       "1             1        40  year place change reach high standard level se...   \n",
       "2             2        50  close center friendly place menu also taste va...   \n",
       "3             4        50  friendly offer healthy option assorted salad c...   \n",
       "4             5        50  thank buffet eat much want big choice salad me...   \n",
       "..          ...       ...                                                ...   \n",
       "860         902        50  comfortable clean friendly considerate guest n...   \n",
       "861         903        50  experience respond inquiry promptly well offer...   \n",
       "862         904        50  visit work stay go make wonderful experience t...   \n",
       "863         906        50  warm welcome reception team well know internat...   \n",
       "864         907        40  actually thing find accommodation however clos...   \n",
       "\n",
       "                    place             Unnamed: 3  Unnamed: 4  \\\n",
       "0                  Evohia                    NaN         NaN   \n",
       "1                  Evohia                    NaN         NaN   \n",
       "2                  Evohia                    NaN         NaN   \n",
       "3                  Evohia                    NaN         NaN   \n",
       "4                  Evohia                    NaN         NaN   \n",
       "..                    ...                    ...         ...   \n",
       "860  The Landmark Nicosia  Review 923 Similarity    0.111803   \n",
       "861  The Landmark Nicosia  Review 678 Similarity    0.042258   \n",
       "862  The Landmark Nicosia  Review 120 Similarity    0.000000   \n",
       "863  The Landmark Nicosia  Review 616 Similarity    0.000000   \n",
       "864  The Landmark Nicosia  Review 893 Similarity    0.000000   \n",
       "\n",
       "                Unnamed: 5  Unnamed: 6  \\\n",
       "0                      NaN         NaN   \n",
       "1                      NaN         NaN   \n",
       "2                      NaN         NaN   \n",
       "3                      NaN         NaN   \n",
       "4                      NaN         NaN   \n",
       "..                     ...         ...   \n",
       "860  Review 784 Similarity         0.0   \n",
       "861  Review 804 Similarity         0.0   \n",
       "862  Review 812 Similarity         0.0   \n",
       "863  Review 818 Similarity         0.0   \n",
       "864  Review 823 Similarity         0.0   \n",
       "\n",
       "                                                scores  compound score  \\\n",
       "0    {'neg': 0.12, 'neu': 0.661, 'pos': 0.219, 'com...    0.4105   pos   \n",
       "1    {'neg': 0.045, 'neu': 0.815, 'pos': 0.14, 'com...    0.9843   pos   \n",
       "2    {'neg': 0.0, 'neu': 0.69, 'pos': 0.31, 'compou...    0.8016   pos   \n",
       "3    {'neg': 0.0, 'neu': 0.607, 'pos': 0.393, 'comp...    0.8748   pos   \n",
       "4    {'neg': 0.0, 'neu': 0.676, 'pos': 0.324, 'comp...    0.9822   pos   \n",
       "..                                                 ...       ...   ...   \n",
       "860  {'neg': 0.053, 'neu': 0.692, 'pos': 0.255, 'co...    0.9432   pos   \n",
       "861  {'neg': 0.0, 'neu': 0.813, 'pos': 0.187, 'comp...    0.9617   pos   \n",
       "862  {'neg': 0.0, 'neu': 0.692, 'pos': 0.308, 'comp...    0.9001   pos   \n",
       "863  {'neg': 0.02, 'neu': 0.775, 'pos': 0.205, 'com...    0.9147   pos   \n",
       "864  {'neg': 0.036, 'neu': 0.916, 'pos': 0.049, 'co...    0.1779   pos   \n",
       "\n",
       "      Topic_0   Topic_1   Topic_2   Topic_3 Dominant_Topic  \\\n",
       "0    0.116029  0.030390  0.837821  0.015759        Topic 2   \n",
       "1    0.529066  0.005434  0.463461  0.002039        Topic 0   \n",
       "2    0.096669  0.026814  0.862478  0.014039        Topic 2   \n",
       "3    0.167220  0.133164  0.686305  0.013311        Topic 2   \n",
       "4    0.061659  0.012953  0.919127  0.006261        Topic 2   \n",
       "..        ...       ...       ...       ...            ...   \n",
       "860  0.418890  0.124021  0.448589  0.008500        Topic 2   \n",
       "861  0.062004  0.009306  0.756628  0.172062        Topic 2   \n",
       "862  0.088133  0.022896  0.877252  0.011719        Topic 2   \n",
       "863  0.024252  0.013531  0.766734  0.195483        Topic 2   \n",
       "864  0.089707  0.076229  0.824137  0.009927        Topic 2   \n",
       "\n",
       "     Perc_Dominant_Topic  \n",
       "0                   0.84  \n",
       "1                   0.53  \n",
       "2                   0.86  \n",
       "3                   0.69  \n",
       "4                   0.92  \n",
       "..                   ...  \n",
       "860                 0.45  \n",
       "861                 0.76  \n",
       "862                 0.88  \n",
       "863                 0.77  \n",
       "864                 0.82  \n",
       "\n",
       "[865 rows x 17 columns]"
      ]
     },
     "execution_count": 7,
     "metadata": {},
     "output_type": "execute_result"
    }
   ],
   "source": [
    "apply_lda_pos"
   ]
  },
  {
   "cell_type": "code",
   "execution_count": 8,
   "metadata": {},
   "outputs": [
    {
     "data": {
      "application/vnd.jupyter.widget-view+json": {
       "model_id": "e544d5ea127a40eaa845f011bed85d35",
       "version_major": 2,
       "version_minor": 0
      },
      "text/plain": [
       "interactive(children=(ToggleButtons(description='Plot Type:', icons=('',), options=(('Frequency Plot', 'freque…"
      ]
     },
     "metadata": {},
     "output_type": "display_data"
    }
   ],
   "source": [
    "evaluate_model(lda_pos_custom)"
   ]
  },
  {
   "cell_type": "code",
   "execution_count": 9,
   "metadata": {},
   "outputs": [
    {
     "data": {
      "text/html": [
       "        <script type=\"text/javascript\">\n",
       "        window.PlotlyConfig = {MathJaxConfig: 'local'};\n",
       "        if (window.MathJax) {MathJax.Hub.Config({SVG: {font: \"STIX-Web\"}});}\n",
       "        if (typeof require !== 'undefined') {\n",
       "        require.undef(\"plotly\");\n",
       "        requirejs.config({\n",
       "            paths: {\n",
       "                'plotly': ['https://cdn.plot.ly/plotly-latest.min']\n",
       "            }\n",
       "        });\n",
       "        require(['plotly'], function(Plotly) {\n",
       "            window._Plotly = Plotly;\n",
       "        });\n",
       "        }\n",
       "        </script>\n",
       "        "
      ]
     },
     "metadata": {},
     "output_type": "display_data"
    },
    {
     "data": {
      "text/html": [
       "\n",
       "<link rel=\"stylesheet\" type=\"text/css\" href=\"https://cdn.rawgit.com/bmabey/pyLDAvis/files/ldavis.v1.0.0.css\">\n",
       "\n",
       "\n",
       "<div id=\"ldavis_el2346425478457706963988342129\"></div>\n",
       "<script type=\"text/javascript\">\n",
       "\n",
       "var ldavis_el2346425478457706963988342129_data = {\"mdsDat\": {\"x\": [0.2790350456941875, 0.07165125688888656, -0.2168402688501894, -0.13384603373288467], \"y\": [0.12469709940917069, -0.20588459286588628, -0.08915980198284798, 0.17034729543956353], \"topics\": [1, 2, 3, 4], \"cluster\": [1, 1, 1, 1], \"Freq\": [72.24337768554688, 13.090160369873047, 7.571286201477051, 7.09517240524292]}, \"tinfo\": {\"Term\": [\"stay\", \"staff\", \"breakfast\", \"charge\", \"team\", \"reception\", \"free\", \"guest\", \"great\", \"expensive\", \"use\", \"business\", \"feel\", \"relax\", \"find\", \"excellent\", \"personnel\", \"well\", \"small\", \"meal\", \"treatment\", \"provide\", \"go\", \"friendly\", \"view\", \"clean\", \"change\", \"spa\", \"really\", \"bus\", \"stay\", \"staff\", \"breakfast\", \"great\", \"business\", \"excellent\", \"friendly\", \"clean\", \"well\", \"really\", \"service\", \"comfortable\", \"helpful\", \"night\", \"visit\", \"experience\", \"location\", \"always\", \"facility\", \"recommend\", \"trip\", \"old\", \"welcome\", \"city\", \"offer\", \"amazing\", \"enjoy\", \"bit\", \"quality\", \"home\", \"make\", \"also\", \"place\", \"pool\", \"day\", \"need\", \"time\", \"feel\", \"area\", \"go\", \"expensive\", \"relax\", \"change\", \"view\", \"bus\", \"floor\", \"super\", \"fruit\", \"wait\", \"convenient\", \"indoor\", \"cost\", \"euro\", \"probably\", \"full\", \"manager\", \"greet\", \"arrival\", \"forward\", \"tv\", \"company\", \"sleep\", \"chair\", \"usually\", \"normal\", \"plenty\", \"perfectly\", \"management\", \"elegant\", \"effort\", \"appreciate\", \"wine\", \"side\", \"early\", \"reception\", \"ask\", \"find\", \"small\", \"go\", \"leave\", \"take\", \"little\", \"charge\", \"personnel\", \"meal\", \"different\", \"class\", \"central\", \"modern\", \"brand\", \"superb\", \"exercise\", \"club\", \"entrance\", \"airline\", \"decor\", \"temperature\", \"station\", \"dining\", \"furniture\", \"charm\", \"bag\", \"remain\", \"old_fashione\", \"gear\", \"workout\", \"public_area\", \"improvement\", \"television\", \"easily\", \"require\", \"quickly\", \"basic\", \"tour\", \"bedroom\", \"whole\", \"soft\", \"impressive\", \"suite\", \"free\", \"light\", \"street\", \"door\", \"space\", \"use\", \"executive\", \"find\", \"however\", \"team\", \"treatment\", \"call\", \"style\", \"assist\", \"speak\", \"number\", \"fabulous\", \"memorable\", \"ambience\", \"happen\", \"daily\", \"furnish\", \"pamper\", \"massage\", \"learn\", \"executive_we\", \"spot\", \"lift\", \"create\", \"corner\", \"beauty\", \"together\", \"young\", \"regard\", \"waiter\", \"steam\", \"suitable\", \"namely\", \"professionalism\", \"confortable\", \"hair\", \"music\", \"guest\", \"event\", \"live\", \"understand\", \"lady\", \"suite\", \"popular\", \"arrange\", \"cake\", \"chef\", \"provide\", \"bottle\", \"leave\", \"feel\", \"spa\"], \"Freq\": [571.0, 519.0, 439.0, 45.0, 42.0, 99.0, 84.0, 57.0, 351.0, 43.0, 85.0, 303.0, 138.0, 37.0, 86.0, 272.0, 27.0, 273.0, 73.0, 25.0, 24.0, 46.0, 144.0, 235.0, 30.0, 228.0, 28.0, 54.0, 218.0, 27.0, 570.7429809570312, 518.7578735351562, 438.7034606933594, 351.109130859375, 303.1366271972656, 272.3236999511719, 234.64305114746094, 227.63363647460938, 272.7865295410156, 217.7094268798828, 193.7223358154297, 165.826904296875, 152.147216796875, 154.68507385253906, 151.32875061035156, 151.60702514648438, 146.29345703125, 139.9539337158203, 127.72406768798828, 105.9441146850586, 93.90870666503906, 93.09161376953125, 91.0323486328125, 97.73353576660156, 85.2785873413086, 79.36368560791016, 78.8708267211914, 78.85441589355469, 86.60697174072266, 78.89921569824219, 228.719482421875, 164.22604370117188, 118.77418518066406, 323.1300048828125, 162.24327087402344, 150.36044311523438, 223.42820739746094, 128.95684814453125, 119.2708511352539, 122.30867767333984, 43.115814208984375, 37.11803436279297, 28.309675216674805, 29.654756546020508, 26.942703247070312, 25.117380142211914, 26.638933181762695, 24.351951599121094, 22.557477951049805, 20.907901763916016, 23.271753311157227, 19.40949821472168, 19.24134635925293, 18.03423309326172, 16.532995223999023, 16.136384963989258, 16.034244537353516, 15.191183090209961, 15.74009895324707, 15.7434663772583, 15.181132316589355, 14.822628021240234, 13.021810531616211, 13.13956069946289, 12.382745742797852, 18.381088256835938, 12.195756912231445, 11.405698776245117, 10.937559127807617, 11.404211044311523, 19.05335235595703, 18.871822357177734, 23.28132438659668, 17.81328773498535, 40.67644500732422, 19.435077667236328, 25.562559127807617, 23.943645477294922, 21.69725227355957, 16.003129959106445, 16.513717651367188, 16.463993072509766, 44.414310455322266, 26.799819946289062, 24.70676040649414, 18.667612075805664, 18.534570693969727, 16.29551124572754, 14.551530838012695, 11.237601280212402, 14.692200660705566, 10.438647270202637, 10.697339057922363, 9.975772857666016, 8.066009521484375, 7.95550537109375, 7.71023416519165, 7.695652961730957, 8.109850883483887, 7.105034351348877, 6.917257785797119, 6.812088489532471, 6.671332836151123, 6.410099983215332, 6.765495300292969, 6.487429141998291, 6.055355548858643, 6.323365688323975, 5.622763156890869, 5.7137017250061035, 6.4344482421875, 5.4156036376953125, 9.341480255126953, 8.313952445983887, 10.14258861541748, 13.86750602722168, 11.22314453125, 7.975620269775391, 12.790579795837402, 17.95405387878418, 9.054388999938965, 7.744040012359619, 9.32042407989502, 8.464049339294434, 11.552569389343262, 9.834498405456543, 8.384666442871094, 8.22153091430664, 42.16625213623047, 23.527067184448242, 16.4512996673584, 17.442548751831055, 12.121849060058594, 10.625102996826172, 8.926376342773438, 8.30833625793457, 7.829269886016846, 7.104690074920654, 6.701409816741943, 8.945456504821777, 6.3017706871032715, 5.86232328414917, 5.878581523895264, 5.911385536193848, 5.736737251281738, 5.856030464172363, 5.577846050262451, 5.485022068023682, 5.284772872924805, 5.114448547363281, 5.205668926239014, 5.308965682983398, 5.236392021179199, 5.713813304901123, 4.970597267150879, 5.7080302238464355, 4.726654529571533, 4.751462936401367, 5.103326797485352, 11.157598495483398, 7.187655925750732, 24.964719772338867, 9.694707870483398, 11.122278213500977, 7.355167865753174, 11.316499710083008, 11.503589630126953, 6.174083709716797, 6.171710968017578, 7.8007049560546875, 7.465268135070801, 9.526408195495605, 7.069397449493408, 7.050148963928223, 8.878884315490723, 7.411391258239746], \"Total\": [571.0, 519.0, 439.0, 45.0, 42.0, 99.0, 84.0, 57.0, 351.0, 43.0, 85.0, 303.0, 138.0, 37.0, 86.0, 272.0, 27.0, 273.0, 73.0, 25.0, 24.0, 46.0, 144.0, 235.0, 30.0, 228.0, 28.0, 54.0, 218.0, 27.0, 571.344482421875, 519.3569946289062, 439.3115539550781, 351.7080078125, 303.7395935058594, 272.9230651855469, 235.24217224121094, 228.23541259765625, 273.5291442871094, 218.3180694580078, 194.32318115234375, 166.43502807617188, 152.75048828125, 155.3042449951172, 151.9361114501953, 152.22116088867188, 146.89076232910156, 140.5592041015625, 128.3585968017578, 106.53997039794922, 94.51429748535156, 93.69537353515625, 91.64373016357422, 98.43490600585938, 85.90497589111328, 79.97054290771484, 79.47469329833984, 79.46597290039062, 87.28208923339844, 79.5195083618164, 230.90493774414062, 165.59466552734375, 120.38836669921875, 337.16815185546875, 166.10252380371094, 156.5338592529297, 239.50706481933594, 138.25270080566406, 132.46194458007812, 144.39418029785156, 43.780311584472656, 37.83637237548828, 28.956518173217773, 30.367515563964844, 27.61269760131836, 25.78594970703125, 27.36065101623535, 25.020729064941406, 23.208730697631836, 21.588077545166016, 24.044788360595703, 20.06039810180664, 19.889192581176758, 18.706401824951172, 17.207260131835938, 16.804941177368164, 16.71639633178711, 15.850118637084961, 16.43288803100586, 16.442747116088867, 15.86610221862793, 15.553330421447754, 13.69337272644043, 13.84181022644043, 13.05364990234375, 19.38653564453125, 12.903605461120605, 12.073989868164062, 11.596114158630371, 12.091060638427734, 20.275732040405273, 20.504425048828125, 26.251590728759766, 22.547042846679688, 99.2183609008789, 38.804141998291016, 86.19093322753906, 73.20136260986328, 144.39418029785156, 23.913311004638672, 60.79833984375, 78.23009490966797, 45.111114501953125, 27.511211395263672, 25.446491241455078, 19.39777374267578, 19.26609230041504, 16.99445343017578, 15.266120910644531, 11.906180381774902, 15.603633880615234, 11.119309425354004, 11.430859565734863, 10.726730346679688, 8.733470916748047, 8.645515441894531, 8.401982307434082, 8.397197723388672, 8.858779907226562, 7.784753322601318, 7.617094039916992, 7.538315773010254, 7.391178607940674, 7.115298271179199, 7.512686252593994, 7.210330486297607, 6.760114669799805, 7.062338352203369, 6.29592227935791, 6.401634693145752, 7.217170715332031, 6.107870101928711, 11.279987335205078, 10.07205581665039, 12.959781646728516, 19.70427703857422, 14.996747016906738, 10.0775785446167, 24.79229736328125, 84.5559310913086, 16.603422164916992, 11.203862190246582, 21.76651954650879, 15.944993019104004, 85.67073059082031, 54.793766021728516, 86.19093322753906, 45.07838821411133, 42.84975051879883, 24.25983238220215, 17.131214141845703, 18.40732765197754, 12.868512153625488, 11.321268081665039, 9.64496898651123, 9.012017250061035, 8.529461860656738, 7.761543273925781, 7.362255573272705, 9.887236595153809, 6.9780778884887695, 6.535302639007568, 6.56339693069458, 6.611523628234863, 6.4174909591674805, 6.553586006164551, 6.252933502197266, 6.159743309020996, 5.941231727600098, 5.762190341949463, 5.867735385894775, 5.990038871765137, 5.9101433753967285, 6.4586334228515625, 5.640870571136475, 6.492971897125244, 5.401178359985352, 5.436802387237549, 5.842255592346191, 14.784252166748047, 9.49898910522461, 57.5548095703125, 16.159982681274414, 20.606752395629883, 10.582670211791992, 23.212383270263672, 24.79229736328125, 7.9443182945251465, 8.21348762512207, 15.976967811584473, 14.673467636108398, 46.971439361572266, 15.312671661376953, 23.913311004638672, 138.25270080566406, 54.441890716552734], \"Category\": [\"Default\", \"Default\", \"Default\", \"Default\", \"Default\", \"Default\", \"Default\", \"Default\", \"Default\", \"Default\", \"Default\", \"Default\", \"Default\", \"Default\", \"Default\", \"Default\", \"Default\", \"Default\", \"Default\", \"Default\", \"Default\", \"Default\", \"Default\", \"Default\", \"Default\", \"Default\", \"Default\", \"Default\", \"Default\", \"Default\", \"Topic1\", \"Topic1\", \"Topic1\", \"Topic1\", \"Topic1\", \"Topic1\", \"Topic1\", \"Topic1\", \"Topic1\", \"Topic1\", \"Topic1\", \"Topic1\", \"Topic1\", \"Topic1\", \"Topic1\", \"Topic1\", \"Topic1\", \"Topic1\", \"Topic1\", \"Topic1\", \"Topic1\", \"Topic1\", \"Topic1\", \"Topic1\", \"Topic1\", \"Topic1\", \"Topic1\", \"Topic1\", \"Topic1\", \"Topic1\", \"Topic1\", \"Topic1\", \"Topic1\", \"Topic1\", \"Topic1\", \"Topic1\", \"Topic1\", \"Topic1\", \"Topic1\", \"Topic1\", \"Topic2\", \"Topic2\", \"Topic2\", \"Topic2\", \"Topic2\", \"Topic2\", \"Topic2\", \"Topic2\", \"Topic2\", \"Topic2\", \"Topic2\", \"Topic2\", \"Topic2\", \"Topic2\", \"Topic2\", \"Topic2\", \"Topic2\", \"Topic2\", \"Topic2\", \"Topic2\", \"Topic2\", \"Topic2\", \"Topic2\", \"Topic2\", \"Topic2\", \"Topic2\", \"Topic2\", \"Topic2\", \"Topic2\", \"Topic2\", \"Topic2\", \"Topic2\", \"Topic2\", \"Topic2\", \"Topic2\", \"Topic2\", \"Topic2\", \"Topic2\", \"Topic2\", \"Topic2\", \"Topic2\", \"Topic2\", \"Topic3\", \"Topic3\", \"Topic3\", \"Topic3\", \"Topic3\", \"Topic3\", \"Topic3\", \"Topic3\", \"Topic3\", \"Topic3\", \"Topic3\", \"Topic3\", \"Topic3\", \"Topic3\", \"Topic3\", \"Topic3\", \"Topic3\", \"Topic3\", \"Topic3\", \"Topic3\", \"Topic3\", \"Topic3\", \"Topic3\", \"Topic3\", \"Topic3\", \"Topic3\", \"Topic3\", \"Topic3\", \"Topic3\", \"Topic3\", \"Topic3\", \"Topic3\", \"Topic3\", \"Topic3\", \"Topic3\", \"Topic3\", \"Topic3\", \"Topic3\", \"Topic3\", \"Topic3\", \"Topic3\", \"Topic3\", \"Topic3\", \"Topic3\", \"Topic3\", \"Topic3\", \"Topic4\", \"Topic4\", \"Topic4\", \"Topic4\", \"Topic4\", \"Topic4\", \"Topic4\", \"Topic4\", \"Topic4\", \"Topic4\", \"Topic4\", \"Topic4\", \"Topic4\", \"Topic4\", \"Topic4\", \"Topic4\", \"Topic4\", \"Topic4\", \"Topic4\", \"Topic4\", \"Topic4\", \"Topic4\", \"Topic4\", \"Topic4\", \"Topic4\", \"Topic4\", \"Topic4\", \"Topic4\", \"Topic4\", \"Topic4\", \"Topic4\", \"Topic4\", \"Topic4\", \"Topic4\", \"Topic4\", \"Topic4\", \"Topic4\", \"Topic4\", \"Topic4\", \"Topic4\", \"Topic4\", \"Topic4\", \"Topic4\", \"Topic4\", \"Topic4\", \"Topic4\", \"Topic4\", \"Topic4\"], \"logprob\": [30.0, 29.0, 28.0, 27.0, 26.0, 25.0, 24.0, 23.0, 22.0, 21.0, 20.0, 19.0, 18.0, 17.0, 16.0, 15.0, 14.0, 13.0, 12.0, 11.0, 10.0, 9.0, 8.0, 7.0, 6.0, 5.0, 4.0, 3.0, 2.0, 1.0, -3.5706000328063965, -3.666100025177002, -3.833699941635132, -4.056399822235107, -4.2032999992370605, -4.310500144958496, -4.459400177001953, -4.489799976348877, -4.308800220489502, -4.534299850463867, -4.651100158691406, -4.806600093841553, -4.8927001953125, -4.876100063323975, -4.898099899291992, -4.896200180053711, -4.9319000244140625, -4.976200103759766, -5.067599773406982, -5.2546000480651855, -5.375199794769287, -5.383900165557861, -5.406300067901611, -5.335299968719482, -5.47160005569458, -5.543499946594238, -5.549699783325195, -5.549900054931641, -5.456099987030029, -5.549300193786621, -4.485000133514404, -4.816299915313721, -5.1402997970581055, -4.139500141143799, -4.828400135040283, -4.9045000076293945, -4.508399963378906, -5.058000087738037, -5.136099815368652, -5.111000061035156, -4.445400238037109, -4.595200061798096, -4.866099834442139, -4.819699764251709, -4.915599822998047, -4.985799789428711, -4.927000045776367, -5.01669979095459, -5.093299865722656, -5.1691999435424805, -5.062099933624268, -5.243599891662598, -5.252299785614014, -5.3171000480651855, -5.4039998054504395, -5.428199768066406, -5.434599876403809, -5.48859977722168, -5.453100204467773, -5.452899932861328, -5.489299774169922, -5.513199806213379, -5.6427001953125, -5.633699893951416, -5.692999839782715, -5.297999858856201, -5.708199977874756, -5.775199890136719, -5.8171000480651855, -5.775300025939941, -5.2621002197265625, -5.271699905395508, -5.061699867248535, -5.329400062561035, -4.503699779510498, -5.242199897766113, -4.968200206756592, -5.033599853515625, -5.1321001052856445, -5.436500072479248, -5.405099868774414, -5.408199787139893, -3.868299961090088, -4.3734002113342285, -4.454800128936768, -4.735000133514404, -4.742199897766113, -4.8709001541137695, -4.984099864959717, -5.242599964141846, -4.9745001792907715, -5.316299915313721, -5.291800022125244, -5.361700057983398, -5.57420015335083, -5.5879998207092285, -5.61929988861084, -5.621200084686279, -5.568699836730957, -5.701000213623047, -5.727799892425537, -5.743100166320801, -5.763999938964844, -5.803999900817871, -5.75, -5.791999816894531, -5.860899925231934, -5.817599773406982, -5.934999942779541, -5.919000148773193, -5.80019998550415, -5.972499847412109, -5.4274001121521, -5.543900012969971, -5.345099925994873, -5.032299995422363, -5.243800163269043, -5.585400104522705, -5.113100051879883, -4.77400016784668, -5.458600044250488, -5.6149001121521, -5.429599761962891, -5.526000022888184, -5.214900016784668, -5.375899791717529, -5.535399913787842, -5.555099964141846, -3.855299949645996, -4.438700199127197, -4.796500205993652, -4.73799991607666, -5.101900100708008, -5.233699798583984, -5.407899856567383, -5.479599952697754, -5.539000034332275, -5.636099815368652, -5.6946001052856445, -5.405700206756592, -5.75600004196167, -5.8282999992370605, -5.8256001472473145, -5.820000171661377, -5.849999904632568, -5.829400062561035, -5.8780999183654785, -5.894899845123291, -5.932000160217285, -5.964799880981445, -5.9471001625061035, -5.927499771118164, -5.941199779510498, -5.854000091552734, -5.993299961090088, -5.855000019073486, -6.043700218200684, -6.038400173187256, -5.9670000076293945, -5.184800148010254, -5.624499797821045, -4.37939977645874, -5.325300216674805, -5.187900066375732, -5.601500034332275, -5.170599937438965, -5.154200077056885, -5.776500225067139, -5.776899814605713, -5.542699813842773, -5.586599826812744, -5.342800140380859, -5.64109992980957, -5.643799781799316, -5.4131999015808105, -5.593900203704834], \"loglift\": [30.0, 29.0, 28.0, 27.0, 26.0, 25.0, 24.0, 23.0, 22.0, 21.0, 20.0, 19.0, 18.0, 17.0, 16.0, 15.0, 14.0, 13.0, 12.0, 11.0, 10.0, 9.0, 8.0, 7.0, 6.0, 5.0, 4.0, 3.0, 2.0, 1.0, 0.32409998774528503, 0.3240000009536743, 0.3237000107765198, 0.32339999079704285, 0.3231000006198883, 0.3228999972343445, 0.32260000705718994, 0.32249999046325684, 0.3224000036716461, 0.322299987077713, 0.32199999690055847, 0.3215000033378601, 0.32120001316070557, 0.32109999656677246, 0.32109999656677246, 0.32109999656677246, 0.32109999656677246, 0.3208000063896179, 0.32019999623298645, 0.31949999928474426, 0.31869998574256897, 0.31869998574256897, 0.31839999556541443, 0.3179999887943268, 0.31779998540878296, 0.3174999952316284, 0.3174999952316284, 0.3174000084400177, 0.3174000084400177, 0.3172999918460846, 0.3156000077724457, 0.31679999828338623, 0.311599999666214, 0.2825999855995178, 0.30160000920295715, 0.2849000096321106, 0.2556000053882599, 0.2554999887943268, 0.22020000219345093, 0.1590999960899353, 2.0179998874664307, 2.0141000747680664, 2.010699987411499, 2.0095999240875244, 2.008699893951416, 2.006999969482422, 2.0065999031066895, 2.006200075149536, 2.0048000812530518, 2.001300096511841, 2.0006000995635986, 2.0002999305725098, 2.000200033187866, 1.9967000484466553, 1.993299961090088, 1.9926999807357788, 1.9916000366210938, 1.9908000230789185, 1.9902000427246094, 1.98989999294281, 1.9891999959945679, 1.985200047492981, 1.9830000400543213, 1.9811999797821045, 1.9804999828338623, 1.9801000356674194, 1.9768999814987183, 1.9764000177383423, 1.9747999906539917, 1.9747999906539917, 1.9710999727249146, 1.9502999782562256, 1.9132000207901, 1.797700047492981, 1.1416000127792358, 1.3418999910354614, 0.8179000020027161, 0.9157999753952026, 0.1378999948501587, 1.631700038909912, 0.7299000024795532, 0.4747999906539917, 2.565200090408325, 2.5546000003814697, 2.551300048828125, 2.5423998832702637, 2.542099952697754, 2.538800001144409, 2.532900094985962, 2.5230000019073486, 2.5206000804901123, 2.5176000595092773, 2.5144999027252197, 2.50819993019104, 2.501300096511841, 2.4976000785827637, 2.4948999881744385, 2.4935998916625977, 2.492500066757202, 2.4893999099731445, 2.4844000339508057, 2.4795000553131104, 2.478300094604492, 2.4763998985290527, 2.4760000705718994, 2.4751999378204346, 2.4707000255584717, 2.4702999591827393, 2.4677000045776367, 2.467099905014038, 2.4660000801086426, 2.4605000019073486, 2.392199993133545, 2.3889999389648438, 2.335700035095215, 2.2295000553131104, 2.2909998893737793, 2.34689998626709, 1.9190000295639038, 1.0312000513076782, 1.9744000434875488, 2.2114999294281006, 1.7325999736785889, 1.9474999904632568, 0.5771999955177307, 0.863099992275238, 0.25060001015663147, 0.8791999816894531, 2.629699945449829, 2.6150999069213867, 2.605299949645996, 2.591900110244751, 2.5859999656677246, 2.5822999477386475, 2.5683000087738037, 2.564500093460083, 2.5601000785827637, 2.557300090789795, 2.5517001152038574, 2.5457000732421875, 2.543800115585327, 2.537100076675415, 2.535599946975708, 2.533799886703491, 2.533600091934204, 2.5332000255584717, 2.5315001010894775, 2.5297000408172607, 2.528700113296509, 2.5264999866485596, 2.5260000228881836, 2.525099992752075, 2.5246999263763428, 2.523200035095215, 2.5192999839782715, 2.516900062561035, 2.512399911880493, 2.510999917984009, 2.510499954223633, 2.364300012588501, 2.3668999671936035, 1.8105000257492065, 2.1347999572753906, 2.029099941253662, 2.281899929046631, 1.927299976348877, 1.8779000043869019, 2.393699884414673, 2.359999895095825, 1.9287999868392944, 1.9700000286102295, 1.0503000020980835, 1.8729000091552734, 1.424399971961975, -0.09969999641180038, 0.6516000032424927]}, \"token.table\": {\"Topic\": [3, 1, 2, 1, 1, 4, 2, 3, 1, 2, 2, 4, 2, 1, 2, 4, 3, 2, 3, 4, 3, 4, 1, 2, 4, 3, 1, 2, 1, 2, 4, 4, 3, 2, 2, 3, 3, 1, 4, 1, 3, 1, 3, 1, 2, 4, 2, 4, 2, 4, 4, 1, 2, 3, 3, 3, 3, 1, 3, 2, 3, 3, 2, 2, 1, 3, 2, 2, 4, 1, 1, 2, 3, 4, 4, 3, 2, 1, 4, 1, 1, 4, 1, 2, 3, 2, 2, 1, 3, 1, 2, 2, 4, 3, 3, 1, 2, 1, 2, 1, 3, 4, 2, 4, 4, 1, 1, 1, 3, 3, 4, 3, 2, 1, 4, 4, 2, 3, 4, 4, 2, 3, 1, 2, 3, 1, 4, 1, 1, 4, 2, 2, 4, 3, 4, 3, 3, 4, 4, 1, 2, 3, 1, 2, 4, 1, 1, 3, 4, 2, 3, 1, 2, 1, 2, 1, 2, 3, 3, 4, 2, 4, 1, 4, 3, 1, 3, 1, 1, 2, 1, 4, 2, 3, 3, 1, 2, 4, 2, 1, 2, 3, 4, 1, 4, 2, 3, 4, 4, 1, 3, 1, 4, 2, 3, 4, 4, 3, 4, 2, 3, 1, 2, 4, 3, 3, 1, 2, 4, 3, 4, 4, 1, 2, 2, 4, 1, 3, 2, 2, 1, 2, 4, 1, 1, 3, 4, 2, 3, 3, 4], \"Freq\": [0.9160161018371582, 0.9903700947761536, 0.006038841791450977, 0.996021568775177, 0.9878637194633484, 0.9018824696540833, 0.9370808601379395, 0.0493200458586216, 0.8983712196350098, 0.0981413945555687, 0.12175095826387405, 0.7305057644844055, 0.9463651776313782, 0.48963844776153564, 0.48963844776153564, 0.9325087070465088, 0.928589403629303, 0.0886525809764862, 0.7978732585906982, 0.8677256107330322, 0.7716179490089417, 0.15432359278202057, 0.9941362142562866, 0.5224431157112122, 0.45713773369789124, 0.9238899350166321, 0.9992908239364624, 0.9778110384941101, 0.9975650310516357, 0.5007207989692688, 0.5007207989692688, 0.933967649936676, 0.9414836764335632, 0.9493643641471863, 0.9669671058654785, 0.975369393825531, 0.9189856052398682, 0.4770515263080597, 0.4770515263080597, 0.9955818057060242, 0.9861885905265808, 0.9989685416221619, 0.962307333946228, 0.9973862171173096, 0.9454118013381958, 0.8558338284492493, 0.9727591276168823, 0.841576337814331, 0.9471397399902344, 0.8117221593856812, 0.9102644324302673, 0.9753012657165527, 0.018061134964227676, 0.0060203783214092255, 0.9253352284431458, 0.9794938564300537, 0.9030588865280151, 0.5513054132461548, 0.4134790599346161, 0.7983308434486389, 0.17740686237812042, 0.937260627746582, 0.9097630381584167, 0.9485936164855957, 0.9940271377563477, 0.9322504997253418, 0.9552927017211914, 0.3712875247001648, 0.6188125610351562, 0.99661785364151, 0.49275678396224976, 0.21900302171707153, 0.18250250816345215, 0.10950151085853577, 0.9349448084831238, 0.8993363976478577, 0.982176661491394, 0.9985471367835999, 0.8877035975456238, 0.9972062706947327, 0.9330739974975586, 0.06509818881750107, 0.6033117175102234, 0.3016558587551117, 0.09281718730926514, 0.9695202112197876, 0.9736571907997131, 0.7805484533309937, 0.2128768414258957, 0.9989705681800842, 0.9592046737670898, 0.9879550933837891, 0.8598356246948242, 0.899193525314331, 0.9317572712898254, 0.8449093699455261, 0.1523607075214386, 0.9979869723320007, 0.9571440815925598, 0.5386170148849487, 0.017374742776155472, 0.4343685507774353, 0.2029186189174652, 0.7440349459648132, 0.950795590877533, 0.9950868487358093, 0.9934669137001038, 0.7986088395118713, 0.17746862769126892, 0.7938414812088013, 0.19846037030220032, 0.8495769500732422, 0.9565482139587402, 0.4738849997520447, 0.4738849997520447, 0.9075064063072205, 0.6690834164619446, 0.041817713528871536, 0.29272398352622986, 0.959549605846405, 0.4215998351573944, 0.5420569181442261, 0.7797510623931885, 0.20452487468719482, 0.012782804667949677, 0.43675005435943604, 0.5338056087493896, 0.9939358830451965, 0.9917501211166382, 0.008661572821438313, 0.9110493063926697, 0.952100932598114, 0.9141607880592346, 0.9824537038803101, 0.9379255175590515, 0.9825678467750549, 0.21054871380329132, 0.7369205355644226, 0.9257239103317261, 0.958259105682373, 0.00638839416205883, 0.0319419726729393, 0.9980409741401672, 0.9192830920219421, 0.9331289529800415, 0.9894653558731079, 0.992578387260437, 0.843253493309021, 0.9180906414985657, 0.9299726486206055, 0.9814180731773376, 0.9884675741195679, 0.008306450210511684, 0.05158219113945961, 0.9284794330596924, 0.9579789638519287, 0.038556430488824844, 0.002965879160910845, 0.12587612867355347, 0.7552567720413208, 0.9622374176979065, 0.9196582436561584, 0.7877126932144165, 0.21289533376693726, 0.8875589370727539, 0.996768057346344, 0.8186159729957581, 0.9985430836677551, 0.5845692157745361, 0.41322997212409973, 0.9949317574501038, 0.8460031747817993, 0.9778950214385986, 0.9470749497413635, 0.8313506841659546, 0.998336911201477, 0.876137375831604, 0.07618585973978043, 0.964423656463623, 0.6693864464759827, 0.3278627395629883, 0.733492374420166, 0.20004338026046753, 0.8633058071136475, 0.12857745587825775, 0.43900927901268005, 0.501724898815155, 0.9716225862503052, 0.9155293107032776, 0.9993126392364502, 0.9526987671852112, 0.9993970394134521, 0.8863880038261414, 0.2677648067474365, 0.7140395045280457, 0.923545241355896, 0.9240760803222656, 0.5243564248085022, 0.48402130603790283, 0.9868186116218567, 0.9613145589828491, 0.7237039804458618, 0.2796128988265991, 0.9801690578460693, 0.9529978036880493, 0.9521562457084656, 0.9310790300369263, 0.06680387258529663, 0.8521174788475037, 0.794276773929596, 0.0992845967411995, 0.9892895817756653, 0.9945585131645203, 0.973073422908783, 0.2834823429584503, 0.6614587903022766, 0.8637722730636597, 0.14007118344306946, 0.9391835331916809, 0.9878977537155151, 0.9938387870788574, 0.9910063743591309, 0.9289891123771667, 0.9929757118225098, 0.9980654716491699, 0.7105056643486023, 0.2537520229816437, 0.9266292452812195, 0.048769962042570114, 0.8321393728256226, 0.8347191214561462], \"Term\": [\"airline\", \"also\", \"also\", \"always\", \"amazing\", \"ambience\", \"appreciate\", \"appreciate\", \"area\", \"area\", \"arrange\", \"arrange\", \"arrival\", \"ask\", \"ask\", \"assist\", \"bag\", \"basic\", \"basic\", \"beauty\", \"bedroom\", \"bedroom\", \"bit\", \"bottle\", \"bottle\", \"brand\", \"breakfast\", \"bus\", \"business\", \"cake\", \"cake\", \"call\", \"central\", \"chair\", \"change\", \"charge\", \"charm\", \"chef\", \"chef\", \"city\", \"class\", \"clean\", \"club\", \"comfortable\", \"company\", \"confortable\", \"convenient\", \"corner\", \"cost\", \"create\", \"daily\", \"day\", \"day\", \"day\", \"decor\", \"different\", \"dining\", \"door\", \"door\", \"early\", \"early\", \"easily\", \"effort\", \"elegant\", \"enjoy\", \"entrance\", \"euro\", \"event\", \"event\", \"excellent\", \"executive\", \"executive\", \"executive\", \"executive\", \"executive_we\", \"exercise\", \"expensive\", \"experience\", \"fabulous\", \"facility\", \"feel\", \"feel\", \"find\", \"find\", \"find\", \"floor\", \"forward\", \"free\", \"free\", \"friendly\", \"fruit\", \"full\", \"furnish\", \"furniture\", \"gear\", \"go\", \"go\", \"great\", \"greet\", \"guest\", \"guest\", \"guest\", \"hair\", \"hair\", \"happen\", \"helpful\", \"home\", \"however\", \"however\", \"impressive\", \"impressive\", \"improvement\", \"indoor\", \"lady\", \"lady\", \"learn\", \"leave\", \"leave\", \"leave\", \"lift\", \"light\", \"light\", \"little\", \"little\", \"little\", \"live\", \"live\", \"location\", \"make\", \"make\", \"management\", \"manager\", \"massage\", \"meal\", \"memorable\", \"modern\", \"music\", \"music\", \"namely\", \"need\", \"need\", \"need\", \"night\", \"normal\", \"number\", \"offer\", \"old\", \"old_fashione\", \"pamper\", \"perfectly\", \"personnel\", \"place\", \"place\", \"plenty\", \"plenty\", \"pool\", \"pool\", \"pool\", \"popular\", \"popular\", \"probably\", \"professionalism\", \"provide\", \"provide\", \"public_area\", \"quality\", \"quickly\", \"really\", \"reception\", \"reception\", \"recommend\", \"regard\", \"relax\", \"remain\", \"require\", \"service\", \"side\", \"side\", \"sleep\", \"small\", \"small\", \"soft\", \"soft\", \"spa\", \"spa\", \"space\", \"space\", \"speak\", \"spot\", \"staff\", \"station\", \"stay\", \"steam\", \"street\", \"street\", \"style\", \"suitable\", \"suite\", \"suite\", \"super\", \"superb\", \"take\", \"take\", \"team\", \"television\", \"temperature\", \"time\", \"time\", \"together\", \"tour\", \"tour\", \"treatment\", \"trip\", \"tv\", \"understand\", \"understand\", \"use\", \"use\", \"usually\", \"view\", \"visit\", \"wait\", \"waiter\", \"welcome\", \"well\", \"whole\", \"whole\", \"wine\", \"wine\", \"workout\", \"young\"]}, \"R\": 30, \"lambda.step\": 0.01, \"plot.opts\": {\"xlab\": \"PC1\", \"ylab\": \"PC2\"}, \"topic.order\": [3, 1, 2, 4]};\n",
       "\n",
       "function LDAvis_load_lib(url, callback){\n",
       "  var s = document.createElement('script');\n",
       "  s.src = url;\n",
       "  s.async = true;\n",
       "  s.onreadystatechange = s.onload = callback;\n",
       "  s.onerror = function(){console.warn(\"failed to load library \" + url);};\n",
       "  document.getElementsByTagName(\"head\")[0].appendChild(s);\n",
       "}\n",
       "\n",
       "if(typeof(LDAvis) !== \"undefined\"){\n",
       "   // already loaded: just create the visualization\n",
       "   !function(LDAvis){\n",
       "       new LDAvis(\"#\" + \"ldavis_el2346425478457706963988342129\", ldavis_el2346425478457706963988342129_data);\n",
       "   }(LDAvis);\n",
       "}else if(typeof define === \"function\" && define.amd){\n",
       "   // require.js is available: use it to load d3/LDAvis\n",
       "   require.config({paths: {d3: \"https://cdnjs.cloudflare.com/ajax/libs/d3/3.5.5/d3.min\"}});\n",
       "   require([\"d3\"], function(d3){\n",
       "      window.d3 = d3;\n",
       "      LDAvis_load_lib(\"https://cdn.rawgit.com/bmabey/pyLDAvis/files/ldavis.v1.0.0.js\", function(){\n",
       "        new LDAvis(\"#\" + \"ldavis_el2346425478457706963988342129\", ldavis_el2346425478457706963988342129_data);\n",
       "      });\n",
       "    });\n",
       "}else{\n",
       "    // require.js not available: dynamically load d3 & LDAvis\n",
       "    LDAvis_load_lib(\"https://cdnjs.cloudflare.com/ajax/libs/d3/3.5.5/d3.min.js\", function(){\n",
       "         LDAvis_load_lib(\"https://cdn.rawgit.com/bmabey/pyLDAvis/files/ldavis.v1.0.0.js\", function(){\n",
       "                 new LDAvis(\"#\" + \"ldavis_el2346425478457706963988342129\", ldavis_el2346425478457706963988342129_data);\n",
       "            })\n",
       "         });\n",
       "}\n",
       "</script>"
      ],
      "text/plain": [
       "PreparedData(topic_coordinates=              x         y  topics  cluster       Freq\n",
       "topic                                                \n",
       "2      0.279035  0.124697       1        1  72.243378\n",
       "0      0.071651 -0.205885       2        1  13.090160\n",
       "1     -0.216840 -0.089160       3        1   7.571286\n",
       "3     -0.133846  0.170347       4        1   7.095172, topic_info=           Term        Freq       Total Category  logprob  loglift\n",
       "219        stay  571.000000  571.000000  Default  30.0000  30.0000\n",
       "185       staff  519.000000  519.000000  Default  29.0000  29.0000\n",
       "680   breakfast  439.000000  439.000000  Default  28.0000  28.0000\n",
       "145      charge   45.000000   45.000000  Default  27.0000  27.0000\n",
       "1194       team   42.000000   42.000000  Default  26.0000  26.0000\n",
       "...         ...         ...         ...      ...      ...      ...\n",
       "170     provide    9.526408   46.971439   Topic4  -5.3428   1.0503\n",
       "144      bottle    7.069397   15.312672   Topic4  -5.6411   1.8729\n",
       "227       leave    7.050149   23.913311   Topic4  -5.6438   1.4244\n",
       "202        feel    8.878884  138.252701   Topic4  -5.4132  -0.0997\n",
       "1578        spa    7.411391   54.441891   Topic4  -5.5939   0.6516\n",
       "\n",
       "[206 rows x 6 columns], token_table=      Topic      Freq     Term\n",
       "term                          \n",
       "2153      3  0.916016  airline\n",
       "13        1  0.990370     also\n",
       "13        2  0.006039     also\n",
       "256       1  0.996022   always\n",
       "552       1  0.987864  amazing\n",
       "...     ...       ...      ...\n",
       "1026      4  0.253752    whole\n",
       "94        2  0.926629     wine\n",
       "94        3  0.048770     wine\n",
       "2042      3  0.832139  workout\n",
       "1351      4  0.834719    young\n",
       "\n",
       "[231 rows x 3 columns], R=30, lambda_step=0.01, plot_opts={'xlab': 'PC1', 'ylab': 'PC2'}, topic_order=[3, 1, 2, 4])"
      ]
     },
     "metadata": {},
     "output_type": "display_data"
    }
   ],
   "source": [
    "plot_model(lda_pos_custom, plot ='topic_model')"
   ]
  },
  {
   "cell_type": "markdown",
   "metadata": {},
   "source": [
    "## Tuning the model using Coherence Value"
   ]
  },
  {
   "cell_type": "code",
   "execution_count": 10,
   "metadata": {},
   "outputs": [
    {
     "data": {
      "application/vnd.jupyter.widget-view+json": {
       "model_id": "",
       "version_major": 2,
       "version_minor": 0
      },
      "text/plain": [
       "IntProgress(value=0, description='Processing: ', max=25)"
      ]
     },
     "metadata": {},
     "output_type": "display_data"
    },
    {
     "data": {
      "application/vnd.jupyter.widget-view+json": {
       "model_id": "553b567b56314cb3ae57464d9976348c",
       "version_major": 2,
       "version_minor": 0
      },
      "text/plain": [
       "Output()"
      ]
     },
     "metadata": {},
     "output_type": "display_data"
    },
    {
     "data": {
      "text/html": [
       "        <script type=\"text/javascript\">\n",
       "        window.PlotlyConfig = {MathJaxConfig: 'local'};\n",
       "        if (window.MathJax) {MathJax.Hub.Config({SVG: {font: \"STIX-Web\"}});}\n",
       "        if (typeof require !== 'undefined') {\n",
       "        require.undef(\"plotly\");\n",
       "        requirejs.config({\n",
       "            paths: {\n",
       "                'plotly': ['https://cdn.plot.ly/plotly-latest.min']\n",
       "            }\n",
       "        });\n",
       "        require(['plotly'], function(Plotly) {\n",
       "            window._Plotly = Plotly;\n",
       "        });\n",
       "        }\n",
       "        </script>\n",
       "        "
      ]
     },
     "metadata": {},
     "output_type": "display_data"
    },
    {
     "data": {
      "application/vnd.plotly.v1+json": {
       "config": {
        "plotlyServerURL": "https://plot.ly"
       },
       "data": [
        {
         "hovertemplate": "Metric=Coherence<br># Topics=%{x}<br>Score=%{y}<extra></extra>",
         "legendgroup": "Coherence",
         "line": {
          "color": "#636efa",
          "dash": "solid",
          "shape": "linear"
         },
         "mode": "lines",
         "name": "Coherence",
         "orientation": "v",
         "showlegend": true,
         "type": "scatter",
         "x": [
          2,
          4,
          8,
          16,
          32,
          64,
          100,
          200,
          300,
          400
         ],
         "xaxis": "x",
         "y": [
          0.3131059229768232,
          0.3441266173584367,
          0.4253164926167933,
          0.4527988334378148,
          0.4564551751768833,
          0.43583471242952404,
          0.4704708093711318,
          0.4979745384451311,
          0.5060982363744715,
          0.5112136104178192
         ],
         "yaxis": "y"
        }
       ],
       "layout": {
        "legend": {
         "title": {
          "text": "Metric"
         },
         "tracegroupgap": 0
        },
        "plot_bgcolor": "rgb(245,245,245)",
        "template": {
         "data": {
          "bar": [
           {
            "error_x": {
             "color": "#2a3f5f"
            },
            "error_y": {
             "color": "#2a3f5f"
            },
            "marker": {
             "line": {
              "color": "#E5ECF6",
              "width": 0.5
             }
            },
            "type": "bar"
           }
          ],
          "barpolar": [
           {
            "marker": {
             "line": {
              "color": "#E5ECF6",
              "width": 0.5
             }
            },
            "type": "barpolar"
           }
          ],
          "carpet": [
           {
            "aaxis": {
             "endlinecolor": "#2a3f5f",
             "gridcolor": "white",
             "linecolor": "white",
             "minorgridcolor": "white",
             "startlinecolor": "#2a3f5f"
            },
            "baxis": {
             "endlinecolor": "#2a3f5f",
             "gridcolor": "white",
             "linecolor": "white",
             "minorgridcolor": "white",
             "startlinecolor": "#2a3f5f"
            },
            "type": "carpet"
           }
          ],
          "choropleth": [
           {
            "colorbar": {
             "outlinewidth": 0,
             "ticks": ""
            },
            "type": "choropleth"
           }
          ],
          "contour": [
           {
            "colorbar": {
             "outlinewidth": 0,
             "ticks": ""
            },
            "colorscale": [
             [
              0,
              "#0d0887"
             ],
             [
              0.1111111111111111,
              "#46039f"
             ],
             [
              0.2222222222222222,
              "#7201a8"
             ],
             [
              0.3333333333333333,
              "#9c179e"
             ],
             [
              0.4444444444444444,
              "#bd3786"
             ],
             [
              0.5555555555555556,
              "#d8576b"
             ],
             [
              0.6666666666666666,
              "#ed7953"
             ],
             [
              0.7777777777777778,
              "#fb9f3a"
             ],
             [
              0.8888888888888888,
              "#fdca26"
             ],
             [
              1,
              "#f0f921"
             ]
            ],
            "type": "contour"
           }
          ],
          "contourcarpet": [
           {
            "colorbar": {
             "outlinewidth": 0,
             "ticks": ""
            },
            "type": "contourcarpet"
           }
          ],
          "heatmap": [
           {
            "colorbar": {
             "outlinewidth": 0,
             "ticks": ""
            },
            "colorscale": [
             [
              0,
              "#0d0887"
             ],
             [
              0.1111111111111111,
              "#46039f"
             ],
             [
              0.2222222222222222,
              "#7201a8"
             ],
             [
              0.3333333333333333,
              "#9c179e"
             ],
             [
              0.4444444444444444,
              "#bd3786"
             ],
             [
              0.5555555555555556,
              "#d8576b"
             ],
             [
              0.6666666666666666,
              "#ed7953"
             ],
             [
              0.7777777777777778,
              "#fb9f3a"
             ],
             [
              0.8888888888888888,
              "#fdca26"
             ],
             [
              1,
              "#f0f921"
             ]
            ],
            "type": "heatmap"
           }
          ],
          "heatmapgl": [
           {
            "colorbar": {
             "outlinewidth": 0,
             "ticks": ""
            },
            "colorscale": [
             [
              0,
              "#0d0887"
             ],
             [
              0.1111111111111111,
              "#46039f"
             ],
             [
              0.2222222222222222,
              "#7201a8"
             ],
             [
              0.3333333333333333,
              "#9c179e"
             ],
             [
              0.4444444444444444,
              "#bd3786"
             ],
             [
              0.5555555555555556,
              "#d8576b"
             ],
             [
              0.6666666666666666,
              "#ed7953"
             ],
             [
              0.7777777777777778,
              "#fb9f3a"
             ],
             [
              0.8888888888888888,
              "#fdca26"
             ],
             [
              1,
              "#f0f921"
             ]
            ],
            "type": "heatmapgl"
           }
          ],
          "histogram": [
           {
            "marker": {
             "colorbar": {
              "outlinewidth": 0,
              "ticks": ""
             }
            },
            "type": "histogram"
           }
          ],
          "histogram2d": [
           {
            "colorbar": {
             "outlinewidth": 0,
             "ticks": ""
            },
            "colorscale": [
             [
              0,
              "#0d0887"
             ],
             [
              0.1111111111111111,
              "#46039f"
             ],
             [
              0.2222222222222222,
              "#7201a8"
             ],
             [
              0.3333333333333333,
              "#9c179e"
             ],
             [
              0.4444444444444444,
              "#bd3786"
             ],
             [
              0.5555555555555556,
              "#d8576b"
             ],
             [
              0.6666666666666666,
              "#ed7953"
             ],
             [
              0.7777777777777778,
              "#fb9f3a"
             ],
             [
              0.8888888888888888,
              "#fdca26"
             ],
             [
              1,
              "#f0f921"
             ]
            ],
            "type": "histogram2d"
           }
          ],
          "histogram2dcontour": [
           {
            "colorbar": {
             "outlinewidth": 0,
             "ticks": ""
            },
            "colorscale": [
             [
              0,
              "#0d0887"
             ],
             [
              0.1111111111111111,
              "#46039f"
             ],
             [
              0.2222222222222222,
              "#7201a8"
             ],
             [
              0.3333333333333333,
              "#9c179e"
             ],
             [
              0.4444444444444444,
              "#bd3786"
             ],
             [
              0.5555555555555556,
              "#d8576b"
             ],
             [
              0.6666666666666666,
              "#ed7953"
             ],
             [
              0.7777777777777778,
              "#fb9f3a"
             ],
             [
              0.8888888888888888,
              "#fdca26"
             ],
             [
              1,
              "#f0f921"
             ]
            ],
            "type": "histogram2dcontour"
           }
          ],
          "mesh3d": [
           {
            "colorbar": {
             "outlinewidth": 0,
             "ticks": ""
            },
            "type": "mesh3d"
           }
          ],
          "parcoords": [
           {
            "line": {
             "colorbar": {
              "outlinewidth": 0,
              "ticks": ""
             }
            },
            "type": "parcoords"
           }
          ],
          "pie": [
           {
            "automargin": true,
            "type": "pie"
           }
          ],
          "scatter": [
           {
            "marker": {
             "colorbar": {
              "outlinewidth": 0,
              "ticks": ""
             }
            },
            "type": "scatter"
           }
          ],
          "scatter3d": [
           {
            "line": {
             "colorbar": {
              "outlinewidth": 0,
              "ticks": ""
             }
            },
            "marker": {
             "colorbar": {
              "outlinewidth": 0,
              "ticks": ""
             }
            },
            "type": "scatter3d"
           }
          ],
          "scattercarpet": [
           {
            "marker": {
             "colorbar": {
              "outlinewidth": 0,
              "ticks": ""
             }
            },
            "type": "scattercarpet"
           }
          ],
          "scattergeo": [
           {
            "marker": {
             "colorbar": {
              "outlinewidth": 0,
              "ticks": ""
             }
            },
            "type": "scattergeo"
           }
          ],
          "scattergl": [
           {
            "marker": {
             "colorbar": {
              "outlinewidth": 0,
              "ticks": ""
             }
            },
            "type": "scattergl"
           }
          ],
          "scattermapbox": [
           {
            "marker": {
             "colorbar": {
              "outlinewidth": 0,
              "ticks": ""
             }
            },
            "type": "scattermapbox"
           }
          ],
          "scatterpolar": [
           {
            "marker": {
             "colorbar": {
              "outlinewidth": 0,
              "ticks": ""
             }
            },
            "type": "scatterpolar"
           }
          ],
          "scatterpolargl": [
           {
            "marker": {
             "colorbar": {
              "outlinewidth": 0,
              "ticks": ""
             }
            },
            "type": "scatterpolargl"
           }
          ],
          "scatterternary": [
           {
            "marker": {
             "colorbar": {
              "outlinewidth": 0,
              "ticks": ""
             }
            },
            "type": "scatterternary"
           }
          ],
          "surface": [
           {
            "colorbar": {
             "outlinewidth": 0,
             "ticks": ""
            },
            "colorscale": [
             [
              0,
              "#0d0887"
             ],
             [
              0.1111111111111111,
              "#46039f"
             ],
             [
              0.2222222222222222,
              "#7201a8"
             ],
             [
              0.3333333333333333,
              "#9c179e"
             ],
             [
              0.4444444444444444,
              "#bd3786"
             ],
             [
              0.5555555555555556,
              "#d8576b"
             ],
             [
              0.6666666666666666,
              "#ed7953"
             ],
             [
              0.7777777777777778,
              "#fb9f3a"
             ],
             [
              0.8888888888888888,
              "#fdca26"
             ],
             [
              1,
              "#f0f921"
             ]
            ],
            "type": "surface"
           }
          ],
          "table": [
           {
            "cells": {
             "fill": {
              "color": "#EBF0F8"
             },
             "line": {
              "color": "white"
             }
            },
            "header": {
             "fill": {
              "color": "#C8D4E3"
             },
             "line": {
              "color": "white"
             }
            },
            "type": "table"
           }
          ]
         },
         "layout": {
          "annotationdefaults": {
           "arrowcolor": "#2a3f5f",
           "arrowhead": 0,
           "arrowwidth": 1
          },
          "coloraxis": {
           "colorbar": {
            "outlinewidth": 0,
            "ticks": ""
           }
          },
          "colorscale": {
           "diverging": [
            [
             0,
             "#8e0152"
            ],
            [
             0.1,
             "#c51b7d"
            ],
            [
             0.2,
             "#de77ae"
            ],
            [
             0.3,
             "#f1b6da"
            ],
            [
             0.4,
             "#fde0ef"
            ],
            [
             0.5,
             "#f7f7f7"
            ],
            [
             0.6,
             "#e6f5d0"
            ],
            [
             0.7,
             "#b8e186"
            ],
            [
             0.8,
             "#7fbc41"
            ],
            [
             0.9,
             "#4d9221"
            ],
            [
             1,
             "#276419"
            ]
           ],
           "sequential": [
            [
             0,
             "#0d0887"
            ],
            [
             0.1111111111111111,
             "#46039f"
            ],
            [
             0.2222222222222222,
             "#7201a8"
            ],
            [
             0.3333333333333333,
             "#9c179e"
            ],
            [
             0.4444444444444444,
             "#bd3786"
            ],
            [
             0.5555555555555556,
             "#d8576b"
            ],
            [
             0.6666666666666666,
             "#ed7953"
            ],
            [
             0.7777777777777778,
             "#fb9f3a"
            ],
            [
             0.8888888888888888,
             "#fdca26"
            ],
            [
             1,
             "#f0f921"
            ]
           ],
           "sequentialminus": [
            [
             0,
             "#0d0887"
            ],
            [
             0.1111111111111111,
             "#46039f"
            ],
            [
             0.2222222222222222,
             "#7201a8"
            ],
            [
             0.3333333333333333,
             "#9c179e"
            ],
            [
             0.4444444444444444,
             "#bd3786"
            ],
            [
             0.5555555555555556,
             "#d8576b"
            ],
            [
             0.6666666666666666,
             "#ed7953"
            ],
            [
             0.7777777777777778,
             "#fb9f3a"
            ],
            [
             0.8888888888888888,
             "#fdca26"
            ],
            [
             1,
             "#f0f921"
            ]
           ]
          },
          "colorway": [
           "#636efa",
           "#EF553B",
           "#00cc96",
           "#ab63fa",
           "#FFA15A",
           "#19d3f3",
           "#FF6692",
           "#B6E880",
           "#FF97FF",
           "#FECB52"
          ],
          "font": {
           "color": "#2a3f5f"
          },
          "geo": {
           "bgcolor": "white",
           "lakecolor": "white",
           "landcolor": "#E5ECF6",
           "showlakes": true,
           "showland": true,
           "subunitcolor": "white"
          },
          "hoverlabel": {
           "align": "left"
          },
          "hovermode": "closest",
          "mapbox": {
           "style": "light"
          },
          "paper_bgcolor": "white",
          "plot_bgcolor": "#E5ECF6",
          "polar": {
           "angularaxis": {
            "gridcolor": "white",
            "linecolor": "white",
            "ticks": ""
           },
           "bgcolor": "#E5ECF6",
           "radialaxis": {
            "gridcolor": "white",
            "linecolor": "white",
            "ticks": ""
           }
          },
          "scene": {
           "xaxis": {
            "backgroundcolor": "#E5ECF6",
            "gridcolor": "white",
            "gridwidth": 2,
            "linecolor": "white",
            "showbackground": true,
            "ticks": "",
            "zerolinecolor": "white"
           },
           "yaxis": {
            "backgroundcolor": "#E5ECF6",
            "gridcolor": "white",
            "gridwidth": 2,
            "linecolor": "white",
            "showbackground": true,
            "ticks": "",
            "zerolinecolor": "white"
           },
           "zaxis": {
            "backgroundcolor": "#E5ECF6",
            "gridcolor": "white",
            "gridwidth": 2,
            "linecolor": "white",
            "showbackground": true,
            "ticks": "",
            "zerolinecolor": "white"
           }
          },
          "shapedefaults": {
           "line": {
            "color": "#2a3f5f"
           }
          },
          "ternary": {
           "aaxis": {
            "gridcolor": "white",
            "linecolor": "white",
            "ticks": ""
           },
           "baxis": {
            "gridcolor": "white",
            "linecolor": "white",
            "ticks": ""
           },
           "bgcolor": "#E5ECF6",
           "caxis": {
            "gridcolor": "white",
            "linecolor": "white",
            "ticks": ""
           }
          },
          "title": {
           "x": 0.05
          },
          "xaxis": {
           "automargin": true,
           "gridcolor": "white",
           "linecolor": "white",
           "ticks": "",
           "title": {
            "standoff": 15
           },
           "zerolinecolor": "white",
           "zerolinewidth": 2
          },
          "yaxis": {
           "automargin": true,
           "gridcolor": "white",
           "linecolor": "white",
           "ticks": "",
           "title": {
            "standoff": 15
           },
           "zerolinecolor": "white",
           "zerolinewidth": 2
          }
         }
        },
        "title": {
         "text": "Coherence Value and # of Topics"
        },
        "xaxis": {
         "anchor": "y",
         "domain": [
          0,
          1
         ],
         "title": {
          "text": "# Topics"
         }
        },
        "yaxis": {
         "anchor": "x",
         "domain": [
          0,
          1
         ],
         "title": {
          "text": "Score"
         }
        }
       }
      },
      "text/html": [
       "<div>\n",
       "        \n",
       "        \n",
       "            <div id=\"72d58165-d911-41c2-a86c-323ed05142de\" class=\"plotly-graph-div\" style=\"height:525px; width:100%;\"></div>\n",
       "            <script type=\"text/javascript\">\n",
       "                require([\"plotly\"], function(Plotly) {\n",
       "                    window.PLOTLYENV=window.PLOTLYENV || {};\n",
       "                    \n",
       "                if (document.getElementById(\"72d58165-d911-41c2-a86c-323ed05142de\")) {\n",
       "                    Plotly.newPlot(\n",
       "                        '72d58165-d911-41c2-a86c-323ed05142de',\n",
       "                        [{\"hovertemplate\": \"Metric=Coherence<br># Topics=%{x}<br>Score=%{y}<extra></extra>\", \"legendgroup\": \"Coherence\", \"line\": {\"color\": \"#636efa\", \"dash\": \"solid\", \"shape\": \"linear\"}, \"mode\": \"lines\", \"name\": \"Coherence\", \"orientation\": \"v\", \"showlegend\": true, \"type\": \"scatter\", \"x\": [2, 4, 8, 16, 32, 64, 100, 200, 300, 400], \"xaxis\": \"x\", \"y\": [0.3131059229768232, 0.3441266173584367, 0.4253164926167933, 0.4527988334378148, 0.4564551751768833, 0.43583471242952404, 0.4704708093711318, 0.4979745384451311, 0.5060982363744715, 0.5112136104178192], \"yaxis\": \"y\"}],\n",
       "                        {\"legend\": {\"title\": {\"text\": \"Metric\"}, \"tracegroupgap\": 0}, \"plot_bgcolor\": \"rgb(245,245,245)\", \"template\": {\"data\": {\"bar\": [{\"error_x\": {\"color\": \"#2a3f5f\"}, \"error_y\": {\"color\": \"#2a3f5f\"}, \"marker\": {\"line\": {\"color\": \"#E5ECF6\", \"width\": 0.5}}, \"type\": \"bar\"}], \"barpolar\": [{\"marker\": {\"line\": {\"color\": \"#E5ECF6\", \"width\": 0.5}}, \"type\": \"barpolar\"}], \"carpet\": [{\"aaxis\": {\"endlinecolor\": \"#2a3f5f\", \"gridcolor\": \"white\", \"linecolor\": \"white\", \"minorgridcolor\": \"white\", \"startlinecolor\": \"#2a3f5f\"}, \"baxis\": {\"endlinecolor\": \"#2a3f5f\", \"gridcolor\": \"white\", \"linecolor\": \"white\", \"minorgridcolor\": \"white\", \"startlinecolor\": \"#2a3f5f\"}, \"type\": \"carpet\"}], \"choropleth\": [{\"colorbar\": {\"outlinewidth\": 0, \"ticks\": \"\"}, \"type\": \"choropleth\"}], \"contour\": [{\"colorbar\": {\"outlinewidth\": 0, \"ticks\": \"\"}, \"colorscale\": [[0.0, \"#0d0887\"], [0.1111111111111111, \"#46039f\"], [0.2222222222222222, \"#7201a8\"], [0.3333333333333333, \"#9c179e\"], [0.4444444444444444, \"#bd3786\"], [0.5555555555555556, \"#d8576b\"], [0.6666666666666666, \"#ed7953\"], [0.7777777777777778, \"#fb9f3a\"], [0.8888888888888888, \"#fdca26\"], [1.0, \"#f0f921\"]], \"type\": \"contour\"}], \"contourcarpet\": [{\"colorbar\": {\"outlinewidth\": 0, \"ticks\": \"\"}, \"type\": \"contourcarpet\"}], \"heatmap\": [{\"colorbar\": {\"outlinewidth\": 0, \"ticks\": \"\"}, \"colorscale\": [[0.0, \"#0d0887\"], [0.1111111111111111, \"#46039f\"], [0.2222222222222222, \"#7201a8\"], [0.3333333333333333, \"#9c179e\"], [0.4444444444444444, \"#bd3786\"], [0.5555555555555556, \"#d8576b\"], [0.6666666666666666, \"#ed7953\"], [0.7777777777777778, \"#fb9f3a\"], [0.8888888888888888, \"#fdca26\"], [1.0, \"#f0f921\"]], \"type\": \"heatmap\"}], \"heatmapgl\": [{\"colorbar\": {\"outlinewidth\": 0, \"ticks\": \"\"}, \"colorscale\": [[0.0, \"#0d0887\"], [0.1111111111111111, \"#46039f\"], [0.2222222222222222, \"#7201a8\"], [0.3333333333333333, \"#9c179e\"], [0.4444444444444444, \"#bd3786\"], [0.5555555555555556, \"#d8576b\"], [0.6666666666666666, \"#ed7953\"], [0.7777777777777778, \"#fb9f3a\"], [0.8888888888888888, \"#fdca26\"], [1.0, \"#f0f921\"]], \"type\": \"heatmapgl\"}], \"histogram\": [{\"marker\": {\"colorbar\": {\"outlinewidth\": 0, \"ticks\": \"\"}}, \"type\": \"histogram\"}], \"histogram2d\": [{\"colorbar\": {\"outlinewidth\": 0, \"ticks\": \"\"}, \"colorscale\": [[0.0, \"#0d0887\"], [0.1111111111111111, \"#46039f\"], [0.2222222222222222, \"#7201a8\"], [0.3333333333333333, \"#9c179e\"], [0.4444444444444444, \"#bd3786\"], [0.5555555555555556, \"#d8576b\"], [0.6666666666666666, \"#ed7953\"], [0.7777777777777778, \"#fb9f3a\"], [0.8888888888888888, \"#fdca26\"], [1.0, \"#f0f921\"]], \"type\": \"histogram2d\"}], \"histogram2dcontour\": [{\"colorbar\": {\"outlinewidth\": 0, \"ticks\": \"\"}, \"colorscale\": [[0.0, \"#0d0887\"], [0.1111111111111111, \"#46039f\"], [0.2222222222222222, \"#7201a8\"], [0.3333333333333333, \"#9c179e\"], [0.4444444444444444, \"#bd3786\"], [0.5555555555555556, \"#d8576b\"], [0.6666666666666666, \"#ed7953\"], [0.7777777777777778, \"#fb9f3a\"], [0.8888888888888888, \"#fdca26\"], [1.0, \"#f0f921\"]], \"type\": \"histogram2dcontour\"}], \"mesh3d\": [{\"colorbar\": {\"outlinewidth\": 0, \"ticks\": \"\"}, \"type\": \"mesh3d\"}], \"parcoords\": [{\"line\": {\"colorbar\": {\"outlinewidth\": 0, \"ticks\": \"\"}}, \"type\": \"parcoords\"}], \"pie\": [{\"automargin\": true, \"type\": \"pie\"}], \"scatter\": [{\"marker\": {\"colorbar\": {\"outlinewidth\": 0, \"ticks\": \"\"}}, \"type\": \"scatter\"}], \"scatter3d\": [{\"line\": {\"colorbar\": {\"outlinewidth\": 0, \"ticks\": \"\"}}, \"marker\": {\"colorbar\": {\"outlinewidth\": 0, \"ticks\": \"\"}}, \"type\": \"scatter3d\"}], \"scattercarpet\": [{\"marker\": {\"colorbar\": {\"outlinewidth\": 0, \"ticks\": \"\"}}, \"type\": \"scattercarpet\"}], \"scattergeo\": [{\"marker\": {\"colorbar\": {\"outlinewidth\": 0, \"ticks\": \"\"}}, \"type\": \"scattergeo\"}], \"scattergl\": [{\"marker\": {\"colorbar\": {\"outlinewidth\": 0, \"ticks\": \"\"}}, \"type\": \"scattergl\"}], \"scattermapbox\": [{\"marker\": {\"colorbar\": {\"outlinewidth\": 0, \"ticks\": \"\"}}, \"type\": \"scattermapbox\"}], \"scatterpolar\": [{\"marker\": {\"colorbar\": {\"outlinewidth\": 0, \"ticks\": \"\"}}, \"type\": \"scatterpolar\"}], \"scatterpolargl\": [{\"marker\": {\"colorbar\": {\"outlinewidth\": 0, \"ticks\": \"\"}}, \"type\": \"scatterpolargl\"}], \"scatterternary\": [{\"marker\": {\"colorbar\": {\"outlinewidth\": 0, \"ticks\": \"\"}}, \"type\": \"scatterternary\"}], \"surface\": [{\"colorbar\": {\"outlinewidth\": 0, \"ticks\": \"\"}, \"colorscale\": [[0.0, \"#0d0887\"], [0.1111111111111111, \"#46039f\"], [0.2222222222222222, \"#7201a8\"], [0.3333333333333333, \"#9c179e\"], [0.4444444444444444, \"#bd3786\"], [0.5555555555555556, \"#d8576b\"], [0.6666666666666666, \"#ed7953\"], [0.7777777777777778, \"#fb9f3a\"], [0.8888888888888888, \"#fdca26\"], [1.0, \"#f0f921\"]], \"type\": \"surface\"}], \"table\": [{\"cells\": {\"fill\": {\"color\": \"#EBF0F8\"}, \"line\": {\"color\": \"white\"}}, \"header\": {\"fill\": {\"color\": \"#C8D4E3\"}, \"line\": {\"color\": \"white\"}}, \"type\": \"table\"}]}, \"layout\": {\"annotationdefaults\": {\"arrowcolor\": \"#2a3f5f\", \"arrowhead\": 0, \"arrowwidth\": 1}, \"coloraxis\": {\"colorbar\": {\"outlinewidth\": 0, \"ticks\": \"\"}}, \"colorscale\": {\"diverging\": [[0, \"#8e0152\"], [0.1, \"#c51b7d\"], [0.2, \"#de77ae\"], [0.3, \"#f1b6da\"], [0.4, \"#fde0ef\"], [0.5, \"#f7f7f7\"], [0.6, \"#e6f5d0\"], [0.7, \"#b8e186\"], [0.8, \"#7fbc41\"], [0.9, \"#4d9221\"], [1, \"#276419\"]], \"sequential\": [[0.0, \"#0d0887\"], [0.1111111111111111, \"#46039f\"], [0.2222222222222222, \"#7201a8\"], [0.3333333333333333, \"#9c179e\"], [0.4444444444444444, \"#bd3786\"], [0.5555555555555556, \"#d8576b\"], [0.6666666666666666, \"#ed7953\"], [0.7777777777777778, \"#fb9f3a\"], [0.8888888888888888, \"#fdca26\"], [1.0, \"#f0f921\"]], \"sequentialminus\": [[0.0, \"#0d0887\"], [0.1111111111111111, \"#46039f\"], [0.2222222222222222, \"#7201a8\"], [0.3333333333333333, \"#9c179e\"], [0.4444444444444444, \"#bd3786\"], [0.5555555555555556, \"#d8576b\"], [0.6666666666666666, \"#ed7953\"], [0.7777777777777778, \"#fb9f3a\"], [0.8888888888888888, \"#fdca26\"], [1.0, \"#f0f921\"]]}, \"colorway\": [\"#636efa\", \"#EF553B\", \"#00cc96\", \"#ab63fa\", \"#FFA15A\", \"#19d3f3\", \"#FF6692\", \"#B6E880\", \"#FF97FF\", \"#FECB52\"], \"font\": {\"color\": \"#2a3f5f\"}, \"geo\": {\"bgcolor\": \"white\", \"lakecolor\": \"white\", \"landcolor\": \"#E5ECF6\", \"showlakes\": true, \"showland\": true, \"subunitcolor\": \"white\"}, \"hoverlabel\": {\"align\": \"left\"}, \"hovermode\": \"closest\", \"mapbox\": {\"style\": \"light\"}, \"paper_bgcolor\": \"white\", \"plot_bgcolor\": \"#E5ECF6\", \"polar\": {\"angularaxis\": {\"gridcolor\": \"white\", \"linecolor\": \"white\", \"ticks\": \"\"}, \"bgcolor\": \"#E5ECF6\", \"radialaxis\": {\"gridcolor\": \"white\", \"linecolor\": \"white\", \"ticks\": \"\"}}, \"scene\": {\"xaxis\": {\"backgroundcolor\": \"#E5ECF6\", \"gridcolor\": \"white\", \"gridwidth\": 2, \"linecolor\": \"white\", \"showbackground\": true, \"ticks\": \"\", \"zerolinecolor\": \"white\"}, \"yaxis\": {\"backgroundcolor\": \"#E5ECF6\", \"gridcolor\": \"white\", \"gridwidth\": 2, \"linecolor\": \"white\", \"showbackground\": true, \"ticks\": \"\", \"zerolinecolor\": \"white\"}, \"zaxis\": {\"backgroundcolor\": \"#E5ECF6\", \"gridcolor\": \"white\", \"gridwidth\": 2, \"linecolor\": \"white\", \"showbackground\": true, \"ticks\": \"\", \"zerolinecolor\": \"white\"}}, \"shapedefaults\": {\"line\": {\"color\": \"#2a3f5f\"}}, \"ternary\": {\"aaxis\": {\"gridcolor\": \"white\", \"linecolor\": \"white\", \"ticks\": \"\"}, \"baxis\": {\"gridcolor\": \"white\", \"linecolor\": \"white\", \"ticks\": \"\"}, \"bgcolor\": \"#E5ECF6\", \"caxis\": {\"gridcolor\": \"white\", \"linecolor\": \"white\", \"ticks\": \"\"}}, \"title\": {\"x\": 0.05}, \"xaxis\": {\"automargin\": true, \"gridcolor\": \"white\", \"linecolor\": \"white\", \"ticks\": \"\", \"title\": {\"standoff\": 15}, \"zerolinecolor\": \"white\", \"zerolinewidth\": 2}, \"yaxis\": {\"automargin\": true, \"gridcolor\": \"white\", \"linecolor\": \"white\", \"ticks\": \"\", \"title\": {\"standoff\": 15}, \"zerolinecolor\": \"white\", \"zerolinewidth\": 2}}}, \"title\": {\"text\": \"Coherence Value and # of Topics\"}, \"xaxis\": {\"anchor\": \"y\", \"domain\": [0.0, 1.0], \"title\": {\"text\": \"# Topics\"}}, \"yaxis\": {\"anchor\": \"x\", \"domain\": [0.0, 1.0], \"title\": {\"text\": \"Score\"}}},\n",
       "                        {\"responsive\": true}\n",
       "                    ).then(function(){\n",
       "                            \n",
       "var gd = document.getElementById('72d58165-d911-41c2-a86c-323ed05142de');\n",
       "var x = new MutationObserver(function (mutations, observer) {{\n",
       "        var display = window.getComputedStyle(gd).display;\n",
       "        if (!display || display === 'none') {{\n",
       "            console.log([gd, 'removed!']);\n",
       "            Plotly.purge(gd);\n",
       "            observer.disconnect();\n",
       "        }}\n",
       "}});\n",
       "\n",
       "// Listen for the removal of the full notebook cells\n",
       "var notebookContainer = gd.closest('#notebook-container');\n",
       "if (notebookContainer) {{\n",
       "    x.observe(notebookContainer, {childList: true});\n",
       "}}\n",
       "\n",
       "// Listen for the clearing of the current output cell\n",
       "var outputEl = gd.closest('.output');\n",
       "if (outputEl) {{\n",
       "    x.observe(outputEl, {childList: true});\n",
       "}}\n",
       "\n",
       "                        })\n",
       "                };\n",
       "                });\n",
       "            </script>\n",
       "        </div>"
      ]
     },
     "metadata": {},
     "output_type": "display_data"
    },
    {
     "name": "stdout",
     "output_type": "stream",
     "text": [
      "Best Model: Latent Dirichlet Allocation | # Topics: 400 | Coherence: 0.5112\n"
     ]
    }
   ],
   "source": [
    "tune_lda_positive = tune_model(model='lda', supervised_target=None, estimator='xgboost')"
   ]
  },
  {
   "cell_type": "markdown",
   "metadata": {},
   "source": [
    "8 topics is chosen because 400 might be too much"
   ]
  },
  {
   "cell_type": "code",
   "execution_count": 11,
   "metadata": {},
   "outputs": [
    {
     "name": "stdout",
     "output_type": "stream",
     "text": [
      "LdaModel(num_terms=3319, num_topics=8, decay=0.5, chunksize=100)\n"
     ]
    }
   ],
   "source": [
    "#create an LDA model\n",
    "tuned_pos_8 = create_model('lda', num_topics = 8)\n",
    "print(tuned_pos_8)"
   ]
  },
  {
   "cell_type": "code",
   "execution_count": 12,
   "metadata": {},
   "outputs": [],
   "source": [
    "apply_tuned_pos = assign_model(tuned_pos_8)"
   ]
  },
  {
   "cell_type": "code",
   "execution_count": 13,
   "metadata": {},
   "outputs": [
    {
     "data": {
      "application/vnd.jupyter.widget-view+json": {
       "model_id": "d172b8b0499e41b4b5e3760f010abdbc",
       "version_major": 2,
       "version_minor": 0
      },
      "text/plain": [
       "interactive(children=(ToggleButtons(description='Plot Type:', icons=('',), options=(('Frequency Plot', 'freque…"
      ]
     },
     "metadata": {},
     "output_type": "display_data"
    }
   ],
   "source": [
    "evaluate_model(tuned_pos_8)"
   ]
  },
  {
   "cell_type": "code",
   "execution_count": 14,
   "metadata": {},
   "outputs": [
    {
     "data": {
      "text/html": [
       "        <script type=\"text/javascript\">\n",
       "        window.PlotlyConfig = {MathJaxConfig: 'local'};\n",
       "        if (window.MathJax) {MathJax.Hub.Config({SVG: {font: \"STIX-Web\"}});}\n",
       "        if (typeof require !== 'undefined') {\n",
       "        require.undef(\"plotly\");\n",
       "        requirejs.config({\n",
       "            paths: {\n",
       "                'plotly': ['https://cdn.plot.ly/plotly-latest.min']\n",
       "            }\n",
       "        });\n",
       "        require(['plotly'], function(Plotly) {\n",
       "            window._Plotly = Plotly;\n",
       "        });\n",
       "        }\n",
       "        </script>\n",
       "        "
      ]
     },
     "metadata": {},
     "output_type": "display_data"
    },
    {
     "data": {
      "text/html": [
       "\n",
       "<link rel=\"stylesheet\" type=\"text/css\" href=\"https://cdn.rawgit.com/bmabey/pyLDAvis/files/ldavis.v1.0.0.css\">\n",
       "\n",
       "\n",
       "<div id=\"ldavis_el2346425478937850321972185455\"></div>\n",
       "<script type=\"text/javascript\">\n",
       "\n",
       "var ldavis_el2346425478937850321972185455_data = {\"mdsDat\": {\"x\": [-0.09975546690448, -0.388003903990525, 0.3117767705824072, 0.24073941756198436, -0.18384504850934938, 0.11925519251663523, 0.018244768912626573, -0.018411730169299124], \"y\": [0.39477254205624723, 0.09349952621352942, -0.06704010067782444, 0.1853993734943282, -0.15419768013299798, -0.28438270362288603, 0.015426181243908958, -0.18347713857430537], \"topics\": [1, 2, 3, 4, 5, 6, 7, 8], \"cluster\": [1, 1, 1, 1, 1, 1, 1, 1], \"Freq\": [49.65281677246094, 27.233129501342773, 6.4966840744018555, 6.4684295654296875, 3.9132487773895264, 2.835258960723877, 1.8174102306365967, 1.583020806312561]}, \"tinfo\": {\"Term\": [\"stay\", \"staff\", \"reception\", \"great\", \"business\", \"large\", \"pool\", \"high\", \"breakfast\", \"area\", \"little\", \"guest\", \"make\", \"clean\", \"take\", \"friendly\", \"travel\", \"welcome\", \"need\", \"use\", \"find\", \"many\", \"local\", \"price\", \"even\", \"year\", \"expensive\", \"problem\", \"say\", \"relax\", \"great\", \"business\", \"clean\", \"make\", \"comfortable\", \"experience\", \"location\", \"feel\", \"trip\", \"people\", \"recommend\", \"work\", \"staff\", \"amazing\", \"home\", \"enjoy\", \"bed\", \"give\", \"perfect\", \"thank\", \"dinner\", \"overall\", \"facility\", \"help\", \"stay\", \"professional\", \"wonderful\", \"team\", \"especially\", \"meeting\", \"friendly\", \"pool\", \"night\", \"day\", \"visit\", \"breakfast\", \"really\", \"helpful\", \"always\", \"well\", \"excellent\", \"need\", \"place\", \"service\", \"also\", \"time\", \"go\", \"welcome\", \"use\", \"price\", \"definitely\", \"town\", \"standard\", \"big\", \"come\", \"many\", \"far\", \"lovely\", \"internet\", \"walk\", \"pleasant\", \"nicosia\", \"choice\", \"pay\", \"however\", \"keep\", \"back\", \"evening\", \"think\", \"never\", \"eat\", \"close\", \"buffet\", \"conference\", \"locate\", \"next\", \"lot\", \"bit\", \"year\", \"charge\", \"look\", \"small\", \"area\", \"even\", \"city\", \"quite\", \"old\", \"quality\", \"time\", \"free\", \"bar\", \"large\", \"certainly\", \"central\", \"new\", \"probably\", \"possible\", \"cold\", \"premise\", \"rich\", \"sleep\", \"light\", \"stand\", \"come_back\", \"basic\", \"soon\", \"plentiful\", \"busy\", \"maybe\", \"traffic\", \"daily\", \"reach\", \"interesting\", \"building\", \"almost\", \"twice\", \"certain\", \"particularly\", \"base\", \"charm\", \"lose\", \"high\", \"expensive\", \"say\", \"level\", \"little\", \"forward\", \"still\", \"value\", \"know\", \"need\", \"reception\", \"relax\", \"side\", \"floor\", \"else\", \"point\", \"take\", \"hair\", \"later\", \"average\", \"chair\", \"chain\", \"club\", \"perfectly\", \"type\", \"management\", \"compare\", \"towel\", \"addition\", \"international\", \"mostly\", \"dining\", \"describe\", \"summer\", \"complain\", \"stop\", \"believe\", \"head\", \"corporate\", \"word\", \"bedroom\", \"leave\", \"tea\", \"little\", \"ideal\", \"executive\", \"change\", \"say\", \"find\", \"still\", \"high\", \"ask\", \"treatment\", \"style\", \"call\", \"event\", \"attention\", \"request\", \"tour\", \"organise\", \"memorable\", \"highly_recommend\", \"birthday\", \"group\", \"chance\", \"congratulation\", \"furnish\", \"pamper\", \"executive_we\", \"lift\", \"diamond\", \"asset\", \"young\", \"together\", \"beauty\", \"therapist\", \"house\", \"website\", \"community\", \"single\", \"regular\", \"step\", \"lady\", \"guest\", \"exceptional\", \"cake\", \"provide\", \"suite\", \"fast\", \"know\", \"travel\", \"problem\", \"kind\", \"attentive\", \"treat\", \"run\", \"chef\", \"face\", \"follow\", \"entrance\", \"elegant\", \"anywhere\", \"airline\", \"future\", \"let\", \"interior\", \"sort\", \"heart\", \"overlook\", \"beer\", \"respond\", \"manner\", \"peace\", \"contact\", \"shuttle\", \"position\", \"boy\", \"expected\", \"screw\", \"generous\", \"decide\", \"bus\", \"cancel\", \"luxurious\", \"know\", \"shop\", \"appreciate\", \"understand\", \"popular\", \"ambience\", \"question\", \"explore\", \"waiter\", \"tidy\", \"difficulty\", \"select\", \"answer\", \"unique\", \"flat\", \"resident\", \"varied\", \"approach\", \"situate\", \"vary\", \"hence\", \"profile\", \"membership\", \"fluffy\", \"faciitie\", \"opporite\", \"swimsuit\", \"yearly\", \"passion\", \"beautifull\", \"pressure\", \"mind\", \"channel\", \"tv\", \"music\", \"lady\", \"local\", \"soft\", \"personnel\", \"super\", \"temperature\", \"improvement\", \"advantage\", \"appoint\", \"quickly\", \"site\", \"entertain\", \"calm\", \"much_trouble\", \"form\", \"highly\", \"personel\", \"information\", \"gentle\", \"complaint\", \"spotlessly\", \"favorite\", \"hold\", \"status\", \"stylish\", \"around\", \"extensively\", \"obvious\", \"sorry\", \"list\", \"appreciative\", \"insident\", \"recomend\", \"expecting\", \"music\", \"desert\", \"non\"], \"Freq\": [561.0, 510.0, 85.0, 345.0, 298.0, 59.0, 334.0, 73.0, 433.0, 141.0, 68.0, 61.0, 227.0, 224.0, 51.0, 231.0, 33.0, 96.0, 154.0, 94.0, 87.0, 93.0, 41.0, 88.0, 97.0, 95.0, 44.0, 27.0, 46.0, 35.0, 344.93109130859375, 297.5712890625, 223.4952850341797, 226.51333618164062, 162.88958740234375, 148.9112548828125, 143.67762756347656, 137.91793823242188, 92.20272827148438, 87.15542602539062, 103.85680389404297, 80.06375122070312, 506.4543151855469, 77.9095458984375, 77.47048950195312, 77.42144775390625, 75.7225341796875, 72.74508666992188, 72.29720306396484, 70.3109359741211, 62.951480865478516, 61.82465362548828, 124.79754638671875, 58.47533416748047, 555.30615234375, 56.8962516784668, 55.728675842285156, 54.5933952331543, 53.60725402832031, 53.155235290527344, 228.11929321289062, 327.9007263183594, 150.7980194091797, 158.4211883544922, 143.90032958984375, 401.4267578125, 204.17788696289062, 144.6301727294922, 132.06246948242188, 244.63580322265625, 240.41091918945312, 132.98179626464844, 106.9961929321289, 149.3312225341797, 126.23078155517578, 126.24405670166016, 92.1650390625, 95.90555572509766, 94.04500579833984, 88.28621673583984, 76.67096710205078, 76.5999755859375, 74.83248901367188, 73.5677719116211, 72.22106170654297, 92.97572326660156, 64.91780090332031, 64.5001220703125, 64.18879699707031, 58.55994415283203, 58.19327163696289, 54.85994338989258, 80.61207580566406, 51.58685302734375, 49.922637939453125, 49.37548828125, 48.14795684814453, 47.27360534667969, 45.65478515625, 44.35637283325195, 44.78434371948242, 62.298465728759766, 46.60082244873047, 41.76755905151367, 41.14710998535156, 40.33588790893555, 61.854408264160156, 81.69326782226562, 93.72620391845703, 63.33637237548828, 77.53028869628906, 78.02014923095703, 131.00015258789062, 92.15296173095703, 90.95626068115234, 60.09027862548828, 75.718505859375, 72.17498016357422, 114.96096801757812, 64.44580841064453, 65.0709457397461, 58.84199523925781, 20.20305633544922, 19.40221405029297, 19.28946304321289, 18.778995513916016, 16.154062271118164, 16.093582153320312, 16.028820037841797, 17.92453384399414, 15.494041442871094, 17.79625701904297, 13.118069648742676, 13.0483980178833, 12.390032768249512, 11.688189506530762, 11.493528366088867, 11.15483283996582, 11.063215255737305, 10.531563758850098, 10.530241966247559, 9.967843055725098, 9.79311466217041, 9.748983383178711, 9.675435066223145, 9.562602996826172, 8.941372871398926, 8.862969398498535, 8.525961875915527, 8.200631141662598, 8.048249244689941, 57.91254806518555, 35.28277587890625, 30.087825775146484, 22.999332427978516, 36.13429641723633, 12.902421951293945, 19.477964401245117, 14.011587142944336, 12.80908203125, 14.8675537109375, 84.434326171875, 35.230125427246094, 24.45218849182129, 23.791423797607422, 19.915729522705078, 18.210962295532227, 48.894954681396484, 14.405106544494629, 12.798500061035156, 12.696778297424316, 12.313010215759277, 11.874662399291992, 11.584121704101562, 11.558267593383789, 11.499085426330566, 10.770156860351562, 10.261841773986816, 10.058478355407715, 9.908712387084961, 12.387014389038086, 8.90991497039795, 8.800175666809082, 8.64366340637207, 8.329089164733887, 8.08302116394043, 15.74370288848877, 7.803379535675049, 7.755803108215332, 7.733640670776367, 6.978764533996582, 11.908430099487305, 17.576494216918945, 11.995290756225586, 31.38552474975586, 12.21591854095459, 24.917640686035156, 16.255855560302734, 16.04267692565918, 19.988618850708008, 14.162882804870605, 14.017024993896484, 10.605914115905762, 23.565753936767578, 17.658470153808594, 16.425188064575195, 14.917179107666016, 14.11514949798584, 11.677582740783691, 9.640737533569336, 8.162073135375977, 7.798569679260254, 7.669528961181641, 7.148080825805664, 6.987271785736084, 6.962571620941162, 6.312647342681885, 6.2501678466796875, 5.807504177093506, 5.687211990356445, 5.5224432945251465, 5.362794399261475, 5.359354496002197, 5.260076999664307, 5.139688491821289, 5.0362067222595215, 4.4797234535217285, 4.479111671447754, 4.469555377960205, 4.437875747680664, 4.3911285400390625, 4.342772006988525, 4.23576021194458, 15.065723419189453, 20.812341690063477, 7.203062534332275, 7.17704963684082, 11.170218467712402, 8.7716646194458, 7.056423664093018, 6.602933883666992, 32.521629333496094, 26.449758529663086, 23.88714599609375, 23.684452056884766, 12.173213005065918, 11.51941967010498, 10.476875305175781, 10.334479331970215, 8.845133781433105, 8.77925968170166, 8.367669105529785, 7.452266216278076, 7.0343451499938965, 6.678125381469727, 6.024454116821289, 5.978968143463135, 5.86488676071167, 5.5989556312561035, 5.527266979217529, 5.412879467010498, 5.30104923248291, 4.893810749053955, 4.446362495422363, 4.390256404876709, 4.1908392906188965, 3.6711435317993164, 3.584230661392212, 3.3642661571502686, 3.361389398574829, 3.2982540130615234, 7.902253150939941, 14.795560836791992, 5.208217144012451, 6.910892486572266, 3.68259334564209, 18.489181518554688, 14.20357894897461, 7.650208950042725, 5.778378486633301, 5.599445343017578, 5.2737016677856445, 5.035303115844727, 4.548802852630615, 4.360806941986084, 4.005474090576172, 3.8908863067626953, 3.595642566680908, 3.2333295345306396, 3.1491270065307617, 3.0873656272888184, 2.898603916168213, 2.868245840072632, 2.832895040512085, 2.777229070663452, 2.760999917984009, 2.499464750289917, 2.4917776584625244, 2.293595314025879, 2.1223323345184326, 2.1223323345184326, 2.1223323345184326, 2.1223323345184326, 2.120483636856079, 2.077235221862793, 1.9319419860839844, 2.910482406616211, 4.042916297912598, 5.31223726272583, 2.828536033630371, 3.8430824279785156, 4.136753559112549, 2.457824230194092, 18.751239776611328, 16.320100784301758, 5.362057209014893, 4.417402744293213, 4.300220012664795, 4.041525363922119, 3.7561028003692627, 3.4287939071655273, 3.1894285678863525, 3.1641011238098145, 3.0227577686309814, 2.9738962650299072, 2.8636138439178467, 2.746147632598877, 2.7164201736450195, 2.666881799697876, 2.6592190265655518, 2.654026508331299, 2.577242136001587, 2.416269302368164, 2.263305187225342, 2.258586883544922, 2.1137101650238037, 2.1079766750335693, 2.0381600856781006, 1.819405198097229, 1.8052209615707397, 1.8002933263778687, 1.799881935119629, 1.799881935119629, 1.799881935119629, 3.624641180038452, 2.094759464263916, 2.1663150787353516], \"Total\": [561.0, 510.0, 85.0, 345.0, 298.0, 59.0, 334.0, 73.0, 433.0, 141.0, 68.0, 61.0, 227.0, 224.0, 51.0, 231.0, 33.0, 96.0, 154.0, 94.0, 87.0, 93.0, 41.0, 88.0, 97.0, 95.0, 44.0, 27.0, 46.0, 35.0, 345.6393737792969, 298.5115661621094, 224.29339599609375, 227.42176818847656, 163.5460968017578, 149.5789031982422, 144.334228515625, 138.57583618164062, 92.85916900634766, 87.81214141845703, 104.68782806396484, 80.72027587890625, 510.6468811035156, 78.5660171508789, 78.12699127197266, 78.07782745361328, 76.37919616699219, 73.40193176269531, 72.95367431640625, 70.96732330322266, 63.613975524902344, 62.48124313354492, 126.17781829833984, 59.13203048706055, 561.906494140625, 57.57712936401367, 56.40877151489258, 55.25984573364258, 54.2638053894043, 53.81174087524414, 231.34410095214844, 334.2267761230469, 152.69375610351562, 164.28741455078125, 149.6416015625, 433.9020080566406, 215.24636840820312, 150.4457550048828, 138.50767517089844, 270.55389404296875, 270.18377685546875, 154.27264404296875, 119.28099822998047, 193.94346618652344, 165.5022735595703, 245.32394409179688, 148.72569274902344, 96.5533676147461, 94.69312286376953, 88.93379974365234, 77.3184585571289, 77.24732971191406, 75.48292541503906, 74.21537780761719, 72.86871337890625, 93.86414337158203, 65.56571197509766, 65.1488037109375, 64.83641815185547, 59.20891571044922, 58.8408203125, 55.507598876953125, 81.61399841308594, 52.23454284667969, 50.57573699951172, 50.0233268737793, 48.79554748535156, 47.92185974121094, 46.302825927734375, 45.004249572753906, 45.44696807861328, 63.245418548583984, 47.317012786865234, 42.41536331176758, 41.794464111328125, 40.9834098815918, 62.854896545410156, 83.47460174560547, 95.92909240722656, 64.669921875, 80.56356048583984, 81.46832275390625, 141.46624755859375, 97.4732666015625, 102.92060089111328, 68.0777359008789, 97.19612884521484, 90.66873931884766, 245.32394409179688, 93.90391540527344, 109.90487670898438, 59.51739501953125, 20.874156951904297, 20.072511672973633, 19.95963478088379, 19.449426651000977, 16.825185775756836, 16.764381408691406, 16.700788497924805, 18.68109893798828, 16.16469955444336, 18.59566879272461, 13.789999961853027, 13.718875885009766, 13.06131649017334, 12.359399795532227, 12.164937973022461, 11.826311111450195, 11.733390808105469, 11.201769828796387, 11.20225715637207, 10.638021469116211, 10.4646577835083, 10.419906616210938, 10.345952987670898, 10.233586311340332, 9.612944602966309, 9.53432559967041, 9.196267127990723, 8.87118148803711, 8.719614028930664, 73.6063461303711, 44.757728576660156, 46.70222854614258, 33.59566116333008, 68.09111022949219, 16.748882293701172, 34.21259689331055, 25.448091506958008, 23.590116500854492, 154.27264404296875, 85.11510467529297, 35.91072463989258, 25.133193969726562, 24.471698760986328, 20.596914291381836, 18.891178131103516, 51.00088119506836, 15.085854530334473, 13.47869873046875, 13.377654075622559, 12.99344253540039, 12.55562973022461, 12.265355110168457, 12.238997459411621, 12.179520606994629, 11.450578689575195, 10.942473411560059, 10.739030838012695, 10.589423179626465, 13.272984504699707, 9.59265422821045, 9.480838775634766, 9.324546813964844, 9.00935173034668, 8.7634859085083, 17.111343383789062, 8.483890533447266, 8.436363220214844, 8.41412353515625, 7.659367084503174, 14.267868041992188, 23.19003677368164, 15.199678421020508, 68.09111022949219, 16.69621467590332, 54.10179138183594, 30.963802337646484, 46.70222854614258, 87.22223663330078, 34.21259689331055, 73.6063461303711, 41.36909484863281, 24.251585006713867, 18.343429565429688, 17.109954833984375, 15.601555824279785, 14.800765037536621, 12.362401962280273, 10.3264799118042, 8.84727954864502, 8.484009742736816, 8.354511260986328, 7.832544326782227, 7.672857284545898, 7.647871494293213, 6.998002052307129, 6.93491268157959, 6.492236137390137, 6.371956825256348, 6.207857131958008, 6.047730445861816, 6.045272350311279, 5.944808483123779, 5.823834419250488, 5.720102310180664, 5.164752006530762, 5.164109706878662, 5.154468536376953, 5.122610092163086, 5.080934524536133, 5.027522087097168, 4.920126914978027, 19.518577575683594, 61.32777786254883, 15.094486236572266, 15.580891609191895, 48.28651809692383, 28.756189346313477, 17.183311462402344, 23.590116500854492, 33.22098159790039, 27.149629592895508, 24.58668327331543, 24.38395881652832, 12.872686386108398, 12.218647956848145, 11.176565170288086, 11.03381633758545, 9.546643257141113, 9.478683471679688, 9.068036079406738, 8.152386665344238, 7.733996868133545, 7.382017612457275, 6.7241363525390625, 6.680152416229248, 6.563863754272461, 6.298278331756592, 6.227388858795166, 6.112830638885498, 6.000364303588867, 5.593124866485596, 5.150735378265381, 5.089755058288574, 4.894329071044922, 4.371121883392334, 4.2834272384643555, 4.063937664031982, 4.0623626708984375, 3.997084617614746, 10.781667709350586, 24.530263900756836, 7.343488693237305, 16.909496307373047, 23.590116500854492, 19.193634033203125, 14.908634185791016, 8.356461524963379, 6.482166290283203, 6.30384635925293, 5.978378772735596, 5.7397074699401855, 5.25492000579834, 5.0652055740356445, 4.712438106536865, 4.597565650939941, 4.300324440002441, 3.9373536109924316, 3.8537051677703857, 3.7972660064697266, 3.6027486324310303, 3.5736162662506104, 3.536691427230835, 3.4823508262634277, 3.467327117919922, 3.203808069229126, 3.195890188217163, 2.9978084564208984, 2.829432249069214, 2.829432249069214, 2.829432249069214, 2.829432249069214, 2.827565908432007, 2.780864953994751, 2.6380462646484375, 4.34213924407959, 8.64990520477295, 16.603683471679688, 7.093062400817871, 19.518577575683594, 41.85958480834961, 18.189008712768555, 19.466901779174805, 17.03676414489746, 6.078274726867676, 5.134008407592773, 5.015623092651367, 4.757239818572998, 4.472067832946777, 4.144534111022949, 3.9065046310424805, 3.8798441886901855, 3.7383687496185303, 3.7004048824310303, 3.5792171955108643, 3.462899923324585, 3.431509017944336, 3.3862996101379395, 3.376850128173828, 3.370497226715088, 3.29256534576416, 3.1330370903015137, 2.9785842895507812, 2.9762206077575684, 2.8296353816986084, 2.824716091156006, 2.7547390460968018, 2.5366272926330566, 2.522728681564331, 2.5172300338745117, 2.5171759128570557, 2.5171759128570557, 2.5171759128570557, 7.093062400817871, 3.372253894805908, 3.727672576904297], \"Category\": [\"Default\", \"Default\", \"Default\", \"Default\", \"Default\", \"Default\", \"Default\", \"Default\", \"Default\", \"Default\", \"Default\", \"Default\", \"Default\", \"Default\", \"Default\", \"Default\", \"Default\", \"Default\", \"Default\", \"Default\", \"Default\", \"Default\", \"Default\", \"Default\", \"Default\", \"Default\", \"Default\", \"Default\", \"Default\", \"Default\", \"Topic1\", \"Topic1\", \"Topic1\", \"Topic1\", \"Topic1\", \"Topic1\", \"Topic1\", \"Topic1\", \"Topic1\", \"Topic1\", \"Topic1\", \"Topic1\", \"Topic1\", \"Topic1\", \"Topic1\", \"Topic1\", \"Topic1\", \"Topic1\", \"Topic1\", \"Topic1\", \"Topic1\", \"Topic1\", \"Topic1\", \"Topic1\", \"Topic1\", \"Topic1\", \"Topic1\", \"Topic1\", \"Topic1\", \"Topic1\", \"Topic1\", \"Topic1\", \"Topic1\", \"Topic1\", \"Topic1\", \"Topic1\", \"Topic1\", \"Topic1\", \"Topic1\", \"Topic1\", \"Topic1\", \"Topic1\", \"Topic1\", \"Topic1\", \"Topic1\", \"Topic1\", \"Topic1\", \"Topic2\", \"Topic2\", \"Topic2\", \"Topic2\", \"Topic2\", \"Topic2\", \"Topic2\", \"Topic2\", \"Topic2\", \"Topic2\", \"Topic2\", \"Topic2\", \"Topic2\", \"Topic2\", \"Topic2\", \"Topic2\", \"Topic2\", \"Topic2\", \"Topic2\", \"Topic2\", \"Topic2\", \"Topic2\", \"Topic2\", \"Topic2\", \"Topic2\", \"Topic2\", \"Topic2\", \"Topic2\", \"Topic2\", \"Topic2\", \"Topic2\", \"Topic2\", \"Topic2\", \"Topic2\", \"Topic2\", \"Topic2\", \"Topic2\", \"Topic2\", \"Topic2\", \"Topic2\", \"Topic2\", \"Topic2\", \"Topic2\", \"Topic2\", \"Topic3\", \"Topic3\", \"Topic3\", \"Topic3\", \"Topic3\", \"Topic3\", \"Topic3\", \"Topic3\", \"Topic3\", \"Topic3\", \"Topic3\", \"Topic3\", \"Topic3\", \"Topic3\", \"Topic3\", \"Topic3\", \"Topic3\", \"Topic3\", \"Topic3\", \"Topic3\", \"Topic3\", \"Topic3\", \"Topic3\", \"Topic3\", \"Topic3\", \"Topic3\", \"Topic3\", \"Topic3\", \"Topic3\", \"Topic3\", \"Topic3\", \"Topic3\", \"Topic3\", \"Topic3\", \"Topic3\", \"Topic3\", \"Topic3\", \"Topic3\", \"Topic3\", \"Topic3\", \"Topic4\", \"Topic4\", \"Topic4\", \"Topic4\", \"Topic4\", \"Topic4\", \"Topic4\", \"Topic4\", \"Topic4\", \"Topic4\", \"Topic4\", \"Topic4\", \"Topic4\", \"Topic4\", \"Topic4\", \"Topic4\", \"Topic4\", \"Topic4\", \"Topic4\", \"Topic4\", \"Topic4\", \"Topic4\", \"Topic4\", \"Topic4\", \"Topic4\", \"Topic4\", \"Topic4\", \"Topic4\", \"Topic4\", \"Topic4\", \"Topic4\", \"Topic4\", \"Topic4\", \"Topic4\", \"Topic4\", \"Topic4\", \"Topic4\", \"Topic4\", \"Topic4\", \"Topic4\", \"Topic4\", \"Topic4\", \"Topic5\", \"Topic5\", \"Topic5\", \"Topic5\", \"Topic5\", \"Topic5\", \"Topic5\", \"Topic5\", \"Topic5\", \"Topic5\", \"Topic5\", \"Topic5\", \"Topic5\", \"Topic5\", \"Topic5\", \"Topic5\", \"Topic5\", \"Topic5\", \"Topic5\", \"Topic5\", \"Topic5\", \"Topic5\", \"Topic5\", \"Topic5\", \"Topic5\", \"Topic5\", \"Topic5\", \"Topic5\", \"Topic5\", \"Topic5\", \"Topic5\", \"Topic5\", \"Topic5\", \"Topic5\", \"Topic5\", \"Topic5\", \"Topic5\", \"Topic5\", \"Topic6\", \"Topic6\", \"Topic6\", \"Topic6\", \"Topic6\", \"Topic6\", \"Topic6\", \"Topic6\", \"Topic6\", \"Topic6\", \"Topic6\", \"Topic6\", \"Topic6\", \"Topic6\", \"Topic6\", \"Topic6\", \"Topic6\", \"Topic6\", \"Topic6\", \"Topic6\", \"Topic6\", \"Topic6\", \"Topic6\", \"Topic6\", \"Topic6\", \"Topic6\", \"Topic6\", \"Topic6\", \"Topic6\", \"Topic6\", \"Topic6\", \"Topic6\", \"Topic6\", \"Topic6\", \"Topic6\", \"Topic7\", \"Topic7\", \"Topic7\", \"Topic7\", \"Topic7\", \"Topic7\", \"Topic7\", \"Topic7\", \"Topic7\", \"Topic7\", \"Topic7\", \"Topic7\", \"Topic7\", \"Topic7\", \"Topic7\", \"Topic7\", \"Topic7\", \"Topic7\", \"Topic7\", \"Topic7\", \"Topic7\", \"Topic7\", \"Topic7\", \"Topic7\", \"Topic7\", \"Topic7\", \"Topic7\", \"Topic7\", \"Topic7\", \"Topic7\", \"Topic7\", \"Topic7\", \"Topic7\", \"Topic7\", \"Topic7\", \"Topic7\", \"Topic7\", \"Topic8\", \"Topic8\", \"Topic8\", \"Topic8\", \"Topic8\", \"Topic8\", \"Topic8\", \"Topic8\", \"Topic8\", \"Topic8\", \"Topic8\", \"Topic8\", \"Topic8\", \"Topic8\", \"Topic8\", \"Topic8\", \"Topic8\", \"Topic8\", \"Topic8\", \"Topic8\", \"Topic8\", \"Topic8\", \"Topic8\", \"Topic8\", \"Topic8\", \"Topic8\", \"Topic8\", \"Topic8\", \"Topic8\", \"Topic8\", \"Topic8\", \"Topic8\", \"Topic8\", \"Topic8\"], \"logprob\": [30.0, 29.0, 28.0, 27.0, 26.0, 25.0, 24.0, 23.0, 22.0, 21.0, 20.0, 19.0, 18.0, 17.0, 16.0, 15.0, 14.0, 13.0, 12.0, 11.0, 10.0, 9.0, 8.0, 7.0, 6.0, 5.0, 4.0, 3.0, 2.0, 1.0, -3.699199914932251, -3.84689998626709, -4.1331000328063965, -4.119699954986572, -4.449399948120117, -4.5391998291015625, -4.574900150299072, -4.615900039672852, -5.018499851226807, -5.07480001449585, -4.899499893188477, -5.1596999168396, -3.3150999546051025, -5.186999797821045, -5.192599773406982, -5.193299770355225, -5.215400218963623, -5.2555999755859375, -5.26170015335083, -5.289599895477295, -5.400199890136719, -5.4182000160217285, -4.715799808502197, -5.473899841308594, -3.2230000495910645, -5.501299858093262, -5.521999835968018, -5.542600154876709, -5.560800075531006, -5.569300174713135, -4.11269998550415, -3.749799966812134, -4.526599884033203, -4.47730016708374, -4.573400020599365, -3.547499895095825, -4.223499774932861, -4.568299770355225, -4.659200191497803, -4.042699813842773, -4.060200214385986, -4.652299880981445, -4.869699954986572, -4.536399841308594, -4.704400062561035, -4.7042999267578125, -5.018899917602539, -4.378499984741211, -4.398099899291992, -4.461299896240234, -4.602399826049805, -4.603300094604492, -4.6265997886657715, -4.643700122833252, -4.662199974060059, -4.409599781036377, -4.768799781799316, -4.775199890136719, -4.780099868774414, -4.871799945831299, -4.8780999183654785, -4.937099933624268, -4.552299976348877, -4.998600006103516, -5.031400203704834, -5.042399883270264, -5.067599773406982, -5.085899829864502, -5.120800018310547, -5.149600028991699, -5.139999866485596, -4.809999942779541, -5.100299835205078, -5.209799766540527, -5.224699974060059, -5.244699954986572, -4.8171000480651855, -4.538899898529053, -4.401500225067139, -4.793399810791016, -4.59119987487793, -4.58489990234375, -4.066699981689453, -4.418399810791016, -4.43149995803833, -4.846099853515625, -4.6149001121521, -4.662799835205078, -4.197299957275391, -4.776100158691406, -4.76639986038208, -3.4339001178741455, -4.502900123596191, -4.543399810791016, -4.549200057983398, -4.576000213623047, -4.726600170135498, -4.730299949645996, -4.734399795532227, -4.622600078582764, -4.7683000564575195, -4.629799842834473, -4.934800148010254, -4.940100193023682, -4.9918999671936035, -5.05019998550415, -5.066999912261963, -5.09689998626709, -5.105100154876709, -5.154399871826172, -5.1545000076293945, -5.209400177001953, -5.227099895477295, -5.231599807739258, -5.239200115203857, -5.250899791717529, -5.3180999755859375, -5.326900005340576, -5.365600109100342, -5.4045000076293945, -5.423299789428711, -3.4498000144958496, -3.9453999996185303, -4.104599952697754, -4.373300075531006, -3.9214999675750732, -4.951300144195557, -4.5395002365112305, -4.868899822235107, -4.958600044250488, -4.809599876403809, -3.0683999061584473, -3.942500114440918, -4.307700157165527, -4.335100173950195, -4.512899875640869, -4.602399826049805, -3.6147000789642334, -4.8368000984191895, -4.955100059509277, -4.9629998207092285, -4.99370002746582, -5.03000020980835, -5.054800033569336, -5.057000160217285, -5.062099933624268, -5.127600193023682, -5.176000118255615, -5.196000099182129, -5.210999965667725, -4.98769998550415, -5.317200183868408, -5.329599857330322, -5.347599983215332, -5.3846001625061035, -5.414599895477295, -4.748000144958496, -5.44980001449585, -5.455999851226807, -5.458799839019775, -5.561500072479248, -5.027200222015381, -4.637800216674805, -5.019899845123291, -4.05810022354126, -5.001699924468994, -4.28879976272583, -4.71589994430542, -4.729100227355957, -4.509200096130371, -4.853799819946289, -4.864099979400635, -5.14300012588501, -3.8420000076293945, -4.1305999755859375, -4.203000068664551, -4.299300193786621, -4.354599952697754, -4.5441999435424805, -4.735799789428711, -4.902299880981445, -4.94789981842041, -4.964600086212158, -5.034999847412109, -5.057700157165527, -5.061299800872803, -5.159299850463867, -5.1691999435424805, -5.242700099945068, -5.263599872589111, -5.293000221252441, -5.322299957275391, -5.322999954223633, -5.341700077056885, -5.364799976348877, -5.385200023651123, -5.502299785614014, -5.502399921417236, -5.504499912261963, -5.51170015335083, -5.522200107574463, -5.533299922943115, -5.558300018310547, -4.289400100708008, -3.9663000106811523, -5.027299880981445, -5.030900001525879, -4.588600158691406, -4.8302998542785645, -5.047900199890137, -5.114299774169922, -3.197700023651123, -3.404400110244751, -3.5062999725341797, -3.5148000717163086, -4.1803998947143555, -4.235599994659424, -4.330399990081787, -4.344099998474121, -4.49970006942749, -4.507199764251709, -4.555200099945068, -4.67110013961792, -4.728799819946289, -4.780799865722656, -4.883800029754639, -4.89139986038208, -4.910600185394287, -4.956999778747559, -4.969900131225586, -4.990799903869629, -5.01170015335083, -5.091599941253662, -5.1875, -5.200200080871582, -5.246699810028076, -5.3790998458862305, -5.40310001373291, -5.466400146484375, -5.467199802398682, -5.486199855804443, -4.612400054931641, -3.985300064086914, -5.029399871826172, -4.746500015258789, -5.375999927520752, -3.317699909210205, -3.581399917602539, -4.200099945068359, -4.480800151824951, -4.512199878692627, -4.5721001625061035, -4.6184000968933105, -4.71999979019165, -4.762199878692627, -4.8471999168396, -4.876200199127197, -4.9552001953125, -5.061399936676025, -5.087800025939941, -5.107600212097168, -5.170599937438965, -5.18120002746582, -5.193600177764893, -5.213399887084961, -5.219299793243408, -5.31879997253418, -5.321899890899658, -5.404799938201904, -5.482399940490723, -5.482399940490723, -5.482399940490723, -5.482399940490723, -5.4832000732421875, -5.503799915313721, -5.576399803161621, -5.166600227355957, -4.837900161743164, -4.564899921417236, -5.195099830627441, -4.888599872589111, -4.815000057220459, -5.335599899291992, -3.1654999256134033, -3.3043999671936035, -4.417500019073486, -4.611199855804443, -4.6381001472473145, -4.700200080871582, -4.773399829864502, -4.86460018157959, -4.936999797821045, -4.944900035858154, -4.990600109100342, -5.006899833679199, -5.0447001457214355, -5.086599826812744, -5.097499847412109, -5.115900039672852, -5.118800163269043, -5.120699882507324, -5.150100231170654, -5.214600086212158, -5.28000020980835, -5.282100200653076, -5.348400115966797, -5.351099967956543, -5.384799957275391, -5.498300075531006, -5.506100177764893, -5.508800029754639, -5.509099960327148, -5.509099960327148, -5.509099960327148, -4.809000015258789, -5.357399940490723, -5.323800086975098], \"loglift\": [30.0, 29.0, 28.0, 27.0, 26.0, 25.0, 24.0, 23.0, 22.0, 21.0, 20.0, 19.0, 18.0, 17.0, 16.0, 15.0, 14.0, 13.0, 12.0, 11.0, 10.0, 9.0, 8.0, 7.0, 6.0, 5.0, 4.0, 3.0, 2.0, 1.0, 0.6980999708175659, 0.6970000267028809, 0.6966000199317932, 0.6960999965667725, 0.6960999965667725, 0.6955999732017517, 0.6955999732017517, 0.6953999996185303, 0.6930000185966492, 0.6926000118255615, 0.6920999884605408, 0.6919000148773193, 0.6919000148773193, 0.6916999816894531, 0.6916999816894531, 0.6916999816894531, 0.6915000081062317, 0.691100001335144, 0.691100001335144, 0.6908000111579895, 0.6895999908447266, 0.6895999908447266, 0.6891000270843506, 0.6888999938964844, 0.6883000135421753, 0.6881999969482422, 0.6880000233650208, 0.6880000233650208, 0.6879000067710876, 0.6877999901771545, 0.6861000061035156, 0.6809999942779541, 0.6876000165939331, 0.6638000011444092, 0.6610000133514404, 0.6223000288009644, 0.6473000049591064, 0.6607000231742859, 0.6524999737739563, 0.599399983882904, 0.5834000110626221, 0.5515999794006348, 0.5914000272750854, 0.43869999051094055, 0.4291999936103821, 0.03579999879002571, 0.2215999960899353, 1.2940000295639038, 1.2939000129699707, 1.2934000492095947, 1.2922999858856201, 1.2922999858856201, 1.292099952697754, 1.2920000553131104, 1.2918000221252441, 1.291200041770935, 1.2907999753952026, 1.2906999588012695, 1.2906999588012695, 1.2897000312805176, 1.2897000312805176, 1.2890000343322754, 1.2884000539779663, 1.2883000373840332, 1.2877000570297241, 1.2877000570297241, 1.2874000072479248, 1.2870999574661255, 1.2865999937057495, 1.2862000465393066, 1.2860000133514404, 1.285599946975708, 1.2855000495910645, 1.2853000164031982, 1.285099983215332, 1.2848000526428223, 1.2847000360488892, 1.2791999578475952, 1.277500033378601, 1.2798999547958374, 1.2624000310897827, 1.2575000524520874, 1.2238999605178833, 1.2446000576019287, 1.1771999597549438, 1.1758999824523926, 1.0509999990463257, 1.07260000705719, 0.5426999926567078, 0.9243000149726868, 0.7766000032424927, 2.7225000858306885, 2.701200008392334, 2.699899911880493, 2.699700117111206, 2.6988000869750977, 2.69320011138916, 2.693000078201294, 2.6928000450134277, 2.692500114440918, 2.691499948501587, 2.6898999214172363, 2.6839001178741455, 2.683799982070923, 2.6810998916625977, 2.677999973297119, 2.6770999431610107, 2.6754000186920166, 2.675100088119507, 2.6721999645233154, 2.671999931335449, 2.668800115585327, 2.66759991645813, 2.66729998588562, 2.6668999195098877, 2.666100025177002, 2.6614999771118164, 2.660900115966797, 2.6582000255584717, 2.6552999019622803, 2.6538000106811523, 2.4941000938415527, 2.496000051498413, 2.2941999435424805, 2.3548998832702637, 2.1003000736236572, 2.4730000495910645, 2.170599937438965, 2.1370999813079834, 2.123199939727783, 0.39430001378059387, 2.7302000522613525, 2.719099998474121, 2.7107999324798584, 2.7100000381469727, 2.7046000957489014, 2.7016000747680664, 2.6960999965667725, 2.6921000480651855, 2.686500072479248, 2.686000108718872, 2.6844000816345215, 2.682499885559082, 2.6810998916625977, 2.680999994277954, 2.6807000637054443, 2.677000045776367, 2.6740000247955322, 2.672800064086914, 2.671799898147583, 2.6691999435424805, 2.664400100708008, 2.6637001037597656, 2.662400007247925, 2.6596999168395996, 2.657399892807007, 2.654900074005127, 2.654599905014038, 2.654099941253662, 2.653899908065796, 2.64520001411438, 2.557499885559082, 2.4611001014709473, 2.501499891281128, 1.9637000560760498, 2.425800085067749, 1.9629000425338745, 2.093899965286255, 1.669700026512146, 1.2648999691009521, 1.8562999963760376, 1.079800009727478, 1.3770999908447266, 3.212100028991699, 3.202699899673462, 3.200000047683716, 3.1958999633789062, 3.1933999061584473, 3.183799982070923, 3.172100067138672, 3.1602001190185547, 3.156599998474121, 3.1552999019622803, 3.149399995803833, 3.147200107574463, 3.146899938583374, 3.137700080871582, 3.1368000507354736, 3.129300117492676, 3.1270999908447266, 3.123800039291382, 3.1205999851226807, 3.1203999519348145, 3.1184000968933105, 3.115799903869629, 3.1135001182556152, 3.0985000133514404, 3.0985000133514404, 3.0982000827789307, 3.0973000526428223, 3.094899892807007, 3.094399929046631, 3.0910000801086426, 2.9818999767303467, 2.160099983215332, 2.500999927520752, 2.46560001373291, 1.776900053024292, 2.053499937057495, 2.350800037384033, 1.9674999713897705, 3.541800022125244, 3.536900043487549, 3.5341999530792236, 3.533900022506714, 3.507200002670288, 3.5041000843048096, 3.4983999729156494, 3.4976000785827637, 3.4867000579833984, 3.4863998889923096, 3.4827001094818115, 3.4732000827789307, 3.4681999683380127, 3.4628000259399414, 3.453200101852417, 3.4521000385284424, 3.4504001140594482, 3.4453001022338867, 3.4437999725341797, 3.4414000511169434, 3.4391000270843506, 3.429500102996826, 3.4159998893737793, 3.4151999950408936, 3.407900094985962, 3.3884999752044678, 3.3847999572753906, 3.3740999698638916, 3.3736000061035156, 3.3708999156951904, 3.2523000240325928, 3.057499885559082, 3.2195000648498535, 2.668299913406372, 1.7058000564575195, 3.970400094985962, 3.9593000411987305, 3.9195001125335693, 3.8928000926971436, 3.8893001079559326, 3.8822999000549316, 3.876800060272217, 3.8635001182556152, 3.8580000400543213, 3.8452000617980957, 3.84089994430542, 3.8287999629974365, 3.810800075531006, 3.805799961090088, 3.800800085067749, 3.790299892425537, 3.787899971008301, 3.785900115966797, 3.7815001010894775, 3.7799999713897705, 3.759500026702881, 3.7588999271392822, 3.740000009536743, 3.7202000617980957, 3.7202000617980957, 3.7202000617980957, 3.7202000617980957, 3.7200000286102295, 3.7160000801086426, 3.696199893951416, 3.6077001094818115, 3.2472000122070312, 2.8680999279022217, 3.088399887084961, 2.382699966430664, 1.6933000087738037, 2.006200075149536, 4.108399868011475, 4.10290002822876, 4.020500183105469, 3.995500087738037, 3.9918999671936035, 3.982800006866455, 3.971400022506714, 3.9563000202178955, 3.943000078201294, 3.9419000148773193, 3.9333999156951904, 3.927299976348877, 3.922800064086914, 3.9138998985290527, 3.9121999740600586, 3.9070000648498535, 3.906899929046631, 3.906899929046631, 3.900899887084961, 3.8861000537872314, 3.8712000846862793, 3.8698999881744385, 3.854099988937378, 3.8531999588012695, 3.844599962234497, 3.813499927520752, 3.811199903488159, 3.8106000423431396, 3.8104000091552734, 3.8104000091552734, 3.8104000091552734, 3.4744999408721924, 3.6696999073028564, 3.603100061416626]}, \"token.table\": {\"Topic\": [4, 8, 6, 3, 1, 2, 1, 2, 1, 7, 7, 6, 8, 7, 8, 7, 1, 2, 8, 2, 4, 5, 5, 6, 4, 2, 1, 2, 3, 3, 7, 5, 1, 2, 4, 6, 4, 2, 5, 2, 3, 6, 1, 2, 2, 3, 1, 6, 1, 3, 4, 5, 5, 8, 5, 6, 3, 3, 3, 4, 4, 5, 2, 4, 1, 7, 1, 2, 3, 6, 2, 1, 2, 1, 2, 4, 3, 2, 3, 1, 5, 4, 4, 8, 2, 5, 6, 4, 3, 1, 2, 5, 6, 2, 4, 3, 8, 5, 7, 4, 1, 2, 6, 4, 1, 8, 6, 1, 1, 2, 2, 5, 1, 2, 4, 5, 1, 3, 4, 5, 5, 6, 8, 3, 4, 1, 7, 8, 6, 7, 1, 2, 2, 4, 5, 8, 1, 1, 3, 4, 7, 4, 7, 6, 8, 3, 4, 1, 2, 1, 2, 5, 6, 6, 8, 1, 1, 2, 4, 1, 5, 2, 5, 4, 4, 6, 1, 1, 2, 7, 3, 4, 5, 8, 5, 8, 1, 5, 2, 3, 4, 6, 8, 8, 8, 3, 6, 4, 2, 2, 6, 3, 5, 6, 5, 7, 3, 4, 4, 5, 6, 3, 4, 5, 3, 8, 3, 4, 1, 7, 2, 1, 2, 3, 4, 3, 2, 2, 3, 6, 1, 4, 6, 2, 3, 1, 7, 5, 5, 7, 4, 8, 7, 8, 1, 2, 3, 2, 3, 2, 2, 1, 2, 3, 8, 8, 1, 2, 7, 5, 1, 6, 5, 3, 7, 2, 6, 1, 1, 4, 8, 8, 1, 2, 2, 3, 4, 1, 2, 3, 7, 6, 3, 3, 7, 2, 3, 6, 1, 7, 2, 5, 1, 2, 7, 8, 1, 2, 3, 1, 2, 4, 8, 1, 5, 4, 5, 7, 6, 3, 6, 3, 4, 6, 7, 1, 2, 7, 6, 4, 5, 8, 7, 3, 2, 3, 1, 7, 3, 8, 6, 8, 1, 2, 3, 2, 8, 1, 2, 5, 3, 4, 4, 6, 5, 8, 1, 3, 5, 4, 8, 7, 3, 4, 4, 5, 1, 8, 1, 5, 2, 7, 1, 2, 4, 5, 5, 4, 2, 3, 6, 6, 5, 1, 2, 7, 3, 4, 7, 7, 2, 1, 3, 7, 7, 1, 2, 7, 2, 5, 2, 1, 2, 1, 4, 1, 2, 3, 7, 5], \"Freq\": [0.9443385004997253, 0.7975081205368042, 0.9050947427749634, 0.966561496257782, 0.7613188624382019, 0.2356463074684143, 0.9530158042907715, 0.04331889748573303, 0.9927956461906433, 0.9517998695373535, 0.9301623702049255, 0.8586442470550537, 0.8408237099647522, 0.9390531778335571, 0.7945241332054138, 0.839485764503479, 0.07068824023008347, 0.9260159134864807, 0.7068048715591431, 0.7251790165901184, 0.2658989727497101, 0.8270925879478455, 0.9458970427513123, 0.9842536449432373, 0.9717698097229004, 0.9836962819099426, 0.40034618973731995, 0.5914205312728882, 0.9786579608917236, 0.9187435507774353, 0.7192006707191467, 0.874110221862793, 0.9950353503227234, 0.14017511904239655, 0.8410506844520569, 0.8179516792297363, 0.9429636001586914, 0.997097909450531, 0.8937070369720459, 0.9823347330093384, 0.011979691684246063, 0.9338316917419434, 0.9241718053817749, 0.0737493708729744, 0.9933002591133118, 0.9597014784812927, 0.3668937385082245, 0.6114895343780518, 0.998286247253418, 0.9301294088363647, 0.5134494304656982, 0.44926825165748596, 0.9351281523704529, 0.7732269167900085, 0.27235010266304016, 0.680875301361084, 0.9465681314468384, 0.9362375736236572, 0.9581225514411926, 0.955746591091156, 0.9235427975654602, 0.9152873754501343, 0.4521408677101135, 0.516732394695282, 0.4624328017234802, 0.4624328017234802, 0.015463138930499554, 0.9741777777671814, 0.9017964601516724, 0.8947292566299438, 0.9924768209457397, 0.10687850415706635, 0.8841767311096191, 0.9942334890365601, 0.9803081750869751, 0.9783654808998108, 0.9544044137001038, 0.9880783557891846, 0.9475995302200317, 0.9966608881950378, 0.7808519601821899, 0.9138701558113098, 0.9128787517547607, 0.8884018659591675, 0.9902072548866272, 0.8573876023292542, 0.7858924269676208, 0.9507823586463928, 0.9819449782371521, 0.9617291688919067, 0.030434466898441315, 0.18550005555152893, 0.7420002222061157, 0.995881199836731, 0.9651943445205688, 0.2965375781059265, 0.593075156211853, 0.8267564177513123, 0.8488175272941589, 0.9492831230163574, 0.9903483986854553, 0.9901650547981262, 0.882219672203064, 0.9710192084312439, 0.98619544506073, 0.7679499387741089, 0.9494989514350891, 0.9951384663581848, 0.051296114921569824, 0.9438485503196716, 0.9807632565498352, 0.9614425897598267, 0.8882842659950256, 0.10733435302972794, 0.46374550461769104, 0.46374550461769104, 0.42512455582618713, 0.03696735203266144, 0.46209192276000977, 0.07393470406532288, 0.9416259527206421, 0.738200306892395, 0.7945412397384644, 0.7819878458976746, 0.20108258724212646, 0.9961297512054443, 0.8711245059967041, 0.7080357670783997, 0.9063047170639038, 0.7068555951118469, 0.9906654357910156, 0.007925323210656643, 0.9913718104362488, 0.5819600224494934, 0.40737199783325195, 0.9111436605453491, 0.9958446025848389, 0.7108278870582581, 0.05732483044266701, 0.22929932177066803, 0.7784715890884399, 0.9807247519493103, 0.6671540141105652, 0.942739725112915, 0.8107221126556396, 0.7761712074279785, 0.17911642789840698, 0.3088263273239136, 0.6815477013587952, 0.9855449199676514, 0.012967696413397789, 0.8651875257492065, 0.9482502341270447, 0.7505470514297485, 0.8859227895736694, 0.9945242404937744, 0.6185885071754456, 0.349636971950531, 0.026895150542259216, 0.9981501698493958, 0.9123068451881409, 0.6522330045700073, 0.3424223065376282, 0.9280216693878174, 0.9482759237289429, 0.9526413083076477, 0.9808558821678162, 0.9638025164604187, 0.03323457017540932, 0.86521977186203, 0.787975549697876, 0.19020098447799683, 0.013585785403847694, 0.8381720781326294, 0.957566499710083, 0.6383582353591919, 0.9855749011039734, 0.7745769023895264, 0.9886163473129272, 0.1796814501285553, 0.7187258005142212, 0.05989381670951843, 0.7791182994842529, 0.8742509484291077, 0.7945412397384644, 0.9555974006652832, 0.8981831073760986, 0.9040920734405518, 0.9870995879173279, 0.9795430302619934, 0.976138174533844, 0.5510782599449158, 0.29673445224761963, 0.16956253349781036, 0.7684985995292664, 0.20493297278881073, 0.9913068413734436, 0.9644848108291626, 0.7761954069137573, 0.2156098335981369, 0.8923078775405884, 0.6846122145652771, 0.29765748977661133, 0.9665170907974243, 0.9679673314094543, 0.7927923202514648, 0.5287033915519714, 0.4552723467350006, 0.8839074969291687, 0.0955575630068779, 0.9809911847114563, 0.9976843595504761, 0.9681796431541443, 0.012412559241056442, 0.012412559241056442, 0.9174718260765076, 0.9863988757133484, 0.997715950012207, 0.5322452783584595, 0.413968563079834, 0.9981454610824585, 0.9606501460075378, 0.8939546346664429, 0.9907937049865723, 0.9374954104423523, 0.9849151968955994, 0.6258037090301514, 0.9429503679275513, 0.23030123114585876, 0.6909036636352539, 0.9382179379463196, 0.8024890422821045, 0.4229484796524048, 0.5639312863349915, 0.8621100783348083, 0.03889218345284462, 0.0972304567694664, 0.9776854515075684, 0.9519212245941162, 0.9760046601295471, 0.99085533618927, 0.988907516002655, 0.006549056153744459, 0.26826390624046326, 0.5365278124809265, 0.7260215878486633, 0.21605798602104187, 0.7819241285324097, 0.7068555951118469, 0.9042327404022217, 0.9922977685928345, 0.9634856581687927, 0.924180805683136, 0.9439576864242554, 0.7073221802711487, 0.9955098032951355, 0.7765881419181824, 0.9907513856887817, 0.9869276881217957, 0.9804724454879761, 0.8663259148597717, 0.9760156273841858, 0.8970414400100708, 0.10060278326272964, 0.9857102632522583, 0.9042380452156067, 0.9528257250785828, 0.9813696146011353, 0.014959902502596378, 0.002991980407387018, 0.9256165027618408, 0.9150968790054321, 0.950955331325531, 0.9580385684967041, 0.7581368088722229, 0.9895000457763672, 0.9768925309181213, 0.9576557874679565, 0.9899764060974121, 0.6242571473121643, 0.7662594318389893, 0.22780685126781464, 0.19852487742900848, 0.7940995097160339, 0.8363471627235413, 0.8944408297538757, 0.10282362997531891, 0.8813453912734985, 0.9400244355201721, 0.9477511644363403, 0.05110422894358635, 0.9868988394737244, 0.7945412397384644, 0.9934297204017639, 0.7956205606460571, 0.9746391773223877, 0.9706851243972778, 0.7900421023368835, 0.8332827091217041, 0.9635407328605652, 0.9821053743362427, 0.6423676609992981, 0.3425960838794708, 0.7384865283966064, 0.870025634765625, 0.7682651281356812, 0.22687023878097534, 0.9378109574317932, 0.8172723650932312, 0.9549124836921692, 0.7872567772865295, 0.7238449454307556, 0.8482504487037659, 0.9279479384422302, 0.9574273228645325, 0.03682412952184677, 0.8246738314628601, 0.1099565178155899, 0.9709209203720093, 0.7884485125541687, 0.9140957593917847, 0.8900763988494873, 0.9909000396728516, 0.007833201438188553, 0.942712128162384, 0.9936022162437439, 0.6714599132537842, 0.9877088069915771, 0.010677932761609554, 0.8129871487617493, 0.5553510189056396, 0.40920600295066833, 0.935052216053009, 0.058440763503313065, 0.9812777638435364, 0.6719931960105896, 0.3477512300014496, 0.31297609210014343, 0.31297609210014343, 0.8879662156105042, 0.9391455054283142, 0.7068555951118469, 0.03921500965952873, 0.9607676863670349, 0.7894904017448425, 0.19737260043621063, 0.9952977299690247, 0.822601854801178, 0.9863694310188293, 0.7744805812835693, 0.9934598803520203, 0.7897014021873474, 0.513606607913971, 0.4687679409980774, 0.016304971650242805, 0.8585408926010132, 0.9683842062950134, 0.9311827421188354, 0.9967982172966003, 0.9819876551628113, 0.9933481216430664, 0.9322063326835632, 0.9896260499954224, 0.9907476305961609, 0.6625036001205444, 0.3011379837989807, 0.9771745204925537, 0.9031553864479065, 0.9573429822921753, 0.7619330883026123, 0.9926803112030029, 0.4322524666786194, 0.5501394867897034, 0.8326975703239441, 0.8614870309829712, 0.9622992277145386, 0.03341316804289818, 0.951489269733429, 0.9964715242385864, 0.7760257124900818, 0.9942687749862671, 0.9055497050285339, 0.09240303188562393, 0.9927533864974976, 0.9139136075973511, 0.9910768866539001, 0.9798904061317444, 0.020848732441663742, 0.7068555951118469, 0.8410699963569641], \"Term\": [\"addition\", \"advantage\", \"airline\", \"almost\", \"also\", \"also\", \"always\", \"always\", \"amazing\", \"ambience\", \"answer\", \"anywhere\", \"appoint\", \"appreciate\", \"appreciative\", \"approach\", \"area\", \"area\", \"around\", \"ask\", \"ask\", \"asset\", \"attention\", \"attentive\", \"average\", \"back\", \"bar\", \"bar\", \"base\", \"basic\", \"beautifull\", \"beauty\", \"bed\", \"bedroom\", \"bedroom\", \"beer\", \"believe\", \"big\", \"birthday\", \"bit\", \"bit\", \"boy\", \"breakfast\", \"breakfast\", \"buffet\", \"building\", \"bus\", \"bus\", \"business\", \"busy\", \"cake\", \"cake\", \"call\", \"calm\", \"cancel\", \"cancel\", \"central\", \"certain\", \"certainly\", \"chain\", \"chair\", \"chance\", \"change\", \"change\", \"channel\", \"channel\", \"charge\", \"charge\", \"charm\", \"chef\", \"choice\", \"city\", \"city\", \"clean\", \"close\", \"club\", \"cold\", \"come\", \"come_back\", \"comfortable\", \"community\", \"compare\", \"complain\", \"complaint\", \"conference\", \"congratulation\", \"contact\", \"corporate\", \"daily\", \"day\", \"day\", \"decide\", \"decide\", \"definitely\", \"describe\", \"desert\", \"desert\", \"diamond\", \"difficulty\", \"dining\", \"dinner\", \"eat\", \"elegant\", \"else\", \"enjoy\", \"entertain\", \"entrance\", \"especially\", \"even\", \"even\", \"evening\", \"event\", \"excellent\", \"excellent\", \"exceptional\", \"exceptional\", \"executive\", \"executive\", \"executive\", \"executive\", \"executive_we\", \"expected\", \"expecting\", \"expensive\", \"expensive\", \"experience\", \"explore\", \"extensively\", \"face\", \"faciitie\", \"facility\", \"facility\", \"far\", \"fast\", \"fast\", \"favorite\", \"feel\", \"find\", \"find\", \"find\", \"flat\", \"floor\", \"fluffy\", \"follow\", \"form\", \"forward\", \"forward\", \"free\", \"free\", \"friendly\", \"friendly\", \"furnish\", \"future\", \"generous\", \"gentle\", \"give\", \"go\", \"go\", \"go\", \"great\", \"group\", \"guest\", \"guest\", \"hair\", \"head\", \"heart\", \"help\", \"helpful\", \"helpful\", \"hence\", \"high\", \"high\", \"high\", \"highly\", \"highly_recommend\", \"hold\", \"home\", \"house\", \"however\", \"ideal\", \"ideal\", \"ideal\", \"improvement\", \"information\", \"insident\", \"interesting\", \"interior\", \"international\", \"internet\", \"keep\", \"kind\", \"know\", \"know\", \"know\", \"lady\", \"lady\", \"large\", \"later\", \"leave\", \"leave\", \"let\", \"level\", \"level\", \"lift\", \"light\", \"list\", \"little\", \"little\", \"local\", \"local\", \"locate\", \"location\", \"look\", \"look\", \"look\", \"lose\", \"lot\", \"lovely\", \"luxurious\", \"luxurious\", \"make\", \"management\", \"manner\", \"many\", \"maybe\", \"meeting\", \"membership\", \"memorable\", \"mind\", \"mind\", \"mostly\", \"much_trouble\", \"music\", \"music\", \"need\", \"need\", \"need\", \"never\", \"new\", \"next\", \"nicosia\", \"night\", \"night\", \"non\", \"non\", \"obvious\", \"old\", \"old\", \"opporite\", \"organise\", \"overall\", \"overlook\", \"pamper\", \"particularly\", \"passion\", \"pay\", \"peace\", \"people\", \"perfect\", \"perfectly\", \"personel\", \"personnel\", \"place\", \"place\", \"pleasant\", \"plentiful\", \"point\", \"pool\", \"pool\", \"pool\", \"popular\", \"position\", \"possible\", \"premise\", \"pressure\", \"price\", \"probably\", \"problem\", \"professional\", \"profile\", \"provide\", \"provide\", \"quality\", \"quality\", \"question\", \"quickly\", \"quite\", \"quite\", \"reach\", \"really\", \"really\", \"reception\", \"recomend\", \"recommend\", \"regular\", \"relax\", \"request\", \"resident\", \"respond\", \"rich\", \"run\", \"say\", \"say\", \"screw\", \"select\", \"service\", \"service\", \"shop\", \"shuttle\", \"side\", \"single\", \"site\", \"situate\", \"sleep\", \"small\", \"small\", \"soft\", \"soft\", \"soon\", \"sorry\", \"sort\", \"spotlessly\", \"staff\", \"staff\", \"stand\", \"standard\", \"status\", \"stay\", \"stay\", \"step\", \"still\", \"still\", \"stop\", \"stop\", \"style\", \"stylish\", \"suite\", \"suite\", \"suite\", \"summer\", \"super\", \"swimsuit\", \"take\", \"take\", \"tea\", \"tea\", \"team\", \"temperature\", \"thank\", \"therapist\", \"think\", \"tidy\", \"time\", \"time\", \"time\", \"together\", \"tour\", \"towel\", \"town\", \"traffic\", \"travel\", \"treat\", \"treatment\", \"trip\", \"tv\", \"tv\", \"twice\", \"type\", \"understand\", \"unique\", \"use\", \"value\", \"value\", \"varied\", \"vary\", \"visit\", \"visit\", \"waiter\", \"walk\", \"website\", \"welcome\", \"well\", \"well\", \"wonderful\", \"word\", \"work\", \"year\", \"year\", \"yearly\", \"young\"]}, \"R\": 30, \"lambda.step\": 0.01, \"plot.opts\": {\"xlab\": \"PC1\", \"ylab\": \"PC2\"}, \"topic.order\": [8, 3, 5, 1, 4, 7, 6, 2]};\n",
       "\n",
       "function LDAvis_load_lib(url, callback){\n",
       "  var s = document.createElement('script');\n",
       "  s.src = url;\n",
       "  s.async = true;\n",
       "  s.onreadystatechange = s.onload = callback;\n",
       "  s.onerror = function(){console.warn(\"failed to load library \" + url);};\n",
       "  document.getElementsByTagName(\"head\")[0].appendChild(s);\n",
       "}\n",
       "\n",
       "if(typeof(LDAvis) !== \"undefined\"){\n",
       "   // already loaded: just create the visualization\n",
       "   !function(LDAvis){\n",
       "       new LDAvis(\"#\" + \"ldavis_el2346425478937850321972185455\", ldavis_el2346425478937850321972185455_data);\n",
       "   }(LDAvis);\n",
       "}else if(typeof define === \"function\" && define.amd){\n",
       "   // require.js is available: use it to load d3/LDAvis\n",
       "   require.config({paths: {d3: \"https://cdnjs.cloudflare.com/ajax/libs/d3/3.5.5/d3.min\"}});\n",
       "   require([\"d3\"], function(d3){\n",
       "      window.d3 = d3;\n",
       "      LDAvis_load_lib(\"https://cdn.rawgit.com/bmabey/pyLDAvis/files/ldavis.v1.0.0.js\", function(){\n",
       "        new LDAvis(\"#\" + \"ldavis_el2346425478937850321972185455\", ldavis_el2346425478937850321972185455_data);\n",
       "      });\n",
       "    });\n",
       "}else{\n",
       "    // require.js not available: dynamically load d3 & LDAvis\n",
       "    LDAvis_load_lib(\"https://cdnjs.cloudflare.com/ajax/libs/d3/3.5.5/d3.min.js\", function(){\n",
       "         LDAvis_load_lib(\"https://cdn.rawgit.com/bmabey/pyLDAvis/files/ldavis.v1.0.0.js\", function(){\n",
       "                 new LDAvis(\"#\" + \"ldavis_el2346425478937850321972185455\", ldavis_el2346425478937850321972185455_data);\n",
       "            })\n",
       "         });\n",
       "}\n",
       "</script>"
      ],
      "text/plain": [
       "PreparedData(topic_coordinates=              x         y  topics  cluster       Freq\n",
       "topic                                                \n",
       "7     -0.099755  0.394773       1        1  49.652817\n",
       "2     -0.388004  0.093500       2        1  27.233130\n",
       "4      0.311777 -0.067040       3        1   6.496684\n",
       "0      0.240739  0.185399       4        1   6.468430\n",
       "3     -0.183845 -0.154198       5        1   3.913249\n",
       "6      0.119255 -0.284383       6        1   2.835259\n",
       "5      0.018245  0.015426       7        1   1.817410\n",
       "1     -0.018412 -0.183477       8        1   1.583021, topic_info=           Term        Freq       Total Category  logprob  loglift\n",
       "219        stay  561.000000  561.000000  Default  30.0000  30.0000\n",
       "185       staff  510.000000  510.000000  Default  29.0000  29.0000\n",
       "456   reception   85.000000   85.000000  Default  28.0000  28.0000\n",
       "140       great  345.000000  345.000000  Default  27.0000  27.0000\n",
       "1      business  298.000000  298.000000  Default  26.0000  26.0000\n",
       "...         ...         ...         ...      ...      ...      ...\n",
       "3304   recomend    1.799882    2.517176   Topic8  -5.5091   3.8104\n",
       "3302  expecting    1.799882    2.517176   Topic8  -5.5091   3.8104\n",
       "239       music    3.624641    7.093062   Topic8  -4.8090   3.4745\n",
       "33       desert    2.094759    3.372254   Topic8  -5.3574   3.6697\n",
       "272         non    2.166315    3.727673   Topic8  -5.3238   3.6031\n",
       "\n",
       "[347 rows x 6 columns], token_table=      Topic      Freq       Term\n",
       "term                            \n",
       "10        4  0.944339   addition\n",
       "1698      8  0.797508  advantage\n",
       "2153      6  0.905095    airline\n",
       "12        3  0.966561     almost\n",
       "13        1  0.761319       also\n",
       "...     ...       ...        ...\n",
       "687       1  0.991077       work\n",
       "98        2  0.979890       year\n",
       "98        3  0.020849       year\n",
       "3309      7  0.706856     yearly\n",
       "1351      5  0.841070      young\n",
       "\n",
       "[390 rows x 3 columns], R=30, lambda_step=0.01, plot_opts={'xlab': 'PC1', 'ylab': 'PC2'}, topic_order=[8, 3, 5, 1, 4, 7, 6, 2])"
      ]
     },
     "metadata": {},
     "output_type": "display_data"
    }
   ],
   "source": [
    "plot_model(tuned_pos_8, plot ='topic_model', save=True)"
   ]
  },
  {
   "cell_type": "markdown",
   "metadata": {},
   "source": [
    "# Negative reviews"
   ]
  },
  {
   "cell_type": "code",
   "execution_count": 15,
   "metadata": {},
   "outputs": [
    {
     "data": {
      "text/html": [
       "<div>\n",
       "<style scoped>\n",
       "    .dataframe tbody tr th:only-of-type {\n",
       "        vertical-align: middle;\n",
       "    }\n",
       "\n",
       "    .dataframe tbody tr th {\n",
       "        vertical-align: top;\n",
       "    }\n",
       "\n",
       "    .dataframe thead th {\n",
       "        text-align: right;\n",
       "    }\n",
       "</style>\n",
       "<table border=\"1\" class=\"dataframe\">\n",
       "  <thead>\n",
       "    <tr style=\"text-align: right;\">\n",
       "      <th></th>\n",
       "      <th>Unnamed: 0</th>\n",
       "      <th>r_points</th>\n",
       "      <th>r_text</th>\n",
       "      <th>place</th>\n",
       "      <th>Unnamed: 3</th>\n",
       "      <th>Unnamed: 4</th>\n",
       "      <th>Unnamed: 5</th>\n",
       "      <th>Unnamed: 6</th>\n",
       "      <th>scores</th>\n",
       "      <th>compound</th>\n",
       "      <th>score</th>\n",
       "    </tr>\n",
       "  </thead>\n",
       "  <tbody>\n",
       "    <tr>\n",
       "      <th>0</th>\n",
       "      <td>3</td>\n",
       "      <td>30</td>\n",
       "      <td>the buffet did not have cakes although they ar...</td>\n",
       "      <td>Evohia</td>\n",
       "      <td>NaN</td>\n",
       "      <td>NaN</td>\n",
       "      <td>NaN</td>\n",
       "      <td>NaN</td>\n",
       "      <td>{'neg': 0.069, 'neu': 0.931, 'pos': 0.0, 'comp...</td>\n",
       "      <td>-0.1027</td>\n",
       "      <td>neg</td>\n",
       "    </tr>\n",
       "    <tr>\n",
       "      <th>1</th>\n",
       "      <td>47</td>\n",
       "      <td>30</td>\n",
       "      <td>Not a huge variety but the dishes are descent ...</td>\n",
       "      <td>Evohia</td>\n",
       "      <td>NaN</td>\n",
       "      <td>NaN</td>\n",
       "      <td>NaN</td>\n",
       "      <td>NaN</td>\n",
       "      <td>{'neg': 0.08, 'neu': 0.92, 'pos': 0.0, 'compou...</td>\n",
       "      <td>-0.1232</td>\n",
       "      <td>neg</td>\n",
       "    </tr>\n",
       "    <tr>\n",
       "      <th>2</th>\n",
       "      <td>51</td>\n",
       "      <td>10</td>\n",
       "      <td>Food average, friendly waiters but I think in ...</td>\n",
       "      <td>Evohia</td>\n",
       "      <td>NaN</td>\n",
       "      <td>NaN</td>\n",
       "      <td>NaN</td>\n",
       "      <td>NaN</td>\n",
       "      <td>{'neg': 0.235, 'neu': 0.701, 'pos': 0.064, 'co...</td>\n",
       "      <td>-0.7643</td>\n",
       "      <td>neg</td>\n",
       "    </tr>\n",
       "    <tr>\n",
       "      <th>3</th>\n",
       "      <td>66</td>\n",
       "      <td>20</td>\n",
       "      <td>Unfortunately we had one of our best meals (Py...</td>\n",
       "      <td>Evohia</td>\n",
       "      <td>NaN</td>\n",
       "      <td>NaN</td>\n",
       "      <td>NaN</td>\n",
       "      <td>NaN</td>\n",
       "      <td>{'neg': 0.161, 'neu': 0.786, 'pos': 0.053, 'co...</td>\n",
       "      <td>-0.8296</td>\n",
       "      <td>neg</td>\n",
       "    </tr>\n",
       "    <tr>\n",
       "      <th>4</th>\n",
       "      <td>79</td>\n",
       "      <td>30</td>\n",
       "      <td>Chain restaurant with buffet and without any c...</td>\n",
       "      <td>Evohia</td>\n",
       "      <td>NaN</td>\n",
       "      <td>NaN</td>\n",
       "      <td>NaN</td>\n",
       "      <td>NaN</td>\n",
       "      <td>{'neg': 0.097, 'neu': 0.818, 'pos': 0.086, 'co...</td>\n",
       "      <td>-0.1850</td>\n",
       "      <td>neg</td>\n",
       "    </tr>\n",
       "    <tr>\n",
       "      <th>5</th>\n",
       "      <td>85</td>\n",
       "      <td>40</td>\n",
       "      <td>Full of business people, this restaurant also ...</td>\n",
       "      <td>Evohia</td>\n",
       "      <td>NaN</td>\n",
       "      <td>NaN</td>\n",
       "      <td>NaN</td>\n",
       "      <td>NaN</td>\n",
       "      <td>{'neg': 0.1, 'neu': 0.827, 'pos': 0.073, 'comp...</td>\n",
       "      <td>-0.2344</td>\n",
       "      <td>neg</td>\n",
       "    </tr>\n",
       "    <tr>\n",
       "      <th>6</th>\n",
       "      <td>94</td>\n",
       "      <td>20</td>\n",
       "      <td>I am rating as below average because during my...</td>\n",
       "      <td>Semeli Hotel</td>\n",
       "      <td>Review 49 Similarity</td>\n",
       "      <td>0.065653</td>\n",
       "      <td>Review 136 Similarity</td>\n",
       "      <td>1.000000</td>\n",
       "      <td>{'neg': 0.094, 'neu': 0.837, 'pos': 0.069, 'co...</td>\n",
       "      <td>-0.8404</td>\n",
       "      <td>neg</td>\n",
       "    </tr>\n",
       "    <tr>\n",
       "      <th>7</th>\n",
       "      <td>96</td>\n",
       "      <td>30</td>\n",
       "      <td>Booked 5th floor double room with fridge, kett...</td>\n",
       "      <td>Semeli Hotel</td>\n",
       "      <td>Review 34 Similarity</td>\n",
       "      <td>0.294884</td>\n",
       "      <td>Review 51 Similarity</td>\n",
       "      <td>0.503362</td>\n",
       "      <td>{'neg': 0.16, 'neu': 0.762, 'pos': 0.077, 'com...</td>\n",
       "      <td>-0.9055</td>\n",
       "      <td>neg</td>\n",
       "    </tr>\n",
       "    <tr>\n",
       "      <th>8</th>\n",
       "      <td>107</td>\n",
       "      <td>30</td>\n",
       "      <td>Stayed in this Hotel several times over the pa...</td>\n",
       "      <td>Semeli Hotel</td>\n",
       "      <td>Review 143 Similarity</td>\n",
       "      <td>0.223607</td>\n",
       "      <td>Review 76 Similarity</td>\n",
       "      <td>0.475761</td>\n",
       "      <td>{'neg': 0.102, 'neu': 0.837, 'pos': 0.061, 'co...</td>\n",
       "      <td>-0.8124</td>\n",
       "      <td>neg</td>\n",
       "    </tr>\n",
       "    <tr>\n",
       "      <th>9</th>\n",
       "      <td>229</td>\n",
       "      <td>10</td>\n",
       "      <td>This is a 5 Star hotel only in name. The servi...</td>\n",
       "      <td>The Landmark Nicosia</td>\n",
       "      <td>Review 296 Similarity</td>\n",
       "      <td>0.461690</td>\n",
       "      <td>Review 108 Similarity</td>\n",
       "      <td>1.000000</td>\n",
       "      <td>{'neg': 0.128, 'neu': 0.846, 'pos': 0.026, 'co...</td>\n",
       "      <td>-0.7153</td>\n",
       "      <td>neg</td>\n",
       "    </tr>\n",
       "    <tr>\n",
       "      <th>10</th>\n",
       "      <td>259</td>\n",
       "      <td>10</td>\n",
       "      <td>Not much to say other than this hotel having g...</td>\n",
       "      <td>The Landmark Nicosia</td>\n",
       "      <td>Review 628 Similarity</td>\n",
       "      <td>0.474342</td>\n",
       "      <td>Review 87 Similarity</td>\n",
       "      <td>0.486664</td>\n",
       "      <td>{'neg': 0.105, 'neu': 0.826, 'pos': 0.069, 'co...</td>\n",
       "      <td>-0.4760</td>\n",
       "      <td>neg</td>\n",
       "    </tr>\n",
       "    <tr>\n",
       "      <th>11</th>\n",
       "      <td>302</td>\n",
       "      <td>40</td>\n",
       "      <td>Everything was perfect to this hotel. The stuf...</td>\n",
       "      <td>The Landmark Nicosia</td>\n",
       "      <td>Review 1070 Similarity</td>\n",
       "      <td>0.447214</td>\n",
       "      <td>Review 171 Similarity</td>\n",
       "      <td>0.458831</td>\n",
       "      <td>{'neg': 0.207, 'neu': 0.658, 'pos': 0.135, 'co...</td>\n",
       "      <td>-0.2419</td>\n",
       "      <td>neg</td>\n",
       "    </tr>\n",
       "    <tr>\n",
       "      <th>12</th>\n",
       "      <td>306</td>\n",
       "      <td>20</td>\n",
       "      <td>Supposedly one of the best hotels of Nikosia, ...</td>\n",
       "      <td>The Landmark Nicosia</td>\n",
       "      <td>Review 1008 Similarity</td>\n",
       "      <td>0.335410</td>\n",
       "      <td>Review 448 Similarity</td>\n",
       "      <td>0.458831</td>\n",
       "      <td>{'neg': 0.138, 'neu': 0.743, 'pos': 0.119, 'co...</td>\n",
       "      <td>-0.1744</td>\n",
       "      <td>neg</td>\n",
       "    </tr>\n",
       "    <tr>\n",
       "      <th>13</th>\n",
       "      <td>327</td>\n",
       "      <td>30</td>\n",
       "      <td>This is a typical Hilton. Clean, good service,...</td>\n",
       "      <td>The Landmark Nicosia</td>\n",
       "      <td>Review 437 Similarity</td>\n",
       "      <td>0.212132</td>\n",
       "      <td>Review 665 Similarity</td>\n",
       "      <td>0.435286</td>\n",
       "      <td>{'neg': 0.101, 'neu': 0.783, 'pos': 0.115, 'co...</td>\n",
       "      <td>-0.0781</td>\n",
       "      <td>neg</td>\n",
       "    </tr>\n",
       "    <tr>\n",
       "      <th>14</th>\n",
       "      <td>329</td>\n",
       "      <td>40</td>\n",
       "      <td>The Hilton is the Hotel I use on every trip I ...</td>\n",
       "      <td>The Landmark Nicosia</td>\n",
       "      <td>Review 825 Similarity</td>\n",
       "      <td>0.424264</td>\n",
       "      <td>Review 213 Similarity</td>\n",
       "      <td>0.435286</td>\n",
       "      <td>{'neg': 0.05, 'neu': 0.927, 'pos': 0.023, 'com...</td>\n",
       "      <td>-0.2942</td>\n",
       "      <td>neg</td>\n",
       "    </tr>\n",
       "    <tr>\n",
       "      <th>15</th>\n",
       "      <td>332</td>\n",
       "      <td>30</td>\n",
       "      <td>Good rooms, though nothing extraordinary, exce...</td>\n",
       "      <td>The Landmark Nicosia</td>\n",
       "      <td>Review 1081 Similarity</td>\n",
       "      <td>0.353553</td>\n",
       "      <td>Review 395 Similarity</td>\n",
       "      <td>0.435286</td>\n",
       "      <td>{'neg': 0.18, 'neu': 0.733, 'pos': 0.087, 'com...</td>\n",
       "      <td>-0.7776</td>\n",
       "      <td>neg</td>\n",
       "    </tr>\n",
       "    <tr>\n",
       "      <th>16</th>\n",
       "      <td>355</td>\n",
       "      <td>30</td>\n",
       "      <td>First the good. The service is absolutely firs...</td>\n",
       "      <td>The Landmark Nicosia</td>\n",
       "      <td>Review 44 Similarity</td>\n",
       "      <td>0.298807</td>\n",
       "      <td>Review 507 Similarity</td>\n",
       "      <td>0.429198</td>\n",
       "      <td>{'neg': 0.118, 'neu': 0.809, 'pos': 0.073, 'co...</td>\n",
       "      <td>-0.7140</td>\n",
       "      <td>neg</td>\n",
       "    </tr>\n",
       "    <tr>\n",
       "      <th>17</th>\n",
       "      <td>404</td>\n",
       "      <td>30</td>\n",
       "      <td>Some friend booked us 4 rooms in this Hotel la...</td>\n",
       "      <td>The Landmark Nicosia</td>\n",
       "      <td>Review 473 Similarity</td>\n",
       "      <td>0.158114</td>\n",
       "      <td>Review 734 Similarity</td>\n",
       "      <td>0.405554</td>\n",
       "      <td>{'neg': 0.13, 'neu': 0.792, 'pos': 0.078, 'com...</td>\n",
       "      <td>-0.7783</td>\n",
       "      <td>neg</td>\n",
       "    </tr>\n",
       "    <tr>\n",
       "      <th>18</th>\n",
       "      <td>412</td>\n",
       "      <td>30</td>\n",
       "      <td>Apart from the staff being polite, the whole a...</td>\n",
       "      <td>The Landmark Nicosia</td>\n",
       "      <td>Review 759 Similarity</td>\n",
       "      <td>0.447214</td>\n",
       "      <td>Review 162 Similarity</td>\n",
       "      <td>0.401478</td>\n",
       "      <td>{'neg': 0.104, 'neu': 0.839, 'pos': 0.058, 'co...</td>\n",
       "      <td>-0.3246</td>\n",
       "      <td>neg</td>\n",
       "    </tr>\n",
       "    <tr>\n",
       "      <th>19</th>\n",
       "      <td>424</td>\n",
       "      <td>10</td>\n",
       "      <td>Incredibly expensive for a very very poor brea...</td>\n",
       "      <td>The Landmark Nicosia</td>\n",
       "      <td>Review 35 Similarity</td>\n",
       "      <td>0.258199</td>\n",
       "      <td>Review 581 Similarity</td>\n",
       "      <td>0.397360</td>\n",
       "      <td>{'neg': 0.133, 'neu': 0.817, 'pos': 0.05, 'com...</td>\n",
       "      <td>-0.5913</td>\n",
       "      <td>neg</td>\n",
       "    </tr>\n",
       "    <tr>\n",
       "      <th>20</th>\n",
       "      <td>428</td>\n",
       "      <td>30</td>\n",
       "      <td>We visited the Hilton Cyprus in Nicosia for 2 ...</td>\n",
       "      <td>The Landmark Nicosia</td>\n",
       "      <td>Review 1028 Similarity</td>\n",
       "      <td>0.440386</td>\n",
       "      <td>Review 178 Similarity</td>\n",
       "      <td>0.395348</td>\n",
       "      <td>{'neg': 0.099, 'neu': 0.795, 'pos': 0.106, 'co...</td>\n",
       "      <td>-0.2177</td>\n",
       "      <td>neg</td>\n",
       "    </tr>\n",
       "    <tr>\n",
       "      <th>21</th>\n",
       "      <td>466</td>\n",
       "      <td>30</td>\n",
       "      <td>Staying here every visit mainly cause there ar...</td>\n",
       "      <td>The Landmark Nicosia</td>\n",
       "      <td>Review 792 Similarity</td>\n",
       "      <td>0.456435</td>\n",
       "      <td>Review 122 Similarity</td>\n",
       "      <td>0.374634</td>\n",
       "      <td>{'neg': 0.233, 'neu': 0.695, 'pos': 0.072, 'co...</td>\n",
       "      <td>-0.7701</td>\n",
       "      <td>neg</td>\n",
       "    </tr>\n",
       "    <tr>\n",
       "      <th>22</th>\n",
       "      <td>516</td>\n",
       "      <td>10</td>\n",
       "      <td>I stayed there for one night and it was awful....</td>\n",
       "      <td>The Landmark Nicosia</td>\n",
       "      <td>Review 495 Similarity</td>\n",
       "      <td>0.507093</td>\n",
       "      <td>Review 5 Similarity</td>\n",
       "      <td>0.346844</td>\n",
       "      <td>{'neg': 0.089, 'neu': 0.844, 'pos': 0.067, 'co...</td>\n",
       "      <td>-0.0516</td>\n",
       "      <td>neg</td>\n",
       "    </tr>\n",
       "    <tr>\n",
       "      <th>23</th>\n",
       "      <td>518</td>\n",
       "      <td>30</td>\n",
       "      <td>hotels' name was changed from Hilton to Landma...</td>\n",
       "      <td>The Landmark Nicosia</td>\n",
       "      <td>Review 38 Similarity</td>\n",
       "      <td>0.422577</td>\n",
       "      <td>Review 214 Similarity</td>\n",
       "      <td>0.346844</td>\n",
       "      <td>{'neg': 0.043, 'neu': 0.89, 'pos': 0.068, 'com...</td>\n",
       "      <td>-0.1280</td>\n",
       "      <td>neg</td>\n",
       "    </tr>\n",
       "    <tr>\n",
       "      <th>24</th>\n",
       "      <td>581</td>\n",
       "      <td>40</td>\n",
       "      <td>The hotel is one of the nicer ones available i...</td>\n",
       "      <td>The Landmark Nicosia</td>\n",
       "      <td>Review 352 Similarity</td>\n",
       "      <td>0.316228</td>\n",
       "      <td>Review 472 Similarity</td>\n",
       "      <td>0.324443</td>\n",
       "      <td>{'neg': 0.088, 'neu': 0.864, 'pos': 0.048, 'co...</td>\n",
       "      <td>-0.3818</td>\n",
       "      <td>neg</td>\n",
       "    </tr>\n",
       "    <tr>\n",
       "      <th>25</th>\n",
       "      <td>623</td>\n",
       "      <td>40</td>\n",
       "      <td>The hotel quality is very good, but the locati...</td>\n",
       "      <td>The Landmark Nicosia</td>\n",
       "      <td>Review 337 Similarity</td>\n",
       "      <td>0.243975</td>\n",
       "      <td>Review 615 Similarity</td>\n",
       "      <td>0.300376</td>\n",
       "      <td>{'neg': 0.227, 'neu': 0.71, 'pos': 0.064, 'com...</td>\n",
       "      <td>-0.9537</td>\n",
       "      <td>neg</td>\n",
       "    </tr>\n",
       "    <tr>\n",
       "      <th>26</th>\n",
       "      <td>631</td>\n",
       "      <td>20</td>\n",
       "      <td>We booked an executive suite for two nights as...</td>\n",
       "      <td>The Landmark Nicosia</td>\n",
       "      <td>Review 774 Similarity</td>\n",
       "      <td>0.394665</td>\n",
       "      <td>Review 290 Similarity</td>\n",
       "      <td>0.295901</td>\n",
       "      <td>{'neg': 0.075, 'neu': 0.846, 'pos': 0.079, 'co...</td>\n",
       "      <td>-0.5278</td>\n",
       "      <td>neg</td>\n",
       "    </tr>\n",
       "    <tr>\n",
       "      <th>27</th>\n",
       "      <td>652</td>\n",
       "      <td>20</td>\n",
       "      <td>We have stayed many times in Hilton Nicosia an...</td>\n",
       "      <td>The Landmark Nicosia</td>\n",
       "      <td>Review 246 Similarity</td>\n",
       "      <td>0.456435</td>\n",
       "      <td>Review 113 Similarity</td>\n",
       "      <td>0.280976</td>\n",
       "      <td>{'neg': 0.088, 'neu': 0.859, 'pos': 0.053, 'co...</td>\n",
       "      <td>-0.5255</td>\n",
       "      <td>neg</td>\n",
       "    </tr>\n",
       "    <tr>\n",
       "      <th>28</th>\n",
       "      <td>654</td>\n",
       "      <td>30</td>\n",
       "      <td>+ : breakfast and staff for breakfast+ : Rooms...</td>\n",
       "      <td>The Landmark Nicosia</td>\n",
       "      <td>Review 1030 Similarity</td>\n",
       "      <td>0.456435</td>\n",
       "      <td>Review 125 Similarity</td>\n",
       "      <td>0.280976</td>\n",
       "      <td>{'neg': 0.097, 'neu': 0.824, 'pos': 0.078, 'co...</td>\n",
       "      <td>-0.1027</td>\n",
       "      <td>neg</td>\n",
       "    </tr>\n",
       "    <tr>\n",
       "      <th>29</th>\n",
       "      <td>679</td>\n",
       "      <td>30</td>\n",
       "      <td>This is a landmark hotel in Lefkosia. It used ...</td>\n",
       "      <td>The Landmark Nicosia</td>\n",
       "      <td>Review 581 Similarity</td>\n",
       "      <td>0.258199</td>\n",
       "      <td>Review 591 Similarity</td>\n",
       "      <td>0.264906</td>\n",
       "      <td>{'neg': 0.055, 'neu': 0.922, 'pos': 0.022, 'co...</td>\n",
       "      <td>-0.4092</td>\n",
       "      <td>neg</td>\n",
       "    </tr>\n",
       "    <tr>\n",
       "      <th>30</th>\n",
       "      <td>739</td>\n",
       "      <td>10</td>\n",
       "      <td>Нotel staff invaded a part of our suite at nig...</td>\n",
       "      <td>The Landmark Nicosia</td>\n",
       "      <td>Review 117 Similarity</td>\n",
       "      <td>0.447214</td>\n",
       "      <td>Review 141 Similarity</td>\n",
       "      <td>0.229416</td>\n",
       "      <td>{'neg': 0.06, 'neu': 0.904, 'pos': 0.036, 'com...</td>\n",
       "      <td>-0.2263</td>\n",
       "      <td>neg</td>\n",
       "    </tr>\n",
       "    <tr>\n",
       "      <th>31</th>\n",
       "      <td>758</td>\n",
       "      <td>40</td>\n",
       "      <td>The only decent place to stay in Nicosia. Hope...</td>\n",
       "      <td>The Landmark Nicosia</td>\n",
       "      <td>Review 80 Similarity</td>\n",
       "      <td>0.000000</td>\n",
       "      <td>Review 808 Similarity</td>\n",
       "      <td>0.229416</td>\n",
       "      <td>{'neg': 0.139, 'neu': 0.705, 'pos': 0.157, 'co...</td>\n",
       "      <td>-0.0258</td>\n",
       "      <td>neg</td>\n",
       "    </tr>\n",
       "    <tr>\n",
       "      <th>32</th>\n",
       "      <td>774</td>\n",
       "      <td>40</td>\n",
       "      <td>I stayed here on business. It is well located ...</td>\n",
       "      <td>The Landmark Nicosia</td>\n",
       "      <td>Review 453 Similarity</td>\n",
       "      <td>0.404520</td>\n",
       "      <td>Review 256 Similarity</td>\n",
       "      <td>0.207514</td>\n",
       "      <td>{'neg': 0.14, 'neu': 0.703, 'pos': 0.157, 'com...</td>\n",
       "      <td>-0.1877</td>\n",
       "      <td>neg</td>\n",
       "    </tr>\n",
       "    <tr>\n",
       "      <th>33</th>\n",
       "      <td>785</td>\n",
       "      <td>30</td>\n",
       "      <td>We attended two wedding events over the weeken...</td>\n",
       "      <td>The Landmark Nicosia</td>\n",
       "      <td>Review 982 Similarity</td>\n",
       "      <td>0.200000</td>\n",
       "      <td>Review 693 Similarity</td>\n",
       "      <td>0.205196</td>\n",
       "      <td>{'neg': 0.113, 'neu': 0.825, 'pos': 0.061, 'co...</td>\n",
       "      <td>-0.7649</td>\n",
       "      <td>neg</td>\n",
       "    </tr>\n",
       "    <tr>\n",
       "      <th>34</th>\n",
       "      <td>806</td>\n",
       "      <td>10</td>\n",
       "      <td>But the restaurant food is terrible. I had the...</td>\n",
       "      <td>The Landmark Nicosia</td>\n",
       "      <td>Review 543 Similarity</td>\n",
       "      <td>0.000000</td>\n",
       "      <td>Review 816 Similarity</td>\n",
       "      <td>0.187317</td>\n",
       "      <td>{'neg': 0.154, 'neu': 0.733, 'pos': 0.113, 'co...</td>\n",
       "      <td>-0.5106</td>\n",
       "      <td>neg</td>\n",
       "    </tr>\n",
       "    <tr>\n",
       "      <th>35</th>\n",
       "      <td>807</td>\n",
       "      <td>10</td>\n",
       "      <td>Its under reconstruction of the lobby but the ...</td>\n",
       "      <td>The Landmark Nicosia</td>\n",
       "      <td>Review 1029 Similarity</td>\n",
       "      <td>0.000000</td>\n",
       "      <td>Review 825 Similarity</td>\n",
       "      <td>0.187317</td>\n",
       "      <td>{'neg': 0.178, 'neu': 0.795, 'pos': 0.027, 'co...</td>\n",
       "      <td>-0.7845</td>\n",
       "      <td>neg</td>\n",
       "    </tr>\n",
       "    <tr>\n",
       "      <th>36</th>\n",
       "      <td>812</td>\n",
       "      <td>30</td>\n",
       "      <td>Good hotel but I always feel that I am paying ...</td>\n",
       "      <td>The Landmark Nicosia</td>\n",
       "      <td>Review 781 Similarity</td>\n",
       "      <td>0.239046</td>\n",
       "      <td>Review 620 Similarity</td>\n",
       "      <td>0.183942</td>\n",
       "      <td>{'neg': 0.105, 'neu': 0.794, 'pos': 0.101, 'co...</td>\n",
       "      <td>-0.1027</td>\n",
       "      <td>neg</td>\n",
       "    </tr>\n",
       "    <tr>\n",
       "      <th>37</th>\n",
       "      <td>828</td>\n",
       "      <td>30</td>\n",
       "      <td>Overall a good experience but bar was not open...</td>\n",
       "      <td>The Landmark Nicosia</td>\n",
       "      <td>Review 732 Similarity</td>\n",
       "      <td>0.158114</td>\n",
       "      <td>Review 738 Similarity</td>\n",
       "      <td>0.162221</td>\n",
       "      <td>{'neg': 0.079, 'neu': 0.885, 'pos': 0.037, 'co...</td>\n",
       "      <td>-0.4973</td>\n",
       "      <td>neg</td>\n",
       "    </tr>\n",
       "    <tr>\n",
       "      <th>38</th>\n",
       "      <td>830</td>\n",
       "      <td>50</td>\n",
       "      <td>An island floating aw a green leave in the mid...</td>\n",
       "      <td>The Landmark Nicosia</td>\n",
       "      <td>Review 96 Similarity</td>\n",
       "      <td>0.000000</td>\n",
       "      <td>Review 809 Similarity</td>\n",
       "      <td>0.162221</td>\n",
       "      <td>{'neg': 0.056, 'neu': 0.928, 'pos': 0.016, 'co...</td>\n",
       "      <td>-0.5719</td>\n",
       "      <td>neg</td>\n",
       "    </tr>\n",
       "    <tr>\n",
       "      <th>39</th>\n",
       "      <td>858</td>\n",
       "      <td>30</td>\n",
       "      <td>Very expensive for what is on offer. It is obv...</td>\n",
       "      <td>The Landmark Nicosia</td>\n",
       "      <td>Review 708 Similarity</td>\n",
       "      <td>0.000000</td>\n",
       "      <td>Review 819 Similarity</td>\n",
       "      <td>0.132453</td>\n",
       "      <td>{'neg': 0.107, 'neu': 0.837, 'pos': 0.056, 'co...</td>\n",
       "      <td>-0.3802</td>\n",
       "      <td>neg</td>\n",
       "    </tr>\n",
       "    <tr>\n",
       "      <th>40</th>\n",
       "      <td>873</td>\n",
       "      <td>30</td>\n",
       "      <td>Dull but comfortable. clean and staff generall...</td>\n",
       "      <td>The Landmark Nicosia</td>\n",
       "      <td>Review 704 Similarity</td>\n",
       "      <td>0.500000</td>\n",
       "      <td>Review 21 Similarity</td>\n",
       "      <td>0.102598</td>\n",
       "      <td>{'neg': 0.293, 'neu': 0.454, 'pos': 0.253, 'co...</td>\n",
       "      <td>-0.2144</td>\n",
       "      <td>neg</td>\n",
       "    </tr>\n",
       "    <tr>\n",
       "      <th>41</th>\n",
       "      <td>878</td>\n",
       "      <td>30</td>\n",
       "      <td>1st time staying at this Hilton, old school ro...</td>\n",
       "      <td>The Landmark Nicosia</td>\n",
       "      <td>Review 601 Similarity</td>\n",
       "      <td>0.338062</td>\n",
       "      <td>Review 425 Similarity</td>\n",
       "      <td>0.086711</td>\n",
       "      <td>{'neg': 0.113, 'neu': 0.856, 'pos': 0.031, 'co...</td>\n",
       "      <td>-0.5859</td>\n",
       "      <td>neg</td>\n",
       "    </tr>\n",
       "    <tr>\n",
       "      <th>42</th>\n",
       "      <td>905</td>\n",
       "      <td>50</td>\n",
       "      <td>Ουσεμια κρτιτικη - Ουσεμια κρτιτικη !!! I have...</td>\n",
       "      <td>The Landmark Nicosia</td>\n",
       "      <td>Review 321 Similarity</td>\n",
       "      <td>0.000000</td>\n",
       "      <td>Review 815 Similarity</td>\n",
       "      <td>0.000000</td>\n",
       "      <td>{'neg': 0.153, 'neu': 0.781, 'pos': 0.066, 'co...</td>\n",
       "      <td>-0.5526</td>\n",
       "      <td>neg</td>\n",
       "    </tr>\n",
       "  </tbody>\n",
       "</table>\n",
       "</div>"
      ],
      "text/plain": [
       "    Unnamed: 0  r_points                                             r_text  \\\n",
       "0            3        30  the buffet did not have cakes although they ar...   \n",
       "1           47        30  Not a huge variety but the dishes are descent ...   \n",
       "2           51        10  Food average, friendly waiters but I think in ...   \n",
       "3           66        20  Unfortunately we had one of our best meals (Py...   \n",
       "4           79        30  Chain restaurant with buffet and without any c...   \n",
       "5           85        40  Full of business people, this restaurant also ...   \n",
       "6           94        20  I am rating as below average because during my...   \n",
       "7           96        30  Booked 5th floor double room with fridge, kett...   \n",
       "8          107        30  Stayed in this Hotel several times over the pa...   \n",
       "9          229        10  This is a 5 Star hotel only in name. The servi...   \n",
       "10         259        10  Not much to say other than this hotel having g...   \n",
       "11         302        40  Everything was perfect to this hotel. The stuf...   \n",
       "12         306        20  Supposedly one of the best hotels of Nikosia, ...   \n",
       "13         327        30  This is a typical Hilton. Clean, good service,...   \n",
       "14         329        40  The Hilton is the Hotel I use on every trip I ...   \n",
       "15         332        30  Good rooms, though nothing extraordinary, exce...   \n",
       "16         355        30  First the good. The service is absolutely firs...   \n",
       "17         404        30  Some friend booked us 4 rooms in this Hotel la...   \n",
       "18         412        30  Apart from the staff being polite, the whole a...   \n",
       "19         424        10  Incredibly expensive for a very very poor brea...   \n",
       "20         428        30  We visited the Hilton Cyprus in Nicosia for 2 ...   \n",
       "21         466        30  Staying here every visit mainly cause there ar...   \n",
       "22         516        10  I stayed there for one night and it was awful....   \n",
       "23         518        30  hotels' name was changed from Hilton to Landma...   \n",
       "24         581        40  The hotel is one of the nicer ones available i...   \n",
       "25         623        40  The hotel quality is very good, but the locati...   \n",
       "26         631        20  We booked an executive suite for two nights as...   \n",
       "27         652        20  We have stayed many times in Hilton Nicosia an...   \n",
       "28         654        30  + : breakfast and staff for breakfast+ : Rooms...   \n",
       "29         679        30  This is a landmark hotel in Lefkosia. It used ...   \n",
       "30         739        10  Нotel staff invaded a part of our suite at nig...   \n",
       "31         758        40  The only decent place to stay in Nicosia. Hope...   \n",
       "32         774        40  I stayed here on business. It is well located ...   \n",
       "33         785        30  We attended two wedding events over the weeken...   \n",
       "34         806        10  But the restaurant food is terrible. I had the...   \n",
       "35         807        10  Its under reconstruction of the lobby but the ...   \n",
       "36         812        30  Good hotel but I always feel that I am paying ...   \n",
       "37         828        30  Overall a good experience but bar was not open...   \n",
       "38         830        50  An island floating aw a green leave in the mid...   \n",
       "39         858        30  Very expensive for what is on offer. It is obv...   \n",
       "40         873        30  Dull but comfortable. clean and staff generall...   \n",
       "41         878        30  1st time staying at this Hilton, old school ro...   \n",
       "42         905        50  Ουσεμια κρτιτικη - Ουσεμια κρτιτικη !!! I have...   \n",
       "\n",
       "                   place              Unnamed: 3  Unnamed: 4  \\\n",
       "0                 Evohia                     NaN         NaN   \n",
       "1                 Evohia                     NaN         NaN   \n",
       "2                 Evohia                     NaN         NaN   \n",
       "3                 Evohia                     NaN         NaN   \n",
       "4                 Evohia                     NaN         NaN   \n",
       "5                 Evohia                     NaN         NaN   \n",
       "6           Semeli Hotel    Review 49 Similarity    0.065653   \n",
       "7           Semeli Hotel    Review 34 Similarity    0.294884   \n",
       "8           Semeli Hotel   Review 143 Similarity    0.223607   \n",
       "9   The Landmark Nicosia   Review 296 Similarity    0.461690   \n",
       "10  The Landmark Nicosia   Review 628 Similarity    0.474342   \n",
       "11  The Landmark Nicosia  Review 1070 Similarity    0.447214   \n",
       "12  The Landmark Nicosia  Review 1008 Similarity    0.335410   \n",
       "13  The Landmark Nicosia   Review 437 Similarity    0.212132   \n",
       "14  The Landmark Nicosia   Review 825 Similarity    0.424264   \n",
       "15  The Landmark Nicosia  Review 1081 Similarity    0.353553   \n",
       "16  The Landmark Nicosia    Review 44 Similarity    0.298807   \n",
       "17  The Landmark Nicosia   Review 473 Similarity    0.158114   \n",
       "18  The Landmark Nicosia   Review 759 Similarity    0.447214   \n",
       "19  The Landmark Nicosia    Review 35 Similarity    0.258199   \n",
       "20  The Landmark Nicosia  Review 1028 Similarity    0.440386   \n",
       "21  The Landmark Nicosia   Review 792 Similarity    0.456435   \n",
       "22  The Landmark Nicosia   Review 495 Similarity    0.507093   \n",
       "23  The Landmark Nicosia    Review 38 Similarity    0.422577   \n",
       "24  The Landmark Nicosia   Review 352 Similarity    0.316228   \n",
       "25  The Landmark Nicosia   Review 337 Similarity    0.243975   \n",
       "26  The Landmark Nicosia   Review 774 Similarity    0.394665   \n",
       "27  The Landmark Nicosia   Review 246 Similarity    0.456435   \n",
       "28  The Landmark Nicosia  Review 1030 Similarity    0.456435   \n",
       "29  The Landmark Nicosia   Review 581 Similarity    0.258199   \n",
       "30  The Landmark Nicosia   Review 117 Similarity    0.447214   \n",
       "31  The Landmark Nicosia    Review 80 Similarity    0.000000   \n",
       "32  The Landmark Nicosia   Review 453 Similarity    0.404520   \n",
       "33  The Landmark Nicosia   Review 982 Similarity    0.200000   \n",
       "34  The Landmark Nicosia   Review 543 Similarity    0.000000   \n",
       "35  The Landmark Nicosia  Review 1029 Similarity    0.000000   \n",
       "36  The Landmark Nicosia   Review 781 Similarity    0.239046   \n",
       "37  The Landmark Nicosia   Review 732 Similarity    0.158114   \n",
       "38  The Landmark Nicosia    Review 96 Similarity    0.000000   \n",
       "39  The Landmark Nicosia   Review 708 Similarity    0.000000   \n",
       "40  The Landmark Nicosia   Review 704 Similarity    0.500000   \n",
       "41  The Landmark Nicosia   Review 601 Similarity    0.338062   \n",
       "42  The Landmark Nicosia   Review 321 Similarity    0.000000   \n",
       "\n",
       "               Unnamed: 5  Unnamed: 6  \\\n",
       "0                     NaN         NaN   \n",
       "1                     NaN         NaN   \n",
       "2                     NaN         NaN   \n",
       "3                     NaN         NaN   \n",
       "4                     NaN         NaN   \n",
       "5                     NaN         NaN   \n",
       "6   Review 136 Similarity    1.000000   \n",
       "7    Review 51 Similarity    0.503362   \n",
       "8    Review 76 Similarity    0.475761   \n",
       "9   Review 108 Similarity    1.000000   \n",
       "10   Review 87 Similarity    0.486664   \n",
       "11  Review 171 Similarity    0.458831   \n",
       "12  Review 448 Similarity    0.458831   \n",
       "13  Review 665 Similarity    0.435286   \n",
       "14  Review 213 Similarity    0.435286   \n",
       "15  Review 395 Similarity    0.435286   \n",
       "16  Review 507 Similarity    0.429198   \n",
       "17  Review 734 Similarity    0.405554   \n",
       "18  Review 162 Similarity    0.401478   \n",
       "19  Review 581 Similarity    0.397360   \n",
       "20  Review 178 Similarity    0.395348   \n",
       "21  Review 122 Similarity    0.374634   \n",
       "22    Review 5 Similarity    0.346844   \n",
       "23  Review 214 Similarity    0.346844   \n",
       "24  Review 472 Similarity    0.324443   \n",
       "25  Review 615 Similarity    0.300376   \n",
       "26  Review 290 Similarity    0.295901   \n",
       "27  Review 113 Similarity    0.280976   \n",
       "28  Review 125 Similarity    0.280976   \n",
       "29  Review 591 Similarity    0.264906   \n",
       "30  Review 141 Similarity    0.229416   \n",
       "31  Review 808 Similarity    0.229416   \n",
       "32  Review 256 Similarity    0.207514   \n",
       "33  Review 693 Similarity    0.205196   \n",
       "34  Review 816 Similarity    0.187317   \n",
       "35  Review 825 Similarity    0.187317   \n",
       "36  Review 620 Similarity    0.183942   \n",
       "37  Review 738 Similarity    0.162221   \n",
       "38  Review 809 Similarity    0.162221   \n",
       "39  Review 819 Similarity    0.132453   \n",
       "40   Review 21 Similarity    0.102598   \n",
       "41  Review 425 Similarity    0.086711   \n",
       "42  Review 815 Similarity    0.000000   \n",
       "\n",
       "                                               scores  compound score  \n",
       "0   {'neg': 0.069, 'neu': 0.931, 'pos': 0.0, 'comp...   -0.1027   neg  \n",
       "1   {'neg': 0.08, 'neu': 0.92, 'pos': 0.0, 'compou...   -0.1232   neg  \n",
       "2   {'neg': 0.235, 'neu': 0.701, 'pos': 0.064, 'co...   -0.7643   neg  \n",
       "3   {'neg': 0.161, 'neu': 0.786, 'pos': 0.053, 'co...   -0.8296   neg  \n",
       "4   {'neg': 0.097, 'neu': 0.818, 'pos': 0.086, 'co...   -0.1850   neg  \n",
       "5   {'neg': 0.1, 'neu': 0.827, 'pos': 0.073, 'comp...   -0.2344   neg  \n",
       "6   {'neg': 0.094, 'neu': 0.837, 'pos': 0.069, 'co...   -0.8404   neg  \n",
       "7   {'neg': 0.16, 'neu': 0.762, 'pos': 0.077, 'com...   -0.9055   neg  \n",
       "8   {'neg': 0.102, 'neu': 0.837, 'pos': 0.061, 'co...   -0.8124   neg  \n",
       "9   {'neg': 0.128, 'neu': 0.846, 'pos': 0.026, 'co...   -0.7153   neg  \n",
       "10  {'neg': 0.105, 'neu': 0.826, 'pos': 0.069, 'co...   -0.4760   neg  \n",
       "11  {'neg': 0.207, 'neu': 0.658, 'pos': 0.135, 'co...   -0.2419   neg  \n",
       "12  {'neg': 0.138, 'neu': 0.743, 'pos': 0.119, 'co...   -0.1744   neg  \n",
       "13  {'neg': 0.101, 'neu': 0.783, 'pos': 0.115, 'co...   -0.0781   neg  \n",
       "14  {'neg': 0.05, 'neu': 0.927, 'pos': 0.023, 'com...   -0.2942   neg  \n",
       "15  {'neg': 0.18, 'neu': 0.733, 'pos': 0.087, 'com...   -0.7776   neg  \n",
       "16  {'neg': 0.118, 'neu': 0.809, 'pos': 0.073, 'co...   -0.7140   neg  \n",
       "17  {'neg': 0.13, 'neu': 0.792, 'pos': 0.078, 'com...   -0.7783   neg  \n",
       "18  {'neg': 0.104, 'neu': 0.839, 'pos': 0.058, 'co...   -0.3246   neg  \n",
       "19  {'neg': 0.133, 'neu': 0.817, 'pos': 0.05, 'com...   -0.5913   neg  \n",
       "20  {'neg': 0.099, 'neu': 0.795, 'pos': 0.106, 'co...   -0.2177   neg  \n",
       "21  {'neg': 0.233, 'neu': 0.695, 'pos': 0.072, 'co...   -0.7701   neg  \n",
       "22  {'neg': 0.089, 'neu': 0.844, 'pos': 0.067, 'co...   -0.0516   neg  \n",
       "23  {'neg': 0.043, 'neu': 0.89, 'pos': 0.068, 'com...   -0.1280   neg  \n",
       "24  {'neg': 0.088, 'neu': 0.864, 'pos': 0.048, 'co...   -0.3818   neg  \n",
       "25  {'neg': 0.227, 'neu': 0.71, 'pos': 0.064, 'com...   -0.9537   neg  \n",
       "26  {'neg': 0.075, 'neu': 0.846, 'pos': 0.079, 'co...   -0.5278   neg  \n",
       "27  {'neg': 0.088, 'neu': 0.859, 'pos': 0.053, 'co...   -0.5255   neg  \n",
       "28  {'neg': 0.097, 'neu': 0.824, 'pos': 0.078, 'co...   -0.1027   neg  \n",
       "29  {'neg': 0.055, 'neu': 0.922, 'pos': 0.022, 'co...   -0.4092   neg  \n",
       "30  {'neg': 0.06, 'neu': 0.904, 'pos': 0.036, 'com...   -0.2263   neg  \n",
       "31  {'neg': 0.139, 'neu': 0.705, 'pos': 0.157, 'co...   -0.0258   neg  \n",
       "32  {'neg': 0.14, 'neu': 0.703, 'pos': 0.157, 'com...   -0.1877   neg  \n",
       "33  {'neg': 0.113, 'neu': 0.825, 'pos': 0.061, 'co...   -0.7649   neg  \n",
       "34  {'neg': 0.154, 'neu': 0.733, 'pos': 0.113, 'co...   -0.5106   neg  \n",
       "35  {'neg': 0.178, 'neu': 0.795, 'pos': 0.027, 'co...   -0.7845   neg  \n",
       "36  {'neg': 0.105, 'neu': 0.794, 'pos': 0.101, 'co...   -0.1027   neg  \n",
       "37  {'neg': 0.079, 'neu': 0.885, 'pos': 0.037, 'co...   -0.4973   neg  \n",
       "38  {'neg': 0.056, 'neu': 0.928, 'pos': 0.016, 'co...   -0.5719   neg  \n",
       "39  {'neg': 0.107, 'neu': 0.837, 'pos': 0.056, 'co...   -0.3802   neg  \n",
       "40  {'neg': 0.293, 'neu': 0.454, 'pos': 0.253, 'co...   -0.2144   neg  \n",
       "41  {'neg': 0.113, 'neu': 0.856, 'pos': 0.031, 'co...   -0.5859   neg  \n",
       "42  {'neg': 0.153, 'neu': 0.781, 'pos': 0.066, 'co...   -0.5526   neg  "
      ]
     },
     "execution_count": 15,
     "metadata": {},
     "output_type": "execute_result"
    }
   ],
   "source": [
    "neg_review = pd.read_csv(r'C:\\Users\\Dell\\Desktop\\sentiment_cluster4_neg.csv')\n",
    "neg_review"
   ]
  },
  {
   "cell_type": "code",
   "execution_count": 16,
   "metadata": {},
   "outputs": [
    {
     "data": {
      "text/html": [
       "<style  type=\"text/css\" >\n",
       "</style><table id=\"T_03839c42_31a3_11eb_ade4_c48e8ff9d2e0\" ><thead>    <tr>        <th class=\"col_heading level0 col0\" >Description</th>        <th class=\"col_heading level0 col1\" >Value</th>    </tr></thead><tbody>\n",
       "                <tr>\n",
       "                                <td id=\"T_03839c42_31a3_11eb_ade4_c48e8ff9d2e0row0_col0\" class=\"data row0 col0\" >session_id</td>\n",
       "                        <td id=\"T_03839c42_31a3_11eb_ade4_c48e8ff9d2e0row0_col1\" class=\"data row0 col1\" >1962</td>\n",
       "            </tr>\n",
       "            <tr>\n",
       "                                <td id=\"T_03839c42_31a3_11eb_ade4_c48e8ff9d2e0row1_col0\" class=\"data row1 col0\" >Documents</td>\n",
       "                        <td id=\"T_03839c42_31a3_11eb_ade4_c48e8ff9d2e0row1_col1\" class=\"data row1 col1\" >43</td>\n",
       "            </tr>\n",
       "            <tr>\n",
       "                                <td id=\"T_03839c42_31a3_11eb_ade4_c48e8ff9d2e0row2_col0\" class=\"data row2 col0\" >Vocab Size</td>\n",
       "                        <td id=\"T_03839c42_31a3_11eb_ade4_c48e8ff9d2e0row2_col1\" class=\"data row2 col1\" >637</td>\n",
       "            </tr>\n",
       "            <tr>\n",
       "                                <td id=\"T_03839c42_31a3_11eb_ade4_c48e8ff9d2e0row3_col0\" class=\"data row3 col0\" >Custom Stopwords</td>\n",
       "                        <td id=\"T_03839c42_31a3_11eb_ade4_c48e8ff9d2e0row3_col1\" class=\"data row3 col1\" >True</td>\n",
       "            </tr>\n",
       "    </tbody></table>"
      ],
      "text/plain": [
       "<pandas.io.formats.style.Styler at 0x2513bf61f48>"
      ]
     },
     "metadata": {},
     "output_type": "display_data"
    }
   ],
   "source": [
    "exp_nlp_neg = setup(data = neg_review, target = 'r_text',\n",
    "                custom_stopwords = [ 'hotel', 'room', 'nice', 'good','restaurant', 'food','bad'])"
   ]
  },
  {
   "cell_type": "code",
   "execution_count": 17,
   "metadata": {},
   "outputs": [
    {
     "name": "stdout",
     "output_type": "stream",
     "text": [
      "LdaModel(num_terms=637, num_topics=4, decay=0.5, chunksize=100)\n"
     ]
    }
   ],
   "source": [
    "#create an LDA model\n",
    "lda_neg_custom = create_model('lda')\n",
    "print(lda_neg_custom)"
   ]
  },
  {
   "cell_type": "code",
   "execution_count": 18,
   "metadata": {},
   "outputs": [],
   "source": [
    "apply_lda_neg = assign_model(lda_neg_custom)"
   ]
  },
  {
   "cell_type": "code",
   "execution_count": 19,
   "metadata": {},
   "outputs": [
    {
     "data": {
      "application/vnd.jupyter.widget-view+json": {
       "model_id": "357cfa4087074b0f822b3cd7a71ba354",
       "version_major": 2,
       "version_minor": 0
      },
      "text/plain": [
       "interactive(children=(ToggleButtons(description='Plot Type:', icons=('',), options=(('Frequency Plot', 'freque…"
      ]
     },
     "metadata": {},
     "output_type": "display_data"
    }
   ],
   "source": [
    "evaluate_model(lda_neg_custom)"
   ]
  },
  {
   "cell_type": "code",
   "execution_count": 25,
   "metadata": {},
   "outputs": [
    {
     "data": {
      "text/html": [
       "        <script type=\"text/javascript\">\n",
       "        window.PlotlyConfig = {MathJaxConfig: 'local'};\n",
       "        if (window.MathJax) {MathJax.Hub.Config({SVG: {font: \"STIX-Web\"}});}\n",
       "        if (typeof require !== 'undefined') {\n",
       "        require.undef(\"plotly\");\n",
       "        requirejs.config({\n",
       "            paths: {\n",
       "                'plotly': ['https://cdn.plot.ly/plotly-latest.min']\n",
       "            }\n",
       "        });\n",
       "        require(['plotly'], function(Plotly) {\n",
       "            window._Plotly = Plotly;\n",
       "        });\n",
       "        }\n",
       "        </script>\n",
       "        "
      ]
     },
     "metadata": {},
     "output_type": "display_data"
    },
    {
     "data": {
      "text/html": [
       "\n",
       "<link rel=\"stylesheet\" type=\"text/css\" href=\"https://cdn.rawgit.com/bmabey/pyLDAvis/files/ldavis.v1.0.0.css\">\n",
       "\n",
       "\n",
       "<div id=\"ldavis_el2346425478559484886460662364\"></div>\n",
       "<script type=\"text/javascript\">\n",
       "\n",
       "var ldavis_el2346425478559484886460662364_data = {\"mdsDat\": {\"x\": [0.09132054188957471, 0.05505514548925016, -0.10073696316686578, -0.04563872421195909], \"y\": [0.059843373294831935, -0.10108323518032979, -0.04028629724575291, 0.08152615913125075], \"topics\": [1, 2, 3, 4], \"cluster\": [1, 1, 1, 1], \"Freq\": [43.69206619262695, 32.891902923583984, 12.133261680603027, 11.282770156860352]}, \"tinfo\": {\"Term\": [\"business\", \"standard\", \"floor\", \"taste\", \"reception\", \"suite\", \"also\", \"day\", \"part\", \"use\", \"however\", \"free\", \"attend\", \"compare\", \"cost\", \"polite\", \"line\", \"lot\", \"fill\", \"door\", \"closed\", \"cake\", \"event\", \"provide\", \"close\", \"executive\", \"people\", \"variety\", \"steak\", \"remain\", \"city\", \"year\", \"tea\", \"work\", \"find\", \"tourist\", \"arrive\", \"space\", \"include\", \"noise\", \"second\", \"well\", \"impression\", \"promotion\", \"client\", \"cold\", \"menu\", \"basic\", \"minute\", \"location\", \"disappoint\", \"course\", \"run\", \"glass\", \"milk\", \"extremely\", \"alternative\", \"flight\", \"wine\", \"month\", \"many\", \"expensive\", \"access\", \"time\", \"look\", \"breakfast\", \"charge\", \"go\", \"price\", \"star\", \"take\", \"euro\", \"first\", \"less\", \"person\", \"coffee\", \"executive\", \"order\", \"service\", \"stay\", \"book\", \"pool\", \"old\", \"pay\", \"visit\", \"night\", \"hour\", \"make\", \"much\", \"rate\", \"say\", \"staff\", \"day\", \"bath\", \"leak\", \"consider\", \"ignore\", \"\\u03ba\\u03c1\\u03c4\\u03b9\\u03c4\\u03b9\\u03ba\\u03b7\", \"meal\", \"evohia\", \"previous\", \"feather\", \"speak\", \"helpful\", \"uncomfortable\", \"pillow\", \"wait\", \"big\", \"ever\", \"renovate\", \"apple\", \"fruit\", \"orange\", \"realize\", \"bathtub\", \"fresh\", \"suit\", \"chance\", \"comfortable\", \"half\", \"bar\", \"floor\", \"clean\", \"really\", \"water\", \"stay\", \"staff\", \"change\", \"night\", \"available\", \"reception\", \"service\", \"place\", \"say\", \"bathroom\", \"old\", \"call\", \"ask\", \"visit\", \"experience\", \"breakfast\", \"book\", \"hour\", \"pool\", \"pay\", \"time\", \"variety\", \"remain\", \"steak\", \"enormous\", \"divide\", \"century\", \"tourism\", \"refurbishment\", \"suppose\", \"fact\", \"show\", \"apart\", \"whole\", \"boring\", \"ambience\", \"prime\", \"deadish\", \"nicosianowaday\", \"tasty\", \"huge\", \"quite\", \"descent\", \"dirty\", \"mark\", \"smelly\", \"pricey\", \"starve\", \"plate\", \"hit\", \"full\", \"taste\", \"line\", \"polite\", \"fill\", \"lot\", \"business\", \"standard\", \"people\", \"use\", \"place\", \"visit\", \"staff\", \"old\", \"price\", \"case\", \"need\", \"however\", \"pay\", \"much\", \"also\", \"look\", \"ago\", \"stay\", \"open\", \"feel\", \"door\", \"closed\", \"cake\", \"event\", \"provide\", \"invade\", \"explanation\", \"excuse\", \"separate\", \"unlock\", \"present\", \"oblige\", \"stuff\", \"pic\", \"perfect\", \"personal\", \"dou\", \"eceutive\", \"timing\", \"empty\", \"understandable\", \"reasonably\", \"care\", \"weekend\", \"dinner\", \"difficult\", \"home\", \"remove\", \"weather\", \"made\", \"major\", \"free\", \"attend\", \"compare\", \"cost\", \"part\", \"however\", \"close\", \"also\", \"reception\", \"suite\", \"floor\", \"executive\", \"use\", \"pay\", \"price\", \"go\", \"breakfast\", \"leave\", \"charge\", \"extra\", \"internet\", \"call\", \"order\", \"night\", \"access\"], \"Freq\": [4.0, 4.0, 5.0, 3.0, 8.0, 3.0, 3.0, 4.0, 2.0, 5.0, 2.0, 2.0, 2.0, 2.0, 2.0, 2.0, 2.0, 2.0, 2.0, 1.0, 1.0, 1.0, 1.0, 1.0, 3.0, 5.0, 3.0, 1.0, 1.0, 1.0, 3.2933762073516846, 2.5205764770507812, 2.514679431915283, 2.515500068664551, 2.5141186714172363, 2.5132710933685303, 2.51269793510437, 2.5126583576202393, 2.508901596069336, 2.5098252296447754, 2.4144484996795654, 4.061006546020508, 1.7451996803283691, 1.744554042816162, 1.7444257736206055, 1.7435132265090942, 1.7432063817977905, 1.7431436777114868, 1.7426416873931885, 1.7431942224502563, 1.7423983812332153, 1.7423301935195923, 1.742278814315796, 1.7415739297866821, 1.7420207262039185, 1.7426789999008179, 1.7414718866348267, 1.7400809526443481, 1.7393250465393066, 1.7398040294647217, 4.0684494972229, 4.067801475524902, 3.2827274799346924, 7.919779300689697, 3.291046142578125, 11.815794944763184, 4.828494071960449, 6.399149417877197, 5.615039348602295, 4.067384719848633, 5.0746893882751465, 2.5197885036468506, 2.519385814666748, 2.519052743911743, 2.5185306072235107, 2.518232583999634, 3.2784481048583984, 3.284583568572998, 4.064083576202393, 4.844966888427734, 3.2843496799468994, 3.2965805530548096, 3.2940826416015625, 3.2799978256225586, 3.2947096824645996, 2.795123815536499, 2.662870168685913, 2.524404764175415, 2.522054672241211, 2.521836757659912, 2.521050453186035, 2.519994020462036, 3.8337321281433105, 3.101529121398926, 3.1000635623931885, 2.37725567817688, 2.3705663681030273, 1.645782232284546, 1.6457750797271729, 1.6457735300064087, 1.6457723379135132, 1.6439695358276367, 1.6438204050064087, 1.643306851387024, 1.6430195569992065, 1.643235683441162, 1.642136573791504, 1.6425151824951172, 1.6421102285385132, 1.6410926580429077, 1.641594648361206, 1.6410287618637085, 1.640730857849121, 1.6415122747421265, 1.6413122415542603, 1.640326976776123, 1.6406339406967163, 1.6406738758087158, 1.6320884227752686, 1.627253770828247, 3.767620086669922, 3.8297417163848877, 4.558951377868652, 3.1062099933624268, 2.3695452213287354, 6.030503273010254, 4.574102878570557, 3.102527141571045, 4.302825450897217, 2.3754076957702637, 3.835817813873291, 3.834439277648926, 3.0947577953338623, 3.1070547103881836, 2.3756418228149414, 3.10811448097229, 2.3163843154907227, 2.372559070587158, 3.1133060455322266, 2.273080587387085, 3.8148460388183594, 2.3708181381225586, 2.234546661376953, 2.3843579292297363, 2.3778254985809326, 2.381155252456665, 1.1118685007095337, 1.1088051795959473, 1.109715461730957, 1.106927514076233, 1.105724811553955, 0.6197100877761841, 0.6197097301483154, 0.6197081804275513, 0.6197057962417603, 0.6197055578231812, 0.6197042465209961, 0.6194595098495483, 0.6193703413009644, 0.6193453669548035, 0.6193158626556396, 0.6193094849586487, 0.6192654371261597, 0.6192683577537537, 0.6189810633659363, 0.618857204914093, 0.6186672449111938, 0.6186582446098328, 0.6183413863182068, 0.6182998418807983, 0.6181588172912598, 0.6180683374404907, 0.6179942488670349, 0.6179629564285278, 0.6177349090576172, 0.6177104115486145, 1.6010767221450806, 1.1133723258972168, 1.113577961921692, 1.1121270656585693, 1.111898422241211, 1.6089211702346802, 1.6075208187103271, 1.115668773651123, 1.1141533851623535, 1.1123939752578735, 1.1102017164230347, 1.1152490377426147, 0.6224057078361511, 0.621632993221283, 0.6213767528533936, 0.6212095618247986, 0.6211594939231873, 0.620938777923584, 0.6208453178405762, 0.6206490397453308, 0.6205149292945862, 0.6203738451004028, 0.6201156377792358, 0.6200059056282043, 0.6199788451194763, 1.069383978843689, 1.06937575340271, 1.0693100690841675, 1.067398190498352, 1.0659881830215454, 0.5940880179405212, 0.5940864086151123, 0.594086229801178, 0.5940859913825989, 0.5940852165222168, 0.5940834879875183, 0.5940837264060974, 0.5940611958503723, 0.5940597653388977, 0.5940569043159485, 0.5935158729553223, 0.5934908986091614, 0.5934624075889587, 0.5933998823165894, 0.5933414697647095, 0.5933094620704651, 0.5930333137512207, 0.5928961634635925, 0.5928574204444885, 0.5928049683570862, 0.5929906368255615, 0.592748761177063, 0.5927427411079407, 0.5929956436157227, 0.5927395820617676, 0.5929367542266846, 1.0724358558654785, 1.0709165334701538, 1.0661123991012573, 1.0655219554901123, 1.0765048265457153, 1.0661382675170898, 1.065902829170227, 1.0712318420410156, 1.5503017902374268, 1.0772713422775269, 1.0712076425552368, 1.078721046447754, 1.0679476261138916, 1.0799154043197632, 1.072312355041504, 1.0687505006790161, 1.0963172912597656, 0.6033397316932678, 0.6061566472053528, 0.6007301807403564, 0.6030257940292358, 0.6027832627296448, 0.6036309003829956, 0.6028187870979309, 0.6017194390296936], \"Total\": [4.0, 4.0, 5.0, 3.0, 8.0, 3.0, 3.0, 4.0, 2.0, 5.0, 2.0, 2.0, 2.0, 2.0, 2.0, 2.0, 2.0, 2.0, 2.0, 1.0, 1.0, 1.0, 1.0, 1.0, 3.0, 5.0, 3.0, 1.0, 1.0, 1.0, 3.7236135005950928, 2.948718309402466, 2.9460647106170654, 2.9475739002227783, 2.9462692737579346, 2.9453797340393066, 2.9449353218078613, 2.946488380432129, 2.9433372020721436, 2.9460012912750244, 2.9379453659057617, 4.974020004272461, 2.172015428543091, 2.1716530323028564, 2.172329902648926, 2.1714158058166504, 2.1713008880615234, 2.171372652053833, 2.170969009399414, 2.1716620922088623, 2.1708767414093018, 2.1710362434387207, 2.1713531017303467, 2.170483112335205, 2.1710824966430664, 2.171933889389038, 2.1709492206573486, 2.1702656745910645, 2.1695749759674072, 2.170255661010742, 5.229597568511963, 5.229930400848389, 4.194413661956787, 10.564791679382324, 4.220171928405762, 16.85556983947754, 6.476367950439453, 9.242953300476074, 8.228996276855469, 5.960732936859131, 7.9566521644592285, 3.4443514347076416, 3.6780741214752197, 3.6777102947235107, 3.678013563156128, 3.677924871444702, 5.401033401489258, 5.656825065612793, 8.152554512023926, 11.621383666992188, 5.911592483520508, 6.891957759857178, 7.144697666168213, 7.358677864074707, 7.64222526550293, 8.320072174072266, 5.147586822509766, 5.3815999031066895, 5.382880210876465, 4.410203456878662, 6.348677635192871, 8.804183959960938, 4.2755279541015625, 3.545562505722046, 3.5450472831726074, 2.8141672611236572, 2.8136279582977295, 2.0826759338378906, 2.082674503326416, 2.082674026489258, 2.0826730728149414, 2.0822370052337646, 2.0822336673736572, 2.0820910930633545, 2.0817415714263916, 2.0821242332458496, 2.0814261436462402, 2.0820536613464355, 2.082134246826172, 2.0810799598693848, 2.081871509552002, 2.0816597938537598, 2.081406354904175, 2.0824289321899414, 2.08232045173645, 2.0813772678375244, 2.082138776779175, 2.082293748855591, 2.082839250564575, 2.082000970840454, 5.056196689605713, 5.226474285125732, 6.5559401512146, 4.319858074188232, 3.3103902339935303, 11.621383666992188, 8.804183959960938, 5.096644401550293, 8.320072174072266, 3.5888123512268066, 8.025551795959473, 8.152554512023926, 6.089898586273193, 6.348677635192871, 4.08644437789917, 7.144697666168213, 4.063225269317627, 4.363640308380127, 7.64222526550293, 4.369743347167969, 16.85556983947754, 5.911592483520508, 5.147586822509766, 6.891957759857178, 7.358677864074707, 10.564791679382324, 1.611996054649353, 1.6119718551635742, 1.613510012626648, 1.6117782592773438, 1.6116621494293213, 1.1155253648757935, 1.115525245666504, 1.1155250072479248, 1.1155264377593994, 1.1155264377593994, 1.1155269145965576, 1.1155704259872437, 1.1155906915664673, 1.1156063079833984, 1.1156306266784668, 1.1156229972839355, 1.1156259775161743, 1.115634799003601, 1.1159342527389526, 1.1160051822662354, 1.1161117553710938, 1.1161136627197266, 1.1162532567977905, 1.116266131401062, 1.1163607835769653, 1.116304874420166, 1.1163393259048462, 1.11635422706604, 1.1164624691009521, 1.1164748668670654, 3.661799192428589, 2.3875081539154053, 2.3885157108306885, 2.3886022567749023, 2.3881499767303467, 4.436406135559082, 4.435003280639648, 3.5949223041534424, 5.579342842102051, 6.089898586273193, 7.64222526550293, 8.804183959960938, 7.144697666168213, 8.228996276855469, 2.322021961212158, 4.1744256019592285, 2.798640251159668, 7.358677864074707, 5.382880210876465, 3.616921901702881, 4.220171928405762, 1.8457751274108887, 11.621383666992188, 3.8354687690734863, 3.054032802581787, 1.5703315734863281, 1.5703336000442505, 1.570359230041504, 1.5706908702850342, 1.571138620376587, 1.0950292348861694, 1.0950300693511963, 1.0950298309326172, 1.0950300693511963, 1.0950305461883545, 1.0950307846069336, 1.0950312614440918, 1.095040202140808, 1.0950403213500977, 1.0950428247451782, 1.0953929424285889, 1.09540855884552, 1.0954251289367676, 1.0954656600952148, 1.0955021381378174, 1.095522403717041, 1.0951709747314453, 1.0952156782150269, 1.0952470302581787, 1.095254898071289, 1.0956189632415771, 1.09524405002594, 1.0952351093292236, 1.0957199335098267, 1.0952527523040771, 1.095647931098938, 2.343911647796631, 2.344097137451172, 2.3474903106689453, 2.346143960952759, 2.841888427734375, 2.798640251159668, 3.0796403884887695, 3.616921901702881, 8.025551795959473, 3.8942480087280273, 5.226474285125732, 5.401033401489258, 5.579342842102051, 7.358677864074707, 8.228996276855469, 9.242953300476074, 16.85556983947754, 3.9150495529174805, 6.476367950439453, 2.6435368061065674, 4.105010986328125, 4.063225269317627, 5.656825065612793, 8.320072174072266, 4.194413661956787], \"Category\": [\"Default\", \"Default\", \"Default\", \"Default\", \"Default\", \"Default\", \"Default\", \"Default\", \"Default\", \"Default\", \"Default\", \"Default\", \"Default\", \"Default\", \"Default\", \"Default\", \"Default\", \"Default\", \"Default\", \"Default\", \"Default\", \"Default\", \"Default\", \"Default\", \"Default\", \"Default\", \"Default\", \"Default\", \"Default\", \"Default\", \"Topic1\", \"Topic1\", \"Topic1\", \"Topic1\", \"Topic1\", \"Topic1\", \"Topic1\", \"Topic1\", \"Topic1\", \"Topic1\", \"Topic1\", \"Topic1\", \"Topic1\", \"Topic1\", \"Topic1\", \"Topic1\", \"Topic1\", \"Topic1\", \"Topic1\", \"Topic1\", \"Topic1\", \"Topic1\", \"Topic1\", \"Topic1\", \"Topic1\", \"Topic1\", \"Topic1\", \"Topic1\", \"Topic1\", \"Topic1\", \"Topic1\", \"Topic1\", \"Topic1\", \"Topic1\", \"Topic1\", \"Topic1\", \"Topic1\", \"Topic1\", \"Topic1\", \"Topic1\", \"Topic1\", \"Topic1\", \"Topic1\", \"Topic1\", \"Topic1\", \"Topic1\", \"Topic1\", \"Topic1\", \"Topic1\", \"Topic1\", \"Topic1\", \"Topic1\", \"Topic1\", \"Topic1\", \"Topic1\", \"Topic1\", \"Topic1\", \"Topic1\", \"Topic1\", \"Topic1\", \"Topic1\", \"Topic1\", \"Topic2\", \"Topic2\", \"Topic2\", \"Topic2\", \"Topic2\", \"Topic2\", \"Topic2\", \"Topic2\", \"Topic2\", \"Topic2\", \"Topic2\", \"Topic2\", \"Topic2\", \"Topic2\", \"Topic2\", \"Topic2\", \"Topic2\", \"Topic2\", \"Topic2\", \"Topic2\", \"Topic2\", \"Topic2\", \"Topic2\", \"Topic2\", \"Topic2\", \"Topic2\", \"Topic2\", \"Topic2\", \"Topic2\", \"Topic2\", \"Topic2\", \"Topic2\", \"Topic2\", \"Topic2\", \"Topic2\", \"Topic2\", \"Topic2\", \"Topic2\", \"Topic2\", \"Topic2\", \"Topic2\", \"Topic2\", \"Topic2\", \"Topic2\", \"Topic2\", \"Topic2\", \"Topic2\", \"Topic2\", \"Topic2\", \"Topic2\", \"Topic2\", \"Topic2\", \"Topic2\", \"Topic2\", \"Topic3\", \"Topic3\", \"Topic3\", \"Topic3\", \"Topic3\", \"Topic3\", \"Topic3\", \"Topic3\", \"Topic3\", \"Topic3\", \"Topic3\", \"Topic3\", \"Topic3\", \"Topic3\", \"Topic3\", \"Topic3\", \"Topic3\", \"Topic3\", \"Topic3\", \"Topic3\", \"Topic3\", \"Topic3\", \"Topic3\", \"Topic3\", \"Topic3\", \"Topic3\", \"Topic3\", \"Topic3\", \"Topic3\", \"Topic3\", \"Topic3\", \"Topic3\", \"Topic3\", \"Topic3\", \"Topic3\", \"Topic3\", \"Topic3\", \"Topic3\", \"Topic3\", \"Topic3\", \"Topic3\", \"Topic3\", \"Topic3\", \"Topic3\", \"Topic3\", \"Topic3\", \"Topic3\", \"Topic3\", \"Topic3\", \"Topic3\", \"Topic3\", \"Topic3\", \"Topic3\", \"Topic3\", \"Topic3\", \"Topic4\", \"Topic4\", \"Topic4\", \"Topic4\", \"Topic4\", \"Topic4\", \"Topic4\", \"Topic4\", \"Topic4\", \"Topic4\", \"Topic4\", \"Topic4\", \"Topic4\", \"Topic4\", \"Topic4\", \"Topic4\", \"Topic4\", \"Topic4\", \"Topic4\", \"Topic4\", \"Topic4\", \"Topic4\", \"Topic4\", \"Topic4\", \"Topic4\", \"Topic4\", \"Topic4\", \"Topic4\", \"Topic4\", \"Topic4\", \"Topic4\", \"Topic4\", \"Topic4\", \"Topic4\", \"Topic4\", \"Topic4\", \"Topic4\", \"Topic4\", \"Topic4\", \"Topic4\", \"Topic4\", \"Topic4\", \"Topic4\", \"Topic4\", \"Topic4\", \"Topic4\", \"Topic4\", \"Topic4\", \"Topic4\", \"Topic4\", \"Topic4\", \"Topic4\", \"Topic4\", \"Topic4\", \"Topic4\", \"Topic4\"], \"logprob\": [30.0, 29.0, 28.0, 27.0, 26.0, 25.0, 24.0, 23.0, 22.0, 21.0, 20.0, 19.0, 18.0, 17.0, 16.0, 15.0, 14.0, 13.0, 12.0, 11.0, 10.0, 9.0, 8.0, 7.0, 6.0, 5.0, 4.0, 3.0, 2.0, 1.0, -5.140900135040283, -5.408400058746338, -5.410699844360352, -5.410399913787842, -5.410900115966797, -5.411300182342529, -5.411499977111816, -5.411499977111816, -5.413000106811523, -5.412600040435791, -5.451399803161621, -4.931399822235107, -5.776000022888184, -5.776299953460693, -5.776400089263916, -5.776899814605713, -5.777100086212158, -5.777200222015381, -5.777400016784668, -5.777100086212158, -5.777599811553955, -5.777599811553955, -5.777599811553955, -5.77810001373291, -5.7778000831604, -5.777400016784668, -5.77810001373291, -5.778900146484375, -5.779300212860107, -5.779099941253662, -4.929599761962891, -4.929699897766113, -5.144199848175049, -4.263500213623047, -5.141600131988525, -3.8633999824523926, -4.758299827575684, -4.4766998291015625, -4.607399940490723, -4.929800033569336, -4.708600044250488, -5.408699989318848, -5.40880012512207, -5.408999919891357, -5.409200191497803, -5.409299850463867, -5.145500183105469, -5.143599987030029, -4.930699825286865, -4.754899978637695, -5.143700122833252, -5.139999866485596, -5.140699863433838, -5.144999980926514, -5.140500068664551, -5.304999828338623, -5.353400230407715, -5.406799793243408, -5.407800197601318, -5.407899856567383, -5.408199787139893, -5.408599853515625, -4.705100059509277, -4.916999816894531, -4.917500019073486, -5.183000087738037, -5.185800075531006, -5.5507001876831055, -5.5507001876831055, -5.5507001876831055, -5.5507001876831055, -5.551799774169922, -5.5518999099731445, -5.552199840545654, -5.5524001121521, -5.552199840545654, -5.5528998374938965, -5.552700042724609, -5.5528998374938965, -5.553500175476074, -5.553199768066406, -5.553599834442139, -5.553800106048584, -5.553299903869629, -5.553400039672852, -5.553999900817871, -5.553800106048584, -5.553800106048584, -5.559000015258789, -5.561999797821045, -4.722499847412109, -4.706099987030029, -4.531799793243408, -4.915500164031982, -5.186200141906738, -4.252099990844727, -4.528500080108643, -4.9166998863220215, -4.589600086212158, -5.183700084686279, -4.704500198364258, -4.704899787902832, -4.9191999435424805, -4.915200233459473, -5.183599948883057, -4.914899826049805, -5.208899974822998, -5.184899806976318, -4.9131999015808105, -5.227799892425537, -4.710000038146973, -5.185699939727783, -5.244900226593018, -5.179999828338623, -5.182700157165527, -5.181300163269043, -4.9456000328063965, -4.948299884796143, -4.947500228881836, -4.949999809265137, -4.951099872589111, -5.530099868774414, -5.530099868774414, -5.530099868774414, -5.530099868774414, -5.530099868774414, -5.530099868774414, -5.5304999351501465, -5.530700206756592, -5.530700206756592, -5.530799865722656, -5.530799865722656, -5.530799865722656, -5.530799865722656, -5.531300067901611, -5.531499862670898, -5.531799793243408, -5.531799793243408, -5.532299995422363, -5.532400131225586, -5.532599925994873, -5.532800197601318, -5.532899856567383, -5.5329999923706055, -5.533299922943115, -5.533400058746338, -4.580900192260742, -4.944200038909912, -4.943999767303467, -4.945400238037109, -4.9456000328063965, -4.576099872589111, -4.576900005340576, -4.942200183868408, -4.94350004196167, -4.945099830627441, -4.9471001625061035, -4.942500114440918, -5.5258002281188965, -5.5269999504089355, -5.527400016784668, -5.527699947357178, -5.5278000831604, -5.52810001373291, -5.528299808502197, -5.528600215911865, -5.528800010681152, -5.529099941253662, -5.5295000076293945, -5.529699802398682, -5.529699802398682, -4.911900043487549, -4.911900043487549, -4.911900043487549, -4.913700103759766, -4.91510009765625, -5.49970006942749, -5.49970006942749, -5.49970006942749, -5.49970006942749, -5.49970006942749, -5.49970006942749, -5.49970006942749, -5.49970006942749, -5.49970006942749, -5.49970006942749, -5.5005998611450195, -5.500699996948242, -5.500699996948242, -5.500800132751465, -5.500899791717529, -5.500999927520752, -5.501500129699707, -5.501699924468994, -5.501800060272217, -5.501800060272217, -5.501500129699707, -5.5019001960754395, -5.5019001960754395, -5.501500129699707, -5.501999855041504, -5.5015997886657715, -4.908999919891357, -4.910399913787842, -4.914899826049805, -4.915500164031982, -4.905200004577637, -4.914899826049805, -4.91510009765625, -4.910099983215332, -4.540500164031982, -4.9045000076293945, -4.910200119018555, -4.903200149536133, -4.9131999015808105, -4.902100086212158, -4.90910005569458, -4.912499904632568, -4.88700008392334, -5.4842000007629395, -5.479599952697754, -5.48859977722168, -5.4847002029418945, -5.485199928283691, -5.483699798583984, -5.485099792480469, -5.4868998527526855], \"loglift\": [30.0, 29.0, 28.0, 27.0, 26.0, 25.0, 24.0, 23.0, 22.0, 21.0, 20.0, 19.0, 18.0, 17.0, 16.0, 15.0, 14.0, 13.0, 12.0, 11.0, 10.0, 9.0, 8.0, 7.0, 6.0, 5.0, 4.0, 3.0, 2.0, 1.0, 0.7052000164985657, 0.6711000204086304, 0.669700026512146, 0.6694999933242798, 0.6693999767303467, 0.6693999767303467, 0.6693000197410583, 0.6686999797821045, 0.6682999730110168, 0.6678000092506409, 0.6317999958992004, 0.6251999735832214, 0.6092000007629395, 0.609000027179718, 0.6086000204086304, 0.6085000038146973, 0.6083999872207642, 0.608299970626831, 0.6082000136375427, 0.6082000136375427, 0.6080999970436096, 0.6079999804496765, 0.6078000068664551, 0.6078000068664551, 0.6078000068664551, 0.6078000068664551, 0.6075999736785889, 0.6071000099182129, 0.6069999933242798, 0.6068999767303467, 0.5769000053405762, 0.57669997215271, 0.5828999876976013, 0.5397999882698059, 0.5792999863624573, 0.47279998660087585, 0.5343999862670898, 0.4602999985218048, 0.4458000063896179, 0.4458000063896179, 0.3783000111579895, 0.5153999924659729, 0.4496000111103058, 0.4496000111103058, 0.44929999113082886, 0.44920000433921814, 0.3287999927997589, 0.28439998626708984, 0.13189999759197235, -0.04690000042319298, 0.2402999997138977, 0.09049999713897705, 0.05380000174045563, 0.019999999552965164, -0.013399999588727951, -0.262800008058548, 0.1688999980688095, 0.07100000232458115, 0.06989999860525131, 0.26910001039505005, -0.09560000151395798, -0.4230000078678131, 1.0029000043869019, 0.9781000018119812, 0.9778000116348267, 0.9431999921798706, 0.9405999779701233, 0.8765000104904175, 0.8765000104904175, 0.8765000104904175, 0.8765000104904175, 0.8755999803543091, 0.8755000233650208, 0.8752999901771545, 0.8752999901771545, 0.8751999735832214, 0.8748999834060669, 0.8748000264167786, 0.8744999766349792, 0.8744000196456909, 0.8743000030517578, 0.8741000294685364, 0.8740000128746033, 0.8740000128746033, 0.8740000128746033, 0.8737999796867371, 0.8736000061035156, 0.8736000061035156, 0.8680999875068665, 0.8654999732971191, 0.817799985408783, 0.8009999990463257, 0.7487000226974487, 0.7821000218391418, 0.7775999903678894, 0.45590001344680786, 0.4571000039577484, 0.6155999898910522, 0.45249998569488525, 0.6992999911308289, 0.37369999289512634, 0.35760000348091125, 0.4350000023841858, 0.39739999175071716, 0.5695000290870667, 0.27959999442100525, 0.550000011920929, 0.5026000142097473, 0.21389999985694885, 0.45840001106262207, -0.37380000948905945, 0.19830000400543213, 0.2775000035762787, 0.05050000175833702, -0.017799999564886093, -0.3779999911785126, 1.7378000020980835, 1.7350000143051147, 1.7348999977111816, 1.7335000038146973, 1.7324999570846558, 1.521399974822998, 1.521399974822998, 1.521399974822998, 1.521399974822998, 1.521399974822998, 1.521399974822998, 1.520900011062622, 1.520799994468689, 1.5206999778747559, 1.5206999778747559, 1.5206999778747559, 1.5205999612808228, 1.5205999612808228, 1.5197999477386475, 1.5196000337600708, 1.5191999673843384, 1.5191999673843384, 1.5184999704360962, 1.518399953842163, 1.5181000232696533, 1.5180000066757202, 1.517899990081787, 1.517799973487854, 1.5174000263214111, 1.517300009727478, 1.2819000482559204, 1.3464000225067139, 1.3460999727249146, 1.3447999954223633, 1.3447999954223633, 1.0949000120162964, 1.0944000482559204, 0.9391999840736389, 0.498199999332428, 0.4090999960899353, 0.1800999939441681, 0.04309999942779541, -0.3312999904155731, -0.47380000352859497, 0.7910000085830688, 0.20419999957084656, 0.6039000153541565, -0.36320000886917114, -0.050700001418590546, 0.3465999960899353, 0.19210000336170197, 1.0189000368118286, -0.8215000033378601, 0.28690001368522644, 0.5146999955177307, 1.797700047492981, 1.797700047492981, 1.7976000308990479, 1.7956000566482544, 1.7940000295639038, 1.5703999996185303, 1.5703999996185303, 1.5703999996185303, 1.5703999996185303, 1.5703999996185303, 1.5703999996185303, 1.5703999996185303, 1.5702999830245972, 1.5702999830245972, 1.5702999830245972, 1.569100022315979, 1.569000005722046, 1.569000005722046, 1.5687999725341797, 1.5686999559402466, 1.568600058555603, 1.56850004196167, 1.5681999921798706, 1.5680999755859375, 1.5679999589920044, 1.5679999589920044, 1.5678999423980713, 1.5678999423980713, 1.5678999423980713, 1.5678999423980713, 1.5678999423980713, 1.399999976158142, 1.3984999656677246, 1.3926000595092773, 1.3926000595092773, 1.2110999822616577, 1.2167999744415283, 1.12090003490448, 0.9650999903678894, 0.5376999974250793, 0.8967999815940857, 0.5968999862670898, 0.5710999965667725, 0.5285999774932861, 0.2628999948501587, 0.14399999380111694, 0.02449999935925007, -0.5508000254631042, 0.3118000030517578, -0.18690000474452972, 0.7002000212669373, 0.2639000117778778, 0.2736999988555908, -0.055799998342990875, -0.44290000200271606, 0.2401999980211258]}, \"token.table\": {\"Topic\": [1, 4, 2, 3, 1, 3, 4, 1, 3, 3, 2, 1, 1, 2, 1, 4, 1, 2, 1, 2, 1, 2, 1, 2, 3, 2, 2, 1, 2, 3, 1, 2, 4, 1, 3, 4, 1, 2, 4, 4, 2, 3, 4, 3, 2, 1, 2, 1, 2, 4, 1, 1, 2, 1, 1, 2, 4, 4, 1, 2, 1, 2, 1, 4, 2, 1, 4, 1, 2, 3, 3, 4, 4, 3, 1, 3, 4, 4, 4, 4, 3, 1, 3, 4, 2, 2, 4, 1, 2, 4, 1, 2, 1, 2, 4, 1, 4, 1, 3, 2, 2, 3, 4, 1, 3, 1, 1, 2, 1, 2, 4, 1, 4, 2, 2, 3, 1, 1, 2, 4, 2, 2, 3, 4, 1, 2, 2, 3, 4, 3, 2, 1, 1, 1, 2, 4, 4, 2, 1, 3, 4, 1, 2, 1, 3, 1, 1, 3, 1, 3, 4, 4, 1, 2, 3, 4, 1, 2, 3, 2, 1, 1, 1, 1, 1, 2, 3, 4, 1, 2, 3, 3, 1, 2, 3, 4, 1, 4, 1, 2, 3, 1, 2, 3, 4, 2, 1, 2, 4, 1, 3, 4, 1, 2, 3, 4, 1, 2, 3, 4, 4, 1, 2, 4, 4, 2, 1, 2, 3, 3, 1, 3, 1, 2, 3, 4, 4, 2, 1, 2, 3, 4, 3, 3, 1, 4, 3, 1, 2, 2, 1, 2, 4, 1, 2, 4, 3, 3, 4, 2, 1, 1, 2, 4, 1, 4, 1, 2, 3, 3, 1, 2, 1, 2, 3, 4, 1, 3, 1, 2, 3, 1, 2, 3, 3, 4, 2, 1, 4, 3, 1, 2, 4, 1, 3, 3, 1, 1, 2, 4, 3, 1, 2, 4, 4, 1, 2, 3, 4, 3, 1, 2, 3, 2, 2, 3, 4, 4, 1, 4, 3, 1, 1, 1, 2], \"Freq\": [0.715237021446228, 0.23841235041618347, 0.5417777895927429, 0.5417777895927429, 0.5529563426971436, 0.2764781713485718, 0.2764781713485718, 0.9212560057640076, 0.8963540196418762, 0.8964024186134338, 0.9606741070747375, 1.0186980962753296, 0.45833292603492737, 0.45833292603492737, 0.4266034960746765, 0.4266034960746765, 0.27864372730255127, 0.5572874546051025, 0.19777712225914001, 0.7911084890365601, 0.9210763573646545, 0.8461281061172485, 0.2447115182876587, 0.4894230365753174, 0.2447115182876587, 0.9604669809341431, 0.9605900645256042, 0.5074774622917175, 0.3383183181285858, 0.8963735699653625, 0.7119308114051819, 0.2373102754354477, 0.05932756885886192, 0.6762230396270752, 0.450815349817276, 0.6367969512939453, 0.24610990285873413, 0.49221980571746826, 0.24610990285873413, 0.9130621552467346, 0.43065914511680603, 0.43065914511680603, 0.43065914511680603, 0.8964385986328125, 0.9604792594909668, 0.39241504669189453, 0.5886225700378418, 0.77203768491745, 0.1544075310230255, 0.1544075310230255, 0.8056690096855164, 0.305066853761673, 0.7626671195030212, 0.9206704497337341, 0.32471323013305664, 0.32471323013305664, 0.32471323013305664, 0.636807382106781, 0.8156773447990417, 0.2718924582004547, 0.9210580587387085, 0.9602277278900146, 0.4259868562221527, 0.4259868562221527, 0.7106897830963135, 0.4262312948703766, 0.4262312948703766, 0.9212190508842468, 0.935556948184967, 0.8963577747344971, 0.895966112613678, 0.912726104259491, 0.9130294919013977, 0.8958540558815002, 0.9212867617607117, 0.6204774379730225, 0.6368081569671631, 0.9129014015197754, 0.9128875732421875, 0.9128234386444092, 0.6204327344894409, 0.8709912896156311, 0.2903304100036621, 0.6366625428199768, 0.9605528712272644, 0.9603039026260376, 0.9132171273231506, 0.5554492473602295, 0.18514975905418396, 0.18514975905418396, 0.7648285627365112, 0.1912071406841278, 0.4576927721500397, 0.4576927721500397, 0.9132169485092163, 0.7565621733665466, 0.3782810866832733, 0.9208383560180664, 0.8964377641677856, 0.9605054259300232, 0.6548718214035034, 0.3274359107017517, 0.3274359107017517, 0.4186548888683319, 0.4186548888683319, 1.0182368755340576, 0.8156442642211914, 0.2718814015388489, 0.9215461611747742, 0.7653343081474304, 0.1913335770368576, 0.4266372323036194, 0.4266372323036194, 0.960902214050293, 0.9607717990875244, 0.8956762552261353, 0.9214538335800171, 0.6491431593894958, 0.21638105809688568, 0.10819052904844284, 0.9606143236160278, 0.9605727791786194, 0.895686149597168, 0.9130384922027588, 0.5827973484992981, 0.38853156566619873, 0.35731637477874756, 0.35731637477874756, 0.35731637477874756, 0.8960531949996948, 0.71082603931427, 0.9208037853240967, 1.0192512273788452, 0.48720940947532654, 0.48720940947532654, 0.24360470473766327, 0.9132176041603088, 0.8462510704994202, 0.7662737965583801, 0.2554246187210083, 0.2554246187210083, 0.8157249093055725, 0.27190831303596497, 0.4188467264175415, 0.4188467264175415, 0.9209535717964172, 0.7108715176582336, 0.23695717751979828, 0.4187341630458832, 0.4187341630458832, 0.913031280040741, 0.9127019643783569, 0.5574550628662109, 0.37163668870925903, 0.18581834435462952, 0.18581834435462952, 0.764877200126648, 0.191219300031662, 0.8958437442779541, 0.9603036642074585, 0.9211068153381348, 0.9211994409561157, 0.9212476015090942, 0.9215503931045532, 0.5573224425315857, 0.37154829502105713, 0.18577414751052856, 0.18577414751052856, 0.7186617255210876, 0.23955391347408295, 0.23955391347408295, 0.8963506817817688, 0.36057379841804504, 0.48076507449150085, 0.12019126862287521, 0.12019126862287521, 1.0183295011520386, 0.9132159352302551, 0.4198918044567108, 0.4198918044567108, 0.13996393978595734, 0.26072433590888977, 0.5214486718177795, 0.26072433590888977, 0.26072433590888977, 0.9608888030052185, 0.5303328037261963, 0.35355520248413086, 0.17677760124206543, 0.35187870264053345, 0.35187870264053345, 0.35187870264053345, 0.407681941986084, 0.27178794145584106, 0.13589397072792053, 0.13589397072792053, 0.2781701385974884, 0.2781701385974884, 0.2781701385974884, 0.2781701385974884, 0.9132062792778015, 0.8156576752662659, 0.2718859016895294, 0.9129143953323364, 0.9132083654403687, 0.9605574607849121, 0.3284126818180084, 0.49261903762817383, 0.1642063409090042, 0.8957729935646057, 0.41867005825042725, 0.41867005825042725, 0.4352899491786957, 0.2901933193206787, 0.14509665966033936, 0.14509665966033936, 0.9132163524627686, 0.960304319858551, 0.7291290163993835, 0.12152150273323059, 0.12152150273323059, 0.12152150273323059, 0.8958126306533813, 0.8963601589202881, 0.9209574460983276, 0.6364810466766357, 0.8959676027297974, 0.6802407503128052, 0.45349380373954773, 0.9604169130325317, 0.23148909211158752, 0.6944672465324402, 0.9130994081497192, 0.37380605936050415, 0.49840810894966125, 0.24920405447483063, 0.8964388966560364, 0.6203582286834717, 0.9130459427833557, 0.9610394835472107, 0.9210846424102783, 0.47253933548927307, 0.47253933548927307, 0.1575131118297577, 0.6807478666305542, 0.9132169485092163, 0.49064376950263977, 0.49064376950263977, 0.8964373469352722, 0.8957677483558655, 1.0181611776351929, 0.9605069756507874, 0.34074708819389343, 0.5679118037223816, 0.11358235776424408, 0.11358235776424408, 0.6764369010925293, 0.4509579539299011, 0.6710584163665771, 0.3355292081832886, 0.8957849740982056, 0.4302413761615753, 0.5162896513938904, 0.08604827523231506, 0.6197668313980103, 0.9132084846496582, 0.9605507850646973, 0.7703669667243958, 0.2567889988422394, 0.8964377641677856, 0.628404974937439, 0.25136199593544006, 0.12568099796772003, 0.5461795926094055, 0.5461795926094055, 0.8961101174354553, 1.0183075666427612, 0.757232129573822, 0.1893080323934555, 0.9128538370132446, 0.896438717842102, 1.0185444355010986, 0.9607340693473816, 0.912806510925293, 0.9132165312767029, 0.35846516489982605, 0.35846516489982605, 0.17923258244991302, 0.17923258244991302, 0.6203489303588867, 0.392555832862854, 0.392555832862854, 0.13085193932056427, 0.9608796238899231, 0.6041584014892578, 0.3020792007446289, 0.9126419425010681, 0.913036048412323, 0.8041785359382629, 0.20104463398456573, 0.8963860869407654, 0.9218395352363586, 1.0177861452102661, 1.0173912048339844, 0.960303008556366], \"Term\": [\"access\", \"access\", \"ago\", \"ago\", \"also\", \"also\", \"also\", \"alternative\", \"ambience\", \"apart\", \"apple\", \"arrive\", \"ask\", \"ask\", \"attend\", \"attend\", \"available\", \"available\", \"bar\", \"bar\", \"basic\", \"bath\", \"bathroom\", \"bathroom\", \"bathroom\", \"bathtub\", \"big\", \"book\", \"book\", \"boring\", \"breakfast\", \"breakfast\", \"breakfast\", \"business\", \"business\", \"cake\", \"call\", \"call\", \"call\", \"care\", \"case\", \"case\", \"case\", \"century\", \"chance\", \"change\", \"change\", \"charge\", \"charge\", \"charge\", \"city\", \"clean\", \"clean\", \"client\", \"close\", \"close\", \"close\", \"closed\", \"coffee\", \"coffee\", \"cold\", \"comfortable\", \"compare\", \"compare\", \"consider\", \"cost\", \"cost\", \"course\", \"day\", \"deadish\", \"descent\", \"difficult\", \"dinner\", \"dirty\", \"disappoint\", \"divide\", \"door\", \"dou\", \"eceutive\", \"empty\", \"enormous\", \"euro\", \"euro\", \"event\", \"ever\", \"evohia\", \"excuse\", \"executive\", \"executive\", \"executive\", \"expensive\", \"expensive\", \"experience\", \"experience\", \"explanation\", \"extra\", \"extra\", \"extremely\", \"fact\", \"feather\", \"feel\", \"feel\", \"feel\", \"fill\", \"fill\", \"find\", \"first\", \"first\", \"flight\", \"floor\", \"floor\", \"free\", \"free\", \"fresh\", \"fruit\", \"full\", \"glass\", \"go\", \"go\", \"go\", \"half\", \"helpful\", \"hit\", \"home\", \"hour\", \"hour\", \"however\", \"however\", \"however\", \"huge\", \"ignore\", \"impression\", \"include\", \"internet\", \"internet\", \"internet\", \"invade\", \"leak\", \"leave\", \"leave\", \"leave\", \"less\", \"less\", \"line\", \"line\", \"location\", \"look\", \"look\", \"lot\", \"lot\", \"made\", \"major\", \"make\", \"make\", \"make\", \"make\", \"many\", \"many\", \"mark\", \"meal\", \"menu\", \"milk\", \"minute\", \"month\", \"much\", \"much\", \"much\", \"much\", \"need\", \"need\", \"need\", \"nicosianowaday\", \"night\", \"night\", \"night\", \"night\", \"noise\", \"oblige\", \"old\", \"old\", \"old\", \"open\", \"open\", \"open\", \"open\", \"orange\", \"order\", \"order\", \"order\", \"part\", \"part\", \"part\", \"pay\", \"pay\", \"pay\", \"pay\", \"people\", \"people\", \"people\", \"people\", \"perfect\", \"person\", \"person\", \"personal\", \"pic\", \"pillow\", \"place\", \"place\", \"place\", \"plate\", \"polite\", \"polite\", \"pool\", \"pool\", \"pool\", \"pool\", \"present\", \"previous\", \"price\", \"price\", \"price\", \"price\", \"pricey\", \"prime\", \"promotion\", \"provide\", \"quite\", \"rate\", \"rate\", \"realize\", \"really\", \"really\", \"reasonably\", \"reception\", \"reception\", \"reception\", \"refurbishment\", \"remain\", \"remove\", \"renovate\", \"run\", \"say\", \"say\", \"say\", \"second\", \"separate\", \"service\", \"service\", \"show\", \"smelly\", \"space\", \"speak\", \"staff\", \"staff\", \"staff\", \"staff\", \"standard\", \"standard\", \"star\", \"star\", \"starve\", \"stay\", \"stay\", \"stay\", \"steak\", \"stuff\", \"suit\", \"suite\", \"suite\", \"suppose\", \"take\", \"take\", \"take\", \"taste\", \"taste\", \"tasty\", \"tea\", \"time\", \"time\", \"timing\", \"tourism\", \"tourist\", \"uncomfortable\", \"understandable\", \"unlock\", \"use\", \"use\", \"use\", \"use\", \"variety\", \"visit\", \"visit\", \"visit\", \"wait\", \"water\", \"water\", \"weather\", \"weekend\", \"well\", \"well\", \"whole\", \"wine\", \"work\", \"year\", \"\\u03ba\\u03c1\\u03c4\\u03b9\\u03c4\\u03b9\\u03ba\\u03b7\"]}, \"R\": 30, \"lambda.step\": 0.01, \"plot.opts\": {\"xlab\": \"PC1\", \"ylab\": \"PC2\"}, \"topic.order\": [2, 4, 3, 1]};\n",
       "\n",
       "function LDAvis_load_lib(url, callback){\n",
       "  var s = document.createElement('script');\n",
       "  s.src = url;\n",
       "  s.async = true;\n",
       "  s.onreadystatechange = s.onload = callback;\n",
       "  s.onerror = function(){console.warn(\"failed to load library \" + url);};\n",
       "  document.getElementsByTagName(\"head\")[0].appendChild(s);\n",
       "}\n",
       "\n",
       "if(typeof(LDAvis) !== \"undefined\"){\n",
       "   // already loaded: just create the visualization\n",
       "   !function(LDAvis){\n",
       "       new LDAvis(\"#\" + \"ldavis_el2346425478559484886460662364\", ldavis_el2346425478559484886460662364_data);\n",
       "   }(LDAvis);\n",
       "}else if(typeof define === \"function\" && define.amd){\n",
       "   // require.js is available: use it to load d3/LDAvis\n",
       "   require.config({paths: {d3: \"https://cdnjs.cloudflare.com/ajax/libs/d3/3.5.5/d3.min\"}});\n",
       "   require([\"d3\"], function(d3){\n",
       "      window.d3 = d3;\n",
       "      LDAvis_load_lib(\"https://cdn.rawgit.com/bmabey/pyLDAvis/files/ldavis.v1.0.0.js\", function(){\n",
       "        new LDAvis(\"#\" + \"ldavis_el2346425478559484886460662364\", ldavis_el2346425478559484886460662364_data);\n",
       "      });\n",
       "    });\n",
       "}else{\n",
       "    // require.js not available: dynamically load d3 & LDAvis\n",
       "    LDAvis_load_lib(\"https://cdnjs.cloudflare.com/ajax/libs/d3/3.5.5/d3.min.js\", function(){\n",
       "         LDAvis_load_lib(\"https://cdn.rawgit.com/bmabey/pyLDAvis/files/ldavis.v1.0.0.js\", function(){\n",
       "                 new LDAvis(\"#\" + \"ldavis_el2346425478559484886460662364\", ldavis_el2346425478559484886460662364_data);\n",
       "            })\n",
       "         });\n",
       "}\n",
       "</script>"
      ],
      "text/plain": [
       "PreparedData(topic_coordinates=              x         y  topics  cluster       Freq\n",
       "topic                                                \n",
       "1      0.091321  0.059843       1        1  43.692066\n",
       "3      0.055055 -0.101083       2        1  32.891903\n",
       "2     -0.100737 -0.040286       3        1  12.133262\n",
       "0     -0.045639  0.081526       4        1  11.282770, topic_info=          Term      Freq     Total Category  logprob  loglift\n",
       "62    business  4.000000  4.000000  Default  30.0000  30.0000\n",
       "360   standard  4.000000  4.000000  Default  29.0000  29.0000\n",
       "101      floor  5.000000  5.000000  Default  28.0000  28.0000\n",
       "21       taste  3.000000  3.000000  Default  27.0000  27.0000\n",
       "179  reception  8.000000  8.000000  Default  26.0000  26.0000\n",
       "..         ...       ...       ...      ...      ...      ...\n",
       "254   internet  0.603026  4.105011   Topic4  -5.4847   0.2639\n",
       "412       call  0.602783  4.063225   Topic4  -5.4852   0.2737\n",
       "340      order  0.603631  5.656825   Topic4  -5.4837  -0.0558\n",
       "30       night  0.602819  8.320072   Topic4  -5.4851  -0.4429\n",
       "257     access  0.601719  4.194414   Topic4  -5.4869   0.2402\n",
       "\n",
       "[257 rows x 6 columns], token_table=      Topic      Freq      Term\n",
       "term                           \n",
       "257       1  0.715237    access\n",
       "257       4  0.238412    access\n",
       "345       2  0.541778       ago\n",
       "345       3  0.541778       ago\n",
       "60        1  0.552956      also\n",
       "...     ...       ...       ...\n",
       "353       3  0.896386     whole\n",
       "469       1  0.921840      wine\n",
       "299       1  1.017786      work\n",
       "59        1  1.017391      year\n",
       "635       2  0.960303  κρτιτικη\n",
       "\n",
       "[305 rows x 3 columns], R=30, lambda_step=0.01, plot_opts={'xlab': 'PC1', 'ylab': 'PC2'}, topic_order=[2, 4, 3, 1])"
      ]
     },
     "metadata": {},
     "output_type": "display_data"
    }
   ],
   "source": [
    "plot_model(lda_neg_custom, plot ='topic_model')"
   ]
  },
  {
   "cell_type": "code",
   "execution_count": 20,
   "metadata": {},
   "outputs": [
    {
     "data": {
      "application/vnd.jupyter.widget-view+json": {
       "model_id": "",
       "version_major": 2,
       "version_minor": 0
      },
      "text/plain": [
       "IntProgress(value=0, description='Processing: ', max=25)"
      ]
     },
     "metadata": {},
     "output_type": "display_data"
    },
    {
     "data": {
      "application/vnd.jupyter.widget-view+json": {
       "model_id": "5981628b6db045ceb9c2b951dc2e43d3",
       "version_major": 2,
       "version_minor": 0
      },
      "text/plain": [
       "Output()"
      ]
     },
     "metadata": {},
     "output_type": "display_data"
    },
    {
     "data": {
      "text/html": [
       "        <script type=\"text/javascript\">\n",
       "        window.PlotlyConfig = {MathJaxConfig: 'local'};\n",
       "        if (window.MathJax) {MathJax.Hub.Config({SVG: {font: \"STIX-Web\"}});}\n",
       "        if (typeof require !== 'undefined') {\n",
       "        require.undef(\"plotly\");\n",
       "        requirejs.config({\n",
       "            paths: {\n",
       "                'plotly': ['https://cdn.plot.ly/plotly-latest.min']\n",
       "            }\n",
       "        });\n",
       "        require(['plotly'], function(Plotly) {\n",
       "            window._Plotly = Plotly;\n",
       "        });\n",
       "        }\n",
       "        </script>\n",
       "        "
      ]
     },
     "metadata": {},
     "output_type": "display_data"
    },
    {
     "data": {
      "application/vnd.plotly.v1+json": {
       "config": {
        "plotlyServerURL": "https://plot.ly"
       },
       "data": [
        {
         "hovertemplate": "Metric=Coherence<br># Topics=%{x}<br>Score=%{y}<extra></extra>",
         "legendgroup": "Coherence",
         "line": {
          "color": "#636efa",
          "dash": "solid",
          "shape": "linear"
         },
         "mode": "lines",
         "name": "Coherence",
         "orientation": "v",
         "showlegend": true,
         "type": "scatter",
         "x": [
          2,
          4,
          8,
          16,
          32,
          64,
          100,
          200,
          300,
          400
         ],
         "xaxis": "x",
         "y": [
          0.3511707334191545,
          0.3837784462346999,
          0.3511948140838271,
          0.5579683122091672,
          0.6221863730922313,
          0.6238419969129941,
          0.5664307764373642,
          0.49809142154543323,
          0.45905142334859533,
          0.4294156684559549
         ],
         "yaxis": "y"
        }
       ],
       "layout": {
        "legend": {
         "title": {
          "text": "Metric"
         },
         "tracegroupgap": 0
        },
        "plot_bgcolor": "rgb(245,245,245)",
        "template": {
         "data": {
          "bar": [
           {
            "error_x": {
             "color": "#2a3f5f"
            },
            "error_y": {
             "color": "#2a3f5f"
            },
            "marker": {
             "line": {
              "color": "#E5ECF6",
              "width": 0.5
             }
            },
            "type": "bar"
           }
          ],
          "barpolar": [
           {
            "marker": {
             "line": {
              "color": "#E5ECF6",
              "width": 0.5
             }
            },
            "type": "barpolar"
           }
          ],
          "carpet": [
           {
            "aaxis": {
             "endlinecolor": "#2a3f5f",
             "gridcolor": "white",
             "linecolor": "white",
             "minorgridcolor": "white",
             "startlinecolor": "#2a3f5f"
            },
            "baxis": {
             "endlinecolor": "#2a3f5f",
             "gridcolor": "white",
             "linecolor": "white",
             "minorgridcolor": "white",
             "startlinecolor": "#2a3f5f"
            },
            "type": "carpet"
           }
          ],
          "choropleth": [
           {
            "colorbar": {
             "outlinewidth": 0,
             "ticks": ""
            },
            "type": "choropleth"
           }
          ],
          "contour": [
           {
            "colorbar": {
             "outlinewidth": 0,
             "ticks": ""
            },
            "colorscale": [
             [
              0,
              "#0d0887"
             ],
             [
              0.1111111111111111,
              "#46039f"
             ],
             [
              0.2222222222222222,
              "#7201a8"
             ],
             [
              0.3333333333333333,
              "#9c179e"
             ],
             [
              0.4444444444444444,
              "#bd3786"
             ],
             [
              0.5555555555555556,
              "#d8576b"
             ],
             [
              0.6666666666666666,
              "#ed7953"
             ],
             [
              0.7777777777777778,
              "#fb9f3a"
             ],
             [
              0.8888888888888888,
              "#fdca26"
             ],
             [
              1,
              "#f0f921"
             ]
            ],
            "type": "contour"
           }
          ],
          "contourcarpet": [
           {
            "colorbar": {
             "outlinewidth": 0,
             "ticks": ""
            },
            "type": "contourcarpet"
           }
          ],
          "heatmap": [
           {
            "colorbar": {
             "outlinewidth": 0,
             "ticks": ""
            },
            "colorscale": [
             [
              0,
              "#0d0887"
             ],
             [
              0.1111111111111111,
              "#46039f"
             ],
             [
              0.2222222222222222,
              "#7201a8"
             ],
             [
              0.3333333333333333,
              "#9c179e"
             ],
             [
              0.4444444444444444,
              "#bd3786"
             ],
             [
              0.5555555555555556,
              "#d8576b"
             ],
             [
              0.6666666666666666,
              "#ed7953"
             ],
             [
              0.7777777777777778,
              "#fb9f3a"
             ],
             [
              0.8888888888888888,
              "#fdca26"
             ],
             [
              1,
              "#f0f921"
             ]
            ],
            "type": "heatmap"
           }
          ],
          "heatmapgl": [
           {
            "colorbar": {
             "outlinewidth": 0,
             "ticks": ""
            },
            "colorscale": [
             [
              0,
              "#0d0887"
             ],
             [
              0.1111111111111111,
              "#46039f"
             ],
             [
              0.2222222222222222,
              "#7201a8"
             ],
             [
              0.3333333333333333,
              "#9c179e"
             ],
             [
              0.4444444444444444,
              "#bd3786"
             ],
             [
              0.5555555555555556,
              "#d8576b"
             ],
             [
              0.6666666666666666,
              "#ed7953"
             ],
             [
              0.7777777777777778,
              "#fb9f3a"
             ],
             [
              0.8888888888888888,
              "#fdca26"
             ],
             [
              1,
              "#f0f921"
             ]
            ],
            "type": "heatmapgl"
           }
          ],
          "histogram": [
           {
            "marker": {
             "colorbar": {
              "outlinewidth": 0,
              "ticks": ""
             }
            },
            "type": "histogram"
           }
          ],
          "histogram2d": [
           {
            "colorbar": {
             "outlinewidth": 0,
             "ticks": ""
            },
            "colorscale": [
             [
              0,
              "#0d0887"
             ],
             [
              0.1111111111111111,
              "#46039f"
             ],
             [
              0.2222222222222222,
              "#7201a8"
             ],
             [
              0.3333333333333333,
              "#9c179e"
             ],
             [
              0.4444444444444444,
              "#bd3786"
             ],
             [
              0.5555555555555556,
              "#d8576b"
             ],
             [
              0.6666666666666666,
              "#ed7953"
             ],
             [
              0.7777777777777778,
              "#fb9f3a"
             ],
             [
              0.8888888888888888,
              "#fdca26"
             ],
             [
              1,
              "#f0f921"
             ]
            ],
            "type": "histogram2d"
           }
          ],
          "histogram2dcontour": [
           {
            "colorbar": {
             "outlinewidth": 0,
             "ticks": ""
            },
            "colorscale": [
             [
              0,
              "#0d0887"
             ],
             [
              0.1111111111111111,
              "#46039f"
             ],
             [
              0.2222222222222222,
              "#7201a8"
             ],
             [
              0.3333333333333333,
              "#9c179e"
             ],
             [
              0.4444444444444444,
              "#bd3786"
             ],
             [
              0.5555555555555556,
              "#d8576b"
             ],
             [
              0.6666666666666666,
              "#ed7953"
             ],
             [
              0.7777777777777778,
              "#fb9f3a"
             ],
             [
              0.8888888888888888,
              "#fdca26"
             ],
             [
              1,
              "#f0f921"
             ]
            ],
            "type": "histogram2dcontour"
           }
          ],
          "mesh3d": [
           {
            "colorbar": {
             "outlinewidth": 0,
             "ticks": ""
            },
            "type": "mesh3d"
           }
          ],
          "parcoords": [
           {
            "line": {
             "colorbar": {
              "outlinewidth": 0,
              "ticks": ""
             }
            },
            "type": "parcoords"
           }
          ],
          "pie": [
           {
            "automargin": true,
            "type": "pie"
           }
          ],
          "scatter": [
           {
            "marker": {
             "colorbar": {
              "outlinewidth": 0,
              "ticks": ""
             }
            },
            "type": "scatter"
           }
          ],
          "scatter3d": [
           {
            "line": {
             "colorbar": {
              "outlinewidth": 0,
              "ticks": ""
             }
            },
            "marker": {
             "colorbar": {
              "outlinewidth": 0,
              "ticks": ""
             }
            },
            "type": "scatter3d"
           }
          ],
          "scattercarpet": [
           {
            "marker": {
             "colorbar": {
              "outlinewidth": 0,
              "ticks": ""
             }
            },
            "type": "scattercarpet"
           }
          ],
          "scattergeo": [
           {
            "marker": {
             "colorbar": {
              "outlinewidth": 0,
              "ticks": ""
             }
            },
            "type": "scattergeo"
           }
          ],
          "scattergl": [
           {
            "marker": {
             "colorbar": {
              "outlinewidth": 0,
              "ticks": ""
             }
            },
            "type": "scattergl"
           }
          ],
          "scattermapbox": [
           {
            "marker": {
             "colorbar": {
              "outlinewidth": 0,
              "ticks": ""
             }
            },
            "type": "scattermapbox"
           }
          ],
          "scatterpolar": [
           {
            "marker": {
             "colorbar": {
              "outlinewidth": 0,
              "ticks": ""
             }
            },
            "type": "scatterpolar"
           }
          ],
          "scatterpolargl": [
           {
            "marker": {
             "colorbar": {
              "outlinewidth": 0,
              "ticks": ""
             }
            },
            "type": "scatterpolargl"
           }
          ],
          "scatterternary": [
           {
            "marker": {
             "colorbar": {
              "outlinewidth": 0,
              "ticks": ""
             }
            },
            "type": "scatterternary"
           }
          ],
          "surface": [
           {
            "colorbar": {
             "outlinewidth": 0,
             "ticks": ""
            },
            "colorscale": [
             [
              0,
              "#0d0887"
             ],
             [
              0.1111111111111111,
              "#46039f"
             ],
             [
              0.2222222222222222,
              "#7201a8"
             ],
             [
              0.3333333333333333,
              "#9c179e"
             ],
             [
              0.4444444444444444,
              "#bd3786"
             ],
             [
              0.5555555555555556,
              "#d8576b"
             ],
             [
              0.6666666666666666,
              "#ed7953"
             ],
             [
              0.7777777777777778,
              "#fb9f3a"
             ],
             [
              0.8888888888888888,
              "#fdca26"
             ],
             [
              1,
              "#f0f921"
             ]
            ],
            "type": "surface"
           }
          ],
          "table": [
           {
            "cells": {
             "fill": {
              "color": "#EBF0F8"
             },
             "line": {
              "color": "white"
             }
            },
            "header": {
             "fill": {
              "color": "#C8D4E3"
             },
             "line": {
              "color": "white"
             }
            },
            "type": "table"
           }
          ]
         },
         "layout": {
          "annotationdefaults": {
           "arrowcolor": "#2a3f5f",
           "arrowhead": 0,
           "arrowwidth": 1
          },
          "coloraxis": {
           "colorbar": {
            "outlinewidth": 0,
            "ticks": ""
           }
          },
          "colorscale": {
           "diverging": [
            [
             0,
             "#8e0152"
            ],
            [
             0.1,
             "#c51b7d"
            ],
            [
             0.2,
             "#de77ae"
            ],
            [
             0.3,
             "#f1b6da"
            ],
            [
             0.4,
             "#fde0ef"
            ],
            [
             0.5,
             "#f7f7f7"
            ],
            [
             0.6,
             "#e6f5d0"
            ],
            [
             0.7,
             "#b8e186"
            ],
            [
             0.8,
             "#7fbc41"
            ],
            [
             0.9,
             "#4d9221"
            ],
            [
             1,
             "#276419"
            ]
           ],
           "sequential": [
            [
             0,
             "#0d0887"
            ],
            [
             0.1111111111111111,
             "#46039f"
            ],
            [
             0.2222222222222222,
             "#7201a8"
            ],
            [
             0.3333333333333333,
             "#9c179e"
            ],
            [
             0.4444444444444444,
             "#bd3786"
            ],
            [
             0.5555555555555556,
             "#d8576b"
            ],
            [
             0.6666666666666666,
             "#ed7953"
            ],
            [
             0.7777777777777778,
             "#fb9f3a"
            ],
            [
             0.8888888888888888,
             "#fdca26"
            ],
            [
             1,
             "#f0f921"
            ]
           ],
           "sequentialminus": [
            [
             0,
             "#0d0887"
            ],
            [
             0.1111111111111111,
             "#46039f"
            ],
            [
             0.2222222222222222,
             "#7201a8"
            ],
            [
             0.3333333333333333,
             "#9c179e"
            ],
            [
             0.4444444444444444,
             "#bd3786"
            ],
            [
             0.5555555555555556,
             "#d8576b"
            ],
            [
             0.6666666666666666,
             "#ed7953"
            ],
            [
             0.7777777777777778,
             "#fb9f3a"
            ],
            [
             0.8888888888888888,
             "#fdca26"
            ],
            [
             1,
             "#f0f921"
            ]
           ]
          },
          "colorway": [
           "#636efa",
           "#EF553B",
           "#00cc96",
           "#ab63fa",
           "#FFA15A",
           "#19d3f3",
           "#FF6692",
           "#B6E880",
           "#FF97FF",
           "#FECB52"
          ],
          "font": {
           "color": "#2a3f5f"
          },
          "geo": {
           "bgcolor": "white",
           "lakecolor": "white",
           "landcolor": "#E5ECF6",
           "showlakes": true,
           "showland": true,
           "subunitcolor": "white"
          },
          "hoverlabel": {
           "align": "left"
          },
          "hovermode": "closest",
          "mapbox": {
           "style": "light"
          },
          "paper_bgcolor": "white",
          "plot_bgcolor": "#E5ECF6",
          "polar": {
           "angularaxis": {
            "gridcolor": "white",
            "linecolor": "white",
            "ticks": ""
           },
           "bgcolor": "#E5ECF6",
           "radialaxis": {
            "gridcolor": "white",
            "linecolor": "white",
            "ticks": ""
           }
          },
          "scene": {
           "xaxis": {
            "backgroundcolor": "#E5ECF6",
            "gridcolor": "white",
            "gridwidth": 2,
            "linecolor": "white",
            "showbackground": true,
            "ticks": "",
            "zerolinecolor": "white"
           },
           "yaxis": {
            "backgroundcolor": "#E5ECF6",
            "gridcolor": "white",
            "gridwidth": 2,
            "linecolor": "white",
            "showbackground": true,
            "ticks": "",
            "zerolinecolor": "white"
           },
           "zaxis": {
            "backgroundcolor": "#E5ECF6",
            "gridcolor": "white",
            "gridwidth": 2,
            "linecolor": "white",
            "showbackground": true,
            "ticks": "",
            "zerolinecolor": "white"
           }
          },
          "shapedefaults": {
           "line": {
            "color": "#2a3f5f"
           }
          },
          "ternary": {
           "aaxis": {
            "gridcolor": "white",
            "linecolor": "white",
            "ticks": ""
           },
           "baxis": {
            "gridcolor": "white",
            "linecolor": "white",
            "ticks": ""
           },
           "bgcolor": "#E5ECF6",
           "caxis": {
            "gridcolor": "white",
            "linecolor": "white",
            "ticks": ""
           }
          },
          "title": {
           "x": 0.05
          },
          "xaxis": {
           "automargin": true,
           "gridcolor": "white",
           "linecolor": "white",
           "ticks": "",
           "title": {
            "standoff": 15
           },
           "zerolinecolor": "white",
           "zerolinewidth": 2
          },
          "yaxis": {
           "automargin": true,
           "gridcolor": "white",
           "linecolor": "white",
           "ticks": "",
           "title": {
            "standoff": 15
           },
           "zerolinecolor": "white",
           "zerolinewidth": 2
          }
         }
        },
        "title": {
         "text": "Coherence Value and # of Topics"
        },
        "xaxis": {
         "anchor": "y",
         "domain": [
          0,
          1
         ],
         "title": {
          "text": "# Topics"
         }
        },
        "yaxis": {
         "anchor": "x",
         "domain": [
          0,
          1
         ],
         "title": {
          "text": "Score"
         }
        }
       }
      },
      "text/html": [
       "<div>\n",
       "        \n",
       "        \n",
       "            <div id=\"3bdd8257-d8ad-433d-b674-7aabfeb09347\" class=\"plotly-graph-div\" style=\"height:525px; width:100%;\"></div>\n",
       "            <script type=\"text/javascript\">\n",
       "                require([\"plotly\"], function(Plotly) {\n",
       "                    window.PLOTLYENV=window.PLOTLYENV || {};\n",
       "                    \n",
       "                if (document.getElementById(\"3bdd8257-d8ad-433d-b674-7aabfeb09347\")) {\n",
       "                    Plotly.newPlot(\n",
       "                        '3bdd8257-d8ad-433d-b674-7aabfeb09347',\n",
       "                        [{\"hovertemplate\": \"Metric=Coherence<br># Topics=%{x}<br>Score=%{y}<extra></extra>\", \"legendgroup\": \"Coherence\", \"line\": {\"color\": \"#636efa\", \"dash\": \"solid\", \"shape\": \"linear\"}, \"mode\": \"lines\", \"name\": \"Coherence\", \"orientation\": \"v\", \"showlegend\": true, \"type\": \"scatter\", \"x\": [2, 4, 8, 16, 32, 64, 100, 200, 300, 400], \"xaxis\": \"x\", \"y\": [0.3511707334191545, 0.3837784462346999, 0.3511948140838271, 0.5579683122091672, 0.6221863730922313, 0.6238419969129941, 0.5664307764373642, 0.49809142154543323, 0.45905142334859533, 0.4294156684559549], \"yaxis\": \"y\"}],\n",
       "                        {\"legend\": {\"title\": {\"text\": \"Metric\"}, \"tracegroupgap\": 0}, \"plot_bgcolor\": \"rgb(245,245,245)\", \"template\": {\"data\": {\"bar\": [{\"error_x\": {\"color\": \"#2a3f5f\"}, \"error_y\": {\"color\": \"#2a3f5f\"}, \"marker\": {\"line\": {\"color\": \"#E5ECF6\", \"width\": 0.5}}, \"type\": \"bar\"}], \"barpolar\": [{\"marker\": {\"line\": {\"color\": \"#E5ECF6\", \"width\": 0.5}}, \"type\": \"barpolar\"}], \"carpet\": [{\"aaxis\": {\"endlinecolor\": \"#2a3f5f\", \"gridcolor\": \"white\", \"linecolor\": \"white\", \"minorgridcolor\": \"white\", \"startlinecolor\": \"#2a3f5f\"}, \"baxis\": {\"endlinecolor\": \"#2a3f5f\", \"gridcolor\": \"white\", \"linecolor\": \"white\", \"minorgridcolor\": \"white\", \"startlinecolor\": \"#2a3f5f\"}, \"type\": \"carpet\"}], \"choropleth\": [{\"colorbar\": {\"outlinewidth\": 0, \"ticks\": \"\"}, \"type\": \"choropleth\"}], \"contour\": [{\"colorbar\": {\"outlinewidth\": 0, \"ticks\": \"\"}, \"colorscale\": [[0.0, \"#0d0887\"], [0.1111111111111111, \"#46039f\"], [0.2222222222222222, \"#7201a8\"], [0.3333333333333333, \"#9c179e\"], [0.4444444444444444, \"#bd3786\"], [0.5555555555555556, \"#d8576b\"], [0.6666666666666666, \"#ed7953\"], [0.7777777777777778, \"#fb9f3a\"], [0.8888888888888888, \"#fdca26\"], [1.0, \"#f0f921\"]], \"type\": \"contour\"}], \"contourcarpet\": [{\"colorbar\": {\"outlinewidth\": 0, \"ticks\": \"\"}, \"type\": \"contourcarpet\"}], \"heatmap\": [{\"colorbar\": {\"outlinewidth\": 0, \"ticks\": \"\"}, \"colorscale\": [[0.0, \"#0d0887\"], [0.1111111111111111, \"#46039f\"], [0.2222222222222222, \"#7201a8\"], [0.3333333333333333, \"#9c179e\"], [0.4444444444444444, \"#bd3786\"], [0.5555555555555556, \"#d8576b\"], [0.6666666666666666, \"#ed7953\"], [0.7777777777777778, \"#fb9f3a\"], [0.8888888888888888, \"#fdca26\"], [1.0, \"#f0f921\"]], \"type\": \"heatmap\"}], \"heatmapgl\": [{\"colorbar\": {\"outlinewidth\": 0, \"ticks\": \"\"}, \"colorscale\": [[0.0, \"#0d0887\"], [0.1111111111111111, \"#46039f\"], [0.2222222222222222, \"#7201a8\"], [0.3333333333333333, \"#9c179e\"], [0.4444444444444444, \"#bd3786\"], [0.5555555555555556, \"#d8576b\"], [0.6666666666666666, \"#ed7953\"], [0.7777777777777778, \"#fb9f3a\"], [0.8888888888888888, \"#fdca26\"], [1.0, \"#f0f921\"]], \"type\": \"heatmapgl\"}], \"histogram\": [{\"marker\": {\"colorbar\": {\"outlinewidth\": 0, \"ticks\": \"\"}}, \"type\": \"histogram\"}], \"histogram2d\": [{\"colorbar\": {\"outlinewidth\": 0, \"ticks\": \"\"}, \"colorscale\": [[0.0, \"#0d0887\"], [0.1111111111111111, \"#46039f\"], [0.2222222222222222, \"#7201a8\"], [0.3333333333333333, \"#9c179e\"], [0.4444444444444444, \"#bd3786\"], [0.5555555555555556, \"#d8576b\"], [0.6666666666666666, \"#ed7953\"], [0.7777777777777778, \"#fb9f3a\"], [0.8888888888888888, \"#fdca26\"], [1.0, \"#f0f921\"]], \"type\": \"histogram2d\"}], \"histogram2dcontour\": [{\"colorbar\": {\"outlinewidth\": 0, \"ticks\": \"\"}, \"colorscale\": [[0.0, \"#0d0887\"], [0.1111111111111111, \"#46039f\"], [0.2222222222222222, \"#7201a8\"], [0.3333333333333333, \"#9c179e\"], [0.4444444444444444, \"#bd3786\"], [0.5555555555555556, \"#d8576b\"], [0.6666666666666666, \"#ed7953\"], [0.7777777777777778, \"#fb9f3a\"], [0.8888888888888888, \"#fdca26\"], [1.0, \"#f0f921\"]], \"type\": \"histogram2dcontour\"}], \"mesh3d\": [{\"colorbar\": {\"outlinewidth\": 0, \"ticks\": \"\"}, \"type\": \"mesh3d\"}], \"parcoords\": [{\"line\": {\"colorbar\": {\"outlinewidth\": 0, \"ticks\": \"\"}}, \"type\": \"parcoords\"}], \"pie\": [{\"automargin\": true, \"type\": \"pie\"}], \"scatter\": [{\"marker\": {\"colorbar\": {\"outlinewidth\": 0, \"ticks\": \"\"}}, \"type\": \"scatter\"}], \"scatter3d\": [{\"line\": {\"colorbar\": {\"outlinewidth\": 0, \"ticks\": \"\"}}, \"marker\": {\"colorbar\": {\"outlinewidth\": 0, \"ticks\": \"\"}}, \"type\": \"scatter3d\"}], \"scattercarpet\": [{\"marker\": {\"colorbar\": {\"outlinewidth\": 0, \"ticks\": \"\"}}, \"type\": \"scattercarpet\"}], \"scattergeo\": [{\"marker\": {\"colorbar\": {\"outlinewidth\": 0, \"ticks\": \"\"}}, \"type\": \"scattergeo\"}], \"scattergl\": [{\"marker\": {\"colorbar\": {\"outlinewidth\": 0, \"ticks\": \"\"}}, \"type\": \"scattergl\"}], \"scattermapbox\": [{\"marker\": {\"colorbar\": {\"outlinewidth\": 0, \"ticks\": \"\"}}, \"type\": \"scattermapbox\"}], \"scatterpolar\": [{\"marker\": {\"colorbar\": {\"outlinewidth\": 0, \"ticks\": \"\"}}, \"type\": \"scatterpolar\"}], \"scatterpolargl\": [{\"marker\": {\"colorbar\": {\"outlinewidth\": 0, \"ticks\": \"\"}}, \"type\": \"scatterpolargl\"}], \"scatterternary\": [{\"marker\": {\"colorbar\": {\"outlinewidth\": 0, \"ticks\": \"\"}}, \"type\": \"scatterternary\"}], \"surface\": [{\"colorbar\": {\"outlinewidth\": 0, \"ticks\": \"\"}, \"colorscale\": [[0.0, \"#0d0887\"], [0.1111111111111111, \"#46039f\"], [0.2222222222222222, \"#7201a8\"], [0.3333333333333333, \"#9c179e\"], [0.4444444444444444, \"#bd3786\"], [0.5555555555555556, \"#d8576b\"], [0.6666666666666666, \"#ed7953\"], [0.7777777777777778, \"#fb9f3a\"], [0.8888888888888888, \"#fdca26\"], [1.0, \"#f0f921\"]], \"type\": \"surface\"}], \"table\": [{\"cells\": {\"fill\": {\"color\": \"#EBF0F8\"}, \"line\": {\"color\": \"white\"}}, \"header\": {\"fill\": {\"color\": \"#C8D4E3\"}, \"line\": {\"color\": \"white\"}}, \"type\": \"table\"}]}, \"layout\": {\"annotationdefaults\": {\"arrowcolor\": \"#2a3f5f\", \"arrowhead\": 0, \"arrowwidth\": 1}, \"coloraxis\": {\"colorbar\": {\"outlinewidth\": 0, \"ticks\": \"\"}}, \"colorscale\": {\"diverging\": [[0, \"#8e0152\"], [0.1, \"#c51b7d\"], [0.2, \"#de77ae\"], [0.3, \"#f1b6da\"], [0.4, \"#fde0ef\"], [0.5, \"#f7f7f7\"], [0.6, \"#e6f5d0\"], [0.7, \"#b8e186\"], [0.8, \"#7fbc41\"], [0.9, \"#4d9221\"], [1, \"#276419\"]], \"sequential\": [[0.0, \"#0d0887\"], [0.1111111111111111, \"#46039f\"], [0.2222222222222222, \"#7201a8\"], [0.3333333333333333, \"#9c179e\"], [0.4444444444444444, \"#bd3786\"], [0.5555555555555556, \"#d8576b\"], [0.6666666666666666, \"#ed7953\"], [0.7777777777777778, \"#fb9f3a\"], [0.8888888888888888, \"#fdca26\"], [1.0, \"#f0f921\"]], \"sequentialminus\": [[0.0, \"#0d0887\"], [0.1111111111111111, \"#46039f\"], [0.2222222222222222, \"#7201a8\"], [0.3333333333333333, \"#9c179e\"], [0.4444444444444444, \"#bd3786\"], [0.5555555555555556, \"#d8576b\"], [0.6666666666666666, \"#ed7953\"], [0.7777777777777778, \"#fb9f3a\"], [0.8888888888888888, \"#fdca26\"], [1.0, \"#f0f921\"]]}, \"colorway\": [\"#636efa\", \"#EF553B\", \"#00cc96\", \"#ab63fa\", \"#FFA15A\", \"#19d3f3\", \"#FF6692\", \"#B6E880\", \"#FF97FF\", \"#FECB52\"], \"font\": {\"color\": \"#2a3f5f\"}, \"geo\": {\"bgcolor\": \"white\", \"lakecolor\": \"white\", \"landcolor\": \"#E5ECF6\", \"showlakes\": true, \"showland\": true, \"subunitcolor\": \"white\"}, \"hoverlabel\": {\"align\": \"left\"}, \"hovermode\": \"closest\", \"mapbox\": {\"style\": \"light\"}, \"paper_bgcolor\": \"white\", \"plot_bgcolor\": \"#E5ECF6\", \"polar\": {\"angularaxis\": {\"gridcolor\": \"white\", \"linecolor\": \"white\", \"ticks\": \"\"}, \"bgcolor\": \"#E5ECF6\", \"radialaxis\": {\"gridcolor\": \"white\", \"linecolor\": \"white\", \"ticks\": \"\"}}, \"scene\": {\"xaxis\": {\"backgroundcolor\": \"#E5ECF6\", \"gridcolor\": \"white\", \"gridwidth\": 2, \"linecolor\": \"white\", \"showbackground\": true, \"ticks\": \"\", \"zerolinecolor\": \"white\"}, \"yaxis\": {\"backgroundcolor\": \"#E5ECF6\", \"gridcolor\": \"white\", \"gridwidth\": 2, \"linecolor\": \"white\", \"showbackground\": true, \"ticks\": \"\", \"zerolinecolor\": \"white\"}, \"zaxis\": {\"backgroundcolor\": \"#E5ECF6\", \"gridcolor\": \"white\", \"gridwidth\": 2, \"linecolor\": \"white\", \"showbackground\": true, \"ticks\": \"\", \"zerolinecolor\": \"white\"}}, \"shapedefaults\": {\"line\": {\"color\": \"#2a3f5f\"}}, \"ternary\": {\"aaxis\": {\"gridcolor\": \"white\", \"linecolor\": \"white\", \"ticks\": \"\"}, \"baxis\": {\"gridcolor\": \"white\", \"linecolor\": \"white\", \"ticks\": \"\"}, \"bgcolor\": \"#E5ECF6\", \"caxis\": {\"gridcolor\": \"white\", \"linecolor\": \"white\", \"ticks\": \"\"}}, \"title\": {\"x\": 0.05}, \"xaxis\": {\"automargin\": true, \"gridcolor\": \"white\", \"linecolor\": \"white\", \"ticks\": \"\", \"title\": {\"standoff\": 15}, \"zerolinecolor\": \"white\", \"zerolinewidth\": 2}, \"yaxis\": {\"automargin\": true, \"gridcolor\": \"white\", \"linecolor\": \"white\", \"ticks\": \"\", \"title\": {\"standoff\": 15}, \"zerolinecolor\": \"white\", \"zerolinewidth\": 2}}}, \"title\": {\"text\": \"Coherence Value and # of Topics\"}, \"xaxis\": {\"anchor\": \"y\", \"domain\": [0.0, 1.0], \"title\": {\"text\": \"# Topics\"}}, \"yaxis\": {\"anchor\": \"x\", \"domain\": [0.0, 1.0], \"title\": {\"text\": \"Score\"}}},\n",
       "                        {\"responsive\": true}\n",
       "                    ).then(function(){\n",
       "                            \n",
       "var gd = document.getElementById('3bdd8257-d8ad-433d-b674-7aabfeb09347');\n",
       "var x = new MutationObserver(function (mutations, observer) {{\n",
       "        var display = window.getComputedStyle(gd).display;\n",
       "        if (!display || display === 'none') {{\n",
       "            console.log([gd, 'removed!']);\n",
       "            Plotly.purge(gd);\n",
       "            observer.disconnect();\n",
       "        }}\n",
       "}});\n",
       "\n",
       "// Listen for the removal of the full notebook cells\n",
       "var notebookContainer = gd.closest('#notebook-container');\n",
       "if (notebookContainer) {{\n",
       "    x.observe(notebookContainer, {childList: true});\n",
       "}}\n",
       "\n",
       "// Listen for the clearing of the current output cell\n",
       "var outputEl = gd.closest('.output');\n",
       "if (outputEl) {{\n",
       "    x.observe(outputEl, {childList: true});\n",
       "}}\n",
       "\n",
       "                        })\n",
       "                };\n",
       "                });\n",
       "            </script>\n",
       "        </div>"
      ]
     },
     "metadata": {},
     "output_type": "display_data"
    },
    {
     "name": "stdout",
     "output_type": "stream",
     "text": [
      "Best Model: Latent Dirichlet Allocation | # Topics: 64 | Coherence: 0.6238\n"
     ]
    }
   ],
   "source": [
    "tune_lda_negative = tune_model(model='lda', supervised_target=None, estimator='xgboost')"
   ]
  },
  {
   "cell_type": "markdown",
   "metadata": {},
   "source": [
    "16 topics is chosen"
   ]
  },
  {
   "cell_type": "code",
   "execution_count": 21,
   "metadata": {},
   "outputs": [
    {
     "name": "stdout",
     "output_type": "stream",
     "text": [
      "LdaModel(num_terms=637, num_topics=8, decay=0.5, chunksize=100)\n"
     ]
    }
   ],
   "source": [
    "lda_neg_8 = create_model('lda', num_topics=8)\n",
    "print(lda_neg_8)"
   ]
  },
  {
   "cell_type": "code",
   "execution_count": 22,
   "metadata": {},
   "outputs": [
    {
     "data": {
      "application/vnd.jupyter.widget-view+json": {
       "model_id": "c5b0e8d36adc4f91a70e65ba7e4dd6d8",
       "version_major": 2,
       "version_minor": 0
      },
      "text/plain": [
       "interactive(children=(ToggleButtons(description='Plot Type:', icons=('',), options=(('Frequency Plot', 'freque…"
      ]
     },
     "metadata": {},
     "output_type": "display_data"
    }
   ],
   "source": [
    "evaluate_model(lda_neg_8)"
   ]
  },
  {
   "cell_type": "code",
   "execution_count": 23,
   "metadata": {},
   "outputs": [
    {
     "data": {
      "text/html": [
       "        <script type=\"text/javascript\">\n",
       "        window.PlotlyConfig = {MathJaxConfig: 'local'};\n",
       "        if (window.MathJax) {MathJax.Hub.Config({SVG: {font: \"STIX-Web\"}});}\n",
       "        if (typeof require !== 'undefined') {\n",
       "        require.undef(\"plotly\");\n",
       "        requirejs.config({\n",
       "            paths: {\n",
       "                'plotly': ['https://cdn.plot.ly/plotly-latest.min']\n",
       "            }\n",
       "        });\n",
       "        require(['plotly'], function(Plotly) {\n",
       "            window._Plotly = Plotly;\n",
       "        });\n",
       "        }\n",
       "        </script>\n",
       "        "
      ]
     },
     "metadata": {},
     "output_type": "display_data"
    },
    {
     "data": {
      "text/html": [
       "\n",
       "<link rel=\"stylesheet\" type=\"text/css\" href=\"https://cdn.rawgit.com/bmabey/pyLDAvis/files/ldavis.v1.0.0.css\">\n",
       "\n",
       "\n",
       "<div id=\"ldavis_el2346425478734523606924649609\"></div>\n",
       "<script type=\"text/javascript\">\n",
       "\n",
       "var ldavis_el2346425478734523606924649609_data = {\"mdsDat\": {\"x\": [-0.11193174402942954, 0.058060328184456195, 0.1569572600066465, -0.17593949552098936, 0.1363293316896893, -0.02315506049695707, -0.06423936219299438, 0.023918742359578363], \"y\": [0.13564517081421876, 0.17040428233082552, -0.10346036751528423, -0.03319902380600434, 0.050477637441452616, 0.012840681673772631, -0.14681591849269204, -0.0858924624462889], \"topics\": [1, 2, 3, 4, 5, 6, 7, 8], \"cluster\": [1, 1, 1, 1, 1, 1, 1, 1], \"Freq\": [27.65726089477539, 25.441078186035156, 12.282965660095215, 11.997377395629883, 7.1191558837890625, 6.249159812927246, 5.858770847320557, 3.3942389488220215]}, \"tinfo\": {\"Term\": [\"floor\", \"suite\", \"night\", \"use\", \"go\", \"breakfast\", \"poor\", \"reception\", \"star\", \"time\", \"also\", \"access\", \"part\", \"look\", \"cost\", \"price\", \"want\", \"staff\", \"well\", \"visit\", \"pool\", \"feel\", \"executive\", \"however\", \"many\", \"quality\", \"compare\", \"taste\", \"lot\", \"consider\", \"enough\", \"arrive\", \"tea\", \"include\", \"client\", \"minute\", \"wine\", \"milk\", \"surely\", \"nicosia\", \"comment\", \"management\", \"table\", \"selection\", \"desk\", \"waitress\", \"search\", \"impression\", \"glass\", \"breakfast\", \"coffee\", \"less\", \"overall\", \"suite\", \"first\", \"basis\", \"stale\", \"meeting\", \"past\", \"inevitable\", \"expensive\", \"charge\", \"extra\", \"access\", \"year\", \"executive\", \"book\", \"pool\", \"price\", \"well\", \"take\", \"rate\", \"pay\", \"service\", \"order\", \"time\", \"staff\", \"problem\", \"make\", \"stay\", \"place\", \"say\", \"go\", \"day\", \"leak\", \"eat\", \"ignore\", \"sometimes\", \"meal\", \"extraordinary\", \"evohia\", \"uncomfortable\", \"renovate\", \"wait\", \"ago\", \"big\", \"realize\", \"bathtub\", \"suit\", \"chance\", \"water\", \"bath\", \"change\", \"bloody\", \"week\", \"comic\", \"microwave\", \"mean\", \"gas\", \"top\", \"bit\", \"shock\", \"full\", \"floor\", \"container\", \"clean\", \"interested\", \"bathroom\", \"excellent\", \"drink\", \"people\", \"request\", \"terrible\", \"fill\", \"really\", \"staff\", \"internet\", \"want\", \"say\", \"stay\", \"old\", \"reception\", \"service\", \"bar\", \"problem\", \"visit\", \"pay\", \"night\", \"much\", \"book\", \"pool\", \"offer\", \"tourist\", \"steak\", \"flight\", \"fruit\", \"orange\", \"fresh\", \"apple\", \"feel\", \"available\", \"vodka\", \"sick\", \"margarita\", \"bother\", \"try\", \"heat\", \"thinking\", \"man\", \"pm\", \"poolside\", \"return\", \"massive\", \"plane\", \"corridor\", \"kid\", \"glasgow\", \"load\", \"reassure\", \"coach\", \"surprised\", \"accommodate\", \"come\", \"night\", \"delay\", \"noise\", \"great\", \"taste\", \"quality\", \"ask\", \"experience\", \"time\", \"hour\", \"bar\", \"star\", \"breakfast\", \"reception\", \"open\", \"sleep\", \"standard\", \"give\", \"overall\", \"even\", \"consider\", \"decor\", \"help\", \"age\", \"previous\", \"\\u03ba\\u03c1\\u03c4\\u03b9\\u03c4\\u03b9\\u03ba\\u03b7\", \"vibrant\", \"century\", \"refurbishment\", \"show\", \"massage\", \"con\", \"suppose\", \"fact\", \"barsummary\", \"spa\", \"obsolete\", \"spend\", \"tourism\", \"sub\", \"considerable\", \"waste\", \"dated\", \"incredibly\", \"rip\", \"kebab\", \"waiter\", \"ready\", \"difficult\", \"major\", \"general\", \"space\", \"need\", \"poor\", \"business\", \"euro\", \"close\", \"money\", \"taste\", \"open\", \"time\", \"standard\", \"stay\", \"make\", \"place\", \"visit\", \"take\", \"go\", \"breakfast\", \"use\", \"think\", \"average\", \"friendly\", \"event\", \"cause\", \"promotion\", \"care\", \"remove\", \"number\", \"disappointment\", \"washroom\", \"reasonably\", \"non\", \"home\", \"hold\", \"existant\", \"dinner\", \"bone\", \"weekend\", \"wedding\", \"nibble\", \"made\", \"due\", \"block\", \"finally\", \"renovation\", \"notice\", \"shopping\", \"relatively\", \"honest\", \"district\", \"fair\", \"happen\", \"attend\", \"maybe\", \"star\", \"however\", \"city\", \"much\", \"order\", \"reception\", \"go\", \"price\", \"cocktail\", \"small\", \"unfortunately\", \"take\", \"charge\", \"general\", \"drink\", \"say\", \"know\", \"case\", \"unacceptable\", \"cost\", \"provide\", \"disappoint\", \"always\", \"perception\", \"approach\", \"franlky\", \"discover\", \"extortionate\", \"hilton\", \"frankly\", \"backward\", \"card\", \"supposedly\", \"outrageous\", \"issue\", \"negative\", \"odd\", \"pick\", \"elsewhere\", \"distant\", \"point\", \"today\", \"checkin\", \"straight\", \"turndown\", \"force\", \"tandoori\", \"spinach\", \"estiade\", \"compare\", \"also\", \"look\", \"go\", \"access\", \"many\", \"price\", \"time\", \"breakfast\", \"change\", \"old\", \"reception\", \"hour\", \"pay\", \"service\", \"low\", \"tell\", \"person\", \"last\", \"buffet\", \"leave\", \"free\", \"well\", \"course\", \"ask\", \"menu\", \"cake\", \"remain\", \"enormous\", \"divide\", \"mark\", \"dirty\", \"smelly\", \"pic\", \"culture\", \"personality\", \"famous\", \"capital\", \"shrub\", \"sea\", \"greek\", \"sculptor\", \"still\", \"middle\", \"archaeological\", \"mother\", \"green\", \"herb\", \"army\", \"country\", \"program\", \"piece\", \"red\", \"forget\", \"enemy\", \"ancient\", \"lot\", \"visit\", \"swim\", \"clearly\", \"advertise\", \"stay\", \"bathroom\", \"pay\", \"use\", \"night\", \"old\", \"awful\", \"carpet\", \"stain\", \"look\", \"furniture\", \"avoid\", \"standard\", \"pool\", \"extra\", \"door\", \"closed\", \"personal\", \"dou\", \"timing\", \"eceutive\", \"understandable\", \"empty\", \"invade\", \"separate\", \"present\", \"oblige\", \"unlock\", \"weather\", \"excuse\", \"explanation\", \"part\", \"swim\", \"reason\", \"bed\", \"kind\", \"suite\", \"guest\", \"never\", \"floor\", \"use\", \"also\", \"quality\", \"call\", \"poor\", \"well\", \"executive\", \"reception\", \"night\", \"want\", \"staff\"], \"Freq\": [5.0, 3.0, 7.0, 5.0, 8.0, 17.0, 4.0, 7.0, 5.0, 9.0, 3.0, 4.0, 2.0, 3.0, 2.0, 8.0, 4.0, 9.0, 4.0, 7.0, 6.0, 3.0, 5.0, 3.0, 4.0, 3.0, 2.0, 3.0, 2.0, 2.0, 2.5469813346862793, 2.5407910346984863, 2.5405654907226562, 2.5384299755096436, 1.7302080392837524, 1.7289897203445435, 1.7272661924362183, 1.7279974222183228, 1.7267051935195923, 1.7265557050704956, 1.7264021635055542, 1.7260712385177612, 1.7258517742156982, 1.725811243057251, 1.7263814210891724, 1.725534200668335, 1.7250081300735474, 1.7201073169708252, 1.6415109634399414, 12.28921890258789, 2.5425946712493896, 2.5353219509124756, 2.534392833709717, 2.541478395462036, 2.544759750366211, 0.9169737696647644, 0.9169735908508301, 0.9169735908508301, 0.9169735908508301, 0.9169732928276062, 3.357206106185913, 4.16713285446167, 1.7271699905395508, 2.5380125045776367, 1.7306900024414062, 3.3535053730010986, 3.3484668731689453, 3.3571105003356934, 3.5986039638519287, 2.5416858196258545, 3.365885019302368, 2.539391279220581, 3.3460097312927246, 3.3549866676330566, 2.723219394683838, 3.355064868927002, 3.358668804168701, 2.542959451675415, 2.5444767475128174, 3.3305201530456543, 2.5446667671203613, 2.5458626747131348, 2.739379405975342, 4.10410213470459, 3.295327663421631, 2.5057010650634766, 2.4959590435028076, 1.7038589715957642, 1.703859567642212, 1.7038594484329224, 1.7038593292236328, 1.7023074626922607, 1.7021888494491577, 1.7016352415084839, 1.7015172243118286, 1.7004544734954834, 1.69754958152771, 1.696975827217102, 1.696496844291687, 1.6966454982757568, 2.4943654537200928, 2.499951124191284, 3.3001439571380615, 0.9020110368728638, 0.9020110368728638, 0.9020112156867981, 0.9020107984542847, 0.9020112156867981, 0.9020110368728638, 0.9020107984542847, 0.9020107984542847, 0.9020107984542847, 0.9020107388496399, 3.306119203567505, 0.9020107984542847, 4.10758113861084, 0.9020110368728638, 2.4985649585723877, 0.9020107984542847, 2.505702018737793, 2.5022716522216797, 1.7003166675567627, 1.7038607597351074, 1.703859567642212, 2.5108892917633057, 4.915928363800049, 2.5056982040405273, 2.5057032108306885, 3.3041677474975586, 4.901838779449463, 3.307199716567993, 3.309699535369873, 3.3123888969421387, 2.5057051181793213, 2.5047686100006104, 2.499948501586914, 2.5111827850341797, 2.50270414352417, 1.7098757028579712, 1.7062609195709229, 1.7038615942001343, 1.7038609981536865, 2.0813145637512207, 1.41704261302948, 1.415321946144104, 1.4119871854782104, 1.4112504720687866, 1.4104397296905518, 1.4100053310394287, 2.0770747661590576, 2.0740346908569336, 0.7501834630966187, 0.7501835227012634, 0.7501833438873291, 0.7501835227012634, 0.7501832842826843, 0.7501829862594604, 0.7501829862594604, 0.7501830458641052, 0.750182569026947, 0.7496377825737, 0.7495470643043518, 0.7495125532150269, 0.7494396567344666, 0.7494338750839233, 0.7493502497673035, 0.7493569254875183, 0.7493341565132141, 0.7493290901184082, 0.7493334412574768, 0.7492910027503967, 0.7490719556808472, 1.4170416593551636, 3.416307210922241, 1.4157477617263794, 1.4156862497329712, 1.4102391004562378, 1.4170429706573486, 1.4139915704727173, 1.4108126163482666, 1.4164035320281982, 2.0797650814056396, 1.416412115097046, 1.4170408248901367, 1.4130427837371826, 2.0788488388061523, 1.4127968549728394, 0.7521072030067444, 0.7513827681541443, 0.7503050565719604, 0.7502523064613342, 0.7502425909042358, 0.7502379417419434, 2.0499823093414307, 1.3999415636062622, 1.399747610092163, 1.3995436429977417, 1.3943454027175903, 1.3936322927474976, 0.7418047189712524, 0.7418047189712524, 0.7418047189712524, 0.7418047189712524, 0.7418044209480286, 0.7418044209480286, 0.7418044209480286, 0.741804301738739, 0.741804301738739, 0.741804301738739, 0.741804301738739, 0.741804301738739, 0.7418041825294495, 0.7417300343513489, 0.7417300939559937, 0.7417227029800415, 0.7417226433753967, 0.7417222857475281, 0.7417186498641968, 0.7417148351669312, 0.7416380643844604, 0.7407515048980713, 0.7405925989151001, 0.7404974102973938, 1.3993220329284668, 1.3982700109481812, 2.059009552001953, 2.057230234146118, 2.056896924972534, 1.4009977579116821, 1.3979403972625732, 1.4010168313980103, 1.3995774984359741, 1.3995661735534668, 2.0574538707733154, 1.4011164903640747, 2.0576987266540527, 1.397247552871704, 1.4010593891143799, 1.4001103639602661, 1.3974114656448364, 1.3993124961853027, 1.3995254039764404, 0.7424823045730591, 0.741928219795227, 0.7419251799583435, 0.7418755292892456, 1.1467539072036743, 1.142996072769165, 1.1277908086776733, 0.607096254825592, 0.607096254825592, 0.6070961952209473, 0.6070961952209473, 0.6070961356163025, 0.6070959568023682, 0.6070960760116577, 0.6070959568023682, 0.6070960760116577, 0.6070961356163025, 0.6070960760116577, 0.6070960760116577, 0.6070960760116577, 0.6070958375930786, 0.6070957183837891, 0.6070958375930786, 0.6018643379211426, 0.6010839343070984, 0.600849449634552, 0.6005393862724304, 0.6001105904579163, 0.599991500377655, 0.5986105799674988, 0.5979426503181458, 0.5976598262786865, 0.5976483821868896, 0.5975292921066284, 1.1467900276184082, 1.124051570892334, 1.5445334911346436, 1.1467541456222534, 0.990185558795929, 1.1065471172332764, 1.0237412452697754, 1.109673261642456, 1.01960289478302, 0.9866888523101807, 0.6070963144302368, 0.6088792085647583, 0.608456015586853, 0.6076607704162598, 0.6074962019920349, 0.6073572039604187, 0.60712069272995, 0.6071168184280396, 0.6071121096611023, 0.6070961952209473, 0.6070963144302368, 1.5725394487380981, 1.0693227052688599, 1.0693227052688599, 1.0693135261535645, 0.5661040544509888, 0.5661039352416992, 0.5661039352416992, 0.5661039352416992, 0.5661039352416992, 0.5661038160324097, 0.5661038160324097, 0.5661038160324097, 0.5661037564277649, 0.5661038160324097, 0.5661038160324097, 0.5661038160324097, 0.5661038160324097, 0.5661038160324097, 0.5661038160324097, 0.5661036372184753, 0.5661036372184753, 0.5661036372184753, 0.5661036372184753, 0.5661035180091858, 0.5661037564277649, 0.566103458404541, 0.5660978555679321, 0.5660960674285889, 0.5660962462425232, 0.5660958290100098, 1.0694279670715332, 1.0693581104278564, 1.0693223476409912, 1.57428777217865, 1.069482445716858, 1.0717339515686035, 1.070419430732727, 1.0693109035491943, 0.5694171786308289, 0.5685773491859436, 0.5684362053871155, 0.5679884552955627, 0.5677601099014282, 0.5677084922790527, 0.5672720670700073, 0.5671250820159912, 0.5669675469398499, 0.5668483376502991, 0.5666987895965576, 0.5662432909011841, 0.5661713480949402, 0.5661450624465942, 0.5661411881446838, 0.5661392211914062, 0.5661336183547974, 0.5661308169364929, 1.038020133972168, 1.0330208539962769, 1.0326448678970337, 1.0317891836166382, 0.549533486366272, 0.549533486366272, 0.5495334267616272, 0.5495315194129944, 0.5473642349243164, 0.5473316311836243, 0.547230064868927, 0.5472667217254639, 0.5471888184547424, 0.5471611618995667, 0.5471134185791016, 0.5471426248550415, 0.5471002459526062, 0.5471010804176331, 0.5471042394638062, 0.547074019908905, 0.5470684766769409, 0.5470499992370605, 0.5470409989356995, 0.5470906496047974, 0.5469241142272949, 0.5468946099281311, 0.5468873381614685, 0.5468516945838928, 0.5468153953552246, 0.5468350648880005, 1.0357964038848877, 1.03380286693573, 0.5495331287384033, 0.5495335459709167, 0.5495316386222839, 0.550482451915741, 0.5500680804252625, 0.5500391125679016, 0.550023078918457, 0.5498660206794739, 0.5496248602867126, 0.5495336055755615, 0.5495336055755615, 0.5495335459709167, 0.5495335459709167, 0.5495334267616272, 0.549533486366272, 0.5495334267616272, 0.5495332479476929, 0.549531102180481, 0.753105103969574, 0.7531044483184814, 0.3986983299255371, 0.3986983001232147, 0.39869821071624756, 0.39869818091392517, 0.398698091506958, 0.398698091506958, 0.3986980617046356, 0.3986978828907013, 0.3986978530883789, 0.39869794249534607, 0.3986978828907013, 0.3986978530883789, 0.39869794249534607, 0.3986978828907013, 0.7545014023780823, 0.3986980617046356, 0.39869821071624756, 0.39869797229766846, 0.3986980617046356, 0.7554622292518616, 0.398698091506958, 0.39869827032089233, 0.7533201575279236, 0.7532694339752197, 0.40011319518089294, 0.39869797229766846, 0.3999829888343811, 0.39869800209999084, 0.3999719023704529, 0.40236619114875793, 0.4003427028656006, 0.40003126859664917, 0.3997168242931366, 0.39877939224243164], \"Total\": [5.0, 3.0, 7.0, 5.0, 8.0, 17.0, 4.0, 7.0, 5.0, 9.0, 3.0, 4.0, 2.0, 3.0, 2.0, 8.0, 4.0, 9.0, 4.0, 7.0, 6.0, 3.0, 5.0, 3.0, 4.0, 3.0, 2.0, 3.0, 2.0, 2.0, 3.048896312713623, 3.04539155960083, 3.0460939407348633, 3.0441410541534424, 2.233213186264038, 2.2321197986602783, 2.2311859130859375, 2.2323172092437744, 2.2307963371276855, 2.230759382247925, 2.23069429397583, 2.230475902557373, 2.230410099029541, 2.2303621768951416, 2.231290578842163, 2.230222702026367, 2.2299420833587646, 2.2296290397644043, 2.2024407386779785, 17.43502426147461, 3.714172840118408, 3.711301326751709, 3.7107644081115723, 3.7546470165252686, 3.848007917404175, 1.4187074899673462, 1.418707251548767, 1.418707251548767, 1.4187073707580566, 1.4187071323394775, 5.322422027587891, 6.673522472381592, 2.719632148742676, 4.05034065246582, 2.737042188644409, 5.67482328414917, 6.127249717712402, 6.968227863311768, 8.290908813476562, 4.563113689422607, 7.989716529846191, 4.648043155670166, 7.921113967895508, 8.237753868103027, 5.789558410644531, 9.645524978637695, 9.695184707641602, 5.4518280029296875, 5.521936416625977, 11.792881965637207, 6.458128929138184, 6.7937188148498535, 8.623139381408691, 4.611318111419678, 3.8084723949432373, 3.0090982913970947, 3.0070436000823975, 2.207256317138672, 2.20725679397583, 2.20725679397583, 2.20725679397583, 2.2066783905029297, 2.206634044647217, 2.206427574157715, 2.20638370513916, 2.206393241882324, 2.205979108810425, 2.205679178237915, 2.20552659034729, 2.2057199478149414, 3.6734163761138916, 3.8228704929351807, 5.126986503601074, 1.4054077863693237, 1.4054079055786133, 1.4054081439971924, 1.4054075479507446, 1.4054081439971924, 1.4054079055786133, 1.4054075479507446, 1.4054075479507446, 1.4054075479507446, 1.4054075479507446, 5.185837268829346, 1.4054075479507446, 6.906860828399658, 1.4054081439971924, 4.155721187591553, 1.4054076671600342, 4.362259864807129, 4.362978935241699, 2.8660049438476562, 2.8740835189819336, 2.874187469482422, 4.490330696105957, 9.695184707641602, 4.6355977058410645, 4.68041467666626, 6.7937188148498535, 11.792881965637207, 7.069582939147949, 7.912781715393066, 8.237753868103027, 5.002459526062012, 5.4518280029296875, 7.616593360900879, 7.921113967895508, 7.999173164367676, 5.448421478271484, 6.127249717712402, 6.968227863311768, 3.0223371982574463, 2.6045987606048584, 1.9373130798339844, 1.9375804662704468, 1.9379342794418335, 1.9379571676254272, 1.9380135536193848, 1.938295841217041, 3.108269691467285, 3.420583963394165, 1.2704535722732544, 1.270453691482544, 1.2704534530639648, 1.270453691482544, 1.2704534530639648, 1.2704533338546753, 1.2704532146453857, 1.270453691482544, 1.2704535722732544, 1.2705479860305786, 1.270542025566101, 1.2705565690994263, 1.2705700397491455, 1.2705662250518799, 1.2705681324005127, 1.27058744430542, 1.2705830335617065, 1.270595908164978, 1.2706048488616943, 1.2706012725830078, 1.270639419555664, 2.738474130630493, 7.999173164367676, 2.738464593887329, 2.752572774887085, 3.5658302307128906, 3.7444474697113037, 3.9088683128356934, 4.056642532348633, 4.353915691375732, 9.645524978637695, 4.856987476348877, 5.002459526062012, 5.2427239418029785, 17.43502426147461, 7.912781715393066, 4.205323696136475, 1.9299455881118774, 4.704957008361816, 3.5595736503601074, 3.7107644081115723, 2.897360324859619, 2.584122657775879, 1.9224311113357544, 1.9226950407028198, 1.9226300716400146, 1.9238998889923096, 1.9240537881851196, 1.2630059719085693, 1.2630059719085693, 1.2630059719085693, 1.2630060911178589, 1.2630056142807007, 1.2630056142807007, 1.2630057334899902, 1.2630056142807007, 1.2630056142807007, 1.2630056142807007, 1.2630058526992798, 1.2630057334899902, 1.2630057334899902, 1.26299250125885, 1.2629926204681396, 1.2629910707473755, 1.2629910707473755, 1.262990951538086, 1.2629904747009277, 1.2629895210266113, 1.2629660367965698, 1.2631845474243164, 1.26301908493042, 1.2630199193954468, 2.462317943572998, 2.5898005962371826, 4.064453125, 4.540332794189453, 5.000307083129883, 3.227360486984253, 3.268585681915283, 3.5260050296783447, 3.7444474697113037, 4.205323696136475, 9.645524978637695, 4.704957008361816, 11.792881965637207, 5.521936416625977, 6.458128929138184, 7.616593360900879, 7.989716529846191, 8.623139381408691, 17.43502426147461, 5.692009925842285, 2.8789942264556885, 2.0639894008636475, 3.680232286453247, 1.6829239130020142, 1.6840060949325562, 1.6911065578460693, 1.1432660818099976, 1.1432660818099976, 1.1432660818099976, 1.1432660818099976, 1.143265962600708, 1.1432658433914185, 1.143265962600708, 1.1432658433914185, 1.143265962600708, 1.143265962600708, 1.143265962600708, 1.143265962600708, 1.143265962600708, 1.143265724182129, 1.143265724182129, 1.143265724182129, 1.144991397857666, 1.1455386877059937, 1.1454944610595703, 1.1459141969680786, 1.1460368633270264, 1.1459600925445557, 1.146736741065979, 1.1470896005630493, 1.1472090482711792, 1.1473388671875, 1.1472675800323486, 2.496347665786743, 2.494687557220459, 5.2427239418029785, 3.286552667617798, 3.236154079437256, 5.448421478271484, 5.789558410644531, 7.912781715393066, 8.623139381408691, 8.290908813476562, 1.8100929260253906, 4.375368118286133, 2.7594308853149414, 7.989716529846191, 6.673522472381592, 2.462317943572998, 4.362259864807129, 6.7937188148498535, 1.956804633140564, 2.612447738647461, 2.7601265907287598, 2.113264560699463, 1.610047698020935, 1.610047698020935, 1.6100504398345947, 1.1068288087844849, 1.1068286895751953, 1.1068286895751953, 1.1068286895751953, 1.1068286895751953, 1.1068286895751953, 1.1068286895751953, 1.1068286895751953, 1.1068285703659058, 1.1068286895751953, 1.1068286895751953, 1.1068286895751953, 1.1068286895751953, 1.1068286895751953, 1.1068286895751953, 1.1068285703659058, 1.1068285703659058, 1.1068285703659058, 1.1068284511566162, 1.1068284511566162, 1.1068286895751953, 1.1068284511566162, 1.1068305969238281, 1.1068310737609863, 1.1068311929702759, 1.1068311929702759, 2.425063133239746, 3.57942795753479, 3.7280848026275635, 8.623139381408691, 4.05034065246582, 4.704397201538086, 8.290908813476562, 9.645524978637695, 17.43502426147461, 5.126986503601074, 7.069582939147949, 7.912781715393066, 4.856987476348877, 7.921113967895508, 8.237753868103027, 1.6503092050552368, 1.9077041149139404, 3.381364107131958, 4.036444187164307, 2.461458683013916, 3.889126777648926, 2.7220773696899414, 4.563113689422607, 1.9202901124954224, 4.056642532348633, 1.920562982559204, 1.5805885791778564, 1.580186128616333, 1.5797722339630127, 1.5798970460891724, 1.092099666595459, 1.092099666595459, 1.092099666595459, 1.0920991897583008, 1.0918079614639282, 1.091783046722412, 1.0917868614196777, 1.0918937921524048, 1.091819167137146, 1.091784954071045, 1.091775894165039, 1.0918444395065308, 1.0917621850967407, 1.0918045043945312, 1.0918855667114258, 1.091847538948059, 1.0918501615524292, 1.0918288230895996, 1.0918742418289185, 1.0919790267944336, 1.091733694076538, 1.0918240547180176, 1.0918165445327759, 1.0917901992797852, 1.0917282104492188, 1.0918070077896118, 2.1232824325561523, 7.616593360900879, 1.4464972019195557, 1.7522251605987549, 1.7589260339736938, 11.792881965637207, 4.155721187591553, 7.921113967895508, 5.692009925842285, 7.999173164367676, 7.069582939147949, 1.893879771232605, 1.89388108253479, 1.8938806056976318, 3.7280848026275635, 3.3685412406921387, 1.907179832458496, 4.704957008361816, 6.968227863311768, 2.719632148742676, 1.3124315738677979, 1.3124313354492188, 0.9580245018005371, 0.9580245018005371, 0.9580243825912476, 0.9580243825912476, 0.9580243825912476, 0.9580243229866028, 0.9580243825912476, 0.958024263381958, 0.9580243229866028, 0.9580243825912476, 0.9580243825912476, 0.958024263381958, 0.9580243825912476, 0.958024263381958, 2.460191488265991, 1.4464972019195557, 1.6177226305007935, 1.7598052024841309, 1.7730835676193237, 3.7546470165252686, 2.4267096519470215, 2.4271795749664307, 5.185837268829346, 5.692009925842285, 3.57942795753479, 3.9088683128356934, 4.0408430099487305, 4.540332794189453, 4.563113689422607, 5.67482328414917, 7.912781715393066, 7.999173164367676, 4.68041467666626, 9.695184707641602], \"Category\": [\"Default\", \"Default\", \"Default\", \"Default\", \"Default\", \"Default\", \"Default\", \"Default\", \"Default\", \"Default\", \"Default\", \"Default\", \"Default\", \"Default\", \"Default\", \"Default\", \"Default\", \"Default\", \"Default\", \"Default\", \"Default\", \"Default\", \"Default\", \"Default\", \"Default\", \"Default\", \"Default\", \"Default\", \"Default\", \"Default\", \"Topic1\", \"Topic1\", \"Topic1\", \"Topic1\", \"Topic1\", \"Topic1\", \"Topic1\", \"Topic1\", \"Topic1\", \"Topic1\", \"Topic1\", \"Topic1\", \"Topic1\", \"Topic1\", \"Topic1\", \"Topic1\", \"Topic1\", \"Topic1\", \"Topic1\", \"Topic1\", \"Topic1\", \"Topic1\", \"Topic1\", \"Topic1\", \"Topic1\", \"Topic1\", \"Topic1\", \"Topic1\", \"Topic1\", \"Topic1\", \"Topic1\", \"Topic1\", \"Topic1\", \"Topic1\", \"Topic1\", \"Topic1\", \"Topic1\", \"Topic1\", \"Topic1\", \"Topic1\", \"Topic1\", \"Topic1\", \"Topic1\", \"Topic1\", \"Topic1\", \"Topic1\", \"Topic1\", \"Topic1\", \"Topic1\", \"Topic1\", \"Topic1\", \"Topic1\", \"Topic1\", \"Topic2\", \"Topic2\", \"Topic2\", \"Topic2\", \"Topic2\", \"Topic2\", \"Topic2\", \"Topic2\", \"Topic2\", \"Topic2\", \"Topic2\", \"Topic2\", \"Topic2\", \"Topic2\", \"Topic2\", \"Topic2\", \"Topic2\", \"Topic2\", \"Topic2\", \"Topic2\", \"Topic2\", \"Topic2\", \"Topic2\", \"Topic2\", \"Topic2\", \"Topic2\", \"Topic2\", \"Topic2\", \"Topic2\", \"Topic2\", \"Topic2\", \"Topic2\", \"Topic2\", \"Topic2\", \"Topic2\", \"Topic2\", \"Topic2\", \"Topic2\", \"Topic2\", \"Topic2\", \"Topic2\", \"Topic2\", \"Topic2\", \"Topic2\", \"Topic2\", \"Topic2\", \"Topic2\", \"Topic2\", \"Topic2\", \"Topic2\", \"Topic2\", \"Topic2\", \"Topic2\", \"Topic2\", \"Topic2\", \"Topic2\", \"Topic2\", \"Topic2\", \"Topic2\", \"Topic3\", \"Topic3\", \"Topic3\", \"Topic3\", \"Topic3\", \"Topic3\", \"Topic3\", \"Topic3\", \"Topic3\", \"Topic3\", \"Topic3\", \"Topic3\", \"Topic3\", \"Topic3\", \"Topic3\", \"Topic3\", \"Topic3\", \"Topic3\", \"Topic3\", \"Topic3\", \"Topic3\", \"Topic3\", \"Topic3\", \"Topic3\", \"Topic3\", \"Topic3\", \"Topic3\", \"Topic3\", \"Topic3\", \"Topic3\", \"Topic3\", \"Topic3\", \"Topic3\", \"Topic3\", \"Topic3\", \"Topic3\", \"Topic3\", \"Topic3\", \"Topic3\", \"Topic3\", \"Topic3\", \"Topic3\", \"Topic3\", \"Topic3\", \"Topic3\", \"Topic3\", \"Topic3\", \"Topic3\", \"Topic3\", \"Topic3\", \"Topic3\", \"Topic4\", \"Topic4\", \"Topic4\", \"Topic4\", \"Topic4\", \"Topic4\", \"Topic4\", \"Topic4\", \"Topic4\", \"Topic4\", \"Topic4\", \"Topic4\", \"Topic4\", \"Topic4\", \"Topic4\", \"Topic4\", \"Topic4\", \"Topic4\", \"Topic4\", \"Topic4\", \"Topic4\", \"Topic4\", \"Topic4\", \"Topic4\", \"Topic4\", \"Topic4\", \"Topic4\", \"Topic4\", \"Topic4\", \"Topic4\", \"Topic4\", \"Topic4\", \"Topic4\", \"Topic4\", \"Topic4\", \"Topic4\", \"Topic4\", \"Topic4\", \"Topic4\", \"Topic4\", \"Topic4\", \"Topic4\", \"Topic4\", \"Topic4\", \"Topic4\", \"Topic4\", \"Topic4\", \"Topic4\", \"Topic4\", \"Topic4\", \"Topic4\", \"Topic4\", \"Topic4\", \"Topic5\", \"Topic5\", \"Topic5\", \"Topic5\", \"Topic5\", \"Topic5\", \"Topic5\", \"Topic5\", \"Topic5\", \"Topic5\", \"Topic5\", \"Topic5\", \"Topic5\", \"Topic5\", \"Topic5\", \"Topic5\", \"Topic5\", \"Topic5\", \"Topic5\", \"Topic5\", \"Topic5\", \"Topic5\", \"Topic5\", \"Topic5\", \"Topic5\", \"Topic5\", \"Topic5\", \"Topic5\", \"Topic5\", \"Topic5\", \"Topic5\", \"Topic5\", \"Topic5\", \"Topic5\", \"Topic5\", \"Topic5\", \"Topic5\", \"Topic5\", \"Topic5\", \"Topic5\", \"Topic5\", \"Topic5\", \"Topic5\", \"Topic5\", \"Topic5\", \"Topic5\", \"Topic5\", \"Topic5\", \"Topic5\", \"Topic5\", \"Topic5\", \"Topic6\", \"Topic6\", \"Topic6\", \"Topic6\", \"Topic6\", \"Topic6\", \"Topic6\", \"Topic6\", \"Topic6\", \"Topic6\", \"Topic6\", \"Topic6\", \"Topic6\", \"Topic6\", \"Topic6\", \"Topic6\", \"Topic6\", \"Topic6\", \"Topic6\", \"Topic6\", \"Topic6\", \"Topic6\", \"Topic6\", \"Topic6\", \"Topic6\", \"Topic6\", \"Topic6\", \"Topic6\", \"Topic6\", \"Topic6\", \"Topic6\", \"Topic6\", \"Topic6\", \"Topic6\", \"Topic6\", \"Topic6\", \"Topic6\", \"Topic6\", \"Topic6\", \"Topic6\", \"Topic6\", \"Topic6\", \"Topic6\", \"Topic6\", \"Topic6\", \"Topic6\", \"Topic6\", \"Topic6\", \"Topic6\", \"Topic6\", \"Topic6\", \"Topic6\", \"Topic6\", \"Topic6\", \"Topic6\", \"Topic6\", \"Topic7\", \"Topic7\", \"Topic7\", \"Topic7\", \"Topic7\", \"Topic7\", \"Topic7\", \"Topic7\", \"Topic7\", \"Topic7\", \"Topic7\", \"Topic7\", \"Topic7\", \"Topic7\", \"Topic7\", \"Topic7\", \"Topic7\", \"Topic7\", \"Topic7\", \"Topic7\", \"Topic7\", \"Topic7\", \"Topic7\", \"Topic7\", \"Topic7\", \"Topic7\", \"Topic7\", \"Topic7\", \"Topic7\", \"Topic7\", \"Topic7\", \"Topic7\", \"Topic7\", \"Topic7\", \"Topic7\", \"Topic7\", \"Topic7\", \"Topic7\", \"Topic7\", \"Topic7\", \"Topic7\", \"Topic7\", \"Topic7\", \"Topic7\", \"Topic7\", \"Topic7\", \"Topic7\", \"Topic7\", \"Topic7\", \"Topic7\", \"Topic8\", \"Topic8\", \"Topic8\", \"Topic8\", \"Topic8\", \"Topic8\", \"Topic8\", \"Topic8\", \"Topic8\", \"Topic8\", \"Topic8\", \"Topic8\", \"Topic8\", \"Topic8\", \"Topic8\", \"Topic8\", \"Topic8\", \"Topic8\", \"Topic8\", \"Topic8\", \"Topic8\", \"Topic8\", \"Topic8\", \"Topic8\", \"Topic8\", \"Topic8\", \"Topic8\", \"Topic8\", \"Topic8\", \"Topic8\", \"Topic8\", \"Topic8\", \"Topic8\", \"Topic8\", \"Topic8\", \"Topic8\"], \"logprob\": [30.0, 29.0, 28.0, 27.0, 26.0, 25.0, 24.0, 23.0, 22.0, 21.0, 20.0, 19.0, 18.0, 17.0, 16.0, 15.0, 14.0, 13.0, 12.0, 11.0, 10.0, 9.0, 8.0, 7.0, 6.0, 5.0, 4.0, 3.0, 2.0, 1.0, -4.940700054168701, -4.9430999755859375, -4.94320011138916, -4.943999767303467, -5.327300071716309, -5.328000068664551, -5.328999996185303, -5.32859992980957, -5.3292999267578125, -5.329400062561035, -5.329500198364258, -5.329699993133545, -5.329800128936768, -5.329899787902832, -5.329500198364258, -5.329999923706055, -5.3302998542785645, -5.333199977874756, -5.379899978637695, -3.36680006980896, -4.942399978637695, -4.945199966430664, -4.9456000328063965, -4.942800045013428, -4.941500186920166, -5.962200164794922, -5.962200164794922, -5.962200164794922, -5.962200164794922, -5.962200164794922, -4.6645002365112305, -4.448299884796143, -5.329100131988525, -4.944200038909912, -5.327000141143799, -4.665599822998047, -4.667099952697754, -4.6645002365112305, -4.59499979019165, -4.942699909210205, -4.661900043487549, -4.943600177764893, -4.667799949645996, -4.66510009765625, -4.873700141906738, -4.66510009765625, -4.664000034332275, -4.942200183868408, -4.9415998458862305, -4.672399997711182, -4.9415998458862305, -4.941100120544434, -4.867800235748291, -4.380099773406982, -4.5995001792907715, -4.873499870300293, -4.877399921417236, -5.259099960327148, -5.259099960327148, -5.259099960327148, -5.259099960327148, -5.2600998878479, -5.2600998878479, -5.260499954223633, -5.260499954223633, -5.261099815368652, -5.262899875640869, -5.263199806213379, -5.263500213623047, -5.263400077819824, -4.877999782562256, -4.875800132751465, -4.598100185394287, -5.895199775695801, -5.895199775695801, -5.895199775695801, -5.895199775695801, -5.895199775695801, -5.895199775695801, -5.895199775695801, -5.895199775695801, -5.895199775695801, -5.895199775695801, -4.59630012512207, -5.895199775695801, -4.379199981689453, -5.895199775695801, -4.876299858093262, -5.895199775695801, -4.873499870300293, -4.874800205230713, -5.261199951171875, -5.259099960327148, -5.259099960327148, -4.871399879455566, -4.1996002197265625, -4.873499870300293, -4.873499870300293, -4.59689998626709, -4.202400207519531, -4.595900058746338, -4.595200061798096, -4.594399929046631, -4.873499870300293, -4.873799800872803, -4.875800132751465, -4.871300220489502, -4.87470006942749, -5.2555999755859375, -5.257699966430664, -5.259099960327148, -5.259099960327148, -4.330900192260742, -4.7153000831604, -4.7164998054504395, -4.718900203704834, -4.719399929046631, -4.71999979019165, -4.720300197601318, -4.332900047302246, -4.334400177001953, -5.35129976272583, -5.35129976272583, -5.35129976272583, -5.35129976272583, -5.35129976272583, -5.35129976272583, -5.35129976272583, -5.35129976272583, -5.35129976272583, -5.352099895477295, -5.352200031280518, -5.352200031280518, -5.35230016708374, -5.35230016708374, -5.352399826049805, -5.352399826049805, -5.352499961853027, -5.352499961853027, -5.352499961853027, -5.352499961853027, -5.352799892425537, -4.7153000831604, -3.8352999687194824, -4.71619987487793, -4.716300010681152, -4.720099925994873, -4.7153000831604, -4.71750020980835, -4.719699859619141, -4.715799808502197, -4.331600189208984, -4.715799808502197, -4.7153000831604, -4.718100070953369, -4.332099914550781, -4.718299865722656, -5.348800182342529, -5.349699974060059, -5.351200103759766, -5.351200103759766, -5.351200103759766, -5.35129976272583, -4.322500228881836, -4.70389986038208, -4.704100131988525, -4.70419979095459, -4.707900047302246, -4.708499908447266, -5.339000225067139, -5.339000225067139, -5.339000225067139, -5.339000225067139, -5.339000225067139, -5.339000225067139, -5.339000225067139, -5.339000225067139, -5.339000225067139, -5.339000225067139, -5.339000225067139, -5.339000225067139, -5.339000225067139, -5.339099884033203, -5.339099884033203, -5.339099884033203, -5.339099884033203, -5.339099884033203, -5.339099884033203, -5.339200019836426, -5.339300155639648, -5.3404998779296875, -5.340700149536133, -5.340799808502197, -4.704400062561035, -4.705100059509277, -4.3180999755859375, -4.318999767303467, -4.319200038909912, -4.703199863433838, -4.705399990081787, -4.703199863433838, -4.70419979095459, -4.70419979095459, -4.318900108337402, -4.703100204467773, -4.31879997253418, -4.705900192260742, -4.703100204467773, -4.703800201416016, -4.705699920654297, -4.704400062561035, -4.70419979095459, -5.338099956512451, -5.338900089263916, -5.338900089263916, -5.338900089263916, -4.381499767303467, -4.384799957275391, -4.398200035095215, -5.017499923706055, -5.017499923706055, -5.017499923706055, -5.017499923706055, -5.017499923706055, -5.017499923706055, -5.017499923706055, -5.017499923706055, -5.017499923706055, -5.017499923706055, -5.017499923706055, -5.017499923706055, -5.017499923706055, -5.017499923706055, -5.017499923706055, -5.017499923706055, -5.026199817657471, -5.027500152587891, -5.027900218963623, -5.02839994430542, -5.029099941253662, -5.029300212860107, -5.031599998474121, -5.032700061798096, -5.033199787139893, -5.033199787139893, -5.033400058746338, -4.381499767303467, -4.401500225067139, -4.083700180053711, -4.381499767303467, -4.528299808502197, -4.417200088500977, -4.494999885559082, -4.414400100708008, -4.499100208282471, -4.531899929046631, -5.017499923706055, -5.014599800109863, -5.0152997970581055, -5.016600131988525, -5.016900062561035, -5.017099857330322, -5.017499923706055, -5.017499923706055, -5.017499923706055, -5.017499923706055, -5.017499923706055, -3.9354000091552734, -4.321100234985352, -4.321100234985352, -4.321100234985352, -4.957099914550781, -4.957099914550781, -4.957099914550781, -4.957099914550781, -4.957099914550781, -4.957099914550781, -4.957099914550781, -4.957099914550781, -4.957099914550781, -4.957099914550781, -4.957099914550781, -4.957099914550781, -4.957099914550781, -4.957099914550781, -4.957099914550781, -4.957099914550781, -4.957099914550781, -4.957099914550781, -4.957099914550781, -4.957099914550781, -4.957099914550781, -4.957099914550781, -4.957099914550781, -4.957099914550781, -4.957099914550781, -4.957099914550781, -4.321000099182129, -4.321100234985352, -4.321100234985352, -3.934299945831299, -4.320899963378906, -4.31879997253418, -4.320099830627441, -4.321100234985352, -4.951300144195557, -4.952700138092041, -4.953000068664551, -4.953800201416016, -4.95419979095459, -4.9542999267578125, -4.954999923706055, -4.9552998542785645, -4.955599784851074, -4.9558000564575195, -4.955999851226807, -4.956900119781494, -4.956999778747559, -4.956999778747559, -4.956999778747559, -4.956999778747559, -4.956999778747559, -4.957099914550781, -4.286300182342529, -4.291100025177002, -4.291500091552734, -4.292300224304199, -4.922299861907959, -4.922299861907959, -4.922299861907959, -4.922299861907959, -4.926300048828125, -4.926300048828125, -4.926499843597412, -4.926400184631348, -4.926599979400635, -4.926599979400635, -4.926700115203857, -4.926700115203857, -4.926700115203857, -4.926700115203857, -4.926700115203857, -4.926799774169922, -4.926799774169922, -4.926799774169922, -4.926799774169922, -4.926799774169922, -4.92710018157959, -4.92710018157959, -4.92710018157959, -4.927199840545654, -4.927299976348877, -4.927199840545654, -4.288400173187256, -4.29040002822876, -4.922299861907959, -4.922299861907959, -4.922299861907959, -4.920599937438965, -4.921299934387207, -4.92140007019043, -4.92140007019043, -4.9217000007629395, -4.922100067138672, -4.922299861907959, -4.922299861907959, -4.922299861907959, -4.922299861907959, -4.922299861907959, -4.922299861907959, -4.922299861907959, -4.922299861907959, -4.922299861907959, -4.061299800872803, -4.061299800872803, -4.697299957275391, -4.697299957275391, -4.697299957275391, -4.697299957275391, -4.697299957275391, -4.697299957275391, -4.697299957275391, -4.697299957275391, -4.697299957275391, -4.697299957275391, -4.697299957275391, -4.697299957275391, -4.697299957275391, -4.697299957275391, -4.059500217437744, -4.697299957275391, -4.697299957275391, -4.697299957275391, -4.697299957275391, -4.058199882507324, -4.697299957275391, -4.697299957275391, -4.060999870300293, -4.061100006103516, -4.69379997253418, -4.697299957275391, -4.6940999031066895, -4.697299957275391, -4.6940999031066895, -4.6880998611450195, -4.69320011138916, -4.693999767303467, -4.694799900054932, -4.6971001625061035], \"loglift\": [30.0, 29.0, 28.0, 27.0, 26.0, 25.0, 24.0, 23.0, 22.0, 21.0, 20.0, 19.0, 18.0, 17.0, 16.0, 15.0, 14.0, 13.0, 12.0, 11.0, 10.0, 9.0, 8.0, 7.0, 6.0, 5.0, 4.0, 3.0, 2.0, 1.0, 1.1053999662399292, 1.104099988937378, 1.1038000583648682, 1.103600025177002, 1.0300999879837036, 1.0298999547958374, 1.0292999744415283, 1.0291999578475952, 1.029099941253662, 1.029099941253662, 1.0290000438690186, 1.0289000272750854, 1.0288000106811523, 1.0288000106811523, 1.0286999940872192, 1.0286999940872192, 1.028499960899353, 1.0257999897003174, 0.9912999868392944, 0.9355000257492065, 0.9063000082969666, 0.90420001745224, 0.9039999842643738, 0.8949999809265137, 0.8718000054359436, 0.8489000201225281, 0.8489000201225281, 0.8489000201225281, 0.8489000201225281, 0.8489000201225281, 0.8245000243186951, 0.8144000172615051, 0.8313000202178955, 0.8179000020027161, 0.8269000053405762, 0.7591999769210815, 0.6809999942779541, 0.5550000071525574, 0.4507000148296356, 0.7001000046730042, 0.42080000042915344, 0.6808000206947327, 0.4235000014305115, 0.3869999945163727, 0.531000018119812, 0.22930000722408295, 0.22519999742507935, 0.5227000117301941, 0.5105000138282776, 0.020899999886751175, 0.3538999855518341, 0.30379998683929443, 0.13860000669956207, 1.2523000240325928, 1.2240999937057495, 1.1857000589370728, 1.1825000047683716, 1.1100000143051147, 1.1100000143051147, 1.1100000143051147, 1.1100000143051147, 1.1093000173568726, 1.1093000173568726, 1.1089999675750732, 1.1089999675750732, 1.108299970626831, 1.1067999601364136, 1.106600046157837, 1.1064000129699707, 1.1064000129699707, 0.9817000031471252, 0.944100022315979, 0.9283000230789185, 0.9253000020980835, 0.9253000020980835, 0.9253000020980835, 0.9253000020980835, 0.9253000020980835, 0.9253000020980835, 0.9253000020980835, 0.9253000020980835, 0.9253000020980835, 0.9253000020980835, 0.9186000227928162, 0.9253000020980835, 0.8490999937057495, 0.9253000020980835, 0.8600000143051147, 0.9253000020980835, 0.8144000172615051, 0.8127999901771545, 0.8467000126838684, 0.8460000157356262, 0.8458999991416931, 0.7875000238418579, 0.6897000074386597, 0.753600001335144, 0.7440000176429749, 0.6480000019073486, 0.4909000098705292, 0.6090999841690063, 0.49720001220703125, 0.4577000141143799, 0.6773999929428101, 0.5910999774932861, 0.2547000050544739, 0.2199999988079071, 0.20679999887943268, 0.20990000665187836, 0.09040000289678574, -0.03970000147819519, 0.7957000136375427, 1.8726999759674072, 1.7841999530792236, 1.7828999757766724, 1.7803000211715698, 1.7798000574111938, 1.7791999578475952, 1.7786999940872192, 1.6938999891281128, 1.59660005569458, 1.570099949836731, 1.570099949836731, 1.570099949836731, 1.570099949836731, 1.570099949836731, 1.570099949836731, 1.570099949836731, 1.570099949836731, 1.570099949836731, 1.5693000555038452, 1.569200038909912, 1.569200038909912, 1.569100022315979, 1.569100022315979, 1.5688999891281128, 1.5688999891281128, 1.5688999891281128, 1.5688999891281128, 1.5688999891281128, 1.5687999725341797, 1.56850004196167, 1.438099980354309, 1.2461999654769897, 1.4371999502182007, 1.4320000410079956, 1.1692999601364136, 1.1253000497817993, 1.0801000595092773, 1.0407999753952026, 0.9739999771118164, 0.5626999735832214, 0.8647000193595886, 0.8356000185012817, 0.7858999967575073, -0.02969999983906746, 0.37400001287460327, 0.3756999969482422, 1.1535999774932861, 0.26109999418258667, 0.5400000214576721, 0.4984000027179718, 0.7458000183105469, 1.8889000415802002, 1.8033000230789185, 1.8029999732971191, 1.802899956703186, 1.7985999584197998, 1.7979999780654907, 1.5882999897003174, 1.5882999897003174, 1.5882999897003174, 1.5882999897003174, 1.5882999897003174, 1.5882999897003174, 1.5882999897003174, 1.5882999897003174, 1.5882999897003174, 1.5882999897003174, 1.5882999897003174, 1.5882999897003174, 1.5882999897003174, 1.5881999731063843, 1.5881999731063843, 1.5881999731063843, 1.5881999731063843, 1.5881999731063843, 1.5881999731063843, 1.5881999731063843, 1.5880999565124512, 1.5867999792099, 1.5866999626159668, 1.5865000486373901, 1.555400013923645, 1.50409996509552, 1.4404000043869019, 1.3287999629974365, 1.232200026512146, 1.2860000133514404, 1.2711000442504883, 1.1974999904632568, 1.1363999843597412, 1.020300030708313, 0.5755000114440918, 0.9090999960899353, 0.37459999322891235, 0.7462999820709229, 0.5924000144004822, 0.42669999599456787, 0.37689998745918274, 0.3019999861717224, -0.4018999934196472, 0.08370000123977661, 0.7645000219345093, 1.0973000526428223, 0.5188999772071838, 2.2588000297546387, 2.2548999786376953, 2.237299919128418, 2.009399890899658, 2.009399890899658, 2.009399890899658, 2.009399890899658, 2.009399890899658, 2.009399890899658, 2.009399890899658, 2.009399890899658, 2.009399890899658, 2.009399890899658, 2.009399890899658, 2.009399890899658, 2.009399890899658, 2.009399890899658, 2.009399890899658, 2.009399890899658, 1.9993000030517578, 1.997499942779541, 1.9970999956130981, 1.9962999820709229, 1.9953999519348145, 1.995300054550171, 1.992300033569336, 1.9909000396728516, 1.9903000593185425, 1.9902000427246094, 1.9900000095367432, 1.8645000457763672, 1.8451999425888062, 1.420300006866455, 1.5894999504089355, 1.4580999612808228, 1.04830002784729, 0.9097999930381775, 0.6779999732971191, 0.5073000192642212, 0.5138000249862671, 1.5499000549316406, 0.6703000068664551, 1.1304999589920044, 0.06610000133514404, 0.24580000340938568, 1.2425999641418457, 0.6704000234603882, 0.2273000031709671, 1.472000002861023, 1.1829999685287476, 1.128000020980835, 2.4772000312805176, 2.3635001182556152, 2.3635001182556152, 2.3635001182556152, 2.1022000312805176, 2.1022000312805176, 2.1022000312805176, 2.1022000312805176, 2.1022000312805176, 2.1022000312805176, 2.1022000312805176, 2.1022000312805176, 2.1022000312805176, 2.1022000312805176, 2.1022000312805176, 2.1022000312805176, 2.1022000312805176, 2.1022000312805176, 2.1022000312805176, 2.1022000312805176, 2.1022000312805176, 2.1022000312805176, 2.1022000312805176, 2.1022000312805176, 2.1022000312805176, 2.1022000312805176, 2.1022000312805176, 2.1022000312805176, 2.1022000312805176, 2.1022000312805176, 1.9539999961853027, 1.5645999908447266, 1.523900032043457, 1.072100043296814, 1.441100001335144, 1.2934999465942383, 0.725600004196167, 0.573199987411499, -0.6488999724388123, 0.5735999941825867, 0.25209999084472656, 0.13860000669956207, 0.6262000203132629, 0.13699999451637268, 0.09709999710321426, 1.7045999765396118, 1.559399962425232, 0.9868000149726868, 0.8094000220298767, 1.3032000064849854, 0.8457000255584717, 1.2023999691009521, 0.6858000159263611, 1.551300048828125, 0.8033999800682068, 1.551200032234192, 2.4166998863220215, 2.4121999740600586, 2.412100076675415, 2.4112000465393066, 2.150399923324585, 2.150399923324585, 2.150399923324585, 2.150399923324585, 2.1468000411987305, 2.146699905395508, 2.1465001106262207, 2.1465001106262207, 2.146399974822998, 2.146399974822998, 2.1463000774383545, 2.1463000774383545, 2.1463000774383545, 2.1463000774383545, 2.146199941635132, 2.146199941635132, 2.146199941635132, 2.146199941635132, 2.1461000442504883, 2.1461000442504883, 2.1459999084472656, 2.145900011062622, 2.145900011062622, 2.1458001136779785, 2.1458001136779785, 2.1458001136779785, 2.1194000244140625, 0.8400999903678894, 1.8694000244140625, 1.6777000427246094, 1.673799991607666, -0.2272000014781952, 0.8149999976158142, 0.16990000009536743, 0.5004000067710876, 0.1597999930381775, 0.28290000557899475, 1.5999000072479248, 1.5999000072479248, 1.5999000072479248, 0.9226999878883362, 1.0240999460220337, 1.592900037765503, 0.6898999810218811, 0.2971999943256378, 1.2380000352859497, 2.827699899673462, 2.827699899673462, 2.5064001083374023, 2.5064001083374023, 2.5064001083374023, 2.5064001083374023, 2.5064001083374023, 2.5064001083374023, 2.5064001083374023, 2.5064001083374023, 2.5064001083374023, 2.5064001083374023, 2.5064001083374023, 2.5064001083374023, 2.5064001083374023, 2.5064001083374023, 2.201200008392334, 2.094399929046631, 1.9824999570846558, 1.898300051689148, 1.8907999992370605, 1.7797000408172607, 1.5770000219345093, 1.576799988746643, 1.4538999795913696, 1.360700011253357, 1.1919000148773193, 1.1002999544143677, 1.0702999830245972, 0.9505000114440918, 0.9487000107765198, 0.7366999983787537, 0.3991999924182892, 0.38749998807907104, 0.9226999878883362, 0.19210000336170197]}, \"token.table\": {\"Topic\": [1, 6, 3, 3, 7, 4, 2, 1, 2, 6, 6, 7, 3, 6, 7, 7, 1, 1, 2, 3, 6, 1, 5, 1, 3, 2, 4, 1, 7, 2, 7, 6, 2, 3, 4, 4, 1, 1, 2, 2, 4, 7, 2, 2, 2, 2, 5, 2, 5, 1, 2, 3, 3, 1, 2, 3, 4, 6, 1, 5, 6, 1, 2, 4, 7, 1, 2, 3, 7, 6, 5, 2, 7, 2, 3, 5, 5, 4, 2, 1, 2, 6, 1, 2, 4, 5, 6, 1, 4, 5, 1, 2, 3, 4, 7, 1, 2, 4, 5, 8, 3, 3, 5, 1, 3, 2, 3, 2, 1, 1, 6, 4, 4, 4, 2, 3, 6, 7, 1, 6, 7, 4, 2, 4, 2, 3, 1, 4, 5, 7, 6, 5, 6, 6, 5, 7, 8, 1, 2, 5, 5, 2, 6, 7, 7, 1, 6, 2, 4, 6, 1, 3, 5, 2, 2, 1, 2, 4, 5, 1, 2, 4, 1, 2, 3, 6, 1, 7, 2, 4, 5, 7, 3, 6, 2, 3, 5, 1, 2, 3, 2, 3, 8, 6, 7, 6, 6, 1, 2, 6, 3, 1, 2, 4, 3, 2, 1, 2, 4, 7, 2, 4, 5, 1, 3, 4, 3, 1, 1, 2, 4, 5, 6, 1, 3, 7, 7, 2, 3, 5, 3, 4, 7, 6, 5, 5, 5, 1, 2, 3, 6, 2, 5, 2, 1, 1, 4, 1, 2, 1, 2, 6, 4, 3, 1, 1, 5, 2, 3, 4, 6, 2, 1, 3, 6, 7, 1, 3, 3, 1, 6, 7, 5, 7, 5, 6, 5, 4, 1, 3, 4, 7, 3, 1, 1, 2, 3, 6, 3, 7, 4, 3, 2, 5, 2, 2, 1, 1, 6, 2, 7, 1, 1, 2, 4, 7, 1, 2, 3, 4, 5, 1, 3, 4, 6, 2, 3, 5, 1, 1, 2, 3, 7, 1, 3, 5, 5, 5, 4, 6, 1, 2, 1, 2, 4, 6, 7, 1, 2, 3, 4, 3, 1, 2, 5, 6, 1, 3, 4, 7, 8, 1, 1, 2, 3, 6, 7, 1, 2, 5, 6, 1, 2, 4, 6, 7, 7, 6, 7, 1, 2, 4, 7, 3, 3, 6, 1, 2, 4, 7, 3, 2, 4, 4, 1, 2, 4, 5, 6, 1, 2, 7, 5, 6, 1, 2, 3, 1, 2, 4, 2, 1, 2, 3, 4, 5, 3, 1, 2, 3, 5, 6, 7, 4, 5, 7, 5, 2, 5, 2, 4, 3, 4, 1, 2, 5, 7, 7, 1, 1, 1, 2, 3, 6, 2, 5, 4, 7, 3, 3, 4, 1, 2, 5, 7, 2, 4, 3, 4, 4, 6, 1, 2, 3, 2, 7, 1, 1, 3, 4, 7, 1, 2, 3, 5, 1, 2, 3, 4, 7, 3, 7, 6, 4, 2, 1, 8, 4, 6, 1, 3, 7, 1, 1, 2, 3, 4, 5, 6, 3, 4, 7, 1, 2, 6, 2, 3, 1, 2, 4, 3, 1, 2, 3, 4, 6, 6, 2, 4, 3, 3, 6, 1, 2, 5, 2, 1, 2, 5, 1, 2, 4, 7, 8, 4, 1, 2, 4, 7, 3, 2, 4, 1, 1, 2, 6, 5, 4, 2, 3, 5, 2, 5, 1, 4, 6, 1, 1, 6, 4], \"Freq\": [0.7406784296035767, 0.2468928098678589, 0.7870053052902222, 0.5685287117958069, 0.5685287117958069, 0.5201208591461182, 0.9064606428146362, 0.27937424182891846, 0.27937424182891846, 0.27937424182891846, 0.6210985779762268, 0.9159128069877625, 0.5159171223640442, 0.90348219871521, 0.9158468842506409, 0.9158563613891602, 0.9850950241088867, 0.24650926887989044, 0.24650926887989044, 0.24650926887989044, 0.24650926887989044, 0.40058523416519165, 0.40058523416519165, 0.2923477292060852, 0.5846954584121704, 0.48449862003326416, 0.48449862003326416, 0.5243344306945801, 0.5243344306945801, 0.5280166268348694, 0.5280166268348694, 0.90348219871521, 0.5997049808502197, 0.19990167021751404, 0.19990167021751404, 0.791762113571167, 0.7048669457435608, 0.261583536863327, 0.523167073726654, 0.48126423358917236, 0.24063211679458618, 0.24063211679458618, 0.9067502021789551, 0.5682446956634521, 0.906456708908081, 0.7115373611450195, 0.8729517459869385, 0.71153724193573, 0.874687135219574, 0.4896160960197449, 0.326410710811615, 0.1632053554058075, 0.7871204018592834, 0.6882697343826294, 0.057355813682079315, 0.11471162736415863, 0.057355813682079315, 0.057355813682079315, 0.40626317262649536, 0.40626317262649536, 0.40626317262649536, 0.1999877244234085, 0.399975448846817, 0.399975448846817, 0.6326757073402405, 0.2474731206893921, 0.4949462413787842, 0.2474731206893921, 0.9158399701118469, 0.9034822583198547, 0.8746870160102844, 0.5280162692070007, 0.5280162692070007, 0.38278278708457947, 0.38278278708457947, 0.38278278708457947, 0.5938220620155334, 0.7917618751525879, 0.9067334532737732, 0.1950463503599167, 0.5851390361785889, 0.1950463503599167, 0.5993835926055908, 0.1498458981513977, 0.1498458981513977, 0.1498458981513977, 0.9034823775291443, 0.30900877714157104, 0.30900877714157104, 0.30900877714157104, 0.28956714272499084, 0.5791342854499817, 0.14478357136249542, 0.5707029104232788, 0.5707029104232788, 0.8955705761909485, 0.30594271421432495, 0.30594271421432495, 0.30594271421432495, 0.7619446516036987, 0.7870267629623413, 0.5524578094482422, 0.5524578094482422, 0.8077168464660645, 0.2692389488220215, 0.36516687273979187, 0.36516687273979187, 0.7115370631217957, 0.8965818285942078, 0.41236039996147156, 0.41236039996147156, 0.791762113571167, 0.7739570736885071, 0.7917702794075012, 0.7115373611450195, 0.7870506644248962, 0.9464030265808105, 0.9157685041427612, 0.5207546353340149, 0.5207546353340149, 0.9159119725227356, 0.7917712330818176, 0.8674309253692627, 0.5201746821403503, 0.36516812443733215, 0.36516812443733215, 0.8963422179222107, 0.7917536497116089, 0.874687135219574, 0.9156673550605774, 0.621099591255188, 0.8746870160102844, 0.90348219871521, 0.9034822583198547, 0.871680736541748, 0.6329526305198669, 0.7619444727897644, 0.22923898696899414, 0.6877169609069824, 0.22923898696899414, 0.8733689785003662, 0.9969764351844788, 0.9034822583198547, 0.9159789085388184, 0.6330026388168335, 0.9839625954627991, 0.9034801125526428, 0.3098507225513458, 0.3098507225513458, 0.3098507225513458, 0.690283477306366, 0.345141738653183, 0.5942039489746094, 0.9061021208763123, 0.7115373015403748, 0.5286508202552795, 0.1762169450521469, 0.1762169450521469, 0.874687135219574, 0.5636531710624695, 0.1878843903541565, 0.1878843903541565, 0.22967831790447235, 0.4593566358089447, 0.22967831790447235, 0.90348219871521, 0.7353935837745667, 0.3676967918872833, 0.9061021208763123, 0.791762113571167, 0.8715820908546448, 0.9159296751022339, 0.643444836139679, 0.3217224180698395, 0.695848822593689, 0.3479244112968445, 0.8729854226112366, 0.7796241641044617, 0.25987473130226135, 0.5161076188087463, 0.5784986615180969, 0.19283288717269897, 0.19283288717269897, 0.9034806489944458, 0.9159268736839294, 0.90348219871521, 0.90348219871521, 0.3673664927482605, 0.3673664927482605, 0.3673664927482605, 0.515992283821106, 0.2717219889163971, 0.5434439778327942, 0.2717219889163971, 0.5160133838653564, 0.7115373611450195, 0.29686442017555237, 0.29686442017555237, 0.29686442017555237, 0.29686442017555237, 0.7115371823310852, 0.4061214029788971, 0.4061214029788971, 0.5618650317192078, 0.2809325158596039, 0.2809325158596039, 0.7870375514030457, 0.908083438873291, 0.3479011356830597, 0.2319340854883194, 0.1159670427441597, 0.1159670427441597, 0.2319340854883194, 0.5608791708946228, 0.2804395854473114, 0.9159389138221741, 0.915876567363739, 0.4120806157588959, 0.4120806157588959, 0.8716362118721008, 0.7871205806732178, 0.5201032757759094, 0.9158945083618164, 0.90348219871521, 0.874687135219574, 0.8746871948242188, 0.8717714548110962, 0.20588894188404083, 0.41177788376808167, 0.20588894188404083, 0.20588894188404083, 0.6085403561592102, 0.3042701780796051, 0.6651051044464111, 0.8970102071762085, 0.9854996800422668, 0.7917712926864624, 0.7048671245574951, 0.7115370631217957, 0.43144381046295166, 0.6471657156944275, 0.90348219871521, 0.791772186756134, 0.7870494723320007, 0.5639892220497131, 0.5110372304916382, 0.5110372304916382, 0.4954856038093567, 0.24774280190467834, 0.24774280190467834, 0.24774280190467834, 0.7877174019813538, 0.5142542719841003, 0.25712713599205017, 0.25712713599205017, 0.25712713599205017, 0.8083418011665344, 0.2694472670555115, 0.7870402336120605, 0.536468505859375, 0.2682342529296875, 0.2682342529296875, 0.47096890211105347, 0.47096890211105347, 0.6059470772743225, 0.6059470772743225, 0.8746873140335083, 0.7917531728744507, 0.5432876944541931, 0.1810958981513977, 0.1810958981513977, 0.1810958981513977, 0.7871204018592834, 0.8966696262359619, 0.42513418197631836, 0.21256709098815918, 0.21256709098815918, 0.21256709098815918, 0.787120521068573, 0.9156673550605774, 0.791762113571167, 0.7870566248893738, 0.4008517861366272, 0.4008517861366272, 0.9061021208763123, 0.7115370631217957, 0.7048670649528503, 0.5206806659698486, 0.5206806659698486, 0.7115373611450195, 0.9159148931503296, 0.8959299921989441, 0.8960092663764954, 0.5672141909599304, 0.2836070954799652, 0.9158787727355957, 0.18353940546512604, 0.3670788109302521, 0.18353940546512604, 0.18353940546512604, 0.18353940546512604, 0.24603556096553802, 0.24603556096553802, 0.49207112193107605, 0.90348219871521, 0.412000834941864, 0.412000834941864, 0.8746873140335083, 0.8965556621551514, 0.12501291930675507, 0.3750387728214264, 0.3750387728214264, 0.12501291930675507, 0.3632964789867401, 0.3632964789867401, 0.874687135219574, 0.8725723028182983, 0.8746870160102844, 0.7917619943618774, 0.90348219871521, 0.33086976408958435, 0.6617395281791687, 0.2829021215438843, 0.4243531823158264, 0.14145106077194214, 0.14145106077194214, 0.14145106077194214, 0.23779381811618805, 0.23779381811618805, 0.23779381811618805, 0.23779381811618805, 0.5160073041915894, 0.5181742310523987, 0.3454494774341583, 0.17272473871707916, 0.90348219871521, 0.8084587454795837, 0.2694862484931946, 0.40647241473197937, 0.40647241473197937, 0.40647241473197937, 0.7048670053482056, 0.37873461842536926, 0.37873461842536926, 0.12624487280845642, 0.12624487280845642, 0.12624487280845642, 0.22920119762420654, 0.6876035928726196, 0.22920119762420654, 0.9034820795059204, 0.2957386374473572, 0.2957386374473572, 0.2957386374473572, 0.2957386374473572, 0.9159328937530518, 0.9156677722930908, 0.90348219871521, 0.9158985018730164, 0.4645308256149292, 0.30968722701072693, 0.15484361350536346, 0.15484361350536346, 0.7870482802391052, 0.7871204614639282, 0.9034822583198547, 0.430525541305542, 0.28701701760292053, 0.14350850880146027, 0.14350850880146027, 0.7870619893074036, 0.4404963552951813, 0.4404963552951813, 0.5197775363922119, 0.48245614767074585, 0.24122807383537292, 0.12061403691768646, 0.12061403691768646, 0.12061403691768646, 0.550274133682251, 0.550274133682251, 0.9159743189811707, 0.5913287997245789, 0.621099591255188, 0.25582852959632874, 0.25582852959632874, 0.25582852959632874, 0.6454328894615173, 0.4302886128425598, 0.7916499376296997, 0.9066268801689148, 0.22270074486732483, 0.6681022644042969, 0.22270074486732483, 0.618152916431427, 0.8746871948242188, 0.7870323061943054, 0.12637780606746674, 0.3791334331035614, 0.12637780606746674, 0.12637780606746674, 0.12637780606746674, 0.9159047603607178, 0.7917618751525879, 0.8720397353172302, 0.6328368186950684, 0.8746870160102844, 0.9063578248023987, 0.8726657032966614, 0.6978355050086975, 0.34891775250434875, 0.7870656847953796, 0.7917715907096863, 0.44158437848091125, 0.44158437848091125, 0.1471947878599167, 0.9158813953399658, 0.9159312844276428, 0.8968842625617981, 0.8967153429985046, 0.3641769289970398, 0.3641769289970398, 0.12139231711626053, 0.12139231711626053, 0.7115373611450195, 0.8726307153701782, 0.7917618155479431, 0.9159026145935059, 0.7871204018592834, 0.5181493163108826, 0.5181493163108826, 0.4571043848991394, 0.4571043848991394, 0.2285521924495697, 0.9156673550605774, 0.9061022996902466, 0.791762113571167, 0.38613012433052063, 0.38613012433052063, 0.7917620539665222, 0.9034801125526428, 0.3094319701194763, 0.5157199501991272, 0.10314399003982544, 0.5280163884162903, 0.5280163884162903, 0.7048670649528503, 0.42508357763290405, 0.21254178881645203, 0.21254178881645203, 0.21254178881645203, 0.19074054062366486, 0.19074054062366486, 0.19074054062366486, 0.3814810812473297, 0.25439074635505676, 0.423984557390213, 0.08479691296815872, 0.16959382593631744, 0.08479691296815872, 0.5161788463592529, 0.9159504175186157, 0.90348219871521, 0.791770339012146, 0.9068129062652588, 0.7990098595619202, 0.2663366198539734, 0.7917620539665222, 0.90348219871521, 0.8965408205986023, 0.787028968334198, 0.6913252472877502, 0.8966960906982422, 0.3754826486110687, 0.25032177567481995, 0.12516088783740997, 0.12516088783740997, 0.12516088783740997, 0.9034802317619324, 0.26706209778785706, 0.26706209778785706, 0.26706209778785706, 0.9848678708076477, 0.5241903066635132, 0.5241903066635132, 0.6958739757537842, 0.3479369878768921, 0.3473435342311859, 0.3473435342311859, 0.3473435342311859, 0.7871206998825073, 0.31102505326271057, 0.10367502272129059, 0.20735004544258118, 0.20735004544258118, 0.10367502272129059, 0.9034823775291443, 0.7115373611450195, 0.7917620539665222, 0.7678725719451904, 0.787120521068573, 0.9034823775291443, 0.3623022139072418, 0.3623022139072418, 0.3623022139072418, 0.9063395857810974, 0.3623935580253601, 0.3623935580253601, 0.3623935580253601, 0.3513697385787964, 0.3513697385787964, 0.1756848692893982, 0.1756848692893982, 0.1756848692893982, 0.7917618751525879, 0.2625845968723297, 0.2625845968723297, 0.13129229843616486, 0.13129229843616486, 0.7871204614639282, 0.9064426422119141, 0.7917869091033936, 0.8967714309692383, 0.21365627646446228, 0.6409688591957092, 0.21365627646446228, 0.874687135219574, 0.7917712330818176, 0.5444523096084595, 0.27222615480422974, 0.8746873140335083, 0.7115371823310852, 0.874687135219574, 0.6574457883834839, 0.21914860606193542, 0.21914860606193542, 0.8963842988014221, 0.730715811252594, 0.365357905626297, 0.5197359919548035], \"Term\": [\"access\", \"access\", \"accommodate\", \"advertise\", \"advertise\", \"age\", \"ago\", \"also\", \"also\", \"also\", \"always\", \"ancient\", \"apple\", \"approach\", \"archaeological\", \"army\", \"arrive\", \"ask\", \"ask\", \"ask\", \"ask\", \"attend\", \"attend\", \"available\", \"available\", \"average\", \"average\", \"avoid\", \"avoid\", \"awful\", \"awful\", \"backward\", \"bar\", \"bar\", \"bar\", \"barsummary\", \"basis\", \"bath\", \"bath\", \"bathroom\", \"bathroom\", \"bathroom\", \"bathtub\", \"bed\", \"big\", \"bit\", \"block\", \"bloody\", \"bone\", \"book\", \"book\", \"book\", \"bother\", \"breakfast\", \"breakfast\", \"breakfast\", \"breakfast\", \"breakfast\", \"buffet\", \"buffet\", \"buffet\", \"business\", \"business\", \"business\", \"cake\", \"call\", \"call\", \"call\", \"capital\", \"card\", \"care\", \"carpet\", \"carpet\", \"case\", \"case\", \"case\", \"cause\", \"century\", \"chance\", \"change\", \"change\", \"change\", \"charge\", \"charge\", \"charge\", \"charge\", \"checkin\", \"city\", \"city\", \"city\", \"clean\", \"clean\", \"clean\", \"clearly\", \"clearly\", \"client\", \"close\", \"close\", \"close\", \"closed\", \"coach\", \"cocktail\", \"cocktail\", \"coffee\", \"coffee\", \"come\", \"come\", \"comic\", \"comment\", \"compare\", \"compare\", \"con\", \"consider\", \"considerable\", \"container\", \"corridor\", \"cost\", \"country\", \"course\", \"course\", \"culture\", \"dated\", \"day\", \"decor\", \"delay\", \"delay\", \"desk\", \"difficult\", \"dinner\", \"dirty\", \"disappoint\", \"disappointment\", \"discover\", \"distant\", \"district\", \"divide\", \"door\", \"drink\", \"drink\", \"drink\", \"due\", \"eat\", \"elsewhere\", \"enemy\", \"enormous\", \"enough\", \"estiade\", \"euro\", \"euro\", \"euro\", \"even\", \"even\", \"event\", \"evohia\", \"excellent\", \"executive\", \"executive\", \"executive\", \"existant\", \"expensive\", \"expensive\", \"expensive\", \"experience\", \"experience\", \"experience\", \"extortionate\", \"extra\", \"extra\", \"extraordinary\", \"fact\", \"fair\", \"famous\", \"feel\", \"feel\", \"fill\", \"fill\", \"finally\", \"first\", \"first\", \"flight\", \"floor\", \"floor\", \"floor\", \"force\", \"forget\", \"frankly\", \"franlky\", \"free\", \"free\", \"free\", \"fresh\", \"friendly\", \"friendly\", \"friendly\", \"fruit\", \"full\", \"furniture\", \"furniture\", \"furniture\", \"furniture\", \"gas\", \"general\", \"general\", \"give\", \"give\", \"give\", \"glasgow\", \"glass\", \"go\", \"go\", \"go\", \"go\", \"go\", \"great\", \"great\", \"greek\", \"green\", \"guest\", \"guest\", \"happen\", \"heat\", \"help\", \"herb\", \"hilton\", \"hold\", \"home\", \"honest\", \"hour\", \"hour\", \"hour\", \"hour\", \"however\", \"however\", \"ignore\", \"impression\", \"include\", \"incredibly\", \"inevitable\", \"interested\", \"internet\", \"internet\", \"issue\", \"kebab\", \"kid\", \"kind\", \"know\", \"know\", \"last\", \"last\", \"last\", \"last\", \"leak\", \"leave\", \"leave\", \"leave\", \"leave\", \"less\", \"less\", \"load\", \"look\", \"look\", \"look\", \"lot\", \"lot\", \"low\", \"low\", \"made\", \"major\", \"make\", \"make\", \"make\", \"make\", \"man\", \"management\", \"many\", \"many\", \"many\", \"many\", \"margarita\", \"mark\", \"massage\", \"massive\", \"maybe\", \"maybe\", \"meal\", \"mean\", \"meeting\", \"menu\", \"menu\", \"microwave\", \"middle\", \"milk\", \"minute\", \"money\", \"money\", \"mother\", \"much\", \"much\", \"much\", \"much\", \"much\", \"need\", \"need\", \"need\", \"negative\", \"never\", \"never\", \"nibble\", \"nicosia\", \"night\", \"night\", \"night\", \"night\", \"noise\", \"noise\", \"non\", \"notice\", \"number\", \"obsolete\", \"odd\", \"offer\", \"offer\", \"old\", \"old\", \"old\", \"old\", \"old\", \"open\", \"open\", \"open\", \"open\", \"orange\", \"order\", \"order\", \"order\", \"outrageous\", \"overall\", \"overall\", \"part\", \"part\", \"part\", \"past\", \"pay\", \"pay\", \"pay\", \"pay\", \"pay\", \"people\", \"people\", \"people\", \"perception\", \"person\", \"person\", \"person\", \"person\", \"personality\", \"pic\", \"pick\", \"piece\", \"place\", \"place\", \"place\", \"place\", \"plane\", \"pm\", \"point\", \"pool\", \"pool\", \"pool\", \"pool\", \"poolside\", \"poor\", \"poor\", \"previous\", \"price\", \"price\", \"price\", \"price\", \"price\", \"problem\", \"problem\", \"program\", \"promotion\", \"provide\", \"quality\", \"quality\", \"quality\", \"rate\", \"rate\", \"ready\", \"realize\", \"really\", \"really\", \"really\", \"reason\", \"reasonably\", \"reassure\", \"reception\", \"reception\", \"reception\", \"reception\", \"reception\", \"red\", \"refurbishment\", \"relatively\", \"remain\", \"remove\", \"renovate\", \"renovation\", \"request\", \"request\", \"return\", \"rip\", \"say\", \"say\", \"say\", \"sculptor\", \"sea\", \"search\", \"selection\", \"service\", \"service\", \"service\", \"service\", \"shock\", \"shopping\", \"show\", \"shrub\", \"sick\", \"sleep\", \"sleep\", \"small\", \"small\", \"small\", \"smelly\", \"sometimes\", \"spa\", \"space\", \"space\", \"spend\", \"spinach\", \"staff\", \"staff\", \"staff\", \"stain\", \"stain\", \"stale\", \"standard\", \"standard\", \"standard\", \"standard\", \"star\", \"star\", \"star\", \"star\", \"stay\", \"stay\", \"stay\", \"stay\", \"stay\", \"steak\", \"still\", \"straight\", \"sub\", \"suit\", \"suite\", \"suite\", \"suppose\", \"supposedly\", \"surely\", \"surprised\", \"swim\", \"table\", \"take\", \"take\", \"take\", \"take\", \"take\", \"tandoori\", \"taste\", \"taste\", \"taste\", \"tea\", \"tell\", \"tell\", \"terrible\", \"terrible\", \"think\", \"think\", \"think\", \"thinking\", \"time\", \"time\", \"time\", \"time\", \"time\", \"today\", \"top\", \"tourism\", \"tourist\", \"try\", \"turndown\", \"unacceptable\", \"unacceptable\", \"unacceptable\", \"uncomfortable\", \"unfortunately\", \"unfortunately\", \"unfortunately\", \"use\", \"use\", \"use\", \"use\", \"use\", \"vibrant\", \"visit\", \"visit\", \"visit\", \"visit\", \"vodka\", \"wait\", \"waiter\", \"waitress\", \"want\", \"want\", \"want\", \"washroom\", \"waste\", \"water\", \"water\", \"wedding\", \"week\", \"weekend\", \"well\", \"well\", \"well\", \"wine\", \"year\", \"year\", \"\\u03ba\\u03c1\\u03c4\\u03b9\\u03c4\\u03b9\\u03ba\\u03b7\"]}, \"R\": 30, \"lambda.step\": 0.01, \"plot.opts\": {\"xlab\": \"PC1\", \"ylab\": \"PC2\"}, \"topic.order\": [2, 4, 8, 5, 7, 6, 3, 1]};\n",
       "\n",
       "function LDAvis_load_lib(url, callback){\n",
       "  var s = document.createElement('script');\n",
       "  s.src = url;\n",
       "  s.async = true;\n",
       "  s.onreadystatechange = s.onload = callback;\n",
       "  s.onerror = function(){console.warn(\"failed to load library \" + url);};\n",
       "  document.getElementsByTagName(\"head\")[0].appendChild(s);\n",
       "}\n",
       "\n",
       "if(typeof(LDAvis) !== \"undefined\"){\n",
       "   // already loaded: just create the visualization\n",
       "   !function(LDAvis){\n",
       "       new LDAvis(\"#\" + \"ldavis_el2346425478734523606924649609\", ldavis_el2346425478734523606924649609_data);\n",
       "   }(LDAvis);\n",
       "}else if(typeof define === \"function\" && define.amd){\n",
       "   // require.js is available: use it to load d3/LDAvis\n",
       "   require.config({paths: {d3: \"https://cdnjs.cloudflare.com/ajax/libs/d3/3.5.5/d3.min\"}});\n",
       "   require([\"d3\"], function(d3){\n",
       "      window.d3 = d3;\n",
       "      LDAvis_load_lib(\"https://cdn.rawgit.com/bmabey/pyLDAvis/files/ldavis.v1.0.0.js\", function(){\n",
       "        new LDAvis(\"#\" + \"ldavis_el2346425478734523606924649609\", ldavis_el2346425478734523606924649609_data);\n",
       "      });\n",
       "    });\n",
       "}else{\n",
       "    // require.js not available: dynamically load d3 & LDAvis\n",
       "    LDAvis_load_lib(\"https://cdnjs.cloudflare.com/ajax/libs/d3/3.5.5/d3.min.js\", function(){\n",
       "         LDAvis_load_lib(\"https://cdn.rawgit.com/bmabey/pyLDAvis/files/ldavis.v1.0.0.js\", function(){\n",
       "                 new LDAvis(\"#\" + \"ldavis_el2346425478734523606924649609\", ldavis_el2346425478734523606924649609_data);\n",
       "            })\n",
       "         });\n",
       "}\n",
       "</script>"
      ],
      "text/plain": [
       "PreparedData(topic_coordinates=              x         y  topics  cluster       Freq\n",
       "topic                                                \n",
       "1     -0.111932  0.135645       1        1  27.657261\n",
       "3      0.058060  0.170404       2        1  25.441078\n",
       "7      0.156957 -0.103460       3        1  12.282966\n",
       "4     -0.175939 -0.033199       4        1  11.997377\n",
       "6      0.136329  0.050478       5        1   7.119156\n",
       "5     -0.023155  0.012841       6        1   6.249160\n",
       "2     -0.064239 -0.146816       7        1   5.858771\n",
       "0      0.023919 -0.085892       8        1   3.394239, topic_info=          Term      Freq     Total Category  logprob  loglift\n",
       "101      floor  5.000000  5.000000  Default  30.0000  30.0000\n",
       "424      suite  3.000000  3.000000  Default  29.0000  29.0000\n",
       "30       night  7.000000  7.000000  Default  28.0000  28.0000\n",
       "136        use  5.000000  5.000000  Default  27.0000  27.0000\n",
       "28          go  8.000000  8.000000  Default  26.0000  26.0000\n",
       "..         ...       ...       ...      ...      ...      ...\n",
       "273  executive  0.402366  5.674823   Topic8  -4.6881   0.7367\n",
       "179  reception  0.400343  7.912782   Topic8  -4.6932   0.3992\n",
       "30       night  0.400031  7.999173   Topic8  -4.6940   0.3875\n",
       "41        want  0.399717  4.680415   Topic8  -4.6948   0.9227\n",
       "12       staff  0.398779  9.695185   Topic8  -4.6971   0.1921\n",
       "\n",
       "[439 rows x 6 columns], token_table=      Topic      Freq         Term\n",
       "term                              \n",
       "257       1  0.740678       access\n",
       "257       6  0.246893       access\n",
       "472       3  0.787005  accommodate\n",
       "0         3  0.568529    advertise\n",
       "0         7  0.568529    advertise\n",
       "...     ...       ...          ...\n",
       "224       6  0.219149         well\n",
       "469       1  0.896384         wine\n",
       "59        1  0.730716         year\n",
       "59        6  0.365358         year\n",
       "635       4  0.519736     κρτιτικη\n",
       "\n",
       "[540 rows x 3 columns], R=30, lambda_step=0.01, plot_opts={'xlab': 'PC1', 'ylab': 'PC2'}, topic_order=[2, 4, 8, 5, 7, 6, 3, 1])"
      ]
     },
     "metadata": {},
     "output_type": "display_data"
    }
   ],
   "source": [
    "plot_model(lda_neg_8, plot ='topic_model')"
   ]
  },
  {
   "cell_type": "code",
   "execution_count": 24,
   "metadata": {},
   "outputs": [
    {
     "ename": "SyntaxError",
     "evalue": "invalid syntax (<ipython-input-24-136c5a60b842>, line 1)",
     "output_type": "error",
     "traceback": [
      "\u001b[1;36m  File \u001b[1;32m\"<ipython-input-24-136c5a60b842>\"\u001b[1;36m, line \u001b[1;32m1\u001b[0m\n\u001b[1;33m    jupyter nbconvert --to html pycaret_customstopwrd_clust4.ipynb\u001b[0m\n\u001b[1;37m                    ^\u001b[0m\n\u001b[1;31mSyntaxError\u001b[0m\u001b[1;31m:\u001b[0m invalid syntax\n"
     ]
    }
   ],
   "source": [
    "jupyter nbconvert --to html pycaret_customstopwrd_clust4.ipynb"
   ]
  },
  {
   "cell_type": "code",
   "execution_count": null,
   "metadata": {},
   "outputs": [],
   "source": []
  },
  {
   "cell_type": "code",
   "execution_count": null,
   "metadata": {},
   "outputs": [],
   "source": []
  }
 ],
 "metadata": {
  "kernelspec": {
   "display_name": "Python 3",
   "language": "python",
   "name": "python3"
  },
  "language_info": {
   "codemirror_mode": {
    "name": "ipython",
    "version": 3
   },
   "file_extension": ".py",
   "mimetype": "text/x-python",
   "name": "python",
   "nbconvert_exporter": "python",
   "pygments_lexer": "ipython3",
   "version": "3.7.4"
  },
  "widgets": {
   "application/vnd.jupyter.widget-state+json": {
    "state": {
     "0117c18961784440b5d8753007486595": {
      "model_module": "@jupyter-widgets/base",
      "model_module_version": "1.2.0",
      "model_name": "LayoutModel",
      "state": {}
     },
     "011d55cba1d2424b9b3535f3f6304d6a": {
      "model_module": "@jupyter-widgets/controls",
      "model_module_version": "1.5.0",
      "model_name": "DescriptionStyleModel",
      "state": {
       "description_width": ""
      }
     },
     "0373170d28414abead8ee7b1e80ca1e1": {
      "model_module": "@jupyter-widgets/base",
      "model_module_version": "1.2.0",
      "model_name": "LayoutModel",
      "state": {}
     },
     "0764c20174304f3e9df4de4a9740120c": {
      "model_module": "@jupyter-widgets/base",
      "model_module_version": "1.2.0",
      "model_name": "LayoutModel",
      "state": {}
     },
     "07cadb2a40d44b9c82d27537c72ea0b7": {
      "model_module": "@jupyter-widgets/controls",
      "model_module_version": "1.5.0",
      "model_name": "IntProgressModel",
      "state": {
       "description": "Processing: ",
       "layout": "IPY_MODEL_374d9a1bae56432c95465d275e0f0edf",
       "max": 870,
       "style": "IPY_MODEL_97e9ddff3e324cafbe45798124f3620f",
       "value": 870
      }
     },
     "08aa6aa0ef6447a0bdc4244114ce3161": {
      "model_module": "@jupyter-widgets/controls",
      "model_module_version": "1.5.0",
      "model_name": "ToggleButtonsModel",
      "state": {
       "_options_labels": [
        "Frequency Plot",
        "Bigrams",
        "Trigrams",
        "Sentiment Polarity",
        "Word Cloud"
       ],
       "button_style": "",
       "description": "Plot Type:",
       "icons": [
        ""
       ],
       "index": 0,
       "layout": "IPY_MODEL_ec2ee32df4b34e6d91cb958ada69ae44",
       "style": "IPY_MODEL_a742a2a945db42c3a75be1bb9b816ab1",
       "tooltips": []
      }
     },
     "08e8d8e39f4440d49e27f90ccb39ca91": {
      "model_module": "@jupyter-widgets/base",
      "model_module_version": "1.2.0",
      "model_name": "LayoutModel",
      "state": {}
     },
     "09733c562d1348feab4b8e9135b545b8": {
      "model_module": "@jupyter-widgets/controls",
      "model_module_version": "1.5.0",
      "model_name": "ProgressStyleModel",
      "state": {
       "description_width": ""
      }
     },
     "09875ed6ea6648dfaf28dd3ba9e100dd": {
      "model_module": "@jupyter-widgets/base",
      "model_module_version": "1.2.0",
      "model_name": "LayoutModel",
      "state": {}
     },
     "09da599d43ae45bc8c6dee91524cd7b5": {
      "model_module": "@jupyter-widgets/controls",
      "model_module_version": "1.5.0",
      "model_name": "IntProgressModel",
      "state": {
       "description": "Processing: ",
       "layout": "IPY_MODEL_c19dd1e299d540e6b565a1ce24abb292",
       "max": 4,
       "style": "IPY_MODEL_a34fb008861f46e496add1a395f98c5c",
       "value": 4
      }
     },
     "0b344abf71a24150aa935a7f913cbea4": {
      "model_module": "@jupyter-widgets/base",
      "model_module_version": "1.2.0",
      "model_name": "LayoutModel",
      "state": {}
     },
     "0c66ab04e33b42c9bde43f9096e72993": {
      "model_module": "@jupyter-widgets/base",
      "model_module_version": "1.2.0",
      "model_name": "LayoutModel",
      "state": {}
     },
     "0ca41fee96084ec6b860c2c557524953": {
      "model_module": "@jupyter-widgets/controls",
      "model_module_version": "1.5.0",
      "model_name": "ButtonModel",
      "state": {
       "description": "Run Interact",
       "layout": "IPY_MODEL_e3cae36ab6d443e6bf117d901b58f5d5",
       "style": "IPY_MODEL_f9a5a98739fa4ba6a81df3a08ed82c5a"
      }
     },
     "0cc5da2e312e40de8682a7fc343208dd": {
      "model_module": "@jupyter-widgets/controls",
      "model_module_version": "1.5.0",
      "model_name": "ProgressStyleModel",
      "state": {
       "description_width": ""
      }
     },
     "0db6eb636e3846ae9c7311a0242e7c96": {
      "model_module": "@jupyter-widgets/base",
      "model_module_version": "1.2.0",
      "model_name": "LayoutModel",
      "state": {}
     },
     "0e8fea0b79e245859bbb5e40c0241525": {
      "model_module": "@jupyter-widgets/controls",
      "model_module_version": "1.5.0",
      "model_name": "ProgressStyleModel",
      "state": {
       "description_width": ""
      }
     },
     "0f6c8ac6d1f846068fb9281665654538": {
      "model_module": "@jupyter-widgets/controls",
      "model_module_version": "1.5.0",
      "model_name": "ProgressStyleModel",
      "state": {
       "description_width": ""
      }
     },
     "1198a964cca548019a74dd779a581444": {
      "model_module": "@jupyter-widgets/controls",
      "model_module_version": "1.5.0",
      "model_name": "IntProgressModel",
      "state": {
       "description": "Processing: ",
       "layout": "IPY_MODEL_23c2129d6e4b4e60aea46e684ef74565",
       "max": 48,
       "style": "IPY_MODEL_36da061b06cd4ee99e00182a6e9ce4bc",
       "value": 48
      }
     },
     "125c99e83f704685bfb89f907ade2fa7": {
      "model_module": "@jupyter-widgets/base",
      "model_module_version": "1.2.0",
      "model_name": "LayoutModel",
      "state": {}
     },
     "14e074f71fd342fca47034ca4a825b51": {
      "model_module": "@jupyter-widgets/base",
      "model_module_version": "1.2.0",
      "model_name": "LayoutModel",
      "state": {}
     },
     "14e6ec2ea7e14054810148b216201d6b": {
      "model_module": "@jupyter-widgets/controls",
      "model_module_version": "1.5.0",
      "model_name": "IntProgressModel",
      "state": {
       "description": "Processing: ",
       "layout": "IPY_MODEL_d1261151d6a241c2be4de1ba33f52b2a",
       "max": 870,
       "style": "IPY_MODEL_c7d2734dbf3f49eeaf3de24042d97c77",
       "value": 870
      }
     },
     "161d3ee7408a4de3b183655f24ccb534": {
      "model_module": "@jupyter-widgets/controls",
      "model_module_version": "1.5.0",
      "model_name": "ProgressStyleModel",
      "state": {
       "description_width": ""
      }
     },
     "16e9e2a08a3f427ca590447071eb82e0": {
      "model_module": "@jupyter-widgets/base",
      "model_module_version": "1.2.0",
      "model_name": "LayoutModel",
      "state": {}
     },
     "1710c717bd8445f3a5810ec5bd6f44cb": {
      "model_module": "@jupyter-widgets/controls",
      "model_module_version": "1.5.0",
      "model_name": "ProgressStyleModel",
      "state": {
       "description_width": ""
      }
     },
     "17918aac13614c9294221adfef9f1907": {
      "model_module": "@jupyter-widgets/controls",
      "model_module_version": "1.5.0",
      "model_name": "IntProgressModel",
      "state": {
       "description": "Processing: ",
       "layout": "IPY_MODEL_ec27026dd7434ab3a8fd3300a6f6c0df",
       "max": 870,
       "style": "IPY_MODEL_367873095006426c9e320950f7b4ae8d",
       "value": 870
      }
     },
     "192d8afedf20450eb270e406abe64e0e": {
      "model_module": "@jupyter-widgets/controls",
      "model_module_version": "1.5.0",
      "model_name": "IntProgressModel",
      "state": {
       "description": "Processing: ",
       "layout": "IPY_MODEL_2ade8d5999e24b38aa950416d69b90b6",
       "max": 48,
       "style": "IPY_MODEL_cdf17ecba82143e5a3e9de5fecc3a1ff",
       "value": 48
      }
     },
     "1a19b13730c34adb8ac3f3e6fcc55655": {
      "model_module": "@jupyter-widgets/controls",
      "model_module_version": "1.5.0",
      "model_name": "ProgressStyleModel",
      "state": {
       "description_width": ""
      }
     },
     "1a44e97fbbe94591bf4aad7f63cc012a": {
      "model_module": "@jupyter-widgets/base",
      "model_module_version": "1.2.0",
      "model_name": "LayoutModel",
      "state": {}
     },
     "1b08de3ef7aa4b4384a1e311af2322ba": {
      "model_module": "@jupyter-widgets/controls",
      "model_module_version": "1.5.0",
      "model_name": "ProgressStyleModel",
      "state": {
       "description_width": ""
      }
     },
     "1c9056f33a1a44b480d6146ec57c5394": {
      "model_module": "@jupyter-widgets/base",
      "model_module_version": "1.2.0",
      "model_name": "LayoutModel",
      "state": {}
     },
     "1cd42b32b75a46dcaeea4756c5638425": {
      "model_module": "@jupyter-widgets/controls",
      "model_module_version": "1.5.0",
      "model_name": "ProgressStyleModel",
      "state": {
       "description_width": ""
      }
     },
     "1da79ec76dd64bfc8614901e6b5f0330": {
      "model_module": "@jupyter-widgets/controls",
      "model_module_version": "1.5.0",
      "model_name": "IntProgressModel",
      "state": {
       "description": "Processing: ",
       "layout": "IPY_MODEL_f99bff09f5564cecb7aac86ee3ba30f0",
       "max": 48,
       "style": "IPY_MODEL_bf25e802d4f34cbd8a1157570c911d56",
       "value": 48
      }
     },
     "1f0483d3c33345778b9899b758906692": {
      "model_module": "@jupyter-widgets/controls",
      "model_module_version": "1.5.0",
      "model_name": "IntProgressModel",
      "state": {
       "description": "Processing: ",
       "layout": "IPY_MODEL_7b0513ed1df24cb6ac19ec71eebd739b",
       "max": 4,
       "style": "IPY_MODEL_6eca3fee38aa49eaa15618e2c784e7ef",
       "value": 4
      }
     },
     "20e5fd6a0069454fafd326e0b2c6874e": {
      "model_module": "@jupyter-widgets/controls",
      "model_module_version": "1.5.0",
      "model_name": "IntProgressModel",
      "state": {
       "description": "Processing: ",
       "layout": "IPY_MODEL_9f25d12341b64552868de4dabd7bb506",
       "max": 4,
       "style": "IPY_MODEL_caa659819c434f14a218de71ea5e9920",
       "value": 4
      }
     },
     "214f5c9d01af4e3280d72e111805b628": {
      "model_module": "@jupyter-widgets/controls",
      "model_module_version": "1.5.0",
      "model_name": "IntProgressModel",
      "state": {
       "description": "Processing: ",
       "layout": "IPY_MODEL_e08b19f5eb244d1db0b11de26a4f32c2",
       "max": 870,
       "style": "IPY_MODEL_e6faccfc6fd544afa2637f5003bf7d9a",
       "value": 870
      }
     },
     "21f73cd0eb41414ba504f5427afc948b": {
      "model_module": "@jupyter-widgets/base",
      "model_module_version": "1.2.0",
      "model_name": "LayoutModel",
      "state": {}
     },
     "22df95c90c8f4280af2639447b493322": {
      "model_module": "@jupyter-widgets/controls",
      "model_module_version": "1.5.0",
      "model_name": "IntProgressModel",
      "state": {
       "description": "Processing: ",
       "layout": "IPY_MODEL_08e8d8e39f4440d49e27f90ccb39ca91",
       "max": 48,
       "style": "IPY_MODEL_0e8fea0b79e245859bbb5e40c0241525",
       "value": 48
      }
     },
     "2307265549e1422c90e209ab9fac75d9": {
      "model_module": "@jupyter-widgets/base",
      "model_module_version": "1.2.0",
      "model_name": "LayoutModel",
      "state": {}
     },
     "23c2129d6e4b4e60aea46e684ef74565": {
      "model_module": "@jupyter-widgets/base",
      "model_module_version": "1.2.0",
      "model_name": "LayoutModel",
      "state": {}
     },
     "23ed8d269a2b44afaef219e7a53bc0a6": {
      "model_module": "@jupyter-widgets/controls",
      "model_module_version": "1.5.0",
      "model_name": "DropdownModel",
      "state": {
       "_options_labels": [
        "Topic 0",
        "Topic 1",
        "Topic 2",
        "Topic 3"
       ],
       "description": "Topic #:",
       "index": 3,
       "layout": "IPY_MODEL_33eb2b1b8bb14719ba8a21393bcd7130",
       "style": "IPY_MODEL_fa30d12576524391bd1a84daf0e5e3e2"
      }
     },
     "25083cc1971945d7bc6bc8bef8f5913a": {
      "model_module": "@jupyter-widgets/controls",
      "model_module_version": "1.5.0",
      "model_name": "IntProgressModel",
      "state": {
       "description": "Processing: ",
       "layout": "IPY_MODEL_c45c5a4d34b4456884f58bb925af73f9",
       "max": 870,
       "style": "IPY_MODEL_ae2910a0461b4c3981e9225276dea5c2",
       "value": 870
      }
     },
     "26f02ce620224ea8a80f62d026ec1419": {
      "model_module": "@jupyter-widgets/controls",
      "model_module_version": "1.5.0",
      "model_name": "ProgressStyleModel",
      "state": {
       "description_width": ""
      }
     },
     "283c6fb0bef0443d8e6420eca0655ce4": {
      "model_module": "@jupyter-widgets/controls",
      "model_module_version": "1.5.0",
      "model_name": "IntProgressModel",
      "state": {
       "description": "Processing: ",
       "layout": "IPY_MODEL_934bc2eb15ec404c9b98c481e126b7ac",
       "max": 4,
       "style": "IPY_MODEL_9c60033ee0d74e949a5e8bbb2ad1aca6",
       "value": 4
      }
     },
     "283fc5c6b2514ea2b9ac077137ff3078": {
      "model_module": "@jupyter-widgets/controls",
      "model_module_version": "1.5.0",
      "model_name": "IntProgressModel",
      "state": {
       "description": "Processing: ",
       "layout": "IPY_MODEL_f471eca31f6e48c1bd81b6d2d26b8b72",
       "max": 4,
       "style": "IPY_MODEL_4447fae23ca74ff987b96e31f0ca8c64",
       "value": 4
      }
     },
     "2ade8d5999e24b38aa950416d69b90b6": {
      "model_module": "@jupyter-widgets/base",
      "model_module_version": "1.2.0",
      "model_name": "LayoutModel",
      "state": {}
     },
     "2b987b17499247a58f0f89886a90de49": {
      "model_module": "@jupyter-widgets/controls",
      "model_module_version": "1.5.0",
      "model_name": "IntProgressModel",
      "state": {
       "description": "Processing: ",
       "layout": "IPY_MODEL_a83a1065e8ea46f79cd22b93a05f9934",
       "max": 4,
       "style": "IPY_MODEL_09733c562d1348feab4b8e9135b545b8",
       "value": 4
      }
     },
     "2bb1a14617cf4d9dafd97b6ea9f6b467": {
      "model_module": "@jupyter-widgets/controls",
      "model_module_version": "1.5.0",
      "model_name": "IntProgressModel",
      "state": {
       "description": "Processing: ",
       "layout": "IPY_MODEL_21f73cd0eb41414ba504f5427afc948b",
       "max": 870,
       "style": "IPY_MODEL_1a19b13730c34adb8ac3f3e6fcc55655",
       "value": 870
      }
     },
     "2bd9437396b44d9b9119d03a87f910cd": {
      "model_module": "@jupyter-widgets/controls",
      "model_module_version": "1.5.0",
      "model_name": "IntProgressModel",
      "state": {
       "description": "Processing: ",
       "layout": "IPY_MODEL_0c66ab04e33b42c9bde43f9096e72993",
       "max": 4,
       "style": "IPY_MODEL_ebc411cffcd441f08ebce6e23bb4561b",
       "value": 4
      }
     },
     "31b3baafeb774a7cbac7db870aa9dd74": {
      "model_module": "@jupyter-widgets/base",
      "model_module_version": "1.2.0",
      "model_name": "LayoutModel",
      "state": {}
     },
     "31cc43fcacf44bd492789694ad981918": {
      "model_module": "@jupyter-widgets/controls",
      "model_module_version": "1.5.0",
      "model_name": "ButtonModel",
      "state": {
       "description": "Run Interact",
       "layout": "IPY_MODEL_df6710eb9bd64e1399f6eb85417e19bc",
       "style": "IPY_MODEL_e804e8b8e49742c7b794eb645e9cfbb7"
      }
     },
     "322c4bab47e543bb86e141cc5dd3babe": {
      "model_module": "@jupyter-widgets/controls",
      "model_module_version": "1.5.0",
      "model_name": "VBoxModel",
      "state": {
       "_dom_classes": [
        "widget-interact"
       ],
       "children": [
        "IPY_MODEL_f0aa0b72c5d34fd6b0fdec52b7bc6792",
        "IPY_MODEL_b60e569c302f4aed9a592d920bb1d704",
        "IPY_MODEL_31cc43fcacf44bd492789694ad981918",
        "IPY_MODEL_937c0719026c43d2b1b5d22fa0f42fb5"
       ],
       "layout": "IPY_MODEL_a90a548c760246d6a187aeac60b8d716"
      }
     },
     "331b048b024f45e780b69e099540ecf6": {
      "model_module": "@jupyter-widgets/base",
      "model_module_version": "1.2.0",
      "model_name": "LayoutModel",
      "state": {}
     },
     "33eb2b1b8bb14719ba8a21393bcd7130": {
      "model_module": "@jupyter-widgets/base",
      "model_module_version": "1.2.0",
      "model_name": "LayoutModel",
      "state": {}
     },
     "343289ca052f45dd9faadaefc9372136": {
      "model_module": "@jupyter-widgets/controls",
      "model_module_version": "1.5.0",
      "model_name": "ProgressStyleModel",
      "state": {
       "description_width": ""
      }
     },
     "34c55935c58b4f5d9becee874b767226": {
      "model_module": "@jupyter-widgets/base",
      "model_module_version": "1.2.0",
      "model_name": "LayoutModel",
      "state": {}
     },
     "35edcc52f9ab42fe9998f1f225424eaf": {
      "model_module": "@jupyter-widgets/base",
      "model_module_version": "1.2.0",
      "model_name": "LayoutModel",
      "state": {}
     },
     "367873095006426c9e320950f7b4ae8d": {
      "model_module": "@jupyter-widgets/controls",
      "model_module_version": "1.5.0",
      "model_name": "ProgressStyleModel",
      "state": {
       "description_width": ""
      }
     },
     "36da061b06cd4ee99e00182a6e9ce4bc": {
      "model_module": "@jupyter-widgets/controls",
      "model_module_version": "1.5.0",
      "model_name": "ProgressStyleModel",
      "state": {
       "description_width": ""
      }
     },
     "374d9a1bae56432c95465d275e0f0edf": {
      "model_module": "@jupyter-widgets/base",
      "model_module_version": "1.2.0",
      "model_name": "LayoutModel",
      "state": {}
     },
     "379ae64d79ba4e5eb105aff54a88ccd5": {
      "model_module": "@jupyter-widgets/base",
      "model_module_version": "1.2.0",
      "model_name": "LayoutModel",
      "state": {}
     },
     "3a8cd6d206e444258351efc0bcae2d1d": {
      "model_module": "@jupyter-widgets/base",
      "model_module_version": "1.2.0",
      "model_name": "LayoutModel",
      "state": {}
     },
     "3acab8a540094d4098b78789d04c32ee": {
      "model_module": "@jupyter-widgets/controls",
      "model_module_version": "1.5.0",
      "model_name": "ProgressStyleModel",
      "state": {
       "description_width": ""
      }
     },
     "3b43b69302be48c1b7fe3f6c01b6050e": {
      "model_module": "@jupyter-widgets/base",
      "model_module_version": "1.2.0",
      "model_name": "LayoutModel",
      "state": {}
     },
     "3bf7f25f47ad4584bbb8ee0ebc13b456": {
      "model_module": "@jupyter-widgets/controls",
      "model_module_version": "1.5.0",
      "model_name": "IntProgressModel",
      "state": {
       "description": "Processing: ",
       "layout": "IPY_MODEL_4e2151d4cb4c4f0ca0db2d5778d48953",
       "max": 48,
       "style": "IPY_MODEL_c36c5f6e93d24320b9c334cd7da8e437",
       "value": 48
      }
     },
     "3f46aa5b765141ed92a825ac31204f31": {
      "model_module": "@jupyter-widgets/controls",
      "model_module_version": "1.5.0",
      "model_name": "ButtonStyleModel",
      "state": {}
     },
     "423bc887d5c74b828758d8bde8648171": {
      "model_module": "@jupyter-widgets/base",
      "model_module_version": "1.2.0",
      "model_name": "LayoutModel",
      "state": {}
     },
     "4447fae23ca74ff987b96e31f0ca8c64": {
      "model_module": "@jupyter-widgets/controls",
      "model_module_version": "1.5.0",
      "model_name": "ProgressStyleModel",
      "state": {
       "description_width": ""
      }
     },
     "45a586cfd60944c28a4a5cb8dfe23639": {
      "model_module": "@jupyter-widgets/controls",
      "model_module_version": "1.5.0",
      "model_name": "ProgressStyleModel",
      "state": {
       "description_width": ""
      }
     },
     "45f53047ff5540dfa38eba501bd244ed": {
      "model_module": "@jupyter-widgets/controls",
      "model_module_version": "1.5.0",
      "model_name": "IntProgressModel",
      "state": {
       "description": "Processing: ",
       "layout": "IPY_MODEL_0117c18961784440b5d8753007486595",
       "max": 4,
       "style": "IPY_MODEL_1b08de3ef7aa4b4384a1e311af2322ba",
       "value": 4
      }
     },
     "460c90df8cb44ac69590932b8b6e5074": {
      "model_module": "@jupyter-widgets/base",
      "model_module_version": "1.2.0",
      "model_name": "LayoutModel",
      "state": {}
     },
     "479439093be741ac88e852948d5c5ab8": {
      "model_module": "@jupyter-widgets/base",
      "model_module_version": "1.2.0",
      "model_name": "LayoutModel",
      "state": {}
     },
     "4b6faed7bfb248248bf88f723cafb57e": {
      "model_module": "@jupyter-widgets/base",
      "model_module_version": "1.2.0",
      "model_name": "LayoutModel",
      "state": {}
     },
     "4e1fdee38f5c468196e169e6a5f7c101": {
      "model_module": "@jupyter-widgets/controls",
      "model_module_version": "1.5.0",
      "model_name": "ProgressStyleModel",
      "state": {
       "description_width": ""
      }
     },
     "4e2151d4cb4c4f0ca0db2d5778d48953": {
      "model_module": "@jupyter-widgets/base",
      "model_module_version": "1.2.0",
      "model_name": "LayoutModel",
      "state": {}
     },
     "4e3242bd35ff4ec681ee4cacddc4c182": {
      "model_module": "@jupyter-widgets/base",
      "model_module_version": "1.2.0",
      "model_name": "LayoutModel",
      "state": {}
     },
     "5035a2b460474f83903c74c7dad63a39": {
      "model_module": "@jupyter-widgets/controls",
      "model_module_version": "1.5.0",
      "model_name": "IntProgressModel",
      "state": {
       "description": "Processing: ",
       "layout": "IPY_MODEL_f90aba366131435b94408fae809d8109",
       "max": 4,
       "style": "IPY_MODEL_6b283543764646a9ae26e0b933fba321",
       "value": 4
      }
     },
     "529b5b871ba3463887efe28bc5b168c3": {
      "model_module": "@jupyter-widgets/controls",
      "model_module_version": "1.5.0",
      "model_name": "IntProgressModel",
      "state": {
       "description": "Processing: ",
       "layout": "IPY_MODEL_bc73140e8d064bf7b2f2e0ab84454788",
       "max": 4,
       "style": "IPY_MODEL_8588d3da2aaf42249875a17f77c6efc7",
       "value": 4
      }
     },
     "53158dec7f594db998d1d3c997266e28": {
      "model_module": "@jupyter-widgets/base",
      "model_module_version": "1.2.0",
      "model_name": "LayoutModel",
      "state": {}
     },
     "535c7dfe55704c279516fe05a4193ccd": {
      "model_module": "@jupyter-widgets/controls",
      "model_module_version": "1.5.0",
      "model_name": "IntProgressModel",
      "state": {
       "description": "Processing: ",
       "layout": "IPY_MODEL_16e9e2a08a3f427ca590447071eb82e0",
       "max": 870,
       "style": "IPY_MODEL_ba2240e1c94a478cb4a761e40d0958b0",
       "value": 870
      }
     },
     "57cac375ec6d4fd3b96900dc60fef2aa": {
      "model_module": "@jupyter-widgets/base",
      "model_module_version": "1.2.0",
      "model_name": "LayoutModel",
      "state": {}
     },
     "58831f023c5b497e919aff6f4eb8a4a5": {
      "model_module": "@jupyter-widgets/base",
      "model_module_version": "1.2.0",
      "model_name": "LayoutModel",
      "state": {}
     },
     "5971dcb9f6424a1cbf1c2014a1386b81": {
      "model_module": "@jupyter-widgets/controls",
      "model_module_version": "1.5.0",
      "model_name": "ButtonModel",
      "state": {
       "description": "Run Interact",
       "layout": "IPY_MODEL_70a28876caf14ca4a0c5f7a06e67284a",
       "style": "IPY_MODEL_ed6c19d2b9dd4d0cb71431f7aa30934c"
      }
     },
     "5a09472c1ef3476b924f3803890a10e1": {
      "model_module": "@jupyter-widgets/controls",
      "model_module_version": "1.5.0",
      "model_name": "IntProgressModel",
      "state": {
       "description": "Processing: ",
       "layout": "IPY_MODEL_b97fc926337941f882e40c70b1f6d86a",
       "max": 870,
       "style": "IPY_MODEL_9e6d802bfa104586a25109d50ceff98d",
       "value": 870
      }
     },
     "5b6b8326f0a5417d876abb0002f1a002": {
      "model_module": "@jupyter-widgets/controls",
      "model_module_version": "1.5.0",
      "model_name": "ToggleButtonsStyleModel",
      "state": {
       "button_width": "",
       "description_width": ""
      }
     },
     "5bcb2f51df654e0f8523e33e88d2609f": {
      "model_module": "@jupyter-widgets/controls",
      "model_module_version": "1.5.0",
      "model_name": "ProgressStyleModel",
      "state": {
       "description_width": ""
      }
     },
     "5be6d5098d9f467098ed1693d37e32b2": {
      "model_module": "@jupyter-widgets/output",
      "model_module_version": "1.0.0",
      "model_name": "OutputModel",
      "state": {
       "layout": "IPY_MODEL_5e22a500410947d3a5b677dcf2f13a84",
       "outputs": [
        {
         "data": {
          "text/html": "        <script type=\"text/javascript\">\n        window.PlotlyConfig = {MathJaxConfig: 'local'};\n        if (window.MathJax) {MathJax.Hub.Config({SVG: {font: \"STIX-Web\"}});}\n        if (typeof require !== 'undefined') {\n        require.undef(\"plotly\");\n        requirejs.config({\n            paths: {\n                'plotly': ['https://cdn.plot.ly/plotly-latest.min']\n            }\n        });\n        require(['plotly'], function(Plotly) {\n            window._Plotly = Plotly;\n        });\n        }\n        </script>\n        "
         },
         "metadata": {},
         "output_type": "display_data"
        },
        {
         "data": {
          "application/vnd.plotly.v1+json": {
           "config": {
            "linkText": "Export to plot.ly",
            "plotlyServerURL": "https://plot.ly",
            "showLink": true
           },
           "data": [
            {
             "marker": {
              "color": "rgba(255, 153, 51, 0.6)",
              "line": {
               "color": "rgba(255, 153, 51, 1.0)",
               "width": 1
              }
             },
             "name": "count",
             "orientation": "v",
             "text": "",
             "type": "bar",
             "x": [
              "outdoor pool",
              "pool bar",
              "stay night",
              "great variety",
              "go back",
              "first time",
              "lunch dinner",
              "night stay",
              "business trip",
              "staff friendly",
              "excellent service",
              "make sure",
              "next time",
              "pool area",
              "worth visit",
              "stay business",
              "business lunch",
              "late night",
              "morning breakfast",
              "staff excellent",
              "extra charge",
              "little old",
              "little bit",
              "well decorate",
              "flight cancel",
              "swim pool",
              "indoor pool",
              "friendly helpful",
              "include price",
              "friendly staff",
              "high quality",
              "bit pricey",
              "next day",
              "many time",
              "great time",
              "different salad",
              "spa area",
              "really like",
              "place stay",
              "soft drink",
              "day breakfast",
              "old fashion",
              "several different",
              "stay well",
              "buffet option",
              "complimentary drink",
              "cost euros",
              "book night",
              "change glass",
              "couple day",
              "go wife",
              "great atmosphere",
              "fresh fruit",
              "fan buffet",
              "buffet choose",
              "dessert include",
              "buffet rich",
              "buffet excellent",
              "buffet great",
              "entree dish",
              "buffet make",
              "enjoy great",
              "easy find",
              "drink also",
              "great place",
              "let know",
              "great value",
              "stay service",
              "really worth",
              "reasonable price",
              "right get",
              "salad meat",
              "service excellent",
              "staff keep",
              "summer time",
              "helpful polite",
              "think dessert",
              "try different",
              "variety choice",
              "variety salad",
              "want change",
              "want pay",
              "quality taste",
              "price friendly",
              "place go",
              "minute_walk away",
              "meat fish",
              "many option",
              "lunch salad",
              "lunch buffet",
              "local speciality",
              "like change",
              "late lunch",
              "large varaiety",
              "large clean",
              "indoor outdoor",
              "huge variety",
              "hot dish",
              "highly recomende",
              "always great"
             ],
             "y": [
              6,
              6,
              6,
              5,
              5,
              5,
              5,
              5,
              5,
              4,
              4,
              4,
              4,
              4,
              4,
              4,
              3,
              3,
              3,
              3,
              3,
              3,
              3,
              3,
              3,
              3,
              3,
              3,
              3,
              3,
              3,
              3,
              3,
              3,
              3,
              3,
              3,
              3,
              3,
              3,
              3,
              3,
              3,
              3,
              2,
              2,
              2,
              2,
              2,
              2,
              2,
              2,
              2,
              2,
              2,
              2,
              2,
              2,
              2,
              2,
              2,
              2,
              2,
              2,
              2,
              2,
              2,
              2,
              2,
              2,
              2,
              2,
              2,
              2,
              2,
              2,
              2,
              2,
              2,
              2,
              2,
              2,
              2,
              2,
              2,
              2,
              2,
              2,
              2,
              2,
              2,
              2,
              2,
              2,
              2,
              2,
              2,
              2,
              2,
              2
             ]
            }
           ],
           "layout": {
            "legend": {
             "bgcolor": "#F5F6F9",
             "font": {
              "color": "#4D5663"
             }
            },
            "paper_bgcolor": "#F5F6F9",
            "plot_bgcolor": "#F5F6F9",
            "template": {
             "data": {
              "bar": [
               {
                "error_x": {
                 "color": "#2a3f5f"
                },
                "error_y": {
                 "color": "#2a3f5f"
                },
                "marker": {
                 "line": {
                  "color": "#E5ECF6",
                  "width": 0.5
                 }
                },
                "type": "bar"
               }
              ],
              "barpolar": [
               {
                "marker": {
                 "line": {
                  "color": "#E5ECF6",
                  "width": 0.5
                 }
                },
                "type": "barpolar"
               }
              ],
              "carpet": [
               {
                "aaxis": {
                 "endlinecolor": "#2a3f5f",
                 "gridcolor": "white",
                 "linecolor": "white",
                 "minorgridcolor": "white",
                 "startlinecolor": "#2a3f5f"
                },
                "baxis": {
                 "endlinecolor": "#2a3f5f",
                 "gridcolor": "white",
                 "linecolor": "white",
                 "minorgridcolor": "white",
                 "startlinecolor": "#2a3f5f"
                },
                "type": "carpet"
               }
              ],
              "choropleth": [
               {
                "colorbar": {
                 "outlinewidth": 0,
                 "ticks": ""
                },
                "type": "choropleth"
               }
              ],
              "contour": [
               {
                "colorbar": {
                 "outlinewidth": 0,
                 "ticks": ""
                },
                "colorscale": [
                 [
                  0,
                  "#0d0887"
                 ],
                 [
                  0.1111111111111111,
                  "#46039f"
                 ],
                 [
                  0.2222222222222222,
                  "#7201a8"
                 ],
                 [
                  0.3333333333333333,
                  "#9c179e"
                 ],
                 [
                  0.4444444444444444,
                  "#bd3786"
                 ],
                 [
                  0.5555555555555556,
                  "#d8576b"
                 ],
                 [
                  0.6666666666666666,
                  "#ed7953"
                 ],
                 [
                  0.7777777777777778,
                  "#fb9f3a"
                 ],
                 [
                  0.8888888888888888,
                  "#fdca26"
                 ],
                 [
                  1,
                  "#f0f921"
                 ]
                ],
                "type": "contour"
               }
              ],
              "contourcarpet": [
               {
                "colorbar": {
                 "outlinewidth": 0,
                 "ticks": ""
                },
                "type": "contourcarpet"
               }
              ],
              "heatmap": [
               {
                "colorbar": {
                 "outlinewidth": 0,
                 "ticks": ""
                },
                "colorscale": [
                 [
                  0,
                  "#0d0887"
                 ],
                 [
                  0.1111111111111111,
                  "#46039f"
                 ],
                 [
                  0.2222222222222222,
                  "#7201a8"
                 ],
                 [
                  0.3333333333333333,
                  "#9c179e"
                 ],
                 [
                  0.4444444444444444,
                  "#bd3786"
                 ],
                 [
                  0.5555555555555556,
                  "#d8576b"
                 ],
                 [
                  0.6666666666666666,
                  "#ed7953"
                 ],
                 [
                  0.7777777777777778,
                  "#fb9f3a"
                 ],
                 [
                  0.8888888888888888,
                  "#fdca26"
                 ],
                 [
                  1,
                  "#f0f921"
                 ]
                ],
                "type": "heatmap"
               }
              ],
              "heatmapgl": [
               {
                "colorbar": {
                 "outlinewidth": 0,
                 "ticks": ""
                },
                "colorscale": [
                 [
                  0,
                  "#0d0887"
                 ],
                 [
                  0.1111111111111111,
                  "#46039f"
                 ],
                 [
                  0.2222222222222222,
                  "#7201a8"
                 ],
                 [
                  0.3333333333333333,
                  "#9c179e"
                 ],
                 [
                  0.4444444444444444,
                  "#bd3786"
                 ],
                 [
                  0.5555555555555556,
                  "#d8576b"
                 ],
                 [
                  0.6666666666666666,
                  "#ed7953"
                 ],
                 [
                  0.7777777777777778,
                  "#fb9f3a"
                 ],
                 [
                  0.8888888888888888,
                  "#fdca26"
                 ],
                 [
                  1,
                  "#f0f921"
                 ]
                ],
                "type": "heatmapgl"
               }
              ],
              "histogram": [
               {
                "marker": {
                 "colorbar": {
                  "outlinewidth": 0,
                  "ticks": ""
                 }
                },
                "type": "histogram"
               }
              ],
              "histogram2d": [
               {
                "colorbar": {
                 "outlinewidth": 0,
                 "ticks": ""
                },
                "colorscale": [
                 [
                  0,
                  "#0d0887"
                 ],
                 [
                  0.1111111111111111,
                  "#46039f"
                 ],
                 [
                  0.2222222222222222,
                  "#7201a8"
                 ],
                 [
                  0.3333333333333333,
                  "#9c179e"
                 ],
                 [
                  0.4444444444444444,
                  "#bd3786"
                 ],
                 [
                  0.5555555555555556,
                  "#d8576b"
                 ],
                 [
                  0.6666666666666666,
                  "#ed7953"
                 ],
                 [
                  0.7777777777777778,
                  "#fb9f3a"
                 ],
                 [
                  0.8888888888888888,
                  "#fdca26"
                 ],
                 [
                  1,
                  "#f0f921"
                 ]
                ],
                "type": "histogram2d"
               }
              ],
              "histogram2dcontour": [
               {
                "colorbar": {
                 "outlinewidth": 0,
                 "ticks": ""
                },
                "colorscale": [
                 [
                  0,
                  "#0d0887"
                 ],
                 [
                  0.1111111111111111,
                  "#46039f"
                 ],
                 [
                  0.2222222222222222,
                  "#7201a8"
                 ],
                 [
                  0.3333333333333333,
                  "#9c179e"
                 ],
                 [
                  0.4444444444444444,
                  "#bd3786"
                 ],
                 [
                  0.5555555555555556,
                  "#d8576b"
                 ],
                 [
                  0.6666666666666666,
                  "#ed7953"
                 ],
                 [
                  0.7777777777777778,
                  "#fb9f3a"
                 ],
                 [
                  0.8888888888888888,
                  "#fdca26"
                 ],
                 [
                  1,
                  "#f0f921"
                 ]
                ],
                "type": "histogram2dcontour"
               }
              ],
              "mesh3d": [
               {
                "colorbar": {
                 "outlinewidth": 0,
                 "ticks": ""
                },
                "type": "mesh3d"
               }
              ],
              "parcoords": [
               {
                "line": {
                 "colorbar": {
                  "outlinewidth": 0,
                  "ticks": ""
                 }
                },
                "type": "parcoords"
               }
              ],
              "pie": [
               {
                "automargin": true,
                "type": "pie"
               }
              ],
              "scatter": [
               {
                "marker": {
                 "colorbar": {
                  "outlinewidth": 0,
                  "ticks": ""
                 }
                },
                "type": "scatter"
               }
              ],
              "scatter3d": [
               {
                "line": {
                 "colorbar": {
                  "outlinewidth": 0,
                  "ticks": ""
                 }
                },
                "marker": {
                 "colorbar": {
                  "outlinewidth": 0,
                  "ticks": ""
                 }
                },
                "type": "scatter3d"
               }
              ],
              "scattercarpet": [
               {
                "marker": {
                 "colorbar": {
                  "outlinewidth": 0,
                  "ticks": ""
                 }
                },
                "type": "scattercarpet"
               }
              ],
              "scattergeo": [
               {
                "marker": {
                 "colorbar": {
                  "outlinewidth": 0,
                  "ticks": ""
                 }
                },
                "type": "scattergeo"
               }
              ],
              "scattergl": [
               {
                "marker": {
                 "colorbar": {
                  "outlinewidth": 0,
                  "ticks": ""
                 }
                },
                "type": "scattergl"
               }
              ],
              "scattermapbox": [
               {
                "marker": {
                 "colorbar": {
                  "outlinewidth": 0,
                  "ticks": ""
                 }
                },
                "type": "scattermapbox"
               }
              ],
              "scatterpolar": [
               {
                "marker": {
                 "colorbar": {
                  "outlinewidth": 0,
                  "ticks": ""
                 }
                },
                "type": "scatterpolar"
               }
              ],
              "scatterpolargl": [
               {
                "marker": {
                 "colorbar": {
                  "outlinewidth": 0,
                  "ticks": ""
                 }
                },
                "type": "scatterpolargl"
               }
              ],
              "scatterternary": [
               {
                "marker": {
                 "colorbar": {
                  "outlinewidth": 0,
                  "ticks": ""
                 }
                },
                "type": "scatterternary"
               }
              ],
              "surface": [
               {
                "colorbar": {
                 "outlinewidth": 0,
                 "ticks": ""
                },
                "colorscale": [
                 [
                  0,
                  "#0d0887"
                 ],
                 [
                  0.1111111111111111,
                  "#46039f"
                 ],
                 [
                  0.2222222222222222,
                  "#7201a8"
                 ],
                 [
                  0.3333333333333333,
                  "#9c179e"
                 ],
                 [
                  0.4444444444444444,
                  "#bd3786"
                 ],
                 [
                  0.5555555555555556,
                  "#d8576b"
                 ],
                 [
                  0.6666666666666666,
                  "#ed7953"
                 ],
                 [
                  0.7777777777777778,
                  "#fb9f3a"
                 ],
                 [
                  0.8888888888888888,
                  "#fdca26"
                 ],
                 [
                  1,
                  "#f0f921"
                 ]
                ],
                "type": "surface"
               }
              ],
              "table": [
               {
                "cells": {
                 "fill": {
                  "color": "#EBF0F8"
                 },
                 "line": {
                  "color": "white"
                 }
                },
                "header": {
                 "fill": {
                  "color": "#C8D4E3"
                 },
                 "line": {
                  "color": "white"
                 }
                },
                "type": "table"
               }
              ]
             },
             "layout": {
              "annotationdefaults": {
               "arrowcolor": "#2a3f5f",
               "arrowhead": 0,
               "arrowwidth": 1
              },
              "coloraxis": {
               "colorbar": {
                "outlinewidth": 0,
                "ticks": ""
               }
              },
              "colorscale": {
               "diverging": [
                [
                 0,
                 "#8e0152"
                ],
                [
                 0.1,
                 "#c51b7d"
                ],
                [
                 0.2,
                 "#de77ae"
                ],
                [
                 0.3,
                 "#f1b6da"
                ],
                [
                 0.4,
                 "#fde0ef"
                ],
                [
                 0.5,
                 "#f7f7f7"
                ],
                [
                 0.6,
                 "#e6f5d0"
                ],
                [
                 0.7,
                 "#b8e186"
                ],
                [
                 0.8,
                 "#7fbc41"
                ],
                [
                 0.9,
                 "#4d9221"
                ],
                [
                 1,
                 "#276419"
                ]
               ],
               "sequential": [
                [
                 0,
                 "#0d0887"
                ],
                [
                 0.1111111111111111,
                 "#46039f"
                ],
                [
                 0.2222222222222222,
                 "#7201a8"
                ],
                [
                 0.3333333333333333,
                 "#9c179e"
                ],
                [
                 0.4444444444444444,
                 "#bd3786"
                ],
                [
                 0.5555555555555556,
                 "#d8576b"
                ],
                [
                 0.6666666666666666,
                 "#ed7953"
                ],
                [
                 0.7777777777777778,
                 "#fb9f3a"
                ],
                [
                 0.8888888888888888,
                 "#fdca26"
                ],
                [
                 1,
                 "#f0f921"
                ]
               ],
               "sequentialminus": [
                [
                 0,
                 "#0d0887"
                ],
                [
                 0.1111111111111111,
                 "#46039f"
                ],
                [
                 0.2222222222222222,
                 "#7201a8"
                ],
                [
                 0.3333333333333333,
                 "#9c179e"
                ],
                [
                 0.4444444444444444,
                 "#bd3786"
                ],
                [
                 0.5555555555555556,
                 "#d8576b"
                ],
                [
                 0.6666666666666666,
                 "#ed7953"
                ],
                [
                 0.7777777777777778,
                 "#fb9f3a"
                ],
                [
                 0.8888888888888888,
                 "#fdca26"
                ],
                [
                 1,
                 "#f0f921"
                ]
               ]
              },
              "colorway": [
               "#636efa",
               "#EF553B",
               "#00cc96",
               "#ab63fa",
               "#FFA15A",
               "#19d3f3",
               "#FF6692",
               "#B6E880",
               "#FF97FF",
               "#FECB52"
              ],
              "font": {
               "color": "#2a3f5f"
              },
              "geo": {
               "bgcolor": "white",
               "lakecolor": "white",
               "landcolor": "#E5ECF6",
               "showlakes": true,
               "showland": true,
               "subunitcolor": "white"
              },
              "hoverlabel": {
               "align": "left"
              },
              "hovermode": "closest",
              "mapbox": {
               "style": "light"
              },
              "paper_bgcolor": "white",
              "plot_bgcolor": "#E5ECF6",
              "polar": {
               "angularaxis": {
                "gridcolor": "white",
                "linecolor": "white",
                "ticks": ""
               },
               "bgcolor": "#E5ECF6",
               "radialaxis": {
                "gridcolor": "white",
                "linecolor": "white",
                "ticks": ""
               }
              },
              "scene": {
               "xaxis": {
                "backgroundcolor": "#E5ECF6",
                "gridcolor": "white",
                "gridwidth": 2,
                "linecolor": "white",
                "showbackground": true,
                "ticks": "",
                "zerolinecolor": "white"
               },
               "yaxis": {
                "backgroundcolor": "#E5ECF6",
                "gridcolor": "white",
                "gridwidth": 2,
                "linecolor": "white",
                "showbackground": true,
                "ticks": "",
                "zerolinecolor": "white"
               },
               "zaxis": {
                "backgroundcolor": "#E5ECF6",
                "gridcolor": "white",
                "gridwidth": 2,
                "linecolor": "white",
                "showbackground": true,
                "ticks": "",
                "zerolinecolor": "white"
               }
              },
              "shapedefaults": {
               "line": {
                "color": "#2a3f5f"
               }
              },
              "ternary": {
               "aaxis": {
                "gridcolor": "white",
                "linecolor": "white",
                "ticks": ""
               },
               "baxis": {
                "gridcolor": "white",
                "linecolor": "white",
                "ticks": ""
               },
               "bgcolor": "#E5ECF6",
               "caxis": {
                "gridcolor": "white",
                "linecolor": "white",
                "ticks": ""
               }
              },
              "title": {
               "x": 0.05
              },
              "xaxis": {
               "automargin": true,
               "gridcolor": "white",
               "linecolor": "white",
               "ticks": "",
               "title": {
                "standoff": 15
               },
               "zerolinecolor": "white",
               "zerolinewidth": 2
              },
              "yaxis": {
               "automargin": true,
               "gridcolor": "white",
               "linecolor": "white",
               "ticks": "",
               "title": {
                "standoff": 15
               },
               "zerolinecolor": "white",
               "zerolinewidth": 2
              }
             }
            },
            "title": {
             "font": {
              "color": "#4D5663"
             },
             "text": "Topic 3: Top 100 bigrams after removing stop words"
            },
            "xaxis": {
             "gridcolor": "#E1E5ED",
             "linecolor": "black",
             "showgrid": true,
             "tickfont": {
              "color": "#4D5663"
             },
             "title": {
              "font": {
               "color": "#4D5663"
              },
              "text": ""
             },
             "zerolinecolor": "#E1E5ED"
            },
            "yaxis": {
             "gridcolor": "#E1E5ED",
             "linecolor": "black",
             "showgrid": true,
             "tickfont": {
              "color": "#4D5663"
             },
             "title": {
              "font": {
               "color": "#4D5663"
              },
              "text": "Count"
             },
             "zerolinecolor": "#E1E5ED"
            }
           }
          },
          "text/html": "<div>\n        \n        \n            <div id=\"35eb5c21-06d4-46a5-a219-ad3a7e64fe2b\" class=\"plotly-graph-div\" style=\"height:525px; width:100%;\"></div>\n            <script type=\"text/javascript\">\n                require([\"plotly\"], function(Plotly) {\n                    window.PLOTLYENV=window.PLOTLYENV || {};\n                    window.PLOTLYENV.BASE_URL='https://plot.ly';\n                    \n                if (document.getElementById(\"35eb5c21-06d4-46a5-a219-ad3a7e64fe2b\")) {\n                    Plotly.newPlot(\n                        '35eb5c21-06d4-46a5-a219-ad3a7e64fe2b',\n                        [{\"marker\": {\"color\": \"rgba(255, 153, 51, 0.6)\", \"line\": {\"color\": \"rgba(255, 153, 51, 1.0)\", \"width\": 1}}, \"name\": \"count\", \"orientation\": \"v\", \"text\": \"\", \"type\": \"bar\", \"x\": [\"outdoor pool\", \"pool bar\", \"stay night\", \"great variety\", \"go back\", \"first time\", \"lunch dinner\", \"night stay\", \"business trip\", \"staff friendly\", \"excellent service\", \"make sure\", \"next time\", \"pool area\", \"worth visit\", \"stay business\", \"business lunch\", \"late night\", \"morning breakfast\", \"staff excellent\", \"extra charge\", \"little old\", \"little bit\", \"well decorate\", \"flight cancel\", \"swim pool\", \"indoor pool\", \"friendly helpful\", \"include price\", \"friendly staff\", \"high quality\", \"bit pricey\", \"next day\", \"many time\", \"great time\", \"different salad\", \"spa area\", \"really like\", \"place stay\", \"soft drink\", \"day breakfast\", \"old fashion\", \"several different\", \"stay well\", \"buffet option\", \"complimentary drink\", \"cost euros\", \"book night\", \"change glass\", \"couple day\", \"go wife\", \"great atmosphere\", \"fresh fruit\", \"fan buffet\", \"buffet choose\", \"dessert include\", \"buffet rich\", \"buffet excellent\", \"buffet great\", \"entree dish\", \"buffet make\", \"enjoy great\", \"easy find\", \"drink also\", \"great place\", \"let know\", \"great value\", \"stay service\", \"really worth\", \"reasonable price\", \"right get\", \"salad meat\", \"service excellent\", \"staff keep\", \"summer time\", \"helpful polite\", \"think dessert\", \"try different\", \"variety choice\", \"variety salad\", \"want change\", \"want pay\", \"quality taste\", \"price friendly\", \"place go\", \"minute_walk away\", \"meat fish\", \"many option\", \"lunch salad\", \"lunch buffet\", \"local speciality\", \"like change\", \"late lunch\", \"large varaiety\", \"large clean\", \"indoor outdoor\", \"huge variety\", \"hot dish\", \"highly recomende\", \"always great\"], \"y\": [6, 6, 6, 5, 5, 5, 5, 5, 5, 4, 4, 4, 4, 4, 4, 4, 3, 3, 3, 3, 3, 3, 3, 3, 3, 3, 3, 3, 3, 3, 3, 3, 3, 3, 3, 3, 3, 3, 3, 3, 3, 3, 3, 3, 2, 2, 2, 2, 2, 2, 2, 2, 2, 2, 2, 2, 2, 2, 2, 2, 2, 2, 2, 2, 2, 2, 2, 2, 2, 2, 2, 2, 2, 2, 2, 2, 2, 2, 2, 2, 2, 2, 2, 2, 2, 2, 2, 2, 2, 2, 2, 2, 2, 2, 2, 2, 2, 2, 2, 2]}],\n                        {\"legend\": {\"bgcolor\": \"#F5F6F9\", \"font\": {\"color\": \"#4D5663\"}}, \"paper_bgcolor\": \"#F5F6F9\", \"plot_bgcolor\": \"#F5F6F9\", \"template\": {\"data\": {\"bar\": [{\"error_x\": {\"color\": \"#2a3f5f\"}, \"error_y\": {\"color\": \"#2a3f5f\"}, \"marker\": {\"line\": {\"color\": \"#E5ECF6\", \"width\": 0.5}}, \"type\": \"bar\"}], \"barpolar\": [{\"marker\": {\"line\": {\"color\": \"#E5ECF6\", \"width\": 0.5}}, \"type\": \"barpolar\"}], \"carpet\": [{\"aaxis\": {\"endlinecolor\": \"#2a3f5f\", \"gridcolor\": \"white\", \"linecolor\": \"white\", \"minorgridcolor\": \"white\", \"startlinecolor\": \"#2a3f5f\"}, \"baxis\": {\"endlinecolor\": \"#2a3f5f\", \"gridcolor\": \"white\", \"linecolor\": \"white\", \"minorgridcolor\": \"white\", \"startlinecolor\": \"#2a3f5f\"}, \"type\": \"carpet\"}], \"choropleth\": [{\"colorbar\": {\"outlinewidth\": 0, \"ticks\": \"\"}, \"type\": \"choropleth\"}], \"contour\": [{\"colorbar\": {\"outlinewidth\": 0, \"ticks\": \"\"}, \"colorscale\": [[0.0, \"#0d0887\"], [0.1111111111111111, \"#46039f\"], [0.2222222222222222, \"#7201a8\"], [0.3333333333333333, \"#9c179e\"], [0.4444444444444444, \"#bd3786\"], [0.5555555555555556, \"#d8576b\"], [0.6666666666666666, \"#ed7953\"], [0.7777777777777778, \"#fb9f3a\"], [0.8888888888888888, \"#fdca26\"], [1.0, \"#f0f921\"]], \"type\": \"contour\"}], \"contourcarpet\": [{\"colorbar\": {\"outlinewidth\": 0, \"ticks\": \"\"}, \"type\": \"contourcarpet\"}], \"heatmap\": [{\"colorbar\": {\"outlinewidth\": 0, \"ticks\": \"\"}, \"colorscale\": [[0.0, \"#0d0887\"], [0.1111111111111111, \"#46039f\"], [0.2222222222222222, \"#7201a8\"], [0.3333333333333333, \"#9c179e\"], [0.4444444444444444, \"#bd3786\"], [0.5555555555555556, \"#d8576b\"], [0.6666666666666666, \"#ed7953\"], [0.7777777777777778, \"#fb9f3a\"], [0.8888888888888888, \"#fdca26\"], [1.0, \"#f0f921\"]], \"type\": \"heatmap\"}], \"heatmapgl\": [{\"colorbar\": {\"outlinewidth\": 0, \"ticks\": \"\"}, \"colorscale\": [[0.0, \"#0d0887\"], [0.1111111111111111, \"#46039f\"], [0.2222222222222222, \"#7201a8\"], [0.3333333333333333, \"#9c179e\"], [0.4444444444444444, \"#bd3786\"], [0.5555555555555556, \"#d8576b\"], [0.6666666666666666, \"#ed7953\"], [0.7777777777777778, \"#fb9f3a\"], [0.8888888888888888, \"#fdca26\"], [1.0, \"#f0f921\"]], \"type\": \"heatmapgl\"}], \"histogram\": [{\"marker\": {\"colorbar\": {\"outlinewidth\": 0, \"ticks\": \"\"}}, \"type\": \"histogram\"}], \"histogram2d\": [{\"colorbar\": {\"outlinewidth\": 0, \"ticks\": \"\"}, \"colorscale\": [[0.0, \"#0d0887\"], [0.1111111111111111, \"#46039f\"], [0.2222222222222222, \"#7201a8\"], [0.3333333333333333, \"#9c179e\"], [0.4444444444444444, \"#bd3786\"], [0.5555555555555556, \"#d8576b\"], [0.6666666666666666, \"#ed7953\"], [0.7777777777777778, \"#fb9f3a\"], [0.8888888888888888, \"#fdca26\"], [1.0, \"#f0f921\"]], \"type\": \"histogram2d\"}], \"histogram2dcontour\": [{\"colorbar\": {\"outlinewidth\": 0, \"ticks\": \"\"}, \"colorscale\": [[0.0, \"#0d0887\"], [0.1111111111111111, \"#46039f\"], [0.2222222222222222, \"#7201a8\"], [0.3333333333333333, \"#9c179e\"], [0.4444444444444444, \"#bd3786\"], [0.5555555555555556, \"#d8576b\"], [0.6666666666666666, \"#ed7953\"], [0.7777777777777778, \"#fb9f3a\"], [0.8888888888888888, \"#fdca26\"], [1.0, \"#f0f921\"]], \"type\": \"histogram2dcontour\"}], \"mesh3d\": [{\"colorbar\": {\"outlinewidth\": 0, \"ticks\": \"\"}, \"type\": \"mesh3d\"}], \"parcoords\": [{\"line\": {\"colorbar\": {\"outlinewidth\": 0, \"ticks\": \"\"}}, \"type\": \"parcoords\"}], \"pie\": [{\"automargin\": true, \"type\": \"pie\"}], \"scatter\": [{\"marker\": {\"colorbar\": {\"outlinewidth\": 0, \"ticks\": \"\"}}, \"type\": \"scatter\"}], \"scatter3d\": [{\"line\": {\"colorbar\": {\"outlinewidth\": 0, \"ticks\": \"\"}}, \"marker\": {\"colorbar\": {\"outlinewidth\": 0, \"ticks\": \"\"}}, \"type\": \"scatter3d\"}], \"scattercarpet\": [{\"marker\": {\"colorbar\": {\"outlinewidth\": 0, \"ticks\": \"\"}}, \"type\": \"scattercarpet\"}], \"scattergeo\": [{\"marker\": {\"colorbar\": {\"outlinewidth\": 0, \"ticks\": \"\"}}, \"type\": \"scattergeo\"}], \"scattergl\": [{\"marker\": {\"colorbar\": {\"outlinewidth\": 0, \"ticks\": \"\"}}, \"type\": \"scattergl\"}], \"scattermapbox\": [{\"marker\": {\"colorbar\": {\"outlinewidth\": 0, \"ticks\": \"\"}}, \"type\": \"scattermapbox\"}], \"scatterpolar\": [{\"marker\": {\"colorbar\": {\"outlinewidth\": 0, \"ticks\": \"\"}}, \"type\": \"scatterpolar\"}], \"scatterpolargl\": [{\"marker\": {\"colorbar\": {\"outlinewidth\": 0, \"ticks\": \"\"}}, \"type\": \"scatterpolargl\"}], \"scatterternary\": [{\"marker\": {\"colorbar\": {\"outlinewidth\": 0, \"ticks\": \"\"}}, \"type\": \"scatterternary\"}], \"surface\": [{\"colorbar\": {\"outlinewidth\": 0, \"ticks\": \"\"}, \"colorscale\": [[0.0, \"#0d0887\"], [0.1111111111111111, \"#46039f\"], [0.2222222222222222, \"#7201a8\"], [0.3333333333333333, \"#9c179e\"], [0.4444444444444444, \"#bd3786\"], [0.5555555555555556, \"#d8576b\"], [0.6666666666666666, \"#ed7953\"], [0.7777777777777778, \"#fb9f3a\"], [0.8888888888888888, \"#fdca26\"], [1.0, \"#f0f921\"]], \"type\": \"surface\"}], \"table\": [{\"cells\": {\"fill\": {\"color\": \"#EBF0F8\"}, \"line\": {\"color\": \"white\"}}, \"header\": {\"fill\": {\"color\": \"#C8D4E3\"}, \"line\": {\"color\": \"white\"}}, \"type\": \"table\"}]}, \"layout\": {\"annotationdefaults\": {\"arrowcolor\": \"#2a3f5f\", \"arrowhead\": 0, \"arrowwidth\": 1}, \"coloraxis\": {\"colorbar\": {\"outlinewidth\": 0, \"ticks\": \"\"}}, \"colorscale\": {\"diverging\": [[0, \"#8e0152\"], [0.1, \"#c51b7d\"], [0.2, \"#de77ae\"], [0.3, \"#f1b6da\"], [0.4, \"#fde0ef\"], [0.5, \"#f7f7f7\"], [0.6, \"#e6f5d0\"], [0.7, \"#b8e186\"], [0.8, \"#7fbc41\"], [0.9, \"#4d9221\"], [1, \"#276419\"]], \"sequential\": [[0.0, \"#0d0887\"], [0.1111111111111111, \"#46039f\"], [0.2222222222222222, \"#7201a8\"], [0.3333333333333333, \"#9c179e\"], [0.4444444444444444, \"#bd3786\"], [0.5555555555555556, \"#d8576b\"], [0.6666666666666666, \"#ed7953\"], [0.7777777777777778, \"#fb9f3a\"], [0.8888888888888888, \"#fdca26\"], [1.0, \"#f0f921\"]], \"sequentialminus\": [[0.0, \"#0d0887\"], [0.1111111111111111, \"#46039f\"], [0.2222222222222222, \"#7201a8\"], [0.3333333333333333, \"#9c179e\"], [0.4444444444444444, \"#bd3786\"], [0.5555555555555556, \"#d8576b\"], [0.6666666666666666, \"#ed7953\"], [0.7777777777777778, \"#fb9f3a\"], [0.8888888888888888, \"#fdca26\"], [1.0, \"#f0f921\"]]}, \"colorway\": [\"#636efa\", \"#EF553B\", \"#00cc96\", \"#ab63fa\", \"#FFA15A\", \"#19d3f3\", \"#FF6692\", \"#B6E880\", \"#FF97FF\", \"#FECB52\"], \"font\": {\"color\": \"#2a3f5f\"}, \"geo\": {\"bgcolor\": \"white\", \"lakecolor\": \"white\", \"landcolor\": \"#E5ECF6\", \"showlakes\": true, \"showland\": true, \"subunitcolor\": \"white\"}, \"hoverlabel\": {\"align\": \"left\"}, \"hovermode\": \"closest\", \"mapbox\": {\"style\": \"light\"}, \"paper_bgcolor\": \"white\", \"plot_bgcolor\": \"#E5ECF6\", \"polar\": {\"angularaxis\": {\"gridcolor\": \"white\", \"linecolor\": \"white\", \"ticks\": \"\"}, \"bgcolor\": \"#E5ECF6\", \"radialaxis\": {\"gridcolor\": \"white\", \"linecolor\": \"white\", \"ticks\": \"\"}}, \"scene\": {\"xaxis\": {\"backgroundcolor\": \"#E5ECF6\", \"gridcolor\": \"white\", \"gridwidth\": 2, \"linecolor\": \"white\", \"showbackground\": true, \"ticks\": \"\", \"zerolinecolor\": \"white\"}, \"yaxis\": {\"backgroundcolor\": \"#E5ECF6\", \"gridcolor\": \"white\", \"gridwidth\": 2, \"linecolor\": \"white\", \"showbackground\": true, \"ticks\": \"\", \"zerolinecolor\": \"white\"}, \"zaxis\": {\"backgroundcolor\": \"#E5ECF6\", \"gridcolor\": \"white\", \"gridwidth\": 2, \"linecolor\": \"white\", \"showbackground\": true, \"ticks\": \"\", \"zerolinecolor\": \"white\"}}, \"shapedefaults\": {\"line\": {\"color\": \"#2a3f5f\"}}, \"ternary\": {\"aaxis\": {\"gridcolor\": \"white\", \"linecolor\": \"white\", \"ticks\": \"\"}, \"baxis\": {\"gridcolor\": \"white\", \"linecolor\": \"white\", \"ticks\": \"\"}, \"bgcolor\": \"#E5ECF6\", \"caxis\": {\"gridcolor\": \"white\", \"linecolor\": \"white\", \"ticks\": \"\"}}, \"title\": {\"x\": 0.05}, \"xaxis\": {\"automargin\": true, \"gridcolor\": \"white\", \"linecolor\": \"white\", \"ticks\": \"\", \"title\": {\"standoff\": 15}, \"zerolinecolor\": \"white\", \"zerolinewidth\": 2}, \"yaxis\": {\"automargin\": true, \"gridcolor\": \"white\", \"linecolor\": \"white\", \"ticks\": \"\", \"title\": {\"standoff\": 15}, \"zerolinecolor\": \"white\", \"zerolinewidth\": 2}}}, \"title\": {\"font\": {\"color\": \"#4D5663\"}, \"text\": \"Topic 3: Top 100 bigrams after removing stop words\"}, \"xaxis\": {\"gridcolor\": \"#E1E5ED\", \"linecolor\": \"black\", \"showgrid\": true, \"tickfont\": {\"color\": \"#4D5663\"}, \"title\": {\"font\": {\"color\": \"#4D5663\"}, \"text\": \"\"}, \"zerolinecolor\": \"#E1E5ED\"}, \"yaxis\": {\"gridcolor\": \"#E1E5ED\", \"linecolor\": \"black\", \"showgrid\": true, \"tickfont\": {\"color\": \"#4D5663\"}, \"title\": {\"font\": {\"color\": \"#4D5663\"}, \"text\": \"Count\"}, \"zerolinecolor\": \"#E1E5ED\"}},\n                        {\"showLink\": true, \"linkText\": \"Export to plot.ly\", \"plotlyServerURL\": \"https://plot.ly\", \"responsive\": true}\n                    ).then(function(){\n                            \nvar gd = document.getElementById('35eb5c21-06d4-46a5-a219-ad3a7e64fe2b');\nvar x = new MutationObserver(function (mutations, observer) {{\n        var display = window.getComputedStyle(gd).display;\n        if (!display || display === 'none') {{\n            console.log([gd, 'removed!']);\n            Plotly.purge(gd);\n            observer.disconnect();\n        }}\n}});\n\n// Listen for the removal of the full notebook cells\nvar notebookContainer = gd.closest('#notebook-container');\nif (notebookContainer) {{\n    x.observe(notebookContainer, {childList: true});\n}}\n\n// Listen for the clearing of the current output cell\nvar outputEl = gd.closest('.output');\nif (outputEl) {{\n    x.observe(outputEl, {childList: true});\n}}\n\n                        })\n                };\n                });\n            </script>\n        </div>"
         },
         "metadata": {},
         "output_type": "display_data"
        }
       ]
      }
     },
     "5e22a500410947d3a5b677dcf2f13a84": {
      "model_module": "@jupyter-widgets/base",
      "model_module_version": "1.2.0",
      "model_name": "LayoutModel",
      "state": {}
     },
     "5e3b8284655e4d1193d517ba382113c1": {
      "model_module": "@jupyter-widgets/base",
      "model_module_version": "1.2.0",
      "model_name": "LayoutModel",
      "state": {}
     },
     "5eb3637191734eec9f79620da58e5f29": {
      "model_module": "@jupyter-widgets/controls",
      "model_module_version": "1.5.0",
      "model_name": "ProgressStyleModel",
      "state": {
       "description_width": ""
      }
     },
     "5f1dad62fcbe45caac6444f661f27d10": {
      "model_module": "@jupyter-widgets/controls",
      "model_module_version": "1.5.0",
      "model_name": "ProgressStyleModel",
      "state": {
       "description_width": ""
      }
     },
     "62077375abdf48e28987780b10e7d2da": {
      "model_module": "@jupyter-widgets/controls",
      "model_module_version": "1.5.0",
      "model_name": "ProgressStyleModel",
      "state": {
       "description_width": ""
      }
     },
     "63382beeefa04a0a9a1169f1407a4c47": {
      "model_module": "@jupyter-widgets/controls",
      "model_module_version": "1.5.0",
      "model_name": "IntProgressModel",
      "state": {
       "description": "Processing: ",
       "layout": "IPY_MODEL_5e3b8284655e4d1193d517ba382113c1",
       "max": 48,
       "style": "IPY_MODEL_5eb3637191734eec9f79620da58e5f29",
       "value": 48
      }
     },
     "6581d7cb4d92419fbad67bffc7c275ab": {
      "model_module": "@jupyter-widgets/controls",
      "model_module_version": "1.5.0",
      "model_name": "IntProgressModel",
      "state": {
       "description": "Processing: ",
       "layout": "IPY_MODEL_9f4d9978372844b092eb142c012eb461",
       "max": 48,
       "style": "IPY_MODEL_ed35519ca52f4fd795e8c6cce2a7e233",
       "value": 48
      }
     },
     "66a25303bbe84b82b97f0a28a1667233": {
      "model_module": "@jupyter-widgets/base",
      "model_module_version": "1.2.0",
      "model_name": "LayoutModel",
      "state": {}
     },
     "68f776c0ee6042a2808649742f4bac2b": {
      "model_module": "@jupyter-widgets/controls",
      "model_module_version": "1.5.0",
      "model_name": "IntProgressModel",
      "state": {
       "description": "Processing: ",
       "layout": "IPY_MODEL_96f8fd9dded14f198991a160b4ce8f0e",
       "max": 48,
       "style": "IPY_MODEL_9c4378f7d73c44c79a71e9357098d2d3",
       "value": 48
      }
     },
     "69bb7f060370468ab969885a393bc713": {
      "model_module": "@jupyter-widgets/controls",
      "model_module_version": "1.5.0",
      "model_name": "DropdownModel",
      "state": {
       "_options_labels": [
        "Topic 0",
        "Topic 1",
        "Topic 2",
        "Topic 3",
        "Topic 4",
        "Topic 5",
        "Topic 6",
        "Topic 7",
        "Topic 8",
        "Topic 9"
       ],
       "description": "Topic #:",
       "index": 9,
       "layout": "IPY_MODEL_d2aabbfda6494143b42c40dc46625599",
       "style": "IPY_MODEL_d03d1c65475a46e7b028e243ac822384"
      }
     },
     "6b283543764646a9ae26e0b933fba321": {
      "model_module": "@jupyter-widgets/controls",
      "model_module_version": "1.5.0",
      "model_name": "ProgressStyleModel",
      "state": {
       "description_width": ""
      }
     },
     "6eca3fee38aa49eaa15618e2c784e7ef": {
      "model_module": "@jupyter-widgets/controls",
      "model_module_version": "1.5.0",
      "model_name": "ProgressStyleModel",
      "state": {
       "description_width": ""
      }
     },
     "704ea141a5074eaa83f67d44f98d2c0b": {
      "model_module": "@jupyter-widgets/controls",
      "model_module_version": "1.5.0",
      "model_name": "ToggleButtonsStyleModel",
      "state": {
       "button_width": "",
       "description_width": ""
      }
     },
     "70815f0b5b404c93be39bdaaca26b098": {
      "model_module": "@jupyter-widgets/controls",
      "model_module_version": "1.5.0",
      "model_name": "IntProgressModel",
      "state": {
       "description": "Processing: ",
       "layout": "IPY_MODEL_31b3baafeb774a7cbac7db870aa9dd74",
       "max": 11,
       "style": "IPY_MODEL_c94240c41acb4685a37cdf7f48cfe378",
       "value": 11
      }
     },
     "70a28876caf14ca4a0c5f7a06e67284a": {
      "model_module": "@jupyter-widgets/base",
      "model_module_version": "1.2.0",
      "model_name": "LayoutModel",
      "state": {}
     },
     "70c00a1bfdac47bab63eb7884d8f47ba": {
      "model_module": "@jupyter-widgets/controls",
      "model_module_version": "1.5.0",
      "model_name": "ProgressStyleModel",
      "state": {
       "description_width": ""
      }
     },
     "745fc4e908784fe492b489c290b04246": {
      "model_module": "@jupyter-widgets/base",
      "model_module_version": "1.2.0",
      "model_name": "LayoutModel",
      "state": {}
     },
     "7523194a671343439ee041b30daed4b8": {
      "model_module": "@jupyter-widgets/controls",
      "model_module_version": "1.5.0",
      "model_name": "IntProgressModel",
      "state": {
       "description": "Processing: ",
       "layout": "IPY_MODEL_53158dec7f594db998d1d3c997266e28",
       "max": 4,
       "style": "IPY_MODEL_45a586cfd60944c28a4a5cb8dfe23639",
       "value": 4
      }
     },
     "763db75e3ecf42a391036ae7cc84eedf": {
      "model_module": "@jupyter-widgets/controls",
      "model_module_version": "1.5.0",
      "model_name": "IntProgressModel",
      "state": {
       "description": "Processing: ",
       "layout": "IPY_MODEL_4b6faed7bfb248248bf88f723cafb57e",
       "max": 48,
       "style": "IPY_MODEL_d1fccbfe4ee44d3e966860acc4854a60",
       "value": 48
      }
     },
     "7a1376c322984f3dba0280748cca767c": {
      "model_module": "@jupyter-widgets/base",
      "model_module_version": "1.2.0",
      "model_name": "LayoutModel",
      "state": {}
     },
     "7b0513ed1df24cb6ac19ec71eebd739b": {
      "model_module": "@jupyter-widgets/base",
      "model_module_version": "1.2.0",
      "model_name": "LayoutModel",
      "state": {}
     },
     "7b0e6a4e2dfd48e390c41694374a5825": {
      "model_module": "@jupyter-widgets/controls",
      "model_module_version": "1.5.0",
      "model_name": "VBoxModel",
      "state": {
       "_dom_classes": [
        "widget-interact"
       ],
       "children": [
        "IPY_MODEL_b7ee6a23727d4f128a27c5424cfa14bd",
        "IPY_MODEL_23ed8d269a2b44afaef219e7a53bc0a6",
        "IPY_MODEL_ac0b46a532c142189c00dd3359f6d926",
        "IPY_MODEL_5be6d5098d9f467098ed1693d37e32b2"
       ],
       "layout": "IPY_MODEL_331b048b024f45e780b69e099540ecf6"
      }
     },
     "7b5a5643220a48888c4c3b6f73df3a63": {
      "model_module": "@jupyter-widgets/controls",
      "model_module_version": "1.5.0",
      "model_name": "IntProgressModel",
      "state": {
       "description": "Processing: ",
       "layout": "IPY_MODEL_7fb3d2a1a8404f7497fb26679cf4166d",
       "max": 870,
       "style": "IPY_MODEL_cf980fd03b41494883574b8be5f315d9",
       "value": 870
      }
     },
     "7f76dc59fe0f4871a34e98099e7bf624": {
      "model_module": "@jupyter-widgets/controls",
      "model_module_version": "1.5.0",
      "model_name": "ProgressStyleModel",
      "state": {
       "description_width": ""
      }
     },
     "7fb3d2a1a8404f7497fb26679cf4166d": {
      "model_module": "@jupyter-widgets/base",
      "model_module_version": "1.2.0",
      "model_name": "LayoutModel",
      "state": {}
     },
     "8003fd95dc824071acdbe35c3483e10b": {
      "model_module": "@jupyter-widgets/base",
      "model_module_version": "1.2.0",
      "model_name": "LayoutModel",
      "state": {}
     },
     "80183cf5fe844d7083166c3250f3fcaa": {
      "model_module": "@jupyter-widgets/base",
      "model_module_version": "1.2.0",
      "model_name": "LayoutModel",
      "state": {}
     },
     "801d09e6ba6a4c10b6e38212173591c2": {
      "model_module": "@jupyter-widgets/controls",
      "model_module_version": "1.5.0",
      "model_name": "IntProgressModel",
      "state": {
       "description": "Processing: ",
       "layout": "IPY_MODEL_b3b7e8dd4298442697da18f77b3df623",
       "max": 4,
       "style": "IPY_MODEL_ef3e23835aa14ee99e95326fc0ca375f",
       "value": 4
      }
     },
     "806b8881c83940ddbaa76483ffdc7f97": {
      "model_module": "@jupyter-widgets/controls",
      "model_module_version": "1.5.0",
      "model_name": "ToggleButtonsStyleModel",
      "state": {
       "button_width": "",
       "description_width": ""
      }
     },
     "84430717888d4c71a53354d53ab75469": {
      "model_module": "@jupyter-widgets/base",
      "model_module_version": "1.2.0",
      "model_name": "LayoutModel",
      "state": {}
     },
     "84fc731fdbef457a939c9ececba04239": {
      "model_module": "@jupyter-widgets/base",
      "model_module_version": "1.2.0",
      "model_name": "LayoutModel",
      "state": {}
     },
     "850b945cf1d84925b36b47b26dc721b1": {
      "model_module": "@jupyter-widgets/controls",
      "model_module_version": "1.5.0",
      "model_name": "IntProgressModel",
      "state": {
       "description": "Processing: ",
       "layout": "IPY_MODEL_1a44e97fbbe94591bf4aad7f63cc012a",
       "max": 870,
       "style": "IPY_MODEL_0f6c8ac6d1f846068fb9281665654538",
       "value": 870
      }
     },
     "8588d3da2aaf42249875a17f77c6efc7": {
      "model_module": "@jupyter-widgets/controls",
      "model_module_version": "1.5.0",
      "model_name": "ProgressStyleModel",
      "state": {
       "description_width": ""
      }
     },
     "86672c973c42441ebc1b07345926a549": {
      "model_module": "@jupyter-widgets/base",
      "model_module_version": "1.2.0",
      "model_name": "LayoutModel",
      "state": {}
     },
     "89b18157ae0c48089e0a9398fd4437f7": {
      "model_module": "@jupyter-widgets/controls",
      "model_module_version": "1.5.0",
      "model_name": "IntProgressModel",
      "state": {
       "description": "Processing: ",
       "layout": "IPY_MODEL_460c90df8cb44ac69590932b8b6e5074",
       "max": 48,
       "style": "IPY_MODEL_343289ca052f45dd9faadaefc9372136",
       "value": 48
      }
     },
     "8abccd2044f944c381d6a35591de0eac": {
      "model_module": "@jupyter-widgets/controls",
      "model_module_version": "1.5.0",
      "model_name": "VBoxModel",
      "state": {
       "_dom_classes": [
        "widget-interact"
       ],
       "children": [
        "IPY_MODEL_08aa6aa0ef6447a0bdc4244114ce3161",
        "IPY_MODEL_ea9cafbe17334322a6646de324d3464d",
        "IPY_MODEL_5971dcb9f6424a1cbf1c2014a1386b81",
        "IPY_MODEL_fbc08f74a0834df1ac913e55ca9f491b"
       ],
       "layout": "IPY_MODEL_2307265549e1422c90e209ab9fac75d9"
      }
     },
     "8b04a0dfd25a4ae8b9db2d90479cf22c": {
      "model_module": "@jupyter-widgets/base",
      "model_module_version": "1.2.0",
      "model_name": "LayoutModel",
      "state": {}
     },
     "8f1efb22dc584147b5cfa796e614d5e4": {
      "model_module": "@jupyter-widgets/controls",
      "model_module_version": "1.5.0",
      "model_name": "ProgressStyleModel",
      "state": {
       "description_width": ""
      }
     },
     "91384f83997a40989067f97b2a15c999": {
      "model_module": "@jupyter-widgets/controls",
      "model_module_version": "1.5.0",
      "model_name": "ProgressStyleModel",
      "state": {
       "description_width": ""
      }
     },
     "923076edcc1f4dd1ae098ee1879c5ad2": {
      "model_module": "@jupyter-widgets/controls",
      "model_module_version": "1.5.0",
      "model_name": "ProgressStyleModel",
      "state": {
       "description_width": ""
      }
     },
     "934bc2eb15ec404c9b98c481e126b7ac": {
      "model_module": "@jupyter-widgets/base",
      "model_module_version": "1.2.0",
      "model_name": "LayoutModel",
      "state": {}
     },
     "937c0719026c43d2b1b5d22fa0f42fb5": {
      "model_module": "@jupyter-widgets/output",
      "model_module_version": "1.0.0",
      "model_name": "OutputModel",
      "state": {
       "layout": "IPY_MODEL_e5f43c05ab66450d9111641e6985360b",
       "outputs": [
        {
         "data": {
          "text/html": "        <script type=\"text/javascript\">\n        window.PlotlyConfig = {MathJaxConfig: 'local'};\n        if (window.MathJax) {MathJax.Hub.Config({SVG: {font: \"STIX-Web\"}});}\n        if (typeof require !== 'undefined') {\n        require.undef(\"plotly\");\n        requirejs.config({\n            paths: {\n                'plotly': ['https://cdn.plot.ly/plotly-latest.min']\n            }\n        });\n        require(['plotly'], function(Plotly) {\n            window._Plotly = Plotly;\n        });\n        }\n        </script>\n        "
         },
         "metadata": {},
         "output_type": "display_data"
        },
        {
         "data": {
          "application/vnd.plotly.v1+json": {
           "config": {
            "linkText": "Export to plot.ly",
            "plotlyServerURL": "https://plot.ly",
            "showLink": true
           },
           "data": [
            {
             "marker": {
              "color": "rgba(255, 153, 51, 0.6)",
              "line": {
               "color": "rgba(255, 153, 51, 1.0)",
               "width": 1
              }
             },
             "name": "count",
             "orientation": "v",
             "text": "",
             "type": "bar",
             "x": [
              "include price",
              "breakfast breakfast",
              "pool look",
              "internet access",
              "price pay",
              "executive suite",
              "extra charge",
              "order breakfast",
              "breakfast selection",
              "business people",
              "general place",
              "full business",
              "impression cause",
              "however price",
              "honest lower",
              "hit shock",
              "expect many",
              "happen lobby",
              "fair location",
              "fill container",
              "go different",
              "fill plate",
              "finally fair",
              "find glass",
              "elevator breakfast",
              "friendly waiter",
              "glass complain",
              "euro mainly",
              "whole ambience",
              "eat bit",
              "due sale",
              "also offer",
              "ambience deadish",
              "apart staff",
              "average friendly",
              "bit pricey",
              "block elevator",
              "boring ago",
              "breakfast find",
              "breakfast less",
              "building block",
              "case extraordinary",
              "cause renovation",
              "complain much",
              "concierge parking",
              "container however",
              "convenient business",
              "dead boring",
              "deadish dead",
              "different building",
              "drink fill",
              "lobby notice",
              "less star",
              "want starve",
              "prime nicosianowaday",
              "promotion finally",
              "rate stay",
              "reception go",
              "relatively low",
              "renovation happen",
              "salad eat",
              "sale promotion",
              "shock sometimes",
              "sometimes pay",
              "special convenient",
              "special maybe",
              "staff polite",
              "star special",
              "star sure",
              "stay honest",
              "sure order",
              "think general",
              "value money",
              "visit overall",
              "waiter think",
              "pricey drink",
              "price hit",
              "polite whole",
              "much want",
              "location ideal",
              "low due",
              "lower expect",
              "mainly salad",
              "many star",
              "maybe impression",
              "money much",
              "much price",
              "much taste",
              "nicosianowaday special",
              "plate much",
              "notice concierge",
              "offer fill",
              "overall rate",
              "parking reception",
              "pay euro",
              "pay relatively",
              "people also",
              "people case",
              "place value",
              "ago prime"
             ],
             "y": [
              2,
              2,
              2,
              2,
              2,
              2,
              2,
              2,
              2,
              2,
              1,
              1,
              1,
              1,
              1,
              1,
              1,
              1,
              1,
              1,
              1,
              1,
              1,
              1,
              1,
              1,
              1,
              1,
              1,
              1,
              1,
              1,
              1,
              1,
              1,
              1,
              1,
              1,
              1,
              1,
              1,
              1,
              1,
              1,
              1,
              1,
              1,
              1,
              1,
              1,
              1,
              1,
              1,
              1,
              1,
              1,
              1,
              1,
              1,
              1,
              1,
              1,
              1,
              1,
              1,
              1,
              1,
              1,
              1,
              1,
              1,
              1,
              1,
              1,
              1,
              1,
              1,
              1,
              1,
              1,
              1,
              1,
              1,
              1,
              1,
              1,
              1,
              1,
              1,
              1,
              1,
              1,
              1,
              1,
              1,
              1,
              1,
              1,
              1,
              1
             ]
            }
           ],
           "layout": {
            "legend": {
             "bgcolor": "#F5F6F9",
             "font": {
              "color": "#4D5663"
             }
            },
            "paper_bgcolor": "#F5F6F9",
            "plot_bgcolor": "#F5F6F9",
            "template": {
             "data": {
              "bar": [
               {
                "error_x": {
                 "color": "#2a3f5f"
                },
                "error_y": {
                 "color": "#2a3f5f"
                },
                "marker": {
                 "line": {
                  "color": "#E5ECF6",
                  "width": 0.5
                 }
                },
                "type": "bar"
               }
              ],
              "barpolar": [
               {
                "marker": {
                 "line": {
                  "color": "#E5ECF6",
                  "width": 0.5
                 }
                },
                "type": "barpolar"
               }
              ],
              "carpet": [
               {
                "aaxis": {
                 "endlinecolor": "#2a3f5f",
                 "gridcolor": "white",
                 "linecolor": "white",
                 "minorgridcolor": "white",
                 "startlinecolor": "#2a3f5f"
                },
                "baxis": {
                 "endlinecolor": "#2a3f5f",
                 "gridcolor": "white",
                 "linecolor": "white",
                 "minorgridcolor": "white",
                 "startlinecolor": "#2a3f5f"
                },
                "type": "carpet"
               }
              ],
              "choropleth": [
               {
                "colorbar": {
                 "outlinewidth": 0,
                 "ticks": ""
                },
                "type": "choropleth"
               }
              ],
              "contour": [
               {
                "colorbar": {
                 "outlinewidth": 0,
                 "ticks": ""
                },
                "colorscale": [
                 [
                  0,
                  "#0d0887"
                 ],
                 [
                  0.1111111111111111,
                  "#46039f"
                 ],
                 [
                  0.2222222222222222,
                  "#7201a8"
                 ],
                 [
                  0.3333333333333333,
                  "#9c179e"
                 ],
                 [
                  0.4444444444444444,
                  "#bd3786"
                 ],
                 [
                  0.5555555555555556,
                  "#d8576b"
                 ],
                 [
                  0.6666666666666666,
                  "#ed7953"
                 ],
                 [
                  0.7777777777777778,
                  "#fb9f3a"
                 ],
                 [
                  0.8888888888888888,
                  "#fdca26"
                 ],
                 [
                  1,
                  "#f0f921"
                 ]
                ],
                "type": "contour"
               }
              ],
              "contourcarpet": [
               {
                "colorbar": {
                 "outlinewidth": 0,
                 "ticks": ""
                },
                "type": "contourcarpet"
               }
              ],
              "heatmap": [
               {
                "colorbar": {
                 "outlinewidth": 0,
                 "ticks": ""
                },
                "colorscale": [
                 [
                  0,
                  "#0d0887"
                 ],
                 [
                  0.1111111111111111,
                  "#46039f"
                 ],
                 [
                  0.2222222222222222,
                  "#7201a8"
                 ],
                 [
                  0.3333333333333333,
                  "#9c179e"
                 ],
                 [
                  0.4444444444444444,
                  "#bd3786"
                 ],
                 [
                  0.5555555555555556,
                  "#d8576b"
                 ],
                 [
                  0.6666666666666666,
                  "#ed7953"
                 ],
                 [
                  0.7777777777777778,
                  "#fb9f3a"
                 ],
                 [
                  0.8888888888888888,
                  "#fdca26"
                 ],
                 [
                  1,
                  "#f0f921"
                 ]
                ],
                "type": "heatmap"
               }
              ],
              "heatmapgl": [
               {
                "colorbar": {
                 "outlinewidth": 0,
                 "ticks": ""
                },
                "colorscale": [
                 [
                  0,
                  "#0d0887"
                 ],
                 [
                  0.1111111111111111,
                  "#46039f"
                 ],
                 [
                  0.2222222222222222,
                  "#7201a8"
                 ],
                 [
                  0.3333333333333333,
                  "#9c179e"
                 ],
                 [
                  0.4444444444444444,
                  "#bd3786"
                 ],
                 [
                  0.5555555555555556,
                  "#d8576b"
                 ],
                 [
                  0.6666666666666666,
                  "#ed7953"
                 ],
                 [
                  0.7777777777777778,
                  "#fb9f3a"
                 ],
                 [
                  0.8888888888888888,
                  "#fdca26"
                 ],
                 [
                  1,
                  "#f0f921"
                 ]
                ],
                "type": "heatmapgl"
               }
              ],
              "histogram": [
               {
                "marker": {
                 "colorbar": {
                  "outlinewidth": 0,
                  "ticks": ""
                 }
                },
                "type": "histogram"
               }
              ],
              "histogram2d": [
               {
                "colorbar": {
                 "outlinewidth": 0,
                 "ticks": ""
                },
                "colorscale": [
                 [
                  0,
                  "#0d0887"
                 ],
                 [
                  0.1111111111111111,
                  "#46039f"
                 ],
                 [
                  0.2222222222222222,
                  "#7201a8"
                 ],
                 [
                  0.3333333333333333,
                  "#9c179e"
                 ],
                 [
                  0.4444444444444444,
                  "#bd3786"
                 ],
                 [
                  0.5555555555555556,
                  "#d8576b"
                 ],
                 [
                  0.6666666666666666,
                  "#ed7953"
                 ],
                 [
                  0.7777777777777778,
                  "#fb9f3a"
                 ],
                 [
                  0.8888888888888888,
                  "#fdca26"
                 ],
                 [
                  1,
                  "#f0f921"
                 ]
                ],
                "type": "histogram2d"
               }
              ],
              "histogram2dcontour": [
               {
                "colorbar": {
                 "outlinewidth": 0,
                 "ticks": ""
                },
                "colorscale": [
                 [
                  0,
                  "#0d0887"
                 ],
                 [
                  0.1111111111111111,
                  "#46039f"
                 ],
                 [
                  0.2222222222222222,
                  "#7201a8"
                 ],
                 [
                  0.3333333333333333,
                  "#9c179e"
                 ],
                 [
                  0.4444444444444444,
                  "#bd3786"
                 ],
                 [
                  0.5555555555555556,
                  "#d8576b"
                 ],
                 [
                  0.6666666666666666,
                  "#ed7953"
                 ],
                 [
                  0.7777777777777778,
                  "#fb9f3a"
                 ],
                 [
                  0.8888888888888888,
                  "#fdca26"
                 ],
                 [
                  1,
                  "#f0f921"
                 ]
                ],
                "type": "histogram2dcontour"
               }
              ],
              "mesh3d": [
               {
                "colorbar": {
                 "outlinewidth": 0,
                 "ticks": ""
                },
                "type": "mesh3d"
               }
              ],
              "parcoords": [
               {
                "line": {
                 "colorbar": {
                  "outlinewidth": 0,
                  "ticks": ""
                 }
                },
                "type": "parcoords"
               }
              ],
              "pie": [
               {
                "automargin": true,
                "type": "pie"
               }
              ],
              "scatter": [
               {
                "marker": {
                 "colorbar": {
                  "outlinewidth": 0,
                  "ticks": ""
                 }
                },
                "type": "scatter"
               }
              ],
              "scatter3d": [
               {
                "line": {
                 "colorbar": {
                  "outlinewidth": 0,
                  "ticks": ""
                 }
                },
                "marker": {
                 "colorbar": {
                  "outlinewidth": 0,
                  "ticks": ""
                 }
                },
                "type": "scatter3d"
               }
              ],
              "scattercarpet": [
               {
                "marker": {
                 "colorbar": {
                  "outlinewidth": 0,
                  "ticks": ""
                 }
                },
                "type": "scattercarpet"
               }
              ],
              "scattergeo": [
               {
                "marker": {
                 "colorbar": {
                  "outlinewidth": 0,
                  "ticks": ""
                 }
                },
                "type": "scattergeo"
               }
              ],
              "scattergl": [
               {
                "marker": {
                 "colorbar": {
                  "outlinewidth": 0,
                  "ticks": ""
                 }
                },
                "type": "scattergl"
               }
              ],
              "scattermapbox": [
               {
                "marker": {
                 "colorbar": {
                  "outlinewidth": 0,
                  "ticks": ""
                 }
                },
                "type": "scattermapbox"
               }
              ],
              "scatterpolar": [
               {
                "marker": {
                 "colorbar": {
                  "outlinewidth": 0,
                  "ticks": ""
                 }
                },
                "type": "scatterpolar"
               }
              ],
              "scatterpolargl": [
               {
                "marker": {
                 "colorbar": {
                  "outlinewidth": 0,
                  "ticks": ""
                 }
                },
                "type": "scatterpolargl"
               }
              ],
              "scatterternary": [
               {
                "marker": {
                 "colorbar": {
                  "outlinewidth": 0,
                  "ticks": ""
                 }
                },
                "type": "scatterternary"
               }
              ],
              "surface": [
               {
                "colorbar": {
                 "outlinewidth": 0,
                 "ticks": ""
                },
                "colorscale": [
                 [
                  0,
                  "#0d0887"
                 ],
                 [
                  0.1111111111111111,
                  "#46039f"
                 ],
                 [
                  0.2222222222222222,
                  "#7201a8"
                 ],
                 [
                  0.3333333333333333,
                  "#9c179e"
                 ],
                 [
                  0.4444444444444444,
                  "#bd3786"
                 ],
                 [
                  0.5555555555555556,
                  "#d8576b"
                 ],
                 [
                  0.6666666666666666,
                  "#ed7953"
                 ],
                 [
                  0.7777777777777778,
                  "#fb9f3a"
                 ],
                 [
                  0.8888888888888888,
                  "#fdca26"
                 ],
                 [
                  1,
                  "#f0f921"
                 ]
                ],
                "type": "surface"
               }
              ],
              "table": [
               {
                "cells": {
                 "fill": {
                  "color": "#EBF0F8"
                 },
                 "line": {
                  "color": "white"
                 }
                },
                "header": {
                 "fill": {
                  "color": "#C8D4E3"
                 },
                 "line": {
                  "color": "white"
                 }
                },
                "type": "table"
               }
              ]
             },
             "layout": {
              "annotationdefaults": {
               "arrowcolor": "#2a3f5f",
               "arrowhead": 0,
               "arrowwidth": 1
              },
              "coloraxis": {
               "colorbar": {
                "outlinewidth": 0,
                "ticks": ""
               }
              },
              "colorscale": {
               "diverging": [
                [
                 0,
                 "#8e0152"
                ],
                [
                 0.1,
                 "#c51b7d"
                ],
                [
                 0.2,
                 "#de77ae"
                ],
                [
                 0.3,
                 "#f1b6da"
                ],
                [
                 0.4,
                 "#fde0ef"
                ],
                [
                 0.5,
                 "#f7f7f7"
                ],
                [
                 0.6,
                 "#e6f5d0"
                ],
                [
                 0.7,
                 "#b8e186"
                ],
                [
                 0.8,
                 "#7fbc41"
                ],
                [
                 0.9,
                 "#4d9221"
                ],
                [
                 1,
                 "#276419"
                ]
               ],
               "sequential": [
                [
                 0,
                 "#0d0887"
                ],
                [
                 0.1111111111111111,
                 "#46039f"
                ],
                [
                 0.2222222222222222,
                 "#7201a8"
                ],
                [
                 0.3333333333333333,
                 "#9c179e"
                ],
                [
                 0.4444444444444444,
                 "#bd3786"
                ],
                [
                 0.5555555555555556,
                 "#d8576b"
                ],
                [
                 0.6666666666666666,
                 "#ed7953"
                ],
                [
                 0.7777777777777778,
                 "#fb9f3a"
                ],
                [
                 0.8888888888888888,
                 "#fdca26"
                ],
                [
                 1,
                 "#f0f921"
                ]
               ],
               "sequentialminus": [
                [
                 0,
                 "#0d0887"
                ],
                [
                 0.1111111111111111,
                 "#46039f"
                ],
                [
                 0.2222222222222222,
                 "#7201a8"
                ],
                [
                 0.3333333333333333,
                 "#9c179e"
                ],
                [
                 0.4444444444444444,
                 "#bd3786"
                ],
                [
                 0.5555555555555556,
                 "#d8576b"
                ],
                [
                 0.6666666666666666,
                 "#ed7953"
                ],
                [
                 0.7777777777777778,
                 "#fb9f3a"
                ],
                [
                 0.8888888888888888,
                 "#fdca26"
                ],
                [
                 1,
                 "#f0f921"
                ]
               ]
              },
              "colorway": [
               "#636efa",
               "#EF553B",
               "#00cc96",
               "#ab63fa",
               "#FFA15A",
               "#19d3f3",
               "#FF6692",
               "#B6E880",
               "#FF97FF",
               "#FECB52"
              ],
              "font": {
               "color": "#2a3f5f"
              },
              "geo": {
               "bgcolor": "white",
               "lakecolor": "white",
               "landcolor": "#E5ECF6",
               "showlakes": true,
               "showland": true,
               "subunitcolor": "white"
              },
              "hoverlabel": {
               "align": "left"
              },
              "hovermode": "closest",
              "mapbox": {
               "style": "light"
              },
              "paper_bgcolor": "white",
              "plot_bgcolor": "#E5ECF6",
              "polar": {
               "angularaxis": {
                "gridcolor": "white",
                "linecolor": "white",
                "ticks": ""
               },
               "bgcolor": "#E5ECF6",
               "radialaxis": {
                "gridcolor": "white",
                "linecolor": "white",
                "ticks": ""
               }
              },
              "scene": {
               "xaxis": {
                "backgroundcolor": "#E5ECF6",
                "gridcolor": "white",
                "gridwidth": 2,
                "linecolor": "white",
                "showbackground": true,
                "ticks": "",
                "zerolinecolor": "white"
               },
               "yaxis": {
                "backgroundcolor": "#E5ECF6",
                "gridcolor": "white",
                "gridwidth": 2,
                "linecolor": "white",
                "showbackground": true,
                "ticks": "",
                "zerolinecolor": "white"
               },
               "zaxis": {
                "backgroundcolor": "#E5ECF6",
                "gridcolor": "white",
                "gridwidth": 2,
                "linecolor": "white",
                "showbackground": true,
                "ticks": "",
                "zerolinecolor": "white"
               }
              },
              "shapedefaults": {
               "line": {
                "color": "#2a3f5f"
               }
              },
              "ternary": {
               "aaxis": {
                "gridcolor": "white",
                "linecolor": "white",
                "ticks": ""
               },
               "baxis": {
                "gridcolor": "white",
                "linecolor": "white",
                "ticks": ""
               },
               "bgcolor": "#E5ECF6",
               "caxis": {
                "gridcolor": "white",
                "linecolor": "white",
                "ticks": ""
               }
              },
              "title": {
               "x": 0.05
              },
              "xaxis": {
               "automargin": true,
               "gridcolor": "white",
               "linecolor": "white",
               "ticks": "",
               "title": {
                "standoff": 15
               },
               "zerolinecolor": "white",
               "zerolinewidth": 2
              },
              "yaxis": {
               "automargin": true,
               "gridcolor": "white",
               "linecolor": "white",
               "ticks": "",
               "title": {
                "standoff": 15
               },
               "zerolinecolor": "white",
               "zerolinewidth": 2
              }
             }
            },
            "title": {
             "font": {
              "color": "#4D5663"
             },
             "text": "Topic 2: Top 100 bigrams after removing stop words"
            },
            "xaxis": {
             "gridcolor": "#E1E5ED",
             "linecolor": "black",
             "showgrid": true,
             "tickfont": {
              "color": "#4D5663"
             },
             "title": {
              "font": {
               "color": "#4D5663"
              },
              "text": ""
             },
             "zerolinecolor": "#E1E5ED"
            },
            "yaxis": {
             "gridcolor": "#E1E5ED",
             "linecolor": "black",
             "showgrid": true,
             "tickfont": {
              "color": "#4D5663"
             },
             "title": {
              "font": {
               "color": "#4D5663"
              },
              "text": "Count"
             },
             "zerolinecolor": "#E1E5ED"
            }
           }
          },
          "text/html": "<div>\n        \n        \n            <div id=\"329d6fa4-ba02-4ddf-9e32-2f808a27a483\" class=\"plotly-graph-div\" style=\"height:525px; width:100%;\"></div>\n            <script type=\"text/javascript\">\n                require([\"plotly\"], function(Plotly) {\n                    window.PLOTLYENV=window.PLOTLYENV || {};\n                    window.PLOTLYENV.BASE_URL='https://plot.ly';\n                    \n                if (document.getElementById(\"329d6fa4-ba02-4ddf-9e32-2f808a27a483\")) {\n                    Plotly.newPlot(\n                        '329d6fa4-ba02-4ddf-9e32-2f808a27a483',\n                        [{\"marker\": {\"color\": \"rgba(255, 153, 51, 0.6)\", \"line\": {\"color\": \"rgba(255, 153, 51, 1.0)\", \"width\": 1}}, \"name\": \"count\", \"orientation\": \"v\", \"text\": \"\", \"type\": \"bar\", \"x\": [\"include price\", \"breakfast breakfast\", \"pool look\", \"internet access\", \"price pay\", \"executive suite\", \"extra charge\", \"order breakfast\", \"breakfast selection\", \"business people\", \"general place\", \"full business\", \"impression cause\", \"however price\", \"honest lower\", \"hit shock\", \"expect many\", \"happen lobby\", \"fair location\", \"fill container\", \"go different\", \"fill plate\", \"finally fair\", \"find glass\", \"elevator breakfast\", \"friendly waiter\", \"glass complain\", \"euro mainly\", \"whole ambience\", \"eat bit\", \"due sale\", \"also offer\", \"ambience deadish\", \"apart staff\", \"average friendly\", \"bit pricey\", \"block elevator\", \"boring ago\", \"breakfast find\", \"breakfast less\", \"building block\", \"case extraordinary\", \"cause renovation\", \"complain much\", \"concierge parking\", \"container however\", \"convenient business\", \"dead boring\", \"deadish dead\", \"different building\", \"drink fill\", \"lobby notice\", \"less star\", \"want starve\", \"prime nicosianowaday\", \"promotion finally\", \"rate stay\", \"reception go\", \"relatively low\", \"renovation happen\", \"salad eat\", \"sale promotion\", \"shock sometimes\", \"sometimes pay\", \"special convenient\", \"special maybe\", \"staff polite\", \"star special\", \"star sure\", \"stay honest\", \"sure order\", \"think general\", \"value money\", \"visit overall\", \"waiter think\", \"pricey drink\", \"price hit\", \"polite whole\", \"much want\", \"location ideal\", \"low due\", \"lower expect\", \"mainly salad\", \"many star\", \"maybe impression\", \"money much\", \"much price\", \"much taste\", \"nicosianowaday special\", \"plate much\", \"notice concierge\", \"offer fill\", \"overall rate\", \"parking reception\", \"pay euro\", \"pay relatively\", \"people also\", \"people case\", \"place value\", \"ago prime\"], \"y\": [2, 2, 2, 2, 2, 2, 2, 2, 2, 2, 1, 1, 1, 1, 1, 1, 1, 1, 1, 1, 1, 1, 1, 1, 1, 1, 1, 1, 1, 1, 1, 1, 1, 1, 1, 1, 1, 1, 1, 1, 1, 1, 1, 1, 1, 1, 1, 1, 1, 1, 1, 1, 1, 1, 1, 1, 1, 1, 1, 1, 1, 1, 1, 1, 1, 1, 1, 1, 1, 1, 1, 1, 1, 1, 1, 1, 1, 1, 1, 1, 1, 1, 1, 1, 1, 1, 1, 1, 1, 1, 1, 1, 1, 1, 1, 1, 1, 1, 1, 1]}],\n                        {\"legend\": {\"bgcolor\": \"#F5F6F9\", \"font\": {\"color\": \"#4D5663\"}}, \"paper_bgcolor\": \"#F5F6F9\", \"plot_bgcolor\": \"#F5F6F9\", \"template\": {\"data\": {\"bar\": [{\"error_x\": {\"color\": \"#2a3f5f\"}, \"error_y\": {\"color\": \"#2a3f5f\"}, \"marker\": {\"line\": {\"color\": \"#E5ECF6\", \"width\": 0.5}}, \"type\": \"bar\"}], \"barpolar\": [{\"marker\": {\"line\": {\"color\": \"#E5ECF6\", \"width\": 0.5}}, \"type\": \"barpolar\"}], \"carpet\": [{\"aaxis\": {\"endlinecolor\": \"#2a3f5f\", \"gridcolor\": \"white\", \"linecolor\": \"white\", \"minorgridcolor\": \"white\", \"startlinecolor\": \"#2a3f5f\"}, \"baxis\": {\"endlinecolor\": \"#2a3f5f\", \"gridcolor\": \"white\", \"linecolor\": \"white\", \"minorgridcolor\": \"white\", \"startlinecolor\": \"#2a3f5f\"}, \"type\": \"carpet\"}], \"choropleth\": [{\"colorbar\": {\"outlinewidth\": 0, \"ticks\": \"\"}, \"type\": \"choropleth\"}], \"contour\": [{\"colorbar\": {\"outlinewidth\": 0, \"ticks\": \"\"}, \"colorscale\": [[0.0, \"#0d0887\"], [0.1111111111111111, \"#46039f\"], [0.2222222222222222, \"#7201a8\"], [0.3333333333333333, \"#9c179e\"], [0.4444444444444444, \"#bd3786\"], [0.5555555555555556, \"#d8576b\"], [0.6666666666666666, \"#ed7953\"], [0.7777777777777778, \"#fb9f3a\"], [0.8888888888888888, \"#fdca26\"], [1.0, \"#f0f921\"]], \"type\": \"contour\"}], \"contourcarpet\": [{\"colorbar\": {\"outlinewidth\": 0, \"ticks\": \"\"}, \"type\": \"contourcarpet\"}], \"heatmap\": [{\"colorbar\": {\"outlinewidth\": 0, \"ticks\": \"\"}, \"colorscale\": [[0.0, \"#0d0887\"], [0.1111111111111111, \"#46039f\"], [0.2222222222222222, \"#7201a8\"], [0.3333333333333333, \"#9c179e\"], [0.4444444444444444, \"#bd3786\"], [0.5555555555555556, \"#d8576b\"], [0.6666666666666666, \"#ed7953\"], [0.7777777777777778, \"#fb9f3a\"], [0.8888888888888888, \"#fdca26\"], [1.0, \"#f0f921\"]], \"type\": \"heatmap\"}], \"heatmapgl\": [{\"colorbar\": {\"outlinewidth\": 0, \"ticks\": \"\"}, \"colorscale\": [[0.0, \"#0d0887\"], [0.1111111111111111, \"#46039f\"], [0.2222222222222222, \"#7201a8\"], [0.3333333333333333, \"#9c179e\"], [0.4444444444444444, \"#bd3786\"], [0.5555555555555556, \"#d8576b\"], [0.6666666666666666, \"#ed7953\"], [0.7777777777777778, \"#fb9f3a\"], [0.8888888888888888, \"#fdca26\"], [1.0, \"#f0f921\"]], \"type\": \"heatmapgl\"}], \"histogram\": [{\"marker\": {\"colorbar\": {\"outlinewidth\": 0, \"ticks\": \"\"}}, \"type\": \"histogram\"}], \"histogram2d\": [{\"colorbar\": {\"outlinewidth\": 0, \"ticks\": \"\"}, \"colorscale\": [[0.0, \"#0d0887\"], [0.1111111111111111, \"#46039f\"], [0.2222222222222222, \"#7201a8\"], [0.3333333333333333, \"#9c179e\"], [0.4444444444444444, \"#bd3786\"], [0.5555555555555556, \"#d8576b\"], [0.6666666666666666, \"#ed7953\"], [0.7777777777777778, \"#fb9f3a\"], [0.8888888888888888, \"#fdca26\"], [1.0, \"#f0f921\"]], \"type\": \"histogram2d\"}], \"histogram2dcontour\": [{\"colorbar\": {\"outlinewidth\": 0, \"ticks\": \"\"}, \"colorscale\": [[0.0, \"#0d0887\"], [0.1111111111111111, \"#46039f\"], [0.2222222222222222, \"#7201a8\"], [0.3333333333333333, \"#9c179e\"], [0.4444444444444444, \"#bd3786\"], [0.5555555555555556, \"#d8576b\"], [0.6666666666666666, \"#ed7953\"], [0.7777777777777778, \"#fb9f3a\"], [0.8888888888888888, \"#fdca26\"], [1.0, \"#f0f921\"]], \"type\": \"histogram2dcontour\"}], \"mesh3d\": [{\"colorbar\": {\"outlinewidth\": 0, \"ticks\": \"\"}, \"type\": \"mesh3d\"}], \"parcoords\": [{\"line\": {\"colorbar\": {\"outlinewidth\": 0, \"ticks\": \"\"}}, \"type\": \"parcoords\"}], \"pie\": [{\"automargin\": true, \"type\": \"pie\"}], \"scatter\": [{\"marker\": {\"colorbar\": {\"outlinewidth\": 0, \"ticks\": \"\"}}, \"type\": \"scatter\"}], \"scatter3d\": [{\"line\": {\"colorbar\": {\"outlinewidth\": 0, \"ticks\": \"\"}}, \"marker\": {\"colorbar\": {\"outlinewidth\": 0, \"ticks\": \"\"}}, \"type\": \"scatter3d\"}], \"scattercarpet\": [{\"marker\": {\"colorbar\": {\"outlinewidth\": 0, \"ticks\": \"\"}}, \"type\": \"scattercarpet\"}], \"scattergeo\": [{\"marker\": {\"colorbar\": {\"outlinewidth\": 0, \"ticks\": \"\"}}, \"type\": \"scattergeo\"}], \"scattergl\": [{\"marker\": {\"colorbar\": {\"outlinewidth\": 0, \"ticks\": \"\"}}, \"type\": \"scattergl\"}], \"scattermapbox\": [{\"marker\": {\"colorbar\": {\"outlinewidth\": 0, \"ticks\": \"\"}}, \"type\": \"scattermapbox\"}], \"scatterpolar\": [{\"marker\": {\"colorbar\": {\"outlinewidth\": 0, \"ticks\": \"\"}}, \"type\": \"scatterpolar\"}], \"scatterpolargl\": [{\"marker\": {\"colorbar\": {\"outlinewidth\": 0, \"ticks\": \"\"}}, \"type\": \"scatterpolargl\"}], \"scatterternary\": [{\"marker\": {\"colorbar\": {\"outlinewidth\": 0, \"ticks\": \"\"}}, \"type\": \"scatterternary\"}], \"surface\": [{\"colorbar\": {\"outlinewidth\": 0, \"ticks\": \"\"}, \"colorscale\": [[0.0, \"#0d0887\"], [0.1111111111111111, \"#46039f\"], [0.2222222222222222, \"#7201a8\"], [0.3333333333333333, \"#9c179e\"], [0.4444444444444444, \"#bd3786\"], [0.5555555555555556, \"#d8576b\"], [0.6666666666666666, \"#ed7953\"], [0.7777777777777778, \"#fb9f3a\"], [0.8888888888888888, \"#fdca26\"], [1.0, \"#f0f921\"]], \"type\": \"surface\"}], \"table\": [{\"cells\": {\"fill\": {\"color\": \"#EBF0F8\"}, \"line\": {\"color\": \"white\"}}, \"header\": {\"fill\": {\"color\": \"#C8D4E3\"}, \"line\": {\"color\": \"white\"}}, \"type\": \"table\"}]}, \"layout\": {\"annotationdefaults\": {\"arrowcolor\": \"#2a3f5f\", \"arrowhead\": 0, \"arrowwidth\": 1}, \"coloraxis\": {\"colorbar\": {\"outlinewidth\": 0, \"ticks\": \"\"}}, \"colorscale\": {\"diverging\": [[0, \"#8e0152\"], [0.1, \"#c51b7d\"], [0.2, \"#de77ae\"], [0.3, \"#f1b6da\"], [0.4, \"#fde0ef\"], [0.5, \"#f7f7f7\"], [0.6, \"#e6f5d0\"], [0.7, \"#b8e186\"], [0.8, \"#7fbc41\"], [0.9, \"#4d9221\"], [1, \"#276419\"]], \"sequential\": [[0.0, \"#0d0887\"], [0.1111111111111111, \"#46039f\"], [0.2222222222222222, \"#7201a8\"], [0.3333333333333333, \"#9c179e\"], [0.4444444444444444, \"#bd3786\"], [0.5555555555555556, \"#d8576b\"], [0.6666666666666666, \"#ed7953\"], [0.7777777777777778, \"#fb9f3a\"], [0.8888888888888888, \"#fdca26\"], [1.0, \"#f0f921\"]], \"sequentialminus\": [[0.0, \"#0d0887\"], [0.1111111111111111, \"#46039f\"], [0.2222222222222222, \"#7201a8\"], [0.3333333333333333, \"#9c179e\"], [0.4444444444444444, \"#bd3786\"], [0.5555555555555556, \"#d8576b\"], [0.6666666666666666, \"#ed7953\"], [0.7777777777777778, \"#fb9f3a\"], [0.8888888888888888, \"#fdca26\"], [1.0, \"#f0f921\"]]}, \"colorway\": [\"#636efa\", \"#EF553B\", \"#00cc96\", \"#ab63fa\", \"#FFA15A\", \"#19d3f3\", \"#FF6692\", \"#B6E880\", \"#FF97FF\", \"#FECB52\"], \"font\": {\"color\": \"#2a3f5f\"}, \"geo\": {\"bgcolor\": \"white\", \"lakecolor\": \"white\", \"landcolor\": \"#E5ECF6\", \"showlakes\": true, \"showland\": true, \"subunitcolor\": \"white\"}, \"hoverlabel\": {\"align\": \"left\"}, \"hovermode\": \"closest\", \"mapbox\": {\"style\": \"light\"}, \"paper_bgcolor\": \"white\", \"plot_bgcolor\": \"#E5ECF6\", \"polar\": {\"angularaxis\": {\"gridcolor\": \"white\", \"linecolor\": \"white\", \"ticks\": \"\"}, \"bgcolor\": \"#E5ECF6\", \"radialaxis\": {\"gridcolor\": \"white\", \"linecolor\": \"white\", \"ticks\": \"\"}}, \"scene\": {\"xaxis\": {\"backgroundcolor\": \"#E5ECF6\", \"gridcolor\": \"white\", \"gridwidth\": 2, \"linecolor\": \"white\", \"showbackground\": true, \"ticks\": \"\", \"zerolinecolor\": \"white\"}, \"yaxis\": {\"backgroundcolor\": \"#E5ECF6\", \"gridcolor\": \"white\", \"gridwidth\": 2, \"linecolor\": \"white\", \"showbackground\": true, \"ticks\": \"\", \"zerolinecolor\": \"white\"}, \"zaxis\": {\"backgroundcolor\": \"#E5ECF6\", \"gridcolor\": \"white\", \"gridwidth\": 2, \"linecolor\": \"white\", \"showbackground\": true, \"ticks\": \"\", \"zerolinecolor\": \"white\"}}, \"shapedefaults\": {\"line\": {\"color\": \"#2a3f5f\"}}, \"ternary\": {\"aaxis\": {\"gridcolor\": \"white\", \"linecolor\": \"white\", \"ticks\": \"\"}, \"baxis\": {\"gridcolor\": \"white\", \"linecolor\": \"white\", \"ticks\": \"\"}, \"bgcolor\": \"#E5ECF6\", \"caxis\": {\"gridcolor\": \"white\", \"linecolor\": \"white\", \"ticks\": \"\"}}, \"title\": {\"x\": 0.05}, \"xaxis\": {\"automargin\": true, \"gridcolor\": \"white\", \"linecolor\": \"white\", \"ticks\": \"\", \"title\": {\"standoff\": 15}, \"zerolinecolor\": \"white\", \"zerolinewidth\": 2}, \"yaxis\": {\"automargin\": true, \"gridcolor\": \"white\", \"linecolor\": \"white\", \"ticks\": \"\", \"title\": {\"standoff\": 15}, \"zerolinecolor\": \"white\", \"zerolinewidth\": 2}}}, \"title\": {\"font\": {\"color\": \"#4D5663\"}, \"text\": \"Topic 2: Top 100 bigrams after removing stop words\"}, \"xaxis\": {\"gridcolor\": \"#E1E5ED\", \"linecolor\": \"black\", \"showgrid\": true, \"tickfont\": {\"color\": \"#4D5663\"}, \"title\": {\"font\": {\"color\": \"#4D5663\"}, \"text\": \"\"}, \"zerolinecolor\": \"#E1E5ED\"}, \"yaxis\": {\"gridcolor\": \"#E1E5ED\", \"linecolor\": \"black\", \"showgrid\": true, \"tickfont\": {\"color\": \"#4D5663\"}, \"title\": {\"font\": {\"color\": \"#4D5663\"}, \"text\": \"Count\"}, \"zerolinecolor\": \"#E1E5ED\"}},\n                        {\"showLink\": true, \"linkText\": \"Export to plot.ly\", \"plotlyServerURL\": \"https://plot.ly\", \"responsive\": true}\n                    ).then(function(){\n                            \nvar gd = document.getElementById('329d6fa4-ba02-4ddf-9e32-2f808a27a483');\nvar x = new MutationObserver(function (mutations, observer) {{\n        var display = window.getComputedStyle(gd).display;\n        if (!display || display === 'none') {{\n            console.log([gd, 'removed!']);\n            Plotly.purge(gd);\n            observer.disconnect();\n        }}\n}});\n\n// Listen for the removal of the full notebook cells\nvar notebookContainer = gd.closest('#notebook-container');\nif (notebookContainer) {{\n    x.observe(notebookContainer, {childList: true});\n}}\n\n// Listen for the clearing of the current output cell\nvar outputEl = gd.closest('.output');\nif (outputEl) {{\n    x.observe(outputEl, {childList: true});\n}}\n\n                        })\n                };\n                });\n            </script>\n        </div>"
         },
         "metadata": {},
         "output_type": "display_data"
        }
       ]
      }
     },
     "93acdd56af924feda1fa9548e71bb783": {
      "model_module": "@jupyter-widgets/base",
      "model_module_version": "1.2.0",
      "model_name": "LayoutModel",
      "state": {}
     },
     "93d58084ac804cbe93762e3d49f909b6": {
      "model_module": "@jupyter-widgets/controls",
      "model_module_version": "1.5.0",
      "model_name": "IntProgressModel",
      "state": {
       "description": "Processing: ",
       "layout": "IPY_MODEL_379ae64d79ba4e5eb105aff54a88ccd5",
       "max": 4,
       "style": "IPY_MODEL_91384f83997a40989067f97b2a15c999",
       "value": 4
      }
     },
     "95ef5bf7c10d49e3abc6007441890ba5": {
      "model_module": "@jupyter-widgets/controls",
      "model_module_version": "1.5.0",
      "model_name": "IntProgressModel",
      "state": {
       "description": "Processing: ",
       "layout": "IPY_MODEL_aa6d72bec06047ed9817f7e9edb5ddea",
       "max": 870,
       "style": "IPY_MODEL_c40dc93f165442c495c677db4987a53b",
       "value": 870
      }
     },
     "95f3e31f5349418db0ea0938aa4c8222": {
      "model_module": "@jupyter-widgets/controls",
      "model_module_version": "1.5.0",
      "model_name": "ProgressStyleModel",
      "state": {
       "description_width": ""
      }
     },
     "96f8fd9dded14f198991a160b4ce8f0e": {
      "model_module": "@jupyter-widgets/base",
      "model_module_version": "1.2.0",
      "model_name": "LayoutModel",
      "state": {}
     },
     "97e9ddff3e324cafbe45798124f3620f": {
      "model_module": "@jupyter-widgets/controls",
      "model_module_version": "1.5.0",
      "model_name": "ProgressStyleModel",
      "state": {
       "description_width": ""
      }
     },
     "98ec7b2109b443cd830023b2284e5337": {
      "model_module": "@jupyter-widgets/controls",
      "model_module_version": "1.5.0",
      "model_name": "DescriptionStyleModel",
      "state": {
       "description_width": ""
      }
     },
     "9a4c8b08486a40eeaa9253f434a0601e": {
      "model_module": "@jupyter-widgets/controls",
      "model_module_version": "1.5.0",
      "model_name": "IntProgressModel",
      "state": {
       "description": "Processing: ",
       "layout": "IPY_MODEL_be2c764e2e784646825313c7e654e5ba",
       "max": 48,
       "style": "IPY_MODEL_70c00a1bfdac47bab63eb7884d8f47ba",
       "value": 48
      }
     },
     "9aabb3b829874b058fd783f5e9b3d23c": {
      "model_module": "@jupyter-widgets/controls",
      "model_module_version": "1.5.0",
      "model_name": "IntProgressModel",
      "state": {
       "description": "Processing: ",
       "layout": "IPY_MODEL_0b344abf71a24150aa935a7f913cbea4",
       "max": 48,
       "style": "IPY_MODEL_7f76dc59fe0f4871a34e98099e7bf624",
       "value": 48
      }
     },
     "9b64f8fc10254320baddc9ed31f2b5f6": {
      "model_module": "@jupyter-widgets/controls",
      "model_module_version": "1.5.0",
      "model_name": "IntProgressModel",
      "state": {
       "description": "Processing: ",
       "layout": "IPY_MODEL_1c9056f33a1a44b480d6146ec57c5394",
       "max": 4,
       "style": "IPY_MODEL_b9a0c6615ef04ac495bb438fa8117d0c",
       "value": 4
      }
     },
     "9c4378f7d73c44c79a71e9357098d2d3": {
      "model_module": "@jupyter-widgets/controls",
      "model_module_version": "1.5.0",
      "model_name": "ProgressStyleModel",
      "state": {
       "description_width": ""
      }
     },
     "9c60033ee0d74e949a5e8bbb2ad1aca6": {
      "model_module": "@jupyter-widgets/controls",
      "model_module_version": "1.5.0",
      "model_name": "ProgressStyleModel",
      "state": {
       "description_width": ""
      }
     },
     "9dc261eb9a4e494586ff942cfe9e6f98": {
      "model_module": "@jupyter-widgets/controls",
      "model_module_version": "1.5.0",
      "model_name": "VBoxModel",
      "state": {
       "_dom_classes": [
        "widget-interact"
       ],
       "children": [
        "IPY_MODEL_dda1594c70a342a5b6b0748ea00dd659",
        "IPY_MODEL_69bb7f060370468ab969885a393bc713",
        "IPY_MODEL_0ca41fee96084ec6b860c2c557524953",
        "IPY_MODEL_ef7bc8a5ff5a4641b8b745d7b49cb773"
       ],
       "layout": "IPY_MODEL_58831f023c5b497e919aff6f4eb8a4a5"
      }
     },
     "9e372dc8d8dd4332b410424cc92f84c5": {
      "model_module": "@jupyter-widgets/controls",
      "model_module_version": "1.5.0",
      "model_name": "ProgressStyleModel",
      "state": {
       "description_width": ""
      }
     },
     "9e6d802bfa104586a25109d50ceff98d": {
      "model_module": "@jupyter-widgets/controls",
      "model_module_version": "1.5.0",
      "model_name": "ProgressStyleModel",
      "state": {
       "description_width": ""
      }
     },
     "9ef43e6e7e114d4784803f678f08a6c2": {
      "model_module": "@jupyter-widgets/controls",
      "model_module_version": "1.5.0",
      "model_name": "IntProgressModel",
      "state": {
       "description": "Processing: ",
       "layout": "IPY_MODEL_93acdd56af924feda1fa9548e71bb783",
       "max": 4,
       "style": "IPY_MODEL_fdc6a6ef75b44c73a1349f2dd0d7348a",
       "value": 4
      }
     },
     "9f25d12341b64552868de4dabd7bb506": {
      "model_module": "@jupyter-widgets/base",
      "model_module_version": "1.2.0",
      "model_name": "LayoutModel",
      "state": {}
     },
     "9f4d9978372844b092eb142c012eb461": {
      "model_module": "@jupyter-widgets/base",
      "model_module_version": "1.2.0",
      "model_name": "LayoutModel",
      "state": {}
     },
     "9faa55c9b02641e6abb0471247a2af53": {
      "model_module": "@jupyter-widgets/controls",
      "model_module_version": "1.5.0",
      "model_name": "ProgressStyleModel",
      "state": {
       "description_width": ""
      }
     },
     "a258c0286fa0415d818d3992c5c8338f": {
      "model_module": "@jupyter-widgets/controls",
      "model_module_version": "1.5.0",
      "model_name": "IntProgressModel",
      "state": {
       "description": "Processing: ",
       "layout": "IPY_MODEL_fae045083bb24cc5b7d9651f5abf55fd",
       "max": 4,
       "style": "IPY_MODEL_be2a7d4439384344931597cb08b5d5d5",
       "value": 4
      }
     },
     "a26c19ef5e91416490b0d2ef8b50537d": {
      "model_module": "@jupyter-widgets/output",
      "model_module_version": "1.0.0",
      "model_name": "OutputModel",
      "state": {
       "layout": "IPY_MODEL_4e3242bd35ff4ec681ee4cacddc4c182"
      }
     },
     "a3319ec54e0d41f382217ed7648b4abb": {
      "model_module": "@jupyter-widgets/controls",
      "model_module_version": "1.5.0",
      "model_name": "IntProgressModel",
      "state": {
       "description": "Processing: ",
       "layout": "IPY_MODEL_0db6eb636e3846ae9c7311a0242e7c96",
       "max": 48,
       "style": "IPY_MODEL_4e1fdee38f5c468196e169e6a5f7c101",
       "value": 48
      }
     },
     "a34fb008861f46e496add1a395f98c5c": {
      "model_module": "@jupyter-widgets/controls",
      "model_module_version": "1.5.0",
      "model_name": "ProgressStyleModel",
      "state": {
       "description_width": ""
      }
     },
     "a6d7d14e7d2743408312f61026036be1": {
      "model_module": "@jupyter-widgets/controls",
      "model_module_version": "1.5.0",
      "model_name": "ProgressStyleModel",
      "state": {
       "description_width": ""
      }
     },
     "a742a2a945db42c3a75be1bb9b816ab1": {
      "model_module": "@jupyter-widgets/controls",
      "model_module_version": "1.5.0",
      "model_name": "ToggleButtonsStyleModel",
      "state": {
       "button_width": "",
       "description_width": ""
      }
     },
     "a83a1065e8ea46f79cd22b93a05f9934": {
      "model_module": "@jupyter-widgets/base",
      "model_module_version": "1.2.0",
      "model_name": "LayoutModel",
      "state": {}
     },
     "a90a548c760246d6a187aeac60b8d716": {
      "model_module": "@jupyter-widgets/base",
      "model_module_version": "1.2.0",
      "model_name": "LayoutModel",
      "state": {}
     },
     "aa6d72bec06047ed9817f7e9edb5ddea": {
      "model_module": "@jupyter-widgets/base",
      "model_module_version": "1.2.0",
      "model_name": "LayoutModel",
      "state": {}
     },
     "abe072bd93824013b97f90ef499fb6da": {
      "model_module": "@jupyter-widgets/controls",
      "model_module_version": "1.5.0",
      "model_name": "ProgressStyleModel",
      "state": {
       "description_width": ""
      }
     },
     "ac0b46a532c142189c00dd3359f6d926": {
      "model_module": "@jupyter-widgets/controls",
      "model_module_version": "1.5.0",
      "model_name": "ButtonModel",
      "state": {
       "description": "Run Interact",
       "layout": "IPY_MODEL_0764c20174304f3e9df4de4a9740120c",
       "style": "IPY_MODEL_3f46aa5b765141ed92a825ac31204f31"
      }
     },
     "ac9e9ba97f7b4504aa27ec13c58d86d5": {
      "model_module": "@jupyter-widgets/base",
      "model_module_version": "1.2.0",
      "model_name": "LayoutModel",
      "state": {}
     },
     "ad38166a4bbc4532adc419c462abe613": {
      "model_module": "@jupyter-widgets/base",
      "model_module_version": "1.2.0",
      "model_name": "LayoutModel",
      "state": {}
     },
     "ad66ab41138c4307b80b59febd707236": {
      "model_module": "@jupyter-widgets/controls",
      "model_module_version": "1.5.0",
      "model_name": "ProgressStyleModel",
      "state": {
       "description_width": ""
      }
     },
     "ae2910a0461b4c3981e9225276dea5c2": {
      "model_module": "@jupyter-widgets/controls",
      "model_module_version": "1.5.0",
      "model_name": "ProgressStyleModel",
      "state": {
       "description_width": ""
      }
     },
     "b12f0fe4f8064a78850358a93c47c3df": {
      "model_module": "@jupyter-widgets/controls",
      "model_module_version": "1.5.0",
      "model_name": "IntProgressModel",
      "state": {
       "description": "Processing: ",
       "layout": "IPY_MODEL_e71a462d184d4220a6db5d431f1e30fe",
       "max": 870,
       "style": "IPY_MODEL_eed46932d7754328953be4b63dabc209",
       "value": 870
      }
     },
     "b3b7e8dd4298442697da18f77b3df623": {
      "model_module": "@jupyter-widgets/base",
      "model_module_version": "1.2.0",
      "model_name": "LayoutModel",
      "state": {}
     },
     "b40622a8926e4b758efc5c2d4eb5a023": {
      "model_module": "@jupyter-widgets/controls",
      "model_module_version": "1.5.0",
      "model_name": "IntProgressModel",
      "state": {
       "description": "Processing: ",
       "layout": "IPY_MODEL_fa9507c53bc945c38aa156d272a76a16",
       "max": 4,
       "style": "IPY_MODEL_ad66ab41138c4307b80b59febd707236",
       "value": 4
      }
     },
     "b4d0cd19d38e4b5ca3c1387a033125fa": {
      "model_module": "@jupyter-widgets/controls",
      "model_module_version": "1.5.0",
      "model_name": "IntProgressModel",
      "state": {
       "description": "Processing: ",
       "layout": "IPY_MODEL_745fc4e908784fe492b489c290b04246",
       "max": 870,
       "style": "IPY_MODEL_161d3ee7408a4de3b183655f24ccb534",
       "value": 870
      }
     },
     "b59b355d0c0f4ba884effbba76f430bf": {
      "model_module": "@jupyter-widgets/controls",
      "model_module_version": "1.5.0",
      "model_name": "IntProgressModel",
      "state": {
       "description": "Processing: ",
       "layout": "IPY_MODEL_09875ed6ea6648dfaf28dd3ba9e100dd",
       "max": 870,
       "style": "IPY_MODEL_bed8fc24103f4a2195eab281246524c9",
       "value": 870
      }
     },
     "b5f457b1a3de46378621c4dada36ceab": {
      "model_module": "@jupyter-widgets/base",
      "model_module_version": "1.2.0",
      "model_name": "LayoutModel",
      "state": {}
     },
     "b5f64572a64b4acd92ff3f379a591cbf": {
      "model_module": "@jupyter-widgets/base",
      "model_module_version": "1.2.0",
      "model_name": "LayoutModel",
      "state": {}
     },
     "b60e569c302f4aed9a592d920bb1d704": {
      "model_module": "@jupyter-widgets/controls",
      "model_module_version": "1.5.0",
      "model_name": "DropdownModel",
      "state": {
       "_options_labels": [
        "Topic 0",
        "Topic 1",
        "Topic 2",
        "Topic 3"
       ],
       "description": "Topic #:",
       "index": 2,
       "layout": "IPY_MODEL_8b04a0dfd25a4ae8b9db2d90479cf22c",
       "style": "IPY_MODEL_98ec7b2109b443cd830023b2284e5337"
      }
     },
     "b759bbd0fe404138801ea7e21a5a11f5": {
      "model_module": "@jupyter-widgets/controls",
      "model_module_version": "1.5.0",
      "model_name": "IntProgressModel",
      "state": {
       "description": "Processing: ",
       "layout": "IPY_MODEL_84430717888d4c71a53354d53ab75469",
       "max": 4,
       "style": "IPY_MODEL_1cd42b32b75a46dcaeea4756c5638425",
       "value": 4
      }
     },
     "b7ee6a23727d4f128a27c5424cfa14bd": {
      "model_module": "@jupyter-widgets/controls",
      "model_module_version": "1.5.0",
      "model_name": "ToggleButtonsModel",
      "state": {
       "_options_labels": [
        "Frequency Plot",
        "Bigrams",
        "Trigrams",
        "Sentiment Polarity",
        "Word Cloud"
       ],
       "button_style": "",
       "description": "Plot Type:",
       "icons": [
        ""
       ],
       "index": 1,
       "layout": "IPY_MODEL_8003fd95dc824071acdbe35c3483e10b",
       "style": "IPY_MODEL_806b8881c83940ddbaa76483ffdc7f97",
       "tooltips": []
      }
     },
     "b97fc926337941f882e40c70b1f6d86a": {
      "model_module": "@jupyter-widgets/base",
      "model_module_version": "1.2.0",
      "model_name": "LayoutModel",
      "state": {}
     },
     "b9a0c6615ef04ac495bb438fa8117d0c": {
      "model_module": "@jupyter-widgets/controls",
      "model_module_version": "1.5.0",
      "model_name": "ProgressStyleModel",
      "state": {
       "description_width": ""
      }
     },
     "ba2240e1c94a478cb4a761e40d0958b0": {
      "model_module": "@jupyter-widgets/controls",
      "model_module_version": "1.5.0",
      "model_name": "ProgressStyleModel",
      "state": {
       "description_width": ""
      }
     },
     "bc73140e8d064bf7b2f2e0ab84454788": {
      "model_module": "@jupyter-widgets/base",
      "model_module_version": "1.2.0",
      "model_name": "LayoutModel",
      "state": {}
     },
     "be2a7d4439384344931597cb08b5d5d5": {
      "model_module": "@jupyter-widgets/controls",
      "model_module_version": "1.5.0",
      "model_name": "ProgressStyleModel",
      "state": {
       "description_width": ""
      }
     },
     "be2c764e2e784646825313c7e654e5ba": {
      "model_module": "@jupyter-widgets/base",
      "model_module_version": "1.2.0",
      "model_name": "LayoutModel",
      "state": {}
     },
     "bed8fc24103f4a2195eab281246524c9": {
      "model_module": "@jupyter-widgets/controls",
      "model_module_version": "1.5.0",
      "model_name": "ProgressStyleModel",
      "state": {
       "description_width": ""
      }
     },
     "bf25e802d4f34cbd8a1157570c911d56": {
      "model_module": "@jupyter-widgets/controls",
      "model_module_version": "1.5.0",
      "model_name": "ProgressStyleModel",
      "state": {
       "description_width": ""
      }
     },
     "bfc1b4483bbd4920bb9befdaad7be39d": {
      "model_module": "@jupyter-widgets/controls",
      "model_module_version": "1.5.0",
      "model_name": "IntProgressModel",
      "state": {
       "description": "Processing: ",
       "layout": "IPY_MODEL_ad38166a4bbc4532adc419c462abe613",
       "max": 11,
       "style": "IPY_MODEL_8f1efb22dc584147b5cfa796e614d5e4",
       "value": 11
      }
     },
     "c0742be887a24fa080baf6d23b1ebe30": {
      "model_module": "@jupyter-widgets/base",
      "model_module_version": "1.2.0",
      "model_name": "LayoutModel",
      "state": {}
     },
     "c19dd1e299d540e6b565a1ce24abb292": {
      "model_module": "@jupyter-widgets/base",
      "model_module_version": "1.2.0",
      "model_name": "LayoutModel",
      "state": {}
     },
     "c2ef8b2e41dc4f2cbb808cb0ed3203b4": {
      "model_module": "@jupyter-widgets/controls",
      "model_module_version": "1.5.0",
      "model_name": "IntProgressModel",
      "state": {
       "description": "Processing: ",
       "layout": "IPY_MODEL_7a1376c322984f3dba0280748cca767c",
       "max": 48,
       "style": "IPY_MODEL_a6d7d14e7d2743408312f61026036be1",
       "value": 48
      }
     },
     "c36c5f6e93d24320b9c334cd7da8e437": {
      "model_module": "@jupyter-widgets/controls",
      "model_module_version": "1.5.0",
      "model_name": "ProgressStyleModel",
      "state": {
       "description_width": ""
      }
     },
     "c40dc93f165442c495c677db4987a53b": {
      "model_module": "@jupyter-widgets/controls",
      "model_module_version": "1.5.0",
      "model_name": "ProgressStyleModel",
      "state": {
       "description_width": ""
      }
     },
     "c45c5a4d34b4456884f58bb925af73f9": {
      "model_module": "@jupyter-widgets/base",
      "model_module_version": "1.2.0",
      "model_name": "LayoutModel",
      "state": {}
     },
     "c63cc2709e25419ba3e5761d63e6fb55": {
      "model_module": "@jupyter-widgets/output",
      "model_module_version": "1.0.0",
      "model_name": "OutputModel",
      "state": {
       "layout": "IPY_MODEL_3b43b69302be48c1b7fe3f6c01b6050e"
      }
     },
     "c79e454527a64401b237c45c4231ec24": {
      "model_module": "@jupyter-widgets/controls",
      "model_module_version": "1.5.0",
      "model_name": "IntProgressModel",
      "state": {
       "description": "Processing: ",
       "layout": "IPY_MODEL_84fc731fdbef457a939c9ececba04239",
       "max": 4,
       "style": "IPY_MODEL_95f3e31f5349418db0ea0938aa4c8222",
       "value": 4
      }
     },
     "c7d2734dbf3f49eeaf3de24042d97c77": {
      "model_module": "@jupyter-widgets/controls",
      "model_module_version": "1.5.0",
      "model_name": "ProgressStyleModel",
      "state": {
       "description_width": ""
      }
     },
     "c8eb4149d7a842dba0f40facbad1d89f": {
      "model_module": "@jupyter-widgets/base",
      "model_module_version": "1.2.0",
      "model_name": "LayoutModel",
      "state": {}
     },
     "c91c721a80904f2684bd850d3c26168c": {
      "model_module": "@jupyter-widgets/controls",
      "model_module_version": "1.5.0",
      "model_name": "IntProgressModel",
      "state": {
       "description": "Processing: ",
       "layout": "IPY_MODEL_d16466eaa6694e2a993022747b22abc0",
       "max": 4,
       "style": "IPY_MODEL_f998f6135090423c9f6adcabdd644be7",
       "value": 4
      }
     },
     "c94240c41acb4685a37cdf7f48cfe378": {
      "model_module": "@jupyter-widgets/controls",
      "model_module_version": "1.5.0",
      "model_name": "ProgressStyleModel",
      "state": {
       "description_width": ""
      }
     },
     "c9fa692b3c754ae18c158343025e9403": {
      "model_module": "@jupyter-widgets/controls",
      "model_module_version": "1.5.0",
      "model_name": "IntProgressModel",
      "state": {
       "description": "Processing: ",
       "layout": "IPY_MODEL_b5f457b1a3de46378621c4dada36ceab",
       "max": 4,
       "style": "IPY_MODEL_3acab8a540094d4098b78789d04c32ee",
       "value": 4
      }
     },
     "caa659819c434f14a218de71ea5e9920": {
      "model_module": "@jupyter-widgets/controls",
      "model_module_version": "1.5.0",
      "model_name": "ProgressStyleModel",
      "state": {
       "description_width": ""
      }
     },
     "cd45fc8852c0463bbedf71ef72c5aba5": {
      "model_module": "@jupyter-widgets/controls",
      "model_module_version": "1.5.0",
      "model_name": "IntProgressModel",
      "state": {
       "description": "Processing: ",
       "layout": "IPY_MODEL_86672c973c42441ebc1b07345926a549",
       "max": 4,
       "style": "IPY_MODEL_e87fb1343ae74d24a185c6b74a6ad89a",
       "value": 4
      }
     },
     "cdf17ecba82143e5a3e9de5fecc3a1ff": {
      "model_module": "@jupyter-widgets/controls",
      "model_module_version": "1.5.0",
      "model_name": "ProgressStyleModel",
      "state": {
       "description_width": ""
      }
     },
     "cdf2b8f2e6f14919aa8e23a8a3a02d2f": {
      "model_module": "@jupyter-widgets/controls",
      "model_module_version": "1.5.0",
      "model_name": "IntProgressModel",
      "state": {
       "description": "Processing: ",
       "layout": "IPY_MODEL_c0742be887a24fa080baf6d23b1ebe30",
       "max": 870,
       "style": "IPY_MODEL_9faa55c9b02641e6abb0471247a2af53",
       "value": 870
      }
     },
     "cf112e01e4634908840880db4337a1b6": {
      "model_module": "@jupyter-widgets/controls",
      "model_module_version": "1.5.0",
      "model_name": "IntProgressModel",
      "state": {
       "description": "Processing: ",
       "layout": "IPY_MODEL_35edcc52f9ab42fe9998f1f225424eaf",
       "max": 4,
       "style": "IPY_MODEL_1710c717bd8445f3a5810ec5bd6f44cb",
       "value": 4
      }
     },
     "cf980fd03b41494883574b8be5f315d9": {
      "model_module": "@jupyter-widgets/controls",
      "model_module_version": "1.5.0",
      "model_name": "ProgressStyleModel",
      "state": {
       "description_width": ""
      }
     },
     "cfd6c3e72cf74c52a810a8e192033337": {
      "model_module": "@jupyter-widgets/base",
      "model_module_version": "1.2.0",
      "model_name": "LayoutModel",
      "state": {}
     },
     "d03d1c65475a46e7b028e243ac822384": {
      "model_module": "@jupyter-widgets/controls",
      "model_module_version": "1.5.0",
      "model_name": "DescriptionStyleModel",
      "state": {
       "description_width": ""
      }
     },
     "d1261151d6a241c2be4de1ba33f52b2a": {
      "model_module": "@jupyter-widgets/base",
      "model_module_version": "1.2.0",
      "model_name": "LayoutModel",
      "state": {}
     },
     "d16466eaa6694e2a993022747b22abc0": {
      "model_module": "@jupyter-widgets/base",
      "model_module_version": "1.2.0",
      "model_name": "LayoutModel",
      "state": {}
     },
     "d1fccbfe4ee44d3e966860acc4854a60": {
      "model_module": "@jupyter-widgets/controls",
      "model_module_version": "1.5.0",
      "model_name": "ProgressStyleModel",
      "state": {
       "description_width": ""
      }
     },
     "d2aabbfda6494143b42c40dc46625599": {
      "model_module": "@jupyter-widgets/base",
      "model_module_version": "1.2.0",
      "model_name": "LayoutModel",
      "state": {}
     },
     "d4aa91fdb15c4bbeb5e9be34d4e36a75": {
      "model_module": "@jupyter-widgets/controls",
      "model_module_version": "1.5.0",
      "model_name": "IntProgressModel",
      "state": {
       "description": "Processing: ",
       "layout": "IPY_MODEL_cfd6c3e72cf74c52a810a8e192033337",
       "max": 48,
       "style": "IPY_MODEL_26f02ce620224ea8a80f62d026ec1419",
       "value": 48
      }
     },
     "d63697bfc5fe40f1946b1f0fafd0982a": {
      "model_module": "@jupyter-widgets/base",
      "model_module_version": "1.2.0",
      "model_name": "LayoutModel",
      "state": {}
     },
     "d82d000f5f9c42d18dfac2c0111a3417": {
      "model_module": "@jupyter-widgets/controls",
      "model_module_version": "1.5.0",
      "model_name": "IntProgressModel",
      "state": {
       "description": "Processing: ",
       "layout": "IPY_MODEL_14e074f71fd342fca47034ca4a825b51",
       "max": 870,
       "style": "IPY_MODEL_9e372dc8d8dd4332b410424cc92f84c5",
       "value": 870
      }
     },
     "d98f2d36d1b84e52b93b739c11af5bba": {
      "model_module": "@jupyter-widgets/controls",
      "model_module_version": "1.5.0",
      "model_name": "IntProgressModel",
      "state": {
       "description": "Processing: ",
       "layout": "IPY_MODEL_fe7cffdc36954cb688f49536930c7e11",
       "max": 870,
       "style": "IPY_MODEL_fdd91b2e5fb84437a70dd6b50c6c9eee",
       "value": 870
      }
     },
     "dda1594c70a342a5b6b0748ea00dd659": {
      "model_module": "@jupyter-widgets/controls",
      "model_module_version": "1.5.0",
      "model_name": "ToggleButtonsModel",
      "state": {
       "_options_labels": [
        "Frequency Plot",
        "Bigrams",
        "Trigrams",
        "Sentiment Polarity",
        "Word Cloud"
       ],
       "button_style": "",
       "description": "Plot Type:",
       "icons": [
        ""
       ],
       "index": 0,
       "layout": "IPY_MODEL_3a8cd6d206e444258351efc0bcae2d1d",
       "style": "IPY_MODEL_704ea141a5074eaa83f67d44f98d2c0b",
       "tooltips": []
      }
     },
     "de9e45298c6146c192cd25d0f087722b": {
      "model_module": "@jupyter-widgets/controls",
      "model_module_version": "1.5.0",
      "model_name": "ProgressStyleModel",
      "state": {
       "description_width": ""
      }
     },
     "df6710eb9bd64e1399f6eb85417e19bc": {
      "model_module": "@jupyter-widgets/base",
      "model_module_version": "1.2.0",
      "model_name": "LayoutModel",
      "state": {}
     },
     "e08b19f5eb244d1db0b11de26a4f32c2": {
      "model_module": "@jupyter-widgets/base",
      "model_module_version": "1.2.0",
      "model_name": "LayoutModel",
      "state": {}
     },
     "e3cae36ab6d443e6bf117d901b58f5d5": {
      "model_module": "@jupyter-widgets/base",
      "model_module_version": "1.2.0",
      "model_name": "LayoutModel",
      "state": {}
     },
     "e5f43c05ab66450d9111641e6985360b": {
      "model_module": "@jupyter-widgets/base",
      "model_module_version": "1.2.0",
      "model_name": "LayoutModel",
      "state": {}
     },
     "e6faccfc6fd544afa2637f5003bf7d9a": {
      "model_module": "@jupyter-widgets/controls",
      "model_module_version": "1.5.0",
      "model_name": "ProgressStyleModel",
      "state": {
       "description_width": ""
      }
     },
     "e71a462d184d4220a6db5d431f1e30fe": {
      "model_module": "@jupyter-widgets/base",
      "model_module_version": "1.2.0",
      "model_name": "LayoutModel",
      "state": {}
     },
     "e7f5ce9ac4454dd59223feb29de9f4f0": {
      "model_module": "@jupyter-widgets/controls",
      "model_module_version": "1.5.0",
      "model_name": "ProgressStyleModel",
      "state": {
       "description_width": ""
      }
     },
     "e804e8b8e49742c7b794eb645e9cfbb7": {
      "model_module": "@jupyter-widgets/controls",
      "model_module_version": "1.5.0",
      "model_name": "ButtonStyleModel",
      "state": {}
     },
     "e87fb1343ae74d24a185c6b74a6ad89a": {
      "model_module": "@jupyter-widgets/controls",
      "model_module_version": "1.5.0",
      "model_name": "ProgressStyleModel",
      "state": {
       "description_width": ""
      }
     },
     "ea9cafbe17334322a6646de324d3464d": {
      "model_module": "@jupyter-widgets/controls",
      "model_module_version": "1.5.0",
      "model_name": "DropdownModel",
      "state": {
       "_options_labels": [
        "Topic 0",
        "Topic 1",
        "Topic 2",
        "Topic 3",
        "Topic 4",
        "Topic 5",
        "Topic 6",
        "Topic 7",
        "Topic 8",
        "Topic 9"
       ],
       "description": "Topic #:",
       "index": 0,
       "layout": "IPY_MODEL_423bc887d5c74b828758d8bde8648171",
       "style": "IPY_MODEL_011d55cba1d2424b9b3535f3f6304d6a"
      }
     },
     "ebc411cffcd441f08ebce6e23bb4561b": {
      "model_module": "@jupyter-widgets/controls",
      "model_module_version": "1.5.0",
      "model_name": "ProgressStyleModel",
      "state": {
       "description_width": ""
      }
     },
     "ec0a7fed5165484799f14f346a99efff": {
      "model_module": "@jupyter-widgets/controls",
      "model_module_version": "1.5.0",
      "model_name": "IntProgressModel",
      "state": {
       "description": "Processing: ",
       "layout": "IPY_MODEL_ac9e9ba97f7b4504aa27ec13c58d86d5",
       "max": 870,
       "style": "IPY_MODEL_5f1dad62fcbe45caac6444f661f27d10",
       "value": 870
      }
     },
     "ec27026dd7434ab3a8fd3300a6f6c0df": {
      "model_module": "@jupyter-widgets/base",
      "model_module_version": "1.2.0",
      "model_name": "LayoutModel",
      "state": {}
     },
     "ec2ee32df4b34e6d91cb958ada69ae44": {
      "model_module": "@jupyter-widgets/base",
      "model_module_version": "1.2.0",
      "model_name": "LayoutModel",
      "state": {}
     },
     "ed35519ca52f4fd795e8c6cce2a7e233": {
      "model_module": "@jupyter-widgets/controls",
      "model_module_version": "1.5.0",
      "model_name": "ProgressStyleModel",
      "state": {
       "description_width": ""
      }
     },
     "ed6c19d2b9dd4d0cb71431f7aa30934c": {
      "model_module": "@jupyter-widgets/controls",
      "model_module_version": "1.5.0",
      "model_name": "ButtonStyleModel",
      "state": {}
     },
     "edee030403c44930b0c7622bb17ca79e": {
      "model_module": "@jupyter-widgets/controls",
      "model_module_version": "1.5.0",
      "model_name": "IntProgressModel",
      "state": {
       "description": "Processing: ",
       "layout": "IPY_MODEL_125c99e83f704685bfb89f907ade2fa7",
       "max": 870,
       "style": "IPY_MODEL_62077375abdf48e28987780b10e7d2da",
       "value": 870
      }
     },
     "eed46932d7754328953be4b63dabc209": {
      "model_module": "@jupyter-widgets/controls",
      "model_module_version": "1.5.0",
      "model_name": "ProgressStyleModel",
      "state": {
       "description_width": ""
      }
     },
     "ef033c789c0a4cbfa0cd93802fe28e76": {
      "model_module": "@jupyter-widgets/controls",
      "model_module_version": "1.5.0",
      "model_name": "IntProgressModel",
      "state": {
       "description": "Processing: ",
       "layout": "IPY_MODEL_0373170d28414abead8ee7b1e80ca1e1",
       "max": 48,
       "style": "IPY_MODEL_abe072bd93824013b97f90ef499fb6da",
       "value": 48
      }
     },
     "ef3e23835aa14ee99e95326fc0ca375f": {
      "model_module": "@jupyter-widgets/controls",
      "model_module_version": "1.5.0",
      "model_name": "ProgressStyleModel",
      "state": {
       "description_width": ""
      }
     },
     "ef40aec45187478aa8cae74cea8a52c7": {
      "model_module": "@jupyter-widgets/controls",
      "model_module_version": "1.5.0",
      "model_name": "IntProgressModel",
      "state": {
       "description": "Processing: ",
       "layout": "IPY_MODEL_66a25303bbe84b82b97f0a28a1667233",
       "max": 4,
       "style": "IPY_MODEL_de9e45298c6146c192cd25d0f087722b",
       "value": 4
      }
     },
     "ef7bc8a5ff5a4641b8b745d7b49cb773": {
      "model_module": "@jupyter-widgets/output",
      "model_module_version": "1.0.0",
      "model_name": "OutputModel",
      "state": {
       "layout": "IPY_MODEL_c8eb4149d7a842dba0f40facbad1d89f",
       "outputs": [
        {
         "data": {
          "text/html": "        <script type=\"text/javascript\">\n        window.PlotlyConfig = {MathJaxConfig: 'local'};\n        if (window.MathJax) {MathJax.Hub.Config({SVG: {font: \"STIX-Web\"}});}\n        if (typeof require !== 'undefined') {\n        require.undef(\"plotly\");\n        requirejs.config({\n            paths: {\n                'plotly': ['https://cdn.plot.ly/plotly-latest.min']\n            }\n        });\n        require(['plotly'], function(Plotly) {\n            window._Plotly = Plotly;\n        });\n        }\n        </script>\n        "
         },
         "metadata": {},
         "output_type": "display_data"
        },
        {
         "ename": "SystemExit",
         "evalue": "(Value Error): Invalid topic_num param or empty Vocab. Try changing Topic Number.",
         "output_type": "error",
         "traceback": [
          "\u001b[1;31m---------------------------------------------------------------------------\u001b[0m",
          "\u001b[1;31mValueError\u001b[0m                                Traceback (most recent call last)",
          "\u001b[1;32m~\\AppData\\Roaming\\Python\\Python37\\site-packages\\pycaret\\nlp.py\u001b[0m in \u001b[0;36mplot_model\u001b[1;34m(model, plot, topic_num, save, system)\u001b[0m\n\u001b[0;32m   1838\u001b[0m                 \u001b[0mfiltered_df\u001b[0m \u001b[1;33m=\u001b[0m \u001b[0massigned_df\u001b[0m\u001b[1;33m.\u001b[0m\u001b[0mloc\u001b[0m\u001b[1;33m[\u001b[0m\u001b[0massigned_df\u001b[0m\u001b[1;33m[\u001b[0m\u001b[1;34m'Dominant_Topic'\u001b[0m\u001b[1;33m]\u001b[0m \u001b[1;33m==\u001b[0m \u001b[0mtopic_num\u001b[0m\u001b[1;33m]\u001b[0m\u001b[1;33m\u001b[0m\u001b[1;33m\u001b[0m\u001b[0m\n\u001b[1;32m-> 1839\u001b[1;33m                 \u001b[0mcommon_words\u001b[0m \u001b[1;33m=\u001b[0m \u001b[0mget_top_n_words\u001b[0m\u001b[1;33m(\u001b[0m\u001b[0mfiltered_df\u001b[0m\u001b[1;33m[\u001b[0m\u001b[0mtarget_\u001b[0m\u001b[1;33m]\u001b[0m\u001b[1;33m,\u001b[0m \u001b[0mn\u001b[0m\u001b[1;33m=\u001b[0m\u001b[1;36m100\u001b[0m\u001b[1;33m)\u001b[0m\u001b[1;33m\u001b[0m\u001b[1;33m\u001b[0m\u001b[0m\n\u001b[0m\u001b[0;32m   1840\u001b[0m                 \u001b[0mdf2\u001b[0m \u001b[1;33m=\u001b[0m \u001b[0mpd\u001b[0m\u001b[1;33m.\u001b[0m\u001b[0mDataFrame\u001b[0m\u001b[1;33m(\u001b[0m\u001b[0mcommon_words\u001b[0m\u001b[1;33m,\u001b[0m \u001b[0mcolumns\u001b[0m \u001b[1;33m=\u001b[0m \u001b[1;33m[\u001b[0m\u001b[1;34m'Text'\u001b[0m \u001b[1;33m,\u001b[0m \u001b[1;34m'count'\u001b[0m\u001b[1;33m]\u001b[0m\u001b[1;33m)\u001b[0m\u001b[1;33m\u001b[0m\u001b[1;33m\u001b[0m\u001b[0m\n",
          "\u001b[1;32m~\\AppData\\Roaming\\Python\\Python37\\site-packages\\pycaret\\nlp.py\u001b[0m in \u001b[0;36mget_top_n_words\u001b[1;34m(corpus, n)\u001b[0m\n\u001b[0;32m   1816\u001b[0m                 \u001b[0mlogger\u001b[0m\u001b[1;33m.\u001b[0m\u001b[0minfo\u001b[0m\u001b[1;33m(\u001b[0m\u001b[1;34m\"Fitting CountVectorizer()\"\u001b[0m\u001b[1;33m)\u001b[0m\u001b[1;33m\u001b[0m\u001b[1;33m\u001b[0m\u001b[0m\n\u001b[1;32m-> 1817\u001b[1;33m                 \u001b[0mbag_of_words\u001b[0m \u001b[1;33m=\u001b[0m \u001b[0mvec\u001b[0m\u001b[1;33m.\u001b[0m\u001b[0mfit_transform\u001b[0m\u001b[1;33m(\u001b[0m\u001b[0mcorpus\u001b[0m\u001b[1;33m)\u001b[0m\u001b[1;33m\u001b[0m\u001b[1;33m\u001b[0m\u001b[0m\n\u001b[0m\u001b[0;32m   1818\u001b[0m                 \u001b[0msum_words\u001b[0m \u001b[1;33m=\u001b[0m \u001b[0mbag_of_words\u001b[0m\u001b[1;33m.\u001b[0m\u001b[0msum\u001b[0m\u001b[1;33m(\u001b[0m\u001b[0maxis\u001b[0m\u001b[1;33m=\u001b[0m\u001b[1;36m0\u001b[0m\u001b[1;33m)\u001b[0m\u001b[1;33m\u001b[0m\u001b[1;33m\u001b[0m\u001b[0m\n",
          "\u001b[1;32m~\\Anaconda3\\lib\\site-packages\\sklearn\\feature_extraction\\text.py\u001b[0m in \u001b[0;36mfit_transform\u001b[1;34m(self, raw_documents, y)\u001b[0m\n\u001b[0;32m   1198\u001b[0m         vocabulary, X = self._count_vocab(raw_documents,\n\u001b[1;32m-> 1199\u001b[1;33m                                           self.fixed_vocabulary_)\n\u001b[0m\u001b[0;32m   1200\u001b[0m \u001b[1;33m\u001b[0m\u001b[0m\n",
          "\u001b[1;32m~\\Anaconda3\\lib\\site-packages\\sklearn\\feature_extraction\\text.py\u001b[0m in \u001b[0;36m_count_vocab\u001b[1;34m(self, raw_documents, fixed_vocab)\u001b[0m\n\u001b[0;32m   1128\u001b[0m             \u001b[1;32mif\u001b[0m \u001b[1;32mnot\u001b[0m \u001b[0mvocabulary\u001b[0m\u001b[1;33m:\u001b[0m\u001b[1;33m\u001b[0m\u001b[1;33m\u001b[0m\u001b[0m\n\u001b[1;32m-> 1129\u001b[1;33m                 raise ValueError(\"empty vocabulary; perhaps the documents only\"\n\u001b[0m\u001b[0;32m   1130\u001b[0m                                  \" contain stop words\")\n",
          "\u001b[1;31mValueError\u001b[0m: empty vocabulary; perhaps the documents only contain stop words",
          "\nDuring handling of the above exception, another exception occurred:\n",
          "\u001b[1;31mSystemExit\u001b[0m                                Traceback (most recent call last)",
          "\u001b[1;32m~\\Anaconda3\\lib\\site-packages\\ipywidgets\\widgets\\interaction.py\u001b[0m in \u001b[0;36mupdate\u001b[1;34m(self, *args)\u001b[0m\n\u001b[0;32m    254\u001b[0m                     \u001b[0mvalue\u001b[0m \u001b[1;33m=\u001b[0m \u001b[0mwidget\u001b[0m\u001b[1;33m.\u001b[0m\u001b[0mget_interact_value\u001b[0m\u001b[1;33m(\u001b[0m\u001b[1;33m)\u001b[0m\u001b[1;33m\u001b[0m\u001b[1;33m\u001b[0m\u001b[0m\n\u001b[0;32m    255\u001b[0m                     \u001b[0mself\u001b[0m\u001b[1;33m.\u001b[0m\u001b[0mkwargs\u001b[0m\u001b[1;33m[\u001b[0m\u001b[0mwidget\u001b[0m\u001b[1;33m.\u001b[0m\u001b[0m_kwarg\u001b[0m\u001b[1;33m]\u001b[0m \u001b[1;33m=\u001b[0m \u001b[0mvalue\u001b[0m\u001b[1;33m\u001b[0m\u001b[1;33m\u001b[0m\u001b[0m\n\u001b[1;32m--> 256\u001b[1;33m                 \u001b[0mself\u001b[0m\u001b[1;33m.\u001b[0m\u001b[0mresult\u001b[0m \u001b[1;33m=\u001b[0m \u001b[0mself\u001b[0m\u001b[1;33m.\u001b[0m\u001b[0mf\u001b[0m\u001b[1;33m(\u001b[0m\u001b[1;33m**\u001b[0m\u001b[0mself\u001b[0m\u001b[1;33m.\u001b[0m\u001b[0mkwargs\u001b[0m\u001b[1;33m)\u001b[0m\u001b[1;33m\u001b[0m\u001b[1;33m\u001b[0m\u001b[0m\n\u001b[0m\u001b[0;32m    257\u001b[0m                 \u001b[0mshow_inline_matplotlib_plots\u001b[0m\u001b[1;33m(\u001b[0m\u001b[1;33m)\u001b[0m\u001b[1;33m\u001b[0m\u001b[1;33m\u001b[0m\u001b[0m\n\u001b[0;32m    258\u001b[0m                 \u001b[1;32mif\u001b[0m \u001b[0mself\u001b[0m\u001b[1;33m.\u001b[0m\u001b[0mauto_display\u001b[0m \u001b[1;32mand\u001b[0m \u001b[0mself\u001b[0m\u001b[1;33m.\u001b[0m\u001b[0mresult\u001b[0m \u001b[1;32mis\u001b[0m \u001b[1;32mnot\u001b[0m \u001b[1;32mNone\u001b[0m\u001b[1;33m:\u001b[0m\u001b[1;33m\u001b[0m\u001b[1;33m\u001b[0m\u001b[0m\n",
          "\u001b[1;32m~\\AppData\\Roaming\\Python\\Python37\\site-packages\\pycaret\\nlp.py\u001b[0m in \u001b[0;36mplot_model\u001b[1;34m(model, plot, topic_num, save, system)\u001b[0m\n\u001b[0;32m   1850\u001b[0m         \u001b[1;32mexcept\u001b[0m\u001b[1;33m:\u001b[0m\u001b[1;33m\u001b[0m\u001b[1;33m\u001b[0m\u001b[0m\n\u001b[0;32m   1851\u001b[0m             \u001b[0mlogger\u001b[0m\u001b[1;33m.\u001b[0m\u001b[0mwarning\u001b[0m\u001b[1;33m(\u001b[0m\u001b[1;34m\"Invalid topic_num param or empty Vocab. Try changing Topic Number.\"\u001b[0m\u001b[1;33m)\u001b[0m\u001b[1;33m\u001b[0m\u001b[1;33m\u001b[0m\u001b[0m\n\u001b[1;32m-> 1852\u001b[1;33m             \u001b[0msys\u001b[0m\u001b[1;33m.\u001b[0m\u001b[0mexit\u001b[0m\u001b[1;33m(\u001b[0m\u001b[1;34m'(Value Error): Invalid topic_num param or empty Vocab. Try changing Topic Number.'\u001b[0m\u001b[1;33m)\u001b[0m\u001b[1;33m\u001b[0m\u001b[1;33m\u001b[0m\u001b[0m\n\u001b[0m\u001b[0;32m   1853\u001b[0m \u001b[1;33m\u001b[0m\u001b[0m\n\u001b[0;32m   1854\u001b[0m \u001b[1;33m\u001b[0m\u001b[0m\n",
          "\u001b[1;31mSystemExit\u001b[0m: (Value Error): Invalid topic_num param or empty Vocab. Try changing Topic Number."
         ]
        }
       ]
      }
     },
     "f0aa0b72c5d34fd6b0fdec52b7bc6792": {
      "model_module": "@jupyter-widgets/controls",
      "model_module_version": "1.5.0",
      "model_name": "ToggleButtonsModel",
      "state": {
       "_options_labels": [
        "Frequency Plot",
        "Bigrams",
        "Trigrams",
        "Sentiment Polarity",
        "Word Cloud"
       ],
       "button_style": "",
       "description": "Plot Type:",
       "icons": [
        ""
       ],
       "index": 1,
       "layout": "IPY_MODEL_b5f64572a64b4acd92ff3f379a591cbf",
       "style": "IPY_MODEL_5b6b8326f0a5417d876abb0002f1a002",
       "tooltips": []
      }
     },
     "f18573d6c3f34538a9334ae261aa7425": {
      "model_module": "@jupyter-widgets/controls",
      "model_module_version": "1.5.0",
      "model_name": "IntProgressModel",
      "state": {
       "description": "Processing: ",
       "layout": "IPY_MODEL_80183cf5fe844d7083166c3250f3fcaa",
       "max": 48,
       "style": "IPY_MODEL_5bcb2f51df654e0f8523e33e88d2609f",
       "value": 48
      }
     },
     "f27b48ee4d564e7b961c6cd5cb814990": {
      "model_module": "@jupyter-widgets/controls",
      "model_module_version": "1.5.0",
      "model_name": "IntProgressModel",
      "state": {
       "description": "Processing: ",
       "layout": "IPY_MODEL_57cac375ec6d4fd3b96900dc60fef2aa",
       "max": 48,
       "style": "IPY_MODEL_923076edcc1f4dd1ae098ee1879c5ad2",
       "value": 48
      }
     },
     "f471eca31f6e48c1bd81b6d2d26b8b72": {
      "model_module": "@jupyter-widgets/base",
      "model_module_version": "1.2.0",
      "model_name": "LayoutModel",
      "state": {}
     },
     "f90aba366131435b94408fae809d8109": {
      "model_module": "@jupyter-widgets/base",
      "model_module_version": "1.2.0",
      "model_name": "LayoutModel",
      "state": {}
     },
     "f998f6135090423c9f6adcabdd644be7": {
      "model_module": "@jupyter-widgets/controls",
      "model_module_version": "1.5.0",
      "model_name": "ProgressStyleModel",
      "state": {
       "description_width": ""
      }
     },
     "f99bff09f5564cecb7aac86ee3ba30f0": {
      "model_module": "@jupyter-widgets/base",
      "model_module_version": "1.2.0",
      "model_name": "LayoutModel",
      "state": {}
     },
     "f9a5a98739fa4ba6a81df3a08ed82c5a": {
      "model_module": "@jupyter-widgets/controls",
      "model_module_version": "1.5.0",
      "model_name": "ButtonStyleModel",
      "state": {}
     },
     "fa30d12576524391bd1a84daf0e5e3e2": {
      "model_module": "@jupyter-widgets/controls",
      "model_module_version": "1.5.0",
      "model_name": "DescriptionStyleModel",
      "state": {
       "description_width": ""
      }
     },
     "fa9507c53bc945c38aa156d272a76a16": {
      "model_module": "@jupyter-widgets/base",
      "model_module_version": "1.2.0",
      "model_name": "LayoutModel",
      "state": {}
     },
     "fae045083bb24cc5b7d9651f5abf55fd": {
      "model_module": "@jupyter-widgets/base",
      "model_module_version": "1.2.0",
      "model_name": "LayoutModel",
      "state": {}
     },
     "fbc08f74a0834df1ac913e55ca9f491b": {
      "model_module": "@jupyter-widgets/output",
      "model_module_version": "1.0.0",
      "model_name": "OutputModel",
      "state": {
       "layout": "IPY_MODEL_d63697bfc5fe40f1946b1f0fafd0982a"
      }
     },
     "fdc6a6ef75b44c73a1349f2dd0d7348a": {
      "model_module": "@jupyter-widgets/controls",
      "model_module_version": "1.5.0",
      "model_name": "ProgressStyleModel",
      "state": {
       "description_width": ""
      }
     },
     "fdd91b2e5fb84437a70dd6b50c6c9eee": {
      "model_module": "@jupyter-widgets/controls",
      "model_module_version": "1.5.0",
      "model_name": "ProgressStyleModel",
      "state": {
       "description_width": ""
      }
     },
     "fe7cffdc36954cb688f49536930c7e11": {
      "model_module": "@jupyter-widgets/base",
      "model_module_version": "1.2.0",
      "model_name": "LayoutModel",
      "state": {}
     }
    },
    "version_major": 2,
    "version_minor": 0
   }
  }
 },
 "nbformat": 4,
 "nbformat_minor": 2
}
