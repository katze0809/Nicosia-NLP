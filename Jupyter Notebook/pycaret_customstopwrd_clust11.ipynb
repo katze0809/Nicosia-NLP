{
 "cells": [
  {
   "cell_type": "code",
   "execution_count": 1,
   "metadata": {},
   "outputs": [],
   "source": [
    "import pandas as pd\n",
    "import glob"
   ]
  },
  {
   "cell_type": "markdown",
   "metadata": {},
   "source": [
    "# Positive Reviews"
   ]
  },
  {
   "cell_type": "code",
   "execution_count": 2,
   "metadata": {},
   "outputs": [
    {
     "data": {
      "text/html": [
       "<div>\n",
       "<style scoped>\n",
       "    .dataframe tbody tr th:only-of-type {\n",
       "        vertical-align: middle;\n",
       "    }\n",
       "\n",
       "    .dataframe tbody tr th {\n",
       "        vertical-align: top;\n",
       "    }\n",
       "\n",
       "    .dataframe thead th {\n",
       "        text-align: right;\n",
       "    }\n",
       "</style>\n",
       "<table border=\"1\" class=\"dataframe\">\n",
       "  <thead>\n",
       "    <tr style=\"text-align: right;\">\n",
       "      <th></th>\n",
       "      <th>Unnamed: 0</th>\n",
       "      <th>r_points</th>\n",
       "      <th>r_text</th>\n",
       "      <th>place</th>\n",
       "      <th>scores</th>\n",
       "      <th>compound</th>\n",
       "      <th>score</th>\n",
       "    </tr>\n",
       "  </thead>\n",
       "  <tbody>\n",
       "    <tr>\n",
       "      <th>0</th>\n",
       "      <td>0</td>\n",
       "      <td>50</td>\n",
       "      <td>We stayed for 2 days at the swallow boutique h...</td>\n",
       "      <td>Cypriot Swallow Boutique Hotel</td>\n",
       "      <td>{'neg': 0.0, 'neu': 0.673, 'pos': 0.327, 'comp...</td>\n",
       "      <td>0.9944</td>\n",
       "      <td>pos</td>\n",
       "    </tr>\n",
       "    <tr>\n",
       "      <th>1</th>\n",
       "      <td>1</td>\n",
       "      <td>50</td>\n",
       "      <td>When going to Nicosia, I do not think twice as...</td>\n",
       "      <td>Cypriot Swallow Boutique Hotel</td>\n",
       "      <td>{'neg': 0.0, 'neu': 0.781, 'pos': 0.219, 'comp...</td>\n",
       "      <td>0.8439</td>\n",
       "      <td>pos</td>\n",
       "    </tr>\n",
       "    <tr>\n",
       "      <th>2</th>\n",
       "      <td>2</td>\n",
       "      <td>50</td>\n",
       "      <td>Beatıfull clean rooms reasoble price per Day h...</td>\n",
       "      <td>Cypriot Swallow Boutique Hotel</td>\n",
       "      <td>{'neg': 0.0, 'neu': 0.72, 'pos': 0.28, 'compou...</td>\n",
       "      <td>0.9493</td>\n",
       "      <td>pos</td>\n",
       "    </tr>\n",
       "    <tr>\n",
       "      <th>3</th>\n",
       "      <td>3</td>\n",
       "      <td>40</td>\n",
       "      <td>Situated in a local neighborhood. Cozy (small)...</td>\n",
       "      <td>Cypriot Swallow Boutique Hotel</td>\n",
       "      <td>{'neg': 0.08, 'neu': 0.771, 'pos': 0.149, 'com...</td>\n",
       "      <td>0.8591</td>\n",
       "      <td>pos</td>\n",
       "    </tr>\n",
       "    <tr>\n",
       "      <th>4</th>\n",
       "      <td>4</td>\n",
       "      <td>50</td>\n",
       "      <td>My wife and I must have stayed at the Swallow ...</td>\n",
       "      <td>Cypriot Swallow Boutique Hotel</td>\n",
       "      <td>{'neg': 0.0, 'neu': 0.938, 'pos': 0.062, 'comp...</td>\n",
       "      <td>0.8258</td>\n",
       "      <td>pos</td>\n",
       "    </tr>\n",
       "    <tr>\n",
       "      <th>...</th>\n",
       "      <td>...</td>\n",
       "      <td>...</td>\n",
       "      <td>...</td>\n",
       "      <td>...</td>\n",
       "      <td>...</td>\n",
       "      <td>...</td>\n",
       "      <td>...</td>\n",
       "    </tr>\n",
       "    <tr>\n",
       "      <th>105</th>\n",
       "      <td>110</td>\n",
       "      <td>50</td>\n",
       "      <td>One of the three original gates which divide N...</td>\n",
       "      <td>Kyrenia Gate</td>\n",
       "      <td>{'neg': 0.0, 'neu': 0.844, 'pos': 0.156, 'comp...</td>\n",
       "      <td>0.8958</td>\n",
       "      <td>pos</td>\n",
       "    </tr>\n",
       "    <tr>\n",
       "      <th>106</th>\n",
       "      <td>112</td>\n",
       "      <td>40</td>\n",
       "      <td>One of the ancient gates into the CITY of Nico...</td>\n",
       "      <td>Kyrenia Gate</td>\n",
       "      <td>{'neg': 0.0, 'neu': 0.821, 'pos': 0.179, 'comp...</td>\n",
       "      <td>0.7506</td>\n",
       "      <td>pos</td>\n",
       "    </tr>\n",
       "    <tr>\n",
       "      <th>107</th>\n",
       "      <td>114</td>\n",
       "      <td>40</td>\n",
       "      <td>The Kyrenia Gate is one of the Venetian walls'...</td>\n",
       "      <td>Kyrenia Gate</td>\n",
       "      <td>{'neg': 0.0, 'neu': 0.962, 'pos': 0.038, 'comp...</td>\n",
       "      <td>0.4588</td>\n",
       "      <td>pos</td>\n",
       "    </tr>\n",
       "    <tr>\n",
       "      <th>108</th>\n",
       "      <td>115</td>\n",
       "      <td>50</td>\n",
       "      <td>Gate is part of the history of the Country wor...</td>\n",
       "      <td>Kyrenia Gate</td>\n",
       "      <td>{'neg': 0.0, 'neu': 0.661, 'pos': 0.339, 'comp...</td>\n",
       "      <td>0.7717</td>\n",
       "      <td>pos</td>\n",
       "    </tr>\n",
       "    <tr>\n",
       "      <th>109</th>\n",
       "      <td>116</td>\n",
       "      <td>40</td>\n",
       "      <td>Girne gate is now a tourist office. The staff ...</td>\n",
       "      <td>Kyrenia Gate</td>\n",
       "      <td>{'neg': 0.0, 'neu': 0.924, 'pos': 0.076, 'comp...</td>\n",
       "      <td>0.8356</td>\n",
       "      <td>pos</td>\n",
       "    </tr>\n",
       "  </tbody>\n",
       "</table>\n",
       "<p>110 rows × 7 columns</p>\n",
       "</div>"
      ],
      "text/plain": [
       "     Unnamed: 0  r_points                                             r_text  \\\n",
       "0             0        50  We stayed for 2 days at the swallow boutique h...   \n",
       "1             1        50  When going to Nicosia, I do not think twice as...   \n",
       "2             2        50  Beatıfull clean rooms reasoble price per Day h...   \n",
       "3             3        40  Situated in a local neighborhood. Cozy (small)...   \n",
       "4             4        50  My wife and I must have stayed at the Swallow ...   \n",
       "..          ...       ...                                                ...   \n",
       "105         110        50  One of the three original gates which divide N...   \n",
       "106         112        40  One of the ancient gates into the CITY of Nico...   \n",
       "107         114        40  The Kyrenia Gate is one of the Venetian walls'...   \n",
       "108         115        50  Gate is part of the history of the Country wor...   \n",
       "109         116        40  Girne gate is now a tourist office. The staff ...   \n",
       "\n",
       "                              place  \\\n",
       "0    Cypriot Swallow Boutique Hotel   \n",
       "1    Cypriot Swallow Boutique Hotel   \n",
       "2    Cypriot Swallow Boutique Hotel   \n",
       "3    Cypriot Swallow Boutique Hotel   \n",
       "4    Cypriot Swallow Boutique Hotel   \n",
       "..                              ...   \n",
       "105                    Kyrenia Gate   \n",
       "106                    Kyrenia Gate   \n",
       "107                    Kyrenia Gate   \n",
       "108                    Kyrenia Gate   \n",
       "109                    Kyrenia Gate   \n",
       "\n",
       "                                                scores  compound score  \n",
       "0    {'neg': 0.0, 'neu': 0.673, 'pos': 0.327, 'comp...    0.9944   pos  \n",
       "1    {'neg': 0.0, 'neu': 0.781, 'pos': 0.219, 'comp...    0.8439   pos  \n",
       "2    {'neg': 0.0, 'neu': 0.72, 'pos': 0.28, 'compou...    0.9493   pos  \n",
       "3    {'neg': 0.08, 'neu': 0.771, 'pos': 0.149, 'com...    0.8591   pos  \n",
       "4    {'neg': 0.0, 'neu': 0.938, 'pos': 0.062, 'comp...    0.8258   pos  \n",
       "..                                                 ...       ...   ...  \n",
       "105  {'neg': 0.0, 'neu': 0.844, 'pos': 0.156, 'comp...    0.8958   pos  \n",
       "106  {'neg': 0.0, 'neu': 0.821, 'pos': 0.179, 'comp...    0.7506   pos  \n",
       "107  {'neg': 0.0, 'neu': 0.962, 'pos': 0.038, 'comp...    0.4588   pos  \n",
       "108  {'neg': 0.0, 'neu': 0.661, 'pos': 0.339, 'comp...    0.7717   pos  \n",
       "109  {'neg': 0.0, 'neu': 0.924, 'pos': 0.076, 'comp...    0.8356   pos  \n",
       "\n",
       "[110 rows x 7 columns]"
      ]
     },
     "execution_count": 2,
     "metadata": {},
     "output_type": "execute_result"
    }
   ],
   "source": [
    "pos_review = pd.read_csv(r'C:\\Users\\Dell\\Desktop\\sentiment_cluster11_pos.csv')\n",
    "pos_review"
   ]
  },
  {
   "cell_type": "code",
   "execution_count": 3,
   "metadata": {},
   "outputs": [],
   "source": [
    "from pycaret.nlp import *"
   ]
  },
  {
   "cell_type": "code",
   "execution_count": 4,
   "metadata": {},
   "outputs": [
    {
     "data": {
      "text/html": [
       "<style  type=\"text/css\" >\n",
       "</style><table id=\"T_0d03371e_3268_11eb_b174_c48e8ff9d2e0\" ><thead>    <tr>        <th class=\"col_heading level0 col0\" >Description</th>        <th class=\"col_heading level0 col1\" >Value</th>    </tr></thead><tbody>\n",
       "                <tr>\n",
       "                                <td id=\"T_0d03371e_3268_11eb_b174_c48e8ff9d2e0row0_col0\" class=\"data row0 col0\" >session_id</td>\n",
       "                        <td id=\"T_0d03371e_3268_11eb_b174_c48e8ff9d2e0row0_col1\" class=\"data row0 col1\" >5869</td>\n",
       "            </tr>\n",
       "            <tr>\n",
       "                                <td id=\"T_0d03371e_3268_11eb_b174_c48e8ff9d2e0row1_col0\" class=\"data row1 col0\" >Documents</td>\n",
       "                        <td id=\"T_0d03371e_3268_11eb_b174_c48e8ff9d2e0row1_col1\" class=\"data row1 col1\" >110</td>\n",
       "            </tr>\n",
       "            <tr>\n",
       "                                <td id=\"T_0d03371e_3268_11eb_b174_c48e8ff9d2e0row2_col0\" class=\"data row2 col0\" >Vocab Size</td>\n",
       "                        <td id=\"T_0d03371e_3268_11eb_b174_c48e8ff9d2e0row2_col1\" class=\"data row2 col1\" >1191</td>\n",
       "            </tr>\n",
       "            <tr>\n",
       "                                <td id=\"T_0d03371e_3268_11eb_b174_c48e8ff9d2e0row3_col0\" class=\"data row3 col0\" >Custom Stopwords</td>\n",
       "                        <td id=\"T_0d03371e_3268_11eb_b174_c48e8ff9d2e0row3_col1\" class=\"data row3 col1\" >True</td>\n",
       "            </tr>\n",
       "    </tbody></table>"
      ],
      "text/plain": [
       "<pandas.io.formats.style.Styler at 0x19481c1ce88>"
      ]
     },
     "metadata": {},
     "output_type": "display_data"
    }
   ],
   "source": [
    "exp_nlp = setup(data = pos_review, target = 'r_text',\n",
    "                custom_stopwords = [ 'hotel', 'room', 'nice', 'good', 'excellent','restaurant', 'food'])"
   ]
  },
  {
   "cell_type": "code",
   "execution_count": 5,
   "metadata": {},
   "outputs": [
    {
     "name": "stdout",
     "output_type": "stream",
     "text": [
      "LdaModel(num_terms=1191, num_topics=4, decay=0.5, chunksize=100)\n"
     ]
    }
   ],
   "source": [
    "#create an LDA model\n",
    "lda_pos_custom = create_model('lda')\n",
    "print(lda_pos_custom)"
   ]
  },
  {
   "cell_type": "code",
   "execution_count": 6,
   "metadata": {},
   "outputs": [],
   "source": [
    "apply_lda_pos = assign_model(lda_pos_custom)"
   ]
  },
  {
   "cell_type": "code",
   "execution_count": 7,
   "metadata": {},
   "outputs": [
    {
     "data": {
      "text/html": [
       "<div>\n",
       "<style scoped>\n",
       "    .dataframe tbody tr th:only-of-type {\n",
       "        vertical-align: middle;\n",
       "    }\n",
       "\n",
       "    .dataframe tbody tr th {\n",
       "        vertical-align: top;\n",
       "    }\n",
       "\n",
       "    .dataframe thead th {\n",
       "        text-align: right;\n",
       "    }\n",
       "</style>\n",
       "<table border=\"1\" class=\"dataframe\">\n",
       "  <thead>\n",
       "    <tr style=\"text-align: right;\">\n",
       "      <th></th>\n",
       "      <th>Unnamed: 0</th>\n",
       "      <th>r_points</th>\n",
       "      <th>r_text</th>\n",
       "      <th>place</th>\n",
       "      <th>scores</th>\n",
       "      <th>compound</th>\n",
       "      <th>score</th>\n",
       "      <th>Topic_0</th>\n",
       "      <th>Topic_1</th>\n",
       "      <th>Topic_2</th>\n",
       "      <th>Topic_3</th>\n",
       "      <th>Dominant_Topic</th>\n",
       "      <th>Perc_Dominant_Topic</th>\n",
       "    </tr>\n",
       "  </thead>\n",
       "  <tbody>\n",
       "    <tr>\n",
       "      <th>0</th>\n",
       "      <td>0</td>\n",
       "      <td>50</td>\n",
       "      <td>stayed day swallow boutique really love locati...</td>\n",
       "      <td>Cypriot Swallow Boutique Hotel</td>\n",
       "      <td>{'neg': 0.0, 'neu': 0.673, 'pos': 0.327, 'comp...</td>\n",
       "      <td>0.9944</td>\n",
       "      <td>pos</td>\n",
       "      <td>0.167266</td>\n",
       "      <td>0.830685</td>\n",
       "      <td>0.000429</td>\n",
       "      <td>0.001620</td>\n",
       "      <td>Topic 1</td>\n",
       "      <td>0.83</td>\n",
       "    </tr>\n",
       "    <tr>\n",
       "      <th>1</th>\n",
       "      <td>1</td>\n",
       "      <td>50</td>\n",
       "      <td>go think twice want stay location perfect clos...</td>\n",
       "      <td>Cypriot Swallow Boutique Hotel</td>\n",
       "      <td>{'neg': 0.0, 'neu': 0.781, 'pos': 0.219, 'comp...</td>\n",
       "      <td>0.8439</td>\n",
       "      <td>pos</td>\n",
       "      <td>0.002529</td>\n",
       "      <td>0.990327</td>\n",
       "      <td>0.001496</td>\n",
       "      <td>0.005648</td>\n",
       "      <td>Topic 1</td>\n",
       "      <td>0.99</td>\n",
       "    </tr>\n",
       "    <tr>\n",
       "      <th>2</th>\n",
       "      <td>2</td>\n",
       "      <td>50</td>\n",
       "      <td>beatıfull clean reasoble price day helpfull fe...</td>\n",
       "      <td>Cypriot Swallow Boutique Hotel</td>\n",
       "      <td>{'neg': 0.0, 'neu': 0.72, 'pos': 0.28, 'compou...</td>\n",
       "      <td>0.9493</td>\n",
       "      <td>pos</td>\n",
       "      <td>0.988000</td>\n",
       "      <td>0.006617</td>\n",
       "      <td>0.001127</td>\n",
       "      <td>0.004255</td>\n",
       "      <td>Topic 0</td>\n",
       "      <td>0.99</td>\n",
       "    </tr>\n",
       "    <tr>\n",
       "      <th>3</th>\n",
       "      <td>3</td>\n",
       "      <td>40</td>\n",
       "      <td>situate local neighborhood cozy small clean mo...</td>\n",
       "      <td>Cypriot Swallow Boutique Hotel</td>\n",
       "      <td>{'neg': 0.08, 'neu': 0.771, 'pos': 0.149, 'com...</td>\n",
       "      <td>0.8591</td>\n",
       "      <td>pos</td>\n",
       "      <td>0.000835</td>\n",
       "      <td>0.393417</td>\n",
       "      <td>0.000494</td>\n",
       "      <td>0.605254</td>\n",
       "      <td>Topic 3</td>\n",
       "      <td>0.61</td>\n",
       "    </tr>\n",
       "    <tr>\n",
       "      <th>4</th>\n",
       "      <td>4</td>\n",
       "      <td>50</td>\n",
       "      <td>wife stayed swallow boutique time friend famil...</td>\n",
       "      <td>Cypriot Swallow Boutique Hotel</td>\n",
       "      <td>{'neg': 0.0, 'neu': 0.938, 'pos': 0.062, 'comp...</td>\n",
       "      <td>0.8258</td>\n",
       "      <td>pos</td>\n",
       "      <td>0.000835</td>\n",
       "      <td>0.996806</td>\n",
       "      <td>0.000494</td>\n",
       "      <td>0.001865</td>\n",
       "      <td>Topic 1</td>\n",
       "      <td>1.00</td>\n",
       "    </tr>\n",
       "    <tr>\n",
       "      <th>...</th>\n",
       "      <td>...</td>\n",
       "      <td>...</td>\n",
       "      <td>...</td>\n",
       "      <td>...</td>\n",
       "      <td>...</td>\n",
       "      <td>...</td>\n",
       "      <td>...</td>\n",
       "      <td>...</td>\n",
       "      <td>...</td>\n",
       "      <td>...</td>\n",
       "      <td>...</td>\n",
       "      <td>...</td>\n",
       "      <td>...</td>\n",
       "    </tr>\n",
       "    <tr>\n",
       "      <th>105</th>\n",
       "      <td>110</td>\n",
       "      <td>50</td>\n",
       "      <td>original gate divide part greek turkish impres...</td>\n",
       "      <td>Kyrenia Gate</td>\n",
       "      <td>{'neg': 0.0, 'neu': 0.844, 'pos': 0.156, 'comp...</td>\n",
       "      <td>0.8958</td>\n",
       "      <td>pos</td>\n",
       "      <td>0.001276</td>\n",
       "      <td>0.995119</td>\n",
       "      <td>0.000755</td>\n",
       "      <td>0.002850</td>\n",
       "      <td>Topic 1</td>\n",
       "      <td>1.00</td>\n",
       "    </tr>\n",
       "    <tr>\n",
       "      <th>106</th>\n",
       "      <td>112</td>\n",
       "      <td>40</td>\n",
       "      <td>ancient gate city venetian wall surround worth...</td>\n",
       "      <td>Kyrenia Gate</td>\n",
       "      <td>{'neg': 0.0, 'neu': 0.821, 'pos': 0.179, 'comp...</td>\n",
       "      <td>0.7506</td>\n",
       "      <td>pos</td>\n",
       "      <td>0.003146</td>\n",
       "      <td>0.010894</td>\n",
       "      <td>0.001862</td>\n",
       "      <td>0.984099</td>\n",
       "      <td>Topic 3</td>\n",
       "      <td>0.98</td>\n",
       "    </tr>\n",
       "    <tr>\n",
       "      <th>107</th>\n",
       "      <td>114</td>\n",
       "      <td>40</td>\n",
       "      <td>venetian wall gate know turkish part nicosia a...</td>\n",
       "      <td>Kyrenia Gate</td>\n",
       "      <td>{'neg': 0.0, 'neu': 0.962, 'pos': 0.038, 'comp...</td>\n",
       "      <td>0.4588</td>\n",
       "      <td>pos</td>\n",
       "      <td>0.001816</td>\n",
       "      <td>0.006289</td>\n",
       "      <td>0.001074</td>\n",
       "      <td>0.990821</td>\n",
       "      <td>Topic 3</td>\n",
       "      <td>0.99</td>\n",
       "    </tr>\n",
       "    <tr>\n",
       "      <th>108</th>\n",
       "      <td>115</td>\n",
       "      <td>50</td>\n",
       "      <td>gate part history country worth see also worth...</td>\n",
       "      <td>Kyrenia Gate</td>\n",
       "      <td>{'neg': 0.0, 'neu': 0.661, 'pos': 0.339, 'comp...</td>\n",
       "      <td>0.7717</td>\n",
       "      <td>pos</td>\n",
       "      <td>0.003146</td>\n",
       "      <td>0.987966</td>\n",
       "      <td>0.001862</td>\n",
       "      <td>0.007026</td>\n",
       "      <td>Topic 1</td>\n",
       "      <td>0.99</td>\n",
       "    </tr>\n",
       "    <tr>\n",
       "      <th>109</th>\n",
       "      <td>116</td>\n",
       "      <td>40</td>\n",
       "      <td>staff manage road map help drive northern part...</td>\n",
       "      <td>Kyrenia Gate</td>\n",
       "      <td>{'neg': 0.0, 'neu': 0.924, 'pos': 0.076, 'comp...</td>\n",
       "      <td>0.8356</td>\n",
       "      <td>pos</td>\n",
       "      <td>0.000914</td>\n",
       "      <td>0.003164</td>\n",
       "      <td>0.000541</td>\n",
       "      <td>0.995382</td>\n",
       "      <td>Topic 3</td>\n",
       "      <td>1.00</td>\n",
       "    </tr>\n",
       "  </tbody>\n",
       "</table>\n",
       "<p>110 rows × 13 columns</p>\n",
       "</div>"
      ],
      "text/plain": [
       "     Unnamed: 0  r_points                                             r_text  \\\n",
       "0             0        50  stayed day swallow boutique really love locati...   \n",
       "1             1        50  go think twice want stay location perfect clos...   \n",
       "2             2        50  beatıfull clean reasoble price day helpfull fe...   \n",
       "3             3        40  situate local neighborhood cozy small clean mo...   \n",
       "4             4        50  wife stayed swallow boutique time friend famil...   \n",
       "..          ...       ...                                                ...   \n",
       "105         110        50  original gate divide part greek turkish impres...   \n",
       "106         112        40  ancient gate city venetian wall surround worth...   \n",
       "107         114        40  venetian wall gate know turkish part nicosia a...   \n",
       "108         115        50  gate part history country worth see also worth...   \n",
       "109         116        40  staff manage road map help drive northern part...   \n",
       "\n",
       "                              place  \\\n",
       "0    Cypriot Swallow Boutique Hotel   \n",
       "1    Cypriot Swallow Boutique Hotel   \n",
       "2    Cypriot Swallow Boutique Hotel   \n",
       "3    Cypriot Swallow Boutique Hotel   \n",
       "4    Cypriot Swallow Boutique Hotel   \n",
       "..                              ...   \n",
       "105                    Kyrenia Gate   \n",
       "106                    Kyrenia Gate   \n",
       "107                    Kyrenia Gate   \n",
       "108                    Kyrenia Gate   \n",
       "109                    Kyrenia Gate   \n",
       "\n",
       "                                                scores  compound score  \\\n",
       "0    {'neg': 0.0, 'neu': 0.673, 'pos': 0.327, 'comp...    0.9944   pos   \n",
       "1    {'neg': 0.0, 'neu': 0.781, 'pos': 0.219, 'comp...    0.8439   pos   \n",
       "2    {'neg': 0.0, 'neu': 0.72, 'pos': 0.28, 'compou...    0.9493   pos   \n",
       "3    {'neg': 0.08, 'neu': 0.771, 'pos': 0.149, 'com...    0.8591   pos   \n",
       "4    {'neg': 0.0, 'neu': 0.938, 'pos': 0.062, 'comp...    0.8258   pos   \n",
       "..                                                 ...       ...   ...   \n",
       "105  {'neg': 0.0, 'neu': 0.844, 'pos': 0.156, 'comp...    0.8958   pos   \n",
       "106  {'neg': 0.0, 'neu': 0.821, 'pos': 0.179, 'comp...    0.7506   pos   \n",
       "107  {'neg': 0.0, 'neu': 0.962, 'pos': 0.038, 'comp...    0.4588   pos   \n",
       "108  {'neg': 0.0, 'neu': 0.661, 'pos': 0.339, 'comp...    0.7717   pos   \n",
       "109  {'neg': 0.0, 'neu': 0.924, 'pos': 0.076, 'comp...    0.8356   pos   \n",
       "\n",
       "      Topic_0   Topic_1   Topic_2   Topic_3 Dominant_Topic  \\\n",
       "0    0.167266  0.830685  0.000429  0.001620        Topic 1   \n",
       "1    0.002529  0.990327  0.001496  0.005648        Topic 1   \n",
       "2    0.988000  0.006617  0.001127  0.004255        Topic 0   \n",
       "3    0.000835  0.393417  0.000494  0.605254        Topic 3   \n",
       "4    0.000835  0.996806  0.000494  0.001865        Topic 1   \n",
       "..        ...       ...       ...       ...            ...   \n",
       "105  0.001276  0.995119  0.000755  0.002850        Topic 1   \n",
       "106  0.003146  0.010894  0.001862  0.984099        Topic 3   \n",
       "107  0.001816  0.006289  0.001074  0.990821        Topic 3   \n",
       "108  0.003146  0.987966  0.001862  0.007026        Topic 1   \n",
       "109  0.000914  0.003164  0.000541  0.995382        Topic 3   \n",
       "\n",
       "     Perc_Dominant_Topic  \n",
       "0                   0.83  \n",
       "1                   0.99  \n",
       "2                   0.99  \n",
       "3                   0.61  \n",
       "4                   1.00  \n",
       "..                   ...  \n",
       "105                 1.00  \n",
       "106                 0.98  \n",
       "107                 0.99  \n",
       "108                 0.99  \n",
       "109                 1.00  \n",
       "\n",
       "[110 rows x 13 columns]"
      ]
     },
     "execution_count": 7,
     "metadata": {},
     "output_type": "execute_result"
    }
   ],
   "source": [
    "apply_lda_pos"
   ]
  },
  {
   "cell_type": "code",
   "execution_count": 8,
   "metadata": {},
   "outputs": [
    {
     "data": {
      "application/vnd.jupyter.widget-view+json": {
       "model_id": "b05a0670c002471b88b77f26dccae181",
       "version_major": 2,
       "version_minor": 0
      },
      "text/plain": [
       "interactive(children=(ToggleButtons(description='Plot Type:', icons=('',), options=(('Frequency Plot', 'freque…"
      ]
     },
     "metadata": {},
     "output_type": "display_data"
    }
   ],
   "source": [
    "evaluate_model(lda_pos_custom)"
   ]
  },
  {
   "cell_type": "code",
   "execution_count": 9,
   "metadata": {},
   "outputs": [
    {
     "data": {
      "text/html": [
       "        <script type=\"text/javascript\">\n",
       "        window.PlotlyConfig = {MathJaxConfig: 'local'};\n",
       "        if (window.MathJax) {MathJax.Hub.Config({SVG: {font: \"STIX-Web\"}});}\n",
       "        if (typeof require !== 'undefined') {\n",
       "        require.undef(\"plotly\");\n",
       "        requirejs.config({\n",
       "            paths: {\n",
       "                'plotly': ['https://cdn.plot.ly/plotly-latest.min']\n",
       "            }\n",
       "        });\n",
       "        require(['plotly'], function(Plotly) {\n",
       "            window._Plotly = Plotly;\n",
       "        });\n",
       "        }\n",
       "        </script>\n",
       "        "
      ]
     },
     "metadata": {},
     "output_type": "display_data"
    },
    {
     "data": {
      "text/html": [
       "\n",
       "<link rel=\"stylesheet\" type=\"text/css\" href=\"https://cdn.rawgit.com/bmabey/pyLDAvis/files/ldavis.v1.0.0.css\">\n",
       "\n",
       "\n",
       "<div id=\"ldavis_el2137617374595884243241651652\"></div>\n",
       "<script type=\"text/javascript\">\n",
       "\n",
       "var ldavis_el2137617374595884243241651652_data = {\"mdsDat\": {\"x\": [-0.12380078809949116, -0.05424117325218634, 0.1399187070103568, 0.03812325434132068], \"y\": [-0.0555541586488235, 0.0963872870868622, -0.14808677186769972, 0.10725364342966104], \"topics\": [1, 2, 3, 4], \"cluster\": [1, 1, 1, 1], \"Freq\": [58.630950927734375, 18.220781326293945, 12.646897315979004, 10.501370429992676]}, \"tinfo\": {\"Term\": [\"gate\", \"walk\", \"part\", \"wall\", \"city\", \"map\", \"venetian\", \"worth\", \"take\", \"build\", \"period\", \"allow\", \"different\", \"turkish\", \"road\", \"make\", \"northern\", \"town\", \"history\", \"preserve\", \"information\", \"bus\", \"also\", \"tour\", \"well\", \"old\", \"visit\", \"look\", \"seem\", \"staff\", \"different\", \"people\", \"see\", \"way\", \"minute\", \"understand\", \"speak\", \"able\", \"live\", \"greek\", \"right\", \"change\", \"checkpoint\", \"daily\", \"want\", \"country\", \"day\", \"language\", \"divide\", \"picture\", \"moderately\", \"locality\", \"safety\", \"passport\", \"rich\", \"coin\", \"small\", \"go\", \"really\", \"perfect\", \"turkish\", \"stay\", \"even\", \"old\", \"also\", \"need\", \"worth\", \"tourist\", \"clean\", \"history\", \"place\", \"side\", \"breakfast\", \"part\", \"city\", \"walk\", \"well\", \"use\", \"gate\", \"take\", \"reach\", \"superb\", \"fix\", \"character\", \"ask\", \"issue\", \"tasty\", \"quickly\", \"doubt\", \"play\", \"music\", \"key\", \"adjacent\", \"obvious\", \"read\", \"hospitable\", \"quality\", \"lovingly\", \"refresh\", \"possible\", \"cosy\", \"wonderful\", \"money\", \"opportunity\", \"transport\", \"everyday\", \"still\", \"occupy\", \"fruit\", \"neighbourhood\", \"highly\", \"feel\", \"host\", \"comfortable\", \"helpful\", \"home\", \"beautiful\", \"make\", \"love\", \"welcome\", \"selay\", \"recommend\", \"extremely\", \"bathroom\", \"north\", \"well\", \"coffee\", \"breakfast\", \"place\", \"traditional\", \"homemade\", \"location\", \"staff\", \"great\", \"preserve\", \"locate\", \"visit\", \"friendly\", \"city\", \"stay\", \"walk\", \"venetian\", \"road\", \"tour\", \"build\", \"period\", \"line\", \"add\", \"lead\", \"architecture\", \"ancient\", \"inscription\", \"interest\", \"especially\", \"top\", \"section\", \"separately\", \"view\", \"exhibition\", \"military\", \"follow\", \"allow\", \"blue\", \"frequently\", \"suppose\", \"warn\", \"app\", \"church\", \"cover\", \"important\", \"leisurely\", \"map\", \"wall\", \"gate\", \"walk\", \"part\", \"city\", \"office\", \"seem\", \"take\", \"northern\", \"preserve\", \"worth\", \"information\", \"first\", \"surround\", \"look\", \"nicosia\", \"bus\", \"name\", \"visit\", \"town\", \"staff\", \"well\", \"old\", \"rate\", \"pay\", \"bag\", \"hire\", \"problem\", \"euro\", \"booking\", \"premise\", \"hairdryer\", \"particular\", \"winter\", \"fly\", \"sandwich\", \"ercan\", \"normally\", \"complaint\", \"meet\", \"later\", \"furnish\", \"freshly\", \"prepared\", \"luggage\", \"private\", \"produce\", \"leave\", \"poor\", \"suitable\", \"arrive\", \"double\", \"early\", \"taxi\", \"rise\", \"fridge\", \"book\", \"large\", \"sit\", \"serve\", \"welcome\", \"make\", \"bed\", \"bathroom\", \"night\", \"water\", \"owner\", \"quite\", \"tea\", \"give\", \"bit\", \"simple\", \"find\", \"easy\", \"breakfast\", \"friendly\"], \"Freq\": [37.0, 41.0, 37.0, 24.0, 36.0, 14.0, 9.0, 37.0, 20.0, 7.0, 7.0, 6.0, 31.0, 34.0, 5.0, 14.0, 10.0, 13.0, 23.0, 8.0, 9.0, 7.0, 28.0, 4.0, 28.0, 34.0, 16.0, 9.0, 5.0, 9.0, 31.091039657592773, 25.23058319091797, 23.459184646606445, 21.0448055267334, 20.013193130493164, 18.01511001586914, 15.197246551513672, 12.18199634552002, 12.174915313720703, 11.60103702545166, 10.960537910461426, 10.390311241149902, 10.38593864440918, 10.381237983703613, 18.13215446472168, 10.370464324951172, 31.054529190063477, 10.920442581176758, 9.762520790100098, 9.179996490478516, 9.179996490478516, 9.179869651794434, 9.17948055267334, 9.167901039123535, 9.167901039123535, 9.167901039123535, 19.705612182617188, 9.279582977294922, 12.640671730041504, 14.498835563659668, 30.538938522338867, 30.446550369262695, 13.649113655090332, 29.984262466430664, 24.360689163208008, 17.16661262512207, 31.007495880126953, 16.91385269165039, 16.79140853881836, 19.99767303466797, 31.025371551513672, 19.24144744873047, 24.20871925354004, 24.4622745513916, 23.52764892578125, 24.385196685791016, 19.076501846313477, 15.012970924377441, 20.217208862304688, 14.246304512023926, 1.8357853889465332, 1.8312857151031494, 1.8305171728134155, 2.350689172744751, 1.8018957376480103, 1.8274269104003906, 1.321385145187378, 1.3211369514465332, 1.3206799030303955, 1.3206082582473755, 1.3206080198287964, 1.3204280138015747, 1.3196640014648438, 1.3182591199874878, 1.31751549243927, 1.318416714668274, 1.318145990371704, 1.3179264068603516, 1.3176647424697876, 1.3171217441558838, 1.3173846006393433, 3.850672721862793, 1.3153237104415894, 1.3091763257980347, 1.308427095413208, 1.2989780902862549, 1.7993571758270264, 1.282737374305725, 1.8367818593978882, 1.319045901298523, 2.9511256217956543, 5.104456424713135, 4.679536819458008, 4.440629005432129, 4.729935646057129, 4.426335334777832, 3.2855160236358643, 4.954155445098877, 3.158280611038208, 2.7811241149902344, 3.58038592338562, 3.644719123840332, 2.269744634628296, 2.6822116374969482, 2.678772211074829, 6.181311130523682, 2.719132661819458, 6.018638610839844, 6.466628074645996, 3.0085463523864746, 1.8179895877838135, 2.293079137802124, 2.7840805053710938, 3.0505211353302, 2.5272278785705566, 2.5497519969940186, 2.9127283096313477, 2.6789803504943848, 3.401676654815674, 3.3285305500030518, 2.468323230743408, 8.866780281066895, 4.5004143714904785, 3.793982744216919, 6.2389020919799805, 5.702813148498535, 3.2603211402893066, 3.256204128265381, 3.082256317138672, 3.243079900741577, 3.0764009952545166, 2.9028029441833496, 2.90274715423584, 2.902733564376831, 2.902712345123291, 2.902704954147339, 2.902705669403076, 2.8992810249328613, 2.8993873596191406, 2.897981882095337, 2.897063732147217, 5.345794200897217, 2.723226547241211, 2.723226547241211, 2.723226547241211, 2.723226547241211, 2.723188638687134, 2.723188638687134, 2.723188638687134, 2.723188638687134, 2.723188638687134, 8.925106048583984, 12.734664916992188, 16.65199851989746, 14.407050132751465, 12.086586952209473, 9.633133888244629, 3.324460029602051, 3.419534921646118, 5.808530330657959, 4.313426494598389, 3.7879419326782227, 6.086299896240234, 3.826969623565674, 3.1767799854278564, 3.2087693214416504, 3.584822177886963, 3.284137010574341, 3.421959400177002, 3.1107113361358643, 3.6456596851348877, 3.4322121143341064, 3.267512321472168, 3.4695138931274414, 3.4905712604522705, 1.7442866563796997, 1.743106484413147, 1.3619898557662964, 1.3583245277404785, 1.3534350395202637, 0.9788782000541687, 0.978871762752533, 0.9780488014221191, 0.9780232310295105, 0.9778006076812744, 0.9771742224693298, 0.9768139719963074, 0.9768033623695374, 0.976789653301239, 0.9764004945755005, 0.9762960076332092, 0.9762834310531616, 0.9762769341468811, 0.9756366610527039, 0.9752235412597656, 0.9751499891281128, 0.9727891683578491, 0.9706146121025085, 0.9598503708839417, 1.3590947389602661, 0.9617867469787598, 1.3168962001800537, 1.7232310771942139, 1.273084282875061, 2.1032214164733887, 1.675107717514038, 1.6491299867630005, 1.6193652153015137, 2.0390963554382324, 1.6224627494812012, 1.3341386318206787, 1.8133491277694702, 1.7404247522354126, 2.3350753784179688, 1.8971542119979858, 1.6415648460388184, 1.9106181859970093, 1.2321693897247314, 1.9597351551055908, 1.4600183963775635, 1.440562129020691, 1.4407784938812256, 1.302734375, 1.0928452014923096, 1.5655373334884644, 1.2588125467300415, 1.5367445945739746, 1.281171441078186], \"Total\": [37.0, 41.0, 37.0, 24.0, 36.0, 14.0, 9.0, 37.0, 20.0, 7.0, 7.0, 6.0, 31.0, 34.0, 5.0, 14.0, 10.0, 13.0, 23.0, 8.0, 9.0, 7.0, 28.0, 4.0, 28.0, 34.0, 16.0, 9.0, 5.0, 9.0, 31.69927406311035, 25.87468147277832, 24.06843376159668, 21.650775909423828, 20.661787033081055, 18.624473571777344, 15.828702926635742, 12.801430702209473, 12.798771858215332, 12.204803466796875, 11.581056594848633, 10.994147300720215, 10.993014335632324, 10.991005897521973, 19.199588775634766, 10.986700057983398, 32.92100143432617, 11.588398933410645, 10.380548477172852, 9.783479690551758, 9.783479690551758, 9.783390998840332, 9.783406257629395, 9.781708717346191, 9.781708717346191, 9.781708717346191, 21.10979461669922, 9.949372291564941, 13.570688247680664, 15.727463722229004, 34.204925537109375, 34.2308464050293, 14.921401977539062, 34.67818069458008, 28.006351470947266, 19.211898803710938, 37.61259460449219, 19.21324920654297, 19.20960807800293, 23.729368209838867, 40.85825729370117, 23.273706436157227, 31.86775016784668, 37.070098876953125, 36.77788543701172, 41.48310089111328, 28.974365234375, 19.05059051513672, 37.49222183227539, 20.583087921142578, 2.491656541824341, 2.4913368225097656, 2.491987705230713, 3.2060787677764893, 2.647183418273926, 2.6938135623931885, 1.9746716022491455, 1.9745243787765503, 1.9742189645767212, 1.974145531654358, 1.9741458892822266, 1.9740673303604126, 1.9735854864120483, 1.9734548330307007, 1.9738342761993408, 1.9753177165985107, 1.975366473197937, 1.975377082824707, 1.975441336631775, 1.9747639894485474, 1.975295901298523, 5.775673866271973, 1.9739289283752441, 1.9666390419006348, 1.9761501550674438, 1.9784317016601562, 2.860384941101074, 2.130826950073242, 3.095689058303833, 2.3587255477905273, 5.929600238800049, 12.149126052856445, 11.687030792236328, 11.56692123413086, 12.855698585510254, 11.7286958694458, 7.68903923034668, 14.645975112915039, 7.4897541999816895, 6.285459518432617, 9.45312213897705, 10.048489570617676, 4.755428314208984, 6.58204460144043, 6.591610431671143, 28.974365234375, 7.180881023406982, 31.86775016784668, 40.85825729370117, 9.879329681396484, 3.704526424407959, 6.019301891326904, 9.707135200500488, 15.238017082214355, 8.524032592773438, 9.509974479675293, 16.058902740478516, 12.620977401733398, 36.77788543701172, 34.2308464050293, 41.48310089111328, 9.708810806274414, 5.40200138092041, 4.657926559448242, 7.699193000793457, 7.1576762199401855, 4.107365608215332, 4.11431884765625, 3.924293279647827, 4.148165702819824, 3.9351699352264404, 3.7444653511047363, 3.7445926666259766, 3.744621753692627, 3.744668483734131, 3.7446858882904053, 3.744690179824829, 3.7511277198791504, 3.752534866333008, 3.7558388710021973, 3.757920742034912, 6.958810329437256, 3.5649030208587646, 3.5649030208587646, 3.5649030208587646, 3.5649030208587646, 3.564992666244507, 3.564992666244507, 3.564992666244507, 3.564992666244507, 3.564992666244507, 14.240151405334473, 24.877811431884766, 37.49222183227539, 41.48310089111328, 37.070098876953125, 36.77788543701172, 5.165653228759766, 5.518362522125244, 20.583087921142578, 10.340136528015137, 8.524032592773438, 37.61259460449219, 9.785293579101562, 5.179563522338867, 5.41468620300293, 9.65914249420166, 6.553533554077148, 7.9511542320251465, 5.508963584899902, 16.058902740478516, 13.374523162841797, 9.707135200500488, 28.974365234375, 34.67818069458008, 2.4752683639526367, 2.47593092918396, 2.0917956829071045, 2.0938682556152344, 2.0966715812683105, 1.7087805271148682, 1.7087905406951904, 1.7092523574829102, 1.7092684507369995, 1.7093819379806519, 1.7097468376159668, 1.7099441289901733, 1.7099506855010986, 1.7099580764770508, 1.7101690769195557, 1.7102383375167847, 1.7102432250976562, 1.710247278213501, 1.7106006145477295, 1.7108314037322998, 1.7108721733093262, 1.7122219800949097, 1.7134835720062256, 1.7167351245880127, 2.7516560554504395, 1.9856982231140137, 2.722874641418457, 3.598372459411621, 2.7482964992523193, 4.609825134277344, 3.688873052597046, 3.7057862281799316, 3.7552273273468018, 5.748013496398926, 4.9669036865234375, 3.3307065963745117, 6.66723108291626, 6.285459518432617, 14.645975112915039, 8.900162696838379, 6.58204460144043, 10.245319366455078, 3.3774123191833496, 14.914167404174805, 6.685717582702637, 6.885115623474121, 8.158042907714844, 5.535646915435791, 2.7668747901916504, 19.63748550415039, 6.38670539855957, 31.86775016784668, 12.620977401733398], \"Category\": [\"Default\", \"Default\", \"Default\", \"Default\", \"Default\", \"Default\", \"Default\", \"Default\", \"Default\", \"Default\", \"Default\", \"Default\", \"Default\", \"Default\", \"Default\", \"Default\", \"Default\", \"Default\", \"Default\", \"Default\", \"Default\", \"Default\", \"Default\", \"Default\", \"Default\", \"Default\", \"Default\", \"Default\", \"Default\", \"Default\", \"Topic1\", \"Topic1\", \"Topic1\", \"Topic1\", \"Topic1\", \"Topic1\", \"Topic1\", \"Topic1\", \"Topic1\", \"Topic1\", \"Topic1\", \"Topic1\", \"Topic1\", \"Topic1\", \"Topic1\", \"Topic1\", \"Topic1\", \"Topic1\", \"Topic1\", \"Topic1\", \"Topic1\", \"Topic1\", \"Topic1\", \"Topic1\", \"Topic1\", \"Topic1\", \"Topic1\", \"Topic1\", \"Topic1\", \"Topic1\", \"Topic1\", \"Topic1\", \"Topic1\", \"Topic1\", \"Topic1\", \"Topic1\", \"Topic1\", \"Topic1\", \"Topic1\", \"Topic1\", \"Topic1\", \"Topic1\", \"Topic1\", \"Topic1\", \"Topic1\", \"Topic1\", \"Topic1\", \"Topic1\", \"Topic1\", \"Topic1\", \"Topic2\", \"Topic2\", \"Topic2\", \"Topic2\", \"Topic2\", \"Topic2\", \"Topic2\", \"Topic2\", \"Topic2\", \"Topic2\", \"Topic2\", \"Topic2\", \"Topic2\", \"Topic2\", \"Topic2\", \"Topic2\", \"Topic2\", \"Topic2\", \"Topic2\", \"Topic2\", \"Topic2\", \"Topic2\", \"Topic2\", \"Topic2\", \"Topic2\", \"Topic2\", \"Topic2\", \"Topic2\", \"Topic2\", \"Topic2\", \"Topic2\", \"Topic2\", \"Topic2\", \"Topic2\", \"Topic2\", \"Topic2\", \"Topic2\", \"Topic2\", \"Topic2\", \"Topic2\", \"Topic2\", \"Topic2\", \"Topic2\", \"Topic2\", \"Topic2\", \"Topic2\", \"Topic2\", \"Topic2\", \"Topic2\", \"Topic2\", \"Topic2\", \"Topic2\", \"Topic2\", \"Topic2\", \"Topic2\", \"Topic2\", \"Topic2\", \"Topic2\", \"Topic2\", \"Topic2\", \"Topic2\", \"Topic3\", \"Topic3\", \"Topic3\", \"Topic3\", \"Topic3\", \"Topic3\", \"Topic3\", \"Topic3\", \"Topic3\", \"Topic3\", \"Topic3\", \"Topic3\", \"Topic3\", \"Topic3\", \"Topic3\", \"Topic3\", \"Topic3\", \"Topic3\", \"Topic3\", \"Topic3\", \"Topic3\", \"Topic3\", \"Topic3\", \"Topic3\", \"Topic3\", \"Topic3\", \"Topic3\", \"Topic3\", \"Topic3\", \"Topic3\", \"Topic3\", \"Topic3\", \"Topic3\", \"Topic3\", \"Topic3\", \"Topic3\", \"Topic3\", \"Topic3\", \"Topic3\", \"Topic3\", \"Topic3\", \"Topic3\", \"Topic3\", \"Topic3\", \"Topic3\", \"Topic3\", \"Topic3\", \"Topic3\", \"Topic3\", \"Topic3\", \"Topic3\", \"Topic3\", \"Topic3\", \"Topic3\", \"Topic4\", \"Topic4\", \"Topic4\", \"Topic4\", \"Topic4\", \"Topic4\", \"Topic4\", \"Topic4\", \"Topic4\", \"Topic4\", \"Topic4\", \"Topic4\", \"Topic4\", \"Topic4\", \"Topic4\", \"Topic4\", \"Topic4\", \"Topic4\", \"Topic4\", \"Topic4\", \"Topic4\", \"Topic4\", \"Topic4\", \"Topic4\", \"Topic4\", \"Topic4\", \"Topic4\", \"Topic4\", \"Topic4\", \"Topic4\", \"Topic4\", \"Topic4\", \"Topic4\", \"Topic4\", \"Topic4\", \"Topic4\", \"Topic4\", \"Topic4\", \"Topic4\", \"Topic4\", \"Topic4\", \"Topic4\", \"Topic4\", \"Topic4\", \"Topic4\", \"Topic4\", \"Topic4\", \"Topic4\", \"Topic4\", \"Topic4\", \"Topic4\", \"Topic4\", \"Topic4\"], \"logprob\": [30.0, 29.0, 28.0, 27.0, 26.0, 25.0, 24.0, 23.0, 22.0, 21.0, 20.0, 19.0, 18.0, 17.0, 16.0, 15.0, 14.0, 13.0, 12.0, 11.0, 10.0, 9.0, 8.0, 7.0, 6.0, 5.0, 4.0, 3.0, 2.0, 1.0, -4.327499866485596, -4.536300182342529, -4.609099864959717, -4.717700004577637, -4.76800012588501, -4.873199939727783, -5.043300151824951, -5.264400005340576, -5.264999866485596, -5.313300132751465, -5.370100021362305, -5.423500061035156, -5.423900127410889, -5.4243998527526855, -4.866700172424316, -5.4253997802734375, -4.32859992980957, -5.373700141906738, -5.485799789428711, -5.547399997711182, -5.547399997711182, -5.547399997711182, -5.547399997711182, -5.548699855804443, -5.548699855804443, -5.548699855804443, -4.7835001945495605, -5.536600112915039, -5.227499961853027, -5.0903000831604, -4.345399856567383, -4.348400115966797, -5.150700092315674, -4.363699913024902, -4.571400165557861, -4.92140007019043, -4.3302001953125, -4.936299800872803, -4.94350004196167, -4.768799781799316, -4.329599857330322, -4.807300090789795, -4.577700138092041, -4.567299842834473, -4.606200218200684, -4.570400238037109, -4.815899848937988, -5.055500030517578, -4.757800102233887, -5.107900142669678, -5.9882001876831055, -5.990699768066406, -5.991099834442139, -5.741000175476074, -6.006800174713135, -5.992800235748291, -6.316999912261963, -6.317200183868408, -6.317500114440918, -6.317599773406982, -6.317599773406982, -6.317699909210205, -6.318299770355225, -6.319399833679199, -6.319900035858154, -6.319300174713135, -6.319499969482422, -6.3196001052856445, -6.319799900054932, -6.320199966430664, -6.320000171661377, -5.247399806976318, -6.321599960327148, -6.326300144195557, -6.326900005340576, -6.334099769592285, -6.008299827575684, -6.346700191497803, -5.98769998550415, -6.31879997253418, -5.513500213623047, -4.96560001373291, -5.052499771118164, -5.104899883270264, -5.041800022125244, -5.108099937438965, -5.406199932098389, -4.995500087738037, -5.445700168609619, -5.572800159454346, -5.320199966430664, -5.3024001121521, -5.776000022888184, -5.609000205993652, -5.610300064086914, -4.774199962615967, -5.595399856567383, -4.80079984664917, -4.729000091552734, -5.494200229644775, -5.998000144958496, -5.7657999992370605, -5.571800231933594, -5.480400085449219, -5.668600082397461, -5.6596999168396, -5.526599884033203, -5.610199928283691, -5.371399879455566, -5.393199920654297, -5.6921000480651855, -4.0482001304626465, -4.726399898529053, -4.89709997177124, -4.399700164794922, -4.48960018157959, -5.048699855804443, -5.050000190734863, -5.104899883270264, -5.053999900817871, -5.106800079345703, -5.164899826049805, -5.164899826049805, -5.164899826049805, -5.164899826049805, -5.164899826049805, -5.164899826049805, -5.166100025177002, -5.165999889373779, -5.166500091552734, -5.166800022125244, -4.554200172424316, -5.228700160980225, -5.228700160980225, -5.228700160980225, -5.228700160980225, -5.228700160980225, -5.228700160980225, -5.228700160980225, -5.228700160980225, -5.228700160980225, -4.0416998863220215, -3.686199903488159, -3.4179999828338623, -3.5627999305725098, -3.7383999824523926, -3.9653000831604004, -5.029200077056885, -5.000999927520752, -4.471199989318848, -4.768799781799316, -4.89870023727417, -4.424499988555908, -4.888500213623047, -5.074699878692627, -5.064599990844727, -4.953800201416016, -5.041399955749512, -5.00029993057251, -5.095699787139893, -4.936999797821045, -4.997300148010254, -5.046500205993652, -4.986499786376953, -4.980500221252441, -5.48829984664917, -5.488999843597412, -5.7357001304626465, -5.738399982452393, -5.742000102996826, -6.065999984741211, -6.065999984741211, -6.066800117492676, -6.066800117492676, -6.0671000480651855, -6.067699909210205, -6.0680999755859375, -6.0680999755859375, -6.0680999755859375, -6.06850004196167, -6.068600177764893, -6.068600177764893, -6.068600177764893, -6.069300174713135, -6.069699764251709, -6.069799900054932, -6.072199821472168, -6.07450008392334, -6.085599899291992, -5.737800121307373, -6.083600044250488, -5.7692999839782715, -5.500400066375732, -5.803199768066406, -5.301199913024902, -5.52869987487793, -5.544400215148926, -5.562600135803223, -5.332099914550781, -5.560699939727783, -5.75629997253418, -5.44950008392334, -5.490499973297119, -5.196599960327148, -5.404300212860107, -5.548999786376953, -5.397200107574463, -5.8358001708984375, -5.371799945831299, -5.666200160980225, -5.679599761962891, -5.6793999671936035, -5.780200004577637, -5.9558000564575195, -5.596399784088135, -5.814499855041504, -5.614999771118164, -5.796899795532227], \"loglift\": [30.0, 29.0, 28.0, 27.0, 26.0, 25.0, 24.0, 23.0, 22.0, 21.0, 20.0, 19.0, 18.0, 17.0, 16.0, 15.0, 14.0, 13.0, 12.0, 11.0, 10.0, 9.0, 8.0, 7.0, 6.0, 5.0, 4.0, 3.0, 2.0, 1.0, 0.5145000219345093, 0.5087000131607056, 0.5083000063896179, 0.5055000185966492, 0.5019999742507935, 0.5005999803543091, 0.49320000410079956, 0.48429998755455017, 0.4839000105857849, 0.4832000136375427, 0.4787999987602234, 0.477400004863739, 0.4771000146865845, 0.47679999470710754, 0.4767000079154968, 0.47620001435279846, 0.4754999876022339, 0.47450000047683716, 0.4724999964237213, 0.4702000021934509, 0.4702000021934509, 0.4702000021934509, 0.4702000021934509, 0.4690999984741211, 0.4690999984741211, 0.4690999984741211, 0.4650999903678894, 0.4641999900341034, 0.4629000127315521, 0.45260000228881836, 0.4205000102519989, 0.41679999232292175, 0.4447999894618988, 0.38850000500679016, 0.3944000005722046, 0.4212999939918518, 0.3407999873161316, 0.40639999508857727, 0.399399995803833, 0.3628000020980835, 0.25859999656677246, 0.34360000491142273, 0.2590000033378601, 0.11819999665021896, 0.08720000088214874, 0.0026000000070780516, 0.11599999666213989, 0.2957000136375427, -0.08370000123977661, 0.16590000689029694, 1.3970999717712402, 1.3947999477386475, 1.3940999507904053, 1.392300009727478, 1.3179999589920044, 1.3145999908447266, 1.3008999824523926, 1.3007999658584595, 1.3006000518798828, 1.3006000518798828, 1.3006000518798828, 1.3005000352859497, 1.3000999689102173, 1.2991000413894653, 1.2984000444412231, 1.29830002784729, 1.2980999946594238, 1.2978999614715576, 1.297700047492981, 1.2976000308990479, 1.2975000143051147, 1.2971999645233154, 1.2967000007629395, 1.295699954032898, 1.2903000116348267, 1.2819000482559204, 1.2390999794006348, 1.195099949836731, 1.1806000471115112, 1.121399998664856, 1.0047999620437622, 0.8355000019073486, 0.7872999906539917, 0.7452999949455261, 0.7027000188827515, 0.7281000018119812, 0.8522999882698059, 0.6187000274658203, 0.8391000032424927, 0.8871999979019165, 0.7317000031471252, 0.6884999871253967, 0.9629999995231628, 0.8048999905586243, 0.8022000193595886, 0.15770000219345093, 0.7315000295639038, 0.03590000048279762, -0.14079999923706055, 0.5135999917984009, 0.9908000230789185, 0.737500011920929, 0.4537000060081482, 0.0940999984741211, 0.4867999851703644, 0.3862999975681305, -0.004600000102072954, 0.1527000069618225, -0.6779999732971191, -0.628000020980835, -1.1190999746322632, 1.9769999980926514, 1.885200023651123, 1.8625999689102173, 1.8573999404907227, 1.840499997138977, 1.8367999792099, 1.833799958229065, 1.826200008392334, 1.8215999603271484, 1.8215999603271484, 1.8131999969482422, 1.813099980354309, 1.813099980354309, 1.813099980354309, 1.813099980354309, 1.813099980354309, 1.8101999759674072, 1.8098000288009644, 1.808500051498413, 1.8076000213623047, 1.8041000366210938, 1.7984000444412231, 1.7984000444412231, 1.7984000444412231, 1.7984000444412231, 1.7984000444412231, 1.7984000444412231, 1.7984000444412231, 1.7984000444412231, 1.7984000444412231, 1.600600004196167, 1.3981000185012817, 1.2561999559402466, 1.010200023651123, 0.9470000267028809, 0.7281000018119812, 1.6269999742507935, 1.5892000198364258, 0.8026000261306763, 1.19350004196167, 1.256700038909912, 0.24650000035762787, 1.128999948501587, 1.5788999795913696, 1.5444999933242798, 1.0765999555587769, 1.3768999576568604, 1.2246999740600586, 1.4961999654769897, 0.5849999785423279, 0.7075999975204468, 0.9789000153541565, -0.05460000038146973, -0.22830000519752502, 1.9036999940872192, 1.9026999473571777, 1.8245999813079834, 1.8208999633789062, 1.815999984741211, 1.6964999437332153, 1.6964999437332153, 1.6953999996185303, 1.6953999996185303, 1.695099949836731, 1.694200038909912, 1.6936999559402466, 1.6936999559402466, 1.6936999559402466, 1.6931999921798706, 1.6929999589920044, 1.6929999589920044, 1.6929999589920044, 1.692199945449829, 1.69159996509552, 1.691499948501587, 1.6883000135421753, 1.6852999925613403, 1.6722999811172485, 1.54830002784729, 1.5286999940872192, 1.5273000001907349, 1.5174000263214111, 1.4840999841690063, 1.4688999652862549, 1.4642000198364258, 1.444000005722046, 1.412500023841858, 1.2173000574111938, 1.1347999572753906, 1.3387999534606934, 0.9516000151634216, 0.9696000218391418, 0.41749998927116394, 0.7078999876976013, 0.8650000095367432, 0.5742999911308289, 1.245300054550171, 0.22419999539852142, 0.7321000099182129, 0.689300000667572, 0.5198000073432922, 0.8069000244140625, 1.3246999979019165, -0.27549999952316284, 0.6295999884605408, -0.7782999873161316, -0.033900000154972076]}, \"token.table\": {\"Topic\": [1, 3, 2, 3, 4, 1, 3, 3, 3, 3, 1, 2, 4, 2, 4, 1, 2, 4, 1, 2, 1, 2, 4, 1, 3, 4, 3, 1, 2, 4, 4, 1, 2, 4, 1, 3, 1, 3, 1, 2, 1, 3, 1, 2, 3, 1, 2, 4, 1, 2, 1, 1, 2, 4, 2, 1, 3, 1, 1, 2, 1, 1, 1, 4, 2, 1, 2, 4, 1, 4, 4, 3, 4, 1, 4, 2, 3, 1, 2, 1, 2, 1, 2, 3, 4, 2, 3, 4, 2, 4, 3, 3, 4, 1, 4, 1, 2, 4, 1, 2, 4, 1, 3, 1, 2, 4, 1, 1, 2, 4, 1, 4, 1, 2, 1, 2, 4, 1, 3, 1, 2, 1, 2, 2, 1, 2, 3, 1, 2, 3, 3, 3, 2, 2, 1, 1, 4, 4, 3, 2, 4, 3, 3, 1, 1, 1, 2, 1, 2, 1, 2, 3, 1, 2, 4, 2, 4, 1, 2, 4, 1, 2, 3, 4, 3, 1, 1, 2, 2, 1, 2, 3, 1, 2, 2, 4, 1, 2, 3, 4, 1, 4, 4, 2, 3, 4, 1, 2, 3, 4, 2, 2, 1, 3, 1, 2, 3, 2, 1, 2, 4, 1, 3, 4, 1, 4, 1, 1, 2, 1, 3, 1, 1, 2, 3, 2, 4, 2, 4, 4, 1, 2, 3, 4, 4, 4, 2, 2, 1, 2, 4, 4, 2, 2, 1, 2, 1, 2, 2, 1, 1, 1, 4, 3, 1, 4, 3, 1, 1, 3, 1, 2, 3, 1, 4, 1, 2, 3, 1, 2, 4, 1, 2, 3, 4, 1, 2, 1, 1, 2, 3, 1, 2, 2, 4, 1, 4, 2, 3, 1, 3, 1, 3, 2, 1, 2, 4, 1, 4, 3, 3, 1, 2, 1, 3, 1, 2, 4, 2, 1, 3, 1, 1, 2, 3, 3, 3, 1, 2, 3, 1, 2, 3, 1, 3, 1, 4, 3, 1, 4, 1, 1, 2, 4, 1, 2, 3, 4, 1, 2, 1, 3], \"Freq\": [0.9373952150344849, 0.7291607856750488, 0.5066919922828674, 0.7185136079788208, 0.14370273053646088, 0.8569484949111938, 0.10711856186389923, 0.7623559236526489, 0.8415164351463318, 0.7232112288475037, 0.27790340781211853, 0.27790340781211853, 0.5558068156242371, 0.7555199861526489, 0.4780581593513489, 0.3038569390773773, 0.4557854235172272, 0.3038569390773773, 0.5202210545539856, 0.390165776014328, 0.674144983291626, 0.112357497215271, 0.224714994430542, 0.1806473582983017, 0.5419420599937439, 0.1806473582983017, 0.841537594795227, 0.34794628620147705, 0.17397314310073853, 0.34794628620147705, 0.5852092504501343, 0.7531124949455261, 0.18827812373638153, 0.06275936961174011, 0.12988373637199402, 0.7793024778366089, 0.5030716061592102, 0.37730371952056885, 0.9095748662948608, 0.6238150000572205, 0.9096686244010925, 0.8415164351463318, 0.6525660753250122, 0.08157075941562653, 0.27190253138542175, 0.8849738240242004, 0.10411456227302551, 0.052057281136512756, 0.5570347309112549, 0.41777604818344116, 0.9200846552848816, 0.6051740050315857, 0.34581372141838074, 0.5847138166427612, 0.5062532424926758, 0.9101914167404175, 0.8415164351463318, 0.9098348021507263, 0.9416481256484985, 0.06075149402022362, 0.9779403805732727, 0.9633402228355408, 0.3638617694377899, 0.3638617694377899, 0.5065294504165649, 0.43385595083236694, 0.21692797541618347, 0.43385595083236694, 0.7828762531280518, 0.1565752476453781, 0.5848096609115601, 0.8011490106582642, 0.5852126479148865, 0.9382496476173401, 0.06701783090829849, 0.5054508447647095, 0.7994595766067505, 0.4205720126628876, 0.4205720126628876, 0.5761731266975403, 0.4115522503852844, 0.6619992256164551, 0.05092301592230797, 0.1527690440416336, 0.10184603184461594, 0.19306646287441254, 0.5791993737220764, 0.19306646287441254, 0.8025721907615662, 0.5848144292831421, 0.7983137965202332, 0.841537594795227, 0.5845111608505249, 0.532590925693512, 0.532590925693512, 0.7130984663963318, 0.237699493765831, 0.07923316955566406, 0.32302984595298767, 0.6460596919059753, 0.5845900177955627, 0.5334439873695374, 0.45342737436294556, 0.7354705333709717, 0.12257841974496841, 0.12257841974496841, 0.9045796990394592, 0.721878707408905, 0.19687600433826447, 0.06562533974647522, 0.9832194447517395, 0.5850456357002258, 0.6222921013832092, 0.38893258571624756, 0.505936324596405, 0.505936324596405, 0.47758495807647705, 0.8428374528884888, 0.1264256089925766, 0.5968267917633057, 0.3410438895225525, 0.539880096912384, 0.539880096912384, 0.5062476992607117, 0.5989544987678528, 0.4278246760368347, 0.8415164351463318, 0.4087767004966736, 0.2043883502483368, 0.4087767004966736, 0.8011824488639832, 0.8011552095413208, 0.7424418926239014, 0.5065683126449585, 0.9492251873016357, 0.6039980053901672, 0.4026653468608856, 0.5847107768058777, 0.7644688487052917, 0.36341750621795654, 0.36341750621795654, 0.8415164351463318, 0.7303951978683472, 0.9375899434089661, 0.9199264049530029, 0.6309165358543396, 0.3154582679271698, 0.4983966648578644, 0.3322644531726837, 0.41411542892456055, 0.20705771446228027, 0.41411542892456055, 0.534062922000885, 0.40054717659950256, 0.13351573050022125, 0.5062324404716492, 0.5840364098548889, 0.4779469966888428, 0.3413907289505005, 0.13655628263950348, 0.2808958888053894, 0.07022397220134735, 0.6320157647132874, 0.5847121477127075, 0.7987563014030457, 0.9679704904556274, 0.9199181199073792, 0.5066038370132446, 0.5065481662750244, 0.18152235448360443, 0.18152235448360443, 0.5445670485496521, 0.8848682641983032, 0.10410214960575104, 0.4239577651023865, 0.4239577651023865, 0.15258944034576416, 0.15258944034576416, 0.4577683210372925, 0.15258944034576416, 0.7808443903923035, 0.19521109759807587, 0.5847374796867371, 0.45512399077415466, 0.45512399077415466, 0.1517079919576645, 0.38684210181236267, 0.09671052545309067, 0.38684210181236267, 0.09671052545309067, 0.506725549697876, 0.46930137276649475, 0.19358636438846588, 0.5807590484619141, 0.8650972843170166, 0.028836576268076897, 0.08650972694158554, 0.5084817409515381, 0.8046041131019592, 0.06705033779144287, 0.13410067558288574, 0.6474220752716064, 0.3237110376358032, 0.5850067734718323, 0.9200846552848816, 0.8077769875526428, 0.9661954641342163, 0.8901625871658325, 0.06358304619789124, 0.13971014320850372, 0.8382608890533447, 0.9199181199073792, 0.7587205767631531, 0.1468491405248642, 0.0734245702624321, 0.506548285484314, 0.5036011934280396, 0.5063896179199219, 0.5850511193275452, 0.5844972133636475, 0.2346307337284088, 0.351946085691452, 0.4692614674568176, 0.5836064219474792, 0.4769464135169983, 0.5825010538101196, 0.5062351822853088, 0.5064510703086853, 0.5982903242111206, 0.14957258105278015, 0.14957258105278015, 0.8079931735992432, 0.8026788234710693, 0.506628155708313, 0.9579470157623291, 0.07368823140859604, 0.5971046686172485, 0.3980697691440582, 0.5062159895896912, 0.9200846552848816, 0.9498269557952881, 0.2698482573032379, 0.5396965146064758, 0.9255828857421875, 0.9199249744415283, 0.5848121643066406, 0.8011353015899658, 0.9556084871292114, 0.1812131702899933, 0.5436395406723022, 0.6347109079360962, 0.42314061522483826, 0.8011343479156494, 0.5999491810798645, 0.29997459053993225, 0.8163719177246094, 0.042966943234205246, 0.12890082597732544, 0.36141860485076904, 0.36141860485076904, 0.36141860485076904, 0.3002365827560425, 0.3002365827560425, 0.3002365827560425, 0.3002365827560425, 0.94742751121521, 0.04737137630581856, 0.9476455450057983, 0.3090510070323944, 0.3090510070323944, 0.3090510070323944, 0.8764024972915649, 0.08764024823904037, 0.6992065906524658, 0.3496032953262329, 0.3672589063644409, 0.3672589063644409, 0.802781879901886, 0.841537594795227, 0.3693658113479614, 0.5540487170219421, 0.6801700592041016, 0.2915014624595642, 0.5064133405685425, 0.2710855007171631, 0.2710855007171631, 0.5421710014343262, 0.7262042164802551, 0.14524084329605103, 0.8011389970779419, 0.8587511777877808, 0.8848060965538025, 0.10409483313560486, 0.6729211807250977, 0.22430706024169922, 0.6073286533355713, 0.30366432666778564, 0.10122144222259521, 0.5060344338417053, 0.9063022136688232, 0.08770667016506195, 0.9664702415466309, 0.7873771786689758, 0.05249181017279625, 0.15747542679309845, 0.9269930124282837, 0.7997595071792603, 0.5604367852210999, 0.18681226670742035, 0.2490830272436142, 0.5785488486289978, 0.048212405294179916, 0.3374868333339691, 0.48235753178596497, 0.5225539803504944, 0.9375200867652893, 0.05208444967865944, 0.841537594795227, 0.5921693444252014, 0.2960846722126007, 0.9699421525001526, 0.318194717168808, 0.4772920608520508, 0.318194717168808, 0.6557520627975464, 0.20707960426807404, 0.10353980213403702, 0.5848819017410278, 0.34627994894981384, 0.6925598978996277, 0.8241919875144958, 0.15952102839946747], \"Term\": [\"able\", \"add\", \"adjacent\", \"allow\", \"allow\", \"also\", \"also\", \"ancient\", \"app\", \"architecture\", \"arrive\", \"arrive\", \"arrive\", \"ask\", \"bag\", \"bathroom\", \"bathroom\", \"bathroom\", \"beautiful\", \"beautiful\", \"bed\", \"bed\", \"bed\", \"bit\", \"bit\", \"bit\", \"blue\", \"book\", \"book\", \"book\", \"booking\", \"breakfast\", \"breakfast\", \"breakfast\", \"build\", \"build\", \"bus\", \"bus\", \"change\", \"character\", \"checkpoint\", \"church\", \"city\", \"city\", \"city\", \"clean\", \"clean\", \"clean\", \"coffee\", \"coffee\", \"coin\", \"comfortable\", \"comfortable\", \"complaint\", \"cosy\", \"country\", \"cover\", \"daily\", \"day\", \"day\", \"different\", \"divide\", \"double\", \"double\", \"doubt\", \"early\", \"early\", \"early\", \"easy\", \"easy\", \"ercan\", \"especially\", \"euro\", \"even\", \"even\", \"everyday\", \"exhibition\", \"extremely\", \"extremely\", \"feel\", \"feel\", \"find\", \"find\", \"find\", \"find\", \"first\", \"first\", \"first\", \"fix\", \"fly\", \"follow\", \"frequently\", \"freshly\", \"fridge\", \"fridge\", \"friendly\", \"friendly\", \"friendly\", \"fruit\", \"fruit\", \"furnish\", \"gate\", \"gate\", \"give\", \"give\", \"give\", \"go\", \"great\", \"great\", \"great\", \"greek\", \"hairdryer\", \"helpful\", \"helpful\", \"highly\", \"highly\", \"hire\", \"history\", \"history\", \"home\", \"home\", \"homemade\", \"homemade\", \"hospitable\", \"host\", \"host\", \"important\", \"information\", \"information\", \"information\", \"inscription\", \"interest\", \"issue\", \"key\", \"language\", \"large\", \"large\", \"later\", \"lead\", \"leave\", \"leave\", \"leisurely\", \"line\", \"live\", \"locality\", \"locate\", \"locate\", \"location\", \"location\", \"look\", \"look\", \"look\", \"love\", \"love\", \"love\", \"lovingly\", \"luggage\", \"make\", \"make\", \"make\", \"map\", \"map\", \"map\", \"meet\", \"military\", \"minute\", \"moderately\", \"money\", \"music\", \"name\", \"name\", \"name\", \"need\", \"need\", \"neighbourhood\", \"neighbourhood\", \"nicosia\", \"nicosia\", \"nicosia\", \"nicosia\", \"night\", \"night\", \"normally\", \"north\", \"north\", \"north\", \"northern\", \"northern\", \"northern\", \"northern\", \"obvious\", \"occupy\", \"office\", \"office\", \"old\", \"old\", \"old\", \"opportunity\", \"owner\", \"owner\", \"owner\", \"part\", \"part\", \"particular\", \"passport\", \"pay\", \"people\", \"perfect\", \"perfect\", \"period\", \"period\", \"picture\", \"place\", \"place\", \"place\", \"play\", \"poor\", \"possible\", \"premise\", \"prepared\", \"preserve\", \"preserve\", \"preserve\", \"private\", \"problem\", \"produce\", \"quality\", \"quickly\", \"quite\", \"quite\", \"quite\", \"rate\", \"reach\", \"read\", \"really\", \"really\", \"recommend\", \"recommend\", \"refresh\", \"rich\", \"right\", \"rise\", \"rise\", \"road\", \"safety\", \"sandwich\", \"section\", \"see\", \"seem\", \"seem\", \"selay\", \"selay\", \"separately\", \"serve\", \"serve\", \"side\", \"side\", \"side\", \"simple\", \"simple\", \"simple\", \"sit\", \"sit\", \"sit\", \"sit\", \"small\", \"small\", \"speak\", \"staff\", \"staff\", \"staff\", \"stay\", \"stay\", \"still\", \"still\", \"suitable\", \"suitable\", \"superb\", \"suppose\", \"surround\", \"surround\", \"take\", \"take\", \"tasty\", \"taxi\", \"taxi\", \"taxi\", \"tea\", \"tea\", \"top\", \"tour\", \"tourist\", \"tourist\", \"town\", \"town\", \"traditional\", \"traditional\", \"traditional\", \"transport\", \"turkish\", \"turkish\", \"understand\", \"use\", \"use\", \"use\", \"venetian\", \"view\", \"visit\", \"visit\", \"visit\", \"walk\", \"walk\", \"walk\", \"wall\", \"wall\", \"want\", \"want\", \"warn\", \"water\", \"water\", \"way\", \"welcome\", \"welcome\", \"welcome\", \"well\", \"well\", \"well\", \"winter\", \"wonderful\", \"wonderful\", \"worth\", \"worth\"]}, \"R\": 30, \"lambda.step\": 0.01, \"plot.opts\": {\"xlab\": \"PC1\", \"ylab\": \"PC2\"}, \"topic.order\": [2, 1, 4, 3]};\n",
       "\n",
       "function LDAvis_load_lib(url, callback){\n",
       "  var s = document.createElement('script');\n",
       "  s.src = url;\n",
       "  s.async = true;\n",
       "  s.onreadystatechange = s.onload = callback;\n",
       "  s.onerror = function(){console.warn(\"failed to load library \" + url);};\n",
       "  document.getElementsByTagName(\"head\")[0].appendChild(s);\n",
       "}\n",
       "\n",
       "if(typeof(LDAvis) !== \"undefined\"){\n",
       "   // already loaded: just create the visualization\n",
       "   !function(LDAvis){\n",
       "       new LDAvis(\"#\" + \"ldavis_el2137617374595884243241651652\", ldavis_el2137617374595884243241651652_data);\n",
       "   }(LDAvis);\n",
       "}else if(typeof define === \"function\" && define.amd){\n",
       "   // require.js is available: use it to load d3/LDAvis\n",
       "   require.config({paths: {d3: \"https://cdnjs.cloudflare.com/ajax/libs/d3/3.5.5/d3.min\"}});\n",
       "   require([\"d3\"], function(d3){\n",
       "      window.d3 = d3;\n",
       "      LDAvis_load_lib(\"https://cdn.rawgit.com/bmabey/pyLDAvis/files/ldavis.v1.0.0.js\", function(){\n",
       "        new LDAvis(\"#\" + \"ldavis_el2137617374595884243241651652\", ldavis_el2137617374595884243241651652_data);\n",
       "      });\n",
       "    });\n",
       "}else{\n",
       "    // require.js not available: dynamically load d3 & LDAvis\n",
       "    LDAvis_load_lib(\"https://cdnjs.cloudflare.com/ajax/libs/d3/3.5.5/d3.min.js\", function(){\n",
       "         LDAvis_load_lib(\"https://cdn.rawgit.com/bmabey/pyLDAvis/files/ldavis.v1.0.0.js\", function(){\n",
       "                 new LDAvis(\"#\" + \"ldavis_el2137617374595884243241651652\", ldavis_el2137617374595884243241651652_data);\n",
       "            })\n",
       "         });\n",
       "}\n",
       "</script>"
      ],
      "text/plain": [
       "PreparedData(topic_coordinates=              x         y  topics  cluster       Freq\n",
       "topic                                                \n",
       "1     -0.123801 -0.055554       1        1  58.630951\n",
       "0     -0.054241  0.096387       2        1  18.220781\n",
       "3      0.139919 -0.148087       3        1  12.646897\n",
       "2      0.038123  0.107254       4        1  10.501370, topic_info=          Term       Freq      Total Category  logprob  loglift\n",
       "744       gate  37.000000  37.000000  Default  30.0000  30.0000\n",
       "107       walk  41.000000  41.000000  Default  29.0000  29.0000\n",
       "200       part  37.000000  37.000000  Default  28.0000  28.0000\n",
       "227       wall  24.000000  24.000000  Default  27.0000  27.0000\n",
       "7         city  36.000000  36.000000  Default  26.0000  26.0000\n",
       "..         ...        ...        ...      ...      ...      ...\n",
       "344     simple   1.092845   2.766875   Topic4  -5.9558   1.3247\n",
       "83        find   1.565537  19.637486   Topic4  -5.5964  -0.2755\n",
       "10        easy   1.258813   6.386705   Topic4  -5.8145   0.6296\n",
       "4    breakfast   1.536745  31.867750   Topic4  -5.6150  -0.7783\n",
       "170   friendly   1.281171  12.620977   Topic4  -5.7969  -0.0339\n",
       "\n",
       "[248 rows x 6 columns], token_table=      Topic      Freq       Term\n",
       "term                            \n",
       "469       1  0.937395       able\n",
       "732       3  0.729161        add\n",
       "733       2  0.506692   adjacent\n",
       "516       3  0.718514      allow\n",
       "516       4  0.143703      allow\n",
       "...     ...       ...        ...\n",
       "972       4  0.584882     winter\n",
       "402       1  0.346280  wonderful\n",
       "402       2  0.692560  wonderful\n",
       "330       1  0.824192      worth\n",
       "330       3  0.159521      worth\n",
       "\n",
       "[332 rows x 3 columns], R=30, lambda_step=0.01, plot_opts={'xlab': 'PC1', 'ylab': 'PC2'}, topic_order=[2, 1, 4, 3])"
      ]
     },
     "metadata": {},
     "output_type": "display_data"
    }
   ],
   "source": [
    "plot_model(lda_pos_custom, plot ='topic_model')"
   ]
  },
  {
   "cell_type": "markdown",
   "metadata": {},
   "source": [
    "## Tuning the model using Coherence Value"
   ]
  },
  {
   "cell_type": "code",
   "execution_count": 10,
   "metadata": {},
   "outputs": [
    {
     "data": {
      "application/vnd.jupyter.widget-view+json": {
       "model_id": "",
       "version_major": 2,
       "version_minor": 0
      },
      "text/plain": [
       "IntProgress(value=0, description='Processing: ', max=25)"
      ]
     },
     "metadata": {},
     "output_type": "display_data"
    },
    {
     "data": {
      "application/vnd.jupyter.widget-view+json": {
       "model_id": "5aa117726313449cab520a2814aef3cf",
       "version_major": 2,
       "version_minor": 0
      },
      "text/plain": [
       "Output()"
      ]
     },
     "metadata": {},
     "output_type": "display_data"
    },
    {
     "data": {
      "text/html": [
       "        <script type=\"text/javascript\">\n",
       "        window.PlotlyConfig = {MathJaxConfig: 'local'};\n",
       "        if (window.MathJax) {MathJax.Hub.Config({SVG: {font: \"STIX-Web\"}});}\n",
       "        if (typeof require !== 'undefined') {\n",
       "        require.undef(\"plotly\");\n",
       "        requirejs.config({\n",
       "            paths: {\n",
       "                'plotly': ['https://cdn.plot.ly/plotly-latest.min']\n",
       "            }\n",
       "        });\n",
       "        require(['plotly'], function(Plotly) {\n",
       "            window._Plotly = Plotly;\n",
       "        });\n",
       "        }\n",
       "        </script>\n",
       "        "
      ]
     },
     "metadata": {},
     "output_type": "display_data"
    },
    {
     "data": {
      "application/vnd.plotly.v1+json": {
       "config": {
        "plotlyServerURL": "https://plot.ly"
       },
       "data": [
        {
         "hovertemplate": "Metric=Coherence<br># Topics=%{x}<br>Score=%{y}<extra></extra>",
         "legendgroup": "Coherence",
         "line": {
          "color": "#636efa",
          "dash": "solid",
          "shape": "linear"
         },
         "mode": "lines",
         "name": "Coherence",
         "orientation": "v",
         "showlegend": true,
         "type": "scatter",
         "x": [
          2,
          4,
          8,
          16,
          32,
          64,
          100,
          200,
          300,
          400
         ],
         "xaxis": "x",
         "y": [
          0.29499343414911794,
          0.42379787277449027,
          0.3197130334410919,
          0.38920362751747795,
          0.45807489765540743,
          0.4775631434374461,
          0.5212619640197002,
          0.5522969588027752,
          0.5297899197497383,
          0.5160078648470764
         ],
         "yaxis": "y"
        }
       ],
       "layout": {
        "legend": {
         "title": {
          "text": "Metric"
         },
         "tracegroupgap": 0
        },
        "plot_bgcolor": "rgb(245,245,245)",
        "template": {
         "data": {
          "bar": [
           {
            "error_x": {
             "color": "#2a3f5f"
            },
            "error_y": {
             "color": "#2a3f5f"
            },
            "marker": {
             "line": {
              "color": "#E5ECF6",
              "width": 0.5
             }
            },
            "type": "bar"
           }
          ],
          "barpolar": [
           {
            "marker": {
             "line": {
              "color": "#E5ECF6",
              "width": 0.5
             }
            },
            "type": "barpolar"
           }
          ],
          "carpet": [
           {
            "aaxis": {
             "endlinecolor": "#2a3f5f",
             "gridcolor": "white",
             "linecolor": "white",
             "minorgridcolor": "white",
             "startlinecolor": "#2a3f5f"
            },
            "baxis": {
             "endlinecolor": "#2a3f5f",
             "gridcolor": "white",
             "linecolor": "white",
             "minorgridcolor": "white",
             "startlinecolor": "#2a3f5f"
            },
            "type": "carpet"
           }
          ],
          "choropleth": [
           {
            "colorbar": {
             "outlinewidth": 0,
             "ticks": ""
            },
            "type": "choropleth"
           }
          ],
          "contour": [
           {
            "colorbar": {
             "outlinewidth": 0,
             "ticks": ""
            },
            "colorscale": [
             [
              0,
              "#0d0887"
             ],
             [
              0.1111111111111111,
              "#46039f"
             ],
             [
              0.2222222222222222,
              "#7201a8"
             ],
             [
              0.3333333333333333,
              "#9c179e"
             ],
             [
              0.4444444444444444,
              "#bd3786"
             ],
             [
              0.5555555555555556,
              "#d8576b"
             ],
             [
              0.6666666666666666,
              "#ed7953"
             ],
             [
              0.7777777777777778,
              "#fb9f3a"
             ],
             [
              0.8888888888888888,
              "#fdca26"
             ],
             [
              1,
              "#f0f921"
             ]
            ],
            "type": "contour"
           }
          ],
          "contourcarpet": [
           {
            "colorbar": {
             "outlinewidth": 0,
             "ticks": ""
            },
            "type": "contourcarpet"
           }
          ],
          "heatmap": [
           {
            "colorbar": {
             "outlinewidth": 0,
             "ticks": ""
            },
            "colorscale": [
             [
              0,
              "#0d0887"
             ],
             [
              0.1111111111111111,
              "#46039f"
             ],
             [
              0.2222222222222222,
              "#7201a8"
             ],
             [
              0.3333333333333333,
              "#9c179e"
             ],
             [
              0.4444444444444444,
              "#bd3786"
             ],
             [
              0.5555555555555556,
              "#d8576b"
             ],
             [
              0.6666666666666666,
              "#ed7953"
             ],
             [
              0.7777777777777778,
              "#fb9f3a"
             ],
             [
              0.8888888888888888,
              "#fdca26"
             ],
             [
              1,
              "#f0f921"
             ]
            ],
            "type": "heatmap"
           }
          ],
          "heatmapgl": [
           {
            "colorbar": {
             "outlinewidth": 0,
             "ticks": ""
            },
            "colorscale": [
             [
              0,
              "#0d0887"
             ],
             [
              0.1111111111111111,
              "#46039f"
             ],
             [
              0.2222222222222222,
              "#7201a8"
             ],
             [
              0.3333333333333333,
              "#9c179e"
             ],
             [
              0.4444444444444444,
              "#bd3786"
             ],
             [
              0.5555555555555556,
              "#d8576b"
             ],
             [
              0.6666666666666666,
              "#ed7953"
             ],
             [
              0.7777777777777778,
              "#fb9f3a"
             ],
             [
              0.8888888888888888,
              "#fdca26"
             ],
             [
              1,
              "#f0f921"
             ]
            ],
            "type": "heatmapgl"
           }
          ],
          "histogram": [
           {
            "marker": {
             "colorbar": {
              "outlinewidth": 0,
              "ticks": ""
             }
            },
            "type": "histogram"
           }
          ],
          "histogram2d": [
           {
            "colorbar": {
             "outlinewidth": 0,
             "ticks": ""
            },
            "colorscale": [
             [
              0,
              "#0d0887"
             ],
             [
              0.1111111111111111,
              "#46039f"
             ],
             [
              0.2222222222222222,
              "#7201a8"
             ],
             [
              0.3333333333333333,
              "#9c179e"
             ],
             [
              0.4444444444444444,
              "#bd3786"
             ],
             [
              0.5555555555555556,
              "#d8576b"
             ],
             [
              0.6666666666666666,
              "#ed7953"
             ],
             [
              0.7777777777777778,
              "#fb9f3a"
             ],
             [
              0.8888888888888888,
              "#fdca26"
             ],
             [
              1,
              "#f0f921"
             ]
            ],
            "type": "histogram2d"
           }
          ],
          "histogram2dcontour": [
           {
            "colorbar": {
             "outlinewidth": 0,
             "ticks": ""
            },
            "colorscale": [
             [
              0,
              "#0d0887"
             ],
             [
              0.1111111111111111,
              "#46039f"
             ],
             [
              0.2222222222222222,
              "#7201a8"
             ],
             [
              0.3333333333333333,
              "#9c179e"
             ],
             [
              0.4444444444444444,
              "#bd3786"
             ],
             [
              0.5555555555555556,
              "#d8576b"
             ],
             [
              0.6666666666666666,
              "#ed7953"
             ],
             [
              0.7777777777777778,
              "#fb9f3a"
             ],
             [
              0.8888888888888888,
              "#fdca26"
             ],
             [
              1,
              "#f0f921"
             ]
            ],
            "type": "histogram2dcontour"
           }
          ],
          "mesh3d": [
           {
            "colorbar": {
             "outlinewidth": 0,
             "ticks": ""
            },
            "type": "mesh3d"
           }
          ],
          "parcoords": [
           {
            "line": {
             "colorbar": {
              "outlinewidth": 0,
              "ticks": ""
             }
            },
            "type": "parcoords"
           }
          ],
          "pie": [
           {
            "automargin": true,
            "type": "pie"
           }
          ],
          "scatter": [
           {
            "marker": {
             "colorbar": {
              "outlinewidth": 0,
              "ticks": ""
             }
            },
            "type": "scatter"
           }
          ],
          "scatter3d": [
           {
            "line": {
             "colorbar": {
              "outlinewidth": 0,
              "ticks": ""
             }
            },
            "marker": {
             "colorbar": {
              "outlinewidth": 0,
              "ticks": ""
             }
            },
            "type": "scatter3d"
           }
          ],
          "scattercarpet": [
           {
            "marker": {
             "colorbar": {
              "outlinewidth": 0,
              "ticks": ""
             }
            },
            "type": "scattercarpet"
           }
          ],
          "scattergeo": [
           {
            "marker": {
             "colorbar": {
              "outlinewidth": 0,
              "ticks": ""
             }
            },
            "type": "scattergeo"
           }
          ],
          "scattergl": [
           {
            "marker": {
             "colorbar": {
              "outlinewidth": 0,
              "ticks": ""
             }
            },
            "type": "scattergl"
           }
          ],
          "scattermapbox": [
           {
            "marker": {
             "colorbar": {
              "outlinewidth": 0,
              "ticks": ""
             }
            },
            "type": "scattermapbox"
           }
          ],
          "scatterpolar": [
           {
            "marker": {
             "colorbar": {
              "outlinewidth": 0,
              "ticks": ""
             }
            },
            "type": "scatterpolar"
           }
          ],
          "scatterpolargl": [
           {
            "marker": {
             "colorbar": {
              "outlinewidth": 0,
              "ticks": ""
             }
            },
            "type": "scatterpolargl"
           }
          ],
          "scatterternary": [
           {
            "marker": {
             "colorbar": {
              "outlinewidth": 0,
              "ticks": ""
             }
            },
            "type": "scatterternary"
           }
          ],
          "surface": [
           {
            "colorbar": {
             "outlinewidth": 0,
             "ticks": ""
            },
            "colorscale": [
             [
              0,
              "#0d0887"
             ],
             [
              0.1111111111111111,
              "#46039f"
             ],
             [
              0.2222222222222222,
              "#7201a8"
             ],
             [
              0.3333333333333333,
              "#9c179e"
             ],
             [
              0.4444444444444444,
              "#bd3786"
             ],
             [
              0.5555555555555556,
              "#d8576b"
             ],
             [
              0.6666666666666666,
              "#ed7953"
             ],
             [
              0.7777777777777778,
              "#fb9f3a"
             ],
             [
              0.8888888888888888,
              "#fdca26"
             ],
             [
              1,
              "#f0f921"
             ]
            ],
            "type": "surface"
           }
          ],
          "table": [
           {
            "cells": {
             "fill": {
              "color": "#EBF0F8"
             },
             "line": {
              "color": "white"
             }
            },
            "header": {
             "fill": {
              "color": "#C8D4E3"
             },
             "line": {
              "color": "white"
             }
            },
            "type": "table"
           }
          ]
         },
         "layout": {
          "annotationdefaults": {
           "arrowcolor": "#2a3f5f",
           "arrowhead": 0,
           "arrowwidth": 1
          },
          "coloraxis": {
           "colorbar": {
            "outlinewidth": 0,
            "ticks": ""
           }
          },
          "colorscale": {
           "diverging": [
            [
             0,
             "#8e0152"
            ],
            [
             0.1,
             "#c51b7d"
            ],
            [
             0.2,
             "#de77ae"
            ],
            [
             0.3,
             "#f1b6da"
            ],
            [
             0.4,
             "#fde0ef"
            ],
            [
             0.5,
             "#f7f7f7"
            ],
            [
             0.6,
             "#e6f5d0"
            ],
            [
             0.7,
             "#b8e186"
            ],
            [
             0.8,
             "#7fbc41"
            ],
            [
             0.9,
             "#4d9221"
            ],
            [
             1,
             "#276419"
            ]
           ],
           "sequential": [
            [
             0,
             "#0d0887"
            ],
            [
             0.1111111111111111,
             "#46039f"
            ],
            [
             0.2222222222222222,
             "#7201a8"
            ],
            [
             0.3333333333333333,
             "#9c179e"
            ],
            [
             0.4444444444444444,
             "#bd3786"
            ],
            [
             0.5555555555555556,
             "#d8576b"
            ],
            [
             0.6666666666666666,
             "#ed7953"
            ],
            [
             0.7777777777777778,
             "#fb9f3a"
            ],
            [
             0.8888888888888888,
             "#fdca26"
            ],
            [
             1,
             "#f0f921"
            ]
           ],
           "sequentialminus": [
            [
             0,
             "#0d0887"
            ],
            [
             0.1111111111111111,
             "#46039f"
            ],
            [
             0.2222222222222222,
             "#7201a8"
            ],
            [
             0.3333333333333333,
             "#9c179e"
            ],
            [
             0.4444444444444444,
             "#bd3786"
            ],
            [
             0.5555555555555556,
             "#d8576b"
            ],
            [
             0.6666666666666666,
             "#ed7953"
            ],
            [
             0.7777777777777778,
             "#fb9f3a"
            ],
            [
             0.8888888888888888,
             "#fdca26"
            ],
            [
             1,
             "#f0f921"
            ]
           ]
          },
          "colorway": [
           "#636efa",
           "#EF553B",
           "#00cc96",
           "#ab63fa",
           "#FFA15A",
           "#19d3f3",
           "#FF6692",
           "#B6E880",
           "#FF97FF",
           "#FECB52"
          ],
          "font": {
           "color": "#2a3f5f"
          },
          "geo": {
           "bgcolor": "white",
           "lakecolor": "white",
           "landcolor": "#E5ECF6",
           "showlakes": true,
           "showland": true,
           "subunitcolor": "white"
          },
          "hoverlabel": {
           "align": "left"
          },
          "hovermode": "closest",
          "mapbox": {
           "style": "light"
          },
          "paper_bgcolor": "white",
          "plot_bgcolor": "#E5ECF6",
          "polar": {
           "angularaxis": {
            "gridcolor": "white",
            "linecolor": "white",
            "ticks": ""
           },
           "bgcolor": "#E5ECF6",
           "radialaxis": {
            "gridcolor": "white",
            "linecolor": "white",
            "ticks": ""
           }
          },
          "scene": {
           "xaxis": {
            "backgroundcolor": "#E5ECF6",
            "gridcolor": "white",
            "gridwidth": 2,
            "linecolor": "white",
            "showbackground": true,
            "ticks": "",
            "zerolinecolor": "white"
           },
           "yaxis": {
            "backgroundcolor": "#E5ECF6",
            "gridcolor": "white",
            "gridwidth": 2,
            "linecolor": "white",
            "showbackground": true,
            "ticks": "",
            "zerolinecolor": "white"
           },
           "zaxis": {
            "backgroundcolor": "#E5ECF6",
            "gridcolor": "white",
            "gridwidth": 2,
            "linecolor": "white",
            "showbackground": true,
            "ticks": "",
            "zerolinecolor": "white"
           }
          },
          "shapedefaults": {
           "line": {
            "color": "#2a3f5f"
           }
          },
          "ternary": {
           "aaxis": {
            "gridcolor": "white",
            "linecolor": "white",
            "ticks": ""
           },
           "baxis": {
            "gridcolor": "white",
            "linecolor": "white",
            "ticks": ""
           },
           "bgcolor": "#E5ECF6",
           "caxis": {
            "gridcolor": "white",
            "linecolor": "white",
            "ticks": ""
           }
          },
          "title": {
           "x": 0.05
          },
          "xaxis": {
           "automargin": true,
           "gridcolor": "white",
           "linecolor": "white",
           "ticks": "",
           "title": {
            "standoff": 15
           },
           "zerolinecolor": "white",
           "zerolinewidth": 2
          },
          "yaxis": {
           "automargin": true,
           "gridcolor": "white",
           "linecolor": "white",
           "ticks": "",
           "title": {
            "standoff": 15
           },
           "zerolinecolor": "white",
           "zerolinewidth": 2
          }
         }
        },
        "title": {
         "text": "Coherence Value and # of Topics"
        },
        "xaxis": {
         "anchor": "y",
         "domain": [
          0,
          1
         ],
         "title": {
          "text": "# Topics"
         }
        },
        "yaxis": {
         "anchor": "x",
         "domain": [
          0,
          1
         ],
         "title": {
          "text": "Score"
         }
        }
       }
      },
      "text/html": [
       "<div>\n",
       "        \n",
       "        \n",
       "            <div id=\"7f12be17-5f42-48c0-bbbe-57b69e1105b1\" class=\"plotly-graph-div\" style=\"height:525px; width:100%;\"></div>\n",
       "            <script type=\"text/javascript\">\n",
       "                require([\"plotly\"], function(Plotly) {\n",
       "                    window.PLOTLYENV=window.PLOTLYENV || {};\n",
       "                    \n",
       "                if (document.getElementById(\"7f12be17-5f42-48c0-bbbe-57b69e1105b1\")) {\n",
       "                    Plotly.newPlot(\n",
       "                        '7f12be17-5f42-48c0-bbbe-57b69e1105b1',\n",
       "                        [{\"hovertemplate\": \"Metric=Coherence<br># Topics=%{x}<br>Score=%{y}<extra></extra>\", \"legendgroup\": \"Coherence\", \"line\": {\"color\": \"#636efa\", \"dash\": \"solid\", \"shape\": \"linear\"}, \"mode\": \"lines\", \"name\": \"Coherence\", \"orientation\": \"v\", \"showlegend\": true, \"type\": \"scatter\", \"x\": [2, 4, 8, 16, 32, 64, 100, 200, 300, 400], \"xaxis\": \"x\", \"y\": [0.29499343414911794, 0.42379787277449027, 0.3197130334410919, 0.38920362751747795, 0.45807489765540743, 0.4775631434374461, 0.5212619640197002, 0.5522969588027752, 0.5297899197497383, 0.5160078648470764], \"yaxis\": \"y\"}],\n",
       "                        {\"legend\": {\"title\": {\"text\": \"Metric\"}, \"tracegroupgap\": 0}, \"plot_bgcolor\": \"rgb(245,245,245)\", \"template\": {\"data\": {\"bar\": [{\"error_x\": {\"color\": \"#2a3f5f\"}, \"error_y\": {\"color\": \"#2a3f5f\"}, \"marker\": {\"line\": {\"color\": \"#E5ECF6\", \"width\": 0.5}}, \"type\": \"bar\"}], \"barpolar\": [{\"marker\": {\"line\": {\"color\": \"#E5ECF6\", \"width\": 0.5}}, \"type\": \"barpolar\"}], \"carpet\": [{\"aaxis\": {\"endlinecolor\": \"#2a3f5f\", \"gridcolor\": \"white\", \"linecolor\": \"white\", \"minorgridcolor\": \"white\", \"startlinecolor\": \"#2a3f5f\"}, \"baxis\": {\"endlinecolor\": \"#2a3f5f\", \"gridcolor\": \"white\", \"linecolor\": \"white\", \"minorgridcolor\": \"white\", \"startlinecolor\": \"#2a3f5f\"}, \"type\": \"carpet\"}], \"choropleth\": [{\"colorbar\": {\"outlinewidth\": 0, \"ticks\": \"\"}, \"type\": \"choropleth\"}], \"contour\": [{\"colorbar\": {\"outlinewidth\": 0, \"ticks\": \"\"}, \"colorscale\": [[0.0, \"#0d0887\"], [0.1111111111111111, \"#46039f\"], [0.2222222222222222, \"#7201a8\"], [0.3333333333333333, \"#9c179e\"], [0.4444444444444444, \"#bd3786\"], [0.5555555555555556, \"#d8576b\"], [0.6666666666666666, \"#ed7953\"], [0.7777777777777778, \"#fb9f3a\"], [0.8888888888888888, \"#fdca26\"], [1.0, \"#f0f921\"]], \"type\": \"contour\"}], \"contourcarpet\": [{\"colorbar\": {\"outlinewidth\": 0, \"ticks\": \"\"}, \"type\": \"contourcarpet\"}], \"heatmap\": [{\"colorbar\": {\"outlinewidth\": 0, \"ticks\": \"\"}, \"colorscale\": [[0.0, \"#0d0887\"], [0.1111111111111111, \"#46039f\"], [0.2222222222222222, \"#7201a8\"], [0.3333333333333333, \"#9c179e\"], [0.4444444444444444, \"#bd3786\"], [0.5555555555555556, \"#d8576b\"], [0.6666666666666666, \"#ed7953\"], [0.7777777777777778, \"#fb9f3a\"], [0.8888888888888888, \"#fdca26\"], [1.0, \"#f0f921\"]], \"type\": \"heatmap\"}], \"heatmapgl\": [{\"colorbar\": {\"outlinewidth\": 0, \"ticks\": \"\"}, \"colorscale\": [[0.0, \"#0d0887\"], [0.1111111111111111, \"#46039f\"], [0.2222222222222222, \"#7201a8\"], [0.3333333333333333, \"#9c179e\"], [0.4444444444444444, \"#bd3786\"], [0.5555555555555556, \"#d8576b\"], [0.6666666666666666, \"#ed7953\"], [0.7777777777777778, \"#fb9f3a\"], [0.8888888888888888, \"#fdca26\"], [1.0, \"#f0f921\"]], \"type\": \"heatmapgl\"}], \"histogram\": [{\"marker\": {\"colorbar\": {\"outlinewidth\": 0, \"ticks\": \"\"}}, \"type\": \"histogram\"}], \"histogram2d\": [{\"colorbar\": {\"outlinewidth\": 0, \"ticks\": \"\"}, \"colorscale\": [[0.0, \"#0d0887\"], [0.1111111111111111, \"#46039f\"], [0.2222222222222222, \"#7201a8\"], [0.3333333333333333, \"#9c179e\"], [0.4444444444444444, \"#bd3786\"], [0.5555555555555556, \"#d8576b\"], [0.6666666666666666, \"#ed7953\"], [0.7777777777777778, \"#fb9f3a\"], [0.8888888888888888, \"#fdca26\"], [1.0, \"#f0f921\"]], \"type\": \"histogram2d\"}], \"histogram2dcontour\": [{\"colorbar\": {\"outlinewidth\": 0, \"ticks\": \"\"}, \"colorscale\": [[0.0, \"#0d0887\"], [0.1111111111111111, \"#46039f\"], [0.2222222222222222, \"#7201a8\"], [0.3333333333333333, \"#9c179e\"], [0.4444444444444444, \"#bd3786\"], [0.5555555555555556, \"#d8576b\"], [0.6666666666666666, \"#ed7953\"], [0.7777777777777778, \"#fb9f3a\"], [0.8888888888888888, \"#fdca26\"], [1.0, \"#f0f921\"]], \"type\": \"histogram2dcontour\"}], \"mesh3d\": [{\"colorbar\": {\"outlinewidth\": 0, \"ticks\": \"\"}, \"type\": \"mesh3d\"}], \"parcoords\": [{\"line\": {\"colorbar\": {\"outlinewidth\": 0, \"ticks\": \"\"}}, \"type\": \"parcoords\"}], \"pie\": [{\"automargin\": true, \"type\": \"pie\"}], \"scatter\": [{\"marker\": {\"colorbar\": {\"outlinewidth\": 0, \"ticks\": \"\"}}, \"type\": \"scatter\"}], \"scatter3d\": [{\"line\": {\"colorbar\": {\"outlinewidth\": 0, \"ticks\": \"\"}}, \"marker\": {\"colorbar\": {\"outlinewidth\": 0, \"ticks\": \"\"}}, \"type\": \"scatter3d\"}], \"scattercarpet\": [{\"marker\": {\"colorbar\": {\"outlinewidth\": 0, \"ticks\": \"\"}}, \"type\": \"scattercarpet\"}], \"scattergeo\": [{\"marker\": {\"colorbar\": {\"outlinewidth\": 0, \"ticks\": \"\"}}, \"type\": \"scattergeo\"}], \"scattergl\": [{\"marker\": {\"colorbar\": {\"outlinewidth\": 0, \"ticks\": \"\"}}, \"type\": \"scattergl\"}], \"scattermapbox\": [{\"marker\": {\"colorbar\": {\"outlinewidth\": 0, \"ticks\": \"\"}}, \"type\": \"scattermapbox\"}], \"scatterpolar\": [{\"marker\": {\"colorbar\": {\"outlinewidth\": 0, \"ticks\": \"\"}}, \"type\": \"scatterpolar\"}], \"scatterpolargl\": [{\"marker\": {\"colorbar\": {\"outlinewidth\": 0, \"ticks\": \"\"}}, \"type\": \"scatterpolargl\"}], \"scatterternary\": [{\"marker\": {\"colorbar\": {\"outlinewidth\": 0, \"ticks\": \"\"}}, \"type\": \"scatterternary\"}], \"surface\": [{\"colorbar\": {\"outlinewidth\": 0, \"ticks\": \"\"}, \"colorscale\": [[0.0, \"#0d0887\"], [0.1111111111111111, \"#46039f\"], [0.2222222222222222, \"#7201a8\"], [0.3333333333333333, \"#9c179e\"], [0.4444444444444444, \"#bd3786\"], [0.5555555555555556, \"#d8576b\"], [0.6666666666666666, \"#ed7953\"], [0.7777777777777778, \"#fb9f3a\"], [0.8888888888888888, \"#fdca26\"], [1.0, \"#f0f921\"]], \"type\": \"surface\"}], \"table\": [{\"cells\": {\"fill\": {\"color\": \"#EBF0F8\"}, \"line\": {\"color\": \"white\"}}, \"header\": {\"fill\": {\"color\": \"#C8D4E3\"}, \"line\": {\"color\": \"white\"}}, \"type\": \"table\"}]}, \"layout\": {\"annotationdefaults\": {\"arrowcolor\": \"#2a3f5f\", \"arrowhead\": 0, \"arrowwidth\": 1}, \"coloraxis\": {\"colorbar\": {\"outlinewidth\": 0, \"ticks\": \"\"}}, \"colorscale\": {\"diverging\": [[0, \"#8e0152\"], [0.1, \"#c51b7d\"], [0.2, \"#de77ae\"], [0.3, \"#f1b6da\"], [0.4, \"#fde0ef\"], [0.5, \"#f7f7f7\"], [0.6, \"#e6f5d0\"], [0.7, \"#b8e186\"], [0.8, \"#7fbc41\"], [0.9, \"#4d9221\"], [1, \"#276419\"]], \"sequential\": [[0.0, \"#0d0887\"], [0.1111111111111111, \"#46039f\"], [0.2222222222222222, \"#7201a8\"], [0.3333333333333333, \"#9c179e\"], [0.4444444444444444, \"#bd3786\"], [0.5555555555555556, \"#d8576b\"], [0.6666666666666666, \"#ed7953\"], [0.7777777777777778, \"#fb9f3a\"], [0.8888888888888888, \"#fdca26\"], [1.0, \"#f0f921\"]], \"sequentialminus\": [[0.0, \"#0d0887\"], [0.1111111111111111, \"#46039f\"], [0.2222222222222222, \"#7201a8\"], [0.3333333333333333, \"#9c179e\"], [0.4444444444444444, \"#bd3786\"], [0.5555555555555556, \"#d8576b\"], [0.6666666666666666, \"#ed7953\"], [0.7777777777777778, \"#fb9f3a\"], [0.8888888888888888, \"#fdca26\"], [1.0, \"#f0f921\"]]}, \"colorway\": [\"#636efa\", \"#EF553B\", \"#00cc96\", \"#ab63fa\", \"#FFA15A\", \"#19d3f3\", \"#FF6692\", \"#B6E880\", \"#FF97FF\", \"#FECB52\"], \"font\": {\"color\": \"#2a3f5f\"}, \"geo\": {\"bgcolor\": \"white\", \"lakecolor\": \"white\", \"landcolor\": \"#E5ECF6\", \"showlakes\": true, \"showland\": true, \"subunitcolor\": \"white\"}, \"hoverlabel\": {\"align\": \"left\"}, \"hovermode\": \"closest\", \"mapbox\": {\"style\": \"light\"}, \"paper_bgcolor\": \"white\", \"plot_bgcolor\": \"#E5ECF6\", \"polar\": {\"angularaxis\": {\"gridcolor\": \"white\", \"linecolor\": \"white\", \"ticks\": \"\"}, \"bgcolor\": \"#E5ECF6\", \"radialaxis\": {\"gridcolor\": \"white\", \"linecolor\": \"white\", \"ticks\": \"\"}}, \"scene\": {\"xaxis\": {\"backgroundcolor\": \"#E5ECF6\", \"gridcolor\": \"white\", \"gridwidth\": 2, \"linecolor\": \"white\", \"showbackground\": true, \"ticks\": \"\", \"zerolinecolor\": \"white\"}, \"yaxis\": {\"backgroundcolor\": \"#E5ECF6\", \"gridcolor\": \"white\", \"gridwidth\": 2, \"linecolor\": \"white\", \"showbackground\": true, \"ticks\": \"\", \"zerolinecolor\": \"white\"}, \"zaxis\": {\"backgroundcolor\": \"#E5ECF6\", \"gridcolor\": \"white\", \"gridwidth\": 2, \"linecolor\": \"white\", \"showbackground\": true, \"ticks\": \"\", \"zerolinecolor\": \"white\"}}, \"shapedefaults\": {\"line\": {\"color\": \"#2a3f5f\"}}, \"ternary\": {\"aaxis\": {\"gridcolor\": \"white\", \"linecolor\": \"white\", \"ticks\": \"\"}, \"baxis\": {\"gridcolor\": \"white\", \"linecolor\": \"white\", \"ticks\": \"\"}, \"bgcolor\": \"#E5ECF6\", \"caxis\": {\"gridcolor\": \"white\", \"linecolor\": \"white\", \"ticks\": \"\"}}, \"title\": {\"x\": 0.05}, \"xaxis\": {\"automargin\": true, \"gridcolor\": \"white\", \"linecolor\": \"white\", \"ticks\": \"\", \"title\": {\"standoff\": 15}, \"zerolinecolor\": \"white\", \"zerolinewidth\": 2}, \"yaxis\": {\"automargin\": true, \"gridcolor\": \"white\", \"linecolor\": \"white\", \"ticks\": \"\", \"title\": {\"standoff\": 15}, \"zerolinecolor\": \"white\", \"zerolinewidth\": 2}}}, \"title\": {\"text\": \"Coherence Value and # of Topics\"}, \"xaxis\": {\"anchor\": \"y\", \"domain\": [0.0, 1.0], \"title\": {\"text\": \"# Topics\"}}, \"yaxis\": {\"anchor\": \"x\", \"domain\": [0.0, 1.0], \"title\": {\"text\": \"Score\"}}},\n",
       "                        {\"responsive\": true}\n",
       "                    ).then(function(){\n",
       "                            \n",
       "var gd = document.getElementById('7f12be17-5f42-48c0-bbbe-57b69e1105b1');\n",
       "var x = new MutationObserver(function (mutations, observer) {{\n",
       "        var display = window.getComputedStyle(gd).display;\n",
       "        if (!display || display === 'none') {{\n",
       "            console.log([gd, 'removed!']);\n",
       "            Plotly.purge(gd);\n",
       "            observer.disconnect();\n",
       "        }}\n",
       "}});\n",
       "\n",
       "// Listen for the removal of the full notebook cells\n",
       "var notebookContainer = gd.closest('#notebook-container');\n",
       "if (notebookContainer) {{\n",
       "    x.observe(notebookContainer, {childList: true});\n",
       "}}\n",
       "\n",
       "// Listen for the clearing of the current output cell\n",
       "var outputEl = gd.closest('.output');\n",
       "if (outputEl) {{\n",
       "    x.observe(outputEl, {childList: true});\n",
       "}}\n",
       "\n",
       "                        })\n",
       "                };\n",
       "                });\n",
       "            </script>\n",
       "        </div>"
      ]
     },
     "metadata": {},
     "output_type": "display_data"
    },
    {
     "name": "stdout",
     "output_type": "stream",
     "text": [
      "Best Model: Latent Dirichlet Allocation | # Topics: 200 | Coherence: 0.5523\n"
     ]
    }
   ],
   "source": [
    "tune_lda_positive = tune_model(model='lda', supervised_target=None, estimator='xgboost')"
   ]
  },
  {
   "cell_type": "markdown",
   "metadata": {},
   "source": [
    "8 topics is chosen"
   ]
  },
  {
   "cell_type": "code",
   "execution_count": 11,
   "metadata": {},
   "outputs": [
    {
     "name": "stdout",
     "output_type": "stream",
     "text": [
      "LdaModel(num_terms=1191, num_topics=8, decay=0.5, chunksize=100)\n"
     ]
    }
   ],
   "source": [
    "#create an LDA model\n",
    "tuned_pos_8 = create_model('lda', num_topics = 8)\n",
    "print(tuned_pos_8)"
   ]
  },
  {
   "cell_type": "code",
   "execution_count": 12,
   "metadata": {},
   "outputs": [],
   "source": [
    "apply_tuned_pos = assign_model(tuned_pos_8)"
   ]
  },
  {
   "cell_type": "code",
   "execution_count": 13,
   "metadata": {},
   "outputs": [
    {
     "data": {
      "application/vnd.jupyter.widget-view+json": {
       "model_id": "81b7ebdfda4d4bccb23df38c45d9c184",
       "version_major": 2,
       "version_minor": 0
      },
      "text/plain": [
       "interactive(children=(ToggleButtons(description='Plot Type:', icons=('',), options=(('Frequency Plot', 'freque…"
      ]
     },
     "metadata": {},
     "output_type": "display_data"
    }
   ],
   "source": [
    "evaluate_model(tuned_pos_8)"
   ]
  },
  {
   "cell_type": "code",
   "execution_count": 15,
   "metadata": {},
   "outputs": [
    {
     "data": {
      "text/html": [
       "        <script type=\"text/javascript\">\n",
       "        window.PlotlyConfig = {MathJaxConfig: 'local'};\n",
       "        if (window.MathJax) {MathJax.Hub.Config({SVG: {font: \"STIX-Web\"}});}\n",
       "        if (typeof require !== 'undefined') {\n",
       "        require.undef(\"plotly\");\n",
       "        requirejs.config({\n",
       "            paths: {\n",
       "                'plotly': ['https://cdn.plot.ly/plotly-latest.min']\n",
       "            }\n",
       "        });\n",
       "        require(['plotly'], function(Plotly) {\n",
       "            window._Plotly = Plotly;\n",
       "        });\n",
       "        }\n",
       "        </script>\n",
       "        "
      ]
     },
     "metadata": {},
     "output_type": "display_data"
    },
    {
     "data": {
      "text/html": [
       "\n",
       "<link rel=\"stylesheet\" type=\"text/css\" href=\"https://cdn.rawgit.com/bmabey/pyLDAvis/files/ldavis.v1.0.0.css\">\n",
       "\n",
       "\n",
       "<div id=\"ldavis_el2137617374597020881314476994\"></div>\n",
       "<script type=\"text/javascript\">\n",
       "\n",
       "var ldavis_el2137617374597020881314476994_data = {\"mdsDat\": {\"x\": [-0.23252753322091813, 0.149063638174976, 0.24729863082220876, 0.012975357439447912, -0.15128971889338777, -0.046142274836053265, 0.0638494432376075, -0.04322754272388105], \"y\": [0.07674957604516229, 0.1978488416340711, -0.07840444035394747, 0.014081218200255785, -0.1864004141764266, 0.11597208999336132, -0.17938915233891217, 0.03954228099643576], \"topics\": [1, 2, 3, 4, 5, 6, 7, 8], \"cluster\": [1, 1, 1, 1, 1, 1, 1, 1], \"Freq\": [51.22069549560547, 18.765745162963867, 7.897590160369873, 6.525923252105713, 6.066037654876709, 4.831326961517334, 4.2812089920043945, 0.411471962928772]}, \"tinfo\": {\"Term\": [\"walk\", \"city\", \"wall\", \"gate\", \"old\", \"worth\", \"also\", \"part\", \"well\", \"different\", \"attraction\", \"take\", \"venetian\", \"map\", \"day\", \"history\", \"side\", \"people\", \"town\", \"see\", \"find\", \"place\", \"way\", \"build\", \"use\", \"turkish\", \"visit\", \"allow\", \"monument\", \"view\", \"hour\", \"know\", \"architecture\", \"bus\", \"self\", \"locate\", \"store\", \"recommend\", \"much\", \"breakfast\", \"swallow\", \"close\", \"little\", \"eat\", \"work\", \"easy\", \"clean\", \"go\", \"lot\", \"morning\", \"amazing\", \"highly\", \"great\", \"cypriot\", \"delicious\", \"quiet\", \"stay\", \"shop\", \"check\", \"extremely\", \"lovely\", \"book\", \"time\", \"find\", \"also\", \"helpful\", \"night\", \"place\", \"friendly\", \"traditional\", \"old\", \"owner\", \"host\", \"make\", \"attraction\", \"town\", \"walk\", \"city\", \"visit\", \"well\", \"turkish\", \"different\", \"way\", \"speak\", \"live\", \"able\", \"surround\", \"greek\", \"language\", \"daily\", \"change\", \"divide\", \"exhibition\", \"british\", \"remove\", \"less\", \"right\", \"perhaps\", \"rich\", \"passport\", \"coin\", \"picture\", \"moderately\", \"even\", \"tea\", \"want\", \"couple\", \"car\", \"put\", \"kind\", \"door\", \"guesthouse\", \"cross\", \"people\", \"kitchen\", \"minute\", \"turkish\", \"side\", \"day\", \"small\", \"tourist\", \"need\", \"wall\", \"worth\", \"original\", \"take\", \"perfect\", \"gate\", \"part\", \"venetian\", \"line\", \"period\", \"lead\", \"ancient\", \"add\", \"especially\", \"inscription\", \"top\", \"section\", \"build\", \"stage\", \"diversity\", \"remind\", \"tourism\", \"visitor\", \"movement\", \"colonial\", \"domed\", \"doorway\", \"floor\", \"watchtower\", \"road\", \"drive\", \"connect\", \"wall\", \"issue\", \"first\", \"fix\", \"difficult\", \"gate\", \"northern\", \"part\", \"worth\", \"city\", \"visit\", \"help\", \"map\", \"staff\", \"information\", \"monument\", \"view\", \"reach\", \"refresh\", \"money\", \"tasty\", \"cosy\", \"quickly\", \"everyday\", \"opportunity\", \"key\", \"sure\", \"fruit\", \"character\", \"tree\", \"relax\", \"former\", \"charm\", \"completely\", \"carry\", \"generally\", \"granddaughter\", \"human\", \"immense\", \"peace\", \"remarkably\", \"seating\", \"togetherness\", \"establishment\", \"powerful\", \"reminder\", \"building\", \"photo\", \"still\", \"location\", \"ask\", \"stand\", \"name\", \"decorate\", \"preserve\", \"feel\", \"beautifully\", \"comfortable\", \"well\", \"perfect\", \"really\", \"home\", \"tourist\", \"love\", \"gate\", \"street\", \"side\", \"original\", \"staff\", \"day\", \"time\", \"guest\", \"tour\", \"checkpoint\", \"interest\", \"follow\", \"separately\", \"blue\", \"frequently\", \"suppose\", \"warn\", \"important\", \"app\", \"church\", \"cover\", \"leisurely\", \"cancel\", \"office\", \"start\", \"preserve\", \"bit\", \"guide\", \"north\", \"walking\", \"construction\", \"walk\", \"point\", \"busy\", \"map\", \"history\", \"take\", \"delightful\", \"gate\", \"town\", \"well\", \"part\", \"place\", \"city\", \"rate\", \"bag\", \"winter\", \"premise\", \"booking\", \"hairdryer\", \"euro\", \"produce\", \"return\", \"white\", \"rise\", \"anywhere\", \"spot\", \"suitable\", \"renovation\", \"tasteful\", \"stick\", \"red\", \"jasmine\", \"refund\", \"abroad\", \"refurbish\", \"incredible\", \"occupancy\", \"torch\", \"alone\", \"hungry\", \"lover\", \"learn\", \"sheet\", \"arrive\", \"fridge\", \"think\", \"large\", \"size\", \"owner\", \"serve\", \"sit\", \"taxi\", \"early\", \"welcome\", \"local\", \"pay\", \"bathroom\", \"friendly\", \"show\", \"quite\", \"see\", \"allow\", \"military\", \"step\", \"safety\", \"locality\", \"country\", \"manage\", \"history\", \"name\", \"traffic\", \"reasonable\", \"first\", \"worth\", \"sight\", \"understand\", \"lane\", \"flight\", \"decoration\", \"exceedingly\", \"enthusiastic\", \"volunteer\", \"disappointing\", \"student\", \"offline\", \"process\", \"mother\", \"staggeringly\", \"demolish\", \"wealth\", \"look\", \"use\", \"people\", \"middle\", \"city\", \"side\", \"attraction\", \"part\", \"day\", \"well\", \"gate\", \"old\", \"also\", \"northern\", \"impressed\", \"impressive\", \"several\", \"demand\", \"pity\", \"focus\", \"manner\", \"mean\", \"ready\", \"disappointing\", \"enthusiastic\", \"exceedingly\", \"volunteer\", \"careful\", \"pm\", \"student\", \"mother\", \"child\", \"address\", \"download\", \"demolish\", \"university\", \"cater\", \"staggeringly\", \"politically\", \"southern\", \"numerous\", \"offline\", \"study\", \"neglect\", \"culturally\", \"less\", \"overall\", \"absolute\", \"foreign\", \"process\", \"wealth\", \"useful\", \"church\", \"leisurely\", \"important\", \"app\", \"cover\", \"long\", \"entrance\", \"store\", \"modern\", \"self\", \"find\", \"hour\", \"northern\", \"monument\", \"city\", \"map\", \"always\", \"north\", \"walk\"], \"Freq\": [47.0, 37.0, 25.0, 32.0, 37.0, 22.0, 36.0, 31.0, 25.0, 22.0, 19.0, 20.0, 12.0, 18.0, 23.0, 10.0, 19.0, 14.0, 18.0, 8.0, 30.0, 52.0, 15.0, 9.0, 14.0, 34.0, 20.0, 6.0, 7.0, 7.0, 17.40559959411621, 16.57946014404297, 14.912818908691406, 19.878517150878906, 14.068812370300293, 13.56075382232666, 13.234281539916992, 13.376562118530273, 11.78982925415039, 41.730072021484375, 10.138490676879883, 9.305987358093262, 14.442903518676758, 8.55528450012207, 11.499845504760742, 8.54750919342041, 23.873689651489258, 12.000466346740723, 7.724222660064697, 7.71019172668457, 7.681562423706055, 7.667281150817871, 19.27681541442871, 6.90397310256958, 6.904155731201172, 6.840902328491211, 40.96733856201172, 6.04707145690918, 6.0331807136535645, 6.030072212219238, 11.60060977935791, 8.084033012390137, 15.522957801818848, 26.918989181518555, 31.93488311767578, 15.38813304901123, 12.731244087219238, 44.404693603515625, 14.870515823364258, 11.630926132202148, 30.515029907226562, 16.36532974243164, 13.499199867248535, 16.848379135131836, 15.877676010131836, 14.432348251342773, 25.036983489990234, 20.97226333618164, 13.736966133117676, 14.708389282226562, 15.533554077148438, 21.43244743347168, 14.464632987976074, 10.436246871948242, 8.340105056762695, 8.33947467803955, 8.337406158447266, 7.9207353591918945, 7.501673221588135, 7.082376956939697, 7.082103729248047, 6.662740707397461, 6.661441802978516, 6.645788192749023, 6.64576530456543, 7.031766891479492, 7.33392333984375, 6.6373701095581055, 6.243066787719727, 6.243066787719727, 6.243066787719727, 6.243362903594971, 6.243362903594971, 9.552393913269043, 4.722540855407715, 12.010819435119629, 7.039433002471924, 2.632004976272583, 2.6289496421813965, 8.070121765136719, 2.2123751640319824, 2.4836697578430176, 8.148442268371582, 10.64064884185791, 3.9418301582336426, 10.207966804504395, 16.027109146118164, 10.4877347946167, 9.90540885925293, 8.89969539642334, 8.192231178283691, 8.268190383911133, 8.83237361907959, 8.531865119934082, 7.254276275634766, 7.680750370025635, 7.115441799163818, 7.32294225692749, 7.11445951461792, 11.413915634155273, 4.149786472320557, 7.013548374176025, 3.9253013134002686, 3.924123764038086, 4.135265350341797, 3.692946672439575, 3.692957878112793, 3.691464900970459, 3.6910438537597656, 8.006501197814941, 3.4600136280059814, 3.4514689445495605, 3.4514689445495605, 3.4514689445495605, 3.4514689445495605, 3.392739772796631, 3.392739772796631, 3.392739772796631, 3.392739772796631, 3.392739772796631, 3.392739772796631, 4.457447052001953, 3.6121392250061035, 3.4123268127441406, 15.684097290039062, 0.9944248795509338, 2.670358180999756, 0.7620798349380493, 0.7609337568283081, 12.750288963317871, 4.867313861846924, 10.445958137512207, 5.702876567840576, 6.376649379730225, 4.897730827331543, 4.507239818572998, 4.3871235847473145, 4.040027141571045, 3.9160096645355225, 6.437429904937744, 6.4265899658203125, 1.3306840658187866, 0.924884021282196, 0.9248483180999756, 0.9248142242431641, 0.9247599840164185, 0.9246821403503418, 0.9245635271072388, 0.9245094060897827, 0.9241243600845337, 0.922951340675354, 1.3163294792175293, 1.33057701587677, 1.2761507034301758, 1.7123831510543823, 0.9217519164085388, 0.9247651696205139, 0.9190845489501953, 0.519152045249939, 0.519152045249939, 0.519152045249939, 0.519152045249939, 0.519152045249939, 0.519152045249939, 0.519152045249939, 0.519152045249939, 0.519152045249939, 0.519152045249939, 0.5191472172737122, 0.5191472172737122, 1.5919477939605713, 0.7623878121376038, 0.9375373721122742, 1.600231409072876, 0.8602321147918701, 0.8202657699584961, 1.921120285987854, 1.2111531496047974, 1.9907351732254028, 3.0242862701416016, 1.3368310928344727, 2.3248212337493896, 2.7648537158966064, 1.4287289381027222, 1.3672571182250977, 1.3502789735794067, 1.3875402212142944, 1.1733945608139038, 1.1913634538650513, 1.0345125198364258, 1.0369046926498413, 0.9952669739723206, 0.9676893949508667, 0.9661871790885925, 0.954774796962738, 0.9260409474372864, 4.505397796630859, 3.641950845718384, 3.4269778728485107, 3.4269659519195557, 3.4268317222595215, 3.2111098766326904, 3.2111098766326904, 3.2111098766326904, 3.2111098766326904, 3.2073535919189453, 3.2073535919189453, 3.2073535919189453, 3.2073535919189453, 3.2073535919189453, 3.204988479614258, 4.060046672821045, 3.566823959350586, 5.016810894012451, 3.4229702949523926, 3.379059314727783, 3.6229891777038574, 0.4916665554046631, 0.49134889245033264, 18.652069091796875, 3.933856248855591, 0.4357755482196808, 6.404280662536621, 3.7974648475646973, 6.576659679412842, 0.4906260371208191, 7.230862617492676, 3.5897586345672607, 4.312114238739014, 3.5124878883361816, 3.507858991622925, 3.314178943634033, 1.5660237073898315, 1.1997252702713013, 0.8342175483703613, 0.8342028856277466, 0.8340972661972046, 0.8340344429016113, 0.8340053558349609, 0.833946943283081, 0.8238151669502258, 0.8340405225753784, 1.4596457481384277, 0.8341869711875916, 0.8185626268386841, 1.1691614389419556, 0.4683115482330322, 0.4683115482330322, 0.46814435720443726, 0.46814170479774475, 0.4681377708911896, 0.4681364893913269, 0.46813592314720154, 0.4681371748447418, 0.4681343734264374, 0.4681355357170105, 0.46813544631004333, 0.4681331217288971, 0.4681318402290344, 0.46813076734542847, 0.4681301712989807, 0.46812736988067627, 1.4430557489395142, 1.0222569704055786, 1.0761792659759521, 1.2574974298477173, 0.7464463114738464, 1.6823967695236206, 1.1476184129714966, 0.7839354872703552, 0.7378466129302979, 0.7790610194206238, 0.8534311056137085, 0.7424482703208923, 0.5769023895263672, 0.684916079044342, 0.6766531467437744, 0.5469961166381836, 0.5837252736091614, 6.862218856811523, 5.6821064949035645, 2.9806275367736816, 2.980468988418579, 2.7933075428009033, 2.793126344680786, 2.962445020675659, 2.9574456214904785, 5.9092559814453125, 2.8004820346832275, 2.0356791019439697, 0.4266466200351715, 1.5968804359436035, 7.301898002624512, 0.42751482129096985, 2.7931277751922607, 0.4271601438522339, 0.3377480208873749, 0.315851092338562, 0.2398194670677185, 0.2398194670677185, 0.2398194670677185, 0.2398194670677185, 0.23982883989810944, 0.23982879519462585, 0.239827498793602, 0.2398257702589035, 0.2398233264684677, 0.2398228645324707, 0.2398221343755722, 2.4936068058013916, 3.101414680480957, 3.0774171352386475, 0.5584319233894348, 5.454121112823486, 3.077591896057129, 2.951888084411621, 4.275187015533447, 3.2772696018218994, 3.324169874191284, 3.2775871753692627, 3.6193573474884033, 3.103360891342163, 0.8365567326545715, 0.7209675908088684, 0.6780105829238892, 0.6354726552963257, 0.054616767913103104, 0.054616767913103104, 0.054616767913103104, 0.05456994101405144, 0.054616451263427734, 0.054567478597164154, 0.011941549368202686, 0.011941549368202686, 0.011941549368202686, 0.011941549368202686, 0.011941549368202686, 0.011941549368202686, 0.01194231677800417, 0.011942334473133087, 0.011942397803068161, 0.011942536570131779, 0.011942374520003796, 0.011942281387746334, 0.011942297220230103, 0.011942368000745773, 0.011942249722778797, 0.011942282319068909, 0.01194226834923029, 0.01194224413484335, 0.011942137032747269, 0.01194223016500473, 0.01194224413484335, 0.011942481622099876, 0.05979229509830475, 0.011942210607230663, 0.011942397803068161, 0.011942172423005104, 0.01194209884852171, 0.011942124925553799, 0.012271610088646412, 0.01230120100080967, 0.01230120100080967, 0.01230120100080967, 0.01230120100080967, 0.01230120100080967, 0.012142249383032322, 0.012084836140275002, 0.012048610486090183, 0.012047442607581615, 0.012035690248012543, 0.01201255526393652, 0.012006474658846855, 0.012001574970781803, 0.011997969821095467, 0.011993852443993092, 0.011983259581029415, 0.011979368515312672, 0.01197650097310543, 0.011974560096859932], \"Total\": [47.0, 37.0, 25.0, 32.0, 37.0, 22.0, 36.0, 31.0, 25.0, 22.0, 19.0, 20.0, 12.0, 18.0, 23.0, 10.0, 19.0, 14.0, 18.0, 8.0, 30.0, 52.0, 15.0, 9.0, 14.0, 34.0, 20.0, 6.0, 7.0, 7.0, 17.93260955810547, 17.104000091552734, 15.43680477142334, 20.598756790161133, 14.5948486328125, 14.088441848754883, 13.759980201721191, 13.997296333312988, 12.372097969055176, 44.00896453857422, 10.712797164916992, 9.855393409729004, 15.30059814453125, 9.083490371704102, 12.218177795410156, 9.0829439163208, 25.49070167541504, 12.814498901367188, 8.254188537597656, 8.240154266357422, 8.233180046081543, 8.221115112304688, 20.696882247924805, 7.427175045013428, 7.427384853363037, 7.3806610107421875, 44.48893737792969, 6.577641010284424, 6.5742034912109375, 6.572509765625, 12.684490203857422, 8.823091506958008, 17.135517120361328, 30.284921646118164, 36.32205581665039, 17.071226119995117, 14.085253715515137, 52.792423248291016, 16.733749389648438, 12.923558235168457, 37.67652130126953, 19.029678344726562, 15.31435489654541, 19.895732879638672, 19.30067253112793, 18.576557159423828, 47.386329650878906, 37.10293960571289, 20.167749404907227, 25.479644775390625, 34.419925689697266, 22.07185173034668, 15.108999252319336, 11.076676368713379, 8.9796781539917, 8.97957706451416, 8.978828430175781, 8.560636520385742, 8.1407470703125, 7.721382141113281, 7.721575736999512, 7.301736831665039, 7.3009796142578125, 7.292458534240723, 7.292450428009033, 7.718708038330078, 8.059249877929688, 7.301119327545166, 6.882108211517334, 6.882108211517334, 6.882108211517334, 6.8824591636657715, 6.8824591636657715, 10.642159461975098, 5.368294715881348, 13.98861312866211, 8.597132682800293, 3.27230167388916, 3.270857334136963, 10.078797340393066, 2.8527936935424805, 3.2059292793273926, 10.825268745422363, 14.306055068969727, 5.34434175491333, 17.635496139526367, 34.419925689697266, 19.314111709594727, 23.448984146118164, 19.012685775756836, 16.271190643310547, 18.20608139038086, 25.327438354492188, 22.96245765686035, 12.032549858093262, 20.32248306274414, 12.01259708404541, 32.4669189453125, 31.47514533996582, 12.10512924194336, 4.8483123779296875, 8.248173713684082, 4.616527557373047, 4.617349147796631, 4.865871429443359, 4.3840742111206055, 4.384110450744629, 4.385071277618408, 4.385386943817139, 9.569648742675781, 4.151765823364258, 4.174535274505615, 4.174535274505615, 4.174535274505615, 4.174535274505615, 4.138585567474365, 4.138585567474365, 4.138585567474365, 4.138585567474365, 4.138585567474365, 4.138585567474365, 6.372707366943359, 5.247013568878174, 5.10935640335083, 25.327438354492188, 1.686264991760254, 4.974286079406738, 1.4536359310150146, 1.6422293186187744, 32.4669189453125, 12.774456024169922, 31.47514533996582, 22.96245765686035, 37.10293960571289, 20.167749404907227, 15.6693754196167, 18.123788833618164, 12.590555191040039, 15.468011856079102, 7.086408615112305, 7.078434944152832, 1.9733245372772217, 1.5675561428070068, 1.5675358772277832, 1.567564845085144, 1.5675843954086304, 1.567610263824463, 1.567613124847412, 1.567671537399292, 1.567983865737915, 1.5691027641296387, 2.393630266189575, 2.438844680786133, 2.393921136856079, 3.2175252437591553, 1.754119873046875, 1.9868797063827515, 1.9870617389678955, 1.1617424488067627, 1.1617424488067627, 1.1617424488067627, 1.1617424488067627, 1.1617424488067627, 1.1617424488067627, 1.1617424488067627, 1.1617424488067627, 1.1617424488067627, 1.1617424488067627, 1.1617376804351807, 1.1617376804351807, 3.641874313354492, 1.7305617332458496, 2.154478073120117, 4.091555595397949, 2.0705068111419678, 1.9890241622924805, 5.429770469665527, 3.235713243484497, 7.59219217300415, 13.713147163391113, 4.465480327606201, 14.252121925354004, 25.479644775390625, 12.01259708404541, 13.569063186645508, 13.787660598754883, 16.271190643310547, 7.040770053863525, 32.4669189453125, 8.844868659973145, 19.314111709594727, 12.032549858093262, 12.590555191040039, 23.448984146118164, 17.135517120361328, 4.841413497924805, 5.201349258422852, 4.33890962600708, 4.122779369354248, 4.122794151306152, 4.12301778793335, 3.9069743156433105, 3.9069743156433105, 3.9069743156433105, 3.9069743156433105, 3.911203145980835, 3.911203145980835, 3.911203145980835, 3.911203145980835, 3.911203145980835, 4.3254170417785645, 5.641757488250732, 5.150771141052246, 7.59219217300415, 5.804006576538086, 5.920130729675293, 8.264923095703125, 1.187492847442627, 1.1876552104949951, 47.386329650878906, 10.574532508850098, 1.1803220510482788, 18.123788833618164, 10.870915412902832, 20.32248306274414, 1.5540516376495361, 32.4669189453125, 18.576557159423828, 25.479644775390625, 31.47514533996582, 52.792423248291016, 37.10293960571289, 2.2203242778778076, 1.8543224334716797, 1.4881585836410522, 1.4881511926651, 1.4881633520126343, 1.4881856441497803, 1.48820161819458, 1.4881857633590698, 1.6755216121673584, 1.7211291790008545, 3.0742099285125732, 1.8938449621200562, 1.893212080001831, 2.7274398803710938, 1.1220108270645142, 1.1220108270645142, 1.1220747232437134, 1.1220815181732178, 1.1220771074295044, 1.1220768690109253, 1.1220760345458984, 1.1220821142196655, 1.1220779418945312, 1.1220818758010864, 1.1220824718475342, 1.1220821142196655, 1.1220824718475342, 1.1220829486846924, 1.1220827102661133, 1.1220769882202148, 4.039886951446533, 3.1370038986206055, 3.4325003623962402, 5.338129997253418, 2.830003499984741, 19.029678344726562, 8.329573631286621, 3.8701460361480713, 4.94435453414917, 6.123477458953857, 8.412773132324219, 10.668513298034668, 3.484517812728882, 9.533020973205566, 16.733749389648438, 4.760146617889404, 9.302562713623047, 8.01337718963623, 6.890631198883057, 3.6846203804016113, 3.684858798980713, 3.496891975402832, 3.4969305992126465, 4.126133918762207, 4.13250207901001, 10.870915412902832, 5.429770469665527, 4.609567642211914, 1.1333527565002441, 4.974286079406738, 22.96245765686035, 1.348183035850525, 9.62316608428955, 1.5375670194625854, 1.2170026302337646, 1.2382878065109253, 0.9438273906707764, 0.9438273906707764, 0.9438273906707764, 0.9438273906707764, 0.9439306855201721, 0.9439324140548706, 0.9439342021942139, 0.9439339637756348, 0.9439378976821899, 0.9439379572868347, 0.9439405202865601, 10.71961784362793, 14.205644607543945, 14.306055068969727, 2.4473369121551514, 37.10293960571289, 19.314111709594727, 19.30067253112793, 31.47514533996582, 23.448984146118164, 25.479644775390625, 32.4669189453125, 37.67652130126953, 36.32205581665039, 12.774456024169922, 1.466043472290039, 1.4251785278320312, 1.8004018068313599, 0.7990278005599976, 0.7990278005599976, 0.7990278005599976, 0.7995827794075012, 1.165088415145874, 1.1656981706619263, 0.9438273906707764, 0.9438273906707764, 0.9438273906707764, 0.9438273906707764, 0.9438681602478027, 0.9438681602478027, 0.9439306855201721, 0.9439339637756348, 0.9439407587051392, 0.9439526200294495, 0.9439412951469421, 0.9439379572868347, 0.9439398050308228, 0.9439457654953003, 0.9439378976821899, 0.9439424276351929, 0.9439415335655212, 0.9439405798912048, 0.9439324140548706, 0.9439401030540466, 0.9439421892166138, 0.9439641237258911, 7.718708038330078, 0.943947434425354, 0.9439817070960999, 0.9439465403556824, 0.9439342021942139, 0.9439405202865601, 3.251359224319458, 3.911203145980835, 3.911203145980835, 3.911203145980835, 3.911203145980835, 3.911203145980835, 7.020533084869385, 5.212456703186035, 13.759980201721191, 4.9152350425720215, 14.5948486328125, 30.284921646118164, 17.93260955810547, 12.774456024169922, 7.086408615112305, 37.10293960571289, 18.123788833618164, 3.660900592803955, 8.264923095703125, 47.386329650878906], \"Category\": [\"Default\", \"Default\", \"Default\", \"Default\", \"Default\", \"Default\", \"Default\", \"Default\", \"Default\", \"Default\", \"Default\", \"Default\", \"Default\", \"Default\", \"Default\", \"Default\", \"Default\", \"Default\", \"Default\", \"Default\", \"Default\", \"Default\", \"Default\", \"Default\", \"Default\", \"Default\", \"Default\", \"Default\", \"Default\", \"Default\", \"Topic1\", \"Topic1\", \"Topic1\", \"Topic1\", \"Topic1\", \"Topic1\", \"Topic1\", \"Topic1\", \"Topic1\", \"Topic1\", \"Topic1\", \"Topic1\", \"Topic1\", \"Topic1\", \"Topic1\", \"Topic1\", \"Topic1\", \"Topic1\", \"Topic1\", \"Topic1\", \"Topic1\", \"Topic1\", \"Topic1\", \"Topic1\", \"Topic1\", \"Topic1\", \"Topic1\", \"Topic1\", \"Topic1\", \"Topic1\", \"Topic1\", \"Topic1\", \"Topic1\", \"Topic1\", \"Topic1\", \"Topic1\", \"Topic1\", \"Topic1\", \"Topic1\", \"Topic1\", \"Topic1\", \"Topic1\", \"Topic1\", \"Topic1\", \"Topic1\", \"Topic1\", \"Topic1\", \"Topic1\", \"Topic1\", \"Topic1\", \"Topic1\", \"Topic2\", \"Topic2\", \"Topic2\", \"Topic2\", \"Topic2\", \"Topic2\", \"Topic2\", \"Topic2\", \"Topic2\", \"Topic2\", \"Topic2\", \"Topic2\", \"Topic2\", \"Topic2\", \"Topic2\", \"Topic2\", \"Topic2\", \"Topic2\", \"Topic2\", \"Topic2\", \"Topic2\", \"Topic2\", \"Topic2\", \"Topic2\", \"Topic2\", \"Topic2\", \"Topic2\", \"Topic2\", \"Topic2\", \"Topic2\", \"Topic2\", \"Topic2\", \"Topic2\", \"Topic2\", \"Topic2\", \"Topic2\", \"Topic2\", \"Topic2\", \"Topic2\", \"Topic2\", \"Topic2\", \"Topic2\", \"Topic2\", \"Topic2\", \"Topic2\", \"Topic2\", \"Topic2\", \"Topic2\", \"Topic3\", \"Topic3\", \"Topic3\", \"Topic3\", \"Topic3\", \"Topic3\", \"Topic3\", \"Topic3\", \"Topic3\", \"Topic3\", \"Topic3\", \"Topic3\", \"Topic3\", \"Topic3\", \"Topic3\", \"Topic3\", \"Topic3\", \"Topic3\", \"Topic3\", \"Topic3\", \"Topic3\", \"Topic3\", \"Topic3\", \"Topic3\", \"Topic3\", \"Topic3\", \"Topic3\", \"Topic3\", \"Topic3\", \"Topic3\", \"Topic3\", \"Topic3\", \"Topic3\", \"Topic3\", \"Topic3\", \"Topic3\", \"Topic3\", \"Topic3\", \"Topic3\", \"Topic3\", \"Topic4\", \"Topic4\", \"Topic4\", \"Topic4\", \"Topic4\", \"Topic4\", \"Topic4\", \"Topic4\", \"Topic4\", \"Topic4\", \"Topic4\", \"Topic4\", \"Topic4\", \"Topic4\", \"Topic4\", \"Topic4\", \"Topic4\", \"Topic4\", \"Topic4\", \"Topic4\", \"Topic4\", \"Topic4\", \"Topic4\", \"Topic4\", \"Topic4\", \"Topic4\", \"Topic4\", \"Topic4\", \"Topic4\", \"Topic4\", \"Topic4\", \"Topic4\", \"Topic4\", \"Topic4\", \"Topic4\", \"Topic4\", \"Topic4\", \"Topic4\", \"Topic4\", \"Topic4\", \"Topic4\", \"Topic4\", \"Topic4\", \"Topic4\", \"Topic4\", \"Topic4\", \"Topic4\", \"Topic4\", \"Topic4\", \"Topic4\", \"Topic4\", \"Topic4\", \"Topic4\", \"Topic4\", \"Topic4\", \"Topic4\", \"Topic4\", \"Topic5\", \"Topic5\", \"Topic5\", \"Topic5\", \"Topic5\", \"Topic5\", \"Topic5\", \"Topic5\", \"Topic5\", \"Topic5\", \"Topic5\", \"Topic5\", \"Topic5\", \"Topic5\", \"Topic5\", \"Topic5\", \"Topic5\", \"Topic5\", \"Topic5\", \"Topic5\", \"Topic5\", \"Topic5\", \"Topic5\", \"Topic5\", \"Topic5\", \"Topic5\", \"Topic5\", \"Topic5\", \"Topic5\", \"Topic5\", \"Topic5\", \"Topic5\", \"Topic5\", \"Topic5\", \"Topic5\", \"Topic5\", \"Topic6\", \"Topic6\", \"Topic6\", \"Topic6\", \"Topic6\", \"Topic6\", \"Topic6\", \"Topic6\", \"Topic6\", \"Topic6\", \"Topic6\", \"Topic6\", \"Topic6\", \"Topic6\", \"Topic6\", \"Topic6\", \"Topic6\", \"Topic6\", \"Topic6\", \"Topic6\", \"Topic6\", \"Topic6\", \"Topic6\", \"Topic6\", \"Topic6\", \"Topic6\", \"Topic6\", \"Topic6\", \"Topic6\", \"Topic6\", \"Topic6\", \"Topic6\", \"Topic6\", \"Topic6\", \"Topic6\", \"Topic6\", \"Topic6\", \"Topic6\", \"Topic6\", \"Topic6\", \"Topic6\", \"Topic6\", \"Topic6\", \"Topic6\", \"Topic6\", \"Topic6\", \"Topic6\", \"Topic7\", \"Topic7\", \"Topic7\", \"Topic7\", \"Topic7\", \"Topic7\", \"Topic7\", \"Topic7\", \"Topic7\", \"Topic7\", \"Topic7\", \"Topic7\", \"Topic7\", \"Topic7\", \"Topic7\", \"Topic7\", \"Topic7\", \"Topic7\", \"Topic7\", \"Topic7\", \"Topic7\", \"Topic7\", \"Topic7\", \"Topic7\", \"Topic7\", \"Topic7\", \"Topic7\", \"Topic7\", \"Topic7\", \"Topic7\", \"Topic7\", \"Topic7\", \"Topic7\", \"Topic7\", \"Topic7\", \"Topic7\", \"Topic7\", \"Topic7\", \"Topic7\", \"Topic7\", \"Topic7\", \"Topic7\", \"Topic7\", \"Topic7\", \"Topic8\", \"Topic8\", \"Topic8\", \"Topic8\", \"Topic8\", \"Topic8\", \"Topic8\", \"Topic8\", \"Topic8\", \"Topic8\", \"Topic8\", \"Topic8\", \"Topic8\", \"Topic8\", \"Topic8\", \"Topic8\", \"Topic8\", \"Topic8\", \"Topic8\", \"Topic8\", \"Topic8\", \"Topic8\", \"Topic8\", \"Topic8\", \"Topic8\", \"Topic8\", \"Topic8\", \"Topic8\", \"Topic8\", \"Topic8\", \"Topic8\", \"Topic8\", \"Topic8\", \"Topic8\", \"Topic8\", \"Topic8\", \"Topic8\", \"Topic8\", \"Topic8\", \"Topic8\", \"Topic8\", \"Topic8\", \"Topic8\", \"Topic8\", \"Topic8\", \"Topic8\", \"Topic8\", \"Topic8\", \"Topic8\", \"Topic8\", \"Topic8\", \"Topic8\", \"Topic8\", \"Topic8\", \"Topic8\", \"Topic8\", \"Topic8\"], \"logprob\": [30.0, 29.0, 28.0, 27.0, 26.0, 25.0, 24.0, 23.0, 22.0, 21.0, 20.0, 19.0, 18.0, 17.0, 16.0, 15.0, 14.0, 13.0, 12.0, 11.0, 10.0, 9.0, 8.0, 7.0, 6.0, 5.0, 4.0, 3.0, 2.0, 1.0, -4.772500038146973, -4.821100234985352, -4.927000045776367, -4.639599800109863, -4.985300064086914, -5.02209997177124, -5.046500205993652, -5.035799980163574, -5.1620001792907715, -3.8980000019073486, -5.312900066375732, -5.398600101470947, -4.959099769592285, -5.482699871063232, -5.1869001388549805, -5.48360013961792, -4.456500053405762, -5.1442999839782715, -5.58489990234375, -5.586699962615967, -5.590400218963623, -5.592299938201904, -4.670400142669678, -5.697199821472168, -5.6971001625061035, -5.706299781799316, -3.9165000915527344, -5.829699993133545, -5.831999778747559, -5.832499980926514, -5.178199768066406, -5.539400100708008, -4.886899948120117, -4.336400032043457, -4.165599822998047, -4.895699977874756, -5.08519983291626, -3.835900068283081, -4.929900169372559, -5.175600051879883, -4.210999965667725, -4.834099769592285, -5.026599884033203, -4.804999828338623, -4.8643999099731445, -4.959799766540527, -4.408899784088135, -4.586100101470947, -5.009200096130371, -4.940800189971924, -4.886300086975098, -3.5601999759674072, -3.953399896621704, -4.279900074005127, -4.5040998458862305, -4.504199981689453, -4.50439977645874, -4.555699825286865, -4.610000133514404, -4.667500019073486, -4.667600154876709, -4.728600025177002, -4.728799819946289, -4.731200218200684, -4.731200218200684, -4.674699783325195, -4.632599830627441, -4.732399940490723, -4.793700218200684, -4.793700218200684, -4.793700218200684, -4.793600082397461, -4.793600082397461, -4.3684000968933105, -5.072800159454346, -4.1392998695373535, -4.673600196838379, -5.657400131225586, -5.658599853515625, -4.5370001792907715, -5.831099987030029, -5.715400218963623, -4.527299880981445, -4.260499954223633, -5.253499984741211, -4.302000045776367, -3.8508999347686768, -4.274899959564209, -4.332099914550781, -4.4390997886657715, -4.521999835968018, -4.512700080871582, -4.446700096130371, -4.481299877166748, -4.643599987030029, -4.586400032043457, -4.662899971008301, -4.634099960327148, -4.663000106811523, -3.3248000144958496, -4.336599826812744, -3.811800003051758, -4.392199993133545, -4.392499923706055, -4.340099811553955, -4.4532999992370605, -4.4532999992370605, -4.453700065612793, -4.453800201416016, -3.6793999671936035, -4.518400192260742, -4.520899772644043, -4.520899772644043, -4.520899772644043, -4.520899772644043, -4.538000106811523, -4.538000106811523, -4.538000106811523, -4.538000106811523, -4.538000106811523, -4.538000106811523, -4.265100002288818, -4.475399971008301, -4.532299995422363, -3.006999969482422, -5.7652997970581055, -4.777500152587891, -6.031400203704834, -6.032899856567383, -3.214099884033203, -4.17710018157959, -3.4135000705718994, -4.018700122833252, -3.9070000648498535, -4.170899868011475, -4.254000186920166, -4.281000137329102, -4.363399982452393, -4.394599914550781, -3.7067999839782715, -3.7084999084472656, -5.283199787139893, -5.646999835968018, -5.646999835968018, -5.64709997177124, -5.64709997177124, -5.647200107574463, -5.647299766540527, -5.64739990234375, -5.647799968719482, -5.649099826812744, -5.294099807739258, -5.283299922943115, -5.325099945068359, -5.031000137329102, -5.650400161743164, -5.64709997177124, -5.653299808502197, -6.2245001792907715, -6.2245001792907715, -6.2245001792907715, -6.2245001792907715, -6.2245001792907715, -6.2245001792907715, -6.2245001792907715, -6.2245001792907715, -6.2245001792907715, -6.2245001792907715, -6.2245001792907715, -6.2245001792907715, -5.103899955749512, -5.840199947357178, -5.633399963378906, -5.098800182342529, -5.7195000648498535, -5.767000198364258, -4.915999889373779, -5.377299785614014, -4.88040018081665, -4.462200164794922, -5.278600215911865, -4.725299835205078, -4.5518999099731445, -5.212100028991699, -5.256100177764893, -5.268599987030029, -5.241399765014648, -5.408999919891357, -5.393799781799316, -5.534999847412109, -5.532700061798096, -5.573599815368652, -5.6016998291015625, -5.603300094604492, -5.615200042724609, -5.645699977874756, -3.990499973297119, -4.2032999992370605, -4.264100074768066, -4.264200210571289, -4.264200210571289, -4.32919979095459, -4.32919979095459, -4.32919979095459, -4.32919979095459, -4.330399990081787, -4.330399990081787, -4.330399990081787, -4.330399990081787, -4.330399990081787, -4.331099987030029, -4.094600200653076, -4.2241997718811035, -3.882999897003174, -4.2652997970581055, -4.278200149536133, -4.208499908447266, -6.2058000564575195, -6.206399917602539, -2.5699000358581543, -4.126200199127197, -6.326499938964844, -3.6389000415802, -4.161499977111816, -3.612299919128418, -6.207900047302246, -3.5174999237060547, -4.217700004577637, -4.03439998626709, -4.239500045776367, -4.240799903869629, -4.297599792480469, -4.819699764251709, -5.086100101470947, -5.44950008392334, -5.44950008392334, -5.4496002197265625, -5.449699878692627, -5.44980001449585, -5.44980001449585, -5.462100028991699, -5.449699878692627, -4.889999866485596, -5.44950008392334, -5.468400001525879, -5.111999988555908, -6.026899814605713, -6.026899814605713, -6.027200222015381, -6.027200222015381, -6.027200222015381, -6.027200222015381, -6.027200222015381, -6.027200222015381, -6.027200222015381, -6.027200222015381, -6.027200222015381, -6.027200222015381, -6.027200222015381, -6.027200222015381, -6.027299880981445, -6.027299880981445, -4.901500225067139, -5.246200084686279, -5.194799900054932, -5.039100170135498, -5.560699939727783, -4.748000144958496, -5.1305999755859375, -5.51170015335083, -5.572299957275391, -5.517899990081787, -5.426700115203857, -5.565999984741211, -5.818299770355225, -5.646699905395508, -5.65880012512207, -5.871600151062012, -5.806600093841553, -3.221299886703491, -3.4100000858306885, -4.055200099945068, -4.055300235748291, -4.120100021362305, -4.120200157165527, -4.061299800872803, -4.063000202178955, -3.370800018310547, -4.117599964141846, -4.436500072479248, -5.999199867248535, -4.679299831390381, -3.1591999530792236, -5.997099876403809, -4.120200157165527, -5.998000144958496, -6.232800006866455, -6.299799919128418, -6.575200080871582, -6.575200080871582, -6.575200080871582, -6.575200080871582, -6.575200080871582, -6.575200080871582, -6.575200080871582, -6.575200080871582, -6.575200080871582, -6.575200080871582, -6.575200080871582, -4.23360013961792, -4.015500068664551, -4.0233001708984375, -5.730000019073486, -3.4509999752044678, -4.023200035095215, -4.064899921417236, -3.694499969482422, -3.9602999687194824, -3.9460999965667725, -3.960200071334839, -3.8610999584198, -4.014900207519531, -5.325799942016602, -3.1322999000549316, -3.193700075149536, -3.258500099182129, -5.712500095367432, -5.712500095367432, -5.712500095367432, -5.713399887084961, -5.712500095367432, -5.713399887084961, -7.232800006866455, -7.232800006866455, -7.232800006866455, -7.232800006866455, -7.232800006866455, -7.232800006866455, -7.232800006866455, -7.232800006866455, -7.232800006866455, -7.232800006866455, -7.232800006866455, -7.232800006866455, -7.232800006866455, -7.232800006866455, -7.232800006866455, -7.232800006866455, -7.232800006866455, -7.232800006866455, -7.232800006866455, -7.232800006866455, -7.232800006866455, -7.232800006866455, -5.622000217437744, -7.232800006866455, -7.232800006866455, -7.232800006866455, -7.232800006866455, -7.232800006866455, -7.205599784851074, -7.203199863433838, -7.203199863433838, -7.203199863433838, -7.203199863433838, -7.203199863433838, -7.21619987487793, -7.220900058746338, -7.223899841308594, -7.223999977111816, -7.224999904632568, -7.226900100708008, -7.227399826049805, -7.227799892425537, -7.228099822998047, -7.228499889373779, -7.229400157928467, -7.229700088500977, -7.229899883270264, -7.230100154876709], \"loglift\": [30.0, 29.0, 28.0, 27.0, 26.0, 25.0, 24.0, 23.0, 22.0, 21.0, 20.0, 19.0, 18.0, 17.0, 16.0, 15.0, 14.0, 13.0, 12.0, 11.0, 10.0, 9.0, 8.0, 7.0, 6.0, 5.0, 4.0, 3.0, 2.0, 1.0, 0.63919997215271, 0.6378999948501587, 0.6345000267028809, 0.633400022983551, 0.6323000192642212, 0.6309000253677368, 0.6301000118255615, 0.6237000226974487, 0.6208000183105469, 0.6158999800682068, 0.6139000058174133, 0.6116999983787537, 0.611299991607666, 0.6090999841690063, 0.6083999872207642, 0.608299970626831, 0.6035000085830688, 0.6033999919891357, 0.6026999950408936, 0.6025999784469604, 0.5996999740600586, 0.5993000268936157, 0.5978999733924866, 0.5960000157356262, 0.5960000157356262, 0.5931000113487244, 0.5866000056266785, 0.5849000215530396, 0.5831000208854675, 0.5828999876976013, 0.5796999931335449, 0.5814999938011169, 0.5702000260353088, 0.5511999726295471, 0.5403000116348267, 0.5651999711990356, 0.5680000185966492, 0.4959999918937683, 0.5509999990463257, 0.5636000037193298, 0.45820000767707825, 0.5181999802589417, 0.542900025844574, 0.5027999877929688, 0.47380000352859497, 0.41659998893737793, 0.03099999949336052, 0.09849999845027924, 0.2849999964237213, 0.11959999799728394, -0.1265999972820282, 1.6437000036239624, 1.6296000480651855, 1.6136000156402588, 1.5992000102996826, 1.5992000102996826, 1.5989999771118164, 1.5953999757766724, 1.5914000272750854, 1.5867999792099, 1.5866999626159668, 1.5815999507904053, 1.5815000534057617, 1.580299973487854, 1.580299973487854, 1.5799000263214111, 1.5787999629974365, 1.5778000354766846, 1.575700044631958, 1.575700044631958, 1.575700044631958, 1.575700044631958, 1.575700044631958, 1.5650999546051025, 1.5449999570846558, 1.5206999778747559, 1.4731999635696411, 1.455399990081787, 1.454699993133545, 1.4508999586105347, 1.4189000129699707, 1.4178999662399292, 1.3890999555587769, 1.3770999908447266, 1.3687000274658203, 1.1263999938964844, 0.9088000059127808, 1.0625, 0.8113999962806702, 0.9139999747276306, 0.9868999719619751, 0.8838000297546387, 0.619700014591217, 0.6830999851226807, 1.167099952697754, 0.7001000046730042, 1.149399995803833, 0.18389999866485596, 0.18610000610351562, 2.47979998588562, 2.382999897003174, 2.376499891281128, 2.3763999938964844, 2.3759000301361084, 2.3759000301361084, 2.3671000003814697, 2.3671000003814697, 2.3664000034332275, 2.3661999702453613, 2.360300064086914, 2.3564000129699707, 2.348400115966797, 2.348400115966797, 2.348400115966797, 2.348400115966797, 2.339900016784668, 2.339900016784668, 2.339900016784668, 2.339900016784668, 2.339900016784668, 2.339900016784668, 2.1812000274658203, 2.165299892425537, 2.1349000930786133, 2.0594000816345215, 2.010499954223633, 1.9164999723434448, 1.892799973487854, 1.7692999839782715, 1.6038999557495117, 1.573699951171875, 1.4356000423431396, 1.1456999778747559, 0.7775999903678894, 1.1232999563217163, 1.2926000356674194, 1.1201000213623047, 1.401900053024292, 1.1648999452590942, 2.6333000659942627, 2.6328001022338867, 2.335400104522705, 2.2018001079559326, 2.2018001079559326, 2.20169997215271, 2.2016000747680664, 2.2014999389648438, 2.2014000415802, 2.2012999057769775, 2.200700044631958, 2.198699951171875, 2.1314001083374023, 2.123500108718872, 2.1003000736236572, 2.0987000465393066, 2.085900068283081, 1.9645999670028687, 1.958400011062622, 1.9239000082015991, 1.9239000082015991, 1.9239000082015991, 1.9239000082015991, 1.9239000082015991, 1.9239000082015991, 1.9239000082015991, 1.9239000082015991, 1.9239000082015991, 1.9239000082015991, 1.9239000082015991, 1.9239000082015991, 1.9018000364303589, 1.909600019454956, 1.8973000049591064, 1.7905999422073364, 1.8509999513626099, 1.8436000347137451, 1.6904000043869019, 1.7467000484466553, 1.3907999992370605, 1.2177000045776367, 1.523300051689148, 0.916100025177002, 0.5084999799728394, 0.6001999974250793, 0.4343999922275543, 0.4059000015258789, 0.26750001311302185, 0.9376000165939331, -0.5756999850273132, 0.5835000276565552, -0.19519999623298645, 0.2370000034570694, 0.16359999775886536, -0.45980000495910645, -0.15800000727176666, 1.0752999782562256, 2.658799886703491, 2.6273999214172363, 2.6175999641418457, 2.6175999641418457, 2.617500066757202, 2.606300115585327, 2.606300115585327, 2.606300115585327, 2.606300115585327, 2.604099988937378, 2.604099988937378, 2.604099988937378, 2.604099988937378, 2.604099988937378, 2.502700090408325, 2.4735000133514404, 2.434999942779541, 2.3880999088287354, 2.274399995803833, 2.2416999340057373, 1.9776999950408936, 1.920699954032898, 1.9198999404907227, 1.8701000213623047, 1.813599944114685, 1.805999994277954, 1.7621999979019165, 1.7506999969482422, 1.674299955368042, 1.6495000123977661, 1.3006000518798828, 1.1585999727249146, 1.0260000228881836, 0.6096000075340271, 0.09109999984502792, 0.3869999945163727, 2.6809000968933105, 2.594599962234497, 2.451200008392334, 2.451200008392334, 2.4511001110076904, 2.4509999752044678, 2.4509999752044678, 2.450900077819824, 2.3201000690460205, 2.3055999279022217, 2.2852001190185547, 2.210099935531616, 2.1916000843048096, 2.183000087738037, 2.1563000679016113, 2.1563000679016113, 2.155900001525879, 2.155900001525879, 2.155900001525879, 2.155900001525879, 2.155900001525879, 2.155900001525879, 2.155900001525879, 2.155900001525879, 2.155900001525879, 2.155900001525879, 2.155900001525879, 2.155900001525879, 2.155900001525879, 2.155900001525879, 2.0006000995635986, 1.9088000059127808, 1.8702000379562378, 1.5843000411987305, 1.6972999572753906, 0.6043000221252441, 1.0478999614715576, 1.4333000183105469, 1.1277999877929688, 0.9682999849319458, 0.7418000102043152, 0.36500000953674316, 1.231600046157837, 0.3968000113964081, -0.17800000309944153, 0.8665000200271606, 0.2614000141620636, 2.9958999156951904, 2.9581000804901123, 2.9388999938964844, 2.938800096511841, 2.926300048828125, 2.9261999130249023, 2.8196001052856445, 2.8164000511169434, 2.5413999557495117, 2.488800048828125, 2.3336000442504883, 2.1740000247955322, 2.014699935913086, 2.005199909210205, 2.0023999214172363, 1.9139000177383423, 1.8701000213623047, 1.8690999746322632, 1.7847000360488892, 1.780900001525879, 1.780900001525879, 1.780900001525879, 1.780900001525879, 1.7807999849319458, 1.7807999849319458, 1.7807999849319458, 1.7807999849319458, 1.7807999849319458, 1.7807999849319458, 1.7807999849319458, 1.6926000118255615, 1.6291999816894531, 1.614300012588501, 1.67330002784729, 1.2336000204086304, 1.3142000436782837, 1.2732000350952148, 1.1546000242233276, 1.1830999851226807, 1.114300012588501, 0.8578000068664551, 0.8082000017166138, 0.6909999847412109, 0.42500001192092896, 4.7835001945495605, 4.75029993057251, 4.4517998695373535, 2.8101000785827637, 2.8101000785827637, 2.8101000785827637, 2.8085999488830566, 2.433000087738037, 2.43149995803833, 1.1232999563217163, 1.1232999563217163, 1.1232999563217163, 1.1232999563217163, 1.1232000589370728, 1.1232000589370728, 1.1232000589370728, 1.1232000589370728, 1.1232000589370728, 1.1232000589370728, 1.1232000589370728, 1.1232000589370728, 1.1232000589370728, 1.1232000589370728, 1.1232000589370728, 1.1232000589370728, 1.1232000589370728, 1.1232000589370728, 1.1232000589370728, 1.1232000589370728, 1.1232000589370728, 1.1232000589370728, 0.6327000260353088, 1.1232000589370728, 1.1232000589370728, 1.1232000589370728, 1.1232000589370728, 1.1232000589370728, -0.08640000224113464, -0.2687000036239624, -0.2687000036239624, -0.2687000036239624, -0.2687000036239624, -0.2687000036239624, -0.8666999936103821, -0.5737000107765198, -1.5473999977111816, -0.5181000232696533, -1.6073999404907227, -2.3392999172210693, -1.8157000541687012, -1.4769999980926514, -0.8880000114440918, -2.5439000129699707, -1.8282999992370605, -0.22910000383853912, -1.0435999631881714, -2.79010009765625]}, \"token.table\": {\"Topic\": [2, 3, 2, 7, 1, 2, 7, 1, 4, 1, 3, 4, 6, 5, 1, 1, 6, 4, 1, 7, 6, 1, 6, 1, 4, 2, 5, 5, 1, 6, 1, 2, 4, 2, 1, 3, 2, 4, 1, 2, 5, 2, 4, 2, 3, 4, 2, 4, 1, 5, 5, 1, 2, 3, 5, 7, 1, 2, 4, 1, 2, 3, 1, 4, 2, 4, 1, 3, 4, 2, 7, 1, 2, 5, 1, 2, 1, 2, 1, 2, 4, 7, 2, 4, 1, 2, 3, 3, 2, 3, 2, 3, 2, 3, 1, 2, 6, 1, 1, 1, 4, 3, 4, 6, 2, 4, 4, 2, 1, 1, 2, 4, 1, 5, 3, 7, 3, 3, 5, 4, 5, 2, 6, 1, 4, 6, 2, 4, 1, 2, 3, 4, 5, 7, 4, 1, 4, 1, 2, 2, 1, 4, 2, 1, 5, 6, 1, 2, 3, 1, 2, 4, 1, 4, 5, 7, 1, 2, 4, 1, 2, 1, 4, 4, 5, 8, 8, 1, 3, 3, 5, 3, 4, 1, 2, 2, 4, 1, 4, 2, 1, 2, 6, 3, 5, 2, 3, 1, 2, 1, 6, 7, 1, 2, 4, 1, 1, 3, 4, 7, 1, 1, 2, 4, 1, 1, 2, 4, 2, 7, 1, 3, 5, 3, 5, 7, 7, 1, 2, 2, 1, 4, 4, 1, 3, 1, 4, 7, 1, 2, 1, 2, 1, 5, 1, 3, 7, 1, 5, 1, 5, 7, 4, 2, 3, 4, 1, 2, 6, 1, 2, 3, 5, 7, 2, 1, 6, 4, 2, 7, 1, 2, 4, 2, 3, 4, 2, 1, 2, 4, 5, 1, 5, 4, 6, 4, 5, 6, 2, 4, 1, 1, 6, 6, 4, 1, 2, 4, 1, 4, 2, 4, 4, 3, 4, 2, 6, 2, 2, 2, 6, 3, 5, 7, 4, 3, 3, 7, 1, 5, 1, 6, 2, 8, 1, 1, 4, 6, 1, 2, 4, 7, 1, 6, 1, 2, 6, 1, 2, 4, 2, 6, 1, 3, 4, 3, 2, 4, 2, 5, 1, 2, 7, 4, 1, 1, 4, 1, 6, 5, 4, 2, 1, 1, 2, 5, 4, 1, 6, 2, 2, 3, 4, 6, 1, 4, 4, 3, 5, 3, 1, 2, 4, 1, 5, 1, 2, 3, 7, 2, 4, 1, 2, 3, 2, 7, 1, 2, 3, 4, 7, 1, 3, 4, 1, 3, 4, 3, 1, 2, 5, 2, 3, 1, 2, 6, 5, 3, 2, 1, 4, 6, 1, 4, 5, 7, 6, 6, 1, 1, 2, 3, 7], \"Freq\": [0.8909105658531189, 0.8220521211624146, 0.14512458443641663, 0.8707475066184998, 0.8810073733329773, 0.02753148041665554, 0.08259444683790207, 0.8194704651832581, 0.2731568217277527, 0.9716780185699463, 0.8662979006767273, 0.5280263423919678, 0.5280263423919678, 0.7670273780822754, 0.9717037081718445, 0.4950633645057678, 0.2475316822528839, 0.48297354578971863, 0.828986644744873, 0.1554349958896637, 0.5392805337905884, 0.8391883373260498, 0.10489854216575623, 0.6718202233314514, 0.22394007444381714, 0.34458956122398376, 0.5168843269348145, 0.7678576111793518, 0.9067116379737854, 0.6719692349433899, 0.954351007938385, 0.022722642868757248, 0.022722642868757248, 0.9598957300186157, 0.1044970452785492, 0.8359763622283936, 0.5491677522659302, 0.5491677522659302, 0.9709323644638062, 0.23119157552719116, 0.6935747265815735, 0.9167858958244324, 0.8607760071754456, 0.9065507054328918, 0.41003021597862244, 0.41003021597862244, 0.503301739692688, 0.503301739692688, 0.9126580953598022, 0.9218906164169312, 0.7670273780822754, 0.5659928917884827, 0.026952043175697327, 0.16171225905418396, 0.08085612952709198, 0.13476021587848663, 0.9415197968482971, 0.039229992777109146, 0.039229992777109146, 0.9132055640220642, 0.8718258738517761, 0.7248853445053101, 0.8419798612594604, 0.1403299868106842, 0.5032556056976318, 0.5032556056976318, 0.19571936130523682, 0.5871580839157104, 0.6379241943359375, 0.24235762655735016, 0.7270728349685669, 0.11631785333156586, 0.8142249584197998, 0.7670273780822754, 0.1847529262304306, 0.7390117049217224, 0.9424848556518555, 0.9065734148025513, 0.38381195068359375, 0.4264577031135559, 0.04264577105641365, 0.12793731689453125, 0.30905085802078247, 0.30905085802078247, 0.9424582123756409, 0.9514380693435669, 0.608928382396698, 0.7186428904533386, 0.9586760401725769, 0.7248853445053101, 0.7010671496391296, 0.7248853445053101, 0.19058459997177124, 0.762338399887085, 0.6532235741615295, 0.16330589354038239, 0.16330589354038239, 0.9908681511878967, 0.9908085465431213, 0.7673924565315247, 0.19184811413288116, 0.91239333152771, 0.8607760071754456, 0.671951949596405, 0.9396589398384094, 0.09396588802337646, 0.6379125118255615, 0.9587754607200623, 0.9128932952880859, 0.7292271852493286, 0.0729227215051651, 0.2187681645154953, 0.8915327787399292, 0.09905919432640076, 0.6031016111373901, 0.40206775069236755, 0.687930166721344, 0.7248853445053101, 0.7276618480682373, 0.5700864791870117, 0.7678576111793518, 0.6375510096549988, 0.3187755048274994, 0.8963920474052429, 0.059759471565485, 0.059759471565485, 0.4177754521369934, 0.4177754521369934, 0.030800582841038704, 0.21560406684875488, 0.4004075527191162, 0.030800582841038704, 0.21560406684875488, 0.09240174293518066, 0.8607760071754456, 0.9364392757415771, 0.8607760071754456, 0.9180126786231995, 0.048316456377506256, 0.9345099329948425, 0.6196537613868713, 0.20655125379562378, 0.6238440871238708, 0.3378303647041321, 0.5067455768585205, 0.6719591617584229, 0.6381875276565552, 0.06381875276565552, 0.3190937638282776, 0.8786715269088745, 0.05857810005545616, 0.05857810005545616, 0.9731040000915527, 0.09198857098817825, 0.367954283952713, 0.5519314408302307, 0.7978148460388184, 0.14505724608898163, 0.07252862304449081, 0.8488767743110657, 0.06529821455478668, 0.9479936361312866, 0.8607760071754456, 0.8607760071754456, 0.7670273780822754, 0.6821079850196838, 0.7016664743423462, 0.7111450433731079, 0.2585982084274292, 0.9123857617378235, 0.7276644706726074, 0.5930265784263611, 0.637761652469635, 0.19843637943267822, 0.7937455177307129, 0.7484551072120667, 0.18711377680301666, 0.9939195513725281, 0.6503781676292419, 0.9827107787132263, 0.5619945526123047, 0.18733151257038116, 0.18733151257038116, 0.8664520978927612, 0.7670273780822754, 0.9068875312805176, 0.8250293731689453, 0.9149969220161438, 0.8909005522727966, 0.8436039686203003, 0.0937337726354599, 0.8578951954841614, 0.9937223792076111, 0.4888116419315338, 0.4888116419315338, 0.8546359539031982, 0.4664345383644104, 0.1865738183259964, 0.0932869091629982, 0.1865738183259964, 0.9692049026489258, 0.4260897636413574, 0.4260897636413574, 0.14202992618083954, 0.946037232875824, 0.8544545769691467, 0.10052406787872314, 0.05026203393936157, 0.24198414385318756, 0.7259524464607239, 0.3862327039241791, 0.22070440649986267, 0.3310565948486328, 0.4086074233055115, 0.4086074233055115, 0.4086074233055115, 0.8141951560974121, 0.39692673087120056, 0.5670381784439087, 0.8717814087867737, 0.8137962818145752, 0.6379439234733582, 0.8466912508010864, 0.9708555936813354, 0.7248853445053101, 0.9699244499206543, 0.3683396875858307, 0.5525095462799072, 0.5492669939994812, 0.4394136071205139, 0.9229510426521301, 0.0709962397813797, 0.48397305607795715, 0.48397305607795715, 0.5479685664176941, 0.3914060890674591, 0.0782812163233757, 0.1772497296333313, 0.7089989185333252, 0.8227936029434204, 0.07962518185377121, 0.10616691410541534, 0.6378887295722961, 0.5817553400993347, 0.24932371079921722, 0.08310790359973907, 0.8407919406890869, 0.05254949629306793, 0.10509899258613586, 0.1906266063451767, 0.22239769995212555, 0.3177109956741333, 0.1270844042301178, 0.1270844042301178, 0.8718258738517761, 0.5739675164222717, 0.28698375821113586, 0.8607760071754456, 0.7689051628112793, 0.20970141887664795, 0.24973782896995544, 0.5827215909957886, 0.08324594795703888, 0.9587571024894714, 0.8486726880073547, 0.5778470635414124, 0.8717814087867737, 0.8334529399871826, 0.07576844841241837, 0.01894211210310459, 0.07576844841241837, 0.5674009919166565, 0.3782673180103302, 0.8607795238494873, 0.6719747185707092, 0.26342853903770447, 0.6585713028907776, 0.6719591021537781, 0.9171907305717468, 0.6379136443138123, 0.9484245181083679, 0.8599780797958374, 0.10749725997447968, 0.9007693529129028, 0.506758987903595, 0.5895764231681824, 0.2947882115840912, 0.0736970528960228, 0.9287508130073547, 0.6379356980323792, 0.31079787015914917, 0.6215957403182983, 0.8607760071754456, 0.7186428904533386, 0.8607795238494873, 0.9598968029022217, 0.5968290567398071, 0.8718258738517761, 0.868567168712616, 0.3252868354320526, 0.3252868354320526, 0.6276767253875732, 0.1569191813468933, 0.8579046726226807, 0.8607760071754456, 0.9121202230453491, 0.12479133158922195, 0.8735393285751343, 0.959242582321167, 0.727622389793396, 0.7203249931335449, 0.12005416303873062, 0.5554315447807312, 0.5554315447807312, 0.9121811389923096, 0.6302326917648315, 0.21007756888866425, 0.21007756888866425, 0.2071024626493454, 0.5177561640739441, 0.05177561566233635, 0.15532684326171875, 0.5167763829231262, 0.2583881914615631, 0.3533564507961273, 0.3533564507961273, 0.3533564507961273, 0.47336816787719727, 0.47336816787719727, 0.05259646102786064, 0.9027978777885437, 0.5282028317451477, 0.5559722781181335, 0.3176984488964081, 0.07942461222410202, 0.7225841283798218, 0.5027590990066528, 0.5027590990066528, 0.19414567947387695, 0.7765827178955078, 0.9215773940086365, 0.06743249297142029, 0.8141424655914307, 0.464149534702301, 0.9447687864303589, 0.7914193272590637, 0.11305990070104599, 0.3666442036628723, 0.3666442036628723, 0.7678576111793518, 0.6373068690299988, 0.890984833240509, 0.9334630370140076, 0.29523950815200806, 0.39365267753601074, 0.3444460928440094, 0.6379321217536926, 0.809003472328186, 0.2022508680820465, 0.9313944578170776, 0.29133281111717224, 0.29133281111717224, 0.29133281111717224, 0.29133281111717224, 0.9337331056594849, 0.058358319103717804, 0.8607760071754456, 0.9121858477592468, 0.9612890481948853, 0.7186428904533386, 0.3687499165534973, 0.4916665256023407, 0.06145831570029259, 0.7536380290985107, 0.21532514691352844, 0.9285368323326111, 0.07737807184457779, 0.43388018012046814, 0.43388018012046814, 0.41772469878196716, 0.41772469878196716, 0.46484702825546265, 0.46484702825546265, 0.08715881407260895, 0.6234953999519348, 0.3117476999759674, 0.42236730456352234, 0.07039455324411392, 0.21118365228176117, 0.07039455324411392, 0.21118365228176117, 0.9226910471916199, 0.9087057113647461, 0.8476449847221375, 0.6941776275634766, 0.24792057275772095, 0.04958411306142807, 0.7186428904533386, 0.5275782942771912, 0.06330940127372742, 0.4009595215320587, 0.35534584522247314, 0.6317259669303894, 0.0714867115020752, 0.8578405976295471, 0.0714867115020752, 0.7678576111793518, 0.7248853445053101, 0.9266000986099243, 0.8320680856704712, 0.11886686831712723, 0.11886686831712723, 0.5887052416801453, 0.11774104833602905, 0.15698805451393127, 0.11774104833602905, 0.5810139179229736, 0.6719713807106018, 0.9002979397773743, 0.043549343943595886, 0.39194411039352417, 0.2612960636615753, 0.3048454225063324], \"Term\": [\"able\", \"add\", \"allow\", \"allow\", \"also\", \"also\", \"also\", \"always\", \"always\", \"amazing\", \"ancient\", \"anywhere\", \"anywhere\", \"app\", \"architecture\", \"arrive\", \"arrive\", \"ask\", \"attraction\", \"attraction\", \"bag\", \"bathroom\", \"bathroom\", \"beautifully\", \"beautifully\", \"bit\", \"bit\", \"blue\", \"book\", \"booking\", \"breakfast\", \"breakfast\", \"breakfast\", \"british\", \"build\", \"build\", \"building\", \"building\", \"bus\", \"cancel\", \"cancel\", \"car\", \"carry\", \"change\", \"character\", \"character\", \"charm\", \"charm\", \"check\", \"checkpoint\", \"church\", \"city\", \"city\", \"city\", \"city\", \"city\", \"clean\", \"clean\", \"clean\", \"close\", \"coin\", \"colonial\", \"comfortable\", \"comfortable\", \"completely\", \"completely\", \"connect\", \"connect\", \"cosy\", \"country\", \"country\", \"couple\", \"couple\", \"cover\", \"cross\", \"cross\", \"cypriot\", \"daily\", \"day\", \"day\", \"day\", \"day\", \"decorate\", \"decorate\", \"delicious\", \"different\", \"difficult\", \"diversity\", \"divide\", \"domed\", \"door\", \"doorway\", \"drive\", \"drive\", \"early\", \"early\", \"early\", \"easy\", \"eat\", \"entrance\", \"entrance\", \"especially\", \"establishment\", \"euro\", \"even\", \"even\", \"everyday\", \"exhibition\", \"extremely\", \"feel\", \"feel\", \"feel\", \"find\", \"find\", \"first\", \"first\", \"fix\", \"floor\", \"follow\", \"former\", \"frequently\", \"fridge\", \"fridge\", \"friendly\", \"friendly\", \"friendly\", \"fruit\", \"fruit\", \"gate\", \"gate\", \"gate\", \"gate\", \"gate\", \"gate\", \"generally\", \"go\", \"granddaughter\", \"great\", \"great\", \"greek\", \"guest\", \"guest\", \"guesthouse\", \"guide\", \"guide\", \"hairdryer\", \"help\", \"help\", \"help\", \"helpful\", \"helpful\", \"helpful\", \"highly\", \"history\", \"history\", \"history\", \"home\", \"home\", \"home\", \"host\", \"host\", \"hour\", \"human\", \"immense\", \"important\", \"impressed\", \"impressive\", \"information\", \"information\", \"inscription\", \"interest\", \"issue\", \"key\", \"kind\", \"kind\", \"kitchen\", \"kitchen\", \"know\", \"lane\", \"language\", \"large\", \"large\", \"large\", \"lead\", \"leisurely\", \"less\", \"line\", \"little\", \"live\", \"local\", \"local\", \"locality\", \"locate\", \"location\", \"location\", \"long\", \"look\", \"look\", \"look\", \"look\", \"lot\", \"love\", \"love\", \"love\", \"lovely\", \"make\", \"make\", \"make\", \"manage\", \"manage\", \"map\", \"map\", \"map\", \"middle\", \"middle\", \"middle\", \"military\", \"minute\", \"minute\", \"moderately\", \"modern\", \"money\", \"monument\", \"morning\", \"movement\", \"much\", \"name\", \"name\", \"need\", \"need\", \"night\", \"night\", \"north\", \"north\", \"northern\", \"northern\", \"northern\", \"office\", \"office\", \"old\", \"old\", \"old\", \"opportunity\", \"original\", \"original\", \"original\", \"owner\", \"owner\", \"owner\", \"part\", \"part\", \"part\", \"part\", \"part\", \"passport\", \"pay\", \"pay\", \"peace\", \"people\", \"people\", \"perfect\", \"perfect\", \"perfect\", \"perhaps\", \"period\", \"photo\", \"picture\", \"place\", \"place\", \"place\", \"place\", \"point\", \"point\", \"powerful\", \"premise\", \"preserve\", \"preserve\", \"produce\", \"put\", \"quickly\", \"quiet\", \"quite\", \"quite\", \"rate\", \"reach\", \"really\", \"really\", \"really\", \"recommend\", \"refresh\", \"relax\", \"relax\", \"remarkably\", \"remind\", \"reminder\", \"remove\", \"return\", \"rich\", \"right\", \"rise\", \"rise\", \"road\", \"road\", \"safety\", \"seating\", \"section\", \"see\", \"see\", \"self\", \"separately\", \"serve\", \"serve\", \"several\", \"several\", \"shop\", \"show\", \"show\", \"show\", \"side\", \"side\", \"side\", \"side\", \"sit\", \"sit\", \"size\", \"size\", \"size\", \"small\", \"small\", \"small\", \"speak\", \"spot\", \"staff\", \"staff\", \"staff\", \"stage\", \"stand\", \"stand\", \"start\", \"start\", \"stay\", \"stay\", \"step\", \"still\", \"store\", \"street\", \"street\", \"suitable\", \"suitable\", \"suppose\", \"sure\", \"surround\", \"swallow\", \"take\", \"take\", \"take\", \"tasty\", \"taxi\", \"taxi\", \"tea\", \"think\", \"think\", \"think\", \"think\", \"time\", \"time\", \"togetherness\", \"top\", \"tour\", \"tourism\", \"tourist\", \"tourist\", \"tourist\", \"town\", \"town\", \"traditional\", \"traditional\", \"traffic\", \"traffic\", \"tree\", \"tree\", \"turkish\", \"turkish\", \"turkish\", \"understand\", \"understand\", \"use\", \"use\", \"use\", \"use\", \"use\", \"useful\", \"venetian\", \"view\", \"visit\", \"visit\", \"visit\", \"visitor\", \"walk\", \"walk\", \"walk\", \"wall\", \"wall\", \"want\", \"want\", \"want\", \"warn\", \"watchtower\", \"way\", \"welcome\", \"welcome\", \"welcome\", \"well\", \"well\", \"well\", \"well\", \"white\", \"winter\", \"work\", \"worth\", \"worth\", \"worth\", \"worth\"]}, \"R\": 30, \"lambda.step\": 0.01, \"plot.opts\": {\"xlab\": \"PC1\", \"ylab\": \"PC2\"}, \"topic.order\": [8, 2, 4, 1, 6, 3, 7, 5]};\n",
       "\n",
       "function LDAvis_load_lib(url, callback){\n",
       "  var s = document.createElement('script');\n",
       "  s.src = url;\n",
       "  s.async = true;\n",
       "  s.onreadystatechange = s.onload = callback;\n",
       "  s.onerror = function(){console.warn(\"failed to load library \" + url);};\n",
       "  document.getElementsByTagName(\"head\")[0].appendChild(s);\n",
       "}\n",
       "\n",
       "if(typeof(LDAvis) !== \"undefined\"){\n",
       "   // already loaded: just create the visualization\n",
       "   !function(LDAvis){\n",
       "       new LDAvis(\"#\" + \"ldavis_el2137617374597020881314476994\", ldavis_el2137617374597020881314476994_data);\n",
       "   }(LDAvis);\n",
       "}else if(typeof define === \"function\" && define.amd){\n",
       "   // require.js is available: use it to load d3/LDAvis\n",
       "   require.config({paths: {d3: \"https://cdnjs.cloudflare.com/ajax/libs/d3/3.5.5/d3.min\"}});\n",
       "   require([\"d3\"], function(d3){\n",
       "      window.d3 = d3;\n",
       "      LDAvis_load_lib(\"https://cdn.rawgit.com/bmabey/pyLDAvis/files/ldavis.v1.0.0.js\", function(){\n",
       "        new LDAvis(\"#\" + \"ldavis_el2137617374597020881314476994\", ldavis_el2137617374597020881314476994_data);\n",
       "      });\n",
       "    });\n",
       "}else{\n",
       "    // require.js not available: dynamically load d3 & LDAvis\n",
       "    LDAvis_load_lib(\"https://cdnjs.cloudflare.com/ajax/libs/d3/3.5.5/d3.min.js\", function(){\n",
       "         LDAvis_load_lib(\"https://cdn.rawgit.com/bmabey/pyLDAvis/files/ldavis.v1.0.0.js\", function(){\n",
       "                 new LDAvis(\"#\" + \"ldavis_el2137617374597020881314476994\", ldavis_el2137617374597020881314476994_data);\n",
       "            })\n",
       "         });\n",
       "}\n",
       "</script>"
      ],
      "text/plain": [
       "PreparedData(topic_coordinates=              x         y  topics  cluster       Freq\n",
       "topic                                                \n",
       "7     -0.232528  0.076750       1        1  51.220695\n",
       "1      0.149064  0.197849       2        1  18.765745\n",
       "3      0.247299 -0.078404       3        1   7.897590\n",
       "0      0.012975  0.014081       4        1   6.525923\n",
       "5     -0.151290 -0.186400       5        1   6.066038\n",
       "2     -0.046142  0.115972       6        1   4.831327\n",
       "6      0.063849 -0.179389       7        1   4.281209\n",
       "4     -0.043228  0.039542       8        1   0.411472, topic_info=       Term       Freq      Total Category  logprob  loglift\n",
       "107    walk  47.000000  47.000000  Default  30.0000  30.0000\n",
       "7      city  37.000000  37.000000  Default  29.0000  29.0000\n",
       "227    wall  25.000000  25.000000  Default  28.0000  28.0000\n",
       "744    gate  32.000000  32.000000  Default  27.0000  27.0000\n",
       "196     old  37.000000  37.000000  Default  26.0000  26.0000\n",
       "..      ...        ...        ...      ...      ...      ...\n",
       "7      city   0.011994  37.102940   Topic8  -7.2285  -2.5439\n",
       "93      map   0.011983  18.123789   Topic8  -7.2294  -1.8283\n",
       "633  always   0.011979   3.660901   Topic8  -7.2297  -0.2291\n",
       "593   north   0.011977   8.264923   Topic8  -7.2299  -1.0436\n",
       "107    walk   0.011975  47.386330   Topic8  -7.2301  -2.7901\n",
       "\n",
       "[410 rows x 6 columns], token_table=      Topic      Freq   Term\n",
       "term                        \n",
       "469       2  0.890911   able\n",
       "732       3  0.822052    add\n",
       "516       2  0.145125  allow\n",
       "516       7  0.870748  allow\n",
       "0         1  0.881007   also\n",
       "...     ...       ...    ...\n",
       "363       1  0.900298   work\n",
       "330       1  0.043549  worth\n",
       "330       2  0.391944  worth\n",
       "330       3  0.261296  worth\n",
       "330       7  0.304845  worth\n",
       "\n",
       "[423 rows x 3 columns], R=30, lambda_step=0.01, plot_opts={'xlab': 'PC1', 'ylab': 'PC2'}, topic_order=[8, 2, 4, 1, 6, 3, 7, 5])"
      ]
     },
     "metadata": {},
     "output_type": "display_data"
    }
   ],
   "source": [
    "plot_model(tuned_pos_8, plot ='topic_model')"
   ]
  },
  {
   "cell_type": "markdown",
   "metadata": {},
   "source": [
    "# Negative reviews"
   ]
  },
  {
   "cell_type": "code",
   "execution_count": 16,
   "metadata": {},
   "outputs": [
    {
     "data": {
      "text/html": [
       "<div>\n",
       "<style scoped>\n",
       "    .dataframe tbody tr th:only-of-type {\n",
       "        vertical-align: middle;\n",
       "    }\n",
       "\n",
       "    .dataframe tbody tr th {\n",
       "        vertical-align: top;\n",
       "    }\n",
       "\n",
       "    .dataframe thead th {\n",
       "        text-align: right;\n",
       "    }\n",
       "</style>\n",
       "<table border=\"1\" class=\"dataframe\">\n",
       "  <thead>\n",
       "    <tr style=\"text-align: right;\">\n",
       "      <th></th>\n",
       "      <th>Unnamed: 0</th>\n",
       "      <th>r_points</th>\n",
       "      <th>r_text</th>\n",
       "      <th>place</th>\n",
       "      <th>scores</th>\n",
       "      <th>compound</th>\n",
       "      <th>score</th>\n",
       "    </tr>\n",
       "  </thead>\n",
       "  <tbody>\n",
       "    <tr>\n",
       "      <th>0</th>\n",
       "      <td>12</td>\n",
       "      <td>10</td>\n",
       "      <td>We tried t reach the hotel, but as it is in th...</td>\n",
       "      <td>Cypriot Swallow Boutique Hotel</td>\n",
       "      <td>{'neg': 0.077, 'neu': 0.882, 'pos': 0.041, 'co...</td>\n",
       "      <td>-0.8222</td>\n",
       "      <td>neg</td>\n",
       "    </tr>\n",
       "    <tr>\n",
       "      <th>1</th>\n",
       "      <td>84</td>\n",
       "      <td>50</td>\n",
       "      <td>In 1878 the administration of the island was o...</td>\n",
       "      <td>Kyrenia Gate</td>\n",
       "      <td>{'neg': 0.043, 'neu': 0.926, 'pos': 0.031, 'co...</td>\n",
       "      <td>-0.4767</td>\n",
       "      <td>neg</td>\n",
       "    </tr>\n",
       "    <tr>\n",
       "      <th>2</th>\n",
       "      <td>96</td>\n",
       "      <td>30</td>\n",
       "      <td>Visited northern side of Nicosia, up past the ...</td>\n",
       "      <td>Kyrenia Gate</td>\n",
       "      <td>{'neg': 0.102, 'neu': 0.898, 'pos': 0.0, 'comp...</td>\n",
       "      <td>-0.6249</td>\n",
       "      <td>neg</td>\n",
       "    </tr>\n",
       "    <tr>\n",
       "      <th>3</th>\n",
       "      <td>98</td>\n",
       "      <td>30</td>\n",
       "      <td>Small gate, now tourist office when it's open,...</td>\n",
       "      <td>Kyrenia Gate</td>\n",
       "      <td>{'neg': 0.233, 'neu': 0.735, 'pos': 0.031, 'co...</td>\n",
       "      <td>-0.8747</td>\n",
       "      <td>neg</td>\n",
       "    </tr>\n",
       "    <tr>\n",
       "      <th>4</th>\n",
       "      <td>104</td>\n",
       "      <td>20</td>\n",
       "      <td>It is the northern enterance to the old part o...</td>\n",
       "      <td>Kyrenia Gate</td>\n",
       "      <td>{'neg': 0.063, 'neu': 0.895, 'pos': 0.041, 'co...</td>\n",
       "      <td>-0.2469</td>\n",
       "      <td>neg</td>\n",
       "    </tr>\n",
       "    <tr>\n",
       "      <th>5</th>\n",
       "      <td>111</td>\n",
       "      <td>30</td>\n",
       "      <td>Coming south from Kyrenia you pass this imposi...</td>\n",
       "      <td>Kyrenia Gate</td>\n",
       "      <td>{'neg': 0.129, 'neu': 0.804, 'pos': 0.066, 'co...</td>\n",
       "      <td>-0.2023</td>\n",
       "      <td>neg</td>\n",
       "    </tr>\n",
       "    <tr>\n",
       "      <th>6</th>\n",
       "      <td>113</td>\n",
       "      <td>20</td>\n",
       "      <td>We was in this piace in the old center of town...</td>\n",
       "      <td>Kyrenia Gate</td>\n",
       "      <td>{'neg': 0.122, 'neu': 0.761, 'pos': 0.117, 'co...</td>\n",
       "      <td>-0.0387</td>\n",
       "      <td>neg</td>\n",
       "    </tr>\n",
       "  </tbody>\n",
       "</table>\n",
       "</div>"
      ],
      "text/plain": [
       "   Unnamed: 0  r_points                                             r_text  \\\n",
       "0          12        10  We tried t reach the hotel, but as it is in th...   \n",
       "1          84        50  In 1878 the administration of the island was o...   \n",
       "2          96        30  Visited northern side of Nicosia, up past the ...   \n",
       "3          98        30  Small gate, now tourist office when it's open,...   \n",
       "4         104        20  It is the northern enterance to the old part o...   \n",
       "5         111        30  Coming south from Kyrenia you pass this imposi...   \n",
       "6         113        20  We was in this piace in the old center of town...   \n",
       "\n",
       "                            place  \\\n",
       "0  Cypriot Swallow Boutique Hotel   \n",
       "1                    Kyrenia Gate   \n",
       "2                    Kyrenia Gate   \n",
       "3                    Kyrenia Gate   \n",
       "4                    Kyrenia Gate   \n",
       "5                    Kyrenia Gate   \n",
       "6                    Kyrenia Gate   \n",
       "\n",
       "                                              scores  compound score  \n",
       "0  {'neg': 0.077, 'neu': 0.882, 'pos': 0.041, 'co...   -0.8222   neg  \n",
       "1  {'neg': 0.043, 'neu': 0.926, 'pos': 0.031, 'co...   -0.4767   neg  \n",
       "2  {'neg': 0.102, 'neu': 0.898, 'pos': 0.0, 'comp...   -0.6249   neg  \n",
       "3  {'neg': 0.233, 'neu': 0.735, 'pos': 0.031, 'co...   -0.8747   neg  \n",
       "4  {'neg': 0.063, 'neu': 0.895, 'pos': 0.041, 'co...   -0.2469   neg  \n",
       "5  {'neg': 0.129, 'neu': 0.804, 'pos': 0.066, 'co...   -0.2023   neg  \n",
       "6  {'neg': 0.122, 'neu': 0.761, 'pos': 0.117, 'co...   -0.0387   neg  "
      ]
     },
     "execution_count": 16,
     "metadata": {},
     "output_type": "execute_result"
    }
   ],
   "source": [
    "neg_review = pd.read_csv(r'C:\\Users\\Dell\\Desktop\\sentiment_cluster11_neg.csv')\n",
    "neg_review"
   ]
  },
  {
   "cell_type": "code",
   "execution_count": 17,
   "metadata": {},
   "outputs": [
    {
     "data": {
      "text/html": [
       "<style  type=\"text/css\" >\n",
       "</style><table id=\"T_09499262_3269_11eb_8949_c48e8ff9d2e0\" ><thead>    <tr>        <th class=\"col_heading level0 col0\" >Description</th>        <th class=\"col_heading level0 col1\" >Value</th>    </tr></thead><tbody>\n",
       "                <tr>\n",
       "                                <td id=\"T_09499262_3269_11eb_8949_c48e8ff9d2e0row0_col0\" class=\"data row0 col0\" >session_id</td>\n",
       "                        <td id=\"T_09499262_3269_11eb_8949_c48e8ff9d2e0row0_col1\" class=\"data row0 col1\" >454</td>\n",
       "            </tr>\n",
       "            <tr>\n",
       "                                <td id=\"T_09499262_3269_11eb_8949_c48e8ff9d2e0row1_col0\" class=\"data row1 col0\" >Documents</td>\n",
       "                        <td id=\"T_09499262_3269_11eb_8949_c48e8ff9d2e0row1_col1\" class=\"data row1 col1\" >7</td>\n",
       "            </tr>\n",
       "            <tr>\n",
       "                                <td id=\"T_09499262_3269_11eb_8949_c48e8ff9d2e0row2_col0\" class=\"data row2 col0\" >Vocab Size</td>\n",
       "                        <td id=\"T_09499262_3269_11eb_8949_c48e8ff9d2e0row2_col1\" class=\"data row2 col1\" >163</td>\n",
       "            </tr>\n",
       "            <tr>\n",
       "                                <td id=\"T_09499262_3269_11eb_8949_c48e8ff9d2e0row3_col0\" class=\"data row3 col0\" >Custom Stopwords</td>\n",
       "                        <td id=\"T_09499262_3269_11eb_8949_c48e8ff9d2e0row3_col1\" class=\"data row3 col1\" >True</td>\n",
       "            </tr>\n",
       "    </tbody></table>"
      ],
      "text/plain": [
       "<pandas.io.formats.style.Styler at 0x1948c9f2548>"
      ]
     },
     "metadata": {},
     "output_type": "display_data"
    }
   ],
   "source": [
    "exp_nlp_neg = setup(data = neg_review, target = 'r_text',\n",
    "                custom_stopwords = [ 'hotel', 'room', 'nice', 'good','restaurant', 'food','bad'])"
   ]
  },
  {
   "cell_type": "code",
   "execution_count": 18,
   "metadata": {},
   "outputs": [
    {
     "name": "stdout",
     "output_type": "stream",
     "text": [
      "LdaModel(num_terms=163, num_topics=4, decay=0.5, chunksize=100)\n"
     ]
    }
   ],
   "source": [
    "#create an LDA model\n",
    "lda_neg_custom = create_model('lda')\n",
    "print(lda_neg_custom)"
   ]
  },
  {
   "cell_type": "code",
   "execution_count": 19,
   "metadata": {},
   "outputs": [],
   "source": [
    "apply_lda_neg = assign_model(lda_neg_custom)"
   ]
  },
  {
   "cell_type": "code",
   "execution_count": 20,
   "metadata": {},
   "outputs": [
    {
     "data": {
      "application/vnd.jupyter.widget-view+json": {
       "model_id": "c4ccf86a1ca9444ca49eb5521781e63b",
       "version_major": 2,
       "version_minor": 0
      },
      "text/plain": [
       "interactive(children=(ToggleButtons(description='Plot Type:', icons=('',), options=(('Frequency Plot', 'freque…"
      ]
     },
     "metadata": {},
     "output_type": "display_data"
    }
   ],
   "source": [
    "evaluate_model(lda_neg_custom)"
   ]
  },
  {
   "cell_type": "code",
   "execution_count": 21,
   "metadata": {},
   "outputs": [
    {
     "data": {
      "application/vnd.jupyter.widget-view+json": {
       "model_id": "",
       "version_major": 2,
       "version_minor": 0
      },
      "text/plain": [
       "IntProgress(value=0, description='Processing: ', max=25)"
      ]
     },
     "metadata": {},
     "output_type": "display_data"
    },
    {
     "data": {
      "application/vnd.jupyter.widget-view+json": {
       "model_id": "efc9398be45d4bdbaa7ab8436937a607",
       "version_major": 2,
       "version_minor": 0
      },
      "text/plain": [
       "Output()"
      ]
     },
     "metadata": {},
     "output_type": "display_data"
    },
    {
     "data": {
      "text/html": [
       "        <script type=\"text/javascript\">\n",
       "        window.PlotlyConfig = {MathJaxConfig: 'local'};\n",
       "        if (window.MathJax) {MathJax.Hub.Config({SVG: {font: \"STIX-Web\"}});}\n",
       "        if (typeof require !== 'undefined') {\n",
       "        require.undef(\"plotly\");\n",
       "        requirejs.config({\n",
       "            paths: {\n",
       "                'plotly': ['https://cdn.plot.ly/plotly-latest.min']\n",
       "            }\n",
       "        });\n",
       "        require(['plotly'], function(Plotly) {\n",
       "            window._Plotly = Plotly;\n",
       "        });\n",
       "        }\n",
       "        </script>\n",
       "        "
      ]
     },
     "metadata": {},
     "output_type": "display_data"
    },
    {
     "data": {
      "application/vnd.plotly.v1+json": {
       "config": {
        "plotlyServerURL": "https://plot.ly"
       },
       "data": [
        {
         "hovertemplate": "Metric=Coherence<br># Topics=%{x}<br>Score=%{y}<extra></extra>",
         "legendgroup": "Coherence",
         "line": {
          "color": "#636efa",
          "dash": "solid",
          "shape": "linear"
         },
         "mode": "lines",
         "name": "Coherence",
         "orientation": "v",
         "showlegend": true,
         "type": "scatter",
         "x": [
          2,
          4,
          8,
          16,
          32,
          64,
          100,
          200,
          300,
          400
         ],
         "xaxis": "x",
         "y": [
          0.5086429519799938,
          0.7347301992794953,
          0.797501942406188,
          0.6474621438131716,
          0.6145488822556193,
          0.5558052085125356,
          0.5320350112506574,
          0.5146450276640228,
          0.5173417210820695,
          0.5135404728924979
         ],
         "yaxis": "y"
        }
       ],
       "layout": {
        "legend": {
         "title": {
          "text": "Metric"
         },
         "tracegroupgap": 0
        },
        "plot_bgcolor": "rgb(245,245,245)",
        "template": {
         "data": {
          "bar": [
           {
            "error_x": {
             "color": "#2a3f5f"
            },
            "error_y": {
             "color": "#2a3f5f"
            },
            "marker": {
             "line": {
              "color": "#E5ECF6",
              "width": 0.5
             }
            },
            "type": "bar"
           }
          ],
          "barpolar": [
           {
            "marker": {
             "line": {
              "color": "#E5ECF6",
              "width": 0.5
             }
            },
            "type": "barpolar"
           }
          ],
          "carpet": [
           {
            "aaxis": {
             "endlinecolor": "#2a3f5f",
             "gridcolor": "white",
             "linecolor": "white",
             "minorgridcolor": "white",
             "startlinecolor": "#2a3f5f"
            },
            "baxis": {
             "endlinecolor": "#2a3f5f",
             "gridcolor": "white",
             "linecolor": "white",
             "minorgridcolor": "white",
             "startlinecolor": "#2a3f5f"
            },
            "type": "carpet"
           }
          ],
          "choropleth": [
           {
            "colorbar": {
             "outlinewidth": 0,
             "ticks": ""
            },
            "type": "choropleth"
           }
          ],
          "contour": [
           {
            "colorbar": {
             "outlinewidth": 0,
             "ticks": ""
            },
            "colorscale": [
             [
              0,
              "#0d0887"
             ],
             [
              0.1111111111111111,
              "#46039f"
             ],
             [
              0.2222222222222222,
              "#7201a8"
             ],
             [
              0.3333333333333333,
              "#9c179e"
             ],
             [
              0.4444444444444444,
              "#bd3786"
             ],
             [
              0.5555555555555556,
              "#d8576b"
             ],
             [
              0.6666666666666666,
              "#ed7953"
             ],
             [
              0.7777777777777778,
              "#fb9f3a"
             ],
             [
              0.8888888888888888,
              "#fdca26"
             ],
             [
              1,
              "#f0f921"
             ]
            ],
            "type": "contour"
           }
          ],
          "contourcarpet": [
           {
            "colorbar": {
             "outlinewidth": 0,
             "ticks": ""
            },
            "type": "contourcarpet"
           }
          ],
          "heatmap": [
           {
            "colorbar": {
             "outlinewidth": 0,
             "ticks": ""
            },
            "colorscale": [
             [
              0,
              "#0d0887"
             ],
             [
              0.1111111111111111,
              "#46039f"
             ],
             [
              0.2222222222222222,
              "#7201a8"
             ],
             [
              0.3333333333333333,
              "#9c179e"
             ],
             [
              0.4444444444444444,
              "#bd3786"
             ],
             [
              0.5555555555555556,
              "#d8576b"
             ],
             [
              0.6666666666666666,
              "#ed7953"
             ],
             [
              0.7777777777777778,
              "#fb9f3a"
             ],
             [
              0.8888888888888888,
              "#fdca26"
             ],
             [
              1,
              "#f0f921"
             ]
            ],
            "type": "heatmap"
           }
          ],
          "heatmapgl": [
           {
            "colorbar": {
             "outlinewidth": 0,
             "ticks": ""
            },
            "colorscale": [
             [
              0,
              "#0d0887"
             ],
             [
              0.1111111111111111,
              "#46039f"
             ],
             [
              0.2222222222222222,
              "#7201a8"
             ],
             [
              0.3333333333333333,
              "#9c179e"
             ],
             [
              0.4444444444444444,
              "#bd3786"
             ],
             [
              0.5555555555555556,
              "#d8576b"
             ],
             [
              0.6666666666666666,
              "#ed7953"
             ],
             [
              0.7777777777777778,
              "#fb9f3a"
             ],
             [
              0.8888888888888888,
              "#fdca26"
             ],
             [
              1,
              "#f0f921"
             ]
            ],
            "type": "heatmapgl"
           }
          ],
          "histogram": [
           {
            "marker": {
             "colorbar": {
              "outlinewidth": 0,
              "ticks": ""
             }
            },
            "type": "histogram"
           }
          ],
          "histogram2d": [
           {
            "colorbar": {
             "outlinewidth": 0,
             "ticks": ""
            },
            "colorscale": [
             [
              0,
              "#0d0887"
             ],
             [
              0.1111111111111111,
              "#46039f"
             ],
             [
              0.2222222222222222,
              "#7201a8"
             ],
             [
              0.3333333333333333,
              "#9c179e"
             ],
             [
              0.4444444444444444,
              "#bd3786"
             ],
             [
              0.5555555555555556,
              "#d8576b"
             ],
             [
              0.6666666666666666,
              "#ed7953"
             ],
             [
              0.7777777777777778,
              "#fb9f3a"
             ],
             [
              0.8888888888888888,
              "#fdca26"
             ],
             [
              1,
              "#f0f921"
             ]
            ],
            "type": "histogram2d"
           }
          ],
          "histogram2dcontour": [
           {
            "colorbar": {
             "outlinewidth": 0,
             "ticks": ""
            },
            "colorscale": [
             [
              0,
              "#0d0887"
             ],
             [
              0.1111111111111111,
              "#46039f"
             ],
             [
              0.2222222222222222,
              "#7201a8"
             ],
             [
              0.3333333333333333,
              "#9c179e"
             ],
             [
              0.4444444444444444,
              "#bd3786"
             ],
             [
              0.5555555555555556,
              "#d8576b"
             ],
             [
              0.6666666666666666,
              "#ed7953"
             ],
             [
              0.7777777777777778,
              "#fb9f3a"
             ],
             [
              0.8888888888888888,
              "#fdca26"
             ],
             [
              1,
              "#f0f921"
             ]
            ],
            "type": "histogram2dcontour"
           }
          ],
          "mesh3d": [
           {
            "colorbar": {
             "outlinewidth": 0,
             "ticks": ""
            },
            "type": "mesh3d"
           }
          ],
          "parcoords": [
           {
            "line": {
             "colorbar": {
              "outlinewidth": 0,
              "ticks": ""
             }
            },
            "type": "parcoords"
           }
          ],
          "pie": [
           {
            "automargin": true,
            "type": "pie"
           }
          ],
          "scatter": [
           {
            "marker": {
             "colorbar": {
              "outlinewidth": 0,
              "ticks": ""
             }
            },
            "type": "scatter"
           }
          ],
          "scatter3d": [
           {
            "line": {
             "colorbar": {
              "outlinewidth": 0,
              "ticks": ""
             }
            },
            "marker": {
             "colorbar": {
              "outlinewidth": 0,
              "ticks": ""
             }
            },
            "type": "scatter3d"
           }
          ],
          "scattercarpet": [
           {
            "marker": {
             "colorbar": {
              "outlinewidth": 0,
              "ticks": ""
             }
            },
            "type": "scattercarpet"
           }
          ],
          "scattergeo": [
           {
            "marker": {
             "colorbar": {
              "outlinewidth": 0,
              "ticks": ""
             }
            },
            "type": "scattergeo"
           }
          ],
          "scattergl": [
           {
            "marker": {
             "colorbar": {
              "outlinewidth": 0,
              "ticks": ""
             }
            },
            "type": "scattergl"
           }
          ],
          "scattermapbox": [
           {
            "marker": {
             "colorbar": {
              "outlinewidth": 0,
              "ticks": ""
             }
            },
            "type": "scattermapbox"
           }
          ],
          "scatterpolar": [
           {
            "marker": {
             "colorbar": {
              "outlinewidth": 0,
              "ticks": ""
             }
            },
            "type": "scatterpolar"
           }
          ],
          "scatterpolargl": [
           {
            "marker": {
             "colorbar": {
              "outlinewidth": 0,
              "ticks": ""
             }
            },
            "type": "scatterpolargl"
           }
          ],
          "scatterternary": [
           {
            "marker": {
             "colorbar": {
              "outlinewidth": 0,
              "ticks": ""
             }
            },
            "type": "scatterternary"
           }
          ],
          "surface": [
           {
            "colorbar": {
             "outlinewidth": 0,
             "ticks": ""
            },
            "colorscale": [
             [
              0,
              "#0d0887"
             ],
             [
              0.1111111111111111,
              "#46039f"
             ],
             [
              0.2222222222222222,
              "#7201a8"
             ],
             [
              0.3333333333333333,
              "#9c179e"
             ],
             [
              0.4444444444444444,
              "#bd3786"
             ],
             [
              0.5555555555555556,
              "#d8576b"
             ],
             [
              0.6666666666666666,
              "#ed7953"
             ],
             [
              0.7777777777777778,
              "#fb9f3a"
             ],
             [
              0.8888888888888888,
              "#fdca26"
             ],
             [
              1,
              "#f0f921"
             ]
            ],
            "type": "surface"
           }
          ],
          "table": [
           {
            "cells": {
             "fill": {
              "color": "#EBF0F8"
             },
             "line": {
              "color": "white"
             }
            },
            "header": {
             "fill": {
              "color": "#C8D4E3"
             },
             "line": {
              "color": "white"
             }
            },
            "type": "table"
           }
          ]
         },
         "layout": {
          "annotationdefaults": {
           "arrowcolor": "#2a3f5f",
           "arrowhead": 0,
           "arrowwidth": 1
          },
          "coloraxis": {
           "colorbar": {
            "outlinewidth": 0,
            "ticks": ""
           }
          },
          "colorscale": {
           "diverging": [
            [
             0,
             "#8e0152"
            ],
            [
             0.1,
             "#c51b7d"
            ],
            [
             0.2,
             "#de77ae"
            ],
            [
             0.3,
             "#f1b6da"
            ],
            [
             0.4,
             "#fde0ef"
            ],
            [
             0.5,
             "#f7f7f7"
            ],
            [
             0.6,
             "#e6f5d0"
            ],
            [
             0.7,
             "#b8e186"
            ],
            [
             0.8,
             "#7fbc41"
            ],
            [
             0.9,
             "#4d9221"
            ],
            [
             1,
             "#276419"
            ]
           ],
           "sequential": [
            [
             0,
             "#0d0887"
            ],
            [
             0.1111111111111111,
             "#46039f"
            ],
            [
             0.2222222222222222,
             "#7201a8"
            ],
            [
             0.3333333333333333,
             "#9c179e"
            ],
            [
             0.4444444444444444,
             "#bd3786"
            ],
            [
             0.5555555555555556,
             "#d8576b"
            ],
            [
             0.6666666666666666,
             "#ed7953"
            ],
            [
             0.7777777777777778,
             "#fb9f3a"
            ],
            [
             0.8888888888888888,
             "#fdca26"
            ],
            [
             1,
             "#f0f921"
            ]
           ],
           "sequentialminus": [
            [
             0,
             "#0d0887"
            ],
            [
             0.1111111111111111,
             "#46039f"
            ],
            [
             0.2222222222222222,
             "#7201a8"
            ],
            [
             0.3333333333333333,
             "#9c179e"
            ],
            [
             0.4444444444444444,
             "#bd3786"
            ],
            [
             0.5555555555555556,
             "#d8576b"
            ],
            [
             0.6666666666666666,
             "#ed7953"
            ],
            [
             0.7777777777777778,
             "#fb9f3a"
            ],
            [
             0.8888888888888888,
             "#fdca26"
            ],
            [
             1,
             "#f0f921"
            ]
           ]
          },
          "colorway": [
           "#636efa",
           "#EF553B",
           "#00cc96",
           "#ab63fa",
           "#FFA15A",
           "#19d3f3",
           "#FF6692",
           "#B6E880",
           "#FF97FF",
           "#FECB52"
          ],
          "font": {
           "color": "#2a3f5f"
          },
          "geo": {
           "bgcolor": "white",
           "lakecolor": "white",
           "landcolor": "#E5ECF6",
           "showlakes": true,
           "showland": true,
           "subunitcolor": "white"
          },
          "hoverlabel": {
           "align": "left"
          },
          "hovermode": "closest",
          "mapbox": {
           "style": "light"
          },
          "paper_bgcolor": "white",
          "plot_bgcolor": "#E5ECF6",
          "polar": {
           "angularaxis": {
            "gridcolor": "white",
            "linecolor": "white",
            "ticks": ""
           },
           "bgcolor": "#E5ECF6",
           "radialaxis": {
            "gridcolor": "white",
            "linecolor": "white",
            "ticks": ""
           }
          },
          "scene": {
           "xaxis": {
            "backgroundcolor": "#E5ECF6",
            "gridcolor": "white",
            "gridwidth": 2,
            "linecolor": "white",
            "showbackground": true,
            "ticks": "",
            "zerolinecolor": "white"
           },
           "yaxis": {
            "backgroundcolor": "#E5ECF6",
            "gridcolor": "white",
            "gridwidth": 2,
            "linecolor": "white",
            "showbackground": true,
            "ticks": "",
            "zerolinecolor": "white"
           },
           "zaxis": {
            "backgroundcolor": "#E5ECF6",
            "gridcolor": "white",
            "gridwidth": 2,
            "linecolor": "white",
            "showbackground": true,
            "ticks": "",
            "zerolinecolor": "white"
           }
          },
          "shapedefaults": {
           "line": {
            "color": "#2a3f5f"
           }
          },
          "ternary": {
           "aaxis": {
            "gridcolor": "white",
            "linecolor": "white",
            "ticks": ""
           },
           "baxis": {
            "gridcolor": "white",
            "linecolor": "white",
            "ticks": ""
           },
           "bgcolor": "#E5ECF6",
           "caxis": {
            "gridcolor": "white",
            "linecolor": "white",
            "ticks": ""
           }
          },
          "title": {
           "x": 0.05
          },
          "xaxis": {
           "automargin": true,
           "gridcolor": "white",
           "linecolor": "white",
           "ticks": "",
           "title": {
            "standoff": 15
           },
           "zerolinecolor": "white",
           "zerolinewidth": 2
          },
          "yaxis": {
           "automargin": true,
           "gridcolor": "white",
           "linecolor": "white",
           "ticks": "",
           "title": {
            "standoff": 15
           },
           "zerolinecolor": "white",
           "zerolinewidth": 2
          }
         }
        },
        "title": {
         "text": "Coherence Value and # of Topics"
        },
        "xaxis": {
         "anchor": "y",
         "domain": [
          0,
          1
         ],
         "title": {
          "text": "# Topics"
         }
        },
        "yaxis": {
         "anchor": "x",
         "domain": [
          0,
          1
         ],
         "title": {
          "text": "Score"
         }
        }
       }
      },
      "text/html": [
       "<div>\n",
       "        \n",
       "        \n",
       "            <div id=\"76a9f6dc-e95a-4ef0-a562-1dc066e14cf0\" class=\"plotly-graph-div\" style=\"height:525px; width:100%;\"></div>\n",
       "            <script type=\"text/javascript\">\n",
       "                require([\"plotly\"], function(Plotly) {\n",
       "                    window.PLOTLYENV=window.PLOTLYENV || {};\n",
       "                    \n",
       "                if (document.getElementById(\"76a9f6dc-e95a-4ef0-a562-1dc066e14cf0\")) {\n",
       "                    Plotly.newPlot(\n",
       "                        '76a9f6dc-e95a-4ef0-a562-1dc066e14cf0',\n",
       "                        [{\"hovertemplate\": \"Metric=Coherence<br># Topics=%{x}<br>Score=%{y}<extra></extra>\", \"legendgroup\": \"Coherence\", \"line\": {\"color\": \"#636efa\", \"dash\": \"solid\", \"shape\": \"linear\"}, \"mode\": \"lines\", \"name\": \"Coherence\", \"orientation\": \"v\", \"showlegend\": true, \"type\": \"scatter\", \"x\": [2, 4, 8, 16, 32, 64, 100, 200, 300, 400], \"xaxis\": \"x\", \"y\": [0.5086429519799938, 0.7347301992794953, 0.797501942406188, 0.6474621438131716, 0.6145488822556193, 0.5558052085125356, 0.5320350112506574, 0.5146450276640228, 0.5173417210820695, 0.5135404728924979], \"yaxis\": \"y\"}],\n",
       "                        {\"legend\": {\"title\": {\"text\": \"Metric\"}, \"tracegroupgap\": 0}, \"plot_bgcolor\": \"rgb(245,245,245)\", \"template\": {\"data\": {\"bar\": [{\"error_x\": {\"color\": \"#2a3f5f\"}, \"error_y\": {\"color\": \"#2a3f5f\"}, \"marker\": {\"line\": {\"color\": \"#E5ECF6\", \"width\": 0.5}}, \"type\": \"bar\"}], \"barpolar\": [{\"marker\": {\"line\": {\"color\": \"#E5ECF6\", \"width\": 0.5}}, \"type\": \"barpolar\"}], \"carpet\": [{\"aaxis\": {\"endlinecolor\": \"#2a3f5f\", \"gridcolor\": \"white\", \"linecolor\": \"white\", \"minorgridcolor\": \"white\", \"startlinecolor\": \"#2a3f5f\"}, \"baxis\": {\"endlinecolor\": \"#2a3f5f\", \"gridcolor\": \"white\", \"linecolor\": \"white\", \"minorgridcolor\": \"white\", \"startlinecolor\": \"#2a3f5f\"}, \"type\": \"carpet\"}], \"choropleth\": [{\"colorbar\": {\"outlinewidth\": 0, \"ticks\": \"\"}, \"type\": \"choropleth\"}], \"contour\": [{\"colorbar\": {\"outlinewidth\": 0, \"ticks\": \"\"}, \"colorscale\": [[0.0, \"#0d0887\"], [0.1111111111111111, \"#46039f\"], [0.2222222222222222, \"#7201a8\"], [0.3333333333333333, \"#9c179e\"], [0.4444444444444444, \"#bd3786\"], [0.5555555555555556, \"#d8576b\"], [0.6666666666666666, \"#ed7953\"], [0.7777777777777778, \"#fb9f3a\"], [0.8888888888888888, \"#fdca26\"], [1.0, \"#f0f921\"]], \"type\": \"contour\"}], \"contourcarpet\": [{\"colorbar\": {\"outlinewidth\": 0, \"ticks\": \"\"}, \"type\": \"contourcarpet\"}], \"heatmap\": [{\"colorbar\": {\"outlinewidth\": 0, \"ticks\": \"\"}, \"colorscale\": [[0.0, \"#0d0887\"], [0.1111111111111111, \"#46039f\"], [0.2222222222222222, \"#7201a8\"], [0.3333333333333333, \"#9c179e\"], [0.4444444444444444, \"#bd3786\"], [0.5555555555555556, \"#d8576b\"], [0.6666666666666666, \"#ed7953\"], [0.7777777777777778, \"#fb9f3a\"], [0.8888888888888888, \"#fdca26\"], [1.0, \"#f0f921\"]], \"type\": \"heatmap\"}], \"heatmapgl\": [{\"colorbar\": {\"outlinewidth\": 0, \"ticks\": \"\"}, \"colorscale\": [[0.0, \"#0d0887\"], [0.1111111111111111, \"#46039f\"], [0.2222222222222222, \"#7201a8\"], [0.3333333333333333, \"#9c179e\"], [0.4444444444444444, \"#bd3786\"], [0.5555555555555556, \"#d8576b\"], [0.6666666666666666, \"#ed7953\"], [0.7777777777777778, \"#fb9f3a\"], [0.8888888888888888, \"#fdca26\"], [1.0, \"#f0f921\"]], \"type\": \"heatmapgl\"}], \"histogram\": [{\"marker\": {\"colorbar\": {\"outlinewidth\": 0, \"ticks\": \"\"}}, \"type\": \"histogram\"}], \"histogram2d\": [{\"colorbar\": {\"outlinewidth\": 0, \"ticks\": \"\"}, \"colorscale\": [[0.0, \"#0d0887\"], [0.1111111111111111, \"#46039f\"], [0.2222222222222222, \"#7201a8\"], [0.3333333333333333, \"#9c179e\"], [0.4444444444444444, \"#bd3786\"], [0.5555555555555556, \"#d8576b\"], [0.6666666666666666, \"#ed7953\"], [0.7777777777777778, \"#fb9f3a\"], [0.8888888888888888, \"#fdca26\"], [1.0, \"#f0f921\"]], \"type\": \"histogram2d\"}], \"histogram2dcontour\": [{\"colorbar\": {\"outlinewidth\": 0, \"ticks\": \"\"}, \"colorscale\": [[0.0, \"#0d0887\"], [0.1111111111111111, \"#46039f\"], [0.2222222222222222, \"#7201a8\"], [0.3333333333333333, \"#9c179e\"], [0.4444444444444444, \"#bd3786\"], [0.5555555555555556, \"#d8576b\"], [0.6666666666666666, \"#ed7953\"], [0.7777777777777778, \"#fb9f3a\"], [0.8888888888888888, \"#fdca26\"], [1.0, \"#f0f921\"]], \"type\": \"histogram2dcontour\"}], \"mesh3d\": [{\"colorbar\": {\"outlinewidth\": 0, \"ticks\": \"\"}, \"type\": \"mesh3d\"}], \"parcoords\": [{\"line\": {\"colorbar\": {\"outlinewidth\": 0, \"ticks\": \"\"}}, \"type\": \"parcoords\"}], \"pie\": [{\"automargin\": true, \"type\": \"pie\"}], \"scatter\": [{\"marker\": {\"colorbar\": {\"outlinewidth\": 0, \"ticks\": \"\"}}, \"type\": \"scatter\"}], \"scatter3d\": [{\"line\": {\"colorbar\": {\"outlinewidth\": 0, \"ticks\": \"\"}}, \"marker\": {\"colorbar\": {\"outlinewidth\": 0, \"ticks\": \"\"}}, \"type\": \"scatter3d\"}], \"scattercarpet\": [{\"marker\": {\"colorbar\": {\"outlinewidth\": 0, \"ticks\": \"\"}}, \"type\": \"scattercarpet\"}], \"scattergeo\": [{\"marker\": {\"colorbar\": {\"outlinewidth\": 0, \"ticks\": \"\"}}, \"type\": \"scattergeo\"}], \"scattergl\": [{\"marker\": {\"colorbar\": {\"outlinewidth\": 0, \"ticks\": \"\"}}, \"type\": \"scattergl\"}], \"scattermapbox\": [{\"marker\": {\"colorbar\": {\"outlinewidth\": 0, \"ticks\": \"\"}}, \"type\": \"scattermapbox\"}], \"scatterpolar\": [{\"marker\": {\"colorbar\": {\"outlinewidth\": 0, \"ticks\": \"\"}}, \"type\": \"scatterpolar\"}], \"scatterpolargl\": [{\"marker\": {\"colorbar\": {\"outlinewidth\": 0, \"ticks\": \"\"}}, \"type\": \"scatterpolargl\"}], \"scatterternary\": [{\"marker\": {\"colorbar\": {\"outlinewidth\": 0, \"ticks\": \"\"}}, \"type\": \"scatterternary\"}], \"surface\": [{\"colorbar\": {\"outlinewidth\": 0, \"ticks\": \"\"}, \"colorscale\": [[0.0, \"#0d0887\"], [0.1111111111111111, \"#46039f\"], [0.2222222222222222, \"#7201a8\"], [0.3333333333333333, \"#9c179e\"], [0.4444444444444444, \"#bd3786\"], [0.5555555555555556, \"#d8576b\"], [0.6666666666666666, \"#ed7953\"], [0.7777777777777778, \"#fb9f3a\"], [0.8888888888888888, \"#fdca26\"], [1.0, \"#f0f921\"]], \"type\": \"surface\"}], \"table\": [{\"cells\": {\"fill\": {\"color\": \"#EBF0F8\"}, \"line\": {\"color\": \"white\"}}, \"header\": {\"fill\": {\"color\": \"#C8D4E3\"}, \"line\": {\"color\": \"white\"}}, \"type\": \"table\"}]}, \"layout\": {\"annotationdefaults\": {\"arrowcolor\": \"#2a3f5f\", \"arrowhead\": 0, \"arrowwidth\": 1}, \"coloraxis\": {\"colorbar\": {\"outlinewidth\": 0, \"ticks\": \"\"}}, \"colorscale\": {\"diverging\": [[0, \"#8e0152\"], [0.1, \"#c51b7d\"], [0.2, \"#de77ae\"], [0.3, \"#f1b6da\"], [0.4, \"#fde0ef\"], [0.5, \"#f7f7f7\"], [0.6, \"#e6f5d0\"], [0.7, \"#b8e186\"], [0.8, \"#7fbc41\"], [0.9, \"#4d9221\"], [1, \"#276419\"]], \"sequential\": [[0.0, \"#0d0887\"], [0.1111111111111111, \"#46039f\"], [0.2222222222222222, \"#7201a8\"], [0.3333333333333333, \"#9c179e\"], [0.4444444444444444, \"#bd3786\"], [0.5555555555555556, \"#d8576b\"], [0.6666666666666666, \"#ed7953\"], [0.7777777777777778, \"#fb9f3a\"], [0.8888888888888888, \"#fdca26\"], [1.0, \"#f0f921\"]], \"sequentialminus\": [[0.0, \"#0d0887\"], [0.1111111111111111, \"#46039f\"], [0.2222222222222222, \"#7201a8\"], [0.3333333333333333, \"#9c179e\"], [0.4444444444444444, \"#bd3786\"], [0.5555555555555556, \"#d8576b\"], [0.6666666666666666, \"#ed7953\"], [0.7777777777777778, \"#fb9f3a\"], [0.8888888888888888, \"#fdca26\"], [1.0, \"#f0f921\"]]}, \"colorway\": [\"#636efa\", \"#EF553B\", \"#00cc96\", \"#ab63fa\", \"#FFA15A\", \"#19d3f3\", \"#FF6692\", \"#B6E880\", \"#FF97FF\", \"#FECB52\"], \"font\": {\"color\": \"#2a3f5f\"}, \"geo\": {\"bgcolor\": \"white\", \"lakecolor\": \"white\", \"landcolor\": \"#E5ECF6\", \"showlakes\": true, \"showland\": true, \"subunitcolor\": \"white\"}, \"hoverlabel\": {\"align\": \"left\"}, \"hovermode\": \"closest\", \"mapbox\": {\"style\": \"light\"}, \"paper_bgcolor\": \"white\", \"plot_bgcolor\": \"#E5ECF6\", \"polar\": {\"angularaxis\": {\"gridcolor\": \"white\", \"linecolor\": \"white\", \"ticks\": \"\"}, \"bgcolor\": \"#E5ECF6\", \"radialaxis\": {\"gridcolor\": \"white\", \"linecolor\": \"white\", \"ticks\": \"\"}}, \"scene\": {\"xaxis\": {\"backgroundcolor\": \"#E5ECF6\", \"gridcolor\": \"white\", \"gridwidth\": 2, \"linecolor\": \"white\", \"showbackground\": true, \"ticks\": \"\", \"zerolinecolor\": \"white\"}, \"yaxis\": {\"backgroundcolor\": \"#E5ECF6\", \"gridcolor\": \"white\", \"gridwidth\": 2, \"linecolor\": \"white\", \"showbackground\": true, \"ticks\": \"\", \"zerolinecolor\": \"white\"}, \"zaxis\": {\"backgroundcolor\": \"#E5ECF6\", \"gridcolor\": \"white\", \"gridwidth\": 2, \"linecolor\": \"white\", \"showbackground\": true, \"ticks\": \"\", \"zerolinecolor\": \"white\"}}, \"shapedefaults\": {\"line\": {\"color\": \"#2a3f5f\"}}, \"ternary\": {\"aaxis\": {\"gridcolor\": \"white\", \"linecolor\": \"white\", \"ticks\": \"\"}, \"baxis\": {\"gridcolor\": \"white\", \"linecolor\": \"white\", \"ticks\": \"\"}, \"bgcolor\": \"#E5ECF6\", \"caxis\": {\"gridcolor\": \"white\", \"linecolor\": \"white\", \"ticks\": \"\"}}, \"title\": {\"x\": 0.05}, \"xaxis\": {\"automargin\": true, \"gridcolor\": \"white\", \"linecolor\": \"white\", \"ticks\": \"\", \"title\": {\"standoff\": 15}, \"zerolinecolor\": \"white\", \"zerolinewidth\": 2}, \"yaxis\": {\"automargin\": true, \"gridcolor\": \"white\", \"linecolor\": \"white\", \"ticks\": \"\", \"title\": {\"standoff\": 15}, \"zerolinecolor\": \"white\", \"zerolinewidth\": 2}}}, \"title\": {\"text\": \"Coherence Value and # of Topics\"}, \"xaxis\": {\"anchor\": \"y\", \"domain\": [0.0, 1.0], \"title\": {\"text\": \"# Topics\"}}, \"yaxis\": {\"anchor\": \"x\", \"domain\": [0.0, 1.0], \"title\": {\"text\": \"Score\"}}},\n",
       "                        {\"responsive\": true}\n",
       "                    ).then(function(){\n",
       "                            \n",
       "var gd = document.getElementById('76a9f6dc-e95a-4ef0-a562-1dc066e14cf0');\n",
       "var x = new MutationObserver(function (mutations, observer) {{\n",
       "        var display = window.getComputedStyle(gd).display;\n",
       "        if (!display || display === 'none') {{\n",
       "            console.log([gd, 'removed!']);\n",
       "            Plotly.purge(gd);\n",
       "            observer.disconnect();\n",
       "        }}\n",
       "}});\n",
       "\n",
       "// Listen for the removal of the full notebook cells\n",
       "var notebookContainer = gd.closest('#notebook-container');\n",
       "if (notebookContainer) {{\n",
       "    x.observe(notebookContainer, {childList: true});\n",
       "}}\n",
       "\n",
       "// Listen for the clearing of the current output cell\n",
       "var outputEl = gd.closest('.output');\n",
       "if (outputEl) {{\n",
       "    x.observe(outputEl, {childList: true});\n",
       "}}\n",
       "\n",
       "                        })\n",
       "                };\n",
       "                });\n",
       "            </script>\n",
       "        </div>"
      ]
     },
     "metadata": {},
     "output_type": "display_data"
    },
    {
     "name": "stdout",
     "output_type": "stream",
     "text": [
      "Best Model: Latent Dirichlet Allocation | # Topics: 8 | Coherence: 0.7975\n"
     ]
    }
   ],
   "source": [
    "tune_lda_negative = tune_model(model='lda', supervised_target=None, estimator='xgboost')"
   ]
  },
  {
   "cell_type": "markdown",
   "metadata": {},
   "source": [
    "2 topics"
   ]
  },
  {
   "cell_type": "code",
   "execution_count": 22,
   "metadata": {},
   "outputs": [
    {
     "name": "stdout",
     "output_type": "stream",
     "text": [
      "LdaModel(num_terms=163, num_topics=2, decay=0.5, chunksize=100)\n"
     ]
    }
   ],
   "source": [
    "#create an LDA model\n",
    "tuned_neg2 = create_model('lda', num_topics = 2)\n",
    "print(tuned_neg2)"
   ]
  },
  {
   "cell_type": "code",
   "execution_count": 23,
   "metadata": {},
   "outputs": [],
   "source": [
    "apply_lda_neg2 = assign_model(tuned_neg2)"
   ]
  },
  {
   "cell_type": "code",
   "execution_count": 25,
   "metadata": {},
   "outputs": [
    {
     "data": {
      "text/html": [
       "        <script type=\"text/javascript\">\n",
       "        window.PlotlyConfig = {MathJaxConfig: 'local'};\n",
       "        if (window.MathJax) {MathJax.Hub.Config({SVG: {font: \"STIX-Web\"}});}\n",
       "        if (typeof require !== 'undefined') {\n",
       "        require.undef(\"plotly\");\n",
       "        requirejs.config({\n",
       "            paths: {\n",
       "                'plotly': ['https://cdn.plot.ly/plotly-latest.min']\n",
       "            }\n",
       "        });\n",
       "        require(['plotly'], function(Plotly) {\n",
       "            window._Plotly = Plotly;\n",
       "        });\n",
       "        }\n",
       "        </script>\n",
       "        "
      ]
     },
     "metadata": {},
     "output_type": "display_data"
    },
    {
     "data": {
      "text/html": [
       "\n",
       "<link rel=\"stylesheet\" type=\"text/css\" href=\"https://cdn.rawgit.com/bmabey/pyLDAvis/files/ldavis.v1.0.0.css\">\n",
       "\n",
       "\n",
       "<div id=\"ldavis_el2137617374909220561805127862\"></div>\n",
       "<script type=\"text/javascript\">\n",
       "\n",
       "var ldavis_el2137617374909220561805127862_data = {\"mdsDat\": {\"x\": [-0.003258682625874982, 0.003258682625874982], \"y\": [-0.05750915662346315, 0.05750915662346315], \"topics\": [1, 2], \"cluster\": [1, 1], \"Freq\": [69.82939147949219, 30.170604705810547]}, \"tinfo\": {\"Term\": [\"wall\", \"british\", \"door\", \"nicosia\", \"floor\", \"second\", \"transfer\", \"bus\", \"carry\", \"knock\", \"road\", \"continued\", \"die\", \"warden\", \"centre\", \"duty\", \"historical\", \"administration\", \"live\", \"job\", \"empire\", \"remain\", \"wear\", \"gate\", \"occupation\", \"capital\", \"morning\", \"recite\", \"colony\", \"opening\", \"part\", \"walk\", \"turkish\", \"border\", \"visit\", \"northern\", \"cancel\", \"city\", \"cheap\", \"reservation\", \"people\", \"wheelchair\", \"beautiful\", \"southern\", \"include\", \"abandon\", \"architecture\", \"sadly\", \"line\", \"renovation\", \"building\", \"little\", \"town\", \"green\", \"desperate\", \"put\", \"let\", \"feel\", \"ancient\", \"character\", \"side\", \"go\", \"door\", \"look\", \"open\", \"wall\", \"british\", \"nicosia\", \"floor\", \"second\", \"transfer\", \"bus\", \"carry\", \"knock\", \"road\", \"continued\", \"die\", \"warden\", \"centre\", \"duty\", \"historical\", \"administration\", \"live\", \"job\", \"empire\", \"remain\", \"wear\", \"gate\", \"occupation\", \"capital\", \"morning\", \"recite\", \"colony\", \"opening\", \"closing\", \"door\", \"take\", \"side\", \"go\", \"allow\", \"turn\", \"also\", \"time\", \"come\", \"close\", \"open\", \"look\"], \"Freq\": [1.0, 1.0, 2.0, 0.0, 0.0, 0.0, 0.0, 0.0, 0.0, 0.0, 0.0, 0.0, 0.0, 0.0, 0.0, 0.0, 0.0, 0.0, 0.0, 0.0, 0.0, 0.0, 0.0, 0.0, 0.0, 0.0, 0.0, 0.0, 0.0, 0.0, 2.8333206176757812, 2.2052860260009766, 2.2035255432128906, 2.2031209468841553, 1.5765997171401978, 1.5749592781066895, 1.5739437341690063, 1.5723928213119507, 1.572079062461853, 1.5718549489974976, 1.5717543363571167, 1.5713750123977661, 0.946598470211029, 0.9465393424034119, 0.9464815855026245, 0.9464731812477112, 0.9464669227600098, 0.9463956952095032, 0.9463739991188049, 0.9463712573051453, 0.9463508129119873, 0.9462976455688477, 0.9462971091270447, 0.9462850093841553, 0.9462786912918091, 0.9462729692459106, 0.9462676048278809, 0.946241021156311, 0.9461867809295654, 0.9461647868156433, 2.83319091796875, 1.5736942291259766, 0.9477828145027161, 0.9470094442367554, 0.9468100666999817, 1.0570017099380493, 1.056525468826294, 0.6342583298683167, 0.6342431306838989, 0.6342248916625977, 0.6342098116874695, 0.6341864466667175, 0.6341820359230042, 0.6341763734817505, 0.6341622471809387, 0.6341619491577148, 0.6341572999954224, 0.6341515779495239, 0.634134829044342, 0.6341345906257629, 0.6341202259063721, 0.6341200470924377, 0.6341115832328796, 0.6341096758842468, 0.6341092586517334, 0.6341059803962708, 0.6341058611869812, 0.6341008543968201, 0.6340972185134888, 0.6340791583061218, 0.6340279579162598, 0.6340252161026001, 0.6340161561965942, 0.6340126395225525, 0.6339855790138245, 1.0572704076766968, 0.6375625729560852, 0.6399677991867065, 0.6378074884414673, 0.6368635892868042, 0.6368124485015869, 0.6367796063423157, 0.6362624764442444, 0.6355649828910828, 0.6352468729019165, 0.6348082423210144, 0.634674608707428], \"Total\": [1.0, 1.0, 2.0, 0.0, 0.0, 0.0, 0.0, 0.0, 0.0, 0.0, 0.0, 0.0, 0.0, 0.0, 0.0, 0.0, 0.0, 0.0, 0.0, 0.0, 0.0, 0.0, 0.0, 0.0, 0.0, 0.0, 0.0, 0.0, 0.0, 0.0, 3.05009388923645, 2.419830560684204, 2.4192497730255127, 2.419116258621216, 1.7893526554107666, 1.7888113260269165, 1.7884764671325684, 1.7879648208618164, 1.7878612279891968, 1.7877873182296753, 1.7877541780471802, 1.7876291275024414, 1.158441185951233, 1.1584216356277466, 1.158402681350708, 1.1583997011184692, 1.1583977937698364, 1.158374309539795, 1.1583671569824219, 1.1583662033081055, 1.1583595275878906, 1.158341884613037, 1.1583415269851685, 1.1583377122879028, 1.1583356857299805, 1.158333659172058, 1.1583319902420044, 1.1583231687545776, 1.1583051681518555, 1.1582980155944824, 3.473158836364746, 2.2115015983581543, 2.0050532817840576, 1.5816841125488281, 1.581618309020996, 1.3738411664962769, 1.3740755319595337, 0.9505446553230286, 0.950552225112915, 0.9505610466003418, 0.9505683183670044, 0.9505800008773804, 0.9505821466445923, 0.9505849480628967, 0.9505918622016907, 0.950592041015625, 0.9505943059921265, 0.9505972266197205, 0.9506052732467651, 0.9506055116653442, 0.9506125450134277, 0.9506127238273621, 0.950616717338562, 0.950617790222168, 0.9506180286407471, 0.9506195783615112, 0.9506195783615112, 0.9506222009658813, 0.9506238698959351, 0.9506328105926514, 0.950657844543457, 0.9506592154502869, 0.950663685798645, 0.9506654739379883, 0.9506787061691284, 2.0050532817840576, 1.580262541770935, 3.473158836364746, 2.2115015983581543, 1.580606460571289, 1.5806317329406738, 1.5806479454040527, 1.5809025764465332, 1.5812456607818604, 1.58140230178833, 1.581618309020996, 1.5816841125488281], \"Category\": [\"Default\", \"Default\", \"Default\", \"Default\", \"Default\", \"Default\", \"Default\", \"Default\", \"Default\", \"Default\", \"Default\", \"Default\", \"Default\", \"Default\", \"Default\", \"Default\", \"Default\", \"Default\", \"Default\", \"Default\", \"Default\", \"Default\", \"Default\", \"Default\", \"Default\", \"Default\", \"Default\", \"Default\", \"Default\", \"Default\", \"Topic1\", \"Topic1\", \"Topic1\", \"Topic1\", \"Topic1\", \"Topic1\", \"Topic1\", \"Topic1\", \"Topic1\", \"Topic1\", \"Topic1\", \"Topic1\", \"Topic1\", \"Topic1\", \"Topic1\", \"Topic1\", \"Topic1\", \"Topic1\", \"Topic1\", \"Topic1\", \"Topic1\", \"Topic1\", \"Topic1\", \"Topic1\", \"Topic1\", \"Topic1\", \"Topic1\", \"Topic1\", \"Topic1\", \"Topic1\", \"Topic1\", \"Topic1\", \"Topic1\", \"Topic1\", \"Topic1\", \"Topic2\", \"Topic2\", \"Topic2\", \"Topic2\", \"Topic2\", \"Topic2\", \"Topic2\", \"Topic2\", \"Topic2\", \"Topic2\", \"Topic2\", \"Topic2\", \"Topic2\", \"Topic2\", \"Topic2\", \"Topic2\", \"Topic2\", \"Topic2\", \"Topic2\", \"Topic2\", \"Topic2\", \"Topic2\", \"Topic2\", \"Topic2\", \"Topic2\", \"Topic2\", \"Topic2\", \"Topic2\", \"Topic2\", \"Topic2\", \"Topic2\", \"Topic2\", \"Topic2\", \"Topic2\", \"Topic2\", \"Topic2\", \"Topic2\", \"Topic2\", \"Topic2\", \"Topic2\", \"Topic2\", \"Topic2\"], \"logprob\": [30.0, 29.0, 28.0, 27.0, 26.0, 25.0, 24.0, 23.0, 22.0, 21.0, 20.0, 19.0, 18.0, 17.0, 16.0, 15.0, 14.0, 13.0, 12.0, 11.0, 10.0, 9.0, 8.0, 7.0, 6.0, 5.0, 4.0, 3.0, 2.0, 1.0, -3.892699956893921, -4.1433000564575195, -4.144100189208984, -4.1442999839782715, -4.478899955749512, -4.480000019073486, -4.480599880218506, -4.481599807739258, -4.481800079345703, -4.481900215148926, -4.48199987411499, -4.4822001457214355, -4.989099979400635, -4.989099979400635, -4.989200115203857, -4.989200115203857, -4.989200115203857, -4.989299774169922, -4.989299774169922, -4.989299774169922, -4.989299774169922, -4.9893999099731445, -4.9893999099731445, -4.9893999099731445, -4.9893999099731445, -4.9893999099731445, -4.9893999099731445, -4.9893999099731445, -4.989500045776367, -4.989500045776367, -3.8928000926971436, -4.480800151824951, -4.987800121307373, -4.98859977722168, -4.988800048828125, -4.039599895477295, -4.039999961853027, -4.550300121307373, -4.550300121307373, -4.5503997802734375, -4.5503997802734375, -4.5503997802734375, -4.5503997802734375, -4.5503997802734375, -4.55049991607666, -4.55049991607666, -4.55049991607666, -4.55049991607666, -4.55049991607666, -4.55049991607666, -4.55049991607666, -4.55049991607666, -4.55049991607666, -4.55049991607666, -4.55049991607666, -4.55049991607666, -4.55049991607666, -4.550600051879883, -4.550600051879883, -4.550600051879883, -4.5507001876831055, -4.5507001876831055, -4.5507001876831055, -4.5507001876831055, -4.5507001876831055, -4.039299964904785, -4.545100212097168, -4.541299819946289, -4.5447001457214355, -4.546199798583984, -4.546299934387207, -4.546299934387207, -4.547100067138672, -4.5482001304626465, -4.548699855804443, -4.5493998527526855, -4.549600124359131], \"loglift\": [30.0, 29.0, 28.0, 27.0, 26.0, 25.0, 24.0, 23.0, 22.0, 21.0, 20.0, 19.0, 18.0, 17.0, 16.0, 15.0, 14.0, 13.0, 12.0, 11.0, 10.0, 9.0, 8.0, 7.0, 6.0, 5.0, 4.0, 3.0, 2.0, 1.0, 0.28540000319480896, 0.2662999927997589, 0.26570001244544983, 0.2655999958515167, 0.23250000178813934, 0.23180000483989716, 0.2312999963760376, 0.2305999994277954, 0.2304999977350235, 0.2303999960422516, 0.23029999434947968, 0.23019999265670776, 0.15719999372959137, 0.15710000693798065, 0.15710000693798065, 0.15710000693798065, 0.15710000693798065, 0.15700000524520874, 0.15700000524520874, 0.15700000524520874, 0.15700000524520874, 0.15690000355243683, 0.15690000355243683, 0.15690000355243683, 0.15690000355243683, 0.15690000355243683, 0.15690000355243683, 0.15690000355243683, 0.15680000185966492, 0.15680000185966492, 0.15549999475479126, 0.01889999955892563, -0.3901999890804291, -0.15379999577999115, -0.15399999916553497, 0.9361000061035156, 0.9355000257492065, 0.7936999797821045, 0.7936999797821045, 0.7936999797821045, 0.7936000227928162, 0.7936000227928162, 0.7936000227928162, 0.7936000227928162, 0.7935000061988831, 0.7935000061988831, 0.7935000061988831, 0.7935000061988831, 0.7935000061988831, 0.7935000061988831, 0.79339998960495, 0.79339998960495, 0.79339998960495, 0.79339998960495, 0.79339998960495, 0.79339998960495, 0.79339998960495, 0.79339998960495, 0.79339998960495, 0.7932999730110168, 0.7932000160217285, 0.7932000160217285, 0.7932000160217285, 0.7932000160217285, 0.7932000160217285, 0.5583000183105469, 0.2906000018119812, -0.49309998750686646, -0.045099999755620956, 0.28929999470710754, 0.2892000079154968, 0.2890999913215637, 0.2881999909877777, 0.28679999709129333, 0.28619998693466187, 0.28540000319480896, 0.28519999980926514]}, \"token.table\": {\"Topic\": [1, 2, 1, 2, 1, 2, 1, 1, 1, 1, 2, 1, 2, 1, 2, 2, 2, 1, 1, 1, 1, 2, 2, 2, 1, 2, 2, 1, 2, 1, 2, 2, 2, 1, 2, 2, 1, 2, 1, 2, 1, 2, 2, 1, 1, 1, 2, 1, 2, 2, 2, 1, 2, 1, 2, 2, 1, 1, 1, 2, 2, 1, 1, 2, 1, 2, 1, 2, 1, 1, 2, 1, 2, 1, 2, 1, 1, 2, 1, 1, 2, 2, 2, 1], \"Freq\": [0.8632599115371704, 1.0519530773162842, 0.6326685547828674, 0.6326685547828674, 0.6326519250869751, 0.6326519250869751, 0.8633303642272949, 0.863261342048645, 0.863228976726532, 0.8267481923103333, 0.7277620434761047, 0.8632898330688477, 1.0519893169403076, 1.1182702779769897, 1.0519309043884277, 1.0519869327545166, 1.0519613027572632, 0.8633356690406799, 1.1186550855636597, 1.118590235710144, 0.6323501467704773, 0.6323501467704773, 1.051880121231079, 1.0518966913223267, 0.6324127912521362, 0.6324127912521362, 1.051975965499878, 0.8633075952529907, 1.0519734621047974, 0.4987398684024811, 0.4987398684024811, 1.051961064338684, 1.0519472360610962, 0.8633169531822205, 1.0520200729370117, 1.0519425868988037, 0.9043629169464111, 0.45218145847320557, 0.8633061051368713, 1.0519533157348633, 0.863257646560669, 1.0519474744796753, 1.0519838333129883, 0.8633103370666504, 0.863284170627594, 0.863303005695343, 1.0519486665725708, 0.6322374939918518, 0.6322374939918518, 1.0519031286239624, 1.0520284175872803, 1.1180609464645386, 1.0519407987594604, 0.6322637796401978, 0.6322637796401978, 1.0518947839736938, 0.9835762977600098, 1.1187220811843872, 0.8633090853691101, 1.0519016981124878, 1.0519455671310425, 0.8632848262786865, 1.1187013387680054, 1.051976203918457, 0.8632788062095642, 1.0520102977752686, 0.8637670278549194, 0.28792232275009155, 0.8632435202598572, 0.6328062415122986, 0.6328062415122986, 0.632550060749054, 0.632550060749054, 0.8633032441139221, 1.052002191543579, 0.8267025947570801, 0.6326584219932556, 0.6326584219932556, 1.1177226305007935, 0.8265041708946228, 0.7278861999511719, 1.0519702434539795, 1.0519455671310425, 1.1188002824783325], \"Term\": [\"abandon\", \"administration\", \"allow\", \"allow\", \"also\", \"also\", \"ancient\", \"architecture\", \"beautiful\", \"border\", \"british\", \"building\", \"bus\", \"cancel\", \"capital\", \"carry\", \"centre\", \"character\", \"cheap\", \"city\", \"close\", \"close\", \"closing\", \"colony\", \"come\", \"come\", \"continued\", \"desperate\", \"die\", \"door\", \"door\", \"duty\", \"empire\", \"feel\", \"floor\", \"gate\", \"go\", \"go\", \"green\", \"historical\", \"include\", \"job\", \"knock\", \"let\", \"line\", \"little\", \"live\", \"look\", \"look\", \"morning\", \"nicosia\", \"northern\", \"occupation\", \"open\", \"open\", \"opening\", \"part\", \"people\", \"put\", \"recite\", \"remain\", \"renovation\", \"reservation\", \"road\", \"sadly\", \"second\", \"side\", \"side\", \"southern\", \"take\", \"take\", \"time\", \"time\", \"town\", \"transfer\", \"turkish\", \"turn\", \"turn\", \"visit\", \"walk\", \"wall\", \"warden\", \"wear\", \"wheelchair\"]}, \"R\": 30, \"lambda.step\": 0.01, \"plot.opts\": {\"xlab\": \"PC1\", \"ylab\": \"PC2\"}, \"topic.order\": [2, 1]};\n",
       "\n",
       "function LDAvis_load_lib(url, callback){\n",
       "  var s = document.createElement('script');\n",
       "  s.src = url;\n",
       "  s.async = true;\n",
       "  s.onreadystatechange = s.onload = callback;\n",
       "  s.onerror = function(){console.warn(\"failed to load library \" + url);};\n",
       "  document.getElementsByTagName(\"head\")[0].appendChild(s);\n",
       "}\n",
       "\n",
       "if(typeof(LDAvis) !== \"undefined\"){\n",
       "   // already loaded: just create the visualization\n",
       "   !function(LDAvis){\n",
       "       new LDAvis(\"#\" + \"ldavis_el2137617374909220561805127862\", ldavis_el2137617374909220561805127862_data);\n",
       "   }(LDAvis);\n",
       "}else if(typeof define === \"function\" && define.amd){\n",
       "   // require.js is available: use it to load d3/LDAvis\n",
       "   require.config({paths: {d3: \"https://cdnjs.cloudflare.com/ajax/libs/d3/3.5.5/d3.min\"}});\n",
       "   require([\"d3\"], function(d3){\n",
       "      window.d3 = d3;\n",
       "      LDAvis_load_lib(\"https://cdn.rawgit.com/bmabey/pyLDAvis/files/ldavis.v1.0.0.js\", function(){\n",
       "        new LDAvis(\"#\" + \"ldavis_el2137617374909220561805127862\", ldavis_el2137617374909220561805127862_data);\n",
       "      });\n",
       "    });\n",
       "}else{\n",
       "    // require.js not available: dynamically load d3 & LDAvis\n",
       "    LDAvis_load_lib(\"https://cdnjs.cloudflare.com/ajax/libs/d3/3.5.5/d3.min.js\", function(){\n",
       "         LDAvis_load_lib(\"https://cdn.rawgit.com/bmabey/pyLDAvis/files/ldavis.v1.0.0.js\", function(){\n",
       "                 new LDAvis(\"#\" + \"ldavis_el2137617374909220561805127862\", ldavis_el2137617374909220561805127862_data);\n",
       "            })\n",
       "         });\n",
       "}\n",
       "</script>"
      ],
      "text/plain": [
       "PreparedData(topic_coordinates=              x         y  topics  cluster       Freq\n",
       "topic                                                \n",
       "1     -0.003259 -0.057509       1        1  69.829391\n",
       "0      0.003259  0.057509       2        1  30.170605, topic_info=        Term      Freq     Total Category  logprob  loglift\n",
       "104     wall  1.000000  1.000000  Default  30.0000  30.0000\n",
       "67   british  1.000000  1.000000  Default  29.0000  29.0000\n",
       "77      door  2.000000  2.000000  Default  28.0000  28.0000\n",
       "92   nicosia  0.000000  0.000000  Default  27.0000  27.0000\n",
       "82     floor  0.000000  0.000000  Default  26.0000  26.0000\n",
       "..       ...       ...       ...      ...      ...      ...\n",
       "57      time  0.636262  1.580903   Topic2  -4.5471   0.2882\n",
       "13      come  0.635565  1.581246   Topic2  -4.5482   0.2868\n",
       "12     close  0.635247  1.581402   Topic2  -4.5487   0.2862\n",
       "95      open  0.634808  1.581618   Topic2  -4.5494   0.2854\n",
       "136     look  0.634675  1.581684   Topic2  -4.5496   0.2852\n",
       "\n",
       "[107 rows x 6 columns], token_table=      Topic      Freq            Term\n",
       "term                                 \n",
       "160       1  0.863260         abandon\n",
       "64        2  1.051953  administration\n",
       "0         1  0.632669           allow\n",
       "0         2  0.632669           allow\n",
       "1         1  0.632652            also\n",
       "...     ...       ...             ...\n",
       "128       1  0.826504            walk\n",
       "104       2  0.727886            wall\n",
       "105       2  1.051970          warden\n",
       "106       2  1.051946            wear\n",
       "62        1  1.118800      wheelchair\n",
       "\n",
       "[84 rows x 3 columns], R=30, lambda_step=0.01, plot_opts={'xlab': 'PC1', 'ylab': 'PC2'}, topic_order=[2, 1])"
      ]
     },
     "metadata": {},
     "output_type": "display_data"
    }
   ],
   "source": [
    "plot_model(tuned_neg2, plot ='topic_model')"
   ]
  },
  {
   "cell_type": "code",
   "execution_count": null,
   "metadata": {},
   "outputs": [],
   "source": []
  },
  {
   "cell_type": "code",
   "execution_count": null,
   "metadata": {},
   "outputs": [],
   "source": []
  }
 ],
 "metadata": {
  "kernelspec": {
   "display_name": "Python 3",
   "language": "python",
   "name": "python3"
  },
  "language_info": {
   "codemirror_mode": {
    "name": "ipython",
    "version": 3
   },
   "file_extension": ".py",
   "mimetype": "text/x-python",
   "name": "python",
   "nbconvert_exporter": "python",
   "pygments_lexer": "ipython3",
   "version": "3.7.4"
  },
  "widgets": {
   "application/vnd.jupyter.widget-state+json": {
    "state": {
     "0117c18961784440b5d8753007486595": {
      "model_module": "@jupyter-widgets/base",
      "model_module_version": "1.2.0",
      "model_name": "LayoutModel",
      "state": {}
     },
     "011d55cba1d2424b9b3535f3f6304d6a": {
      "model_module": "@jupyter-widgets/controls",
      "model_module_version": "1.5.0",
      "model_name": "DescriptionStyleModel",
      "state": {
       "description_width": ""
      }
     },
     "0373170d28414abead8ee7b1e80ca1e1": {
      "model_module": "@jupyter-widgets/base",
      "model_module_version": "1.2.0",
      "model_name": "LayoutModel",
      "state": {}
     },
     "0764c20174304f3e9df4de4a9740120c": {
      "model_module": "@jupyter-widgets/base",
      "model_module_version": "1.2.0",
      "model_name": "LayoutModel",
      "state": {}
     },
     "07cadb2a40d44b9c82d27537c72ea0b7": {
      "model_module": "@jupyter-widgets/controls",
      "model_module_version": "1.5.0",
      "model_name": "IntProgressModel",
      "state": {
       "description": "Processing: ",
       "layout": "IPY_MODEL_374d9a1bae56432c95465d275e0f0edf",
       "max": 870,
       "style": "IPY_MODEL_97e9ddff3e324cafbe45798124f3620f",
       "value": 870
      }
     },
     "08aa6aa0ef6447a0bdc4244114ce3161": {
      "model_module": "@jupyter-widgets/controls",
      "model_module_version": "1.5.0",
      "model_name": "ToggleButtonsModel",
      "state": {
       "_options_labels": [
        "Frequency Plot",
        "Bigrams",
        "Trigrams",
        "Sentiment Polarity",
        "Word Cloud"
       ],
       "button_style": "",
       "description": "Plot Type:",
       "icons": [
        ""
       ],
       "index": 0,
       "layout": "IPY_MODEL_ec2ee32df4b34e6d91cb958ada69ae44",
       "style": "IPY_MODEL_a742a2a945db42c3a75be1bb9b816ab1",
       "tooltips": []
      }
     },
     "08e8d8e39f4440d49e27f90ccb39ca91": {
      "model_module": "@jupyter-widgets/base",
      "model_module_version": "1.2.0",
      "model_name": "LayoutModel",
      "state": {}
     },
     "09733c562d1348feab4b8e9135b545b8": {
      "model_module": "@jupyter-widgets/controls",
      "model_module_version": "1.5.0",
      "model_name": "ProgressStyleModel",
      "state": {
       "description_width": ""
      }
     },
     "09875ed6ea6648dfaf28dd3ba9e100dd": {
      "model_module": "@jupyter-widgets/base",
      "model_module_version": "1.2.0",
      "model_name": "LayoutModel",
      "state": {}
     },
     "09da599d43ae45bc8c6dee91524cd7b5": {
      "model_module": "@jupyter-widgets/controls",
      "model_module_version": "1.5.0",
      "model_name": "IntProgressModel",
      "state": {
       "description": "Processing: ",
       "layout": "IPY_MODEL_c19dd1e299d540e6b565a1ce24abb292",
       "max": 4,
       "style": "IPY_MODEL_a34fb008861f46e496add1a395f98c5c",
       "value": 4
      }
     },
     "0b344abf71a24150aa935a7f913cbea4": {
      "model_module": "@jupyter-widgets/base",
      "model_module_version": "1.2.0",
      "model_name": "LayoutModel",
      "state": {}
     },
     "0c66ab04e33b42c9bde43f9096e72993": {
      "model_module": "@jupyter-widgets/base",
      "model_module_version": "1.2.0",
      "model_name": "LayoutModel",
      "state": {}
     },
     "0ca41fee96084ec6b860c2c557524953": {
      "model_module": "@jupyter-widgets/controls",
      "model_module_version": "1.5.0",
      "model_name": "ButtonModel",
      "state": {
       "description": "Run Interact",
       "layout": "IPY_MODEL_e3cae36ab6d443e6bf117d901b58f5d5",
       "style": "IPY_MODEL_f9a5a98739fa4ba6a81df3a08ed82c5a"
      }
     },
     "0cc5da2e312e40de8682a7fc343208dd": {
      "model_module": "@jupyter-widgets/controls",
      "model_module_version": "1.5.0",
      "model_name": "ProgressStyleModel",
      "state": {
       "description_width": ""
      }
     },
     "0db6eb636e3846ae9c7311a0242e7c96": {
      "model_module": "@jupyter-widgets/base",
      "model_module_version": "1.2.0",
      "model_name": "LayoutModel",
      "state": {}
     },
     "0e8fea0b79e245859bbb5e40c0241525": {
      "model_module": "@jupyter-widgets/controls",
      "model_module_version": "1.5.0",
      "model_name": "ProgressStyleModel",
      "state": {
       "description_width": ""
      }
     },
     "0f6c8ac6d1f846068fb9281665654538": {
      "model_module": "@jupyter-widgets/controls",
      "model_module_version": "1.5.0",
      "model_name": "ProgressStyleModel",
      "state": {
       "description_width": ""
      }
     },
     "1198a964cca548019a74dd779a581444": {
      "model_module": "@jupyter-widgets/controls",
      "model_module_version": "1.5.0",
      "model_name": "IntProgressModel",
      "state": {
       "description": "Processing: ",
       "layout": "IPY_MODEL_23c2129d6e4b4e60aea46e684ef74565",
       "max": 48,
       "style": "IPY_MODEL_36da061b06cd4ee99e00182a6e9ce4bc",
       "value": 48
      }
     },
     "125c99e83f704685bfb89f907ade2fa7": {
      "model_module": "@jupyter-widgets/base",
      "model_module_version": "1.2.0",
      "model_name": "LayoutModel",
      "state": {}
     },
     "14e074f71fd342fca47034ca4a825b51": {
      "model_module": "@jupyter-widgets/base",
      "model_module_version": "1.2.0",
      "model_name": "LayoutModel",
      "state": {}
     },
     "14e6ec2ea7e14054810148b216201d6b": {
      "model_module": "@jupyter-widgets/controls",
      "model_module_version": "1.5.0",
      "model_name": "IntProgressModel",
      "state": {
       "description": "Processing: ",
       "layout": "IPY_MODEL_d1261151d6a241c2be4de1ba33f52b2a",
       "max": 870,
       "style": "IPY_MODEL_c7d2734dbf3f49eeaf3de24042d97c77",
       "value": 870
      }
     },
     "161d3ee7408a4de3b183655f24ccb534": {
      "model_module": "@jupyter-widgets/controls",
      "model_module_version": "1.5.0",
      "model_name": "ProgressStyleModel",
      "state": {
       "description_width": ""
      }
     },
     "16e9e2a08a3f427ca590447071eb82e0": {
      "model_module": "@jupyter-widgets/base",
      "model_module_version": "1.2.0",
      "model_name": "LayoutModel",
      "state": {}
     },
     "1710c717bd8445f3a5810ec5bd6f44cb": {
      "model_module": "@jupyter-widgets/controls",
      "model_module_version": "1.5.0",
      "model_name": "ProgressStyleModel",
      "state": {
       "description_width": ""
      }
     },
     "17918aac13614c9294221adfef9f1907": {
      "model_module": "@jupyter-widgets/controls",
      "model_module_version": "1.5.0",
      "model_name": "IntProgressModel",
      "state": {
       "description": "Processing: ",
       "layout": "IPY_MODEL_ec27026dd7434ab3a8fd3300a6f6c0df",
       "max": 870,
       "style": "IPY_MODEL_367873095006426c9e320950f7b4ae8d",
       "value": 870
      }
     },
     "192d8afedf20450eb270e406abe64e0e": {
      "model_module": "@jupyter-widgets/controls",
      "model_module_version": "1.5.0",
      "model_name": "IntProgressModel",
      "state": {
       "description": "Processing: ",
       "layout": "IPY_MODEL_2ade8d5999e24b38aa950416d69b90b6",
       "max": 48,
       "style": "IPY_MODEL_cdf17ecba82143e5a3e9de5fecc3a1ff",
       "value": 48
      }
     },
     "1a19b13730c34adb8ac3f3e6fcc55655": {
      "model_module": "@jupyter-widgets/controls",
      "model_module_version": "1.5.0",
      "model_name": "ProgressStyleModel",
      "state": {
       "description_width": ""
      }
     },
     "1a44e97fbbe94591bf4aad7f63cc012a": {
      "model_module": "@jupyter-widgets/base",
      "model_module_version": "1.2.0",
      "model_name": "LayoutModel",
      "state": {}
     },
     "1b08de3ef7aa4b4384a1e311af2322ba": {
      "model_module": "@jupyter-widgets/controls",
      "model_module_version": "1.5.0",
      "model_name": "ProgressStyleModel",
      "state": {
       "description_width": ""
      }
     },
     "1c9056f33a1a44b480d6146ec57c5394": {
      "model_module": "@jupyter-widgets/base",
      "model_module_version": "1.2.0",
      "model_name": "LayoutModel",
      "state": {}
     },
     "1cd42b32b75a46dcaeea4756c5638425": {
      "model_module": "@jupyter-widgets/controls",
      "model_module_version": "1.5.0",
      "model_name": "ProgressStyleModel",
      "state": {
       "description_width": ""
      }
     },
     "1da79ec76dd64bfc8614901e6b5f0330": {
      "model_module": "@jupyter-widgets/controls",
      "model_module_version": "1.5.0",
      "model_name": "IntProgressModel",
      "state": {
       "description": "Processing: ",
       "layout": "IPY_MODEL_f99bff09f5564cecb7aac86ee3ba30f0",
       "max": 48,
       "style": "IPY_MODEL_bf25e802d4f34cbd8a1157570c911d56",
       "value": 48
      }
     },
     "1f0483d3c33345778b9899b758906692": {
      "model_module": "@jupyter-widgets/controls",
      "model_module_version": "1.5.0",
      "model_name": "IntProgressModel",
      "state": {
       "description": "Processing: ",
       "layout": "IPY_MODEL_7b0513ed1df24cb6ac19ec71eebd739b",
       "max": 4,
       "style": "IPY_MODEL_6eca3fee38aa49eaa15618e2c784e7ef",
       "value": 4
      }
     },
     "20e5fd6a0069454fafd326e0b2c6874e": {
      "model_module": "@jupyter-widgets/controls",
      "model_module_version": "1.5.0",
      "model_name": "IntProgressModel",
      "state": {
       "description": "Processing: ",
       "layout": "IPY_MODEL_9f25d12341b64552868de4dabd7bb506",
       "max": 4,
       "style": "IPY_MODEL_caa659819c434f14a218de71ea5e9920",
       "value": 4
      }
     },
     "214f5c9d01af4e3280d72e111805b628": {
      "model_module": "@jupyter-widgets/controls",
      "model_module_version": "1.5.0",
      "model_name": "IntProgressModel",
      "state": {
       "description": "Processing: ",
       "layout": "IPY_MODEL_e08b19f5eb244d1db0b11de26a4f32c2",
       "max": 870,
       "style": "IPY_MODEL_e6faccfc6fd544afa2637f5003bf7d9a",
       "value": 870
      }
     },
     "21f73cd0eb41414ba504f5427afc948b": {
      "model_module": "@jupyter-widgets/base",
      "model_module_version": "1.2.0",
      "model_name": "LayoutModel",
      "state": {}
     },
     "22df95c90c8f4280af2639447b493322": {
      "model_module": "@jupyter-widgets/controls",
      "model_module_version": "1.5.0",
      "model_name": "IntProgressModel",
      "state": {
       "description": "Processing: ",
       "layout": "IPY_MODEL_08e8d8e39f4440d49e27f90ccb39ca91",
       "max": 48,
       "style": "IPY_MODEL_0e8fea0b79e245859bbb5e40c0241525",
       "value": 48
      }
     },
     "2307265549e1422c90e209ab9fac75d9": {
      "model_module": "@jupyter-widgets/base",
      "model_module_version": "1.2.0",
      "model_name": "LayoutModel",
      "state": {}
     },
     "23c2129d6e4b4e60aea46e684ef74565": {
      "model_module": "@jupyter-widgets/base",
      "model_module_version": "1.2.0",
      "model_name": "LayoutModel",
      "state": {}
     },
     "23ed8d269a2b44afaef219e7a53bc0a6": {
      "model_module": "@jupyter-widgets/controls",
      "model_module_version": "1.5.0",
      "model_name": "DropdownModel",
      "state": {
       "_options_labels": [
        "Topic 0",
        "Topic 1",
        "Topic 2",
        "Topic 3"
       ],
       "description": "Topic #:",
       "index": 3,
       "layout": "IPY_MODEL_33eb2b1b8bb14719ba8a21393bcd7130",
       "style": "IPY_MODEL_fa30d12576524391bd1a84daf0e5e3e2"
      }
     },
     "25083cc1971945d7bc6bc8bef8f5913a": {
      "model_module": "@jupyter-widgets/controls",
      "model_module_version": "1.5.0",
      "model_name": "IntProgressModel",
      "state": {
       "description": "Processing: ",
       "layout": "IPY_MODEL_c45c5a4d34b4456884f58bb925af73f9",
       "max": 870,
       "style": "IPY_MODEL_ae2910a0461b4c3981e9225276dea5c2",
       "value": 870
      }
     },
     "26f02ce620224ea8a80f62d026ec1419": {
      "model_module": "@jupyter-widgets/controls",
      "model_module_version": "1.5.0",
      "model_name": "ProgressStyleModel",
      "state": {
       "description_width": ""
      }
     },
     "283c6fb0bef0443d8e6420eca0655ce4": {
      "model_module": "@jupyter-widgets/controls",
      "model_module_version": "1.5.0",
      "model_name": "IntProgressModel",
      "state": {
       "description": "Processing: ",
       "layout": "IPY_MODEL_934bc2eb15ec404c9b98c481e126b7ac",
       "max": 4,
       "style": "IPY_MODEL_9c60033ee0d74e949a5e8bbb2ad1aca6",
       "value": 4
      }
     },
     "283fc5c6b2514ea2b9ac077137ff3078": {
      "model_module": "@jupyter-widgets/controls",
      "model_module_version": "1.5.0",
      "model_name": "IntProgressModel",
      "state": {
       "description": "Processing: ",
       "layout": "IPY_MODEL_f471eca31f6e48c1bd81b6d2d26b8b72",
       "max": 4,
       "style": "IPY_MODEL_4447fae23ca74ff987b96e31f0ca8c64",
       "value": 4
      }
     },
     "2ade8d5999e24b38aa950416d69b90b6": {
      "model_module": "@jupyter-widgets/base",
      "model_module_version": "1.2.0",
      "model_name": "LayoutModel",
      "state": {}
     },
     "2b987b17499247a58f0f89886a90de49": {
      "model_module": "@jupyter-widgets/controls",
      "model_module_version": "1.5.0",
      "model_name": "IntProgressModel",
      "state": {
       "description": "Processing: ",
       "layout": "IPY_MODEL_a83a1065e8ea46f79cd22b93a05f9934",
       "max": 4,
       "style": "IPY_MODEL_09733c562d1348feab4b8e9135b545b8",
       "value": 4
      }
     },
     "2bb1a14617cf4d9dafd97b6ea9f6b467": {
      "model_module": "@jupyter-widgets/controls",
      "model_module_version": "1.5.0",
      "model_name": "IntProgressModel",
      "state": {
       "description": "Processing: ",
       "layout": "IPY_MODEL_21f73cd0eb41414ba504f5427afc948b",
       "max": 870,
       "style": "IPY_MODEL_1a19b13730c34adb8ac3f3e6fcc55655",
       "value": 870
      }
     },
     "2bd9437396b44d9b9119d03a87f910cd": {
      "model_module": "@jupyter-widgets/controls",
      "model_module_version": "1.5.0",
      "model_name": "IntProgressModel",
      "state": {
       "description": "Processing: ",
       "layout": "IPY_MODEL_0c66ab04e33b42c9bde43f9096e72993",
       "max": 4,
       "style": "IPY_MODEL_ebc411cffcd441f08ebce6e23bb4561b",
       "value": 4
      }
     },
     "31b3baafeb774a7cbac7db870aa9dd74": {
      "model_module": "@jupyter-widgets/base",
      "model_module_version": "1.2.0",
      "model_name": "LayoutModel",
      "state": {}
     },
     "31cc43fcacf44bd492789694ad981918": {
      "model_module": "@jupyter-widgets/controls",
      "model_module_version": "1.5.0",
      "model_name": "ButtonModel",
      "state": {
       "description": "Run Interact",
       "layout": "IPY_MODEL_df6710eb9bd64e1399f6eb85417e19bc",
       "style": "IPY_MODEL_e804e8b8e49742c7b794eb645e9cfbb7"
      }
     },
     "322c4bab47e543bb86e141cc5dd3babe": {
      "model_module": "@jupyter-widgets/controls",
      "model_module_version": "1.5.0",
      "model_name": "VBoxModel",
      "state": {
       "_dom_classes": [
        "widget-interact"
       ],
       "children": [
        "IPY_MODEL_f0aa0b72c5d34fd6b0fdec52b7bc6792",
        "IPY_MODEL_b60e569c302f4aed9a592d920bb1d704",
        "IPY_MODEL_31cc43fcacf44bd492789694ad981918",
        "IPY_MODEL_937c0719026c43d2b1b5d22fa0f42fb5"
       ],
       "layout": "IPY_MODEL_a90a548c760246d6a187aeac60b8d716"
      }
     },
     "331b048b024f45e780b69e099540ecf6": {
      "model_module": "@jupyter-widgets/base",
      "model_module_version": "1.2.0",
      "model_name": "LayoutModel",
      "state": {}
     },
     "33eb2b1b8bb14719ba8a21393bcd7130": {
      "model_module": "@jupyter-widgets/base",
      "model_module_version": "1.2.0",
      "model_name": "LayoutModel",
      "state": {}
     },
     "343289ca052f45dd9faadaefc9372136": {
      "model_module": "@jupyter-widgets/controls",
      "model_module_version": "1.5.0",
      "model_name": "ProgressStyleModel",
      "state": {
       "description_width": ""
      }
     },
     "34c55935c58b4f5d9becee874b767226": {
      "model_module": "@jupyter-widgets/base",
      "model_module_version": "1.2.0",
      "model_name": "LayoutModel",
      "state": {}
     },
     "35edcc52f9ab42fe9998f1f225424eaf": {
      "model_module": "@jupyter-widgets/base",
      "model_module_version": "1.2.0",
      "model_name": "LayoutModel",
      "state": {}
     },
     "367873095006426c9e320950f7b4ae8d": {
      "model_module": "@jupyter-widgets/controls",
      "model_module_version": "1.5.0",
      "model_name": "ProgressStyleModel",
      "state": {
       "description_width": ""
      }
     },
     "36da061b06cd4ee99e00182a6e9ce4bc": {
      "model_module": "@jupyter-widgets/controls",
      "model_module_version": "1.5.0",
      "model_name": "ProgressStyleModel",
      "state": {
       "description_width": ""
      }
     },
     "374d9a1bae56432c95465d275e0f0edf": {
      "model_module": "@jupyter-widgets/base",
      "model_module_version": "1.2.0",
      "model_name": "LayoutModel",
      "state": {}
     },
     "379ae64d79ba4e5eb105aff54a88ccd5": {
      "model_module": "@jupyter-widgets/base",
      "model_module_version": "1.2.0",
      "model_name": "LayoutModel",
      "state": {}
     },
     "3a8cd6d206e444258351efc0bcae2d1d": {
      "model_module": "@jupyter-widgets/base",
      "model_module_version": "1.2.0",
      "model_name": "LayoutModel",
      "state": {}
     },
     "3acab8a540094d4098b78789d04c32ee": {
      "model_module": "@jupyter-widgets/controls",
      "model_module_version": "1.5.0",
      "model_name": "ProgressStyleModel",
      "state": {
       "description_width": ""
      }
     },
     "3b43b69302be48c1b7fe3f6c01b6050e": {
      "model_module": "@jupyter-widgets/base",
      "model_module_version": "1.2.0",
      "model_name": "LayoutModel",
      "state": {}
     },
     "3bf7f25f47ad4584bbb8ee0ebc13b456": {
      "model_module": "@jupyter-widgets/controls",
      "model_module_version": "1.5.0",
      "model_name": "IntProgressModel",
      "state": {
       "description": "Processing: ",
       "layout": "IPY_MODEL_4e2151d4cb4c4f0ca0db2d5778d48953",
       "max": 48,
       "style": "IPY_MODEL_c36c5f6e93d24320b9c334cd7da8e437",
       "value": 48
      }
     },
     "3f46aa5b765141ed92a825ac31204f31": {
      "model_module": "@jupyter-widgets/controls",
      "model_module_version": "1.5.0",
      "model_name": "ButtonStyleModel",
      "state": {}
     },
     "423bc887d5c74b828758d8bde8648171": {
      "model_module": "@jupyter-widgets/base",
      "model_module_version": "1.2.0",
      "model_name": "LayoutModel",
      "state": {}
     },
     "4447fae23ca74ff987b96e31f0ca8c64": {
      "model_module": "@jupyter-widgets/controls",
      "model_module_version": "1.5.0",
      "model_name": "ProgressStyleModel",
      "state": {
       "description_width": ""
      }
     },
     "45a586cfd60944c28a4a5cb8dfe23639": {
      "model_module": "@jupyter-widgets/controls",
      "model_module_version": "1.5.0",
      "model_name": "ProgressStyleModel",
      "state": {
       "description_width": ""
      }
     },
     "45f53047ff5540dfa38eba501bd244ed": {
      "model_module": "@jupyter-widgets/controls",
      "model_module_version": "1.5.0",
      "model_name": "IntProgressModel",
      "state": {
       "description": "Processing: ",
       "layout": "IPY_MODEL_0117c18961784440b5d8753007486595",
       "max": 4,
       "style": "IPY_MODEL_1b08de3ef7aa4b4384a1e311af2322ba",
       "value": 4
      }
     },
     "460c90df8cb44ac69590932b8b6e5074": {
      "model_module": "@jupyter-widgets/base",
      "model_module_version": "1.2.0",
      "model_name": "LayoutModel",
      "state": {}
     },
     "479439093be741ac88e852948d5c5ab8": {
      "model_module": "@jupyter-widgets/base",
      "model_module_version": "1.2.0",
      "model_name": "LayoutModel",
      "state": {}
     },
     "4b6faed7bfb248248bf88f723cafb57e": {
      "model_module": "@jupyter-widgets/base",
      "model_module_version": "1.2.0",
      "model_name": "LayoutModel",
      "state": {}
     },
     "4e1fdee38f5c468196e169e6a5f7c101": {
      "model_module": "@jupyter-widgets/controls",
      "model_module_version": "1.5.0",
      "model_name": "ProgressStyleModel",
      "state": {
       "description_width": ""
      }
     },
     "4e2151d4cb4c4f0ca0db2d5778d48953": {
      "model_module": "@jupyter-widgets/base",
      "model_module_version": "1.2.0",
      "model_name": "LayoutModel",
      "state": {}
     },
     "4e3242bd35ff4ec681ee4cacddc4c182": {
      "model_module": "@jupyter-widgets/base",
      "model_module_version": "1.2.0",
      "model_name": "LayoutModel",
      "state": {}
     },
     "5035a2b460474f83903c74c7dad63a39": {
      "model_module": "@jupyter-widgets/controls",
      "model_module_version": "1.5.0",
      "model_name": "IntProgressModel",
      "state": {
       "description": "Processing: ",
       "layout": "IPY_MODEL_f90aba366131435b94408fae809d8109",
       "max": 4,
       "style": "IPY_MODEL_6b283543764646a9ae26e0b933fba321",
       "value": 4
      }
     },
     "529b5b871ba3463887efe28bc5b168c3": {
      "model_module": "@jupyter-widgets/controls",
      "model_module_version": "1.5.0",
      "model_name": "IntProgressModel",
      "state": {
       "description": "Processing: ",
       "layout": "IPY_MODEL_bc73140e8d064bf7b2f2e0ab84454788",
       "max": 4,
       "style": "IPY_MODEL_8588d3da2aaf42249875a17f77c6efc7",
       "value": 4
      }
     },
     "53158dec7f594db998d1d3c997266e28": {
      "model_module": "@jupyter-widgets/base",
      "model_module_version": "1.2.0",
      "model_name": "LayoutModel",
      "state": {}
     },
     "535c7dfe55704c279516fe05a4193ccd": {
      "model_module": "@jupyter-widgets/controls",
      "model_module_version": "1.5.0",
      "model_name": "IntProgressModel",
      "state": {
       "description": "Processing: ",
       "layout": "IPY_MODEL_16e9e2a08a3f427ca590447071eb82e0",
       "max": 870,
       "style": "IPY_MODEL_ba2240e1c94a478cb4a761e40d0958b0",
       "value": 870
      }
     },
     "57cac375ec6d4fd3b96900dc60fef2aa": {
      "model_module": "@jupyter-widgets/base",
      "model_module_version": "1.2.0",
      "model_name": "LayoutModel",
      "state": {}
     },
     "58831f023c5b497e919aff6f4eb8a4a5": {
      "model_module": "@jupyter-widgets/base",
      "model_module_version": "1.2.0",
      "model_name": "LayoutModel",
      "state": {}
     },
     "5971dcb9f6424a1cbf1c2014a1386b81": {
      "model_module": "@jupyter-widgets/controls",
      "model_module_version": "1.5.0",
      "model_name": "ButtonModel",
      "state": {
       "description": "Run Interact",
       "layout": "IPY_MODEL_70a28876caf14ca4a0c5f7a06e67284a",
       "style": "IPY_MODEL_ed6c19d2b9dd4d0cb71431f7aa30934c"
      }
     },
     "5a09472c1ef3476b924f3803890a10e1": {
      "model_module": "@jupyter-widgets/controls",
      "model_module_version": "1.5.0",
      "model_name": "IntProgressModel",
      "state": {
       "description": "Processing: ",
       "layout": "IPY_MODEL_b97fc926337941f882e40c70b1f6d86a",
       "max": 870,
       "style": "IPY_MODEL_9e6d802bfa104586a25109d50ceff98d",
       "value": 870
      }
     },
     "5b6b8326f0a5417d876abb0002f1a002": {
      "model_module": "@jupyter-widgets/controls",
      "model_module_version": "1.5.0",
      "model_name": "ToggleButtonsStyleModel",
      "state": {
       "button_width": "",
       "description_width": ""
      }
     },
     "5bcb2f51df654e0f8523e33e88d2609f": {
      "model_module": "@jupyter-widgets/controls",
      "model_module_version": "1.5.0",
      "model_name": "ProgressStyleModel",
      "state": {
       "description_width": ""
      }
     },
     "5be6d5098d9f467098ed1693d37e32b2": {
      "model_module": "@jupyter-widgets/output",
      "model_module_version": "1.0.0",
      "model_name": "OutputModel",
      "state": {
       "layout": "IPY_MODEL_5e22a500410947d3a5b677dcf2f13a84",
       "outputs": [
        {
         "data": {
          "text/html": "        <script type=\"text/javascript\">\n        window.PlotlyConfig = {MathJaxConfig: 'local'};\n        if (window.MathJax) {MathJax.Hub.Config({SVG: {font: \"STIX-Web\"}});}\n        if (typeof require !== 'undefined') {\n        require.undef(\"plotly\");\n        requirejs.config({\n            paths: {\n                'plotly': ['https://cdn.plot.ly/plotly-latest.min']\n            }\n        });\n        require(['plotly'], function(Plotly) {\n            window._Plotly = Plotly;\n        });\n        }\n        </script>\n        "
         },
         "metadata": {},
         "output_type": "display_data"
        },
        {
         "data": {
          "application/vnd.plotly.v1+json": {
           "config": {
            "linkText": "Export to plot.ly",
            "plotlyServerURL": "https://plot.ly",
            "showLink": true
           },
           "data": [
            {
             "marker": {
              "color": "rgba(255, 153, 51, 0.6)",
              "line": {
               "color": "rgba(255, 153, 51, 1.0)",
               "width": 1
              }
             },
             "name": "count",
             "orientation": "v",
             "text": "",
             "type": "bar",
             "x": [
              "outdoor pool",
              "pool bar",
              "stay night",
              "great variety",
              "go back",
              "first time",
              "lunch dinner",
              "night stay",
              "business trip",
              "staff friendly",
              "excellent service",
              "make sure",
              "next time",
              "pool area",
              "worth visit",
              "stay business",
              "business lunch",
              "late night",
              "morning breakfast",
              "staff excellent",
              "extra charge",
              "little old",
              "little bit",
              "well decorate",
              "flight cancel",
              "swim pool",
              "indoor pool",
              "friendly helpful",
              "include price",
              "friendly staff",
              "high quality",
              "bit pricey",
              "next day",
              "many time",
              "great time",
              "different salad",
              "spa area",
              "really like",
              "place stay",
              "soft drink",
              "day breakfast",
              "old fashion",
              "several different",
              "stay well",
              "buffet option",
              "complimentary drink",
              "cost euros",
              "book night",
              "change glass",
              "couple day",
              "go wife",
              "great atmosphere",
              "fresh fruit",
              "fan buffet",
              "buffet choose",
              "dessert include",
              "buffet rich",
              "buffet excellent",
              "buffet great",
              "entree dish",
              "buffet make",
              "enjoy great",
              "easy find",
              "drink also",
              "great place",
              "let know",
              "great value",
              "stay service",
              "really worth",
              "reasonable price",
              "right get",
              "salad meat",
              "service excellent",
              "staff keep",
              "summer time",
              "helpful polite",
              "think dessert",
              "try different",
              "variety choice",
              "variety salad",
              "want change",
              "want pay",
              "quality taste",
              "price friendly",
              "place go",
              "minute_walk away",
              "meat fish",
              "many option",
              "lunch salad",
              "lunch buffet",
              "local speciality",
              "like change",
              "late lunch",
              "large varaiety",
              "large clean",
              "indoor outdoor",
              "huge variety",
              "hot dish",
              "highly recomende",
              "always great"
             ],
             "y": [
              6,
              6,
              6,
              5,
              5,
              5,
              5,
              5,
              5,
              4,
              4,
              4,
              4,
              4,
              4,
              4,
              3,
              3,
              3,
              3,
              3,
              3,
              3,
              3,
              3,
              3,
              3,
              3,
              3,
              3,
              3,
              3,
              3,
              3,
              3,
              3,
              3,
              3,
              3,
              3,
              3,
              3,
              3,
              3,
              2,
              2,
              2,
              2,
              2,
              2,
              2,
              2,
              2,
              2,
              2,
              2,
              2,
              2,
              2,
              2,
              2,
              2,
              2,
              2,
              2,
              2,
              2,
              2,
              2,
              2,
              2,
              2,
              2,
              2,
              2,
              2,
              2,
              2,
              2,
              2,
              2,
              2,
              2,
              2,
              2,
              2,
              2,
              2,
              2,
              2,
              2,
              2,
              2,
              2,
              2,
              2,
              2,
              2,
              2,
              2
             ]
            }
           ],
           "layout": {
            "legend": {
             "bgcolor": "#F5F6F9",
             "font": {
              "color": "#4D5663"
             }
            },
            "paper_bgcolor": "#F5F6F9",
            "plot_bgcolor": "#F5F6F9",
            "template": {
             "data": {
              "bar": [
               {
                "error_x": {
                 "color": "#2a3f5f"
                },
                "error_y": {
                 "color": "#2a3f5f"
                },
                "marker": {
                 "line": {
                  "color": "#E5ECF6",
                  "width": 0.5
                 }
                },
                "type": "bar"
               }
              ],
              "barpolar": [
               {
                "marker": {
                 "line": {
                  "color": "#E5ECF6",
                  "width": 0.5
                 }
                },
                "type": "barpolar"
               }
              ],
              "carpet": [
               {
                "aaxis": {
                 "endlinecolor": "#2a3f5f",
                 "gridcolor": "white",
                 "linecolor": "white",
                 "minorgridcolor": "white",
                 "startlinecolor": "#2a3f5f"
                },
                "baxis": {
                 "endlinecolor": "#2a3f5f",
                 "gridcolor": "white",
                 "linecolor": "white",
                 "minorgridcolor": "white",
                 "startlinecolor": "#2a3f5f"
                },
                "type": "carpet"
               }
              ],
              "choropleth": [
               {
                "colorbar": {
                 "outlinewidth": 0,
                 "ticks": ""
                },
                "type": "choropleth"
               }
              ],
              "contour": [
               {
                "colorbar": {
                 "outlinewidth": 0,
                 "ticks": ""
                },
                "colorscale": [
                 [
                  0,
                  "#0d0887"
                 ],
                 [
                  0.1111111111111111,
                  "#46039f"
                 ],
                 [
                  0.2222222222222222,
                  "#7201a8"
                 ],
                 [
                  0.3333333333333333,
                  "#9c179e"
                 ],
                 [
                  0.4444444444444444,
                  "#bd3786"
                 ],
                 [
                  0.5555555555555556,
                  "#d8576b"
                 ],
                 [
                  0.6666666666666666,
                  "#ed7953"
                 ],
                 [
                  0.7777777777777778,
                  "#fb9f3a"
                 ],
                 [
                  0.8888888888888888,
                  "#fdca26"
                 ],
                 [
                  1,
                  "#f0f921"
                 ]
                ],
                "type": "contour"
               }
              ],
              "contourcarpet": [
               {
                "colorbar": {
                 "outlinewidth": 0,
                 "ticks": ""
                },
                "type": "contourcarpet"
               }
              ],
              "heatmap": [
               {
                "colorbar": {
                 "outlinewidth": 0,
                 "ticks": ""
                },
                "colorscale": [
                 [
                  0,
                  "#0d0887"
                 ],
                 [
                  0.1111111111111111,
                  "#46039f"
                 ],
                 [
                  0.2222222222222222,
                  "#7201a8"
                 ],
                 [
                  0.3333333333333333,
                  "#9c179e"
                 ],
                 [
                  0.4444444444444444,
                  "#bd3786"
                 ],
                 [
                  0.5555555555555556,
                  "#d8576b"
                 ],
                 [
                  0.6666666666666666,
                  "#ed7953"
                 ],
                 [
                  0.7777777777777778,
                  "#fb9f3a"
                 ],
                 [
                  0.8888888888888888,
                  "#fdca26"
                 ],
                 [
                  1,
                  "#f0f921"
                 ]
                ],
                "type": "heatmap"
               }
              ],
              "heatmapgl": [
               {
                "colorbar": {
                 "outlinewidth": 0,
                 "ticks": ""
                },
                "colorscale": [
                 [
                  0,
                  "#0d0887"
                 ],
                 [
                  0.1111111111111111,
                  "#46039f"
                 ],
                 [
                  0.2222222222222222,
                  "#7201a8"
                 ],
                 [
                  0.3333333333333333,
                  "#9c179e"
                 ],
                 [
                  0.4444444444444444,
                  "#bd3786"
                 ],
                 [
                  0.5555555555555556,
                  "#d8576b"
                 ],
                 [
                  0.6666666666666666,
                  "#ed7953"
                 ],
                 [
                  0.7777777777777778,
                  "#fb9f3a"
                 ],
                 [
                  0.8888888888888888,
                  "#fdca26"
                 ],
                 [
                  1,
                  "#f0f921"
                 ]
                ],
                "type": "heatmapgl"
               }
              ],
              "histogram": [
               {
                "marker": {
                 "colorbar": {
                  "outlinewidth": 0,
                  "ticks": ""
                 }
                },
                "type": "histogram"
               }
              ],
              "histogram2d": [
               {
                "colorbar": {
                 "outlinewidth": 0,
                 "ticks": ""
                },
                "colorscale": [
                 [
                  0,
                  "#0d0887"
                 ],
                 [
                  0.1111111111111111,
                  "#46039f"
                 ],
                 [
                  0.2222222222222222,
                  "#7201a8"
                 ],
                 [
                  0.3333333333333333,
                  "#9c179e"
                 ],
                 [
                  0.4444444444444444,
                  "#bd3786"
                 ],
                 [
                  0.5555555555555556,
                  "#d8576b"
                 ],
                 [
                  0.6666666666666666,
                  "#ed7953"
                 ],
                 [
                  0.7777777777777778,
                  "#fb9f3a"
                 ],
                 [
                  0.8888888888888888,
                  "#fdca26"
                 ],
                 [
                  1,
                  "#f0f921"
                 ]
                ],
                "type": "histogram2d"
               }
              ],
              "histogram2dcontour": [
               {
                "colorbar": {
                 "outlinewidth": 0,
                 "ticks": ""
                },
                "colorscale": [
                 [
                  0,
                  "#0d0887"
                 ],
                 [
                  0.1111111111111111,
                  "#46039f"
                 ],
                 [
                  0.2222222222222222,
                  "#7201a8"
                 ],
                 [
                  0.3333333333333333,
                  "#9c179e"
                 ],
                 [
                  0.4444444444444444,
                  "#bd3786"
                 ],
                 [
                  0.5555555555555556,
                  "#d8576b"
                 ],
                 [
                  0.6666666666666666,
                  "#ed7953"
                 ],
                 [
                  0.7777777777777778,
                  "#fb9f3a"
                 ],
                 [
                  0.8888888888888888,
                  "#fdca26"
                 ],
                 [
                  1,
                  "#f0f921"
                 ]
                ],
                "type": "histogram2dcontour"
               }
              ],
              "mesh3d": [
               {
                "colorbar": {
                 "outlinewidth": 0,
                 "ticks": ""
                },
                "type": "mesh3d"
               }
              ],
              "parcoords": [
               {
                "line": {
                 "colorbar": {
                  "outlinewidth": 0,
                  "ticks": ""
                 }
                },
                "type": "parcoords"
               }
              ],
              "pie": [
               {
                "automargin": true,
                "type": "pie"
               }
              ],
              "scatter": [
               {
                "marker": {
                 "colorbar": {
                  "outlinewidth": 0,
                  "ticks": ""
                 }
                },
                "type": "scatter"
               }
              ],
              "scatter3d": [
               {
                "line": {
                 "colorbar": {
                  "outlinewidth": 0,
                  "ticks": ""
                 }
                },
                "marker": {
                 "colorbar": {
                  "outlinewidth": 0,
                  "ticks": ""
                 }
                },
                "type": "scatter3d"
               }
              ],
              "scattercarpet": [
               {
                "marker": {
                 "colorbar": {
                  "outlinewidth": 0,
                  "ticks": ""
                 }
                },
                "type": "scattercarpet"
               }
              ],
              "scattergeo": [
               {
                "marker": {
                 "colorbar": {
                  "outlinewidth": 0,
                  "ticks": ""
                 }
                },
                "type": "scattergeo"
               }
              ],
              "scattergl": [
               {
                "marker": {
                 "colorbar": {
                  "outlinewidth": 0,
                  "ticks": ""
                 }
                },
                "type": "scattergl"
               }
              ],
              "scattermapbox": [
               {
                "marker": {
                 "colorbar": {
                  "outlinewidth": 0,
                  "ticks": ""
                 }
                },
                "type": "scattermapbox"
               }
              ],
              "scatterpolar": [
               {
                "marker": {
                 "colorbar": {
                  "outlinewidth": 0,
                  "ticks": ""
                 }
                },
                "type": "scatterpolar"
               }
              ],
              "scatterpolargl": [
               {
                "marker": {
                 "colorbar": {
                  "outlinewidth": 0,
                  "ticks": ""
                 }
                },
                "type": "scatterpolargl"
               }
              ],
              "scatterternary": [
               {
                "marker": {
                 "colorbar": {
                  "outlinewidth": 0,
                  "ticks": ""
                 }
                },
                "type": "scatterternary"
               }
              ],
              "surface": [
               {
                "colorbar": {
                 "outlinewidth": 0,
                 "ticks": ""
                },
                "colorscale": [
                 [
                  0,
                  "#0d0887"
                 ],
                 [
                  0.1111111111111111,
                  "#46039f"
                 ],
                 [
                  0.2222222222222222,
                  "#7201a8"
                 ],
                 [
                  0.3333333333333333,
                  "#9c179e"
                 ],
                 [
                  0.4444444444444444,
                  "#bd3786"
                 ],
                 [
                  0.5555555555555556,
                  "#d8576b"
                 ],
                 [
                  0.6666666666666666,
                  "#ed7953"
                 ],
                 [
                  0.7777777777777778,
                  "#fb9f3a"
                 ],
                 [
                  0.8888888888888888,
                  "#fdca26"
                 ],
                 [
                  1,
                  "#f0f921"
                 ]
                ],
                "type": "surface"
               }
              ],
              "table": [
               {
                "cells": {
                 "fill": {
                  "color": "#EBF0F8"
                 },
                 "line": {
                  "color": "white"
                 }
                },
                "header": {
                 "fill": {
                  "color": "#C8D4E3"
                 },
                 "line": {
                  "color": "white"
                 }
                },
                "type": "table"
               }
              ]
             },
             "layout": {
              "annotationdefaults": {
               "arrowcolor": "#2a3f5f",
               "arrowhead": 0,
               "arrowwidth": 1
              },
              "coloraxis": {
               "colorbar": {
                "outlinewidth": 0,
                "ticks": ""
               }
              },
              "colorscale": {
               "diverging": [
                [
                 0,
                 "#8e0152"
                ],
                [
                 0.1,
                 "#c51b7d"
                ],
                [
                 0.2,
                 "#de77ae"
                ],
                [
                 0.3,
                 "#f1b6da"
                ],
                [
                 0.4,
                 "#fde0ef"
                ],
                [
                 0.5,
                 "#f7f7f7"
                ],
                [
                 0.6,
                 "#e6f5d0"
                ],
                [
                 0.7,
                 "#b8e186"
                ],
                [
                 0.8,
                 "#7fbc41"
                ],
                [
                 0.9,
                 "#4d9221"
                ],
                [
                 1,
                 "#276419"
                ]
               ],
               "sequential": [
                [
                 0,
                 "#0d0887"
                ],
                [
                 0.1111111111111111,
                 "#46039f"
                ],
                [
                 0.2222222222222222,
                 "#7201a8"
                ],
                [
                 0.3333333333333333,
                 "#9c179e"
                ],
                [
                 0.4444444444444444,
                 "#bd3786"
                ],
                [
                 0.5555555555555556,
                 "#d8576b"
                ],
                [
                 0.6666666666666666,
                 "#ed7953"
                ],
                [
                 0.7777777777777778,
                 "#fb9f3a"
                ],
                [
                 0.8888888888888888,
                 "#fdca26"
                ],
                [
                 1,
                 "#f0f921"
                ]
               ],
               "sequentialminus": [
                [
                 0,
                 "#0d0887"
                ],
                [
                 0.1111111111111111,
                 "#46039f"
                ],
                [
                 0.2222222222222222,
                 "#7201a8"
                ],
                [
                 0.3333333333333333,
                 "#9c179e"
                ],
                [
                 0.4444444444444444,
                 "#bd3786"
                ],
                [
                 0.5555555555555556,
                 "#d8576b"
                ],
                [
                 0.6666666666666666,
                 "#ed7953"
                ],
                [
                 0.7777777777777778,
                 "#fb9f3a"
                ],
                [
                 0.8888888888888888,
                 "#fdca26"
                ],
                [
                 1,
                 "#f0f921"
                ]
               ]
              },
              "colorway": [
               "#636efa",
               "#EF553B",
               "#00cc96",
               "#ab63fa",
               "#FFA15A",
               "#19d3f3",
               "#FF6692",
               "#B6E880",
               "#FF97FF",
               "#FECB52"
              ],
              "font": {
               "color": "#2a3f5f"
              },
              "geo": {
               "bgcolor": "white",
               "lakecolor": "white",
               "landcolor": "#E5ECF6",
               "showlakes": true,
               "showland": true,
               "subunitcolor": "white"
              },
              "hoverlabel": {
               "align": "left"
              },
              "hovermode": "closest",
              "mapbox": {
               "style": "light"
              },
              "paper_bgcolor": "white",
              "plot_bgcolor": "#E5ECF6",
              "polar": {
               "angularaxis": {
                "gridcolor": "white",
                "linecolor": "white",
                "ticks": ""
               },
               "bgcolor": "#E5ECF6",
               "radialaxis": {
                "gridcolor": "white",
                "linecolor": "white",
                "ticks": ""
               }
              },
              "scene": {
               "xaxis": {
                "backgroundcolor": "#E5ECF6",
                "gridcolor": "white",
                "gridwidth": 2,
                "linecolor": "white",
                "showbackground": true,
                "ticks": "",
                "zerolinecolor": "white"
               },
               "yaxis": {
                "backgroundcolor": "#E5ECF6",
                "gridcolor": "white",
                "gridwidth": 2,
                "linecolor": "white",
                "showbackground": true,
                "ticks": "",
                "zerolinecolor": "white"
               },
               "zaxis": {
                "backgroundcolor": "#E5ECF6",
                "gridcolor": "white",
                "gridwidth": 2,
                "linecolor": "white",
                "showbackground": true,
                "ticks": "",
                "zerolinecolor": "white"
               }
              },
              "shapedefaults": {
               "line": {
                "color": "#2a3f5f"
               }
              },
              "ternary": {
               "aaxis": {
                "gridcolor": "white",
                "linecolor": "white",
                "ticks": ""
               },
               "baxis": {
                "gridcolor": "white",
                "linecolor": "white",
                "ticks": ""
               },
               "bgcolor": "#E5ECF6",
               "caxis": {
                "gridcolor": "white",
                "linecolor": "white",
                "ticks": ""
               }
              },
              "title": {
               "x": 0.05
              },
              "xaxis": {
               "automargin": true,
               "gridcolor": "white",
               "linecolor": "white",
               "ticks": "",
               "title": {
                "standoff": 15
               },
               "zerolinecolor": "white",
               "zerolinewidth": 2
              },
              "yaxis": {
               "automargin": true,
               "gridcolor": "white",
               "linecolor": "white",
               "ticks": "",
               "title": {
                "standoff": 15
               },
               "zerolinecolor": "white",
               "zerolinewidth": 2
              }
             }
            },
            "title": {
             "font": {
              "color": "#4D5663"
             },
             "text": "Topic 3: Top 100 bigrams after removing stop words"
            },
            "xaxis": {
             "gridcolor": "#E1E5ED",
             "linecolor": "black",
             "showgrid": true,
             "tickfont": {
              "color": "#4D5663"
             },
             "title": {
              "font": {
               "color": "#4D5663"
              },
              "text": ""
             },
             "zerolinecolor": "#E1E5ED"
            },
            "yaxis": {
             "gridcolor": "#E1E5ED",
             "linecolor": "black",
             "showgrid": true,
             "tickfont": {
              "color": "#4D5663"
             },
             "title": {
              "font": {
               "color": "#4D5663"
              },
              "text": "Count"
             },
             "zerolinecolor": "#E1E5ED"
            }
           }
          },
          "text/html": "<div>\n        \n        \n            <div id=\"35eb5c21-06d4-46a5-a219-ad3a7e64fe2b\" class=\"plotly-graph-div\" style=\"height:525px; width:100%;\"></div>\n            <script type=\"text/javascript\">\n                require([\"plotly\"], function(Plotly) {\n                    window.PLOTLYENV=window.PLOTLYENV || {};\n                    window.PLOTLYENV.BASE_URL='https://plot.ly';\n                    \n                if (document.getElementById(\"35eb5c21-06d4-46a5-a219-ad3a7e64fe2b\")) {\n                    Plotly.newPlot(\n                        '35eb5c21-06d4-46a5-a219-ad3a7e64fe2b',\n                        [{\"marker\": {\"color\": \"rgba(255, 153, 51, 0.6)\", \"line\": {\"color\": \"rgba(255, 153, 51, 1.0)\", \"width\": 1}}, \"name\": \"count\", \"orientation\": \"v\", \"text\": \"\", \"type\": \"bar\", \"x\": [\"outdoor pool\", \"pool bar\", \"stay night\", \"great variety\", \"go back\", \"first time\", \"lunch dinner\", \"night stay\", \"business trip\", \"staff friendly\", \"excellent service\", \"make sure\", \"next time\", \"pool area\", \"worth visit\", \"stay business\", \"business lunch\", \"late night\", \"morning breakfast\", \"staff excellent\", \"extra charge\", \"little old\", \"little bit\", \"well decorate\", \"flight cancel\", \"swim pool\", \"indoor pool\", \"friendly helpful\", \"include price\", \"friendly staff\", \"high quality\", \"bit pricey\", \"next day\", \"many time\", \"great time\", \"different salad\", \"spa area\", \"really like\", \"place stay\", \"soft drink\", \"day breakfast\", \"old fashion\", \"several different\", \"stay well\", \"buffet option\", \"complimentary drink\", \"cost euros\", \"book night\", \"change glass\", \"couple day\", \"go wife\", \"great atmosphere\", \"fresh fruit\", \"fan buffet\", \"buffet choose\", \"dessert include\", \"buffet rich\", \"buffet excellent\", \"buffet great\", \"entree dish\", \"buffet make\", \"enjoy great\", \"easy find\", \"drink also\", \"great place\", \"let know\", \"great value\", \"stay service\", \"really worth\", \"reasonable price\", \"right get\", \"salad meat\", \"service excellent\", \"staff keep\", \"summer time\", \"helpful polite\", \"think dessert\", \"try different\", \"variety choice\", \"variety salad\", \"want change\", \"want pay\", \"quality taste\", \"price friendly\", \"place go\", \"minute_walk away\", \"meat fish\", \"many option\", \"lunch salad\", \"lunch buffet\", \"local speciality\", \"like change\", \"late lunch\", \"large varaiety\", \"large clean\", \"indoor outdoor\", \"huge variety\", \"hot dish\", \"highly recomende\", \"always great\"], \"y\": [6, 6, 6, 5, 5, 5, 5, 5, 5, 4, 4, 4, 4, 4, 4, 4, 3, 3, 3, 3, 3, 3, 3, 3, 3, 3, 3, 3, 3, 3, 3, 3, 3, 3, 3, 3, 3, 3, 3, 3, 3, 3, 3, 3, 2, 2, 2, 2, 2, 2, 2, 2, 2, 2, 2, 2, 2, 2, 2, 2, 2, 2, 2, 2, 2, 2, 2, 2, 2, 2, 2, 2, 2, 2, 2, 2, 2, 2, 2, 2, 2, 2, 2, 2, 2, 2, 2, 2, 2, 2, 2, 2, 2, 2, 2, 2, 2, 2, 2, 2]}],\n                        {\"legend\": {\"bgcolor\": \"#F5F6F9\", \"font\": {\"color\": \"#4D5663\"}}, \"paper_bgcolor\": \"#F5F6F9\", \"plot_bgcolor\": \"#F5F6F9\", \"template\": {\"data\": {\"bar\": [{\"error_x\": {\"color\": \"#2a3f5f\"}, \"error_y\": {\"color\": \"#2a3f5f\"}, \"marker\": {\"line\": {\"color\": \"#E5ECF6\", \"width\": 0.5}}, \"type\": \"bar\"}], \"barpolar\": [{\"marker\": {\"line\": {\"color\": \"#E5ECF6\", \"width\": 0.5}}, \"type\": \"barpolar\"}], \"carpet\": [{\"aaxis\": {\"endlinecolor\": \"#2a3f5f\", \"gridcolor\": \"white\", \"linecolor\": \"white\", \"minorgridcolor\": \"white\", \"startlinecolor\": \"#2a3f5f\"}, \"baxis\": {\"endlinecolor\": \"#2a3f5f\", \"gridcolor\": \"white\", \"linecolor\": \"white\", \"minorgridcolor\": \"white\", \"startlinecolor\": \"#2a3f5f\"}, \"type\": \"carpet\"}], \"choropleth\": [{\"colorbar\": {\"outlinewidth\": 0, \"ticks\": \"\"}, \"type\": \"choropleth\"}], \"contour\": [{\"colorbar\": {\"outlinewidth\": 0, \"ticks\": \"\"}, \"colorscale\": [[0.0, \"#0d0887\"], [0.1111111111111111, \"#46039f\"], [0.2222222222222222, \"#7201a8\"], [0.3333333333333333, \"#9c179e\"], [0.4444444444444444, \"#bd3786\"], [0.5555555555555556, \"#d8576b\"], [0.6666666666666666, \"#ed7953\"], [0.7777777777777778, \"#fb9f3a\"], [0.8888888888888888, \"#fdca26\"], [1.0, \"#f0f921\"]], \"type\": \"contour\"}], \"contourcarpet\": [{\"colorbar\": {\"outlinewidth\": 0, \"ticks\": \"\"}, \"type\": \"contourcarpet\"}], \"heatmap\": [{\"colorbar\": {\"outlinewidth\": 0, \"ticks\": \"\"}, \"colorscale\": [[0.0, \"#0d0887\"], [0.1111111111111111, \"#46039f\"], [0.2222222222222222, \"#7201a8\"], [0.3333333333333333, \"#9c179e\"], [0.4444444444444444, \"#bd3786\"], [0.5555555555555556, \"#d8576b\"], [0.6666666666666666, \"#ed7953\"], [0.7777777777777778, \"#fb9f3a\"], [0.8888888888888888, \"#fdca26\"], [1.0, \"#f0f921\"]], \"type\": \"heatmap\"}], \"heatmapgl\": [{\"colorbar\": {\"outlinewidth\": 0, \"ticks\": \"\"}, \"colorscale\": [[0.0, \"#0d0887\"], [0.1111111111111111, \"#46039f\"], [0.2222222222222222, \"#7201a8\"], [0.3333333333333333, \"#9c179e\"], [0.4444444444444444, \"#bd3786\"], [0.5555555555555556, \"#d8576b\"], [0.6666666666666666, \"#ed7953\"], [0.7777777777777778, \"#fb9f3a\"], [0.8888888888888888, \"#fdca26\"], [1.0, \"#f0f921\"]], \"type\": \"heatmapgl\"}], \"histogram\": [{\"marker\": {\"colorbar\": {\"outlinewidth\": 0, \"ticks\": \"\"}}, \"type\": \"histogram\"}], \"histogram2d\": [{\"colorbar\": {\"outlinewidth\": 0, \"ticks\": \"\"}, \"colorscale\": [[0.0, \"#0d0887\"], [0.1111111111111111, \"#46039f\"], [0.2222222222222222, \"#7201a8\"], [0.3333333333333333, \"#9c179e\"], [0.4444444444444444, \"#bd3786\"], [0.5555555555555556, \"#d8576b\"], [0.6666666666666666, \"#ed7953\"], [0.7777777777777778, \"#fb9f3a\"], [0.8888888888888888, \"#fdca26\"], [1.0, \"#f0f921\"]], \"type\": \"histogram2d\"}], \"histogram2dcontour\": [{\"colorbar\": {\"outlinewidth\": 0, \"ticks\": \"\"}, \"colorscale\": [[0.0, \"#0d0887\"], [0.1111111111111111, \"#46039f\"], [0.2222222222222222, \"#7201a8\"], [0.3333333333333333, \"#9c179e\"], [0.4444444444444444, \"#bd3786\"], [0.5555555555555556, \"#d8576b\"], [0.6666666666666666, \"#ed7953\"], [0.7777777777777778, \"#fb9f3a\"], [0.8888888888888888, \"#fdca26\"], [1.0, \"#f0f921\"]], \"type\": \"histogram2dcontour\"}], \"mesh3d\": [{\"colorbar\": {\"outlinewidth\": 0, \"ticks\": \"\"}, \"type\": \"mesh3d\"}], \"parcoords\": [{\"line\": {\"colorbar\": {\"outlinewidth\": 0, \"ticks\": \"\"}}, \"type\": \"parcoords\"}], \"pie\": [{\"automargin\": true, \"type\": \"pie\"}], \"scatter\": [{\"marker\": {\"colorbar\": {\"outlinewidth\": 0, \"ticks\": \"\"}}, \"type\": \"scatter\"}], \"scatter3d\": [{\"line\": {\"colorbar\": {\"outlinewidth\": 0, \"ticks\": \"\"}}, \"marker\": {\"colorbar\": {\"outlinewidth\": 0, \"ticks\": \"\"}}, \"type\": \"scatter3d\"}], \"scattercarpet\": [{\"marker\": {\"colorbar\": {\"outlinewidth\": 0, \"ticks\": \"\"}}, \"type\": \"scattercarpet\"}], \"scattergeo\": [{\"marker\": {\"colorbar\": {\"outlinewidth\": 0, \"ticks\": \"\"}}, \"type\": \"scattergeo\"}], \"scattergl\": [{\"marker\": {\"colorbar\": {\"outlinewidth\": 0, \"ticks\": \"\"}}, \"type\": \"scattergl\"}], \"scattermapbox\": [{\"marker\": {\"colorbar\": {\"outlinewidth\": 0, \"ticks\": \"\"}}, \"type\": \"scattermapbox\"}], \"scatterpolar\": [{\"marker\": {\"colorbar\": {\"outlinewidth\": 0, \"ticks\": \"\"}}, \"type\": \"scatterpolar\"}], \"scatterpolargl\": [{\"marker\": {\"colorbar\": {\"outlinewidth\": 0, \"ticks\": \"\"}}, \"type\": \"scatterpolargl\"}], \"scatterternary\": [{\"marker\": {\"colorbar\": {\"outlinewidth\": 0, \"ticks\": \"\"}}, \"type\": \"scatterternary\"}], \"surface\": [{\"colorbar\": {\"outlinewidth\": 0, \"ticks\": \"\"}, \"colorscale\": [[0.0, \"#0d0887\"], [0.1111111111111111, \"#46039f\"], [0.2222222222222222, \"#7201a8\"], [0.3333333333333333, \"#9c179e\"], [0.4444444444444444, \"#bd3786\"], [0.5555555555555556, \"#d8576b\"], [0.6666666666666666, \"#ed7953\"], [0.7777777777777778, \"#fb9f3a\"], [0.8888888888888888, \"#fdca26\"], [1.0, \"#f0f921\"]], \"type\": \"surface\"}], \"table\": [{\"cells\": {\"fill\": {\"color\": \"#EBF0F8\"}, \"line\": {\"color\": \"white\"}}, \"header\": {\"fill\": {\"color\": \"#C8D4E3\"}, \"line\": {\"color\": \"white\"}}, \"type\": \"table\"}]}, \"layout\": {\"annotationdefaults\": {\"arrowcolor\": \"#2a3f5f\", \"arrowhead\": 0, \"arrowwidth\": 1}, \"coloraxis\": {\"colorbar\": {\"outlinewidth\": 0, \"ticks\": \"\"}}, \"colorscale\": {\"diverging\": [[0, \"#8e0152\"], [0.1, \"#c51b7d\"], [0.2, \"#de77ae\"], [0.3, \"#f1b6da\"], [0.4, \"#fde0ef\"], [0.5, \"#f7f7f7\"], [0.6, \"#e6f5d0\"], [0.7, \"#b8e186\"], [0.8, \"#7fbc41\"], [0.9, \"#4d9221\"], [1, \"#276419\"]], \"sequential\": [[0.0, \"#0d0887\"], [0.1111111111111111, \"#46039f\"], [0.2222222222222222, \"#7201a8\"], [0.3333333333333333, \"#9c179e\"], [0.4444444444444444, \"#bd3786\"], [0.5555555555555556, \"#d8576b\"], [0.6666666666666666, \"#ed7953\"], [0.7777777777777778, \"#fb9f3a\"], [0.8888888888888888, \"#fdca26\"], [1.0, \"#f0f921\"]], \"sequentialminus\": [[0.0, \"#0d0887\"], [0.1111111111111111, \"#46039f\"], [0.2222222222222222, \"#7201a8\"], [0.3333333333333333, \"#9c179e\"], [0.4444444444444444, \"#bd3786\"], [0.5555555555555556, \"#d8576b\"], [0.6666666666666666, \"#ed7953\"], [0.7777777777777778, \"#fb9f3a\"], [0.8888888888888888, \"#fdca26\"], [1.0, \"#f0f921\"]]}, \"colorway\": [\"#636efa\", \"#EF553B\", \"#00cc96\", \"#ab63fa\", \"#FFA15A\", \"#19d3f3\", \"#FF6692\", \"#B6E880\", \"#FF97FF\", \"#FECB52\"], \"font\": {\"color\": \"#2a3f5f\"}, \"geo\": {\"bgcolor\": \"white\", \"lakecolor\": \"white\", \"landcolor\": \"#E5ECF6\", \"showlakes\": true, \"showland\": true, \"subunitcolor\": \"white\"}, \"hoverlabel\": {\"align\": \"left\"}, \"hovermode\": \"closest\", \"mapbox\": {\"style\": \"light\"}, \"paper_bgcolor\": \"white\", \"plot_bgcolor\": \"#E5ECF6\", \"polar\": {\"angularaxis\": {\"gridcolor\": \"white\", \"linecolor\": \"white\", \"ticks\": \"\"}, \"bgcolor\": \"#E5ECF6\", \"radialaxis\": {\"gridcolor\": \"white\", \"linecolor\": \"white\", \"ticks\": \"\"}}, \"scene\": {\"xaxis\": {\"backgroundcolor\": \"#E5ECF6\", \"gridcolor\": \"white\", \"gridwidth\": 2, \"linecolor\": \"white\", \"showbackground\": true, \"ticks\": \"\", \"zerolinecolor\": \"white\"}, \"yaxis\": {\"backgroundcolor\": \"#E5ECF6\", \"gridcolor\": \"white\", \"gridwidth\": 2, \"linecolor\": \"white\", \"showbackground\": true, \"ticks\": \"\", \"zerolinecolor\": \"white\"}, \"zaxis\": {\"backgroundcolor\": \"#E5ECF6\", \"gridcolor\": \"white\", \"gridwidth\": 2, \"linecolor\": \"white\", \"showbackground\": true, \"ticks\": \"\", \"zerolinecolor\": \"white\"}}, \"shapedefaults\": {\"line\": {\"color\": \"#2a3f5f\"}}, \"ternary\": {\"aaxis\": {\"gridcolor\": \"white\", \"linecolor\": \"white\", \"ticks\": \"\"}, \"baxis\": {\"gridcolor\": \"white\", \"linecolor\": \"white\", \"ticks\": \"\"}, \"bgcolor\": \"#E5ECF6\", \"caxis\": {\"gridcolor\": \"white\", \"linecolor\": \"white\", \"ticks\": \"\"}}, \"title\": {\"x\": 0.05}, \"xaxis\": {\"automargin\": true, \"gridcolor\": \"white\", \"linecolor\": \"white\", \"ticks\": \"\", \"title\": {\"standoff\": 15}, \"zerolinecolor\": \"white\", \"zerolinewidth\": 2}, \"yaxis\": {\"automargin\": true, \"gridcolor\": \"white\", \"linecolor\": \"white\", \"ticks\": \"\", \"title\": {\"standoff\": 15}, \"zerolinecolor\": \"white\", \"zerolinewidth\": 2}}}, \"title\": {\"font\": {\"color\": \"#4D5663\"}, \"text\": \"Topic 3: Top 100 bigrams after removing stop words\"}, \"xaxis\": {\"gridcolor\": \"#E1E5ED\", \"linecolor\": \"black\", \"showgrid\": true, \"tickfont\": {\"color\": \"#4D5663\"}, \"title\": {\"font\": {\"color\": \"#4D5663\"}, \"text\": \"\"}, \"zerolinecolor\": \"#E1E5ED\"}, \"yaxis\": {\"gridcolor\": \"#E1E5ED\", \"linecolor\": \"black\", \"showgrid\": true, \"tickfont\": {\"color\": \"#4D5663\"}, \"title\": {\"font\": {\"color\": \"#4D5663\"}, \"text\": \"Count\"}, \"zerolinecolor\": \"#E1E5ED\"}},\n                        {\"showLink\": true, \"linkText\": \"Export to plot.ly\", \"plotlyServerURL\": \"https://plot.ly\", \"responsive\": true}\n                    ).then(function(){\n                            \nvar gd = document.getElementById('35eb5c21-06d4-46a5-a219-ad3a7e64fe2b');\nvar x = new MutationObserver(function (mutations, observer) {{\n        var display = window.getComputedStyle(gd).display;\n        if (!display || display === 'none') {{\n            console.log([gd, 'removed!']);\n            Plotly.purge(gd);\n            observer.disconnect();\n        }}\n}});\n\n// Listen for the removal of the full notebook cells\nvar notebookContainer = gd.closest('#notebook-container');\nif (notebookContainer) {{\n    x.observe(notebookContainer, {childList: true});\n}}\n\n// Listen for the clearing of the current output cell\nvar outputEl = gd.closest('.output');\nif (outputEl) {{\n    x.observe(outputEl, {childList: true});\n}}\n\n                        })\n                };\n                });\n            </script>\n        </div>"
         },
         "metadata": {},
         "output_type": "display_data"
        }
       ]
      }
     },
     "5e22a500410947d3a5b677dcf2f13a84": {
      "model_module": "@jupyter-widgets/base",
      "model_module_version": "1.2.0",
      "model_name": "LayoutModel",
      "state": {}
     },
     "5e3b8284655e4d1193d517ba382113c1": {
      "model_module": "@jupyter-widgets/base",
      "model_module_version": "1.2.0",
      "model_name": "LayoutModel",
      "state": {}
     },
     "5eb3637191734eec9f79620da58e5f29": {
      "model_module": "@jupyter-widgets/controls",
      "model_module_version": "1.5.0",
      "model_name": "ProgressStyleModel",
      "state": {
       "description_width": ""
      }
     },
     "5f1dad62fcbe45caac6444f661f27d10": {
      "model_module": "@jupyter-widgets/controls",
      "model_module_version": "1.5.0",
      "model_name": "ProgressStyleModel",
      "state": {
       "description_width": ""
      }
     },
     "62077375abdf48e28987780b10e7d2da": {
      "model_module": "@jupyter-widgets/controls",
      "model_module_version": "1.5.0",
      "model_name": "ProgressStyleModel",
      "state": {
       "description_width": ""
      }
     },
     "63382beeefa04a0a9a1169f1407a4c47": {
      "model_module": "@jupyter-widgets/controls",
      "model_module_version": "1.5.0",
      "model_name": "IntProgressModel",
      "state": {
       "description": "Processing: ",
       "layout": "IPY_MODEL_5e3b8284655e4d1193d517ba382113c1",
       "max": 48,
       "style": "IPY_MODEL_5eb3637191734eec9f79620da58e5f29",
       "value": 48
      }
     },
     "6581d7cb4d92419fbad67bffc7c275ab": {
      "model_module": "@jupyter-widgets/controls",
      "model_module_version": "1.5.0",
      "model_name": "IntProgressModel",
      "state": {
       "description": "Processing: ",
       "layout": "IPY_MODEL_9f4d9978372844b092eb142c012eb461",
       "max": 48,
       "style": "IPY_MODEL_ed35519ca52f4fd795e8c6cce2a7e233",
       "value": 48
      }
     },
     "66a25303bbe84b82b97f0a28a1667233": {
      "model_module": "@jupyter-widgets/base",
      "model_module_version": "1.2.0",
      "model_name": "LayoutModel",
      "state": {}
     },
     "68f776c0ee6042a2808649742f4bac2b": {
      "model_module": "@jupyter-widgets/controls",
      "model_module_version": "1.5.0",
      "model_name": "IntProgressModel",
      "state": {
       "description": "Processing: ",
       "layout": "IPY_MODEL_96f8fd9dded14f198991a160b4ce8f0e",
       "max": 48,
       "style": "IPY_MODEL_9c4378f7d73c44c79a71e9357098d2d3",
       "value": 48
      }
     },
     "69bb7f060370468ab969885a393bc713": {
      "model_module": "@jupyter-widgets/controls",
      "model_module_version": "1.5.0",
      "model_name": "DropdownModel",
      "state": {
       "_options_labels": [
        "Topic 0",
        "Topic 1",
        "Topic 2",
        "Topic 3",
        "Topic 4",
        "Topic 5",
        "Topic 6",
        "Topic 7",
        "Topic 8",
        "Topic 9"
       ],
       "description": "Topic #:",
       "index": 9,
       "layout": "IPY_MODEL_d2aabbfda6494143b42c40dc46625599",
       "style": "IPY_MODEL_d03d1c65475a46e7b028e243ac822384"
      }
     },
     "6b283543764646a9ae26e0b933fba321": {
      "model_module": "@jupyter-widgets/controls",
      "model_module_version": "1.5.0",
      "model_name": "ProgressStyleModel",
      "state": {
       "description_width": ""
      }
     },
     "6eca3fee38aa49eaa15618e2c784e7ef": {
      "model_module": "@jupyter-widgets/controls",
      "model_module_version": "1.5.0",
      "model_name": "ProgressStyleModel",
      "state": {
       "description_width": ""
      }
     },
     "704ea141a5074eaa83f67d44f98d2c0b": {
      "model_module": "@jupyter-widgets/controls",
      "model_module_version": "1.5.0",
      "model_name": "ToggleButtonsStyleModel",
      "state": {
       "button_width": "",
       "description_width": ""
      }
     },
     "70815f0b5b404c93be39bdaaca26b098": {
      "model_module": "@jupyter-widgets/controls",
      "model_module_version": "1.5.0",
      "model_name": "IntProgressModel",
      "state": {
       "description": "Processing: ",
       "layout": "IPY_MODEL_31b3baafeb774a7cbac7db870aa9dd74",
       "max": 11,
       "style": "IPY_MODEL_c94240c41acb4685a37cdf7f48cfe378",
       "value": 11
      }
     },
     "70a28876caf14ca4a0c5f7a06e67284a": {
      "model_module": "@jupyter-widgets/base",
      "model_module_version": "1.2.0",
      "model_name": "LayoutModel",
      "state": {}
     },
     "70c00a1bfdac47bab63eb7884d8f47ba": {
      "model_module": "@jupyter-widgets/controls",
      "model_module_version": "1.5.0",
      "model_name": "ProgressStyleModel",
      "state": {
       "description_width": ""
      }
     },
     "745fc4e908784fe492b489c290b04246": {
      "model_module": "@jupyter-widgets/base",
      "model_module_version": "1.2.0",
      "model_name": "LayoutModel",
      "state": {}
     },
     "7523194a671343439ee041b30daed4b8": {
      "model_module": "@jupyter-widgets/controls",
      "model_module_version": "1.5.0",
      "model_name": "IntProgressModel",
      "state": {
       "description": "Processing: ",
       "layout": "IPY_MODEL_53158dec7f594db998d1d3c997266e28",
       "max": 4,
       "style": "IPY_MODEL_45a586cfd60944c28a4a5cb8dfe23639",
       "value": 4
      }
     },
     "763db75e3ecf42a391036ae7cc84eedf": {
      "model_module": "@jupyter-widgets/controls",
      "model_module_version": "1.5.0",
      "model_name": "IntProgressModel",
      "state": {
       "description": "Processing: ",
       "layout": "IPY_MODEL_4b6faed7bfb248248bf88f723cafb57e",
       "max": 48,
       "style": "IPY_MODEL_d1fccbfe4ee44d3e966860acc4854a60",
       "value": 48
      }
     },
     "7a1376c322984f3dba0280748cca767c": {
      "model_module": "@jupyter-widgets/base",
      "model_module_version": "1.2.0",
      "model_name": "LayoutModel",
      "state": {}
     },
     "7b0513ed1df24cb6ac19ec71eebd739b": {
      "model_module": "@jupyter-widgets/base",
      "model_module_version": "1.2.0",
      "model_name": "LayoutModel",
      "state": {}
     },
     "7b0e6a4e2dfd48e390c41694374a5825": {
      "model_module": "@jupyter-widgets/controls",
      "model_module_version": "1.5.0",
      "model_name": "VBoxModel",
      "state": {
       "_dom_classes": [
        "widget-interact"
       ],
       "children": [
        "IPY_MODEL_b7ee6a23727d4f128a27c5424cfa14bd",
        "IPY_MODEL_23ed8d269a2b44afaef219e7a53bc0a6",
        "IPY_MODEL_ac0b46a532c142189c00dd3359f6d926",
        "IPY_MODEL_5be6d5098d9f467098ed1693d37e32b2"
       ],
       "layout": "IPY_MODEL_331b048b024f45e780b69e099540ecf6"
      }
     },
     "7b5a5643220a48888c4c3b6f73df3a63": {
      "model_module": "@jupyter-widgets/controls",
      "model_module_version": "1.5.0",
      "model_name": "IntProgressModel",
      "state": {
       "description": "Processing: ",
       "layout": "IPY_MODEL_7fb3d2a1a8404f7497fb26679cf4166d",
       "max": 870,
       "style": "IPY_MODEL_cf980fd03b41494883574b8be5f315d9",
       "value": 870
      }
     },
     "7f76dc59fe0f4871a34e98099e7bf624": {
      "model_module": "@jupyter-widgets/controls",
      "model_module_version": "1.5.0",
      "model_name": "ProgressStyleModel",
      "state": {
       "description_width": ""
      }
     },
     "7fb3d2a1a8404f7497fb26679cf4166d": {
      "model_module": "@jupyter-widgets/base",
      "model_module_version": "1.2.0",
      "model_name": "LayoutModel",
      "state": {}
     },
     "8003fd95dc824071acdbe35c3483e10b": {
      "model_module": "@jupyter-widgets/base",
      "model_module_version": "1.2.0",
      "model_name": "LayoutModel",
      "state": {}
     },
     "80183cf5fe844d7083166c3250f3fcaa": {
      "model_module": "@jupyter-widgets/base",
      "model_module_version": "1.2.0",
      "model_name": "LayoutModel",
      "state": {}
     },
     "801d09e6ba6a4c10b6e38212173591c2": {
      "model_module": "@jupyter-widgets/controls",
      "model_module_version": "1.5.0",
      "model_name": "IntProgressModel",
      "state": {
       "description": "Processing: ",
       "layout": "IPY_MODEL_b3b7e8dd4298442697da18f77b3df623",
       "max": 4,
       "style": "IPY_MODEL_ef3e23835aa14ee99e95326fc0ca375f",
       "value": 4
      }
     },
     "806b8881c83940ddbaa76483ffdc7f97": {
      "model_module": "@jupyter-widgets/controls",
      "model_module_version": "1.5.0",
      "model_name": "ToggleButtonsStyleModel",
      "state": {
       "button_width": "",
       "description_width": ""
      }
     },
     "84430717888d4c71a53354d53ab75469": {
      "model_module": "@jupyter-widgets/base",
      "model_module_version": "1.2.0",
      "model_name": "LayoutModel",
      "state": {}
     },
     "84fc731fdbef457a939c9ececba04239": {
      "model_module": "@jupyter-widgets/base",
      "model_module_version": "1.2.0",
      "model_name": "LayoutModel",
      "state": {}
     },
     "850b945cf1d84925b36b47b26dc721b1": {
      "model_module": "@jupyter-widgets/controls",
      "model_module_version": "1.5.0",
      "model_name": "IntProgressModel",
      "state": {
       "description": "Processing: ",
       "layout": "IPY_MODEL_1a44e97fbbe94591bf4aad7f63cc012a",
       "max": 870,
       "style": "IPY_MODEL_0f6c8ac6d1f846068fb9281665654538",
       "value": 870
      }
     },
     "8588d3da2aaf42249875a17f77c6efc7": {
      "model_module": "@jupyter-widgets/controls",
      "model_module_version": "1.5.0",
      "model_name": "ProgressStyleModel",
      "state": {
       "description_width": ""
      }
     },
     "86672c973c42441ebc1b07345926a549": {
      "model_module": "@jupyter-widgets/base",
      "model_module_version": "1.2.0",
      "model_name": "LayoutModel",
      "state": {}
     },
     "89b18157ae0c48089e0a9398fd4437f7": {
      "model_module": "@jupyter-widgets/controls",
      "model_module_version": "1.5.0",
      "model_name": "IntProgressModel",
      "state": {
       "description": "Processing: ",
       "layout": "IPY_MODEL_460c90df8cb44ac69590932b8b6e5074",
       "max": 48,
       "style": "IPY_MODEL_343289ca052f45dd9faadaefc9372136",
       "value": 48
      }
     },
     "8abccd2044f944c381d6a35591de0eac": {
      "model_module": "@jupyter-widgets/controls",
      "model_module_version": "1.5.0",
      "model_name": "VBoxModel",
      "state": {
       "_dom_classes": [
        "widget-interact"
       ],
       "children": [
        "IPY_MODEL_08aa6aa0ef6447a0bdc4244114ce3161",
        "IPY_MODEL_ea9cafbe17334322a6646de324d3464d",
        "IPY_MODEL_5971dcb9f6424a1cbf1c2014a1386b81",
        "IPY_MODEL_fbc08f74a0834df1ac913e55ca9f491b"
       ],
       "layout": "IPY_MODEL_2307265549e1422c90e209ab9fac75d9"
      }
     },
     "8b04a0dfd25a4ae8b9db2d90479cf22c": {
      "model_module": "@jupyter-widgets/base",
      "model_module_version": "1.2.0",
      "model_name": "LayoutModel",
      "state": {}
     },
     "8f1efb22dc584147b5cfa796e614d5e4": {
      "model_module": "@jupyter-widgets/controls",
      "model_module_version": "1.5.0",
      "model_name": "ProgressStyleModel",
      "state": {
       "description_width": ""
      }
     },
     "91384f83997a40989067f97b2a15c999": {
      "model_module": "@jupyter-widgets/controls",
      "model_module_version": "1.5.0",
      "model_name": "ProgressStyleModel",
      "state": {
       "description_width": ""
      }
     },
     "923076edcc1f4dd1ae098ee1879c5ad2": {
      "model_module": "@jupyter-widgets/controls",
      "model_module_version": "1.5.0",
      "model_name": "ProgressStyleModel",
      "state": {
       "description_width": ""
      }
     },
     "934bc2eb15ec404c9b98c481e126b7ac": {
      "model_module": "@jupyter-widgets/base",
      "model_module_version": "1.2.0",
      "model_name": "LayoutModel",
      "state": {}
     },
     "937c0719026c43d2b1b5d22fa0f42fb5": {
      "model_module": "@jupyter-widgets/output",
      "model_module_version": "1.0.0",
      "model_name": "OutputModel",
      "state": {
       "layout": "IPY_MODEL_e5f43c05ab66450d9111641e6985360b",
       "outputs": [
        {
         "data": {
          "text/html": "        <script type=\"text/javascript\">\n        window.PlotlyConfig = {MathJaxConfig: 'local'};\n        if (window.MathJax) {MathJax.Hub.Config({SVG: {font: \"STIX-Web\"}});}\n        if (typeof require !== 'undefined') {\n        require.undef(\"plotly\");\n        requirejs.config({\n            paths: {\n                'plotly': ['https://cdn.plot.ly/plotly-latest.min']\n            }\n        });\n        require(['plotly'], function(Plotly) {\n            window._Plotly = Plotly;\n        });\n        }\n        </script>\n        "
         },
         "metadata": {},
         "output_type": "display_data"
        },
        {
         "data": {
          "application/vnd.plotly.v1+json": {
           "config": {
            "linkText": "Export to plot.ly",
            "plotlyServerURL": "https://plot.ly",
            "showLink": true
           },
           "data": [
            {
             "marker": {
              "color": "rgba(255, 153, 51, 0.6)",
              "line": {
               "color": "rgba(255, 153, 51, 1.0)",
               "width": 1
              }
             },
             "name": "count",
             "orientation": "v",
             "text": "",
             "type": "bar",
             "x": [
              "include price",
              "breakfast breakfast",
              "pool look",
              "internet access",
              "price pay",
              "executive suite",
              "extra charge",
              "order breakfast",
              "breakfast selection",
              "business people",
              "general place",
              "full business",
              "impression cause",
              "however price",
              "honest lower",
              "hit shock",
              "expect many",
              "happen lobby",
              "fair location",
              "fill container",
              "go different",
              "fill plate",
              "finally fair",
              "find glass",
              "elevator breakfast",
              "friendly waiter",
              "glass complain",
              "euro mainly",
              "whole ambience",
              "eat bit",
              "due sale",
              "also offer",
              "ambience deadish",
              "apart staff",
              "average friendly",
              "bit pricey",
              "block elevator",
              "boring ago",
              "breakfast find",
              "breakfast less",
              "building block",
              "case extraordinary",
              "cause renovation",
              "complain much",
              "concierge parking",
              "container however",
              "convenient business",
              "dead boring",
              "deadish dead",
              "different building",
              "drink fill",
              "lobby notice",
              "less star",
              "want starve",
              "prime nicosianowaday",
              "promotion finally",
              "rate stay",
              "reception go",
              "relatively low",
              "renovation happen",
              "salad eat",
              "sale promotion",
              "shock sometimes",
              "sometimes pay",
              "special convenient",
              "special maybe",
              "staff polite",
              "star special",
              "star sure",
              "stay honest",
              "sure order",
              "think general",
              "value money",
              "visit overall",
              "waiter think",
              "pricey drink",
              "price hit",
              "polite whole",
              "much want",
              "location ideal",
              "low due",
              "lower expect",
              "mainly salad",
              "many star",
              "maybe impression",
              "money much",
              "much price",
              "much taste",
              "nicosianowaday special",
              "plate much",
              "notice concierge",
              "offer fill",
              "overall rate",
              "parking reception",
              "pay euro",
              "pay relatively",
              "people also",
              "people case",
              "place value",
              "ago prime"
             ],
             "y": [
              2,
              2,
              2,
              2,
              2,
              2,
              2,
              2,
              2,
              2,
              1,
              1,
              1,
              1,
              1,
              1,
              1,
              1,
              1,
              1,
              1,
              1,
              1,
              1,
              1,
              1,
              1,
              1,
              1,
              1,
              1,
              1,
              1,
              1,
              1,
              1,
              1,
              1,
              1,
              1,
              1,
              1,
              1,
              1,
              1,
              1,
              1,
              1,
              1,
              1,
              1,
              1,
              1,
              1,
              1,
              1,
              1,
              1,
              1,
              1,
              1,
              1,
              1,
              1,
              1,
              1,
              1,
              1,
              1,
              1,
              1,
              1,
              1,
              1,
              1,
              1,
              1,
              1,
              1,
              1,
              1,
              1,
              1,
              1,
              1,
              1,
              1,
              1,
              1,
              1,
              1,
              1,
              1,
              1,
              1,
              1,
              1,
              1,
              1,
              1
             ]
            }
           ],
           "layout": {
            "legend": {
             "bgcolor": "#F5F6F9",
             "font": {
              "color": "#4D5663"
             }
            },
            "paper_bgcolor": "#F5F6F9",
            "plot_bgcolor": "#F5F6F9",
            "template": {
             "data": {
              "bar": [
               {
                "error_x": {
                 "color": "#2a3f5f"
                },
                "error_y": {
                 "color": "#2a3f5f"
                },
                "marker": {
                 "line": {
                  "color": "#E5ECF6",
                  "width": 0.5
                 }
                },
                "type": "bar"
               }
              ],
              "barpolar": [
               {
                "marker": {
                 "line": {
                  "color": "#E5ECF6",
                  "width": 0.5
                 }
                },
                "type": "barpolar"
               }
              ],
              "carpet": [
               {
                "aaxis": {
                 "endlinecolor": "#2a3f5f",
                 "gridcolor": "white",
                 "linecolor": "white",
                 "minorgridcolor": "white",
                 "startlinecolor": "#2a3f5f"
                },
                "baxis": {
                 "endlinecolor": "#2a3f5f",
                 "gridcolor": "white",
                 "linecolor": "white",
                 "minorgridcolor": "white",
                 "startlinecolor": "#2a3f5f"
                },
                "type": "carpet"
               }
              ],
              "choropleth": [
               {
                "colorbar": {
                 "outlinewidth": 0,
                 "ticks": ""
                },
                "type": "choropleth"
               }
              ],
              "contour": [
               {
                "colorbar": {
                 "outlinewidth": 0,
                 "ticks": ""
                },
                "colorscale": [
                 [
                  0,
                  "#0d0887"
                 ],
                 [
                  0.1111111111111111,
                  "#46039f"
                 ],
                 [
                  0.2222222222222222,
                  "#7201a8"
                 ],
                 [
                  0.3333333333333333,
                  "#9c179e"
                 ],
                 [
                  0.4444444444444444,
                  "#bd3786"
                 ],
                 [
                  0.5555555555555556,
                  "#d8576b"
                 ],
                 [
                  0.6666666666666666,
                  "#ed7953"
                 ],
                 [
                  0.7777777777777778,
                  "#fb9f3a"
                 ],
                 [
                  0.8888888888888888,
                  "#fdca26"
                 ],
                 [
                  1,
                  "#f0f921"
                 ]
                ],
                "type": "contour"
               }
              ],
              "contourcarpet": [
               {
                "colorbar": {
                 "outlinewidth": 0,
                 "ticks": ""
                },
                "type": "contourcarpet"
               }
              ],
              "heatmap": [
               {
                "colorbar": {
                 "outlinewidth": 0,
                 "ticks": ""
                },
                "colorscale": [
                 [
                  0,
                  "#0d0887"
                 ],
                 [
                  0.1111111111111111,
                  "#46039f"
                 ],
                 [
                  0.2222222222222222,
                  "#7201a8"
                 ],
                 [
                  0.3333333333333333,
                  "#9c179e"
                 ],
                 [
                  0.4444444444444444,
                  "#bd3786"
                 ],
                 [
                  0.5555555555555556,
                  "#d8576b"
                 ],
                 [
                  0.6666666666666666,
                  "#ed7953"
                 ],
                 [
                  0.7777777777777778,
                  "#fb9f3a"
                 ],
                 [
                  0.8888888888888888,
                  "#fdca26"
                 ],
                 [
                  1,
                  "#f0f921"
                 ]
                ],
                "type": "heatmap"
               }
              ],
              "heatmapgl": [
               {
                "colorbar": {
                 "outlinewidth": 0,
                 "ticks": ""
                },
                "colorscale": [
                 [
                  0,
                  "#0d0887"
                 ],
                 [
                  0.1111111111111111,
                  "#46039f"
                 ],
                 [
                  0.2222222222222222,
                  "#7201a8"
                 ],
                 [
                  0.3333333333333333,
                  "#9c179e"
                 ],
                 [
                  0.4444444444444444,
                  "#bd3786"
                 ],
                 [
                  0.5555555555555556,
                  "#d8576b"
                 ],
                 [
                  0.6666666666666666,
                  "#ed7953"
                 ],
                 [
                  0.7777777777777778,
                  "#fb9f3a"
                 ],
                 [
                  0.8888888888888888,
                  "#fdca26"
                 ],
                 [
                  1,
                  "#f0f921"
                 ]
                ],
                "type": "heatmapgl"
               }
              ],
              "histogram": [
               {
                "marker": {
                 "colorbar": {
                  "outlinewidth": 0,
                  "ticks": ""
                 }
                },
                "type": "histogram"
               }
              ],
              "histogram2d": [
               {
                "colorbar": {
                 "outlinewidth": 0,
                 "ticks": ""
                },
                "colorscale": [
                 [
                  0,
                  "#0d0887"
                 ],
                 [
                  0.1111111111111111,
                  "#46039f"
                 ],
                 [
                  0.2222222222222222,
                  "#7201a8"
                 ],
                 [
                  0.3333333333333333,
                  "#9c179e"
                 ],
                 [
                  0.4444444444444444,
                  "#bd3786"
                 ],
                 [
                  0.5555555555555556,
                  "#d8576b"
                 ],
                 [
                  0.6666666666666666,
                  "#ed7953"
                 ],
                 [
                  0.7777777777777778,
                  "#fb9f3a"
                 ],
                 [
                  0.8888888888888888,
                  "#fdca26"
                 ],
                 [
                  1,
                  "#f0f921"
                 ]
                ],
                "type": "histogram2d"
               }
              ],
              "histogram2dcontour": [
               {
                "colorbar": {
                 "outlinewidth": 0,
                 "ticks": ""
                },
                "colorscale": [
                 [
                  0,
                  "#0d0887"
                 ],
                 [
                  0.1111111111111111,
                  "#46039f"
                 ],
                 [
                  0.2222222222222222,
                  "#7201a8"
                 ],
                 [
                  0.3333333333333333,
                  "#9c179e"
                 ],
                 [
                  0.4444444444444444,
                  "#bd3786"
                 ],
                 [
                  0.5555555555555556,
                  "#d8576b"
                 ],
                 [
                  0.6666666666666666,
                  "#ed7953"
                 ],
                 [
                  0.7777777777777778,
                  "#fb9f3a"
                 ],
                 [
                  0.8888888888888888,
                  "#fdca26"
                 ],
                 [
                  1,
                  "#f0f921"
                 ]
                ],
                "type": "histogram2dcontour"
               }
              ],
              "mesh3d": [
               {
                "colorbar": {
                 "outlinewidth": 0,
                 "ticks": ""
                },
                "type": "mesh3d"
               }
              ],
              "parcoords": [
               {
                "line": {
                 "colorbar": {
                  "outlinewidth": 0,
                  "ticks": ""
                 }
                },
                "type": "parcoords"
               }
              ],
              "pie": [
               {
                "automargin": true,
                "type": "pie"
               }
              ],
              "scatter": [
               {
                "marker": {
                 "colorbar": {
                  "outlinewidth": 0,
                  "ticks": ""
                 }
                },
                "type": "scatter"
               }
              ],
              "scatter3d": [
               {
                "line": {
                 "colorbar": {
                  "outlinewidth": 0,
                  "ticks": ""
                 }
                },
                "marker": {
                 "colorbar": {
                  "outlinewidth": 0,
                  "ticks": ""
                 }
                },
                "type": "scatter3d"
               }
              ],
              "scattercarpet": [
               {
                "marker": {
                 "colorbar": {
                  "outlinewidth": 0,
                  "ticks": ""
                 }
                },
                "type": "scattercarpet"
               }
              ],
              "scattergeo": [
               {
                "marker": {
                 "colorbar": {
                  "outlinewidth": 0,
                  "ticks": ""
                 }
                },
                "type": "scattergeo"
               }
              ],
              "scattergl": [
               {
                "marker": {
                 "colorbar": {
                  "outlinewidth": 0,
                  "ticks": ""
                 }
                },
                "type": "scattergl"
               }
              ],
              "scattermapbox": [
               {
                "marker": {
                 "colorbar": {
                  "outlinewidth": 0,
                  "ticks": ""
                 }
                },
                "type": "scattermapbox"
               }
              ],
              "scatterpolar": [
               {
                "marker": {
                 "colorbar": {
                  "outlinewidth": 0,
                  "ticks": ""
                 }
                },
                "type": "scatterpolar"
               }
              ],
              "scatterpolargl": [
               {
                "marker": {
                 "colorbar": {
                  "outlinewidth": 0,
                  "ticks": ""
                 }
                },
                "type": "scatterpolargl"
               }
              ],
              "scatterternary": [
               {
                "marker": {
                 "colorbar": {
                  "outlinewidth": 0,
                  "ticks": ""
                 }
                },
                "type": "scatterternary"
               }
              ],
              "surface": [
               {
                "colorbar": {
                 "outlinewidth": 0,
                 "ticks": ""
                },
                "colorscale": [
                 [
                  0,
                  "#0d0887"
                 ],
                 [
                  0.1111111111111111,
                  "#46039f"
                 ],
                 [
                  0.2222222222222222,
                  "#7201a8"
                 ],
                 [
                  0.3333333333333333,
                  "#9c179e"
                 ],
                 [
                  0.4444444444444444,
                  "#bd3786"
                 ],
                 [
                  0.5555555555555556,
                  "#d8576b"
                 ],
                 [
                  0.6666666666666666,
                  "#ed7953"
                 ],
                 [
                  0.7777777777777778,
                  "#fb9f3a"
                 ],
                 [
                  0.8888888888888888,
                  "#fdca26"
                 ],
                 [
                  1,
                  "#f0f921"
                 ]
                ],
                "type": "surface"
               }
              ],
              "table": [
               {
                "cells": {
                 "fill": {
                  "color": "#EBF0F8"
                 },
                 "line": {
                  "color": "white"
                 }
                },
                "header": {
                 "fill": {
                  "color": "#C8D4E3"
                 },
                 "line": {
                  "color": "white"
                 }
                },
                "type": "table"
               }
              ]
             },
             "layout": {
              "annotationdefaults": {
               "arrowcolor": "#2a3f5f",
               "arrowhead": 0,
               "arrowwidth": 1
              },
              "coloraxis": {
               "colorbar": {
                "outlinewidth": 0,
                "ticks": ""
               }
              },
              "colorscale": {
               "diverging": [
                [
                 0,
                 "#8e0152"
                ],
                [
                 0.1,
                 "#c51b7d"
                ],
                [
                 0.2,
                 "#de77ae"
                ],
                [
                 0.3,
                 "#f1b6da"
                ],
                [
                 0.4,
                 "#fde0ef"
                ],
                [
                 0.5,
                 "#f7f7f7"
                ],
                [
                 0.6,
                 "#e6f5d0"
                ],
                [
                 0.7,
                 "#b8e186"
                ],
                [
                 0.8,
                 "#7fbc41"
                ],
                [
                 0.9,
                 "#4d9221"
                ],
                [
                 1,
                 "#276419"
                ]
               ],
               "sequential": [
                [
                 0,
                 "#0d0887"
                ],
                [
                 0.1111111111111111,
                 "#46039f"
                ],
                [
                 0.2222222222222222,
                 "#7201a8"
                ],
                [
                 0.3333333333333333,
                 "#9c179e"
                ],
                [
                 0.4444444444444444,
                 "#bd3786"
                ],
                [
                 0.5555555555555556,
                 "#d8576b"
                ],
                [
                 0.6666666666666666,
                 "#ed7953"
                ],
                [
                 0.7777777777777778,
                 "#fb9f3a"
                ],
                [
                 0.8888888888888888,
                 "#fdca26"
                ],
                [
                 1,
                 "#f0f921"
                ]
               ],
               "sequentialminus": [
                [
                 0,
                 "#0d0887"
                ],
                [
                 0.1111111111111111,
                 "#46039f"
                ],
                [
                 0.2222222222222222,
                 "#7201a8"
                ],
                [
                 0.3333333333333333,
                 "#9c179e"
                ],
                [
                 0.4444444444444444,
                 "#bd3786"
                ],
                [
                 0.5555555555555556,
                 "#d8576b"
                ],
                [
                 0.6666666666666666,
                 "#ed7953"
                ],
                [
                 0.7777777777777778,
                 "#fb9f3a"
                ],
                [
                 0.8888888888888888,
                 "#fdca26"
                ],
                [
                 1,
                 "#f0f921"
                ]
               ]
              },
              "colorway": [
               "#636efa",
               "#EF553B",
               "#00cc96",
               "#ab63fa",
               "#FFA15A",
               "#19d3f3",
               "#FF6692",
               "#B6E880",
               "#FF97FF",
               "#FECB52"
              ],
              "font": {
               "color": "#2a3f5f"
              },
              "geo": {
               "bgcolor": "white",
               "lakecolor": "white",
               "landcolor": "#E5ECF6",
               "showlakes": true,
               "showland": true,
               "subunitcolor": "white"
              },
              "hoverlabel": {
               "align": "left"
              },
              "hovermode": "closest",
              "mapbox": {
               "style": "light"
              },
              "paper_bgcolor": "white",
              "plot_bgcolor": "#E5ECF6",
              "polar": {
               "angularaxis": {
                "gridcolor": "white",
                "linecolor": "white",
                "ticks": ""
               },
               "bgcolor": "#E5ECF6",
               "radialaxis": {
                "gridcolor": "white",
                "linecolor": "white",
                "ticks": ""
               }
              },
              "scene": {
               "xaxis": {
                "backgroundcolor": "#E5ECF6",
                "gridcolor": "white",
                "gridwidth": 2,
                "linecolor": "white",
                "showbackground": true,
                "ticks": "",
                "zerolinecolor": "white"
               },
               "yaxis": {
                "backgroundcolor": "#E5ECF6",
                "gridcolor": "white",
                "gridwidth": 2,
                "linecolor": "white",
                "showbackground": true,
                "ticks": "",
                "zerolinecolor": "white"
               },
               "zaxis": {
                "backgroundcolor": "#E5ECF6",
                "gridcolor": "white",
                "gridwidth": 2,
                "linecolor": "white",
                "showbackground": true,
                "ticks": "",
                "zerolinecolor": "white"
               }
              },
              "shapedefaults": {
               "line": {
                "color": "#2a3f5f"
               }
              },
              "ternary": {
               "aaxis": {
                "gridcolor": "white",
                "linecolor": "white",
                "ticks": ""
               },
               "baxis": {
                "gridcolor": "white",
                "linecolor": "white",
                "ticks": ""
               },
               "bgcolor": "#E5ECF6",
               "caxis": {
                "gridcolor": "white",
                "linecolor": "white",
                "ticks": ""
               }
              },
              "title": {
               "x": 0.05
              },
              "xaxis": {
               "automargin": true,
               "gridcolor": "white",
               "linecolor": "white",
               "ticks": "",
               "title": {
                "standoff": 15
               },
               "zerolinecolor": "white",
               "zerolinewidth": 2
              },
              "yaxis": {
               "automargin": true,
               "gridcolor": "white",
               "linecolor": "white",
               "ticks": "",
               "title": {
                "standoff": 15
               },
               "zerolinecolor": "white",
               "zerolinewidth": 2
              }
             }
            },
            "title": {
             "font": {
              "color": "#4D5663"
             },
             "text": "Topic 2: Top 100 bigrams after removing stop words"
            },
            "xaxis": {
             "gridcolor": "#E1E5ED",
             "linecolor": "black",
             "showgrid": true,
             "tickfont": {
              "color": "#4D5663"
             },
             "title": {
              "font": {
               "color": "#4D5663"
              },
              "text": ""
             },
             "zerolinecolor": "#E1E5ED"
            },
            "yaxis": {
             "gridcolor": "#E1E5ED",
             "linecolor": "black",
             "showgrid": true,
             "tickfont": {
              "color": "#4D5663"
             },
             "title": {
              "font": {
               "color": "#4D5663"
              },
              "text": "Count"
             },
             "zerolinecolor": "#E1E5ED"
            }
           }
          },
          "text/html": "<div>\n        \n        \n            <div id=\"329d6fa4-ba02-4ddf-9e32-2f808a27a483\" class=\"plotly-graph-div\" style=\"height:525px; width:100%;\"></div>\n            <script type=\"text/javascript\">\n                require([\"plotly\"], function(Plotly) {\n                    window.PLOTLYENV=window.PLOTLYENV || {};\n                    window.PLOTLYENV.BASE_URL='https://plot.ly';\n                    \n                if (document.getElementById(\"329d6fa4-ba02-4ddf-9e32-2f808a27a483\")) {\n                    Plotly.newPlot(\n                        '329d6fa4-ba02-4ddf-9e32-2f808a27a483',\n                        [{\"marker\": {\"color\": \"rgba(255, 153, 51, 0.6)\", \"line\": {\"color\": \"rgba(255, 153, 51, 1.0)\", \"width\": 1}}, \"name\": \"count\", \"orientation\": \"v\", \"text\": \"\", \"type\": \"bar\", \"x\": [\"include price\", \"breakfast breakfast\", \"pool look\", \"internet access\", \"price pay\", \"executive suite\", \"extra charge\", \"order breakfast\", \"breakfast selection\", \"business people\", \"general place\", \"full business\", \"impression cause\", \"however price\", \"honest lower\", \"hit shock\", \"expect many\", \"happen lobby\", \"fair location\", \"fill container\", \"go different\", \"fill plate\", \"finally fair\", \"find glass\", \"elevator breakfast\", \"friendly waiter\", \"glass complain\", \"euro mainly\", \"whole ambience\", \"eat bit\", \"due sale\", \"also offer\", \"ambience deadish\", \"apart staff\", \"average friendly\", \"bit pricey\", \"block elevator\", \"boring ago\", \"breakfast find\", \"breakfast less\", \"building block\", \"case extraordinary\", \"cause renovation\", \"complain much\", \"concierge parking\", \"container however\", \"convenient business\", \"dead boring\", \"deadish dead\", \"different building\", \"drink fill\", \"lobby notice\", \"less star\", \"want starve\", \"prime nicosianowaday\", \"promotion finally\", \"rate stay\", \"reception go\", \"relatively low\", \"renovation happen\", \"salad eat\", \"sale promotion\", \"shock sometimes\", \"sometimes pay\", \"special convenient\", \"special maybe\", \"staff polite\", \"star special\", \"star sure\", \"stay honest\", \"sure order\", \"think general\", \"value money\", \"visit overall\", \"waiter think\", \"pricey drink\", \"price hit\", \"polite whole\", \"much want\", \"location ideal\", \"low due\", \"lower expect\", \"mainly salad\", \"many star\", \"maybe impression\", \"money much\", \"much price\", \"much taste\", \"nicosianowaday special\", \"plate much\", \"notice concierge\", \"offer fill\", \"overall rate\", \"parking reception\", \"pay euro\", \"pay relatively\", \"people also\", \"people case\", \"place value\", \"ago prime\"], \"y\": [2, 2, 2, 2, 2, 2, 2, 2, 2, 2, 1, 1, 1, 1, 1, 1, 1, 1, 1, 1, 1, 1, 1, 1, 1, 1, 1, 1, 1, 1, 1, 1, 1, 1, 1, 1, 1, 1, 1, 1, 1, 1, 1, 1, 1, 1, 1, 1, 1, 1, 1, 1, 1, 1, 1, 1, 1, 1, 1, 1, 1, 1, 1, 1, 1, 1, 1, 1, 1, 1, 1, 1, 1, 1, 1, 1, 1, 1, 1, 1, 1, 1, 1, 1, 1, 1, 1, 1, 1, 1, 1, 1, 1, 1, 1, 1, 1, 1, 1, 1]}],\n                        {\"legend\": {\"bgcolor\": \"#F5F6F9\", \"font\": {\"color\": \"#4D5663\"}}, \"paper_bgcolor\": \"#F5F6F9\", \"plot_bgcolor\": \"#F5F6F9\", \"template\": {\"data\": {\"bar\": [{\"error_x\": {\"color\": \"#2a3f5f\"}, \"error_y\": {\"color\": \"#2a3f5f\"}, \"marker\": {\"line\": {\"color\": \"#E5ECF6\", \"width\": 0.5}}, \"type\": \"bar\"}], \"barpolar\": [{\"marker\": {\"line\": {\"color\": \"#E5ECF6\", \"width\": 0.5}}, \"type\": \"barpolar\"}], \"carpet\": [{\"aaxis\": {\"endlinecolor\": \"#2a3f5f\", \"gridcolor\": \"white\", \"linecolor\": \"white\", \"minorgridcolor\": \"white\", \"startlinecolor\": \"#2a3f5f\"}, \"baxis\": {\"endlinecolor\": \"#2a3f5f\", \"gridcolor\": \"white\", \"linecolor\": \"white\", \"minorgridcolor\": \"white\", \"startlinecolor\": \"#2a3f5f\"}, \"type\": \"carpet\"}], \"choropleth\": [{\"colorbar\": {\"outlinewidth\": 0, \"ticks\": \"\"}, \"type\": \"choropleth\"}], \"contour\": [{\"colorbar\": {\"outlinewidth\": 0, \"ticks\": \"\"}, \"colorscale\": [[0.0, \"#0d0887\"], [0.1111111111111111, \"#46039f\"], [0.2222222222222222, \"#7201a8\"], [0.3333333333333333, \"#9c179e\"], [0.4444444444444444, \"#bd3786\"], [0.5555555555555556, \"#d8576b\"], [0.6666666666666666, \"#ed7953\"], [0.7777777777777778, \"#fb9f3a\"], [0.8888888888888888, \"#fdca26\"], [1.0, \"#f0f921\"]], \"type\": \"contour\"}], \"contourcarpet\": [{\"colorbar\": {\"outlinewidth\": 0, \"ticks\": \"\"}, \"type\": \"contourcarpet\"}], \"heatmap\": [{\"colorbar\": {\"outlinewidth\": 0, \"ticks\": \"\"}, \"colorscale\": [[0.0, \"#0d0887\"], [0.1111111111111111, \"#46039f\"], [0.2222222222222222, \"#7201a8\"], [0.3333333333333333, \"#9c179e\"], [0.4444444444444444, \"#bd3786\"], [0.5555555555555556, \"#d8576b\"], [0.6666666666666666, \"#ed7953\"], [0.7777777777777778, \"#fb9f3a\"], [0.8888888888888888, \"#fdca26\"], [1.0, \"#f0f921\"]], \"type\": \"heatmap\"}], \"heatmapgl\": [{\"colorbar\": {\"outlinewidth\": 0, \"ticks\": \"\"}, \"colorscale\": [[0.0, \"#0d0887\"], [0.1111111111111111, \"#46039f\"], [0.2222222222222222, \"#7201a8\"], [0.3333333333333333, \"#9c179e\"], [0.4444444444444444, \"#bd3786\"], [0.5555555555555556, \"#d8576b\"], [0.6666666666666666, \"#ed7953\"], [0.7777777777777778, \"#fb9f3a\"], [0.8888888888888888, \"#fdca26\"], [1.0, \"#f0f921\"]], \"type\": \"heatmapgl\"}], \"histogram\": [{\"marker\": {\"colorbar\": {\"outlinewidth\": 0, \"ticks\": \"\"}}, \"type\": \"histogram\"}], \"histogram2d\": [{\"colorbar\": {\"outlinewidth\": 0, \"ticks\": \"\"}, \"colorscale\": [[0.0, \"#0d0887\"], [0.1111111111111111, \"#46039f\"], [0.2222222222222222, \"#7201a8\"], [0.3333333333333333, \"#9c179e\"], [0.4444444444444444, \"#bd3786\"], [0.5555555555555556, \"#d8576b\"], [0.6666666666666666, \"#ed7953\"], [0.7777777777777778, \"#fb9f3a\"], [0.8888888888888888, \"#fdca26\"], [1.0, \"#f0f921\"]], \"type\": \"histogram2d\"}], \"histogram2dcontour\": [{\"colorbar\": {\"outlinewidth\": 0, \"ticks\": \"\"}, \"colorscale\": [[0.0, \"#0d0887\"], [0.1111111111111111, \"#46039f\"], [0.2222222222222222, \"#7201a8\"], [0.3333333333333333, \"#9c179e\"], [0.4444444444444444, \"#bd3786\"], [0.5555555555555556, \"#d8576b\"], [0.6666666666666666, \"#ed7953\"], [0.7777777777777778, \"#fb9f3a\"], [0.8888888888888888, \"#fdca26\"], [1.0, \"#f0f921\"]], \"type\": \"histogram2dcontour\"}], \"mesh3d\": [{\"colorbar\": {\"outlinewidth\": 0, \"ticks\": \"\"}, \"type\": \"mesh3d\"}], \"parcoords\": [{\"line\": {\"colorbar\": {\"outlinewidth\": 0, \"ticks\": \"\"}}, \"type\": \"parcoords\"}], \"pie\": [{\"automargin\": true, \"type\": \"pie\"}], \"scatter\": [{\"marker\": {\"colorbar\": {\"outlinewidth\": 0, \"ticks\": \"\"}}, \"type\": \"scatter\"}], \"scatter3d\": [{\"line\": {\"colorbar\": {\"outlinewidth\": 0, \"ticks\": \"\"}}, \"marker\": {\"colorbar\": {\"outlinewidth\": 0, \"ticks\": \"\"}}, \"type\": \"scatter3d\"}], \"scattercarpet\": [{\"marker\": {\"colorbar\": {\"outlinewidth\": 0, \"ticks\": \"\"}}, \"type\": \"scattercarpet\"}], \"scattergeo\": [{\"marker\": {\"colorbar\": {\"outlinewidth\": 0, \"ticks\": \"\"}}, \"type\": \"scattergeo\"}], \"scattergl\": [{\"marker\": {\"colorbar\": {\"outlinewidth\": 0, \"ticks\": \"\"}}, \"type\": \"scattergl\"}], \"scattermapbox\": [{\"marker\": {\"colorbar\": {\"outlinewidth\": 0, \"ticks\": \"\"}}, \"type\": \"scattermapbox\"}], \"scatterpolar\": [{\"marker\": {\"colorbar\": {\"outlinewidth\": 0, \"ticks\": \"\"}}, \"type\": \"scatterpolar\"}], \"scatterpolargl\": [{\"marker\": {\"colorbar\": {\"outlinewidth\": 0, \"ticks\": \"\"}}, \"type\": \"scatterpolargl\"}], \"scatterternary\": [{\"marker\": {\"colorbar\": {\"outlinewidth\": 0, \"ticks\": \"\"}}, \"type\": \"scatterternary\"}], \"surface\": [{\"colorbar\": {\"outlinewidth\": 0, \"ticks\": \"\"}, \"colorscale\": [[0.0, \"#0d0887\"], [0.1111111111111111, \"#46039f\"], [0.2222222222222222, \"#7201a8\"], [0.3333333333333333, \"#9c179e\"], [0.4444444444444444, \"#bd3786\"], [0.5555555555555556, \"#d8576b\"], [0.6666666666666666, \"#ed7953\"], [0.7777777777777778, \"#fb9f3a\"], [0.8888888888888888, \"#fdca26\"], [1.0, \"#f0f921\"]], \"type\": \"surface\"}], \"table\": [{\"cells\": {\"fill\": {\"color\": \"#EBF0F8\"}, \"line\": {\"color\": \"white\"}}, \"header\": {\"fill\": {\"color\": \"#C8D4E3\"}, \"line\": {\"color\": \"white\"}}, \"type\": \"table\"}]}, \"layout\": {\"annotationdefaults\": {\"arrowcolor\": \"#2a3f5f\", \"arrowhead\": 0, \"arrowwidth\": 1}, \"coloraxis\": {\"colorbar\": {\"outlinewidth\": 0, \"ticks\": \"\"}}, \"colorscale\": {\"diverging\": [[0, \"#8e0152\"], [0.1, \"#c51b7d\"], [0.2, \"#de77ae\"], [0.3, \"#f1b6da\"], [0.4, \"#fde0ef\"], [0.5, \"#f7f7f7\"], [0.6, \"#e6f5d0\"], [0.7, \"#b8e186\"], [0.8, \"#7fbc41\"], [0.9, \"#4d9221\"], [1, \"#276419\"]], \"sequential\": [[0.0, \"#0d0887\"], [0.1111111111111111, \"#46039f\"], [0.2222222222222222, \"#7201a8\"], [0.3333333333333333, \"#9c179e\"], [0.4444444444444444, \"#bd3786\"], [0.5555555555555556, \"#d8576b\"], [0.6666666666666666, \"#ed7953\"], [0.7777777777777778, \"#fb9f3a\"], [0.8888888888888888, \"#fdca26\"], [1.0, \"#f0f921\"]], \"sequentialminus\": [[0.0, \"#0d0887\"], [0.1111111111111111, \"#46039f\"], [0.2222222222222222, \"#7201a8\"], [0.3333333333333333, \"#9c179e\"], [0.4444444444444444, \"#bd3786\"], [0.5555555555555556, \"#d8576b\"], [0.6666666666666666, \"#ed7953\"], [0.7777777777777778, \"#fb9f3a\"], [0.8888888888888888, \"#fdca26\"], [1.0, \"#f0f921\"]]}, \"colorway\": [\"#636efa\", \"#EF553B\", \"#00cc96\", \"#ab63fa\", \"#FFA15A\", \"#19d3f3\", \"#FF6692\", \"#B6E880\", \"#FF97FF\", \"#FECB52\"], \"font\": {\"color\": \"#2a3f5f\"}, \"geo\": {\"bgcolor\": \"white\", \"lakecolor\": \"white\", \"landcolor\": \"#E5ECF6\", \"showlakes\": true, \"showland\": true, \"subunitcolor\": \"white\"}, \"hoverlabel\": {\"align\": \"left\"}, \"hovermode\": \"closest\", \"mapbox\": {\"style\": \"light\"}, \"paper_bgcolor\": \"white\", \"plot_bgcolor\": \"#E5ECF6\", \"polar\": {\"angularaxis\": {\"gridcolor\": \"white\", \"linecolor\": \"white\", \"ticks\": \"\"}, \"bgcolor\": \"#E5ECF6\", \"radialaxis\": {\"gridcolor\": \"white\", \"linecolor\": \"white\", \"ticks\": \"\"}}, \"scene\": {\"xaxis\": {\"backgroundcolor\": \"#E5ECF6\", \"gridcolor\": \"white\", \"gridwidth\": 2, \"linecolor\": \"white\", \"showbackground\": true, \"ticks\": \"\", \"zerolinecolor\": \"white\"}, \"yaxis\": {\"backgroundcolor\": \"#E5ECF6\", \"gridcolor\": \"white\", \"gridwidth\": 2, \"linecolor\": \"white\", \"showbackground\": true, \"ticks\": \"\", \"zerolinecolor\": \"white\"}, \"zaxis\": {\"backgroundcolor\": \"#E5ECF6\", \"gridcolor\": \"white\", \"gridwidth\": 2, \"linecolor\": \"white\", \"showbackground\": true, \"ticks\": \"\", \"zerolinecolor\": \"white\"}}, \"shapedefaults\": {\"line\": {\"color\": \"#2a3f5f\"}}, \"ternary\": {\"aaxis\": {\"gridcolor\": \"white\", \"linecolor\": \"white\", \"ticks\": \"\"}, \"baxis\": {\"gridcolor\": \"white\", \"linecolor\": \"white\", \"ticks\": \"\"}, \"bgcolor\": \"#E5ECF6\", \"caxis\": {\"gridcolor\": \"white\", \"linecolor\": \"white\", \"ticks\": \"\"}}, \"title\": {\"x\": 0.05}, \"xaxis\": {\"automargin\": true, \"gridcolor\": \"white\", \"linecolor\": \"white\", \"ticks\": \"\", \"title\": {\"standoff\": 15}, \"zerolinecolor\": \"white\", \"zerolinewidth\": 2}, \"yaxis\": {\"automargin\": true, \"gridcolor\": \"white\", \"linecolor\": \"white\", \"ticks\": \"\", \"title\": {\"standoff\": 15}, \"zerolinecolor\": \"white\", \"zerolinewidth\": 2}}}, \"title\": {\"font\": {\"color\": \"#4D5663\"}, \"text\": \"Topic 2: Top 100 bigrams after removing stop words\"}, \"xaxis\": {\"gridcolor\": \"#E1E5ED\", \"linecolor\": \"black\", \"showgrid\": true, \"tickfont\": {\"color\": \"#4D5663\"}, \"title\": {\"font\": {\"color\": \"#4D5663\"}, \"text\": \"\"}, \"zerolinecolor\": \"#E1E5ED\"}, \"yaxis\": {\"gridcolor\": \"#E1E5ED\", \"linecolor\": \"black\", \"showgrid\": true, \"tickfont\": {\"color\": \"#4D5663\"}, \"title\": {\"font\": {\"color\": \"#4D5663\"}, \"text\": \"Count\"}, \"zerolinecolor\": \"#E1E5ED\"}},\n                        {\"showLink\": true, \"linkText\": \"Export to plot.ly\", \"plotlyServerURL\": \"https://plot.ly\", \"responsive\": true}\n                    ).then(function(){\n                            \nvar gd = document.getElementById('329d6fa4-ba02-4ddf-9e32-2f808a27a483');\nvar x = new MutationObserver(function (mutations, observer) {{\n        var display = window.getComputedStyle(gd).display;\n        if (!display || display === 'none') {{\n            console.log([gd, 'removed!']);\n            Plotly.purge(gd);\n            observer.disconnect();\n        }}\n}});\n\n// Listen for the removal of the full notebook cells\nvar notebookContainer = gd.closest('#notebook-container');\nif (notebookContainer) {{\n    x.observe(notebookContainer, {childList: true});\n}}\n\n// Listen for the clearing of the current output cell\nvar outputEl = gd.closest('.output');\nif (outputEl) {{\n    x.observe(outputEl, {childList: true});\n}}\n\n                        })\n                };\n                });\n            </script>\n        </div>"
         },
         "metadata": {},
         "output_type": "display_data"
        }
       ]
      }
     },
     "93acdd56af924feda1fa9548e71bb783": {
      "model_module": "@jupyter-widgets/base",
      "model_module_version": "1.2.0",
      "model_name": "LayoutModel",
      "state": {}
     },
     "93d58084ac804cbe93762e3d49f909b6": {
      "model_module": "@jupyter-widgets/controls",
      "model_module_version": "1.5.0",
      "model_name": "IntProgressModel",
      "state": {
       "description": "Processing: ",
       "layout": "IPY_MODEL_379ae64d79ba4e5eb105aff54a88ccd5",
       "max": 4,
       "style": "IPY_MODEL_91384f83997a40989067f97b2a15c999",
       "value": 4
      }
     },
     "95ef5bf7c10d49e3abc6007441890ba5": {
      "model_module": "@jupyter-widgets/controls",
      "model_module_version": "1.5.0",
      "model_name": "IntProgressModel",
      "state": {
       "description": "Processing: ",
       "layout": "IPY_MODEL_aa6d72bec06047ed9817f7e9edb5ddea",
       "max": 870,
       "style": "IPY_MODEL_c40dc93f165442c495c677db4987a53b",
       "value": 870
      }
     },
     "95f3e31f5349418db0ea0938aa4c8222": {
      "model_module": "@jupyter-widgets/controls",
      "model_module_version": "1.5.0",
      "model_name": "ProgressStyleModel",
      "state": {
       "description_width": ""
      }
     },
     "96f8fd9dded14f198991a160b4ce8f0e": {
      "model_module": "@jupyter-widgets/base",
      "model_module_version": "1.2.0",
      "model_name": "LayoutModel",
      "state": {}
     },
     "97e9ddff3e324cafbe45798124f3620f": {
      "model_module": "@jupyter-widgets/controls",
      "model_module_version": "1.5.0",
      "model_name": "ProgressStyleModel",
      "state": {
       "description_width": ""
      }
     },
     "98ec7b2109b443cd830023b2284e5337": {
      "model_module": "@jupyter-widgets/controls",
      "model_module_version": "1.5.0",
      "model_name": "DescriptionStyleModel",
      "state": {
       "description_width": ""
      }
     },
     "9a4c8b08486a40eeaa9253f434a0601e": {
      "model_module": "@jupyter-widgets/controls",
      "model_module_version": "1.5.0",
      "model_name": "IntProgressModel",
      "state": {
       "description": "Processing: ",
       "layout": "IPY_MODEL_be2c764e2e784646825313c7e654e5ba",
       "max": 48,
       "style": "IPY_MODEL_70c00a1bfdac47bab63eb7884d8f47ba",
       "value": 48
      }
     },
     "9aabb3b829874b058fd783f5e9b3d23c": {
      "model_module": "@jupyter-widgets/controls",
      "model_module_version": "1.5.0",
      "model_name": "IntProgressModel",
      "state": {
       "description": "Processing: ",
       "layout": "IPY_MODEL_0b344abf71a24150aa935a7f913cbea4",
       "max": 48,
       "style": "IPY_MODEL_7f76dc59fe0f4871a34e98099e7bf624",
       "value": 48
      }
     },
     "9b64f8fc10254320baddc9ed31f2b5f6": {
      "model_module": "@jupyter-widgets/controls",
      "model_module_version": "1.5.0",
      "model_name": "IntProgressModel",
      "state": {
       "description": "Processing: ",
       "layout": "IPY_MODEL_1c9056f33a1a44b480d6146ec57c5394",
       "max": 4,
       "style": "IPY_MODEL_b9a0c6615ef04ac495bb438fa8117d0c",
       "value": 4
      }
     },
     "9c4378f7d73c44c79a71e9357098d2d3": {
      "model_module": "@jupyter-widgets/controls",
      "model_module_version": "1.5.0",
      "model_name": "ProgressStyleModel",
      "state": {
       "description_width": ""
      }
     },
     "9c60033ee0d74e949a5e8bbb2ad1aca6": {
      "model_module": "@jupyter-widgets/controls",
      "model_module_version": "1.5.0",
      "model_name": "ProgressStyleModel",
      "state": {
       "description_width": ""
      }
     },
     "9dc261eb9a4e494586ff942cfe9e6f98": {
      "model_module": "@jupyter-widgets/controls",
      "model_module_version": "1.5.0",
      "model_name": "VBoxModel",
      "state": {
       "_dom_classes": [
        "widget-interact"
       ],
       "children": [
        "IPY_MODEL_dda1594c70a342a5b6b0748ea00dd659",
        "IPY_MODEL_69bb7f060370468ab969885a393bc713",
        "IPY_MODEL_0ca41fee96084ec6b860c2c557524953",
        "IPY_MODEL_ef7bc8a5ff5a4641b8b745d7b49cb773"
       ],
       "layout": "IPY_MODEL_58831f023c5b497e919aff6f4eb8a4a5"
      }
     },
     "9e372dc8d8dd4332b410424cc92f84c5": {
      "model_module": "@jupyter-widgets/controls",
      "model_module_version": "1.5.0",
      "model_name": "ProgressStyleModel",
      "state": {
       "description_width": ""
      }
     },
     "9e6d802bfa104586a25109d50ceff98d": {
      "model_module": "@jupyter-widgets/controls",
      "model_module_version": "1.5.0",
      "model_name": "ProgressStyleModel",
      "state": {
       "description_width": ""
      }
     },
     "9ef43e6e7e114d4784803f678f08a6c2": {
      "model_module": "@jupyter-widgets/controls",
      "model_module_version": "1.5.0",
      "model_name": "IntProgressModel",
      "state": {
       "description": "Processing: ",
       "layout": "IPY_MODEL_93acdd56af924feda1fa9548e71bb783",
       "max": 4,
       "style": "IPY_MODEL_fdc6a6ef75b44c73a1349f2dd0d7348a",
       "value": 4
      }
     },
     "9f25d12341b64552868de4dabd7bb506": {
      "model_module": "@jupyter-widgets/base",
      "model_module_version": "1.2.0",
      "model_name": "LayoutModel",
      "state": {}
     },
     "9f4d9978372844b092eb142c012eb461": {
      "model_module": "@jupyter-widgets/base",
      "model_module_version": "1.2.0",
      "model_name": "LayoutModel",
      "state": {}
     },
     "9faa55c9b02641e6abb0471247a2af53": {
      "model_module": "@jupyter-widgets/controls",
      "model_module_version": "1.5.0",
      "model_name": "ProgressStyleModel",
      "state": {
       "description_width": ""
      }
     },
     "a258c0286fa0415d818d3992c5c8338f": {
      "model_module": "@jupyter-widgets/controls",
      "model_module_version": "1.5.0",
      "model_name": "IntProgressModel",
      "state": {
       "description": "Processing: ",
       "layout": "IPY_MODEL_fae045083bb24cc5b7d9651f5abf55fd",
       "max": 4,
       "style": "IPY_MODEL_be2a7d4439384344931597cb08b5d5d5",
       "value": 4
      }
     },
     "a26c19ef5e91416490b0d2ef8b50537d": {
      "model_module": "@jupyter-widgets/output",
      "model_module_version": "1.0.0",
      "model_name": "OutputModel",
      "state": {
       "layout": "IPY_MODEL_4e3242bd35ff4ec681ee4cacddc4c182"
      }
     },
     "a3319ec54e0d41f382217ed7648b4abb": {
      "model_module": "@jupyter-widgets/controls",
      "model_module_version": "1.5.0",
      "model_name": "IntProgressModel",
      "state": {
       "description": "Processing: ",
       "layout": "IPY_MODEL_0db6eb636e3846ae9c7311a0242e7c96",
       "max": 48,
       "style": "IPY_MODEL_4e1fdee38f5c468196e169e6a5f7c101",
       "value": 48
      }
     },
     "a34fb008861f46e496add1a395f98c5c": {
      "model_module": "@jupyter-widgets/controls",
      "model_module_version": "1.5.0",
      "model_name": "ProgressStyleModel",
      "state": {
       "description_width": ""
      }
     },
     "a6d7d14e7d2743408312f61026036be1": {
      "model_module": "@jupyter-widgets/controls",
      "model_module_version": "1.5.0",
      "model_name": "ProgressStyleModel",
      "state": {
       "description_width": ""
      }
     },
     "a742a2a945db42c3a75be1bb9b816ab1": {
      "model_module": "@jupyter-widgets/controls",
      "model_module_version": "1.5.0",
      "model_name": "ToggleButtonsStyleModel",
      "state": {
       "button_width": "",
       "description_width": ""
      }
     },
     "a83a1065e8ea46f79cd22b93a05f9934": {
      "model_module": "@jupyter-widgets/base",
      "model_module_version": "1.2.0",
      "model_name": "LayoutModel",
      "state": {}
     },
     "a90a548c760246d6a187aeac60b8d716": {
      "model_module": "@jupyter-widgets/base",
      "model_module_version": "1.2.0",
      "model_name": "LayoutModel",
      "state": {}
     },
     "aa6d72bec06047ed9817f7e9edb5ddea": {
      "model_module": "@jupyter-widgets/base",
      "model_module_version": "1.2.0",
      "model_name": "LayoutModel",
      "state": {}
     },
     "abe072bd93824013b97f90ef499fb6da": {
      "model_module": "@jupyter-widgets/controls",
      "model_module_version": "1.5.0",
      "model_name": "ProgressStyleModel",
      "state": {
       "description_width": ""
      }
     },
     "ac0b46a532c142189c00dd3359f6d926": {
      "model_module": "@jupyter-widgets/controls",
      "model_module_version": "1.5.0",
      "model_name": "ButtonModel",
      "state": {
       "description": "Run Interact",
       "layout": "IPY_MODEL_0764c20174304f3e9df4de4a9740120c",
       "style": "IPY_MODEL_3f46aa5b765141ed92a825ac31204f31"
      }
     },
     "ac9e9ba97f7b4504aa27ec13c58d86d5": {
      "model_module": "@jupyter-widgets/base",
      "model_module_version": "1.2.0",
      "model_name": "LayoutModel",
      "state": {}
     },
     "ad38166a4bbc4532adc419c462abe613": {
      "model_module": "@jupyter-widgets/base",
      "model_module_version": "1.2.0",
      "model_name": "LayoutModel",
      "state": {}
     },
     "ad66ab41138c4307b80b59febd707236": {
      "model_module": "@jupyter-widgets/controls",
      "model_module_version": "1.5.0",
      "model_name": "ProgressStyleModel",
      "state": {
       "description_width": ""
      }
     },
     "ae2910a0461b4c3981e9225276dea5c2": {
      "model_module": "@jupyter-widgets/controls",
      "model_module_version": "1.5.0",
      "model_name": "ProgressStyleModel",
      "state": {
       "description_width": ""
      }
     },
     "b12f0fe4f8064a78850358a93c47c3df": {
      "model_module": "@jupyter-widgets/controls",
      "model_module_version": "1.5.0",
      "model_name": "IntProgressModel",
      "state": {
       "description": "Processing: ",
       "layout": "IPY_MODEL_e71a462d184d4220a6db5d431f1e30fe",
       "max": 870,
       "style": "IPY_MODEL_eed46932d7754328953be4b63dabc209",
       "value": 870
      }
     },
     "b3b7e8dd4298442697da18f77b3df623": {
      "model_module": "@jupyter-widgets/base",
      "model_module_version": "1.2.0",
      "model_name": "LayoutModel",
      "state": {}
     },
     "b40622a8926e4b758efc5c2d4eb5a023": {
      "model_module": "@jupyter-widgets/controls",
      "model_module_version": "1.5.0",
      "model_name": "IntProgressModel",
      "state": {
       "description": "Processing: ",
       "layout": "IPY_MODEL_fa9507c53bc945c38aa156d272a76a16",
       "max": 4,
       "style": "IPY_MODEL_ad66ab41138c4307b80b59febd707236",
       "value": 4
      }
     },
     "b4d0cd19d38e4b5ca3c1387a033125fa": {
      "model_module": "@jupyter-widgets/controls",
      "model_module_version": "1.5.0",
      "model_name": "IntProgressModel",
      "state": {
       "description": "Processing: ",
       "layout": "IPY_MODEL_745fc4e908784fe492b489c290b04246",
       "max": 870,
       "style": "IPY_MODEL_161d3ee7408a4de3b183655f24ccb534",
       "value": 870
      }
     },
     "b59b355d0c0f4ba884effbba76f430bf": {
      "model_module": "@jupyter-widgets/controls",
      "model_module_version": "1.5.0",
      "model_name": "IntProgressModel",
      "state": {
       "description": "Processing: ",
       "layout": "IPY_MODEL_09875ed6ea6648dfaf28dd3ba9e100dd",
       "max": 870,
       "style": "IPY_MODEL_bed8fc24103f4a2195eab281246524c9",
       "value": 870
      }
     },
     "b5f457b1a3de46378621c4dada36ceab": {
      "model_module": "@jupyter-widgets/base",
      "model_module_version": "1.2.0",
      "model_name": "LayoutModel",
      "state": {}
     },
     "b5f64572a64b4acd92ff3f379a591cbf": {
      "model_module": "@jupyter-widgets/base",
      "model_module_version": "1.2.0",
      "model_name": "LayoutModel",
      "state": {}
     },
     "b60e569c302f4aed9a592d920bb1d704": {
      "model_module": "@jupyter-widgets/controls",
      "model_module_version": "1.5.0",
      "model_name": "DropdownModel",
      "state": {
       "_options_labels": [
        "Topic 0",
        "Topic 1",
        "Topic 2",
        "Topic 3"
       ],
       "description": "Topic #:",
       "index": 2,
       "layout": "IPY_MODEL_8b04a0dfd25a4ae8b9db2d90479cf22c",
       "style": "IPY_MODEL_98ec7b2109b443cd830023b2284e5337"
      }
     },
     "b759bbd0fe404138801ea7e21a5a11f5": {
      "model_module": "@jupyter-widgets/controls",
      "model_module_version": "1.5.0",
      "model_name": "IntProgressModel",
      "state": {
       "description": "Processing: ",
       "layout": "IPY_MODEL_84430717888d4c71a53354d53ab75469",
       "max": 4,
       "style": "IPY_MODEL_1cd42b32b75a46dcaeea4756c5638425",
       "value": 4
      }
     },
     "b7ee6a23727d4f128a27c5424cfa14bd": {
      "model_module": "@jupyter-widgets/controls",
      "model_module_version": "1.5.0",
      "model_name": "ToggleButtonsModel",
      "state": {
       "_options_labels": [
        "Frequency Plot",
        "Bigrams",
        "Trigrams",
        "Sentiment Polarity",
        "Word Cloud"
       ],
       "button_style": "",
       "description": "Plot Type:",
       "icons": [
        ""
       ],
       "index": 1,
       "layout": "IPY_MODEL_8003fd95dc824071acdbe35c3483e10b",
       "style": "IPY_MODEL_806b8881c83940ddbaa76483ffdc7f97",
       "tooltips": []
      }
     },
     "b97fc926337941f882e40c70b1f6d86a": {
      "model_module": "@jupyter-widgets/base",
      "model_module_version": "1.2.0",
      "model_name": "LayoutModel",
      "state": {}
     },
     "b9a0c6615ef04ac495bb438fa8117d0c": {
      "model_module": "@jupyter-widgets/controls",
      "model_module_version": "1.5.0",
      "model_name": "ProgressStyleModel",
      "state": {
       "description_width": ""
      }
     },
     "ba2240e1c94a478cb4a761e40d0958b0": {
      "model_module": "@jupyter-widgets/controls",
      "model_module_version": "1.5.0",
      "model_name": "ProgressStyleModel",
      "state": {
       "description_width": ""
      }
     },
     "bc73140e8d064bf7b2f2e0ab84454788": {
      "model_module": "@jupyter-widgets/base",
      "model_module_version": "1.2.0",
      "model_name": "LayoutModel",
      "state": {}
     },
     "be2a7d4439384344931597cb08b5d5d5": {
      "model_module": "@jupyter-widgets/controls",
      "model_module_version": "1.5.0",
      "model_name": "ProgressStyleModel",
      "state": {
       "description_width": ""
      }
     },
     "be2c764e2e784646825313c7e654e5ba": {
      "model_module": "@jupyter-widgets/base",
      "model_module_version": "1.2.0",
      "model_name": "LayoutModel",
      "state": {}
     },
     "bed8fc24103f4a2195eab281246524c9": {
      "model_module": "@jupyter-widgets/controls",
      "model_module_version": "1.5.0",
      "model_name": "ProgressStyleModel",
      "state": {
       "description_width": ""
      }
     },
     "bf25e802d4f34cbd8a1157570c911d56": {
      "model_module": "@jupyter-widgets/controls",
      "model_module_version": "1.5.0",
      "model_name": "ProgressStyleModel",
      "state": {
       "description_width": ""
      }
     },
     "bfc1b4483bbd4920bb9befdaad7be39d": {
      "model_module": "@jupyter-widgets/controls",
      "model_module_version": "1.5.0",
      "model_name": "IntProgressModel",
      "state": {
       "description": "Processing: ",
       "layout": "IPY_MODEL_ad38166a4bbc4532adc419c462abe613",
       "max": 11,
       "style": "IPY_MODEL_8f1efb22dc584147b5cfa796e614d5e4",
       "value": 11
      }
     },
     "c0742be887a24fa080baf6d23b1ebe30": {
      "model_module": "@jupyter-widgets/base",
      "model_module_version": "1.2.0",
      "model_name": "LayoutModel",
      "state": {}
     },
     "c19dd1e299d540e6b565a1ce24abb292": {
      "model_module": "@jupyter-widgets/base",
      "model_module_version": "1.2.0",
      "model_name": "LayoutModel",
      "state": {}
     },
     "c2ef8b2e41dc4f2cbb808cb0ed3203b4": {
      "model_module": "@jupyter-widgets/controls",
      "model_module_version": "1.5.0",
      "model_name": "IntProgressModel",
      "state": {
       "description": "Processing: ",
       "layout": "IPY_MODEL_7a1376c322984f3dba0280748cca767c",
       "max": 48,
       "style": "IPY_MODEL_a6d7d14e7d2743408312f61026036be1",
       "value": 48
      }
     },
     "c36c5f6e93d24320b9c334cd7da8e437": {
      "model_module": "@jupyter-widgets/controls",
      "model_module_version": "1.5.0",
      "model_name": "ProgressStyleModel",
      "state": {
       "description_width": ""
      }
     },
     "c40dc93f165442c495c677db4987a53b": {
      "model_module": "@jupyter-widgets/controls",
      "model_module_version": "1.5.0",
      "model_name": "ProgressStyleModel",
      "state": {
       "description_width": ""
      }
     },
     "c45c5a4d34b4456884f58bb925af73f9": {
      "model_module": "@jupyter-widgets/base",
      "model_module_version": "1.2.0",
      "model_name": "LayoutModel",
      "state": {}
     },
     "c63cc2709e25419ba3e5761d63e6fb55": {
      "model_module": "@jupyter-widgets/output",
      "model_module_version": "1.0.0",
      "model_name": "OutputModel",
      "state": {
       "layout": "IPY_MODEL_3b43b69302be48c1b7fe3f6c01b6050e"
      }
     },
     "c79e454527a64401b237c45c4231ec24": {
      "model_module": "@jupyter-widgets/controls",
      "model_module_version": "1.5.0",
      "model_name": "IntProgressModel",
      "state": {
       "description": "Processing: ",
       "layout": "IPY_MODEL_84fc731fdbef457a939c9ececba04239",
       "max": 4,
       "style": "IPY_MODEL_95f3e31f5349418db0ea0938aa4c8222",
       "value": 4
      }
     },
     "c7d2734dbf3f49eeaf3de24042d97c77": {
      "model_module": "@jupyter-widgets/controls",
      "model_module_version": "1.5.0",
      "model_name": "ProgressStyleModel",
      "state": {
       "description_width": ""
      }
     },
     "c8eb4149d7a842dba0f40facbad1d89f": {
      "model_module": "@jupyter-widgets/base",
      "model_module_version": "1.2.0",
      "model_name": "LayoutModel",
      "state": {}
     },
     "c91c721a80904f2684bd850d3c26168c": {
      "model_module": "@jupyter-widgets/controls",
      "model_module_version": "1.5.0",
      "model_name": "IntProgressModel",
      "state": {
       "description": "Processing: ",
       "layout": "IPY_MODEL_d16466eaa6694e2a993022747b22abc0",
       "max": 4,
       "style": "IPY_MODEL_f998f6135090423c9f6adcabdd644be7",
       "value": 4
      }
     },
     "c94240c41acb4685a37cdf7f48cfe378": {
      "model_module": "@jupyter-widgets/controls",
      "model_module_version": "1.5.0",
      "model_name": "ProgressStyleModel",
      "state": {
       "description_width": ""
      }
     },
     "c9fa692b3c754ae18c158343025e9403": {
      "model_module": "@jupyter-widgets/controls",
      "model_module_version": "1.5.0",
      "model_name": "IntProgressModel",
      "state": {
       "description": "Processing: ",
       "layout": "IPY_MODEL_b5f457b1a3de46378621c4dada36ceab",
       "max": 4,
       "style": "IPY_MODEL_3acab8a540094d4098b78789d04c32ee",
       "value": 4
      }
     },
     "caa659819c434f14a218de71ea5e9920": {
      "model_module": "@jupyter-widgets/controls",
      "model_module_version": "1.5.0",
      "model_name": "ProgressStyleModel",
      "state": {
       "description_width": ""
      }
     },
     "cd45fc8852c0463bbedf71ef72c5aba5": {
      "model_module": "@jupyter-widgets/controls",
      "model_module_version": "1.5.0",
      "model_name": "IntProgressModel",
      "state": {
       "description": "Processing: ",
       "layout": "IPY_MODEL_86672c973c42441ebc1b07345926a549",
       "max": 4,
       "style": "IPY_MODEL_e87fb1343ae74d24a185c6b74a6ad89a",
       "value": 4
      }
     },
     "cdf17ecba82143e5a3e9de5fecc3a1ff": {
      "model_module": "@jupyter-widgets/controls",
      "model_module_version": "1.5.0",
      "model_name": "ProgressStyleModel",
      "state": {
       "description_width": ""
      }
     },
     "cdf2b8f2e6f14919aa8e23a8a3a02d2f": {
      "model_module": "@jupyter-widgets/controls",
      "model_module_version": "1.5.0",
      "model_name": "IntProgressModel",
      "state": {
       "description": "Processing: ",
       "layout": "IPY_MODEL_c0742be887a24fa080baf6d23b1ebe30",
       "max": 870,
       "style": "IPY_MODEL_9faa55c9b02641e6abb0471247a2af53",
       "value": 870
      }
     },
     "cf112e01e4634908840880db4337a1b6": {
      "model_module": "@jupyter-widgets/controls",
      "model_module_version": "1.5.0",
      "model_name": "IntProgressModel",
      "state": {
       "description": "Processing: ",
       "layout": "IPY_MODEL_35edcc52f9ab42fe9998f1f225424eaf",
       "max": 4,
       "style": "IPY_MODEL_1710c717bd8445f3a5810ec5bd6f44cb",
       "value": 4
      }
     },
     "cf980fd03b41494883574b8be5f315d9": {
      "model_module": "@jupyter-widgets/controls",
      "model_module_version": "1.5.0",
      "model_name": "ProgressStyleModel",
      "state": {
       "description_width": ""
      }
     },
     "cfd6c3e72cf74c52a810a8e192033337": {
      "model_module": "@jupyter-widgets/base",
      "model_module_version": "1.2.0",
      "model_name": "LayoutModel",
      "state": {}
     },
     "d03d1c65475a46e7b028e243ac822384": {
      "model_module": "@jupyter-widgets/controls",
      "model_module_version": "1.5.0",
      "model_name": "DescriptionStyleModel",
      "state": {
       "description_width": ""
      }
     },
     "d1261151d6a241c2be4de1ba33f52b2a": {
      "model_module": "@jupyter-widgets/base",
      "model_module_version": "1.2.0",
      "model_name": "LayoutModel",
      "state": {}
     },
     "d16466eaa6694e2a993022747b22abc0": {
      "model_module": "@jupyter-widgets/base",
      "model_module_version": "1.2.0",
      "model_name": "LayoutModel",
      "state": {}
     },
     "d1fccbfe4ee44d3e966860acc4854a60": {
      "model_module": "@jupyter-widgets/controls",
      "model_module_version": "1.5.0",
      "model_name": "ProgressStyleModel",
      "state": {
       "description_width": ""
      }
     },
     "d2aabbfda6494143b42c40dc46625599": {
      "model_module": "@jupyter-widgets/base",
      "model_module_version": "1.2.0",
      "model_name": "LayoutModel",
      "state": {}
     },
     "d4aa91fdb15c4bbeb5e9be34d4e36a75": {
      "model_module": "@jupyter-widgets/controls",
      "model_module_version": "1.5.0",
      "model_name": "IntProgressModel",
      "state": {
       "description": "Processing: ",
       "layout": "IPY_MODEL_cfd6c3e72cf74c52a810a8e192033337",
       "max": 48,
       "style": "IPY_MODEL_26f02ce620224ea8a80f62d026ec1419",
       "value": 48
      }
     },
     "d63697bfc5fe40f1946b1f0fafd0982a": {
      "model_module": "@jupyter-widgets/base",
      "model_module_version": "1.2.0",
      "model_name": "LayoutModel",
      "state": {}
     },
     "d82d000f5f9c42d18dfac2c0111a3417": {
      "model_module": "@jupyter-widgets/controls",
      "model_module_version": "1.5.0",
      "model_name": "IntProgressModel",
      "state": {
       "description": "Processing: ",
       "layout": "IPY_MODEL_14e074f71fd342fca47034ca4a825b51",
       "max": 870,
       "style": "IPY_MODEL_9e372dc8d8dd4332b410424cc92f84c5",
       "value": 870
      }
     },
     "d98f2d36d1b84e52b93b739c11af5bba": {
      "model_module": "@jupyter-widgets/controls",
      "model_module_version": "1.5.0",
      "model_name": "IntProgressModel",
      "state": {
       "description": "Processing: ",
       "layout": "IPY_MODEL_fe7cffdc36954cb688f49536930c7e11",
       "max": 870,
       "style": "IPY_MODEL_fdd91b2e5fb84437a70dd6b50c6c9eee",
       "value": 870
      }
     },
     "dda1594c70a342a5b6b0748ea00dd659": {
      "model_module": "@jupyter-widgets/controls",
      "model_module_version": "1.5.0",
      "model_name": "ToggleButtonsModel",
      "state": {
       "_options_labels": [
        "Frequency Plot",
        "Bigrams",
        "Trigrams",
        "Sentiment Polarity",
        "Word Cloud"
       ],
       "button_style": "",
       "description": "Plot Type:",
       "icons": [
        ""
       ],
       "index": 0,
       "layout": "IPY_MODEL_3a8cd6d206e444258351efc0bcae2d1d",
       "style": "IPY_MODEL_704ea141a5074eaa83f67d44f98d2c0b",
       "tooltips": []
      }
     },
     "de9e45298c6146c192cd25d0f087722b": {
      "model_module": "@jupyter-widgets/controls",
      "model_module_version": "1.5.0",
      "model_name": "ProgressStyleModel",
      "state": {
       "description_width": ""
      }
     },
     "df6710eb9bd64e1399f6eb85417e19bc": {
      "model_module": "@jupyter-widgets/base",
      "model_module_version": "1.2.0",
      "model_name": "LayoutModel",
      "state": {}
     },
     "e08b19f5eb244d1db0b11de26a4f32c2": {
      "model_module": "@jupyter-widgets/base",
      "model_module_version": "1.2.0",
      "model_name": "LayoutModel",
      "state": {}
     },
     "e3cae36ab6d443e6bf117d901b58f5d5": {
      "model_module": "@jupyter-widgets/base",
      "model_module_version": "1.2.0",
      "model_name": "LayoutModel",
      "state": {}
     },
     "e5f43c05ab66450d9111641e6985360b": {
      "model_module": "@jupyter-widgets/base",
      "model_module_version": "1.2.0",
      "model_name": "LayoutModel",
      "state": {}
     },
     "e6faccfc6fd544afa2637f5003bf7d9a": {
      "model_module": "@jupyter-widgets/controls",
      "model_module_version": "1.5.0",
      "model_name": "ProgressStyleModel",
      "state": {
       "description_width": ""
      }
     },
     "e71a462d184d4220a6db5d431f1e30fe": {
      "model_module": "@jupyter-widgets/base",
      "model_module_version": "1.2.0",
      "model_name": "LayoutModel",
      "state": {}
     },
     "e7f5ce9ac4454dd59223feb29de9f4f0": {
      "model_module": "@jupyter-widgets/controls",
      "model_module_version": "1.5.0",
      "model_name": "ProgressStyleModel",
      "state": {
       "description_width": ""
      }
     },
     "e804e8b8e49742c7b794eb645e9cfbb7": {
      "model_module": "@jupyter-widgets/controls",
      "model_module_version": "1.5.0",
      "model_name": "ButtonStyleModel",
      "state": {}
     },
     "e87fb1343ae74d24a185c6b74a6ad89a": {
      "model_module": "@jupyter-widgets/controls",
      "model_module_version": "1.5.0",
      "model_name": "ProgressStyleModel",
      "state": {
       "description_width": ""
      }
     },
     "ea9cafbe17334322a6646de324d3464d": {
      "model_module": "@jupyter-widgets/controls",
      "model_module_version": "1.5.0",
      "model_name": "DropdownModel",
      "state": {
       "_options_labels": [
        "Topic 0",
        "Topic 1",
        "Topic 2",
        "Topic 3",
        "Topic 4",
        "Topic 5",
        "Topic 6",
        "Topic 7",
        "Topic 8",
        "Topic 9"
       ],
       "description": "Topic #:",
       "index": 0,
       "layout": "IPY_MODEL_423bc887d5c74b828758d8bde8648171",
       "style": "IPY_MODEL_011d55cba1d2424b9b3535f3f6304d6a"
      }
     },
     "ebc411cffcd441f08ebce6e23bb4561b": {
      "model_module": "@jupyter-widgets/controls",
      "model_module_version": "1.5.0",
      "model_name": "ProgressStyleModel",
      "state": {
       "description_width": ""
      }
     },
     "ec0a7fed5165484799f14f346a99efff": {
      "model_module": "@jupyter-widgets/controls",
      "model_module_version": "1.5.0",
      "model_name": "IntProgressModel",
      "state": {
       "description": "Processing: ",
       "layout": "IPY_MODEL_ac9e9ba97f7b4504aa27ec13c58d86d5",
       "max": 870,
       "style": "IPY_MODEL_5f1dad62fcbe45caac6444f661f27d10",
       "value": 870
      }
     },
     "ec27026dd7434ab3a8fd3300a6f6c0df": {
      "model_module": "@jupyter-widgets/base",
      "model_module_version": "1.2.0",
      "model_name": "LayoutModel",
      "state": {}
     },
     "ec2ee32df4b34e6d91cb958ada69ae44": {
      "model_module": "@jupyter-widgets/base",
      "model_module_version": "1.2.0",
      "model_name": "LayoutModel",
      "state": {}
     },
     "ed35519ca52f4fd795e8c6cce2a7e233": {
      "model_module": "@jupyter-widgets/controls",
      "model_module_version": "1.5.0",
      "model_name": "ProgressStyleModel",
      "state": {
       "description_width": ""
      }
     },
     "ed6c19d2b9dd4d0cb71431f7aa30934c": {
      "model_module": "@jupyter-widgets/controls",
      "model_module_version": "1.5.0",
      "model_name": "ButtonStyleModel",
      "state": {}
     },
     "edee030403c44930b0c7622bb17ca79e": {
      "model_module": "@jupyter-widgets/controls",
      "model_module_version": "1.5.0",
      "model_name": "IntProgressModel",
      "state": {
       "description": "Processing: ",
       "layout": "IPY_MODEL_125c99e83f704685bfb89f907ade2fa7",
       "max": 870,
       "style": "IPY_MODEL_62077375abdf48e28987780b10e7d2da",
       "value": 870
      }
     },
     "eed46932d7754328953be4b63dabc209": {
      "model_module": "@jupyter-widgets/controls",
      "model_module_version": "1.5.0",
      "model_name": "ProgressStyleModel",
      "state": {
       "description_width": ""
      }
     },
     "ef033c789c0a4cbfa0cd93802fe28e76": {
      "model_module": "@jupyter-widgets/controls",
      "model_module_version": "1.5.0",
      "model_name": "IntProgressModel",
      "state": {
       "description": "Processing: ",
       "layout": "IPY_MODEL_0373170d28414abead8ee7b1e80ca1e1",
       "max": 48,
       "style": "IPY_MODEL_abe072bd93824013b97f90ef499fb6da",
       "value": 48
      }
     },
     "ef3e23835aa14ee99e95326fc0ca375f": {
      "model_module": "@jupyter-widgets/controls",
      "model_module_version": "1.5.0",
      "model_name": "ProgressStyleModel",
      "state": {
       "description_width": ""
      }
     },
     "ef40aec45187478aa8cae74cea8a52c7": {
      "model_module": "@jupyter-widgets/controls",
      "model_module_version": "1.5.0",
      "model_name": "IntProgressModel",
      "state": {
       "description": "Processing: ",
       "layout": "IPY_MODEL_66a25303bbe84b82b97f0a28a1667233",
       "max": 4,
       "style": "IPY_MODEL_de9e45298c6146c192cd25d0f087722b",
       "value": 4
      }
     },
     "ef7bc8a5ff5a4641b8b745d7b49cb773": {
      "model_module": "@jupyter-widgets/output",
      "model_module_version": "1.0.0",
      "model_name": "OutputModel",
      "state": {
       "layout": "IPY_MODEL_c8eb4149d7a842dba0f40facbad1d89f",
       "outputs": [
        {
         "data": {
          "text/html": "        <script type=\"text/javascript\">\n        window.PlotlyConfig = {MathJaxConfig: 'local'};\n        if (window.MathJax) {MathJax.Hub.Config({SVG: {font: \"STIX-Web\"}});}\n        if (typeof require !== 'undefined') {\n        require.undef(\"plotly\");\n        requirejs.config({\n            paths: {\n                'plotly': ['https://cdn.plot.ly/plotly-latest.min']\n            }\n        });\n        require(['plotly'], function(Plotly) {\n            window._Plotly = Plotly;\n        });\n        }\n        </script>\n        "
         },
         "metadata": {},
         "output_type": "display_data"
        },
        {
         "ename": "SystemExit",
         "evalue": "(Value Error): Invalid topic_num param or empty Vocab. Try changing Topic Number.",
         "output_type": "error",
         "traceback": [
          "\u001b[1;31m---------------------------------------------------------------------------\u001b[0m",
          "\u001b[1;31mValueError\u001b[0m                                Traceback (most recent call last)",
          "\u001b[1;32m~\\AppData\\Roaming\\Python\\Python37\\site-packages\\pycaret\\nlp.py\u001b[0m in \u001b[0;36mplot_model\u001b[1;34m(model, plot, topic_num, save, system)\u001b[0m\n\u001b[0;32m   1838\u001b[0m                 \u001b[0mfiltered_df\u001b[0m \u001b[1;33m=\u001b[0m \u001b[0massigned_df\u001b[0m\u001b[1;33m.\u001b[0m\u001b[0mloc\u001b[0m\u001b[1;33m[\u001b[0m\u001b[0massigned_df\u001b[0m\u001b[1;33m[\u001b[0m\u001b[1;34m'Dominant_Topic'\u001b[0m\u001b[1;33m]\u001b[0m \u001b[1;33m==\u001b[0m \u001b[0mtopic_num\u001b[0m\u001b[1;33m]\u001b[0m\u001b[1;33m\u001b[0m\u001b[1;33m\u001b[0m\u001b[0m\n\u001b[1;32m-> 1839\u001b[1;33m                 \u001b[0mcommon_words\u001b[0m \u001b[1;33m=\u001b[0m \u001b[0mget_top_n_words\u001b[0m\u001b[1;33m(\u001b[0m\u001b[0mfiltered_df\u001b[0m\u001b[1;33m[\u001b[0m\u001b[0mtarget_\u001b[0m\u001b[1;33m]\u001b[0m\u001b[1;33m,\u001b[0m \u001b[0mn\u001b[0m\u001b[1;33m=\u001b[0m\u001b[1;36m100\u001b[0m\u001b[1;33m)\u001b[0m\u001b[1;33m\u001b[0m\u001b[1;33m\u001b[0m\u001b[0m\n\u001b[0m\u001b[0;32m   1840\u001b[0m                 \u001b[0mdf2\u001b[0m \u001b[1;33m=\u001b[0m \u001b[0mpd\u001b[0m\u001b[1;33m.\u001b[0m\u001b[0mDataFrame\u001b[0m\u001b[1;33m(\u001b[0m\u001b[0mcommon_words\u001b[0m\u001b[1;33m,\u001b[0m \u001b[0mcolumns\u001b[0m \u001b[1;33m=\u001b[0m \u001b[1;33m[\u001b[0m\u001b[1;34m'Text'\u001b[0m \u001b[1;33m,\u001b[0m \u001b[1;34m'count'\u001b[0m\u001b[1;33m]\u001b[0m\u001b[1;33m)\u001b[0m\u001b[1;33m\u001b[0m\u001b[1;33m\u001b[0m\u001b[0m\n",
          "\u001b[1;32m~\\AppData\\Roaming\\Python\\Python37\\site-packages\\pycaret\\nlp.py\u001b[0m in \u001b[0;36mget_top_n_words\u001b[1;34m(corpus, n)\u001b[0m\n\u001b[0;32m   1816\u001b[0m                 \u001b[0mlogger\u001b[0m\u001b[1;33m.\u001b[0m\u001b[0minfo\u001b[0m\u001b[1;33m(\u001b[0m\u001b[1;34m\"Fitting CountVectorizer()\"\u001b[0m\u001b[1;33m)\u001b[0m\u001b[1;33m\u001b[0m\u001b[1;33m\u001b[0m\u001b[0m\n\u001b[1;32m-> 1817\u001b[1;33m                 \u001b[0mbag_of_words\u001b[0m \u001b[1;33m=\u001b[0m \u001b[0mvec\u001b[0m\u001b[1;33m.\u001b[0m\u001b[0mfit_transform\u001b[0m\u001b[1;33m(\u001b[0m\u001b[0mcorpus\u001b[0m\u001b[1;33m)\u001b[0m\u001b[1;33m\u001b[0m\u001b[1;33m\u001b[0m\u001b[0m\n\u001b[0m\u001b[0;32m   1818\u001b[0m                 \u001b[0msum_words\u001b[0m \u001b[1;33m=\u001b[0m \u001b[0mbag_of_words\u001b[0m\u001b[1;33m.\u001b[0m\u001b[0msum\u001b[0m\u001b[1;33m(\u001b[0m\u001b[0maxis\u001b[0m\u001b[1;33m=\u001b[0m\u001b[1;36m0\u001b[0m\u001b[1;33m)\u001b[0m\u001b[1;33m\u001b[0m\u001b[1;33m\u001b[0m\u001b[0m\n",
          "\u001b[1;32m~\\Anaconda3\\lib\\site-packages\\sklearn\\feature_extraction\\text.py\u001b[0m in \u001b[0;36mfit_transform\u001b[1;34m(self, raw_documents, y)\u001b[0m\n\u001b[0;32m   1198\u001b[0m         vocabulary, X = self._count_vocab(raw_documents,\n\u001b[1;32m-> 1199\u001b[1;33m                                           self.fixed_vocabulary_)\n\u001b[0m\u001b[0;32m   1200\u001b[0m \u001b[1;33m\u001b[0m\u001b[0m\n",
          "\u001b[1;32m~\\Anaconda3\\lib\\site-packages\\sklearn\\feature_extraction\\text.py\u001b[0m in \u001b[0;36m_count_vocab\u001b[1;34m(self, raw_documents, fixed_vocab)\u001b[0m\n\u001b[0;32m   1128\u001b[0m             \u001b[1;32mif\u001b[0m \u001b[1;32mnot\u001b[0m \u001b[0mvocabulary\u001b[0m\u001b[1;33m:\u001b[0m\u001b[1;33m\u001b[0m\u001b[1;33m\u001b[0m\u001b[0m\n\u001b[1;32m-> 1129\u001b[1;33m                 raise ValueError(\"empty vocabulary; perhaps the documents only\"\n\u001b[0m\u001b[0;32m   1130\u001b[0m                                  \" contain stop words\")\n",
          "\u001b[1;31mValueError\u001b[0m: empty vocabulary; perhaps the documents only contain stop words",
          "\nDuring handling of the above exception, another exception occurred:\n",
          "\u001b[1;31mSystemExit\u001b[0m                                Traceback (most recent call last)",
          "\u001b[1;32m~\\Anaconda3\\lib\\site-packages\\ipywidgets\\widgets\\interaction.py\u001b[0m in \u001b[0;36mupdate\u001b[1;34m(self, *args)\u001b[0m\n\u001b[0;32m    254\u001b[0m                     \u001b[0mvalue\u001b[0m \u001b[1;33m=\u001b[0m \u001b[0mwidget\u001b[0m\u001b[1;33m.\u001b[0m\u001b[0mget_interact_value\u001b[0m\u001b[1;33m(\u001b[0m\u001b[1;33m)\u001b[0m\u001b[1;33m\u001b[0m\u001b[1;33m\u001b[0m\u001b[0m\n\u001b[0;32m    255\u001b[0m                     \u001b[0mself\u001b[0m\u001b[1;33m.\u001b[0m\u001b[0mkwargs\u001b[0m\u001b[1;33m[\u001b[0m\u001b[0mwidget\u001b[0m\u001b[1;33m.\u001b[0m\u001b[0m_kwarg\u001b[0m\u001b[1;33m]\u001b[0m \u001b[1;33m=\u001b[0m \u001b[0mvalue\u001b[0m\u001b[1;33m\u001b[0m\u001b[1;33m\u001b[0m\u001b[0m\n\u001b[1;32m--> 256\u001b[1;33m                 \u001b[0mself\u001b[0m\u001b[1;33m.\u001b[0m\u001b[0mresult\u001b[0m \u001b[1;33m=\u001b[0m \u001b[0mself\u001b[0m\u001b[1;33m.\u001b[0m\u001b[0mf\u001b[0m\u001b[1;33m(\u001b[0m\u001b[1;33m**\u001b[0m\u001b[0mself\u001b[0m\u001b[1;33m.\u001b[0m\u001b[0mkwargs\u001b[0m\u001b[1;33m)\u001b[0m\u001b[1;33m\u001b[0m\u001b[1;33m\u001b[0m\u001b[0m\n\u001b[0m\u001b[0;32m    257\u001b[0m                 \u001b[0mshow_inline_matplotlib_plots\u001b[0m\u001b[1;33m(\u001b[0m\u001b[1;33m)\u001b[0m\u001b[1;33m\u001b[0m\u001b[1;33m\u001b[0m\u001b[0m\n\u001b[0;32m    258\u001b[0m                 \u001b[1;32mif\u001b[0m \u001b[0mself\u001b[0m\u001b[1;33m.\u001b[0m\u001b[0mauto_display\u001b[0m \u001b[1;32mand\u001b[0m \u001b[0mself\u001b[0m\u001b[1;33m.\u001b[0m\u001b[0mresult\u001b[0m \u001b[1;32mis\u001b[0m \u001b[1;32mnot\u001b[0m \u001b[1;32mNone\u001b[0m\u001b[1;33m:\u001b[0m\u001b[1;33m\u001b[0m\u001b[1;33m\u001b[0m\u001b[0m\n",
          "\u001b[1;32m~\\AppData\\Roaming\\Python\\Python37\\site-packages\\pycaret\\nlp.py\u001b[0m in \u001b[0;36mplot_model\u001b[1;34m(model, plot, topic_num, save, system)\u001b[0m\n\u001b[0;32m   1850\u001b[0m         \u001b[1;32mexcept\u001b[0m\u001b[1;33m:\u001b[0m\u001b[1;33m\u001b[0m\u001b[1;33m\u001b[0m\u001b[0m\n\u001b[0;32m   1851\u001b[0m             \u001b[0mlogger\u001b[0m\u001b[1;33m.\u001b[0m\u001b[0mwarning\u001b[0m\u001b[1;33m(\u001b[0m\u001b[1;34m\"Invalid topic_num param or empty Vocab. Try changing Topic Number.\"\u001b[0m\u001b[1;33m)\u001b[0m\u001b[1;33m\u001b[0m\u001b[1;33m\u001b[0m\u001b[0m\n\u001b[1;32m-> 1852\u001b[1;33m             \u001b[0msys\u001b[0m\u001b[1;33m.\u001b[0m\u001b[0mexit\u001b[0m\u001b[1;33m(\u001b[0m\u001b[1;34m'(Value Error): Invalid topic_num param or empty Vocab. Try changing Topic Number.'\u001b[0m\u001b[1;33m)\u001b[0m\u001b[1;33m\u001b[0m\u001b[1;33m\u001b[0m\u001b[0m\n\u001b[0m\u001b[0;32m   1853\u001b[0m \u001b[1;33m\u001b[0m\u001b[0m\n\u001b[0;32m   1854\u001b[0m \u001b[1;33m\u001b[0m\u001b[0m\n",
          "\u001b[1;31mSystemExit\u001b[0m: (Value Error): Invalid topic_num param or empty Vocab. Try changing Topic Number."
         ]
        }
       ]
      }
     },
     "f0aa0b72c5d34fd6b0fdec52b7bc6792": {
      "model_module": "@jupyter-widgets/controls",
      "model_module_version": "1.5.0",
      "model_name": "ToggleButtonsModel",
      "state": {
       "_options_labels": [
        "Frequency Plot",
        "Bigrams",
        "Trigrams",
        "Sentiment Polarity",
        "Word Cloud"
       ],
       "button_style": "",
       "description": "Plot Type:",
       "icons": [
        ""
       ],
       "index": 1,
       "layout": "IPY_MODEL_b5f64572a64b4acd92ff3f379a591cbf",
       "style": "IPY_MODEL_5b6b8326f0a5417d876abb0002f1a002",
       "tooltips": []
      }
     },
     "f18573d6c3f34538a9334ae261aa7425": {
      "model_module": "@jupyter-widgets/controls",
      "model_module_version": "1.5.0",
      "model_name": "IntProgressModel",
      "state": {
       "description": "Processing: ",
       "layout": "IPY_MODEL_80183cf5fe844d7083166c3250f3fcaa",
       "max": 48,
       "style": "IPY_MODEL_5bcb2f51df654e0f8523e33e88d2609f",
       "value": 48
      }
     },
     "f27b48ee4d564e7b961c6cd5cb814990": {
      "model_module": "@jupyter-widgets/controls",
      "model_module_version": "1.5.0",
      "model_name": "IntProgressModel",
      "state": {
       "description": "Processing: ",
       "layout": "IPY_MODEL_57cac375ec6d4fd3b96900dc60fef2aa",
       "max": 48,
       "style": "IPY_MODEL_923076edcc1f4dd1ae098ee1879c5ad2",
       "value": 48
      }
     },
     "f471eca31f6e48c1bd81b6d2d26b8b72": {
      "model_module": "@jupyter-widgets/base",
      "model_module_version": "1.2.0",
      "model_name": "LayoutModel",
      "state": {}
     },
     "f90aba366131435b94408fae809d8109": {
      "model_module": "@jupyter-widgets/base",
      "model_module_version": "1.2.0",
      "model_name": "LayoutModel",
      "state": {}
     },
     "f998f6135090423c9f6adcabdd644be7": {
      "model_module": "@jupyter-widgets/controls",
      "model_module_version": "1.5.0",
      "model_name": "ProgressStyleModel",
      "state": {
       "description_width": ""
      }
     },
     "f99bff09f5564cecb7aac86ee3ba30f0": {
      "model_module": "@jupyter-widgets/base",
      "model_module_version": "1.2.0",
      "model_name": "LayoutModel",
      "state": {}
     },
     "f9a5a98739fa4ba6a81df3a08ed82c5a": {
      "model_module": "@jupyter-widgets/controls",
      "model_module_version": "1.5.0",
      "model_name": "ButtonStyleModel",
      "state": {}
     },
     "fa30d12576524391bd1a84daf0e5e3e2": {
      "model_module": "@jupyter-widgets/controls",
      "model_module_version": "1.5.0",
      "model_name": "DescriptionStyleModel",
      "state": {
       "description_width": ""
      }
     },
     "fa9507c53bc945c38aa156d272a76a16": {
      "model_module": "@jupyter-widgets/base",
      "model_module_version": "1.2.0",
      "model_name": "LayoutModel",
      "state": {}
     },
     "fae045083bb24cc5b7d9651f5abf55fd": {
      "model_module": "@jupyter-widgets/base",
      "model_module_version": "1.2.0",
      "model_name": "LayoutModel",
      "state": {}
     },
     "fbc08f74a0834df1ac913e55ca9f491b": {
      "model_module": "@jupyter-widgets/output",
      "model_module_version": "1.0.0",
      "model_name": "OutputModel",
      "state": {
       "layout": "IPY_MODEL_d63697bfc5fe40f1946b1f0fafd0982a"
      }
     },
     "fdc6a6ef75b44c73a1349f2dd0d7348a": {
      "model_module": "@jupyter-widgets/controls",
      "model_module_version": "1.5.0",
      "model_name": "ProgressStyleModel",
      "state": {
       "description_width": ""
      }
     },
     "fdd91b2e5fb84437a70dd6b50c6c9eee": {
      "model_module": "@jupyter-widgets/controls",
      "model_module_version": "1.5.0",
      "model_name": "ProgressStyleModel",
      "state": {
       "description_width": ""
      }
     },
     "fe7cffdc36954cb688f49536930c7e11": {
      "model_module": "@jupyter-widgets/base",
      "model_module_version": "1.2.0",
      "model_name": "LayoutModel",
      "state": {}
     }
    },
    "version_major": 2,
    "version_minor": 0
   }
  }
 },
 "nbformat": 4,
 "nbformat_minor": 2
}
