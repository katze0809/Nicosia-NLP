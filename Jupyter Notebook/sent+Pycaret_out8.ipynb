{
 "cells": [
  {
   "cell_type": "code",
   "execution_count": 1,
   "metadata": {},
   "outputs": [],
   "source": [
    "import pandas as pd"
   ]
  },
  {
   "cell_type": "code",
   "execution_count": 2,
   "metadata": {},
   "outputs": [
    {
     "data": {
      "text/html": [
       "<div>\n",
       "<style scoped>\n",
       "    .dataframe tbody tr th:only-of-type {\n",
       "        vertical-align: middle;\n",
       "    }\n",
       "\n",
       "    .dataframe tbody tr th {\n",
       "        vertical-align: top;\n",
       "    }\n",
       "\n",
       "    .dataframe thead th {\n",
       "        text-align: right;\n",
       "    }\n",
       "</style>\n",
       "<table border=\"1\" class=\"dataframe\">\n",
       "  <thead>\n",
       "    <tr style=\"text-align: right;\">\n",
       "      <th></th>\n",
       "      <th>r_points</th>\n",
       "      <th>r_text</th>\n",
       "      <th>place</th>\n",
       "    </tr>\n",
       "  </thead>\n",
       "  <tbody>\n",
       "    <tr>\n",
       "      <th>0</th>\n",
       "      <td>20</td>\n",
       "      <td>If you are a disable person or old person and ...</td>\n",
       "      <td>Nicosia mall</td>\n",
       "    </tr>\n",
       "    <tr>\n",
       "      <th>1</th>\n",
       "      <td>30</td>\n",
       "      <td>This Mall is okay as far as they go, that said...</td>\n",
       "      <td>Nicosia mall</td>\n",
       "    </tr>\n",
       "    <tr>\n",
       "      <th>2</th>\n",
       "      <td>40</td>\n",
       "      <td>As expected for a shopping mall in Cyprus.We h...</td>\n",
       "      <td>Nicosia mall</td>\n",
       "    </tr>\n",
       "    <tr>\n",
       "      <th>3</th>\n",
       "      <td>40</td>\n",
       "      <td>I like Nicosia Mall it's very spacious and eas...</td>\n",
       "      <td>Nicosia mall</td>\n",
       "    </tr>\n",
       "    <tr>\n",
       "      <th>4</th>\n",
       "      <td>40</td>\n",
       "      <td>Nicosia mall is a beautiful new mall with lots...</td>\n",
       "      <td>Nicosia mall</td>\n",
       "    </tr>\n",
       "    <tr>\n",
       "      <th>5</th>\n",
       "      <td>10</td>\n",
       "      <td>Decided to visit Nicosia for the day and we wi...</td>\n",
       "      <td>Nicosia mall</td>\n",
       "    </tr>\n",
       "    <tr>\n",
       "      <th>6</th>\n",
       "      <td>40</td>\n",
       "      <td>Went today and enjoyed the experience. Loads o...</td>\n",
       "      <td>Nicosia mall</td>\n",
       "    </tr>\n",
       "    <tr>\n",
       "      <th>7</th>\n",
       "      <td>50</td>\n",
       "      <td>if you wish to spend your day for shopping and...</td>\n",
       "      <td>Nicosia mall</td>\n",
       "    </tr>\n",
       "    <tr>\n",
       "      <th>8</th>\n",
       "      <td>40</td>\n",
       "      <td>The mall is spacious and has nice shops. I lik...</td>\n",
       "      <td>Nicosia mall</td>\n",
       "    </tr>\n",
       "    <tr>\n",
       "      <th>9</th>\n",
       "      <td>50</td>\n",
       "      <td>A very large shopping center with a lot of sto...</td>\n",
       "      <td>Nicosia mall</td>\n",
       "    </tr>\n",
       "    <tr>\n",
       "      <th>10</th>\n",
       "      <td>40</td>\n",
       "      <td>The new Nicosia mall looks like an exact cut a...</td>\n",
       "      <td>Nicosia mall</td>\n",
       "    </tr>\n",
       "    <tr>\n",
       "      <th>11</th>\n",
       "      <td>50</td>\n",
       "      <td>The biggest mall on the island - there are lit...</td>\n",
       "      <td>Nicosia mall</td>\n",
       "    </tr>\n",
       "    <tr>\n",
       "      <th>12</th>\n",
       "      <td>50</td>\n",
       "      <td>This is definitely the best destination in Cyp...</td>\n",
       "      <td>Nicosia mall</td>\n",
       "    </tr>\n",
       "    <tr>\n",
       "      <th>13</th>\n",
       "      <td>40</td>\n",
       "      <td>Very nice mall with a lot of choises in clothe...</td>\n",
       "      <td>Nicosia mall</td>\n",
       "    </tr>\n",
       "    <tr>\n",
       "      <th>14</th>\n",
       "      <td>20</td>\n",
       "      <td>By UK standards a smallish mall. A good range ...</td>\n",
       "      <td>Nicosia mall</td>\n",
       "    </tr>\n",
       "    <tr>\n",
       "      <th>15</th>\n",
       "      <td>50</td>\n",
       "      <td>Nicosia Mall has been well planned and located...</td>\n",
       "      <td>Nicosia mall</td>\n",
       "    </tr>\n",
       "    <tr>\n",
       "      <th>16</th>\n",
       "      <td>40</td>\n",
       "      <td>Easy parking and many shops to choose from. Fo...</td>\n",
       "      <td>Nicosia mall</td>\n",
       "    </tr>\n",
       "    <tr>\n",
       "      <th>17</th>\n",
       "      <td>40</td>\n",
       "      <td>Very nice restaurant with excellent food, cosy...</td>\n",
       "      <td>Nicosia mall</td>\n",
       "    </tr>\n",
       "    <tr>\n",
       "      <th>18</th>\n",
       "      <td>50</td>\n",
       "      <td>Having travelled to many countries, I have had...</td>\n",
       "      <td>Nicosia mall</td>\n",
       "    </tr>\n",
       "    <tr>\n",
       "      <th>19</th>\n",
       "      <td>50</td>\n",
       "      <td>New and modern Mall in Nicosia. Plenty of beau...</td>\n",
       "      <td>Nicosia mall</td>\n",
       "    </tr>\n",
       "    <tr>\n",
       "      <th>20</th>\n",
       "      <td>50</td>\n",
       "      <td>The best place to go for shopping. Comfortable...</td>\n",
       "      <td>Nicosia mall</td>\n",
       "    </tr>\n",
       "    <tr>\n",
       "      <th>21</th>\n",
       "      <td>40</td>\n",
       "      <td>I have to give 4 or maybe less because of the ...</td>\n",
       "      <td>Nicosia mall</td>\n",
       "    </tr>\n",
       "    <tr>\n",
       "      <th>22</th>\n",
       "      <td>50</td>\n",
       "      <td>Hands down the best shopping experience in cyp...</td>\n",
       "      <td>Nicosia mall</td>\n",
       "    </tr>\n",
       "    <tr>\n",
       "      <th>23</th>\n",
       "      <td>50</td>\n",
       "      <td>An amazing mall, with a huge number of shops f...</td>\n",
       "      <td>Nicosia mall</td>\n",
       "    </tr>\n",
       "    <tr>\n",
       "      <th>24</th>\n",
       "      <td>50</td>\n",
       "      <td>This place is superb. Every dish is delicious ...</td>\n",
       "      <td>Nicosia mall</td>\n",
       "    </tr>\n",
       "    <tr>\n",
       "      <th>25</th>\n",
       "      <td>50</td>\n",
       "      <td>Great Location, very close to nicosia center!V...</td>\n",
       "      <td>Nicosia mall</td>\n",
       "    </tr>\n",
       "    <tr>\n",
       "      <th>26</th>\n",
       "      <td>50</td>\n",
       "      <td>Undisputedly the best mall in Cyprus! Nice sho...</td>\n",
       "      <td>Nicosia mall</td>\n",
       "    </tr>\n",
       "    <tr>\n",
       "      <th>27</th>\n",
       "      <td>50</td>\n",
       "      <td>Finally Nicosia has an amazing destination for...</td>\n",
       "      <td>Nicosia mall</td>\n",
       "    </tr>\n",
       "    <tr>\n",
       "      <th>28</th>\n",
       "      <td>50</td>\n",
       "      <td>Definitely the best mall in Cyprus, and probab...</td>\n",
       "      <td>Nicosia mall</td>\n",
       "    </tr>\n",
       "    <tr>\n",
       "      <th>29</th>\n",
       "      <td>50</td>\n",
       "      <td>Best shopping experience I had in years.Great ...</td>\n",
       "      <td>Nicosia mall</td>\n",
       "    </tr>\n",
       "    <tr>\n",
       "      <th>30</th>\n",
       "      <td>50</td>\n",
       "      <td>one of the most beautiful malls that i have ev...</td>\n",
       "      <td>Nicosia mall</td>\n",
       "    </tr>\n",
       "    <tr>\n",
       "      <th>31</th>\n",
       "      <td>50</td>\n",
       "      <td>We made our Maiden visit to the recently opene...</td>\n",
       "      <td>Nicosia mall</td>\n",
       "    </tr>\n",
       "    <tr>\n",
       "      <th>32</th>\n",
       "      <td>50</td>\n",
       "      <td>Incredible mall with a fantastic selection of ...</td>\n",
       "      <td>Nicosia mall</td>\n",
       "    </tr>\n",
       "  </tbody>\n",
       "</table>\n",
       "</div>"
      ],
      "text/plain": [
       "    r_points                                             r_text         place\n",
       "0         20  If you are a disable person or old person and ...  Nicosia mall\n",
       "1         30  This Mall is okay as far as they go, that said...  Nicosia mall\n",
       "2         40  As expected for a shopping mall in Cyprus.We h...  Nicosia mall\n",
       "3         40  I like Nicosia Mall it's very spacious and eas...  Nicosia mall\n",
       "4         40  Nicosia mall is a beautiful new mall with lots...  Nicosia mall\n",
       "5         10  Decided to visit Nicosia for the day and we wi...  Nicosia mall\n",
       "6         40  Went today and enjoyed the experience. Loads o...  Nicosia mall\n",
       "7         50  if you wish to spend your day for shopping and...  Nicosia mall\n",
       "8         40  The mall is spacious and has nice shops. I lik...  Nicosia mall\n",
       "9         50  A very large shopping center with a lot of sto...  Nicosia mall\n",
       "10        40  The new Nicosia mall looks like an exact cut a...  Nicosia mall\n",
       "11        50  The biggest mall on the island - there are lit...  Nicosia mall\n",
       "12        50  This is definitely the best destination in Cyp...  Nicosia mall\n",
       "13        40  Very nice mall with a lot of choises in clothe...  Nicosia mall\n",
       "14        20  By UK standards a smallish mall. A good range ...  Nicosia mall\n",
       "15        50  Nicosia Mall has been well planned and located...  Nicosia mall\n",
       "16        40  Easy parking and many shops to choose from. Fo...  Nicosia mall\n",
       "17        40  Very nice restaurant with excellent food, cosy...  Nicosia mall\n",
       "18        50  Having travelled to many countries, I have had...  Nicosia mall\n",
       "19        50  New and modern Mall in Nicosia. Plenty of beau...  Nicosia mall\n",
       "20        50  The best place to go for shopping. Comfortable...  Nicosia mall\n",
       "21        40  I have to give 4 or maybe less because of the ...  Nicosia mall\n",
       "22        50  Hands down the best shopping experience in cyp...  Nicosia mall\n",
       "23        50  An amazing mall, with a huge number of shops f...  Nicosia mall\n",
       "24        50  This place is superb. Every dish is delicious ...  Nicosia mall\n",
       "25        50  Great Location, very close to nicosia center!V...  Nicosia mall\n",
       "26        50  Undisputedly the best mall in Cyprus! Nice sho...  Nicosia mall\n",
       "27        50  Finally Nicosia has an amazing destination for...  Nicosia mall\n",
       "28        50  Definitely the best mall in Cyprus, and probab...  Nicosia mall\n",
       "29        50  Best shopping experience I had in years.Great ...  Nicosia mall\n",
       "30        50  one of the most beautiful malls that i have ev...  Nicosia mall\n",
       "31        50  We made our Maiden visit to the recently opene...  Nicosia mall\n",
       "32        50  Incredible mall with a fantastic selection of ...  Nicosia mall"
      ]
     },
     "execution_count": 2,
     "metadata": {},
     "output_type": "execute_result"
    }
   ],
   "source": [
    "tripadv_review = pd.read_csv(r'C:\\Users\\Dell\\Desktop\\Attractions\\Nicosia Mall.csv', error_bad_lines=False);\n",
    "tripadv_review"
   ]
  },
  {
   "cell_type": "code",
   "execution_count": 3,
   "metadata": {},
   "outputs": [
    {
     "name": "stderr",
     "output_type": "stream",
     "text": [
      "[nltk_data] Downloading package vader_lexicon to\n",
      "[nltk_data]     C:\\Users\\Dell\\AppData\\Roaming\\nltk_data...\n",
      "[nltk_data]   Package vader_lexicon is already up-to-date!\n"
     ]
    }
   ],
   "source": [
    "import nltk\n",
    "nltk.download('vader_lexicon')\n",
    "from nltk.sentiment.vader import SentimentIntensityAnalyzer\n",
    "sent = SentimentIntensityAnalyzer()"
   ]
  },
  {
   "cell_type": "code",
   "execution_count": 7,
   "metadata": {},
   "outputs": [
    {
     "data": {
      "text/plain": [
       "{'neg': 0.026, 'neu': 0.942, 'pos': 0.031, 'compound': 0.1027}"
      ]
     },
     "execution_count": 7,
     "metadata": {},
     "output_type": "execute_result"
    }
   ],
   "source": [
    "sent.polarity_scores(tripadv_review.iloc[0]['r_text'])"
   ]
  },
  {
   "cell_type": "code",
   "execution_count": 8,
   "metadata": {},
   "outputs": [
    {
     "data": {
      "text/html": [
       "<div>\n",
       "<style scoped>\n",
       "    .dataframe tbody tr th:only-of-type {\n",
       "        vertical-align: middle;\n",
       "    }\n",
       "\n",
       "    .dataframe tbody tr th {\n",
       "        vertical-align: top;\n",
       "    }\n",
       "\n",
       "    .dataframe thead th {\n",
       "        text-align: right;\n",
       "    }\n",
       "</style>\n",
       "<table border=\"1\" class=\"dataframe\">\n",
       "  <thead>\n",
       "    <tr style=\"text-align: right;\">\n",
       "      <th></th>\n",
       "      <th>r_points</th>\n",
       "      <th>r_text</th>\n",
       "      <th>place</th>\n",
       "      <th>scores</th>\n",
       "      <th>compound</th>\n",
       "      <th>score</th>\n",
       "    </tr>\n",
       "  </thead>\n",
       "  <tbody>\n",
       "    <tr>\n",
       "      <th>0</th>\n",
       "      <td>20</td>\n",
       "      <td>If you are a disable person or old person and ...</td>\n",
       "      <td>Nicosia mall</td>\n",
       "      <td>{'neg': 0.026, 'neu': 0.942, 'pos': 0.031, 'co...</td>\n",
       "      <td>0.1027</td>\n",
       "      <td>pos</td>\n",
       "    </tr>\n",
       "    <tr>\n",
       "      <th>1</th>\n",
       "      <td>30</td>\n",
       "      <td>This Mall is okay as far as they go, that said...</td>\n",
       "      <td>Nicosia mall</td>\n",
       "      <td>{'neg': 0.0, 'neu': 0.814, 'pos': 0.186, 'comp...</td>\n",
       "      <td>0.7269</td>\n",
       "      <td>pos</td>\n",
       "    </tr>\n",
       "    <tr>\n",
       "      <th>2</th>\n",
       "      <td>40</td>\n",
       "      <td>As expected for a shopping mall in Cyprus.We h...</td>\n",
       "      <td>Nicosia mall</td>\n",
       "      <td>{'neg': 0.167, 'neu': 0.833, 'pos': 0.0, 'comp...</td>\n",
       "      <td>-0.8131</td>\n",
       "      <td>neg</td>\n",
       "    </tr>\n",
       "    <tr>\n",
       "      <th>3</th>\n",
       "      <td>40</td>\n",
       "      <td>I like Nicosia Mall it's very spacious and eas...</td>\n",
       "      <td>Nicosia mall</td>\n",
       "      <td>{'neg': 0.0, 'neu': 0.632, 'pos': 0.368, 'comp...</td>\n",
       "      <td>0.8925</td>\n",
       "      <td>pos</td>\n",
       "    </tr>\n",
       "    <tr>\n",
       "      <th>4</th>\n",
       "      <td>40</td>\n",
       "      <td>Nicosia mall is a beautiful new mall with lots...</td>\n",
       "      <td>Nicosia mall</td>\n",
       "      <td>{'neg': 0.0, 'neu': 0.83, 'pos': 0.17, 'compou...</td>\n",
       "      <td>0.5994</td>\n",
       "      <td>pos</td>\n",
       "    </tr>\n",
       "  </tbody>\n",
       "</table>\n",
       "</div>"
      ],
      "text/plain": [
       "   r_points                                             r_text         place  \\\n",
       "0        20  If you are a disable person or old person and ...  Nicosia mall   \n",
       "1        30  This Mall is okay as far as they go, that said...  Nicosia mall   \n",
       "2        40  As expected for a shopping mall in Cyprus.We h...  Nicosia mall   \n",
       "3        40  I like Nicosia Mall it's very spacious and eas...  Nicosia mall   \n",
       "4        40  Nicosia mall is a beautiful new mall with lots...  Nicosia mall   \n",
       "\n",
       "                                              scores  compound score  \n",
       "0  {'neg': 0.026, 'neu': 0.942, 'pos': 0.031, 'co...    0.1027   pos  \n",
       "1  {'neg': 0.0, 'neu': 0.814, 'pos': 0.186, 'comp...    0.7269   pos  \n",
       "2  {'neg': 0.167, 'neu': 0.833, 'pos': 0.0, 'comp...   -0.8131   neg  \n",
       "3  {'neg': 0.0, 'neu': 0.632, 'pos': 0.368, 'comp...    0.8925   pos  \n",
       "4  {'neg': 0.0, 'neu': 0.83, 'pos': 0.17, 'compou...    0.5994   pos  "
      ]
     },
     "execution_count": 8,
     "metadata": {},
     "output_type": "execute_result"
    }
   ],
   "source": [
    "tripadv_review['scores'] = tripadv_review['r_text'].apply(lambda review:sent.polarity_scores(review))\n",
    "tripadv_review['compound'] = tripadv_review['scores'].apply(lambda d:d['compound'])\n",
    "tripadv_review['score'] = tripadv_review['compound'].apply(lambda score: 'pos' if score >=0 else 'neg')\n",
    "tripadv_review.head()"
   ]
  },
  {
   "cell_type": "code",
   "execution_count": 9,
   "metadata": {},
   "outputs": [],
   "source": [
    "tripadv_review.to_csv(r'C:\\Users\\Dell\\Desktop\\sentiment_out8.csv')"
   ]
  },
  {
   "cell_type": "code",
   "execution_count": 10,
   "metadata": {},
   "outputs": [],
   "source": [
    "pos_rev=tripadv_review[(tripadv_review['score'] .str.contains('pos'))]\n",
    "pos_rev.to_csv(r'C:\\Users\\Dell\\Desktop\\sentiment_out8_pos.csv')\n",
    "neg_rev=tripadv_review[(tripadv_review['score'] .str.contains('neg'))]\n",
    "neg_rev.to_csv(r'C:\\Users\\Dell\\Desktop\\sentiment_out8_neg.csv')"
   ]
  },
  {
   "cell_type": "code",
   "execution_count": 11,
   "metadata": {},
   "outputs": [],
   "source": [
    "pos_review_imp= pd.read_csv(r'C:\\Users\\Dell\\Desktop\\sentiment_out8_pos.csv')\n",
    "neg_review_imp = pd.read_csv(r'C:\\Users\\Dell\\Desktop\\sentiment_out8_neg.csv')"
   ]
  },
  {
   "cell_type": "code",
   "execution_count": 12,
   "metadata": {},
   "outputs": [],
   "source": [
    "from pycaret.nlp import *"
   ]
  },
  {
   "cell_type": "code",
   "execution_count": 13,
   "metadata": {},
   "outputs": [
    {
     "data": {
      "text/html": [
       "<style  type=\"text/css\" >\n",
       "</style><table id=\"T_7b5a64f6_301c_11eb_bfe3_c48e8ff9d2e0\" ><thead>    <tr>        <th class=\"col_heading level0 col0\" >Description</th>        <th class=\"col_heading level0 col1\" >Value</th>    </tr></thead><tbody>\n",
       "                <tr>\n",
       "                                <td id=\"T_7b5a64f6_301c_11eb_bfe3_c48e8ff9d2e0row0_col0\" class=\"data row0 col0\" >session_id</td>\n",
       "                        <td id=\"T_7b5a64f6_301c_11eb_bfe3_c48e8ff9d2e0row0_col1\" class=\"data row0 col1\" >7433</td>\n",
       "            </tr>\n",
       "            <tr>\n",
       "                                <td id=\"T_7b5a64f6_301c_11eb_bfe3_c48e8ff9d2e0row1_col0\" class=\"data row1 col0\" >Documents</td>\n",
       "                        <td id=\"T_7b5a64f6_301c_11eb_bfe3_c48e8ff9d2e0row1_col1\" class=\"data row1 col1\" >32</td>\n",
       "            </tr>\n",
       "            <tr>\n",
       "                                <td id=\"T_7b5a64f6_301c_11eb_bfe3_c48e8ff9d2e0row2_col0\" class=\"data row2 col0\" >Vocab Size</td>\n",
       "                        <td id=\"T_7b5a64f6_301c_11eb_bfe3_c48e8ff9d2e0row2_col1\" class=\"data row2 col1\" >372</td>\n",
       "            </tr>\n",
       "            <tr>\n",
       "                                <td id=\"T_7b5a64f6_301c_11eb_bfe3_c48e8ff9d2e0row3_col0\" class=\"data row3 col0\" >Custom Stopwords</td>\n",
       "                        <td id=\"T_7b5a64f6_301c_11eb_bfe3_c48e8ff9d2e0row3_col1\" class=\"data row3 col1\" >True</td>\n",
       "            </tr>\n",
       "    </tbody></table>"
      ],
      "text/plain": [
       "<pandas.io.formats.style.Styler at 0x27330613148>"
      ]
     },
     "metadata": {},
     "output_type": "display_data"
    }
   ],
   "source": [
    "exp_nlp = setup(data = pos_review_imp, target = 'r_text',\n",
    "                custom_stopwords = [ 'hotel', 'room', 'nice', 'good', 'excellent','restaurant', 'food'])"
   ]
  },
  {
   "cell_type": "code",
   "execution_count": 14,
   "metadata": {},
   "outputs": [
    {
     "name": "stdout",
     "output_type": "stream",
     "text": [
      "LdaModel(num_terms=372, num_topics=4, decay=0.5, chunksize=100)\n"
     ]
    }
   ],
   "source": [
    "#create an LDA model\n",
    "lda_pos_custom = create_model('lda')\n",
    "print(lda_pos_custom)"
   ]
  },
  {
   "cell_type": "code",
   "execution_count": 15,
   "metadata": {},
   "outputs": [
    {
     "data": {
      "text/html": [
       "<div>\n",
       "<style scoped>\n",
       "    .dataframe tbody tr th:only-of-type {\n",
       "        vertical-align: middle;\n",
       "    }\n",
       "\n",
       "    .dataframe tbody tr th {\n",
       "        vertical-align: top;\n",
       "    }\n",
       "\n",
       "    .dataframe thead th {\n",
       "        text-align: right;\n",
       "    }\n",
       "</style>\n",
       "<table border=\"1\" class=\"dataframe\">\n",
       "  <thead>\n",
       "    <tr style=\"text-align: right;\">\n",
       "      <th></th>\n",
       "      <th>Unnamed: 0</th>\n",
       "      <th>r_points</th>\n",
       "      <th>r_text</th>\n",
       "      <th>place</th>\n",
       "      <th>scores</th>\n",
       "      <th>compound</th>\n",
       "      <th>score</th>\n",
       "      <th>Topic_0</th>\n",
       "      <th>Topic_1</th>\n",
       "      <th>Topic_2</th>\n",
       "      <th>Topic_3</th>\n",
       "      <th>Dominant_Topic</th>\n",
       "      <th>Perc_Dominant_Topic</th>\n",
       "    </tr>\n",
       "  </thead>\n",
       "  <tbody>\n",
       "    <tr>\n",
       "      <th>0</th>\n",
       "      <td>0</td>\n",
       "      <td>20</td>\n",
       "      <td>disable person old person need service disable...</td>\n",
       "      <td>Nicosia mall</td>\n",
       "      <td>{'neg': 0.026, 'neu': 0.942, 'pos': 0.031, 'co...</td>\n",
       "      <td>0.1027</td>\n",
       "      <td>pos</td>\n",
       "      <td>0.995517</td>\n",
       "      <td>0.001376</td>\n",
       "      <td>0.001719</td>\n",
       "      <td>0.001389</td>\n",
       "      <td>Topic 0</td>\n",
       "      <td>1.00</td>\n",
       "    </tr>\n",
       "    <tr>\n",
       "      <th>1</th>\n",
       "      <td>1</td>\n",
       "      <td>30</td>\n",
       "      <td>mall far go say fairly expensive shop vat free...</td>\n",
       "      <td>Nicosia mall</td>\n",
       "      <td>{'neg': 0.0, 'neu': 0.814, 'pos': 0.186, 'comp...</td>\n",
       "      <td>0.7269</td>\n",
       "      <td>pos</td>\n",
       "      <td>0.006216</td>\n",
       "      <td>0.986602</td>\n",
       "      <td>0.003973</td>\n",
       "      <td>0.003209</td>\n",
       "      <td>Topic 1</td>\n",
       "      <td>0.99</td>\n",
       "    </tr>\n",
       "    <tr>\n",
       "      <th>2</th>\n",
       "      <td>3</td>\n",
       "      <td>40</td>\n",
       "      <td>park helpful staff shop selection place eat al...</td>\n",
       "      <td>Nicosia mall</td>\n",
       "      <td>{'neg': 0.0, 'neu': 0.632, 'pos': 0.368, 'comp...</td>\n",
       "      <td>0.8925</td>\n",
       "      <td>pos</td>\n",
       "      <td>0.008426</td>\n",
       "      <td>0.004310</td>\n",
       "      <td>0.982914</td>\n",
       "      <td>0.004350</td>\n",
       "      <td>Topic 2</td>\n",
       "      <td>0.98</td>\n",
       "    </tr>\n",
       "    <tr>\n",
       "      <th>3</th>\n",
       "      <td>4</td>\n",
       "      <td>40</td>\n",
       "      <td>new mall lot shop choose unique one</td>\n",
       "      <td>Nicosia mall</td>\n",
       "      <td>{'neg': 0.0, 'neu': 0.83, 'pos': 0.17, 'compou...</td>\n",
       "      <td>0.5994</td>\n",
       "      <td>pos</td>\n",
       "      <td>0.978208</td>\n",
       "      <td>0.006687</td>\n",
       "      <td>0.008356</td>\n",
       "      <td>0.006749</td>\n",
       "      <td>Topic 0</td>\n",
       "      <td>0.98</td>\n",
       "    </tr>\n",
       "    <tr>\n",
       "      <th>4</th>\n",
       "      <td>5</td>\n",
       "      <td>10</td>\n",
       "      <td>decide visit day waste day feel really uncomfo...</td>\n",
       "      <td>Nicosia mall</td>\n",
       "      <td>{'neg': 0.093, 'neu': 0.799, 'pos': 0.108, 'co...</td>\n",
       "      <td>0.3197</td>\n",
       "      <td>pos</td>\n",
       "      <td>0.002939</td>\n",
       "      <td>0.993664</td>\n",
       "      <td>0.001879</td>\n",
       "      <td>0.001518</td>\n",
       "      <td>Topic 1</td>\n",
       "      <td>0.99</td>\n",
       "    </tr>\n",
       "    <tr>\n",
       "      <th>5</th>\n",
       "      <td>6</td>\n",
       "      <td>40</td>\n",
       "      <td>go today enjoy experience load shop cater budg...</td>\n",
       "      <td>Nicosia mall</td>\n",
       "      <td>{'neg': 0.0, 'neu': 0.775, 'pos': 0.225, 'comp...</td>\n",
       "      <td>0.8126</td>\n",
       "      <td>pos</td>\n",
       "      <td>0.989638</td>\n",
       "      <td>0.003180</td>\n",
       "      <td>0.003973</td>\n",
       "      <td>0.003209</td>\n",
       "      <td>Topic 0</td>\n",
       "      <td>0.99</td>\n",
       "    </tr>\n",
       "    <tr>\n",
       "      <th>6</th>\n",
       "      <td>7</td>\n",
       "      <td>50</td>\n",
       "      <td>wish spend day shopping shop cheap parking con...</td>\n",
       "      <td>Nicosia mall</td>\n",
       "      <td>{'neg': 0.0, 'neu': 0.909, 'pos': 0.091, 'comp...</td>\n",
       "      <td>0.6239</td>\n",
       "      <td>pos</td>\n",
       "      <td>0.988911</td>\n",
       "      <td>0.003403</td>\n",
       "      <td>0.004252</td>\n",
       "      <td>0.003434</td>\n",
       "      <td>Topic 0</td>\n",
       "      <td>0.99</td>\n",
       "    </tr>\n",
       "    <tr>\n",
       "      <th>7</th>\n",
       "      <td>8</td>\n",
       "      <td>40</td>\n",
       "      <td>spacious shop like mainly rio cinema comfortab...</td>\n",
       "      <td>Nicosia mall</td>\n",
       "      <td>{'neg': 0.0, 'neu': 0.671, 'pos': 0.329, 'comp...</td>\n",
       "      <td>0.9682</td>\n",
       "      <td>pos</td>\n",
       "      <td>0.003134</td>\n",
       "      <td>0.001603</td>\n",
       "      <td>0.002003</td>\n",
       "      <td>0.993260</td>\n",
       "      <td>Topic 3</td>\n",
       "      <td>0.99</td>\n",
       "    </tr>\n",
       "    <tr>\n",
       "      <th>8</th>\n",
       "      <td>9</td>\n",
       "      <td>50</td>\n",
       "      <td>large shopping center lot store place eat also...</td>\n",
       "      <td>Nicosia mall</td>\n",
       "      <td>{'neg': 0.0, 'neu': 1.0, 'pos': 0.0, 'compound...</td>\n",
       "      <td>0.0000</td>\n",
       "      <td>pos</td>\n",
       "      <td>0.010247</td>\n",
       "      <td>0.005241</td>\n",
       "      <td>0.979222</td>\n",
       "      <td>0.005290</td>\n",
       "      <td>Topic 2</td>\n",
       "      <td>0.98</td>\n",
       "    </tr>\n",
       "    <tr>\n",
       "      <th>9</th>\n",
       "      <td>10</td>\n",
       "      <td>40</td>\n",
       "      <td>look exact cut paste copy shop layout almost i...</td>\n",
       "      <td>Nicosia mall</td>\n",
       "      <td>{'neg': 0.039, 'neu': 0.787, 'pos': 0.173, 'co...</td>\n",
       "      <td>0.6459</td>\n",
       "      <td>pos</td>\n",
       "      <td>0.006216</td>\n",
       "      <td>0.003180</td>\n",
       "      <td>0.987396</td>\n",
       "      <td>0.003209</td>\n",
       "      <td>Topic 2</td>\n",
       "      <td>0.99</td>\n",
       "    </tr>\n",
       "    <tr>\n",
       "      <th>10</th>\n",
       "      <td>11</td>\n",
       "      <td>50</td>\n",
       "      <td>big mall island literally hundred choice shop ...</td>\n",
       "      <td>Nicosia mall</td>\n",
       "      <td>{'neg': 0.0, 'neu': 0.786, 'pos': 0.214, 'comp...</td>\n",
       "      <td>0.9651</td>\n",
       "      <td>pos</td>\n",
       "      <td>0.002355</td>\n",
       "      <td>0.001205</td>\n",
       "      <td>0.995224</td>\n",
       "      <td>0.001216</td>\n",
       "      <td>Topic 2</td>\n",
       "      <td>1.00</td>\n",
       "    </tr>\n",
       "    <tr>\n",
       "      <th>11</th>\n",
       "      <td>12</td>\n",
       "      <td>50</td>\n",
       "      <td>definitely destination shop well leisure far b...</td>\n",
       "      <td>Nicosia mall</td>\n",
       "      <td>{'neg': 0.0, 'neu': 0.728, 'pos': 0.272, 'comp...</td>\n",
       "      <td>0.9892</td>\n",
       "      <td>pos</td>\n",
       "      <td>0.001685</td>\n",
       "      <td>0.996367</td>\n",
       "      <td>0.001077</td>\n",
       "      <td>0.000870</td>\n",
       "      <td>Topic 1</td>\n",
       "      <td>1.00</td>\n",
       "    </tr>\n",
       "    <tr>\n",
       "      <th>12</th>\n",
       "      <td>13</td>\n",
       "      <td>40</td>\n",
       "      <td>mall lot choise clothe shoe shop shop clothe s...</td>\n",
       "      <td>Nicosia mall</td>\n",
       "      <td>{'neg': 0.0, 'neu': 0.869, 'pos': 0.131, 'comp...</td>\n",
       "      <td>0.6801</td>\n",
       "      <td>pos</td>\n",
       "      <td>0.989638</td>\n",
       "      <td>0.003180</td>\n",
       "      <td>0.003973</td>\n",
       "      <td>0.003209</td>\n",
       "      <td>Topic 0</td>\n",
       "      <td>0.99</td>\n",
       "    </tr>\n",
       "    <tr>\n",
       "      <th>13</th>\n",
       "      <td>14</td>\n",
       "      <td>20</td>\n",
       "      <td>mall range clothe shop island little child caf...</td>\n",
       "      <td>Nicosia mall</td>\n",
       "      <td>{'neg': 0.0, 'neu': 0.743, 'pos': 0.257, 'comp...</td>\n",
       "      <td>0.9643</td>\n",
       "      <td>pos</td>\n",
       "      <td>0.994201</td>\n",
       "      <td>0.001780</td>\n",
       "      <td>0.002224</td>\n",
       "      <td>0.001796</td>\n",
       "      <td>Topic 0</td>\n",
       "      <td>0.99</td>\n",
       "    </tr>\n",
       "    <tr>\n",
       "      <th>14</th>\n",
       "      <td>15</td>\n",
       "      <td>50</td>\n",
       "      <td>well plan locate main tourist business area ma...</td>\n",
       "      <td>Nicosia mall</td>\n",
       "      <td>{'neg': 0.0, 'neu': 0.793, 'pos': 0.207, 'comp...</td>\n",
       "      <td>0.9558</td>\n",
       "      <td>pos</td>\n",
       "      <td>0.995868</td>\n",
       "      <td>0.001268</td>\n",
       "      <td>0.001584</td>\n",
       "      <td>0.001280</td>\n",
       "      <td>Topic 0</td>\n",
       "      <td>1.00</td>\n",
       "    </tr>\n",
       "    <tr>\n",
       "      <th>15</th>\n",
       "      <td>16</td>\n",
       "      <td>40</td>\n",
       "      <td>easy parking many shop choose court selection ...</td>\n",
       "      <td>Nicosia mall</td>\n",
       "      <td>{'neg': 0.0, 'neu': 0.687, 'pos': 0.313, 'comp...</td>\n",
       "      <td>0.8619</td>\n",
       "      <td>pos</td>\n",
       "      <td>0.987101</td>\n",
       "      <td>0.003958</td>\n",
       "      <td>0.004946</td>\n",
       "      <td>0.003995</td>\n",
       "      <td>Topic 0</td>\n",
       "      <td>0.99</td>\n",
       "    </tr>\n",
       "    <tr>\n",
       "      <th>16</th>\n",
       "      <td>17</td>\n",
       "      <td>40</td>\n",
       "      <td>service staff friendly</td>\n",
       "      <td>Nicosia mall</td>\n",
       "      <td>{'neg': 0.0, 'neu': 0.455, 'pos': 0.545, 'comp...</td>\n",
       "      <td>0.9214</td>\n",
       "      <td>pos</td>\n",
       "      <td>0.951411</td>\n",
       "      <td>0.014909</td>\n",
       "      <td>0.018632</td>\n",
       "      <td>0.015048</td>\n",
       "      <td>Topic 0</td>\n",
       "      <td>0.95</td>\n",
       "    </tr>\n",
       "    <tr>\n",
       "      <th>17</th>\n",
       "      <td>18</td>\n",
       "      <td>50</td>\n",
       "      <td>travel many country chance visit many mall rig...</td>\n",
       "      <td>Nicosia mall</td>\n",
       "      <td>{'neg': 0.0, 'neu': 0.888, 'pos': 0.112, 'comp...</td>\n",
       "      <td>0.8442</td>\n",
       "      <td>pos</td>\n",
       "      <td>0.002851</td>\n",
       "      <td>0.993854</td>\n",
       "      <td>0.001823</td>\n",
       "      <td>0.001472</td>\n",
       "      <td>Topic 1</td>\n",
       "      <td>0.99</td>\n",
       "    </tr>\n",
       "    <tr>\n",
       "      <th>18</th>\n",
       "      <td>19</td>\n",
       "      <td>50</td>\n",
       "      <td>new modern beautiful shop ambiance also shop w...</td>\n",
       "      <td>Nicosia mall</td>\n",
       "      <td>{'neg': 0.0, 'neu': 0.613, 'pos': 0.387, 'comp...</td>\n",
       "      <td>0.8998</td>\n",
       "      <td>pos</td>\n",
       "      <td>0.982919</td>\n",
       "      <td>0.005241</td>\n",
       "      <td>0.006550</td>\n",
       "      <td>0.005290</td>\n",
       "      <td>Topic 0</td>\n",
       "      <td>0.98</td>\n",
       "    </tr>\n",
       "    <tr>\n",
       "      <th>19</th>\n",
       "      <td>20</td>\n",
       "      <td>50</td>\n",
       "      <td>place go shopping comfortable shopper friendly...</td>\n",
       "      <td>Nicosia mall</td>\n",
       "      <td>{'neg': 0.0, 'neu': 0.769, 'pos': 0.231, 'comp...</td>\n",
       "      <td>0.9635</td>\n",
       "      <td>pos</td>\n",
       "      <td>0.002940</td>\n",
       "      <td>0.001504</td>\n",
       "      <td>0.001879</td>\n",
       "      <td>0.993678</td>\n",
       "      <td>Topic 3</td>\n",
       "      <td>0.99</td>\n",
       "    </tr>\n",
       "    <tr>\n",
       "      <th>20</th>\n",
       "      <td>21</td>\n",
       "      <td>40</td>\n",
       "      <td>give maybe less parking go afternoon car park ...</td>\n",
       "      <td>Nicosia mall</td>\n",
       "      <td>{'neg': 0.024, 'neu': 0.877, 'pos': 0.099, 'co...</td>\n",
       "      <td>0.9437</td>\n",
       "      <td>pos</td>\n",
       "      <td>0.001167</td>\n",
       "      <td>0.000597</td>\n",
       "      <td>0.000746</td>\n",
       "      <td>0.997490</td>\n",
       "      <td>Topic 3</td>\n",
       "      <td>1.00</td>\n",
       "    </tr>\n",
       "    <tr>\n",
       "      <th>21</th>\n",
       "      <td>22</td>\n",
       "      <td>50</td>\n",
       "      <td>hand shopping experience choice brand great sh...</td>\n",
       "      <td>Nicosia mall</td>\n",
       "      <td>{'neg': 0.0, 'neu': 0.52, 'pos': 0.48, 'compou...</td>\n",
       "      <td>0.9186</td>\n",
       "      <td>pos</td>\n",
       "      <td>0.011488</td>\n",
       "      <td>0.005876</td>\n",
       "      <td>0.976705</td>\n",
       "      <td>0.005931</td>\n",
       "      <td>Topic 2</td>\n",
       "      <td>0.98</td>\n",
       "    </tr>\n",
       "    <tr>\n",
       "      <th>22</th>\n",
       "      <td>23</td>\n",
       "      <td>50</td>\n",
       "      <td>amazing mall huge number shop need layout func...</td>\n",
       "      <td>Nicosia mall</td>\n",
       "      <td>{'neg': 0.028, 'neu': 0.735, 'pos': 0.237, 'co...</td>\n",
       "      <td>0.9347</td>\n",
       "      <td>pos</td>\n",
       "      <td>0.003356</td>\n",
       "      <td>0.001717</td>\n",
       "      <td>0.002145</td>\n",
       "      <td>0.992783</td>\n",
       "      <td>Topic 3</td>\n",
       "      <td>0.99</td>\n",
       "    </tr>\n",
       "    <tr>\n",
       "      <th>23</th>\n",
       "      <td>24</td>\n",
       "      <td>50</td>\n",
       "      <td>place dish delicious portion extremely generou...</td>\n",
       "      <td>Nicosia mall</td>\n",
       "      <td>{'neg': 0.0, 'neu': 0.79, 'pos': 0.21, 'compou...</td>\n",
       "      <td>0.9556</td>\n",
       "      <td>pos</td>\n",
       "      <td>0.003355</td>\n",
       "      <td>0.001717</td>\n",
       "      <td>0.993195</td>\n",
       "      <td>0.001733</td>\n",
       "      <td>Topic 2</td>\n",
       "      <td>0.99</td>\n",
       "    </tr>\n",
       "    <tr>\n",
       "      <th>24</th>\n",
       "      <td>25</td>\n",
       "      <td>50</td>\n",
       "      <td>great location variety shop pow shop floor lov...</td>\n",
       "      <td>Nicosia mall</td>\n",
       "      <td>{'neg': 0.0, 'neu': 0.82, 'pos': 0.18, 'compou...</td>\n",
       "      <td>0.9227</td>\n",
       "      <td>pos</td>\n",
       "      <td>0.993980</td>\n",
       "      <td>0.001847</td>\n",
       "      <td>0.002309</td>\n",
       "      <td>0.001865</td>\n",
       "      <td>Topic 0</td>\n",
       "      <td>0.99</td>\n",
       "    </tr>\n",
       "    <tr>\n",
       "      <th>25</th>\n",
       "      <td>26</td>\n",
       "      <td>50</td>\n",
       "      <td>undisputedly shop court find wide range shop t...</td>\n",
       "      <td>Nicosia mall</td>\n",
       "      <td>{'neg': 0.0, 'neu': 0.716, 'pos': 0.284, 'comp...</td>\n",
       "      <td>0.9227</td>\n",
       "      <td>pos</td>\n",
       "      <td>0.006216</td>\n",
       "      <td>0.003180</td>\n",
       "      <td>0.003973</td>\n",
       "      <td>0.986631</td>\n",
       "      <td>Topic 3</td>\n",
       "      <td>0.99</td>\n",
       "    </tr>\n",
       "    <tr>\n",
       "      <th>26</th>\n",
       "      <td>27</td>\n",
       "      <td>50</td>\n",
       "      <td>finally nicosia amazing destination whole fami...</td>\n",
       "      <td>Nicosia mall</td>\n",
       "      <td>{'neg': 0.0, 'neu': 0.674, 'pos': 0.326, 'comp...</td>\n",
       "      <td>0.9432</td>\n",
       "      <td>pos</td>\n",
       "      <td>0.004461</td>\n",
       "      <td>0.002282</td>\n",
       "      <td>0.990954</td>\n",
       "      <td>0.002303</td>\n",
       "      <td>Topic 2</td>\n",
       "      <td>0.99</td>\n",
       "    </tr>\n",
       "    <tr>\n",
       "      <th>27</th>\n",
       "      <td>28</td>\n",
       "      <td>50</td>\n",
       "      <td>definitely mall probably mall perfect amount c...</td>\n",
       "      <td>Nicosia mall</td>\n",
       "      <td>{'neg': 0.0, 'neu': 0.486, 'pos': 0.514, 'comp...</td>\n",
       "      <td>0.9810</td>\n",
       "      <td>pos</td>\n",
       "      <td>0.005833</td>\n",
       "      <td>0.002984</td>\n",
       "      <td>0.988171</td>\n",
       "      <td>0.003012</td>\n",
       "      <td>Topic 2</td>\n",
       "      <td>0.99</td>\n",
       "    </tr>\n",
       "    <tr>\n",
       "      <th>28</th>\n",
       "      <td>29</td>\n",
       "      <td>50</td>\n",
       "      <td>best shopping experience year great shop great...</td>\n",
       "      <td>Nicosia mall</td>\n",
       "      <td>{'neg': 0.048, 'neu': 0.55, 'pos': 0.402, 'com...</td>\n",
       "      <td>0.9567</td>\n",
       "      <td>pos</td>\n",
       "      <td>0.004077</td>\n",
       "      <td>0.991211</td>\n",
       "      <td>0.002606</td>\n",
       "      <td>0.002105</td>\n",
       "      <td>Topic 1</td>\n",
       "      <td>0.99</td>\n",
       "    </tr>\n",
       "    <tr>\n",
       "      <th>29</th>\n",
       "      <td>30</td>\n",
       "      <td>50</td>\n",
       "      <td>beautiful mall ever visit find want well</td>\n",
       "      <td>Nicosia mall</td>\n",
       "      <td>{'neg': 0.0, 'neu': 0.654, 'pos': 0.346, 'comp...</td>\n",
       "      <td>0.8161</td>\n",
       "      <td>pos</td>\n",
       "      <td>0.978208</td>\n",
       "      <td>0.006687</td>\n",
       "      <td>0.008356</td>\n",
       "      <td>0.006749</td>\n",
       "      <td>Topic 0</td>\n",
       "      <td>0.98</td>\n",
       "    </tr>\n",
       "    <tr>\n",
       "      <th>30</th>\n",
       "      <td>31</td>\n",
       "      <td>50</td>\n",
       "      <td>make visit recently open find whole experience...</td>\n",
       "      <td>Nicosia mall</td>\n",
       "      <td>{'neg': 0.0, 'neu': 0.804, 'pos': 0.196, 'comp...</td>\n",
       "      <td>0.9681</td>\n",
       "      <td>pos</td>\n",
       "      <td>0.996583</td>\n",
       "      <td>0.001049</td>\n",
       "      <td>0.001310</td>\n",
       "      <td>0.001058</td>\n",
       "      <td>Topic 0</td>\n",
       "      <td>1.00</td>\n",
       "    </tr>\n",
       "    <tr>\n",
       "      <th>31</th>\n",
       "      <td>32</td>\n",
       "      <td>50</td>\n",
       "      <td>incredible fantastic selection shop dining ven...</td>\n",
       "      <td>Nicosia mall</td>\n",
       "      <td>{'neg': 0.0, 'neu': 0.66, 'pos': 0.34, 'compou...</td>\n",
       "      <td>0.9690</td>\n",
       "      <td>pos</td>\n",
       "      <td>0.993483</td>\n",
       "      <td>0.002000</td>\n",
       "      <td>0.002499</td>\n",
       "      <td>0.002018</td>\n",
       "      <td>Topic 0</td>\n",
       "      <td>0.99</td>\n",
       "    </tr>\n",
       "  </tbody>\n",
       "</table>\n",
       "</div>"
      ],
      "text/plain": [
       "    Unnamed: 0  r_points                                             r_text  \\\n",
       "0            0        20  disable person old person need service disable...   \n",
       "1            1        30  mall far go say fairly expensive shop vat free...   \n",
       "2            3        40  park helpful staff shop selection place eat al...   \n",
       "3            4        40                new mall lot shop choose unique one   \n",
       "4            5        10  decide visit day waste day feel really uncomfo...   \n",
       "5            6        40  go today enjoy experience load shop cater budg...   \n",
       "6            7        50  wish spend day shopping shop cheap parking con...   \n",
       "7            8        40  spacious shop like mainly rio cinema comfortab...   \n",
       "8            9        50  large shopping center lot store place eat also...   \n",
       "9           10        40  look exact cut paste copy shop layout almost i...   \n",
       "10          11        50  big mall island literally hundred choice shop ...   \n",
       "11          12        50  definitely destination shop well leisure far b...   \n",
       "12          13        40  mall lot choise clothe shoe shop shop clothe s...   \n",
       "13          14        20  mall range clothe shop island little child caf...   \n",
       "14          15        50  well plan locate main tourist business area ma...   \n",
       "15          16        40  easy parking many shop choose court selection ...   \n",
       "16          17        40                             service staff friendly   \n",
       "17          18        50  travel many country chance visit many mall rig...   \n",
       "18          19        50  new modern beautiful shop ambiance also shop w...   \n",
       "19          20        50  place go shopping comfortable shopper friendly...   \n",
       "20          21        40  give maybe less parking go afternoon car park ...   \n",
       "21          22        50  hand shopping experience choice brand great sh...   \n",
       "22          23        50  amazing mall huge number shop need layout func...   \n",
       "23          24        50  place dish delicious portion extremely generou...   \n",
       "24          25        50  great location variety shop pow shop floor lov...   \n",
       "25          26        50  undisputedly shop court find wide range shop t...   \n",
       "26          27        50  finally nicosia amazing destination whole fami...   \n",
       "27          28        50  definitely mall probably mall perfect amount c...   \n",
       "28          29        50  best shopping experience year great shop great...   \n",
       "29          30        50           beautiful mall ever visit find want well   \n",
       "30          31        50  make visit recently open find whole experience...   \n",
       "31          32        50  incredible fantastic selection shop dining ven...   \n",
       "\n",
       "           place                                             scores  compound  \\\n",
       "0   Nicosia mall  {'neg': 0.026, 'neu': 0.942, 'pos': 0.031, 'co...    0.1027   \n",
       "1   Nicosia mall  {'neg': 0.0, 'neu': 0.814, 'pos': 0.186, 'comp...    0.7269   \n",
       "2   Nicosia mall  {'neg': 0.0, 'neu': 0.632, 'pos': 0.368, 'comp...    0.8925   \n",
       "3   Nicosia mall  {'neg': 0.0, 'neu': 0.83, 'pos': 0.17, 'compou...    0.5994   \n",
       "4   Nicosia mall  {'neg': 0.093, 'neu': 0.799, 'pos': 0.108, 'co...    0.3197   \n",
       "5   Nicosia mall  {'neg': 0.0, 'neu': 0.775, 'pos': 0.225, 'comp...    0.8126   \n",
       "6   Nicosia mall  {'neg': 0.0, 'neu': 0.909, 'pos': 0.091, 'comp...    0.6239   \n",
       "7   Nicosia mall  {'neg': 0.0, 'neu': 0.671, 'pos': 0.329, 'comp...    0.9682   \n",
       "8   Nicosia mall  {'neg': 0.0, 'neu': 1.0, 'pos': 0.0, 'compound...    0.0000   \n",
       "9   Nicosia mall  {'neg': 0.039, 'neu': 0.787, 'pos': 0.173, 'co...    0.6459   \n",
       "10  Nicosia mall  {'neg': 0.0, 'neu': 0.786, 'pos': 0.214, 'comp...    0.9651   \n",
       "11  Nicosia mall  {'neg': 0.0, 'neu': 0.728, 'pos': 0.272, 'comp...    0.9892   \n",
       "12  Nicosia mall  {'neg': 0.0, 'neu': 0.869, 'pos': 0.131, 'comp...    0.6801   \n",
       "13  Nicosia mall  {'neg': 0.0, 'neu': 0.743, 'pos': 0.257, 'comp...    0.9643   \n",
       "14  Nicosia mall  {'neg': 0.0, 'neu': 0.793, 'pos': 0.207, 'comp...    0.9558   \n",
       "15  Nicosia mall  {'neg': 0.0, 'neu': 0.687, 'pos': 0.313, 'comp...    0.8619   \n",
       "16  Nicosia mall  {'neg': 0.0, 'neu': 0.455, 'pos': 0.545, 'comp...    0.9214   \n",
       "17  Nicosia mall  {'neg': 0.0, 'neu': 0.888, 'pos': 0.112, 'comp...    0.8442   \n",
       "18  Nicosia mall  {'neg': 0.0, 'neu': 0.613, 'pos': 0.387, 'comp...    0.8998   \n",
       "19  Nicosia mall  {'neg': 0.0, 'neu': 0.769, 'pos': 0.231, 'comp...    0.9635   \n",
       "20  Nicosia mall  {'neg': 0.024, 'neu': 0.877, 'pos': 0.099, 'co...    0.9437   \n",
       "21  Nicosia mall  {'neg': 0.0, 'neu': 0.52, 'pos': 0.48, 'compou...    0.9186   \n",
       "22  Nicosia mall  {'neg': 0.028, 'neu': 0.735, 'pos': 0.237, 'co...    0.9347   \n",
       "23  Nicosia mall  {'neg': 0.0, 'neu': 0.79, 'pos': 0.21, 'compou...    0.9556   \n",
       "24  Nicosia mall  {'neg': 0.0, 'neu': 0.82, 'pos': 0.18, 'compou...    0.9227   \n",
       "25  Nicosia mall  {'neg': 0.0, 'neu': 0.716, 'pos': 0.284, 'comp...    0.9227   \n",
       "26  Nicosia mall  {'neg': 0.0, 'neu': 0.674, 'pos': 0.326, 'comp...    0.9432   \n",
       "27  Nicosia mall  {'neg': 0.0, 'neu': 0.486, 'pos': 0.514, 'comp...    0.9810   \n",
       "28  Nicosia mall  {'neg': 0.048, 'neu': 0.55, 'pos': 0.402, 'com...    0.9567   \n",
       "29  Nicosia mall  {'neg': 0.0, 'neu': 0.654, 'pos': 0.346, 'comp...    0.8161   \n",
       "30  Nicosia mall  {'neg': 0.0, 'neu': 0.804, 'pos': 0.196, 'comp...    0.9681   \n",
       "31  Nicosia mall  {'neg': 0.0, 'neu': 0.66, 'pos': 0.34, 'compou...    0.9690   \n",
       "\n",
       "   score   Topic_0   Topic_1   Topic_2   Topic_3 Dominant_Topic  \\\n",
       "0    pos  0.995517  0.001376  0.001719  0.001389        Topic 0   \n",
       "1    pos  0.006216  0.986602  0.003973  0.003209        Topic 1   \n",
       "2    pos  0.008426  0.004310  0.982914  0.004350        Topic 2   \n",
       "3    pos  0.978208  0.006687  0.008356  0.006749        Topic 0   \n",
       "4    pos  0.002939  0.993664  0.001879  0.001518        Topic 1   \n",
       "5    pos  0.989638  0.003180  0.003973  0.003209        Topic 0   \n",
       "6    pos  0.988911  0.003403  0.004252  0.003434        Topic 0   \n",
       "7    pos  0.003134  0.001603  0.002003  0.993260        Topic 3   \n",
       "8    pos  0.010247  0.005241  0.979222  0.005290        Topic 2   \n",
       "9    pos  0.006216  0.003180  0.987396  0.003209        Topic 2   \n",
       "10   pos  0.002355  0.001205  0.995224  0.001216        Topic 2   \n",
       "11   pos  0.001685  0.996367  0.001077  0.000870        Topic 1   \n",
       "12   pos  0.989638  0.003180  0.003973  0.003209        Topic 0   \n",
       "13   pos  0.994201  0.001780  0.002224  0.001796        Topic 0   \n",
       "14   pos  0.995868  0.001268  0.001584  0.001280        Topic 0   \n",
       "15   pos  0.987101  0.003958  0.004946  0.003995        Topic 0   \n",
       "16   pos  0.951411  0.014909  0.018632  0.015048        Topic 0   \n",
       "17   pos  0.002851  0.993854  0.001823  0.001472        Topic 1   \n",
       "18   pos  0.982919  0.005241  0.006550  0.005290        Topic 0   \n",
       "19   pos  0.002940  0.001504  0.001879  0.993678        Topic 3   \n",
       "20   pos  0.001167  0.000597  0.000746  0.997490        Topic 3   \n",
       "21   pos  0.011488  0.005876  0.976705  0.005931        Topic 2   \n",
       "22   pos  0.003356  0.001717  0.002145  0.992783        Topic 3   \n",
       "23   pos  0.003355  0.001717  0.993195  0.001733        Topic 2   \n",
       "24   pos  0.993980  0.001847  0.002309  0.001865        Topic 0   \n",
       "25   pos  0.006216  0.003180  0.003973  0.986631        Topic 3   \n",
       "26   pos  0.004461  0.002282  0.990954  0.002303        Topic 2   \n",
       "27   pos  0.005833  0.002984  0.988171  0.003012        Topic 2   \n",
       "28   pos  0.004077  0.991211  0.002606  0.002105        Topic 1   \n",
       "29   pos  0.978208  0.006687  0.008356  0.006749        Topic 0   \n",
       "30   pos  0.996583  0.001049  0.001310  0.001058        Topic 0   \n",
       "31   pos  0.993483  0.002000  0.002499  0.002018        Topic 0   \n",
       "\n",
       "    Perc_Dominant_Topic  \n",
       "0                  1.00  \n",
       "1                  0.99  \n",
       "2                  0.98  \n",
       "3                  0.98  \n",
       "4                  0.99  \n",
       "5                  0.99  \n",
       "6                  0.99  \n",
       "7                  0.99  \n",
       "8                  0.98  \n",
       "9                  0.99  \n",
       "10                 1.00  \n",
       "11                 1.00  \n",
       "12                 0.99  \n",
       "13                 0.99  \n",
       "14                 1.00  \n",
       "15                 0.99  \n",
       "16                 0.95  \n",
       "17                 0.99  \n",
       "18                 0.98  \n",
       "19                 0.99  \n",
       "20                 1.00  \n",
       "21                 0.98  \n",
       "22                 0.99  \n",
       "23                 0.99  \n",
       "24                 0.99  \n",
       "25                 0.99  \n",
       "26                 0.99  \n",
       "27                 0.99  \n",
       "28                 0.99  \n",
       "29                 0.98  \n",
       "30                 1.00  \n",
       "31                 0.99  "
      ]
     },
     "execution_count": 15,
     "metadata": {},
     "output_type": "execute_result"
    }
   ],
   "source": [
    "apply_lda_pos = assign_model(lda_pos_custom)\n",
    "apply_lda_pos"
   ]
  },
  {
   "cell_type": "code",
   "execution_count": 16,
   "metadata": {},
   "outputs": [
    {
     "data": {
      "application/vnd.jupyter.widget-view+json": {
       "model_id": "64e935df38b840b287353bac509557d1",
       "version_major": 2,
       "version_minor": 0
      },
      "text/plain": [
       "interactive(children=(ToggleButtons(description='Plot Type:', icons=('',), options=(('Frequency Plot', 'freque…"
      ]
     },
     "metadata": {},
     "output_type": "display_data"
    }
   ],
   "source": [
    "evaluate_model(lda_pos_custom)"
   ]
  },
  {
   "cell_type": "code",
   "execution_count": 17,
   "metadata": {},
   "outputs": [
    {
     "data": {
      "text/html": [
       "        <script type=\"text/javascript\">\n",
       "        window.PlotlyConfig = {MathJaxConfig: 'local'};\n",
       "        if (window.MathJax) {MathJax.Hub.Config({SVG: {font: \"STIX-Web\"}});}\n",
       "        if (typeof require !== 'undefined') {\n",
       "        require.undef(\"plotly\");\n",
       "        requirejs.config({\n",
       "            paths: {\n",
       "                'plotly': ['https://cdn.plot.ly/plotly-latest.min']\n",
       "            }\n",
       "        });\n",
       "        require(['plotly'], function(Plotly) {\n",
       "            window._Plotly = Plotly;\n",
       "        });\n",
       "        }\n",
       "        </script>\n",
       "        "
      ]
     },
     "metadata": {},
     "output_type": "display_data"
    },
    {
     "data": {
      "text/html": [
       "\n",
       "<link rel=\"stylesheet\" type=\"text/css\" href=\"https://cdn.rawgit.com/bmabey/pyLDAvis/files/ldavis.v1.0.0.css\">\n",
       "\n",
       "\n",
       "<div id=\"ldavis_el2048426939236970965346540479\"></div>\n",
       "<script type=\"text/javascript\">\n",
       "\n",
       "var ldavis_el2048426939236970965346540479_data = {\"mdsDat\": {\"x\": [-0.09345098697815588, -0.05120363444398522, 0.05556381980134096, 0.08909080162080014], \"y\": [-0.06896013067336727, 0.08755445809365282, -0.07318695503400713, 0.054592627613721585], \"topics\": [1, 2, 3, 4], \"cluster\": [1, 1, 1, 1], \"Freq\": [35.994606018066406, 24.16181755065918, 20.658109664916992, 19.18546485900879]}, \"tinfo\": {\"Term\": [\"cinema\", \"go\", \"choice\", \"definitely\", \"shopping\", \"worth\", \"outlet\", \"well\", \"back\", \"car\", \"see\", \"eat\", \"visit\", \"find\", \"experience\", \"family\", \"helpful\", \"even\", \"literally\", \"busy\", \"store\", \"many\", \"recommend\", \"great\", \"thing\", \"atmosphere\", \"keep\", \"take\", \"service\", \"mall\", \"outlet\", \"take\", \"clothe\", \"floor\", \"exit\", \"person\", \"make\", \"well\", \"shoe\", \"beautiful\", \"choose\", \"main\", \"disable\", \"available\", \"access\", \"point\", \"old\", \"incredible\", \"service\", \"view\", \"easy\", \"supermarket\", \"area\", \"need\", \"adida\", \"cater\", \"decoration\", \"wish\", \"today\", \"choise\", \"set\", \"island\", \"new\", \"free\", \"away\", \"home\", \"shop\", \"parking\", \"place\", \"lot\", \"plenty\", \"visit\", \"also\", \"mall\", \"great\", \"go\", \"whole\", \"day\", \"court\", \"coffee\", \"shopping\", \"experience\", \"see\", \"car\", \"sport\", \"market\", \"taste\", \"leave\", \"least\", \"end\", \"rio\", \"watch\", \"like\", \"movie\", \"mainly\", \"surround\", \"coach\", \"dolbi\", \"ease\", \"cosmetic\", \"functional\", \"conveniently\", \"town\", \"situate\", \"city\", \"run\", \"spot\", \"smoking\", \"fruit\", \"state\", \"prime\", \"cover\", \"comfortable\", \"huge\", \"time\", \"ever\", \"shop\", \"find\", \"coffee\", \"go\", \"parking\", \"family\", \"big\", \"park\", \"mall\", \"spend\", \"day\", \"friendly\", \"court\", \"place\", \"brand\", \"plenty\", \"also\", \"great\", \"cinema\", \"thing\", \"atmosphere\", \"keep\", \"cinema\", \"back\", \"fly\", \"expensive\", \"claim\", \"fairly\", \"passport\", \"vat\", \"purchase\", \"uncomfortable\", \"lovely\", \"consist\", \"bag\", \"dmz\", \"trap\", \"craft\", \"tack\", \"waste\", \"individual\", \"gold\", \"travel\", \"screen\", \"come\", \"country\", \"somewhere\", \"best\", \"right\", \"definitely\", \"many\", \"far\", \"great\", \"go\", \"shop\", \"find\", \"visit\", \"day\", \"also\", \"selection\", \"brand\", \"lot\", \"experience\", \"mall\", \"parking\", \"majority\", \"open\", \"plenty\", \"whole\", \"place\", \"shopping\", \"friendly\", \"home\", \"well\", \"helpful\", \"literally\", \"even\", \"busy\", \"worth\", \"amount\", \"copy\", \"perfect\", \"cut\", \"almost\", \"entertain\", \"flagship\", \"identical\", \"exact\", \"spree\", \"paste\", \"center\", \"hand\", \"generous\", \"opt\", \"nutella\", \"believe\", \"delicious\", \"ice\", \"final\", \"dish\", \"try\", \"recommendation\", \"caramelize\", \"crepe\", \"choice\", \"shopping\", \"eat\", \"store\", \"recommend\", \"child\", \"mall\", \"experience\", \"family\", \"visit\", \"definitely\", \"day\", \"place\", \"great\", \"shop\", \"also\", \"brand\", \"selection\", \"look\", \"coffee\", \"cafe\", \"layout\", \"costa\", \"park\"], \"Freq\": [3.0, 9.0, 4.0, 3.0, 6.0, 3.0, 4.0, 5.0, 3.0, 2.0, 2.0, 3.0, 7.0, 6.0, 5.0, 3.0, 1.0, 1.0, 1.0, 1.0, 2.0, 3.0, 2.0, 9.0, 1.0, 1.0, 1.0, 3.0, 5.0, 13.0, 3.9023616313934326, 3.162618398666382, 2.4230473041534424, 2.4186148643493652, 2.4168386459350586, 2.4168341159820557, 2.415884017944336, 4.654314041137695, 1.677537202835083, 1.6774625778198242, 1.6749109029769897, 1.6736040115356445, 1.673232913017273, 1.673143982887268, 1.6729158163070679, 1.6727516651153564, 1.671626091003418, 1.6717556715011597, 3.9115610122680664, 2.4216904640197754, 2.4176416397094727, 2.4260246753692627, 2.424983501434326, 2.4203109741210938, 0.9319542050361633, 0.9319532513618469, 0.9319528341293335, 0.9319513440132141, 0.9319491386413574, 0.9319483041763306, 1.679357647895813, 1.6790223121643066, 1.6804147958755493, 1.676941990852356, 1.674678921699524, 1.6742514371871948, 10.708834648132324, 3.9136199951171875, 3.9251716136932373, 2.421396493911743, 2.430006742477417, 3.182670831680298, 3.1724026203155518, 3.975367784500122, 2.479182004928589, 2.4543607234954834, 1.7312949895858765, 1.7300865650177002, 1.6929563283920288, 1.6944925785064697, 1.6927274465560913, 1.6898566484451294, 2.165975570678711, 2.1660759449005127, 1.5016120672225952, 1.4993677139282227, 1.4992177486419678, 1.4954872131347656, 1.4917434453964233, 0.836855947971344, 0.8367866277694702, 0.8367805480957031, 0.8367264270782471, 0.8367164731025696, 0.8366950154304504, 0.8366684317588806, 0.8366402387619019, 0.8366097807884216, 0.8365599513053894, 0.8365221619606018, 0.836456835269928, 0.8363553285598755, 0.836294949054718, 0.8362534046173096, 0.8359469175338745, 0.8358946442604065, 0.8349385857582092, 0.8346599340438843, 0.8346422910690308, 0.8342273235321045, 0.8338693380355835, 0.8336490988731384, 1.5037211179733276, 1.5062566995620728, 1.5000548362731934, 1.4942787885665894, 8.130208969116211, 2.8346548080444336, 2.154876232147217, 3.484900712966919, 2.845975160598755, 1.5016008615493774, 1.504105567932129, 1.5019103288650513, 3.4939661026000977, 1.5015052556991577, 2.152538776397705, 1.4935555458068848, 1.4936150312423706, 2.1679139137268066, 1.5077540874481201, 1.4915465116500854, 1.5101288557052612, 1.4813042879104614, 0.841622531414032, 1.4191508293151855, 1.4167205095291138, 1.4160805940628052, 2.6797852516174316, 2.0488905906677246, 0.789696455001831, 0.7896957397460938, 0.7896939516067505, 0.7896910309791565, 0.7896907329559326, 0.7896904945373535, 0.7896849513053894, 0.7890932559967041, 0.7890831828117371, 0.7890071272850037, 0.7889900207519531, 0.7889296412467957, 0.7889251112937927, 0.7888925671577454, 0.7888471484184265, 0.7888292074203491, 0.7888106107711792, 0.788745641708374, 0.7886074781417847, 0.7885322570800781, 0.7884411811828613, 0.7883850932121277, 0.7882368564605713, 0.7883294820785522, 0.788162887096405, 2.0477757453918457, 2.0494391918182373, 1.4190593957901, 3.3078360557556152, 3.316835880279541, 5.209042072296143, 2.055129051208496, 2.054018497467041, 2.0557878017425537, 2.044187545776367, 1.4160544872283936, 1.417500615119934, 1.4196566343307495, 1.4180606603622437, 2.0509140491485596, 1.417636513710022, 0.7986006140708923, 0.7938430309295654, 0.7981246709823608, 0.7938946485519409, 0.791355311870575, 0.7909728288650513, 0.7907627820968628, 0.7907586097717285, 0.7906835675239563, 1.3797916173934937, 1.3766980171203613, 1.376722812652588, 1.3742865324020386, 1.9980343580245972, 0.7684571743011475, 0.7684543132781982, 0.7684525847434998, 0.7684528231620789, 0.768450915813446, 0.7684504389762878, 0.7684500813484192, 0.7684493660926819, 0.76844722032547, 0.7684451341629028, 0.7684429287910461, 0.7684305906295776, 0.7684303522109985, 0.7670643329620361, 0.7670382261276245, 0.7669826149940491, 0.7669771313667297, 0.7669650316238403, 0.7668967843055725, 0.7668715119361877, 0.7668725848197937, 0.7668576240539551, 0.7668145895004272, 0.7667804956436157, 0.766724169254303, 2.608084201812744, 3.2202603816986084, 1.9965977668762207, 1.3850758075714111, 1.3812328577041626, 1.3755156993865967, 3.815709352493286, 1.9896796941757202, 1.376388669013977, 1.9842654466629028, 1.3828716278076172, 1.975000023841858, 1.9961432218551636, 1.9845646619796753, 2.6167900562286377, 1.3865787982940674, 0.7716594934463501, 0.7712127566337585, 0.7705937027931213, 0.7698111534118652, 0.7694564461708069, 0.7692925333976746, 0.7689719796180725, 0.7688815593719482], \"Total\": [3.0, 9.0, 4.0, 3.0, 6.0, 3.0, 4.0, 5.0, 3.0, 2.0, 2.0, 3.0, 7.0, 6.0, 5.0, 3.0, 1.0, 1.0, 1.0, 1.0, 2.0, 3.0, 2.0, 9.0, 1.0, 1.0, 1.0, 3.0, 5.0, 13.0, 4.391815185546875, 3.6469318866729736, 2.9023122787475586, 2.9015913009643555, 2.9012160301208496, 2.9013524055480957, 2.9013803005218506, 5.770175933837891, 2.156710386276245, 2.1566994190216064, 2.156440496444702, 2.1561498641967773, 2.1560659408569336, 2.156085968017578, 2.1560797691345215, 2.1559672355651855, 2.1558070182800293, 2.156024217605591, 5.062467575073242, 3.533997058868408, 3.5335233211517334, 3.5724408626556396, 3.5722157955169678, 3.57171893119812, 1.4110978841781616, 1.411097526550293, 1.411097764968872, 1.411097526550293, 1.4110968112945557, 1.4110968112945557, 2.771854877471924, 2.771897792816162, 2.7889175415039062, 2.788423776626587, 2.7881245613098145, 2.7880823612213135, 26.664875030517578, 8.336414337158203, 8.880583763122559, 4.780614376068115, 4.874029159545898, 7.3902740478515625, 8.113297462463379, 13.335956573486328, 9.252886772155762, 9.413641929626465, 4.081335067749023, 7.913413047790527, 4.112868785858154, 4.782485008239746, 6.5344648361206055, 5.266859531402588, 2.675696611404419, 2.675837516784668, 2.005554437637329, 2.0062224864959717, 2.006237030029297, 2.0060081481933594, 2.0065035820007324, 1.3353877067565918, 1.3353837728500366, 1.335383415222168, 1.3353803157806396, 1.335379719734192, 1.335378646850586, 1.3353767395019531, 1.3353755474090576, 1.335373878479004, 1.335350751876831, 1.3353476524353027, 1.3353421688079834, 1.3353339433670044, 1.3353288173675537, 1.3353254795074463, 1.335300087928772, 1.3352959156036377, 1.3356881141662598, 1.3357189893722534, 1.3357206583023071, 1.3357676267623901, 1.3358073234558105, 1.3358323574066162, 2.6207668781280518, 2.7507195472717285, 2.7513391971588135, 2.752122640609741, 26.664875030517578, 6.7317681312561035, 4.782485008239746, 9.413641929626465, 8.336414337158203, 3.2368969917297363, 3.252462863922119, 3.3650500774383545, 13.335956573486328, 3.9989755153656006, 7.913413047790527, 3.999546527862549, 4.112868785858154, 8.880583763122559, 4.629232883453369, 4.874029159545898, 8.113297462463379, 9.252886772155762, 3.862832546234131, 1.9292337894439697, 1.9295185804367065, 1.929304838180542, 3.862832546234131, 3.306384325027466, 1.2972986698150635, 1.2972986698150635, 1.297298789024353, 1.2972989082336426, 1.2972992658615112, 1.2972993850708008, 1.2972993850708008, 1.2973350286483765, 1.2973358631134033, 1.2973403930664062, 1.2973413467407227, 1.2973448038101196, 1.2973452806472778, 1.2973469495773315, 1.2973498106002808, 1.2973506450653076, 1.2973519563674927, 1.2973557710647583, 1.2973639965057373, 1.2973687648773193, 1.2973742485046387, 1.2973777055740356, 1.2973864078521729, 1.297545313835144, 1.2973909378051758, 3.7912707328796387, 3.976809024810791, 2.599459648132324, 9.252886772155762, 9.413641929626465, 26.664875030517578, 6.7317681312561035, 7.3902740478515625, 7.913413047790527, 8.113297462463379, 4.0345458984375, 4.629232883453369, 4.780614376068115, 5.266859531402588, 13.335956573486328, 8.336414337158203, 2.786703109741211, 2.0419089794158936, 4.874029159545898, 4.081335067749023, 8.880583763122559, 6.5344648361206055, 3.999546527862549, 2.7880823612213135, 5.770175933837891, 1.8955265283584595, 1.8957867622375488, 1.8958494663238525, 1.8970061540603638, 3.2554712295532227, 1.2803066968917847, 1.280307412147522, 1.2803070545196533, 1.280307412147522, 1.280307650566101, 1.280307412147522, 1.2803075313568115, 1.2803080081939697, 1.2803082466125488, 1.2803082466125488, 1.280308723449707, 1.2803093194961548, 1.2803094387054443, 1.2805969715118408, 1.280599594116211, 1.2806122303009033, 1.2806130647659302, 1.280616044998169, 1.2806302309036255, 1.280635118484497, 1.280637502670288, 1.2806373834609985, 1.2806496620178223, 1.2806546688079834, 1.2806663513183594, 4.5417375564575195, 6.5344648361206055, 3.81193208694458, 2.5269508361816406, 2.527275562286377, 2.6415157318115234, 13.335956573486328, 5.266859531402588, 3.2368969917297363, 7.3902740478515625, 3.7912707328796387, 7.913413047790527, 8.880583763122559, 9.252886772155762, 26.664875030517578, 8.113297462463379, 4.629232883453369, 4.0345458984375, 3.328155040740967, 4.782485008239746, 3.402932643890381, 1.9501190185546875, 1.9505739212036133, 3.3650500774383545], \"Category\": [\"Default\", \"Default\", \"Default\", \"Default\", \"Default\", \"Default\", \"Default\", \"Default\", \"Default\", \"Default\", \"Default\", \"Default\", \"Default\", \"Default\", \"Default\", \"Default\", \"Default\", \"Default\", \"Default\", \"Default\", \"Default\", \"Default\", \"Default\", \"Default\", \"Default\", \"Default\", \"Default\", \"Default\", \"Default\", \"Default\", \"Topic1\", \"Topic1\", \"Topic1\", \"Topic1\", \"Topic1\", \"Topic1\", \"Topic1\", \"Topic1\", \"Topic1\", \"Topic1\", \"Topic1\", \"Topic1\", \"Topic1\", \"Topic1\", \"Topic1\", \"Topic1\", \"Topic1\", \"Topic1\", \"Topic1\", \"Topic1\", \"Topic1\", \"Topic1\", \"Topic1\", \"Topic1\", \"Topic1\", \"Topic1\", \"Topic1\", \"Topic1\", \"Topic1\", \"Topic1\", \"Topic1\", \"Topic1\", \"Topic1\", \"Topic1\", \"Topic1\", \"Topic1\", \"Topic1\", \"Topic1\", \"Topic1\", \"Topic1\", \"Topic1\", \"Topic1\", \"Topic1\", \"Topic1\", \"Topic1\", \"Topic1\", \"Topic1\", \"Topic1\", \"Topic1\", \"Topic1\", \"Topic1\", \"Topic1\", \"Topic2\", \"Topic2\", \"Topic2\", \"Topic2\", \"Topic2\", \"Topic2\", \"Topic2\", \"Topic2\", \"Topic2\", \"Topic2\", \"Topic2\", \"Topic2\", \"Topic2\", \"Topic2\", \"Topic2\", \"Topic2\", \"Topic2\", \"Topic2\", \"Topic2\", \"Topic2\", \"Topic2\", \"Topic2\", \"Topic2\", \"Topic2\", \"Topic2\", \"Topic2\", \"Topic2\", \"Topic2\", \"Topic2\", \"Topic2\", \"Topic2\", \"Topic2\", \"Topic2\", \"Topic2\", \"Topic2\", \"Topic2\", \"Topic2\", \"Topic2\", \"Topic2\", \"Topic2\", \"Topic2\", \"Topic2\", \"Topic2\", \"Topic2\", \"Topic2\", \"Topic2\", \"Topic2\", \"Topic2\", \"Topic2\", \"Topic2\", \"Topic2\", \"Topic2\", \"Topic2\", \"Topic3\", \"Topic3\", \"Topic3\", \"Topic3\", \"Topic3\", \"Topic3\", \"Topic3\", \"Topic3\", \"Topic3\", \"Topic3\", \"Topic3\", \"Topic3\", \"Topic3\", \"Topic3\", \"Topic3\", \"Topic3\", \"Topic3\", \"Topic3\", \"Topic3\", \"Topic3\", \"Topic3\", \"Topic3\", \"Topic3\", \"Topic3\", \"Topic3\", \"Topic3\", \"Topic3\", \"Topic3\", \"Topic3\", \"Topic3\", \"Topic3\", \"Topic3\", \"Topic3\", \"Topic3\", \"Topic3\", \"Topic3\", \"Topic3\", \"Topic3\", \"Topic3\", \"Topic3\", \"Topic3\", \"Topic3\", \"Topic3\", \"Topic3\", \"Topic3\", \"Topic3\", \"Topic3\", \"Topic3\", \"Topic3\", \"Topic3\", \"Topic3\", \"Topic3\", \"Topic3\", \"Topic3\", \"Topic3\", \"Topic4\", \"Topic4\", \"Topic4\", \"Topic4\", \"Topic4\", \"Topic4\", \"Topic4\", \"Topic4\", \"Topic4\", \"Topic4\", \"Topic4\", \"Topic4\", \"Topic4\", \"Topic4\", \"Topic4\", \"Topic4\", \"Topic4\", \"Topic4\", \"Topic4\", \"Topic4\", \"Topic4\", \"Topic4\", \"Topic4\", \"Topic4\", \"Topic4\", \"Topic4\", \"Topic4\", \"Topic4\", \"Topic4\", \"Topic4\", \"Topic4\", \"Topic4\", \"Topic4\", \"Topic4\", \"Topic4\", \"Topic4\", \"Topic4\", \"Topic4\", \"Topic4\", \"Topic4\", \"Topic4\", \"Topic4\", \"Topic4\", \"Topic4\", \"Topic4\", \"Topic4\", \"Topic4\", \"Topic4\", \"Topic4\", \"Topic4\", \"Topic4\", \"Topic4\", \"Topic4\", \"Topic4\"], \"logprob\": [30.0, 29.0, 28.0, 27.0, 26.0, 25.0, 24.0, 23.0, 22.0, 21.0, 20.0, 19.0, 18.0, 17.0, 16.0, 15.0, 14.0, 13.0, 12.0, 11.0, 10.0, 9.0, 8.0, 7.0, 6.0, 5.0, 4.0, 3.0, 2.0, 1.0, -4.2642998695373535, -4.4745001792907715, -4.740900039672852, -4.742700099945068, -4.7434000968933105, -4.7434000968933105, -4.743800163269043, -4.088099956512451, -5.10860013961792, -5.10860013961792, -5.110099792480469, -5.110899925231934, -5.111100196838379, -5.111199855804443, -5.111299991607666, -5.111400127410889, -5.112100124359131, -5.111999988555908, -4.26200008392334, -4.741399765014648, -4.743100166320801, -4.73960018157959, -4.740099906921387, -4.742000102996826, -5.696400165557861, -5.696400165557861, -5.696400165557861, -5.696400165557861, -5.696400165557861, -5.696400165557861, -5.107500076293945, -5.107699871063232, -5.106800079345703, -5.10890007019043, -5.110300064086914, -5.110499858856201, -3.2548000812530518, -4.26140022277832, -4.258500099182129, -4.741499900817871, -4.73799991607666, -4.468200206756592, -4.471399784088135, -4.245800018310547, -4.7179999351501465, -4.728000164031982, -5.077000141143799, -5.077700138092041, -5.099400043487549, -5.098499774932861, -5.0995001792907715, -5.101200103759766, -4.454400062561035, -4.454400062561035, -4.820799827575684, -4.822199821472168, -4.822299957275391, -4.82480001449585, -4.827300071716309, -5.405399799346924, -5.4054999351501465, -5.4054999351501465, -5.405600070953369, -5.405600070953369, -5.405600070953369, -5.405600070953369, -5.405700206756592, -5.405700206756592, -5.405700206756592, -5.405799865722656, -5.405900001525879, -5.406000137329102, -5.406099796295166, -5.406099796295166, -5.406499862670898, -5.406499862670898, -5.407700061798096, -5.4079999923706055, -5.4079999923706055, -5.4085001945495605, -5.408999919891357, -5.409200191497803, -4.819300174713135, -4.817699909210205, -4.821800231933594, -4.8256001472473145, -3.131700038909912, -4.185400009155273, -4.45959997177124, -3.9788999557495117, -4.181399822235107, -4.820799827575684, -4.8190999031066895, -4.8206000328063965, -3.976300001144409, -4.820799827575684, -4.460599899291992, -4.826099872589111, -4.826099872589111, -4.453499794006348, -4.816699981689453, -4.827499866485596, -4.815100193023682, -4.834400177001953, -5.399700164794922, -4.720600128173828, -4.722300052642822, -4.722700119018555, -4.08489990234375, -4.353300094604492, -5.306700229644775, -5.306700229644775, -5.306700229644775, -5.306700229644775, -5.306700229644775, -5.306700229644775, -5.306700229644775, -5.307499885559082, -5.307499885559082, -5.307600021362305, -5.307600021362305, -5.307700157165527, -5.307700157165527, -5.307799816131592, -5.307799816131592, -5.307799816131592, -5.3078999519348145, -5.3078999519348145, -5.30810022354126, -5.308199882507324, -5.308300018310547, -5.3084001541137695, -5.308599948883057, -5.308499813079834, -5.308700084686279, -4.353899955749512, -4.353099822998047, -4.720600128173828, -3.874300003051758, -3.8715999126434326, -3.4202001094818115, -4.350299835205078, -4.350800037384033, -4.349999904632568, -4.355599880218506, -4.722799777984619, -4.721700191497803, -4.720200061798096, -4.72130012512207, -4.35230016708374, -4.72160005569458, -5.295499801635742, -5.301499843597412, -5.29610013961792, -5.301400184631348, -5.304599761962891, -5.305099964141846, -5.3053998947143555, -5.3053998947143555, -5.305500030517578, -4.674699783325195, -4.677000045776367, -4.677000045776367, -4.678699970245361, -4.304500102996826, -5.260000228881836, -5.260000228881836, -5.260000228881836, -5.260000228881836, -5.260000228881836, -5.2600998878479, -5.2600998878479, -5.2600998878479, -5.2600998878479, -5.2600998878479, -5.2600998878479, -5.2600998878479, -5.2600998878479, -5.261899948120117, -5.261899948120117, -5.26200008392334, -5.26200008392334, -5.26200008392334, -5.2621002197265625, -5.2621002197265625, -5.2621002197265625, -5.2621002197265625, -5.262199878692627, -5.262199878692627, -5.26230001449585, -4.038099765777588, -3.827199935913086, -4.305200099945068, -4.670899868011475, -4.673699855804443, -4.677800178527832, -3.6575000286102295, -4.308700084686279, -4.677199840545654, -4.311399936676025, -4.672500133514404, -4.316100120544434, -4.305500030517578, -4.311299800872803, -4.0346999168396, -4.6697998046875, -5.255899906158447, -5.256499767303467, -5.257299900054932, -5.258299827575684, -5.258699893951416, -5.258999824523926, -5.259399890899658, -5.259500026702881], \"loglift\": [30.0, 29.0, 28.0, 27.0, 26.0, 25.0, 24.0, 23.0, 22.0, 21.0, 20.0, 19.0, 18.0, 17.0, 16.0, 15.0, 14.0, 13.0, 12.0, 11.0, 10.0, 9.0, 8.0, 7.0, 6.0, 5.0, 4.0, 3.0, 2.0, 1.0, 0.9035999774932861, 0.8792999982833862, 0.8413000106811523, 0.8396999835968018, 0.8391000032424927, 0.8391000032424927, 0.838699996471405, 0.8069000244140625, 0.7705000042915344, 0.7705000042915344, 0.76910001039505, 0.7684999704360962, 0.7682999968528748, 0.7681999802589417, 0.7681000232696533, 0.7680000066757202, 0.7674000263214111, 0.7674000263214111, 0.7638999819755554, 0.6438000202178955, 0.642300009727478, 0.6348000168800354, 0.6344000101089478, 0.6327000260353088, 0.6069999933242798, 0.6069999933242798, 0.6069999933242798, 0.6069999933242798, 0.6069999933242798, 0.6069999933242798, 0.5206999778747559, 0.5205000042915344, 0.5152000188827515, 0.5133000016212463, 0.5120999813079834, 0.5117999911308289, 0.10949999839067459, 0.2655999958515167, 0.2053000032901764, 0.3416000008583069, 0.32580000162124634, 0.1793999969959259, 0.0828000009059906, -0.18850000202655792, -0.295199990272522, -0.32249999046325684, 0.16419999301433563, -0.4986000061035156, 0.13420000672340393, -0.015799999237060547, -0.328900009393692, -0.11500000208616257, 1.2091000080108643, 1.2091000080108643, 1.13100004196167, 1.1291999816894531, 1.12909996509552, 1.1267000436782837, 1.123900055885315, 0.9531000256538391, 0.953000009059906, 0.953000009059906, 0.9528999924659729, 0.9528999924659729, 0.9528999924659729, 0.9528999924659729, 0.9527999758720398, 0.9527999758720398, 0.9527000188827515, 0.9527000188827515, 0.9526000022888184, 0.9524999856948853, 0.9524000287055969, 0.9524000287055969, 0.9520999789237976, 0.9520000219345093, 0.9506000280380249, 0.9502000212669373, 0.9502000212669373, 0.9495999813079834, 0.9491999745368958, 0.9488999843597412, 0.8648999929428101, 0.8181999921798706, 0.8137999773025513, 0.8097000122070312, 0.23260000348091125, 0.5554999709129333, 0.623199999332428, 0.42669999599456787, 0.3456999957561493, 0.6523000001907349, 0.6492000222206116, 0.6136999726295471, 0.08100000023841858, 0.4408000111579895, 0.1185000017285347, 0.43540000915527344, 0.4074999988079071, 0.010300000198185444, 0.2985999882221222, 0.2363000065088272, -0.26089999079704285, -0.4115999937057495, -0.10339999943971634, 1.2699999809265137, 1.2681000232696533, 1.267799973487854, 1.211400032043457, 1.0985000133514404, 1.0807000398635864, 1.0807000398635864, 1.0807000398635864, 1.0807000398635864, 1.0807000398635864, 1.0807000398635864, 1.0807000398635864, 1.0799000263214111, 1.0799000263214111, 1.079800009727478, 1.079699993133545, 1.079699993133545, 1.079699993133545, 1.0795999765396118, 1.0795999765396118, 1.0794999599456787, 1.0794999599456787, 1.0793999433517456, 1.079200029373169, 1.0791000127792358, 1.0789999961853027, 1.0788999795913696, 1.0787999629974365, 1.0786999464035034, 1.0786999464035034, 0.9610999822616577, 0.9140999913215637, 0.9718000292778015, 0.5483999848365784, 0.5339000225067139, -0.05590000003576279, 0.3905999958515167, 0.29670000076293945, 0.22920000553131104, 0.19859999418258667, 0.5299999713897705, 0.3935999870300293, 0.3628999888896942, 0.26489999890327454, -0.29510000348091125, -0.19460000097751617, 0.3273000121116638, 0.6323000192642212, -0.23229999840259552, -0.06019999831914902, -0.8407999873161316, -0.534500002861023, -0.04390000179409981, 0.31690001487731934, -0.4104999899864197, 1.3335000276565552, 1.3310999870300293, 1.3310999870300293, 1.3286999464035034, 1.1627999544143677, 1.1404999494552612, 1.1404999494552612, 1.1404999494552612, 1.1404999494552612, 1.1404999494552612, 1.1404999494552612, 1.1404999494552612, 1.1404999494552612, 1.1404999494552612, 1.1404999494552612, 1.1404999494552612, 1.1404999494552612, 1.1404999494552612, 1.1384999752044678, 1.1384999752044678, 1.1383999586105347, 1.1383999586105347, 1.1383999586105347, 1.1382999420166016, 1.138200044631958, 1.138200044631958, 1.138200044631958, 1.138100028038025, 1.138100028038025, 1.1380000114440918, 1.0963000059127808, 0.9434000253677368, 1.0042999982833862, 1.0498000383377075, 1.0469000339508057, 0.9984999895095825, 0.39969998598098755, 0.6776000261306763, 0.7958999872207642, 0.3361000120639801, 0.6424999833106995, 0.2630000114440918, 0.15839999914169312, 0.11150000244379044, -0.6704000234603882, -0.11559999734163284, -0.14059999585151672, -0.003700000001117587, 0.18799999356269836, -0.17560000717639923, 0.16429999470710754, 0.72079998254776, 0.7202000021934509, 0.17479999363422394]}, \"token.table\": {\"Topic\": [1, 1, 4, 1, 2, 3, 4, 4, 1, 2, 3, 1, 1, 3, 1, 3, 3, 1, 4, 3, 2, 3, 4, 1, 2, 3, 4, 4, 1, 3, 4, 2, 4, 1, 4, 1, 4, 1, 2, 4, 1, 1, 2, 3, 2, 3, 1, 2, 1, 2, 4, 3, 2, 4, 3, 2, 4, 2, 2, 4, 3, 1, 2, 4, 2, 3, 4, 4, 1, 2, 3, 4, 1, 3, 4, 4, 1, 4, 3, 2, 2, 1, 3, 2, 3, 4, 2, 4, 4, 1, 2, 4, 1, 3, 1, 3, 4, 3, 2, 4, 2, 3, 4, 1, 2, 3, 4, 1, 3, 1, 3, 1, 2, 3, 4, 2, 2, 4, 1, 2, 3, 3, 1, 2, 3, 4, 4, 4, 1, 3, 1, 2, 4, 4, 1, 3, 1, 4, 3, 2, 4, 2, 2, 2, 4, 1, 2, 3, 4, 1, 3, 4, 3, 1, 2, 1, 3, 1, 1, 2, 3, 4, 1, 2, 3, 2, 2, 1, 2, 1, 3, 4, 1, 1, 3, 4, 1, 1, 2, 4, 1, 2, 3, 3, 4, 4, 1, 1, 2, 3, 4, 1, 2, 3, 1, 2, 3, 3, 4, 4, 3, 2, 2, 3, 2, 1, 3, 4, 1, 2, 1, 4, 1, 1, 2, 3, 4, 1, 2, 3, 4, 2, 2, 3, 1, 2, 3, 4, 2, 2, 4, 2, 3, 4, 1, 2, 2, 3, 1, 2, 3, 1, 2, 1, 2, 3, 3, 4, 3, 3, 1, 3, 1, 3, 4, 3, 2, 1, 3, 1, 2, 3, 4, 1, 1, 4], \"Freq\": [0.9276094436645508, 0.708668053150177, 0.7810622453689575, 0.3697633445262909, 0.2465088963508606, 0.2465088963508606, 0.1232544481754303, 0.7810628414154053, 0.559876561164856, 0.279938280582428, 0.5182639956474304, 0.9276068210601807, 0.7173280715942383, 0.35866403579711914, 0.3024451732635498, 0.6048903465270996, 0.770807147026062, 0.92734295129776, 0.7808759808540344, 0.7706859707832336, 0.6149186491966248, 0.3074593245983124, 0.3074593245983124, 0.21601851284503937, 0.43203702569007874, 0.21601851284503937, 0.21601851284503937, 0.5271463990211487, 0.5877283811569214, 0.2938641905784607, 0.2938641905784607, 0.7474295496940613, 0.7808506488800049, 0.7086682319641113, 0.7810612320899963, 0.3785705268383026, 0.3785705268383026, 0.22018004953861237, 0.22018004953861237, 0.6605401635169983, 0.70866858959198, 0.9274542927742004, 0.25887739658355713, 0.7766321897506714, 0.7488953471183777, 0.7708324193954468, 0.689105749130249, 0.7488530278205872, 0.41819262504577637, 0.41819262504577637, 0.20909631252288818, 0.7707875967025757, 0.7631354331970215, 0.38156771659851074, 0.7708077430725098, 0.7488763332366943, 0.7810624241828918, 0.7488686442375183, 0.5126696228981018, 0.5126696228981018, 0.7707855701446533, 0.48627859354019165, 0.24313929677009583, 0.24313929677009583, 0.7485969066619873, 0.7708038091659546, 0.7808434963226318, 0.7810624241828918, 0.252735435962677, 0.252735435962677, 0.252735435962677, 0.252735435962677, 0.7086681127548218, 0.5275276303291321, 0.26376381516456604, 0.7808741927146912, 0.9276154041290283, 0.7808610796928406, 0.7708051204681396, 0.7488539218902588, 0.7488669157028198, 0.5660073161125183, 0.28300365805625916, 0.2623341679573059, 0.2623341679573059, 0.5246683359146118, 0.748846173286438, 0.7810624241828918, 0.5274680256843567, 0.3633559048175812, 0.3633559048175812, 0.7810618877410889, 0.6893661022186279, 0.7708325386047363, 0.3797329366207123, 0.18986646831035614, 0.3797329366207123, 0.770832359790802, 0.6178756952285767, 0.30893784761428833, 0.3846953213214874, 0.3846953213214874, 0.78086256980896, 0.2970987558364868, 0.4456481337547302, 0.2970987558364868, 0.7810623645782471, 0.689276933670044, 0.7708325386047363, 0.7172511219978333, 0.3586255609989166, 0.2500283420085907, 0.2500283420085907, 0.2500283420085907, 0.2500283420085907, 0.7486595511436462, 0.7488717436790466, 0.7808858156204224, 0.21245762705802917, 0.31868642568588257, 0.31868642568588257, 0.7707985639572144, 0.2161487638950348, 0.1080743819475174, 0.324223130941391, 0.2161487638950348, 0.7810611724853516, 0.527557909488678, 0.7173389196395874, 0.3586694598197937, 0.36354124546051025, 0.7270824909210205, 0.7808655500411987, 0.7810620665550232, 0.9276333451271057, 0.7708008289337158, 0.7215273380279541, 0.36076366901397705, 0.5183213949203491, 0.5127891898155212, 0.5127891898155212, 0.4983793795108795, 0.4985024631023407, 0.7488503456115723, 0.5274854898452759, 0.30046677589416504, 0.30046677589416504, 0.30046677589416504, 0.30046677589416504, 0.4183562695980072, 0.2091781347990036, 0.2091781347990036, 0.7708104252815247, 0.9275792837142944, 0.7488512992858887, 0.7176939845085144, 0.3588469922542572, 0.6893270611763, 0.2999410033226013, 0.2249557375907898, 0.14997050166130066, 0.2999410033226013, 0.25145789980888367, 0.25145789980888367, 0.5029157996177673, 0.4984492063522339, 0.7488506436347961, 0.5599544644355774, 0.2799772322177887, 0.7171241044998169, 0.35856205224990845, 0.7808765172958374, 0.9277268052101135, 0.4897378087043762, 0.4897378087043762, 0.7808842062950134, 0.9107851386070251, 0.2971723973751068, 0.5943447947502136, 0.2971723973751068, 0.4798226058483124, 0.3598669469356537, 0.1199556514620781, 0.7708321809768677, 0.781061589717865, 0.781062662601471, 0.6893336772918701, 0.4504208266735077, 0.22521041333675385, 0.11260520666837692, 0.22521041333675385, 0.4103381335735321, 0.20516906678676605, 0.20516906678676605, 0.9276579022407532, 0.7486109733581543, 0.7708321213722229, 0.39568302035331726, 0.39568302035331726, 0.7808536887168884, 0.770777702331543, 0.7488483786582947, 0.7488976716995239, 0.7707908749580383, 0.747468888759613, 0.49571874737739563, 0.24785937368869781, 0.24785937368869781, 0.7901285290718079, 0.19753213226795197, 0.7215384840965271, 0.36076924204826355, 0.9273382425308228, 0.4125277101993561, 0.30002015829086304, 0.1875125914812088, 0.11250755935907364, 0.30606943368911743, 0.15303471684455872, 0.15303471684455872, 0.45910415053367615, 0.7488811016082764, 0.7486604452133179, 0.7707803845405579, 0.25006404519081116, 0.5001280903816223, 0.25006404519081116, 0.25006404519081116, 0.9972304701805115, 0.7486777901649475, 0.7810618877410889, 0.7486332058906555, 0.39573386311531067, 0.39573386311531067, 0.5598413348197937, 0.27992066740989685, 0.7488523721694946, 0.7708021402359009, 0.8226093053817749, 0.498445600271225, 0.5183404684066772, 0.36345937848091125, 0.7269187569618225, 0.70866858959198, 0.7488791942596436, 0.7708048224449158, 0.7707936763763428, 0.7808611392974854, 0.7708109021186829, 0.7708321213722229, 0.5659314393997192, 0.2829657196998596, 0.40593892335891724, 0.2706259489059448, 0.2706259489059448, 0.7708016633987427, 0.7488486170768738, 0.8665246963500977, 0.173304945230484, 0.490035742521286, 0.245017871260643, 0.245017871260643, 0.245017871260643, 0.7086682319641113, 0.3071751892566681, 0.6143503785133362], \"Term\": [\"access\", \"adida\", \"almost\", \"also\", \"also\", \"also\", \"also\", \"amount\", \"area\", \"area\", \"atmosphere\", \"available\", \"away\", \"away\", \"back\", \"back\", \"bag\", \"beautiful\", \"believe\", \"best\", \"big\", \"big\", \"big\", \"brand\", \"brand\", \"brand\", \"brand\", \"busy\", \"cafe\", \"cafe\", \"cafe\", \"car\", \"caramelize\", \"cater\", \"center\", \"child\", \"child\", \"choice\", \"choice\", \"choice\", \"choise\", \"choose\", \"cinema\", \"cinema\", \"city\", \"claim\", \"clothe\", \"coach\", \"coffee\", \"coffee\", \"coffee\", \"come\", \"comfortable\", \"comfortable\", \"consist\", \"conveniently\", \"copy\", \"cosmetic\", \"costa\", \"costa\", \"country\", \"court\", \"court\", \"court\", \"cover\", \"craft\", \"crepe\", \"cut\", \"day\", \"day\", \"day\", \"day\", \"decoration\", \"definitely\", \"definitely\", \"delicious\", \"disable\", \"dish\", \"dmz\", \"dolbi\", \"ease\", \"easy\", \"easy\", \"eat\", \"eat\", \"eat\", \"end\", \"entertain\", \"even\", \"ever\", \"ever\", \"exact\", \"exit\", \"expensive\", \"experience\", \"experience\", \"experience\", \"fairly\", \"family\", \"family\", \"far\", \"far\", \"final\", \"find\", \"find\", \"find\", \"flagship\", \"floor\", \"fly\", \"free\", \"free\", \"friendly\", \"friendly\", \"friendly\", \"friendly\", \"fruit\", \"functional\", \"generous\", \"go\", \"go\", \"go\", \"gold\", \"great\", \"great\", \"great\", \"great\", \"hand\", \"helpful\", \"home\", \"home\", \"huge\", \"huge\", \"ice\", \"identical\", \"incredible\", \"individual\", \"island\", \"island\", \"keep\", \"layout\", \"layout\", \"least\", \"leave\", \"like\", \"literally\", \"look\", \"look\", \"look\", \"look\", \"lot\", \"lot\", \"lot\", \"lovely\", \"main\", \"mainly\", \"majority\", \"majority\", \"make\", \"mall\", \"mall\", \"mall\", \"mall\", \"many\", \"many\", \"many\", \"market\", \"movie\", \"need\", \"need\", \"new\", \"new\", \"nutella\", \"old\", \"open\", \"open\", \"opt\", \"outlet\", \"park\", \"park\", \"park\", \"parking\", \"parking\", \"parking\", \"passport\", \"paste\", \"perfect\", \"person\", \"place\", \"place\", \"place\", \"place\", \"plenty\", \"plenty\", \"plenty\", \"point\", \"prime\", \"purchase\", \"recommend\", \"recommend\", \"recommendation\", \"right\", \"rio\", \"run\", \"screen\", \"see\", \"selection\", \"selection\", \"selection\", \"service\", \"service\", \"set\", \"set\", \"shoe\", \"shop\", \"shop\", \"shop\", \"shop\", \"shopping\", \"shopping\", \"shopping\", \"shopping\", \"situate\", \"smoking\", \"somewhere\", \"spend\", \"spend\", \"spend\", \"spend\", \"sport\", \"spot\", \"spree\", \"state\", \"store\", \"store\", \"supermarket\", \"supermarket\", \"surround\", \"tack\", \"take\", \"taste\", \"thing\", \"time\", \"time\", \"today\", \"town\", \"trap\", \"travel\", \"try\", \"uncomfortable\", \"vat\", \"view\", \"view\", \"visit\", \"visit\", \"visit\", \"waste\", \"watch\", \"well\", \"well\", \"whole\", \"whole\", \"whole\", \"whole\", \"wish\", \"worth\", \"worth\"]}, \"R\": 30, \"lambda.step\": 0.01, \"plot.opts\": {\"xlab\": \"PC1\", \"ylab\": \"PC2\"}, \"topic.order\": [1, 4, 2, 3]};\n",
       "\n",
       "function LDAvis_load_lib(url, callback){\n",
       "  var s = document.createElement('script');\n",
       "  s.src = url;\n",
       "  s.async = true;\n",
       "  s.onreadystatechange = s.onload = callback;\n",
       "  s.onerror = function(){console.warn(\"failed to load library \" + url);};\n",
       "  document.getElementsByTagName(\"head\")[0].appendChild(s);\n",
       "}\n",
       "\n",
       "if(typeof(LDAvis) !== \"undefined\"){\n",
       "   // already loaded: just create the visualization\n",
       "   !function(LDAvis){\n",
       "       new LDAvis(\"#\" + \"ldavis_el2048426939236970965346540479\", ldavis_el2048426939236970965346540479_data);\n",
       "   }(LDAvis);\n",
       "}else if(typeof define === \"function\" && define.amd){\n",
       "   // require.js is available: use it to load d3/LDAvis\n",
       "   require.config({paths: {d3: \"https://cdnjs.cloudflare.com/ajax/libs/d3/3.5.5/d3.min\"}});\n",
       "   require([\"d3\"], function(d3){\n",
       "      window.d3 = d3;\n",
       "      LDAvis_load_lib(\"https://cdn.rawgit.com/bmabey/pyLDAvis/files/ldavis.v1.0.0.js\", function(){\n",
       "        new LDAvis(\"#\" + \"ldavis_el2048426939236970965346540479\", ldavis_el2048426939236970965346540479_data);\n",
       "      });\n",
       "    });\n",
       "}else{\n",
       "    // require.js not available: dynamically load d3 & LDAvis\n",
       "    LDAvis_load_lib(\"https://cdnjs.cloudflare.com/ajax/libs/d3/3.5.5/d3.min.js\", function(){\n",
       "         LDAvis_load_lib(\"https://cdn.rawgit.com/bmabey/pyLDAvis/files/ldavis.v1.0.0.js\", function(){\n",
       "                 new LDAvis(\"#\" + \"ldavis_el2048426939236970965346540479\", ldavis_el2048426939236970965346540479_data);\n",
       "            })\n",
       "         });\n",
       "}\n",
       "</script>"
      ],
      "text/plain": [
       "PreparedData(topic_coordinates=              x         y  topics  cluster       Freq\n",
       "topic                                                \n",
       "0     -0.093451 -0.068960       1        1  35.994606\n",
       "3     -0.051204  0.087554       2        1  24.161818\n",
       "1      0.055564 -0.073187       3        1  20.658110\n",
       "2      0.089091  0.054593       4        1  19.185465, topic_info=           Term      Freq     Total Category  logprob  loglift\n",
       "103      cinema  3.000000  3.000000  Default  30.0000  30.0000\n",
       "11           go  9.000000  9.000000  Default  29.0000  29.0000\n",
       "136      choice  4.000000  4.000000  Default  28.0000  28.0000\n",
       "138  definitely  3.000000  3.000000  Default  27.0000  27.0000\n",
       "97     shopping  6.000000  6.000000  Default  26.0000  26.0000\n",
       "..          ...       ...       ...      ...      ...      ...\n",
       "41       coffee  0.769811  4.782485   Topic4  -5.2583  -0.1756\n",
       "161        cafe  0.769456  3.402933   Topic4  -5.2587   0.1643\n",
       "129      layout  0.769293  1.950119   Topic4  -5.2590   0.7208\n",
       "42        costa  0.768972  1.950574   Topic4  -5.2594   0.7202\n",
       "46         park  0.768882  3.365050   Topic4  -5.2595   0.1748\n",
       "\n",
       "[244 rows x 6 columns], token_table=      Topic      Freq    Term\n",
       "term                         \n",
       "0         1  0.927609  access\n",
       "90        1  0.708668   adida\n",
       "123       4  0.781062  almost\n",
       "79        1  0.369763    also\n",
       "79        2  0.246509    also\n",
       "...     ...       ...     ...\n",
       "331       3  0.245018   whole\n",
       "331       4  0.245018   whole\n",
       "100       1  0.708668    wish\n",
       "133       1  0.307175   worth\n",
       "133       4  0.614350   worth\n",
       "\n",
       "[266 rows x 3 columns], R=30, lambda_step=0.01, plot_opts={'xlab': 'PC1', 'ylab': 'PC2'}, topic_order=[1, 4, 2, 3])"
      ]
     },
     "metadata": {},
     "output_type": "display_data"
    }
   ],
   "source": [
    "plot_model(lda_pos_custom, plot ='topic_model')"
   ]
  },
  {
   "cell_type": "code",
   "execution_count": 18,
   "metadata": {},
   "outputs": [
    {
     "data": {
      "application/vnd.jupyter.widget-view+json": {
       "model_id": "",
       "version_major": 2,
       "version_minor": 0
      },
      "text/plain": [
       "IntProgress(value=0, description='Processing: ', max=25)"
      ]
     },
     "metadata": {},
     "output_type": "display_data"
    },
    {
     "data": {
      "application/vnd.jupyter.widget-view+json": {
       "model_id": "fa9276f523b84b1db35dd6b7f326d6fc",
       "version_major": 2,
       "version_minor": 0
      },
      "text/plain": [
       "Output()"
      ]
     },
     "metadata": {},
     "output_type": "display_data"
    },
    {
     "data": {
      "text/html": [
       "        <script type=\"text/javascript\">\n",
       "        window.PlotlyConfig = {MathJaxConfig: 'local'};\n",
       "        if (window.MathJax) {MathJax.Hub.Config({SVG: {font: \"STIX-Web\"}});}\n",
       "        if (typeof require !== 'undefined') {\n",
       "        require.undef(\"plotly\");\n",
       "        requirejs.config({\n",
       "            paths: {\n",
       "                'plotly': ['https://cdn.plot.ly/plotly-latest.min']\n",
       "            }\n",
       "        });\n",
       "        require(['plotly'], function(Plotly) {\n",
       "            window._Plotly = Plotly;\n",
       "        });\n",
       "        }\n",
       "        </script>\n",
       "        "
      ]
     },
     "metadata": {},
     "output_type": "display_data"
    },
    {
     "data": {
      "application/vnd.plotly.v1+json": {
       "config": {
        "plotlyServerURL": "https://plot.ly"
       },
       "data": [
        {
         "hovertemplate": "Metric=Coherence<br># Topics=%{x}<br>Score=%{y}<extra></extra>",
         "legendgroup": "Coherence",
         "line": {
          "color": "#636efa",
          "dash": "solid",
          "shape": "linear"
         },
         "mode": "lines",
         "name": "Coherence",
         "orientation": "v",
         "showlegend": true,
         "type": "scatter",
         "x": [
          2,
          4,
          8,
          16,
          32,
          64,
          100,
          200,
          300,
          400
         ],
         "xaxis": "x",
         "y": [
          0.34434804692624377,
          0.3670793576484507,
          0.3786307043178452,
          0.5619900453115279,
          0.5036323971903315,
          0.5306239936580006,
          0.4810776646731742,
          0.41636579215546843,
          0.39072414929281923,
          0.37882601409493444
         ],
         "yaxis": "y"
        }
       ],
       "layout": {
        "legend": {
         "title": {
          "text": "Metric"
         },
         "tracegroupgap": 0
        },
        "plot_bgcolor": "rgb(245,245,245)",
        "template": {
         "data": {
          "bar": [
           {
            "error_x": {
             "color": "#2a3f5f"
            },
            "error_y": {
             "color": "#2a3f5f"
            },
            "marker": {
             "line": {
              "color": "#E5ECF6",
              "width": 0.5
             }
            },
            "type": "bar"
           }
          ],
          "barpolar": [
           {
            "marker": {
             "line": {
              "color": "#E5ECF6",
              "width": 0.5
             }
            },
            "type": "barpolar"
           }
          ],
          "carpet": [
           {
            "aaxis": {
             "endlinecolor": "#2a3f5f",
             "gridcolor": "white",
             "linecolor": "white",
             "minorgridcolor": "white",
             "startlinecolor": "#2a3f5f"
            },
            "baxis": {
             "endlinecolor": "#2a3f5f",
             "gridcolor": "white",
             "linecolor": "white",
             "minorgridcolor": "white",
             "startlinecolor": "#2a3f5f"
            },
            "type": "carpet"
           }
          ],
          "choropleth": [
           {
            "colorbar": {
             "outlinewidth": 0,
             "ticks": ""
            },
            "type": "choropleth"
           }
          ],
          "contour": [
           {
            "colorbar": {
             "outlinewidth": 0,
             "ticks": ""
            },
            "colorscale": [
             [
              0,
              "#0d0887"
             ],
             [
              0.1111111111111111,
              "#46039f"
             ],
             [
              0.2222222222222222,
              "#7201a8"
             ],
             [
              0.3333333333333333,
              "#9c179e"
             ],
             [
              0.4444444444444444,
              "#bd3786"
             ],
             [
              0.5555555555555556,
              "#d8576b"
             ],
             [
              0.6666666666666666,
              "#ed7953"
             ],
             [
              0.7777777777777778,
              "#fb9f3a"
             ],
             [
              0.8888888888888888,
              "#fdca26"
             ],
             [
              1,
              "#f0f921"
             ]
            ],
            "type": "contour"
           }
          ],
          "contourcarpet": [
           {
            "colorbar": {
             "outlinewidth": 0,
             "ticks": ""
            },
            "type": "contourcarpet"
           }
          ],
          "heatmap": [
           {
            "colorbar": {
             "outlinewidth": 0,
             "ticks": ""
            },
            "colorscale": [
             [
              0,
              "#0d0887"
             ],
             [
              0.1111111111111111,
              "#46039f"
             ],
             [
              0.2222222222222222,
              "#7201a8"
             ],
             [
              0.3333333333333333,
              "#9c179e"
             ],
             [
              0.4444444444444444,
              "#bd3786"
             ],
             [
              0.5555555555555556,
              "#d8576b"
             ],
             [
              0.6666666666666666,
              "#ed7953"
             ],
             [
              0.7777777777777778,
              "#fb9f3a"
             ],
             [
              0.8888888888888888,
              "#fdca26"
             ],
             [
              1,
              "#f0f921"
             ]
            ],
            "type": "heatmap"
           }
          ],
          "heatmapgl": [
           {
            "colorbar": {
             "outlinewidth": 0,
             "ticks": ""
            },
            "colorscale": [
             [
              0,
              "#0d0887"
             ],
             [
              0.1111111111111111,
              "#46039f"
             ],
             [
              0.2222222222222222,
              "#7201a8"
             ],
             [
              0.3333333333333333,
              "#9c179e"
             ],
             [
              0.4444444444444444,
              "#bd3786"
             ],
             [
              0.5555555555555556,
              "#d8576b"
             ],
             [
              0.6666666666666666,
              "#ed7953"
             ],
             [
              0.7777777777777778,
              "#fb9f3a"
             ],
             [
              0.8888888888888888,
              "#fdca26"
             ],
             [
              1,
              "#f0f921"
             ]
            ],
            "type": "heatmapgl"
           }
          ],
          "histogram": [
           {
            "marker": {
             "colorbar": {
              "outlinewidth": 0,
              "ticks": ""
             }
            },
            "type": "histogram"
           }
          ],
          "histogram2d": [
           {
            "colorbar": {
             "outlinewidth": 0,
             "ticks": ""
            },
            "colorscale": [
             [
              0,
              "#0d0887"
             ],
             [
              0.1111111111111111,
              "#46039f"
             ],
             [
              0.2222222222222222,
              "#7201a8"
             ],
             [
              0.3333333333333333,
              "#9c179e"
             ],
             [
              0.4444444444444444,
              "#bd3786"
             ],
             [
              0.5555555555555556,
              "#d8576b"
             ],
             [
              0.6666666666666666,
              "#ed7953"
             ],
             [
              0.7777777777777778,
              "#fb9f3a"
             ],
             [
              0.8888888888888888,
              "#fdca26"
             ],
             [
              1,
              "#f0f921"
             ]
            ],
            "type": "histogram2d"
           }
          ],
          "histogram2dcontour": [
           {
            "colorbar": {
             "outlinewidth": 0,
             "ticks": ""
            },
            "colorscale": [
             [
              0,
              "#0d0887"
             ],
             [
              0.1111111111111111,
              "#46039f"
             ],
             [
              0.2222222222222222,
              "#7201a8"
             ],
             [
              0.3333333333333333,
              "#9c179e"
             ],
             [
              0.4444444444444444,
              "#bd3786"
             ],
             [
              0.5555555555555556,
              "#d8576b"
             ],
             [
              0.6666666666666666,
              "#ed7953"
             ],
             [
              0.7777777777777778,
              "#fb9f3a"
             ],
             [
              0.8888888888888888,
              "#fdca26"
             ],
             [
              1,
              "#f0f921"
             ]
            ],
            "type": "histogram2dcontour"
           }
          ],
          "mesh3d": [
           {
            "colorbar": {
             "outlinewidth": 0,
             "ticks": ""
            },
            "type": "mesh3d"
           }
          ],
          "parcoords": [
           {
            "line": {
             "colorbar": {
              "outlinewidth": 0,
              "ticks": ""
             }
            },
            "type": "parcoords"
           }
          ],
          "pie": [
           {
            "automargin": true,
            "type": "pie"
           }
          ],
          "scatter": [
           {
            "marker": {
             "colorbar": {
              "outlinewidth": 0,
              "ticks": ""
             }
            },
            "type": "scatter"
           }
          ],
          "scatter3d": [
           {
            "line": {
             "colorbar": {
              "outlinewidth": 0,
              "ticks": ""
             }
            },
            "marker": {
             "colorbar": {
              "outlinewidth": 0,
              "ticks": ""
             }
            },
            "type": "scatter3d"
           }
          ],
          "scattercarpet": [
           {
            "marker": {
             "colorbar": {
              "outlinewidth": 0,
              "ticks": ""
             }
            },
            "type": "scattercarpet"
           }
          ],
          "scattergeo": [
           {
            "marker": {
             "colorbar": {
              "outlinewidth": 0,
              "ticks": ""
             }
            },
            "type": "scattergeo"
           }
          ],
          "scattergl": [
           {
            "marker": {
             "colorbar": {
              "outlinewidth": 0,
              "ticks": ""
             }
            },
            "type": "scattergl"
           }
          ],
          "scattermapbox": [
           {
            "marker": {
             "colorbar": {
              "outlinewidth": 0,
              "ticks": ""
             }
            },
            "type": "scattermapbox"
           }
          ],
          "scatterpolar": [
           {
            "marker": {
             "colorbar": {
              "outlinewidth": 0,
              "ticks": ""
             }
            },
            "type": "scatterpolar"
           }
          ],
          "scatterpolargl": [
           {
            "marker": {
             "colorbar": {
              "outlinewidth": 0,
              "ticks": ""
             }
            },
            "type": "scatterpolargl"
           }
          ],
          "scatterternary": [
           {
            "marker": {
             "colorbar": {
              "outlinewidth": 0,
              "ticks": ""
             }
            },
            "type": "scatterternary"
           }
          ],
          "surface": [
           {
            "colorbar": {
             "outlinewidth": 0,
             "ticks": ""
            },
            "colorscale": [
             [
              0,
              "#0d0887"
             ],
             [
              0.1111111111111111,
              "#46039f"
             ],
             [
              0.2222222222222222,
              "#7201a8"
             ],
             [
              0.3333333333333333,
              "#9c179e"
             ],
             [
              0.4444444444444444,
              "#bd3786"
             ],
             [
              0.5555555555555556,
              "#d8576b"
             ],
             [
              0.6666666666666666,
              "#ed7953"
             ],
             [
              0.7777777777777778,
              "#fb9f3a"
             ],
             [
              0.8888888888888888,
              "#fdca26"
             ],
             [
              1,
              "#f0f921"
             ]
            ],
            "type": "surface"
           }
          ],
          "table": [
           {
            "cells": {
             "fill": {
              "color": "#EBF0F8"
             },
             "line": {
              "color": "white"
             }
            },
            "header": {
             "fill": {
              "color": "#C8D4E3"
             },
             "line": {
              "color": "white"
             }
            },
            "type": "table"
           }
          ]
         },
         "layout": {
          "annotationdefaults": {
           "arrowcolor": "#2a3f5f",
           "arrowhead": 0,
           "arrowwidth": 1
          },
          "coloraxis": {
           "colorbar": {
            "outlinewidth": 0,
            "ticks": ""
           }
          },
          "colorscale": {
           "diverging": [
            [
             0,
             "#8e0152"
            ],
            [
             0.1,
             "#c51b7d"
            ],
            [
             0.2,
             "#de77ae"
            ],
            [
             0.3,
             "#f1b6da"
            ],
            [
             0.4,
             "#fde0ef"
            ],
            [
             0.5,
             "#f7f7f7"
            ],
            [
             0.6,
             "#e6f5d0"
            ],
            [
             0.7,
             "#b8e186"
            ],
            [
             0.8,
             "#7fbc41"
            ],
            [
             0.9,
             "#4d9221"
            ],
            [
             1,
             "#276419"
            ]
           ],
           "sequential": [
            [
             0,
             "#0d0887"
            ],
            [
             0.1111111111111111,
             "#46039f"
            ],
            [
             0.2222222222222222,
             "#7201a8"
            ],
            [
             0.3333333333333333,
             "#9c179e"
            ],
            [
             0.4444444444444444,
             "#bd3786"
            ],
            [
             0.5555555555555556,
             "#d8576b"
            ],
            [
             0.6666666666666666,
             "#ed7953"
            ],
            [
             0.7777777777777778,
             "#fb9f3a"
            ],
            [
             0.8888888888888888,
             "#fdca26"
            ],
            [
             1,
             "#f0f921"
            ]
           ],
           "sequentialminus": [
            [
             0,
             "#0d0887"
            ],
            [
             0.1111111111111111,
             "#46039f"
            ],
            [
             0.2222222222222222,
             "#7201a8"
            ],
            [
             0.3333333333333333,
             "#9c179e"
            ],
            [
             0.4444444444444444,
             "#bd3786"
            ],
            [
             0.5555555555555556,
             "#d8576b"
            ],
            [
             0.6666666666666666,
             "#ed7953"
            ],
            [
             0.7777777777777778,
             "#fb9f3a"
            ],
            [
             0.8888888888888888,
             "#fdca26"
            ],
            [
             1,
             "#f0f921"
            ]
           ]
          },
          "colorway": [
           "#636efa",
           "#EF553B",
           "#00cc96",
           "#ab63fa",
           "#FFA15A",
           "#19d3f3",
           "#FF6692",
           "#B6E880",
           "#FF97FF",
           "#FECB52"
          ],
          "font": {
           "color": "#2a3f5f"
          },
          "geo": {
           "bgcolor": "white",
           "lakecolor": "white",
           "landcolor": "#E5ECF6",
           "showlakes": true,
           "showland": true,
           "subunitcolor": "white"
          },
          "hoverlabel": {
           "align": "left"
          },
          "hovermode": "closest",
          "mapbox": {
           "style": "light"
          },
          "paper_bgcolor": "white",
          "plot_bgcolor": "#E5ECF6",
          "polar": {
           "angularaxis": {
            "gridcolor": "white",
            "linecolor": "white",
            "ticks": ""
           },
           "bgcolor": "#E5ECF6",
           "radialaxis": {
            "gridcolor": "white",
            "linecolor": "white",
            "ticks": ""
           }
          },
          "scene": {
           "xaxis": {
            "backgroundcolor": "#E5ECF6",
            "gridcolor": "white",
            "gridwidth": 2,
            "linecolor": "white",
            "showbackground": true,
            "ticks": "",
            "zerolinecolor": "white"
           },
           "yaxis": {
            "backgroundcolor": "#E5ECF6",
            "gridcolor": "white",
            "gridwidth": 2,
            "linecolor": "white",
            "showbackground": true,
            "ticks": "",
            "zerolinecolor": "white"
           },
           "zaxis": {
            "backgroundcolor": "#E5ECF6",
            "gridcolor": "white",
            "gridwidth": 2,
            "linecolor": "white",
            "showbackground": true,
            "ticks": "",
            "zerolinecolor": "white"
           }
          },
          "shapedefaults": {
           "line": {
            "color": "#2a3f5f"
           }
          },
          "ternary": {
           "aaxis": {
            "gridcolor": "white",
            "linecolor": "white",
            "ticks": ""
           },
           "baxis": {
            "gridcolor": "white",
            "linecolor": "white",
            "ticks": ""
           },
           "bgcolor": "#E5ECF6",
           "caxis": {
            "gridcolor": "white",
            "linecolor": "white",
            "ticks": ""
           }
          },
          "title": {
           "x": 0.05
          },
          "xaxis": {
           "automargin": true,
           "gridcolor": "white",
           "linecolor": "white",
           "ticks": "",
           "title": {
            "standoff": 15
           },
           "zerolinecolor": "white",
           "zerolinewidth": 2
          },
          "yaxis": {
           "automargin": true,
           "gridcolor": "white",
           "linecolor": "white",
           "ticks": "",
           "title": {
            "standoff": 15
           },
           "zerolinecolor": "white",
           "zerolinewidth": 2
          }
         }
        },
        "title": {
         "text": "Coherence Value and # of Topics"
        },
        "xaxis": {
         "anchor": "y",
         "domain": [
          0,
          1
         ],
         "title": {
          "text": "# Topics"
         }
        },
        "yaxis": {
         "anchor": "x",
         "domain": [
          0,
          1
         ],
         "title": {
          "text": "Score"
         }
        }
       }
      },
      "text/html": [
       "<div>\n",
       "        \n",
       "        \n",
       "            <div id=\"2a9523de-9021-4a0e-ad36-8f7355e74669\" class=\"plotly-graph-div\" style=\"height:525px; width:100%;\"></div>\n",
       "            <script type=\"text/javascript\">\n",
       "                require([\"plotly\"], function(Plotly) {\n",
       "                    window.PLOTLYENV=window.PLOTLYENV || {};\n",
       "                    \n",
       "                if (document.getElementById(\"2a9523de-9021-4a0e-ad36-8f7355e74669\")) {\n",
       "                    Plotly.newPlot(\n",
       "                        '2a9523de-9021-4a0e-ad36-8f7355e74669',\n",
       "                        [{\"hovertemplate\": \"Metric=Coherence<br># Topics=%{x}<br>Score=%{y}<extra></extra>\", \"legendgroup\": \"Coherence\", \"line\": {\"color\": \"#636efa\", \"dash\": \"solid\", \"shape\": \"linear\"}, \"mode\": \"lines\", \"name\": \"Coherence\", \"orientation\": \"v\", \"showlegend\": true, \"type\": \"scatter\", \"x\": [2, 4, 8, 16, 32, 64, 100, 200, 300, 400], \"xaxis\": \"x\", \"y\": [0.34434804692624377, 0.3670793576484507, 0.3786307043178452, 0.5619900453115279, 0.5036323971903315, 0.5306239936580006, 0.4810776646731742, 0.41636579215546843, 0.39072414929281923, 0.37882601409493444], \"yaxis\": \"y\"}],\n",
       "                        {\"legend\": {\"title\": {\"text\": \"Metric\"}, \"tracegroupgap\": 0}, \"plot_bgcolor\": \"rgb(245,245,245)\", \"template\": {\"data\": {\"bar\": [{\"error_x\": {\"color\": \"#2a3f5f\"}, \"error_y\": {\"color\": \"#2a3f5f\"}, \"marker\": {\"line\": {\"color\": \"#E5ECF6\", \"width\": 0.5}}, \"type\": \"bar\"}], \"barpolar\": [{\"marker\": {\"line\": {\"color\": \"#E5ECF6\", \"width\": 0.5}}, \"type\": \"barpolar\"}], \"carpet\": [{\"aaxis\": {\"endlinecolor\": \"#2a3f5f\", \"gridcolor\": \"white\", \"linecolor\": \"white\", \"minorgridcolor\": \"white\", \"startlinecolor\": \"#2a3f5f\"}, \"baxis\": {\"endlinecolor\": \"#2a3f5f\", \"gridcolor\": \"white\", \"linecolor\": \"white\", \"minorgridcolor\": \"white\", \"startlinecolor\": \"#2a3f5f\"}, \"type\": \"carpet\"}], \"choropleth\": [{\"colorbar\": {\"outlinewidth\": 0, \"ticks\": \"\"}, \"type\": \"choropleth\"}], \"contour\": [{\"colorbar\": {\"outlinewidth\": 0, \"ticks\": \"\"}, \"colorscale\": [[0.0, \"#0d0887\"], [0.1111111111111111, \"#46039f\"], [0.2222222222222222, \"#7201a8\"], [0.3333333333333333, \"#9c179e\"], [0.4444444444444444, \"#bd3786\"], [0.5555555555555556, \"#d8576b\"], [0.6666666666666666, \"#ed7953\"], [0.7777777777777778, \"#fb9f3a\"], [0.8888888888888888, \"#fdca26\"], [1.0, \"#f0f921\"]], \"type\": \"contour\"}], \"contourcarpet\": [{\"colorbar\": {\"outlinewidth\": 0, \"ticks\": \"\"}, \"type\": \"contourcarpet\"}], \"heatmap\": [{\"colorbar\": {\"outlinewidth\": 0, \"ticks\": \"\"}, \"colorscale\": [[0.0, \"#0d0887\"], [0.1111111111111111, \"#46039f\"], [0.2222222222222222, \"#7201a8\"], [0.3333333333333333, \"#9c179e\"], [0.4444444444444444, \"#bd3786\"], [0.5555555555555556, \"#d8576b\"], [0.6666666666666666, \"#ed7953\"], [0.7777777777777778, \"#fb9f3a\"], [0.8888888888888888, \"#fdca26\"], [1.0, \"#f0f921\"]], \"type\": \"heatmap\"}], \"heatmapgl\": [{\"colorbar\": {\"outlinewidth\": 0, \"ticks\": \"\"}, \"colorscale\": [[0.0, \"#0d0887\"], [0.1111111111111111, \"#46039f\"], [0.2222222222222222, \"#7201a8\"], [0.3333333333333333, \"#9c179e\"], [0.4444444444444444, \"#bd3786\"], [0.5555555555555556, \"#d8576b\"], [0.6666666666666666, \"#ed7953\"], [0.7777777777777778, \"#fb9f3a\"], [0.8888888888888888, \"#fdca26\"], [1.0, \"#f0f921\"]], \"type\": \"heatmapgl\"}], \"histogram\": [{\"marker\": {\"colorbar\": {\"outlinewidth\": 0, \"ticks\": \"\"}}, \"type\": \"histogram\"}], \"histogram2d\": [{\"colorbar\": {\"outlinewidth\": 0, \"ticks\": \"\"}, \"colorscale\": [[0.0, \"#0d0887\"], [0.1111111111111111, \"#46039f\"], [0.2222222222222222, \"#7201a8\"], [0.3333333333333333, \"#9c179e\"], [0.4444444444444444, \"#bd3786\"], [0.5555555555555556, \"#d8576b\"], [0.6666666666666666, \"#ed7953\"], [0.7777777777777778, \"#fb9f3a\"], [0.8888888888888888, \"#fdca26\"], [1.0, \"#f0f921\"]], \"type\": \"histogram2d\"}], \"histogram2dcontour\": [{\"colorbar\": {\"outlinewidth\": 0, \"ticks\": \"\"}, \"colorscale\": [[0.0, \"#0d0887\"], [0.1111111111111111, \"#46039f\"], [0.2222222222222222, \"#7201a8\"], [0.3333333333333333, \"#9c179e\"], [0.4444444444444444, \"#bd3786\"], [0.5555555555555556, \"#d8576b\"], [0.6666666666666666, \"#ed7953\"], [0.7777777777777778, \"#fb9f3a\"], [0.8888888888888888, \"#fdca26\"], [1.0, \"#f0f921\"]], \"type\": \"histogram2dcontour\"}], \"mesh3d\": [{\"colorbar\": {\"outlinewidth\": 0, \"ticks\": \"\"}, \"type\": \"mesh3d\"}], \"parcoords\": [{\"line\": {\"colorbar\": {\"outlinewidth\": 0, \"ticks\": \"\"}}, \"type\": \"parcoords\"}], \"pie\": [{\"automargin\": true, \"type\": \"pie\"}], \"scatter\": [{\"marker\": {\"colorbar\": {\"outlinewidth\": 0, \"ticks\": \"\"}}, \"type\": \"scatter\"}], \"scatter3d\": [{\"line\": {\"colorbar\": {\"outlinewidth\": 0, \"ticks\": \"\"}}, \"marker\": {\"colorbar\": {\"outlinewidth\": 0, \"ticks\": \"\"}}, \"type\": \"scatter3d\"}], \"scattercarpet\": [{\"marker\": {\"colorbar\": {\"outlinewidth\": 0, \"ticks\": \"\"}}, \"type\": \"scattercarpet\"}], \"scattergeo\": [{\"marker\": {\"colorbar\": {\"outlinewidth\": 0, \"ticks\": \"\"}}, \"type\": \"scattergeo\"}], \"scattergl\": [{\"marker\": {\"colorbar\": {\"outlinewidth\": 0, \"ticks\": \"\"}}, \"type\": \"scattergl\"}], \"scattermapbox\": [{\"marker\": {\"colorbar\": {\"outlinewidth\": 0, \"ticks\": \"\"}}, \"type\": \"scattermapbox\"}], \"scatterpolar\": [{\"marker\": {\"colorbar\": {\"outlinewidth\": 0, \"ticks\": \"\"}}, \"type\": \"scatterpolar\"}], \"scatterpolargl\": [{\"marker\": {\"colorbar\": {\"outlinewidth\": 0, \"ticks\": \"\"}}, \"type\": \"scatterpolargl\"}], \"scatterternary\": [{\"marker\": {\"colorbar\": {\"outlinewidth\": 0, \"ticks\": \"\"}}, \"type\": \"scatterternary\"}], \"surface\": [{\"colorbar\": {\"outlinewidth\": 0, \"ticks\": \"\"}, \"colorscale\": [[0.0, \"#0d0887\"], [0.1111111111111111, \"#46039f\"], [0.2222222222222222, \"#7201a8\"], [0.3333333333333333, \"#9c179e\"], [0.4444444444444444, \"#bd3786\"], [0.5555555555555556, \"#d8576b\"], [0.6666666666666666, \"#ed7953\"], [0.7777777777777778, \"#fb9f3a\"], [0.8888888888888888, \"#fdca26\"], [1.0, \"#f0f921\"]], \"type\": \"surface\"}], \"table\": [{\"cells\": {\"fill\": {\"color\": \"#EBF0F8\"}, \"line\": {\"color\": \"white\"}}, \"header\": {\"fill\": {\"color\": \"#C8D4E3\"}, \"line\": {\"color\": \"white\"}}, \"type\": \"table\"}]}, \"layout\": {\"annotationdefaults\": {\"arrowcolor\": \"#2a3f5f\", \"arrowhead\": 0, \"arrowwidth\": 1}, \"coloraxis\": {\"colorbar\": {\"outlinewidth\": 0, \"ticks\": \"\"}}, \"colorscale\": {\"diverging\": [[0, \"#8e0152\"], [0.1, \"#c51b7d\"], [0.2, \"#de77ae\"], [0.3, \"#f1b6da\"], [0.4, \"#fde0ef\"], [0.5, \"#f7f7f7\"], [0.6, \"#e6f5d0\"], [0.7, \"#b8e186\"], [0.8, \"#7fbc41\"], [0.9, \"#4d9221\"], [1, \"#276419\"]], \"sequential\": [[0.0, \"#0d0887\"], [0.1111111111111111, \"#46039f\"], [0.2222222222222222, \"#7201a8\"], [0.3333333333333333, \"#9c179e\"], [0.4444444444444444, \"#bd3786\"], [0.5555555555555556, \"#d8576b\"], [0.6666666666666666, \"#ed7953\"], [0.7777777777777778, \"#fb9f3a\"], [0.8888888888888888, \"#fdca26\"], [1.0, \"#f0f921\"]], \"sequentialminus\": [[0.0, \"#0d0887\"], [0.1111111111111111, \"#46039f\"], [0.2222222222222222, \"#7201a8\"], [0.3333333333333333, \"#9c179e\"], [0.4444444444444444, \"#bd3786\"], [0.5555555555555556, \"#d8576b\"], [0.6666666666666666, \"#ed7953\"], [0.7777777777777778, \"#fb9f3a\"], [0.8888888888888888, \"#fdca26\"], [1.0, \"#f0f921\"]]}, \"colorway\": [\"#636efa\", \"#EF553B\", \"#00cc96\", \"#ab63fa\", \"#FFA15A\", \"#19d3f3\", \"#FF6692\", \"#B6E880\", \"#FF97FF\", \"#FECB52\"], \"font\": {\"color\": \"#2a3f5f\"}, \"geo\": {\"bgcolor\": \"white\", \"lakecolor\": \"white\", \"landcolor\": \"#E5ECF6\", \"showlakes\": true, \"showland\": true, \"subunitcolor\": \"white\"}, \"hoverlabel\": {\"align\": \"left\"}, \"hovermode\": \"closest\", \"mapbox\": {\"style\": \"light\"}, \"paper_bgcolor\": \"white\", \"plot_bgcolor\": \"#E5ECF6\", \"polar\": {\"angularaxis\": {\"gridcolor\": \"white\", \"linecolor\": \"white\", \"ticks\": \"\"}, \"bgcolor\": \"#E5ECF6\", \"radialaxis\": {\"gridcolor\": \"white\", \"linecolor\": \"white\", \"ticks\": \"\"}}, \"scene\": {\"xaxis\": {\"backgroundcolor\": \"#E5ECF6\", \"gridcolor\": \"white\", \"gridwidth\": 2, \"linecolor\": \"white\", \"showbackground\": true, \"ticks\": \"\", \"zerolinecolor\": \"white\"}, \"yaxis\": {\"backgroundcolor\": \"#E5ECF6\", \"gridcolor\": \"white\", \"gridwidth\": 2, \"linecolor\": \"white\", \"showbackground\": true, \"ticks\": \"\", \"zerolinecolor\": \"white\"}, \"zaxis\": {\"backgroundcolor\": \"#E5ECF6\", \"gridcolor\": \"white\", \"gridwidth\": 2, \"linecolor\": \"white\", \"showbackground\": true, \"ticks\": \"\", \"zerolinecolor\": \"white\"}}, \"shapedefaults\": {\"line\": {\"color\": \"#2a3f5f\"}}, \"ternary\": {\"aaxis\": {\"gridcolor\": \"white\", \"linecolor\": \"white\", \"ticks\": \"\"}, \"baxis\": {\"gridcolor\": \"white\", \"linecolor\": \"white\", \"ticks\": \"\"}, \"bgcolor\": \"#E5ECF6\", \"caxis\": {\"gridcolor\": \"white\", \"linecolor\": \"white\", \"ticks\": \"\"}}, \"title\": {\"x\": 0.05}, \"xaxis\": {\"automargin\": true, \"gridcolor\": \"white\", \"linecolor\": \"white\", \"ticks\": \"\", \"title\": {\"standoff\": 15}, \"zerolinecolor\": \"white\", \"zerolinewidth\": 2}, \"yaxis\": {\"automargin\": true, \"gridcolor\": \"white\", \"linecolor\": \"white\", \"ticks\": \"\", \"title\": {\"standoff\": 15}, \"zerolinecolor\": \"white\", \"zerolinewidth\": 2}}}, \"title\": {\"text\": \"Coherence Value and # of Topics\"}, \"xaxis\": {\"anchor\": \"y\", \"domain\": [0.0, 1.0], \"title\": {\"text\": \"# Topics\"}}, \"yaxis\": {\"anchor\": \"x\", \"domain\": [0.0, 1.0], \"title\": {\"text\": \"Score\"}}},\n",
       "                        {\"responsive\": true}\n",
       "                    ).then(function(){\n",
       "                            \n",
       "var gd = document.getElementById('2a9523de-9021-4a0e-ad36-8f7355e74669');\n",
       "var x = new MutationObserver(function (mutations, observer) {{\n",
       "        var display = window.getComputedStyle(gd).display;\n",
       "        if (!display || display === 'none') {{\n",
       "            console.log([gd, 'removed!']);\n",
       "            Plotly.purge(gd);\n",
       "            observer.disconnect();\n",
       "        }}\n",
       "}});\n",
       "\n",
       "// Listen for the removal of the full notebook cells\n",
       "var notebookContainer = gd.closest('#notebook-container');\n",
       "if (notebookContainer) {{\n",
       "    x.observe(notebookContainer, {childList: true});\n",
       "}}\n",
       "\n",
       "// Listen for the clearing of the current output cell\n",
       "var outputEl = gd.closest('.output');\n",
       "if (outputEl) {{\n",
       "    x.observe(outputEl, {childList: true});\n",
       "}}\n",
       "\n",
       "                        })\n",
       "                };\n",
       "                });\n",
       "            </script>\n",
       "        </div>"
      ]
     },
     "metadata": {},
     "output_type": "display_data"
    },
    {
     "name": "stdout",
     "output_type": "stream",
     "text": [
      "Best Model: Latent Dirichlet Allocation | # Topics: 16 | Coherence: 0.562\n"
     ]
    }
   ],
   "source": [
    "tune_lda_positive = tune_model(model='lda', supervised_target=None, estimator='xgboost')"
   ]
  },
  {
   "cell_type": "markdown",
   "metadata": {},
   "source": [
    "## Negative reviews"
   ]
  },
  {
   "cell_type": "code",
   "execution_count": 23,
   "metadata": {},
   "outputs": [
    {
     "data": {
      "text/html": [
       "<style  type=\"text/css\" >\n",
       "</style><table id=\"T_df62b08c_301c_11eb_b09e_c48e8ff9d2e0\" ><thead>    <tr>        <th class=\"col_heading level0 col0\" >Description</th>        <th class=\"col_heading level0 col1\" >Value</th>    </tr></thead><tbody>\n",
       "                <tr>\n",
       "                                <td id=\"T_df62b08c_301c_11eb_b09e_c48e8ff9d2e0row0_col0\" class=\"data row0 col0\" >session_id</td>\n",
       "                        <td id=\"T_df62b08c_301c_11eb_b09e_c48e8ff9d2e0row0_col1\" class=\"data row0 col1\" >6547</td>\n",
       "            </tr>\n",
       "            <tr>\n",
       "                                <td id=\"T_df62b08c_301c_11eb_b09e_c48e8ff9d2e0row1_col0\" class=\"data row1 col0\" >Documents</td>\n",
       "                        <td id=\"T_df62b08c_301c_11eb_b09e_c48e8ff9d2e0row1_col1\" class=\"data row1 col1\" >1</td>\n",
       "            </tr>\n",
       "            <tr>\n",
       "                                <td id=\"T_df62b08c_301c_11eb_b09e_c48e8ff9d2e0row2_col0\" class=\"data row2 col0\" >Vocab Size</td>\n",
       "                        <td id=\"T_df62b08c_301c_11eb_b09e_c48e8ff9d2e0row2_col1\" class=\"data row2 col1\" >17</td>\n",
       "            </tr>\n",
       "            <tr>\n",
       "                                <td id=\"T_df62b08c_301c_11eb_b09e_c48e8ff9d2e0row3_col0\" class=\"data row3 col0\" >Custom Stopwords</td>\n",
       "                        <td id=\"T_df62b08c_301c_11eb_b09e_c48e8ff9d2e0row3_col1\" class=\"data row3 col1\" >True</td>\n",
       "            </tr>\n",
       "    </tbody></table>"
      ],
      "text/plain": [
       "<pandas.io.formats.style.Styler at 0x2733be220c8>"
      ]
     },
     "metadata": {},
     "output_type": "display_data"
    }
   ],
   "source": [
    "exp_nlp_neg = setup(data = neg_review_imp, target = 'r_text',\n",
    "                custom_stopwords = [ 'hotel', 'room', 'nice', 'good','restaurant', 'food','bad'])"
   ]
  },
  {
   "cell_type": "code",
   "execution_count": 24,
   "metadata": {},
   "outputs": [
    {
     "name": "stdout",
     "output_type": "stream",
     "text": [
      "LdaModel(num_terms=17, num_topics=4, decay=0.5, chunksize=100)\n"
     ]
    }
   ],
   "source": [
    "#create an LDA model\n",
    "lda_neg_custom = create_model('lda')\n",
    "print(lda_neg_custom)"
   ]
  },
  {
   "cell_type": "code",
   "execution_count": 25,
   "metadata": {},
   "outputs": [
    {
     "data": {
      "text/html": [
       "<div>\n",
       "<style scoped>\n",
       "    .dataframe tbody tr th:only-of-type {\n",
       "        vertical-align: middle;\n",
       "    }\n",
       "\n",
       "    .dataframe tbody tr th {\n",
       "        vertical-align: top;\n",
       "    }\n",
       "\n",
       "    .dataframe thead th {\n",
       "        text-align: right;\n",
       "    }\n",
       "</style>\n",
       "<table border=\"1\" class=\"dataframe\">\n",
       "  <thead>\n",
       "    <tr style=\"text-align: right;\">\n",
       "      <th></th>\n",
       "      <th>Unnamed: 0</th>\n",
       "      <th>r_points</th>\n",
       "      <th>r_text</th>\n",
       "      <th>place</th>\n",
       "      <th>scores</th>\n",
       "      <th>compound</th>\n",
       "      <th>score</th>\n",
       "      <th>Topic_0</th>\n",
       "      <th>Topic_1</th>\n",
       "      <th>Topic_2</th>\n",
       "      <th>Topic_3</th>\n",
       "      <th>Dominant_Topic</th>\n",
       "      <th>Perc_Dominant_Topic</th>\n",
       "    </tr>\n",
       "  </thead>\n",
       "  <tbody>\n",
       "    <tr>\n",
       "      <th>0</th>\n",
       "      <td>2</td>\n",
       "      <td>40</td>\n",
       "      <td>expect shopping mall already see king idea spa...</td>\n",
       "      <td>Nicosia mall</td>\n",
       "      <td>{'neg': 0.167, 'neu': 0.833, 'pos': 0.0, 'comp...</td>\n",
       "      <td>-0.8131</td>\n",
       "      <td>neg</td>\n",
       "      <td>0.003337</td>\n",
       "      <td>0.99079</td>\n",
       "      <td>0.002506</td>\n",
       "      <td>0.003368</td>\n",
       "      <td>Topic 1</td>\n",
       "      <td>0.99</td>\n",
       "    </tr>\n",
       "  </tbody>\n",
       "</table>\n",
       "</div>"
      ],
      "text/plain": [
       "   Unnamed: 0  r_points                                             r_text  \\\n",
       "0           2        40  expect shopping mall already see king idea spa...   \n",
       "\n",
       "          place                                             scores  compound  \\\n",
       "0  Nicosia mall  {'neg': 0.167, 'neu': 0.833, 'pos': 0.0, 'comp...   -0.8131   \n",
       "\n",
       "  score   Topic_0  Topic_1   Topic_2   Topic_3 Dominant_Topic  \\\n",
       "0   neg  0.003337  0.99079  0.002506  0.003368        Topic 1   \n",
       "\n",
       "   Perc_Dominant_Topic  \n",
       "0                 0.99  "
      ]
     },
     "execution_count": 25,
     "metadata": {},
     "output_type": "execute_result"
    }
   ],
   "source": [
    "apply_lda_neg = assign_model(lda_neg_custom)\n",
    "apply_lda_neg"
   ]
  },
  {
   "cell_type": "code",
   "execution_count": 26,
   "metadata": {},
   "outputs": [
    {
     "data": {
      "application/vnd.jupyter.widget-view+json": {
       "model_id": "f00dcb9a4f2a49dcb48911fe63196fce",
       "version_major": 2,
       "version_minor": 0
      },
      "text/plain": [
       "interactive(children=(ToggleButtons(description='Plot Type:', icons=('',), options=(('Frequency Plot', 'freque…"
      ]
     },
     "metadata": {},
     "output_type": "display_data"
    }
   ],
   "source": [
    "evaluate_model(lda_neg_custom)"
   ]
  },
  {
   "cell_type": "code",
   "execution_count": 27,
   "metadata": {},
   "outputs": [
    {
     "data": {
      "text/html": [
       "        <script type=\"text/javascript\">\n",
       "        window.PlotlyConfig = {MathJaxConfig: 'local'};\n",
       "        if (window.MathJax) {MathJax.Hub.Config({SVG: {font: \"STIX-Web\"}});}\n",
       "        if (typeof require !== 'undefined') {\n",
       "        require.undef(\"plotly\");\n",
       "        requirejs.config({\n",
       "            paths: {\n",
       "                'plotly': ['https://cdn.plot.ly/plotly-latest.min']\n",
       "            }\n",
       "        });\n",
       "        require(['plotly'], function(Plotly) {\n",
       "            window._Plotly = Plotly;\n",
       "        });\n",
       "        }\n",
       "        </script>\n",
       "        "
      ]
     },
     "metadata": {},
     "output_type": "display_data"
    },
    {
     "data": {
      "text/html": [
       "\n",
       "<link rel=\"stylesheet\" type=\"text/css\" href=\"https://cdn.rawgit.com/bmabey/pyLDAvis/files/ldavis.v1.0.0.css\">\n",
       "\n",
       "\n",
       "<div id=\"ldavis_el204842693923579976681860097\"></div>\n",
       "<script type=\"text/javascript\">\n",
       "\n",
       "var ldavis_el204842693923579976681860097_data = {\"mdsDat\": {\"x\": [-1.0134820886729346e-07, -7.77106468527219e-08, 2.0360300014485883e-07, -2.45441444248435e-08], \"y\": [-3.014636222481079e-08, 2.180023489837562e-07, -1.922915665394877e-07, 4.435579780542284e-09], \"topics\": [1, 2, 3, 4], \"cluster\": [1, 1, 1, 1], \"Freq\": [99.07898712158203, 0.33676984906196594, 0.33367636799812317, 0.2505691647529602]}, \"tinfo\": {\"Term\": [\"feel\", \"well\", \"shopping\", \"expect\", \"shop\", \"lot\", \"mall\", \"waste\", \"idea\", \"already\", \"spacious\", \"variety\", \"king\", \"trip\", \"see\", \"worth\", \"space\", \"feel\", \"well\", \"shopping\", \"expect\", \"shop\", \"lot\", \"mall\", \"waste\", \"idea\", \"already\", \"spacious\", \"variety\", \"king\", \"trip\", \"see\", \"worth\", \"space\", \"worth\", \"trip\", \"see\", \"lot\", \"space\", \"king\", \"spacious\", \"shop\", \"mall\", \"idea\", \"expect\", \"variety\", \"waste\", \"already\", \"shopping\", \"feel\", \"well\", \"space\", \"see\", \"variety\", \"already\", \"king\", \"worth\", \"waste\", \"idea\", \"trip\", \"well\", \"mall\", \"spacious\", \"shop\", \"shopping\", \"expect\", \"lot\", \"feel\", \"space\", \"worth\", \"see\", \"trip\", \"king\", \"variety\", \"spacious\", \"already\", \"idea\", \"waste\", \"mall\", \"lot\", \"shop\", \"expect\", \"shopping\", \"well\", \"feel\"], \"Freq\": [1.0, 1.0, 1.0, 1.0, 1.0, 1.0, 1.0, 1.0, 1.0, 0.0, 0.0, 0.0, 0.0, 0.0, 0.0, 0.0, 0.0, 0.9916757941246033, 0.9913367033004761, 0.9912424683570862, 0.9911248683929443, 0.9909501671791077, 0.9908892512321472, 0.9908578991889954, 0.9908287525177002, 0.9908037185668945, 0.9907612800598145, 0.9907526969909668, 0.990710973739624, 0.9904581308364868, 0.9904289841651917, 0.990330159664154, 0.9902425408363342, 0.9900330901145935, 0.003375812666490674, 0.003374219173565507, 0.003370985621586442, 0.003372673876583576, 0.0033697718754410744, 0.0033711225260049105, 0.003370193997398019, 0.003369102021679282, 0.0033670482225716114, 0.0033660854678601027, 0.0033668894320726395, 0.003364953212440014, 0.003365257754921913, 0.0033646286465227604, 0.0033640083856880665, 0.003361696843057871, 0.003356425790116191, 0.00334733072668314, 0.0033411774784326553, 0.003340783528983593, 0.0033402638509869576, 0.0033388903830200434, 0.003337801666930318, 0.003338567214086652, 0.003338131820783019, 0.003336321795359254, 0.0033388356678187847, 0.0033363234251737595, 0.003334866603836417, 0.003332710824906826, 0.0033328367862850428, 0.0033319396898150444, 0.0033302020747214556, 0.0033279969356954098, 0.002505665645003319, 0.002505708020180464, 0.00250567146576941, 0.0025056772865355015, 0.002505688462406397, 0.002505701966583729, 0.0025057231541723013, 0.0025057054590433836, 0.0025056905578821898, 0.0025056672748178244, 0.0025056565646082163, 0.0025056726299226284, 0.002505688462406397, 0.002505732700228691, 0.0025057345628738403, 0.002505695912986994, 0.0025056751910597086], \"Total\": [1.0, 1.0, 1.0, 1.0, 1.0, 1.0, 1.0, 1.0, 1.0, 0.0, 0.0, 0.0, 0.0, 0.0, 0.0, 0.0, 0.0, 1.000871181488037, 1.000537633895874, 1.0004451274871826, 1.0003294944763184, 1.0001577138900757, 1.0000978708267212, 1.000066876411438, 1.0000382661819458, 1.0000137090682983, 0.999971866607666, 0.9999634623527527, 0.9999224543571472, 0.9996737837791443, 0.9996451735496521, 0.9995480179786682, 0.9994618892669678, 0.9992558360099792, 0.9994618892669678, 0.9996451735496521, 0.9995480179786682, 1.0000978708267212, 0.9992558360099792, 0.9996737837791443, 0.9999634623527527, 1.0001577138900757, 1.000066876411438, 1.0000137090682983, 1.0003294944763184, 0.9999224543571472, 1.0000382661819458, 0.999971866607666, 1.0004451274871826, 1.000871181488037, 1.000537633895874, 0.9992558360099792, 0.9995480179786682, 0.9999224543571472, 0.999971866607666, 0.9996737837791443, 0.9994618892669678, 1.0000382661819458, 1.0000137090682983, 0.9996451735496521, 1.000537633895874, 1.000066876411438, 0.9999634623527527, 1.0001577138900757, 1.0004451274871826, 1.0003294944763184, 1.0000978708267212, 1.000871181488037, 0.9992558360099792, 0.9994618892669678, 0.9995480179786682, 0.9996451735496521, 0.9996737837791443, 0.9999224543571472, 0.9999634623527527, 0.999971866607666, 1.0000137090682983, 1.0000382661819458, 1.000066876411438, 1.0000978708267212, 1.0001577138900757, 1.0003294944763184, 1.0004451274871826, 1.000537633895874, 1.000871181488037], \"Category\": [\"Default\", \"Default\", \"Default\", \"Default\", \"Default\", \"Default\", \"Default\", \"Default\", \"Default\", \"Default\", \"Default\", \"Default\", \"Default\", \"Default\", \"Default\", \"Default\", \"Default\", \"Topic1\", \"Topic1\", \"Topic1\", \"Topic1\", \"Topic1\", \"Topic1\", \"Topic1\", \"Topic1\", \"Topic1\", \"Topic1\", \"Topic1\", \"Topic1\", \"Topic1\", \"Topic1\", \"Topic1\", \"Topic1\", \"Topic1\", \"Topic2\", \"Topic2\", \"Topic2\", \"Topic2\", \"Topic2\", \"Topic2\", \"Topic2\", \"Topic2\", \"Topic2\", \"Topic2\", \"Topic2\", \"Topic2\", \"Topic2\", \"Topic2\", \"Topic2\", \"Topic2\", \"Topic2\", \"Topic3\", \"Topic3\", \"Topic3\", \"Topic3\", \"Topic3\", \"Topic3\", \"Topic3\", \"Topic3\", \"Topic3\", \"Topic3\", \"Topic3\", \"Topic3\", \"Topic3\", \"Topic3\", \"Topic3\", \"Topic3\", \"Topic3\", \"Topic4\", \"Topic4\", \"Topic4\", \"Topic4\", \"Topic4\", \"Topic4\", \"Topic4\", \"Topic4\", \"Topic4\", \"Topic4\", \"Topic4\", \"Topic4\", \"Topic4\", \"Topic4\", \"Topic4\", \"Topic4\", \"Topic4\"], \"logprob\": [17.0, 16.0, 15.0, 14.0, 13.0, 12.0, 11.0, 10.0, 9.0, 8.0, 7.0, 6.0, 5.0, 4.0, 3.0, 2.0, 1.0, -2.8322999477386475, -2.83270001411438, -2.8327999114990234, -2.832900047302246, -2.8331000804901123, -2.8331000804901123, -2.8331000804901123, -2.833199977874756, -2.833199977874756, -2.833199977874756, -2.8333001136779785, -2.8333001136779785, -2.8334999084472656, -2.8336000442504883, -2.833699941635132, -2.8338000774383545, -2.8340001106262207, -2.8308000564575195, -2.8313000202178955, -2.832200050354004, -2.831700086593628, -2.8326001167297363, -2.832200050354004, -2.8324999809265137, -2.8327999114990234, -2.833400011062622, -2.833699941635132, -2.8334999084472656, -2.8340001106262207, -2.833899974822998, -2.8341000080108643, -2.8343000411987305, -2.8350000381469727, -2.8366000652313232, -2.8301000595092773, -2.831899881362915, -2.8320000171661377, -2.832200050354004, -2.8326001167297363, -2.832900047302246, -2.83270001411438, -2.8327999114990234, -2.8333001136779785, -2.8326001167297363, -2.8333001136779785, -2.8338000774383545, -2.834399938583374, -2.834399938583374, -2.834700107574463, -2.835200071334839, -2.8357999324798584, -2.833199977874756, -2.833199977874756, -2.833199977874756, -2.833199977874756, -2.833199977874756, -2.833199977874756, -2.833199977874756, -2.833199977874756, -2.833199977874756, -2.833199977874756, -2.833199977874756, -2.833199977874756, -2.833199977874756, -2.833199977874756, -2.833199977874756, -2.833199977874756, -2.833199977874756], \"loglift\": [17.0, 16.0, 15.0, 14.0, 13.0, 12.0, 11.0, 10.0, 9.0, 8.0, 7.0, 6.0, 5.0, 4.0, 3.0, 2.0, 1.0, 0.0, 0.0, 0.0, 0.0, 0.0, 0.0, 0.0, 0.0, 0.0, -0.0, -0.0, -0.0, -0.0, -0.0, -0.0, -0.0, -0.0, 0.002899999963119626, 0.002300000051036477, 0.00139999995008111, 0.00139999995008111, 0.00139999995008111, 0.0013000000035390258, 0.0007999999797903001, 0.0003000000142492354, -0.0003000000142492354, -0.0005000000237487257, -0.0006000000284984708, -0.000699999975040555, -0.0007999999797903001, -0.0008999999845400453, -0.001500000013038516, -0.0027000000700354576, -0.0038999998942017555, 0.0038999998942017555, 0.0017999999690800905, 0.0013000000035390258, 0.0010999999940395355, 0.0010000000474974513, 0.0007999999797903001, 0.0005000000237487257, 0.00039999998989515007, 0.00019999999494757503, 9.999999747378752e-05, -0.00019999999494757503, -0.0005000000237487257, -0.00139999995008111, -0.0015999999595806003, -0.0017999999690800905, -0.002099999925121665, -0.0035000001080334187, 0.000699999975040555, 0.0005000000237487257, 0.00039999998989515007, 0.0003000000142492354, 0.0003000000142492354, 9.999999747378752e-05, 0.0, 0.0, -0.0, -0.0, -9.999999747378752e-05, -9.999999747378752e-05, -0.00019999999494757503, -0.0003000000142492354, -0.00039999998989515007, -0.0005000000237487257, -0.0008999999845400453]}, \"token.table\": {\"Topic\": [1, 1, 1, 1, 1, 1, 1, 1, 1, 1, 1, 1, 1, 1, 1, 1, 1], \"Freq\": [1.000028133392334, 0.9996706247329712, 0.999129593372345, 0.9999862909317017, 1.0003262758255005, 0.9999021291732788, 0.999933123588562, 1.0004521608352661, 0.9998422861099243, 0.9995550513267517, 1.0007447004318237, 1.000036597251892, 1.0003550052642822, 1.0000776052474976, 0.9999617338180542, 0.9994626641273499, 1.0005383491516113], \"Term\": [\"already\", \"expect\", \"feel\", \"idea\", \"king\", \"lot\", \"mall\", \"see\", \"shop\", \"shopping\", \"space\", \"spacious\", \"trip\", \"variety\", \"waste\", \"well\", \"worth\"]}, \"R\": 17, \"lambda.step\": 0.01, \"plot.opts\": {\"xlab\": \"PC1\", \"ylab\": \"PC2\"}, \"topic.order\": [2, 4, 1, 3]};\n",
       "\n",
       "function LDAvis_load_lib(url, callback){\n",
       "  var s = document.createElement('script');\n",
       "  s.src = url;\n",
       "  s.async = true;\n",
       "  s.onreadystatechange = s.onload = callback;\n",
       "  s.onerror = function(){console.warn(\"failed to load library \" + url);};\n",
       "  document.getElementsByTagName(\"head\")[0].appendChild(s);\n",
       "}\n",
       "\n",
       "if(typeof(LDAvis) !== \"undefined\"){\n",
       "   // already loaded: just create the visualization\n",
       "   !function(LDAvis){\n",
       "       new LDAvis(\"#\" + \"ldavis_el204842693923579976681860097\", ldavis_el204842693923579976681860097_data);\n",
       "   }(LDAvis);\n",
       "}else if(typeof define === \"function\" && define.amd){\n",
       "   // require.js is available: use it to load d3/LDAvis\n",
       "   require.config({paths: {d3: \"https://cdnjs.cloudflare.com/ajax/libs/d3/3.5.5/d3.min\"}});\n",
       "   require([\"d3\"], function(d3){\n",
       "      window.d3 = d3;\n",
       "      LDAvis_load_lib(\"https://cdn.rawgit.com/bmabey/pyLDAvis/files/ldavis.v1.0.0.js\", function(){\n",
       "        new LDAvis(\"#\" + \"ldavis_el204842693923579976681860097\", ldavis_el204842693923579976681860097_data);\n",
       "      });\n",
       "    });\n",
       "}else{\n",
       "    // require.js not available: dynamically load d3 & LDAvis\n",
       "    LDAvis_load_lib(\"https://cdnjs.cloudflare.com/ajax/libs/d3/3.5.5/d3.min.js\", function(){\n",
       "         LDAvis_load_lib(\"https://cdn.rawgit.com/bmabey/pyLDAvis/files/ldavis.v1.0.0.js\", function(){\n",
       "                 new LDAvis(\"#\" + \"ldavis_el204842693923579976681860097\", ldavis_el204842693923579976681860097_data);\n",
       "            })\n",
       "         });\n",
       "}\n",
       "</script>"
      ],
      "text/plain": [
       "PreparedData(topic_coordinates=                  x             y  topics  cluster       Freq\n",
       "topic                                                        \n",
       "1     -1.013482e-07 -3.014636e-08       1        1  99.078987\n",
       "3     -7.771065e-08  2.180023e-07       2        1   0.336770\n",
       "0      2.036030e-07 -1.922916e-07       3        1   0.333676\n",
       "2     -2.454414e-08  4.435580e-09       4        1   0.250569, topic_info=        Term      Freq     Total Category  logprob  loglift\n",
       "2       feel  1.000000  1.000000  Default  17.0000  17.0000\n",
       "15      well  1.000000  1.000000  Default  16.0000  16.0000\n",
       "9   shopping  1.000000  1.000000  Default  15.0000  15.0000\n",
       "1     expect  1.000000  1.000000  Default  14.0000  14.0000\n",
       "8       shop  1.000000  1.000000  Default  13.0000  13.0000\n",
       "..       ...       ...       ...      ...      ...      ...\n",
       "8       shop  0.002506  1.000158   Topic4  -2.8332  -0.0002\n",
       "1     expect  0.002506  1.000329   Topic4  -2.8332  -0.0003\n",
       "9   shopping  0.002506  1.000445   Topic4  -2.8332  -0.0004\n",
       "15      well  0.002506  1.000538   Topic4  -2.8332  -0.0005\n",
       "2       feel  0.002506  1.000871   Topic4  -2.8332  -0.0009\n",
       "\n",
       "[85 rows x 6 columns], token_table=      Topic      Freq      Term\n",
       "term                           \n",
       "0         1  1.000028   already\n",
       "1         1  0.999671    expect\n",
       "2         1  0.999130      feel\n",
       "3         1  0.999986      idea\n",
       "4         1  1.000326      king\n",
       "5         1  0.999902       lot\n",
       "6         1  0.999933      mall\n",
       "7         1  1.000452       see\n",
       "8         1  0.999842      shop\n",
       "9         1  0.999555  shopping\n",
       "10        1  1.000745     space\n",
       "11        1  1.000037  spacious\n",
       "12        1  1.000355      trip\n",
       "13        1  1.000078   variety\n",
       "14        1  0.999962     waste\n",
       "15        1  0.999463      well\n",
       "16        1  1.000538     worth, R=17, lambda_step=0.01, plot_opts={'xlab': 'PC1', 'ylab': 'PC2'}, topic_order=[2, 4, 1, 3])"
      ]
     },
     "metadata": {},
     "output_type": "display_data"
    }
   ],
   "source": [
    "plot_model(lda_neg_custom, plot ='topic_model')"
   ]
  },
  {
   "cell_type": "code",
   "execution_count": null,
   "metadata": {},
   "outputs": [],
   "source": []
  }
 ],
 "metadata": {
  "kernelspec": {
   "display_name": "Python 3",
   "language": "python",
   "name": "python3"
  },
  "language_info": {
   "codemirror_mode": {
    "name": "ipython",
    "version": 3
   },
   "file_extension": ".py",
   "mimetype": "text/x-python",
   "name": "python",
   "nbconvert_exporter": "python",
   "pygments_lexer": "ipython3",
   "version": "3.7.4"
  }
 },
 "nbformat": 4,
 "nbformat_minor": 2
}
