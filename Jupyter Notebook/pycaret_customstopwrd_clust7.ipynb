{
 "cells": [
  {
   "cell_type": "code",
   "execution_count": 1,
   "metadata": {},
   "outputs": [],
   "source": [
    "import pandas as pd\n",
    "import glob"
   ]
  },
  {
   "cell_type": "markdown",
   "metadata": {},
   "source": [
    "# Positive Reviews"
   ]
  },
  {
   "cell_type": "code",
   "execution_count": 2,
   "metadata": {},
   "outputs": [
    {
     "data": {
      "text/html": [
       "<div>\n",
       "<style scoped>\n",
       "    .dataframe tbody tr th:only-of-type {\n",
       "        vertical-align: middle;\n",
       "    }\n",
       "\n",
       "    .dataframe tbody tr th {\n",
       "        vertical-align: top;\n",
       "    }\n",
       "\n",
       "    .dataframe thead th {\n",
       "        text-align: right;\n",
       "    }\n",
       "</style>\n",
       "<table border=\"1\" class=\"dataframe\">\n",
       "  <thead>\n",
       "    <tr style=\"text-align: right;\">\n",
       "      <th></th>\n",
       "      <th>Unnamed: 0</th>\n",
       "      <th>r_points</th>\n",
       "      <th>r_text</th>\n",
       "      <th>place</th>\n",
       "      <th>Unnamed: 3</th>\n",
       "      <th>Unnamed: 4</th>\n",
       "      <th>scores</th>\n",
       "      <th>compound</th>\n",
       "      <th>score</th>\n",
       "    </tr>\n",
       "  </thead>\n",
       "  <tbody>\n",
       "    <tr>\n",
       "      <th>0</th>\n",
       "      <td>0</td>\n",
       "      <td>40</td>\n",
       "      <td>Located in Nicosia. You can find make almost y...</td>\n",
       "      <td>Artisan's Burgerbar</td>\n",
       "      <td>Review 1 Similarity</td>\n",
       "      <td>0.298142</td>\n",
       "      <td>{'neg': 0.0, 'neu': 0.793, 'pos': 0.207, 'comp...</td>\n",
       "      <td>0.9432</td>\n",
       "      <td>pos</td>\n",
       "    </tr>\n",
       "    <tr>\n",
       "      <th>1</th>\n",
       "      <td>1</td>\n",
       "      <td>50</td>\n",
       "      <td>Probably the best burgers in town, top quality...</td>\n",
       "      <td>Artisan's Burgerbar</td>\n",
       "      <td>Review 33 Similarity</td>\n",
       "      <td>1.000000</td>\n",
       "      <td>{'neg': 0.0, 'neu': 0.528, 'pos': 0.472, 'comp...</td>\n",
       "      <td>0.9776</td>\n",
       "      <td>pos</td>\n",
       "    </tr>\n",
       "    <tr>\n",
       "      <th>2</th>\n",
       "      <td>2</td>\n",
       "      <td>40</td>\n",
       "      <td>Very nice burgers in reasonable prices and a v...</td>\n",
       "      <td>Artisan's Burgerbar</td>\n",
       "      <td>Review 105 Similarity</td>\n",
       "      <td>0.804030</td>\n",
       "      <td>{'neg': 0.0, 'neu': 0.731, 'pos': 0.269, 'comp...</td>\n",
       "      <td>0.9272</td>\n",
       "      <td>pos</td>\n",
       "    </tr>\n",
       "    <tr>\n",
       "      <th>3</th>\n",
       "      <td>3</td>\n",
       "      <td>50</td>\n",
       "      <td>Best burgers in Nicosia! Good food and decent ...</td>\n",
       "      <td>Artisan's Burgerbar</td>\n",
       "      <td>Review 25 Similarity</td>\n",
       "      <td>0.503953</td>\n",
       "      <td>{'neg': 0.0, 'neu': 0.649, 'pos': 0.351, 'comp...</td>\n",
       "      <td>0.8478</td>\n",
       "      <td>pos</td>\n",
       "    </tr>\n",
       "    <tr>\n",
       "      <th>4</th>\n",
       "      <td>4</td>\n",
       "      <td>50</td>\n",
       "      <td>A place where you can have a variety of altern...</td>\n",
       "      <td>Artisan's Burgerbar</td>\n",
       "      <td>Review 44 Similarity</td>\n",
       "      <td>0.503953</td>\n",
       "      <td>{'neg': 0.0, 'neu': 0.856, 'pos': 0.144, 'comp...</td>\n",
       "      <td>0.5719</td>\n",
       "      <td>pos</td>\n",
       "    </tr>\n",
       "    <tr>\n",
       "      <th>...</th>\n",
       "      <td>...</td>\n",
       "      <td>...</td>\n",
       "      <td>...</td>\n",
       "      <td>...</td>\n",
       "      <td>...</td>\n",
       "      <td>...</td>\n",
       "      <td>...</td>\n",
       "      <td>...</td>\n",
       "      <td>...</td>\n",
       "    </tr>\n",
       "    <tr>\n",
       "      <th>757</th>\n",
       "      <td>813</td>\n",
       "      <td>20</td>\n",
       "      <td>Nicosia is the only segregated city in the wor...</td>\n",
       "      <td>Venetian Wall of Nicosia</td>\n",
       "      <td>NaN</td>\n",
       "      <td>NaN</td>\n",
       "      <td>{'neg': 0.049, 'neu': 0.896, 'pos': 0.055, 'co...</td>\n",
       "      <td>0.1531</td>\n",
       "      <td>pos</td>\n",
       "    </tr>\n",
       "    <tr>\n",
       "      <th>758</th>\n",
       "      <td>814</td>\n",
       "      <td>40</td>\n",
       "      <td>The Venetian Walls have been surrounding Nicos...</td>\n",
       "      <td>Venetian Wall of Nicosia</td>\n",
       "      <td>NaN</td>\n",
       "      <td>NaN</td>\n",
       "      <td>{'neg': 0.0, 'neu': 0.881, 'pos': 0.119, 'comp...</td>\n",
       "      <td>0.6908</td>\n",
       "      <td>pos</td>\n",
       "    </tr>\n",
       "    <tr>\n",
       "      <th>759</th>\n",
       "      <td>815</td>\n",
       "      <td>40</td>\n",
       "      <td>The Venetian walls surrounded Nicosia in a sta...</td>\n",
       "      <td>Venetian Wall of Nicosia</td>\n",
       "      <td>NaN</td>\n",
       "      <td>NaN</td>\n",
       "      <td>{'neg': 0.0, 'neu': 0.858, 'pos': 0.142, 'comp...</td>\n",
       "      <td>0.7783</td>\n",
       "      <td>pos</td>\n",
       "    </tr>\n",
       "    <tr>\n",
       "      <th>760</th>\n",
       "      <td>816</td>\n",
       "      <td>50</td>\n",
       "      <td>The first walls surrounding Nicosia were built...</td>\n",
       "      <td>Venetian Wall of Nicosia</td>\n",
       "      <td>NaN</td>\n",
       "      <td>NaN</td>\n",
       "      <td>{'neg': 0.039, 'neu': 0.908, 'pos': 0.052, 'co...</td>\n",
       "      <td>0.4523</td>\n",
       "      <td>pos</td>\n",
       "    </tr>\n",
       "    <tr>\n",
       "      <th>761</th>\n",
       "      <td>817</td>\n",
       "      <td>40</td>\n",
       "      <td>The Venetian Walls which surround the Old City...</td>\n",
       "      <td>Venetian Wall of Nicosia</td>\n",
       "      <td>NaN</td>\n",
       "      <td>NaN</td>\n",
       "      <td>{'neg': 0.0, 'neu': 0.92, 'pos': 0.08, 'compou...</td>\n",
       "      <td>0.7579</td>\n",
       "      <td>pos</td>\n",
       "    </tr>\n",
       "  </tbody>\n",
       "</table>\n",
       "<p>762 rows × 9 columns</p>\n",
       "</div>"
      ],
      "text/plain": [
       "     Unnamed: 0  r_points                                             r_text  \\\n",
       "0             0        40  Located in Nicosia. You can find make almost y...   \n",
       "1             1        50  Probably the best burgers in town, top quality...   \n",
       "2             2        40  Very nice burgers in reasonable prices and a v...   \n",
       "3             3        50  Best burgers in Nicosia! Good food and decent ...   \n",
       "4             4        50  A place where you can have a variety of altern...   \n",
       "..          ...       ...                                                ...   \n",
       "757         813        20  Nicosia is the only segregated city in the wor...   \n",
       "758         814        40  The Venetian Walls have been surrounding Nicos...   \n",
       "759         815        40  The Venetian walls surrounded Nicosia in a sta...   \n",
       "760         816        50  The first walls surrounding Nicosia were built...   \n",
       "761         817        40  The Venetian Walls which surround the Old City...   \n",
       "\n",
       "                        place             Unnamed: 3  Unnamed: 4  \\\n",
       "0         Artisan's Burgerbar    Review 1 Similarity    0.298142   \n",
       "1         Artisan's Burgerbar   Review 33 Similarity    1.000000   \n",
       "2         Artisan's Burgerbar  Review 105 Similarity    0.804030   \n",
       "3         Artisan's Burgerbar   Review 25 Similarity    0.503953   \n",
       "4         Artisan's Burgerbar   Review 44 Similarity    0.503953   \n",
       "..                        ...                    ...         ...   \n",
       "757  Venetian Wall of Nicosia                    NaN         NaN   \n",
       "758  Venetian Wall of Nicosia                    NaN         NaN   \n",
       "759  Venetian Wall of Nicosia                    NaN         NaN   \n",
       "760  Venetian Wall of Nicosia                    NaN         NaN   \n",
       "761  Venetian Wall of Nicosia                    NaN         NaN   \n",
       "\n",
       "                                                scores  compound score  \n",
       "0    {'neg': 0.0, 'neu': 0.793, 'pos': 0.207, 'comp...    0.9432   pos  \n",
       "1    {'neg': 0.0, 'neu': 0.528, 'pos': 0.472, 'comp...    0.9776   pos  \n",
       "2    {'neg': 0.0, 'neu': 0.731, 'pos': 0.269, 'comp...    0.9272   pos  \n",
       "3    {'neg': 0.0, 'neu': 0.649, 'pos': 0.351, 'comp...    0.8478   pos  \n",
       "4    {'neg': 0.0, 'neu': 0.856, 'pos': 0.144, 'comp...    0.5719   pos  \n",
       "..                                                 ...       ...   ...  \n",
       "757  {'neg': 0.049, 'neu': 0.896, 'pos': 0.055, 'co...    0.1531   pos  \n",
       "758  {'neg': 0.0, 'neu': 0.881, 'pos': 0.119, 'comp...    0.6908   pos  \n",
       "759  {'neg': 0.0, 'neu': 0.858, 'pos': 0.142, 'comp...    0.7783   pos  \n",
       "760  {'neg': 0.039, 'neu': 0.908, 'pos': 0.052, 'co...    0.4523   pos  \n",
       "761  {'neg': 0.0, 'neu': 0.92, 'pos': 0.08, 'compou...    0.7579   pos  \n",
       "\n",
       "[762 rows x 9 columns]"
      ]
     },
     "execution_count": 2,
     "metadata": {},
     "output_type": "execute_result"
    }
   ],
   "source": [
    "pos_review = pd.read_csv(r'C:\\Users\\Dell\\Desktop\\sentiment_cluster7_pos.csv')\n",
    "pos_review"
   ]
  },
  {
   "cell_type": "code",
   "execution_count": 3,
   "metadata": {},
   "outputs": [],
   "source": [
    "from pycaret.nlp import *"
   ]
  },
  {
   "cell_type": "code",
   "execution_count": 4,
   "metadata": {},
   "outputs": [
    {
     "data": {
      "text/html": [
       "<style  type=\"text/css\" >\n",
       "</style><table id=\"T_4cd4f2fa_31aa_11eb_befd_c48e8ff9d2e0\" ><thead>    <tr>        <th class=\"col_heading level0 col0\" >Description</th>        <th class=\"col_heading level0 col1\" >Value</th>    </tr></thead><tbody>\n",
       "                <tr>\n",
       "                                <td id=\"T_4cd4f2fa_31aa_11eb_befd_c48e8ff9d2e0row0_col0\" class=\"data row0 col0\" >session_id</td>\n",
       "                        <td id=\"T_4cd4f2fa_31aa_11eb_befd_c48e8ff9d2e0row0_col1\" class=\"data row0 col1\" >3990</td>\n",
       "            </tr>\n",
       "            <tr>\n",
       "                                <td id=\"T_4cd4f2fa_31aa_11eb_befd_c48e8ff9d2e0row1_col0\" class=\"data row1 col0\" >Documents</td>\n",
       "                        <td id=\"T_4cd4f2fa_31aa_11eb_befd_c48e8ff9d2e0row1_col1\" class=\"data row1 col1\" >762</td>\n",
       "            </tr>\n",
       "            <tr>\n",
       "                                <td id=\"T_4cd4f2fa_31aa_11eb_befd_c48e8ff9d2e0row2_col0\" class=\"data row2 col0\" >Vocab Size</td>\n",
       "                        <td id=\"T_4cd4f2fa_31aa_11eb_befd_c48e8ff9d2e0row2_col1\" class=\"data row2 col1\" >2664</td>\n",
       "            </tr>\n",
       "            <tr>\n",
       "                                <td id=\"T_4cd4f2fa_31aa_11eb_befd_c48e8ff9d2e0row3_col0\" class=\"data row3 col0\" >Custom Stopwords</td>\n",
       "                        <td id=\"T_4cd4f2fa_31aa_11eb_befd_c48e8ff9d2e0row3_col1\" class=\"data row3 col1\" >True</td>\n",
       "            </tr>\n",
       "    </tbody></table>"
      ],
      "text/plain": [
       "<pandas.io.formats.style.Styler at 0x1ed211a0288>"
      ]
     },
     "metadata": {},
     "output_type": "display_data"
    }
   ],
   "source": [
    "exp_nlp = setup(data = pos_review, target = 'r_text',\n",
    "                custom_stopwords = [ 'hotel', 'room', 'nice', 'good', 'restaurant', 'food','wall'])"
   ]
  },
  {
   "cell_type": "code",
   "execution_count": 5,
   "metadata": {},
   "outputs": [
    {
     "name": "stdout",
     "output_type": "stream",
     "text": [
      "LdaModel(num_terms=2664, num_topics=4, decay=0.5, chunksize=100)\n"
     ]
    }
   ],
   "source": [
    "#create an LDA model\n",
    "lda_pos_custom = create_model('lda')\n",
    "print(lda_pos_custom)"
   ]
  },
  {
   "cell_type": "code",
   "execution_count": 6,
   "metadata": {},
   "outputs": [],
   "source": [
    "apply_lda_pos = assign_model(lda_pos_custom)"
   ]
  },
  {
   "cell_type": "code",
   "execution_count": 7,
   "metadata": {},
   "outputs": [
    {
     "data": {
      "text/html": [
       "<div>\n",
       "<style scoped>\n",
       "    .dataframe tbody tr th:only-of-type {\n",
       "        vertical-align: middle;\n",
       "    }\n",
       "\n",
       "    .dataframe tbody tr th {\n",
       "        vertical-align: top;\n",
       "    }\n",
       "\n",
       "    .dataframe thead th {\n",
       "        text-align: right;\n",
       "    }\n",
       "</style>\n",
       "<table border=\"1\" class=\"dataframe\">\n",
       "  <thead>\n",
       "    <tr style=\"text-align: right;\">\n",
       "      <th></th>\n",
       "      <th>Unnamed: 0</th>\n",
       "      <th>r_points</th>\n",
       "      <th>r_text</th>\n",
       "      <th>place</th>\n",
       "      <th>Unnamed: 3</th>\n",
       "      <th>Unnamed: 4</th>\n",
       "      <th>scores</th>\n",
       "      <th>compound</th>\n",
       "      <th>score</th>\n",
       "      <th>Topic_0</th>\n",
       "      <th>Topic_1</th>\n",
       "      <th>Topic_2</th>\n",
       "      <th>Topic_3</th>\n",
       "      <th>Dominant_Topic</th>\n",
       "      <th>Perc_Dominant_Topic</th>\n",
       "    </tr>\n",
       "  </thead>\n",
       "  <tbody>\n",
       "    <tr>\n",
       "      <th>0</th>\n",
       "      <td>0</td>\n",
       "      <td>40</td>\n",
       "      <td>locate find make almost burger serval option a...</td>\n",
       "      <td>Artisan's Burgerbar</td>\n",
       "      <td>Review 1 Similarity</td>\n",
       "      <td>0.298142</td>\n",
       "      <td>{'neg': 0.0, 'neu': 0.793, 'pos': 0.207, 'comp...</td>\n",
       "      <td>0.9432</td>\n",
       "      <td>pos</td>\n",
       "      <td>0.004978</td>\n",
       "      <td>0.138723</td>\n",
       "      <td>0.006294</td>\n",
       "      <td>0.850005</td>\n",
       "      <td>Topic 3</td>\n",
       "      <td>0.85</td>\n",
       "    </tr>\n",
       "    <tr>\n",
       "      <th>1</th>\n",
       "      <td>1</td>\n",
       "      <td>50</td>\n",
       "      <td>probably burger town top quality ingredient fr...</td>\n",
       "      <td>Artisan's Burgerbar</td>\n",
       "      <td>Review 33 Similarity</td>\n",
       "      <td>1.000000</td>\n",
       "      <td>{'neg': 0.0, 'neu': 0.528, 'pos': 0.472, 'comp...</td>\n",
       "      <td>0.9776</td>\n",
       "      <td>pos</td>\n",
       "      <td>0.006738</td>\n",
       "      <td>0.131678</td>\n",
       "      <td>0.264097</td>\n",
       "      <td>0.597487</td>\n",
       "      <td>Topic 3</td>\n",
       "      <td>0.60</td>\n",
       "    </tr>\n",
       "    <tr>\n",
       "      <th>2</th>\n",
       "      <td>2</td>\n",
       "      <td>40</td>\n",
       "      <td>burger reasonable price variety wine fast frie...</td>\n",
       "      <td>Artisan's Burgerbar</td>\n",
       "      <td>Review 105 Similarity</td>\n",
       "      <td>0.804030</td>\n",
       "      <td>{'neg': 0.0, 'neu': 0.731, 'pos': 0.269, 'comp...</td>\n",
       "      <td>0.9272</td>\n",
       "      <td>pos</td>\n",
       "      <td>0.011284</td>\n",
       "      <td>0.013691</td>\n",
       "      <td>0.082570</td>\n",
       "      <td>0.892456</td>\n",
       "      <td>Topic 3</td>\n",
       "      <td>0.89</td>\n",
       "    </tr>\n",
       "    <tr>\n",
       "      <th>3</th>\n",
       "      <td>3</td>\n",
       "      <td>50</td>\n",
       "      <td>decent choice diverse burger combination even ...</td>\n",
       "      <td>Artisan's Burgerbar</td>\n",
       "      <td>Review 25 Similarity</td>\n",
       "      <td>0.503953</td>\n",
       "      <td>{'neg': 0.0, 'neu': 0.649, 'pos': 0.351, 'comp...</td>\n",
       "      <td>0.8478</td>\n",
       "      <td>pos</td>\n",
       "      <td>0.017905</td>\n",
       "      <td>0.021919</td>\n",
       "      <td>0.022873</td>\n",
       "      <td>0.937303</td>\n",
       "      <td>Topic 3</td>\n",
       "      <td>0.94</td>\n",
       "    </tr>\n",
       "    <tr>\n",
       "      <th>4</th>\n",
       "      <td>4</td>\n",
       "      <td>50</td>\n",
       "      <td>place variety alternative burger burger serve ...</td>\n",
       "      <td>Artisan's Burgerbar</td>\n",
       "      <td>Review 44 Similarity</td>\n",
       "      <td>0.503953</td>\n",
       "      <td>{'neg': 0.0, 'neu': 0.856, 'pos': 0.144, 'comp...</td>\n",
       "      <td>0.5719</td>\n",
       "      <td>pos</td>\n",
       "      <td>0.011301</td>\n",
       "      <td>0.013812</td>\n",
       "      <td>0.091203</td>\n",
       "      <td>0.883683</td>\n",
       "      <td>Topic 3</td>\n",
       "      <td>0.88</td>\n",
       "    </tr>\n",
       "    <tr>\n",
       "      <th>...</th>\n",
       "      <td>...</td>\n",
       "      <td>...</td>\n",
       "      <td>...</td>\n",
       "      <td>...</td>\n",
       "      <td>...</td>\n",
       "      <td>...</td>\n",
       "      <td>...</td>\n",
       "      <td>...</td>\n",
       "      <td>...</td>\n",
       "      <td>...</td>\n",
       "      <td>...</td>\n",
       "      <td>...</td>\n",
       "      <td>...</td>\n",
       "      <td>...</td>\n",
       "      <td>...</td>\n",
       "    </tr>\n",
       "    <tr>\n",
       "      <th>757</th>\n",
       "      <td>813</td>\n",
       "      <td>20</td>\n",
       "      <td>segregate shape city less bisect separate visi...</td>\n",
       "      <td>Venetian Wall of Nicosia</td>\n",
       "      <td>NaN</td>\n",
       "      <td>NaN</td>\n",
       "      <td>{'neg': 0.049, 'neu': 0.896, 'pos': 0.055, 'co...</td>\n",
       "      <td>0.1531</td>\n",
       "      <td>pos</td>\n",
       "      <td>0.816218</td>\n",
       "      <td>0.135103</td>\n",
       "      <td>0.006374</td>\n",
       "      <td>0.042305</td>\n",
       "      <td>Topic 0</td>\n",
       "      <td>0.82</td>\n",
       "    </tr>\n",
       "    <tr>\n",
       "      <th>758</th>\n",
       "      <td>814</td>\n",
       "      <td>40</td>\n",
       "      <td>venetian surround century still stand today gi...</td>\n",
       "      <td>Venetian Wall of Nicosia</td>\n",
       "      <td>NaN</td>\n",
       "      <td>NaN</td>\n",
       "      <td>{'neg': 0.0, 'neu': 0.881, 'pos': 0.119, 'comp...</td>\n",
       "      <td>0.6908</td>\n",
       "      <td>pos</td>\n",
       "      <td>0.705474</td>\n",
       "      <td>0.011016</td>\n",
       "      <td>0.011553</td>\n",
       "      <td>0.271957</td>\n",
       "      <td>Topic 0</td>\n",
       "      <td>0.71</td>\n",
       "    </tr>\n",
       "    <tr>\n",
       "      <th>759</th>\n",
       "      <td>815</td>\n",
       "      <td>40</td>\n",
       "      <td>venetian surround shape century border old new...</td>\n",
       "      <td>Venetian Wall of Nicosia</td>\n",
       "      <td>NaN</td>\n",
       "      <td>NaN</td>\n",
       "      <td>{'neg': 0.0, 'neu': 0.858, 'pos': 0.142, 'comp...</td>\n",
       "      <td>0.7783</td>\n",
       "      <td>pos</td>\n",
       "      <td>0.913285</td>\n",
       "      <td>0.018168</td>\n",
       "      <td>0.019131</td>\n",
       "      <td>0.049416</td>\n",
       "      <td>Topic 0</td>\n",
       "      <td>0.91</td>\n",
       "    </tr>\n",
       "    <tr>\n",
       "      <th>760</th>\n",
       "      <td>816</td>\n",
       "      <td>50</td>\n",
       "      <td>first surround build frank venetian occupy dec...</td>\n",
       "      <td>Venetian Wall of Nicosia</td>\n",
       "      <td>NaN</td>\n",
       "      <td>NaN</td>\n",
       "      <td>{'neg': 0.039, 'neu': 0.908, 'pos': 0.052, 'co...</td>\n",
       "      <td>0.4523</td>\n",
       "      <td>pos</td>\n",
       "      <td>0.818055</td>\n",
       "      <td>0.027792</td>\n",
       "      <td>0.003410</td>\n",
       "      <td>0.150743</td>\n",
       "      <td>Topic 0</td>\n",
       "      <td>0.82</td>\n",
       "    </tr>\n",
       "    <tr>\n",
       "      <th>761</th>\n",
       "      <td>817</td>\n",
       "      <td>40</td>\n",
       "      <td>venetian surround old today historic site see ...</td>\n",
       "      <td>Venetian Wall of Nicosia</td>\n",
       "      <td>NaN</td>\n",
       "      <td>NaN</td>\n",
       "      <td>{'neg': 0.0, 'neu': 0.92, 'pos': 0.08, 'compou...</td>\n",
       "      <td>0.7579</td>\n",
       "      <td>pos</td>\n",
       "      <td>0.938449</td>\n",
       "      <td>0.007368</td>\n",
       "      <td>0.007678</td>\n",
       "      <td>0.046505</td>\n",
       "      <td>Topic 0</td>\n",
       "      <td>0.94</td>\n",
       "    </tr>\n",
       "  </tbody>\n",
       "</table>\n",
       "<p>762 rows × 15 columns</p>\n",
       "</div>"
      ],
      "text/plain": [
       "     Unnamed: 0  r_points                                             r_text  \\\n",
       "0             0        40  locate find make almost burger serval option a...   \n",
       "1             1        50  probably burger town top quality ingredient fr...   \n",
       "2             2        40  burger reasonable price variety wine fast frie...   \n",
       "3             3        50  decent choice diverse burger combination even ...   \n",
       "4             4        50  place variety alternative burger burger serve ...   \n",
       "..          ...       ...                                                ...   \n",
       "757         813        20  segregate shape city less bisect separate visi...   \n",
       "758         814        40  venetian surround century still stand today gi...   \n",
       "759         815        40  venetian surround shape century border old new...   \n",
       "760         816        50  first surround build frank venetian occupy dec...   \n",
       "761         817        40  venetian surround old today historic site see ...   \n",
       "\n",
       "                        place             Unnamed: 3  Unnamed: 4  \\\n",
       "0         Artisan's Burgerbar    Review 1 Similarity    0.298142   \n",
       "1         Artisan's Burgerbar   Review 33 Similarity    1.000000   \n",
       "2         Artisan's Burgerbar  Review 105 Similarity    0.804030   \n",
       "3         Artisan's Burgerbar   Review 25 Similarity    0.503953   \n",
       "4         Artisan's Burgerbar   Review 44 Similarity    0.503953   \n",
       "..                        ...                    ...         ...   \n",
       "757  Venetian Wall of Nicosia                    NaN         NaN   \n",
       "758  Venetian Wall of Nicosia                    NaN         NaN   \n",
       "759  Venetian Wall of Nicosia                    NaN         NaN   \n",
       "760  Venetian Wall of Nicosia                    NaN         NaN   \n",
       "761  Venetian Wall of Nicosia                    NaN         NaN   \n",
       "\n",
       "                                                scores  compound score  \\\n",
       "0    {'neg': 0.0, 'neu': 0.793, 'pos': 0.207, 'comp...    0.9432   pos   \n",
       "1    {'neg': 0.0, 'neu': 0.528, 'pos': 0.472, 'comp...    0.9776   pos   \n",
       "2    {'neg': 0.0, 'neu': 0.731, 'pos': 0.269, 'comp...    0.9272   pos   \n",
       "3    {'neg': 0.0, 'neu': 0.649, 'pos': 0.351, 'comp...    0.8478   pos   \n",
       "4    {'neg': 0.0, 'neu': 0.856, 'pos': 0.144, 'comp...    0.5719   pos   \n",
       "..                                                 ...       ...   ...   \n",
       "757  {'neg': 0.049, 'neu': 0.896, 'pos': 0.055, 'co...    0.1531   pos   \n",
       "758  {'neg': 0.0, 'neu': 0.881, 'pos': 0.119, 'comp...    0.6908   pos   \n",
       "759  {'neg': 0.0, 'neu': 0.858, 'pos': 0.142, 'comp...    0.7783   pos   \n",
       "760  {'neg': 0.039, 'neu': 0.908, 'pos': 0.052, 'co...    0.4523   pos   \n",
       "761  {'neg': 0.0, 'neu': 0.92, 'pos': 0.08, 'compou...    0.7579   pos   \n",
       "\n",
       "      Topic_0   Topic_1   Topic_2   Topic_3 Dominant_Topic  \\\n",
       "0    0.004978  0.138723  0.006294  0.850005        Topic 3   \n",
       "1    0.006738  0.131678  0.264097  0.597487        Topic 3   \n",
       "2    0.011284  0.013691  0.082570  0.892456        Topic 3   \n",
       "3    0.017905  0.021919  0.022873  0.937303        Topic 3   \n",
       "4    0.011301  0.013812  0.091203  0.883683        Topic 3   \n",
       "..        ...       ...       ...       ...            ...   \n",
       "757  0.816218  0.135103  0.006374  0.042305        Topic 0   \n",
       "758  0.705474  0.011016  0.011553  0.271957        Topic 0   \n",
       "759  0.913285  0.018168  0.019131  0.049416        Topic 0   \n",
       "760  0.818055  0.027792  0.003410  0.150743        Topic 0   \n",
       "761  0.938449  0.007368  0.007678  0.046505        Topic 0   \n",
       "\n",
       "     Perc_Dominant_Topic  \n",
       "0                   0.85  \n",
       "1                   0.60  \n",
       "2                   0.89  \n",
       "3                   0.94  \n",
       "4                   0.88  \n",
       "..                   ...  \n",
       "757                 0.82  \n",
       "758                 0.71  \n",
       "759                 0.91  \n",
       "760                 0.82  \n",
       "761                 0.94  \n",
       "\n",
       "[762 rows x 15 columns]"
      ]
     },
     "execution_count": 7,
     "metadata": {},
     "output_type": "execute_result"
    }
   ],
   "source": [
    "apply_lda_pos"
   ]
  },
  {
   "cell_type": "code",
   "execution_count": 8,
   "metadata": {},
   "outputs": [
    {
     "data": {
      "application/vnd.jupyter.widget-view+json": {
       "model_id": "9e476a6aa4ad4888900d8abcfa4b7471",
       "version_major": 2,
       "version_minor": 0
      },
      "text/plain": [
       "interactive(children=(ToggleButtons(description='Plot Type:', icons=('',), options=(('Frequency Plot', 'freque…"
      ]
     },
     "metadata": {},
     "output_type": "display_data"
    }
   ],
   "source": [
    "evaluate_model(lda_pos_custom)"
   ]
  },
  {
   "cell_type": "code",
   "execution_count": 9,
   "metadata": {},
   "outputs": [
    {
     "data": {
      "text/html": [
       "        <script type=\"text/javascript\">\n",
       "        window.PlotlyConfig = {MathJaxConfig: 'local'};\n",
       "        if (window.MathJax) {MathJax.Hub.Config({SVG: {font: \"STIX-Web\"}});}\n",
       "        if (typeof require !== 'undefined') {\n",
       "        require.undef(\"plotly\");\n",
       "        requirejs.config({\n",
       "            paths: {\n",
       "                'plotly': ['https://cdn.plot.ly/plotly-latest.min']\n",
       "            }\n",
       "        });\n",
       "        require(['plotly'], function(Plotly) {\n",
       "            window._Plotly = Plotly;\n",
       "        });\n",
       "        }\n",
       "        </script>\n",
       "        "
      ]
     },
     "metadata": {},
     "output_type": "display_data"
    },
    {
     "data": {
      "text/html": [
       "\n",
       "<link rel=\"stylesheet\" type=\"text/css\" href=\"https://cdn.rawgit.com/bmabey/pyLDAvis/files/ldavis.v1.0.0.css\">\n",
       "\n",
       "\n",
       "<div id=\"ldavis_el1548821181431746001158981337\"></div>\n",
       "<script type=\"text/javascript\">\n",
       "\n",
       "var ldavis_el1548821181431746001158981337_data = {\"mdsDat\": {\"x\": [-0.19465349965715736, -0.12077216251599525, 0.13258207227755583, 0.1828435898955968], \"y\": [-0.1856007675151036, 0.27188259996953423, -0.17130475136825424, 0.08502291891382363], \"topics\": [1, 2, 3, 4], \"cluster\": [1, 1, 1, 1], \"Freq\": [56.932865142822266, 16.28789520263672, 13.943095207214355, 12.836141586303711]}, \"tinfo\": {\"Term\": [\"city\", \"burger\", \"walk\", \"old\", \"venetian\", \"see\", \"chinese\", \"service\", \"great\", \"go\", \"get\", \"part\", \"people\", \"build\", \"place\", \"well\", \"dish\", \"quality\", \"area\", \"surround\", \"bit\", \"gate\", \"bastion\", \"amazing\", \"visit\", \"history\", \"indian\", \"wine\", \"syrian\", \"try\", \"burger\", \"amazing\", \"try\", \"tasty\", \"delicious\", \"enjoy\", \"great\", \"friend\", \"give\", \"night\", \"dinner\", \"fresh\", \"first\", \"different\", \"definitely\", \"serve\", \"variety\", \"offer\", \"family\", \"lunch\", \"waiter\", \"big\", \"choose\", \"back\", \"sauce\", \"atmosphere\", \"beef\", \"little\", \"meal\", \"sure\", \"go\", \"really\", \"price\", \"place\", \"also\", \"chicken\", \"time\", \"friendly\", \"menu\", \"experience\", \"excellent\", \"much\", \"order\", \"visit\", \"service\", \"staff\", \"make\", \"well\", \"quality\", \"dish\", \"come\", \"many\", \"always\", \"city\", \"venetian\", \"old\", \"walk\", \"build\", \"surround\", \"gate\", \"bastion\", \"history\", \"preserve\", \"turkish\", \"famagusta_gate\", \"divide\", \"occupy\", \"moat\", \"medieval\", \"shop\", \"shape\", \"protect\", \"passport\", \"fortification\", \"historic\", \"ancient\", \"view\", \"stone\", \"greek\", \"complete\", \"century\", \"tourist\", \"historical\", \"see\", \"impressive\", \"part\", \"area\", \"today\", \"use\", \"take\", \"side\", \"town\", \"many\", \"interesting\", \"look\", \"new\", \"chinese\", \"indian\", \"cuisine\", \"duck\", \"top\", \"best\", \"sawa\", \"pretty\", \"soon\", \"hot\", \"else\", \"happy\", \"live\", \"list\", \"superb\", \"suggest\", \"authentic\", \"favourite\", \"bad\", \"value_money\", \"outstanding\", \"guest\", \"change\", \"asian\", \"meet\", \"highly_recommend\", \"person\", \"unfortunately\", \"expectation\", \"remember\", \"polite\", \"past\", \"lovely\", \"class\", \"right\", \"wine\", \"large\", \"look\", \"dish\", \"people\", \"new\", \"high\", \"get\", \"quality\", \"service\", \"worth\", \"main\", \"love\", \"visit\", \"well\", \"make\", \"staff\", \"small\", \"enough\", \"start\", \"arrive\", \"bring\", \"spend\", \"less\", \"treat\", \"probably\", \"believe\", \"tell\", \"ask\", \"seat\", \"water\", \"play\", \"hour\", \"picture\", \"occasion\", \"turn\", \"outside\", \"belly_dancing\", \"vegetable\", \"speak\", \"light\", \"ground\", \"mean\", \"level\", \"finish\", \"dog\", \"rather\", \"capital\", \"interest\", \"event\", \"get\", \"real\", \"people\", \"know\", \"especially\", \"main\", \"bit\", \"well\", \"even\", \"end\", \"syrian\", \"say\", \"take\", \"open\", \"bread\"], \"Freq\": [118.0, 240.0, 65.0, 64.0, 63.0, 79.0, 50.0, 220.0, 200.0, 218.0, 52.0, 51.0, 49.0, 37.0, 300.0, 150.0, 116.0, 98.0, 45.0, 33.0, 48.0, 30.0, 29.0, 107.0, 232.0, 28.0, 24.0, 35.0, 60.0, 100.0, 239.34548950195312, 106.88018035888672, 100.19896697998047, 80.40170288085938, 77.11872100830078, 92.505615234375, 199.06341552734375, 60.620540618896484, 61.821895599365234, 55.86399459838867, 48.59961700439453, 47.10305404663086, 44.92753219604492, 50.17287826538086, 44.780948638916016, 57.91238784790039, 40.32364273071289, 50.229652404785156, 43.74198913574219, 38.46669387817383, 38.72701644897461, 36.3717155456543, 35.553043365478516, 39.39567184448242, 35.19871139526367, 81.33943176269531, 34.24143981933594, 34.78472137451172, 34.76962661743164, 36.43792724609375, 212.65341186523438, 117.86711883544922, 107.00669860839844, 287.8549499511719, 127.49246215820312, 57.971832275390625, 217.58895874023438, 87.0130844116211, 52.36635208129883, 45.143150329589844, 127.74764251708984, 53.5697021484375, 100.36486053466797, 200.9776153564453, 191.11434936523438, 77.37975311279297, 80.23395538330078, 107.92753601074219, 76.52113342285156, 81.02115631103516, 61.415645599365234, 68.49907684326172, 61.428977966308594, 117.81844329833984, 62.459632873535156, 63.27353286743164, 64.72039794921875, 36.9059944152832, 32.56657791137695, 29.426319122314453, 28.990234375, 28.013843536376953, 19.024478912353516, 18.259729385375977, 17.135360717773438, 17.054798126220703, 16.537124633789062, 16.614290237426758, 14.32681655883789, 13.873658180236816, 13.279348373413086, 12.802165985107422, 12.116683959960938, 12.036416053771973, 11.588074684143066, 11.429673194885254, 10.344505310058594, 10.212397575378418, 9.536576271057129, 9.892677307128906, 9.306918144226074, 9.221631050109863, 9.21168041229248, 69.4183120727539, 22.17966651916504, 41.36124801635742, 31.710424423217773, 12.842854499816895, 23.501888275146484, 24.534273147583008, 19.91463851928711, 17.886356353759766, 22.021242141723633, 13.487336158752441, 14.812370300292969, 13.180123329162598, 49.96438217163086, 24.246856689453125, 20.391237258911133, 17.73822593688965, 21.012807846069336, 15.548128128051758, 15.351340293884277, 16.285825729370117, 16.44632339477539, 11.534893035888672, 10.683280944824219, 10.009480476379395, 12.248810768127441, 8.278336524963379, 8.151793479919434, 8.090715408325195, 8.071209907531738, 7.7335710525512695, 8.028765678405762, 7.751091480255127, 7.536074161529541, 7.617625713348389, 9.02392292022705, 6.84080171585083, 7.35246467590332, 6.964117050170898, 7.2523016929626465, 7.289222717285156, 6.6495361328125, 7.044432163238525, 16.96184539794922, 11.117834091186523, 18.438425064086914, 8.37746810913086, 13.813056945800781, 21.393489837646484, 14.601216316223145, 21.583078384399414, 29.195669174194336, 18.548648834228516, 13.544900894165039, 15.693284034729004, 17.193832397460938, 21.52923583984375, 28.84082794189453, 16.929859161376953, 12.54083251953125, 15.248106956481934, 22.77296257019043, 15.729691505432129, 14.042393684387207, 12.427469253540039, 20.22224235534668, 19.454166412353516, 15.434988021850586, 14.617194175720215, 13.271510124206543, 13.201972961425781, 15.309993743896484, 12.525389671325684, 11.751255989074707, 11.351943969726562, 11.497291564941406, 17.361181259155273, 9.799342155456543, 11.111564636230469, 10.068239212036133, 12.66402816772461, 9.113916397094727, 9.861246109008789, 8.469449043273926, 8.230330467224121, 8.277215003967285, 7.809289932250977, 7.713812828063965, 7.467928409576416, 7.660726547241211, 7.557061672210693, 8.888650894165039, 7.266624927520752, 8.9885835647583, 6.514385223388672, 7.973062038421631, 8.560315132141113, 17.45293617248535, 34.399757385253906, 17.400466918945312, 30.255739212036133, 14.737504959106445, 14.415428161621094, 17.242294311523438, 21.117645263671875, 26.76585578918457, 18.14813232421875, 13.293636322021484, 16.08481788635254, 11.621365547180176, 11.905855178833008, 10.643369674682617, 10.38454818725586], \"Total\": [118.0, 240.0, 65.0, 64.0, 63.0, 79.0, 50.0, 220.0, 200.0, 218.0, 52.0, 51.0, 49.0, 37.0, 300.0, 150.0, 116.0, 98.0, 45.0, 33.0, 48.0, 30.0, 29.0, 107.0, 232.0, 28.0, 24.0, 35.0, 60.0, 100.0, 240.0459747314453, 107.51446533203125, 100.83885955810547, 80.95958709716797, 77.67889404296875, 93.18048858642578, 200.61483764648438, 61.183753967285156, 62.447940826416016, 56.43033981323242, 49.15712356567383, 47.662574768066406, 45.51081466674805, 50.8253059387207, 45.39302062988281, 58.70826721191406, 40.88289260864258, 50.93316650390625, 44.3570442199707, 39.02228927612305, 39.28728485107422, 36.932918548583984, 36.10895919799805, 40.01348876953125, 35.7526969909668, 82.65764617919922, 34.796871185302734, 35.35271072387695, 35.354766845703125, 37.054656982421875, 218.17881774902344, 120.40525817871094, 109.63758850097656, 300.0312805175781, 132.4142303466797, 59.272396087646484, 231.23428344726562, 90.3585205078125, 53.90365219116211, 46.163387298583984, 139.268798828125, 55.29940414428711, 108.45185852050781, 232.29933166503906, 220.28067016601562, 90.1239013671875, 97.81600952148438, 150.62416076660156, 98.37000274658203, 116.6440200805664, 71.93925476074219, 91.75064086914062, 72.48954010009766, 118.6816177368164, 63.20743942260742, 64.06283569335938, 65.5942611694336, 37.65244674682617, 33.30991744995117, 30.17156219482422, 29.732709884643555, 28.77062225341797, 19.769075393676758, 19.004621505737305, 17.889419555664062, 17.805896759033203, 17.285442352294922, 17.371110916137695, 15.073837280273438, 14.620007514953613, 14.039986610412598, 13.540984153747559, 12.861310958862305, 12.777812004089355, 12.34945011138916, 12.182352066040039, 11.086211204528809, 10.970515251159668, 10.280734062194824, 10.668562889099121, 10.046417236328125, 9.968490600585938, 9.979043006896973, 79.83580780029297, 25.265457153320312, 51.53472137451172, 45.19314193725586, 15.295044898986816, 43.21403503417969, 52.891334533691406, 61.85475540161133, 46.74205017089844, 91.75064086914062, 20.98219871520996, 62.96403121948242, 27.25391960144043, 50.60302734375, 24.886341094970703, 21.049829483032227, 18.372699737548828, 21.785110473632812, 16.221731185913086, 16.052017211914062, 17.09956932067871, 17.284147262573242, 12.220246315002441, 11.332255363464355, 10.720035552978516, 13.150694847106934, 8.923043251037598, 8.79660701751709, 8.738590240478516, 8.726318359375, 8.36207103729248, 8.68143081665039, 8.402488708496094, 8.174875259399414, 8.267274856567383, 9.841704368591309, 7.473382949829102, 8.033616065979004, 7.609971523284912, 7.934146404266357, 7.98130464553833, 7.306536674499512, 7.776752948760986, 18.988239288330078, 12.355902671813965, 23.54059410095215, 9.512940406799316, 17.84735107421875, 35.18946075439453, 24.35440444946289, 62.96403121948242, 116.6440200805664, 49.35340118408203, 27.25391960144043, 37.84886932373047, 52.060089111328125, 98.37000274658203, 220.28067016601562, 68.9865951538086, 30.403003692626953, 57.42539978027344, 232.29933166503906, 150.62416076660156, 97.81600952148438, 90.1239013671875, 20.919361114501953, 20.18364143371582, 16.11402702331543, 15.373367309570312, 13.958325386047363, 13.894756317138672, 16.138931274414062, 13.250094413757324, 12.43730354309082, 12.061745643615723, 12.226516723632812, 18.504024505615234, 10.47260856628418, 11.891881942749023, 10.792021751403809, 13.608146667480469, 9.805998802185059, 10.61689281463623, 9.174149513244629, 8.916743278503418, 8.998162269592285, 8.517062187194824, 8.415143013000488, 8.149858474731445, 8.36314868927002, 8.259004592895508, 9.728785514831543, 7.9573259353637695, 9.909428596496582, 7.187555313110352, 8.798818588256836, 9.455893516540527, 22.19144630432129, 52.060089111328125, 23.859371185302734, 49.35340118408203, 22.88837432861328, 22.400148391723633, 30.403003692626953, 48.22858428955078, 150.62416076660156, 59.07449722290039, 32.6678466796875, 60.01033020019531, 35.11796951293945, 52.891334533691406, 22.129566192626953, 27.295251846313477], \"Category\": [\"Default\", \"Default\", \"Default\", \"Default\", \"Default\", \"Default\", \"Default\", \"Default\", \"Default\", \"Default\", \"Default\", \"Default\", \"Default\", \"Default\", \"Default\", \"Default\", \"Default\", \"Default\", \"Default\", \"Default\", \"Default\", \"Default\", \"Default\", \"Default\", \"Default\", \"Default\", \"Default\", \"Default\", \"Default\", \"Default\", \"Topic1\", \"Topic1\", \"Topic1\", \"Topic1\", \"Topic1\", \"Topic1\", \"Topic1\", \"Topic1\", \"Topic1\", \"Topic1\", \"Topic1\", \"Topic1\", \"Topic1\", \"Topic1\", \"Topic1\", \"Topic1\", \"Topic1\", \"Topic1\", \"Topic1\", \"Topic1\", \"Topic1\", \"Topic1\", \"Topic1\", \"Topic1\", \"Topic1\", \"Topic1\", \"Topic1\", \"Topic1\", \"Topic1\", \"Topic1\", \"Topic1\", \"Topic1\", \"Topic1\", \"Topic1\", \"Topic1\", \"Topic1\", \"Topic1\", \"Topic1\", \"Topic1\", \"Topic1\", \"Topic1\", \"Topic1\", \"Topic1\", \"Topic1\", \"Topic1\", \"Topic1\", \"Topic1\", \"Topic1\", \"Topic1\", \"Topic1\", \"Topic1\", \"Topic1\", \"Topic1\", \"Topic2\", \"Topic2\", \"Topic2\", \"Topic2\", \"Topic2\", \"Topic2\", \"Topic2\", \"Topic2\", \"Topic2\", \"Topic2\", \"Topic2\", \"Topic2\", \"Topic2\", \"Topic2\", \"Topic2\", \"Topic2\", \"Topic2\", \"Topic2\", \"Topic2\", \"Topic2\", \"Topic2\", \"Topic2\", \"Topic2\", \"Topic2\", \"Topic2\", \"Topic2\", \"Topic2\", \"Topic2\", \"Topic2\", \"Topic2\", \"Topic2\", \"Topic2\", \"Topic2\", \"Topic2\", \"Topic2\", \"Topic2\", \"Topic2\", \"Topic2\", \"Topic2\", \"Topic2\", \"Topic2\", \"Topic2\", \"Topic2\", \"Topic3\", \"Topic3\", \"Topic3\", \"Topic3\", \"Topic3\", \"Topic3\", \"Topic3\", \"Topic3\", \"Topic3\", \"Topic3\", \"Topic3\", \"Topic3\", \"Topic3\", \"Topic3\", \"Topic3\", \"Topic3\", \"Topic3\", \"Topic3\", \"Topic3\", \"Topic3\", \"Topic3\", \"Topic3\", \"Topic3\", \"Topic3\", \"Topic3\", \"Topic3\", \"Topic3\", \"Topic3\", \"Topic3\", \"Topic3\", \"Topic3\", \"Topic3\", \"Topic3\", \"Topic3\", \"Topic3\", \"Topic3\", \"Topic3\", \"Topic3\", \"Topic3\", \"Topic3\", \"Topic3\", \"Topic3\", \"Topic3\", \"Topic3\", \"Topic3\", \"Topic3\", \"Topic3\", \"Topic3\", \"Topic3\", \"Topic3\", \"Topic3\", \"Topic3\", \"Topic4\", \"Topic4\", \"Topic4\", \"Topic4\", \"Topic4\", \"Topic4\", \"Topic4\", \"Topic4\", \"Topic4\", \"Topic4\", \"Topic4\", \"Topic4\", \"Topic4\", \"Topic4\", \"Topic4\", \"Topic4\", \"Topic4\", \"Topic4\", \"Topic4\", \"Topic4\", \"Topic4\", \"Topic4\", \"Topic4\", \"Topic4\", \"Topic4\", \"Topic4\", \"Topic4\", \"Topic4\", \"Topic4\", \"Topic4\", \"Topic4\", \"Topic4\", \"Topic4\", \"Topic4\", \"Topic4\", \"Topic4\", \"Topic4\", \"Topic4\", \"Topic4\", \"Topic4\", \"Topic4\", \"Topic4\", \"Topic4\", \"Topic4\", \"Topic4\", \"Topic4\", \"Topic4\", \"Topic4\"], \"logprob\": [30.0, 29.0, 28.0, 27.0, 26.0, 25.0, 24.0, 23.0, 22.0, 21.0, 20.0, 19.0, 18.0, 17.0, 16.0, 15.0, 14.0, 13.0, 12.0, 11.0, 10.0, 9.0, 8.0, 7.0, 6.0, 5.0, 4.0, 3.0, 2.0, 1.0, -3.7309999465942383, -4.537199974060059, -4.601799964904785, -4.821899890899658, -4.86359977722168, -4.681700229644775, -3.915299892425537, -5.104300022125244, -5.084700107574463, -5.185999870300293, -5.325300216674805, -5.356599807739258, -5.403900146484375, -5.293499946594238, -5.407199859619141, -5.150000095367432, -5.51200008392334, -5.292300224304199, -5.430600166320801, -5.559100151062012, -5.5524001121521, -5.615200042724609, -5.637899875640869, -5.535299777984619, -5.647900104522705, -4.810299873352051, -5.67549991607666, -5.659800052642822, -5.660200119018555, -5.61329984664917, -3.849299907684326, -4.4394001960754395, -4.536099910736084, -3.5464999675750732, -4.360899925231934, -5.14900016784668, -3.8262999057769775, -4.7428998947143555, -5.250699996948242, -5.399099826812744, -4.35890007019043, -5.228000164031982, -4.600100040435791, -3.9056999683380127, -3.9560999870300293, -4.860199928283691, -4.823999881744385, -4.527500152587891, -4.871399879455566, -4.814199924468994, -5.091300010681152, -4.982100009918213, -5.091100215911865, -3.1882998943328857, -3.822999954223633, -3.809999942779541, -3.787400007247925, -4.349100112915039, -4.4741997718811035, -4.5756001472473145, -4.5904998779296875, -4.624800205230713, -5.0117998123168945, -5.052800178527832, -5.116300106048584, -5.121099948883057, -5.151899814605713, -5.147200107574463, -5.295400142669678, -5.327499866485596, -5.371300220489502, -5.407899856567383, -5.462900161743164, -5.469600200653076, -5.507500171661377, -5.521299839019775, -5.620999813079834, -5.633900165557861, -5.702400207519531, -5.6656999588012695, -5.7266998291015625, -5.735899925231934, -5.736999988555908, -3.7172999382019043, -4.85830020904541, -4.235099792480469, -4.500800132751465, -5.404699802398682, -4.8003997802734375, -4.757400035858154, -4.966000080108643, -5.073500156402588, -4.865499973297119, -5.3557000160217285, -5.26200008392334, -5.378799915313721, -3.890700101852417, -4.613800048828125, -4.786900043487549, -4.926300048828125, -4.756899833679199, -5.05810022354126, -5.070899963378906, -5.0117998123168945, -5.001999855041504, -5.3566999435424805, -5.4334001541137695, -5.498499870300293, -5.296599864959717, -5.688399791717529, -5.703800201416016, -5.711299896240234, -5.713799953460693, -5.756499767303467, -5.718999862670898, -5.754199981689453, -5.782400131225586, -5.771599769592285, -5.602200031280518, -5.8790998458862305, -5.807000160217285, -5.861299991607666, -5.820700168609619, -5.815700054168701, -5.90749979019165, -5.849800109863281, -4.971099853515625, -5.393499851226807, -4.887599945068359, -5.676499843597412, -5.176400184631348, -4.738999843597412, -5.1209001541137695, -4.730100154876709, -4.427999973297119, -4.881700038909912, -5.196000099182129, -5.048799991607666, -4.957499980926514, -4.732600212097168, -4.440299987792969, -4.9730000495910645, -5.273099899291992, -5.077600002288818, -4.676499843597412, -5.046500205993652, -5.159999847412109, -5.282100200653076, -4.712600231170654, -4.751299858093262, -4.982699871063232, -5.037099838256836, -5.133699893951416, -5.138999938964844, -4.990799903869629, -5.1915998458862305, -5.25540018081665, -5.289899826049805, -5.277200222015381, -4.865099906921387, -5.436999797821045, -5.311299800872803, -5.409900188446045, -5.180600166320801, -5.509500026702881, -5.430699825286865, -5.582900047302246, -5.611499786376953, -5.605800151824951, -5.664000034332275, -5.676300048828125, -5.708700180053711, -5.683199882507324, -5.696899890899658, -5.534599781036377, -5.736000061035156, -5.523399829864502, -5.845300197601318, -5.6433000564575195, -5.572199821472168, -4.859799861907959, -4.181300163269043, -4.862800121307373, -4.309599876403809, -5.028900146484375, -5.051000118255615, -4.872000217437744, -4.6691999435424805, -4.432199954986572, -4.820799827575684, -5.131999969482422, -4.941500186920166, -5.266499996185303, -5.242300033569336, -5.354400157928467, -5.379000186920166], \"loglift\": [30.0, 29.0, 28.0, 27.0, 26.0, 25.0, 24.0, 23.0, 22.0, 21.0, 20.0, 19.0, 18.0, 17.0, 16.0, 15.0, 14.0, 13.0, 12.0, 11.0, 10.0, 9.0, 8.0, 7.0, 6.0, 5.0, 4.0, 3.0, 2.0, 1.0, 0.5604000091552734, 0.5573999881744385, 0.5569000244140625, 0.5564000010490417, 0.5561000108718872, 0.5559999942779541, 0.5554999709129333, 0.5540000200271606, 0.5532000064849854, 0.5532000064849854, 0.5519000291824341, 0.5515000224113464, 0.5504000186920166, 0.5504000186920166, 0.5497000217437744, 0.5496000051498413, 0.5494999885559082, 0.5493999719619751, 0.5493000149726868, 0.5490000247955322, 0.5489000082015991, 0.5479999780654907, 0.5478000044822693, 0.5476999878883362, 0.5476999878883362, 0.5472000241279602, 0.5472000241279602, 0.5471000075340271, 0.5465999841690063, 0.546500027179718, 0.5375999808311462, 0.5419999957084656, 0.5389999747276306, 0.5218999981880188, 0.5253999829292297, 0.541100025177002, 0.5024999976158142, 0.525600016117096, 0.5343999862670898, 0.5408999919891357, 0.47690001130104065, 0.531499981880188, 0.48579999804496765, 0.41850000619888306, 0.4212999939918518, 0.4108000099658966, 0.365200012922287, 0.23000000417232513, 0.31209999322891235, 0.1988999992609024, 0.4050999879837036, 0.2709999978542328, 0.3977000117301941, 1.8073999881744385, 1.8028000593185425, 1.80239999294281, 1.801300048828125, 1.794700026512146, 1.792199969291687, 1.7897000312805176, 1.7894999980926514, 1.788100004196167, 1.7763999700546265, 1.7747999429702759, 1.7717000246047974, 1.7716000080108643, 1.7704999446868896, 1.7702000141143799, 1.7639000415802002, 1.7623000144958496, 1.7589999437332153, 1.7585999965667725, 1.7551000118255615, 1.7549999952316284, 1.751099944114685, 1.7510000467300415, 1.7454999685287476, 1.7431000471115112, 1.7395999431610107, 1.7391999959945679, 1.7382999658584595, 1.736899971961975, 1.7346999645233154, 1.6749000549316406, 1.684499979019165, 1.5947999954223633, 1.4603999853134155, 1.6399999856948853, 1.2057000398635864, 1.0465999841690063, 0.6814000010490417, 0.8540999889373779, 0.38769999146461487, 1.3727999925613403, 0.3675999939441681, 1.0882999897003174, 1.9574999809265137, 1.944200038909912, 1.9384000301361084, 1.934999942779541, 1.9341000318527222, 1.9278000593185425, 1.9256000518798828, 1.9213999509811401, 1.9205000400543213, 1.912500023841858, 1.9112000465393066, 1.9016000032424927, 1.8990999460220337, 1.8952000141143799, 1.8940999507904053, 1.8932000398635864, 1.8920999765396118, 1.8920999765396118, 1.8919999599456787, 1.8895000219345093, 1.888800024986267, 1.8882999420166016, 1.8833999633789062, 1.881700038909912, 1.881600022315979, 1.881500005722046, 1.8803000450134277, 1.8795000314712524, 1.8760000467300415, 1.8712999820709229, 1.857300043106079, 1.8645999431610107, 1.7259000539779663, 1.8430999517440796, 1.7138999700546265, 1.472499966621399, 1.4586000442504883, 0.8995000123977661, 0.585099995136261, 0.991599977016449, 1.2710000276565552, 1.0898000001907349, 0.8622999787330627, 0.45089998841285706, -0.06289999932050705, 0.5654000043869019, 1.0845999717712402, 0.6442000269889832, -0.3522999882698059, -0.2890999913215637, 0.029200000688433647, -0.011099999770522118, 2.0190000534057617, 2.0160999298095703, 2.0099000930786133, 2.002500057220459, 2.0023999214172363, 2.001800060272217, 2.000200033187866, 1.9967000484466553, 1.9961999654769897, 1.992300033569336, 1.9914000034332275, 1.9891999959945679, 1.9865000247955322, 1.9850000143051147, 1.9835000038146973, 1.9809999465942383, 1.979699969291687, 1.979099988937378, 1.9730000495910645, 1.9728000164031982, 1.9694000482559204, 1.9660999774932861, 1.96589994430542, 1.965499997138977, 1.9651999473571777, 1.9641000032424927, 1.9625999927520752, 1.9621000289916992, 1.955399990081787, 1.9545999765396118, 1.9543999433517456, 1.9534000158309937, 1.8127000331878662, 1.6385999917984009, 1.7372000217437744, 1.563599944114685, 1.6126999855041504, 1.6121000051498413, 1.485700011253357, 1.2271000146865845, 0.32519999146461487, 0.8726999759674072, 1.1538000106811523, 0.736299991607666, 0.9470000267028809, 0.5616999864578247, 1.3208999633789062, 1.0865000486373901]}, \"token.table\": {\"Topic\": [1, 4, 1, 3, 1, 2, 1, 2, 4, 3, 1, 4, 1, 3, 3, 1, 3, 2, 1, 4, 4, 3, 1, 1, 4, 1, 4, 4, 2, 1, 4, 2, 3, 1, 4, 3, 1, 2, 2, 3, 1, 3, 4, 2, 3, 1, 1, 1, 1, 1, 3, 4, 2, 4, 3, 3, 1, 4, 1, 4, 3, 4, 1, 3, 4, 2, 4, 1, 3, 3, 1, 3, 2, 1, 3, 4, 1, 2, 1, 1, 1, 3, 2, 3, 4, 1, 1, 3, 1, 3, 2, 4, 3, 3, 1, 3, 4, 3, 2, 2, 2, 3, 4, 2, 4, 3, 4, 1, 2, 1, 4, 2, 3, 4, 4, 4, 4, 3, 1, 3, 1, 2, 3, 4, 1, 3, 2, 3, 4, 1, 3, 4, 1, 3, 4, 1, 2, 3, 1, 4, 2, 3, 1, 3, 2, 1, 4, 2, 3, 1, 4, 2, 1, 2, 1, 2, 4, 1, 4, 4, 3, 2, 4, 2, 2, 3, 3, 4, 3, 4, 1, 2, 3, 4, 4, 1, 3, 2, 3, 1, 3, 4, 2, 1, 3, 4, 3, 4, 1, 2, 3, 3, 3, 4, 1, 3, 1, 4, 4, 1, 2, 3, 4, 1, 1, 3, 2, 2, 1, 2, 4, 4, 3, 4, 4, 1, 3, 4, 2, 3, 3, 1, 2, 1, 4, 1, 2, 4, 1, 4, 1, 2, 3, 4, 1, 2, 3, 2, 1, 2, 3, 4, 4, 1, 2, 4, 3, 1, 2, 3, 1, 4, 2, 2, 1, 3, 4, 1, 2, 4, 1, 3, 4, 1, 3, 1, 2, 3, 4], \"Freq\": [0.9591113924980164, 0.03776029124855995, 0.8415006995201111, 0.15174603462219238, 0.9952149391174316, 0.9029455184936523, 0.28765425086021423, 0.7080720067024231, 0.9757133722305298, 0.9366574883460999, 0.05404229834675789, 0.9187190532684326, 0.9799456596374512, 0.012098094448447227, 0.9167669415473938, 0.9746713042259216, 0.9215070605278015, 0.9753567576408386, 0.9770993590354919, 0.9119741320610046, 0.889070451259613, 0.9863312244415283, 0.974740207195282, 0.5598340034484863, 0.43542641401290894, 0.6228189468383789, 0.36636409163475037, 0.9313437938690186, 0.982671856880188, 0.9956426024436951, 0.9092129468917847, 0.8958417773246765, 0.9144757390022278, 0.9785330891609192, 0.016871260479092598, 0.9880831837654114, 0.9969825148582458, 0.9942567348480225, 0.1051199659705162, 0.8409597277641296, 0.8479375839233398, 0.041701849550008774, 0.0973043143749237, 0.937333345413208, 0.9501264691352844, 0.9913418292999268, 0.9912602305412292, 0.9837619066238403, 0.9968036413192749, 0.6944205164909363, 0.2486196905374527, 0.051438555121421814, 0.9547398686408997, 0.908225953578949, 0.9797144532203674, 0.9706805348396301, 0.5816116333007812, 0.3979448080062866, 0.9980630278587341, 0.9413564205169678, 0.3571404814720154, 0.6249958872795105, 0.6601833701133728, 0.016927778720855713, 0.30470001697540283, 0.1802496314048767, 0.7660609483718872, 0.9190859794616699, 0.07898394763469696, 0.9580462574958801, 0.9747985005378723, 0.021662188693881035, 0.9502823948860168, 0.9919506907463074, 0.9567008018493652, 0.8796924948692322, 0.9887759685516357, 0.9391279220581055, 0.9860986471176147, 0.9969967007637024, 0.9628311991691589, 0.033201076090335846, 0.961169958114624, 0.32654574513435364, 0.6530914902687073, 0.9928269982337952, 0.9762634038925171, 0.02291698195040226, 0.9919505715370178, 0.004984676372259855, 0.9726932048797607, 0.9565775394439697, 0.967670738697052, 0.9328327178955078, 0.31705042719841003, 0.4227339029312134, 0.26420867443084717, 0.9198457598686218, 0.9717031717300415, 0.9018900990486145, 0.9732149839401245, 0.9819769263267517, 0.9553101062774658, 0.870754063129425, 0.0791594609618187, 0.9643844366073608, 0.9517873525619507, 0.33361613750457764, 0.6195728182792664, 0.3495224118232727, 0.6553545594215393, 0.2053016722202301, 0.6159050464630127, 0.16424134373664856, 0.9294295907020569, 0.9250897765159607, 0.8589106202125549, 0.8965551257133484, 0.9900230765342712, 0.9124993085861206, 0.38117000460624695, 0.23823125660419464, 0.34940582513809204, 0.04764625057578087, 0.7313836812973022, 0.2612084448337555, 0.16991925239562988, 0.7646366357803345, 0.04247981309890747, 0.9738024473190308, 0.4275893270969391, 0.559155285358429, 0.8178620338439941, 0.14312586188316345, 0.03066982515156269, 0.7411392331123352, 0.23978033661842346, 0.010899106040596962, 0.9899654984474182, 0.9686397314071655, 0.9287615418434143, 0.8713386058807373, 0.9646841883659363, 0.018551617860794067, 0.9786363244056702, 0.9765023589134216, 0.018083376809954643, 0.4769956171512604, 0.5136875510215759, 0.9923739433288574, 0.9418951869010925, 0.983486533164978, 0.9816786050796509, 0.9834094643592834, 0.22594207525253296, 0.31631889939308167, 0.4970725476741791, 0.9220681190490723, 0.07376544922590256, 0.8971885442733765, 0.9786081910133362, 0.7955801486968994, 0.19404393434524536, 0.9330308437347412, 0.08093297481536865, 0.8902627825737, 0.3849785327911377, 0.6078608632087708, 0.8822625279426575, 0.917805552482605, 0.95989990234375, 0.023330900818109512, 0.013331943191587925, 0.0033329857978969812, 0.9266104102134705, 0.10532835125923157, 0.8952910304069519, 0.9610970616340637, 0.9356960654258728, 0.9759426712989807, 0.018241919577121735, 0.9648393392562866, 0.9600483775138855, 0.7827589511871338, 0.22364541888237, 0.9739055633544922, 0.2514735162258148, 0.7125083208084106, 0.9800236225128174, 0.00830528512597084, 0.01661057025194168, 0.9001185894012451, 0.7844301462173462, 0.22412289679050446, 0.978947103023529, 0.9344620108604431, 0.654935359954834, 0.34170541167259216, 0.9548719525337219, 0.012525707483291626, 0.8642738461494446, 0.10020565986633301, 0.025051414966583252, 0.9879358410835266, 0.8670756220817566, 0.13165022432804108, 0.9259268045425415, 0.9575918316841125, 0.6628431081771851, 0.323338121175766, 0.01616690494120121, 0.9560521245002747, 0.925703763961792, 0.950667142868042, 0.9356047511100769, 0.8543793559074402, 0.13315002620220184, 0.930866003036499, 0.9115341901779175, 0.9154794812202454, 0.9094415307044983, 0.9715378284454346, 0.9906959533691406, 0.733207106590271, 0.2666207551956177, 0.3025070130825043, 0.47266721725463867, 0.2268802672624588, 0.9881473183631897, 0.8996838927268982, 0.9427667856216431, 0.021623091772198677, 0.017298473045229912, 0.017298473045229912, 0.1307612955570221, 0.8499484658241272, 0.963961124420166, 0.9028447866439819, 0.36369821429252625, 0.38509222865104675, 0.2353341430425644, 0.02139401249587536, 0.9811250567436218, 0.9916811585426331, 0.9471380710601807, 0.8720154166221619, 0.8770495653152466, 0.43967196345329285, 0.5553750991821289, 0.9520988464355469, 0.9784043431282043, 0.9392910003662109, 0.9808971881866455, 0.9020214080810547, 0.8652629256248474, 0.09901018440723419, 0.034438326954841614, 0.9926875829696655, 0.9909403324127197, 0.925000786781311, 0.7170164585113525, 0.1062246561050415, 0.17925411462783813, 0.3694287836551666, 0.5967695713043213, 0.7247784733772278, 0.01449556928128004, 0.24642468988895416, 0.01449556928128004], \"Term\": [\"also\", \"also\", \"always\", \"always\", \"amazing\", \"ancient\", \"area\", \"area\", \"arrive\", \"asian\", \"ask\", \"ask\", \"atmosphere\", \"atmosphere\", \"authentic\", \"back\", \"bad\", \"bastion\", \"beef\", \"believe\", \"belly_dancing\", \"best\", \"big\", \"bit\", \"bit\", \"bread\", \"bread\", \"bring\", \"build\", \"burger\", \"capital\", \"century\", \"change\", \"chicken\", \"chicken\", \"chinese\", \"choose\", \"city\", \"class\", \"class\", \"come\", \"come\", \"come\", \"complete\", \"cuisine\", \"definitely\", \"delicious\", \"different\", \"dinner\", \"dish\", \"dish\", \"dish\", \"divide\", \"dog\", \"duck\", \"else\", \"end\", \"end\", \"enjoy\", \"enough\", \"especially\", \"especially\", \"even\", \"even\", \"even\", \"event\", \"event\", \"excellent\", \"excellent\", \"expectation\", \"experience\", \"experience\", \"famagusta_gate\", \"family\", \"favourite\", \"finish\", \"first\", \"fortification\", \"fresh\", \"friend\", \"friendly\", \"friendly\", \"gate\", \"get\", \"get\", \"give\", \"go\", \"go\", \"great\", \"great\", \"greek\", \"ground\", \"guest\", \"happy\", \"high\", \"high\", \"high\", \"highly_recommend\", \"historic\", \"historical\", \"history\", \"hot\", \"hour\", \"impressive\", \"impressive\", \"indian\", \"interest\", \"interesting\", \"interesting\", \"know\", \"know\", \"large\", \"large\", \"large\", \"less\", \"level\", \"light\", \"list\", \"little\", \"live\", \"look\", \"look\", \"look\", \"look\", \"love\", \"love\", \"lovely\", \"lovely\", \"lovely\", \"lunch\", \"main\", \"main\", \"make\", \"make\", \"make\", \"many\", \"many\", \"many\", \"meal\", \"mean\", \"medieval\", \"meet\", \"menu\", \"menu\", \"moat\", \"much\", \"much\", \"new\", \"new\", \"night\", \"occasion\", \"occupy\", \"offer\", \"old\", \"open\", \"open\", \"open\", \"order\", \"order\", \"outside\", \"outstanding\", \"part\", \"part\", \"passport\", \"past\", \"past\", \"people\", \"people\", \"person\", \"picture\", \"place\", \"place\", \"place\", \"place\", \"play\", \"polite\", \"polite\", \"preserve\", \"pretty\", \"price\", \"price\", \"probably\", \"protect\", \"quality\", \"quality\", \"rather\", \"real\", \"real\", \"really\", \"really\", \"really\", \"remember\", \"right\", \"right\", \"sauce\", \"sawa\", \"say\", \"say\", \"seat\", \"see\", \"see\", \"see\", \"see\", \"serve\", \"service\", \"service\", \"shape\", \"shop\", \"side\", \"side\", \"side\", \"small\", \"soon\", \"speak\", \"spend\", \"staff\", \"staff\", \"start\", \"stone\", \"suggest\", \"superb\", \"sure\", \"surround\", \"syrian\", \"syrian\", \"take\", \"take\", \"take\", \"tasty\", \"tell\", \"time\", \"time\", \"time\", \"time\", \"today\", \"today\", \"top\", \"tourist\", \"town\", \"town\", \"town\", \"town\", \"treat\", \"try\", \"turkish\", \"turn\", \"unfortunately\", \"use\", \"use\", \"value_money\", \"variety\", \"vegetable\", \"venetian\", \"view\", \"visit\", \"visit\", \"visit\", \"waiter\", \"walk\", \"water\", \"well\", \"well\", \"well\", \"wine\", \"wine\", \"worth\", \"worth\", \"worth\", \"worth\"]}, \"R\": 30, \"lambda.step\": 0.01, \"plot.opts\": {\"xlab\": \"PC1\", \"ylab\": \"PC2\"}, \"topic.order\": [4, 1, 3, 2]};\n",
       "\n",
       "function LDAvis_load_lib(url, callback){\n",
       "  var s = document.createElement('script');\n",
       "  s.src = url;\n",
       "  s.async = true;\n",
       "  s.onreadystatechange = s.onload = callback;\n",
       "  s.onerror = function(){console.warn(\"failed to load library \" + url);};\n",
       "  document.getElementsByTagName(\"head\")[0].appendChild(s);\n",
       "}\n",
       "\n",
       "if(typeof(LDAvis) !== \"undefined\"){\n",
       "   // already loaded: just create the visualization\n",
       "   !function(LDAvis){\n",
       "       new LDAvis(\"#\" + \"ldavis_el1548821181431746001158981337\", ldavis_el1548821181431746001158981337_data);\n",
       "   }(LDAvis);\n",
       "}else if(typeof define === \"function\" && define.amd){\n",
       "   // require.js is available: use it to load d3/LDAvis\n",
       "   require.config({paths: {d3: \"https://cdnjs.cloudflare.com/ajax/libs/d3/3.5.5/d3.min\"}});\n",
       "   require([\"d3\"], function(d3){\n",
       "      window.d3 = d3;\n",
       "      LDAvis_load_lib(\"https://cdn.rawgit.com/bmabey/pyLDAvis/files/ldavis.v1.0.0.js\", function(){\n",
       "        new LDAvis(\"#\" + \"ldavis_el1548821181431746001158981337\", ldavis_el1548821181431746001158981337_data);\n",
       "      });\n",
       "    });\n",
       "}else{\n",
       "    // require.js not available: dynamically load d3 & LDAvis\n",
       "    LDAvis_load_lib(\"https://cdnjs.cloudflare.com/ajax/libs/d3/3.5.5/d3.min.js\", function(){\n",
       "         LDAvis_load_lib(\"https://cdn.rawgit.com/bmabey/pyLDAvis/files/ldavis.v1.0.0.js\", function(){\n",
       "                 new LDAvis(\"#\" + \"ldavis_el1548821181431746001158981337\", ldavis_el1548821181431746001158981337_data);\n",
       "            })\n",
       "         });\n",
       "}\n",
       "</script>"
      ],
      "text/plain": [
       "PreparedData(topic_coordinates=              x         y  topics  cluster       Freq\n",
       "topic                                                \n",
       "3     -0.194653 -0.185601       1        1  56.932865\n",
       "0     -0.120772  0.271883       2        1  16.287895\n",
       "2      0.132582 -0.171305       3        1  13.943095\n",
       "1      0.182844  0.085023       4        1  12.836142, topic_info=          Term        Freq       Total Category  logprob  loglift\n",
       "207       city  118.000000  118.000000  Default  30.0000  30.0000\n",
       "4       burger  240.000000  240.000000  Default  29.0000  29.0000\n",
       "397       walk   65.000000   65.000000  Default  28.0000  28.0000\n",
       "1050       old   64.000000   64.000000  Default  27.0000  27.0000\n",
       "2143  venetian   63.000000   63.000000  Default  26.0000  26.0000\n",
       "...        ...         ...         ...      ...      ...      ...\n",
       "1701    syrian   16.084818   60.010330   Topic4  -4.9415   0.7363\n",
       "179        say   11.621366   35.117970   Topic4  -5.2665   0.9470\n",
       "190       take   11.905855   52.891335   Topic4  -5.2423   0.5617\n",
       "260       open   10.643370   22.129566   Topic4  -5.3544   1.3209\n",
       "272      bread   10.384548   27.295252   Topic4  -5.3790   1.0865\n",
       "\n",
       "[226 rows x 6 columns], token_table=      Topic      Freq     Term\n",
       "term                          \n",
       "1         1  0.959111     also\n",
       "1         4  0.037760     also\n",
       "75        1  0.841501   always\n",
       "75        3  0.151746   always\n",
       "34        1  0.995215  amazing\n",
       "...     ...       ...      ...\n",
       "63        3  0.596770     wine\n",
       "310       1  0.724778    worth\n",
       "310       2  0.014496    worth\n",
       "310       3  0.246425    worth\n",
       "310       4  0.014496    worth\n",
       "\n",
       "[269 rows x 3 columns], R=30, lambda_step=0.01, plot_opts={'xlab': 'PC1', 'ylab': 'PC2'}, topic_order=[4, 1, 3, 2])"
      ]
     },
     "metadata": {},
     "output_type": "display_data"
    }
   ],
   "source": [
    "plot_model(lda_pos_custom, plot ='topic_model')"
   ]
  },
  {
   "cell_type": "markdown",
   "metadata": {},
   "source": [
    "## Tuning the model using Coherence Value"
   ]
  },
  {
   "cell_type": "code",
   "execution_count": 10,
   "metadata": {},
   "outputs": [
    {
     "data": {
      "application/vnd.jupyter.widget-view+json": {
       "model_id": "",
       "version_major": 2,
       "version_minor": 0
      },
      "text/plain": [
       "IntProgress(value=0, description='Processing: ', max=25)"
      ]
     },
     "metadata": {},
     "output_type": "display_data"
    },
    {
     "data": {
      "application/vnd.jupyter.widget-view+json": {
       "model_id": "2726f429f30344b5acdc195571ee5159",
       "version_major": 2,
       "version_minor": 0
      },
      "text/plain": [
       "Output()"
      ]
     },
     "metadata": {},
     "output_type": "display_data"
    },
    {
     "data": {
      "text/html": [
       "        <script type=\"text/javascript\">\n",
       "        window.PlotlyConfig = {MathJaxConfig: 'local'};\n",
       "        if (window.MathJax) {MathJax.Hub.Config({SVG: {font: \"STIX-Web\"}});}\n",
       "        if (typeof require !== 'undefined') {\n",
       "        require.undef(\"plotly\");\n",
       "        requirejs.config({\n",
       "            paths: {\n",
       "                'plotly': ['https://cdn.plot.ly/plotly-latest.min']\n",
       "            }\n",
       "        });\n",
       "        require(['plotly'], function(Plotly) {\n",
       "            window._Plotly = Plotly;\n",
       "        });\n",
       "        }\n",
       "        </script>\n",
       "        "
      ]
     },
     "metadata": {},
     "output_type": "display_data"
    },
    {
     "data": {
      "application/vnd.plotly.v1+json": {
       "config": {
        "plotlyServerURL": "https://plot.ly"
       },
       "data": [
        {
         "hovertemplate": "Metric=Coherence<br># Topics=%{x}<br>Score=%{y}<extra></extra>",
         "legendgroup": "Coherence",
         "line": {
          "color": "#636efa",
          "dash": "solid",
          "shape": "linear"
         },
         "mode": "lines",
         "name": "Coherence",
         "orientation": "v",
         "showlegend": true,
         "type": "scatter",
         "x": [
          2,
          4,
          8,
          16,
          32,
          64,
          100,
          200,
          300,
          400
         ],
         "xaxis": "x",
         "y": [
          0.5789326776931363,
          0.411539871836005,
          0.4286275690295973,
          0.4386688444772071,
          0.42138636204151525,
          0.3912600495495796,
          0.4062338336740843,
          0.38197951016484616,
          0.3729166706278097,
          0.3622797150378962
         ],
         "yaxis": "y"
        }
       ],
       "layout": {
        "legend": {
         "title": {
          "text": "Metric"
         },
         "tracegroupgap": 0
        },
        "plot_bgcolor": "rgb(245,245,245)",
        "template": {
         "data": {
          "bar": [
           {
            "error_x": {
             "color": "#2a3f5f"
            },
            "error_y": {
             "color": "#2a3f5f"
            },
            "marker": {
             "line": {
              "color": "#E5ECF6",
              "width": 0.5
             }
            },
            "type": "bar"
           }
          ],
          "barpolar": [
           {
            "marker": {
             "line": {
              "color": "#E5ECF6",
              "width": 0.5
             }
            },
            "type": "barpolar"
           }
          ],
          "carpet": [
           {
            "aaxis": {
             "endlinecolor": "#2a3f5f",
             "gridcolor": "white",
             "linecolor": "white",
             "minorgridcolor": "white",
             "startlinecolor": "#2a3f5f"
            },
            "baxis": {
             "endlinecolor": "#2a3f5f",
             "gridcolor": "white",
             "linecolor": "white",
             "minorgridcolor": "white",
             "startlinecolor": "#2a3f5f"
            },
            "type": "carpet"
           }
          ],
          "choropleth": [
           {
            "colorbar": {
             "outlinewidth": 0,
             "ticks": ""
            },
            "type": "choropleth"
           }
          ],
          "contour": [
           {
            "colorbar": {
             "outlinewidth": 0,
             "ticks": ""
            },
            "colorscale": [
             [
              0,
              "#0d0887"
             ],
             [
              0.1111111111111111,
              "#46039f"
             ],
             [
              0.2222222222222222,
              "#7201a8"
             ],
             [
              0.3333333333333333,
              "#9c179e"
             ],
             [
              0.4444444444444444,
              "#bd3786"
             ],
             [
              0.5555555555555556,
              "#d8576b"
             ],
             [
              0.6666666666666666,
              "#ed7953"
             ],
             [
              0.7777777777777778,
              "#fb9f3a"
             ],
             [
              0.8888888888888888,
              "#fdca26"
             ],
             [
              1,
              "#f0f921"
             ]
            ],
            "type": "contour"
           }
          ],
          "contourcarpet": [
           {
            "colorbar": {
             "outlinewidth": 0,
             "ticks": ""
            },
            "type": "contourcarpet"
           }
          ],
          "heatmap": [
           {
            "colorbar": {
             "outlinewidth": 0,
             "ticks": ""
            },
            "colorscale": [
             [
              0,
              "#0d0887"
             ],
             [
              0.1111111111111111,
              "#46039f"
             ],
             [
              0.2222222222222222,
              "#7201a8"
             ],
             [
              0.3333333333333333,
              "#9c179e"
             ],
             [
              0.4444444444444444,
              "#bd3786"
             ],
             [
              0.5555555555555556,
              "#d8576b"
             ],
             [
              0.6666666666666666,
              "#ed7953"
             ],
             [
              0.7777777777777778,
              "#fb9f3a"
             ],
             [
              0.8888888888888888,
              "#fdca26"
             ],
             [
              1,
              "#f0f921"
             ]
            ],
            "type": "heatmap"
           }
          ],
          "heatmapgl": [
           {
            "colorbar": {
             "outlinewidth": 0,
             "ticks": ""
            },
            "colorscale": [
             [
              0,
              "#0d0887"
             ],
             [
              0.1111111111111111,
              "#46039f"
             ],
             [
              0.2222222222222222,
              "#7201a8"
             ],
             [
              0.3333333333333333,
              "#9c179e"
             ],
             [
              0.4444444444444444,
              "#bd3786"
             ],
             [
              0.5555555555555556,
              "#d8576b"
             ],
             [
              0.6666666666666666,
              "#ed7953"
             ],
             [
              0.7777777777777778,
              "#fb9f3a"
             ],
             [
              0.8888888888888888,
              "#fdca26"
             ],
             [
              1,
              "#f0f921"
             ]
            ],
            "type": "heatmapgl"
           }
          ],
          "histogram": [
           {
            "marker": {
             "colorbar": {
              "outlinewidth": 0,
              "ticks": ""
             }
            },
            "type": "histogram"
           }
          ],
          "histogram2d": [
           {
            "colorbar": {
             "outlinewidth": 0,
             "ticks": ""
            },
            "colorscale": [
             [
              0,
              "#0d0887"
             ],
             [
              0.1111111111111111,
              "#46039f"
             ],
             [
              0.2222222222222222,
              "#7201a8"
             ],
             [
              0.3333333333333333,
              "#9c179e"
             ],
             [
              0.4444444444444444,
              "#bd3786"
             ],
             [
              0.5555555555555556,
              "#d8576b"
             ],
             [
              0.6666666666666666,
              "#ed7953"
             ],
             [
              0.7777777777777778,
              "#fb9f3a"
             ],
             [
              0.8888888888888888,
              "#fdca26"
             ],
             [
              1,
              "#f0f921"
             ]
            ],
            "type": "histogram2d"
           }
          ],
          "histogram2dcontour": [
           {
            "colorbar": {
             "outlinewidth": 0,
             "ticks": ""
            },
            "colorscale": [
             [
              0,
              "#0d0887"
             ],
             [
              0.1111111111111111,
              "#46039f"
             ],
             [
              0.2222222222222222,
              "#7201a8"
             ],
             [
              0.3333333333333333,
              "#9c179e"
             ],
             [
              0.4444444444444444,
              "#bd3786"
             ],
             [
              0.5555555555555556,
              "#d8576b"
             ],
             [
              0.6666666666666666,
              "#ed7953"
             ],
             [
              0.7777777777777778,
              "#fb9f3a"
             ],
             [
              0.8888888888888888,
              "#fdca26"
             ],
             [
              1,
              "#f0f921"
             ]
            ],
            "type": "histogram2dcontour"
           }
          ],
          "mesh3d": [
           {
            "colorbar": {
             "outlinewidth": 0,
             "ticks": ""
            },
            "type": "mesh3d"
           }
          ],
          "parcoords": [
           {
            "line": {
             "colorbar": {
              "outlinewidth": 0,
              "ticks": ""
             }
            },
            "type": "parcoords"
           }
          ],
          "pie": [
           {
            "automargin": true,
            "type": "pie"
           }
          ],
          "scatter": [
           {
            "marker": {
             "colorbar": {
              "outlinewidth": 0,
              "ticks": ""
             }
            },
            "type": "scatter"
           }
          ],
          "scatter3d": [
           {
            "line": {
             "colorbar": {
              "outlinewidth": 0,
              "ticks": ""
             }
            },
            "marker": {
             "colorbar": {
              "outlinewidth": 0,
              "ticks": ""
             }
            },
            "type": "scatter3d"
           }
          ],
          "scattercarpet": [
           {
            "marker": {
             "colorbar": {
              "outlinewidth": 0,
              "ticks": ""
             }
            },
            "type": "scattercarpet"
           }
          ],
          "scattergeo": [
           {
            "marker": {
             "colorbar": {
              "outlinewidth": 0,
              "ticks": ""
             }
            },
            "type": "scattergeo"
           }
          ],
          "scattergl": [
           {
            "marker": {
             "colorbar": {
              "outlinewidth": 0,
              "ticks": ""
             }
            },
            "type": "scattergl"
           }
          ],
          "scattermapbox": [
           {
            "marker": {
             "colorbar": {
              "outlinewidth": 0,
              "ticks": ""
             }
            },
            "type": "scattermapbox"
           }
          ],
          "scatterpolar": [
           {
            "marker": {
             "colorbar": {
              "outlinewidth": 0,
              "ticks": ""
             }
            },
            "type": "scatterpolar"
           }
          ],
          "scatterpolargl": [
           {
            "marker": {
             "colorbar": {
              "outlinewidth": 0,
              "ticks": ""
             }
            },
            "type": "scatterpolargl"
           }
          ],
          "scatterternary": [
           {
            "marker": {
             "colorbar": {
              "outlinewidth": 0,
              "ticks": ""
             }
            },
            "type": "scatterternary"
           }
          ],
          "surface": [
           {
            "colorbar": {
             "outlinewidth": 0,
             "ticks": ""
            },
            "colorscale": [
             [
              0,
              "#0d0887"
             ],
             [
              0.1111111111111111,
              "#46039f"
             ],
             [
              0.2222222222222222,
              "#7201a8"
             ],
             [
              0.3333333333333333,
              "#9c179e"
             ],
             [
              0.4444444444444444,
              "#bd3786"
             ],
             [
              0.5555555555555556,
              "#d8576b"
             ],
             [
              0.6666666666666666,
              "#ed7953"
             ],
             [
              0.7777777777777778,
              "#fb9f3a"
             ],
             [
              0.8888888888888888,
              "#fdca26"
             ],
             [
              1,
              "#f0f921"
             ]
            ],
            "type": "surface"
           }
          ],
          "table": [
           {
            "cells": {
             "fill": {
              "color": "#EBF0F8"
             },
             "line": {
              "color": "white"
             }
            },
            "header": {
             "fill": {
              "color": "#C8D4E3"
             },
             "line": {
              "color": "white"
             }
            },
            "type": "table"
           }
          ]
         },
         "layout": {
          "annotationdefaults": {
           "arrowcolor": "#2a3f5f",
           "arrowhead": 0,
           "arrowwidth": 1
          },
          "coloraxis": {
           "colorbar": {
            "outlinewidth": 0,
            "ticks": ""
           }
          },
          "colorscale": {
           "diverging": [
            [
             0,
             "#8e0152"
            ],
            [
             0.1,
             "#c51b7d"
            ],
            [
             0.2,
             "#de77ae"
            ],
            [
             0.3,
             "#f1b6da"
            ],
            [
             0.4,
             "#fde0ef"
            ],
            [
             0.5,
             "#f7f7f7"
            ],
            [
             0.6,
             "#e6f5d0"
            ],
            [
             0.7,
             "#b8e186"
            ],
            [
             0.8,
             "#7fbc41"
            ],
            [
             0.9,
             "#4d9221"
            ],
            [
             1,
             "#276419"
            ]
           ],
           "sequential": [
            [
             0,
             "#0d0887"
            ],
            [
             0.1111111111111111,
             "#46039f"
            ],
            [
             0.2222222222222222,
             "#7201a8"
            ],
            [
             0.3333333333333333,
             "#9c179e"
            ],
            [
             0.4444444444444444,
             "#bd3786"
            ],
            [
             0.5555555555555556,
             "#d8576b"
            ],
            [
             0.6666666666666666,
             "#ed7953"
            ],
            [
             0.7777777777777778,
             "#fb9f3a"
            ],
            [
             0.8888888888888888,
             "#fdca26"
            ],
            [
             1,
             "#f0f921"
            ]
           ],
           "sequentialminus": [
            [
             0,
             "#0d0887"
            ],
            [
             0.1111111111111111,
             "#46039f"
            ],
            [
             0.2222222222222222,
             "#7201a8"
            ],
            [
             0.3333333333333333,
             "#9c179e"
            ],
            [
             0.4444444444444444,
             "#bd3786"
            ],
            [
             0.5555555555555556,
             "#d8576b"
            ],
            [
             0.6666666666666666,
             "#ed7953"
            ],
            [
             0.7777777777777778,
             "#fb9f3a"
            ],
            [
             0.8888888888888888,
             "#fdca26"
            ],
            [
             1,
             "#f0f921"
            ]
           ]
          },
          "colorway": [
           "#636efa",
           "#EF553B",
           "#00cc96",
           "#ab63fa",
           "#FFA15A",
           "#19d3f3",
           "#FF6692",
           "#B6E880",
           "#FF97FF",
           "#FECB52"
          ],
          "font": {
           "color": "#2a3f5f"
          },
          "geo": {
           "bgcolor": "white",
           "lakecolor": "white",
           "landcolor": "#E5ECF6",
           "showlakes": true,
           "showland": true,
           "subunitcolor": "white"
          },
          "hoverlabel": {
           "align": "left"
          },
          "hovermode": "closest",
          "mapbox": {
           "style": "light"
          },
          "paper_bgcolor": "white",
          "plot_bgcolor": "#E5ECF6",
          "polar": {
           "angularaxis": {
            "gridcolor": "white",
            "linecolor": "white",
            "ticks": ""
           },
           "bgcolor": "#E5ECF6",
           "radialaxis": {
            "gridcolor": "white",
            "linecolor": "white",
            "ticks": ""
           }
          },
          "scene": {
           "xaxis": {
            "backgroundcolor": "#E5ECF6",
            "gridcolor": "white",
            "gridwidth": 2,
            "linecolor": "white",
            "showbackground": true,
            "ticks": "",
            "zerolinecolor": "white"
           },
           "yaxis": {
            "backgroundcolor": "#E5ECF6",
            "gridcolor": "white",
            "gridwidth": 2,
            "linecolor": "white",
            "showbackground": true,
            "ticks": "",
            "zerolinecolor": "white"
           },
           "zaxis": {
            "backgroundcolor": "#E5ECF6",
            "gridcolor": "white",
            "gridwidth": 2,
            "linecolor": "white",
            "showbackground": true,
            "ticks": "",
            "zerolinecolor": "white"
           }
          },
          "shapedefaults": {
           "line": {
            "color": "#2a3f5f"
           }
          },
          "ternary": {
           "aaxis": {
            "gridcolor": "white",
            "linecolor": "white",
            "ticks": ""
           },
           "baxis": {
            "gridcolor": "white",
            "linecolor": "white",
            "ticks": ""
           },
           "bgcolor": "#E5ECF6",
           "caxis": {
            "gridcolor": "white",
            "linecolor": "white",
            "ticks": ""
           }
          },
          "title": {
           "x": 0.05
          },
          "xaxis": {
           "automargin": true,
           "gridcolor": "white",
           "linecolor": "white",
           "ticks": "",
           "title": {
            "standoff": 15
           },
           "zerolinecolor": "white",
           "zerolinewidth": 2
          },
          "yaxis": {
           "automargin": true,
           "gridcolor": "white",
           "linecolor": "white",
           "ticks": "",
           "title": {
            "standoff": 15
           },
           "zerolinecolor": "white",
           "zerolinewidth": 2
          }
         }
        },
        "title": {
         "text": "Coherence Value and # of Topics"
        },
        "xaxis": {
         "anchor": "y",
         "domain": [
          0,
          1
         ],
         "title": {
          "text": "# Topics"
         }
        },
        "yaxis": {
         "anchor": "x",
         "domain": [
          0,
          1
         ],
         "title": {
          "text": "Score"
         }
        }
       }
      },
      "text/html": [
       "<div>\n",
       "        \n",
       "        \n",
       "            <div id=\"da51b8b8-073d-4309-a59b-afc3297ebcc0\" class=\"plotly-graph-div\" style=\"height:525px; width:100%;\"></div>\n",
       "            <script type=\"text/javascript\">\n",
       "                require([\"plotly\"], function(Plotly) {\n",
       "                    window.PLOTLYENV=window.PLOTLYENV || {};\n",
       "                    \n",
       "                if (document.getElementById(\"da51b8b8-073d-4309-a59b-afc3297ebcc0\")) {\n",
       "                    Plotly.newPlot(\n",
       "                        'da51b8b8-073d-4309-a59b-afc3297ebcc0',\n",
       "                        [{\"hovertemplate\": \"Metric=Coherence<br># Topics=%{x}<br>Score=%{y}<extra></extra>\", \"legendgroup\": \"Coherence\", \"line\": {\"color\": \"#636efa\", \"dash\": \"solid\", \"shape\": \"linear\"}, \"mode\": \"lines\", \"name\": \"Coherence\", \"orientation\": \"v\", \"showlegend\": true, \"type\": \"scatter\", \"x\": [2, 4, 8, 16, 32, 64, 100, 200, 300, 400], \"xaxis\": \"x\", \"y\": [0.5789326776931363, 0.411539871836005, 0.4286275690295973, 0.4386688444772071, 0.42138636204151525, 0.3912600495495796, 0.4062338336740843, 0.38197951016484616, 0.3729166706278097, 0.3622797150378962], \"yaxis\": \"y\"}],\n",
       "                        {\"legend\": {\"title\": {\"text\": \"Metric\"}, \"tracegroupgap\": 0}, \"plot_bgcolor\": \"rgb(245,245,245)\", \"template\": {\"data\": {\"bar\": [{\"error_x\": {\"color\": \"#2a3f5f\"}, \"error_y\": {\"color\": \"#2a3f5f\"}, \"marker\": {\"line\": {\"color\": \"#E5ECF6\", \"width\": 0.5}}, \"type\": \"bar\"}], \"barpolar\": [{\"marker\": {\"line\": {\"color\": \"#E5ECF6\", \"width\": 0.5}}, \"type\": \"barpolar\"}], \"carpet\": [{\"aaxis\": {\"endlinecolor\": \"#2a3f5f\", \"gridcolor\": \"white\", \"linecolor\": \"white\", \"minorgridcolor\": \"white\", \"startlinecolor\": \"#2a3f5f\"}, \"baxis\": {\"endlinecolor\": \"#2a3f5f\", \"gridcolor\": \"white\", \"linecolor\": \"white\", \"minorgridcolor\": \"white\", \"startlinecolor\": \"#2a3f5f\"}, \"type\": \"carpet\"}], \"choropleth\": [{\"colorbar\": {\"outlinewidth\": 0, \"ticks\": \"\"}, \"type\": \"choropleth\"}], \"contour\": [{\"colorbar\": {\"outlinewidth\": 0, \"ticks\": \"\"}, \"colorscale\": [[0.0, \"#0d0887\"], [0.1111111111111111, \"#46039f\"], [0.2222222222222222, \"#7201a8\"], [0.3333333333333333, \"#9c179e\"], [0.4444444444444444, \"#bd3786\"], [0.5555555555555556, \"#d8576b\"], [0.6666666666666666, \"#ed7953\"], [0.7777777777777778, \"#fb9f3a\"], [0.8888888888888888, \"#fdca26\"], [1.0, \"#f0f921\"]], \"type\": \"contour\"}], \"contourcarpet\": [{\"colorbar\": {\"outlinewidth\": 0, \"ticks\": \"\"}, \"type\": \"contourcarpet\"}], \"heatmap\": [{\"colorbar\": {\"outlinewidth\": 0, \"ticks\": \"\"}, \"colorscale\": [[0.0, \"#0d0887\"], [0.1111111111111111, \"#46039f\"], [0.2222222222222222, \"#7201a8\"], [0.3333333333333333, \"#9c179e\"], [0.4444444444444444, \"#bd3786\"], [0.5555555555555556, \"#d8576b\"], [0.6666666666666666, \"#ed7953\"], [0.7777777777777778, \"#fb9f3a\"], [0.8888888888888888, \"#fdca26\"], [1.0, \"#f0f921\"]], \"type\": \"heatmap\"}], \"heatmapgl\": [{\"colorbar\": {\"outlinewidth\": 0, \"ticks\": \"\"}, \"colorscale\": [[0.0, \"#0d0887\"], [0.1111111111111111, \"#46039f\"], [0.2222222222222222, \"#7201a8\"], [0.3333333333333333, \"#9c179e\"], [0.4444444444444444, \"#bd3786\"], [0.5555555555555556, \"#d8576b\"], [0.6666666666666666, \"#ed7953\"], [0.7777777777777778, \"#fb9f3a\"], [0.8888888888888888, \"#fdca26\"], [1.0, \"#f0f921\"]], \"type\": \"heatmapgl\"}], \"histogram\": [{\"marker\": {\"colorbar\": {\"outlinewidth\": 0, \"ticks\": \"\"}}, \"type\": \"histogram\"}], \"histogram2d\": [{\"colorbar\": {\"outlinewidth\": 0, \"ticks\": \"\"}, \"colorscale\": [[0.0, \"#0d0887\"], [0.1111111111111111, \"#46039f\"], [0.2222222222222222, \"#7201a8\"], [0.3333333333333333, \"#9c179e\"], [0.4444444444444444, \"#bd3786\"], [0.5555555555555556, \"#d8576b\"], [0.6666666666666666, \"#ed7953\"], [0.7777777777777778, \"#fb9f3a\"], [0.8888888888888888, \"#fdca26\"], [1.0, \"#f0f921\"]], \"type\": \"histogram2d\"}], \"histogram2dcontour\": [{\"colorbar\": {\"outlinewidth\": 0, \"ticks\": \"\"}, \"colorscale\": [[0.0, \"#0d0887\"], [0.1111111111111111, \"#46039f\"], [0.2222222222222222, \"#7201a8\"], [0.3333333333333333, \"#9c179e\"], [0.4444444444444444, \"#bd3786\"], [0.5555555555555556, \"#d8576b\"], [0.6666666666666666, \"#ed7953\"], [0.7777777777777778, \"#fb9f3a\"], [0.8888888888888888, \"#fdca26\"], [1.0, \"#f0f921\"]], \"type\": \"histogram2dcontour\"}], \"mesh3d\": [{\"colorbar\": {\"outlinewidth\": 0, \"ticks\": \"\"}, \"type\": \"mesh3d\"}], \"parcoords\": [{\"line\": {\"colorbar\": {\"outlinewidth\": 0, \"ticks\": \"\"}}, \"type\": \"parcoords\"}], \"pie\": [{\"automargin\": true, \"type\": \"pie\"}], \"scatter\": [{\"marker\": {\"colorbar\": {\"outlinewidth\": 0, \"ticks\": \"\"}}, \"type\": \"scatter\"}], \"scatter3d\": [{\"line\": {\"colorbar\": {\"outlinewidth\": 0, \"ticks\": \"\"}}, \"marker\": {\"colorbar\": {\"outlinewidth\": 0, \"ticks\": \"\"}}, \"type\": \"scatter3d\"}], \"scattercarpet\": [{\"marker\": {\"colorbar\": {\"outlinewidth\": 0, \"ticks\": \"\"}}, \"type\": \"scattercarpet\"}], \"scattergeo\": [{\"marker\": {\"colorbar\": {\"outlinewidth\": 0, \"ticks\": \"\"}}, \"type\": \"scattergeo\"}], \"scattergl\": [{\"marker\": {\"colorbar\": {\"outlinewidth\": 0, \"ticks\": \"\"}}, \"type\": \"scattergl\"}], \"scattermapbox\": [{\"marker\": {\"colorbar\": {\"outlinewidth\": 0, \"ticks\": \"\"}}, \"type\": \"scattermapbox\"}], \"scatterpolar\": [{\"marker\": {\"colorbar\": {\"outlinewidth\": 0, \"ticks\": \"\"}}, \"type\": \"scatterpolar\"}], \"scatterpolargl\": [{\"marker\": {\"colorbar\": {\"outlinewidth\": 0, \"ticks\": \"\"}}, \"type\": \"scatterpolargl\"}], \"scatterternary\": [{\"marker\": {\"colorbar\": {\"outlinewidth\": 0, \"ticks\": \"\"}}, \"type\": \"scatterternary\"}], \"surface\": [{\"colorbar\": {\"outlinewidth\": 0, \"ticks\": \"\"}, \"colorscale\": [[0.0, \"#0d0887\"], [0.1111111111111111, \"#46039f\"], [0.2222222222222222, \"#7201a8\"], [0.3333333333333333, \"#9c179e\"], [0.4444444444444444, \"#bd3786\"], [0.5555555555555556, \"#d8576b\"], [0.6666666666666666, \"#ed7953\"], [0.7777777777777778, \"#fb9f3a\"], [0.8888888888888888, \"#fdca26\"], [1.0, \"#f0f921\"]], \"type\": \"surface\"}], \"table\": [{\"cells\": {\"fill\": {\"color\": \"#EBF0F8\"}, \"line\": {\"color\": \"white\"}}, \"header\": {\"fill\": {\"color\": \"#C8D4E3\"}, \"line\": {\"color\": \"white\"}}, \"type\": \"table\"}]}, \"layout\": {\"annotationdefaults\": {\"arrowcolor\": \"#2a3f5f\", \"arrowhead\": 0, \"arrowwidth\": 1}, \"coloraxis\": {\"colorbar\": {\"outlinewidth\": 0, \"ticks\": \"\"}}, \"colorscale\": {\"diverging\": [[0, \"#8e0152\"], [0.1, \"#c51b7d\"], [0.2, \"#de77ae\"], [0.3, \"#f1b6da\"], [0.4, \"#fde0ef\"], [0.5, \"#f7f7f7\"], [0.6, \"#e6f5d0\"], [0.7, \"#b8e186\"], [0.8, \"#7fbc41\"], [0.9, \"#4d9221\"], [1, \"#276419\"]], \"sequential\": [[0.0, \"#0d0887\"], [0.1111111111111111, \"#46039f\"], [0.2222222222222222, \"#7201a8\"], [0.3333333333333333, \"#9c179e\"], [0.4444444444444444, \"#bd3786\"], [0.5555555555555556, \"#d8576b\"], [0.6666666666666666, \"#ed7953\"], [0.7777777777777778, \"#fb9f3a\"], [0.8888888888888888, \"#fdca26\"], [1.0, \"#f0f921\"]], \"sequentialminus\": [[0.0, \"#0d0887\"], [0.1111111111111111, \"#46039f\"], [0.2222222222222222, \"#7201a8\"], [0.3333333333333333, \"#9c179e\"], [0.4444444444444444, \"#bd3786\"], [0.5555555555555556, \"#d8576b\"], [0.6666666666666666, \"#ed7953\"], [0.7777777777777778, \"#fb9f3a\"], [0.8888888888888888, \"#fdca26\"], [1.0, \"#f0f921\"]]}, \"colorway\": [\"#636efa\", \"#EF553B\", \"#00cc96\", \"#ab63fa\", \"#FFA15A\", \"#19d3f3\", \"#FF6692\", \"#B6E880\", \"#FF97FF\", \"#FECB52\"], \"font\": {\"color\": \"#2a3f5f\"}, \"geo\": {\"bgcolor\": \"white\", \"lakecolor\": \"white\", \"landcolor\": \"#E5ECF6\", \"showlakes\": true, \"showland\": true, \"subunitcolor\": \"white\"}, \"hoverlabel\": {\"align\": \"left\"}, \"hovermode\": \"closest\", \"mapbox\": {\"style\": \"light\"}, \"paper_bgcolor\": \"white\", \"plot_bgcolor\": \"#E5ECF6\", \"polar\": {\"angularaxis\": {\"gridcolor\": \"white\", \"linecolor\": \"white\", \"ticks\": \"\"}, \"bgcolor\": \"#E5ECF6\", \"radialaxis\": {\"gridcolor\": \"white\", \"linecolor\": \"white\", \"ticks\": \"\"}}, \"scene\": {\"xaxis\": {\"backgroundcolor\": \"#E5ECF6\", \"gridcolor\": \"white\", \"gridwidth\": 2, \"linecolor\": \"white\", \"showbackground\": true, \"ticks\": \"\", \"zerolinecolor\": \"white\"}, \"yaxis\": {\"backgroundcolor\": \"#E5ECF6\", \"gridcolor\": \"white\", \"gridwidth\": 2, \"linecolor\": \"white\", \"showbackground\": true, \"ticks\": \"\", \"zerolinecolor\": \"white\"}, \"zaxis\": {\"backgroundcolor\": \"#E5ECF6\", \"gridcolor\": \"white\", \"gridwidth\": 2, \"linecolor\": \"white\", \"showbackground\": true, \"ticks\": \"\", \"zerolinecolor\": \"white\"}}, \"shapedefaults\": {\"line\": {\"color\": \"#2a3f5f\"}}, \"ternary\": {\"aaxis\": {\"gridcolor\": \"white\", \"linecolor\": \"white\", \"ticks\": \"\"}, \"baxis\": {\"gridcolor\": \"white\", \"linecolor\": \"white\", \"ticks\": \"\"}, \"bgcolor\": \"#E5ECF6\", \"caxis\": {\"gridcolor\": \"white\", \"linecolor\": \"white\", \"ticks\": \"\"}}, \"title\": {\"x\": 0.05}, \"xaxis\": {\"automargin\": true, \"gridcolor\": \"white\", \"linecolor\": \"white\", \"ticks\": \"\", \"title\": {\"standoff\": 15}, \"zerolinecolor\": \"white\", \"zerolinewidth\": 2}, \"yaxis\": {\"automargin\": true, \"gridcolor\": \"white\", \"linecolor\": \"white\", \"ticks\": \"\", \"title\": {\"standoff\": 15}, \"zerolinecolor\": \"white\", \"zerolinewidth\": 2}}}, \"title\": {\"text\": \"Coherence Value and # of Topics\"}, \"xaxis\": {\"anchor\": \"y\", \"domain\": [0.0, 1.0], \"title\": {\"text\": \"# Topics\"}}, \"yaxis\": {\"anchor\": \"x\", \"domain\": [0.0, 1.0], \"title\": {\"text\": \"Score\"}}},\n",
       "                        {\"responsive\": true}\n",
       "                    ).then(function(){\n",
       "                            \n",
       "var gd = document.getElementById('da51b8b8-073d-4309-a59b-afc3297ebcc0');\n",
       "var x = new MutationObserver(function (mutations, observer) {{\n",
       "        var display = window.getComputedStyle(gd).display;\n",
       "        if (!display || display === 'none') {{\n",
       "            console.log([gd, 'removed!']);\n",
       "            Plotly.purge(gd);\n",
       "            observer.disconnect();\n",
       "        }}\n",
       "}});\n",
       "\n",
       "// Listen for the removal of the full notebook cells\n",
       "var notebookContainer = gd.closest('#notebook-container');\n",
       "if (notebookContainer) {{\n",
       "    x.observe(notebookContainer, {childList: true});\n",
       "}}\n",
       "\n",
       "// Listen for the clearing of the current output cell\n",
       "var outputEl = gd.closest('.output');\n",
       "if (outputEl) {{\n",
       "    x.observe(outputEl, {childList: true});\n",
       "}}\n",
       "\n",
       "                        })\n",
       "                };\n",
       "                });\n",
       "            </script>\n",
       "        </div>"
      ]
     },
     "metadata": {},
     "output_type": "display_data"
    },
    {
     "name": "stdout",
     "output_type": "stream",
     "text": [
      "Best Model: Latent Dirichlet Allocation | # Topics: 2 | Coherence: 0.5789\n"
     ]
    }
   ],
   "source": [
    "tune_lda_positive = tune_model(model='lda', supervised_target=None, estimator='xgboost')"
   ]
  },
  {
   "cell_type": "markdown",
   "metadata": {},
   "source": []
  },
  {
   "cell_type": "code",
   "execution_count": 11,
   "metadata": {},
   "outputs": [
    {
     "name": "stdout",
     "output_type": "stream",
     "text": [
      "LdaModel(num_terms=2664, num_topics=2, decay=0.5, chunksize=100)\n"
     ]
    }
   ],
   "source": [
    "#create an LDA model\n",
    "tuned_pos_2 = create_model('lda', num_topics = 2)\n",
    "print(tuned_pos_2)"
   ]
  },
  {
   "cell_type": "code",
   "execution_count": 12,
   "metadata": {},
   "outputs": [],
   "source": [
    "apply_tuned_pos = assign_model(tuned_pos_2)"
   ]
  },
  {
   "cell_type": "code",
   "execution_count": 13,
   "metadata": {},
   "outputs": [
    {
     "data": {
      "application/vnd.jupyter.widget-view+json": {
       "model_id": "c9367cba35784e0f91207a4ad1f62d14",
       "version_major": 2,
       "version_minor": 0
      },
      "text/plain": [
       "interactive(children=(ToggleButtons(description='Plot Type:', icons=('',), options=(('Frequency Plot', 'freque…"
      ]
     },
     "metadata": {},
     "output_type": "display_data"
    }
   ],
   "source": [
    "evaluate_model(tuned_pos_2)"
   ]
  },
  {
   "cell_type": "code",
   "execution_count": 14,
   "metadata": {},
   "outputs": [
    {
     "data": {
      "text/html": [
       "        <script type=\"text/javascript\">\n",
       "        window.PlotlyConfig = {MathJaxConfig: 'local'};\n",
       "        if (window.MathJax) {MathJax.Hub.Config({SVG: {font: \"STIX-Web\"}});}\n",
       "        if (typeof require !== 'undefined') {\n",
       "        require.undef(\"plotly\");\n",
       "        requirejs.config({\n",
       "            paths: {\n",
       "                'plotly': ['https://cdn.plot.ly/plotly-latest.min']\n",
       "            }\n",
       "        });\n",
       "        require(['plotly'], function(Plotly) {\n",
       "            window._Plotly = Plotly;\n",
       "        });\n",
       "        }\n",
       "        </script>\n",
       "        "
      ]
     },
     "metadata": {},
     "output_type": "display_data"
    },
    {
     "data": {
      "text/html": [
       "\n",
       "<link rel=\"stylesheet\" type=\"text/css\" href=\"https://cdn.rawgit.com/bmabey/pyLDAvis/files/ldavis.v1.0.0.css\">\n",
       "\n",
       "\n",
       "<div id=\"ldavis_el1548821181457116889283785675\"></div>\n",
       "<script type=\"text/javascript\">\n",
       "\n",
       "var ldavis_el1548821181457116889283785675_data = {\"mdsDat\": {\"x\": [0.136429040694166, -0.136429040694166], \"y\": [-0.11541427718756543, 0.11541427718756543], \"topics\": [1, 2], \"cluster\": [1, 1], \"Freq\": [89.92622375488281, 10.073777198791504]}, \"tinfo\": {\"Term\": [\"city\", \"see\", \"old\", \"walk\", \"venetian\", \"part\", \"area\", \"build\", \"use\", \"surround\", \"gate\", \"take\", \"bastion\", \"history\", \"impressive\", \"many\", \"new\", \"interesting\", \"preserve\", \"park\", \"town\", \"turkish\", \"side\", \"famagusta_gate\", \"divide\", \"moat\", \"occupy\", \"place\", \"today\", \"point\", \"burger\", \"service\", \"go\", \"great\", \"place\", \"excellent\", \"dish\", \"time\", \"price\", \"order\", \"quality\", \"try\", \"staff\", \"visit\", \"friendly\", \"atmosphere\", \"tasty\", \"delicious\", \"always\", \"amazing\", \"chinese\", \"syrian\", \"taste\", \"love\", \"friend\", \"chicken\", \"come\", \"night\", \"menu\", \"recommend\", \"well\", \"also\", \"really\", \"make\", \"enjoy\", \"get\", \"even\", \"look\", \"many\", \"worth\", \"side\", \"venetian\", \"build\", \"bastion\", \"gate\", \"surround\", \"turkish\", \"preserve\", \"divide\", \"occupy\", \"famagusta_gate\", \"moat\", \"medieval\", \"protect\", \"fortification\", \"passport\", \"history\", \"shop\", \"historic\", \"view\", \"ancient\", \"greek\", \"building\", \"public\", \"field\", \"tourist\", \"century\", \"border\", \"stone\", \"cross\", \"walk\", \"historical\", \"city\", \"old\", \"part\", \"see\", \"shape\", \"today\", \"use\", \"area\", \"impressive\", \"take\", \"many\"], \"Freq\": [91.0, 89.0, 50.0, 44.0, 39.0, 42.0, 56.0, 23.0, 43.0, 20.0, 18.0, 70.0, 18.0, 18.0, 36.0, 100.0, 33.0, 22.0, 12.0, 24.0, 60.0, 11.0, 74.0, 11.0, 11.0, 11.0, 10.0, 297.0, 10.0, 13.0, 227.9014129638672, 218.31228637695312, 208.6016387939453, 190.5926971435547, 297.6439514160156, 135.64100646972656, 122.96647644042969, 231.08905029296875, 104.62342071533203, 106.50994110107422, 100.12039184570312, 95.60807800292969, 89.34815216064453, 230.93179321289062, 86.53465270996094, 78.56372833251953, 76.69857788085938, 73.5904312133789, 72.03973388671875, 101.7255859375, 63.91747283935547, 64.61949920654297, 58.575496673583984, 59.18172836303711, 57.909603118896484, 56.46511459350586, 72.34784698486328, 53.39858627319336, 51.31651306152344, 58.01310729980469, 158.61485290527344, 126.55075073242188, 114.39241790771484, 98.00617218017578, 87.93081665039062, 71.14347076416016, 64.79703521728516, 86.46514892578125, 93.3604965209961, 67.11495971679688, 69.23454284667969, 38.238216400146484, 22.62709617614746, 17.786409378051758, 18.042566299438477, 19.94009780883789, 11.21353530883789, 11.673492431640625, 10.4808931350708, 10.1580228805542, 10.510051727294922, 10.187682151794434, 8.798951148986816, 7.880902290344238, 7.416782379150391, 7.448194980621338, 16.945293426513672, 8.490917205810547, 7.126966953277588, 6.364800930023193, 7.008935451507568, 5.8768463134765625, 5.3298869132995605, 5.373223304748535, 5.370460033416748, 5.678548812866211, 5.726852893829346, 5.310053825378418, 6.253532409667969, 4.893863677978516, 38.5189323425293, 5.649547100067139, 66.53816986083984, 35.40788650512695, 24.426485061645508, 32.417633056640625, 7.680966854095459, 7.697261810302734, 11.212152481079102, 12.184261322021484, 7.865012168884277, 8.226771354675293, 7.332209587097168], \"Total\": [91.0, 89.0, 50.0, 44.0, 39.0, 42.0, 56.0, 23.0, 43.0, 20.0, 18.0, 70.0, 18.0, 18.0, 36.0, 100.0, 33.0, 22.0, 12.0, 24.0, 60.0, 11.0, 74.0, 11.0, 11.0, 11.0, 10.0, 297.0, 10.0, 13.0, 228.0352020263672, 218.4469451904297, 208.76394653320312, 190.7573699951172, 297.92718505859375, 135.77806091308594, 123.10130310058594, 231.37388610839844, 104.75719451904297, 106.65121459960938, 100.25508117675781, 95.74551391601562, 89.48200225830078, 231.2908172607422, 86.66971588134766, 78.69818115234375, 76.83501434326172, 73.7243423461914, 72.1767807006836, 101.93153381347656, 64.05123138427734, 64.7552490234375, 58.70925521850586, 59.31919860839844, 58.04658889770508, 56.599544525146484, 72.52779388427734, 53.534481048583984, 51.45109176635742, 58.171390533447266, 159.33079528808594, 126.97245788574219, 114.75431060791016, 98.33000183105469, 88.20111083984375, 71.38679504394531, 65.01213836669922, 88.04175567626953, 100.69270324707031, 68.46784973144531, 74.75993347167969, 39.102455139160156, 23.355472564697266, 18.489822387695312, 18.796207427978516, 20.796674728393555, 11.938243865966797, 12.433831214904785, 11.193641662597656, 10.892777442932129, 11.312738418579102, 11.009780883789062, 9.557348251342773, 8.562932968139648, 8.08256721496582, 8.194273948669434, 18.718475341796875, 9.380094528198242, 7.887444019317627, 7.1005754470825195, 7.84722900390625, 6.587235450744629, 5.986149787902832, 6.057948112487793, 6.067056655883789, 6.4167256355285645, 6.472695827484131, 6.051487922668457, 7.142641544342041, 5.628096580505371, 44.34660720825195, 6.512375831604004, 91.79756164550781, 50.761146545410156, 42.774169921875, 89.22593688964844, 10.52286148071289, 10.919693946838379, 43.889808654785156, 56.52808380126953, 36.87459945678711, 70.56501770019531, 100.69270324707031], \"Category\": [\"Default\", \"Default\", \"Default\", \"Default\", \"Default\", \"Default\", \"Default\", \"Default\", \"Default\", \"Default\", \"Default\", \"Default\", \"Default\", \"Default\", \"Default\", \"Default\", \"Default\", \"Default\", \"Default\", \"Default\", \"Default\", \"Default\", \"Default\", \"Default\", \"Default\", \"Default\", \"Default\", \"Default\", \"Default\", \"Default\", \"Topic1\", \"Topic1\", \"Topic1\", \"Topic1\", \"Topic1\", \"Topic1\", \"Topic1\", \"Topic1\", \"Topic1\", \"Topic1\", \"Topic1\", \"Topic1\", \"Topic1\", \"Topic1\", \"Topic1\", \"Topic1\", \"Topic1\", \"Topic1\", \"Topic1\", \"Topic1\", \"Topic1\", \"Topic1\", \"Topic1\", \"Topic1\", \"Topic1\", \"Topic1\", \"Topic1\", \"Topic1\", \"Topic1\", \"Topic1\", \"Topic1\", \"Topic1\", \"Topic1\", \"Topic1\", \"Topic1\", \"Topic1\", \"Topic1\", \"Topic1\", \"Topic1\", \"Topic1\", \"Topic1\", \"Topic2\", \"Topic2\", \"Topic2\", \"Topic2\", \"Topic2\", \"Topic2\", \"Topic2\", \"Topic2\", \"Topic2\", \"Topic2\", \"Topic2\", \"Topic2\", \"Topic2\", \"Topic2\", \"Topic2\", \"Topic2\", \"Topic2\", \"Topic2\", \"Topic2\", \"Topic2\", \"Topic2\", \"Topic2\", \"Topic2\", \"Topic2\", \"Topic2\", \"Topic2\", \"Topic2\", \"Topic2\", \"Topic2\", \"Topic2\", \"Topic2\", \"Topic2\", \"Topic2\", \"Topic2\", \"Topic2\", \"Topic2\", \"Topic2\", \"Topic2\", \"Topic2\", \"Topic2\", \"Topic2\", \"Topic2\"], \"logprob\": [30.0, 29.0, 28.0, 27.0, 26.0, 25.0, 24.0, 23.0, 22.0, 21.0, 20.0, 19.0, 18.0, 17.0, 16.0, 15.0, 14.0, 13.0, 12.0, 11.0, 10.0, 9.0, 8.0, 7.0, 6.0, 5.0, 4.0, 3.0, 2.0, 1.0, -4.237100124359131, -4.280099868774414, -4.3256001472473145, -4.415900230407715, -3.9702000617980957, -4.75600004196167, -4.854100227355957, -4.223299980163574, -5.015699863433838, -4.997799873352051, -5.059700012207031, -5.105800151824951, -5.173500061035156, -4.223899841308594, -5.20550012588501, -5.30210018157959, -5.326200008392334, -5.367499828338623, -5.388800144195557, -5.043799877166748, -5.508500099182129, -5.497499942779541, -5.595699787139893, -5.585400104522705, -5.6072001457214355, -5.632400035858154, -5.3846001625061035, -5.688300132751465, -5.728000164031982, -5.605400085449219, -4.599599838256836, -4.825399875640869, -4.926400184631348, -5.080999851226807, -5.189499855041504, -5.401400089263916, -5.494800090789795, -5.206299781799316, -5.1296000480651855, -5.459700107574463, -5.428599834442139, -3.833199977874756, -4.357900142669678, -4.598599910736084, -4.5843000411987305, -4.484300136566162, -5.059899806976318, -5.019700050354004, -5.127399921417236, -5.158699989318848, -5.12470006942749, -5.155799865722656, -5.3024001121521, -5.412600040435791, -5.473299980163574, -5.468999862670898, -4.646999835968018, -5.3379998207092285, -5.5131001472473145, -5.626200199127197, -5.529799938201904, -5.705999851226807, -5.803699970245361, -5.795599937438965, -5.79610013961792, -5.740300178527832, -5.731800079345703, -5.807400226593018, -5.643899917602539, -5.888999938964844, -3.825900077819824, -5.7453999519348145, -3.2792000770568848, -3.910099983215332, -4.281300067901611, -3.998300075531006, -5.438300132751465, -5.436100006103516, -5.059999942779541, -4.976900100708008, -5.414599895477295, -5.36959981918335, -5.4847002029418945], \"loglift\": [30.0, 29.0, 28.0, 27.0, 26.0, 25.0, 24.0, 23.0, 22.0, 21.0, 20.0, 19.0, 18.0, 17.0, 16.0, 15.0, 14.0, 13.0, 12.0, 11.0, 10.0, 9.0, 8.0, 7.0, 6.0, 5.0, 4.0, 3.0, 2.0, 1.0, 0.10559999942779541, 0.10559999942779541, 0.10540000349283218, 0.10530000180006027, 0.10520000010728836, 0.10520000010728836, 0.10509999841451645, 0.10490000247955322, 0.10490000247955322, 0.10490000247955322, 0.10480000078678131, 0.1046999990940094, 0.1046999990940094, 0.10459999740123749, 0.10459999740123749, 0.10450000315904617, 0.10440000146627426, 0.10440000146627426, 0.10429999977350235, 0.10419999808073044, 0.10409999638795853, 0.10409999638795853, 0.1039000004529953, 0.1039000004529953, 0.10379999876022339, 0.10379999876022339, 0.10369999706745148, 0.10360000282526016, 0.10360000282526016, 0.10350000113248825, 0.10170000046491623, 0.10289999842643738, 0.10300000011920929, 0.10289999842643738, 0.1031000018119812, 0.10279999673366547, 0.10289999842643738, 0.08810000121593475, 0.03060000017285347, 0.08619999885559082, 0.029400000348687172, 2.272900104522705, 2.2636001110076904, 2.2564001083374023, 2.254300117492676, 2.253200054168701, 2.232599973678589, 2.232100009918213, 2.2293999195098877, 2.225399971008301, 2.22160005569458, 2.217600107192993, 2.212599992752075, 2.2121999263763428, 2.2093000411987305, 2.1998000144958496, 2.19569993019104, 2.1956000328063965, 2.1937999725341797, 2.185800075531006, 2.182300090789795, 2.1810998916625977, 2.1791000366210938, 2.175299882888794, 2.17330002784729, 2.1730000972747803, 2.172800064086914, 2.1644999980926514, 2.1623001098632812, 2.155400037765503, 2.1542999744415283, 2.15310001373291, 1.9733999967575073, 1.934999942779541, 1.7350000143051147, 1.2827999591827393, 1.9803999662399292, 1.9455000162124634, 0.9305999875068665, 0.7605999708175659, 0.7501000165939331, 0.1460999995470047, -0.3246000111103058]}, \"token.table\": {\"Topic\": [1, 1, 1, 1, 2, 1, 2, 1, 1, 2, 1, 2, 1, 2, 1, 2, 1, 1, 2, 1, 1, 1, 2, 1, 1, 2, 1, 1, 1, 2, 1, 1, 1, 1, 2, 1, 2, 1, 2, 1, 1, 1, 2, 1, 1, 1, 1, 2, 1, 2, 1, 2, 1, 2, 1, 2, 1, 2, 1, 2, 1, 1, 1, 2, 1, 2, 1, 1, 2, 1, 2, 1, 1, 2, 1, 2, 1, 1, 2, 1, 2, 1, 2, 1, 1, 2, 1, 2, 1, 1, 2, 1, 2, 1, 1, 1, 1, 2, 1, 1, 2, 1, 2, 1, 2, 1, 1, 2, 1, 2, 1, 1, 2, 1, 1, 1, 1, 2, 1, 2, 1, 2, 1, 1, 2, 1, 2, 1, 2, 1, 2, 1, 1, 2, 1, 2, 1, 2], \"Freq\": [1.0002169609069824, 0.9975507259368896, 1.0006717443466187, 0.12743352353572845, 0.892034649848938, 0.7783741354942322, 0.21228386461734772, 1.0038352012634277, 0.05408380925655365, 0.9735085368156433, 0.16524861752986908, 0.8262431025505066, 0.042816516011953354, 0.9847798943519592, 0.1670522838830948, 0.8352614045143127, 0.9998456239700317, 0.15449513494968414, 0.9269707798957825, 0.9894072413444519, 0.999200165271759, 0.2723383903503418, 0.7298668622970581, 0.9927228689193726, 0.17767997086048126, 0.8883998394012451, 1.0037389993667603, 0.999177098274231, 0.08933643251657486, 0.8933643102645874, 0.9977198839187622, 0.9998133182525635, 1.0016345977783203, 0.08839592337608337, 0.9723551869392395, 0.16482457518577576, 0.8241228461265564, 0.12372306734323502, 0.8660614490509033, 0.9991973638534546, 1.0038108825683594, 0.053202223032712936, 0.9576399922370911, 0.9945816993713379, 1.0011307001113892, 1.0012719631195068, 0.1518087536096573, 0.9108524918556213, 0.12678378820419312, 0.8874865174293518, 0.1535537987947464, 0.921322762966156, 0.10684631019830704, 0.9081936478614807, 0.7864491939544678, 0.21695150434970856, 0.719362199306488, 0.2697608172893524, 0.9768092632293701, 0.022716494277119637, 0.9946189522743225, 0.9966439604759216, 0.9236021637916565, 0.06951844692230225, 0.10463153570890427, 0.9416837692260742, 0.9912326335906982, 0.09082832932472229, 0.9082832932472229, 0.8273142576217651, 0.17728161811828613, 0.9900161623954773, 0.09180395305156708, 0.9180395007133484, 0.29550158977508545, 0.6895037293434143, 1.0032703876495361, 0.7740126848220825, 0.24442505836486816, 0.42081472277641296, 0.5610862970352173, 0.12203643471002579, 0.8542550802230835, 1.000244379043579, 0.6004905700683594, 0.45036792755126953, 0.08042573183774948, 0.9651088118553162, 1.0023177862167358, 0.11678241938352585, 0.9342593550682068, 0.16507239639759064, 0.825361967086792, 0.9974556565284729, 0.9934267401695251, 0.9970536828041077, 0.6388276815414429, 0.3586401045322418, 0.9979540109634399, 0.2850935459136963, 0.7602494955062866, 0.10660873353481293, 0.8528698682785034, 0.922954261302948, 0.08025689423084259, 0.9946134090423584, 0.1400042325258255, 0.8400253653526306, 0.04808460921049118, 0.961692214012146, 1.003779649734497, 0.8786223530769348, 0.1133706197142601, 1.004952311515808, 1.0021473169326782, 0.9983840584754944, 0.2747329771518707, 0.7326212525367737, 0.15584272146224976, 0.9350563287734985, 0.9098917245864868, 0.0827174261212349, 1.0026578903198242, 0.08376441150903702, 0.9214085340499878, 0.7518829703330994, 0.25062766671180725, 0.025573842227458954, 0.971805989742279, 0.14083366096019745, 0.8450019359588623, 0.9987426400184631, 0.13529783487319946, 0.8794359564781189, 0.9979238510131836, 0.006276250816881657, 0.9785614609718323, 0.014605395495891571], \"Term\": [\"also\", \"always\", \"amazing\", \"ancient\", \"ancient\", \"area\", \"area\", \"atmosphere\", \"bastion\", \"bastion\", \"border\", \"border\", \"build\", \"build\", \"building\", \"building\", \"burger\", \"century\", \"century\", \"chicken\", \"chinese\", \"city\", \"city\", \"come\", \"cross\", \"cross\", \"delicious\", \"dish\", \"divide\", \"divide\", \"enjoy\", \"even\", \"excellent\", \"famagusta_gate\", \"famagusta_gate\", \"field\", \"field\", \"fortification\", \"fortification\", \"friend\", \"friendly\", \"gate\", \"gate\", \"get\", \"go\", \"great\", \"greek\", \"greek\", \"historic\", \"historic\", \"historical\", \"historical\", \"history\", \"history\", \"impressive\", \"impressive\", \"interesting\", \"interesting\", \"look\", \"look\", \"love\", \"make\", \"many\", \"many\", \"medieval\", \"medieval\", \"menu\", \"moat\", \"moat\", \"new\", \"new\", \"night\", \"occupy\", \"occupy\", \"old\", \"old\", \"order\", \"park\", \"park\", \"part\", \"part\", \"passport\", \"passport\", \"place\", \"point\", \"point\", \"preserve\", \"preserve\", \"price\", \"protect\", \"protect\", \"public\", \"public\", \"quality\", \"really\", \"recommend\", \"see\", \"see\", \"service\", \"shape\", \"shape\", \"shop\", \"shop\", \"side\", \"side\", \"staff\", \"stone\", \"stone\", \"surround\", \"surround\", \"syrian\", \"take\", \"take\", \"taste\", \"tasty\", \"time\", \"today\", \"today\", \"tourist\", \"tourist\", \"town\", \"town\", \"try\", \"turkish\", \"turkish\", \"use\", \"use\", \"venetian\", \"venetian\", \"view\", \"view\", \"visit\", \"walk\", \"walk\", \"well\", \"well\", \"worth\", \"worth\"]}, \"R\": 30, \"lambda.step\": 0.01, \"plot.opts\": {\"xlab\": \"PC1\", \"ylab\": \"PC2\"}, \"topic.order\": [2, 1]};\n",
       "\n",
       "function LDAvis_load_lib(url, callback){\n",
       "  var s = document.createElement('script');\n",
       "  s.src = url;\n",
       "  s.async = true;\n",
       "  s.onreadystatechange = s.onload = callback;\n",
       "  s.onerror = function(){console.warn(\"failed to load library \" + url);};\n",
       "  document.getElementsByTagName(\"head\")[0].appendChild(s);\n",
       "}\n",
       "\n",
       "if(typeof(LDAvis) !== \"undefined\"){\n",
       "   // already loaded: just create the visualization\n",
       "   !function(LDAvis){\n",
       "       new LDAvis(\"#\" + \"ldavis_el1548821181457116889283785675\", ldavis_el1548821181457116889283785675_data);\n",
       "   }(LDAvis);\n",
       "}else if(typeof define === \"function\" && define.amd){\n",
       "   // require.js is available: use it to load d3/LDAvis\n",
       "   require.config({paths: {d3: \"https://cdnjs.cloudflare.com/ajax/libs/d3/3.5.5/d3.min\"}});\n",
       "   require([\"d3\"], function(d3){\n",
       "      window.d3 = d3;\n",
       "      LDAvis_load_lib(\"https://cdn.rawgit.com/bmabey/pyLDAvis/files/ldavis.v1.0.0.js\", function(){\n",
       "        new LDAvis(\"#\" + \"ldavis_el1548821181457116889283785675\", ldavis_el1548821181457116889283785675_data);\n",
       "      });\n",
       "    });\n",
       "}else{\n",
       "    // require.js not available: dynamically load d3 & LDAvis\n",
       "    LDAvis_load_lib(\"https://cdnjs.cloudflare.com/ajax/libs/d3/3.5.5/d3.min.js\", function(){\n",
       "         LDAvis_load_lib(\"https://cdn.rawgit.com/bmabey/pyLDAvis/files/ldavis.v1.0.0.js\", function(){\n",
       "                 new LDAvis(\"#\" + \"ldavis_el1548821181457116889283785675\", ldavis_el1548821181457116889283785675_data);\n",
       "            })\n",
       "         });\n",
       "}\n",
       "</script>"
      ],
      "text/plain": [
       "PreparedData(topic_coordinates=              x         y  topics  cluster       Freq\n",
       "topic                                                \n",
       "1      0.136429 -0.115414       1        1  89.926224\n",
       "0     -0.136429  0.115414       2        1  10.073777, topic_info=            Term       Freq       Total Category  logprob  loglift\n",
       "207         city  91.000000   91.000000  Default  30.0000  30.0000\n",
       "447          see  89.000000   89.000000  Default  29.0000  29.0000\n",
       "1050         old  50.000000   50.000000  Default  28.0000  28.0000\n",
       "397         walk  44.000000   44.000000  Default  27.0000  27.0000\n",
       "2143    venetian  39.000000   39.000000  Default  26.0000  26.0000\n",
       "...          ...        ...         ...      ...      ...      ...\n",
       "530          use  11.212152   43.889809   Topic2  -5.0600   0.9306\n",
       "770         area  12.184261   56.528084   Topic2  -4.9769   0.7606\n",
       "1037  impressive   7.865012   36.874599   Topic2  -5.4146   0.7501\n",
       "190         take   8.226771   70.565018   Topic2  -5.3696   0.1461\n",
       "167         many   7.332210  100.692703   Topic2  -5.4847  -0.3246\n",
       "\n",
       "[113 rows x 6 columns], token_table=      Topic      Freq     Term\n",
       "term                          \n",
       "1         1  1.000217     also\n",
       "75        1  0.997551   always\n",
       "34        1  1.000672  amazing\n",
       "2085      1  0.127434  ancient\n",
       "2085      2  0.892035  ancient\n",
       "...     ...       ...      ...\n",
       "397       2  0.879436     walk\n",
       "108       1  0.997924     well\n",
       "108       2  0.006276     well\n",
       "310       1  0.978561    worth\n",
       "310       2  0.014605    worth\n",
       "\n",
       "[138 rows x 3 columns], R=30, lambda_step=0.01, plot_opts={'xlab': 'PC1', 'ylab': 'PC2'}, topic_order=[2, 1])"
      ]
     },
     "metadata": {},
     "output_type": "display_data"
    }
   ],
   "source": [
    "plot_model(tuned_pos_2, plot ='topic_model')"
   ]
  },
  {
   "cell_type": "markdown",
   "metadata": {},
   "source": [
    "# Negative reviews"
   ]
  },
  {
   "cell_type": "code",
   "execution_count": 15,
   "metadata": {},
   "outputs": [
    {
     "data": {
      "text/html": [
       "<div>\n",
       "<style scoped>\n",
       "    .dataframe tbody tr th:only-of-type {\n",
       "        vertical-align: middle;\n",
       "    }\n",
       "\n",
       "    .dataframe tbody tr th {\n",
       "        vertical-align: top;\n",
       "    }\n",
       "\n",
       "    .dataframe thead th {\n",
       "        text-align: right;\n",
       "    }\n",
       "</style>\n",
       "<table border=\"1\" class=\"dataframe\">\n",
       "  <thead>\n",
       "    <tr style=\"text-align: right;\">\n",
       "      <th></th>\n",
       "      <th>Unnamed: 0</th>\n",
       "      <th>r_points</th>\n",
       "      <th>r_text</th>\n",
       "      <th>place</th>\n",
       "      <th>Unnamed: 3</th>\n",
       "      <th>Unnamed: 4</th>\n",
       "      <th>scores</th>\n",
       "      <th>compound</th>\n",
       "      <th>score</th>\n",
       "    </tr>\n",
       "  </thead>\n",
       "  <tbody>\n",
       "    <tr>\n",
       "      <th>0</th>\n",
       "      <td>16</td>\n",
       "      <td>30</td>\n",
       "      <td>No,I was not impressed at all. Nothing special...</td>\n",
       "      <td>Artisan's Burgerbar</td>\n",
       "      <td>Review 236 Similarity</td>\n",
       "      <td>0.500000</td>\n",
       "      <td>{'neg': 0.181, 'neu': 0.744, 'pos': 0.074, 'co...</td>\n",
       "      <td>-0.4888</td>\n",
       "      <td>neg</td>\n",
       "    </tr>\n",
       "    <tr>\n",
       "      <th>1</th>\n",
       "      <td>32</td>\n",
       "      <td>30</td>\n",
       "      <td>Maybe we were unlucky - twice.Make no mistake ...</td>\n",
       "      <td>Artisan's Burgerbar</td>\n",
       "      <td>Review 267 Similarity</td>\n",
       "      <td>0.466667</td>\n",
       "      <td>{'neg': 0.08, 'neu': 0.882, 'pos': 0.038, 'com...</td>\n",
       "      <td>-0.6800</td>\n",
       "      <td>neg</td>\n",
       "    </tr>\n",
       "    <tr>\n",
       "      <th>2</th>\n",
       "      <td>40</td>\n",
       "      <td>30</td>\n",
       "      <td>I ve been many times but last time I got disap...</td>\n",
       "      <td>Artisan's Burgerbar</td>\n",
       "      <td>Review 30 Similarity</td>\n",
       "      <td>0.447214</td>\n",
       "      <td>{'neg': 0.136, 'neu': 0.76, 'pos': 0.104, 'com...</td>\n",
       "      <td>-0.3167</td>\n",
       "      <td>neg</td>\n",
       "    </tr>\n",
       "    <tr>\n",
       "      <th>3</th>\n",
       "      <td>63</td>\n",
       "      <td>20</td>\n",
       "      <td>Wrong cooking of the burger Salty salad medium...</td>\n",
       "      <td>Artisan's Burgerbar</td>\n",
       "      <td>Review 2 Similarity</td>\n",
       "      <td>0.408248</td>\n",
       "      <td>{'neg': 0.18, 'neu': 0.776, 'pos': 0.044, 'com...</td>\n",
       "      <td>-0.7552</td>\n",
       "      <td>neg</td>\n",
       "    </tr>\n",
       "    <tr>\n",
       "      <th>4</th>\n",
       "      <td>72</td>\n",
       "      <td>20</td>\n",
       "      <td>Good concept, but adjusted (as everything else...</td>\n",
       "      <td>Artisan's Burgerbar</td>\n",
       "      <td>Review 338 Similarity</td>\n",
       "      <td>0.408248</td>\n",
       "      <td>{'neg': 0.166, 'neu': 0.681, 'pos': 0.153, 'co...</td>\n",
       "      <td>-0.4005</td>\n",
       "      <td>neg</td>\n",
       "    </tr>\n",
       "    <tr>\n",
       "      <th>5</th>\n",
       "      <td>98</td>\n",
       "      <td>20</td>\n",
       "      <td>I visited this place with my wife and kids, an...</td>\n",
       "      <td>Artisan's Burgerbar</td>\n",
       "      <td>Review 73 Similarity</td>\n",
       "      <td>0.377964</td>\n",
       "      <td>{'neg': 0.125, 'neu': 0.85, 'pos': 0.025, 'com...</td>\n",
       "      <td>-0.9069</td>\n",
       "      <td>neg</td>\n",
       "    </tr>\n",
       "    <tr>\n",
       "      <th>6</th>\n",
       "      <td>113</td>\n",
       "      <td>10</td>\n",
       "      <td>Service was fine, but as for the quality of th...</td>\n",
       "      <td>Artisan's Burgerbar</td>\n",
       "      <td>Review 139 Similarity</td>\n",
       "      <td>0.356034</td>\n",
       "      <td>{'neg': 0.151, 'neu': 0.76, 'pos': 0.089, 'com...</td>\n",
       "      <td>-0.9174</td>\n",
       "      <td>neg</td>\n",
       "    </tr>\n",
       "    <tr>\n",
       "      <th>7</th>\n",
       "      <td>128</td>\n",
       "      <td>20</td>\n",
       "      <td>I visited about a month ago with friends. Noth...</td>\n",
       "      <td>Artisan's Burgerbar</td>\n",
       "      <td>Review 89 Similarity</td>\n",
       "      <td>0.333333</td>\n",
       "      <td>{'neg': 0.176, 'neu': 0.722, 'pos': 0.102, 'co...</td>\n",
       "      <td>-0.3089</td>\n",
       "      <td>neg</td>\n",
       "    </tr>\n",
       "    <tr>\n",
       "      <th>8</th>\n",
       "      <td>129</td>\n",
       "      <td>30</td>\n",
       "      <td>I don't really like burgers that much, but I w...</td>\n",
       "      <td>Artisan's Burgerbar</td>\n",
       "      <td>Review 93 Similarity</td>\n",
       "      <td>0.333333</td>\n",
       "      <td>{'neg': 0.478, 'neu': 0.522, 'pos': 0.0, 'comp...</td>\n",
       "      <td>-0.9154</td>\n",
       "      <td>neg</td>\n",
       "    </tr>\n",
       "    <tr>\n",
       "      <th>9</th>\n",
       "      <td>166</td>\n",
       "      <td>40</td>\n",
       "      <td>very good burgers but no kectup They have othe...</td>\n",
       "      <td>Artisan's Burgerbar</td>\n",
       "      <td>Review 103 Similarity</td>\n",
       "      <td>0.272166</td>\n",
       "      <td>{'neg': 0.185, 'neu': 0.69, 'pos': 0.125, 'com...</td>\n",
       "      <td>-0.4171</td>\n",
       "      <td>neg</td>\n",
       "    </tr>\n",
       "    <tr>\n",
       "      <th>10</th>\n",
       "      <td>188</td>\n",
       "      <td>30</td>\n",
       "      <td>not really that good. Quite expensive for what...</td>\n",
       "      <td>Artisan's Burgerbar</td>\n",
       "      <td>Review 4 Similarity</td>\n",
       "      <td>0.235702</td>\n",
       "      <td>{'neg': 0.187, 'neu': 0.748, 'pos': 0.065, 'co...</td>\n",
       "      <td>-0.6000</td>\n",
       "      <td>neg</td>\n",
       "    </tr>\n",
       "    <tr>\n",
       "      <th>11</th>\n",
       "      <td>204</td>\n",
       "      <td>40</td>\n",
       "      <td>They serve tasty burgers. Although i would pre...</td>\n",
       "      <td>Artisan's Burgerbar</td>\n",
       "      <td>Review 249 Similarity</td>\n",
       "      <td>0.235702</td>\n",
       "      <td>{'neg': 0.099, 'neu': 0.901, 'pos': 0.0, 'comp...</td>\n",
       "      <td>-0.2960</td>\n",
       "      <td>neg</td>\n",
       "    </tr>\n",
       "    <tr>\n",
       "      <th>12</th>\n",
       "      <td>239</td>\n",
       "      <td>10</td>\n",
       "      <td>terrible food. Order burger with mashroom and ...</td>\n",
       "      <td>Artisan's Burgerbar</td>\n",
       "      <td>Review 160 Similarity</td>\n",
       "      <td>0.149071</td>\n",
       "      <td>{'neg': 0.305, 'neu': 0.618, 'pos': 0.076, 'co...</td>\n",
       "      <td>-0.7430</td>\n",
       "      <td>neg</td>\n",
       "    </tr>\n",
       "    <tr>\n",
       "      <th>13</th>\n",
       "      <td>243</td>\n",
       "      <td>20</td>\n",
       "      <td>As you can see from my previous review I was v...</td>\n",
       "      <td>Artisan's Burgerbar</td>\n",
       "      <td>Review 76 Similarity</td>\n",
       "      <td>0.145479</td>\n",
       "      <td>{'neg': 0.075, 'neu': 0.848, 'pos': 0.078, 'co...</td>\n",
       "      <td>-0.2031</td>\n",
       "      <td>neg</td>\n",
       "    </tr>\n",
       "    <tr>\n",
       "      <th>14</th>\n",
       "      <td>269</td>\n",
       "      <td>50</td>\n",
       "      <td>If you are thinking of a burger and are in Nic...</td>\n",
       "      <td>Artisan's Burgerbar</td>\n",
       "      <td>Review 283 Similarity</td>\n",
       "      <td>0.096225</td>\n",
       "      <td>{'neg': 0.076, 'neu': 0.877, 'pos': 0.047, 'co...</td>\n",
       "      <td>-0.2960</td>\n",
       "      <td>neg</td>\n",
       "    </tr>\n",
       "    <tr>\n",
       "      <th>15</th>\n",
       "      <td>276</td>\n",
       "      <td>40</td>\n",
       "      <td>I ordered the fried chicken sandwich. The chic...</td>\n",
       "      <td>Artisan's Burgerbar</td>\n",
       "      <td>Review 3 Similarity</td>\n",
       "      <td>0.000000</td>\n",
       "      <td>{'neg': 0.109, 'neu': 0.758, 'pos': 0.133, 'co...</td>\n",
       "      <td>-0.0516</td>\n",
       "      <td>neg</td>\n",
       "    </tr>\n",
       "    <tr>\n",
       "      <th>16</th>\n",
       "      <td>291</td>\n",
       "      <td>20</td>\n",
       "      <td>Seriously you have to be kidding me! Do I need...</td>\n",
       "      <td>Artisan's Burgerbar</td>\n",
       "      <td>Review 306 Similarity</td>\n",
       "      <td>0.000000</td>\n",
       "      <td>{'neg': 0.151, 'neu': 0.83, 'pos': 0.018, 'com...</td>\n",
       "      <td>-0.8773</td>\n",
       "      <td>neg</td>\n",
       "    </tr>\n",
       "    <tr>\n",
       "      <th>17</th>\n",
       "      <td>310</td>\n",
       "      <td>10</td>\n",
       "      <td>Very bad tasting food. We ordered corn soup, n...</td>\n",
       "      <td>China Spice</td>\n",
       "      <td>NaN</td>\n",
       "      <td>NaN</td>\n",
       "      <td>{'neg': 0.301, 'neu': 0.699, 'pos': 0.0, 'comp...</td>\n",
       "      <td>-0.8221</td>\n",
       "      <td>neg</td>\n",
       "    </tr>\n",
       "    <tr>\n",
       "      <th>18</th>\n",
       "      <td>317</td>\n",
       "      <td>10</td>\n",
       "      <td>Service was good. Food was dry with an intense...</td>\n",
       "      <td>China Spice</td>\n",
       "      <td>NaN</td>\n",
       "      <td>NaN</td>\n",
       "      <td>{'neg': 0.136, 'neu': 0.7, 'pos': 0.163, 'comp...</td>\n",
       "      <td>-0.0772</td>\n",
       "      <td>neg</td>\n",
       "    </tr>\n",
       "    <tr>\n",
       "      <th>19</th>\n",
       "      <td>319</td>\n",
       "      <td>20</td>\n",
       "      <td>I must say that it is a shame to have a big re...</td>\n",
       "      <td>China Spice</td>\n",
       "      <td>NaN</td>\n",
       "      <td>NaN</td>\n",
       "      <td>{'neg': 0.134, 'neu': 0.798, 'pos': 0.069, 'co...</td>\n",
       "      <td>-0.8062</td>\n",
       "      <td>neg</td>\n",
       "    </tr>\n",
       "    <tr>\n",
       "      <th>20</th>\n",
       "      <td>344</td>\n",
       "      <td>10</td>\n",
       "      <td>I ordered for delivery noodles with 3 kind of ...</td>\n",
       "      <td>China Spice</td>\n",
       "      <td>NaN</td>\n",
       "      <td>NaN</td>\n",
       "      <td>{'neg': 0.085, 'neu': 0.915, 'pos': 0.0, 'comp...</td>\n",
       "      <td>-0.6458</td>\n",
       "      <td>neg</td>\n",
       "    </tr>\n",
       "    <tr>\n",
       "      <th>21</th>\n",
       "      <td>369</td>\n",
       "      <td>20</td>\n",
       "      <td>Been there in the past for a dinner with my wi...</td>\n",
       "      <td>China Spice</td>\n",
       "      <td>NaN</td>\n",
       "      <td>NaN</td>\n",
       "      <td>{'neg': 0.124, 'neu': 0.809, 'pos': 0.067, 'co...</td>\n",
       "      <td>-0.8356</td>\n",
       "      <td>neg</td>\n",
       "    </tr>\n",
       "    <tr>\n",
       "      <th>22</th>\n",
       "      <td>373</td>\n",
       "      <td>20</td>\n",
       "      <td>this was our choice to hang out with family in...</td>\n",
       "      <td>China Spice</td>\n",
       "      <td>NaN</td>\n",
       "      <td>NaN</td>\n",
       "      <td>{'neg': 0.127, 'neu': 0.856, 'pos': 0.017, 'co...</td>\n",
       "      <td>-0.8775</td>\n",
       "      <td>neg</td>\n",
       "    </tr>\n",
       "    <tr>\n",
       "      <th>23</th>\n",
       "      <td>379</td>\n",
       "      <td>30</td>\n",
       "      <td>I went there with a friend. They already had t...</td>\n",
       "      <td>China Spice</td>\n",
       "      <td>NaN</td>\n",
       "      <td>NaN</td>\n",
       "      <td>{'neg': 0.134, 'neu': 0.772, 'pos': 0.095, 'co...</td>\n",
       "      <td>-0.3182</td>\n",
       "      <td>neg</td>\n",
       "    </tr>\n",
       "    <tr>\n",
       "      <th>24</th>\n",
       "      <td>381</td>\n",
       "      <td>30</td>\n",
       "      <td>Nicosia does not have many chinese restaurants...</td>\n",
       "      <td>China Spice</td>\n",
       "      <td>NaN</td>\n",
       "      <td>NaN</td>\n",
       "      <td>{'neg': 0.082, 'neu': 0.884, 'pos': 0.034, 'co...</td>\n",
       "      <td>-0.5844</td>\n",
       "      <td>neg</td>\n",
       "    </tr>\n",
       "    <tr>\n",
       "      <th>25</th>\n",
       "      <td>398</td>\n",
       "      <td>10</td>\n",
       "      <td>I am used ti very tasty and cheap Chinese rest...</td>\n",
       "      <td>East Asian Restaurant</td>\n",
       "      <td>NaN</td>\n",
       "      <td>NaN</td>\n",
       "      <td>{'neg': 0.145, 'neu': 0.753, 'pos': 0.102, 'co...</td>\n",
       "      <td>-0.6368</td>\n",
       "      <td>neg</td>\n",
       "    </tr>\n",
       "    <tr>\n",
       "      <th>26</th>\n",
       "      <td>404</td>\n",
       "      <td>10</td>\n",
       "      <td>First time visited this restaurant with family...</td>\n",
       "      <td>East Asian Restaurant</td>\n",
       "      <td>NaN</td>\n",
       "      <td>NaN</td>\n",
       "      <td>{'neg': 0.19, 'neu': 0.737, 'pos': 0.073, 'com...</td>\n",
       "      <td>-0.9137</td>\n",
       "      <td>neg</td>\n",
       "    </tr>\n",
       "    <tr>\n",
       "      <th>27</th>\n",
       "      <td>428</td>\n",
       "      <td>10</td>\n",
       "      <td>Never had dinner in but ordered delivery. The ...</td>\n",
       "      <td>East Asian Restaurant</td>\n",
       "      <td>NaN</td>\n",
       "      <td>NaN</td>\n",
       "      <td>{'neg': 0.157, 'neu': 0.778, 'pos': 0.065, 'co...</td>\n",
       "      <td>-0.5610</td>\n",
       "      <td>neg</td>\n",
       "    </tr>\n",
       "    <tr>\n",
       "      <th>28</th>\n",
       "      <td>490</td>\n",
       "      <td>30</td>\n",
       "      <td>We went with some friends on a Saturday night,...</td>\n",
       "      <td>Sawa Syrian Restaurant</td>\n",
       "      <td>Review 189 Similarity</td>\n",
       "      <td>0.424264</td>\n",
       "      <td>{'neg': 0.133, 'neu': 0.727, 'pos': 0.14, 'com...</td>\n",
       "      <td>-0.0712</td>\n",
       "      <td>neg</td>\n",
       "    </tr>\n",
       "    <tr>\n",
       "      <th>29</th>\n",
       "      <td>515</td>\n",
       "      <td>30</td>\n",
       "      <td>It took us over 40 minutes to even get a drink...</td>\n",
       "      <td>Sawa Syrian Restaurant</td>\n",
       "      <td>Review 226 Similarity</td>\n",
       "      <td>0.365148</td>\n",
       "      <td>{'neg': 0.042, 'neu': 0.928, 'pos': 0.03, 'com...</td>\n",
       "      <td>-0.0516</td>\n",
       "      <td>neg</td>\n",
       "    </tr>\n",
       "    <tr>\n",
       "      <th>30</th>\n",
       "      <td>526</td>\n",
       "      <td>50</td>\n",
       "      <td>We liked the building, the decoration, the men...</td>\n",
       "      <td>Sawa Syrian Restaurant</td>\n",
       "      <td>Review 59 Similarity</td>\n",
       "      <td>0.335410</td>\n",
       "      <td>{'neg': 0.076, 'neu': 0.845, 'pos': 0.08, 'com...</td>\n",
       "      <td>-0.1530</td>\n",
       "      <td>neg</td>\n",
       "    </tr>\n",
       "    <tr>\n",
       "      <th>31</th>\n",
       "      <td>541</td>\n",
       "      <td>20</td>\n",
       "      <td>i didnt like the food. i was waiting something...</td>\n",
       "      <td>Sawa Syrian Restaurant</td>\n",
       "      <td>Review 213 Similarity</td>\n",
       "      <td>0.316228</td>\n",
       "      <td>{'neg': 0.232, 'neu': 0.768, 'pos': 0.0, 'comp...</td>\n",
       "      <td>-0.2755</td>\n",
       "      <td>neg</td>\n",
       "    </tr>\n",
       "    <tr>\n",
       "      <th>32</th>\n",
       "      <td>552</td>\n",
       "      <td>30</td>\n",
       "      <td>As a local i would rate this place as average....</td>\n",
       "      <td>Sawa Syrian Restaurant</td>\n",
       "      <td>Review 223 Similarity</td>\n",
       "      <td>0.282843</td>\n",
       "      <td>{'neg': 0.207, 'neu': 0.686, 'pos': 0.106, 'co...</td>\n",
       "      <td>-0.6883</td>\n",
       "      <td>neg</td>\n",
       "    </tr>\n",
       "    <tr>\n",
       "      <th>33</th>\n",
       "      <td>570</td>\n",
       "      <td>10</td>\n",
       "      <td>Unkind stuff , rude who don't respect clients ...</td>\n",
       "      <td>Sawa Syrian Restaurant</td>\n",
       "      <td>Review 118 Similarity</td>\n",
       "      <td>0.223607</td>\n",
       "      <td>{'neg': 0.158, 'neu': 0.842, 'pos': 0.0, 'comp...</td>\n",
       "      <td>-0.8383</td>\n",
       "      <td>neg</td>\n",
       "    </tr>\n",
       "    <tr>\n",
       "      <th>34</th>\n",
       "      <td>576</td>\n",
       "      <td>50</td>\n",
       "      <td>Al Sawa is the place that you must visit. The ...</td>\n",
       "      <td>Sawa Syrian Restaurant</td>\n",
       "      <td>Review 67 Similarity</td>\n",
       "      <td>0.210819</td>\n",
       "      <td>{'neg': 0.024, 'neu': 0.952, 'pos': 0.024, 'co...</td>\n",
       "      <td>-0.0044</td>\n",
       "      <td>neg</td>\n",
       "    </tr>\n",
       "    <tr>\n",
       "      <th>35</th>\n",
       "      <td>629</td>\n",
       "      <td>30</td>\n",
       "      <td>with minor knowledge of the local greek langua...</td>\n",
       "      <td>Sawa Syrian Restaurant</td>\n",
       "      <td>Review 9 Similarity</td>\n",
       "      <td>0.000000</td>\n",
       "      <td>{'neg': 0.106, 'neu': 0.86, 'pos': 0.035, 'com...</td>\n",
       "      <td>-0.7524</td>\n",
       "      <td>neg</td>\n",
       "    </tr>\n",
       "    <tr>\n",
       "      <th>36</th>\n",
       "      <td>633</td>\n",
       "      <td>30</td>\n",
       "      <td>We have been going back for a few years, but w...</td>\n",
       "      <td>Sawa Syrian Restaurant</td>\n",
       "      <td>Review 90 Similarity</td>\n",
       "      <td>0.000000</td>\n",
       "      <td>{'neg': 0.085, 'neu': 0.877, 'pos': 0.039, 'co...</td>\n",
       "      <td>-0.4145</td>\n",
       "      <td>neg</td>\n",
       "    </tr>\n",
       "    <tr>\n",
       "      <th>37</th>\n",
       "      <td>636</td>\n",
       "      <td>30</td>\n",
       "      <td>I would say it was simply fine. Not thrilled n...</td>\n",
       "      <td>Sawa Syrian Restaurant</td>\n",
       "      <td>Review 212 Similarity</td>\n",
       "      <td>0.000000</td>\n",
       "      <td>{'neg': 0.156, 'neu': 0.793, 'pos': 0.051, 'co...</td>\n",
       "      <td>-0.5745</td>\n",
       "      <td>neg</td>\n",
       "    </tr>\n",
       "    <tr>\n",
       "      <th>38</th>\n",
       "      <td>640</td>\n",
       "      <td>30</td>\n",
       "      <td>You can walk not quite near it because most of...</td>\n",
       "      <td>Venetian Wall of Nicosia</td>\n",
       "      <td>NaN</td>\n",
       "      <td>NaN</td>\n",
       "      <td>{'neg': 0.07, 'neu': 0.871, 'pos': 0.059, 'com...</td>\n",
       "      <td>-0.2112</td>\n",
       "      <td>neg</td>\n",
       "    </tr>\n",
       "    <tr>\n",
       "      <th>39</th>\n",
       "      <td>650</td>\n",
       "      <td>20</td>\n",
       "      <td>Nicosia is suffering from incompetent municipa...</td>\n",
       "      <td>Venetian Wall of Nicosia</td>\n",
       "      <td>NaN</td>\n",
       "      <td>NaN</td>\n",
       "      <td>{'neg': 0.158, 'neu': 0.842, 'pos': 0.0, 'comp...</td>\n",
       "      <td>-0.7351</td>\n",
       "      <td>neg</td>\n",
       "    </tr>\n",
       "    <tr>\n",
       "      <th>40</th>\n",
       "      <td>653</td>\n",
       "      <td>40</td>\n",
       "      <td>Most of the citizens still dont know how amazi...</td>\n",
       "      <td>Venetian Wall of Nicosia</td>\n",
       "      <td>NaN</td>\n",
       "      <td>NaN</td>\n",
       "      <td>{'neg': 0.113, 'neu': 0.807, 'pos': 0.08, 'com...</td>\n",
       "      <td>-0.0719</td>\n",
       "      <td>neg</td>\n",
       "    </tr>\n",
       "    <tr>\n",
       "      <th>41</th>\n",
       "      <td>663</td>\n",
       "      <td>30</td>\n",
       "      <td>I think the historic Venetian walls was not as...</td>\n",
       "      <td>Venetian Wall of Nicosia</td>\n",
       "      <td>NaN</td>\n",
       "      <td>NaN</td>\n",
       "      <td>{'neg': 0.116, 'neu': 0.864, 'pos': 0.02, 'com...</td>\n",
       "      <td>-0.8558</td>\n",
       "      <td>neg</td>\n",
       "    </tr>\n",
       "    <tr>\n",
       "      <th>42</th>\n",
       "      <td>664</td>\n",
       "      <td>30</td>\n",
       "      <td>This walls are a testament of the Venetian occ...</td>\n",
       "      <td>Venetian Wall of Nicosia</td>\n",
       "      <td>NaN</td>\n",
       "      <td>NaN</td>\n",
       "      <td>{'neg': 0.057, 'neu': 0.888, 'pos': 0.055, 'co...</td>\n",
       "      <td>-0.0258</td>\n",
       "      <td>neg</td>\n",
       "    </tr>\n",
       "    <tr>\n",
       "      <th>43</th>\n",
       "      <td>672</td>\n",
       "      <td>20</td>\n",
       "      <td>the walls are long and nice. But we could not ...</td>\n",
       "      <td>Venetian Wall of Nicosia</td>\n",
       "      <td>NaN</td>\n",
       "      <td>NaN</td>\n",
       "      <td>{'neg': 0.278, 'neu': 0.701, 'pos': 0.021, 'co...</td>\n",
       "      <td>-0.9773</td>\n",
       "      <td>neg</td>\n",
       "    </tr>\n",
       "    <tr>\n",
       "      <th>44</th>\n",
       "      <td>680</td>\n",
       "      <td>30</td>\n",
       "      <td>Big walls for a walk around the city. Not good...</td>\n",
       "      <td>Venetian Wall of Nicosia</td>\n",
       "      <td>NaN</td>\n",
       "      <td>NaN</td>\n",
       "      <td>{'neg': 0.163, 'neu': 0.745, 'pos': 0.092, 'co...</td>\n",
       "      <td>-0.1546</td>\n",
       "      <td>neg</td>\n",
       "    </tr>\n",
       "    <tr>\n",
       "      <th>45</th>\n",
       "      <td>710</td>\n",
       "      <td>30</td>\n",
       "      <td>Well restored and looking very neat. Quite ext...</td>\n",
       "      <td>Venetian Wall of Nicosia</td>\n",
       "      <td>NaN</td>\n",
       "      <td>NaN</td>\n",
       "      <td>{'neg': 0.202, 'neu': 0.562, 'pos': 0.236, 'co...</td>\n",
       "      <td>-0.1706</td>\n",
       "      <td>neg</td>\n",
       "    </tr>\n",
       "    <tr>\n",
       "      <th>46</th>\n",
       "      <td>712</td>\n",
       "      <td>40</td>\n",
       "      <td>It is a location that was inaccessible some ye...</td>\n",
       "      <td>Venetian Wall of Nicosia</td>\n",
       "      <td>NaN</td>\n",
       "      <td>NaN</td>\n",
       "      <td>{'neg': 0.045, 'neu': 0.955, 'pos': 0.0, 'comp...</td>\n",
       "      <td>-0.2960</td>\n",
       "      <td>neg</td>\n",
       "    </tr>\n",
       "    <tr>\n",
       "      <th>47</th>\n",
       "      <td>724</td>\n",
       "      <td>20</td>\n",
       "      <td>You even pass the walls without seeing them wh...</td>\n",
       "      <td>Venetian Wall of Nicosia</td>\n",
       "      <td>NaN</td>\n",
       "      <td>NaN</td>\n",
       "      <td>{'neg': 0.169, 'neu': 0.831, 'pos': 0.0, 'comp...</td>\n",
       "      <td>-0.8479</td>\n",
       "      <td>neg</td>\n",
       "    </tr>\n",
       "    <tr>\n",
       "      <th>48</th>\n",
       "      <td>731</td>\n",
       "      <td>40</td>\n",
       "      <td>The walls are sorounding the old Nicosia city ...</td>\n",
       "      <td>Venetian Wall of Nicosia</td>\n",
       "      <td>NaN</td>\n",
       "      <td>NaN</td>\n",
       "      <td>{'neg': 0.059, 'neu': 0.941, 'pos': 0.0, 'comp...</td>\n",
       "      <td>-0.3400</td>\n",
       "      <td>neg</td>\n",
       "    </tr>\n",
       "    <tr>\n",
       "      <th>49</th>\n",
       "      <td>748</td>\n",
       "      <td>30</td>\n",
       "      <td>The walls are seriously impressive but feel a ...</td>\n",
       "      <td>Venetian Wall of Nicosia</td>\n",
       "      <td>NaN</td>\n",
       "      <td>NaN</td>\n",
       "      <td>{'neg': 0.152, 'neu': 0.769, 'pos': 0.079, 'co...</td>\n",
       "      <td>-0.2500</td>\n",
       "      <td>neg</td>\n",
       "    </tr>\n",
       "    <tr>\n",
       "      <th>50</th>\n",
       "      <td>749</td>\n",
       "      <td>30</td>\n",
       "      <td>The walls of Nicosia are amazing, having been ...</td>\n",
       "      <td>Venetian Wall of Nicosia</td>\n",
       "      <td>NaN</td>\n",
       "      <td>NaN</td>\n",
       "      <td>{'neg': 0.109, 'neu': 0.806, 'pos': 0.085, 'co...</td>\n",
       "      <td>-0.2718</td>\n",
       "      <td>neg</td>\n",
       "    </tr>\n",
       "    <tr>\n",
       "      <th>51</th>\n",
       "      <td>768</td>\n",
       "      <td>30</td>\n",
       "      <td>I have been visiting this old city for years a...</td>\n",
       "      <td>Venetian Wall of Nicosia</td>\n",
       "      <td>NaN</td>\n",
       "      <td>NaN</td>\n",
       "      <td>{'neg': 0.148, 'neu': 0.783, 'pos': 0.069, 'co...</td>\n",
       "      <td>-0.6310</td>\n",
       "      <td>neg</td>\n",
       "    </tr>\n",
       "    <tr>\n",
       "      <th>52</th>\n",
       "      <td>773</td>\n",
       "      <td>30</td>\n",
       "      <td>the wall kind of separates the old town from t...</td>\n",
       "      <td>Venetian Wall of Nicosia</td>\n",
       "      <td>NaN</td>\n",
       "      <td>NaN</td>\n",
       "      <td>{'neg': 0.075, 'neu': 0.925, 'pos': 0.0, 'comp...</td>\n",
       "      <td>-0.4767</td>\n",
       "      <td>neg</td>\n",
       "    </tr>\n",
       "    <tr>\n",
       "      <th>53</th>\n",
       "      <td>789</td>\n",
       "      <td>10</td>\n",
       "      <td>Like most things in Nicosia, the Venetian wall...</td>\n",
       "      <td>Venetian Wall of Nicosia</td>\n",
       "      <td>NaN</td>\n",
       "      <td>NaN</td>\n",
       "      <td>{'neg': 0.161, 'neu': 0.682, 'pos': 0.157, 'co...</td>\n",
       "      <td>-0.1027</td>\n",
       "      <td>neg</td>\n",
       "    </tr>\n",
       "    <tr>\n",
       "      <th>54</th>\n",
       "      <td>797</td>\n",
       "      <td>20</td>\n",
       "      <td>The Venetian walls should be a major feature o...</td>\n",
       "      <td>Venetian Wall of Nicosia</td>\n",
       "      <td>NaN</td>\n",
       "      <td>NaN</td>\n",
       "      <td>{'neg': 0.115, 'neu': 0.763, 'pos': 0.122, 'co...</td>\n",
       "      <td>-0.1531</td>\n",
       "      <td>neg</td>\n",
       "    </tr>\n",
       "    <tr>\n",
       "      <th>55</th>\n",
       "      <td>803</td>\n",
       "      <td>30</td>\n",
       "      <td>Interesting but not much to see. Unfortunately...</td>\n",
       "      <td>Venetian Wall of Nicosia</td>\n",
       "      <td>NaN</td>\n",
       "      <td>NaN</td>\n",
       "      <td>{'neg': 0.148, 'neu': 0.764, 'pos': 0.088, 'co...</td>\n",
       "      <td>-0.3071</td>\n",
       "      <td>neg</td>\n",
       "    </tr>\n",
       "  </tbody>\n",
       "</table>\n",
       "</div>"
      ],
      "text/plain": [
       "    Unnamed: 0  r_points                                             r_text  \\\n",
       "0           16        30  No,I was not impressed at all. Nothing special...   \n",
       "1           32        30  Maybe we were unlucky - twice.Make no mistake ...   \n",
       "2           40        30  I ve been many times but last time I got disap...   \n",
       "3           63        20  Wrong cooking of the burger Salty salad medium...   \n",
       "4           72        20  Good concept, but adjusted (as everything else...   \n",
       "5           98        20  I visited this place with my wife and kids, an...   \n",
       "6          113        10  Service was fine, but as for the quality of th...   \n",
       "7          128        20  I visited about a month ago with friends. Noth...   \n",
       "8          129        30  I don't really like burgers that much, but I w...   \n",
       "9          166        40  very good burgers but no kectup They have othe...   \n",
       "10         188        30  not really that good. Quite expensive for what...   \n",
       "11         204        40  They serve tasty burgers. Although i would pre...   \n",
       "12         239        10  terrible food. Order burger with mashroom and ...   \n",
       "13         243        20  As you can see from my previous review I was v...   \n",
       "14         269        50  If you are thinking of a burger and are in Nic...   \n",
       "15         276        40  I ordered the fried chicken sandwich. The chic...   \n",
       "16         291        20  Seriously you have to be kidding me! Do I need...   \n",
       "17         310        10  Very bad tasting food. We ordered corn soup, n...   \n",
       "18         317        10  Service was good. Food was dry with an intense...   \n",
       "19         319        20  I must say that it is a shame to have a big re...   \n",
       "20         344        10  I ordered for delivery noodles with 3 kind of ...   \n",
       "21         369        20  Been there in the past for a dinner with my wi...   \n",
       "22         373        20  this was our choice to hang out with family in...   \n",
       "23         379        30  I went there with a friend. They already had t...   \n",
       "24         381        30  Nicosia does not have many chinese restaurants...   \n",
       "25         398        10  I am used ti very tasty and cheap Chinese rest...   \n",
       "26         404        10  First time visited this restaurant with family...   \n",
       "27         428        10  Never had dinner in but ordered delivery. The ...   \n",
       "28         490        30  We went with some friends on a Saturday night,...   \n",
       "29         515        30  It took us over 40 minutes to even get a drink...   \n",
       "30         526        50  We liked the building, the decoration, the men...   \n",
       "31         541        20  i didnt like the food. i was waiting something...   \n",
       "32         552        30  As a local i would rate this place as average....   \n",
       "33         570        10  Unkind stuff , rude who don't respect clients ...   \n",
       "34         576        50  Al Sawa is the place that you must visit. The ...   \n",
       "35         629        30  with minor knowledge of the local greek langua...   \n",
       "36         633        30  We have been going back for a few years, but w...   \n",
       "37         636        30  I would say it was simply fine. Not thrilled n...   \n",
       "38         640        30  You can walk not quite near it because most of...   \n",
       "39         650        20  Nicosia is suffering from incompetent municipa...   \n",
       "40         653        40  Most of the citizens still dont know how amazi...   \n",
       "41         663        30  I think the historic Venetian walls was not as...   \n",
       "42         664        30  This walls are a testament of the Venetian occ...   \n",
       "43         672        20  the walls are long and nice. But we could not ...   \n",
       "44         680        30  Big walls for a walk around the city. Not good...   \n",
       "45         710        30  Well restored and looking very neat. Quite ext...   \n",
       "46         712        40  It is a location that was inaccessible some ye...   \n",
       "47         724        20  You even pass the walls without seeing them wh...   \n",
       "48         731        40  The walls are sorounding the old Nicosia city ...   \n",
       "49         748        30  The walls are seriously impressive but feel a ...   \n",
       "50         749        30  The walls of Nicosia are amazing, having been ...   \n",
       "51         768        30  I have been visiting this old city for years a...   \n",
       "52         773        30  the wall kind of separates the old town from t...   \n",
       "53         789        10  Like most things in Nicosia, the Venetian wall...   \n",
       "54         797        20  The Venetian walls should be a major feature o...   \n",
       "55         803        30  Interesting but not much to see. Unfortunately...   \n",
       "\n",
       "                       place             Unnamed: 3  Unnamed: 4  \\\n",
       "0        Artisan's Burgerbar  Review 236 Similarity    0.500000   \n",
       "1        Artisan's Burgerbar  Review 267 Similarity    0.466667   \n",
       "2        Artisan's Burgerbar   Review 30 Similarity    0.447214   \n",
       "3        Artisan's Burgerbar    Review 2 Similarity    0.408248   \n",
       "4        Artisan's Burgerbar  Review 338 Similarity    0.408248   \n",
       "5        Artisan's Burgerbar   Review 73 Similarity    0.377964   \n",
       "6        Artisan's Burgerbar  Review 139 Similarity    0.356034   \n",
       "7        Artisan's Burgerbar   Review 89 Similarity    0.333333   \n",
       "8        Artisan's Burgerbar   Review 93 Similarity    0.333333   \n",
       "9        Artisan's Burgerbar  Review 103 Similarity    0.272166   \n",
       "10       Artisan's Burgerbar    Review 4 Similarity    0.235702   \n",
       "11       Artisan's Burgerbar  Review 249 Similarity    0.235702   \n",
       "12       Artisan's Burgerbar  Review 160 Similarity    0.149071   \n",
       "13       Artisan's Burgerbar   Review 76 Similarity    0.145479   \n",
       "14       Artisan's Burgerbar  Review 283 Similarity    0.096225   \n",
       "15       Artisan's Burgerbar    Review 3 Similarity    0.000000   \n",
       "16       Artisan's Burgerbar  Review 306 Similarity    0.000000   \n",
       "17               China Spice                    NaN         NaN   \n",
       "18               China Spice                    NaN         NaN   \n",
       "19               China Spice                    NaN         NaN   \n",
       "20               China Spice                    NaN         NaN   \n",
       "21               China Spice                    NaN         NaN   \n",
       "22               China Spice                    NaN         NaN   \n",
       "23               China Spice                    NaN         NaN   \n",
       "24               China Spice                    NaN         NaN   \n",
       "25     East Asian Restaurant                    NaN         NaN   \n",
       "26     East Asian Restaurant                    NaN         NaN   \n",
       "27     East Asian Restaurant                    NaN         NaN   \n",
       "28    Sawa Syrian Restaurant  Review 189 Similarity    0.424264   \n",
       "29    Sawa Syrian Restaurant  Review 226 Similarity    0.365148   \n",
       "30    Sawa Syrian Restaurant   Review 59 Similarity    0.335410   \n",
       "31    Sawa Syrian Restaurant  Review 213 Similarity    0.316228   \n",
       "32    Sawa Syrian Restaurant  Review 223 Similarity    0.282843   \n",
       "33    Sawa Syrian Restaurant  Review 118 Similarity    0.223607   \n",
       "34    Sawa Syrian Restaurant   Review 67 Similarity    0.210819   \n",
       "35    Sawa Syrian Restaurant    Review 9 Similarity    0.000000   \n",
       "36    Sawa Syrian Restaurant   Review 90 Similarity    0.000000   \n",
       "37    Sawa Syrian Restaurant  Review 212 Similarity    0.000000   \n",
       "38  Venetian Wall of Nicosia                    NaN         NaN   \n",
       "39  Venetian Wall of Nicosia                    NaN         NaN   \n",
       "40  Venetian Wall of Nicosia                    NaN         NaN   \n",
       "41  Venetian Wall of Nicosia                    NaN         NaN   \n",
       "42  Venetian Wall of Nicosia                    NaN         NaN   \n",
       "43  Venetian Wall of Nicosia                    NaN         NaN   \n",
       "44  Venetian Wall of Nicosia                    NaN         NaN   \n",
       "45  Venetian Wall of Nicosia                    NaN         NaN   \n",
       "46  Venetian Wall of Nicosia                    NaN         NaN   \n",
       "47  Venetian Wall of Nicosia                    NaN         NaN   \n",
       "48  Venetian Wall of Nicosia                    NaN         NaN   \n",
       "49  Venetian Wall of Nicosia                    NaN         NaN   \n",
       "50  Venetian Wall of Nicosia                    NaN         NaN   \n",
       "51  Venetian Wall of Nicosia                    NaN         NaN   \n",
       "52  Venetian Wall of Nicosia                    NaN         NaN   \n",
       "53  Venetian Wall of Nicosia                    NaN         NaN   \n",
       "54  Venetian Wall of Nicosia                    NaN         NaN   \n",
       "55  Venetian Wall of Nicosia                    NaN         NaN   \n",
       "\n",
       "                                               scores  compound score  \n",
       "0   {'neg': 0.181, 'neu': 0.744, 'pos': 0.074, 'co...   -0.4888   neg  \n",
       "1   {'neg': 0.08, 'neu': 0.882, 'pos': 0.038, 'com...   -0.6800   neg  \n",
       "2   {'neg': 0.136, 'neu': 0.76, 'pos': 0.104, 'com...   -0.3167   neg  \n",
       "3   {'neg': 0.18, 'neu': 0.776, 'pos': 0.044, 'com...   -0.7552   neg  \n",
       "4   {'neg': 0.166, 'neu': 0.681, 'pos': 0.153, 'co...   -0.4005   neg  \n",
       "5   {'neg': 0.125, 'neu': 0.85, 'pos': 0.025, 'com...   -0.9069   neg  \n",
       "6   {'neg': 0.151, 'neu': 0.76, 'pos': 0.089, 'com...   -0.9174   neg  \n",
       "7   {'neg': 0.176, 'neu': 0.722, 'pos': 0.102, 'co...   -0.3089   neg  \n",
       "8   {'neg': 0.478, 'neu': 0.522, 'pos': 0.0, 'comp...   -0.9154   neg  \n",
       "9   {'neg': 0.185, 'neu': 0.69, 'pos': 0.125, 'com...   -0.4171   neg  \n",
       "10  {'neg': 0.187, 'neu': 0.748, 'pos': 0.065, 'co...   -0.6000   neg  \n",
       "11  {'neg': 0.099, 'neu': 0.901, 'pos': 0.0, 'comp...   -0.2960   neg  \n",
       "12  {'neg': 0.305, 'neu': 0.618, 'pos': 0.076, 'co...   -0.7430   neg  \n",
       "13  {'neg': 0.075, 'neu': 0.848, 'pos': 0.078, 'co...   -0.2031   neg  \n",
       "14  {'neg': 0.076, 'neu': 0.877, 'pos': 0.047, 'co...   -0.2960   neg  \n",
       "15  {'neg': 0.109, 'neu': 0.758, 'pos': 0.133, 'co...   -0.0516   neg  \n",
       "16  {'neg': 0.151, 'neu': 0.83, 'pos': 0.018, 'com...   -0.8773   neg  \n",
       "17  {'neg': 0.301, 'neu': 0.699, 'pos': 0.0, 'comp...   -0.8221   neg  \n",
       "18  {'neg': 0.136, 'neu': 0.7, 'pos': 0.163, 'comp...   -0.0772   neg  \n",
       "19  {'neg': 0.134, 'neu': 0.798, 'pos': 0.069, 'co...   -0.8062   neg  \n",
       "20  {'neg': 0.085, 'neu': 0.915, 'pos': 0.0, 'comp...   -0.6458   neg  \n",
       "21  {'neg': 0.124, 'neu': 0.809, 'pos': 0.067, 'co...   -0.8356   neg  \n",
       "22  {'neg': 0.127, 'neu': 0.856, 'pos': 0.017, 'co...   -0.8775   neg  \n",
       "23  {'neg': 0.134, 'neu': 0.772, 'pos': 0.095, 'co...   -0.3182   neg  \n",
       "24  {'neg': 0.082, 'neu': 0.884, 'pos': 0.034, 'co...   -0.5844   neg  \n",
       "25  {'neg': 0.145, 'neu': 0.753, 'pos': 0.102, 'co...   -0.6368   neg  \n",
       "26  {'neg': 0.19, 'neu': 0.737, 'pos': 0.073, 'com...   -0.9137   neg  \n",
       "27  {'neg': 0.157, 'neu': 0.778, 'pos': 0.065, 'co...   -0.5610   neg  \n",
       "28  {'neg': 0.133, 'neu': 0.727, 'pos': 0.14, 'com...   -0.0712   neg  \n",
       "29  {'neg': 0.042, 'neu': 0.928, 'pos': 0.03, 'com...   -0.0516   neg  \n",
       "30  {'neg': 0.076, 'neu': 0.845, 'pos': 0.08, 'com...   -0.1530   neg  \n",
       "31  {'neg': 0.232, 'neu': 0.768, 'pos': 0.0, 'comp...   -0.2755   neg  \n",
       "32  {'neg': 0.207, 'neu': 0.686, 'pos': 0.106, 'co...   -0.6883   neg  \n",
       "33  {'neg': 0.158, 'neu': 0.842, 'pos': 0.0, 'comp...   -0.8383   neg  \n",
       "34  {'neg': 0.024, 'neu': 0.952, 'pos': 0.024, 'co...   -0.0044   neg  \n",
       "35  {'neg': 0.106, 'neu': 0.86, 'pos': 0.035, 'com...   -0.7524   neg  \n",
       "36  {'neg': 0.085, 'neu': 0.877, 'pos': 0.039, 'co...   -0.4145   neg  \n",
       "37  {'neg': 0.156, 'neu': 0.793, 'pos': 0.051, 'co...   -0.5745   neg  \n",
       "38  {'neg': 0.07, 'neu': 0.871, 'pos': 0.059, 'com...   -0.2112   neg  \n",
       "39  {'neg': 0.158, 'neu': 0.842, 'pos': 0.0, 'comp...   -0.7351   neg  \n",
       "40  {'neg': 0.113, 'neu': 0.807, 'pos': 0.08, 'com...   -0.0719   neg  \n",
       "41  {'neg': 0.116, 'neu': 0.864, 'pos': 0.02, 'com...   -0.8558   neg  \n",
       "42  {'neg': 0.057, 'neu': 0.888, 'pos': 0.055, 'co...   -0.0258   neg  \n",
       "43  {'neg': 0.278, 'neu': 0.701, 'pos': 0.021, 'co...   -0.9773   neg  \n",
       "44  {'neg': 0.163, 'neu': 0.745, 'pos': 0.092, 'co...   -0.1546   neg  \n",
       "45  {'neg': 0.202, 'neu': 0.562, 'pos': 0.236, 'co...   -0.1706   neg  \n",
       "46  {'neg': 0.045, 'neu': 0.955, 'pos': 0.0, 'comp...   -0.2960   neg  \n",
       "47  {'neg': 0.169, 'neu': 0.831, 'pos': 0.0, 'comp...   -0.8479   neg  \n",
       "48  {'neg': 0.059, 'neu': 0.941, 'pos': 0.0, 'comp...   -0.3400   neg  \n",
       "49  {'neg': 0.152, 'neu': 0.769, 'pos': 0.079, 'co...   -0.2500   neg  \n",
       "50  {'neg': 0.109, 'neu': 0.806, 'pos': 0.085, 'co...   -0.2718   neg  \n",
       "51  {'neg': 0.148, 'neu': 0.783, 'pos': 0.069, 'co...   -0.6310   neg  \n",
       "52  {'neg': 0.075, 'neu': 0.925, 'pos': 0.0, 'comp...   -0.4767   neg  \n",
       "53  {'neg': 0.161, 'neu': 0.682, 'pos': 0.157, 'co...   -0.1027   neg  \n",
       "54  {'neg': 0.115, 'neu': 0.763, 'pos': 0.122, 'co...   -0.1531   neg  \n",
       "55  {'neg': 0.148, 'neu': 0.764, 'pos': 0.088, 'co...   -0.3071   neg  "
      ]
     },
     "execution_count": 15,
     "metadata": {},
     "output_type": "execute_result"
    }
   ],
   "source": [
    "neg_review = pd.read_csv(r'C:\\Users\\Dell\\Desktop\\sentiment_cluster7_neg.csv')\n",
    "neg_review"
   ]
  },
  {
   "cell_type": "code",
   "execution_count": 16,
   "metadata": {},
   "outputs": [
    {
     "data": {
      "text/html": [
       "<style  type=\"text/css\" >\n",
       "</style><table id=\"T_0f69b91e_31ab_11eb_87d3_c48e8ff9d2e0\" ><thead>    <tr>        <th class=\"col_heading level0 col0\" >Description</th>        <th class=\"col_heading level0 col1\" >Value</th>    </tr></thead><tbody>\n",
       "                <tr>\n",
       "                                <td id=\"T_0f69b91e_31ab_11eb_87d3_c48e8ff9d2e0row0_col0\" class=\"data row0 col0\" >session_id</td>\n",
       "                        <td id=\"T_0f69b91e_31ab_11eb_87d3_c48e8ff9d2e0row0_col1\" class=\"data row0 col1\" >8995</td>\n",
       "            </tr>\n",
       "            <tr>\n",
       "                                <td id=\"T_0f69b91e_31ab_11eb_87d3_c48e8ff9d2e0row1_col0\" class=\"data row1 col0\" >Documents</td>\n",
       "                        <td id=\"T_0f69b91e_31ab_11eb_87d3_c48e8ff9d2e0row1_col1\" class=\"data row1 col1\" >56</td>\n",
       "            </tr>\n",
       "            <tr>\n",
       "                                <td id=\"T_0f69b91e_31ab_11eb_87d3_c48e8ff9d2e0row2_col0\" class=\"data row2 col0\" >Vocab Size</td>\n",
       "                        <td id=\"T_0f69b91e_31ab_11eb_87d3_c48e8ff9d2e0row2_col1\" class=\"data row2 col1\" >625</td>\n",
       "            </tr>\n",
       "            <tr>\n",
       "                                <td id=\"T_0f69b91e_31ab_11eb_87d3_c48e8ff9d2e0row3_col0\" class=\"data row3 col0\" >Custom Stopwords</td>\n",
       "                        <td id=\"T_0f69b91e_31ab_11eb_87d3_c48e8ff9d2e0row3_col1\" class=\"data row3 col1\" >True</td>\n",
       "            </tr>\n",
       "    </tbody></table>"
      ],
      "text/plain": [
       "<pandas.io.formats.style.Styler at 0x1ed2bbd6d88>"
      ]
     },
     "metadata": {},
     "output_type": "display_data"
    }
   ],
   "source": [
    "exp_nlp_neg = setup(data = neg_review, target = 'r_text',\n",
    "                custom_stopwords = [ 'hotel', 'room', 'nice', 'good','restaurant', 'food','bad','wall'])"
   ]
  },
  {
   "cell_type": "code",
   "execution_count": 17,
   "metadata": {},
   "outputs": [
    {
     "name": "stdout",
     "output_type": "stream",
     "text": [
      "LdaModel(num_terms=625, num_topics=4, decay=0.5, chunksize=100)\n"
     ]
    }
   ],
   "source": [
    "#create an LDA model\n",
    "lda_neg_custom = create_model('lda')\n",
    "print(lda_neg_custom)"
   ]
  },
  {
   "cell_type": "code",
   "execution_count": 18,
   "metadata": {},
   "outputs": [],
   "source": [
    "apply_lda_neg = assign_model(lda_neg_custom)"
   ]
  },
  {
   "cell_type": "code",
   "execution_count": 19,
   "metadata": {},
   "outputs": [
    {
     "data": {
      "application/vnd.jupyter.widget-view+json": {
       "model_id": "2f4b4e96b25b47a7be398785b7b15c0b",
       "version_major": 2,
       "version_minor": 0
      },
      "text/plain": [
       "interactive(children=(ToggleButtons(description='Plot Type:', icons=('',), options=(('Frequency Plot', 'freque…"
      ]
     },
     "metadata": {},
     "output_type": "display_data"
    }
   ],
   "source": [
    "evaluate_model(lda_neg_custom)"
   ]
  },
  {
   "cell_type": "code",
   "execution_count": 20,
   "metadata": {},
   "outputs": [
    {
     "data": {
      "application/vnd.jupyter.widget-view+json": {
       "model_id": "",
       "version_major": 2,
       "version_minor": 0
      },
      "text/plain": [
       "IntProgress(value=0, description='Processing: ', max=25)"
      ]
     },
     "metadata": {},
     "output_type": "display_data"
    },
    {
     "data": {
      "application/vnd.jupyter.widget-view+json": {
       "model_id": "faa10d758f934e5a9bc0f9ac4d50dfe0",
       "version_major": 2,
       "version_minor": 0
      },
      "text/plain": [
       "Output()"
      ]
     },
     "metadata": {},
     "output_type": "display_data"
    },
    {
     "data": {
      "text/html": [
       "        <script type=\"text/javascript\">\n",
       "        window.PlotlyConfig = {MathJaxConfig: 'local'};\n",
       "        if (window.MathJax) {MathJax.Hub.Config({SVG: {font: \"STIX-Web\"}});}\n",
       "        if (typeof require !== 'undefined') {\n",
       "        require.undef(\"plotly\");\n",
       "        requirejs.config({\n",
       "            paths: {\n",
       "                'plotly': ['https://cdn.plot.ly/plotly-latest.min']\n",
       "            }\n",
       "        });\n",
       "        require(['plotly'], function(Plotly) {\n",
       "            window._Plotly = Plotly;\n",
       "        });\n",
       "        }\n",
       "        </script>\n",
       "        "
      ]
     },
     "metadata": {},
     "output_type": "display_data"
    },
    {
     "data": {
      "application/vnd.plotly.v1+json": {
       "config": {
        "plotlyServerURL": "https://plot.ly"
       },
       "data": [
        {
         "hovertemplate": "Metric=Coherence<br># Topics=%{x}<br>Score=%{y}<extra></extra>",
         "legendgroup": "Coherence",
         "line": {
          "color": "#636efa",
          "dash": "solid",
          "shape": "linear"
         },
         "mode": "lines",
         "name": "Coherence",
         "orientation": "v",
         "showlegend": true,
         "type": "scatter",
         "x": [
          2,
          4,
          8,
          16,
          32,
          64,
          100,
          200,
          300,
          400
         ],
         "xaxis": "x",
         "y": [
          0.36766736679235723,
          0.35470822670111257,
          0.3549221263316302,
          0.43225929473917807,
          0.5270609194677689,
          0.49137303189421394,
          0.5187795131613702,
          0.45934193611103885,
          0.3864598148689522,
          0.36736208056045316
         ],
         "yaxis": "y"
        }
       ],
       "layout": {
        "legend": {
         "title": {
          "text": "Metric"
         },
         "tracegroupgap": 0
        },
        "plot_bgcolor": "rgb(245,245,245)",
        "template": {
         "data": {
          "bar": [
           {
            "error_x": {
             "color": "#2a3f5f"
            },
            "error_y": {
             "color": "#2a3f5f"
            },
            "marker": {
             "line": {
              "color": "#E5ECF6",
              "width": 0.5
             }
            },
            "type": "bar"
           }
          ],
          "barpolar": [
           {
            "marker": {
             "line": {
              "color": "#E5ECF6",
              "width": 0.5
             }
            },
            "type": "barpolar"
           }
          ],
          "carpet": [
           {
            "aaxis": {
             "endlinecolor": "#2a3f5f",
             "gridcolor": "white",
             "linecolor": "white",
             "minorgridcolor": "white",
             "startlinecolor": "#2a3f5f"
            },
            "baxis": {
             "endlinecolor": "#2a3f5f",
             "gridcolor": "white",
             "linecolor": "white",
             "minorgridcolor": "white",
             "startlinecolor": "#2a3f5f"
            },
            "type": "carpet"
           }
          ],
          "choropleth": [
           {
            "colorbar": {
             "outlinewidth": 0,
             "ticks": ""
            },
            "type": "choropleth"
           }
          ],
          "contour": [
           {
            "colorbar": {
             "outlinewidth": 0,
             "ticks": ""
            },
            "colorscale": [
             [
              0,
              "#0d0887"
             ],
             [
              0.1111111111111111,
              "#46039f"
             ],
             [
              0.2222222222222222,
              "#7201a8"
             ],
             [
              0.3333333333333333,
              "#9c179e"
             ],
             [
              0.4444444444444444,
              "#bd3786"
             ],
             [
              0.5555555555555556,
              "#d8576b"
             ],
             [
              0.6666666666666666,
              "#ed7953"
             ],
             [
              0.7777777777777778,
              "#fb9f3a"
             ],
             [
              0.8888888888888888,
              "#fdca26"
             ],
             [
              1,
              "#f0f921"
             ]
            ],
            "type": "contour"
           }
          ],
          "contourcarpet": [
           {
            "colorbar": {
             "outlinewidth": 0,
             "ticks": ""
            },
            "type": "contourcarpet"
           }
          ],
          "heatmap": [
           {
            "colorbar": {
             "outlinewidth": 0,
             "ticks": ""
            },
            "colorscale": [
             [
              0,
              "#0d0887"
             ],
             [
              0.1111111111111111,
              "#46039f"
             ],
             [
              0.2222222222222222,
              "#7201a8"
             ],
             [
              0.3333333333333333,
              "#9c179e"
             ],
             [
              0.4444444444444444,
              "#bd3786"
             ],
             [
              0.5555555555555556,
              "#d8576b"
             ],
             [
              0.6666666666666666,
              "#ed7953"
             ],
             [
              0.7777777777777778,
              "#fb9f3a"
             ],
             [
              0.8888888888888888,
              "#fdca26"
             ],
             [
              1,
              "#f0f921"
             ]
            ],
            "type": "heatmap"
           }
          ],
          "heatmapgl": [
           {
            "colorbar": {
             "outlinewidth": 0,
             "ticks": ""
            },
            "colorscale": [
             [
              0,
              "#0d0887"
             ],
             [
              0.1111111111111111,
              "#46039f"
             ],
             [
              0.2222222222222222,
              "#7201a8"
             ],
             [
              0.3333333333333333,
              "#9c179e"
             ],
             [
              0.4444444444444444,
              "#bd3786"
             ],
             [
              0.5555555555555556,
              "#d8576b"
             ],
             [
              0.6666666666666666,
              "#ed7953"
             ],
             [
              0.7777777777777778,
              "#fb9f3a"
             ],
             [
              0.8888888888888888,
              "#fdca26"
             ],
             [
              1,
              "#f0f921"
             ]
            ],
            "type": "heatmapgl"
           }
          ],
          "histogram": [
           {
            "marker": {
             "colorbar": {
              "outlinewidth": 0,
              "ticks": ""
             }
            },
            "type": "histogram"
           }
          ],
          "histogram2d": [
           {
            "colorbar": {
             "outlinewidth": 0,
             "ticks": ""
            },
            "colorscale": [
             [
              0,
              "#0d0887"
             ],
             [
              0.1111111111111111,
              "#46039f"
             ],
             [
              0.2222222222222222,
              "#7201a8"
             ],
             [
              0.3333333333333333,
              "#9c179e"
             ],
             [
              0.4444444444444444,
              "#bd3786"
             ],
             [
              0.5555555555555556,
              "#d8576b"
             ],
             [
              0.6666666666666666,
              "#ed7953"
             ],
             [
              0.7777777777777778,
              "#fb9f3a"
             ],
             [
              0.8888888888888888,
              "#fdca26"
             ],
             [
              1,
              "#f0f921"
             ]
            ],
            "type": "histogram2d"
           }
          ],
          "histogram2dcontour": [
           {
            "colorbar": {
             "outlinewidth": 0,
             "ticks": ""
            },
            "colorscale": [
             [
              0,
              "#0d0887"
             ],
             [
              0.1111111111111111,
              "#46039f"
             ],
             [
              0.2222222222222222,
              "#7201a8"
             ],
             [
              0.3333333333333333,
              "#9c179e"
             ],
             [
              0.4444444444444444,
              "#bd3786"
             ],
             [
              0.5555555555555556,
              "#d8576b"
             ],
             [
              0.6666666666666666,
              "#ed7953"
             ],
             [
              0.7777777777777778,
              "#fb9f3a"
             ],
             [
              0.8888888888888888,
              "#fdca26"
             ],
             [
              1,
              "#f0f921"
             ]
            ],
            "type": "histogram2dcontour"
           }
          ],
          "mesh3d": [
           {
            "colorbar": {
             "outlinewidth": 0,
             "ticks": ""
            },
            "type": "mesh3d"
           }
          ],
          "parcoords": [
           {
            "line": {
             "colorbar": {
              "outlinewidth": 0,
              "ticks": ""
             }
            },
            "type": "parcoords"
           }
          ],
          "pie": [
           {
            "automargin": true,
            "type": "pie"
           }
          ],
          "scatter": [
           {
            "marker": {
             "colorbar": {
              "outlinewidth": 0,
              "ticks": ""
             }
            },
            "type": "scatter"
           }
          ],
          "scatter3d": [
           {
            "line": {
             "colorbar": {
              "outlinewidth": 0,
              "ticks": ""
             }
            },
            "marker": {
             "colorbar": {
              "outlinewidth": 0,
              "ticks": ""
             }
            },
            "type": "scatter3d"
           }
          ],
          "scattercarpet": [
           {
            "marker": {
             "colorbar": {
              "outlinewidth": 0,
              "ticks": ""
             }
            },
            "type": "scattercarpet"
           }
          ],
          "scattergeo": [
           {
            "marker": {
             "colorbar": {
              "outlinewidth": 0,
              "ticks": ""
             }
            },
            "type": "scattergeo"
           }
          ],
          "scattergl": [
           {
            "marker": {
             "colorbar": {
              "outlinewidth": 0,
              "ticks": ""
             }
            },
            "type": "scattergl"
           }
          ],
          "scattermapbox": [
           {
            "marker": {
             "colorbar": {
              "outlinewidth": 0,
              "ticks": ""
             }
            },
            "type": "scattermapbox"
           }
          ],
          "scatterpolar": [
           {
            "marker": {
             "colorbar": {
              "outlinewidth": 0,
              "ticks": ""
             }
            },
            "type": "scatterpolar"
           }
          ],
          "scatterpolargl": [
           {
            "marker": {
             "colorbar": {
              "outlinewidth": 0,
              "ticks": ""
             }
            },
            "type": "scatterpolargl"
           }
          ],
          "scatterternary": [
           {
            "marker": {
             "colorbar": {
              "outlinewidth": 0,
              "ticks": ""
             }
            },
            "type": "scatterternary"
           }
          ],
          "surface": [
           {
            "colorbar": {
             "outlinewidth": 0,
             "ticks": ""
            },
            "colorscale": [
             [
              0,
              "#0d0887"
             ],
             [
              0.1111111111111111,
              "#46039f"
             ],
             [
              0.2222222222222222,
              "#7201a8"
             ],
             [
              0.3333333333333333,
              "#9c179e"
             ],
             [
              0.4444444444444444,
              "#bd3786"
             ],
             [
              0.5555555555555556,
              "#d8576b"
             ],
             [
              0.6666666666666666,
              "#ed7953"
             ],
             [
              0.7777777777777778,
              "#fb9f3a"
             ],
             [
              0.8888888888888888,
              "#fdca26"
             ],
             [
              1,
              "#f0f921"
             ]
            ],
            "type": "surface"
           }
          ],
          "table": [
           {
            "cells": {
             "fill": {
              "color": "#EBF0F8"
             },
             "line": {
              "color": "white"
             }
            },
            "header": {
             "fill": {
              "color": "#C8D4E3"
             },
             "line": {
              "color": "white"
             }
            },
            "type": "table"
           }
          ]
         },
         "layout": {
          "annotationdefaults": {
           "arrowcolor": "#2a3f5f",
           "arrowhead": 0,
           "arrowwidth": 1
          },
          "coloraxis": {
           "colorbar": {
            "outlinewidth": 0,
            "ticks": ""
           }
          },
          "colorscale": {
           "diverging": [
            [
             0,
             "#8e0152"
            ],
            [
             0.1,
             "#c51b7d"
            ],
            [
             0.2,
             "#de77ae"
            ],
            [
             0.3,
             "#f1b6da"
            ],
            [
             0.4,
             "#fde0ef"
            ],
            [
             0.5,
             "#f7f7f7"
            ],
            [
             0.6,
             "#e6f5d0"
            ],
            [
             0.7,
             "#b8e186"
            ],
            [
             0.8,
             "#7fbc41"
            ],
            [
             0.9,
             "#4d9221"
            ],
            [
             1,
             "#276419"
            ]
           ],
           "sequential": [
            [
             0,
             "#0d0887"
            ],
            [
             0.1111111111111111,
             "#46039f"
            ],
            [
             0.2222222222222222,
             "#7201a8"
            ],
            [
             0.3333333333333333,
             "#9c179e"
            ],
            [
             0.4444444444444444,
             "#bd3786"
            ],
            [
             0.5555555555555556,
             "#d8576b"
            ],
            [
             0.6666666666666666,
             "#ed7953"
            ],
            [
             0.7777777777777778,
             "#fb9f3a"
            ],
            [
             0.8888888888888888,
             "#fdca26"
            ],
            [
             1,
             "#f0f921"
            ]
           ],
           "sequentialminus": [
            [
             0,
             "#0d0887"
            ],
            [
             0.1111111111111111,
             "#46039f"
            ],
            [
             0.2222222222222222,
             "#7201a8"
            ],
            [
             0.3333333333333333,
             "#9c179e"
            ],
            [
             0.4444444444444444,
             "#bd3786"
            ],
            [
             0.5555555555555556,
             "#d8576b"
            ],
            [
             0.6666666666666666,
             "#ed7953"
            ],
            [
             0.7777777777777778,
             "#fb9f3a"
            ],
            [
             0.8888888888888888,
             "#fdca26"
            ],
            [
             1,
             "#f0f921"
            ]
           ]
          },
          "colorway": [
           "#636efa",
           "#EF553B",
           "#00cc96",
           "#ab63fa",
           "#FFA15A",
           "#19d3f3",
           "#FF6692",
           "#B6E880",
           "#FF97FF",
           "#FECB52"
          ],
          "font": {
           "color": "#2a3f5f"
          },
          "geo": {
           "bgcolor": "white",
           "lakecolor": "white",
           "landcolor": "#E5ECF6",
           "showlakes": true,
           "showland": true,
           "subunitcolor": "white"
          },
          "hoverlabel": {
           "align": "left"
          },
          "hovermode": "closest",
          "mapbox": {
           "style": "light"
          },
          "paper_bgcolor": "white",
          "plot_bgcolor": "#E5ECF6",
          "polar": {
           "angularaxis": {
            "gridcolor": "white",
            "linecolor": "white",
            "ticks": ""
           },
           "bgcolor": "#E5ECF6",
           "radialaxis": {
            "gridcolor": "white",
            "linecolor": "white",
            "ticks": ""
           }
          },
          "scene": {
           "xaxis": {
            "backgroundcolor": "#E5ECF6",
            "gridcolor": "white",
            "gridwidth": 2,
            "linecolor": "white",
            "showbackground": true,
            "ticks": "",
            "zerolinecolor": "white"
           },
           "yaxis": {
            "backgroundcolor": "#E5ECF6",
            "gridcolor": "white",
            "gridwidth": 2,
            "linecolor": "white",
            "showbackground": true,
            "ticks": "",
            "zerolinecolor": "white"
           },
           "zaxis": {
            "backgroundcolor": "#E5ECF6",
            "gridcolor": "white",
            "gridwidth": 2,
            "linecolor": "white",
            "showbackground": true,
            "ticks": "",
            "zerolinecolor": "white"
           }
          },
          "shapedefaults": {
           "line": {
            "color": "#2a3f5f"
           }
          },
          "ternary": {
           "aaxis": {
            "gridcolor": "white",
            "linecolor": "white",
            "ticks": ""
           },
           "baxis": {
            "gridcolor": "white",
            "linecolor": "white",
            "ticks": ""
           },
           "bgcolor": "#E5ECF6",
           "caxis": {
            "gridcolor": "white",
            "linecolor": "white",
            "ticks": ""
           }
          },
          "title": {
           "x": 0.05
          },
          "xaxis": {
           "automargin": true,
           "gridcolor": "white",
           "linecolor": "white",
           "ticks": "",
           "title": {
            "standoff": 15
           },
           "zerolinecolor": "white",
           "zerolinewidth": 2
          },
          "yaxis": {
           "automargin": true,
           "gridcolor": "white",
           "linecolor": "white",
           "ticks": "",
           "title": {
            "standoff": 15
           },
           "zerolinecolor": "white",
           "zerolinewidth": 2
          }
         }
        },
        "title": {
         "text": "Coherence Value and # of Topics"
        },
        "xaxis": {
         "anchor": "y",
         "domain": [
          0,
          1
         ],
         "title": {
          "text": "# Topics"
         }
        },
        "yaxis": {
         "anchor": "x",
         "domain": [
          0,
          1
         ],
         "title": {
          "text": "Score"
         }
        }
       }
      },
      "text/html": [
       "<div>\n",
       "        \n",
       "        \n",
       "            <div id=\"6ea8a927-a457-49bb-b6e8-cb472adaca1a\" class=\"plotly-graph-div\" style=\"height:525px; width:100%;\"></div>\n",
       "            <script type=\"text/javascript\">\n",
       "                require([\"plotly\"], function(Plotly) {\n",
       "                    window.PLOTLYENV=window.PLOTLYENV || {};\n",
       "                    \n",
       "                if (document.getElementById(\"6ea8a927-a457-49bb-b6e8-cb472adaca1a\")) {\n",
       "                    Plotly.newPlot(\n",
       "                        '6ea8a927-a457-49bb-b6e8-cb472adaca1a',\n",
       "                        [{\"hovertemplate\": \"Metric=Coherence<br># Topics=%{x}<br>Score=%{y}<extra></extra>\", \"legendgroup\": \"Coherence\", \"line\": {\"color\": \"#636efa\", \"dash\": \"solid\", \"shape\": \"linear\"}, \"mode\": \"lines\", \"name\": \"Coherence\", \"orientation\": \"v\", \"showlegend\": true, \"type\": \"scatter\", \"x\": [2, 4, 8, 16, 32, 64, 100, 200, 300, 400], \"xaxis\": \"x\", \"y\": [0.36766736679235723, 0.35470822670111257, 0.3549221263316302, 0.43225929473917807, 0.5270609194677689, 0.49137303189421394, 0.5187795131613702, 0.45934193611103885, 0.3864598148689522, 0.36736208056045316], \"yaxis\": \"y\"}],\n",
       "                        {\"legend\": {\"title\": {\"text\": \"Metric\"}, \"tracegroupgap\": 0}, \"plot_bgcolor\": \"rgb(245,245,245)\", \"template\": {\"data\": {\"bar\": [{\"error_x\": {\"color\": \"#2a3f5f\"}, \"error_y\": {\"color\": \"#2a3f5f\"}, \"marker\": {\"line\": {\"color\": \"#E5ECF6\", \"width\": 0.5}}, \"type\": \"bar\"}], \"barpolar\": [{\"marker\": {\"line\": {\"color\": \"#E5ECF6\", \"width\": 0.5}}, \"type\": \"barpolar\"}], \"carpet\": [{\"aaxis\": {\"endlinecolor\": \"#2a3f5f\", \"gridcolor\": \"white\", \"linecolor\": \"white\", \"minorgridcolor\": \"white\", \"startlinecolor\": \"#2a3f5f\"}, \"baxis\": {\"endlinecolor\": \"#2a3f5f\", \"gridcolor\": \"white\", \"linecolor\": \"white\", \"minorgridcolor\": \"white\", \"startlinecolor\": \"#2a3f5f\"}, \"type\": \"carpet\"}], \"choropleth\": [{\"colorbar\": {\"outlinewidth\": 0, \"ticks\": \"\"}, \"type\": \"choropleth\"}], \"contour\": [{\"colorbar\": {\"outlinewidth\": 0, \"ticks\": \"\"}, \"colorscale\": [[0.0, \"#0d0887\"], [0.1111111111111111, \"#46039f\"], [0.2222222222222222, \"#7201a8\"], [0.3333333333333333, \"#9c179e\"], [0.4444444444444444, \"#bd3786\"], [0.5555555555555556, \"#d8576b\"], [0.6666666666666666, \"#ed7953\"], [0.7777777777777778, \"#fb9f3a\"], [0.8888888888888888, \"#fdca26\"], [1.0, \"#f0f921\"]], \"type\": \"contour\"}], \"contourcarpet\": [{\"colorbar\": {\"outlinewidth\": 0, \"ticks\": \"\"}, \"type\": \"contourcarpet\"}], \"heatmap\": [{\"colorbar\": {\"outlinewidth\": 0, \"ticks\": \"\"}, \"colorscale\": [[0.0, \"#0d0887\"], [0.1111111111111111, \"#46039f\"], [0.2222222222222222, \"#7201a8\"], [0.3333333333333333, \"#9c179e\"], [0.4444444444444444, \"#bd3786\"], [0.5555555555555556, \"#d8576b\"], [0.6666666666666666, \"#ed7953\"], [0.7777777777777778, \"#fb9f3a\"], [0.8888888888888888, \"#fdca26\"], [1.0, \"#f0f921\"]], \"type\": \"heatmap\"}], \"heatmapgl\": [{\"colorbar\": {\"outlinewidth\": 0, \"ticks\": \"\"}, \"colorscale\": [[0.0, \"#0d0887\"], [0.1111111111111111, \"#46039f\"], [0.2222222222222222, \"#7201a8\"], [0.3333333333333333, \"#9c179e\"], [0.4444444444444444, \"#bd3786\"], [0.5555555555555556, \"#d8576b\"], [0.6666666666666666, \"#ed7953\"], [0.7777777777777778, \"#fb9f3a\"], [0.8888888888888888, \"#fdca26\"], [1.0, \"#f0f921\"]], \"type\": \"heatmapgl\"}], \"histogram\": [{\"marker\": {\"colorbar\": {\"outlinewidth\": 0, \"ticks\": \"\"}}, \"type\": \"histogram\"}], \"histogram2d\": [{\"colorbar\": {\"outlinewidth\": 0, \"ticks\": \"\"}, \"colorscale\": [[0.0, \"#0d0887\"], [0.1111111111111111, \"#46039f\"], [0.2222222222222222, \"#7201a8\"], [0.3333333333333333, \"#9c179e\"], [0.4444444444444444, \"#bd3786\"], [0.5555555555555556, \"#d8576b\"], [0.6666666666666666, \"#ed7953\"], [0.7777777777777778, \"#fb9f3a\"], [0.8888888888888888, \"#fdca26\"], [1.0, \"#f0f921\"]], \"type\": \"histogram2d\"}], \"histogram2dcontour\": [{\"colorbar\": {\"outlinewidth\": 0, \"ticks\": \"\"}, \"colorscale\": [[0.0, \"#0d0887\"], [0.1111111111111111, \"#46039f\"], [0.2222222222222222, \"#7201a8\"], [0.3333333333333333, \"#9c179e\"], [0.4444444444444444, \"#bd3786\"], [0.5555555555555556, \"#d8576b\"], [0.6666666666666666, \"#ed7953\"], [0.7777777777777778, \"#fb9f3a\"], [0.8888888888888888, \"#fdca26\"], [1.0, \"#f0f921\"]], \"type\": \"histogram2dcontour\"}], \"mesh3d\": [{\"colorbar\": {\"outlinewidth\": 0, \"ticks\": \"\"}, \"type\": \"mesh3d\"}], \"parcoords\": [{\"line\": {\"colorbar\": {\"outlinewidth\": 0, \"ticks\": \"\"}}, \"type\": \"parcoords\"}], \"pie\": [{\"automargin\": true, \"type\": \"pie\"}], \"scatter\": [{\"marker\": {\"colorbar\": {\"outlinewidth\": 0, \"ticks\": \"\"}}, \"type\": \"scatter\"}], \"scatter3d\": [{\"line\": {\"colorbar\": {\"outlinewidth\": 0, \"ticks\": \"\"}}, \"marker\": {\"colorbar\": {\"outlinewidth\": 0, \"ticks\": \"\"}}, \"type\": \"scatter3d\"}], \"scattercarpet\": [{\"marker\": {\"colorbar\": {\"outlinewidth\": 0, \"ticks\": \"\"}}, \"type\": \"scattercarpet\"}], \"scattergeo\": [{\"marker\": {\"colorbar\": {\"outlinewidth\": 0, \"ticks\": \"\"}}, \"type\": \"scattergeo\"}], \"scattergl\": [{\"marker\": {\"colorbar\": {\"outlinewidth\": 0, \"ticks\": \"\"}}, \"type\": \"scattergl\"}], \"scattermapbox\": [{\"marker\": {\"colorbar\": {\"outlinewidth\": 0, \"ticks\": \"\"}}, \"type\": \"scattermapbox\"}], \"scatterpolar\": [{\"marker\": {\"colorbar\": {\"outlinewidth\": 0, \"ticks\": \"\"}}, \"type\": \"scatterpolar\"}], \"scatterpolargl\": [{\"marker\": {\"colorbar\": {\"outlinewidth\": 0, \"ticks\": \"\"}}, \"type\": \"scatterpolargl\"}], \"scatterternary\": [{\"marker\": {\"colorbar\": {\"outlinewidth\": 0, \"ticks\": \"\"}}, \"type\": \"scatterternary\"}], \"surface\": [{\"colorbar\": {\"outlinewidth\": 0, \"ticks\": \"\"}, \"colorscale\": [[0.0, \"#0d0887\"], [0.1111111111111111, \"#46039f\"], [0.2222222222222222, \"#7201a8\"], [0.3333333333333333, \"#9c179e\"], [0.4444444444444444, \"#bd3786\"], [0.5555555555555556, \"#d8576b\"], [0.6666666666666666, \"#ed7953\"], [0.7777777777777778, \"#fb9f3a\"], [0.8888888888888888, \"#fdca26\"], [1.0, \"#f0f921\"]], \"type\": \"surface\"}], \"table\": [{\"cells\": {\"fill\": {\"color\": \"#EBF0F8\"}, \"line\": {\"color\": \"white\"}}, \"header\": {\"fill\": {\"color\": \"#C8D4E3\"}, \"line\": {\"color\": \"white\"}}, \"type\": \"table\"}]}, \"layout\": {\"annotationdefaults\": {\"arrowcolor\": \"#2a3f5f\", \"arrowhead\": 0, \"arrowwidth\": 1}, \"coloraxis\": {\"colorbar\": {\"outlinewidth\": 0, \"ticks\": \"\"}}, \"colorscale\": {\"diverging\": [[0, \"#8e0152\"], [0.1, \"#c51b7d\"], [0.2, \"#de77ae\"], [0.3, \"#f1b6da\"], [0.4, \"#fde0ef\"], [0.5, \"#f7f7f7\"], [0.6, \"#e6f5d0\"], [0.7, \"#b8e186\"], [0.8, \"#7fbc41\"], [0.9, \"#4d9221\"], [1, \"#276419\"]], \"sequential\": [[0.0, \"#0d0887\"], [0.1111111111111111, \"#46039f\"], [0.2222222222222222, \"#7201a8\"], [0.3333333333333333, \"#9c179e\"], [0.4444444444444444, \"#bd3786\"], [0.5555555555555556, \"#d8576b\"], [0.6666666666666666, \"#ed7953\"], [0.7777777777777778, \"#fb9f3a\"], [0.8888888888888888, \"#fdca26\"], [1.0, \"#f0f921\"]], \"sequentialminus\": [[0.0, \"#0d0887\"], [0.1111111111111111, \"#46039f\"], [0.2222222222222222, \"#7201a8\"], [0.3333333333333333, \"#9c179e\"], [0.4444444444444444, \"#bd3786\"], [0.5555555555555556, \"#d8576b\"], [0.6666666666666666, \"#ed7953\"], [0.7777777777777778, \"#fb9f3a\"], [0.8888888888888888, \"#fdca26\"], [1.0, \"#f0f921\"]]}, \"colorway\": [\"#636efa\", \"#EF553B\", \"#00cc96\", \"#ab63fa\", \"#FFA15A\", \"#19d3f3\", \"#FF6692\", \"#B6E880\", \"#FF97FF\", \"#FECB52\"], \"font\": {\"color\": \"#2a3f5f\"}, \"geo\": {\"bgcolor\": \"white\", \"lakecolor\": \"white\", \"landcolor\": \"#E5ECF6\", \"showlakes\": true, \"showland\": true, \"subunitcolor\": \"white\"}, \"hoverlabel\": {\"align\": \"left\"}, \"hovermode\": \"closest\", \"mapbox\": {\"style\": \"light\"}, \"paper_bgcolor\": \"white\", \"plot_bgcolor\": \"#E5ECF6\", \"polar\": {\"angularaxis\": {\"gridcolor\": \"white\", \"linecolor\": \"white\", \"ticks\": \"\"}, \"bgcolor\": \"#E5ECF6\", \"radialaxis\": {\"gridcolor\": \"white\", \"linecolor\": \"white\", \"ticks\": \"\"}}, \"scene\": {\"xaxis\": {\"backgroundcolor\": \"#E5ECF6\", \"gridcolor\": \"white\", \"gridwidth\": 2, \"linecolor\": \"white\", \"showbackground\": true, \"ticks\": \"\", \"zerolinecolor\": \"white\"}, \"yaxis\": {\"backgroundcolor\": \"#E5ECF6\", \"gridcolor\": \"white\", \"gridwidth\": 2, \"linecolor\": \"white\", \"showbackground\": true, \"ticks\": \"\", \"zerolinecolor\": \"white\"}, \"zaxis\": {\"backgroundcolor\": \"#E5ECF6\", \"gridcolor\": \"white\", \"gridwidth\": 2, \"linecolor\": \"white\", \"showbackground\": true, \"ticks\": \"\", \"zerolinecolor\": \"white\"}}, \"shapedefaults\": {\"line\": {\"color\": \"#2a3f5f\"}}, \"ternary\": {\"aaxis\": {\"gridcolor\": \"white\", \"linecolor\": \"white\", \"ticks\": \"\"}, \"baxis\": {\"gridcolor\": \"white\", \"linecolor\": \"white\", \"ticks\": \"\"}, \"bgcolor\": \"#E5ECF6\", \"caxis\": {\"gridcolor\": \"white\", \"linecolor\": \"white\", \"ticks\": \"\"}}, \"title\": {\"x\": 0.05}, \"xaxis\": {\"automargin\": true, \"gridcolor\": \"white\", \"linecolor\": \"white\", \"ticks\": \"\", \"title\": {\"standoff\": 15}, \"zerolinecolor\": \"white\", \"zerolinewidth\": 2}, \"yaxis\": {\"automargin\": true, \"gridcolor\": \"white\", \"linecolor\": \"white\", \"ticks\": \"\", \"title\": {\"standoff\": 15}, \"zerolinecolor\": \"white\", \"zerolinewidth\": 2}}}, \"title\": {\"text\": \"Coherence Value and # of Topics\"}, \"xaxis\": {\"anchor\": \"y\", \"domain\": [0.0, 1.0], \"title\": {\"text\": \"# Topics\"}}, \"yaxis\": {\"anchor\": \"x\", \"domain\": [0.0, 1.0], \"title\": {\"text\": \"Score\"}}},\n",
       "                        {\"responsive\": true}\n",
       "                    ).then(function(){\n",
       "                            \n",
       "var gd = document.getElementById('6ea8a927-a457-49bb-b6e8-cb472adaca1a');\n",
       "var x = new MutationObserver(function (mutations, observer) {{\n",
       "        var display = window.getComputedStyle(gd).display;\n",
       "        if (!display || display === 'none') {{\n",
       "            console.log([gd, 'removed!']);\n",
       "            Plotly.purge(gd);\n",
       "            observer.disconnect();\n",
       "        }}\n",
       "}});\n",
       "\n",
       "// Listen for the removal of the full notebook cells\n",
       "var notebookContainer = gd.closest('#notebook-container');\n",
       "if (notebookContainer) {{\n",
       "    x.observe(notebookContainer, {childList: true});\n",
       "}}\n",
       "\n",
       "// Listen for the clearing of the current output cell\n",
       "var outputEl = gd.closest('.output');\n",
       "if (outputEl) {{\n",
       "    x.observe(outputEl, {childList: true});\n",
       "}}\n",
       "\n",
       "                        })\n",
       "                };\n",
       "                });\n",
       "            </script>\n",
       "        </div>"
      ]
     },
     "metadata": {},
     "output_type": "display_data"
    },
    {
     "name": "stdout",
     "output_type": "stream",
     "text": [
      "Best Model: Latent Dirichlet Allocation | # Topics: 32 | Coherence: 0.5271\n"
     ]
    }
   ],
   "source": [
    "tune_lda_negative = tune_model(model='lda', supervised_target=None, estimator='xgboost')"
   ]
  },
  {
   "cell_type": "markdown",
   "metadata": {},
   "source": [
    "2 topics"
   ]
  },
  {
   "cell_type": "code",
   "execution_count": 21,
   "metadata": {},
   "outputs": [
    {
     "name": "stdout",
     "output_type": "stream",
     "text": [
      "LdaModel(num_terms=625, num_topics=2, decay=0.5, chunksize=100)\n"
     ]
    }
   ],
   "source": [
    "lda_neg_2 = create_model('lda', num_topics=2)\n",
    "print(lda_neg_2)"
   ]
  },
  {
   "cell_type": "code",
   "execution_count": 22,
   "metadata": {},
   "outputs": [
    {
     "data": {
      "application/vnd.jupyter.widget-view+json": {
       "model_id": "5f0a478329304b0992e45975b51b99dd",
       "version_major": 2,
       "version_minor": 0
      },
      "text/plain": [
       "interactive(children=(ToggleButtons(description='Plot Type:', icons=('',), options=(('Frequency Plot', 'freque…"
      ]
     },
     "metadata": {},
     "output_type": "display_data"
    }
   ],
   "source": [
    "evaluate_model(lda_neg_2)"
   ]
  },
  {
   "cell_type": "code",
   "execution_count": 23,
   "metadata": {},
   "outputs": [
    {
     "data": {
      "text/html": [
       "        <script type=\"text/javascript\">\n",
       "        window.PlotlyConfig = {MathJaxConfig: 'local'};\n",
       "        if (window.MathJax) {MathJax.Hub.Config({SVG: {font: \"STIX-Web\"}});}\n",
       "        if (typeof require !== 'undefined') {\n",
       "        require.undef(\"plotly\");\n",
       "        requirejs.config({\n",
       "            paths: {\n",
       "                'plotly': ['https://cdn.plot.ly/plotly-latest.min']\n",
       "            }\n",
       "        });\n",
       "        require(['plotly'], function(Plotly) {\n",
       "            window._Plotly = Plotly;\n",
       "        });\n",
       "        }\n",
       "        </script>\n",
       "        "
      ]
     },
     "metadata": {},
     "output_type": "display_data"
    },
    {
     "data": {
      "text/html": [
       "\n",
       "<link rel=\"stylesheet\" type=\"text/css\" href=\"https://cdn.rawgit.com/bmabey/pyLDAvis/files/ldavis.v1.0.0.css\">\n",
       "\n",
       "\n",
       "<div id=\"ldavis_el1548821181430370001584488239\"></div>\n",
       "<script type=\"text/javascript\">\n",
       "\n",
       "var ldavis_el1548821181430370001584488239_data = {\"mdsDat\": {\"x\": [-0.02000587982839332, 0.02000587982839332], \"y\": [0.06315353314515292, -0.06315353314515292], \"topics\": [1, 2], \"cluster\": [1, 1], \"Freq\": [59.858089447021484, 40.14190673828125]}, \"tinfo\": {\"Term\": [\"burger\", \"noodle\", \"get\", \"friend\", \"use\", \"surround\", \"tasty\", \"water\", \"much\", \"place\", \"family\", \"last\", \"effort\", \"put\", \"find\", \"evening\", \"boil\", \"bill\", \"kind\", \"bit\", \"city\", \"twice\", \"take\", \"eat\", \"taste\", \"time\", \"see\", \"recommend\", \"today\", \"middle\", \"much\", \"last\", \"burger\", \"recommend\", \"syrian\", \"medium\", \"back\", \"sad\", \"try\", \"really\", \"ask\", \"let\", \"worth\", \"finish\", \"become\", \"reservation\", \"terrible\", \"available\", \"pay\", \"buy\", \"work\", \"menu\", \"duck\", \"turkish\", \"guy\", \"taste\", \"place\", \"eat\", \"see\", \"plate\", \"time\", \"quality\", \"part\", \"well\", \"order\", \"bread\", \"special\", \"visit\", \"service\", \"old\", \"also\", \"quite\", \"make\", \"town\", \"price\", \"walk\", \"go\", \"chicken\", \"even\", \"cook\", \"friend\", \"use\", \"surround\", \"tasty\", \"water\", \"effort\", \"put\", \"find\", \"evening\", \"boil\", \"bill\", \"kind\", \"today\", \"middle\", \"slow\", \"problem\", \"drink\", \"mean\", \"smell\", \"fried\", \"instead\", \"tv\", \"level\", \"main\", \"municipality\", \"entrance\", \"cypriot\", \"free\", \"fast\", \"one\", \"twice\", \"noodle\", \"get\", \"family\", \"bit\", \"city\", \"take\", \"price\", \"serve\", \"table\", \"come\", \"go\", \"area\", \"still\", \"many\", \"maybe\", \"make\", \"minute\", \"meat\", \"cook\", \"walk\", \"service\", \"order\", \"visit\", \"even\", \"chicken\", \"old\", \"chinese\"], \"Freq\": [26.0, 5.0, 5.0, 3.0, 3.0, 3.0, 3.0, 3.0, 6.0, 13.0, 4.0, 5.0, 2.0, 2.0, 2.0, 2.0, 2.0, 2.0, 2.0, 3.0, 5.0, 2.0, 6.0, 8.0, 7.0, 10.0, 7.0, 4.0, 1.0, 1.0, 6.140688419342041, 5.4250335693359375, 24.57742691040039, 3.9830689430236816, 3.259559392929077, 3.2581334114074707, 3.255046844482422, 3.2535336017608643, 3.252870798110962, 3.8934338092803955, 3.884784460067749, 2.535817861557007, 2.5355112552642822, 2.5353400707244873, 2.5348315238952637, 2.5343868732452393, 2.5333330631256104, 2.5332300662994385, 2.53249192237854, 2.5319392681121826, 2.531301975250244, 2.53106951713562, 2.5307986736297607, 2.529881715774536, 2.527665853500366, 6.938467502593994, 11.957138061523438, 7.514707088470459, 6.870386123657227, 3.701817512512207, 9.096907615661621, 7.29703426361084, 5.426579475402832, 6.463140487670898, 7.137710094451904, 3.9868693351745605, 3.9859061241149902, 6.138351917266846, 6.160705089569092, 5.428945064544678, 4.714924335479736, 4.247932434082031, 5.594771862030029, 3.2731244564056396, 6.153095245361328, 4.7105712890625, 5.013987064361572, 3.9792933464050293, 3.97556471824646, 3.8548800945281982, 2.8207104206085205, 2.817981243133545, 2.817927122116089, 2.8160605430603027, 2.81418514251709, 2.1929149627685547, 2.1908977031707764, 2.189889907836914, 2.1896979808807373, 2.1890580654144287, 2.1882522106170654, 2.180263042449951, 1.5678406953811646, 1.5675686597824097, 1.5670570135116577, 1.5666669607162476, 1.566579818725586, 1.5664889812469482, 1.5661627054214478, 1.5660316944122314, 1.5658632516860962, 1.5658469200134277, 1.5656464099884033, 1.5650522708892822, 1.5648702383041382, 1.564816951751709, 1.5648115873336792, 1.5645320415496826, 1.5644680261611938, 1.5642881393432617, 2.082601308822632, 4.072176456451416, 4.049557209014893, 3.4101133346557617, 2.820438861846924, 3.449206829071045, 4.006634712219238, 5.3398590087890625, 2.8206777572631836, 2.8193399906158447, 2.8143649101257324, 4.44364070892334, 2.1939167976379395, 2.19258189201355, 2.1827402114868164, 2.6476707458496094, 3.940650224685669, 2.831840753555298, 2.8207404613494873, 2.937156915664673, 2.8236687183380127, 2.8229453563690186, 2.6043946743011475, 2.214723825454712, 2.205056667327881, 2.2018284797668457, 2.2015225887298584, 2.1940879821777344], \"Total\": [26.0, 5.0, 5.0, 3.0, 3.0, 3.0, 3.0, 3.0, 6.0, 13.0, 4.0, 5.0, 2.0, 2.0, 2.0, 2.0, 2.0, 2.0, 2.0, 3.0, 5.0, 2.0, 6.0, 8.0, 7.0, 10.0, 7.0, 4.0, 1.0, 1.0, 6.470705032348633, 5.747262001037598, 26.5125732421875, 4.298946380615234, 3.5744495391845703, 3.574258327484131, 3.5738437175750732, 3.573641300201416, 3.573552131652832, 4.286923408508301, 4.285764694213867, 2.849921941757202, 2.8498809337615967, 2.8498573303222656, 2.8497893810272217, 2.849729537963867, 2.84958815574646, 2.8495748043060303, 2.849475383758545, 2.8494012355804443, 2.8493154048919678, 2.8492846488952637, 2.849247932434082, 2.8491241931915283, 2.848827600479126, 7.832658290863037, 13.525580406188965, 8.53744888305664, 7.823554992675781, 4.261231422424316, 10.632129669189453, 8.508285522460938, 6.374991416931152, 8.396577835083008, 9.742104530334473, 4.926975250244141, 4.926845550537109, 8.353075981140137, 8.983650207519531, 7.630467414855957, 6.907240867614746, 6.217106819152832, 9.535422325134277, 4.203782558441162, 11.49295425415039, 7.534239768981934, 9.45762825012207, 6.181121826171875, 6.180621147155762, 6.792037010192871, 3.186894655227661, 3.187316417694092, 3.1873250007629395, 3.187612771987915, 3.1879031658172607, 2.5593459606170654, 2.559657096862793, 2.5598132610321045, 2.559843063354492, 2.559941530227661, 2.5600662231445312, 2.5612990856170654, 1.93137788772583, 1.931420087814331, 1.9314985275268555, 1.93155837059021, 1.931572437286377, 1.931586742401123, 1.9316366910934448, 1.9316567182540894, 1.9316831827163696, 1.931685447692871, 1.931715965270996, 1.931807518005371, 1.931835651397705, 1.9318445920944214, 1.931844711303711, 1.9318881034851074, 1.9318978786468506, 1.9319252967834473, 2.5763299465179443, 5.1671929359436035, 5.170689105987549, 4.544943332672119, 3.911497116088867, 5.2635393142700195, 6.626622200012207, 11.49295425415039, 4.636105537414551, 4.636314392089844, 4.637083530426025, 9.45762825012207, 3.2837514877319336, 3.2839579582214355, 3.285482406616211, 4.662864685058594, 9.535422325134277, 5.359027862548828, 6.085394859313965, 6.792037010192871, 7.534239768981934, 8.983650207519531, 9.742104530334473, 8.353075981140137, 6.180621147155762, 6.181121826171875, 7.630467414855957, 4.008370876312256], \"Category\": [\"Default\", \"Default\", \"Default\", \"Default\", \"Default\", \"Default\", \"Default\", \"Default\", \"Default\", \"Default\", \"Default\", \"Default\", \"Default\", \"Default\", \"Default\", \"Default\", \"Default\", \"Default\", \"Default\", \"Default\", \"Default\", \"Default\", \"Default\", \"Default\", \"Default\", \"Default\", \"Default\", \"Default\", \"Default\", \"Default\", \"Topic1\", \"Topic1\", \"Topic1\", \"Topic1\", \"Topic1\", \"Topic1\", \"Topic1\", \"Topic1\", \"Topic1\", \"Topic1\", \"Topic1\", \"Topic1\", \"Topic1\", \"Topic1\", \"Topic1\", \"Topic1\", \"Topic1\", \"Topic1\", \"Topic1\", \"Topic1\", \"Topic1\", \"Topic1\", \"Topic1\", \"Topic1\", \"Topic1\", \"Topic1\", \"Topic1\", \"Topic1\", \"Topic1\", \"Topic1\", \"Topic1\", \"Topic1\", \"Topic1\", \"Topic1\", \"Topic1\", \"Topic1\", \"Topic1\", \"Topic1\", \"Topic1\", \"Topic1\", \"Topic1\", \"Topic1\", \"Topic1\", \"Topic1\", \"Topic1\", \"Topic1\", \"Topic1\", \"Topic1\", \"Topic1\", \"Topic1\", \"Topic2\", \"Topic2\", \"Topic2\", \"Topic2\", \"Topic2\", \"Topic2\", \"Topic2\", \"Topic2\", \"Topic2\", \"Topic2\", \"Topic2\", \"Topic2\", \"Topic2\", \"Topic2\", \"Topic2\", \"Topic2\", \"Topic2\", \"Topic2\", \"Topic2\", \"Topic2\", \"Topic2\", \"Topic2\", \"Topic2\", \"Topic2\", \"Topic2\", \"Topic2\", \"Topic2\", \"Topic2\", \"Topic2\", \"Topic2\", \"Topic2\", \"Topic2\", \"Topic2\", \"Topic2\", \"Topic2\", \"Topic2\", \"Topic2\", \"Topic2\", \"Topic2\", \"Topic2\", \"Topic2\", \"Topic2\", \"Topic2\", \"Topic2\", \"Topic2\", \"Topic2\", \"Topic2\", \"Topic2\", \"Topic2\", \"Topic2\", \"Topic2\", \"Topic2\", \"Topic2\", \"Topic2\", \"Topic2\", \"Topic2\", \"Topic2\", \"Topic2\"], \"logprob\": [30.0, 29.0, 28.0, 27.0, 26.0, 25.0, 24.0, 23.0, 22.0, 21.0, 20.0, 19.0, 18.0, 17.0, 16.0, 15.0, 14.0, 13.0, 12.0, 11.0, 10.0, 9.0, 8.0, 7.0, 6.0, 5.0, 4.0, 3.0, 2.0, 1.0, -4.873799800872803, -4.997700214385986, -3.4869000911712646, -5.306700229644775, -5.5071001052856445, -5.507599830627441, -5.508500099182129, -5.508999824523926, -5.509200096130371, -5.329400062561035, -5.331699848175049, -5.758200168609619, -5.758299827575684, -5.758399963378906, -5.758600234985352, -5.758800029754639, -5.759200096130371, -5.759200096130371, -5.759500026702881, -5.759699821472168, -5.760000228881836, -5.7600998878479, -5.760200023651123, -5.7606000900268555, -5.76140022277832, -4.7515997886657715, -4.207399845123291, -4.671899795532227, -4.761499881744385, -5.379899978637695, -4.480800151824951, -4.701300144195557, -4.997399806976318, -4.8225998878479, -4.723299980163574, -5.305699825286865, -5.306000232696533, -4.874199867248535, -4.870500087738037, -4.997000217437744, -5.138000011444092, -5.242300033569336, -4.966899871826172, -5.502999782562256, -4.871799945831299, -5.138899803161621, -5.076499938964844, -5.307600021362305, -5.308599948883057, -5.339399814605713, -5.252200126647949, -5.2530999183654785, -5.253200054168701, -5.253799915313721, -5.254499912261963, -5.503900051116943, -5.504899978637695, -5.505300045013428, -5.50540018081665, -5.50570011138916, -5.506100177764893, -5.509699821472168, -5.8394999504089355, -5.839600086212158, -5.840000152587891, -5.840199947357178, -5.8403000831604, -5.8403000831604, -5.8404998779296875, -5.84060001373291, -5.840700149536133, -5.840700149536133, -5.84089994430542, -5.84119987487793, -5.841400146484375, -5.841400146484375, -5.841400146484375, -5.841599941253662, -5.841599941253662, -5.841700077056885, -5.555500030517578, -4.885000228881836, -4.890600204467773, -5.062399864196777, -5.252299785614014, -5.051000118255615, -4.901199817657471, -4.613999843597412, -5.252200126647949, -5.252699851989746, -5.25439977645874, -4.797699928283691, -5.503499984741211, -5.5040998458862305, -5.508600234985352, -5.315499782562256, -4.917799949645996, -5.248199939727783, -5.252200126647949, -5.211699962615967, -5.251100063323975, -5.251399993896484, -5.331999778747559, -5.49399995803833, -5.4984002113342285, -5.499899864196777, -5.5, -5.503399848937988], \"loglift\": [30.0, 29.0, 28.0, 27.0, 26.0, 25.0, 24.0, 23.0, 22.0, 21.0, 20.0, 19.0, 18.0, 17.0, 16.0, 15.0, 14.0, 13.0, 12.0, 11.0, 10.0, 9.0, 8.0, 7.0, 6.0, 5.0, 4.0, 3.0, 2.0, 1.0, 0.4607999920845032, 0.4555000066757202, 0.4374000132083893, 0.43689998984336853, 0.42100000381469727, 0.4205999970436096, 0.4198000133037567, 0.41940000653266907, 0.41920000314712524, 0.41690000891685486, 0.41499999165534973, 0.39640000462532043, 0.39629998803138733, 0.39629998803138733, 0.3961000144481659, 0.39590001106262207, 0.39559999108314514, 0.3955000042915344, 0.3953000009059906, 0.3950999975204468, 0.39480000734329224, 0.39480000734329224, 0.39469999074935913, 0.3944000005722046, 0.3935999870300293, 0.3919999897480011, 0.38989999890327454, 0.3856000006198883, 0.3833000063896179, 0.3725000023841858, 0.3571999967098236, 0.3596000075340271, 0.3521000146865845, 0.2515000104904175, 0.2020999938249588, 0.30149999260902405, 0.3012999892234802, 0.20509999990463257, 0.13600000739097595, 0.1728000044822693, 0.131400004029274, 0.13230000436306, -0.019999999552965164, 0.2630000114440918, -0.11159999668598175, 0.04349999874830246, -0.12139999866485596, 0.07280000299215317, 0.07190000265836716, -0.053199999034404755, 0.7907000184059143, 0.7896000146865845, 0.7896000146865845, 0.7888000011444092, 0.788100004196167, 0.7581999897956848, 0.7572000026702881, 0.7566999793052673, 0.756600022315979, 0.7562000155448914, 0.7558000087738037, 0.7516999840736389, 0.704200029373169, 0.7039999961853027, 0.7037000060081482, 0.7034000158309937, 0.7032999992370605, 0.7031999826431274, 0.703000009059906, 0.7028999924659729, 0.7027999758720398, 0.7027999758720398, 0.7026000022888184, 0.7021999955177307, 0.7020999789237976, 0.7020000219345093, 0.7020000219345093, 0.7017999887466431, 0.7017999887466431, 0.70169997215271, 0.699999988079071, 0.6746000051498413, 0.66839998960495, 0.6255000233650208, 0.5856999754905701, 0.4900999963283539, 0.40959998965263367, 0.1462000012397766, 0.41589999198913574, 0.41530001163482666, 0.41339999437332153, 0.1573999971151352, 0.5095000267028809, 0.5088000297546387, 0.5037999749183655, 0.3467999994754791, 0.029100000858306885, 0.27489998936653137, 0.14390000700950623, 0.07440000027418137, -0.06870000064373016, -0.24490000307559967, -0.4065000116825104, -0.4147999882698059, -0.11789999902248383, -0.11949999630451202, -0.3303000032901764, 0.3100999891757965]}, \"token.table\": {\"Topic\": [1, 2, 1, 2, 1, 1, 1, 1, 2, 1, 2, 2, 1, 2, 1, 2, 1, 1, 2, 1, 2, 1, 2, 1, 2, 1, 2, 2, 2, 1, 1, 2, 2, 2, 1, 2, 2, 1, 2, 2, 2, 1, 2, 2, 2, 1, 2, 1, 2, 1, 2, 2, 1, 1, 2, 2, 1, 2, 1, 2, 1, 2, 2, 1, 2, 1, 1, 2, 1, 2, 1, 2, 1, 2, 1, 2, 2, 1, 2, 1, 2, 1, 1, 2, 1, 2, 1, 2, 2, 2, 1, 2, 1, 2, 1, 1, 1, 1, 1, 2, 1, 2, 1, 2, 2, 2, 1, 2, 1, 2, 2, 1, 1, 2, 1, 2, 1, 2, 2, 1, 1, 2, 2, 1, 2, 1, 1, 2, 2, 2, 1, 2, 1, 2, 2, 1, 2, 1, 1], \"Freq\": [0.723878026008606, 0.2895512282848358, 0.30452975630760193, 0.6090595126152039, 0.9333223700523376, 1.0527886152267456, 0.8394323587417603, 1.0527093410491943, 0.7812297940254211, 0.2556565999984741, 0.7669697403907776, 0.7812678217887878, 0.8118571043014526, 0.20296427607536316, 0.9429488182067871, 0.07543590664863586, 1.052852749824524, 0.6471317410469055, 0.32356587052345276, 0.4989558160305023, 0.4989558160305023, 0.3799724578857422, 0.5699586868286133, 0.43130558729171753, 0.6469583511352539, 0.5889249444007874, 0.4416936933994293, 1.0352798700332642, 1.0354257822036743, 1.0529093742370605, 0.937048077583313, 0.11713100969791412, 0.7814496755599976, 1.0352799892425537, 0.6471841335296631, 0.32359206676483154, 0.7812979221343994, 0.22002474963665009, 0.6600742340087891, 1.0352513790130615, 0.7813069820404053, 1.0526843070983887, 1.0352566242218018, 1.0353806018829346, 0.9413552284240723, 0.19339781999588013, 0.7735912799835205, 0.5286737680435181, 0.4229390323162079, 1.0530648231506348, 1.035366415977478, 0.7808537483215332, 0.8699795007705688, 1.0526604652404785, 1.035348892211914, 1.0352997779846191, 0.6292327642440796, 0.41948848962783813, 0.3043693006038666, 0.6087386012077332, 0.4289208650588989, 0.6433812975883484, 1.035418152809143, 0.4929836094379425, 0.4929836094379425, 0.8393349647521973, 1.0528959035873413, 1.0355075597763062, 0.5598030090332031, 0.5598030090332031, 0.9272559881210327, 1.0352847576141357, 0.1935286670923233, 0.7741146683692932, 0.6552678346633911, 0.26210713386535645, 1.0352367162704468, 0.7185305953025818, 0.3079416751861572, 0.7843148112297058, 0.15686295926570892, 1.0528253316879272, 0.8872077465057373, 0.14786796271800995, 0.9386957883834839, 0.23467394709587097, 0.5220589637756348, 0.4350491464138031, 1.0354334115982056, 0.7813546657562256, 0.8227274417877197, 0.11753249168395996, 0.6433860659599304, 0.3216930329799652, 0.9330700635910034, 0.9304605722427368, 1.0527315139770508, 0.8394798636436462, 0.8947339057922363, 0.12781913578510284, 0.43139657378196716, 0.6470948457717896, 0.6678799390792847, 0.33393996953964233, 1.0354654788970947, 1.0353914499282837, 0.811878502368927, 0.20296962559223175, 0.30451059341430664, 0.6090211868286133, 0.9412281513214111, 0.8392900824546814, 0.4313771426677704, 0.6470656991004944, 0.4527193307876587, 0.6036257743835449, 0.8936940431594849, 0.12767057120800018, 0.9411431550979614, 1.052783727645874, 0.8464908003807068, 0.18810907006263733, 1.0355300903320312, 0.7136430144309998, 0.23788100481033325, 0.8395008444786072, 1.052955150604248, 1.0353652238845825, 0.7762981057167053, 0.9412306547164917, 0.7182982563972473, 0.23943275213241577, 0.6636369824409485, 0.3981821835041046, 0.9410574436187744, 0.7145768404006958, 0.23819227516651154, 1.0528844594955444, 1.0526756048202515], \"Term\": [\"also\", \"also\", \"area\", \"area\", \"ask\", \"available\", \"back\", \"become\", \"bill\", \"bit\", \"bit\", \"boil\", \"bread\", \"bread\", \"burger\", \"burger\", \"buy\", \"chicken\", \"chicken\", \"chinese\", \"chinese\", \"city\", \"city\", \"come\", \"come\", \"cook\", \"cook\", \"cypriot\", \"drink\", \"duck\", \"eat\", \"eat\", \"effort\", \"entrance\", \"even\", \"even\", \"evening\", \"family\", \"family\", \"fast\", \"find\", \"finish\", \"free\", \"fried\", \"friend\", \"get\", \"get\", \"go\", \"go\", \"guy\", \"instead\", \"kind\", \"last\", \"let\", \"level\", \"main\", \"make\", \"make\", \"many\", \"many\", \"maybe\", \"maybe\", \"mean\", \"meat\", \"meat\", \"medium\", \"menu\", \"middle\", \"minute\", \"minute\", \"much\", \"municipality\", \"noodle\", \"noodle\", \"old\", \"old\", \"one\", \"order\", \"order\", \"part\", \"part\", \"pay\", \"place\", \"place\", \"plate\", \"plate\", \"price\", \"price\", \"problem\", \"put\", \"quality\", \"quality\", \"quite\", \"quite\", \"really\", \"recommend\", \"reservation\", \"sad\", \"see\", \"see\", \"serve\", \"serve\", \"service\", \"service\", \"slow\", \"smell\", \"special\", \"special\", \"still\", \"still\", \"surround\", \"syrian\", \"table\", \"table\", \"take\", \"take\", \"taste\", \"taste\", \"tasty\", \"terrible\", \"time\", \"time\", \"today\", \"town\", \"town\", \"try\", \"turkish\", \"tv\", \"twice\", \"use\", \"visit\", \"visit\", \"walk\", \"walk\", \"water\", \"well\", \"well\", \"work\", \"worth\"]}, \"R\": 30, \"lambda.step\": 0.01, \"plot.opts\": {\"xlab\": \"PC1\", \"ylab\": \"PC2\"}, \"topic.order\": [2, 1]};\n",
       "\n",
       "function LDAvis_load_lib(url, callback){\n",
       "  var s = document.createElement('script');\n",
       "  s.src = url;\n",
       "  s.async = true;\n",
       "  s.onreadystatechange = s.onload = callback;\n",
       "  s.onerror = function(){console.warn(\"failed to load library \" + url);};\n",
       "  document.getElementsByTagName(\"head\")[0].appendChild(s);\n",
       "}\n",
       "\n",
       "if(typeof(LDAvis) !== \"undefined\"){\n",
       "   // already loaded: just create the visualization\n",
       "   !function(LDAvis){\n",
       "       new LDAvis(\"#\" + \"ldavis_el1548821181430370001584488239\", ldavis_el1548821181430370001584488239_data);\n",
       "   }(LDAvis);\n",
       "}else if(typeof define === \"function\" && define.amd){\n",
       "   // require.js is available: use it to load d3/LDAvis\n",
       "   require.config({paths: {d3: \"https://cdnjs.cloudflare.com/ajax/libs/d3/3.5.5/d3.min\"}});\n",
       "   require([\"d3\"], function(d3){\n",
       "      window.d3 = d3;\n",
       "      LDAvis_load_lib(\"https://cdn.rawgit.com/bmabey/pyLDAvis/files/ldavis.v1.0.0.js\", function(){\n",
       "        new LDAvis(\"#\" + \"ldavis_el1548821181430370001584488239\", ldavis_el1548821181430370001584488239_data);\n",
       "      });\n",
       "    });\n",
       "}else{\n",
       "    // require.js not available: dynamically load d3 & LDAvis\n",
       "    LDAvis_load_lib(\"https://cdnjs.cloudflare.com/ajax/libs/d3/3.5.5/d3.min.js\", function(){\n",
       "         LDAvis_load_lib(\"https://cdn.rawgit.com/bmabey/pyLDAvis/files/ldavis.v1.0.0.js\", function(){\n",
       "                 new LDAvis(\"#\" + \"ldavis_el1548821181430370001584488239\", ldavis_el1548821181430370001584488239_data);\n",
       "            })\n",
       "         });\n",
       "}\n",
       "</script>"
      ],
      "text/plain": [
       "PreparedData(topic_coordinates=              x         y  topics  cluster       Freq\n",
       "topic                                                \n",
       "1     -0.020006  0.063154       1        1  59.858089\n",
       "0      0.020006 -0.063154       2        1  40.141907, topic_info=        Term       Freq      Total Category  logprob  loglift\n",
       "0     burger  26.000000  26.000000  Default  30.0000  30.0000\n",
       "239   noodle   5.000000   5.000000  Default  29.0000  29.0000\n",
       "25       get   5.000000   5.000000  Default  28.0000  28.0000\n",
       "159   friend   3.000000   3.000000  Default  27.0000  27.0000\n",
       "327      use   3.000000   3.000000  Default  26.0000  26.0000\n",
       "..       ...        ...        ...      ...      ...      ...\n",
       "11     visit   2.214724   8.353076   Topic2  -5.4940  -0.4148\n",
       "60      even   2.205057   6.180621   Topic2  -5.4984  -0.1179\n",
       "203  chicken   2.201828   6.181122   Topic2  -5.4999  -0.1195\n",
       "142      old   2.201523   7.630467   Topic2  -5.5000  -0.3303\n",
       "276  chinese   2.194088   4.008371   Topic2  -5.5034   0.3101\n",
       "\n",
       "[138 rows x 6 columns], token_table=      Topic      Freq   Term\n",
       "term                        \n",
       "51        1  0.723878   also\n",
       "51        2  0.289551   also\n",
       "286       1  0.304530   area\n",
       "286       2  0.609060   area\n",
       "98        1  0.933322    ask\n",
       "...     ...       ...    ...\n",
       "399       2  0.941057  water\n",
       "12        1  0.714577   well\n",
       "12        2  0.238192   well\n",
       "216       1  1.052884   work\n",
       "156       1  1.052676  worth\n",
       "\n",
       "[139 rows x 3 columns], R=30, lambda_step=0.01, plot_opts={'xlab': 'PC1', 'ylab': 'PC2'}, topic_order=[2, 1])"
      ]
     },
     "metadata": {},
     "output_type": "display_data"
    }
   ],
   "source": [
    "plot_model(lda_neg_2, plot ='topic_model')"
   ]
  },
  {
   "cell_type": "code",
   "execution_count": null,
   "metadata": {},
   "outputs": [],
   "source": []
  }
 ],
 "metadata": {
  "kernelspec": {
   "display_name": "Python 3",
   "language": "python",
   "name": "python3"
  },
  "language_info": {
   "codemirror_mode": {
    "name": "ipython",
    "version": 3
   },
   "file_extension": ".py",
   "mimetype": "text/x-python",
   "name": "python",
   "nbconvert_exporter": "python",
   "pygments_lexer": "ipython3",
   "version": "3.7.4"
  }
 },
 "nbformat": 4,
 "nbformat_minor": 2
}
