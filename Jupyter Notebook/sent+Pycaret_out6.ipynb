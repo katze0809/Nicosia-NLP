{
 "cells": [
  {
   "cell_type": "code",
   "execution_count": 1,
   "metadata": {},
   "outputs": [],
   "source": [
    "import pandas as pd"
   ]
  },
  {
   "cell_type": "code",
   "execution_count": 2,
   "metadata": {},
   "outputs": [
    {
     "data": {
      "text/html": [
       "<div>\n",
       "<style scoped>\n",
       "    .dataframe tbody tr th:only-of-type {\n",
       "        vertical-align: middle;\n",
       "    }\n",
       "\n",
       "    .dataframe tbody tr th {\n",
       "        vertical-align: top;\n",
       "    }\n",
       "\n",
       "    .dataframe thead th {\n",
       "        text-align: right;\n",
       "    }\n",
       "</style>\n",
       "<table border=\"1\" class=\"dataframe\">\n",
       "  <thead>\n",
       "    <tr style=\"text-align: right;\">\n",
       "      <th></th>\n",
       "      <th>r_points</th>\n",
       "      <th>r_text</th>\n",
       "      <th>place</th>\n",
       "    </tr>\n",
       "  </thead>\n",
       "  <tbody>\n",
       "    <tr>\n",
       "      <th>0</th>\n",
       "      <td>40</td>\n",
       "      <td>Excellent place. Going there often! Parking pl...</td>\n",
       "      <td>The Mall of Cyprus</td>\n",
       "    </tr>\n",
       "    <tr>\n",
       "      <th>1</th>\n",
       "      <td>40</td>\n",
       "      <td>This is a typical modern European shopping cen...</td>\n",
       "      <td>The Mall of Cyprus</td>\n",
       "    </tr>\n",
       "    <tr>\n",
       "      <th>2</th>\n",
       "      <td>30</td>\n",
       "      <td>Stopped by the Mall of Cyprus and Ikea in Nico...</td>\n",
       "      <td>The Mall of Cyprus</td>\n",
       "    </tr>\n",
       "    <tr>\n",
       "      <th>3</th>\n",
       "      <td>40</td>\n",
       "      <td>After the renovation of the mall this year the...</td>\n",
       "      <td>The Mall of Cyprus</td>\n",
       "    </tr>\n",
       "    <tr>\n",
       "      <th>4</th>\n",
       "      <td>40</td>\n",
       "      <td>Still my favorite mall in Nicosia. Good variet...</td>\n",
       "      <td>The Mall of Cyprus</td>\n",
       "    </tr>\n",
       "    <tr>\n",
       "      <th>...</th>\n",
       "      <td>...</td>\n",
       "      <td>...</td>\n",
       "      <td>...</td>\n",
       "    </tr>\n",
       "    <tr>\n",
       "      <th>101</th>\n",
       "      <td>40</td>\n",
       "      <td>This mall is located out of the city center an...</td>\n",
       "      <td>The Mall of Cyprus</td>\n",
       "    </tr>\n",
       "    <tr>\n",
       "      <th>102</th>\n",
       "      <td>30</td>\n",
       "      <td>Visiting the Mall of Cyprus? Well, as a tour g...</td>\n",
       "      <td>The Mall of Cyprus</td>\n",
       "    </tr>\n",
       "    <tr>\n",
       "      <th>103</th>\n",
       "      <td>40</td>\n",
       "      <td>The Mall of Cyprus is no longer the best mall ...</td>\n",
       "      <td>The Mall of Cyprus</td>\n",
       "    </tr>\n",
       "    <tr>\n",
       "      <th>104</th>\n",
       "      <td>50</td>\n",
       "      <td>Even is winter with rain and cold, even is sum...</td>\n",
       "      <td>The Mall of Cyprus</td>\n",
       "    </tr>\n",
       "    <tr>\n",
       "      <th>105</th>\n",
       "      <td>30</td>\n",
       "      <td>If you happen to be in Nicosia and the weather...</td>\n",
       "      <td>The Mall of Cyprus</td>\n",
       "    </tr>\n",
       "  </tbody>\n",
       "</table>\n",
       "<p>106 rows × 3 columns</p>\n",
       "</div>"
      ],
      "text/plain": [
       "     r_points                                             r_text  \\\n",
       "0          40  Excellent place. Going there often! Parking pl...   \n",
       "1          40  This is a typical modern European shopping cen...   \n",
       "2          30  Stopped by the Mall of Cyprus and Ikea in Nico...   \n",
       "3          40  After the renovation of the mall this year the...   \n",
       "4          40  Still my favorite mall in Nicosia. Good variet...   \n",
       "..        ...                                                ...   \n",
       "101        40  This mall is located out of the city center an...   \n",
       "102        30  Visiting the Mall of Cyprus? Well, as a tour g...   \n",
       "103        40  The Mall of Cyprus is no longer the best mall ...   \n",
       "104        50  Even is winter with rain and cold, even is sum...   \n",
       "105        30  If you happen to be in Nicosia and the weather...   \n",
       "\n",
       "                  place  \n",
       "0    The Mall of Cyprus  \n",
       "1    The Mall of Cyprus  \n",
       "2    The Mall of Cyprus  \n",
       "3    The Mall of Cyprus  \n",
       "4    The Mall of Cyprus  \n",
       "..                  ...  \n",
       "101  The Mall of Cyprus  \n",
       "102  The Mall of Cyprus  \n",
       "103  The Mall of Cyprus  \n",
       "104  The Mall of Cyprus  \n",
       "105  The Mall of Cyprus  \n",
       "\n",
       "[106 rows x 3 columns]"
      ]
     },
     "execution_count": 2,
     "metadata": {},
     "output_type": "execute_result"
    }
   ],
   "source": [
    "tripadv_review = pd.read_csv(r'C:\\Users\\Dell\\Desktop\\Attractions\\The Mall of Cyprus.csv', error_bad_lines=False);\n",
    "tripadv_review"
   ]
  },
  {
   "cell_type": "code",
   "execution_count": 3,
   "metadata": {},
   "outputs": [
    {
     "name": "stderr",
     "output_type": "stream",
     "text": [
      "[nltk_data] Downloading package vader_lexicon to\n",
      "[nltk_data]     C:\\Users\\Dell\\AppData\\Roaming\\nltk_data...\n",
      "[nltk_data]   Package vader_lexicon is already up-to-date!\n"
     ]
    }
   ],
   "source": [
    "import nltk\n",
    "nltk.download('vader_lexicon')\n",
    "from nltk.sentiment.vader import SentimentIntensityAnalyzer\n",
    "sent = SentimentIntensityAnalyzer()"
   ]
  },
  {
   "cell_type": "code",
   "execution_count": 4,
   "metadata": {},
   "outputs": [
    {
     "data": {
      "text/plain": [
       "{'neg': 0.0, 'neu': 0.742, 'pos': 0.258, 'compound': 0.7067}"
      ]
     },
     "execution_count": 4,
     "metadata": {},
     "output_type": "execute_result"
    }
   ],
   "source": [
    "sent.polarity_scores(tripadv_review.iloc[0]['r_text'])"
   ]
  },
  {
   "cell_type": "code",
   "execution_count": 5,
   "metadata": {},
   "outputs": [
    {
     "data": {
      "text/html": [
       "<div>\n",
       "<style scoped>\n",
       "    .dataframe tbody tr th:only-of-type {\n",
       "        vertical-align: middle;\n",
       "    }\n",
       "\n",
       "    .dataframe tbody tr th {\n",
       "        vertical-align: top;\n",
       "    }\n",
       "\n",
       "    .dataframe thead th {\n",
       "        text-align: right;\n",
       "    }\n",
       "</style>\n",
       "<table border=\"1\" class=\"dataframe\">\n",
       "  <thead>\n",
       "    <tr style=\"text-align: right;\">\n",
       "      <th></th>\n",
       "      <th>r_points</th>\n",
       "      <th>r_text</th>\n",
       "      <th>place</th>\n",
       "      <th>scores</th>\n",
       "      <th>compound</th>\n",
       "      <th>score</th>\n",
       "    </tr>\n",
       "  </thead>\n",
       "  <tbody>\n",
       "    <tr>\n",
       "      <th>0</th>\n",
       "      <td>40</td>\n",
       "      <td>Excellent place. Going there often! Parking pl...</td>\n",
       "      <td>The Mall of Cyprus</td>\n",
       "      <td>{'neg': 0.0, 'neu': 0.742, 'pos': 0.258, 'comp...</td>\n",
       "      <td>0.7067</td>\n",
       "      <td>pos</td>\n",
       "    </tr>\n",
       "    <tr>\n",
       "      <th>1</th>\n",
       "      <td>40</td>\n",
       "      <td>This is a typical modern European shopping cen...</td>\n",
       "      <td>The Mall of Cyprus</td>\n",
       "      <td>{'neg': 0.0, 'neu': 0.697, 'pos': 0.303, 'comp...</td>\n",
       "      <td>0.7264</td>\n",
       "      <td>pos</td>\n",
       "    </tr>\n",
       "    <tr>\n",
       "      <th>2</th>\n",
       "      <td>30</td>\n",
       "      <td>Stopped by the Mall of Cyprus and Ikea in Nico...</td>\n",
       "      <td>The Mall of Cyprus</td>\n",
       "      <td>{'neg': 0.052, 'neu': 0.87, 'pos': 0.079, 'com...</td>\n",
       "      <td>0.2500</td>\n",
       "      <td>pos</td>\n",
       "    </tr>\n",
       "    <tr>\n",
       "      <th>3</th>\n",
       "      <td>40</td>\n",
       "      <td>After the renovation of the mall this year the...</td>\n",
       "      <td>The Mall of Cyprus</td>\n",
       "      <td>{'neg': 0.0, 'neu': 0.804, 'pos': 0.196, 'comp...</td>\n",
       "      <td>0.8511</td>\n",
       "      <td>pos</td>\n",
       "    </tr>\n",
       "    <tr>\n",
       "      <th>4</th>\n",
       "      <td>40</td>\n",
       "      <td>Still my favorite mall in Nicosia. Good variet...</td>\n",
       "      <td>The Mall of Cyprus</td>\n",
       "      <td>{'neg': 0.161, 'neu': 0.705, 'pos': 0.134, 'co...</td>\n",
       "      <td>-0.4939</td>\n",
       "      <td>neg</td>\n",
       "    </tr>\n",
       "  </tbody>\n",
       "</table>\n",
       "</div>"
      ],
      "text/plain": [
       "   r_points                                             r_text  \\\n",
       "0        40  Excellent place. Going there often! Parking pl...   \n",
       "1        40  This is a typical modern European shopping cen...   \n",
       "2        30  Stopped by the Mall of Cyprus and Ikea in Nico...   \n",
       "3        40  After the renovation of the mall this year the...   \n",
       "4        40  Still my favorite mall in Nicosia. Good variet...   \n",
       "\n",
       "                place                                             scores  \\\n",
       "0  The Mall of Cyprus  {'neg': 0.0, 'neu': 0.742, 'pos': 0.258, 'comp...   \n",
       "1  The Mall of Cyprus  {'neg': 0.0, 'neu': 0.697, 'pos': 0.303, 'comp...   \n",
       "2  The Mall of Cyprus  {'neg': 0.052, 'neu': 0.87, 'pos': 0.079, 'com...   \n",
       "3  The Mall of Cyprus  {'neg': 0.0, 'neu': 0.804, 'pos': 0.196, 'comp...   \n",
       "4  The Mall of Cyprus  {'neg': 0.161, 'neu': 0.705, 'pos': 0.134, 'co...   \n",
       "\n",
       "   compound score  \n",
       "0    0.7067   pos  \n",
       "1    0.7264   pos  \n",
       "2    0.2500   pos  \n",
       "3    0.8511   pos  \n",
       "4   -0.4939   neg  "
      ]
     },
     "execution_count": 5,
     "metadata": {},
     "output_type": "execute_result"
    }
   ],
   "source": [
    "tripadv_review['scores'] = tripadv_review['r_text'].apply(lambda review:sent.polarity_scores(review))\n",
    "tripadv_review['compound'] = tripadv_review['scores'].apply(lambda d:d['compound'])\n",
    "tripadv_review['score'] = tripadv_review['compound'].apply(lambda score: 'pos' if score >=0 else 'neg')\n",
    "tripadv_review.head()"
   ]
  },
  {
   "cell_type": "code",
   "execution_count": 6,
   "metadata": {},
   "outputs": [],
   "source": [
    "tripadv_review.to_csv(r'C:\\Users\\Dell\\Desktop\\sentiment_out6.csv')"
   ]
  },
  {
   "cell_type": "code",
   "execution_count": 7,
   "metadata": {},
   "outputs": [],
   "source": [
    "pos_rev=tripadv_review[(tripadv_review['score'] .str.contains('pos'))]\n",
    "pos_rev.to_csv(r'C:\\Users\\Dell\\Desktop\\sentiment_out6_pos.csv')\n",
    "neg_rev=tripadv_review[(tripadv_review['score'] .str.contains('neg'))]\n",
    "neg_rev.to_csv(r'C:\\Users\\Dell\\Desktop\\sentiment_out6_neg.csv')"
   ]
  },
  {
   "cell_type": "code",
   "execution_count": 8,
   "metadata": {},
   "outputs": [],
   "source": [
    "pos_review_imp= pd.read_csv(r'C:\\Users\\Dell\\Desktop\\sentiment_out6_pos.csv')\n",
    "neg_review_imp = pd.read_csv(r'C:\\Users\\Dell\\Desktop\\sentiment_out6_neg.csv')"
   ]
  },
  {
   "cell_type": "code",
   "execution_count": 9,
   "metadata": {},
   "outputs": [],
   "source": [
    "from pycaret.nlp import *"
   ]
  },
  {
   "cell_type": "code",
   "execution_count": 10,
   "metadata": {},
   "outputs": [
    {
     "data": {
      "text/html": [
       "<style  type=\"text/css\" >\n",
       "</style><table id=\"T_72ee144c_3281_11eb_ba4e_c48e8ff9d2e0\" ><thead>    <tr>        <th class=\"col_heading level0 col0\" >Description</th>        <th class=\"col_heading level0 col1\" >Value</th>    </tr></thead><tbody>\n",
       "                <tr>\n",
       "                                <td id=\"T_72ee144c_3281_11eb_ba4e_c48e8ff9d2e0row0_col0\" class=\"data row0 col0\" >session_id</td>\n",
       "                        <td id=\"T_72ee144c_3281_11eb_ba4e_c48e8ff9d2e0row0_col1\" class=\"data row0 col1\" >2727</td>\n",
       "            </tr>\n",
       "            <tr>\n",
       "                                <td id=\"T_72ee144c_3281_11eb_ba4e_c48e8ff9d2e0row1_col0\" class=\"data row1 col0\" >Documents</td>\n",
       "                        <td id=\"T_72ee144c_3281_11eb_ba4e_c48e8ff9d2e0row1_col1\" class=\"data row1 col1\" >88</td>\n",
       "            </tr>\n",
       "            <tr>\n",
       "                                <td id=\"T_72ee144c_3281_11eb_ba4e_c48e8ff9d2e0row2_col0\" class=\"data row2 col0\" >Vocab Size</td>\n",
       "                        <td id=\"T_72ee144c_3281_11eb_ba4e_c48e8ff9d2e0row2_col1\" class=\"data row2 col1\" >593</td>\n",
       "            </tr>\n",
       "            <tr>\n",
       "                                <td id=\"T_72ee144c_3281_11eb_ba4e_c48e8ff9d2e0row3_col0\" class=\"data row3 col0\" >Custom Stopwords</td>\n",
       "                        <td id=\"T_72ee144c_3281_11eb_ba4e_c48e8ff9d2e0row3_col1\" class=\"data row3 col1\" >True</td>\n",
       "            </tr>\n",
       "    </tbody></table>"
      ],
      "text/plain": [
       "<pandas.io.formats.style.Styler at 0x20b8b4f2508>"
      ]
     },
     "metadata": {},
     "output_type": "display_data"
    }
   ],
   "source": [
    "exp_nlp = setup(data = pos_review_imp, target = 'r_text',\n",
    "                custom_stopwords = [ 'hotel', 'room', 'nice', 'good', 'excellent','restaurant', 'food'])"
   ]
  },
  {
   "cell_type": "code",
   "execution_count": 11,
   "metadata": {},
   "outputs": [
    {
     "name": "stdout",
     "output_type": "stream",
     "text": [
      "LdaModel(num_terms=593, num_topics=4, decay=0.5, chunksize=100)\n"
     ]
    }
   ],
   "source": [
    "#create an LDA model\n",
    "lda_pos_custom = create_model('lda')\n",
    "print(lda_pos_custom)"
   ]
  },
  {
   "cell_type": "code",
   "execution_count": 12,
   "metadata": {},
   "outputs": [
    {
     "data": {
      "text/html": [
       "<div>\n",
       "<style scoped>\n",
       "    .dataframe tbody tr th:only-of-type {\n",
       "        vertical-align: middle;\n",
       "    }\n",
       "\n",
       "    .dataframe tbody tr th {\n",
       "        vertical-align: top;\n",
       "    }\n",
       "\n",
       "    .dataframe thead th {\n",
       "        text-align: right;\n",
       "    }\n",
       "</style>\n",
       "<table border=\"1\" class=\"dataframe\">\n",
       "  <thead>\n",
       "    <tr style=\"text-align: right;\">\n",
       "      <th></th>\n",
       "      <th>Unnamed: 0</th>\n",
       "      <th>r_points</th>\n",
       "      <th>r_text</th>\n",
       "      <th>place</th>\n",
       "      <th>scores</th>\n",
       "      <th>compound</th>\n",
       "      <th>score</th>\n",
       "      <th>Topic_0</th>\n",
       "      <th>Topic_1</th>\n",
       "      <th>Topic_2</th>\n",
       "      <th>Topic_3</th>\n",
       "      <th>Dominant_Topic</th>\n",
       "      <th>Perc_Dominant_Topic</th>\n",
       "    </tr>\n",
       "  </thead>\n",
       "  <tbody>\n",
       "    <tr>\n",
       "      <th>0</th>\n",
       "      <td>0</td>\n",
       "      <td>40</td>\n",
       "      <td>place go often park place plenty crowdy time u...</td>\n",
       "      <td>The Mall of Cyprus</td>\n",
       "      <td>{'neg': 0.0, 'neu': 0.742, 'pos': 0.258, 'comp...</td>\n",
       "      <td>0.7067</td>\n",
       "      <td>pos</td>\n",
       "      <td>0.006307</td>\n",
       "      <td>0.004387</td>\n",
       "      <td>0.981313</td>\n",
       "      <td>0.007993</td>\n",
       "      <td>Topic 2</td>\n",
       "      <td>0.98</td>\n",
       "    </tr>\n",
       "    <tr>\n",
       "      <th>1</th>\n",
       "      <td>1</td>\n",
       "      <td>40</td>\n",
       "      <td>typical modern shopping well organised place m...</td>\n",
       "      <td>The Mall of Cyprus</td>\n",
       "      <td>{'neg': 0.0, 'neu': 0.697, 'pos': 0.303, 'comp...</td>\n",
       "      <td>0.7264</td>\n",
       "      <td>pos</td>\n",
       "      <td>0.006307</td>\n",
       "      <td>0.004387</td>\n",
       "      <td>0.981313</td>\n",
       "      <td>0.007992</td>\n",
       "      <td>Topic 2</td>\n",
       "      <td>0.98</td>\n",
       "    </tr>\n",
       "    <tr>\n",
       "      <th>2</th>\n",
       "      <td>2</td>\n",
       "      <td>30</td>\n",
       "      <td>stop mall small large store cinema court great...</td>\n",
       "      <td>The Mall of Cyprus</td>\n",
       "      <td>{'neg': 0.052, 'neu': 0.87, 'pos': 0.079, 'com...</td>\n",
       "      <td>0.2500</td>\n",
       "      <td>pos</td>\n",
       "      <td>0.979107</td>\n",
       "      <td>0.004387</td>\n",
       "      <td>0.008514</td>\n",
       "      <td>0.007993</td>\n",
       "      <td>Topic 0</td>\n",
       "      <td>0.98</td>\n",
       "    </tr>\n",
       "    <tr>\n",
       "      <th>3</th>\n",
       "      <td>3</td>\n",
       "      <td>40</td>\n",
       "      <td>totally change amazing especially sit outside ...</td>\n",
       "      <td>The Mall of Cyprus</td>\n",
       "      <td>{'neg': 0.0, 'neu': 0.804, 'pos': 0.196, 'comp...</td>\n",
       "      <td>0.8511</td>\n",
       "      <td>pos</td>\n",
       "      <td>0.980959</td>\n",
       "      <td>0.003998</td>\n",
       "      <td>0.007759</td>\n",
       "      <td>0.007284</td>\n",
       "      <td>Topic 0</td>\n",
       "      <td>0.98</td>\n",
       "    </tr>\n",
       "    <tr>\n",
       "      <th>4</th>\n",
       "      <td>5</td>\n",
       "      <td>40</td>\n",
       "      <td>finally renovation finish shop choose beverage...</td>\n",
       "      <td>The Mall of Cyprus</td>\n",
       "      <td>{'neg': 0.08, 'neu': 0.795, 'pos': 0.126, 'com...</td>\n",
       "      <td>0.8517</td>\n",
       "      <td>pos</td>\n",
       "      <td>0.996115</td>\n",
       "      <td>0.000816</td>\n",
       "      <td>0.001583</td>\n",
       "      <td>0.001486</td>\n",
       "      <td>Topic 0</td>\n",
       "      <td>1.00</td>\n",
       "    </tr>\n",
       "    <tr>\n",
       "      <th>...</th>\n",
       "      <td>...</td>\n",
       "      <td>...</td>\n",
       "      <td>...</td>\n",
       "      <td>...</td>\n",
       "      <td>...</td>\n",
       "      <td>...</td>\n",
       "      <td>...</td>\n",
       "      <td>...</td>\n",
       "      <td>...</td>\n",
       "      <td>...</td>\n",
       "      <td>...</td>\n",
       "      <td>...</td>\n",
       "      <td>...</td>\n",
       "    </tr>\n",
       "    <tr>\n",
       "      <th>83</th>\n",
       "      <td>98</td>\n",
       "      <td>30</td>\n",
       "      <td>huge mall see big city town size bad variation...</td>\n",
       "      <td>The Mall of Cyprus</td>\n",
       "      <td>{'neg': 0.018, 'neu': 0.934, 'pos': 0.049, 'co...</td>\n",
       "      <td>0.5553</td>\n",
       "      <td>pos</td>\n",
       "      <td>0.992665</td>\n",
       "      <td>0.001540</td>\n",
       "      <td>0.002989</td>\n",
       "      <td>0.002806</td>\n",
       "      <td>Topic 0</td>\n",
       "      <td>0.99</td>\n",
       "    </tr>\n",
       "    <tr>\n",
       "      <th>84</th>\n",
       "      <td>100</td>\n",
       "      <td>40</td>\n",
       "      <td>many shop shop big shop small</td>\n",
       "      <td>The Mall of Cyprus</td>\n",
       "      <td>{'neg': 0.0, 'neu': 0.845, 'pos': 0.155, 'comp...</td>\n",
       "      <td>0.4798</td>\n",
       "      <td>pos</td>\n",
       "      <td>0.965799</td>\n",
       "      <td>0.007181</td>\n",
       "      <td>0.013936</td>\n",
       "      <td>0.013084</td>\n",
       "      <td>Topic 0</td>\n",
       "      <td>0.97</td>\n",
       "    </tr>\n",
       "    <tr>\n",
       "      <th>85</th>\n",
       "      <td>101</td>\n",
       "      <td>40</td>\n",
       "      <td>locate city center reach course car public bus...</td>\n",
       "      <td>The Mall of Cyprus</td>\n",
       "      <td>{'neg': 0.0, 'neu': 0.862, 'pos': 0.138, 'comp...</td>\n",
       "      <td>0.8715</td>\n",
       "      <td>pos</td>\n",
       "      <td>0.002293</td>\n",
       "      <td>0.532270</td>\n",
       "      <td>0.003095</td>\n",
       "      <td>0.462343</td>\n",
       "      <td>Topic 1</td>\n",
       "      <td>0.53</td>\n",
       "    </tr>\n",
       "    <tr>\n",
       "      <th>86</th>\n",
       "      <td>103</td>\n",
       "      <td>40</td>\n",
       "      <td>long mall shop king mall open however still mo...</td>\n",
       "      <td>The Mall of Cyprus</td>\n",
       "      <td>{'neg': 0.034, 'neu': 0.819, 'pos': 0.147, 'co...</td>\n",
       "      <td>0.8074</td>\n",
       "      <td>pos</td>\n",
       "      <td>0.986807</td>\n",
       "      <td>0.002770</td>\n",
       "      <td>0.005376</td>\n",
       "      <td>0.005047</td>\n",
       "      <td>Topic 0</td>\n",
       "      <td>0.99</td>\n",
       "    </tr>\n",
       "    <tr>\n",
       "      <th>87</th>\n",
       "      <td>104</td>\n",
       "      <td>50</td>\n",
       "      <td>even winter rain cold even summer high tempera...</td>\n",
       "      <td>The Mall of Cyprus</td>\n",
       "      <td>{'neg': 0.0, 'neu': 0.796, 'pos': 0.204, 'comp...</td>\n",
       "      <td>0.9719</td>\n",
       "      <td>pos</td>\n",
       "      <td>0.995457</td>\n",
       "      <td>0.000954</td>\n",
       "      <td>0.001851</td>\n",
       "      <td>0.001738</td>\n",
       "      <td>Topic 0</td>\n",
       "      <td>1.00</td>\n",
       "    </tr>\n",
       "  </tbody>\n",
       "</table>\n",
       "<p>88 rows × 13 columns</p>\n",
       "</div>"
      ],
      "text/plain": [
       "    Unnamed: 0  r_points                                             r_text  \\\n",
       "0            0        40  place go often park place plenty crowdy time u...   \n",
       "1            1        40  typical modern shopping well organised place m...   \n",
       "2            2        30  stop mall small large store cinema court great...   \n",
       "3            3        40  totally change amazing especially sit outside ...   \n",
       "4            5        40  finally renovation finish shop choose beverage...   \n",
       "..         ...       ...                                                ...   \n",
       "83          98        30  huge mall see big city town size bad variation...   \n",
       "84         100        40                      many shop shop big shop small   \n",
       "85         101        40  locate city center reach course car public bus...   \n",
       "86         103        40  long mall shop king mall open however still mo...   \n",
       "87         104        50  even winter rain cold even summer high tempera...   \n",
       "\n",
       "                 place                                             scores  \\\n",
       "0   The Mall of Cyprus  {'neg': 0.0, 'neu': 0.742, 'pos': 0.258, 'comp...   \n",
       "1   The Mall of Cyprus  {'neg': 0.0, 'neu': 0.697, 'pos': 0.303, 'comp...   \n",
       "2   The Mall of Cyprus  {'neg': 0.052, 'neu': 0.87, 'pos': 0.079, 'com...   \n",
       "3   The Mall of Cyprus  {'neg': 0.0, 'neu': 0.804, 'pos': 0.196, 'comp...   \n",
       "4   The Mall of Cyprus  {'neg': 0.08, 'neu': 0.795, 'pos': 0.126, 'com...   \n",
       "..                 ...                                                ...   \n",
       "83  The Mall of Cyprus  {'neg': 0.018, 'neu': 0.934, 'pos': 0.049, 'co...   \n",
       "84  The Mall of Cyprus  {'neg': 0.0, 'neu': 0.845, 'pos': 0.155, 'comp...   \n",
       "85  The Mall of Cyprus  {'neg': 0.0, 'neu': 0.862, 'pos': 0.138, 'comp...   \n",
       "86  The Mall of Cyprus  {'neg': 0.034, 'neu': 0.819, 'pos': 0.147, 'co...   \n",
       "87  The Mall of Cyprus  {'neg': 0.0, 'neu': 0.796, 'pos': 0.204, 'comp...   \n",
       "\n",
       "    compound score   Topic_0   Topic_1   Topic_2   Topic_3 Dominant_Topic  \\\n",
       "0     0.7067   pos  0.006307  0.004387  0.981313  0.007993        Topic 2   \n",
       "1     0.7264   pos  0.006307  0.004387  0.981313  0.007992        Topic 2   \n",
       "2     0.2500   pos  0.979107  0.004387  0.008514  0.007993        Topic 0   \n",
       "3     0.8511   pos  0.980959  0.003998  0.007759  0.007284        Topic 0   \n",
       "4     0.8517   pos  0.996115  0.000816  0.001583  0.001486        Topic 0   \n",
       "..       ...   ...       ...       ...       ...       ...            ...   \n",
       "83    0.5553   pos  0.992665  0.001540  0.002989  0.002806        Topic 0   \n",
       "84    0.4798   pos  0.965799  0.007181  0.013936  0.013084        Topic 0   \n",
       "85    0.8715   pos  0.002293  0.532270  0.003095  0.462343        Topic 1   \n",
       "86    0.8074   pos  0.986807  0.002770  0.005376  0.005047        Topic 0   \n",
       "87    0.9719   pos  0.995457  0.000954  0.001851  0.001738        Topic 0   \n",
       "\n",
       "    Perc_Dominant_Topic  \n",
       "0                  0.98  \n",
       "1                  0.98  \n",
       "2                  0.98  \n",
       "3                  0.98  \n",
       "4                  1.00  \n",
       "..                  ...  \n",
       "83                 0.99  \n",
       "84                 0.97  \n",
       "85                 0.53  \n",
       "86                 0.99  \n",
       "87                 1.00  \n",
       "\n",
       "[88 rows x 13 columns]"
      ]
     },
     "execution_count": 12,
     "metadata": {},
     "output_type": "execute_result"
    }
   ],
   "source": [
    "apply_lda_pos = assign_model(lda_pos_custom)\n",
    "apply_lda_pos"
   ]
  },
  {
   "cell_type": "code",
   "execution_count": 13,
   "metadata": {},
   "outputs": [
    {
     "data": {
      "application/vnd.jupyter.widget-view+json": {
       "model_id": "c77272ddadc340c596f236570b36f4a1",
       "version_major": 2,
       "version_minor": 0
      },
      "text/plain": [
       "interactive(children=(ToggleButtons(description='Plot Type:', icons=('',), options=(('Frequency Plot', 'freque…"
      ]
     },
     "metadata": {},
     "output_type": "display_data"
    }
   ],
   "source": [
    "evaluate_model(lda_pos_custom)"
   ]
  },
  {
   "cell_type": "code",
   "execution_count": 14,
   "metadata": {},
   "outputs": [
    {
     "data": {
      "text/html": [
       "        <script type=\"text/javascript\">\n",
       "        window.PlotlyConfig = {MathJaxConfig: 'local'};\n",
       "        if (window.MathJax) {MathJax.Hub.Config({SVG: {font: \"STIX-Web\"}});}\n",
       "        if (typeof require !== 'undefined') {\n",
       "        require.undef(\"plotly\");\n",
       "        requirejs.config({\n",
       "            paths: {\n",
       "                'plotly': ['https://cdn.plot.ly/plotly-latest.min']\n",
       "            }\n",
       "        });\n",
       "        require(['plotly'], function(Plotly) {\n",
       "            window._Plotly = Plotly;\n",
       "        });\n",
       "        }\n",
       "        </script>\n",
       "        "
      ]
     },
     "metadata": {},
     "output_type": "display_data"
    },
    {
     "data": {
      "text/html": [
       "\n",
       "<link rel=\"stylesheet\" type=\"text/css\" href=\"https://cdn.rawgit.com/bmabey/pyLDAvis/files/ldavis.v1.0.0.css\">\n",
       "\n",
       "\n",
       "<div id=\"ldavis_el1208022487581075929495693975\"></div>\n",
       "<script type=\"text/javascript\">\n",
       "\n",
       "var ldavis_el1208022487581075929495693975_data = {\"mdsDat\": {\"x\": [0.08734391666859785, 0.046232337551997967, -0.09222522572184949, -0.04135102849874633], \"y\": [0.04535157646660406, -0.08473775185146029, -0.05148649899155705, 0.09087267437641328], \"topics\": [1, 2, 3, 4], \"cluster\": [1, 1, 1, 1], \"Freq\": [38.00747299194336, 27.12162971496582, 26.456256866455078, 8.414630889892578]}, \"tinfo\": {\"Term\": [\"many\", \"brand\", \"come\", \"ok\", \"price\", \"free\", \"small\", \"really\", \"thing\", \"shopping\", \"family\", \"go\", \"find\", \"ever\", \"variety\", \"special\", \"clothe\", \"available\", \"walk\", \"coffee\", \"buy\", \"cafe\", \"big\", \"also\", \"store\", \"offer\", \"want\", \"example\", \"time\", \"next\", \"offer\", \"want\", \"different\", \"interesting\", \"typical\", \"character\", \"disabled\", \"level\", \"fashion\", \"limited\", \"screen\", \"bit\", \"give\", \"type\", \"definitely\", \"local\", \"faceless\", \"organised\", \"morning\", \"show\", \"helpful\", \"probably\", \"wheelchair\", \"decent\", \"rather\", \"toilet\", \"sound\", \"first\", \"back\", \"sometimes\", \"clean\", \"go\", \"look\", \"get\", \"experience\", \"place\", \"visit\", \"large\", \"easy\", \"shopping\", \"day\", \"mall\", \"well\", \"variety\", \"shop\", \"cinema\", \"make\", \"find\", \"lot\", \"parking\", \"kid\", \"big\", \"time\", \"spend\", \"also\", \"store\", \"great\", \"enough\", \"still\", \"nicosia\", \"decoration\", \"couple\", \"finally\", \"manage\", \"arcade\", \"cold\", \"tourist\", \"weekday\", \"feel\", \"put\", \"close\", \"way\", \"forever\", \"cafe\", \"really\", \"choose\", \"however\", \"renovation\", \"amazing\", \"crowd\", \"picture\", \"equipment\", \"choise\", \"playing\", \"chrismas\", \"maintain\", \"double\", \"size\", \"take\", \"problem\", \"away\", \"think\", \"people\", \"also\", \"supermarket\", \"many\", \"big\", \"shop\", \"mall\", \"place\", \"small\", \"find\", \"great\", \"area\", \"cinema\", \"park\", \"thing\", \"parking\", \"time\", \"eat\", \"visit\", \"go\", \"get\", \"even\", \"style\", \"range\", \"free\", \"family\", \"help\", \"decorate\", \"number\", \"sale\", \"european\", \"sell\", \"clothing\", \"center\", \"selection\", \"outlet\", \"car\", \"opening\", \"basically\", \"perfect\", \"late\", \"ideal\", \"bonus\", \"tidy\", \"dealer\", \"traditional\", \"vicinity\", \"age\", \"present\", \"budget\", \"shpos\", \"construction\", \"coffee\", \"bus\", \"space\", \"many\", \"eat\", \"see\", \"court\", \"lot\", \"brand\", \"available\", \"parking\", \"bar\", \"clothe\", \"meeting\", \"long\", \"shop\", \"fast\", \"variety\", \"shopping\", \"mall\", \"great\", \"also\", \"spend\", \"much\", \"visit\", \"store\", \"kid\", \"place\", \"small\", \"cinema\", \"example\", \"course\", \"bag\", \"vendor\", \"theater\", \"fair\", \"affordable\", \"travel\", \"better\", \"bring\", \"corner\", \"nowadays\", \"less\", \"sun\", \"replace\", \"dictate\", \"catering\", \"ouzo\", \"length\", \"common\", \"cool\", \"occasionally\", \"self\", \"staying\", \"door\", \"certain\", \"weekly\", \"part\", \"warn\", \"importation\", \"ok\", \"come\", \"price\", \"brand\", \"walk\", \"ever\", \"clothe\", \"special\", \"thing\", \"small\", \"time\", \"store\", \"find\", \"buy\", \"need\", \"shopping\", \"next\", \"big\", \"available\", \"mall\", \"go\", \"shop\", \"visit\", \"standard\", \"even\", \"many\", \"say\", \"well\"], \"Freq\": [17.0, 9.0, 6.0, 5.0, 5.0, 7.0, 11.0, 7.0, 9.0, 26.0, 6.0, 16.0, 14.0, 3.0, 12.0, 4.0, 3.0, 8.0, 3.0, 9.0, 6.0, 4.0, 16.0, 19.0, 10.0, 6.0, 6.0, 1.0, 11.0, 5.0, 5.919136047363281, 5.886145114898682, 3.48114275932312, 2.675166368484497, 2.674846649169922, 2.672074794769287, 2.6698198318481445, 2.6685285568237305, 3.3435323238372803, 2.6575448513031006, 2.656926393508911, 2.633671760559082, 2.6207005977630615, 2.620076894760132, 1.8550829887390137, 1.8532307147979736, 1.8520629405975342, 1.8508846759796143, 1.8505882024765015, 1.8505327701568604, 1.8504186868667603, 1.845938801765442, 1.8471601009368896, 1.8457419872283936, 1.8424075841903687, 4.31040620803833, 1.795783281326294, 1.7869775295257568, 3.393738269805908, 1.7593984603881836, 7.581722736358643, 11.737953186035156, 4.87843132019043, 7.4506001472473145, 5.687833786010742, 15.06911563873291, 11.348405838012695, 5.141322612762451, 4.590246677398682, 13.032112121582031, 6.429732799530029, 21.680280685424805, 5.833768844604492, 6.79443883895874, 18.41465187072754, 7.613600254058838, 4.213547706604004, 6.571783065795898, 6.918882369995117, 6.806949138641357, 4.325345516204834, 5.146165370941162, 4.331414699554443, 3.691560983657837, 3.756324291229248, 3.5108869075775146, 3.5028281211853027, 3.2559001445770264, 2.4897727966308594, 2.4749436378479004, 1.7236820459365845, 1.723625898361206, 1.723432183265686, 1.7233386039733887, 1.7229866981506348, 1.7223759889602661, 1.7215576171875, 1.7218667268753052, 1.7206872701644897, 1.7145789861679077, 1.7122308015823364, 1.705929160118103, 4.0135498046875, 3.255899429321289, 5.540530204772949, 2.4864020347595215, 2.49088191986084, 2.4897189140319824, 2.4893345832824707, 2.488006353378296, 0.957567572593689, 0.9575668573379517, 0.9575663208961487, 0.9575663208961487, 0.9575657844543457, 0.9575640559196472, 0.9575639367103577, 2.4376654624938965, 3.1367123126983643, 1.7236944437026978, 1.7198745012283325, 2.48823881149292, 2.4847171306610107, 9.11850357055664, 3.889669895172119, 7.483780384063721, 6.888970375061035, 16.768108367919922, 14.034886360168457, 8.406425476074219, 4.781047821044922, 5.558969974517822, 4.785726547241211, 3.2535817623138428, 4.694056987762451, 3.2532551288604736, 3.2579185962677, 4.318405628204346, 3.259413003921509, 2.911757707595825, 2.6355834007263184, 2.4926161766052246, 2.4899628162384033, 2.4890244007110596, 2.4214935302734375, 3.022240161895752, 6.087326526641846, 5.408351898193359, 1.7003111839294434, 1.7007040977478027, 1.6988364458084106, 1.6917920112609863, 1.6894314289093018, 1.6851067543029785, 1.6478526592254639, 3.9560160636901855, 3.864501476287842, 3.2111871242523193, 3.2014193534851074, 0.9461773037910461, 0.9461756348609924, 0.9461753368377686, 0.946175217628479, 0.9461745619773865, 0.9461745619773865, 0.9461735486984253, 0.9461733102798462, 0.9461727738380432, 0.9461723566055298, 0.9461708068847656, 0.946170449256897, 0.9461709260940552, 0.946169912815094, 0.9461687803268433, 6.3322649002075195, 2.4271271228790283, 3.6290977001190186, 8.860764503479004, 5.978121280670166, 3.9722588062286377, 5.023019790649414, 7.616015434265137, 4.729650020599365, 4.32738733291626, 8.977494239807129, 1.3568246364593506, 1.842294454574585, 1.7031900882720947, 1.7026129961013794, 18.128156661987305, 3.940905809402466, 5.484071254730225, 9.317974090576172, 15.033509254455566, 5.487538814544678, 6.271130561828613, 3.807652235031128, 2.8644466400146484, 4.946728229522705, 3.5994913578033447, 3.2266550064086914, 4.160082817077637, 3.220848321914673, 3.3014235496520996, 1.1341477632522583, 1.0340641736984253, 0.6320196986198425, 0.6320175528526306, 0.6320175528526306, 0.6320148706436157, 0.6320148706436157, 0.6313658952713013, 0.6311774253845215, 0.6309882402420044, 0.6308827996253967, 0.6307693719863892, 0.6306021809577942, 0.6303206086158752, 0.629644513130188, 0.6295744180679321, 0.6293737292289734, 0.6293390989303589, 0.6293287873268127, 0.6292918920516968, 0.629283607006073, 0.6292837858200073, 0.6291708946228027, 0.6289541125297546, 0.6289070248603821, 0.6281353831291199, 0.6277178525924683, 0.6276941895484924, 0.6274489164352417, 0.6274389624595642, 2.1488869190216064, 2.103287696838379, 1.6132515668869019, 2.1499502658843994, 1.1311239004135132, 1.1378430128097534, 1.039955973625183, 1.1390509605407715, 1.6173162460327148, 1.644566535949707, 1.4329969882965088, 1.3878169059753418, 1.541386604309082, 1.137649416923523, 1.1321117877960205, 1.8415887355804443, 1.082629919052124, 1.433953046798706, 1.125067114830017, 1.7835923433303833, 1.1377131938934326, 1.4321337938308716, 1.1435883045196533, 0.6443663835525513, 0.6393566131591797, 0.6372798681259155, 0.6371404528617859, 0.6363953351974487], \"Total\": [17.0, 9.0, 6.0, 5.0, 5.0, 7.0, 11.0, 7.0, 9.0, 26.0, 6.0, 16.0, 14.0, 3.0, 12.0, 4.0, 3.0, 8.0, 3.0, 9.0, 6.0, 4.0, 16.0, 19.0, 10.0, 6.0, 6.0, 1.0, 11.0, 5.0, 6.479928970336914, 6.476730823516846, 4.008324146270752, 3.18565034866333, 3.1857614517211914, 3.184906005859375, 3.186113119125366, 3.1859586238861084, 3.9976165294647217, 3.1852529048919678, 3.1852073669433594, 3.1818575859069824, 3.1802515983581543, 3.1819281578063965, 2.362311601638794, 2.3621599674224854, 2.3619027137756348, 2.36118745803833, 2.3619728088378906, 2.361987829208374, 2.361966133117676, 2.3599860668182373, 2.3617122173309326, 2.360759735107422, 2.3586361408233643, 5.599794864654541, 2.3580515384674072, 2.3562469482421875, 4.507400989532471, 2.35465931892395, 10.418521881103516, 16.322383880615234, 7.1488447189331055, 11.91569995880127, 8.752729415893555, 27.76496696472168, 20.07430648803711, 7.957397937774658, 7.008753299713135, 26.676504135131836, 11.081180572509766, 52.53226852416992, 10.031882286071777, 12.605289459228516, 54.7430534362793, 15.749530792236328, 6.86359977722168, 14.97805118560791, 16.406518936157227, 20.73406982421875, 10.16183090209961, 16.444530487060547, 11.793060302734375, 9.343817710876465, 19.78192901611328, 10.982084274291992, 13.905448913574219, 3.7777419090270996, 3.011620283126831, 3.011643409729004, 2.245499849319458, 2.245495319366455, 2.245419979095459, 2.245388984680176, 2.2452757358551025, 2.2455737590789795, 2.2447845935821533, 2.2455759048461914, 2.2454936504364014, 2.2454349994659424, 2.245220422744751, 2.2465884685516357, 5.301246643066406, 4.3061347007751465, 7.4040703773498535, 3.768544912338257, 3.834716558456421, 3.8358938694000244, 3.8357386589050293, 3.8360559940338135, 1.4793753623962402, 1.4793751239776611, 1.4793750047683716, 1.4793751239776611, 1.479374885559082, 1.4793744087219238, 1.4793750047683716, 3.772697925567627, 5.116849899291992, 2.751786708831787, 2.7518889904022217, 4.284763336181641, 4.341996669769287, 19.78192901611328, 7.4412841796875, 17.20117950439453, 16.444530487060547, 54.7430534362793, 52.53226852416992, 27.76496696472168, 11.503300666809082, 14.97805118560791, 13.905448913574219, 7.008141994476318, 15.749530792236328, 9.212264060974121, 9.35781478881836, 20.73406982421875, 11.793060302734375, 11.516616821289062, 20.07430648803711, 16.322383880615234, 11.91569995880127, 6.655355453491211, 2.9867379665374756, 3.756422519683838, 7.574064254760742, 6.814089775085449, 2.226608991622925, 2.2274999618530273, 2.2260935306549072, 2.227888584136963, 2.2266478538513184, 2.2273948192596436, 2.209536552429199, 5.3143310546875, 5.272895336151123, 4.563506603240967, 4.559718132019043, 1.4702649116516113, 1.4702649116516113, 1.4702647924423218, 1.4702647924423218, 1.470264196395874, 1.4702646732330322, 1.4702643156051636, 1.4702645540237427, 1.4702640771865845, 1.4702643156051636, 1.4702643156051636, 1.4702638387680054, 1.4702646732330322, 1.470263957977295, 1.4702637195587158, 9.938629150390625, 3.7979846000671387, 6.037131309509277, 17.20117950439453, 11.516616821289062, 7.620229244232178, 10.024857521057129, 16.406518936157227, 9.634069442749023, 8.693765640258789, 20.73406982421875, 2.257932186126709, 3.2876548767089844, 2.9933249950408936, 2.9933767318725586, 54.7430534362793, 8.370379447937012, 12.605289459228516, 26.676504135131836, 52.53226852416992, 13.905448913574219, 19.78192901611328, 9.343817710876465, 5.86893367767334, 20.07430648803711, 10.982084274291992, 10.16183090209961, 27.76496696472168, 11.503300666809082, 15.749530792236328, 1.726575255393982, 1.776068925857544, 1.2189607620239258, 1.2189618349075317, 1.2189617156982422, 1.2189631462097168, 1.218963384628296, 1.219297170639038, 1.2193939685821533, 1.219473123550415, 1.219545602798462, 1.2195816040039062, 1.2196898460388184, 1.219834566116333, 1.2203052043914795, 1.2203119993209839, 1.2204511165618896, 1.220448613166809, 1.220465898513794, 1.220462441444397, 1.2204716205596924, 1.2205216884613037, 1.220568299293518, 1.2207175493240356, 1.2207248210906982, 1.221052646636963, 1.2213308811187744, 1.2213504314422607, 1.2214653491973877, 1.2214930057525635, 5.074387550354004, 6.7456955909729, 5.298343181610107, 9.634069442749023, 3.3184070587158203, 3.373048782348633, 3.2876548767089844, 4.138926982879639, 9.35781478881836, 11.503300666809082, 11.793060302734375, 10.982084274291992, 14.97805118560791, 6.352267265319824, 6.402921676635742, 26.676504135131836, 5.748264312744141, 16.444530487060547, 8.693765640258789, 52.53226852416992, 16.322383880615234, 54.7430534362793, 20.07430648803711, 5.182790756225586, 6.655355453491211, 17.20117950439453, 4.445519924163818, 10.031882286071777], \"Category\": [\"Default\", \"Default\", \"Default\", \"Default\", \"Default\", \"Default\", \"Default\", \"Default\", \"Default\", \"Default\", \"Default\", \"Default\", \"Default\", \"Default\", \"Default\", \"Default\", \"Default\", \"Default\", \"Default\", \"Default\", \"Default\", \"Default\", \"Default\", \"Default\", \"Default\", \"Default\", \"Default\", \"Default\", \"Default\", \"Default\", \"Topic1\", \"Topic1\", \"Topic1\", \"Topic1\", \"Topic1\", \"Topic1\", \"Topic1\", \"Topic1\", \"Topic1\", \"Topic1\", \"Topic1\", \"Topic1\", \"Topic1\", \"Topic1\", \"Topic1\", \"Topic1\", \"Topic1\", \"Topic1\", \"Topic1\", \"Topic1\", \"Topic1\", \"Topic1\", \"Topic1\", \"Topic1\", \"Topic1\", \"Topic1\", \"Topic1\", \"Topic1\", \"Topic1\", \"Topic1\", \"Topic1\", \"Topic1\", \"Topic1\", \"Topic1\", \"Topic1\", \"Topic1\", \"Topic1\", \"Topic1\", \"Topic1\", \"Topic1\", \"Topic1\", \"Topic1\", \"Topic1\", \"Topic1\", \"Topic1\", \"Topic1\", \"Topic1\", \"Topic1\", \"Topic1\", \"Topic1\", \"Topic1\", \"Topic1\", \"Topic1\", \"Topic1\", \"Topic1\", \"Topic1\", \"Topic1\", \"Topic2\", \"Topic2\", \"Topic2\", \"Topic2\", \"Topic2\", \"Topic2\", \"Topic2\", \"Topic2\", \"Topic2\", \"Topic2\", \"Topic2\", \"Topic2\", \"Topic2\", \"Topic2\", \"Topic2\", \"Topic2\", \"Topic2\", \"Topic2\", \"Topic2\", \"Topic2\", \"Topic2\", \"Topic2\", \"Topic2\", \"Topic2\", \"Topic2\", \"Topic2\", \"Topic2\", \"Topic2\", \"Topic2\", \"Topic2\", \"Topic2\", \"Topic2\", \"Topic2\", \"Topic2\", \"Topic2\", \"Topic2\", \"Topic2\", \"Topic2\", \"Topic2\", \"Topic2\", \"Topic2\", \"Topic2\", \"Topic2\", \"Topic2\", \"Topic2\", \"Topic2\", \"Topic2\", \"Topic2\", \"Topic2\", \"Topic2\", \"Topic2\", \"Topic2\", \"Topic2\", \"Topic2\", \"Topic2\", \"Topic2\", \"Topic2\", \"Topic3\", \"Topic3\", \"Topic3\", \"Topic3\", \"Topic3\", \"Topic3\", \"Topic3\", \"Topic3\", \"Topic3\", \"Topic3\", \"Topic3\", \"Topic3\", \"Topic3\", \"Topic3\", \"Topic3\", \"Topic3\", \"Topic3\", \"Topic3\", \"Topic3\", \"Topic3\", \"Topic3\", \"Topic3\", \"Topic3\", \"Topic3\", \"Topic3\", \"Topic3\", \"Topic3\", \"Topic3\", \"Topic3\", \"Topic3\", \"Topic3\", \"Topic3\", \"Topic3\", \"Topic3\", \"Topic3\", \"Topic3\", \"Topic3\", \"Topic3\", \"Topic3\", \"Topic3\", \"Topic3\", \"Topic3\", \"Topic3\", \"Topic3\", \"Topic3\", \"Topic3\", \"Topic3\", \"Topic3\", \"Topic3\", \"Topic3\", \"Topic3\", \"Topic3\", \"Topic3\", \"Topic3\", \"Topic3\", \"Topic3\", \"Topic3\", \"Topic3\", \"Topic3\", \"Topic3\", \"Topic4\", \"Topic4\", \"Topic4\", \"Topic4\", \"Topic4\", \"Topic4\", \"Topic4\", \"Topic4\", \"Topic4\", \"Topic4\", \"Topic4\", \"Topic4\", \"Topic4\", \"Topic4\", \"Topic4\", \"Topic4\", \"Topic4\", \"Topic4\", \"Topic4\", \"Topic4\", \"Topic4\", \"Topic4\", \"Topic4\", \"Topic4\", \"Topic4\", \"Topic4\", \"Topic4\", \"Topic4\", \"Topic4\", \"Topic4\", \"Topic4\", \"Topic4\", \"Topic4\", \"Topic4\", \"Topic4\", \"Topic4\", \"Topic4\", \"Topic4\", \"Topic4\", \"Topic4\", \"Topic4\", \"Topic4\", \"Topic4\", \"Topic4\", \"Topic4\", \"Topic4\", \"Topic4\", \"Topic4\", \"Topic4\", \"Topic4\", \"Topic4\", \"Topic4\", \"Topic4\", \"Topic4\", \"Topic4\", \"Topic4\", \"Topic4\", \"Topic4\"], \"logprob\": [30.0, 29.0, 28.0, 27.0, 26.0, 25.0, 24.0, 23.0, 22.0, 21.0, 20.0, 19.0, 18.0, 17.0, 16.0, 15.0, 14.0, 13.0, 12.0, 11.0, 10.0, 9.0, 8.0, 7.0, 6.0, 5.0, 4.0, 3.0, 2.0, 1.0, -4.745500087738037, -4.751100063323975, -5.276299953460693, -5.539700031280518, -5.53980016708374, -5.540800094604492, -5.5416998863220215, -5.542200088500977, -5.316699981689453, -5.546299934387207, -5.546500205993652, -5.555300235748291, -5.560299873352051, -5.560500144958496, -5.905799865722656, -5.906799793243408, -5.907400131225586, -5.9079999923706055, -5.908199787139893, -5.908199787139893, -5.908299922943115, -5.910699844360352, -5.910099983215332, -5.910799980163574, -5.912600040435791, -5.062699794769287, -5.938300132751465, -5.94320011138916, -5.301799774169922, -5.958700180053711, -4.498000144958496, -4.0609002113342285, -4.938899993896484, -4.515399932861328, -4.785399913787842, -3.8111000061035156, -4.094600200653076, -4.88640022277832, -4.999800205230713, -3.9563000202178955, -4.662799835205078, -3.4472999572753906, -4.760000228881836, -4.607600212097168, -3.610599994659424, -4.493800163269043, -5.085400104522705, -4.640900135040283, -4.589399814605713, -4.605800151824951, -5.059199810028076, -4.88539981842041, -5.057799816131592, -5.217700004577637, -5.200300216674805, -5.2677998542785645, -5.270100116729736, -5.005799770355225, -5.274099826812744, -5.28000020980835, -5.6417999267578125, -5.6417999267578125, -5.641900062561035, -5.642000198364258, -5.642199993133545, -5.642499923706055, -5.64300012588501, -5.6427998542785645, -5.643499851226807, -5.64709997177124, -5.648499965667725, -5.652100086212158, -4.796599864959717, -5.005799770355225, -4.4741997718811035, -5.275400161743164, -5.273600101470947, -5.274099826812744, -5.274199962615967, -5.274799823760986, -6.229599952697754, -6.229599952697754, -6.229599952697754, -6.229599952697754, -6.229599952697754, -6.229599952697754, -6.229599952697754, -5.295199871063232, -5.043099880218506, -5.6417999267578125, -5.644000053405762, -5.274700164794922, -5.276100158691406, -3.9758999347686768, -4.827899932861328, -4.173500061035156, -4.25629997253418, -3.36680006980896, -3.5446999073028564, -4.057300090789795, -4.621600151062012, -4.470799922943115, -4.62060022354126, -5.006499767303467, -4.639999866485596, -5.0065999031066895, -5.005199909210205, -4.723400115966797, -5.004700183868408, -5.117499828338623, -5.217100143432617, -5.272900104522705, -5.27400016784668, -5.274400234222412, -5.2769999504089355, -5.0553998947143555, -4.355199813842773, -4.473499774932861, -5.6305999755859375, -5.63040018081665, -5.631499767303467, -5.6356000900268555, -5.63700008392334, -5.639599800109863, -5.661900043487549, -4.786200046539307, -4.809599876403809, -4.994800090789795, -4.997799873352051, -6.216700077056885, -6.216700077056885, -6.216700077056885, -6.216700077056885, -6.216700077056885, -6.216700077056885, -6.216700077056885, -6.216700077056885, -6.216700077056885, -6.216700077056885, -6.216700077056885, -6.216700077056885, -6.216700077056885, -6.216700077056885, -6.216700077056885, -4.315800189971924, -5.274700164794922, -4.872399806976318, -3.97979998588562, -4.373300075531006, -4.782100200653076, -4.547399997711182, -4.131199836730957, -4.607600212097168, -4.696400165557861, -3.9667000770568848, -5.856299877166748, -5.5503997802734375, -5.628900051116943, -5.629199981689453, -3.2639000415802, -4.789999961853027, -4.45959997177124, -3.929500102996826, -3.4511001110076904, -4.458899974822998, -4.325500011444092, -4.824399948120117, -5.109000205993652, -4.562699794769287, -4.8805999755859375, -4.989999771118164, -4.735899925231934, -4.991799831390381, -4.967100143432617, -4.889999866485596, -4.982399940490723, -5.474699974060059, -5.474699974060059, -5.474699974060059, -5.474699974060059, -5.474699974060059, -5.475800037384033, -5.476099967956543, -5.476399898529053, -5.476500034332275, -5.4766998291015625, -5.4770002365112305, -5.477399826049805, -5.478499889373779, -5.478600025177002, -5.478899955749512, -5.479000091552734, -5.479000091552734, -5.479000091552734, -5.479100227355957, -5.479100227355957, -5.4791998863220215, -5.479599952697754, -5.479700088500977, -5.480899810791016, -5.481599807739258, -5.481599807739258, -5.48199987411499, -5.48199987411499, -4.250899791717529, -4.27239990234375, -4.537600040435791, -4.250400066375732, -4.8927001953125, -4.8867998123168945, -4.9766998291015625, -4.885700225830078, -4.535099983215332, -4.518400192260742, -4.656099796295166, -4.688199996948242, -4.583199977874756, -4.886899948120117, -4.8917999267578125, -4.405300140380859, -4.936500072479248, -4.6554999351501465, -4.8979997634887695, -4.437300205230713, -4.886899948120117, -4.656700134277344, -4.881700038909912, -5.455399990081787, -5.463200092315674, -5.466400146484375, -5.466700077056885, -5.467800140380859], \"loglift\": [30.0, 29.0, 28.0, 27.0, 26.0, 25.0, 24.0, 23.0, 22.0, 21.0, 20.0, 19.0, 18.0, 17.0, 16.0, 15.0, 14.0, 13.0, 12.0, 11.0, 10.0, 9.0, 8.0, 7.0, 6.0, 5.0, 4.0, 3.0, 2.0, 1.0, 0.8769000172615051, 0.8718000054359436, 0.8263999819755554, 0.7926999926567078, 0.7925999760627747, 0.7918000221252441, 0.7906000018119812, 0.7901999950408936, 0.7886999845504761, 0.786300003528595, 0.7860000133514404, 0.7782999873161316, 0.7738999724388123, 0.7731000185012817, 0.7257000207901001, 0.7246999740600586, 0.7242000102996826, 0.7239000201225281, 0.7233999967575073, 0.7233999967575073, 0.7232999801635742, 0.7217000126838684, 0.7215999960899353, 0.7213000059127808, 0.7203999757766724, 0.7056999802589417, 0.6949999928474426, 0.6908000111579895, 0.6836000084877014, 0.6759999990463257, 0.6495000123977661, 0.6377000212669373, 0.5853000283241272, 0.49779999256134033, 0.5364000201225281, 0.3562999963760376, 0.3970000147819519, 0.5306000113487244, 0.5442000031471252, 0.25099998712539673, 0.42309999465942383, 0.08240000158548355, 0.4253000020980835, 0.34940001368522644, -0.12210000306367874, 0.24050000309944153, 0.4794999957084656, 0.1436000019311905, 0.10400000214576721, -0.14640000462532043, 0.11320000141859055, -0.19439999759197235, -0.03420000150799751, 0.03869999945163727, -0.6938999891281128, -0.17299999296665192, -0.41130000352859497, 1.1562000513076782, 1.1145999431610107, 1.1086000204086304, 1.0404000282287598, 1.0403000116348267, 1.0403000116348267, 1.0401999950408936, 1.0400999784469604, 1.0396000146865845, 1.0394999980926514, 1.0392999649047852, 1.038599967956543, 1.035099983215332, 1.0338000059127808, 1.0295000076293945, 1.0266000032424927, 1.0253000259399414, 1.0148999691009521, 0.8889999985694885, 0.8733999729156494, 0.8726000189781189, 0.8725000023841858, 0.8719000220298767, 0.8698999881744385, 0.8698999881744385, 0.8698999881744385, 0.8698999881744385, 0.8698999881744385, 0.8698999881744385, 0.8698999881744385, 0.8680999875068665, 0.815500020980835, 0.8371000289916992, 0.8348000049591064, 0.7613000273704529, 0.7466999888420105, 0.5303999781608582, 0.6560999751091003, 0.4726000130176544, 0.43479999899864197, 0.1216999962925911, -0.014999999664723873, 0.11010000109672546, 0.4268999993801117, 0.31369999051094055, 0.23819999396800995, 0.5375000238418579, 0.09430000185966492, 0.2639999985694885, 0.24969999492168427, -0.26409998536109924, 0.01889999955892563, -0.07020000368356705, -0.7254999876022339, -0.574400007724762, -0.26080000400543213, 0.3212999999523163, 1.1198999881744385, 1.1122000217437744, 1.111199975013733, 1.0986000299453735, 1.059999942779541, 1.0598000288009644, 1.059399962425232, 1.0543999671936035, 1.0535999536514282, 1.0506999492645264, 1.0363999605178833, 1.034500002861023, 1.0189000368118286, 0.9782000184059143, 0.9760000109672546, 0.8888999819755554, 0.8888999819755554, 0.8888999819755554, 0.8888999819755554, 0.8888999819755554, 0.8888999819755554, 0.8888999819755554, 0.8888999819755554, 0.8888999819755554, 0.8888999819755554, 0.8888999819755554, 0.8888999819755554, 0.8888999819755554, 0.8888999819755554, 0.8888999819755554, 0.8788999915122986, 0.8819000124931335, 0.8206999897956848, 0.6662999987602234, 0.6740000247955322, 0.6782000064849854, 0.6385999917984009, 0.5623000264167786, 0.6182000041007996, 0.6320000290870667, 0.4925999939441681, 0.8203999996185303, 0.7505000233650208, 0.7657999992370605, 0.7653999924659729, 0.22450000047683716, 0.5763999819755554, 0.4973999857902527, 0.2777999937534332, 0.07850000262260437, 0.39989998936653137, 0.1808999925851822, 0.4320000112056732, 0.6123999953269958, -0.07100000232458115, 0.2142000049352646, 0.18250000476837158, -0.5685999989509583, 0.056699998676776886, -0.23280000686645508, 2.0548999309539795, 1.9342999458312988, 1.8184000253677368, 1.8184000253677368, 1.8184000253677368, 1.8184000253677368, 1.8184000253677368, 1.8171000480651855, 1.8166999816894531, 1.8163000345230103, 1.816100001335144, 1.8158999681472778, 1.815500020980835, 1.815000057220459, 1.8135000467300415, 1.8134000301361084, 1.8128999471664429, 1.8128999471664429, 1.8128999471664429, 1.8128000497817993, 1.8128000497817993, 1.8127000331878662, 1.8125, 1.8121000528335571, 1.812000036239624, 1.8105000257492065, 1.8095999956130981, 1.809499979019165, 1.8091000318527222, 1.809000015258789, 1.6159000396728516, 1.3098000288009644, 1.2861000299453735, 0.9753000140190125, 1.398900032043457, 1.3884999752044678, 1.3242000341415405, 1.184999942779541, 0.7197999954223633, 0.5299999713897705, 0.3675000071525574, 0.4066999852657318, 0.2012999951839447, 0.7554000020027161, 0.7425000071525574, -0.1979999989271164, 0.8057000041007996, 0.035599999129772186, 0.430400013923645, -0.9075999855995178, -0.1882999986410141, -1.1683000326156616, -0.39010000228881836, 0.3903999924659729, 0.13249999284744263, -0.8202999830245972, 0.5325000286102295, -0.2824999988079071]}, \"token.table\": {\"Topic\": [4, 3, 1, 2, 3, 4, 1, 2, 2, 1, 2, 3, 1, 2, 3, 4, 2, 4, 1, 4, 4, 1, 3, 3, 4, 1, 2, 3, 4, 1, 3, 1, 2, 3, 4, 4, 3, 1, 3, 1, 2, 3, 4, 2, 4, 1, 3, 4, 1, 3, 4, 1, 2, 2, 3, 2, 1, 2, 3, 1, 2, 3, 2, 3, 4, 3, 1, 2, 3, 2, 1, 3, 4, 4, 3, 4, 4, 2, 4, 1, 2, 3, 1, 2, 1, 2, 3, 3, 1, 3, 2, 1, 4, 1, 1, 4, 2, 1, 3, 1, 2, 3, 2, 2, 3, 1, 2, 3, 4, 1, 4, 4, 1, 2, 3, 1, 4, 1, 3, 1, 1, 2, 3, 2, 2, 1, 2, 3, 4, 1, 2, 3, 1, 3, 1, 2, 3, 1, 1, 2, 3, 4, 1, 2, 3, 3, 1, 1, 2, 3, 4, 1, 1, 2, 3, 1, 2, 3, 4, 4, 1, 1, 1, 2, 3, 1, 3, 1, 2, 3, 2, 1, 2, 4, 1, 2, 3, 4, 2, 2, 3, 4, 2, 3, 1, 1, 2, 3, 4, 1, 2, 3, 4, 1, 2, 3, 4, 2, 4, 3, 4, 1, 1, 3, 4, 3, 1, 1, 3, 4, 1, 2, 3, 1, 2, 3, 4, 4, 1, 2, 4, 3, 2, 1, 2, 3, 2, 3, 2, 3, 4, 1, 2, 4, 2, 3, 1, 1, 2, 4, 1, 2, 4, 3, 1, 3, 4, 1, 1, 2, 3, 2, 3, 4, 3, 1, 2, 3, 4, 1, 2, 3, 4, 1, 3, 2, 3, 1, 2, 3, 4, 1, 1, 2, 3, 1, 2, 4, 1, 2, 3, 1, 2, 3, 4, 4, 2, 1, 2, 3, 4, 3, 4, 1, 2, 3, 4, 1, 2, 4, 4, 1, 2, 3, 4, 2, 3, 4, 3, 1, 2, 3, 4, 1, 2, 2, 3, 4, 1, 1, 1, 3, 4, 3, 1, 2, 3, 4, 1, 2, 4, 1, 4, 2, 2, 4, 1, 2, 3, 4, 1], \"Freq\": [0.8203691840171814, 0.6801497936248779, 0.20220474898815155, 0.4549606740474701, 0.30330711603164673, 0.05055118724703789, 0.26070597767829895, 0.5214119553565979, 0.8907591700553894, 0.428073525428772, 0.428073525428772, 0.14269118010997772, 0.23004990816116333, 0.11502495408058167, 0.46009981632232666, 0.11502495408058167, 0.7267735004425049, 0.36338675022125244, 0.6655720472335815, 0.22185733914375305, 0.8203709721565247, 0.44288310408592224, 0.44288310408592224, 0.6801495552062988, 0.820079505443573, 0.304052472114563, 0.4256734549999237, 0.18243147432804108, 0.06081049144268036, 0.9428454637527466, 0.6801496744155884, 0.10379830002784729, 0.20759660005569458, 0.5189914703369141, 0.20759660005569458, 0.8200262784957886, 0.6801496744155884, 0.26329752802848816, 0.5265950560569763, 0.15742410719394684, 0.3148482143878937, 0.3148482143878937, 0.15742410719394684, 0.69668048620224, 0.23222683370113373, 0.21931180357933044, 0.657935380935669, 0.8193691372871399, 0.1881704330444336, 0.7526817321777344, 0.818965494632721, 0.9419430494308472, 0.6759611368179321, 0.5307087898254395, 0.2653543949127197, 0.6759611964225769, 0.5079516172409058, 0.3174697756767273, 0.19048187136650085, 0.7678632140159607, 0.19196580350399017, 0.09598290175199509, 0.8907811641693115, 0.6083363890647888, 0.3041681945323944, 0.9051672220230103, 0.20123499631881714, 0.20123499631881714, 0.6037049889564514, 0.8906409740447998, 0.4447280466556549, 0.29648536443710327, 0.29648536443710327, 0.8193615674972534, 0.6801500916481018, 0.8193553686141968, 0.8199775218963623, 0.8906720876693726, 0.5630412101745605, 0.2992561161518097, 0.1995040774345398, 0.4987601935863495, 0.26068440079689026, 0.5213688015937805, 0.5414585471153259, 0.18048618733882904, 0.27072927355766296, 0.6801496744155884, 0.8471848964691162, 0.8978675603866577, 0.8906702995300293, 0.8466283679008484, 0.8194625377655029, 0.7484424710273743, 0.9415861368179321, 0.8191854357719421, 0.6759611368179321, 0.7133936285972595, 0.28535744547843933, 0.17366211116313934, 0.2604931592941284, 0.5209863185882568, 0.7941251993179321, 0.6759610772132874, 0.8982111811637878, 0.30050987005233765, 0.30050987005233765, 0.30050987005233765, 0.15025493502616882, 0.5929353833198547, 0.29646769165992737, 0.5791812539100647, 0.68550044298172, 0.2285001575946808, 0.1142500787973404, 0.8467749357223511, 0.8203693628311157, 0.14675474166870117, 0.7337737083435059, 0.750447154045105, 0.23893779516220093, 0.23893779516220093, 0.47787559032440186, 0.8906727433204651, 0.890701949596405, 0.4673505127429962, 0.40058615803718567, 0.06676436215639114, 0.1335287243127823, 0.8488074541091919, 0.7545394897460938, 0.18863487243652344, 0.13202950358390808, 0.7921770811080933, 0.5874602198600769, 0.16784578561782837, 0.16784578561782837, 0.9433215856552124, 0.735186755657196, 0.12253112345933914, 0.06126556172966957, 0.06126556172966957, 0.2876570224761963, 0.35957127809524536, 0.35957127809524536, 0.8982268571853638, 0.8467521667480469, 0.26077547669410706, 0.5215509533882141, 0.6801498532295227, 0.8186702728271484, 0.9417229294776917, 0.39362984895706177, 0.19681492447853088, 0.2952224016189575, 0.6283460855484009, 0.2513384521007538, 0.6801496148109436, 0.8193592429161072, 0.8198805451393127, 0.9416317939758301, 0.9418404698371887, 0.8466827273368835, 0.3340708911418915, 0.668141782283783, 0.6994137167930603, 0.2797654867172241, 0.4266596734523773, 0.12190276384353638, 0.4876110553741455, 0.6759613752365112, 0.5827845931053162, 0.2913922965526581, 0.14569614827632904, 0.41879022121429443, 0.26650285720825195, 0.28553879261016846, 0.03807183727622032, 0.8907142877578735, 0.40694883465766907, 0.5232199430465698, 0.05813554674386978, 0.3340766429901123, 0.6681532859802246, 0.8467497825622559, 0.17038869857788086, 0.17038869857788086, 0.5111660957336426, 0.17038869857788086, 0.3123573958873749, 0.3123573958873749, 0.3123573958873749, 0.15617869794368744, 0.5218966603279114, 0.17396555840969086, 0.17396555840969086, 0.17396555840969086, 0.6640892624855042, 0.8199533224105835, 0.8984348177909851, 0.8193217515945435, 0.9259361028671265, 0.19706811010837555, 0.3941362202167511, 0.3941362202167511, 0.6801495552062988, 0.8470314145088196, 0.219129741191864, 0.657389223575592, 0.8193708062171936, 0.3256528377532959, 0.3256528377532959, 0.3256528377532959, 0.33760857582092285, 0.19291919469833374, 0.4340681731700897, 0.048229798674583435, 0.8187658190727234, 0.23030878603458405, 0.4606175720691681, 0.23030878603458405, 0.6801496148109436, 0.6759609580039978, 0.5402491688728333, 0.2881328761577606, 0.1440664380788803, 0.6759610772132874, 0.680150032043457, 0.3774764835834503, 0.18873824179172516, 0.3774764835834503, 0.8474626541137695, 0.7268005013465881, 0.36340025067329407, 0.8906959891319275, 0.7986322045326233, 0.8479476571083069, 0.1350608468055725, 0.8103650808334351, 0.1350608468055725, 0.2606954276561737, 0.5213908553123474, 0.8194671273231506, 0.8977109789848328, 0.6748366951942444, 0.2249455600976944, 0.2249455600976944, 0.9418538808822632, 0.13122965395450592, 0.26245930790901184, 0.5249186158180237, 0.18964913487434387, 0.7585965394973755, 0.8192905187606812, 0.897909939289093, 0.32880884408950806, 0.31054168939590454, 0.32880884408950806, 0.018267158418893814, 0.487320214509964, 0.07497233897447586, 0.33737555146217346, 0.07497233897447586, 0.8467444181442261, 0.6801499724388123, 0.5301246047019958, 0.2650623023509979, 0.17386314272880554, 0.43465784192085266, 0.2607946991920471, 0.17386314272880554, 0.8493797779083252, 0.8481578826904297, 0.33128318190574646, 0.6625663638114929, 0.4832170307636261, 0.24160851538181305, 0.24160851538181305, 0.42809054255485535, 0.21404527127742767, 0.42809054255485535, 0.38589248061180115, 0.19294624030590057, 0.19294624030590057, 0.19294624030590057, 0.8191903233528137, 0.6640943288803101, 0.36422958970069885, 0.18211479485034943, 0.36422958970069885, 0.09105739742517471, 0.6696268916130066, 0.8197832703590393, 0.26877081394195557, 0.5375416278839111, 0.13438540697097778, 0.13438540697097778, 0.19543273746967316, 0.5862982273101807, 0.19543273746967316, 0.8203703165054321, 0.3205876648426056, 0.3205876648426056, 0.10686255246400833, 0.21372510492801666, 0.4667702317237854, 0.2333851158618927, 0.2333851158618927, 0.6801497936248779, 0.3391825258731842, 0.25438690185546875, 0.25438690185546875, 0.08479563146829605, 0.7143118977546692, 0.1785779744386673, 0.8909540772438049, 0.6801499128341675, 0.8201445937156677, 0.9428245425224304, 0.9416900873184204, 0.5553224086761475, 0.39665886759757996, 0.8203702569007874, 0.6801497936248779, 0.5479641556739807, 0.14944475889205933, 0.24907460808753967, 0.049814920872449875, 0.301349401473999, 0.301349401473999, 0.301349401473999, 0.9263932704925537, 0.8186888098716736, 0.8902387022972107, 0.890640139579773, 0.818778932094574, 0.5980931520462036, 0.19936437904834747, 0.09968218952417374, 0.09968218952417374, 0.8468432426452637], \"Term\": [\"affordable\", \"age\", \"also\", \"also\", \"also\", \"also\", \"amazing\", \"amazing\", \"arcade\", \"area\", \"area\", \"area\", \"available\", \"available\", \"available\", \"available\", \"away\", \"away\", \"back\", \"back\", \"bag\", \"bar\", \"bar\", \"basically\", \"better\", \"big\", \"big\", \"big\", \"big\", \"bit\", \"bonus\", \"brand\", \"brand\", \"brand\", \"brand\", \"bring\", \"budget\", \"bus\", \"bus\", \"buy\", \"buy\", \"buy\", \"buy\", \"cafe\", \"cafe\", \"car\", \"car\", \"catering\", \"center\", \"center\", \"certain\", \"character\", \"choise\", \"choose\", \"choose\", \"chrismas\", \"cinema\", \"cinema\", \"cinema\", \"clean\", \"clean\", \"clean\", \"close\", \"clothe\", \"clothe\", \"clothing\", \"coffee\", \"coffee\", \"coffee\", \"cold\", \"come\", \"come\", \"come\", \"common\", \"construction\", \"cool\", \"corner\", \"couple\", \"course\", \"court\", \"court\", \"court\", \"crowd\", \"crowd\", \"day\", \"day\", \"day\", \"dealer\", \"decent\", \"decorate\", \"decoration\", \"definitely\", \"dictate\", \"different\", \"disabled\", \"door\", \"double\", \"easy\", \"easy\", \"eat\", \"eat\", \"eat\", \"enough\", \"equipment\", \"european\", \"even\", \"even\", \"even\", \"even\", \"ever\", \"ever\", \"example\", \"experience\", \"experience\", \"experience\", \"faceless\", \"fair\", \"family\", \"family\", \"fashion\", \"fast\", \"fast\", \"fast\", \"feel\", \"finally\", \"find\", \"find\", \"find\", \"find\", \"first\", \"forever\", \"forever\", \"free\", \"free\", \"get\", \"get\", \"get\", \"give\", \"go\", \"go\", \"go\", \"go\", \"great\", \"great\", \"great\", \"help\", \"helpful\", \"however\", \"however\", \"ideal\", \"importation\", \"interesting\", \"kid\", \"kid\", \"kid\", \"large\", \"large\", \"late\", \"length\", \"less\", \"level\", \"limited\", \"local\", \"long\", \"long\", \"look\", \"look\", \"lot\", \"lot\", \"lot\", \"maintain\", \"make\", \"make\", \"make\", \"mall\", \"mall\", \"mall\", \"mall\", \"manage\", \"many\", \"many\", \"many\", \"meeting\", \"meeting\", \"morning\", \"much\", \"much\", \"much\", \"much\", \"need\", \"need\", \"need\", \"need\", \"next\", \"next\", \"next\", \"next\", \"nicosia\", \"nowadays\", \"number\", \"occasionally\", \"offer\", \"ok\", \"ok\", \"ok\", \"opening\", \"organised\", \"outlet\", \"outlet\", \"ouzo\", \"park\", \"park\", \"park\", \"parking\", \"parking\", \"parking\", \"parking\", \"part\", \"people\", \"people\", \"people\", \"perfect\", \"picture\", \"place\", \"place\", \"place\", \"playing\", \"present\", \"price\", \"price\", \"price\", \"probably\", \"problem\", \"problem\", \"put\", \"range\", \"rather\", \"really\", \"really\", \"really\", \"renovation\", \"renovation\", \"replace\", \"sale\", \"say\", \"say\", \"say\", \"screen\", \"see\", \"see\", \"see\", \"selection\", \"selection\", \"self\", \"sell\", \"shop\", \"shop\", \"shop\", \"shop\", \"shopping\", \"shopping\", \"shopping\", \"shopping\", \"show\", \"shpos\", \"size\", \"size\", \"small\", \"small\", \"small\", \"small\", \"sometimes\", \"sound\", \"space\", \"space\", \"special\", \"special\", \"special\", \"spend\", \"spend\", \"spend\", \"standard\", \"standard\", \"standard\", \"standard\", \"staying\", \"still\", \"store\", \"store\", \"store\", \"store\", \"style\", \"sun\", \"supermarket\", \"supermarket\", \"supermarket\", \"supermarket\", \"take\", \"take\", \"take\", \"theater\", \"thing\", \"thing\", \"thing\", \"thing\", \"think\", \"think\", \"think\", \"tidy\", \"time\", \"time\", \"time\", \"time\", \"toilet\", \"toilet\", \"tourist\", \"traditional\", \"travel\", \"type\", \"typical\", \"variety\", \"variety\", \"vendor\", \"vicinity\", \"visit\", \"visit\", \"visit\", \"visit\", \"walk\", \"walk\", \"walk\", \"want\", \"warn\", \"way\", \"weekday\", \"weekly\", \"well\", \"well\", \"well\", \"well\", \"wheelchair\"]}, \"R\": 30, \"lambda.step\": 0.01, \"plot.opts\": {\"xlab\": \"PC1\", \"ylab\": \"PC2\"}, \"topic.order\": [3, 1, 4, 2]};\n",
       "\n",
       "function LDAvis_load_lib(url, callback){\n",
       "  var s = document.createElement('script');\n",
       "  s.src = url;\n",
       "  s.async = true;\n",
       "  s.onreadystatechange = s.onload = callback;\n",
       "  s.onerror = function(){console.warn(\"failed to load library \" + url);};\n",
       "  document.getElementsByTagName(\"head\")[0].appendChild(s);\n",
       "}\n",
       "\n",
       "if(typeof(LDAvis) !== \"undefined\"){\n",
       "   // already loaded: just create the visualization\n",
       "   !function(LDAvis){\n",
       "       new LDAvis(\"#\" + \"ldavis_el1208022487581075929495693975\", ldavis_el1208022487581075929495693975_data);\n",
       "   }(LDAvis);\n",
       "}else if(typeof define === \"function\" && define.amd){\n",
       "   // require.js is available: use it to load d3/LDAvis\n",
       "   require.config({paths: {d3: \"https://cdnjs.cloudflare.com/ajax/libs/d3/3.5.5/d3.min\"}});\n",
       "   require([\"d3\"], function(d3){\n",
       "      window.d3 = d3;\n",
       "      LDAvis_load_lib(\"https://cdn.rawgit.com/bmabey/pyLDAvis/files/ldavis.v1.0.0.js\", function(){\n",
       "        new LDAvis(\"#\" + \"ldavis_el1208022487581075929495693975\", ldavis_el1208022487581075929495693975_data);\n",
       "      });\n",
       "    });\n",
       "}else{\n",
       "    // require.js not available: dynamically load d3 & LDAvis\n",
       "    LDAvis_load_lib(\"https://cdnjs.cloudflare.com/ajax/libs/d3/3.5.5/d3.min.js\", function(){\n",
       "         LDAvis_load_lib(\"https://cdn.rawgit.com/bmabey/pyLDAvis/files/ldavis.v1.0.0.js\", function(){\n",
       "                 new LDAvis(\"#\" + \"ldavis_el1208022487581075929495693975\", ldavis_el1208022487581075929495693975_data);\n",
       "            })\n",
       "         });\n",
       "}\n",
       "</script>"
      ],
      "text/plain": [
       "PreparedData(topic_coordinates=              x         y  topics  cluster       Freq\n",
       "topic                                                \n",
       "2      0.087344  0.045352       1        1  38.007473\n",
       "0      0.046232 -0.084738       2        1  27.121630\n",
       "3     -0.092225 -0.051486       3        1  26.456257\n",
       "1     -0.041351  0.090873       4        1   8.414631, topic_info=         Term       Freq      Total Category  logprob  loglift\n",
       "129      many  17.000000  17.000000  Default  30.0000  30.0000\n",
       "219     brand   9.000000   9.000000  Default  29.0000  29.0000\n",
       "175      come   6.000000   6.000000  Default  28.0000  28.0000\n",
       "181        ok   5.000000   5.000000  Default  27.0000  27.0000\n",
       "349     price   5.000000   5.000000  Default  26.0000  26.0000\n",
       "..        ...        ...        ...      ...      ...      ...\n",
       "335  standard   0.644366   5.182791   Topic4  -5.4554   0.3904\n",
       "121      even   0.639357   6.655355   Topic4  -5.4632   0.1325\n",
       "129      many   0.637280  17.201180   Topic4  -5.4664  -0.8203\n",
       "211       say   0.637140   4.445520   Topic4  -5.4667   0.5325\n",
       "16       well   0.636395  10.031882   Topic4  -5.4678  -0.2825\n",
       "\n",
       "[262 rows x 6 columns], token_table=      Topic      Freq        Term\n",
       "term                             \n",
       "343       4  0.820369  affordable\n",
       "241       3  0.680150         age\n",
       "27        1  0.202205        also\n",
       "27        2  0.454961        also\n",
       "27        3  0.303307        also\n",
       "...     ...       ...         ...\n",
       "16        1  0.598093        well\n",
       "16        2  0.199364        well\n",
       "16        3  0.099682        well\n",
       "16        4  0.099682        well\n",
       "398       1  0.846843  wheelchair\n",
       "\n",
       "[341 rows x 3 columns], R=30, lambda_step=0.01, plot_opts={'xlab': 'PC1', 'ylab': 'PC2'}, topic_order=[3, 1, 4, 2])"
      ]
     },
     "metadata": {},
     "output_type": "display_data"
    }
   ],
   "source": [
    "plot_model(lda_pos_custom, plot ='topic_model')"
   ]
  },
  {
   "cell_type": "code",
   "execution_count": 15,
   "metadata": {},
   "outputs": [
    {
     "data": {
      "application/vnd.jupyter.widget-view+json": {
       "model_id": "",
       "version_major": 2,
       "version_minor": 0
      },
      "text/plain": [
       "IntProgress(value=0, description='Processing: ', max=25)"
      ]
     },
     "metadata": {},
     "output_type": "display_data"
    },
    {
     "data": {
      "application/vnd.jupyter.widget-view+json": {
       "model_id": "74aed294844245ca96c3d976b69aaa3e",
       "version_major": 2,
       "version_minor": 0
      },
      "text/plain": [
       "Output()"
      ]
     },
     "metadata": {},
     "output_type": "display_data"
    },
    {
     "data": {
      "text/html": [
       "        <script type=\"text/javascript\">\n",
       "        window.PlotlyConfig = {MathJaxConfig: 'local'};\n",
       "        if (window.MathJax) {MathJax.Hub.Config({SVG: {font: \"STIX-Web\"}});}\n",
       "        if (typeof require !== 'undefined') {\n",
       "        require.undef(\"plotly\");\n",
       "        requirejs.config({\n",
       "            paths: {\n",
       "                'plotly': ['https://cdn.plot.ly/plotly-latest.min']\n",
       "            }\n",
       "        });\n",
       "        require(['plotly'], function(Plotly) {\n",
       "            window._Plotly = Plotly;\n",
       "        });\n",
       "        }\n",
       "        </script>\n",
       "        "
      ]
     },
     "metadata": {},
     "output_type": "display_data"
    },
    {
     "data": {
      "application/vnd.plotly.v1+json": {
       "config": {
        "plotlyServerURL": "https://plot.ly"
       },
       "data": [
        {
         "hovertemplate": "Metric=Coherence<br># Topics=%{x}<br>Score=%{y}<extra></extra>",
         "legendgroup": "Coherence",
         "line": {
          "color": "#636efa",
          "dash": "solid",
          "shape": "linear"
         },
         "mode": "lines",
         "name": "Coherence",
         "orientation": "v",
         "showlegend": true,
         "type": "scatter",
         "x": [
          2,
          4,
          8,
          16,
          32,
          64,
          100,
          200,
          300,
          400
         ],
         "xaxis": "x",
         "y": [
          0.3142434272043637,
          0.2822474430991183,
          0.31334385388788694,
          0.36124445363262253,
          0.42895123276892044,
          0.5153374797634073,
          0.5652571616194718,
          0.4971764301177889,
          0.47872945248864446,
          0.4393325946867597
         ],
         "yaxis": "y"
        }
       ],
       "layout": {
        "legend": {
         "title": {
          "text": "Metric"
         },
         "tracegroupgap": 0
        },
        "plot_bgcolor": "rgb(245,245,245)",
        "template": {
         "data": {
          "bar": [
           {
            "error_x": {
             "color": "#2a3f5f"
            },
            "error_y": {
             "color": "#2a3f5f"
            },
            "marker": {
             "line": {
              "color": "#E5ECF6",
              "width": 0.5
             }
            },
            "type": "bar"
           }
          ],
          "barpolar": [
           {
            "marker": {
             "line": {
              "color": "#E5ECF6",
              "width": 0.5
             }
            },
            "type": "barpolar"
           }
          ],
          "carpet": [
           {
            "aaxis": {
             "endlinecolor": "#2a3f5f",
             "gridcolor": "white",
             "linecolor": "white",
             "minorgridcolor": "white",
             "startlinecolor": "#2a3f5f"
            },
            "baxis": {
             "endlinecolor": "#2a3f5f",
             "gridcolor": "white",
             "linecolor": "white",
             "minorgridcolor": "white",
             "startlinecolor": "#2a3f5f"
            },
            "type": "carpet"
           }
          ],
          "choropleth": [
           {
            "colorbar": {
             "outlinewidth": 0,
             "ticks": ""
            },
            "type": "choropleth"
           }
          ],
          "contour": [
           {
            "colorbar": {
             "outlinewidth": 0,
             "ticks": ""
            },
            "colorscale": [
             [
              0,
              "#0d0887"
             ],
             [
              0.1111111111111111,
              "#46039f"
             ],
             [
              0.2222222222222222,
              "#7201a8"
             ],
             [
              0.3333333333333333,
              "#9c179e"
             ],
             [
              0.4444444444444444,
              "#bd3786"
             ],
             [
              0.5555555555555556,
              "#d8576b"
             ],
             [
              0.6666666666666666,
              "#ed7953"
             ],
             [
              0.7777777777777778,
              "#fb9f3a"
             ],
             [
              0.8888888888888888,
              "#fdca26"
             ],
             [
              1,
              "#f0f921"
             ]
            ],
            "type": "contour"
           }
          ],
          "contourcarpet": [
           {
            "colorbar": {
             "outlinewidth": 0,
             "ticks": ""
            },
            "type": "contourcarpet"
           }
          ],
          "heatmap": [
           {
            "colorbar": {
             "outlinewidth": 0,
             "ticks": ""
            },
            "colorscale": [
             [
              0,
              "#0d0887"
             ],
             [
              0.1111111111111111,
              "#46039f"
             ],
             [
              0.2222222222222222,
              "#7201a8"
             ],
             [
              0.3333333333333333,
              "#9c179e"
             ],
             [
              0.4444444444444444,
              "#bd3786"
             ],
             [
              0.5555555555555556,
              "#d8576b"
             ],
             [
              0.6666666666666666,
              "#ed7953"
             ],
             [
              0.7777777777777778,
              "#fb9f3a"
             ],
             [
              0.8888888888888888,
              "#fdca26"
             ],
             [
              1,
              "#f0f921"
             ]
            ],
            "type": "heatmap"
           }
          ],
          "heatmapgl": [
           {
            "colorbar": {
             "outlinewidth": 0,
             "ticks": ""
            },
            "colorscale": [
             [
              0,
              "#0d0887"
             ],
             [
              0.1111111111111111,
              "#46039f"
             ],
             [
              0.2222222222222222,
              "#7201a8"
             ],
             [
              0.3333333333333333,
              "#9c179e"
             ],
             [
              0.4444444444444444,
              "#bd3786"
             ],
             [
              0.5555555555555556,
              "#d8576b"
             ],
             [
              0.6666666666666666,
              "#ed7953"
             ],
             [
              0.7777777777777778,
              "#fb9f3a"
             ],
             [
              0.8888888888888888,
              "#fdca26"
             ],
             [
              1,
              "#f0f921"
             ]
            ],
            "type": "heatmapgl"
           }
          ],
          "histogram": [
           {
            "marker": {
             "colorbar": {
              "outlinewidth": 0,
              "ticks": ""
             }
            },
            "type": "histogram"
           }
          ],
          "histogram2d": [
           {
            "colorbar": {
             "outlinewidth": 0,
             "ticks": ""
            },
            "colorscale": [
             [
              0,
              "#0d0887"
             ],
             [
              0.1111111111111111,
              "#46039f"
             ],
             [
              0.2222222222222222,
              "#7201a8"
             ],
             [
              0.3333333333333333,
              "#9c179e"
             ],
             [
              0.4444444444444444,
              "#bd3786"
             ],
             [
              0.5555555555555556,
              "#d8576b"
             ],
             [
              0.6666666666666666,
              "#ed7953"
             ],
             [
              0.7777777777777778,
              "#fb9f3a"
             ],
             [
              0.8888888888888888,
              "#fdca26"
             ],
             [
              1,
              "#f0f921"
             ]
            ],
            "type": "histogram2d"
           }
          ],
          "histogram2dcontour": [
           {
            "colorbar": {
             "outlinewidth": 0,
             "ticks": ""
            },
            "colorscale": [
             [
              0,
              "#0d0887"
             ],
             [
              0.1111111111111111,
              "#46039f"
             ],
             [
              0.2222222222222222,
              "#7201a8"
             ],
             [
              0.3333333333333333,
              "#9c179e"
             ],
             [
              0.4444444444444444,
              "#bd3786"
             ],
             [
              0.5555555555555556,
              "#d8576b"
             ],
             [
              0.6666666666666666,
              "#ed7953"
             ],
             [
              0.7777777777777778,
              "#fb9f3a"
             ],
             [
              0.8888888888888888,
              "#fdca26"
             ],
             [
              1,
              "#f0f921"
             ]
            ],
            "type": "histogram2dcontour"
           }
          ],
          "mesh3d": [
           {
            "colorbar": {
             "outlinewidth": 0,
             "ticks": ""
            },
            "type": "mesh3d"
           }
          ],
          "parcoords": [
           {
            "line": {
             "colorbar": {
              "outlinewidth": 0,
              "ticks": ""
             }
            },
            "type": "parcoords"
           }
          ],
          "pie": [
           {
            "automargin": true,
            "type": "pie"
           }
          ],
          "scatter": [
           {
            "marker": {
             "colorbar": {
              "outlinewidth": 0,
              "ticks": ""
             }
            },
            "type": "scatter"
           }
          ],
          "scatter3d": [
           {
            "line": {
             "colorbar": {
              "outlinewidth": 0,
              "ticks": ""
             }
            },
            "marker": {
             "colorbar": {
              "outlinewidth": 0,
              "ticks": ""
             }
            },
            "type": "scatter3d"
           }
          ],
          "scattercarpet": [
           {
            "marker": {
             "colorbar": {
              "outlinewidth": 0,
              "ticks": ""
             }
            },
            "type": "scattercarpet"
           }
          ],
          "scattergeo": [
           {
            "marker": {
             "colorbar": {
              "outlinewidth": 0,
              "ticks": ""
             }
            },
            "type": "scattergeo"
           }
          ],
          "scattergl": [
           {
            "marker": {
             "colorbar": {
              "outlinewidth": 0,
              "ticks": ""
             }
            },
            "type": "scattergl"
           }
          ],
          "scattermapbox": [
           {
            "marker": {
             "colorbar": {
              "outlinewidth": 0,
              "ticks": ""
             }
            },
            "type": "scattermapbox"
           }
          ],
          "scatterpolar": [
           {
            "marker": {
             "colorbar": {
              "outlinewidth": 0,
              "ticks": ""
             }
            },
            "type": "scatterpolar"
           }
          ],
          "scatterpolargl": [
           {
            "marker": {
             "colorbar": {
              "outlinewidth": 0,
              "ticks": ""
             }
            },
            "type": "scatterpolargl"
           }
          ],
          "scatterternary": [
           {
            "marker": {
             "colorbar": {
              "outlinewidth": 0,
              "ticks": ""
             }
            },
            "type": "scatterternary"
           }
          ],
          "surface": [
           {
            "colorbar": {
             "outlinewidth": 0,
             "ticks": ""
            },
            "colorscale": [
             [
              0,
              "#0d0887"
             ],
             [
              0.1111111111111111,
              "#46039f"
             ],
             [
              0.2222222222222222,
              "#7201a8"
             ],
             [
              0.3333333333333333,
              "#9c179e"
             ],
             [
              0.4444444444444444,
              "#bd3786"
             ],
             [
              0.5555555555555556,
              "#d8576b"
             ],
             [
              0.6666666666666666,
              "#ed7953"
             ],
             [
              0.7777777777777778,
              "#fb9f3a"
             ],
             [
              0.8888888888888888,
              "#fdca26"
             ],
             [
              1,
              "#f0f921"
             ]
            ],
            "type": "surface"
           }
          ],
          "table": [
           {
            "cells": {
             "fill": {
              "color": "#EBF0F8"
             },
             "line": {
              "color": "white"
             }
            },
            "header": {
             "fill": {
              "color": "#C8D4E3"
             },
             "line": {
              "color": "white"
             }
            },
            "type": "table"
           }
          ]
         },
         "layout": {
          "annotationdefaults": {
           "arrowcolor": "#2a3f5f",
           "arrowhead": 0,
           "arrowwidth": 1
          },
          "coloraxis": {
           "colorbar": {
            "outlinewidth": 0,
            "ticks": ""
           }
          },
          "colorscale": {
           "diverging": [
            [
             0,
             "#8e0152"
            ],
            [
             0.1,
             "#c51b7d"
            ],
            [
             0.2,
             "#de77ae"
            ],
            [
             0.3,
             "#f1b6da"
            ],
            [
             0.4,
             "#fde0ef"
            ],
            [
             0.5,
             "#f7f7f7"
            ],
            [
             0.6,
             "#e6f5d0"
            ],
            [
             0.7,
             "#b8e186"
            ],
            [
             0.8,
             "#7fbc41"
            ],
            [
             0.9,
             "#4d9221"
            ],
            [
             1,
             "#276419"
            ]
           ],
           "sequential": [
            [
             0,
             "#0d0887"
            ],
            [
             0.1111111111111111,
             "#46039f"
            ],
            [
             0.2222222222222222,
             "#7201a8"
            ],
            [
             0.3333333333333333,
             "#9c179e"
            ],
            [
             0.4444444444444444,
             "#bd3786"
            ],
            [
             0.5555555555555556,
             "#d8576b"
            ],
            [
             0.6666666666666666,
             "#ed7953"
            ],
            [
             0.7777777777777778,
             "#fb9f3a"
            ],
            [
             0.8888888888888888,
             "#fdca26"
            ],
            [
             1,
             "#f0f921"
            ]
           ],
           "sequentialminus": [
            [
             0,
             "#0d0887"
            ],
            [
             0.1111111111111111,
             "#46039f"
            ],
            [
             0.2222222222222222,
             "#7201a8"
            ],
            [
             0.3333333333333333,
             "#9c179e"
            ],
            [
             0.4444444444444444,
             "#bd3786"
            ],
            [
             0.5555555555555556,
             "#d8576b"
            ],
            [
             0.6666666666666666,
             "#ed7953"
            ],
            [
             0.7777777777777778,
             "#fb9f3a"
            ],
            [
             0.8888888888888888,
             "#fdca26"
            ],
            [
             1,
             "#f0f921"
            ]
           ]
          },
          "colorway": [
           "#636efa",
           "#EF553B",
           "#00cc96",
           "#ab63fa",
           "#FFA15A",
           "#19d3f3",
           "#FF6692",
           "#B6E880",
           "#FF97FF",
           "#FECB52"
          ],
          "font": {
           "color": "#2a3f5f"
          },
          "geo": {
           "bgcolor": "white",
           "lakecolor": "white",
           "landcolor": "#E5ECF6",
           "showlakes": true,
           "showland": true,
           "subunitcolor": "white"
          },
          "hoverlabel": {
           "align": "left"
          },
          "hovermode": "closest",
          "mapbox": {
           "style": "light"
          },
          "paper_bgcolor": "white",
          "plot_bgcolor": "#E5ECF6",
          "polar": {
           "angularaxis": {
            "gridcolor": "white",
            "linecolor": "white",
            "ticks": ""
           },
           "bgcolor": "#E5ECF6",
           "radialaxis": {
            "gridcolor": "white",
            "linecolor": "white",
            "ticks": ""
           }
          },
          "scene": {
           "xaxis": {
            "backgroundcolor": "#E5ECF6",
            "gridcolor": "white",
            "gridwidth": 2,
            "linecolor": "white",
            "showbackground": true,
            "ticks": "",
            "zerolinecolor": "white"
           },
           "yaxis": {
            "backgroundcolor": "#E5ECF6",
            "gridcolor": "white",
            "gridwidth": 2,
            "linecolor": "white",
            "showbackground": true,
            "ticks": "",
            "zerolinecolor": "white"
           },
           "zaxis": {
            "backgroundcolor": "#E5ECF6",
            "gridcolor": "white",
            "gridwidth": 2,
            "linecolor": "white",
            "showbackground": true,
            "ticks": "",
            "zerolinecolor": "white"
           }
          },
          "shapedefaults": {
           "line": {
            "color": "#2a3f5f"
           }
          },
          "ternary": {
           "aaxis": {
            "gridcolor": "white",
            "linecolor": "white",
            "ticks": ""
           },
           "baxis": {
            "gridcolor": "white",
            "linecolor": "white",
            "ticks": ""
           },
           "bgcolor": "#E5ECF6",
           "caxis": {
            "gridcolor": "white",
            "linecolor": "white",
            "ticks": ""
           }
          },
          "title": {
           "x": 0.05
          },
          "xaxis": {
           "automargin": true,
           "gridcolor": "white",
           "linecolor": "white",
           "ticks": "",
           "title": {
            "standoff": 15
           },
           "zerolinecolor": "white",
           "zerolinewidth": 2
          },
          "yaxis": {
           "automargin": true,
           "gridcolor": "white",
           "linecolor": "white",
           "ticks": "",
           "title": {
            "standoff": 15
           },
           "zerolinecolor": "white",
           "zerolinewidth": 2
          }
         }
        },
        "title": {
         "text": "Coherence Value and # of Topics"
        },
        "xaxis": {
         "anchor": "y",
         "domain": [
          0,
          1
         ],
         "title": {
          "text": "# Topics"
         }
        },
        "yaxis": {
         "anchor": "x",
         "domain": [
          0,
          1
         ],
         "title": {
          "text": "Score"
         }
        }
       }
      },
      "text/html": [
       "<div>\n",
       "        \n",
       "        \n",
       "            <div id=\"77d3bd30-0760-489b-9ded-10fbcb40a933\" class=\"plotly-graph-div\" style=\"height:525px; width:100%;\"></div>\n",
       "            <script type=\"text/javascript\">\n",
       "                require([\"plotly\"], function(Plotly) {\n",
       "                    window.PLOTLYENV=window.PLOTLYENV || {};\n",
       "                    \n",
       "                if (document.getElementById(\"77d3bd30-0760-489b-9ded-10fbcb40a933\")) {\n",
       "                    Plotly.newPlot(\n",
       "                        '77d3bd30-0760-489b-9ded-10fbcb40a933',\n",
       "                        [{\"hovertemplate\": \"Metric=Coherence<br># Topics=%{x}<br>Score=%{y}<extra></extra>\", \"legendgroup\": \"Coherence\", \"line\": {\"color\": \"#636efa\", \"dash\": \"solid\", \"shape\": \"linear\"}, \"mode\": \"lines\", \"name\": \"Coherence\", \"orientation\": \"v\", \"showlegend\": true, \"type\": \"scatter\", \"x\": [2, 4, 8, 16, 32, 64, 100, 200, 300, 400], \"xaxis\": \"x\", \"y\": [0.3142434272043637, 0.2822474430991183, 0.31334385388788694, 0.36124445363262253, 0.42895123276892044, 0.5153374797634073, 0.5652571616194718, 0.4971764301177889, 0.47872945248864446, 0.4393325946867597], \"yaxis\": \"y\"}],\n",
       "                        {\"legend\": {\"title\": {\"text\": \"Metric\"}, \"tracegroupgap\": 0}, \"plot_bgcolor\": \"rgb(245,245,245)\", \"template\": {\"data\": {\"bar\": [{\"error_x\": {\"color\": \"#2a3f5f\"}, \"error_y\": {\"color\": \"#2a3f5f\"}, \"marker\": {\"line\": {\"color\": \"#E5ECF6\", \"width\": 0.5}}, \"type\": \"bar\"}], \"barpolar\": [{\"marker\": {\"line\": {\"color\": \"#E5ECF6\", \"width\": 0.5}}, \"type\": \"barpolar\"}], \"carpet\": [{\"aaxis\": {\"endlinecolor\": \"#2a3f5f\", \"gridcolor\": \"white\", \"linecolor\": \"white\", \"minorgridcolor\": \"white\", \"startlinecolor\": \"#2a3f5f\"}, \"baxis\": {\"endlinecolor\": \"#2a3f5f\", \"gridcolor\": \"white\", \"linecolor\": \"white\", \"minorgridcolor\": \"white\", \"startlinecolor\": \"#2a3f5f\"}, \"type\": \"carpet\"}], \"choropleth\": [{\"colorbar\": {\"outlinewidth\": 0, \"ticks\": \"\"}, \"type\": \"choropleth\"}], \"contour\": [{\"colorbar\": {\"outlinewidth\": 0, \"ticks\": \"\"}, \"colorscale\": [[0.0, \"#0d0887\"], [0.1111111111111111, \"#46039f\"], [0.2222222222222222, \"#7201a8\"], [0.3333333333333333, \"#9c179e\"], [0.4444444444444444, \"#bd3786\"], [0.5555555555555556, \"#d8576b\"], [0.6666666666666666, \"#ed7953\"], [0.7777777777777778, \"#fb9f3a\"], [0.8888888888888888, \"#fdca26\"], [1.0, \"#f0f921\"]], \"type\": \"contour\"}], \"contourcarpet\": [{\"colorbar\": {\"outlinewidth\": 0, \"ticks\": \"\"}, \"type\": \"contourcarpet\"}], \"heatmap\": [{\"colorbar\": {\"outlinewidth\": 0, \"ticks\": \"\"}, \"colorscale\": [[0.0, \"#0d0887\"], [0.1111111111111111, \"#46039f\"], [0.2222222222222222, \"#7201a8\"], [0.3333333333333333, \"#9c179e\"], [0.4444444444444444, \"#bd3786\"], [0.5555555555555556, \"#d8576b\"], [0.6666666666666666, \"#ed7953\"], [0.7777777777777778, \"#fb9f3a\"], [0.8888888888888888, \"#fdca26\"], [1.0, \"#f0f921\"]], \"type\": \"heatmap\"}], \"heatmapgl\": [{\"colorbar\": {\"outlinewidth\": 0, \"ticks\": \"\"}, \"colorscale\": [[0.0, \"#0d0887\"], [0.1111111111111111, \"#46039f\"], [0.2222222222222222, \"#7201a8\"], [0.3333333333333333, \"#9c179e\"], [0.4444444444444444, \"#bd3786\"], [0.5555555555555556, \"#d8576b\"], [0.6666666666666666, \"#ed7953\"], [0.7777777777777778, \"#fb9f3a\"], [0.8888888888888888, \"#fdca26\"], [1.0, \"#f0f921\"]], \"type\": \"heatmapgl\"}], \"histogram\": [{\"marker\": {\"colorbar\": {\"outlinewidth\": 0, \"ticks\": \"\"}}, \"type\": \"histogram\"}], \"histogram2d\": [{\"colorbar\": {\"outlinewidth\": 0, \"ticks\": \"\"}, \"colorscale\": [[0.0, \"#0d0887\"], [0.1111111111111111, \"#46039f\"], [0.2222222222222222, \"#7201a8\"], [0.3333333333333333, \"#9c179e\"], [0.4444444444444444, \"#bd3786\"], [0.5555555555555556, \"#d8576b\"], [0.6666666666666666, \"#ed7953\"], [0.7777777777777778, \"#fb9f3a\"], [0.8888888888888888, \"#fdca26\"], [1.0, \"#f0f921\"]], \"type\": \"histogram2d\"}], \"histogram2dcontour\": [{\"colorbar\": {\"outlinewidth\": 0, \"ticks\": \"\"}, \"colorscale\": [[0.0, \"#0d0887\"], [0.1111111111111111, \"#46039f\"], [0.2222222222222222, \"#7201a8\"], [0.3333333333333333, \"#9c179e\"], [0.4444444444444444, \"#bd3786\"], [0.5555555555555556, \"#d8576b\"], [0.6666666666666666, \"#ed7953\"], [0.7777777777777778, \"#fb9f3a\"], [0.8888888888888888, \"#fdca26\"], [1.0, \"#f0f921\"]], \"type\": \"histogram2dcontour\"}], \"mesh3d\": [{\"colorbar\": {\"outlinewidth\": 0, \"ticks\": \"\"}, \"type\": \"mesh3d\"}], \"parcoords\": [{\"line\": {\"colorbar\": {\"outlinewidth\": 0, \"ticks\": \"\"}}, \"type\": \"parcoords\"}], \"pie\": [{\"automargin\": true, \"type\": \"pie\"}], \"scatter\": [{\"marker\": {\"colorbar\": {\"outlinewidth\": 0, \"ticks\": \"\"}}, \"type\": \"scatter\"}], \"scatter3d\": [{\"line\": {\"colorbar\": {\"outlinewidth\": 0, \"ticks\": \"\"}}, \"marker\": {\"colorbar\": {\"outlinewidth\": 0, \"ticks\": \"\"}}, \"type\": \"scatter3d\"}], \"scattercarpet\": [{\"marker\": {\"colorbar\": {\"outlinewidth\": 0, \"ticks\": \"\"}}, \"type\": \"scattercarpet\"}], \"scattergeo\": [{\"marker\": {\"colorbar\": {\"outlinewidth\": 0, \"ticks\": \"\"}}, \"type\": \"scattergeo\"}], \"scattergl\": [{\"marker\": {\"colorbar\": {\"outlinewidth\": 0, \"ticks\": \"\"}}, \"type\": \"scattergl\"}], \"scattermapbox\": [{\"marker\": {\"colorbar\": {\"outlinewidth\": 0, \"ticks\": \"\"}}, \"type\": \"scattermapbox\"}], \"scatterpolar\": [{\"marker\": {\"colorbar\": {\"outlinewidth\": 0, \"ticks\": \"\"}}, \"type\": \"scatterpolar\"}], \"scatterpolargl\": [{\"marker\": {\"colorbar\": {\"outlinewidth\": 0, \"ticks\": \"\"}}, \"type\": \"scatterpolargl\"}], \"scatterternary\": [{\"marker\": {\"colorbar\": {\"outlinewidth\": 0, \"ticks\": \"\"}}, \"type\": \"scatterternary\"}], \"surface\": [{\"colorbar\": {\"outlinewidth\": 0, \"ticks\": \"\"}, \"colorscale\": [[0.0, \"#0d0887\"], [0.1111111111111111, \"#46039f\"], [0.2222222222222222, \"#7201a8\"], [0.3333333333333333, \"#9c179e\"], [0.4444444444444444, \"#bd3786\"], [0.5555555555555556, \"#d8576b\"], [0.6666666666666666, \"#ed7953\"], [0.7777777777777778, \"#fb9f3a\"], [0.8888888888888888, \"#fdca26\"], [1.0, \"#f0f921\"]], \"type\": \"surface\"}], \"table\": [{\"cells\": {\"fill\": {\"color\": \"#EBF0F8\"}, \"line\": {\"color\": \"white\"}}, \"header\": {\"fill\": {\"color\": \"#C8D4E3\"}, \"line\": {\"color\": \"white\"}}, \"type\": \"table\"}]}, \"layout\": {\"annotationdefaults\": {\"arrowcolor\": \"#2a3f5f\", \"arrowhead\": 0, \"arrowwidth\": 1}, \"coloraxis\": {\"colorbar\": {\"outlinewidth\": 0, \"ticks\": \"\"}}, \"colorscale\": {\"diverging\": [[0, \"#8e0152\"], [0.1, \"#c51b7d\"], [0.2, \"#de77ae\"], [0.3, \"#f1b6da\"], [0.4, \"#fde0ef\"], [0.5, \"#f7f7f7\"], [0.6, \"#e6f5d0\"], [0.7, \"#b8e186\"], [0.8, \"#7fbc41\"], [0.9, \"#4d9221\"], [1, \"#276419\"]], \"sequential\": [[0.0, \"#0d0887\"], [0.1111111111111111, \"#46039f\"], [0.2222222222222222, \"#7201a8\"], [0.3333333333333333, \"#9c179e\"], [0.4444444444444444, \"#bd3786\"], [0.5555555555555556, \"#d8576b\"], [0.6666666666666666, \"#ed7953\"], [0.7777777777777778, \"#fb9f3a\"], [0.8888888888888888, \"#fdca26\"], [1.0, \"#f0f921\"]], \"sequentialminus\": [[0.0, \"#0d0887\"], [0.1111111111111111, \"#46039f\"], [0.2222222222222222, \"#7201a8\"], [0.3333333333333333, \"#9c179e\"], [0.4444444444444444, \"#bd3786\"], [0.5555555555555556, \"#d8576b\"], [0.6666666666666666, \"#ed7953\"], [0.7777777777777778, \"#fb9f3a\"], [0.8888888888888888, \"#fdca26\"], [1.0, \"#f0f921\"]]}, \"colorway\": [\"#636efa\", \"#EF553B\", \"#00cc96\", \"#ab63fa\", \"#FFA15A\", \"#19d3f3\", \"#FF6692\", \"#B6E880\", \"#FF97FF\", \"#FECB52\"], \"font\": {\"color\": \"#2a3f5f\"}, \"geo\": {\"bgcolor\": \"white\", \"lakecolor\": \"white\", \"landcolor\": \"#E5ECF6\", \"showlakes\": true, \"showland\": true, \"subunitcolor\": \"white\"}, \"hoverlabel\": {\"align\": \"left\"}, \"hovermode\": \"closest\", \"mapbox\": {\"style\": \"light\"}, \"paper_bgcolor\": \"white\", \"plot_bgcolor\": \"#E5ECF6\", \"polar\": {\"angularaxis\": {\"gridcolor\": \"white\", \"linecolor\": \"white\", \"ticks\": \"\"}, \"bgcolor\": \"#E5ECF6\", \"radialaxis\": {\"gridcolor\": \"white\", \"linecolor\": \"white\", \"ticks\": \"\"}}, \"scene\": {\"xaxis\": {\"backgroundcolor\": \"#E5ECF6\", \"gridcolor\": \"white\", \"gridwidth\": 2, \"linecolor\": \"white\", \"showbackground\": true, \"ticks\": \"\", \"zerolinecolor\": \"white\"}, \"yaxis\": {\"backgroundcolor\": \"#E5ECF6\", \"gridcolor\": \"white\", \"gridwidth\": 2, \"linecolor\": \"white\", \"showbackground\": true, \"ticks\": \"\", \"zerolinecolor\": \"white\"}, \"zaxis\": {\"backgroundcolor\": \"#E5ECF6\", \"gridcolor\": \"white\", \"gridwidth\": 2, \"linecolor\": \"white\", \"showbackground\": true, \"ticks\": \"\", \"zerolinecolor\": \"white\"}}, \"shapedefaults\": {\"line\": {\"color\": \"#2a3f5f\"}}, \"ternary\": {\"aaxis\": {\"gridcolor\": \"white\", \"linecolor\": \"white\", \"ticks\": \"\"}, \"baxis\": {\"gridcolor\": \"white\", \"linecolor\": \"white\", \"ticks\": \"\"}, \"bgcolor\": \"#E5ECF6\", \"caxis\": {\"gridcolor\": \"white\", \"linecolor\": \"white\", \"ticks\": \"\"}}, \"title\": {\"x\": 0.05}, \"xaxis\": {\"automargin\": true, \"gridcolor\": \"white\", \"linecolor\": \"white\", \"ticks\": \"\", \"title\": {\"standoff\": 15}, \"zerolinecolor\": \"white\", \"zerolinewidth\": 2}, \"yaxis\": {\"automargin\": true, \"gridcolor\": \"white\", \"linecolor\": \"white\", \"ticks\": \"\", \"title\": {\"standoff\": 15}, \"zerolinecolor\": \"white\", \"zerolinewidth\": 2}}}, \"title\": {\"text\": \"Coherence Value and # of Topics\"}, \"xaxis\": {\"anchor\": \"y\", \"domain\": [0.0, 1.0], \"title\": {\"text\": \"# Topics\"}}, \"yaxis\": {\"anchor\": \"x\", \"domain\": [0.0, 1.0], \"title\": {\"text\": \"Score\"}}},\n",
       "                        {\"responsive\": true}\n",
       "                    ).then(function(){\n",
       "                            \n",
       "var gd = document.getElementById('77d3bd30-0760-489b-9ded-10fbcb40a933');\n",
       "var x = new MutationObserver(function (mutations, observer) {{\n",
       "        var display = window.getComputedStyle(gd).display;\n",
       "        if (!display || display === 'none') {{\n",
       "            console.log([gd, 'removed!']);\n",
       "            Plotly.purge(gd);\n",
       "            observer.disconnect();\n",
       "        }}\n",
       "}});\n",
       "\n",
       "// Listen for the removal of the full notebook cells\n",
       "var notebookContainer = gd.closest('#notebook-container');\n",
       "if (notebookContainer) {{\n",
       "    x.observe(notebookContainer, {childList: true});\n",
       "}}\n",
       "\n",
       "// Listen for the clearing of the current output cell\n",
       "var outputEl = gd.closest('.output');\n",
       "if (outputEl) {{\n",
       "    x.observe(outputEl, {childList: true});\n",
       "}}\n",
       "\n",
       "                        })\n",
       "                };\n",
       "                });\n",
       "            </script>\n",
       "        </div>"
      ]
     },
     "metadata": {},
     "output_type": "display_data"
    },
    {
     "name": "stdout",
     "output_type": "stream",
     "text": [
      "Best Model: Latent Dirichlet Allocation | # Topics: 100 | Coherence: 0.5653\n"
     ]
    }
   ],
   "source": [
    "tune_lda_positive = tune_model(model='lda', supervised_target=None, estimator='xgboost')"
   ]
  },
  {
   "cell_type": "markdown",
   "metadata": {},
   "source": [
    "16 topics selected"
   ]
  },
  {
   "cell_type": "code",
   "execution_count": 16,
   "metadata": {},
   "outputs": [
    {
     "name": "stdout",
     "output_type": "stream",
     "text": [
      "LdaModel(num_terms=593, num_topics=2, decay=0.5, chunksize=100)\n"
     ]
    }
   ],
   "source": [
    "lda_pos_tuned = create_model('lda', num_topics=2)\n",
    "print(lda_pos_tuned)"
   ]
  },
  {
   "cell_type": "code",
   "execution_count": 17,
   "metadata": {},
   "outputs": [
    {
     "data": {
      "text/html": [
       "<div>\n",
       "<style scoped>\n",
       "    .dataframe tbody tr th:only-of-type {\n",
       "        vertical-align: middle;\n",
       "    }\n",
       "\n",
       "    .dataframe tbody tr th {\n",
       "        vertical-align: top;\n",
       "    }\n",
       "\n",
       "    .dataframe thead th {\n",
       "        text-align: right;\n",
       "    }\n",
       "</style>\n",
       "<table border=\"1\" class=\"dataframe\">\n",
       "  <thead>\n",
       "    <tr style=\"text-align: right;\">\n",
       "      <th></th>\n",
       "      <th>Unnamed: 0</th>\n",
       "      <th>r_points</th>\n",
       "      <th>r_text</th>\n",
       "      <th>place</th>\n",
       "      <th>scores</th>\n",
       "      <th>compound</th>\n",
       "      <th>score</th>\n",
       "      <th>Topic_0</th>\n",
       "      <th>Topic_1</th>\n",
       "      <th>Dominant_Topic</th>\n",
       "      <th>Perc_Dominant_Topic</th>\n",
       "    </tr>\n",
       "  </thead>\n",
       "  <tbody>\n",
       "    <tr>\n",
       "      <th>0</th>\n",
       "      <td>0</td>\n",
       "      <td>40</td>\n",
       "      <td>place go often park place plenty crowdy time u...</td>\n",
       "      <td>The Mall of Cyprus</td>\n",
       "      <td>{'neg': 0.0, 'neu': 0.742, 'pos': 0.258, 'comp...</td>\n",
       "      <td>0.7067</td>\n",
       "      <td>pos</td>\n",
       "      <td>0.991084</td>\n",
       "      <td>0.008916</td>\n",
       "      <td>Topic 0</td>\n",
       "      <td>0.99</td>\n",
       "    </tr>\n",
       "    <tr>\n",
       "      <th>1</th>\n",
       "      <td>1</td>\n",
       "      <td>40</td>\n",
       "      <td>typical modern shopping well organised place m...</td>\n",
       "      <td>The Mall of Cyprus</td>\n",
       "      <td>{'neg': 0.0, 'neu': 0.697, 'pos': 0.303, 'comp...</td>\n",
       "      <td>0.7264</td>\n",
       "      <td>pos</td>\n",
       "      <td>0.013471</td>\n",
       "      <td>0.986529</td>\n",
       "      <td>Topic 1</td>\n",
       "      <td>0.99</td>\n",
       "    </tr>\n",
       "    <tr>\n",
       "      <th>2</th>\n",
       "      <td>2</td>\n",
       "      <td>30</td>\n",
       "      <td>stop mall small large store cinema court great...</td>\n",
       "      <td>The Mall of Cyprus</td>\n",
       "      <td>{'neg': 0.052, 'neu': 0.87, 'pos': 0.079, 'com...</td>\n",
       "      <td>0.2500</td>\n",
       "      <td>pos</td>\n",
       "      <td>0.991084</td>\n",
       "      <td>0.008916</td>\n",
       "      <td>Topic 0</td>\n",
       "      <td>0.99</td>\n",
       "    </tr>\n",
       "    <tr>\n",
       "      <th>3</th>\n",
       "      <td>3</td>\n",
       "      <td>40</td>\n",
       "      <td>totally change amazing especially sit outside ...</td>\n",
       "      <td>The Mall of Cyprus</td>\n",
       "      <td>{'neg': 0.0, 'neu': 0.804, 'pos': 0.196, 'comp...</td>\n",
       "      <td>0.8511</td>\n",
       "      <td>pos</td>\n",
       "      <td>0.991878</td>\n",
       "      <td>0.008122</td>\n",
       "      <td>Topic 0</td>\n",
       "      <td>0.99</td>\n",
       "    </tr>\n",
       "    <tr>\n",
       "      <th>4</th>\n",
       "      <td>5</td>\n",
       "      <td>40</td>\n",
       "      <td>finally renovation finish shop choose beverage...</td>\n",
       "      <td>The Mall of Cyprus</td>\n",
       "      <td>{'neg': 0.08, 'neu': 0.795, 'pos': 0.126, 'com...</td>\n",
       "      <td>0.8517</td>\n",
       "      <td>pos</td>\n",
       "      <td>0.998349</td>\n",
       "      <td>0.001651</td>\n",
       "      <td>Topic 0</td>\n",
       "      <td>1.00</td>\n",
       "    </tr>\n",
       "    <tr>\n",
       "      <th>...</th>\n",
       "      <td>...</td>\n",
       "      <td>...</td>\n",
       "      <td>...</td>\n",
       "      <td>...</td>\n",
       "      <td>...</td>\n",
       "      <td>...</td>\n",
       "      <td>...</td>\n",
       "      <td>...</td>\n",
       "      <td>...</td>\n",
       "      <td>...</td>\n",
       "      <td>...</td>\n",
       "    </tr>\n",
       "    <tr>\n",
       "      <th>83</th>\n",
       "      <td>98</td>\n",
       "      <td>30</td>\n",
       "      <td>huge mall see big city town size bad variation...</td>\n",
       "      <td>The Mall of Cyprus</td>\n",
       "      <td>{'neg': 0.018, 'neu': 0.934, 'pos': 0.049, 'co...</td>\n",
       "      <td>0.5553</td>\n",
       "      <td>pos</td>\n",
       "      <td>0.996880</td>\n",
       "      <td>0.003120</td>\n",
       "      <td>Topic 0</td>\n",
       "      <td>1.00</td>\n",
       "    </tr>\n",
       "    <tr>\n",
       "      <th>84</th>\n",
       "      <td>100</td>\n",
       "      <td>40</td>\n",
       "      <td>many shop shop big shop small</td>\n",
       "      <td>The Mall of Cyprus</td>\n",
       "      <td>{'neg': 0.0, 'neu': 0.845, 'pos': 0.155, 'comp...</td>\n",
       "      <td>0.4798</td>\n",
       "      <td>pos</td>\n",
       "      <td>0.985358</td>\n",
       "      <td>0.014642</td>\n",
       "      <td>Topic 0</td>\n",
       "      <td>0.99</td>\n",
       "    </tr>\n",
       "    <tr>\n",
       "      <th>85</th>\n",
       "      <td>101</td>\n",
       "      <td>40</td>\n",
       "      <td>locate city center reach course car public bus...</td>\n",
       "      <td>The Mall of Cyprus</td>\n",
       "      <td>{'neg': 0.0, 'neu': 0.862, 'pos': 0.138, 'comp...</td>\n",
       "      <td>0.8715</td>\n",
       "      <td>pos</td>\n",
       "      <td>0.004873</td>\n",
       "      <td>0.995127</td>\n",
       "      <td>Topic 1</td>\n",
       "      <td>1.00</td>\n",
       "    </tr>\n",
       "    <tr>\n",
       "      <th>86</th>\n",
       "      <td>103</td>\n",
       "      <td>40</td>\n",
       "      <td>long mall shop king mall open however still mo...</td>\n",
       "      <td>The Mall of Cyprus</td>\n",
       "      <td>{'neg': 0.034, 'neu': 0.819, 'pos': 0.147, 'co...</td>\n",
       "      <td>0.8074</td>\n",
       "      <td>pos</td>\n",
       "      <td>0.994380</td>\n",
       "      <td>0.005620</td>\n",
       "      <td>Topic 0</td>\n",
       "      <td>0.99</td>\n",
       "    </tr>\n",
       "    <tr>\n",
       "      <th>87</th>\n",
       "      <td>104</td>\n",
       "      <td>50</td>\n",
       "      <td>even winter rain cold even summer high tempera...</td>\n",
       "      <td>The Mall of Cyprus</td>\n",
       "      <td>{'neg': 0.0, 'neu': 0.796, 'pos': 0.204, 'comp...</td>\n",
       "      <td>0.9719</td>\n",
       "      <td>pos</td>\n",
       "      <td>0.998069</td>\n",
       "      <td>0.001931</td>\n",
       "      <td>Topic 0</td>\n",
       "      <td>1.00</td>\n",
       "    </tr>\n",
       "  </tbody>\n",
       "</table>\n",
       "<p>88 rows × 11 columns</p>\n",
       "</div>"
      ],
      "text/plain": [
       "    Unnamed: 0  r_points                                             r_text  \\\n",
       "0            0        40  place go often park place plenty crowdy time u...   \n",
       "1            1        40  typical modern shopping well organised place m...   \n",
       "2            2        30  stop mall small large store cinema court great...   \n",
       "3            3        40  totally change amazing especially sit outside ...   \n",
       "4            5        40  finally renovation finish shop choose beverage...   \n",
       "..         ...       ...                                                ...   \n",
       "83          98        30  huge mall see big city town size bad variation...   \n",
       "84         100        40                      many shop shop big shop small   \n",
       "85         101        40  locate city center reach course car public bus...   \n",
       "86         103        40  long mall shop king mall open however still mo...   \n",
       "87         104        50  even winter rain cold even summer high tempera...   \n",
       "\n",
       "                 place                                             scores  \\\n",
       "0   The Mall of Cyprus  {'neg': 0.0, 'neu': 0.742, 'pos': 0.258, 'comp...   \n",
       "1   The Mall of Cyprus  {'neg': 0.0, 'neu': 0.697, 'pos': 0.303, 'comp...   \n",
       "2   The Mall of Cyprus  {'neg': 0.052, 'neu': 0.87, 'pos': 0.079, 'com...   \n",
       "3   The Mall of Cyprus  {'neg': 0.0, 'neu': 0.804, 'pos': 0.196, 'comp...   \n",
       "4   The Mall of Cyprus  {'neg': 0.08, 'neu': 0.795, 'pos': 0.126, 'com...   \n",
       "..                 ...                                                ...   \n",
       "83  The Mall of Cyprus  {'neg': 0.018, 'neu': 0.934, 'pos': 0.049, 'co...   \n",
       "84  The Mall of Cyprus  {'neg': 0.0, 'neu': 0.845, 'pos': 0.155, 'comp...   \n",
       "85  The Mall of Cyprus  {'neg': 0.0, 'neu': 0.862, 'pos': 0.138, 'comp...   \n",
       "86  The Mall of Cyprus  {'neg': 0.034, 'neu': 0.819, 'pos': 0.147, 'co...   \n",
       "87  The Mall of Cyprus  {'neg': 0.0, 'neu': 0.796, 'pos': 0.204, 'comp...   \n",
       "\n",
       "    compound score   Topic_0   Topic_1 Dominant_Topic  Perc_Dominant_Topic  \n",
       "0     0.7067   pos  0.991084  0.008916        Topic 0                 0.99  \n",
       "1     0.7264   pos  0.013471  0.986529        Topic 1                 0.99  \n",
       "2     0.2500   pos  0.991084  0.008916        Topic 0                 0.99  \n",
       "3     0.8511   pos  0.991878  0.008122        Topic 0                 0.99  \n",
       "4     0.8517   pos  0.998349  0.001651        Topic 0                 1.00  \n",
       "..       ...   ...       ...       ...            ...                  ...  \n",
       "83    0.5553   pos  0.996880  0.003120        Topic 0                 1.00  \n",
       "84    0.4798   pos  0.985358  0.014642        Topic 0                 0.99  \n",
       "85    0.8715   pos  0.004873  0.995127        Topic 1                 1.00  \n",
       "86    0.8074   pos  0.994380  0.005620        Topic 0                 0.99  \n",
       "87    0.9719   pos  0.998069  0.001931        Topic 0                 1.00  \n",
       "\n",
       "[88 rows x 11 columns]"
      ]
     },
     "execution_count": 17,
     "metadata": {},
     "output_type": "execute_result"
    }
   ],
   "source": [
    "apply_tuned_pos = assign_model(lda_pos_tuned)\n",
    "apply_tuned_pos"
   ]
  },
  {
   "cell_type": "code",
   "execution_count": 18,
   "metadata": {},
   "outputs": [
    {
     "data": {
      "application/vnd.jupyter.widget-view+json": {
       "model_id": "d85ca2ca82ce428e9d3dc8759742344e",
       "version_major": 2,
       "version_minor": 0
      },
      "text/plain": [
       "interactive(children=(ToggleButtons(description='Plot Type:', icons=('',), options=(('Frequency Plot', 'freque…"
      ]
     },
     "metadata": {},
     "output_type": "display_data"
    }
   ],
   "source": [
    "evaluate_model(lda_pos_tuned)"
   ]
  },
  {
   "cell_type": "code",
   "execution_count": 19,
   "metadata": {},
   "outputs": [
    {
     "data": {
      "text/html": [
       "        <script type=\"text/javascript\">\n",
       "        window.PlotlyConfig = {MathJaxConfig: 'local'};\n",
       "        if (window.MathJax) {MathJax.Hub.Config({SVG: {font: \"STIX-Web\"}});}\n",
       "        if (typeof require !== 'undefined') {\n",
       "        require.undef(\"plotly\");\n",
       "        requirejs.config({\n",
       "            paths: {\n",
       "                'plotly': ['https://cdn.plot.ly/plotly-latest.min']\n",
       "            }\n",
       "        });\n",
       "        require(['plotly'], function(Plotly) {\n",
       "            window._Plotly = Plotly;\n",
       "        });\n",
       "        }\n",
       "        </script>\n",
       "        "
      ]
     },
     "metadata": {},
     "output_type": "display_data"
    },
    {
     "data": {
      "text/html": [
       "\n",
       "<link rel=\"stylesheet\" type=\"text/css\" href=\"https://cdn.rawgit.com/bmabey/pyLDAvis/files/ldavis.v1.0.0.css\">\n",
       "\n",
       "\n",
       "<div id=\"ldavis_el1208022487808894162079097705\"></div>\n",
       "<script type=\"text/javascript\">\n",
       "\n",
       "var ldavis_el1208022487808894162079097705_data = {\"mdsDat\": {\"x\": [-0.01635144400627199, 0.01635144400627199], \"y\": [0.05161739797894925, -0.05161739797894925], \"topics\": [1, 2], \"cluster\": [1, 1], \"Freq\": [65.07474517822266, 34.92525100708008]}, \"tinfo\": {\"Term\": [\"shopping\", \"mall\", \"come\", \"place\", \"say\", \"look\", \"easy\", \"include\", \"condition\", \"clothe\", \"get\", \"next\", \"ok\", \"offer\", \"spend\", \"city\", \"new\", \"typical\", \"character\", \"expect\", \"interesting\", \"air\", \"attraction\", \"maybe\", \"find\", \"store\", \"standard\", \"ever\", \"compare\", \"try\", \"spend\", \"area\", \"forever\", \"place\", \"enough\", \"usually\", \"crowd\", \"busy\", \"enjoy\", \"renovation\", \"huge\", \"size\", \"amazing\", \"day\", \"love\", \"still\", \"underground\", \"outside\", \"lunch\", \"summer\", \"often\", \"always\", \"stop\", \"wife\", \"disabled\", \"nicosia\", \"level\", \"use\", \"limited\", \"long\", \"grocery\", \"variety\", \"large\", \"shop\", \"great\", \"many\", \"court\", \"parking\", \"go\", \"coffee\", \"cinema\", \"also\", \"time\", \"space\", \"plenty\", \"kid\", \"mall\", \"visit\", \"big\", \"supermarket\", \"eat\", \"available\", \"really\", \"lot\", \"clean\", \"shopping\", \"small\", \"find\", \"brand\", \"fast\", \"park\", \"include\", \"condition\", \"clothe\", \"typical\", \"character\", \"expect\", \"interesting\", \"air\", \"attraction\", \"maybe\", \"say\", \"come\", \"course\", \"apart\", \"centre\", \"faceless\", \"example\", \"organised\", \"search\", \"pick\", \"probably\", \"break\", \"sale\", \"rather\", \"sense\", \"fully\", \"sell\", \"european\", \"discount\", \"certain\", \"city\", \"look\", \"easy\", \"new\", \"shopping\", \"next\", \"mall\", \"ok\", \"offer\", \"get\", \"find\", \"store\", \"ever\", \"standard\", \"lot\", \"compare\", \"try\", \"walk\", \"well\", \"price\", \"shop\", \"visit\", \"big\", \"small\", \"thing\", \"much\", \"brand\", \"also\", \"parking\", \"free\", \"eat\", \"go\", \"experience\", \"many\"], \"Freq\": [25.0, 50.0, 6.0, 27.0, 4.0, 6.0, 6.0, 3.0, 3.0, 3.0, 10.0, 5.0, 5.0, 5.0, 9.0, 4.0, 4.0, 2.0, 2.0, 2.0, 2.0, 2.0, 2.0, 2.0, 14.0, 11.0, 5.0, 3.0, 3.0, 3.0, 9.157414436340332, 6.77565860748291, 5.178337574005127, 25.761404037475586, 3.5891077518463135, 3.5887739658355713, 3.587852716445923, 3.5875003337860107, 3.5870256423950195, 3.5851855278015137, 3.5816824436187744, 3.580359697341919, 3.578831911087036, 9.971054077148438, 2.792114496231079, 2.792102098464966, 2.7919464111328125, 2.7917709350585938, 2.791658639907837, 2.791297435760498, 2.790074110031128, 2.7897090911865234, 2.789078712463379, 2.789034366607666, 2.788994312286377, 2.788992404937744, 2.7875354290008545, 2.7873144149780273, 2.7861125469207764, 2.784447193145752, 3.478532552719116, 10.799473762512207, 6.734399318695068, 42.85793685913086, 11.702537536621094, 14.728870391845703, 8.417842864990234, 16.404048919677734, 13.007185935974121, 8.327030181884766, 12.380046844482422, 15.618809700012207, 9.925201416015625, 5.189620494842529, 5.183602809906006, 7.628228664398193, 29.88213348388672, 13.17588996887207, 10.823984146118164, 5.9932708740234375, 8.058985710144043, 6.764077663421631, 5.897364616394043, 9.606822967529297, 6.819379806518555, 12.713669776916504, 7.491533279418945, 8.42591381072998, 6.819326877593994, 5.980161190032959, 6.016024589538574, 3.0358715057373047, 3.032017707824707, 3.0103654861450195, 2.3684892654418945, 2.3654391765594482, 2.365183115005493, 2.3649935722351074, 2.3634531497955322, 2.3631632328033447, 2.3624541759490967, 3.5010855197906494, 5.739075183868408, 1.6932564973831177, 1.6920320987701416, 1.6914868354797363, 1.691478967666626, 1.6912868022918701, 1.6908308267593384, 1.690287709236145, 1.6896250247955322, 1.6891725063323975, 1.6887462139129639, 1.6887092590332031, 1.688417911529541, 1.6883269548416138, 1.6880683898925781, 1.687178134918213, 1.6869471073150635, 1.6756746768951416, 1.0161263942718506, 3.042466640472412, 4.4268012046813965, 4.373885154724121, 3.033942699432373, 12.920917510986328, 3.753126859664917, 20.704387664794922, 3.7303779125213623, 3.6995959281921387, 5.72085428237915, 6.397566318511963, 5.193381309509277, 2.4199256896972656, 3.0315518379211426, 6.072479248046875, 2.3768229484558105, 2.37251353263855, 2.3715269565582275, 4.405799388885498, 3.1901028156280518, 11.719779968261719, 6.430075645446777, 5.7166242599487305, 4.4805216789245605, 3.7223312854766846, 3.04518985748291, 3.696079969406128, 4.355860233306885, 4.366724014282227, 3.1597118377685547, 3.3211166858673096, 3.1853280067443848, 3.0637693405151367, 3.0786852836608887], \"Total\": [25.0, 50.0, 6.0, 27.0, 4.0, 6.0, 6.0, 3.0, 3.0, 3.0, 10.0, 5.0, 5.0, 5.0, 9.0, 4.0, 4.0, 2.0, 2.0, 2.0, 2.0, 2.0, 2.0, 2.0, 14.0, 11.0, 5.0, 3.0, 3.0, 3.0, 9.513161659240723, 7.120898246765137, 5.52462100982666, 27.603857040405273, 3.9295694828033447, 3.9295177459716797, 3.9293787479400635, 3.929325819015503, 3.929253339767456, 3.9289751052856445, 3.928445816040039, 3.928246021270752, 3.9280142784118652, 10.991092681884766, 3.131682872772217, 3.131681203842163, 3.1316568851470947, 3.131629705429077, 3.1316139698028564, 3.131559371948242, 3.131373643875122, 3.1313185691833496, 3.131223440170288, 3.1312177181243896, 3.131211042404175, 3.1312103271484375, 3.1309900283813477, 3.130955696105957, 3.1307740211486816, 3.1305224895477295, 3.9128501415252686, 12.47131061553955, 7.7922043800354, 54.57771682739258, 13.96280288696289, 17.80755615234375, 10.079066276550293, 20.77077293395996, 16.192514419555664, 10.065359115600586, 15.420259475708008, 19.97467041015625, 12.339365005493164, 6.203851699829102, 6.202946186065674, 9.959890365600586, 50.58652114868164, 19.60596466064453, 16.540607452392578, 7.68034029006958, 11.380102157592773, 9.151871681213379, 7.665868759155273, 15.679302215576172, 9.837814331054688, 25.634586334228516, 11.972055435180664, 14.823480606079102, 10.515406608581543, 8.35595989227295, 9.038969993591309, 3.450493335723877, 3.4511775970458984, 3.4549946784973145, 2.7710816860198975, 2.7716238498687744, 2.7716684341430664, 2.7717018127441406, 2.7719757556915283, 2.772026538848877, 2.7721526622772217, 4.165755748748779, 6.960093975067139, 2.093064546585083, 2.093280076980591, 2.0933775901794434, 2.093379497528076, 2.0934133529663086, 2.093493700027466, 2.093590259552002, 2.0937082767486572, 2.0937881469726562, 2.0938639640808105, 2.0938704013824463, 2.0939226150512695, 2.0939383506774902, 2.0939838886260986, 2.094141721725464, 2.094179630279541, 2.0961804389953613, 1.4153848886489868, 4.247242450714111, 6.395288944244385, 6.40471076965332, 4.248760223388672, 25.634586334228516, 5.7169976234436035, 50.58652114868164, 5.721041202545166, 5.7265214920043945, 10.953542709350586, 14.823480606079102, 11.0472993850708, 3.559828281402588, 5.047220706939697, 15.679302215576172, 3.5675106048583984, 3.5682787895202637, 3.5684545040130615, 9.591209411621094, 5.817066192626953, 54.57771682739258, 19.60596466064453, 16.540607452392578, 11.972055435180664, 9.712698936462402, 5.842837333679199, 10.515406608581543, 19.97467041015625, 20.77077293395996, 7.418570041656494, 11.380102157592773, 16.192514419555664, 8.23366928100586, 17.80755615234375], \"Category\": [\"Default\", \"Default\", \"Default\", \"Default\", \"Default\", \"Default\", \"Default\", \"Default\", \"Default\", \"Default\", \"Default\", \"Default\", \"Default\", \"Default\", \"Default\", \"Default\", \"Default\", \"Default\", \"Default\", \"Default\", \"Default\", \"Default\", \"Default\", \"Default\", \"Default\", \"Default\", \"Default\", \"Default\", \"Default\", \"Default\", \"Topic1\", \"Topic1\", \"Topic1\", \"Topic1\", \"Topic1\", \"Topic1\", \"Topic1\", \"Topic1\", \"Topic1\", \"Topic1\", \"Topic1\", \"Topic1\", \"Topic1\", \"Topic1\", \"Topic1\", \"Topic1\", \"Topic1\", \"Topic1\", \"Topic1\", \"Topic1\", \"Topic1\", \"Topic1\", \"Topic1\", \"Topic1\", \"Topic1\", \"Topic1\", \"Topic1\", \"Topic1\", \"Topic1\", \"Topic1\", \"Topic1\", \"Topic1\", \"Topic1\", \"Topic1\", \"Topic1\", \"Topic1\", \"Topic1\", \"Topic1\", \"Topic1\", \"Topic1\", \"Topic1\", \"Topic1\", \"Topic1\", \"Topic1\", \"Topic1\", \"Topic1\", \"Topic1\", \"Topic1\", \"Topic1\", \"Topic1\", \"Topic1\", \"Topic1\", \"Topic1\", \"Topic1\", \"Topic1\", \"Topic1\", \"Topic1\", \"Topic1\", \"Topic1\", \"Topic1\", \"Topic1\", \"Topic2\", \"Topic2\", \"Topic2\", \"Topic2\", \"Topic2\", \"Topic2\", \"Topic2\", \"Topic2\", \"Topic2\", \"Topic2\", \"Topic2\", \"Topic2\", \"Topic2\", \"Topic2\", \"Topic2\", \"Topic2\", \"Topic2\", \"Topic2\", \"Topic2\", \"Topic2\", \"Topic2\", \"Topic2\", \"Topic2\", \"Topic2\", \"Topic2\", \"Topic2\", \"Topic2\", \"Topic2\", \"Topic2\", \"Topic2\", \"Topic2\", \"Topic2\", \"Topic2\", \"Topic2\", \"Topic2\", \"Topic2\", \"Topic2\", \"Topic2\", \"Topic2\", \"Topic2\", \"Topic2\", \"Topic2\", \"Topic2\", \"Topic2\", \"Topic2\", \"Topic2\", \"Topic2\", \"Topic2\", \"Topic2\", \"Topic2\", \"Topic2\", \"Topic2\", \"Topic2\", \"Topic2\", \"Topic2\", \"Topic2\", \"Topic2\", \"Topic2\", \"Topic2\", \"Topic2\", \"Topic2\", \"Topic2\", \"Topic2\", \"Topic2\"], \"logprob\": [30.0, 29.0, 28.0, 27.0, 26.0, 25.0, 24.0, 23.0, 22.0, 21.0, 20.0, 19.0, 18.0, 17.0, 16.0, 15.0, 14.0, 13.0, 12.0, 11.0, 10.0, 9.0, 8.0, 7.0, 6.0, 5.0, 4.0, 3.0, 2.0, 1.0, -4.84689998626709, -5.148099899291992, -5.416999816894531, -3.8125998973846436, -5.783599853515625, -5.783599853515625, -5.783899784088135, -5.783999919891357, -5.78410005569458, -5.784599781036377, -5.785600185394287, -5.785999774932861, -5.786399841308594, -4.7617998123168945, -6.0346999168396, -6.0346999168396, -6.0346999168396, -6.034800052642822, -6.034800052642822, -6.034900188446045, -6.035399913787842, -6.0355000495910645, -6.035699844360352, -6.035799980163574, -6.035799980163574, -6.035799980163574, -6.036300182342529, -6.036399841308594, -6.036799907684326, -6.037399768829346, -5.814799785614014, -4.682000160217285, -5.154200077056885, -3.3036000728607178, -4.601600170135498, -4.371600151062012, -4.931099891662598, -4.263899803161621, -4.495999813079834, -4.94189977645874, -4.545400142669678, -4.313000202178955, -4.76639986038208, -5.41480016708374, -5.415999889373779, -5.029600143432617, -3.6642000675201416, -4.483099937438965, -4.679699897766113, -5.2708001136779785, -4.974699974060059, -5.149799823760986, -5.286900043487549, -4.798999786376953, -5.14169979095459, -4.518799781799316, -5.047699928283691, -4.930099964141846, -5.14169979095459, -5.2729997634887695, -5.267000198364258, -5.32859992980957, -5.329899787902832, -5.337100028991699, -5.576900005340576, -5.578199863433838, -5.5782999992370605, -5.578400135040283, -5.578999996185303, -5.579100131988525, -5.579400062561035, -5.186100006103516, -4.691800117492676, -5.912499904632568, -5.9131999015808105, -5.91349983215332, -5.91349983215332, -5.913599967956543, -5.913899898529053, -5.9141998291015625, -5.914599895477295, -5.914899826049805, -5.91510009765625, -5.915200233459473, -5.915299892425537, -5.91540002822876, -5.915500164031982, -5.916100025177002, -5.916200160980225, -5.922900199890137, -6.423099994659424, -5.326499938964844, -4.951499938964844, -4.963500022888184, -5.3292999267578125, -3.8803000450134277, -5.116499900817871, -3.408799886703491, -5.122600078582764, -5.130899906158447, -4.695000171661377, -4.583199977874756, -4.7916998863220215, -5.5553998947143555, -5.330100059509277, -4.63539981842041, -5.573400020599365, -5.575200080871582, -5.5756001472473145, -4.956200122833252, -5.279099941253662, -3.977799892425537, -4.578100204467773, -4.695700168609619, -4.9394001960754395, -5.124800205230713, -5.3256001472473145, -5.131899833679199, -4.967599868774414, -4.965099811553955, -5.288599967956543, -5.238800048828125, -5.280600070953369, -5.319499969482422, -5.314599990844727], \"loglift\": [30.0, 29.0, 28.0, 27.0, 26.0, 25.0, 24.0, 23.0, 22.0, 21.0, 20.0, 19.0, 18.0, 17.0, 16.0, 15.0, 14.0, 13.0, 12.0, 11.0, 10.0, 9.0, 8.0, 7.0, 6.0, 5.0, 4.0, 3.0, 2.0, 1.0, 0.39149999618530273, 0.3799000084400177, 0.36489999294281006, 0.36059999465942383, 0.33899998664855957, 0.33889999985694885, 0.33869999647140503, 0.3386000096797943, 0.3384999930858612, 0.33809998631477356, 0.33719998598098755, 0.336899995803833, 0.33649998903274536, 0.33219999074935913, 0.3149000108242035, 0.3149000108242035, 0.3147999942302704, 0.3147999942302704, 0.31470000743865967, 0.31459999084472656, 0.3142000138759613, 0.3140999972820282, 0.3138999938964844, 0.3138999938964844, 0.3138999938964844, 0.3138999938964844, 0.313400000333786, 0.313400000333786, 0.31299999356269836, 0.3125, 0.31200000643730164, 0.2856999933719635, 0.28369998931884766, 0.18790000677108765, 0.2529999911785126, 0.23980000615119934, 0.24950000643730164, 0.19359999895095825, 0.21060000360012054, 0.23999999463558197, 0.20999999344348907, 0.18359999358654022, 0.211899995803833, 0.25110000371932983, 0.2500999867916107, 0.16290000081062317, -0.09679999947547913, 0.03220000118017197, 0.00559999980032444, 0.18160000443458557, 0.08460000157356262, 0.12729999423027039, 0.16740000247955322, -0.06019999831914902, 0.06319999694824219, -0.27160000801086426, -0.03920000046491623, -0.13529999554157257, -0.0034000000450760126, 0.09510000050067902, 0.02250000089406967, 0.9239000082015991, 0.9225000143051147, 0.9142000079154968, 0.8949999809265137, 0.8934999704360962, 0.8934000134468079, 0.8932999968528748, 0.8924999833106995, 0.8924000263214111, 0.8920000195503235, 0.8780999779701233, 0.8590999841690063, 0.8399999737739563, 0.8392000198364258, 0.8388000130653381, 0.8388000130653381, 0.838699996471405, 0.8382999897003174, 0.8379999995231628, 0.8374999761581421, 0.8371999859809875, 0.836899995803833, 0.836899995803833, 0.8367000222206116, 0.8367000222206116, 0.8364999890327454, 0.8359000086784363, 0.8356999754905701, 0.8281000256538391, 0.7206000089645386, 0.7184000015258789, 0.6840999722480774, 0.6705999970436096, 0.7152000069618225, 0.3668999969959259, 0.6310999989509583, 0.15860000252723694, 0.6243000030517578, 0.6151000261306763, 0.4023999869823456, 0.21170000731945038, 0.2971999943256378, 0.6660000085830688, 0.5422000288963318, 0.10339999943971634, 0.6459000110626221, 0.6438000202178955, 0.6434000134468079, 0.27399998903274536, 0.451200008392334, -0.4864000082015991, -0.06289999932050705, -0.010499999858438969, 0.06909999996423721, 0.09290000051259995, 0.400299996137619, 0.006399999838322401, -0.47099998593330383, -0.5076000094413757, 0.19850000739097595, -0.17960000038146973, -0.5740000009536743, 0.06340000033378601, -0.7031999826431274]}, \"token.table\": {\"Topic\": [2, 1, 2, 1, 1, 2, 1, 2, 1, 2, 1, 2, 1, 2, 2, 1, 2, 2, 2, 1, 2, 1, 2, 1, 2, 2, 1, 2, 1, 2, 1, 2, 2, 2, 1, 2, 1, 1, 2, 1, 2, 1, 2, 1, 2, 1, 1, 2, 1, 2, 2, 2, 1, 2, 2, 1, 2, 1, 2, 1, 1, 2, 2, 1, 2, 1, 2, 1, 2, 1, 1, 2, 2, 1, 2, 1, 2, 1, 1, 1, 1, 2, 1, 2, 1, 1, 1, 2, 1, 2, 2, 1, 2, 1, 2, 1, 2, 1, 1, 2, 1, 1, 2, 2, 1, 1, 2, 1, 2, 2, 1, 2, 1, 2, 1, 2, 2, 2, 1, 2, 1, 2, 1, 2, 2, 2, 2, 1, 2, 1, 2, 1, 1, 2, 1, 2, 1, 1, 2, 1, 1, 1, 2, 1, 1, 2, 1, 2, 1, 2, 1, 2, 2, 1, 1, 1, 1, 2, 1, 2, 1, 2, 1, 2, 1], \"Freq\": [0.7215070128440857, 0.8010144829750061, 0.20025362074375153, 0.9580628275871277, 1.0183262825012207, 0.9554383158683777, 0.9830220341682434, 0.7214938402175903, 0.7648708820343018, 0.21853452920913696, 0.6650300025939941, 0.362743616104126, 0.6656898856163025, 0.38039422035217285, 0.9551718831062317, 1.0179862976074219, 0.9553937911987305, 0.7065216302871704, 0.7215986251831055, 0.7781970500946045, 0.19454926252365112, 0.23544688522815704, 0.7063406705856323, 0.711540162563324, 0.30494579672813416, 0.8683081269264221, 0.7948052287101746, 0.19870130717754364, 0.14367622137069702, 0.8620573282241821, 0.28030750155448914, 0.5606150031089783, 0.869268536567688, 0.9555367231369019, 0.7937242984771729, 0.1984310746192932, 1.0179725885391235, 0.9098276495933533, 0.09098276495933533, 0.9580957293510437, 0.9541163444519043, 0.3122701644897461, 0.6245403289794922, 0.7029814124107361, 0.26361802220344543, 1.018005132675171, 1.0179232358932495, 0.9550279378890991, 0.2809124290943146, 0.5618248581886292, 0.9553775191307068, 0.721587061882019, 0.6072626709938049, 0.364357590675354, 0.9553929567337036, 0.7180503606796265, 0.2393501251935959, 0.5396842956542969, 0.40476325154304504, 0.9050394296646118, 0.539187490940094, 0.4043906033039093, 0.9551171660423279, 0.45647332072257996, 0.5477679967880249, 0.8028401136398315, 0.18527080118656158, 0.8594263195991516, 0.14323770999908447, 0.7667045593261719, 1.0182143449783325, 0.8694409132003784, 0.7215783596038818, 0.8032217025756836, 0.2008054256439209, 0.898333728313446, 0.12833338975906372, 0.9581633806228638, 0.9582294821739197, 0.9583064913749695, 0.31273019313812256, 0.6254603862762451, 0.6377834677696228, 0.3826701045036316, 0.9579514265060425, 0.9579724669456482, 0.593043327331543, 0.4151303470134735, 0.842339038848877, 0.16846780478954315, 0.7214609980583191, 0.5134491920471191, 0.5134491920471191, 0.23536278307437897, 0.7060883045196533, 0.34983396530151367, 0.6996679306030273, 0.9580959677696228, 0.3492521643638611, 0.6985043287277222, 0.958046019077301, 0.34958672523498535, 0.6991734504699707, 0.9553408026695251, 0.9579676389694214, 0.6637924313545227, 0.33189621567726135, 0.7703131437301636, 0.1925782859325409, 0.955242931842804, 0.9418973326683044, 0.07245364040136337, 0.8060685992240906, 0.1612137109041214, 0.5157238841056824, 0.5157238841056824, 0.9552064538002014, 0.9551451206207275, 0.782690167427063, 0.2608967125415802, 1.0180772542953491, 0.9551689624786377, 0.2400524765253067, 0.9602099061012268, 0.9552967548370361, 0.955045223236084, 0.9551379680633545, 0.7878673076629639, 0.2198699563741684, 0.5071273446083069, 0.5071273446083069, 1.018266201019287, 0.5846949219703674, 0.33411139249801636, 0.805950939655304, 0.1611901819705963, 0.9460577368736267, 0.3962576985359192, 0.5943865180015564, 0.9579519033432007, 0.9580919742584229, 0.5431191921234131, 0.45259931683540344, 0.9579891562461853, 0.7812153697013855, 0.26040512323379517, 0.617747962474823, 0.41183197498321533, 0.8104144930839539, 0.16208289563655853, 0.28024715185165405, 0.5604943037033081, 0.7217398285865784, 0.9579593539237976, 0.9581738710403442, 1.0179365873336792, 0.8820244073867798, 0.16036807000637054, 0.6630635261535645, 0.3060293197631836, 0.28023335337638855, 0.5604667067527771, 0.5213106870651245, 0.41704854369163513, 0.9580937027931213], \"Term\": [\"air\", \"also\", \"also\", \"always\", \"amazing\", \"apart\", \"area\", \"attraction\", \"available\", \"available\", \"big\", \"big\", \"brand\", \"brand\", \"break\", \"busy\", \"centre\", \"certain\", \"character\", \"cinema\", \"cinema\", \"city\", \"city\", \"clean\", \"clean\", \"clothe\", \"coffee\", \"coffee\", \"come\", \"come\", \"compare\", \"compare\", \"condition\", \"course\", \"court\", \"court\", \"crowd\", \"day\", \"day\", \"disabled\", \"discount\", \"easy\", \"easy\", \"eat\", \"eat\", \"enjoy\", \"enough\", \"european\", \"ever\", \"ever\", \"example\", \"expect\", \"experience\", \"experience\", \"faceless\", \"fast\", \"fast\", \"find\", \"find\", \"forever\", \"free\", \"free\", \"fully\", \"get\", \"get\", \"go\", \"go\", \"great\", \"great\", \"grocery\", \"huge\", \"include\", \"interesting\", \"kid\", \"kid\", \"large\", \"large\", \"level\", \"limited\", \"long\", \"look\", \"look\", \"lot\", \"lot\", \"love\", \"lunch\", \"mall\", \"mall\", \"many\", \"many\", \"maybe\", \"much\", \"much\", \"new\", \"new\", \"next\", \"next\", \"nicosia\", \"offer\", \"offer\", \"often\", \"ok\", \"ok\", \"organised\", \"outside\", \"park\", \"park\", \"parking\", \"parking\", \"pick\", \"place\", \"place\", \"plenty\", \"plenty\", \"price\", \"price\", \"probably\", \"rather\", \"really\", \"really\", \"renovation\", \"sale\", \"say\", \"say\", \"search\", \"sell\", \"sense\", \"shop\", \"shop\", \"shopping\", \"shopping\", \"size\", \"small\", \"small\", \"space\", \"space\", \"spend\", \"standard\", \"standard\", \"still\", \"stop\", \"store\", \"store\", \"summer\", \"supermarket\", \"supermarket\", \"thing\", \"thing\", \"time\", \"time\", \"try\", \"try\", \"typical\", \"underground\", \"use\", \"usually\", \"variety\", \"variety\", \"visit\", \"visit\", \"walk\", \"walk\", \"well\", \"well\", \"wife\"]}, \"R\": 30, \"lambda.step\": 0.01, \"plot.opts\": {\"xlab\": \"PC1\", \"ylab\": \"PC2\"}, \"topic.order\": [1, 2]};\n",
       "\n",
       "function LDAvis_load_lib(url, callback){\n",
       "  var s = document.createElement('script');\n",
       "  s.src = url;\n",
       "  s.async = true;\n",
       "  s.onreadystatechange = s.onload = callback;\n",
       "  s.onerror = function(){console.warn(\"failed to load library \" + url);};\n",
       "  document.getElementsByTagName(\"head\")[0].appendChild(s);\n",
       "}\n",
       "\n",
       "if(typeof(LDAvis) !== \"undefined\"){\n",
       "   // already loaded: just create the visualization\n",
       "   !function(LDAvis){\n",
       "       new LDAvis(\"#\" + \"ldavis_el1208022487808894162079097705\", ldavis_el1208022487808894162079097705_data);\n",
       "   }(LDAvis);\n",
       "}else if(typeof define === \"function\" && define.amd){\n",
       "   // require.js is available: use it to load d3/LDAvis\n",
       "   require.config({paths: {d3: \"https://cdnjs.cloudflare.com/ajax/libs/d3/3.5.5/d3.min\"}});\n",
       "   require([\"d3\"], function(d3){\n",
       "      window.d3 = d3;\n",
       "      LDAvis_load_lib(\"https://cdn.rawgit.com/bmabey/pyLDAvis/files/ldavis.v1.0.0.js\", function(){\n",
       "        new LDAvis(\"#\" + \"ldavis_el1208022487808894162079097705\", ldavis_el1208022487808894162079097705_data);\n",
       "      });\n",
       "    });\n",
       "}else{\n",
       "    // require.js not available: dynamically load d3 & LDAvis\n",
       "    LDAvis_load_lib(\"https://cdnjs.cloudflare.com/ajax/libs/d3/3.5.5/d3.min.js\", function(){\n",
       "         LDAvis_load_lib(\"https://cdn.rawgit.com/bmabey/pyLDAvis/files/ldavis.v1.0.0.js\", function(){\n",
       "                 new LDAvis(\"#\" + \"ldavis_el1208022487808894162079097705\", ldavis_el1208022487808894162079097705_data);\n",
       "            })\n",
       "         });\n",
       "}\n",
       "</script>"
      ],
      "text/plain": [
       "PreparedData(topic_coordinates=              x         y  topics  cluster       Freq\n",
       "topic                                                \n",
       "0     -0.016351  0.051617       1        1  65.074745\n",
       "1      0.016351 -0.051617       2        1  34.925251, topic_info=           Term       Freq      Total Category  logprob  loglift\n",
       "14     shopping  25.000000  25.000000  Default  30.0000  30.0000\n",
       "23         mall  50.000000  50.000000  Default  29.0000  29.0000\n",
       "175        come   6.000000   6.000000  Default  28.0000  28.0000\n",
       "4         place  27.000000  27.000000  Default  27.0000  27.0000\n",
       "211         say   4.000000   4.000000  Default  26.0000  26.0000\n",
       "..          ...        ...        ...      ...      ...      ...\n",
       "151        free   3.159712   7.418570   Topic2  -5.2886   0.1985\n",
       "105         eat   3.321117  11.380102   Topic2  -5.2388  -0.1796\n",
       "1            go   3.185328  16.192514   Topic2  -5.2806  -0.5740\n",
       "9    experience   3.063769   8.233669   Topic2  -5.3195   0.0634\n",
       "129        many   3.078685  17.807556   Topic2  -5.3146  -0.7032\n",
       "\n",
       "[155 rows x 6 columns], token_table=      Topic      Freq     Term\n",
       "term                          \n",
       "473       2  0.721507      air\n",
       "27        1  0.801014     also\n",
       "27        2  0.200254     also\n",
       "235       1  0.958063   always\n",
       "28        1  1.018326  amazing\n",
       "...     ...       ...      ...\n",
       "234       1  0.280233     walk\n",
       "234       2  0.560467     walk\n",
       "16        1  0.521311     well\n",
       "16        2  0.417049     well\n",
       "457       1  0.958094     wife\n",
       "\n",
       "[165 rows x 3 columns], R=30, lambda_step=0.01, plot_opts={'xlab': 'PC1', 'ylab': 'PC2'}, topic_order=[1, 2])"
      ]
     },
     "metadata": {},
     "output_type": "display_data"
    }
   ],
   "source": [
    "plot_model(lda_pos_tuned, plot ='topic_model')"
   ]
  },
  {
   "cell_type": "markdown",
   "metadata": {},
   "source": [
    "## Negative reviews"
   ]
  },
  {
   "cell_type": "code",
   "execution_count": 20,
   "metadata": {},
   "outputs": [
    {
     "data": {
      "text/html": [
       "<style  type=\"text/css\" >\n",
       "</style><table id=\"T_e2b38dc8_3281_11eb_9b85_c48e8ff9d2e0\" ><thead>    <tr>        <th class=\"col_heading level0 col0\" >Description</th>        <th class=\"col_heading level0 col1\" >Value</th>    </tr></thead><tbody>\n",
       "                <tr>\n",
       "                                <td id=\"T_e2b38dc8_3281_11eb_9b85_c48e8ff9d2e0row0_col0\" class=\"data row0 col0\" >session_id</td>\n",
       "                        <td id=\"T_e2b38dc8_3281_11eb_9b85_c48e8ff9d2e0row0_col1\" class=\"data row0 col1\" >3031</td>\n",
       "            </tr>\n",
       "            <tr>\n",
       "                                <td id=\"T_e2b38dc8_3281_11eb_9b85_c48e8ff9d2e0row1_col0\" class=\"data row1 col0\" >Documents</td>\n",
       "                        <td id=\"T_e2b38dc8_3281_11eb_9b85_c48e8ff9d2e0row1_col1\" class=\"data row1 col1\" >18</td>\n",
       "            </tr>\n",
       "            <tr>\n",
       "                                <td id=\"T_e2b38dc8_3281_11eb_9b85_c48e8ff9d2e0row2_col0\" class=\"data row2 col0\" >Vocab Size</td>\n",
       "                        <td id=\"T_e2b38dc8_3281_11eb_9b85_c48e8ff9d2e0row2_col1\" class=\"data row2 col1\" >311</td>\n",
       "            </tr>\n",
       "            <tr>\n",
       "                                <td id=\"T_e2b38dc8_3281_11eb_9b85_c48e8ff9d2e0row3_col0\" class=\"data row3 col0\" >Custom Stopwords</td>\n",
       "                        <td id=\"T_e2b38dc8_3281_11eb_9b85_c48e8ff9d2e0row3_col1\" class=\"data row3 col1\" >True</td>\n",
       "            </tr>\n",
       "    </tbody></table>"
      ],
      "text/plain": [
       "<pandas.io.formats.style.Styler at 0x20b9612ba88>"
      ]
     },
     "metadata": {},
     "output_type": "display_data"
    }
   ],
   "source": [
    "exp_nlp_neg = setup(data = neg_review_imp, target = 'r_text',\n",
    "                custom_stopwords = [ 'hotel', 'room', 'nice', 'good','restaurant', 'food','bad'])"
   ]
  },
  {
   "cell_type": "code",
   "execution_count": 21,
   "metadata": {},
   "outputs": [
    {
     "name": "stdout",
     "output_type": "stream",
     "text": [
      "LdaModel(num_terms=311, num_topics=4, decay=0.5, chunksize=100)\n"
     ]
    }
   ],
   "source": [
    "#create an LDA model\n",
    "lda_neg_custom = create_model('lda')\n",
    "print(lda_neg_custom)"
   ]
  },
  {
   "cell_type": "code",
   "execution_count": 22,
   "metadata": {},
   "outputs": [
    {
     "data": {
      "text/html": [
       "<div>\n",
       "<style scoped>\n",
       "    .dataframe tbody tr th:only-of-type {\n",
       "        vertical-align: middle;\n",
       "    }\n",
       "\n",
       "    .dataframe tbody tr th {\n",
       "        vertical-align: top;\n",
       "    }\n",
       "\n",
       "    .dataframe thead th {\n",
       "        text-align: right;\n",
       "    }\n",
       "</style>\n",
       "<table border=\"1\" class=\"dataframe\">\n",
       "  <thead>\n",
       "    <tr style=\"text-align: right;\">\n",
       "      <th></th>\n",
       "      <th>Unnamed: 0</th>\n",
       "      <th>r_points</th>\n",
       "      <th>r_text</th>\n",
       "      <th>place</th>\n",
       "      <th>scores</th>\n",
       "      <th>compound</th>\n",
       "      <th>score</th>\n",
       "      <th>Topic_0</th>\n",
       "      <th>Topic_1</th>\n",
       "      <th>Topic_2</th>\n",
       "      <th>Topic_3</th>\n",
       "      <th>Dominant_Topic</th>\n",
       "      <th>Perc_Dominant_Topic</th>\n",
       "    </tr>\n",
       "  </thead>\n",
       "  <tbody>\n",
       "    <tr>\n",
       "      <th>0</th>\n",
       "      <td>4</td>\n",
       "      <td>40</td>\n",
       "      <td>still variety shop nicely renovate restroom so...</td>\n",
       "      <td>The Mall of Cyprus</td>\n",
       "      <td>{'neg': 0.161, 'neu': 0.705, 'pos': 0.134, 'co...</td>\n",
       "      <td>-0.4939</td>\n",
       "      <td>neg</td>\n",
       "      <td>0.990812</td>\n",
       "      <td>0.003100</td>\n",
       "      <td>0.002637</td>\n",
       "      <td>0.003451</td>\n",
       "      <td>Topic 0</td>\n",
       "      <td>0.99</td>\n",
       "    </tr>\n",
       "    <tr>\n",
       "      <th>1</th>\n",
       "      <td>14</td>\n",
       "      <td>10</td>\n",
       "      <td>disappointing shop roof walk around decide dri...</td>\n",
       "      <td>The Mall of Cyprus</td>\n",
       "      <td>{'neg': 0.21, 'neu': 0.743, 'pos': 0.047, 'com...</td>\n",
       "      <td>-0.8868</td>\n",
       "      <td>neg</td>\n",
       "      <td>0.002696</td>\n",
       "      <td>0.002155</td>\n",
       "      <td>0.992751</td>\n",
       "      <td>0.002399</td>\n",
       "      <td>Topic 2</td>\n",
       "      <td>0.99</td>\n",
       "    </tr>\n",
       "    <tr>\n",
       "      <th>2</th>\n",
       "      <td>15</td>\n",
       "      <td>10</td>\n",
       "      <td>want sit outside chair leave saw table leftove...</td>\n",
       "      <td>The Mall of Cyprus</td>\n",
       "      <td>{'neg': 0.175, 'neu': 0.782, 'pos': 0.043, 'co...</td>\n",
       "      <td>-0.8891</td>\n",
       "      <td>neg</td>\n",
       "      <td>0.002128</td>\n",
       "      <td>0.001701</td>\n",
       "      <td>0.001447</td>\n",
       "      <td>0.994724</td>\n",
       "      <td>Topic 3</td>\n",
       "      <td>0.99</td>\n",
       "    </tr>\n",
       "    <tr>\n",
       "      <th>3</th>\n",
       "      <td>17</td>\n",
       "      <td>10</td>\n",
       "      <td>small collection shop fast small floor park in...</td>\n",
       "      <td>The Mall of Cyprus</td>\n",
       "      <td>{'neg': 0.161, 'neu': 0.839, 'pos': 0.0, 'comp...</td>\n",
       "      <td>-0.5873</td>\n",
       "      <td>neg</td>\n",
       "      <td>0.986307</td>\n",
       "      <td>0.004620</td>\n",
       "      <td>0.003930</td>\n",
       "      <td>0.005143</td>\n",
       "      <td>Topic 0</td>\n",
       "      <td>0.99</td>\n",
       "    </tr>\n",
       "    <tr>\n",
       "      <th>4</th>\n",
       "      <td>18</td>\n",
       "      <td>30</td>\n",
       "      <td>mall need lot work even worth visit lot shop m...</td>\n",
       "      <td>The Mall of Cyprus</td>\n",
       "      <td>{'neg': 0.116, 'neu': 0.884, 'pos': 0.0, 'comp...</td>\n",
       "      <td>-0.5334</td>\n",
       "      <td>neg</td>\n",
       "      <td>0.990279</td>\n",
       "      <td>0.003280</td>\n",
       "      <td>0.002790</td>\n",
       "      <td>0.003651</td>\n",
       "      <td>Topic 0</td>\n",
       "      <td>0.99</td>\n",
       "    </tr>\n",
       "    <tr>\n",
       "      <th>5</th>\n",
       "      <td>29</td>\n",
       "      <td>30</td>\n",
       "      <td>visit shopping center big action offer borre s...</td>\n",
       "      <td>The Mall of Cyprus</td>\n",
       "      <td>{'neg': 0.403, 'neu': 0.597, 'pos': 0.0, 'comp...</td>\n",
       "      <td>-0.8573</td>\n",
       "      <td>neg</td>\n",
       "      <td>0.007656</td>\n",
       "      <td>0.006120</td>\n",
       "      <td>0.005206</td>\n",
       "      <td>0.981017</td>\n",
       "      <td>Topic 3</td>\n",
       "      <td>0.98</td>\n",
       "    </tr>\n",
       "    <tr>\n",
       "      <th>6</th>\n",
       "      <td>30</td>\n",
       "      <td>20</td>\n",
       "      <td>visit day decide public transport local bus bu...</td>\n",
       "      <td>The Mall of Cyprus</td>\n",
       "      <td>{'neg': 0.097, 'neu': 0.847, 'pos': 0.057, 'co...</td>\n",
       "      <td>-0.5380</td>\n",
       "      <td>neg</td>\n",
       "      <td>0.001052</td>\n",
       "      <td>0.997297</td>\n",
       "      <td>0.000715</td>\n",
       "      <td>0.000936</td>\n",
       "      <td>Topic 1</td>\n",
       "      <td>1.00</td>\n",
       "    </tr>\n",
       "    <tr>\n",
       "      <th>7</th>\n",
       "      <td>50</td>\n",
       "      <td>20</td>\n",
       "      <td>go big awesome many shop small boring really e...</td>\n",
       "      <td>The Mall of Cyprus</td>\n",
       "      <td>{'neg': 0.193, 'neu': 0.668, 'pos': 0.14, 'com...</td>\n",
       "      <td>-0.4417</td>\n",
       "      <td>neg</td>\n",
       "      <td>0.006908</td>\n",
       "      <td>0.005522</td>\n",
       "      <td>0.004698</td>\n",
       "      <td>0.982871</td>\n",
       "      <td>Topic 3</td>\n",
       "      <td>0.98</td>\n",
       "    </tr>\n",
       "    <tr>\n",
       "      <th>8</th>\n",
       "      <td>57</td>\n",
       "      <td>40</td>\n",
       "      <td>find typical european shop see next local bran...</td>\n",
       "      <td>The Mall of Cyprus</td>\n",
       "      <td>{'neg': 0.064, 'neu': 0.936, 'pos': 0.0, 'comp...</td>\n",
       "      <td>-0.2960</td>\n",
       "      <td>neg</td>\n",
       "      <td>0.006294</td>\n",
       "      <td>0.005031</td>\n",
       "      <td>0.004280</td>\n",
       "      <td>0.984396</td>\n",
       "      <td>Topic 3</td>\n",
       "      <td>0.98</td>\n",
       "    </tr>\n",
       "    <tr>\n",
       "      <th>9</th>\n",
       "      <td>59</td>\n",
       "      <td>20</td>\n",
       "      <td>mall small business local unique worth visit</td>\n",
       "      <td>The Mall of Cyprus</td>\n",
       "      <td>{'neg': 0.169, 'neu': 0.831, 'pos': 0.0, 'comp...</td>\n",
       "      <td>-0.4717</td>\n",
       "      <td>neg</td>\n",
       "      <td>0.976849</td>\n",
       "      <td>0.007811</td>\n",
       "      <td>0.006645</td>\n",
       "      <td>0.008695</td>\n",
       "      <td>Topic 0</td>\n",
       "      <td>0.98</td>\n",
       "    </tr>\n",
       "    <tr>\n",
       "      <th>10</th>\n",
       "      <td>79</td>\n",
       "      <td>20</td>\n",
       "      <td>mall quite disappointing shop find big mall wo...</td>\n",
       "      <td>The Mall of Cyprus</td>\n",
       "      <td>{'neg': 0.087, 'neu': 0.85, 'pos': 0.063, 'com...</td>\n",
       "      <td>-0.2484</td>\n",
       "      <td>neg</td>\n",
       "      <td>0.005779</td>\n",
       "      <td>0.004620</td>\n",
       "      <td>0.003930</td>\n",
       "      <td>0.985671</td>\n",
       "      <td>Topic 3</td>\n",
       "      <td>0.99</td>\n",
       "    </tr>\n",
       "    <tr>\n",
       "      <th>11</th>\n",
       "      <td>81</td>\n",
       "      <td>20</td>\n",
       "      <td>park horrible fast okshop many shop different ...</td>\n",
       "      <td>The Mall of Cyprus</td>\n",
       "      <td>{'neg': 0.134, 'neu': 0.866, 'pos': 0.0, 'comp...</td>\n",
       "      <td>-0.5423</td>\n",
       "      <td>neg</td>\n",
       "      <td>0.004103</td>\n",
       "      <td>0.989455</td>\n",
       "      <td>0.002790</td>\n",
       "      <td>0.003651</td>\n",
       "      <td>Topic 1</td>\n",
       "      <td>0.99</td>\n",
       "    </tr>\n",
       "    <tr>\n",
       "      <th>12</th>\n",
       "      <td>83</td>\n",
       "      <td>20</td>\n",
       "      <td>small special loud noise full child shout also...</td>\n",
       "      <td>The Mall of Cyprus</td>\n",
       "      <td>{'neg': 0.201, 'neu': 0.71, 'pos': 0.089, 'com...</td>\n",
       "      <td>-0.5582</td>\n",
       "      <td>neg</td>\n",
       "      <td>0.005343</td>\n",
       "      <td>0.004271</td>\n",
       "      <td>0.985632</td>\n",
       "      <td>0.004754</td>\n",
       "      <td>Topic 2</td>\n",
       "      <td>0.99</td>\n",
       "    </tr>\n",
       "    <tr>\n",
       "      <th>13</th>\n",
       "      <td>84</td>\n",
       "      <td>30</td>\n",
       "      <td>special shop attraction eatery spend hour half...</td>\n",
       "      <td>The Mall of Cyprus</td>\n",
       "      <td>{'neg': 0.134, 'neu': 0.779, 'pos': 0.087, 'co...</td>\n",
       "      <td>-0.2469</td>\n",
       "      <td>neg</td>\n",
       "      <td>0.990279</td>\n",
       "      <td>0.003280</td>\n",
       "      <td>0.002790</td>\n",
       "      <td>0.003651</td>\n",
       "      <td>Topic 0</td>\n",
       "      <td>0.99</td>\n",
       "    </tr>\n",
       "    <tr>\n",
       "      <th>14</th>\n",
       "      <td>86</td>\n",
       "      <td>30</td>\n",
       "      <td>visit ikea pop mall look around take minute sm...</td>\n",
       "      <td>The Mall of Cyprus</td>\n",
       "      <td>{'neg': 0.156, 'neu': 0.787, 'pos': 0.057, 'co...</td>\n",
       "      <td>-0.9567</td>\n",
       "      <td>neg</td>\n",
       "      <td>0.001215</td>\n",
       "      <td>0.996879</td>\n",
       "      <td>0.000826</td>\n",
       "      <td>0.001081</td>\n",
       "      <td>Topic 1</td>\n",
       "      <td>1.00</td>\n",
       "    </tr>\n",
       "    <tr>\n",
       "      <th>15</th>\n",
       "      <td>99</td>\n",
       "      <td>30</td>\n",
       "      <td>particularly outstanding mall live name shop h...</td>\n",
       "      <td>The Mall of Cyprus</td>\n",
       "      <td>{'neg': 0.086, 'neu': 0.878, 'pos': 0.036, 'co...</td>\n",
       "      <td>-0.4531</td>\n",
       "      <td>neg</td>\n",
       "      <td>0.003878</td>\n",
       "      <td>0.990034</td>\n",
       "      <td>0.002637</td>\n",
       "      <td>0.003451</td>\n",
       "      <td>Topic 1</td>\n",
       "      <td>0.99</td>\n",
       "    </tr>\n",
       "    <tr>\n",
       "      <th>16</th>\n",
       "      <td>102</td>\n",
       "      <td>30</td>\n",
       "      <td>visit tour guide sometimes need stop mall part...</td>\n",
       "      <td>The Mall of Cyprus</td>\n",
       "      <td>{'neg': 0.058, 'neu': 0.889, 'pos': 0.053, 'co...</td>\n",
       "      <td>-0.7155</td>\n",
       "      <td>neg</td>\n",
       "      <td>0.000413</td>\n",
       "      <td>0.000330</td>\n",
       "      <td>0.998889</td>\n",
       "      <td>0.000368</td>\n",
       "      <td>Topic 2</td>\n",
       "      <td>1.00</td>\n",
       "    </tr>\n",
       "    <tr>\n",
       "      <th>17</th>\n",
       "      <td>105</td>\n",
       "      <td>30</td>\n",
       "      <td>happen weather enjoy outdoor head kill time hu...</td>\n",
       "      <td>The Mall of Cyprus</td>\n",
       "      <td>{'neg': 0.093, 'neu': 0.877, 'pos': 0.03, 'com...</td>\n",
       "      <td>-0.5394</td>\n",
       "      <td>neg</td>\n",
       "      <td>0.991720</td>\n",
       "      <td>0.002794</td>\n",
       "      <td>0.002377</td>\n",
       "      <td>0.003110</td>\n",
       "      <td>Topic 0</td>\n",
       "      <td>0.99</td>\n",
       "    </tr>\n",
       "  </tbody>\n",
       "</table>\n",
       "</div>"
      ],
      "text/plain": [
       "    Unnamed: 0  r_points                                             r_text  \\\n",
       "0            4        40  still variety shop nicely renovate restroom so...   \n",
       "1           14        10  disappointing shop roof walk around decide dri...   \n",
       "2           15        10  want sit outside chair leave saw table leftove...   \n",
       "3           17        10  small collection shop fast small floor park in...   \n",
       "4           18        30  mall need lot work even worth visit lot shop m...   \n",
       "5           29        30  visit shopping center big action offer borre s...   \n",
       "6           30        20  visit day decide public transport local bus bu...   \n",
       "7           50        20  go big awesome many shop small boring really e...   \n",
       "8           57        40  find typical european shop see next local bran...   \n",
       "9           59        20       mall small business local unique worth visit   \n",
       "10          79        20  mall quite disappointing shop find big mall wo...   \n",
       "11          81        20  park horrible fast okshop many shop different ...   \n",
       "12          83        20  small special loud noise full child shout also...   \n",
       "13          84        30  special shop attraction eatery spend hour half...   \n",
       "14          86        30  visit ikea pop mall look around take minute sm...   \n",
       "15          99        30  particularly outstanding mall live name shop h...   \n",
       "16         102        30  visit tour guide sometimes need stop mall part...   \n",
       "17         105        30  happen weather enjoy outdoor head kill time hu...   \n",
       "\n",
       "                 place                                             scores  \\\n",
       "0   The Mall of Cyprus  {'neg': 0.161, 'neu': 0.705, 'pos': 0.134, 'co...   \n",
       "1   The Mall of Cyprus  {'neg': 0.21, 'neu': 0.743, 'pos': 0.047, 'com...   \n",
       "2   The Mall of Cyprus  {'neg': 0.175, 'neu': 0.782, 'pos': 0.043, 'co...   \n",
       "3   The Mall of Cyprus  {'neg': 0.161, 'neu': 0.839, 'pos': 0.0, 'comp...   \n",
       "4   The Mall of Cyprus  {'neg': 0.116, 'neu': 0.884, 'pos': 0.0, 'comp...   \n",
       "5   The Mall of Cyprus  {'neg': 0.403, 'neu': 0.597, 'pos': 0.0, 'comp...   \n",
       "6   The Mall of Cyprus  {'neg': 0.097, 'neu': 0.847, 'pos': 0.057, 'co...   \n",
       "7   The Mall of Cyprus  {'neg': 0.193, 'neu': 0.668, 'pos': 0.14, 'com...   \n",
       "8   The Mall of Cyprus  {'neg': 0.064, 'neu': 0.936, 'pos': 0.0, 'comp...   \n",
       "9   The Mall of Cyprus  {'neg': 0.169, 'neu': 0.831, 'pos': 0.0, 'comp...   \n",
       "10  The Mall of Cyprus  {'neg': 0.087, 'neu': 0.85, 'pos': 0.063, 'com...   \n",
       "11  The Mall of Cyprus  {'neg': 0.134, 'neu': 0.866, 'pos': 0.0, 'comp...   \n",
       "12  The Mall of Cyprus  {'neg': 0.201, 'neu': 0.71, 'pos': 0.089, 'com...   \n",
       "13  The Mall of Cyprus  {'neg': 0.134, 'neu': 0.779, 'pos': 0.087, 'co...   \n",
       "14  The Mall of Cyprus  {'neg': 0.156, 'neu': 0.787, 'pos': 0.057, 'co...   \n",
       "15  The Mall of Cyprus  {'neg': 0.086, 'neu': 0.878, 'pos': 0.036, 'co...   \n",
       "16  The Mall of Cyprus  {'neg': 0.058, 'neu': 0.889, 'pos': 0.053, 'co...   \n",
       "17  The Mall of Cyprus  {'neg': 0.093, 'neu': 0.877, 'pos': 0.03, 'com...   \n",
       "\n",
       "    compound score   Topic_0   Topic_1   Topic_2   Topic_3 Dominant_Topic  \\\n",
       "0    -0.4939   neg  0.990812  0.003100  0.002637  0.003451        Topic 0   \n",
       "1    -0.8868   neg  0.002696  0.002155  0.992751  0.002399        Topic 2   \n",
       "2    -0.8891   neg  0.002128  0.001701  0.001447  0.994724        Topic 3   \n",
       "3    -0.5873   neg  0.986307  0.004620  0.003930  0.005143        Topic 0   \n",
       "4    -0.5334   neg  0.990279  0.003280  0.002790  0.003651        Topic 0   \n",
       "5    -0.8573   neg  0.007656  0.006120  0.005206  0.981017        Topic 3   \n",
       "6    -0.5380   neg  0.001052  0.997297  0.000715  0.000936        Topic 1   \n",
       "7    -0.4417   neg  0.006908  0.005522  0.004698  0.982871        Topic 3   \n",
       "8    -0.2960   neg  0.006294  0.005031  0.004280  0.984396        Topic 3   \n",
       "9    -0.4717   neg  0.976849  0.007811  0.006645  0.008695        Topic 0   \n",
       "10   -0.2484   neg  0.005779  0.004620  0.003930  0.985671        Topic 3   \n",
       "11   -0.5423   neg  0.004103  0.989455  0.002790  0.003651        Topic 1   \n",
       "12   -0.5582   neg  0.005343  0.004271  0.985632  0.004754        Topic 2   \n",
       "13   -0.2469   neg  0.990279  0.003280  0.002790  0.003651        Topic 0   \n",
       "14   -0.9567   neg  0.001215  0.996879  0.000826  0.001081        Topic 1   \n",
       "15   -0.4531   neg  0.003878  0.990034  0.002637  0.003451        Topic 1   \n",
       "16   -0.7155   neg  0.000413  0.000330  0.998889  0.000368        Topic 2   \n",
       "17   -0.5394   neg  0.991720  0.002794  0.002377  0.003110        Topic 0   \n",
       "\n",
       "    Perc_Dominant_Topic  \n",
       "0                  0.99  \n",
       "1                  0.99  \n",
       "2                  0.99  \n",
       "3                  0.99  \n",
       "4                  0.99  \n",
       "5                  0.98  \n",
       "6                  1.00  \n",
       "7                  0.98  \n",
       "8                  0.98  \n",
       "9                  0.98  \n",
       "10                 0.99  \n",
       "11                 0.99  \n",
       "12                 0.99  \n",
       "13                 0.99  \n",
       "14                 1.00  \n",
       "15                 0.99  \n",
       "16                 1.00  \n",
       "17                 0.99  "
      ]
     },
     "execution_count": 22,
     "metadata": {},
     "output_type": "execute_result"
    }
   ],
   "source": [
    "apply_lda_neg = assign_model(lda_neg_custom)\n",
    "apply_lda_neg"
   ]
  },
  {
   "cell_type": "code",
   "execution_count": 23,
   "metadata": {},
   "outputs": [
    {
     "data": {
      "application/vnd.jupyter.widget-view+json": {
       "model_id": "a457a526f6384a2a97f60859833da88e",
       "version_major": 2,
       "version_minor": 0
      },
      "text/plain": [
       "interactive(children=(ToggleButtons(description='Plot Type:', icons=('',), options=(('Frequency Plot', 'freque…"
      ]
     },
     "metadata": {},
     "output_type": "display_data"
    }
   ],
   "source": [
    "evaluate_model(lda_neg_custom)"
   ]
  },
  {
   "cell_type": "code",
   "execution_count": 24,
   "metadata": {},
   "outputs": [
    {
     "data": {
      "text/html": [
       "        <script type=\"text/javascript\">\n",
       "        window.PlotlyConfig = {MathJaxConfig: 'local'};\n",
       "        if (window.MathJax) {MathJax.Hub.Config({SVG: {font: \"STIX-Web\"}});}\n",
       "        if (typeof require !== 'undefined') {\n",
       "        require.undef(\"plotly\");\n",
       "        requirejs.config({\n",
       "            paths: {\n",
       "                'plotly': ['https://cdn.plot.ly/plotly-latest.min']\n",
       "            }\n",
       "        });\n",
       "        require(['plotly'], function(Plotly) {\n",
       "            window._Plotly = Plotly;\n",
       "        });\n",
       "        }\n",
       "        </script>\n",
       "        "
      ]
     },
     "metadata": {},
     "output_type": "display_data"
    },
    {
     "data": {
      "text/html": [
       "\n",
       "<link rel=\"stylesheet\" type=\"text/css\" href=\"https://cdn.rawgit.com/bmabey/pyLDAvis/files/ldavis.v1.0.0.css\">\n",
       "\n",
       "\n",
       "<div id=\"ldavis_el1208022487592121044372636052\"></div>\n",
       "<script type=\"text/javascript\">\n",
       "\n",
       "var ldavis_el1208022487592121044372636052_data = {\"mdsDat\": {\"x\": [0.08838912119215998, 0.042550961790473435, -0.0854274522374533, -0.04551263074518013], \"y\": [0.07067869274454362, -0.10004036003194136, -0.0454252926572213, 0.07478695994461902], \"topics\": [1, 2, 3, 4], \"cluster\": [1, 1, 1, 1], \"Freq\": [39.20613479614258, 29.861513137817383, 16.949546813964844, 13.98280143737793]}, \"tinfo\": {\"Term\": [\"big\", \"shop\", \"next\", \"bus\", \"bird\", \"place\", \"absolutely\", \"worth\", \"park\", \"shopping\", \"fast\", \"lot\", \"mall\", \"car\", \"area\", \"find\", \"enjoy\", \"variety\", \"many\", \"local\", \"exit\", \"floor\", \"cafeteria\", \"small\", \"minute\", \"ikea\", \"really\", \"want\", \"make\", \"price\", \"exit\", \"round\", \"tour\", \"avoid\", \"enter\", \"seat\", \"quick\", \"reach\", \"upper\", \"issue\", \"choose\", \"sound\", \"first\", \"entrance\", \"take\", \"area\", \"floor\", \"cafeteria\", \"main\", \"drink\", \"mesh\", \"roof\", \"unclean\", \"toilet\", \"loud\", \"fly\", \"mess\", \"disgust\", \"state\", \"put\", \"underground\", \"want\", \"really\", \"parking\", \"well\", \"part\", \"know\", \"bird\", \"make\", \"shop\", \"small\", \"mall\", \"visit\", \"stop\", \"find\", \"need\", \"day\", \"coach\", \"back\", \"limited\", \"car\", \"park\", \"afternoon\", \"live\", \"outstanding\", \"morning\", \"tend\", \"name\", \"particularly\", \"struggle\", \"fine\", \"home\", \"carrefour\", \"okshop\", \"specialvery\", \"especially\", \"different\", \"horrible\", \"waste\", \"stuff\", \"night\", \"fun\", \"crowd\", \"seriously\", \"complete\", \"thought\", \"store\", \"many\", \"bus\", \"ikea\", \"minute\", \"mall\", \"people\", \"visit\", \"local\", \"stop\", \"special\", \"shop\", \"well\", \"find\", \"small\", \"need\", \"around\", \"take\", \"leave\", \"thing\", \"disappointing\", \"whole\", \"shopping\", \"decide\", \"worth\", \"spend\", \"collection\", \"aware\", \"intercity\", \"inadequate\", \"attraction\", \"use\", \"ride\", \"bored\", \"hour\", \"easy\", \"half\", \"unique\", \"business\", \"bulky\", \"soap\", \"nicely\", \"dispenser\", \"tacky\", \"wash\", \"still\", \"restroom\", \"renovate\", \"dirty\", \"renovation\", \"decent\", \"kill\", \"happen\", \"teenage\", \"place\", \"fast\", \"lot\", \"shop\", \"small\", \"mall\", \"bus\", \"need\", \"visit\", \"floor\", \"cafeteria\", \"stop\", \"next\", \"parking\", \"local\", \"make\", \"park\", \"space\", \"drink\", \"sometimes\", \"coffee\", \"special\", \"eatery\", \"get\", \"also\", \"boring\", \"center\", \"borre\", \"season\", \"awesome\", \"action\", \"offer\", \"pizza\", \"clothe\", \"court\", \"european\", \"typical\", \"average\", \"quite\", \"world\", \"apart\", \"pick\", \"seem\", \"sail\", \"clean\", \"frankly\", \"fall\", \"tear\", \"scavenge\", \"sit\", \"disappointed\", \"refurbishment\", \"shade\", \"effort\", \"leftover\", \"next\", \"big\", \"absolutely\", \"shopping\", \"bird\", \"find\", \"shop\", \"mall\", \"see\", \"brand\", \"really\", \"go\", \"outside\", \"visit\", \"expensive\", \"want\", \"need\", \"area\", \"small\", \"stop\", \"make\", \"local\", \"many\", \"enjoy\", \"price\"], \"Freq\": [3.0, 11.0, 2.0, 3.0, 3.0, 2.0, 2.0, 1.0, 5.0, 2.0, 2.0, 2.0, 11.0, 4.0, 4.0, 4.0, 1.0, 1.0, 2.0, 2.0, 3.0, 4.0, 4.0, 6.0, 2.0, 2.0, 2.0, 2.0, 3.0, 1.0, 3.078791379928589, 2.362334966659546, 2.356605291366577, 2.350672721862793, 1.6425440311431885, 1.640772819519043, 1.6392757892608643, 1.638488531112671, 1.6343798637390137, 1.6328855752944946, 1.6321425437927246, 1.6304868459701538, 1.6290234327316284, 1.628121018409729, 3.81583309173584, 3.1064083576202393, 3.096511125564575, 3.085528612136841, 3.0953023433685303, 2.3758528232574463, 0.9192895293235779, 0.9191515445709229, 0.9191209077835083, 0.9188857674598694, 0.918845534324646, 0.9188101291656494, 0.9186645150184631, 0.9186601042747498, 0.9185951352119446, 0.9185696244239807, 2.3582985401153564, 1.6352570056915283, 1.626617670059204, 1.6344670057296753, 2.3773319721221924, 1.639424204826355, 1.6377153396606445, 1.659179449081421, 1.6465320587158203, 3.8147614002227783, 2.372298002243042, 3.078167200088501, 2.3462955951690674, 1.647927165031433, 1.638899326324463, 1.6339919567108154, 1.512405514717102, 1.5102368593215942, 1.5105079412460327, 1.5106751918792725, 2.856167793273926, 3.528115749359131, 0.8415653109550476, 0.8415635824203491, 0.8415617346763611, 0.8415613770484924, 0.8415604829788208, 0.841560423374176, 0.8415597081184387, 0.8415579199790955, 0.8415580987930298, 0.8415563702583313, 0.8415528535842896, 0.8415437936782837, 0.8415343761444092, 0.8415326476097107, 0.8415321707725525, 0.8415278196334839, 0.8415271639823914, 0.8415253162384033, 0.841522753238678, 0.8415092825889587, 0.8415068984031677, 0.8415022492408752, 0.84043949842453, 0.8403962850570679, 2.1806890964508057, 1.512411117553711, 2.1812870502471924, 1.511183261871338, 1.5113272666931152, 4.873462677001953, 1.5124300718307495, 2.858922004699707, 1.5080666542053223, 2.183713674545288, 1.514335036277771, 2.861098051071167, 1.5155487060546875, 1.5152758359909058, 1.5172070264816284, 0.8440308570861816, 0.8428487181663513, 0.84263014793396, 0.8425201773643494, 0.8423620462417603, 0.8422347903251648, 0.8420499563217163, 0.8420447707176208, 0.8417409658432007, 1.208696961402893, 0.6719310283660889, 0.6719318628311157, 0.6719310283660889, 0.6719295382499695, 0.6719304919242859, 0.6719269156455994, 0.6719286441802979, 0.6719259023666382, 0.6719241142272949, 0.6719232797622681, 0.6719225645065308, 0.6719191670417786, 0.6719200611114502, 0.6719164252281189, 0.6715134382247925, 0.6715104579925537, 0.6714938879013062, 0.6714915633201599, 0.6714834570884705, 0.6714702248573303, 0.6714069843292236, 0.6713976263999939, 0.6713928580284119, 0.6713595986366272, 0.6713339686393738, 0.6711708903312683, 0.6711435317993164, 0.6711421608924866, 0.6711933016777039, 1.2083046436309814, 1.2086387872695923, 1.2075339555740356, 2.8254406452178955, 1.7487599849700928, 2.287595748901367, 1.209581971168518, 1.2103368043899536, 1.2105746269226074, 0.6751052141189575, 0.6751031875610352, 0.6742477416992188, 0.6741872429847717, 0.6732680797576904, 0.6732411980628967, 0.6728745102882385, 0.6726763844490051, 0.6725428104400635, 0.6723416447639465, 0.6722914576530457, 0.6720563173294067, 0.6719815135002136, 0.6719800233840942, 0.6719703674316406, 0.671947181224823, 0.6034348607063293, 0.6034316420555115, 0.6034309267997742, 0.6034305691719055, 0.6034291386604309, 0.6034272313117981, 0.6034254431724548, 0.6026571989059448, 0.6024616956710815, 0.6024407148361206, 0.6024404168128967, 0.6024016737937927, 0.6022279858589172, 0.6021144986152649, 0.6017094254493713, 0.6015366911888123, 0.6014757752418518, 0.6014705300331116, 0.6011573672294617, 0.6011228561401367, 0.6011255383491516, 0.6011759638786316, 0.601104199886322, 0.6011266112327576, 0.6011175513267517, 0.6010806560516357, 0.6010560393333435, 0.6010144352912903, 0.6009207367897034, 0.6008670926094055, 1.084196925163269, 1.5857439041137695, 1.0811395645141602, 1.1009150743484497, 1.081196665763855, 1.0969691276550293, 1.6031098365783691, 1.1254743337631226, 0.6161331534385681, 0.6145273447036743, 0.6228188872337341, 0.6229463219642639, 0.6118741035461426, 0.6370133757591248, 0.6157591342926025, 0.6149803400039673, 0.6172975301742554, 0.6158328056335449, 0.6159613728523254, 0.6117745041847229, 0.607764482498169, 0.6064921617507935, 0.6048963069915771, 0.6046274304389954, 0.603563666343689], \"Total\": [3.0, 11.0, 2.0, 3.0, 3.0, 2.0, 2.0, 1.0, 5.0, 2.0, 2.0, 2.0, 11.0, 4.0, 4.0, 4.0, 1.0, 1.0, 2.0, 2.0, 3.0, 4.0, 4.0, 6.0, 2.0, 2.0, 2.0, 2.0, 3.0, 1.0, 3.5391054153442383, 2.808574914932251, 2.8067984580993652, 2.804594039916992, 2.0770037174224854, 2.076457977294922, 2.0760247707366943, 2.075777292251587, 2.0742316246032715, 2.073864459991455, 2.073537826538086, 2.073021173477173, 2.0724868774414062, 2.0721147060394287, 4.949210166931152, 4.03180456161499, 4.083108901977539, 4.078993797302246, 4.216855525970459, 3.35158634185791, 1.344811201095581, 1.3447991609573364, 1.344793677330017, 1.3447744846343994, 1.3447701930999756, 1.3447697162628174, 1.3447574377059937, 1.3447566032409668, 1.3447508811950684, 1.3447484970092773, 3.479701519012451, 2.557642698287964, 2.554342746734619, 2.611814022064209, 4.159964084625244, 2.748988389968872, 2.748019218444824, 3.0494284629821777, 3.099644422531128, 11.104410171508789, 6.254226207733154, 11.364699363708496, 7.052805423736572, 5.1176629066467285, 4.387851715087891, 4.305657386779785, 1.9537184238433838, 1.9533288478851318, 1.9538800716400146, 1.9546725749969482, 4.035325050354004, 5.246344566345215, 1.2809919118881226, 1.2809919118881226, 1.280991792678833, 1.280991554260254, 1.2809908390045166, 1.280991792678833, 1.2809909582138062, 1.2809913158416748, 1.280991792678833, 1.2809910774230957, 1.2809901237487793, 1.2809937000274658, 1.280994176864624, 1.2809932231903076, 1.2809945344924927, 1.2809932231903076, 1.2809937000274658, 1.2809958457946777, 1.2809938192367554, 1.2809938192367554, 1.2809958457946777, 1.2809951305389404, 1.281100869178772, 1.2811049222946167, 3.3572800159454346, 2.4364969730377197, 3.7011802196502686, 2.491319179534912, 2.492175579071045, 11.364699363708496, 2.689826488494873, 7.052805423736572, 2.973170280456543, 5.1176629066467285, 3.2282867431640625, 11.104410171508789, 4.159964084625244, 4.387851715087891, 6.254226207733154, 4.305657386779785, 2.0181498527526855, 4.949210166931152, 2.501156806945801, 2.015237808227539, 2.500559091567993, 1.764480710029602, 2.975801467895508, 2.0173873901367188, 1.683078408241272, 1.145297646522522, 1.1453005075454712, 1.1452999114990234, 1.145297884941101, 1.1453001499176025, 1.1452968120574951, 1.1453007459640503, 1.1452971696853638, 1.1452966928482056, 1.1452970504760742, 1.1452982425689697, 1.1452968120574951, 1.1453032493591309, 1.1453022956848145, 1.1454064846038818, 1.1454061269760132, 1.1454112529754639, 1.1454111337661743, 1.1454131603240967, 1.1454174518585205, 1.1454323530197144, 1.1454358100891113, 1.1454367637634277, 1.1454448699951172, 1.1454508304595947, 1.145219326019287, 1.1452163457870483, 1.1452168226242065, 1.1454864740371704, 2.1665544509887695, 2.356044292449951, 2.356106996536255, 11.104410171508789, 6.254226207733154, 11.364699363708496, 3.7011802196502686, 4.305657386779785, 7.052805423736572, 4.083108901977539, 4.078993797302246, 5.1176629066467285, 2.1110787391662598, 2.611814022064209, 2.973170280456543, 3.099644422531128, 5.246344566345215, 1.879455327987671, 3.35158634185791, 2.5535714626312256, 1.8784865140914917, 3.2282867431640625, 1.818053126335144, 1.8177999258041382, 1.8823623657226562, 1.090506911277771, 1.0905081033706665, 1.0905085802078247, 1.090509295463562, 1.0905094146728516, 1.0905096530914307, 1.090510606765747, 1.0905942916870117, 1.09061598777771, 1.0906188488006592, 1.0906203985214233, 1.0906248092651367, 1.090644121170044, 1.0906567573547363, 1.0907018184661865, 1.0911424160003662, 1.091189980506897, 1.09119713306427, 1.0912936925888062, 1.091249942779541, 1.0912612676620483, 1.0913629531860352, 1.0912797451019287, 1.0913292169570923, 1.0913333892822266, 1.0913348197937012, 1.0913622379302979, 1.0913546085357666, 1.0911917686462402, 1.091446876525879, 2.1110787391662598, 3.4572577476501465, 2.312068462371826, 2.975801467895508, 3.0494284629821777, 4.387851715087891, 11.104410171508789, 11.364699363708496, 1.820352554321289, 1.8210442066192627, 2.554342746734619, 3.2277891635894775, 1.8227447271347046, 7.052805423736572, 2.4938747882843018, 2.557642698287964, 4.305657386779785, 4.03180456161499, 6.254226207733154, 5.1176629066467285, 3.099644422531128, 2.973170280456543, 2.4364969730377197, 1.627936840057373, 1.763319730758667], \"Category\": [\"Default\", \"Default\", \"Default\", \"Default\", \"Default\", \"Default\", \"Default\", \"Default\", \"Default\", \"Default\", \"Default\", \"Default\", \"Default\", \"Default\", \"Default\", \"Default\", \"Default\", \"Default\", \"Default\", \"Default\", \"Default\", \"Default\", \"Default\", \"Default\", \"Default\", \"Default\", \"Default\", \"Default\", \"Default\", \"Default\", \"Topic1\", \"Topic1\", \"Topic1\", \"Topic1\", \"Topic1\", \"Topic1\", \"Topic1\", \"Topic1\", \"Topic1\", \"Topic1\", \"Topic1\", \"Topic1\", \"Topic1\", \"Topic1\", \"Topic1\", \"Topic1\", \"Topic1\", \"Topic1\", \"Topic1\", \"Topic1\", \"Topic1\", \"Topic1\", \"Topic1\", \"Topic1\", \"Topic1\", \"Topic1\", \"Topic1\", \"Topic1\", \"Topic1\", \"Topic1\", \"Topic1\", \"Topic1\", \"Topic1\", \"Topic1\", \"Topic1\", \"Topic1\", \"Topic1\", \"Topic1\", \"Topic1\", \"Topic1\", \"Topic1\", \"Topic1\", \"Topic1\", \"Topic1\", \"Topic1\", \"Topic1\", \"Topic2\", \"Topic2\", \"Topic2\", \"Topic2\", \"Topic2\", \"Topic2\", \"Topic2\", \"Topic2\", \"Topic2\", \"Topic2\", \"Topic2\", \"Topic2\", \"Topic2\", \"Topic2\", \"Topic2\", \"Topic2\", \"Topic2\", \"Topic2\", \"Topic2\", \"Topic2\", \"Topic2\", \"Topic2\", \"Topic2\", \"Topic2\", \"Topic2\", \"Topic2\", \"Topic2\", \"Topic2\", \"Topic2\", \"Topic2\", \"Topic2\", \"Topic2\", \"Topic2\", \"Topic2\", \"Topic2\", \"Topic2\", \"Topic2\", \"Topic2\", \"Topic2\", \"Topic2\", \"Topic2\", \"Topic2\", \"Topic2\", \"Topic2\", \"Topic2\", \"Topic2\", \"Topic2\", \"Topic2\", \"Topic2\", \"Topic2\", \"Topic2\", \"Topic2\", \"Topic2\", \"Topic2\", \"Topic3\", \"Topic3\", \"Topic3\", \"Topic3\", \"Topic3\", \"Topic3\", \"Topic3\", \"Topic3\", \"Topic3\", \"Topic3\", \"Topic3\", \"Topic3\", \"Topic3\", \"Topic3\", \"Topic3\", \"Topic3\", \"Topic3\", \"Topic3\", \"Topic3\", \"Topic3\", \"Topic3\", \"Topic3\", \"Topic3\", \"Topic3\", \"Topic3\", \"Topic3\", \"Topic3\", \"Topic3\", \"Topic3\", \"Topic3\", \"Topic3\", \"Topic3\", \"Topic3\", \"Topic3\", \"Topic3\", \"Topic3\", \"Topic3\", \"Topic3\", \"Topic3\", \"Topic3\", \"Topic3\", \"Topic3\", \"Topic3\", \"Topic3\", \"Topic3\", \"Topic3\", \"Topic3\", \"Topic3\", \"Topic3\", \"Topic3\", \"Topic3\", \"Topic3\", \"Topic3\", \"Topic3\", \"Topic3\", \"Topic4\", \"Topic4\", \"Topic4\", \"Topic4\", \"Topic4\", \"Topic4\", \"Topic4\", \"Topic4\", \"Topic4\", \"Topic4\", \"Topic4\", \"Topic4\", \"Topic4\", \"Topic4\", \"Topic4\", \"Topic4\", \"Topic4\", \"Topic4\", \"Topic4\", \"Topic4\", \"Topic4\", \"Topic4\", \"Topic4\", \"Topic4\", \"Topic4\", \"Topic4\", \"Topic4\", \"Topic4\", \"Topic4\", \"Topic4\", \"Topic4\", \"Topic4\", \"Topic4\", \"Topic4\", \"Topic4\", \"Topic4\", \"Topic4\", \"Topic4\", \"Topic4\", \"Topic4\", \"Topic4\", \"Topic4\", \"Topic4\", \"Topic4\", \"Topic4\", \"Topic4\", \"Topic4\", \"Topic4\", \"Topic4\", \"Topic4\", \"Topic4\", \"Topic4\", \"Topic4\", \"Topic4\", \"Topic4\"], \"logprob\": [30.0, 29.0, 28.0, 27.0, 26.0, 25.0, 24.0, 23.0, 22.0, 21.0, 20.0, 19.0, 18.0, 17.0, 16.0, 15.0, 14.0, 13.0, 12.0, 11.0, 10.0, 9.0, 8.0, 7.0, 6.0, 5.0, 4.0, 3.0, 2.0, 1.0, -4.223299980163574, -4.488100051879883, -4.490600109100342, -4.493100166320801, -4.851600170135498, -4.85260009765625, -4.853499889373779, -4.854000091552734, -4.856500148773193, -4.857399940490723, -4.857900142669678, -4.85890007019043, -4.859799861907959, -4.860400199890137, -4.008600234985352, -4.214300155639648, -4.21750020980835, -4.221099853515625, -4.217899799346924, -4.482399940490723, -5.432000160217285, -5.43209981918335, -5.43209981918335, -5.432400226593018, -5.432400226593018, -5.432499885559082, -5.432600021362305, -5.432600021362305, -5.432700157165527, -5.432700157165527, -4.4899001121521, -4.855999946594238, -4.861299991607666, -4.856500148773193, -4.481800079345703, -4.853499889373779, -4.854499816894531, -4.8414998054504395, -4.849100112915039, -4.008900165557861, -4.48390007019043, -4.223499774932861, -4.494999885559082, -4.848299980163574, -4.853799819946289, -4.856800079345703, -4.661799907684326, -4.663300037384033, -4.663099765777588, -4.663000106811523, -4.026100158691406, -3.8148000240325928, -5.248000144958496, -5.248000144958496, -5.248000144958496, -5.248000144958496, -5.248000144958496, -5.248000144958496, -5.248000144958496, -5.248000144958496, -5.248000144958496, -5.248000144958496, -5.248000144958496, -5.2480998039245605, -5.2480998039245605, -5.2480998039245605, -5.2480998039245605, -5.2480998039245605, -5.2480998039245605, -5.2480998039245605, -5.2480998039245605, -5.2480998039245605, -5.2480998039245605, -5.2480998039245605, -5.2494001388549805, -5.2494001388549805, -4.295899868011475, -4.661799907684326, -4.295599937438965, -4.662600040435791, -4.662499904632568, -3.4916999340057373, -4.661799907684326, -4.025100231170654, -4.664700031280518, -4.29449987411499, -4.660600185394287, -4.0243000984191895, -4.659800052642822, -4.659900188446045, -4.658699989318848, -5.245100021362305, -5.246500015258789, -5.246799945831299, -5.2469000816345215, -5.247099876403809, -5.247200012207031, -5.247499942779541, -5.247499942779541, -5.247799873352051, -4.319699764251709, -4.906799793243408, -4.906799793243408, -4.906799793243408, -4.906799793243408, -4.906799793243408, -4.906799793243408, -4.906799793243408, -4.906799793243408, -4.906799793243408, -4.906799793243408, -4.906799793243408, -4.906799793243408, -4.906799793243408, -4.906799793243408, -4.907400131225586, -4.907400131225586, -4.90749979019165, -4.90749979019165, -4.90749979019165, -4.90749979019165, -4.907599925994873, -4.907599925994873, -4.907599925994873, -4.907700061798096, -4.907700061798096, -4.907899856567383, -4.9079999923706055, -4.9079999923706055, -4.907899856567383, -4.320000171661377, -4.319699764251709, -4.3206000328063965, -3.4704999923706055, -3.9502999782562256, -3.6816999912261963, -4.318900108337402, -4.318299770355225, -4.3180999755859375, -4.902100086212158, -4.902100086212158, -4.90339994430542, -4.903500080108643, -4.904799938201904, -4.904900074005127, -4.905399799346924, -4.905700206756592, -4.905900001525879, -4.906199932098389, -4.906300067901611, -4.906599998474121, -4.906700134277344, -4.906700134277344, -4.906700134277344, -4.906799793243408, -4.821899890899658, -4.821899890899658, -4.821899890899658, -4.821899890899658, -4.821899890899658, -4.821899890899658, -4.821899890899658, -4.823200225830078, -4.823500156402588, -4.823599815368652, -4.823599815368652, -4.823599815368652, -4.82390022277832, -4.824100017547607, -4.82480001449585, -4.825099945068359, -4.825200080871582, -4.825200080871582, -4.825699806213379, -4.825699806213379, -4.825699806213379, -4.825699806213379, -4.825799942016602, -4.825699806213379, -4.825799942016602, -4.825799942016602, -4.825900077819824, -4.825900077819824, -4.826099872589111, -4.826200008392334, -4.236000061035156, -3.8557000160217285, -4.238800048828125, -4.220699787139893, -4.238699913024902, -4.2241997718811035, -3.8447999954223633, -4.198599815368652, -4.80109977722168, -4.803699970245361, -4.790299892425537, -4.79010009765625, -4.808000087738037, -4.7677998542785645, -4.801700115203857, -4.802999973297119, -4.799200057983398, -4.801599979400635, -4.801400184631348, -4.808199882507324, -4.814799785614014, -4.81689977645874, -4.819499969482422, -4.819900035858154, -4.821700096130371], \"loglift\": [30.0, 29.0, 28.0, 27.0, 26.0, 25.0, 24.0, 23.0, 22.0, 21.0, 20.0, 19.0, 18.0, 17.0, 16.0, 15.0, 14.0, 13.0, 12.0, 11.0, 10.0, 9.0, 8.0, 7.0, 6.0, 5.0, 4.0, 3.0, 2.0, 1.0, 0.796999990940094, 0.7633000016212463, 0.7615000009536743, 0.7598000168800354, 0.70169997215271, 0.7008000016212463, 0.7001000046730042, 0.6998000144958496, 0.6980000138282776, 0.6973000168800354, 0.6970000267028809, 0.6962000131607056, 0.6955999732017517, 0.6952000260353088, 0.6762999892234802, 0.675599992275238, 0.6597999930381775, 0.6571999788284302, 0.6270999908447266, 0.5922999978065491, 0.555899977684021, 0.5558000206947327, 0.5558000206947327, 0.5554999709129333, 0.5554999709129333, 0.555400013923645, 0.5552999973297119, 0.5552999973297119, 0.5551999807357788, 0.5551999807357788, 0.5472999811172485, 0.48910000920295715, 0.48500001430511475, 0.4675999879837036, 0.376800000667572, 0.41940000653266907, 0.4187999963760376, 0.3276999890804291, 0.3037000000476837, -0.13210000097751617, -0.03310000151395798, -0.36980000138282776, -0.16429999470710754, -0.19679999351501465, -0.048500001430511475, -0.032600000500679016, 0.9526000022888184, 0.9513000249862671, 0.951200008392334, 0.9509000182151794, 0.8629999756813049, 0.8118000030517578, 0.7885000109672546, 0.7885000109672546, 0.7885000109672546, 0.7885000109672546, 0.7885000109672546, 0.7885000109672546, 0.7885000109672546, 0.7885000109672546, 0.7885000109672546, 0.7885000109672546, 0.7885000109672546, 0.7883999943733215, 0.7883999943733215, 0.7883999943733215, 0.7883999943733215, 0.7883999943733215, 0.7883999943733215, 0.7883999943733215, 0.7883999943733215, 0.7883999943733215, 0.7883999943733215, 0.7883999943733215, 0.7870000004768372, 0.7870000004768372, 0.7771000266075134, 0.7317000031471252, 0.6798999905586243, 0.7087000012397766, 0.7084000110626221, 0.3619000017642975, 0.6327999830245972, 0.30559998750686646, 0.5297999978065491, 0.35690000653266907, 0.45159998536109924, -0.14749999344348907, 0.1988999992609024, 0.1454000025987625, -0.2078000009059906, -0.42089998722076416, 0.33550000190734863, -0.5619000196456909, 0.12049999833106995, 0.33629998564720154, 0.12039999663829803, 0.46880000829696655, -0.05380000174045563, 0.3345000147819519, 1.4437999725341797, 1.2417000532150269, 1.2417000532150269, 1.2417000532150269, 1.2417000532150269, 1.2417000532150269, 1.2417000532150269, 1.2417000532150269, 1.2417000532150269, 1.2417000532150269, 1.2417000532150269, 1.2417000532150269, 1.2416000366210938, 1.2416000366210938, 1.2416000366210938, 1.2409000396728516, 1.2409000396728516, 1.2409000396728516, 1.2409000396728516, 1.2409000396728516, 1.2409000396728516, 1.2408000230789185, 1.2408000230789185, 1.2407000064849854, 1.2407000064849854, 1.2405999898910522, 1.2405999898910522, 1.2405999898910522, 1.2405999898910522, 1.240399956703186, 1.190999984741211, 1.1073999404907227, 1.1065000295639038, 0.40630000829696655, 0.5005999803543091, 0.17190000414848328, 0.6565999984741211, 0.5059000253677368, 0.012600000016391277, -0.024800000712275505, -0.023800000548362732, -0.25189998745918274, 0.6334999799728394, 0.41929998993873596, 0.2896000146865845, 0.24740000069141388, -0.2791000008583069, 0.7473000288009644, 0.16850000619888306, 0.44040000438690186, 0.746999979019165, 0.20550000667572021, 0.7796000242233276, 0.7797999978065491, 0.7447999715805054, 1.375599980354309, 1.375599980354309, 1.375599980354309, 1.375599980354309, 1.375599980354309, 1.375599980354309, 1.375599980354309, 1.3741999864578247, 1.373900055885315, 1.3738000392913818, 1.3738000392913818, 1.3738000392913818, 1.3734999895095825, 1.3732999563217163, 1.372499942779541, 1.3717999458312988, 1.3717000484466553, 1.3717000484466553, 1.3710999488830566, 1.3710999488830566, 1.3710999488830566, 1.371000051498413, 1.371000051498413, 1.371000051498413, 1.371000051498413, 1.37090003490448, 1.3708000183105469, 1.3708000183105469, 1.3708000183105469, 1.3704999685287476, 1.3009999990463257, 1.1878999471664429, 1.207200050354004, 0.9729999899864197, 0.9304999709129333, 0.5810999870300293, 0.03189999982714653, -0.3449999988079071, 0.8840000033378601, 0.8809999823570251, 0.5559999942779541, 0.3222000002861023, 0.8758000135421753, -0.43700000643730164, 0.5685999989509583, 0.5421000123023987, 0.02500000037252903, 0.08829999715089798, -0.3504999876022339, -0.156700000166893, 0.33809998631477356, 0.3776000142097473, 0.5741000175476074, 0.9768999814987183, 0.8952000141143799]}, \"token.table\": {\"Topic\": [1, 4, 4, 2, 1, 3, 4, 1, 4, 1, 2, 3, 4, 1, 3, 4, 2, 1, 2, 4, 1, 4, 3, 4, 4, 1, 4, 3, 2, 3, 3, 1, 3, 1, 2, 2, 4, 1, 4, 4, 2, 1, 3, 3, 2, 4, 2, 2, 3, 1, 2, 2, 3, 4, 1, 2, 4, 1, 3, 1, 3, 3, 2, 3, 4, 3, 4, 1, 1, 2, 4, 1, 1, 2, 4, 4, 2, 3, 1, 2, 4, 2, 1, 1, 3, 1, 4, 2, 2, 3, 1, 2, 4, 3, 3, 2, 2, 3, 2, 3, 3, 3, 1, 3, 1, 2, 1, 2, 4, 4, 2, 2, 2, 3, 4, 2, 3, 1, 1, 2, 1, 3, 4, 1, 2, 3, 4, 2, 4, 1, 1, 2, 3, 2, 2, 1, 2, 3, 4, 3, 4, 3, 2, 4, 2, 1, 4, 2, 1, 2, 3, 1, 3, 1, 2, 2, 1, 2, 4, 4, 3, 4, 2, 4, 1, 1, 4, 1, 1, 4, 4, 3, 3, 3, 3, 1, 1, 4, 4, 4, 1, 1, 4, 4, 2, 4, 1, 2, 3, 4, 1, 2, 4, 4, 1, 2, 3, 4, 3, 1, 2, 3, 1, 1, 3, 1, 2, 3, 2, 3, 1, 3, 1, 2, 3, 4, 1, 2, 2, 2, 3, 1, 2, 4, 3, 2, 1, 2, 2, 1, 1, 4, 1, 1, 2, 3, 1, 3, 3, 4, 1, 2, 3, 4, 1, 4, 3, 2, 1, 2, 2, 4, 4, 3], \"Freq\": [0.43251314759254456, 0.43251314759254456, 0.9170024394989014, 0.7806450724601746, 0.5312473177909851, 0.5312473177909851, 0.9164706468582153, 0.7440837025642395, 0.24802789092063904, 0.49550333619117737, 0.49550333619117737, 0.8731361031532288, 0.9168893694877625, 0.7131156921386719, 0.8731337189674377, 0.9170026183128357, 1.0236042737960815, 0.2892465889453888, 0.2892465889453888, 0.5784931778907776, 0.6558606028556824, 0.3279303014278412, 0.8731362223625183, 0.9170047044754028, 0.917003333568573, 0.5491355061531067, 0.5491355061531067, 0.8730524778366089, 0.5403681993484497, 0.27018409967422485, 0.8731319308280945, 0.735475480556488, 0.24515849351882935, 0.24781151115894318, 0.7434345483779907, 0.7806461453437805, 0.9170037508010864, 0.964535117149353, 0.9163803458213806, 0.9169130325317383, 1.023893117904663, 0.5323434472084045, 0.5323434472084045, 0.8731333017349243, 0.7805786728858948, 0.9169105887413025, 0.7806426286697388, 1.0236889123916626, 0.8731951713562012, 0.49569061398506165, 0.49569061398506165, 0.7806434631347656, 0.873023271560669, 0.9163090586662292, 0.399910569190979, 0.399910569190979, 0.399910569190979, 0.743628978729248, 0.8730489611625671, 0.5967323780059814, 0.2983661890029907, 0.8731350302696228, 0.5500389337539673, 0.5500389337539673, 0.9164292216300964, 0.6142744421958923, 0.6142744421958923, 0.9629255533218384, 0.9651975035667419, 0.7806442379951477, 0.9169093370437622, 0.8476718664169312, 0.40098243951797485, 0.40098243951797485, 0.40098243951797485, 0.9162854552268982, 0.4244402348995209, 0.4244402348995209, 0.45580393075942993, 0.45580393075942993, 0.22790196537971497, 0.7806451320648193, 0.9650242328643799, 0.7347342371940613, 0.24491141736507416, 0.7436217665672302, 0.9163708090782166, 0.780643880367279, 0.5501155257225037, 0.5501155257225037, 0.6196191310882568, 0.3098095655441284, 0.3098095655441284, 0.8731361031532288, 0.873197078704834, 0.7806455492973328, 0.7806442379951477, 0.8731359243392944, 0.8027875423431396, 0.4013937711715698, 0.8731335401535034, 0.8731352686882019, 0.9643831849098206, 0.8731974363327026, 0.7277969717979431, 0.36389848589897156, 0.39981499314308167, 0.39981499314308167, 0.39981499314308167, 0.9162150025367737, 1.0231893062591553, 0.7806450724601746, 0.6726826429367065, 0.33634132146835327, 0.33634132146835327, 0.42442893981933594, 0.42442893981933594, 0.7436214685440063, 0.7114306092262268, 0.23714353144168854, 0.6452353000640869, 0.32261765003204346, 0.32261765003204346, 0.2639752924442291, 0.4399588406085968, 0.17598353326320648, 0.08799176663160324, 0.8208506107330322, 0.4104253053665161, 0.7435988187789917, 0.7436285614967346, 0.8025116920471191, 0.40125584602355957, 0.7806452512741089, 0.7806451320648193, 0.464505136013031, 0.2322525680065155, 0.2322525680065155, 0.2322525680065155, 0.473691463470459, 0.473691463470459, 0.8730488419532776, 0.780643880367279, 0.9170016050338745, 0.7806439399719238, 0.5486232042312622, 0.5486232042312622, 0.7806451320648193, 0.1906089037656784, 0.7624356150627136, 0.1906089037656784, 0.765751302242279, 0.3828756511211395, 0.7275403738021851, 0.36377018690109253, 0.7806456089019775, 0.3717711865901947, 0.7435423731803894, 0.9164307117462158, 0.9169312715530396, 0.4615623652935028, 0.4615623652935028, 0.567112147808075, 0.567112147808075, 0.7436334490776062, 0.9633796215057373, 0.9168787598609924, 0.9634944796562195, 0.7829802632331848, 0.3914901316165924, 0.916286051273346, 0.8730294108390808, 0.8730186820030212, 0.8730301260948181, 0.8731358051300049, 0.7436054348945618, 0.7121049165725708, 0.916343629360199, 0.9163137674331665, 0.9170027375221252, 0.9631786346435547, 0.5493441224098206, 0.5493441224098206, 0.9164246916770935, 0.780643105506897, 0.9162924885749817, 0.36021724343299866, 0.2701629400253296, 0.2701629400253296, 0.18010862171649933, 0.33604392409324646, 0.33604392409324646, 0.33604392409324646, 0.9163102507591248, 0.3197837769985199, 0.3197837769985199, 0.3197837769985199, 0.15989188849925995, 0.8730527758598328, 0.3916083872318268, 0.3916083872318268, 0.3916083872318268, 0.9647755026817322, 0.5320690274238586, 0.5320690274238586, 0.30976182222366333, 0.6195236444473267, 0.30976182222366333, 0.7806437015533447, 0.8731354475021362, 0.7436321377754211, 0.873032808303833, 0.39080339670181274, 0.39080339670181274, 0.19540169835090637, 0.19540169835090637, 0.29786017537117004, 0.5957203507423401, 0.7806454300880432, 0.7806426286697388, 0.873047411441803, 0.8082097768783569, 0.20205244421958923, 0.916355311870575, 0.8729915618896484, 0.7806457281112671, 0.49621936678886414, 0.49621936678886414, 0.7805761694908142, 0.7436190843582153, 0.7125555872917175, 0.9169055819511414, 0.7436084747314453, 0.5747619271278381, 0.28738096356391907, 0.8731312155723572, 0.9642124772071838, 0.87313312292099, 0.6141576170921326, 0.6141576170921326, 0.2835750877857208, 0.42536264657974243, 0.1417875438928604, 0.1417875438928604, 0.7819700837135315, 0.39098504185676575, 0.8730441331863403, 0.7806439399719238, 0.480773389339447, 0.480773389339447, 0.5667389631271362, 0.5667389631271362, 0.9168408513069153, 0.5941494107246399], \"Term\": [\"absolutely\", \"absolutely\", \"action\", \"afternoon\", \"also\", \"also\", \"apart\", \"area\", \"area\", \"around\", \"around\", \"attraction\", \"average\", \"avoid\", \"aware\", \"awesome\", \"back\", \"big\", \"big\", \"big\", \"bird\", \"bird\", \"bored\", \"boring\", \"borre\", \"brand\", \"brand\", \"bulky\", \"bus\", \"bus\", \"business\", \"cafeteria\", \"cafeteria\", \"car\", \"car\", \"carrefour\", \"center\", \"choose\", \"clean\", \"clothe\", \"coach\", \"coffee\", \"coffee\", \"collection\", \"complete\", \"court\", \"crowd\", \"day\", \"decent\", \"decide\", \"decide\", \"different\", \"dirty\", \"disappointed\", \"disappointing\", \"disappointing\", \"disappointing\", \"disgust\", \"dispenser\", \"drink\", \"drink\", \"easy\", \"eatery\", \"eatery\", \"effort\", \"enjoy\", \"enjoy\", \"enter\", \"entrance\", \"especially\", \"european\", \"exit\", \"expensive\", \"expensive\", \"expensive\", \"fall\", \"fast\", \"fast\", \"find\", \"find\", \"find\", \"fine\", \"first\", \"floor\", \"floor\", \"fly\", \"frankly\", \"fun\", \"get\", \"get\", \"go\", \"go\", \"go\", \"half\", \"happen\", \"home\", \"horrible\", \"hour\", \"ikea\", \"ikea\", \"inadequate\", \"intercity\", \"issue\", \"kill\", \"know\", \"know\", \"leave\", \"leave\", \"leave\", \"leftover\", \"limited\", \"live\", \"local\", \"local\", \"local\", \"lot\", \"lot\", \"loud\", \"main\", \"main\", \"make\", \"make\", \"make\", \"mall\", \"mall\", \"mall\", \"mall\", \"many\", \"many\", \"mesh\", \"mess\", \"minute\", \"minute\", \"morning\", \"name\", \"need\", \"need\", \"need\", \"need\", \"next\", \"next\", \"nicely\", \"night\", \"offer\", \"okshop\", \"outside\", \"outside\", \"outstanding\", \"park\", \"park\", \"park\", \"parking\", \"parking\", \"part\", \"part\", \"particularly\", \"people\", \"people\", \"pick\", \"pizza\", \"place\", \"place\", \"price\", \"price\", \"put\", \"quick\", \"quite\", \"reach\", \"really\", \"really\", \"refurbishment\", \"renovate\", \"renovation\", \"restroom\", \"ride\", \"roof\", \"round\", \"sail\", \"scavenge\", \"season\", \"seat\", \"see\", \"see\", \"seem\", \"seriously\", \"shade\", \"shop\", \"shop\", \"shop\", \"shop\", \"shopping\", \"shopping\", \"shopping\", \"sit\", \"small\", \"small\", \"small\", \"small\", \"soap\", \"sometimes\", \"sometimes\", \"sometimes\", \"sound\", \"space\", \"space\", \"special\", \"special\", \"special\", \"specialvery\", \"spend\", \"state\", \"still\", \"stop\", \"stop\", \"stop\", \"stop\", \"store\", \"store\", \"struggle\", \"stuff\", \"tacky\", \"take\", \"take\", \"tear\", \"teenage\", \"tend\", \"thing\", \"thing\", \"thought\", \"toilet\", \"tour\", \"typical\", \"unclean\", \"underground\", \"underground\", \"unique\", \"upper\", \"use\", \"variety\", \"variety\", \"visit\", \"visit\", \"visit\", \"visit\", \"want\", \"want\", \"wash\", \"waste\", \"well\", \"well\", \"whole\", \"whole\", \"world\", \"worth\"]}, \"R\": 30, \"lambda.step\": 0.01, \"plot.opts\": {\"xlab\": \"PC1\", \"ylab\": \"PC2\"}, \"topic.order\": [3, 2, 1, 4]};\n",
       "\n",
       "function LDAvis_load_lib(url, callback){\n",
       "  var s = document.createElement('script');\n",
       "  s.src = url;\n",
       "  s.async = true;\n",
       "  s.onreadystatechange = s.onload = callback;\n",
       "  s.onerror = function(){console.warn(\"failed to load library \" + url);};\n",
       "  document.getElementsByTagName(\"head\")[0].appendChild(s);\n",
       "}\n",
       "\n",
       "if(typeof(LDAvis) !== \"undefined\"){\n",
       "   // already loaded: just create the visualization\n",
       "   !function(LDAvis){\n",
       "       new LDAvis(\"#\" + \"ldavis_el1208022487592121044372636052\", ldavis_el1208022487592121044372636052_data);\n",
       "   }(LDAvis);\n",
       "}else if(typeof define === \"function\" && define.amd){\n",
       "   // require.js is available: use it to load d3/LDAvis\n",
       "   require.config({paths: {d3: \"https://cdnjs.cloudflare.com/ajax/libs/d3/3.5.5/d3.min\"}});\n",
       "   require([\"d3\"], function(d3){\n",
       "      window.d3 = d3;\n",
       "      LDAvis_load_lib(\"https://cdn.rawgit.com/bmabey/pyLDAvis/files/ldavis.v1.0.0.js\", function(){\n",
       "        new LDAvis(\"#\" + \"ldavis_el1208022487592121044372636052\", ldavis_el1208022487592121044372636052_data);\n",
       "      });\n",
       "    });\n",
       "}else{\n",
       "    // require.js not available: dynamically load d3 & LDAvis\n",
       "    LDAvis_load_lib(\"https://cdnjs.cloudflare.com/ajax/libs/d3/3.5.5/d3.min.js\", function(){\n",
       "         LDAvis_load_lib(\"https://cdn.rawgit.com/bmabey/pyLDAvis/files/ldavis.v1.0.0.js\", function(){\n",
       "                 new LDAvis(\"#\" + \"ldavis_el1208022487592121044372636052\", ldavis_el1208022487592121044372636052_data);\n",
       "            })\n",
       "         });\n",
       "}\n",
       "</script>"
      ],
      "text/plain": [
       "PreparedData(topic_coordinates=              x         y  topics  cluster       Freq\n",
       "topic                                                \n",
       "2      0.088389  0.070679       1        1  39.206135\n",
       "1      0.042551 -0.100040       2        1  29.861513\n",
       "0     -0.085427 -0.045425       3        1  16.949547\n",
       "3     -0.045513  0.074787       4        1  13.982801, topic_info=      Term       Freq      Total Category  logprob  loglift\n",
       "84     big   3.000000   3.000000  Default  30.0000  30.0000\n",
       "11    shop  11.000000  11.000000  Default  29.0000  29.0000\n",
       "143   next   2.000000   2.000000  Default  28.0000  28.0000\n",
       "92     bus   3.000000   3.000000  Default  27.0000  27.0000\n",
       "21    bird   3.000000   3.000000  Default  26.0000  26.0000\n",
       "..     ...        ...        ...      ...      ...      ...\n",
       "5     make   0.607764   3.099644   Topic4  -4.8148   0.3381\n",
       "116  local   0.606492   2.973170   Topic4  -4.8169   0.3776\n",
       "119   many   0.604896   2.436497   Topic4  -4.8195   0.5741\n",
       "136  enjoy   0.604627   1.627937   Topic4  -4.8199   0.9769\n",
       "120  price   0.603564   1.763320   Topic4  -4.8217   0.8952\n",
       "\n",
       "[240 rows x 6 columns], token_table=      Topic      Freq        Term\n",
       "term                             \n",
       "18        1  0.432513  absolutely\n",
       "18        4  0.432513  absolutely\n",
       "83        4  0.917002      action\n",
       "213       2  0.780645   afternoon\n",
       "164       1  0.531247        also\n",
       "...     ...       ...         ...\n",
       "133       2  0.480773        well\n",
       "61        2  0.566739       whole\n",
       "61        4  0.566739       whole\n",
       "151       4  0.916841       world\n",
       "82        3  0.594149       worth\n",
       "\n",
       "[254 rows x 3 columns], R=30, lambda_step=0.01, plot_opts={'xlab': 'PC1', 'ylab': 'PC2'}, topic_order=[3, 2, 1, 4])"
      ]
     },
     "metadata": {},
     "output_type": "display_data"
    }
   ],
   "source": [
    "plot_model(lda_neg_custom, plot ='topic_model')"
   ]
  },
  {
   "cell_type": "code",
   "execution_count": null,
   "metadata": {},
   "outputs": [],
   "source": []
  }
 ],
 "metadata": {
  "kernelspec": {
   "display_name": "Python 3",
   "language": "python",
   "name": "python3"
  },
  "language_info": {
   "codemirror_mode": {
    "name": "ipython",
    "version": 3
   },
   "file_extension": ".py",
   "mimetype": "text/x-python",
   "name": "python",
   "nbconvert_exporter": "python",
   "pygments_lexer": "ipython3",
   "version": "3.7.4"
  }
 },
 "nbformat": 4,
 "nbformat_minor": 2
}
