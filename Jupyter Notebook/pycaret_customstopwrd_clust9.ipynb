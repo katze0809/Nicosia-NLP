{
 "cells": [
  {
   "cell_type": "code",
   "execution_count": 22,
   "metadata": {},
   "outputs": [],
   "source": [
    "import pandas as pd\n",
    "import glob"
   ]
  },
  {
   "cell_type": "markdown",
   "metadata": {},
   "source": [
    "# Positive Reviews"
   ]
  },
  {
   "cell_type": "code",
   "execution_count": 23,
   "metadata": {},
   "outputs": [
    {
     "data": {
      "text/html": [
       "<div>\n",
       "<style scoped>\n",
       "    .dataframe tbody tr th:only-of-type {\n",
       "        vertical-align: middle;\n",
       "    }\n",
       "\n",
       "    .dataframe tbody tr th {\n",
       "        vertical-align: top;\n",
       "    }\n",
       "\n",
       "    .dataframe thead th {\n",
       "        text-align: right;\n",
       "    }\n",
       "</style>\n",
       "<table border=\"1\" class=\"dataframe\">\n",
       "  <thead>\n",
       "    <tr style=\"text-align: right;\">\n",
       "      <th></th>\n",
       "      <th>Unnamed: 0</th>\n",
       "      <th>r_points</th>\n",
       "      <th>r_text</th>\n",
       "      <th>place</th>\n",
       "      <th>Unnamed: 3</th>\n",
       "      <th>Unnamed: 4</th>\n",
       "      <th>scores</th>\n",
       "      <th>compound</th>\n",
       "      <th>score</th>\n",
       "    </tr>\n",
       "  </thead>\n",
       "  <tbody>\n",
       "    <tr>\n",
       "      <th>0</th>\n",
       "      <td>0</td>\n",
       "      <td>50</td>\n",
       "      <td>For anyone who appreciates or wants to learn a...</td>\n",
       "      <td>Archbishop Makarios III Cultural Foundation</td>\n",
       "      <td>NaN</td>\n",
       "      <td>NaN</td>\n",
       "      <td>{'neg': 0.0, 'neu': 0.733, 'pos': 0.267, 'comp...</td>\n",
       "      <td>0.9060</td>\n",
       "      <td>pos</td>\n",
       "    </tr>\n",
       "    <tr>\n",
       "      <th>1</th>\n",
       "      <td>1</td>\n",
       "      <td>30</td>\n",
       "      <td>There are three sections of the museum: painti...</td>\n",
       "      <td>Archbishop Makarios III Cultural Foundation</td>\n",
       "      <td>NaN</td>\n",
       "      <td>NaN</td>\n",
       "      <td>{'neg': 0.0, 'neu': 1.0, 'pos': 0.0, 'compound...</td>\n",
       "      <td>0.0000</td>\n",
       "      <td>pos</td>\n",
       "    </tr>\n",
       "    <tr>\n",
       "      <th>2</th>\n",
       "      <td>3</td>\n",
       "      <td>50</td>\n",
       "      <td>Very good selction of the cultural art history...</td>\n",
       "      <td>Archbishop Makarios III Cultural Foundation</td>\n",
       "      <td>NaN</td>\n",
       "      <td>NaN</td>\n",
       "      <td>{'neg': 0.0, 'neu': 0.667, 'pos': 0.333, 'comp...</td>\n",
       "      <td>0.8169</td>\n",
       "      <td>pos</td>\n",
       "    </tr>\n",
       "    <tr>\n",
       "      <th>3</th>\n",
       "      <td>4</td>\n",
       "      <td>50</td>\n",
       "      <td>The relic treasures here are wonderful , step ...</td>\n",
       "      <td>Archbishop Makarios III Cultural Foundation</td>\n",
       "      <td>NaN</td>\n",
       "      <td>NaN</td>\n",
       "      <td>{'neg': 0.0, 'neu': 0.772, 'pos': 0.228, 'comp...</td>\n",
       "      <td>0.9022</td>\n",
       "      <td>pos</td>\n",
       "    </tr>\n",
       "    <tr>\n",
       "      <th>4</th>\n",
       "      <td>5</td>\n",
       "      <td>40</td>\n",
       "      <td>This building is located close to the Archbish...</td>\n",
       "      <td>Archbishop Makarios III Cultural Foundation</td>\n",
       "      <td>NaN</td>\n",
       "      <td>NaN</td>\n",
       "      <td>{'neg': 0.0, 'neu': 0.951, 'pos': 0.049, 'comp...</td>\n",
       "      <td>0.1139</td>\n",
       "      <td>pos</td>\n",
       "    </tr>\n",
       "    <tr>\n",
       "      <th>...</th>\n",
       "      <td>...</td>\n",
       "      <td>...</td>\n",
       "      <td>...</td>\n",
       "      <td>...</td>\n",
       "      <td>...</td>\n",
       "      <td>...</td>\n",
       "      <td>...</td>\n",
       "      <td>...</td>\n",
       "      <td>...</td>\n",
       "    </tr>\n",
       "    <tr>\n",
       "      <th>294</th>\n",
       "      <td>336</td>\n",
       "      <td>50</td>\n",
       "      <td>The Museum presents the struggle of Greek Cypr...</td>\n",
       "      <td>The National Struggle Museum</td>\n",
       "      <td>NaN</td>\n",
       "      <td>NaN</td>\n",
       "      <td>{'neg': 0.05, 'neu': 0.823, 'pos': 0.128, 'com...</td>\n",
       "      <td>0.5574</td>\n",
       "      <td>pos</td>\n",
       "    </tr>\n",
       "    <tr>\n",
       "      <th>295</th>\n",
       "      <td>338</td>\n",
       "      <td>50</td>\n",
       "      <td>I first visited this museum in 1982 - it was b...</td>\n",
       "      <td>The National Struggle Museum</td>\n",
       "      <td>NaN</td>\n",
       "      <td>NaN</td>\n",
       "      <td>{'neg': 0.184, 'neu': 0.624, 'pos': 0.192, 'co...</td>\n",
       "      <td>0.1716</td>\n",
       "      <td>pos</td>\n",
       "    </tr>\n",
       "    <tr>\n",
       "      <th>296</th>\n",
       "      <td>339</td>\n",
       "      <td>50</td>\n",
       "      <td>Η πραγματικη εικονα των γεγονοτων (1955-1959) ...</td>\n",
       "      <td>The National Struggle Museum</td>\n",
       "      <td>NaN</td>\n",
       "      <td>NaN</td>\n",
       "      <td>{'neg': 0.075, 'neu': 0.822, 'pos': 0.103, 'co...</td>\n",
       "      <td>0.6705</td>\n",
       "      <td>pos</td>\n",
       "    </tr>\n",
       "    <tr>\n",
       "      <th>297</th>\n",
       "      <td>340</td>\n",
       "      <td>50</td>\n",
       "      <td>Any visitor should see this museum to understa...</td>\n",
       "      <td>The National Struggle Museum</td>\n",
       "      <td>NaN</td>\n",
       "      <td>NaN</td>\n",
       "      <td>{'neg': 0.0, 'neu': 0.902, 'pos': 0.098, 'comp...</td>\n",
       "      <td>0.7263</td>\n",
       "      <td>pos</td>\n",
       "    </tr>\n",
       "    <tr>\n",
       "      <th>298</th>\n",
       "      <td>341</td>\n",
       "      <td>50</td>\n",
       "      <td>Modern History and struggles for freedom. Very...</td>\n",
       "      <td>The National Struggle Museum</td>\n",
       "      <td>NaN</td>\n",
       "      <td>NaN</td>\n",
       "      <td>{'neg': 0.091, 'neu': 0.476, 'pos': 0.433, 'co...</td>\n",
       "      <td>0.8841</td>\n",
       "      <td>pos</td>\n",
       "    </tr>\n",
       "  </tbody>\n",
       "</table>\n",
       "<p>299 rows × 9 columns</p>\n",
       "</div>"
      ],
      "text/plain": [
       "     Unnamed: 0  r_points                                             r_text  \\\n",
       "0             0        50  For anyone who appreciates or wants to learn a...   \n",
       "1             1        30  There are three sections of the museum: painti...   \n",
       "2             3        50  Very good selction of the cultural art history...   \n",
       "3             4        50  The relic treasures here are wonderful , step ...   \n",
       "4             5        40  This building is located close to the Archbish...   \n",
       "..          ...       ...                                                ...   \n",
       "294         336        50  The Museum presents the struggle of Greek Cypr...   \n",
       "295         338        50  I first visited this museum in 1982 - it was b...   \n",
       "296         339        50  Η πραγματικη εικονα των γεγονοτων (1955-1959) ...   \n",
       "297         340        50  Any visitor should see this museum to understa...   \n",
       "298         341        50  Modern History and struggles for freedom. Very...   \n",
       "\n",
       "                                           place Unnamed: 3  Unnamed: 4  \\\n",
       "0    Archbishop Makarios III Cultural Foundation        NaN         NaN   \n",
       "1    Archbishop Makarios III Cultural Foundation        NaN         NaN   \n",
       "2    Archbishop Makarios III Cultural Foundation        NaN         NaN   \n",
       "3    Archbishop Makarios III Cultural Foundation        NaN         NaN   \n",
       "4    Archbishop Makarios III Cultural Foundation        NaN         NaN   \n",
       "..                                           ...        ...         ...   \n",
       "294                 The National Struggle Museum        NaN         NaN   \n",
       "295                 The National Struggle Museum        NaN         NaN   \n",
       "296                 The National Struggle Museum        NaN         NaN   \n",
       "297                 The National Struggle Museum        NaN         NaN   \n",
       "298                 The National Struggle Museum        NaN         NaN   \n",
       "\n",
       "                                                scores  compound score  \n",
       "0    {'neg': 0.0, 'neu': 0.733, 'pos': 0.267, 'comp...    0.9060   pos  \n",
       "1    {'neg': 0.0, 'neu': 1.0, 'pos': 0.0, 'compound...    0.0000   pos  \n",
       "2    {'neg': 0.0, 'neu': 0.667, 'pos': 0.333, 'comp...    0.8169   pos  \n",
       "3    {'neg': 0.0, 'neu': 0.772, 'pos': 0.228, 'comp...    0.9022   pos  \n",
       "4    {'neg': 0.0, 'neu': 0.951, 'pos': 0.049, 'comp...    0.1139   pos  \n",
       "..                                                 ...       ...   ...  \n",
       "294  {'neg': 0.05, 'neu': 0.823, 'pos': 0.128, 'com...    0.5574   pos  \n",
       "295  {'neg': 0.184, 'neu': 0.624, 'pos': 0.192, 'co...    0.1716   pos  \n",
       "296  {'neg': 0.075, 'neu': 0.822, 'pos': 0.103, 'co...    0.6705   pos  \n",
       "297  {'neg': 0.0, 'neu': 0.902, 'pos': 0.098, 'comp...    0.7263   pos  \n",
       "298  {'neg': 0.091, 'neu': 0.476, 'pos': 0.433, 'co...    0.8841   pos  \n",
       "\n",
       "[299 rows x 9 columns]"
      ]
     },
     "execution_count": 23,
     "metadata": {},
     "output_type": "execute_result"
    }
   ],
   "source": [
    "pos_review = pd.read_csv(r'C:\\Users\\Dell\\Desktop\\sentiment_cluster9_pos.csv')\n",
    "pos_review"
   ]
  },
  {
   "cell_type": "code",
   "execution_count": 24,
   "metadata": {},
   "outputs": [],
   "source": [
    "from pycaret.nlp import *"
   ]
  },
  {
   "cell_type": "code",
   "execution_count": 25,
   "metadata": {},
   "outputs": [
    {
     "data": {
      "text/html": [
       "<style  type=\"text/css\" >\n",
       "</style><table id=\"T_30c8d4d2_31ad_11eb_b84e_c48e8ff9d2e0\" ><thead>    <tr>        <th class=\"col_heading level0 col0\" >Description</th>        <th class=\"col_heading level0 col1\" >Value</th>    </tr></thead><tbody>\n",
       "                <tr>\n",
       "                                <td id=\"T_30c8d4d2_31ad_11eb_b84e_c48e8ff9d2e0row0_col0\" class=\"data row0 col0\" >session_id</td>\n",
       "                        <td id=\"T_30c8d4d2_31ad_11eb_b84e_c48e8ff9d2e0row0_col1\" class=\"data row0 col1\" >8512</td>\n",
       "            </tr>\n",
       "            <tr>\n",
       "                                <td id=\"T_30c8d4d2_31ad_11eb_b84e_c48e8ff9d2e0row1_col0\" class=\"data row1 col0\" >Documents</td>\n",
       "                        <td id=\"T_30c8d4d2_31ad_11eb_b84e_c48e8ff9d2e0row1_col1\" class=\"data row1 col1\" >299</td>\n",
       "            </tr>\n",
       "            <tr>\n",
       "                                <td id=\"T_30c8d4d2_31ad_11eb_b84e_c48e8ff9d2e0row2_col0\" class=\"data row2 col0\" >Vocab Size</td>\n",
       "                        <td id=\"T_30c8d4d2_31ad_11eb_b84e_c48e8ff9d2e0row2_col1\" class=\"data row2 col1\" >1773</td>\n",
       "            </tr>\n",
       "            <tr>\n",
       "                                <td id=\"T_30c8d4d2_31ad_11eb_b84e_c48e8ff9d2e0row3_col0\" class=\"data row3 col0\" >Custom Stopwords</td>\n",
       "                        <td id=\"T_30c8d4d2_31ad_11eb_b84e_c48e8ff9d2e0row3_col1\" class=\"data row3 col1\" >True</td>\n",
       "            </tr>\n",
       "    </tbody></table>"
      ],
      "text/plain": [
       "<pandas.io.formats.style.Styler at 0x1c54da15388>"
      ]
     },
     "metadata": {},
     "output_type": "display_data"
    }
   ],
   "source": [
    "exp_nlp = setup(data = pos_review, target = 'r_text',\n",
    "                custom_stopwords = [ 'well','room', 'nice', 'good', 'restaurant', 'food'])"
   ]
  },
  {
   "cell_type": "code",
   "execution_count": 26,
   "metadata": {},
   "outputs": [
    {
     "name": "stdout",
     "output_type": "stream",
     "text": [
      "LdaModel(num_terms=1773, num_topics=4, decay=0.5, chunksize=100)\n"
     ]
    }
   ],
   "source": [
    "#create an LDA model\n",
    "lda_pos_custom = create_model('lda')\n",
    "print(lda_pos_custom)"
   ]
  },
  {
   "cell_type": "code",
   "execution_count": 27,
   "metadata": {},
   "outputs": [],
   "source": [
    "apply_lda_pos = assign_model(lda_pos_custom)"
   ]
  },
  {
   "cell_type": "code",
   "execution_count": 28,
   "metadata": {},
   "outputs": [
    {
     "data": {
      "text/html": [
       "<div>\n",
       "<style scoped>\n",
       "    .dataframe tbody tr th:only-of-type {\n",
       "        vertical-align: middle;\n",
       "    }\n",
       "\n",
       "    .dataframe tbody tr th {\n",
       "        vertical-align: top;\n",
       "    }\n",
       "\n",
       "    .dataframe thead th {\n",
       "        text-align: right;\n",
       "    }\n",
       "</style>\n",
       "<table border=\"1\" class=\"dataframe\">\n",
       "  <thead>\n",
       "    <tr style=\"text-align: right;\">\n",
       "      <th></th>\n",
       "      <th>Unnamed: 0</th>\n",
       "      <th>r_points</th>\n",
       "      <th>r_text</th>\n",
       "      <th>place</th>\n",
       "      <th>Unnamed: 3</th>\n",
       "      <th>Unnamed: 4</th>\n",
       "      <th>scores</th>\n",
       "      <th>compound</th>\n",
       "      <th>score</th>\n",
       "      <th>Topic_0</th>\n",
       "      <th>Topic_1</th>\n",
       "      <th>Topic_2</th>\n",
       "      <th>Topic_3</th>\n",
       "      <th>Dominant_Topic</th>\n",
       "      <th>Perc_Dominant_Topic</th>\n",
       "    </tr>\n",
       "  </thead>\n",
       "  <tbody>\n",
       "    <tr>\n",
       "      <th>0</th>\n",
       "      <td>0</td>\n",
       "      <td>50</td>\n",
       "      <td>appreciate want learn byzantine fantastic intr...</td>\n",
       "      <td>Archbishop Makarios III Cultural Foundation</td>\n",
       "      <td>NaN</td>\n",
       "      <td>NaN</td>\n",
       "      <td>{'neg': 0.0, 'neu': 0.733, 'pos': 0.267, 'comp...</td>\n",
       "      <td>0.9060</td>\n",
       "      <td>pos</td>\n",
       "      <td>0.006944</td>\n",
       "      <td>0.975985</td>\n",
       "      <td>0.011246</td>\n",
       "      <td>0.005825</td>\n",
       "      <td>Topic 1</td>\n",
       "      <td>0.98</td>\n",
       "    </tr>\n",
       "    <tr>\n",
       "      <th>1</th>\n",
       "      <td>1</td>\n",
       "      <td>30</td>\n",
       "      <td>section paint old school range modern art chri...</td>\n",
       "      <td>Archbishop Makarios III Cultural Foundation</td>\n",
       "      <td>NaN</td>\n",
       "      <td>NaN</td>\n",
       "      <td>{'neg': 0.0, 'neu': 1.0, 'pos': 0.0, 'compound...</td>\n",
       "      <td>0.0000</td>\n",
       "      <td>pos</td>\n",
       "      <td>0.970287</td>\n",
       "      <td>0.012611</td>\n",
       "      <td>0.011276</td>\n",
       "      <td>0.005826</td>\n",
       "      <td>Topic 0</td>\n",
       "      <td>0.97</td>\n",
       "    </tr>\n",
       "    <tr>\n",
       "      <th>2</th>\n",
       "      <td>3</td>\n",
       "      <td>50</td>\n",
       "      <td>art history lay exhibit</td>\n",
       "      <td>Archbishop Makarios III Cultural Foundation</td>\n",
       "      <td>NaN</td>\n",
       "      <td>NaN</td>\n",
       "      <td>{'neg': 0.0, 'neu': 0.667, 'pos': 0.333, 'comp...</td>\n",
       "      <td>0.8169</td>\n",
       "      <td>pos</td>\n",
       "      <td>0.017947</td>\n",
       "      <td>0.937938</td>\n",
       "      <td>0.029059</td>\n",
       "      <td>0.015055</td>\n",
       "      <td>Topic 1</td>\n",
       "      <td>0.94</td>\n",
       "    </tr>\n",
       "    <tr>\n",
       "      <th>3</th>\n",
       "      <td>4</td>\n",
       "      <td>50</td>\n",
       "      <td>treasure wonderful step back past look skill a...</td>\n",
       "      <td>Archbishop Makarios III Cultural Foundation</td>\n",
       "      <td>NaN</td>\n",
       "      <td>NaN</td>\n",
       "      <td>{'neg': 0.0, 'neu': 0.772, 'pos': 0.228, 'comp...</td>\n",
       "      <td>0.9022</td>\n",
       "      <td>pos</td>\n",
       "      <td>0.654808</td>\n",
       "      <td>0.336492</td>\n",
       "      <td>0.005733</td>\n",
       "      <td>0.002967</td>\n",
       "      <td>Topic 0</td>\n",
       "      <td>0.65</td>\n",
       "    </tr>\n",
       "    <tr>\n",
       "      <th>4</th>\n",
       "      <td>5</td>\n",
       "      <td>40</td>\n",
       "      <td>building locate close archbishop_palace museum...</td>\n",
       "      <td>Archbishop Makarios III Cultural Foundation</td>\n",
       "      <td>NaN</td>\n",
       "      <td>NaN</td>\n",
       "      <td>{'neg': 0.0, 'neu': 0.951, 'pos': 0.049, 'comp...</td>\n",
       "      <td>0.1139</td>\n",
       "      <td>pos</td>\n",
       "      <td>0.009419</td>\n",
       "      <td>0.967419</td>\n",
       "      <td>0.015261</td>\n",
       "      <td>0.007901</td>\n",
       "      <td>Topic 1</td>\n",
       "      <td>0.97</td>\n",
       "    </tr>\n",
       "    <tr>\n",
       "      <th>...</th>\n",
       "      <td>...</td>\n",
       "      <td>...</td>\n",
       "      <td>...</td>\n",
       "      <td>...</td>\n",
       "      <td>...</td>\n",
       "      <td>...</td>\n",
       "      <td>...</td>\n",
       "      <td>...</td>\n",
       "      <td>...</td>\n",
       "      <td>...</td>\n",
       "      <td>...</td>\n",
       "      <td>...</td>\n",
       "      <td>...</td>\n",
       "      <td>...</td>\n",
       "      <td>...</td>\n",
       "    </tr>\n",
       "    <tr>\n",
       "      <th>294</th>\n",
       "      <td>336</td>\n",
       "      <td>50</td>\n",
       "      <td>museum present struggle cypriot determination ...</td>\n",
       "      <td>The National Struggle Museum</td>\n",
       "      <td>NaN</td>\n",
       "      <td>NaN</td>\n",
       "      <td>{'neg': 0.05, 'neu': 0.823, 'pos': 0.128, 'com...</td>\n",
       "      <td>0.5574</td>\n",
       "      <td>pos</td>\n",
       "      <td>0.004305</td>\n",
       "      <td>0.985106</td>\n",
       "      <td>0.006978</td>\n",
       "      <td>0.003611</td>\n",
       "      <td>Topic 1</td>\n",
       "      <td>0.99</td>\n",
       "    </tr>\n",
       "    <tr>\n",
       "      <th>295</th>\n",
       "      <td>338</td>\n",
       "      <td>50</td>\n",
       "      <td>first visit museum bad bad basically dirty dus...</td>\n",
       "      <td>The National Struggle Museum</td>\n",
       "      <td>NaN</td>\n",
       "      <td>NaN</td>\n",
       "      <td>{'neg': 0.184, 'neu': 0.624, 'pos': 0.192, 'co...</td>\n",
       "      <td>0.1716</td>\n",
       "      <td>pos</td>\n",
       "      <td>0.003883</td>\n",
       "      <td>0.839529</td>\n",
       "      <td>0.153330</td>\n",
       "      <td>0.003258</td>\n",
       "      <td>Topic 1</td>\n",
       "      <td>0.84</td>\n",
       "    </tr>\n",
       "    <tr>\n",
       "      <th>296</th>\n",
       "      <td>339</td>\n",
       "      <td>50</td>\n",
       "      <td>πραγματικη σημαντικο σημερα true picture fact ...</td>\n",
       "      <td>The National Struggle Museum</td>\n",
       "      <td>NaN</td>\n",
       "      <td>NaN</td>\n",
       "      <td>{'neg': 0.075, 'neu': 0.822, 'pos': 0.103, 'co...</td>\n",
       "      <td>0.6705</td>\n",
       "      <td>pos</td>\n",
       "      <td>0.002177</td>\n",
       "      <td>0.093037</td>\n",
       "      <td>0.003527</td>\n",
       "      <td>0.901259</td>\n",
       "      <td>Topic 3</td>\n",
       "      <td>0.90</td>\n",
       "    </tr>\n",
       "    <tr>\n",
       "      <th>297</th>\n",
       "      <td>340</td>\n",
       "      <td>50</td>\n",
       "      <td>understand fact struggle cypriot need hour see...</td>\n",
       "      <td>The National Struggle Museum</td>\n",
       "      <td>NaN</td>\n",
       "      <td>NaN</td>\n",
       "      <td>{'neg': 0.0, 'neu': 0.902, 'pos': 0.098, 'comp...</td>\n",
       "      <td>0.7263</td>\n",
       "      <td>pos</td>\n",
       "      <td>0.004305</td>\n",
       "      <td>0.775695</td>\n",
       "      <td>0.006977</td>\n",
       "      <td>0.213023</td>\n",
       "      <td>Topic 1</td>\n",
       "      <td>0.78</td>\n",
       "    </tr>\n",
       "    <tr>\n",
       "      <th>298</th>\n",
       "      <td>341</td>\n",
       "      <td>50</td>\n",
       "      <td>modern history struggle freedom job remarkable...</td>\n",
       "      <td>The National Struggle Museum</td>\n",
       "      <td>NaN</td>\n",
       "      <td>NaN</td>\n",
       "      <td>{'neg': 0.091, 'neu': 0.476, 'pos': 0.433, 'co...</td>\n",
       "      <td>0.8841</td>\n",
       "      <td>pos</td>\n",
       "      <td>0.145252</td>\n",
       "      <td>0.415285</td>\n",
       "      <td>0.013659</td>\n",
       "      <td>0.425803</td>\n",
       "      <td>Topic 3</td>\n",
       "      <td>0.43</td>\n",
       "    </tr>\n",
       "  </tbody>\n",
       "</table>\n",
       "<p>299 rows × 15 columns</p>\n",
       "</div>"
      ],
      "text/plain": [
       "     Unnamed: 0  r_points                                             r_text  \\\n",
       "0             0        50  appreciate want learn byzantine fantastic intr...   \n",
       "1             1        30  section paint old school range modern art chri...   \n",
       "2             3        50                            art history lay exhibit   \n",
       "3             4        50  treasure wonderful step back past look skill a...   \n",
       "4             5        40  building locate close archbishop_palace museum...   \n",
       "..          ...       ...                                                ...   \n",
       "294         336        50  museum present struggle cypriot determination ...   \n",
       "295         338        50  first visit museum bad bad basically dirty dus...   \n",
       "296         339        50  πραγματικη σημαντικο σημερα true picture fact ...   \n",
       "297         340        50  understand fact struggle cypriot need hour see...   \n",
       "298         341        50  modern history struggle freedom job remarkable...   \n",
       "\n",
       "                                           place Unnamed: 3  Unnamed: 4  \\\n",
       "0    Archbishop Makarios III Cultural Foundation        NaN         NaN   \n",
       "1    Archbishop Makarios III Cultural Foundation        NaN         NaN   \n",
       "2    Archbishop Makarios III Cultural Foundation        NaN         NaN   \n",
       "3    Archbishop Makarios III Cultural Foundation        NaN         NaN   \n",
       "4    Archbishop Makarios III Cultural Foundation        NaN         NaN   \n",
       "..                                           ...        ...         ...   \n",
       "294                 The National Struggle Museum        NaN         NaN   \n",
       "295                 The National Struggle Museum        NaN         NaN   \n",
       "296                 The National Struggle Museum        NaN         NaN   \n",
       "297                 The National Struggle Museum        NaN         NaN   \n",
       "298                 The National Struggle Museum        NaN         NaN   \n",
       "\n",
       "                                                scores  compound score  \\\n",
       "0    {'neg': 0.0, 'neu': 0.733, 'pos': 0.267, 'comp...    0.9060   pos   \n",
       "1    {'neg': 0.0, 'neu': 1.0, 'pos': 0.0, 'compound...    0.0000   pos   \n",
       "2    {'neg': 0.0, 'neu': 0.667, 'pos': 0.333, 'comp...    0.8169   pos   \n",
       "3    {'neg': 0.0, 'neu': 0.772, 'pos': 0.228, 'comp...    0.9022   pos   \n",
       "4    {'neg': 0.0, 'neu': 0.951, 'pos': 0.049, 'comp...    0.1139   pos   \n",
       "..                                                 ...       ...   ...   \n",
       "294  {'neg': 0.05, 'neu': 0.823, 'pos': 0.128, 'com...    0.5574   pos   \n",
       "295  {'neg': 0.184, 'neu': 0.624, 'pos': 0.192, 'co...    0.1716   pos   \n",
       "296  {'neg': 0.075, 'neu': 0.822, 'pos': 0.103, 'co...    0.6705   pos   \n",
       "297  {'neg': 0.0, 'neu': 0.902, 'pos': 0.098, 'comp...    0.7263   pos   \n",
       "298  {'neg': 0.091, 'neu': 0.476, 'pos': 0.433, 'co...    0.8841   pos   \n",
       "\n",
       "      Topic_0   Topic_1   Topic_2   Topic_3 Dominant_Topic  \\\n",
       "0    0.006944  0.975985  0.011246  0.005825        Topic 1   \n",
       "1    0.970287  0.012611  0.011276  0.005826        Topic 0   \n",
       "2    0.017947  0.937938  0.029059  0.015055        Topic 1   \n",
       "3    0.654808  0.336492  0.005733  0.002967        Topic 0   \n",
       "4    0.009419  0.967419  0.015261  0.007901        Topic 1   \n",
       "..        ...       ...       ...       ...            ...   \n",
       "294  0.004305  0.985106  0.006978  0.003611        Topic 1   \n",
       "295  0.003883  0.839529  0.153330  0.003258        Topic 1   \n",
       "296  0.002177  0.093037  0.003527  0.901259        Topic 3   \n",
       "297  0.004305  0.775695  0.006977  0.213023        Topic 1   \n",
       "298  0.145252  0.415285  0.013659  0.425803        Topic 3   \n",
       "\n",
       "     Perc_Dominant_Topic  \n",
       "0                   0.98  \n",
       "1                   0.97  \n",
       "2                   0.94  \n",
       "3                   0.65  \n",
       "4                   0.97  \n",
       "..                   ...  \n",
       "294                 0.99  \n",
       "295                 0.84  \n",
       "296                 0.90  \n",
       "297                 0.78  \n",
       "298                 0.43  \n",
       "\n",
       "[299 rows x 15 columns]"
      ]
     },
     "execution_count": 28,
     "metadata": {},
     "output_type": "execute_result"
    }
   ],
   "source": [
    "apply_lda_pos"
   ]
  },
  {
   "cell_type": "code",
   "execution_count": 29,
   "metadata": {},
   "outputs": [
    {
     "data": {
      "application/vnd.jupyter.widget-view+json": {
       "model_id": "2b6c460c1a1744b08992d8ed0dee39c5",
       "version_major": 2,
       "version_minor": 0
      },
      "text/plain": [
       "interactive(children=(ToggleButtons(description='Plot Type:', icons=('',), options=(('Frequency Plot', 'freque…"
      ]
     },
     "metadata": {},
     "output_type": "display_data"
    }
   ],
   "source": [
    "evaluate_model(lda_pos_custom)"
   ]
  },
  {
   "cell_type": "code",
   "execution_count": 30,
   "metadata": {},
   "outputs": [
    {
     "data": {
      "text/html": [
       "        <script type=\"text/javascript\">\n",
       "        window.PlotlyConfig = {MathJaxConfig: 'local'};\n",
       "        if (window.MathJax) {MathJax.Hub.Config({SVG: {font: \"STIX-Web\"}});}\n",
       "        if (typeof require !== 'undefined') {\n",
       "        require.undef(\"plotly\");\n",
       "        requirejs.config({\n",
       "            paths: {\n",
       "                'plotly': ['https://cdn.plot.ly/plotly-latest.min']\n",
       "            }\n",
       "        });\n",
       "        require(['plotly'], function(Plotly) {\n",
       "            window._Plotly = Plotly;\n",
       "        });\n",
       "        }\n",
       "        </script>\n",
       "        "
      ]
     },
     "metadata": {},
     "output_type": "display_data"
    },
    {
     "data": {
      "text/html": [
       "\n",
       "<link rel=\"stylesheet\" type=\"text/css\" href=\"https://cdn.rawgit.com/bmabey/pyLDAvis/files/ldavis.v1.0.0.css\">\n",
       "\n",
       "\n",
       "<div id=\"ldavis_el1590019468864272081555757760\"></div>\n",
       "<script type=\"text/javascript\">\n",
       "\n",
       "var ldavis_el1590019468864272081555757760_data = {\"mdsDat\": {\"x\": [-0.12664410485682, -0.09178655716681484, 0.08301695205996658, 0.13541370996366822], \"y\": [-0.12732026946011463, 0.1476928218279162, -0.1363139271067418, 0.11594137473894021], \"topics\": [1, 2, 3, 4], \"cluster\": [1, 1, 1, 1], \"Freq\": [34.55708312988281, 28.64525604248047, 22.457590103149414, 14.340066909790039]}, \"tinfo\": {\"Term\": [\"museum\", \"cypriot\", \"statue\", \"see\", \"monument\", \"service\", \"british\", \"excellent\", \"great\", \"dinner\", \"history\", \"struggle\", \"quite\", \"look\", \"interesting\", \"small\", \"price\", \"atmosphere\", \"wine\", \"freedom\", \"worth\", \"free\", \"serve\", \"design\", \"independence\", \"staff\", \"visit\", \"place\", \"people\", \"amazing\", \"dinner\", \"price\", \"always\", \"expensive\", \"choice\", \"summer\", \"pricey\", \"nicely\", \"set\", \"plate\", \"fresh\", \"seat\", \"decor\", \"unique\", \"ambiance\", \"money\", \"outside\", \"domus\", \"side\", \"stylish\", \"special_occasion\", \"far\", \"decorate\", \"attentive\", \"class\", \"high\", \"variety\", \"chair\", \"pavement\", \"word\", \"quality\", \"nicosia\", \"bad\", \"perfect\", \"drink\", \"excellent\", \"great\", \"atmosphere\", \"friend\", \"service\", \"old\", \"town\", \"place\", \"romantic\", \"table\", \"bit\", \"wine\", \"time\", \"love\", \"delicious\", \"visit\", \"go\", \"special\", \"worth\", \"really\", \"night\", \"also\", \"area\", \"make\", \"amazing\", \"recommend\", \"close\", \"walk\", \"house\", \"hour\", \"exhibit\", \"quite\", \"greek\", \"way\", \"museum\", \"fee\", \"information\", \"live\", \"lay\", \"interesting\", \"learn\", \"fantastic\", \"build\", \"history\", \"display\", \"start\", \"bring\", \"tour\", \"quick\", \"trip\", \"culture\", \"door\", \"focus\", \"show\", \"clothe\", \"easily\", \"small\", \"see\", \"example\", \"interested\", \"open\", \"day\", \"lot\", \"furniture\", \"different\", \"worth\", \"visit\", \"icon\", \"cypriot\", \"monument\", \"british\", \"get\", \"city\", \"people\", \"place\", \"time\", \"take\", \"make\", \"struggle\", \"go\", \"old\", \"serve\", \"design\", \"sauce\", \"evening\", \"selection\", \"simply\", \"arrive\", \"stuff\", \"chocolate\", \"husband\", \"risotto\", \"ingredient\", \"right\", \"chicken\", \"favorite\", \"bread\", \"welcome\", \"prefer\", \"glass\", \"desert\", \"salmon\", \"warm\", \"market\", \"attention\", \"suggest\", \"pepper\", \"satisfy\", \"souffle\", \"issue\", \"tasteful\", \"order\", \"heart\", \"uncomfortable\", \"staff\", \"steak\", \"cream\", \"consider\", \"environment\", \"sit\", \"taste\", \"probably\", \"dessert\", \"need\", \"amazing\", \"dish\", \"meal\", \"service\", \"wine\", \"go\", \"bar\", \"great\", \"take\", \"look\", \"even\", \"visit\", \"recommend\", \"really\", \"also\", \"excellent\", \"atmosphere\", \"place\", \"time\", \"statue\", \"free\", \"tell\", \"eoka\", \"rule\", \"kind\", \"symbolise\", \"size\", \"architecture\", \"due\", \"check\", \"scene\", \"expression\", \"venetian\", \"young\", \"poignant\", \"document\", \"fighter\", \"figure\", \"detail\", \"willing\", \"translation\", \"black\", \"belong\", \"sample\", \"typical\", \"pottery\", \"move\", \"representation\", \"bronze\", \"impressive\", \"freedom\", \"real\", \"independence\", \"cypriot\", \"struggle\", \"picture\", \"look\", \"monument\", \"british\", \"photo\", \"gain\", \"alive\", \"people\", \"still\", \"even\", \"life\", \"see\", \"take\", \"find\", \"go\", \"wall\", \"give\"], \"Freq\": [40.0, 35.0, 16.0, 40.0, 29.0, 50.0, 26.0, 49.0, 65.0, 24.0, 28.0, 20.0, 23.0, 25.0, 23.0, 24.0, 20.0, 36.0, 32.0, 12.0, 38.0, 9.0, 12.0, 11.0, 12.0, 20.0, 75.0, 74.0, 30.0, 28.0, 24.094192504882812, 19.77545928955078, 11.886605262756348, 12.449640274047852, 10.710947036743164, 8.861472129821777, 8.603790283203125, 8.334239959716797, 9.375517845153809, 7.952483654022217, 8.53502368927002, 7.695575714111328, 6.828629970550537, 6.8174214363098145, 6.202033042907715, 6.235045909881592, 5.9067206382751465, 5.440914154052734, 7.059388160705566, 5.3105902671813965, 5.184861660003662, 6.081723213195801, 5.812556266784668, 5.243639945983887, 6.2359538078308105, 11.308134078979492, 5.202383041381836, 4.621935844421387, 4.613080024719238, 4.167867660522461, 17.182886123657227, 8.527851104736328, 9.639060974121094, 15.514065742492676, 11.128763198852539, 38.97390365600586, 46.801605224609375, 27.947162628173828, 16.30906867980957, 34.639739990234375, 34.288360595703125, 15.134947776794434, 45.23478317260742, 14.411602020263672, 16.550628662109375, 13.720782279968262, 20.727693557739258, 23.982025146484375, 11.849834442138672, 10.666385650634766, 27.383211135864258, 20.81797218322754, 11.729659080505371, 16.4486141204834, 15.881668090820312, 10.890792846679688, 13.62005615234375, 11.032340049743652, 13.062472343444824, 12.593766212463379, 12.359869003295898, 11.411569595336914, 9.089131355285645, 9.471322059631348, 6.838611602783203, 6.632911205291748, 21.692691802978516, 9.895015716552734, 6.250546455383301, 36.52771759033203, 6.024566650390625, 5.517942428588867, 9.120498657226562, 4.99193000793457, 20.708370208740234, 4.490123748779297, 5.111798286437988, 10.223447799682617, 24.537736892700195, 5.401227951049805, 4.3341193199157715, 4.802079200744629, 3.911151647567749, 4.11263370513916, 3.6095190048217773, 3.402406692504883, 3.412480592727661, 3.387721061706543, 9.095497131347656, 3.41046404838562, 3.573636770248413, 20.456144332885742, 32.17885208129883, 4.797770023345947, 7.08713436126709, 7.580465316772461, 9.23947811126709, 8.724708557128906, 8.412469863891602, 8.415510177612305, 21.593965530395508, 35.29246520996094, 7.706785202026367, 18.552188873291016, 16.175024032592773, 14.966560363769531, 10.2962646484375, 9.92486572265625, 13.65096664428711, 20.770551681518555, 14.746574401855469, 12.258919715881348, 11.69062328338623, 9.80887508392334, 12.87303638458252, 12.000720977783203, 11.944411277770996, 11.136613845825195, 7.899298191070557, 5.769879341125488, 5.526241302490234, 4.541287422180176, 4.93178653717041, 4.197714328765869, 4.19706916809082, 4.194803714752197, 3.986677646636963, 3.986415147781372, 4.037517547607422, 3.4119601249694824, 3.4968883991241455, 3.408729076385498, 3.6970412731170654, 3.1779181957244873, 8.172250747680664, 3.162214756011963, 6.53486442565918, 3.783048629760742, 2.7063913345336914, 2.6102428436279297, 2.609612226486206, 2.60880446434021, 2.607750415802002, 2.607116222381592, 2.871589422225952, 2.605027437210083, 9.956456184387207, 4.515990257263184, 3.1730782985687256, 13.732742309570312, 10.479554176330566, 4.1148681640625, 4.9396796226501465, 5.768342971801758, 6.816406726837158, 8.738189697265625, 5.1390767097473145, 5.488803386688232, 8.102843284606934, 13.801165580749512, 10.349413871765137, 6.269412517547607, 15.235064506530762, 11.847881317138672, 15.619059562683105, 7.128381729125977, 13.838735580444336, 9.742949485778809, 8.810302734375, 6.3791985511779785, 12.95849609375, 8.44788646697998, 9.02193546295166, 8.415761947631836, 8.92325210571289, 8.06541633605957, 8.707765579223633, 7.912397861480713, 15.85767936706543, 8.652204513549805, 4.573706150054932, 4.408019542694092, 4.404688358306885, 4.882287502288818, 3.556831121444702, 3.5559890270233154, 3.542120933532715, 3.2801008224487305, 2.8746559619903564, 3.2247424125671387, 2.706528902053833, 2.7050046920776367, 2.704456090927124, 2.7038300037384033, 2.703397035598755, 2.703083038330078, 2.7006773948669434, 5.68831205368042, 2.441150426864624, 2.286285877227783, 2.284778118133545, 2.2841169834136963, 2.2751286029815674, 2.4096333980560303, 2.581069231033325, 2.0108442306518555, 1.8564378023147583, 1.8564378023147583, 5.651801586151123, 8.994214057922363, 3.51881742477417, 7.3521599769592285, 15.829813003540039, 10.352227210998535, 5.874286651611328, 11.400495529174805, 12.153032302856445, 11.342307090759277, 5.625572681427002, 4.286474227905273, 3.5048348903656006, 8.859286308288574, 4.559080600738525, 5.055779457092285, 4.337835311889648, 6.190834045410156, 5.602573871612549, 4.8359503746032715, 5.342314720153809, 3.692490339279175, 3.6247634887695312], \"Total\": [40.0, 35.0, 16.0, 40.0, 29.0, 50.0, 26.0, 49.0, 65.0, 24.0, 28.0, 20.0, 23.0, 25.0, 23.0, 24.0, 20.0, 36.0, 32.0, 12.0, 38.0, 9.0, 12.0, 11.0, 12.0, 20.0, 75.0, 74.0, 30.0, 28.0, 24.677133560180664, 20.35886573791504, 12.470770835876465, 13.108590126037598, 11.33342170715332, 9.431253433227539, 9.177679061889648, 8.922165870666504, 10.041561126708984, 8.539024353027344, 9.170907020568848, 8.286504745483398, 7.399585723876953, 7.398553848266602, 6.764793872833252, 6.865138053894043, 6.50698709487915, 6.005593776702881, 7.806448459625244, 5.875308990478516, 5.752126693725586, 6.792389392852783, 6.494438171386719, 5.868140697479248, 6.99274206161499, 12.706676483154297, 5.864072322845459, 5.231955528259277, 5.232383728027344, 4.73312520980835, 19.642492294311523, 9.706111907958984, 11.022355079650879, 18.181547164916992, 12.957664489746094, 49.52190399169922, 65.2731704711914, 36.94285202026367, 20.77434539794922, 50.236236572265625, 51.088531494140625, 19.620447158813477, 74.89918518066406, 19.031517028808594, 23.049699783325195, 18.648042678833008, 32.93645477294922, 46.80583953857422, 16.70345115661621, 14.191217422485352, 75.81293487548828, 54.65238571166992, 17.406330108642578, 38.51595687866211, 36.59267044067383, 15.222506523132324, 30.109390258789062, 15.85886001586914, 28.49407386779785, 28.98204231262207, 27.256229400634766, 12.029848098754883, 9.778127670288086, 10.235712051391602, 7.450721263885498, 7.234210968017578, 23.730749130249023, 10.854572296142578, 6.892577648162842, 40.283729553222656, 6.70210075378418, 6.158761501312256, 10.220569610595703, 5.610067844390869, 23.284351348876953, 5.087899208068848, 5.839518070220947, 11.684112548828125, 28.065183639526367, 6.183682441711426, 4.9813432693481445, 5.520488739013672, 4.532147407531738, 4.766660213470459, 4.223126411437988, 4.006261825561523, 4.018978118896484, 3.9911158084869385, 10.71841812133789, 4.022256374359131, 4.217374801635742, 24.665081024169922, 40.70542526245117, 5.742027759552002, 8.659398078918457, 9.32183837890625, 12.118432998657227, 11.430453300476074, 11.009175300598145, 11.546041488647461, 38.51595687866211, 75.81293487548828, 10.449726104736328, 35.14502716064453, 29.296297073364258, 26.74953269958496, 16.90347671508789, 16.83821678161621, 30.606285095214844, 74.89918518066406, 46.80583953857422, 30.554800033569336, 28.49407386779785, 20.601654052734375, 54.65238571166992, 51.088531494140625, 12.596549987792969, 11.795565605163574, 8.591957092285156, 6.408535003662109, 6.183866024017334, 5.14944314956665, 5.607153415679932, 4.803821563720703, 4.803697109222412, 4.803410530090332, 4.57423734664917, 4.57417106628418, 4.672241687774658, 4.000594615936279, 4.102696418762207, 4.000095844268799, 4.345049858093262, 3.772282361984253, 9.703978538513184, 3.7710609436035156, 7.897452354431152, 4.594819068908691, 3.3002514839172363, 3.198453187942505, 3.198479413986206, 3.1989946365356445, 3.199079990386963, 3.198892593383789, 3.5250751972198486, 3.1985390186309814, 13.2112398147583, 5.778308391571045, 3.9639203548431396, 20.22388458251953, 15.302606582641602, 5.337967395782471, 6.573049545288086, 7.934918403625488, 9.69045352935791, 13.077291488647461, 7.013095378875732, 7.795289516448975, 13.351831436157227, 28.98204231262207, 20.51569366455078, 9.789840698242188, 50.236236572265625, 32.93645477294922, 54.65238571166992, 14.62253189086914, 65.2731704711914, 30.554800033569336, 25.44744300842285, 13.211773872375488, 75.81293487548828, 27.256229400634766, 36.59267044067383, 30.109390258789062, 49.52190399169922, 36.94285202026367, 74.89918518066406, 46.80583953857422, 16.544963836669922, 9.315753936767578, 5.234488010406494, 5.04672384262085, 5.047484874725342, 5.604913711547852, 4.196218490600586, 4.196502685546875, 4.218196868896484, 3.957670211791992, 3.5336976051330566, 3.972644805908203, 3.3456342220306396, 3.345982551574707, 3.3460731506347656, 3.346205711364746, 3.3463292121887207, 3.3464784622192383, 3.347078800201416, 7.1299238204956055, 3.1038193702697754, 2.9261879920959473, 2.9265594482421875, 2.92673659324646, 2.928952693939209, 3.115245819091797, 3.437108039855957, 2.689246654510498, 2.4949660301208496, 2.4949660301208496, 7.615056037902832, 12.41417407989502, 4.797757625579834, 12.831076622009277, 35.14502716064453, 20.601654052734375, 10.021058082580566, 25.44744300842285, 29.296297073364258, 26.74953269958496, 10.084487915039062, 7.033612251281738, 5.275490760803223, 30.606285095214844, 10.464433670043945, 13.211773872375488, 11.906121253967285, 40.70542526245117, 30.554800033569336, 19.67662811279297, 54.65238571166992, 13.765262603759766, 18.929786682128906], \"Category\": [\"Default\", \"Default\", \"Default\", \"Default\", \"Default\", \"Default\", \"Default\", \"Default\", \"Default\", \"Default\", \"Default\", \"Default\", \"Default\", \"Default\", \"Default\", \"Default\", \"Default\", \"Default\", \"Default\", \"Default\", \"Default\", \"Default\", \"Default\", \"Default\", \"Default\", \"Default\", \"Default\", \"Default\", \"Default\", \"Default\", \"Topic1\", \"Topic1\", \"Topic1\", \"Topic1\", \"Topic1\", \"Topic1\", \"Topic1\", \"Topic1\", \"Topic1\", \"Topic1\", \"Topic1\", \"Topic1\", \"Topic1\", \"Topic1\", \"Topic1\", \"Topic1\", \"Topic1\", \"Topic1\", \"Topic1\", \"Topic1\", \"Topic1\", \"Topic1\", \"Topic1\", \"Topic1\", \"Topic1\", \"Topic1\", \"Topic1\", \"Topic1\", \"Topic1\", \"Topic1\", \"Topic1\", \"Topic1\", \"Topic1\", \"Topic1\", \"Topic1\", \"Topic1\", \"Topic1\", \"Topic1\", \"Topic1\", \"Topic1\", \"Topic1\", \"Topic1\", \"Topic1\", \"Topic1\", \"Topic1\", \"Topic1\", \"Topic1\", \"Topic1\", \"Topic1\", \"Topic1\", \"Topic1\", \"Topic1\", \"Topic1\", \"Topic1\", \"Topic1\", \"Topic1\", \"Topic1\", \"Topic1\", \"Topic1\", \"Topic1\", \"Topic1\", \"Topic2\", \"Topic2\", \"Topic2\", \"Topic2\", \"Topic2\", \"Topic2\", \"Topic2\", \"Topic2\", \"Topic2\", \"Topic2\", \"Topic2\", \"Topic2\", \"Topic2\", \"Topic2\", \"Topic2\", \"Topic2\", \"Topic2\", \"Topic2\", \"Topic2\", \"Topic2\", \"Topic2\", \"Topic2\", \"Topic2\", \"Topic2\", \"Topic2\", \"Topic2\", \"Topic2\", \"Topic2\", \"Topic2\", \"Topic2\", \"Topic2\", \"Topic2\", \"Topic2\", \"Topic2\", \"Topic2\", \"Topic2\", \"Topic2\", \"Topic2\", \"Topic2\", \"Topic2\", \"Topic2\", \"Topic2\", \"Topic2\", \"Topic2\", \"Topic2\", \"Topic2\", \"Topic2\", \"Topic2\", \"Topic2\", \"Topic2\", \"Topic2\", \"Topic2\", \"Topic2\", \"Topic2\", \"Topic2\", \"Topic3\", \"Topic3\", \"Topic3\", \"Topic3\", \"Topic3\", \"Topic3\", \"Topic3\", \"Topic3\", \"Topic3\", \"Topic3\", \"Topic3\", \"Topic3\", \"Topic3\", \"Topic3\", \"Topic3\", \"Topic3\", \"Topic3\", \"Topic3\", \"Topic3\", \"Topic3\", \"Topic3\", \"Topic3\", \"Topic3\", \"Topic3\", \"Topic3\", \"Topic3\", \"Topic3\", \"Topic3\", \"Topic3\", \"Topic3\", \"Topic3\", \"Topic3\", \"Topic3\", \"Topic3\", \"Topic3\", \"Topic3\", \"Topic3\", \"Topic3\", \"Topic3\", \"Topic3\", \"Topic3\", \"Topic3\", \"Topic3\", \"Topic3\", \"Topic3\", \"Topic3\", \"Topic3\", \"Topic3\", \"Topic3\", \"Topic3\", \"Topic3\", \"Topic3\", \"Topic3\", \"Topic3\", \"Topic3\", \"Topic3\", \"Topic3\", \"Topic3\", \"Topic3\", \"Topic3\", \"Topic3\", \"Topic3\", \"Topic4\", \"Topic4\", \"Topic4\", \"Topic4\", \"Topic4\", \"Topic4\", \"Topic4\", \"Topic4\", \"Topic4\", \"Topic4\", \"Topic4\", \"Topic4\", \"Topic4\", \"Topic4\", \"Topic4\", \"Topic4\", \"Topic4\", \"Topic4\", \"Topic4\", \"Topic4\", \"Topic4\", \"Topic4\", \"Topic4\", \"Topic4\", \"Topic4\", \"Topic4\", \"Topic4\", \"Topic4\", \"Topic4\", \"Topic4\", \"Topic4\", \"Topic4\", \"Topic4\", \"Topic4\", \"Topic4\", \"Topic4\", \"Topic4\", \"Topic4\", \"Topic4\", \"Topic4\", \"Topic4\", \"Topic4\", \"Topic4\", \"Topic4\", \"Topic4\", \"Topic4\", \"Topic4\", \"Topic4\", \"Topic4\", \"Topic4\", \"Topic4\", \"Topic4\", \"Topic4\"], \"logprob\": [30.0, 29.0, 28.0, 27.0, 26.0, 25.0, 24.0, 23.0, 22.0, 21.0, 20.0, 19.0, 18.0, 17.0, 16.0, 15.0, 14.0, 13.0, 12.0, 11.0, 10.0, 9.0, 8.0, 7.0, 6.0, 5.0, 4.0, 3.0, 2.0, 1.0, -4.578499794006348, -4.776100158691406, -5.285099983215332, -5.238800048828125, -5.389200210571289, -5.578800201416016, -5.60830020904541, -5.640100002288818, -5.52239990234375, -5.686999797821045, -5.616300106048584, -5.719900131225586, -5.839399814605713, -5.841000080108643, -5.9355998039245605, -5.930300235748291, -5.984399795532227, -6.0665998458862305, -5.806099891662598, -6.090799808502197, -6.114799976348877, -5.9552001953125, -6.000500202178955, -6.103499889373779, -5.930200099945068, -5.335000038146973, -6.111400127410889, -6.229700088500977, -6.231599807739258, -6.333099842071533, -4.916600227355957, -5.617199897766113, -5.494699954986572, -5.018799781799316, -5.35099983215332, -4.097599983215332, -3.914599895477295, -4.430200099945068, -4.968800067901611, -4.2154998779296875, -4.2256999015808105, -5.043499946594238, -3.9486000537872314, -5.09250020980835, -4.954100131988525, -5.141600131988525, -4.729000091552734, -4.583199977874756, -5.2881999015808105, -5.393400192260742, -4.4506001472473145, -4.724699974060059, -5.298399925231934, -4.960299968719482, -4.995299816131592, -5.372600078582764, -5.14900016784668, -5.3597002029418945, -5.190800189971924, -5.22730016708374, -5.245999813079834, -5.138199806213379, -5.365799903869629, -5.3246002197265625, -5.650300025939941, -5.680799961090088, -4.4959001541137695, -5.280799865722656, -5.740200042724609, -3.9748001098632812, -5.7769999504089355, -5.8649001121521, -5.362400054931641, -5.965099811553955, -4.542300224304199, -6.071000099182129, -5.941299915313721, -5.248199939727783, -4.372700214385986, -5.886300086975098, -6.106400012969971, -6.003799915313721, -6.209000110626221, -6.15880012512207, -6.289299964904785, -6.348400115966797, -6.345399856567383, -6.352700233459473, -5.365099906921387, -6.3460001945495605, -6.299300193786621, -4.554599761962891, -4.101600170135498, -6.004700183868408, -5.61460018157959, -5.547299861907959, -5.349400043487549, -5.406700134277344, -5.44320011138916, -5.442800045013428, -4.500500202178955, -4.009200096130371, -5.530799865722656, -4.652299880981445, -4.789400100708008, -4.867099761962891, -5.241099834442139, -5.2778000831604, -4.959099769592285, -4.539299964904785, -4.881899833679199, -5.0665998458862305, -5.114099979400635, -5.289599895477295, -5.0177001953125, -5.087900161743164, -4.849299907684326, -4.919300079345703, -5.262700080871582, -5.576900005340576, -5.619999885559082, -5.816299915313721, -5.733799934387207, -5.894999980926514, -5.895100116729736, -5.895699977874756, -5.946599960327148, -5.946599960327148, -5.933899879455566, -6.102200031280518, -6.077600002288818, -6.1031999588012695, -6.021999835968018, -6.173299789428711, -5.228799819946289, -6.178199768066406, -5.452400207519531, -5.999000072479248, -6.333899974822998, -6.370100021362305, -6.370299816131592, -6.37060022354126, -6.370999813079834, -6.371300220489502, -6.274700164794922, -6.372099876403809, -5.031300067901611, -5.821899890899658, -6.174799919128418, -4.709700107574463, -4.980100154876709, -5.914899826049805, -5.7322001457214355, -5.577099800109863, -5.410200119018555, -5.161799907684326, -5.692599773406982, -5.626800060272217, -5.237299919128418, -4.704800128936768, -4.992599964141846, -5.493800163269043, -4.605899810791016, -4.857399940490723, -4.580999851226807, -5.3653998374938965, -4.702000141143799, -5.052999973297119, -5.153600215911865, -5.476500034332275, -4.7677998542785645, -5.1956000328063965, -5.129899978637695, -5.199399948120117, -5.140900135040283, -5.2418999671936035, -5.165299892425537, -5.261099815368652, -4.117300033569336, -4.723100185394287, -5.360599994659424, -5.397500038146973, -5.3983001708984375, -5.295300006866455, -5.612100124359131, -5.612299919128418, -5.616199970245361, -5.6930999755859375, -5.824999809265137, -5.710100173950195, -5.885300159454346, -5.885799884796143, -5.886000156402588, -5.886300086975098, -5.88640022277832, -5.886600017547607, -5.887400150299072, -5.142499923706055, -5.988500118255615, -6.053999900817871, -6.054699897766113, -6.054999828338623, -6.058899879455566, -6.001500129699707, -5.932700157165527, -6.182400226593018, -6.26230001449585, -6.26230001449585, -5.14900016784668, -4.6844000816345215, -5.622799873352051, -4.886000156402588, -4.119100093841553, -4.543700218200684, -5.110400199890137, -4.447299957275391, -4.383399963378906, -4.452400207519531, -5.153600215911865, -5.42549991607666, -5.626800060272217, -4.69950008392334, -5.363800048828125, -5.26039981842041, -5.413599967956543, -5.0578999519348145, -5.157700061798096, -5.304900169372559, -5.2052998542785645, -5.5746002197265625, -5.593200206756592], \"loglift\": [30.0, 29.0, 28.0, 27.0, 26.0, 25.0, 24.0, 23.0, 22.0, 21.0, 20.0, 19.0, 18.0, 17.0, 16.0, 15.0, 14.0, 13.0, 12.0, 11.0, 10.0, 9.0, 8.0, 7.0, 6.0, 5.0, 4.0, 3.0, 2.0, 1.0, 1.038699984550476, 1.0334999561309814, 1.0146000385284424, 1.0110000371932983, 1.006100058555603, 1.0002000331878662, 0.9980000257492065, 0.9944000244140625, 0.9939000010490417, 0.9914000034332275, 0.9907000064849854, 0.9886000156402588, 0.9822999835014343, 0.9807999730110168, 0.9757000207901001, 0.9663000106811523, 0.9657999873161316, 0.9638000130653381, 0.9620000123977661, 0.9614999890327454, 0.9587000012397766, 0.9520000219345093, 0.9516000151634216, 0.949999988079071, 0.9480000138282776, 0.9459999799728394, 0.942799985408783, 0.9386000037193298, 0.9366000294685364, 0.9354000091552734, 0.9287999868392944, 0.9330999851226807, 0.9284999966621399, 0.9039000272750854, 0.9103999733924866, 0.8230000138282776, 0.7299000024795532, 0.7835000157356262, 0.8205999732017517, 0.6908000111579895, 0.6638000011444092, 0.8029999732971191, 0.5583000183105469, 0.784500002861023, 0.7312999963760376, 0.7556999921798706, 0.599399983882904, 0.3939000070095062, 0.7192999720573425, 0.7770000100135803, 0.044199999421834946, 0.09740000218153, 0.6678000092506409, 0.21170000731945038, 0.22789999842643738, 0.7276999950408936, 0.26930001378059387, 0.6996999979019165, 0.2825999855995178, 0.22910000383853912, 0.271699994802475, 1.1973999738693237, 1.1770999431610107, 1.1726000308990479, 1.1644999980926514, 1.1634000539779663, 1.1604000329971313, 1.1576000452041626, 1.152400016784668, 1.1523000001907349, 1.1435999870300293, 1.1403000354766846, 1.136299967765808, 1.1333999633789062, 1.1328999996185303, 1.1252000331878662, 1.1171000003814697, 1.1166000366210938, 1.1159000396728516, 1.11489999294281, 1.1109999418258667, 1.11080002784729, 1.1028000116348267, 1.1025999784469604, 1.0931999683380127, 1.0867999792099, 1.0865999460220337, 1.086300015449524, 1.0859999656677246, 1.0851999521255493, 1.0845999717712402, 1.063099980354309, 1.0151000022888184, 1.0705000162124634, 1.0498000383377075, 1.0434000492095947, 0.9789000153541565, 0.9800999760627747, 0.9811999797821045, 0.933899998664856, 0.671500027179718, 0.48559999465942383, 0.9456999897956848, 0.611299991607666, 0.6561999917030334, 0.6694999933242798, 0.7544000148773193, 0.7215999960899353, 0.44279998540878296, -0.03240000084042549, 0.09520000219345093, 0.336899995803833, 0.35929998755455017, 0.5080999732017517, -0.195700004696846, -0.19840000569820404, 1.4404000043869019, 1.4361000061035156, 1.409500002861023, 1.3885999917984009, 1.381100058555603, 1.367900013923645, 1.3652000427246094, 1.3587000370025635, 1.3585000038146973, 1.3581000566482544, 1.3560999631881714, 1.3559999465942383, 1.347499966621399, 1.3344000577926636, 1.333799958229065, 1.3336000442504883, 1.3320000171661377, 1.322100043296814, 1.3216999769210815, 1.3174999952316284, 1.3042000532150269, 1.2991000413894653, 1.295199990272522, 1.2903000116348267, 1.2900999784469604, 1.2896000146865845, 1.289199948310852, 1.2890000343322754, 1.2884999513626099, 1.2883000373840332, 1.2107000350952148, 1.2470999956130981, 1.2710000276565552, 1.1065000295639038, 1.11489999294281, 1.233299970626831, 1.207900047302246, 1.1747000217437744, 1.141700029373169, 1.090399980545044, 1.1826000213623047, 1.142699956893921, 0.9940999746322632, 0.7516000270843506, 0.8093000054359436, 1.0478999614715576, 0.3003999888896942, 0.47110000252723694, 0.2409999966621399, 0.7750999927520752, -0.0575999990105629, 0.350600004196167, 0.4327999949455261, 0.765500009059906, -0.27300000190734863, 0.3222000002861023, 0.0934000015258789, 0.21879999339580536, -0.22020000219345093, -0.028200000524520874, -0.6583999991416931, -0.2840000092983246, 1.8997000455856323, 1.8681999444961548, 1.8071999549865723, 1.8068000078201294, 1.805899977684021, 1.8041000366210938, 1.7768000364303589, 1.7764999866485596, 1.7674000263214111, 1.7542999982833862, 1.735700011253357, 1.7335000038146973, 1.7301000356674194, 1.7295000553131104, 1.729200005531311, 1.7289999723434448, 1.7288000583648682, 1.728600025177002, 1.7274999618530273, 1.7161999940872192, 1.7019000053405762, 1.6952999830245972, 1.694599986076355, 1.694200038909912, 1.6894999742507935, 1.6852999925613403, 1.6556999683380127, 1.6513999700546265, 1.6464999914169312, 1.6464999914169312, 1.6440000534057617, 1.6198999881744385, 1.632099986076355, 1.385200023651123, 1.1445000171661377, 1.2539000511169434, 1.4079999923706055, 1.13919997215271, 1.0621999502182007, 1.0841000080108643, 1.3583999872207642, 1.4469000101089478, 1.5332000255584717, 0.7024000287055969, 1.111299991607666, 0.9815000295639038, 0.9323999881744385, 0.058800000697374344, 0.24580000340938568, 0.5388000011444092, -0.3831999897956848, 0.6262999773025513, 0.2892000079154968]}, \"token.table\": {\"Topic\": [2, 4, 1, 2, 3, 1, 1, 3, 4, 1, 4, 1, 2, 3, 3, 1, 2, 3, 3, 1, 1, 2, 1, 3, 4, 1, 2, 4, 4, 3, 2, 2, 4, 4, 2, 3, 1, 4, 3, 3, 1, 1, 2, 4, 1, 2, 2, 3, 4, 2, 3, 2, 1, 2, 4, 2, 3, 4, 1, 1, 1, 3, 3, 3, 2, 3, 3, 4, 2, 4, 1, 1, 3, 2, 4, 1, 2, 1, 3, 4, 2, 1, 3, 4, 1, 2, 3, 4, 3, 2, 1, 2, 3, 2, 1, 4, 2, 1, 3, 2, 4, 4, 1, 2, 4, 2, 4, 2, 4, 1, 1, 3, 2, 3, 1, 2, 4, 1, 2, 1, 2, 3, 4, 1, 3, 1, 2, 3, 4, 1, 2, 3, 2, 4, 3, 4, 1, 2, 2, 3, 4, 2, 2, 3, 1, 2, 4, 3, 4, 2, 4, 2, 3, 1, 2, 1, 2, 3, 4, 2, 2, 1, 2, 4, 2, 4, 1, 3, 4, 2, 4, 1, 3, 1, 2, 4, 3, 1, 3, 1, 1, 2, 4, 4, 2, 4, 1, 3, 4, 1, 1, 2, 1, 2, 3, 4, 1, 2, 3, 4, 2, 3, 1, 3, 4, 1, 1, 1, 2, 3, 4, 3, 1, 3, 4, 2, 4, 2, 4, 1, 2, 3, 1, 4, 4, 3, 1, 1, 2, 3, 1, 3, 2, 2, 4, 3, 4, 1, 2, 3, 4, 1, 2, 3, 4, 4, 3, 3, 1, 3, 4, 3, 4, 4, 3, 3, 4, 1, 1, 2, 3, 4, 3, 3, 1, 3, 1, 2, 4, 1, 3, 2, 3, 4, 1, 2, 3, 1, 3, 4, 1, 1, 2, 3, 2, 4, 1, 3, 1, 2, 3, 4, 2, 4, 3, 1, 3, 1, 4, 1, 2, 3, 1, 2, 3, 4, 1, 3, 3, 4, 1, 2, 3, 2, 1, 2, 4, 2, 4, 3, 1, 1, 4, 1, 2, 3, 2, 1, 2, 4, 3, 2, 3, 4, 1, 3, 1, 1, 2, 4], \"Freq\": [0.189555823802948, 0.758223295211792, 0.4649712145328522, 0.2656978368759155, 0.2656978368759155, 0.9622500538825989, 0.4485536217689514, 0.48305773735046387, 0.0690082460641861, 0.8869450092315674, 0.9482724666595459, 0.6936185956001282, 0.25222495198249817, 0.06305623799562454, 0.8917180895805359, 0.757927417755127, 0.027068836614489555, 0.21655069291591644, 0.9379534125328064, 0.8520586490631104, 0.9072471261024475, 0.09072471410036087, 0.4787132740020752, 0.4787132740020752, 0.6833549737930298, 0.7507490515708923, 0.21449972689151764, 0.05362493172287941, 0.6833963394165039, 0.7499820590019226, 0.9057168960571289, 0.5607574582099915, 0.4112221300601959, 0.8016141057014465, 0.8558630347251892, 0.0855863019824028, 0.9556655883789062, 0.8489691019058228, 0.74988853931427, 0.8326919674873352, 0.9705806374549866, 0.35633227229118347, 0.5938870906829834, 0.05938871204853058, 0.8580325245857239, 0.9143922328948975, 0.7458500266075134, 0.7606819272041321, 0.15213638544082642, 0.1873372197151184, 0.7493488788604736, 0.7488277554512024, 0.02845352701842785, 0.540617048740387, 0.4552564322948456, 0.7426702976226807, 0.08251892030239105, 0.1650378406047821, 0.9459989070892334, 0.9238674640655518, 0.7751272916793823, 0.21139834821224213, 0.7955321073532104, 0.9325538277626038, 0.2565651834011078, 0.6414129734039307, 0.140253946185112, 0.8415237069129944, 0.6928781867027283, 0.17321954667568207, 0.9725602865219116, 0.48743173480033875, 0.48743173480033875, 0.808579683303833, 0.8965047597885132, 0.8325571417808533, 0.7464584112167358, 0.8489184379577637, 0.07717440277338028, 0.7580217123031616, 0.9484573006629944, 0.2520504891872406, 0.7561514377593994, 0.7925934195518494, 0.07569006085395813, 0.07569006085395813, 0.4541403651237488, 0.37845030426979065, 0.9362514019012451, 0.8707725405693054, 0.7875303030014038, 0.020193085074424744, 0.1817377656698227, 0.9676245450973511, 0.9154302477836609, 0.8966909646987915, 0.8562350273132324, 0.8833416104316711, 0.7312264442443848, 0.8952416777610779, 0.8964647650718689, 0.8963039517402649, 0.30493029952049255, 0.45739543437957764, 0.25410857796669006, 0.7516694664955139, 0.9661054015159607, 0.2416592538356781, 0.7249777317047119, 0.9813641905784607, 0.7701807022094727, 0.19254517555236816, 0.7266666293144226, 0.18166665732860565, 0.14217445254325867, 0.14217445254325867, 0.5686978101730347, 0.35495656728744507, 0.5915942788124084, 0.21130718290805817, 0.31696078181266785, 0.2641339898109436, 0.21130718290805817, 0.10305051505565643, 0.8244041204452515, 0.38424670696258545, 0.23786701261997223, 0.29275941848754883, 0.09148731082677841, 0.7200508117675781, 0.06128092110157013, 0.21448321640491486, 0.9212707281112671, 0.09212707728147507, 0.8653051257133484, 0.17306102812290192, 0.8656866550445557, 0.0786987841129303, 0.890783429145813, 0.03563133627176285, 0.0712626725435257, 0.9395063519477844, 0.8792744278907776, 0.8327416181564331, 0.09569628536701202, 0.7655702829360962, 0.09569628536701202, 0.13131879270076752, 0.7879127860069275, 0.3896789252758026, 0.5455504655838013, 0.9742218255996704, 0.874475359916687, 0.11548146605491638, 0.8083702921867371, 0.08589459955692291, 0.9018932580947876, 0.8510456681251526, 0.8920744061470032, 0.8912548422813416, 0.7861791253089905, 0.08399040997028351, 0.5039424300193787, 0.33596163988113403, 0.8805771470069885, 0.09784190356731415, 0.19648338854312897, 0.3536701202392578, 0.43226346373558044, 0.7873703241348267, 0.17497119307518005, 0.7184144258499146, 0.2394714653491974, 0.45623522996902466, 0.421140193939209, 0.14038006961345673, 0.9090216159820557, 0.3064401149749756, 0.6128802299499512, 0.8739809393882751, 0.03413400799036026, 0.5461441278457642, 0.40960806608200073, 0.7437027096748352, 0.9184849858283997, 0.07447175681591034, 0.14979217946529388, 0.5991687178611755, 0.22468827664852142, 0.8966432809829712, 0.9272508025169373, 0.10302786529064178, 0.7226142287254333, 0.13138440251350403, 0.13138440251350403, 0.06569220125675201, 0.6655113697052002, 0.23488637804985046, 0.03914773091673851, 0.03914773091673851, 0.8581998348236084, 0.10727497935295105, 0.07569312304258347, 0.7569312453269958, 0.15138624608516693, 0.9220857620239258, 0.9555873870849609, 0.1960381716489792, 0.4574223756790161, 0.06534605473279953, 0.2940572500228882, 0.9377946257591248, 0.880013108253479, 0.11000163853168488, 0.05500081926584244, 0.3966487944126129, 0.5949732065200806, 0.3991594612598419, 0.5987391471862793, 0.6008076071739197, 0.2803768813610077, 0.1201615184545517, 0.9368751645088196, 0.8965378403663635, 0.8728268146514893, 0.7952744960784912, 0.9823729991912842, 0.9806401133537292, 0.14259038865566254, 0.7129519581794739, 0.8654706478118896, 0.10182007402181625, 0.8391619920730591, 0.927067220211029, 0.08427883684635162, 0.2084307074546814, 0.8337228298187256, 0.43724602460861206, 0.24595089256763458, 0.24595089256763458, 0.08198363333940506, 0.44026634097099304, 0.1834443062543869, 0.29351088404655457, 0.07337772101163864, 0.8016141057014465, 0.8561201095581055, 0.8744627237319946, 0.7356218695640564, 0.21017767488956451, 0.7924739122390747, 0.8863617777824402, 0.12662310898303986, 0.6828379034996033, 0.9377695918083191, 0.9311033487319946, 0.7551644444465637, 0.9654251337051392, 0.02456674911081791, 0.7861359715461731, 0.04913349822163582, 0.14740049839019775, 0.9702668190002441, 0.9526417851448059, 0.6967082619667053, 0.2985892593860626, 0.896274983882904, 0.8396761417388916, 0.09329734742641449, 0.8966946005821228, 0.9709787964820862, 0.2063886821269989, 0.7223604321479797, 0.9531746506690979, 0.1621725857257843, 0.8108629584312439, 0.937824547290802, 0.6894043684005737, 0.2298014611005783, 0.05745036527514458, 0.8692437410354614, 0.04944648593664169, 0.24723242223262787, 0.6922507882118225, 0.8029962778091431, 0.9670616388320923, 0.26139336824417114, 0.6534834504127502, 0.28668537735939026, 0.09556178748607635, 0.1911235749721527, 0.47780895233154297, 0.48539790511131287, 0.48539790511131287, 0.8326703906059265, 0.8510190844535828, 0.9379457235336304, 0.9542739987373352, 0.9532392024993896, 0.7375367283821106, 0.04338451474905014, 0.2169225662946701, 0.0981842428445816, 0.3927369713783264, 0.32728081941604614, 0.1963684856891632, 0.30587372183799744, 0.6882159113883972, 0.9379281997680664, 0.9552032351493835, 0.5127565264701843, 0.3204728364944458, 0.17091883718967438, 0.8825837969779968, 0.7645085453987122, 0.20386895537376404, 0.6834830641746521, 0.9471656084060669, 0.6420038938522339, 0.7568265199661255, 0.9461308717727661, 0.8526498079299927, 0.8965976238250732, 0.35613974928855896, 0.4616626501083374, 0.17147469520568848, 0.9204216003417969, 0.14529326558113098, 0.5811730623245239, 0.29058653116226196, 0.8705456852912903, 0.8705016374588013, 0.9205878376960754, 0.6443673968315125, 0.6375913619995117, 0.3643379509449005, 0.8451075553894043, 0.4154122471809387, 0.5711918473243713, 0.8965733647346497], \"Term\": [\"alive\", \"alive\", \"also\", \"also\", \"also\", \"always\", \"amazing\", \"amazing\", \"amazing\", \"ambiance\", \"architecture\", \"area\", \"area\", \"area\", \"arrive\", \"atmosphere\", \"atmosphere\", \"atmosphere\", \"attention\", \"attentive\", \"bad\", \"bad\", \"bar\", \"bar\", \"belong\", \"bit\", \"bit\", \"bit\", \"black\", \"bread\", \"bring\", \"british\", \"british\", \"bronze\", \"build\", \"build\", \"chair\", \"check\", \"chicken\", \"chocolate\", \"choice\", \"city\", \"city\", \"city\", \"class\", \"close\", \"clothe\", \"consider\", \"consider\", \"cream\", \"cream\", \"culture\", \"cypriot\", \"cypriot\", \"cypriot\", \"day\", \"day\", \"day\", \"decor\", \"decorate\", \"delicious\", \"delicious\", \"desert\", \"design\", \"dessert\", \"dessert\", \"detail\", \"detail\", \"different\", \"different\", \"dinner\", \"dish\", \"dish\", \"display\", \"document\", \"domus\", \"door\", \"drink\", \"drink\", \"due\", \"easily\", \"environment\", \"environment\", \"eoka\", \"even\", \"even\", \"even\", \"even\", \"evening\", \"example\", \"excellent\", \"excellent\", \"excellent\", \"exhibit\", \"expensive\", \"expression\", \"fantastic\", \"far\", \"favorite\", \"fee\", \"fighter\", \"figure\", \"find\", \"find\", \"find\", \"focus\", \"free\", \"freedom\", \"freedom\", \"fresh\", \"friend\", \"friend\", \"furniture\", \"furniture\", \"gain\", \"gain\", \"gain\", \"get\", \"get\", \"give\", \"give\", \"give\", \"give\", \"glass\", \"glass\", \"go\", \"go\", \"go\", \"go\", \"great\", \"great\", \"great\", \"greek\", \"greek\", \"heart\", \"heart\", \"high\", \"high\", \"history\", \"history\", \"history\", \"hour\", \"house\", \"husband\", \"icon\", \"icon\", \"icon\", \"impressive\", \"impressive\", \"independence\", \"independence\", \"information\", \"ingredient\", \"interested\", \"interested\", \"interesting\", \"interesting\", \"issue\", \"kind\", \"lay\", \"learn\", \"life\", \"life\", \"life\", \"live\", \"live\", \"look\", \"look\", \"look\", \"lot\", \"lot\", \"love\", \"love\", \"make\", \"make\", \"make\", \"market\", \"meal\", \"meal\", \"money\", \"monument\", \"monument\", \"monument\", \"move\", \"museum\", \"museum\", \"need\", \"need\", \"need\", \"nicely\", \"nicosia\", \"nicosia\", \"night\", \"night\", \"night\", \"night\", \"old\", \"old\", \"old\", \"old\", \"open\", \"open\", \"order\", \"order\", \"order\", \"outside\", \"pavement\", \"people\", \"people\", \"people\", \"people\", \"pepper\", \"perfect\", \"perfect\", \"perfect\", \"photo\", \"photo\", \"picture\", \"picture\", \"place\", \"place\", \"place\", \"plate\", \"poignant\", \"pottery\", \"prefer\", \"price\", \"pricey\", \"probably\", \"probably\", \"quality\", \"quality\", \"quick\", \"quite\", \"quite\", \"real\", \"real\", \"really\", \"really\", \"really\", \"really\", \"recommend\", \"recommend\", \"recommend\", \"recommend\", \"representation\", \"right\", \"risotto\", \"romantic\", \"romantic\", \"rule\", \"salmon\", \"salmon\", \"sample\", \"satisfy\", \"sauce\", \"scene\", \"seat\", \"see\", \"see\", \"see\", \"see\", \"selection\", \"serve\", \"service\", \"service\", \"set\", \"show\", \"show\", \"side\", \"simply\", \"sit\", \"sit\", \"size\", \"small\", \"small\", \"souffle\", \"special\", \"special\", \"special\", \"special_occasion\", \"staff\", \"staff\", \"staff\", \"start\", \"statue\", \"steak\", \"steak\", \"still\", \"still\", \"still\", \"still\", \"struggle\", \"struggle\", \"stuff\", \"stylish\", \"suggest\", \"summer\", \"symbolise\", \"table\", \"table\", \"table\", \"take\", \"take\", \"take\", \"take\", \"taste\", \"taste\", \"tasteful\", \"tell\", \"time\", \"time\", \"time\", \"tour\", \"town\", \"town\", \"translation\", \"trip\", \"typical\", \"uncomfortable\", \"unique\", \"variety\", \"venetian\", \"visit\", \"visit\", \"visit\", \"walk\", \"wall\", \"wall\", \"wall\", \"warm\", \"way\", \"welcome\", \"willing\", \"wine\", \"wine\", \"word\", \"worth\", \"worth\", \"young\"]}, \"R\": 30, \"lambda.step\": 0.01, \"plot.opts\": {\"xlab\": \"PC1\", \"ylab\": \"PC2\"}, \"topic.order\": [3, 2, 1, 4]};\n",
       "\n",
       "function LDAvis_load_lib(url, callback){\n",
       "  var s = document.createElement('script');\n",
       "  s.src = url;\n",
       "  s.async = true;\n",
       "  s.onreadystatechange = s.onload = callback;\n",
       "  s.onerror = function(){console.warn(\"failed to load library \" + url);};\n",
       "  document.getElementsByTagName(\"head\")[0].appendChild(s);\n",
       "}\n",
       "\n",
       "if(typeof(LDAvis) !== \"undefined\"){\n",
       "   // already loaded: just create the visualization\n",
       "   !function(LDAvis){\n",
       "       new LDAvis(\"#\" + \"ldavis_el1590019468864272081555757760\", ldavis_el1590019468864272081555757760_data);\n",
       "   }(LDAvis);\n",
       "}else if(typeof define === \"function\" && define.amd){\n",
       "   // require.js is available: use it to load d3/LDAvis\n",
       "   require.config({paths: {d3: \"https://cdnjs.cloudflare.com/ajax/libs/d3/3.5.5/d3.min\"}});\n",
       "   require([\"d3\"], function(d3){\n",
       "      window.d3 = d3;\n",
       "      LDAvis_load_lib(\"https://cdn.rawgit.com/bmabey/pyLDAvis/files/ldavis.v1.0.0.js\", function(){\n",
       "        new LDAvis(\"#\" + \"ldavis_el1590019468864272081555757760\", ldavis_el1590019468864272081555757760_data);\n",
       "      });\n",
       "    });\n",
       "}else{\n",
       "    // require.js not available: dynamically load d3 & LDAvis\n",
       "    LDAvis_load_lib(\"https://cdnjs.cloudflare.com/ajax/libs/d3/3.5.5/d3.min.js\", function(){\n",
       "         LDAvis_load_lib(\"https://cdn.rawgit.com/bmabey/pyLDAvis/files/ldavis.v1.0.0.js\", function(){\n",
       "                 new LDAvis(\"#\" + \"ldavis_el1590019468864272081555757760\", ldavis_el1590019468864272081555757760_data);\n",
       "            })\n",
       "         });\n",
       "}\n",
       "</script>"
      ],
      "text/plain": [
       "PreparedData(topic_coordinates=              x         y  topics  cluster       Freq\n",
       "topic                                                \n",
       "2     -0.126644 -0.127320       1        1  34.557083\n",
       "1     -0.091787  0.147693       2        1  28.645256\n",
       "0      0.083017 -0.136314       3        1  22.457590\n",
       "3      0.135414  0.115941       4        1  14.340067, topic_info=         Term       Freq      Total Category  logprob  loglift\n",
       "50     museum  40.000000  40.000000  Default  30.0000  30.0000\n",
       "54    cypriot  35.000000  35.000000  Default  29.0000  29.0000\n",
       "136    statue  16.000000  16.000000  Default  28.0000  28.0000\n",
       "7         see  40.000000  40.000000  Default  27.0000  27.0000\n",
       "536  monument  29.000000  29.000000  Default  26.0000  26.0000\n",
       "..        ...        ...        ...      ...      ...      ...\n",
       "38       take   5.602574  30.554800   Topic4  -5.1577   0.2458\n",
       "70       find   4.835950  19.676628   Topic4  -5.3049   0.5388\n",
       "26         go   5.342315  54.652386   Topic4  -5.2053  -0.3832\n",
       "177      wall   3.692490  13.765263   Topic4  -5.5746   0.6263\n",
       "285      give   3.624763  18.929787   Topic4  -5.5932   0.2892\n",
       "\n",
       "[261 rows x 6 columns], token_table=      Topic      Freq   Term\n",
       "term                        \n",
       "1605      2  0.189556  alive\n",
       "1605      4  0.758223  alive\n",
       "221       1  0.464971   also\n",
       "221       2  0.265698   also\n",
       "221       3  0.265698   also\n",
       "...     ...       ...    ...\n",
       "658       3  0.364338   wine\n",
       "838       1  0.845108   word\n",
       "196       1  0.415412  worth\n",
       "196       2  0.571192  worth\n",
       "1678      4  0.896573  young\n",
       "\n",
       "[340 rows x 3 columns], R=30, lambda_step=0.01, plot_opts={'xlab': 'PC1', 'ylab': 'PC2'}, topic_order=[3, 2, 1, 4])"
      ]
     },
     "metadata": {},
     "output_type": "display_data"
    }
   ],
   "source": [
    "plot_model(lda_pos_custom, plot ='topic_model')"
   ]
  },
  {
   "cell_type": "markdown",
   "metadata": {},
   "source": [
    "## Tuning the model using Coherence Value"
   ]
  },
  {
   "cell_type": "code",
   "execution_count": 31,
   "metadata": {},
   "outputs": [
    {
     "data": {
      "application/vnd.jupyter.widget-view+json": {
       "model_id": "",
       "version_major": 2,
       "version_minor": 0
      },
      "text/plain": [
       "IntProgress(value=0, description='Processing: ', max=25)"
      ]
     },
     "metadata": {},
     "output_type": "display_data"
    },
    {
     "data": {
      "application/vnd.jupyter.widget-view+json": {
       "model_id": "edb323a8196345038de78141330df939",
       "version_major": 2,
       "version_minor": 0
      },
      "text/plain": [
       "Output()"
      ]
     },
     "metadata": {},
     "output_type": "display_data"
    },
    {
     "data": {
      "text/html": [
       "        <script type=\"text/javascript\">\n",
       "        window.PlotlyConfig = {MathJaxConfig: 'local'};\n",
       "        if (window.MathJax) {MathJax.Hub.Config({SVG: {font: \"STIX-Web\"}});}\n",
       "        if (typeof require !== 'undefined') {\n",
       "        require.undef(\"plotly\");\n",
       "        requirejs.config({\n",
       "            paths: {\n",
       "                'plotly': ['https://cdn.plot.ly/plotly-latest.min']\n",
       "            }\n",
       "        });\n",
       "        require(['plotly'], function(Plotly) {\n",
       "            window._Plotly = Plotly;\n",
       "        });\n",
       "        }\n",
       "        </script>\n",
       "        "
      ]
     },
     "metadata": {},
     "output_type": "display_data"
    },
    {
     "data": {
      "application/vnd.plotly.v1+json": {
       "config": {
        "plotlyServerURL": "https://plot.ly"
       },
       "data": [
        {
         "hovertemplate": "Metric=Coherence<br># Topics=%{x}<br>Score=%{y}<extra></extra>",
         "legendgroup": "Coherence",
         "line": {
          "color": "#636efa",
          "dash": "solid",
          "shape": "linear"
         },
         "mode": "lines",
         "name": "Coherence",
         "orientation": "v",
         "showlegend": true,
         "type": "scatter",
         "x": [
          2,
          4,
          8,
          16,
          32,
          64,
          100,
          200,
          300,
          400
         ],
         "xaxis": "x",
         "y": [
          0.3109521589028309,
          0.29890786303121747,
          0.3180371391011442,
          0.3465964202716535,
          0.39535955305952075,
          0.45931479981709755,
          0.45950767619768895,
          0.47340621955651163,
          0.4564447044200616,
          0.41891516698422576
         ],
         "yaxis": "y"
        }
       ],
       "layout": {
        "legend": {
         "title": {
          "text": "Metric"
         },
         "tracegroupgap": 0
        },
        "plot_bgcolor": "rgb(245,245,245)",
        "template": {
         "data": {
          "bar": [
           {
            "error_x": {
             "color": "#2a3f5f"
            },
            "error_y": {
             "color": "#2a3f5f"
            },
            "marker": {
             "line": {
              "color": "#E5ECF6",
              "width": 0.5
             }
            },
            "type": "bar"
           }
          ],
          "barpolar": [
           {
            "marker": {
             "line": {
              "color": "#E5ECF6",
              "width": 0.5
             }
            },
            "type": "barpolar"
           }
          ],
          "carpet": [
           {
            "aaxis": {
             "endlinecolor": "#2a3f5f",
             "gridcolor": "white",
             "linecolor": "white",
             "minorgridcolor": "white",
             "startlinecolor": "#2a3f5f"
            },
            "baxis": {
             "endlinecolor": "#2a3f5f",
             "gridcolor": "white",
             "linecolor": "white",
             "minorgridcolor": "white",
             "startlinecolor": "#2a3f5f"
            },
            "type": "carpet"
           }
          ],
          "choropleth": [
           {
            "colorbar": {
             "outlinewidth": 0,
             "ticks": ""
            },
            "type": "choropleth"
           }
          ],
          "contour": [
           {
            "colorbar": {
             "outlinewidth": 0,
             "ticks": ""
            },
            "colorscale": [
             [
              0,
              "#0d0887"
             ],
             [
              0.1111111111111111,
              "#46039f"
             ],
             [
              0.2222222222222222,
              "#7201a8"
             ],
             [
              0.3333333333333333,
              "#9c179e"
             ],
             [
              0.4444444444444444,
              "#bd3786"
             ],
             [
              0.5555555555555556,
              "#d8576b"
             ],
             [
              0.6666666666666666,
              "#ed7953"
             ],
             [
              0.7777777777777778,
              "#fb9f3a"
             ],
             [
              0.8888888888888888,
              "#fdca26"
             ],
             [
              1,
              "#f0f921"
             ]
            ],
            "type": "contour"
           }
          ],
          "contourcarpet": [
           {
            "colorbar": {
             "outlinewidth": 0,
             "ticks": ""
            },
            "type": "contourcarpet"
           }
          ],
          "heatmap": [
           {
            "colorbar": {
             "outlinewidth": 0,
             "ticks": ""
            },
            "colorscale": [
             [
              0,
              "#0d0887"
             ],
             [
              0.1111111111111111,
              "#46039f"
             ],
             [
              0.2222222222222222,
              "#7201a8"
             ],
             [
              0.3333333333333333,
              "#9c179e"
             ],
             [
              0.4444444444444444,
              "#bd3786"
             ],
             [
              0.5555555555555556,
              "#d8576b"
             ],
             [
              0.6666666666666666,
              "#ed7953"
             ],
             [
              0.7777777777777778,
              "#fb9f3a"
             ],
             [
              0.8888888888888888,
              "#fdca26"
             ],
             [
              1,
              "#f0f921"
             ]
            ],
            "type": "heatmap"
           }
          ],
          "heatmapgl": [
           {
            "colorbar": {
             "outlinewidth": 0,
             "ticks": ""
            },
            "colorscale": [
             [
              0,
              "#0d0887"
             ],
             [
              0.1111111111111111,
              "#46039f"
             ],
             [
              0.2222222222222222,
              "#7201a8"
             ],
             [
              0.3333333333333333,
              "#9c179e"
             ],
             [
              0.4444444444444444,
              "#bd3786"
             ],
             [
              0.5555555555555556,
              "#d8576b"
             ],
             [
              0.6666666666666666,
              "#ed7953"
             ],
             [
              0.7777777777777778,
              "#fb9f3a"
             ],
             [
              0.8888888888888888,
              "#fdca26"
             ],
             [
              1,
              "#f0f921"
             ]
            ],
            "type": "heatmapgl"
           }
          ],
          "histogram": [
           {
            "marker": {
             "colorbar": {
              "outlinewidth": 0,
              "ticks": ""
             }
            },
            "type": "histogram"
           }
          ],
          "histogram2d": [
           {
            "colorbar": {
             "outlinewidth": 0,
             "ticks": ""
            },
            "colorscale": [
             [
              0,
              "#0d0887"
             ],
             [
              0.1111111111111111,
              "#46039f"
             ],
             [
              0.2222222222222222,
              "#7201a8"
             ],
             [
              0.3333333333333333,
              "#9c179e"
             ],
             [
              0.4444444444444444,
              "#bd3786"
             ],
             [
              0.5555555555555556,
              "#d8576b"
             ],
             [
              0.6666666666666666,
              "#ed7953"
             ],
             [
              0.7777777777777778,
              "#fb9f3a"
             ],
             [
              0.8888888888888888,
              "#fdca26"
             ],
             [
              1,
              "#f0f921"
             ]
            ],
            "type": "histogram2d"
           }
          ],
          "histogram2dcontour": [
           {
            "colorbar": {
             "outlinewidth": 0,
             "ticks": ""
            },
            "colorscale": [
             [
              0,
              "#0d0887"
             ],
             [
              0.1111111111111111,
              "#46039f"
             ],
             [
              0.2222222222222222,
              "#7201a8"
             ],
             [
              0.3333333333333333,
              "#9c179e"
             ],
             [
              0.4444444444444444,
              "#bd3786"
             ],
             [
              0.5555555555555556,
              "#d8576b"
             ],
             [
              0.6666666666666666,
              "#ed7953"
             ],
             [
              0.7777777777777778,
              "#fb9f3a"
             ],
             [
              0.8888888888888888,
              "#fdca26"
             ],
             [
              1,
              "#f0f921"
             ]
            ],
            "type": "histogram2dcontour"
           }
          ],
          "mesh3d": [
           {
            "colorbar": {
             "outlinewidth": 0,
             "ticks": ""
            },
            "type": "mesh3d"
           }
          ],
          "parcoords": [
           {
            "line": {
             "colorbar": {
              "outlinewidth": 0,
              "ticks": ""
             }
            },
            "type": "parcoords"
           }
          ],
          "pie": [
           {
            "automargin": true,
            "type": "pie"
           }
          ],
          "scatter": [
           {
            "marker": {
             "colorbar": {
              "outlinewidth": 0,
              "ticks": ""
             }
            },
            "type": "scatter"
           }
          ],
          "scatter3d": [
           {
            "line": {
             "colorbar": {
              "outlinewidth": 0,
              "ticks": ""
             }
            },
            "marker": {
             "colorbar": {
              "outlinewidth": 0,
              "ticks": ""
             }
            },
            "type": "scatter3d"
           }
          ],
          "scattercarpet": [
           {
            "marker": {
             "colorbar": {
              "outlinewidth": 0,
              "ticks": ""
             }
            },
            "type": "scattercarpet"
           }
          ],
          "scattergeo": [
           {
            "marker": {
             "colorbar": {
              "outlinewidth": 0,
              "ticks": ""
             }
            },
            "type": "scattergeo"
           }
          ],
          "scattergl": [
           {
            "marker": {
             "colorbar": {
              "outlinewidth": 0,
              "ticks": ""
             }
            },
            "type": "scattergl"
           }
          ],
          "scattermapbox": [
           {
            "marker": {
             "colorbar": {
              "outlinewidth": 0,
              "ticks": ""
             }
            },
            "type": "scattermapbox"
           }
          ],
          "scatterpolar": [
           {
            "marker": {
             "colorbar": {
              "outlinewidth": 0,
              "ticks": ""
             }
            },
            "type": "scatterpolar"
           }
          ],
          "scatterpolargl": [
           {
            "marker": {
             "colorbar": {
              "outlinewidth": 0,
              "ticks": ""
             }
            },
            "type": "scatterpolargl"
           }
          ],
          "scatterternary": [
           {
            "marker": {
             "colorbar": {
              "outlinewidth": 0,
              "ticks": ""
             }
            },
            "type": "scatterternary"
           }
          ],
          "surface": [
           {
            "colorbar": {
             "outlinewidth": 0,
             "ticks": ""
            },
            "colorscale": [
             [
              0,
              "#0d0887"
             ],
             [
              0.1111111111111111,
              "#46039f"
             ],
             [
              0.2222222222222222,
              "#7201a8"
             ],
             [
              0.3333333333333333,
              "#9c179e"
             ],
             [
              0.4444444444444444,
              "#bd3786"
             ],
             [
              0.5555555555555556,
              "#d8576b"
             ],
             [
              0.6666666666666666,
              "#ed7953"
             ],
             [
              0.7777777777777778,
              "#fb9f3a"
             ],
             [
              0.8888888888888888,
              "#fdca26"
             ],
             [
              1,
              "#f0f921"
             ]
            ],
            "type": "surface"
           }
          ],
          "table": [
           {
            "cells": {
             "fill": {
              "color": "#EBF0F8"
             },
             "line": {
              "color": "white"
             }
            },
            "header": {
             "fill": {
              "color": "#C8D4E3"
             },
             "line": {
              "color": "white"
             }
            },
            "type": "table"
           }
          ]
         },
         "layout": {
          "annotationdefaults": {
           "arrowcolor": "#2a3f5f",
           "arrowhead": 0,
           "arrowwidth": 1
          },
          "coloraxis": {
           "colorbar": {
            "outlinewidth": 0,
            "ticks": ""
           }
          },
          "colorscale": {
           "diverging": [
            [
             0,
             "#8e0152"
            ],
            [
             0.1,
             "#c51b7d"
            ],
            [
             0.2,
             "#de77ae"
            ],
            [
             0.3,
             "#f1b6da"
            ],
            [
             0.4,
             "#fde0ef"
            ],
            [
             0.5,
             "#f7f7f7"
            ],
            [
             0.6,
             "#e6f5d0"
            ],
            [
             0.7,
             "#b8e186"
            ],
            [
             0.8,
             "#7fbc41"
            ],
            [
             0.9,
             "#4d9221"
            ],
            [
             1,
             "#276419"
            ]
           ],
           "sequential": [
            [
             0,
             "#0d0887"
            ],
            [
             0.1111111111111111,
             "#46039f"
            ],
            [
             0.2222222222222222,
             "#7201a8"
            ],
            [
             0.3333333333333333,
             "#9c179e"
            ],
            [
             0.4444444444444444,
             "#bd3786"
            ],
            [
             0.5555555555555556,
             "#d8576b"
            ],
            [
             0.6666666666666666,
             "#ed7953"
            ],
            [
             0.7777777777777778,
             "#fb9f3a"
            ],
            [
             0.8888888888888888,
             "#fdca26"
            ],
            [
             1,
             "#f0f921"
            ]
           ],
           "sequentialminus": [
            [
             0,
             "#0d0887"
            ],
            [
             0.1111111111111111,
             "#46039f"
            ],
            [
             0.2222222222222222,
             "#7201a8"
            ],
            [
             0.3333333333333333,
             "#9c179e"
            ],
            [
             0.4444444444444444,
             "#bd3786"
            ],
            [
             0.5555555555555556,
             "#d8576b"
            ],
            [
             0.6666666666666666,
             "#ed7953"
            ],
            [
             0.7777777777777778,
             "#fb9f3a"
            ],
            [
             0.8888888888888888,
             "#fdca26"
            ],
            [
             1,
             "#f0f921"
            ]
           ]
          },
          "colorway": [
           "#636efa",
           "#EF553B",
           "#00cc96",
           "#ab63fa",
           "#FFA15A",
           "#19d3f3",
           "#FF6692",
           "#B6E880",
           "#FF97FF",
           "#FECB52"
          ],
          "font": {
           "color": "#2a3f5f"
          },
          "geo": {
           "bgcolor": "white",
           "lakecolor": "white",
           "landcolor": "#E5ECF6",
           "showlakes": true,
           "showland": true,
           "subunitcolor": "white"
          },
          "hoverlabel": {
           "align": "left"
          },
          "hovermode": "closest",
          "mapbox": {
           "style": "light"
          },
          "paper_bgcolor": "white",
          "plot_bgcolor": "#E5ECF6",
          "polar": {
           "angularaxis": {
            "gridcolor": "white",
            "linecolor": "white",
            "ticks": ""
           },
           "bgcolor": "#E5ECF6",
           "radialaxis": {
            "gridcolor": "white",
            "linecolor": "white",
            "ticks": ""
           }
          },
          "scene": {
           "xaxis": {
            "backgroundcolor": "#E5ECF6",
            "gridcolor": "white",
            "gridwidth": 2,
            "linecolor": "white",
            "showbackground": true,
            "ticks": "",
            "zerolinecolor": "white"
           },
           "yaxis": {
            "backgroundcolor": "#E5ECF6",
            "gridcolor": "white",
            "gridwidth": 2,
            "linecolor": "white",
            "showbackground": true,
            "ticks": "",
            "zerolinecolor": "white"
           },
           "zaxis": {
            "backgroundcolor": "#E5ECF6",
            "gridcolor": "white",
            "gridwidth": 2,
            "linecolor": "white",
            "showbackground": true,
            "ticks": "",
            "zerolinecolor": "white"
           }
          },
          "shapedefaults": {
           "line": {
            "color": "#2a3f5f"
           }
          },
          "ternary": {
           "aaxis": {
            "gridcolor": "white",
            "linecolor": "white",
            "ticks": ""
           },
           "baxis": {
            "gridcolor": "white",
            "linecolor": "white",
            "ticks": ""
           },
           "bgcolor": "#E5ECF6",
           "caxis": {
            "gridcolor": "white",
            "linecolor": "white",
            "ticks": ""
           }
          },
          "title": {
           "x": 0.05
          },
          "xaxis": {
           "automargin": true,
           "gridcolor": "white",
           "linecolor": "white",
           "ticks": "",
           "title": {
            "standoff": 15
           },
           "zerolinecolor": "white",
           "zerolinewidth": 2
          },
          "yaxis": {
           "automargin": true,
           "gridcolor": "white",
           "linecolor": "white",
           "ticks": "",
           "title": {
            "standoff": 15
           },
           "zerolinecolor": "white",
           "zerolinewidth": 2
          }
         }
        },
        "title": {
         "text": "Coherence Value and # of Topics"
        },
        "xaxis": {
         "anchor": "y",
         "domain": [
          0,
          1
         ],
         "title": {
          "text": "# Topics"
         }
        },
        "yaxis": {
         "anchor": "x",
         "domain": [
          0,
          1
         ],
         "title": {
          "text": "Score"
         }
        }
       }
      },
      "text/html": [
       "<div>\n",
       "        \n",
       "        \n",
       "            <div id=\"719af6cc-7d00-4096-8014-01a23764a0f6\" class=\"plotly-graph-div\" style=\"height:525px; width:100%;\"></div>\n",
       "            <script type=\"text/javascript\">\n",
       "                require([\"plotly\"], function(Plotly) {\n",
       "                    window.PLOTLYENV=window.PLOTLYENV || {};\n",
       "                    \n",
       "                if (document.getElementById(\"719af6cc-7d00-4096-8014-01a23764a0f6\")) {\n",
       "                    Plotly.newPlot(\n",
       "                        '719af6cc-7d00-4096-8014-01a23764a0f6',\n",
       "                        [{\"hovertemplate\": \"Metric=Coherence<br># Topics=%{x}<br>Score=%{y}<extra></extra>\", \"legendgroup\": \"Coherence\", \"line\": {\"color\": \"#636efa\", \"dash\": \"solid\", \"shape\": \"linear\"}, \"mode\": \"lines\", \"name\": \"Coherence\", \"orientation\": \"v\", \"showlegend\": true, \"type\": \"scatter\", \"x\": [2, 4, 8, 16, 32, 64, 100, 200, 300, 400], \"xaxis\": \"x\", \"y\": [0.3109521589028309, 0.29890786303121747, 0.3180371391011442, 0.3465964202716535, 0.39535955305952075, 0.45931479981709755, 0.45950767619768895, 0.47340621955651163, 0.4564447044200616, 0.41891516698422576], \"yaxis\": \"y\"}],\n",
       "                        {\"legend\": {\"title\": {\"text\": \"Metric\"}, \"tracegroupgap\": 0}, \"plot_bgcolor\": \"rgb(245,245,245)\", \"template\": {\"data\": {\"bar\": [{\"error_x\": {\"color\": \"#2a3f5f\"}, \"error_y\": {\"color\": \"#2a3f5f\"}, \"marker\": {\"line\": {\"color\": \"#E5ECF6\", \"width\": 0.5}}, \"type\": \"bar\"}], \"barpolar\": [{\"marker\": {\"line\": {\"color\": \"#E5ECF6\", \"width\": 0.5}}, \"type\": \"barpolar\"}], \"carpet\": [{\"aaxis\": {\"endlinecolor\": \"#2a3f5f\", \"gridcolor\": \"white\", \"linecolor\": \"white\", \"minorgridcolor\": \"white\", \"startlinecolor\": \"#2a3f5f\"}, \"baxis\": {\"endlinecolor\": \"#2a3f5f\", \"gridcolor\": \"white\", \"linecolor\": \"white\", \"minorgridcolor\": \"white\", \"startlinecolor\": \"#2a3f5f\"}, \"type\": \"carpet\"}], \"choropleth\": [{\"colorbar\": {\"outlinewidth\": 0, \"ticks\": \"\"}, \"type\": \"choropleth\"}], \"contour\": [{\"colorbar\": {\"outlinewidth\": 0, \"ticks\": \"\"}, \"colorscale\": [[0.0, \"#0d0887\"], [0.1111111111111111, \"#46039f\"], [0.2222222222222222, \"#7201a8\"], [0.3333333333333333, \"#9c179e\"], [0.4444444444444444, \"#bd3786\"], [0.5555555555555556, \"#d8576b\"], [0.6666666666666666, \"#ed7953\"], [0.7777777777777778, \"#fb9f3a\"], [0.8888888888888888, \"#fdca26\"], [1.0, \"#f0f921\"]], \"type\": \"contour\"}], \"contourcarpet\": [{\"colorbar\": {\"outlinewidth\": 0, \"ticks\": \"\"}, \"type\": \"contourcarpet\"}], \"heatmap\": [{\"colorbar\": {\"outlinewidth\": 0, \"ticks\": \"\"}, \"colorscale\": [[0.0, \"#0d0887\"], [0.1111111111111111, \"#46039f\"], [0.2222222222222222, \"#7201a8\"], [0.3333333333333333, \"#9c179e\"], [0.4444444444444444, \"#bd3786\"], [0.5555555555555556, \"#d8576b\"], [0.6666666666666666, \"#ed7953\"], [0.7777777777777778, \"#fb9f3a\"], [0.8888888888888888, \"#fdca26\"], [1.0, \"#f0f921\"]], \"type\": \"heatmap\"}], \"heatmapgl\": [{\"colorbar\": {\"outlinewidth\": 0, \"ticks\": \"\"}, \"colorscale\": [[0.0, \"#0d0887\"], [0.1111111111111111, \"#46039f\"], [0.2222222222222222, \"#7201a8\"], [0.3333333333333333, \"#9c179e\"], [0.4444444444444444, \"#bd3786\"], [0.5555555555555556, \"#d8576b\"], [0.6666666666666666, \"#ed7953\"], [0.7777777777777778, \"#fb9f3a\"], [0.8888888888888888, \"#fdca26\"], [1.0, \"#f0f921\"]], \"type\": \"heatmapgl\"}], \"histogram\": [{\"marker\": {\"colorbar\": {\"outlinewidth\": 0, \"ticks\": \"\"}}, \"type\": \"histogram\"}], \"histogram2d\": [{\"colorbar\": {\"outlinewidth\": 0, \"ticks\": \"\"}, \"colorscale\": [[0.0, \"#0d0887\"], [0.1111111111111111, \"#46039f\"], [0.2222222222222222, \"#7201a8\"], [0.3333333333333333, \"#9c179e\"], [0.4444444444444444, \"#bd3786\"], [0.5555555555555556, \"#d8576b\"], [0.6666666666666666, \"#ed7953\"], [0.7777777777777778, \"#fb9f3a\"], [0.8888888888888888, \"#fdca26\"], [1.0, \"#f0f921\"]], \"type\": \"histogram2d\"}], \"histogram2dcontour\": [{\"colorbar\": {\"outlinewidth\": 0, \"ticks\": \"\"}, \"colorscale\": [[0.0, \"#0d0887\"], [0.1111111111111111, \"#46039f\"], [0.2222222222222222, \"#7201a8\"], [0.3333333333333333, \"#9c179e\"], [0.4444444444444444, \"#bd3786\"], [0.5555555555555556, \"#d8576b\"], [0.6666666666666666, \"#ed7953\"], [0.7777777777777778, \"#fb9f3a\"], [0.8888888888888888, \"#fdca26\"], [1.0, \"#f0f921\"]], \"type\": \"histogram2dcontour\"}], \"mesh3d\": [{\"colorbar\": {\"outlinewidth\": 0, \"ticks\": \"\"}, \"type\": \"mesh3d\"}], \"parcoords\": [{\"line\": {\"colorbar\": {\"outlinewidth\": 0, \"ticks\": \"\"}}, \"type\": \"parcoords\"}], \"pie\": [{\"automargin\": true, \"type\": \"pie\"}], \"scatter\": [{\"marker\": {\"colorbar\": {\"outlinewidth\": 0, \"ticks\": \"\"}}, \"type\": \"scatter\"}], \"scatter3d\": [{\"line\": {\"colorbar\": {\"outlinewidth\": 0, \"ticks\": \"\"}}, \"marker\": {\"colorbar\": {\"outlinewidth\": 0, \"ticks\": \"\"}}, \"type\": \"scatter3d\"}], \"scattercarpet\": [{\"marker\": {\"colorbar\": {\"outlinewidth\": 0, \"ticks\": \"\"}}, \"type\": \"scattercarpet\"}], \"scattergeo\": [{\"marker\": {\"colorbar\": {\"outlinewidth\": 0, \"ticks\": \"\"}}, \"type\": \"scattergeo\"}], \"scattergl\": [{\"marker\": {\"colorbar\": {\"outlinewidth\": 0, \"ticks\": \"\"}}, \"type\": \"scattergl\"}], \"scattermapbox\": [{\"marker\": {\"colorbar\": {\"outlinewidth\": 0, \"ticks\": \"\"}}, \"type\": \"scattermapbox\"}], \"scatterpolar\": [{\"marker\": {\"colorbar\": {\"outlinewidth\": 0, \"ticks\": \"\"}}, \"type\": \"scatterpolar\"}], \"scatterpolargl\": [{\"marker\": {\"colorbar\": {\"outlinewidth\": 0, \"ticks\": \"\"}}, \"type\": \"scatterpolargl\"}], \"scatterternary\": [{\"marker\": {\"colorbar\": {\"outlinewidth\": 0, \"ticks\": \"\"}}, \"type\": \"scatterternary\"}], \"surface\": [{\"colorbar\": {\"outlinewidth\": 0, \"ticks\": \"\"}, \"colorscale\": [[0.0, \"#0d0887\"], [0.1111111111111111, \"#46039f\"], [0.2222222222222222, \"#7201a8\"], [0.3333333333333333, \"#9c179e\"], [0.4444444444444444, \"#bd3786\"], [0.5555555555555556, \"#d8576b\"], [0.6666666666666666, \"#ed7953\"], [0.7777777777777778, \"#fb9f3a\"], [0.8888888888888888, \"#fdca26\"], [1.0, \"#f0f921\"]], \"type\": \"surface\"}], \"table\": [{\"cells\": {\"fill\": {\"color\": \"#EBF0F8\"}, \"line\": {\"color\": \"white\"}}, \"header\": {\"fill\": {\"color\": \"#C8D4E3\"}, \"line\": {\"color\": \"white\"}}, \"type\": \"table\"}]}, \"layout\": {\"annotationdefaults\": {\"arrowcolor\": \"#2a3f5f\", \"arrowhead\": 0, \"arrowwidth\": 1}, \"coloraxis\": {\"colorbar\": {\"outlinewidth\": 0, \"ticks\": \"\"}}, \"colorscale\": {\"diverging\": [[0, \"#8e0152\"], [0.1, \"#c51b7d\"], [0.2, \"#de77ae\"], [0.3, \"#f1b6da\"], [0.4, \"#fde0ef\"], [0.5, \"#f7f7f7\"], [0.6, \"#e6f5d0\"], [0.7, \"#b8e186\"], [0.8, \"#7fbc41\"], [0.9, \"#4d9221\"], [1, \"#276419\"]], \"sequential\": [[0.0, \"#0d0887\"], [0.1111111111111111, \"#46039f\"], [0.2222222222222222, \"#7201a8\"], [0.3333333333333333, \"#9c179e\"], [0.4444444444444444, \"#bd3786\"], [0.5555555555555556, \"#d8576b\"], [0.6666666666666666, \"#ed7953\"], [0.7777777777777778, \"#fb9f3a\"], [0.8888888888888888, \"#fdca26\"], [1.0, \"#f0f921\"]], \"sequentialminus\": [[0.0, \"#0d0887\"], [0.1111111111111111, \"#46039f\"], [0.2222222222222222, \"#7201a8\"], [0.3333333333333333, \"#9c179e\"], [0.4444444444444444, \"#bd3786\"], [0.5555555555555556, \"#d8576b\"], [0.6666666666666666, \"#ed7953\"], [0.7777777777777778, \"#fb9f3a\"], [0.8888888888888888, \"#fdca26\"], [1.0, \"#f0f921\"]]}, \"colorway\": [\"#636efa\", \"#EF553B\", \"#00cc96\", \"#ab63fa\", \"#FFA15A\", \"#19d3f3\", \"#FF6692\", \"#B6E880\", \"#FF97FF\", \"#FECB52\"], \"font\": {\"color\": \"#2a3f5f\"}, \"geo\": {\"bgcolor\": \"white\", \"lakecolor\": \"white\", \"landcolor\": \"#E5ECF6\", \"showlakes\": true, \"showland\": true, \"subunitcolor\": \"white\"}, \"hoverlabel\": {\"align\": \"left\"}, \"hovermode\": \"closest\", \"mapbox\": {\"style\": \"light\"}, \"paper_bgcolor\": \"white\", \"plot_bgcolor\": \"#E5ECF6\", \"polar\": {\"angularaxis\": {\"gridcolor\": \"white\", \"linecolor\": \"white\", \"ticks\": \"\"}, \"bgcolor\": \"#E5ECF6\", \"radialaxis\": {\"gridcolor\": \"white\", \"linecolor\": \"white\", \"ticks\": \"\"}}, \"scene\": {\"xaxis\": {\"backgroundcolor\": \"#E5ECF6\", \"gridcolor\": \"white\", \"gridwidth\": 2, \"linecolor\": \"white\", \"showbackground\": true, \"ticks\": \"\", \"zerolinecolor\": \"white\"}, \"yaxis\": {\"backgroundcolor\": \"#E5ECF6\", \"gridcolor\": \"white\", \"gridwidth\": 2, \"linecolor\": \"white\", \"showbackground\": true, \"ticks\": \"\", \"zerolinecolor\": \"white\"}, \"zaxis\": {\"backgroundcolor\": \"#E5ECF6\", \"gridcolor\": \"white\", \"gridwidth\": 2, \"linecolor\": \"white\", \"showbackground\": true, \"ticks\": \"\", \"zerolinecolor\": \"white\"}}, \"shapedefaults\": {\"line\": {\"color\": \"#2a3f5f\"}}, \"ternary\": {\"aaxis\": {\"gridcolor\": \"white\", \"linecolor\": \"white\", \"ticks\": \"\"}, \"baxis\": {\"gridcolor\": \"white\", \"linecolor\": \"white\", \"ticks\": \"\"}, \"bgcolor\": \"#E5ECF6\", \"caxis\": {\"gridcolor\": \"white\", \"linecolor\": \"white\", \"ticks\": \"\"}}, \"title\": {\"x\": 0.05}, \"xaxis\": {\"automargin\": true, \"gridcolor\": \"white\", \"linecolor\": \"white\", \"ticks\": \"\", \"title\": {\"standoff\": 15}, \"zerolinecolor\": \"white\", \"zerolinewidth\": 2}, \"yaxis\": {\"automargin\": true, \"gridcolor\": \"white\", \"linecolor\": \"white\", \"ticks\": \"\", \"title\": {\"standoff\": 15}, \"zerolinecolor\": \"white\", \"zerolinewidth\": 2}}}, \"title\": {\"text\": \"Coherence Value and # of Topics\"}, \"xaxis\": {\"anchor\": \"y\", \"domain\": [0.0, 1.0], \"title\": {\"text\": \"# Topics\"}}, \"yaxis\": {\"anchor\": \"x\", \"domain\": [0.0, 1.0], \"title\": {\"text\": \"Score\"}}},\n",
       "                        {\"responsive\": true}\n",
       "                    ).then(function(){\n",
       "                            \n",
       "var gd = document.getElementById('719af6cc-7d00-4096-8014-01a23764a0f6');\n",
       "var x = new MutationObserver(function (mutations, observer) {{\n",
       "        var display = window.getComputedStyle(gd).display;\n",
       "        if (!display || display === 'none') {{\n",
       "            console.log([gd, 'removed!']);\n",
       "            Plotly.purge(gd);\n",
       "            observer.disconnect();\n",
       "        }}\n",
       "}});\n",
       "\n",
       "// Listen for the removal of the full notebook cells\n",
       "var notebookContainer = gd.closest('#notebook-container');\n",
       "if (notebookContainer) {{\n",
       "    x.observe(notebookContainer, {childList: true});\n",
       "}}\n",
       "\n",
       "// Listen for the clearing of the current output cell\n",
       "var outputEl = gd.closest('.output');\n",
       "if (outputEl) {{\n",
       "    x.observe(outputEl, {childList: true});\n",
       "}}\n",
       "\n",
       "                        })\n",
       "                };\n",
       "                });\n",
       "            </script>\n",
       "        </div>"
      ]
     },
     "metadata": {},
     "output_type": "display_data"
    },
    {
     "name": "stdout",
     "output_type": "stream",
     "text": [
      "Best Model: Latent Dirichlet Allocation | # Topics: 200 | Coherence: 0.4734\n"
     ]
    }
   ],
   "source": [
    "tune_lda_positive = tune_model(model='lda', supervised_target=None, estimator='xgboost')"
   ]
  },
  {
   "cell_type": "markdown",
   "metadata": {},
   "source": [
    "8 is selected"
   ]
  },
  {
   "cell_type": "code",
   "execution_count": 32,
   "metadata": {},
   "outputs": [
    {
     "name": "stdout",
     "output_type": "stream",
     "text": [
      "LdaModel(num_terms=1773, num_topics=2, decay=0.5, chunksize=100)\n"
     ]
    }
   ],
   "source": [
    "tuned_pos_2 = create_model('lda',num_topics=2)\n",
    "print(tuned_pos_2)"
   ]
  },
  {
   "cell_type": "code",
   "execution_count": 33,
   "metadata": {},
   "outputs": [],
   "source": [
    "apply_tuned_2 = assign_model(tuned_pos_2)"
   ]
  },
  {
   "cell_type": "code",
   "execution_count": 34,
   "metadata": {},
   "outputs": [
    {
     "data": {
      "application/vnd.jupyter.widget-view+json": {
       "model_id": "6752e07a3212447ea35e77e6fbc94948",
       "version_major": 2,
       "version_minor": 0
      },
      "text/plain": [
       "interactive(children=(ToggleButtons(description='Plot Type:', icons=('',), options=(('Frequency Plot', 'freque…"
      ]
     },
     "metadata": {},
     "output_type": "display_data"
    }
   ],
   "source": [
    "evaluate_model(tuned_pos_2)"
   ]
  },
  {
   "cell_type": "code",
   "execution_count": 35,
   "metadata": {},
   "outputs": [
    {
     "data": {
      "text/html": [
       "        <script type=\"text/javascript\">\n",
       "        window.PlotlyConfig = {MathJaxConfig: 'local'};\n",
       "        if (window.MathJax) {MathJax.Hub.Config({SVG: {font: \"STIX-Web\"}});}\n",
       "        if (typeof require !== 'undefined') {\n",
       "        require.undef(\"plotly\");\n",
       "        requirejs.config({\n",
       "            paths: {\n",
       "                'plotly': ['https://cdn.plot.ly/plotly-latest.min']\n",
       "            }\n",
       "        });\n",
       "        require(['plotly'], function(Plotly) {\n",
       "            window._Plotly = Plotly;\n",
       "        });\n",
       "        }\n",
       "        </script>\n",
       "        "
      ]
     },
     "metadata": {},
     "output_type": "display_data"
    },
    {
     "data": {
      "text/html": [
       "\n",
       "<link rel=\"stylesheet\" type=\"text/css\" href=\"https://cdn.rawgit.com/bmabey/pyLDAvis/files/ldavis.v1.0.0.css\">\n",
       "\n",
       "\n",
       "<div id=\"ldavis_el1590019468593093841494921978\"></div>\n",
       "<script type=\"text/javascript\">\n",
       "\n",
       "var ldavis_el1590019468593093841494921978_data = {\"mdsDat\": {\"x\": [-0.03216122044502555, 0.03216122044502555], \"y\": [0.1015248876223311, -0.1015248876223311], \"topics\": [1, 2], \"cluster\": [1, 1], \"Freq\": [55.27641296386719, 44.72358703613281]}, \"tinfo\": {\"Term\": [\"museum\", \"service\", \"see\", \"monument\", \"british\", \"cypriot\", \"history\", \"wine\", \"atmosphere\", \"excellent\", \"struggle\", \"interesting\", \"statue\", \"dinner\", \"dish\", \"price\", \"independence\", \"freedom\", \"quality\", \"romantic\", \"close\", \"steak\", \"great\", \"picture\", \"photo\", \"free\", \"wall\", \"bar\", \"show\", \"traditional\", \"service\", \"wine\", \"dinner\", \"dish\", \"quality\", \"price\", \"romantic\", \"steak\", \"atmosphere\", \"delicious\", \"bar\", \"serve\", \"starter\", \"expensive\", \"music\", \"menu\", \"design\", \"glass\", \"course\", \"meal\", \"taste\", \"cook\", \"friendly\", \"sauce\", \"summer\", \"pricey\", \"portion\", \"fresh\", \"salmon\", \"cuisine\", \"excellent\", \"friend\", \"table\", \"amazing\", \"great\", \"place\", \"love\", \"perfect\", \"time\", \"old\", \"go\", \"special\", \"really\", \"recommend\", \"also\", \"visit\", \"staff\", \"bit\", \"museum\", \"monument\", \"british\", \"history\", \"struggle\", \"statue\", \"interesting\", \"independence\", \"freedom\", \"picture\", \"photo\", \"close\", \"free\", \"show\", \"greek\", \"traditional\", \"icon\", \"collection\", \"story\", \"exhibit\", \"liberty\", \"fee\", \"see\", \"turkish\", \"occupation\", \"eoka\", \"rule\", \"alive\", \"information\", \"display\", \"cypriot\", \"hour\", \"wall\", \"life\", \"lot\", \"small\", \"worth\", \"visit\", \"people\", \"quite\", \"take\", \"look\", \"make\", \"go\", \"find\", \"old\", \"place\", \"city\", \"time\", \"really\", \"give\", \"great\"], \"Freq\": [38.0, 49.0, 39.0, 30.0, 27.0, 37.0, 26.0, 32.0, 36.0, 47.0, 21.0, 21.0, 19.0, 23.0, 20.0, 19.0, 13.0, 13.0, 18.0, 18.0, 11.0, 15.0, 62.0, 10.0, 10.0, 10.0, 13.0, 14.0, 10.0, 10.0, 49.040550231933594, 32.22441864013672, 23.116920471191406, 20.268308639526367, 18.571996688842773, 19.04769515991211, 18.215036392211914, 15.312163352966309, 35.138641357421875, 13.495750427246094, 14.3125, 12.884766578674316, 12.648553848266602, 12.166460990905762, 14.379694938659668, 11.563028335571289, 11.966897964477539, 9.746489524841309, 9.745020866394043, 9.630263328552246, 12.828478813171387, 8.784107208251953, 8.783648490905762, 8.660107612609863, 8.659944534301758, 8.417559623718262, 8.762685775756836, 8.415771484375, 8.178496360778809, 8.174783706665039, 44.90953063964844, 18.657588958740234, 20.256759643554688, 25.985595703125, 50.615150451660156, 52.01103973388672, 14.223832130432129, 15.06806468963623, 31.695383071899414, 31.156816482543945, 33.20902633666992, 14.228392601013184, 24.365829467773438, 19.57407569885254, 20.289390563964844, 34.40508270263672, 15.922001838684082, 14.764704704284668, 38.06672286987305, 29.816940307617188, 27.31545639038086, 26.346864700317383, 21.3269100189209, 18.838476181030273, 21.08814239501953, 13.342353820800781, 13.342324256896973, 10.36163330078125, 10.361241340637207, 10.858304023742676, 10.344832420349121, 9.895604133605957, 9.869296073913574, 9.924928665161133, 9.467041969299316, 8.104097366333008, 6.861639976501465, 6.396154403686523, 6.355770111083984, 5.889235496520996, 36.9018669128418, 5.371190071105957, 5.357809543609619, 5.357787609100342, 5.3577446937561035, 5.357730865478516, 5.379888534545898, 5.386569976806641, 33.77925491333008, 6.499292373657227, 12.276012420654297, 10.887042999267578, 9.881729125976562, 17.559307098388672, 22.57025146484375, 37.68537521362305, 19.969009399414062, 15.98922061920166, 17.831144332885742, 16.112699508666992, 15.862192153930664, 20.890220642089844, 12.617016792297363, 17.406991958618164, 19.838584899902344, 11.056873321533203, 13.553470611572266, 11.902812957763672, 10.919506072998047, 11.495587348937988], \"Total\": [38.0, 49.0, 39.0, 30.0, 27.0, 37.0, 26.0, 32.0, 36.0, 47.0, 21.0, 21.0, 19.0, 23.0, 20.0, 19.0, 13.0, 13.0, 18.0, 18.0, 11.0, 15.0, 62.0, 10.0, 10.0, 10.0, 13.0, 14.0, 10.0, 10.0, 49.41329574584961, 32.600345611572266, 23.527202606201172, 20.639415740966797, 18.940425872802734, 19.427011489868164, 18.583148956298828, 15.680209159851074, 36.01663589477539, 13.863962173461914, 14.705168724060059, 13.257611274719238, 13.017695426940918, 12.536218643188477, 14.819742202758789, 11.931146621704102, 12.399550437927246, 10.114822387695312, 10.114579200744629, 9.998316764831543, 13.351656913757324, 9.15222454071045, 9.152148246765137, 9.028157234191895, 9.028129577636719, 8.787187576293945, 9.14867877960205, 8.786890983581543, 8.546789169311523, 8.54616928100586, 47.7982177734375, 20.03510284423828, 22.439510345458984, 29.43184471130371, 62.11073684692383, 71.84962463378906, 16.09661293029785, 17.43457794189453, 45.24885559082031, 48.56380844116211, 54.099246978759766, 17.09539031982422, 36.26864242553711, 26.955402374267578, 29.18014144897461, 72.0904541015625, 20.693729400634766, 18.181669235229492, 38.51018524169922, 30.258228302001953, 27.756250381469727, 26.832284927368164, 21.767759323120117, 19.27923583984375, 21.593955993652344, 13.78307056427002, 13.783072471618652, 10.802228927612305, 10.802306175231934, 11.325689315795898, 10.805490493774414, 10.336730003356934, 10.309893608093262, 10.378829956054688, 9.911566734313965, 8.604618072509766, 7.302251815795898, 6.836688995361328, 6.796482086181641, 6.331206321716309, 39.87495803833008, 5.811887264251709, 5.798376560211182, 5.7983808517456055, 5.798388957977295, 5.798391342163086, 5.826194763183594, 5.8408613204956055, 37.11481857299805, 7.056774139404297, 13.66006851196289, 12.181669235229492, 11.425498008728027, 23.556562423706055, 35.96109390258789, 72.0904541015625, 31.694583892822266, 23.794673919677734, 31.177818298339844, 27.16210174560547, 27.576183319091797, 54.099246978759766, 19.91229248046875, 48.56380844116211, 71.84962463378906, 15.865318298339844, 45.24885559082031, 36.26864242553711, 19.068050384521484, 62.11073684692383], \"Category\": [\"Default\", \"Default\", \"Default\", \"Default\", \"Default\", \"Default\", \"Default\", \"Default\", \"Default\", \"Default\", \"Default\", \"Default\", \"Default\", \"Default\", \"Default\", \"Default\", \"Default\", \"Default\", \"Default\", \"Default\", \"Default\", \"Default\", \"Default\", \"Default\", \"Default\", \"Default\", \"Default\", \"Default\", \"Default\", \"Default\", \"Topic1\", \"Topic1\", \"Topic1\", \"Topic1\", \"Topic1\", \"Topic1\", \"Topic1\", \"Topic1\", \"Topic1\", \"Topic1\", \"Topic1\", \"Topic1\", \"Topic1\", \"Topic1\", \"Topic1\", \"Topic1\", \"Topic1\", \"Topic1\", \"Topic1\", \"Topic1\", \"Topic1\", \"Topic1\", \"Topic1\", \"Topic1\", \"Topic1\", \"Topic1\", \"Topic1\", \"Topic1\", \"Topic1\", \"Topic1\", \"Topic1\", \"Topic1\", \"Topic1\", \"Topic1\", \"Topic1\", \"Topic1\", \"Topic1\", \"Topic1\", \"Topic1\", \"Topic1\", \"Topic1\", \"Topic1\", \"Topic1\", \"Topic1\", \"Topic1\", \"Topic1\", \"Topic1\", \"Topic1\", \"Topic2\", \"Topic2\", \"Topic2\", \"Topic2\", \"Topic2\", \"Topic2\", \"Topic2\", \"Topic2\", \"Topic2\", \"Topic2\", \"Topic2\", \"Topic2\", \"Topic2\", \"Topic2\", \"Topic2\", \"Topic2\", \"Topic2\", \"Topic2\", \"Topic2\", \"Topic2\", \"Topic2\", \"Topic2\", \"Topic2\", \"Topic2\", \"Topic2\", \"Topic2\", \"Topic2\", \"Topic2\", \"Topic2\", \"Topic2\", \"Topic2\", \"Topic2\", \"Topic2\", \"Topic2\", \"Topic2\", \"Topic2\", \"Topic2\", \"Topic2\", \"Topic2\", \"Topic2\", \"Topic2\", \"Topic2\", \"Topic2\", \"Topic2\", \"Topic2\", \"Topic2\", \"Topic2\", \"Topic2\", \"Topic2\", \"Topic2\", \"Topic2\", \"Topic2\"], \"logprob\": [30.0, 29.0, 28.0, 27.0, 26.0, 25.0, 24.0, 23.0, 22.0, 21.0, 20.0, 19.0, 18.0, 17.0, 16.0, 15.0, 14.0, 13.0, 12.0, 11.0, 10.0, 9.0, 8.0, 7.0, 6.0, 5.0, 4.0, 3.0, 2.0, 1.0, -4.337600231170654, -4.757500171661377, -5.089700222015381, -5.221199989318848, -5.308599948883057, -5.283299922943115, -5.328000068664551, -5.5015997886657715, -4.670899868011475, -5.627900123596191, -5.5690999031066895, -5.674200057983398, -5.692699909210205, -5.731599807739258, -5.5644001960754395, -5.782400131225586, -5.7480998039245605, -5.9532999992370605, -5.953499794006348, -5.9653000831604, -5.678599834442139, -6.057300090789795, -6.057300090789795, -6.071499824523926, -6.071499824523926, -6.099899768829346, -6.059700012207031, -6.100100040435791, -6.128699779510498, -6.129199981689453, -4.425600051879883, -5.303999900817871, -5.221700191497803, -4.972700119018555, -4.306000232696533, -4.278800010681152, -5.575300216674805, -5.5177001953125, -4.774099826812744, -4.791200160980225, -4.727399826049805, -5.574999809265137, -5.037099838256836, -5.25600004196167, -5.220099925994873, -4.691999912261963, -5.462500095367432, -5.538000106811523, -4.379000186920166, -4.623300075531006, -4.710899829864502, -4.747000217437744, -4.958399772644043, -5.082499980926514, -4.969699859619141, -5.4274001121521, -5.4274001121521, -5.680300235748291, -5.680300235748291, -5.633500099182129, -5.6819000244140625, -5.72629976272583, -5.729000091552734, -5.723299980163574, -5.770599842071533, -5.926000118255615, -6.092400074005127, -6.162700176239014, -6.169000148773193, -6.245299816131592, -4.410099983215332, -6.337299823760986, -6.339799880981445, -6.339799880981445, -6.339799880981445, -6.339799880981445, -6.335700035095215, -6.334499835968018, -4.498499870300293, -6.146699905395508, -5.510700225830078, -5.630799770355225, -5.727700233459473, -5.1528000831604, -4.901800155639648, -4.389100074768066, -5.024199962615967, -5.246500015258789, -5.137400150299072, -5.238800048828125, -5.254499912261963, -4.979100227355957, -5.48330020904541, -5.161499977111816, -5.030799865722656, -5.615300178527832, -5.4116997718811035, -5.541600227355957, -5.627799987792969, -5.576399803161621], \"loglift\": [30.0, 29.0, 28.0, 27.0, 26.0, 25.0, 24.0, 23.0, 22.0, 21.0, 20.0, 19.0, 18.0, 17.0, 16.0, 15.0, 14.0, 13.0, 12.0, 11.0, 10.0, 9.0, 8.0, 7.0, 6.0, 5.0, 4.0, 3.0, 2.0, 1.0, 0.5853000283241272, 0.5812000036239624, 0.5752000212669373, 0.5746999979019165, 0.573199987411499, 0.5730999708175659, 0.5727999806404114, 0.569100022315979, 0.5680999755859375, 0.5659000277519226, 0.5658000111579895, 0.564300000667572, 0.5641000270843506, 0.5629000067710876, 0.5626999735832214, 0.5615000128746033, 0.5572999715805054, 0.5557000041007996, 0.5555999875068665, 0.5552999973297119, 0.5529000163078308, 0.551800012588501, 0.5516999959945679, 0.5511999726295471, 0.5511999726295471, 0.5497999787330627, 0.5497000217437744, 0.5497000217437744, 0.548799991607666, 0.5483999848365784, 0.5304999947547913, 0.5216000080108643, 0.49050000309944153, 0.4683000147342682, 0.3882000148296356, 0.26969999074935913, 0.4690999984741211, 0.44690001010894775, 0.23680000007152557, 0.14900000393390656, 0.10480000078678131, 0.4092999994754791, 0.19509999454021454, 0.2727999985218048, 0.22939999401569366, -0.1468999981880188, 0.33070001006126404, 0.3846000134944916, 0.7930999994277954, 0.7900000214576721, 0.7886999845504761, 0.7864000201225281, 0.7842000126838684, 0.781499981880188, 0.781000018119812, 0.7721999883651733, 0.7721999883651733, 0.7630000114440918, 0.7630000114440918, 0.762499988079071, 0.7610999941825867, 0.7610999941825867, 0.7609999775886536, 0.7599999904632568, 0.7588000297546387, 0.744700014591217, 0.7423999905586243, 0.738099992275238, 0.7376000285148621, 0.7322999835014343, 0.7271999716758728, 0.7257999777793884, 0.725600004196167, 0.725600004196167, 0.725600004196167, 0.725600004196167, 0.7250000238418579, 0.7236999869346619, 0.7105000019073486, 0.7224000096321106, 0.6977999806404114, 0.692300021648407, 0.659500002861023, 0.5108000040054321, 0.33889999985694885, 0.15600000321865082, 0.3427000045776367, 0.40709999203681946, 0.2459000051021576, 0.2824999988079071, 0.2517000138759613, -0.1468999981880188, 0.3483999967575073, -0.22130000591278076, -0.4823000133037567, 0.44359999895095825, -0.4009000062942505, -0.3095000088214874, 0.24719999730587006, -0.8823000192642212]}, \"token.table\": {\"Topic\": [2, 1, 2, 1, 2, 1, 2, 1, 1, 2, 2, 1, 2, 2, 1, 2, 1, 1, 1, 1, 2, 1, 1, 1, 1, 2, 2, 1, 2, 2, 1, 2, 1, 2, 2, 2, 1, 1, 2, 1, 1, 2, 1, 1, 2, 1, 2, 2, 2, 1, 2, 2, 2, 2, 1, 2, 2, 1, 2, 1, 2, 1, 2, 1, 2, 1, 2, 1, 1, 2, 2, 1, 2, 1, 2, 1, 2, 1, 2, 2, 2, 1, 2, 1, 1, 1, 1, 1, 2, 1, 2, 1, 2, 1, 2, 1, 1, 1, 2, 1, 1, 2, 1, 2, 1, 2, 1, 2, 1, 2, 1, 2, 2, 1, 1, 2, 1, 2, 1, 2, 1, 2, 2, 2, 1, 2, 1, 2, 1, 1, 2], \"Freq\": [0.862308144569397, 0.6853976249694824, 0.30842894315719604, 0.8833968639373779, 0.1019304096698761, 0.9717731475830078, 0.027764948084950447, 0.9520462155342102, 0.8250067830085754, 0.16500134766101837, 0.9727538824081421, 0.3151528239250183, 0.6933362483978271, 0.9712433218955994, 0.11621665954589844, 0.9297332763671875, 0.9833675026893616, 0.9886718988418579, 0.9360918998718262, 0.08083024621009827, 0.916076123714447, 0.9376828670501709, 0.9677770137786865, 0.9775918126106262, 0.9690196514129639, 0.8560381531715393, 0.8623096942901611, 0.9414576888084412, 0.06276384741067886, 0.8776178359985352, 0.9572264552116394, 0.9476866722106934, 0.3515416383743286, 0.6528630256652832, 0.9254554510116577, 0.9431859254837036, 0.9104471802711487, 0.9483355283737183, 0.04991239681839943, 0.9833756685256958, 0.41954997181892395, 0.5768812298774719, 0.9886481165885925, 0.6099900007247925, 0.38817545771598816, 0.8211140632629395, 0.17710302770137787, 0.9699420928955078, 0.9689819812774658, 0.14170780777931213, 0.8502468466758728, 0.9080300331115723, 0.9431860446929932, 0.8581930994987488, 0.04630925506353378, 0.97249436378479, 0.8828096389770508, 0.08209055662155151, 0.9029961228370667, 0.4049760103225708, 0.5890560150146484, 0.17504706978797913, 0.875235378742218, 0.8697481751441956, 0.12424974143505096, 0.4351581037044525, 0.58021080493927, 1.0001683235168457, 1.0057709217071533, 0.9914658665657043, 0.986751914024353, 0.9446858167648315, 0.8623103499412537, 0.6383354663848877, 0.35005491971969604, 0.37861359119415283, 0.6310226321220398, 0.860359251499176, 0.11471456289291382, 0.9257282614707947, 0.9257348775863647, 0.7237337827682495, 0.27835914492607117, 0.9837486147880554, 0.9780197143554688, 0.9104164242744446, 1.0031453371047974, 0.3362096846103668, 0.6724193692207336, 0.6617286801338196, 0.3308643400669098, 0.7419663071632385, 0.25968819856643677, 0.9686194658279419, 0.8623085021972656, 0.936024010181427, 0.9968811869621277, 0.07523518800735474, 0.9279006719589233, 0.9805688261985779, 0.9916359186172485, 0.9674239158630371, 0.25470608472824097, 0.7641182541847229, 0.8189342021942139, 0.17548590898513794, 0.7731810808181763, 0.2416190803050995, 0.9986406564712524, 0.9855162501335144, 0.956619918346405, 0.9586083889007568, 0.9647295475006104, 0.9968842267990112, 0.8912850618362427, 0.08912850171327591, 0.4169631004333496, 0.5773335099220276, 0.9736618995666504, 0.07489707320928574, 0.7072002291679382, 0.3094000816345215, 0.9634997248649597, 0.8603057265281677, 0.47162970900535583, 0.5271155834197998, 0.07320607453584671, 0.8784729242324829, 0.9815846681594849, 0.3615017831325531, 0.6395800709724426], \"Term\": [\"alive\", \"also\", \"also\", \"amazing\", \"amazing\", \"atmosphere\", \"atmosphere\", \"bar\", \"bit\", \"bit\", \"british\", \"city\", \"city\", \"close\", \"collection\", \"collection\", \"cook\", \"course\", \"cuisine\", \"cypriot\", \"cypriot\", \"delicious\", \"design\", \"dinner\", \"dish\", \"display\", \"eoka\", \"excellent\", \"excellent\", \"exhibit\", \"expensive\", \"fee\", \"find\", \"find\", \"free\", \"freedom\", \"fresh\", \"friend\", \"friend\", \"friendly\", \"give\", \"give\", \"glass\", \"go\", \"go\", \"great\", \"great\", \"greek\", \"history\", \"hour\", \"hour\", \"icon\", \"independence\", \"information\", \"interesting\", \"interesting\", \"liberty\", \"life\", \"life\", \"look\", \"look\", \"lot\", \"lot\", \"love\", \"love\", \"make\", \"make\", \"meal\", \"menu\", \"monument\", \"museum\", \"music\", \"occupation\", \"old\", \"old\", \"people\", \"people\", \"perfect\", \"perfect\", \"photo\", \"picture\", \"place\", \"place\", \"portion\", \"price\", \"pricey\", \"quality\", \"quite\", \"quite\", \"really\", \"really\", \"recommend\", \"recommend\", \"romantic\", \"rule\", \"salmon\", \"sauce\", \"see\", \"see\", \"serve\", \"service\", \"show\", \"small\", \"small\", \"special\", \"special\", \"staff\", \"staff\", \"starter\", \"statue\", \"steak\", \"story\", \"struggle\", \"summer\", \"table\", \"table\", \"take\", \"take\", \"taste\", \"taste\", \"time\", \"time\", \"traditional\", \"turkish\", \"visit\", \"visit\", \"wall\", \"wall\", \"wine\", \"worth\", \"worth\"]}, \"R\": 30, \"lambda.step\": 0.01, \"plot.opts\": {\"xlab\": \"PC1\", \"ylab\": \"PC2\"}, \"topic.order\": [1, 2]};\n",
       "\n",
       "function LDAvis_load_lib(url, callback){\n",
       "  var s = document.createElement('script');\n",
       "  s.src = url;\n",
       "  s.async = true;\n",
       "  s.onreadystatechange = s.onload = callback;\n",
       "  s.onerror = function(){console.warn(\"failed to load library \" + url);};\n",
       "  document.getElementsByTagName(\"head\")[0].appendChild(s);\n",
       "}\n",
       "\n",
       "if(typeof(LDAvis) !== \"undefined\"){\n",
       "   // already loaded: just create the visualization\n",
       "   !function(LDAvis){\n",
       "       new LDAvis(\"#\" + \"ldavis_el1590019468593093841494921978\", ldavis_el1590019468593093841494921978_data);\n",
       "   }(LDAvis);\n",
       "}else if(typeof define === \"function\" && define.amd){\n",
       "   // require.js is available: use it to load d3/LDAvis\n",
       "   require.config({paths: {d3: \"https://cdnjs.cloudflare.com/ajax/libs/d3/3.5.5/d3.min\"}});\n",
       "   require([\"d3\"], function(d3){\n",
       "      window.d3 = d3;\n",
       "      LDAvis_load_lib(\"https://cdn.rawgit.com/bmabey/pyLDAvis/files/ldavis.v1.0.0.js\", function(){\n",
       "        new LDAvis(\"#\" + \"ldavis_el1590019468593093841494921978\", ldavis_el1590019468593093841494921978_data);\n",
       "      });\n",
       "    });\n",
       "}else{\n",
       "    // require.js not available: dynamically load d3 & LDAvis\n",
       "    LDAvis_load_lib(\"https://cdnjs.cloudflare.com/ajax/libs/d3/3.5.5/d3.min.js\", function(){\n",
       "         LDAvis_load_lib(\"https://cdn.rawgit.com/bmabey/pyLDAvis/files/ldavis.v1.0.0.js\", function(){\n",
       "                 new LDAvis(\"#\" + \"ldavis_el1590019468593093841494921978\", ldavis_el1590019468593093841494921978_data);\n",
       "            })\n",
       "         });\n",
       "}\n",
       "</script>"
      ],
      "text/plain": [
       "PreparedData(topic_coordinates=              x         y  topics  cluster       Freq\n",
       "topic                                                \n",
       "0     -0.032161  0.101525       1        1  55.276413\n",
       "1      0.032161 -0.101525       2        1  44.723587, topic_info=          Term       Freq      Total Category  logprob  loglift\n",
       "50      museum  38.000000  38.000000  Default  30.0000  30.0000\n",
       "624    service  49.000000  49.000000  Default  29.0000  29.0000\n",
       "7          see  39.000000  39.000000  Default  28.0000  28.0000\n",
       "536   monument  30.000000  30.000000  Default  27.0000  27.0000\n",
       "1511   british  27.000000  27.000000  Default  26.0000  26.0000\n",
       "...        ...        ...        ...      ...      ...      ...\n",
       "88        city  11.056873  15.865318   Topic2  -5.6153   0.4436\n",
       "65        time  13.553471  45.248856   Topic2  -5.4117  -0.4009\n",
       "62      really  11.902813  36.268642   Topic2  -5.5416  -0.3095\n",
       "285       give  10.919506  19.068050   Topic2  -5.6278   0.2472\n",
       "165      great  11.495587  62.110737   Topic2  -5.5764  -0.8823\n",
       "\n",
       "[130 rows x 6 columns], token_table=      Topic      Freq     Term\n",
       "term                          \n",
       "1605      2  0.862308    alive\n",
       "221       1  0.685398     also\n",
       "221       2  0.308429     also\n",
       "377       1  0.883397  amazing\n",
       "377       2  0.101930  amazing\n",
       "...     ...       ...      ...\n",
       "177       1  0.073206     wall\n",
       "177       2  0.878473     wall\n",
       "658       1  0.981585     wine\n",
       "196       1  0.361502    worth\n",
       "196       2  0.639580    worth\n",
       "\n",
       "[131 rows x 3 columns], R=30, lambda_step=0.01, plot_opts={'xlab': 'PC1', 'ylab': 'PC2'}, topic_order=[1, 2])"
      ]
     },
     "metadata": {},
     "output_type": "display_data"
    }
   ],
   "source": [
    "plot_model(tuned_pos_2, plot ='topic_model')"
   ]
  },
  {
   "cell_type": "markdown",
   "metadata": {},
   "source": [
    "# Negative reviews"
   ]
  },
  {
   "cell_type": "code",
   "execution_count": 36,
   "metadata": {},
   "outputs": [
    {
     "data": {
      "text/html": [
       "<div>\n",
       "<style scoped>\n",
       "    .dataframe tbody tr th:only-of-type {\n",
       "        vertical-align: middle;\n",
       "    }\n",
       "\n",
       "    .dataframe tbody tr th {\n",
       "        vertical-align: top;\n",
       "    }\n",
       "\n",
       "    .dataframe thead th {\n",
       "        text-align: right;\n",
       "    }\n",
       "</style>\n",
       "<table border=\"1\" class=\"dataframe\">\n",
       "  <thead>\n",
       "    <tr style=\"text-align: right;\">\n",
       "      <th></th>\n",
       "      <th>Unnamed: 0</th>\n",
       "      <th>r_points</th>\n",
       "      <th>r_text</th>\n",
       "      <th>place</th>\n",
       "      <th>Unnamed: 3</th>\n",
       "      <th>Unnamed: 4</th>\n",
       "      <th>scores</th>\n",
       "      <th>compound</th>\n",
       "      <th>score</th>\n",
       "    </tr>\n",
       "  </thead>\n",
       "  <tbody>\n",
       "    <tr>\n",
       "      <th>0</th>\n",
       "      <td>2</td>\n",
       "      <td>30</td>\n",
       "      <td>this location is very important for Cypriots a...</td>\n",
       "      <td>Archbishop Makarios III Cultural Foundation</td>\n",
       "      <td>NaN</td>\n",
       "      <td>NaN</td>\n",
       "      <td>{'neg': 0.047, 'neu': 0.913, 'pos': 0.041, 'co...</td>\n",
       "      <td>-0.0806</td>\n",
       "      <td>neg</td>\n",
       "    </tr>\n",
       "    <tr>\n",
       "      <th>1</th>\n",
       "      <td>18</td>\n",
       "      <td>40</td>\n",
       "      <td>If you aren't interested in Byzantine art and ...</td>\n",
       "      <td>Archbishop Makarios III Cultural Foundation</td>\n",
       "      <td>NaN</td>\n",
       "      <td>NaN</td>\n",
       "      <td>{'neg': 0.14, 'neu': 0.747, 'pos': 0.113, 'com...</td>\n",
       "      <td>-0.1139</td>\n",
       "      <td>neg</td>\n",
       "    </tr>\n",
       "    <tr>\n",
       "      <th>2</th>\n",
       "      <td>30</td>\n",
       "      <td>50</td>\n",
       "      <td>We planned to visit this place and everything ...</td>\n",
       "      <td>Cyprus Folk Art Museum</td>\n",
       "      <td>NaN</td>\n",
       "      <td>NaN</td>\n",
       "      <td>{'neg': 0.15, 'neu': 0.85, 'pos': 0.0, 'compou...</td>\n",
       "      <td>-0.8922</td>\n",
       "      <td>neg</td>\n",
       "    </tr>\n",
       "    <tr>\n",
       "      <th>3</th>\n",
       "      <td>81</td>\n",
       "      <td>40</td>\n",
       "      <td>we went a group of 10, the food was very nice ...</td>\n",
       "      <td>Domus Lounge Bar</td>\n",
       "      <td>Review 30 Similarity</td>\n",
       "      <td>0.426401</td>\n",
       "      <td>{'neg': 0.117, 'neu': 0.82, 'pos': 0.063, 'com...</td>\n",
       "      <td>-0.5525</td>\n",
       "      <td>neg</td>\n",
       "    </tr>\n",
       "    <tr>\n",
       "      <th>4</th>\n",
       "      <td>99</td>\n",
       "      <td>50</td>\n",
       "      <td>in love with it!! my first time at domus but d...</td>\n",
       "      <td>Domus Lounge Bar</td>\n",
       "      <td>Review 128 Similarity</td>\n",
       "      <td>0.354787</td>\n",
       "      <td>{'neg': 0.308, 'neu': 0.637, 'pos': 0.055, 'co...</td>\n",
       "      <td>-0.9312</td>\n",
       "      <td>neg</td>\n",
       "    </tr>\n",
       "    <tr>\n",
       "      <th>5</th>\n",
       "      <td>109</td>\n",
       "      <td>30</td>\n",
       "      <td>Limited amount of vegetarian/vegan options. Th...</td>\n",
       "      <td>Domus Lounge Bar</td>\n",
       "      <td>Review 48 Similarity</td>\n",
       "      <td>0.321412</td>\n",
       "      <td>{'neg': 0.097, 'neu': 0.858, 'pos': 0.045, 'co...</td>\n",
       "      <td>-0.7227</td>\n",
       "      <td>neg</td>\n",
       "    </tr>\n",
       "    <tr>\n",
       "      <th>6</th>\n",
       "      <td>117</td>\n",
       "      <td>50</td>\n",
       "      <td>Everything was perfect!we went there for dinne...</td>\n",
       "      <td>Domus Lounge Bar</td>\n",
       "      <td>Review 83 Similarity</td>\n",
       "      <td>0.301511</td>\n",
       "      <td>{'neg': 0.222, 'neu': 0.778, 'pos': 0.0, 'comp...</td>\n",
       "      <td>-0.7825</td>\n",
       "      <td>neg</td>\n",
       "    </tr>\n",
       "    <tr>\n",
       "      <th>7</th>\n",
       "      <td>120</td>\n",
       "      <td>20</td>\n",
       "      <td>The food was extremely late (1 hour and 45 min...</td>\n",
       "      <td>Domus Lounge Bar</td>\n",
       "      <td>Review 166 Similarity</td>\n",
       "      <td>0.301511</td>\n",
       "      <td>{'neg': 0.195, 'neu': 0.805, 'pos': 0.0, 'comp...</td>\n",
       "      <td>-0.6239</td>\n",
       "      <td>neg</td>\n",
       "    </tr>\n",
       "    <tr>\n",
       "      <th>8</th>\n",
       "      <td>141</td>\n",
       "      <td>20</td>\n",
       "      <td>I went there for a romantic dinner. I was disa...</td>\n",
       "      <td>Domus Lounge Bar</td>\n",
       "      <td>Review 47 Similarity</td>\n",
       "      <td>0.227921</td>\n",
       "      <td>{'neg': 0.152, 'neu': 0.823, 'pos': 0.024, 'co...</td>\n",
       "      <td>-0.9235</td>\n",
       "      <td>neg</td>\n",
       "    </tr>\n",
       "    <tr>\n",
       "      <th>9</th>\n",
       "      <td>150</td>\n",
       "      <td>30</td>\n",
       "      <td>My latest visit to this restaurant will be my ...</td>\n",
       "      <td>Domus Lounge Bar</td>\n",
       "      <td>Review 12 Similarity</td>\n",
       "      <td>0.213201</td>\n",
       "      <td>{'neg': 0.1, 'neu': 0.9, 'pos': 0.0, 'compound...</td>\n",
       "      <td>-0.3274</td>\n",
       "      <td>neg</td>\n",
       "    </tr>\n",
       "    <tr>\n",
       "      <th>10</th>\n",
       "      <td>156</td>\n",
       "      <td>30</td>\n",
       "      <td>At EUR110 per couple for a starter, two pasta ...</td>\n",
       "      <td>Domus Lounge Bar</td>\n",
       "      <td>Review 138 Similarity</td>\n",
       "      <td>0.213201</td>\n",
       "      <td>{'neg': 0.086, 'neu': 0.914, 'pos': 0.0, 'comp...</td>\n",
       "      <td>-0.5096</td>\n",
       "      <td>neg</td>\n",
       "    </tr>\n",
       "    <tr>\n",
       "      <th>11</th>\n",
       "      <td>171</td>\n",
       "      <td>10</td>\n",
       "      <td>I went on date there last Saturday. First of a...</td>\n",
       "      <td>Domus Lounge Bar</td>\n",
       "      <td>Review 10 Similarity</td>\n",
       "      <td>0.161165</td>\n",
       "      <td>{'neg': 0.084, 'neu': 0.843, 'pos': 0.073, 'co...</td>\n",
       "      <td>-0.3729</td>\n",
       "      <td>neg</td>\n",
       "    </tr>\n",
       "    <tr>\n",
       "      <th>12</th>\n",
       "      <td>191</td>\n",
       "      <td>10</td>\n",
       "      <td>Our recent experience was a very poor one. The...</td>\n",
       "      <td>Domus Lounge Bar</td>\n",
       "      <td>Review 39 Similarity</td>\n",
       "      <td>0.095346</td>\n",
       "      <td>{'neg': 0.083, 'neu': 0.853, 'pos': 0.064, 'co...</td>\n",
       "      <td>-0.4900</td>\n",
       "      <td>neg</td>\n",
       "    </tr>\n",
       "    <tr>\n",
       "      <th>13</th>\n",
       "      <td>208</td>\n",
       "      <td>30</td>\n",
       "      <td>The food is nice, tasty and a bit expensive. I...</td>\n",
       "      <td>Domus Lounge Bar</td>\n",
       "      <td>Review 92 Similarity</td>\n",
       "      <td>0.000000</td>\n",
       "      <td>{'neg': 0.062, 'neu': 0.901, 'pos': 0.038, 'co...</td>\n",
       "      <td>-0.4160</td>\n",
       "      <td>neg</td>\n",
       "    </tr>\n",
       "    <tr>\n",
       "      <th>14</th>\n",
       "      <td>213</td>\n",
       "      <td>30</td>\n",
       "      <td>food was average compared to prices and it was...</td>\n",
       "      <td>Domus Lounge Bar</td>\n",
       "      <td>Review 142 Similarity</td>\n",
       "      <td>0.000000</td>\n",
       "      <td>{'neg': 0.131, 'neu': 0.795, 'pos': 0.074, 'co...</td>\n",
       "      <td>-0.2648</td>\n",
       "      <td>neg</td>\n",
       "    </tr>\n",
       "    <tr>\n",
       "      <th>15</th>\n",
       "      <td>236</td>\n",
       "      <td>40</td>\n",
       "      <td>No much of an inscription - one has to know ab...</td>\n",
       "      <td>Liberty Monument</td>\n",
       "      <td>NaN</td>\n",
       "      <td>NaN</td>\n",
       "      <td>{'neg': 0.104, 'neu': 0.896, 'pos': 0.0, 'comp...</td>\n",
       "      <td>-0.2960</td>\n",
       "      <td>neg</td>\n",
       "    </tr>\n",
       "    <tr>\n",
       "      <th>16</th>\n",
       "      <td>241</td>\n",
       "      <td>50</td>\n",
       "      <td>The statue symbolism the heroe struggle The fi...</td>\n",
       "      <td>Liberty Monument</td>\n",
       "      <td>NaN</td>\n",
       "      <td>NaN</td>\n",
       "      <td>{'neg': 0.26, 'neu': 0.689, 'pos': 0.051, 'com...</td>\n",
       "      <td>-0.7184</td>\n",
       "      <td>neg</td>\n",
       "    </tr>\n",
       "    <tr>\n",
       "      <th>17</th>\n",
       "      <td>243</td>\n",
       "      <td>50</td>\n",
       "      <td>The monument is of great importance to Cyprus ...</td>\n",
       "      <td>Liberty Monument</td>\n",
       "      <td>NaN</td>\n",
       "      <td>NaN</td>\n",
       "      <td>{'neg': 0.211, 'neu': 0.622, 'pos': 0.167, 'co...</td>\n",
       "      <td>-0.2826</td>\n",
       "      <td>neg</td>\n",
       "    </tr>\n",
       "    <tr>\n",
       "      <th>18</th>\n",
       "      <td>253</td>\n",
       "      <td>50</td>\n",
       "      <td>This statue is above the Venetian Walls of Nic...</td>\n",
       "      <td>Liberty Monument</td>\n",
       "      <td>NaN</td>\n",
       "      <td>NaN</td>\n",
       "      <td>{'neg': 0.146, 'neu': 0.741, 'pos': 0.113, 'co...</td>\n",
       "      <td>-0.5970</td>\n",
       "      <td>neg</td>\n",
       "    </tr>\n",
       "    <tr>\n",
       "      <th>19</th>\n",
       "      <td>256</td>\n",
       "      <td>50</td>\n",
       "      <td>A monument that is rapped up in the Turmoil of...</td>\n",
       "      <td>Liberty Monument</td>\n",
       "      <td>NaN</td>\n",
       "      <td>NaN</td>\n",
       "      <td>{'neg': 0.129, 'neu': 0.772, 'pos': 0.098, 'co...</td>\n",
       "      <td>-0.5594</td>\n",
       "      <td>neg</td>\n",
       "    </tr>\n",
       "    <tr>\n",
       "      <th>20</th>\n",
       "      <td>262</td>\n",
       "      <td>30</td>\n",
       "      <td>A nice monument, but no signs, explanations or...</td>\n",
       "      <td>Liberty Monument</td>\n",
       "      <td>NaN</td>\n",
       "      <td>NaN</td>\n",
       "      <td>{'neg': 0.158, 'neu': 0.734, 'pos': 0.107, 'co...</td>\n",
       "      <td>-0.2263</td>\n",
       "      <td>neg</td>\n",
       "    </tr>\n",
       "    <tr>\n",
       "      <th>21</th>\n",
       "      <td>267</td>\n",
       "      <td>50</td>\n",
       "      <td>Went there with my ex. Got freaky without anyo...</td>\n",
       "      <td>Liberty Monument</td>\n",
       "      <td>NaN</td>\n",
       "      <td>NaN</td>\n",
       "      <td>{'neg': 0.243, 'neu': 0.757, 'pos': 0.0, 'comp...</td>\n",
       "      <td>-0.7484</td>\n",
       "      <td>neg</td>\n",
       "    </tr>\n",
       "    <tr>\n",
       "      <th>22</th>\n",
       "      <td>268</td>\n",
       "      <td>30</td>\n",
       "      <td>It is a pity that they don't have an English s...</td>\n",
       "      <td>Liberty Monument</td>\n",
       "      <td>NaN</td>\n",
       "      <td>NaN</td>\n",
       "      <td>{'neg': 0.058, 'neu': 0.942, 'pos': 0.0, 'comp...</td>\n",
       "      <td>-0.2960</td>\n",
       "      <td>neg</td>\n",
       "    </tr>\n",
       "    <tr>\n",
       "      <th>23</th>\n",
       "      <td>269</td>\n",
       "      <td>40</td>\n",
       "      <td>It is a monument which shows how people were e...</td>\n",
       "      <td>Liberty Monument</td>\n",
       "      <td>NaN</td>\n",
       "      <td>NaN</td>\n",
       "      <td>{'neg': 0.156, 'neu': 0.755, 'pos': 0.09, 'com...</td>\n",
       "      <td>-0.3400</td>\n",
       "      <td>neg</td>\n",
       "    </tr>\n",
       "    <tr>\n",
       "      <th>24</th>\n",
       "      <td>270</td>\n",
       "      <td>50</td>\n",
       "      <td>On the way to Famagusta gate, if you walk alon...</td>\n",
       "      <td>Liberty Monument</td>\n",
       "      <td>NaN</td>\n",
       "      <td>NaN</td>\n",
       "      <td>{'neg': 0.1, 'neu': 0.873, 'pos': 0.027, 'comp...</td>\n",
       "      <td>-0.5594</td>\n",
       "      <td>neg</td>\n",
       "    </tr>\n",
       "    <tr>\n",
       "      <th>25</th>\n",
       "      <td>280</td>\n",
       "      <td>50</td>\n",
       "      <td>We came across this by accident and spent 15 m...</td>\n",
       "      <td>Liberty Monument</td>\n",
       "      <td>NaN</td>\n",
       "      <td>NaN</td>\n",
       "      <td>{'neg': 0.216, 'neu': 0.69, 'pos': 0.094, 'com...</td>\n",
       "      <td>-0.4404</td>\n",
       "      <td>neg</td>\n",
       "    </tr>\n",
       "    <tr>\n",
       "      <th>26</th>\n",
       "      <td>287</td>\n",
       "      <td>40</td>\n",
       "      <td>It's a striking monument, with a group of stat...</td>\n",
       "      <td>Liberty Monument</td>\n",
       "      <td>NaN</td>\n",
       "      <td>NaN</td>\n",
       "      <td>{'neg': 0.223, 'neu': 0.623, 'pos': 0.154, 'co...</td>\n",
       "      <td>-0.2263</td>\n",
       "      <td>neg</td>\n",
       "    </tr>\n",
       "    <tr>\n",
       "      <th>27</th>\n",
       "      <td>288</td>\n",
       "      <td>30</td>\n",
       "      <td>Not a lot to see - detour if you are walking b...</td>\n",
       "      <td>Liberty Monument</td>\n",
       "      <td>NaN</td>\n",
       "      <td>NaN</td>\n",
       "      <td>{'neg': 0.118, 'neu': 0.882, 'pos': 0.0, 'comp...</td>\n",
       "      <td>-0.4215</td>\n",
       "      <td>neg</td>\n",
       "    </tr>\n",
       "    <tr>\n",
       "      <th>28</th>\n",
       "      <td>298</td>\n",
       "      <td>30</td>\n",
       "      <td>We just passed it with out car. It is located ...</td>\n",
       "      <td>Liberty Monument</td>\n",
       "      <td>NaN</td>\n",
       "      <td>NaN</td>\n",
       "      <td>{'neg': 0.086, 'neu': 0.914, 'pos': 0.0, 'comp...</td>\n",
       "      <td>-0.5423</td>\n",
       "      <td>neg</td>\n",
       "    </tr>\n",
       "    <tr>\n",
       "      <th>29</th>\n",
       "      <td>301</td>\n",
       "      <td>20</td>\n",
       "      <td>The inscription to explain the monument is on ...</td>\n",
       "      <td>Liberty Monument</td>\n",
       "      <td>NaN</td>\n",
       "      <td>NaN</td>\n",
       "      <td>{'neg': 0.04, 'neu': 0.927, 'pos': 0.032, 'com...</td>\n",
       "      <td>-0.1025</td>\n",
       "      <td>neg</td>\n",
       "    </tr>\n",
       "    <tr>\n",
       "      <th>30</th>\n",
       "      <td>303</td>\n",
       "      <td>40</td>\n",
       "      <td>This is a well presented and highly interestin...</td>\n",
       "      <td>The National Struggle Museum</td>\n",
       "      <td>NaN</td>\n",
       "      <td>NaN</td>\n",
       "      <td>{'neg': 0.173, 'neu': 0.787, 'pos': 0.039, 'co...</td>\n",
       "      <td>-0.9874</td>\n",
       "      <td>neg</td>\n",
       "    </tr>\n",
       "    <tr>\n",
       "      <th>31</th>\n",
       "      <td>306</td>\n",
       "      <td>40</td>\n",
       "      <td>Tells the graphic story of EOKA and the Cyprio...</td>\n",
       "      <td>The National Struggle Museum</td>\n",
       "      <td>NaN</td>\n",
       "      <td>NaN</td>\n",
       "      <td>{'neg': 0.14, 'neu': 0.79, 'pos': 0.07, 'compo...</td>\n",
       "      <td>-0.4767</td>\n",
       "      <td>neg</td>\n",
       "    </tr>\n",
       "    <tr>\n",
       "      <th>32</th>\n",
       "      <td>309</td>\n",
       "      <td>40</td>\n",
       "      <td>After eventually finding the museum which is n...</td>\n",
       "      <td>The National Struggle Museum</td>\n",
       "      <td>NaN</td>\n",
       "      <td>NaN</td>\n",
       "      <td>{'neg': 0.099, 'neu': 0.882, 'pos': 0.019, 'co...</td>\n",
       "      <td>-0.6761</td>\n",
       "      <td>neg</td>\n",
       "    </tr>\n",
       "    <tr>\n",
       "      <th>33</th>\n",
       "      <td>310</td>\n",
       "      <td>10</td>\n",
       "      <td>Simply a propaganda experience aimed at the 'e...</td>\n",
       "      <td>The National Struggle Museum</td>\n",
       "      <td>NaN</td>\n",
       "      <td>NaN</td>\n",
       "      <td>{'neg': 0.19, 'neu': 0.687, 'pos': 0.123, 'com...</td>\n",
       "      <td>-0.6908</td>\n",
       "      <td>neg</td>\n",
       "    </tr>\n",
       "    <tr>\n",
       "      <th>34</th>\n",
       "      <td>319</td>\n",
       "      <td>50</td>\n",
       "      <td>A museum detailing the struggle of Cypriots ag...</td>\n",
       "      <td>The National Struggle Museum</td>\n",
       "      <td>NaN</td>\n",
       "      <td>NaN</td>\n",
       "      <td>{'neg': 0.233, 'neu': 0.692, 'pos': 0.075, 'co...</td>\n",
       "      <td>-0.5423</td>\n",
       "      <td>neg</td>\n",
       "    </tr>\n",
       "    <tr>\n",
       "      <th>35</th>\n",
       "      <td>320</td>\n",
       "      <td>40</td>\n",
       "      <td>The museum is interesting for its perspective ...</td>\n",
       "      <td>The National Struggle Museum</td>\n",
       "      <td>NaN</td>\n",
       "      <td>NaN</td>\n",
       "      <td>{'neg': 0.218, 'neu': 0.745, 'pos': 0.037, 'co...</td>\n",
       "      <td>-0.9022</td>\n",
       "      <td>neg</td>\n",
       "    </tr>\n",
       "    <tr>\n",
       "      <th>36</th>\n",
       "      <td>322</td>\n",
       "      <td>40</td>\n",
       "      <td>Well kept, but the real concentration camp in ...</td>\n",
       "      <td>The National Struggle Museum</td>\n",
       "      <td>NaN</td>\n",
       "      <td>NaN</td>\n",
       "      <td>{'neg': 0.169, 'neu': 0.708, 'pos': 0.123, 'co...</td>\n",
       "      <td>-0.4588</td>\n",
       "      <td>neg</td>\n",
       "    </tr>\n",
       "    <tr>\n",
       "      <th>37</th>\n",
       "      <td>323</td>\n",
       "      <td>30</td>\n",
       "      <td>Firstly can I endorse a point made by another ...</td>\n",
       "      <td>The National Struggle Museum</td>\n",
       "      <td>NaN</td>\n",
       "      <td>NaN</td>\n",
       "      <td>{'neg': 0.115, 'neu': 0.805, 'pos': 0.08, 'com...</td>\n",
       "      <td>-0.7841</td>\n",
       "      <td>neg</td>\n",
       "    </tr>\n",
       "    <tr>\n",
       "      <th>38</th>\n",
       "      <td>324</td>\n",
       "      <td>50</td>\n",
       "      <td>It is very difficult for every visitor of the ...</td>\n",
       "      <td>The National Struggle Museum</td>\n",
       "      <td>NaN</td>\n",
       "      <td>NaN</td>\n",
       "      <td>{'neg': 0.109, 'neu': 0.807, 'pos': 0.084, 'co...</td>\n",
       "      <td>-0.1742</td>\n",
       "      <td>neg</td>\n",
       "    </tr>\n",
       "    <tr>\n",
       "      <th>39</th>\n",
       "      <td>330</td>\n",
       "      <td>50</td>\n",
       "      <td>Superbly curated and presented exhibits that s...</td>\n",
       "      <td>The National Struggle Museum</td>\n",
       "      <td>NaN</td>\n",
       "      <td>NaN</td>\n",
       "      <td>{'neg': 0.252, 'neu': 0.748, 'pos': 0.0, 'comp...</td>\n",
       "      <td>-0.8957</td>\n",
       "      <td>neg</td>\n",
       "    </tr>\n",
       "    <tr>\n",
       "      <th>40</th>\n",
       "      <td>331</td>\n",
       "      <td>10</td>\n",
       "      <td>Wanted to get a feel for the history of the pl...</td>\n",
       "      <td>The National Struggle Museum</td>\n",
       "      <td>NaN</td>\n",
       "      <td>NaN</td>\n",
       "      <td>{'neg': 0.146, 'neu': 0.854, 'pos': 0.0, 'comp...</td>\n",
       "      <td>-0.7721</td>\n",
       "      <td>neg</td>\n",
       "    </tr>\n",
       "    <tr>\n",
       "      <th>41</th>\n",
       "      <td>333</td>\n",
       "      <td>10</td>\n",
       "      <td>Wanted to visit today but museum closed.After ...</td>\n",
       "      <td>The National Struggle Museum</td>\n",
       "      <td>NaN</td>\n",
       "      <td>NaN</td>\n",
       "      <td>{'neg': 0.134, 'neu': 0.866, 'pos': 0.0, 'comp...</td>\n",
       "      <td>-0.4767</td>\n",
       "      <td>neg</td>\n",
       "    </tr>\n",
       "    <tr>\n",
       "      <th>42</th>\n",
       "      <td>337</td>\n",
       "      <td>40</td>\n",
       "      <td>Free museum (near the Byzantine Museum and Art...</td>\n",
       "      <td>The National Struggle Museum</td>\n",
       "      <td>NaN</td>\n",
       "      <td>NaN</td>\n",
       "      <td>{'neg': 0.114, 'neu': 0.731, 'pos': 0.155, 'co...</td>\n",
       "      <td>-0.0129</td>\n",
       "      <td>neg</td>\n",
       "    </tr>\n",
       "    <tr>\n",
       "      <th>43</th>\n",
       "      <td>342</td>\n",
       "      <td>40</td>\n",
       "      <td>I believe every cypriot should visit this muse...</td>\n",
       "      <td>The National Struggle Museum</td>\n",
       "      <td>NaN</td>\n",
       "      <td>NaN</td>\n",
       "      <td>{'neg': 0.15, 'neu': 0.773, 'pos': 0.077, 'com...</td>\n",
       "      <td>-0.2732</td>\n",
       "      <td>neg</td>\n",
       "    </tr>\n",
       "    <tr>\n",
       "      <th>44</th>\n",
       "      <td>343</td>\n",
       "      <td>40</td>\n",
       "      <td>The National Struggle Museum was built on the ...</td>\n",
       "      <td>The National Struggle Museum</td>\n",
       "      <td>NaN</td>\n",
       "      <td>NaN</td>\n",
       "      <td>{'neg': 0.095, 'neu': 0.905, 'pos': 0.0, 'comp...</td>\n",
       "      <td>-0.8020</td>\n",
       "      <td>neg</td>\n",
       "    </tr>\n",
       "  </tbody>\n",
       "</table>\n",
       "</div>"
      ],
      "text/plain": [
       "    Unnamed: 0  r_points                                             r_text  \\\n",
       "0            2        30  this location is very important for Cypriots a...   \n",
       "1           18        40  If you aren't interested in Byzantine art and ...   \n",
       "2           30        50  We planned to visit this place and everything ...   \n",
       "3           81        40  we went a group of 10, the food was very nice ...   \n",
       "4           99        50  in love with it!! my first time at domus but d...   \n",
       "5          109        30  Limited amount of vegetarian/vegan options. Th...   \n",
       "6          117        50  Everything was perfect!we went there for dinne...   \n",
       "7          120        20  The food was extremely late (1 hour and 45 min...   \n",
       "8          141        20  I went there for a romantic dinner. I was disa...   \n",
       "9          150        30  My latest visit to this restaurant will be my ...   \n",
       "10         156        30  At EUR110 per couple for a starter, two pasta ...   \n",
       "11         171        10  I went on date there last Saturday. First of a...   \n",
       "12         191        10  Our recent experience was a very poor one. The...   \n",
       "13         208        30  The food is nice, tasty and a bit expensive. I...   \n",
       "14         213        30  food was average compared to prices and it was...   \n",
       "15         236        40  No much of an inscription - one has to know ab...   \n",
       "16         241        50  The statue symbolism the heroe struggle The fi...   \n",
       "17         243        50  The monument is of great importance to Cyprus ...   \n",
       "18         253        50  This statue is above the Venetian Walls of Nic...   \n",
       "19         256        50  A monument that is rapped up in the Turmoil of...   \n",
       "20         262        30  A nice monument, but no signs, explanations or...   \n",
       "21         267        50  Went there with my ex. Got freaky without anyo...   \n",
       "22         268        30  It is a pity that they don't have an English s...   \n",
       "23         269        40  It is a monument which shows how people were e...   \n",
       "24         270        50  On the way to Famagusta gate, if you walk alon...   \n",
       "25         280        50  We came across this by accident and spent 15 m...   \n",
       "26         287        40  It's a striking monument, with a group of stat...   \n",
       "27         288        30  Not a lot to see - detour if you are walking b...   \n",
       "28         298        30  We just passed it with out car. It is located ...   \n",
       "29         301        20  The inscription to explain the monument is on ...   \n",
       "30         303        40  This is a well presented and highly interestin...   \n",
       "31         306        40  Tells the graphic story of EOKA and the Cyprio...   \n",
       "32         309        40  After eventually finding the museum which is n...   \n",
       "33         310        10  Simply a propaganda experience aimed at the 'e...   \n",
       "34         319        50  A museum detailing the struggle of Cypriots ag...   \n",
       "35         320        40  The museum is interesting for its perspective ...   \n",
       "36         322        40  Well kept, but the real concentration camp in ...   \n",
       "37         323        30  Firstly can I endorse a point made by another ...   \n",
       "38         324        50  It is very difficult for every visitor of the ...   \n",
       "39         330        50  Superbly curated and presented exhibits that s...   \n",
       "40         331        10  Wanted to get a feel for the history of the pl...   \n",
       "41         333        10  Wanted to visit today but museum closed.After ...   \n",
       "42         337        40  Free museum (near the Byzantine Museum and Art...   \n",
       "43         342        40  I believe every cypriot should visit this muse...   \n",
       "44         343        40  The National Struggle Museum was built on the ...   \n",
       "\n",
       "                                          place             Unnamed: 3  \\\n",
       "0   Archbishop Makarios III Cultural Foundation                    NaN   \n",
       "1   Archbishop Makarios III Cultural Foundation                    NaN   \n",
       "2                        Cyprus Folk Art Museum                    NaN   \n",
       "3                              Domus Lounge Bar   Review 30 Similarity   \n",
       "4                              Domus Lounge Bar  Review 128 Similarity   \n",
       "5                              Domus Lounge Bar   Review 48 Similarity   \n",
       "6                              Domus Lounge Bar   Review 83 Similarity   \n",
       "7                              Domus Lounge Bar  Review 166 Similarity   \n",
       "8                              Domus Lounge Bar   Review 47 Similarity   \n",
       "9                              Domus Lounge Bar   Review 12 Similarity   \n",
       "10                             Domus Lounge Bar  Review 138 Similarity   \n",
       "11                             Domus Lounge Bar   Review 10 Similarity   \n",
       "12                             Domus Lounge Bar   Review 39 Similarity   \n",
       "13                             Domus Lounge Bar   Review 92 Similarity   \n",
       "14                             Domus Lounge Bar  Review 142 Similarity   \n",
       "15                             Liberty Monument                    NaN   \n",
       "16                             Liberty Monument                    NaN   \n",
       "17                             Liberty Monument                    NaN   \n",
       "18                             Liberty Monument                    NaN   \n",
       "19                             Liberty Monument                    NaN   \n",
       "20                             Liberty Monument                    NaN   \n",
       "21                             Liberty Monument                    NaN   \n",
       "22                             Liberty Monument                    NaN   \n",
       "23                             Liberty Monument                    NaN   \n",
       "24                             Liberty Monument                    NaN   \n",
       "25                             Liberty Monument                    NaN   \n",
       "26                             Liberty Monument                    NaN   \n",
       "27                             Liberty Monument                    NaN   \n",
       "28                             Liberty Monument                    NaN   \n",
       "29                             Liberty Monument                    NaN   \n",
       "30                 The National Struggle Museum                    NaN   \n",
       "31                 The National Struggle Museum                    NaN   \n",
       "32                 The National Struggle Museum                    NaN   \n",
       "33                 The National Struggle Museum                    NaN   \n",
       "34                 The National Struggle Museum                    NaN   \n",
       "35                 The National Struggle Museum                    NaN   \n",
       "36                 The National Struggle Museum                    NaN   \n",
       "37                 The National Struggle Museum                    NaN   \n",
       "38                 The National Struggle Museum                    NaN   \n",
       "39                 The National Struggle Museum                    NaN   \n",
       "40                 The National Struggle Museum                    NaN   \n",
       "41                 The National Struggle Museum                    NaN   \n",
       "42                 The National Struggle Museum                    NaN   \n",
       "43                 The National Struggle Museum                    NaN   \n",
       "44                 The National Struggle Museum                    NaN   \n",
       "\n",
       "    Unnamed: 4                                             scores  compound  \\\n",
       "0          NaN  {'neg': 0.047, 'neu': 0.913, 'pos': 0.041, 'co...   -0.0806   \n",
       "1          NaN  {'neg': 0.14, 'neu': 0.747, 'pos': 0.113, 'com...   -0.1139   \n",
       "2          NaN  {'neg': 0.15, 'neu': 0.85, 'pos': 0.0, 'compou...   -0.8922   \n",
       "3     0.426401  {'neg': 0.117, 'neu': 0.82, 'pos': 0.063, 'com...   -0.5525   \n",
       "4     0.354787  {'neg': 0.308, 'neu': 0.637, 'pos': 0.055, 'co...   -0.9312   \n",
       "5     0.321412  {'neg': 0.097, 'neu': 0.858, 'pos': 0.045, 'co...   -0.7227   \n",
       "6     0.301511  {'neg': 0.222, 'neu': 0.778, 'pos': 0.0, 'comp...   -0.7825   \n",
       "7     0.301511  {'neg': 0.195, 'neu': 0.805, 'pos': 0.0, 'comp...   -0.6239   \n",
       "8     0.227921  {'neg': 0.152, 'neu': 0.823, 'pos': 0.024, 'co...   -0.9235   \n",
       "9     0.213201  {'neg': 0.1, 'neu': 0.9, 'pos': 0.0, 'compound...   -0.3274   \n",
       "10    0.213201  {'neg': 0.086, 'neu': 0.914, 'pos': 0.0, 'comp...   -0.5096   \n",
       "11    0.161165  {'neg': 0.084, 'neu': 0.843, 'pos': 0.073, 'co...   -0.3729   \n",
       "12    0.095346  {'neg': 0.083, 'neu': 0.853, 'pos': 0.064, 'co...   -0.4900   \n",
       "13    0.000000  {'neg': 0.062, 'neu': 0.901, 'pos': 0.038, 'co...   -0.4160   \n",
       "14    0.000000  {'neg': 0.131, 'neu': 0.795, 'pos': 0.074, 'co...   -0.2648   \n",
       "15         NaN  {'neg': 0.104, 'neu': 0.896, 'pos': 0.0, 'comp...   -0.2960   \n",
       "16         NaN  {'neg': 0.26, 'neu': 0.689, 'pos': 0.051, 'com...   -0.7184   \n",
       "17         NaN  {'neg': 0.211, 'neu': 0.622, 'pos': 0.167, 'co...   -0.2826   \n",
       "18         NaN  {'neg': 0.146, 'neu': 0.741, 'pos': 0.113, 'co...   -0.5970   \n",
       "19         NaN  {'neg': 0.129, 'neu': 0.772, 'pos': 0.098, 'co...   -0.5594   \n",
       "20         NaN  {'neg': 0.158, 'neu': 0.734, 'pos': 0.107, 'co...   -0.2263   \n",
       "21         NaN  {'neg': 0.243, 'neu': 0.757, 'pos': 0.0, 'comp...   -0.7484   \n",
       "22         NaN  {'neg': 0.058, 'neu': 0.942, 'pos': 0.0, 'comp...   -0.2960   \n",
       "23         NaN  {'neg': 0.156, 'neu': 0.755, 'pos': 0.09, 'com...   -0.3400   \n",
       "24         NaN  {'neg': 0.1, 'neu': 0.873, 'pos': 0.027, 'comp...   -0.5594   \n",
       "25         NaN  {'neg': 0.216, 'neu': 0.69, 'pos': 0.094, 'com...   -0.4404   \n",
       "26         NaN  {'neg': 0.223, 'neu': 0.623, 'pos': 0.154, 'co...   -0.2263   \n",
       "27         NaN  {'neg': 0.118, 'neu': 0.882, 'pos': 0.0, 'comp...   -0.4215   \n",
       "28         NaN  {'neg': 0.086, 'neu': 0.914, 'pos': 0.0, 'comp...   -0.5423   \n",
       "29         NaN  {'neg': 0.04, 'neu': 0.927, 'pos': 0.032, 'com...   -0.1025   \n",
       "30         NaN  {'neg': 0.173, 'neu': 0.787, 'pos': 0.039, 'co...   -0.9874   \n",
       "31         NaN  {'neg': 0.14, 'neu': 0.79, 'pos': 0.07, 'compo...   -0.4767   \n",
       "32         NaN  {'neg': 0.099, 'neu': 0.882, 'pos': 0.019, 'co...   -0.6761   \n",
       "33         NaN  {'neg': 0.19, 'neu': 0.687, 'pos': 0.123, 'com...   -0.6908   \n",
       "34         NaN  {'neg': 0.233, 'neu': 0.692, 'pos': 0.075, 'co...   -0.5423   \n",
       "35         NaN  {'neg': 0.218, 'neu': 0.745, 'pos': 0.037, 'co...   -0.9022   \n",
       "36         NaN  {'neg': 0.169, 'neu': 0.708, 'pos': 0.123, 'co...   -0.4588   \n",
       "37         NaN  {'neg': 0.115, 'neu': 0.805, 'pos': 0.08, 'com...   -0.7841   \n",
       "38         NaN  {'neg': 0.109, 'neu': 0.807, 'pos': 0.084, 'co...   -0.1742   \n",
       "39         NaN  {'neg': 0.252, 'neu': 0.748, 'pos': 0.0, 'comp...   -0.8957   \n",
       "40         NaN  {'neg': 0.146, 'neu': 0.854, 'pos': 0.0, 'comp...   -0.7721   \n",
       "41         NaN  {'neg': 0.134, 'neu': 0.866, 'pos': 0.0, 'comp...   -0.4767   \n",
       "42         NaN  {'neg': 0.114, 'neu': 0.731, 'pos': 0.155, 'co...   -0.0129   \n",
       "43         NaN  {'neg': 0.15, 'neu': 0.773, 'pos': 0.077, 'com...   -0.2732   \n",
       "44         NaN  {'neg': 0.095, 'neu': 0.905, 'pos': 0.0, 'comp...   -0.8020   \n",
       "\n",
       "   score  \n",
       "0    neg  \n",
       "1    neg  \n",
       "2    neg  \n",
       "3    neg  \n",
       "4    neg  \n",
       "5    neg  \n",
       "6    neg  \n",
       "7    neg  \n",
       "8    neg  \n",
       "9    neg  \n",
       "10   neg  \n",
       "11   neg  \n",
       "12   neg  \n",
       "13   neg  \n",
       "14   neg  \n",
       "15   neg  \n",
       "16   neg  \n",
       "17   neg  \n",
       "18   neg  \n",
       "19   neg  \n",
       "20   neg  \n",
       "21   neg  \n",
       "22   neg  \n",
       "23   neg  \n",
       "24   neg  \n",
       "25   neg  \n",
       "26   neg  \n",
       "27   neg  \n",
       "28   neg  \n",
       "29   neg  \n",
       "30   neg  \n",
       "31   neg  \n",
       "32   neg  \n",
       "33   neg  \n",
       "34   neg  \n",
       "35   neg  \n",
       "36   neg  \n",
       "37   neg  \n",
       "38   neg  \n",
       "39   neg  \n",
       "40   neg  \n",
       "41   neg  \n",
       "42   neg  \n",
       "43   neg  \n",
       "44   neg  "
      ]
     },
     "execution_count": 36,
     "metadata": {},
     "output_type": "execute_result"
    }
   ],
   "source": [
    "neg_review = pd.read_csv(r'C:\\Users\\Dell\\Desktop\\sentiment_cluster9_neg.csv')\n",
    "neg_review"
   ]
  },
  {
   "cell_type": "code",
   "execution_count": 37,
   "metadata": {},
   "outputs": [
    {
     "data": {
      "text/html": [
       "<style  type=\"text/css\" >\n",
       "</style><table id=\"T_a3c475b0_31ad_11eb_b3b4_c48e8ff9d2e0\" ><thead>    <tr>        <th class=\"col_heading level0 col0\" >Description</th>        <th class=\"col_heading level0 col1\" >Value</th>    </tr></thead><tbody>\n",
       "                <tr>\n",
       "                                <td id=\"T_a3c475b0_31ad_11eb_b3b4_c48e8ff9d2e0row0_col0\" class=\"data row0 col0\" >session_id</td>\n",
       "                        <td id=\"T_a3c475b0_31ad_11eb_b3b4_c48e8ff9d2e0row0_col1\" class=\"data row0 col1\" >4987</td>\n",
       "            </tr>\n",
       "            <tr>\n",
       "                                <td id=\"T_a3c475b0_31ad_11eb_b3b4_c48e8ff9d2e0row1_col0\" class=\"data row1 col0\" >Documents</td>\n",
       "                        <td id=\"T_a3c475b0_31ad_11eb_b3b4_c48e8ff9d2e0row1_col1\" class=\"data row1 col1\" >45</td>\n",
       "            </tr>\n",
       "            <tr>\n",
       "                                <td id=\"T_a3c475b0_31ad_11eb_b3b4_c48e8ff9d2e0row2_col0\" class=\"data row2 col0\" >Vocab Size</td>\n",
       "                        <td id=\"T_a3c475b0_31ad_11eb_b3b4_c48e8ff9d2e0row2_col1\" class=\"data row2 col1\" >555</td>\n",
       "            </tr>\n",
       "            <tr>\n",
       "                                <td id=\"T_a3c475b0_31ad_11eb_b3b4_c48e8ff9d2e0row3_col0\" class=\"data row3 col0\" >Custom Stopwords</td>\n",
       "                        <td id=\"T_a3c475b0_31ad_11eb_b3b4_c48e8ff9d2e0row3_col1\" class=\"data row3 col1\" >True</td>\n",
       "            </tr>\n",
       "    </tbody></table>"
      ],
      "text/plain": [
       "<pandas.io.formats.style.Styler at 0x1c54b8a2b08>"
      ]
     },
     "metadata": {},
     "output_type": "display_data"
    }
   ],
   "source": [
    "exp_nlp_neg = setup(data = neg_review, target = 'r_text',\n",
    "                custom_stopwords = ['well','room', 'nice', 'good', 'restaurant', 'food','museum'])"
   ]
  },
  {
   "cell_type": "code",
   "execution_count": 38,
   "metadata": {},
   "outputs": [
    {
     "name": "stdout",
     "output_type": "stream",
     "text": [
      "LdaModel(num_terms=555, num_topics=4, decay=0.5, chunksize=100)\n"
     ]
    }
   ],
   "source": [
    "#create an LDA model\n",
    "lda_neg_custom = create_model('lda')\n",
    "print(lda_neg_custom)"
   ]
  },
  {
   "cell_type": "code",
   "execution_count": 39,
   "metadata": {},
   "outputs": [],
   "source": [
    "apply_lda_neg = assign_model(lda_neg_custom)"
   ]
  },
  {
   "cell_type": "code",
   "execution_count": 40,
   "metadata": {},
   "outputs": [
    {
     "data": {
      "application/vnd.jupyter.widget-view+json": {
       "model_id": "216c311bf21a40819c4cc2ffb2694f5c",
       "version_major": 2,
       "version_minor": 0
      },
      "text/plain": [
       "interactive(children=(ToggleButtons(description='Plot Type:', icons=('',), options=(('Frequency Plot', 'freque…"
      ]
     },
     "metadata": {},
     "output_type": "display_data"
    }
   ],
   "source": [
    "evaluate_model(lda_neg_custom)"
   ]
  },
  {
   "cell_type": "code",
   "execution_count": 41,
   "metadata": {},
   "outputs": [
    {
     "data": {
      "application/vnd.jupyter.widget-view+json": {
       "model_id": "",
       "version_major": 2,
       "version_minor": 0
      },
      "text/plain": [
       "IntProgress(value=0, description='Processing: ', max=25)"
      ]
     },
     "metadata": {},
     "output_type": "display_data"
    },
    {
     "data": {
      "application/vnd.jupyter.widget-view+json": {
       "model_id": "59b41e391a844ce8a56d9039e0a6789c",
       "version_major": 2,
       "version_minor": 0
      },
      "text/plain": [
       "Output()"
      ]
     },
     "metadata": {},
     "output_type": "display_data"
    },
    {
     "data": {
      "text/html": [
       "        <script type=\"text/javascript\">\n",
       "        window.PlotlyConfig = {MathJaxConfig: 'local'};\n",
       "        if (window.MathJax) {MathJax.Hub.Config({SVG: {font: \"STIX-Web\"}});}\n",
       "        if (typeof require !== 'undefined') {\n",
       "        require.undef(\"plotly\");\n",
       "        requirejs.config({\n",
       "            paths: {\n",
       "                'plotly': ['https://cdn.plot.ly/plotly-latest.min']\n",
       "            }\n",
       "        });\n",
       "        require(['plotly'], function(Plotly) {\n",
       "            window._Plotly = Plotly;\n",
       "        });\n",
       "        }\n",
       "        </script>\n",
       "        "
      ]
     },
     "metadata": {},
     "output_type": "display_data"
    },
    {
     "data": {
      "application/vnd.plotly.v1+json": {
       "config": {
        "plotlyServerURL": "https://plot.ly"
       },
       "data": [
        {
         "hovertemplate": "Metric=Coherence<br># Topics=%{x}<br>Score=%{y}<extra></extra>",
         "legendgroup": "Coherence",
         "line": {
          "color": "#636efa",
          "dash": "solid",
          "shape": "linear"
         },
         "mode": "lines",
         "name": "Coherence",
         "orientation": "v",
         "showlegend": true,
         "type": "scatter",
         "x": [
          2,
          4,
          8,
          16,
          32,
          64,
          100,
          200,
          300,
          400
         ],
         "xaxis": "x",
         "y": [
          0.38012125127156643,
          0.33277022416390567,
          0.37376868065264207,
          0.3518862555412343,
          0.5454838626443683,
          0.652240689117074,
          0.6763877389029024,
          0.7226204282016389,
          0.7295471765477928,
          0.7217086598452448
         ],
         "yaxis": "y"
        }
       ],
       "layout": {
        "legend": {
         "title": {
          "text": "Metric"
         },
         "tracegroupgap": 0
        },
        "plot_bgcolor": "rgb(245,245,245)",
        "template": {
         "data": {
          "bar": [
           {
            "error_x": {
             "color": "#2a3f5f"
            },
            "error_y": {
             "color": "#2a3f5f"
            },
            "marker": {
             "line": {
              "color": "#E5ECF6",
              "width": 0.5
             }
            },
            "type": "bar"
           }
          ],
          "barpolar": [
           {
            "marker": {
             "line": {
              "color": "#E5ECF6",
              "width": 0.5
             }
            },
            "type": "barpolar"
           }
          ],
          "carpet": [
           {
            "aaxis": {
             "endlinecolor": "#2a3f5f",
             "gridcolor": "white",
             "linecolor": "white",
             "minorgridcolor": "white",
             "startlinecolor": "#2a3f5f"
            },
            "baxis": {
             "endlinecolor": "#2a3f5f",
             "gridcolor": "white",
             "linecolor": "white",
             "minorgridcolor": "white",
             "startlinecolor": "#2a3f5f"
            },
            "type": "carpet"
           }
          ],
          "choropleth": [
           {
            "colorbar": {
             "outlinewidth": 0,
             "ticks": ""
            },
            "type": "choropleth"
           }
          ],
          "contour": [
           {
            "colorbar": {
             "outlinewidth": 0,
             "ticks": ""
            },
            "colorscale": [
             [
              0,
              "#0d0887"
             ],
             [
              0.1111111111111111,
              "#46039f"
             ],
             [
              0.2222222222222222,
              "#7201a8"
             ],
             [
              0.3333333333333333,
              "#9c179e"
             ],
             [
              0.4444444444444444,
              "#bd3786"
             ],
             [
              0.5555555555555556,
              "#d8576b"
             ],
             [
              0.6666666666666666,
              "#ed7953"
             ],
             [
              0.7777777777777778,
              "#fb9f3a"
             ],
             [
              0.8888888888888888,
              "#fdca26"
             ],
             [
              1,
              "#f0f921"
             ]
            ],
            "type": "contour"
           }
          ],
          "contourcarpet": [
           {
            "colorbar": {
             "outlinewidth": 0,
             "ticks": ""
            },
            "type": "contourcarpet"
           }
          ],
          "heatmap": [
           {
            "colorbar": {
             "outlinewidth": 0,
             "ticks": ""
            },
            "colorscale": [
             [
              0,
              "#0d0887"
             ],
             [
              0.1111111111111111,
              "#46039f"
             ],
             [
              0.2222222222222222,
              "#7201a8"
             ],
             [
              0.3333333333333333,
              "#9c179e"
             ],
             [
              0.4444444444444444,
              "#bd3786"
             ],
             [
              0.5555555555555556,
              "#d8576b"
             ],
             [
              0.6666666666666666,
              "#ed7953"
             ],
             [
              0.7777777777777778,
              "#fb9f3a"
             ],
             [
              0.8888888888888888,
              "#fdca26"
             ],
             [
              1,
              "#f0f921"
             ]
            ],
            "type": "heatmap"
           }
          ],
          "heatmapgl": [
           {
            "colorbar": {
             "outlinewidth": 0,
             "ticks": ""
            },
            "colorscale": [
             [
              0,
              "#0d0887"
             ],
             [
              0.1111111111111111,
              "#46039f"
             ],
             [
              0.2222222222222222,
              "#7201a8"
             ],
             [
              0.3333333333333333,
              "#9c179e"
             ],
             [
              0.4444444444444444,
              "#bd3786"
             ],
             [
              0.5555555555555556,
              "#d8576b"
             ],
             [
              0.6666666666666666,
              "#ed7953"
             ],
             [
              0.7777777777777778,
              "#fb9f3a"
             ],
             [
              0.8888888888888888,
              "#fdca26"
             ],
             [
              1,
              "#f0f921"
             ]
            ],
            "type": "heatmapgl"
           }
          ],
          "histogram": [
           {
            "marker": {
             "colorbar": {
              "outlinewidth": 0,
              "ticks": ""
             }
            },
            "type": "histogram"
           }
          ],
          "histogram2d": [
           {
            "colorbar": {
             "outlinewidth": 0,
             "ticks": ""
            },
            "colorscale": [
             [
              0,
              "#0d0887"
             ],
             [
              0.1111111111111111,
              "#46039f"
             ],
             [
              0.2222222222222222,
              "#7201a8"
             ],
             [
              0.3333333333333333,
              "#9c179e"
             ],
             [
              0.4444444444444444,
              "#bd3786"
             ],
             [
              0.5555555555555556,
              "#d8576b"
             ],
             [
              0.6666666666666666,
              "#ed7953"
             ],
             [
              0.7777777777777778,
              "#fb9f3a"
             ],
             [
              0.8888888888888888,
              "#fdca26"
             ],
             [
              1,
              "#f0f921"
             ]
            ],
            "type": "histogram2d"
           }
          ],
          "histogram2dcontour": [
           {
            "colorbar": {
             "outlinewidth": 0,
             "ticks": ""
            },
            "colorscale": [
             [
              0,
              "#0d0887"
             ],
             [
              0.1111111111111111,
              "#46039f"
             ],
             [
              0.2222222222222222,
              "#7201a8"
             ],
             [
              0.3333333333333333,
              "#9c179e"
             ],
             [
              0.4444444444444444,
              "#bd3786"
             ],
             [
              0.5555555555555556,
              "#d8576b"
             ],
             [
              0.6666666666666666,
              "#ed7953"
             ],
             [
              0.7777777777777778,
              "#fb9f3a"
             ],
             [
              0.8888888888888888,
              "#fdca26"
             ],
             [
              1,
              "#f0f921"
             ]
            ],
            "type": "histogram2dcontour"
           }
          ],
          "mesh3d": [
           {
            "colorbar": {
             "outlinewidth": 0,
             "ticks": ""
            },
            "type": "mesh3d"
           }
          ],
          "parcoords": [
           {
            "line": {
             "colorbar": {
              "outlinewidth": 0,
              "ticks": ""
             }
            },
            "type": "parcoords"
           }
          ],
          "pie": [
           {
            "automargin": true,
            "type": "pie"
           }
          ],
          "scatter": [
           {
            "marker": {
             "colorbar": {
              "outlinewidth": 0,
              "ticks": ""
             }
            },
            "type": "scatter"
           }
          ],
          "scatter3d": [
           {
            "line": {
             "colorbar": {
              "outlinewidth": 0,
              "ticks": ""
             }
            },
            "marker": {
             "colorbar": {
              "outlinewidth": 0,
              "ticks": ""
             }
            },
            "type": "scatter3d"
           }
          ],
          "scattercarpet": [
           {
            "marker": {
             "colorbar": {
              "outlinewidth": 0,
              "ticks": ""
             }
            },
            "type": "scattercarpet"
           }
          ],
          "scattergeo": [
           {
            "marker": {
             "colorbar": {
              "outlinewidth": 0,
              "ticks": ""
             }
            },
            "type": "scattergeo"
           }
          ],
          "scattergl": [
           {
            "marker": {
             "colorbar": {
              "outlinewidth": 0,
              "ticks": ""
             }
            },
            "type": "scattergl"
           }
          ],
          "scattermapbox": [
           {
            "marker": {
             "colorbar": {
              "outlinewidth": 0,
              "ticks": ""
             }
            },
            "type": "scattermapbox"
           }
          ],
          "scatterpolar": [
           {
            "marker": {
             "colorbar": {
              "outlinewidth": 0,
              "ticks": ""
             }
            },
            "type": "scatterpolar"
           }
          ],
          "scatterpolargl": [
           {
            "marker": {
             "colorbar": {
              "outlinewidth": 0,
              "ticks": ""
             }
            },
            "type": "scatterpolargl"
           }
          ],
          "scatterternary": [
           {
            "marker": {
             "colorbar": {
              "outlinewidth": 0,
              "ticks": ""
             }
            },
            "type": "scatterternary"
           }
          ],
          "surface": [
           {
            "colorbar": {
             "outlinewidth": 0,
             "ticks": ""
            },
            "colorscale": [
             [
              0,
              "#0d0887"
             ],
             [
              0.1111111111111111,
              "#46039f"
             ],
             [
              0.2222222222222222,
              "#7201a8"
             ],
             [
              0.3333333333333333,
              "#9c179e"
             ],
             [
              0.4444444444444444,
              "#bd3786"
             ],
             [
              0.5555555555555556,
              "#d8576b"
             ],
             [
              0.6666666666666666,
              "#ed7953"
             ],
             [
              0.7777777777777778,
              "#fb9f3a"
             ],
             [
              0.8888888888888888,
              "#fdca26"
             ],
             [
              1,
              "#f0f921"
             ]
            ],
            "type": "surface"
           }
          ],
          "table": [
           {
            "cells": {
             "fill": {
              "color": "#EBF0F8"
             },
             "line": {
              "color": "white"
             }
            },
            "header": {
             "fill": {
              "color": "#C8D4E3"
             },
             "line": {
              "color": "white"
             }
            },
            "type": "table"
           }
          ]
         },
         "layout": {
          "annotationdefaults": {
           "arrowcolor": "#2a3f5f",
           "arrowhead": 0,
           "arrowwidth": 1
          },
          "coloraxis": {
           "colorbar": {
            "outlinewidth": 0,
            "ticks": ""
           }
          },
          "colorscale": {
           "diverging": [
            [
             0,
             "#8e0152"
            ],
            [
             0.1,
             "#c51b7d"
            ],
            [
             0.2,
             "#de77ae"
            ],
            [
             0.3,
             "#f1b6da"
            ],
            [
             0.4,
             "#fde0ef"
            ],
            [
             0.5,
             "#f7f7f7"
            ],
            [
             0.6,
             "#e6f5d0"
            ],
            [
             0.7,
             "#b8e186"
            ],
            [
             0.8,
             "#7fbc41"
            ],
            [
             0.9,
             "#4d9221"
            ],
            [
             1,
             "#276419"
            ]
           ],
           "sequential": [
            [
             0,
             "#0d0887"
            ],
            [
             0.1111111111111111,
             "#46039f"
            ],
            [
             0.2222222222222222,
             "#7201a8"
            ],
            [
             0.3333333333333333,
             "#9c179e"
            ],
            [
             0.4444444444444444,
             "#bd3786"
            ],
            [
             0.5555555555555556,
             "#d8576b"
            ],
            [
             0.6666666666666666,
             "#ed7953"
            ],
            [
             0.7777777777777778,
             "#fb9f3a"
            ],
            [
             0.8888888888888888,
             "#fdca26"
            ],
            [
             1,
             "#f0f921"
            ]
           ],
           "sequentialminus": [
            [
             0,
             "#0d0887"
            ],
            [
             0.1111111111111111,
             "#46039f"
            ],
            [
             0.2222222222222222,
             "#7201a8"
            ],
            [
             0.3333333333333333,
             "#9c179e"
            ],
            [
             0.4444444444444444,
             "#bd3786"
            ],
            [
             0.5555555555555556,
             "#d8576b"
            ],
            [
             0.6666666666666666,
             "#ed7953"
            ],
            [
             0.7777777777777778,
             "#fb9f3a"
            ],
            [
             0.8888888888888888,
             "#fdca26"
            ],
            [
             1,
             "#f0f921"
            ]
           ]
          },
          "colorway": [
           "#636efa",
           "#EF553B",
           "#00cc96",
           "#ab63fa",
           "#FFA15A",
           "#19d3f3",
           "#FF6692",
           "#B6E880",
           "#FF97FF",
           "#FECB52"
          ],
          "font": {
           "color": "#2a3f5f"
          },
          "geo": {
           "bgcolor": "white",
           "lakecolor": "white",
           "landcolor": "#E5ECF6",
           "showlakes": true,
           "showland": true,
           "subunitcolor": "white"
          },
          "hoverlabel": {
           "align": "left"
          },
          "hovermode": "closest",
          "mapbox": {
           "style": "light"
          },
          "paper_bgcolor": "white",
          "plot_bgcolor": "#E5ECF6",
          "polar": {
           "angularaxis": {
            "gridcolor": "white",
            "linecolor": "white",
            "ticks": ""
           },
           "bgcolor": "#E5ECF6",
           "radialaxis": {
            "gridcolor": "white",
            "linecolor": "white",
            "ticks": ""
           }
          },
          "scene": {
           "xaxis": {
            "backgroundcolor": "#E5ECF6",
            "gridcolor": "white",
            "gridwidth": 2,
            "linecolor": "white",
            "showbackground": true,
            "ticks": "",
            "zerolinecolor": "white"
           },
           "yaxis": {
            "backgroundcolor": "#E5ECF6",
            "gridcolor": "white",
            "gridwidth": 2,
            "linecolor": "white",
            "showbackground": true,
            "ticks": "",
            "zerolinecolor": "white"
           },
           "zaxis": {
            "backgroundcolor": "#E5ECF6",
            "gridcolor": "white",
            "gridwidth": 2,
            "linecolor": "white",
            "showbackground": true,
            "ticks": "",
            "zerolinecolor": "white"
           }
          },
          "shapedefaults": {
           "line": {
            "color": "#2a3f5f"
           }
          },
          "ternary": {
           "aaxis": {
            "gridcolor": "white",
            "linecolor": "white",
            "ticks": ""
           },
           "baxis": {
            "gridcolor": "white",
            "linecolor": "white",
            "ticks": ""
           },
           "bgcolor": "#E5ECF6",
           "caxis": {
            "gridcolor": "white",
            "linecolor": "white",
            "ticks": ""
           }
          },
          "title": {
           "x": 0.05
          },
          "xaxis": {
           "automargin": true,
           "gridcolor": "white",
           "linecolor": "white",
           "ticks": "",
           "title": {
            "standoff": 15
           },
           "zerolinecolor": "white",
           "zerolinewidth": 2
          },
          "yaxis": {
           "automargin": true,
           "gridcolor": "white",
           "linecolor": "white",
           "ticks": "",
           "title": {
            "standoff": 15
           },
           "zerolinecolor": "white",
           "zerolinewidth": 2
          }
         }
        },
        "title": {
         "text": "Coherence Value and # of Topics"
        },
        "xaxis": {
         "anchor": "y",
         "domain": [
          0,
          1
         ],
         "title": {
          "text": "# Topics"
         }
        },
        "yaxis": {
         "anchor": "x",
         "domain": [
          0,
          1
         ],
         "title": {
          "text": "Score"
         }
        }
       }
      },
      "text/html": [
       "<div>\n",
       "        \n",
       "        \n",
       "            <div id=\"c120a873-ad29-485e-a580-ed235d4f6770\" class=\"plotly-graph-div\" style=\"height:525px; width:100%;\"></div>\n",
       "            <script type=\"text/javascript\">\n",
       "                require([\"plotly\"], function(Plotly) {\n",
       "                    window.PLOTLYENV=window.PLOTLYENV || {};\n",
       "                    \n",
       "                if (document.getElementById(\"c120a873-ad29-485e-a580-ed235d4f6770\")) {\n",
       "                    Plotly.newPlot(\n",
       "                        'c120a873-ad29-485e-a580-ed235d4f6770',\n",
       "                        [{\"hovertemplate\": \"Metric=Coherence<br># Topics=%{x}<br>Score=%{y}<extra></extra>\", \"legendgroup\": \"Coherence\", \"line\": {\"color\": \"#636efa\", \"dash\": \"solid\", \"shape\": \"linear\"}, \"mode\": \"lines\", \"name\": \"Coherence\", \"orientation\": \"v\", \"showlegend\": true, \"type\": \"scatter\", \"x\": [2, 4, 8, 16, 32, 64, 100, 200, 300, 400], \"xaxis\": \"x\", \"y\": [0.38012125127156643, 0.33277022416390567, 0.37376868065264207, 0.3518862555412343, 0.5454838626443683, 0.652240689117074, 0.6763877389029024, 0.7226204282016389, 0.7295471765477928, 0.7217086598452448], \"yaxis\": \"y\"}],\n",
       "                        {\"legend\": {\"title\": {\"text\": \"Metric\"}, \"tracegroupgap\": 0}, \"plot_bgcolor\": \"rgb(245,245,245)\", \"template\": {\"data\": {\"bar\": [{\"error_x\": {\"color\": \"#2a3f5f\"}, \"error_y\": {\"color\": \"#2a3f5f\"}, \"marker\": {\"line\": {\"color\": \"#E5ECF6\", \"width\": 0.5}}, \"type\": \"bar\"}], \"barpolar\": [{\"marker\": {\"line\": {\"color\": \"#E5ECF6\", \"width\": 0.5}}, \"type\": \"barpolar\"}], \"carpet\": [{\"aaxis\": {\"endlinecolor\": \"#2a3f5f\", \"gridcolor\": \"white\", \"linecolor\": \"white\", \"minorgridcolor\": \"white\", \"startlinecolor\": \"#2a3f5f\"}, \"baxis\": {\"endlinecolor\": \"#2a3f5f\", \"gridcolor\": \"white\", \"linecolor\": \"white\", \"minorgridcolor\": \"white\", \"startlinecolor\": \"#2a3f5f\"}, \"type\": \"carpet\"}], \"choropleth\": [{\"colorbar\": {\"outlinewidth\": 0, \"ticks\": \"\"}, \"type\": \"choropleth\"}], \"contour\": [{\"colorbar\": {\"outlinewidth\": 0, \"ticks\": \"\"}, \"colorscale\": [[0.0, \"#0d0887\"], [0.1111111111111111, \"#46039f\"], [0.2222222222222222, \"#7201a8\"], [0.3333333333333333, \"#9c179e\"], [0.4444444444444444, \"#bd3786\"], [0.5555555555555556, \"#d8576b\"], [0.6666666666666666, \"#ed7953\"], [0.7777777777777778, \"#fb9f3a\"], [0.8888888888888888, \"#fdca26\"], [1.0, \"#f0f921\"]], \"type\": \"contour\"}], \"contourcarpet\": [{\"colorbar\": {\"outlinewidth\": 0, \"ticks\": \"\"}, \"type\": \"contourcarpet\"}], \"heatmap\": [{\"colorbar\": {\"outlinewidth\": 0, \"ticks\": \"\"}, \"colorscale\": [[0.0, \"#0d0887\"], [0.1111111111111111, \"#46039f\"], [0.2222222222222222, \"#7201a8\"], [0.3333333333333333, \"#9c179e\"], [0.4444444444444444, \"#bd3786\"], [0.5555555555555556, \"#d8576b\"], [0.6666666666666666, \"#ed7953\"], [0.7777777777777778, \"#fb9f3a\"], [0.8888888888888888, \"#fdca26\"], [1.0, \"#f0f921\"]], \"type\": \"heatmap\"}], \"heatmapgl\": [{\"colorbar\": {\"outlinewidth\": 0, \"ticks\": \"\"}, \"colorscale\": [[0.0, \"#0d0887\"], [0.1111111111111111, \"#46039f\"], [0.2222222222222222, \"#7201a8\"], [0.3333333333333333, \"#9c179e\"], [0.4444444444444444, \"#bd3786\"], [0.5555555555555556, \"#d8576b\"], [0.6666666666666666, \"#ed7953\"], [0.7777777777777778, \"#fb9f3a\"], [0.8888888888888888, \"#fdca26\"], [1.0, \"#f0f921\"]], \"type\": \"heatmapgl\"}], \"histogram\": [{\"marker\": {\"colorbar\": {\"outlinewidth\": 0, \"ticks\": \"\"}}, \"type\": \"histogram\"}], \"histogram2d\": [{\"colorbar\": {\"outlinewidth\": 0, \"ticks\": \"\"}, \"colorscale\": [[0.0, \"#0d0887\"], [0.1111111111111111, \"#46039f\"], [0.2222222222222222, \"#7201a8\"], [0.3333333333333333, \"#9c179e\"], [0.4444444444444444, \"#bd3786\"], [0.5555555555555556, \"#d8576b\"], [0.6666666666666666, \"#ed7953\"], [0.7777777777777778, \"#fb9f3a\"], [0.8888888888888888, \"#fdca26\"], [1.0, \"#f0f921\"]], \"type\": \"histogram2d\"}], \"histogram2dcontour\": [{\"colorbar\": {\"outlinewidth\": 0, \"ticks\": \"\"}, \"colorscale\": [[0.0, \"#0d0887\"], [0.1111111111111111, \"#46039f\"], [0.2222222222222222, \"#7201a8\"], [0.3333333333333333, \"#9c179e\"], [0.4444444444444444, \"#bd3786\"], [0.5555555555555556, \"#d8576b\"], [0.6666666666666666, \"#ed7953\"], [0.7777777777777778, \"#fb9f3a\"], [0.8888888888888888, \"#fdca26\"], [1.0, \"#f0f921\"]], \"type\": \"histogram2dcontour\"}], \"mesh3d\": [{\"colorbar\": {\"outlinewidth\": 0, \"ticks\": \"\"}, \"type\": \"mesh3d\"}], \"parcoords\": [{\"line\": {\"colorbar\": {\"outlinewidth\": 0, \"ticks\": \"\"}}, \"type\": \"parcoords\"}], \"pie\": [{\"automargin\": true, \"type\": \"pie\"}], \"scatter\": [{\"marker\": {\"colorbar\": {\"outlinewidth\": 0, \"ticks\": \"\"}}, \"type\": \"scatter\"}], \"scatter3d\": [{\"line\": {\"colorbar\": {\"outlinewidth\": 0, \"ticks\": \"\"}}, \"marker\": {\"colorbar\": {\"outlinewidth\": 0, \"ticks\": \"\"}}, \"type\": \"scatter3d\"}], \"scattercarpet\": [{\"marker\": {\"colorbar\": {\"outlinewidth\": 0, \"ticks\": \"\"}}, \"type\": \"scattercarpet\"}], \"scattergeo\": [{\"marker\": {\"colorbar\": {\"outlinewidth\": 0, \"ticks\": \"\"}}, \"type\": \"scattergeo\"}], \"scattergl\": [{\"marker\": {\"colorbar\": {\"outlinewidth\": 0, \"ticks\": \"\"}}, \"type\": \"scattergl\"}], \"scattermapbox\": [{\"marker\": {\"colorbar\": {\"outlinewidth\": 0, \"ticks\": \"\"}}, \"type\": \"scattermapbox\"}], \"scatterpolar\": [{\"marker\": {\"colorbar\": {\"outlinewidth\": 0, \"ticks\": \"\"}}, \"type\": \"scatterpolar\"}], \"scatterpolargl\": [{\"marker\": {\"colorbar\": {\"outlinewidth\": 0, \"ticks\": \"\"}}, \"type\": \"scatterpolargl\"}], \"scatterternary\": [{\"marker\": {\"colorbar\": {\"outlinewidth\": 0, \"ticks\": \"\"}}, \"type\": \"scatterternary\"}], \"surface\": [{\"colorbar\": {\"outlinewidth\": 0, \"ticks\": \"\"}, \"colorscale\": [[0.0, \"#0d0887\"], [0.1111111111111111, \"#46039f\"], [0.2222222222222222, \"#7201a8\"], [0.3333333333333333, \"#9c179e\"], [0.4444444444444444, \"#bd3786\"], [0.5555555555555556, \"#d8576b\"], [0.6666666666666666, \"#ed7953\"], [0.7777777777777778, \"#fb9f3a\"], [0.8888888888888888, \"#fdca26\"], [1.0, \"#f0f921\"]], \"type\": \"surface\"}], \"table\": [{\"cells\": {\"fill\": {\"color\": \"#EBF0F8\"}, \"line\": {\"color\": \"white\"}}, \"header\": {\"fill\": {\"color\": \"#C8D4E3\"}, \"line\": {\"color\": \"white\"}}, \"type\": \"table\"}]}, \"layout\": {\"annotationdefaults\": {\"arrowcolor\": \"#2a3f5f\", \"arrowhead\": 0, \"arrowwidth\": 1}, \"coloraxis\": {\"colorbar\": {\"outlinewidth\": 0, \"ticks\": \"\"}}, \"colorscale\": {\"diverging\": [[0, \"#8e0152\"], [0.1, \"#c51b7d\"], [0.2, \"#de77ae\"], [0.3, \"#f1b6da\"], [0.4, \"#fde0ef\"], [0.5, \"#f7f7f7\"], [0.6, \"#e6f5d0\"], [0.7, \"#b8e186\"], [0.8, \"#7fbc41\"], [0.9, \"#4d9221\"], [1, \"#276419\"]], \"sequential\": [[0.0, \"#0d0887\"], [0.1111111111111111, \"#46039f\"], [0.2222222222222222, \"#7201a8\"], [0.3333333333333333, \"#9c179e\"], [0.4444444444444444, \"#bd3786\"], [0.5555555555555556, \"#d8576b\"], [0.6666666666666666, \"#ed7953\"], [0.7777777777777778, \"#fb9f3a\"], [0.8888888888888888, \"#fdca26\"], [1.0, \"#f0f921\"]], \"sequentialminus\": [[0.0, \"#0d0887\"], [0.1111111111111111, \"#46039f\"], [0.2222222222222222, \"#7201a8\"], [0.3333333333333333, \"#9c179e\"], [0.4444444444444444, \"#bd3786\"], [0.5555555555555556, \"#d8576b\"], [0.6666666666666666, \"#ed7953\"], [0.7777777777777778, \"#fb9f3a\"], [0.8888888888888888, \"#fdca26\"], [1.0, \"#f0f921\"]]}, \"colorway\": [\"#636efa\", \"#EF553B\", \"#00cc96\", \"#ab63fa\", \"#FFA15A\", \"#19d3f3\", \"#FF6692\", \"#B6E880\", \"#FF97FF\", \"#FECB52\"], \"font\": {\"color\": \"#2a3f5f\"}, \"geo\": {\"bgcolor\": \"white\", \"lakecolor\": \"white\", \"landcolor\": \"#E5ECF6\", \"showlakes\": true, \"showland\": true, \"subunitcolor\": \"white\"}, \"hoverlabel\": {\"align\": \"left\"}, \"hovermode\": \"closest\", \"mapbox\": {\"style\": \"light\"}, \"paper_bgcolor\": \"white\", \"plot_bgcolor\": \"#E5ECF6\", \"polar\": {\"angularaxis\": {\"gridcolor\": \"white\", \"linecolor\": \"white\", \"ticks\": \"\"}, \"bgcolor\": \"#E5ECF6\", \"radialaxis\": {\"gridcolor\": \"white\", \"linecolor\": \"white\", \"ticks\": \"\"}}, \"scene\": {\"xaxis\": {\"backgroundcolor\": \"#E5ECF6\", \"gridcolor\": \"white\", \"gridwidth\": 2, \"linecolor\": \"white\", \"showbackground\": true, \"ticks\": \"\", \"zerolinecolor\": \"white\"}, \"yaxis\": {\"backgroundcolor\": \"#E5ECF6\", \"gridcolor\": \"white\", \"gridwidth\": 2, \"linecolor\": \"white\", \"showbackground\": true, \"ticks\": \"\", \"zerolinecolor\": \"white\"}, \"zaxis\": {\"backgroundcolor\": \"#E5ECF6\", \"gridcolor\": \"white\", \"gridwidth\": 2, \"linecolor\": \"white\", \"showbackground\": true, \"ticks\": \"\", \"zerolinecolor\": \"white\"}}, \"shapedefaults\": {\"line\": {\"color\": \"#2a3f5f\"}}, \"ternary\": {\"aaxis\": {\"gridcolor\": \"white\", \"linecolor\": \"white\", \"ticks\": \"\"}, \"baxis\": {\"gridcolor\": \"white\", \"linecolor\": \"white\", \"ticks\": \"\"}, \"bgcolor\": \"#E5ECF6\", \"caxis\": {\"gridcolor\": \"white\", \"linecolor\": \"white\", \"ticks\": \"\"}}, \"title\": {\"x\": 0.05}, \"xaxis\": {\"automargin\": true, \"gridcolor\": \"white\", \"linecolor\": \"white\", \"ticks\": \"\", \"title\": {\"standoff\": 15}, \"zerolinecolor\": \"white\", \"zerolinewidth\": 2}, \"yaxis\": {\"automargin\": true, \"gridcolor\": \"white\", \"linecolor\": \"white\", \"ticks\": \"\", \"title\": {\"standoff\": 15}, \"zerolinecolor\": \"white\", \"zerolinewidth\": 2}}}, \"title\": {\"text\": \"Coherence Value and # of Topics\"}, \"xaxis\": {\"anchor\": \"y\", \"domain\": [0.0, 1.0], \"title\": {\"text\": \"# Topics\"}}, \"yaxis\": {\"anchor\": \"x\", \"domain\": [0.0, 1.0], \"title\": {\"text\": \"Score\"}}},\n",
       "                        {\"responsive\": true}\n",
       "                    ).then(function(){\n",
       "                            \n",
       "var gd = document.getElementById('c120a873-ad29-485e-a580-ed235d4f6770');\n",
       "var x = new MutationObserver(function (mutations, observer) {{\n",
       "        var display = window.getComputedStyle(gd).display;\n",
       "        if (!display || display === 'none') {{\n",
       "            console.log([gd, 'removed!']);\n",
       "            Plotly.purge(gd);\n",
       "            observer.disconnect();\n",
       "        }}\n",
       "}});\n",
       "\n",
       "// Listen for the removal of the full notebook cells\n",
       "var notebookContainer = gd.closest('#notebook-container');\n",
       "if (notebookContainer) {{\n",
       "    x.observe(notebookContainer, {childList: true});\n",
       "}}\n",
       "\n",
       "// Listen for the clearing of the current output cell\n",
       "var outputEl = gd.closest('.output');\n",
       "if (outputEl) {{\n",
       "    x.observe(outputEl, {childList: true});\n",
       "}}\n",
       "\n",
       "                        })\n",
       "                };\n",
       "                });\n",
       "            </script>\n",
       "        </div>"
      ]
     },
     "metadata": {},
     "output_type": "display_data"
    },
    {
     "name": "stdout",
     "output_type": "stream",
     "text": [
      "Best Model: Latent Dirichlet Allocation | # Topics: 300 | Coherence: 0.7295\n"
     ]
    }
   ],
   "source": [
    "tune_lda_negative = tune_model(model='lda', supervised_target=None, estimator='xgboost')"
   ]
  },
  {
   "cell_type": "markdown",
   "metadata": {},
   "source": [
    "2 topics"
   ]
  },
  {
   "cell_type": "code",
   "execution_count": 42,
   "metadata": {},
   "outputs": [
    {
     "data": {
      "text/html": [
       "        <script type=\"text/javascript\">\n",
       "        window.PlotlyConfig = {MathJaxConfig: 'local'};\n",
       "        if (window.MathJax) {MathJax.Hub.Config({SVG: {font: \"STIX-Web\"}});}\n",
       "        if (typeof require !== 'undefined') {\n",
       "        require.undef(\"plotly\");\n",
       "        requirejs.config({\n",
       "            paths: {\n",
       "                'plotly': ['https://cdn.plot.ly/plotly-latest.min']\n",
       "            }\n",
       "        });\n",
       "        require(['plotly'], function(Plotly) {\n",
       "            window._Plotly = Plotly;\n",
       "        });\n",
       "        }\n",
       "        </script>\n",
       "        "
      ]
     },
     "metadata": {},
     "output_type": "display_data"
    },
    {
     "data": {
      "text/html": [
       "\n",
       "<link rel=\"stylesheet\" type=\"text/css\" href=\"https://cdn.rawgit.com/bmabey/pyLDAvis/files/ldavis.v1.0.0.css\">\n",
       "\n",
       "\n",
       "<div id=\"ldavis_el159001946922607176895967128\"></div>\n",
       "<script type=\"text/javascript\">\n",
       "\n",
       "var ldavis_el159001946922607176895967128_data = {\"mdsDat\": {\"x\": [0.10514262927763267, 0.04436120975245407, -0.09647549871912603, -0.0530283403109607], \"y\": [0.05790320870939309, -0.10001069389842568, -0.05624233925711143, 0.09834982444614403], \"topics\": [1, 2, 3, 4], \"cluster\": [1, 1, 1, 1], \"Freq\": [36.3035774230957, 27.586130142211914, 18.066011428833008, 18.044279098510742]}, \"tinfo\": {\"Term\": [\"struggle\", \"dish\", \"monument\", \"bottle\", \"charge\", \"visitor\", \"carrot\", \"chicken\", \"much\", \"table\", \"water\", \"back\", \"cypriot\", \"photo\", \"prison\", \"present\", \"exhibit\", \"turkish\", \"want\", \"close\", \"release\", \"prisoner\", \"several\", \"tell\", \"try\", \"occupation\", \"view\", \"new\", \"potato\", \"taste\", \"quick\", \"local\", \"come\", \"leave\", \"lead\", \"perfect\", \"pay\", \"day\", \"fish\", \"still\", \"option\", \"first\", \"body\", \"floor\", \"think\", \"uncomfortable\", \"death\", \"vote\", \"involve\", \"matter\", \"take\", \"table\", \"make\", \"ask\", \"translation\", \"fight\", \"eat\", \"find\", \"spend\", \"type\", \"kill\", \"difficult\", \"go\", \"visit\", \"place\", \"greek\", \"time\", \"late\", \"show\", \"cypriot\", \"direction\", \"look\", \"monument\", \"great\", \"history\", \"photo\", \"minute\", \"want\", \"close\", \"release\", \"prisoner\", \"bronze\", \"add\", \"enough\", \"check\", \"grow\", \"group\", \"far\", \"inscription\", \"marble\", \"prison\", \"monument\", \"keep\", \"worth\", \"superbly\", \"curate\", \"step\", \"revolt\", \"cyprus\", \"memorial\", \"sober\", \"seem\", \"strike\", \"descriptive\", \"hour\", \"freedom\", \"wide\", \"much\", \"statue\", \"experience\", \"open\", \"also\", \"plate\", \"history\", \"get\", \"cypriot\", \"show\", \"late\", \"people\", \"turkish\", \"place\", \"british\", \"time\", \"visit\", \"go\", \"struggle\", \"see\", \"fighter\", \"exhibit\", \"service\", \"know\", \"minute\", \"greek\", \"carrot\", \"chicken\", \"new\", \"potato\", \"colonial\", \"taste\", \"main\", \"build\", \"pass\", \"detail\", \"dish\", \"back\", \"blood\", \"live\", \"invade\", \"venetian\", \"wall\", \"rape\", \"symbol\", \"cold\", \"hope\", \"century\", \"turk\", \"plunder\", \"bation\", \"podocatri\", \"car\", \"home\", \"description\", \"walk\", \"present\", \"struggle\", \"rule\", \"national\", \"serve\", \"average\", \"service\", \"exhibit\", \"turkish\", \"cypriot\", \"fighter\", \"go\", \"know\", \"people\", \"british\", \"time\", \"document\", \"many\", \"visitor\", \"several\", \"tell\", \"try\", \"occupation\", \"view\", \"historic\", \"conflict\", \"entry\", \"eyeopener\", \"eventually\", \"art\", \"bother\", \"byzantine\", \"interested\", \"icon\", \"bored\", \"unjust\", \"note\", \"detention\", \"describe\", \"apparently\", \"camp\", \"liberation\", \"perspective\", \"recognize\", \"prose\", \"woman\", \"hagiography\", \"maker\", \"bottle\", \"charge\", \"water\", \"thing\", \"photo\", \"give\", \"next\", \"item\", \"struggle\", \"great\", \"cypriot\", \"sit\", \"greek\", \"british\", \"much\", \"table\", \"visit\", \"move\", \"last\", \"waitress\", \"time\", \"find\", \"incident\", \"role\"], \"Freq\": [8.0, 4.0, 6.0, 4.0, 4.0, 2.0, 2.0, 2.0, 4.0, 6.0, 3.0, 3.0, 11.0, 3.0, 3.0, 3.0, 3.0, 3.0, 2.0, 2.0, 2.0, 2.0, 1.0, 1.0, 1.0, 1.0, 1.0, 1.0, 1.0, 1.0, 2.348306655883789, 2.3472142219543457, 2.3462038040161133, 2.3306996822357178, 2.304914712905884, 1.628024935722351, 1.623094081878662, 1.6230226755142212, 1.622071623802185, 1.6221084594726562, 1.621811032295227, 1.6203820705413818, 1.6203083992004395, 1.6197633743286133, 1.6177027225494385, 1.6165916919708252, 1.6147209405899048, 1.6034319400787354, 1.6009409427642822, 1.5973987579345703, 3.772557258605957, 4.49204683303833, 3.0647389888763428, 3.060894727706909, 2.3443124294281006, 2.3440444469451904, 2.3371031284332275, 2.339162588119507, 0.9044647216796875, 0.9044575095176697, 1.6207077503204346, 1.6227625608444214, 4.522517681121826, 4.513515472412109, 3.052804946899414, 3.048469066619873, 3.060286283493042, 2.34635066986084, 2.332442283630371, 2.068307399749756, 1.6266429424285889, 1.6264399290084839, 1.6301382780075073, 1.6280349493026733, 1.6280277967453003, 1.6257537603378296, 1.6244125366210938, 2.1413729190826416, 2.1413135528564453, 2.141186237335205, 2.1403372287750244, 1.4823623895645142, 1.4823238849639893, 1.4817509651184082, 1.481419324874878, 1.4813923835754395, 1.48145592212677, 1.4807119369506836, 1.479538917541504, 1.4795724153518677, 2.800175666809082, 4.1147894859313965, 2.138838529586792, 2.1383450031280518, 0.8235958218574524, 0.8235923647880554, 0.8235916495323181, 0.8235905766487122, 0.8235905766487122, 0.8235883116722107, 0.8235880732536316, 0.8235806822776794, 0.823578953742981, 0.8235771656036377, 0.8235768675804138, 0.8235752582550049, 0.8235715627670288, 2.799299716949463, 1.4823731184005737, 1.4815597534179688, 1.4821035861968994, 1.481519341468811, 1.478800654411316, 2.8027987480163574, 1.4824949502944946, 4.128948211669922, 2.144308567047119, 2.1432478427886963, 2.142603874206543, 1.4850540161132812, 2.1431198120117188, 2.141266107559204, 2.145785331726074, 2.144896984100342, 2.136786937713623, 1.4881954193115234, 1.4859111309051514, 1.4851361513137817, 1.4839810132980347, 1.4835211038589478, 1.4831069707870483, 1.482485294342041, 1.4824210405349731, 1.8044707775115967, 1.8037738800048828, 1.2495976686477661, 1.2493840456008911, 1.2490129470825195, 1.2490870952606201, 1.2488658428192139, 1.2485144138336182, 1.2482824325561523, 1.2467808723449707, 2.915120840072632, 1.8055038452148438, 0.6943289041519165, 0.6943280100822449, 0.6943275928497314, 0.6943267583847046, 0.6943263411521912, 0.6943261027336121, 0.6943255066871643, 0.6943256855010986, 0.6943250894546509, 0.694324791431427, 0.6943246126174927, 0.6943240165710449, 0.6943203210830688, 0.6943188309669495, 0.694318950176239, 0.6943175196647644, 0.6942699551582336, 0.6942413449287415, 1.9206721782684326, 3.6229894161224365, 1.2489514350891113, 1.2466158866882324, 1.250046968460083, 1.2482235431671143, 1.803823471069336, 1.2475593090057373, 1.246800422668457, 2.5742738246917725, 1.24889075756073, 1.8059847354888916, 1.2488833665847778, 1.280380368232727, 1.2783153057098389, 1.2559529542922974, 0.7653599381446838, 0.7730377912521362, 1.812195897102356, 1.2576502561569214, 1.2565337419509888, 1.2559516429901123, 1.2545671463012695, 1.2534117698669434, 0.6994612812995911, 0.6994609832763672, 0.6994608044624329, 0.699461042881012, 0.699459969997406, 0.6994388103485107, 0.6994339823722839, 0.6994227766990662, 0.6994221210479736, 0.6994138360023499, 0.699408769607544, 0.699179470539093, 0.6991138458251953, 0.6990984678268433, 0.6990785002708435, 0.6990633606910706, 0.6990540027618408, 0.6989843845367432, 0.6989708542823792, 0.6989547610282898, 0.6989481449127197, 0.6989291906356812, 0.6989279389381409, 0.6989001631736755, 2.375997304916382, 2.373154878616333, 1.8133561611175537, 1.257338285446167, 1.810334324836731, 1.2553074359893799, 1.2638500928878784, 1.2538433074951172, 2.9361305236816406, 1.8141347169876099, 2.93290376663208, 1.2632415294647217, 1.8181408643722534, 1.8223447799682617, 1.2559481859207153, 1.2735135555267334, 1.258060336112976, 0.7035762071609497, 0.7027764320373535, 0.701786458492279, 0.7012924551963806, 0.7008544206619263, 0.7005370855331421, 0.7003176212310791], \"Total\": [8.0, 4.0, 6.0, 4.0, 4.0, 2.0, 2.0, 2.0, 4.0, 6.0, 3.0, 3.0, 11.0, 3.0, 3.0, 3.0, 3.0, 3.0, 2.0, 2.0, 2.0, 2.0, 1.0, 1.0, 1.0, 1.0, 1.0, 1.0, 1.0, 1.0, 2.7944557666778564, 2.794279098510742, 2.794003486633301, 2.790651798248291, 2.7849504947662354, 2.0716001987457275, 2.0705080032348633, 2.0704891681671143, 2.0702292919158936, 2.0702810287475586, 2.070173501968384, 2.069936513900757, 2.0699851512908936, 2.0698599815368652, 2.0694692134857178, 2.069063425064087, 2.068788528442383, 2.066236734390259, 2.0657734870910645, 2.064824104309082, 4.895956039428711, 6.078777313232422, 4.175472259521484, 4.174543857574463, 3.3532590866088867, 3.353224277496338, 3.347456693649292, 3.352250099182129, 1.3479816913604736, 1.3479803800582886, 2.6255569458007812, 2.6301803588867188, 8.608564376831055, 8.615913391113281, 5.490631580352783, 6.509185791015625, 7.1633172035217285, 4.771003723144531, 4.767951011657715, 11.70443344116211, 2.7301464080810547, 2.7295711040496826, 6.0250444412231445, 4.965397834777832, 5.822644233703613, 3.7504053115844727, 3.388563632965088, 2.601134777069092, 2.601139783859253, 2.6011483669281006, 2.6009883880615234, 1.9421902894973755, 1.9422043561935425, 1.9421354532241821, 1.942041277885437, 1.9420380592346191, 1.9423093795776367, 1.9419612884521484, 1.9421154260635376, 1.9421639442443848, 3.8155384063720703, 6.0250444412231445, 3.156201124191284, 3.3237557411193848, 1.2832890748977661, 1.2832884788513184, 1.2832889556884766, 1.2832884788513184, 1.2832887172698975, 1.2832882404327393, 1.2832887172698975, 1.2832869291305542, 1.2832874059677124, 1.2832870483398438, 1.2832872867584229, 1.2832865715026855, 1.2832863330841064, 4.379587650299072, 2.497684955596924, 2.4977166652679443, 2.502079486846924, 2.501884937286377, 2.4976534843444824, 5.822644233703613, 2.6657814979553223, 11.70443344116211, 4.767951011657715, 4.771003723144531, 5.149494647979736, 3.0536184310913086, 5.490631580352783, 6.828403472900391, 7.1633172035217285, 8.615913391113281, 8.608564376831055, 8.750750541687012, 4.496879577636719, 3.6133806705474854, 3.0534112453460693, 4.892508506774902, 4.337115287780762, 3.388563632965088, 6.509185791015625, 2.2910349369049072, 2.29121994972229, 1.735421061515808, 1.7354710102081299, 1.735376238822937, 1.7355293035507202, 1.7355526685714722, 1.7355424165725708, 1.735568881034851, 1.7353944778442383, 4.060965061187744, 3.0136044025421143, 1.1798746585845947, 1.1798748970031738, 1.179875135421753, 1.179875135421753, 1.179875373840332, 1.1798752546310425, 1.1798750162124634, 1.179875373840332, 1.179875135421753, 1.179875135421753, 1.179875135421753, 1.179875373840332, 1.1798760890960693, 1.1798757314682007, 1.1798762083053589, 1.1798763275146484, 1.1798830032348633, 1.1798882484436035, 3.637338399887085, 8.750750541687012, 2.3942689895629883, 2.394630193710327, 2.4583353996276855, 2.4592719078063965, 4.892508506774902, 3.0534112453460693, 3.0536184310913086, 11.70443344116211, 3.6133806705474854, 8.608564376831055, 4.337115287780762, 5.149494647979736, 6.828403472900391, 7.1633172035217285, 2.441333055496216, 3.8212227821350098, 2.3035964965820312, 1.7438842058181763, 1.7435779571533203, 1.7442207336425781, 1.744226098060608, 1.7443640232086182, 1.1839889287948608, 1.1839886903762817, 1.1839888095855713, 1.1839892864227295, 1.183989405632019, 1.1839914321899414, 1.1839922666549683, 1.183994174003601, 1.1839932203292847, 1.1839957237243652, 1.1839947700500488, 1.183985710144043, 1.1839854717254639, 1.183985710144043, 1.1839854717254639, 1.1839847564697266, 1.1839849948883057, 1.183984398841858, 1.183984637260437, 1.1839852333068848, 1.1839842796325684, 1.1839842796325684, 1.1839839220046997, 1.1839841604232788, 4.244787216186523, 4.246007919311523, 3.6223790645599365, 2.4029672145843506, 3.7504053115844727, 2.4028854370117188, 2.465123176574707, 2.4630069732666016, 8.750750541687012, 4.965397834777832, 11.70443344116211, 3.188235282897949, 6.509185791015625, 6.828403472900391, 4.379587650299072, 6.078777313232422, 8.615913391113281, 2.564730644226074, 2.5648927688598633, 2.461824893951416, 7.1633172035217285, 3.352250099182129, 2.6293959617614746, 1.906764268875122], \"Category\": [\"Default\", \"Default\", \"Default\", \"Default\", \"Default\", \"Default\", \"Default\", \"Default\", \"Default\", \"Default\", \"Default\", \"Default\", \"Default\", \"Default\", \"Default\", \"Default\", \"Default\", \"Default\", \"Default\", \"Default\", \"Default\", \"Default\", \"Default\", \"Default\", \"Default\", \"Default\", \"Default\", \"Default\", \"Default\", \"Default\", \"Topic1\", \"Topic1\", \"Topic1\", \"Topic1\", \"Topic1\", \"Topic1\", \"Topic1\", \"Topic1\", \"Topic1\", \"Topic1\", \"Topic1\", \"Topic1\", \"Topic1\", \"Topic1\", \"Topic1\", \"Topic1\", \"Topic1\", \"Topic1\", \"Topic1\", \"Topic1\", \"Topic1\", \"Topic1\", \"Topic1\", \"Topic1\", \"Topic1\", \"Topic1\", \"Topic1\", \"Topic1\", \"Topic1\", \"Topic1\", \"Topic1\", \"Topic1\", \"Topic1\", \"Topic1\", \"Topic1\", \"Topic1\", \"Topic1\", \"Topic1\", \"Topic1\", \"Topic1\", \"Topic1\", \"Topic1\", \"Topic1\", \"Topic1\", \"Topic1\", \"Topic1\", \"Topic1\", \"Topic2\", \"Topic2\", \"Topic2\", \"Topic2\", \"Topic2\", \"Topic2\", \"Topic2\", \"Topic2\", \"Topic2\", \"Topic2\", \"Topic2\", \"Topic2\", \"Topic2\", \"Topic2\", \"Topic2\", \"Topic2\", \"Topic2\", \"Topic2\", \"Topic2\", \"Topic2\", \"Topic2\", \"Topic2\", \"Topic2\", \"Topic2\", \"Topic2\", \"Topic2\", \"Topic2\", \"Topic2\", \"Topic2\", \"Topic2\", \"Topic2\", \"Topic2\", \"Topic2\", \"Topic2\", \"Topic2\", \"Topic2\", \"Topic2\", \"Topic2\", \"Topic2\", \"Topic2\", \"Topic2\", \"Topic2\", \"Topic2\", \"Topic2\", \"Topic2\", \"Topic2\", \"Topic2\", \"Topic2\", \"Topic2\", \"Topic2\", \"Topic2\", \"Topic2\", \"Topic2\", \"Topic2\", \"Topic2\", \"Topic2\", \"Topic3\", \"Topic3\", \"Topic3\", \"Topic3\", \"Topic3\", \"Topic3\", \"Topic3\", \"Topic3\", \"Topic3\", \"Topic3\", \"Topic3\", \"Topic3\", \"Topic3\", \"Topic3\", \"Topic3\", \"Topic3\", \"Topic3\", \"Topic3\", \"Topic3\", \"Topic3\", \"Topic3\", \"Topic3\", \"Topic3\", \"Topic3\", \"Topic3\", \"Topic3\", \"Topic3\", \"Topic3\", \"Topic3\", \"Topic3\", \"Topic3\", \"Topic3\", \"Topic3\", \"Topic3\", \"Topic3\", \"Topic3\", \"Topic3\", \"Topic3\", \"Topic3\", \"Topic3\", \"Topic3\", \"Topic3\", \"Topic3\", \"Topic3\", \"Topic3\", \"Topic3\", \"Topic3\", \"Topic3\", \"Topic4\", \"Topic4\", \"Topic4\", \"Topic4\", \"Topic4\", \"Topic4\", \"Topic4\", \"Topic4\", \"Topic4\", \"Topic4\", \"Topic4\", \"Topic4\", \"Topic4\", \"Topic4\", \"Topic4\", \"Topic4\", \"Topic4\", \"Topic4\", \"Topic4\", \"Topic4\", \"Topic4\", \"Topic4\", \"Topic4\", \"Topic4\", \"Topic4\", \"Topic4\", \"Topic4\", \"Topic4\", \"Topic4\", \"Topic4\", \"Topic4\", \"Topic4\", \"Topic4\", \"Topic4\", \"Topic4\", \"Topic4\", \"Topic4\", \"Topic4\", \"Topic4\", \"Topic4\", \"Topic4\", \"Topic4\", \"Topic4\", \"Topic4\", \"Topic4\", \"Topic4\", \"Topic4\", \"Topic4\", \"Topic4\", \"Topic4\", \"Topic4\", \"Topic4\", \"Topic4\", \"Topic4\"], \"logprob\": [30.0, 29.0, 28.0, 27.0, 26.0, 25.0, 24.0, 23.0, 22.0, 21.0, 20.0, 19.0, 18.0, 17.0, 16.0, 15.0, 14.0, 13.0, 12.0, 11.0, 10.0, 9.0, 8.0, 7.0, 6.0, 5.0, 4.0, 3.0, 2.0, 1.0, -5.017499923706055, -5.01800012588501, -5.018400192260742, -5.025100231170654, -5.036200046539307, -5.383900165557861, -5.386899948120117, -5.386899948120117, -5.387499809265137, -5.387499809265137, -5.387700080871582, -5.388599872589111, -5.388599872589111, -5.388999938964844, -5.390200138092041, -5.390900135040283, -5.392099857330322, -5.399099826812744, -5.400599956512451, -5.402900218963623, -4.543499946594238, -4.368899822235107, -4.751299858093262, -4.752500057220459, -5.019199848175049, -5.019400119781494, -5.022299766540527, -5.021399974822998, -5.97160005569458, -5.971700191497803, -5.388400077819824, -5.3871002197265625, -4.362199783325195, -4.364200115203857, -4.755199909210205, -4.7565999031066895, -4.752699851989746, -5.018400192260742, -5.0243000984191895, -5.144499778747559, -5.384699821472168, -5.384799957275391, -5.382599830627441, -5.383900165557861, -5.383900165557861, -5.385300159454346, -5.386099815368652, -4.83519983291626, -4.83519983291626, -4.835299968719482, -4.835700035095215, -5.203000068664551, -5.203000068664551, -5.203400135040283, -5.20359992980957, -5.20359992980957, -5.20359992980957, -5.204100131988525, -5.204899787902832, -5.204899787902832, -4.56689977645874, -4.182000160217285, -4.836400032043457, -4.836599826812744, -5.7906999588012695, -5.7906999588012695, -5.7906999588012695, -5.7906999588012695, -5.7906999588012695, -5.7906999588012695, -5.7906999588012695, -5.7906999588012695, -5.7906999588012695, -5.7906999588012695, -5.7906999588012695, -5.7906999588012695, -5.7906999588012695, -4.567299842834473, -5.203000068664551, -5.203499794006348, -5.203199863433838, -5.20359992980957, -5.205399990081787, -4.565999984741211, -5.202899932861328, -4.178599834442139, -4.833799839019775, -4.8343000411987305, -4.83459997177124, -5.201200008392334, -4.834400177001953, -4.83519983291626, -4.833099842071533, -4.833499908447266, -4.837299823760986, -5.199100017547607, -5.2006001472473145, -5.201099872589111, -5.201900005340576, -5.202199935913086, -5.202499866485596, -5.202899932861328, -5.203000068664551, -4.583099842071533, -4.583499908447266, -4.950500011444092, -4.950699806213379, -4.951000213623047, -4.950900077819824, -4.951099872589111, -4.951399803161621, -4.951600074768066, -4.9527997970581055, -4.103400230407715, -4.582499980926514, -5.5381999015808105, -5.5381999015808105, -5.5381999015808105, -5.5381999015808105, -5.5381999015808105, -5.5381999015808105, -5.5381999015808105, -5.5381999015808105, -5.5381999015808105, -5.5381999015808105, -5.5381999015808105, -5.5381999015808105, -5.5381999015808105, -5.5381999015808105, -5.5381999015808105, -5.5381999015808105, -5.5381999015808105, -5.538300037384033, -4.520699977874756, -3.885999917984009, -4.951000213623047, -4.952899932861328, -4.950200080871582, -4.951600074768066, -4.583399772644043, -4.952199935913086, -4.9527997970581055, -4.227799892425537, -4.951099872589111, -4.582200050354004, -4.951099872589111, -4.926199913024902, -4.927800178527832, -4.945499897003174, -5.440800189971924, -5.430799961090088, -4.577600002288818, -4.94290018081665, -4.94379997253418, -4.944300174713135, -4.945400238037109, -4.946300029754639, -5.529600143432617, -5.529600143432617, -5.529600143432617, -5.529600143432617, -5.529600143432617, -5.529600143432617, -5.529600143432617, -5.529600143432617, -5.529600143432617, -5.529699802398682, -5.529699802398682, -5.53000020980835, -5.530099868774414, -5.530099868774414, -5.530099868774414, -5.530200004577637, -5.530200004577637, -5.530300140380859, -5.530300140380859, -5.530300140380859, -5.530300140380859, -5.530399799346924, -5.530399799346924, -5.530399799346924, -4.306700229644775, -4.3078999519348145, -4.577000141143799, -4.9430999755859375, -4.57859992980957, -4.944799900054932, -4.938000202178955, -4.945899963378906, -4.095099925994873, -4.576499938964844, -4.096199989318848, -4.938499927520752, -4.5742998123168945, -4.572000026702881, -4.944300174713135, -4.9303998947143555, -4.942599773406982, -5.52370023727417, -5.524899959564209, -5.526299953460693, -5.5269999504089355, -5.527599811553955, -5.52810001373291, -5.52839994430542], \"loglift\": [30.0, 29.0, 28.0, 27.0, 26.0, 25.0, 24.0, 23.0, 22.0, 21.0, 20.0, 19.0, 18.0, 17.0, 16.0, 15.0, 14.0, 13.0, 12.0, 11.0, 10.0, 9.0, 8.0, 7.0, 6.0, 5.0, 4.0, 3.0, 2.0, 1.0, 0.8392999768257141, 0.8389000296592712, 0.8385999798774719, 0.8331000208854675, 0.8241000175476074, 0.7723000049591064, 0.7698000073432922, 0.7698000073432922, 0.7692999839782715, 0.7692999839782715, 0.7692000269889832, 0.7684000134468079, 0.7682999968528748, 0.7681000232696533, 0.7670000195503235, 0.7664999961853027, 0.765500009059906, 0.7597000002861023, 0.7583000063896179, 0.756600022315979, 0.7526000142097473, 0.7107999920845032, 0.7039999961853027, 0.703000009059906, 0.6553000211715698, 0.6552000045776367, 0.6539999842643738, 0.6534000039100647, 0.6141999959945679, 0.6141999959945679, 0.5307999849319458, 0.5303000211715698, 0.36959999799728394, 0.3666999936103821, 0.4262999892234802, 0.2547000050544739, 0.16279999911785126, 0.303600013256073, 0.29829999804496765, -0.7200000286102295, 0.49540001153945923, 0.49549999833106995, -0.2939999997615814, -0.10189999639987946, -0.26109999418258667, 0.17739999294281006, 0.27799999713897705, 1.093400001525879, 1.0932999849319458, 1.0932999849319458, 1.092900037765503, 1.017699956893921, 1.0176000595092773, 1.017300009727478, 1.0170999765396118, 1.0170999765396118, 1.0169999599456787, 1.016700029373169, 1.0157999992370605, 1.0157999992370605, 0.9785000085830688, 0.906499981880188, 0.8988000154495239, 0.8468000292778015, 0.8443999886512756, 0.8443999886512756, 0.8443999886512756, 0.8442999720573425, 0.8442999720573425, 0.8442999720573425, 0.8442999720573425, 0.8442999720573425, 0.8442999720573425, 0.8442999720573425, 0.8442999720573425, 0.8442999720573425, 0.8442999720573425, 0.8403000235557556, 0.7660999894142151, 0.7656000256538391, 0.76419997215271, 0.7638999819755554, 0.763700008392334, 0.5566999912261963, 0.7010999917984009, 0.2459000051021576, 0.4887999892234802, 0.4875999987125397, 0.41100001335144043, 0.5669999718666077, 0.34709998965263367, 0.1281999945640564, 0.08240000158548355, -0.10270000249147415, -0.10559999942779541, -0.4837000072002411, 0.18050000071525574, 0.3986999988555908, 0.5662999749183655, 0.09459999948740005, 0.21480000019073486, 0.4611999988555908, -0.19169999659061432, 1.4723999500274658, 1.4718999862670898, 1.382699966430664, 1.3825000524520874, 1.3823000192642212, 1.382200002670288, 1.3819999694824219, 1.3818000555038452, 1.381600022315979, 1.3804999589920044, 1.3796000480651855, 1.198799967765808, 1.180899977684021, 1.180899977684021, 1.180899977684021, 1.180899977684021, 1.180899977684021, 1.180899977684021, 1.180899977684021, 1.180899977684021, 1.180899977684021, 1.180899977684021, 1.180899977684021, 1.180899977684021, 1.180899977684021, 1.180899977684021, 1.180899977684021, 1.180899977684021, 1.180799961090088, 1.180799961090088, 1.07260000705719, 0.8292999863624573, 1.0604000091552734, 1.0583000183105469, 1.0348000526428223, 1.0329999923706055, 0.7132999897003174, 0.816100001335144, 0.8154000043869019, 0.19670000672340393, 0.6486999988555908, 0.14949999749660492, 0.46619999408721924, 0.31940001249313354, 0.035599999129772186, -0.029899999499320984, 0.5511999726295471, 0.11309999972581863, 1.4723999500274658, 1.3854999542236328, 1.3847999572753906, 1.3839000463485718, 1.3827999830245972, 1.3818000555038452, 1.1859999895095825, 1.1859999895095825, 1.1859999895095825, 1.1859999895095825, 1.1859999895095825, 1.1859999895095825, 1.1859999895095825, 1.1858999729156494, 1.1858999729156494, 1.1858999729156494, 1.1858999729156494, 1.1856000423431396, 1.1855000257492065, 1.1855000257492065, 1.1855000257492065, 1.1854000091552734, 1.1854000091552734, 1.1852999925613403, 1.1852999925613403, 1.1852999925613403, 1.1852999925613403, 1.1852999925613403, 1.1851999759674072, 1.1851999759674072, 1.132099986076355, 1.1305999755859375, 1.020400047302246, 1.0645999908447266, 0.984000027179718, 1.063099980354309, 1.0442999601364136, 1.0371999740600586, 0.6202999949455261, 0.7055000066757202, 0.32839998602867126, 0.7865999937057495, 0.43689998984336853, 0.391400009393692, 0.4632999897003174, 0.1492999941110611, -0.21170000731945038, 0.4189000129699707, 0.41769999265670776, 0.45730000734329224, -0.6115000247955322, 0.14730000495910645, 0.3896999955177307, 0.7106999754905701]}, \"token.table\": {\"Topic\": [2, 2, 4, 4, 4, 1, 2, 1, 3, 1, 3, 3, 3, 1, 4, 4, 1, 2, 4, 1, 2, 3, 4, 2, 3, 4, 4, 3, 3, 3, 1, 2, 4, 2, 3, 2, 3, 3, 1, 4, 2, 1, 2, 3, 4, 2, 1, 1, 4, 3, 2, 3, 4, 1, 4, 1, 2, 2, 3, 1, 3, 4, 1, 3, 2, 4, 4, 2, 3, 2, 3, 4, 2, 1, 4, 2, 3, 4, 1, 4, 1, 1, 1, 2, 1, 2, 2, 4, 1, 2, 3, 1, 2, 3, 4, 1, 2, 4, 2, 2, 4, 4, 1, 2, 3, 4, 3, 3, 2, 4, 1, 4, 2, 4, 3, 1, 1, 4, 2, 3, 1, 3, 1, 2, 3, 4, 1, 2, 4, 1, 2, 1, 1, 4, 3, 1, 1, 2, 3, 1, 2, 4, 1, 2, 3, 4, 2, 1, 2, 1, 2, 1, 2, 1, 2, 4, 2, 4, 2, 3, 3, 1, 4, 4, 4, 2, 4, 1, 3, 1, 1, 2, 3, 1, 4, 1, 4, 1, 2, 2, 3, 3, 3, 3, 1, 2, 3, 2, 3, 2, 4, 1, 3, 4, 2, 2, 1, 4, 2, 3, 1, 2, 3, 4, 2, 1, 3, 1, 2, 3, 4, 4, 1, 2, 1, 4, 2, 1, 2, 3, 2, 1, 2, 1, 2, 3, 4, 2, 3, 1, 4, 1, 2, 3, 4, 2, 4, 1, 1, 2, 3, 4, 1, 4, 4, 3, 2, 3, 1, 1, 4, 3, 4, 1, 2, 3, 4, 4, 1, 1, 3, 4, 3, 3, 2, 2, 4, 2, 4, 1, 2], \"Freq\": [0.5148788690567017, 0.3996986448764801, 0.3996986448764801, 0.8446054458618164, 0.8446006774902344, 0.7186414003372192, 0.23954713344573975, 0.4066244065761566, 0.4066244065761566, 0.3318285644054413, 0.6636571288108826, 0.8475466370582581, 0.8475476503372192, 0.9661905169487, 0.8445983529090881, 0.8446000814437866, 0.23558306694030762, 0.23558306694030762, 0.47116613388061523, 0.29289424419403076, 0.29289424419403076, 0.14644712209701538, 0.29289424419403076, 0.5148826241493225, 0.5761887431144714, 0.8445987701416016, 0.8446053266525269, 0.8475465178489685, 0.8729678988456726, 0.8475472927093506, 0.23551534116268158, 0.23551534116268158, 0.47103068232536316, 0.5149221420288086, 0.8728974461555481, 0.7688937187194824, 0.8475471138954163, 0.5762439370155334, 0.7158187031745911, 0.844602644443512, 0.7792479991912842, 0.1708754152059555, 0.341750830411911, 0.25631314516067505, 0.25631314516067505, 0.7792478799819946, 0.9659553170204163, 0.966749370098114, 0.8446049690246582, 0.8475416898727417, 0.7792488932609558, 0.5762378573417664, 0.8446047902107239, 0.760404109954834, 0.380202054977417, 0.732561469078064, 0.366280734539032, 0.24624688923358917, 0.7387406826019287, 0.4096122682094574, 0.4096122682094574, 0.4096122682094574, 0.5974684953689575, 0.29873424768447876, 0.5148971676826477, 0.8446025848388672, 0.8446021676063538, 0.3275025486946106, 0.3275025486946106, 0.4003656804561615, 0.4003656804561615, 0.8446022272109985, 0.5149433016777039, 0.596440851688385, 0.2982204258441925, 0.2767491340637207, 0.2767491340637207, 0.2767491340637207, 0.5966141819953918, 0.2983070909976959, 0.9662132263183594, 0.9660765528678894, 0.9662489295005798, 0.7792491912841797, 0.3751245141029358, 0.3751245141029358, 0.4161663353443146, 0.4161663353443146, 0.580816924571991, 0.23232677578926086, 0.23232677578926086, 0.4027874767780304, 0.2013937383890152, 0.2013937383890152, 0.4027874767780304, 0.4608871340751648, 0.15362904965877533, 0.30725809931755066, 0.5148510336875916, 0.5149229764938354, 0.8446060419082642, 0.8446024656295776, 0.3434865474700928, 0.5152298212051392, 0.1717432737350464, 0.1717432737350464, 0.8475464582443237, 0.8475472927093506, 0.7792487144470215, 0.8445976376533508, 0.7606309652328491, 0.38031548261642456, 0.5149024724960327, 0.8445994257926941, 0.8475472927093506, 0.9681603312492371, 0.4060077965259552, 0.4060077965259552, 0.6336731910705566, 0.3168365955352783, 0.7617431282997131, 0.38087156414985657, 0.23056800663471222, 0.23056800663471222, 0.23056800663471222, 0.23056800663471222, 0.38987985253334045, 0.38987985253334045, 0.38987985253334045, 0.41919898986816406, 0.41919898986816406, 0.7181456089019775, 0.7166784405708313, 0.8446057438850403, 0.8475474715232849, 0.715748131275177, 0.7327158451080322, 0.3663579225540161, 0.5761853456497192, 0.7184816002845764, 0.23949386179447174, 0.8446059226989746, 0.5233926773071289, 0.26169633865356445, 0.26169633865356445, 0.26169633865356445, 0.5148895978927612, 0.9686055183410645, 0.7792481780052185, 0.59022057056427, 0.295110285282135, 0.33194777369499207, 0.6638955473899841, 0.3899044990539551, 0.3899044990539551, 0.3899044990539551, 0.6849960088729858, 0.22833199799060822, 0.4176010191440582, 0.4176010191440582, 0.5762290358543396, 0.4056592285633087, 0.4056592285633087, 0.8446049690246582, 0.5733201503753662, 0.39966756105422974, 0.39966756105422974, 0.9661026000976562, 0.5761799812316895, 0.9659464955329895, 0.38838762044906616, 0.38838762044906616, 0.19419381022453308, 0.9654372334480286, 0.844605565071106, 0.5332757234573364, 0.5332757234573364, 0.5463852286338806, 0.3642568290233612, 0.4003757834434509, 0.4003757834434509, 0.8475471138954163, 0.8475468754768372, 0.576212465763092, 0.2749263048171997, 0.2749263048171997, 0.5498526096343994, 0.7862586379051208, 0.2620862126350403, 0.7689384818077087, 0.8446058034896851, 0.7157028913497925, 0.8475472331047058, 0.8446051478385925, 0.7688911557197571, 0.7792479991912842, 0.5244486927986145, 0.5244486927986145, 0.4176640212535858, 0.4176640212535858, 0.44475284218788147, 0.22237642109394073, 0.22237642109394073, 0.22237642109394073, 0.7792489528656006, 0.40677931904792786, 0.40677931904792786, 0.20439413189888, 0.20439413189888, 0.40878826379776, 0.20439413189888, 0.5734325647354126, 0.41946738958358765, 0.41946738958358765, 0.6273062825202942, 0.3136531412601471, 0.7792478799819946, 0.7418498396873474, 0.4003707468509674, 0.4003707468509674, 0.7792477011680603, 0.9660524129867554, 0.7792486548423767, 0.11427590996026993, 0.11427590996026993, 0.4571036398410797, 0.3428277373313904, 0.7792476415634155, 0.8475474119186401, 0.6580270528793335, 0.16450676321983337, 0.8170008063316345, 0.20425020158290863, 0.57619309425354, 0.573533296585083, 0.41615214943885803, 0.41615214943885803, 0.9664313793182373, 0.41880038380622864, 0.2792002558708191, 0.13960012793540955, 0.13960012793540955, 0.5964346528053284, 0.2982173264026642, 0.5733219385147095, 0.8475472927093506, 0.32748034596443176, 0.32748034596443176, 0.7418505549430847, 0.966620922088623, 0.8446047902107239, 0.8475472927093506, 0.5732748508453369, 0.5803215503692627, 0.23212860524654388, 0.11606430262327194, 0.11606430262327194, 0.8682076334953308, 0.9679433107376099, 0.4062027335166931, 0.4062027335166931, 0.4062027335166931, 0.8475378751754761, 0.8475471138954163, 0.7688952088356018, 0.27606165409088135, 0.5521233081817627, 0.7792493104934692, 0.8446058034896851, 0.30086445808410645, 0.6017289161682129], \"Term\": [\"add\", \"also\", \"also\", \"apparently\", \"art\", \"ask\", \"ask\", \"average\", \"average\", \"back\", \"back\", \"bation\", \"blood\", \"body\", \"bored\", \"bother\", \"bottle\", \"bottle\", \"bottle\", \"british\", \"british\", \"british\", \"british\", \"bronze\", \"build\", \"byzantine\", \"camp\", \"car\", \"carrot\", \"century\", \"charge\", \"charge\", \"charge\", \"check\", \"chicken\", \"close\", \"cold\", \"colonial\", \"come\", \"conflict\", \"curate\", \"cypriot\", \"cypriot\", \"cypriot\", \"cypriot\", \"cyprus\", \"day\", \"death\", \"describe\", \"description\", \"descriptive\", \"detail\", \"detention\", \"difficult\", \"difficult\", \"direction\", \"direction\", \"dish\", \"dish\", \"document\", \"document\", \"document\", \"eat\", \"eat\", \"enough\", \"entry\", \"eventually\", \"exhibit\", \"exhibit\", \"experience\", \"experience\", \"eyeopener\", \"far\", \"fight\", \"fight\", \"fighter\", \"fighter\", \"fighter\", \"find\", \"find\", \"first\", \"fish\", \"floor\", \"freedom\", \"get\", \"get\", \"give\", \"give\", \"go\", \"go\", \"go\", \"great\", \"great\", \"great\", \"great\", \"greek\", \"greek\", \"greek\", \"group\", \"grow\", \"hagiography\", \"historic\", \"history\", \"history\", \"history\", \"history\", \"home\", \"hope\", \"hour\", \"icon\", \"incident\", \"incident\", \"inscription\", \"interested\", \"invade\", \"involve\", \"item\", \"item\", \"keep\", \"keep\", \"kill\", \"kill\", \"know\", \"know\", \"know\", \"know\", \"last\", \"last\", \"last\", \"late\", \"late\", \"lead\", \"leave\", \"liberation\", \"live\", \"local\", \"look\", \"look\", \"main\", \"make\", \"make\", \"maker\", \"many\", \"many\", \"many\", \"many\", \"marble\", \"matter\", \"memorial\", \"minute\", \"minute\", \"monument\", \"monument\", \"move\", \"move\", \"move\", \"much\", \"much\", \"national\", \"national\", \"new\", \"next\", \"next\", \"note\", \"occupation\", \"open\", \"open\", \"option\", \"pass\", \"pay\", \"people\", \"people\", \"people\", \"perfect\", \"perspective\", \"photo\", \"photo\", \"place\", \"place\", \"plate\", \"plate\", \"plunder\", \"podocatri\", \"potato\", \"present\", \"present\", \"present\", \"prison\", \"prison\", \"prisoner\", \"prose\", \"quick\", \"rape\", \"recognize\", \"release\", \"revolt\", \"role\", \"role\", \"rule\", \"rule\", \"see\", \"see\", \"see\", \"see\", \"seem\", \"serve\", \"serve\", \"service\", \"service\", \"service\", \"service\", \"several\", \"show\", \"show\", \"sit\", \"sit\", \"sober\", \"spend\", \"statue\", \"statue\", \"step\", \"still\", \"strike\", \"struggle\", \"struggle\", \"struggle\", \"struggle\", \"superbly\", \"symbol\", \"table\", \"table\", \"take\", \"take\", \"taste\", \"tell\", \"thing\", \"thing\", \"think\", \"time\", \"time\", \"time\", \"time\", \"translation\", \"translation\", \"try\", \"turk\", \"turkish\", \"turkish\", \"type\", \"uncomfortable\", \"unjust\", \"venetian\", \"view\", \"visit\", \"visit\", \"visit\", \"visit\", \"visitor\", \"vote\", \"waitress\", \"waitress\", \"waitress\", \"walk\", \"wall\", \"want\", \"water\", \"water\", \"wide\", \"woman\", \"worth\", \"worth\"]}, \"R\": 30, \"lambda.step\": 0.01, \"plot.opts\": {\"xlab\": \"PC1\", \"ylab\": \"PC2\"}, \"topic.order\": [4, 3, 1, 2]};\n",
       "\n",
       "function LDAvis_load_lib(url, callback){\n",
       "  var s = document.createElement('script');\n",
       "  s.src = url;\n",
       "  s.async = true;\n",
       "  s.onreadystatechange = s.onload = callback;\n",
       "  s.onerror = function(){console.warn(\"failed to load library \" + url);};\n",
       "  document.getElementsByTagName(\"head\")[0].appendChild(s);\n",
       "}\n",
       "\n",
       "if(typeof(LDAvis) !== \"undefined\"){\n",
       "   // already loaded: just create the visualization\n",
       "   !function(LDAvis){\n",
       "       new LDAvis(\"#\" + \"ldavis_el159001946922607176895967128\", ldavis_el159001946922607176895967128_data);\n",
       "   }(LDAvis);\n",
       "}else if(typeof define === \"function\" && define.amd){\n",
       "   // require.js is available: use it to load d3/LDAvis\n",
       "   require.config({paths: {d3: \"https://cdnjs.cloudflare.com/ajax/libs/d3/3.5.5/d3.min\"}});\n",
       "   require([\"d3\"], function(d3){\n",
       "      window.d3 = d3;\n",
       "      LDAvis_load_lib(\"https://cdn.rawgit.com/bmabey/pyLDAvis/files/ldavis.v1.0.0.js\", function(){\n",
       "        new LDAvis(\"#\" + \"ldavis_el159001946922607176895967128\", ldavis_el159001946922607176895967128_data);\n",
       "      });\n",
       "    });\n",
       "}else{\n",
       "    // require.js not available: dynamically load d3 & LDAvis\n",
       "    LDAvis_load_lib(\"https://cdnjs.cloudflare.com/ajax/libs/d3/3.5.5/d3.min.js\", function(){\n",
       "         LDAvis_load_lib(\"https://cdn.rawgit.com/bmabey/pyLDAvis/files/ldavis.v1.0.0.js\", function(){\n",
       "                 new LDAvis(\"#\" + \"ldavis_el159001946922607176895967128\", ldavis_el159001946922607176895967128_data);\n",
       "            })\n",
       "         });\n",
       "}\n",
       "</script>"
      ],
      "text/plain": [
       "PreparedData(topic_coordinates=              x         y  topics  cluster       Freq\n",
       "topic                                                \n",
       "3      0.105143  0.057903       1        1  36.303577\n",
       "2      0.044361 -0.100011       2        1  27.586130\n",
       "0     -0.096475 -0.056242       3        1  18.066011\n",
       "1     -0.053028  0.098350       4        1  18.044279, topic_info=         Term      Freq     Total Category  logprob  loglift\n",
       "402  struggle  8.000000  8.000000  Default  30.0000  30.0000\n",
       "117      dish  4.000000  4.000000  Default  29.0000  29.0000\n",
       "229  monument  6.000000  6.000000  Default  28.0000  28.0000\n",
       "140    bottle  4.000000  4.000000  Default  27.0000  27.0000\n",
       "18     charge  4.000000  4.000000  Default  26.0000  26.0000\n",
       "..        ...       ...       ...      ...      ...      ...\n",
       "137  waitress  0.701786  2.461825   Topic4  -5.5263   0.4573\n",
       "60       time  0.701292  7.163317   Topic4  -5.5270  -0.6115\n",
       "24       find  0.700854  3.352250   Topic4  -5.5276   0.1473\n",
       "453  incident  0.700537  2.629396   Topic4  -5.5281   0.3897\n",
       "89       role  0.700318  1.906764   Topic4  -5.5284   0.7107\n",
       "\n",
       "[235 rows x 6 columns], token_table=      Topic      Freq        Term\n",
       "term                             \n",
       "262       2  0.514879         add\n",
       "34        2  0.399699        also\n",
       "34        4  0.399699        also\n",
       "443       4  0.844605  apparently\n",
       "10        4  0.844601         art\n",
       "...     ...       ...         ...\n",
       "50        4  0.552123       water\n",
       "531       2  0.779249        wide\n",
       "463       4  0.844606       woman\n",
       "111       1  0.300864       worth\n",
       "111       2  0.601729       worth\n",
       "\n",
       "[271 rows x 3 columns], R=30, lambda_step=0.01, plot_opts={'xlab': 'PC1', 'ylab': 'PC2'}, topic_order=[4, 3, 1, 2])"
      ]
     },
     "metadata": {},
     "output_type": "display_data"
    }
   ],
   "source": [
    "plot_model(lda_neg_custom, plot ='topic_model')"
   ]
  },
  {
   "cell_type": "code",
   "execution_count": 44,
   "metadata": {},
   "outputs": [
    {
     "name": "stdout",
     "output_type": "stream",
     "text": [
      "LdaModel(num_terms=555, num_topics=2, decay=0.5, chunksize=100)\n"
     ]
    }
   ],
   "source": [
    "#create an LDA model\n",
    "lda_neg_2 = create_model('lda', num_topics=2)\n",
    "print(lda_neg_2)"
   ]
  },
  {
   "cell_type": "code",
   "execution_count": 45,
   "metadata": {},
   "outputs": [],
   "source": [
    "apply_lda_neg = assign_model(lda_neg_2)"
   ]
  },
  {
   "cell_type": "code",
   "execution_count": 46,
   "metadata": {},
   "outputs": [
    {
     "data": {
      "text/html": [
       "        <script type=\"text/javascript\">\n",
       "        window.PlotlyConfig = {MathJaxConfig: 'local'};\n",
       "        if (window.MathJax) {MathJax.Hub.Config({SVG: {font: \"STIX-Web\"}});}\n",
       "        if (typeof require !== 'undefined') {\n",
       "        require.undef(\"plotly\");\n",
       "        requirejs.config({\n",
       "            paths: {\n",
       "                'plotly': ['https://cdn.plot.ly/plotly-latest.min']\n",
       "            }\n",
       "        });\n",
       "        require(['plotly'], function(Plotly) {\n",
       "            window._Plotly = Plotly;\n",
       "        });\n",
       "        }\n",
       "        </script>\n",
       "        "
      ]
     },
     "metadata": {},
     "output_type": "display_data"
    },
    {
     "data": {
      "text/html": [
       "\n",
       "<link rel=\"stylesheet\" type=\"text/css\" href=\"https://cdn.rawgit.com/bmabey/pyLDAvis/files/ldavis.v1.0.0.css\">\n",
       "\n",
       "\n",
       "<div id=\"ldavis_el1590019467983466961738829019\"></div>\n",
       "<script type=\"text/javascript\">\n",
       "\n",
       "var ldavis_el1590019467983466961738829019_data = {\"mdsDat\": {\"x\": [-0.01922392012188388, 0.01922392012188388], \"y\": [0.06068508293617331, -0.06068508293617331], \"topics\": [1, 2], \"cluster\": [1, 1], \"Freq\": [50.0568733215332, 49.9431266784668]}, \"tinfo\": {\"Term\": [\"table\", \"dish\", \"late\", \"prison\", \"turkish\", \"exhibit\", \"keep\", \"minute\", \"sit\", \"people\", \"greek\", \"atmosphere\", \"carrot\", \"release\", \"chicken\", \"rule\", \"prisoner\", \"statue\", \"local\", \"kill\", \"next\", \"give\", \"last\", \"arrive\", \"special\", \"lead\", \"visitor\", \"leave\", \"show\", \"bottle\", \"table\", \"late\", \"minute\", \"sit\", \"next\", \"give\", \"last\", \"arrive\", \"special\", \"lead\", \"visitor\", \"leave\", \"item\", \"several\", \"enough\", \"wait\", \"try\", \"sign\", \"tell\", \"tasty\", \"think\", \"involve\", \"role\", \"vote\", \"uncomfortable\", \"option\", \"matter\", \"fish\", \"believe\", \"occupation\", \"bottle\", \"take\", \"greek\", \"time\", \"photo\", \"visit\", \"charge\", \"struggle\", \"cypriot\", \"go\", \"eoka\", \"eat\", \"high\", \"british\", \"place\", \"water\", \"many\", \"much\", \"great\", \"dish\", \"prison\", \"turkish\", \"exhibit\", \"keep\", \"atmosphere\", \"carrot\", \"release\", \"chicken\", \"rule\", \"prisoner\", \"statue\", \"local\", \"kill\", \"new\", \"potato\", \"taste\", \"peasant\", \"erect\", \"overall\", \"liberate\", \"perfect\", \"dinner\", \"build\", \"mainly\", \"main\", \"today\", \"check\", \"pass\", \"colonial\", \"people\", \"show\", \"monument\", \"fighter\", \"present\", \"service\", \"cypriot\", \"history\", \"know\", \"see\", \"struggle\", \"back\", \"go\", \"british\", \"great\", \"visit\", \"place\", \"time\", \"make\"], \"Freq\": [5.0, 4.0, 4.0, 3.0, 3.0, 3.0, 3.0, 3.0, 3.0, 5.0, 6.0, 2.0, 2.0, 2.0, 2.0, 2.0, 2.0, 2.0, 2.0, 2.0, 2.0, 2.0, 2.0, 2.0, 2.0, 2.0, 2.0, 2.0, 4.0, 4.0, 5.4101643562316895, 4.142299652099609, 2.864861249923706, 2.863981246948242, 2.230677366256714, 2.229876756668091, 2.229152202606201, 2.2291252613067627, 2.2290284633636475, 2.2258965969085693, 2.224667549133301, 2.224461078643799, 2.213597059249878, 1.595503330230713, 1.5950431823730469, 1.5950181484222412, 1.595007300376892, 1.5941532850265503, 1.5938670635223389, 1.5928410291671753, 1.592585563659668, 1.591690182685852, 1.5915628671646118, 1.591288447380066, 1.590685248374939, 1.590514898300171, 1.5898292064666748, 1.5886026620864868, 1.586333155632019, 1.5841578245162964, 3.5068747997283936, 3.499579668045044, 4.777082443237305, 4.78346061706543, 2.850001573562622, 4.762332916259766, 2.8847360610961914, 4.777891635894775, 5.401007652282715, 4.141173362731934, 2.2254257202148438, 2.224860668182373, 2.224846839904785, 3.5228078365325928, 2.861158609390259, 2.2669718265533447, 2.2326607704162598, 2.240043878555298, 2.238203525543213, 4.13295316696167, 3.498628854751587, 2.861025810241699, 2.857724905014038, 2.8557791709899902, 2.226698637008667, 2.226651668548584, 2.226494312286377, 2.2263388633728027, 2.225543260574341, 2.225404739379883, 2.224924325942993, 2.222957134246826, 2.2228260040283203, 1.5910117626190186, 1.5909576416015625, 1.5904085636138916, 1.590406894683838, 1.5903977155685425, 1.5903539657592773, 1.5902541875839233, 1.590044379234314, 1.590025782585144, 1.5899180173873901, 1.5897046327590942, 1.5896413326263428, 1.5896025896072388, 1.5895516872406006, 1.5895147323608398, 1.5894919633865356, 4.133200645446777, 3.4948432445526123, 4.1316118240356445, 2.879274368286133, 2.8615145683288574, 3.4957871437072754, 6.713980197906494, 3.516958713531494, 2.8756022453308105, 2.864490270614624, 4.788248538970947, 2.231588363647461, 4.149467468261719, 3.492393732070923, 2.8626580238342285, 3.530362606048584, 2.2417640686035156, 2.235912561416626, 2.228968620300293], \"Total\": [5.0, 4.0, 4.0, 3.0, 3.0, 3.0, 3.0, 3.0, 3.0, 5.0, 6.0, 2.0, 2.0, 2.0, 2.0, 2.0, 2.0, 2.0, 2.0, 2.0, 2.0, 2.0, 2.0, 2.0, 2.0, 2.0, 2.0, 2.0, 4.0, 4.0, 5.748110294342041, 4.470522403717041, 3.1929030418395996, 3.1929004192352295, 2.5541090965270996, 2.5541062355041504, 2.554102659225464, 2.5541040897369385, 2.554103374481201, 2.5540919303894043, 2.5540876388549805, 2.554086923599243, 2.5540482997894287, 1.9153118133544922, 1.9153099060058594, 1.9153093099594116, 1.9153094291687012, 1.9153063297271729, 1.9153058528900146, 1.9153022766113281, 1.9153012037277222, 1.9152979850769043, 1.915297508239746, 1.9152965545654297, 1.9152941703796387, 1.9152936935424805, 1.9152911901474, 1.9152863025665283, 1.915278434753418, 1.9152706861495972, 4.468367576599121, 4.468344688415527, 6.382657051086426, 7.019372940063477, 3.8294997215270996, 8.292695999145508, 4.466305732727051, 9.566140174865723, 12.114988327026367, 8.290640830993652, 3.19073486328125, 3.190732955932617, 3.190732955932617, 7.015201568603516, 5.102922439575195, 3.8275623321533203, 3.827451229095459, 4.464170455932617, 5.100861549377441, 4.457891941070557, 3.821187973022461, 3.1844940185546875, 3.184504508972168, 3.1845104694366455, 2.547790288925171, 2.547790765762329, 2.547791004180908, 2.5477912425994873, 2.5477938652038574, 2.5477945804595947, 2.547795295715332, 2.5478012561798096, 2.547802209854126, 1.9110913276672363, 1.911091685295105, 1.9110933542251587, 1.91109299659729, 1.911092758178711, 1.9110926389694214, 1.9110935926437378, 1.9110934734344482, 1.911094069480896, 1.9110945463180542, 1.911095142364502, 1.911095380783081, 1.9110949039459229, 1.9110954999923706, 1.9110954999923706, 1.9110956192016602, 5.096647262573242, 4.459957599639893, 5.735459804534912, 3.8231844902038574, 3.823249101638794, 5.098759651184082, 12.114988327026367, 5.737499237060547, 4.462007999420166, 4.462045669555664, 9.566140174865723, 3.1865286827087402, 8.290640830993652, 7.015201568603516, 5.100861549377441, 8.292695999145508, 5.102922439575195, 7.019372940063477, 3.825345277786255], \"Category\": [\"Default\", \"Default\", \"Default\", \"Default\", \"Default\", \"Default\", \"Default\", \"Default\", \"Default\", \"Default\", \"Default\", \"Default\", \"Default\", \"Default\", \"Default\", \"Default\", \"Default\", \"Default\", \"Default\", \"Default\", \"Default\", \"Default\", \"Default\", \"Default\", \"Default\", \"Default\", \"Default\", \"Default\", \"Default\", \"Default\", \"Topic1\", \"Topic1\", \"Topic1\", \"Topic1\", \"Topic1\", \"Topic1\", \"Topic1\", \"Topic1\", \"Topic1\", \"Topic1\", \"Topic1\", \"Topic1\", \"Topic1\", \"Topic1\", \"Topic1\", \"Topic1\", \"Topic1\", \"Topic1\", \"Topic1\", \"Topic1\", \"Topic1\", \"Topic1\", \"Topic1\", \"Topic1\", \"Topic1\", \"Topic1\", \"Topic1\", \"Topic1\", \"Topic1\", \"Topic1\", \"Topic1\", \"Topic1\", \"Topic1\", \"Topic1\", \"Topic1\", \"Topic1\", \"Topic1\", \"Topic1\", \"Topic1\", \"Topic1\", \"Topic1\", \"Topic1\", \"Topic1\", \"Topic1\", \"Topic1\", \"Topic1\", \"Topic1\", \"Topic1\", \"Topic1\", \"Topic2\", \"Topic2\", \"Topic2\", \"Topic2\", \"Topic2\", \"Topic2\", \"Topic2\", \"Topic2\", \"Topic2\", \"Topic2\", \"Topic2\", \"Topic2\", \"Topic2\", \"Topic2\", \"Topic2\", \"Topic2\", \"Topic2\", \"Topic2\", \"Topic2\", \"Topic2\", \"Topic2\", \"Topic2\", \"Topic2\", \"Topic2\", \"Topic2\", \"Topic2\", \"Topic2\", \"Topic2\", \"Topic2\", \"Topic2\", \"Topic2\", \"Topic2\", \"Topic2\", \"Topic2\", \"Topic2\", \"Topic2\", \"Topic2\", \"Topic2\", \"Topic2\", \"Topic2\", \"Topic2\", \"Topic2\", \"Topic2\", \"Topic2\", \"Topic2\", \"Topic2\", \"Topic2\", \"Topic2\", \"Topic2\"], \"logprob\": [30.0, 29.0, 28.0, 27.0, 26.0, 25.0, 24.0, 23.0, 22.0, 21.0, 20.0, 19.0, 18.0, 17.0, 16.0, 15.0, 14.0, 13.0, 12.0, 11.0, 10.0, 9.0, 8.0, 7.0, 6.0, 5.0, 4.0, 3.0, 2.0, 1.0, -4.504199981689453, -4.771200180053711, -5.139999866485596, -5.1402997970581055, -5.390200138092041, -5.390500068664551, -5.390900135040283, -5.390900135040283, -5.390900135040283, -5.392300128936768, -5.392899990081787, -5.39300012588501, -5.397900104522705, -5.725299835205078, -5.725599765777588, -5.725599765777588, -5.725599765777588, -5.726099967956543, -5.72629976272583, -5.7270002365112305, -5.727099895477295, -5.727700233459473, -5.727799892425537, -5.72790002822876, -5.728300094604492, -5.728400230407715, -5.728799819946289, -5.729599952697754, -5.731100082397461, -5.732399940490723, -4.93779993057251, -4.939799785614014, -4.628600120544434, -4.627299785614014, -5.145199775695801, -4.631700038909912, -5.132999897003174, -4.628499984741211, -4.505899906158447, -4.771500110626221, -5.392499923706055, -5.3927998542785645, -5.3927998542785645, -4.933199882507324, -5.141200065612793, -5.374000072479248, -5.3892998695373535, -5.386000156402588, -5.3867998123168945, -4.771200180053711, -4.93779993057251, -5.138999938964844, -5.140200138092041, -5.140900135040283, -5.389699935913086, -5.389699935913086, -5.389800071716309, -5.389800071716309, -5.390200138092041, -5.3902997970581055, -5.390500068664551, -5.39139986038208, -5.39139986038208, -5.725800037384033, -5.725900173187256, -5.726200103759766, -5.726200103759766, -5.726200103759766, -5.726200103759766, -5.72629976272583, -5.726399898529053, -5.726500034332275, -5.726500034332275, -5.7266998291015625, -5.7266998291015625, -5.7266998291015625, -5.7266998291015625, -5.726799964904785, -5.726799964904785, -4.771100044250488, -4.938899993896484, -4.771500110626221, -5.132699966430664, -5.138899803161621, -4.938600063323975, -4.285999774932861, -4.932600021362305, -5.133900165557861, -5.137800216674805, -4.624000072479248, -5.387499809265137, -4.767199993133545, -4.939599990844727, -5.138500213623047, -4.928800106048584, -5.382900238037109, -5.3856000900268555, -5.388700008392334], \"loglift\": [30.0, 29.0, 28.0, 27.0, 26.0, 25.0, 24.0, 23.0, 22.0, 21.0, 20.0, 19.0, 18.0, 17.0, 16.0, 15.0, 14.0, 13.0, 12.0, 11.0, 10.0, 9.0, 8.0, 7.0, 6.0, 5.0, 4.0, 3.0, 2.0, 1.0, 0.6313999891281128, 0.6158000230789185, 0.5835999846458435, 0.583299994468689, 0.5565999746322632, 0.5562999844551086, 0.555899977684021, 0.555899977684021, 0.555899977684021, 0.5544999837875366, 0.5539000034332275, 0.5537999868392944, 0.5489000082015991, 0.5092999935150146, 0.5090000033378601, 0.5090000033378601, 0.5090000033378601, 0.5084999799728394, 0.5083000063896179, 0.5077000260353088, 0.5074999928474426, 0.5069000124931335, 0.5069000124931335, 0.5066999793052673, 0.5062999725341797, 0.5062000155448914, 0.5058000087738037, 0.5049999952316284, 0.503600001335144, 0.5022000074386597, 0.4496999979019165, 0.44760000705718994, 0.40230000019073486, 0.3084999918937683, 0.39660000801086426, 0.13740000128746033, 0.2549000084400177, -0.002199999988079071, -0.11580000072717667, -0.002099999925121665, 0.33169999718666077, 0.33149999380111694, 0.3314000070095062, 0.0031999999191612005, 0.11339999735355377, 0.16820000112056732, 0.15299999713897705, 0.002400000113993883, -0.13169999420642853, 0.6186000108718872, 0.6061000227928162, 0.5871999859809875, 0.5860000252723694, 0.5853000283241272, 0.5595999956130981, 0.5595999956130981, 0.559499979019165, 0.5594000220298767, 0.5590999722480774, 0.5590000152587891, 0.5587999820709229, 0.5579000115394592, 0.5577999949455261, 0.5109999775886536, 0.5109000205993652, 0.5105999708175659, 0.5105999708175659, 0.5105999708175659, 0.5105999708175659, 0.5105000138282776, 0.5103999972343445, 0.5103999972343445, 0.5102999806404114, 0.510200023651123, 0.5101000070571899, 0.5101000070571899, 0.5101000070571899, 0.5099999904632568, 0.5099999904632568, 0.4848000109195709, 0.4503999948501587, 0.36629998683929443, 0.4106999933719635, 0.40450000762939453, 0.31679999828338623, 0.10400000214576721, 0.20489999651908875, 0.2549000084400177, 0.25110000371932983, 0.002199999988079071, 0.33809998631477356, 0.002099999925121665, -0.0031999999191612005, 0.11659999936819077, -0.15970000624656677, -0.1282999962568283, -0.4496999979019165, 0.1542000025510788]}, \"token.table\": {\"Topic\": [1, 2, 1, 2, 1, 1, 2, 1, 2, 2, 2, 1, 2, 2, 2, 2, 1, 2, 2, 2, 1, 2, 1, 1, 2, 2, 2, 1, 2, 1, 1, 1, 2, 1, 2, 1, 2, 1, 2, 1, 2, 1, 1, 2, 2, 1, 2, 1, 1, 1, 1, 2, 2, 2, 2, 1, 2, 1, 2, 1, 1, 1, 2, 1, 2, 2, 1, 1, 1, 2, 2, 2, 1, 2, 2, 1, 2, 1, 2, 2, 1, 2, 2, 2, 2, 1, 2, 1, 2, 1, 2, 1, 1, 2, 1, 1, 1, 2, 1, 2, 1, 1, 2, 2, 1, 1, 1, 1, 2, 2, 1, 2, 1, 1, 2, 1, 1, 1, 1, 2], \"Freq\": [0.783053457736969, 0.7849939465522766, 0.31382110714912415, 0.6276422142982483, 1.0442346334457397, 0.8951814770698547, 0.22379536926746368, 0.5701903104782104, 0.42764273285865784, 1.046520709991455, 0.7849938273429871, 0.6716960668563843, 0.44779738783836365, 1.0465202331542969, 0.7849936485290527, 1.0465201139450073, 0.4127119183540344, 0.5777966976165771, 1.0465209484100342, 0.8972851037979126, 0.6268151998519897, 0.3134075999259949, 1.0442174673080444, 0.6268148422241211, 0.31340742111206055, 1.0465216636657715, 0.9420617818832397, 0.2615620493888855, 0.7846861481666565, 1.044230341911316, 0.7830528020858765, 0.482471764087677, 0.482471764087677, 0.3920906186103821, 0.5881359577178955, 0.7833728194236755, 0.3133491277694702, 0.6268151998519897, 0.3134075999259949, 0.3485839366912842, 0.6971678733825684, 1.0442239046096802, 0.7830705642700195, 0.9420599937438965, 0.7849903106689453, 0.4482286870479584, 0.6723430156707764, 0.7830538749694824, 0.8947499990463257, 0.7830571532249451, 0.7830587029457092, 1.0465211868286133, 0.7849906086921692, 1.0465202331542969, 1.0465203523635864, 0.5228286385536194, 0.5228286385536194, 0.5225409269332886, 0.5225409269332886, 1.0442276000976562, 0.9395838379859924, 0.3487078845500946, 0.6974157691001892, 0.448011577129364, 0.448011577129364, 1.0465224981307983, 0.7830519080162048, 1.044238805770874, 1.0442262887954712, 1.046521782875061, 1.0465202331542969, 1.046521544456482, 0.1962074190378189, 0.7848296761512756, 1.0465213060379028, 0.7833921313285828, 0.2611307203769684, 0.5878984332084656, 0.39193227887153625, 1.0465222597122192, 0.2615576386451721, 0.7846729159355164, 0.7850961685180664, 0.7849926352500916, 0.7849937677383423, 1.0442241430282593, 0.7849928736686707, 0.44822490215301514, 0.6723373532295227, 0.39225226640701294, 0.588378369808197, 1.0442163944244385, 0.22421738505363464, 0.6726521253585815, 1.0442193746566772, 0.9395845532417297, 0.7830536365509033, 0.7849923968315125, 0.5226768255233765, 0.5226768255233765, 0.8698511123657227, 0.6713895797729492, 0.2237965166568756, 1.0465213060379028, 1.0442216396331787, 1.0442196130752563, 1.0442222356796265, 0.7123143672943115, 0.2849257290363312, 1.046520471572876, 1.0442177057266235, 0.9420648813247681, 1.044226050376892, 0.6029402017593384, 0.4823521673679352, 0.7830584645271301, 1.044224739074707, 1.0442177057266235, 0.5225257873535156, 0.5225257873535156], \"Term\": [\"arrive\", \"atmosphere\", \"back\", \"back\", \"believe\", \"bottle\", \"bottle\", \"british\", \"british\", \"build\", \"carrot\", \"charge\", \"charge\", \"check\", \"chicken\", \"colonial\", \"cypriot\", \"cypriot\", \"dinner\", \"dish\", \"eat\", \"eat\", \"enough\", \"eoka\", \"eoka\", \"erect\", \"exhibit\", \"fighter\", \"fighter\", \"fish\", \"give\", \"go\", \"go\", \"great\", \"great\", \"greek\", \"greek\", \"high\", \"high\", \"history\", \"history\", \"involve\", \"item\", \"keep\", \"kill\", \"know\", \"know\", \"last\", \"late\", \"lead\", \"leave\", \"liberate\", \"local\", \"main\", \"mainly\", \"make\", \"make\", \"many\", \"many\", \"matter\", \"minute\", \"monument\", \"monument\", \"much\", \"much\", \"new\", \"next\", \"occupation\", \"option\", \"overall\", \"pass\", \"peasant\", \"people\", \"people\", \"perfect\", \"photo\", \"photo\", \"place\", \"place\", \"potato\", \"present\", \"present\", \"prison\", \"prisoner\", \"release\", \"role\", \"rule\", \"see\", \"see\", \"service\", \"service\", \"several\", \"show\", \"show\", \"sign\", \"sit\", \"special\", \"statue\", \"struggle\", \"struggle\", \"table\", \"take\", \"take\", \"taste\", \"tasty\", \"tell\", \"think\", \"time\", \"time\", \"today\", \"try\", \"turkish\", \"uncomfortable\", \"visit\", \"visit\", \"visitor\", \"vote\", \"wait\", \"water\", \"water\"]}, \"R\": 30, \"lambda.step\": 0.01, \"plot.opts\": {\"xlab\": \"PC1\", \"ylab\": \"PC2\"}, \"topic.order\": [2, 1]};\n",
       "\n",
       "function LDAvis_load_lib(url, callback){\n",
       "  var s = document.createElement('script');\n",
       "  s.src = url;\n",
       "  s.async = true;\n",
       "  s.onreadystatechange = s.onload = callback;\n",
       "  s.onerror = function(){console.warn(\"failed to load library \" + url);};\n",
       "  document.getElementsByTagName(\"head\")[0].appendChild(s);\n",
       "}\n",
       "\n",
       "if(typeof(LDAvis) !== \"undefined\"){\n",
       "   // already loaded: just create the visualization\n",
       "   !function(LDAvis){\n",
       "       new LDAvis(\"#\" + \"ldavis_el1590019467983466961738829019\", ldavis_el1590019467983466961738829019_data);\n",
       "   }(LDAvis);\n",
       "}else if(typeof define === \"function\" && define.amd){\n",
       "   // require.js is available: use it to load d3/LDAvis\n",
       "   require.config({paths: {d3: \"https://cdnjs.cloudflare.com/ajax/libs/d3/3.5.5/d3.min\"}});\n",
       "   require([\"d3\"], function(d3){\n",
       "      window.d3 = d3;\n",
       "      LDAvis_load_lib(\"https://cdn.rawgit.com/bmabey/pyLDAvis/files/ldavis.v1.0.0.js\", function(){\n",
       "        new LDAvis(\"#\" + \"ldavis_el1590019467983466961738829019\", ldavis_el1590019467983466961738829019_data);\n",
       "      });\n",
       "    });\n",
       "}else{\n",
       "    // require.js not available: dynamically load d3 & LDAvis\n",
       "    LDAvis_load_lib(\"https://cdnjs.cloudflare.com/ajax/libs/d3/3.5.5/d3.min.js\", function(){\n",
       "         LDAvis_load_lib(\"https://cdn.rawgit.com/bmabey/pyLDAvis/files/ldavis.v1.0.0.js\", function(){\n",
       "                 new LDAvis(\"#\" + \"ldavis_el1590019467983466961738829019\", ldavis_el1590019467983466961738829019_data);\n",
       "            })\n",
       "         });\n",
       "}\n",
       "</script>"
      ],
      "text/plain": [
       "PreparedData(topic_coordinates=              x         y  topics  cluster       Freq\n",
       "topic                                                \n",
       "1     -0.019224  0.060685       1        1  50.056873\n",
       "0      0.019224 -0.060685       2        1  49.943127, topic_info=        Term      Freq     Total Category  logprob  loglift\n",
       "175    table  5.000000  5.000000  Default  30.0000  30.0000\n",
       "117     dish  4.000000  4.000000  Default  29.0000  29.0000\n",
       "110     late  4.000000  4.000000  Default  28.0000  28.0000\n",
       "287   prison  3.000000  3.000000  Default  27.0000  27.0000\n",
       "297  turkish  3.000000  3.000000  Default  26.0000  26.0000\n",
       "..       ...       ...       ...      ...      ...      ...\n",
       "52     great  2.862658  5.100862   Topic2  -5.1385   0.1166\n",
       "33     visit  3.530363  8.292696   Topic2  -4.9288  -0.1597\n",
       "29     place  2.241764  5.102922   Topic2  -5.3829  -0.1283\n",
       "60      time  2.235913  7.019373   Topic2  -5.3856  -0.4497\n",
       "165     make  2.228969  3.825345   Topic2  -5.3887   0.1542\n",
       "\n",
       "[128 rows x 6 columns], token_table=      Topic      Freq        Term\n",
       "term                             \n",
       "151       1  0.783053      arrive\n",
       "103       2  0.784994  atmosphere\n",
       "152       1  0.313821        back\n",
       "152       2  0.627642        back\n",
       "359       1  1.044235     believe\n",
       "...     ...       ...         ...\n",
       "514       1  0.783058     visitor\n",
       "404       1  1.044225        vote\n",
       "63        1  1.044218        wait\n",
       "50        1  0.522526       water\n",
       "50        2  0.522526       water\n",
       "\n",
       "[120 rows x 3 columns], R=30, lambda_step=0.01, plot_opts={'xlab': 'PC1', 'ylab': 'PC2'}, topic_order=[2, 1])"
      ]
     },
     "metadata": {},
     "output_type": "display_data"
    },
    {
     "ename": "SystemExit",
     "evalue": "(Type Error): Model parameter Missing. Plot not supported without specific model passed in as Model param.",
     "output_type": "error",
     "traceback": [
      "An exception has occurred, use %tb to see the full traceback.\n",
      "\u001b[1;31mSystemExit\u001b[0m\u001b[1;31m:\u001b[0m (Type Error): Model parameter Missing. Plot not supported without specific model passed in as Model param.\n"
     ]
    }
   ],
   "source": [
    "plot_model(plot_model(lda_neg_custom, plot ='topic_model'), plot ='topic_model')"
   ]
  },
  {
   "cell_type": "code",
   "execution_count": null,
   "metadata": {},
   "outputs": [],
   "source": []
  }
 ],
 "metadata": {
  "kernelspec": {
   "display_name": "Python 3",
   "language": "python",
   "name": "python3"
  },
  "language_info": {
   "codemirror_mode": {
    "name": "ipython",
    "version": 3
   },
   "file_extension": ".py",
   "mimetype": "text/x-python",
   "name": "python",
   "nbconvert_exporter": "python",
   "pygments_lexer": "ipython3",
   "version": "3.7.4"
  }
 },
 "nbformat": 4,
 "nbformat_minor": 2
}
