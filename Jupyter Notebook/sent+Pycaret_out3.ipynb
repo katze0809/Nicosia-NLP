{
 "cells": [
  {
   "cell_type": "code",
   "execution_count": 2,
   "metadata": {},
   "outputs": [],
   "source": [
    "import pandas as pd"
   ]
  },
  {
   "cell_type": "code",
   "execution_count": 3,
   "metadata": {},
   "outputs": [
    {
     "data": {
      "text/html": [
       "<div>\n",
       "<style scoped>\n",
       "    .dataframe tbody tr th:only-of-type {\n",
       "        vertical-align: middle;\n",
       "    }\n",
       "\n",
       "    .dataframe tbody tr th {\n",
       "        vertical-align: top;\n",
       "    }\n",
       "\n",
       "    .dataframe thead th {\n",
       "        text-align: right;\n",
       "    }\n",
       "</style>\n",
       "<table border=\"1\" class=\"dataframe\">\n",
       "  <thead>\n",
       "    <tr style=\"text-align: right;\">\n",
       "      <th></th>\n",
       "      <th>r_points</th>\n",
       "      <th>r_text</th>\n",
       "      <th>place</th>\n",
       "    </tr>\n",
       "  </thead>\n",
       "  <tbody>\n",
       "    <tr>\n",
       "      <th>0</th>\n",
       "      <td>50</td>\n",
       "      <td>Highly recommended. Very elegant environment w...</td>\n",
       "      <td>The Gym</td>\n",
       "    </tr>\n",
       "    <tr>\n",
       "      <th>1</th>\n",
       "      <td>50</td>\n",
       "      <td>Went down on a whim, had the bao buns which wo...</td>\n",
       "      <td>The Gym</td>\n",
       "    </tr>\n",
       "    <tr>\n",
       "      <th>2</th>\n",
       "      <td>10</td>\n",
       "      <td>I paid 13 euros for 3 miserable bao buns that ...</td>\n",
       "      <td>The Gym</td>\n",
       "    </tr>\n",
       "    <tr>\n",
       "      <th>3</th>\n",
       "      <td>50</td>\n",
       "      <td>Very professional, respectful and kind staff. ...</td>\n",
       "      <td>The Gym</td>\n",
       "    </tr>\n",
       "    <tr>\n",
       "      <th>4</th>\n",
       "      <td>50</td>\n",
       "      <td>Definitely suggested, amazing cocktails and fo...</td>\n",
       "      <td>The Gym</td>\n",
       "    </tr>\n",
       "    <tr>\n",
       "      <th>...</th>\n",
       "      <td>...</td>\n",
       "      <td>...</td>\n",
       "      <td>...</td>\n",
       "    </tr>\n",
       "    <tr>\n",
       "      <th>226</th>\n",
       "      <td>30</td>\n",
       "      <td>We visited The Gym last Saturday for a quick l...</td>\n",
       "      <td>The Gym</td>\n",
       "    </tr>\n",
       "    <tr>\n",
       "      <th>227</th>\n",
       "      <td>40</td>\n",
       "      <td>Great casual atmosphere with great food and go...</td>\n",
       "      <td>The Gym</td>\n",
       "    </tr>\n",
       "    <tr>\n",
       "      <th>228</th>\n",
       "      <td>40</td>\n",
       "      <td>Went here a couple of times. Once for drinks,,...</td>\n",
       "      <td>The Gym</td>\n",
       "    </tr>\n",
       "    <tr>\n",
       "      <th>229</th>\n",
       "      <td>50</td>\n",
       "      <td>While not excited because let downs seem to be...</td>\n",
       "      <td>The Gym</td>\n",
       "    </tr>\n",
       "    <tr>\n",
       "      <th>230</th>\n",
       "      <td>50</td>\n",
       "      <td>Nicosia's food scene is pretty uninspiring, bu...</td>\n",
       "      <td>The Gym</td>\n",
       "    </tr>\n",
       "  </tbody>\n",
       "</table>\n",
       "<p>231 rows × 3 columns</p>\n",
       "</div>"
      ],
      "text/plain": [
       "     r_points                                             r_text    place\n",
       "0          50  Highly recommended. Very elegant environment w...  The Gym\n",
       "1          50  Went down on a whim, had the bao buns which wo...  The Gym\n",
       "2          10  I paid 13 euros for 3 miserable bao buns that ...  The Gym\n",
       "3          50  Very professional, respectful and kind staff. ...  The Gym\n",
       "4          50  Definitely suggested, amazing cocktails and fo...  The Gym\n",
       "..        ...                                                ...      ...\n",
       "226        30  We visited The Gym last Saturday for a quick l...  The Gym\n",
       "227        40  Great casual atmosphere with great food and go...  The Gym\n",
       "228        40  Went here a couple of times. Once for drinks,,...  The Gym\n",
       "229        50  While not excited because let downs seem to be...  The Gym\n",
       "230        50  Nicosia's food scene is pretty uninspiring, bu...  The Gym\n",
       "\n",
       "[231 rows x 3 columns]"
      ]
     },
     "execution_count": 3,
     "metadata": {},
     "output_type": "execute_result"
    }
   ],
   "source": [
    "tripadv_review = pd.read_csv(r'C:\\Users\\Dell\\Desktop\\Restaurant\\The Gym.csv', error_bad_lines=False);\n",
    "tripadv_review"
   ]
  },
  {
   "cell_type": "code",
   "execution_count": 4,
   "metadata": {},
   "outputs": [
    {
     "name": "stderr",
     "output_type": "stream",
     "text": [
      "[nltk_data] Downloading package vader_lexicon to\n",
      "[nltk_data]     C:\\Users\\Dell\\AppData\\Roaming\\nltk_data...\n",
      "[nltk_data]   Package vader_lexicon is already up-to-date!\n"
     ]
    }
   ],
   "source": [
    "import nltk\n",
    "nltk.download('vader_lexicon')\n",
    "from nltk.sentiment.vader import SentimentIntensityAnalyzer\n",
    "sent = SentimentIntensityAnalyzer()"
   ]
  },
  {
   "cell_type": "code",
   "execution_count": 5,
   "metadata": {},
   "outputs": [
    {
     "data": {
      "text/plain": [
       "{'neg': 0.0, 'neu': 0.533, 'pos': 0.467, 'compound': 0.9548}"
      ]
     },
     "execution_count": 5,
     "metadata": {},
     "output_type": "execute_result"
    }
   ],
   "source": [
    "sent.polarity_scores(tripadv_review.iloc[0]['r_text'])"
   ]
  },
  {
   "cell_type": "code",
   "execution_count": 6,
   "metadata": {},
   "outputs": [
    {
     "data": {
      "text/html": [
       "<div>\n",
       "<style scoped>\n",
       "    .dataframe tbody tr th:only-of-type {\n",
       "        vertical-align: middle;\n",
       "    }\n",
       "\n",
       "    .dataframe tbody tr th {\n",
       "        vertical-align: top;\n",
       "    }\n",
       "\n",
       "    .dataframe thead th {\n",
       "        text-align: right;\n",
       "    }\n",
       "</style>\n",
       "<table border=\"1\" class=\"dataframe\">\n",
       "  <thead>\n",
       "    <tr style=\"text-align: right;\">\n",
       "      <th></th>\n",
       "      <th>r_points</th>\n",
       "      <th>r_text</th>\n",
       "      <th>place</th>\n",
       "      <th>scores</th>\n",
       "      <th>compound</th>\n",
       "      <th>score</th>\n",
       "    </tr>\n",
       "  </thead>\n",
       "  <tbody>\n",
       "    <tr>\n",
       "      <th>0</th>\n",
       "      <td>50</td>\n",
       "      <td>Highly recommended. Very elegant environment w...</td>\n",
       "      <td>The Gym</td>\n",
       "      <td>{'neg': 0.0, 'neu': 0.533, 'pos': 0.467, 'comp...</td>\n",
       "      <td>0.9548</td>\n",
       "      <td>pos</td>\n",
       "    </tr>\n",
       "    <tr>\n",
       "      <th>1</th>\n",
       "      <td>50</td>\n",
       "      <td>Went down on a whim, had the bao buns which wo...</td>\n",
       "      <td>The Gym</td>\n",
       "      <td>{'neg': 0.0, 'neu': 0.75, 'pos': 0.25, 'compou...</td>\n",
       "      <td>0.8932</td>\n",
       "      <td>pos</td>\n",
       "    </tr>\n",
       "    <tr>\n",
       "      <th>2</th>\n",
       "      <td>10</td>\n",
       "      <td>I paid 13 euros for 3 miserable bao buns that ...</td>\n",
       "      <td>The Gym</td>\n",
       "      <td>{'neg': 0.137, 'neu': 0.611, 'pos': 0.252, 'co...</td>\n",
       "      <td>0.8150</td>\n",
       "      <td>pos</td>\n",
       "    </tr>\n",
       "    <tr>\n",
       "      <th>3</th>\n",
       "      <td>50</td>\n",
       "      <td>Very professional, respectful and kind staff. ...</td>\n",
       "      <td>The Gym</td>\n",
       "      <td>{'neg': 0.0, 'neu': 0.658, 'pos': 0.342, 'comp...</td>\n",
       "      <td>0.9869</td>\n",
       "      <td>pos</td>\n",
       "    </tr>\n",
       "    <tr>\n",
       "      <th>4</th>\n",
       "      <td>50</td>\n",
       "      <td>Definitely suggested, amazing cocktails and fo...</td>\n",
       "      <td>The Gym</td>\n",
       "      <td>{'neg': 0.0, 'neu': 0.531, 'pos': 0.469, 'comp...</td>\n",
       "      <td>0.8658</td>\n",
       "      <td>pos</td>\n",
       "    </tr>\n",
       "  </tbody>\n",
       "</table>\n",
       "</div>"
      ],
      "text/plain": [
       "   r_points                                             r_text    place  \\\n",
       "0        50  Highly recommended. Very elegant environment w...  The Gym   \n",
       "1        50  Went down on a whim, had the bao buns which wo...  The Gym   \n",
       "2        10  I paid 13 euros for 3 miserable bao buns that ...  The Gym   \n",
       "3        50  Very professional, respectful and kind staff. ...  The Gym   \n",
       "4        50  Definitely suggested, amazing cocktails and fo...  The Gym   \n",
       "\n",
       "                                              scores  compound score  \n",
       "0  {'neg': 0.0, 'neu': 0.533, 'pos': 0.467, 'comp...    0.9548   pos  \n",
       "1  {'neg': 0.0, 'neu': 0.75, 'pos': 0.25, 'compou...    0.8932   pos  \n",
       "2  {'neg': 0.137, 'neu': 0.611, 'pos': 0.252, 'co...    0.8150   pos  \n",
       "3  {'neg': 0.0, 'neu': 0.658, 'pos': 0.342, 'comp...    0.9869   pos  \n",
       "4  {'neg': 0.0, 'neu': 0.531, 'pos': 0.469, 'comp...    0.8658   pos  "
      ]
     },
     "execution_count": 6,
     "metadata": {},
     "output_type": "execute_result"
    }
   ],
   "source": [
    "tripadv_review['scores'] = tripadv_review['r_text'].apply(lambda review:sent.polarity_scores(review))\n",
    "tripadv_review['compound'] = tripadv_review['scores'].apply(lambda d:d['compound'])\n",
    "tripadv_review['score'] = tripadv_review['compound'].apply(lambda score: 'pos' if score >=0 else 'neg')\n",
    "tripadv_review.head()"
   ]
  },
  {
   "cell_type": "code",
   "execution_count": 7,
   "metadata": {},
   "outputs": [],
   "source": [
    "tripadv_review.to_csv(r'C:\\Users\\Dell\\Desktop\\sentiment_out3.csv')"
   ]
  },
  {
   "cell_type": "code",
   "execution_count": 8,
   "metadata": {},
   "outputs": [],
   "source": [
    "pos_rev=tripadv_review[(tripadv_review['score'] .str.contains('pos'))]\n",
    "pos_rev.to_csv(r'C:\\Users\\Dell\\Desktop\\sentiment_out3_pos.csv')\n",
    "neg_rev=tripadv_review[(tripadv_review['score'] .str.contains('neg'))]\n",
    "neg_rev.to_csv(r'C:\\Users\\Dell\\Desktop\\sentiment_out3_neg.csv')"
   ]
  },
  {
   "cell_type": "code",
   "execution_count": 9,
   "metadata": {},
   "outputs": [],
   "source": [
    "pos_review_imp= pd.read_csv(r'C:\\Users\\Dell\\Desktop\\sentiment_out3_pos.csv')\n",
    "neg_review_imp = pd.read_csv(r'C:\\Users\\Dell\\Desktop\\sentiment_out3_neg.csv')"
   ]
  },
  {
   "cell_type": "code",
   "execution_count": 10,
   "metadata": {},
   "outputs": [],
   "source": [
    "from pycaret.nlp import *"
   ]
  },
  {
   "cell_type": "code",
   "execution_count": 11,
   "metadata": {},
   "outputs": [
    {
     "data": {
      "text/html": [
       "<style  type=\"text/css\" >\n",
       "</style><table id=\"T_24e5a18c_3271_11eb_96d4_c48e8ff9d2e0\" ><thead>    <tr>        <th class=\"col_heading level0 col0\" >Description</th>        <th class=\"col_heading level0 col1\" >Value</th>    </tr></thead><tbody>\n",
       "                <tr>\n",
       "                                <td id=\"T_24e5a18c_3271_11eb_96d4_c48e8ff9d2e0row0_col0\" class=\"data row0 col0\" >session_id</td>\n",
       "                        <td id=\"T_24e5a18c_3271_11eb_96d4_c48e8ff9d2e0row0_col1\" class=\"data row0 col1\" >1620</td>\n",
       "            </tr>\n",
       "            <tr>\n",
       "                                <td id=\"T_24e5a18c_3271_11eb_96d4_c48e8ff9d2e0row1_col0\" class=\"data row1 col0\" >Documents</td>\n",
       "                        <td id=\"T_24e5a18c_3271_11eb_96d4_c48e8ff9d2e0row1_col1\" class=\"data row1 col1\" >217</td>\n",
       "            </tr>\n",
       "            <tr>\n",
       "                                <td id=\"T_24e5a18c_3271_11eb_96d4_c48e8ff9d2e0row2_col0\" class=\"data row2 col0\" >Vocab Size</td>\n",
       "                        <td id=\"T_24e5a18c_3271_11eb_96d4_c48e8ff9d2e0row2_col1\" class=\"data row2 col1\" >1291</td>\n",
       "            </tr>\n",
       "            <tr>\n",
       "                                <td id=\"T_24e5a18c_3271_11eb_96d4_c48e8ff9d2e0row3_col0\" class=\"data row3 col0\" >Custom Stopwords</td>\n",
       "                        <td id=\"T_24e5a18c_3271_11eb_96d4_c48e8ff9d2e0row3_col1\" class=\"data row3 col1\" >True</td>\n",
       "            </tr>\n",
       "    </tbody></table>"
      ],
      "text/plain": [
       "<pandas.io.formats.style.Styler at 0x11da8c1e048>"
      ]
     },
     "metadata": {},
     "output_type": "display_data"
    }
   ],
   "source": [
    "exp_nlp = setup(data = pos_review_imp, target = 'r_text',\n",
    "                custom_stopwords = [ 'hotel', 'room', 'nice', 'good', 'excellent','restaurant', 'food'])"
   ]
  },
  {
   "cell_type": "code",
   "execution_count": 12,
   "metadata": {},
   "outputs": [
    {
     "name": "stdout",
     "output_type": "stream",
     "text": [
      "LdaModel(num_terms=1291, num_topics=4, decay=0.5, chunksize=100)\n"
     ]
    }
   ],
   "source": [
    "#create an LDA model\n",
    "lda_pos_custom = create_model('lda')\n",
    "print(lda_pos_custom)"
   ]
  },
  {
   "cell_type": "code",
   "execution_count": 13,
   "metadata": {},
   "outputs": [
    {
     "data": {
      "text/html": [
       "<div>\n",
       "<style scoped>\n",
       "    .dataframe tbody tr th:only-of-type {\n",
       "        vertical-align: middle;\n",
       "    }\n",
       "\n",
       "    .dataframe tbody tr th {\n",
       "        vertical-align: top;\n",
       "    }\n",
       "\n",
       "    .dataframe thead th {\n",
       "        text-align: right;\n",
       "    }\n",
       "</style>\n",
       "<table border=\"1\" class=\"dataframe\">\n",
       "  <thead>\n",
       "    <tr style=\"text-align: right;\">\n",
       "      <th></th>\n",
       "      <th>Unnamed: 0</th>\n",
       "      <th>r_points</th>\n",
       "      <th>r_text</th>\n",
       "      <th>place</th>\n",
       "      <th>scores</th>\n",
       "      <th>compound</th>\n",
       "      <th>score</th>\n",
       "      <th>Topic_0</th>\n",
       "      <th>Topic_1</th>\n",
       "      <th>Topic_2</th>\n",
       "      <th>Topic_3</th>\n",
       "      <th>Dominant_Topic</th>\n",
       "      <th>Perc_Dominant_Topic</th>\n",
       "    </tr>\n",
       "  </thead>\n",
       "  <tbody>\n",
       "    <tr>\n",
       "      <th>0</th>\n",
       "      <td>0</td>\n",
       "      <td>50</td>\n",
       "      <td>highly recommend elegant environment music ser...</td>\n",
       "      <td>The Gym</td>\n",
       "      <td>{'neg': 0.0, 'neu': 0.533, 'pos': 0.467, 'comp...</td>\n",
       "      <td>0.9548</td>\n",
       "      <td>pos</td>\n",
       "      <td>0.014839</td>\n",
       "      <td>0.974717</td>\n",
       "      <td>0.005543</td>\n",
       "      <td>0.004900</td>\n",
       "      <td>Topic 1</td>\n",
       "      <td>0.97</td>\n",
       "    </tr>\n",
       "    <tr>\n",
       "      <th>1</th>\n",
       "      <td>1</td>\n",
       "      <td>50</td>\n",
       "      <td>go bun wound well ever taste emerald great acc...</td>\n",
       "      <td>The Gym</td>\n",
       "      <td>{'neg': 0.0, 'neu': 0.75, 'pos': 0.25, 'compou...</td>\n",
       "      <td>0.8932</td>\n",
       "      <td>pos</td>\n",
       "      <td>0.607112</td>\n",
       "      <td>0.383191</td>\n",
       "      <td>0.005147</td>\n",
       "      <td>0.004550</td>\n",
       "      <td>Topic 0</td>\n",
       "      <td>0.61</td>\n",
       "    </tr>\n",
       "    <tr>\n",
       "      <th>2</th>\n",
       "      <td>2</td>\n",
       "      <td>10</td>\n",
       "      <td>pay miserable bun make probably day ago wish e...</td>\n",
       "      <td>The Gym</td>\n",
       "      <td>{'neg': 0.137, 'neu': 0.611, 'pos': 0.252, 'co...</td>\n",
       "      <td>0.8150</td>\n",
       "      <td>pos</td>\n",
       "      <td>0.009227</td>\n",
       "      <td>0.195003</td>\n",
       "      <td>0.792739</td>\n",
       "      <td>0.003031</td>\n",
       "      <td>Topic 2</td>\n",
       "      <td>0.79</td>\n",
       "    </tr>\n",
       "    <tr>\n",
       "      <th>3</th>\n",
       "      <td>3</td>\n",
       "      <td>50</td>\n",
       "      <td>professional kind staff make feel home add ove...</td>\n",
       "      <td>The Gym</td>\n",
       "      <td>{'neg': 0.0, 'neu': 0.658, 'pos': 0.342, 'comp...</td>\n",
       "      <td>0.9869</td>\n",
       "      <td>pos</td>\n",
       "      <td>0.005246</td>\n",
       "      <td>0.577569</td>\n",
       "      <td>0.415466</td>\n",
       "      <td>0.001719</td>\n",
       "      <td>Topic 1</td>\n",
       "      <td>0.58</td>\n",
       "    </tr>\n",
       "    <tr>\n",
       "      <th>4</th>\n",
       "      <td>4</td>\n",
       "      <td>50</td>\n",
       "      <td>definitely suggest amazing cocktail friendly s...</td>\n",
       "      <td>The Gym</td>\n",
       "      <td>{'neg': 0.0, 'neu': 0.531, 'pos': 0.469, 'comp...</td>\n",
       "      <td>0.8658</td>\n",
       "      <td>pos</td>\n",
       "      <td>0.021413</td>\n",
       "      <td>0.963489</td>\n",
       "      <td>0.008014</td>\n",
       "      <td>0.007084</td>\n",
       "      <td>Topic 1</td>\n",
       "      <td>0.96</td>\n",
       "    </tr>\n",
       "    <tr>\n",
       "      <th>...</th>\n",
       "      <td>...</td>\n",
       "      <td>...</td>\n",
       "      <td>...</td>\n",
       "      <td>...</td>\n",
       "      <td>...</td>\n",
       "      <td>...</td>\n",
       "      <td>...</td>\n",
       "      <td>...</td>\n",
       "      <td>...</td>\n",
       "      <td>...</td>\n",
       "      <td>...</td>\n",
       "      <td>...</td>\n",
       "      <td>...</td>\n",
       "    </tr>\n",
       "    <tr>\n",
       "      <th>212</th>\n",
       "      <td>226</td>\n",
       "      <td>30</td>\n",
       "      <td>last quick lunch choose table outer row table ...</td>\n",
       "      <td>The Gym</td>\n",
       "      <td>{'neg': 0.041, 'neu': 0.859, 'pos': 0.1, 'comp...</td>\n",
       "      <td>0.9368</td>\n",
       "      <td>pos</td>\n",
       "      <td>0.001941</td>\n",
       "      <td>0.268303</td>\n",
       "      <td>0.729107</td>\n",
       "      <td>0.000649</td>\n",
       "      <td>Topic 2</td>\n",
       "      <td>0.73</td>\n",
       "    </tr>\n",
       "    <tr>\n",
       "      <th>213</th>\n",
       "      <td>227</td>\n",
       "      <td>40</td>\n",
       "      <td>great casual atmosphere great price place go f...</td>\n",
       "      <td>The Gym</td>\n",
       "      <td>{'neg': 0.012, 'neu': 0.782, 'pos': 0.206, 'co...</td>\n",
       "      <td>0.9633</td>\n",
       "      <td>pos</td>\n",
       "      <td>0.004424</td>\n",
       "      <td>0.992424</td>\n",
       "      <td>0.001673</td>\n",
       "      <td>0.001479</td>\n",
       "      <td>Topic 1</td>\n",
       "      <td>0.99</td>\n",
       "    </tr>\n",
       "    <tr>\n",
       "      <th>214</th>\n",
       "      <td>228</td>\n",
       "      <td>40</td>\n",
       "      <td>go couple time drink dinner drink wine special...</td>\n",
       "      <td>The Gym</td>\n",
       "      <td>{'neg': 0.0, 'neu': 0.835, 'pos': 0.165, 'comp...</td>\n",
       "      <td>0.8583</td>\n",
       "      <td>pos</td>\n",
       "      <td>0.008260</td>\n",
       "      <td>0.985844</td>\n",
       "      <td>0.003130</td>\n",
       "      <td>0.002767</td>\n",
       "      <td>Topic 1</td>\n",
       "      <td>0.99</td>\n",
       "    </tr>\n",
       "    <tr>\n",
       "      <th>215</th>\n",
       "      <td>229</td>\n",
       "      <td>50</td>\n",
       "      <td>excited let seem impressive bit limited change...</td>\n",
       "      <td>The Gym</td>\n",
       "      <td>{'neg': 0.025, 'neu': 0.802, 'pos': 0.173, 'co...</td>\n",
       "      <td>0.9665</td>\n",
       "      <td>pos</td>\n",
       "      <td>0.005284</td>\n",
       "      <td>0.711871</td>\n",
       "      <td>0.281078</td>\n",
       "      <td>0.001767</td>\n",
       "      <td>Topic 1</td>\n",
       "      <td>0.71</td>\n",
       "    </tr>\n",
       "    <tr>\n",
       "      <th>216</th>\n",
       "      <td>230</td>\n",
       "      <td>50</td>\n",
       "      <td>pretty uninspire really exceptional generous p...</td>\n",
       "      <td>The Gym</td>\n",
       "      <td>{'neg': 0.0, 'neu': 0.534, 'pos': 0.466, 'comp...</td>\n",
       "      <td>0.9845</td>\n",
       "      <td>pos</td>\n",
       "      <td>0.959869</td>\n",
       "      <td>0.033967</td>\n",
       "      <td>0.003272</td>\n",
       "      <td>0.002892</td>\n",
       "      <td>Topic 0</td>\n",
       "      <td>0.96</td>\n",
       "    </tr>\n",
       "  </tbody>\n",
       "</table>\n",
       "<p>217 rows × 13 columns</p>\n",
       "</div>"
      ],
      "text/plain": [
       "     Unnamed: 0  r_points                                             r_text  \\\n",
       "0             0        50  highly recommend elegant environment music ser...   \n",
       "1             1        50  go bun wound well ever taste emerald great acc...   \n",
       "2             2        10  pay miserable bun make probably day ago wish e...   \n",
       "3             3        50  professional kind staff make feel home add ove...   \n",
       "4             4        50  definitely suggest amazing cocktail friendly s...   \n",
       "..          ...       ...                                                ...   \n",
       "212         226        30  last quick lunch choose table outer row table ...   \n",
       "213         227        40  great casual atmosphere great price place go f...   \n",
       "214         228        40  go couple time drink dinner drink wine special...   \n",
       "215         229        50  excited let seem impressive bit limited change...   \n",
       "216         230        50  pretty uninspire really exceptional generous p...   \n",
       "\n",
       "       place                                             scores  compound  \\\n",
       "0    The Gym  {'neg': 0.0, 'neu': 0.533, 'pos': 0.467, 'comp...    0.9548   \n",
       "1    The Gym  {'neg': 0.0, 'neu': 0.75, 'pos': 0.25, 'compou...    0.8932   \n",
       "2    The Gym  {'neg': 0.137, 'neu': 0.611, 'pos': 0.252, 'co...    0.8150   \n",
       "3    The Gym  {'neg': 0.0, 'neu': 0.658, 'pos': 0.342, 'comp...    0.9869   \n",
       "4    The Gym  {'neg': 0.0, 'neu': 0.531, 'pos': 0.469, 'comp...    0.8658   \n",
       "..       ...                                                ...       ...   \n",
       "212  The Gym  {'neg': 0.041, 'neu': 0.859, 'pos': 0.1, 'comp...    0.9368   \n",
       "213  The Gym  {'neg': 0.012, 'neu': 0.782, 'pos': 0.206, 'co...    0.9633   \n",
       "214  The Gym  {'neg': 0.0, 'neu': 0.835, 'pos': 0.165, 'comp...    0.8583   \n",
       "215  The Gym  {'neg': 0.025, 'neu': 0.802, 'pos': 0.173, 'co...    0.9665   \n",
       "216  The Gym  {'neg': 0.0, 'neu': 0.534, 'pos': 0.466, 'comp...    0.9845   \n",
       "\n",
       "    score   Topic_0   Topic_1   Topic_2   Topic_3 Dominant_Topic  \\\n",
       "0     pos  0.014839  0.974717  0.005543  0.004900        Topic 1   \n",
       "1     pos  0.607112  0.383191  0.005147  0.004550        Topic 0   \n",
       "2     pos  0.009227  0.195003  0.792739  0.003031        Topic 2   \n",
       "3     pos  0.005246  0.577569  0.415466  0.001719        Topic 1   \n",
       "4     pos  0.021413  0.963489  0.008014  0.007084        Topic 1   \n",
       "..    ...       ...       ...       ...       ...            ...   \n",
       "212   pos  0.001941  0.268303  0.729107  0.000649        Topic 2   \n",
       "213   pos  0.004424  0.992424  0.001673  0.001479        Topic 1   \n",
       "214   pos  0.008260  0.985844  0.003130  0.002767        Topic 1   \n",
       "215   pos  0.005284  0.711871  0.281078  0.001767        Topic 1   \n",
       "216   pos  0.959869  0.033967  0.003272  0.002892        Topic 0   \n",
       "\n",
       "     Perc_Dominant_Topic  \n",
       "0                   0.97  \n",
       "1                   0.61  \n",
       "2                   0.79  \n",
       "3                   0.58  \n",
       "4                   0.96  \n",
       "..                   ...  \n",
       "212                 0.73  \n",
       "213                 0.99  \n",
       "214                 0.99  \n",
       "215                 0.71  \n",
       "216                 0.96  \n",
       "\n",
       "[217 rows x 13 columns]"
      ]
     },
     "execution_count": 13,
     "metadata": {},
     "output_type": "execute_result"
    }
   ],
   "source": [
    "apply_lda_pos = assign_model(lda_pos_custom)\n",
    "apply_lda_pos"
   ]
  },
  {
   "cell_type": "code",
   "execution_count": 14,
   "metadata": {},
   "outputs": [
    {
     "data": {
      "application/vnd.jupyter.widget-view+json": {
       "model_id": "f4716c51bacd4893b2360619fafa1f29",
       "version_major": 2,
       "version_minor": 0
      },
      "text/plain": [
       "interactive(children=(ToggleButtons(description='Plot Type:', icons=('',), options=(('Frequency Plot', 'freque…"
      ]
     },
     "metadata": {},
     "output_type": "display_data"
    }
   ],
   "source": [
    "evaluate_model(lda_pos_custom)"
   ]
  },
  {
   "cell_type": "code",
   "execution_count": 15,
   "metadata": {},
   "outputs": [
    {
     "data": {
      "text/html": [
       "        <script type=\"text/javascript\">\n",
       "        window.PlotlyConfig = {MathJaxConfig: 'local'};\n",
       "        if (window.MathJax) {MathJax.Hub.Config({SVG: {font: \"STIX-Web\"}});}\n",
       "        if (typeof require !== 'undefined') {\n",
       "        require.undef(\"plotly\");\n",
       "        requirejs.config({\n",
       "            paths: {\n",
       "                'plotly': ['https://cdn.plot.ly/plotly-latest.min']\n",
       "            }\n",
       "        });\n",
       "        require(['plotly'], function(Plotly) {\n",
       "            window._Plotly = Plotly;\n",
       "        });\n",
       "        }\n",
       "        </script>\n",
       "        "
      ]
     },
     "metadata": {},
     "output_type": "display_data"
    },
    {
     "data": {
      "text/html": [
       "\n",
       "<link rel=\"stylesheet\" type=\"text/css\" href=\"https://cdn.rawgit.com/bmabey/pyLDAvis/files/ldavis.v1.0.0.css\">\n",
       "\n",
       "\n",
       "<div id=\"ldavis_el156012270117343442512297022\"></div>\n",
       "<script type=\"text/javascript\">\n",
       "\n",
       "var ldavis_el156012270117343442512297022_data = {\"mdsDat\": {\"x\": [-0.20259376860903436, 0.028472189197120915, 0.23074337767505032, -0.05662179826313689], \"y\": [0.07156016876781095, 0.1923421866635076, -0.06144694513803664, -0.20245541029328193], \"topics\": [1, 2, 3, 4], \"cluster\": [1, 1, 1, 1], \"Freq\": [58.18503952026367, 23.36341667175293, 9.459206581115723, 8.99233341217041]}, \"tinfo\": {\"Term\": [\"table\", \"take\", \"friend\", \"time\", \"serve\", \"order\", \"minute\", \"much\", \"perfect\", \"problem\", \"place\", \"great\", \"really\", \"also\", \"offer\", \"almost\", \"look\", \"feel\", \"town\", \"meat\", \"get\", \"big\", \"arrive\", \"dish\", \"ask\", \"warm\", \"high\", \"tell\", \"people\", \"dinner\", \"time\", \"dinner\", \"amazing\", \"atmosphere\", \"first\", \"quite\", \"lunch\", \"experience\", \"well\", \"limited\", \"busy\", \"selection\", \"try\", \"couple\", \"gin\", \"bar\", \"light\", \"attentive\", \"walk\", \"decide\", \"usually\", \"impressed\", \"quick\", \"special\", \"average\", \"choice\", \"great\", \"expensive\", \"cold\", \"relax\", \"night\", \"however\", \"price\", \"eat\", \"delicious\", \"go\", \"menu\", \"service\", \"wine\", \"place\", \"staff\", \"drink\", \"cocktail\", \"sit\", \"steak\", \"visit\", \"dish\", \"take\", \"table\", \"much\", \"town\", \"taste\", \"sauce\", \"pretty\", \"salmon\", \"standard\", \"point\", \"season\", \"exceptional\", \"improvement\", \"flavor\", \"energy\", \"inspire\", \"spectacularly\", \"uninspire\", \"generous\", \"cooking\", \"buttery\", \"medium\", \"placesecond\", \"raise\", \"rate\", \"winter\", \"lucky\", \"depend\", \"lately\", \"rise\", \"potato\", \"strongly\", \"bad\", \"whole\", \"helpful\", \"creative\", \"almost\", \"also\", \"healthy\", \"offer\", \"full\", \"unusual\", \"high\", \"perfect\", \"surprise\", \"kitchen\", \"get\", \"waiter\", \"portion\", \"old\", \"back\", \"find\", \"bit\", \"place\", \"fresh\", \"order\", \"small\", \"really\", \"drink\", \"definitely\", \"area\", \"recommend\", \"cocktail\", \"visit\", \"service\", \"big\", \"suppose\", \"establishment\", \"jacket\", \"burger\", \"interior\", \"option\", \"happen\", \"sandwich\", \"pay\", \"case\", \"around\", \"move\", \"plant\", \"constant\", \"exterior\", \"mistake\", \"let\", \"air\", \"total\", \"thus\", \"tight\", \"temperature\", \"imagine\", \"separate\", \"ruin\", \"ready\", \"one\", \"coziness\", \"literally\", \"figuratively\", \"degree\", \"discussion\", \"due\", \"example\", \"explode\", \"nearby\", \"basically\", \"bone\", \"celsius\", \"interconnection\", \"heavy\", \"coat\", \"heating\", \"absence\", \"feeling\", \"look\", \"honestly\", \"notice\", \"clear\", \"location\", \"seem\", \"problem\", \"table\", \"money\", \"space\", \"become\", \"feel\", \"open\", \"much\", \"choose\", \"people\", \"salad\", \"warm\", \"waiter\", \"happy\", \"sit\", \"full\", \"find\", \"arrive\", \"beef\", \"vegetable\", \"mash\", \"hot\", \"show\", \"cook\", \"often\", \"accomodate\", \"water\", \"confirm\", \"mind\", \"platter\", \"dine\", \"entire\", \"booking\", \"apparently\", \"arrival\", \"extreme\", \"cut\", \"dubious\", \"tweak\", \"share\", \"release\", \"reality\", \"provide\", \"made\", \"green\", \"frustrate\", \"drinking\", \"eventually\", \"beautifully\", \"tell\", \"lay\", \"early\", \"minute\", \"concept\", \"friend\", \"meat\", \"table\", \"serve\", \"rice\", \"order\", \"take\", \"ask\", \"call\", \"really\", \"perfect\", \"much\", \"come\", \"dish\", \"overall\", \"new\"], \"Freq\": [42.0, 29.0, 30.0, 66.0, 24.0, 20.0, 13.0, 28.0, 33.0, 18.0, 123.0, 77.0, 30.0, 18.0, 23.0, 17.0, 11.0, 17.0, 13.0, 10.0, 34.0, 7.0, 7.0, 24.0, 11.0, 19.0, 26.0, 7.0, 15.0, 39.0, 66.15582275390625, 38.75251007080078, 24.04201889038086, 22.050851821899414, 19.543649673461914, 22.219581604003906, 17.514873504638672, 21.581754684448242, 44.43323516845703, 14.864357948303223, 14.853062629699707, 13.516005516052246, 20.810691833496094, 11.953951835632324, 11.053335189819336, 24.875614166259766, 11.615760803222656, 10.64659595489502, 10.386094093322754, 10.076360702514648, 9.768379211425781, 9.556169509887695, 11.222064018249512, 10.840660095214844, 9.635071754455566, 21.736181259155273, 74.60567474365234, 8.952301025390625, 14.577410697937012, 11.724578857421875, 34.21635437011719, 27.543102264404297, 30.898082733154297, 17.315563201904297, 23.049100875854492, 49.070892333984375, 25.593158721923828, 63.390987396240234, 33.629329681396484, 94.23950958251953, 27.807037353515625, 53.910762786865234, 47.236812591552734, 21.12255859375, 17.290924072265625, 29.926240921020508, 20.904172897338867, 21.318866729736328, 24.71725845336914, 20.081741333007812, 13.329548835754395, 10.998407363891602, 8.814614295959473, 7.964422702789307, 7.774318695068359, 7.144150257110596, 7.382286548614502, 5.898128509521484, 5.020202159881592, 5.491015434265137, 5.00017786026001, 4.859074115753174, 4.854421138763428, 4.502188205718994, 4.502188205718994, 4.502188205718994, 4.4985671043396, 4.4985671043396, 4.4985671043396, 4.4985671043396, 4.4985671043396, 4.4985671043396, 4.4985671043396, 4.497849941253662, 4.497849941253662, 4.497849941253662, 4.497849941253662, 9.19843864440918, 4.479491710662842, 4.904158115386963, 4.951286315917969, 8.550153732299805, 5.573248386383057, 14.59438705444336, 14.867478370666504, 4.8954386711120605, 15.61914348602295, 8.989601135253906, 4.7539238929748535, 15.935946464538574, 18.375782012939453, 5.706312656402588, 6.555062294006348, 17.1379337310791, 7.896181106567383, 8.268780708312988, 13.656139373779297, 9.27681827545166, 13.963312149047852, 14.15005111694336, 28.755451202392578, 9.790118217468262, 10.013715744018555, 9.311073303222656, 11.212440490722656, 14.939108848571777, 7.564810752868652, 9.319812774658203, 8.904825210571289, 11.801020622253418, 9.232948303222656, 9.304861068725586, 7.234908103942871, 6.105026721954346, 4.331510066986084, 4.098896503448486, 5.370448112487793, 3.3879945278167725, 3.308241367340088, 2.8138372898101807, 2.57324481010437, 2.5025851726531982, 2.5629892349243164, 2.3325321674346924, 2.3324971199035645, 2.329882860183716, 2.329824209213257, 2.2620391845703125, 2.260662317276001, 2.3238887786865234, 2.3107142448425293, 2.0923044681549072, 2.0923044681549072, 2.0923044681549072, 2.0923044681549072, 2.0923044681549072, 2.0923044681549072, 2.0923044681549072, 2.0923044681549072, 2.0923044681549072, 2.0923044681549072, 2.0923044681549072, 2.0923044681549072, 2.0923044681549072, 2.0923044681549072, 2.0923044681549072, 2.0923044681549072, 2.0923044681549072, 2.0923044681549072, 2.0923044681549072, 2.0923044681549072, 2.0923044681549072, 2.0923044681549072, 2.0923044681549072, 2.0923044681549072, 2.0923044681549072, 2.0923044681549072, 2.0923044681549072, 5.9463934898376465, 2.213937282562256, 3.7029731273651123, 2.331939697265625, 2.721097946166992, 3.8386778831481934, 5.219705581665039, 6.913406848907471, 2.805070638656616, 3.793894052505493, 2.322615623474121, 4.440861225128174, 3.152667760848999, 4.149815082550049, 3.4129905700683594, 3.4638795852661133, 3.2725541591644287, 3.590181827545166, 3.018449306488037, 2.6859731674194336, 2.8947293758392334, 2.675553321838379, 2.896846055984497, 6.65126371383667, 5.388181209564209, 5.112642288208008, 4.8319621086120605, 4.14145040512085, 3.518066167831421, 3.75030779838562, 2.9491286277770996, 2.7445130348205566, 2.667036533355713, 2.6670196056365967, 2.742793321609497, 2.7373974323272705, 2.6527090072631836, 2.4666507244110107, 2.4666507244110107, 2.4666507244110107, 2.4666507244110107, 2.4666507244110107, 2.4666507244110107, 2.4666507244110107, 2.4666507244110107, 2.4666507244110107, 2.4666507244110107, 2.4666507244110107, 2.4666507244110107, 2.4666507244110107, 2.4666507244110107, 2.4666507244110107, 2.4666507244110107, 2.4666507244110107, 4.74666166305542, 5.737796783447266, 4.668610572814941, 4.499417781829834, 6.466370582580566, 3.0288639068603516, 8.824540138244629, 5.084813117980957, 10.203824043273926, 7.285775661468506, 2.922992706298828, 6.479008197784424, 7.690182209014893, 4.586421966552734, 2.8081021308898926, 4.870852470397949, 5.011800765991211, 4.205084323883057, 3.456519603729248, 3.2345356941223145, 2.957019567489624, 2.873166799545288], \"Total\": [42.0, 29.0, 30.0, 66.0, 24.0, 20.0, 13.0, 28.0, 33.0, 18.0, 123.0, 77.0, 30.0, 18.0, 23.0, 17.0, 11.0, 17.0, 13.0, 10.0, 34.0, 7.0, 7.0, 24.0, 11.0, 19.0, 26.0, 7.0, 15.0, 39.0, 66.60298156738281, 39.25950241088867, 24.421588897705078, 22.43450355529785, 19.92694664001465, 22.68534278869629, 17.927085876464844, 22.110733032226562, 45.534088134765625, 15.246857643127441, 15.262989044189453, 13.920076370239258, 21.441394805908203, 12.33105182647705, 11.42841625213623, 25.76504898071289, 12.046916961669922, 11.04474925994873, 10.777917861938477, 10.4569091796875, 10.149394989013672, 9.931249618530273, 11.672920227050781, 11.284518241882324, 10.029626846313477, 22.629892349243164, 77.89653015136719, 9.347722053527832, 15.228415489196777, 12.278300285339355, 36.492515563964844, 29.446863174438477, 33.30170440673828, 18.364795684814453, 24.839305877685547, 55.4892692565918, 27.947622299194336, 74.40411376953125, 38.940582275390625, 123.82743072509766, 32.37620162963867, 69.06952667236328, 59.57991409301758, 24.582408905029297, 19.049869537353516, 39.45048141479492, 24.60755157470703, 29.37368392944336, 42.533843994140625, 28.629560470581055, 13.717047691345215, 11.431907653808594, 9.198152542114258, 8.350786209106445, 8.17324161529541, 7.532397270202637, 7.809211254119873, 6.283326148986816, 5.399949550628662, 5.918643474578857, 5.400016784667969, 5.247830390930176, 5.247632026672363, 4.881979942321777, 4.881979942321777, 4.881979942321777, 4.881787300109863, 4.881787300109863, 4.881787300109863, 4.881787300109863, 4.881787300109863, 4.881787300109863, 4.881787300109863, 4.881974220275879, 4.881974220275879, 4.881974220275879, 4.881974220275879, 10.008813858032227, 4.8820390701293945, 5.348576545715332, 5.40139102935791, 9.49325180053711, 6.135221481323242, 17.41517448425293, 18.137468338012695, 5.355135440826416, 23.07060432434082, 11.97658634185791, 5.250094413757324, 26.640302658081055, 33.22476577758789, 6.880497455596924, 8.437891006469727, 34.86079025268555, 11.216035842895508, 12.088289260864258, 27.529802322387695, 15.285820007324219, 30.39768409729004, 34.882713317871094, 123.82743072509766, 18.812707901000977, 20.684795379638672, 18.43579864501953, 30.011520385742188, 69.06952667236328, 13.008193969726562, 24.47592544555664, 21.3877010345459, 59.57991409301758, 39.45048141479492, 74.40411376953125, 7.722675323486328, 6.587342739105225, 4.830241680145264, 4.580087184906006, 6.0980987548828125, 3.884795904159546, 3.824232578277588, 3.3319621086120605, 3.0555989742279053, 2.9846885204315186, 3.0673794746398926, 2.8147568702697754, 2.814791440963745, 2.817815065383911, 2.817888021469116, 2.743651866912842, 2.745199680328369, 2.824634075164795, 2.839771032333374, 2.573347568511963, 2.573347568511963, 2.573347568511963, 2.573347568511963, 2.573347568511963, 2.573347568511963, 2.573347568511963, 2.573347568511963, 2.573347568511963, 2.573347568511963, 2.573347568511963, 2.573347568511963, 2.573347568511963, 2.573347568511963, 2.573347568511963, 2.573347568511963, 2.573347568511963, 2.573347568511963, 2.573347568511963, 2.573347568511963, 2.573347568511963, 2.573347568511963, 2.573347568511963, 2.573347568511963, 2.573347568511963, 2.573347568511963, 2.573347568511963, 11.506599426269531, 2.798919916152954, 6.483201026916504, 3.1036767959594727, 4.134486675262451, 8.105246543884277, 18.449064254760742, 42.533843994140625, 5.0913286209106445, 10.642244338989258, 3.3132076263427734, 17.30425262451172, 9.926424980163574, 28.629560470581055, 14.123326301574707, 15.86491870880127, 12.736263275146484, 19.87877082824707, 11.216035842895508, 9.009256362915039, 24.582408905029297, 11.97658634185791, 30.39768409729004, 7.117351055145264, 5.864815711975098, 5.58343505859375, 5.297123432159424, 4.626070022583008, 3.9838550090789795, 4.317322731018066, 3.4173033237457275, 3.2202916145324707, 3.1320719718933105, 3.132086753845215, 3.2216832637786865, 3.225466012954712, 3.1338629722595215, 2.931673526763916, 2.931673526763916, 2.931673526763916, 2.931673526763916, 2.931673526763916, 2.931673526763916, 2.931673526763916, 2.931673526763916, 2.931673526763916, 2.931673526763916, 2.931673526763916, 2.931673526763916, 2.931673526763916, 2.931673526763916, 2.931673526763916, 2.931673526763916, 2.931673526763916, 5.900877952575684, 7.566171646118164, 6.5594329833984375, 7.082326889038086, 13.283540725708008, 4.159153938293457, 30.120803833007812, 10.927781105041504, 42.533843994140625, 24.46947479248047, 4.108668804168701, 20.684795379638672, 29.37368392944336, 11.497228622436523, 4.500940322875977, 30.011520385742188, 33.22476577758789, 28.629560470581055, 11.758594512939453, 24.60755157470703, 12.692964553833008, 13.815710067749023], \"Category\": [\"Default\", \"Default\", \"Default\", \"Default\", \"Default\", \"Default\", \"Default\", \"Default\", \"Default\", \"Default\", \"Default\", \"Default\", \"Default\", \"Default\", \"Default\", \"Default\", \"Default\", \"Default\", \"Default\", \"Default\", \"Default\", \"Default\", \"Default\", \"Default\", \"Default\", \"Default\", \"Default\", \"Default\", \"Default\", \"Default\", \"Topic1\", \"Topic1\", \"Topic1\", \"Topic1\", \"Topic1\", \"Topic1\", \"Topic1\", \"Topic1\", \"Topic1\", \"Topic1\", \"Topic1\", \"Topic1\", \"Topic1\", \"Topic1\", \"Topic1\", \"Topic1\", \"Topic1\", \"Topic1\", \"Topic1\", \"Topic1\", \"Topic1\", \"Topic1\", \"Topic1\", \"Topic1\", \"Topic1\", \"Topic1\", \"Topic1\", \"Topic1\", \"Topic1\", \"Topic1\", \"Topic1\", \"Topic1\", \"Topic1\", \"Topic1\", \"Topic1\", \"Topic1\", \"Topic1\", \"Topic1\", \"Topic1\", \"Topic1\", \"Topic1\", \"Topic1\", \"Topic1\", \"Topic1\", \"Topic1\", \"Topic1\", \"Topic1\", \"Topic1\", \"Topic1\", \"Topic1\", \"Topic2\", \"Topic2\", \"Topic2\", \"Topic2\", \"Topic2\", \"Topic2\", \"Topic2\", \"Topic2\", \"Topic2\", \"Topic2\", \"Topic2\", \"Topic2\", \"Topic2\", \"Topic2\", \"Topic2\", \"Topic2\", \"Topic2\", \"Topic2\", \"Topic2\", \"Topic2\", \"Topic2\", \"Topic2\", \"Topic2\", \"Topic2\", \"Topic2\", \"Topic2\", \"Topic2\", \"Topic2\", \"Topic2\", \"Topic2\", \"Topic2\", \"Topic2\", \"Topic2\", \"Topic2\", \"Topic2\", \"Topic2\", \"Topic2\", \"Topic2\", \"Topic2\", \"Topic2\", \"Topic2\", \"Topic2\", \"Topic2\", \"Topic2\", \"Topic2\", \"Topic2\", \"Topic2\", \"Topic2\", \"Topic2\", \"Topic2\", \"Topic2\", \"Topic2\", \"Topic2\", \"Topic2\", \"Topic2\", \"Topic2\", \"Topic2\", \"Topic2\", \"Topic2\", \"Topic2\", \"Topic2\", \"Topic2\", \"Topic3\", \"Topic3\", \"Topic3\", \"Topic3\", \"Topic3\", \"Topic3\", \"Topic3\", \"Topic3\", \"Topic3\", \"Topic3\", \"Topic3\", \"Topic3\", \"Topic3\", \"Topic3\", \"Topic3\", \"Topic3\", \"Topic3\", \"Topic3\", \"Topic3\", \"Topic3\", \"Topic3\", \"Topic3\", \"Topic3\", \"Topic3\", \"Topic3\", \"Topic3\", \"Topic3\", \"Topic3\", \"Topic3\", \"Topic3\", \"Topic3\", \"Topic3\", \"Topic3\", \"Topic3\", \"Topic3\", \"Topic3\", \"Topic3\", \"Topic3\", \"Topic3\", \"Topic3\", \"Topic3\", \"Topic3\", \"Topic3\", \"Topic3\", \"Topic3\", \"Topic3\", \"Topic3\", \"Topic3\", \"Topic3\", \"Topic3\", \"Topic3\", \"Topic3\", \"Topic3\", \"Topic3\", \"Topic3\", \"Topic3\", \"Topic3\", \"Topic3\", \"Topic3\", \"Topic3\", \"Topic3\", \"Topic3\", \"Topic3\", \"Topic3\", \"Topic3\", \"Topic3\", \"Topic3\", \"Topic3\", \"Topic3\", \"Topic4\", \"Topic4\", \"Topic4\", \"Topic4\", \"Topic4\", \"Topic4\", \"Topic4\", \"Topic4\", \"Topic4\", \"Topic4\", \"Topic4\", \"Topic4\", \"Topic4\", \"Topic4\", \"Topic4\", \"Topic4\", \"Topic4\", \"Topic4\", \"Topic4\", \"Topic4\", \"Topic4\", \"Topic4\", \"Topic4\", \"Topic4\", \"Topic4\", \"Topic4\", \"Topic4\", \"Topic4\", \"Topic4\", \"Topic4\", \"Topic4\", \"Topic4\", \"Topic4\", \"Topic4\", \"Topic4\", \"Topic4\", \"Topic4\", \"Topic4\", \"Topic4\", \"Topic4\", \"Topic4\", \"Topic4\", \"Topic4\", \"Topic4\", \"Topic4\", \"Topic4\", \"Topic4\", \"Topic4\", \"Topic4\", \"Topic4\", \"Topic4\", \"Topic4\", \"Topic4\"], \"logprob\": [30.0, 29.0, 28.0, 27.0, 26.0, 25.0, 24.0, 23.0, 22.0, 21.0, 20.0, 19.0, 18.0, 17.0, 16.0, 15.0, 14.0, 13.0, 12.0, 11.0, 10.0, 9.0, 8.0, 7.0, 6.0, 5.0, 4.0, 3.0, 2.0, 1.0, -3.8329999446868896, -4.367800235748291, -4.845200061798096, -4.931700229644775, -5.0524001121521, -4.923999786376953, -5.1620001792907715, -4.953199863433838, -4.230999946594238, -5.326000213623047, -5.3267998695373535, -5.42110013961792, -4.989500045776367, -5.544000148773193, -5.622300148010254, -4.811100006103516, -5.5725998878479, -5.659800052642822, -5.684500217437744, -5.714799880981445, -5.7459001541137695, -5.7677998542785645, -5.607100009918213, -5.64169979095459, -5.7596001625061035, -4.946000099182129, -3.7128000259399414, -5.833099842071533, -5.3454999923706055, -5.563300132751465, -4.492300033569336, -4.7093000411987305, -4.594299793243408, -5.173399925231934, -4.887400150299072, -4.131700038909912, -4.782700061798096, -3.875699996948242, -4.5096001625061035, -3.4791998863220215, -4.699699878692627, -4.037700176239014, -4.1697998046875, -4.974699974060059, -5.174799919128418, -4.626299858093262, -4.985099792480469, -4.965400218963623, -4.817500114440918, -5.025199890136719, -4.522600173950195, -4.714799880981445, -4.936100006103516, -5.037600040435791, -5.061699867248535, -5.146299839019775, -5.113500118255615, -5.337900161743164, -5.499100208282471, -5.40939998626709, -5.5030999183654785, -5.531700134277344, -5.532700061798096, -5.607999801635742, -5.607999801635742, -5.607999801635742, -5.608799934387207, -5.608799934387207, -5.608799934387207, -5.608799934387207, -5.608799934387207, -5.608799934387207, -5.608799934387207, -5.609000205993652, -5.609000205993652, -5.609000205993652, -5.609000205993652, -4.893499851226807, -5.61299991607666, -5.522500038146973, -5.512899875640869, -4.966599941253662, -5.394599914550781, -4.4319000244140625, -4.413400173187256, -5.5243000984191895, -4.364099979400635, -4.916500091552734, -5.553599834442139, -4.343999862670898, -4.201499938964844, -5.370999813079834, -5.2322998046875, -4.271299839019775, -5.046199798583984, -5.000100135803223, -4.4984002113342285, -4.885000228881836, -4.476099967956543, -4.462800025939941, -3.753700017929077, -4.831200122833252, -4.808599948883057, -4.881400108337402, -4.695499897003174, -4.408599853515625, -5.089000225067139, -4.88040018081665, -4.926000118255615, -4.644400119781494, -4.889800071716309, -4.881999969482422, -4.229499816894531, -4.3993000984191895, -4.742499828338623, -4.797699928283691, -4.527500152587891, -4.988100051879883, -5.01200008392334, -5.173799991607666, -5.263199806213379, -5.290999889373779, -5.267199993133545, -5.361400127410889, -5.361400127410889, -5.362599849700928, -5.362599849700928, -5.392099857330322, -5.3927001953125, -5.365099906921387, -5.370800018310547, -5.470099925994873, -5.470099925994873, -5.470099925994873, -5.470099925994873, -5.470099925994873, -5.470099925994873, -5.470099925994873, -5.470099925994873, -5.470099925994873, -5.470099925994873, -5.470099925994873, -5.470099925994873, -5.470099925994873, -5.470099925994873, -5.470099925994873, -5.470099925994873, -5.470099925994873, -5.470099925994873, -5.470099925994873, -5.470099925994873, -5.470099925994873, -5.470099925994873, -5.470099925994873, -5.470099925994873, -5.470099925994873, -5.470099925994873, -5.470099925994873, -4.425600051879883, -5.413599967956543, -4.899199962615967, -5.361700057983398, -5.207300186157227, -4.8632001876831055, -4.5559000968933105, -4.274899959564209, -5.1768999099731445, -4.875, -5.365699768066406, -4.71750020980835, -5.060100078582764, -4.785299777984619, -4.980800151824951, -4.966000080108643, -5.022799968719482, -4.930200099945068, -5.103600025177002, -5.220300197601318, -5.145500183105469, -5.2241997718811035, -5.144800186157227, -4.263000011444092, -4.473499774932861, -4.526000022888184, -4.582499980926514, -4.736700057983398, -4.899799823760986, -4.835899829864502, -5.076200008392334, -5.148200035095215, -5.176799774169922, -5.176799774169922, -5.148799896240234, -5.150700092315674, -5.182199954986572, -5.254899978637695, -5.254899978637695, -5.254899978637695, -5.254899978637695, -5.254899978637695, -5.254899978637695, -5.254899978637695, -5.254899978637695, -5.254899978637695, -5.254899978637695, -5.254899978637695, -5.254899978637695, -5.254899978637695, -5.254899978637695, -5.254899978637695, -5.254899978637695, -5.254899978637695, -4.600299835205078, -4.410699844360352, -4.6168999671936035, -4.653800010681152, -4.291100025177002, -5.049600124359131, -3.9802000522613525, -4.531499862670898, -3.8350000381469727, -4.171800136566162, -5.085100173950195, -4.2891998291015625, -4.117800235748291, -4.634699821472168, -5.125199794769287, -4.57450008392334, -4.546000003814697, -4.721499919891357, -4.917500019073486, -4.98390007019043, -5.073599815368652, -5.10230016708374], \"loglift\": [30.0, 29.0, 28.0, 27.0, 26.0, 25.0, 24.0, 23.0, 22.0, 21.0, 20.0, 19.0, 18.0, 17.0, 16.0, 15.0, 14.0, 13.0, 12.0, 11.0, 10.0, 9.0, 8.0, 7.0, 6.0, 5.0, 4.0, 3.0, 2.0, 1.0, 0.5347999930381775, 0.5285000205039978, 0.5259000062942505, 0.5242999792098999, 0.5220999717712402, 0.520799994468689, 0.5182999968528748, 0.517300009727478, 0.5170999765396118, 0.5160999894142151, 0.5142999887466431, 0.5120999813079834, 0.5116999745368958, 0.5105000138282776, 0.5081999897956848, 0.5063999891281128, 0.5051000118255615, 0.504800021648407, 0.5044999718666077, 0.5044999718666077, 0.5033000111579895, 0.503000020980835, 0.5022000074386597, 0.5013999938964844, 0.5013999938964844, 0.5012000203132629, 0.4984000027179718, 0.4982999861240387, 0.49790000915527344, 0.49540001153945923, 0.4771000146865845, 0.474700003862381, 0.4666000008583069, 0.482699990272522, 0.4666999876499176, 0.4185999929904938, 0.45350000262260437, 0.3813999891281128, 0.39489999413490295, 0.2685000002384186, 0.38940000534057617, 0.2937999963760376, 0.3093999922275543, 0.38989999890327454, 0.4447000026702881, 0.2651999890804291, 0.3783999979496002, 0.22100000083446503, -0.0013000000035390258, 0.18690000474452972, 1.4253000020980835, 1.4153000116348267, 1.4113999605178833, 1.406599998474121, 1.4040000438690186, 1.4011000394821167, 1.3977999687194824, 1.3906999826431274, 1.381100058555603, 1.378999948501587, 1.3770999908447266, 1.3769999742507935, 1.376099944114685, 1.3730000257492065, 1.3730000257492065, 1.3730000257492065, 1.3722000122070312, 1.3722000122070312, 1.3722000122070312, 1.3722000122070312, 1.3722000122070312, 1.3722000122070312, 1.3722000122070312, 1.371999979019165, 1.371999979019165, 1.371999979019165, 1.371999979019165, 1.3696000576019287, 1.367900013923645, 1.367300033569336, 1.3669999837875366, 1.3494000434875488, 1.3579000234603882, 1.2773000001907349, 1.2552000284194946, 1.3641999959945679, 1.0638999938964844, 1.167099952697754, 1.354699969291687, 0.9401999711990356, 0.8616999983787537, 1.2668999433517456, 1.2015000581741333, 0.7439000010490417, 1.1030000448226929, 1.0742000341415405, 0.7529000043869019, 0.9545999765396118, 0.6761000156402588, 0.5516999959945679, -0.006099999882280827, 0.8008000254631042, 0.728600025177002, 0.7709000110626221, 0.46939998865127563, -0.0771000012755394, 0.911899983882904, 0.4884999990463257, 0.5777999758720398, -0.16509999334812164, 0.0017000000225380063, -0.625, 2.2929000854492188, 2.282099962234497, 2.2492001056671143, 2.2472000122070312, 2.231100082397461, 2.221299886703491, 2.213200092315674, 2.189199924468994, 2.1863999366760254, 2.181999921798706, 2.178499937057495, 2.170300006866455, 2.1702001094818115, 2.1679999828338623, 2.1679999828338623, 2.1651999950408936, 2.1640000343322754, 2.1630001068115234, 2.1519999504089355, 2.15120005607605, 2.15120005607605, 2.15120005607605, 2.15120005607605, 2.15120005607605, 2.15120005607605, 2.15120005607605, 2.15120005607605, 2.15120005607605, 2.15120005607605, 2.15120005607605, 2.15120005607605, 2.15120005607605, 2.15120005607605, 2.15120005607605, 2.15120005607605, 2.15120005607605, 2.15120005607605, 2.15120005607605, 2.15120005607605, 2.15120005607605, 2.15120005607605, 2.15120005607605, 2.15120005607605, 2.15120005607605, 2.15120005607605, 2.15120005607605, 1.6979999542236328, 2.123699903488159, 1.7980999946594238, 2.0722999572753906, 1.9399000406265259, 1.61080002784729, 1.0956000089645386, 0.5412999987602234, 1.7620999813079834, 1.32669997215271, 2.003000020980835, 0.9980999827384949, 1.2111999988555908, 0.426800012588501, 0.9379000067710876, 0.8364999890327454, 0.9993000030517578, 0.6467000246047974, 1.0456000566482544, 1.1480000019073486, 0.21899999678134918, 0.8593999743461609, 0.007400000002235174, 2.341099977493286, 2.3239998817443848, 2.32069993019104, 2.3169000148773193, 2.298099994659424, 2.2844998836517334, 2.2679998874664307, 2.2614998817443848, 2.2488999366760254, 2.2481000423431396, 2.2481000423431396, 2.2479000091552734, 2.2446999549865723, 2.2421000003814697, 2.2360999584198, 2.2360999584198, 2.2360999584198, 2.2360999584198, 2.2360999584198, 2.2360999584198, 2.2360999584198, 2.2360999584198, 2.2360999584198, 2.2360999584198, 2.2360999584198, 2.2360999584198, 2.2360999584198, 2.2360999584198, 2.2360999584198, 2.2360999584198, 2.2360999584198, 2.1910998821258545, 2.132200002670288, 2.0687999725341797, 1.9551000595092773, 1.6888999938964844, 2.0917000770568848, 1.1811000108718872, 1.6437000036239624, 0.9812999963760376, 1.1972999572753906, 2.0683000087738037, 1.2480000257492065, 1.068600058555603, 1.489799976348877, 1.937000036239624, 0.590499997138977, 0.517300009727478, 0.49070000648498535, 1.184499979019165, 0.37959998846054077, 0.9519000053405762, 0.8384000062942505]}, \"token.table\": {\"Topic\": [3, 4, 3, 2, 3, 1, 2, 1, 4, 1, 2, 3, 4, 4, 1, 4, 1, 1, 1, 1, 2, 4, 2, 1, 2, 3, 1, 4, 3, 4, 4, 3, 1, 2, 4, 3, 4, 3, 1, 2, 1, 4, 3, 3, 1, 2, 1, 3, 3, 3, 1, 2, 1, 1, 4, 3, 4, 4, 3, 4, 2, 1, 3, 2, 4, 1, 1, 2, 3, 1, 4, 2, 4, 1, 3, 1, 4, 1, 2, 4, 4, 3, 1, 4, 1, 2, 2, 4, 3, 4, 3, 2, 1, 1, 3, 3, 4, 1, 3, 3, 3, 1, 2, 3, 1, 2, 1, 2, 1, 2, 4, 4, 2, 3, 2, 1, 2, 1, 1, 2, 1, 2, 4, 3, 2, 3, 2, 3, 3, 2, 3, 1, 2, 3, 3, 4, 1, 3, 3, 1, 2, 2, 3, 3, 3, 1, 2, 2, 1, 4, 3, 1, 1, 3, 2, 3, 1, 2, 3, 2, 1, 4, 4, 1, 4, 2, 1, 2, 4, 1, 4, 3, 1, 3, 3, 1, 3, 4, 3, 1, 4, 1, 3, 1, 3, 1, 2, 4, 1, 2, 3, 1, 3, 3, 1, 2, 4, 1, 2, 3, 4, 3, 1, 3, 1, 2, 3, 4, 1, 2, 3, 2, 3, 4, 2, 1, 2, 2, 2, 1, 2, 1, 3, 4, 1, 1, 2, 2, 3, 4, 1, 2, 4, 1, 2, 1, 4, 2, 4, 2, 3, 1, 2, 3, 2, 3, 2, 2, 1, 2, 3, 1, 3, 1, 2, 4, 1, 2, 4, 4, 4, 1, 3, 1, 2, 3, 1, 3, 1, 2, 1, 2, 2, 1, 3, 2, 3, 1, 2, 1, 2, 3, 4, 1, 4, 2, 2, 4, 3, 3, 3, 1, 3, 2, 1, 4, 2, 2, 1, 4, 1, 2, 2, 3, 1, 1, 3, 4, 1, 3, 2, 1, 2, 2], \"Freq\": [0.7771977782249451, 0.9315926432609558, 0.7042821049690247, 0.8613178133964539, 0.11484237760305405, 0.16540345549583435, 0.8270173072814941, 0.9827370643615723, 0.6822041869163513, 0.612847089767456, 0.3677082657814026, 0.7105409502983093, 0.6822041869163513, 0.9835119843482971, 0.5218648910522461, 0.4348874092102051, 0.9806323647499084, 0.9959483742713928, 0.9970460534095764, 0.19626031816005707, 0.5887809991836548, 0.1308402121067047, 0.9348281621932983, 0.9703066945075989, 0.038812268525362015, 0.7771977782249451, 0.1694663017988205, 0.8473315238952637, 0.603644609451294, 0.301822304725647, 0.8525416851043701, 0.9064216613769531, 0.5446823835372925, 0.4013449251651764, 0.05733498930931091, 0.7771977782249451, 0.6822041869163513, 0.8199276924133301, 0.9827694892883301, 0.8193720579147339, 0.22217579185962677, 0.6665273904800415, 0.9780335426330566, 0.7771977782249451, 0.9721654653549194, 0.044189341366291046, 0.7080485224723816, 0.21241454780101776, 0.6443970203399658, 0.7771977782249451, 0.7888564467430115, 0.20141015946865082, 0.985000729560852, 0.6803534030914307, 0.2551325261592865, 0.24043351411819458, 0.7213005423545837, 0.9578278660774231, 0.7097514271736145, 0.926500141620636, 0.8193720579147339, 0.9731529951095581, 0.7771977782249451, 0.9779598116874695, 0.6822041869163513, 0.9563055038452148, 0.38437309861183167, 0.6149969696998596, 0.7771977782249451, 0.9259517788887024, 0.08051754534244537, 0.8193406462669373, 0.9572849869728088, 0.9933900833129883, 0.7771977782249451, 0.8533965945243835, 0.12191379815340042, 0.7818208932876587, 0.21717247366905212, 0.6822041869163513, 0.6822041869163513, 0.7771977782249451, 0.28239306807518005, 0.5647861361503601, 0.9256841540336609, 0.05445200949907303, 0.952774703502655, 0.6822041869163513, 0.8281159400939941, 0.6822041869163513, 0.7771977782249451, 0.9259345531463623, 0.9628013968467712, 0.9949918985366821, 0.7771977782249451, 0.7289554476737976, 0.6822041869163513, 0.6934711337089539, 0.23115704953670502, 0.7771977782249451, 0.7771977782249451, 0.4276641607284546, 0.4605613946914673, 0.09869173169136047, 1.0036660432815552, 0.9259230494499207, 0.47840002179145813, 0.5315555930137634, 0.5975936055183411, 0.09959893673658371, 0.29879680275917053, 0.6822041869163513, 0.7514662146568298, 0.2504887282848358, 1.0241745710372925, 0.4876538813114166, 0.4876538813114166, 0.9625130891799927, 0.8830536007881165, 0.10812901705503464, 0.9628156423568726, 0.03851262852549553, 0.6822041869163513, 0.9003703594207764, 0.6659817099571228, 0.3329908549785614, 0.9336832165718079, 0.7771977782249451, 0.7771977782249451, 0.9480418562889099, 0.10533798485994339, 0.3378340005874634, 0.6005938053131104, 0.0750742256641388, 0.7145613431930542, 0.8646647930145264, 0.9508652687072754, 0.06791894882917404, 0.7771977782249451, 1.0069226026535034, 0.8447881937026978, 0.9528107047080994, 0.7771977782249451, 0.7722413539886475, 0.8733457922935486, 0.23702605068683624, 0.8295912146568298, 0.8193406462669373, 0.30490440130233765, 0.7622610330581665, 0.7080563306808472, 0.9961054921150208, 0.9838092923164368, 0.7771977782249451, 0.24186798930168152, 0.7256039977073669, 0.4345332384109497, 0.08690664917230606, 0.5214399099349976, 0.8193406462669373, 1.004067301750183, 0.6822041869163513, 0.9439085125923157, 0.5490593314170837, 0.45754942297935486, 0.8193720579147339, 0.9303116798400879, 0.07156243920326233, 0.9311902523040771, 0.5269679427146912, 0.4516867995262146, 0.7285444736480713, 0.39282476902008057, 0.5892371535301208, 0.7105321884155273, 0.6985786557197571, 0.13971573114395142, 0.13971573114395142, 0.7771977782249451, 0.7961950302124023, 0.21714410185813904, 0.9316979050636292, 0.05480575934052467, 0.308489590883255, 0.61697918176651, 0.3034164011478424, 0.6935232281684875, 0.8778852224349976, 0.5085397958755493, 0.5085397958755493, 0.7771977782249451, 0.6044472455978394, 0.3022236227989197, 0.7844710946083069, 0.1933787614107132, 0.4834468960762024, 0.290068119764328, 0.551486611366272, 0.0787838026881218, 0.1575676053762436, 0.2363514006137848, 1.0051300525665283, 0.756385862827301, 0.18909646570682526, 0.24078424274921417, 0.5417645573616028, 0.06019606068730354, 0.1504901498556137, 0.7591210007667542, 0.23419690132141113, 0.008075755089521408, 0.8193720579147339, 0.7097697854042053, 0.9300981760025024, 0.8963773250579834, 0.3308987617492676, 0.6617975234985352, 0.8992074728012085, 0.9579936265945435, 0.9308832883834839, 0.060056984424591064, 0.7046427726745605, 0.2710164487361908, 0.6822041869163513, 0.9423519968986511, 0.9697892069816589, 0.8193720579147339, 0.8193720579147339, 0.7771977782249451, 0.6822041869163513, 0.4664875268936157, 0.36652591824531555, 0.16660268604755402, 0.5610701441764832, 0.42080259323120117, 0.9773339629173279, 0.6822041869163513, 0.243387833237648, 0.7301635146141052, 0.8193406462669373, 0.7771977782249451, 0.5496117472648621, 0.15703192353248596, 0.23554790019989014, 0.978803813457489, 0.9818042516708374, 0.9784573316574097, 0.9549082517623901, 0.37013062834739685, 0.12337687611579895, 0.4935075044631958, 1.0057415962219238, 0.7771977782249451, 0.49040693044662476, 0.2043362259864807, 0.28607070446014404, 0.8467273712158203, 0.12096105515956879, 0.026880234479904175, 0.6822041869163513, 1.0040526390075684, 0.8542693853378296, 0.12203849107027054, 0.4339383542537689, 0.48818063735961914, 0.054242294281721115, 0.657755970954895, 0.3758605718612671, 0.9747868776321411, 1.0241745710372925, 0.8648327589035034, 0.12354753911495209, 0.9293190240859985, 0.8923945426940918, 0.05249379947781563, 0.8193297982215881, 0.910837709903717, 0.14533832669258118, 0.8720299601554871, 0.5877672433853149, 0.023510688915848732, 0.16457483172416687, 0.23510690033435822, 0.7149256467819214, 0.2723526358604431, 0.9622191190719604, 0.26433447003364563, 0.7930034399032593, 0.7771977782249451, 0.7771977782249451, 0.7771977782249451, 0.9909466505050659, 0.7771977782249451, 0.947725772857666, 0.9794138669967651, 0.6822041869163513, 1.0241745710372925, 0.9523638486862183, 0.9852803945541382, 0.8955060839653015, 0.7604469656944275, 0.22813409566879272, 0.7132644653320312, 0.2674741744995117, 0.927823007106781, 0.8048787117004395, 0.20121967792510986, 0.957832396030426, 0.9663090109825134, 0.021961567923426628, 0.9256874918937683, 0.8731250762939453, 0.1284007579088211, 0.8193720579147339], \"Term\": [\"absence\", \"accomodate\", \"air\", \"almost\", \"almost\", \"also\", \"also\", \"amazing\", \"apparently\", \"area\", \"area\", \"around\", \"arrival\", \"arrive\", \"ask\", \"ask\", \"atmosphere\", \"attentive\", \"average\", \"back\", \"back\", \"back\", \"bad\", \"bar\", \"bar\", \"basically\", \"beautifully\", \"beautifully\", \"become\", \"become\", \"beef\", \"big\", \"bit\", \"bit\", \"bit\", \"bone\", \"booking\", \"burger\", \"busy\", \"buttery\", \"call\", \"call\", \"case\", \"celsius\", \"choice\", \"choice\", \"choose\", \"choose\", \"clear\", \"coat\", \"cocktail\", \"cocktail\", \"cold\", \"come\", \"come\", \"concept\", \"concept\", \"confirm\", \"constant\", \"cook\", \"cooking\", \"couple\", \"coziness\", \"creative\", \"cut\", \"decide\", \"definitely\", \"definitely\", \"degree\", \"delicious\", \"delicious\", \"depend\", \"dine\", \"dinner\", \"discussion\", \"dish\", \"dish\", \"drink\", \"drink\", \"drinking\", \"dubious\", \"due\", \"early\", \"early\", \"eat\", \"eat\", \"energy\", \"entire\", \"establishment\", \"eventually\", \"example\", \"exceptional\", \"expensive\", \"experience\", \"explode\", \"exterior\", \"extreme\", \"feel\", \"feel\", \"feeling\", \"figuratively\", \"find\", \"find\", \"find\", \"first\", \"flavor\", \"fresh\", \"fresh\", \"friend\", \"friend\", \"friend\", \"frustrate\", \"full\", \"full\", \"generous\", \"get\", \"get\", \"gin\", \"go\", \"go\", \"great\", \"great\", \"green\", \"happen\", \"happy\", \"happy\", \"healthy\", \"heating\", \"heavy\", \"helpful\", \"helpful\", \"high\", \"high\", \"high\", \"honestly\", \"hot\", \"however\", \"however\", \"imagine\", \"impressed\", \"improvement\", \"inspire\", \"interconnection\", \"interior\", \"jacket\", \"kitchen\", \"kitchen\", \"lately\", \"lay\", \"lay\", \"let\", \"light\", \"limited\", \"literally\", \"location\", \"location\", \"look\", \"look\", \"look\", \"lucky\", \"lunch\", \"made\", \"mash\", \"meat\", \"meat\", \"medium\", \"menu\", \"menu\", \"mind\", \"minute\", \"minute\", \"mistake\", \"money\", \"money\", \"move\", \"much\", \"much\", \"much\", \"nearby\", \"new\", \"new\", \"night\", \"night\", \"notice\", \"notice\", \"offer\", \"offer\", \"often\", \"old\", \"old\", \"one\", \"open\", \"open\", \"option\", \"order\", \"order\", \"order\", \"overall\", \"overall\", \"overall\", \"overall\", \"pay\", \"people\", \"people\", \"perfect\", \"perfect\", \"perfect\", \"perfect\", \"place\", \"place\", \"place\", \"placesecond\", \"plant\", \"platter\", \"point\", \"portion\", \"portion\", \"potato\", \"pretty\", \"price\", \"price\", \"problem\", \"problem\", \"provide\", \"quick\", \"quite\", \"raise\", \"rate\", \"ready\", \"reality\", \"really\", \"really\", \"really\", \"recommend\", \"recommend\", \"relax\", \"release\", \"rice\", \"rice\", \"rise\", \"ruin\", \"salad\", \"salad\", \"salad\", \"salmon\", \"sandwich\", \"sauce\", \"season\", \"seem\", \"seem\", \"seem\", \"selection\", \"separate\", \"serve\", \"serve\", \"serve\", \"service\", \"service\", \"service\", \"share\", \"show\", \"sit\", \"sit\", \"small\", \"small\", \"small\", \"space\", \"space\", \"special\", \"spectacularly\", \"staff\", \"staff\", \"standard\", \"steak\", \"steak\", \"strongly\", \"suppose\", \"surprise\", \"surprise\", \"table\", \"table\", \"table\", \"table\", \"take\", \"take\", \"taste\", \"tell\", \"tell\", \"temperature\", \"thus\", \"tight\", \"time\", \"total\", \"town\", \"try\", \"tweak\", \"uninspire\", \"unusual\", \"usually\", \"vegetable\", \"visit\", \"visit\", \"waiter\", \"waiter\", \"walk\", \"warm\", \"warm\", \"water\", \"well\", \"well\", \"whole\", \"wine\", \"wine\", \"winter\"]}, \"R\": 30, \"lambda.step\": 0.01, \"plot.opts\": {\"xlab\": \"PC1\", \"ylab\": \"PC2\"}, \"topic.order\": [2, 1, 3, 4]};\n",
       "\n",
       "function LDAvis_load_lib(url, callback){\n",
       "  var s = document.createElement('script');\n",
       "  s.src = url;\n",
       "  s.async = true;\n",
       "  s.onreadystatechange = s.onload = callback;\n",
       "  s.onerror = function(){console.warn(\"failed to load library \" + url);};\n",
       "  document.getElementsByTagName(\"head\")[0].appendChild(s);\n",
       "}\n",
       "\n",
       "if(typeof(LDAvis) !== \"undefined\"){\n",
       "   // already loaded: just create the visualization\n",
       "   !function(LDAvis){\n",
       "       new LDAvis(\"#\" + \"ldavis_el156012270117343442512297022\", ldavis_el156012270117343442512297022_data);\n",
       "   }(LDAvis);\n",
       "}else if(typeof define === \"function\" && define.amd){\n",
       "   // require.js is available: use it to load d3/LDAvis\n",
       "   require.config({paths: {d3: \"https://cdnjs.cloudflare.com/ajax/libs/d3/3.5.5/d3.min\"}});\n",
       "   require([\"d3\"], function(d3){\n",
       "      window.d3 = d3;\n",
       "      LDAvis_load_lib(\"https://cdn.rawgit.com/bmabey/pyLDAvis/files/ldavis.v1.0.0.js\", function(){\n",
       "        new LDAvis(\"#\" + \"ldavis_el156012270117343442512297022\", ldavis_el156012270117343442512297022_data);\n",
       "      });\n",
       "    });\n",
       "}else{\n",
       "    // require.js not available: dynamically load d3 & LDAvis\n",
       "    LDAvis_load_lib(\"https://cdnjs.cloudflare.com/ajax/libs/d3/3.5.5/d3.min.js\", function(){\n",
       "         LDAvis_load_lib(\"https://cdn.rawgit.com/bmabey/pyLDAvis/files/ldavis.v1.0.0.js\", function(){\n",
       "                 new LDAvis(\"#\" + \"ldavis_el156012270117343442512297022\", ldavis_el156012270117343442512297022_data);\n",
       "            })\n",
       "         });\n",
       "}\n",
       "</script>"
      ],
      "text/plain": [
       "PreparedData(topic_coordinates=              x         y  topics  cluster       Freq\n",
       "topic                                                \n",
       "1     -0.202594  0.071560       1        1  58.185040\n",
       "0      0.028472  0.192342       2        1  23.363417\n",
       "2      0.230743 -0.061447       3        1   9.459207\n",
       "3     -0.056622 -0.202455       4        1   8.992333, topic_info=        Term       Freq      Total Category  logprob  loglift\n",
       "259    table  42.000000  42.000000  Default  30.0000  30.0000\n",
       "116     take  29.000000  29.000000  Default  29.0000  29.0000\n",
       "134   friend  30.000000  30.000000  Default  28.0000  28.0000\n",
       "201     time  66.000000  66.000000  Default  27.0000  27.0000\n",
       "155    serve  24.000000  24.000000  Default  26.0000  26.0000\n",
       "..       ...        ...        ...      ...      ...      ...\n",
       "62      much   4.205084  28.629560   Topic4  -4.7215   0.4907\n",
       "148     come   3.456520  11.758595   Topic4  -4.9175   1.1845\n",
       "48      dish   3.234536  24.607552   Topic4  -4.9839   0.3796\n",
       "63   overall   2.957020  12.692965   Topic4  -5.0736   0.9519\n",
       "365      new   2.873167  13.815710   Topic4  -5.1023   0.8384\n",
       "\n",
       "[264 rows x 6 columns], token_table=      Topic      Freq        Term\n",
       "term                             \n",
       "1219      3  0.777198     absence\n",
       "995       4  0.931593  accomodate\n",
       "1019      3  0.704282         air\n",
       "88        2  0.861318      almost\n",
       "88        3  0.114842      almost\n",
       "...     ...       ...         ...\n",
       "22        3  0.021962        well\n",
       "939       2  0.925687       whole\n",
       "118       1  0.873125        wine\n",
       "118       2  0.128401        wine\n",
       "1255      2  0.819372      winter\n",
       "\n",
       "[314 rows x 3 columns], R=30, lambda_step=0.01, plot_opts={'xlab': 'PC1', 'ylab': 'PC2'}, topic_order=[2, 1, 3, 4])"
      ]
     },
     "metadata": {},
     "output_type": "display_data"
    }
   ],
   "source": [
    "plot_model(lda_pos_custom, plot ='topic_model')"
   ]
  },
  {
   "cell_type": "code",
   "execution_count": 16,
   "metadata": {},
   "outputs": [
    {
     "data": {
      "application/vnd.jupyter.widget-view+json": {
       "model_id": "",
       "version_major": 2,
       "version_minor": 0
      },
      "text/plain": [
       "IntProgress(value=0, description='Processing: ', max=25)"
      ]
     },
     "metadata": {},
     "output_type": "display_data"
    },
    {
     "data": {
      "application/vnd.jupyter.widget-view+json": {
       "model_id": "a9a3f43f8c20488687c351fd008bca1c",
       "version_major": 2,
       "version_minor": 0
      },
      "text/plain": [
       "Output()"
      ]
     },
     "metadata": {},
     "output_type": "display_data"
    },
    {
     "data": {
      "text/html": [
       "        <script type=\"text/javascript\">\n",
       "        window.PlotlyConfig = {MathJaxConfig: 'local'};\n",
       "        if (window.MathJax) {MathJax.Hub.Config({SVG: {font: \"STIX-Web\"}});}\n",
       "        if (typeof require !== 'undefined') {\n",
       "        require.undef(\"plotly\");\n",
       "        requirejs.config({\n",
       "            paths: {\n",
       "                'plotly': ['https://cdn.plot.ly/plotly-latest.min']\n",
       "            }\n",
       "        });\n",
       "        require(['plotly'], function(Plotly) {\n",
       "            window._Plotly = Plotly;\n",
       "        });\n",
       "        }\n",
       "        </script>\n",
       "        "
      ]
     },
     "metadata": {},
     "output_type": "display_data"
    },
    {
     "data": {
      "application/vnd.plotly.v1+json": {
       "config": {
        "plotlyServerURL": "https://plot.ly"
       },
       "data": [
        {
         "hovertemplate": "Metric=Coherence<br># Topics=%{x}<br>Score=%{y}<extra></extra>",
         "legendgroup": "Coherence",
         "line": {
          "color": "#636efa",
          "dash": "solid",
          "shape": "linear"
         },
         "mode": "lines",
         "name": "Coherence",
         "orientation": "v",
         "showlegend": true,
         "type": "scatter",
         "x": [
          2,
          4,
          8,
          16,
          32,
          64,
          100,
          200,
          300,
          400
         ],
         "xaxis": "x",
         "y": [
          0.33412176941487903,
          0.5163977987770667,
          0.5260724801876293,
          0.3876101434573225,
          0.35877586736636236,
          0.4528243937172932,
          0.44544534634532057,
          0.43935111700657165,
          0.39315911321453245,
          0.3581588228906672
         ],
         "yaxis": "y"
        }
       ],
       "layout": {
        "legend": {
         "title": {
          "text": "Metric"
         },
         "tracegroupgap": 0
        },
        "plot_bgcolor": "rgb(245,245,245)",
        "template": {
         "data": {
          "bar": [
           {
            "error_x": {
             "color": "#2a3f5f"
            },
            "error_y": {
             "color": "#2a3f5f"
            },
            "marker": {
             "line": {
              "color": "#E5ECF6",
              "width": 0.5
             }
            },
            "type": "bar"
           }
          ],
          "barpolar": [
           {
            "marker": {
             "line": {
              "color": "#E5ECF6",
              "width": 0.5
             }
            },
            "type": "barpolar"
           }
          ],
          "carpet": [
           {
            "aaxis": {
             "endlinecolor": "#2a3f5f",
             "gridcolor": "white",
             "linecolor": "white",
             "minorgridcolor": "white",
             "startlinecolor": "#2a3f5f"
            },
            "baxis": {
             "endlinecolor": "#2a3f5f",
             "gridcolor": "white",
             "linecolor": "white",
             "minorgridcolor": "white",
             "startlinecolor": "#2a3f5f"
            },
            "type": "carpet"
           }
          ],
          "choropleth": [
           {
            "colorbar": {
             "outlinewidth": 0,
             "ticks": ""
            },
            "type": "choropleth"
           }
          ],
          "contour": [
           {
            "colorbar": {
             "outlinewidth": 0,
             "ticks": ""
            },
            "colorscale": [
             [
              0,
              "#0d0887"
             ],
             [
              0.1111111111111111,
              "#46039f"
             ],
             [
              0.2222222222222222,
              "#7201a8"
             ],
             [
              0.3333333333333333,
              "#9c179e"
             ],
             [
              0.4444444444444444,
              "#bd3786"
             ],
             [
              0.5555555555555556,
              "#d8576b"
             ],
             [
              0.6666666666666666,
              "#ed7953"
             ],
             [
              0.7777777777777778,
              "#fb9f3a"
             ],
             [
              0.8888888888888888,
              "#fdca26"
             ],
             [
              1,
              "#f0f921"
             ]
            ],
            "type": "contour"
           }
          ],
          "contourcarpet": [
           {
            "colorbar": {
             "outlinewidth": 0,
             "ticks": ""
            },
            "type": "contourcarpet"
           }
          ],
          "heatmap": [
           {
            "colorbar": {
             "outlinewidth": 0,
             "ticks": ""
            },
            "colorscale": [
             [
              0,
              "#0d0887"
             ],
             [
              0.1111111111111111,
              "#46039f"
             ],
             [
              0.2222222222222222,
              "#7201a8"
             ],
             [
              0.3333333333333333,
              "#9c179e"
             ],
             [
              0.4444444444444444,
              "#bd3786"
             ],
             [
              0.5555555555555556,
              "#d8576b"
             ],
             [
              0.6666666666666666,
              "#ed7953"
             ],
             [
              0.7777777777777778,
              "#fb9f3a"
             ],
             [
              0.8888888888888888,
              "#fdca26"
             ],
             [
              1,
              "#f0f921"
             ]
            ],
            "type": "heatmap"
           }
          ],
          "heatmapgl": [
           {
            "colorbar": {
             "outlinewidth": 0,
             "ticks": ""
            },
            "colorscale": [
             [
              0,
              "#0d0887"
             ],
             [
              0.1111111111111111,
              "#46039f"
             ],
             [
              0.2222222222222222,
              "#7201a8"
             ],
             [
              0.3333333333333333,
              "#9c179e"
             ],
             [
              0.4444444444444444,
              "#bd3786"
             ],
             [
              0.5555555555555556,
              "#d8576b"
             ],
             [
              0.6666666666666666,
              "#ed7953"
             ],
             [
              0.7777777777777778,
              "#fb9f3a"
             ],
             [
              0.8888888888888888,
              "#fdca26"
             ],
             [
              1,
              "#f0f921"
             ]
            ],
            "type": "heatmapgl"
           }
          ],
          "histogram": [
           {
            "marker": {
             "colorbar": {
              "outlinewidth": 0,
              "ticks": ""
             }
            },
            "type": "histogram"
           }
          ],
          "histogram2d": [
           {
            "colorbar": {
             "outlinewidth": 0,
             "ticks": ""
            },
            "colorscale": [
             [
              0,
              "#0d0887"
             ],
             [
              0.1111111111111111,
              "#46039f"
             ],
             [
              0.2222222222222222,
              "#7201a8"
             ],
             [
              0.3333333333333333,
              "#9c179e"
             ],
             [
              0.4444444444444444,
              "#bd3786"
             ],
             [
              0.5555555555555556,
              "#d8576b"
             ],
             [
              0.6666666666666666,
              "#ed7953"
             ],
             [
              0.7777777777777778,
              "#fb9f3a"
             ],
             [
              0.8888888888888888,
              "#fdca26"
             ],
             [
              1,
              "#f0f921"
             ]
            ],
            "type": "histogram2d"
           }
          ],
          "histogram2dcontour": [
           {
            "colorbar": {
             "outlinewidth": 0,
             "ticks": ""
            },
            "colorscale": [
             [
              0,
              "#0d0887"
             ],
             [
              0.1111111111111111,
              "#46039f"
             ],
             [
              0.2222222222222222,
              "#7201a8"
             ],
             [
              0.3333333333333333,
              "#9c179e"
             ],
             [
              0.4444444444444444,
              "#bd3786"
             ],
             [
              0.5555555555555556,
              "#d8576b"
             ],
             [
              0.6666666666666666,
              "#ed7953"
             ],
             [
              0.7777777777777778,
              "#fb9f3a"
             ],
             [
              0.8888888888888888,
              "#fdca26"
             ],
             [
              1,
              "#f0f921"
             ]
            ],
            "type": "histogram2dcontour"
           }
          ],
          "mesh3d": [
           {
            "colorbar": {
             "outlinewidth": 0,
             "ticks": ""
            },
            "type": "mesh3d"
           }
          ],
          "parcoords": [
           {
            "line": {
             "colorbar": {
              "outlinewidth": 0,
              "ticks": ""
             }
            },
            "type": "parcoords"
           }
          ],
          "pie": [
           {
            "automargin": true,
            "type": "pie"
           }
          ],
          "scatter": [
           {
            "marker": {
             "colorbar": {
              "outlinewidth": 0,
              "ticks": ""
             }
            },
            "type": "scatter"
           }
          ],
          "scatter3d": [
           {
            "line": {
             "colorbar": {
              "outlinewidth": 0,
              "ticks": ""
             }
            },
            "marker": {
             "colorbar": {
              "outlinewidth": 0,
              "ticks": ""
             }
            },
            "type": "scatter3d"
           }
          ],
          "scattercarpet": [
           {
            "marker": {
             "colorbar": {
              "outlinewidth": 0,
              "ticks": ""
             }
            },
            "type": "scattercarpet"
           }
          ],
          "scattergeo": [
           {
            "marker": {
             "colorbar": {
              "outlinewidth": 0,
              "ticks": ""
             }
            },
            "type": "scattergeo"
           }
          ],
          "scattergl": [
           {
            "marker": {
             "colorbar": {
              "outlinewidth": 0,
              "ticks": ""
             }
            },
            "type": "scattergl"
           }
          ],
          "scattermapbox": [
           {
            "marker": {
             "colorbar": {
              "outlinewidth": 0,
              "ticks": ""
             }
            },
            "type": "scattermapbox"
           }
          ],
          "scatterpolar": [
           {
            "marker": {
             "colorbar": {
              "outlinewidth": 0,
              "ticks": ""
             }
            },
            "type": "scatterpolar"
           }
          ],
          "scatterpolargl": [
           {
            "marker": {
             "colorbar": {
              "outlinewidth": 0,
              "ticks": ""
             }
            },
            "type": "scatterpolargl"
           }
          ],
          "scatterternary": [
           {
            "marker": {
             "colorbar": {
              "outlinewidth": 0,
              "ticks": ""
             }
            },
            "type": "scatterternary"
           }
          ],
          "surface": [
           {
            "colorbar": {
             "outlinewidth": 0,
             "ticks": ""
            },
            "colorscale": [
             [
              0,
              "#0d0887"
             ],
             [
              0.1111111111111111,
              "#46039f"
             ],
             [
              0.2222222222222222,
              "#7201a8"
             ],
             [
              0.3333333333333333,
              "#9c179e"
             ],
             [
              0.4444444444444444,
              "#bd3786"
             ],
             [
              0.5555555555555556,
              "#d8576b"
             ],
             [
              0.6666666666666666,
              "#ed7953"
             ],
             [
              0.7777777777777778,
              "#fb9f3a"
             ],
             [
              0.8888888888888888,
              "#fdca26"
             ],
             [
              1,
              "#f0f921"
             ]
            ],
            "type": "surface"
           }
          ],
          "table": [
           {
            "cells": {
             "fill": {
              "color": "#EBF0F8"
             },
             "line": {
              "color": "white"
             }
            },
            "header": {
             "fill": {
              "color": "#C8D4E3"
             },
             "line": {
              "color": "white"
             }
            },
            "type": "table"
           }
          ]
         },
         "layout": {
          "annotationdefaults": {
           "arrowcolor": "#2a3f5f",
           "arrowhead": 0,
           "arrowwidth": 1
          },
          "coloraxis": {
           "colorbar": {
            "outlinewidth": 0,
            "ticks": ""
           }
          },
          "colorscale": {
           "diverging": [
            [
             0,
             "#8e0152"
            ],
            [
             0.1,
             "#c51b7d"
            ],
            [
             0.2,
             "#de77ae"
            ],
            [
             0.3,
             "#f1b6da"
            ],
            [
             0.4,
             "#fde0ef"
            ],
            [
             0.5,
             "#f7f7f7"
            ],
            [
             0.6,
             "#e6f5d0"
            ],
            [
             0.7,
             "#b8e186"
            ],
            [
             0.8,
             "#7fbc41"
            ],
            [
             0.9,
             "#4d9221"
            ],
            [
             1,
             "#276419"
            ]
           ],
           "sequential": [
            [
             0,
             "#0d0887"
            ],
            [
             0.1111111111111111,
             "#46039f"
            ],
            [
             0.2222222222222222,
             "#7201a8"
            ],
            [
             0.3333333333333333,
             "#9c179e"
            ],
            [
             0.4444444444444444,
             "#bd3786"
            ],
            [
             0.5555555555555556,
             "#d8576b"
            ],
            [
             0.6666666666666666,
             "#ed7953"
            ],
            [
             0.7777777777777778,
             "#fb9f3a"
            ],
            [
             0.8888888888888888,
             "#fdca26"
            ],
            [
             1,
             "#f0f921"
            ]
           ],
           "sequentialminus": [
            [
             0,
             "#0d0887"
            ],
            [
             0.1111111111111111,
             "#46039f"
            ],
            [
             0.2222222222222222,
             "#7201a8"
            ],
            [
             0.3333333333333333,
             "#9c179e"
            ],
            [
             0.4444444444444444,
             "#bd3786"
            ],
            [
             0.5555555555555556,
             "#d8576b"
            ],
            [
             0.6666666666666666,
             "#ed7953"
            ],
            [
             0.7777777777777778,
             "#fb9f3a"
            ],
            [
             0.8888888888888888,
             "#fdca26"
            ],
            [
             1,
             "#f0f921"
            ]
           ]
          },
          "colorway": [
           "#636efa",
           "#EF553B",
           "#00cc96",
           "#ab63fa",
           "#FFA15A",
           "#19d3f3",
           "#FF6692",
           "#B6E880",
           "#FF97FF",
           "#FECB52"
          ],
          "font": {
           "color": "#2a3f5f"
          },
          "geo": {
           "bgcolor": "white",
           "lakecolor": "white",
           "landcolor": "#E5ECF6",
           "showlakes": true,
           "showland": true,
           "subunitcolor": "white"
          },
          "hoverlabel": {
           "align": "left"
          },
          "hovermode": "closest",
          "mapbox": {
           "style": "light"
          },
          "paper_bgcolor": "white",
          "plot_bgcolor": "#E5ECF6",
          "polar": {
           "angularaxis": {
            "gridcolor": "white",
            "linecolor": "white",
            "ticks": ""
           },
           "bgcolor": "#E5ECF6",
           "radialaxis": {
            "gridcolor": "white",
            "linecolor": "white",
            "ticks": ""
           }
          },
          "scene": {
           "xaxis": {
            "backgroundcolor": "#E5ECF6",
            "gridcolor": "white",
            "gridwidth": 2,
            "linecolor": "white",
            "showbackground": true,
            "ticks": "",
            "zerolinecolor": "white"
           },
           "yaxis": {
            "backgroundcolor": "#E5ECF6",
            "gridcolor": "white",
            "gridwidth": 2,
            "linecolor": "white",
            "showbackground": true,
            "ticks": "",
            "zerolinecolor": "white"
           },
           "zaxis": {
            "backgroundcolor": "#E5ECF6",
            "gridcolor": "white",
            "gridwidth": 2,
            "linecolor": "white",
            "showbackground": true,
            "ticks": "",
            "zerolinecolor": "white"
           }
          },
          "shapedefaults": {
           "line": {
            "color": "#2a3f5f"
           }
          },
          "ternary": {
           "aaxis": {
            "gridcolor": "white",
            "linecolor": "white",
            "ticks": ""
           },
           "baxis": {
            "gridcolor": "white",
            "linecolor": "white",
            "ticks": ""
           },
           "bgcolor": "#E5ECF6",
           "caxis": {
            "gridcolor": "white",
            "linecolor": "white",
            "ticks": ""
           }
          },
          "title": {
           "x": 0.05
          },
          "xaxis": {
           "automargin": true,
           "gridcolor": "white",
           "linecolor": "white",
           "ticks": "",
           "title": {
            "standoff": 15
           },
           "zerolinecolor": "white",
           "zerolinewidth": 2
          },
          "yaxis": {
           "automargin": true,
           "gridcolor": "white",
           "linecolor": "white",
           "ticks": "",
           "title": {
            "standoff": 15
           },
           "zerolinecolor": "white",
           "zerolinewidth": 2
          }
         }
        },
        "title": {
         "text": "Coherence Value and # of Topics"
        },
        "xaxis": {
         "anchor": "y",
         "domain": [
          0,
          1
         ],
         "title": {
          "text": "# Topics"
         }
        },
        "yaxis": {
         "anchor": "x",
         "domain": [
          0,
          1
         ],
         "title": {
          "text": "Score"
         }
        }
       }
      },
      "text/html": [
       "<div>\n",
       "        \n",
       "        \n",
       "            <div id=\"bbe817c5-9f89-490e-9cd7-5f44eb33d092\" class=\"plotly-graph-div\" style=\"height:525px; width:100%;\"></div>\n",
       "            <script type=\"text/javascript\">\n",
       "                require([\"plotly\"], function(Plotly) {\n",
       "                    window.PLOTLYENV=window.PLOTLYENV || {};\n",
       "                    \n",
       "                if (document.getElementById(\"bbe817c5-9f89-490e-9cd7-5f44eb33d092\")) {\n",
       "                    Plotly.newPlot(\n",
       "                        'bbe817c5-9f89-490e-9cd7-5f44eb33d092',\n",
       "                        [{\"hovertemplate\": \"Metric=Coherence<br># Topics=%{x}<br>Score=%{y}<extra></extra>\", \"legendgroup\": \"Coherence\", \"line\": {\"color\": \"#636efa\", \"dash\": \"solid\", \"shape\": \"linear\"}, \"mode\": \"lines\", \"name\": \"Coherence\", \"orientation\": \"v\", \"showlegend\": true, \"type\": \"scatter\", \"x\": [2, 4, 8, 16, 32, 64, 100, 200, 300, 400], \"xaxis\": \"x\", \"y\": [0.33412176941487903, 0.5163977987770667, 0.5260724801876293, 0.3876101434573225, 0.35877586736636236, 0.4528243937172932, 0.44544534634532057, 0.43935111700657165, 0.39315911321453245, 0.3581588228906672], \"yaxis\": \"y\"}],\n",
       "                        {\"legend\": {\"title\": {\"text\": \"Metric\"}, \"tracegroupgap\": 0}, \"plot_bgcolor\": \"rgb(245,245,245)\", \"template\": {\"data\": {\"bar\": [{\"error_x\": {\"color\": \"#2a3f5f\"}, \"error_y\": {\"color\": \"#2a3f5f\"}, \"marker\": {\"line\": {\"color\": \"#E5ECF6\", \"width\": 0.5}}, \"type\": \"bar\"}], \"barpolar\": [{\"marker\": {\"line\": {\"color\": \"#E5ECF6\", \"width\": 0.5}}, \"type\": \"barpolar\"}], \"carpet\": [{\"aaxis\": {\"endlinecolor\": \"#2a3f5f\", \"gridcolor\": \"white\", \"linecolor\": \"white\", \"minorgridcolor\": \"white\", \"startlinecolor\": \"#2a3f5f\"}, \"baxis\": {\"endlinecolor\": \"#2a3f5f\", \"gridcolor\": \"white\", \"linecolor\": \"white\", \"minorgridcolor\": \"white\", \"startlinecolor\": \"#2a3f5f\"}, \"type\": \"carpet\"}], \"choropleth\": [{\"colorbar\": {\"outlinewidth\": 0, \"ticks\": \"\"}, \"type\": \"choropleth\"}], \"contour\": [{\"colorbar\": {\"outlinewidth\": 0, \"ticks\": \"\"}, \"colorscale\": [[0.0, \"#0d0887\"], [0.1111111111111111, \"#46039f\"], [0.2222222222222222, \"#7201a8\"], [0.3333333333333333, \"#9c179e\"], [0.4444444444444444, \"#bd3786\"], [0.5555555555555556, \"#d8576b\"], [0.6666666666666666, \"#ed7953\"], [0.7777777777777778, \"#fb9f3a\"], [0.8888888888888888, \"#fdca26\"], [1.0, \"#f0f921\"]], \"type\": \"contour\"}], \"contourcarpet\": [{\"colorbar\": {\"outlinewidth\": 0, \"ticks\": \"\"}, \"type\": \"contourcarpet\"}], \"heatmap\": [{\"colorbar\": {\"outlinewidth\": 0, \"ticks\": \"\"}, \"colorscale\": [[0.0, \"#0d0887\"], [0.1111111111111111, \"#46039f\"], [0.2222222222222222, \"#7201a8\"], [0.3333333333333333, \"#9c179e\"], [0.4444444444444444, \"#bd3786\"], [0.5555555555555556, \"#d8576b\"], [0.6666666666666666, \"#ed7953\"], [0.7777777777777778, \"#fb9f3a\"], [0.8888888888888888, \"#fdca26\"], [1.0, \"#f0f921\"]], \"type\": \"heatmap\"}], \"heatmapgl\": [{\"colorbar\": {\"outlinewidth\": 0, \"ticks\": \"\"}, \"colorscale\": [[0.0, \"#0d0887\"], [0.1111111111111111, \"#46039f\"], [0.2222222222222222, \"#7201a8\"], [0.3333333333333333, \"#9c179e\"], [0.4444444444444444, \"#bd3786\"], [0.5555555555555556, \"#d8576b\"], [0.6666666666666666, \"#ed7953\"], [0.7777777777777778, \"#fb9f3a\"], [0.8888888888888888, \"#fdca26\"], [1.0, \"#f0f921\"]], \"type\": \"heatmapgl\"}], \"histogram\": [{\"marker\": {\"colorbar\": {\"outlinewidth\": 0, \"ticks\": \"\"}}, \"type\": \"histogram\"}], \"histogram2d\": [{\"colorbar\": {\"outlinewidth\": 0, \"ticks\": \"\"}, \"colorscale\": [[0.0, \"#0d0887\"], [0.1111111111111111, \"#46039f\"], [0.2222222222222222, \"#7201a8\"], [0.3333333333333333, \"#9c179e\"], [0.4444444444444444, \"#bd3786\"], [0.5555555555555556, \"#d8576b\"], [0.6666666666666666, \"#ed7953\"], [0.7777777777777778, \"#fb9f3a\"], [0.8888888888888888, \"#fdca26\"], [1.0, \"#f0f921\"]], \"type\": \"histogram2d\"}], \"histogram2dcontour\": [{\"colorbar\": {\"outlinewidth\": 0, \"ticks\": \"\"}, \"colorscale\": [[0.0, \"#0d0887\"], [0.1111111111111111, \"#46039f\"], [0.2222222222222222, \"#7201a8\"], [0.3333333333333333, \"#9c179e\"], [0.4444444444444444, \"#bd3786\"], [0.5555555555555556, \"#d8576b\"], [0.6666666666666666, \"#ed7953\"], [0.7777777777777778, \"#fb9f3a\"], [0.8888888888888888, \"#fdca26\"], [1.0, \"#f0f921\"]], \"type\": \"histogram2dcontour\"}], \"mesh3d\": [{\"colorbar\": {\"outlinewidth\": 0, \"ticks\": \"\"}, \"type\": \"mesh3d\"}], \"parcoords\": [{\"line\": {\"colorbar\": {\"outlinewidth\": 0, \"ticks\": \"\"}}, \"type\": \"parcoords\"}], \"pie\": [{\"automargin\": true, \"type\": \"pie\"}], \"scatter\": [{\"marker\": {\"colorbar\": {\"outlinewidth\": 0, \"ticks\": \"\"}}, \"type\": \"scatter\"}], \"scatter3d\": [{\"line\": {\"colorbar\": {\"outlinewidth\": 0, \"ticks\": \"\"}}, \"marker\": {\"colorbar\": {\"outlinewidth\": 0, \"ticks\": \"\"}}, \"type\": \"scatter3d\"}], \"scattercarpet\": [{\"marker\": {\"colorbar\": {\"outlinewidth\": 0, \"ticks\": \"\"}}, \"type\": \"scattercarpet\"}], \"scattergeo\": [{\"marker\": {\"colorbar\": {\"outlinewidth\": 0, \"ticks\": \"\"}}, \"type\": \"scattergeo\"}], \"scattergl\": [{\"marker\": {\"colorbar\": {\"outlinewidth\": 0, \"ticks\": \"\"}}, \"type\": \"scattergl\"}], \"scattermapbox\": [{\"marker\": {\"colorbar\": {\"outlinewidth\": 0, \"ticks\": \"\"}}, \"type\": \"scattermapbox\"}], \"scatterpolar\": [{\"marker\": {\"colorbar\": {\"outlinewidth\": 0, \"ticks\": \"\"}}, \"type\": \"scatterpolar\"}], \"scatterpolargl\": [{\"marker\": {\"colorbar\": {\"outlinewidth\": 0, \"ticks\": \"\"}}, \"type\": \"scatterpolargl\"}], \"scatterternary\": [{\"marker\": {\"colorbar\": {\"outlinewidth\": 0, \"ticks\": \"\"}}, \"type\": \"scatterternary\"}], \"surface\": [{\"colorbar\": {\"outlinewidth\": 0, \"ticks\": \"\"}, \"colorscale\": [[0.0, \"#0d0887\"], [0.1111111111111111, \"#46039f\"], [0.2222222222222222, \"#7201a8\"], [0.3333333333333333, \"#9c179e\"], [0.4444444444444444, \"#bd3786\"], [0.5555555555555556, \"#d8576b\"], [0.6666666666666666, \"#ed7953\"], [0.7777777777777778, \"#fb9f3a\"], [0.8888888888888888, \"#fdca26\"], [1.0, \"#f0f921\"]], \"type\": \"surface\"}], \"table\": [{\"cells\": {\"fill\": {\"color\": \"#EBF0F8\"}, \"line\": {\"color\": \"white\"}}, \"header\": {\"fill\": {\"color\": \"#C8D4E3\"}, \"line\": {\"color\": \"white\"}}, \"type\": \"table\"}]}, \"layout\": {\"annotationdefaults\": {\"arrowcolor\": \"#2a3f5f\", \"arrowhead\": 0, \"arrowwidth\": 1}, \"coloraxis\": {\"colorbar\": {\"outlinewidth\": 0, \"ticks\": \"\"}}, \"colorscale\": {\"diverging\": [[0, \"#8e0152\"], [0.1, \"#c51b7d\"], [0.2, \"#de77ae\"], [0.3, \"#f1b6da\"], [0.4, \"#fde0ef\"], [0.5, \"#f7f7f7\"], [0.6, \"#e6f5d0\"], [0.7, \"#b8e186\"], [0.8, \"#7fbc41\"], [0.9, \"#4d9221\"], [1, \"#276419\"]], \"sequential\": [[0.0, \"#0d0887\"], [0.1111111111111111, \"#46039f\"], [0.2222222222222222, \"#7201a8\"], [0.3333333333333333, \"#9c179e\"], [0.4444444444444444, \"#bd3786\"], [0.5555555555555556, \"#d8576b\"], [0.6666666666666666, \"#ed7953\"], [0.7777777777777778, \"#fb9f3a\"], [0.8888888888888888, \"#fdca26\"], [1.0, \"#f0f921\"]], \"sequentialminus\": [[0.0, \"#0d0887\"], [0.1111111111111111, \"#46039f\"], [0.2222222222222222, \"#7201a8\"], [0.3333333333333333, \"#9c179e\"], [0.4444444444444444, \"#bd3786\"], [0.5555555555555556, \"#d8576b\"], [0.6666666666666666, \"#ed7953\"], [0.7777777777777778, \"#fb9f3a\"], [0.8888888888888888, \"#fdca26\"], [1.0, \"#f0f921\"]]}, \"colorway\": [\"#636efa\", \"#EF553B\", \"#00cc96\", \"#ab63fa\", \"#FFA15A\", \"#19d3f3\", \"#FF6692\", \"#B6E880\", \"#FF97FF\", \"#FECB52\"], \"font\": {\"color\": \"#2a3f5f\"}, \"geo\": {\"bgcolor\": \"white\", \"lakecolor\": \"white\", \"landcolor\": \"#E5ECF6\", \"showlakes\": true, \"showland\": true, \"subunitcolor\": \"white\"}, \"hoverlabel\": {\"align\": \"left\"}, \"hovermode\": \"closest\", \"mapbox\": {\"style\": \"light\"}, \"paper_bgcolor\": \"white\", \"plot_bgcolor\": \"#E5ECF6\", \"polar\": {\"angularaxis\": {\"gridcolor\": \"white\", \"linecolor\": \"white\", \"ticks\": \"\"}, \"bgcolor\": \"#E5ECF6\", \"radialaxis\": {\"gridcolor\": \"white\", \"linecolor\": \"white\", \"ticks\": \"\"}}, \"scene\": {\"xaxis\": {\"backgroundcolor\": \"#E5ECF6\", \"gridcolor\": \"white\", \"gridwidth\": 2, \"linecolor\": \"white\", \"showbackground\": true, \"ticks\": \"\", \"zerolinecolor\": \"white\"}, \"yaxis\": {\"backgroundcolor\": \"#E5ECF6\", \"gridcolor\": \"white\", \"gridwidth\": 2, \"linecolor\": \"white\", \"showbackground\": true, \"ticks\": \"\", \"zerolinecolor\": \"white\"}, \"zaxis\": {\"backgroundcolor\": \"#E5ECF6\", \"gridcolor\": \"white\", \"gridwidth\": 2, \"linecolor\": \"white\", \"showbackground\": true, \"ticks\": \"\", \"zerolinecolor\": \"white\"}}, \"shapedefaults\": {\"line\": {\"color\": \"#2a3f5f\"}}, \"ternary\": {\"aaxis\": {\"gridcolor\": \"white\", \"linecolor\": \"white\", \"ticks\": \"\"}, \"baxis\": {\"gridcolor\": \"white\", \"linecolor\": \"white\", \"ticks\": \"\"}, \"bgcolor\": \"#E5ECF6\", \"caxis\": {\"gridcolor\": \"white\", \"linecolor\": \"white\", \"ticks\": \"\"}}, \"title\": {\"x\": 0.05}, \"xaxis\": {\"automargin\": true, \"gridcolor\": \"white\", \"linecolor\": \"white\", \"ticks\": \"\", \"title\": {\"standoff\": 15}, \"zerolinecolor\": \"white\", \"zerolinewidth\": 2}, \"yaxis\": {\"automargin\": true, \"gridcolor\": \"white\", \"linecolor\": \"white\", \"ticks\": \"\", \"title\": {\"standoff\": 15}, \"zerolinecolor\": \"white\", \"zerolinewidth\": 2}}}, \"title\": {\"text\": \"Coherence Value and # of Topics\"}, \"xaxis\": {\"anchor\": \"y\", \"domain\": [0.0, 1.0], \"title\": {\"text\": \"# Topics\"}}, \"yaxis\": {\"anchor\": \"x\", \"domain\": [0.0, 1.0], \"title\": {\"text\": \"Score\"}}},\n",
       "                        {\"responsive\": true}\n",
       "                    ).then(function(){\n",
       "                            \n",
       "var gd = document.getElementById('bbe817c5-9f89-490e-9cd7-5f44eb33d092');\n",
       "var x = new MutationObserver(function (mutations, observer) {{\n",
       "        var display = window.getComputedStyle(gd).display;\n",
       "        if (!display || display === 'none') {{\n",
       "            console.log([gd, 'removed!']);\n",
       "            Plotly.purge(gd);\n",
       "            observer.disconnect();\n",
       "        }}\n",
       "}});\n",
       "\n",
       "// Listen for the removal of the full notebook cells\n",
       "var notebookContainer = gd.closest('#notebook-container');\n",
       "if (notebookContainer) {{\n",
       "    x.observe(notebookContainer, {childList: true});\n",
       "}}\n",
       "\n",
       "// Listen for the clearing of the current output cell\n",
       "var outputEl = gd.closest('.output');\n",
       "if (outputEl) {{\n",
       "    x.observe(outputEl, {childList: true});\n",
       "}}\n",
       "\n",
       "                        })\n",
       "                };\n",
       "                });\n",
       "            </script>\n",
       "        </div>"
      ]
     },
     "metadata": {},
     "output_type": "display_data"
    },
    {
     "name": "stdout",
     "output_type": "stream",
     "text": [
      "Best Model: Latent Dirichlet Allocation | # Topics: 8 | Coherence: 0.5261\n"
     ]
    }
   ],
   "source": [
    "tune_lda_positive = tune_model(model='lda', supervised_target=None, estimator='xgboost')"
   ]
  },
  {
   "cell_type": "markdown",
   "metadata": {},
   "source": [
    "## Negative reviews"
   ]
  },
  {
   "cell_type": "code",
   "execution_count": 17,
   "metadata": {},
   "outputs": [
    {
     "data": {
      "text/html": [
       "<style  type=\"text/css\" >\n",
       "</style><table id=\"T_927a2f6c_3271_11eb_b1a0_c48e8ff9d2e0\" ><thead>    <tr>        <th class=\"col_heading level0 col0\" >Description</th>        <th class=\"col_heading level0 col1\" >Value</th>    </tr></thead><tbody>\n",
       "                <tr>\n",
       "                                <td id=\"T_927a2f6c_3271_11eb_b1a0_c48e8ff9d2e0row0_col0\" class=\"data row0 col0\" >session_id</td>\n",
       "                        <td id=\"T_927a2f6c_3271_11eb_b1a0_c48e8ff9d2e0row0_col1\" class=\"data row0 col1\" >7145</td>\n",
       "            </tr>\n",
       "            <tr>\n",
       "                                <td id=\"T_927a2f6c_3271_11eb_b1a0_c48e8ff9d2e0row1_col0\" class=\"data row1 col0\" >Documents</td>\n",
       "                        <td id=\"T_927a2f6c_3271_11eb_b1a0_c48e8ff9d2e0row1_col1\" class=\"data row1 col1\" >14</td>\n",
       "            </tr>\n",
       "            <tr>\n",
       "                                <td id=\"T_927a2f6c_3271_11eb_b1a0_c48e8ff9d2e0row2_col0\" class=\"data row2 col0\" >Vocab Size</td>\n",
       "                        <td id=\"T_927a2f6c_3271_11eb_b1a0_c48e8ff9d2e0row2_col1\" class=\"data row2 col1\" >296</td>\n",
       "            </tr>\n",
       "            <tr>\n",
       "                                <td id=\"T_927a2f6c_3271_11eb_b1a0_c48e8ff9d2e0row3_col0\" class=\"data row3 col0\" >Custom Stopwords</td>\n",
       "                        <td id=\"T_927a2f6c_3271_11eb_b1a0_c48e8ff9d2e0row3_col1\" class=\"data row3 col1\" >True</td>\n",
       "            </tr>\n",
       "    </tbody></table>"
      ],
      "text/plain": [
       "<pandas.io.formats.style.Styler at 0x11db15bda08>"
      ]
     },
     "metadata": {},
     "output_type": "display_data"
    }
   ],
   "source": [
    "exp_nlp_neg = setup(data = neg_review_imp, target = 'r_text',\n",
    "                custom_stopwords = [ 'hotel', 'room', 'nice', 'good','restaurant', 'food','bad'])"
   ]
  },
  {
   "cell_type": "code",
   "execution_count": 18,
   "metadata": {},
   "outputs": [
    {
     "name": "stdout",
     "output_type": "stream",
     "text": [
      "LdaModel(num_terms=296, num_topics=4, decay=0.5, chunksize=100)\n"
     ]
    }
   ],
   "source": [
    "#create an LDA model\n",
    "lda_neg_custom = create_model('lda')\n",
    "print(lda_neg_custom)"
   ]
  },
  {
   "cell_type": "code",
   "execution_count": 19,
   "metadata": {},
   "outputs": [
    {
     "data": {
      "text/html": [
       "<div>\n",
       "<style scoped>\n",
       "    .dataframe tbody tr th:only-of-type {\n",
       "        vertical-align: middle;\n",
       "    }\n",
       "\n",
       "    .dataframe tbody tr th {\n",
       "        vertical-align: top;\n",
       "    }\n",
       "\n",
       "    .dataframe thead th {\n",
       "        text-align: right;\n",
       "    }\n",
       "</style>\n",
       "<table border=\"1\" class=\"dataframe\">\n",
       "  <thead>\n",
       "    <tr style=\"text-align: right;\">\n",
       "      <th></th>\n",
       "      <th>Unnamed: 0</th>\n",
       "      <th>r_points</th>\n",
       "      <th>r_text</th>\n",
       "      <th>place</th>\n",
       "      <th>scores</th>\n",
       "      <th>compound</th>\n",
       "      <th>score</th>\n",
       "      <th>Topic_0</th>\n",
       "      <th>Topic_1</th>\n",
       "      <th>Topic_2</th>\n",
       "      <th>Topic_3</th>\n",
       "      <th>Dominant_Topic</th>\n",
       "      <th>Perc_Dominant_Topic</th>\n",
       "    </tr>\n",
       "  </thead>\n",
       "  <tbody>\n",
       "    <tr>\n",
       "      <th>0</th>\n",
       "      <td>37</td>\n",
       "      <td>20</td>\n",
       "      <td>try different dish none satisfactory sense tas...</td>\n",
       "      <td>The Gym</td>\n",
       "      <td>{'neg': 0.293, 'neu': 0.586, 'pos': 0.121, 'co...</td>\n",
       "      <td>-0.5272</td>\n",
       "      <td>neg</td>\n",
       "      <td>0.003950</td>\n",
       "      <td>0.004573</td>\n",
       "      <td>0.004680</td>\n",
       "      <td>0.986797</td>\n",
       "      <td>Topic 3</td>\n",
       "      <td>0.99</td>\n",
       "    </tr>\n",
       "    <tr>\n",
       "      <th>1</th>\n",
       "      <td>39</td>\n",
       "      <td>10</td>\n",
       "      <td>destroy evening manager host racist make reser...</td>\n",
       "      <td>The Gym</td>\n",
       "      <td>{'neg': 0.149, 'neu': 0.81, 'pos': 0.041, 'com...</td>\n",
       "      <td>-0.9864</td>\n",
       "      <td>neg</td>\n",
       "      <td>0.000507</td>\n",
       "      <td>0.000586</td>\n",
       "      <td>0.000600</td>\n",
       "      <td>0.998307</td>\n",
       "      <td>Topic 3</td>\n",
       "      <td>1.00</td>\n",
       "    </tr>\n",
       "    <tr>\n",
       "      <th>2</th>\n",
       "      <td>51</td>\n",
       "      <td>10</td>\n",
       "      <td>go tonight say absolutely dreadful night custo...</td>\n",
       "      <td>The Gym</td>\n",
       "      <td>{'neg': 0.241, 'neu': 0.714, 'pos': 0.045, 'co...</td>\n",
       "      <td>-0.9228</td>\n",
       "      <td>neg</td>\n",
       "      <td>0.001913</td>\n",
       "      <td>0.002215</td>\n",
       "      <td>0.994021</td>\n",
       "      <td>0.001851</td>\n",
       "      <td>Topic 2</td>\n",
       "      <td>0.99</td>\n",
       "    </tr>\n",
       "    <tr>\n",
       "      <th>3</th>\n",
       "      <td>87</td>\n",
       "      <td>20</td>\n",
       "      <td>go look online menu inform end order lunch men...</td>\n",
       "      <td>The Gym</td>\n",
       "      <td>{'neg': 0.075, 'neu': 0.906, 'pos': 0.019, 'co...</td>\n",
       "      <td>-0.7695</td>\n",
       "      <td>neg</td>\n",
       "      <td>0.000659</td>\n",
       "      <td>0.000763</td>\n",
       "      <td>0.997941</td>\n",
       "      <td>0.000637</td>\n",
       "      <td>Topic 2</td>\n",
       "      <td>1.00</td>\n",
       "    </tr>\n",
       "    <tr>\n",
       "      <th>4</th>\n",
       "      <td>90</td>\n",
       "      <td>30</td>\n",
       "      <td>place drink service bit today dry burger reaso...</td>\n",
       "      <td>The Gym</td>\n",
       "      <td>{'neg': 0.205, 'neu': 0.722, 'pos': 0.073, 'co...</td>\n",
       "      <td>-0.8381</td>\n",
       "      <td>neg</td>\n",
       "      <td>0.002649</td>\n",
       "      <td>0.991651</td>\n",
       "      <td>0.003138</td>\n",
       "      <td>0.002562</td>\n",
       "      <td>Topic 1</td>\n",
       "      <td>0.99</td>\n",
       "    </tr>\n",
       "    <tr>\n",
       "      <th>5</th>\n",
       "      <td>108</td>\n",
       "      <td>10</td>\n",
       "      <td>go yesterday service pretty partner order usua...</td>\n",
       "      <td>The Gym</td>\n",
       "      <td>{'neg': 0.055, 'neu': 0.891, 'pos': 0.053, 'co...</td>\n",
       "      <td>-0.0516</td>\n",
       "      <td>neg</td>\n",
       "      <td>0.001230</td>\n",
       "      <td>0.001424</td>\n",
       "      <td>0.996156</td>\n",
       "      <td>0.001190</td>\n",
       "      <td>Topic 2</td>\n",
       "      <td>1.00</td>\n",
       "    </tr>\n",
       "    <tr>\n",
       "      <th>6</th>\n",
       "      <td>112</td>\n",
       "      <td>30</td>\n",
       "      <td>special fact middle street make noisy little d...</td>\n",
       "      <td>The Gym</td>\n",
       "      <td>{'neg': 0.31, 'neu': 0.624, 'pos': 0.066, 'com...</td>\n",
       "      <td>-0.7934</td>\n",
       "      <td>neg</td>\n",
       "      <td>0.005876</td>\n",
       "      <td>0.006802</td>\n",
       "      <td>0.006960</td>\n",
       "      <td>0.980362</td>\n",
       "      <td>Topic 3</td>\n",
       "      <td>0.98</td>\n",
       "    </tr>\n",
       "    <tr>\n",
       "      <th>7</th>\n",
       "      <td>151</td>\n",
       "      <td>30</td>\n",
       "      <td>visit dinner drink friendsthis place really ad...</td>\n",
       "      <td>The Gym</td>\n",
       "      <td>{'neg': 0.1, 'neu': 0.809, 'pos': 0.09, 'compo...</td>\n",
       "      <td>-0.5405</td>\n",
       "      <td>neg</td>\n",
       "      <td>0.997392</td>\n",
       "      <td>0.000912</td>\n",
       "      <td>0.000933</td>\n",
       "      <td>0.000762</td>\n",
       "      <td>Topic 0</td>\n",
       "      <td>1.00</td>\n",
       "    </tr>\n",
       "    <tr>\n",
       "      <th>8</th>\n",
       "      <td>176</td>\n",
       "      <td>40</td>\n",
       "      <td>enjoy dinner outdoors subject secondary smokin...</td>\n",
       "      <td>The Gym</td>\n",
       "      <td>{'neg': 0.157, 'neu': 0.71, 'pos': 0.133, 'com...</td>\n",
       "      <td>-0.0199</td>\n",
       "      <td>neg</td>\n",
       "      <td>0.003394</td>\n",
       "      <td>0.989301</td>\n",
       "      <td>0.004021</td>\n",
       "      <td>0.003284</td>\n",
       "      <td>Topic 1</td>\n",
       "      <td>0.99</td>\n",
       "    </tr>\n",
       "    <tr>\n",
       "      <th>9</th>\n",
       "      <td>178</td>\n",
       "      <td>10</td>\n",
       "      <td>go kid lunch request change really dirty glass...</td>\n",
       "      <td>The Gym</td>\n",
       "      <td>{'neg': 0.215, 'neu': 0.756, 'pos': 0.029, 'co...</td>\n",
       "      <td>-0.9636</td>\n",
       "      <td>neg</td>\n",
       "      <td>0.001410</td>\n",
       "      <td>0.001632</td>\n",
       "      <td>0.995594</td>\n",
       "      <td>0.001364</td>\n",
       "      <td>Topic 2</td>\n",
       "      <td>1.00</td>\n",
       "    </tr>\n",
       "    <tr>\n",
       "      <th>10</th>\n",
       "      <td>187</td>\n",
       "      <td>30</td>\n",
       "      <td>go drink overprice get salmon carpaccio come l...</td>\n",
       "      <td>The Gym</td>\n",
       "      <td>{'neg': 0.106, 'neu': 0.828, 'pos': 0.066, 'co...</td>\n",
       "      <td>-0.6017</td>\n",
       "      <td>neg</td>\n",
       "      <td>0.001067</td>\n",
       "      <td>0.996638</td>\n",
       "      <td>0.001264</td>\n",
       "      <td>0.001032</td>\n",
       "      <td>Topic 1</td>\n",
       "      <td>1.00</td>\n",
       "    </tr>\n",
       "    <tr>\n",
       "      <th>11</th>\n",
       "      <td>192</td>\n",
       "      <td>10</td>\n",
       "      <td>wait min order get serve buy water brand surch...</td>\n",
       "      <td>The Gym</td>\n",
       "      <td>{'neg': 0.079, 'neu': 0.921, 'pos': 0.0, 'comp...</td>\n",
       "      <td>-0.7326</td>\n",
       "      <td>neg</td>\n",
       "      <td>0.993407</td>\n",
       "      <td>0.002306</td>\n",
       "      <td>0.002360</td>\n",
       "      <td>0.001927</td>\n",
       "      <td>Topic 0</td>\n",
       "      <td>0.99</td>\n",
       "    </tr>\n",
       "    <tr>\n",
       "      <th>12</th>\n",
       "      <td>196</td>\n",
       "      <td>50</td>\n",
       "      <td>modern place excellent service tasty menu opin...</td>\n",
       "      <td>The Gym</td>\n",
       "      <td>{'neg': 0.109, 'neu': 0.847, 'pos': 0.043, 'co...</td>\n",
       "      <td>-0.6800</td>\n",
       "      <td>neg</td>\n",
       "      <td>0.002387</td>\n",
       "      <td>0.992478</td>\n",
       "      <td>0.002827</td>\n",
       "      <td>0.002309</td>\n",
       "      <td>Topic 1</td>\n",
       "      <td>0.99</td>\n",
       "    </tr>\n",
       "    <tr>\n",
       "      <th>13</th>\n",
       "      <td>207</td>\n",
       "      <td>20</td>\n",
       "      <td>decide go friend drink unfortunately menu drin...</td>\n",
       "      <td>The Gym</td>\n",
       "      <td>{'neg': 0.156, 'neu': 0.748, 'pos': 0.096, 'co...</td>\n",
       "      <td>-0.7125</td>\n",
       "      <td>neg</td>\n",
       "      <td>0.994535</td>\n",
       "      <td>0.001911</td>\n",
       "      <td>0.001956</td>\n",
       "      <td>0.001597</td>\n",
       "      <td>Topic 0</td>\n",
       "      <td>0.99</td>\n",
       "    </tr>\n",
       "  </tbody>\n",
       "</table>\n",
       "</div>"
      ],
      "text/plain": [
       "    Unnamed: 0  r_points                                             r_text  \\\n",
       "0           37        20  try different dish none satisfactory sense tas...   \n",
       "1           39        10  destroy evening manager host racist make reser...   \n",
       "2           51        10  go tonight say absolutely dreadful night custo...   \n",
       "3           87        20  go look online menu inform end order lunch men...   \n",
       "4           90        30  place drink service bit today dry burger reaso...   \n",
       "5          108        10  go yesterday service pretty partner order usua...   \n",
       "6          112        30  special fact middle street make noisy little d...   \n",
       "7          151        30  visit dinner drink friendsthis place really ad...   \n",
       "8          176        40  enjoy dinner outdoors subject secondary smokin...   \n",
       "9          178        10  go kid lunch request change really dirty glass...   \n",
       "10         187        30  go drink overprice get salmon carpaccio come l...   \n",
       "11         192        10  wait min order get serve buy water brand surch...   \n",
       "12         196        50  modern place excellent service tasty menu opin...   \n",
       "13         207        20  decide go friend drink unfortunately menu drin...   \n",
       "\n",
       "      place                                             scores  compound  \\\n",
       "0   The Gym  {'neg': 0.293, 'neu': 0.586, 'pos': 0.121, 'co...   -0.5272   \n",
       "1   The Gym  {'neg': 0.149, 'neu': 0.81, 'pos': 0.041, 'com...   -0.9864   \n",
       "2   The Gym  {'neg': 0.241, 'neu': 0.714, 'pos': 0.045, 'co...   -0.9228   \n",
       "3   The Gym  {'neg': 0.075, 'neu': 0.906, 'pos': 0.019, 'co...   -0.7695   \n",
       "4   The Gym  {'neg': 0.205, 'neu': 0.722, 'pos': 0.073, 'co...   -0.8381   \n",
       "5   The Gym  {'neg': 0.055, 'neu': 0.891, 'pos': 0.053, 'co...   -0.0516   \n",
       "6   The Gym  {'neg': 0.31, 'neu': 0.624, 'pos': 0.066, 'com...   -0.7934   \n",
       "7   The Gym  {'neg': 0.1, 'neu': 0.809, 'pos': 0.09, 'compo...   -0.5405   \n",
       "8   The Gym  {'neg': 0.157, 'neu': 0.71, 'pos': 0.133, 'com...   -0.0199   \n",
       "9   The Gym  {'neg': 0.215, 'neu': 0.756, 'pos': 0.029, 'co...   -0.9636   \n",
       "10  The Gym  {'neg': 0.106, 'neu': 0.828, 'pos': 0.066, 'co...   -0.6017   \n",
       "11  The Gym  {'neg': 0.079, 'neu': 0.921, 'pos': 0.0, 'comp...   -0.7326   \n",
       "12  The Gym  {'neg': 0.109, 'neu': 0.847, 'pos': 0.043, 'co...   -0.6800   \n",
       "13  The Gym  {'neg': 0.156, 'neu': 0.748, 'pos': 0.096, 'co...   -0.7125   \n",
       "\n",
       "   score   Topic_0   Topic_1   Topic_2   Topic_3 Dominant_Topic  \\\n",
       "0    neg  0.003950  0.004573  0.004680  0.986797        Topic 3   \n",
       "1    neg  0.000507  0.000586  0.000600  0.998307        Topic 3   \n",
       "2    neg  0.001913  0.002215  0.994021  0.001851        Topic 2   \n",
       "3    neg  0.000659  0.000763  0.997941  0.000637        Topic 2   \n",
       "4    neg  0.002649  0.991651  0.003138  0.002562        Topic 1   \n",
       "5    neg  0.001230  0.001424  0.996156  0.001190        Topic 2   \n",
       "6    neg  0.005876  0.006802  0.006960  0.980362        Topic 3   \n",
       "7    neg  0.997392  0.000912  0.000933  0.000762        Topic 0   \n",
       "8    neg  0.003394  0.989301  0.004021  0.003284        Topic 1   \n",
       "9    neg  0.001410  0.001632  0.995594  0.001364        Topic 2   \n",
       "10   neg  0.001067  0.996638  0.001264  0.001032        Topic 1   \n",
       "11   neg  0.993407  0.002306  0.002360  0.001927        Topic 0   \n",
       "12   neg  0.002387  0.992478  0.002827  0.002309        Topic 1   \n",
       "13   neg  0.994535  0.001911  0.001956  0.001597        Topic 0   \n",
       "\n",
       "    Perc_Dominant_Topic  \n",
       "0                  0.99  \n",
       "1                  1.00  \n",
       "2                  0.99  \n",
       "3                  1.00  \n",
       "4                  0.99  \n",
       "5                  1.00  \n",
       "6                  0.98  \n",
       "7                  1.00  \n",
       "8                  0.99  \n",
       "9                  1.00  \n",
       "10                 1.00  \n",
       "11                 0.99  \n",
       "12                 0.99  \n",
       "13                 0.99  "
      ]
     },
     "execution_count": 19,
     "metadata": {},
     "output_type": "execute_result"
    }
   ],
   "source": [
    "apply_lda_neg = assign_model(lda_neg_custom)\n",
    "apply_lda_neg"
   ]
  },
  {
   "cell_type": "code",
   "execution_count": 20,
   "metadata": {},
   "outputs": [
    {
     "data": {
      "application/vnd.jupyter.widget-view+json": {
       "model_id": "860efdeaaf804fd19c1431d031f91951",
       "version_major": 2,
       "version_minor": 0
      },
      "text/plain": [
       "interactive(children=(ToggleButtons(description='Plot Type:', icons=('',), options=(('Frequency Plot', 'freque…"
      ]
     },
     "metadata": {},
     "output_type": "display_data"
    }
   ],
   "source": [
    "evaluate_model(lda_neg_custom)"
   ]
  },
  {
   "cell_type": "code",
   "execution_count": 21,
   "metadata": {},
   "outputs": [
    {
     "data": {
      "application/vnd.jupyter.widget-view+json": {
       "model_id": "",
       "version_major": 2,
       "version_minor": 0
      },
      "text/plain": [
       "IntProgress(value=0, description='Processing: ', max=25)"
      ]
     },
     "metadata": {},
     "output_type": "display_data"
    },
    {
     "data": {
      "application/vnd.jupyter.widget-view+json": {
       "model_id": "21538005c2a647d185fcf46d7549bbc9",
       "version_major": 2,
       "version_minor": 0
      },
      "text/plain": [
       "Output()"
      ]
     },
     "metadata": {},
     "output_type": "display_data"
    },
    {
     "data": {
      "text/html": [
       "        <script type=\"text/javascript\">\n",
       "        window.PlotlyConfig = {MathJaxConfig: 'local'};\n",
       "        if (window.MathJax) {MathJax.Hub.Config({SVG: {font: \"STIX-Web\"}});}\n",
       "        if (typeof require !== 'undefined') {\n",
       "        require.undef(\"plotly\");\n",
       "        requirejs.config({\n",
       "            paths: {\n",
       "                'plotly': ['https://cdn.plot.ly/plotly-latest.min']\n",
       "            }\n",
       "        });\n",
       "        require(['plotly'], function(Plotly) {\n",
       "            window._Plotly = Plotly;\n",
       "        });\n",
       "        }\n",
       "        </script>\n",
       "        "
      ]
     },
     "metadata": {},
     "output_type": "display_data"
    },
    {
     "data": {
      "application/vnd.plotly.v1+json": {
       "config": {
        "plotlyServerURL": "https://plot.ly"
       },
       "data": [
        {
         "hovertemplate": "Metric=Coherence<br># Topics=%{x}<br>Score=%{y}<extra></extra>",
         "legendgroup": "Coherence",
         "line": {
          "color": "#636efa",
          "dash": "solid",
          "shape": "linear"
         },
         "mode": "lines",
         "name": "Coherence",
         "orientation": "v",
         "showlegend": true,
         "type": "scatter",
         "x": [
          2,
          4,
          8,
          16,
          32,
          64,
          100,
          200,
          300,
          400
         ],
         "xaxis": "x",
         "y": [
          0.3399182416583817,
          0.5260634510715946,
          0.6563563151236385,
          0.7886752049530157,
          0.6921919736551212,
          0.6260352983963042,
          0.5948035296489675,
          0.568634353696917,
          0.557565951511986,
          0.5507903570639635
         ],
         "yaxis": "y"
        }
       ],
       "layout": {
        "legend": {
         "title": {
          "text": "Metric"
         },
         "tracegroupgap": 0
        },
        "plot_bgcolor": "rgb(245,245,245)",
        "template": {
         "data": {
          "bar": [
           {
            "error_x": {
             "color": "#2a3f5f"
            },
            "error_y": {
             "color": "#2a3f5f"
            },
            "marker": {
             "line": {
              "color": "#E5ECF6",
              "width": 0.5
             }
            },
            "type": "bar"
           }
          ],
          "barpolar": [
           {
            "marker": {
             "line": {
              "color": "#E5ECF6",
              "width": 0.5
             }
            },
            "type": "barpolar"
           }
          ],
          "carpet": [
           {
            "aaxis": {
             "endlinecolor": "#2a3f5f",
             "gridcolor": "white",
             "linecolor": "white",
             "minorgridcolor": "white",
             "startlinecolor": "#2a3f5f"
            },
            "baxis": {
             "endlinecolor": "#2a3f5f",
             "gridcolor": "white",
             "linecolor": "white",
             "minorgridcolor": "white",
             "startlinecolor": "#2a3f5f"
            },
            "type": "carpet"
           }
          ],
          "choropleth": [
           {
            "colorbar": {
             "outlinewidth": 0,
             "ticks": ""
            },
            "type": "choropleth"
           }
          ],
          "contour": [
           {
            "colorbar": {
             "outlinewidth": 0,
             "ticks": ""
            },
            "colorscale": [
             [
              0,
              "#0d0887"
             ],
             [
              0.1111111111111111,
              "#46039f"
             ],
             [
              0.2222222222222222,
              "#7201a8"
             ],
             [
              0.3333333333333333,
              "#9c179e"
             ],
             [
              0.4444444444444444,
              "#bd3786"
             ],
             [
              0.5555555555555556,
              "#d8576b"
             ],
             [
              0.6666666666666666,
              "#ed7953"
             ],
             [
              0.7777777777777778,
              "#fb9f3a"
             ],
             [
              0.8888888888888888,
              "#fdca26"
             ],
             [
              1,
              "#f0f921"
             ]
            ],
            "type": "contour"
           }
          ],
          "contourcarpet": [
           {
            "colorbar": {
             "outlinewidth": 0,
             "ticks": ""
            },
            "type": "contourcarpet"
           }
          ],
          "heatmap": [
           {
            "colorbar": {
             "outlinewidth": 0,
             "ticks": ""
            },
            "colorscale": [
             [
              0,
              "#0d0887"
             ],
             [
              0.1111111111111111,
              "#46039f"
             ],
             [
              0.2222222222222222,
              "#7201a8"
             ],
             [
              0.3333333333333333,
              "#9c179e"
             ],
             [
              0.4444444444444444,
              "#bd3786"
             ],
             [
              0.5555555555555556,
              "#d8576b"
             ],
             [
              0.6666666666666666,
              "#ed7953"
             ],
             [
              0.7777777777777778,
              "#fb9f3a"
             ],
             [
              0.8888888888888888,
              "#fdca26"
             ],
             [
              1,
              "#f0f921"
             ]
            ],
            "type": "heatmap"
           }
          ],
          "heatmapgl": [
           {
            "colorbar": {
             "outlinewidth": 0,
             "ticks": ""
            },
            "colorscale": [
             [
              0,
              "#0d0887"
             ],
             [
              0.1111111111111111,
              "#46039f"
             ],
             [
              0.2222222222222222,
              "#7201a8"
             ],
             [
              0.3333333333333333,
              "#9c179e"
             ],
             [
              0.4444444444444444,
              "#bd3786"
             ],
             [
              0.5555555555555556,
              "#d8576b"
             ],
             [
              0.6666666666666666,
              "#ed7953"
             ],
             [
              0.7777777777777778,
              "#fb9f3a"
             ],
             [
              0.8888888888888888,
              "#fdca26"
             ],
             [
              1,
              "#f0f921"
             ]
            ],
            "type": "heatmapgl"
           }
          ],
          "histogram": [
           {
            "marker": {
             "colorbar": {
              "outlinewidth": 0,
              "ticks": ""
             }
            },
            "type": "histogram"
           }
          ],
          "histogram2d": [
           {
            "colorbar": {
             "outlinewidth": 0,
             "ticks": ""
            },
            "colorscale": [
             [
              0,
              "#0d0887"
             ],
             [
              0.1111111111111111,
              "#46039f"
             ],
             [
              0.2222222222222222,
              "#7201a8"
             ],
             [
              0.3333333333333333,
              "#9c179e"
             ],
             [
              0.4444444444444444,
              "#bd3786"
             ],
             [
              0.5555555555555556,
              "#d8576b"
             ],
             [
              0.6666666666666666,
              "#ed7953"
             ],
             [
              0.7777777777777778,
              "#fb9f3a"
             ],
             [
              0.8888888888888888,
              "#fdca26"
             ],
             [
              1,
              "#f0f921"
             ]
            ],
            "type": "histogram2d"
           }
          ],
          "histogram2dcontour": [
           {
            "colorbar": {
             "outlinewidth": 0,
             "ticks": ""
            },
            "colorscale": [
             [
              0,
              "#0d0887"
             ],
             [
              0.1111111111111111,
              "#46039f"
             ],
             [
              0.2222222222222222,
              "#7201a8"
             ],
             [
              0.3333333333333333,
              "#9c179e"
             ],
             [
              0.4444444444444444,
              "#bd3786"
             ],
             [
              0.5555555555555556,
              "#d8576b"
             ],
             [
              0.6666666666666666,
              "#ed7953"
             ],
             [
              0.7777777777777778,
              "#fb9f3a"
             ],
             [
              0.8888888888888888,
              "#fdca26"
             ],
             [
              1,
              "#f0f921"
             ]
            ],
            "type": "histogram2dcontour"
           }
          ],
          "mesh3d": [
           {
            "colorbar": {
             "outlinewidth": 0,
             "ticks": ""
            },
            "type": "mesh3d"
           }
          ],
          "parcoords": [
           {
            "line": {
             "colorbar": {
              "outlinewidth": 0,
              "ticks": ""
             }
            },
            "type": "parcoords"
           }
          ],
          "pie": [
           {
            "automargin": true,
            "type": "pie"
           }
          ],
          "scatter": [
           {
            "marker": {
             "colorbar": {
              "outlinewidth": 0,
              "ticks": ""
             }
            },
            "type": "scatter"
           }
          ],
          "scatter3d": [
           {
            "line": {
             "colorbar": {
              "outlinewidth": 0,
              "ticks": ""
             }
            },
            "marker": {
             "colorbar": {
              "outlinewidth": 0,
              "ticks": ""
             }
            },
            "type": "scatter3d"
           }
          ],
          "scattercarpet": [
           {
            "marker": {
             "colorbar": {
              "outlinewidth": 0,
              "ticks": ""
             }
            },
            "type": "scattercarpet"
           }
          ],
          "scattergeo": [
           {
            "marker": {
             "colorbar": {
              "outlinewidth": 0,
              "ticks": ""
             }
            },
            "type": "scattergeo"
           }
          ],
          "scattergl": [
           {
            "marker": {
             "colorbar": {
              "outlinewidth": 0,
              "ticks": ""
             }
            },
            "type": "scattergl"
           }
          ],
          "scattermapbox": [
           {
            "marker": {
             "colorbar": {
              "outlinewidth": 0,
              "ticks": ""
             }
            },
            "type": "scattermapbox"
           }
          ],
          "scatterpolar": [
           {
            "marker": {
             "colorbar": {
              "outlinewidth": 0,
              "ticks": ""
             }
            },
            "type": "scatterpolar"
           }
          ],
          "scatterpolargl": [
           {
            "marker": {
             "colorbar": {
              "outlinewidth": 0,
              "ticks": ""
             }
            },
            "type": "scatterpolargl"
           }
          ],
          "scatterternary": [
           {
            "marker": {
             "colorbar": {
              "outlinewidth": 0,
              "ticks": ""
             }
            },
            "type": "scatterternary"
           }
          ],
          "surface": [
           {
            "colorbar": {
             "outlinewidth": 0,
             "ticks": ""
            },
            "colorscale": [
             [
              0,
              "#0d0887"
             ],
             [
              0.1111111111111111,
              "#46039f"
             ],
             [
              0.2222222222222222,
              "#7201a8"
             ],
             [
              0.3333333333333333,
              "#9c179e"
             ],
             [
              0.4444444444444444,
              "#bd3786"
             ],
             [
              0.5555555555555556,
              "#d8576b"
             ],
             [
              0.6666666666666666,
              "#ed7953"
             ],
             [
              0.7777777777777778,
              "#fb9f3a"
             ],
             [
              0.8888888888888888,
              "#fdca26"
             ],
             [
              1,
              "#f0f921"
             ]
            ],
            "type": "surface"
           }
          ],
          "table": [
           {
            "cells": {
             "fill": {
              "color": "#EBF0F8"
             },
             "line": {
              "color": "white"
             }
            },
            "header": {
             "fill": {
              "color": "#C8D4E3"
             },
             "line": {
              "color": "white"
             }
            },
            "type": "table"
           }
          ]
         },
         "layout": {
          "annotationdefaults": {
           "arrowcolor": "#2a3f5f",
           "arrowhead": 0,
           "arrowwidth": 1
          },
          "coloraxis": {
           "colorbar": {
            "outlinewidth": 0,
            "ticks": ""
           }
          },
          "colorscale": {
           "diverging": [
            [
             0,
             "#8e0152"
            ],
            [
             0.1,
             "#c51b7d"
            ],
            [
             0.2,
             "#de77ae"
            ],
            [
             0.3,
             "#f1b6da"
            ],
            [
             0.4,
             "#fde0ef"
            ],
            [
             0.5,
             "#f7f7f7"
            ],
            [
             0.6,
             "#e6f5d0"
            ],
            [
             0.7,
             "#b8e186"
            ],
            [
             0.8,
             "#7fbc41"
            ],
            [
             0.9,
             "#4d9221"
            ],
            [
             1,
             "#276419"
            ]
           ],
           "sequential": [
            [
             0,
             "#0d0887"
            ],
            [
             0.1111111111111111,
             "#46039f"
            ],
            [
             0.2222222222222222,
             "#7201a8"
            ],
            [
             0.3333333333333333,
             "#9c179e"
            ],
            [
             0.4444444444444444,
             "#bd3786"
            ],
            [
             0.5555555555555556,
             "#d8576b"
            ],
            [
             0.6666666666666666,
             "#ed7953"
            ],
            [
             0.7777777777777778,
             "#fb9f3a"
            ],
            [
             0.8888888888888888,
             "#fdca26"
            ],
            [
             1,
             "#f0f921"
            ]
           ],
           "sequentialminus": [
            [
             0,
             "#0d0887"
            ],
            [
             0.1111111111111111,
             "#46039f"
            ],
            [
             0.2222222222222222,
             "#7201a8"
            ],
            [
             0.3333333333333333,
             "#9c179e"
            ],
            [
             0.4444444444444444,
             "#bd3786"
            ],
            [
             0.5555555555555556,
             "#d8576b"
            ],
            [
             0.6666666666666666,
             "#ed7953"
            ],
            [
             0.7777777777777778,
             "#fb9f3a"
            ],
            [
             0.8888888888888888,
             "#fdca26"
            ],
            [
             1,
             "#f0f921"
            ]
           ]
          },
          "colorway": [
           "#636efa",
           "#EF553B",
           "#00cc96",
           "#ab63fa",
           "#FFA15A",
           "#19d3f3",
           "#FF6692",
           "#B6E880",
           "#FF97FF",
           "#FECB52"
          ],
          "font": {
           "color": "#2a3f5f"
          },
          "geo": {
           "bgcolor": "white",
           "lakecolor": "white",
           "landcolor": "#E5ECF6",
           "showlakes": true,
           "showland": true,
           "subunitcolor": "white"
          },
          "hoverlabel": {
           "align": "left"
          },
          "hovermode": "closest",
          "mapbox": {
           "style": "light"
          },
          "paper_bgcolor": "white",
          "plot_bgcolor": "#E5ECF6",
          "polar": {
           "angularaxis": {
            "gridcolor": "white",
            "linecolor": "white",
            "ticks": ""
           },
           "bgcolor": "#E5ECF6",
           "radialaxis": {
            "gridcolor": "white",
            "linecolor": "white",
            "ticks": ""
           }
          },
          "scene": {
           "xaxis": {
            "backgroundcolor": "#E5ECF6",
            "gridcolor": "white",
            "gridwidth": 2,
            "linecolor": "white",
            "showbackground": true,
            "ticks": "",
            "zerolinecolor": "white"
           },
           "yaxis": {
            "backgroundcolor": "#E5ECF6",
            "gridcolor": "white",
            "gridwidth": 2,
            "linecolor": "white",
            "showbackground": true,
            "ticks": "",
            "zerolinecolor": "white"
           },
           "zaxis": {
            "backgroundcolor": "#E5ECF6",
            "gridcolor": "white",
            "gridwidth": 2,
            "linecolor": "white",
            "showbackground": true,
            "ticks": "",
            "zerolinecolor": "white"
           }
          },
          "shapedefaults": {
           "line": {
            "color": "#2a3f5f"
           }
          },
          "ternary": {
           "aaxis": {
            "gridcolor": "white",
            "linecolor": "white",
            "ticks": ""
           },
           "baxis": {
            "gridcolor": "white",
            "linecolor": "white",
            "ticks": ""
           },
           "bgcolor": "#E5ECF6",
           "caxis": {
            "gridcolor": "white",
            "linecolor": "white",
            "ticks": ""
           }
          },
          "title": {
           "x": 0.05
          },
          "xaxis": {
           "automargin": true,
           "gridcolor": "white",
           "linecolor": "white",
           "ticks": "",
           "title": {
            "standoff": 15
           },
           "zerolinecolor": "white",
           "zerolinewidth": 2
          },
          "yaxis": {
           "automargin": true,
           "gridcolor": "white",
           "linecolor": "white",
           "ticks": "",
           "title": {
            "standoff": 15
           },
           "zerolinecolor": "white",
           "zerolinewidth": 2
          }
         }
        },
        "title": {
         "text": "Coherence Value and # of Topics"
        },
        "xaxis": {
         "anchor": "y",
         "domain": [
          0,
          1
         ],
         "title": {
          "text": "# Topics"
         }
        },
        "yaxis": {
         "anchor": "x",
         "domain": [
          0,
          1
         ],
         "title": {
          "text": "Score"
         }
        }
       }
      },
      "text/html": [
       "<div>\n",
       "        \n",
       "        \n",
       "            <div id=\"1a4a0b3b-2008-4396-91b5-c724801ec593\" class=\"plotly-graph-div\" style=\"height:525px; width:100%;\"></div>\n",
       "            <script type=\"text/javascript\">\n",
       "                require([\"plotly\"], function(Plotly) {\n",
       "                    window.PLOTLYENV=window.PLOTLYENV || {};\n",
       "                    \n",
       "                if (document.getElementById(\"1a4a0b3b-2008-4396-91b5-c724801ec593\")) {\n",
       "                    Plotly.newPlot(\n",
       "                        '1a4a0b3b-2008-4396-91b5-c724801ec593',\n",
       "                        [{\"hovertemplate\": \"Metric=Coherence<br># Topics=%{x}<br>Score=%{y}<extra></extra>\", \"legendgroup\": \"Coherence\", \"line\": {\"color\": \"#636efa\", \"dash\": \"solid\", \"shape\": \"linear\"}, \"mode\": \"lines\", \"name\": \"Coherence\", \"orientation\": \"v\", \"showlegend\": true, \"type\": \"scatter\", \"x\": [2, 4, 8, 16, 32, 64, 100, 200, 300, 400], \"xaxis\": \"x\", \"y\": [0.3399182416583817, 0.5260634510715946, 0.6563563151236385, 0.7886752049530157, 0.6921919736551212, 0.6260352983963042, 0.5948035296489675, 0.568634353696917, 0.557565951511986, 0.5507903570639635], \"yaxis\": \"y\"}],\n",
       "                        {\"legend\": {\"title\": {\"text\": \"Metric\"}, \"tracegroupgap\": 0}, \"plot_bgcolor\": \"rgb(245,245,245)\", \"template\": {\"data\": {\"bar\": [{\"error_x\": {\"color\": \"#2a3f5f\"}, \"error_y\": {\"color\": \"#2a3f5f\"}, \"marker\": {\"line\": {\"color\": \"#E5ECF6\", \"width\": 0.5}}, \"type\": \"bar\"}], \"barpolar\": [{\"marker\": {\"line\": {\"color\": \"#E5ECF6\", \"width\": 0.5}}, \"type\": \"barpolar\"}], \"carpet\": [{\"aaxis\": {\"endlinecolor\": \"#2a3f5f\", \"gridcolor\": \"white\", \"linecolor\": \"white\", \"minorgridcolor\": \"white\", \"startlinecolor\": \"#2a3f5f\"}, \"baxis\": {\"endlinecolor\": \"#2a3f5f\", \"gridcolor\": \"white\", \"linecolor\": \"white\", \"minorgridcolor\": \"white\", \"startlinecolor\": \"#2a3f5f\"}, \"type\": \"carpet\"}], \"choropleth\": [{\"colorbar\": {\"outlinewidth\": 0, \"ticks\": \"\"}, \"type\": \"choropleth\"}], \"contour\": [{\"colorbar\": {\"outlinewidth\": 0, \"ticks\": \"\"}, \"colorscale\": [[0.0, \"#0d0887\"], [0.1111111111111111, \"#46039f\"], [0.2222222222222222, \"#7201a8\"], [0.3333333333333333, \"#9c179e\"], [0.4444444444444444, \"#bd3786\"], [0.5555555555555556, \"#d8576b\"], [0.6666666666666666, \"#ed7953\"], [0.7777777777777778, \"#fb9f3a\"], [0.8888888888888888, \"#fdca26\"], [1.0, \"#f0f921\"]], \"type\": \"contour\"}], \"contourcarpet\": [{\"colorbar\": {\"outlinewidth\": 0, \"ticks\": \"\"}, \"type\": \"contourcarpet\"}], \"heatmap\": [{\"colorbar\": {\"outlinewidth\": 0, \"ticks\": \"\"}, \"colorscale\": [[0.0, \"#0d0887\"], [0.1111111111111111, \"#46039f\"], [0.2222222222222222, \"#7201a8\"], [0.3333333333333333, \"#9c179e\"], [0.4444444444444444, \"#bd3786\"], [0.5555555555555556, \"#d8576b\"], [0.6666666666666666, \"#ed7953\"], [0.7777777777777778, \"#fb9f3a\"], [0.8888888888888888, \"#fdca26\"], [1.0, \"#f0f921\"]], \"type\": \"heatmap\"}], \"heatmapgl\": [{\"colorbar\": {\"outlinewidth\": 0, \"ticks\": \"\"}, \"colorscale\": [[0.0, \"#0d0887\"], [0.1111111111111111, \"#46039f\"], [0.2222222222222222, \"#7201a8\"], [0.3333333333333333, \"#9c179e\"], [0.4444444444444444, \"#bd3786\"], [0.5555555555555556, \"#d8576b\"], [0.6666666666666666, \"#ed7953\"], [0.7777777777777778, \"#fb9f3a\"], [0.8888888888888888, \"#fdca26\"], [1.0, \"#f0f921\"]], \"type\": \"heatmapgl\"}], \"histogram\": [{\"marker\": {\"colorbar\": {\"outlinewidth\": 0, \"ticks\": \"\"}}, \"type\": \"histogram\"}], \"histogram2d\": [{\"colorbar\": {\"outlinewidth\": 0, \"ticks\": \"\"}, \"colorscale\": [[0.0, \"#0d0887\"], [0.1111111111111111, \"#46039f\"], [0.2222222222222222, \"#7201a8\"], [0.3333333333333333, \"#9c179e\"], [0.4444444444444444, \"#bd3786\"], [0.5555555555555556, \"#d8576b\"], [0.6666666666666666, \"#ed7953\"], [0.7777777777777778, \"#fb9f3a\"], [0.8888888888888888, \"#fdca26\"], [1.0, \"#f0f921\"]], \"type\": \"histogram2d\"}], \"histogram2dcontour\": [{\"colorbar\": {\"outlinewidth\": 0, \"ticks\": \"\"}, \"colorscale\": [[0.0, \"#0d0887\"], [0.1111111111111111, \"#46039f\"], [0.2222222222222222, \"#7201a8\"], [0.3333333333333333, \"#9c179e\"], [0.4444444444444444, \"#bd3786\"], [0.5555555555555556, \"#d8576b\"], [0.6666666666666666, \"#ed7953\"], [0.7777777777777778, \"#fb9f3a\"], [0.8888888888888888, \"#fdca26\"], [1.0, \"#f0f921\"]], \"type\": \"histogram2dcontour\"}], \"mesh3d\": [{\"colorbar\": {\"outlinewidth\": 0, \"ticks\": \"\"}, \"type\": \"mesh3d\"}], \"parcoords\": [{\"line\": {\"colorbar\": {\"outlinewidth\": 0, \"ticks\": \"\"}}, \"type\": \"parcoords\"}], \"pie\": [{\"automargin\": true, \"type\": \"pie\"}], \"scatter\": [{\"marker\": {\"colorbar\": {\"outlinewidth\": 0, \"ticks\": \"\"}}, \"type\": \"scatter\"}], \"scatter3d\": [{\"line\": {\"colorbar\": {\"outlinewidth\": 0, \"ticks\": \"\"}}, \"marker\": {\"colorbar\": {\"outlinewidth\": 0, \"ticks\": \"\"}}, \"type\": \"scatter3d\"}], \"scattercarpet\": [{\"marker\": {\"colorbar\": {\"outlinewidth\": 0, \"ticks\": \"\"}}, \"type\": \"scattercarpet\"}], \"scattergeo\": [{\"marker\": {\"colorbar\": {\"outlinewidth\": 0, \"ticks\": \"\"}}, \"type\": \"scattergeo\"}], \"scattergl\": [{\"marker\": {\"colorbar\": {\"outlinewidth\": 0, \"ticks\": \"\"}}, \"type\": \"scattergl\"}], \"scattermapbox\": [{\"marker\": {\"colorbar\": {\"outlinewidth\": 0, \"ticks\": \"\"}}, \"type\": \"scattermapbox\"}], \"scatterpolar\": [{\"marker\": {\"colorbar\": {\"outlinewidth\": 0, \"ticks\": \"\"}}, \"type\": \"scatterpolar\"}], \"scatterpolargl\": [{\"marker\": {\"colorbar\": {\"outlinewidth\": 0, \"ticks\": \"\"}}, \"type\": \"scatterpolargl\"}], \"scatterternary\": [{\"marker\": {\"colorbar\": {\"outlinewidth\": 0, \"ticks\": \"\"}}, \"type\": \"scatterternary\"}], \"surface\": [{\"colorbar\": {\"outlinewidth\": 0, \"ticks\": \"\"}, \"colorscale\": [[0.0, \"#0d0887\"], [0.1111111111111111, \"#46039f\"], [0.2222222222222222, \"#7201a8\"], [0.3333333333333333, \"#9c179e\"], [0.4444444444444444, \"#bd3786\"], [0.5555555555555556, \"#d8576b\"], [0.6666666666666666, \"#ed7953\"], [0.7777777777777778, \"#fb9f3a\"], [0.8888888888888888, \"#fdca26\"], [1.0, \"#f0f921\"]], \"type\": \"surface\"}], \"table\": [{\"cells\": {\"fill\": {\"color\": \"#EBF0F8\"}, \"line\": {\"color\": \"white\"}}, \"header\": {\"fill\": {\"color\": \"#C8D4E3\"}, \"line\": {\"color\": \"white\"}}, \"type\": \"table\"}]}, \"layout\": {\"annotationdefaults\": {\"arrowcolor\": \"#2a3f5f\", \"arrowhead\": 0, \"arrowwidth\": 1}, \"coloraxis\": {\"colorbar\": {\"outlinewidth\": 0, \"ticks\": \"\"}}, \"colorscale\": {\"diverging\": [[0, \"#8e0152\"], [0.1, \"#c51b7d\"], [0.2, \"#de77ae\"], [0.3, \"#f1b6da\"], [0.4, \"#fde0ef\"], [0.5, \"#f7f7f7\"], [0.6, \"#e6f5d0\"], [0.7, \"#b8e186\"], [0.8, \"#7fbc41\"], [0.9, \"#4d9221\"], [1, \"#276419\"]], \"sequential\": [[0.0, \"#0d0887\"], [0.1111111111111111, \"#46039f\"], [0.2222222222222222, \"#7201a8\"], [0.3333333333333333, \"#9c179e\"], [0.4444444444444444, \"#bd3786\"], [0.5555555555555556, \"#d8576b\"], [0.6666666666666666, \"#ed7953\"], [0.7777777777777778, \"#fb9f3a\"], [0.8888888888888888, \"#fdca26\"], [1.0, \"#f0f921\"]], \"sequentialminus\": [[0.0, \"#0d0887\"], [0.1111111111111111, \"#46039f\"], [0.2222222222222222, \"#7201a8\"], [0.3333333333333333, \"#9c179e\"], [0.4444444444444444, \"#bd3786\"], [0.5555555555555556, \"#d8576b\"], [0.6666666666666666, \"#ed7953\"], [0.7777777777777778, \"#fb9f3a\"], [0.8888888888888888, \"#fdca26\"], [1.0, \"#f0f921\"]]}, \"colorway\": [\"#636efa\", \"#EF553B\", \"#00cc96\", \"#ab63fa\", \"#FFA15A\", \"#19d3f3\", \"#FF6692\", \"#B6E880\", \"#FF97FF\", \"#FECB52\"], \"font\": {\"color\": \"#2a3f5f\"}, \"geo\": {\"bgcolor\": \"white\", \"lakecolor\": \"white\", \"landcolor\": \"#E5ECF6\", \"showlakes\": true, \"showland\": true, \"subunitcolor\": \"white\"}, \"hoverlabel\": {\"align\": \"left\"}, \"hovermode\": \"closest\", \"mapbox\": {\"style\": \"light\"}, \"paper_bgcolor\": \"white\", \"plot_bgcolor\": \"#E5ECF6\", \"polar\": {\"angularaxis\": {\"gridcolor\": \"white\", \"linecolor\": \"white\", \"ticks\": \"\"}, \"bgcolor\": \"#E5ECF6\", \"radialaxis\": {\"gridcolor\": \"white\", \"linecolor\": \"white\", \"ticks\": \"\"}}, \"scene\": {\"xaxis\": {\"backgroundcolor\": \"#E5ECF6\", \"gridcolor\": \"white\", \"gridwidth\": 2, \"linecolor\": \"white\", \"showbackground\": true, \"ticks\": \"\", \"zerolinecolor\": \"white\"}, \"yaxis\": {\"backgroundcolor\": \"#E5ECF6\", \"gridcolor\": \"white\", \"gridwidth\": 2, \"linecolor\": \"white\", \"showbackground\": true, \"ticks\": \"\", \"zerolinecolor\": \"white\"}, \"zaxis\": {\"backgroundcolor\": \"#E5ECF6\", \"gridcolor\": \"white\", \"gridwidth\": 2, \"linecolor\": \"white\", \"showbackground\": true, \"ticks\": \"\", \"zerolinecolor\": \"white\"}}, \"shapedefaults\": {\"line\": {\"color\": \"#2a3f5f\"}}, \"ternary\": {\"aaxis\": {\"gridcolor\": \"white\", \"linecolor\": \"white\", \"ticks\": \"\"}, \"baxis\": {\"gridcolor\": \"white\", \"linecolor\": \"white\", \"ticks\": \"\"}, \"bgcolor\": \"#E5ECF6\", \"caxis\": {\"gridcolor\": \"white\", \"linecolor\": \"white\", \"ticks\": \"\"}}, \"title\": {\"x\": 0.05}, \"xaxis\": {\"automargin\": true, \"gridcolor\": \"white\", \"linecolor\": \"white\", \"ticks\": \"\", \"title\": {\"standoff\": 15}, \"zerolinecolor\": \"white\", \"zerolinewidth\": 2}, \"yaxis\": {\"automargin\": true, \"gridcolor\": \"white\", \"linecolor\": \"white\", \"ticks\": \"\", \"title\": {\"standoff\": 15}, \"zerolinecolor\": \"white\", \"zerolinewidth\": 2}}}, \"title\": {\"text\": \"Coherence Value and # of Topics\"}, \"xaxis\": {\"anchor\": \"y\", \"domain\": [0.0, 1.0], \"title\": {\"text\": \"# Topics\"}}, \"yaxis\": {\"anchor\": \"x\", \"domain\": [0.0, 1.0], \"title\": {\"text\": \"Score\"}}},\n",
       "                        {\"responsive\": true}\n",
       "                    ).then(function(){\n",
       "                            \n",
       "var gd = document.getElementById('1a4a0b3b-2008-4396-91b5-c724801ec593');\n",
       "var x = new MutationObserver(function (mutations, observer) {{\n",
       "        var display = window.getComputedStyle(gd).display;\n",
       "        if (!display || display === 'none') {{\n",
       "            console.log([gd, 'removed!']);\n",
       "            Plotly.purge(gd);\n",
       "            observer.disconnect();\n",
       "        }}\n",
       "}});\n",
       "\n",
       "// Listen for the removal of the full notebook cells\n",
       "var notebookContainer = gd.closest('#notebook-container');\n",
       "if (notebookContainer) {{\n",
       "    x.observe(notebookContainer, {childList: true});\n",
       "}}\n",
       "\n",
       "// Listen for the clearing of the current output cell\n",
       "var outputEl = gd.closest('.output');\n",
       "if (outputEl) {{\n",
       "    x.observe(outputEl, {childList: true});\n",
       "}}\n",
       "\n",
       "                        })\n",
       "                };\n",
       "                });\n",
       "            </script>\n",
       "        </div>"
      ]
     },
     "metadata": {},
     "output_type": "display_data"
    },
    {
     "name": "stdout",
     "output_type": "stream",
     "text": [
      "Best Model: Latent Dirichlet Allocation | # Topics: 16 | Coherence: 0.7887\n"
     ]
    }
   ],
   "source": [
    "tune_lda_negative = tune_model(model='lda', supervised_target=None, estimator='xgboost')"
   ]
  },
  {
   "cell_type": "code",
   "execution_count": 22,
   "metadata": {},
   "outputs": [
    {
     "data": {
      "text/html": [
       "        <script type=\"text/javascript\">\n",
       "        window.PlotlyConfig = {MathJaxConfig: 'local'};\n",
       "        if (window.MathJax) {MathJax.Hub.Config({SVG: {font: \"STIX-Web\"}});}\n",
       "        if (typeof require !== 'undefined') {\n",
       "        require.undef(\"plotly\");\n",
       "        requirejs.config({\n",
       "            paths: {\n",
       "                'plotly': ['https://cdn.plot.ly/plotly-latest.min']\n",
       "            }\n",
       "        });\n",
       "        require(['plotly'], function(Plotly) {\n",
       "            window._Plotly = Plotly;\n",
       "        });\n",
       "        }\n",
       "        </script>\n",
       "        "
      ]
     },
     "metadata": {},
     "output_type": "display_data"
    },
    {
     "data": {
      "text/html": [
       "\n",
       "<link rel=\"stylesheet\" type=\"text/css\" href=\"https://cdn.rawgit.com/bmabey/pyLDAvis/files/ldavis.v1.0.0.css\">\n",
       "\n",
       "\n",
       "<div id=\"ldavis_el156012270309495761860406255\"></div>\n",
       "<script type=\"text/javascript\">\n",
       "\n",
       "var ldavis_el156012270309495761860406255_data = {\"mdsDat\": {\"x\": [-0.10845467448535785, -0.0628060702463776, 0.08025552618301621, 0.09100521854871925], \"y\": [-0.06399938660156324, 0.10316930037004166, -0.09678391719206147, 0.05761400342358306], \"topics\": [1, 2, 3, 4], \"cluster\": [1, 1, 1, 1], \"Freq\": [34.39957046508789, 23.145469665527344, 22.94758415222168, 19.507373809814453]}, \"tinfo\": {\"Term\": [\"drink\", \"order\", \"course\", \"really\", \"bit\", \"leave\", \"reasonable\", \"cocktail\", \"seat\", \"serve\", \"main\", \"table\", \"service\", \"dinner\", \"dish\", \"mustard\", \"couple\", \"bore\", \"pasta\", \"place\", \"also\", \"however\", \"double\", \"quality\", \"see\", \"evening\", \"next\", \"part\", \"destroy\", \"racist\", \"mustard\", \"couple\", \"seed\", \"allergy\", \"allergic\", \"customer\", \"step\", \"waitress\", \"lunch\", \"great\", \"change\", \"even\", \"rude\", \"coffee\", \"honest\", \"dreadful\", \"stay\", \"tell\", \"thing\", \"horrendous\", \"could\", \"idea\", \"away\", \"absolutely\", \"night\", \"dangerous\", \"tonight\", \"list\", \"indeed\", \"meal\", \"say\", \"service\", \"table\", \"different\", \"request\", \"glass\", \"make\", \"go\", \"order\", \"menu\", \"expect\", \"move\", \"ask\", \"get\", \"come\", \"plate\", \"seat\", \"quality\", \"see\", \"evening\", \"next\", \"part\", \"destroy\", \"racist\", \"host\", \"leave\", \"none\", \"issue\", \"satisfactory\", \"weak\", \"special\", \"little\", \"noisy\", \"middle\", \"fact\", \"disturbing\", \"street\", \"ready\", \"upset\", \"soon\", \"letter\", \"send\", \"wind\", \"talk\", \"store\", \"right\", \"manager\", \"dish\", \"table\", \"make\", \"move\", \"place\", \"ask\", \"get\", \"come\", \"go\", \"taste\", \"try\", \"different\", \"wise\", \"coffee\", \"sense\", \"course\", \"cocktail\", \"also\", \"however\", \"double\", \"serve\", \"main\", \"really\", \"unfortunately\", \"stuff\", \"find\", \"admit\", \"difficulty\", \"choose\", \"life\", \"water\", \"slice\", \"run\", \"latter\", \"surcharge\", \"bottle\", \"wait\", \"reply\", \"potato\", \"min\", \"normal\", \"lead\", \"wedge\", \"brand\", \"buy\", \"drink\", \"order\", \"decide\", \"small\", \"plate\", \"dinner\", \"price\", \"come\", \"menu\", \"glass\", \"go\", \"get\", \"friend\", \"manager\", \"rude\", \"ask\", \"dirty\", \"complain\", \"kid\", \"high\", \"say\", \"place\", \"bit\", \"bore\", \"pasta\", \"reasonable\", \"conclusion\", \"expensive\", \"tasty\", \"economical\", \"think\", \"opinion\", \"need\", \"today\", \"whet\", \"habit\", \"crisis\", \"excellent\", \"outdoors\", \"modern\", \"secondary\", \"linguine\", \"dry\", \"dozen\", \"burger\", \"unhealthy\", \"smoking\", \"money\", \"value\", \"subject\", \"enjoy\", \"filthy\", \"drink\", \"dinner\", \"dish\", \"service\", \"place\", \"menu\", \"go\", \"come\", \"make\", \"get\", \"back\", \"people\", \"main\", \"price\", \"waiter\", \"expect\", \"really\", \"eat\", \"mean\", \"start\"], \"Freq\": [5.0, 6.0, 3.0, 4.0, 2.0, 3.0, 3.0, 2.0, 2.0, 3.0, 3.0, 5.0, 6.0, 2.0, 2.0, 3.0, 3.0, 1.0, 1.0, 3.0, 1.0, 1.0, 1.0, 1.0, 1.0, 1.0, 1.0, 1.0, 1.0, 1.0, 2.9632728099823, 2.961259603500366, 2.2652857303619385, 1.5711793899536133, 1.5697808265686035, 1.5697317123413086, 1.5687391757965088, 1.5683280229568481, 1.5671979188919067, 1.5657416582107544, 1.5655326843261719, 2.2663872241973877, 2.2628767490386963, 2.264220952987671, 0.8728698492050171, 0.8728698492050171, 0.8728697299957275, 0.8728693723678589, 0.8728688955307007, 0.8728679418563843, 0.8728677034378052, 0.8728668689727783, 0.8728656768798828, 0.8728637099266052, 0.8728634715080261, 0.8728625774383545, 0.8728594779968262, 0.8719172477722168, 0.8717390298843384, 0.8717184066772461, 2.9657247066497803, 3.6616952419281006, 2.9647159576416016, 1.5675557851791382, 1.5675021409988403, 1.5624645948410034, 2.9625790119171143, 2.9637084007263184, 2.9643924236297607, 2.264822006225586, 1.5709221363067627, 1.5697513818740845, 1.5717213153839111, 1.5687737464904785, 1.5752216577529907, 0.8758804202079773, 1.9734190702438354, 1.3688886165618896, 1.3662348985671997, 1.366026520729065, 1.3658974170684814, 1.3657315969467163, 1.365641713142395, 1.365531325340271, 1.3652366399765015, 2.579773187637329, 0.7625296711921692, 0.7625283002853394, 0.7625276446342468, 0.7625192403793335, 0.7625185251235962, 0.7625162601470947, 0.7625141739845276, 0.7625113129615784, 0.7625070214271545, 0.7625067830085754, 0.7625065445899963, 0.7595824003219604, 0.7595488429069519, 0.7595267295837402, 0.7594799399375916, 0.7594252228736877, 0.7593759894371033, 0.7593522667884827, 0.7593058943748474, 0.759285569190979, 1.3659595251083374, 1.3693431615829468, 1.9715063571929932, 1.9773048162460327, 1.3661161661148071, 1.3660584688186646, 1.3660298585891724, 1.3658384084701538, 1.3673357963562012, 1.3663004636764526, 0.7632145285606384, 0.7631150484085083, 0.7630227208137512, 0.7630212903022766, 0.762900173664093, 0.7626203298568726, 2.565498113632202, 1.967816710472107, 1.3623318672180176, 1.3602235317230225, 1.3585394620895386, 1.968446135520935, 1.9614531993865967, 3.1815762519836426, 0.7568418383598328, 0.7568406462669373, 0.7568406462669373, 0.7568398118019104, 0.7568397521972656, 0.7568382620811462, 0.7568376064300537, 0.7568078637123108, 0.7568071484565735, 0.7567949295043945, 0.7567949295043945, 0.7567930817604065, 0.7567847371101379, 0.7567829489707947, 0.7567802667617798, 0.756779670715332, 0.7567750215530396, 0.7567710876464844, 0.7567712068557739, 0.7567634582519531, 0.7567574381828308, 0.7567567229270935, 3.1761887073516846, 3.1741998195648193, 1.3635342121124268, 1.3631583452224731, 1.3572001457214355, 1.3578548431396484, 1.3619880676269531, 1.360721468925476, 1.3624041080474854, 0.7644102573394775, 0.7660648822784424, 0.7636071443557739, 0.7618282437324524, 0.7605740427970886, 0.7605345249176025, 0.760230302810669, 0.7589333653450012, 0.7587102651596069, 0.7585389614105225, 0.7584324479103088, 0.7584054470062256, 0.7583504915237427, 1.8393216133117676, 1.272989273071289, 1.2725940942764282, 1.8405274152755737, 0.7076662182807922, 0.7076637148857117, 0.7076631188392639, 0.7076623439788818, 0.707662045955658, 0.7076619267463684, 0.7076612710952759, 0.7076613306999207, 0.707660973072052, 0.707660436630249, 0.7076603174209595, 0.7076600193977356, 0.7076596021652222, 0.7076579332351685, 0.7076579332351685, 0.7076579332351685, 0.7076578736305237, 0.7076574563980103, 0.7076573371887207, 0.7076573371887207, 0.7076568603515625, 0.707655131816864, 0.7076524496078491, 0.7076520323753357, 0.7076505422592163, 0.707649290561676, 2.4060420989990234, 1.2750478982925415, 1.2738860845565796, 1.8428943157196045, 1.2758561372756958, 1.2764568328857422, 1.2744336128234863, 0.7108341455459595, 0.7107769846916199, 0.7096150517463684, 0.7094508409500122, 0.7094293832778931, 0.709284782409668, 0.7090615034103394, 0.7085378766059875, 0.7084814310073853, 0.708432674407959, 0.7081893086433411, 0.707703709602356, 0.7076615691184998], \"Total\": [5.0, 6.0, 3.0, 4.0, 2.0, 3.0, 3.0, 2.0, 2.0, 3.0, 3.0, 5.0, 6.0, 2.0, 2.0, 3.0, 3.0, 1.0, 1.0, 3.0, 1.0, 1.0, 1.0, 1.0, 1.0, 1.0, 1.0, 1.0, 1.0, 1.0, 3.412501096725464, 3.4122979640960693, 2.7142319679260254, 2.0166304111480713, 2.016385555267334, 2.0164151191711426, 2.01625394821167, 2.016195058822632, 2.016071319580078, 2.015907049179077, 2.0158791542053223, 3.324434757232666, 3.319451093673706, 3.324186325073242, 1.3183051347732544, 1.3183051347732544, 1.318305253982544, 1.3183051347732544, 1.3183050155639648, 1.3183048963546753, 1.3183047771453857, 1.3183046579360962, 1.3183045387268066, 1.3183043003082275, 1.318304181098938, 1.3183040618896484, 1.3183033466339111, 1.31814706325531, 1.3181098699569702, 1.3181031942367554, 4.628307819366455, 6.41927433013916, 5.242672443389893, 2.626084804534912, 2.6260640621185303, 2.620948076248169, 5.808615684509277, 6.370507717132568, 6.440010070800781, 5.057424545288086, 3.19268798828125, 3.23628568649292, 3.842048406600952, 4.407834529876709, 5.014112949371338, 2.5296099185943604, 2.4504973888397217, 1.8401621580123901, 1.8401988744735718, 1.840273141860962, 1.8401603698730469, 1.8401501178741455, 1.8401992321014404, 1.8403042554855347, 1.8402743339538574, 3.7584197521209717, 1.2300446033477783, 1.2300447225570679, 1.2300448417663574, 1.2300447225570679, 1.2300446033477783, 1.2300450801849365, 1.2300450801849365, 1.2300448417663574, 1.2300447225570679, 1.2300447225570679, 1.2300450801849365, 1.2300947904586792, 1.2300941944122314, 1.2300851345062256, 1.2301082611083984, 1.2301009893417358, 1.230097770690918, 1.2300938367843628, 1.2300827503204346, 1.2301002740859985, 2.445680856704712, 2.9724912643432617, 5.242672443389893, 5.808615684509277, 3.23628568649292, 3.5781126022338867, 3.842048406600952, 4.407834529876709, 5.014112949371338, 6.370507717132568, 1.835698127746582, 2.5334460735321045, 2.626084804534912, 1.8356573581695557, 3.324186325073242, 1.796233892440796, 3.0423898696899414, 2.4364736080169678, 1.8309792280197144, 1.8311041593551636, 1.8311797380447388, 3.0026869773864746, 3.003020763397217, 4.911146640777588, 1.2254834175109863, 1.2254835367202759, 1.2254836559295654, 1.2254835367202759, 1.225483775138855, 1.2254834175109863, 1.2254834175109863, 1.2254884243011475, 1.225488543510437, 1.225489854812622, 1.2254899740219116, 1.2254900932312012, 1.2254910469055176, 1.2254915237426758, 1.225492238998413, 1.2254927158355713, 1.2254929542541504, 1.2254924774169922, 1.2254934310913086, 1.2254949808120728, 1.2254952192306519, 1.225495457649231, 5.912326335906982, 6.440010070800781, 2.528938055038452, 2.5289440155029297, 2.5296099185943604, 2.9635024070739746, 3.0072789192199707, 5.014112949371338, 5.057424545288086, 2.620948076248169, 6.370507717132568, 4.407834529876709, 2.53334903717041, 2.445680856704712, 3.319451093673706, 3.842048406600952, 2.5335845947265625, 1.8356174230575562, 1.923323631286621, 1.8356214761734009, 4.628307819366455, 3.5781126022338867, 2.3184995651245117, 1.7523589134216309, 1.7523859739303589, 3.016483783721924, 1.1861456632614136, 1.1861462593078613, 1.1861460208892822, 1.1861464977264404, 1.1861461400985718, 1.1861463785171509, 1.1861463785171509, 1.1861467361450195, 1.1861463785171509, 1.1861462593078613, 1.1861464977264404, 1.1861464977264404, 1.1861464977264404, 1.1861467361450195, 1.1861467361450195, 1.186146855354309, 1.1861470937728882, 1.1861467361450195, 1.1861467361450195, 1.1861469745635986, 1.1861469745635986, 1.1861469745635986, 1.1861472129821777, 1.1861474514007568, 1.1861475706100464, 1.186147928237915, 5.912326335906982, 2.9635024070739746, 2.9724912643432617, 6.41927433013916, 3.5781126022338867, 5.057424545288086, 6.370507717132568, 5.014112949371338, 5.808615684509277, 4.407834529876709, 2.494340181350708, 2.4941964149475098, 3.003020763397217, 3.0072789192199707, 2.4018120765686035, 3.19268798828125, 4.911146640777588, 2.49005389213562, 1.7962815761566162, 1.8840477466583252], \"Category\": [\"Default\", \"Default\", \"Default\", \"Default\", \"Default\", \"Default\", \"Default\", \"Default\", \"Default\", \"Default\", \"Default\", \"Default\", \"Default\", \"Default\", \"Default\", \"Default\", \"Default\", \"Default\", \"Default\", \"Default\", \"Default\", \"Default\", \"Default\", \"Default\", \"Default\", \"Default\", \"Default\", \"Default\", \"Default\", \"Default\", \"Topic1\", \"Topic1\", \"Topic1\", \"Topic1\", \"Topic1\", \"Topic1\", \"Topic1\", \"Topic1\", \"Topic1\", \"Topic1\", \"Topic1\", \"Topic1\", \"Topic1\", \"Topic1\", \"Topic1\", \"Topic1\", \"Topic1\", \"Topic1\", \"Topic1\", \"Topic1\", \"Topic1\", \"Topic1\", \"Topic1\", \"Topic1\", \"Topic1\", \"Topic1\", \"Topic1\", \"Topic1\", \"Topic1\", \"Topic1\", \"Topic1\", \"Topic1\", \"Topic1\", \"Topic1\", \"Topic1\", \"Topic1\", \"Topic1\", \"Topic1\", \"Topic1\", \"Topic1\", \"Topic1\", \"Topic1\", \"Topic1\", \"Topic1\", \"Topic1\", \"Topic1\", \"Topic2\", \"Topic2\", \"Topic2\", \"Topic2\", \"Topic2\", \"Topic2\", \"Topic2\", \"Topic2\", \"Topic2\", \"Topic2\", \"Topic2\", \"Topic2\", \"Topic2\", \"Topic2\", \"Topic2\", \"Topic2\", \"Topic2\", \"Topic2\", \"Topic2\", \"Topic2\", \"Topic2\", \"Topic2\", \"Topic2\", \"Topic2\", \"Topic2\", \"Topic2\", \"Topic2\", \"Topic2\", \"Topic2\", \"Topic2\", \"Topic2\", \"Topic2\", \"Topic2\", \"Topic2\", \"Topic2\", \"Topic2\", \"Topic2\", \"Topic2\", \"Topic2\", \"Topic2\", \"Topic2\", \"Topic2\", \"Topic2\", \"Topic2\", \"Topic2\", \"Topic2\", \"Topic3\", \"Topic3\", \"Topic3\", \"Topic3\", \"Topic3\", \"Topic3\", \"Topic3\", \"Topic3\", \"Topic3\", \"Topic3\", \"Topic3\", \"Topic3\", \"Topic3\", \"Topic3\", \"Topic3\", \"Topic3\", \"Topic3\", \"Topic3\", \"Topic3\", \"Topic3\", \"Topic3\", \"Topic3\", \"Topic3\", \"Topic3\", \"Topic3\", \"Topic3\", \"Topic3\", \"Topic3\", \"Topic3\", \"Topic3\", \"Topic3\", \"Topic3\", \"Topic3\", \"Topic3\", \"Topic3\", \"Topic3\", \"Topic3\", \"Topic3\", \"Topic3\", \"Topic3\", \"Topic3\", \"Topic3\", \"Topic3\", \"Topic3\", \"Topic3\", \"Topic3\", \"Topic3\", \"Topic3\", \"Topic3\", \"Topic3\", \"Topic3\", \"Topic3\", \"Topic4\", \"Topic4\", \"Topic4\", \"Topic4\", \"Topic4\", \"Topic4\", \"Topic4\", \"Topic4\", \"Topic4\", \"Topic4\", \"Topic4\", \"Topic4\", \"Topic4\", \"Topic4\", \"Topic4\", \"Topic4\", \"Topic4\", \"Topic4\", \"Topic4\", \"Topic4\", \"Topic4\", \"Topic4\", \"Topic4\", \"Topic4\", \"Topic4\", \"Topic4\", \"Topic4\", \"Topic4\", \"Topic4\", \"Topic4\", \"Topic4\", \"Topic4\", \"Topic4\", \"Topic4\", \"Topic4\", \"Topic4\", \"Topic4\", \"Topic4\", \"Topic4\", \"Topic4\", \"Topic4\", \"Topic4\", \"Topic4\", \"Topic4\", \"Topic4\", \"Topic4\", \"Topic4\", \"Topic4\", \"Topic4\", \"Topic4\"], \"logprob\": [30.0, 29.0, 28.0, 27.0, 26.0, 25.0, 24.0, 23.0, 22.0, 21.0, 20.0, 19.0, 18.0, 17.0, 16.0, 15.0, 14.0, 13.0, 12.0, 11.0, 10.0, 9.0, 8.0, 7.0, 6.0, 5.0, 4.0, 3.0, 2.0, 1.0, -4.055200099945068, -4.055799961090088, -4.323800086975098, -4.689599990844727, -4.690499782562256, -4.6905999183654785, -4.691199779510498, -4.691500186920166, -4.692200183868408, -4.6930999755859375, -4.69320011138916, -4.323299884796143, -4.32480001449585, -4.32420015335083, -5.277400016784668, -5.277400016784668, -5.277400016784668, -5.277400016784668, -5.277400016784668, -5.277400016784668, -5.277400016784668, -5.277400016784668, -5.277400016784668, -5.277400016784668, -5.277400016784668, -5.277400016784668, -5.277400016784668, -5.278500080108643, -5.27869987487793, -5.278800010681152, -4.054299831390381, -3.8434998989105225, -4.054699897766113, -4.69189977645874, -4.691999912261963, -4.695199966430664, -4.0553998947143555, -4.054999828338623, -4.054800033569336, -4.323999881744385, -4.689799785614014, -4.690499782562256, -4.689300060272217, -4.691199779510498, -4.687099933624268, -5.27400016784668, -4.065499782562256, -4.43120002746582, -4.433199882507324, -4.433300018310547, -4.4334001541137695, -4.433499813079834, -4.433599948883057, -4.433700084686279, -4.433899879455566, -3.797499895095825, -5.016300201416016, -5.016300201416016, -5.016300201416016, -5.016300201416016, -5.016300201416016, -5.01639986038208, -5.01639986038208, -5.01639986038208, -5.01639986038208, -5.01639986038208, -5.01639986038208, -5.020199775695801, -5.020199775695801, -5.020299911499023, -5.020299911499023, -5.020400047302246, -5.020500183105469, -5.020500183105469, -5.020599842071533, -5.020599842071533, -4.4334001541137695, -4.4309000968933105, -4.066400051116943, -4.063499927520752, -4.433199882507324, -4.433300018310547, -4.433300018310547, -4.433499813079834, -4.432400226593018, -4.43310022354126, -5.015399932861328, -5.015600204467773, -5.015699863433838, -5.015699863433838, -5.0157999992370605, -5.016200065612793, -3.7945001125335693, -4.059700012207031, -4.4274001121521, -4.428999900817871, -4.430200099945068, -4.0594000816345215, -4.062900066375732, -3.5792999267578125, -5.015200138092041, -5.015200138092041, -5.015200138092041, -5.015200138092041, -5.015200138092041, -5.015200138092041, -5.015200138092041, -5.0152997970581055, -5.0152997970581055, -5.0152997970581055, -5.0152997970581055, -5.0152997970581055, -5.0152997970581055, -5.0152997970581055, -5.0152997970581055, -5.0152997970581055, -5.0152997970581055, -5.0152997970581055, -5.0152997970581055, -5.0152997970581055, -5.0152997970581055, -5.0152997970581055, -3.5810000896453857, -3.5815999507904053, -4.426599979400635, -4.426799774169922, -4.43120002746582, -4.430699825286865, -4.427700042724609, -4.428599834442139, -4.4274001121521, -5.005300045013428, -5.0030999183654785, -5.00629997253418, -5.008699893951416, -5.010300159454346, -5.01039981842041, -5.010799884796143, -5.012499809265137, -5.012800216674805, -5.013000011444092, -5.0131001472473145, -5.013199806213379, -5.013199806213379, -3.9647998809814453, -4.332799911499023, -4.333199977874756, -3.964200019836426, -4.920000076293945, -4.920000076293945, -4.920000076293945, -4.920000076293945, -4.920000076293945, -4.920000076293945, -4.920000076293945, -4.920000076293945, -4.920000076293945, -4.920000076293945, -4.920000076293945, -4.920000076293945, -4.920000076293945, -4.920000076293945, -4.920000076293945, -4.920000076293945, -4.920000076293945, -4.920000076293945, -4.920000076293945, -4.920000076293945, -4.920000076293945, -4.920000076293945, -4.920000076293945, -4.920000076293945, -4.920000076293945, -4.920000076293945, -3.696199893951416, -4.331200122833252, -4.332099914550781, -3.962899923324585, -4.330599784851074, -4.330100059509277, -4.331699848175049, -4.915500164031982, -4.915599822998047, -4.917200088500977, -4.917500019073486, -4.917500019073486, -4.917699813842773, -4.918000221252441, -4.918799877166748, -4.918799877166748, -4.918900012969971, -4.919300079345703, -4.919899940490723, -4.920000076293945], \"loglift\": [30.0, 29.0, 28.0, 27.0, 26.0, 25.0, 24.0, 23.0, 22.0, 21.0, 20.0, 19.0, 18.0, 17.0, 16.0, 15.0, 14.0, 13.0, 12.0, 11.0, 10.0, 9.0, 8.0, 7.0, 6.0, 5.0, 4.0, 3.0, 2.0, 1.0, 0.9259999990463257, 0.9254000186920166, 0.8863000273704529, 0.8174999952316284, 0.8167999982833862, 0.8166999816894531, 0.8162000179290771, 0.8159000277519226, 0.8152999877929688, 0.8144000172615051, 0.814300000667572, 0.6840000152587891, 0.6840000152587891, 0.6830999851226807, 0.6547999978065491, 0.6547999978065491, 0.6547999978065491, 0.6547999978065491, 0.6547999978065491, 0.6547999978065491, 0.6547999978065491, 0.6547999978065491, 0.6547999978065491, 0.6547999978065491, 0.6547999978065491, 0.6547999978065491, 0.6547999978065491, 0.6538000106811523, 0.6536999940872192, 0.6535999774932861, 0.6220999956130981, 0.5056999921798706, 0.49709999561309814, 0.5511000156402588, 0.5511000156402588, 0.5498999953269958, 0.3937999904155731, 0.3018999993801117, 0.2912999987602234, 0.2637999951839447, 0.3578999936580658, 0.34360000491142273, 0.17329999804496765, 0.03400000184774399, -0.09070000052452087, 0.006500000134110451, 1.2467999458312988, 1.1675000190734863, 1.1655999422073364, 1.1654000282287598, 1.1653000116348267, 1.1651999950408936, 1.1650999784469604, 1.1649999618530273, 1.1648000478744507, 1.0871000289916992, 0.9851999878883362, 0.9851999878883362, 0.9851999878883362, 0.9851999878883362, 0.9851999878883362, 0.9851999878883362, 0.9851999878883362, 0.9851999878883362, 0.9851999878883362, 0.9851999878883362, 0.9851999878883362, 0.9812999963760376, 0.9811999797821045, 0.9811999797821045, 0.9811000227928162, 0.9811000227928162, 0.9810000061988831, 0.9810000061988831, 0.98089998960495, 0.98089998960495, 0.8809000253677368, 0.6883000135421753, 0.4853000044822693, 0.38580000400543213, 0.6008999943733215, 0.5005000233650208, 0.4293000102043152, 0.29179999232292175, 0.164000004529953, -0.07620000094175339, 0.5856999754905701, 0.26339998841285706, 0.227400004863739, 0.5855000019073486, -0.008500000461935997, 0.6067000031471252, 1.3014999628067017, 1.2582999467849731, 1.176300048828125, 1.1747000217437744, 1.1734000444412231, 1.0497000217437744, 1.0460000038146973, 1.0377999544143677, 0.9900000095367432, 0.9900000095367432, 0.9900000095367432, 0.9900000095367432, 0.9900000095367432, 0.9900000095367432, 0.9900000095367432, 0.9900000095367432, 0.9900000095367432, 0.9900000095367432, 0.9900000095367432, 0.9900000095367432, 0.9898999929428101, 0.9898999929428101, 0.9898999929428101, 0.9898999929428101, 0.9898999929428101, 0.9898999929428101, 0.9898999929428101, 0.9898999929428101, 0.9898999929428101, 0.9898999929428101, 0.850600004196167, 0.7645000219345093, 0.854200005531311, 0.8539999723434448, 0.8493000268936157, 0.6915000081062317, 0.6798999905586243, 0.16769999265670776, 0.16040000319480896, 0.23980000615119934, -0.6462000012397766, -0.28110000491142273, 0.2703999876976013, 0.30399999022483826, -0.0015999999595806003, -0.14820000529289246, 0.26649999618530273, 0.5884000062942505, 0.5414999723434448, 0.588100016117096, -0.3368000090122223, -0.0794999971985817, 1.402899980545044, 1.3148000240325928, 1.3144999742507935, 1.1403000354766846, 1.117900013923645, 1.117900013923645, 1.117900013923645, 1.117900013923645, 1.117900013923645, 1.117900013923645, 1.117900013923645, 1.117900013923645, 1.117900013923645, 1.117900013923645, 1.117900013923645, 1.117900013923645, 1.117900013923645, 1.117900013923645, 1.117900013923645, 1.117900013923645, 1.117900013923645, 1.117900013923645, 1.117900013923645, 1.117900013923645, 1.117900013923645, 1.117900013923645, 1.117900013923645, 1.117900013923645, 1.117900013923645, 1.117900013923645, 0.7353000044822693, 0.7910000085830688, 0.7870000004768372, 0.3864000141620636, 0.6032000184059143, 0.25760000944137573, 0.025200000032782555, -0.3192000091075897, -0.46639999747276306, -0.19200000166893005, 0.37709999084472656, 0.37709999084472656, 0.19130000472068787, 0.18950000405311584, 0.41359999775886536, 0.12890000641345978, -0.301800012588501, 0.37700000405311584, 0.7028999924659729, 0.6552000045776367]}, \"token.table\": {\"Topic\": [1, 3, 1, 1, 3, 1, 2, 3, 1, 1, 2, 4, 4, 4, 3, 3, 4, 3, 1, 3, 3, 1, 2, 1, 2, 3, 4, 2, 3, 4, 1, 1, 3, 4, 1, 1, 1, 3, 2, 1, 2, 3, 3, 4, 1, 2, 3, 2, 4, 2, 3, 4, 1, 3, 4, 4, 1, 3, 4, 4, 4, 1, 2, 2, 4, 1, 2, 4, 4, 2, 4, 3, 1, 2, 3, 1, 2, 3, 4, 1, 3, 1, 2, 3, 4, 1, 4, 2, 3, 1, 1, 2, 3, 1, 1, 2, 1, 3, 3, 3, 1, 2, 2, 3, 4, 1, 2, 1, 3, 4, 1, 2, 4, 2, 3, 1, 2, 4, 1, 3, 4, 2, 3, 4, 4, 1, 2, 1, 4, 2, 1, 2, 2, 3, 4, 1, 3, 4, 2, 4, 1, 2, 4, 2, 3, 4, 1, 3, 3, 2, 3, 4, 2, 2, 2, 1, 3, 4, 1, 4, 3, 1, 2, 2, 1, 3, 3, 2, 1, 2, 3, 2, 4, 2, 1, 2, 2, 4, 3, 4, 1, 2, 4, 3, 1, 3, 4, 2, 2, 1, 4, 1, 1, 2, 2, 3, 4, 3, 1, 2, 2, 2, 3, 4, 1, 1, 4, 4, 1, 1, 2, 3, 3, 4, 2, 4, 3, 2, 3, 4, 1, 3, 2, 3, 4, 2, 2, 3], \"Freq\": [0.758550226688385, 0.8160044550895691, 0.9918738007545471, 0.991753339767456, 0.5461558699607849, 0.5205556750297546, 0.2602778375148773, 0.2602778375148773, 0.7585500478744507, 0.40090763568878174, 0.40090763568878174, 0.40090763568878174, 0.862626850605011, 0.570659339427948, 0.815999448299408, 0.8159966468811035, 0.8430660367012024, 0.8159964680671692, 0.9921229481697083, 0.8160045146942139, 0.8208584785461426, 0.6016510128974915, 0.3008255064487457, 0.3988741338253021, 0.19943706691265106, 0.19943706691265106, 0.19943706691265106, 0.5447758436203003, 0.5447758436203003, 0.8430667519569397, 0.7585499286651611, 0.8791729211807251, 0.9860669374465942, 0.8430661559104919, 0.9918592572212219, 0.7585503458976746, 0.39542290568351746, 0.39542290568351746, 0.5434194207191467, 0.7615900039672852, 0.3807950019836426, 0.8160042762756348, 0.33743855357170105, 0.33743855357170105, 0.3946976959705353, 0.3946976959705353, 0.3946976959705353, 0.33641815185546875, 0.33641815185546875, 0.8129785656929016, 0.5460960268974304, 0.8430660367012024, 0.7585497498512268, 0.5074144601821899, 0.33827632665634155, 0.8430657386779785, 0.4015977382659912, 0.4015977382659912, 0.4015977382659912, 0.8430661559104919, 0.8430654406547546, 0.601606011390686, 0.300803005695343, 0.5433976054191589, 0.8430661559104919, 0.626431405544281, 0.3132157027721405, 0.3132157027721405, 0.8430663347244263, 0.8129785656929016, 0.8430651426315308, 0.8160043358802795, 0.39473438262939453, 0.39473438262939453, 0.39473438262939453, 0.4537375271320343, 0.22686876356601715, 0.22686876356601715, 0.22686876356601715, 0.7630826234817505, 0.38154131174087524, 0.4709200859069824, 0.15697336196899414, 0.15697336196899414, 0.15697336196899414, 0.9921092391014099, 0.8430663347244263, 0.5447746515274048, 0.5447746515274048, 0.7585497498512268, 0.7585498690605164, 0.5433972477912903, 0.5461185574531555, 0.7585499882698059, 0.7586621046066284, 0.8129785656929016, 0.51993328332901, 0.51993328332901, 0.8160001635551453, 0.815997838973999, 0.2660692632198334, 0.7982078194618225, 0.8129366040229797, 0.8160045146942139, 0.8430659174919128, 0.758640706539154, 0.8129783272743225, 0.9920284152030945, 0.6659960746765137, 0.33299803733825684, 0.516474187374115, 0.34431612491607666, 0.17215806245803833, 0.40888410806655884, 0.40888410806655884, 0.758665919303894, 0.5567055940628052, 0.5567055940628052, 0.3954581916332245, 0.19772909581661224, 0.19772909581661224, 0.8129785060882568, 0.8159981369972229, 0.8430660367012024, 0.8430658578872681, 0.6179924011230469, 0.30899620056152344, 0.8791205883026123, 0.8430662751197815, 0.5434309244155884, 0.7585502862930298, 0.8129783272743225, 0.8129786252975464, 0.8159984946250916, 0.8430662751197815, 0.4658377766609192, 0.4658377766609192, 0.8430661559104919, 0.5434339046478271, 0.5706505179405212, 0.4009307324886322, 0.4009307324886322, 0.4009307324886322, 0.27947694063186646, 0.27947694063186646, 0.27947694063186646, 0.3953178822994232, 0.3953178822994232, 0.8159983158111572, 0.3325265347957611, 0.3325265347957611, 0.3325265347957611, 0.5434303879737854, 0.5433884263038635, 0.8129454851150513, 0.20361843705177307, 0.6108552813529968, 0.20361843705177307, 0.33151179552078247, 0.6630235910415649, 0.8159986138343811, 0.7615960240364075, 0.38079801201820374, 0.81294184923172, 0.6025092601776123, 0.30125463008880615, 0.81600022315979, 0.8129785060882568, 0.6481850743293762, 0.21606168150901794, 0.21606168150901794, 0.8161608576774597, 0.8430660367012024, 0.5434195399284363, 0.7368566989898682, 0.8129413723945618, 0.5567203760147095, 0.5567203760147095, 0.6660701036453247, 0.33303505182266235, 0.6231234073638916, 0.1557808518409729, 0.3115617036819458, 0.8160011172294617, 0.39542195200920105, 0.39542195200920105, 0.8430658578872681, 0.8129518628120422, 0.8129786252975464, 0.5307720899581909, 0.5307720899581909, 0.7585496306419373, 0.9919385313987732, 0.8129534125328064, 0.8129783272743225, 0.8160044550895691, 0.8430655002593994, 0.8160000443458557, 0.5722272396087646, 0.38148483633995056, 0.812946081161499, 0.5447518825531006, 0.5447518825531006, 0.8430665135383606, 0.7585497498512268, 0.7585498094558716, 0.8430664539337158, 0.8430660367012024, 0.758550763130188, 0.39471927285194397, 0.39471927285194397, 0.39471927285194397, 0.8160045146942139, 0.8430658578872681, 0.8129459023475647, 0.8430656790733337, 0.8159990906715393, 0.4163523018360138, 0.4163523018360138, 0.4163523018360138, 0.991967499256134, 0.8160011768341064, 0.8129785656929016, 0.8159968256950378, 0.8430662751197815, 0.8129435181617737, 0.54476398229599, 0.54476398229599], \"Term\": [\"absolutely\", \"admit\", \"allergic\", \"allergy\", \"also\", \"ask\", \"ask\", \"ask\", \"away\", \"back\", \"back\", \"back\", \"bit\", \"bore\", \"bottle\", \"brand\", \"burger\", \"buy\", \"change\", \"choose\", \"cocktail\", \"coffee\", \"coffee\", \"come\", \"come\", \"come\", \"come\", \"complain\", \"complain\", \"conclusion\", \"could\", \"couple\", \"course\", \"crisis\", \"customer\", \"dangerous\", \"decide\", \"decide\", \"destroy\", \"different\", \"different\", \"difficulty\", \"dinner\", \"dinner\", \"dirty\", \"dirty\", \"dirty\", \"dish\", \"dish\", \"disturbing\", \"double\", \"dozen\", \"dreadful\", \"drink\", \"drink\", \"dry\", \"eat\", \"eat\", \"eat\", \"economical\", \"enjoy\", \"even\", \"even\", \"evening\", \"excellent\", \"expect\", \"expect\", \"expect\", \"expensive\", \"fact\", \"filthy\", \"find\", \"friend\", \"friend\", \"friend\", \"get\", \"get\", \"get\", \"get\", \"glass\", \"glass\", \"go\", \"go\", \"go\", \"go\", \"great\", \"habit\", \"high\", \"high\", \"honest\", \"horrendous\", \"host\", \"however\", \"idea\", \"indeed\", \"issue\", \"kid\", \"kid\", \"latter\", \"lead\", \"leave\", \"leave\", \"letter\", \"life\", \"linguine\", \"list\", \"little\", \"lunch\", \"main\", \"main\", \"make\", \"make\", \"make\", \"manager\", \"manager\", \"meal\", \"mean\", \"mean\", \"menu\", \"menu\", \"menu\", \"middle\", \"min\", \"modern\", \"money\", \"move\", \"move\", \"mustard\", \"need\", \"next\", \"night\", \"noisy\", \"none\", \"normal\", \"opinion\", \"order\", \"order\", \"outdoors\", \"part\", \"pasta\", \"people\", \"people\", \"people\", \"place\", \"place\", \"place\", \"plate\", \"plate\", \"potato\", \"price\", \"price\", \"price\", \"quality\", \"racist\", \"ready\", \"really\", \"really\", \"really\", \"reasonable\", \"reasonable\", \"reply\", \"request\", \"request\", \"right\", \"rude\", \"rude\", \"run\", \"satisfactory\", \"say\", \"say\", \"say\", \"seat\", \"secondary\", \"see\", \"seed\", \"send\", \"sense\", \"sense\", \"serve\", \"serve\", \"service\", \"service\", \"service\", \"slice\", \"small\", \"small\", \"smoking\", \"soon\", \"special\", \"start\", \"start\", \"stay\", \"step\", \"store\", \"street\", \"stuff\", \"subject\", \"surcharge\", \"table\", \"table\", \"talk\", \"taste\", \"taste\", \"tasty\", \"tell\", \"thing\", \"think\", \"today\", \"tonight\", \"try\", \"try\", \"try\", \"unfortunately\", \"unhealthy\", \"upset\", \"value\", \"wait\", \"waiter\", \"waiter\", \"waiter\", \"waitress\", \"water\", \"weak\", \"wedge\", \"whet\", \"wind\", \"wise\", \"wise\"]}, \"R\": 30, \"lambda.step\": 0.01, \"plot.opts\": {\"xlab\": \"PC1\", \"ylab\": \"PC2\"}, \"topic.order\": [3, 4, 1, 2]};\n",
       "\n",
       "function LDAvis_load_lib(url, callback){\n",
       "  var s = document.createElement('script');\n",
       "  s.src = url;\n",
       "  s.async = true;\n",
       "  s.onreadystatechange = s.onload = callback;\n",
       "  s.onerror = function(){console.warn(\"failed to load library \" + url);};\n",
       "  document.getElementsByTagName(\"head\")[0].appendChild(s);\n",
       "}\n",
       "\n",
       "if(typeof(LDAvis) !== \"undefined\"){\n",
       "   // already loaded: just create the visualization\n",
       "   !function(LDAvis){\n",
       "       new LDAvis(\"#\" + \"ldavis_el156012270309495761860406255\", ldavis_el156012270309495761860406255_data);\n",
       "   }(LDAvis);\n",
       "}else if(typeof define === \"function\" && define.amd){\n",
       "   // require.js is available: use it to load d3/LDAvis\n",
       "   require.config({paths: {d3: \"https://cdnjs.cloudflare.com/ajax/libs/d3/3.5.5/d3.min\"}});\n",
       "   require([\"d3\"], function(d3){\n",
       "      window.d3 = d3;\n",
       "      LDAvis_load_lib(\"https://cdn.rawgit.com/bmabey/pyLDAvis/files/ldavis.v1.0.0.js\", function(){\n",
       "        new LDAvis(\"#\" + \"ldavis_el156012270309495761860406255\", ldavis_el156012270309495761860406255_data);\n",
       "      });\n",
       "    });\n",
       "}else{\n",
       "    // require.js not available: dynamically load d3 & LDAvis\n",
       "    LDAvis_load_lib(\"https://cdnjs.cloudflare.com/ajax/libs/d3/3.5.5/d3.min.js\", function(){\n",
       "         LDAvis_load_lib(\"https://cdn.rawgit.com/bmabey/pyLDAvis/files/ldavis.v1.0.0.js\", function(){\n",
       "                 new LDAvis(\"#\" + \"ldavis_el156012270309495761860406255\", ldavis_el156012270309495761860406255_data);\n",
       "            })\n",
       "         });\n",
       "}\n",
       "</script>"
      ],
      "text/plain": [
       "PreparedData(topic_coordinates=              x         y  topics  cluster       Freq\n",
       "topic                                                \n",
       "2     -0.108455 -0.063999       1        1  34.399570\n",
       "3     -0.062806  0.103169       2        1  23.145470\n",
       "0      0.080256 -0.096784       3        1  22.947584\n",
       "1      0.091005  0.057614       4        1  19.507374, topic_info=       Term      Freq     Total Category  logprob  loglift\n",
       "137   drink  5.000000  5.000000  Default  30.0000  30.0000\n",
       "121   order  6.000000  6.000000  Default  29.0000  29.0000\n",
       "175  course  3.000000  3.000000  Default  28.0000  28.0000\n",
       "140  really  4.000000  4.000000  Default  27.0000  27.0000\n",
       "134     bit  2.000000  2.000000  Default  26.0000  26.0000\n",
       "..      ...       ...       ...      ...      ...      ...\n",
       "30   expect  0.708481  3.192688   Topic4  -4.9188   0.1289\n",
       "140  really  0.708433  4.911147   Topic4  -4.9189  -0.3018\n",
       "91      eat  0.708189  2.490054   Topic4  -4.9193   0.3770\n",
       "48     mean  0.707704  1.796282   Topic4  -4.9199   0.7029\n",
       "230   start  0.707662  1.884048   Topic4  -4.9200   0.6552\n",
       "\n",
       "[224 rows x 6 columns], token_table=      Topic      Freq        Term\n",
       "term                             \n",
       "83        1  0.758550  absolutely\n",
       "287       3  0.816004       admit\n",
       "84        1  0.991874    allergic\n",
       "85        1  0.991753     allergy\n",
       "288       3  0.546156        also\n",
       "...     ...       ...         ...\n",
       "276       3  0.815997       wedge\n",
       "142       4  0.843066        whet\n",
       "82        2  0.812944        wind\n",
       "11        2  0.544764        wise\n",
       "11        3  0.544764        wise\n",
       "\n",
       "[228 rows x 3 columns], R=30, lambda_step=0.01, plot_opts={'xlab': 'PC1', 'ylab': 'PC2'}, topic_order=[3, 4, 1, 2])"
      ]
     },
     "metadata": {},
     "output_type": "display_data"
    }
   ],
   "source": [
    "plot_model(lda_neg_custom, plot ='topic_model')"
   ]
  },
  {
   "cell_type": "code",
   "execution_count": null,
   "metadata": {},
   "outputs": [],
   "source": []
  }
 ],
 "metadata": {
  "kernelspec": {
   "display_name": "Python 3",
   "language": "python",
   "name": "python3"
  },
  "language_info": {
   "codemirror_mode": {
    "name": "ipython",
    "version": 3
   },
   "file_extension": ".py",
   "mimetype": "text/x-python",
   "name": "python",
   "nbconvert_exporter": "python",
   "pygments_lexer": "ipython3",
   "version": "3.7.4"
  }
 },
 "nbformat": 4,
 "nbformat_minor": 2
}
