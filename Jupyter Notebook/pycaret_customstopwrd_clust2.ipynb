{
 "cells": [
  {
   "cell_type": "code",
   "execution_count": 1,
   "metadata": {},
   "outputs": [],
   "source": [
    "import pandas as pd\n",
    "import glob"
   ]
  },
  {
   "cell_type": "code",
   "execution_count": 2,
   "metadata": {},
   "outputs": [
    {
     "data": {
      "text/html": [
       "<div>\n",
       "<style scoped>\n",
       "    .dataframe tbody tr th:only-of-type {\n",
       "        vertical-align: middle;\n",
       "    }\n",
       "\n",
       "    .dataframe tbody tr th {\n",
       "        vertical-align: top;\n",
       "    }\n",
       "\n",
       "    .dataframe thead th {\n",
       "        text-align: right;\n",
       "    }\n",
       "</style>\n",
       "<table border=\"1\" class=\"dataframe\">\n",
       "  <thead>\n",
       "    <tr style=\"text-align: right;\">\n",
       "      <th></th>\n",
       "      <th>Unnamed: 0</th>\n",
       "      <th>r_points</th>\n",
       "      <th>r_text</th>\n",
       "      <th>place</th>\n",
       "      <th>Unnamed: 3</th>\n",
       "      <th>Unnamed: 4</th>\n",
       "      <th>Unnamed: 5</th>\n",
       "      <th>Unnamed: 6</th>\n",
       "      <th>scores</th>\n",
       "      <th>compound</th>\n",
       "      <th>score</th>\n",
       "    </tr>\n",
       "  </thead>\n",
       "  <tbody>\n",
       "    <tr>\n",
       "      <th>0</th>\n",
       "      <td>0</td>\n",
       "      <td>50</td>\n",
       "      <td>Like having a family in Nicosia. We loved stay...</td>\n",
       "      <td>Asty Hotel</td>\n",
       "      <td>Review 1 Similarity</td>\n",
       "      <td>0.210042</td>\n",
       "      <td>Review 1 Similarity</td>\n",
       "      <td>0.280976</td>\n",
       "      <td>{'neg': 0.048, 'neu': 0.743, 'pos': 0.209, 'co...</td>\n",
       "      <td>0.8168</td>\n",
       "      <td>pos</td>\n",
       "    </tr>\n",
       "    <tr>\n",
       "      <th>1</th>\n",
       "      <td>2</td>\n",
       "      <td>50</td>\n",
       "      <td>My friend and I went to Asty recently and we r...</td>\n",
       "      <td>Asty Hotel</td>\n",
       "      <td>Review 341 Similarity</td>\n",
       "      <td>0.221404</td>\n",
       "      <td>Review 267 Similarity</td>\n",
       "      <td>0.509028</td>\n",
       "      <td>{'neg': 0.0, 'neu': 0.725, 'pos': 0.275, 'comp...</td>\n",
       "      <td>0.9768</td>\n",
       "      <td>pos</td>\n",
       "    </tr>\n",
       "    <tr>\n",
       "      <th>2</th>\n",
       "      <td>4</td>\n",
       "      <td>50</td>\n",
       "      <td>i was in Nicosia for the ITF international ten...</td>\n",
       "      <td>Asty Hotel</td>\n",
       "      <td>Review 402 Similarity</td>\n",
       "      <td>0.224544</td>\n",
       "      <td>Review 265 Similarity</td>\n",
       "      <td>0.500626</td>\n",
       "      <td>{'neg': 0.028, 'neu': 0.868, 'pos': 0.105, 'co...</td>\n",
       "      <td>0.7504</td>\n",
       "      <td>pos</td>\n",
       "    </tr>\n",
       "    <tr>\n",
       "      <th>3</th>\n",
       "      <td>5</td>\n",
       "      <td>50</td>\n",
       "      <td>Though not in the town centre, Asty staff went...</td>\n",
       "      <td>Asty Hotel</td>\n",
       "      <td>Review 227 Similarity</td>\n",
       "      <td>0.487088</td>\n",
       "      <td>Review 30 Similarity</td>\n",
       "      <td>0.490511</td>\n",
       "      <td>{'neg': 0.0, 'neu': 0.902, 'pos': 0.098, 'comp...</td>\n",
       "      <td>0.7264</td>\n",
       "      <td>pos</td>\n",
       "    </tr>\n",
       "    <tr>\n",
       "      <th>4</th>\n",
       "      <td>6</td>\n",
       "      <td>50</td>\n",
       "      <td>We stayed 2 night, three of us in two rooms. B...</td>\n",
       "      <td>Asty Hotel</td>\n",
       "      <td>Review 226 Similarity</td>\n",
       "      <td>0.460179</td>\n",
       "      <td>Review 66 Similarity</td>\n",
       "      <td>0.486664</td>\n",
       "      <td>{'neg': 0.034, 'neu': 0.812, 'pos': 0.154, 'co...</td>\n",
       "      <td>0.8532</td>\n",
       "      <td>pos</td>\n",
       "    </tr>\n",
       "    <tr>\n",
       "      <th>...</th>\n",
       "      <td>...</td>\n",
       "      <td>...</td>\n",
       "      <td>...</td>\n",
       "      <td>...</td>\n",
       "      <td>...</td>\n",
       "      <td>...</td>\n",
       "      <td>...</td>\n",
       "      <td>...</td>\n",
       "      <td>...</td>\n",
       "      <td>...</td>\n",
       "      <td>...</td>\n",
       "    </tr>\n",
       "    <tr>\n",
       "      <th>307</th>\n",
       "      <td>318</td>\n",
       "      <td>50</td>\n",
       "      <td>the room is clean,big, shiny, very modern and ...</td>\n",
       "      <td>Hypnos by Bed n Mix</td>\n",
       "      <td>Review 25 Similarity</td>\n",
       "      <td>0.273861</td>\n",
       "      <td>Review 21 Similarity</td>\n",
       "      <td>0.000000</td>\n",
       "      <td>{'neg': 0.0, 'neu': 0.921, 'pos': 0.079, 'comp...</td>\n",
       "      <td>0.4927</td>\n",
       "      <td>pos</td>\n",
       "    </tr>\n",
       "    <tr>\n",
       "      <th>308</th>\n",
       "      <td>319</td>\n",
       "      <td>50</td>\n",
       "      <td>This is a very modern, high-quality accommodat...</td>\n",
       "      <td>Hypnos by Bed n Mix</td>\n",
       "      <td>Review 24 Similarity</td>\n",
       "      <td>0.196116</td>\n",
       "      <td>Review 26 Similarity</td>\n",
       "      <td>0.000000</td>\n",
       "      <td>{'neg': 0.033, 'neu': 0.746, 'pos': 0.221, 'co...</td>\n",
       "      <td>0.9938</td>\n",
       "      <td>pos</td>\n",
       "    </tr>\n",
       "    <tr>\n",
       "      <th>309</th>\n",
       "      <td>320</td>\n",
       "      <td>50</td>\n",
       "      <td>This new place to stay is perfect from all aps...</td>\n",
       "      <td>Hypnos by Bed n Mix</td>\n",
       "      <td>Review 32 Similarity</td>\n",
       "      <td>0.189737</td>\n",
       "      <td>Review 27 Similarity</td>\n",
       "      <td>0.000000</td>\n",
       "      <td>{'neg': 0.0, 'neu': 0.499, 'pos': 0.501, 'comp...</td>\n",
       "      <td>0.9779</td>\n",
       "      <td>pos</td>\n",
       "    </tr>\n",
       "    <tr>\n",
       "      <th>310</th>\n",
       "      <td>321</td>\n",
       "      <td>50</td>\n",
       "      <td>Everything was perfect. I will definitely reco...</td>\n",
       "      <td>Hypnos by Bed n Mix</td>\n",
       "      <td>Review 30 Similarity</td>\n",
       "      <td>0.095346</td>\n",
       "      <td>Review 30 Similarity</td>\n",
       "      <td>0.000000</td>\n",
       "      <td>{'neg': 0.0, 'neu': 0.637, 'pos': 0.363, 'comp...</td>\n",
       "      <td>0.9491</td>\n",
       "      <td>pos</td>\n",
       "    </tr>\n",
       "    <tr>\n",
       "      <th>311</th>\n",
       "      <td>322</td>\n",
       "      <td>50</td>\n",
       "      <td>Everything i can think about was perfect, from...</td>\n",
       "      <td>Hypnos by Bed n Mix</td>\n",
       "      <td>Review 29 Similarity</td>\n",
       "      <td>0.081650</td>\n",
       "      <td>Review 31 Similarity</td>\n",
       "      <td>0.000000</td>\n",
       "      <td>{'neg': 0.047, 'neu': 0.833, 'pos': 0.12, 'com...</td>\n",
       "      <td>0.7962</td>\n",
       "      <td>pos</td>\n",
       "    </tr>\n",
       "  </tbody>\n",
       "</table>\n",
       "<p>312 rows × 11 columns</p>\n",
       "</div>"
      ],
      "text/plain": [
       "     Unnamed: 0  r_points                                             r_text  \\\n",
       "0             0        50  Like having a family in Nicosia. We loved stay...   \n",
       "1             2        50  My friend and I went to Asty recently and we r...   \n",
       "2             4        50  i was in Nicosia for the ITF international ten...   \n",
       "3             5        50  Though not in the town centre, Asty staff went...   \n",
       "4             6        50  We stayed 2 night, three of us in two rooms. B...   \n",
       "..          ...       ...                                                ...   \n",
       "307         318        50  the room is clean,big, shiny, very modern and ...   \n",
       "308         319        50  This is a very modern, high-quality accommodat...   \n",
       "309         320        50  This new place to stay is perfect from all aps...   \n",
       "310         321        50  Everything was perfect. I will definitely reco...   \n",
       "311         322        50  Everything i can think about was perfect, from...   \n",
       "\n",
       "                   place             Unnamed: 3  Unnamed: 4  \\\n",
       "0             Asty Hotel    Review 1 Similarity    0.210042   \n",
       "1             Asty Hotel  Review 341 Similarity    0.221404   \n",
       "2             Asty Hotel  Review 402 Similarity    0.224544   \n",
       "3             Asty Hotel  Review 227 Similarity    0.487088   \n",
       "4             Asty Hotel  Review 226 Similarity    0.460179   \n",
       "..                   ...                    ...         ...   \n",
       "307  Hypnos by Bed n Mix   Review 25 Similarity    0.273861   \n",
       "308  Hypnos by Bed n Mix   Review 24 Similarity    0.196116   \n",
       "309  Hypnos by Bed n Mix   Review 32 Similarity    0.189737   \n",
       "310  Hypnos by Bed n Mix   Review 30 Similarity    0.095346   \n",
       "311  Hypnos by Bed n Mix   Review 29 Similarity    0.081650   \n",
       "\n",
       "                Unnamed: 5  Unnamed: 6  \\\n",
       "0      Review 1 Similarity    0.280976   \n",
       "1    Review 267 Similarity    0.509028   \n",
       "2    Review 265 Similarity    0.500626   \n",
       "3     Review 30 Similarity    0.490511   \n",
       "4     Review 66 Similarity    0.486664   \n",
       "..                     ...         ...   \n",
       "307   Review 21 Similarity    0.000000   \n",
       "308   Review 26 Similarity    0.000000   \n",
       "309   Review 27 Similarity    0.000000   \n",
       "310   Review 30 Similarity    0.000000   \n",
       "311   Review 31 Similarity    0.000000   \n",
       "\n",
       "                                                scores  compound score  \n",
       "0    {'neg': 0.048, 'neu': 0.743, 'pos': 0.209, 'co...    0.8168   pos  \n",
       "1    {'neg': 0.0, 'neu': 0.725, 'pos': 0.275, 'comp...    0.9768   pos  \n",
       "2    {'neg': 0.028, 'neu': 0.868, 'pos': 0.105, 'co...    0.7504   pos  \n",
       "3    {'neg': 0.0, 'neu': 0.902, 'pos': 0.098, 'comp...    0.7264   pos  \n",
       "4    {'neg': 0.034, 'neu': 0.812, 'pos': 0.154, 'co...    0.8532   pos  \n",
       "..                                                 ...       ...   ...  \n",
       "307  {'neg': 0.0, 'neu': 0.921, 'pos': 0.079, 'comp...    0.4927   pos  \n",
       "308  {'neg': 0.033, 'neu': 0.746, 'pos': 0.221, 'co...    0.9938   pos  \n",
       "309  {'neg': 0.0, 'neu': 0.499, 'pos': 0.501, 'comp...    0.9779   pos  \n",
       "310  {'neg': 0.0, 'neu': 0.637, 'pos': 0.363, 'comp...    0.9491   pos  \n",
       "311  {'neg': 0.047, 'neu': 0.833, 'pos': 0.12, 'com...    0.7962   pos  \n",
       "\n",
       "[312 rows x 11 columns]"
      ]
     },
     "execution_count": 2,
     "metadata": {},
     "output_type": "execute_result"
    }
   ],
   "source": [
    "pos_review = pd.read_csv(r'C:\\Users\\Dell\\Desktop\\sentiment_cluster2_pos.csv')\n",
    "pos_review"
   ]
  },
  {
   "cell_type": "code",
   "execution_count": 4,
   "metadata": {},
   "outputs": [],
   "source": [
    "from pycaret.nlp import *"
   ]
  },
  {
   "cell_type": "code",
   "execution_count": 5,
   "metadata": {},
   "outputs": [
    {
     "data": {
      "text/html": [
       "<style  type=\"text/css\" >\n",
       "</style><table id=\"T_9d4ee6fe_24f2_11eb_b5cf_c48e8ff9d2e0\" ><thead>    <tr>        <th class=\"col_heading level0 col0\" >Description</th>        <th class=\"col_heading level0 col1\" >Value</th>    </tr></thead><tbody>\n",
       "                <tr>\n",
       "                                <td id=\"T_9d4ee6fe_24f2_11eb_b5cf_c48e8ff9d2e0row0_col0\" class=\"data row0 col0\" >session_id</td>\n",
       "                        <td id=\"T_9d4ee6fe_24f2_11eb_b5cf_c48e8ff9d2e0row0_col1\" class=\"data row0 col1\" >1335</td>\n",
       "            </tr>\n",
       "            <tr>\n",
       "                                <td id=\"T_9d4ee6fe_24f2_11eb_b5cf_c48e8ff9d2e0row1_col0\" class=\"data row1 col0\" >Documents</td>\n",
       "                        <td id=\"T_9d4ee6fe_24f2_11eb_b5cf_c48e8ff9d2e0row1_col1\" class=\"data row1 col1\" >312</td>\n",
       "            </tr>\n",
       "            <tr>\n",
       "                                <td id=\"T_9d4ee6fe_24f2_11eb_b5cf_c48e8ff9d2e0row2_col0\" class=\"data row2 col0\" >Vocab Size</td>\n",
       "                        <td id=\"T_9d4ee6fe_24f2_11eb_b5cf_c48e8ff9d2e0row2_col1\" class=\"data row2 col1\" >2023</td>\n",
       "            </tr>\n",
       "            <tr>\n",
       "                                <td id=\"T_9d4ee6fe_24f2_11eb_b5cf_c48e8ff9d2e0row3_col0\" class=\"data row3 col0\" >Custom Stopwords</td>\n",
       "                        <td id=\"T_9d4ee6fe_24f2_11eb_b5cf_c48e8ff9d2e0row3_col1\" class=\"data row3 col1\" >True</td>\n",
       "            </tr>\n",
       "    </tbody></table>"
      ],
      "text/plain": [
       "<pandas.io.formats.style.Styler at 0x22770a71f08>"
      ]
     },
     "metadata": {},
     "output_type": "display_data"
    }
   ],
   "source": [
    "exp_nlp = setup(data = pos_review, target = 'r_text',\n",
    "                custom_stopwords = [ 'hotel', 'room', 'nice', 'good'])"
   ]
  },
  {
   "cell_type": "code",
   "execution_count": 6,
   "metadata": {},
   "outputs": [
    {
     "name": "stdout",
     "output_type": "stream",
     "text": [
      "LdaModel(num_terms=2023, num_topics=4, decay=0.5, chunksize=100)\n"
     ]
    }
   ],
   "source": [
    "#create an LDA model\n",
    "lda_pos_custom = create_model('lda')\n",
    "print(lda_pos_custom)"
   ]
  },
  {
   "cell_type": "code",
   "execution_count": 7,
   "metadata": {},
   "outputs": [],
   "source": [
    "apply_lda_pos = assign_model(lda_pos_custom)"
   ]
  },
  {
   "cell_type": "code",
   "execution_count": 8,
   "metadata": {},
   "outputs": [
    {
     "data": {
      "text/html": [
       "<div>\n",
       "<style scoped>\n",
       "    .dataframe tbody tr th:only-of-type {\n",
       "        vertical-align: middle;\n",
       "    }\n",
       "\n",
       "    .dataframe tbody tr th {\n",
       "        vertical-align: top;\n",
       "    }\n",
       "\n",
       "    .dataframe thead th {\n",
       "        text-align: right;\n",
       "    }\n",
       "</style>\n",
       "<table border=\"1\" class=\"dataframe\">\n",
       "  <thead>\n",
       "    <tr style=\"text-align: right;\">\n",
       "      <th></th>\n",
       "      <th>Unnamed: 0</th>\n",
       "      <th>r_points</th>\n",
       "      <th>r_text</th>\n",
       "      <th>place</th>\n",
       "      <th>Unnamed: 3</th>\n",
       "      <th>Unnamed: 4</th>\n",
       "      <th>Unnamed: 5</th>\n",
       "      <th>Unnamed: 6</th>\n",
       "      <th>scores</th>\n",
       "      <th>compound</th>\n",
       "      <th>score</th>\n",
       "      <th>Topic_0</th>\n",
       "      <th>Topic_1</th>\n",
       "      <th>Topic_2</th>\n",
       "      <th>Topic_3</th>\n",
       "      <th>Dominant_Topic</th>\n",
       "      <th>Perc_Dominant_Topic</th>\n",
       "    </tr>\n",
       "  </thead>\n",
       "  <tbody>\n",
       "    <tr>\n",
       "      <th>0</th>\n",
       "      <td>0</td>\n",
       "      <td>50</td>\n",
       "      <td>family love stay always stay reservation last ...</td>\n",
       "      <td>Asty Hotel</td>\n",
       "      <td>Review 1 Similarity</td>\n",
       "      <td>0.210042</td>\n",
       "      <td>Review 1 Similarity</td>\n",
       "      <td>0.280976</td>\n",
       "      <td>{'neg': 0.048, 'neu': 0.743, 'pos': 0.209, 'co...</td>\n",
       "      <td>0.8168</td>\n",
       "      <td>pos</td>\n",
       "      <td>0.455052</td>\n",
       "      <td>0.005860</td>\n",
       "      <td>0.017951</td>\n",
       "      <td>0.521136</td>\n",
       "      <td>Topic 3</td>\n",
       "      <td>0.52</td>\n",
       "    </tr>\n",
       "    <tr>\n",
       "      <th>1</th>\n",
       "      <td>2</td>\n",
       "      <td>50</td>\n",
       "      <td>friend go asty recently really enjoy stay spac...</td>\n",
       "      <td>Asty Hotel</td>\n",
       "      <td>Review 341 Similarity</td>\n",
       "      <td>0.221404</td>\n",
       "      <td>Review 267 Similarity</td>\n",
       "      <td>0.509028</td>\n",
       "      <td>{'neg': 0.0, 'neu': 0.725, 'pos': 0.275, 'comp...</td>\n",
       "      <td>0.9768</td>\n",
       "      <td>pos</td>\n",
       "      <td>0.986999</td>\n",
       "      <td>0.002501</td>\n",
       "      <td>0.007124</td>\n",
       "      <td>0.003377</td>\n",
       "      <td>Topic 0</td>\n",
       "      <td>0.99</td>\n",
       "    </tr>\n",
       "    <tr>\n",
       "      <th>2</th>\n",
       "      <td>4</td>\n",
       "      <td>50</td>\n",
       "      <td>tournament together player country stay asty c...</td>\n",
       "      <td>Asty Hotel</td>\n",
       "      <td>Review 402 Similarity</td>\n",
       "      <td>0.224544</td>\n",
       "      <td>Review 265 Similarity</td>\n",
       "      <td>0.500626</td>\n",
       "      <td>{'neg': 0.028, 'neu': 0.868, 'pos': 0.105, 'co...</td>\n",
       "      <td>0.7504</td>\n",
       "      <td>pos</td>\n",
       "      <td>0.983930</td>\n",
       "      <td>0.003055</td>\n",
       "      <td>0.008891</td>\n",
       "      <td>0.004124</td>\n",
       "      <td>Topic 0</td>\n",
       "      <td>0.98</td>\n",
       "    </tr>\n",
       "    <tr>\n",
       "      <th>3</th>\n",
       "      <td>5</td>\n",
       "      <td>50</td>\n",
       "      <td>town go way drive town order pick deliver free...</td>\n",
       "      <td>Asty Hotel</td>\n",
       "      <td>Review 227 Similarity</td>\n",
       "      <td>0.487088</td>\n",
       "      <td>Review 30 Similarity</td>\n",
       "      <td>0.490511</td>\n",
       "      <td>{'neg': 0.0, 'neu': 0.902, 'pos': 0.098, 'comp...</td>\n",
       "      <td>0.7264</td>\n",
       "      <td>pos</td>\n",
       "      <td>0.608245</td>\n",
       "      <td>0.005135</td>\n",
       "      <td>0.014564</td>\n",
       "      <td>0.372056</td>\n",
       "      <td>Topic 0</td>\n",
       "      <td>0.61</td>\n",
       "    </tr>\n",
       "    <tr>\n",
       "      <th>4</th>\n",
       "      <td>6</td>\n",
       "      <td>50</td>\n",
       "      <td>stay night excellent front back fresh clean co...</td>\n",
       "      <td>Asty Hotel</td>\n",
       "      <td>Review 226 Similarity</td>\n",
       "      <td>0.460179</td>\n",
       "      <td>Review 66 Similarity</td>\n",
       "      <td>0.486664</td>\n",
       "      <td>{'neg': 0.034, 'neu': 0.812, 'pos': 0.154, 'co...</td>\n",
       "      <td>0.8532</td>\n",
       "      <td>pos</td>\n",
       "      <td>0.988135</td>\n",
       "      <td>0.002232</td>\n",
       "      <td>0.006620</td>\n",
       "      <td>0.003013</td>\n",
       "      <td>Topic 0</td>\n",
       "      <td>0.99</td>\n",
       "    </tr>\n",
       "    <tr>\n",
       "      <th>...</th>\n",
       "      <td>...</td>\n",
       "      <td>...</td>\n",
       "      <td>...</td>\n",
       "      <td>...</td>\n",
       "      <td>...</td>\n",
       "      <td>...</td>\n",
       "      <td>...</td>\n",
       "      <td>...</td>\n",
       "      <td>...</td>\n",
       "      <td>...</td>\n",
       "      <td>...</td>\n",
       "      <td>...</td>\n",
       "      <td>...</td>\n",
       "      <td>...</td>\n",
       "      <td>...</td>\n",
       "      <td>...</td>\n",
       "      <td>...</td>\n",
       "    </tr>\n",
       "    <tr>\n",
       "      <th>307</th>\n",
       "      <td>318</td>\n",
       "      <td>50</td>\n",
       "      <td>clean big shiny modern include need big conven...</td>\n",
       "      <td>Hypnos by Bed n Mix</td>\n",
       "      <td>Review 25 Similarity</td>\n",
       "      <td>0.273861</td>\n",
       "      <td>Review 21 Similarity</td>\n",
       "      <td>0.000000</td>\n",
       "      <td>{'neg': 0.0, 'neu': 0.921, 'pos': 0.079, 'comp...</td>\n",
       "      <td>0.4927</td>\n",
       "      <td>pos</td>\n",
       "      <td>0.967203</td>\n",
       "      <td>0.006305</td>\n",
       "      <td>0.017983</td>\n",
       "      <td>0.008510</td>\n",
       "      <td>Topic 0</td>\n",
       "      <td>0.97</td>\n",
       "    </tr>\n",
       "    <tr>\n",
       "      <th>308</th>\n",
       "      <td>319</td>\n",
       "      <td>50</td>\n",
       "      <td>modern high quality accommodation decor ooze n...</td>\n",
       "      <td>Hypnos by Bed n Mix</td>\n",
       "      <td>Review 24 Similarity</td>\n",
       "      <td>0.196116</td>\n",
       "      <td>Review 26 Similarity</td>\n",
       "      <td>0.000000</td>\n",
       "      <td>{'neg': 0.033, 'neu': 0.746, 'pos': 0.221, 'co...</td>\n",
       "      <td>0.9938</td>\n",
       "      <td>pos</td>\n",
       "      <td>0.006631</td>\n",
       "      <td>0.000627</td>\n",
       "      <td>0.991895</td>\n",
       "      <td>0.000847</td>\n",
       "      <td>Topic 2</td>\n",
       "      <td>0.99</td>\n",
       "    </tr>\n",
       "    <tr>\n",
       "      <th>309</th>\n",
       "      <td>320</td>\n",
       "      <td>50</td>\n",
       "      <td>new place stay perfect apsect comfortable clea...</td>\n",
       "      <td>Hypnos by Bed n Mix</td>\n",
       "      <td>Review 32 Similarity</td>\n",
       "      <td>0.189737</td>\n",
       "      <td>Review 27 Similarity</td>\n",
       "      <td>0.000000</td>\n",
       "      <td>{'neg': 0.0, 'neu': 0.499, 'pos': 0.501, 'comp...</td>\n",
       "      <td>0.9779</td>\n",
       "      <td>pos</td>\n",
       "      <td>0.270271</td>\n",
       "      <td>0.004114</td>\n",
       "      <td>0.720061</td>\n",
       "      <td>0.005553</td>\n",
       "      <td>Topic 2</td>\n",
       "      <td>0.72</td>\n",
       "    </tr>\n",
       "    <tr>\n",
       "      <th>310</th>\n",
       "      <td>321</td>\n",
       "      <td>50</td>\n",
       "      <td>perfect definitely recommend number accommodat...</td>\n",
       "      <td>Hypnos by Bed n Mix</td>\n",
       "      <td>Review 30 Similarity</td>\n",
       "      <td>0.095346</td>\n",
       "      <td>Review 30 Similarity</td>\n",
       "      <td>0.000000</td>\n",
       "      <td>{'neg': 0.0, 'neu': 0.637, 'pos': 0.363, 'comp...</td>\n",
       "      <td>0.9491</td>\n",
       "      <td>pos</td>\n",
       "      <td>0.488254</td>\n",
       "      <td>0.007437</td>\n",
       "      <td>0.494272</td>\n",
       "      <td>0.010037</td>\n",
       "      <td>Topic 2</td>\n",
       "      <td>0.49</td>\n",
       "    </tr>\n",
       "    <tr>\n",
       "      <th>311</th>\n",
       "      <td>322</td>\n",
       "      <td>50</td>\n",
       "      <td>think perfect cleaness mobile phone limited na...</td>\n",
       "      <td>Hypnos by Bed n Mix</td>\n",
       "      <td>Review 29 Similarity</td>\n",
       "      <td>0.081650</td>\n",
       "      <td>Review 31 Similarity</td>\n",
       "      <td>0.000000</td>\n",
       "      <td>{'neg': 0.047, 'neu': 0.833, 'pos': 0.12, 'com...</td>\n",
       "      <td>0.7962</td>\n",
       "      <td>pos</td>\n",
       "      <td>0.030294</td>\n",
       "      <td>0.002661</td>\n",
       "      <td>0.963453</td>\n",
       "      <td>0.003592</td>\n",
       "      <td>Topic 2</td>\n",
       "      <td>0.96</td>\n",
       "    </tr>\n",
       "  </tbody>\n",
       "</table>\n",
       "<p>312 rows × 17 columns</p>\n",
       "</div>"
      ],
      "text/plain": [
       "     Unnamed: 0  r_points                                             r_text  \\\n",
       "0             0        50  family love stay always stay reservation last ...   \n",
       "1             2        50  friend go asty recently really enjoy stay spac...   \n",
       "2             4        50  tournament together player country stay asty c...   \n",
       "3             5        50  town go way drive town order pick deliver free...   \n",
       "4             6        50  stay night excellent front back fresh clean co...   \n",
       "..          ...       ...                                                ...   \n",
       "307         318        50  clean big shiny modern include need big conven...   \n",
       "308         319        50  modern high quality accommodation decor ooze n...   \n",
       "309         320        50  new place stay perfect apsect comfortable clea...   \n",
       "310         321        50  perfect definitely recommend number accommodat...   \n",
       "311         322        50  think perfect cleaness mobile phone limited na...   \n",
       "\n",
       "                   place             Unnamed: 3  Unnamed: 4  \\\n",
       "0             Asty Hotel    Review 1 Similarity    0.210042   \n",
       "1             Asty Hotel  Review 341 Similarity    0.221404   \n",
       "2             Asty Hotel  Review 402 Similarity    0.224544   \n",
       "3             Asty Hotel  Review 227 Similarity    0.487088   \n",
       "4             Asty Hotel  Review 226 Similarity    0.460179   \n",
       "..                   ...                    ...         ...   \n",
       "307  Hypnos by Bed n Mix   Review 25 Similarity    0.273861   \n",
       "308  Hypnos by Bed n Mix   Review 24 Similarity    0.196116   \n",
       "309  Hypnos by Bed n Mix   Review 32 Similarity    0.189737   \n",
       "310  Hypnos by Bed n Mix   Review 30 Similarity    0.095346   \n",
       "311  Hypnos by Bed n Mix   Review 29 Similarity    0.081650   \n",
       "\n",
       "                Unnamed: 5  Unnamed: 6  \\\n",
       "0      Review 1 Similarity    0.280976   \n",
       "1    Review 267 Similarity    0.509028   \n",
       "2    Review 265 Similarity    0.500626   \n",
       "3     Review 30 Similarity    0.490511   \n",
       "4     Review 66 Similarity    0.486664   \n",
       "..                     ...         ...   \n",
       "307   Review 21 Similarity    0.000000   \n",
       "308   Review 26 Similarity    0.000000   \n",
       "309   Review 27 Similarity    0.000000   \n",
       "310   Review 30 Similarity    0.000000   \n",
       "311   Review 31 Similarity    0.000000   \n",
       "\n",
       "                                                scores  compound score  \\\n",
       "0    {'neg': 0.048, 'neu': 0.743, 'pos': 0.209, 'co...    0.8168   pos   \n",
       "1    {'neg': 0.0, 'neu': 0.725, 'pos': 0.275, 'comp...    0.9768   pos   \n",
       "2    {'neg': 0.028, 'neu': 0.868, 'pos': 0.105, 'co...    0.7504   pos   \n",
       "3    {'neg': 0.0, 'neu': 0.902, 'pos': 0.098, 'comp...    0.7264   pos   \n",
       "4    {'neg': 0.034, 'neu': 0.812, 'pos': 0.154, 'co...    0.8532   pos   \n",
       "..                                                 ...       ...   ...   \n",
       "307  {'neg': 0.0, 'neu': 0.921, 'pos': 0.079, 'comp...    0.4927   pos   \n",
       "308  {'neg': 0.033, 'neu': 0.746, 'pos': 0.221, 'co...    0.9938   pos   \n",
       "309  {'neg': 0.0, 'neu': 0.499, 'pos': 0.501, 'comp...    0.9779   pos   \n",
       "310  {'neg': 0.0, 'neu': 0.637, 'pos': 0.363, 'comp...    0.9491   pos   \n",
       "311  {'neg': 0.047, 'neu': 0.833, 'pos': 0.12, 'com...    0.7962   pos   \n",
       "\n",
       "      Topic_0   Topic_1   Topic_2   Topic_3 Dominant_Topic  \\\n",
       "0    0.455052  0.005860  0.017951  0.521136        Topic 3   \n",
       "1    0.986999  0.002501  0.007124  0.003377        Topic 0   \n",
       "2    0.983930  0.003055  0.008891  0.004124        Topic 0   \n",
       "3    0.608245  0.005135  0.014564  0.372056        Topic 0   \n",
       "4    0.988135  0.002232  0.006620  0.003013        Topic 0   \n",
       "..        ...       ...       ...       ...            ...   \n",
       "307  0.967203  0.006305  0.017983  0.008510        Topic 0   \n",
       "308  0.006631  0.000627  0.991895  0.000847        Topic 2   \n",
       "309  0.270271  0.004114  0.720061  0.005553        Topic 2   \n",
       "310  0.488254  0.007437  0.494272  0.010037        Topic 2   \n",
       "311  0.030294  0.002661  0.963453  0.003592        Topic 2   \n",
       "\n",
       "     Perc_Dominant_Topic  \n",
       "0                   0.52  \n",
       "1                   0.99  \n",
       "2                   0.98  \n",
       "3                   0.61  \n",
       "4                   0.99  \n",
       "..                   ...  \n",
       "307                 0.97  \n",
       "308                 0.99  \n",
       "309                 0.72  \n",
       "310                 0.49  \n",
       "311                 0.96  \n",
       "\n",
       "[312 rows x 17 columns]"
      ]
     },
     "execution_count": 8,
     "metadata": {},
     "output_type": "execute_result"
    }
   ],
   "source": [
    "apply_lda_pos"
   ]
  },
  {
   "cell_type": "code",
   "execution_count": 36,
   "metadata": {},
   "outputs": [
    {
     "data": {
      "application/vnd.jupyter.widget-view+json": {
       "model_id": "2b99da74c5f84391a589faf6ab09842c",
       "version_major": 2,
       "version_minor": 0
      },
      "text/plain": [
       "interactive(children=(ToggleButtons(description='Plot Type:', icons=('',), options=(('Frequency Plot', 'freque…"
      ]
     },
     "metadata": {},
     "output_type": "display_data"
    }
   ],
   "source": [
    "evaluate_model(lda_pos_custom)"
   ]
  },
  {
   "cell_type": "code",
   "execution_count": null,
   "metadata": {},
   "outputs": [],
   "source": []
  },
  {
   "cell_type": "code",
   "execution_count": 34,
   "metadata": {},
   "outputs": [
    {
     "data": {
      "text/html": [
       "        <script type=\"text/javascript\">\n",
       "        window.PlotlyConfig = {MathJaxConfig: 'local'};\n",
       "        if (window.MathJax) {MathJax.Hub.Config({SVG: {font: \"STIX-Web\"}});}\n",
       "        if (typeof require !== 'undefined') {\n",
       "        require.undef(\"plotly\");\n",
       "        requirejs.config({\n",
       "            paths: {\n",
       "                'plotly': ['https://cdn.plot.ly/plotly-latest.min']\n",
       "            }\n",
       "        });\n",
       "        require(['plotly'], function(Plotly) {\n",
       "            window._Plotly = Plotly;\n",
       "        });\n",
       "        }\n",
       "        </script>\n",
       "        "
      ]
     },
     "metadata": {},
     "output_type": "display_data"
    },
    {
     "data": {
      "application/vnd.plotly.v1+json": {
       "config": {
        "plotlyServerURL": "https://plot.ly"
       },
       "data": [
        {
         "alignmentgroup": "True",
         "customdata": [
          [
           "stay, clean, breakfast, free, staff, great, time, friendly, day, also"
          ],
          [
           "outstanding, comfortable, noise, make, say, pick, take, snack, floor, free"
          ]
         ],
         "hovertemplate": "Topic=%{x}<br>Documents=%{y}<br>Keyword=%{customdata[0]}<extra></extra>",
         "legendgroup": "",
         "marker": {
          "color": "#636efa"
         },
         "name": "",
         "offsetgroup": "",
         "orientation": "v",
         "showlegend": false,
         "textposition": "auto",
         "type": "bar",
         "x": [
          "Topic 0",
          "Topic 3"
         ],
         "xaxis": "x",
         "y": [
          7,
          4
         ],
         "yaxis": "y"
        }
       ],
       "layout": {
        "barmode": "relative",
        "legend": {
         "tracegroupgap": 0
        },
        "template": {
         "data": {
          "bar": [
           {
            "error_x": {
             "color": "#2a3f5f"
            },
            "error_y": {
             "color": "#2a3f5f"
            },
            "marker": {
             "line": {
              "color": "#E5ECF6",
              "width": 0.5
             }
            },
            "type": "bar"
           }
          ],
          "barpolar": [
           {
            "marker": {
             "line": {
              "color": "#E5ECF6",
              "width": 0.5
             }
            },
            "type": "barpolar"
           }
          ],
          "carpet": [
           {
            "aaxis": {
             "endlinecolor": "#2a3f5f",
             "gridcolor": "white",
             "linecolor": "white",
             "minorgridcolor": "white",
             "startlinecolor": "#2a3f5f"
            },
            "baxis": {
             "endlinecolor": "#2a3f5f",
             "gridcolor": "white",
             "linecolor": "white",
             "minorgridcolor": "white",
             "startlinecolor": "#2a3f5f"
            },
            "type": "carpet"
           }
          ],
          "choropleth": [
           {
            "colorbar": {
             "outlinewidth": 0,
             "ticks": ""
            },
            "type": "choropleth"
           }
          ],
          "contour": [
           {
            "colorbar": {
             "outlinewidth": 0,
             "ticks": ""
            },
            "colorscale": [
             [
              0,
              "#0d0887"
             ],
             [
              0.1111111111111111,
              "#46039f"
             ],
             [
              0.2222222222222222,
              "#7201a8"
             ],
             [
              0.3333333333333333,
              "#9c179e"
             ],
             [
              0.4444444444444444,
              "#bd3786"
             ],
             [
              0.5555555555555556,
              "#d8576b"
             ],
             [
              0.6666666666666666,
              "#ed7953"
             ],
             [
              0.7777777777777778,
              "#fb9f3a"
             ],
             [
              0.8888888888888888,
              "#fdca26"
             ],
             [
              1,
              "#f0f921"
             ]
            ],
            "type": "contour"
           }
          ],
          "contourcarpet": [
           {
            "colorbar": {
             "outlinewidth": 0,
             "ticks": ""
            },
            "type": "contourcarpet"
           }
          ],
          "heatmap": [
           {
            "colorbar": {
             "outlinewidth": 0,
             "ticks": ""
            },
            "colorscale": [
             [
              0,
              "#0d0887"
             ],
             [
              0.1111111111111111,
              "#46039f"
             ],
             [
              0.2222222222222222,
              "#7201a8"
             ],
             [
              0.3333333333333333,
              "#9c179e"
             ],
             [
              0.4444444444444444,
              "#bd3786"
             ],
             [
              0.5555555555555556,
              "#d8576b"
             ],
             [
              0.6666666666666666,
              "#ed7953"
             ],
             [
              0.7777777777777778,
              "#fb9f3a"
             ],
             [
              0.8888888888888888,
              "#fdca26"
             ],
             [
              1,
              "#f0f921"
             ]
            ],
            "type": "heatmap"
           }
          ],
          "heatmapgl": [
           {
            "colorbar": {
             "outlinewidth": 0,
             "ticks": ""
            },
            "colorscale": [
             [
              0,
              "#0d0887"
             ],
             [
              0.1111111111111111,
              "#46039f"
             ],
             [
              0.2222222222222222,
              "#7201a8"
             ],
             [
              0.3333333333333333,
              "#9c179e"
             ],
             [
              0.4444444444444444,
              "#bd3786"
             ],
             [
              0.5555555555555556,
              "#d8576b"
             ],
             [
              0.6666666666666666,
              "#ed7953"
             ],
             [
              0.7777777777777778,
              "#fb9f3a"
             ],
             [
              0.8888888888888888,
              "#fdca26"
             ],
             [
              1,
              "#f0f921"
             ]
            ],
            "type": "heatmapgl"
           }
          ],
          "histogram": [
           {
            "marker": {
             "colorbar": {
              "outlinewidth": 0,
              "ticks": ""
             }
            },
            "type": "histogram"
           }
          ],
          "histogram2d": [
           {
            "colorbar": {
             "outlinewidth": 0,
             "ticks": ""
            },
            "colorscale": [
             [
              0,
              "#0d0887"
             ],
             [
              0.1111111111111111,
              "#46039f"
             ],
             [
              0.2222222222222222,
              "#7201a8"
             ],
             [
              0.3333333333333333,
              "#9c179e"
             ],
             [
              0.4444444444444444,
              "#bd3786"
             ],
             [
              0.5555555555555556,
              "#d8576b"
             ],
             [
              0.6666666666666666,
              "#ed7953"
             ],
             [
              0.7777777777777778,
              "#fb9f3a"
             ],
             [
              0.8888888888888888,
              "#fdca26"
             ],
             [
              1,
              "#f0f921"
             ]
            ],
            "type": "histogram2d"
           }
          ],
          "histogram2dcontour": [
           {
            "colorbar": {
             "outlinewidth": 0,
             "ticks": ""
            },
            "colorscale": [
             [
              0,
              "#0d0887"
             ],
             [
              0.1111111111111111,
              "#46039f"
             ],
             [
              0.2222222222222222,
              "#7201a8"
             ],
             [
              0.3333333333333333,
              "#9c179e"
             ],
             [
              0.4444444444444444,
              "#bd3786"
             ],
             [
              0.5555555555555556,
              "#d8576b"
             ],
             [
              0.6666666666666666,
              "#ed7953"
             ],
             [
              0.7777777777777778,
              "#fb9f3a"
             ],
             [
              0.8888888888888888,
              "#fdca26"
             ],
             [
              1,
              "#f0f921"
             ]
            ],
            "type": "histogram2dcontour"
           }
          ],
          "mesh3d": [
           {
            "colorbar": {
             "outlinewidth": 0,
             "ticks": ""
            },
            "type": "mesh3d"
           }
          ],
          "parcoords": [
           {
            "line": {
             "colorbar": {
              "outlinewidth": 0,
              "ticks": ""
             }
            },
            "type": "parcoords"
           }
          ],
          "pie": [
           {
            "automargin": true,
            "type": "pie"
           }
          ],
          "scatter": [
           {
            "marker": {
             "colorbar": {
              "outlinewidth": 0,
              "ticks": ""
             }
            },
            "type": "scatter"
           }
          ],
          "scatter3d": [
           {
            "line": {
             "colorbar": {
              "outlinewidth": 0,
              "ticks": ""
             }
            },
            "marker": {
             "colorbar": {
              "outlinewidth": 0,
              "ticks": ""
             }
            },
            "type": "scatter3d"
           }
          ],
          "scattercarpet": [
           {
            "marker": {
             "colorbar": {
              "outlinewidth": 0,
              "ticks": ""
             }
            },
            "type": "scattercarpet"
           }
          ],
          "scattergeo": [
           {
            "marker": {
             "colorbar": {
              "outlinewidth": 0,
              "ticks": ""
             }
            },
            "type": "scattergeo"
           }
          ],
          "scattergl": [
           {
            "marker": {
             "colorbar": {
              "outlinewidth": 0,
              "ticks": ""
             }
            },
            "type": "scattergl"
           }
          ],
          "scattermapbox": [
           {
            "marker": {
             "colorbar": {
              "outlinewidth": 0,
              "ticks": ""
             }
            },
            "type": "scattermapbox"
           }
          ],
          "scatterpolar": [
           {
            "marker": {
             "colorbar": {
              "outlinewidth": 0,
              "ticks": ""
             }
            },
            "type": "scatterpolar"
           }
          ],
          "scatterpolargl": [
           {
            "marker": {
             "colorbar": {
              "outlinewidth": 0,
              "ticks": ""
             }
            },
            "type": "scatterpolargl"
           }
          ],
          "scatterternary": [
           {
            "marker": {
             "colorbar": {
              "outlinewidth": 0,
              "ticks": ""
             }
            },
            "type": "scatterternary"
           }
          ],
          "surface": [
           {
            "colorbar": {
             "outlinewidth": 0,
             "ticks": ""
            },
            "colorscale": [
             [
              0,
              "#0d0887"
             ],
             [
              0.1111111111111111,
              "#46039f"
             ],
             [
              0.2222222222222222,
              "#7201a8"
             ],
             [
              0.3333333333333333,
              "#9c179e"
             ],
             [
              0.4444444444444444,
              "#bd3786"
             ],
             [
              0.5555555555555556,
              "#d8576b"
             ],
             [
              0.6666666666666666,
              "#ed7953"
             ],
             [
              0.7777777777777778,
              "#fb9f3a"
             ],
             [
              0.8888888888888888,
              "#fdca26"
             ],
             [
              1,
              "#f0f921"
             ]
            ],
            "type": "surface"
           }
          ],
          "table": [
           {
            "cells": {
             "fill": {
              "color": "#EBF0F8"
             },
             "line": {
              "color": "white"
             }
            },
            "header": {
             "fill": {
              "color": "#C8D4E3"
             },
             "line": {
              "color": "white"
             }
            },
            "type": "table"
           }
          ]
         },
         "layout": {
          "annotationdefaults": {
           "arrowcolor": "#2a3f5f",
           "arrowhead": 0,
           "arrowwidth": 1
          },
          "coloraxis": {
           "colorbar": {
            "outlinewidth": 0,
            "ticks": ""
           }
          },
          "colorscale": {
           "diverging": [
            [
             0,
             "#8e0152"
            ],
            [
             0.1,
             "#c51b7d"
            ],
            [
             0.2,
             "#de77ae"
            ],
            [
             0.3,
             "#f1b6da"
            ],
            [
             0.4,
             "#fde0ef"
            ],
            [
             0.5,
             "#f7f7f7"
            ],
            [
             0.6,
             "#e6f5d0"
            ],
            [
             0.7,
             "#b8e186"
            ],
            [
             0.8,
             "#7fbc41"
            ],
            [
             0.9,
             "#4d9221"
            ],
            [
             1,
             "#276419"
            ]
           ],
           "sequential": [
            [
             0,
             "#0d0887"
            ],
            [
             0.1111111111111111,
             "#46039f"
            ],
            [
             0.2222222222222222,
             "#7201a8"
            ],
            [
             0.3333333333333333,
             "#9c179e"
            ],
            [
             0.4444444444444444,
             "#bd3786"
            ],
            [
             0.5555555555555556,
             "#d8576b"
            ],
            [
             0.6666666666666666,
             "#ed7953"
            ],
            [
             0.7777777777777778,
             "#fb9f3a"
            ],
            [
             0.8888888888888888,
             "#fdca26"
            ],
            [
             1,
             "#f0f921"
            ]
           ],
           "sequentialminus": [
            [
             0,
             "#0d0887"
            ],
            [
             0.1111111111111111,
             "#46039f"
            ],
            [
             0.2222222222222222,
             "#7201a8"
            ],
            [
             0.3333333333333333,
             "#9c179e"
            ],
            [
             0.4444444444444444,
             "#bd3786"
            ],
            [
             0.5555555555555556,
             "#d8576b"
            ],
            [
             0.6666666666666666,
             "#ed7953"
            ],
            [
             0.7777777777777778,
             "#fb9f3a"
            ],
            [
             0.8888888888888888,
             "#fdca26"
            ],
            [
             1,
             "#f0f921"
            ]
           ]
          },
          "colorway": [
           "#636efa",
           "#EF553B",
           "#00cc96",
           "#ab63fa",
           "#FFA15A",
           "#19d3f3",
           "#FF6692",
           "#B6E880",
           "#FF97FF",
           "#FECB52"
          ],
          "font": {
           "color": "#2a3f5f"
          },
          "geo": {
           "bgcolor": "white",
           "lakecolor": "white",
           "landcolor": "#E5ECF6",
           "showlakes": true,
           "showland": true,
           "subunitcolor": "white"
          },
          "hoverlabel": {
           "align": "left"
          },
          "hovermode": "closest",
          "mapbox": {
           "style": "light"
          },
          "paper_bgcolor": "white",
          "plot_bgcolor": "#E5ECF6",
          "polar": {
           "angularaxis": {
            "gridcolor": "white",
            "linecolor": "white",
            "ticks": ""
           },
           "bgcolor": "#E5ECF6",
           "radialaxis": {
            "gridcolor": "white",
            "linecolor": "white",
            "ticks": ""
           }
          },
          "scene": {
           "xaxis": {
            "backgroundcolor": "#E5ECF6",
            "gridcolor": "white",
            "gridwidth": 2,
            "linecolor": "white",
            "showbackground": true,
            "ticks": "",
            "zerolinecolor": "white"
           },
           "yaxis": {
            "backgroundcolor": "#E5ECF6",
            "gridcolor": "white",
            "gridwidth": 2,
            "linecolor": "white",
            "showbackground": true,
            "ticks": "",
            "zerolinecolor": "white"
           },
           "zaxis": {
            "backgroundcolor": "#E5ECF6",
            "gridcolor": "white",
            "gridwidth": 2,
            "linecolor": "white",
            "showbackground": true,
            "ticks": "",
            "zerolinecolor": "white"
           }
          },
          "shapedefaults": {
           "line": {
            "color": "#2a3f5f"
           }
          },
          "ternary": {
           "aaxis": {
            "gridcolor": "white",
            "linecolor": "white",
            "ticks": ""
           },
           "baxis": {
            "gridcolor": "white",
            "linecolor": "white",
            "ticks": ""
           },
           "bgcolor": "#E5ECF6",
           "caxis": {
            "gridcolor": "white",
            "linecolor": "white",
            "ticks": ""
           }
          },
          "title": {
           "x": 0.05
          },
          "xaxis": {
           "automargin": true,
           "gridcolor": "white",
           "linecolor": "white",
           "ticks": "",
           "title": {
            "standoff": 15
           },
           "zerolinecolor": "white",
           "zerolinewidth": 2
          },
          "yaxis": {
           "automargin": true,
           "gridcolor": "white",
           "linecolor": "white",
           "ticks": "",
           "title": {
            "standoff": 15
           },
           "zerolinecolor": "white",
           "zerolinewidth": 2
          }
         }
        },
        "title": {
         "text": "Document Distribution by Topics"
        },
        "xaxis": {
         "anchor": "y",
         "domain": [
          0,
          1
         ],
         "title": {
          "text": "Topic"
         }
        },
        "yaxis": {
         "anchor": "x",
         "domain": [
          0,
          1
         ],
         "title": {
          "text": "Documents"
         }
        }
       }
      },
      "text/html": [
       "<div>\n",
       "        \n",
       "        \n",
       "            <div id=\"a9a03cc4-33f1-4a1f-a490-6c8377120b09\" class=\"plotly-graph-div\" style=\"height:525px; width:100%;\"></div>\n",
       "            <script type=\"text/javascript\">\n",
       "                require([\"plotly\"], function(Plotly) {\n",
       "                    window.PLOTLYENV=window.PLOTLYENV || {};\n",
       "                    \n",
       "                if (document.getElementById(\"a9a03cc4-33f1-4a1f-a490-6c8377120b09\")) {\n",
       "                    Plotly.newPlot(\n",
       "                        'a9a03cc4-33f1-4a1f-a490-6c8377120b09',\n",
       "                        [{\"alignmentgroup\": \"True\", \"customdata\": [[\"stay, clean, breakfast, free, staff, great, time, friendly, day, also\"], [\"outstanding, comfortable, noise, make, say, pick, take, snack, floor, free\"]], \"hovertemplate\": \"Topic=%{x}<br>Documents=%{y}<br>Keyword=%{customdata[0]}<extra></extra>\", \"legendgroup\": \"\", \"marker\": {\"color\": \"#636efa\"}, \"name\": \"\", \"offsetgroup\": \"\", \"orientation\": \"v\", \"showlegend\": false, \"textposition\": \"auto\", \"type\": \"bar\", \"x\": [\"Topic 0\", \"Topic 3\"], \"xaxis\": \"x\", \"y\": [7, 4], \"yaxis\": \"y\"}],\n",
       "                        {\"barmode\": \"relative\", \"legend\": {\"tracegroupgap\": 0}, \"template\": {\"data\": {\"bar\": [{\"error_x\": {\"color\": \"#2a3f5f\"}, \"error_y\": {\"color\": \"#2a3f5f\"}, \"marker\": {\"line\": {\"color\": \"#E5ECF6\", \"width\": 0.5}}, \"type\": \"bar\"}], \"barpolar\": [{\"marker\": {\"line\": {\"color\": \"#E5ECF6\", \"width\": 0.5}}, \"type\": \"barpolar\"}], \"carpet\": [{\"aaxis\": {\"endlinecolor\": \"#2a3f5f\", \"gridcolor\": \"white\", \"linecolor\": \"white\", \"minorgridcolor\": \"white\", \"startlinecolor\": \"#2a3f5f\"}, \"baxis\": {\"endlinecolor\": \"#2a3f5f\", \"gridcolor\": \"white\", \"linecolor\": \"white\", \"minorgridcolor\": \"white\", \"startlinecolor\": \"#2a3f5f\"}, \"type\": \"carpet\"}], \"choropleth\": [{\"colorbar\": {\"outlinewidth\": 0, \"ticks\": \"\"}, \"type\": \"choropleth\"}], \"contour\": [{\"colorbar\": {\"outlinewidth\": 0, \"ticks\": \"\"}, \"colorscale\": [[0.0, \"#0d0887\"], [0.1111111111111111, \"#46039f\"], [0.2222222222222222, \"#7201a8\"], [0.3333333333333333, \"#9c179e\"], [0.4444444444444444, \"#bd3786\"], [0.5555555555555556, \"#d8576b\"], [0.6666666666666666, \"#ed7953\"], [0.7777777777777778, \"#fb9f3a\"], [0.8888888888888888, \"#fdca26\"], [1.0, \"#f0f921\"]], \"type\": \"contour\"}], \"contourcarpet\": [{\"colorbar\": {\"outlinewidth\": 0, \"ticks\": \"\"}, \"type\": \"contourcarpet\"}], \"heatmap\": [{\"colorbar\": {\"outlinewidth\": 0, \"ticks\": \"\"}, \"colorscale\": [[0.0, \"#0d0887\"], [0.1111111111111111, \"#46039f\"], [0.2222222222222222, \"#7201a8\"], [0.3333333333333333, \"#9c179e\"], [0.4444444444444444, \"#bd3786\"], [0.5555555555555556, \"#d8576b\"], [0.6666666666666666, \"#ed7953\"], [0.7777777777777778, \"#fb9f3a\"], [0.8888888888888888, \"#fdca26\"], [1.0, \"#f0f921\"]], \"type\": \"heatmap\"}], \"heatmapgl\": [{\"colorbar\": {\"outlinewidth\": 0, \"ticks\": \"\"}, \"colorscale\": [[0.0, \"#0d0887\"], [0.1111111111111111, \"#46039f\"], [0.2222222222222222, \"#7201a8\"], [0.3333333333333333, \"#9c179e\"], [0.4444444444444444, \"#bd3786\"], [0.5555555555555556, \"#d8576b\"], [0.6666666666666666, \"#ed7953\"], [0.7777777777777778, \"#fb9f3a\"], [0.8888888888888888, \"#fdca26\"], [1.0, \"#f0f921\"]], \"type\": \"heatmapgl\"}], \"histogram\": [{\"marker\": {\"colorbar\": {\"outlinewidth\": 0, \"ticks\": \"\"}}, \"type\": \"histogram\"}], \"histogram2d\": [{\"colorbar\": {\"outlinewidth\": 0, \"ticks\": \"\"}, \"colorscale\": [[0.0, \"#0d0887\"], [0.1111111111111111, \"#46039f\"], [0.2222222222222222, \"#7201a8\"], [0.3333333333333333, \"#9c179e\"], [0.4444444444444444, \"#bd3786\"], [0.5555555555555556, \"#d8576b\"], [0.6666666666666666, \"#ed7953\"], [0.7777777777777778, \"#fb9f3a\"], [0.8888888888888888, \"#fdca26\"], [1.0, \"#f0f921\"]], \"type\": \"histogram2d\"}], \"histogram2dcontour\": [{\"colorbar\": {\"outlinewidth\": 0, \"ticks\": \"\"}, \"colorscale\": [[0.0, \"#0d0887\"], [0.1111111111111111, \"#46039f\"], [0.2222222222222222, \"#7201a8\"], [0.3333333333333333, \"#9c179e\"], [0.4444444444444444, \"#bd3786\"], [0.5555555555555556, \"#d8576b\"], [0.6666666666666666, \"#ed7953\"], [0.7777777777777778, \"#fb9f3a\"], [0.8888888888888888, \"#fdca26\"], [1.0, \"#f0f921\"]], \"type\": \"histogram2dcontour\"}], \"mesh3d\": [{\"colorbar\": {\"outlinewidth\": 0, \"ticks\": \"\"}, \"type\": \"mesh3d\"}], \"parcoords\": [{\"line\": {\"colorbar\": {\"outlinewidth\": 0, \"ticks\": \"\"}}, \"type\": \"parcoords\"}], \"pie\": [{\"automargin\": true, \"type\": \"pie\"}], \"scatter\": [{\"marker\": {\"colorbar\": {\"outlinewidth\": 0, \"ticks\": \"\"}}, \"type\": \"scatter\"}], \"scatter3d\": [{\"line\": {\"colorbar\": {\"outlinewidth\": 0, \"ticks\": \"\"}}, \"marker\": {\"colorbar\": {\"outlinewidth\": 0, \"ticks\": \"\"}}, \"type\": \"scatter3d\"}], \"scattercarpet\": [{\"marker\": {\"colorbar\": {\"outlinewidth\": 0, \"ticks\": \"\"}}, \"type\": \"scattercarpet\"}], \"scattergeo\": [{\"marker\": {\"colorbar\": {\"outlinewidth\": 0, \"ticks\": \"\"}}, \"type\": \"scattergeo\"}], \"scattergl\": [{\"marker\": {\"colorbar\": {\"outlinewidth\": 0, \"ticks\": \"\"}}, \"type\": \"scattergl\"}], \"scattermapbox\": [{\"marker\": {\"colorbar\": {\"outlinewidth\": 0, \"ticks\": \"\"}}, \"type\": \"scattermapbox\"}], \"scatterpolar\": [{\"marker\": {\"colorbar\": {\"outlinewidth\": 0, \"ticks\": \"\"}}, \"type\": \"scatterpolar\"}], \"scatterpolargl\": [{\"marker\": {\"colorbar\": {\"outlinewidth\": 0, \"ticks\": \"\"}}, \"type\": \"scatterpolargl\"}], \"scatterternary\": [{\"marker\": {\"colorbar\": {\"outlinewidth\": 0, \"ticks\": \"\"}}, \"type\": \"scatterternary\"}], \"surface\": [{\"colorbar\": {\"outlinewidth\": 0, \"ticks\": \"\"}, \"colorscale\": [[0.0, \"#0d0887\"], [0.1111111111111111, \"#46039f\"], [0.2222222222222222, \"#7201a8\"], [0.3333333333333333, \"#9c179e\"], [0.4444444444444444, \"#bd3786\"], [0.5555555555555556, \"#d8576b\"], [0.6666666666666666, \"#ed7953\"], [0.7777777777777778, \"#fb9f3a\"], [0.8888888888888888, \"#fdca26\"], [1.0, \"#f0f921\"]], \"type\": \"surface\"}], \"table\": [{\"cells\": {\"fill\": {\"color\": \"#EBF0F8\"}, \"line\": {\"color\": \"white\"}}, \"header\": {\"fill\": {\"color\": \"#C8D4E3\"}, \"line\": {\"color\": \"white\"}}, \"type\": \"table\"}]}, \"layout\": {\"annotationdefaults\": {\"arrowcolor\": \"#2a3f5f\", \"arrowhead\": 0, \"arrowwidth\": 1}, \"coloraxis\": {\"colorbar\": {\"outlinewidth\": 0, \"ticks\": \"\"}}, \"colorscale\": {\"diverging\": [[0, \"#8e0152\"], [0.1, \"#c51b7d\"], [0.2, \"#de77ae\"], [0.3, \"#f1b6da\"], [0.4, \"#fde0ef\"], [0.5, \"#f7f7f7\"], [0.6, \"#e6f5d0\"], [0.7, \"#b8e186\"], [0.8, \"#7fbc41\"], [0.9, \"#4d9221\"], [1, \"#276419\"]], \"sequential\": [[0.0, \"#0d0887\"], [0.1111111111111111, \"#46039f\"], [0.2222222222222222, \"#7201a8\"], [0.3333333333333333, \"#9c179e\"], [0.4444444444444444, \"#bd3786\"], [0.5555555555555556, \"#d8576b\"], [0.6666666666666666, \"#ed7953\"], [0.7777777777777778, \"#fb9f3a\"], [0.8888888888888888, \"#fdca26\"], [1.0, \"#f0f921\"]], \"sequentialminus\": [[0.0, \"#0d0887\"], [0.1111111111111111, \"#46039f\"], [0.2222222222222222, \"#7201a8\"], [0.3333333333333333, \"#9c179e\"], [0.4444444444444444, \"#bd3786\"], [0.5555555555555556, \"#d8576b\"], [0.6666666666666666, \"#ed7953\"], [0.7777777777777778, \"#fb9f3a\"], [0.8888888888888888, \"#fdca26\"], [1.0, \"#f0f921\"]]}, \"colorway\": [\"#636efa\", \"#EF553B\", \"#00cc96\", \"#ab63fa\", \"#FFA15A\", \"#19d3f3\", \"#FF6692\", \"#B6E880\", \"#FF97FF\", \"#FECB52\"], \"font\": {\"color\": \"#2a3f5f\"}, \"geo\": {\"bgcolor\": \"white\", \"lakecolor\": \"white\", \"landcolor\": \"#E5ECF6\", \"showlakes\": true, \"showland\": true, \"subunitcolor\": \"white\"}, \"hoverlabel\": {\"align\": \"left\"}, \"hovermode\": \"closest\", \"mapbox\": {\"style\": \"light\"}, \"paper_bgcolor\": \"white\", \"plot_bgcolor\": \"#E5ECF6\", \"polar\": {\"angularaxis\": {\"gridcolor\": \"white\", \"linecolor\": \"white\", \"ticks\": \"\"}, \"bgcolor\": \"#E5ECF6\", \"radialaxis\": {\"gridcolor\": \"white\", \"linecolor\": \"white\", \"ticks\": \"\"}}, \"scene\": {\"xaxis\": {\"backgroundcolor\": \"#E5ECF6\", \"gridcolor\": \"white\", \"gridwidth\": 2, \"linecolor\": \"white\", \"showbackground\": true, \"ticks\": \"\", \"zerolinecolor\": \"white\"}, \"yaxis\": {\"backgroundcolor\": \"#E5ECF6\", \"gridcolor\": \"white\", \"gridwidth\": 2, \"linecolor\": \"white\", \"showbackground\": true, \"ticks\": \"\", \"zerolinecolor\": \"white\"}, \"zaxis\": {\"backgroundcolor\": \"#E5ECF6\", \"gridcolor\": \"white\", \"gridwidth\": 2, \"linecolor\": \"white\", \"showbackground\": true, \"ticks\": \"\", \"zerolinecolor\": \"white\"}}, \"shapedefaults\": {\"line\": {\"color\": \"#2a3f5f\"}}, \"ternary\": {\"aaxis\": {\"gridcolor\": \"white\", \"linecolor\": \"white\", \"ticks\": \"\"}, \"baxis\": {\"gridcolor\": \"white\", \"linecolor\": \"white\", \"ticks\": \"\"}, \"bgcolor\": \"#E5ECF6\", \"caxis\": {\"gridcolor\": \"white\", \"linecolor\": \"white\", \"ticks\": \"\"}}, \"title\": {\"x\": 0.05}, \"xaxis\": {\"automargin\": true, \"gridcolor\": \"white\", \"linecolor\": \"white\", \"ticks\": \"\", \"title\": {\"standoff\": 15}, \"zerolinecolor\": \"white\", \"zerolinewidth\": 2}, \"yaxis\": {\"automargin\": true, \"gridcolor\": \"white\", \"linecolor\": \"white\", \"ticks\": \"\", \"title\": {\"standoff\": 15}, \"zerolinecolor\": \"white\", \"zerolinewidth\": 2}}}, \"title\": {\"text\": \"Document Distribution by Topics\"}, \"xaxis\": {\"anchor\": \"y\", \"domain\": [0.0, 1.0], \"title\": {\"text\": \"Topic\"}}, \"yaxis\": {\"anchor\": \"x\", \"domain\": [0.0, 1.0], \"title\": {\"text\": \"Documents\"}}},\n",
       "                        {\"responsive\": true}\n",
       "                    ).then(function(){\n",
       "                            \n",
       "var gd = document.getElementById('a9a03cc4-33f1-4a1f-a490-6c8377120b09');\n",
       "var x = new MutationObserver(function (mutations, observer) {{\n",
       "        var display = window.getComputedStyle(gd).display;\n",
       "        if (!display || display === 'none') {{\n",
       "            console.log([gd, 'removed!']);\n",
       "            Plotly.purge(gd);\n",
       "            observer.disconnect();\n",
       "        }}\n",
       "}});\n",
       "\n",
       "// Listen for the removal of the full notebook cells\n",
       "var notebookContainer = gd.closest('#notebook-container');\n",
       "if (notebookContainer) {{\n",
       "    x.observe(notebookContainer, {childList: true});\n",
       "}}\n",
       "\n",
       "// Listen for the clearing of the current output cell\n",
       "var outputEl = gd.closest('.output');\n",
       "if (outputEl) {{\n",
       "    x.observe(outputEl, {childList: true});\n",
       "}}\n",
       "\n",
       "                        })\n",
       "                };\n",
       "                });\n",
       "            </script>\n",
       "        </div>"
      ]
     },
     "metadata": {},
     "output_type": "display_data"
    },
    {
     "ename": "NameError",
     "evalue": "name 'plt' is not defined",
     "output_type": "error",
     "traceback": [
      "\u001b[1;31m---------------------------------------------------------------------------\u001b[0m",
      "\u001b[1;31mNameError\u001b[0m                                 Traceback (most recent call last)",
      "\u001b[1;32m<ipython-input-34-d390d4d208b7>\u001b[0m in \u001b[0;36m<module>\u001b[1;34m\u001b[0m\n\u001b[0;32m      1\u001b[0m \u001b[0mplot_model\u001b[0m\u001b[1;33m(\u001b[0m\u001b[0mlda_pos_custom\u001b[0m\u001b[1;33m,\u001b[0m \u001b[0mplot\u001b[0m \u001b[1;33m=\u001b[0m\u001b[1;34m'topic_distribution'\u001b[0m\u001b[1;33m,\u001b[0m\u001b[0msave\u001b[0m\u001b[1;33m=\u001b[0m\u001b[1;32mTrue\u001b[0m\u001b[1;33m)\u001b[0m\u001b[1;33m\u001b[0m\u001b[1;33m\u001b[0m\u001b[0m\n\u001b[1;32m----> 2\u001b[1;33m \u001b[0mplt\u001b[0m\u001b[1;33m.\u001b[0m\u001b[0msavefig\u001b[0m\u001b[1;33m(\u001b[0m\u001b[1;34m\"test.svg\"\u001b[0m\u001b[1;33m)\u001b[0m\u001b[1;33m\u001b[0m\u001b[1;33m\u001b[0m\u001b[0m\n\u001b[0m",
      "\u001b[1;31mNameError\u001b[0m: name 'plt' is not defined"
     ]
    }
   ],
   "source": [
    "plot_model(lda_pos_custom, plot ='topic_distribution',save=True)"
   ]
  },
  {
   "cell_type": "code",
   "execution_count": 51,
   "metadata": {},
   "outputs": [
    {
     "data": {
      "text/html": [
       "        <script type=\"text/javascript\">\n",
       "        window.PlotlyConfig = {MathJaxConfig: 'local'};\n",
       "        if (window.MathJax) {MathJax.Hub.Config({SVG: {font: \"STIX-Web\"}});}\n",
       "        if (typeof require !== 'undefined') {\n",
       "        require.undef(\"plotly\");\n",
       "        requirejs.config({\n",
       "            paths: {\n",
       "                'plotly': ['https://cdn.plot.ly/plotly-latest.min']\n",
       "            }\n",
       "        });\n",
       "        require(['plotly'], function(Plotly) {\n",
       "            window._Plotly = Plotly;\n",
       "        });\n",
       "        }\n",
       "        </script>\n",
       "        "
      ]
     },
     "metadata": {},
     "output_type": "display_data"
    },
    {
     "data": {
      "text/html": [
       "\n",
       "<link rel=\"stylesheet\" type=\"text/css\" href=\"https://cdn.rawgit.com/bmabey/pyLDAvis/files/ldavis.v1.0.0.css\">\n",
       "\n",
       "\n",
       "<div id=\"ldavis_el2430825647630340569284135604\"></div>\n",
       "<script type=\"text/javascript\">\n",
       "\n",
       "var ldavis_el2430825647630340569284135604_data = {\"mdsDat\": {\"x\": [-0.12553843866310566, -0.13996701767863712, 0.08876950180708239, 0.17673595453466034], \"y\": [-0.08540325205397749, 0.13506714748596008, -0.18681245638519545, 0.13714856095321284], \"topics\": [1, 2, 3, 4], \"cluster\": [1, 1, 1, 1], \"Freq\": [69.50379943847656, 15.92228889465332, 11.058260917663574, 3.515653371810913]}, \"tinfo\": {\"Term\": [\"free\", \"time\", \"stay\", \"breakfast\", \"city\", \"coffee\", \"walk\", \"great\", \"clean\", \"tea\", \"perfect\", \"modern\", \"want\", \"friendly\", \"old\", \"hot\", \"super\", \"need\", \"really\", \"well\", \"back\", \"service\", \"make\", \"also\", \"location\", \"short\", \"available\", \"bed\", \"helpful\", \"comfortable\", \"town\", \"minute\", \"snack\", \"drive\", \"hour\", \"convenient\", \"way\", \"bike\", \"order\", \"pick\", \"juice\", \"ride\", \"lovely\", \"cook\", \"arrive\", \"enough\", \"centre\", \"number\", \"bar\", \"center\", \"star\", \"however\", \"bicycle\", \"drop\", \"charge\", \"warm\", \"access\", \"fantastic\", \"locate\", \"shiny\", \"shuttle\", \"offer\", \"see\", \"bus\", \"drink\", \"recommend\", \"price\", \"ask\", \"night\", \"day\", \"old\", \"free\", \"comfortable\", \"city\", \"take\", \"fruit\", \"big\", \"staff\", \"excellent\", \"helpful\", \"also\", \"clean\", \"service\", \"stay\", \"breakfast\", \"need\", \"place\", \"location\", \"go\", \"great\", \"friendly\", \"make\", \"month\", \"rent\", \"cypriot\", \"mattress\", \"list\", \"beat\", \"concept\", \"amazed\", \"savva\", \"unique\", \"region\", \"coco\", \"normally\", \"lag\", \"jet\", \"airbnb\", \"relaxed\", \"stuff\", \"care\", \"week\", \"date\", \"touch\", \"willing\", \"beautiful\", \"lobby\", \"hire\", \"due\", \"transportation\", \"suggest\", \"conference\", \"first\", \"super\", \"friend\", \"decide\", \"house\", \"time\", \"sleep\", \"view\", \"stay\", \"really\", \"well\", \"back\", \"friendly\", \"asty\", \"food\", \"come\", \"staff\", \"definitely\", \"owner\", \"clean\", \"breakfast\", \"even\", \"perfect\", \"give\", \"make\", \"restaurant\", \"great\", \"family\", \"bathroom\", \"international\", \"small\", \"machine\", \"size\", \"bread\", \"king\", \"cereal\", \"decent\", \"spot\", \"addition\", \"sized\", \"wifi\", \"elsewhere\", \"amount\", \"gladly\", \"generous\", \"overnight\", \"efficient\", \"surprisingly\", \"dry\", \"cheese\", \"person\", \"smart\", \"toast\", \"electrical\", \"outlet\", \"amenitie\", \"contain\", \"bag\", \"call\", \"new\", \"fresh\", \"local\", \"powerful\", \"tea\", \"water\", \"coffee\", \"phone\", \"modern\", \"hot\", \"parking\", \"breakfast\", \"plenty\", \"great\", \"clean\", \"perfect\", \"lot\", \"free\", \"bed\", \"stay\", \"easy\", \"available\", \"also\", \"really\", \"make\", \"place\", \"need\", \"service\", \"friendly\", \"staff\", \"use\", \"minor\", \"ideal\", \"finish\", \"high\", \"rich\", \"apart\", \"wife\", \"taste\", \"firm\", \"holder\", \"charm\", \"unfortunately\", \"typical\", \"connection\", \"idea\", \"american\", \"ample\", \"stool\", \"eatery\", \"wardrobe\", \"socialising\", \"apportion\", \"boast\", \"cotton\", \"disposition\", \"dual\", \"accessory\", \"egyptian\", \"priority\", \"soak\", \"driving\", \"excellence\", \"rooftop\", \"minimalistic\", \"nordic\", \"reading\", \"inconvenience\", \"ooze\", \"roomy\", \"accommodation\", \"personify\", \"roll\", \"perfection\", \"issue\", \"girl\", \"quality\", \"phone\", \"top\", \"short\", \"shower\", \"perfect\", \"whole\", \"walk\", \"want\", \"pleasure\", \"free\", \"city\", \"leave\", \"head\", \"new\", \"style\", \"view\", \"parking\", \"bed\", \"old\", \"service\", \"modern\", \"comfortable\"], \"Freq\": [207.0, 108.0, 252.0, 188.0, 66.0, 71.0, 43.0, 121.0, 186.0, 44.0, 45.0, 47.0, 38.0, 121.0, 62.0, 40.0, 39.0, 87.0, 59.0, 71.0, 47.0, 96.0, 87.0, 108.0, 66.0, 18.0, 56.0, 33.0, 73.0, 83.0, 61.163978576660156, 51.17072677612305, 53.59119415283203, 46.69227981567383, 33.91444778442383, 34.7509880065918, 31.518001556396484, 31.033550262451172, 28.241958618164062, 22.941694259643555, 23.45256233215332, 25.047704696655273, 23.02206039428711, 21.96647834777832, 20.937856674194336, 22.584775924682617, 18.391813278198242, 18.788522720336914, 18.215442657470703, 20.213878631591797, 16.81662940979004, 16.812091827392578, 16.7667293548584, 16.21940040588379, 28.150054931640625, 16.196752548217773, 16.83749008178711, 15.607394218444824, 16.14513397216797, 15.009636878967285, 72.4605484008789, 59.2691764831543, 24.21333885192871, 35.361122131347656, 67.7115707397461, 61.54463195800781, 50.0373649597168, 27.995864868164062, 70.80498504638672, 106.1480712890625, 56.690059661865234, 172.58094787597656, 73.74557495117188, 59.616615295410156, 50.54258728027344, 47.89957809448242, 63.536678314208984, 140.0929718017578, 61.79539489746094, 64.26892852783203, 89.55058288574219, 141.2992706298828, 77.74222564697266, 174.8668212890625, 132.97129821777344, 70.47147369384766, 65.94136810302734, 56.226985931396484, 53.96405792236328, 83.52738189697266, 78.391357421875, 58.63814163208008, 22.132896423339844, 12.475790023803711, 11.618306159973145, 10.835709571838379, 10.671096801757812, 10.272586822509766, 9.710786819458008, 9.708955764770508, 9.30673885345459, 9.30673885345459, 9.30673885345459, 9.30673885345459, 9.30673885345459, 9.30673885345459, 9.30673885345459, 9.30673885345459, 9.30673885345459, 6.992401599884033, 6.032951354980469, 5.779910564422607, 5.469080924987793, 6.403071403503418, 5.655085563659668, 5.0956711769104, 5.904452800750732, 4.094547748565674, 4.055774211883545, 4.1097822189331055, 4.394330978393555, 3.3447487354278564, 21.852136611938477, 31.00950050354004, 22.290775299072266, 10.90931510925293, 11.308184623718262, 59.180625915527344, 13.233189582824707, 12.528194427490234, 54.15431594848633, 21.27139663696289, 23.379356384277344, 17.960668563842773, 29.4056453704834, 20.171459197998047, 16.808320999145508, 18.223487854003906, 22.800952911376953, 15.831647872924805, 14.084956169128418, 20.62067985534668, 19.757972717285156, 13.688801765441895, 12.718111038208008, 12.605588912963867, 13.503144264221191, 11.767457008361816, 11.808403015136719, 11.138320922851562, 16.25569725036621, 10.482081413269043, 18.438859939575195, 8.986387252807617, 8.41160774230957, 7.622257232666016, 6.82232666015625, 5.330503463745117, 4.719758987426758, 4.664556980133057, 4.51258659362793, 4.160338401794434, 4.190809726715088, 4.158423900604248, 4.03404426574707, 4.033747673034668, 4.165112018585205, 4.712548732757568, 3.961740255355835, 3.951266288757324, 4.150149822235107, 4.071290493011475, 3.9579362869262695, 3.8686888217926025, 3.8664937019348145, 3.743483304977417, 3.743483304977417, 3.7414700984954834, 3.7508902549743652, 3.740306854248047, 15.243337631225586, 8.915838241577148, 6.433970928192139, 11.676909446716309, 7.099382400512695, 21.838809967041016, 13.353745460510254, 26.074848175048828, 8.181234359741211, 18.013164520263672, 15.727516174316406, 11.931365013122559, 33.1277961730957, 7.7882161140441895, 23.31758689880371, 24.15566062927246, 12.125299453735352, 8.71373462677002, 24.53083610534668, 10.29032039642334, 23.891918182373047, 8.112006187438965, 12.248150825500488, 15.611722946166992, 11.746196746826172, 13.095738410949707, 11.770127296447754, 11.67505931854248, 11.12498664855957, 11.435148239135742, 11.412468910217285, 8.79749584197998, 6.813729763031006, 4.990756034851074, 4.60549783706665, 5.186191558837891, 2.8179543018341064, 2.5350935459136963, 2.7731773853302, 2.5427134037017822, 2.4528298377990723, 2.3991870880126953, 2.3991870880126953, 2.398893356323242, 2.3987984657287598, 2.397830009460449, 2.452807664871216, 2.358488082885742, 2.7172372341156006, 2.2625479698181152, 2.2625479698181152, 2.2625479698181152, 2.2625479698181152, 2.2625479698181152, 2.2625479698181152, 2.2625479698181152, 2.2625479698181152, 2.2625479698181152, 2.2625479698181152, 2.2625479698181152, 2.2625479698181152, 2.2625479698181152, 2.2625479698181152, 2.2625479698181152, 2.2625479698181152, 2.2625479698181152, 2.2625479698181152, 2.2625479698181152, 2.2625479698181152, 2.2625479698181152, 2.2625479698181152, 4.744183540344238, 2.2625479698181152, 2.2625479698181152, 2.2625479698181152, 4.5146894454956055, 2.5138354301452637, 4.743117332458496, 4.581252098083496, 4.891854763031006, 4.615795135498047, 4.718928813934326, 6.1340508460998535, 4.5974955558776855, 5.020727157592773, 4.816149711608887, 2.523709774017334, 7.34209680557251, 4.913870811462402, 3.1540746688842773, 2.668642282485962, 2.855241298675537, 2.6720664501190186, 2.8521149158477783, 2.822779655456543, 2.7741153240203857, 2.7673254013061523, 2.6592462062835693, 2.6341845989227295, 2.639859676361084], \"Total\": [207.0, 108.0, 252.0, 188.0, 66.0, 71.0, 43.0, 121.0, 186.0, 44.0, 45.0, 47.0, 38.0, 121.0, 62.0, 40.0, 39.0, 87.0, 59.0, 71.0, 47.0, 96.0, 87.0, 108.0, 66.0, 18.0, 56.0, 33.0, 73.0, 83.0, 61.543357849121094, 51.54711151123047, 54.02366638183594, 47.08074188232422, 34.303466796875, 35.1595458984375, 31.89973258972168, 31.43250274658203, 28.616586685180664, 23.31287956237793, 23.835479736328125, 25.462177276611328, 23.403661727905273, 22.34499168395996, 21.352371215820312, 23.0441951751709, 18.76653480529785, 19.173357009887695, 18.595748901367188, 20.640016555786133, 17.189237594604492, 17.189903259277344, 17.146024703979492, 16.5891170501709, 28.79320526123047, 16.57810401916504, 17.235946655273438, 15.978519439697266, 16.529457092285156, 15.377446174621582, 74.26553344726562, 61.16627883911133, 24.844987869262695, 36.45682144165039, 72.33170318603516, 65.72550201416016, 53.417720794677734, 29.26893424987793, 79.00049591064453, 122.17881774902344, 62.52817153930664, 207.10482788085938, 83.19010925292969, 66.51065063476562, 55.657630920410156, 52.53965759277344, 71.78768157958984, 174.36207580566406, 70.48355865478516, 73.67196655273438, 108.98374938964844, 186.13226318359375, 96.1317367553711, 252.96885681152344, 188.37205505371094, 87.48751068115234, 81.19855499267578, 66.77511596679688, 64.6231689453125, 121.04076385498047, 121.70165252685547, 87.6971206665039, 22.650388717651367, 13.012665748596191, 12.13289737701416, 11.34867000579834, 11.194647789001465, 10.786876678466797, 10.221512794494629, 10.222505569458008, 9.814247131347656, 9.814247131347656, 9.814247131347656, 9.814247131347656, 9.814247131347656, 9.814247131347656, 9.814247131347656, 9.814247131347656, 9.814247131347656, 7.572193622589111, 6.56910514831543, 6.319055080413818, 6.006409168243408, 7.040119647979736, 6.239378452301025, 5.650870323181152, 6.64164924621582, 4.625616550445557, 4.586610794067383, 4.667032241821289, 5.071013450622559, 3.871955394744873, 26.065080642700195, 39.0726432800293, 28.71868896484375, 13.519097328186035, 14.155450820922852, 108.2259750366211, 17.90281867980957, 21.271329879760742, 252.96885681152344, 59.56814956665039, 71.26551055908203, 47.138702392578125, 121.70165252685547, 63.752960205078125, 41.884342193603516, 53.86735153198242, 174.36207580566406, 56.7318115234375, 41.13780212402344, 186.13226318359375, 188.37205505371094, 57.13179016113281, 45.85776138305664, 52.347808837890625, 87.6971206665039, 38.75912857055664, 121.04076385498047, 48.48786544799805, 16.956466674804688, 11.133808135986328, 19.615680694580078, 9.66958999633789, 9.075845718383789, 8.314597129821777, 7.473259925842285, 6.100046157836914, 5.409905910491943, 5.347477912902832, 5.199365615844727, 4.821707248687744, 4.85983943939209, 4.824582576751709, 4.689083576202393, 4.689496994018555, 4.842492580413818, 5.486058235168457, 4.621860980987549, 4.609643936157227, 4.842621803283691, 4.75907039642334, 4.630232334136963, 4.533034324645996, 4.5380778312683105, 4.3969502449035645, 4.3969502449035645, 4.4010329246521, 4.4151201248168945, 4.403840065002441, 23.16831398010254, 12.447158813476562, 8.577716827392578, 17.922119140625, 10.01472282409668, 44.99042510986328, 26.516748428344727, 71.27542877197266, 13.375089645385742, 47.61402893066406, 40.38066864013672, 27.86264419555664, 188.37205505371094, 15.301501274108887, 121.04076385498047, 186.13226318359375, 45.85776138305664, 22.776424407958984, 207.10482788085938, 33.6475715637207, 252.96885681152344, 20.120826721191406, 56.09227752685547, 108.98374938964844, 59.56814956665039, 87.6971206665039, 81.19855499267578, 87.48751068115234, 96.1317367553711, 121.70165252685547, 174.36207580566406, 49.77225112915039, 7.496351718902588, 5.694451332092285, 5.291186332702637, 6.462237358093262, 3.549257516860962, 3.224335193634033, 3.52921199798584, 3.248990058898926, 3.134525775909424, 3.0824382305145264, 3.0824382305145264, 3.0821259021759033, 3.08351469039917, 3.088735580444336, 3.164149284362793, 3.0521035194396973, 3.517923355102539, 2.9425199031829834, 2.9425199031829834, 2.9425199031829834, 2.9425199031829834, 2.9425199031829834, 2.9425199031829834, 2.9425199031829834, 2.9425199031829834, 2.9425199031829834, 2.9425199031829834, 2.9425199031829834, 2.9425199031829834, 2.9425199031829834, 2.9425199031829834, 2.9425199031829834, 2.9425199031829834, 2.9425199031829834, 2.9425199031829834, 2.9425199031829834, 2.9425199031829834, 2.9425199031829834, 2.9425199031829834, 6.406256198883057, 2.9425199031829834, 2.9425199031829834, 2.9425199031829834, 7.762429237365723, 3.4802651405334473, 14.192755699157715, 13.375089645385742, 16.15949249267578, 18.264232635498047, 20.474620819091797, 45.85776138305664, 22.751657485961914, 43.464576721191406, 38.35550308227539, 4.27369499206543, 207.10482788085938, 66.51065063476562, 13.670845985412598, 6.104884147644043, 12.447158813476562, 9.10977840423584, 21.271329879760742, 27.86264419555664, 33.6475715637207, 62.52817153930664, 96.1317367553711, 47.61402893066406, 83.19010925292969], \"Category\": [\"Default\", \"Default\", \"Default\", \"Default\", \"Default\", \"Default\", \"Default\", \"Default\", \"Default\", \"Default\", \"Default\", \"Default\", \"Default\", \"Default\", \"Default\", \"Default\", \"Default\", \"Default\", \"Default\", \"Default\", \"Default\", \"Default\", \"Default\", \"Default\", \"Default\", \"Default\", \"Default\", \"Default\", \"Default\", \"Default\", \"Topic1\", \"Topic1\", \"Topic1\", \"Topic1\", \"Topic1\", \"Topic1\", \"Topic1\", \"Topic1\", \"Topic1\", \"Topic1\", \"Topic1\", \"Topic1\", \"Topic1\", \"Topic1\", \"Topic1\", \"Topic1\", \"Topic1\", \"Topic1\", \"Topic1\", \"Topic1\", \"Topic1\", \"Topic1\", \"Topic1\", \"Topic1\", \"Topic1\", \"Topic1\", \"Topic1\", \"Topic1\", \"Topic1\", \"Topic1\", \"Topic1\", \"Topic1\", \"Topic1\", \"Topic1\", \"Topic1\", \"Topic1\", \"Topic1\", \"Topic1\", \"Topic1\", \"Topic1\", \"Topic1\", \"Topic1\", \"Topic1\", \"Topic1\", \"Topic1\", \"Topic1\", \"Topic1\", \"Topic1\", \"Topic1\", \"Topic1\", \"Topic1\", \"Topic1\", \"Topic1\", \"Topic1\", \"Topic1\", \"Topic1\", \"Topic1\", \"Topic1\", \"Topic1\", \"Topic1\", \"Topic1\", \"Topic1\", \"Topic2\", \"Topic2\", \"Topic2\", \"Topic2\", \"Topic2\", \"Topic2\", \"Topic2\", \"Topic2\", \"Topic2\", \"Topic2\", \"Topic2\", \"Topic2\", \"Topic2\", \"Topic2\", \"Topic2\", \"Topic2\", \"Topic2\", \"Topic2\", \"Topic2\", \"Topic2\", \"Topic2\", \"Topic2\", \"Topic2\", \"Topic2\", \"Topic2\", \"Topic2\", \"Topic2\", \"Topic2\", \"Topic2\", \"Topic2\", \"Topic2\", \"Topic2\", \"Topic2\", \"Topic2\", \"Topic2\", \"Topic2\", \"Topic2\", \"Topic2\", \"Topic2\", \"Topic2\", \"Topic2\", \"Topic2\", \"Topic2\", \"Topic2\", \"Topic2\", \"Topic2\", \"Topic2\", \"Topic2\", \"Topic2\", \"Topic2\", \"Topic2\", \"Topic2\", \"Topic2\", \"Topic2\", \"Topic2\", \"Topic2\", \"Topic2\", \"Topic2\", \"Topic3\", \"Topic3\", \"Topic3\", \"Topic3\", \"Topic3\", \"Topic3\", \"Topic3\", \"Topic3\", \"Topic3\", \"Topic3\", \"Topic3\", \"Topic3\", \"Topic3\", \"Topic3\", \"Topic3\", \"Topic3\", \"Topic3\", \"Topic3\", \"Topic3\", \"Topic3\", \"Topic3\", \"Topic3\", \"Topic3\", \"Topic3\", \"Topic3\", \"Topic3\", \"Topic3\", \"Topic3\", \"Topic3\", \"Topic3\", \"Topic3\", \"Topic3\", \"Topic3\", \"Topic3\", \"Topic3\", \"Topic3\", \"Topic3\", \"Topic3\", \"Topic3\", \"Topic3\", \"Topic3\", \"Topic3\", \"Topic3\", \"Topic3\", \"Topic3\", \"Topic3\", \"Topic3\", \"Topic3\", \"Topic3\", \"Topic3\", \"Topic3\", \"Topic3\", \"Topic3\", \"Topic3\", \"Topic3\", \"Topic3\", \"Topic3\", \"Topic3\", \"Topic3\", \"Topic3\", \"Topic3\", \"Topic3\", \"Topic4\", \"Topic4\", \"Topic4\", \"Topic4\", \"Topic4\", \"Topic4\", \"Topic4\", \"Topic4\", \"Topic4\", \"Topic4\", \"Topic4\", \"Topic4\", \"Topic4\", \"Topic4\", \"Topic4\", \"Topic4\", \"Topic4\", \"Topic4\", \"Topic4\", \"Topic4\", \"Topic4\", \"Topic4\", \"Topic4\", \"Topic4\", \"Topic4\", \"Topic4\", \"Topic4\", \"Topic4\", \"Topic4\", \"Topic4\", \"Topic4\", \"Topic4\", \"Topic4\", \"Topic4\", \"Topic4\", \"Topic4\", \"Topic4\", \"Topic4\", \"Topic4\", \"Topic4\", \"Topic4\", \"Topic4\", \"Topic4\", \"Topic4\", \"Topic4\", \"Topic4\", \"Topic4\", \"Topic4\", \"Topic4\", \"Topic4\", \"Topic4\", \"Topic4\", \"Topic4\", \"Topic4\", \"Topic4\", \"Topic4\", \"Topic4\", \"Topic4\", \"Topic4\", \"Topic4\", \"Topic4\", \"Topic4\", \"Topic4\", \"Topic4\", \"Topic4\", \"Topic4\", \"Topic4\", \"Topic4\"], \"logprob\": [30.0, 29.0, 28.0, 27.0, 26.0, 25.0, 24.0, 23.0, 22.0, 21.0, 20.0, 19.0, 18.0, 17.0, 16.0, 15.0, 14.0, 13.0, 12.0, 11.0, 10.0, 9.0, 8.0, 7.0, 6.0, 5.0, 4.0, 3.0, 2.0, 1.0, -4.989999771118164, -5.168399810791016, -5.122200012207031, -5.260000228881836, -5.579800128936768, -5.5553998947143555, -5.6529998779296875, -5.668499946594238, -5.762800216674805, -5.970600128173828, -5.948599815368652, -5.882800102233887, -5.967100143432617, -6.014100074768066, -6.061999797821045, -5.986299991607666, -6.191699981689453, -6.170300006866455, -6.201300144195557, -6.0971999168396, -6.281199932098389, -6.281499862670898, -6.284200191497803, -6.317399978637695, -5.765999794006348, -6.31879997253418, -6.28000020980835, -6.355800151824951, -6.322000026702881, -6.394899845123291, -4.8206000328063965, -5.021500110626221, -5.9166998863220215, -5.538000106811523, -4.888299942016602, -4.983799934387207, -5.190800189971924, -5.771500110626221, -4.843699932098389, -4.438799858093262, -5.065999984741211, -3.952699899673462, -4.802999973297119, -5.015699863433838, -5.180799961090088, -5.234499931335449, -4.952000141143799, -4.161300182342529, -4.979800224304199, -4.940499782562256, -4.608799934387207, -4.152699947357178, -4.750199794769287, -3.9395999908447266, -4.213500022888184, -4.848400115966797, -4.91480016708374, -5.07420015335083, -5.115300178527832, -4.678400039672852, -4.7418999671936035, -5.032199859619141, -4.532899856567383, -5.106100082397461, -5.1774001121521, -5.247099876403809, -5.262400150299072, -5.30049991607666, -5.3566999435424805, -5.356900215148926, -5.399199962615967, -5.399199962615967, -5.399199962615967, -5.399199962615967, -5.399199962615967, -5.399199962615967, -5.399199962615967, -5.399199962615967, -5.399199962615967, -5.685100078582764, -5.832699775695801, -5.875500202178955, -5.930799961090088, -5.773200035095215, -5.89739990234375, -6.001500129699707, -5.8541998863220215, -6.220300197601318, -6.229800224304199, -6.216599941253662, -6.149600028991699, -6.422500133514404, -4.545599937438965, -4.1956000328063965, -4.5258002281188965, -5.240300178527832, -5.204400062561035, -3.549299955368042, -5.0472002029418945, -5.1020002365112305, -3.6380999088287354, -4.5725998878479, -4.478099822998047, -4.741700172424316, -4.248700141906738, -4.625699996948242, -4.80810022354126, -4.727200031280518, -4.5030999183654785, -4.8678998947143555, -4.984799861907959, -4.603600025177002, -4.646399974822998, -5.013400077819824, -5.086900234222412, -5.095799922943115, -5.0269999504089355, -5.164599895477295, -5.161099910736084, -5.2195000648498535, -4.476900100708008, -4.9156999588012695, -4.350900173187256, -5.069699764251709, -5.135799884796143, -5.234300136566162, -5.345200061798096, -5.591899871826172, -5.713600158691406, -5.725399971008301, -5.758500099182129, -5.839799880981445, -5.832499980926514, -5.8403000831604, -5.87060022354126, -5.870699882507324, -5.838600158691406, -5.715199947357178, -5.888700008392334, -5.89139986038208, -5.842199802398682, -5.861400127410889, -5.889699935913086, -5.912499904632568, -5.913000106811523, -5.945400238037109, -5.945400238037109, -5.945899963378906, -5.943399906158447, -5.946199893951416, -4.541200160980225, -5.077600002288818, -5.403800010681152, -4.807799816131592, -5.3053998947143555, -4.181700229644775, -4.673600196838379, -4.00439977645874, -5.16349983215332, -4.374300003051758, -4.510000228881836, -4.786200046539307, -3.765000104904175, -5.212800025939941, -4.116199970245361, -4.080900192260742, -4.770100116729736, -5.100500106811523, -4.065499782562256, -4.934199810028076, -4.091800212860107, -5.171999931335449, -4.760000228881836, -4.517399787902832, -4.8018999099731445, -4.6930999755859375, -4.799799919128418, -4.8078999519348145, -4.856200218200684, -4.828700065612793, -4.830699920654297, -5.09089994430542, -4.200500011444092, -4.511899948120117, -4.592199802398682, -4.473400115966797, -5.083399772644043, -5.189199924468994, -5.099400043487549, -5.186200141906738, -5.2221999168396, -5.24429988861084, -5.24429988861084, -5.2444000244140625, -5.244500160217285, -5.244900226593018, -5.2221999168396, -5.26140022277832, -5.119800090789795, -5.3028998374938965, -5.3028998374938965, -5.3028998374938965, -5.3028998374938965, -5.3028998374938965, -5.3028998374938965, -5.3028998374938965, -5.3028998374938965, -5.3028998374938965, -5.3028998374938965, -5.3028998374938965, -5.3028998374938965, -5.3028998374938965, -5.3028998374938965, -5.3028998374938965, -5.3028998374938965, -5.3028998374938965, -5.3028998374938965, -5.3028998374938965, -5.3028998374938965, -5.3028998374938965, -5.3028998374938965, -4.5625, -5.3028998374938965, -5.3028998374938965, -5.3028998374938965, -4.612100124359131, -5.1975998878479, -4.562699794769287, -4.597499847412109, -4.531899929046631, -4.590000152587891, -4.56790018081665, -4.305600166320801, -4.593900203704834, -4.505899906158447, -4.547500133514404, -5.193699836730957, -4.125800132751465, -4.527400016784668, -4.970699787139893, -5.137899875640869, -5.070300102233887, -5.136600017547607, -5.071400165557861, -5.081699848175049, -5.099100112915039, -5.101600170135498, -5.14139986038208, -5.150899887084961, -5.14870023727417], \"loglift\": [30.0, 29.0, 28.0, 27.0, 26.0, 25.0, 24.0, 23.0, 22.0, 21.0, 20.0, 19.0, 18.0, 17.0, 16.0, 15.0, 14.0, 13.0, 12.0, 11.0, 10.0, 9.0, 8.0, 7.0, 6.0, 5.0, 4.0, 3.0, 2.0, 1.0, 0.35760000348091125, 0.3564999997615814, 0.35580000281333923, 0.3555000126361847, 0.352400004863739, 0.3521000146865845, 0.3517000079154968, 0.35100001096725464, 0.350600004196167, 0.34769999980926514, 0.3476000130176544, 0.3474000096321106, 0.3472999930381775, 0.3467000126838684, 0.3441999852657318, 0.34369999170303345, 0.34360000491142273, 0.3434999883174896, 0.34310001134872437, 0.34290000796318054, 0.3418999910354614, 0.3416000008583069, 0.34139999747276306, 0.34119999408721924, 0.34119999408721924, 0.34049999713897705, 0.34040001034736633, 0.3402999937534332, 0.3402999937534332, 0.33959999680519104, 0.3391999900341034, 0.33230000734329224, 0.33799999952316284, 0.33329999446868896, 0.2978000044822693, 0.29809999465942383, 0.29840001463890076, 0.31929999589920044, 0.25429999828338623, 0.22310000658035278, 0.26579999923706055, 0.18140000104904175, 0.24330000579357147, 0.25440001487731934, 0.26739999651908875, 0.27129998803138733, 0.24169999361038208, 0.14499999582767487, 0.2321999967098236, 0.2272000014781952, 0.16740000247955322, 0.08820000290870667, 0.15150000154972076, -0.005499999970197678, 0.01549999974668026, 0.14749999344348907, 0.15569999814033508, 0.19189999997615814, 0.1835000067949295, -0.007199999876320362, -0.07609999924898148, -0.03869999945163727, 1.8142999410629272, 1.795300006866455, 1.794100046157837, 1.791200041770935, 1.7896000146865845, 1.788599967956543, 1.7862000465393066, 1.7858999967575073, 1.7843999862670898, 1.7843999862670898, 1.7843999862670898, 1.7843999862670898, 1.7843999862670898, 1.7843999862670898, 1.7843999862670898, 1.7843999862670898, 1.7843999862670898, 1.7577999830245972, 1.7523000240325928, 1.7482999563217163, 1.7437000274658203, 1.7425999641418457, 1.7390999794006348, 1.7339999675750732, 1.7197999954223633, 1.715499997138977, 1.7144999504089355, 1.7102999687194824, 1.694200038909912, 1.691100001335144, 1.6612000465393066, 1.6062999963760376, 1.5841000080108643, 1.6230000257492065, 1.6129000186920166, 1.2338000535964966, 1.5351999998092651, 1.3080999851226807, 0.29600000381469727, 0.807699978351593, 0.7228999733924866, 0.8725000023841858, 0.4171000123023987, 0.6866999864578247, 0.9243999719619751, 0.753600001335144, -0.19689999520778656, 0.5611000061035156, 0.7656000256538391, -0.3626999855041504, -0.4174000024795532, 0.40869998931884766, 0.5548999905586243, 0.41370001435279846, -0.03350000083446503, 0.6453999876976013, -0.48989999294281006, 0.36649999022483826, 2.1598000526428223, 2.141700029373169, 2.1401000022888184, 2.128700017929077, 2.125999927520752, 2.1150999069213867, 2.1108999252319336, 2.0671000480651855, 2.065500020980835, 2.0653998851776123, 2.06030011177063, 2.054500102996826, 2.0539000034332275, 2.0534000396728516, 2.051500082015991, 2.0513999462127686, 2.051300048828125, 2.049999952316284, 2.0478999614715576, 2.0478999614715576, 2.0476999282836914, 2.0459001064300537, 2.045099973678589, 2.0434999465942383, 2.041800022125244, 2.041100025177002, 2.041100025177002, 2.039599895477295, 2.0390000343322754, 2.0387001037597656, 1.7833000421524048, 1.868299961090088, 1.9143999814987183, 1.7735999822616577, 1.8579000234603882, 1.479200005531311, 1.5160000324249268, 1.1964000463485718, 1.7103999853134155, 1.2300000190734863, 1.2590999603271484, 1.3538999557495117, 0.46389999985694885, 1.5267000198364258, 0.5551000237464905, 0.16009999811649323, 0.8716999888420105, 1.2411999702453613, 0.06870000064373016, 1.017300009727478, -0.15770000219345093, 1.2935999631881714, 0.680400013923645, 0.2587999999523163, 0.5784000158309937, 0.3003999888896942, 0.27070000767707825, 0.18799999356269836, 0.045499999076128006, -0.16290000081062317, -0.524399995803833, 0.4690000116825104, 3.252500057220459, 3.2160000801086426, 3.209199905395508, 3.128000020980835, 3.1171998977661133, 3.1073999404907227, 3.1068999767303467, 3.102799892425537, 3.1026999950408936, 3.097399950027466, 3.097399950027466, 3.0973000526428223, 3.0968000888824463, 3.0947000980377197, 3.0933001041412354, 3.090100049972534, 3.0896999835968018, 3.085200071334839, 3.085200071334839, 3.085200071334839, 3.085200071334839, 3.085200071334839, 3.085200071334839, 3.085200071334839, 3.085200071334839, 3.085200071334839, 3.085200071334839, 3.085200071334839, 3.085200071334839, 3.085200071334839, 3.085200071334839, 3.085200071334839, 3.085200071334839, 3.085200071334839, 3.085200071334839, 3.085200071334839, 3.085200071334839, 3.085200071334839, 3.085200071334839, 3.047600030899048, 3.085200071334839, 3.085200071334839, 3.085200071334839, 2.805999994277954, 3.022599935531616, 2.2518999576568604, 2.2764999866485596, 2.1530001163482666, 1.972499966621399, 1.8803000450134277, 1.336300015449524, 1.7488000392913818, 1.1895999908447266, 1.2730000019073486, 2.821199893951416, 0.008299999870359898, 0.7426000237464905, 1.8813999891281128, 2.520400047302246, 1.875599980354309, 2.1214001178741455, 1.3386000394821167, 1.05840003490448, 0.8522999882698059, 0.23019999265670776, -0.23970000445842743, 0.45339998602867126, -0.10249999910593033]}, \"token.table\": {\"Topic\": [1, 4, 2, 4, 3, 2, 1, 2, 3, 2, 3, 4, 3, 4, 4, 4, 1, 1, 2, 1, 2, 1, 3, 1, 2, 4, 3, 1, 3, 2, 2, 1, 3, 4, 1, 1, 2, 3, 1, 4, 3, 1, 2, 3, 4, 1, 2, 1, 3, 4, 2, 1, 1, 3, 1, 2, 4, 3, 1, 2, 4, 1, 2, 3, 2, 1, 3, 1, 2, 3, 1, 2, 3, 4, 2, 2, 4, 3, 1, 1, 4, 2, 2, 1, 2, 3, 4, 3, 1, 2, 1, 2, 3, 4, 1, 3, 1, 4, 1, 3, 4, 2, 1, 3, 4, 3, 4, 3, 3, 1, 1, 2, 3, 4, 1, 2, 3, 4, 1, 2, 1, 4, 4, 1, 2, 1, 2, 1, 2, 3, 4, 2, 3, 1, 2, 1, 2, 3, 4, 1, 3, 3, 4, 1, 2, 3, 1, 2, 1, 2, 3, 4, 1, 4, 1, 2, 4, 3, 4, 2, 4, 1, 3, 1, 1, 2, 1, 4, 4, 4, 3, 1, 4, 2, 1, 3, 2, 1, 4, 2, 1, 2, 1, 3, 1, 1, 2, 3, 4, 1, 2, 3, 1, 3, 1, 2, 3, 4, 2, 4, 4, 1, 1, 3, 4, 2, 1, 2, 3, 4, 3, 4, 1, 2, 3, 4, 4, 2, 1, 1, 2, 1, 2, 4, 4, 1, 3, 3, 1, 2, 1, 3, 4, 1, 2, 3, 4, 4, 3, 4, 3, 4, 1, 1, 2, 3, 3, 4, 1, 3, 3, 4, 1, 2, 4, 1, 4, 4, 1, 2, 3, 4, 1, 3, 2, 2, 2, 1, 2, 4, 1, 4, 4, 4, 2, 1, 1, 2, 3, 4, 1, 1, 4, 1, 3, 4, 1, 2, 3, 3, 1, 2, 3, 4, 3, 1, 4, 4, 3, 1, 2, 3, 1, 1, 2, 3, 4, 2, 1, 4, 1, 2, 1, 2, 3, 3, 1, 2, 3, 4, 1, 3, 4, 1, 2, 3, 3, 1, 3, 4, 2, 1, 2, 4, 4, 2, 1, 2, 3, 1, 2, 4, 1, 4, 1, 2, 3, 4, 4, 1, 1, 3, 1, 2, 1, 2, 3, 4, 1, 2, 3, 4, 4, 3, 2], \"Freq\": [0.9863107800483704, 0.6796895265579224, 0.156097412109375, 0.780487060546875, 0.9616557955741882, 0.9170341491699219, 0.8258112072944641, 0.0367027185857296, 0.1468108743429184, 0.9782337546348572, 0.9088775515556335, 0.6552857756614685, 0.8530451655387878, 0.8527758121490479, 0.9304243326187134, 0.6796895265579224, 0.9834973216056824, 0.956645667552948, 0.034165918827056885, 0.6744784712791443, 0.31371092796325684, 0.7665939331054688, 0.21393319964408875, 0.5727777481079102, 0.38185182213783264, 0.04242798313498497, 0.9082981944084167, 0.9679631590843201, 0.9435927867889404, 0.92705237865448, 0.8848194479942322, 0.5943965315818787, 0.29719826579093933, 0.08915948122739792, 0.9914834499359131, 0.8915178775787354, 0.01392996683716774, 0.11143973469734192, 0.9862402677536011, 0.6796895265579224, 0.9621632695198059, 0.7060495018959045, 0.10617285966873169, 0.1751852184534073, 0.015925928950309753, 0.9600397944450378, 0.02742970921099186, 0.21581199765205383, 0.6474359631538391, 0.12948720157146454, 0.913366436958313, 0.9689914584159851, 0.9591541886329651, 0.8196659088134766, 0.9724516272544861, 0.03473041579127312, 0.6488370299339294, 0.8405002951622009, 0.9021111726760864, 0.03007037192583084, 0.0751759260892868, 0.7575258612632751, 0.1128229945898056, 0.12894056737422943, 0.9170341491699219, 0.6313536167144775, 0.36478209495544434, 0.5940518379211426, 0.3341541588306427, 0.07425647974014282, 0.8895288109779358, 0.024041319265961647, 0.06010329723358154, 0.036061979830265045, 0.9783287644386292, 0.7748023271560669, 0.6475141644477844, 0.9059776067733765, 0.9954622387886047, 0.9845606684684753, 0.6796895265579224, 0.9890465140342712, 0.8324441313743591, 0.8675808310508728, 0.07366252690553665, 0.03273889794945717, 0.016369448974728584, 0.9242305159568787, 0.14793887734413147, 0.8136637806892395, 0.6521914005279541, 0.2820287048816681, 0.07050717622041702, 0.6796895265579224, 0.940113365650177, 0.05530078709125519, 0.9982850551605225, 0.6796895265579224, 0.9644877314567566, 0.825998842716217, 0.6796895265579224, 0.8721036314964294, 0.5963969826698303, 0.3975979685783386, 0.6796895265579224, 0.865452229976654, 0.6796895265579224, 0.9097214341163635, 0.8290872573852539, 0.998082160949707, 0.6826322078704834, 0.245047464966774, 0.07001356035470963, 0.6796895265579224, 0.8796377778053284, 0.0283754114061594, 0.0567508228123188, 0.0283754114061594, 0.7630774974822998, 0.2268608808517456, 1.0013443231582642, 0.9449676871299744, 0.6380550265312195, 0.1534620225429535, 0.844041109085083, 0.5968817472457886, 0.40587958693504333, 0.8353257775306702, 0.014485417865216732, 0.12071181833744049, 0.03379930928349495, 0.2331622838973999, 0.6994868516921997, 0.20892319083213806, 0.766051709651947, 0.6409115791320801, 0.23828764259815216, 0.09038496762514114, 0.016433630138635635, 0.9135956168174744, 0.07613296806812286, 0.8260208964347839, 0.8620032668113708, 0.7641198635101318, 0.2483389526605606, 0.8529699444770813, 0.8356136083602905, 0.1702175885438919, 0.6939810514450073, 0.09914015233516693, 0.19001862406730652, 0.01652335934340954, 0.4914098083972931, 0.4914098083972931, 0.868715763092041, 0.09501578658819199, 0.027147367596626282, 0.1547451615333557, 0.7737258076667786, 0.8647496104240417, 0.6488370299339294, 0.5943437814712524, 0.39622920751571655, 0.9911534786224365, 0.2119324952363968, 0.7770858407020569, 0.98895263671875, 0.6320814490318298, 0.8780477046966553, 0.6796895265579224, 0.8981652855873108, 0.38647696375846863, 0.6441282629966736, 0.9170341491699219, 0.9649480581283569, 0.9366728663444519, 0.9170341491699219, 0.7314836382865906, 0.2194450944662094, 0.9826124310493469, 0.1505650132894516, 0.9033900499343872, 0.33478182554244995, 0.6695636510848999, 0.9679688811302185, 0.8386357426643372, 0.014975638128817081, 0.11980510503053665, 0.029951276257634163, 0.5707656145095825, 0.043905045837163925, 0.3951454162597656, 0.9827522039413452, 0.9307529926300049, 0.672770082950592, 0.1596403568983078, 0.14823748171329498, 0.02280576527118683, 0.9692765474319458, 0.6796895265579224, 0.9337875843048096, 0.9893862009048462, 0.5670597553253174, 0.3780398368835449, 0.06300663948059082, 0.9712857604026794, 0.8001142144203186, 0.034290608018636703, 0.13716243207454681, 0.02286040596663952, 0.7230565547943115, 0.2410188615322113, 0.8987285494804382, 0.02531629614531994, 0.05063259229063988, 0.02531629614531994, 0.6796895265579224, 0.9170341491699219, 0.9909584522247314, 0.9645837545394897, 0.032697755843400955, 0.9115890860557556, 0.04797837510704994, 0.04797837510704994, 0.6796895265579224, 0.978453516960144, 0.9097214341163635, 0.9114012122154236, 0.6563306450843811, 0.34031960368156433, 0.4665745198726654, 0.4306841790676117, 0.10767104476690292, 0.32709839940071106, 0.2834852635860443, 0.2616787254810333, 0.13083936274051666, 0.6796895265579224, 0.8638875484466553, 0.6796895265579224, 0.5981268286705017, 0.37382927536964417, 0.9865791201591492, 0.8128223419189453, 0.03694647178053856, 0.14778588712215424, 0.23398955166339874, 0.7019686698913574, 0.45747146010398865, 0.5228245258331299, 0.6989709138870239, 0.19970597326755524, 0.9360189437866211, 0.05616113916039467, 0.6796895265579224, 0.6341263055801392, 0.35229238867759705, 0.6796895265579224, 0.4028998613357544, 0.3525373935699463, 0.2014499306678772, 0.0503624826669693, 0.9433172345161438, 0.06085917726159096, 0.9170341491699219, 0.9170341491699219, 0.9221784472465515, 0.6966100931167603, 0.3096044957637787, 0.845247209072113, 0.9818484783172607, 0.6796895265579224, 0.6796895265579224, 0.6796895265579224, 0.9170341491699219, 0.9659895896911621, 0.8113865852355957, 0.05201195925474167, 0.11442630738019943, 0.03120717592537403, 0.975454568862915, 0.711773693561554, 0.2737590968608856, 0.5372504591941833, 0.24420475959777832, 0.24420475959777832, 0.9694941639900208, 0.026930393651127815, 0.8814605474472046, 0.8295816779136658, 0.27928563952445984, 0.7261426448822021, 0.9176332354545593, 0.0509796217083931, 0.8824111223220825, 0.9995619058609009, 0.6796895265579224, 0.6796895265579224, 0.9350202083587646, 0.8029268980026245, 0.13190941512584686, 0.0630871132016182, 0.9889909029006958, 0.6917847394943237, 0.21346500515937805, 0.0948733389377594, 0.6796895265579224, 0.9244349002838135, 0.6586329340934753, 0.32931646704673767, 0.1971992403268814, 0.7887969613075256, 0.10237341374158859, 0.7933939695358276, 0.10237341374158859, 0.8677459955215454, 0.9163163900375366, 0.017966987565159798, 0.07186795026063919, 0.9233638644218445, 0.46676596999168396, 0.48899292945861816, 0.044453904032707214, 0.3788369596004486, 0.5451556444168091, 0.07391940802335739, 0.881430447101593, 0.43318191170692444, 0.24753253161907196, 0.30941566824913025, 0.8522582650184631, 0.99117112159729, 0.8570756912231445, 0.6486104726791382, 0.6489027738571167, 0.9170341491699219, 0.8036606311798096, 0.02009151689708233, 0.1808236539363861, 0.2820698022842407, 0.6111512780189514, 0.14103490114212036, 0.8742751479148865, 0.11503620445728302, 0.7039406895637512, 0.05214375630021095, 0.1042875126004219, 0.13035939633846283, 0.6796895265579224, 0.965128481388092, 0.4902561902999878, 0.4902561902999878, 1.0031431913375854, 0.9495090246200562, 0.5191852450370789, 0.3227367699146271, 0.1262882947921753, 0.028064066544175148, 0.13185852766036987, 0.4834812581539154, 0.17581136524677277, 0.21976420283317566, 0.8500481247901917, 0.8230724334716797, 0.9616342186927795], \"Term\": [\"access\", \"accessory\", \"accommodation\", \"accommodation\", \"addition\", \"airbnb\", \"also\", \"also\", \"also\", \"amazed\", \"amenitie\", \"american\", \"amount\", \"ample\", \"apart\", \"apportion\", \"arrive\", \"ask\", \"ask\", \"asty\", \"asty\", \"available\", \"available\", \"back\", \"back\", \"back\", \"bag\", \"bar\", \"bathroom\", \"beat\", \"beautiful\", \"bed\", \"bed\", \"bed\", \"bicycle\", \"big\", \"big\", \"big\", \"bike\", \"boast\", \"bread\", \"breakfast\", \"breakfast\", \"breakfast\", \"breakfast\", \"bus\", \"bus\", \"call\", \"call\", \"call\", \"care\", \"center\", \"centre\", \"cereal\", \"charge\", \"charge\", \"charm\", \"cheese\", \"city\", \"city\", \"city\", \"clean\", \"clean\", \"clean\", \"coco\", \"coffee\", \"coffee\", \"come\", \"come\", \"come\", \"comfortable\", \"comfortable\", \"comfortable\", \"comfortable\", \"concept\", \"conference\", \"connection\", \"contain\", \"convenient\", \"cook\", \"cotton\", \"cypriot\", \"date\", \"day\", \"day\", \"day\", \"day\", \"decent\", \"decide\", \"decide\", \"definitely\", \"definitely\", \"definitely\", \"disposition\", \"drink\", \"drink\", \"drive\", \"driving\", \"drop\", \"dry\", \"dual\", \"due\", \"easy\", \"easy\", \"eatery\", \"efficient\", \"egyptian\", \"electrical\", \"elsewhere\", \"enough\", \"even\", \"even\", \"even\", \"excellence\", \"excellent\", \"excellent\", \"excellent\", \"excellent\", \"family\", \"family\", \"fantastic\", \"finish\", \"firm\", \"first\", \"first\", \"food\", \"food\", \"free\", \"free\", \"free\", \"free\", \"fresh\", \"fresh\", \"friend\", \"friend\", \"friendly\", \"friendly\", \"friendly\", \"friendly\", \"fruit\", \"fruit\", \"generous\", \"girl\", \"give\", \"give\", \"gladly\", \"go\", \"go\", \"great\", \"great\", \"great\", \"great\", \"head\", \"head\", \"helpful\", \"helpful\", \"helpful\", \"high\", \"high\", \"hire\", \"holder\", \"hot\", \"hot\", \"hour\", \"house\", \"house\", \"however\", \"idea\", \"ideal\", \"inconvenience\", \"international\", \"issue\", \"issue\", \"jet\", \"juice\", \"king\", \"lag\", \"leave\", \"leave\", \"list\", \"lobby\", \"lobby\", \"local\", \"local\", \"locate\", \"location\", \"location\", \"location\", \"location\", \"lot\", \"lot\", \"lot\", \"lovely\", \"machine\", \"make\", \"make\", \"make\", \"make\", \"mattress\", \"minimalistic\", \"minor\", \"minute\", \"modern\", \"modern\", \"modern\", \"month\", \"need\", \"need\", \"need\", \"need\", \"new\", \"new\", \"night\", \"night\", \"night\", \"night\", \"nordic\", \"normally\", \"number\", \"offer\", \"offer\", \"old\", \"old\", \"old\", \"ooze\", \"order\", \"outlet\", \"overnight\", \"owner\", \"owner\", \"parking\", \"parking\", \"parking\", \"perfect\", \"perfect\", \"perfect\", \"perfect\", \"perfection\", \"person\", \"personify\", \"phone\", \"phone\", \"pick\", \"place\", \"place\", \"place\", \"pleasure\", \"pleasure\", \"plenty\", \"plenty\", \"powerful\", \"powerful\", \"price\", \"price\", \"priority\", \"quality\", \"quality\", \"reading\", \"really\", \"really\", \"really\", \"really\", \"recommend\", \"recommend\", \"region\", \"relaxed\", \"rent\", \"restaurant\", \"restaurant\", \"rich\", \"ride\", \"roll\", \"rooftop\", \"roomy\", \"savva\", \"see\", \"service\", \"service\", \"service\", \"service\", \"shiny\", \"short\", \"short\", \"shower\", \"shower\", \"shower\", \"shuttle\", \"shuttle\", \"size\", \"sized\", \"sleep\", \"sleep\", \"small\", \"small\", \"smart\", \"snack\", \"soak\", \"socialising\", \"spot\", \"staff\", \"staff\", \"staff\", \"star\", \"stay\", \"stay\", \"stay\", \"stool\", \"stuff\", \"style\", \"style\", \"suggest\", \"suggest\", \"super\", \"super\", \"super\", \"surprisingly\", \"take\", \"take\", \"take\", \"taste\", \"tea\", \"tea\", \"tea\", \"time\", \"time\", \"time\", \"toast\", \"top\", \"top\", \"top\", \"touch\", \"town\", \"transportation\", \"typical\", \"unfortunately\", \"unique\", \"use\", \"use\", \"use\", \"view\", \"view\", \"view\", \"walk\", \"walk\", \"want\", \"want\", \"want\", \"want\", \"wardrobe\", \"warm\", \"water\", \"water\", \"way\", \"week\", \"well\", \"well\", \"well\", \"well\", \"whole\", \"whole\", \"whole\", \"whole\", \"wife\", \"wifi\", \"willing\"]}, \"R\": 30, \"lambda.step\": 0.01, \"plot.opts\": {\"xlab\": \"PC1\", \"ylab\": \"PC2\"}, \"topic.order\": [3, 2, 4, 1]};\n",
       "\n",
       "function LDAvis_load_lib(url, callback){\n",
       "  var s = document.createElement('script');\n",
       "  s.src = url;\n",
       "  s.async = true;\n",
       "  s.onreadystatechange = s.onload = callback;\n",
       "  s.onerror = function(){console.warn(\"failed to load library \" + url);};\n",
       "  document.getElementsByTagName(\"head\")[0].appendChild(s);\n",
       "}\n",
       "\n",
       "if(typeof(LDAvis) !== \"undefined\"){\n",
       "   // already loaded: just create the visualization\n",
       "   !function(LDAvis){\n",
       "       new LDAvis(\"#\" + \"ldavis_el2430825647630340569284135604\", ldavis_el2430825647630340569284135604_data);\n",
       "   }(LDAvis);\n",
       "}else if(typeof define === \"function\" && define.amd){\n",
       "   // require.js is available: use it to load d3/LDAvis\n",
       "   require.config({paths: {d3: \"https://cdnjs.cloudflare.com/ajax/libs/d3/3.5.5/d3.min\"}});\n",
       "   require([\"d3\"], function(d3){\n",
       "      window.d3 = d3;\n",
       "      LDAvis_load_lib(\"https://cdn.rawgit.com/bmabey/pyLDAvis/files/ldavis.v1.0.0.js\", function(){\n",
       "        new LDAvis(\"#\" + \"ldavis_el2430825647630340569284135604\", ldavis_el2430825647630340569284135604_data);\n",
       "      });\n",
       "    });\n",
       "}else{\n",
       "    // require.js not available: dynamically load d3 & LDAvis\n",
       "    LDAvis_load_lib(\"https://cdnjs.cloudflare.com/ajax/libs/d3/3.5.5/d3.min.js\", function(){\n",
       "         LDAvis_load_lib(\"https://cdn.rawgit.com/bmabey/pyLDAvis/files/ldavis.v1.0.0.js\", function(){\n",
       "                 new LDAvis(\"#\" + \"ldavis_el2430825647630340569284135604\", ldavis_el2430825647630340569284135604_data);\n",
       "            })\n",
       "         });\n",
       "}\n",
       "</script>"
      ],
      "text/plain": [
       "PreparedData(topic_coordinates=              x         y  topics  cluster       Freq\n",
       "topic                                                \n",
       "2     -0.125538 -0.085403       1        1  69.503799\n",
       "1     -0.139967  0.135067       2        1  15.922289\n",
       "3      0.088770 -0.186812       3        1  11.058261\n",
       "0      0.176736  0.137149       4        1   3.515653, topic_info=            Term        Freq       Total Category  logprob  loglift\n",
       "63          free  207.000000  207.000000  Default  30.0000  30.0000\n",
       "129         time  108.000000  108.000000  Default  29.0000  29.0000\n",
       "10          stay  252.000000  252.000000  Default  28.0000  28.0000\n",
       "43     breakfast  188.000000  188.000000  Default  27.0000  27.0000\n",
       "396         city   66.000000   66.000000  Default  26.0000  26.0000\n",
       "..           ...         ...         ...      ...      ...      ...\n",
       "139          bed    2.774115   33.647572   Topic4  -5.0991   0.8523\n",
       "115          old    2.767325   62.528172   Topic4  -5.1016   0.2302\n",
       "125      service    2.659246   96.131737   Topic4  -5.1414  -0.2397\n",
       "582       modern    2.634185   47.614029   Topic4  -5.1509   0.4534\n",
       "72   comfortable    2.639860   83.190109   Topic4  -5.1487  -0.1025\n",
       "\n",
       "[280 rows x 6 columns], token_table=      Topic      Freq           Term\n",
       "term                                \n",
       "230       1  0.986311         access\n",
       "1989      4  0.679690      accessory\n",
       "614       2  0.156097  accommodation\n",
       "614       4  0.780487  accommodation\n",
       "136       3  0.961656       addition\n",
       "...     ...       ...            ...\n",
       "578       3  0.175811          whole\n",
       "578       4  0.219764          whole\n",
       "786       4  0.850048           wife\n",
       "1005      3  0.823072           wifi\n",
       "372       2  0.961634        willing\n",
       "\n",
       "[365 rows x 3 columns], R=30, lambda_step=0.01, plot_opts={'xlab': 'PC1', 'ylab': 'PC2'}, topic_order=[3, 2, 4, 1])"
      ]
     },
     "metadata": {},
     "output_type": "display_data"
    }
   ],
   "source": [
    "plot_model(lda_pos_custom, plot ='topic_model')"
   ]
  },
  {
   "cell_type": "code",
   "execution_count": 52,
   "metadata": {},
   "outputs": [
    {
     "data": {
      "application/vnd.jupyter.widget-view+json": {
       "model_id": "",
       "version_major": 2,
       "version_minor": 0
      },
      "text/plain": [
       "IntProgress(value=0, description='Processing: ', max=25)"
      ]
     },
     "metadata": {},
     "output_type": "display_data"
    },
    {
     "data": {
      "application/vnd.jupyter.widget-view+json": {
       "model_id": "89d5f5a6b5174d32b1876ad8d7b5aefd",
       "version_major": 2,
       "version_minor": 0
      },
      "text/plain": [
       "Output()"
      ]
     },
     "metadata": {},
     "output_type": "display_data"
    },
    {
     "data": {
      "text/html": [
       "        <script type=\"text/javascript\">\n",
       "        window.PlotlyConfig = {MathJaxConfig: 'local'};\n",
       "        if (window.MathJax) {MathJax.Hub.Config({SVG: {font: \"STIX-Web\"}});}\n",
       "        if (typeof require !== 'undefined') {\n",
       "        require.undef(\"plotly\");\n",
       "        requirejs.config({\n",
       "            paths: {\n",
       "                'plotly': ['https://cdn.plot.ly/plotly-latest.min']\n",
       "            }\n",
       "        });\n",
       "        require(['plotly'], function(Plotly) {\n",
       "            window._Plotly = Plotly;\n",
       "        });\n",
       "        }\n",
       "        </script>\n",
       "        "
      ]
     },
     "metadata": {},
     "output_type": "display_data"
    },
    {
     "data": {
      "application/vnd.plotly.v1+json": {
       "config": {
        "plotlyServerURL": "https://plot.ly"
       },
       "data": [
        {
         "hovertemplate": "Metric=Coherence<br># Topics=%{x}<br>Score=%{y}<extra></extra>",
         "legendgroup": "Coherence",
         "line": {
          "color": "#636efa",
          "dash": "solid",
          "shape": "linear"
         },
         "mode": "lines",
         "name": "Coherence",
         "orientation": "v",
         "showlegend": true,
         "type": "scatter",
         "x": [
          2,
          4,
          8,
          16,
          32,
          64,
          100,
          200,
          300,
          400
         ],
         "xaxis": "x",
         "y": [
          0.43658178703022577,
          0.47584281233708847,
          0.38739046287788426,
          0.39694582710427917,
          0.39351215061891465,
          0.4280700442721428,
          0.4329209055405907,
          0.4609625567858698,
          0.46555573070602935,
          0.4705350191022225
         ],
         "yaxis": "y"
        }
       ],
       "layout": {
        "legend": {
         "title": {
          "text": "Metric"
         },
         "tracegroupgap": 0
        },
        "plot_bgcolor": "rgb(245,245,245)",
        "template": {
         "data": {
          "bar": [
           {
            "error_x": {
             "color": "#2a3f5f"
            },
            "error_y": {
             "color": "#2a3f5f"
            },
            "marker": {
             "line": {
              "color": "#E5ECF6",
              "width": 0.5
             }
            },
            "type": "bar"
           }
          ],
          "barpolar": [
           {
            "marker": {
             "line": {
              "color": "#E5ECF6",
              "width": 0.5
             }
            },
            "type": "barpolar"
           }
          ],
          "carpet": [
           {
            "aaxis": {
             "endlinecolor": "#2a3f5f",
             "gridcolor": "white",
             "linecolor": "white",
             "minorgridcolor": "white",
             "startlinecolor": "#2a3f5f"
            },
            "baxis": {
             "endlinecolor": "#2a3f5f",
             "gridcolor": "white",
             "linecolor": "white",
             "minorgridcolor": "white",
             "startlinecolor": "#2a3f5f"
            },
            "type": "carpet"
           }
          ],
          "choropleth": [
           {
            "colorbar": {
             "outlinewidth": 0,
             "ticks": ""
            },
            "type": "choropleth"
           }
          ],
          "contour": [
           {
            "colorbar": {
             "outlinewidth": 0,
             "ticks": ""
            },
            "colorscale": [
             [
              0,
              "#0d0887"
             ],
             [
              0.1111111111111111,
              "#46039f"
             ],
             [
              0.2222222222222222,
              "#7201a8"
             ],
             [
              0.3333333333333333,
              "#9c179e"
             ],
             [
              0.4444444444444444,
              "#bd3786"
             ],
             [
              0.5555555555555556,
              "#d8576b"
             ],
             [
              0.6666666666666666,
              "#ed7953"
             ],
             [
              0.7777777777777778,
              "#fb9f3a"
             ],
             [
              0.8888888888888888,
              "#fdca26"
             ],
             [
              1,
              "#f0f921"
             ]
            ],
            "type": "contour"
           }
          ],
          "contourcarpet": [
           {
            "colorbar": {
             "outlinewidth": 0,
             "ticks": ""
            },
            "type": "contourcarpet"
           }
          ],
          "heatmap": [
           {
            "colorbar": {
             "outlinewidth": 0,
             "ticks": ""
            },
            "colorscale": [
             [
              0,
              "#0d0887"
             ],
             [
              0.1111111111111111,
              "#46039f"
             ],
             [
              0.2222222222222222,
              "#7201a8"
             ],
             [
              0.3333333333333333,
              "#9c179e"
             ],
             [
              0.4444444444444444,
              "#bd3786"
             ],
             [
              0.5555555555555556,
              "#d8576b"
             ],
             [
              0.6666666666666666,
              "#ed7953"
             ],
             [
              0.7777777777777778,
              "#fb9f3a"
             ],
             [
              0.8888888888888888,
              "#fdca26"
             ],
             [
              1,
              "#f0f921"
             ]
            ],
            "type": "heatmap"
           }
          ],
          "heatmapgl": [
           {
            "colorbar": {
             "outlinewidth": 0,
             "ticks": ""
            },
            "colorscale": [
             [
              0,
              "#0d0887"
             ],
             [
              0.1111111111111111,
              "#46039f"
             ],
             [
              0.2222222222222222,
              "#7201a8"
             ],
             [
              0.3333333333333333,
              "#9c179e"
             ],
             [
              0.4444444444444444,
              "#bd3786"
             ],
             [
              0.5555555555555556,
              "#d8576b"
             ],
             [
              0.6666666666666666,
              "#ed7953"
             ],
             [
              0.7777777777777778,
              "#fb9f3a"
             ],
             [
              0.8888888888888888,
              "#fdca26"
             ],
             [
              1,
              "#f0f921"
             ]
            ],
            "type": "heatmapgl"
           }
          ],
          "histogram": [
           {
            "marker": {
             "colorbar": {
              "outlinewidth": 0,
              "ticks": ""
             }
            },
            "type": "histogram"
           }
          ],
          "histogram2d": [
           {
            "colorbar": {
             "outlinewidth": 0,
             "ticks": ""
            },
            "colorscale": [
             [
              0,
              "#0d0887"
             ],
             [
              0.1111111111111111,
              "#46039f"
             ],
             [
              0.2222222222222222,
              "#7201a8"
             ],
             [
              0.3333333333333333,
              "#9c179e"
             ],
             [
              0.4444444444444444,
              "#bd3786"
             ],
             [
              0.5555555555555556,
              "#d8576b"
             ],
             [
              0.6666666666666666,
              "#ed7953"
             ],
             [
              0.7777777777777778,
              "#fb9f3a"
             ],
             [
              0.8888888888888888,
              "#fdca26"
             ],
             [
              1,
              "#f0f921"
             ]
            ],
            "type": "histogram2d"
           }
          ],
          "histogram2dcontour": [
           {
            "colorbar": {
             "outlinewidth": 0,
             "ticks": ""
            },
            "colorscale": [
             [
              0,
              "#0d0887"
             ],
             [
              0.1111111111111111,
              "#46039f"
             ],
             [
              0.2222222222222222,
              "#7201a8"
             ],
             [
              0.3333333333333333,
              "#9c179e"
             ],
             [
              0.4444444444444444,
              "#bd3786"
             ],
             [
              0.5555555555555556,
              "#d8576b"
             ],
             [
              0.6666666666666666,
              "#ed7953"
             ],
             [
              0.7777777777777778,
              "#fb9f3a"
             ],
             [
              0.8888888888888888,
              "#fdca26"
             ],
             [
              1,
              "#f0f921"
             ]
            ],
            "type": "histogram2dcontour"
           }
          ],
          "mesh3d": [
           {
            "colorbar": {
             "outlinewidth": 0,
             "ticks": ""
            },
            "type": "mesh3d"
           }
          ],
          "parcoords": [
           {
            "line": {
             "colorbar": {
              "outlinewidth": 0,
              "ticks": ""
             }
            },
            "type": "parcoords"
           }
          ],
          "pie": [
           {
            "automargin": true,
            "type": "pie"
           }
          ],
          "scatter": [
           {
            "marker": {
             "colorbar": {
              "outlinewidth": 0,
              "ticks": ""
             }
            },
            "type": "scatter"
           }
          ],
          "scatter3d": [
           {
            "line": {
             "colorbar": {
              "outlinewidth": 0,
              "ticks": ""
             }
            },
            "marker": {
             "colorbar": {
              "outlinewidth": 0,
              "ticks": ""
             }
            },
            "type": "scatter3d"
           }
          ],
          "scattercarpet": [
           {
            "marker": {
             "colorbar": {
              "outlinewidth": 0,
              "ticks": ""
             }
            },
            "type": "scattercarpet"
           }
          ],
          "scattergeo": [
           {
            "marker": {
             "colorbar": {
              "outlinewidth": 0,
              "ticks": ""
             }
            },
            "type": "scattergeo"
           }
          ],
          "scattergl": [
           {
            "marker": {
             "colorbar": {
              "outlinewidth": 0,
              "ticks": ""
             }
            },
            "type": "scattergl"
           }
          ],
          "scattermapbox": [
           {
            "marker": {
             "colorbar": {
              "outlinewidth": 0,
              "ticks": ""
             }
            },
            "type": "scattermapbox"
           }
          ],
          "scatterpolar": [
           {
            "marker": {
             "colorbar": {
              "outlinewidth": 0,
              "ticks": ""
             }
            },
            "type": "scatterpolar"
           }
          ],
          "scatterpolargl": [
           {
            "marker": {
             "colorbar": {
              "outlinewidth": 0,
              "ticks": ""
             }
            },
            "type": "scatterpolargl"
           }
          ],
          "scatterternary": [
           {
            "marker": {
             "colorbar": {
              "outlinewidth": 0,
              "ticks": ""
             }
            },
            "type": "scatterternary"
           }
          ],
          "surface": [
           {
            "colorbar": {
             "outlinewidth": 0,
             "ticks": ""
            },
            "colorscale": [
             [
              0,
              "#0d0887"
             ],
             [
              0.1111111111111111,
              "#46039f"
             ],
             [
              0.2222222222222222,
              "#7201a8"
             ],
             [
              0.3333333333333333,
              "#9c179e"
             ],
             [
              0.4444444444444444,
              "#bd3786"
             ],
             [
              0.5555555555555556,
              "#d8576b"
             ],
             [
              0.6666666666666666,
              "#ed7953"
             ],
             [
              0.7777777777777778,
              "#fb9f3a"
             ],
             [
              0.8888888888888888,
              "#fdca26"
             ],
             [
              1,
              "#f0f921"
             ]
            ],
            "type": "surface"
           }
          ],
          "table": [
           {
            "cells": {
             "fill": {
              "color": "#EBF0F8"
             },
             "line": {
              "color": "white"
             }
            },
            "header": {
             "fill": {
              "color": "#C8D4E3"
             },
             "line": {
              "color": "white"
             }
            },
            "type": "table"
           }
          ]
         },
         "layout": {
          "annotationdefaults": {
           "arrowcolor": "#2a3f5f",
           "arrowhead": 0,
           "arrowwidth": 1
          },
          "coloraxis": {
           "colorbar": {
            "outlinewidth": 0,
            "ticks": ""
           }
          },
          "colorscale": {
           "diverging": [
            [
             0,
             "#8e0152"
            ],
            [
             0.1,
             "#c51b7d"
            ],
            [
             0.2,
             "#de77ae"
            ],
            [
             0.3,
             "#f1b6da"
            ],
            [
             0.4,
             "#fde0ef"
            ],
            [
             0.5,
             "#f7f7f7"
            ],
            [
             0.6,
             "#e6f5d0"
            ],
            [
             0.7,
             "#b8e186"
            ],
            [
             0.8,
             "#7fbc41"
            ],
            [
             0.9,
             "#4d9221"
            ],
            [
             1,
             "#276419"
            ]
           ],
           "sequential": [
            [
             0,
             "#0d0887"
            ],
            [
             0.1111111111111111,
             "#46039f"
            ],
            [
             0.2222222222222222,
             "#7201a8"
            ],
            [
             0.3333333333333333,
             "#9c179e"
            ],
            [
             0.4444444444444444,
             "#bd3786"
            ],
            [
             0.5555555555555556,
             "#d8576b"
            ],
            [
             0.6666666666666666,
             "#ed7953"
            ],
            [
             0.7777777777777778,
             "#fb9f3a"
            ],
            [
             0.8888888888888888,
             "#fdca26"
            ],
            [
             1,
             "#f0f921"
            ]
           ],
           "sequentialminus": [
            [
             0,
             "#0d0887"
            ],
            [
             0.1111111111111111,
             "#46039f"
            ],
            [
             0.2222222222222222,
             "#7201a8"
            ],
            [
             0.3333333333333333,
             "#9c179e"
            ],
            [
             0.4444444444444444,
             "#bd3786"
            ],
            [
             0.5555555555555556,
             "#d8576b"
            ],
            [
             0.6666666666666666,
             "#ed7953"
            ],
            [
             0.7777777777777778,
             "#fb9f3a"
            ],
            [
             0.8888888888888888,
             "#fdca26"
            ],
            [
             1,
             "#f0f921"
            ]
           ]
          },
          "colorway": [
           "#636efa",
           "#EF553B",
           "#00cc96",
           "#ab63fa",
           "#FFA15A",
           "#19d3f3",
           "#FF6692",
           "#B6E880",
           "#FF97FF",
           "#FECB52"
          ],
          "font": {
           "color": "#2a3f5f"
          },
          "geo": {
           "bgcolor": "white",
           "lakecolor": "white",
           "landcolor": "#E5ECF6",
           "showlakes": true,
           "showland": true,
           "subunitcolor": "white"
          },
          "hoverlabel": {
           "align": "left"
          },
          "hovermode": "closest",
          "mapbox": {
           "style": "light"
          },
          "paper_bgcolor": "white",
          "plot_bgcolor": "#E5ECF6",
          "polar": {
           "angularaxis": {
            "gridcolor": "white",
            "linecolor": "white",
            "ticks": ""
           },
           "bgcolor": "#E5ECF6",
           "radialaxis": {
            "gridcolor": "white",
            "linecolor": "white",
            "ticks": ""
           }
          },
          "scene": {
           "xaxis": {
            "backgroundcolor": "#E5ECF6",
            "gridcolor": "white",
            "gridwidth": 2,
            "linecolor": "white",
            "showbackground": true,
            "ticks": "",
            "zerolinecolor": "white"
           },
           "yaxis": {
            "backgroundcolor": "#E5ECF6",
            "gridcolor": "white",
            "gridwidth": 2,
            "linecolor": "white",
            "showbackground": true,
            "ticks": "",
            "zerolinecolor": "white"
           },
           "zaxis": {
            "backgroundcolor": "#E5ECF6",
            "gridcolor": "white",
            "gridwidth": 2,
            "linecolor": "white",
            "showbackground": true,
            "ticks": "",
            "zerolinecolor": "white"
           }
          },
          "shapedefaults": {
           "line": {
            "color": "#2a3f5f"
           }
          },
          "ternary": {
           "aaxis": {
            "gridcolor": "white",
            "linecolor": "white",
            "ticks": ""
           },
           "baxis": {
            "gridcolor": "white",
            "linecolor": "white",
            "ticks": ""
           },
           "bgcolor": "#E5ECF6",
           "caxis": {
            "gridcolor": "white",
            "linecolor": "white",
            "ticks": ""
           }
          },
          "title": {
           "x": 0.05
          },
          "xaxis": {
           "automargin": true,
           "gridcolor": "white",
           "linecolor": "white",
           "ticks": "",
           "title": {
            "standoff": 15
           },
           "zerolinecolor": "white",
           "zerolinewidth": 2
          },
          "yaxis": {
           "automargin": true,
           "gridcolor": "white",
           "linecolor": "white",
           "ticks": "",
           "title": {
            "standoff": 15
           },
           "zerolinecolor": "white",
           "zerolinewidth": 2
          }
         }
        },
        "title": {
         "text": "Coherence Value and # of Topics"
        },
        "xaxis": {
         "anchor": "y",
         "domain": [
          0,
          1
         ],
         "title": {
          "text": "# Topics"
         }
        },
        "yaxis": {
         "anchor": "x",
         "domain": [
          0,
          1
         ],
         "title": {
          "text": "Score"
         }
        }
       }
      },
      "text/html": [
       "<div>\n",
       "        \n",
       "        \n",
       "            <div id=\"b31037d1-0d35-496c-a43c-fce42d2fcced\" class=\"plotly-graph-div\" style=\"height:525px; width:100%;\"></div>\n",
       "            <script type=\"text/javascript\">\n",
       "                require([\"plotly\"], function(Plotly) {\n",
       "                    window.PLOTLYENV=window.PLOTLYENV || {};\n",
       "                    \n",
       "                if (document.getElementById(\"b31037d1-0d35-496c-a43c-fce42d2fcced\")) {\n",
       "                    Plotly.newPlot(\n",
       "                        'b31037d1-0d35-496c-a43c-fce42d2fcced',\n",
       "                        [{\"hovertemplate\": \"Metric=Coherence<br># Topics=%{x}<br>Score=%{y}<extra></extra>\", \"legendgroup\": \"Coherence\", \"line\": {\"color\": \"#636efa\", \"dash\": \"solid\", \"shape\": \"linear\"}, \"mode\": \"lines\", \"name\": \"Coherence\", \"orientation\": \"v\", \"showlegend\": true, \"type\": \"scatter\", \"x\": [2, 4, 8, 16, 32, 64, 100, 200, 300, 400], \"xaxis\": \"x\", \"y\": [0.43658178703022577, 0.47584281233708847, 0.38739046287788426, 0.39694582710427917, 0.39351215061891465, 0.4280700442721428, 0.4329209055405907, 0.4609625567858698, 0.46555573070602935, 0.4705350191022225], \"yaxis\": \"y\"}],\n",
       "                        {\"legend\": {\"title\": {\"text\": \"Metric\"}, \"tracegroupgap\": 0}, \"plot_bgcolor\": \"rgb(245,245,245)\", \"template\": {\"data\": {\"bar\": [{\"error_x\": {\"color\": \"#2a3f5f\"}, \"error_y\": {\"color\": \"#2a3f5f\"}, \"marker\": {\"line\": {\"color\": \"#E5ECF6\", \"width\": 0.5}}, \"type\": \"bar\"}], \"barpolar\": [{\"marker\": {\"line\": {\"color\": \"#E5ECF6\", \"width\": 0.5}}, \"type\": \"barpolar\"}], \"carpet\": [{\"aaxis\": {\"endlinecolor\": \"#2a3f5f\", \"gridcolor\": \"white\", \"linecolor\": \"white\", \"minorgridcolor\": \"white\", \"startlinecolor\": \"#2a3f5f\"}, \"baxis\": {\"endlinecolor\": \"#2a3f5f\", \"gridcolor\": \"white\", \"linecolor\": \"white\", \"minorgridcolor\": \"white\", \"startlinecolor\": \"#2a3f5f\"}, \"type\": \"carpet\"}], \"choropleth\": [{\"colorbar\": {\"outlinewidth\": 0, \"ticks\": \"\"}, \"type\": \"choropleth\"}], \"contour\": [{\"colorbar\": {\"outlinewidth\": 0, \"ticks\": \"\"}, \"colorscale\": [[0.0, \"#0d0887\"], [0.1111111111111111, \"#46039f\"], [0.2222222222222222, \"#7201a8\"], [0.3333333333333333, \"#9c179e\"], [0.4444444444444444, \"#bd3786\"], [0.5555555555555556, \"#d8576b\"], [0.6666666666666666, \"#ed7953\"], [0.7777777777777778, \"#fb9f3a\"], [0.8888888888888888, \"#fdca26\"], [1.0, \"#f0f921\"]], \"type\": \"contour\"}], \"contourcarpet\": [{\"colorbar\": {\"outlinewidth\": 0, \"ticks\": \"\"}, \"type\": \"contourcarpet\"}], \"heatmap\": [{\"colorbar\": {\"outlinewidth\": 0, \"ticks\": \"\"}, \"colorscale\": [[0.0, \"#0d0887\"], [0.1111111111111111, \"#46039f\"], [0.2222222222222222, \"#7201a8\"], [0.3333333333333333, \"#9c179e\"], [0.4444444444444444, \"#bd3786\"], [0.5555555555555556, \"#d8576b\"], [0.6666666666666666, \"#ed7953\"], [0.7777777777777778, \"#fb9f3a\"], [0.8888888888888888, \"#fdca26\"], [1.0, \"#f0f921\"]], \"type\": \"heatmap\"}], \"heatmapgl\": [{\"colorbar\": {\"outlinewidth\": 0, \"ticks\": \"\"}, \"colorscale\": [[0.0, \"#0d0887\"], [0.1111111111111111, \"#46039f\"], [0.2222222222222222, \"#7201a8\"], [0.3333333333333333, \"#9c179e\"], [0.4444444444444444, \"#bd3786\"], [0.5555555555555556, \"#d8576b\"], [0.6666666666666666, \"#ed7953\"], [0.7777777777777778, \"#fb9f3a\"], [0.8888888888888888, \"#fdca26\"], [1.0, \"#f0f921\"]], \"type\": \"heatmapgl\"}], \"histogram\": [{\"marker\": {\"colorbar\": {\"outlinewidth\": 0, \"ticks\": \"\"}}, \"type\": \"histogram\"}], \"histogram2d\": [{\"colorbar\": {\"outlinewidth\": 0, \"ticks\": \"\"}, \"colorscale\": [[0.0, \"#0d0887\"], [0.1111111111111111, \"#46039f\"], [0.2222222222222222, \"#7201a8\"], [0.3333333333333333, \"#9c179e\"], [0.4444444444444444, \"#bd3786\"], [0.5555555555555556, \"#d8576b\"], [0.6666666666666666, \"#ed7953\"], [0.7777777777777778, \"#fb9f3a\"], [0.8888888888888888, \"#fdca26\"], [1.0, \"#f0f921\"]], \"type\": \"histogram2d\"}], \"histogram2dcontour\": [{\"colorbar\": {\"outlinewidth\": 0, \"ticks\": \"\"}, \"colorscale\": [[0.0, \"#0d0887\"], [0.1111111111111111, \"#46039f\"], [0.2222222222222222, \"#7201a8\"], [0.3333333333333333, \"#9c179e\"], [0.4444444444444444, \"#bd3786\"], [0.5555555555555556, \"#d8576b\"], [0.6666666666666666, \"#ed7953\"], [0.7777777777777778, \"#fb9f3a\"], [0.8888888888888888, \"#fdca26\"], [1.0, \"#f0f921\"]], \"type\": \"histogram2dcontour\"}], \"mesh3d\": [{\"colorbar\": {\"outlinewidth\": 0, \"ticks\": \"\"}, \"type\": \"mesh3d\"}], \"parcoords\": [{\"line\": {\"colorbar\": {\"outlinewidth\": 0, \"ticks\": \"\"}}, \"type\": \"parcoords\"}], \"pie\": [{\"automargin\": true, \"type\": \"pie\"}], \"scatter\": [{\"marker\": {\"colorbar\": {\"outlinewidth\": 0, \"ticks\": \"\"}}, \"type\": \"scatter\"}], \"scatter3d\": [{\"line\": {\"colorbar\": {\"outlinewidth\": 0, \"ticks\": \"\"}}, \"marker\": {\"colorbar\": {\"outlinewidth\": 0, \"ticks\": \"\"}}, \"type\": \"scatter3d\"}], \"scattercarpet\": [{\"marker\": {\"colorbar\": {\"outlinewidth\": 0, \"ticks\": \"\"}}, \"type\": \"scattercarpet\"}], \"scattergeo\": [{\"marker\": {\"colorbar\": {\"outlinewidth\": 0, \"ticks\": \"\"}}, \"type\": \"scattergeo\"}], \"scattergl\": [{\"marker\": {\"colorbar\": {\"outlinewidth\": 0, \"ticks\": \"\"}}, \"type\": \"scattergl\"}], \"scattermapbox\": [{\"marker\": {\"colorbar\": {\"outlinewidth\": 0, \"ticks\": \"\"}}, \"type\": \"scattermapbox\"}], \"scatterpolar\": [{\"marker\": {\"colorbar\": {\"outlinewidth\": 0, \"ticks\": \"\"}}, \"type\": \"scatterpolar\"}], \"scatterpolargl\": [{\"marker\": {\"colorbar\": {\"outlinewidth\": 0, \"ticks\": \"\"}}, \"type\": \"scatterpolargl\"}], \"scatterternary\": [{\"marker\": {\"colorbar\": {\"outlinewidth\": 0, \"ticks\": \"\"}}, \"type\": \"scatterternary\"}], \"surface\": [{\"colorbar\": {\"outlinewidth\": 0, \"ticks\": \"\"}, \"colorscale\": [[0.0, \"#0d0887\"], [0.1111111111111111, \"#46039f\"], [0.2222222222222222, \"#7201a8\"], [0.3333333333333333, \"#9c179e\"], [0.4444444444444444, \"#bd3786\"], [0.5555555555555556, \"#d8576b\"], [0.6666666666666666, \"#ed7953\"], [0.7777777777777778, \"#fb9f3a\"], [0.8888888888888888, \"#fdca26\"], [1.0, \"#f0f921\"]], \"type\": \"surface\"}], \"table\": [{\"cells\": {\"fill\": {\"color\": \"#EBF0F8\"}, \"line\": {\"color\": \"white\"}}, \"header\": {\"fill\": {\"color\": \"#C8D4E3\"}, \"line\": {\"color\": \"white\"}}, \"type\": \"table\"}]}, \"layout\": {\"annotationdefaults\": {\"arrowcolor\": \"#2a3f5f\", \"arrowhead\": 0, \"arrowwidth\": 1}, \"coloraxis\": {\"colorbar\": {\"outlinewidth\": 0, \"ticks\": \"\"}}, \"colorscale\": {\"diverging\": [[0, \"#8e0152\"], [0.1, \"#c51b7d\"], [0.2, \"#de77ae\"], [0.3, \"#f1b6da\"], [0.4, \"#fde0ef\"], [0.5, \"#f7f7f7\"], [0.6, \"#e6f5d0\"], [0.7, \"#b8e186\"], [0.8, \"#7fbc41\"], [0.9, \"#4d9221\"], [1, \"#276419\"]], \"sequential\": [[0.0, \"#0d0887\"], [0.1111111111111111, \"#46039f\"], [0.2222222222222222, \"#7201a8\"], [0.3333333333333333, \"#9c179e\"], [0.4444444444444444, \"#bd3786\"], [0.5555555555555556, \"#d8576b\"], [0.6666666666666666, \"#ed7953\"], [0.7777777777777778, \"#fb9f3a\"], [0.8888888888888888, \"#fdca26\"], [1.0, \"#f0f921\"]], \"sequentialminus\": [[0.0, \"#0d0887\"], [0.1111111111111111, \"#46039f\"], [0.2222222222222222, \"#7201a8\"], [0.3333333333333333, \"#9c179e\"], [0.4444444444444444, \"#bd3786\"], [0.5555555555555556, \"#d8576b\"], [0.6666666666666666, \"#ed7953\"], [0.7777777777777778, \"#fb9f3a\"], [0.8888888888888888, \"#fdca26\"], [1.0, \"#f0f921\"]]}, \"colorway\": [\"#636efa\", \"#EF553B\", \"#00cc96\", \"#ab63fa\", \"#FFA15A\", \"#19d3f3\", \"#FF6692\", \"#B6E880\", \"#FF97FF\", \"#FECB52\"], \"font\": {\"color\": \"#2a3f5f\"}, \"geo\": {\"bgcolor\": \"white\", \"lakecolor\": \"white\", \"landcolor\": \"#E5ECF6\", \"showlakes\": true, \"showland\": true, \"subunitcolor\": \"white\"}, \"hoverlabel\": {\"align\": \"left\"}, \"hovermode\": \"closest\", \"mapbox\": {\"style\": \"light\"}, \"paper_bgcolor\": \"white\", \"plot_bgcolor\": \"#E5ECF6\", \"polar\": {\"angularaxis\": {\"gridcolor\": \"white\", \"linecolor\": \"white\", \"ticks\": \"\"}, \"bgcolor\": \"#E5ECF6\", \"radialaxis\": {\"gridcolor\": \"white\", \"linecolor\": \"white\", \"ticks\": \"\"}}, \"scene\": {\"xaxis\": {\"backgroundcolor\": \"#E5ECF6\", \"gridcolor\": \"white\", \"gridwidth\": 2, \"linecolor\": \"white\", \"showbackground\": true, \"ticks\": \"\", \"zerolinecolor\": \"white\"}, \"yaxis\": {\"backgroundcolor\": \"#E5ECF6\", \"gridcolor\": \"white\", \"gridwidth\": 2, \"linecolor\": \"white\", \"showbackground\": true, \"ticks\": \"\", \"zerolinecolor\": \"white\"}, \"zaxis\": {\"backgroundcolor\": \"#E5ECF6\", \"gridcolor\": \"white\", \"gridwidth\": 2, \"linecolor\": \"white\", \"showbackground\": true, \"ticks\": \"\", \"zerolinecolor\": \"white\"}}, \"shapedefaults\": {\"line\": {\"color\": \"#2a3f5f\"}}, \"ternary\": {\"aaxis\": {\"gridcolor\": \"white\", \"linecolor\": \"white\", \"ticks\": \"\"}, \"baxis\": {\"gridcolor\": \"white\", \"linecolor\": \"white\", \"ticks\": \"\"}, \"bgcolor\": \"#E5ECF6\", \"caxis\": {\"gridcolor\": \"white\", \"linecolor\": \"white\", \"ticks\": \"\"}}, \"title\": {\"x\": 0.05}, \"xaxis\": {\"automargin\": true, \"gridcolor\": \"white\", \"linecolor\": \"white\", \"ticks\": \"\", \"title\": {\"standoff\": 15}, \"zerolinecolor\": \"white\", \"zerolinewidth\": 2}, \"yaxis\": {\"automargin\": true, \"gridcolor\": \"white\", \"linecolor\": \"white\", \"ticks\": \"\", \"title\": {\"standoff\": 15}, \"zerolinecolor\": \"white\", \"zerolinewidth\": 2}}}, \"title\": {\"text\": \"Coherence Value and # of Topics\"}, \"xaxis\": {\"anchor\": \"y\", \"domain\": [0.0, 1.0], \"title\": {\"text\": \"# Topics\"}}, \"yaxis\": {\"anchor\": \"x\", \"domain\": [0.0, 1.0], \"title\": {\"text\": \"Score\"}}},\n",
       "                        {\"responsive\": true}\n",
       "                    ).then(function(){\n",
       "                            \n",
       "var gd = document.getElementById('b31037d1-0d35-496c-a43c-fce42d2fcced');\n",
       "var x = new MutationObserver(function (mutations, observer) {{\n",
       "        var display = window.getComputedStyle(gd).display;\n",
       "        if (!display || display === 'none') {{\n",
       "            console.log([gd, 'removed!']);\n",
       "            Plotly.purge(gd);\n",
       "            observer.disconnect();\n",
       "        }}\n",
       "}});\n",
       "\n",
       "// Listen for the removal of the full notebook cells\n",
       "var notebookContainer = gd.closest('#notebook-container');\n",
       "if (notebookContainer) {{\n",
       "    x.observe(notebookContainer, {childList: true});\n",
       "}}\n",
       "\n",
       "// Listen for the clearing of the current output cell\n",
       "var outputEl = gd.closest('.output');\n",
       "if (outputEl) {{\n",
       "    x.observe(outputEl, {childList: true});\n",
       "}}\n",
       "\n",
       "                        })\n",
       "                };\n",
       "                });\n",
       "            </script>\n",
       "        </div>"
      ]
     },
     "metadata": {},
     "output_type": "display_data"
    },
    {
     "name": "stdout",
     "output_type": "stream",
     "text": [
      "Best Model: Latent Dirichlet Allocation | # Topics: 4 | Coherence: 0.4758\n"
     ]
    }
   ],
   "source": [
    "tune_lda_positive = tune_model(model='lda', supervised_target=None, estimator='xgboost')"
   ]
  },
  {
   "cell_type": "code",
   "execution_count": 11,
   "metadata": {},
   "outputs": [
    {
     "data": {
      "text/html": [
       "<div>\n",
       "<style scoped>\n",
       "    .dataframe tbody tr th:only-of-type {\n",
       "        vertical-align: middle;\n",
       "    }\n",
       "\n",
       "    .dataframe tbody tr th {\n",
       "        vertical-align: top;\n",
       "    }\n",
       "\n",
       "    .dataframe thead th {\n",
       "        text-align: right;\n",
       "    }\n",
       "</style>\n",
       "<table border=\"1\" class=\"dataframe\">\n",
       "  <thead>\n",
       "    <tr style=\"text-align: right;\">\n",
       "      <th></th>\n",
       "      <th>Unnamed: 0</th>\n",
       "      <th>r_points</th>\n",
       "      <th>r_text</th>\n",
       "      <th>place</th>\n",
       "      <th>Unnamed: 3</th>\n",
       "      <th>Unnamed: 4</th>\n",
       "      <th>Unnamed: 5</th>\n",
       "      <th>Unnamed: 6</th>\n",
       "      <th>scores</th>\n",
       "      <th>compound</th>\n",
       "      <th>score</th>\n",
       "    </tr>\n",
       "  </thead>\n",
       "  <tbody>\n",
       "    <tr>\n",
       "      <th>0</th>\n",
       "      <td>1</td>\n",
       "      <td>10</td>\n",
       "      <td>the Asty is a bad bad bad hotel. without a dou...</td>\n",
       "      <td>Asty Hotel</td>\n",
       "      <td>Review 326 Similarity</td>\n",
       "      <td>0.236067</td>\n",
       "      <td>Review 262 Similarity</td>\n",
       "      <td>1.000000</td>\n",
       "      <td>{'neg': 0.12, 'neu': 0.804, 'pos': 0.076, 'com...</td>\n",
       "      <td>-0.6347</td>\n",
       "      <td>neg</td>\n",
       "    </tr>\n",
       "    <tr>\n",
       "      <th>1</th>\n",
       "      <td>3</td>\n",
       "      <td>20</td>\n",
       "      <td>I had the night from hell as we came in very t...</td>\n",
       "      <td>Asty Hotel</td>\n",
       "      <td>Review 361 Similarity</td>\n",
       "      <td>0.206835</td>\n",
       "      <td>Review 276 Similarity</td>\n",
       "      <td>0.507833</td>\n",
       "      <td>{'neg': 0.157, 'neu': 0.754, 'pos': 0.089, 'co...</td>\n",
       "      <td>-0.9099</td>\n",
       "      <td>neg</td>\n",
       "    </tr>\n",
       "    <tr>\n",
       "      <th>2</th>\n",
       "      <td>8</td>\n",
       "      <td>20</td>\n",
       "      <td>We were in shock to find that this low priced ...</td>\n",
       "      <td>Asty Hotel</td>\n",
       "      <td>Review 292 Similarity</td>\n",
       "      <td>0.221404</td>\n",
       "      <td>Review 266 Similarity</td>\n",
       "      <td>0.473879</td>\n",
       "      <td>{'neg': 0.091, 'neu': 0.851, 'pos': 0.058, 'co...</td>\n",
       "      <td>-0.6464</td>\n",
       "      <td>neg</td>\n",
       "    </tr>\n",
       "    <tr>\n",
       "      <th>3</th>\n",
       "      <td>25</td>\n",
       "      <td>20</td>\n",
       "      <td>we have been one night for business trip, and ...</td>\n",
       "      <td>Asty Hotel</td>\n",
       "      <td>Review 332 Similarity</td>\n",
       "      <td>0.332351</td>\n",
       "      <td>Review 202 Similarity</td>\n",
       "      <td>0.410391</td>\n",
       "      <td>{'neg': 0.05, 'neu': 0.915, 'pos': 0.035, 'com...</td>\n",
       "      <td>-0.3818</td>\n",
       "      <td>neg</td>\n",
       "    </tr>\n",
       "    <tr>\n",
       "      <th>4</th>\n",
       "      <td>129</td>\n",
       "      <td>10</td>\n",
       "      <td>Was greeted by the reception by a very unfrien...</td>\n",
       "      <td>Asty Hotel</td>\n",
       "      <td>Review 393 Similarity</td>\n",
       "      <td>0.354246</td>\n",
       "      <td>Review 182 Similarity</td>\n",
       "      <td>0.245256</td>\n",
       "      <td>{'neg': 0.123, 'neu': 0.814, 'pos': 0.063, 'co...</td>\n",
       "      <td>-0.6163</td>\n",
       "      <td>neg</td>\n",
       "    </tr>\n",
       "    <tr>\n",
       "      <th>5</th>\n",
       "      <td>176</td>\n",
       "      <td>10</td>\n",
       "      <td>The (N)Asty Hotel, should be avoided at all co...</td>\n",
       "      <td>Asty Hotel</td>\n",
       "      <td>Review 409 Similarity</td>\n",
       "      <td>0.140028</td>\n",
       "      <td>Review 294 Similarity</td>\n",
       "      <td>0.187317</td>\n",
       "      <td>{'neg': 0.183, 'neu': 0.777, 'pos': 0.04, 'com...</td>\n",
       "      <td>-0.8316</td>\n",
       "      <td>neg</td>\n",
       "    </tr>\n",
       "    <tr>\n",
       "      <th>6</th>\n",
       "      <td>235</td>\n",
       "      <td>10</td>\n",
       "      <td>The manager was very rude. The prices are infl...</td>\n",
       "      <td>Asty Hotel</td>\n",
       "      <td>Review 173 Similarity</td>\n",
       "      <td>0.230089</td>\n",
       "      <td>Review 263 Similarity</td>\n",
       "      <td>0.114708</td>\n",
       "      <td>{'neg': 0.199, 'neu': 0.688, 'pos': 0.113, 'co...</td>\n",
       "      <td>-0.3618</td>\n",
       "      <td>neg</td>\n",
       "    </tr>\n",
       "    <tr>\n",
       "      <th>7</th>\n",
       "      <td>238</td>\n",
       "      <td>30</td>\n",
       "      <td>I stayed here for around 4 days on a business ...</td>\n",
       "      <td>Asty Hotel</td>\n",
       "      <td>Review 357 Similarity</td>\n",
       "      <td>0.000000</td>\n",
       "      <td>Review 303 Similarity</td>\n",
       "      <td>0.114708</td>\n",
       "      <td>{'neg': 0.097, 'neu': 0.903, 'pos': 0.0, 'comp...</td>\n",
       "      <td>-0.5965</td>\n",
       "      <td>neg</td>\n",
       "    </tr>\n",
       "    <tr>\n",
       "      <th>8</th>\n",
       "      <td>291</td>\n",
       "      <td>10</td>\n",
       "      <td>I feared for my life in this hotelI would not ...</td>\n",
       "      <td>Asty Hotel</td>\n",
       "      <td>Review 408 Similarity</td>\n",
       "      <td>0.171499</td>\n",
       "      <td>Review 287 Similarity</td>\n",
       "      <td>0.000000</td>\n",
       "      <td>{'neg': 0.326, 'neu': 0.674, 'pos': 0.0, 'comp...</td>\n",
       "      <td>-0.6497</td>\n",
       "      <td>neg</td>\n",
       "    </tr>\n",
       "    <tr>\n",
       "      <th>9</th>\n",
       "      <td>293</td>\n",
       "      <td>30</td>\n",
       "      <td>The room was basic, clean and quiet, but the l...</td>\n",
       "      <td>Asty Hotel</td>\n",
       "      <td>Review 12 Similarity</td>\n",
       "      <td>0.129641</td>\n",
       "      <td>Review 296 Similarity</td>\n",
       "      <td>0.000000</td>\n",
       "      <td>{'neg': 0.084, 'neu': 0.835, 'pos': 0.081, 'co...</td>\n",
       "      <td>-0.0581</td>\n",
       "      <td>neg</td>\n",
       "    </tr>\n",
       "    <tr>\n",
       "      <th>10</th>\n",
       "      <td>297</td>\n",
       "      <td>10</td>\n",
       "      <td>I tried to ne in this hotel in October. I made...</td>\n",
       "      <td>Hypnos by Bed n Mix</td>\n",
       "      <td>Review 22 Similarity</td>\n",
       "      <td>0.316228</td>\n",
       "      <td>Review 18 Similarity</td>\n",
       "      <td>1.000000</td>\n",
       "      <td>{'neg': 0.189, 'neu': 0.811, 'pos': 0.0, 'comp...</td>\n",
       "      <td>-0.8430</td>\n",
       "      <td>neg</td>\n",
       "    </tr>\n",
       "  </tbody>\n",
       "</table>\n",
       "</div>"
      ],
      "text/plain": [
       "    Unnamed: 0  r_points                                             r_text  \\\n",
       "0            1        10  the Asty is a bad bad bad hotel. without a dou...   \n",
       "1            3        20  I had the night from hell as we came in very t...   \n",
       "2            8        20  We were in shock to find that this low priced ...   \n",
       "3           25        20  we have been one night for business trip, and ...   \n",
       "4          129        10  Was greeted by the reception by a very unfrien...   \n",
       "5          176        10  The (N)Asty Hotel, should be avoided at all co...   \n",
       "6          235        10  The manager was very rude. The prices are infl...   \n",
       "7          238        30  I stayed here for around 4 days on a business ...   \n",
       "8          291        10  I feared for my life in this hotelI would not ...   \n",
       "9          293        30  The room was basic, clean and quiet, but the l...   \n",
       "10         297        10  I tried to ne in this hotel in October. I made...   \n",
       "\n",
       "                  place             Unnamed: 3  Unnamed: 4  \\\n",
       "0            Asty Hotel  Review 326 Similarity    0.236067   \n",
       "1            Asty Hotel  Review 361 Similarity    0.206835   \n",
       "2            Asty Hotel  Review 292 Similarity    0.221404   \n",
       "3            Asty Hotel  Review 332 Similarity    0.332351   \n",
       "4            Asty Hotel  Review 393 Similarity    0.354246   \n",
       "5            Asty Hotel  Review 409 Similarity    0.140028   \n",
       "6            Asty Hotel  Review 173 Similarity    0.230089   \n",
       "7            Asty Hotel  Review 357 Similarity    0.000000   \n",
       "8            Asty Hotel  Review 408 Similarity    0.171499   \n",
       "9            Asty Hotel   Review 12 Similarity    0.129641   \n",
       "10  Hypnos by Bed n Mix   Review 22 Similarity    0.316228   \n",
       "\n",
       "               Unnamed: 5  Unnamed: 6  \\\n",
       "0   Review 262 Similarity    1.000000   \n",
       "1   Review 276 Similarity    0.507833   \n",
       "2   Review 266 Similarity    0.473879   \n",
       "3   Review 202 Similarity    0.410391   \n",
       "4   Review 182 Similarity    0.245256   \n",
       "5   Review 294 Similarity    0.187317   \n",
       "6   Review 263 Similarity    0.114708   \n",
       "7   Review 303 Similarity    0.114708   \n",
       "8   Review 287 Similarity    0.000000   \n",
       "9   Review 296 Similarity    0.000000   \n",
       "10   Review 18 Similarity    1.000000   \n",
       "\n",
       "                                               scores  compound score  \n",
       "0   {'neg': 0.12, 'neu': 0.804, 'pos': 0.076, 'com...   -0.6347   neg  \n",
       "1   {'neg': 0.157, 'neu': 0.754, 'pos': 0.089, 'co...   -0.9099   neg  \n",
       "2   {'neg': 0.091, 'neu': 0.851, 'pos': 0.058, 'co...   -0.6464   neg  \n",
       "3   {'neg': 0.05, 'neu': 0.915, 'pos': 0.035, 'com...   -0.3818   neg  \n",
       "4   {'neg': 0.123, 'neu': 0.814, 'pos': 0.063, 'co...   -0.6163   neg  \n",
       "5   {'neg': 0.183, 'neu': 0.777, 'pos': 0.04, 'com...   -0.8316   neg  \n",
       "6   {'neg': 0.199, 'neu': 0.688, 'pos': 0.113, 'co...   -0.3618   neg  \n",
       "7   {'neg': 0.097, 'neu': 0.903, 'pos': 0.0, 'comp...   -0.5965   neg  \n",
       "8   {'neg': 0.326, 'neu': 0.674, 'pos': 0.0, 'comp...   -0.6497   neg  \n",
       "9   {'neg': 0.084, 'neu': 0.835, 'pos': 0.081, 'co...   -0.0581   neg  \n",
       "10  {'neg': 0.189, 'neu': 0.811, 'pos': 0.0, 'comp...   -0.8430   neg  "
      ]
     },
     "execution_count": 11,
     "metadata": {},
     "output_type": "execute_result"
    }
   ],
   "source": [
    "neg_review = pd.read_csv(r'C:\\Users\\Dell\\Desktop\\sentiment_cluster2_neg.csv')\n",
    "neg_review"
   ]
  },
  {
   "cell_type": "code",
   "execution_count": 14,
   "metadata": {},
   "outputs": [
    {
     "data": {
      "text/html": [
       "<style  type=\"text/css\" >\n",
       "</style><table id=\"T_05eabe40_24f3_11eb_bb78_c48e8ff9d2e0\" ><thead>    <tr>        <th class=\"col_heading level0 col0\" >Description</th>        <th class=\"col_heading level0 col1\" >Value</th>    </tr></thead><tbody>\n",
       "                <tr>\n",
       "                                <td id=\"T_05eabe40_24f3_11eb_bb78_c48e8ff9d2e0row0_col0\" class=\"data row0 col0\" >session_id</td>\n",
       "                        <td id=\"T_05eabe40_24f3_11eb_bb78_c48e8ff9d2e0row0_col1\" class=\"data row0 col1\" >3127</td>\n",
       "            </tr>\n",
       "            <tr>\n",
       "                                <td id=\"T_05eabe40_24f3_11eb_bb78_c48e8ff9d2e0row1_col0\" class=\"data row1 col0\" >Documents</td>\n",
       "                        <td id=\"T_05eabe40_24f3_11eb_bb78_c48e8ff9d2e0row1_col1\" class=\"data row1 col1\" >11</td>\n",
       "            </tr>\n",
       "            <tr>\n",
       "                                <td id=\"T_05eabe40_24f3_11eb_bb78_c48e8ff9d2e0row2_col0\" class=\"data row2 col0\" >Vocab Size</td>\n",
       "                        <td id=\"T_05eabe40_24f3_11eb_bb78_c48e8ff9d2e0row2_col1\" class=\"data row2 col1\" >259</td>\n",
       "            </tr>\n",
       "            <tr>\n",
       "                                <td id=\"T_05eabe40_24f3_11eb_bb78_c48e8ff9d2e0row3_col0\" class=\"data row3 col0\" >Custom Stopwords</td>\n",
       "                        <td id=\"T_05eabe40_24f3_11eb_bb78_c48e8ff9d2e0row3_col1\" class=\"data row3 col1\" >True</td>\n",
       "            </tr>\n",
       "    </tbody></table>"
      ],
      "text/plain": [
       "<pandas.io.formats.style.Styler at 0x2277c3fd9c8>"
      ]
     },
     "metadata": {},
     "output_type": "display_data"
    }
   ],
   "source": [
    "exp_nlp_neg = setup(data = neg_review, target = 'r_text',\n",
    "                custom_stopwords = [ 'hotel', 'room', 'nice', 'good'])"
   ]
  },
  {
   "cell_type": "code",
   "execution_count": 15,
   "metadata": {},
   "outputs": [
    {
     "name": "stdout",
     "output_type": "stream",
     "text": [
      "LdaModel(num_terms=259, num_topics=4, decay=0.5, chunksize=100)\n"
     ]
    }
   ],
   "source": [
    "#create an LDA model\n",
    "lda_neg_custom = create_model('lda')\n",
    "print(lda_neg_custom)"
   ]
  },
  {
   "cell_type": "code",
   "execution_count": 16,
   "metadata": {},
   "outputs": [],
   "source": [
    "apply_lda_neg = assign_model(lda_neg_custom)"
   ]
  },
  {
   "cell_type": "code",
   "execution_count": 17,
   "metadata": {},
   "outputs": [
    {
     "data": {
      "application/vnd.jupyter.widget-view+json": {
       "model_id": "3dbe5163a2124afab1f7222d68b33d6f",
       "version_major": 2,
       "version_minor": 0
      },
      "text/plain": [
       "interactive(children=(ToggleButtons(description='Plot Type:', icons=('',), options=(('Frequency Plot', 'freque…"
      ]
     },
     "metadata": {},
     "output_type": "display_data"
    }
   ],
   "source": [
    "evaluate_model(lda_neg_custom)"
   ]
  },
  {
   "cell_type": "code",
   "execution_count": 18,
   "metadata": {},
   "outputs": [
    {
     "data": {
      "application/vnd.jupyter.widget-view+json": {
       "model_id": "",
       "version_major": 2,
       "version_minor": 0
      },
      "text/plain": [
       "IntProgress(value=0, description='Processing: ', max=25)"
      ]
     },
     "metadata": {},
     "output_type": "display_data"
    },
    {
     "data": {
      "application/vnd.jupyter.widget-view+json": {
       "model_id": "25449e99ce4f407abc31768097bcbdc8",
       "version_major": 2,
       "version_minor": 0
      },
      "text/plain": [
       "Output()"
      ]
     },
     "metadata": {},
     "output_type": "display_data"
    },
    {
     "data": {
      "text/html": [
       "        <script type=\"text/javascript\">\n",
       "        window.PlotlyConfig = {MathJaxConfig: 'local'};\n",
       "        if (window.MathJax) {MathJax.Hub.Config({SVG: {font: \"STIX-Web\"}});}\n",
       "        if (typeof require !== 'undefined') {\n",
       "        require.undef(\"plotly\");\n",
       "        requirejs.config({\n",
       "            paths: {\n",
       "                'plotly': ['https://cdn.plot.ly/plotly-latest.min']\n",
       "            }\n",
       "        });\n",
       "        require(['plotly'], function(Plotly) {\n",
       "            window._Plotly = Plotly;\n",
       "        });\n",
       "        }\n",
       "        </script>\n",
       "        "
      ]
     },
     "metadata": {},
     "output_type": "display_data"
    },
    {
     "data": {
      "application/vnd.plotly.v1+json": {
       "config": {
        "plotlyServerURL": "https://plot.ly"
       },
       "data": [
        {
         "hovertemplate": "Metric=Coherence<br># Topics=%{x}<br>Score=%{y}<extra></extra>",
         "legendgroup": "Coherence",
         "line": {
          "color": "#636efa",
          "dash": "solid",
          "shape": "linear"
         },
         "mode": "lines",
         "name": "Coherence",
         "orientation": "v",
         "showlegend": true,
         "type": "scatter",
         "x": [
          2,
          4,
          8,
          16,
          32,
          64,
          100,
          200,
          300,
          400
         ],
         "xaxis": "x",
         "y": [
          0.40733020652113244,
          0.5301001968495153,
          0.7327167034421984,
          0.6624164823556368,
          0.634303419759613,
          0.5901939342656803,
          0.5944656585117791,
          0.5408226268090669,
          0.5290313860368725,
          0.514489413395602
         ],
         "yaxis": "y"
        }
       ],
       "layout": {
        "legend": {
         "title": {
          "text": "Metric"
         },
         "tracegroupgap": 0
        },
        "plot_bgcolor": "rgb(245,245,245)",
        "template": {
         "data": {
          "bar": [
           {
            "error_x": {
             "color": "#2a3f5f"
            },
            "error_y": {
             "color": "#2a3f5f"
            },
            "marker": {
             "line": {
              "color": "#E5ECF6",
              "width": 0.5
             }
            },
            "type": "bar"
           }
          ],
          "barpolar": [
           {
            "marker": {
             "line": {
              "color": "#E5ECF6",
              "width": 0.5
             }
            },
            "type": "barpolar"
           }
          ],
          "carpet": [
           {
            "aaxis": {
             "endlinecolor": "#2a3f5f",
             "gridcolor": "white",
             "linecolor": "white",
             "minorgridcolor": "white",
             "startlinecolor": "#2a3f5f"
            },
            "baxis": {
             "endlinecolor": "#2a3f5f",
             "gridcolor": "white",
             "linecolor": "white",
             "minorgridcolor": "white",
             "startlinecolor": "#2a3f5f"
            },
            "type": "carpet"
           }
          ],
          "choropleth": [
           {
            "colorbar": {
             "outlinewidth": 0,
             "ticks": ""
            },
            "type": "choropleth"
           }
          ],
          "contour": [
           {
            "colorbar": {
             "outlinewidth": 0,
             "ticks": ""
            },
            "colorscale": [
             [
              0,
              "#0d0887"
             ],
             [
              0.1111111111111111,
              "#46039f"
             ],
             [
              0.2222222222222222,
              "#7201a8"
             ],
             [
              0.3333333333333333,
              "#9c179e"
             ],
             [
              0.4444444444444444,
              "#bd3786"
             ],
             [
              0.5555555555555556,
              "#d8576b"
             ],
             [
              0.6666666666666666,
              "#ed7953"
             ],
             [
              0.7777777777777778,
              "#fb9f3a"
             ],
             [
              0.8888888888888888,
              "#fdca26"
             ],
             [
              1,
              "#f0f921"
             ]
            ],
            "type": "contour"
           }
          ],
          "contourcarpet": [
           {
            "colorbar": {
             "outlinewidth": 0,
             "ticks": ""
            },
            "type": "contourcarpet"
           }
          ],
          "heatmap": [
           {
            "colorbar": {
             "outlinewidth": 0,
             "ticks": ""
            },
            "colorscale": [
             [
              0,
              "#0d0887"
             ],
             [
              0.1111111111111111,
              "#46039f"
             ],
             [
              0.2222222222222222,
              "#7201a8"
             ],
             [
              0.3333333333333333,
              "#9c179e"
             ],
             [
              0.4444444444444444,
              "#bd3786"
             ],
             [
              0.5555555555555556,
              "#d8576b"
             ],
             [
              0.6666666666666666,
              "#ed7953"
             ],
             [
              0.7777777777777778,
              "#fb9f3a"
             ],
             [
              0.8888888888888888,
              "#fdca26"
             ],
             [
              1,
              "#f0f921"
             ]
            ],
            "type": "heatmap"
           }
          ],
          "heatmapgl": [
           {
            "colorbar": {
             "outlinewidth": 0,
             "ticks": ""
            },
            "colorscale": [
             [
              0,
              "#0d0887"
             ],
             [
              0.1111111111111111,
              "#46039f"
             ],
             [
              0.2222222222222222,
              "#7201a8"
             ],
             [
              0.3333333333333333,
              "#9c179e"
             ],
             [
              0.4444444444444444,
              "#bd3786"
             ],
             [
              0.5555555555555556,
              "#d8576b"
             ],
             [
              0.6666666666666666,
              "#ed7953"
             ],
             [
              0.7777777777777778,
              "#fb9f3a"
             ],
             [
              0.8888888888888888,
              "#fdca26"
             ],
             [
              1,
              "#f0f921"
             ]
            ],
            "type": "heatmapgl"
           }
          ],
          "histogram": [
           {
            "marker": {
             "colorbar": {
              "outlinewidth": 0,
              "ticks": ""
             }
            },
            "type": "histogram"
           }
          ],
          "histogram2d": [
           {
            "colorbar": {
             "outlinewidth": 0,
             "ticks": ""
            },
            "colorscale": [
             [
              0,
              "#0d0887"
             ],
             [
              0.1111111111111111,
              "#46039f"
             ],
             [
              0.2222222222222222,
              "#7201a8"
             ],
             [
              0.3333333333333333,
              "#9c179e"
             ],
             [
              0.4444444444444444,
              "#bd3786"
             ],
             [
              0.5555555555555556,
              "#d8576b"
             ],
             [
              0.6666666666666666,
              "#ed7953"
             ],
             [
              0.7777777777777778,
              "#fb9f3a"
             ],
             [
              0.8888888888888888,
              "#fdca26"
             ],
             [
              1,
              "#f0f921"
             ]
            ],
            "type": "histogram2d"
           }
          ],
          "histogram2dcontour": [
           {
            "colorbar": {
             "outlinewidth": 0,
             "ticks": ""
            },
            "colorscale": [
             [
              0,
              "#0d0887"
             ],
             [
              0.1111111111111111,
              "#46039f"
             ],
             [
              0.2222222222222222,
              "#7201a8"
             ],
             [
              0.3333333333333333,
              "#9c179e"
             ],
             [
              0.4444444444444444,
              "#bd3786"
             ],
             [
              0.5555555555555556,
              "#d8576b"
             ],
             [
              0.6666666666666666,
              "#ed7953"
             ],
             [
              0.7777777777777778,
              "#fb9f3a"
             ],
             [
              0.8888888888888888,
              "#fdca26"
             ],
             [
              1,
              "#f0f921"
             ]
            ],
            "type": "histogram2dcontour"
           }
          ],
          "mesh3d": [
           {
            "colorbar": {
             "outlinewidth": 0,
             "ticks": ""
            },
            "type": "mesh3d"
           }
          ],
          "parcoords": [
           {
            "line": {
             "colorbar": {
              "outlinewidth": 0,
              "ticks": ""
             }
            },
            "type": "parcoords"
           }
          ],
          "pie": [
           {
            "automargin": true,
            "type": "pie"
           }
          ],
          "scatter": [
           {
            "marker": {
             "colorbar": {
              "outlinewidth": 0,
              "ticks": ""
             }
            },
            "type": "scatter"
           }
          ],
          "scatter3d": [
           {
            "line": {
             "colorbar": {
              "outlinewidth": 0,
              "ticks": ""
             }
            },
            "marker": {
             "colorbar": {
              "outlinewidth": 0,
              "ticks": ""
             }
            },
            "type": "scatter3d"
           }
          ],
          "scattercarpet": [
           {
            "marker": {
             "colorbar": {
              "outlinewidth": 0,
              "ticks": ""
             }
            },
            "type": "scattercarpet"
           }
          ],
          "scattergeo": [
           {
            "marker": {
             "colorbar": {
              "outlinewidth": 0,
              "ticks": ""
             }
            },
            "type": "scattergeo"
           }
          ],
          "scattergl": [
           {
            "marker": {
             "colorbar": {
              "outlinewidth": 0,
              "ticks": ""
             }
            },
            "type": "scattergl"
           }
          ],
          "scattermapbox": [
           {
            "marker": {
             "colorbar": {
              "outlinewidth": 0,
              "ticks": ""
             }
            },
            "type": "scattermapbox"
           }
          ],
          "scatterpolar": [
           {
            "marker": {
             "colorbar": {
              "outlinewidth": 0,
              "ticks": ""
             }
            },
            "type": "scatterpolar"
           }
          ],
          "scatterpolargl": [
           {
            "marker": {
             "colorbar": {
              "outlinewidth": 0,
              "ticks": ""
             }
            },
            "type": "scatterpolargl"
           }
          ],
          "scatterternary": [
           {
            "marker": {
             "colorbar": {
              "outlinewidth": 0,
              "ticks": ""
             }
            },
            "type": "scatterternary"
           }
          ],
          "surface": [
           {
            "colorbar": {
             "outlinewidth": 0,
             "ticks": ""
            },
            "colorscale": [
             [
              0,
              "#0d0887"
             ],
             [
              0.1111111111111111,
              "#46039f"
             ],
             [
              0.2222222222222222,
              "#7201a8"
             ],
             [
              0.3333333333333333,
              "#9c179e"
             ],
             [
              0.4444444444444444,
              "#bd3786"
             ],
             [
              0.5555555555555556,
              "#d8576b"
             ],
             [
              0.6666666666666666,
              "#ed7953"
             ],
             [
              0.7777777777777778,
              "#fb9f3a"
             ],
             [
              0.8888888888888888,
              "#fdca26"
             ],
             [
              1,
              "#f0f921"
             ]
            ],
            "type": "surface"
           }
          ],
          "table": [
           {
            "cells": {
             "fill": {
              "color": "#EBF0F8"
             },
             "line": {
              "color": "white"
             }
            },
            "header": {
             "fill": {
              "color": "#C8D4E3"
             },
             "line": {
              "color": "white"
             }
            },
            "type": "table"
           }
          ]
         },
         "layout": {
          "annotationdefaults": {
           "arrowcolor": "#2a3f5f",
           "arrowhead": 0,
           "arrowwidth": 1
          },
          "coloraxis": {
           "colorbar": {
            "outlinewidth": 0,
            "ticks": ""
           }
          },
          "colorscale": {
           "diverging": [
            [
             0,
             "#8e0152"
            ],
            [
             0.1,
             "#c51b7d"
            ],
            [
             0.2,
             "#de77ae"
            ],
            [
             0.3,
             "#f1b6da"
            ],
            [
             0.4,
             "#fde0ef"
            ],
            [
             0.5,
             "#f7f7f7"
            ],
            [
             0.6,
             "#e6f5d0"
            ],
            [
             0.7,
             "#b8e186"
            ],
            [
             0.8,
             "#7fbc41"
            ],
            [
             0.9,
             "#4d9221"
            ],
            [
             1,
             "#276419"
            ]
           ],
           "sequential": [
            [
             0,
             "#0d0887"
            ],
            [
             0.1111111111111111,
             "#46039f"
            ],
            [
             0.2222222222222222,
             "#7201a8"
            ],
            [
             0.3333333333333333,
             "#9c179e"
            ],
            [
             0.4444444444444444,
             "#bd3786"
            ],
            [
             0.5555555555555556,
             "#d8576b"
            ],
            [
             0.6666666666666666,
             "#ed7953"
            ],
            [
             0.7777777777777778,
             "#fb9f3a"
            ],
            [
             0.8888888888888888,
             "#fdca26"
            ],
            [
             1,
             "#f0f921"
            ]
           ],
           "sequentialminus": [
            [
             0,
             "#0d0887"
            ],
            [
             0.1111111111111111,
             "#46039f"
            ],
            [
             0.2222222222222222,
             "#7201a8"
            ],
            [
             0.3333333333333333,
             "#9c179e"
            ],
            [
             0.4444444444444444,
             "#bd3786"
            ],
            [
             0.5555555555555556,
             "#d8576b"
            ],
            [
             0.6666666666666666,
             "#ed7953"
            ],
            [
             0.7777777777777778,
             "#fb9f3a"
            ],
            [
             0.8888888888888888,
             "#fdca26"
            ],
            [
             1,
             "#f0f921"
            ]
           ]
          },
          "colorway": [
           "#636efa",
           "#EF553B",
           "#00cc96",
           "#ab63fa",
           "#FFA15A",
           "#19d3f3",
           "#FF6692",
           "#B6E880",
           "#FF97FF",
           "#FECB52"
          ],
          "font": {
           "color": "#2a3f5f"
          },
          "geo": {
           "bgcolor": "white",
           "lakecolor": "white",
           "landcolor": "#E5ECF6",
           "showlakes": true,
           "showland": true,
           "subunitcolor": "white"
          },
          "hoverlabel": {
           "align": "left"
          },
          "hovermode": "closest",
          "mapbox": {
           "style": "light"
          },
          "paper_bgcolor": "white",
          "plot_bgcolor": "#E5ECF6",
          "polar": {
           "angularaxis": {
            "gridcolor": "white",
            "linecolor": "white",
            "ticks": ""
           },
           "bgcolor": "#E5ECF6",
           "radialaxis": {
            "gridcolor": "white",
            "linecolor": "white",
            "ticks": ""
           }
          },
          "scene": {
           "xaxis": {
            "backgroundcolor": "#E5ECF6",
            "gridcolor": "white",
            "gridwidth": 2,
            "linecolor": "white",
            "showbackground": true,
            "ticks": "",
            "zerolinecolor": "white"
           },
           "yaxis": {
            "backgroundcolor": "#E5ECF6",
            "gridcolor": "white",
            "gridwidth": 2,
            "linecolor": "white",
            "showbackground": true,
            "ticks": "",
            "zerolinecolor": "white"
           },
           "zaxis": {
            "backgroundcolor": "#E5ECF6",
            "gridcolor": "white",
            "gridwidth": 2,
            "linecolor": "white",
            "showbackground": true,
            "ticks": "",
            "zerolinecolor": "white"
           }
          },
          "shapedefaults": {
           "line": {
            "color": "#2a3f5f"
           }
          },
          "ternary": {
           "aaxis": {
            "gridcolor": "white",
            "linecolor": "white",
            "ticks": ""
           },
           "baxis": {
            "gridcolor": "white",
            "linecolor": "white",
            "ticks": ""
           },
           "bgcolor": "#E5ECF6",
           "caxis": {
            "gridcolor": "white",
            "linecolor": "white",
            "ticks": ""
           }
          },
          "title": {
           "x": 0.05
          },
          "xaxis": {
           "automargin": true,
           "gridcolor": "white",
           "linecolor": "white",
           "ticks": "",
           "title": {
            "standoff": 15
           },
           "zerolinecolor": "white",
           "zerolinewidth": 2
          },
          "yaxis": {
           "automargin": true,
           "gridcolor": "white",
           "linecolor": "white",
           "ticks": "",
           "title": {
            "standoff": 15
           },
           "zerolinecolor": "white",
           "zerolinewidth": 2
          }
         }
        },
        "title": {
         "text": "Coherence Value and # of Topics"
        },
        "xaxis": {
         "anchor": "y",
         "domain": [
          0,
          1
         ],
         "title": {
          "text": "# Topics"
         }
        },
        "yaxis": {
         "anchor": "x",
         "domain": [
          0,
          1
         ],
         "title": {
          "text": "Score"
         }
        }
       }
      },
      "text/html": [
       "<div>\n",
       "        \n",
       "        \n",
       "            <div id=\"8cde0c82-fafd-44b0-93b0-48811a2239e2\" class=\"plotly-graph-div\" style=\"height:525px; width:100%;\"></div>\n",
       "            <script type=\"text/javascript\">\n",
       "                require([\"plotly\"], function(Plotly) {\n",
       "                    window.PLOTLYENV=window.PLOTLYENV || {};\n",
       "                    \n",
       "                if (document.getElementById(\"8cde0c82-fafd-44b0-93b0-48811a2239e2\")) {\n",
       "                    Plotly.newPlot(\n",
       "                        '8cde0c82-fafd-44b0-93b0-48811a2239e2',\n",
       "                        [{\"hovertemplate\": \"Metric=Coherence<br># Topics=%{x}<br>Score=%{y}<extra></extra>\", \"legendgroup\": \"Coherence\", \"line\": {\"color\": \"#636efa\", \"dash\": \"solid\", \"shape\": \"linear\"}, \"mode\": \"lines\", \"name\": \"Coherence\", \"orientation\": \"v\", \"showlegend\": true, \"type\": \"scatter\", \"x\": [2, 4, 8, 16, 32, 64, 100, 200, 300, 400], \"xaxis\": \"x\", \"y\": [0.40733020652113244, 0.5301001968495153, 0.7327167034421984, 0.6624164823556368, 0.634303419759613, 0.5901939342656803, 0.5944656585117791, 0.5408226268090669, 0.5290313860368725, 0.514489413395602], \"yaxis\": \"y\"}],\n",
       "                        {\"legend\": {\"title\": {\"text\": \"Metric\"}, \"tracegroupgap\": 0}, \"plot_bgcolor\": \"rgb(245,245,245)\", \"template\": {\"data\": {\"bar\": [{\"error_x\": {\"color\": \"#2a3f5f\"}, \"error_y\": {\"color\": \"#2a3f5f\"}, \"marker\": {\"line\": {\"color\": \"#E5ECF6\", \"width\": 0.5}}, \"type\": \"bar\"}], \"barpolar\": [{\"marker\": {\"line\": {\"color\": \"#E5ECF6\", \"width\": 0.5}}, \"type\": \"barpolar\"}], \"carpet\": [{\"aaxis\": {\"endlinecolor\": \"#2a3f5f\", \"gridcolor\": \"white\", \"linecolor\": \"white\", \"minorgridcolor\": \"white\", \"startlinecolor\": \"#2a3f5f\"}, \"baxis\": {\"endlinecolor\": \"#2a3f5f\", \"gridcolor\": \"white\", \"linecolor\": \"white\", \"minorgridcolor\": \"white\", \"startlinecolor\": \"#2a3f5f\"}, \"type\": \"carpet\"}], \"choropleth\": [{\"colorbar\": {\"outlinewidth\": 0, \"ticks\": \"\"}, \"type\": \"choropleth\"}], \"contour\": [{\"colorbar\": {\"outlinewidth\": 0, \"ticks\": \"\"}, \"colorscale\": [[0.0, \"#0d0887\"], [0.1111111111111111, \"#46039f\"], [0.2222222222222222, \"#7201a8\"], [0.3333333333333333, \"#9c179e\"], [0.4444444444444444, \"#bd3786\"], [0.5555555555555556, \"#d8576b\"], [0.6666666666666666, \"#ed7953\"], [0.7777777777777778, \"#fb9f3a\"], [0.8888888888888888, \"#fdca26\"], [1.0, \"#f0f921\"]], \"type\": \"contour\"}], \"contourcarpet\": [{\"colorbar\": {\"outlinewidth\": 0, \"ticks\": \"\"}, \"type\": \"contourcarpet\"}], \"heatmap\": [{\"colorbar\": {\"outlinewidth\": 0, \"ticks\": \"\"}, \"colorscale\": [[0.0, \"#0d0887\"], [0.1111111111111111, \"#46039f\"], [0.2222222222222222, \"#7201a8\"], [0.3333333333333333, \"#9c179e\"], [0.4444444444444444, \"#bd3786\"], [0.5555555555555556, \"#d8576b\"], [0.6666666666666666, \"#ed7953\"], [0.7777777777777778, \"#fb9f3a\"], [0.8888888888888888, \"#fdca26\"], [1.0, \"#f0f921\"]], \"type\": \"heatmap\"}], \"heatmapgl\": [{\"colorbar\": {\"outlinewidth\": 0, \"ticks\": \"\"}, \"colorscale\": [[0.0, \"#0d0887\"], [0.1111111111111111, \"#46039f\"], [0.2222222222222222, \"#7201a8\"], [0.3333333333333333, \"#9c179e\"], [0.4444444444444444, \"#bd3786\"], [0.5555555555555556, \"#d8576b\"], [0.6666666666666666, \"#ed7953\"], [0.7777777777777778, \"#fb9f3a\"], [0.8888888888888888, \"#fdca26\"], [1.0, \"#f0f921\"]], \"type\": \"heatmapgl\"}], \"histogram\": [{\"marker\": {\"colorbar\": {\"outlinewidth\": 0, \"ticks\": \"\"}}, \"type\": \"histogram\"}], \"histogram2d\": [{\"colorbar\": {\"outlinewidth\": 0, \"ticks\": \"\"}, \"colorscale\": [[0.0, \"#0d0887\"], [0.1111111111111111, \"#46039f\"], [0.2222222222222222, \"#7201a8\"], [0.3333333333333333, \"#9c179e\"], [0.4444444444444444, \"#bd3786\"], [0.5555555555555556, \"#d8576b\"], [0.6666666666666666, \"#ed7953\"], [0.7777777777777778, \"#fb9f3a\"], [0.8888888888888888, \"#fdca26\"], [1.0, \"#f0f921\"]], \"type\": \"histogram2d\"}], \"histogram2dcontour\": [{\"colorbar\": {\"outlinewidth\": 0, \"ticks\": \"\"}, \"colorscale\": [[0.0, \"#0d0887\"], [0.1111111111111111, \"#46039f\"], [0.2222222222222222, \"#7201a8\"], [0.3333333333333333, \"#9c179e\"], [0.4444444444444444, \"#bd3786\"], [0.5555555555555556, \"#d8576b\"], [0.6666666666666666, \"#ed7953\"], [0.7777777777777778, \"#fb9f3a\"], [0.8888888888888888, \"#fdca26\"], [1.0, \"#f0f921\"]], \"type\": \"histogram2dcontour\"}], \"mesh3d\": [{\"colorbar\": {\"outlinewidth\": 0, \"ticks\": \"\"}, \"type\": \"mesh3d\"}], \"parcoords\": [{\"line\": {\"colorbar\": {\"outlinewidth\": 0, \"ticks\": \"\"}}, \"type\": \"parcoords\"}], \"pie\": [{\"automargin\": true, \"type\": \"pie\"}], \"scatter\": [{\"marker\": {\"colorbar\": {\"outlinewidth\": 0, \"ticks\": \"\"}}, \"type\": \"scatter\"}], \"scatter3d\": [{\"line\": {\"colorbar\": {\"outlinewidth\": 0, \"ticks\": \"\"}}, \"marker\": {\"colorbar\": {\"outlinewidth\": 0, \"ticks\": \"\"}}, \"type\": \"scatter3d\"}], \"scattercarpet\": [{\"marker\": {\"colorbar\": {\"outlinewidth\": 0, \"ticks\": \"\"}}, \"type\": \"scattercarpet\"}], \"scattergeo\": [{\"marker\": {\"colorbar\": {\"outlinewidth\": 0, \"ticks\": \"\"}}, \"type\": \"scattergeo\"}], \"scattergl\": [{\"marker\": {\"colorbar\": {\"outlinewidth\": 0, \"ticks\": \"\"}}, \"type\": \"scattergl\"}], \"scattermapbox\": [{\"marker\": {\"colorbar\": {\"outlinewidth\": 0, \"ticks\": \"\"}}, \"type\": \"scattermapbox\"}], \"scatterpolar\": [{\"marker\": {\"colorbar\": {\"outlinewidth\": 0, \"ticks\": \"\"}}, \"type\": \"scatterpolar\"}], \"scatterpolargl\": [{\"marker\": {\"colorbar\": {\"outlinewidth\": 0, \"ticks\": \"\"}}, \"type\": \"scatterpolargl\"}], \"scatterternary\": [{\"marker\": {\"colorbar\": {\"outlinewidth\": 0, \"ticks\": \"\"}}, \"type\": \"scatterternary\"}], \"surface\": [{\"colorbar\": {\"outlinewidth\": 0, \"ticks\": \"\"}, \"colorscale\": [[0.0, \"#0d0887\"], [0.1111111111111111, \"#46039f\"], [0.2222222222222222, \"#7201a8\"], [0.3333333333333333, \"#9c179e\"], [0.4444444444444444, \"#bd3786\"], [0.5555555555555556, \"#d8576b\"], [0.6666666666666666, \"#ed7953\"], [0.7777777777777778, \"#fb9f3a\"], [0.8888888888888888, \"#fdca26\"], [1.0, \"#f0f921\"]], \"type\": \"surface\"}], \"table\": [{\"cells\": {\"fill\": {\"color\": \"#EBF0F8\"}, \"line\": {\"color\": \"white\"}}, \"header\": {\"fill\": {\"color\": \"#C8D4E3\"}, \"line\": {\"color\": \"white\"}}, \"type\": \"table\"}]}, \"layout\": {\"annotationdefaults\": {\"arrowcolor\": \"#2a3f5f\", \"arrowhead\": 0, \"arrowwidth\": 1}, \"coloraxis\": {\"colorbar\": {\"outlinewidth\": 0, \"ticks\": \"\"}}, \"colorscale\": {\"diverging\": [[0, \"#8e0152\"], [0.1, \"#c51b7d\"], [0.2, \"#de77ae\"], [0.3, \"#f1b6da\"], [0.4, \"#fde0ef\"], [0.5, \"#f7f7f7\"], [0.6, \"#e6f5d0\"], [0.7, \"#b8e186\"], [0.8, \"#7fbc41\"], [0.9, \"#4d9221\"], [1, \"#276419\"]], \"sequential\": [[0.0, \"#0d0887\"], [0.1111111111111111, \"#46039f\"], [0.2222222222222222, \"#7201a8\"], [0.3333333333333333, \"#9c179e\"], [0.4444444444444444, \"#bd3786\"], [0.5555555555555556, \"#d8576b\"], [0.6666666666666666, \"#ed7953\"], [0.7777777777777778, \"#fb9f3a\"], [0.8888888888888888, \"#fdca26\"], [1.0, \"#f0f921\"]], \"sequentialminus\": [[0.0, \"#0d0887\"], [0.1111111111111111, \"#46039f\"], [0.2222222222222222, \"#7201a8\"], [0.3333333333333333, \"#9c179e\"], [0.4444444444444444, \"#bd3786\"], [0.5555555555555556, \"#d8576b\"], [0.6666666666666666, \"#ed7953\"], [0.7777777777777778, \"#fb9f3a\"], [0.8888888888888888, \"#fdca26\"], [1.0, \"#f0f921\"]]}, \"colorway\": [\"#636efa\", \"#EF553B\", \"#00cc96\", \"#ab63fa\", \"#FFA15A\", \"#19d3f3\", \"#FF6692\", \"#B6E880\", \"#FF97FF\", \"#FECB52\"], \"font\": {\"color\": \"#2a3f5f\"}, \"geo\": {\"bgcolor\": \"white\", \"lakecolor\": \"white\", \"landcolor\": \"#E5ECF6\", \"showlakes\": true, \"showland\": true, \"subunitcolor\": \"white\"}, \"hoverlabel\": {\"align\": \"left\"}, \"hovermode\": \"closest\", \"mapbox\": {\"style\": \"light\"}, \"paper_bgcolor\": \"white\", \"plot_bgcolor\": \"#E5ECF6\", \"polar\": {\"angularaxis\": {\"gridcolor\": \"white\", \"linecolor\": \"white\", \"ticks\": \"\"}, \"bgcolor\": \"#E5ECF6\", \"radialaxis\": {\"gridcolor\": \"white\", \"linecolor\": \"white\", \"ticks\": \"\"}}, \"scene\": {\"xaxis\": {\"backgroundcolor\": \"#E5ECF6\", \"gridcolor\": \"white\", \"gridwidth\": 2, \"linecolor\": \"white\", \"showbackground\": true, \"ticks\": \"\", \"zerolinecolor\": \"white\"}, \"yaxis\": {\"backgroundcolor\": \"#E5ECF6\", \"gridcolor\": \"white\", \"gridwidth\": 2, \"linecolor\": \"white\", \"showbackground\": true, \"ticks\": \"\", \"zerolinecolor\": \"white\"}, \"zaxis\": {\"backgroundcolor\": \"#E5ECF6\", \"gridcolor\": \"white\", \"gridwidth\": 2, \"linecolor\": \"white\", \"showbackground\": true, \"ticks\": \"\", \"zerolinecolor\": \"white\"}}, \"shapedefaults\": {\"line\": {\"color\": \"#2a3f5f\"}}, \"ternary\": {\"aaxis\": {\"gridcolor\": \"white\", \"linecolor\": \"white\", \"ticks\": \"\"}, \"baxis\": {\"gridcolor\": \"white\", \"linecolor\": \"white\", \"ticks\": \"\"}, \"bgcolor\": \"#E5ECF6\", \"caxis\": {\"gridcolor\": \"white\", \"linecolor\": \"white\", \"ticks\": \"\"}}, \"title\": {\"x\": 0.05}, \"xaxis\": {\"automargin\": true, \"gridcolor\": \"white\", \"linecolor\": \"white\", \"ticks\": \"\", \"title\": {\"standoff\": 15}, \"zerolinecolor\": \"white\", \"zerolinewidth\": 2}, \"yaxis\": {\"automargin\": true, \"gridcolor\": \"white\", \"linecolor\": \"white\", \"ticks\": \"\", \"title\": {\"standoff\": 15}, \"zerolinecolor\": \"white\", \"zerolinewidth\": 2}}}, \"title\": {\"text\": \"Coherence Value and # of Topics\"}, \"xaxis\": {\"anchor\": \"y\", \"domain\": [0.0, 1.0], \"title\": {\"text\": \"# Topics\"}}, \"yaxis\": {\"anchor\": \"x\", \"domain\": [0.0, 1.0], \"title\": {\"text\": \"Score\"}}},\n",
       "                        {\"responsive\": true}\n",
       "                    ).then(function(){\n",
       "                            \n",
       "var gd = document.getElementById('8cde0c82-fafd-44b0-93b0-48811a2239e2');\n",
       "var x = new MutationObserver(function (mutations, observer) {{\n",
       "        var display = window.getComputedStyle(gd).display;\n",
       "        if (!display || display === 'none') {{\n",
       "            console.log([gd, 'removed!']);\n",
       "            Plotly.purge(gd);\n",
       "            observer.disconnect();\n",
       "        }}\n",
       "}});\n",
       "\n",
       "// Listen for the removal of the full notebook cells\n",
       "var notebookContainer = gd.closest('#notebook-container');\n",
       "if (notebookContainer) {{\n",
       "    x.observe(notebookContainer, {childList: true});\n",
       "}}\n",
       "\n",
       "// Listen for the clearing of the current output cell\n",
       "var outputEl = gd.closest('.output');\n",
       "if (outputEl) {{\n",
       "    x.observe(outputEl, {childList: true});\n",
       "}}\n",
       "\n",
       "                        })\n",
       "                };\n",
       "                });\n",
       "            </script>\n",
       "        </div>"
      ]
     },
     "metadata": {},
     "output_type": "display_data"
    },
    {
     "name": "stdout",
     "output_type": "stream",
     "text": [
      "Best Model: Latent Dirichlet Allocation | # Topics: 8 | Coherence: 0.7327\n"
     ]
    }
   ],
   "source": [
    "tune_lda_negative = tune_model(model='lda', supervised_target=None, estimator='xgboost')"
   ]
  },
  {
   "cell_type": "code",
   "execution_count": 19,
   "metadata": {},
   "outputs": [],
   "source": [
    "apply_tuned_neg = assign_model(tune_lda_negative)"
   ]
  },
  {
   "cell_type": "code",
   "execution_count": 20,
   "metadata": {},
   "outputs": [
    {
     "data": {
      "application/vnd.jupyter.widget-view+json": {
       "model_id": "fec7c89c3d274718a3afce1d7c6131e4",
       "version_major": 2,
       "version_minor": 0
      },
      "text/plain": [
       "interactive(children=(ToggleButtons(description='Plot Type:', icons=('',), options=(('Frequency Plot', 'freque…"
      ]
     },
     "metadata": {},
     "output_type": "display_data"
    }
   ],
   "source": [
    "evaluate_model(tune_lda_negative)"
   ]
  },
  {
   "cell_type": "code",
   "execution_count": 21,
   "metadata": {},
   "outputs": [
    {
     "data": {
      "text/html": [
       "        <script type=\"text/javascript\">\n",
       "        window.PlotlyConfig = {MathJaxConfig: 'local'};\n",
       "        if (window.MathJax) {MathJax.Hub.Config({SVG: {font: \"STIX-Web\"}});}\n",
       "        if (typeof require !== 'undefined') {\n",
       "        require.undef(\"plotly\");\n",
       "        requirejs.config({\n",
       "            paths: {\n",
       "                'plotly': ['https://cdn.plot.ly/plotly-latest.min']\n",
       "            }\n",
       "        });\n",
       "        require(['plotly'], function(Plotly) {\n",
       "            window._Plotly = Plotly;\n",
       "        });\n",
       "        }\n",
       "        </script>\n",
       "        "
      ]
     },
     "metadata": {},
     "output_type": "display_data"
    },
    {
     "data": {
      "text/html": [
       "\n",
       "<link rel=\"stylesheet\" type=\"text/css\" href=\"https://cdn.rawgit.com/bmabey/pyLDAvis/files/ldavis.v1.0.0.css\">\n",
       "\n",
       "\n",
       "<div id=\"ldavis_el2446023685091897046592689967\"></div>\n",
       "<script type=\"text/javascript\">\n",
       "\n",
       "var ldavis_el2446023685091897046592689967_data = {\"mdsDat\": {\"x\": [-0.04311051860708669, -0.18585376948227633, 0.15096556740314218, 0.12719548625960883, -0.053093750510958125, 0.01410262156113124, -0.00647508266340447, -0.0037305539601566328], \"y\": [0.172557981709225, -0.0236091749774546, -0.08852566410276207, 0.0740039264405954, -0.08206774541763602, -0.09722532083442097, 0.048923264706274484, -0.004057267523821201], \"topics\": [1, 2, 3, 4, 5, 6, 7, 8], \"cluster\": [1, 1, 1, 1, 1, 1, 1, 1], \"Freq\": [40.69646072387695, 20.4842529296875, 13.44108772277832, 10.805667877197266, 5.2871012687683105, 4.965141773223877, 4.234844207763672, 0.08544766157865524]}, \"tinfo\": {\"Term\": [\"place\", \"day\", \"recommend\", \"get\", \"stay\", \"smell\", \"bad\", \"look\", \"price\", \"rude\", \"old\", \"go\", \"trip\", \"far\", \"location\", \"want\", \"run\", \"staff\", \"business\", \"rate\", \"come\", \"argue\", \"water\", \"overall\", \"night\", \"bathroom\", \"smoke\", \"fill\", \"less\", \"hourly\", \"bad\", \"go\", \"hourly\", \"quiet\", \"keep\", \"place\", \"cab\", \"thing\", \"dump\", \"town\", \"much\", \"cold\", \"low\", \"rate\", \"street\", \"nightmare\", \"larnaca\", \"travel\", \"light\", \"clean\", \"area\", \"arrival\", \"inviting\", \"curb\", \"sick\", \"star\", \"wonderful\", \"meal\", \"doubt\", \"wrong\", \"stay\", \"price\", \"night\", \"work\", \"asty\", \"apart\", \"get\", \"pay\", \"make\", \"smell\", \"reservation\", \"unfortunately\", \"less\", \"old\", \"website\", \"receive\", \"force\", \"organize\", \"full\", \"search\", \"confirnation\", \"badly\", \"mail\", \"mini\", \"service\", \"maybe\", \"fee\", \"week\", \"match\", \"bicycle\", \"always\", \"standard\", \"sight\", \"uncomfortable\", \"recommendation\", \"empty\", \"reality\", \"visitor\", \"gim\", \"deny\", \"fill\", \"basic\", \"find\", \"condition\", \"breakfast\", \"bar\", \"make\", \"bit\", \"air\", \"night\", \"staff\", \"food\", \"asty\", \"come\", \"argue\", \"water\", \"overall\", \"wake\", \"bus\", \"dirty\", \"time\", \"try\", \"tired\", \"advertise\", \"exhaustion\", \"long\", \"cigarette\", \"image\", \"hot\", \"lobby\", \"linger\", \"rest\", \"howl\", \"impression\", \"anymore\", \"ride\", \"limasol\", \"best\", \"rude\", \"staff\", \"smoke\", \"feeling\", \"guest\", \"get\", \"night\", \"make\", \"pay\", \"away\", \"hall\", \"noise\", \"seem\", \"say\", \"shower\", \"fill\", \"use\", \"wall\", \"judge\", \"able\", \"break\", \"key\", \"change\", \"centre\", \"give\", \"person\", \"table\", \"unfriendly\", \"save\", \"tear\", \"big\", \"fashion\", \"client\", \"reception\", \"greet\", \"apologise\", \"overlook\", \"sometimes\", \"sell\", \"well\", \"strange\", \"next\", \"ingredient\", \"day\", \"food\", \"look\", \"even\", \"get\", \"also\", \"smell\", \"seem\", \"rate\", \"pay\", \"hour\", \"tell\", \"old\", \"dank\", \"cost\", \"money\", \"really\", \"spend\", \"add\", \"cockroach\", \"furnishing\", \"update\", \"avoid\", \"year\", \"disgusting\", \"dismal\", \"look\", \"bathroom\", \"smoke\", \"want\", \"run\", \"smell\", \"comfortable\", \"public\", \"language\", \"front\", \"ledra\", \"economical\", \"shop\", \"mingle\", \"mkt\", \"bakery\", \"hoteli\", \"ingredient\", \"next\", \"strange\", \"well\", \"sell\", \"sometimes\", \"overlook\", \"apologise\", \"greet\", \"best\", \"reception\", \"overall\", \"get\", \"pay\", \"night\", \"seem\", \"bad\", \"rate\", \"day\", \"also\", \"guest\", \"water\", \"manager\", \"sewage\", \"fume\", \"paint\", \"variable\", \"extremely\", \"awkward\", \"inflate\", \"strongly\", \"fear\", \"hoteli\", \"life\", \"recommend\", \"bathroom\", \"location\", \"rude\", \"price\", \"smell\", \"bakery\", \"mkt\", \"mingle\", \"shop\", \"economical\", \"ledra\", \"front\", \"language\", \"public\", \"comfortable\", \"year\", \"dismal\", \"disgusting\", \"add\", \"avoid\", \"really\", \"money\", \"spend\", \"mattress\", \"devise\", \"part\", \"place\", \"old\", \"last\", \"polite\", \"trip\", \"take\", \"carpet\", \"equip\", \"work\", \"low\", \"basic\", \"cold\", \"less\", \"fill\", \"find\", \"hourly\", \"go\", \"comfortable\", \"public\", \"language\", \"front\", \"ledra\", \"economical\", \"shop\", \"mingle\", \"mkt\", \"bakery\", \"business\", \"far\", \"trip\", \"stay\", \"day\", \"place\", \"life\", \"fear\", \"hoteli\", \"inflate\", \"sewage\", \"variable\", \"strongly\", \"extremely\", \"awkward\", \"manager\", \"paint\", \"fume\", \"year\", \"update\", \"disgusting\", \"dismal\", \"money\", \"cockroach\", \"avoid\", \"mattress\", \"match\", \"week\", \"request\", \"mail\", \"wonder\", \"badly\", \"confirnation\", \"search\", \"full\", \"number\", \"reservation\", \"maybe\", \"polite\", \"old\", \"find\", \"night\", \"bad\", \"bit\", \"condition\", \"less\", \"make\", \"smell\", \"work\", \"asty\", \"fill\", \"rate\", \"comfortable\", \"public\", \"language\", \"front\", \"ledra\", \"economical\", \"shop\", \"mingle\", \"mkt\", \"bakery\", \"life\", \"fear\", \"hoteli\", \"awkward\", \"strongly\", \"inflate\", \"fume\", \"variable\", \"manager\", \"extremely\", \"sewage\", \"paint\", \"year\", \"dismal\", \"furnishing\", \"money\", \"add\", \"cockroach\", \"cost\", \"update\", \"spend\", \"disgusting\", \"really\", \"avoid\", \"dank\", \"travel\", \"doubt\", \"thetripadviseor\", \"phone\", \"bad\", \"air\", \"less\", \"ever\", \"call\", \"rate\", \"condition\", \"agent\", \"area\", \"curb\", \"sanity\", \"pull\", \"esp\", \"wonderful\", \"sick\", \"surprise\", \"star\", \"polite\", \"cheap\", \"ordeal\", \"customer\", \"week\", \"wrong\", \"equip\", \"always\", \"carpet\", \"night\", \"old\", \"go\", \"get\", \"smell\", \"asty\", \"guest\", \"pay\", \"work\", \"stay\", \"dump\", \"feeling\", \"fill\", \"tell\", \"hour\", \"basic\", \"thing\"], \"Freq\": [4.0, 2.0, 1.0, 5.0, 2.0, 4.0, 5.0, 1.0, 2.0, 2.0, 3.0, 4.0, 2.0, 1.0, 1.0, 1.0, 1.0, 2.0, 1.0, 3.0, 1.0, 1.0, 1.0, 1.0, 5.0, 1.0, 1.0, 2.0, 1.0, 2.0, 5.051059246063232, 4.228332042694092, 2.5777931213378906, 2.578618049621582, 2.5763845443725586, 3.3999509811401367, 1.7529088258743286, 1.7526673078536987, 1.7520396709442139, 1.752357006072998, 1.7542744874954224, 1.751434564590454, 1.7503281831741333, 2.5773162841796875, 0.9303154349327087, 0.9293673634529114, 0.930223286151886, 0.9290158152580261, 0.9300189018249512, 0.929932177066803, 0.9289230108261108, 0.9298601150512695, 0.9298001527786255, 0.9288074374198914, 0.928783118724823, 0.9288048148155212, 0.928805947303772, 0.9296480417251587, 0.928499698638916, 0.9286377429962158, 1.751802921295166, 1.7530852556228638, 3.4030604362487793, 1.7528914213180542, 1.7529621124267578, 0.9295440316200256, 2.577685594558716, 1.7528332471847534, 1.752586841583252, 1.7522470951080322, 1.4997490644454956, 1.4975157976150513, 1.4956321716308594, 2.1983113288879395, 0.794344425201416, 0.7943034768104553, 0.7941318154335022, 0.7940977811813354, 0.7940650582313538, 0.7940588593482971, 0.794055700302124, 0.7940487861633301, 0.7940204739570618, 0.7924378514289856, 0.7924132943153381, 0.7921685576438904, 0.792151689529419, 0.7920276522636414, 0.7920206785202026, 0.7920403480529785, 0.79197758436203, 0.7919914722442627, 0.7919391393661499, 0.7920305728912354, 0.7919864654541016, 0.7919453978538513, 0.7919400334358215, 0.7919142842292786, 0.7918633818626404, 0.7918721437454224, 1.4955668449401855, 1.4978082180023193, 1.497423768043518, 1.4962949752807617, 0.7956319451332092, 0.79514080286026, 0.7939175367355347, 0.7939024567604065, 0.7924541234970093, 0.7923544049263, 0.7923354506492615, 0.7920994758605957, 0.7920708656311035, 1.2988673448562622, 1.2987961769104004, 1.2987501621246338, 1.2981626987457275, 0.687771201133728, 0.6877273917198181, 0.6877085566520691, 0.6876174211502075, 0.6875991821289062, 0.6875668168067932, 0.6875631809234619, 0.6875602602958679, 0.6875504851341248, 0.6875485777854919, 0.687531590461731, 0.687529981136322, 0.6875233054161072, 0.6875227093696594, 0.6874618530273438, 0.6874403953552246, 0.6874058246612549, 0.6873473525047302, 0.6873303651809692, 0.6872602701187134, 0.6871119737625122, 1.2990589141845703, 1.29885995388031, 0.6873385906219482, 0.6892916560173035, 0.6891071796417236, 1.302808403968811, 1.303027629852295, 0.6894250512123108, 0.6893184781074524, 0.6888225078582764, 0.6879421472549438, 0.6878709197044373, 0.6878305673599243, 0.6878253221511841, 0.68771892786026, 0.68758225440979, 0.6875458359718323, 0.6281424760818481, 0.6280908584594727, 0.6280831098556519, 0.6280320286750793, 0.6280105710029602, 0.6280038356781006, 0.6280012130737305, 0.627991259098053, 0.6279754638671875, 0.6279646158218384, 0.6279439330101013, 0.6279354095458984, 0.6279212236404419, 0.627897322177887, 0.6278866529464722, 0.627877414226532, 0.6278718113899231, 0.6278453469276428, 0.6278424859046936, 0.62782883644104, 0.6278166174888611, 0.6278090476989746, 0.6277977228164673, 0.6277843117713928, 0.627729058265686, 0.627729058265686, 1.1862711906433105, 0.6281062960624695, 0.6276009678840637, 0.6294111013412476, 1.1869466304779053, 0.6286018490791321, 0.6292690634727478, 0.6290704011917114, 0.6287540793418884, 0.6286411881446838, 0.6280771493911743, 0.6279515624046326, 0.6279507279396057, 0.43028995394706726, 0.4302898645401001, 0.4302898645401001, 0.4302899241447449, 0.4302899241447449, 0.4302898347377777, 0.4302898347377777, 0.4302898049354553, 0.4302898347377777, 0.4302898049354553, 0.43028968572616577, 0.4302898049354553, 0.43028968572616577, 0.8134878277778625, 0.4302898049354553, 0.43078479170799255, 0.4304492771625519, 0.43043413758277893, 0.430957555770874, 0.04781048372387886, 0.04781046882271767, 0.04781046882271767, 0.04781050607562065, 0.04781046509742737, 0.047810494899749756, 0.047810494899749756, 0.04781046882271767, 0.047810494899749756, 0.04781050607562065, 0.04781070724129677, 0.04843723028898239, 0.048437174409627914, 0.048399630934000015, 0.04839027673006058, 0.048382505774497986, 0.04837742820382118, 0.04836902394890785, 0.04835972934961319, 0.048357632011175156, 0.04844687134027481, 0.048339538276195526, 0.04884100705385208, 0.04990558698773384, 0.049175508320331573, 0.0494355745613575, 0.048839062452316284, 0.048970792442560196, 0.04890904948115349, 0.04861661419272423, 0.048601578921079636, 0.04847804456949234, 0.048473842442035675, 0.41014161705970764, 0.4101416766643524, 0.41014161705970764, 0.41014161705970764, 0.41014161705970764, 0.41014161705970764, 0.4101414978504181, 0.4101414978504181, 0.4101414978504181, 0.4101404547691345, 0.41014036536216736, 0.4101400375366211, 0.7760341763496399, 0.4101414978504181, 0.41014203429222107, 0.41014161705970764, 0.41099146008491516, 0.4121505916118622, 0.046211399137973785, 0.046101201325654984, 0.046037741005420685, 0.04602885991334915, 0.045980069786310196, 0.045950766652822495, 0.04592440277338028, 0.045874956995248795, 0.04585679993033409, 0.04582739993929863, 0.04557177051901817, 0.04557177424430847, 0.04557177424430847, 0.04557175934314728, 0.04557177051901817, 0.04557175934314728, 0.04557175934314728, 0.04557177051901817, 0.046853821724653244, 0.04675762727856636, 0.04671626538038254, 0.049179572612047195, 0.048653408885002136, 0.046701617538928986, 0.04668786749243736, 0.04796074330806732, 0.04743412509560585, 0.04668177291750908, 0.04667912796139717, 0.047784484922885895, 0.04750175029039383, 0.047659508883953094, 0.04742320254445076, 0.047235067933797836, 0.04748162254691124, 0.047508012503385544, 0.04752735793590546, 0.047569673508405685, 0.3730592429637909, 0.3730325698852539, 0.37301599979400635, 0.3729708194732666, 0.37294694781303406, 0.3729202151298523, 0.37287580966949463, 0.37286773324012756, 0.37280991673469543, 0.37270957231521606, 0.3733237087726593, 0.37320074439048767, 0.3734923005104065, 0.37335699796676636, 0.37287551164627075, 0.37339216470718384, 0.04147747904062271, 0.041477400809526443, 0.041477400809526443, 0.04147730767726898, 0.041477300226688385, 0.041477300226688385, 0.04147729650139809, 0.041477300226688385, 0.04147729650139809, 0.04147728532552719, 0.04147728532552719, 0.041477277874946594, 0.04147729277610779, 0.04147729650139809, 0.04147729650139809, 0.04147729277610779, 0.04147728160023689, 0.04147729277610779, 0.04147728160023689, 0.04187099635601044, 0.04186711460351944, 0.04185620695352554, 0.04185491055250168, 0.041847240179777145, 0.04184579849243164, 0.041833773255348206, 0.04183066636323929, 0.04182910919189453, 0.041826169937849045, 0.04182202368974686, 0.04221457615494728, 0.04181857034564018, 0.04181733354926109, 0.042565833777189255, 0.042418867349624634, 0.04270658642053604, 0.04258392006158829, 0.042112797498703, 0.042238809168338776, 0.04207468032836914, 0.04224216565489769, 0.042195841670036316, 0.042191192507743835, 0.04210726544260979, 0.04209524020552635, 0.04208249971270561, 0.0012502778554335237, 0.0012502775061875582, 0.0012502775061875582, 0.0012502784375101328, 0.001250278321094811, 0.0012502778554335237, 0.0012502779718488455, 0.0012502777390182018, 0.0012502778554335237, 0.0012502785539254546, 0.0012502832105383277, 0.0012502815807238221, 0.0012502812314778566, 0.001250278321094811, 0.0012502780882641673, 0.0012502779718488455, 0.0012502778554335237, 0.0012502777390182018, 0.0012502775061875582, 0.0012502778554335237, 0.0012502773897722363, 0.0012502773897722363, 0.0012502778554335237, 0.0012502778554335237, 0.0012502778554335237, 0.0012502777390182018, 0.0012502777390182018, 0.0012502775061875582, 0.0012502775061875582, 0.0012502773897722363, 0.0012502773897722363, 0.0012502775061875582, 0.0012502772733569145, 0.0012502773897722363, 0.0012502772733569145, 0.0012629346456378698, 0.0012613260187208652, 0.0012585627846419811, 0.0012610203120857477, 0.001297292299568653, 0.0012692828895524144, 0.0012671563308686018, 0.0012670214055106044, 0.0012605029623955488, 0.001272969413548708, 0.0012696725316345692, 0.0012601338094100356, 0.0012598450994119048, 0.0012597671011462808, 0.0012595829321071506, 0.0012595818843692541, 0.0012595660518854856, 0.0012593375286087394, 0.0012593173887580633, 0.0012591619743034244, 0.0012589911930263042, 0.0012577304150909185, 0.0012588892132043839, 0.0012588612735271454, 0.0012588583631440997, 0.0012575600994750857, 0.0012587977107614279, 0.0012574500869959593, 0.0012572695268318057, 0.0012570839608088136, 0.0012757101794704795, 0.0012676769401878119, 0.0012673805467784405, 0.0012664557434618473, 0.0012651896104216576, 0.0012640506029129028, 0.0012623880757018924, 0.001261431723833084, 0.001261035562492907, 0.0012610025005415082, 0.0012608348624780774, 0.0012607681564986706, 0.0012606977252289653, 0.0012606533709913492, 0.0012603607028722763, 0.001260159071534872, 0.001259789103642106], \"Total\": [4.0, 2.0, 1.0, 5.0, 2.0, 4.0, 5.0, 1.0, 2.0, 2.0, 3.0, 4.0, 2.0, 1.0, 1.0, 1.0, 1.0, 2.0, 1.0, 3.0, 1.0, 1.0, 1.0, 1.0, 5.0, 1.0, 1.0, 2.0, 1.0, 2.0, 5.435322284698486, 4.610253810882568, 2.9548511505126953, 2.956185817718506, 2.954531669616699, 4.11264181137085, 2.1280903816223145, 2.1279356479644775, 2.1274731159210205, 2.128045082092285, 2.130866765975952, 2.127476215362549, 2.1270623207092285, 3.5128352642059326, 1.302789330482483, 1.3015002012252808, 1.3027753829956055, 1.3011984825134277, 1.3027454614639282, 1.3027325868606567, 1.301345705986023, 1.3027219772338867, 1.3027130365371704, 1.301329255104065, 1.3012969493865967, 1.301340937614441, 1.3013725280761719, 1.3026905059814453, 1.3011592626571655, 1.301363229751587, 2.459286689758301, 2.4926276206970215, 5.710131645202637, 2.832756757736206, 2.8330233097076416, 1.302675485610962, 5.295282363891602, 3.2978007793426514, 3.4454147815704346, 4.138104438781738, 1.8865056037902832, 1.8852550983428955, 1.8839281797409058, 3.147092819213867, 1.1805808544158936, 1.1805591583251953, 1.1804680824279785, 1.1804500818252563, 1.180432677268982, 1.1804293394088745, 1.1804276704788208, 1.1804239749908447, 1.1804090738296509, 1.1795016527175903, 1.1794732809066772, 1.1793102025985718, 1.1792892217636108, 1.179185152053833, 1.179223656654358, 1.1792683601379395, 1.1791781187057495, 1.1792187690734863, 1.1791760921478271, 1.179329514503479, 1.1792919635772705, 1.179237723350525, 1.1792376041412354, 1.179228663444519, 1.1791632175445557, 1.1791908740997314, 2.495588541030884, 2.7123632431030273, 2.7116785049438477, 2.7114293575286865, 2.0077385902404785, 2.007706642150879, 3.4454147815704346, 2.006734609603882, 2.00618314743042, 5.710131645202637, 2.4023897647857666, 1.7379498481750488, 2.8330233097076416, 1.6973296403884888, 1.6973029375076294, 1.6972858905792236, 1.6970655918121338, 1.0858678817749023, 1.0858511924743652, 1.0858442783355713, 1.0858101844787598, 1.0858032703399658, 1.0857912302017212, 1.0857897996902466, 1.0857887268066406, 1.0857850313186646, 1.0857843160629272, 1.085777997970581, 1.0857774019241333, 1.0857748985290527, 1.0857746601104736, 1.0857518911361694, 1.0857436656951904, 1.085730791091919, 1.0857088565826416, 1.085702657699585, 1.0856763124465942, 1.085620641708374, 2.061971664428711, 2.4023897647857666, 1.4681854248046875, 1.9127271175384521, 1.9123488664627075, 5.295282363891602, 5.710131645202637, 3.4454147815704346, 3.2978007793426514, 1.912792444229126, 1.912762999534607, 1.9125020503997803, 2.470813512802124, 1.9123897552490234, 1.9125418663024902, 2.495588541030884, 2.617004871368408, 1.0329684019088745, 1.032952070236206, 1.032949686050415, 1.0329334735870361, 1.0329266786575317, 1.0329246520996094, 1.0329238176345825, 1.0329205989837646, 1.032915711402893, 1.032912254333496, 1.0329055786132812, 1.0329030752182007, 1.0328985452651978, 1.0328909158706665, 1.0328876972198486, 1.0328845977783203, 1.0328829288482666, 1.0328744649887085, 1.0328737497329712, 1.0328693389892578, 1.0328655242919922, 1.0328631401062012, 1.0328595638275146, 1.0328553915023804, 1.0328377485275269, 1.0328378677368164, 2.751678705215454, 1.7379498481750488, 1.7977609634399414, 1.859392762184143, 5.295282363891602, 1.8596787452697754, 4.138104438781738, 2.470813512802124, 3.5128352642059326, 3.2978007793426514, 1.8597888946533203, 1.8594608306884766, 3.147092819213867, 0.8568116426467896, 0.8568116426467896, 0.8568116426467896, 0.8568116426467896, 0.8568116426467896, 0.8568116426467896, 0.8568116426467896, 0.8568116426467896, 0.8568117022514343, 0.8568116426467896, 0.8568115234375, 0.8568117618560791, 0.8568116426467896, 1.7977609634399414, 1.2213820219039917, 1.4681854248046875, 1.6835626363754272, 1.6836342811584473, 4.138104438781738, 0.8061699867248535, 0.8061726689338684, 0.8061742782592773, 0.8061786890029907, 0.8061810731887817, 0.8061836957931519, 0.8061881065368652, 0.8061888813972473, 0.806194543838501, 0.8062044382095337, 0.8389021754264832, 1.0328378677368164, 1.0328377485275269, 1.0328553915023804, 1.0328595638275146, 1.0328631401062012, 1.0328655242919922, 1.0328693389892578, 1.0328737497329712, 1.0328744649887085, 1.085620641708374, 1.0328829288482666, 1.6970655918121338, 5.295282363891602, 3.2978007793426514, 5.710131645202637, 2.470813512802124, 5.435322284698486, 3.5128352642059326, 2.751678705215454, 1.8596787452697754, 1.9123488664627075, 1.6972858905792236, 0.8389021754264832, 0.8389022946357727, 0.8389021754264832, 0.8389022946357727, 0.8389022350311279, 0.8389023542404175, 0.8389023542404175, 0.8389022946357727, 0.8389022946357727, 0.8389021754264832, 0.8389021754264832, 0.8389024138450623, 1.907918930053711, 1.2213820219039917, 1.6671546697616577, 2.061971664428711, 2.4926276206970215, 4.138104438781738, 0.8062044382095337, 0.806194543838501, 0.8061888813972473, 0.8061881065368652, 0.8061836957931519, 0.8061810731887817, 0.8061786890029907, 0.8061742782592773, 0.8061726689338684, 0.8061699867248535, 0.8568115234375, 0.8568116426467896, 0.8568117618560791, 0.8568116426467896, 0.8568116426467896, 0.8568116426467896, 0.8568116426467896, 0.8568116426467896, 1.1787203550338745, 1.179004192352295, 1.1790640354156494, 4.11264181137085, 3.147092819213867, 1.1791154146194458, 1.1788767576217651, 2.337409496307373, 2.0057451725006104, 1.179038643836975, 1.178937315940857, 2.832756757736206, 2.1270623207092285, 2.7123632431030273, 2.127476215362549, 1.8839281797409058, 2.495588541030884, 2.7116785049438477, 2.9548511505126953, 4.610253810882568, 0.8061699867248535, 0.8061726689338684, 0.8061742782592773, 0.8061786890029907, 0.8061810731887817, 0.8061836957931519, 0.8061881065368652, 0.8061888813972473, 0.806194543838501, 0.8062044382095337, 1.5108965635299683, 1.6324236392974854, 2.337409496307373, 2.459286689758301, 2.751678705215454, 4.11264181137085, 0.8389024138450623, 0.8389021754264832, 0.8389021754264832, 0.8389022946357727, 0.8389022946357727, 0.8389022350311279, 0.8389022946357727, 0.8389023542404175, 0.8389023542404175, 0.8389021754264832, 0.8389022946357727, 0.8389021754264832, 0.8568115234375, 0.8568117022514343, 0.8568117618560791, 0.8568116426467896, 0.8568116426467896, 0.8568116426467896, 0.8568116426467896, 1.1787203550338745, 1.179223656654358, 1.179185152053833, 1.179105281829834, 1.1804090738296509, 1.1790080070495605, 1.1804239749908447, 1.1804276704788208, 1.1804293394088745, 1.180432677268982, 1.1791958808898926, 1.8865056037902832, 1.1793102025985718, 1.1788767576217651, 3.147092819213867, 2.7116785049438477, 5.710131645202637, 5.435322284698486, 2.006734609603882, 2.7114293575286865, 1.8839281797409058, 3.4454147815704346, 4.138104438781738, 2.832756757736206, 2.8330233097076416, 2.495588541030884, 3.5128352642059326, 0.8061699867248535, 0.8061726689338684, 0.8061742782592773, 0.8061786890029907, 0.8061810731887817, 0.8061836957931519, 0.8061881065368652, 0.8061888813972473, 0.806194543838501, 0.8062044382095337, 0.8389024138450623, 0.8389021754264832, 0.8389021754264832, 0.8389023542404175, 0.8389022946357727, 0.8389022946357727, 0.8389021754264832, 0.8389022350311279, 0.8389021754264832, 0.8389023542404175, 0.8389022946357727, 0.8389022946357727, 0.8568115234375, 0.8568116426467896, 0.8568116426467896, 0.8568116426467896, 0.8568116426467896, 0.8568116426467896, 0.8568116426467896, 0.8568117022514343, 0.8568116426467896, 0.8568117618560791, 0.8568116426467896, 0.8568116426467896, 0.8568116426467896, 1.3011984825134277, 1.3011592626571655, 1.179006814956665, 1.3011447191238403, 5.435322284698486, 2.00618314743042, 1.8839281797409058, 2.005646228790283, 1.301134705543518, 3.5128352642059326, 2.7114293575286865, 1.3013007640838623, 1.301345705986023, 1.301329255104065, 1.3011475801467896, 1.3013015985488892, 1.3010146617889404, 1.3013725280761719, 1.3012969493865967, 1.3010592460632324, 1.301340937614441, 1.1788767576217651, 1.301361083984375, 1.3013720512390137, 1.3012354373931885, 1.179185152053833, 1.301363229751587, 1.178937315940857, 1.1791781187057495, 1.179038643836975, 5.710131645202637, 3.147092819213867, 4.610253810882568, 5.295282363891602, 4.138104438781738, 2.8330233097076416, 1.9123488664627075, 3.2978007793426514, 2.832756757736206, 2.459286689758301, 2.1274731159210205, 1.9127271175384521, 2.495588541030884, 1.8594608306884766, 1.8597888946533203, 2.7123632431030273, 2.1279356479644775], \"Category\": [\"Default\", \"Default\", \"Default\", \"Default\", \"Default\", \"Default\", \"Default\", \"Default\", \"Default\", \"Default\", \"Default\", \"Default\", \"Default\", \"Default\", \"Default\", \"Default\", \"Default\", \"Default\", \"Default\", \"Default\", \"Default\", \"Default\", \"Default\", \"Default\", \"Default\", \"Default\", \"Default\", \"Default\", \"Default\", \"Default\", \"Topic1\", \"Topic1\", \"Topic1\", \"Topic1\", \"Topic1\", \"Topic1\", \"Topic1\", \"Topic1\", \"Topic1\", \"Topic1\", \"Topic1\", \"Topic1\", \"Topic1\", \"Topic1\", \"Topic1\", \"Topic1\", \"Topic1\", \"Topic1\", \"Topic1\", \"Topic1\", \"Topic1\", \"Topic1\", \"Topic1\", \"Topic1\", \"Topic1\", \"Topic1\", \"Topic1\", \"Topic1\", \"Topic1\", \"Topic1\", \"Topic1\", \"Topic1\", \"Topic1\", \"Topic1\", \"Topic1\", \"Topic1\", \"Topic1\", \"Topic1\", \"Topic1\", \"Topic1\", \"Topic2\", \"Topic2\", \"Topic2\", \"Topic2\", \"Topic2\", \"Topic2\", \"Topic2\", \"Topic2\", \"Topic2\", \"Topic2\", \"Topic2\", \"Topic2\", \"Topic2\", \"Topic2\", \"Topic2\", \"Topic2\", \"Topic2\", \"Topic2\", \"Topic2\", \"Topic2\", \"Topic2\", \"Topic2\", \"Topic2\", \"Topic2\", \"Topic2\", \"Topic2\", \"Topic2\", \"Topic2\", \"Topic2\", \"Topic2\", \"Topic2\", \"Topic2\", \"Topic2\", \"Topic2\", \"Topic2\", \"Topic2\", \"Topic2\", \"Topic2\", \"Topic2\", \"Topic2\", \"Topic2\", \"Topic2\", \"Topic2\", \"Topic3\", \"Topic3\", \"Topic3\", \"Topic3\", \"Topic3\", \"Topic3\", \"Topic3\", \"Topic3\", \"Topic3\", \"Topic3\", \"Topic3\", \"Topic3\", \"Topic3\", \"Topic3\", \"Topic3\", \"Topic3\", \"Topic3\", \"Topic3\", \"Topic3\", \"Topic3\", \"Topic3\", \"Topic3\", \"Topic3\", \"Topic3\", \"Topic3\", \"Topic3\", \"Topic3\", \"Topic3\", \"Topic3\", \"Topic3\", \"Topic3\", \"Topic3\", \"Topic3\", \"Topic3\", \"Topic3\", \"Topic3\", \"Topic3\", \"Topic3\", \"Topic3\", \"Topic3\", \"Topic3\", \"Topic3\", \"Topic4\", \"Topic4\", \"Topic4\", \"Topic4\", \"Topic4\", \"Topic4\", \"Topic4\", \"Topic4\", \"Topic4\", \"Topic4\", \"Topic4\", \"Topic4\", \"Topic4\", \"Topic4\", \"Topic4\", \"Topic4\", \"Topic4\", \"Topic4\", \"Topic4\", \"Topic4\", \"Topic4\", \"Topic4\", \"Topic4\", \"Topic4\", \"Topic4\", \"Topic4\", \"Topic4\", \"Topic4\", \"Topic4\", \"Topic4\", \"Topic4\", \"Topic4\", \"Topic4\", \"Topic4\", \"Topic4\", \"Topic4\", \"Topic4\", \"Topic4\", \"Topic4\", \"Topic5\", \"Topic5\", \"Topic5\", \"Topic5\", \"Topic5\", \"Topic5\", \"Topic5\", \"Topic5\", \"Topic5\", \"Topic5\", \"Topic5\", \"Topic5\", \"Topic5\", \"Topic5\", \"Topic5\", \"Topic5\", \"Topic5\", \"Topic5\", \"Topic5\", \"Topic5\", \"Topic5\", \"Topic5\", \"Topic5\", \"Topic5\", \"Topic5\", \"Topic5\", \"Topic5\", \"Topic5\", \"Topic5\", \"Topic5\", \"Topic5\", \"Topic5\", \"Topic5\", \"Topic5\", \"Topic5\", \"Topic5\", \"Topic5\", \"Topic5\", \"Topic5\", \"Topic5\", \"Topic5\", \"Topic5\", \"Topic5\", \"Topic5\", \"Topic5\", \"Topic5\", \"Topic5\", \"Topic5\", \"Topic5\", \"Topic5\", \"Topic5\", \"Topic5\", \"Topic6\", \"Topic6\", \"Topic6\", \"Topic6\", \"Topic6\", \"Topic6\", \"Topic6\", \"Topic6\", \"Topic6\", \"Topic6\", \"Topic6\", \"Topic6\", \"Topic6\", \"Topic6\", \"Topic6\", \"Topic6\", \"Topic6\", \"Topic6\", \"Topic6\", \"Topic6\", \"Topic6\", \"Topic6\", \"Topic6\", \"Topic6\", \"Topic6\", \"Topic6\", \"Topic6\", \"Topic6\", \"Topic6\", \"Topic6\", \"Topic6\", \"Topic6\", \"Topic6\", \"Topic6\", \"Topic6\", \"Topic6\", \"Topic6\", \"Topic6\", \"Topic6\", \"Topic6\", \"Topic6\", \"Topic6\", \"Topic6\", \"Topic6\", \"Topic6\", \"Topic6\", \"Topic6\", \"Topic6\", \"Topic6\", \"Topic6\", \"Topic6\", \"Topic6\", \"Topic6\", \"Topic6\", \"Topic6\", \"Topic6\", \"Topic7\", \"Topic7\", \"Topic7\", \"Topic7\", \"Topic7\", \"Topic7\", \"Topic7\", \"Topic7\", \"Topic7\", \"Topic7\", \"Topic7\", \"Topic7\", \"Topic7\", \"Topic7\", \"Topic7\", \"Topic7\", \"Topic7\", \"Topic7\", \"Topic7\", \"Topic7\", \"Topic7\", \"Topic7\", \"Topic7\", \"Topic7\", \"Topic7\", \"Topic7\", \"Topic7\", \"Topic7\", \"Topic7\", \"Topic7\", \"Topic7\", \"Topic7\", \"Topic7\", \"Topic7\", \"Topic7\", \"Topic7\", \"Topic7\", \"Topic7\", \"Topic7\", \"Topic7\", \"Topic7\", \"Topic7\", \"Topic7\", \"Topic7\", \"Topic7\", \"Topic7\", \"Topic7\", \"Topic7\", \"Topic7\", \"Topic7\", \"Topic7\", \"Topic7\", \"Topic7\", \"Topic7\", \"Topic7\", \"Topic7\", \"Topic7\", \"Topic7\", \"Topic7\", \"Topic7\", \"Topic7\", \"Topic7\", \"Topic8\", \"Topic8\", \"Topic8\", \"Topic8\", \"Topic8\", \"Topic8\", \"Topic8\", \"Topic8\", \"Topic8\", \"Topic8\", \"Topic8\", \"Topic8\", \"Topic8\", \"Topic8\", \"Topic8\", \"Topic8\", \"Topic8\", \"Topic8\", \"Topic8\", \"Topic8\", \"Topic8\", \"Topic8\", \"Topic8\", \"Topic8\", \"Topic8\", \"Topic8\", \"Topic8\", \"Topic8\", \"Topic8\", \"Topic8\", \"Topic8\", \"Topic8\", \"Topic8\", \"Topic8\", \"Topic8\", \"Topic8\", \"Topic8\", \"Topic8\", \"Topic8\", \"Topic8\", \"Topic8\", \"Topic8\", \"Topic8\", \"Topic8\", \"Topic8\", \"Topic8\", \"Topic8\", \"Topic8\", \"Topic8\", \"Topic8\", \"Topic8\", \"Topic8\", \"Topic8\", \"Topic8\", \"Topic8\", \"Topic8\", \"Topic8\", \"Topic8\", \"Topic8\", \"Topic8\", \"Topic8\", \"Topic8\", \"Topic8\", \"Topic8\", \"Topic8\", \"Topic8\", \"Topic8\", \"Topic8\", \"Topic8\", \"Topic8\", \"Topic8\", \"Topic8\", \"Topic8\", \"Topic8\", \"Topic8\", \"Topic8\", \"Topic8\", \"Topic8\", \"Topic8\", \"Topic8\", \"Topic8\", \"Topic8\"], \"logprob\": [30.0, 29.0, 28.0, 27.0, 26.0, 25.0, 24.0, 23.0, 22.0, 21.0, 20.0, 19.0, 18.0, 17.0, 16.0, 15.0, 14.0, 13.0, 12.0, 11.0, 10.0, 9.0, 8.0, 7.0, 6.0, 5.0, 4.0, 3.0, 2.0, 1.0, -3.4214999675750732, -3.599299907684326, -4.094200134277344, -4.093900203704834, -4.094799995422363, -3.8173999786376953, -4.479899883270264, -4.480000019073486, -4.480400085449219, -4.480199813842773, -4.479100227355957, -4.4807000160217285, -4.481299877166748, -4.094399929046631, -5.113399982452393, -5.1143999099731445, -5.113500118255615, -5.114799976348877, -5.113699913024902, -5.113800048828125, -5.1149001121521, -5.113900184631348, -5.113900184631348, -5.114999771118164, -5.114999771118164, -5.114999771118164, -5.114999771118164, -5.114099979400635, -5.115300178527832, -5.115200042724609, -4.480500221252441, -4.479800224304199, -3.816499948501587, -4.479899883270264, -4.479800224304199, -5.114200115203857, -4.094299793243408, -4.479899883270264, -4.480000019073486, -4.480199813842773, -3.949399948120117, -3.9507999420166016, -3.9521000385284424, -3.566999912261963, -4.58489990234375, -4.58489990234375, -4.58519983291626, -4.58519983291626, -4.58519983291626, -4.585299968719482, -4.585299968719482, -4.585299968719482, -4.585299968719482, -4.587299823760986, -4.587299823760986, -4.587600231170654, -4.587699890136719, -4.587800025939941, -4.587800025939941, -4.587800025939941, -4.587900161743164, -4.587900161743164, -4.587900161743164, -4.587800025939941, -4.587900161743164, -4.587900161743164, -4.587900161743164, -4.5879998207092285, -4.5879998207092285, -4.5879998207092285, -3.952199935913086, -3.950700044631958, -3.950900077819824, -3.95169997215271, -4.5833001136779785, -4.583899974822998, -4.585400104522705, -4.5854997634887695, -4.587299823760986, -4.587399959564209, -4.587399959564209, -4.587699890136719, -4.587800025939941, -3.671799898147583, -3.6719000339508057, -3.6719000339508057, -3.6723999977111816, -4.307600021362305, -4.307700157165527, -4.307700157165527, -4.307799816131592, -4.3078999519348145, -4.3078999519348145, -4.3078999519348145, -4.3078999519348145, -4.3078999519348145, -4.3078999519348145, -4.308000087738037, -4.308000087738037, -4.308000087738037, -4.308000087738037, -4.30810022354126, -4.30810022354126, -4.30810022354126, -4.308199882507324, -4.308300018310547, -4.3084001541137695, -4.308599948883057, -3.6717000007629395, -3.671799898147583, -4.308199882507324, -4.3053998947143555, -4.305699825286865, -3.668800115585327, -3.668600082397461, -4.305200099945068, -4.3053998947143555, -4.306099891662598, -4.307400226593018, -4.307499885559082, -4.307499885559082, -4.307499885559082, -4.307700157165527, -4.3078999519348145, -4.3078999519348145, -4.180099964141846, -4.180099964141846, -4.180200099945068, -4.180200099945068, -4.180300235748291, -4.180300235748291, -4.180300235748291, -4.180300235748291, -4.180300235748291, -4.180300235748291, -4.1803998947143555, -4.1803998947143555, -4.1803998947143555, -4.180500030517578, -4.180500030517578, -4.180500030517578, -4.180500030517578, -4.180500030517578, -4.180500030517578, -4.180600166320801, -4.180600166320801, -4.180600166320801, -4.180600166320801, -4.180600166320801, -4.180699825286865, -4.180699825286865, -3.544300079345703, -4.180099964141846, -4.1809000968933105, -4.177999973297119, -3.5436999797821045, -4.179299831390381, -4.178299903869629, -4.178599834442139, -4.179100036621094, -4.179299831390381, -4.180200099945068, -4.1803998947143555, -4.1803998947143555, -3.843600034713745, -3.843600034713745, -3.843600034713745, -3.843600034713745, -3.843600034713745, -3.843600034713745, -3.843600034713745, -3.843600034713745, -3.843600034713745, -3.843600034713745, -3.843600034713745, -3.843600034713745, -3.843600034713745, -3.206700086593628, -3.843600034713745, -3.842400074005127, -3.8431999683380127, -3.8431999683380127, -3.8420000076293945, -6.040800094604492, -6.040800094604492, -6.040800094604492, -6.040800094604492, -6.040800094604492, -6.040800094604492, -6.040800094604492, -6.040800094604492, -6.040800094604492, -6.040800094604492, -6.040800094604492, -6.0278000831604, -6.0278000831604, -6.028500080108643, -6.02869987487793, -6.028900146484375, -6.0289998054504395, -6.029200077056885, -6.029399871826172, -6.029399871826172, -6.027599811553955, -6.029799938201904, -6.019499778747559, -5.997900009155273, -6.012599945068359, -6.007400035858154, -6.019499778747559, -6.0167999267578125, -6.018099784851074, -6.024099826812744, -6.024400234222412, -6.026899814605713, -6.0269999504089355, -3.828700065612793, -3.828700065612793, -3.828700065612793, -3.828700065612793, -3.828700065612793, -3.828700065612793, -3.828700065612793, -3.828700065612793, -3.828700065612793, -3.828700065612793, -3.828700065612793, -3.828700065612793, -3.190999984741211, -3.828700065612793, -3.828700065612793, -3.828700065612793, -3.8266000747680664, -3.8238000869750977, -6.01200008392334, -6.014400005340576, -6.015699863433838, -6.015900135040283, -6.017000198364258, -6.017600059509277, -6.018199920654297, -6.0192999839782715, -6.019700050354004, -6.020299911499023, -6.025899887084961, -6.025899887084961, -6.025899887084961, -6.025899887084961, -6.025899887084961, -6.025899887084961, -6.025899887084961, -6.025899887084961, -5.998199939727783, -6.000199794769287, -6.001100063323975, -5.949699878692627, -5.9604997634887695, -6.001399993896484, -6.001699924468994, -5.974800109863281, -5.985899925231934, -6.001800060272217, -6.0019001960754395, -5.978499889373779, -5.984399795532227, -5.981100082397461, -5.986100196838379, -5.990099906921387, -5.984899997711182, -5.984300136566162, -5.98390007019043, -5.982999801635742, -3.764400005340576, -3.764400005340576, -3.7644999027252197, -3.7646000385284424, -3.764699935913086, -3.764699935913086, -3.764899969100952, -3.764899969100952, -3.765000104904175, -3.7653000354766846, -3.763700008392334, -3.7639999389648438, -3.763200044631958, -3.7636001110076904, -3.764899969100952, -3.7634999752044678, -5.960999965667725, -5.960999965667725, -5.960999965667725, -5.960999965667725, -5.960999965667725, -5.960999965667725, -5.960999965667725, -5.960999965667725, -5.960999965667725, -5.960999965667725, -5.960999965667725, -5.960999965667725, -5.960999965667725, -5.960999965667725, -5.960999965667725, -5.960999965667725, -5.960999965667725, -5.960999965667725, -5.960999965667725, -5.951499938964844, -5.951600074768066, -5.951900005340576, -5.951900005340576, -5.952099800109863, -5.952099800109863, -5.952400207519531, -5.952499866485596, -5.952499866485596, -5.952600002288818, -5.952700138092041, -5.943299770355225, -5.9527997970581055, -5.9527997970581055, -5.935100078582764, -5.938499927520752, -5.93179988861084, -5.934599876403809, -5.945799827575684, -5.942800045013428, -5.946700096130371, -5.942699909210205, -5.94379997253418, -5.943900108337402, -5.945899963378906, -5.946199893951416, -5.946499824523926, -5.559500217437744, -5.559500217437744, -5.559500217437744, -5.559500217437744, -5.559500217437744, -5.559500217437744, -5.559500217437744, -5.559500217437744, -5.559500217437744, -5.559500217437744, -5.559500217437744, -5.559500217437744, -5.559500217437744, -5.559500217437744, -5.559500217437744, -5.559500217437744, -5.559500217437744, -5.559500217437744, -5.559500217437744, -5.559500217437744, -5.559500217437744, -5.559500217437744, -5.559500217437744, -5.559500217437744, -5.559500217437744, -5.559500217437744, -5.559500217437744, -5.559500217437744, -5.559500217437744, -5.559500217437744, -5.559500217437744, -5.559500217437744, -5.559500217437744, -5.559500217437744, -5.559500217437744, -5.549499988555908, -5.5507001876831055, -5.5528998374938965, -5.551000118255615, -5.522600173950195, -5.54449987411499, -5.54610013961792, -5.546199798583984, -5.551400184631348, -5.541600227355957, -5.544099807739258, -5.551700115203857, -5.5518999099731445, -5.552000045776367, -5.55210018157959, -5.55210018157959, -5.55210018157959, -5.552299976348877, -5.552299976348877, -5.552499771118164, -5.552599906921387, -5.553599834442139, -5.552700042724609, -5.552700042724609, -5.552700042724609, -5.553699970245361, -5.552700042724609, -5.553800106048584, -5.553999900817871, -5.554100036621094, -5.539400100708008, -5.5457000732421875, -5.546000003814697, -5.5467000007629395, -5.547699928283691, -5.548600196838379, -5.549900054931641, -5.5507001876831055, -5.551000118255615, -5.551000118255615, -5.55109977722168, -5.551199913024902, -5.551199913024902, -5.551300048828125, -5.551499843597412, -5.551700115203857, -5.552000045776367], \"loglift\": [30.0, 29.0, 28.0, 27.0, 26.0, 25.0, 24.0, 23.0, 22.0, 21.0, 20.0, 19.0, 18.0, 17.0, 16.0, 15.0, 14.0, 13.0, 12.0, 11.0, 10.0, 9.0, 8.0, 7.0, 6.0, 5.0, 4.0, 3.0, 2.0, 1.0, 0.8256999850273132, 0.8126000165939331, 0.762499988079071, 0.7623999714851379, 0.7620999813079834, 0.7087000012397766, 0.7050999999046326, 0.7049999833106995, 0.7049000263214111, 0.704800009727478, 0.7045999765396118, 0.7045000195503235, 0.7041000127792358, 0.5893999934196472, 0.5623000264167786, 0.5623000264167786, 0.5622000098228455, 0.5620999932289124, 0.5619999766349792, 0.5619000196456909, 0.5619000196456909, 0.5619000196456909, 0.5618000030517578, 0.5618000030517578, 0.5618000030517578, 0.5618000030517578, 0.5618000030517578, 0.5616000294685364, 0.5616000294685364, 0.5616000294685364, 0.5598000288009644, 0.5471000075340271, 0.3815000057220459, 0.4189999997615814, 0.4189999997615814, 0.5615000128746033, 0.17910000681877136, 0.2669999897480011, 0.22310000658035278, 0.03970000147819519, 1.3560999631881714, 1.355299949645996, 1.354699969291687, 1.226699948310852, 1.1892999410629272, 1.1892000436782837, 1.1891000270843506, 1.1891000270843506, 1.1890000104904175, 1.1890000104904175, 1.1890000104904175, 1.1890000104904175, 1.1890000104904175, 1.1878000497817993, 1.1878000497817993, 1.187600016593933, 1.187600016593933, 1.1875, 1.1875, 1.1875, 1.1875, 1.1875, 1.187399983406067, 1.187399983406067, 1.187399983406067, 1.187399983406067, 1.187399983406067, 1.187399983406067, 1.1872999668121338, 1.1872999668121338, 1.0735000371932983, 0.9916999936103821, 0.9916999936103821, 0.9909999966621399, 0.6599000096321106, 0.6593000292778015, 0.1177000030875206, 0.6582000255584717, 0.6567000150680542, -0.3894999921321869, 0.4763000011444092, 0.7997000217437744, 0.3111000061035156, 1.739300012588501, 1.739300012588501, 1.7391999959945679, 1.7388999462127686, 1.5501999855041504, 1.5500999689102173, 1.5500999689102173, 1.5499999523162842, 1.5499999523162842, 1.5499000549316406, 1.5499000549316406, 1.5499000549316406, 1.5499000549316406, 1.5499000549316406, 1.5499000549316406, 1.5499000549316406, 1.5499000549316406, 1.5499000549316406, 1.5498000383377075, 1.5498000383377075, 1.5498000383377075, 1.5497000217437744, 1.5497000217437744, 1.5496000051498413, 1.549399971961975, 1.544800043106079, 1.3918999433517456, 1.2479000091552734, 0.9861999750137329, 0.9861999750137329, 0.6046000123023987, 0.5292999744415283, 0.3978999853134155, 0.4415000081062317, 0.9854999780654907, 0.9843000173568726, 0.9843000173568726, 0.7281000018119812, 0.9843000173568726, 0.984000027179718, 0.7178000211715698, 0.670199990272522, 1.7276999950408936, 1.7275999784469604, 1.7275999784469604, 1.7274999618530273, 1.7274999618530273, 1.7274999618530273, 1.7274999618530273, 1.7274999618530273, 1.7274999618530273, 1.7273999452590942, 1.7273999452590942, 1.7273999452590942, 1.7273999452590942, 1.7273999452590942, 1.7273000478744507, 1.7273000478744507, 1.7273000478744507, 1.7273000478744507, 1.7273000478744507, 1.7273000478744507, 1.7273000478744507, 1.7272000312805176, 1.7272000312805176, 1.7272000312805176, 1.7271000146865845, 1.7271000146865845, 1.3837000131607056, 1.2072999477386475, 1.172700047492981, 1.1418999433517456, 0.7297000288963318, 1.1404000520706177, 0.3416999876499176, 0.8569999933242798, 0.5047000050544739, 0.5676000118255615, 1.1395000219345093, 1.1395000219345093, 0.6133000254631042, 2.2511000633239746, 2.2511000633239746, 2.2511000633239746, 2.2511000633239746, 2.2511000633239746, 2.2511000633239746, 2.2511000633239746, 2.2511000633239746, 2.2511000633239746, 2.2511000633239746, 2.2511000633239746, 2.2511000633239746, 2.2511000633239746, 2.146899938583374, 1.8966000080108643, 1.7137000560760498, 1.5760999917984009, 1.5759999752044678, 0.6779000163078308, 0.11490000039339066, 0.11479999870061874, 0.11479999870061874, 0.11479999870061874, 0.11479999870061874, 0.11479999870061874, 0.11479999870061874, 0.11479999870061874, 0.11479999870061874, 0.11479999870061874, 0.07509999722242355, -0.11990000307559967, -0.11990000307559967, -0.12070000171661377, -0.120899997651577, -0.12110000103712082, -0.12120000272989273, -0.12129999697208405, -0.12150000035762787, -0.12160000205039978, -0.16949999332427979, -0.12200000137090683, -0.6082000136375427, -1.7244999408721924, -1.2656999826431274, -1.809399962425232, -0.9839000105857849, -1.7696000337600708, -1.3343000411987305, -1.0960999727249146, -0.7045999765396118, -0.7350999712944031, -0.6158999800682068, 2.287100076675415, 2.287100076675415, 2.287100076675415, 2.287100076675415, 2.287100076675415, 2.287100076675415, 2.287100076675415, 2.287100076675415, 2.287100076675415, 2.287100076675415, 2.287100076675415, 2.287100076675415, 2.1031999588012695, 1.9114999771118164, 1.6003999710083008, 1.3877999782562256, 1.2001999616622925, 0.6960999965667725, 0.1436000019311905, 0.1412000060081482, 0.13989999890327454, 0.1396999955177307, 0.13860000669956207, 0.1379999965429306, 0.13740000128746033, 0.1362999975681305, 0.13600000739097595, 0.13529999554157257, 0.06880000233650208, 0.06880000233650208, 0.06880000233650208, 0.06880000233650208, 0.06880000233650208, 0.06880000233650208, 0.06880000233650208, 0.06880000233650208, -0.2223999947309494, -0.22470000386238098, -0.2257000058889389, -1.4235999584197998, -1.1668000221252441, -0.22599999606609344, -0.22609999775886536, -0.8837000131607056, -0.7416999936103821, -0.2264000028371811, -0.22630000114440918, -1.0795999765396118, -0.7990000247955322, -1.0388000011444092, -0.8008999824523926, -0.6832000017166138, -0.9592000246047974, -1.041700005531311, -1.1272000074386597, -1.5710999965667725, 2.3912999629974365, 2.391200065612793, 2.3910999298095703, 2.3910000324249268, 2.3910000324249268, 2.390899896621704, 2.3907999992370605, 2.390700101852417, 2.3905999660491943, 2.3903000354766846, 1.763800024986267, 1.6861000061035156, 1.3279000520706177, 1.2767000198364258, 1.163100004196167, 0.7626000046730042, 0.15489999949932098, 0.15489999949932098, 0.15489999949932098, 0.15489999949932098, 0.15489999949932098, 0.15489999949932098, 0.15489999949932098, 0.15489999949932098, 0.15489999949932098, 0.15489999949932098, 0.15489999949932098, 0.15489999949932098, 0.13379999995231628, 0.13379999995231628, 0.13379999995231628, 0.13379999995231628, 0.13379999995231628, 0.13379999995231628, 0.13379999995231628, -0.17579999566078186, -0.17630000412464142, -0.17649999260902405, -0.17649999260902405, -0.1777999997138977, -0.17659999430179596, -0.17810000479221344, -0.17820000648498535, -0.17820000648498535, -0.17829999327659607, -0.17730000615119934, -0.6378999948501587, -0.17749999463558197, -0.17720000445842743, -1.1413999795913696, -0.9958999752998352, -1.7338000535964966, -1.687399983406067, -0.7020999789237976, -1.000100016593933, -0.6398000121116638, -1.2395999431610107, -1.423799991607666, -1.0449999570846558, -1.0470999479293823, -0.9204999804496765, -1.2626999616622925, 0.5960999727249146, 0.5960999727249146, 0.5960999727249146, 0.5960999727249146, 0.5960999727249146, 0.5960999727249146, 0.5960999727249146, 0.5960999727249146, 0.5960999727249146, 0.5960999727249146, 0.5562999844551086, 0.5562999844551086, 0.5562999844551086, 0.5562999844551086, 0.5562999844551086, 0.5562999844551086, 0.5562999844551086, 0.5562999844551086, 0.5562999844551086, 0.5562999844551086, 0.5562999844551086, 0.5562999844551086, 0.5351999998092651, 0.5351999998092651, 0.5351999998092651, 0.5351999998092651, 0.5351999998092651, 0.5351999998092651, 0.5351999998092651, 0.5351999998092651, 0.5351999998092651, 0.5351999998092651, 0.5351999998092651, 0.5351999998092651, 0.5351999998092651, 0.1273999959230423, 0.12620000541210175, 0.22259999811649323, 0.125900000333786, -1.2754000425338745, -0.3005000054836273, -0.23929999768733978, -0.3019999861717224, 0.12549999356269836, -0.8578000068664551, -0.6014999747276306, 0.1251000016927719, 0.12489999830722809, 0.12479999661445618, 0.12479999661445618, 0.12470000237226486, 0.12489999830722809, 0.12439999729394913, 0.12449999898672104, 0.12449999898672104, 0.1242000013589859, 0.22200000286102295, 0.12409999966621399, 0.12409999966621399, 0.1242000013589859, 0.2215999960899353, 0.12399999797344208, 0.22169999778270721, 0.22139999270439148, 0.22139999270439148, -1.3415000438690186, -0.7519999742507935, -1.1340999603271484, -1.273300051689148, -1.0276999473571777, -0.6498000025749207, -0.2581000030040741, -0.8036999702453613, -0.6521000266075134, -0.510699987411499, -0.3659000098705292, -0.25949999690055847, -0.525600016117096, -0.2313999980688095, -0.23180000483989716, -0.6093000173568726, -0.3668999969959259]}, \"token.table\": {\"Topic\": [4, 3, 1, 1, 2, 1, 4, 2, 3, 1, 4, 1, 3, 1, 1, 2, 1, 3, 1, 2, 1, 2, 1, 2, 3, 2, 4, 1, 2, 4, 1, 2, 3, 2, 1, 1, 2, 4, 4, 1, 3, 1, 4, 1, 3, 1, 2, 2, 1, 1, 1, 4, 2, 2, 3, 1, 1, 2, 2, 1, 1, 4, 1, 2, 3, 1, 4, 2, 1, 3, 2, 3, 1, 2, 2, 4, 2, 2, 1, 3, 4, 2, 4, 1, 4, 1, 3, 1, 3, 3, 1, 4, 1, 3, 3, 3, 4, 1, 4, 1, 4, 1, 2, 2, 1, 3, 3, 3, 1, 3, 4, 5, 1, 2, 1, 2, 3, 2, 2, 2, 1, 2, 1, 4, 1, 2, 3, 1, 1, 3, 2, 2, 4, 1, 2, 3, 4, 2, 1, 3, 4, 4, 1, 1, 2, 1, 1, 1, 1, 4, 2, 2, 4, 2, 6, 2, 2, 2, 3, 3, 3, 1, 1, 4, 1, 3, 2, 1, 3, 4, 4, 2, 1, 3, 1, 2, 1, 2, 4, 3, 4, 2, 3, 2, 1, 1, 4, 1, 1, 4, 1, 2, 4, 1, 4, 2, 1, 3, 3, 1, 1, 1, 2, 3, 2, 2, 4, 1, 2, 3, 2, 3, 4, 1, 3, 2, 2, 4, 2, 1, 1, 2, 1], \"Freq\": [0.9681013822555542, 0.9209885597229004, 0.7684618830680847, 0.49845898151397705, 0.49845898151397705, 0.5377272963523865, 0.5377272963523865, 0.8480483293533325, 0.9210572242736816, 0.7676509022712708, 0.968172550201416, 0.7684352993965149, 0.5891700387001038, 0.7676234841346741, 0.7059596180915833, 0.3529798090457916, 0.5227958559989929, 0.5227958559989929, 0.9199086427688599, 0.8471532464027405, 0.4980807304382324, 0.4980807304382324, 0.3686821758747101, 0.3686821758747101, 0.9211320877075195, 0.8479834198951721, 0.9681564569473267, 0.4983220100402832, 0.4983220100402832, 0.9681165814399719, 0.4980728030204773, 0.4980728030204773, 0.9209365248680115, 0.6618586778640747, 0.9398096799850464, 0.7685599327087402, 0.8481486439704895, 0.968125581741333, 0.9681248068809509, 0.768426239490509, 0.9209932088851929, 0.7676172256469727, 0.9681623578071594, 0.940081000328064, 0.5891607403755188, 0.36880916357040405, 0.36880916357040405, 0.8471505641937256, 0.7684450149536133, 0.7685004472732544, 0.3634145259857178, 0.3634145259857178, 0.8480391502380371, 0.8481733798980713, 0.9209423661231995, 0.7685454487800598, 0.9400823712348938, 0.8480054140090942, 0.8482215404510498, 0.768630862236023, 0.5378099679946899, 0.5378099679946899, 0.49859240651130676, 0.49859240651130676, 0.9209895133972168, 0.6125860810279846, 0.9681594371795654, 0.8479683995246887, 0.5228137373924255, 0.5228137373924255, 0.40070709586143494, 0.40070709586143494, 0.36877527832984924, 0.36877527832984924, 0.5753905773162842, 0.5753905773162842, 0.8471215963363647, 0.8471469879150391, 0.5665420293807983, 0.1888473480939865, 0.1888473480939865, 0.8480589985847473, 0.9681286215782166, 0.867631196975708, 0.9681718945503235, 0.5229171514511108, 0.5229171514511108, 0.5228039026260376, 0.5228039026260376, 0.9209991097450256, 0.5376954078674316, 0.5376954078674316, 1.0152795314788818, 0.9210277199745178, 0.9209985733032227, 0.9210386276245117, 0.9682061672210693, 0.7676287889480591, 0.9680991172790527, 1.015389323234558, 0.9681228995323181, 0.7675920128822327, 0.8480933904647827, 0.5308058261871338, 0.7676096558570862, 0.9210848212242126, 0.9210014343261719, 0.9210011959075928, 0.5998243689537048, 0.9209926128387451, 0.5562474727630615, 0.5562474727630615, 0.9402639269828796, 0.8471639156341553, 0.5804816484451294, 0.2902408242225647, 0.2902408242225647, 0.848015546798706, 0.8483776450157166, 0.8479533195495605, 0.7676420211791992, 0.8478156924247742, 0.9385852217674255, 0.9682062864303589, 0.5253819227218628, 0.175127312541008, 0.175127312541008, 0.7683441042900085, 0.5228752493858337, 0.5228752493858337, 0.8480355143547058, 0.6355071663856506, 0.3177535831928253, 0.7684197425842285, 0.847134530544281, 0.5892524123191833, 0.9681766629219055, 0.8481303453445435, 0.6064647436141968, 0.3032323718070984, 0.3032323718070984, 0.9681332111358643, 0.7685540318489075, 0.7294581532478333, 0.8482651114463806, 0.8023661375045776, 0.7684613466262817, 1.014821171760559, 0.8540109992027283, 0.28467032313346863, 0.8480055332183838, 0.8470562100410461, 0.9681639075279236, 0.5241312980651855, 0.5241312980651855, 0.8479664325714111, 0.8481006622314453, 0.5300806164741516, 0.9210207462310791, 0.9210624694824219, 0.4849727153778076, 0.5939531922340393, 0.768552303314209, 0.9681450724601746, 0.5229059457778931, 0.5229059457778931, 0.8471493721008301, 0.40472501516342163, 0.40472501516342163, 0.40472501516342163, 0.9681825041770935, 0.8478360772132874, 0.5228643417358398, 0.5228643417358398, 0.7684640884399414, 0.8480497598648071, 0.48331308364868164, 0.24165654182434082, 0.24165654182434082, 0.6811128854751587, 0.968180239200592, 0.4162521958351135, 0.4162521958351135, 0.8480190634727478, 0.7684381604194641, 0.8132439255714417, 0.9681897759437561, 0.7675837874412537, 0.7686045169830322, 0.9681364297866821, 0.4985678195953369, 0.4985678195953369, 0.9681493043899536, 0.5377902984619141, 0.5377902984619141, 0.8481715321540833, 0.9398780465126038, 0.9209712743759155, 0.9209873676300049, 0.9398297071456909, 0.7685222625732422, 0.4278240501880646, 0.4278240501880646, 0.9209771752357483, 0.8479394316673279, 0.5304322242736816, 0.9681426882743835, 0.3821162283420563, 0.3821162283420563, 0.3821162283420563, 0.8480119705200195, 0.9209223389625549, 0.9680837988853455, 0.5939785242080688, 0.5891759395599365, 0.8470406532287598, 0.8480432629585266, 0.9681858420372009, 0.8481706380844116, 0.7684195041656494, 0.706026017665863, 0.3530130088329315, 0.7684249877929688], \"Term\": [\"able\", \"advertise\", \"agent\", \"air\", \"air\", \"also\", \"also\", \"always\", \"anymore\", \"apart\", \"apologise\", \"area\", \"argue\", \"arrival\", \"asty\", \"asty\", \"away\", \"away\", \"bad\", \"badly\", \"bar\", \"bar\", \"basic\", \"basic\", \"best\", \"bicycle\", \"big\", \"bit\", \"bit\", \"break\", \"breakfast\", \"breakfast\", \"bus\", \"business\", \"cab\", \"call\", \"carpet\", \"centre\", \"change\", \"cheap\", \"cigarette\", \"clean\", \"client\", \"cold\", \"come\", \"condition\", \"condition\", \"confirnation\", \"curb\", \"customer\", \"day\", \"day\", \"deny\", \"devise\", \"dirty\", \"doubt\", \"dump\", \"empty\", \"equip\", \"esp\", \"even\", \"even\", \"ever\", \"ever\", \"exhaustion\", \"far\", \"fashion\", \"fee\", \"feeling\", \"feeling\", \"fill\", \"fill\", \"find\", \"find\", \"food\", \"food\", \"force\", \"full\", \"get\", \"get\", \"get\", \"gim\", \"give\", \"go\", \"greet\", \"guest\", \"guest\", \"hall\", \"hall\", \"hot\", \"hour\", \"hour\", \"hourly\", \"howl\", \"image\", \"impression\", \"ingredient\", \"inviting\", \"judge\", \"keep\", \"key\", \"larnaca\", \"last\", \"less\", \"light\", \"limasol\", \"linger\", \"lobby\", \"location\", \"long\", \"look\", \"look\", \"low\", \"mail\", \"make\", \"make\", \"make\", \"match\", \"mattress\", \"maybe\", \"meal\", \"mini\", \"much\", \"next\", \"night\", \"night\", \"night\", \"nightmare\", \"noise\", \"noise\", \"number\", \"old\", \"old\", \"ordeal\", \"organize\", \"overall\", \"overlook\", \"part\", \"pay\", \"pay\", \"pay\", \"person\", \"phone\", \"place\", \"polite\", \"price\", \"pull\", \"quiet\", \"rate\", \"rate\", \"reality\", \"receive\", \"reception\", \"recommend\", \"recommend\", \"recommendation\", \"request\", \"reservation\", \"rest\", \"ride\", \"rude\", \"run\", \"sanity\", \"save\", \"say\", \"say\", \"search\", \"seem\", \"seem\", \"seem\", \"sell\", \"service\", \"shower\", \"shower\", \"sick\", \"sight\", \"smell\", \"smell\", \"smell\", \"smoke\", \"sometimes\", \"staff\", \"staff\", \"standard\", \"star\", \"stay\", \"strange\", \"street\", \"surprise\", \"table\", \"take\", \"take\", \"tear\", \"tell\", \"tell\", \"thetripadviseor\", \"thing\", \"time\", \"tired\", \"town\", \"travel\", \"trip\", \"trip\", \"try\", \"uncomfortable\", \"unfortunately\", \"unfriendly\", \"use\", \"use\", \"use\", \"visitor\", \"wake\", \"wall\", \"want\", \"water\", \"website\", \"week\", \"well\", \"wonder\", \"wonderful\", \"work\", \"work\", \"wrong\"]}, \"R\": 30, \"lambda.step\": 0.01, \"plot.opts\": {\"xlab\": \"PC1\", \"ylab\": \"PC2\"}, \"topic.order\": [1, 6, 5, 4, 8, 2, 7, 3]};\n",
       "\n",
       "function LDAvis_load_lib(url, callback){\n",
       "  var s = document.createElement('script');\n",
       "  s.src = url;\n",
       "  s.async = true;\n",
       "  s.onreadystatechange = s.onload = callback;\n",
       "  s.onerror = function(){console.warn(\"failed to load library \" + url);};\n",
       "  document.getElementsByTagName(\"head\")[0].appendChild(s);\n",
       "}\n",
       "\n",
       "if(typeof(LDAvis) !== \"undefined\"){\n",
       "   // already loaded: just create the visualization\n",
       "   !function(LDAvis){\n",
       "       new LDAvis(\"#\" + \"ldavis_el2446023685091897046592689967\", ldavis_el2446023685091897046592689967_data);\n",
       "   }(LDAvis);\n",
       "}else if(typeof define === \"function\" && define.amd){\n",
       "   // require.js is available: use it to load d3/LDAvis\n",
       "   require.config({paths: {d3: \"https://cdnjs.cloudflare.com/ajax/libs/d3/3.5.5/d3.min\"}});\n",
       "   require([\"d3\"], function(d3){\n",
       "      window.d3 = d3;\n",
       "      LDAvis_load_lib(\"https://cdn.rawgit.com/bmabey/pyLDAvis/files/ldavis.v1.0.0.js\", function(){\n",
       "        new LDAvis(\"#\" + \"ldavis_el2446023685091897046592689967\", ldavis_el2446023685091897046592689967_data);\n",
       "      });\n",
       "    });\n",
       "}else{\n",
       "    // require.js not available: dynamically load d3 & LDAvis\n",
       "    LDAvis_load_lib(\"https://cdnjs.cloudflare.com/ajax/libs/d3/3.5.5/d3.min.js\", function(){\n",
       "         LDAvis_load_lib(\"https://cdn.rawgit.com/bmabey/pyLDAvis/files/ldavis.v1.0.0.js\", function(){\n",
       "                 new LDAvis(\"#\" + \"ldavis_el2446023685091897046592689967\", ldavis_el2446023685091897046592689967_data);\n",
       "            })\n",
       "         });\n",
       "}\n",
       "</script>"
      ],
      "text/plain": [
       "PreparedData(topic_coordinates=              x         y  topics  cluster       Freq\n",
       "topic                                                \n",
       "0     -0.043111  0.172558       1        1  40.696461\n",
       "5     -0.185854 -0.023609       2        1  20.484253\n",
       "4      0.150966 -0.088526       3        1  13.441088\n",
       "3      0.127195  0.074004       4        1  10.805668\n",
       "7     -0.053094 -0.082068       5        1   5.287101\n",
       "1      0.014103 -0.097225       6        1   4.965142\n",
       "6     -0.006475  0.048923       7        1   4.234844\n",
       "2     -0.003731 -0.004057       8        1   0.085448, topic_info=          Term      Freq     Total Category  logprob  loglift\n",
       "29       place  4.000000  4.000000  Default  30.0000  30.0000\n",
       "176        day  2.000000  2.000000  Default  29.0000  29.0000\n",
       "154  recommend  1.000000  1.000000  Default  28.0000  28.0000\n",
       "17         get  5.000000  5.000000  Default  27.0000  27.0000\n",
       "37        stay  2.000000  2.000000  Default  26.0000  26.0000\n",
       "..         ...       ...       ...      ...      ...      ...\n",
       "56        fill  0.001261  2.495589   Topic8  -5.5512  -0.5256\n",
       "40        tell  0.001261  1.859461   Topic8  -5.5513  -0.2314\n",
       "20        hour  0.001260  1.859789   Topic8  -5.5515  -0.2318\n",
       "127      basic  0.001260  2.712363   Topic8  -5.5517  -0.6093\n",
       "41       thing  0.001260  2.127936   Topic8  -5.5520  -0.3669\n",
       "\n",
       "[446 rows x 6 columns], token_table=      Topic      Freq       Term\n",
       "term                            \n",
       "169       4  0.968101       able\n",
       "47        3  0.920989  advertise\n",
       "0         1  0.768462      agent\n",
       "1         1  0.498459        air\n",
       "1         2  0.498459        air\n",
       "...     ...       ...        ...\n",
       "168       2  0.848171     wonder\n",
       "44        1  0.768420  wonderful\n",
       "45        1  0.706026       work\n",
       "45        2  0.353013       work\n",
       "46        1  0.768425      wrong\n",
       "\n",
       "[223 rows x 3 columns], R=30, lambda_step=0.01, plot_opts={'xlab': 'PC1', 'ylab': 'PC2'}, topic_order=[1, 6, 5, 4, 8, 2, 7, 3])"
      ]
     },
     "metadata": {},
     "output_type": "display_data"
    }
   ],
   "source": [
    "plot_model(tune_lda_negative, plot ='topic_model')"
   ]
  },
  {
   "cell_type": "code",
   "execution_count": 32,
   "metadata": {},
   "outputs": [],
   "source": [
    "import os"
   ]
  },
  {
   "cell_type": "code",
   "execution_count": 33,
   "metadata": {},
   "outputs": [
    {
     "data": {
      "text/plain": [
       "'C:\\\\Users\\\\Dell'"
      ]
     },
     "execution_count": 33,
     "metadata": {},
     "output_type": "execute_result"
    }
   ],
   "source": [
    "os.getcwd()"
   ]
  },
  {
   "cell_type": "code",
   "execution_count": null,
   "metadata": {},
   "outputs": [],
   "source": []
  }
 ],
 "metadata": {
  "kernelspec": {
   "display_name": "Python 3",
   "language": "python",
   "name": "python3"
  },
  "language_info": {
   "codemirror_mode": {
    "name": "ipython",
    "version": 3
   },
   "file_extension": ".py",
   "mimetype": "text/x-python",
   "name": "python",
   "nbconvert_exporter": "python",
   "pygments_lexer": "ipython3",
   "version": "3.7.4"
  }
 },
 "nbformat": 4,
 "nbformat_minor": 2
}
