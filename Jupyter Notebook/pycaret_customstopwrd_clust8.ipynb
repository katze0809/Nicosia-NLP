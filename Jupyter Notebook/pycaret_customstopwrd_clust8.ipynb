{
 "cells": [
  {
   "cell_type": "code",
   "execution_count": 1,
   "metadata": {},
   "outputs": [],
   "source": [
    "import pandas as pd\n",
    "import glob"
   ]
  },
  {
   "cell_type": "markdown",
   "metadata": {},
   "source": [
    "# Positive Reviews"
   ]
  },
  {
   "cell_type": "code",
   "execution_count": 2,
   "metadata": {},
   "outputs": [
    {
     "data": {
      "text/html": [
       "<div>\n",
       "<style scoped>\n",
       "    .dataframe tbody tr th:only-of-type {\n",
       "        vertical-align: middle;\n",
       "    }\n",
       "\n",
       "    .dataframe tbody tr th {\n",
       "        vertical-align: top;\n",
       "    }\n",
       "\n",
       "    .dataframe thead th {\n",
       "        text-align: right;\n",
       "    }\n",
       "</style>\n",
       "<table border=\"1\" class=\"dataframe\">\n",
       "  <thead>\n",
       "    <tr style=\"text-align: right;\">\n",
       "      <th></th>\n",
       "      <th>Unnamed: 0</th>\n",
       "      <th>r_points</th>\n",
       "      <th>r_text</th>\n",
       "      <th>place</th>\n",
       "      <th>scores</th>\n",
       "      <th>compound</th>\n",
       "      <th>score</th>\n",
       "    </tr>\n",
       "  </thead>\n",
       "  <tbody>\n",
       "    <tr>\n",
       "      <th>0</th>\n",
       "      <td>0</td>\n",
       "      <td>30</td>\n",
       "      <td>The Centre of Visual Arts and Research (CVAR) ...</td>\n",
       "      <td>Centre of Visual Arts and Research</td>\n",
       "      <td>{'neg': 0.036, 'neu': 0.859, 'pos': 0.105, 'co...</td>\n",
       "      <td>0.9542</td>\n",
       "      <td>pos</td>\n",
       "    </tr>\n",
       "    <tr>\n",
       "      <th>1</th>\n",
       "      <td>1</td>\n",
       "      <td>50</td>\n",
       "      <td>Beautiful museum. Very interesting. It is one ...</td>\n",
       "      <td>Centre of Visual Arts and Research</td>\n",
       "      <td>{'neg': 0.0, 'neu': 0.538, 'pos': 0.462, 'comp...</td>\n",
       "      <td>0.9476</td>\n",
       "      <td>pos</td>\n",
       "    </tr>\n",
       "    <tr>\n",
       "      <th>2</th>\n",
       "      <td>2</td>\n",
       "      <td>50</td>\n",
       "      <td>Recommended by our B&amp;B host- fabulous well lai...</td>\n",
       "      <td>Centre of Visual Arts and Research</td>\n",
       "      <td>{'neg': 0.0, 'neu': 0.65, 'pos': 0.35, 'compou...</td>\n",
       "      <td>0.9508</td>\n",
       "      <td>pos</td>\n",
       "    </tr>\n",
       "    <tr>\n",
       "      <th>3</th>\n",
       "      <td>3</td>\n",
       "      <td>50</td>\n",
       "      <td>This is a wonderful establishment. Entrance fe...</td>\n",
       "      <td>Centre of Visual Arts and Research</td>\n",
       "      <td>{'neg': 0.02, 'neu': 0.739, 'pos': 0.241, 'com...</td>\n",
       "      <td>0.9541</td>\n",
       "      <td>pos</td>\n",
       "    </tr>\n",
       "    <tr>\n",
       "      <th>4</th>\n",
       "      <td>4</td>\n",
       "      <td>50</td>\n",
       "      <td>A reflection of historical times in Cyprus wit...</td>\n",
       "      <td>Centre of Visual Arts and Research</td>\n",
       "      <td>{'neg': 0.0, 'neu': 0.854, 'pos': 0.146, 'comp...</td>\n",
       "      <td>0.8481</td>\n",
       "      <td>pos</td>\n",
       "    </tr>\n",
       "    <tr>\n",
       "      <th>...</th>\n",
       "      <td>...</td>\n",
       "      <td>...</td>\n",
       "      <td>...</td>\n",
       "      <td>...</td>\n",
       "      <td>...</td>\n",
       "      <td>...</td>\n",
       "      <td>...</td>\n",
       "    </tr>\n",
       "    <tr>\n",
       "      <th>189</th>\n",
       "      <td>201</td>\n",
       "      <td>50</td>\n",
       "      <td>I visit the church in a quiet Saturday morning...</td>\n",
       "      <td>Panagia Chrysaliniotissa Church</td>\n",
       "      <td>{'neg': 0.0, 'neu': 0.74, 'pos': 0.26, 'compou...</td>\n",
       "      <td>0.9711</td>\n",
       "      <td>pos</td>\n",
       "    </tr>\n",
       "    <tr>\n",
       "      <th>190</th>\n",
       "      <td>202</td>\n",
       "      <td>40</td>\n",
       "      <td>This is another church set in sandstone with a...</td>\n",
       "      <td>Panagia Chrysaliniotissa Church</td>\n",
       "      <td>{'neg': 0.042, 'neu': 0.808, 'pos': 0.149, 'co...</td>\n",
       "      <td>0.7269</td>\n",
       "      <td>pos</td>\n",
       "    </tr>\n",
       "    <tr>\n",
       "      <th>191</th>\n",
       "      <td>203</td>\n",
       "      <td>50</td>\n",
       "      <td>Quite smallish, but very cute little church in...</td>\n",
       "      <td>Panagia Chrysaliniotissa Church</td>\n",
       "      <td>{'neg': 0.033, 'neu': 0.72, 'pos': 0.247, 'com...</td>\n",
       "      <td>0.9661</td>\n",
       "      <td>pos</td>\n",
       "    </tr>\n",
       "    <tr>\n",
       "      <th>192</th>\n",
       "      <td>204</td>\n",
       "      <td>40</td>\n",
       "      <td>A religious symbol for Nicosia, very well know...</td>\n",
       "      <td>Panagia Chrysaliniotissa Church</td>\n",
       "      <td>{'neg': 0.0, 'neu': 0.888, 'pos': 0.112, 'comp...</td>\n",
       "      <td>0.3384</td>\n",
       "      <td>pos</td>\n",
       "    </tr>\n",
       "    <tr>\n",
       "      <th>193</th>\n",
       "      <td>205</td>\n",
       "      <td>50</td>\n",
       "      <td>The Church of Panagia Chrysaliniotissa is situ...</td>\n",
       "      <td>Panagia Chrysaliniotissa Church</td>\n",
       "      <td>{'neg': 0.018, 'neu': 0.833, 'pos': 0.149, 'co...</td>\n",
       "      <td>0.9591</td>\n",
       "      <td>pos</td>\n",
       "    </tr>\n",
       "  </tbody>\n",
       "</table>\n",
       "<p>194 rows × 7 columns</p>\n",
       "</div>"
      ],
      "text/plain": [
       "     Unnamed: 0  r_points                                             r_text  \\\n",
       "0             0        30  The Centre of Visual Arts and Research (CVAR) ...   \n",
       "1             1        50  Beautiful museum. Very interesting. It is one ...   \n",
       "2             2        50  Recommended by our B&B host- fabulous well lai...   \n",
       "3             3        50  This is a wonderful establishment. Entrance fe...   \n",
       "4             4        50  A reflection of historical times in Cyprus wit...   \n",
       "..          ...       ...                                                ...   \n",
       "189         201        50  I visit the church in a quiet Saturday morning...   \n",
       "190         202        40  This is another church set in sandstone with a...   \n",
       "191         203        50  Quite smallish, but very cute little church in...   \n",
       "192         204        40  A religious symbol for Nicosia, very well know...   \n",
       "193         205        50  The Church of Panagia Chrysaliniotissa is situ...   \n",
       "\n",
       "                                  place  \\\n",
       "0    Centre of Visual Arts and Research   \n",
       "1    Centre of Visual Arts and Research   \n",
       "2    Centre of Visual Arts and Research   \n",
       "3    Centre of Visual Arts and Research   \n",
       "4    Centre of Visual Arts and Research   \n",
       "..                                  ...   \n",
       "189     Panagia Chrysaliniotissa Church   \n",
       "190     Panagia Chrysaliniotissa Church   \n",
       "191     Panagia Chrysaliniotissa Church   \n",
       "192     Panagia Chrysaliniotissa Church   \n",
       "193     Panagia Chrysaliniotissa Church   \n",
       "\n",
       "                                                scores  compound score  \n",
       "0    {'neg': 0.036, 'neu': 0.859, 'pos': 0.105, 'co...    0.9542   pos  \n",
       "1    {'neg': 0.0, 'neu': 0.538, 'pos': 0.462, 'comp...    0.9476   pos  \n",
       "2    {'neg': 0.0, 'neu': 0.65, 'pos': 0.35, 'compou...    0.9508   pos  \n",
       "3    {'neg': 0.02, 'neu': 0.739, 'pos': 0.241, 'com...    0.9541   pos  \n",
       "4    {'neg': 0.0, 'neu': 0.854, 'pos': 0.146, 'comp...    0.8481   pos  \n",
       "..                                                 ...       ...   ...  \n",
       "189  {'neg': 0.0, 'neu': 0.74, 'pos': 0.26, 'compou...    0.9711   pos  \n",
       "190  {'neg': 0.042, 'neu': 0.808, 'pos': 0.149, 'co...    0.7269   pos  \n",
       "191  {'neg': 0.033, 'neu': 0.72, 'pos': 0.247, 'com...    0.9661   pos  \n",
       "192  {'neg': 0.0, 'neu': 0.888, 'pos': 0.112, 'comp...    0.3384   pos  \n",
       "193  {'neg': 0.018, 'neu': 0.833, 'pos': 0.149, 'co...    0.9591   pos  \n",
       "\n",
       "[194 rows x 7 columns]"
      ]
     },
     "execution_count": 2,
     "metadata": {},
     "output_type": "execute_result"
    }
   ],
   "source": [
    "pos_review = pd.read_csv(r'C:\\Users\\Dell\\Desktop\\sentiment_cluster8_pos.csv')\n",
    "pos_review"
   ]
  },
  {
   "cell_type": "code",
   "execution_count": 3,
   "metadata": {},
   "outputs": [],
   "source": [
    "from pycaret.nlp import *"
   ]
  },
  {
   "cell_type": "code",
   "execution_count": 11,
   "metadata": {},
   "outputs": [
    {
     "data": {
      "text/html": [
       "<style  type=\"text/css\" >\n",
       "</style><table id=\"T_96d61880_282d_11eb_b4c7_c48e8ff9d2e0\" ><thead>    <tr>        <th class=\"col_heading level0 col0\" >Description</th>        <th class=\"col_heading level0 col1\" >Value</th>    </tr></thead><tbody>\n",
       "                <tr>\n",
       "                                <td id=\"T_96d61880_282d_11eb_b4c7_c48e8ff9d2e0row0_col0\" class=\"data row0 col0\" >session_id</td>\n",
       "                        <td id=\"T_96d61880_282d_11eb_b4c7_c48e8ff9d2e0row0_col1\" class=\"data row0 col1\" >1590</td>\n",
       "            </tr>\n",
       "            <tr>\n",
       "                                <td id=\"T_96d61880_282d_11eb_b4c7_c48e8ff9d2e0row1_col0\" class=\"data row1 col0\" >Documents</td>\n",
       "                        <td id=\"T_96d61880_282d_11eb_b4c7_c48e8ff9d2e0row1_col1\" class=\"data row1 col1\" >194</td>\n",
       "            </tr>\n",
       "            <tr>\n",
       "                                <td id=\"T_96d61880_282d_11eb_b4c7_c48e8ff9d2e0row2_col0\" class=\"data row2 col0\" >Vocab Size</td>\n",
       "                        <td id=\"T_96d61880_282d_11eb_b4c7_c48e8ff9d2e0row2_col1\" class=\"data row2 col1\" >1432</td>\n",
       "            </tr>\n",
       "            <tr>\n",
       "                                <td id=\"T_96d61880_282d_11eb_b4c7_c48e8ff9d2e0row3_col0\" class=\"data row3 col0\" >Custom Stopwords</td>\n",
       "                        <td id=\"T_96d61880_282d_11eb_b4c7_c48e8ff9d2e0row3_col1\" class=\"data row3 col1\" >True</td>\n",
       "            </tr>\n",
       "    </tbody></table>"
      ],
      "text/plain": [
       "<pandas.io.formats.style.Styler at 0x237c4e86448>"
      ]
     },
     "metadata": {},
     "output_type": "display_data"
    }
   ],
   "source": [
    "exp_nlp = setup(data = pos_review, target = 'r_text',\n",
    "                custom_stopwords = [ 'well','room', 'nice', 'good', 'restaurant', 'food'])"
   ]
  },
  {
   "cell_type": "code",
   "execution_count": 12,
   "metadata": {},
   "outputs": [
    {
     "name": "stdout",
     "output_type": "stream",
     "text": [
      "LdaModel(num_terms=1432, num_topics=4, decay=0.5, chunksize=100)\n"
     ]
    }
   ],
   "source": [
    "#create an LDA model\n",
    "lda_pos_custom = create_model('lda')\n",
    "print(lda_pos_custom)"
   ]
  },
  {
   "cell_type": "code",
   "execution_count": 13,
   "metadata": {},
   "outputs": [],
   "source": [
    "apply_lda_pos = assign_model(lda_pos_custom)"
   ]
  },
  {
   "cell_type": "code",
   "execution_count": 14,
   "metadata": {},
   "outputs": [
    {
     "data": {
      "text/html": [
       "<div>\n",
       "<style scoped>\n",
       "    .dataframe tbody tr th:only-of-type {\n",
       "        vertical-align: middle;\n",
       "    }\n",
       "\n",
       "    .dataframe tbody tr th {\n",
       "        vertical-align: top;\n",
       "    }\n",
       "\n",
       "    .dataframe thead th {\n",
       "        text-align: right;\n",
       "    }\n",
       "</style>\n",
       "<table border=\"1\" class=\"dataframe\">\n",
       "  <thead>\n",
       "    <tr style=\"text-align: right;\">\n",
       "      <th></th>\n",
       "      <th>Unnamed: 0</th>\n",
       "      <th>r_points</th>\n",
       "      <th>r_text</th>\n",
       "      <th>place</th>\n",
       "      <th>scores</th>\n",
       "      <th>compound</th>\n",
       "      <th>score</th>\n",
       "      <th>Topic_0</th>\n",
       "      <th>Topic_1</th>\n",
       "      <th>Topic_2</th>\n",
       "      <th>Topic_3</th>\n",
       "      <th>Dominant_Topic</th>\n",
       "      <th>Perc_Dominant_Topic</th>\n",
       "    </tr>\n",
       "  </thead>\n",
       "  <tbody>\n",
       "    <tr>\n",
       "      <th>0</th>\n",
       "      <td>0</td>\n",
       "      <td>30</td>\n",
       "      <td>centre visual art cvar interesting somewhat di...</td>\n",
       "      <td>Centre of Visual Arts and Research</td>\n",
       "      <td>{'neg': 0.036, 'neu': 0.859, 'pos': 0.105, 'co...</td>\n",
       "      <td>0.9542</td>\n",
       "      <td>pos</td>\n",
       "      <td>0.000566</td>\n",
       "      <td>0.997609</td>\n",
       "      <td>0.000695</td>\n",
       "      <td>0.001130</td>\n",
       "      <td>Topic 1</td>\n",
       "      <td>1.00</td>\n",
       "    </tr>\n",
       "    <tr>\n",
       "      <th>1</th>\n",
       "      <td>1</td>\n",
       "      <td>50</td>\n",
       "      <td>interest museum ever visit guide tour great</td>\n",
       "      <td>Centre of Visual Arts and Research</td>\n",
       "      <td>{'neg': 0.0, 'neu': 0.538, 'pos': 0.462, 'comp...</td>\n",
       "      <td>0.9476</td>\n",
       "      <td>pos</td>\n",
       "      <td>0.008186</td>\n",
       "      <td>0.013548</td>\n",
       "      <td>0.010052</td>\n",
       "      <td>0.968214</td>\n",
       "      <td>Topic 3</td>\n",
       "      <td>0.97</td>\n",
       "    </tr>\n",
       "    <tr>\n",
       "      <th>2</th>\n",
       "      <td>2</td>\n",
       "      <td>50</td>\n",
       "      <td>recommend host fabulous lay gallery century ar...</td>\n",
       "      <td>Centre of Visual Arts and Research</td>\n",
       "      <td>{'neg': 0.0, 'neu': 0.65, 'pos': 0.35, 'compou...</td>\n",
       "      <td>0.9508</td>\n",
       "      <td>pos</td>\n",
       "      <td>0.002819</td>\n",
       "      <td>0.988088</td>\n",
       "      <td>0.003462</td>\n",
       "      <td>0.005631</td>\n",
       "      <td>Topic 1</td>\n",
       "      <td>0.99</td>\n",
       "    </tr>\n",
       "    <tr>\n",
       "      <th>3</th>\n",
       "      <td>3</td>\n",
       "      <td>50</td>\n",
       "      <td>wonderful establishment entrance fee low infor...</td>\n",
       "      <td>Centre of Visual Arts and Research</td>\n",
       "      <td>{'neg': 0.02, 'neu': 0.739, 'pos': 0.241, 'com...</td>\n",
       "      <td>0.9541</td>\n",
       "      <td>pos</td>\n",
       "      <td>0.001752</td>\n",
       "      <td>0.992597</td>\n",
       "      <td>0.002152</td>\n",
       "      <td>0.003499</td>\n",
       "      <td>Topic 1</td>\n",
       "      <td>0.99</td>\n",
       "    </tr>\n",
       "    <tr>\n",
       "      <th>4</th>\n",
       "      <td>4</td>\n",
       "      <td>50</td>\n",
       "      <td>reflection painting collection photo cypriot v...</td>\n",
       "      <td>Centre of Visual Arts and Research</td>\n",
       "      <td>{'neg': 0.0, 'neu': 0.854, 'pos': 0.146, 'comp...</td>\n",
       "      <td>0.8481</td>\n",
       "      <td>pos</td>\n",
       "      <td>0.002472</td>\n",
       "      <td>0.004090</td>\n",
       "      <td>0.988503</td>\n",
       "      <td>0.004935</td>\n",
       "      <td>Topic 2</td>\n",
       "      <td>0.99</td>\n",
       "    </tr>\n",
       "    <tr>\n",
       "      <th>...</th>\n",
       "      <td>...</td>\n",
       "      <td>...</td>\n",
       "      <td>...</td>\n",
       "      <td>...</td>\n",
       "      <td>...</td>\n",
       "      <td>...</td>\n",
       "      <td>...</td>\n",
       "      <td>...</td>\n",
       "      <td>...</td>\n",
       "      <td>...</td>\n",
       "      <td>...</td>\n",
       "      <td>...</td>\n",
       "      <td>...</td>\n",
       "    </tr>\n",
       "    <tr>\n",
       "      <th>189</th>\n",
       "      <td>201</td>\n",
       "      <td>50</td>\n",
       "      <td>morning church old city architecture church ma...</td>\n",
       "      <td>Panagia Chrysaliniotissa Church</td>\n",
       "      <td>{'neg': 0.0, 'neu': 0.74, 'pos': 0.26, 'compou...</td>\n",
       "      <td>0.9711</td>\n",
       "      <td>pos</td>\n",
       "      <td>0.003110</td>\n",
       "      <td>0.986859</td>\n",
       "      <td>0.003819</td>\n",
       "      <td>0.006212</td>\n",
       "      <td>Topic 1</td>\n",
       "      <td>0.99</td>\n",
       "    </tr>\n",
       "    <tr>\n",
       "      <th>190</th>\n",
       "      <td>202</td>\n",
       "      <td>40</td>\n",
       "      <td>church set compact keep garden church dome lar...</td>\n",
       "      <td>Panagia Chrysaliniotissa Church</td>\n",
       "      <td>{'neg': 0.042, 'neu': 0.808, 'pos': 0.149, 'co...</td>\n",
       "      <td>0.7269</td>\n",
       "      <td>pos</td>\n",
       "      <td>0.002693</td>\n",
       "      <td>0.908000</td>\n",
       "      <td>0.003307</td>\n",
       "      <td>0.086000</td>\n",
       "      <td>Topic 1</td>\n",
       "      <td>0.91</td>\n",
       "    </tr>\n",
       "    <tr>\n",
       "      <th>191</th>\n",
       "      <td>203</td>\n",
       "      <td>50</td>\n",
       "      <td>quite little many name case mean gold wool qui...</td>\n",
       "      <td>Panagia Chrysaliniotissa Church</td>\n",
       "      <td>{'neg': 0.033, 'neu': 0.72, 'pos': 0.247, 'com...</td>\n",
       "      <td>0.9661</td>\n",
       "      <td>pos</td>\n",
       "      <td>0.002051</td>\n",
       "      <td>0.807121</td>\n",
       "      <td>0.186733</td>\n",
       "      <td>0.004096</td>\n",
       "      <td>Topic 1</td>\n",
       "      <td>0.81</td>\n",
       "    </tr>\n",
       "    <tr>\n",
       "      <th>192</th>\n",
       "      <td>204</td>\n",
       "      <td>40</td>\n",
       "      <td>religious symbol know local traditional church...</td>\n",
       "      <td>Panagia Chrysaliniotissa Church</td>\n",
       "      <td>{'neg': 0.0, 'neu': 0.888, 'pos': 0.112, 'comp...</td>\n",
       "      <td>0.3384</td>\n",
       "      <td>pos</td>\n",
       "      <td>0.006436</td>\n",
       "      <td>0.972812</td>\n",
       "      <td>0.007904</td>\n",
       "      <td>0.012848</td>\n",
       "      <td>Topic 1</td>\n",
       "      <td>0.97</td>\n",
       "    </tr>\n",
       "    <tr>\n",
       "      <th>193</th>\n",
       "      <td>205</td>\n",
       "      <td>50</td>\n",
       "      <td>situate old city build stone year many additio...</td>\n",
       "      <td>Panagia Chrysaliniotissa Church</td>\n",
       "      <td>{'neg': 0.018, 'neu': 0.833, 'pos': 0.149, 'co...</td>\n",
       "      <td>0.9591</td>\n",
       "      <td>pos</td>\n",
       "      <td>0.039688</td>\n",
       "      <td>0.259719</td>\n",
       "      <td>0.001386</td>\n",
       "      <td>0.699207</td>\n",
       "      <td>Topic 3</td>\n",
       "      <td>0.70</td>\n",
       "    </tr>\n",
       "  </tbody>\n",
       "</table>\n",
       "<p>194 rows × 13 columns</p>\n",
       "</div>"
      ],
      "text/plain": [
       "     Unnamed: 0  r_points                                             r_text  \\\n",
       "0             0        30  centre visual art cvar interesting somewhat di...   \n",
       "1             1        50        interest museum ever visit guide tour great   \n",
       "2             2        50  recommend host fabulous lay gallery century ar...   \n",
       "3             3        50  wonderful establishment entrance fee low infor...   \n",
       "4             4        50  reflection painting collection photo cypriot v...   \n",
       "..          ...       ...                                                ...   \n",
       "189         201        50  morning church old city architecture church ma...   \n",
       "190         202        40  church set compact keep garden church dome lar...   \n",
       "191         203        50  quite little many name case mean gold wool qui...   \n",
       "192         204        40  religious symbol know local traditional church...   \n",
       "193         205        50  situate old city build stone year many additio...   \n",
       "\n",
       "                                  place  \\\n",
       "0    Centre of Visual Arts and Research   \n",
       "1    Centre of Visual Arts and Research   \n",
       "2    Centre of Visual Arts and Research   \n",
       "3    Centre of Visual Arts and Research   \n",
       "4    Centre of Visual Arts and Research   \n",
       "..                                  ...   \n",
       "189     Panagia Chrysaliniotissa Church   \n",
       "190     Panagia Chrysaliniotissa Church   \n",
       "191     Panagia Chrysaliniotissa Church   \n",
       "192     Panagia Chrysaliniotissa Church   \n",
       "193     Panagia Chrysaliniotissa Church   \n",
       "\n",
       "                                                scores  compound score  \\\n",
       "0    {'neg': 0.036, 'neu': 0.859, 'pos': 0.105, 'co...    0.9542   pos   \n",
       "1    {'neg': 0.0, 'neu': 0.538, 'pos': 0.462, 'comp...    0.9476   pos   \n",
       "2    {'neg': 0.0, 'neu': 0.65, 'pos': 0.35, 'compou...    0.9508   pos   \n",
       "3    {'neg': 0.02, 'neu': 0.739, 'pos': 0.241, 'com...    0.9541   pos   \n",
       "4    {'neg': 0.0, 'neu': 0.854, 'pos': 0.146, 'comp...    0.8481   pos   \n",
       "..                                                 ...       ...   ...   \n",
       "189  {'neg': 0.0, 'neu': 0.74, 'pos': 0.26, 'compou...    0.9711   pos   \n",
       "190  {'neg': 0.042, 'neu': 0.808, 'pos': 0.149, 'co...    0.7269   pos   \n",
       "191  {'neg': 0.033, 'neu': 0.72, 'pos': 0.247, 'com...    0.9661   pos   \n",
       "192  {'neg': 0.0, 'neu': 0.888, 'pos': 0.112, 'comp...    0.3384   pos   \n",
       "193  {'neg': 0.018, 'neu': 0.833, 'pos': 0.149, 'co...    0.9591   pos   \n",
       "\n",
       "      Topic_0   Topic_1   Topic_2   Topic_3 Dominant_Topic  \\\n",
       "0    0.000566  0.997609  0.000695  0.001130        Topic 1   \n",
       "1    0.008186  0.013548  0.010052  0.968214        Topic 3   \n",
       "2    0.002819  0.988088  0.003462  0.005631        Topic 1   \n",
       "3    0.001752  0.992597  0.002152  0.003499        Topic 1   \n",
       "4    0.002472  0.004090  0.988503  0.004935        Topic 2   \n",
       "..        ...       ...       ...       ...            ...   \n",
       "189  0.003110  0.986859  0.003819  0.006212        Topic 1   \n",
       "190  0.002693  0.908000  0.003307  0.086000        Topic 1   \n",
       "191  0.002051  0.807121  0.186733  0.004096        Topic 1   \n",
       "192  0.006436  0.972812  0.007904  0.012848        Topic 1   \n",
       "193  0.039688  0.259719  0.001386  0.699207        Topic 3   \n",
       "\n",
       "     Perc_Dominant_Topic  \n",
       "0                   1.00  \n",
       "1                   0.97  \n",
       "2                   0.99  \n",
       "3                   0.99  \n",
       "4                   0.99  \n",
       "..                   ...  \n",
       "189                 0.99  \n",
       "190                 0.91  \n",
       "191                 0.81  \n",
       "192                 0.97  \n",
       "193                 0.70  \n",
       "\n",
       "[194 rows x 13 columns]"
      ]
     },
     "execution_count": 14,
     "metadata": {},
     "output_type": "execute_result"
    }
   ],
   "source": [
    "apply_lda_pos"
   ]
  },
  {
   "cell_type": "code",
   "execution_count": 15,
   "metadata": {},
   "outputs": [
    {
     "data": {
      "application/vnd.jupyter.widget-view+json": {
       "model_id": "cf70500802f64d8e9e7eee8e38bb8826",
       "version_major": 2,
       "version_minor": 0
      },
      "text/plain": [
       "interactive(children=(ToggleButtons(description='Plot Type:', icons=('',), options=(('Frequency Plot', 'freque…"
      ]
     },
     "metadata": {},
     "output_type": "display_data"
    }
   ],
   "source": [
    "evaluate_model(lda_pos_custom)"
   ]
  },
  {
   "cell_type": "code",
   "execution_count": 16,
   "metadata": {},
   "outputs": [
    {
     "data": {
      "text/html": [
       "        <script type=\"text/javascript\">\n",
       "        window.PlotlyConfig = {MathJaxConfig: 'local'};\n",
       "        if (window.MathJax) {MathJax.Hub.Config({SVG: {font: \"STIX-Web\"}});}\n",
       "        if (typeof require !== 'undefined') {\n",
       "        require.undef(\"plotly\");\n",
       "        requirejs.config({\n",
       "            paths: {\n",
       "                'plotly': ['https://cdn.plot.ly/plotly-latest.min']\n",
       "            }\n",
       "        });\n",
       "        require(['plotly'], function(Plotly) {\n",
       "            window._Plotly = Plotly;\n",
       "        });\n",
       "        }\n",
       "        </script>\n",
       "        "
      ]
     },
     "metadata": {},
     "output_type": "display_data"
    },
    {
     "data": {
      "text/html": [
       "\n",
       "<link rel=\"stylesheet\" type=\"text/css\" href=\"https://cdn.rawgit.com/bmabey/pyLDAvis/files/ldavis.v1.0.0.css\">\n",
       "\n",
       "\n",
       "<div id=\"ldavis_el1201224385499013841862846323\"></div>\n",
       "<script type=\"text/javascript\">\n",
       "\n",
       "var ldavis_el1201224385499013841862846323_data = {\"mdsDat\": {\"x\": [-0.1144339017636639, 0.0644485206520099, 0.10508421410265874, -0.055098832991004744], \"y\": [0.053098328860293816, 0.12811101204516837, -0.03507642548809692, -0.14613291541736528], \"topics\": [1, 2, 3, 4], \"cluster\": [1, 1, 1, 1], \"Freq\": [31.091106414794922, 28.935792922973633, 20.560148239135742, 19.41295051574707]}, \"tinfo\": {\"Term\": [\"try\", \"quite\", \"old\", \"art\", \"tasty\", \"first\", \"really\", \"church\", \"history\", \"serve\", \"lunch\", \"come\", \"gate\", \"area\", \"visit\", \"roll\", \"taste\", \"feel\", \"place\", \"amazing\", \"friendly\", \"meal\", \"cultural\", \"salad\", \"service\", \"year\", \"beautiful\", \"even\", \"city\", \"outside\", \"feel\", \"real\", \"staff\", \"top\", \"perfect\", \"ever\", \"care\", \"keep\", \"like\", \"terrace\", \"chair\", \"roast\", \"slightly\", \"lucky\", \"cook\", \"interest\", \"trip\", \"ask\", \"woman\", \"price\", \"probably\", \"summer\", \"date\", \"fantastic\", \"bit\", \"friendly\", \"say\", \"light\", \"kind\", \"passion\", \"home\", \"really\", \"highly\", \"quiet\", \"free\", \"delicious\", \"run\", \"atmosphere\", \"service\", \"place\", \"beautiful\", \"love\", \"old\", \"part\", \"open\", \"great\", \"veggie\", \"find\", \"small\", \"make\", \"excellent\", \"eat\", \"see\", \"street\", \"little\", \"visit\", \"recommend\", \"go\", \"worth\", \"city\", \"gate\", \"walk\", \"church\", \"cultural\", \"island\", \"concert\", \"british\", \"structure\", \"design\", \"actually\", \"hold\", \"memorabilia\", \"presentation\", \"year\", \"important\", \"organize\", \"culture\", \"ago\", \"worthwhile\", \"function\", \"interested\", \"wedding\", \"cvar\", \"turk\", \"colonial\", \"true\", \"maybe\", \"stay\", \"contemporary\", \"pick\", \"story\", \"gift\", \"live\", \"historical\", \"art\", \"history\", \"host\", \"visitor\", \"big\", \"preserve\", \"learn\", \"museum\", \"view\", \"historic\", \"event\", \"greek\", \"visit\", \"cypriot\", \"interesting\", \"architecture\", \"city\", \"wonderful\", \"place\", \"many\", \"also\", \"wall\", \"gate\", \"see\", \"walk\", \"collection\", \"old\", \"make\", \"beautiful\", \"great\", \"try\", \"find\", \"worth\", \"go\", \"quite\", \"outside\", \"long\", \"let\", \"walled\", \"middle\", \"europa_nostra\", \"heat\", \"solid\", \"lecture\", \"expensive\", \"desert\", \"touch\", \"honest\", \"glass\", \"nicely\", \"cash\", \"choice\", \"age\", \"combine\", \"nowadays\", \"represent\", \"ancient\", \"authority\", \"clean\", \"yet\", \"insight\", \"passage\", \"consist\", \"major\", \"read\", \"daughter\", \"lunch\", \"weather\", \"sit\", \"building\", \"return\", \"area\", \"pass\", \"work\", \"give\", \"gate\", \"people\", \"also\", \"visit\", \"venetian_wall\", \"entrance\", \"old\", \"use\", \"far\", \"city\", \"town\", \"come\", \"side\", \"take\", \"worth\", \"small\", \"day\", \"dish\", \"walk\", \"time\", \"inga\", \"see\", \"really\", \"roll\", \"option\", \"first\", \"healthy\", \"dinner\", \"cream\", \"lasagna\", \"customer\", \"italian\", \"often\", \"surprise\", \"poster\", \"delight\", \"serve\", \"usually\", \"seed\", \"dry\", \"water\", \"soup\", \"store\", \"rather\", \"humble\", \"yummy\", \"cuisine\", \"lemon\", \"sorry\", \"sure\", \"disappoint\", \"mostly\", \"instead\", \"ice\", \"hard\", \"huge\", \"preparation\", \"inside\", \"try\", \"tasty\", \"salad\", \"even\", \"meal\", \"homemade\", \"amazing\", \"owner\", \"menu\", \"come\", \"taste\", \"fresh\", \"bread\", \"exhibition\", \"area\", \"burger\", \"find\", \"take\", \"little\", \"time\", \"vegan\", \"way\", \"enjoy\"], \"Freq\": [21.0, 9.0, 45.0, 21.0, 18.0, 9.0, 23.0, 10.0, 24.0, 9.0, 12.0, 21.0, 31.0, 11.0, 59.0, 6.0, 12.0, 9.0, 54.0, 10.0, 14.0, 13.0, 8.0, 10.0, 14.0, 10.0, 21.0, 12.0, 28.0, 5.0, 9.149818420410156, 5.282910346984863, 5.52863883972168, 4.893361568450928, 4.330466270446777, 4.319033622741699, 3.7727854251861572, 5.0332841873168945, 3.4503817558288574, 3.4401934146881104, 3.1744625568389893, 2.9055588245391846, 2.905212879180908, 2.8718130588531494, 2.8832812309265137, 2.5928306579589844, 2.590984582901001, 3.308290481567383, 2.819723129272461, 6.073646068572998, 2.532531261444092, 2.5288619995117188, 2.2781710624694824, 2.2767465114593506, 5.246376991271973, 11.22378921508789, 6.2646284103393555, 5.792390823364258, 6.48787260055542, 2.7171730995178223, 5.882798671722412, 17.51304817199707, 7.342539310455322, 6.761895656585693, 8.627588272094727, 10.862019538879395, 4.92644739151001, 5.669819355010986, 9.881064414978027, 31.489362716674805, 13.546773910522461, 10.207709312438965, 23.90703582763672, 10.108076095581055, 9.316950798034668, 12.676993370056152, 8.859559059143066, 14.054341316223145, 10.323531150817871, 9.712749481201172, 6.886673927307129, 8.019636154174805, 11.200321197509766, 6.600462913513184, 9.774176597595215, 15.380005836486816, 8.295214653015137, 8.086638450622559, 8.252385139465332, 8.462133407592773, 8.534073829650879, 8.167573928833008, 10.439635276794434, 7.541388511657715, 6.803366661071777, 6.103606224060059, 5.0408759117126465, 4.972434997558594, 3.9544522762298584, 3.3545777797698975, 3.3503341674804688, 3.6095492839813232, 3.3298499584198, 8.589384078979492, 3.3169734477996826, 2.989098072052002, 2.978743076324463, 2.966153144836426, 2.6624574661254883, 2.662163019180298, 2.923111915588379, 2.652083158493042, 4.006012916564941, 2.6491951942443848, 2.8819777965545654, 2.5943610668182373, 2.3304123878479004, 2.3284332752227783, 2.2965335845947266, 2.2965307235717773, 2.2959024906158447, 2.2958271503448486, 5.542531967163086, 7.388902187347412, 16.65978240966797, 18.827085494995117, 4.399746894836426, 5.09824275970459, 5.336615562438965, 7.1204752922058105, 4.048205852508545, 8.181636810302734, 7.310026168823242, 4.586627960205078, 10.213164329528809, 5.1309285163879395, 25.516237258911133, 6.052728176116943, 9.883744239807129, 4.446608543395996, 11.868012428283691, 5.913896560668945, 16.578645706176758, 5.485754489898682, 10.097748756408691, 8.02559757232666, 10.573914527893066, 9.457809448242188, 8.874309539794922, 6.471668720245361, 9.07344913482666, 6.905123233795166, 7.1106085777282715, 7.242779731750488, 6.9708333015441895, 7.452398300170898, 6.4074811935424805, 6.317806243896484, 8.827058792114258, 5.042647838592529, 3.6107394695281982, 2.760960102081299, 2.4942970275878906, 2.4789819717407227, 2.192878246307373, 2.1914522647857666, 2.1695921421051025, 1.9233163595199585, 1.9194111824035645, 1.9188289642333984, 1.9163151979446411, 1.9159791469573975, 1.9149203300476074, 1.9142119884490967, 1.9056950807571411, 4.28949499130249, 1.87510085105896, 1.6221262216567993, 1.622121810913086, 1.622115969657898, 1.6220781803131104, 1.6219953298568726, 1.6219538450241089, 1.621006727218628, 1.6199747323989868, 1.6198785305023193, 1.6197501420974731, 1.6188807487487793, 3.3650801181793213, 3.3744020462036133, 7.995967864990234, 3.2031753063201904, 6.347916603088379, 4.721303939819336, 4.026134490966797, 6.313122272491455, 4.138976573944092, 5.68809175491333, 3.3650448322296143, 11.687440872192383, 6.222373962402344, 9.794678688049316, 16.231218338012695, 5.552469253540039, 4.557581901550293, 12.199616432189941, 5.471922397613525, 3.2067618370056152, 8.283578872680664, 6.407038688659668, 6.769656181335449, 4.409859657287598, 4.837141990661621, 6.028005599975586, 5.745672702789307, 5.363539218902588, 4.99156379699707, 6.130739688873291, 5.8198418617248535, 4.453988552093506, 4.4580769538879395, 4.31934118270874, 5.903956413269043, 3.9774534702301025, 8.078937530517578, 3.4554173946380615, 3.1589510440826416, 2.6351776123046875, 2.6343271732330322, 2.633739471435547, 2.6274800300598145, 2.349059820175171, 2.3473684787750244, 2.320540428161621, 4.495016098022461, 7.166064739227295, 2.0518686771392822, 1.8122584819793701, 1.8122584819793701, 2.2248170375823975, 1.8115862607955933, 1.8113476037979126, 1.8110308647155762, 1.810928463935852, 1.810928463935852, 1.810928463935852, 1.8104017972946167, 1.8104017972946167, 1.8089789152145386, 1.8060176372528076, 1.8035717010498047, 1.8033630847930908, 4.227553367614746, 3.456416130065918, 3.333270311355591, 2.37675404548645, 5.034369945526123, 12.32417106628418, 10.579108238220215, 6.123290061950684, 6.688323974609375, 7.104371070861816, 5.215095520019531, 5.753561973571777, 5.97501802444458, 3.9823312759399414, 9.504547119140625, 5.83968448638916, 4.65554666519165, 4.323314189910889, 5.358077526092529, 4.664540767669678, 4.9095072746276855, 7.0618510246276855, 4.828221797943115, 5.758212566375732, 4.989560604095459, 4.262262344360352, 4.424752712249756, 4.062506675720215], \"Total\": [21.0, 9.0, 45.0, 21.0, 18.0, 9.0, 23.0, 10.0, 24.0, 9.0, 12.0, 21.0, 31.0, 11.0, 59.0, 6.0, 12.0, 9.0, 54.0, 10.0, 14.0, 13.0, 8.0, 10.0, 14.0, 10.0, 21.0, 12.0, 28.0, 5.0, 9.782225608825684, 5.876456260681152, 6.152864456176758, 5.560441970825195, 4.965646743774414, 4.963945388793945, 4.377202033996582, 5.861895561218262, 4.0633320808410645, 4.062896728515625, 3.7512035369873047, 3.4721031188964844, 3.4720990657806396, 3.4389030933380127, 3.471325635910034, 3.1587581634521484, 3.158580780029297, 4.047412395477295, 3.467716932296753, 7.47286319732666, 3.1544036865234375, 3.1525893211364746, 2.8456132411956787, 2.845442295074463, 6.563394546508789, 14.042704582214355, 7.905851364135742, 7.340150833129883, 8.237717628479004, 3.4543914794921875, 7.528936862945557, 23.09988021850586, 9.579392433166504, 8.822653770446777, 11.651498794555664, 15.397501945495605, 6.434936046600342, 7.553457260131836, 14.19631290435791, 54.99137878417969, 21.837905883789062, 15.664693832397461, 45.42490768432617, 16.342512130737305, 15.071211814880371, 24.110633850097656, 14.860380172729492, 29.656496047973633, 19.72072982788086, 18.49836540222168, 10.744786262512207, 14.282978057861328, 27.15592384338379, 10.131132125854492, 22.7126522064209, 59.24158477783203, 19.96270179748535, 19.948572158813477, 21.983911514282227, 28.794275283813477, 31.022136688232422, 25.763172149658203, 10.976554870605469, 8.085400581359863, 7.352088451385498, 6.692060947418213, 5.5978498458862305, 5.6476616859436035, 4.564990043640137, 3.8901419639587402, 3.889143466949463, 4.201960563659668, 3.884744644165039, 10.048912048339844, 3.8823559284210205, 3.524217367172241, 3.522063732147217, 3.5518505573272705, 3.1972475051879883, 3.19718599319458, 3.5132904052734375, 3.19512677192688, 4.828978538513184, 3.194817304611206, 3.500460624694824, 3.1873350143432617, 2.8689420223236084, 2.8689651489257812, 2.831218719482422, 2.8312180042266846, 2.831122636795044, 2.8311104774475098, 6.860325813293457, 9.195940971374512, 21.86829948425293, 24.98317527770996, 5.539247035980225, 6.512876987457275, 6.856904983520508, 9.753507614135742, 5.176419734954834, 11.624804496765137, 10.63458251953125, 6.15329647064209, 16.492494583129883, 7.09852409362793, 59.24158477783203, 8.931859016418457, 19.1117000579834, 6.096609115600586, 28.794275283813477, 9.533928871154785, 54.99137878417969, 8.729917526245117, 27.17618751525879, 18.182186126708984, 31.022136688232422, 27.15592384338379, 25.763172149658203, 14.021303176879883, 45.42490768432617, 18.49836540222168, 21.837905883789062, 24.110633850097656, 21.857017517089844, 29.656496047973633, 21.983911514282227, 19.948572158813477, 9.451155662536621, 5.6863789558410645, 4.213741779327393, 3.336895704269409, 3.0673844814300537, 3.0687413215637207, 2.76593017578125, 2.765963554382324, 2.7649483680725098, 2.4965531826019287, 2.4964098930358887, 2.4966561794281006, 2.4964864253997803, 2.496539831161499, 2.4965157508850098, 2.4966013431549072, 2.496306896209717, 5.638486862182617, 2.4991865158081055, 2.1951239109039307, 2.1951231956481934, 2.1951210498809814, 2.1951241493225098, 2.195143938064575, 2.195126533508301, 2.19514799118042, 2.1951775550842285, 2.1955695152282715, 2.1955947875976562, 2.195000410079956, 4.762646198272705, 4.842926025390625, 12.49423885345459, 4.63836669921875, 10.232845306396484, 7.772380828857422, 6.543896675109863, 11.467391967773438, 6.871303558349609, 10.56233024597168, 5.651939392089844, 31.022136688232422, 13.92635726928711, 27.17618751525879, 59.24158477783203, 12.346063613891602, 9.26087760925293, 45.42490768432617, 13.378277778625488, 5.766699314117432, 28.794275283813477, 19.02418327331543, 21.449190139770508, 10.081377983093262, 13.442670822143555, 21.983911514282227, 19.72072982788086, 17.034996032714844, 14.727910995483398, 25.763172149658203, 22.35285758972168, 12.102941513061523, 27.15592384338379, 23.09988021850586, 6.514642715454102, 4.5843610763549805, 9.39706802368164, 4.044471263885498, 3.7613534927368164, 3.221217393875122, 3.2212271690368652, 3.221364974975586, 3.222325325012207, 2.937119960784912, 2.9372594356536865, 2.9069440364837646, 5.697085380554199, 9.109910011291504, 2.6542627811431885, 2.3982348442077637, 2.3982348442077637, 2.944253444671631, 2.398289442062378, 2.398319721221924, 2.3983521461486816, 2.398358106613159, 2.398358106613159, 2.398358106613159, 2.398407459259033, 2.398407459259033, 2.3983988761901855, 2.3984899520874023, 2.3990836143493652, 2.3990800380706787, 5.779036521911621, 4.737219333648682, 4.6275200843811035, 3.250072956085205, 7.683681011199951, 21.857017517089844, 18.306236267089844, 10.107742309570312, 12.367433547973633, 13.55223274230957, 9.253707885742188, 10.716285705566406, 11.287866592407227, 6.70189905166626, 21.449190139770508, 12.869244575500488, 9.263778686523438, 9.34817886352539, 14.581771850585938, 11.467391967773438, 12.926568984985352, 29.656496047973633, 13.442670822143555, 22.7126522064209, 22.35285758972168, 12.0850191116333, 15.170066833496094, 12.936199188232422], \"Category\": [\"Default\", \"Default\", \"Default\", \"Default\", \"Default\", \"Default\", \"Default\", \"Default\", \"Default\", \"Default\", \"Default\", \"Default\", \"Default\", \"Default\", \"Default\", \"Default\", \"Default\", \"Default\", \"Default\", \"Default\", \"Default\", \"Default\", \"Default\", \"Default\", \"Default\", \"Default\", \"Default\", \"Default\", \"Default\", \"Default\", \"Topic1\", \"Topic1\", \"Topic1\", \"Topic1\", \"Topic1\", \"Topic1\", \"Topic1\", \"Topic1\", \"Topic1\", \"Topic1\", \"Topic1\", \"Topic1\", \"Topic1\", \"Topic1\", \"Topic1\", \"Topic1\", \"Topic1\", \"Topic1\", \"Topic1\", \"Topic1\", \"Topic1\", \"Topic1\", \"Topic1\", \"Topic1\", \"Topic1\", \"Topic1\", \"Topic1\", \"Topic1\", \"Topic1\", \"Topic1\", \"Topic1\", \"Topic1\", \"Topic1\", \"Topic1\", \"Topic1\", \"Topic1\", \"Topic1\", \"Topic1\", \"Topic1\", \"Topic1\", \"Topic1\", \"Topic1\", \"Topic1\", \"Topic1\", \"Topic1\", \"Topic1\", \"Topic1\", \"Topic1\", \"Topic1\", \"Topic1\", \"Topic1\", \"Topic1\", \"Topic1\", \"Topic1\", \"Topic1\", \"Topic1\", \"Topic1\", \"Topic1\", \"Topic1\", \"Topic1\", \"Topic1\", \"Topic1\", \"Topic2\", \"Topic2\", \"Topic2\", \"Topic2\", \"Topic2\", \"Topic2\", \"Topic2\", \"Topic2\", \"Topic2\", \"Topic2\", \"Topic2\", \"Topic2\", \"Topic2\", \"Topic2\", \"Topic2\", \"Topic2\", \"Topic2\", \"Topic2\", \"Topic2\", \"Topic2\", \"Topic2\", \"Topic2\", \"Topic2\", \"Topic2\", \"Topic2\", \"Topic2\", \"Topic2\", \"Topic2\", \"Topic2\", \"Topic2\", \"Topic2\", \"Topic2\", \"Topic2\", \"Topic2\", \"Topic2\", \"Topic2\", \"Topic2\", \"Topic2\", \"Topic2\", \"Topic2\", \"Topic2\", \"Topic2\", \"Topic2\", \"Topic2\", \"Topic2\", \"Topic2\", \"Topic2\", \"Topic2\", \"Topic2\", \"Topic2\", \"Topic2\", \"Topic2\", \"Topic2\", \"Topic2\", \"Topic2\", \"Topic2\", \"Topic2\", \"Topic2\", \"Topic2\", \"Topic2\", \"Topic2\", \"Topic2\", \"Topic2\", \"Topic2\", \"Topic2\", \"Topic2\", \"Topic3\", \"Topic3\", \"Topic3\", \"Topic3\", \"Topic3\", \"Topic3\", \"Topic3\", \"Topic3\", \"Topic3\", \"Topic3\", \"Topic3\", \"Topic3\", \"Topic3\", \"Topic3\", \"Topic3\", \"Topic3\", \"Topic3\", \"Topic3\", \"Topic3\", \"Topic3\", \"Topic3\", \"Topic3\", \"Topic3\", \"Topic3\", \"Topic3\", \"Topic3\", \"Topic3\", \"Topic3\", \"Topic3\", \"Topic3\", \"Topic3\", \"Topic3\", \"Topic3\", \"Topic3\", \"Topic3\", \"Topic3\", \"Topic3\", \"Topic3\", \"Topic3\", \"Topic3\", \"Topic3\", \"Topic3\", \"Topic3\", \"Topic3\", \"Topic3\", \"Topic3\", \"Topic3\", \"Topic3\", \"Topic3\", \"Topic3\", \"Topic3\", \"Topic3\", \"Topic3\", \"Topic3\", \"Topic3\", \"Topic3\", \"Topic3\", \"Topic3\", \"Topic3\", \"Topic3\", \"Topic3\", \"Topic3\", \"Topic3\", \"Topic3\", \"Topic4\", \"Topic4\", \"Topic4\", \"Topic4\", \"Topic4\", \"Topic4\", \"Topic4\", \"Topic4\", \"Topic4\", \"Topic4\", \"Topic4\", \"Topic4\", \"Topic4\", \"Topic4\", \"Topic4\", \"Topic4\", \"Topic4\", \"Topic4\", \"Topic4\", \"Topic4\", \"Topic4\", \"Topic4\", \"Topic4\", \"Topic4\", \"Topic4\", \"Topic4\", \"Topic4\", \"Topic4\", \"Topic4\", \"Topic4\", \"Topic4\", \"Topic4\", \"Topic4\", \"Topic4\", \"Topic4\", \"Topic4\", \"Topic4\", \"Topic4\", \"Topic4\", \"Topic4\", \"Topic4\", \"Topic4\", \"Topic4\", \"Topic4\", \"Topic4\", \"Topic4\", \"Topic4\", \"Topic4\", \"Topic4\", \"Topic4\", \"Topic4\", \"Topic4\", \"Topic4\", \"Topic4\", \"Topic4\", \"Topic4\", \"Topic4\", \"Topic4\"], \"logprob\": [30.0, 29.0, 28.0, 27.0, 26.0, 25.0, 24.0, 23.0, 22.0, 21.0, 20.0, 19.0, 18.0, 17.0, 16.0, 15.0, 14.0, 13.0, 12.0, 11.0, 10.0, 9.0, 8.0, 7.0, 6.0, 5.0, 4.0, 3.0, 2.0, 1.0, -5.0731000900268555, -5.622399806976318, -5.576900005340576, -5.698999881744385, -5.821199893951416, -5.823800086975098, -5.959000110626221, -5.67080020904541, -6.048399925231934, -6.051300048828125, -6.131700038909912, -6.220200061798096, -6.220300197601318, -6.231900215148926, -6.22790002822876, -6.334099769592285, -6.334799766540527, -6.090400218963623, -6.250199794769287, -5.482900142669678, -6.357600212097168, -6.359099864959717, -6.463500022888184, -6.464099884033203, -5.629300117492676, -4.868800163269043, -5.451900005340576, -5.530300140380859, -5.416900157928467, -6.287300109863281, -5.514800071716309, -4.423900127410889, -5.2932000160217285, -5.3755998611450195, -5.131899833679199, -4.901599884033203, -5.692200183868408, -5.551700115203857, -4.996200084686279, -3.8371999263763428, -4.680699825286865, -4.963699817657471, -4.11269998550415, -4.973499774932861, -5.054999828338623, -4.747099876403809, -5.105400085449219, -4.643899917602539, -4.952400207519531, -5.013400077819824, -5.3572998046875, -5.204999923706055, -4.8709001541137695, -5.399700164794922, -5.0071001052856445, -4.553800106048584, -5.171199798583984, -5.196599960327148, -5.176400184631348, -5.151299953460693, -5.1427998542785645, -5.186699867248535, -4.8694000244140625, -5.1946001052856445, -5.297599792480469, -5.406099796295166, -5.597400188446045, -5.611100196838379, -5.840199947357178, -6.004700183868408, -6.00600004196167, -5.931399822235107, -6.0121002197265625, -5.064499855041504, -6.015999794006348, -6.119999885559082, -6.123499870300293, -6.127699851989746, -6.235799789428711, -6.235899925231934, -6.142399787902832, -6.239699840545654, -5.827199935913086, -6.240799903869629, -6.156499862670898, -6.26170015335083, -6.36899995803833, -6.369800090789795, -6.383600234985352, -6.383600234985352, -6.383900165557861, -6.383900165557861, -5.502600193023682, -5.215000152587891, -4.4019999504089355, -4.279699802398682, -5.733500003814697, -5.586100101470947, -5.54040002822876, -5.251999855041504, -5.816699981689453, -5.113100051879883, -5.225800037384033, -5.69189977645874, -4.891300201416016, -5.579699993133545, -3.9756999015808105, -5.4145002365112305, -4.924099922180176, -5.722899913787842, -4.741199970245361, -5.437699794769287, -4.406899929046631, -5.512899875640869, -4.902699947357178, -5.132400035858154, -4.856599807739258, -4.968200206756592, -5.031899929046631, -5.347599983215332, -5.009699821472168, -5.282800197601318, -5.253399848937988, -5.235000133514404, -5.2733001708984375, -5.206500053405762, -5.357500076293945, -5.371600151062012, -4.695499897003174, -5.25540018081665, -5.589399814605713, -5.857699871063232, -5.9593000411987305, -5.965400218963623, -6.088099956512451, -6.088699817657471, -6.098800182342529, -6.219200134277344, -6.22130012512207, -6.22160005569458, -6.222899913787842, -6.223100185394287, -6.223599910736084, -6.223999977111816, -6.228400230407715, -5.417099952697754, -6.24459981918335, -6.389599800109863, -6.389599800109863, -6.389599800109863, -6.389599800109863, -6.389599800109863, -6.389699935913086, -6.390200138092041, -6.390900135040283, -6.390900135040283, -6.390999794006348, -6.391600131988525, -5.659800052642822, -5.657100200653076, -4.794400215148926, -5.709099769592285, -5.025199890136719, -5.321199893951416, -5.480500221252441, -5.030700206756592, -5.4527997970581055, -5.134900093078613, -5.659800052642822, -4.41480016708374, -5.045100212097168, -4.5914998054504395, -4.086400032043457, -5.158999919891357, -5.356500148773193, -4.3719000816345215, -5.173699855804443, -5.708000183105469, -4.758999824523926, -5.015900135040283, -4.9608001708984375, -5.389400005340576, -5.296999931335449, -5.076900005340576, -5.124800205230713, -5.193699836730957, -5.265500068664551, -5.059999942779541, -5.111999988555908, -5.379499912261963, -5.378600120544434, -5.410200119018555, -5.040299892425537, -5.435200214385986, -4.726600170135498, -5.575900077819824, -5.665599822998047, -5.84689998626709, -5.8471999168396, -5.847499847412109, -5.849800109863281, -5.961900234222412, -5.962600231170654, -5.974100112915039, -5.312900066375732, -4.846499919891357, -6.097099781036377, -6.22130012512207, -6.22130012512207, -6.016200065612793, -6.221700191497803, -6.221799850463867, -6.2220001220703125, -6.2220001220703125, -6.2220001220703125, -6.2220001220703125, -6.222300052642822, -6.222300052642822, -6.223100185394287, -6.224800109863281, -6.226099967956543, -6.226200103759766, -5.374300003051758, -5.5756001472473145, -5.6118998527526855, -5.950099945068359, -5.1996002197265625, -4.304299831390381, -4.456999778747559, -5.003799915313721, -4.915500164031982, -4.855199813842773, -5.164299964904785, -5.066100120544434, -5.028299808502197, -5.434000015258789, -4.5640997886657715, -5.051199913024902, -5.2778000831604, -5.351900100708008, -5.13730001449585, -5.275899887084961, -5.224699974060059, -4.861199855804443, -5.241399765014648, -5.065199851989746, -5.208499908447266, -5.366099834442139, -5.328700065612793, -5.414100170135498], \"loglift\": [30.0, 29.0, 28.0, 27.0, 26.0, 25.0, 24.0, 23.0, 22.0, 21.0, 20.0, 19.0, 18.0, 17.0, 16.0, 15.0, 14.0, 13.0, 12.0, 11.0, 10.0, 9.0, 8.0, 7.0, 6.0, 5.0, 4.0, 3.0, 2.0, 1.0, 1.1014000177383423, 1.0618000030517578, 1.0613000392913818, 1.0405000448226929, 1.0313999652862549, 1.029099941253662, 1.019700050354004, 1.0157999992370605, 1.004699945449829, 1.0018999576568604, 1.0012999773025513, 0.9901000261306763, 0.9900000095367432, 0.9879999756813049, 0.9825999736785889, 0.97079998254776, 0.9702000021934509, 0.9666000008583069, 0.9613999724388123, 0.9609000086784363, 0.9487000107765198, 0.9477999806404114, 0.9458000063896179, 0.9452999830245972, 0.9442999958992004, 0.9441999793052673, 0.9355999827384949, 0.9314000010490417, 0.9294999837875366, 0.9282000064849854, 0.921500027179718, 0.8913999795913696, 0.9023000001907349, 0.9021999835968018, 0.8677999973297119, 0.8192999958992004, 0.9010999798774719, 0.8813999891281128, 0.805899977684021, 0.6107000112533569, 0.6906999945640564, 0.7400000095367432, 0.5264000296592712, 0.6877999901771545, 0.6873000264167786, 0.5253999829292297, 0.6510000228881836, 0.42149999737739563, 0.5210000276565552, 0.5239999890327454, 0.7233999967575073, 0.5910999774932861, 0.2825999855995178, 0.739799976348877, 0.32510000467300415, -0.18029999732971191, 0.29010000824928284, 0.2653000056743622, 0.188400000333786, -0.056299999356269836, -0.12240000069141388, 0.019500000402331352, 1.1899000406265259, 1.1704000234603882, 1.162500023841858, 1.1480000019073486, 1.1353000402450562, 1.1128000020980835, 1.096500039100647, 1.0920000076293945, 1.090999960899353, 1.0880999565124512, 1.0859999656677246, 1.0831999778747559, 1.0827000141143799, 1.0753999948501587, 1.0724999904632568, 1.0599000453948975, 1.0571000576019287, 1.0570000410079956, 1.0562000274658203, 1.0537999868392944, 1.0533000230789185, 1.0528000593185425, 1.045699954032898, 1.0341999530792236, 1.0321999788284302, 1.0312999486923218, 1.0307999849319458, 1.0307999849319458, 1.030500054359436, 1.030500054359436, 1.0268000364303589, 1.021299958229065, 0.9681000113487244, 0.9571999907493591, 1.0097999572753906, 0.995199978351593, 0.9894000291824341, 0.9254000186920166, 0.9943000078201294, 0.8888000249862671, 0.8651999831199646, 0.9462000131607056, 0.7609000205993652, 0.9154999852180481, 0.3977999985218048, 0.8510000109672546, 0.5806999802589417, 0.9244999885559082, 0.3537999987602234, 0.762499988079071, 0.04100000113248825, 0.7754999995231628, 0.2500999867916107, 0.4223000109195709, 0.16380000114440918, 0.18529999256134033, 0.17430000007152557, 0.4668999910354614, -0.37059998512268066, 0.2547000050544739, 0.11800000071525574, 0.03739999979734421, 0.09730000048875809, -0.14110000431537628, 0.007199999876320362, 0.09030000120401382, 1.5134999752044678, 1.4616999626159668, 1.42739999294281, 1.3924000263214111, 1.375, 1.368399977684021, 1.3496999740600586, 1.3489999771118164, 1.3393000364303589, 1.3209999799728394, 1.319000005722046, 1.318600058555603, 1.3172999620437622, 1.3171000480651855, 1.31659996509552, 1.3162000179290771, 1.3118000030517578, 1.30840003490448, 1.2944999933242798, 1.2792999744415283, 1.2792999744415283, 1.2792999744415283, 1.2792999744415283, 1.2791999578475952, 1.2791999578475952, 1.2785999774932861, 1.277999997138977, 1.2776999473571777, 1.2776000499725342, 1.277400016784668, 1.2345000505447388, 1.2204999923706055, 1.1354999542236328, 1.2115999460220337, 1.1043000221252441, 1.083299994468689, 1.0960999727249146, 0.9848999977111816, 1.0749000310897827, 0.9628999829292297, 1.0633000135421753, 0.6055999994277954, 0.776199996471405, 0.5612999796867371, 0.2870999872684479, 0.7827000021934509, 0.8727999925613403, 0.2671999931335449, 0.6877999901771545, 0.9950000047683716, 0.3359000086784363, 0.4934999942779541, 0.428600013256073, 0.7549999952316284, 0.5597000122070312, 0.28790000081062317, 0.34860000014305115, 0.4262000024318695, 0.4997999966144562, 0.1462000012397766, 0.2361000031232834, 0.5821999907493591, -0.22509999573230743, -0.09489999711513519, 1.5407999753952026, 1.4972000122070312, 1.4881000518798828, 1.4817999601364136, 1.4646999835968018, 1.4384000301361084, 1.438099980354309, 1.4378000497817993, 1.4351999759674072, 1.4157999753952026, 1.4149999618530273, 1.4139000177383423, 1.4021999835968018, 1.3991999626159668, 1.3818000555038452, 1.3590999841690063, 1.3590999841690063, 1.3589999675750732, 1.3587000370025635, 1.3585000038146973, 1.358299970626831, 1.358299970626831, 1.358299970626831, 1.358299970626831, 1.3580000400543213, 1.3580000400543213, 1.357200026512146, 1.3554999828338623, 1.3538999557495117, 1.3538000583648682, 1.3265999555587769, 1.3240000009536743, 1.3112000226974487, 1.326300024986267, 1.2164000272750854, 1.0663000345230103, 1.09089994430542, 1.1380000114440918, 1.0245000123977661, 0.993399977684021, 1.0657999515533447, 1.017300009727478, 1.003100037574768, 1.1187000274658203, 0.8252999782562256, 0.8490999937057495, 0.951200008392334, 0.8680999875068665, 0.6381000280380249, 0.7397000193595886, 0.6711000204086304, 0.20430000126361847, 0.6152999997138977, 0.2669000029563904, 0.1395999938249588, 0.597100019454956, 0.40709999203681946, 0.48100000619888306]}, \"token.table\": {\"Topic\": [2, 3, 2, 1, 2, 3, 4, 2, 4, 3, 2, 3, 3, 4, 1, 2, 4, 1, 1, 2, 3, 1, 2, 3, 2, 3, 1, 2, 1, 3, 4, 2, 1, 3, 1, 3, 4, 1, 3, 1, 3, 4, 2, 1, 2, 3, 3, 1, 2, 3, 4, 2, 3, 1, 2, 3, 4, 2, 3, 2, 1, 4, 4, 2, 2, 4, 2, 2, 3, 1, 1, 3, 1, 2, 3, 4, 1, 2, 3, 4, 3, 4, 3, 2, 4, 4, 1, 3, 4, 4, 1, 2, 3, 4, 1, 3, 4, 2, 3, 3, 1, 3, 4, 1, 2, 3, 1, 1, 3, 4, 1, 2, 3, 4, 3, 1, 1, 2, 3, 4, 1, 1, 2, 3, 4, 2, 4, 1, 2, 3, 1, 3, 4, 1, 2, 2, 1, 2, 3, 2, 2, 3, 3, 1, 2, 3, 4, 1, 2, 3, 1, 2, 3, 2, 4, 4, 3, 1, 2, 4, 1, 2, 2, 3, 1, 2, 3, 4, 2, 1, 2, 1, 3, 4, 3, 1, 2, 3, 4, 4, 1, 4, 2, 1, 3, 4, 3, 4, 3, 4, 1, 2, 1, 2, 3, 4, 2, 4, 1, 1, 3, 4, 1, 2, 3, 4, 3, 1, 3, 1, 1, 2, 3, 4, 2, 3, 3, 1, 2, 4, 1, 1, 3, 3, 1, 2, 3, 1, 2, 2, 1, 3, 4, 2, 1, 4, 3, 4, 1, 2, 3, 4, 3, 3, 4, 1, 2, 3, 1, 2, 3, 4, 4, 2, 3, 2, 3, 4, 1, 2, 3, 2, 3, 3, 1, 1, 2, 3, 4, 1, 2, 1, 2, 3, 4, 4, 4, 2, 2, 3, 1, 2, 1, 1, 3, 3, 4, 3, 4, 1, 1, 3, 4, 1, 2, 3, 4, 3, 1, 3, 4, 1, 4, 1, 3, 1, 3, 4, 1, 3, 4, 1, 2, 3, 4, 4, 1, 4, 1, 3, 1, 2, 3, 1, 3, 4, 1, 1, 2, 3, 4, 3, 4, 4, 1, 2, 4, 2, 1, 3, 4, 2, 1, 4, 4, 2, 3, 4, 1, 4, 1, 3, 4, 1, 1, 2, 3, 4, 1, 3, 1, 2, 3, 4, 1, 2, 2, 3, 4, 2, 1, 2, 3, 4, 1, 3, 4, 1, 3, 4, 1, 2, 3, 1, 2, 4, 1, 2, 3, 4, 2, 3, 1, 2, 3, 4, 1, 2, 3, 3, 4, 1, 2, 4, 2, 3, 2, 1, 1, 2, 4, 2, 3, 4, 1, 2, 3, 4, 2, 1, 2, 3, 4], \"Freq\": [0.7711800932884216, 0.8002604246139526, 0.8446301221847534, 0.22078152000904083, 0.36796921491622925, 0.36796921491622925, 0.036796920001506805, 0.4665795862674713, 0.5598955154418945, 0.9111102223396301, 0.6561024188995361, 0.16402560472488403, 0.5232227444648743, 0.4360189437866211, 0.0914565846323967, 0.7773810029029846, 0.13718487322330475, 0.7412143349647522, 0.7943382263183594, 0.13238970935344696, 0.9111019968986511, 0.6410871148109436, 0.3205435574054718, 0.04579193517565727, 0.7291919589042664, 0.1458383947610855, 0.7618009448051453, 0.15236018598079681, 0.32091811299324036, 0.10697270929813385, 0.4278908371925354, 0.8932000994682312, 0.38598212599754333, 0.6433035135269165, 0.541520357131958, 0.07736004889011383, 0.38680022954940796, 0.9138257503509521, 0.8011835217475891, 0.7997433543205261, 0.7094101905822754, 0.17735254764556885, 0.9110326766967773, 0.2778330147266388, 0.416749507188797, 0.2778330147266388, 0.911109209060669, 0.1426400989294052, 0.42792028188705444, 0.1426400989294052, 0.21396014094352722, 0.8570300936698914, 0.9111102819442749, 0.04662180691957474, 0.18648722767829895, 0.32635265588760376, 0.4662180542945862, 0.8965848088264465, 0.9109148979187012, 0.7064095735549927, 0.8642231822013855, 0.9313248991966248, 0.8339038491249084, 0.9894376993179321, 0.8517733216285706, 0.9312822222709656, 0.8283325433731079, 0.6717526316642761, 0.33587631583213806, 0.7028362154960632, 0.20648673176765442, 0.6194602251052856, 0.41091880202293396, 0.2348107397556305, 0.2935134172439575, 0.05870268493890762, 0.7144016027450562, 0.06494560092687607, 0.06494560092687607, 0.12989120185375214, 0.17552834749221802, 0.7021133899688721, 0.8010714650154114, 0.8762341141700745, 0.7975852489471436, 0.8338580131530762, 0.407389760017395, 0.33949145674705505, 0.2715931534767151, 0.833946704864502, 0.5601072907447815, 0.14002682268619537, 0.14002682268619537, 0.14002682268619537, 0.46381476521492004, 0.15460491180419922, 0.30920982360839844, 0.4319245219230652, 0.5399056077003479, 0.723084032535553, 0.3234300911426544, 0.1617150455713272, 0.566002607345581, 0.18190091848373413, 0.6063364148139954, 0.18190091848373413, 0.8058106303215027, 0.6514787673950195, 0.18613678216934204, 0.18613678216934204, 0.20573630928993225, 0.27431508898735046, 0.13715754449367523, 0.3428938686847687, 0.8011505007743835, 0.7028784155845642, 0.17340941727161407, 0.17340941727161407, 0.5202282667160034, 0.17340941727161407, 0.9200360178947449, 0.47207194566726685, 0.23603597283363342, 0.03371942415833473, 0.23603597283363342, 0.10641617327928543, 0.8513293862342834, 0.772432804107666, 0.08582586795091629, 0.17165173590183258, 0.21589462459087372, 0.32384192943573, 0.5397365689277649, 0.7833248972892761, 0.14242270588874817, 0.9383251667022705, 0.2901154160499573, 0.3545854985713959, 0.38682055473327637, 0.7064365744590759, 0.3538608253002167, 0.5307912826538086, 0.8011165261268616, 0.4010311961174011, 0.30077341198921204, 0.20051559805870056, 0.10025779902935028, 0.5391811728477478, 0.29032832384109497, 0.16590189933776855, 0.14087435603141785, 0.7043717503547668, 0.14087435603141785, 0.21109430491924286, 0.6332828998565674, 0.741753339767456, 0.7230753302574158, 0.7307353019714355, 0.10439075529575348, 0.10439075529575348, 0.16251452267169952, 0.8125725984573364, 0.7612054347991943, 0.10874363034963608, 0.12008081376552582, 0.7605118155479431, 0.040026936680078506, 0.08005387336015701, 0.7713780999183655, 0.7969252467155457, 0.13282087445259094, 0.2161295861005783, 0.10806479305028915, 0.5403239727020264, 0.8011087775230408, 0.18052995204925537, 0.7221198081970215, 0.21609847247600555, 0.6482954025268555, 0.8339038491249084, 0.17303922772407532, 0.6921569108963013, 0.7727266550064087, 0.4131227135658264, 0.3304981589317322, 0.24787361919879913, 0.2602919042110443, 0.650729775428772, 0.9110880494117737, 0.833652913570404, 0.9497403502464294, 0.8539003729820251, 0.2092958688735962, 0.5232396721839905, 0.15697190165519714, 0.15697190165519714, 0.9521104097366333, 0.9310047030448914, 0.8529664278030396, 0.7283570766448975, 0.12139284610748291, 0.9313220977783203, 0.19318372011184692, 0.7727348804473877, 0.8011044859886169, 0.8338866829872131, 0.8990392088890076, 0.8174219131469727, 0.1362369805574417, 0.7383103370666504, 0.44028323888778687, 0.22014161944389343, 0.08805664628744125, 0.26416993141174316, 0.8745940327644348, 0.14576567709445953, 0.9492750763893127, 0.6383782625198364, 0.19151347875595093, 0.12767565250396729, 0.8723711967468262, 0.3201475441455841, 0.6402950882911682, 0.9111615419387817, 0.5405883193016052, 0.37841179966926575, 0.10811766237020493, 0.3436458706855774, 0.5727431178092957, 0.6971210837364197, 0.29515430331230164, 0.22136573493480682, 0.516520082950592, 0.9519366025924683, 0.2984228730201721, 0.5968457460403442, 0.6517329812049866, 0.8336516618728638, 0.17204590141773224, 0.688183605670929, 0.08602295070886612, 0.08602295070886612, 0.8010890483856201, 0.9111105799674988, 0.6809391379356384, 0.5283445119857788, 0.19812919199466705, 0.2641722559928894, 0.5971649885177612, 0.1990550011396408, 0.13270333409309387, 0.06635166704654694, 0.8725315928459167, 0.8512528538703918, 0.879294216632843, 0.26577210426330566, 0.1771813929080963, 0.5315442085266113, 0.611901044845581, 0.18357031047344208, 0.18357031047344208, 0.2910655736923218, 0.5821311473846436, 0.9109253883361816, 0.8684597611427307, 0.21541886031627655, 0.2872251570224762, 0.4308377206325531, 0.07180628925561905, 0.8055345416069031, 0.706409752368927, 0.5637247562408447, 0.3091393709182739, 0.07273867726325989, 0.05455400422215462, 0.6880077123641968, 0.6153708100318909, 0.772251546382904, 0.7176905274391174, 0.20505443215370178, 0.8029050827026367, 0.13381752371788025, 0.9510514140129089, 0.7934120893478394, 0.2266891598701477, 0.9522644877433777, 0.8339058756828308, 0.6299019455909729, 0.20996731519699097, 0.850852906703949, 0.7792248129844666, 0.1731610745191574, 0.04329026862978935, 0.4007473587989807, 0.25046709179878235, 0.15028025209903717, 0.15028025209903717, 0.9111114740371704, 0.15281414985656738, 0.6112565994262695, 0.15281414985656738, 0.8640296459197998, 0.9210021495819092, 0.7770084738731384, 0.15540170669555664, 0.29680219292640686, 0.09893406182527542, 0.5936043858528137, 0.7589315176010132, 0.126488596200943, 0.126488596200943, 0.40506815910339355, 0.3314194083213806, 0.14729751646518707, 0.07364875823259354, 0.833946704864502, 0.10977056622505188, 0.7683939933776855, 0.7044082283973694, 0.28176331520080566, 0.3967711627483368, 0.0991927906870842, 0.3967711627483368, 0.09772452712059021, 0.5863471627235413, 0.19544905424118042, 0.864030659198761, 0.507080614566803, 0.10141612589359283, 0.3042483627796173, 0.05070806294679642, 0.7233408093452454, 0.8338866829872131, 0.8339276909828186, 0.9751555919647217, 0.6971154808998108, 0.8339172005653381, 0.7064335346221924, 0.6909395456314087, 0.09870564937591553, 0.19741129875183105, 0.8853221535682678, 0.9515987038612366, 0.8338896632194519, 0.6809068322181702, 0.297559916973114, 0.3719498813152313, 0.3719498813152313, 0.5439324975013733, 0.46622782945632935, 0.21850477159023285, 0.16387857496738434, 0.6008881330490112, 0.7383894324302673, 0.3131590783596039, 0.22368504106998444, 0.26842206716537476, 0.22368504106998444, 0.8992090821266174, 0.8011259436607361, 0.36795273423194885, 0.2628233730792999, 0.3153880536556244, 0.052564673125743866, 0.9497936367988586, 0.9412251710891724, 0.3202632665634155, 0.09150379151105881, 0.5490227341651917, 0.9390208125114441, 0.2989921569824219, 0.2989921569824219, 0.37374019622802734, 0.7535048723220825, 0.4964824616909027, 0.08274707943201065, 0.3309883177280426, 0.60563725233078, 0.20187908411026, 0.20187908411026, 0.08099747449159622, 0.4049873948097229, 0.4859848618507385, 0.18806567788124084, 0.6582298874855042, 0.09403283894062042, 0.2532005310058594, 0.43888089060783386, 0.27008056640625, 0.03376007080078125, 0.7677098512649536, 0.15354198217391968, 0.3105207681655884, 0.34933584928512573, 0.23289057612419128, 0.11644528806209564, 0.38499221205711365, 0.4399910867214203, 0.1649966537952423, 0.6520212888717651, 0.6792893409729004, 0.3295964300632477, 0.3955157399177551, 0.2636771500110626, 0.2155931293964386, 0.6467794179916382, 0.9389298558235168, 0.8651224970817566, 0.2097771018743515, 0.6293312907218933, 0.10488855093717575, 0.09467607736587524, 0.5680564641952515, 0.28402823209762573, 0.3639024794101715, 0.27292686700820923, 0.27292686700820923, 0.04548780992627144, 0.9383071064949036, 0.09951326251029968, 0.8956193327903748, 0.9111003279685974, 0.8339038491249084], \"Term\": [\"actually\", \"age\", \"ago\", \"also\", \"also\", \"also\", \"also\", \"amazing\", \"amazing\", \"ancient\", \"architecture\", \"architecture\", \"area\", \"area\", \"art\", \"art\", \"art\", \"ask\", \"atmosphere\", \"atmosphere\", \"authority\", \"beautiful\", \"beautiful\", \"beautiful\", \"big\", \"big\", \"bit\", \"bit\", \"bread\", \"bread\", \"bread\", \"british\", \"building\", \"building\", \"burger\", \"burger\", \"burger\", \"care\", \"cash\", \"chair\", \"choice\", \"choice\", \"church\", \"city\", \"city\", \"city\", \"clean\", \"collection\", \"collection\", \"collection\", \"collection\", \"colonial\", \"combine\", \"come\", \"come\", \"come\", \"come\", \"concert\", \"consist\", \"contemporary\", \"cook\", \"cream\", \"cuisine\", \"cultural\", \"culture\", \"customer\", \"cvar\", \"cypriot\", \"cypriot\", \"date\", \"daughter\", \"daughter\", \"day\", \"day\", \"day\", \"day\", \"delicious\", \"delicious\", \"delicious\", \"delicious\", \"delight\", \"delight\", \"desert\", \"design\", \"dinner\", \"disappoint\", \"dish\", \"dish\", \"dish\", \"dry\", \"eat\", \"eat\", \"eat\", \"eat\", \"enjoy\", \"enjoy\", \"enjoy\", \"entrance\", \"entrance\", \"europa_nostra\", \"even\", \"even\", \"even\", \"event\", \"event\", \"event\", \"ever\", \"excellent\", \"excellent\", \"excellent\", \"exhibition\", \"exhibition\", \"exhibition\", \"exhibition\", \"expensive\", \"fantastic\", \"far\", \"far\", \"far\", \"far\", \"feel\", \"find\", \"find\", \"find\", \"find\", \"first\", \"first\", \"free\", \"free\", \"free\", \"fresh\", \"fresh\", \"fresh\", \"friendly\", \"friendly\", \"function\", \"gate\", \"gate\", \"gate\", \"gift\", \"give\", \"give\", \"glass\", \"go\", \"go\", \"go\", \"go\", \"great\", \"great\", \"great\", \"greek\", \"greek\", \"greek\", \"hard\", \"hard\", \"healthy\", \"heat\", \"highly\", \"highly\", \"highly\", \"historic\", \"historic\", \"historical\", \"historical\", \"history\", \"history\", \"history\", \"history\", \"hold\", \"home\", \"home\", \"homemade\", \"homemade\", \"homemade\", \"honest\", \"host\", \"host\", \"huge\", \"huge\", \"humble\", \"ice\", \"ice\", \"important\", \"inga\", \"inga\", \"inga\", \"inside\", \"inside\", \"insight\", \"instead\", \"interest\", \"interested\", \"interesting\", \"interesting\", \"interesting\", \"interesting\", \"island\", \"italian\", \"keep\", \"kind\", \"kind\", \"lasagna\", \"learn\", \"learn\", \"lecture\", \"lemon\", \"let\", \"light\", \"light\", \"like\", \"little\", \"little\", \"little\", \"little\", \"live\", \"live\", \"long\", \"love\", \"love\", \"love\", \"lucky\", \"lunch\", \"lunch\", \"major\", \"make\", \"make\", \"make\", \"many\", \"many\", \"maybe\", \"meal\", \"meal\", \"meal\", \"memorabilia\", \"menu\", \"menu\", \"middle\", \"mostly\", \"museum\", \"museum\", \"museum\", \"museum\", \"nicely\", \"nowadays\", \"often\", \"old\", \"old\", \"old\", \"open\", \"open\", \"open\", \"open\", \"option\", \"organize\", \"outside\", \"owner\", \"owner\", \"owner\", \"part\", \"part\", \"part\", \"pass\", \"pass\", \"passage\", \"passion\", \"people\", \"people\", \"people\", \"people\", \"perfect\", \"pick\", \"place\", \"place\", \"place\", \"place\", \"poster\", \"preparation\", \"presentation\", \"preserve\", \"preserve\", \"price\", \"price\", \"probably\", \"quiet\", \"quiet\", \"quite\", \"rather\", \"read\", \"read\", \"real\", \"really\", \"really\", \"really\", \"recommend\", \"recommend\", \"recommend\", \"recommend\", \"represent\", \"return\", \"return\", \"return\", \"roast\", \"roll\", \"run\", \"run\", \"salad\", \"salad\", \"salad\", \"say\", \"say\", \"say\", \"see\", \"see\", \"see\", \"see\", \"seed\", \"serve\", \"serve\", \"service\", \"service\", \"side\", \"side\", \"side\", \"sit\", \"sit\", \"sit\", \"slightly\", \"small\", \"small\", \"small\", \"small\", \"solid\", \"sorry\", \"soup\", \"staff\", \"stay\", \"store\", \"story\", \"street\", \"street\", \"street\", \"structure\", \"summer\", \"sure\", \"surprise\", \"take\", \"take\", \"take\", \"taste\", \"taste\", \"tasty\", \"tasty\", \"tasty\", \"terrace\", \"time\", \"time\", \"time\", \"time\", \"top\", \"touch\", \"town\", \"town\", \"town\", \"town\", \"trip\", \"true\", \"try\", \"try\", \"try\", \"turk\", \"use\", \"use\", \"use\", \"usually\", \"vegan\", \"vegan\", \"vegan\", \"veggie\", \"veggie\", \"veggie\", \"venetian_wall\", \"venetian_wall\", \"venetian_wall\", \"view\", \"view\", \"view\", \"visit\", \"visit\", \"visit\", \"visit\", \"visitor\", \"visitor\", \"walk\", \"walk\", \"walk\", \"walk\", \"wall\", \"wall\", \"wall\", \"walled\", \"water\", \"way\", \"way\", \"way\", \"weather\", \"weather\", \"wedding\", \"woman\", \"wonderful\", \"wonderful\", \"wonderful\", \"work\", \"work\", \"work\", \"worth\", \"worth\", \"worth\", \"worth\", \"worthwhile\", \"year\", \"year\", \"yet\", \"yummy\"]}, \"R\": 30, \"lambda.step\": 0.01, \"plot.opts\": {\"xlab\": \"PC1\", \"ylab\": \"PC2\"}, \"topic.order\": [4, 2, 3, 1]};\n",
       "\n",
       "function LDAvis_load_lib(url, callback){\n",
       "  var s = document.createElement('script');\n",
       "  s.src = url;\n",
       "  s.async = true;\n",
       "  s.onreadystatechange = s.onload = callback;\n",
       "  s.onerror = function(){console.warn(\"failed to load library \" + url);};\n",
       "  document.getElementsByTagName(\"head\")[0].appendChild(s);\n",
       "}\n",
       "\n",
       "if(typeof(LDAvis) !== \"undefined\"){\n",
       "   // already loaded: just create the visualization\n",
       "   !function(LDAvis){\n",
       "       new LDAvis(\"#\" + \"ldavis_el1201224385499013841862846323\", ldavis_el1201224385499013841862846323_data);\n",
       "   }(LDAvis);\n",
       "}else if(typeof define === \"function\" && define.amd){\n",
       "   // require.js is available: use it to load d3/LDAvis\n",
       "   require.config({paths: {d3: \"https://cdnjs.cloudflare.com/ajax/libs/d3/3.5.5/d3.min\"}});\n",
       "   require([\"d3\"], function(d3){\n",
       "      window.d3 = d3;\n",
       "      LDAvis_load_lib(\"https://cdn.rawgit.com/bmabey/pyLDAvis/files/ldavis.v1.0.0.js\", function(){\n",
       "        new LDAvis(\"#\" + \"ldavis_el1201224385499013841862846323\", ldavis_el1201224385499013841862846323_data);\n",
       "      });\n",
       "    });\n",
       "}else{\n",
       "    // require.js not available: dynamically load d3 & LDAvis\n",
       "    LDAvis_load_lib(\"https://cdnjs.cloudflare.com/ajax/libs/d3/3.5.5/d3.min.js\", function(){\n",
       "         LDAvis_load_lib(\"https://cdn.rawgit.com/bmabey/pyLDAvis/files/ldavis.v1.0.0.js\", function(){\n",
       "                 new LDAvis(\"#\" + \"ldavis_el1201224385499013841862846323\", ldavis_el1201224385499013841862846323_data);\n",
       "            })\n",
       "         });\n",
       "}\n",
       "</script>"
      ],
      "text/plain": [
       "PreparedData(topic_coordinates=              x         y  topics  cluster       Freq\n",
       "topic                                                \n",
       "3     -0.114434  0.053098       1        1  31.091106\n",
       "1      0.064449  0.128111       2        1  28.935793\n",
       "2      0.105084 -0.035076       3        1  20.560148\n",
       "0     -0.055099 -0.146133       4        1  19.412951, topic_info=        Term       Freq      Total Category  logprob  loglift\n",
       "79       try  21.000000  21.000000  Default  30.0000  30.0000\n",
       "678    quite   9.000000   9.000000  Default  29.0000  29.0000\n",
       "452      old  45.000000  45.000000  Default  28.0000  28.0000\n",
       "4        art  21.000000  21.000000  Default  27.0000  27.0000\n",
       "347    tasty  18.000000  18.000000  Default  26.0000  26.0000\n",
       "...      ...        ...        ...      ...      ...      ...\n",
       "216   little   5.758213  22.712652   Topic4  -5.0652   0.2669\n",
       "330     time   4.989561  22.352858   Topic4  -5.2085   0.1396\n",
       "1083   vegan   4.262262  12.085019   Topic4  -5.3661   0.5971\n",
       "102      way   4.424753  15.170067   Topic4  -5.3287   0.4071\n",
       "319    enjoy   4.062507  12.936199   Topic4  -5.4141   0.4810\n",
       "\n",
       "[280 rows x 6 columns], token_table=      Topic      Freq        Term\n",
       "term                             \n",
       "760       2  0.771180    actually\n",
       "973       3  0.800260         age\n",
       "801       2  0.844630         ago\n",
       "1         1  0.220782        also\n",
       "1         2  0.367969        also\n",
       "...     ...       ...         ...\n",
       "130       2  0.938307  worthwhile\n",
       "85        1  0.099513        year\n",
       "85        2  0.895619        year\n",
       "441       3  0.911100         yet\n",
       "1348      4  0.833904       yummy\n",
       "\n",
       "[423 rows x 3 columns], R=30, lambda_step=0.01, plot_opts={'xlab': 'PC1', 'ylab': 'PC2'}, topic_order=[4, 2, 3, 1])"
      ]
     },
     "metadata": {},
     "output_type": "display_data"
    }
   ],
   "source": [
    "plot_model(lda_pos_custom, plot ='topic_model')"
   ]
  },
  {
   "cell_type": "markdown",
   "metadata": {},
   "source": [
    "## Tuning the model using Coherence Value"
   ]
  },
  {
   "cell_type": "code",
   "execution_count": 17,
   "metadata": {},
   "outputs": [
    {
     "data": {
      "application/vnd.jupyter.widget-view+json": {
       "model_id": "",
       "version_major": 2,
       "version_minor": 0
      },
      "text/plain": [
       "IntProgress(value=0, description='Processing: ', max=25)"
      ]
     },
     "metadata": {},
     "output_type": "display_data"
    },
    {
     "data": {
      "application/vnd.jupyter.widget-view+json": {
       "model_id": "7d5d79767d524f05a6173e6c9a82ce46",
       "version_major": 2,
       "version_minor": 0
      },
      "text/plain": [
       "Output()"
      ]
     },
     "metadata": {},
     "output_type": "display_data"
    },
    {
     "data": {
      "text/html": [
       "        <script type=\"text/javascript\">\n",
       "        window.PlotlyConfig = {MathJaxConfig: 'local'};\n",
       "        if (window.MathJax) {MathJax.Hub.Config({SVG: {font: \"STIX-Web\"}});}\n",
       "        if (typeof require !== 'undefined') {\n",
       "        require.undef(\"plotly\");\n",
       "        requirejs.config({\n",
       "            paths: {\n",
       "                'plotly': ['https://cdn.plot.ly/plotly-latest.min']\n",
       "            }\n",
       "        });\n",
       "        require(['plotly'], function(Plotly) {\n",
       "            window._Plotly = Plotly;\n",
       "        });\n",
       "        }\n",
       "        </script>\n",
       "        "
      ]
     },
     "metadata": {},
     "output_type": "display_data"
    },
    {
     "data": {
      "application/vnd.plotly.v1+json": {
       "config": {
        "plotlyServerURL": "https://plot.ly"
       },
       "data": [
        {
         "hovertemplate": "Metric=Coherence<br># Topics=%{x}<br>Score=%{y}<extra></extra>",
         "legendgroup": "Coherence",
         "line": {
          "color": "#636efa",
          "dash": "solid",
          "shape": "linear"
         },
         "mode": "lines",
         "name": "Coherence",
         "orientation": "v",
         "showlegend": true,
         "type": "scatter",
         "x": [
          2,
          4,
          8,
          16,
          32,
          64,
          100,
          200,
          300,
          400
         ],
         "xaxis": "x",
         "y": [
          0.32174585655715116,
          0.36035677440944364,
          0.3068257749487666,
          0.30216745193687333,
          0.38983725370700406,
          0.5545389027128098,
          0.6697643920585201,
          0.8862022031253131,
          0.9500526153210735,
          0.9721457004080246
         ],
         "yaxis": "y"
        }
       ],
       "layout": {
        "legend": {
         "title": {
          "text": "Metric"
         },
         "tracegroupgap": 0
        },
        "plot_bgcolor": "rgb(245,245,245)",
        "template": {
         "data": {
          "bar": [
           {
            "error_x": {
             "color": "#2a3f5f"
            },
            "error_y": {
             "color": "#2a3f5f"
            },
            "marker": {
             "line": {
              "color": "#E5ECF6",
              "width": 0.5
             }
            },
            "type": "bar"
           }
          ],
          "barpolar": [
           {
            "marker": {
             "line": {
              "color": "#E5ECF6",
              "width": 0.5
             }
            },
            "type": "barpolar"
           }
          ],
          "carpet": [
           {
            "aaxis": {
             "endlinecolor": "#2a3f5f",
             "gridcolor": "white",
             "linecolor": "white",
             "minorgridcolor": "white",
             "startlinecolor": "#2a3f5f"
            },
            "baxis": {
             "endlinecolor": "#2a3f5f",
             "gridcolor": "white",
             "linecolor": "white",
             "minorgridcolor": "white",
             "startlinecolor": "#2a3f5f"
            },
            "type": "carpet"
           }
          ],
          "choropleth": [
           {
            "colorbar": {
             "outlinewidth": 0,
             "ticks": ""
            },
            "type": "choropleth"
           }
          ],
          "contour": [
           {
            "colorbar": {
             "outlinewidth": 0,
             "ticks": ""
            },
            "colorscale": [
             [
              0,
              "#0d0887"
             ],
             [
              0.1111111111111111,
              "#46039f"
             ],
             [
              0.2222222222222222,
              "#7201a8"
             ],
             [
              0.3333333333333333,
              "#9c179e"
             ],
             [
              0.4444444444444444,
              "#bd3786"
             ],
             [
              0.5555555555555556,
              "#d8576b"
             ],
             [
              0.6666666666666666,
              "#ed7953"
             ],
             [
              0.7777777777777778,
              "#fb9f3a"
             ],
             [
              0.8888888888888888,
              "#fdca26"
             ],
             [
              1,
              "#f0f921"
             ]
            ],
            "type": "contour"
           }
          ],
          "contourcarpet": [
           {
            "colorbar": {
             "outlinewidth": 0,
             "ticks": ""
            },
            "type": "contourcarpet"
           }
          ],
          "heatmap": [
           {
            "colorbar": {
             "outlinewidth": 0,
             "ticks": ""
            },
            "colorscale": [
             [
              0,
              "#0d0887"
             ],
             [
              0.1111111111111111,
              "#46039f"
             ],
             [
              0.2222222222222222,
              "#7201a8"
             ],
             [
              0.3333333333333333,
              "#9c179e"
             ],
             [
              0.4444444444444444,
              "#bd3786"
             ],
             [
              0.5555555555555556,
              "#d8576b"
             ],
             [
              0.6666666666666666,
              "#ed7953"
             ],
             [
              0.7777777777777778,
              "#fb9f3a"
             ],
             [
              0.8888888888888888,
              "#fdca26"
             ],
             [
              1,
              "#f0f921"
             ]
            ],
            "type": "heatmap"
           }
          ],
          "heatmapgl": [
           {
            "colorbar": {
             "outlinewidth": 0,
             "ticks": ""
            },
            "colorscale": [
             [
              0,
              "#0d0887"
             ],
             [
              0.1111111111111111,
              "#46039f"
             ],
             [
              0.2222222222222222,
              "#7201a8"
             ],
             [
              0.3333333333333333,
              "#9c179e"
             ],
             [
              0.4444444444444444,
              "#bd3786"
             ],
             [
              0.5555555555555556,
              "#d8576b"
             ],
             [
              0.6666666666666666,
              "#ed7953"
             ],
             [
              0.7777777777777778,
              "#fb9f3a"
             ],
             [
              0.8888888888888888,
              "#fdca26"
             ],
             [
              1,
              "#f0f921"
             ]
            ],
            "type": "heatmapgl"
           }
          ],
          "histogram": [
           {
            "marker": {
             "colorbar": {
              "outlinewidth": 0,
              "ticks": ""
             }
            },
            "type": "histogram"
           }
          ],
          "histogram2d": [
           {
            "colorbar": {
             "outlinewidth": 0,
             "ticks": ""
            },
            "colorscale": [
             [
              0,
              "#0d0887"
             ],
             [
              0.1111111111111111,
              "#46039f"
             ],
             [
              0.2222222222222222,
              "#7201a8"
             ],
             [
              0.3333333333333333,
              "#9c179e"
             ],
             [
              0.4444444444444444,
              "#bd3786"
             ],
             [
              0.5555555555555556,
              "#d8576b"
             ],
             [
              0.6666666666666666,
              "#ed7953"
             ],
             [
              0.7777777777777778,
              "#fb9f3a"
             ],
             [
              0.8888888888888888,
              "#fdca26"
             ],
             [
              1,
              "#f0f921"
             ]
            ],
            "type": "histogram2d"
           }
          ],
          "histogram2dcontour": [
           {
            "colorbar": {
             "outlinewidth": 0,
             "ticks": ""
            },
            "colorscale": [
             [
              0,
              "#0d0887"
             ],
             [
              0.1111111111111111,
              "#46039f"
             ],
             [
              0.2222222222222222,
              "#7201a8"
             ],
             [
              0.3333333333333333,
              "#9c179e"
             ],
             [
              0.4444444444444444,
              "#bd3786"
             ],
             [
              0.5555555555555556,
              "#d8576b"
             ],
             [
              0.6666666666666666,
              "#ed7953"
             ],
             [
              0.7777777777777778,
              "#fb9f3a"
             ],
             [
              0.8888888888888888,
              "#fdca26"
             ],
             [
              1,
              "#f0f921"
             ]
            ],
            "type": "histogram2dcontour"
           }
          ],
          "mesh3d": [
           {
            "colorbar": {
             "outlinewidth": 0,
             "ticks": ""
            },
            "type": "mesh3d"
           }
          ],
          "parcoords": [
           {
            "line": {
             "colorbar": {
              "outlinewidth": 0,
              "ticks": ""
             }
            },
            "type": "parcoords"
           }
          ],
          "pie": [
           {
            "automargin": true,
            "type": "pie"
           }
          ],
          "scatter": [
           {
            "marker": {
             "colorbar": {
              "outlinewidth": 0,
              "ticks": ""
             }
            },
            "type": "scatter"
           }
          ],
          "scatter3d": [
           {
            "line": {
             "colorbar": {
              "outlinewidth": 0,
              "ticks": ""
             }
            },
            "marker": {
             "colorbar": {
              "outlinewidth": 0,
              "ticks": ""
             }
            },
            "type": "scatter3d"
           }
          ],
          "scattercarpet": [
           {
            "marker": {
             "colorbar": {
              "outlinewidth": 0,
              "ticks": ""
             }
            },
            "type": "scattercarpet"
           }
          ],
          "scattergeo": [
           {
            "marker": {
             "colorbar": {
              "outlinewidth": 0,
              "ticks": ""
             }
            },
            "type": "scattergeo"
           }
          ],
          "scattergl": [
           {
            "marker": {
             "colorbar": {
              "outlinewidth": 0,
              "ticks": ""
             }
            },
            "type": "scattergl"
           }
          ],
          "scattermapbox": [
           {
            "marker": {
             "colorbar": {
              "outlinewidth": 0,
              "ticks": ""
             }
            },
            "type": "scattermapbox"
           }
          ],
          "scatterpolar": [
           {
            "marker": {
             "colorbar": {
              "outlinewidth": 0,
              "ticks": ""
             }
            },
            "type": "scatterpolar"
           }
          ],
          "scatterpolargl": [
           {
            "marker": {
             "colorbar": {
              "outlinewidth": 0,
              "ticks": ""
             }
            },
            "type": "scatterpolargl"
           }
          ],
          "scatterternary": [
           {
            "marker": {
             "colorbar": {
              "outlinewidth": 0,
              "ticks": ""
             }
            },
            "type": "scatterternary"
           }
          ],
          "surface": [
           {
            "colorbar": {
             "outlinewidth": 0,
             "ticks": ""
            },
            "colorscale": [
             [
              0,
              "#0d0887"
             ],
             [
              0.1111111111111111,
              "#46039f"
             ],
             [
              0.2222222222222222,
              "#7201a8"
             ],
             [
              0.3333333333333333,
              "#9c179e"
             ],
             [
              0.4444444444444444,
              "#bd3786"
             ],
             [
              0.5555555555555556,
              "#d8576b"
             ],
             [
              0.6666666666666666,
              "#ed7953"
             ],
             [
              0.7777777777777778,
              "#fb9f3a"
             ],
             [
              0.8888888888888888,
              "#fdca26"
             ],
             [
              1,
              "#f0f921"
             ]
            ],
            "type": "surface"
           }
          ],
          "table": [
           {
            "cells": {
             "fill": {
              "color": "#EBF0F8"
             },
             "line": {
              "color": "white"
             }
            },
            "header": {
             "fill": {
              "color": "#C8D4E3"
             },
             "line": {
              "color": "white"
             }
            },
            "type": "table"
           }
          ]
         },
         "layout": {
          "annotationdefaults": {
           "arrowcolor": "#2a3f5f",
           "arrowhead": 0,
           "arrowwidth": 1
          },
          "coloraxis": {
           "colorbar": {
            "outlinewidth": 0,
            "ticks": ""
           }
          },
          "colorscale": {
           "diverging": [
            [
             0,
             "#8e0152"
            ],
            [
             0.1,
             "#c51b7d"
            ],
            [
             0.2,
             "#de77ae"
            ],
            [
             0.3,
             "#f1b6da"
            ],
            [
             0.4,
             "#fde0ef"
            ],
            [
             0.5,
             "#f7f7f7"
            ],
            [
             0.6,
             "#e6f5d0"
            ],
            [
             0.7,
             "#b8e186"
            ],
            [
             0.8,
             "#7fbc41"
            ],
            [
             0.9,
             "#4d9221"
            ],
            [
             1,
             "#276419"
            ]
           ],
           "sequential": [
            [
             0,
             "#0d0887"
            ],
            [
             0.1111111111111111,
             "#46039f"
            ],
            [
             0.2222222222222222,
             "#7201a8"
            ],
            [
             0.3333333333333333,
             "#9c179e"
            ],
            [
             0.4444444444444444,
             "#bd3786"
            ],
            [
             0.5555555555555556,
             "#d8576b"
            ],
            [
             0.6666666666666666,
             "#ed7953"
            ],
            [
             0.7777777777777778,
             "#fb9f3a"
            ],
            [
             0.8888888888888888,
             "#fdca26"
            ],
            [
             1,
             "#f0f921"
            ]
           ],
           "sequentialminus": [
            [
             0,
             "#0d0887"
            ],
            [
             0.1111111111111111,
             "#46039f"
            ],
            [
             0.2222222222222222,
             "#7201a8"
            ],
            [
             0.3333333333333333,
             "#9c179e"
            ],
            [
             0.4444444444444444,
             "#bd3786"
            ],
            [
             0.5555555555555556,
             "#d8576b"
            ],
            [
             0.6666666666666666,
             "#ed7953"
            ],
            [
             0.7777777777777778,
             "#fb9f3a"
            ],
            [
             0.8888888888888888,
             "#fdca26"
            ],
            [
             1,
             "#f0f921"
            ]
           ]
          },
          "colorway": [
           "#636efa",
           "#EF553B",
           "#00cc96",
           "#ab63fa",
           "#FFA15A",
           "#19d3f3",
           "#FF6692",
           "#B6E880",
           "#FF97FF",
           "#FECB52"
          ],
          "font": {
           "color": "#2a3f5f"
          },
          "geo": {
           "bgcolor": "white",
           "lakecolor": "white",
           "landcolor": "#E5ECF6",
           "showlakes": true,
           "showland": true,
           "subunitcolor": "white"
          },
          "hoverlabel": {
           "align": "left"
          },
          "hovermode": "closest",
          "mapbox": {
           "style": "light"
          },
          "paper_bgcolor": "white",
          "plot_bgcolor": "#E5ECF6",
          "polar": {
           "angularaxis": {
            "gridcolor": "white",
            "linecolor": "white",
            "ticks": ""
           },
           "bgcolor": "#E5ECF6",
           "radialaxis": {
            "gridcolor": "white",
            "linecolor": "white",
            "ticks": ""
           }
          },
          "scene": {
           "xaxis": {
            "backgroundcolor": "#E5ECF6",
            "gridcolor": "white",
            "gridwidth": 2,
            "linecolor": "white",
            "showbackground": true,
            "ticks": "",
            "zerolinecolor": "white"
           },
           "yaxis": {
            "backgroundcolor": "#E5ECF6",
            "gridcolor": "white",
            "gridwidth": 2,
            "linecolor": "white",
            "showbackground": true,
            "ticks": "",
            "zerolinecolor": "white"
           },
           "zaxis": {
            "backgroundcolor": "#E5ECF6",
            "gridcolor": "white",
            "gridwidth": 2,
            "linecolor": "white",
            "showbackground": true,
            "ticks": "",
            "zerolinecolor": "white"
           }
          },
          "shapedefaults": {
           "line": {
            "color": "#2a3f5f"
           }
          },
          "ternary": {
           "aaxis": {
            "gridcolor": "white",
            "linecolor": "white",
            "ticks": ""
           },
           "baxis": {
            "gridcolor": "white",
            "linecolor": "white",
            "ticks": ""
           },
           "bgcolor": "#E5ECF6",
           "caxis": {
            "gridcolor": "white",
            "linecolor": "white",
            "ticks": ""
           }
          },
          "title": {
           "x": 0.05
          },
          "xaxis": {
           "automargin": true,
           "gridcolor": "white",
           "linecolor": "white",
           "ticks": "",
           "title": {
            "standoff": 15
           },
           "zerolinecolor": "white",
           "zerolinewidth": 2
          },
          "yaxis": {
           "automargin": true,
           "gridcolor": "white",
           "linecolor": "white",
           "ticks": "",
           "title": {
            "standoff": 15
           },
           "zerolinecolor": "white",
           "zerolinewidth": 2
          }
         }
        },
        "title": {
         "text": "Coherence Value and # of Topics"
        },
        "xaxis": {
         "anchor": "y",
         "domain": [
          0,
          1
         ],
         "title": {
          "text": "# Topics"
         }
        },
        "yaxis": {
         "anchor": "x",
         "domain": [
          0,
          1
         ],
         "title": {
          "text": "Score"
         }
        }
       }
      },
      "text/html": [
       "<div>\n",
       "        \n",
       "        \n",
       "            <div id=\"7de52d6d-10bd-4c3d-95a3-194edd314deb\" class=\"plotly-graph-div\" style=\"height:525px; width:100%;\"></div>\n",
       "            <script type=\"text/javascript\">\n",
       "                require([\"plotly\"], function(Plotly) {\n",
       "                    window.PLOTLYENV=window.PLOTLYENV || {};\n",
       "                    \n",
       "                if (document.getElementById(\"7de52d6d-10bd-4c3d-95a3-194edd314deb\")) {\n",
       "                    Plotly.newPlot(\n",
       "                        '7de52d6d-10bd-4c3d-95a3-194edd314deb',\n",
       "                        [{\"hovertemplate\": \"Metric=Coherence<br># Topics=%{x}<br>Score=%{y}<extra></extra>\", \"legendgroup\": \"Coherence\", \"line\": {\"color\": \"#636efa\", \"dash\": \"solid\", \"shape\": \"linear\"}, \"mode\": \"lines\", \"name\": \"Coherence\", \"orientation\": \"v\", \"showlegend\": true, \"type\": \"scatter\", \"x\": [2, 4, 8, 16, 32, 64, 100, 200, 300, 400], \"xaxis\": \"x\", \"y\": [0.32174585655715116, 0.36035677440944364, 0.3068257749487666, 0.30216745193687333, 0.38983725370700406, 0.5545389027128098, 0.6697643920585201, 0.8862022031253131, 0.9500526153210735, 0.9721457004080246], \"yaxis\": \"y\"}],\n",
       "                        {\"legend\": {\"title\": {\"text\": \"Metric\"}, \"tracegroupgap\": 0}, \"plot_bgcolor\": \"rgb(245,245,245)\", \"template\": {\"data\": {\"bar\": [{\"error_x\": {\"color\": \"#2a3f5f\"}, \"error_y\": {\"color\": \"#2a3f5f\"}, \"marker\": {\"line\": {\"color\": \"#E5ECF6\", \"width\": 0.5}}, \"type\": \"bar\"}], \"barpolar\": [{\"marker\": {\"line\": {\"color\": \"#E5ECF6\", \"width\": 0.5}}, \"type\": \"barpolar\"}], \"carpet\": [{\"aaxis\": {\"endlinecolor\": \"#2a3f5f\", \"gridcolor\": \"white\", \"linecolor\": \"white\", \"minorgridcolor\": \"white\", \"startlinecolor\": \"#2a3f5f\"}, \"baxis\": {\"endlinecolor\": \"#2a3f5f\", \"gridcolor\": \"white\", \"linecolor\": \"white\", \"minorgridcolor\": \"white\", \"startlinecolor\": \"#2a3f5f\"}, \"type\": \"carpet\"}], \"choropleth\": [{\"colorbar\": {\"outlinewidth\": 0, \"ticks\": \"\"}, \"type\": \"choropleth\"}], \"contour\": [{\"colorbar\": {\"outlinewidth\": 0, \"ticks\": \"\"}, \"colorscale\": [[0.0, \"#0d0887\"], [0.1111111111111111, \"#46039f\"], [0.2222222222222222, \"#7201a8\"], [0.3333333333333333, \"#9c179e\"], [0.4444444444444444, \"#bd3786\"], [0.5555555555555556, \"#d8576b\"], [0.6666666666666666, \"#ed7953\"], [0.7777777777777778, \"#fb9f3a\"], [0.8888888888888888, \"#fdca26\"], [1.0, \"#f0f921\"]], \"type\": \"contour\"}], \"contourcarpet\": [{\"colorbar\": {\"outlinewidth\": 0, \"ticks\": \"\"}, \"type\": \"contourcarpet\"}], \"heatmap\": [{\"colorbar\": {\"outlinewidth\": 0, \"ticks\": \"\"}, \"colorscale\": [[0.0, \"#0d0887\"], [0.1111111111111111, \"#46039f\"], [0.2222222222222222, \"#7201a8\"], [0.3333333333333333, \"#9c179e\"], [0.4444444444444444, \"#bd3786\"], [0.5555555555555556, \"#d8576b\"], [0.6666666666666666, \"#ed7953\"], [0.7777777777777778, \"#fb9f3a\"], [0.8888888888888888, \"#fdca26\"], [1.0, \"#f0f921\"]], \"type\": \"heatmap\"}], \"heatmapgl\": [{\"colorbar\": {\"outlinewidth\": 0, \"ticks\": \"\"}, \"colorscale\": [[0.0, \"#0d0887\"], [0.1111111111111111, \"#46039f\"], [0.2222222222222222, \"#7201a8\"], [0.3333333333333333, \"#9c179e\"], [0.4444444444444444, \"#bd3786\"], [0.5555555555555556, \"#d8576b\"], [0.6666666666666666, \"#ed7953\"], [0.7777777777777778, \"#fb9f3a\"], [0.8888888888888888, \"#fdca26\"], [1.0, \"#f0f921\"]], \"type\": \"heatmapgl\"}], \"histogram\": [{\"marker\": {\"colorbar\": {\"outlinewidth\": 0, \"ticks\": \"\"}}, \"type\": \"histogram\"}], \"histogram2d\": [{\"colorbar\": {\"outlinewidth\": 0, \"ticks\": \"\"}, \"colorscale\": [[0.0, \"#0d0887\"], [0.1111111111111111, \"#46039f\"], [0.2222222222222222, \"#7201a8\"], [0.3333333333333333, \"#9c179e\"], [0.4444444444444444, \"#bd3786\"], [0.5555555555555556, \"#d8576b\"], [0.6666666666666666, \"#ed7953\"], [0.7777777777777778, \"#fb9f3a\"], [0.8888888888888888, \"#fdca26\"], [1.0, \"#f0f921\"]], \"type\": \"histogram2d\"}], \"histogram2dcontour\": [{\"colorbar\": {\"outlinewidth\": 0, \"ticks\": \"\"}, \"colorscale\": [[0.0, \"#0d0887\"], [0.1111111111111111, \"#46039f\"], [0.2222222222222222, \"#7201a8\"], [0.3333333333333333, \"#9c179e\"], [0.4444444444444444, \"#bd3786\"], [0.5555555555555556, \"#d8576b\"], [0.6666666666666666, \"#ed7953\"], [0.7777777777777778, \"#fb9f3a\"], [0.8888888888888888, \"#fdca26\"], [1.0, \"#f0f921\"]], \"type\": \"histogram2dcontour\"}], \"mesh3d\": [{\"colorbar\": {\"outlinewidth\": 0, \"ticks\": \"\"}, \"type\": \"mesh3d\"}], \"parcoords\": [{\"line\": {\"colorbar\": {\"outlinewidth\": 0, \"ticks\": \"\"}}, \"type\": \"parcoords\"}], \"pie\": [{\"automargin\": true, \"type\": \"pie\"}], \"scatter\": [{\"marker\": {\"colorbar\": {\"outlinewidth\": 0, \"ticks\": \"\"}}, \"type\": \"scatter\"}], \"scatter3d\": [{\"line\": {\"colorbar\": {\"outlinewidth\": 0, \"ticks\": \"\"}}, \"marker\": {\"colorbar\": {\"outlinewidth\": 0, \"ticks\": \"\"}}, \"type\": \"scatter3d\"}], \"scattercarpet\": [{\"marker\": {\"colorbar\": {\"outlinewidth\": 0, \"ticks\": \"\"}}, \"type\": \"scattercarpet\"}], \"scattergeo\": [{\"marker\": {\"colorbar\": {\"outlinewidth\": 0, \"ticks\": \"\"}}, \"type\": \"scattergeo\"}], \"scattergl\": [{\"marker\": {\"colorbar\": {\"outlinewidth\": 0, \"ticks\": \"\"}}, \"type\": \"scattergl\"}], \"scattermapbox\": [{\"marker\": {\"colorbar\": {\"outlinewidth\": 0, \"ticks\": \"\"}}, \"type\": \"scattermapbox\"}], \"scatterpolar\": [{\"marker\": {\"colorbar\": {\"outlinewidth\": 0, \"ticks\": \"\"}}, \"type\": \"scatterpolar\"}], \"scatterpolargl\": [{\"marker\": {\"colorbar\": {\"outlinewidth\": 0, \"ticks\": \"\"}}, \"type\": \"scatterpolargl\"}], \"scatterternary\": [{\"marker\": {\"colorbar\": {\"outlinewidth\": 0, \"ticks\": \"\"}}, \"type\": \"scatterternary\"}], \"surface\": [{\"colorbar\": {\"outlinewidth\": 0, \"ticks\": \"\"}, \"colorscale\": [[0.0, \"#0d0887\"], [0.1111111111111111, \"#46039f\"], [0.2222222222222222, \"#7201a8\"], [0.3333333333333333, \"#9c179e\"], [0.4444444444444444, \"#bd3786\"], [0.5555555555555556, \"#d8576b\"], [0.6666666666666666, \"#ed7953\"], [0.7777777777777778, \"#fb9f3a\"], [0.8888888888888888, \"#fdca26\"], [1.0, \"#f0f921\"]], \"type\": \"surface\"}], \"table\": [{\"cells\": {\"fill\": {\"color\": \"#EBF0F8\"}, \"line\": {\"color\": \"white\"}}, \"header\": {\"fill\": {\"color\": \"#C8D4E3\"}, \"line\": {\"color\": \"white\"}}, \"type\": \"table\"}]}, \"layout\": {\"annotationdefaults\": {\"arrowcolor\": \"#2a3f5f\", \"arrowhead\": 0, \"arrowwidth\": 1}, \"coloraxis\": {\"colorbar\": {\"outlinewidth\": 0, \"ticks\": \"\"}}, \"colorscale\": {\"diverging\": [[0, \"#8e0152\"], [0.1, \"#c51b7d\"], [0.2, \"#de77ae\"], [0.3, \"#f1b6da\"], [0.4, \"#fde0ef\"], [0.5, \"#f7f7f7\"], [0.6, \"#e6f5d0\"], [0.7, \"#b8e186\"], [0.8, \"#7fbc41\"], [0.9, \"#4d9221\"], [1, \"#276419\"]], \"sequential\": [[0.0, \"#0d0887\"], [0.1111111111111111, \"#46039f\"], [0.2222222222222222, \"#7201a8\"], [0.3333333333333333, \"#9c179e\"], [0.4444444444444444, \"#bd3786\"], [0.5555555555555556, \"#d8576b\"], [0.6666666666666666, \"#ed7953\"], [0.7777777777777778, \"#fb9f3a\"], [0.8888888888888888, \"#fdca26\"], [1.0, \"#f0f921\"]], \"sequentialminus\": [[0.0, \"#0d0887\"], [0.1111111111111111, \"#46039f\"], [0.2222222222222222, \"#7201a8\"], [0.3333333333333333, \"#9c179e\"], [0.4444444444444444, \"#bd3786\"], [0.5555555555555556, \"#d8576b\"], [0.6666666666666666, \"#ed7953\"], [0.7777777777777778, \"#fb9f3a\"], [0.8888888888888888, \"#fdca26\"], [1.0, \"#f0f921\"]]}, \"colorway\": [\"#636efa\", \"#EF553B\", \"#00cc96\", \"#ab63fa\", \"#FFA15A\", \"#19d3f3\", \"#FF6692\", \"#B6E880\", \"#FF97FF\", \"#FECB52\"], \"font\": {\"color\": \"#2a3f5f\"}, \"geo\": {\"bgcolor\": \"white\", \"lakecolor\": \"white\", \"landcolor\": \"#E5ECF6\", \"showlakes\": true, \"showland\": true, \"subunitcolor\": \"white\"}, \"hoverlabel\": {\"align\": \"left\"}, \"hovermode\": \"closest\", \"mapbox\": {\"style\": \"light\"}, \"paper_bgcolor\": \"white\", \"plot_bgcolor\": \"#E5ECF6\", \"polar\": {\"angularaxis\": {\"gridcolor\": \"white\", \"linecolor\": \"white\", \"ticks\": \"\"}, \"bgcolor\": \"#E5ECF6\", \"radialaxis\": {\"gridcolor\": \"white\", \"linecolor\": \"white\", \"ticks\": \"\"}}, \"scene\": {\"xaxis\": {\"backgroundcolor\": \"#E5ECF6\", \"gridcolor\": \"white\", \"gridwidth\": 2, \"linecolor\": \"white\", \"showbackground\": true, \"ticks\": \"\", \"zerolinecolor\": \"white\"}, \"yaxis\": {\"backgroundcolor\": \"#E5ECF6\", \"gridcolor\": \"white\", \"gridwidth\": 2, \"linecolor\": \"white\", \"showbackground\": true, \"ticks\": \"\", \"zerolinecolor\": \"white\"}, \"zaxis\": {\"backgroundcolor\": \"#E5ECF6\", \"gridcolor\": \"white\", \"gridwidth\": 2, \"linecolor\": \"white\", \"showbackground\": true, \"ticks\": \"\", \"zerolinecolor\": \"white\"}}, \"shapedefaults\": {\"line\": {\"color\": \"#2a3f5f\"}}, \"ternary\": {\"aaxis\": {\"gridcolor\": \"white\", \"linecolor\": \"white\", \"ticks\": \"\"}, \"baxis\": {\"gridcolor\": \"white\", \"linecolor\": \"white\", \"ticks\": \"\"}, \"bgcolor\": \"#E5ECF6\", \"caxis\": {\"gridcolor\": \"white\", \"linecolor\": \"white\", \"ticks\": \"\"}}, \"title\": {\"x\": 0.05}, \"xaxis\": {\"automargin\": true, \"gridcolor\": \"white\", \"linecolor\": \"white\", \"ticks\": \"\", \"title\": {\"standoff\": 15}, \"zerolinecolor\": \"white\", \"zerolinewidth\": 2}, \"yaxis\": {\"automargin\": true, \"gridcolor\": \"white\", \"linecolor\": \"white\", \"ticks\": \"\", \"title\": {\"standoff\": 15}, \"zerolinecolor\": \"white\", \"zerolinewidth\": 2}}}, \"title\": {\"text\": \"Coherence Value and # of Topics\"}, \"xaxis\": {\"anchor\": \"y\", \"domain\": [0.0, 1.0], \"title\": {\"text\": \"# Topics\"}}, \"yaxis\": {\"anchor\": \"x\", \"domain\": [0.0, 1.0], \"title\": {\"text\": \"Score\"}}},\n",
       "                        {\"responsive\": true}\n",
       "                    ).then(function(){\n",
       "                            \n",
       "var gd = document.getElementById('7de52d6d-10bd-4c3d-95a3-194edd314deb');\n",
       "var x = new MutationObserver(function (mutations, observer) {{\n",
       "        var display = window.getComputedStyle(gd).display;\n",
       "        if (!display || display === 'none') {{\n",
       "            console.log([gd, 'removed!']);\n",
       "            Plotly.purge(gd);\n",
       "            observer.disconnect();\n",
       "        }}\n",
       "}});\n",
       "\n",
       "// Listen for the removal of the full notebook cells\n",
       "var notebookContainer = gd.closest('#notebook-container');\n",
       "if (notebookContainer) {{\n",
       "    x.observe(notebookContainer, {childList: true});\n",
       "}}\n",
       "\n",
       "// Listen for the clearing of the current output cell\n",
       "var outputEl = gd.closest('.output');\n",
       "if (outputEl) {{\n",
       "    x.observe(outputEl, {childList: true});\n",
       "}}\n",
       "\n",
       "                        })\n",
       "                };\n",
       "                });\n",
       "            </script>\n",
       "        </div>"
      ]
     },
     "metadata": {},
     "output_type": "display_data"
    },
    {
     "name": "stdout",
     "output_type": "stream",
     "text": [
      "Best Model: Latent Dirichlet Allocation | # Topics: 400 | Coherence: 0.9721\n"
     ]
    }
   ],
   "source": [
    "tune_lda_positive = tune_model(model='lda', supervised_target=None, estimator='xgboost')"
   ]
  },
  {
   "cell_type": "markdown",
   "metadata": {},
   "source": [
    "4 is selected"
   ]
  },
  {
   "cell_type": "code",
   "execution_count": null,
   "metadata": {},
   "outputs": [],
   "source": []
  },
  {
   "cell_type": "code",
   "execution_count": null,
   "metadata": {},
   "outputs": [],
   "source": []
  },
  {
   "cell_type": "code",
   "execution_count": null,
   "metadata": {},
   "outputs": [],
   "source": []
  },
  {
   "cell_type": "code",
   "execution_count": null,
   "metadata": {},
   "outputs": [],
   "source": []
  },
  {
   "cell_type": "markdown",
   "metadata": {},
   "source": [
    "# Negative reviews"
   ]
  },
  {
   "cell_type": "code",
   "execution_count": 18,
   "metadata": {},
   "outputs": [
    {
     "data": {
      "text/html": [
       "<div>\n",
       "<style scoped>\n",
       "    .dataframe tbody tr th:only-of-type {\n",
       "        vertical-align: middle;\n",
       "    }\n",
       "\n",
       "    .dataframe tbody tr th {\n",
       "        vertical-align: top;\n",
       "    }\n",
       "\n",
       "    .dataframe thead th {\n",
       "        text-align: right;\n",
       "    }\n",
       "</style>\n",
       "<table border=\"1\" class=\"dataframe\">\n",
       "  <thead>\n",
       "    <tr style=\"text-align: right;\">\n",
       "      <th></th>\n",
       "      <th>Unnamed: 0</th>\n",
       "      <th>r_points</th>\n",
       "      <th>r_text</th>\n",
       "      <th>place</th>\n",
       "      <th>scores</th>\n",
       "      <th>compound</th>\n",
       "      <th>score</th>\n",
       "    </tr>\n",
       "  </thead>\n",
       "  <tbody>\n",
       "    <tr>\n",
       "      <th>0</th>\n",
       "      <td>41</td>\n",
       "      <td>50</td>\n",
       "      <td>One of the three gates on medieval Venetian wa...</td>\n",
       "      <td>Famagusta Gate</td>\n",
       "      <td>{'neg': 0.079, 'neu': 0.921, 'pos': 0.0, 'comp...</td>\n",
       "      <td>-0.3400</td>\n",
       "      <td>neg</td>\n",
       "    </tr>\n",
       "    <tr>\n",
       "      <th>1</th>\n",
       "      <td>49</td>\n",
       "      <td>40</td>\n",
       "      <td>Not as impressive as expected as it was not ve...</td>\n",
       "      <td>Famagusta Gate</td>\n",
       "      <td>{'neg': 0.235, 'neu': 0.62, 'pos': 0.145, 'com...</td>\n",
       "      <td>-0.3583</td>\n",
       "      <td>neg</td>\n",
       "    </tr>\n",
       "    <tr>\n",
       "      <th>2</th>\n",
       "      <td>61</td>\n",
       "      <td>40</td>\n",
       "      <td>If you do a tour of the Old City of Nicosia, m...</td>\n",
       "      <td>Famagusta Gate</td>\n",
       "      <td>{'neg': 0.044, 'neu': 0.935, 'pos': 0.021, 'co...</td>\n",
       "      <td>-0.4404</td>\n",
       "      <td>neg</td>\n",
       "    </tr>\n",
       "    <tr>\n",
       "      <th>3</th>\n",
       "      <td>78</td>\n",
       "      <td>50</td>\n",
       "      <td>This old gate was a little bit tricky to find ...</td>\n",
       "      <td>Famagusta Gate</td>\n",
       "      <td>{'neg': 0.086, 'neu': 0.883, 'pos': 0.031, 'co...</td>\n",
       "      <td>-0.4062</td>\n",
       "      <td>neg</td>\n",
       "    </tr>\n",
       "    <tr>\n",
       "      <th>4</th>\n",
       "      <td>83</td>\n",
       "      <td>20</td>\n",
       "      <td>According to our guidebook it should have been...</td>\n",
       "      <td>Famagusta Gate</td>\n",
       "      <td>{'neg': 0.078, 'neu': 0.922, 'pos': 0.0, 'comp...</td>\n",
       "      <td>-0.4380</td>\n",
       "      <td>neg</td>\n",
       "    </tr>\n",
       "    <tr>\n",
       "      <th>5</th>\n",
       "      <td>93</td>\n",
       "      <td>30</td>\n",
       "      <td>Not sure what the use of this building is at t...</td>\n",
       "      <td>Famagusta Gate</td>\n",
       "      <td>{'neg': 0.121, 'neu': 0.833, 'pos': 0.046, 'co...</td>\n",
       "      <td>-0.4027</td>\n",
       "      <td>neg</td>\n",
       "    </tr>\n",
       "    <tr>\n",
       "      <th>6</th>\n",
       "      <td>114</td>\n",
       "      <td>30</td>\n",
       "      <td>not overwhelming! Interesting to see Sultan th...</td>\n",
       "      <td>Famagusta Gate</td>\n",
       "      <td>{'neg': 0.159, 'neu': 0.704, 'pos': 0.137, 'co...</td>\n",
       "      <td>-0.5312</td>\n",
       "      <td>neg</td>\n",
       "    </tr>\n",
       "    <tr>\n",
       "      <th>7</th>\n",
       "      <td>125</td>\n",
       "      <td>50</td>\n",
       "      <td>Imposing structure, full of history and tales ...</td>\n",
       "      <td>Famagusta Gate</td>\n",
       "      <td>{'neg': 0.096, 'neu': 0.904, 'pos': 0.0, 'comp...</td>\n",
       "      <td>-0.8578</td>\n",
       "      <td>neg</td>\n",
       "    </tr>\n",
       "    <tr>\n",
       "      <th>8</th>\n",
       "      <td>142</td>\n",
       "      <td>10</td>\n",
       "      <td>I was expecting a bubbly veggie moussaka, crac...</td>\n",
       "      <td>Ingas Veggie Heaven</td>\n",
       "      <td>{'neg': 0.146, 'neu': 0.836, 'pos': 0.018, 'co...</td>\n",
       "      <td>-0.9136</td>\n",
       "      <td>neg</td>\n",
       "    </tr>\n",
       "    <tr>\n",
       "      <th>9</th>\n",
       "      <td>169</td>\n",
       "      <td>10</td>\n",
       "      <td>Very nice place, but food OK - and a big but b...</td>\n",
       "      <td>Ingas Veggie Heaven</td>\n",
       "      <td>{'neg': 0.25, 'neu': 0.574, 'pos': 0.176, 'com...</td>\n",
       "      <td>-0.5574</td>\n",
       "      <td>neg</td>\n",
       "    </tr>\n",
       "    <tr>\n",
       "      <th>10</th>\n",
       "      <td>178</td>\n",
       "      <td>10</td>\n",
       "      <td>Having read a good review in a newspaper, I de...</td>\n",
       "      <td>Ingas Veggie Heaven</td>\n",
       "      <td>{'neg': 0.099, 'neu': 0.854, 'pos': 0.046, 'co...</td>\n",
       "      <td>-0.9317</td>\n",
       "      <td>neg</td>\n",
       "    </tr>\n",
       "    <tr>\n",
       "      <th>11</th>\n",
       "      <td>182</td>\n",
       "      <td>50</td>\n",
       "      <td>Cannot fault the food, and a friendly cafe in ...</td>\n",
       "      <td>Ingas Veggie Heaven</td>\n",
       "      <td>{'neg': 0.08, 'neu': 0.836, 'pos': 0.084, 'com...</td>\n",
       "      <td>-0.2074</td>\n",
       "      <td>neg</td>\n",
       "    </tr>\n",
       "  </tbody>\n",
       "</table>\n",
       "</div>"
      ],
      "text/plain": [
       "    Unnamed: 0  r_points                                             r_text  \\\n",
       "0           41        50  One of the three gates on medieval Venetian wa...   \n",
       "1           49        40  Not as impressive as expected as it was not ve...   \n",
       "2           61        40  If you do a tour of the Old City of Nicosia, m...   \n",
       "3           78        50  This old gate was a little bit tricky to find ...   \n",
       "4           83        20  According to our guidebook it should have been...   \n",
       "5           93        30  Not sure what the use of this building is at t...   \n",
       "6          114        30  not overwhelming! Interesting to see Sultan th...   \n",
       "7          125        50  Imposing structure, full of history and tales ...   \n",
       "8          142        10  I was expecting a bubbly veggie moussaka, crac...   \n",
       "9          169        10  Very nice place, but food OK - and a big but b...   \n",
       "10         178        10  Having read a good review in a newspaper, I de...   \n",
       "11         182        50  Cannot fault the food, and a friendly cafe in ...   \n",
       "\n",
       "                  place                                             scores  \\\n",
       "0        Famagusta Gate  {'neg': 0.079, 'neu': 0.921, 'pos': 0.0, 'comp...   \n",
       "1        Famagusta Gate  {'neg': 0.235, 'neu': 0.62, 'pos': 0.145, 'com...   \n",
       "2        Famagusta Gate  {'neg': 0.044, 'neu': 0.935, 'pos': 0.021, 'co...   \n",
       "3        Famagusta Gate  {'neg': 0.086, 'neu': 0.883, 'pos': 0.031, 'co...   \n",
       "4        Famagusta Gate  {'neg': 0.078, 'neu': 0.922, 'pos': 0.0, 'comp...   \n",
       "5        Famagusta Gate  {'neg': 0.121, 'neu': 0.833, 'pos': 0.046, 'co...   \n",
       "6        Famagusta Gate  {'neg': 0.159, 'neu': 0.704, 'pos': 0.137, 'co...   \n",
       "7        Famagusta Gate  {'neg': 0.096, 'neu': 0.904, 'pos': 0.0, 'comp...   \n",
       "8   Ingas Veggie Heaven  {'neg': 0.146, 'neu': 0.836, 'pos': 0.018, 'co...   \n",
       "9   Ingas Veggie Heaven  {'neg': 0.25, 'neu': 0.574, 'pos': 0.176, 'com...   \n",
       "10  Ingas Veggie Heaven  {'neg': 0.099, 'neu': 0.854, 'pos': 0.046, 'co...   \n",
       "11  Ingas Veggie Heaven  {'neg': 0.08, 'neu': 0.836, 'pos': 0.084, 'com...   \n",
       "\n",
       "    compound score  \n",
       "0    -0.3400   neg  \n",
       "1    -0.3583   neg  \n",
       "2    -0.4404   neg  \n",
       "3    -0.4062   neg  \n",
       "4    -0.4380   neg  \n",
       "5    -0.4027   neg  \n",
       "6    -0.5312   neg  \n",
       "7    -0.8578   neg  \n",
       "8    -0.9136   neg  \n",
       "9    -0.5574   neg  \n",
       "10   -0.9317   neg  \n",
       "11   -0.2074   neg  "
      ]
     },
     "execution_count": 18,
     "metadata": {},
     "output_type": "execute_result"
    }
   ],
   "source": [
    "neg_review = pd.read_csv(r'C:\\Users\\Dell\\Desktop\\sentiment_cluster8_neg.csv')\n",
    "neg_review"
   ]
  },
  {
   "cell_type": "code",
   "execution_count": 19,
   "metadata": {},
   "outputs": [
    {
     "data": {
      "text/html": [
       "<style  type=\"text/css\" >\n",
       "</style><table id=\"T_b7ea7fa8_282e_11eb_90ff_c48e8ff9d2e0\" ><thead>    <tr>        <th class=\"col_heading level0 col0\" >Description</th>        <th class=\"col_heading level0 col1\" >Value</th>    </tr></thead><tbody>\n",
       "                <tr>\n",
       "                                <td id=\"T_b7ea7fa8_282e_11eb_90ff_c48e8ff9d2e0row0_col0\" class=\"data row0 col0\" >session_id</td>\n",
       "                        <td id=\"T_b7ea7fa8_282e_11eb_90ff_c48e8ff9d2e0row0_col1\" class=\"data row0 col1\" >7675</td>\n",
       "            </tr>\n",
       "            <tr>\n",
       "                                <td id=\"T_b7ea7fa8_282e_11eb_90ff_c48e8ff9d2e0row1_col0\" class=\"data row1 col0\" >Documents</td>\n",
       "                        <td id=\"T_b7ea7fa8_282e_11eb_90ff_c48e8ff9d2e0row1_col1\" class=\"data row1 col1\" >12</td>\n",
       "            </tr>\n",
       "            <tr>\n",
       "                                <td id=\"T_b7ea7fa8_282e_11eb_90ff_c48e8ff9d2e0row2_col0\" class=\"data row2 col0\" >Vocab Size</td>\n",
       "                        <td id=\"T_b7ea7fa8_282e_11eb_90ff_c48e8ff9d2e0row2_col1\" class=\"data row2 col1\" >274</td>\n",
       "            </tr>\n",
       "            <tr>\n",
       "                                <td id=\"T_b7ea7fa8_282e_11eb_90ff_c48e8ff9d2e0row3_col0\" class=\"data row3 col0\" >Custom Stopwords</td>\n",
       "                        <td id=\"T_b7ea7fa8_282e_11eb_90ff_c48e8ff9d2e0row3_col1\" class=\"data row3 col1\" >True</td>\n",
       "            </tr>\n",
       "    </tbody></table>"
      ],
      "text/plain": [
       "<pandas.io.formats.style.Styler at 0x237c56159c8>"
      ]
     },
     "metadata": {},
     "output_type": "display_data"
    }
   ],
   "source": [
    "exp_nlp_neg = setup(data = neg_review, target = 'r_text',\n",
    "                custom_stopwords = ['well','room', 'nice', 'good', 'restaurant', 'food'])"
   ]
  },
  {
   "cell_type": "code",
   "execution_count": 20,
   "metadata": {},
   "outputs": [
    {
     "name": "stdout",
     "output_type": "stream",
     "text": [
      "LdaModel(num_terms=274, num_topics=4, decay=0.5, chunksize=100)\n"
     ]
    }
   ],
   "source": [
    "#create an LDA model\n",
    "lda_neg_custom = create_model('lda')\n",
    "print(lda_neg_custom)"
   ]
  },
  {
   "cell_type": "code",
   "execution_count": 21,
   "metadata": {},
   "outputs": [],
   "source": [
    "apply_lda_neg = assign_model(lda_neg_custom)"
   ]
  },
  {
   "cell_type": "code",
   "execution_count": 22,
   "metadata": {},
   "outputs": [
    {
     "data": {
      "application/vnd.jupyter.widget-view+json": {
       "model_id": "b7869e5696184e798f141029f9143b96",
       "version_major": 2,
       "version_minor": 0
      },
      "text/plain": [
       "interactive(children=(ToggleButtons(description='Plot Type:', icons=('',), options=(('Frequency Plot', 'freque…"
      ]
     },
     "metadata": {},
     "output_type": "display_data"
    }
   ],
   "source": [
    "evaluate_model(lda_neg_custom)"
   ]
  },
  {
   "cell_type": "code",
   "execution_count": 23,
   "metadata": {},
   "outputs": [
    {
     "data": {
      "application/vnd.jupyter.widget-view+json": {
       "model_id": "",
       "version_major": 2,
       "version_minor": 0
      },
      "text/plain": [
       "IntProgress(value=0, description='Processing: ', max=25)"
      ]
     },
     "metadata": {},
     "output_type": "display_data"
    },
    {
     "data": {
      "application/vnd.jupyter.widget-view+json": {
       "model_id": "b47cb7511ca64ad4a1b8cbe6710bfcf4",
       "version_major": 2,
       "version_minor": 0
      },
      "text/plain": [
       "Output()"
      ]
     },
     "metadata": {},
     "output_type": "display_data"
    },
    {
     "data": {
      "text/html": [
       "        <script type=\"text/javascript\">\n",
       "        window.PlotlyConfig = {MathJaxConfig: 'local'};\n",
       "        if (window.MathJax) {MathJax.Hub.Config({SVG: {font: \"STIX-Web\"}});}\n",
       "        if (typeof require !== 'undefined') {\n",
       "        require.undef(\"plotly\");\n",
       "        requirejs.config({\n",
       "            paths: {\n",
       "                'plotly': ['https://cdn.plot.ly/plotly-latest.min']\n",
       "            }\n",
       "        });\n",
       "        require(['plotly'], function(Plotly) {\n",
       "            window._Plotly = Plotly;\n",
       "        });\n",
       "        }\n",
       "        </script>\n",
       "        "
      ]
     },
     "metadata": {},
     "output_type": "display_data"
    },
    {
     "data": {
      "application/vnd.plotly.v1+json": {
       "config": {
        "plotlyServerURL": "https://plot.ly"
       },
       "data": [
        {
         "hovertemplate": "Metric=Coherence<br># Topics=%{x}<br>Score=%{y}<extra></extra>",
         "legendgroup": "Coherence",
         "line": {
          "color": "#636efa",
          "dash": "solid",
          "shape": "linear"
         },
         "mode": "lines",
         "name": "Coherence",
         "orientation": "v",
         "showlegend": true,
         "type": "scatter",
         "x": [
          2,
          4,
          8,
          16,
          32,
          64,
          100,
          200,
          300,
          400
         ],
         "xaxis": "x",
         "y": [
          0.5224186414369663,
          0.35855918645222806,
          0.5818155731008829,
          0.7436838904389569,
          0.7589777884393509,
          0.7381253888541923,
          0.7166926286800256,
          0.7246124665780508,
          0.7237562409560465,
          0.7233313331738447
         ],
         "yaxis": "y"
        }
       ],
       "layout": {
        "legend": {
         "title": {
          "text": "Metric"
         },
         "tracegroupgap": 0
        },
        "plot_bgcolor": "rgb(245,245,245)",
        "template": {
         "data": {
          "bar": [
           {
            "error_x": {
             "color": "#2a3f5f"
            },
            "error_y": {
             "color": "#2a3f5f"
            },
            "marker": {
             "line": {
              "color": "#E5ECF6",
              "width": 0.5
             }
            },
            "type": "bar"
           }
          ],
          "barpolar": [
           {
            "marker": {
             "line": {
              "color": "#E5ECF6",
              "width": 0.5
             }
            },
            "type": "barpolar"
           }
          ],
          "carpet": [
           {
            "aaxis": {
             "endlinecolor": "#2a3f5f",
             "gridcolor": "white",
             "linecolor": "white",
             "minorgridcolor": "white",
             "startlinecolor": "#2a3f5f"
            },
            "baxis": {
             "endlinecolor": "#2a3f5f",
             "gridcolor": "white",
             "linecolor": "white",
             "minorgridcolor": "white",
             "startlinecolor": "#2a3f5f"
            },
            "type": "carpet"
           }
          ],
          "choropleth": [
           {
            "colorbar": {
             "outlinewidth": 0,
             "ticks": ""
            },
            "type": "choropleth"
           }
          ],
          "contour": [
           {
            "colorbar": {
             "outlinewidth": 0,
             "ticks": ""
            },
            "colorscale": [
             [
              0,
              "#0d0887"
             ],
             [
              0.1111111111111111,
              "#46039f"
             ],
             [
              0.2222222222222222,
              "#7201a8"
             ],
             [
              0.3333333333333333,
              "#9c179e"
             ],
             [
              0.4444444444444444,
              "#bd3786"
             ],
             [
              0.5555555555555556,
              "#d8576b"
             ],
             [
              0.6666666666666666,
              "#ed7953"
             ],
             [
              0.7777777777777778,
              "#fb9f3a"
             ],
             [
              0.8888888888888888,
              "#fdca26"
             ],
             [
              1,
              "#f0f921"
             ]
            ],
            "type": "contour"
           }
          ],
          "contourcarpet": [
           {
            "colorbar": {
             "outlinewidth": 0,
             "ticks": ""
            },
            "type": "contourcarpet"
           }
          ],
          "heatmap": [
           {
            "colorbar": {
             "outlinewidth": 0,
             "ticks": ""
            },
            "colorscale": [
             [
              0,
              "#0d0887"
             ],
             [
              0.1111111111111111,
              "#46039f"
             ],
             [
              0.2222222222222222,
              "#7201a8"
             ],
             [
              0.3333333333333333,
              "#9c179e"
             ],
             [
              0.4444444444444444,
              "#bd3786"
             ],
             [
              0.5555555555555556,
              "#d8576b"
             ],
             [
              0.6666666666666666,
              "#ed7953"
             ],
             [
              0.7777777777777778,
              "#fb9f3a"
             ],
             [
              0.8888888888888888,
              "#fdca26"
             ],
             [
              1,
              "#f0f921"
             ]
            ],
            "type": "heatmap"
           }
          ],
          "heatmapgl": [
           {
            "colorbar": {
             "outlinewidth": 0,
             "ticks": ""
            },
            "colorscale": [
             [
              0,
              "#0d0887"
             ],
             [
              0.1111111111111111,
              "#46039f"
             ],
             [
              0.2222222222222222,
              "#7201a8"
             ],
             [
              0.3333333333333333,
              "#9c179e"
             ],
             [
              0.4444444444444444,
              "#bd3786"
             ],
             [
              0.5555555555555556,
              "#d8576b"
             ],
             [
              0.6666666666666666,
              "#ed7953"
             ],
             [
              0.7777777777777778,
              "#fb9f3a"
             ],
             [
              0.8888888888888888,
              "#fdca26"
             ],
             [
              1,
              "#f0f921"
             ]
            ],
            "type": "heatmapgl"
           }
          ],
          "histogram": [
           {
            "marker": {
             "colorbar": {
              "outlinewidth": 0,
              "ticks": ""
             }
            },
            "type": "histogram"
           }
          ],
          "histogram2d": [
           {
            "colorbar": {
             "outlinewidth": 0,
             "ticks": ""
            },
            "colorscale": [
             [
              0,
              "#0d0887"
             ],
             [
              0.1111111111111111,
              "#46039f"
             ],
             [
              0.2222222222222222,
              "#7201a8"
             ],
             [
              0.3333333333333333,
              "#9c179e"
             ],
             [
              0.4444444444444444,
              "#bd3786"
             ],
             [
              0.5555555555555556,
              "#d8576b"
             ],
             [
              0.6666666666666666,
              "#ed7953"
             ],
             [
              0.7777777777777778,
              "#fb9f3a"
             ],
             [
              0.8888888888888888,
              "#fdca26"
             ],
             [
              1,
              "#f0f921"
             ]
            ],
            "type": "histogram2d"
           }
          ],
          "histogram2dcontour": [
           {
            "colorbar": {
             "outlinewidth": 0,
             "ticks": ""
            },
            "colorscale": [
             [
              0,
              "#0d0887"
             ],
             [
              0.1111111111111111,
              "#46039f"
             ],
             [
              0.2222222222222222,
              "#7201a8"
             ],
             [
              0.3333333333333333,
              "#9c179e"
             ],
             [
              0.4444444444444444,
              "#bd3786"
             ],
             [
              0.5555555555555556,
              "#d8576b"
             ],
             [
              0.6666666666666666,
              "#ed7953"
             ],
             [
              0.7777777777777778,
              "#fb9f3a"
             ],
             [
              0.8888888888888888,
              "#fdca26"
             ],
             [
              1,
              "#f0f921"
             ]
            ],
            "type": "histogram2dcontour"
           }
          ],
          "mesh3d": [
           {
            "colorbar": {
             "outlinewidth": 0,
             "ticks": ""
            },
            "type": "mesh3d"
           }
          ],
          "parcoords": [
           {
            "line": {
             "colorbar": {
              "outlinewidth": 0,
              "ticks": ""
             }
            },
            "type": "parcoords"
           }
          ],
          "pie": [
           {
            "automargin": true,
            "type": "pie"
           }
          ],
          "scatter": [
           {
            "marker": {
             "colorbar": {
              "outlinewidth": 0,
              "ticks": ""
             }
            },
            "type": "scatter"
           }
          ],
          "scatter3d": [
           {
            "line": {
             "colorbar": {
              "outlinewidth": 0,
              "ticks": ""
             }
            },
            "marker": {
             "colorbar": {
              "outlinewidth": 0,
              "ticks": ""
             }
            },
            "type": "scatter3d"
           }
          ],
          "scattercarpet": [
           {
            "marker": {
             "colorbar": {
              "outlinewidth": 0,
              "ticks": ""
             }
            },
            "type": "scattercarpet"
           }
          ],
          "scattergeo": [
           {
            "marker": {
             "colorbar": {
              "outlinewidth": 0,
              "ticks": ""
             }
            },
            "type": "scattergeo"
           }
          ],
          "scattergl": [
           {
            "marker": {
             "colorbar": {
              "outlinewidth": 0,
              "ticks": ""
             }
            },
            "type": "scattergl"
           }
          ],
          "scattermapbox": [
           {
            "marker": {
             "colorbar": {
              "outlinewidth": 0,
              "ticks": ""
             }
            },
            "type": "scattermapbox"
           }
          ],
          "scatterpolar": [
           {
            "marker": {
             "colorbar": {
              "outlinewidth": 0,
              "ticks": ""
             }
            },
            "type": "scatterpolar"
           }
          ],
          "scatterpolargl": [
           {
            "marker": {
             "colorbar": {
              "outlinewidth": 0,
              "ticks": ""
             }
            },
            "type": "scatterpolargl"
           }
          ],
          "scatterternary": [
           {
            "marker": {
             "colorbar": {
              "outlinewidth": 0,
              "ticks": ""
             }
            },
            "type": "scatterternary"
           }
          ],
          "surface": [
           {
            "colorbar": {
             "outlinewidth": 0,
             "ticks": ""
            },
            "colorscale": [
             [
              0,
              "#0d0887"
             ],
             [
              0.1111111111111111,
              "#46039f"
             ],
             [
              0.2222222222222222,
              "#7201a8"
             ],
             [
              0.3333333333333333,
              "#9c179e"
             ],
             [
              0.4444444444444444,
              "#bd3786"
             ],
             [
              0.5555555555555556,
              "#d8576b"
             ],
             [
              0.6666666666666666,
              "#ed7953"
             ],
             [
              0.7777777777777778,
              "#fb9f3a"
             ],
             [
              0.8888888888888888,
              "#fdca26"
             ],
             [
              1,
              "#f0f921"
             ]
            ],
            "type": "surface"
           }
          ],
          "table": [
           {
            "cells": {
             "fill": {
              "color": "#EBF0F8"
             },
             "line": {
              "color": "white"
             }
            },
            "header": {
             "fill": {
              "color": "#C8D4E3"
             },
             "line": {
              "color": "white"
             }
            },
            "type": "table"
           }
          ]
         },
         "layout": {
          "annotationdefaults": {
           "arrowcolor": "#2a3f5f",
           "arrowhead": 0,
           "arrowwidth": 1
          },
          "coloraxis": {
           "colorbar": {
            "outlinewidth": 0,
            "ticks": ""
           }
          },
          "colorscale": {
           "diverging": [
            [
             0,
             "#8e0152"
            ],
            [
             0.1,
             "#c51b7d"
            ],
            [
             0.2,
             "#de77ae"
            ],
            [
             0.3,
             "#f1b6da"
            ],
            [
             0.4,
             "#fde0ef"
            ],
            [
             0.5,
             "#f7f7f7"
            ],
            [
             0.6,
             "#e6f5d0"
            ],
            [
             0.7,
             "#b8e186"
            ],
            [
             0.8,
             "#7fbc41"
            ],
            [
             0.9,
             "#4d9221"
            ],
            [
             1,
             "#276419"
            ]
           ],
           "sequential": [
            [
             0,
             "#0d0887"
            ],
            [
             0.1111111111111111,
             "#46039f"
            ],
            [
             0.2222222222222222,
             "#7201a8"
            ],
            [
             0.3333333333333333,
             "#9c179e"
            ],
            [
             0.4444444444444444,
             "#bd3786"
            ],
            [
             0.5555555555555556,
             "#d8576b"
            ],
            [
             0.6666666666666666,
             "#ed7953"
            ],
            [
             0.7777777777777778,
             "#fb9f3a"
            ],
            [
             0.8888888888888888,
             "#fdca26"
            ],
            [
             1,
             "#f0f921"
            ]
           ],
           "sequentialminus": [
            [
             0,
             "#0d0887"
            ],
            [
             0.1111111111111111,
             "#46039f"
            ],
            [
             0.2222222222222222,
             "#7201a8"
            ],
            [
             0.3333333333333333,
             "#9c179e"
            ],
            [
             0.4444444444444444,
             "#bd3786"
            ],
            [
             0.5555555555555556,
             "#d8576b"
            ],
            [
             0.6666666666666666,
             "#ed7953"
            ],
            [
             0.7777777777777778,
             "#fb9f3a"
            ],
            [
             0.8888888888888888,
             "#fdca26"
            ],
            [
             1,
             "#f0f921"
            ]
           ]
          },
          "colorway": [
           "#636efa",
           "#EF553B",
           "#00cc96",
           "#ab63fa",
           "#FFA15A",
           "#19d3f3",
           "#FF6692",
           "#B6E880",
           "#FF97FF",
           "#FECB52"
          ],
          "font": {
           "color": "#2a3f5f"
          },
          "geo": {
           "bgcolor": "white",
           "lakecolor": "white",
           "landcolor": "#E5ECF6",
           "showlakes": true,
           "showland": true,
           "subunitcolor": "white"
          },
          "hoverlabel": {
           "align": "left"
          },
          "hovermode": "closest",
          "mapbox": {
           "style": "light"
          },
          "paper_bgcolor": "white",
          "plot_bgcolor": "#E5ECF6",
          "polar": {
           "angularaxis": {
            "gridcolor": "white",
            "linecolor": "white",
            "ticks": ""
           },
           "bgcolor": "#E5ECF6",
           "radialaxis": {
            "gridcolor": "white",
            "linecolor": "white",
            "ticks": ""
           }
          },
          "scene": {
           "xaxis": {
            "backgroundcolor": "#E5ECF6",
            "gridcolor": "white",
            "gridwidth": 2,
            "linecolor": "white",
            "showbackground": true,
            "ticks": "",
            "zerolinecolor": "white"
           },
           "yaxis": {
            "backgroundcolor": "#E5ECF6",
            "gridcolor": "white",
            "gridwidth": 2,
            "linecolor": "white",
            "showbackground": true,
            "ticks": "",
            "zerolinecolor": "white"
           },
           "zaxis": {
            "backgroundcolor": "#E5ECF6",
            "gridcolor": "white",
            "gridwidth": 2,
            "linecolor": "white",
            "showbackground": true,
            "ticks": "",
            "zerolinecolor": "white"
           }
          },
          "shapedefaults": {
           "line": {
            "color": "#2a3f5f"
           }
          },
          "ternary": {
           "aaxis": {
            "gridcolor": "white",
            "linecolor": "white",
            "ticks": ""
           },
           "baxis": {
            "gridcolor": "white",
            "linecolor": "white",
            "ticks": ""
           },
           "bgcolor": "#E5ECF6",
           "caxis": {
            "gridcolor": "white",
            "linecolor": "white",
            "ticks": ""
           }
          },
          "title": {
           "x": 0.05
          },
          "xaxis": {
           "automargin": true,
           "gridcolor": "white",
           "linecolor": "white",
           "ticks": "",
           "title": {
            "standoff": 15
           },
           "zerolinecolor": "white",
           "zerolinewidth": 2
          },
          "yaxis": {
           "automargin": true,
           "gridcolor": "white",
           "linecolor": "white",
           "ticks": "",
           "title": {
            "standoff": 15
           },
           "zerolinecolor": "white",
           "zerolinewidth": 2
          }
         }
        },
        "title": {
         "text": "Coherence Value and # of Topics"
        },
        "xaxis": {
         "anchor": "y",
         "domain": [
          0,
          1
         ],
         "title": {
          "text": "# Topics"
         }
        },
        "yaxis": {
         "anchor": "x",
         "domain": [
          0,
          1
         ],
         "title": {
          "text": "Score"
         }
        }
       }
      },
      "text/html": [
       "<div>\n",
       "        \n",
       "        \n",
       "            <div id=\"f5254383-acf1-4b66-9940-404e798557b8\" class=\"plotly-graph-div\" style=\"height:525px; width:100%;\"></div>\n",
       "            <script type=\"text/javascript\">\n",
       "                require([\"plotly\"], function(Plotly) {\n",
       "                    window.PLOTLYENV=window.PLOTLYENV || {};\n",
       "                    \n",
       "                if (document.getElementById(\"f5254383-acf1-4b66-9940-404e798557b8\")) {\n",
       "                    Plotly.newPlot(\n",
       "                        'f5254383-acf1-4b66-9940-404e798557b8',\n",
       "                        [{\"hovertemplate\": \"Metric=Coherence<br># Topics=%{x}<br>Score=%{y}<extra></extra>\", \"legendgroup\": \"Coherence\", \"line\": {\"color\": \"#636efa\", \"dash\": \"solid\", \"shape\": \"linear\"}, \"mode\": \"lines\", \"name\": \"Coherence\", \"orientation\": \"v\", \"showlegend\": true, \"type\": \"scatter\", \"x\": [2, 4, 8, 16, 32, 64, 100, 200, 300, 400], \"xaxis\": \"x\", \"y\": [0.5224186414369663, 0.35855918645222806, 0.5818155731008829, 0.7436838904389569, 0.7589777884393509, 0.7381253888541923, 0.7166926286800256, 0.7246124665780508, 0.7237562409560465, 0.7233313331738447], \"yaxis\": \"y\"}],\n",
       "                        {\"legend\": {\"title\": {\"text\": \"Metric\"}, \"tracegroupgap\": 0}, \"plot_bgcolor\": \"rgb(245,245,245)\", \"template\": {\"data\": {\"bar\": [{\"error_x\": {\"color\": \"#2a3f5f\"}, \"error_y\": {\"color\": \"#2a3f5f\"}, \"marker\": {\"line\": {\"color\": \"#E5ECF6\", \"width\": 0.5}}, \"type\": \"bar\"}], \"barpolar\": [{\"marker\": {\"line\": {\"color\": \"#E5ECF6\", \"width\": 0.5}}, \"type\": \"barpolar\"}], \"carpet\": [{\"aaxis\": {\"endlinecolor\": \"#2a3f5f\", \"gridcolor\": \"white\", \"linecolor\": \"white\", \"minorgridcolor\": \"white\", \"startlinecolor\": \"#2a3f5f\"}, \"baxis\": {\"endlinecolor\": \"#2a3f5f\", \"gridcolor\": \"white\", \"linecolor\": \"white\", \"minorgridcolor\": \"white\", \"startlinecolor\": \"#2a3f5f\"}, \"type\": \"carpet\"}], \"choropleth\": [{\"colorbar\": {\"outlinewidth\": 0, \"ticks\": \"\"}, \"type\": \"choropleth\"}], \"contour\": [{\"colorbar\": {\"outlinewidth\": 0, \"ticks\": \"\"}, \"colorscale\": [[0.0, \"#0d0887\"], [0.1111111111111111, \"#46039f\"], [0.2222222222222222, \"#7201a8\"], [0.3333333333333333, \"#9c179e\"], [0.4444444444444444, \"#bd3786\"], [0.5555555555555556, \"#d8576b\"], [0.6666666666666666, \"#ed7953\"], [0.7777777777777778, \"#fb9f3a\"], [0.8888888888888888, \"#fdca26\"], [1.0, \"#f0f921\"]], \"type\": \"contour\"}], \"contourcarpet\": [{\"colorbar\": {\"outlinewidth\": 0, \"ticks\": \"\"}, \"type\": \"contourcarpet\"}], \"heatmap\": [{\"colorbar\": {\"outlinewidth\": 0, \"ticks\": \"\"}, \"colorscale\": [[0.0, \"#0d0887\"], [0.1111111111111111, \"#46039f\"], [0.2222222222222222, \"#7201a8\"], [0.3333333333333333, \"#9c179e\"], [0.4444444444444444, \"#bd3786\"], [0.5555555555555556, \"#d8576b\"], [0.6666666666666666, \"#ed7953\"], [0.7777777777777778, \"#fb9f3a\"], [0.8888888888888888, \"#fdca26\"], [1.0, \"#f0f921\"]], \"type\": \"heatmap\"}], \"heatmapgl\": [{\"colorbar\": {\"outlinewidth\": 0, \"ticks\": \"\"}, \"colorscale\": [[0.0, \"#0d0887\"], [0.1111111111111111, \"#46039f\"], [0.2222222222222222, \"#7201a8\"], [0.3333333333333333, \"#9c179e\"], [0.4444444444444444, \"#bd3786\"], [0.5555555555555556, \"#d8576b\"], [0.6666666666666666, \"#ed7953\"], [0.7777777777777778, \"#fb9f3a\"], [0.8888888888888888, \"#fdca26\"], [1.0, \"#f0f921\"]], \"type\": \"heatmapgl\"}], \"histogram\": [{\"marker\": {\"colorbar\": {\"outlinewidth\": 0, \"ticks\": \"\"}}, \"type\": \"histogram\"}], \"histogram2d\": [{\"colorbar\": {\"outlinewidth\": 0, \"ticks\": \"\"}, \"colorscale\": [[0.0, \"#0d0887\"], [0.1111111111111111, \"#46039f\"], [0.2222222222222222, \"#7201a8\"], [0.3333333333333333, \"#9c179e\"], [0.4444444444444444, \"#bd3786\"], [0.5555555555555556, \"#d8576b\"], [0.6666666666666666, \"#ed7953\"], [0.7777777777777778, \"#fb9f3a\"], [0.8888888888888888, \"#fdca26\"], [1.0, \"#f0f921\"]], \"type\": \"histogram2d\"}], \"histogram2dcontour\": [{\"colorbar\": {\"outlinewidth\": 0, \"ticks\": \"\"}, \"colorscale\": [[0.0, \"#0d0887\"], [0.1111111111111111, \"#46039f\"], [0.2222222222222222, \"#7201a8\"], [0.3333333333333333, \"#9c179e\"], [0.4444444444444444, \"#bd3786\"], [0.5555555555555556, \"#d8576b\"], [0.6666666666666666, \"#ed7953\"], [0.7777777777777778, \"#fb9f3a\"], [0.8888888888888888, \"#fdca26\"], [1.0, \"#f0f921\"]], \"type\": \"histogram2dcontour\"}], \"mesh3d\": [{\"colorbar\": {\"outlinewidth\": 0, \"ticks\": \"\"}, \"type\": \"mesh3d\"}], \"parcoords\": [{\"line\": {\"colorbar\": {\"outlinewidth\": 0, \"ticks\": \"\"}}, \"type\": \"parcoords\"}], \"pie\": [{\"automargin\": true, \"type\": \"pie\"}], \"scatter\": [{\"marker\": {\"colorbar\": {\"outlinewidth\": 0, \"ticks\": \"\"}}, \"type\": \"scatter\"}], \"scatter3d\": [{\"line\": {\"colorbar\": {\"outlinewidth\": 0, \"ticks\": \"\"}}, \"marker\": {\"colorbar\": {\"outlinewidth\": 0, \"ticks\": \"\"}}, \"type\": \"scatter3d\"}], \"scattercarpet\": [{\"marker\": {\"colorbar\": {\"outlinewidth\": 0, \"ticks\": \"\"}}, \"type\": \"scattercarpet\"}], \"scattergeo\": [{\"marker\": {\"colorbar\": {\"outlinewidth\": 0, \"ticks\": \"\"}}, \"type\": \"scattergeo\"}], \"scattergl\": [{\"marker\": {\"colorbar\": {\"outlinewidth\": 0, \"ticks\": \"\"}}, \"type\": \"scattergl\"}], \"scattermapbox\": [{\"marker\": {\"colorbar\": {\"outlinewidth\": 0, \"ticks\": \"\"}}, \"type\": \"scattermapbox\"}], \"scatterpolar\": [{\"marker\": {\"colorbar\": {\"outlinewidth\": 0, \"ticks\": \"\"}}, \"type\": \"scatterpolar\"}], \"scatterpolargl\": [{\"marker\": {\"colorbar\": {\"outlinewidth\": 0, \"ticks\": \"\"}}, \"type\": \"scatterpolargl\"}], \"scatterternary\": [{\"marker\": {\"colorbar\": {\"outlinewidth\": 0, \"ticks\": \"\"}}, \"type\": \"scatterternary\"}], \"surface\": [{\"colorbar\": {\"outlinewidth\": 0, \"ticks\": \"\"}, \"colorscale\": [[0.0, \"#0d0887\"], [0.1111111111111111, \"#46039f\"], [0.2222222222222222, \"#7201a8\"], [0.3333333333333333, \"#9c179e\"], [0.4444444444444444, \"#bd3786\"], [0.5555555555555556, \"#d8576b\"], [0.6666666666666666, \"#ed7953\"], [0.7777777777777778, \"#fb9f3a\"], [0.8888888888888888, \"#fdca26\"], [1.0, \"#f0f921\"]], \"type\": \"surface\"}], \"table\": [{\"cells\": {\"fill\": {\"color\": \"#EBF0F8\"}, \"line\": {\"color\": \"white\"}}, \"header\": {\"fill\": {\"color\": \"#C8D4E3\"}, \"line\": {\"color\": \"white\"}}, \"type\": \"table\"}]}, \"layout\": {\"annotationdefaults\": {\"arrowcolor\": \"#2a3f5f\", \"arrowhead\": 0, \"arrowwidth\": 1}, \"coloraxis\": {\"colorbar\": {\"outlinewidth\": 0, \"ticks\": \"\"}}, \"colorscale\": {\"diverging\": [[0, \"#8e0152\"], [0.1, \"#c51b7d\"], [0.2, \"#de77ae\"], [0.3, \"#f1b6da\"], [0.4, \"#fde0ef\"], [0.5, \"#f7f7f7\"], [0.6, \"#e6f5d0\"], [0.7, \"#b8e186\"], [0.8, \"#7fbc41\"], [0.9, \"#4d9221\"], [1, \"#276419\"]], \"sequential\": [[0.0, \"#0d0887\"], [0.1111111111111111, \"#46039f\"], [0.2222222222222222, \"#7201a8\"], [0.3333333333333333, \"#9c179e\"], [0.4444444444444444, \"#bd3786\"], [0.5555555555555556, \"#d8576b\"], [0.6666666666666666, \"#ed7953\"], [0.7777777777777778, \"#fb9f3a\"], [0.8888888888888888, \"#fdca26\"], [1.0, \"#f0f921\"]], \"sequentialminus\": [[0.0, \"#0d0887\"], [0.1111111111111111, \"#46039f\"], [0.2222222222222222, \"#7201a8\"], [0.3333333333333333, \"#9c179e\"], [0.4444444444444444, \"#bd3786\"], [0.5555555555555556, \"#d8576b\"], [0.6666666666666666, \"#ed7953\"], [0.7777777777777778, \"#fb9f3a\"], [0.8888888888888888, \"#fdca26\"], [1.0, \"#f0f921\"]]}, \"colorway\": [\"#636efa\", \"#EF553B\", \"#00cc96\", \"#ab63fa\", \"#FFA15A\", \"#19d3f3\", \"#FF6692\", \"#B6E880\", \"#FF97FF\", \"#FECB52\"], \"font\": {\"color\": \"#2a3f5f\"}, \"geo\": {\"bgcolor\": \"white\", \"lakecolor\": \"white\", \"landcolor\": \"#E5ECF6\", \"showlakes\": true, \"showland\": true, \"subunitcolor\": \"white\"}, \"hoverlabel\": {\"align\": \"left\"}, \"hovermode\": \"closest\", \"mapbox\": {\"style\": \"light\"}, \"paper_bgcolor\": \"white\", \"plot_bgcolor\": \"#E5ECF6\", \"polar\": {\"angularaxis\": {\"gridcolor\": \"white\", \"linecolor\": \"white\", \"ticks\": \"\"}, \"bgcolor\": \"#E5ECF6\", \"radialaxis\": {\"gridcolor\": \"white\", \"linecolor\": \"white\", \"ticks\": \"\"}}, \"scene\": {\"xaxis\": {\"backgroundcolor\": \"#E5ECF6\", \"gridcolor\": \"white\", \"gridwidth\": 2, \"linecolor\": \"white\", \"showbackground\": true, \"ticks\": \"\", \"zerolinecolor\": \"white\"}, \"yaxis\": {\"backgroundcolor\": \"#E5ECF6\", \"gridcolor\": \"white\", \"gridwidth\": 2, \"linecolor\": \"white\", \"showbackground\": true, \"ticks\": \"\", \"zerolinecolor\": \"white\"}, \"zaxis\": {\"backgroundcolor\": \"#E5ECF6\", \"gridcolor\": \"white\", \"gridwidth\": 2, \"linecolor\": \"white\", \"showbackground\": true, \"ticks\": \"\", \"zerolinecolor\": \"white\"}}, \"shapedefaults\": {\"line\": {\"color\": \"#2a3f5f\"}}, \"ternary\": {\"aaxis\": {\"gridcolor\": \"white\", \"linecolor\": \"white\", \"ticks\": \"\"}, \"baxis\": {\"gridcolor\": \"white\", \"linecolor\": \"white\", \"ticks\": \"\"}, \"bgcolor\": \"#E5ECF6\", \"caxis\": {\"gridcolor\": \"white\", \"linecolor\": \"white\", \"ticks\": \"\"}}, \"title\": {\"x\": 0.05}, \"xaxis\": {\"automargin\": true, \"gridcolor\": \"white\", \"linecolor\": \"white\", \"ticks\": \"\", \"title\": {\"standoff\": 15}, \"zerolinecolor\": \"white\", \"zerolinewidth\": 2}, \"yaxis\": {\"automargin\": true, \"gridcolor\": \"white\", \"linecolor\": \"white\", \"ticks\": \"\", \"title\": {\"standoff\": 15}, \"zerolinecolor\": \"white\", \"zerolinewidth\": 2}}}, \"title\": {\"text\": \"Coherence Value and # of Topics\"}, \"xaxis\": {\"anchor\": \"y\", \"domain\": [0.0, 1.0], \"title\": {\"text\": \"# Topics\"}}, \"yaxis\": {\"anchor\": \"x\", \"domain\": [0.0, 1.0], \"title\": {\"text\": \"Score\"}}},\n",
       "                        {\"responsive\": true}\n",
       "                    ).then(function(){\n",
       "                            \n",
       "var gd = document.getElementById('f5254383-acf1-4b66-9940-404e798557b8');\n",
       "var x = new MutationObserver(function (mutations, observer) {{\n",
       "        var display = window.getComputedStyle(gd).display;\n",
       "        if (!display || display === 'none') {{\n",
       "            console.log([gd, 'removed!']);\n",
       "            Plotly.purge(gd);\n",
       "            observer.disconnect();\n",
       "        }}\n",
       "}});\n",
       "\n",
       "// Listen for the removal of the full notebook cells\n",
       "var notebookContainer = gd.closest('#notebook-container');\n",
       "if (notebookContainer) {{\n",
       "    x.observe(notebookContainer, {childList: true});\n",
       "}}\n",
       "\n",
       "// Listen for the clearing of the current output cell\n",
       "var outputEl = gd.closest('.output');\n",
       "if (outputEl) {{\n",
       "    x.observe(outputEl, {childList: true});\n",
       "}}\n",
       "\n",
       "                        })\n",
       "                };\n",
       "                });\n",
       "            </script>\n",
       "        </div>"
      ]
     },
     "metadata": {},
     "output_type": "display_data"
    },
    {
     "name": "stdout",
     "output_type": "stream",
     "text": [
      "Best Model: Latent Dirichlet Allocation | # Topics: 32 | Coherence: 0.759\n"
     ]
    }
   ],
   "source": [
    "tune_lda_negative = tune_model(model='lda', supervised_target=None, estimator='xgboost')"
   ]
  },
  {
   "cell_type": "markdown",
   "metadata": {},
   "source": [
    "2 topics"
   ]
  },
  {
   "cell_type": "code",
   "execution_count": 24,
   "metadata": {},
   "outputs": [
    {
     "name": "stdout",
     "output_type": "stream",
     "text": [
      "LdaModel(num_terms=274, num_topics=2, decay=0.5, chunksize=100)\n"
     ]
    }
   ],
   "source": [
    "lda_neg_2 = create_model('lda', num_topics=2)\n",
    "print(lda_neg_2)"
   ]
  },
  {
   "cell_type": "code",
   "execution_count": 25,
   "metadata": {},
   "outputs": [
    {
     "data": {
      "application/vnd.jupyter.widget-view+json": {
       "model_id": "04b254b970ea4b4da7e2e12d0ae3b1d8",
       "version_major": 2,
       "version_minor": 0
      },
      "text/plain": [
       "interactive(children=(ToggleButtons(description='Plot Type:', icons=('',), options=(('Frequency Plot', 'freque…"
      ]
     },
     "metadata": {},
     "output_type": "display_data"
    }
   ],
   "source": [
    "evaluate_model(lda_neg_2)"
   ]
  },
  {
   "cell_type": "code",
   "execution_count": 26,
   "metadata": {},
   "outputs": [
    {
     "data": {
      "text/html": [
       "        <script type=\"text/javascript\">\n",
       "        window.PlotlyConfig = {MathJaxConfig: 'local'};\n",
       "        if (window.MathJax) {MathJax.Hub.Config({SVG: {font: \"STIX-Web\"}});}\n",
       "        if (typeof require !== 'undefined') {\n",
       "        require.undef(\"plotly\");\n",
       "        requirejs.config({\n",
       "            paths: {\n",
       "                'plotly': ['https://cdn.plot.ly/plotly-latest.min']\n",
       "            }\n",
       "        });\n",
       "        require(['plotly'], function(Plotly) {\n",
       "            window._Plotly = Plotly;\n",
       "        });\n",
       "        }\n",
       "        </script>\n",
       "        "
      ]
     },
     "metadata": {},
     "output_type": "display_data"
    },
    {
     "data": {
      "text/html": [
       "\n",
       "<link rel=\"stylesheet\" type=\"text/css\" href=\"https://cdn.rawgit.com/bmabey/pyLDAvis/files/ldavis.v1.0.0.css\">\n",
       "\n",
       "\n",
       "<div id=\"ldavis_el1201224385680177364915527462\"></div>\n",
       "<script type=\"text/javascript\">\n",
       "\n",
       "var ldavis_el1201224385680177364915527462_data = {\"mdsDat\": {\"x\": [-0.018169916125877383, 0.018169916125877383], \"y\": [0.0573578572971165, -0.0573578572971165], \"topics\": [1, 2], \"cluster\": [1, 1], \"Freq\": [69.55587768554688, 30.444124221801758]}, \"tinfo\": {\"Term\": [\"day\", \"write\", \"experience\", \"menu\", \"dish\", \"cook\", \"enough\", \"bad\", \"impressive\", \"also\", \"door\", \"lovely\", \"sadly\", \"close\", \"enter\", \"stone\", \"high\", \"wooden\", \"symptom\", \"area\", \"early\", \"unable\", \"joke\", \"price\", \"locate\", \"option\", \"apparently\", \"inside\", \"oral\", \"come\", \"gate\", \"city\", \"still\", \"sure\", \"venetian\", \"build\", \"bit\", \"stand\", \"rather\", \"visit\", \"none\", \"little\", \"make\", \"history\", \"much\", \"find\", \"see\", \"tourist\", \"large\", \"way\", \"last\", \"medieval\", \"hide\", \"entrance\", \"part\", \"exhibit\", \"transform\", \"know\", \"pass\", \"exterior\", \"wall\", \"old\", \"give\", \"time\", \"go\", \"big\", \"place\", \"expect\", \"write\", \"experience\", \"menu\", \"dish\", \"cook\", \"enough\", \"bad\", \"door\", \"lovely\", \"sadly\", \"close\", \"enter\", \"stone\", \"high\", \"wooden\", \"symptom\", \"area\", \"early\", \"unable\", \"joke\", \"price\", \"locate\", \"option\", \"apparently\", \"inside\", \"oral\", \"come\", \"choose\", \"lentil\", \"never\", \"day\", \"impressive\", \"also\", \"place\", \"go\", \"time\", \"give\", \"many\", \"old\", \"expect\", \"serve\", \"wall\", \"hot\", \"lunch\", \"system\", \"salad\", \"look\"], \"Freq\": [2.0, 1.0, 1.0, 1.0, 1.0, 1.0, 1.0, 1.0, 2.0, 2.0, 0.0, 0.0, 0.0, 0.0, 0.0, 0.0, 0.0, 0.0, 0.0, 0.0, 0.0, 0.0, 0.0, 0.0, 0.0, 0.0, 0.0, 0.0, 0.0, 0.0, 4.176423072814941, 3.526167869567871, 2.253535270690918, 2.2475194931030273, 1.609462022781372, 1.6094541549682617, 1.6094071865081787, 1.609393835067749, 1.6092860698699951, 1.6086199283599854, 1.6085342168807983, 1.6085103750228882, 1.608184814453125, 1.6074464321136475, 1.607008695602417, 1.60673987865448, 1.6066482067108154, 1.60660719871521, 1.6065497398376465, 1.6064602136611938, 1.6061372756958008, 1.6059108972549438, 1.6053071022033691, 1.6040408611297607, 1.6031444072723389, 0.9658309817314148, 0.9658215045928955, 0.9658032655715942, 0.9658020734786987, 0.9657959938049316, 2.8967041969299316, 2.2509632110595703, 2.248213052749634, 2.243244171142578, 2.8917860984802246, 1.6110340356826782, 1.6127698421478271, 1.6072252988815308, 1.0990687608718872, 1.0990101099014282, 1.0989278554916382, 1.0989161729812622, 1.0988844633102417, 1.0988438129425049, 1.0985158681869507, 0.6599918603897095, 0.6599323749542236, 0.6598948836326599, 0.6598695516586304, 0.6598601937294006, 0.6598592400550842, 0.6598225831985474, 0.6597872376441956, 0.6597681641578674, 0.6597570180892944, 0.6597276329994202, 0.6597258448600769, 0.6596960425376892, 0.6596729755401611, 0.6596647500991821, 0.6596565842628479, 0.6596521735191345, 0.6596518754959106, 0.6596518754959106, 0.6596456170082092, 0.6596429944038391, 0.6595764756202698, 0.659557580947876, 1.5397919416427612, 1.1041852235794067, 1.0985348224639893, 1.098392128944397, 1.104472279548645, 0.6674504280090332, 0.664054274559021, 0.6623539328575134, 0.6621743440628052, 0.6620252728462219, 0.6612603664398193, 0.6609540581703186, 0.6609096527099609, 0.6605451107025146, 0.6605398654937744, 0.6604199409484863, 0.6599224805831909], \"Total\": [2.0, 1.0, 1.0, 1.0, 1.0, 1.0, 1.0, 1.0, 2.0, 2.0, 0.0, 0.0, 0.0, 0.0, 0.0, 0.0, 0.0, 0.0, 0.0, 0.0, 0.0, 0.0, 0.0, 0.0, 0.0, 0.0, 0.0, 0.0, 0.0, 0.0, 4.402832508087158, 3.756882429122925, 2.473806619644165, 2.471902370452881, 1.8298137187957764, 1.8298109769821167, 1.829796314239502, 1.8297921419143677, 1.8297580480575562, 1.8295470476150513, 1.8295199871063232, 1.8295124769210815, 1.8294093608856201, 1.829175591468811, 1.8290369510650635, 1.8289518356323242, 1.8289227485656738, 1.8289098739624023, 1.828891634941101, 1.8288633823394775, 1.8287612199783325, 1.8286893367767334, 1.828498363494873, 1.8280973434448242, 1.827813744544983, 1.185961127281189, 1.1859581470489502, 1.1859524250030518, 1.1859519481658936, 1.1859500408172607, 3.5576581954956055, 2.913137435913086, 2.9122672080993652, 2.9106945991516113, 3.99625825881958, 2.270455837249756, 2.7111620903015137, 2.2692506313323975, 1.422965407371521, 1.4229925870895386, 1.4230307340621948, 1.4230362176895142, 1.4230507612228394, 1.4230692386627197, 1.423221230506897, 0.9823086261749268, 0.9823361039161682, 0.9823533296585083, 0.9823651313781738, 0.9823694229125977, 0.9823697805404663, 0.9823867082595825, 0.9824031591415405, 0.9824122190475464, 0.9824174642562866, 0.9824309349060059, 0.9824316501617432, 0.9824455976486206, 0.9824562072753906, 0.9824600219726562, 0.9824637174606323, 0.9824658632278442, 0.9824659824371338, 0.9824661016464233, 0.9824689626693726, 0.9824700951576233, 0.9825009107589722, 0.9825096726417542, 2.506788730621338, 2.064523458480835, 2.067141056060791, 2.7111620903015137, 3.99625825881958, 2.9106945991516113, 2.9122672080993652, 1.6251428127288818, 2.913137435913086, 2.2692506313323975, 1.6256494522094727, 3.5576581954956055, 1.6258115768432617, 1.6259803771972656, 1.625982642173767, 1.6260384321212769, 1.6262688636779785], \"Category\": [\"Default\", \"Default\", \"Default\", \"Default\", \"Default\", \"Default\", \"Default\", \"Default\", \"Default\", \"Default\", \"Default\", \"Default\", \"Default\", \"Default\", \"Default\", \"Default\", \"Default\", \"Default\", \"Default\", \"Default\", \"Default\", \"Default\", \"Default\", \"Default\", \"Default\", \"Default\", \"Default\", \"Default\", \"Default\", \"Default\", \"Topic1\", \"Topic1\", \"Topic1\", \"Topic1\", \"Topic1\", \"Topic1\", \"Topic1\", \"Topic1\", \"Topic1\", \"Topic1\", \"Topic1\", \"Topic1\", \"Topic1\", \"Topic1\", \"Topic1\", \"Topic1\", \"Topic1\", \"Topic1\", \"Topic1\", \"Topic1\", \"Topic1\", \"Topic1\", \"Topic1\", \"Topic1\", \"Topic1\", \"Topic1\", \"Topic1\", \"Topic1\", \"Topic1\", \"Topic1\", \"Topic1\", \"Topic1\", \"Topic1\", \"Topic1\", \"Topic1\", \"Topic1\", \"Topic1\", \"Topic1\", \"Topic2\", \"Topic2\", \"Topic2\", \"Topic2\", \"Topic2\", \"Topic2\", \"Topic2\", \"Topic2\", \"Topic2\", \"Topic2\", \"Topic2\", \"Topic2\", \"Topic2\", \"Topic2\", \"Topic2\", \"Topic2\", \"Topic2\", \"Topic2\", \"Topic2\", \"Topic2\", \"Topic2\", \"Topic2\", \"Topic2\", \"Topic2\", \"Topic2\", \"Topic2\", \"Topic2\", \"Topic2\", \"Topic2\", \"Topic2\", \"Topic2\", \"Topic2\", \"Topic2\", \"Topic2\", \"Topic2\", \"Topic2\", \"Topic2\", \"Topic2\", \"Topic2\", \"Topic2\", \"Topic2\", \"Topic2\", \"Topic2\", \"Topic2\", \"Topic2\", \"Topic2\", \"Topic2\"], \"logprob\": [30.0, 29.0, 28.0, 27.0, 26.0, 25.0, 24.0, 23.0, 22.0, 21.0, 20.0, 19.0, 18.0, 17.0, 16.0, 15.0, 14.0, 13.0, 12.0, 11.0, 10.0, 9.0, 8.0, 7.0, 6.0, 5.0, 4.0, 3.0, 2.0, 1.0, -4.079599857330322, -4.248899936676025, -4.696599960327148, -4.6992998123168945, -5.033199787139893, -5.033199787139893, -5.033199787139893, -5.033199787139893, -5.033299922943115, -5.033699989318848, -5.03380012512207, -5.03380012512207, -5.033999919891357, -5.03439998626709, -5.0346999168396, -5.034900188446045, -5.034900188446045, -5.034999847412109, -5.034999847412109, -5.034999847412109, -5.035200119018555, -5.035399913787842, -5.035799980163574, -5.036600112915039, -5.037099838256836, -5.543799877166748, -5.543900012969971, -5.543900012969971, -5.543900012969971, -5.543900012969971, -4.445499897003174, -4.697700023651123, -4.69890022277832, -4.701200008392334, -4.447199821472168, -5.032199859619141, -5.031099796295166, -5.034599781036377, -4.588399887084961, -4.588399887084961, -4.588500022888184, -4.588500022888184, -4.588500022888184, -4.588600158691406, -4.588900089263916, -5.098400115966797, -5.098499774932861, -5.098499774932861, -5.098599910736084, -5.098599910736084, -5.098599910736084, -5.098599910736084, -5.098700046539307, -5.098700046539307, -5.098700046539307, -5.098800182342529, -5.098800182342529, -5.098800182342529, -5.098899841308594, -5.098899841308594, -5.098899841308594, -5.098899841308594, -5.098899841308594, -5.098899841308594, -5.098899841308594, -5.098899841308594, -5.098999977111816, -5.098999977111816, -4.251200199127197, -4.583700180053711, -4.588900089263916, -4.589000225067139, -4.583499908447266, -5.087100028991699, -5.092199802398682, -5.094799995422363, -5.095099925994873, -5.095300197601318, -5.096399784088135, -5.09689998626709, -5.0970001220703125, -5.097499847412109, -5.097499847412109, -5.097700119018555, -5.098499774932861], \"loglift\": [30.0, 29.0, 28.0, 27.0, 26.0, 25.0, 24.0, 23.0, 22.0, 21.0, 20.0, 19.0, 18.0, 17.0, 16.0, 15.0, 14.0, 13.0, 12.0, 11.0, 10.0, 9.0, 8.0, 7.0, 6.0, 5.0, 4.0, 3.0, 2.0, 1.0, 0.3102000057697296, 0.299699991941452, 0.26980000734329224, 0.2678999900817871, 0.23469999432563782, 0.23469999432563782, 0.23469999432563782, 0.23469999432563782, 0.2345999926328659, 0.23430000245571136, 0.23430000245571136, 0.23430000245571136, 0.23420000076293945, 0.2337999939918518, 0.23360000550746918, 0.23350000381469727, 0.23350000381469727, 0.23340000212192535, 0.23340000212192535, 0.23340000212192535, 0.23319999873638153, 0.23309999704360962, 0.2328999936580658, 0.23229999840259552, 0.23190000653266907, 0.15770000219345093, 0.15770000219345093, 0.15770000219345093, 0.15770000219345093, 0.15770000219345093, 0.1574999988079071, 0.10520000010728836, 0.10419999808073044, 0.10260000079870224, 0.03959999978542328, 0.019899999722838402, -0.15639999508857727, 0.01810000091791153, 0.9309999942779541, 0.930899977684021, 0.9308000206947327, 0.9308000206947327, 0.9308000206947327, 0.9307000041007996, 0.9302999973297119, 0.7915999889373779, 0.7914999723434448, 0.7914000153541565, 0.7914000153541565, 0.7912999987602234, 0.7912999987602234, 0.7912999987602234, 0.7911999821662903, 0.7911999821662903, 0.791100025177002, 0.791100025177002, 0.791100025177002, 0.7910000085830688, 0.7910000085830688, 0.7908999919891357, 0.7908999919891357, 0.7908999919891357, 0.7908999919891357, 0.7908999919891357, 0.7908999919891357, 0.7908999919891357, 0.7907999753952026, 0.7907000184059143, 0.7019000053405762, 0.5634999871253967, 0.5570999979972839, 0.2856999933719635, -0.09669999778270721, -0.2833999991416931, -0.289000004529953, 0.29170000553131104, -0.2921999990940094, -0.04259999841451645, 0.2897999882698059, -0.49390000104904175, 0.2890999913215637, 0.28850001096725464, 0.28850001096725464, 0.2883000075817108, 0.2874000072479248]}, \"token.table\": {\"Topic\": [1, 2, 2, 2, 2, 1, 2, 1, 1, 2, 1, 2, 2, 2, 1, 2, 2, 2, 2, 2, 2, 1, 1, 1, 2, 2, 1, 1, 1, 1, 2, 1, 2, 1, 2, 1, 1, 2, 1, 2, 2, 2, 1, 1, 1, 2, 1, 2, 1, 2, 2, 1, 2, 1, 1, 2, 1, 2, 1, 2, 1, 1, 2, 2, 2, 1, 1, 1, 2, 2, 1, 2, 1, 2, 1, 1, 2, 1, 1, 2, 1, 2, 1, 2, 1, 2, 1, 1, 2, 1, 1, 1, 2, 1, 2, 2], \"Freq\": [0.48375990986824036, 0.48375990986824036, 1.0178470611572266, 1.0178972482681274, 0.7026314735412598, 0.8808803558349609, 0.44044017791748047, 1.093017816543579, 1.093009114265442, 1.0178426504135132, 1.064712643623352, 1.017951488494873, 1.0178438425064087, 0.7027156352996826, 0.39891675114631653, 0.7978335022926331, 0.7027227878570557, 1.0180100202560425, 1.01788330078125, 0.702706515789032, 1.0179469585418701, 1.0940335988998413, 0.8431979417800903, 0.881348192691803, 0.4406740963459015, 0.7027443647384644, 0.8432058691978455, 1.093522548675537, 0.9085060358047485, 0.6867501735687256, 0.3433750867843628, 0.7507022619247437, 0.25023406744003296, 1.0937937498092651, 1.0179290771484375, 1.0933887958526611, 0.6150774359703064, 0.6150774359703064, 0.4843732714653015, 0.4843732714653015, 1.017846941947937, 1.0178680419921875, 0.843204140663147, 1.0935585498809814, 1.0936365127563477, 1.0178107023239136, 1.0931874513626099, 1.0178531408309937, 0.6149044632911682, 0.6149044632911682, 1.0179815292358398, 0.615013599395752, 0.615013599395752, 1.0932490825653076, 0.6153305172920227, 0.6153305172920227, 1.093679428100586, 0.7027255296707153, 1.093471646308899, 1.0178016424179077, 1.093182921409607, 0.6865450143814087, 0.34327250719070435, 1.017849326133728, 1.0178468227386475, 1.0942033529281616, 0.8432044982910156, 0.7376910448074341, 0.36884552240371704, 1.0178570747375488, 1.0930407047271729, 1.0179636478424072, 0.6149916052818298, 0.6149916052818298, 1.0935399532318115, 0.6151387691497803, 0.6151387691497803, 1.0930203199386597, 0.808470606803894, 1.0179466009140015, 0.8090934157371521, 1.0179026126861572, 0.6150127053260803, 0.6150127053260803, 0.6871212124824524, 0.3435606062412262, 1.0935475826263428, 0.8432000875473022, 1.0178824663162231, 1.0930074453353882, 1.093166708946228, 0.8432513475418091, 0.28108376264572144, 1.093575358390808, 1.0179120302200317, 0.7027577757835388], \"Term\": [\"also\", \"also\", \"apparently\", \"area\", \"bad\", \"big\", \"big\", \"bit\", \"build\", \"choose\", \"city\", \"close\", \"come\", \"cook\", \"day\", \"day\", \"dish\", \"door\", \"early\", \"enough\", \"enter\", \"entrance\", \"exhibit\", \"expect\", \"expect\", \"experience\", \"exterior\", \"find\", \"gate\", \"give\", \"give\", \"go\", \"go\", \"hide\", \"high\", \"history\", \"hot\", \"hot\", \"impressive\", \"impressive\", \"inside\", \"joke\", \"know\", \"large\", \"last\", \"lentil\", \"little\", \"locate\", \"look\", \"look\", \"lovely\", \"lunch\", \"lunch\", \"make\", \"many\", \"many\", \"medieval\", \"menu\", \"much\", \"never\", \"none\", \"old\", \"old\", \"option\", \"oral\", \"part\", \"pass\", \"place\", \"place\", \"price\", \"rather\", \"sadly\", \"salad\", \"salad\", \"see\", \"serve\", \"serve\", \"stand\", \"still\", \"stone\", \"sure\", \"symptom\", \"system\", \"system\", \"time\", \"time\", \"tourist\", \"transform\", \"unable\", \"venetian\", \"visit\", \"wall\", \"wall\", \"way\", \"wooden\", \"write\"]}, \"R\": 30, \"lambda.step\": 0.01, \"plot.opts\": {\"xlab\": \"PC1\", \"ylab\": \"PC2\"}, \"topic.order\": [1, 2]};\n",
       "\n",
       "function LDAvis_load_lib(url, callback){\n",
       "  var s = document.createElement('script');\n",
       "  s.src = url;\n",
       "  s.async = true;\n",
       "  s.onreadystatechange = s.onload = callback;\n",
       "  s.onerror = function(){console.warn(\"failed to load library \" + url);};\n",
       "  document.getElementsByTagName(\"head\")[0].appendChild(s);\n",
       "}\n",
       "\n",
       "if(typeof(LDAvis) !== \"undefined\"){\n",
       "   // already loaded: just create the visualization\n",
       "   !function(LDAvis){\n",
       "       new LDAvis(\"#\" + \"ldavis_el1201224385680177364915527462\", ldavis_el1201224385680177364915527462_data);\n",
       "   }(LDAvis);\n",
       "}else if(typeof define === \"function\" && define.amd){\n",
       "   // require.js is available: use it to load d3/LDAvis\n",
       "   require.config({paths: {d3: \"https://cdnjs.cloudflare.com/ajax/libs/d3/3.5.5/d3.min\"}});\n",
       "   require([\"d3\"], function(d3){\n",
       "      window.d3 = d3;\n",
       "      LDAvis_load_lib(\"https://cdn.rawgit.com/bmabey/pyLDAvis/files/ldavis.v1.0.0.js\", function(){\n",
       "        new LDAvis(\"#\" + \"ldavis_el1201224385680177364915527462\", ldavis_el1201224385680177364915527462_data);\n",
       "      });\n",
       "    });\n",
       "}else{\n",
       "    // require.js not available: dynamically load d3 & LDAvis\n",
       "    LDAvis_load_lib(\"https://cdnjs.cloudflare.com/ajax/libs/d3/3.5.5/d3.min.js\", function(){\n",
       "         LDAvis_load_lib(\"https://cdn.rawgit.com/bmabey/pyLDAvis/files/ldavis.v1.0.0.js\", function(){\n",
       "                 new LDAvis(\"#\" + \"ldavis_el1201224385680177364915527462\", ldavis_el1201224385680177364915527462_data);\n",
       "            })\n",
       "         });\n",
       "}\n",
       "</script>"
      ],
      "text/plain": [
       "PreparedData(topic_coordinates=             x         y  topics  cluster       Freq\n",
       "topic                                               \n",
       "0     -0.01817  0.057358       1        1  69.555878\n",
       "1      0.01817 -0.057358       2        1  30.444124, topic_info=           Term      Freq     Total Category  logprob  loglift\n",
       "161         day  2.000000  2.000000  Default  30.0000  30.0000\n",
       "260       write  1.000000  1.000000  Default  29.0000  29.0000\n",
       "218  experience  1.000000  1.000000  Default  28.0000  28.0000\n",
       "229        menu  1.000000  1.000000  Default  27.0000  27.0000\n",
       "214        dish  1.000000  1.000000  Default  26.0000  26.0000\n",
       "..          ...       ...       ...      ...      ...      ...\n",
       "170         hot  0.660910  1.625812   Topic2  -5.0970   0.2891\n",
       "176       lunch  0.660545  1.625980   Topic2  -5.0975   0.2885\n",
       "94       system  0.660540  1.625983   Topic2  -5.0975   0.2885\n",
       "182       salad  0.660420  1.626038   Topic2  -5.0977   0.2883\n",
       "15         look  0.659922  1.626269   Topic2  -5.0985   0.2874\n",
       "\n",
       "[115 rows x 6 columns], token_table=      Topic      Freq        Term\n",
       "term                             \n",
       "68        1  0.483760        also\n",
       "68        2  0.483760        also\n",
       "202       2  1.017847  apparently\n",
       "203       2  1.017897        area\n",
       "204       2  0.702631         bad\n",
       "...     ...       ...         ...\n",
       "8         1  0.843251        wall\n",
       "8         2  0.281084        wall\n",
       "191       1  1.093575         way\n",
       "20        2  1.017912      wooden\n",
       "260       2  0.702758       write\n",
       "\n",
       "[96 rows x 3 columns], R=30, lambda_step=0.01, plot_opts={'xlab': 'PC1', 'ylab': 'PC2'}, topic_order=[1, 2])"
      ]
     },
     "metadata": {},
     "output_type": "display_data"
    }
   ],
   "source": [
    "plot_model(lda_neg_2, plot ='topic_model')"
   ]
  },
  {
   "cell_type": "code",
   "execution_count": null,
   "metadata": {},
   "outputs": [],
   "source": []
  }
 ],
 "metadata": {
  "kernelspec": {
   "display_name": "Python 3",
   "language": "python",
   "name": "python3"
  },
  "language_info": {
   "codemirror_mode": {
    "name": "ipython",
    "version": 3
   },
   "file_extension": ".py",
   "mimetype": "text/x-python",
   "name": "python",
   "nbconvert_exporter": "python",
   "pygments_lexer": "ipython3",
   "version": "3.7.4"
  }
 },
 "nbformat": 4,
 "nbformat_minor": 2
}
