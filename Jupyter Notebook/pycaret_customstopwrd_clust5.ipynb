{
 "cells": [
  {
   "cell_type": "code",
   "execution_count": 1,
   "metadata": {},
   "outputs": [],
   "source": [
    "import pandas as pd\n",
    "import glob"
   ]
  },
  {
   "cell_type": "markdown",
   "metadata": {},
   "source": [
    "# Positive Reviews"
   ]
  },
  {
   "cell_type": "code",
   "execution_count": 2,
   "metadata": {},
   "outputs": [
    {
     "data": {
      "text/html": [
       "<div>\n",
       "<style scoped>\n",
       "    .dataframe tbody tr th:only-of-type {\n",
       "        vertical-align: middle;\n",
       "    }\n",
       "\n",
       "    .dataframe tbody tr th {\n",
       "        vertical-align: top;\n",
       "    }\n",
       "\n",
       "    .dataframe thead th {\n",
       "        text-align: right;\n",
       "    }\n",
       "</style>\n",
       "<table border=\"1\" class=\"dataframe\">\n",
       "  <thead>\n",
       "    <tr style=\"text-align: right;\">\n",
       "      <th></th>\n",
       "      <th>Unnamed: 0</th>\n",
       "      <th>r_points</th>\n",
       "      <th>r_text</th>\n",
       "      <th>place</th>\n",
       "      <th>scores</th>\n",
       "      <th>compound</th>\n",
       "      <th>score</th>\n",
       "    </tr>\n",
       "  </thead>\n",
       "  <tbody>\n",
       "    <tr>\n",
       "      <th>0</th>\n",
       "      <td>1</td>\n",
       "      <td>50</td>\n",
       "      <td>A place to show you the civilized human beings...</td>\n",
       "      <td>Museum of Barbarism</td>\n",
       "      <td>{'neg': 0.0, 'neu': 1.0, 'pos': 0.0, 'compound...</td>\n",
       "      <td>0.0000</td>\n",
       "      <td>pos</td>\n",
       "    </tr>\n",
       "    <tr>\n",
       "      <th>1</th>\n",
       "      <td>6</td>\n",
       "      <td>50</td>\n",
       "      <td>The museum is small and not suitable for sensi...</td>\n",
       "      <td>Museum of Barbarism</td>\n",
       "      <td>{'neg': 0.035, 'neu': 0.827, 'pos': 0.138, 'co...</td>\n",
       "      <td>0.7171</td>\n",
       "      <td>pos</td>\n",
       "    </tr>\n",
       "    <tr>\n",
       "      <th>2</th>\n",
       "      <td>8</td>\n",
       "      <td>10</td>\n",
       "      <td>I cant believe there is,in nowdays,people who ...</td>\n",
       "      <td>Museum of Barbarism</td>\n",
       "      <td>{'neg': 0.099, 'neu': 0.79, 'pos': 0.111, 'com...</td>\n",
       "      <td>0.3382</td>\n",
       "      <td>pos</td>\n",
       "    </tr>\n",
       "    <tr>\n",
       "      <th>3</th>\n",
       "      <td>0</td>\n",
       "      <td>30</td>\n",
       "      <td>A few notes...There is no bar in the casino to...</td>\n",
       "      <td>Golden Tulip Nicosia Hotel and Casino</td>\n",
       "      <td>{'neg': 0.051, 'neu': 0.797, 'pos': 0.152, 'co...</td>\n",
       "      <td>0.9134</td>\n",
       "      <td>pos</td>\n",
       "    </tr>\n",
       "    <tr>\n",
       "      <th>4</th>\n",
       "      <td>1</td>\n",
       "      <td>40</td>\n",
       "      <td>The place has been renovated into a really nic...</td>\n",
       "      <td>Golden Tulip Nicosia Hotel and Casino</td>\n",
       "      <td>{'neg': 0.104, 'neu': 0.769, 'pos': 0.127, 'co...</td>\n",
       "      <td>0.3582</td>\n",
       "      <td>pos</td>\n",
       "    </tr>\n",
       "    <tr>\n",
       "      <th>...</th>\n",
       "      <td>...</td>\n",
       "      <td>...</td>\n",
       "      <td>...</td>\n",
       "      <td>...</td>\n",
       "      <td>...</td>\n",
       "      <td>...</td>\n",
       "      <td>...</td>\n",
       "    </tr>\n",
       "    <tr>\n",
       "      <th>97</th>\n",
       "      <td>42</td>\n",
       "      <td>40</td>\n",
       "      <td>Good hotel, with very beautyfull room..the bre...</td>\n",
       "      <td>Merit Lefkosa Hotel &amp; Casino</td>\n",
       "      <td>{'neg': 0.0, 'neu': 0.755, 'pos': 0.245, 'comp...</td>\n",
       "      <td>0.9455</td>\n",
       "      <td>pos</td>\n",
       "    </tr>\n",
       "    <tr>\n",
       "      <th>98</th>\n",
       "      <td>44</td>\n",
       "      <td>30</td>\n",
       "      <td>This hotel is booked for me when I travel to N...</td>\n",
       "      <td>Merit Lefkosa Hotel &amp; Casino</td>\n",
       "      <td>{'neg': 0.0, 'neu': 0.819, 'pos': 0.181, 'comp...</td>\n",
       "      <td>0.9544</td>\n",
       "      <td>pos</td>\n",
       "    </tr>\n",
       "    <tr>\n",
       "      <th>99</th>\n",
       "      <td>45</td>\n",
       "      <td>40</td>\n",
       "      <td>a hotel with all mod cons and good service in ...</td>\n",
       "      <td>Merit Lefkosa Hotel &amp; Casino</td>\n",
       "      <td>{'neg': 0.0, 'neu': 0.791, 'pos': 0.209, 'comp...</td>\n",
       "      <td>0.9144</td>\n",
       "      <td>pos</td>\n",
       "    </tr>\n",
       "    <tr>\n",
       "      <th>100</th>\n",
       "      <td>46</td>\n",
       "      <td>40</td>\n",
       "      <td>After my staying at Golden and 3 days in Karpa...</td>\n",
       "      <td>Merit Lefkosa Hotel &amp; Casino</td>\n",
       "      <td>{'neg': 0.059, 'neu': 0.756, 'pos': 0.185, 'co...</td>\n",
       "      <td>0.9565</td>\n",
       "      <td>pos</td>\n",
       "    </tr>\n",
       "    <tr>\n",
       "      <th>101</th>\n",
       "      <td>47</td>\n",
       "      <td>50</td>\n",
       "      <td>This is a very new hotel (about 2 years old) a...</td>\n",
       "      <td>Merit Lefkosa Hotel &amp; Casino</td>\n",
       "      <td>{'neg': 0.01, 'neu': 0.843, 'pos': 0.147, 'com...</td>\n",
       "      <td>0.9636</td>\n",
       "      <td>pos</td>\n",
       "    </tr>\n",
       "  </tbody>\n",
       "</table>\n",
       "<p>102 rows × 7 columns</p>\n",
       "</div>"
      ],
      "text/plain": [
       "     Unnamed: 0  r_points                                             r_text  \\\n",
       "0             1        50  A place to show you the civilized human beings...   \n",
       "1             6        50  The museum is small and not suitable for sensi...   \n",
       "2             8        10  I cant believe there is,in nowdays,people who ...   \n",
       "3             0        30  A few notes...There is no bar in the casino to...   \n",
       "4             1        40  The place has been renovated into a really nic...   \n",
       "..          ...       ...                                                ...   \n",
       "97           42        40  Good hotel, with very beautyfull room..the bre...   \n",
       "98           44        30  This hotel is booked for me when I travel to N...   \n",
       "99           45        40  a hotel with all mod cons and good service in ...   \n",
       "100          46        40  After my staying at Golden and 3 days in Karpa...   \n",
       "101          47        50  This is a very new hotel (about 2 years old) a...   \n",
       "\n",
       "                                     place  \\\n",
       "0                      Museum of Barbarism   \n",
       "1                      Museum of Barbarism   \n",
       "2                      Museum of Barbarism   \n",
       "3    Golden Tulip Nicosia Hotel and Casino   \n",
       "4    Golden Tulip Nicosia Hotel and Casino   \n",
       "..                                     ...   \n",
       "97            Merit Lefkosa Hotel & Casino   \n",
       "98            Merit Lefkosa Hotel & Casino   \n",
       "99            Merit Lefkosa Hotel & Casino   \n",
       "100           Merit Lefkosa Hotel & Casino   \n",
       "101           Merit Lefkosa Hotel & Casino   \n",
       "\n",
       "                                                scores  compound score  \n",
       "0    {'neg': 0.0, 'neu': 1.0, 'pos': 0.0, 'compound...    0.0000   pos  \n",
       "1    {'neg': 0.035, 'neu': 0.827, 'pos': 0.138, 'co...    0.7171   pos  \n",
       "2    {'neg': 0.099, 'neu': 0.79, 'pos': 0.111, 'com...    0.3382   pos  \n",
       "3    {'neg': 0.051, 'neu': 0.797, 'pos': 0.152, 'co...    0.9134   pos  \n",
       "4    {'neg': 0.104, 'neu': 0.769, 'pos': 0.127, 'co...    0.3582   pos  \n",
       "..                                                 ...       ...   ...  \n",
       "97   {'neg': 0.0, 'neu': 0.755, 'pos': 0.245, 'comp...    0.9455   pos  \n",
       "98   {'neg': 0.0, 'neu': 0.819, 'pos': 0.181, 'comp...    0.9544   pos  \n",
       "99   {'neg': 0.0, 'neu': 0.791, 'pos': 0.209, 'comp...    0.9144   pos  \n",
       "100  {'neg': 0.059, 'neu': 0.756, 'pos': 0.185, 'co...    0.9565   pos  \n",
       "101  {'neg': 0.01, 'neu': 0.843, 'pos': 0.147, 'com...    0.9636   pos  \n",
       "\n",
       "[102 rows x 7 columns]"
      ]
     },
     "execution_count": 2,
     "metadata": {},
     "output_type": "execute_result"
    }
   ],
   "source": [
    "pos_review = pd.read_csv(r'C:\\Users\\Dell\\Desktop\\sentiment_cluster5_pos.csv')\n",
    "pos_review"
   ]
  },
  {
   "cell_type": "code",
   "execution_count": 3,
   "metadata": {},
   "outputs": [],
   "source": [
    "from pycaret.nlp import *"
   ]
  },
  {
   "cell_type": "code",
   "execution_count": 4,
   "metadata": {},
   "outputs": [
    {
     "data": {
      "text/html": [
       "<style  type=\"text/css\" >\n",
       "</style><table id=\"T_1485fdca_31a1_11eb_87ec_c48e8ff9d2e0\" ><thead>    <tr>        <th class=\"col_heading level0 col0\" >Description</th>        <th class=\"col_heading level0 col1\" >Value</th>    </tr></thead><tbody>\n",
       "                <tr>\n",
       "                                <td id=\"T_1485fdca_31a1_11eb_87ec_c48e8ff9d2e0row0_col0\" class=\"data row0 col0\" >session_id</td>\n",
       "                        <td id=\"T_1485fdca_31a1_11eb_87ec_c48e8ff9d2e0row0_col1\" class=\"data row0 col1\" >8888</td>\n",
       "            </tr>\n",
       "            <tr>\n",
       "                                <td id=\"T_1485fdca_31a1_11eb_87ec_c48e8ff9d2e0row1_col0\" class=\"data row1 col0\" >Documents</td>\n",
       "                        <td id=\"T_1485fdca_31a1_11eb_87ec_c48e8ff9d2e0row1_col1\" class=\"data row1 col1\" >102</td>\n",
       "            </tr>\n",
       "            <tr>\n",
       "                                <td id=\"T_1485fdca_31a1_11eb_87ec_c48e8ff9d2e0row2_col0\" class=\"data row2 col0\" >Vocab Size</td>\n",
       "                        <td id=\"T_1485fdca_31a1_11eb_87ec_c48e8ff9d2e0row2_col1\" class=\"data row2 col1\" >1266</td>\n",
       "            </tr>\n",
       "            <tr>\n",
       "                                <td id=\"T_1485fdca_31a1_11eb_87ec_c48e8ff9d2e0row3_col0\" class=\"data row3 col0\" >Custom Stopwords</td>\n",
       "                        <td id=\"T_1485fdca_31a1_11eb_87ec_c48e8ff9d2e0row3_col1\" class=\"data row3 col1\" >True</td>\n",
       "            </tr>\n",
       "    </tbody></table>"
      ],
      "text/plain": [
       "<pandas.io.formats.style.Styler at 0x2974cd87c88>"
      ]
     },
     "metadata": {},
     "output_type": "display_data"
    }
   ],
   "source": [
    "exp_nlp = setup(data = pos_review, target = 'r_text',\n",
    "                custom_stopwords = [ 'hotel', 'room', 'nice', 'good', 'restaurant', 'food'])"
   ]
  },
  {
   "cell_type": "code",
   "execution_count": 5,
   "metadata": {},
   "outputs": [
    {
     "name": "stdout",
     "output_type": "stream",
     "text": [
      "LdaModel(num_terms=1266, num_topics=4, decay=0.5, chunksize=100)\n"
     ]
    }
   ],
   "source": [
    "#create an LDA model\n",
    "lda_pos_custom = create_model('lda')\n",
    "print(lda_pos_custom)"
   ]
  },
  {
   "cell_type": "code",
   "execution_count": 6,
   "metadata": {},
   "outputs": [],
   "source": [
    "apply_lda_pos = assign_model(lda_pos_custom)"
   ]
  },
  {
   "cell_type": "code",
   "execution_count": 7,
   "metadata": {},
   "outputs": [
    {
     "data": {
      "text/html": [
       "<div>\n",
       "<style scoped>\n",
       "    .dataframe tbody tr th:only-of-type {\n",
       "        vertical-align: middle;\n",
       "    }\n",
       "\n",
       "    .dataframe tbody tr th {\n",
       "        vertical-align: top;\n",
       "    }\n",
       "\n",
       "    .dataframe thead th {\n",
       "        text-align: right;\n",
       "    }\n",
       "</style>\n",
       "<table border=\"1\" class=\"dataframe\">\n",
       "  <thead>\n",
       "    <tr style=\"text-align: right;\">\n",
       "      <th></th>\n",
       "      <th>Unnamed: 0</th>\n",
       "      <th>r_points</th>\n",
       "      <th>r_text</th>\n",
       "      <th>place</th>\n",
       "      <th>scores</th>\n",
       "      <th>compound</th>\n",
       "      <th>score</th>\n",
       "      <th>Topic_0</th>\n",
       "      <th>Topic_1</th>\n",
       "      <th>Topic_2</th>\n",
       "      <th>Topic_3</th>\n",
       "      <th>Dominant_Topic</th>\n",
       "      <th>Perc_Dominant_Topic</th>\n",
       "    </tr>\n",
       "  </thead>\n",
       "  <tbody>\n",
       "    <tr>\n",
       "      <th>0</th>\n",
       "      <td>1</td>\n",
       "      <td>50</td>\n",
       "      <td>place show civilized human much say go see</td>\n",
       "      <td>Museum of Barbarism</td>\n",
       "      <td>{'neg': 0.0, 'neu': 1.0, 'pos': 0.0, 'compound...</td>\n",
       "      <td>0.0000</td>\n",
       "      <td>pos</td>\n",
       "      <td>0.003666</td>\n",
       "      <td>0.977176</td>\n",
       "      <td>0.008888</td>\n",
       "      <td>0.010270</td>\n",
       "      <td>Topic 1</td>\n",
       "      <td>0.98</td>\n",
       "    </tr>\n",
       "    <tr>\n",
       "      <th>1</th>\n",
       "      <td>6</td>\n",
       "      <td>50</td>\n",
       "      <td>museum small suitable sensitive people kid rea...</td>\n",
       "      <td>Museum of Barbarism</td>\n",
       "      <td>{'neg': 0.035, 'neu': 0.827, 'pos': 0.138, 'co...</td>\n",
       "      <td>0.7171</td>\n",
       "      <td>pos</td>\n",
       "      <td>0.001753</td>\n",
       "      <td>0.262616</td>\n",
       "      <td>0.668306</td>\n",
       "      <td>0.067325</td>\n",
       "      <td>Topic 2</td>\n",
       "      <td>0.67</td>\n",
       "    </tr>\n",
       "    <tr>\n",
       "      <th>2</th>\n",
       "      <td>8</td>\n",
       "      <td>10</td>\n",
       "      <td>believe nowday people choose visit museum war ...</td>\n",
       "      <td>Museum of Barbarism</td>\n",
       "      <td>{'neg': 0.099, 'neu': 0.79, 'pos': 0.111, 'com...</td>\n",
       "      <td>0.3382</td>\n",
       "      <td>pos</td>\n",
       "      <td>0.001862</td>\n",
       "      <td>0.478242</td>\n",
       "      <td>0.004513</td>\n",
       "      <td>0.515383</td>\n",
       "      <td>Topic 3</td>\n",
       "      <td>0.52</td>\n",
       "    </tr>\n",
       "    <tr>\n",
       "      <th>3</th>\n",
       "      <td>0</td>\n",
       "      <td>30</td>\n",
       "      <td>note casino sit drink relax snack find odd iro...</td>\n",
       "      <td>Golden Tulip Nicosia Hotel and Casino</td>\n",
       "      <td>{'neg': 0.051, 'neu': 0.797, 'pos': 0.152, 'co...</td>\n",
       "      <td>0.9134</td>\n",
       "      <td>pos</td>\n",
       "      <td>0.000834</td>\n",
       "      <td>0.890602</td>\n",
       "      <td>0.032763</td>\n",
       "      <td>0.075801</td>\n",
       "      <td>Topic 1</td>\n",
       "      <td>0.89</td>\n",
       "    </tr>\n",
       "    <tr>\n",
       "      <th>4</th>\n",
       "      <td>1</td>\n",
       "      <td>40</td>\n",
       "      <td>place renovate really casino staff friendly up...</td>\n",
       "      <td>Golden Tulip Nicosia Hotel and Casino</td>\n",
       "      <td>{'neg': 0.104, 'neu': 0.769, 'pos': 0.127, 'co...</td>\n",
       "      <td>0.3582</td>\n",
       "      <td>pos</td>\n",
       "      <td>0.334262</td>\n",
       "      <td>0.659941</td>\n",
       "      <td>0.002689</td>\n",
       "      <td>0.003107</td>\n",
       "      <td>Topic 1</td>\n",
       "      <td>0.66</td>\n",
       "    </tr>\n",
       "    <tr>\n",
       "      <th>...</th>\n",
       "      <td>...</td>\n",
       "      <td>...</td>\n",
       "      <td>...</td>\n",
       "      <td>...</td>\n",
       "      <td>...</td>\n",
       "      <td>...</td>\n",
       "      <td>...</td>\n",
       "      <td>...</td>\n",
       "      <td>...</td>\n",
       "      <td>...</td>\n",
       "      <td>...</td>\n",
       "      <td>...</td>\n",
       "      <td>...</td>\n",
       "    </tr>\n",
       "    <tr>\n",
       "      <th>97</th>\n",
       "      <td>42</td>\n",
       "      <td>40</td>\n",
       "      <td>breakfast rich cake italian breakfast also cas...</td>\n",
       "      <td>Merit Lefkosa Hotel &amp; Casino</td>\n",
       "      <td>{'neg': 0.0, 'neu': 0.755, 'pos': 0.245, 'comp...</td>\n",
       "      <td>0.9455</td>\n",
       "      <td>pos</td>\n",
       "      <td>0.001657</td>\n",
       "      <td>0.989687</td>\n",
       "      <td>0.004016</td>\n",
       "      <td>0.004641</td>\n",
       "      <td>Topic 1</td>\n",
       "      <td>0.99</td>\n",
       "    </tr>\n",
       "    <tr>\n",
       "      <th>98</th>\n",
       "      <td>44</td>\n",
       "      <td>30</td>\n",
       "      <td>book travel business purpose modern clean cent...</td>\n",
       "      <td>Merit Lefkosa Hotel &amp; Casino</td>\n",
       "      <td>{'neg': 0.0, 'neu': 0.819, 'pos': 0.181, 'comp...</td>\n",
       "      <td>0.9544</td>\n",
       "      <td>pos</td>\n",
       "      <td>0.000811</td>\n",
       "      <td>0.994948</td>\n",
       "      <td>0.001967</td>\n",
       "      <td>0.002273</td>\n",
       "      <td>Topic 1</td>\n",
       "      <td>0.99</td>\n",
       "    </tr>\n",
       "    <tr>\n",
       "      <th>99</th>\n",
       "      <td>45</td>\n",
       "      <td>40</td>\n",
       "      <td>service easy walk distance old walled city nor...</td>\n",
       "      <td>Merit Lefkosa Hotel &amp; Casino</td>\n",
       "      <td>{'neg': 0.0, 'neu': 0.791, 'pos': 0.209, 'comp...</td>\n",
       "      <td>0.9144</td>\n",
       "      <td>pos</td>\n",
       "      <td>0.001152</td>\n",
       "      <td>0.801071</td>\n",
       "      <td>0.194551</td>\n",
       "      <td>0.003226</td>\n",
       "      <td>Topic 1</td>\n",
       "      <td>0.80</td>\n",
       "    </tr>\n",
       "    <tr>\n",
       "      <th>100</th>\n",
       "      <td>46</td>\n",
       "      <td>40</td>\n",
       "      <td>stay golden day area come back choose stay mer...</td>\n",
       "      <td>Merit Lefkosa Hotel &amp; Casino</td>\n",
       "      <td>{'neg': 0.059, 'neu': 0.756, 'pos': 0.185, 'co...</td>\n",
       "      <td>0.9565</td>\n",
       "      <td>pos</td>\n",
       "      <td>0.000751</td>\n",
       "      <td>0.001354</td>\n",
       "      <td>0.001820</td>\n",
       "      <td>0.996075</td>\n",
       "      <td>Topic 3</td>\n",
       "      <td>1.00</td>\n",
       "    </tr>\n",
       "    <tr>\n",
       "      <th>101</th>\n",
       "      <td>47</td>\n",
       "      <td>50</td>\n",
       "      <td>new year old part chain great disappointed go ...</td>\n",
       "      <td>Merit Lefkosa Hotel &amp; Casino</td>\n",
       "      <td>{'neg': 0.01, 'neu': 0.843, 'pos': 0.147, 'com...</td>\n",
       "      <td>0.9636</td>\n",
       "      <td>pos</td>\n",
       "      <td>0.000668</td>\n",
       "      <td>0.001204</td>\n",
       "      <td>0.996257</td>\n",
       "      <td>0.001871</td>\n",
       "      <td>Topic 2</td>\n",
       "      <td>1.00</td>\n",
       "    </tr>\n",
       "  </tbody>\n",
       "</table>\n",
       "<p>102 rows × 13 columns</p>\n",
       "</div>"
      ],
      "text/plain": [
       "     Unnamed: 0  r_points                                             r_text  \\\n",
       "0             1        50         place show civilized human much say go see   \n",
       "1             6        50  museum small suitable sensitive people kid rea...   \n",
       "2             8        10  believe nowday people choose visit museum war ...   \n",
       "3             0        30  note casino sit drink relax snack find odd iro...   \n",
       "4             1        40  place renovate really casino staff friendly up...   \n",
       "..          ...       ...                                                ...   \n",
       "97           42        40  breakfast rich cake italian breakfast also cas...   \n",
       "98           44        30  book travel business purpose modern clean cent...   \n",
       "99           45        40  service easy walk distance old walled city nor...   \n",
       "100          46        40  stay golden day area come back choose stay mer...   \n",
       "101          47        50  new year old part chain great disappointed go ...   \n",
       "\n",
       "                                     place  \\\n",
       "0                      Museum of Barbarism   \n",
       "1                      Museum of Barbarism   \n",
       "2                      Museum of Barbarism   \n",
       "3    Golden Tulip Nicosia Hotel and Casino   \n",
       "4    Golden Tulip Nicosia Hotel and Casino   \n",
       "..                                     ...   \n",
       "97            Merit Lefkosa Hotel & Casino   \n",
       "98            Merit Lefkosa Hotel & Casino   \n",
       "99            Merit Lefkosa Hotel & Casino   \n",
       "100           Merit Lefkosa Hotel & Casino   \n",
       "101           Merit Lefkosa Hotel & Casino   \n",
       "\n",
       "                                                scores  compound score  \\\n",
       "0    {'neg': 0.0, 'neu': 1.0, 'pos': 0.0, 'compound...    0.0000   pos   \n",
       "1    {'neg': 0.035, 'neu': 0.827, 'pos': 0.138, 'co...    0.7171   pos   \n",
       "2    {'neg': 0.099, 'neu': 0.79, 'pos': 0.111, 'com...    0.3382   pos   \n",
       "3    {'neg': 0.051, 'neu': 0.797, 'pos': 0.152, 'co...    0.9134   pos   \n",
       "4    {'neg': 0.104, 'neu': 0.769, 'pos': 0.127, 'co...    0.3582   pos   \n",
       "..                                                 ...       ...   ...   \n",
       "97   {'neg': 0.0, 'neu': 0.755, 'pos': 0.245, 'comp...    0.9455   pos   \n",
       "98   {'neg': 0.0, 'neu': 0.819, 'pos': 0.181, 'comp...    0.9544   pos   \n",
       "99   {'neg': 0.0, 'neu': 0.791, 'pos': 0.209, 'comp...    0.9144   pos   \n",
       "100  {'neg': 0.059, 'neu': 0.756, 'pos': 0.185, 'co...    0.9565   pos   \n",
       "101  {'neg': 0.01, 'neu': 0.843, 'pos': 0.147, 'com...    0.9636   pos   \n",
       "\n",
       "      Topic_0   Topic_1   Topic_2   Topic_3 Dominant_Topic  \\\n",
       "0    0.003666  0.977176  0.008888  0.010270        Topic 1   \n",
       "1    0.001753  0.262616  0.668306  0.067325        Topic 2   \n",
       "2    0.001862  0.478242  0.004513  0.515383        Topic 3   \n",
       "3    0.000834  0.890602  0.032763  0.075801        Topic 1   \n",
       "4    0.334262  0.659941  0.002689  0.003107        Topic 1   \n",
       "..        ...       ...       ...       ...            ...   \n",
       "97   0.001657  0.989687  0.004016  0.004641        Topic 1   \n",
       "98   0.000811  0.994948  0.001967  0.002273        Topic 1   \n",
       "99   0.001152  0.801071  0.194551  0.003226        Topic 1   \n",
       "100  0.000751  0.001354  0.001820  0.996075        Topic 3   \n",
       "101  0.000668  0.001204  0.996257  0.001871        Topic 2   \n",
       "\n",
       "     Perc_Dominant_Topic  \n",
       "0                   0.98  \n",
       "1                   0.67  \n",
       "2                   0.52  \n",
       "3                   0.89  \n",
       "4                   0.66  \n",
       "..                   ...  \n",
       "97                  0.99  \n",
       "98                  0.99  \n",
       "99                  0.80  \n",
       "100                 1.00  \n",
       "101                 1.00  \n",
       "\n",
       "[102 rows x 13 columns]"
      ]
     },
     "execution_count": 7,
     "metadata": {},
     "output_type": "execute_result"
    }
   ],
   "source": [
    "apply_lda_pos"
   ]
  },
  {
   "cell_type": "code",
   "execution_count": 8,
   "metadata": {},
   "outputs": [
    {
     "data": {
      "application/vnd.jupyter.widget-view+json": {
       "model_id": "76051c3a26184680b45552bbcb2d4164",
       "version_major": 2,
       "version_minor": 0
      },
      "text/plain": [
       "interactive(children=(ToggleButtons(description='Plot Type:', icons=('',), options=(('Frequency Plot', 'freque…"
      ]
     },
     "metadata": {},
     "output_type": "display_data"
    }
   ],
   "source": [
    "evaluate_model(lda_pos_custom)"
   ]
  },
  {
   "cell_type": "code",
   "execution_count": 9,
   "metadata": {},
   "outputs": [
    {
     "data": {
      "text/html": [
       "        <script type=\"text/javascript\">\n",
       "        window.PlotlyConfig = {MathJaxConfig: 'local'};\n",
       "        if (window.MathJax) {MathJax.Hub.Config({SVG: {font: \"STIX-Web\"}});}\n",
       "        if (typeof require !== 'undefined') {\n",
       "        require.undef(\"plotly\");\n",
       "        requirejs.config({\n",
       "            paths: {\n",
       "                'plotly': ['https://cdn.plot.ly/plotly-latest.min']\n",
       "            }\n",
       "        });\n",
       "        require(['plotly'], function(Plotly) {\n",
       "            window._Plotly = Plotly;\n",
       "        });\n",
       "        }\n",
       "        </script>\n",
       "        "
      ]
     },
     "metadata": {},
     "output_type": "display_data"
    },
    {
     "data": {
      "text/html": [
       "\n",
       "<link rel=\"stylesheet\" type=\"text/css\" href=\"https://cdn.rawgit.com/bmabey/pyLDAvis/files/ldavis.v1.0.0.css\">\n",
       "\n",
       "\n",
       "<div id=\"ldavis_el1381228490030669521803246689\"></div>\n",
       "<script type=\"text/javascript\">\n",
       "\n",
       "var ldavis_el1381228490030669521803246689_data = {\"mdsDat\": {\"x\": [-0.10047540779078504, -0.01681332404533624, 0.28500531899971443, -0.16771658716359317], \"y\": [0.1343726534426964, 0.12936012430385826, -0.009090112710791576, -0.2546426650357631], \"topics\": [1, 2, 3, 4], \"cluster\": [1, 1, 1, 1], \"Freq\": [78.823974609375, 12.553337097167969, 5.2704057693481445, 3.3522753715515137]}, \"tinfo\": {\"Term\": [\"stay\", \"casino\", \"business\", \"breakfast\", \"go\", \"area\", \"get\", \"day\", \"great\", \"thing\", \"well\", \"ask\", \"much\", \"come\", \"walk\", \"part\", \"spa\", \"side\", \"forget\", \"serve\", \"minute\", \"open\", \"merit\", \"reception\", \"pay\", \"city\", \"old\", \"line\", \"euro\", \"enough\", \"really\", \"turkish\", \"location\", \"look\", \"feel\", \"visit\", \"give\", \"evening\", \"speak\", \"leave\", \"large\", \"even\", \"lovely\", \"taxi\", \"bathroom\", \"especially\", \"bad\", \"want\", \"say\", \"spacious\", \"people\", \"never\", \"car\", \"table\", \"selection\", \"take\", \"night\", \"way\", \"fine\", \"golden_tulip\", \"time\", \"staff\", \"recommend\", \"also\", \"include\", \"helpful\", \"floor\", \"service\", \"clean\", \"pool\", \"casino\", \"drink\", \"friendly\", \"book\", \"breakfast\", \"stay\", \"go\", \"make\", \"place\", \"get\", \"day\", \"free\", \"comfortable\", \"well\", \"highly\", \"event\", \"certainly\", \"attentive\", \"parking\", \"quick\", \"superb\", \"several\", \"outstanding\", \"pack\", \"stayed\", \"safe\", \"world\", \"stuff\", \"beverage\", \"thoroughly\", \"downside\", \"spot\", \"one\", \"card\", \"double\", \"parent\", \"bar\", \"arrangement\", \"ambience\", \"hang\", \"availability\", \"equally\", \"marvellous\", \"metre\", \"reasonable\", \"real\", \"tasty\", \"slow\", \"appoint\", \"delicious\", \"amenity\", \"great\", \"breakfast\", \"enjoy\", \"stay\", \"bit\", \"comfortable\", \"still\", \"price\", \"overall\", \"clean\", \"staff\", \"casino\", \"need\", \"gym\", \"lot\", \"service\", \"make\", \"place\", \"use\", \"variety\", \"work\", \"day\", \"well\", \"find\", \"friendly\", \"pool\", \"check\", \"forget\", \"choose\", \"small\", \"outdoor\", \"expensive\", \"weak\", \"wake\", \"position\", \"golden\", \"professional\", \"big\", \"suggest\", \"call\", \"treatment\", \"back\", \"spa\", \"close\", \"view\", \"massage\", \"enough\", \"point\", \"equip\", \"choice\", \"morning\", \"ask\", \"area\", \"merit\", \"reception\", \"serve\", \"come\", \"stay\", \"well\", \"day\", \"great\", \"breakfast\", \"part\", \"line\", \"old\", \"city\", \"cheap\", \"green\", \"type\", \"weekend\", \"eatery\", \"disappointed\", \"chain\", \"altho\", \"agood\", \"primarily\", \"fish\", \"lunch\", \"cafe\", \"note\", \"busy\", \"pleasure\", \"venue\", \"dinner\", \"new\", \"expect\", \"year\", \"thing\", \"euro\", \"pay\", \"open\", \"minute\", \"business\", \"side\", \"walk\", \"great\", \"go\", \"get\", \"much\", \"casino\"], \"Freq\": [57.0, 43.0, 18.0, 50.0, 21.0, 16.0, 18.0, 24.0, 22.0, 12.0, 21.0, 13.0, 13.0, 14.0, 11.0, 8.0, 10.0, 10.0, 9.0, 10.0, 8.0, 8.0, 9.0, 10.0, 7.0, 6.0, 6.0, 5.0, 6.0, 6.0, 26.152450561523438, 24.488372802734375, 14.53033447265625, 12.915053367614746, 12.90737533569336, 12.885907173156738, 12.071057319641113, 12.086177825927734, 12.076949119567871, 11.249384880065918, 11.210758209228516, 10.429303169250488, 11.979239463806152, 10.418607711791992, 10.396387100219727, 9.602272987365723, 9.602389335632324, 9.600114822387695, 9.595754623413086, 12.667699813842773, 9.566028594970703, 8.774456024169922, 8.751863479614258, 7.9504923820495605, 7.9488139152526855, 7.947241306304932, 20.99435043334961, 7.933652400970459, 7.924617290496826, 7.894682884216309, 28.24220848083496, 54.48624801635742, 10.842777252197266, 20.962100982666016, 12.278525352478027, 21.7150936126709, 13.615226745605469, 28.820526123046875, 31.079010009765625, 21.23588752746582, 36.989200592041016, 15.309167861938477, 18.7246150970459, 12.639936447143555, 39.201210021972656, 41.981781005859375, 18.05731201171875, 16.124732971191406, 15.357489585876465, 15.447120666503906, 18.017414093017578, 13.380233764648438, 13.795644760131836, 15.05029296875, 1.8308387994766235, 1.4415946006774902, 1.43833589553833, 1.4378299713134766, 1.4307588338851929, 1.4309449195861816, 1.4174408912658691, 1.0415583848953247, 1.0414096117019653, 1.0413200855255127, 1.0394421815872192, 1.0398088693618774, 1.0398545265197754, 1.0397895574569702, 1.034900188446045, 1.0338257551193237, 1.0343058109283447, 1.0260660648345947, 1.0259044170379639, 1.0242524147033691, 0.99969881772995, 0.9383813738822937, 2.085148572921753, 0.6414808034896851, 0.6414808034896851, 0.6414808034896851, 0.641480565071106, 0.641480565071106, 0.641480565071106, 0.641477108001709, 1.0225931406021118, 1.6390044689178467, 1.3658068180084229, 1.362419605255127, 1.3412582874298096, 1.8122990131378174, 1.442084550857544, 4.5573554039001465, 6.2827839851379395, 2.647282361984253, 6.1550445556640625, 2.336106300354004, 3.005650281906128, 1.7004326581954956, 2.1803195476531982, 2.1561174392700195, 3.429896831512451, 4.125765323638916, 3.4819562435150146, 2.163540840148926, 1.4781266450881958, 1.9230406284332275, 2.9479470252990723, 2.291797399520874, 2.262040376663208, 2.00708270072937, 1.7001045942306519, 1.8354136943817139, 2.0497329235076904, 1.9127471446990967, 1.7526497840881348, 1.8026224374771118, 1.8060693740844727, 1.6827154159545898, 8.573911666870117, 4.681498050689697, 4.794319152832031, 4.450252532958984, 4.730499744415283, 4.276289939880371, 4.276289939880371, 4.276289939880371, 4.276289939880371, 4.501990795135498, 4.904292106628418, 4.389022350311279, 4.675372123718262, 4.329747676849365, 4.60806941986084, 8.795609474182129, 4.621212959289551, 4.535221576690674, 4.384334564208984, 4.826570987701416, 4.389766216278076, 4.445869445800781, 4.669114112854004, 4.529982089996338, 8.796528816223145, 8.876106262207031, 4.757441520690918, 4.5462188720703125, 4.471568584442139, 4.549959182739258, 9.163461685180664, 4.697353839874268, 4.6436848640441895, 4.608616828918457, 4.575747966766357, 7.858484745025635, 5.154302597045898, 5.290005207061768, 5.391782283782959, 2.6215248107910156, 2.587430715560913, 2.587282180786133, 2.5530269145965576, 2.5530269145965576, 2.5530269145965576, 2.5530269145965576, 2.5530269145965576, 2.5530269145965576, 2.5530269145965576, 2.5869863033294678, 2.6550426483154297, 2.5860419273376465, 2.654109477996826, 2.721597909927368, 2.5861101150512695, 2.6197733879089355, 2.720517158508301, 2.582892894744873, 2.653198719024658, 2.5946500301361084, 5.213786602020264, 2.5939269065856934, 2.5907387733459473, 2.608665704727173, 2.596463203430176, 5.226104259490967, 2.7096762657165527, 2.6821930408477783, 2.6694867610931396, 2.645411491394043, 2.6349594593048096, 2.6165049076080322, 2.6153390407562256], \"Total\": [57.0, 43.0, 18.0, 50.0, 21.0, 16.0, 18.0, 24.0, 22.0, 12.0, 21.0, 13.0, 13.0, 14.0, 11.0, 8.0, 10.0, 10.0, 9.0, 10.0, 8.0, 8.0, 9.0, 10.0, 7.0, 6.0, 6.0, 5.0, 6.0, 6.0, 26.45277214050293, 24.788925170898438, 14.833566665649414, 13.213400840759277, 13.209927558898926, 13.196680068969727, 12.370087623596191, 12.386174201965332, 12.380552291870117, 11.547943115234375, 11.519255638122559, 10.727258682250977, 12.323511123657227, 10.721199035644531, 10.710741996765137, 9.901739120483398, 9.90239143371582, 9.900700569152832, 9.897344589233398, 13.071850776672363, 9.871438026428223, 9.072328567504883, 9.060843467712402, 8.248051643371582, 8.246562004089355, 8.246102333068848, 21.786376953125, 8.238679885864258, 8.232514381408691, 8.218332290649414, 29.517349243164062, 58.67339324951172, 11.300641059875488, 22.16748046875, 12.884525299072266, 23.346044540405273, 14.362075805664062, 31.82623863220215, 34.57060241699219, 23.100522994995117, 43.12361145019531, 16.44816780090332, 20.588254928588867, 13.471930503845215, 50.081031799316406, 57.32158660888672, 21.011310577392578, 18.472732543945312, 17.675729751586914, 18.990182876586914, 24.731801986694336, 15.052659034729004, 16.859130859375, 21.681358337402344, 2.400125741958618, 1.9974502325057983, 2.000239610671997, 1.9995654821395874, 2.006222724914551, 2.0081160068511963, 2.0175564289093018, 1.597406268119812, 1.5972719192504883, 1.5972009897232056, 1.595595121383667, 1.598562240600586, 1.5991755723953247, 1.5991175174713135, 1.6025886535644531, 1.6034873723983765, 1.6049684286117554, 1.610861897468567, 1.6107251644134521, 1.6155439615249634, 1.63030207157135, 1.6835367679595947, 3.7872235774993896, 1.1973285675048828, 1.1973285675048828, 1.1973285675048828, 1.1973283290863037, 1.1973283290863037, 1.1973283290863037, 1.1973251104354858, 1.930345892906189, 3.4381465911865234, 2.8902804851531982, 2.908370018005371, 2.9202919006347656, 4.800801753997803, 3.6462602615356445, 22.37958526611328, 50.081031799316406, 11.45654582977295, 57.32158660888672, 9.314770698547363, 16.859130859375, 5.0305867195129395, 9.336995124816895, 9.50714111328125, 34.57060241699219, 58.67339324951172, 43.12361145019531, 11.978163719177246, 4.187914848327637, 8.93031120300293, 31.82623863220215, 18.472732543945312, 17.675729751586914, 13.808000564575195, 8.337057113647461, 13.156733512878418, 24.731801986694336, 21.681358337402344, 12.410134315490723, 20.588254928588867, 23.100522994995117, 10.837198257446289, 9.359158515930176, 5.463067531585693, 5.603277206420898, 5.222098350524902, 5.576390743255615, 5.043671131134033, 5.043671131134033, 5.043671131134033, 5.043671131134033, 5.318260192871094, 5.796565055847168, 5.188178539276123, 5.5312981605529785, 5.156231880187988, 5.548967361450195, 10.869710922241211, 5.820775508880615, 5.736064910888672, 5.6082658767700195, 6.319817543029785, 5.990760326385498, 6.0710577964782715, 6.377199172973633, 6.3850908279418945, 13.037152290344238, 16.950637817382812, 9.855164527893066, 10.11404800415039, 10.725556373596191, 14.624341011047363, 57.32158660888672, 21.681358337402344, 24.731801986694336, 22.37958526611328, 50.081031799316406, 8.657477378845215, 5.935185432434082, 6.105486869812012, 6.2611260414123535, 3.41213321685791, 3.3696694374084473, 3.3707919120788574, 3.3295936584472656, 3.3295936584472656, 3.3295936584472656, 3.3295936584472656, 3.3295936584472656, 3.3295936584472656, 3.3295936584472656, 3.375535726547241, 3.4695498943328857, 3.3812851905822754, 3.4742791652679443, 3.5691537857055664, 3.397397994995117, 3.455825090408325, 3.6169614791870117, 3.4734253883361816, 4.38416051864624, 4.850293159484863, 12.010896682739258, 6.529828071594238, 7.426856994628906, 8.628890991210938, 8.95229721069336, 18.564516067504883, 10.477928161621094, 11.933542251586914, 22.37958526611328, 21.011310577392578, 18.990182876586914, 13.362688064575195, 43.12361145019531], \"Category\": [\"Default\", \"Default\", \"Default\", \"Default\", \"Default\", \"Default\", \"Default\", \"Default\", \"Default\", \"Default\", \"Default\", \"Default\", \"Default\", \"Default\", \"Default\", \"Default\", \"Default\", \"Default\", \"Default\", \"Default\", \"Default\", \"Default\", \"Default\", \"Default\", \"Default\", \"Default\", \"Default\", \"Default\", \"Default\", \"Default\", \"Topic1\", \"Topic1\", \"Topic1\", \"Topic1\", \"Topic1\", \"Topic1\", \"Topic1\", \"Topic1\", \"Topic1\", \"Topic1\", \"Topic1\", \"Topic1\", \"Topic1\", \"Topic1\", \"Topic1\", \"Topic1\", \"Topic1\", \"Topic1\", \"Topic1\", \"Topic1\", \"Topic1\", \"Topic1\", \"Topic1\", \"Topic1\", \"Topic1\", \"Topic1\", \"Topic1\", \"Topic1\", \"Topic1\", \"Topic1\", \"Topic1\", \"Topic1\", \"Topic1\", \"Topic1\", \"Topic1\", \"Topic1\", \"Topic1\", \"Topic1\", \"Topic1\", \"Topic1\", \"Topic1\", \"Topic1\", \"Topic1\", \"Topic1\", \"Topic1\", \"Topic1\", \"Topic1\", \"Topic1\", \"Topic1\", \"Topic1\", \"Topic1\", \"Topic1\", \"Topic1\", \"Topic1\", \"Topic2\", \"Topic2\", \"Topic2\", \"Topic2\", \"Topic2\", \"Topic2\", \"Topic2\", \"Topic2\", \"Topic2\", \"Topic2\", \"Topic2\", \"Topic2\", \"Topic2\", \"Topic2\", \"Topic2\", \"Topic2\", \"Topic2\", \"Topic2\", \"Topic2\", \"Topic2\", \"Topic2\", \"Topic2\", \"Topic2\", \"Topic2\", \"Topic2\", \"Topic2\", \"Topic2\", \"Topic2\", \"Topic2\", \"Topic2\", \"Topic2\", \"Topic2\", \"Topic2\", \"Topic2\", \"Topic2\", \"Topic2\", \"Topic2\", \"Topic2\", \"Topic2\", \"Topic2\", \"Topic2\", \"Topic2\", \"Topic2\", \"Topic2\", \"Topic2\", \"Topic2\", \"Topic2\", \"Topic2\", \"Topic2\", \"Topic2\", \"Topic2\", \"Topic2\", \"Topic2\", \"Topic2\", \"Topic2\", \"Topic2\", \"Topic2\", \"Topic2\", \"Topic2\", \"Topic2\", \"Topic2\", \"Topic2\", \"Topic2\", \"Topic2\", \"Topic3\", \"Topic3\", \"Topic3\", \"Topic3\", \"Topic3\", \"Topic3\", \"Topic3\", \"Topic3\", \"Topic3\", \"Topic3\", \"Topic3\", \"Topic3\", \"Topic3\", \"Topic3\", \"Topic3\", \"Topic3\", \"Topic3\", \"Topic3\", \"Topic3\", \"Topic3\", \"Topic3\", \"Topic3\", \"Topic3\", \"Topic3\", \"Topic3\", \"Topic3\", \"Topic3\", \"Topic3\", \"Topic3\", \"Topic3\", \"Topic3\", \"Topic3\", \"Topic3\", \"Topic3\", \"Topic3\", \"Topic4\", \"Topic4\", \"Topic4\", \"Topic4\", \"Topic4\", \"Topic4\", \"Topic4\", \"Topic4\", \"Topic4\", \"Topic4\", \"Topic4\", \"Topic4\", \"Topic4\", \"Topic4\", \"Topic4\", \"Topic4\", \"Topic4\", \"Topic4\", \"Topic4\", \"Topic4\", \"Topic4\", \"Topic4\", \"Topic4\", \"Topic4\", \"Topic4\", \"Topic4\", \"Topic4\", \"Topic4\", \"Topic4\", \"Topic4\", \"Topic4\", \"Topic4\", \"Topic4\", \"Topic4\", \"Topic4\", \"Topic4\", \"Topic4\", \"Topic4\"], \"logprob\": [30.0, 29.0, 28.0, 27.0, 26.0, 25.0, 24.0, 23.0, 22.0, 21.0, 20.0, 19.0, 18.0, 17.0, 16.0, 15.0, 14.0, 13.0, 12.0, 11.0, 10.0, 9.0, 8.0, 7.0, 6.0, 5.0, 4.0, 3.0, 2.0, 1.0, -4.861700057983398, -4.9274001121521, -5.449399948120117, -5.567200183868408, -5.567800045013428, -5.569499969482422, -5.634799957275391, -5.633600234985352, -5.634300231933594, -5.7052998542785645, -5.708700180053711, -5.781000137329102, -5.642399787902832, -5.7820000648498535, -5.784200191497803, -5.86359977722168, -5.86359977722168, -5.863800048828125, -5.864299774169922, -5.586599826812744, -5.867400169372559, -5.953800201416016, -5.956399917602539, -6.0524001121521, -6.052599906921387, -6.052800178527832, -5.081399917602539, -6.054500102996826, -6.055600166320801, -6.0594000816345215, -4.784800052642822, -4.127699851989746, -5.742099761962891, -5.082900047302246, -5.617800235748291, -5.047599792480469, -5.514400005340576, -4.764500141143799, -4.6890997886657715, -5.069900035858154, -4.514999866485596, -5.397200107574463, -5.195799827575684, -5.588799953460693, -4.456900119781494, -4.388400077819824, -5.232100009918213, -5.345300197601318, -5.394000053405762, -5.388199806213379, -5.234300136566162, -5.531799793243408, -5.501299858093262, -5.4141998291015625, -5.683599948883057, -5.922599792480469, -5.924900054931641, -5.925300121307373, -5.930200099945068, -5.930099964141846, -5.939499855041504, -6.247700214385986, -6.247799873352051, -6.247900009155273, -6.24970006942749, -6.2494001388549805, -6.249300003051758, -6.2494001388549805, -6.2540998458862305, -6.255099773406982, -6.254700183868408, -6.262700080871582, -6.262800216674805, -6.264400005340576, -6.288700103759766, -6.3520002365112305, -5.553599834442139, -6.732399940490723, -6.732399940490723, -6.732399940490723, -6.732399940490723, -6.732399940490723, -6.732399940490723, -6.732399940490723, -6.26609992980957, -5.794300079345703, -5.976600170135498, -5.979100227355957, -5.994800090789795, -5.69379997253418, -5.922299861907959, -4.771599769592285, -4.4506001472473145, -5.314899921417236, -4.471099853515625, -5.439899921417236, -5.187900066375732, -5.757500171661377, -5.508900165557861, -5.520100116729736, -5.0559000968933105, -4.871099948883057, -5.040800094604492, -5.516600131988525, -5.897600173950195, -5.634500026702881, -5.207300186157227, -5.459099769592285, -5.472099781036377, -5.591700077056885, -5.757699966430664, -5.681099891662598, -5.570700168609619, -5.639900207519531, -5.72730016708374, -5.699100017547607, -5.697199821472168, -5.76800012588501, -3.2718000411987305, -3.8768999576568604, -3.853100061416626, -3.9275999069213867, -3.866499900817871, -3.967400074005127, -3.967400074005127, -3.967400074005127, -3.967400074005127, -3.9159998893737793, -3.830399990081787, -3.9414000511169434, -3.878200054168701, -3.9549999237060547, -3.892699956893921, -3.246299982070923, -3.889899969100952, -3.908600091934204, -3.942500114440918, -3.846400022506714, -3.941200017929077, -3.928499937057495, -3.879499912261963, -3.9098000526428223, -3.2462000846862793, -3.2372000217437744, -3.86080002784729, -3.9061999320983887, -3.922800064086914, -3.905400037765503, -3.2053000926971436, -3.873500108718872, -3.884999990463257, -3.8926000595092773, -3.8996999263763428, -2.9065001010894775, -3.328200101852417, -3.3022000789642334, -3.2832000255584717, -4.004300117492676, -4.017399787902832, -4.017399787902832, -4.030799865722656, -4.030799865722656, -4.030799865722656, -4.030799865722656, -4.030799865722656, -4.030799865722656, -4.030799865722656, -4.017600059509277, -3.9916000366210938, -4.017899990081787, -3.9918999671936035, -3.9667999744415283, -4.017899990081787, -4.005000114440918, -3.9672000408172607, -4.019100189208984, -3.992300033569336, -4.014599800109863, -3.316699981689453, -4.014900207519531, -4.01609992980957, -4.009200096130371, -4.013899803161621, -3.3143999576568604, -3.9711999893188477, -3.9814000129699707, -3.9862000942230225, -3.9951999187469482, -3.9992001056671143, -4.006199836730957, -4.006700038909912], \"loglift\": [30.0, 29.0, 28.0, 27.0, 26.0, 25.0, 24.0, 23.0, 22.0, 21.0, 20.0, 19.0, 18.0, 17.0, 16.0, 15.0, 14.0, 13.0, 12.0, 11.0, 10.0, 9.0, 8.0, 7.0, 6.0, 5.0, 4.0, 3.0, 2.0, 1.0, 0.226500004529953, 0.22579999268054962, 0.21729999780654907, 0.2151000052690506, 0.21480000019073486, 0.21410000324249268, 0.2134999930858612, 0.2134000062942505, 0.21310000121593475, 0.2117999941110611, 0.21080000698566437, 0.20980000495910645, 0.20960000157356262, 0.2092999964952469, 0.20819999277591705, 0.20720000565052032, 0.20720000565052032, 0.2071000039577484, 0.2070000022649765, 0.20649999380111694, 0.20649999380111694, 0.2046000063419342, 0.20329999923706055, 0.2011999934911728, 0.2011999934911728, 0.20100000500679016, 0.20090000331401825, 0.20020000636577606, 0.19979999959468842, 0.19779999554157257, 0.19380000233650208, 0.1639000028371811, 0.19660000503063202, 0.18199999630451202, 0.18979999423027039, 0.1655000001192093, 0.18459999561309814, 0.1386999934911728, 0.1315000057220459, 0.15379999577999115, 0.08449999988079071, 0.16619999706745148, 0.14309999346733093, 0.17419999837875366, -0.007000000216066837, -0.07349999994039536, 0.08640000224113464, 0.10199999809265137, 0.09740000218153, 0.03150000050663948, -0.07880000025033951, 0.12020000070333481, 0.03739999979734421, -0.12710000574588776, 1.8043999671936035, 1.7490999698638916, 1.7453999519348145, 1.7453999519348145, 1.7371000051498413, 1.736299991607666, 1.722100019454956, 1.6475000381469727, 1.6475000381469727, 1.6474000215530396, 1.6466000080108643, 1.6450999975204468, 1.6447999477386475, 1.6447999477386475, 1.6378999948501587, 1.636299967765808, 1.6358000040054321, 1.6240999698638916, 1.6240999698638916, 1.6195000410079956, 1.5860999822616577, 1.4907000064849854, 1.4783999919891357, 1.4510999917984009, 1.4510999917984009, 1.4510999917984009, 1.4510999917984009, 1.4510999917984009, 1.4510999917984009, 1.4510999917984009, 1.4398000240325928, 1.3343000411987305, 1.325600028038025, 1.3169000148773193, 1.2970999479293823, 1.1009999513626099, 1.1476000547409058, 0.4837999939918518, -0.0006000000284984708, 0.6101999878883362, -0.15620000660419464, 0.6920999884605408, 0.3508000075817108, 0.9904999732971191, 0.6207000017166138, 0.5914000272750854, -0.2353000044822693, -0.5795999765396118, -0.44130000472068787, 0.3637999892234802, 1.0338000059127808, 0.5396000146865845, -0.30399999022483826, -0.011800000444054604, 0.019300000742077827, 0.14659999310970306, 0.4851999878883362, 0.1054999977350235, -0.41519999504089355, -0.35269999504089355, 0.11779999732971191, -0.3603000044822693, -0.47350001335144043, 0.2125999927520752, 2.8554000854492188, 2.7887001037597656, 2.787100076675415, 2.783099889755249, 2.778599977493286, 2.7780001163482666, 2.7780001163482666, 2.7780001163482666, 2.7780001163482666, 2.776400089263916, 2.775899887084961, 2.7757999897003174, 2.774899959564209, 2.768399953842163, 2.7572999000549316, 2.731300115585327, 2.7123000621795654, 2.708199977874756, 2.696899890899658, 2.6735000610351562, 2.6321001052856445, 2.631500005722046, 2.6312999725341797, 2.5998001098632812, 2.5495998859405518, 2.296099901199341, 2.2147998809814453, 2.143399953842163, 2.06820011138916, 1.7755000591278076, 1.1095999479293823, 1.413599967956543, 1.2704999446868896, 1.3628000020980835, 0.5501999855041504, 3.2987000942230225, 3.254499912261963, 3.25219988822937, 3.246000051498413, 3.1319000720977783, 3.1314001083374023, 3.13100004196167, 3.130000114440918, 3.130000114440918, 3.130000114440918, 3.130000114440918, 3.130000114440918, 3.130000114440918, 3.130000114440918, 3.129499912261963, 3.128000020980835, 3.1273999214172363, 3.126300096511841, 3.1243999004364014, 3.1226999759674072, 3.1185998916625977, 3.1106998920440674, 3.099299907684326, 2.8933000564575195, 2.76990008354187, 2.561000108718872, 2.4723000526428223, 2.342400074005127, 2.1993000507354736, 2.1577999591827393, 2.1278998851776123, 2.043100118637085, 1.9027999639511108, 1.2692999839782715, 1.3233000040054321, 1.4205000400543213, 1.7648999691009521, 0.5928999781608582]}, \"token.table\": {\"Topic\": [4, 1, 2, 4, 2, 1, 2, 1, 2, 1, 3, 2, 1, 3, 1, 2, 2, 1, 3, 1, 1, 2, 1, 1, 2, 1, 3, 1, 2, 1, 2, 1, 2, 3, 1, 2, 4, 1, 4, 4, 1, 3, 1, 1, 2, 1, 2, 4, 1, 2, 4, 1, 4, 1, 2, 1, 2, 3, 1, 3, 1, 4, 1, 2, 1, 2, 3, 1, 3, 1, 2, 1, 2, 3, 1, 2, 1, 4, 4, 1, 2, 1, 2, 1, 2, 4, 1, 2, 1, 2, 3, 2, 1, 2, 3, 1, 1, 4, 1, 1, 2, 1, 2, 4, 1, 3, 1, 1, 2, 1, 1, 4, 1, 2, 1, 3, 1, 2, 1, 2, 1, 2, 4, 1, 1, 4, 3, 1, 1, 2, 3, 4, 1, 4, 1, 2, 2, 1, 2, 1, 2, 1, 2, 1, 1, 1, 4, 1, 1, 1, 2, 1, 1, 4, 1, 2, 2, 1, 2, 3, 1, 2, 3, 2, 1, 4, 1, 2, 3, 1, 4, 1, 2, 1, 1, 4, 1, 2, 1, 4, 1, 4, 1, 2, 1, 4, 1, 3, 2, 1, 2, 2, 1, 2, 1, 2, 1, 4, 1, 4, 1, 1, 2, 1, 4, 1, 2, 3, 1, 2, 3, 1, 2, 4, 1, 3, 1, 2, 1, 2, 1, 1, 2, 1, 2, 3, 1, 1, 2, 1, 1, 1, 3, 1, 2, 2, 1, 4, 1, 2, 1, 3, 1, 2, 3, 1, 1, 1, 2, 1, 2, 1, 2, 3, 2, 1, 2, 1, 2, 1, 3, 1, 2, 1, 1, 1, 2, 1, 1, 4, 1, 2, 1, 2, 1, 3, 1, 1, 4, 1, 2, 1, 2, 1, 4, 1, 3, 1, 3, 1, 4, 1, 1, 3, 4, 1, 2, 3, 1, 2, 1, 2, 1, 4], \"Freq\": [0.9010108709335327, 0.9473336338996887, 0.04511112719774246, 0.9010108709335327, 0.8351926207542419, 0.5485072135925293, 0.27425360679626465, 0.6848630309104919, 0.34243151545524597, 0.47195863723754883, 0.5309534668922424, 0.8351926207542419, 0.3068154752254486, 0.6903347969055176, 0.5001086592674255, 0.5001086592674255, 0.8351927995681763, 0.18021370470523834, 0.9010685682296753, 1.0098570585250854, 0.5280913710594177, 0.5280913710594177, 0.9336421489715576, 0.6239904165267944, 0.6239904165267944, 0.17251595854759216, 0.8625798225402832, 0.7514945864677429, 0.21471275389194489, 0.9649693369865417, 0.07422841340303421, 0.7787379622459412, 0.11980583518743515, 0.09983819723129272, 0.6463944315910339, 0.053866203874349594, 0.2693310081958771, 0.2801784574985504, 0.8405353426933289, 0.8872365951538086, 0.18078938126564026, 0.9039469361305237, 0.9932850003242493, 0.6189865469932556, 0.6189865469932556, 0.8579986691474915, 0.06956745684146881, 0.06956745684146881, 0.49994009733200073, 0.49994009733200073, 0.9010108709335327, 0.29307180643081665, 0.8792153596878052, 0.8304729461669922, 0.18454954028129578, 0.15680864453315735, 0.15680864453315735, 0.7840432524681091, 0.1830473393201828, 0.9152367115020752, 0.1597156822681427, 0.7985783815383911, 0.8967156410217285, 0.08677893131971359, 0.17179840803146362, 0.17179840803146362, 0.8589920401573181, 0.6837915182113647, 0.3418957591056824, 0.8304105401039124, 0.1779451221227646, 0.727807879447937, 0.08086754381656647, 0.20216885209083557, 0.6248956322669983, 0.41659706830978394, 0.2764751613140106, 0.8294254541397095, 0.9010108709335327, 0.6133832335472107, 0.6133832335472107, 0.6230652332305908, 0.6230652332305908, 0.9119556546211243, 0.06079704686999321, 0.9010108709335327, 0.785577118396759, 0.2618590295314789, 0.1582324206829071, 0.1582324206829071, 0.7911620736122131, 0.8351927995681763, 0.1647159457206726, 0.1647159457206726, 0.6588637828826904, 1.0099235773086548, 0.6125735640525818, 0.45943015813827515, 0.9322046041488647, 0.968822181224823, 0.5006382465362549, 0.22809383273124695, 0.22809383273124695, 0.6842815279960632, 0.17932745814323425, 0.8966373205184937, 0.9841083288192749, 0.8863723278045654, 0.16115860641002655, 0.9717565774917603, 0.29624927043914795, 0.8887478113174438, 0.9747894406318665, 0.06962782144546509, 0.10684721171855927, 0.9616249203681946, 0.8636347651481628, 0.13286688923835754, 0.9228562712669373, 0.0971427634358406, 0.7898818254470825, 0.05265878885984421, 0.15797635912895203, 0.9700820446014404, 0.8566814661026001, 0.14278024435043335, 0.7930731177330017, 0.9734334945678711, 0.49151939153671265, 0.22341790795326233, 0.22341790795326233, 0.13405074179172516, 0.2967650294303894, 0.8902950286865234, 0.7163469195365906, 0.23878231644630432, 0.8351926207542419, 0.9423437714576721, 0.08566761761903763, 0.4166448414325714, 0.8332896828651428, 0.9313498139381409, 0.0776124820113182, 0.9549227952957153, 0.9525505900382996, 0.16848672926425934, 0.8424336910247803, 1.011220097541809, 0.9838496446609497, 0.7838472723960876, 0.22395636141300201, 0.9737484455108643, 0.2882218360900879, 0.8646654486656189, 0.8661414980888367, 0.10826768726110458, 0.8351927995681763, 0.17830823361873627, 0.17830823361873627, 0.7132329344749451, 0.40587857365608215, 0.10146964341402054, 0.5073481798171997, 0.8351950645446777, 0.6702190637588501, 0.33510953187942505, 0.15661484003067017, 0.15661484003067017, 0.7830742001533508, 0.7483524084091187, 0.2245057225227356, 0.8348525166511536, 0.16697050631046295, 0.9920275807380676, 0.28790023922920227, 0.8637006878852844, 0.9639050960540771, 0.045900244265794754, 0.2878294885158539, 0.863488495349884, 0.1637870967388153, 0.8189355134963989, 0.6208384037017822, 0.6208384037017822, 0.6953384876251221, 0.34766924381256104, 0.1914938986301422, 0.7659755945205688, 0.6260674595832825, 0.7362886667251587, 0.21036818623542786, 0.6260952949523926, 0.5939876437187195, 0.5939876437187195, 0.4984491467475891, 0.4984491467475891, 0.1155070886015892, 0.9240567088127136, 0.6732323169708252, 0.4039393663406372, 1.0130236148834229, 0.8486212491989136, 0.1131495013833046, 0.29434290528297424, 0.8830287456512451, 0.16692371666431427, 0.16692371666431427, 0.6676948666572571, 0.9090703129768372, 0.0865781232714653, 0.7930731177330017, 0.7497058510780334, 0.2142016738653183, 0.9010108709335327, 0.1880314201116562, 0.9401570558547974, 0.49797919392585754, 0.49797919392585754, 0.5817087888717651, 0.5817087888717651, 0.9828837513923645, 0.5180418491363525, 0.5180418491363525, 0.49436190724372864, 0.09887237846851349, 0.49436190724372864, 0.9733961224555969, 0.6255621314048767, 0.6255621314048767, 1.0103720426559448, 0.9701012372970581, 0.5594115257263184, 0.3729410171508789, 0.91119784116745, 0.09426184743642807, 0.6260148286819458, 0.6680710315704346, 0.2863161563873291, 0.3438352048397064, 0.3438352048397064, 0.17846699059009552, 0.8923349380493164, 0.09199876338243484, 0.1839975267648697, 0.8279889225959778, 0.994503378868103, 0.9692620635032654, 0.620785653591156, 0.620785653591156, 0.9203490018844604, 0.06817400455474854, 0.7327082753181458, 0.10467261075973511, 0.15700891613960266, 0.626725435256958, 0.5963519215583801, 0.3975679278373718, 0.6253449320793152, 0.6253449320793152, 0.1927458792924881, 0.7709835171699524, 0.4956490993499756, 0.4956490993499756, 0.9699260592460632, 0.9701552987098694, 0.3459871709346771, 0.3459871709346771, 0.9327315092086792, 0.5828041434288025, 0.4162886440753937, 0.6236407160758972, 0.6236407160758972, 0.9485946893692017, 0.0338783822953701, 0.19394007325172424, 0.775760293006897, 0.9681742787361145, 0.2966662049293518, 0.8899985551834106, 0.8690613508224487, 0.14484356343746185, 0.83962482213974, 0.23989279568195343, 0.2893664836883545, 0.8680995106697083, 0.1743355393409729, 0.8716776967048645, 0.985096275806427, 0.7930731177330017, 0.7541767358779907, 0.2513922452926636, 1.0100295543670654, 0.9710293412208557, 0.7930731177330017, 0.9010108709335327, 0.6918385624885559, 0.09224514663219452, 0.2306128591299057, 0.8360738158226013, 0.15201342105865479, 0.6253222227096558, 0.6253222227096558, 0.412346214056015, 0.6185193061828613], \"Term\": [\"agood\", \"also\", \"also\", \"altho\", \"ambience\", \"amenity\", \"amenity\", \"appoint\", \"appoint\", \"area\", \"area\", \"arrangement\", \"ask\", \"ask\", \"attentive\", \"attentive\", \"availability\", \"back\", \"back\", \"bad\", \"bar\", \"bar\", \"bathroom\", \"beverage\", \"beverage\", \"big\", \"big\", \"bit\", \"bit\", \"book\", \"book\", \"breakfast\", \"breakfast\", \"breakfast\", \"business\", \"business\", \"business\", \"busy\", \"busy\", \"cafe\", \"call\", \"call\", \"car\", \"card\", \"card\", \"casino\", \"casino\", \"casino\", \"certainly\", \"certainly\", \"chain\", \"cheap\", \"cheap\", \"check\", \"check\", \"choice\", \"choice\", \"choice\", \"choose\", \"choose\", \"city\", \"city\", \"clean\", \"clean\", \"close\", \"close\", \"close\", \"come\", \"come\", \"comfortable\", \"comfortable\", \"day\", \"day\", \"day\", \"delicious\", \"delicious\", \"dinner\", \"dinner\", \"disappointed\", \"double\", \"double\", \"downside\", \"downside\", \"drink\", \"drink\", \"eatery\", \"enjoy\", \"enjoy\", \"enough\", \"enough\", \"enough\", \"equally\", \"equip\", \"equip\", \"equip\", \"especially\", \"euro\", \"euro\", \"even\", \"evening\", \"event\", \"expect\", \"expect\", \"expect\", \"expensive\", \"expensive\", \"feel\", \"find\", \"find\", \"fine\", \"fish\", \"fish\", \"floor\", \"floor\", \"forget\", \"forget\", \"free\", \"free\", \"friendly\", \"friendly\", \"get\", \"get\", \"get\", \"give\", \"go\", \"go\", \"golden\", \"golden_tulip\", \"great\", \"great\", \"great\", \"great\", \"green\", \"green\", \"gym\", \"gym\", \"hang\", \"helpful\", \"helpful\", \"highly\", \"highly\", \"include\", \"include\", \"large\", \"leave\", \"line\", \"line\", \"location\", \"look\", \"lot\", \"lot\", \"lovely\", \"lunch\", \"lunch\", \"make\", \"make\", \"marvellous\", \"massage\", \"massage\", \"massage\", \"merit\", \"merit\", \"merit\", \"metre\", \"minute\", \"minute\", \"morning\", \"morning\", \"morning\", \"much\", \"much\", \"need\", \"need\", \"never\", \"new\", \"new\", \"night\", \"night\", \"note\", \"note\", \"old\", \"old\", \"one\", \"one\", \"open\", \"open\", \"outdoor\", \"outdoor\", \"outstanding\", \"overall\", \"overall\", \"pack\", \"parent\", \"parent\", \"parking\", \"parking\", \"part\", \"part\", \"pay\", \"pay\", \"people\", \"place\", \"place\", \"pleasure\", \"pleasure\", \"point\", \"point\", \"point\", \"pool\", \"pool\", \"position\", \"price\", \"price\", \"primarily\", \"professional\", \"professional\", \"quick\", \"quick\", \"real\", \"real\", \"really\", \"reasonable\", \"reasonable\", \"reception\", \"reception\", \"reception\", \"recommend\", \"safe\", \"safe\", \"say\", \"selection\", \"serve\", \"serve\", \"service\", \"service\", \"several\", \"side\", \"side\", \"slow\", \"slow\", \"small\", \"small\", \"spa\", \"spa\", \"spa\", \"spacious\", \"speak\", \"spot\", \"spot\", \"staff\", \"staff\", \"stay\", \"stay\", \"stay\", \"stayed\", \"still\", \"still\", \"stuff\", \"stuff\", \"suggest\", \"suggest\", \"superb\", \"superb\", \"table\", \"take\", \"tasty\", \"tasty\", \"taxi\", \"thing\", \"thing\", \"thoroughly\", \"thoroughly\", \"time\", \"time\", \"treatment\", \"treatment\", \"turkish\", \"type\", \"type\", \"use\", \"use\", \"variety\", \"variety\", \"venue\", \"venue\", \"view\", \"view\", \"visit\", \"wake\", \"walk\", \"walk\", \"want\", \"way\", \"weak\", \"weekend\", \"well\", \"well\", \"well\", \"work\", \"work\", \"world\", \"world\", \"year\", \"year\"]}, \"R\": 30, \"lambda.step\": 0.01, \"plot.opts\": {\"xlab\": \"PC1\", \"ylab\": \"PC2\"}, \"topic.order\": [2, 1, 4, 3]};\n",
       "\n",
       "function LDAvis_load_lib(url, callback){\n",
       "  var s = document.createElement('script');\n",
       "  s.src = url;\n",
       "  s.async = true;\n",
       "  s.onreadystatechange = s.onload = callback;\n",
       "  s.onerror = function(){console.warn(\"failed to load library \" + url);};\n",
       "  document.getElementsByTagName(\"head\")[0].appendChild(s);\n",
       "}\n",
       "\n",
       "if(typeof(LDAvis) !== \"undefined\"){\n",
       "   // already loaded: just create the visualization\n",
       "   !function(LDAvis){\n",
       "       new LDAvis(\"#\" + \"ldavis_el1381228490030669521803246689\", ldavis_el1381228490030669521803246689_data);\n",
       "   }(LDAvis);\n",
       "}else if(typeof define === \"function\" && define.amd){\n",
       "   // require.js is available: use it to load d3/LDAvis\n",
       "   require.config({paths: {d3: \"https://cdnjs.cloudflare.com/ajax/libs/d3/3.5.5/d3.min\"}});\n",
       "   require([\"d3\"], function(d3){\n",
       "      window.d3 = d3;\n",
       "      LDAvis_load_lib(\"https://cdn.rawgit.com/bmabey/pyLDAvis/files/ldavis.v1.0.0.js\", function(){\n",
       "        new LDAvis(\"#\" + \"ldavis_el1381228490030669521803246689\", ldavis_el1381228490030669521803246689_data);\n",
       "      });\n",
       "    });\n",
       "}else{\n",
       "    // require.js not available: dynamically load d3 & LDAvis\n",
       "    LDAvis_load_lib(\"https://cdnjs.cloudflare.com/ajax/libs/d3/3.5.5/d3.min.js\", function(){\n",
       "         LDAvis_load_lib(\"https://cdn.rawgit.com/bmabey/pyLDAvis/files/ldavis.v1.0.0.js\", function(){\n",
       "                 new LDAvis(\"#\" + \"ldavis_el1381228490030669521803246689\", ldavis_el1381228490030669521803246689_data);\n",
       "            })\n",
       "         });\n",
       "}\n",
       "</script>"
      ],
      "text/plain": [
       "PreparedData(topic_coordinates=              x         y  topics  cluster       Freq\n",
       "topic                                                \n",
       "1     -0.100475  0.134373       1        1  78.823975\n",
       "0     -0.016813  0.129360       2        1  12.553337\n",
       "3      0.285005 -0.009090       3        1   5.270406\n",
       "2     -0.167717 -0.254643       4        1   3.352275, topic_info=          Term       Freq      Total Category  logprob  loglift\n",
       "62        stay  57.000000  57.000000  Default  30.0000  30.0000\n",
       "39      casino  43.000000  43.000000  Default  29.0000  29.0000\n",
       "264   business  18.000000  18.000000  Default  28.0000  28.0000\n",
       "87   breakfast  50.000000  50.000000  Default  27.0000  27.0000\n",
       "1           go  21.000000  21.000000  Default  26.0000  26.0000\n",
       "..         ...        ...        ...      ...      ...      ...\n",
       "132      great   2.669487  22.379585   Topic4  -3.9862   1.2693\n",
       "1           go   2.645411  21.011311   Topic4  -3.9952   1.3233\n",
       "98         get   2.634959  18.990183   Topic4  -3.9992   1.4205\n",
       "3         much   2.616505  13.362688   Topic4  -4.0062   1.7649\n",
       "39      casino   2.615339  43.123611   Topic4  -4.0067   0.5929\n",
       "\n",
       "[221 rows x 6 columns], token_table=      Topic      Freq      Term\n",
       "term                           \n",
       "1259      4  0.901011     agood\n",
       "130       1  0.947334      also\n",
       "130       2  0.045111      also\n",
       "1260      4  0.901011     altho\n",
       "1155      2  0.835193  ambience\n",
       "...     ...       ...       ...\n",
       "66        2  0.152013      work\n",
       "1010      1  0.625322     world\n",
       "1010      2  0.625322     world\n",
       "1030      1  0.412346      year\n",
       "1030      4  0.618519      year\n",
       "\n",
       "[304 rows x 3 columns], R=30, lambda_step=0.01, plot_opts={'xlab': 'PC1', 'ylab': 'PC2'}, topic_order=[2, 1, 4, 3])"
      ]
     },
     "metadata": {},
     "output_type": "display_data"
    }
   ],
   "source": [
    "plot_model(lda_pos_custom, plot ='topic_model')"
   ]
  },
  {
   "cell_type": "markdown",
   "metadata": {},
   "source": [
    "## Tuning the model using Coherence Value"
   ]
  },
  {
   "cell_type": "code",
   "execution_count": 10,
   "metadata": {},
   "outputs": [
    {
     "data": {
      "application/vnd.jupyter.widget-view+json": {
       "model_id": "",
       "version_major": 2,
       "version_minor": 0
      },
      "text/plain": [
       "IntProgress(value=0, description='Processing: ', max=25)"
      ]
     },
     "metadata": {},
     "output_type": "display_data"
    },
    {
     "data": {
      "application/vnd.jupyter.widget-view+json": {
       "model_id": "d600e95e88714e3ca954b15683a5d956",
       "version_major": 2,
       "version_minor": 0
      },
      "text/plain": [
       "Output()"
      ]
     },
     "metadata": {},
     "output_type": "display_data"
    },
    {
     "data": {
      "text/html": [
       "        <script type=\"text/javascript\">\n",
       "        window.PlotlyConfig = {MathJaxConfig: 'local'};\n",
       "        if (window.MathJax) {MathJax.Hub.Config({SVG: {font: \"STIX-Web\"}});}\n",
       "        if (typeof require !== 'undefined') {\n",
       "        require.undef(\"plotly\");\n",
       "        requirejs.config({\n",
       "            paths: {\n",
       "                'plotly': ['https://cdn.plot.ly/plotly-latest.min']\n",
       "            }\n",
       "        });\n",
       "        require(['plotly'], function(Plotly) {\n",
       "            window._Plotly = Plotly;\n",
       "        });\n",
       "        }\n",
       "        </script>\n",
       "        "
      ]
     },
     "metadata": {},
     "output_type": "display_data"
    },
    {
     "data": {
      "application/vnd.plotly.v1+json": {
       "config": {
        "plotlyServerURL": "https://plot.ly"
       },
       "data": [
        {
         "hovertemplate": "Metric=Coherence<br># Topics=%{x}<br>Score=%{y}<extra></extra>",
         "legendgroup": "Coherence",
         "line": {
          "color": "#636efa",
          "dash": "solid",
          "shape": "linear"
         },
         "mode": "lines",
         "name": "Coherence",
         "orientation": "v",
         "showlegend": true,
         "type": "scatter",
         "x": [
          2,
          4,
          8,
          16,
          32,
          64,
          100,
          200,
          300,
          400
         ],
         "xaxis": "x",
         "y": [
          0.38243302005696983,
          0.4584756234775284,
          0.3729481156291593,
          0.38006677897562446,
          0.46553377193755174,
          0.5374933353133623,
          0.6227288608192802,
          0.6876676968368537,
          0.769773735647248,
          0.7932505811036029
         ],
         "yaxis": "y"
        }
       ],
       "layout": {
        "legend": {
         "title": {
          "text": "Metric"
         },
         "tracegroupgap": 0
        },
        "plot_bgcolor": "rgb(245,245,245)",
        "template": {
         "data": {
          "bar": [
           {
            "error_x": {
             "color": "#2a3f5f"
            },
            "error_y": {
             "color": "#2a3f5f"
            },
            "marker": {
             "line": {
              "color": "#E5ECF6",
              "width": 0.5
             }
            },
            "type": "bar"
           }
          ],
          "barpolar": [
           {
            "marker": {
             "line": {
              "color": "#E5ECF6",
              "width": 0.5
             }
            },
            "type": "barpolar"
           }
          ],
          "carpet": [
           {
            "aaxis": {
             "endlinecolor": "#2a3f5f",
             "gridcolor": "white",
             "linecolor": "white",
             "minorgridcolor": "white",
             "startlinecolor": "#2a3f5f"
            },
            "baxis": {
             "endlinecolor": "#2a3f5f",
             "gridcolor": "white",
             "linecolor": "white",
             "minorgridcolor": "white",
             "startlinecolor": "#2a3f5f"
            },
            "type": "carpet"
           }
          ],
          "choropleth": [
           {
            "colorbar": {
             "outlinewidth": 0,
             "ticks": ""
            },
            "type": "choropleth"
           }
          ],
          "contour": [
           {
            "colorbar": {
             "outlinewidth": 0,
             "ticks": ""
            },
            "colorscale": [
             [
              0,
              "#0d0887"
             ],
             [
              0.1111111111111111,
              "#46039f"
             ],
             [
              0.2222222222222222,
              "#7201a8"
             ],
             [
              0.3333333333333333,
              "#9c179e"
             ],
             [
              0.4444444444444444,
              "#bd3786"
             ],
             [
              0.5555555555555556,
              "#d8576b"
             ],
             [
              0.6666666666666666,
              "#ed7953"
             ],
             [
              0.7777777777777778,
              "#fb9f3a"
             ],
             [
              0.8888888888888888,
              "#fdca26"
             ],
             [
              1,
              "#f0f921"
             ]
            ],
            "type": "contour"
           }
          ],
          "contourcarpet": [
           {
            "colorbar": {
             "outlinewidth": 0,
             "ticks": ""
            },
            "type": "contourcarpet"
           }
          ],
          "heatmap": [
           {
            "colorbar": {
             "outlinewidth": 0,
             "ticks": ""
            },
            "colorscale": [
             [
              0,
              "#0d0887"
             ],
             [
              0.1111111111111111,
              "#46039f"
             ],
             [
              0.2222222222222222,
              "#7201a8"
             ],
             [
              0.3333333333333333,
              "#9c179e"
             ],
             [
              0.4444444444444444,
              "#bd3786"
             ],
             [
              0.5555555555555556,
              "#d8576b"
             ],
             [
              0.6666666666666666,
              "#ed7953"
             ],
             [
              0.7777777777777778,
              "#fb9f3a"
             ],
             [
              0.8888888888888888,
              "#fdca26"
             ],
             [
              1,
              "#f0f921"
             ]
            ],
            "type": "heatmap"
           }
          ],
          "heatmapgl": [
           {
            "colorbar": {
             "outlinewidth": 0,
             "ticks": ""
            },
            "colorscale": [
             [
              0,
              "#0d0887"
             ],
             [
              0.1111111111111111,
              "#46039f"
             ],
             [
              0.2222222222222222,
              "#7201a8"
             ],
             [
              0.3333333333333333,
              "#9c179e"
             ],
             [
              0.4444444444444444,
              "#bd3786"
             ],
             [
              0.5555555555555556,
              "#d8576b"
             ],
             [
              0.6666666666666666,
              "#ed7953"
             ],
             [
              0.7777777777777778,
              "#fb9f3a"
             ],
             [
              0.8888888888888888,
              "#fdca26"
             ],
             [
              1,
              "#f0f921"
             ]
            ],
            "type": "heatmapgl"
           }
          ],
          "histogram": [
           {
            "marker": {
             "colorbar": {
              "outlinewidth": 0,
              "ticks": ""
             }
            },
            "type": "histogram"
           }
          ],
          "histogram2d": [
           {
            "colorbar": {
             "outlinewidth": 0,
             "ticks": ""
            },
            "colorscale": [
             [
              0,
              "#0d0887"
             ],
             [
              0.1111111111111111,
              "#46039f"
             ],
             [
              0.2222222222222222,
              "#7201a8"
             ],
             [
              0.3333333333333333,
              "#9c179e"
             ],
             [
              0.4444444444444444,
              "#bd3786"
             ],
             [
              0.5555555555555556,
              "#d8576b"
             ],
             [
              0.6666666666666666,
              "#ed7953"
             ],
             [
              0.7777777777777778,
              "#fb9f3a"
             ],
             [
              0.8888888888888888,
              "#fdca26"
             ],
             [
              1,
              "#f0f921"
             ]
            ],
            "type": "histogram2d"
           }
          ],
          "histogram2dcontour": [
           {
            "colorbar": {
             "outlinewidth": 0,
             "ticks": ""
            },
            "colorscale": [
             [
              0,
              "#0d0887"
             ],
             [
              0.1111111111111111,
              "#46039f"
             ],
             [
              0.2222222222222222,
              "#7201a8"
             ],
             [
              0.3333333333333333,
              "#9c179e"
             ],
             [
              0.4444444444444444,
              "#bd3786"
             ],
             [
              0.5555555555555556,
              "#d8576b"
             ],
             [
              0.6666666666666666,
              "#ed7953"
             ],
             [
              0.7777777777777778,
              "#fb9f3a"
             ],
             [
              0.8888888888888888,
              "#fdca26"
             ],
             [
              1,
              "#f0f921"
             ]
            ],
            "type": "histogram2dcontour"
           }
          ],
          "mesh3d": [
           {
            "colorbar": {
             "outlinewidth": 0,
             "ticks": ""
            },
            "type": "mesh3d"
           }
          ],
          "parcoords": [
           {
            "line": {
             "colorbar": {
              "outlinewidth": 0,
              "ticks": ""
             }
            },
            "type": "parcoords"
           }
          ],
          "pie": [
           {
            "automargin": true,
            "type": "pie"
           }
          ],
          "scatter": [
           {
            "marker": {
             "colorbar": {
              "outlinewidth": 0,
              "ticks": ""
             }
            },
            "type": "scatter"
           }
          ],
          "scatter3d": [
           {
            "line": {
             "colorbar": {
              "outlinewidth": 0,
              "ticks": ""
             }
            },
            "marker": {
             "colorbar": {
              "outlinewidth": 0,
              "ticks": ""
             }
            },
            "type": "scatter3d"
           }
          ],
          "scattercarpet": [
           {
            "marker": {
             "colorbar": {
              "outlinewidth": 0,
              "ticks": ""
             }
            },
            "type": "scattercarpet"
           }
          ],
          "scattergeo": [
           {
            "marker": {
             "colorbar": {
              "outlinewidth": 0,
              "ticks": ""
             }
            },
            "type": "scattergeo"
           }
          ],
          "scattergl": [
           {
            "marker": {
             "colorbar": {
              "outlinewidth": 0,
              "ticks": ""
             }
            },
            "type": "scattergl"
           }
          ],
          "scattermapbox": [
           {
            "marker": {
             "colorbar": {
              "outlinewidth": 0,
              "ticks": ""
             }
            },
            "type": "scattermapbox"
           }
          ],
          "scatterpolar": [
           {
            "marker": {
             "colorbar": {
              "outlinewidth": 0,
              "ticks": ""
             }
            },
            "type": "scatterpolar"
           }
          ],
          "scatterpolargl": [
           {
            "marker": {
             "colorbar": {
              "outlinewidth": 0,
              "ticks": ""
             }
            },
            "type": "scatterpolargl"
           }
          ],
          "scatterternary": [
           {
            "marker": {
             "colorbar": {
              "outlinewidth": 0,
              "ticks": ""
             }
            },
            "type": "scatterternary"
           }
          ],
          "surface": [
           {
            "colorbar": {
             "outlinewidth": 0,
             "ticks": ""
            },
            "colorscale": [
             [
              0,
              "#0d0887"
             ],
             [
              0.1111111111111111,
              "#46039f"
             ],
             [
              0.2222222222222222,
              "#7201a8"
             ],
             [
              0.3333333333333333,
              "#9c179e"
             ],
             [
              0.4444444444444444,
              "#bd3786"
             ],
             [
              0.5555555555555556,
              "#d8576b"
             ],
             [
              0.6666666666666666,
              "#ed7953"
             ],
             [
              0.7777777777777778,
              "#fb9f3a"
             ],
             [
              0.8888888888888888,
              "#fdca26"
             ],
             [
              1,
              "#f0f921"
             ]
            ],
            "type": "surface"
           }
          ],
          "table": [
           {
            "cells": {
             "fill": {
              "color": "#EBF0F8"
             },
             "line": {
              "color": "white"
             }
            },
            "header": {
             "fill": {
              "color": "#C8D4E3"
             },
             "line": {
              "color": "white"
             }
            },
            "type": "table"
           }
          ]
         },
         "layout": {
          "annotationdefaults": {
           "arrowcolor": "#2a3f5f",
           "arrowhead": 0,
           "arrowwidth": 1
          },
          "coloraxis": {
           "colorbar": {
            "outlinewidth": 0,
            "ticks": ""
           }
          },
          "colorscale": {
           "diverging": [
            [
             0,
             "#8e0152"
            ],
            [
             0.1,
             "#c51b7d"
            ],
            [
             0.2,
             "#de77ae"
            ],
            [
             0.3,
             "#f1b6da"
            ],
            [
             0.4,
             "#fde0ef"
            ],
            [
             0.5,
             "#f7f7f7"
            ],
            [
             0.6,
             "#e6f5d0"
            ],
            [
             0.7,
             "#b8e186"
            ],
            [
             0.8,
             "#7fbc41"
            ],
            [
             0.9,
             "#4d9221"
            ],
            [
             1,
             "#276419"
            ]
           ],
           "sequential": [
            [
             0,
             "#0d0887"
            ],
            [
             0.1111111111111111,
             "#46039f"
            ],
            [
             0.2222222222222222,
             "#7201a8"
            ],
            [
             0.3333333333333333,
             "#9c179e"
            ],
            [
             0.4444444444444444,
             "#bd3786"
            ],
            [
             0.5555555555555556,
             "#d8576b"
            ],
            [
             0.6666666666666666,
             "#ed7953"
            ],
            [
             0.7777777777777778,
             "#fb9f3a"
            ],
            [
             0.8888888888888888,
             "#fdca26"
            ],
            [
             1,
             "#f0f921"
            ]
           ],
           "sequentialminus": [
            [
             0,
             "#0d0887"
            ],
            [
             0.1111111111111111,
             "#46039f"
            ],
            [
             0.2222222222222222,
             "#7201a8"
            ],
            [
             0.3333333333333333,
             "#9c179e"
            ],
            [
             0.4444444444444444,
             "#bd3786"
            ],
            [
             0.5555555555555556,
             "#d8576b"
            ],
            [
             0.6666666666666666,
             "#ed7953"
            ],
            [
             0.7777777777777778,
             "#fb9f3a"
            ],
            [
             0.8888888888888888,
             "#fdca26"
            ],
            [
             1,
             "#f0f921"
            ]
           ]
          },
          "colorway": [
           "#636efa",
           "#EF553B",
           "#00cc96",
           "#ab63fa",
           "#FFA15A",
           "#19d3f3",
           "#FF6692",
           "#B6E880",
           "#FF97FF",
           "#FECB52"
          ],
          "font": {
           "color": "#2a3f5f"
          },
          "geo": {
           "bgcolor": "white",
           "lakecolor": "white",
           "landcolor": "#E5ECF6",
           "showlakes": true,
           "showland": true,
           "subunitcolor": "white"
          },
          "hoverlabel": {
           "align": "left"
          },
          "hovermode": "closest",
          "mapbox": {
           "style": "light"
          },
          "paper_bgcolor": "white",
          "plot_bgcolor": "#E5ECF6",
          "polar": {
           "angularaxis": {
            "gridcolor": "white",
            "linecolor": "white",
            "ticks": ""
           },
           "bgcolor": "#E5ECF6",
           "radialaxis": {
            "gridcolor": "white",
            "linecolor": "white",
            "ticks": ""
           }
          },
          "scene": {
           "xaxis": {
            "backgroundcolor": "#E5ECF6",
            "gridcolor": "white",
            "gridwidth": 2,
            "linecolor": "white",
            "showbackground": true,
            "ticks": "",
            "zerolinecolor": "white"
           },
           "yaxis": {
            "backgroundcolor": "#E5ECF6",
            "gridcolor": "white",
            "gridwidth": 2,
            "linecolor": "white",
            "showbackground": true,
            "ticks": "",
            "zerolinecolor": "white"
           },
           "zaxis": {
            "backgroundcolor": "#E5ECF6",
            "gridcolor": "white",
            "gridwidth": 2,
            "linecolor": "white",
            "showbackground": true,
            "ticks": "",
            "zerolinecolor": "white"
           }
          },
          "shapedefaults": {
           "line": {
            "color": "#2a3f5f"
           }
          },
          "ternary": {
           "aaxis": {
            "gridcolor": "white",
            "linecolor": "white",
            "ticks": ""
           },
           "baxis": {
            "gridcolor": "white",
            "linecolor": "white",
            "ticks": ""
           },
           "bgcolor": "#E5ECF6",
           "caxis": {
            "gridcolor": "white",
            "linecolor": "white",
            "ticks": ""
           }
          },
          "title": {
           "x": 0.05
          },
          "xaxis": {
           "automargin": true,
           "gridcolor": "white",
           "linecolor": "white",
           "ticks": "",
           "title": {
            "standoff": 15
           },
           "zerolinecolor": "white",
           "zerolinewidth": 2
          },
          "yaxis": {
           "automargin": true,
           "gridcolor": "white",
           "linecolor": "white",
           "ticks": "",
           "title": {
            "standoff": 15
           },
           "zerolinecolor": "white",
           "zerolinewidth": 2
          }
         }
        },
        "title": {
         "text": "Coherence Value and # of Topics"
        },
        "xaxis": {
         "anchor": "y",
         "domain": [
          0,
          1
         ],
         "title": {
          "text": "# Topics"
         }
        },
        "yaxis": {
         "anchor": "x",
         "domain": [
          0,
          1
         ],
         "title": {
          "text": "Score"
         }
        }
       }
      },
      "text/html": [
       "<div>\n",
       "        \n",
       "        \n",
       "            <div id=\"86b70277-5501-4230-a2ad-c80daa656dd2\" class=\"plotly-graph-div\" style=\"height:525px; width:100%;\"></div>\n",
       "            <script type=\"text/javascript\">\n",
       "                require([\"plotly\"], function(Plotly) {\n",
       "                    window.PLOTLYENV=window.PLOTLYENV || {};\n",
       "                    \n",
       "                if (document.getElementById(\"86b70277-5501-4230-a2ad-c80daa656dd2\")) {\n",
       "                    Plotly.newPlot(\n",
       "                        '86b70277-5501-4230-a2ad-c80daa656dd2',\n",
       "                        [{\"hovertemplate\": \"Metric=Coherence<br># Topics=%{x}<br>Score=%{y}<extra></extra>\", \"legendgroup\": \"Coherence\", \"line\": {\"color\": \"#636efa\", \"dash\": \"solid\", \"shape\": \"linear\"}, \"mode\": \"lines\", \"name\": \"Coherence\", \"orientation\": \"v\", \"showlegend\": true, \"type\": \"scatter\", \"x\": [2, 4, 8, 16, 32, 64, 100, 200, 300, 400], \"xaxis\": \"x\", \"y\": [0.38243302005696983, 0.4584756234775284, 0.3729481156291593, 0.38006677897562446, 0.46553377193755174, 0.5374933353133623, 0.6227288608192802, 0.6876676968368537, 0.769773735647248, 0.7932505811036029], \"yaxis\": \"y\"}],\n",
       "                        {\"legend\": {\"title\": {\"text\": \"Metric\"}, \"tracegroupgap\": 0}, \"plot_bgcolor\": \"rgb(245,245,245)\", \"template\": {\"data\": {\"bar\": [{\"error_x\": {\"color\": \"#2a3f5f\"}, \"error_y\": {\"color\": \"#2a3f5f\"}, \"marker\": {\"line\": {\"color\": \"#E5ECF6\", \"width\": 0.5}}, \"type\": \"bar\"}], \"barpolar\": [{\"marker\": {\"line\": {\"color\": \"#E5ECF6\", \"width\": 0.5}}, \"type\": \"barpolar\"}], \"carpet\": [{\"aaxis\": {\"endlinecolor\": \"#2a3f5f\", \"gridcolor\": \"white\", \"linecolor\": \"white\", \"minorgridcolor\": \"white\", \"startlinecolor\": \"#2a3f5f\"}, \"baxis\": {\"endlinecolor\": \"#2a3f5f\", \"gridcolor\": \"white\", \"linecolor\": \"white\", \"minorgridcolor\": \"white\", \"startlinecolor\": \"#2a3f5f\"}, \"type\": \"carpet\"}], \"choropleth\": [{\"colorbar\": {\"outlinewidth\": 0, \"ticks\": \"\"}, \"type\": \"choropleth\"}], \"contour\": [{\"colorbar\": {\"outlinewidth\": 0, \"ticks\": \"\"}, \"colorscale\": [[0.0, \"#0d0887\"], [0.1111111111111111, \"#46039f\"], [0.2222222222222222, \"#7201a8\"], [0.3333333333333333, \"#9c179e\"], [0.4444444444444444, \"#bd3786\"], [0.5555555555555556, \"#d8576b\"], [0.6666666666666666, \"#ed7953\"], [0.7777777777777778, \"#fb9f3a\"], [0.8888888888888888, \"#fdca26\"], [1.0, \"#f0f921\"]], \"type\": \"contour\"}], \"contourcarpet\": [{\"colorbar\": {\"outlinewidth\": 0, \"ticks\": \"\"}, \"type\": \"contourcarpet\"}], \"heatmap\": [{\"colorbar\": {\"outlinewidth\": 0, \"ticks\": \"\"}, \"colorscale\": [[0.0, \"#0d0887\"], [0.1111111111111111, \"#46039f\"], [0.2222222222222222, \"#7201a8\"], [0.3333333333333333, \"#9c179e\"], [0.4444444444444444, \"#bd3786\"], [0.5555555555555556, \"#d8576b\"], [0.6666666666666666, \"#ed7953\"], [0.7777777777777778, \"#fb9f3a\"], [0.8888888888888888, \"#fdca26\"], [1.0, \"#f0f921\"]], \"type\": \"heatmap\"}], \"heatmapgl\": [{\"colorbar\": {\"outlinewidth\": 0, \"ticks\": \"\"}, \"colorscale\": [[0.0, \"#0d0887\"], [0.1111111111111111, \"#46039f\"], [0.2222222222222222, \"#7201a8\"], [0.3333333333333333, \"#9c179e\"], [0.4444444444444444, \"#bd3786\"], [0.5555555555555556, \"#d8576b\"], [0.6666666666666666, \"#ed7953\"], [0.7777777777777778, \"#fb9f3a\"], [0.8888888888888888, \"#fdca26\"], [1.0, \"#f0f921\"]], \"type\": \"heatmapgl\"}], \"histogram\": [{\"marker\": {\"colorbar\": {\"outlinewidth\": 0, \"ticks\": \"\"}}, \"type\": \"histogram\"}], \"histogram2d\": [{\"colorbar\": {\"outlinewidth\": 0, \"ticks\": \"\"}, \"colorscale\": [[0.0, \"#0d0887\"], [0.1111111111111111, \"#46039f\"], [0.2222222222222222, \"#7201a8\"], [0.3333333333333333, \"#9c179e\"], [0.4444444444444444, \"#bd3786\"], [0.5555555555555556, \"#d8576b\"], [0.6666666666666666, \"#ed7953\"], [0.7777777777777778, \"#fb9f3a\"], [0.8888888888888888, \"#fdca26\"], [1.0, \"#f0f921\"]], \"type\": \"histogram2d\"}], \"histogram2dcontour\": [{\"colorbar\": {\"outlinewidth\": 0, \"ticks\": \"\"}, \"colorscale\": [[0.0, \"#0d0887\"], [0.1111111111111111, \"#46039f\"], [0.2222222222222222, \"#7201a8\"], [0.3333333333333333, \"#9c179e\"], [0.4444444444444444, \"#bd3786\"], [0.5555555555555556, \"#d8576b\"], [0.6666666666666666, \"#ed7953\"], [0.7777777777777778, \"#fb9f3a\"], [0.8888888888888888, \"#fdca26\"], [1.0, \"#f0f921\"]], \"type\": \"histogram2dcontour\"}], \"mesh3d\": [{\"colorbar\": {\"outlinewidth\": 0, \"ticks\": \"\"}, \"type\": \"mesh3d\"}], \"parcoords\": [{\"line\": {\"colorbar\": {\"outlinewidth\": 0, \"ticks\": \"\"}}, \"type\": \"parcoords\"}], \"pie\": [{\"automargin\": true, \"type\": \"pie\"}], \"scatter\": [{\"marker\": {\"colorbar\": {\"outlinewidth\": 0, \"ticks\": \"\"}}, \"type\": \"scatter\"}], \"scatter3d\": [{\"line\": {\"colorbar\": {\"outlinewidth\": 0, \"ticks\": \"\"}}, \"marker\": {\"colorbar\": {\"outlinewidth\": 0, \"ticks\": \"\"}}, \"type\": \"scatter3d\"}], \"scattercarpet\": [{\"marker\": {\"colorbar\": {\"outlinewidth\": 0, \"ticks\": \"\"}}, \"type\": \"scattercarpet\"}], \"scattergeo\": [{\"marker\": {\"colorbar\": {\"outlinewidth\": 0, \"ticks\": \"\"}}, \"type\": \"scattergeo\"}], \"scattergl\": [{\"marker\": {\"colorbar\": {\"outlinewidth\": 0, \"ticks\": \"\"}}, \"type\": \"scattergl\"}], \"scattermapbox\": [{\"marker\": {\"colorbar\": {\"outlinewidth\": 0, \"ticks\": \"\"}}, \"type\": \"scattermapbox\"}], \"scatterpolar\": [{\"marker\": {\"colorbar\": {\"outlinewidth\": 0, \"ticks\": \"\"}}, \"type\": \"scatterpolar\"}], \"scatterpolargl\": [{\"marker\": {\"colorbar\": {\"outlinewidth\": 0, \"ticks\": \"\"}}, \"type\": \"scatterpolargl\"}], \"scatterternary\": [{\"marker\": {\"colorbar\": {\"outlinewidth\": 0, \"ticks\": \"\"}}, \"type\": \"scatterternary\"}], \"surface\": [{\"colorbar\": {\"outlinewidth\": 0, \"ticks\": \"\"}, \"colorscale\": [[0.0, \"#0d0887\"], [0.1111111111111111, \"#46039f\"], [0.2222222222222222, \"#7201a8\"], [0.3333333333333333, \"#9c179e\"], [0.4444444444444444, \"#bd3786\"], [0.5555555555555556, \"#d8576b\"], [0.6666666666666666, \"#ed7953\"], [0.7777777777777778, \"#fb9f3a\"], [0.8888888888888888, \"#fdca26\"], [1.0, \"#f0f921\"]], \"type\": \"surface\"}], \"table\": [{\"cells\": {\"fill\": {\"color\": \"#EBF0F8\"}, \"line\": {\"color\": \"white\"}}, \"header\": {\"fill\": {\"color\": \"#C8D4E3\"}, \"line\": {\"color\": \"white\"}}, \"type\": \"table\"}]}, \"layout\": {\"annotationdefaults\": {\"arrowcolor\": \"#2a3f5f\", \"arrowhead\": 0, \"arrowwidth\": 1}, \"coloraxis\": {\"colorbar\": {\"outlinewidth\": 0, \"ticks\": \"\"}}, \"colorscale\": {\"diverging\": [[0, \"#8e0152\"], [0.1, \"#c51b7d\"], [0.2, \"#de77ae\"], [0.3, \"#f1b6da\"], [0.4, \"#fde0ef\"], [0.5, \"#f7f7f7\"], [0.6, \"#e6f5d0\"], [0.7, \"#b8e186\"], [0.8, \"#7fbc41\"], [0.9, \"#4d9221\"], [1, \"#276419\"]], \"sequential\": [[0.0, \"#0d0887\"], [0.1111111111111111, \"#46039f\"], [0.2222222222222222, \"#7201a8\"], [0.3333333333333333, \"#9c179e\"], [0.4444444444444444, \"#bd3786\"], [0.5555555555555556, \"#d8576b\"], [0.6666666666666666, \"#ed7953\"], [0.7777777777777778, \"#fb9f3a\"], [0.8888888888888888, \"#fdca26\"], [1.0, \"#f0f921\"]], \"sequentialminus\": [[0.0, \"#0d0887\"], [0.1111111111111111, \"#46039f\"], [0.2222222222222222, \"#7201a8\"], [0.3333333333333333, \"#9c179e\"], [0.4444444444444444, \"#bd3786\"], [0.5555555555555556, \"#d8576b\"], [0.6666666666666666, \"#ed7953\"], [0.7777777777777778, \"#fb9f3a\"], [0.8888888888888888, \"#fdca26\"], [1.0, \"#f0f921\"]]}, \"colorway\": [\"#636efa\", \"#EF553B\", \"#00cc96\", \"#ab63fa\", \"#FFA15A\", \"#19d3f3\", \"#FF6692\", \"#B6E880\", \"#FF97FF\", \"#FECB52\"], \"font\": {\"color\": \"#2a3f5f\"}, \"geo\": {\"bgcolor\": \"white\", \"lakecolor\": \"white\", \"landcolor\": \"#E5ECF6\", \"showlakes\": true, \"showland\": true, \"subunitcolor\": \"white\"}, \"hoverlabel\": {\"align\": \"left\"}, \"hovermode\": \"closest\", \"mapbox\": {\"style\": \"light\"}, \"paper_bgcolor\": \"white\", \"plot_bgcolor\": \"#E5ECF6\", \"polar\": {\"angularaxis\": {\"gridcolor\": \"white\", \"linecolor\": \"white\", \"ticks\": \"\"}, \"bgcolor\": \"#E5ECF6\", \"radialaxis\": {\"gridcolor\": \"white\", \"linecolor\": \"white\", \"ticks\": \"\"}}, \"scene\": {\"xaxis\": {\"backgroundcolor\": \"#E5ECF6\", \"gridcolor\": \"white\", \"gridwidth\": 2, \"linecolor\": \"white\", \"showbackground\": true, \"ticks\": \"\", \"zerolinecolor\": \"white\"}, \"yaxis\": {\"backgroundcolor\": \"#E5ECF6\", \"gridcolor\": \"white\", \"gridwidth\": 2, \"linecolor\": \"white\", \"showbackground\": true, \"ticks\": \"\", \"zerolinecolor\": \"white\"}, \"zaxis\": {\"backgroundcolor\": \"#E5ECF6\", \"gridcolor\": \"white\", \"gridwidth\": 2, \"linecolor\": \"white\", \"showbackground\": true, \"ticks\": \"\", \"zerolinecolor\": \"white\"}}, \"shapedefaults\": {\"line\": {\"color\": \"#2a3f5f\"}}, \"ternary\": {\"aaxis\": {\"gridcolor\": \"white\", \"linecolor\": \"white\", \"ticks\": \"\"}, \"baxis\": {\"gridcolor\": \"white\", \"linecolor\": \"white\", \"ticks\": \"\"}, \"bgcolor\": \"#E5ECF6\", \"caxis\": {\"gridcolor\": \"white\", \"linecolor\": \"white\", \"ticks\": \"\"}}, \"title\": {\"x\": 0.05}, \"xaxis\": {\"automargin\": true, \"gridcolor\": \"white\", \"linecolor\": \"white\", \"ticks\": \"\", \"title\": {\"standoff\": 15}, \"zerolinecolor\": \"white\", \"zerolinewidth\": 2}, \"yaxis\": {\"automargin\": true, \"gridcolor\": \"white\", \"linecolor\": \"white\", \"ticks\": \"\", \"title\": {\"standoff\": 15}, \"zerolinecolor\": \"white\", \"zerolinewidth\": 2}}}, \"title\": {\"text\": \"Coherence Value and # of Topics\"}, \"xaxis\": {\"anchor\": \"y\", \"domain\": [0.0, 1.0], \"title\": {\"text\": \"# Topics\"}}, \"yaxis\": {\"anchor\": \"x\", \"domain\": [0.0, 1.0], \"title\": {\"text\": \"Score\"}}},\n",
       "                        {\"responsive\": true}\n",
       "                    ).then(function(){\n",
       "                            \n",
       "var gd = document.getElementById('86b70277-5501-4230-a2ad-c80daa656dd2');\n",
       "var x = new MutationObserver(function (mutations, observer) {{\n",
       "        var display = window.getComputedStyle(gd).display;\n",
       "        if (!display || display === 'none') {{\n",
       "            console.log([gd, 'removed!']);\n",
       "            Plotly.purge(gd);\n",
       "            observer.disconnect();\n",
       "        }}\n",
       "}});\n",
       "\n",
       "// Listen for the removal of the full notebook cells\n",
       "var notebookContainer = gd.closest('#notebook-container');\n",
       "if (notebookContainer) {{\n",
       "    x.observe(notebookContainer, {childList: true});\n",
       "}}\n",
       "\n",
       "// Listen for the clearing of the current output cell\n",
       "var outputEl = gd.closest('.output');\n",
       "if (outputEl) {{\n",
       "    x.observe(outputEl, {childList: true});\n",
       "}}\n",
       "\n",
       "                        })\n",
       "                };\n",
       "                });\n",
       "            </script>\n",
       "        </div>"
      ]
     },
     "metadata": {},
     "output_type": "display_data"
    },
    {
     "name": "stdout",
     "output_type": "stream",
     "text": [
      "Best Model: Latent Dirichlet Allocation | # Topics: 400 | Coherence: 0.7933\n"
     ]
    }
   ],
   "source": [
    "tune_lda_positive = tune_model(model='lda', supervised_target=None, estimator='xgboost')"
   ]
  },
  {
   "cell_type": "markdown",
   "metadata": {},
   "source": [
    "2 topics is chosen because 400 might be too much"
   ]
  },
  {
   "cell_type": "code",
   "execution_count": 11,
   "metadata": {},
   "outputs": [
    {
     "name": "stdout",
     "output_type": "stream",
     "text": [
      "LdaModel(num_terms=1266, num_topics=2, decay=0.5, chunksize=100)\n"
     ]
    }
   ],
   "source": [
    "#create an LDA model\n",
    "tuned_pos = create_model('lda', num_topics = 2)\n",
    "print(tuned_pos)"
   ]
  },
  {
   "cell_type": "code",
   "execution_count": 12,
   "metadata": {},
   "outputs": [],
   "source": [
    "apply_tuned_pos = assign_model(tuned_pos)"
   ]
  },
  {
   "cell_type": "code",
   "execution_count": 13,
   "metadata": {},
   "outputs": [
    {
     "data": {
      "application/vnd.jupyter.widget-view+json": {
       "model_id": "8f74b0baceea4b8b8f01ec973a2cfb9d",
       "version_major": 2,
       "version_minor": 0
      },
      "text/plain": [
       "interactive(children=(ToggleButtons(description='Plot Type:', icons=('',), options=(('Frequency Plot', 'freque…"
      ]
     },
     "metadata": {},
     "output_type": "display_data"
    }
   ],
   "source": [
    "evaluate_model(tuned_pos)"
   ]
  },
  {
   "cell_type": "code",
   "execution_count": 14,
   "metadata": {},
   "outputs": [
    {
     "data": {
      "text/html": [
       "        <script type=\"text/javascript\">\n",
       "        window.PlotlyConfig = {MathJaxConfig: 'local'};\n",
       "        if (window.MathJax) {MathJax.Hub.Config({SVG: {font: \"STIX-Web\"}});}\n",
       "        if (typeof require !== 'undefined') {\n",
       "        require.undef(\"plotly\");\n",
       "        requirejs.config({\n",
       "            paths: {\n",
       "                'plotly': ['https://cdn.plot.ly/plotly-latest.min']\n",
       "            }\n",
       "        });\n",
       "        require(['plotly'], function(Plotly) {\n",
       "            window._Plotly = Plotly;\n",
       "        });\n",
       "        }\n",
       "        </script>\n",
       "        "
      ]
     },
     "metadata": {},
     "output_type": "display_data"
    },
    {
     "data": {
      "text/html": [
       "\n",
       "<link rel=\"stylesheet\" type=\"text/css\" href=\"https://cdn.rawgit.com/bmabey/pyLDAvis/files/ldavis.v1.0.0.css\">\n",
       "\n",
       "\n",
       "<div id=\"ldavis_el1381228490498668249357779533\"></div>\n",
       "<script type=\"text/javascript\">\n",
       "\n",
       "var ldavis_el1381228490498668249357779533_data = {\"mdsDat\": {\"x\": [-0.010084847438362297, 0.010084847438362297], \"y\": [-0.17797715747196494, 0.17797715747196494], \"topics\": [1, 2], \"cluster\": [1, 1], \"Freq\": [92.21487426757812, 7.785120487213135]}, \"tinfo\": {\"Term\": [\"stay\", \"great\", \"breakfast\", \"area\", \"ask\", \"day\", \"spa\", \"well\", \"forget\", \"come\", \"reception\", \"serve\", \"merit\", \"enough\", \"big\", \"call\", \"view\", \"choice\", \"small\", \"morning\", \"expensive\", \"choose\", \"close\", \"back\", \"equip\", \"point\", \"professional\", \"outdoor\", \"massage\", \"suggest\", \"part\", \"business\", \"thing\", \"city\", \"old\", \"line\", \"casino\", \"get\", \"go\", \"walk\", \"side\", \"much\", \"minute\", \"open\", \"pay\", \"euro\", \"dinner\", \"busy\", \"expect\", \"year\", \"lunch\", \"note\", \"venue\", \"cheap\", \"green\", \"pleasure\", \"new\", \"type\", \"fish\", \"primarily\", \"cafe\", \"staff\", \"great\", \"forget\", \"spa\", \"professional\", \"weak\", \"wake\", \"position\", \"golden\", \"massage\", \"outdoor\", \"expensive\", \"close\", \"choose\", \"treatment\", \"point\", \"suggest\", \"small\", \"equip\", \"back\", \"ask\", \"big\", \"enough\", \"choice\", \"morning\", \"merit\", \"call\", \"view\", \"serve\", \"area\", \"reception\", \"come\", \"stay\", \"day\", \"well\", \"breakfast\", \"great\"], \"Freq\": [35.0, 52.0, 30.0, 14.0, 12.0, 14.0, 11.0, 14.0, 10.0, 9.0, 8.0, 7.0, 7.0, 6.0, 6.0, 6.0, 6.0, 6.0, 6.0, 6.0, 6.0, 6.0, 6.0, 6.0, 6.0, 6.0, 6.0, 5.0, 5.0, 5.0, 103.40766143798828, 76.06959533691406, 71.99075317382812, 71.0829086303711, 69.72396087646484, 67.90885925292969, 58.273231506347656, 43.766693115234375, 44.65488052368164, 40.1288948059082, 39.667877197265625, 40.11493682861328, 37.40508270263672, 37.40319061279297, 36.5025634765625, 36.04710388183594, 36.04623031616211, 36.04337692260742, 36.04196548461914, 35.13799285888672, 35.136165618896484, 35.13546371459961, 34.68349838256836, 34.68303298950195, 34.23301315307617, 34.23154067993164, 34.23125457763672, 34.22964859008789, 34.22224044799805, 33.77524948120117, 34.2220458984375, 34.461124420166016, 47.24337387084961, 10.387306213378906, 10.856645584106445, 5.477829933166504, 5.201191425323486, 5.201191425323486, 5.201191425323486, 5.201191425323486, 5.4068603515625, 5.406833648681641, 5.750735282897949, 5.679786682128906, 5.6785688400268555, 5.264858245849609, 5.470205307006836, 5.33224630355835, 5.812073230743408, 5.536247253417969, 5.603297233581543, 10.826944351196289, 5.939596652984619, 5.9370036125183105, 5.796826362609863, 5.658057689666748, 6.101001262664795, 5.588247299194336, 5.432264804840088, 5.735618591308594, 10.894980430603027, 5.568450450897217, 5.866453647613525, 12.043827056884766, 6.200836181640625, 6.072427272796631, 6.222652912139893, 5.366835117340088], \"Total\": [35.0, 52.0, 30.0, 14.0, 12.0, 14.0, 11.0, 14.0, 10.0, 9.0, 8.0, 7.0, 7.0, 6.0, 6.0, 6.0, 6.0, 6.0, 6.0, 6.0, 6.0, 6.0, 6.0, 6.0, 6.0, 6.0, 6.0, 5.0, 5.0, 5.0, 103.49578094482422, 76.15909576416016, 72.07877349853516, 71.17082214355469, 69.811279296875, 67.9958724975586, 58.3637809753418, 43.852630615234375, 44.74394989013672, 40.21539306640625, 39.75541305541992, 40.203582763671875, 37.491302490234375, 37.48970031738281, 36.58785629272461, 36.1325798034668, 36.131839752197266, 36.129425048828125, 36.128231048583984, 35.22355270385742, 35.222007751464844, 35.221412658691406, 34.76909255981445, 34.768699645996094, 34.318023681640625, 34.316776275634766, 34.31653594970703, 34.31517791748047, 34.30891036987305, 33.86079788208008, 34.308746337890625, 34.5696907043457, 52.61021041870117, 10.940206527709961, 11.540719032287598, 6.046749114990234, 5.749893665313721, 5.749893665313721, 5.749893665313721, 5.749893665313721, 5.982450008392334, 5.982594966888428, 6.364058017730713, 6.299651622772217, 6.306342601776123, 5.8542022705078125, 6.088535785675049, 5.938131809234619, 6.481194019317627, 6.179854869842529, 6.265676975250244, 12.158035278320312, 6.688878536224365, 6.703151702880859, 6.56485652923584, 6.418886184692383, 7.164669036865234, 6.802379131317139, 6.750988483428955, 7.355339050292969, 14.509668350219727, 8.728153228759766, 9.361930847167969, 35.90668487548828, 14.792648315429688, 14.135482788085938, 30.57202911376953, 52.61021041870117], \"Category\": [\"Default\", \"Default\", \"Default\", \"Default\", \"Default\", \"Default\", \"Default\", \"Default\", \"Default\", \"Default\", \"Default\", \"Default\", \"Default\", \"Default\", \"Default\", \"Default\", \"Default\", \"Default\", \"Default\", \"Default\", \"Default\", \"Default\", \"Default\", \"Default\", \"Default\", \"Default\", \"Default\", \"Default\", \"Default\", \"Default\", \"Topic1\", \"Topic1\", \"Topic1\", \"Topic1\", \"Topic1\", \"Topic1\", \"Topic1\", \"Topic1\", \"Topic1\", \"Topic1\", \"Topic1\", \"Topic1\", \"Topic1\", \"Topic1\", \"Topic1\", \"Topic1\", \"Topic1\", \"Topic1\", \"Topic1\", \"Topic1\", \"Topic1\", \"Topic1\", \"Topic1\", \"Topic1\", \"Topic1\", \"Topic1\", \"Topic1\", \"Topic1\", \"Topic1\", \"Topic1\", \"Topic1\", \"Topic1\", \"Topic1\", \"Topic2\", \"Topic2\", \"Topic2\", \"Topic2\", \"Topic2\", \"Topic2\", \"Topic2\", \"Topic2\", \"Topic2\", \"Topic2\", \"Topic2\", \"Topic2\", \"Topic2\", \"Topic2\", \"Topic2\", \"Topic2\", \"Topic2\", \"Topic2\", \"Topic2\", \"Topic2\", \"Topic2\", \"Topic2\", \"Topic2\", \"Topic2\", \"Topic2\", \"Topic2\", \"Topic2\", \"Topic2\", \"Topic2\", \"Topic2\", \"Topic2\", \"Topic2\", \"Topic2\", \"Topic2\", \"Topic2\"], \"logprob\": [30.0, 29.0, 28.0, 27.0, 26.0, 25.0, 24.0, 23.0, 22.0, 21.0, 20.0, 19.0, 18.0, 17.0, 16.0, 15.0, 14.0, 13.0, 12.0, 11.0, 10.0, 9.0, 8.0, 7.0, 6.0, 5.0, 4.0, 3.0, 2.0, 1.0, -3.6438000202178955, -3.950900077819824, -4.00600004196167, -4.018700122833252, -4.038000106811523, -4.0644001960754395, -4.217400074005127, -4.503699779510498, -4.48360013961792, -4.590400218963623, -4.6020002365112305, -4.590799808502197, -4.660699844360352, -4.660799980163574, -4.685100078582764, -4.697700023651123, -4.697700023651123, -4.697800159454346, -4.697800159454346, -4.723199844360352, -4.723299980163574, -4.723299980163574, -4.736299991607666, -4.736299991607666, -4.749300003051758, -4.7494001388549805, -4.7494001388549805, -4.7494001388549805, -4.74970006942749, -4.762800216674805, -4.74970006942749, -4.742700099945068, -4.427199840545654, -3.4700000286102295, -3.425800085067749, -4.109899997711182, -4.1616997718811035, -4.1616997718811035, -4.1616997718811035, -4.1616997718811035, -4.123000144958496, -4.123000144958496, -4.061299800872803, -4.073699951171875, -4.07390022277832, -4.149600028991699, -4.111299991607666, -4.1367998123168945, -4.0507001876831055, -4.099299907684326, -4.087299823760986, -3.4286000728607178, -4.0289998054504395, -4.029399871826172, -4.053299903869629, -4.077499866485596, -4.002200126647949, -4.090000152587891, -4.118299961090088, -4.063899993896484, -3.422300100326538, -4.093500137329102, -4.041399955749512, -3.3220999240875244, -3.9858999252319336, -4.006899833679199, -3.9823999404907227, -4.13040018081665], \"loglift\": [30.0, 29.0, 28.0, 27.0, 26.0, 25.0, 24.0, 23.0, 22.0, 21.0, 20.0, 19.0, 18.0, 17.0, 16.0, 15.0, 14.0, 13.0, 12.0, 11.0, 10.0, 9.0, 8.0, 7.0, 6.0, 5.0, 4.0, 3.0, 2.0, 1.0, 0.08020000159740448, 0.07989999651908875, 0.07980000227689743, 0.07980000227689743, 0.07980000227689743, 0.07980000227689743, 0.0794999971985817, 0.07909999787807465, 0.07909999787807465, 0.07890000194311142, 0.07880000025033951, 0.07880000025033951, 0.0786999985575676, 0.0786999985575676, 0.0786999985575676, 0.0786999985575676, 0.0786999985575676, 0.0786999985575676, 0.0786999985575676, 0.07859999686479568, 0.07859999686479568, 0.07859999686479568, 0.07859999686479568, 0.07859999686479568, 0.07859999686479568, 0.07859999686479568, 0.07859999686479568, 0.07859999686479568, 0.07850000262260437, 0.07850000262260437, 0.07850000262260437, 0.0778999999165535, -0.026499999687075615, 2.5011000633239746, 2.4918999671936035, 2.4540998935699463, 2.452699899673462, 2.452699899673462, 2.452699899673462, 2.452699899673462, 2.4518001079559326, 2.4518001079559326, 2.4516000747680664, 2.449399948120117, 2.4481000900268555, 2.446899890899658, 2.4458999633789062, 2.4453001022338867, 2.444000005722046, 2.443000078201294, 2.441200017929077, 2.437000036239624, 2.4342000484466553, 2.4316000938415527, 2.428499937057495, 2.426800012588501, 2.392199993133545, 2.356300115585327, 2.335599899291992, 2.3041999340057373, 2.266400098800659, 2.1034998893737793, 2.085599899291992, 1.4606000185012817, 1.683500051498413, 1.7079999446868896, 0.9610999822616577, 0.2703000009059906]}, \"token.table\": {\"Topic\": [1, 2, 1, 2, 1, 2, 1, 2, 1, 2, 1, 1, 1, 1, 2, 1, 1, 1, 2, 1, 2, 1, 1, 2, 1, 2, 1, 2, 1, 1, 2, 1, 2, 1, 1, 1, 2, 1, 1, 2, 1, 1, 1, 2, 1, 2, 1, 1, 1, 1, 2, 1, 2, 1, 1, 2, 1, 1, 1, 1, 1, 1, 2, 1, 1, 1, 1, 2, 1, 2, 1, 1, 2, 1, 2, 1, 2, 1, 1, 2, 1, 2, 1, 1, 2, 1, 2, 1, 1, 2, 1, 1, 1, 2, 1, 2, 1, 1, 2, 1, 2, 1], \"Freq\": [0.27567824721336365, 0.7581151723861694, 0.08225013315677643, 0.9047514200210571, 0.1595996767282486, 0.9575980305671692, 0.14950188994407654, 0.8970113396644592, 0.7850313186645508, 0.1962578296661377, 0.9979110360145569, 0.996417760848999, 0.9910009503364563, 0.14700739085674286, 0.8820443153381348, 0.9937670230865479, 1.006652593612671, 0.15232625603675842, 0.9139575362205505, 0.15857051312923431, 0.9514231085777283, 0.9975998401641846, 0.15873894095420837, 0.9524336457252502, 0.3204467296600342, 0.6408934593200684, 0.6084102988243103, 0.4056068956851959, 0.9963511228561401, 0.14918355643749237, 0.8951013088226318, 0.16181610524654388, 0.9708966016769409, 0.996330738067627, 0.996450662612915, 0.15713244676589966, 0.942794680595398, 0.9909961819648743, 0.09140595048666, 0.9140595197677612, 1.0033605098724365, 1.0057225227355957, 0.1739162653684616, 0.8695812821388245, 0.8933627009391785, 0.09503858536481857, 0.9907330274581909, 1.0000606775283813, 0.993696928024292, 0.16715559363365173, 0.835777997970581, 0.13957378268241882, 0.8374427556991577, 0.9868955612182617, 0.1557902693748474, 0.9347416162490845, 0.9949362277984619, 0.990776002407074, 0.9937136769294739, 1.002703309059143, 0.9869377613067627, 0.167151540517807, 0.8357577323913574, 0.9952096343040466, 1.011264443397522, 0.9907690286636353, 0.16424310207366943, 0.8212155103683472, 0.1739162653684616, 0.8695812821388245, 1.0041110515594482, 0.1653781235218048, 0.8268905878067017, 0.3437153100967407, 0.6874306201934814, 0.2719113230705261, 0.8157339692115784, 1.0061522722244263, 0.15429255366325378, 0.9257553219795227, 0.08664971590042114, 0.9531468749046326, 0.9835205078125, 0.6683992147445679, 0.33419960737228394, 0.16840313374996185, 0.8420156836509705, 0.9989071488380432, 0.17081746459007263, 0.8540873527526855, 0.9908152222633362, 1.006641149520874, 0.14812645316123962, 0.7406322956085205, 0.1739162653684616, 0.8695812821388245, 0.9946439862251282, 0.1739162653684616, 0.8695812821388245, 0.5659516453742981, 0.42446374893188477, 0.9936532974243164], \"Term\": [\"area\", \"area\", \"ask\", \"ask\", \"back\", \"back\", \"big\", \"big\", \"breakfast\", \"breakfast\", \"business\", \"busy\", \"cafe\", \"call\", \"call\", \"casino\", \"cheap\", \"choice\", \"choice\", \"choose\", \"choose\", \"city\", \"close\", \"close\", \"come\", \"come\", \"day\", \"day\", \"dinner\", \"enough\", \"enough\", \"equip\", \"equip\", \"euro\", \"expect\", \"expensive\", \"expensive\", \"fish\", \"forget\", \"forget\", \"get\", \"go\", \"golden\", \"golden\", \"great\", \"great\", \"green\", \"line\", \"lunch\", \"massage\", \"massage\", \"merit\", \"merit\", \"minute\", \"morning\", \"morning\", \"much\", \"new\", \"note\", \"old\", \"open\", \"outdoor\", \"outdoor\", \"part\", \"pay\", \"pleasure\", \"point\", \"point\", \"position\", \"position\", \"primarily\", \"professional\", \"professional\", \"reception\", \"reception\", \"serve\", \"serve\", \"side\", \"small\", \"small\", \"spa\", \"spa\", \"staff\", \"stay\", \"stay\", \"suggest\", \"suggest\", \"thing\", \"treatment\", \"treatment\", \"type\", \"venue\", \"view\", \"view\", \"wake\", \"wake\", \"walk\", \"weak\", \"weak\", \"well\", \"well\", \"year\"]}, \"R\": 30, \"lambda.step\": 0.01, \"plot.opts\": {\"xlab\": \"PC1\", \"ylab\": \"PC2\"}, \"topic.order\": [2, 1]};\n",
       "\n",
       "function LDAvis_load_lib(url, callback){\n",
       "  var s = document.createElement('script');\n",
       "  s.src = url;\n",
       "  s.async = true;\n",
       "  s.onreadystatechange = s.onload = callback;\n",
       "  s.onerror = function(){console.warn(\"failed to load library \" + url);};\n",
       "  document.getElementsByTagName(\"head\")[0].appendChild(s);\n",
       "}\n",
       "\n",
       "if(typeof(LDAvis) !== \"undefined\"){\n",
       "   // already loaded: just create the visualization\n",
       "   !function(LDAvis){\n",
       "       new LDAvis(\"#\" + \"ldavis_el1381228490498668249357779533\", ldavis_el1381228490498668249357779533_data);\n",
       "   }(LDAvis);\n",
       "}else if(typeof define === \"function\" && define.amd){\n",
       "   // require.js is available: use it to load d3/LDAvis\n",
       "   require.config({paths: {d3: \"https://cdnjs.cloudflare.com/ajax/libs/d3/3.5.5/d3.min\"}});\n",
       "   require([\"d3\"], function(d3){\n",
       "      window.d3 = d3;\n",
       "      LDAvis_load_lib(\"https://cdn.rawgit.com/bmabey/pyLDAvis/files/ldavis.v1.0.0.js\", function(){\n",
       "        new LDAvis(\"#\" + \"ldavis_el1381228490498668249357779533\", ldavis_el1381228490498668249357779533_data);\n",
       "      });\n",
       "    });\n",
       "}else{\n",
       "    // require.js not available: dynamically load d3 & LDAvis\n",
       "    LDAvis_load_lib(\"https://cdnjs.cloudflare.com/ajax/libs/d3/3.5.5/d3.min.js\", function(){\n",
       "         LDAvis_load_lib(\"https://cdn.rawgit.com/bmabey/pyLDAvis/files/ldavis.v1.0.0.js\", function(){\n",
       "                 new LDAvis(\"#\" + \"ldavis_el1381228490498668249357779533\", ldavis_el1381228490498668249357779533_data);\n",
       "            })\n",
       "         });\n",
       "}\n",
       "</script>"
      ],
      "text/plain": [
       "PreparedData(topic_coordinates=              x         y  topics  cluster       Freq\n",
       "topic                                                \n",
       "1     -0.010085 -0.177977       1        1  92.214874\n",
       "0      0.010085  0.177977       2        1   7.785120, topic_info=          Term       Freq      Total Category  logprob  loglift\n",
       "62        stay  35.000000  35.000000  Default  30.0000  30.0000\n",
       "132      great  52.000000  52.000000  Default  29.0000  29.0000\n",
       "87   breakfast  30.000000  30.000000  Default  28.0000  28.0000\n",
       "36        area  14.000000  14.000000  Default  27.0000  27.0000\n",
       "524        ask  12.000000  12.000000  Default  26.0000  26.0000\n",
       "..         ...        ...        ...      ...      ...      ...\n",
       "62        stay  12.043827  35.906685   Topic2  -3.3221   1.4606\n",
       "41         day   6.200836  14.792648   Topic2  -3.9859   1.6835\n",
       "129       well   6.072427  14.135483   Topic2  -4.0069   1.7080\n",
       "87   breakfast   6.222653  30.572029   Topic2  -3.9824   0.9611\n",
       "132      great   5.366835  52.610210   Topic2  -4.1304   0.2703\n",
       "\n",
       "[98 rows x 6 columns], token_table=      Topic      Freq  Term\n",
       "term                       \n",
       "36        1  0.275678  area\n",
       "36        2  0.758115  area\n",
       "524       1  0.082250   ask\n",
       "524       2  0.904751   ask\n",
       "408       1  0.159600  back\n",
       "...     ...       ...   ...\n",
       "1258      1  0.173916  weak\n",
       "1258      2  0.869581  weak\n",
       "129       1  0.565952  well\n",
       "129       2  0.424464  well\n",
       "1030      1  0.993653  year\n",
       "\n",
       "[102 rows x 3 columns], R=30, lambda_step=0.01, plot_opts={'xlab': 'PC1', 'ylab': 'PC2'}, topic_order=[2, 1])"
      ]
     },
     "metadata": {},
     "output_type": "display_data"
    }
   ],
   "source": [
    "plot_model(tuned_pos, plot ='topic_model', save=True)"
   ]
  },
  {
   "cell_type": "markdown",
   "metadata": {},
   "source": [
    "# Negative reviews"
   ]
  },
  {
   "cell_type": "code",
   "execution_count": 15,
   "metadata": {},
   "outputs": [
    {
     "data": {
      "text/html": [
       "<div>\n",
       "<style scoped>\n",
       "    .dataframe tbody tr th:only-of-type {\n",
       "        vertical-align: middle;\n",
       "    }\n",
       "\n",
       "    .dataframe tbody tr th {\n",
       "        vertical-align: top;\n",
       "    }\n",
       "\n",
       "    .dataframe thead th {\n",
       "        text-align: right;\n",
       "    }\n",
       "</style>\n",
       "<table border=\"1\" class=\"dataframe\">\n",
       "  <thead>\n",
       "    <tr style=\"text-align: right;\">\n",
       "      <th></th>\n",
       "      <th>Unnamed: 0</th>\n",
       "      <th>r_points</th>\n",
       "      <th>r_text</th>\n",
       "      <th>place</th>\n",
       "      <th>scores</th>\n",
       "      <th>compound</th>\n",
       "      <th>score</th>\n",
       "    </tr>\n",
       "  </thead>\n",
       "  <tbody>\n",
       "    <tr>\n",
       "      <th>0</th>\n",
       "      <td>0</td>\n",
       "      <td>30</td>\n",
       "      <td>It's one of those strange things that some of ...</td>\n",
       "      <td>Museum of Barbarism</td>\n",
       "      <td>{'neg': 0.098, 'neu': 0.819, 'pos': 0.083, 'co...</td>\n",
       "      <td>-0.2553</td>\n",
       "      <td>neg</td>\n",
       "    </tr>\n",
       "    <tr>\n",
       "      <th>1</th>\n",
       "      <td>2</td>\n",
       "      <td>10</td>\n",
       "      <td>My father was the British RSM RAMC that was in...</td>\n",
       "      <td>Museum of Barbarism</td>\n",
       "      <td>{'neg': 0.123, 'neu': 0.877, 'pos': 0.0, 'comp...</td>\n",
       "      <td>-0.8446</td>\n",
       "      <td>neg</td>\n",
       "    </tr>\n",
       "    <tr>\n",
       "      <th>2</th>\n",
       "      <td>3</td>\n",
       "      <td>10</td>\n",
       "      <td>This 'museum' is located in one of the busiest...</td>\n",
       "      <td>Museum of Barbarism</td>\n",
       "      <td>{'neg': 0.199, 'neu': 0.772, 'pos': 0.029, 'co...</td>\n",
       "      <td>-0.9783</td>\n",
       "      <td>neg</td>\n",
       "    </tr>\n",
       "    <tr>\n",
       "      <th>3</th>\n",
       "      <td>4</td>\n",
       "      <td>30</td>\n",
       "      <td>As soon as you get in, it reverberates sadness...</td>\n",
       "      <td>Museum of Barbarism</td>\n",
       "      <td>{'neg': 0.196, 'neu': 0.714, 'pos': 0.089, 'co...</td>\n",
       "      <td>-0.7003</td>\n",
       "      <td>neg</td>\n",
       "    </tr>\n",
       "    <tr>\n",
       "      <th>4</th>\n",
       "      <td>5</td>\n",
       "      <td>40</td>\n",
       "      <td>You need to see here to see what the barbarism...</td>\n",
       "      <td>Museum of Barbarism</td>\n",
       "      <td>{'neg': 0.243, 'neu': 0.701, 'pos': 0.056, 'co...</td>\n",
       "      <td>-0.8405</td>\n",
       "      <td>neg</td>\n",
       "    </tr>\n",
       "    <tr>\n",
       "      <th>5</th>\n",
       "      <td>7</td>\n",
       "      <td>50</td>\n",
       "      <td>I wish there is no need for this type of museu...</td>\n",
       "      <td>Museum of Barbarism</td>\n",
       "      <td>{'neg': 0.214, 'neu': 0.728, 'pos': 0.058, 'co...</td>\n",
       "      <td>-0.8074</td>\n",
       "      <td>neg</td>\n",
       "    </tr>\n",
       "    <tr>\n",
       "      <th>6</th>\n",
       "      <td>9</td>\n",
       "      <td>50</td>\n",
       "      <td>Yes indeed here the barbarism happened ..Innoc...</td>\n",
       "      <td>Museum of Barbarism</td>\n",
       "      <td>{'neg': 0.178, 'neu': 0.677, 'pos': 0.145, 'co...</td>\n",
       "      <td>-0.1083</td>\n",
       "      <td>neg</td>\n",
       "    </tr>\n",
       "    <tr>\n",
       "      <th>7</th>\n",
       "      <td>10</td>\n",
       "      <td>40</td>\n",
       "      <td>The house was lived in by Dr Nihat Ilhan and h...</td>\n",
       "      <td>Museum of Barbarism</td>\n",
       "      <td>{'neg': 0.113, 'neu': 0.84, 'pos': 0.046, 'com...</td>\n",
       "      <td>-0.8591</td>\n",
       "      <td>neg</td>\n",
       "    </tr>\n",
       "    <tr>\n",
       "      <th>8</th>\n",
       "      <td>3</td>\n",
       "      <td>10</td>\n",
       "      <td>DO NOT visit this hotel if you look or are Chi...</td>\n",
       "      <td>Golden Tulip Nicosia Hotel and Casino</td>\n",
       "      <td>{'neg': 0.197, 'neu': 0.803, 'pos': 0.0, 'comp...</td>\n",
       "      <td>-0.9950</td>\n",
       "      <td>neg</td>\n",
       "    </tr>\n",
       "    <tr>\n",
       "      <th>9</th>\n",
       "      <td>4</td>\n",
       "      <td>30</td>\n",
       "      <td>This is a lovely hotel very friendly staff I w...</td>\n",
       "      <td>Golden Tulip Nicosia Hotel and Casino</td>\n",
       "      <td>{'neg': 0.089, 'neu': 0.849, 'pos': 0.062, 'co...</td>\n",
       "      <td>-0.5968</td>\n",
       "      <td>neg</td>\n",
       "    </tr>\n",
       "    <tr>\n",
       "      <th>10</th>\n",
       "      <td>20</td>\n",
       "      <td>40</td>\n",
       "      <td>staff was very helpful, although being on of f...</td>\n",
       "      <td>Golden Tulip Nicosia Hotel and Casino</td>\n",
       "      <td>{'neg': 0.118, 'neu': 0.804, 'pos': 0.078, 'co...</td>\n",
       "      <td>-0.1548</td>\n",
       "      <td>neg</td>\n",
       "    </tr>\n",
       "    <tr>\n",
       "      <th>11</th>\n",
       "      <td>24</td>\n",
       "      <td>50</td>\n",
       "      <td>Excellent and well-presented breakfast ruined ...</td>\n",
       "      <td>Golden Tulip Nicosia Hotel and Casino</td>\n",
       "      <td>{'neg': 0.197, 'neu': 0.649, 'pos': 0.154, 'co...</td>\n",
       "      <td>-0.2280</td>\n",
       "      <td>neg</td>\n",
       "    </tr>\n",
       "    <tr>\n",
       "      <th>12</th>\n",
       "      <td>26</td>\n",
       "      <td>30</td>\n",
       "      <td>The Hotel il self was good, but the staff was ...</td>\n",
       "      <td>Golden Tulip Nicosia Hotel and Casino</td>\n",
       "      <td>{'neg': 0.06, 'neu': 0.872, 'pos': 0.068, 'com...</td>\n",
       "      <td>-0.0644</td>\n",
       "      <td>neg</td>\n",
       "    </tr>\n",
       "    <tr>\n",
       "      <th>13</th>\n",
       "      <td>28</td>\n",
       "      <td>10</td>\n",
       "      <td>This \"5 stars\" hotel has only nice and large r...</td>\n",
       "      <td>Golden Tulip Nicosia Hotel and Casino</td>\n",
       "      <td>{'neg': 0.164, 'neu': 0.797, 'pos': 0.038, 'co...</td>\n",
       "      <td>-0.9578</td>\n",
       "      <td>neg</td>\n",
       "    </tr>\n",
       "    <tr>\n",
       "      <th>14</th>\n",
       "      <td>33</td>\n",
       "      <td>20</td>\n",
       "      <td>I've been coming to the hotel restaurant for s...</td>\n",
       "      <td>Golden Tulip Nicosia Hotel and Casino</td>\n",
       "      <td>{'neg': 0.089, 'neu': 0.843, 'pos': 0.068, 'co...</td>\n",
       "      <td>-0.7362</td>\n",
       "      <td>neg</td>\n",
       "    </tr>\n",
       "    <tr>\n",
       "      <th>15</th>\n",
       "      <td>59</td>\n",
       "      <td>30</td>\n",
       "      <td>this is a new hotel but is not acceptable that...</td>\n",
       "      <td>Golden Tulip Nicosia Hotel and Casino</td>\n",
       "      <td>{'neg': 0.121, 'neu': 0.823, 'pos': 0.056, 'co...</td>\n",
       "      <td>-0.7430</td>\n",
       "      <td>neg</td>\n",
       "    </tr>\n",
       "    <tr>\n",
       "      <th>16</th>\n",
       "      <td>1</td>\n",
       "      <td>10</td>\n",
       "      <td>I must say that as far as customer service goe...</td>\n",
       "      <td>Merit Lefkosa Hotel &amp; Casino</td>\n",
       "      <td>{'neg': 0.191, 'neu': 0.724, 'pos': 0.086, 'co...</td>\n",
       "      <td>-0.9134</td>\n",
       "      <td>neg</td>\n",
       "    </tr>\n",
       "    <tr>\n",
       "      <th>17</th>\n",
       "      <td>43</td>\n",
       "      <td>10</td>\n",
       "      <td>This is a five-star hotel on the Turkish side ...</td>\n",
       "      <td>Merit Lefkosa Hotel &amp; Casino</td>\n",
       "      <td>{'neg': 0.098, 'neu': 0.828, 'pos': 0.074, 'co...</td>\n",
       "      <td>-0.7801</td>\n",
       "      <td>neg</td>\n",
       "    </tr>\n",
       "  </tbody>\n",
       "</table>\n",
       "</div>"
      ],
      "text/plain": [
       "    Unnamed: 0  r_points                                             r_text  \\\n",
       "0            0        30  It's one of those strange things that some of ...   \n",
       "1            2        10  My father was the British RSM RAMC that was in...   \n",
       "2            3        10  This 'museum' is located in one of the busiest...   \n",
       "3            4        30  As soon as you get in, it reverberates sadness...   \n",
       "4            5        40  You need to see here to see what the barbarism...   \n",
       "5            7        50  I wish there is no need for this type of museu...   \n",
       "6            9        50  Yes indeed here the barbarism happened ..Innoc...   \n",
       "7           10        40  The house was lived in by Dr Nihat Ilhan and h...   \n",
       "8            3        10  DO NOT visit this hotel if you look or are Chi...   \n",
       "9            4        30  This is a lovely hotel very friendly staff I w...   \n",
       "10          20        40  staff was very helpful, although being on of f...   \n",
       "11          24        50  Excellent and well-presented breakfast ruined ...   \n",
       "12          26        30  The Hotel il self was good, but the staff was ...   \n",
       "13          28        10  This \"5 stars\" hotel has only nice and large r...   \n",
       "14          33        20  I've been coming to the hotel restaurant for s...   \n",
       "15          59        30  this is a new hotel but is not acceptable that...   \n",
       "16           1        10  I must say that as far as customer service goe...   \n",
       "17          43        10  This is a five-star hotel on the Turkish side ...   \n",
       "\n",
       "                                    place  \\\n",
       "0                     Museum of Barbarism   \n",
       "1                     Museum of Barbarism   \n",
       "2                     Museum of Barbarism   \n",
       "3                     Museum of Barbarism   \n",
       "4                     Museum of Barbarism   \n",
       "5                     Museum of Barbarism   \n",
       "6                     Museum of Barbarism   \n",
       "7                     Museum of Barbarism   \n",
       "8   Golden Tulip Nicosia Hotel and Casino   \n",
       "9   Golden Tulip Nicosia Hotel and Casino   \n",
       "10  Golden Tulip Nicosia Hotel and Casino   \n",
       "11  Golden Tulip Nicosia Hotel and Casino   \n",
       "12  Golden Tulip Nicosia Hotel and Casino   \n",
       "13  Golden Tulip Nicosia Hotel and Casino   \n",
       "14  Golden Tulip Nicosia Hotel and Casino   \n",
       "15  Golden Tulip Nicosia Hotel and Casino   \n",
       "16           Merit Lefkosa Hotel & Casino   \n",
       "17           Merit Lefkosa Hotel & Casino   \n",
       "\n",
       "                                               scores  compound score  \n",
       "0   {'neg': 0.098, 'neu': 0.819, 'pos': 0.083, 'co...   -0.2553   neg  \n",
       "1   {'neg': 0.123, 'neu': 0.877, 'pos': 0.0, 'comp...   -0.8446   neg  \n",
       "2   {'neg': 0.199, 'neu': 0.772, 'pos': 0.029, 'co...   -0.9783   neg  \n",
       "3   {'neg': 0.196, 'neu': 0.714, 'pos': 0.089, 'co...   -0.7003   neg  \n",
       "4   {'neg': 0.243, 'neu': 0.701, 'pos': 0.056, 'co...   -0.8405   neg  \n",
       "5   {'neg': 0.214, 'neu': 0.728, 'pos': 0.058, 'co...   -0.8074   neg  \n",
       "6   {'neg': 0.178, 'neu': 0.677, 'pos': 0.145, 'co...   -0.1083   neg  \n",
       "7   {'neg': 0.113, 'neu': 0.84, 'pos': 0.046, 'com...   -0.8591   neg  \n",
       "8   {'neg': 0.197, 'neu': 0.803, 'pos': 0.0, 'comp...   -0.9950   neg  \n",
       "9   {'neg': 0.089, 'neu': 0.849, 'pos': 0.062, 'co...   -0.5968   neg  \n",
       "10  {'neg': 0.118, 'neu': 0.804, 'pos': 0.078, 'co...   -0.1548   neg  \n",
       "11  {'neg': 0.197, 'neu': 0.649, 'pos': 0.154, 'co...   -0.2280   neg  \n",
       "12  {'neg': 0.06, 'neu': 0.872, 'pos': 0.068, 'com...   -0.0644   neg  \n",
       "13  {'neg': 0.164, 'neu': 0.797, 'pos': 0.038, 'co...   -0.9578   neg  \n",
       "14  {'neg': 0.089, 'neu': 0.843, 'pos': 0.068, 'co...   -0.7362   neg  \n",
       "15  {'neg': 0.121, 'neu': 0.823, 'pos': 0.056, 'co...   -0.7430   neg  \n",
       "16  {'neg': 0.191, 'neu': 0.724, 'pos': 0.086, 'co...   -0.9134   neg  \n",
       "17  {'neg': 0.098, 'neu': 0.828, 'pos': 0.074, 'co...   -0.7801   neg  "
      ]
     },
     "execution_count": 15,
     "metadata": {},
     "output_type": "execute_result"
    }
   ],
   "source": [
    "neg_review = pd.read_csv(r'C:\\Users\\Dell\\Desktop\\sentiment_cluster5_neg.csv')\n",
    "neg_review"
   ]
  },
  {
   "cell_type": "code",
   "execution_count": 16,
   "metadata": {},
   "outputs": [
    {
     "data": {
      "text/html": [
       "<style  type=\"text/css\" >\n",
       "</style><table id=\"T_85e04d22_31a1_11eb_92f9_c48e8ff9d2e0\" ><thead>    <tr>        <th class=\"col_heading level0 col0\" >Description</th>        <th class=\"col_heading level0 col1\" >Value</th>    </tr></thead><tbody>\n",
       "                <tr>\n",
       "                                <td id=\"T_85e04d22_31a1_11eb_92f9_c48e8ff9d2e0row0_col0\" class=\"data row0 col0\" >session_id</td>\n",
       "                        <td id=\"T_85e04d22_31a1_11eb_92f9_c48e8ff9d2e0row0_col1\" class=\"data row0 col1\" >3258</td>\n",
       "            </tr>\n",
       "            <tr>\n",
       "                                <td id=\"T_85e04d22_31a1_11eb_92f9_c48e8ff9d2e0row1_col0\" class=\"data row1 col0\" >Documents</td>\n",
       "                        <td id=\"T_85e04d22_31a1_11eb_92f9_c48e8ff9d2e0row1_col1\" class=\"data row1 col1\" >18</td>\n",
       "            </tr>\n",
       "            <tr>\n",
       "                                <td id=\"T_85e04d22_31a1_11eb_92f9_c48e8ff9d2e0row2_col0\" class=\"data row2 col0\" >Vocab Size</td>\n",
       "                        <td id=\"T_85e04d22_31a1_11eb_92f9_c48e8ff9d2e0row2_col1\" class=\"data row2 col1\" >447</td>\n",
       "            </tr>\n",
       "            <tr>\n",
       "                                <td id=\"T_85e04d22_31a1_11eb_92f9_c48e8ff9d2e0row3_col0\" class=\"data row3 col0\" >Custom Stopwords</td>\n",
       "                        <td id=\"T_85e04d22_31a1_11eb_92f9_c48e8ff9d2e0row3_col1\" class=\"data row3 col1\" >True</td>\n",
       "            </tr>\n",
       "    </tbody></table>"
      ],
      "text/plain": [
       "<pandas.io.formats.style.Styler at 0x2975746f288>"
      ]
     },
     "metadata": {},
     "output_type": "display_data"
    }
   ],
   "source": [
    "exp_nlp_neg = setup(data = neg_review, target = 'r_text',\n",
    "                custom_stopwords = [ 'hotel', 'room', 'nice', 'good','restaurant', 'food','bad'])"
   ]
  },
  {
   "cell_type": "code",
   "execution_count": 17,
   "metadata": {},
   "outputs": [
    {
     "name": "stdout",
     "output_type": "stream",
     "text": [
      "LdaModel(num_terms=447, num_topics=4, decay=0.5, chunksize=100)\n"
     ]
    }
   ],
   "source": [
    "#create an LDA model\n",
    "lda_neg_custom = create_model('lda')\n",
    "print(lda_neg_custom)"
   ]
  },
  {
   "cell_type": "code",
   "execution_count": 18,
   "metadata": {},
   "outputs": [],
   "source": [
    "apply_lda_neg = assign_model(lda_neg_custom)"
   ]
  },
  {
   "cell_type": "code",
   "execution_count": 19,
   "metadata": {},
   "outputs": [
    {
     "data": {
      "application/vnd.jupyter.widget-view+json": {
       "model_id": "dca6ccbfffa54598b9275a157c586a97",
       "version_major": 2,
       "version_minor": 0
      },
      "text/plain": [
       "interactive(children=(ToggleButtons(description='Plot Type:', icons=('',), options=(('Frequency Plot', 'freque…"
      ]
     },
     "metadata": {},
     "output_type": "display_data"
    }
   ],
   "source": [
    "evaluate_model(lda_neg_custom)"
   ]
  },
  {
   "cell_type": "code",
   "execution_count": 25,
   "metadata": {},
   "outputs": [
    {
     "data": {
      "text/html": [
       "        <script type=\"text/javascript\">\n",
       "        window.PlotlyConfig = {MathJaxConfig: 'local'};\n",
       "        if (window.MathJax) {MathJax.Hub.Config({SVG: {font: \"STIX-Web\"}});}\n",
       "        if (typeof require !== 'undefined') {\n",
       "        require.undef(\"plotly\");\n",
       "        requirejs.config({\n",
       "            paths: {\n",
       "                'plotly': ['https://cdn.plot.ly/plotly-latest.min']\n",
       "            }\n",
       "        });\n",
       "        require(['plotly'], function(Plotly) {\n",
       "            window._Plotly = Plotly;\n",
       "        });\n",
       "        }\n",
       "        </script>\n",
       "        "
      ]
     },
     "metadata": {},
     "output_type": "display_data"
    },
    {
     "data": {
      "text/html": [
       "\n",
       "<link rel=\"stylesheet\" type=\"text/css\" href=\"https://cdn.rawgit.com/bmabey/pyLDAvis/files/ldavis.v1.0.0.css\">\n",
       "\n",
       "\n",
       "<div id=\"ldavis_el1381228490037863122363664006\"></div>\n",
       "<script type=\"text/javascript\">\n",
       "\n",
       "var ldavis_el1381228490037863122363664006_data = {\"mdsDat\": {\"x\": [0.12059815545734026, 0.049026014192446725, -0.11142271524036731, -0.05820145440941967], \"y\": [0.07344754088732779, -0.11285748412134636, -0.05216182633635934, 0.09157176957037791], \"topics\": [1, 2, 3, 4], \"cluster\": [1, 1, 1, 1], \"Freq\": [41.20506286621094, 25.643136978149414, 17.588258743286133, 15.563538551330566]}, \"tinfo\": {\"Term\": [\"iron\", \"turkish\", \"kill\", \"see\", \"service\", \"play\", \"greek\", \"part\", \"cypriot\", \"speaker\", \"war\", \"time\", \"table\", \"clothe\", \"blackjack\", \"customer\", \"write\", \"real\", \"barbarism\", \"human\", \"innocent\", \"lose\", \"care\", \"half\", \"conference\", \"say\", \"family\", \"information\", \"order\", \"need\", \"play\", \"blackjack\", \"chinese\", \"man\", \"casino\", \"card\", \"employee\", \"colleague\", \"front\", \"much\", \"price\", \"racism\", \"citizen\", \"rude\", \"discrimination\", \"dutch\", \"night\", \"pay\", \"desk\", \"management\", \"problem\", \"mistake\", \"decide\", \"aggressive\", \"excellent\", \"owner\", \"appear\", \"instead\", \"berate\", \"manager\", \"table\", \"allow\", \"refuse\", \"look\", \"staff\", \"customer\", \"floor\", \"even\", \"ask\", \"come\", \"say\", \"breakfast\", \"go\", \"make\", \"also\", \"well\", \"stay\", \"visit\", \"iron\", \"conference\", \"recommend\", \"person\", \"event\", \"away\", \"find\", \"occur\", \"terrible\", \"kind\", \"rate\", \"clothe\", \"sure\", \"helpful\", \"golden\", \"maintain\", \"tulip\", \"high\", \"ofcourse\", \"screwed\", \"different\", \"take\", \"stranger\", \"board\", \"hurry\", \"advance\", \"ridiculous\", \"lovely\", \"wrinkle\", \"know\", \"service\", \"charge\", \"get\", \"stay\", \"present\", \"place\", \"order\", \"information\", \"go\", \"make\", \"give\", \"breakfast\", \"visit\", \"refuse\", \"staff\", \"regret\", \"quality\", \"come\", \"greek\", \"part\", \"cypriot\", \"speaker\", \"war\", \"crime\", \"blame\", \"lot\", \"whitewash\", \"bias\", \"turkish\", \"steak\", \"check\", \"barbaric\", \"scene\", \"martyr\", \"live\", \"send\", \"regiment\", \"army\", \"gudum\", \"murder\", \"child\", \"agreement\", \"photo\", \"exhibit\", \"commemorate\", \"duty\", \"establish\", \"assign\", \"family\", \"city\", \"time\", \"speak\", \"museum\", \"information\", \"order\", \"put\", \"kill\", \"ask\", \"see\", \"staff\", \"make\", \"even\", \"follow\", \"give\", \"show\", \"write\", \"real\", \"barbarism\", \"human\", \"innocent\", \"lose\", \"care\", \"half\", \"evidence\", \"little\", \"drop\", \"sensitive\", \"body\", \"affected\", \"quiet\", \"ago\", \"daily\", \"history\", \"story\", \"savage\", \"soul\", \"blindly\", \"sad\", \"ideology\", \"wish\", \"belief\", \"century\", \"type\", \"sake\", \"forget\", \"kill\", \"happen\", \"need\", \"world\", \"people\", \"hour\", \"leave\", \"see\", \"show\", \"sit\", \"say\", \"time\", \"customer\", \"service\", \"table\", \"get\", \"charge\", \"place\", \"agree\", \"upset\", \"many\", \"museum\"], \"Freq\": [5.0, 3.0, 3.0, 3.0, 5.0, 5.0, 2.0, 2.0, 2.0, 2.0, 2.0, 3.0, 6.0, 3.0, 5.0, 4.0, 1.0, 1.0, 1.0, 1.0, 1.0, 1.0, 1.0, 1.0, 2.0, 3.0, 2.0, 2.0, 2.0, 2.0, 5.313784599304199, 4.580057144165039, 3.1141271591186523, 3.108873128890991, 2.3819313049316406, 2.3818438053131104, 2.3801255226135254, 2.3791263103485107, 2.3772761821746826, 2.3765721321105957, 2.375732421875, 1.6491460800170898, 1.6490297317504883, 1.648701786994934, 1.6483591794967651, 1.6482261419296265, 1.6474153995513916, 1.6468942165374756, 1.6468241214752197, 1.6464985609054565, 1.646407127380371, 1.6463372707366943, 1.6459333896636963, 1.6457923650741577, 1.6457293033599854, 1.6444228887557983, 1.644371747970581, 1.6437183618545532, 1.6434853076934814, 3.1193196773529053, 4.578397750854492, 4.584137439727783, 4.58558464050293, 3.1173629760742188, 5.297210693359375, 3.1118788719177246, 2.389570713043213, 2.378495454788208, 3.868128776550293, 2.3795061111450195, 2.3802695274353027, 2.382308006286621, 2.3831560611724854, 2.384598731994629, 1.6562808752059937, 1.6540195941925049, 1.652019739151001, 1.651365041732788, 4.577450275421143, 2.042351484298706, 1.4210944175720215, 1.4179729223251343, 1.4177004098892212, 1.417224645614624, 1.416868805885315, 1.4163419008255005, 1.4163116216659546, 1.413193702697754, 1.4122873544692993, 2.683990001678467, 0.7899571061134338, 0.7899551391601562, 0.789951741695404, 0.789951741695404, 0.7899475693702698, 0.7899450659751892, 0.7894467115402222, 0.7893112301826477, 0.7892824411392212, 0.789272665977478, 0.7892553210258484, 0.7892551422119141, 0.7892541289329529, 0.7892030477523804, 0.7891935706138611, 0.7891892194747925, 0.7891424894332886, 0.7890676856040955, 3.3034889698028564, 1.4163142442703247, 1.4132057428359985, 2.048165798187256, 1.4168317317962646, 1.4144841432571411, 1.4177881479263306, 1.4173284769058228, 2.0511012077331543, 2.0463173389434814, 1.415175199508667, 1.417611002922058, 1.4203481674194336, 1.413769006729126, 1.4297370910644531, 0.7922964096069336, 0.7921954989433289, 0.7906414866447449, 1.7519999742507935, 1.7519804239273071, 1.7518707513809204, 1.751664400100708, 1.7515326738357544, 1.2129758596420288, 1.2128207683563232, 1.2127745151519775, 1.2127498388290405, 1.2127392292022705, 2.8305490016937256, 1.2093251943588257, 1.2076056003570557, 0.6739764213562012, 0.6739762425422668, 0.6739761829376221, 0.67397540807724, 0.6739754676818848, 0.6739752292633057, 0.673974871635437, 0.6739745140075684, 0.6739742159843445, 0.6739740967750549, 0.6739739775657654, 0.6739736199378967, 0.6739736199378967, 0.6739733815193176, 0.6739734411239624, 0.673972487449646, 0.6739715337753296, 1.2129181623458862, 1.2126963138580322, 1.7494558095932007, 1.755741834640503, 1.2130199670791626, 1.212691068649292, 1.2080291509628296, 1.2140111923217773, 1.2130292654037476, 1.7376532554626465, 1.2146937847137451, 0.6808785200119019, 0.6764352321624756, 0.6753808856010437, 0.6752166152000427, 0.6751556992530823, 0.6751524806022644, 1.143454670906067, 1.1434510946273804, 1.1432268619537354, 1.1431422233581543, 1.1426211595535278, 1.1416088342666626, 1.1410562992095947, 1.1404763460159302, 0.6352492570877075, 0.6352478265762329, 0.6352473497390747, 0.6352472305297852, 0.6352468132972717, 0.6352463364601135, 0.6352462768554688, 0.6352454423904419, 0.6352449059486389, 0.6352437734603882, 0.6352433562278748, 0.6352421045303345, 0.6352418661117554, 0.6350710988044739, 0.6350652575492859, 0.635041356086731, 0.635034441947937, 0.6350285410881042, 0.6350199580192566, 0.6350140571594238, 0.6350059509277344, 0.6346815824508667, 1.651017189025879, 1.1456868648529053, 1.1438218355178833, 1.1435679197311401, 1.143293023109436, 1.142077088356018, 1.1412750482559204, 1.6518374681472778, 1.14195716381073, 1.1409145593643188, 1.1428509950637817, 1.1430647373199463, 1.1413613557815552, 1.1492255926132202, 1.142571210861206, 0.638563334941864, 0.6384450197219849, 0.6379390358924866, 0.6378280520439148, 0.6376073956489563, 0.6363018751144409, 0.636189877986908], \"Total\": [5.0, 3.0, 3.0, 3.0, 5.0, 5.0, 2.0, 2.0, 2.0, 2.0, 2.0, 3.0, 6.0, 3.0, 5.0, 4.0, 1.0, 1.0, 1.0, 1.0, 1.0, 1.0, 1.0, 1.0, 2.0, 3.0, 2.0, 2.0, 2.0, 2.0, 5.73646354675293, 5.0030412673950195, 3.5362794399261475, 3.5350759029388428, 2.803145408630371, 2.803107976913452, 2.8027374744415283, 2.8024606704711914, 2.802072525024414, 2.802049160003662, 2.8021483421325684, 2.0698320865631104, 2.069809913635254, 2.06980562210083, 2.06966495513916, 2.0696094036102295, 2.0696887969970703, 2.069347620010376, 2.069310188293457, 2.0692336559295654, 2.069249153137207, 2.069218158721924, 2.069071054458618, 2.0690629482269287, 2.0690219402313232, 2.0687501430511475, 2.068715810775757, 2.068556308746338, 2.0684962272644043, 4.0769734382629395, 6.019200325012207, 6.143798351287842, 6.266803741455078, 4.168534755706787, 7.536190509796143, 4.552471160888672, 3.344416618347168, 3.3416595458984375, 6.524507999420166, 3.4344263076782227, 3.8192453384399414, 4.066349983215332, 5.207118988037109, 5.2376251220703125, 2.6110312938690186, 3.1189043521881104, 3.965533494949341, 4.381502151489258, 5.026343822479248, 2.4980320930480957, 1.8670337200164795, 1.866877794265747, 1.8672083616256714, 1.8667173385620117, 1.867263674736023, 1.867067813873291, 1.8671631813049316, 1.8662803173065186, 1.8661812543869019, 3.6700103282928467, 1.2351953983306885, 1.235195517539978, 1.2351948022842407, 1.2351948022842407, 1.235194444656372, 1.2351950407028198, 1.2350937128067017, 1.23506760597229, 1.2350620031356812, 1.2350599765777588, 1.2350564002990723, 1.2350564002990723, 1.2350560426712036, 1.235046148300171, 1.2350441217422485, 1.2350436449050903, 1.2350345849990845, 1.2350198030471802, 5.511921405792236, 2.3746960163116455, 2.3747928142547607, 3.965533494949341, 2.600637435913086, 2.9141900539398193, 2.946742296218872, 2.945716619491577, 5.207118988037109, 5.2376251220703125, 3.138948440551758, 4.066349983215332, 4.381502151489258, 6.266803741455078, 7.536190509796143, 1.9682180881500244, 1.968238353729248, 3.4344263076782227, 2.2208456993103027, 2.220832586288452, 2.2208425998687744, 2.2208518981933594, 2.220869302749634, 1.6816284656524658, 1.681624412536621, 1.6816325187683105, 1.681640386581421, 1.6816380023956299, 3.9309847354888916, 1.6827952861785889, 1.6834192276000977, 1.1424044370651245, 1.142404317855835, 1.1424044370651245, 1.142404556274414, 1.1424046754837036, 1.1424047946929932, 1.1424046754837036, 1.142404556274414, 1.142404556274414, 1.1424046754837036, 1.1424047946929932, 1.142404556274414, 1.1424046754837036, 1.1424046754837036, 1.1424047946929932, 1.1424049139022827, 1.1424047946929932, 2.190133571624756, 2.3136117458343506, 3.870394468307495, 4.317731857299805, 2.821786880493164, 2.945716619491577, 2.946742296218872, 3.0461604595184326, 3.2065696716308594, 6.524507999420166, 3.9389119148254395, 7.536190509796143, 5.2376251220703125, 3.3416595458984375, 2.383368968963623, 3.138948440551758, 2.892455577850342, 1.6196560859680176, 1.619657039642334, 1.619697093963623, 1.619718313217163, 1.6200242042541504, 1.6200509071350098, 1.6201664209365845, 1.6201975345611572, 1.111428141593933, 1.1114284992218018, 1.1114284992218018, 1.1114287376403809, 1.1114287376403809, 1.1114286184310913, 1.111429214477539, 1.1114287376403809, 1.1114287376403809, 1.1114294528961182, 1.1114296913146973, 1.1114299297332764, 1.1114296913146973, 1.1114649772644043, 1.1114649772644043, 1.1114673614501953, 1.111470103263855, 1.1114718914031982, 1.1114733219146729, 1.1114740371704102, 1.1114745140075684, 1.1116787195205688, 3.2065696716308594, 2.2515156269073486, 2.2515342235565186, 2.2519097328186035, 2.2518038749694824, 2.353259563446045, 2.352810859680176, 3.9389119148254395, 2.892455577850342, 3.086337089538574, 3.8192453384399414, 3.870394468307495, 4.552471160888672, 5.511921405792236, 6.019200325012207, 2.3747928142547607, 2.3746960163116455, 2.9141900539398193, 1.7428526878356934, 2.4755821228027344, 1.7433797121047974, 2.821786880493164], \"Category\": [\"Default\", \"Default\", \"Default\", \"Default\", \"Default\", \"Default\", \"Default\", \"Default\", \"Default\", \"Default\", \"Default\", \"Default\", \"Default\", \"Default\", \"Default\", \"Default\", \"Default\", \"Default\", \"Default\", \"Default\", \"Default\", \"Default\", \"Default\", \"Default\", \"Default\", \"Default\", \"Default\", \"Default\", \"Default\", \"Default\", \"Topic1\", \"Topic1\", \"Topic1\", \"Topic1\", \"Topic1\", \"Topic1\", \"Topic1\", \"Topic1\", \"Topic1\", \"Topic1\", \"Topic1\", \"Topic1\", \"Topic1\", \"Topic1\", \"Topic1\", \"Topic1\", \"Topic1\", \"Topic1\", \"Topic1\", \"Topic1\", \"Topic1\", \"Topic1\", \"Topic1\", \"Topic1\", \"Topic1\", \"Topic1\", \"Topic1\", \"Topic1\", \"Topic1\", \"Topic1\", \"Topic1\", \"Topic1\", \"Topic1\", \"Topic1\", \"Topic1\", \"Topic1\", \"Topic1\", \"Topic1\", \"Topic1\", \"Topic1\", \"Topic1\", \"Topic1\", \"Topic1\", \"Topic1\", \"Topic1\", \"Topic1\", \"Topic1\", \"Topic1\", \"Topic2\", \"Topic2\", \"Topic2\", \"Topic2\", \"Topic2\", \"Topic2\", \"Topic2\", \"Topic2\", \"Topic2\", \"Topic2\", \"Topic2\", \"Topic2\", \"Topic2\", \"Topic2\", \"Topic2\", \"Topic2\", \"Topic2\", \"Topic2\", \"Topic2\", \"Topic2\", \"Topic2\", \"Topic2\", \"Topic2\", \"Topic2\", \"Topic2\", \"Topic2\", \"Topic2\", \"Topic2\", \"Topic2\", \"Topic2\", \"Topic2\", \"Topic2\", \"Topic2\", \"Topic2\", \"Topic2\", \"Topic2\", \"Topic2\", \"Topic2\", \"Topic2\", \"Topic2\", \"Topic2\", \"Topic2\", \"Topic2\", \"Topic2\", \"Topic2\", \"Topic2\", \"Topic2\", \"Topic2\", \"Topic3\", \"Topic3\", \"Topic3\", \"Topic3\", \"Topic3\", \"Topic3\", \"Topic3\", \"Topic3\", \"Topic3\", \"Topic3\", \"Topic3\", \"Topic3\", \"Topic3\", \"Topic3\", \"Topic3\", \"Topic3\", \"Topic3\", \"Topic3\", \"Topic3\", \"Topic3\", \"Topic3\", \"Topic3\", \"Topic3\", \"Topic3\", \"Topic3\", \"Topic3\", \"Topic3\", \"Topic3\", \"Topic3\", \"Topic3\", \"Topic3\", \"Topic3\", \"Topic3\", \"Topic3\", \"Topic3\", \"Topic3\", \"Topic3\", \"Topic3\", \"Topic3\", \"Topic3\", \"Topic3\", \"Topic3\", \"Topic3\", \"Topic3\", \"Topic3\", \"Topic3\", \"Topic3\", \"Topic4\", \"Topic4\", \"Topic4\", \"Topic4\", \"Topic4\", \"Topic4\", \"Topic4\", \"Topic4\", \"Topic4\", \"Topic4\", \"Topic4\", \"Topic4\", \"Topic4\", \"Topic4\", \"Topic4\", \"Topic4\", \"Topic4\", \"Topic4\", \"Topic4\", \"Topic4\", \"Topic4\", \"Topic4\", \"Topic4\", \"Topic4\", \"Topic4\", \"Topic4\", \"Topic4\", \"Topic4\", \"Topic4\", \"Topic4\", \"Topic4\", \"Topic4\", \"Topic4\", \"Topic4\", \"Topic4\", \"Topic4\", \"Topic4\", \"Topic4\", \"Topic4\", \"Topic4\", \"Topic4\", \"Topic4\", \"Topic4\", \"Topic4\", \"Topic4\", \"Topic4\", \"Topic4\", \"Topic4\", \"Topic4\", \"Topic4\", \"Topic4\", \"Topic4\"], \"logprob\": [30.0, 29.0, 28.0, 27.0, 26.0, 25.0, 24.0, 23.0, 22.0, 21.0, 20.0, 19.0, 18.0, 17.0, 16.0, 15.0, 14.0, 13.0, 12.0, 11.0, 10.0, 9.0, 8.0, 7.0, 6.0, 5.0, 4.0, 3.0, 2.0, 1.0, -4.05649995803833, -4.205100059509277, -4.590799808502197, -4.59250020980835, -4.85890007019043, -4.85890007019043, -4.859600067138672, -4.860000133514404, -4.860799789428711, -4.861100196838379, -4.861499786376953, -5.226500034332275, -5.226600170135498, -5.226799964904785, -5.2270002365112305, -5.227099895477295, -5.22760009765625, -5.22790002822876, -5.22790002822876, -5.228099822998047, -5.2281999588012695, -5.2281999588012695, -5.228499889373779, -5.228600025177002, -5.228600025177002, -5.229400157928467, -5.229400157928467, -5.229800224304199, -5.230000019073486, -4.589200019836426, -4.205399990081787, -4.20419979095459, -4.20389986038208, -4.589799880981445, -4.059599876403809, -4.5914998054504395, -4.8557000160217285, -4.860300064086914, -4.374000072479248, -4.859899997711182, -4.859600067138672, -4.858699798583984, -4.85830020904541, -4.857699871063232, -5.2221999168396, -5.223599910736084, -5.224800109863281, -5.225200176239014, -3.731300115585327, -4.538400173187256, -4.901100158691406, -4.903299808502197, -4.903500080108643, -4.903800010681152, -4.9039998054504395, -4.904399871826172, -4.904399871826172, -4.906599998474121, -4.907299995422363, -4.265200138092041, -5.48829984664917, -5.48829984664917, -5.48829984664917, -5.48829984664917, -5.48829984664917, -5.48829984664917, -5.488900184631348, -5.489099979400635, -5.489099979400635, -5.489099979400635, -5.489200115203857, -5.489200115203857, -5.489200115203857, -5.489200115203857, -5.489200115203857, -5.489200115203857, -5.489299774169922, -5.4893999099731445, -4.057499885559082, -4.904399871826172, -4.906599998474121, -4.5355000495910645, -4.904099941253662, -4.905700206756592, -4.90339994430542, -4.90369987487793, -4.53410005569458, -4.536399841308594, -4.905200004577637, -4.903500080108643, -4.901599884033203, -4.906199932098389, -4.894999980926514, -5.485300064086914, -5.485400199890137, -5.487400054931641, -4.314700126647949, -4.314700126647949, -4.314799785614014, -4.314899921417236, -4.315000057220459, -4.682400226593018, -4.682499885559082, -4.682499885559082, -4.682600021362305, -4.682600021362305, -3.8350000381469727, -4.685400009155273, -4.686800003051758, -5.269999980926514, -5.269999980926514, -5.269999980926514, -5.269999980926514, -5.269999980926514, -5.269999980926514, -5.269999980926514, -5.269999980926514, -5.269999980926514, -5.269999980926514, -5.269999980926514, -5.269999980926514, -5.269999980926514, -5.269999980926514, -5.269999980926514, -5.269999980926514, -5.269999980926514, -4.682400226593018, -4.682600021362305, -4.316100120544434, -4.312600135803223, -4.682300090789795, -4.682600021362305, -4.686500072479248, -4.68149995803833, -4.682300090789795, -4.32289981842041, -4.681000232696533, -5.259799957275391, -5.26639986038208, -5.267899990081787, -5.268199920654297, -5.2683000564575195, -5.2683000564575195, -4.619100093841553, -4.619100093841553, -4.61929988861084, -4.6194000244140625, -4.619800090789795, -4.620699882507324, -4.621200084686279, -4.621699810028076, -5.206900119781494, -5.206900119781494, -5.206900119781494, -5.206900119781494, -5.206900119781494, -5.206900119781494, -5.206900119781494, -5.206900119781494, -5.206900119781494, -5.206900119781494, -5.206900119781494, -5.206900119781494, -5.206900119781494, -5.207200050354004, -5.207200050354004, -5.207200050354004, -5.207200050354004, -5.207200050354004, -5.207200050354004, -5.207300186157227, -5.207300186157227, -5.207799911499023, -4.251800060272217, -4.617099761962891, -4.618800163269043, -4.61899995803833, -4.619200229644775, -4.620299816131592, -4.620999813079834, -4.251299858093262, -4.6203999519348145, -4.621300220489502, -4.61959981918335, -4.6194000244140625, -4.6209001541137695, -4.614099979400635, -4.619900226593018, -5.201700210571289, -5.201900005340576, -5.202700138092041, -5.2027997970581055, -5.203199863433838, -5.2052001953125, -5.205399990081787], \"loglift\": [30.0, 29.0, 28.0, 27.0, 26.0, 25.0, 24.0, 23.0, 22.0, 21.0, 20.0, 19.0, 18.0, 17.0, 16.0, 15.0, 14.0, 13.0, 12.0, 11.0, 10.0, 9.0, 8.0, 7.0, 6.0, 5.0, 4.0, 3.0, 2.0, 1.0, 0.8101000189781189, 0.79830002784729, 0.7595000267028809, 0.7580999732017517, 0.723800003528595, 0.723800003528595, 0.7232000231742859, 0.7228000164031982, 0.7221999764442444, 0.7218999862670898, 0.7214999794960022, 0.6593999862670898, 0.6593000292778015, 0.6590999960899353, 0.6589999794960022, 0.6589000225067139, 0.6583999991416931, 0.65829998254776, 0.6582000255584717, 0.6581000089645386, 0.6579999923706055, 0.6579999923706055, 0.657800018787384, 0.6577000021934509, 0.6577000021934509, 0.6571000218391418, 0.6570000052452087, 0.6567000150680542, 0.6565999984741211, 0.6189000010490417, 0.6129999756813049, 0.5938000082969666, 0.5742999911308289, 0.5960000157356262, 0.5340999960899353, 0.5062000155448914, 0.5504000186920166, 0.5465999841690063, 0.3637999892234802, 0.5196999907493591, 0.4138000011444092, 0.35190001130104065, 0.10499999672174454, 0.0997999981045723, 0.43140000104904175, 0.2522999942302704, 0.010999999940395355, -0.08919999748468399, 1.267300009727478, 1.159500002861023, 1.0880000591278076, 1.0858999490737915, 1.0855000019073486, 1.0853999853134155, 1.0849000215530396, 1.0845999717712402, 1.0844999551773071, 1.082800030708313, 1.082200050354004, 1.0479999780654907, 0.9139000177383423, 0.9139000177383423, 0.9139000177383423, 0.9139000177383423, 0.9139000177383423, 0.9139000177383423, 0.9132999777793884, 0.9132000207901001, 0.913100004196167, 0.913100004196167, 0.913100004196167, 0.913100004196167, 0.913100004196167, 0.913100004196167, 0.9129999876022339, 0.9129999876022339, 0.9129999876022339, 0.9128999710083008, 0.8489999771118164, 0.8440999984741211, 0.8417999744415283, 0.7002000212669373, 0.753600001335144, 0.6381000280380249, 0.6292999982833862, 0.6292999982833862, 0.4291999936103821, 0.421099990606308, 0.564300000667572, 0.30709999799728394, 0.23440000414848328, -0.12809999287128448, -0.3012999892234802, 0.45089998841285706, 0.45080000162124634, -0.10790000110864639, 1.5008000135421753, 1.5008000135421753, 1.5006999969482422, 1.500599980354309, 1.500499963760376, 1.4112999439239502, 1.4111000299453735, 1.4111000299453735, 1.4111000299453735, 1.4111000299453735, 1.409500002861023, 1.4075000286102295, 1.4057999849319458, 1.2101999521255493, 1.2101999521255493, 1.2101999521255493, 1.2101999521255493, 1.2101999521255493, 1.2101999521255493, 1.2101999521255493, 1.2101999521255493, 1.2101999521255493, 1.2101999521255493, 1.2101999521255493, 1.2101999521255493, 1.2101999521255493, 1.2101999521255493, 1.2101999521255493, 1.2101999521255493, 1.2101999521255493, 1.1469999551773071, 1.0920000076293945, 0.9438999891281128, 0.838100016117096, 0.8937000036239624, 0.8503999710083008, 0.8461999893188477, 0.8180000185966492, 0.7659000158309937, 0.414900004863739, 0.5615000128746033, -0.666100025177002, -0.30880001187324524, 0.13899999856948853, 0.4767000079154968, 0.2011999934911728, 0.28299999237060547, 1.5120999813079834, 1.5120999813079834, 1.5118999481201172, 1.5118000507354736, 1.5111000537872314, 1.510200023651123, 1.5096999406814575, 1.5090999603271484, 1.3008999824523926, 1.3008999824523926, 1.3008999824523926, 1.3008999824523926, 1.3008999824523926, 1.3008999824523926, 1.3007999658584595, 1.3007999658584595, 1.3007999658584595, 1.3007999658584595, 1.3007999658584595, 1.3007999658584595, 1.3007999658584595, 1.3005000352859497, 1.3005000352859497, 1.3005000352859497, 1.3005000352859497, 1.3005000352859497, 1.3005000352859497, 1.3004000186920166, 1.3004000186920166, 1.2997000217437744, 1.1964000463485718, 1.1845999956130981, 1.1829999685287476, 1.1826000213623047, 1.1823999881744385, 1.1373000144958496, 1.1368000507354736, 0.9911999702453613, 0.930899977684021, 0.8651000261306763, 0.6536999940872192, 0.6406000256538391, 0.47679999470710754, 0.2924000024795532, 0.19859999418258667, 0.5468000173568726, 0.5467000007629395, 0.3411000072956085, 0.8550000190734863, 0.5037000179290771, 0.8522999882698059, 0.37059998512268066]}, \"token.table\": {\"Topic\": [2, 4, 1, 4, 2, 4, 3, 1, 2, 4, 1, 3, 1, 3, 1, 2, 3, 3, 2, 3, 4, 4, 1, 3, 1, 3, 4, 2, 4, 1, 2, 1, 4, 1, 4, 2, 4, 3, 3, 1, 1, 2, 3, 2, 3, 1, 1, 2, 3, 2, 3, 1, 4, 3, 4, 1, 1, 2, 1, 4, 1, 3, 1, 3, 1, 3, 2, 4, 1, 3, 3, 4, 2, 1, 3, 1, 3, 4, 4, 1, 2, 4, 1, 2, 3, 1, 2, 4, 2, 3, 3, 4, 2, 4, 2, 2, 4, 1, 4, 4, 2, 4, 2, 3, 4, 1, 2, 3, 4, 2, 2, 1, 4, 4, 3, 1, 2, 4, 3, 2, 2, 1, 2, 3, 1, 1, 1, 3, 2, 4, 3, 1, 1, 3, 2, 3, 4, 2, 4, 1, 2, 2, 2, 3, 1, 3, 1, 2, 4, 2, 3, 2, 3, 4, 1, 1, 2, 1, 1, 1, 2, 3, 1, 2, 4, 1, 2, 4, 2, 1, 2, 3, 1, 2, 2, 1, 4, 4, 4, 1, 4, 3, 2, 1, 3, 4, 3, 4, 1, 2, 4, 1, 3, 4, 1, 4, 4, 1, 2, 3, 3, 1, 2, 3, 1, 2, 3, 4, 2, 2, 1, 4, 2, 2, 2, 3, 4, 2, 2, 3, 4, 1, 2, 4, 1, 2, 3, 4, 3, 1, 3, 4, 3, 4, 2, 4, 2, 4], \"Freq\": [0.8096863627433777, 0.8997429013252258, 0.9666211605072021, 0.8997427821159363, 0.5737719535827637, 0.5737719535827637, 0.8753464818000793, 0.8138287663459778, 0.1627657562494278, 0.1627657562494278, 0.7659808397293091, 0.38299041986465454, 0.966783344745636, 0.8753465414047241, 0.6130730509757996, 0.1532682627439499, 0.3065365254878998, 0.8753464818000793, 0.535699725151062, 0.8753467202186584, 0.6173993945121765, 0.8997078537940979, 0.9668859839439392, 0.5946583151817322, 0.9993920922279358, 0.5946630835533142, 0.8997134566307068, 0.8096796274185181, 0.8997427821159363, 0.491841584444046, 0.245920792222023, 0.7134937644004822, 0.6172205209732056, 0.7134842276573181, 0.8997067213058472, 0.4211065173149109, 0.4211065173149109, 0.5940290689468384, 0.8753465414047241, 0.8483492732048035, 0.9662722945213318, 0.4322246313095093, 0.4322246313095093, 0.8174363970756531, 0.27247878909111023, 0.7136585712432861, 0.5823388695716858, 0.2911694347858429, 0.8753465414047241, 0.8006302118301392, 0.5946616530418396, 0.6589827537536621, 0.2196609228849411, 0.9005590677261353, 0.8997427821159363, 0.9666173458099365, 0.9665056467056274, 0.809675931930542, 0.9663400053977966, 0.8997429609298706, 0.9663659334182739, 0.8753464818000793, 0.7135880589485168, 0.8753463625907898, 0.5985050201416016, 0.2992525100708008, 0.5355588793754578, 0.8997432589530945, 0.966640293598175, 0.8753465414047241, 0.4565931558609009, 0.4565931558609009, 0.5355430245399475, 0.5980116128921509, 0.29900580644607544, 0.41957414150238037, 0.41957414150238037, 0.41957414150238037, 0.8995404839515686, 0.7137573957443237, 0.4210893511772156, 0.4210893511772156, 0.3185780346393585, 0.3185780346393585, 0.3185780346393585, 0.38408955931663513, 0.38408955931663513, 0.19204477965831757, 0.8095889091491699, 0.900557816028595, 0.8753466606140137, 0.61720871925354, 0.4441452622413635, 0.4441452622413635, 0.8095884323120117, 0.8095887303352356, 0.8997422456741333, 0.4249424934387207, 0.4249424934387207, 0.6173912882804871, 0.8096798658370972, 0.899711549282074, 0.33947595953941345, 0.33947595953941345, 0.6172747015953064, 0.96685791015625, 0.9947588443756104, 0.31185975670814514, 0.6237195134162903, 0.5358251929283142, 0.8097035884857178, 0.42502352595329285, 0.42502352595329285, 0.8997429609298706, 0.8753466606140137, 0.7196773290634155, 0.23989245295524597, 0.6172645688056946, 0.594660222530365, 0.8096879720687866, 0.8095889091491699, 0.3818524479866028, 0.3818524479866028, 0.1909262239933014, 0.8486380577087402, 0.9665414094924927, 0.7358399629592896, 0.24527998268604279, 0.5735985040664673, 0.5735985040664673, 0.8753467202186584, 0.9665486216545105, 0.7137633562088013, 0.8753466606140137, 0.3543853759765625, 0.3543853759765625, 0.3543853759765625, 0.44414159655570984, 0.44414159655570984, 0.9663288593292236, 0.5355991721153259, 0.8096551895141602, 0.33935779333114624, 0.33935779333114624, 0.9667673110961914, 0.9005631804466248, 0.9664881825447083, 0.4440883994102478, 0.4440883994102478, 0.5356537103652954, 0.8753466606140137, 0.34314852952957153, 0.34314852952957153, 0.34314852952957153, 0.8716171383857727, 0.38452112674713135, 0.38452112674713135, 0.7137380838394165, 0.9665341377258301, 0.32828211784362793, 0.32828211784362793, 0.32828211784362793, 0.5080685615539551, 0.5080685615539551, 0.8997424244880676, 0.9662619829177856, 0.5358536243438721, 0.617414653301239, 0.5356089472770691, 0.7978549003601074, 0.15957097709178925, 0.8753464818000793, 0.5080738067626953, 0.5080738067626953, 0.8096876740455627, 0.9662743210792542, 0.8997134566307068, 0.8997057676315308, 0.8997418284416199, 0.5236636400222778, 0.2618318200111389, 0.875346839427948, 0.8096722960472107, 0.2538772225379944, 0.2538772225379944, 0.5077544450759888, 0.8753465414047241, 0.8997427821159363, 0.18142493069171906, 0.5442748069763184, 0.18142493069171906, 0.34572699666023254, 0.34572699666023254, 0.34572699666023254, 0.6480173468589783, 0.32400867342948914, 0.8997420072555542, 0.4632061719894409, 0.23160308599472046, 0.4632061719894409, 0.9005553126335144, 0.6634652018547058, 0.13269303739070892, 0.13269303739070892, 0.5043457746505737, 0.5043457746505737, 0.5942493677139282, 0.8997420072555542, 0.8096796274185181, 0.8095884919166565, 0.8306751251220703, 0.1661350280046463, 0.8096773028373718, 0.535571813583374, 0.25837159156799316, 0.5167431831359863, 0.25837159156799316, 0.809589147567749, 0.2543891966342926, 0.7631675601005554, 0.8997061252593994, 0.4039453864097595, 0.4039453864097595, 0.4039453864097595, 0.4564644694328308, 0.2282322347164154, 0.2282322347164154, 0.2282322347164154, 0.9005482792854309, 0.6412508487701416, 0.3206254243850708, 0.3206254243850708, 0.5946574807167053, 0.8997092843055725, 0.4440675377845764, 0.4440675377845764, 0.8096939325332642, 0.6174150109291077], \"Term\": [\"advance\", \"affected\", \"aggressive\", \"ago\", \"agree\", \"agree\", \"agreement\", \"allow\", \"allow\", \"allow\", \"also\", \"also\", \"appear\", \"army\", \"ask\", \"ask\", \"ask\", \"assign\", \"away\", \"barbaric\", \"barbarism\", \"belief\", \"berate\", \"bias\", \"blackjack\", \"blame\", \"blindly\", \"board\", \"body\", \"breakfast\", \"breakfast\", \"card\", \"care\", \"casino\", \"century\", \"charge\", \"charge\", \"check\", \"child\", \"chinese\", \"citizen\", \"city\", \"city\", \"clothe\", \"clothe\", \"colleague\", \"come\", \"come\", \"commemorate\", \"conference\", \"crime\", \"customer\", \"customer\", \"cypriot\", \"daily\", \"decide\", \"desk\", \"different\", \"discrimination\", \"drop\", \"dutch\", \"duty\", \"employee\", \"establish\", \"even\", \"even\", \"event\", \"evidence\", \"excellent\", \"exhibit\", \"family\", \"family\", \"find\", \"floor\", \"floor\", \"follow\", \"follow\", \"follow\", \"forget\", \"front\", \"get\", \"get\", \"give\", \"give\", \"give\", \"go\", \"go\", \"go\", \"golden\", \"greek\", \"gudum\", \"half\", \"happen\", \"happen\", \"helpful\", \"high\", \"history\", \"hour\", \"hour\", \"human\", \"hurry\", \"ideology\", \"information\", \"information\", \"innocent\", \"instead\", \"iron\", \"kill\", \"kill\", \"kind\", \"know\", \"leave\", \"leave\", \"little\", \"live\", \"look\", \"look\", \"lose\", \"lot\", \"lovely\", \"maintain\", \"make\", \"make\", \"make\", \"man\", \"management\", \"manager\", \"manager\", \"many\", \"many\", \"martyr\", \"mistake\", \"much\", \"murder\", \"museum\", \"museum\", \"museum\", \"need\", \"need\", \"night\", \"occur\", \"ofcourse\", \"order\", \"order\", \"owner\", \"part\", \"pay\", \"people\", \"people\", \"person\", \"photo\", \"place\", \"place\", \"place\", \"play\", \"present\", \"present\", \"price\", \"problem\", \"put\", \"put\", \"put\", \"quality\", \"quality\", \"quiet\", \"racism\", \"rate\", \"real\", \"recommend\", \"refuse\", \"refuse\", \"regiment\", \"regret\", \"regret\", \"ridiculous\", \"rude\", \"sad\", \"sake\", \"savage\", \"say\", \"say\", \"scene\", \"screwed\", \"see\", \"see\", \"see\", \"send\", \"sensitive\", \"service\", \"service\", \"service\", \"show\", \"show\", \"show\", \"sit\", \"sit\", \"soul\", \"speak\", \"speak\", \"speak\", \"speaker\", \"staff\", \"staff\", \"staff\", \"stay\", \"stay\", \"steak\", \"story\", \"stranger\", \"sure\", \"table\", \"table\", \"take\", \"terrible\", \"time\", \"time\", \"time\", \"tulip\", \"turkish\", \"turkish\", \"type\", \"upset\", \"upset\", \"upset\", \"visit\", \"visit\", \"visit\", \"visit\", \"war\", \"well\", \"well\", \"well\", \"whitewash\", \"wish\", \"world\", \"world\", \"wrinkle\", \"write\"]}, \"R\": 30, \"lambda.step\": 0.01, \"plot.opts\": {\"xlab\": \"PC1\", \"ylab\": \"PC2\"}, \"topic.order\": [3, 4, 1, 2]};\n",
       "\n",
       "function LDAvis_load_lib(url, callback){\n",
       "  var s = document.createElement('script');\n",
       "  s.src = url;\n",
       "  s.async = true;\n",
       "  s.onreadystatechange = s.onload = callback;\n",
       "  s.onerror = function(){console.warn(\"failed to load library \" + url);};\n",
       "  document.getElementsByTagName(\"head\")[0].appendChild(s);\n",
       "}\n",
       "\n",
       "if(typeof(LDAvis) !== \"undefined\"){\n",
       "   // already loaded: just create the visualization\n",
       "   !function(LDAvis){\n",
       "       new LDAvis(\"#\" + \"ldavis_el1381228490037863122363664006\", ldavis_el1381228490037863122363664006_data);\n",
       "   }(LDAvis);\n",
       "}else if(typeof define === \"function\" && define.amd){\n",
       "   // require.js is available: use it to load d3/LDAvis\n",
       "   require.config({paths: {d3: \"https://cdnjs.cloudflare.com/ajax/libs/d3/3.5.5/d3.min\"}});\n",
       "   require([\"d3\"], function(d3){\n",
       "      window.d3 = d3;\n",
       "      LDAvis_load_lib(\"https://cdn.rawgit.com/bmabey/pyLDAvis/files/ldavis.v1.0.0.js\", function(){\n",
       "        new LDAvis(\"#\" + \"ldavis_el1381228490037863122363664006\", ldavis_el1381228490037863122363664006_data);\n",
       "      });\n",
       "    });\n",
       "}else{\n",
       "    // require.js not available: dynamically load d3 & LDAvis\n",
       "    LDAvis_load_lib(\"https://cdnjs.cloudflare.com/ajax/libs/d3/3.5.5/d3.min.js\", function(){\n",
       "         LDAvis_load_lib(\"https://cdn.rawgit.com/bmabey/pyLDAvis/files/ldavis.v1.0.0.js\", function(){\n",
       "                 new LDAvis(\"#\" + \"ldavis_el1381228490037863122363664006\", ldavis_el1381228490037863122363664006_data);\n",
       "            })\n",
       "         });\n",
       "}\n",
       "</script>"
      ],
      "text/plain": [
       "PreparedData(topic_coordinates=              x         y  topics  cluster       Freq\n",
       "topic                                                \n",
       "2      0.120598  0.073448       1        1  41.205063\n",
       "3      0.049026 -0.112857       2        1  25.643137\n",
       "0     -0.111423 -0.052162       3        1  17.588259\n",
       "1     -0.058201  0.091572       4        1  15.563539, topic_info=        Term      Freq     Total Category  logprob  loglift\n",
       "212     iron  5.000000  5.000000  Default  30.0000  30.0000\n",
       "89   turkish  3.000000  3.000000  Default  29.0000  29.0000\n",
       "73      kill  3.000000  3.000000  Default  28.0000  28.0000\n",
       "104      see  3.000000  3.000000  Default  27.0000  27.0000\n",
       "230  service  5.000000  5.000000  Default  26.0000  26.0000\n",
       "..       ...       ...       ...      ...      ...      ...\n",
       "79     place  0.637939  2.914190   Topic4  -5.2027   0.3411\n",
       "48     agree  0.637828  1.742853   Topic4  -5.2028   0.8550\n",
       "58     upset  0.637607  2.475582   Topic4  -5.2032   0.5037\n",
       "23      many  0.636302  1.743380   Topic4  -5.2052   0.8523\n",
       "25    museum  0.636190  2.821787   Topic4  -5.2054   0.3706\n",
       "\n",
       "[225 rows x 6 columns], token_table=      Topic      Freq        Term\n",
       "term                             \n",
       "206       2  0.809686     advance\n",
       "46        4  0.899743    affected\n",
       "158       1  0.966621  aggressive\n",
       "47        4  0.899743         ago\n",
       "48        2  0.573772       agree\n",
       "...     ...       ...         ...\n",
       "131       4  0.899709        wish\n",
       "43        2  0.444068       world\n",
       "43        4  0.444068       world\n",
       "223       2  0.809694     wrinkle\n",
       "59        4  0.617415       write\n",
       "\n",
       "[238 rows x 3 columns], R=30, lambda_step=0.01, plot_opts={'xlab': 'PC1', 'ylab': 'PC2'}, topic_order=[3, 4, 1, 2])"
      ]
     },
     "metadata": {},
     "output_type": "display_data"
    }
   ],
   "source": [
    "plot_model(lda_neg_custom, plot ='topic_model')"
   ]
  },
  {
   "cell_type": "code",
   "execution_count": 20,
   "metadata": {},
   "outputs": [
    {
     "data": {
      "application/vnd.jupyter.widget-view+json": {
       "model_id": "",
       "version_major": 2,
       "version_minor": 0
      },
      "text/plain": [
       "IntProgress(value=0, description='Processing: ', max=25)"
      ]
     },
     "metadata": {},
     "output_type": "display_data"
    },
    {
     "data": {
      "application/vnd.jupyter.widget-view+json": {
       "model_id": "31704c62b5d74a428260c667b9c1c8b8",
       "version_major": 2,
       "version_minor": 0
      },
      "text/plain": [
       "Output()"
      ]
     },
     "metadata": {},
     "output_type": "display_data"
    },
    {
     "data": {
      "text/html": [
       "        <script type=\"text/javascript\">\n",
       "        window.PlotlyConfig = {MathJaxConfig: 'local'};\n",
       "        if (window.MathJax) {MathJax.Hub.Config({SVG: {font: \"STIX-Web\"}});}\n",
       "        if (typeof require !== 'undefined') {\n",
       "        require.undef(\"plotly\");\n",
       "        requirejs.config({\n",
       "            paths: {\n",
       "                'plotly': ['https://cdn.plot.ly/plotly-latest.min']\n",
       "            }\n",
       "        });\n",
       "        require(['plotly'], function(Plotly) {\n",
       "            window._Plotly = Plotly;\n",
       "        });\n",
       "        }\n",
       "        </script>\n",
       "        "
      ]
     },
     "metadata": {},
     "output_type": "display_data"
    },
    {
     "data": {
      "application/vnd.plotly.v1+json": {
       "config": {
        "plotlyServerURL": "https://plot.ly"
       },
       "data": [
        {
         "hovertemplate": "Metric=Coherence<br># Topics=%{x}<br>Score=%{y}<extra></extra>",
         "legendgroup": "Coherence",
         "line": {
          "color": "#636efa",
          "dash": "solid",
          "shape": "linear"
         },
         "mode": "lines",
         "name": "Coherence",
         "orientation": "v",
         "showlegend": true,
         "type": "scatter",
         "x": [
          2,
          4,
          8,
          16,
          32,
          64,
          100,
          200,
          300,
          400
         ],
         "xaxis": "x",
         "y": [
          0.3573851862390798,
          0.46828133130472904,
          0.5692261483207248,
          0.6166658376742081,
          0.711742407704258,
          0.6756014027434958,
          0.6804568327131038,
          0.6504582102612201,
          0.6290275136499464,
          0.6232449535671037
         ],
         "yaxis": "y"
        }
       ],
       "layout": {
        "legend": {
         "title": {
          "text": "Metric"
         },
         "tracegroupgap": 0
        },
        "plot_bgcolor": "rgb(245,245,245)",
        "template": {
         "data": {
          "bar": [
           {
            "error_x": {
             "color": "#2a3f5f"
            },
            "error_y": {
             "color": "#2a3f5f"
            },
            "marker": {
             "line": {
              "color": "#E5ECF6",
              "width": 0.5
             }
            },
            "type": "bar"
           }
          ],
          "barpolar": [
           {
            "marker": {
             "line": {
              "color": "#E5ECF6",
              "width": 0.5
             }
            },
            "type": "barpolar"
           }
          ],
          "carpet": [
           {
            "aaxis": {
             "endlinecolor": "#2a3f5f",
             "gridcolor": "white",
             "linecolor": "white",
             "minorgridcolor": "white",
             "startlinecolor": "#2a3f5f"
            },
            "baxis": {
             "endlinecolor": "#2a3f5f",
             "gridcolor": "white",
             "linecolor": "white",
             "minorgridcolor": "white",
             "startlinecolor": "#2a3f5f"
            },
            "type": "carpet"
           }
          ],
          "choropleth": [
           {
            "colorbar": {
             "outlinewidth": 0,
             "ticks": ""
            },
            "type": "choropleth"
           }
          ],
          "contour": [
           {
            "colorbar": {
             "outlinewidth": 0,
             "ticks": ""
            },
            "colorscale": [
             [
              0,
              "#0d0887"
             ],
             [
              0.1111111111111111,
              "#46039f"
             ],
             [
              0.2222222222222222,
              "#7201a8"
             ],
             [
              0.3333333333333333,
              "#9c179e"
             ],
             [
              0.4444444444444444,
              "#bd3786"
             ],
             [
              0.5555555555555556,
              "#d8576b"
             ],
             [
              0.6666666666666666,
              "#ed7953"
             ],
             [
              0.7777777777777778,
              "#fb9f3a"
             ],
             [
              0.8888888888888888,
              "#fdca26"
             ],
             [
              1,
              "#f0f921"
             ]
            ],
            "type": "contour"
           }
          ],
          "contourcarpet": [
           {
            "colorbar": {
             "outlinewidth": 0,
             "ticks": ""
            },
            "type": "contourcarpet"
           }
          ],
          "heatmap": [
           {
            "colorbar": {
             "outlinewidth": 0,
             "ticks": ""
            },
            "colorscale": [
             [
              0,
              "#0d0887"
             ],
             [
              0.1111111111111111,
              "#46039f"
             ],
             [
              0.2222222222222222,
              "#7201a8"
             ],
             [
              0.3333333333333333,
              "#9c179e"
             ],
             [
              0.4444444444444444,
              "#bd3786"
             ],
             [
              0.5555555555555556,
              "#d8576b"
             ],
             [
              0.6666666666666666,
              "#ed7953"
             ],
             [
              0.7777777777777778,
              "#fb9f3a"
             ],
             [
              0.8888888888888888,
              "#fdca26"
             ],
             [
              1,
              "#f0f921"
             ]
            ],
            "type": "heatmap"
           }
          ],
          "heatmapgl": [
           {
            "colorbar": {
             "outlinewidth": 0,
             "ticks": ""
            },
            "colorscale": [
             [
              0,
              "#0d0887"
             ],
             [
              0.1111111111111111,
              "#46039f"
             ],
             [
              0.2222222222222222,
              "#7201a8"
             ],
             [
              0.3333333333333333,
              "#9c179e"
             ],
             [
              0.4444444444444444,
              "#bd3786"
             ],
             [
              0.5555555555555556,
              "#d8576b"
             ],
             [
              0.6666666666666666,
              "#ed7953"
             ],
             [
              0.7777777777777778,
              "#fb9f3a"
             ],
             [
              0.8888888888888888,
              "#fdca26"
             ],
             [
              1,
              "#f0f921"
             ]
            ],
            "type": "heatmapgl"
           }
          ],
          "histogram": [
           {
            "marker": {
             "colorbar": {
              "outlinewidth": 0,
              "ticks": ""
             }
            },
            "type": "histogram"
           }
          ],
          "histogram2d": [
           {
            "colorbar": {
             "outlinewidth": 0,
             "ticks": ""
            },
            "colorscale": [
             [
              0,
              "#0d0887"
             ],
             [
              0.1111111111111111,
              "#46039f"
             ],
             [
              0.2222222222222222,
              "#7201a8"
             ],
             [
              0.3333333333333333,
              "#9c179e"
             ],
             [
              0.4444444444444444,
              "#bd3786"
             ],
             [
              0.5555555555555556,
              "#d8576b"
             ],
             [
              0.6666666666666666,
              "#ed7953"
             ],
             [
              0.7777777777777778,
              "#fb9f3a"
             ],
             [
              0.8888888888888888,
              "#fdca26"
             ],
             [
              1,
              "#f0f921"
             ]
            ],
            "type": "histogram2d"
           }
          ],
          "histogram2dcontour": [
           {
            "colorbar": {
             "outlinewidth": 0,
             "ticks": ""
            },
            "colorscale": [
             [
              0,
              "#0d0887"
             ],
             [
              0.1111111111111111,
              "#46039f"
             ],
             [
              0.2222222222222222,
              "#7201a8"
             ],
             [
              0.3333333333333333,
              "#9c179e"
             ],
             [
              0.4444444444444444,
              "#bd3786"
             ],
             [
              0.5555555555555556,
              "#d8576b"
             ],
             [
              0.6666666666666666,
              "#ed7953"
             ],
             [
              0.7777777777777778,
              "#fb9f3a"
             ],
             [
              0.8888888888888888,
              "#fdca26"
             ],
             [
              1,
              "#f0f921"
             ]
            ],
            "type": "histogram2dcontour"
           }
          ],
          "mesh3d": [
           {
            "colorbar": {
             "outlinewidth": 0,
             "ticks": ""
            },
            "type": "mesh3d"
           }
          ],
          "parcoords": [
           {
            "line": {
             "colorbar": {
              "outlinewidth": 0,
              "ticks": ""
             }
            },
            "type": "parcoords"
           }
          ],
          "pie": [
           {
            "automargin": true,
            "type": "pie"
           }
          ],
          "scatter": [
           {
            "marker": {
             "colorbar": {
              "outlinewidth": 0,
              "ticks": ""
             }
            },
            "type": "scatter"
           }
          ],
          "scatter3d": [
           {
            "line": {
             "colorbar": {
              "outlinewidth": 0,
              "ticks": ""
             }
            },
            "marker": {
             "colorbar": {
              "outlinewidth": 0,
              "ticks": ""
             }
            },
            "type": "scatter3d"
           }
          ],
          "scattercarpet": [
           {
            "marker": {
             "colorbar": {
              "outlinewidth": 0,
              "ticks": ""
             }
            },
            "type": "scattercarpet"
           }
          ],
          "scattergeo": [
           {
            "marker": {
             "colorbar": {
              "outlinewidth": 0,
              "ticks": ""
             }
            },
            "type": "scattergeo"
           }
          ],
          "scattergl": [
           {
            "marker": {
             "colorbar": {
              "outlinewidth": 0,
              "ticks": ""
             }
            },
            "type": "scattergl"
           }
          ],
          "scattermapbox": [
           {
            "marker": {
             "colorbar": {
              "outlinewidth": 0,
              "ticks": ""
             }
            },
            "type": "scattermapbox"
           }
          ],
          "scatterpolar": [
           {
            "marker": {
             "colorbar": {
              "outlinewidth": 0,
              "ticks": ""
             }
            },
            "type": "scatterpolar"
           }
          ],
          "scatterpolargl": [
           {
            "marker": {
             "colorbar": {
              "outlinewidth": 0,
              "ticks": ""
             }
            },
            "type": "scatterpolargl"
           }
          ],
          "scatterternary": [
           {
            "marker": {
             "colorbar": {
              "outlinewidth": 0,
              "ticks": ""
             }
            },
            "type": "scatterternary"
           }
          ],
          "surface": [
           {
            "colorbar": {
             "outlinewidth": 0,
             "ticks": ""
            },
            "colorscale": [
             [
              0,
              "#0d0887"
             ],
             [
              0.1111111111111111,
              "#46039f"
             ],
             [
              0.2222222222222222,
              "#7201a8"
             ],
             [
              0.3333333333333333,
              "#9c179e"
             ],
             [
              0.4444444444444444,
              "#bd3786"
             ],
             [
              0.5555555555555556,
              "#d8576b"
             ],
             [
              0.6666666666666666,
              "#ed7953"
             ],
             [
              0.7777777777777778,
              "#fb9f3a"
             ],
             [
              0.8888888888888888,
              "#fdca26"
             ],
             [
              1,
              "#f0f921"
             ]
            ],
            "type": "surface"
           }
          ],
          "table": [
           {
            "cells": {
             "fill": {
              "color": "#EBF0F8"
             },
             "line": {
              "color": "white"
             }
            },
            "header": {
             "fill": {
              "color": "#C8D4E3"
             },
             "line": {
              "color": "white"
             }
            },
            "type": "table"
           }
          ]
         },
         "layout": {
          "annotationdefaults": {
           "arrowcolor": "#2a3f5f",
           "arrowhead": 0,
           "arrowwidth": 1
          },
          "coloraxis": {
           "colorbar": {
            "outlinewidth": 0,
            "ticks": ""
           }
          },
          "colorscale": {
           "diverging": [
            [
             0,
             "#8e0152"
            ],
            [
             0.1,
             "#c51b7d"
            ],
            [
             0.2,
             "#de77ae"
            ],
            [
             0.3,
             "#f1b6da"
            ],
            [
             0.4,
             "#fde0ef"
            ],
            [
             0.5,
             "#f7f7f7"
            ],
            [
             0.6,
             "#e6f5d0"
            ],
            [
             0.7,
             "#b8e186"
            ],
            [
             0.8,
             "#7fbc41"
            ],
            [
             0.9,
             "#4d9221"
            ],
            [
             1,
             "#276419"
            ]
           ],
           "sequential": [
            [
             0,
             "#0d0887"
            ],
            [
             0.1111111111111111,
             "#46039f"
            ],
            [
             0.2222222222222222,
             "#7201a8"
            ],
            [
             0.3333333333333333,
             "#9c179e"
            ],
            [
             0.4444444444444444,
             "#bd3786"
            ],
            [
             0.5555555555555556,
             "#d8576b"
            ],
            [
             0.6666666666666666,
             "#ed7953"
            ],
            [
             0.7777777777777778,
             "#fb9f3a"
            ],
            [
             0.8888888888888888,
             "#fdca26"
            ],
            [
             1,
             "#f0f921"
            ]
           ],
           "sequentialminus": [
            [
             0,
             "#0d0887"
            ],
            [
             0.1111111111111111,
             "#46039f"
            ],
            [
             0.2222222222222222,
             "#7201a8"
            ],
            [
             0.3333333333333333,
             "#9c179e"
            ],
            [
             0.4444444444444444,
             "#bd3786"
            ],
            [
             0.5555555555555556,
             "#d8576b"
            ],
            [
             0.6666666666666666,
             "#ed7953"
            ],
            [
             0.7777777777777778,
             "#fb9f3a"
            ],
            [
             0.8888888888888888,
             "#fdca26"
            ],
            [
             1,
             "#f0f921"
            ]
           ]
          },
          "colorway": [
           "#636efa",
           "#EF553B",
           "#00cc96",
           "#ab63fa",
           "#FFA15A",
           "#19d3f3",
           "#FF6692",
           "#B6E880",
           "#FF97FF",
           "#FECB52"
          ],
          "font": {
           "color": "#2a3f5f"
          },
          "geo": {
           "bgcolor": "white",
           "lakecolor": "white",
           "landcolor": "#E5ECF6",
           "showlakes": true,
           "showland": true,
           "subunitcolor": "white"
          },
          "hoverlabel": {
           "align": "left"
          },
          "hovermode": "closest",
          "mapbox": {
           "style": "light"
          },
          "paper_bgcolor": "white",
          "plot_bgcolor": "#E5ECF6",
          "polar": {
           "angularaxis": {
            "gridcolor": "white",
            "linecolor": "white",
            "ticks": ""
           },
           "bgcolor": "#E5ECF6",
           "radialaxis": {
            "gridcolor": "white",
            "linecolor": "white",
            "ticks": ""
           }
          },
          "scene": {
           "xaxis": {
            "backgroundcolor": "#E5ECF6",
            "gridcolor": "white",
            "gridwidth": 2,
            "linecolor": "white",
            "showbackground": true,
            "ticks": "",
            "zerolinecolor": "white"
           },
           "yaxis": {
            "backgroundcolor": "#E5ECF6",
            "gridcolor": "white",
            "gridwidth": 2,
            "linecolor": "white",
            "showbackground": true,
            "ticks": "",
            "zerolinecolor": "white"
           },
           "zaxis": {
            "backgroundcolor": "#E5ECF6",
            "gridcolor": "white",
            "gridwidth": 2,
            "linecolor": "white",
            "showbackground": true,
            "ticks": "",
            "zerolinecolor": "white"
           }
          },
          "shapedefaults": {
           "line": {
            "color": "#2a3f5f"
           }
          },
          "ternary": {
           "aaxis": {
            "gridcolor": "white",
            "linecolor": "white",
            "ticks": ""
           },
           "baxis": {
            "gridcolor": "white",
            "linecolor": "white",
            "ticks": ""
           },
           "bgcolor": "#E5ECF6",
           "caxis": {
            "gridcolor": "white",
            "linecolor": "white",
            "ticks": ""
           }
          },
          "title": {
           "x": 0.05
          },
          "xaxis": {
           "automargin": true,
           "gridcolor": "white",
           "linecolor": "white",
           "ticks": "",
           "title": {
            "standoff": 15
           },
           "zerolinecolor": "white",
           "zerolinewidth": 2
          },
          "yaxis": {
           "automargin": true,
           "gridcolor": "white",
           "linecolor": "white",
           "ticks": "",
           "title": {
            "standoff": 15
           },
           "zerolinecolor": "white",
           "zerolinewidth": 2
          }
         }
        },
        "title": {
         "text": "Coherence Value and # of Topics"
        },
        "xaxis": {
         "anchor": "y",
         "domain": [
          0,
          1
         ],
         "title": {
          "text": "# Topics"
         }
        },
        "yaxis": {
         "anchor": "x",
         "domain": [
          0,
          1
         ],
         "title": {
          "text": "Score"
         }
        }
       }
      },
      "text/html": [
       "<div>\n",
       "        \n",
       "        \n",
       "            <div id=\"8450ef18-366d-4969-8d0b-74551fefd450\" class=\"plotly-graph-div\" style=\"height:525px; width:100%;\"></div>\n",
       "            <script type=\"text/javascript\">\n",
       "                require([\"plotly\"], function(Plotly) {\n",
       "                    window.PLOTLYENV=window.PLOTLYENV || {};\n",
       "                    \n",
       "                if (document.getElementById(\"8450ef18-366d-4969-8d0b-74551fefd450\")) {\n",
       "                    Plotly.newPlot(\n",
       "                        '8450ef18-366d-4969-8d0b-74551fefd450',\n",
       "                        [{\"hovertemplate\": \"Metric=Coherence<br># Topics=%{x}<br>Score=%{y}<extra></extra>\", \"legendgroup\": \"Coherence\", \"line\": {\"color\": \"#636efa\", \"dash\": \"solid\", \"shape\": \"linear\"}, \"mode\": \"lines\", \"name\": \"Coherence\", \"orientation\": \"v\", \"showlegend\": true, \"type\": \"scatter\", \"x\": [2, 4, 8, 16, 32, 64, 100, 200, 300, 400], \"xaxis\": \"x\", \"y\": [0.3573851862390798, 0.46828133130472904, 0.5692261483207248, 0.6166658376742081, 0.711742407704258, 0.6756014027434958, 0.6804568327131038, 0.6504582102612201, 0.6290275136499464, 0.6232449535671037], \"yaxis\": \"y\"}],\n",
       "                        {\"legend\": {\"title\": {\"text\": \"Metric\"}, \"tracegroupgap\": 0}, \"plot_bgcolor\": \"rgb(245,245,245)\", \"template\": {\"data\": {\"bar\": [{\"error_x\": {\"color\": \"#2a3f5f\"}, \"error_y\": {\"color\": \"#2a3f5f\"}, \"marker\": {\"line\": {\"color\": \"#E5ECF6\", \"width\": 0.5}}, \"type\": \"bar\"}], \"barpolar\": [{\"marker\": {\"line\": {\"color\": \"#E5ECF6\", \"width\": 0.5}}, \"type\": \"barpolar\"}], \"carpet\": [{\"aaxis\": {\"endlinecolor\": \"#2a3f5f\", \"gridcolor\": \"white\", \"linecolor\": \"white\", \"minorgridcolor\": \"white\", \"startlinecolor\": \"#2a3f5f\"}, \"baxis\": {\"endlinecolor\": \"#2a3f5f\", \"gridcolor\": \"white\", \"linecolor\": \"white\", \"minorgridcolor\": \"white\", \"startlinecolor\": \"#2a3f5f\"}, \"type\": \"carpet\"}], \"choropleth\": [{\"colorbar\": {\"outlinewidth\": 0, \"ticks\": \"\"}, \"type\": \"choropleth\"}], \"contour\": [{\"colorbar\": {\"outlinewidth\": 0, \"ticks\": \"\"}, \"colorscale\": [[0.0, \"#0d0887\"], [0.1111111111111111, \"#46039f\"], [0.2222222222222222, \"#7201a8\"], [0.3333333333333333, \"#9c179e\"], [0.4444444444444444, \"#bd3786\"], [0.5555555555555556, \"#d8576b\"], [0.6666666666666666, \"#ed7953\"], [0.7777777777777778, \"#fb9f3a\"], [0.8888888888888888, \"#fdca26\"], [1.0, \"#f0f921\"]], \"type\": \"contour\"}], \"contourcarpet\": [{\"colorbar\": {\"outlinewidth\": 0, \"ticks\": \"\"}, \"type\": \"contourcarpet\"}], \"heatmap\": [{\"colorbar\": {\"outlinewidth\": 0, \"ticks\": \"\"}, \"colorscale\": [[0.0, \"#0d0887\"], [0.1111111111111111, \"#46039f\"], [0.2222222222222222, \"#7201a8\"], [0.3333333333333333, \"#9c179e\"], [0.4444444444444444, \"#bd3786\"], [0.5555555555555556, \"#d8576b\"], [0.6666666666666666, \"#ed7953\"], [0.7777777777777778, \"#fb9f3a\"], [0.8888888888888888, \"#fdca26\"], [1.0, \"#f0f921\"]], \"type\": \"heatmap\"}], \"heatmapgl\": [{\"colorbar\": {\"outlinewidth\": 0, \"ticks\": \"\"}, \"colorscale\": [[0.0, \"#0d0887\"], [0.1111111111111111, \"#46039f\"], [0.2222222222222222, \"#7201a8\"], [0.3333333333333333, \"#9c179e\"], [0.4444444444444444, \"#bd3786\"], [0.5555555555555556, \"#d8576b\"], [0.6666666666666666, \"#ed7953\"], [0.7777777777777778, \"#fb9f3a\"], [0.8888888888888888, \"#fdca26\"], [1.0, \"#f0f921\"]], \"type\": \"heatmapgl\"}], \"histogram\": [{\"marker\": {\"colorbar\": {\"outlinewidth\": 0, \"ticks\": \"\"}}, \"type\": \"histogram\"}], \"histogram2d\": [{\"colorbar\": {\"outlinewidth\": 0, \"ticks\": \"\"}, \"colorscale\": [[0.0, \"#0d0887\"], [0.1111111111111111, \"#46039f\"], [0.2222222222222222, \"#7201a8\"], [0.3333333333333333, \"#9c179e\"], [0.4444444444444444, \"#bd3786\"], [0.5555555555555556, \"#d8576b\"], [0.6666666666666666, \"#ed7953\"], [0.7777777777777778, \"#fb9f3a\"], [0.8888888888888888, \"#fdca26\"], [1.0, \"#f0f921\"]], \"type\": \"histogram2d\"}], \"histogram2dcontour\": [{\"colorbar\": {\"outlinewidth\": 0, \"ticks\": \"\"}, \"colorscale\": [[0.0, \"#0d0887\"], [0.1111111111111111, \"#46039f\"], [0.2222222222222222, \"#7201a8\"], [0.3333333333333333, \"#9c179e\"], [0.4444444444444444, \"#bd3786\"], [0.5555555555555556, \"#d8576b\"], [0.6666666666666666, \"#ed7953\"], [0.7777777777777778, \"#fb9f3a\"], [0.8888888888888888, \"#fdca26\"], [1.0, \"#f0f921\"]], \"type\": \"histogram2dcontour\"}], \"mesh3d\": [{\"colorbar\": {\"outlinewidth\": 0, \"ticks\": \"\"}, \"type\": \"mesh3d\"}], \"parcoords\": [{\"line\": {\"colorbar\": {\"outlinewidth\": 0, \"ticks\": \"\"}}, \"type\": \"parcoords\"}], \"pie\": [{\"automargin\": true, \"type\": \"pie\"}], \"scatter\": [{\"marker\": {\"colorbar\": {\"outlinewidth\": 0, \"ticks\": \"\"}}, \"type\": \"scatter\"}], \"scatter3d\": [{\"line\": {\"colorbar\": {\"outlinewidth\": 0, \"ticks\": \"\"}}, \"marker\": {\"colorbar\": {\"outlinewidth\": 0, \"ticks\": \"\"}}, \"type\": \"scatter3d\"}], \"scattercarpet\": [{\"marker\": {\"colorbar\": {\"outlinewidth\": 0, \"ticks\": \"\"}}, \"type\": \"scattercarpet\"}], \"scattergeo\": [{\"marker\": {\"colorbar\": {\"outlinewidth\": 0, \"ticks\": \"\"}}, \"type\": \"scattergeo\"}], \"scattergl\": [{\"marker\": {\"colorbar\": {\"outlinewidth\": 0, \"ticks\": \"\"}}, \"type\": \"scattergl\"}], \"scattermapbox\": [{\"marker\": {\"colorbar\": {\"outlinewidth\": 0, \"ticks\": \"\"}}, \"type\": \"scattermapbox\"}], \"scatterpolar\": [{\"marker\": {\"colorbar\": {\"outlinewidth\": 0, \"ticks\": \"\"}}, \"type\": \"scatterpolar\"}], \"scatterpolargl\": [{\"marker\": {\"colorbar\": {\"outlinewidth\": 0, \"ticks\": \"\"}}, \"type\": \"scatterpolargl\"}], \"scatterternary\": [{\"marker\": {\"colorbar\": {\"outlinewidth\": 0, \"ticks\": \"\"}}, \"type\": \"scatterternary\"}], \"surface\": [{\"colorbar\": {\"outlinewidth\": 0, \"ticks\": \"\"}, \"colorscale\": [[0.0, \"#0d0887\"], [0.1111111111111111, \"#46039f\"], [0.2222222222222222, \"#7201a8\"], [0.3333333333333333, \"#9c179e\"], [0.4444444444444444, \"#bd3786\"], [0.5555555555555556, \"#d8576b\"], [0.6666666666666666, \"#ed7953\"], [0.7777777777777778, \"#fb9f3a\"], [0.8888888888888888, \"#fdca26\"], [1.0, \"#f0f921\"]], \"type\": \"surface\"}], \"table\": [{\"cells\": {\"fill\": {\"color\": \"#EBF0F8\"}, \"line\": {\"color\": \"white\"}}, \"header\": {\"fill\": {\"color\": \"#C8D4E3\"}, \"line\": {\"color\": \"white\"}}, \"type\": \"table\"}]}, \"layout\": {\"annotationdefaults\": {\"arrowcolor\": \"#2a3f5f\", \"arrowhead\": 0, \"arrowwidth\": 1}, \"coloraxis\": {\"colorbar\": {\"outlinewidth\": 0, \"ticks\": \"\"}}, \"colorscale\": {\"diverging\": [[0, \"#8e0152\"], [0.1, \"#c51b7d\"], [0.2, \"#de77ae\"], [0.3, \"#f1b6da\"], [0.4, \"#fde0ef\"], [0.5, \"#f7f7f7\"], [0.6, \"#e6f5d0\"], [0.7, \"#b8e186\"], [0.8, \"#7fbc41\"], [0.9, \"#4d9221\"], [1, \"#276419\"]], \"sequential\": [[0.0, \"#0d0887\"], [0.1111111111111111, \"#46039f\"], [0.2222222222222222, \"#7201a8\"], [0.3333333333333333, \"#9c179e\"], [0.4444444444444444, \"#bd3786\"], [0.5555555555555556, \"#d8576b\"], [0.6666666666666666, \"#ed7953\"], [0.7777777777777778, \"#fb9f3a\"], [0.8888888888888888, \"#fdca26\"], [1.0, \"#f0f921\"]], \"sequentialminus\": [[0.0, \"#0d0887\"], [0.1111111111111111, \"#46039f\"], [0.2222222222222222, \"#7201a8\"], [0.3333333333333333, \"#9c179e\"], [0.4444444444444444, \"#bd3786\"], [0.5555555555555556, \"#d8576b\"], [0.6666666666666666, \"#ed7953\"], [0.7777777777777778, \"#fb9f3a\"], [0.8888888888888888, \"#fdca26\"], [1.0, \"#f0f921\"]]}, \"colorway\": [\"#636efa\", \"#EF553B\", \"#00cc96\", \"#ab63fa\", \"#FFA15A\", \"#19d3f3\", \"#FF6692\", \"#B6E880\", \"#FF97FF\", \"#FECB52\"], \"font\": {\"color\": \"#2a3f5f\"}, \"geo\": {\"bgcolor\": \"white\", \"lakecolor\": \"white\", \"landcolor\": \"#E5ECF6\", \"showlakes\": true, \"showland\": true, \"subunitcolor\": \"white\"}, \"hoverlabel\": {\"align\": \"left\"}, \"hovermode\": \"closest\", \"mapbox\": {\"style\": \"light\"}, \"paper_bgcolor\": \"white\", \"plot_bgcolor\": \"#E5ECF6\", \"polar\": {\"angularaxis\": {\"gridcolor\": \"white\", \"linecolor\": \"white\", \"ticks\": \"\"}, \"bgcolor\": \"#E5ECF6\", \"radialaxis\": {\"gridcolor\": \"white\", \"linecolor\": \"white\", \"ticks\": \"\"}}, \"scene\": {\"xaxis\": {\"backgroundcolor\": \"#E5ECF6\", \"gridcolor\": \"white\", \"gridwidth\": 2, \"linecolor\": \"white\", \"showbackground\": true, \"ticks\": \"\", \"zerolinecolor\": \"white\"}, \"yaxis\": {\"backgroundcolor\": \"#E5ECF6\", \"gridcolor\": \"white\", \"gridwidth\": 2, \"linecolor\": \"white\", \"showbackground\": true, \"ticks\": \"\", \"zerolinecolor\": \"white\"}, \"zaxis\": {\"backgroundcolor\": \"#E5ECF6\", \"gridcolor\": \"white\", \"gridwidth\": 2, \"linecolor\": \"white\", \"showbackground\": true, \"ticks\": \"\", \"zerolinecolor\": \"white\"}}, \"shapedefaults\": {\"line\": {\"color\": \"#2a3f5f\"}}, \"ternary\": {\"aaxis\": {\"gridcolor\": \"white\", \"linecolor\": \"white\", \"ticks\": \"\"}, \"baxis\": {\"gridcolor\": \"white\", \"linecolor\": \"white\", \"ticks\": \"\"}, \"bgcolor\": \"#E5ECF6\", \"caxis\": {\"gridcolor\": \"white\", \"linecolor\": \"white\", \"ticks\": \"\"}}, \"title\": {\"x\": 0.05}, \"xaxis\": {\"automargin\": true, \"gridcolor\": \"white\", \"linecolor\": \"white\", \"ticks\": \"\", \"title\": {\"standoff\": 15}, \"zerolinecolor\": \"white\", \"zerolinewidth\": 2}, \"yaxis\": {\"automargin\": true, \"gridcolor\": \"white\", \"linecolor\": \"white\", \"ticks\": \"\", \"title\": {\"standoff\": 15}, \"zerolinecolor\": \"white\", \"zerolinewidth\": 2}}}, \"title\": {\"text\": \"Coherence Value and # of Topics\"}, \"xaxis\": {\"anchor\": \"y\", \"domain\": [0.0, 1.0], \"title\": {\"text\": \"# Topics\"}}, \"yaxis\": {\"anchor\": \"x\", \"domain\": [0.0, 1.0], \"title\": {\"text\": \"Score\"}}},\n",
       "                        {\"responsive\": true}\n",
       "                    ).then(function(){\n",
       "                            \n",
       "var gd = document.getElementById('8450ef18-366d-4969-8d0b-74551fefd450');\n",
       "var x = new MutationObserver(function (mutations, observer) {{\n",
       "        var display = window.getComputedStyle(gd).display;\n",
       "        if (!display || display === 'none') {{\n",
       "            console.log([gd, 'removed!']);\n",
       "            Plotly.purge(gd);\n",
       "            observer.disconnect();\n",
       "        }}\n",
       "}});\n",
       "\n",
       "// Listen for the removal of the full notebook cells\n",
       "var notebookContainer = gd.closest('#notebook-container');\n",
       "if (notebookContainer) {{\n",
       "    x.observe(notebookContainer, {childList: true});\n",
       "}}\n",
       "\n",
       "// Listen for the clearing of the current output cell\n",
       "var outputEl = gd.closest('.output');\n",
       "if (outputEl) {{\n",
       "    x.observe(outputEl, {childList: true});\n",
       "}}\n",
       "\n",
       "                        })\n",
       "                };\n",
       "                });\n",
       "            </script>\n",
       "        </div>"
      ]
     },
     "metadata": {},
     "output_type": "display_data"
    },
    {
     "name": "stdout",
     "output_type": "stream",
     "text": [
      "Best Model: Latent Dirichlet Allocation | # Topics: 32 | Coherence: 0.7117\n"
     ]
    }
   ],
   "source": [
    "tune_lda_negative = tune_model(model='lda', supervised_target=None, estimator='xgboost')"
   ]
  },
  {
   "cell_type": "markdown",
   "metadata": {},
   "source": [
    "16 topics is chosen"
   ]
  },
  {
   "cell_type": "code",
   "execution_count": 21,
   "metadata": {},
   "outputs": [
    {
     "name": "stdout",
     "output_type": "stream",
     "text": [
      "LdaModel(num_terms=447, num_topics=16, decay=0.5, chunksize=100)\n"
     ]
    }
   ],
   "source": [
    "lda_neg_16 = create_model('lda', num_topics=16)\n",
    "print(lda_neg_16)"
   ]
  },
  {
   "cell_type": "code",
   "execution_count": 22,
   "metadata": {},
   "outputs": [
    {
     "data": {
      "application/vnd.jupyter.widget-view+json": {
       "model_id": "ea44ea607d304896a086fc922022c177",
       "version_major": 2,
       "version_minor": 0
      },
      "text/plain": [
       "interactive(children=(ToggleButtons(description='Plot Type:', icons=('',), options=(('Frequency Plot', 'freque…"
      ]
     },
     "metadata": {},
     "output_type": "display_data"
    }
   ],
   "source": [
    "evaluate_model(lda_neg_16)"
   ]
  },
  {
   "cell_type": "code",
   "execution_count": 23,
   "metadata": {},
   "outputs": [
    {
     "data": {
      "text/html": [
       "        <script type=\"text/javascript\">\n",
       "        window.PlotlyConfig = {MathJaxConfig: 'local'};\n",
       "        if (window.MathJax) {MathJax.Hub.Config({SVG: {font: \"STIX-Web\"}});}\n",
       "        if (typeof require !== 'undefined') {\n",
       "        require.undef(\"plotly\");\n",
       "        requirejs.config({\n",
       "            paths: {\n",
       "                'plotly': ['https://cdn.plot.ly/plotly-latest.min']\n",
       "            }\n",
       "        });\n",
       "        require(['plotly'], function(Plotly) {\n",
       "            window._Plotly = Plotly;\n",
       "        });\n",
       "        }\n",
       "        </script>\n",
       "        "
      ]
     },
     "metadata": {},
     "output_type": "display_data"
    },
    {
     "data": {
      "text/html": [
       "\n",
       "<link rel=\"stylesheet\" type=\"text/css\" href=\"https://cdn.rawgit.com/bmabey/pyLDAvis/files/ldavis.v1.0.0.css\">\n",
       "\n",
       "\n",
       "<div id=\"ldavis_el1381228490498666964552526134\"></div>\n",
       "<script type=\"text/javascript\">\n",
       "\n",
       "var ldavis_el1381228490498666964552526134_data = {\"mdsDat\": {\"x\": [0.1924761460633894, -0.045463305818039236, -0.2378018987100385, -0.1732527490644249, 0.19261565645393244, 0.2010803762876698, 0.029671889643072415, -0.06241072348992251, -0.1018168726220277, -0.026488100025165814, 0.05571566331671279, -0.0048113196503782665, -0.0049287997749545755, -0.005049397330356153, -0.004756652164668209, -0.00477991311480114], \"y\": [0.1576483966158211, -0.275317392664523, -0.09695345099763865, 0.18454994138527897, -0.1772027103420921, -0.02785475139669555, 0.1926567304291452, -0.0680650285262198, 0.026370895182917645, 0.08713308943138137, -0.024457289919397194, 0.00445039112310805, 0.0042728808098175496, 0.004267422682865211, 0.004260716056566266, 0.004240160129665148], \"topics\": [1, 2, 3, 4, 5, 6, 7, 8, 9, 10, 11, 12, 13, 14, 15, 16], \"cluster\": [1, 1, 1, 1, 1, 1, 1, 1, 1, 1, 1, 1, 1, 1, 1, 1], \"Freq\": [20.351472854614258, 18.340654373168945, 15.385047912597656, 13.14491081237793, 11.765873908996582, 7.120590686798096, 4.841136455535889, 2.4183995723724365, 2.2890686988830566, 2.154440402984619, 1.8819183111190796, 0.06374018639326096, 0.06339910626411438, 0.062272027134895325, 0.05963150039315224, 0.05744551122188568]}, \"tinfo\": {\"Term\": [\"iron\", \"play\", \"staff\", \"blackjack\", \"ask\", \"service\", \"refuse\", \"turkish\", \"make\", \"see\", \"clothe\", \"allow\", \"go\", \"table\", \"stay\", \"customer\", \"order\", \"chinese\", \"visit\", \"kill\", \"look\", \"give\", \"speak\", \"information\", \"museum\", \"time\", \"man\", \"conference\", \"war\", \"greek\", \"front\", \"management\", \"problem\", \"pay\", \"desk\", \"mistake\", \"instead\", \"berate\", \"owner\", \"appear\", \"facility\", \"fill\", \"waiter\", \"cigarette\", \"smell\", \"welcome\", \"standard\", \"cheap\", \"taste\", \"big\", \"weak\", \"lack\", \"unproffesional\", \"guest\", \"act\", \"future\", \"tantrum\", \"treat\", \"sock\", \"suggest\", \"man\", \"staff\", \"slow\", \"much\", \"customer\", \"go\", \"make\", \"come\", \"even\", \"speak\", \"rude\", \"morning\", \"play\", \"blackjack\", \"chinese\", \"card\", \"casino\", \"night\", \"racism\", \"citizen\", \"discrimination\", \"dutch\", \"look\", \"refuse\", \"single\", \"sell\", \"air\", \"english\", \"due\", \"conditioning\", \"train\", \"new\", \"swimmingpool\", \"work\", \"move\", \"allergic\", \"open\", \"rack\", \"window\", \"expensive\", \"suffer\", \"acceptable\", \"allow\", \"table\", \"ask\", \"manager\", \"price\", \"employee\", \"colleague\", \"floor\", \"say\", \"visit\", \"staff\", \"much\", \"well\", \"even\", \"order\", \"conference\", \"steak\", \"check\", \"rate\", \"kind\", \"self\", \"second\", \"minibar\", \"medium\", \"herd\", \"sorry\", \"expect\", \"average\", \"example\", \"concierge\", \"email\", \"appoint\", \"become\", \"comfortable\", \"travel\", \"organizer\", \"stressful\", \"arrive\", \"egg\", \"buffet\", \"meat\", \"beautifully\", \"favor\", \"bed\", \"service\", \"get\", \"ask\", \"give\", \"place\", \"stay\", \"breakfast\", \"refuse\", \"deny\", \"well\", \"want\", \"time\", \"also\", \"staff\", \"manager\", \"floor\", \"write\", \"indeed\", \"half\", \"lose\", \"care\", \"daily\", \"ago\", \"drop\", \"forget\", \"mention\", \"peace\", \"story\", \"quiet\", \"body\", \"affected\", \"disgusting\", \"recent\", \"refurbishment\", \"unhygienic\", \"display\", \"otherwise\", \"enhance\", \"ruin\", \"enormously\", \"shock\", \"tole\", \"box\", \"donation\", \"stand\", \"describe\", \"happen\", \"hour\", \"leave\", \"customer\", \"well\", \"sit\", \"say\", \"time\", \"service\", \"allow\", \"table\", \"people\", \"charge\", \"go\", \"upset\", \"bring\", \"kill\", \"agree\", \"innocent\", \"cypriot\", \"part\", \"greek\", \"speaker\", \"war\", \"crime\", \"blame\", \"whitewash\", \"bias\", \"lot\", \"turkish\", \"city\", \"barbaric\", \"army\", \"agreement\", \"murder\", \"child\", \"commemorate\", \"photo\", \"martyr\", \"duty\", \"exhibit\", \"gudum\", \"live\", \"send\", \"assign\", \"scene\", \"establish\", \"regiment\", \"waste\", \"family\", \"speak\", \"museum\", \"information\", \"put\", \"kill\", \"time\", \"show\", \"follow\", \"event\", \"occur\", \"find\", \"balanced\", \"really\", \"range\", \"simply\", \"feel\", \"clear\", \"source\", \"easy\", \"driver\", \"point\", \"historical\", \"view\", \"hold\", \"location\", \"mind\", \"employ\", \"site\", \"garner\", \"think\", \"fairly\", \"small\", \"definitely\", \"pretense\", \"worth\", \"taxi\", \"strange\", \"horror\", \"present\", \"make\", \"information\", \"go\", \"visit\", \"currently\", \"many\", \"museum\", \"allow\", \"iron\", \"clothe\", \"ofcourse\", \"know\", \"different\", \"wrinkle\", \"take\", \"screwed\", \"stranger\", \"ridiculous\", \"board\", \"lovely\", \"hurry\", \"advance\", \"recommend\", \"need\", \"person\", \"away\", \"friendly\", \"people\", \"charge\", \"go\", \"put\", \"come\", \"time\", \"staff\", \"maintain\", \"high\", \"tulip\", \"helpful\", \"golden\", \"able\", \"sure\", \"thing\", \"horror\", \"taxi\", \"find\", \"present\", \"occur\", \"allow\", \"make\", \"table\", \"human\", \"sad\", \"belief\", \"century\", \"blindly\", \"type\", \"wish\", \"sake\", \"ideology\", \"barbarism\", \"however\", \"need\", \"world\", \"follow\", \"museum\", \"see\", \"kill\", \"high\", \"maintain\", \"tulip\", \"golden\", \"helpful\", \"sure\", \"victim\", \"soon\", \"especially\", \"sadness\", \"narration\", \"survivor\", \"goosebump\", \"gudum\", \"live\", \"martyr\", \"business\", \"murder\", \"photo\", \"blackjack\", \"regiment\", \"send\", \"scene\", \"also\", \"turn\", \"accusation\", \"real\", \"evidence\", \"savage\", \"sensitive\", \"history\", \"little\", \"soul\", \"barbarism\", \"innocent\", \"see\", \"disturbing\", \"need\", \"people\", \"show\", \"kill\", \"tulip\", \"high\", \"maintain\", \"golden\", \"helpful\", \"sure\", \"victim\", \"soon\", \"especially\", \"sadness\", \"narration\", \"survivor\", \"goosebump\", \"feeling\", \"die\", \"horrible\", \"far\", \"crowd\", \"lose\", \"attitude\", \"thousand\", \"merit\", \"hundred\", \"highly\", \"minute\", \"generally\", \"outside\", \"care\", \"donation\", \"wait\", \"hour\", \"leave\", \"sit\", \"half\", \"service\", \"customer\", \"table\", \"visit\", \"get\", \"creepy\", \"die\", \"feeling\", \"goosebump\", \"survivor\", \"narration\", \"sadness\", \"especially\", \"soon\", \"victim\", \"read\", \"bathroom\", \"see\", \"clothe\", \"give\", \"tulip\", \"high\", \"maintain\", \"helpful\", \"sure\", \"golden\", \"savage\", \"soul\", \"history\", \"sensitive\", \"little\", \"evidence\", \"sad\", \"belief\", \"century\", \"blindly\", \"act\", \"guest\", \"unproffesional\", \"weak\", \"lack\", \"big\", \"taste\", \"cheap\", \"welcome\", \"standard\", \"smell\", \"cigarette\", \"fill\", \"breakfast\", \"go\", \"slow\", \"also\", \"star\", \"stay\", \"large\", \"even\", \"turn\", \"sure\", \"golden\", \"helpful\", \"tulip\", \"high\", \"maintain\", \"recommend\", \"quality\", \"regret\", \"city\", \"stay\", \"visit\", \"service\", \"staff\", \"victim\", \"soon\", \"especially\", \"sadness\", \"narration\", \"survivor\", \"goosebump\", \"feeling\", \"die\", \"creepy\", \"savage\", \"soul\", \"history\", \"evidence\", \"little\", \"sensitive\", \"barbaric\", \"child\", \"commemorate\", \"duty\", \"establish\", \"exhibit\", \"gudum\", \"live\", \"martyr\", \"murder\", \"photo\", \"regiment\", \"scene\", \"send\", \"turn\", \"accusation\", \"victim\", \"soon\", \"especially\", \"sadness\", \"narration\", \"survivor\", \"goosebump\", \"feeling\", \"die\", \"creepy\", \"tulip\", \"high\", \"maintain\", \"sure\", \"helpful\", \"golden\", \"savage\", \"soul\", \"history\", \"sensitive\", \"evidence\", \"little\", \"sad\", \"belief\", \"century\", \"blindly\", \"type\", \"wish\", \"sake\", \"ideology\", \"read\", \"bathroom\", \"see\", \"give\", \"clothe\", \"war\", \"propaganda\", \"local\", \"shock\", \"build\", \"whole\", \"control\", \"city\", \"locate\", \"energy\", \"busy\", \"lot\", \"bias\", \"turkish\", \"greek\", \"speak\", \"whitewash\", \"part\", \"information\", \"speaker\", \"cypriot\", \"time\", \"put\", \"place\", \"high\", \"maintain\", \"tulip\", \"sure\", \"golden\", \"helpful\", \"victim\", \"soon\", \"especially\", \"sadness\", \"narration\", \"survivor\", \"goosebump\", \"feeling\", \"die\", \"creepy\", \"soul\", \"savage\", \"history\", \"sensitive\", \"evidence\", \"little\", \"sad\", \"belief\", \"century\", \"blindly\", \"type\", \"wish\", \"sake\", \"ideology\", \"reservation\", \"plenary\", \"first\", \"side\", \"stick\", \"invite\", \"wrong\", \"state\", \"unbearably\", \"arrive\", \"tell\", \"often\", \"cancel\", \"original\", \"kind\", \"favor\", \"full\", \"amazing\", \"beautiful\", \"one\", \"scramble\", \"cause\", \"bed\", \"book\", \"conference\", \"letter\", \"rate\", \"finally\", \"money\", \"become\", \"service\", \"staff\", \"get\", \"place\", \"upset\", \"owner\", \"speak\", \"stay\", \"man\", \"appear\", \"experience\", \"give\", \"never\", \"breakfast\", \"order\", \"refuse\", \"instead\", \"make\", \"much\", \"front\", \"berate\", \"morning\", \"high\", \"maintain\", \"tulip\", \"sure\", \"golden\", \"helpful\", \"victim\", \"soon\", \"especially\", \"sadness\", \"narration\", \"survivor\", \"goosebump\", \"feeling\", \"die\", \"creepy\", \"soul\", \"savage\", \"history\", \"sensitive\", \"evidence\", \"little\", \"sad\", \"belief\", \"century\", \"blindly\", \"type\", \"wish\", \"sake\", \"ideology\", \"often\", \"full\", \"explain\", \"unbearably\", \"tell\", \"com\", \"try\", \"buffet\", \"unfortunately\", \"letter\", \"next\", \"meat\", \"money\", \"back\", \"scramble\", \"state\", \"amazing\", \"door\", \"side\", \"original\", \"cause\", \"book\", \"one\", \"kind\", \"conference\", \"service\", \"egg\", \"cancel\", \"wrong\", \"rate\", \"never\", \"experience\", \"staff\", \"give\", \"appear\", \"man\", \"breakfast\", \"get\", \"order\", \"speak\", \"owner\", \"refuse\", \"place\", \"stay\", \"berate\", \"upset\", \"bathroom\", \"make\", \"much\", \"customer\", \"star\", \"high\", \"maintain\", \"tulip\", \"sure\", \"golden\", \"helpful\", \"victim\", \"soon\", \"especially\", \"sadness\", \"narration\", \"survivor\", \"goosebump\", \"feeling\", \"die\", \"creepy\", \"soul\", \"savage\", \"history\", \"sensitive\", \"evidence\", \"little\", \"sad\", \"belief\", \"century\", \"blindly\", \"type\", \"wish\", \"sake\", \"ideology\", \"lack\", \"guest\", \"unproffesional\", \"act\", \"standard\", \"taste\", \"cheap\", \"weak\", \"waiter\", \"smell\", \"welcome\", \"big\", \"cigarette\", \"fill\", \"go\", \"slow\", \"turn\", \"desk\", \"also\", \"large\", \"star\", \"stay\", \"floor\", \"breakfast\", \"pay\", \"mistake\", \"morning\", \"front\", \"management\", \"problem\", \"high\", \"maintain\", \"tulip\", \"sure\", \"golden\", \"helpful\", \"victim\", \"soon\", \"especially\", \"sadness\", \"narration\", \"survivor\", \"goosebump\", \"feeling\", \"die\", \"creepy\", \"soul\", \"savage\", \"history\", \"sensitive\", \"evidence\", \"little\", \"sad\", \"belief\", \"century\", \"blindly\", \"type\", \"wish\", \"sake\", \"ideology\", \"wrong\", \"photo\", \"assign\", \"barbaric\", \"child\", \"commemorate\", \"duty\", \"establish\", \"exhibit\", \"gudum\", \"live\", \"martyr\", \"murder\", \"regiment\", \"agreement\", \"scene\", \"send\", \"turn\", \"accusation\", \"aggressive\", \"also\", \"announcement\", \"answer\", \"ask\", \"blackjack\", \"business\", \"army\", \"wife\", \"card\", \"follow\"], \"Freq\": [4.0, 6.0, 8.0, 5.0, 7.0, 6.0, 6.0, 5.0, 5.0, 3.0, 3.0, 6.0, 5.0, 6.0, 4.0, 5.0, 3.0, 3.0, 4.0, 3.0, 4.0, 3.0, 5.0, 3.0, 2.0, 4.0, 3.0, 2.0, 2.0, 2.0, 2.5812578201293945, 1.7396702766418457, 1.7395918369293213, 1.7392969131469727, 1.7386261224746704, 1.7385635375976562, 1.7362905740737915, 1.7357357740402222, 1.7347031831741333, 1.7340102195739746, 0.8976271748542786, 0.8975181579589844, 0.897455632686615, 0.8974761366844177, 0.8973749279975891, 0.8973733186721802, 0.8973419070243835, 0.8973259329795837, 0.8973098993301392, 0.8973438739776611, 0.897264838218689, 0.8971974849700928, 0.8971536755561829, 0.8971341848373413, 0.8971153497695923, 0.8948602080345154, 0.8945844173431396, 0.8947098255157471, 0.894565999507904, 0.8945467472076416, 2.576932668685913, 5.101398944854736, 1.7420278787612915, 1.7353516817092896, 2.581360101699829, 2.582993745803833, 2.5801591873168945, 1.7392841577529907, 1.7394036054611206, 1.7351800203323364, 0.897472620010376, 0.8974642157554626, 5.8497490882873535, 5.020202159881592, 3.3635663986206055, 2.536508321762085, 2.536102771759033, 1.7096904516220093, 1.7081681489944458, 1.7079588174819946, 1.7070242166519165, 1.7063230276107788, 3.3642477989196777, 5.021695137023926, 0.8807400465011597, 0.880731463432312, 0.880730390548706, 0.8807269334793091, 0.880720853805542, 0.8807154893875122, 0.8807110786437988, 0.8806962966918945, 0.880689799785614, 0.8806859254837036, 0.8806763291358948, 0.8806748390197754, 0.8806575536727905, 0.880656361579895, 0.8806257247924805, 0.8806127905845642, 0.8806114196777344, 0.8805902600288391, 4.192066192626953, 4.191905498504639, 4.192160606384277, 2.5363099575042725, 1.7096492052078247, 1.7084916830062866, 1.7075802087783813, 1.7079901695251465, 1.7082912921905518, 1.7080624103546143, 0.8808656930923462, 0.8808639645576477, 0.880740761756897, 0.8807296752929688, 3.260237693786621, 2.4519271850585938, 1.659224271774292, 1.659224271774292, 1.6508177518844604, 1.6500821113586426, 0.8547388911247253, 0.8547391295433044, 0.8547385931015015, 0.8547387719154358, 0.8547388911247253, 0.8547385931015015, 0.8547387719154358, 0.8547387719154358, 0.8547385931015015, 0.8547385334968567, 0.8512900471687317, 0.8511919379234314, 0.8511399030685425, 0.8509650826454163, 0.850941002368927, 0.8509232997894287, 0.8509142398834229, 0.8508991003036499, 0.8508448004722595, 0.8508100509643555, 0.8507993221282959, 0.8507993221282959, 0.8507819771766663, 0.8507474660873413, 3.2498624324798584, 1.6508432626724243, 3.264411687850952, 1.6505861282348633, 1.6506634950637817, 1.6512062549591064, 1.6501067876815796, 1.6511861085891724, 0.8547391295433044, 0.8547391295433044, 0.8547391295433044, 0.8547388911247253, 0.8547388911247253, 0.8547388911247253, 0.8547388911247253, 0.8547388911247253, 1.5934573411941528, 1.5929781198501587, 1.5855908393859863, 1.5845038890838623, 1.5843546390533447, 0.8208606243133545, 0.8208604454994202, 0.8208604454994202, 0.8208602666854858, 0.8208602666854858, 0.8208605051040649, 0.8208605051040649, 0.8208605051040649, 0.8208605051040649, 0.8208605051040649, 0.8204639554023743, 0.820406436920166, 0.8203860521316528, 0.8203854560852051, 0.8203574419021606, 0.8202808499336243, 0.820260226726532, 0.8202265501022339, 0.8201995491981506, 0.8200381994247437, 0.8169723153114319, 0.8169555068016052, 0.8168874979019165, 0.8168519139289856, 0.8168938755989075, 1.5934571027755737, 1.5846055746078491, 1.584735631942749, 2.3578567504882812, 1.5889683961868286, 1.5835286378860474, 1.5890367031097412, 1.5958950519561768, 1.5851725339889526, 1.5892363786697388, 1.5855237245559692, 0.8228625655174255, 0.8225014805793762, 0.8224595189094543, 0.8208605051040649, 0.8208605051040649, 0.8208605051040649, 0.8208606243133545, 0.8208605051040649, 2.3137197494506836, 2.313384532928467, 2.3129637241363525, 2.3127620220184326, 2.3104679584503174, 1.5584748983383179, 1.5580065250396729, 1.5575600862503052, 1.5572768449783325, 1.556937575340271, 3.824272394180298, 1.5565400123596191, 0.8034983277320862, 0.8034981489181519, 0.8034980297088623, 0.8034980297088623, 0.8034980297088623, 0.8034980297088623, 0.8034980297088623, 0.8034983277320862, 0.8034980297088623, 0.8034980297088623, 0.8034981489181519, 0.8034981489181519, 0.8034982085227966, 0.8034979104995728, 0.8034982085227966, 0.8034979701042175, 0.8034982085227966, 0.8024846911430359, 1.558441400527954, 2.3116047382354736, 1.5592288970947266, 1.556694746017456, 1.557380199432373, 1.5589940547943115, 1.5564627647399902, 0.8049388527870178, 0.8037757873535156, 1.348076581954956, 1.3475449085235596, 1.3462388515472412, 0.6946572661399841, 0.6945593357086182, 0.6944004893302917, 0.6944065093994141, 0.6943910121917725, 0.6943076848983765, 0.6942986249923706, 0.6942747831344604, 0.6942827105522156, 0.694226861000061, 0.6942331194877625, 0.6942023038864136, 0.6941429376602173, 0.6941314935684204, 0.6940546035766602, 0.6940519213676453, 0.6940104961395264, 0.6940358281135559, 0.6939876079559326, 0.6939642429351807, 0.6938981413841248, 0.6938496828079224, 0.6938392519950867, 0.6938064098358154, 0.6937938332557678, 0.6937763690948486, 0.6937016248703003, 1.345619559288025, 2.000749111175537, 1.3498797416687012, 0.6954365372657776, 0.6948941349983215, 0.6944578289985657, 0.6944368481636047, 0.6944165825843811, 0.6940731406211853, 3.953850030899048, 2.2754931449890137, 0.5951166749000549, 0.5951051712036133, 0.5950931906700134, 0.5949474573135376, 0.5949004888534546, 0.5948954820632935, 0.594832181930542, 0.5947297215461731, 0.5946942567825317, 0.5946861505508423, 0.594624400138855, 0.594104528427124, 0.5947336554527283, 0.5946364402770996, 0.5950502753257751, 0.5945680737495422, 0.595002293586731, 0.5949510335922241, 0.5952135920524597, 1.1566815376281738, 0.5950270891189575, 0.5954069495201111, 0.5946343541145325, 0.5944205522537231, 0.035083141177892685, 0.035083141177892685, 0.035083141177892685, 0.035083141177892685, 0.035083141177892685, 0.03765644505620003, 0.035083141177892685, 0.03737129643559456, 0.03729777783155441, 0.037265971302986145, 0.03979922831058502, 0.040224578231573105, 0.03848479688167572, 0.041706450283527374, 0.04124725982546806, 0.04077349230647087, 0.8086297512054443, 0.4166494905948639, 0.41664937138557434, 0.41664615273475647, 0.41663870215415955, 0.4165757894515991, 0.4165589511394501, 0.4165249466896057, 0.41650494933128357, 0.4165085554122925, 0.416465163230896, 0.4165516495704651, 0.4165895879268646, 0.41668370366096497, 0.4164220690727234, 0.41649550199508667, 0.4165958762168884, 0.024519504979252815, 0.024519504979252815, 0.024519504979252815, 0.024519504979252815, 0.024519504979252815, 0.024519504979252815, 0.024519504979252815, 0.024519504979252815, 0.024519504979252815, 0.024519504979252815, 0.024519504979252815, 0.024519504979252815, 0.024519504979252815, 0.024519504979252815, 0.024519504979252815, 0.024519504979252815, 0.024519504979252815, 0.024519504979252815, 0.024519504979252815, 0.024519504979252815, 0.024519504979252815, 0.024519504979252815, 0.024519504979252815, 0.024519504979252815, 0.024519504979252815, 0.024519504979252815, 0.7805068492889404, 0.40207740664482117, 0.40207725763320923, 0.4020773768424988, 0.40207725763320923, 0.4020773768424988, 0.40207725763320923, 0.40207725763320923, 0.40207725763320923, 0.78050696849823, 0.40207725763320923, 0.402077317237854, 0.402077317237854, 0.4026793837547302, 0.402077317237854, 0.02365182526409626, 0.02365182526409626, 0.02365182526409626, 0.02365182526409626, 0.02365182526409626, 0.02365182526409626, 0.02365182526409626, 0.02365182526409626, 0.02365182526409626, 0.02365182526409626, 0.02365182526409626, 0.02365182526409626, 0.02365182526409626, 0.02365182526409626, 0.02365182526409626, 0.024532455950975418, 0.024526767432689667, 0.024512529373168945, 0.02550758793950081, 0.024508478119969368, 0.024489279836416245, 0.024486977607011795, 0.0244757067412138, 0.02447240985929966, 0.024463525041937828, 0.024446729570627213, 0.024422939866781235, 0.025244932621717453, 0.024416638538241386, 0.024393098428845406, 0.02553807757794857, 0.025224903598427773, 0.0250822976231575, 0.024737747386097908, 0.025284092873334885, 0.025063255801796913, 0.025054968893527985, 0.024707170203328133, 0.02453708089888096, 0.3872089684009552, 0.387187659740448, 0.3871624171733856, 0.3871181309223175, 0.38697969913482666, 0.38695770502090454, 0.3869096636772156, 0.3868418335914612, 0.38676950335502625, 0.3866208493709564, 0.3866938650608063, 0.38667190074920654, 0.7511727809906006, 0.3869791328907013, 0.38676169514656067, 0.02285679429769516, 0.02285679429769516, 0.02285679429769516, 0.02285679429769516, 0.02285679429769516, 0.02285679429769516, 0.02285679429769516, 0.02285679429769516, 0.02285679429769516, 0.02285679429769516, 0.02285679429769516, 0.02285679429769516, 0.02285679429769516, 0.02285679429769516, 0.02285679429769516, 0.02285679429769516, 0.023100560531020164, 0.02307920902967453, 0.023076705634593964, 0.023051027208566666, 0.023046977818012238, 0.02304217405617237, 0.023024247959256172, 0.023021923378109932, 0.023015497252345085, 0.023008618503808975, 0.023008054122328758, 0.02299509197473526, 0.022984234616160393, 0.023184340447187424, 0.023180590942502022, 0.02315349504351616, 0.023095039650797844, 0.02306799776852131, 0.023066440597176552, 0.023048678413033485, 0.02304459922015667, 0.023029930889606476, 0.3552066385746002, 0.3552066385746002, 0.3552066385746002, 0.35520657896995544, 0.35520651936531067, 0.35520651936531067, 0.3552066385746002, 0.3552066683769226, 0.3552066385746002, 0.35520660877227783, 0.3552066683769226, 0.3552066683769226, 0.35520660877227783, 0.35520657896995544, 0.02089468576014042, 0.02089468576014042, 0.02089468576014042, 0.02089468576014042, 0.02089468576014042, 0.02089468576014042, 0.02089468576014042, 0.02089468576014042, 0.02089468576014042, 0.02089468576014042, 0.02089468576014042, 0.02089468576014042, 0.02089468576014042, 0.02089468576014042, 0.02089468576014042, 0.02089468576014042, 0.02089468576014042, 0.02089468576014042, 0.02089468576014042, 0.02089468576014042, 0.02089468576014042, 0.02089468576014042, 0.02089468576014042, 0.02089468576014042, 0.02089468576014042, 0.02089468576014042, 0.02089468576014042, 0.02089468576014042, 0.02089468576014042, 0.02089468576014042, 0.02089468576014042, 0.02089468576014042, 0.001147166476584971, 0.001140286331064999, 0.0011369435815140605, 0.0011338061885908246, 0.0011315873125568032, 0.0011305685620754957, 0.0011241656029596925, 0.0011221194872632623, 0.00112095195800066, 0.001119963126257062, 0.001057376153767109, 0.001057376153767109, 0.001057376153767109, 0.001057376153767109, 0.001057376153767109, 0.001057376153767109, 0.001057376153767109, 0.001057376153767109, 0.001057376153767109, 0.001057376153767109, 0.001057376153767109, 0.001057376153767109, 0.001057376153767109, 0.001057376153767109, 0.001057376153767109, 0.001057376153767109, 0.001057376153767109, 0.001057376153767109, 0.001057376153767109, 0.001057376153767109, 0.0011437925277277827, 0.0011448031291365623, 0.0012006991310045123, 0.001140650943852961, 0.0011305951047688723, 0.0011151829967275262, 0.0010758753633126616, 0.0010748171480372548, 0.0010753658134490252, 0.001073332503437996, 0.0010731411166489124, 0.0010722643928602338, 0.001093381317332387, 0.0010719415731728077, 0.0010719361016526818, 0.0010715542593970895, 0.00108710874337703, 0.0010836441069841385, 0.0011037947842851281, 0.0010899141198024154, 0.0011035630013793707, 0.001082074479199946, 0.001085519092157483, 0.0010868011740967631, 0.0010840772883966565, 0.0010825387435033917, 0.00108440185431391, 0.0010806025238707662, 0.0010801353491842747, 0.001043500960804522, 0.001043500960804522, 0.001043500960804522, 0.001043500960804522, 0.001043500960804522, 0.001043500960804522, 0.001043500960804522, 0.001043500960804522, 0.001043500960804522, 0.001043500960804522, 0.001043500960804522, 0.001043500960804522, 0.001043500960804522, 0.001043500960804522, 0.001043500960804522, 0.001043500960804522, 0.001043500960804522, 0.001043500960804522, 0.001043500960804522, 0.001043500960804522, 0.001043500960804522, 0.001043500960804522, 0.001043500960804522, 0.001043500960804522, 0.001043500960804522, 0.001043500960804522, 0.001043500960804522, 0.001043500960804522, 0.001043500960804522, 0.001043500960804522, 0.0010907500982284546, 0.0010875810403376818, 0.0010864842915907502, 0.0010860856855288148, 0.0010850990656763315, 0.001084418036043644, 0.0010838836897164583, 0.0010831225663423538, 0.0010818599257618189, 0.001081798574887216, 0.001081120572052896, 0.001080994727090001, 0.0010810095118358731, 0.0010808439692482352, 0.00112111063208431, 0.0010807978687807918, 0.0010802916949614882, 0.001079961541108787, 0.001079874811694026, 0.0010796989081427455, 0.001079678419046104, 0.0010792965767905116, 0.0010790000669658184, 0.0010789437219500542, 0.0011404268443584442, 0.0010784001788124442, 0.001110914978198707, 0.0010773844551295042, 0.0010764030739665031, 0.0010764310136437416, 0.0011763424845412374, 0.001190080540254712, 0.0011282588820904493, 0.0011384792160242796, 0.0011162860319018364, 0.0011030370369553566, 0.0011330447159707546, 0.0011243738699704409, 0.0011210544034838676, 0.0011012536706402898, 0.0011002961546182632, 0.0011141333961859345, 0.001098658423870802, 0.0011192404199391603, 0.0011105934390798211, 0.0011116982204839587, 0.0010917162289842963, 0.0010939415078610182, 0.001090141129679978, 0.0010897687170654535, 0.0010865628719329834, 0.0010860787006095052, 0.0010194126516580582, 0.0010194126516580582, 0.0010194126516580582, 0.0010194126516580582, 0.0010194126516580582, 0.0010194126516580582, 0.0010194126516580582, 0.0010194126516580582, 0.0010194126516580582, 0.0010194126516580582, 0.0010194126516580582, 0.0010194126516580582, 0.0010194126516580582, 0.0010194126516580582, 0.0010194126516580582, 0.0010194126516580582, 0.0010194126516580582, 0.0010194126516580582, 0.0010194126516580582, 0.0010194126516580582, 0.0010194126516580582, 0.0010194126516580582, 0.0010194126516580582, 0.0010194126516580582, 0.0010194126516580582, 0.0010194126516580582, 0.0010194126516580582, 0.0010194126516580582, 0.0010194126516580582, 0.0010194126516580582, 0.0010882611386477947, 0.0010799336014315486, 0.0010793957626447082, 0.0010787213686853647, 0.0010786759667098522, 0.001077212393283844, 0.001077169319614768, 0.0010760927107185125, 0.001075937645509839, 0.0010757355485111475, 0.0010757442796602845, 0.0010752686066552997, 0.0010748527711257339, 0.0010737485717982054, 0.001073656603693962, 0.00107314414344728, 0.0010722875595092773, 0.0010718320263549685, 0.001071736216545105, 0.0010714407544583082, 0.0010705406311899424, 0.0010703562293201685, 0.001070197788067162, 0.0011289333924651146, 0.00116353714838624, 0.0012611652491614223, 0.0010699612321332097, 0.001069527119398117, 0.001069451100192964, 0.0011239806190133095, 0.0011123407166451216, 0.0011118546826764941, 0.0012160856276750565, 0.0011255458230152726, 0.0011003424879163504, 0.0011260595638304949, 0.0011302570346742868, 0.0011065228609368205, 0.0011150554055348039, 0.001126820221543312, 0.0010895096929743886, 0.0011157792760059237, 0.0011001820676028728, 0.0011029716115444899, 0.0010867968667298555, 0.0010871801059693098, 0.0010793457040563226, 0.0010912168072536588, 0.0010843455092981458, 0.0010824330383911729, 0.0010794230038300157, 0.0009933157125487924, 0.0009933157125487924, 0.0009933157125487924, 0.0009933157125487924, 0.0009933157125487924, 0.0009933157125487924, 0.0009933157125487924, 0.0009933157125487924, 0.0009933157125487924, 0.0009933157125487924, 0.0009933157125487924, 0.0009933157125487924, 0.0009933157125487924, 0.0009933157125487924, 0.0009933157125487924, 0.0009933157125487924, 0.0009933157125487924, 0.0009933157125487924, 0.0009933157125487924, 0.0009933157125487924, 0.0009933157125487924, 0.0009933157125487924, 0.0009933157125487924, 0.0009933157125487924, 0.0009933157125487924, 0.0009933157125487924, 0.0009933157125487924, 0.0009933157125487924, 0.0009933157125487924, 0.0009933157125487924, 0.001001566182821989, 0.001001354306936264, 0.0010010981932282448, 0.001000777236185968, 0.001000520191155374, 0.0010004376526921988, 0.0010002400958910584, 0.001000125426799059, 0.0009999466128647327, 0.0009999226313084364, 0.0009996312437579036, 0.0009990232065320015, 0.0009985861834138632, 0.0009982682531699538, 0.0010076012695208192, 0.0010054244194179773, 0.0010026562958955765, 0.0010019544279202819, 0.0010018906323239207, 0.0010015845764428377, 0.001000128802843392, 0.0010000837501138449, 0.001000025193206966, 0.0009996920125558972, 0.0009994813008233905, 0.0009994655847549438, 0.0009990222752094269, 0.0009986208751797676, 0.0009986135410144925, 0.0009985730284824967, 0.0009574252180755138, 0.0009574252180755138, 0.0009574252180755138, 0.0009574252180755138, 0.0009574252180755138, 0.0009574252180755138, 0.0009574252180755138, 0.0009574252180755138, 0.0009574252180755138, 0.0009574252180755138, 0.0009574252180755138, 0.0009574252180755138, 0.0009574252180755138, 0.0009574252180755138, 0.0009574252180755138, 0.0009574252180755138, 0.0009574252180755138, 0.0009574252180755138, 0.0009574252180755138, 0.0009574252180755138, 0.0009574252180755138, 0.0009574252180755138, 0.0009574252180755138, 0.0009574252180755138, 0.0009574252180755138, 0.0009574252180755138, 0.0009574252180755138, 0.0009574252180755138, 0.0009574252180755138, 0.0009574252180755138, 0.0009574252180755138, 0.0009574252180755138, 0.0009574252180755138, 0.0009574252180755138, 0.0009574252180755138, 0.0009574252180755138, 0.0009574252180755138, 0.0009574252180755138, 0.0009574252180755138, 0.0009574252180755138, 0.0009574252180755138, 0.0009574252180755138, 0.0009574252180755138, 0.0009574252180755138, 0.0009574252180755138, 0.0009574252180755138, 0.0009574252180755138, 0.0009574252180755138, 0.0009574252180755138, 0.0009574252180755138, 0.0009574252180755138, 0.0009574252180755138, 0.0009574252180755138, 0.0009574252180755138, 0.0009574252180755138, 0.0009574252180755138, 0.0009574252180755138, 0.0009574252180755138, 0.0009574252180755138, 0.0009574252180755138], \"Total\": [4.0, 6.0, 8.0, 5.0, 7.0, 6.0, 6.0, 5.0, 5.0, 3.0, 3.0, 6.0, 5.0, 6.0, 4.0, 5.0, 3.0, 3.0, 4.0, 3.0, 4.0, 3.0, 5.0, 3.0, 2.0, 4.0, 3.0, 2.0, 2.0, 2.0, 2.953322172164917, 2.1111667156219482, 2.111095428466797, 2.1109321117401123, 2.110257387161255, 2.1103975772857666, 2.1085410118103027, 2.108081579208374, 2.1071269512176514, 2.1066126823425293, 1.2684385776519775, 1.2683568000793457, 1.2682843208312988, 1.2683260440826416, 1.268239140510559, 1.2682446241378784, 1.2682071924209595, 1.2682043313980103, 1.268190622329712, 1.2682411670684814, 1.2681721448898315, 1.2681021690368652, 1.26808762550354, 1.2680708169937134, 1.2680728435516357, 1.2662911415100098, 1.2659128904342651, 1.2661069631576538, 1.2659605741500854, 1.2659488916397095, 3.7783639430999756, 8.006473541259766, 2.91351056098938, 2.9369256496429443, 5.268721103668213, 5.505995750427246, 5.674148082733154, 3.5014357566833496, 3.6954591274261475, 5.174712181091309, 2.0969815254211426, 2.068650722503662, 6.225146770477295, 5.395933151245117, 3.7382993698120117, 2.9098894596099854, 2.9097578525543213, 2.08150577545166, 2.081064224243164, 2.080996513366699, 2.0806944370269775, 2.080467462539673, 4.39369535446167, 6.997486114501953, 1.2525062561035156, 1.2525014877319336, 1.2525008916854858, 1.252498984336853, 1.252495527267456, 1.2524925470352173, 1.2524900436401367, 1.2524818181991577, 1.2524783611297607, 1.2524759769439697, 1.25247061252594, 1.252469778060913, 1.2524601221084595, 1.2524594068527222, 1.2524422407150269, 1.2524350881576538, 1.252434253692627, 1.2524224519729614, 6.766081809997559, 6.951724529266357, 7.78141450881958, 4.5562849044799805, 2.923656702041626, 2.9233410358428955, 2.9224300384521484, 3.730142116546631, 4.467527389526367, 4.59719181060791, 8.006473541259766, 2.9369256496429443, 3.6005640029907227, 3.6954591274261475, 3.6336562633514404, 2.8254239559173584, 2.032480478286743, 2.032480478286743, 2.0242457389831543, 2.0235252380371094, 1.2279949188232422, 1.2279951572418213, 1.2279945611953735, 1.2279947996139526, 1.2279949188232422, 1.2279945611953735, 1.2279947996139526, 1.2279947996139526, 1.2279945611953735, 1.2279945611953735, 1.224616527557373, 1.2245204448699951, 1.2244696617126465, 1.2242982387542725, 1.2242746353149414, 1.2242573499679565, 1.2242484092712402, 1.2242337465286255, 1.2241803407669067, 1.2241462469100952, 1.2241357564926147, 1.2241357564926147, 1.2241190671920776, 1.2240850925445557, 6.329227447509766, 2.7954962253570557, 7.78141450881958, 3.216708183288574, 3.550457715988159, 4.032283782958984, 4.46933126449585, 6.997486114501953, 2.056670665740967, 3.6005640029907227, 2.0005686283111572, 4.846181392669678, 2.9012811183929443, 8.006473541259766, 4.5562849044799805, 3.730142116546631, 1.9687063694000244, 1.9682376384735107, 1.966618537902832, 1.965824007987976, 1.9660078287124634, 1.196109652519226, 1.196109414100647, 1.196109414100647, 1.1961092948913574, 1.1961092948913574, 1.1961095333099365, 1.1961095333099365, 1.1961095333099365, 1.1961095333099365, 1.1961095333099365, 1.1957216262817383, 1.1956653594970703, 1.1956454515457153, 1.1956448554992676, 1.195617437362671, 1.1955424547195435, 1.1955223083496094, 1.1954894065856934, 1.195462942123413, 1.1953052282333374, 1.1949690580368042, 1.1949477195739746, 1.1949191093444824, 1.1948964595794678, 1.1949719190597534, 2.769455671310425, 2.794445037841797, 2.807965040206909, 5.268721103668213, 3.6005640029907227, 3.6371166706085205, 4.467527389526367, 4.846181392669678, 6.329227447509766, 6.766081809997559, 6.951724529266357, 2.1364049911499023, 2.558098077774048, 5.505995750427246, 2.838759660720825, 2.038403034210205, 3.478884696960449, 1.9970834255218506, 1.5745350122451782, 2.6910183429718018, 2.690861463546753, 2.6906394958496094, 2.69083309173584, 2.6893529891967773, 1.9353218078613281, 1.9350717067718506, 1.9347978830337524, 1.934700846672058, 1.9345250129699707, 5.003022193908691, 2.268547296524048, 1.1797688007354736, 1.1797685623168945, 1.179768443107605, 1.179768443107605, 1.179768443107605, 1.179768443107605, 1.179768443107605, 1.1797688007354736, 1.179768443107605, 1.179768443107605, 1.1797685623168945, 1.1797685623168945, 1.179768681526184, 1.1797683238983154, 1.179768681526184, 1.179768443107605, 1.179768681526184, 1.1792346239089966, 2.7078046798706055, 5.174712181091309, 2.983109712600708, 3.245109796524048, 3.339078187942505, 3.478884696960449, 4.846181392669678, 3.1584155559539795, 2.4143171310424805, 1.7340953350067139, 1.7339800596237183, 1.7338558435440063, 1.0788378715515137, 1.078813910484314, 1.078776240348816, 1.078819990158081, 1.0788054466247559, 1.0787620544433594, 1.0787581205368042, 1.0787826776504517, 1.0788055658340454, 1.0787551403045654, 1.0787667036056519, 1.0787675380706787, 1.0787326097488403, 1.0787525177001953, 1.078735113143921, 1.0787755250930786, 1.078715443611145, 1.0787670612335205, 1.0787348747253418, 1.0787450075149536, 1.0786967277526855, 1.0787091255187988, 1.0786947011947632, 1.078652262687683, 1.0787129402160645, 1.0786863565444946, 1.0786842107772827, 2.5057485103607178, 5.674148082733154, 3.245109796524048, 5.505995750427246, 4.59719181060791, 1.8341926336288452, 1.8513672351837158, 2.983109712600708, 6.766081809997559, 4.356805324554443, 3.0348916053771973, 0.9853436350822449, 0.9853478074073792, 0.985352098941803, 0.985407292842865, 0.9854246973991394, 0.9854268431663513, 0.9854504466056824, 0.9854889512062073, 0.985502302646637, 0.9855052828788757, 0.9855287671089172, 0.9857239127159119, 1.3197994232177734, 1.7565137147903442, 1.7861127853393555, 1.785631775856018, 1.8277844190597534, 2.1364049911499023, 2.558098077774048, 5.505995750427246, 3.339078187942505, 3.5014357566833496, 4.846181392669678, 8.006473541259766, 0.7578478455543518, 0.7578478455543518, 0.7578479051589966, 0.7578479647636414, 0.7578479647636414, 1.0785630941390991, 0.7578479647636414, 1.0787129402160645, 1.0786842107772827, 1.0787129402160645, 1.7338558435440063, 2.5057485103607178, 1.7339800596237183, 6.766081809997559, 5.674148082733154, 6.951724529266357, 1.2086299657821655, 0.8160096406936646, 0.8160098195075989, 0.8160127401351929, 0.8160196542739868, 0.8160779476165771, 0.8160935640335083, 0.8161250352859497, 0.8161434531211853, 1.1945656538009644, 1.6588363647460938, 1.7565137147903442, 2.2438173294067383, 2.4143171310424805, 2.983109712600708, 3.1440529823303223, 3.478884696960449, 0.7578478455543518, 0.7578478455543518, 0.7578479051589966, 0.7578479647636414, 0.7578479647636414, 0.7578479647636414, 0.7873898148536682, 0.7875316143035889, 0.7876006364822388, 0.7876653075218201, 0.7877111434936523, 0.7877321243286133, 0.7878641486167908, 1.1797685623168945, 1.1797685623168945, 1.1797688007354736, 1.252111792564392, 1.179768443107605, 1.179768443107605, 5.395933151245117, 1.179768681526184, 1.179768681526184, 1.179768681526184, 2.9012811183929443, 2.0243000984191895, 1.252318263053894, 1.1803909540176392, 0.8019615411758423, 0.8019614219665527, 0.8019615411758423, 0.8019614219665527, 0.8019615411758423, 0.8019614219665527, 1.1945656538009644, 1.5745350122451782, 3.1440529823303223, 1.6307040452957153, 1.7565137147903442, 2.1364049911499023, 3.1584155559539795, 3.478884696960449, 0.7578479051589966, 0.7578478455543518, 0.7578478455543518, 0.7578479647636414, 0.7578479647636414, 0.7578479647636414, 0.7873898148536682, 0.7875316143035889, 0.7876006364822388, 0.7876653075218201, 0.7877111434936523, 0.7877321243286133, 0.7878641486167908, 0.7879063487052917, 0.787930428981781, 1.1947544813156128, 1.1946210861206055, 1.1947096586227417, 1.965824007987976, 1.19479238986969, 1.1947886943817139, 1.1947208642959595, 1.1947308778762817, 1.1947773694992065, 1.1947356462478638, 1.1947588920593262, 1.1949738264083862, 1.9660078287124634, 1.1949191093444824, 1.194862961769104, 2.794445037841797, 2.807965040206909, 3.6371166706085205, 1.966618537902832, 6.329227447509766, 5.268721103668213, 6.951724529266357, 4.59719181060791, 2.7954962253570557, 0.7879508137702942, 0.787930428981781, 0.7879063487052917, 0.7878641486167908, 0.7877321243286133, 0.7877111434936523, 0.7876653075218201, 0.7876006364822388, 0.7875316143035889, 0.7873898148536682, 1.5600327253341675, 1.5874091386795044, 3.1440529823303223, 3.0348916053771973, 3.216708183288574, 0.7578479051589966, 0.7578478455543518, 0.7578478455543518, 0.7578479647636414, 0.7578479647636414, 0.7578479647636414, 0.8019614219665527, 0.8019614219665527, 0.8019614219665527, 0.8019615411758423, 0.8019615411758423, 0.8019615411758423, 0.8160096406936646, 0.8160098195075989, 0.8160127401351929, 0.8160196542739868, 1.2680728435516357, 1.2680708169937134, 1.26808762550354, 1.2681721448898315, 1.2681021690368652, 1.2682411670684814, 1.268190622329712, 1.2682043313980103, 1.2682446241378784, 1.2682071924209595, 1.268239140510559, 1.2683260440826416, 1.2683568000793457, 4.46933126449585, 5.505995750427246, 2.91351056098938, 2.9012811183929443, 2.0680389404296875, 4.032283782958984, 2.068464756011963, 3.6954591274261475, 2.0243000984191895, 0.7578479647636414, 0.7578479647636414, 0.7578479647636414, 0.7578479051589966, 0.7578478455543518, 0.7578478455543518, 1.3197994232177734, 1.58676278591156, 1.5867739915847778, 2.268547296524048, 4.032283782958984, 4.59719181060791, 6.329227447509766, 8.006473541259766, 0.7873898148536682, 0.7875316143035889, 0.7876006364822388, 0.7876653075218201, 0.7877111434936523, 0.7877321243286133, 0.7878641486167908, 0.7879063487052917, 0.787930428981781, 0.7879508137702942, 0.8019614219665527, 0.8019614219665527, 0.8019614219665527, 0.8019615411758423, 0.8019615411758423, 0.8019615411758423, 1.1797688007354736, 1.179768443107605, 1.179768443107605, 1.179768443107605, 1.179768443107605, 1.179768443107605, 1.1797685623168945, 1.1797685623168945, 1.1797688007354736, 1.179768443107605, 1.179768443107605, 1.179768681526184, 1.179768681526184, 1.179768681526184, 2.0243000984191895, 1.252318263053894, 0.7873898148536682, 0.7875316143035889, 0.7876006364822388, 0.7876653075218201, 0.7877111434936523, 0.7877321243286133, 0.7878641486167908, 0.7879063487052917, 0.787930428981781, 0.7879508137702942, 0.7578479051589966, 0.7578478455543518, 0.7578478455543518, 0.7578479647636414, 0.7578479647636414, 0.7578479647636414, 0.8019614219665527, 0.8019614219665527, 0.8019614219665527, 0.8019615411758423, 0.8019615411758423, 0.8019615411758423, 0.8160096406936646, 0.8160098195075989, 0.8160127401351929, 0.8160196542739868, 0.8160779476165771, 0.8160935640335083, 0.8161250352859497, 0.8161434531211853, 1.5600327253341675, 1.5874091386795044, 3.1440529823303223, 3.216708183288574, 3.0348916053771973, 2.6893529891967773, 1.1788381338119507, 1.178921103477478, 1.1953052282333374, 1.1789932250976562, 1.1789782047271729, 1.1789982318878174, 2.268547296524048, 1.179018497467041, 1.1790404319763184, 1.1790653467178345, 1.9345250129699707, 1.934700846672058, 5.003022193908691, 2.6906394958496094, 5.174712181091309, 1.9347978830337524, 2.690861463546753, 3.245109796524048, 2.69083309173584, 2.6910183429718018, 4.846181392669678, 3.339078187942505, 3.550457715988159, 0.7578478455543518, 0.7578478455543518, 0.7578479051589966, 0.7578479647636414, 0.7578479647636414, 0.7578479647636414, 0.7873898148536682, 0.7875316143035889, 0.7876006364822388, 0.7876653075218201, 0.7877111434936523, 0.7877321243286133, 0.7878641486167908, 0.7879063487052917, 0.787930428981781, 0.7879508137702942, 0.8019614219665527, 0.8019614219665527, 0.8019614219665527, 0.8019615411758423, 0.8019615411758423, 0.8019615411758423, 0.8160096406936646, 0.8160098195075989, 0.8160127401351929, 0.8160196542739868, 0.8160779476165771, 0.8160935640335083, 0.8161250352859497, 0.8161434531211853, 1.2236343622207642, 1.2235015630722046, 1.2238099575042725, 1.2234553098678589, 1.22386634349823, 1.223852515220642, 1.2236697673797607, 1.223527193069458, 1.2233167886734009, 1.2242337465286255, 1.2233541011810303, 1.222895622253418, 1.2238019704818726, 1.223717212677002, 2.0235252380371094, 1.2241190671920776, 1.2233322858810425, 1.2237178087234497, 1.2240424156188965, 1.2238314151763916, 1.2236649990081787, 1.2238337993621826, 1.2240850925445557, 1.223859429359436, 2.8254239559173584, 1.2236249446868896, 2.0242457389831543, 1.2240837812423706, 1.223762035369873, 1.2244696617126465, 6.329227447509766, 8.006473541259766, 2.7954962253570557, 3.550457715988159, 2.838759660720825, 2.1071269512176514, 5.174712181091309, 4.032283782958984, 3.7783639430999756, 2.1066126823425293, 2.0658411979675293, 3.216708183288574, 2.065774917602539, 4.46933126449585, 3.6336562633514404, 6.997486114501953, 2.1085410118103027, 5.674148082733154, 2.9369256496429443, 2.953322172164917, 2.108081579208374, 2.068650722503662, 0.7578478455543518, 0.7578478455543518, 0.7578479051589966, 0.7578479647636414, 0.7578479647636414, 0.7578479647636414, 0.7873898148536682, 0.7875316143035889, 0.7876006364822388, 0.7876653075218201, 0.7877111434936523, 0.7877321243286133, 0.7878641486167908, 0.7879063487052917, 0.787930428981781, 0.7879508137702942, 0.8019614219665527, 0.8019614219665527, 0.8019614219665527, 0.8019615411758423, 0.8019615411758423, 0.8019615411758423, 0.8160096406936646, 0.8160098195075989, 0.8160127401351929, 0.8160196542739868, 0.8160779476165771, 0.8160935640335083, 0.8161250352859497, 0.8161434531211853, 1.222895622253418, 1.2233322858810425, 1.223710298538208, 1.2233167886734009, 1.2233541011810303, 1.2237955331802368, 1.2238930463790894, 1.2241462469100952, 1.2238004207611084, 1.2236249446868896, 1.2240276336669922, 1.2241357564926147, 1.223762035369873, 1.2239878177642822, 1.2236649990081787, 1.223527193069458, 1.2237178087234497, 1.2240656614303589, 1.2234553098678589, 1.223717212677002, 1.2238337993621826, 1.223859429359436, 1.2238314151763916, 2.0235252380371094, 2.8254239559173584, 6.329227447509766, 1.2241803407669067, 1.2238019704818726, 1.2236697673797607, 2.0242457389831543, 2.065774917602539, 2.0658411979675293, 8.006473541259766, 3.216708183288574, 2.1066126823425293, 3.7783639430999756, 4.46933126449585, 2.7954962253570557, 3.6336562633514404, 5.174712181091309, 2.1071269512176514, 6.997486114501953, 3.550457715988159, 4.032283782958984, 2.108081579208374, 2.838759660720825, 1.5874091386795044, 5.674148082733154, 2.9369256496429443, 5.268721103668213, 2.0680389404296875, 0.7578478455543518, 0.7578478455543518, 0.7578479051589966, 0.7578479647636414, 0.7578479647636414, 0.7578479647636414, 0.7873898148536682, 0.7875316143035889, 0.7876006364822388, 0.7876653075218201, 0.7877111434936523, 0.7877321243286133, 0.7878641486167908, 0.7879063487052917, 0.787930428981781, 0.7879508137702942, 0.8019614219665527, 0.8019614219665527, 0.8019614219665527, 0.8019615411758423, 0.8019615411758423, 0.8019615411758423, 0.8160096406936646, 0.8160098195075989, 0.8160127401351929, 0.8160196542739868, 0.8160779476165771, 0.8160935640335083, 0.8161250352859497, 0.8161434531211853, 1.2681021690368652, 1.2680708169937134, 1.26808762550354, 1.2680728435516357, 1.2682071924209595, 1.268190622329712, 1.2682043313980103, 1.2681721448898315, 1.2682843208312988, 1.268239140510559, 1.2682446241378784, 1.2682411670684814, 1.2683260440826416, 1.2683568000793457, 5.505995750427246, 2.91351056098938, 2.0243000984191895, 2.110257387161255, 2.9012811183929443, 2.068464756011963, 2.0680389404296875, 4.032283782958984, 3.730142116546631, 4.46933126449585, 2.1109321117401123, 2.1103975772857666, 2.068650722503662, 2.953322172164917, 2.1111667156219482, 2.111095428466797, 0.7578478455543518, 0.7578478455543518, 0.7578479051589966, 0.7578479647636414, 0.7578479647636414, 0.7578479647636414, 0.7873898148536682, 0.7875316143035889, 0.7876006364822388, 0.7876653075218201, 0.7877111434936523, 0.7877321243286133, 0.7878641486167908, 0.7879063487052917, 0.787930428981781, 0.7879508137702942, 0.8019614219665527, 0.8019614219665527, 0.8019614219665527, 0.8019615411758423, 0.8019615411758423, 0.8019615411758423, 0.8160096406936646, 0.8160098195075989, 0.8160127401351929, 0.8160196542739868, 0.8160779476165771, 0.8160935640335083, 0.8161250352859497, 0.8161434531211853, 1.2236697673797607, 1.179768443107605, 1.1797683238983154, 1.1797688007354736, 1.179768443107605, 1.179768443107605, 1.179768443107605, 1.179768443107605, 1.179768443107605, 1.1797685623168945, 1.1797685623168945, 1.1797688007354736, 1.179768443107605, 1.179768681526184, 1.179768443107605, 1.179768681526184, 1.179768681526184, 2.0243000984191895, 1.252318263053894, 2.094177007675171, 2.9012811183929443, 1.2521438598632812, 1.2522170543670654, 7.78141450881958, 5.395933151245117, 1.252111792564392, 1.1797685623168945, 1.9523415565490723, 2.9098894596099854, 2.4143171310424805], \"Category\": [\"Default\", \"Default\", \"Default\", \"Default\", \"Default\", \"Default\", \"Default\", \"Default\", \"Default\", \"Default\", \"Default\", \"Default\", \"Default\", \"Default\", \"Default\", \"Default\", \"Default\", \"Default\", \"Default\", \"Default\", \"Default\", \"Default\", \"Default\", \"Default\", \"Default\", \"Default\", \"Default\", \"Default\", \"Default\", \"Default\", \"Topic1\", \"Topic1\", \"Topic1\", \"Topic1\", \"Topic1\", \"Topic1\", \"Topic1\", \"Topic1\", \"Topic1\", \"Topic1\", \"Topic1\", \"Topic1\", \"Topic1\", \"Topic1\", \"Topic1\", \"Topic1\", \"Topic1\", \"Topic1\", \"Topic1\", \"Topic1\", \"Topic1\", \"Topic1\", \"Topic1\", \"Topic1\", \"Topic1\", \"Topic1\", \"Topic1\", \"Topic1\", \"Topic1\", \"Topic1\", \"Topic1\", \"Topic1\", \"Topic1\", \"Topic1\", \"Topic1\", \"Topic1\", \"Topic1\", \"Topic1\", \"Topic1\", \"Topic1\", \"Topic1\", \"Topic1\", \"Topic2\", \"Topic2\", \"Topic2\", \"Topic2\", \"Topic2\", \"Topic2\", \"Topic2\", \"Topic2\", \"Topic2\", \"Topic2\", \"Topic2\", \"Topic2\", \"Topic2\", \"Topic2\", \"Topic2\", \"Topic2\", \"Topic2\", \"Topic2\", \"Topic2\", \"Topic2\", \"Topic2\", \"Topic2\", \"Topic2\", \"Topic2\", \"Topic2\", \"Topic2\", \"Topic2\", \"Topic2\", \"Topic2\", \"Topic2\", \"Topic2\", \"Topic2\", \"Topic2\", \"Topic2\", \"Topic2\", \"Topic2\", \"Topic2\", \"Topic2\", \"Topic2\", \"Topic2\", \"Topic2\", \"Topic2\", \"Topic2\", \"Topic2\", \"Topic3\", \"Topic3\", \"Topic3\", \"Topic3\", \"Topic3\", \"Topic3\", \"Topic3\", \"Topic3\", \"Topic3\", \"Topic3\", \"Topic3\", \"Topic3\", \"Topic3\", \"Topic3\", \"Topic3\", \"Topic3\", \"Topic3\", \"Topic3\", \"Topic3\", \"Topic3\", \"Topic3\", \"Topic3\", \"Topic3\", \"Topic3\", \"Topic3\", \"Topic3\", \"Topic3\", \"Topic3\", \"Topic3\", \"Topic3\", \"Topic3\", \"Topic3\", \"Topic3\", \"Topic3\", \"Topic3\", \"Topic3\", \"Topic3\", \"Topic3\", \"Topic3\", \"Topic3\", \"Topic3\", \"Topic3\", \"Topic3\", \"Topic3\", \"Topic3\", \"Topic3\", \"Topic4\", \"Topic4\", \"Topic4\", \"Topic4\", \"Topic4\", \"Topic4\", \"Topic4\", \"Topic4\", \"Topic4\", \"Topic4\", \"Topic4\", \"Topic4\", \"Topic4\", \"Topic4\", \"Topic4\", \"Topic4\", \"Topic4\", \"Topic4\", \"Topic4\", \"Topic4\", \"Topic4\", \"Topic4\", \"Topic4\", \"Topic4\", \"Topic4\", \"Topic4\", \"Topic4\", \"Topic4\", \"Topic4\", \"Topic4\", \"Topic4\", \"Topic4\", \"Topic4\", \"Topic4\", \"Topic4\", \"Topic4\", \"Topic4\", \"Topic4\", \"Topic4\", \"Topic4\", \"Topic4\", \"Topic4\", \"Topic4\", \"Topic4\", \"Topic4\", \"Topic4\", \"Topic4\", \"Topic4\", \"Topic4\", \"Topic5\", \"Topic5\", \"Topic5\", \"Topic5\", \"Topic5\", \"Topic5\", \"Topic5\", \"Topic5\", \"Topic5\", \"Topic5\", \"Topic5\", \"Topic5\", \"Topic5\", \"Topic5\", \"Topic5\", \"Topic5\", \"Topic5\", \"Topic5\", \"Topic5\", \"Topic5\", \"Topic5\", \"Topic5\", \"Topic5\", \"Topic5\", \"Topic5\", \"Topic5\", \"Topic5\", \"Topic5\", \"Topic5\", \"Topic5\", \"Topic5\", \"Topic5\", \"Topic5\", \"Topic5\", \"Topic5\", \"Topic5\", \"Topic5\", \"Topic5\", \"Topic5\", \"Topic6\", \"Topic6\", \"Topic6\", \"Topic6\", \"Topic6\", \"Topic6\", \"Topic6\", \"Topic6\", \"Topic6\", \"Topic6\", \"Topic6\", \"Topic6\", \"Topic6\", \"Topic6\", \"Topic6\", \"Topic6\", \"Topic6\", \"Topic6\", \"Topic6\", \"Topic6\", \"Topic6\", \"Topic6\", \"Topic6\", \"Topic6\", \"Topic6\", \"Topic6\", \"Topic6\", \"Topic6\", \"Topic6\", \"Topic6\", \"Topic6\", \"Topic6\", \"Topic6\", \"Topic6\", \"Topic6\", \"Topic6\", \"Topic6\", \"Topic6\", \"Topic6\", \"Topic7\", \"Topic7\", \"Topic7\", \"Topic7\", \"Topic7\", \"Topic7\", \"Topic7\", \"Topic7\", \"Topic7\", \"Topic7\", \"Topic7\", \"Topic7\", \"Topic7\", \"Topic7\", \"Topic7\", \"Topic7\", \"Topic7\", \"Topic7\", \"Topic7\", \"Topic7\", \"Topic7\", \"Topic7\", \"Topic7\", \"Topic7\", \"Topic7\", \"Topic7\", \"Topic7\", \"Topic7\", \"Topic7\", \"Topic7\", \"Topic7\", \"Topic7\", \"Topic7\", \"Topic7\", \"Topic7\", \"Topic7\", \"Topic7\", \"Topic7\", \"Topic7\", \"Topic7\", \"Topic7\", \"Topic7\", \"Topic8\", \"Topic8\", \"Topic8\", \"Topic8\", \"Topic8\", \"Topic8\", \"Topic8\", \"Topic8\", \"Topic8\", \"Topic8\", \"Topic8\", \"Topic8\", \"Topic8\", \"Topic8\", \"Topic8\", \"Topic8\", \"Topic8\", \"Topic8\", \"Topic8\", \"Topic8\", \"Topic8\", \"Topic8\", \"Topic8\", \"Topic8\", \"Topic8\", \"Topic8\", \"Topic8\", \"Topic8\", \"Topic8\", \"Topic8\", \"Topic8\", \"Topic8\", \"Topic8\", \"Topic8\", \"Topic8\", \"Topic8\", \"Topic8\", \"Topic8\", \"Topic8\", \"Topic8\", \"Topic8\", \"Topic8\", \"Topic8\", \"Topic9\", \"Topic9\", \"Topic9\", \"Topic9\", \"Topic9\", \"Topic9\", \"Topic9\", \"Topic9\", \"Topic9\", \"Topic9\", \"Topic9\", \"Topic9\", \"Topic9\", \"Topic9\", \"Topic9\", \"Topic9\", \"Topic9\", \"Topic9\", \"Topic9\", \"Topic9\", \"Topic9\", \"Topic9\", \"Topic9\", \"Topic9\", \"Topic9\", \"Topic9\", \"Topic9\", \"Topic9\", \"Topic9\", \"Topic9\", \"Topic9\", \"Topic9\", \"Topic9\", \"Topic9\", \"Topic9\", \"Topic9\", \"Topic9\", \"Topic9\", \"Topic9\", \"Topic9\", \"Topic9\", \"Topic9\", \"Topic9\", \"Topic9\", \"Topic9\", \"Topic9\", \"Topic9\", \"Topic9\", \"Topic9\", \"Topic9\", \"Topic9\", \"Topic9\", \"Topic9\", \"Topic9\", \"Topic10\", \"Topic10\", \"Topic10\", \"Topic10\", \"Topic10\", \"Topic10\", \"Topic10\", \"Topic10\", \"Topic10\", \"Topic10\", \"Topic10\", \"Topic10\", \"Topic10\", \"Topic10\", \"Topic10\", \"Topic10\", \"Topic10\", \"Topic10\", \"Topic10\", \"Topic10\", \"Topic10\", \"Topic10\", \"Topic10\", \"Topic10\", \"Topic10\", \"Topic10\", \"Topic10\", \"Topic10\", \"Topic10\", \"Topic10\", \"Topic10\", \"Topic10\", \"Topic10\", \"Topic10\", \"Topic10\", \"Topic10\", \"Topic10\", \"Topic10\", \"Topic10\", \"Topic10\", \"Topic10\", \"Topic10\", \"Topic10\", \"Topic10\", \"Topic10\", \"Topic10\", \"Topic10\", \"Topic10\", \"Topic10\", \"Topic10\", \"Topic10\", \"Topic10\", \"Topic10\", \"Topic11\", \"Topic11\", \"Topic11\", \"Topic11\", \"Topic11\", \"Topic11\", \"Topic11\", \"Topic11\", \"Topic11\", \"Topic11\", \"Topic11\", \"Topic11\", \"Topic11\", \"Topic11\", \"Topic11\", \"Topic11\", \"Topic11\", \"Topic11\", \"Topic11\", \"Topic11\", \"Topic11\", \"Topic11\", \"Topic11\", \"Topic11\", \"Topic11\", \"Topic11\", \"Topic11\", \"Topic11\", \"Topic11\", \"Topic11\", \"Topic11\", \"Topic11\", \"Topic11\", \"Topic11\", \"Topic11\", \"Topic11\", \"Topic11\", \"Topic11\", \"Topic11\", \"Topic11\", \"Topic11\", \"Topic11\", \"Topic11\", \"Topic11\", \"Topic11\", \"Topic11\", \"Topic12\", \"Topic12\", \"Topic12\", \"Topic12\", \"Topic12\", \"Topic12\", \"Topic12\", \"Topic12\", \"Topic12\", \"Topic12\", \"Topic12\", \"Topic12\", \"Topic12\", \"Topic12\", \"Topic12\", \"Topic12\", \"Topic12\", \"Topic12\", \"Topic12\", \"Topic12\", \"Topic12\", \"Topic12\", \"Topic12\", \"Topic12\", \"Topic12\", \"Topic12\", \"Topic12\", \"Topic12\", \"Topic12\", \"Topic12\", \"Topic12\", \"Topic12\", \"Topic12\", \"Topic12\", \"Topic12\", \"Topic12\", \"Topic12\", \"Topic12\", \"Topic12\", \"Topic12\", \"Topic12\", \"Topic12\", \"Topic12\", \"Topic12\", \"Topic12\", \"Topic12\", \"Topic12\", \"Topic12\", \"Topic12\", \"Topic12\", \"Topic12\", \"Topic12\", \"Topic12\", \"Topic12\", \"Topic12\", \"Topic12\", \"Topic12\", \"Topic12\", \"Topic12\", \"Topic13\", \"Topic13\", \"Topic13\", \"Topic13\", \"Topic13\", \"Topic13\", \"Topic13\", \"Topic13\", \"Topic13\", \"Topic13\", \"Topic13\", \"Topic13\", \"Topic13\", \"Topic13\", \"Topic13\", \"Topic13\", \"Topic13\", \"Topic13\", \"Topic13\", \"Topic13\", \"Topic13\", \"Topic13\", \"Topic13\", \"Topic13\", \"Topic13\", \"Topic13\", \"Topic13\", \"Topic13\", \"Topic13\", \"Topic13\", \"Topic13\", \"Topic13\", \"Topic13\", \"Topic13\", \"Topic13\", \"Topic13\", \"Topic13\", \"Topic13\", \"Topic13\", \"Topic13\", \"Topic13\", \"Topic13\", \"Topic13\", \"Topic13\", \"Topic13\", \"Topic13\", \"Topic13\", \"Topic13\", \"Topic13\", \"Topic13\", \"Topic13\", \"Topic13\", \"Topic13\", \"Topic13\", \"Topic13\", \"Topic13\", \"Topic13\", \"Topic13\", \"Topic13\", \"Topic13\", \"Topic13\", \"Topic13\", \"Topic13\", \"Topic13\", \"Topic13\", \"Topic13\", \"Topic13\", \"Topic13\", \"Topic13\", \"Topic13\", \"Topic13\", \"Topic13\", \"Topic13\", \"Topic13\", \"Topic13\", \"Topic13\", \"Topic13\", \"Topic13\", \"Topic13\", \"Topic13\", \"Topic13\", \"Topic13\", \"Topic14\", \"Topic14\", \"Topic14\", \"Topic14\", \"Topic14\", \"Topic14\", \"Topic14\", \"Topic14\", \"Topic14\", \"Topic14\", \"Topic14\", \"Topic14\", \"Topic14\", \"Topic14\", \"Topic14\", \"Topic14\", \"Topic14\", \"Topic14\", \"Topic14\", \"Topic14\", \"Topic14\", \"Topic14\", \"Topic14\", \"Topic14\", \"Topic14\", \"Topic14\", \"Topic14\", \"Topic14\", \"Topic14\", \"Topic14\", \"Topic14\", \"Topic14\", \"Topic14\", \"Topic14\", \"Topic14\", \"Topic14\", \"Topic14\", \"Topic14\", \"Topic14\", \"Topic14\", \"Topic14\", \"Topic14\", \"Topic14\", \"Topic14\", \"Topic14\", \"Topic14\", \"Topic14\", \"Topic14\", \"Topic14\", \"Topic14\", \"Topic14\", \"Topic14\", \"Topic14\", \"Topic14\", \"Topic14\", \"Topic14\", \"Topic14\", \"Topic14\", \"Topic14\", \"Topic14\", \"Topic14\", \"Topic14\", \"Topic14\", \"Topic14\", \"Topic14\", \"Topic14\", \"Topic14\", \"Topic14\", \"Topic14\", \"Topic14\", \"Topic14\", \"Topic14\", \"Topic14\", \"Topic14\", \"Topic14\", \"Topic14\", \"Topic14\", \"Topic14\", \"Topic14\", \"Topic14\", \"Topic14\", \"Topic15\", \"Topic15\", \"Topic15\", \"Topic15\", \"Topic15\", \"Topic15\", \"Topic15\", \"Topic15\", \"Topic15\", \"Topic15\", \"Topic15\", \"Topic15\", \"Topic15\", \"Topic15\", \"Topic15\", \"Topic15\", \"Topic15\", \"Topic15\", \"Topic15\", \"Topic15\", \"Topic15\", \"Topic15\", \"Topic15\", \"Topic15\", \"Topic15\", \"Topic15\", \"Topic15\", \"Topic15\", \"Topic15\", \"Topic15\", \"Topic15\", \"Topic15\", \"Topic15\", \"Topic15\", \"Topic15\", \"Topic15\", \"Topic15\", \"Topic15\", \"Topic15\", \"Topic15\", \"Topic15\", \"Topic15\", \"Topic15\", \"Topic15\", \"Topic15\", \"Topic15\", \"Topic15\", \"Topic15\", \"Topic15\", \"Topic15\", \"Topic15\", \"Topic15\", \"Topic15\", \"Topic15\", \"Topic15\", \"Topic15\", \"Topic15\", \"Topic15\", \"Topic15\", \"Topic15\", \"Topic16\", \"Topic16\", \"Topic16\", \"Topic16\", \"Topic16\", \"Topic16\", \"Topic16\", \"Topic16\", \"Topic16\", \"Topic16\", \"Topic16\", \"Topic16\", \"Topic16\", \"Topic16\", \"Topic16\", \"Topic16\", \"Topic16\", \"Topic16\", \"Topic16\", \"Topic16\", \"Topic16\", \"Topic16\", \"Topic16\", \"Topic16\", \"Topic16\", \"Topic16\", \"Topic16\", \"Topic16\", \"Topic16\", \"Topic16\", \"Topic16\", \"Topic16\", \"Topic16\", \"Topic16\", \"Topic16\", \"Topic16\", \"Topic16\", \"Topic16\", \"Topic16\", \"Topic16\", \"Topic16\", \"Topic16\", \"Topic16\", \"Topic16\", \"Topic16\", \"Topic16\", \"Topic16\", \"Topic16\", \"Topic16\", \"Topic16\", \"Topic16\", \"Topic16\", \"Topic16\", \"Topic16\", \"Topic16\", \"Topic16\", \"Topic16\", \"Topic16\", \"Topic16\", \"Topic16\"], \"logprob\": [30.0, 29.0, 28.0, 27.0, 26.0, 25.0, 24.0, 23.0, 22.0, 21.0, 20.0, 19.0, 18.0, 17.0, 16.0, 15.0, 14.0, 13.0, 12.0, 11.0, 10.0, 9.0, 8.0, 7.0, 6.0, 5.0, 4.0, 3.0, 2.0, 1.0, -4.0731000900268555, -4.467700004577637, -4.467700004577637, -4.467899799346924, -4.468299865722656, -4.468299865722656, -4.469600200653076, -4.469900131225586, -4.4704999923706055, -4.470900058746338, -5.12939977645874, -5.129499912261963, -5.1296000480651855, -5.129499912261963, -5.1296000480651855, -5.129700183868408, -5.129700183868408, -5.129700183868408, -5.129700183868408, -5.129700183868408, -5.129799842834473, -5.129799842834473, -5.129899978637695, -5.129899978637695, -5.129899978637695, -5.132500171661377, -5.132800102233887, -5.132599830627441, -5.132800102233887, -5.132800102233887, -4.07480001449585, -3.391900062561035, -4.466300010681152, -4.470200061798096, -4.0731000900268555, -4.072400093078613, -4.073500156402588, -4.467899799346924, -4.467800140380859, -4.470300197601318, -5.129499912261963, -5.129499912261963, -3.150899887084961, -3.3039000034332275, -3.7042999267578125, -3.9865000247955322, -3.9867000579833984, -4.38100004196167, -4.381899833679199, -4.381999969482422, -4.382599830627441, -4.382999897003174, -3.7040998935699463, -3.3036000728607178, -5.044300079345703, -5.044300079345703, -5.044300079345703, -5.044300079345703, -5.044300079345703, -5.044400215148926, -5.044400215148926, -5.044400215148926, -5.044400215148926, -5.044400215148926, -5.044400215148926, -5.044400215148926, -5.044400215148926, -5.044400215148926, -5.04449987411499, -5.04449987411499, -5.04449987411499, -5.04449987411499, -3.484100103378296, -3.4842000007629395, -3.484100103378296, -3.986599922180176, -4.38100004196167, -4.381700038909912, -4.382299900054932, -4.381999969482422, -4.381800174713135, -4.381999969482422, -5.0441999435424805, -5.0441999435424805, -5.044300079345703, -5.044300079345703, -3.559799909591675, -3.8447000980377197, -4.235300064086914, -4.235300064086914, -4.240300178527832, -4.240799903869629, -4.898600101470947, -4.898600101470947, -4.898600101470947, -4.898600101470947, -4.898600101470947, -4.898600101470947, -4.898600101470947, -4.898600101470947, -4.898600101470947, -4.898600101470947, -4.902599811553955, -4.902699947357178, -4.9028000831604, -4.9029998779296875, -4.9029998779296875, -4.9029998779296875, -4.90310001373291, -4.90310001373291, -4.90310001373291, -4.903200149536133, -4.903200149536133, -4.903200149536133, -4.903200149536133, -4.903299808502197, -3.562999963760376, -4.240300178527832, -3.558500051498413, -4.240499973297119, -4.2403998374938965, -4.240099906921387, -4.240799903869629, -4.240099906921387, -4.898600101470947, -4.898600101470947, -4.898600101470947, -4.898600101470947, -4.898600101470947, -4.898600101470947, -4.898600101470947, -4.898600101470947, -4.118299961090088, -4.118599891662598, -4.123300075531006, -4.124000072479248, -4.124100208282471, -4.781700134277344, -4.781700134277344, -4.781700134277344, -4.781700134277344, -4.781700134277344, -4.781700134277344, -4.781700134277344, -4.781700134277344, -4.781700134277344, -4.781700134277344, -4.782100200653076, -4.782199859619141, -4.782199859619141, -4.782199859619141, -4.782299995422363, -4.782400131225586, -4.782400131225586, -4.782400131225586, -4.78249979019165, -4.782700061798096, -4.786399841308594, -4.786399841308594, -4.786499977111816, -4.786499977111816, -4.786499977111816, -4.118299961090088, -4.123899936676025, -4.123799800872803, -3.7265000343322754, -4.121200084686279, -4.124599933624268, -4.121099948883057, -4.116799831390381, -4.123600006103516, -4.120999813079834, -4.123300075531006, -4.779200077056885, -4.779699802398682, -4.779699802398682, -4.781700134277344, -4.781700134277344, -4.781700134277344, -4.781700134277344, -4.781700134277344, -3.6345999240875244, -3.634700059890747, -3.6349000930786133, -3.634999990463257, -3.635999917984009, -4.029699802398682, -4.03000020980835, -4.030300140380859, -4.0304999351501465, -4.030700206756592, -3.131999969482422, -4.031000137329102, -4.692200183868408, -4.692200183868408, -4.692200183868408, -4.692200183868408, -4.692200183868408, -4.692200183868408, -4.692200183868408, -4.692200183868408, -4.692200183868408, -4.692200183868408, -4.692200183868408, -4.692200183868408, -4.692200183868408, -4.692200183868408, -4.692200183868408, -4.692200183868408, -4.692200183868408, -4.69350004196167, -4.029699802398682, -3.635499954223633, -4.029200077056885, -4.030900001525879, -4.030399799346924, -4.029399871826172, -4.031000137329102, -4.690400123596191, -4.69189977645874, -3.672499895095825, -3.6728999614715576, -3.6738998889923096, -4.3354997634887695, -4.335700035095215, -4.335899829864502, -4.335899829864502, -4.335899829864502, -4.335999965667725, -4.336100101470947, -4.336100101470947, -4.336100101470947, -4.33620023727417, -4.33620023727417, -4.33620023727417, -4.336299896240234, -4.336299896240234, -4.336400032043457, -4.336400032043457, -4.33650016784668, -4.336400032043457, -4.33650016784668, -4.33650016784668, -4.336599826812744, -4.336699962615967, -4.336699962615967, -4.3368000984191895, -4.3368000984191895, -4.3368000984191895, -4.336900234222412, -3.6744000911712646, -3.2776999473571777, -3.6712000370025635, -4.334400177001953, -4.33519983291626, -4.3358001708984375, -4.335899829864502, -4.335899829864502, -4.336400032043457, -2.210700035095215, -2.763200044631958, -4.104400157928467, -4.104400157928467, -4.104400157928467, -4.104599952697754, -4.104700088500977, -4.104700088500977, -4.104800224304199, -4.105000019073486, -4.105100154876709, -4.105100154876709, -4.105199813842773, -4.106100082397461, -4.105000019073486, -4.105199813842773, -4.104499816894531, -4.105299949645996, -4.104599952697754, -4.104599952697754, -4.1041998863220215, -3.4398000240325928, -4.104499816894531, -4.103899955749512, -4.105199813842773, -4.105500221252441, -6.935400009155273, -6.935400009155273, -6.935400009155273, -6.935400009155273, -6.935400009155273, -6.86460018157959, -6.935400009155273, -6.872200012207031, -6.874199867248535, -6.875, -6.809299945831299, -6.798600196838379, -6.842899799346924, -6.762499809265137, -6.773499965667725, -6.785099983215332, -3.1036999225616455, -3.7667999267578125, -3.7667999267578125, -3.7667999267578125, -3.766900062561035, -3.7669999599456787, -3.7669999599456787, -3.7671000957489014, -3.767199993133545, -3.767199993133545, -3.7672998905181885, -3.7671000957489014, -3.7669999599456787, -3.766700029373169, -3.767400026321411, -3.767199993133545, -3.7669999599456787, -6.599599838256836, -6.599599838256836, -6.599599838256836, -6.599599838256836, -6.599599838256836, -6.599599838256836, -6.599599838256836, -6.599599838256836, -6.599599838256836, -6.599599838256836, -6.599599838256836, -6.599599838256836, -6.599599838256836, -6.599599838256836, -6.599599838256836, -6.599599838256836, -6.599599838256836, -6.599599838256836, -6.599599838256836, -6.599599838256836, -6.599599838256836, -6.599599838256836, -6.599599838256836, -6.599599838256836, -6.599599838256836, -6.599599838256836, -3.084199905395508, -3.747499942779541, -3.747499942779541, -3.747499942779541, -3.747499942779541, -3.747499942779541, -3.747499942779541, -3.747499942779541, -3.747499942779541, -3.084199905395508, -3.747499942779541, -3.747499942779541, -3.747499942779541, -3.746000051498413, -3.747499942779541, -6.580699920654297, -6.580699920654297, -6.580699920654297, -6.580699920654297, -6.580699920654297, -6.580699920654297, -6.580699920654297, -6.580699920654297, -6.580699920654297, -6.580699920654297, -6.580699920654297, -6.580699920654297, -6.580699920654297, -6.580699920654297, -6.580699920654297, -6.544099807739258, -6.544300079345703, -6.544899940490723, -6.505099773406982, -6.545100212097168, -6.545899868011475, -6.546000003814697, -6.54640007019043, -6.546599864959717, -6.546899795532227, -6.547599792480469, -6.548600196838379, -6.515500068664551, -6.548799991607666, -6.549799919128418, -6.503900051116943, -6.516300201416016, -6.521999835968018, -6.535799980163574, -6.513899803161621, -6.52269983291626, -6.5229997634887695, -6.5370001792907715, -6.543900012969971, -3.7244999408721924, -3.724600076675415, -3.7246999740600586, -3.7248001098632812, -3.725100040435791, -3.7251999378204346, -3.7253000736236572, -3.7255001068115234, -3.7256999015808105, -3.726099967956543, -3.7258999347686768, -3.7258999347686768, -3.0618999004364014, -3.725100040435791, -3.7256999015808105, -6.554299831390381, -6.554299831390381, -6.554299831390381, -6.554299831390381, -6.554299831390381, -6.554299831390381, -6.554299831390381, -6.554299831390381, -6.554299831390381, -6.554299831390381, -6.554299831390381, -6.554299831390381, -6.554299831390381, -6.554299831390381, -6.554299831390381, -6.554299831390381, -6.543600082397461, -6.544600009918213, -6.5447001457214355, -6.54580020904541, -6.546000003814697, -6.546199798583984, -6.546999931335449, -6.547100067138672, -6.547299861907959, -6.547599792480469, -6.547699928283691, -6.5482001304626465, -6.548699855804443, -6.539999961853027, -6.540200233459473, -6.541399955749512, -6.543900012969971, -6.545100212097168, -6.545100212097168, -6.545899868011475, -6.54610013961792, -6.5467000007629395, -3.675600051879883, -3.675600051879883, -3.675600051879883, -3.675600051879883, -3.675600051879883, -3.675600051879883, -3.675600051879883, -3.675600051879883, -3.675600051879883, -3.675600051879883, -3.675600051879883, -3.675600051879883, -3.675600051879883, -3.675600051879883, -6.508800029754639, -6.508800029754639, -6.508800029754639, -6.508800029754639, -6.508800029754639, -6.508800029754639, -6.508800029754639, -6.508800029754639, -6.508800029754639, -6.508800029754639, -6.508800029754639, -6.508800029754639, -6.508800029754639, -6.508800029754639, -6.508800029754639, -6.508800029754639, -6.508800029754639, -6.508800029754639, -6.508800029754639, -6.508800029754639, -6.508800029754639, -6.508800029754639, -6.508800029754639, -6.508800029754639, -6.508800029754639, -6.508800029754639, -6.508800029754639, -6.508800029754639, -6.508800029754639, -6.508800029754639, -6.508800029754639, -6.508800029754639, -6.025700092315674, -6.031700134277344, -6.0346999168396, -6.037399768829346, -6.039400100708008, -6.040299892425537, -6.046000003814697, -6.047800064086914, -6.048900127410889, -6.049699783325195, -6.1072001457214355, -6.1072001457214355, -6.1072001457214355, -6.1072001457214355, -6.1072001457214355, -6.1072001457214355, -6.1072001457214355, -6.1072001457214355, -6.1072001457214355, -6.1072001457214355, -6.1072001457214355, -6.1072001457214355, -6.1072001457214355, -6.1072001457214355, -6.1072001457214355, -6.1072001457214355, -6.1072001457214355, -6.1072001457214355, -6.1072001457214355, -6.1072001457214355, -6.02869987487793, -6.0278000831604, -5.980100154876709, -6.031400203704834, -6.040299892425537, -6.053999900817871, -6.089900016784668, -6.09089994430542, -6.090400218963623, -6.092299938201904, -6.092400074005127, -6.093299865722656, -6.073800086975098, -6.093599796295166, -6.093599796295166, -6.093900203704834, -6.079500198364258, -6.082699775695801, -6.064300060272217, -6.076900005340576, -6.064499855041504, -6.084099769592285, -6.080999851226807, -6.079800128936768, -6.082300186157227, -6.083700180053711, -6.081999778747559, -6.0854997634887695, -6.085899829864502, -6.115099906921387, -6.115099906921387, -6.115099906921387, -6.115099906921387, -6.115099906921387, -6.115099906921387, -6.115099906921387, -6.115099906921387, -6.115099906921387, -6.115099906921387, -6.115099906921387, -6.115099906921387, -6.115099906921387, -6.115099906921387, -6.115099906921387, -6.115099906921387, -6.115099906921387, -6.115099906921387, -6.115099906921387, -6.115099906921387, -6.115099906921387, -6.115099906921387, -6.115099906921387, -6.115099906921387, -6.115099906921387, -6.115099906921387, -6.115099906921387, -6.115099906921387, -6.115099906921387, -6.115099906921387, -6.070799827575684, -6.073699951171875, -6.074699878692627, -6.075099945068359, -6.076000213623047, -6.076600074768066, -6.077099800109863, -6.0777997970581055, -6.078999996185303, -6.078999996185303, -6.079699993133545, -6.079800128936768, -6.079800128936768, -6.079899787902832, -6.043300151824951, -6.079999923706055, -6.080399990081787, -6.080699920654297, -6.0808000564575195, -6.080999851226807, -6.080999851226807, -6.081399917602539, -6.081600189208984, -6.081699848175049, -6.026299953460693, -6.082200050354004, -6.052499771118164, -6.083099842071533, -6.084000110626221, -6.084000110626221, -5.995299816131592, -5.98360013961792, -6.0370001792907715, -6.0279998779296875, -6.047699928283691, -6.059599876403809, -6.032800197601318, -6.04040002822876, -6.043399810791016, -6.061200141906738, -6.062099933624268, -6.049600124359131, -6.063600063323975, -6.045000076293945, -6.052800178527832, -6.051799774169922, -6.069900035858154, -6.06790018081665, -6.071400165557861, -6.071700096130371, -6.0746002197265625, -6.075099945068359, -6.120500087738037, -6.120500087738037, -6.120500087738037, -6.120500087738037, -6.120500087738037, -6.120500087738037, -6.120500087738037, -6.120500087738037, -6.120500087738037, -6.120500087738037, -6.120500087738037, -6.120500087738037, -6.120500087738037, -6.120500087738037, -6.120500087738037, -6.120500087738037, -6.120500087738037, -6.120500087738037, -6.120500087738037, -6.120500087738037, -6.120500087738037, -6.120500087738037, -6.120500087738037, -6.120500087738037, -6.120500087738037, -6.120500087738037, -6.120500087738037, -6.120500087738037, -6.120500087738037, -6.120500087738037, -6.055099964141846, -6.06279993057251, -6.063300132751465, -6.064000129699707, -6.064000129699707, -6.065299987792969, -6.065400123596191, -6.066400051116943, -6.066500186920166, -6.066699981689453, -6.066699981689453, -6.067200183868408, -6.067500114440918, -6.068600177764893, -6.068699836730957, -6.0690999031066895, -6.069900035858154, -6.070400238037109, -6.070400238037109, -6.070700168609619, -6.071599960327148, -6.071700096130371, -6.071899890899658, -6.018499851226807, -5.98829984664917, -5.907700061798096, -6.0721001625061035, -6.072500228881836, -6.0725998878479, -6.022799968719482, -6.033299922943115, -6.033699989318848, -5.9440999031066895, -6.021500110626221, -6.044099807739258, -6.020999908447266, -6.017300128936768, -6.03849983215332, -6.030799865722656, -6.020299911499023, -6.053999900817871, -6.030200004577637, -6.044300079345703, -6.0416998863220215, -6.05649995803833, -6.056099891662598, -6.063399791717529, -6.0524001121521, -6.058700084686279, -6.060500144958496, -6.063300132751465, -6.103099822998047, -6.103099822998047, -6.103099822998047, -6.103099822998047, -6.103099822998047, -6.103099822998047, -6.103099822998047, -6.103099822998047, -6.103099822998047, -6.103099822998047, -6.103099822998047, -6.103099822998047, -6.103099822998047, -6.103099822998047, -6.103099822998047, -6.103099822998047, -6.103099822998047, -6.103099822998047, -6.103099822998047, -6.103099822998047, -6.103099822998047, -6.103099822998047, -6.103099822998047, -6.103099822998047, -6.103099822998047, -6.103099822998047, -6.103099822998047, -6.103099822998047, -6.103099822998047, -6.103099822998047, -6.094799995422363, -6.09499979019165, -6.095300197601318, -6.095600128173828, -6.095900058746338, -6.0960001945495605, -6.096199989318848, -6.09630012512207, -6.096499919891357, -6.096499919891357, -6.096799850463867, -6.097400188446045, -6.097799777984619, -6.098100185394287, -6.088799953460693, -6.091000080108643, -6.093699932098389, -6.094399929046631, -6.0945000648498535, -6.094799995422363, -6.09630012512207, -6.09630012512207, -6.096399784088135, -6.096700191497803, -6.09689998626709, -6.09689998626709, -6.097400188446045, -6.097799777984619, -6.097799777984619, -6.097799777984619, -6.10260009765625, -6.10260009765625, -6.10260009765625, -6.10260009765625, -6.10260009765625, -6.10260009765625, -6.10260009765625, -6.10260009765625, -6.10260009765625, -6.10260009765625, -6.10260009765625, -6.10260009765625, -6.10260009765625, -6.10260009765625, -6.10260009765625, -6.10260009765625, -6.10260009765625, -6.10260009765625, -6.10260009765625, -6.10260009765625, -6.10260009765625, -6.10260009765625, -6.10260009765625, -6.10260009765625, -6.10260009765625, -6.10260009765625, -6.10260009765625, -6.10260009765625, -6.10260009765625, -6.10260009765625, -6.10260009765625, -6.10260009765625, -6.10260009765625, -6.10260009765625, -6.10260009765625, -6.10260009765625, -6.10260009765625, -6.10260009765625, -6.10260009765625, -6.10260009765625, -6.10260009765625, -6.10260009765625, -6.10260009765625, -6.10260009765625, -6.10260009765625, -6.10260009765625, -6.10260009765625, -6.10260009765625, -6.10260009765625, -6.10260009765625, -6.10260009765625, -6.10260009765625, -6.10260009765625, -6.10260009765625, -6.10260009765625, -6.10260009765625, -6.10260009765625, -6.10260009765625, -6.10260009765625, -6.10260009765625], \"loglift\": [30.0, 29.0, 28.0, 27.0, 26.0, 25.0, 24.0, 23.0, 22.0, 21.0, 20.0, 19.0, 18.0, 17.0, 16.0, 15.0, 14.0, 13.0, 12.0, 11.0, 10.0, 9.0, 8.0, 7.0, 6.0, 5.0, 4.0, 3.0, 2.0, 1.0, 1.4573999643325806, 1.3984999656677246, 1.3984999656677246, 1.3983999490737915, 1.398300051689148, 1.3982000350952148, 1.3977999687194824, 1.3976999521255493, 1.3975000381469727, 1.3974000215530396, 1.2461999654769897, 1.2461999654769897, 1.2461999654769897, 1.2461999654769897, 1.2460999488830566, 1.2460999488830566, 1.2460999488830566, 1.2460999488830566, 1.2460999488830566, 1.2460999488830566, 1.246000051498413, 1.246000051498413, 1.246000051498413, 1.246000051498413, 1.24590003490448, 1.2447999715805054, 1.2447999715805054, 1.2447999715805054, 1.2447999715805054, 1.2447999715805054, 1.2093000411987305, 1.1412999629974365, 1.0777000188827515, 1.0658999681472778, 0.8784999847412109, 0.835099995136261, 0.8039000034332275, 0.892300009727478, 0.8385000228881836, 0.4993000030517578, 0.7433000206947327, 0.7569000124931335, 1.6339000463485718, 1.623900055885315, 1.590399980545044, 1.5586999654769897, 1.5585999488830566, 1.4993000030517578, 1.4986000061035156, 1.4984999895095825, 1.4981000423431396, 1.4977999925613403, 1.4291000366210938, 1.364300012588501, 1.3438999652862549, 1.3438999652862549, 1.3438999652862549, 1.3438999652862549, 1.3438999652862549, 1.3438999652862549, 1.3438999652862549, 1.3438999652862549, 1.3438999652862549, 1.3438999652862549, 1.3438999652862549, 1.3438999652862549, 1.3438999652862549, 1.3438999652862549, 1.3437999486923218, 1.3437999486923218, 1.3437999486923218, 1.3437999486923218, 1.2173000574111938, 1.1901999711990356, 1.0774999856948853, 1.1102999448776245, 1.159500002861023, 1.1589000225067139, 1.1586999893188477, 0.914900004863739, 0.7347000241279602, 0.7059999704360962, -0.5110999941825867, 0.4918000102043152, 0.2879999876022339, 0.26190000772476196, 1.7632999420166016, 1.7300000190734863, 1.6689000129699707, 1.6689000129699707, 1.667799949645996, 1.667799949645996, 1.5094000101089478, 1.5094000101089478, 1.5094000101089478, 1.5094000101089478, 1.5094000101089478, 1.5094000101089478, 1.5094000101089478, 1.5094000101089478, 1.5094000101089478, 1.5094000101089478, 1.5081000328063965, 1.5081000328063965, 1.5081000328063965, 1.5080000162124634, 1.5080000162124634, 1.5080000162124634, 1.5080000162124634, 1.5080000162124634, 1.5080000162124634, 1.5080000162124634, 1.5080000162124634, 1.5080000162124634, 1.5080000162124634, 1.5078999996185303, 1.205199956893921, 1.3451000452041626, 1.003100037574768, 1.2044999599456787, 1.1059000492095947, 0.9789000153541565, 0.8754000067710876, 0.427700012922287, 0.9937000274658203, 0.43369999527931213, 1.021399974822998, 0.13660000264644623, 0.6496999859809875, -0.3653999865055084, 0.19830000400543213, 0.3984000086784363, 1.8177000284194946, 1.8176000118255615, 1.8137999773025513, 1.8135000467300415, 1.8133000135421753, 1.6526999473571777, 1.6526999473571777, 1.6526999473571777, 1.6526999473571777, 1.6526999473571777, 1.6526999473571777, 1.6526999473571777, 1.6526999473571777, 1.6526999473571777, 1.6526999473571777, 1.652500033378601, 1.652500033378601, 1.652500033378601, 1.652500033378601, 1.652500033378601, 1.652400016784668, 1.652400016784668, 1.652400016784668, 1.652400016784668, 1.6523000001907349, 1.648900032043457, 1.648900032043457, 1.648800015449524, 1.648800015449524, 1.648800015449524, 1.4764000177383423, 1.4617999792099, 1.4571000337600708, 1.225100040435791, 1.2110999822616577, 1.19760000705719, 0.9954000115394592, 0.91839998960495, 0.6446999907493591, 0.5805000066757202, 0.5511000156402588, 1.0750000476837158, 0.8945000171661377, 0.12780000269412994, 0.7883999943733215, 1.1196000576019287, 0.5849999785423279, 1.1399999856948853, 1.3777999877929688, 1.9888999462127686, 1.988800048828125, 1.988700032234192, 1.9886000156402588, 1.9881000518798828, 1.9234000444412231, 1.923200011253357, 1.9230999946594238, 1.9229999780654907, 1.9227999448776245, 1.8712999820709229, 1.7632999420166016, 1.7559000253677368, 1.7559000253677368, 1.7559000253677368, 1.7559000253677368, 1.7559000253677368, 1.7559000253677368, 1.7559000253677368, 1.7559000253677368, 1.7559000253677368, 1.7559000253677368, 1.7559000253677368, 1.7559000253677368, 1.7559000253677368, 1.7559000253677368, 1.7559000253677368, 1.7559000253677368, 1.7559000253677368, 1.7551000118255615, 1.587499976158142, 1.3341000080108643, 1.4911999702453613, 1.405400037765503, 1.3773000240325928, 1.3372999429702759, 1.0041999816894531, 0.7728999853134155, 1.0400999784469604, 2.390399932861328, 2.390000104904175, 2.3891000747680664, 2.2019999027252197, 2.2018001079559326, 2.2016000747680664, 2.2016000747680664, 2.2016000747680664, 2.2014999389648438, 2.2014999389648438, 2.2014999389648438, 2.2014000415802, 2.2014000415802, 2.2014000415802, 2.2014000415802, 2.2012999057769775, 2.2012999057769775, 2.201200008392334, 2.2011001110076904, 2.2011001110076904, 2.2011001110076904, 2.2011001110076904, 2.2009999752044678, 2.2009999752044678, 2.200900077819824, 2.200900077819824, 2.200900077819824, 2.2007999420166016, 2.2007999420166016, 2.200700044631958, 2.020400047302246, 1.5997999906539917, 1.7649999856948853, 0.5730999708175659, 0.7526999711990356, 1.6710000038146973, 1.6615999937057495, 1.184499979019165, 0.3650999963283539, 2.930999994277954, 2.740000009536743, 2.5237998962402344, 2.5237998962402344, 2.523699998855591, 2.523400068283081, 2.5232999324798584, 2.5232999324798584, 2.523200035095215, 2.5230000019073486, 2.522900104522705, 2.522900104522705, 2.5227999687194824, 2.521699905395508, 2.2309000492095947, 1.9449000358581543, 1.9289000034332275, 1.9283000230789185, 1.9056999683380127, 1.7496000528335571, 1.5699000358581543, 1.4677000045776367, 1.3032000064849854, 1.2562999725341797, 0.9300000071525574, 0.4275999963283539, -0.04470000043511391, -0.04470000043511391, -0.04470000043511391, -0.04470000043511391, -0.04470000043511391, -0.32690000534057617, -0.04470000043511391, -0.3346000015735626, -0.33649998903274536, -0.33739998936653137, -0.7462000250816345, -1.1038000583648682, -0.7799000144004822, -2.061000108718872, -1.8961000442504883, -2.1106998920440674, 3.320199966430664, 3.0499000549316406, 3.0499000549316406, 3.0499000549316406, 3.049799919128418, 3.0495998859405518, 3.0495998859405518, 3.0494000911712646, 3.0494000911712646, 2.6684000492095947, 2.3399999141693115, 2.2829999923706055, 2.0381999015808105, 1.9651999473571777, 1.753000020980835, 1.700700044631958, 1.5996999740600586, 0.29109999537467957, 0.29109999537467957, 0.29109999537467957, 0.29109999537467957, 0.29109999537467957, 0.29109999537467957, 0.25279998779296875, 0.2526000142097473, 0.2524999976158142, 0.2524999976158142, 0.2524000108242035, 0.2524000108242035, 0.25220000743865967, -0.15150000154972076, -0.15150000154972076, -0.15150000154972076, -0.2110999971628189, -0.15150000154972076, -0.15150000154972076, -1.6719000339508057, -0.15150000154972076, -0.15150000154972076, -0.15150000154972076, -1.0513999462127686, -0.6913999915122986, -0.21119999885559082, 3.3633999824523926, 3.0866000652313232, 3.0866000652313232, 3.0866000652313232, 3.0866000652313232, 3.0866000652313232, 3.0866000652313232, 2.6881000995635986, 2.4119999408721924, 2.383699893951416, 2.3768999576568604, 2.3025999069213867, 2.106800079345703, 1.7173000574111938, 1.6191999912261963, 0.3100000023841858, 0.3100000023841858, 0.3100000023841858, 0.3100000023841858, 0.3100000023841858, 0.3100000023841858, 0.271699994802475, 0.27160000801086426, 0.27149999141693115, 0.27140000462532043, 0.27129998803138733, 0.27129998803138733, 0.2711000144481659, 0.2711000144481659, 0.2711000144481659, -0.10869999974966049, -0.1088000014424324, -0.10939999669790268, -0.5677000284194946, -0.10970000177621841, -0.11050000041723251, -0.11050000041723251, -0.11100000143051147, -0.11110000312328339, -0.11150000244379044, -0.11219999939203262, -0.11330000311136246, -0.5781000256538391, -0.11349999904632568, -0.1145000010728836, -0.9182000160217285, -0.9354000091552734, -1.1998000144958496, -0.5986999869346619, -1.7457000017166138, -1.5710999965667725, -1.8486000299453735, -1.4491000175476074, -0.9585999846458435, 3.12719988822937, 3.1270999908447266, 3.1270999908447266, 3.127000093460083, 3.1268999576568604, 3.126800060272217, 3.126800060272217, 3.126699924468994, 3.1266000270843506, 3.1263999938964844, 2.4428000450134277, 2.4254000186920166, 2.4059998989105225, 1.7781000137329102, 1.7193000316619873, 0.33640000224113464, 0.33640000224113464, 0.33640000224113464, 0.33640000224113464, 0.33640000224113464, 0.33640000224113464, 0.2797999978065491, 0.2797999978065491, 0.2797999978065491, 0.2797999978065491, 0.2797999978065491, 0.2797999978065491, 0.26249998807907104, 0.26249998807907104, 0.26249998807907104, 0.2624000012874603, -0.16779999434947968, -0.16869999468326569, -0.1687999963760376, -0.17000000178813934, -0.17010000348091125, -0.1703999936580658, -0.1712000072002411, -0.1712999939918518, -0.17159999907016754, -0.17190000414848328, -0.17190000414848328, -0.17249999940395355, -0.17299999296665192, -1.4239000082015991, -1.632599949836731, -0.9973000288009644, -0.9957000017166138, -0.65829998254776, -1.3260999917984009, -0.6593000292778015, -1.239799976348877, -0.6384999752044678, 3.215100049972534, 3.215100049972534, 3.215100049972534, 3.215100049972534, 3.215100049972534, 3.215100049972534, 2.6603000164031982, 2.476099967956543, 2.476099967956543, 2.1187000274658203, 1.5434999465942383, 1.4124000072479248, 1.0925999879837036, 0.8575999736785889, 0.34360000491142273, 0.3434999883174896, 0.3434000015258789, 0.3433000147342682, 0.3431999981403351, 0.3431999981403351, 0.34299999475479126, 0.34299999475479126, 0.34299999475479126, 0.34290000796318054, 0.325300008058548, 0.325300008058548, 0.325300008058548, 0.325300008058548, 0.325300008058548, 0.325300008058548, -0.06069999933242798, -0.06069999933242798, -0.06069999933242798, -0.06069999933242798, -0.06069999933242798, -0.06069999933242798, -0.06069999933242798, -0.06069999933242798, -0.06069999933242798, -0.06069999933242798, -0.06069999933242798, -0.06069999933242798, -0.06069999933242798, -0.06069999933242798, -0.600600004196167, -0.12039999663829803, 0.82669997215271, 0.8205000162124634, 0.8174999952316284, 0.8145999908447266, 0.8126000165939331, 0.8116999864578247, 0.8058000206947327, 0.8040000200271606, 0.8029000163078308, 0.8019999861717224, 0.7833999991416931, 0.7833999991416931, 0.7833999991416931, 0.7833999991416931, 0.7833999991416931, 0.7833999991416931, 0.7268000245094299, 0.7268000245094299, 0.7268000245094299, 0.7268000245094299, 0.7268000245094299, 0.7268000245094299, 0.7095000147819519, 0.7095000147819519, 0.7095000147819519, 0.7095000147819519, 0.7093999981880188, 0.7093999981880188, 0.7092999815940857, 0.7092999815940857, 0.14000000059604645, 0.12349999696016312, -0.5123000144958496, -0.5863999724388123, -0.5371000170707703, -0.42989999055862427, 0.35899999737739563, 0.3578999936580658, 0.34459999203681946, 0.3564999997615814, 0.3562999963760376, 0.3555000126361847, -0.27950000762939453, 0.35510000586509705, 0.35510000586509705, 0.3546999990940094, -0.12600000202655792, -0.12929999828338623, -1.0608999729156494, -0.45329999923706055, -1.0949000120162964, -0.13079999387264252, -0.45739999413490295, -0.6435999870300293, -0.45879998803138733, -0.4602999985218048, -1.0468000173568726, -0.6777999997138977, -0.7396000027656555, 0.775600016117096, 0.775600016117096, 0.775600016117096, 0.775600016117096, 0.775600016117096, 0.775600016117096, 0.7372999787330627, 0.7372000217437744, 0.7371000051498413, 0.7369999885559082, 0.7368999719619751, 0.7368999719619751, 0.7366999983787537, 0.7366999983787537, 0.7365999817848206, 0.7365999817848206, 0.718999981880188, 0.718999981880188, 0.718999981880188, 0.718999981880188, 0.718999981880188, 0.718999981880188, 0.7016000151634216, 0.7016000151634216, 0.7016000151634216, 0.7016000151634216, 0.7014999985694885, 0.7014999985694885, 0.7014999985694885, 0.7014999985694885, 0.3407999873161316, 0.33799999952316284, 0.3366999924182892, 0.33660000562667847, 0.3353999853134155, 0.33480000495910645, 0.3343999981880188, 0.33379998803138733, 0.3328000009059906, 0.3319999873638153, 0.3321000039577484, 0.33239999413490295, 0.33169999718666077, 0.33160001039505005, -0.1348000019788742, 0.3312000036239624, 0.3314000070095062, 0.33079999685287476, 0.3303999900817871, 0.3303999900817871, 0.3305000066757202, 0.33000001311302185, 0.3296000063419342, 0.3296999931335449, -0.4514999985694885, 0.3294000029563904, -0.14429999887943268, 0.3280999958515167, 0.32739999890327454, 0.32690000534057617, -1.2269999980926514, -1.4505000114440918, -0.45159998536109924, -0.6816999912261963, -0.47760000824928284, -0.1914999932050705, -1.0631999969482422, -0.821399986743927, -0.7592999935150146, -0.19290000200271606, -0.17419999837875366, -0.6046000123023987, -0.17569999396800995, -0.9289000034332275, -0.7296000123023987, -1.3839000463485718, -0.20250000059604645, -1.1904000043869019, -0.5353000164031982, -0.5411999821662903, -0.2070000022649765, -0.18860000371932983, 0.7702000141143799, 0.7702000141143799, 0.7702000141143799, 0.7702000141143799, 0.7702000141143799, 0.7702000141143799, 0.7318999767303467, 0.7317000031471252, 0.7315999865531921, 0.7315999865531921, 0.7315000295639038, 0.7315000295639038, 0.7312999963760376, 0.7312999963760376, 0.7311999797821045, 0.7311999797821045, 0.7135999798774719, 0.7135999798774719, 0.7135999798774719, 0.7135999798774719, 0.7135999798774719, 0.7135999798774719, 0.6962000131607056, 0.6962000131607056, 0.6962000131607056, 0.6962000131607056, 0.6960999965667725, 0.6960999965667725, 0.6960999965667725, 0.6959999799728394, 0.3569999933242798, 0.3490000069141388, 0.3481999933719635, 0.34790000319480896, 0.34779998660087585, 0.34610000252723694, 0.34599998593330383, 0.3447999954223633, 0.3449000120162964, 0.3447999954223633, 0.34450000524520874, 0.3440000116825104, 0.34389999508857727, 0.3427000045776367, 0.34290000796318054, 0.3425000011920929, 0.3416000008583069, 0.3407999873161316, 0.34130001068115234, 0.3407999873161316, 0.33980000019073486, 0.33959999680519104, 0.3395000100135803, -0.10989999771118164, -0.41350001096725464, -1.1395000219345093, 0.33899998664855957, 0.33889999985694885, 0.33889999985694885, -0.11469999700784683, -0.1454000025987625, -0.14589999616146088, -1.4110000133514404, -0.5763999819755554, -0.17579999566078186, -0.7368999719619751, -0.9010999798774719, -0.4530999958515167, -0.7077000141143799, -1.0506999492645264, -0.1859000027179718, -1.3623000383377075, -0.6978999972343445, -0.822700023651123, -0.18889999389648438, -0.4860999882221222, 0.08789999783039093, -1.1749999523162842, -0.5227000117301941, -1.1088999509811401, -0.17649999260902405, 0.7875999808311462, 0.7875999808311462, 0.7875999808311462, 0.7875999808311462, 0.7875999808311462, 0.7875999808311462, 0.7493000030517578, 0.7491000294685364, 0.7490000128746033, 0.7490000128746033, 0.7488999962806702, 0.7488999962806702, 0.7487000226974487, 0.7487000226974487, 0.7486000061035156, 0.7486000061035156, 0.7310000061988831, 0.7310000061988831, 0.7310000061988831, 0.7310000061988831, 0.7310000061988831, 0.7310000061988831, 0.7135999798774719, 0.7135999798774719, 0.7135999798774719, 0.7135999798774719, 0.7135000228881836, 0.7135000228881836, 0.7135000228881836, 0.7134000062942505, 0.2809999883174896, 0.2808000147342682, 0.28060001134872437, 0.28029999136924744, 0.2799000144004822, 0.2797999978065491, 0.27959999442100525, 0.27950000762939453, 0.2793000042438507, 0.2793000042438507, 0.27900001406669617, 0.2784000039100647, 0.27790001034736633, 0.2775000035762787, -1.1813000440597534, -0.546999990940094, -0.18559999763965607, -0.22789999842643738, -0.5462999939918518, -0.20819999277591705, -0.2094999998807907, -0.8773000240325928, -0.7993999719619751, -0.9805999994277954, -0.23070000112056732, -0.2303999960422516, -0.21089999377727509, -0.567300021648407, -0.23160000145435333, -0.23160000145435333, 0.788100004196167, 0.788100004196167, 0.788100004196167, 0.788100004196167, 0.788100004196167, 0.788100004196167, 0.7498999834060669, 0.7497000098228455, 0.7495999932289124, 0.7494999766349792, 0.7494000196456909, 0.7494000196456909, 0.7493000030517578, 0.7491999864578247, 0.7491999864578247, 0.7491000294685364, 0.7315000295639038, 0.7315000295639038, 0.7315000295639038, 0.7315000295639038, 0.7315000295639038, 0.7315000295639038, 0.7142000198364258, 0.7142000198364258, 0.7142000198364258, 0.7141000032424927, 0.7141000032424927, 0.7141000032424927, 0.7139999866485596, 0.7139999866485596, 0.3089999854564667, 0.34549999237060547, 0.34549999237060547, 0.34549999237060547, 0.34549999237060547, 0.34549999237060547, 0.34549999237060547, 0.34549999237060547, 0.34549999237060547, 0.34549999237060547, 0.34549999237060547, 0.34549999237060547, 0.34549999237060547, 0.34549999237060547, 0.34549999237060547, 0.34549999237060547, 0.34549999237060547, -0.19439999759197235, 0.2858000099658966, -0.22830000519752502, -0.5543000102043152, 0.28600001335144043, 0.2858999967575073, -1.5408999919891357, -1.1748000383377075, 0.28600001335144043, 0.34549999237060547, -0.1581999957561493, -0.5572999715805054, -0.37059998512268066]}, \"token.table\": {\"Topic\": [6, 2, 2, 1, 7, 4, 1, 2, 4, 3, 4, 5, 2, 2, 2, 4, 6, 1, 2, 3, 3, 2, 2, 1, 3, 5, 3, 2, 3, 5, 4, 3, 3, 7, 3, 6, 5, 3, 3, 3, 3, 3, 1, 5, 1, 2, 5, 7, 4, 3, 4, 1, 2, 3, 4, 1, 4, 3, 5, 2, 5, 3, 2, 4, 2, 3, 3, 4, 7, 1, 3, 5, 2, 1, 2, 5, 6, 7, 1, 2, 3, 1, 2, 7, 3, 5, 3, 2, 3, 5, 5, 4, 5, 6, 1, 4, 5, 4, 6, 2, 3, 4, 1, 7, 2, 4, 4, 2, 4, 3, 6, 4, 2, 2, 5, 6, 3, 3, 6, 1, 2, 5, 2, 4, 4, 5, 1, 2, 5, 6, 3, 5, 3, 2, 1, 3, 3, 1, 6, 4, 5, 4, 3, 6, 1, 3, 6, 3, 1, 2, 3, 1, 5, 4, 1, 7, 1, 3, 1, 6, 4, 3, 4, 2, 3, 1, 4, 6, 7, 5, 5, 1, 4, 3, 4, 3, 4, 6, 6, 4, 6, 2, 4, 1, 8, 4, 7, 4, 5, 6, 4, 1, 3, 7, 4, 5, 3, 7, 1, 1, 3, 1, 4, 3, 5, 5, 5, 6, 2, 6, 4, 5, 7, 1, 5, 6, 1, 2, 1, 1, 2, 3, 4, 6, 5, 3, 3, 4, 4, 6, 3, 4, 1, 3, 1, 3, 2, 1, 2, 5, 5, 6, 7, 1, 3, 2, 3, 2, 6, 7, 3, 3, 2, 3, 3, 3, 4, 4, 1, 5, 1, 4, 4, 7, 3, 7, 5, 3, 4, 5, 2, 3, 6, 4, 6, 6, 1, 2, 1, 5, 1, 5, 7, 2, 4, 2, 2, 6, 3, 4, 9, 6, 4, 7, 4, 2, 3, 5, 2, 3, 7, 1, 2, 4, 1, 2, 4, 5, 3, 7, 3, 1, 9, 10, 3, 2, 5, 2, 3, 4, 4, 2, 4, 5, 3, 6, 2, 1, 2, 4, 6, 1, 3, 6, 1, 1, 3, 6, 1, 3, 5, 5, 1, 2, 3, 7, 4, 1, 1, 3, 3, 1, 2, 3, 3, 3, 4, 6, 7, 3, 2, 1, 2, 1, 2, 4, 7, 1, 1, 6, 3, 6, 6, 4, 3, 4, 5, 7, 4, 2, 3, 1, 3, 3, 5, 1, 5, 3, 3, 4, 1, 1, 3, 4, 6, 2, 4, 5, 6, 4, 1, 3, 4, 5, 5, 1, 1, 2, 3, 4, 5, 5, 4, 5, 2, 2, 4, 6, 6, 7, 4, 3], \"Freq\": [0.9271594882011414, 0.798452615737915, 0.7985190749168396, 0.7885982394218445, 1.014482855796814, 0.8360438346862793, 0.4775145649909973, 0.4775145649909973, 0.8360438942909241, 0.5007302165031433, 0.5007302165031433, 0.8476239442825317, 0.7984026074409485, 0.7984224557876587, 0.5911840796470642, 0.2955920398235321, 0.14779601991176605, 0.34467533230781555, 0.34467533230781555, 0.34467533230781555, 0.8171818852424622, 0.7986302971839905, 0.7985836267471313, 0.9493914246559143, 0.8166462182998657, 0.847623884677887, 0.81683748960495, 0.5140453577041626, 0.38553401827812195, 0.8476240634918213, 0.8369655013084412, 0.8143357038497925, 0.5600258708000183, 0.5600258708000183, 0.8170015811920166, 0.9269233345985413, 0.8476237058639526, 0.6299573183059692, 0.8169651627540588, 0.8169028759002686, 0.8166800737380981, 0.8169366717338562, 0.9487298727035522, 1.0337516069412231, 0.7884935736656189, 0.9266237616539001, 1.0335534811019897, 1.0147110223770142, 0.8360438346862793, 0.8170872926712036, 0.8368567228317261, 0.223747119307518, 0.223747119307518, 0.447494238615036, 0.223747119307518, 0.49058011174201965, 0.49058011174201965, 0.8168958425521851, 0.8481813073158264, 0.7986507415771484, 0.848129391670227, 0.817125678062439, 1.0309669971466064, 1.0172899961471558, 1.0310136079788208, 0.8171043992042542, 0.3909154236316681, 0.3909154236316681, 0.3909154236316681, 0.7885164618492126, 0.9840192794799805, 0.8476239442825317, 0.8025039434432983, 0.7884408235549927, 0.9610779881477356, 0.8816214799880981, 0.9269884824752808, 0.6590021252632141, 0.342180997133255, 0.68436199426651, 0.8171299695968628, 0.5711942315101624, 0.2855971157550812, 0.2855971157550812, 0.8167944550514221, 0.8476239442825317, 0.8143358826637268, 0.7984079718589783, 0.7078583836555481, 0.8481776714324951, 1.0334198474884033, 0.8370234370231628, 0.5451989769935608, 0.5451989769935608, 0.5693981647491455, 0.3795987665653229, 0.7432130575180054, 0.8360437750816345, 0.9270339608192444, 0.4862227141857147, 0.4862227141857147, 0.8368397355079651, 0.9477517008781433, 1.0148656368255615, 0.9612175226211548, 0.8363150358200073, 0.8363879323005676, 0.6132320761680603, 0.8368767499923706, 0.8169496655464172, 0.9269511103630066, 0.8360438942909241, 0.7984060645103455, 0.9613224267959595, 0.8476239442825317, 0.9269707798957825, 0.8168731331825256, 0.8165821433067322, 0.9269769191741943, 0.34207436442375183, 0.6841487288475037, 0.8481473326683044, 0.7984038591384888, 0.8364545106887817, 0.8364960551261902, 0.8476239442825317, 0.5412047505378723, 0.27060237526893616, 0.27060237526893616, 0.5766695737838745, 0.8143358826637268, 0.8476239442825317, 0.8143357038497925, 0.7984445691108704, 0.4840643107891083, 0.4840643107891083, 0.8171868920326233, 0.7883708477020264, 0.9270031452178955, 0.3693028688430786, 0.7386057376861572, 0.837085485458374, 0.8169140219688416, 0.9269511699676514, 0.7884216904640198, 0.8169375658035278, 0.5767492055892944, 0.8171203136444092, 0.268086314201355, 0.53617262840271, 0.268086314201355, 0.41419580578804016, 0.41419580578804016, 0.8360440135002136, 0.5471104979515076, 0.5471104979515076, 1.0158052444458008, 0.8174393773078918, 0.7897077798843384, 0.9269841909408569, 0.8369889855384827, 0.7154364585876465, 0.35771822929382324, 0.3108768165111542, 0.6217536330223083, 0.5448606014251709, 0.18162019550800323, 0.18162019550800323, 0.18162019550800323, 0.743317723274231, 0.847623884677887, 0.7885994911193848, 1.0169740915298462, 0.3610817790031433, 0.7221635580062866, 0.8143356442451477, 0.8369759917259216, 0.9269844889640808, 0.9270138144493103, 0.8369920253753662, 0.9270553588867188, 0.3578528165817261, 0.7157056331634521, 0.6028321981430054, 0.8273831009864807, 0.8370085954666138, 1.014683723449707, 1.0161374807357788, 0.6163119673728943, 0.30815598368644714, 0.6351081132888794, 0.9485231637954712, 0.8170919418334961, 0.9181039333343506, 0.2874484360218048, 0.5748968720436096, 0.9883741140365601, 1.014870047569275, 0.7885800004005432, 0.48345035314559937, 0.48345035314559937, 0.35612979531288147, 0.7122595906257629, 0.8172438740730286, 0.847623884677887, 0.848233163356781, 0.8481631278991699, 0.926996648311615, 0.6827965378761292, 0.22759884595870972, 1.0173851251602173, 1.0338455438613892, 1.0147079229354858, 0.5287137031555176, 0.17623791098594666, 0.3524758219718933, 0.7939944267272949, 0.26466482877731323, 0.9473434686660767, 0.21947705745697021, 0.6584311723709106, 0.21947705745697021, 0.5401413440704346, 0.5401413440704346, 0.8476237058639526, 0.8169028759002686, 0.8143357038497925, 0.8360440135002136, 0.8370156288146973, 0.9270116090774536, 0.8143358826637268, 0.8370052576065063, 0.9476887583732605, 0.8171523213386536, 0.4834068715572357, 0.4834068715572357, 0.7984219193458557, 0.6809841990470886, 0.3404920995235443, 0.8476239442825317, 0.6704413294792175, 0.33522066473960876, 0.5693095326423645, 0.48407983779907227, 0.48407983779907227, 0.7984147667884827, 0.8169749975204468, 0.9608429074287415, 0.5767078995704651, 1.0148743391036987, 0.8177312612533569, 0.8171060085296631, 0.7984285950660706, 0.8256146907806396, 0.8168217539787292, 0.8171822428703308, 0.83644038438797, 0.83683842420578, 0.9491596817970276, 0.7432563900947571, 0.94744873046875, 0.8360438346862793, 0.46807605028152466, 0.46807605028152466, 0.5598750710487366, 0.5598750710487366, 0.8476239442825317, 0.5633076429367065, 0.28165382146835327, 0.28165382146835327, 0.963832676410675, 0.8173263072967529, 0.9269944429397583, 0.39908236265182495, 0.39908236265182495, 0.9270463585853577, 0.3420374095439911, 0.6840748190879822, 0.947375476360321, 0.848292887210846, 0.29948386549949646, 0.5989677309989929, 0.29948386549949646, 0.6302139163017273, 0.8360438346862793, 0.9610467553138733, 0.7984290719032288, 0.9269762635231018, 0.9880223274230957, 0.6410121917724609, 0.8471769690513611, 0.9269438982009888, 0.8363544344902039, 0.7576909065246582, 0.8363683223724365, 0.7145423293113708, 0.2858169376850128, 0.8476237654685974, 0.6302094459533691, 0.8172376155853271, 1.0147247314453125, 0.4768759310245514, 0.4768759310245514, 0.836477518081665, 0.2238374650478363, 0.4476749300956726, 0.4476749300956726, 0.8476237654685974, 0.8172171115875244, 1.0147886276245117, 0.8143354654312134, 0.3180607855319977, 0.3180607855319977, 0.3180607855319977, 0.8143356442451477, 0.7984022498130798, 0.8476237654685974, 0.15799716114997864, 0.4739914834499359, 0.3159943222999573, 0.8366063833236694, 0.31661444902420044, 0.31661444902420044, 0.31661444902420044, 0.8173571825027466, 0.9269387125968933, 0.7983992099761963, 0.2749430537223816, 0.2749430537223816, 0.5498861074447632, 0.9270285367965698, 0.686457097530365, 0.3432285487651825, 0.9270446300506592, 0.7884948253631592, 0.7899140119552612, 0.8143358826637268, 0.926991879940033, 0.3864949345588684, 0.1932474672794342, 0.3864949345588684, 0.7432642579078674, 0.6244946718215942, 0.12489893287420273, 0.12489893287420273, 0.12489893287420273, 0.8368926048278809, 0.7885146737098694, 0.48354989290237427, 0.48354989290237427, 0.8173092007637024, 0.2479984164237976, 0.2479984164237976, 0.4959968328475952, 0.9840192794799805, 0.8170827031135559, 0.8360438346862793, 0.9270535111427307, 1.0147643089294434, 0.8168277144432068, 0.7984451055526733, 0.7899212837219238, 0.7984169721603394, 0.1438491940498352, 0.5753967761993408, 0.2876983880996704, 1.0147908926010132, 0.7899437546730042, 0.7885249853134155, 0.9270306825637817, 0.8174248337745667, 0.9270306825637817, 0.9270118474960327, 0.8369680643081665, 0.20634803175926208, 0.41269606351852417, 0.41269606351852417, 0.20634803175926208, 0.8368417620658875, 0.7984095215797424, 0.8168101906776428, 0.7898226976394653, 0.8170648813247681, 0.19987918436527252, 0.7995167374610901, 0.4939979016780853, 0.4939979016780853, 0.8174497485160828, 0.8171266913414001, 0.83636873960495, 0.7885890603065491, 0.3522665202617645, 0.3522665202617645, 0.3522665202617645, 0.9269837737083435, 0.4350481927394867, 0.21752409636974335, 0.21752409636974335, 0.21752409636974335, 0.8369160294532776, 0.78846675157547, 0.4998578727245331, 0.4998578727245331, 0.7436733245849609, 0.8480076789855957, 0.7885364890098572, 0.788491427898407, 0.27773427963256836, 0.27773427963256836, 0.5554685592651367, 1.0336997509002686, 0.8481920957565308, 0.5122054815292358, 0.5122054815292358, 0.7984400391578674, 0.7984185218811035, 0.4456690847873688, 0.4456690847873688, 0.9270828366279602, 1.0148087739944458, 1.0158954858779907, 0.8172139525413513], \"Term\": [\"able\", \"acceptable\", \"accusation\", \"act\", \"advance\", \"affected\", \"aggressive\", \"aggressive\", \"ago\", \"agree\", \"agree\", \"agreement\", \"air\", \"allergic\", \"allow\", \"allow\", \"allow\", \"also\", \"also\", \"also\", \"amazing\", \"announcement\", \"answer\", \"appear\", \"appoint\", \"army\", \"arrive\", \"ask\", \"ask\", \"assign\", \"attitude\", \"average\", \"away\", \"away\", \"back\", \"balanced\", \"barbaric\", \"bathroom\", \"beautiful\", \"beautifully\", \"become\", \"bed\", \"berate\", \"bias\", \"big\", \"blackjack\", \"blame\", \"board\", \"body\", \"book\", \"box\", \"breakfast\", \"breakfast\", \"breakfast\", \"breakfast\", \"bring\", \"bring\", \"buffet\", \"build\", \"business\", \"busy\", \"cancel\", \"card\", \"care\", \"casino\", \"cause\", \"charge\", \"charge\", \"charge\", \"cheap\", \"check\", \"child\", \"chinese\", \"cigarette\", \"citizen\", \"city\", \"clear\", \"clothe\", \"colleague\", \"colleague\", \"com\", \"come\", \"come\", \"come\", \"comfortable\", \"commemorate\", \"concierge\", \"conditioning\", \"conference\", \"control\", \"crime\", \"crowd\", \"currently\", \"currently\", \"customer\", \"customer\", \"cypriot\", \"daily\", \"definitely\", \"deny\", \"deny\", \"describe\", \"desk\", \"different\", \"discrimination\", \"disgusting\", \"display\", \"disturbing\", \"donation\", \"door\", \"driver\", \"drop\", \"due\", \"dutch\", \"duty\", \"easy\", \"egg\", \"email\", \"employ\", \"employee\", \"employee\", \"energy\", \"english\", \"enhance\", \"enormously\", \"establish\", \"even\", \"even\", \"even\", \"event\", \"example\", \"exhibit\", \"expect\", \"expensive\", \"experience\", \"experience\", \"explain\", \"facility\", \"fairly\", \"family\", \"family\", \"far\", \"favor\", \"feel\", \"fill\", \"finally\", \"find\", \"first\", \"floor\", \"floor\", \"floor\", \"follow\", \"follow\", \"forget\", \"friendly\", \"friendly\", \"front\", \"full\", \"future\", \"garner\", \"generally\", \"get\", \"get\", \"give\", \"give\", \"go\", \"go\", \"go\", \"go\", \"greek\", \"gudum\", \"guest\", \"half\", \"happen\", \"happen\", \"herd\", \"highly\", \"historical\", \"hold\", \"horrible\", \"horror\", \"hour\", \"hour\", \"however\", \"human\", \"hundred\", \"hurry\", \"indeed\", \"information\", \"information\", \"innocent\", \"instead\", \"invite\", \"iron\", \"kill\", \"kill\", \"kind\", \"know\", \"lack\", \"large\", \"large\", \"leave\", \"leave\", \"letter\", \"live\", \"local\", \"locate\", \"location\", \"look\", \"look\", \"lose\", \"lot\", \"lovely\", \"make\", \"make\", \"make\", \"man\", \"man\", \"management\", \"manager\", \"manager\", \"manager\", \"many\", \"many\", \"martyr\", \"meat\", \"medium\", \"mention\", \"merit\", \"mind\", \"minibar\", \"minute\", \"mistake\", \"money\", \"morning\", \"morning\", \"move\", \"much\", \"much\", \"murder\", \"museum\", \"museum\", \"need\", \"never\", \"never\", \"new\", \"next\", \"night\", \"occur\", \"ofcourse\", \"often\", \"one\", \"open\", \"order\", \"organizer\", \"original\", \"otherwise\", \"outside\", \"owner\", \"part\", \"pay\", \"peace\", \"people\", \"people\", \"person\", \"person\", \"photo\", \"place\", \"place\", \"place\", \"play\", \"plenary\", \"point\", \"present\", \"present\", \"pretense\", \"price\", \"price\", \"problem\", \"propaganda\", \"put\", \"put\", \"put\", \"quality\", \"quiet\", \"racism\", \"rack\", \"range\", \"rate\", \"read\", \"real\", \"really\", \"recent\", \"recommend\", \"refurbishment\", \"refuse\", \"refuse\", \"regiment\", \"regret\", \"reservation\", \"ridiculous\", \"rude\", \"rude\", \"ruin\", \"say\", \"say\", \"say\", \"scene\", \"scramble\", \"screwed\", \"second\", \"see\", \"see\", \"see\", \"self\", \"sell\", \"send\", \"service\", \"service\", \"service\", \"shock\", \"show\", \"show\", \"show\", \"side\", \"simply\", \"single\", \"sit\", \"sit\", \"sit\", \"site\", \"slow\", \"slow\", \"small\", \"smell\", \"sock\", \"sorry\", \"source\", \"speak\", \"speak\", \"speak\", \"speaker\", \"staff\", \"staff\", \"staff\", \"staff\", \"stand\", \"standard\", \"star\", \"star\", \"state\", \"stay\", \"stay\", \"stay\", \"steak\", \"stick\", \"story\", \"strange\", \"stranger\", \"stressful\", \"suffer\", \"suggest\", \"swimmingpool\", \"table\", \"table\", \"table\", \"take\", \"tantrum\", \"taste\", \"taxi\", \"tell\", \"thing\", \"think\", \"thousand\", \"time\", \"time\", \"time\", \"time\", \"tole\", \"train\", \"travel\", \"treat\", \"try\", \"turkish\", \"turkish\", \"turn\", \"turn\", \"unbearably\", \"unfortunately\", \"unhygienic\", \"unproffesional\", \"upset\", \"upset\", \"upset\", \"view\", \"visit\", \"visit\", \"visit\", \"visit\", \"wait\", \"waiter\", \"want\", \"want\", \"war\", \"waste\", \"weak\", \"welcome\", \"well\", \"well\", \"well\", \"whitewash\", \"whole\", \"wife\", \"wife\", \"window\", \"work\", \"world\", \"world\", \"worth\", \"wrinkle\", \"write\", \"wrong\"]}, \"R\": 30, \"lambda.step\": 0.01, \"plot.opts\": {\"xlab\": \"PC1\", \"ylab\": \"PC2\"}, \"topic.order\": [11, 3, 9, 10, 1, 6, 7, 14, 2, 16, 4, 13, 5, 12, 15, 8]};\n",
       "\n",
       "function LDAvis_load_lib(url, callback){\n",
       "  var s = document.createElement('script');\n",
       "  s.src = url;\n",
       "  s.async = true;\n",
       "  s.onreadystatechange = s.onload = callback;\n",
       "  s.onerror = function(){console.warn(\"failed to load library \" + url);};\n",
       "  document.getElementsByTagName(\"head\")[0].appendChild(s);\n",
       "}\n",
       "\n",
       "if(typeof(LDAvis) !== \"undefined\"){\n",
       "   // already loaded: just create the visualization\n",
       "   !function(LDAvis){\n",
       "       new LDAvis(\"#\" + \"ldavis_el1381228490498666964552526134\", ldavis_el1381228490498666964552526134_data);\n",
       "   }(LDAvis);\n",
       "}else if(typeof define === \"function\" && define.amd){\n",
       "   // require.js is available: use it to load d3/LDAvis\n",
       "   require.config({paths: {d3: \"https://cdnjs.cloudflare.com/ajax/libs/d3/3.5.5/d3.min\"}});\n",
       "   require([\"d3\"], function(d3){\n",
       "      window.d3 = d3;\n",
       "      LDAvis_load_lib(\"https://cdn.rawgit.com/bmabey/pyLDAvis/files/ldavis.v1.0.0.js\", function(){\n",
       "        new LDAvis(\"#\" + \"ldavis_el1381228490498666964552526134\", ldavis_el1381228490498666964552526134_data);\n",
       "      });\n",
       "    });\n",
       "}else{\n",
       "    // require.js not available: dynamically load d3 & LDAvis\n",
       "    LDAvis_load_lib(\"https://cdnjs.cloudflare.com/ajax/libs/d3/3.5.5/d3.min.js\", function(){\n",
       "         LDAvis_load_lib(\"https://cdn.rawgit.com/bmabey/pyLDAvis/files/ldavis.v1.0.0.js\", function(){\n",
       "                 new LDAvis(\"#\" + \"ldavis_el1381228490498666964552526134\", ldavis_el1381228490498666964552526134_data);\n",
       "            })\n",
       "         });\n",
       "}\n",
       "</script>"
      ],
      "text/plain": [
       "PreparedData(topic_coordinates=              x         y  topics  cluster       Freq\n",
       "topic                                                \n",
       "10     0.192476  0.157648       1        1  20.351473\n",
       "2     -0.045463 -0.275317       2        1  18.340654\n",
       "8     -0.237802 -0.096953       3        1  15.385048\n",
       "9     -0.173253  0.184550       4        1  13.144911\n",
       "0      0.192616 -0.177203       5        1  11.765874\n",
       "5      0.201080 -0.027855       6        1   7.120591\n",
       "6      0.029672  0.192657       7        1   4.841136\n",
       "13    -0.062411 -0.068065       8        1   2.418400\n",
       "1     -0.101817  0.026371       9        1   2.289069\n",
       "15    -0.026488  0.087133      10        1   2.154440\n",
       "3      0.055716 -0.024457      11        1   1.881918\n",
       "12    -0.004811  0.004450      12        1   0.063740\n",
       "4     -0.004929  0.004273      13        1   0.063399\n",
       "11    -0.005049  0.004267      14        1   0.062272\n",
       "14    -0.004757  0.004261      15        1   0.059632\n",
       "7     -0.004780  0.004240      16        1   0.057446, topic_info=          Term      Freq     Total Category  logprob  loglift\n",
       "212       iron  4.000000  4.000000  Default  30.0000  30.0000\n",
       "188       play  6.000000  6.000000  Default  29.0000  29.0000\n",
       "220      staff  8.000000  8.000000  Default  28.0000  28.0000\n",
       "163  blackjack  5.000000  5.000000  Default  27.0000  27.0000\n",
       "162        ask  7.000000  7.000000  Default  26.0000  26.0000\n",
       "..         ...       ...       ...      ...      ...      ...\n",
       "164   business  0.000957  1.252112  Topic16  -6.1026   0.2860\n",
       "140       army  0.000957  1.179769  Topic16  -6.1026   0.3455\n",
       "138       wife  0.000957  1.952342  Topic16  -6.1026  -0.1582\n",
       "166       card  0.000957  2.909889  Topic16  -6.1026  -0.5573\n",
       "124     follow  0.000957  2.414317  Topic16  -6.1026  -0.3706\n",
       "\n",
       "[869 rows x 6 columns], token_table=      Topic      Freq        Term\n",
       "term                             \n",
       "0         6  0.927159        able\n",
       "354       2  0.798453  acceptable\n",
       "157       2  0.798519  accusation\n",
       "261       1  0.788598         act\n",
       "206       7  1.014483     advance\n",
       "...     ...       ...         ...\n",
       "43        6  0.445669       world\n",
       "44        6  0.927083       worth\n",
       "223       7  1.014809     wrinkle\n",
       "59        4  1.015895       write\n",
       "446       3  0.817214       wrong\n",
       "\n",
       "[422 rows x 3 columns], R=30, lambda_step=0.01, plot_opts={'xlab': 'PC1', 'ylab': 'PC2'}, topic_order=[11, 3, 9, 10, 1, 6, 7, 14, 2, 16, 4, 13, 5, 12, 15, 8])"
      ]
     },
     "metadata": {},
     "output_type": "display_data"
    }
   ],
   "source": [
    "plot_model(lda_neg_16, plot ='topic_model')"
   ]
  },
  {
   "cell_type": "code",
   "execution_count": 24,
   "metadata": {},
   "outputs": [
    {
     "ename": "SyntaxError",
     "evalue": "invalid syntax (<ipython-input-24-136c5a60b842>, line 1)",
     "output_type": "error",
     "traceback": [
      "\u001b[1;36m  File \u001b[1;32m\"<ipython-input-24-136c5a60b842>\"\u001b[1;36m, line \u001b[1;32m1\u001b[0m\n\u001b[1;33m    jupyter nbconvert --to html pycaret_customstopwrd_clust4.ipynb\u001b[0m\n\u001b[1;37m                    ^\u001b[0m\n\u001b[1;31mSyntaxError\u001b[0m\u001b[1;31m:\u001b[0m invalid syntax\n"
     ]
    }
   ],
   "source": [
    "jupyter nbconvert --to html pycaret_customstopwrd_clust4.ipynb"
   ]
  },
  {
   "cell_type": "code",
   "execution_count": null,
   "metadata": {},
   "outputs": [],
   "source": []
  }
 ],
 "metadata": {
  "kernelspec": {
   "display_name": "Python 3",
   "language": "python",
   "name": "python3"
  },
  "language_info": {
   "codemirror_mode": {
    "name": "ipython",
    "version": 3
   },
   "file_extension": ".py",
   "mimetype": "text/x-python",
   "name": "python",
   "nbconvert_exporter": "python",
   "pygments_lexer": "ipython3",
   "version": "3.7.4"
  },
  "widgets": {
   "application/vnd.jupyter.widget-state+json": {
    "state": {
     "0117c18961784440b5d8753007486595": {
      "model_module": "@jupyter-widgets/base",
      "model_module_version": "1.2.0",
      "model_name": "LayoutModel",
      "state": {}
     },
     "011d55cba1d2424b9b3535f3f6304d6a": {
      "model_module": "@jupyter-widgets/controls",
      "model_module_version": "1.5.0",
      "model_name": "DescriptionStyleModel",
      "state": {
       "description_width": ""
      }
     },
     "0373170d28414abead8ee7b1e80ca1e1": {
      "model_module": "@jupyter-widgets/base",
      "model_module_version": "1.2.0",
      "model_name": "LayoutModel",
      "state": {}
     },
     "0764c20174304f3e9df4de4a9740120c": {
      "model_module": "@jupyter-widgets/base",
      "model_module_version": "1.2.0",
      "model_name": "LayoutModel",
      "state": {}
     },
     "07cadb2a40d44b9c82d27537c72ea0b7": {
      "model_module": "@jupyter-widgets/controls",
      "model_module_version": "1.5.0",
      "model_name": "IntProgressModel",
      "state": {
       "description": "Processing: ",
       "layout": "IPY_MODEL_374d9a1bae56432c95465d275e0f0edf",
       "max": 870,
       "style": "IPY_MODEL_97e9ddff3e324cafbe45798124f3620f",
       "value": 870
      }
     },
     "08aa6aa0ef6447a0bdc4244114ce3161": {
      "model_module": "@jupyter-widgets/controls",
      "model_module_version": "1.5.0",
      "model_name": "ToggleButtonsModel",
      "state": {
       "_options_labels": [
        "Frequency Plot",
        "Bigrams",
        "Trigrams",
        "Sentiment Polarity",
        "Word Cloud"
       ],
       "button_style": "",
       "description": "Plot Type:",
       "icons": [
        ""
       ],
       "index": 0,
       "layout": "IPY_MODEL_ec2ee32df4b34e6d91cb958ada69ae44",
       "style": "IPY_MODEL_a742a2a945db42c3a75be1bb9b816ab1",
       "tooltips": []
      }
     },
     "08e8d8e39f4440d49e27f90ccb39ca91": {
      "model_module": "@jupyter-widgets/base",
      "model_module_version": "1.2.0",
      "model_name": "LayoutModel",
      "state": {}
     },
     "09733c562d1348feab4b8e9135b545b8": {
      "model_module": "@jupyter-widgets/controls",
      "model_module_version": "1.5.0",
      "model_name": "ProgressStyleModel",
      "state": {
       "description_width": ""
      }
     },
     "09875ed6ea6648dfaf28dd3ba9e100dd": {
      "model_module": "@jupyter-widgets/base",
      "model_module_version": "1.2.0",
      "model_name": "LayoutModel",
      "state": {}
     },
     "09da599d43ae45bc8c6dee91524cd7b5": {
      "model_module": "@jupyter-widgets/controls",
      "model_module_version": "1.5.0",
      "model_name": "IntProgressModel",
      "state": {
       "description": "Processing: ",
       "layout": "IPY_MODEL_c19dd1e299d540e6b565a1ce24abb292",
       "max": 4,
       "style": "IPY_MODEL_a34fb008861f46e496add1a395f98c5c",
       "value": 4
      }
     },
     "0b344abf71a24150aa935a7f913cbea4": {
      "model_module": "@jupyter-widgets/base",
      "model_module_version": "1.2.0",
      "model_name": "LayoutModel",
      "state": {}
     },
     "0c66ab04e33b42c9bde43f9096e72993": {
      "model_module": "@jupyter-widgets/base",
      "model_module_version": "1.2.0",
      "model_name": "LayoutModel",
      "state": {}
     },
     "0ca41fee96084ec6b860c2c557524953": {
      "model_module": "@jupyter-widgets/controls",
      "model_module_version": "1.5.0",
      "model_name": "ButtonModel",
      "state": {
       "description": "Run Interact",
       "layout": "IPY_MODEL_e3cae36ab6d443e6bf117d901b58f5d5",
       "style": "IPY_MODEL_f9a5a98739fa4ba6a81df3a08ed82c5a"
      }
     },
     "0cc5da2e312e40de8682a7fc343208dd": {
      "model_module": "@jupyter-widgets/controls",
      "model_module_version": "1.5.0",
      "model_name": "ProgressStyleModel",
      "state": {
       "description_width": ""
      }
     },
     "0db6eb636e3846ae9c7311a0242e7c96": {
      "model_module": "@jupyter-widgets/base",
      "model_module_version": "1.2.0",
      "model_name": "LayoutModel",
      "state": {}
     },
     "0e8fea0b79e245859bbb5e40c0241525": {
      "model_module": "@jupyter-widgets/controls",
      "model_module_version": "1.5.0",
      "model_name": "ProgressStyleModel",
      "state": {
       "description_width": ""
      }
     },
     "0f6c8ac6d1f846068fb9281665654538": {
      "model_module": "@jupyter-widgets/controls",
      "model_module_version": "1.5.0",
      "model_name": "ProgressStyleModel",
      "state": {
       "description_width": ""
      }
     },
     "1198a964cca548019a74dd779a581444": {
      "model_module": "@jupyter-widgets/controls",
      "model_module_version": "1.5.0",
      "model_name": "IntProgressModel",
      "state": {
       "description": "Processing: ",
       "layout": "IPY_MODEL_23c2129d6e4b4e60aea46e684ef74565",
       "max": 48,
       "style": "IPY_MODEL_36da061b06cd4ee99e00182a6e9ce4bc",
       "value": 48
      }
     },
     "125c99e83f704685bfb89f907ade2fa7": {
      "model_module": "@jupyter-widgets/base",
      "model_module_version": "1.2.0",
      "model_name": "LayoutModel",
      "state": {}
     },
     "14e074f71fd342fca47034ca4a825b51": {
      "model_module": "@jupyter-widgets/base",
      "model_module_version": "1.2.0",
      "model_name": "LayoutModel",
      "state": {}
     },
     "14e6ec2ea7e14054810148b216201d6b": {
      "model_module": "@jupyter-widgets/controls",
      "model_module_version": "1.5.0",
      "model_name": "IntProgressModel",
      "state": {
       "description": "Processing: ",
       "layout": "IPY_MODEL_d1261151d6a241c2be4de1ba33f52b2a",
       "max": 870,
       "style": "IPY_MODEL_c7d2734dbf3f49eeaf3de24042d97c77",
       "value": 870
      }
     },
     "161d3ee7408a4de3b183655f24ccb534": {
      "model_module": "@jupyter-widgets/controls",
      "model_module_version": "1.5.0",
      "model_name": "ProgressStyleModel",
      "state": {
       "description_width": ""
      }
     },
     "16e9e2a08a3f427ca590447071eb82e0": {
      "model_module": "@jupyter-widgets/base",
      "model_module_version": "1.2.0",
      "model_name": "LayoutModel",
      "state": {}
     },
     "1710c717bd8445f3a5810ec5bd6f44cb": {
      "model_module": "@jupyter-widgets/controls",
      "model_module_version": "1.5.0",
      "model_name": "ProgressStyleModel",
      "state": {
       "description_width": ""
      }
     },
     "17918aac13614c9294221adfef9f1907": {
      "model_module": "@jupyter-widgets/controls",
      "model_module_version": "1.5.0",
      "model_name": "IntProgressModel",
      "state": {
       "description": "Processing: ",
       "layout": "IPY_MODEL_ec27026dd7434ab3a8fd3300a6f6c0df",
       "max": 870,
       "style": "IPY_MODEL_367873095006426c9e320950f7b4ae8d",
       "value": 870
      }
     },
     "192d8afedf20450eb270e406abe64e0e": {
      "model_module": "@jupyter-widgets/controls",
      "model_module_version": "1.5.0",
      "model_name": "IntProgressModel",
      "state": {
       "description": "Processing: ",
       "layout": "IPY_MODEL_2ade8d5999e24b38aa950416d69b90b6",
       "max": 48,
       "style": "IPY_MODEL_cdf17ecba82143e5a3e9de5fecc3a1ff",
       "value": 48
      }
     },
     "1a19b13730c34adb8ac3f3e6fcc55655": {
      "model_module": "@jupyter-widgets/controls",
      "model_module_version": "1.5.0",
      "model_name": "ProgressStyleModel",
      "state": {
       "description_width": ""
      }
     },
     "1a44e97fbbe94591bf4aad7f63cc012a": {
      "model_module": "@jupyter-widgets/base",
      "model_module_version": "1.2.0",
      "model_name": "LayoutModel",
      "state": {}
     },
     "1b08de3ef7aa4b4384a1e311af2322ba": {
      "model_module": "@jupyter-widgets/controls",
      "model_module_version": "1.5.0",
      "model_name": "ProgressStyleModel",
      "state": {
       "description_width": ""
      }
     },
     "1c9056f33a1a44b480d6146ec57c5394": {
      "model_module": "@jupyter-widgets/base",
      "model_module_version": "1.2.0",
      "model_name": "LayoutModel",
      "state": {}
     },
     "1cd42b32b75a46dcaeea4756c5638425": {
      "model_module": "@jupyter-widgets/controls",
      "model_module_version": "1.5.0",
      "model_name": "ProgressStyleModel",
      "state": {
       "description_width": ""
      }
     },
     "1da79ec76dd64bfc8614901e6b5f0330": {
      "model_module": "@jupyter-widgets/controls",
      "model_module_version": "1.5.0",
      "model_name": "IntProgressModel",
      "state": {
       "description": "Processing: ",
       "layout": "IPY_MODEL_f99bff09f5564cecb7aac86ee3ba30f0",
       "max": 48,
       "style": "IPY_MODEL_bf25e802d4f34cbd8a1157570c911d56",
       "value": 48
      }
     },
     "1f0483d3c33345778b9899b758906692": {
      "model_module": "@jupyter-widgets/controls",
      "model_module_version": "1.5.0",
      "model_name": "IntProgressModel",
      "state": {
       "description": "Processing: ",
       "layout": "IPY_MODEL_7b0513ed1df24cb6ac19ec71eebd739b",
       "max": 4,
       "style": "IPY_MODEL_6eca3fee38aa49eaa15618e2c784e7ef",
       "value": 4
      }
     },
     "20e5fd6a0069454fafd326e0b2c6874e": {
      "model_module": "@jupyter-widgets/controls",
      "model_module_version": "1.5.0",
      "model_name": "IntProgressModel",
      "state": {
       "description": "Processing: ",
       "layout": "IPY_MODEL_9f25d12341b64552868de4dabd7bb506",
       "max": 4,
       "style": "IPY_MODEL_caa659819c434f14a218de71ea5e9920",
       "value": 4
      }
     },
     "214f5c9d01af4e3280d72e111805b628": {
      "model_module": "@jupyter-widgets/controls",
      "model_module_version": "1.5.0",
      "model_name": "IntProgressModel",
      "state": {
       "description": "Processing: ",
       "layout": "IPY_MODEL_e08b19f5eb244d1db0b11de26a4f32c2",
       "max": 870,
       "style": "IPY_MODEL_e6faccfc6fd544afa2637f5003bf7d9a",
       "value": 870
      }
     },
     "21f73cd0eb41414ba504f5427afc948b": {
      "model_module": "@jupyter-widgets/base",
      "model_module_version": "1.2.0",
      "model_name": "LayoutModel",
      "state": {}
     },
     "22df95c90c8f4280af2639447b493322": {
      "model_module": "@jupyter-widgets/controls",
      "model_module_version": "1.5.0",
      "model_name": "IntProgressModel",
      "state": {
       "description": "Processing: ",
       "layout": "IPY_MODEL_08e8d8e39f4440d49e27f90ccb39ca91",
       "max": 48,
       "style": "IPY_MODEL_0e8fea0b79e245859bbb5e40c0241525",
       "value": 48
      }
     },
     "2307265549e1422c90e209ab9fac75d9": {
      "model_module": "@jupyter-widgets/base",
      "model_module_version": "1.2.0",
      "model_name": "LayoutModel",
      "state": {}
     },
     "23c2129d6e4b4e60aea46e684ef74565": {
      "model_module": "@jupyter-widgets/base",
      "model_module_version": "1.2.0",
      "model_name": "LayoutModel",
      "state": {}
     },
     "23ed8d269a2b44afaef219e7a53bc0a6": {
      "model_module": "@jupyter-widgets/controls",
      "model_module_version": "1.5.0",
      "model_name": "DropdownModel",
      "state": {
       "_options_labels": [
        "Topic 0",
        "Topic 1",
        "Topic 2",
        "Topic 3"
       ],
       "description": "Topic #:",
       "index": 3,
       "layout": "IPY_MODEL_33eb2b1b8bb14719ba8a21393bcd7130",
       "style": "IPY_MODEL_fa30d12576524391bd1a84daf0e5e3e2"
      }
     },
     "25083cc1971945d7bc6bc8bef8f5913a": {
      "model_module": "@jupyter-widgets/controls",
      "model_module_version": "1.5.0",
      "model_name": "IntProgressModel",
      "state": {
       "description": "Processing: ",
       "layout": "IPY_MODEL_c45c5a4d34b4456884f58bb925af73f9",
       "max": 870,
       "style": "IPY_MODEL_ae2910a0461b4c3981e9225276dea5c2",
       "value": 870
      }
     },
     "26f02ce620224ea8a80f62d026ec1419": {
      "model_module": "@jupyter-widgets/controls",
      "model_module_version": "1.5.0",
      "model_name": "ProgressStyleModel",
      "state": {
       "description_width": ""
      }
     },
     "283c6fb0bef0443d8e6420eca0655ce4": {
      "model_module": "@jupyter-widgets/controls",
      "model_module_version": "1.5.0",
      "model_name": "IntProgressModel",
      "state": {
       "description": "Processing: ",
       "layout": "IPY_MODEL_934bc2eb15ec404c9b98c481e126b7ac",
       "max": 4,
       "style": "IPY_MODEL_9c60033ee0d74e949a5e8bbb2ad1aca6",
       "value": 4
      }
     },
     "283fc5c6b2514ea2b9ac077137ff3078": {
      "model_module": "@jupyter-widgets/controls",
      "model_module_version": "1.5.0",
      "model_name": "IntProgressModel",
      "state": {
       "description": "Processing: ",
       "layout": "IPY_MODEL_f471eca31f6e48c1bd81b6d2d26b8b72",
       "max": 4,
       "style": "IPY_MODEL_4447fae23ca74ff987b96e31f0ca8c64",
       "value": 4
      }
     },
     "2ade8d5999e24b38aa950416d69b90b6": {
      "model_module": "@jupyter-widgets/base",
      "model_module_version": "1.2.0",
      "model_name": "LayoutModel",
      "state": {}
     },
     "2b987b17499247a58f0f89886a90de49": {
      "model_module": "@jupyter-widgets/controls",
      "model_module_version": "1.5.0",
      "model_name": "IntProgressModel",
      "state": {
       "description": "Processing: ",
       "layout": "IPY_MODEL_a83a1065e8ea46f79cd22b93a05f9934",
       "max": 4,
       "style": "IPY_MODEL_09733c562d1348feab4b8e9135b545b8",
       "value": 4
      }
     },
     "2bb1a14617cf4d9dafd97b6ea9f6b467": {
      "model_module": "@jupyter-widgets/controls",
      "model_module_version": "1.5.0",
      "model_name": "IntProgressModel",
      "state": {
       "description": "Processing: ",
       "layout": "IPY_MODEL_21f73cd0eb41414ba504f5427afc948b",
       "max": 870,
       "style": "IPY_MODEL_1a19b13730c34adb8ac3f3e6fcc55655",
       "value": 870
      }
     },
     "2bd9437396b44d9b9119d03a87f910cd": {
      "model_module": "@jupyter-widgets/controls",
      "model_module_version": "1.5.0",
      "model_name": "IntProgressModel",
      "state": {
       "description": "Processing: ",
       "layout": "IPY_MODEL_0c66ab04e33b42c9bde43f9096e72993",
       "max": 4,
       "style": "IPY_MODEL_ebc411cffcd441f08ebce6e23bb4561b",
       "value": 4
      }
     },
     "31b3baafeb774a7cbac7db870aa9dd74": {
      "model_module": "@jupyter-widgets/base",
      "model_module_version": "1.2.0",
      "model_name": "LayoutModel",
      "state": {}
     },
     "31cc43fcacf44bd492789694ad981918": {
      "model_module": "@jupyter-widgets/controls",
      "model_module_version": "1.5.0",
      "model_name": "ButtonModel",
      "state": {
       "description": "Run Interact",
       "layout": "IPY_MODEL_df6710eb9bd64e1399f6eb85417e19bc",
       "style": "IPY_MODEL_e804e8b8e49742c7b794eb645e9cfbb7"
      }
     },
     "322c4bab47e543bb86e141cc5dd3babe": {
      "model_module": "@jupyter-widgets/controls",
      "model_module_version": "1.5.0",
      "model_name": "VBoxModel",
      "state": {
       "_dom_classes": [
        "widget-interact"
       ],
       "children": [
        "IPY_MODEL_f0aa0b72c5d34fd6b0fdec52b7bc6792",
        "IPY_MODEL_b60e569c302f4aed9a592d920bb1d704",
        "IPY_MODEL_31cc43fcacf44bd492789694ad981918",
        "IPY_MODEL_937c0719026c43d2b1b5d22fa0f42fb5"
       ],
       "layout": "IPY_MODEL_a90a548c760246d6a187aeac60b8d716"
      }
     },
     "331b048b024f45e780b69e099540ecf6": {
      "model_module": "@jupyter-widgets/base",
      "model_module_version": "1.2.0",
      "model_name": "LayoutModel",
      "state": {}
     },
     "33eb2b1b8bb14719ba8a21393bcd7130": {
      "model_module": "@jupyter-widgets/base",
      "model_module_version": "1.2.0",
      "model_name": "LayoutModel",
      "state": {}
     },
     "343289ca052f45dd9faadaefc9372136": {
      "model_module": "@jupyter-widgets/controls",
      "model_module_version": "1.5.0",
      "model_name": "ProgressStyleModel",
      "state": {
       "description_width": ""
      }
     },
     "34c55935c58b4f5d9becee874b767226": {
      "model_module": "@jupyter-widgets/base",
      "model_module_version": "1.2.0",
      "model_name": "LayoutModel",
      "state": {}
     },
     "35edcc52f9ab42fe9998f1f225424eaf": {
      "model_module": "@jupyter-widgets/base",
      "model_module_version": "1.2.0",
      "model_name": "LayoutModel",
      "state": {}
     },
     "367873095006426c9e320950f7b4ae8d": {
      "model_module": "@jupyter-widgets/controls",
      "model_module_version": "1.5.0",
      "model_name": "ProgressStyleModel",
      "state": {
       "description_width": ""
      }
     },
     "36da061b06cd4ee99e00182a6e9ce4bc": {
      "model_module": "@jupyter-widgets/controls",
      "model_module_version": "1.5.0",
      "model_name": "ProgressStyleModel",
      "state": {
       "description_width": ""
      }
     },
     "374d9a1bae56432c95465d275e0f0edf": {
      "model_module": "@jupyter-widgets/base",
      "model_module_version": "1.2.0",
      "model_name": "LayoutModel",
      "state": {}
     },
     "379ae64d79ba4e5eb105aff54a88ccd5": {
      "model_module": "@jupyter-widgets/base",
      "model_module_version": "1.2.0",
      "model_name": "LayoutModel",
      "state": {}
     },
     "3a8cd6d206e444258351efc0bcae2d1d": {
      "model_module": "@jupyter-widgets/base",
      "model_module_version": "1.2.0",
      "model_name": "LayoutModel",
      "state": {}
     },
     "3acab8a540094d4098b78789d04c32ee": {
      "model_module": "@jupyter-widgets/controls",
      "model_module_version": "1.5.0",
      "model_name": "ProgressStyleModel",
      "state": {
       "description_width": ""
      }
     },
     "3b43b69302be48c1b7fe3f6c01b6050e": {
      "model_module": "@jupyter-widgets/base",
      "model_module_version": "1.2.0",
      "model_name": "LayoutModel",
      "state": {}
     },
     "3bf7f25f47ad4584bbb8ee0ebc13b456": {
      "model_module": "@jupyter-widgets/controls",
      "model_module_version": "1.5.0",
      "model_name": "IntProgressModel",
      "state": {
       "description": "Processing: ",
       "layout": "IPY_MODEL_4e2151d4cb4c4f0ca0db2d5778d48953",
       "max": 48,
       "style": "IPY_MODEL_c36c5f6e93d24320b9c334cd7da8e437",
       "value": 48
      }
     },
     "3f46aa5b765141ed92a825ac31204f31": {
      "model_module": "@jupyter-widgets/controls",
      "model_module_version": "1.5.0",
      "model_name": "ButtonStyleModel",
      "state": {}
     },
     "423bc887d5c74b828758d8bde8648171": {
      "model_module": "@jupyter-widgets/base",
      "model_module_version": "1.2.0",
      "model_name": "LayoutModel",
      "state": {}
     },
     "4447fae23ca74ff987b96e31f0ca8c64": {
      "model_module": "@jupyter-widgets/controls",
      "model_module_version": "1.5.0",
      "model_name": "ProgressStyleModel",
      "state": {
       "description_width": ""
      }
     },
     "45a586cfd60944c28a4a5cb8dfe23639": {
      "model_module": "@jupyter-widgets/controls",
      "model_module_version": "1.5.0",
      "model_name": "ProgressStyleModel",
      "state": {
       "description_width": ""
      }
     },
     "45f53047ff5540dfa38eba501bd244ed": {
      "model_module": "@jupyter-widgets/controls",
      "model_module_version": "1.5.0",
      "model_name": "IntProgressModel",
      "state": {
       "description": "Processing: ",
       "layout": "IPY_MODEL_0117c18961784440b5d8753007486595",
       "max": 4,
       "style": "IPY_MODEL_1b08de3ef7aa4b4384a1e311af2322ba",
       "value": 4
      }
     },
     "460c90df8cb44ac69590932b8b6e5074": {
      "model_module": "@jupyter-widgets/base",
      "model_module_version": "1.2.0",
      "model_name": "LayoutModel",
      "state": {}
     },
     "479439093be741ac88e852948d5c5ab8": {
      "model_module": "@jupyter-widgets/base",
      "model_module_version": "1.2.0",
      "model_name": "LayoutModel",
      "state": {}
     },
     "4b6faed7bfb248248bf88f723cafb57e": {
      "model_module": "@jupyter-widgets/base",
      "model_module_version": "1.2.0",
      "model_name": "LayoutModel",
      "state": {}
     },
     "4e1fdee38f5c468196e169e6a5f7c101": {
      "model_module": "@jupyter-widgets/controls",
      "model_module_version": "1.5.0",
      "model_name": "ProgressStyleModel",
      "state": {
       "description_width": ""
      }
     },
     "4e2151d4cb4c4f0ca0db2d5778d48953": {
      "model_module": "@jupyter-widgets/base",
      "model_module_version": "1.2.0",
      "model_name": "LayoutModel",
      "state": {}
     },
     "4e3242bd35ff4ec681ee4cacddc4c182": {
      "model_module": "@jupyter-widgets/base",
      "model_module_version": "1.2.0",
      "model_name": "LayoutModel",
      "state": {}
     },
     "5035a2b460474f83903c74c7dad63a39": {
      "model_module": "@jupyter-widgets/controls",
      "model_module_version": "1.5.0",
      "model_name": "IntProgressModel",
      "state": {
       "description": "Processing: ",
       "layout": "IPY_MODEL_f90aba366131435b94408fae809d8109",
       "max": 4,
       "style": "IPY_MODEL_6b283543764646a9ae26e0b933fba321",
       "value": 4
      }
     },
     "529b5b871ba3463887efe28bc5b168c3": {
      "model_module": "@jupyter-widgets/controls",
      "model_module_version": "1.5.0",
      "model_name": "IntProgressModel",
      "state": {
       "description": "Processing: ",
       "layout": "IPY_MODEL_bc73140e8d064bf7b2f2e0ab84454788",
       "max": 4,
       "style": "IPY_MODEL_8588d3da2aaf42249875a17f77c6efc7",
       "value": 4
      }
     },
     "53158dec7f594db998d1d3c997266e28": {
      "model_module": "@jupyter-widgets/base",
      "model_module_version": "1.2.0",
      "model_name": "LayoutModel",
      "state": {}
     },
     "535c7dfe55704c279516fe05a4193ccd": {
      "model_module": "@jupyter-widgets/controls",
      "model_module_version": "1.5.0",
      "model_name": "IntProgressModel",
      "state": {
       "description": "Processing: ",
       "layout": "IPY_MODEL_16e9e2a08a3f427ca590447071eb82e0",
       "max": 870,
       "style": "IPY_MODEL_ba2240e1c94a478cb4a761e40d0958b0",
       "value": 870
      }
     },
     "57cac375ec6d4fd3b96900dc60fef2aa": {
      "model_module": "@jupyter-widgets/base",
      "model_module_version": "1.2.0",
      "model_name": "LayoutModel",
      "state": {}
     },
     "58831f023c5b497e919aff6f4eb8a4a5": {
      "model_module": "@jupyter-widgets/base",
      "model_module_version": "1.2.0",
      "model_name": "LayoutModel",
      "state": {}
     },
     "5971dcb9f6424a1cbf1c2014a1386b81": {
      "model_module": "@jupyter-widgets/controls",
      "model_module_version": "1.5.0",
      "model_name": "ButtonModel",
      "state": {
       "description": "Run Interact",
       "layout": "IPY_MODEL_70a28876caf14ca4a0c5f7a06e67284a",
       "style": "IPY_MODEL_ed6c19d2b9dd4d0cb71431f7aa30934c"
      }
     },
     "5a09472c1ef3476b924f3803890a10e1": {
      "model_module": "@jupyter-widgets/controls",
      "model_module_version": "1.5.0",
      "model_name": "IntProgressModel",
      "state": {
       "description": "Processing: ",
       "layout": "IPY_MODEL_b97fc926337941f882e40c70b1f6d86a",
       "max": 870,
       "style": "IPY_MODEL_9e6d802bfa104586a25109d50ceff98d",
       "value": 870
      }
     },
     "5b6b8326f0a5417d876abb0002f1a002": {
      "model_module": "@jupyter-widgets/controls",
      "model_module_version": "1.5.0",
      "model_name": "ToggleButtonsStyleModel",
      "state": {
       "button_width": "",
       "description_width": ""
      }
     },
     "5bcb2f51df654e0f8523e33e88d2609f": {
      "model_module": "@jupyter-widgets/controls",
      "model_module_version": "1.5.0",
      "model_name": "ProgressStyleModel",
      "state": {
       "description_width": ""
      }
     },
     "5be6d5098d9f467098ed1693d37e32b2": {
      "model_module": "@jupyter-widgets/output",
      "model_module_version": "1.0.0",
      "model_name": "OutputModel",
      "state": {
       "layout": "IPY_MODEL_5e22a500410947d3a5b677dcf2f13a84",
       "outputs": [
        {
         "data": {
          "text/html": "        <script type=\"text/javascript\">\n        window.PlotlyConfig = {MathJaxConfig: 'local'};\n        if (window.MathJax) {MathJax.Hub.Config({SVG: {font: \"STIX-Web\"}});}\n        if (typeof require !== 'undefined') {\n        require.undef(\"plotly\");\n        requirejs.config({\n            paths: {\n                'plotly': ['https://cdn.plot.ly/plotly-latest.min']\n            }\n        });\n        require(['plotly'], function(Plotly) {\n            window._Plotly = Plotly;\n        });\n        }\n        </script>\n        "
         },
         "metadata": {},
         "output_type": "display_data"
        },
        {
         "data": {
          "application/vnd.plotly.v1+json": {
           "config": {
            "linkText": "Export to plot.ly",
            "plotlyServerURL": "https://plot.ly",
            "showLink": true
           },
           "data": [
            {
             "marker": {
              "color": "rgba(255, 153, 51, 0.6)",
              "line": {
               "color": "rgba(255, 153, 51, 1.0)",
               "width": 1
              }
             },
             "name": "count",
             "orientation": "v",
             "text": "",
             "type": "bar",
             "x": [
              "outdoor pool",
              "pool bar",
              "stay night",
              "great variety",
              "go back",
              "first time",
              "lunch dinner",
              "night stay",
              "business trip",
              "staff friendly",
              "excellent service",
              "make sure",
              "next time",
              "pool area",
              "worth visit",
              "stay business",
              "business lunch",
              "late night",
              "morning breakfast",
              "staff excellent",
              "extra charge",
              "little old",
              "little bit",
              "well decorate",
              "flight cancel",
              "swim pool",
              "indoor pool",
              "friendly helpful",
              "include price",
              "friendly staff",
              "high quality",
              "bit pricey",
              "next day",
              "many time",
              "great time",
              "different salad",
              "spa area",
              "really like",
              "place stay",
              "soft drink",
              "day breakfast",
              "old fashion",
              "several different",
              "stay well",
              "buffet option",
              "complimentary drink",
              "cost euros",
              "book night",
              "change glass",
              "couple day",
              "go wife",
              "great atmosphere",
              "fresh fruit",
              "fan buffet",
              "buffet choose",
              "dessert include",
              "buffet rich",
              "buffet excellent",
              "buffet great",
              "entree dish",
              "buffet make",
              "enjoy great",
              "easy find",
              "drink also",
              "great place",
              "let know",
              "great value",
              "stay service",
              "really worth",
              "reasonable price",
              "right get",
              "salad meat",
              "service excellent",
              "staff keep",
              "summer time",
              "helpful polite",
              "think dessert",
              "try different",
              "variety choice",
              "variety salad",
              "want change",
              "want pay",
              "quality taste",
              "price friendly",
              "place go",
              "minute_walk away",
              "meat fish",
              "many option",
              "lunch salad",
              "lunch buffet",
              "local speciality",
              "like change",
              "late lunch",
              "large varaiety",
              "large clean",
              "indoor outdoor",
              "huge variety",
              "hot dish",
              "highly recomende",
              "always great"
             ],
             "y": [
              6,
              6,
              6,
              5,
              5,
              5,
              5,
              5,
              5,
              4,
              4,
              4,
              4,
              4,
              4,
              4,
              3,
              3,
              3,
              3,
              3,
              3,
              3,
              3,
              3,
              3,
              3,
              3,
              3,
              3,
              3,
              3,
              3,
              3,
              3,
              3,
              3,
              3,
              3,
              3,
              3,
              3,
              3,
              3,
              2,
              2,
              2,
              2,
              2,
              2,
              2,
              2,
              2,
              2,
              2,
              2,
              2,
              2,
              2,
              2,
              2,
              2,
              2,
              2,
              2,
              2,
              2,
              2,
              2,
              2,
              2,
              2,
              2,
              2,
              2,
              2,
              2,
              2,
              2,
              2,
              2,
              2,
              2,
              2,
              2,
              2,
              2,
              2,
              2,
              2,
              2,
              2,
              2,
              2,
              2,
              2,
              2,
              2,
              2,
              2
             ]
            }
           ],
           "layout": {
            "legend": {
             "bgcolor": "#F5F6F9",
             "font": {
              "color": "#4D5663"
             }
            },
            "paper_bgcolor": "#F5F6F9",
            "plot_bgcolor": "#F5F6F9",
            "template": {
             "data": {
              "bar": [
               {
                "error_x": {
                 "color": "#2a3f5f"
                },
                "error_y": {
                 "color": "#2a3f5f"
                },
                "marker": {
                 "line": {
                  "color": "#E5ECF6",
                  "width": 0.5
                 }
                },
                "type": "bar"
               }
              ],
              "barpolar": [
               {
                "marker": {
                 "line": {
                  "color": "#E5ECF6",
                  "width": 0.5
                 }
                },
                "type": "barpolar"
               }
              ],
              "carpet": [
               {
                "aaxis": {
                 "endlinecolor": "#2a3f5f",
                 "gridcolor": "white",
                 "linecolor": "white",
                 "minorgridcolor": "white",
                 "startlinecolor": "#2a3f5f"
                },
                "baxis": {
                 "endlinecolor": "#2a3f5f",
                 "gridcolor": "white",
                 "linecolor": "white",
                 "minorgridcolor": "white",
                 "startlinecolor": "#2a3f5f"
                },
                "type": "carpet"
               }
              ],
              "choropleth": [
               {
                "colorbar": {
                 "outlinewidth": 0,
                 "ticks": ""
                },
                "type": "choropleth"
               }
              ],
              "contour": [
               {
                "colorbar": {
                 "outlinewidth": 0,
                 "ticks": ""
                },
                "colorscale": [
                 [
                  0,
                  "#0d0887"
                 ],
                 [
                  0.1111111111111111,
                  "#46039f"
                 ],
                 [
                  0.2222222222222222,
                  "#7201a8"
                 ],
                 [
                  0.3333333333333333,
                  "#9c179e"
                 ],
                 [
                  0.4444444444444444,
                  "#bd3786"
                 ],
                 [
                  0.5555555555555556,
                  "#d8576b"
                 ],
                 [
                  0.6666666666666666,
                  "#ed7953"
                 ],
                 [
                  0.7777777777777778,
                  "#fb9f3a"
                 ],
                 [
                  0.8888888888888888,
                  "#fdca26"
                 ],
                 [
                  1,
                  "#f0f921"
                 ]
                ],
                "type": "contour"
               }
              ],
              "contourcarpet": [
               {
                "colorbar": {
                 "outlinewidth": 0,
                 "ticks": ""
                },
                "type": "contourcarpet"
               }
              ],
              "heatmap": [
               {
                "colorbar": {
                 "outlinewidth": 0,
                 "ticks": ""
                },
                "colorscale": [
                 [
                  0,
                  "#0d0887"
                 ],
                 [
                  0.1111111111111111,
                  "#46039f"
                 ],
                 [
                  0.2222222222222222,
                  "#7201a8"
                 ],
                 [
                  0.3333333333333333,
                  "#9c179e"
                 ],
                 [
                  0.4444444444444444,
                  "#bd3786"
                 ],
                 [
                  0.5555555555555556,
                  "#d8576b"
                 ],
                 [
                  0.6666666666666666,
                  "#ed7953"
                 ],
                 [
                  0.7777777777777778,
                  "#fb9f3a"
                 ],
                 [
                  0.8888888888888888,
                  "#fdca26"
                 ],
                 [
                  1,
                  "#f0f921"
                 ]
                ],
                "type": "heatmap"
               }
              ],
              "heatmapgl": [
               {
                "colorbar": {
                 "outlinewidth": 0,
                 "ticks": ""
                },
                "colorscale": [
                 [
                  0,
                  "#0d0887"
                 ],
                 [
                  0.1111111111111111,
                  "#46039f"
                 ],
                 [
                  0.2222222222222222,
                  "#7201a8"
                 ],
                 [
                  0.3333333333333333,
                  "#9c179e"
                 ],
                 [
                  0.4444444444444444,
                  "#bd3786"
                 ],
                 [
                  0.5555555555555556,
                  "#d8576b"
                 ],
                 [
                  0.6666666666666666,
                  "#ed7953"
                 ],
                 [
                  0.7777777777777778,
                  "#fb9f3a"
                 ],
                 [
                  0.8888888888888888,
                  "#fdca26"
                 ],
                 [
                  1,
                  "#f0f921"
                 ]
                ],
                "type": "heatmapgl"
               }
              ],
              "histogram": [
               {
                "marker": {
                 "colorbar": {
                  "outlinewidth": 0,
                  "ticks": ""
                 }
                },
                "type": "histogram"
               }
              ],
              "histogram2d": [
               {
                "colorbar": {
                 "outlinewidth": 0,
                 "ticks": ""
                },
                "colorscale": [
                 [
                  0,
                  "#0d0887"
                 ],
                 [
                  0.1111111111111111,
                  "#46039f"
                 ],
                 [
                  0.2222222222222222,
                  "#7201a8"
                 ],
                 [
                  0.3333333333333333,
                  "#9c179e"
                 ],
                 [
                  0.4444444444444444,
                  "#bd3786"
                 ],
                 [
                  0.5555555555555556,
                  "#d8576b"
                 ],
                 [
                  0.6666666666666666,
                  "#ed7953"
                 ],
                 [
                  0.7777777777777778,
                  "#fb9f3a"
                 ],
                 [
                  0.8888888888888888,
                  "#fdca26"
                 ],
                 [
                  1,
                  "#f0f921"
                 ]
                ],
                "type": "histogram2d"
               }
              ],
              "histogram2dcontour": [
               {
                "colorbar": {
                 "outlinewidth": 0,
                 "ticks": ""
                },
                "colorscale": [
                 [
                  0,
                  "#0d0887"
                 ],
                 [
                  0.1111111111111111,
                  "#46039f"
                 ],
                 [
                  0.2222222222222222,
                  "#7201a8"
                 ],
                 [
                  0.3333333333333333,
                  "#9c179e"
                 ],
                 [
                  0.4444444444444444,
                  "#bd3786"
                 ],
                 [
                  0.5555555555555556,
                  "#d8576b"
                 ],
                 [
                  0.6666666666666666,
                  "#ed7953"
                 ],
                 [
                  0.7777777777777778,
                  "#fb9f3a"
                 ],
                 [
                  0.8888888888888888,
                  "#fdca26"
                 ],
                 [
                  1,
                  "#f0f921"
                 ]
                ],
                "type": "histogram2dcontour"
               }
              ],
              "mesh3d": [
               {
                "colorbar": {
                 "outlinewidth": 0,
                 "ticks": ""
                },
                "type": "mesh3d"
               }
              ],
              "parcoords": [
               {
                "line": {
                 "colorbar": {
                  "outlinewidth": 0,
                  "ticks": ""
                 }
                },
                "type": "parcoords"
               }
              ],
              "pie": [
               {
                "automargin": true,
                "type": "pie"
               }
              ],
              "scatter": [
               {
                "marker": {
                 "colorbar": {
                  "outlinewidth": 0,
                  "ticks": ""
                 }
                },
                "type": "scatter"
               }
              ],
              "scatter3d": [
               {
                "line": {
                 "colorbar": {
                  "outlinewidth": 0,
                  "ticks": ""
                 }
                },
                "marker": {
                 "colorbar": {
                  "outlinewidth": 0,
                  "ticks": ""
                 }
                },
                "type": "scatter3d"
               }
              ],
              "scattercarpet": [
               {
                "marker": {
                 "colorbar": {
                  "outlinewidth": 0,
                  "ticks": ""
                 }
                },
                "type": "scattercarpet"
               }
              ],
              "scattergeo": [
               {
                "marker": {
                 "colorbar": {
                  "outlinewidth": 0,
                  "ticks": ""
                 }
                },
                "type": "scattergeo"
               }
              ],
              "scattergl": [
               {
                "marker": {
                 "colorbar": {
                  "outlinewidth": 0,
                  "ticks": ""
                 }
                },
                "type": "scattergl"
               }
              ],
              "scattermapbox": [
               {
                "marker": {
                 "colorbar": {
                  "outlinewidth": 0,
                  "ticks": ""
                 }
                },
                "type": "scattermapbox"
               }
              ],
              "scatterpolar": [
               {
                "marker": {
                 "colorbar": {
                  "outlinewidth": 0,
                  "ticks": ""
                 }
                },
                "type": "scatterpolar"
               }
              ],
              "scatterpolargl": [
               {
                "marker": {
                 "colorbar": {
                  "outlinewidth": 0,
                  "ticks": ""
                 }
                },
                "type": "scatterpolargl"
               }
              ],
              "scatterternary": [
               {
                "marker": {
                 "colorbar": {
                  "outlinewidth": 0,
                  "ticks": ""
                 }
                },
                "type": "scatterternary"
               }
              ],
              "surface": [
               {
                "colorbar": {
                 "outlinewidth": 0,
                 "ticks": ""
                },
                "colorscale": [
                 [
                  0,
                  "#0d0887"
                 ],
                 [
                  0.1111111111111111,
                  "#46039f"
                 ],
                 [
                  0.2222222222222222,
                  "#7201a8"
                 ],
                 [
                  0.3333333333333333,
                  "#9c179e"
                 ],
                 [
                  0.4444444444444444,
                  "#bd3786"
                 ],
                 [
                  0.5555555555555556,
                  "#d8576b"
                 ],
                 [
                  0.6666666666666666,
                  "#ed7953"
                 ],
                 [
                  0.7777777777777778,
                  "#fb9f3a"
                 ],
                 [
                  0.8888888888888888,
                  "#fdca26"
                 ],
                 [
                  1,
                  "#f0f921"
                 ]
                ],
                "type": "surface"
               }
              ],
              "table": [
               {
                "cells": {
                 "fill": {
                  "color": "#EBF0F8"
                 },
                 "line": {
                  "color": "white"
                 }
                },
                "header": {
                 "fill": {
                  "color": "#C8D4E3"
                 },
                 "line": {
                  "color": "white"
                 }
                },
                "type": "table"
               }
              ]
             },
             "layout": {
              "annotationdefaults": {
               "arrowcolor": "#2a3f5f",
               "arrowhead": 0,
               "arrowwidth": 1
              },
              "coloraxis": {
               "colorbar": {
                "outlinewidth": 0,
                "ticks": ""
               }
              },
              "colorscale": {
               "diverging": [
                [
                 0,
                 "#8e0152"
                ],
                [
                 0.1,
                 "#c51b7d"
                ],
                [
                 0.2,
                 "#de77ae"
                ],
                [
                 0.3,
                 "#f1b6da"
                ],
                [
                 0.4,
                 "#fde0ef"
                ],
                [
                 0.5,
                 "#f7f7f7"
                ],
                [
                 0.6,
                 "#e6f5d0"
                ],
                [
                 0.7,
                 "#b8e186"
                ],
                [
                 0.8,
                 "#7fbc41"
                ],
                [
                 0.9,
                 "#4d9221"
                ],
                [
                 1,
                 "#276419"
                ]
               ],
               "sequential": [
                [
                 0,
                 "#0d0887"
                ],
                [
                 0.1111111111111111,
                 "#46039f"
                ],
                [
                 0.2222222222222222,
                 "#7201a8"
                ],
                [
                 0.3333333333333333,
                 "#9c179e"
                ],
                [
                 0.4444444444444444,
                 "#bd3786"
                ],
                [
                 0.5555555555555556,
                 "#d8576b"
                ],
                [
                 0.6666666666666666,
                 "#ed7953"
                ],
                [
                 0.7777777777777778,
                 "#fb9f3a"
                ],
                [
                 0.8888888888888888,
                 "#fdca26"
                ],
                [
                 1,
                 "#f0f921"
                ]
               ],
               "sequentialminus": [
                [
                 0,
                 "#0d0887"
                ],
                [
                 0.1111111111111111,
                 "#46039f"
                ],
                [
                 0.2222222222222222,
                 "#7201a8"
                ],
                [
                 0.3333333333333333,
                 "#9c179e"
                ],
                [
                 0.4444444444444444,
                 "#bd3786"
                ],
                [
                 0.5555555555555556,
                 "#d8576b"
                ],
                [
                 0.6666666666666666,
                 "#ed7953"
                ],
                [
                 0.7777777777777778,
                 "#fb9f3a"
                ],
                [
                 0.8888888888888888,
                 "#fdca26"
                ],
                [
                 1,
                 "#f0f921"
                ]
               ]
              },
              "colorway": [
               "#636efa",
               "#EF553B",
               "#00cc96",
               "#ab63fa",
               "#FFA15A",
               "#19d3f3",
               "#FF6692",
               "#B6E880",
               "#FF97FF",
               "#FECB52"
              ],
              "font": {
               "color": "#2a3f5f"
              },
              "geo": {
               "bgcolor": "white",
               "lakecolor": "white",
               "landcolor": "#E5ECF6",
               "showlakes": true,
               "showland": true,
               "subunitcolor": "white"
              },
              "hoverlabel": {
               "align": "left"
              },
              "hovermode": "closest",
              "mapbox": {
               "style": "light"
              },
              "paper_bgcolor": "white",
              "plot_bgcolor": "#E5ECF6",
              "polar": {
               "angularaxis": {
                "gridcolor": "white",
                "linecolor": "white",
                "ticks": ""
               },
               "bgcolor": "#E5ECF6",
               "radialaxis": {
                "gridcolor": "white",
                "linecolor": "white",
                "ticks": ""
               }
              },
              "scene": {
               "xaxis": {
                "backgroundcolor": "#E5ECF6",
                "gridcolor": "white",
                "gridwidth": 2,
                "linecolor": "white",
                "showbackground": true,
                "ticks": "",
                "zerolinecolor": "white"
               },
               "yaxis": {
                "backgroundcolor": "#E5ECF6",
                "gridcolor": "white",
                "gridwidth": 2,
                "linecolor": "white",
                "showbackground": true,
                "ticks": "",
                "zerolinecolor": "white"
               },
               "zaxis": {
                "backgroundcolor": "#E5ECF6",
                "gridcolor": "white",
                "gridwidth": 2,
                "linecolor": "white",
                "showbackground": true,
                "ticks": "",
                "zerolinecolor": "white"
               }
              },
              "shapedefaults": {
               "line": {
                "color": "#2a3f5f"
               }
              },
              "ternary": {
               "aaxis": {
                "gridcolor": "white",
                "linecolor": "white",
                "ticks": ""
               },
               "baxis": {
                "gridcolor": "white",
                "linecolor": "white",
                "ticks": ""
               },
               "bgcolor": "#E5ECF6",
               "caxis": {
                "gridcolor": "white",
                "linecolor": "white",
                "ticks": ""
               }
              },
              "title": {
               "x": 0.05
              },
              "xaxis": {
               "automargin": true,
               "gridcolor": "white",
               "linecolor": "white",
               "ticks": "",
               "title": {
                "standoff": 15
               },
               "zerolinecolor": "white",
               "zerolinewidth": 2
              },
              "yaxis": {
               "automargin": true,
               "gridcolor": "white",
               "linecolor": "white",
               "ticks": "",
               "title": {
                "standoff": 15
               },
               "zerolinecolor": "white",
               "zerolinewidth": 2
              }
             }
            },
            "title": {
             "font": {
              "color": "#4D5663"
             },
             "text": "Topic 3: Top 100 bigrams after removing stop words"
            },
            "xaxis": {
             "gridcolor": "#E1E5ED",
             "linecolor": "black",
             "showgrid": true,
             "tickfont": {
              "color": "#4D5663"
             },
             "title": {
              "font": {
               "color": "#4D5663"
              },
              "text": ""
             },
             "zerolinecolor": "#E1E5ED"
            },
            "yaxis": {
             "gridcolor": "#E1E5ED",
             "linecolor": "black",
             "showgrid": true,
             "tickfont": {
              "color": "#4D5663"
             },
             "title": {
              "font": {
               "color": "#4D5663"
              },
              "text": "Count"
             },
             "zerolinecolor": "#E1E5ED"
            }
           }
          },
          "text/html": "<div>\n        \n        \n            <div id=\"35eb5c21-06d4-46a5-a219-ad3a7e64fe2b\" class=\"plotly-graph-div\" style=\"height:525px; width:100%;\"></div>\n            <script type=\"text/javascript\">\n                require([\"plotly\"], function(Plotly) {\n                    window.PLOTLYENV=window.PLOTLYENV || {};\n                    window.PLOTLYENV.BASE_URL='https://plot.ly';\n                    \n                if (document.getElementById(\"35eb5c21-06d4-46a5-a219-ad3a7e64fe2b\")) {\n                    Plotly.newPlot(\n                        '35eb5c21-06d4-46a5-a219-ad3a7e64fe2b',\n                        [{\"marker\": {\"color\": \"rgba(255, 153, 51, 0.6)\", \"line\": {\"color\": \"rgba(255, 153, 51, 1.0)\", \"width\": 1}}, \"name\": \"count\", \"orientation\": \"v\", \"text\": \"\", \"type\": \"bar\", \"x\": [\"outdoor pool\", \"pool bar\", \"stay night\", \"great variety\", \"go back\", \"first time\", \"lunch dinner\", \"night stay\", \"business trip\", \"staff friendly\", \"excellent service\", \"make sure\", \"next time\", \"pool area\", \"worth visit\", \"stay business\", \"business lunch\", \"late night\", \"morning breakfast\", \"staff excellent\", \"extra charge\", \"little old\", \"little bit\", \"well decorate\", \"flight cancel\", \"swim pool\", \"indoor pool\", \"friendly helpful\", \"include price\", \"friendly staff\", \"high quality\", \"bit pricey\", \"next day\", \"many time\", \"great time\", \"different salad\", \"spa area\", \"really like\", \"place stay\", \"soft drink\", \"day breakfast\", \"old fashion\", \"several different\", \"stay well\", \"buffet option\", \"complimentary drink\", \"cost euros\", \"book night\", \"change glass\", \"couple day\", \"go wife\", \"great atmosphere\", \"fresh fruit\", \"fan buffet\", \"buffet choose\", \"dessert include\", \"buffet rich\", \"buffet excellent\", \"buffet great\", \"entree dish\", \"buffet make\", \"enjoy great\", \"easy find\", \"drink also\", \"great place\", \"let know\", \"great value\", \"stay service\", \"really worth\", \"reasonable price\", \"right get\", \"salad meat\", \"service excellent\", \"staff keep\", \"summer time\", \"helpful polite\", \"think dessert\", \"try different\", \"variety choice\", \"variety salad\", \"want change\", \"want pay\", \"quality taste\", \"price friendly\", \"place go\", \"minute_walk away\", \"meat fish\", \"many option\", \"lunch salad\", \"lunch buffet\", \"local speciality\", \"like change\", \"late lunch\", \"large varaiety\", \"large clean\", \"indoor outdoor\", \"huge variety\", \"hot dish\", \"highly recomende\", \"always great\"], \"y\": [6, 6, 6, 5, 5, 5, 5, 5, 5, 4, 4, 4, 4, 4, 4, 4, 3, 3, 3, 3, 3, 3, 3, 3, 3, 3, 3, 3, 3, 3, 3, 3, 3, 3, 3, 3, 3, 3, 3, 3, 3, 3, 3, 3, 2, 2, 2, 2, 2, 2, 2, 2, 2, 2, 2, 2, 2, 2, 2, 2, 2, 2, 2, 2, 2, 2, 2, 2, 2, 2, 2, 2, 2, 2, 2, 2, 2, 2, 2, 2, 2, 2, 2, 2, 2, 2, 2, 2, 2, 2, 2, 2, 2, 2, 2, 2, 2, 2, 2, 2]}],\n                        {\"legend\": {\"bgcolor\": \"#F5F6F9\", \"font\": {\"color\": \"#4D5663\"}}, \"paper_bgcolor\": \"#F5F6F9\", \"plot_bgcolor\": \"#F5F6F9\", \"template\": {\"data\": {\"bar\": [{\"error_x\": {\"color\": \"#2a3f5f\"}, \"error_y\": {\"color\": \"#2a3f5f\"}, \"marker\": {\"line\": {\"color\": \"#E5ECF6\", \"width\": 0.5}}, \"type\": \"bar\"}], \"barpolar\": [{\"marker\": {\"line\": {\"color\": \"#E5ECF6\", \"width\": 0.5}}, \"type\": \"barpolar\"}], \"carpet\": [{\"aaxis\": {\"endlinecolor\": \"#2a3f5f\", \"gridcolor\": \"white\", \"linecolor\": \"white\", \"minorgridcolor\": \"white\", \"startlinecolor\": \"#2a3f5f\"}, \"baxis\": {\"endlinecolor\": \"#2a3f5f\", \"gridcolor\": \"white\", \"linecolor\": \"white\", \"minorgridcolor\": \"white\", \"startlinecolor\": \"#2a3f5f\"}, \"type\": \"carpet\"}], \"choropleth\": [{\"colorbar\": {\"outlinewidth\": 0, \"ticks\": \"\"}, \"type\": \"choropleth\"}], \"contour\": [{\"colorbar\": {\"outlinewidth\": 0, \"ticks\": \"\"}, \"colorscale\": [[0.0, \"#0d0887\"], [0.1111111111111111, \"#46039f\"], [0.2222222222222222, \"#7201a8\"], [0.3333333333333333, \"#9c179e\"], [0.4444444444444444, \"#bd3786\"], [0.5555555555555556, \"#d8576b\"], [0.6666666666666666, \"#ed7953\"], [0.7777777777777778, \"#fb9f3a\"], [0.8888888888888888, \"#fdca26\"], [1.0, \"#f0f921\"]], \"type\": \"contour\"}], \"contourcarpet\": [{\"colorbar\": {\"outlinewidth\": 0, \"ticks\": \"\"}, \"type\": \"contourcarpet\"}], \"heatmap\": [{\"colorbar\": {\"outlinewidth\": 0, \"ticks\": \"\"}, \"colorscale\": [[0.0, \"#0d0887\"], [0.1111111111111111, \"#46039f\"], [0.2222222222222222, \"#7201a8\"], [0.3333333333333333, \"#9c179e\"], [0.4444444444444444, \"#bd3786\"], [0.5555555555555556, \"#d8576b\"], [0.6666666666666666, \"#ed7953\"], [0.7777777777777778, \"#fb9f3a\"], [0.8888888888888888, \"#fdca26\"], [1.0, \"#f0f921\"]], \"type\": \"heatmap\"}], \"heatmapgl\": [{\"colorbar\": {\"outlinewidth\": 0, \"ticks\": \"\"}, \"colorscale\": [[0.0, \"#0d0887\"], [0.1111111111111111, \"#46039f\"], [0.2222222222222222, \"#7201a8\"], [0.3333333333333333, \"#9c179e\"], [0.4444444444444444, \"#bd3786\"], [0.5555555555555556, \"#d8576b\"], [0.6666666666666666, \"#ed7953\"], [0.7777777777777778, \"#fb9f3a\"], [0.8888888888888888, \"#fdca26\"], [1.0, \"#f0f921\"]], \"type\": \"heatmapgl\"}], \"histogram\": [{\"marker\": {\"colorbar\": {\"outlinewidth\": 0, \"ticks\": \"\"}}, \"type\": \"histogram\"}], \"histogram2d\": [{\"colorbar\": {\"outlinewidth\": 0, \"ticks\": \"\"}, \"colorscale\": [[0.0, \"#0d0887\"], [0.1111111111111111, \"#46039f\"], [0.2222222222222222, \"#7201a8\"], [0.3333333333333333, \"#9c179e\"], [0.4444444444444444, \"#bd3786\"], [0.5555555555555556, \"#d8576b\"], [0.6666666666666666, \"#ed7953\"], [0.7777777777777778, \"#fb9f3a\"], [0.8888888888888888, \"#fdca26\"], [1.0, \"#f0f921\"]], \"type\": \"histogram2d\"}], \"histogram2dcontour\": [{\"colorbar\": {\"outlinewidth\": 0, \"ticks\": \"\"}, \"colorscale\": [[0.0, \"#0d0887\"], [0.1111111111111111, \"#46039f\"], [0.2222222222222222, \"#7201a8\"], [0.3333333333333333, \"#9c179e\"], [0.4444444444444444, \"#bd3786\"], [0.5555555555555556, \"#d8576b\"], [0.6666666666666666, \"#ed7953\"], [0.7777777777777778, \"#fb9f3a\"], [0.8888888888888888, \"#fdca26\"], [1.0, \"#f0f921\"]], \"type\": \"histogram2dcontour\"}], \"mesh3d\": [{\"colorbar\": {\"outlinewidth\": 0, \"ticks\": \"\"}, \"type\": \"mesh3d\"}], \"parcoords\": [{\"line\": {\"colorbar\": {\"outlinewidth\": 0, \"ticks\": \"\"}}, \"type\": \"parcoords\"}], \"pie\": [{\"automargin\": true, \"type\": \"pie\"}], \"scatter\": [{\"marker\": {\"colorbar\": {\"outlinewidth\": 0, \"ticks\": \"\"}}, \"type\": \"scatter\"}], \"scatter3d\": [{\"line\": {\"colorbar\": {\"outlinewidth\": 0, \"ticks\": \"\"}}, \"marker\": {\"colorbar\": {\"outlinewidth\": 0, \"ticks\": \"\"}}, \"type\": \"scatter3d\"}], \"scattercarpet\": [{\"marker\": {\"colorbar\": {\"outlinewidth\": 0, \"ticks\": \"\"}}, \"type\": \"scattercarpet\"}], \"scattergeo\": [{\"marker\": {\"colorbar\": {\"outlinewidth\": 0, \"ticks\": \"\"}}, \"type\": \"scattergeo\"}], \"scattergl\": [{\"marker\": {\"colorbar\": {\"outlinewidth\": 0, \"ticks\": \"\"}}, \"type\": \"scattergl\"}], \"scattermapbox\": [{\"marker\": {\"colorbar\": {\"outlinewidth\": 0, \"ticks\": \"\"}}, \"type\": \"scattermapbox\"}], \"scatterpolar\": [{\"marker\": {\"colorbar\": {\"outlinewidth\": 0, \"ticks\": \"\"}}, \"type\": \"scatterpolar\"}], \"scatterpolargl\": [{\"marker\": {\"colorbar\": {\"outlinewidth\": 0, \"ticks\": \"\"}}, \"type\": \"scatterpolargl\"}], \"scatterternary\": [{\"marker\": {\"colorbar\": {\"outlinewidth\": 0, \"ticks\": \"\"}}, \"type\": \"scatterternary\"}], \"surface\": [{\"colorbar\": {\"outlinewidth\": 0, \"ticks\": \"\"}, \"colorscale\": [[0.0, \"#0d0887\"], [0.1111111111111111, \"#46039f\"], [0.2222222222222222, \"#7201a8\"], [0.3333333333333333, \"#9c179e\"], [0.4444444444444444, \"#bd3786\"], [0.5555555555555556, \"#d8576b\"], [0.6666666666666666, \"#ed7953\"], [0.7777777777777778, \"#fb9f3a\"], [0.8888888888888888, \"#fdca26\"], [1.0, \"#f0f921\"]], \"type\": \"surface\"}], \"table\": [{\"cells\": {\"fill\": {\"color\": \"#EBF0F8\"}, \"line\": {\"color\": \"white\"}}, \"header\": {\"fill\": {\"color\": \"#C8D4E3\"}, \"line\": {\"color\": \"white\"}}, \"type\": \"table\"}]}, \"layout\": {\"annotationdefaults\": {\"arrowcolor\": \"#2a3f5f\", \"arrowhead\": 0, \"arrowwidth\": 1}, \"coloraxis\": {\"colorbar\": {\"outlinewidth\": 0, \"ticks\": \"\"}}, \"colorscale\": {\"diverging\": [[0, \"#8e0152\"], [0.1, \"#c51b7d\"], [0.2, \"#de77ae\"], [0.3, \"#f1b6da\"], [0.4, \"#fde0ef\"], [0.5, \"#f7f7f7\"], [0.6, \"#e6f5d0\"], [0.7, \"#b8e186\"], [0.8, \"#7fbc41\"], [0.9, \"#4d9221\"], [1, \"#276419\"]], \"sequential\": [[0.0, \"#0d0887\"], [0.1111111111111111, \"#46039f\"], [0.2222222222222222, \"#7201a8\"], [0.3333333333333333, \"#9c179e\"], [0.4444444444444444, \"#bd3786\"], [0.5555555555555556, \"#d8576b\"], [0.6666666666666666, \"#ed7953\"], [0.7777777777777778, \"#fb9f3a\"], [0.8888888888888888, \"#fdca26\"], [1.0, \"#f0f921\"]], \"sequentialminus\": [[0.0, \"#0d0887\"], [0.1111111111111111, \"#46039f\"], [0.2222222222222222, \"#7201a8\"], [0.3333333333333333, \"#9c179e\"], [0.4444444444444444, \"#bd3786\"], [0.5555555555555556, \"#d8576b\"], [0.6666666666666666, \"#ed7953\"], [0.7777777777777778, \"#fb9f3a\"], [0.8888888888888888, \"#fdca26\"], [1.0, \"#f0f921\"]]}, \"colorway\": [\"#636efa\", \"#EF553B\", \"#00cc96\", \"#ab63fa\", \"#FFA15A\", \"#19d3f3\", \"#FF6692\", \"#B6E880\", \"#FF97FF\", \"#FECB52\"], \"font\": {\"color\": \"#2a3f5f\"}, \"geo\": {\"bgcolor\": \"white\", \"lakecolor\": \"white\", \"landcolor\": \"#E5ECF6\", \"showlakes\": true, \"showland\": true, \"subunitcolor\": \"white\"}, \"hoverlabel\": {\"align\": \"left\"}, \"hovermode\": \"closest\", \"mapbox\": {\"style\": \"light\"}, \"paper_bgcolor\": \"white\", \"plot_bgcolor\": \"#E5ECF6\", \"polar\": {\"angularaxis\": {\"gridcolor\": \"white\", \"linecolor\": \"white\", \"ticks\": \"\"}, \"bgcolor\": \"#E5ECF6\", \"radialaxis\": {\"gridcolor\": \"white\", \"linecolor\": \"white\", \"ticks\": \"\"}}, \"scene\": {\"xaxis\": {\"backgroundcolor\": \"#E5ECF6\", \"gridcolor\": \"white\", \"gridwidth\": 2, \"linecolor\": \"white\", \"showbackground\": true, \"ticks\": \"\", \"zerolinecolor\": \"white\"}, \"yaxis\": {\"backgroundcolor\": \"#E5ECF6\", \"gridcolor\": \"white\", \"gridwidth\": 2, \"linecolor\": \"white\", \"showbackground\": true, \"ticks\": \"\", \"zerolinecolor\": \"white\"}, \"zaxis\": {\"backgroundcolor\": \"#E5ECF6\", \"gridcolor\": \"white\", \"gridwidth\": 2, \"linecolor\": \"white\", \"showbackground\": true, \"ticks\": \"\", \"zerolinecolor\": \"white\"}}, \"shapedefaults\": {\"line\": {\"color\": \"#2a3f5f\"}}, \"ternary\": {\"aaxis\": {\"gridcolor\": \"white\", \"linecolor\": \"white\", \"ticks\": \"\"}, \"baxis\": {\"gridcolor\": \"white\", \"linecolor\": \"white\", \"ticks\": \"\"}, \"bgcolor\": \"#E5ECF6\", \"caxis\": {\"gridcolor\": \"white\", \"linecolor\": \"white\", \"ticks\": \"\"}}, \"title\": {\"x\": 0.05}, \"xaxis\": {\"automargin\": true, \"gridcolor\": \"white\", \"linecolor\": \"white\", \"ticks\": \"\", \"title\": {\"standoff\": 15}, \"zerolinecolor\": \"white\", \"zerolinewidth\": 2}, \"yaxis\": {\"automargin\": true, \"gridcolor\": \"white\", \"linecolor\": \"white\", \"ticks\": \"\", \"title\": {\"standoff\": 15}, \"zerolinecolor\": \"white\", \"zerolinewidth\": 2}}}, \"title\": {\"font\": {\"color\": \"#4D5663\"}, \"text\": \"Topic 3: Top 100 bigrams after removing stop words\"}, \"xaxis\": {\"gridcolor\": \"#E1E5ED\", \"linecolor\": \"black\", \"showgrid\": true, \"tickfont\": {\"color\": \"#4D5663\"}, \"title\": {\"font\": {\"color\": \"#4D5663\"}, \"text\": \"\"}, \"zerolinecolor\": \"#E1E5ED\"}, \"yaxis\": {\"gridcolor\": \"#E1E5ED\", \"linecolor\": \"black\", \"showgrid\": true, \"tickfont\": {\"color\": \"#4D5663\"}, \"title\": {\"font\": {\"color\": \"#4D5663\"}, \"text\": \"Count\"}, \"zerolinecolor\": \"#E1E5ED\"}},\n                        {\"showLink\": true, \"linkText\": \"Export to plot.ly\", \"plotlyServerURL\": \"https://plot.ly\", \"responsive\": true}\n                    ).then(function(){\n                            \nvar gd = document.getElementById('35eb5c21-06d4-46a5-a219-ad3a7e64fe2b');\nvar x = new MutationObserver(function (mutations, observer) {{\n        var display = window.getComputedStyle(gd).display;\n        if (!display || display === 'none') {{\n            console.log([gd, 'removed!']);\n            Plotly.purge(gd);\n            observer.disconnect();\n        }}\n}});\n\n// Listen for the removal of the full notebook cells\nvar notebookContainer = gd.closest('#notebook-container');\nif (notebookContainer) {{\n    x.observe(notebookContainer, {childList: true});\n}}\n\n// Listen for the clearing of the current output cell\nvar outputEl = gd.closest('.output');\nif (outputEl) {{\n    x.observe(outputEl, {childList: true});\n}}\n\n                        })\n                };\n                });\n            </script>\n        </div>"
         },
         "metadata": {},
         "output_type": "display_data"
        }
       ]
      }
     },
     "5e22a500410947d3a5b677dcf2f13a84": {
      "model_module": "@jupyter-widgets/base",
      "model_module_version": "1.2.0",
      "model_name": "LayoutModel",
      "state": {}
     },
     "5e3b8284655e4d1193d517ba382113c1": {
      "model_module": "@jupyter-widgets/base",
      "model_module_version": "1.2.0",
      "model_name": "LayoutModel",
      "state": {}
     },
     "5eb3637191734eec9f79620da58e5f29": {
      "model_module": "@jupyter-widgets/controls",
      "model_module_version": "1.5.0",
      "model_name": "ProgressStyleModel",
      "state": {
       "description_width": ""
      }
     },
     "5f1dad62fcbe45caac6444f661f27d10": {
      "model_module": "@jupyter-widgets/controls",
      "model_module_version": "1.5.0",
      "model_name": "ProgressStyleModel",
      "state": {
       "description_width": ""
      }
     },
     "62077375abdf48e28987780b10e7d2da": {
      "model_module": "@jupyter-widgets/controls",
      "model_module_version": "1.5.0",
      "model_name": "ProgressStyleModel",
      "state": {
       "description_width": ""
      }
     },
     "63382beeefa04a0a9a1169f1407a4c47": {
      "model_module": "@jupyter-widgets/controls",
      "model_module_version": "1.5.0",
      "model_name": "IntProgressModel",
      "state": {
       "description": "Processing: ",
       "layout": "IPY_MODEL_5e3b8284655e4d1193d517ba382113c1",
       "max": 48,
       "style": "IPY_MODEL_5eb3637191734eec9f79620da58e5f29",
       "value": 48
      }
     },
     "6581d7cb4d92419fbad67bffc7c275ab": {
      "model_module": "@jupyter-widgets/controls",
      "model_module_version": "1.5.0",
      "model_name": "IntProgressModel",
      "state": {
       "description": "Processing: ",
       "layout": "IPY_MODEL_9f4d9978372844b092eb142c012eb461",
       "max": 48,
       "style": "IPY_MODEL_ed35519ca52f4fd795e8c6cce2a7e233",
       "value": 48
      }
     },
     "66a25303bbe84b82b97f0a28a1667233": {
      "model_module": "@jupyter-widgets/base",
      "model_module_version": "1.2.0",
      "model_name": "LayoutModel",
      "state": {}
     },
     "68f776c0ee6042a2808649742f4bac2b": {
      "model_module": "@jupyter-widgets/controls",
      "model_module_version": "1.5.0",
      "model_name": "IntProgressModel",
      "state": {
       "description": "Processing: ",
       "layout": "IPY_MODEL_96f8fd9dded14f198991a160b4ce8f0e",
       "max": 48,
       "style": "IPY_MODEL_9c4378f7d73c44c79a71e9357098d2d3",
       "value": 48
      }
     },
     "69bb7f060370468ab969885a393bc713": {
      "model_module": "@jupyter-widgets/controls",
      "model_module_version": "1.5.0",
      "model_name": "DropdownModel",
      "state": {
       "_options_labels": [
        "Topic 0",
        "Topic 1",
        "Topic 2",
        "Topic 3",
        "Topic 4",
        "Topic 5",
        "Topic 6",
        "Topic 7",
        "Topic 8",
        "Topic 9"
       ],
       "description": "Topic #:",
       "index": 9,
       "layout": "IPY_MODEL_d2aabbfda6494143b42c40dc46625599",
       "style": "IPY_MODEL_d03d1c65475a46e7b028e243ac822384"
      }
     },
     "6b283543764646a9ae26e0b933fba321": {
      "model_module": "@jupyter-widgets/controls",
      "model_module_version": "1.5.0",
      "model_name": "ProgressStyleModel",
      "state": {
       "description_width": ""
      }
     },
     "6eca3fee38aa49eaa15618e2c784e7ef": {
      "model_module": "@jupyter-widgets/controls",
      "model_module_version": "1.5.0",
      "model_name": "ProgressStyleModel",
      "state": {
       "description_width": ""
      }
     },
     "704ea141a5074eaa83f67d44f98d2c0b": {
      "model_module": "@jupyter-widgets/controls",
      "model_module_version": "1.5.0",
      "model_name": "ToggleButtonsStyleModel",
      "state": {
       "button_width": "",
       "description_width": ""
      }
     },
     "70815f0b5b404c93be39bdaaca26b098": {
      "model_module": "@jupyter-widgets/controls",
      "model_module_version": "1.5.0",
      "model_name": "IntProgressModel",
      "state": {
       "description": "Processing: ",
       "layout": "IPY_MODEL_31b3baafeb774a7cbac7db870aa9dd74",
       "max": 11,
       "style": "IPY_MODEL_c94240c41acb4685a37cdf7f48cfe378",
       "value": 11
      }
     },
     "70a28876caf14ca4a0c5f7a06e67284a": {
      "model_module": "@jupyter-widgets/base",
      "model_module_version": "1.2.0",
      "model_name": "LayoutModel",
      "state": {}
     },
     "70c00a1bfdac47bab63eb7884d8f47ba": {
      "model_module": "@jupyter-widgets/controls",
      "model_module_version": "1.5.0",
      "model_name": "ProgressStyleModel",
      "state": {
       "description_width": ""
      }
     },
     "745fc4e908784fe492b489c290b04246": {
      "model_module": "@jupyter-widgets/base",
      "model_module_version": "1.2.0",
      "model_name": "LayoutModel",
      "state": {}
     },
     "7523194a671343439ee041b30daed4b8": {
      "model_module": "@jupyter-widgets/controls",
      "model_module_version": "1.5.0",
      "model_name": "IntProgressModel",
      "state": {
       "description": "Processing: ",
       "layout": "IPY_MODEL_53158dec7f594db998d1d3c997266e28",
       "max": 4,
       "style": "IPY_MODEL_45a586cfd60944c28a4a5cb8dfe23639",
       "value": 4
      }
     },
     "763db75e3ecf42a391036ae7cc84eedf": {
      "model_module": "@jupyter-widgets/controls",
      "model_module_version": "1.5.0",
      "model_name": "IntProgressModel",
      "state": {
       "description": "Processing: ",
       "layout": "IPY_MODEL_4b6faed7bfb248248bf88f723cafb57e",
       "max": 48,
       "style": "IPY_MODEL_d1fccbfe4ee44d3e966860acc4854a60",
       "value": 48
      }
     },
     "7a1376c322984f3dba0280748cca767c": {
      "model_module": "@jupyter-widgets/base",
      "model_module_version": "1.2.0",
      "model_name": "LayoutModel",
      "state": {}
     },
     "7b0513ed1df24cb6ac19ec71eebd739b": {
      "model_module": "@jupyter-widgets/base",
      "model_module_version": "1.2.0",
      "model_name": "LayoutModel",
      "state": {}
     },
     "7b0e6a4e2dfd48e390c41694374a5825": {
      "model_module": "@jupyter-widgets/controls",
      "model_module_version": "1.5.0",
      "model_name": "VBoxModel",
      "state": {
       "_dom_classes": [
        "widget-interact"
       ],
       "children": [
        "IPY_MODEL_b7ee6a23727d4f128a27c5424cfa14bd",
        "IPY_MODEL_23ed8d269a2b44afaef219e7a53bc0a6",
        "IPY_MODEL_ac0b46a532c142189c00dd3359f6d926",
        "IPY_MODEL_5be6d5098d9f467098ed1693d37e32b2"
       ],
       "layout": "IPY_MODEL_331b048b024f45e780b69e099540ecf6"
      }
     },
     "7b5a5643220a48888c4c3b6f73df3a63": {
      "model_module": "@jupyter-widgets/controls",
      "model_module_version": "1.5.0",
      "model_name": "IntProgressModel",
      "state": {
       "description": "Processing: ",
       "layout": "IPY_MODEL_7fb3d2a1a8404f7497fb26679cf4166d",
       "max": 870,
       "style": "IPY_MODEL_cf980fd03b41494883574b8be5f315d9",
       "value": 870
      }
     },
     "7f76dc59fe0f4871a34e98099e7bf624": {
      "model_module": "@jupyter-widgets/controls",
      "model_module_version": "1.5.0",
      "model_name": "ProgressStyleModel",
      "state": {
       "description_width": ""
      }
     },
     "7fb3d2a1a8404f7497fb26679cf4166d": {
      "model_module": "@jupyter-widgets/base",
      "model_module_version": "1.2.0",
      "model_name": "LayoutModel",
      "state": {}
     },
     "8003fd95dc824071acdbe35c3483e10b": {
      "model_module": "@jupyter-widgets/base",
      "model_module_version": "1.2.0",
      "model_name": "LayoutModel",
      "state": {}
     },
     "80183cf5fe844d7083166c3250f3fcaa": {
      "model_module": "@jupyter-widgets/base",
      "model_module_version": "1.2.0",
      "model_name": "LayoutModel",
      "state": {}
     },
     "801d09e6ba6a4c10b6e38212173591c2": {
      "model_module": "@jupyter-widgets/controls",
      "model_module_version": "1.5.0",
      "model_name": "IntProgressModel",
      "state": {
       "description": "Processing: ",
       "layout": "IPY_MODEL_b3b7e8dd4298442697da18f77b3df623",
       "max": 4,
       "style": "IPY_MODEL_ef3e23835aa14ee99e95326fc0ca375f",
       "value": 4
      }
     },
     "806b8881c83940ddbaa76483ffdc7f97": {
      "model_module": "@jupyter-widgets/controls",
      "model_module_version": "1.5.0",
      "model_name": "ToggleButtonsStyleModel",
      "state": {
       "button_width": "",
       "description_width": ""
      }
     },
     "84430717888d4c71a53354d53ab75469": {
      "model_module": "@jupyter-widgets/base",
      "model_module_version": "1.2.0",
      "model_name": "LayoutModel",
      "state": {}
     },
     "84fc731fdbef457a939c9ececba04239": {
      "model_module": "@jupyter-widgets/base",
      "model_module_version": "1.2.0",
      "model_name": "LayoutModel",
      "state": {}
     },
     "850b945cf1d84925b36b47b26dc721b1": {
      "model_module": "@jupyter-widgets/controls",
      "model_module_version": "1.5.0",
      "model_name": "IntProgressModel",
      "state": {
       "description": "Processing: ",
       "layout": "IPY_MODEL_1a44e97fbbe94591bf4aad7f63cc012a",
       "max": 870,
       "style": "IPY_MODEL_0f6c8ac6d1f846068fb9281665654538",
       "value": 870
      }
     },
     "8588d3da2aaf42249875a17f77c6efc7": {
      "model_module": "@jupyter-widgets/controls",
      "model_module_version": "1.5.0",
      "model_name": "ProgressStyleModel",
      "state": {
       "description_width": ""
      }
     },
     "86672c973c42441ebc1b07345926a549": {
      "model_module": "@jupyter-widgets/base",
      "model_module_version": "1.2.0",
      "model_name": "LayoutModel",
      "state": {}
     },
     "89b18157ae0c48089e0a9398fd4437f7": {
      "model_module": "@jupyter-widgets/controls",
      "model_module_version": "1.5.0",
      "model_name": "IntProgressModel",
      "state": {
       "description": "Processing: ",
       "layout": "IPY_MODEL_460c90df8cb44ac69590932b8b6e5074",
       "max": 48,
       "style": "IPY_MODEL_343289ca052f45dd9faadaefc9372136",
       "value": 48
      }
     },
     "8abccd2044f944c381d6a35591de0eac": {
      "model_module": "@jupyter-widgets/controls",
      "model_module_version": "1.5.0",
      "model_name": "VBoxModel",
      "state": {
       "_dom_classes": [
        "widget-interact"
       ],
       "children": [
        "IPY_MODEL_08aa6aa0ef6447a0bdc4244114ce3161",
        "IPY_MODEL_ea9cafbe17334322a6646de324d3464d",
        "IPY_MODEL_5971dcb9f6424a1cbf1c2014a1386b81",
        "IPY_MODEL_fbc08f74a0834df1ac913e55ca9f491b"
       ],
       "layout": "IPY_MODEL_2307265549e1422c90e209ab9fac75d9"
      }
     },
     "8b04a0dfd25a4ae8b9db2d90479cf22c": {
      "model_module": "@jupyter-widgets/base",
      "model_module_version": "1.2.0",
      "model_name": "LayoutModel",
      "state": {}
     },
     "8f1efb22dc584147b5cfa796e614d5e4": {
      "model_module": "@jupyter-widgets/controls",
      "model_module_version": "1.5.0",
      "model_name": "ProgressStyleModel",
      "state": {
       "description_width": ""
      }
     },
     "91384f83997a40989067f97b2a15c999": {
      "model_module": "@jupyter-widgets/controls",
      "model_module_version": "1.5.0",
      "model_name": "ProgressStyleModel",
      "state": {
       "description_width": ""
      }
     },
     "923076edcc1f4dd1ae098ee1879c5ad2": {
      "model_module": "@jupyter-widgets/controls",
      "model_module_version": "1.5.0",
      "model_name": "ProgressStyleModel",
      "state": {
       "description_width": ""
      }
     },
     "934bc2eb15ec404c9b98c481e126b7ac": {
      "model_module": "@jupyter-widgets/base",
      "model_module_version": "1.2.0",
      "model_name": "LayoutModel",
      "state": {}
     },
     "937c0719026c43d2b1b5d22fa0f42fb5": {
      "model_module": "@jupyter-widgets/output",
      "model_module_version": "1.0.0",
      "model_name": "OutputModel",
      "state": {
       "layout": "IPY_MODEL_e5f43c05ab66450d9111641e6985360b",
       "outputs": [
        {
         "data": {
          "text/html": "        <script type=\"text/javascript\">\n        window.PlotlyConfig = {MathJaxConfig: 'local'};\n        if (window.MathJax) {MathJax.Hub.Config({SVG: {font: \"STIX-Web\"}});}\n        if (typeof require !== 'undefined') {\n        require.undef(\"plotly\");\n        requirejs.config({\n            paths: {\n                'plotly': ['https://cdn.plot.ly/plotly-latest.min']\n            }\n        });\n        require(['plotly'], function(Plotly) {\n            window._Plotly = Plotly;\n        });\n        }\n        </script>\n        "
         },
         "metadata": {},
         "output_type": "display_data"
        },
        {
         "data": {
          "application/vnd.plotly.v1+json": {
           "config": {
            "linkText": "Export to plot.ly",
            "plotlyServerURL": "https://plot.ly",
            "showLink": true
           },
           "data": [
            {
             "marker": {
              "color": "rgba(255, 153, 51, 0.6)",
              "line": {
               "color": "rgba(255, 153, 51, 1.0)",
               "width": 1
              }
             },
             "name": "count",
             "orientation": "v",
             "text": "",
             "type": "bar",
             "x": [
              "include price",
              "breakfast breakfast",
              "pool look",
              "internet access",
              "price pay",
              "executive suite",
              "extra charge",
              "order breakfast",
              "breakfast selection",
              "business people",
              "general place",
              "full business",
              "impression cause",
              "however price",
              "honest lower",
              "hit shock",
              "expect many",
              "happen lobby",
              "fair location",
              "fill container",
              "go different",
              "fill plate",
              "finally fair",
              "find glass",
              "elevator breakfast",
              "friendly waiter",
              "glass complain",
              "euro mainly",
              "whole ambience",
              "eat bit",
              "due sale",
              "also offer",
              "ambience deadish",
              "apart staff",
              "average friendly",
              "bit pricey",
              "block elevator",
              "boring ago",
              "breakfast find",
              "breakfast less",
              "building block",
              "case extraordinary",
              "cause renovation",
              "complain much",
              "concierge parking",
              "container however",
              "convenient business",
              "dead boring",
              "deadish dead",
              "different building",
              "drink fill",
              "lobby notice",
              "less star",
              "want starve",
              "prime nicosianowaday",
              "promotion finally",
              "rate stay",
              "reception go",
              "relatively low",
              "renovation happen",
              "salad eat",
              "sale promotion",
              "shock sometimes",
              "sometimes pay",
              "special convenient",
              "special maybe",
              "staff polite",
              "star special",
              "star sure",
              "stay honest",
              "sure order",
              "think general",
              "value money",
              "visit overall",
              "waiter think",
              "pricey drink",
              "price hit",
              "polite whole",
              "much want",
              "location ideal",
              "low due",
              "lower expect",
              "mainly salad",
              "many star",
              "maybe impression",
              "money much",
              "much price",
              "much taste",
              "nicosianowaday special",
              "plate much",
              "notice concierge",
              "offer fill",
              "overall rate",
              "parking reception",
              "pay euro",
              "pay relatively",
              "people also",
              "people case",
              "place value",
              "ago prime"
             ],
             "y": [
              2,
              2,
              2,
              2,
              2,
              2,
              2,
              2,
              2,
              2,
              1,
              1,
              1,
              1,
              1,
              1,
              1,
              1,
              1,
              1,
              1,
              1,
              1,
              1,
              1,
              1,
              1,
              1,
              1,
              1,
              1,
              1,
              1,
              1,
              1,
              1,
              1,
              1,
              1,
              1,
              1,
              1,
              1,
              1,
              1,
              1,
              1,
              1,
              1,
              1,
              1,
              1,
              1,
              1,
              1,
              1,
              1,
              1,
              1,
              1,
              1,
              1,
              1,
              1,
              1,
              1,
              1,
              1,
              1,
              1,
              1,
              1,
              1,
              1,
              1,
              1,
              1,
              1,
              1,
              1,
              1,
              1,
              1,
              1,
              1,
              1,
              1,
              1,
              1,
              1,
              1,
              1,
              1,
              1,
              1,
              1,
              1,
              1,
              1,
              1
             ]
            }
           ],
           "layout": {
            "legend": {
             "bgcolor": "#F5F6F9",
             "font": {
              "color": "#4D5663"
             }
            },
            "paper_bgcolor": "#F5F6F9",
            "plot_bgcolor": "#F5F6F9",
            "template": {
             "data": {
              "bar": [
               {
                "error_x": {
                 "color": "#2a3f5f"
                },
                "error_y": {
                 "color": "#2a3f5f"
                },
                "marker": {
                 "line": {
                  "color": "#E5ECF6",
                  "width": 0.5
                 }
                },
                "type": "bar"
               }
              ],
              "barpolar": [
               {
                "marker": {
                 "line": {
                  "color": "#E5ECF6",
                  "width": 0.5
                 }
                },
                "type": "barpolar"
               }
              ],
              "carpet": [
               {
                "aaxis": {
                 "endlinecolor": "#2a3f5f",
                 "gridcolor": "white",
                 "linecolor": "white",
                 "minorgridcolor": "white",
                 "startlinecolor": "#2a3f5f"
                },
                "baxis": {
                 "endlinecolor": "#2a3f5f",
                 "gridcolor": "white",
                 "linecolor": "white",
                 "minorgridcolor": "white",
                 "startlinecolor": "#2a3f5f"
                },
                "type": "carpet"
               }
              ],
              "choropleth": [
               {
                "colorbar": {
                 "outlinewidth": 0,
                 "ticks": ""
                },
                "type": "choropleth"
               }
              ],
              "contour": [
               {
                "colorbar": {
                 "outlinewidth": 0,
                 "ticks": ""
                },
                "colorscale": [
                 [
                  0,
                  "#0d0887"
                 ],
                 [
                  0.1111111111111111,
                  "#46039f"
                 ],
                 [
                  0.2222222222222222,
                  "#7201a8"
                 ],
                 [
                  0.3333333333333333,
                  "#9c179e"
                 ],
                 [
                  0.4444444444444444,
                  "#bd3786"
                 ],
                 [
                  0.5555555555555556,
                  "#d8576b"
                 ],
                 [
                  0.6666666666666666,
                  "#ed7953"
                 ],
                 [
                  0.7777777777777778,
                  "#fb9f3a"
                 ],
                 [
                  0.8888888888888888,
                  "#fdca26"
                 ],
                 [
                  1,
                  "#f0f921"
                 ]
                ],
                "type": "contour"
               }
              ],
              "contourcarpet": [
               {
                "colorbar": {
                 "outlinewidth": 0,
                 "ticks": ""
                },
                "type": "contourcarpet"
               }
              ],
              "heatmap": [
               {
                "colorbar": {
                 "outlinewidth": 0,
                 "ticks": ""
                },
                "colorscale": [
                 [
                  0,
                  "#0d0887"
                 ],
                 [
                  0.1111111111111111,
                  "#46039f"
                 ],
                 [
                  0.2222222222222222,
                  "#7201a8"
                 ],
                 [
                  0.3333333333333333,
                  "#9c179e"
                 ],
                 [
                  0.4444444444444444,
                  "#bd3786"
                 ],
                 [
                  0.5555555555555556,
                  "#d8576b"
                 ],
                 [
                  0.6666666666666666,
                  "#ed7953"
                 ],
                 [
                  0.7777777777777778,
                  "#fb9f3a"
                 ],
                 [
                  0.8888888888888888,
                  "#fdca26"
                 ],
                 [
                  1,
                  "#f0f921"
                 ]
                ],
                "type": "heatmap"
               }
              ],
              "heatmapgl": [
               {
                "colorbar": {
                 "outlinewidth": 0,
                 "ticks": ""
                },
                "colorscale": [
                 [
                  0,
                  "#0d0887"
                 ],
                 [
                  0.1111111111111111,
                  "#46039f"
                 ],
                 [
                  0.2222222222222222,
                  "#7201a8"
                 ],
                 [
                  0.3333333333333333,
                  "#9c179e"
                 ],
                 [
                  0.4444444444444444,
                  "#bd3786"
                 ],
                 [
                  0.5555555555555556,
                  "#d8576b"
                 ],
                 [
                  0.6666666666666666,
                  "#ed7953"
                 ],
                 [
                  0.7777777777777778,
                  "#fb9f3a"
                 ],
                 [
                  0.8888888888888888,
                  "#fdca26"
                 ],
                 [
                  1,
                  "#f0f921"
                 ]
                ],
                "type": "heatmapgl"
               }
              ],
              "histogram": [
               {
                "marker": {
                 "colorbar": {
                  "outlinewidth": 0,
                  "ticks": ""
                 }
                },
                "type": "histogram"
               }
              ],
              "histogram2d": [
               {
                "colorbar": {
                 "outlinewidth": 0,
                 "ticks": ""
                },
                "colorscale": [
                 [
                  0,
                  "#0d0887"
                 ],
                 [
                  0.1111111111111111,
                  "#46039f"
                 ],
                 [
                  0.2222222222222222,
                  "#7201a8"
                 ],
                 [
                  0.3333333333333333,
                  "#9c179e"
                 ],
                 [
                  0.4444444444444444,
                  "#bd3786"
                 ],
                 [
                  0.5555555555555556,
                  "#d8576b"
                 ],
                 [
                  0.6666666666666666,
                  "#ed7953"
                 ],
                 [
                  0.7777777777777778,
                  "#fb9f3a"
                 ],
                 [
                  0.8888888888888888,
                  "#fdca26"
                 ],
                 [
                  1,
                  "#f0f921"
                 ]
                ],
                "type": "histogram2d"
               }
              ],
              "histogram2dcontour": [
               {
                "colorbar": {
                 "outlinewidth": 0,
                 "ticks": ""
                },
                "colorscale": [
                 [
                  0,
                  "#0d0887"
                 ],
                 [
                  0.1111111111111111,
                  "#46039f"
                 ],
                 [
                  0.2222222222222222,
                  "#7201a8"
                 ],
                 [
                  0.3333333333333333,
                  "#9c179e"
                 ],
                 [
                  0.4444444444444444,
                  "#bd3786"
                 ],
                 [
                  0.5555555555555556,
                  "#d8576b"
                 ],
                 [
                  0.6666666666666666,
                  "#ed7953"
                 ],
                 [
                  0.7777777777777778,
                  "#fb9f3a"
                 ],
                 [
                  0.8888888888888888,
                  "#fdca26"
                 ],
                 [
                  1,
                  "#f0f921"
                 ]
                ],
                "type": "histogram2dcontour"
               }
              ],
              "mesh3d": [
               {
                "colorbar": {
                 "outlinewidth": 0,
                 "ticks": ""
                },
                "type": "mesh3d"
               }
              ],
              "parcoords": [
               {
                "line": {
                 "colorbar": {
                  "outlinewidth": 0,
                  "ticks": ""
                 }
                },
                "type": "parcoords"
               }
              ],
              "pie": [
               {
                "automargin": true,
                "type": "pie"
               }
              ],
              "scatter": [
               {
                "marker": {
                 "colorbar": {
                  "outlinewidth": 0,
                  "ticks": ""
                 }
                },
                "type": "scatter"
               }
              ],
              "scatter3d": [
               {
                "line": {
                 "colorbar": {
                  "outlinewidth": 0,
                  "ticks": ""
                 }
                },
                "marker": {
                 "colorbar": {
                  "outlinewidth": 0,
                  "ticks": ""
                 }
                },
                "type": "scatter3d"
               }
              ],
              "scattercarpet": [
               {
                "marker": {
                 "colorbar": {
                  "outlinewidth": 0,
                  "ticks": ""
                 }
                },
                "type": "scattercarpet"
               }
              ],
              "scattergeo": [
               {
                "marker": {
                 "colorbar": {
                  "outlinewidth": 0,
                  "ticks": ""
                 }
                },
                "type": "scattergeo"
               }
              ],
              "scattergl": [
               {
                "marker": {
                 "colorbar": {
                  "outlinewidth": 0,
                  "ticks": ""
                 }
                },
                "type": "scattergl"
               }
              ],
              "scattermapbox": [
               {
                "marker": {
                 "colorbar": {
                  "outlinewidth": 0,
                  "ticks": ""
                 }
                },
                "type": "scattermapbox"
               }
              ],
              "scatterpolar": [
               {
                "marker": {
                 "colorbar": {
                  "outlinewidth": 0,
                  "ticks": ""
                 }
                },
                "type": "scatterpolar"
               }
              ],
              "scatterpolargl": [
               {
                "marker": {
                 "colorbar": {
                  "outlinewidth": 0,
                  "ticks": ""
                 }
                },
                "type": "scatterpolargl"
               }
              ],
              "scatterternary": [
               {
                "marker": {
                 "colorbar": {
                  "outlinewidth": 0,
                  "ticks": ""
                 }
                },
                "type": "scatterternary"
               }
              ],
              "surface": [
               {
                "colorbar": {
                 "outlinewidth": 0,
                 "ticks": ""
                },
                "colorscale": [
                 [
                  0,
                  "#0d0887"
                 ],
                 [
                  0.1111111111111111,
                  "#46039f"
                 ],
                 [
                  0.2222222222222222,
                  "#7201a8"
                 ],
                 [
                  0.3333333333333333,
                  "#9c179e"
                 ],
                 [
                  0.4444444444444444,
                  "#bd3786"
                 ],
                 [
                  0.5555555555555556,
                  "#d8576b"
                 ],
                 [
                  0.6666666666666666,
                  "#ed7953"
                 ],
                 [
                  0.7777777777777778,
                  "#fb9f3a"
                 ],
                 [
                  0.8888888888888888,
                  "#fdca26"
                 ],
                 [
                  1,
                  "#f0f921"
                 ]
                ],
                "type": "surface"
               }
              ],
              "table": [
               {
                "cells": {
                 "fill": {
                  "color": "#EBF0F8"
                 },
                 "line": {
                  "color": "white"
                 }
                },
                "header": {
                 "fill": {
                  "color": "#C8D4E3"
                 },
                 "line": {
                  "color": "white"
                 }
                },
                "type": "table"
               }
              ]
             },
             "layout": {
              "annotationdefaults": {
               "arrowcolor": "#2a3f5f",
               "arrowhead": 0,
               "arrowwidth": 1
              },
              "coloraxis": {
               "colorbar": {
                "outlinewidth": 0,
                "ticks": ""
               }
              },
              "colorscale": {
               "diverging": [
                [
                 0,
                 "#8e0152"
                ],
                [
                 0.1,
                 "#c51b7d"
                ],
                [
                 0.2,
                 "#de77ae"
                ],
                [
                 0.3,
                 "#f1b6da"
                ],
                [
                 0.4,
                 "#fde0ef"
                ],
                [
                 0.5,
                 "#f7f7f7"
                ],
                [
                 0.6,
                 "#e6f5d0"
                ],
                [
                 0.7,
                 "#b8e186"
                ],
                [
                 0.8,
                 "#7fbc41"
                ],
                [
                 0.9,
                 "#4d9221"
                ],
                [
                 1,
                 "#276419"
                ]
               ],
               "sequential": [
                [
                 0,
                 "#0d0887"
                ],
                [
                 0.1111111111111111,
                 "#46039f"
                ],
                [
                 0.2222222222222222,
                 "#7201a8"
                ],
                [
                 0.3333333333333333,
                 "#9c179e"
                ],
                [
                 0.4444444444444444,
                 "#bd3786"
                ],
                [
                 0.5555555555555556,
                 "#d8576b"
                ],
                [
                 0.6666666666666666,
                 "#ed7953"
                ],
                [
                 0.7777777777777778,
                 "#fb9f3a"
                ],
                [
                 0.8888888888888888,
                 "#fdca26"
                ],
                [
                 1,
                 "#f0f921"
                ]
               ],
               "sequentialminus": [
                [
                 0,
                 "#0d0887"
                ],
                [
                 0.1111111111111111,
                 "#46039f"
                ],
                [
                 0.2222222222222222,
                 "#7201a8"
                ],
                [
                 0.3333333333333333,
                 "#9c179e"
                ],
                [
                 0.4444444444444444,
                 "#bd3786"
                ],
                [
                 0.5555555555555556,
                 "#d8576b"
                ],
                [
                 0.6666666666666666,
                 "#ed7953"
                ],
                [
                 0.7777777777777778,
                 "#fb9f3a"
                ],
                [
                 0.8888888888888888,
                 "#fdca26"
                ],
                [
                 1,
                 "#f0f921"
                ]
               ]
              },
              "colorway": [
               "#636efa",
               "#EF553B",
               "#00cc96",
               "#ab63fa",
               "#FFA15A",
               "#19d3f3",
               "#FF6692",
               "#B6E880",
               "#FF97FF",
               "#FECB52"
              ],
              "font": {
               "color": "#2a3f5f"
              },
              "geo": {
               "bgcolor": "white",
               "lakecolor": "white",
               "landcolor": "#E5ECF6",
               "showlakes": true,
               "showland": true,
               "subunitcolor": "white"
              },
              "hoverlabel": {
               "align": "left"
              },
              "hovermode": "closest",
              "mapbox": {
               "style": "light"
              },
              "paper_bgcolor": "white",
              "plot_bgcolor": "#E5ECF6",
              "polar": {
               "angularaxis": {
                "gridcolor": "white",
                "linecolor": "white",
                "ticks": ""
               },
               "bgcolor": "#E5ECF6",
               "radialaxis": {
                "gridcolor": "white",
                "linecolor": "white",
                "ticks": ""
               }
              },
              "scene": {
               "xaxis": {
                "backgroundcolor": "#E5ECF6",
                "gridcolor": "white",
                "gridwidth": 2,
                "linecolor": "white",
                "showbackground": true,
                "ticks": "",
                "zerolinecolor": "white"
               },
               "yaxis": {
                "backgroundcolor": "#E5ECF6",
                "gridcolor": "white",
                "gridwidth": 2,
                "linecolor": "white",
                "showbackground": true,
                "ticks": "",
                "zerolinecolor": "white"
               },
               "zaxis": {
                "backgroundcolor": "#E5ECF6",
                "gridcolor": "white",
                "gridwidth": 2,
                "linecolor": "white",
                "showbackground": true,
                "ticks": "",
                "zerolinecolor": "white"
               }
              },
              "shapedefaults": {
               "line": {
                "color": "#2a3f5f"
               }
              },
              "ternary": {
               "aaxis": {
                "gridcolor": "white",
                "linecolor": "white",
                "ticks": ""
               },
               "baxis": {
                "gridcolor": "white",
                "linecolor": "white",
                "ticks": ""
               },
               "bgcolor": "#E5ECF6",
               "caxis": {
                "gridcolor": "white",
                "linecolor": "white",
                "ticks": ""
               }
              },
              "title": {
               "x": 0.05
              },
              "xaxis": {
               "automargin": true,
               "gridcolor": "white",
               "linecolor": "white",
               "ticks": "",
               "title": {
                "standoff": 15
               },
               "zerolinecolor": "white",
               "zerolinewidth": 2
              },
              "yaxis": {
               "automargin": true,
               "gridcolor": "white",
               "linecolor": "white",
               "ticks": "",
               "title": {
                "standoff": 15
               },
               "zerolinecolor": "white",
               "zerolinewidth": 2
              }
             }
            },
            "title": {
             "font": {
              "color": "#4D5663"
             },
             "text": "Topic 2: Top 100 bigrams after removing stop words"
            },
            "xaxis": {
             "gridcolor": "#E1E5ED",
             "linecolor": "black",
             "showgrid": true,
             "tickfont": {
              "color": "#4D5663"
             },
             "title": {
              "font": {
               "color": "#4D5663"
              },
              "text": ""
             },
             "zerolinecolor": "#E1E5ED"
            },
            "yaxis": {
             "gridcolor": "#E1E5ED",
             "linecolor": "black",
             "showgrid": true,
             "tickfont": {
              "color": "#4D5663"
             },
             "title": {
              "font": {
               "color": "#4D5663"
              },
              "text": "Count"
             },
             "zerolinecolor": "#E1E5ED"
            }
           }
          },
          "text/html": "<div>\n        \n        \n            <div id=\"329d6fa4-ba02-4ddf-9e32-2f808a27a483\" class=\"plotly-graph-div\" style=\"height:525px; width:100%;\"></div>\n            <script type=\"text/javascript\">\n                require([\"plotly\"], function(Plotly) {\n                    window.PLOTLYENV=window.PLOTLYENV || {};\n                    window.PLOTLYENV.BASE_URL='https://plot.ly';\n                    \n                if (document.getElementById(\"329d6fa4-ba02-4ddf-9e32-2f808a27a483\")) {\n                    Plotly.newPlot(\n                        '329d6fa4-ba02-4ddf-9e32-2f808a27a483',\n                        [{\"marker\": {\"color\": \"rgba(255, 153, 51, 0.6)\", \"line\": {\"color\": \"rgba(255, 153, 51, 1.0)\", \"width\": 1}}, \"name\": \"count\", \"orientation\": \"v\", \"text\": \"\", \"type\": \"bar\", \"x\": [\"include price\", \"breakfast breakfast\", \"pool look\", \"internet access\", \"price pay\", \"executive suite\", \"extra charge\", \"order breakfast\", \"breakfast selection\", \"business people\", \"general place\", \"full business\", \"impression cause\", \"however price\", \"honest lower\", \"hit shock\", \"expect many\", \"happen lobby\", \"fair location\", \"fill container\", \"go different\", \"fill plate\", \"finally fair\", \"find glass\", \"elevator breakfast\", \"friendly waiter\", \"glass complain\", \"euro mainly\", \"whole ambience\", \"eat bit\", \"due sale\", \"also offer\", \"ambience deadish\", \"apart staff\", \"average friendly\", \"bit pricey\", \"block elevator\", \"boring ago\", \"breakfast find\", \"breakfast less\", \"building block\", \"case extraordinary\", \"cause renovation\", \"complain much\", \"concierge parking\", \"container however\", \"convenient business\", \"dead boring\", \"deadish dead\", \"different building\", \"drink fill\", \"lobby notice\", \"less star\", \"want starve\", \"prime nicosianowaday\", \"promotion finally\", \"rate stay\", \"reception go\", \"relatively low\", \"renovation happen\", \"salad eat\", \"sale promotion\", \"shock sometimes\", \"sometimes pay\", \"special convenient\", \"special maybe\", \"staff polite\", \"star special\", \"star sure\", \"stay honest\", \"sure order\", \"think general\", \"value money\", \"visit overall\", \"waiter think\", \"pricey drink\", \"price hit\", \"polite whole\", \"much want\", \"location ideal\", \"low due\", \"lower expect\", \"mainly salad\", \"many star\", \"maybe impression\", \"money much\", \"much price\", \"much taste\", \"nicosianowaday special\", \"plate much\", \"notice concierge\", \"offer fill\", \"overall rate\", \"parking reception\", \"pay euro\", \"pay relatively\", \"people also\", \"people case\", \"place value\", \"ago prime\"], \"y\": [2, 2, 2, 2, 2, 2, 2, 2, 2, 2, 1, 1, 1, 1, 1, 1, 1, 1, 1, 1, 1, 1, 1, 1, 1, 1, 1, 1, 1, 1, 1, 1, 1, 1, 1, 1, 1, 1, 1, 1, 1, 1, 1, 1, 1, 1, 1, 1, 1, 1, 1, 1, 1, 1, 1, 1, 1, 1, 1, 1, 1, 1, 1, 1, 1, 1, 1, 1, 1, 1, 1, 1, 1, 1, 1, 1, 1, 1, 1, 1, 1, 1, 1, 1, 1, 1, 1, 1, 1, 1, 1, 1, 1, 1, 1, 1, 1, 1, 1, 1]}],\n                        {\"legend\": {\"bgcolor\": \"#F5F6F9\", \"font\": {\"color\": \"#4D5663\"}}, \"paper_bgcolor\": \"#F5F6F9\", \"plot_bgcolor\": \"#F5F6F9\", \"template\": {\"data\": {\"bar\": [{\"error_x\": {\"color\": \"#2a3f5f\"}, \"error_y\": {\"color\": \"#2a3f5f\"}, \"marker\": {\"line\": {\"color\": \"#E5ECF6\", \"width\": 0.5}}, \"type\": \"bar\"}], \"barpolar\": [{\"marker\": {\"line\": {\"color\": \"#E5ECF6\", \"width\": 0.5}}, \"type\": \"barpolar\"}], \"carpet\": [{\"aaxis\": {\"endlinecolor\": \"#2a3f5f\", \"gridcolor\": \"white\", \"linecolor\": \"white\", \"minorgridcolor\": \"white\", \"startlinecolor\": \"#2a3f5f\"}, \"baxis\": {\"endlinecolor\": \"#2a3f5f\", \"gridcolor\": \"white\", \"linecolor\": \"white\", \"minorgridcolor\": \"white\", \"startlinecolor\": \"#2a3f5f\"}, \"type\": \"carpet\"}], \"choropleth\": [{\"colorbar\": {\"outlinewidth\": 0, \"ticks\": \"\"}, \"type\": \"choropleth\"}], \"contour\": [{\"colorbar\": {\"outlinewidth\": 0, \"ticks\": \"\"}, \"colorscale\": [[0.0, \"#0d0887\"], [0.1111111111111111, \"#46039f\"], [0.2222222222222222, \"#7201a8\"], [0.3333333333333333, \"#9c179e\"], [0.4444444444444444, \"#bd3786\"], [0.5555555555555556, \"#d8576b\"], [0.6666666666666666, \"#ed7953\"], [0.7777777777777778, \"#fb9f3a\"], [0.8888888888888888, \"#fdca26\"], [1.0, \"#f0f921\"]], \"type\": \"contour\"}], \"contourcarpet\": [{\"colorbar\": {\"outlinewidth\": 0, \"ticks\": \"\"}, \"type\": \"contourcarpet\"}], \"heatmap\": [{\"colorbar\": {\"outlinewidth\": 0, \"ticks\": \"\"}, \"colorscale\": [[0.0, \"#0d0887\"], [0.1111111111111111, \"#46039f\"], [0.2222222222222222, \"#7201a8\"], [0.3333333333333333, \"#9c179e\"], [0.4444444444444444, \"#bd3786\"], [0.5555555555555556, \"#d8576b\"], [0.6666666666666666, \"#ed7953\"], [0.7777777777777778, \"#fb9f3a\"], [0.8888888888888888, \"#fdca26\"], [1.0, \"#f0f921\"]], \"type\": \"heatmap\"}], \"heatmapgl\": [{\"colorbar\": {\"outlinewidth\": 0, \"ticks\": \"\"}, \"colorscale\": [[0.0, \"#0d0887\"], [0.1111111111111111, \"#46039f\"], [0.2222222222222222, \"#7201a8\"], [0.3333333333333333, \"#9c179e\"], [0.4444444444444444, \"#bd3786\"], [0.5555555555555556, \"#d8576b\"], [0.6666666666666666, \"#ed7953\"], [0.7777777777777778, \"#fb9f3a\"], [0.8888888888888888, \"#fdca26\"], [1.0, \"#f0f921\"]], \"type\": \"heatmapgl\"}], \"histogram\": [{\"marker\": {\"colorbar\": {\"outlinewidth\": 0, \"ticks\": \"\"}}, \"type\": \"histogram\"}], \"histogram2d\": [{\"colorbar\": {\"outlinewidth\": 0, \"ticks\": \"\"}, \"colorscale\": [[0.0, \"#0d0887\"], [0.1111111111111111, \"#46039f\"], [0.2222222222222222, \"#7201a8\"], [0.3333333333333333, \"#9c179e\"], [0.4444444444444444, \"#bd3786\"], [0.5555555555555556, \"#d8576b\"], [0.6666666666666666, \"#ed7953\"], [0.7777777777777778, \"#fb9f3a\"], [0.8888888888888888, \"#fdca26\"], [1.0, \"#f0f921\"]], \"type\": \"histogram2d\"}], \"histogram2dcontour\": [{\"colorbar\": {\"outlinewidth\": 0, \"ticks\": \"\"}, \"colorscale\": [[0.0, \"#0d0887\"], [0.1111111111111111, \"#46039f\"], [0.2222222222222222, \"#7201a8\"], [0.3333333333333333, \"#9c179e\"], [0.4444444444444444, \"#bd3786\"], [0.5555555555555556, \"#d8576b\"], [0.6666666666666666, \"#ed7953\"], [0.7777777777777778, \"#fb9f3a\"], [0.8888888888888888, \"#fdca26\"], [1.0, \"#f0f921\"]], \"type\": \"histogram2dcontour\"}], \"mesh3d\": [{\"colorbar\": {\"outlinewidth\": 0, \"ticks\": \"\"}, \"type\": \"mesh3d\"}], \"parcoords\": [{\"line\": {\"colorbar\": {\"outlinewidth\": 0, \"ticks\": \"\"}}, \"type\": \"parcoords\"}], \"pie\": [{\"automargin\": true, \"type\": \"pie\"}], \"scatter\": [{\"marker\": {\"colorbar\": {\"outlinewidth\": 0, \"ticks\": \"\"}}, \"type\": \"scatter\"}], \"scatter3d\": [{\"line\": {\"colorbar\": {\"outlinewidth\": 0, \"ticks\": \"\"}}, \"marker\": {\"colorbar\": {\"outlinewidth\": 0, \"ticks\": \"\"}}, \"type\": \"scatter3d\"}], \"scattercarpet\": [{\"marker\": {\"colorbar\": {\"outlinewidth\": 0, \"ticks\": \"\"}}, \"type\": \"scattercarpet\"}], \"scattergeo\": [{\"marker\": {\"colorbar\": {\"outlinewidth\": 0, \"ticks\": \"\"}}, \"type\": \"scattergeo\"}], \"scattergl\": [{\"marker\": {\"colorbar\": {\"outlinewidth\": 0, \"ticks\": \"\"}}, \"type\": \"scattergl\"}], \"scattermapbox\": [{\"marker\": {\"colorbar\": {\"outlinewidth\": 0, \"ticks\": \"\"}}, \"type\": \"scattermapbox\"}], \"scatterpolar\": [{\"marker\": {\"colorbar\": {\"outlinewidth\": 0, \"ticks\": \"\"}}, \"type\": \"scatterpolar\"}], \"scatterpolargl\": [{\"marker\": {\"colorbar\": {\"outlinewidth\": 0, \"ticks\": \"\"}}, \"type\": \"scatterpolargl\"}], \"scatterternary\": [{\"marker\": {\"colorbar\": {\"outlinewidth\": 0, \"ticks\": \"\"}}, \"type\": \"scatterternary\"}], \"surface\": [{\"colorbar\": {\"outlinewidth\": 0, \"ticks\": \"\"}, \"colorscale\": [[0.0, \"#0d0887\"], [0.1111111111111111, \"#46039f\"], [0.2222222222222222, \"#7201a8\"], [0.3333333333333333, \"#9c179e\"], [0.4444444444444444, \"#bd3786\"], [0.5555555555555556, \"#d8576b\"], [0.6666666666666666, \"#ed7953\"], [0.7777777777777778, \"#fb9f3a\"], [0.8888888888888888, \"#fdca26\"], [1.0, \"#f0f921\"]], \"type\": \"surface\"}], \"table\": [{\"cells\": {\"fill\": {\"color\": \"#EBF0F8\"}, \"line\": {\"color\": \"white\"}}, \"header\": {\"fill\": {\"color\": \"#C8D4E3\"}, \"line\": {\"color\": \"white\"}}, \"type\": \"table\"}]}, \"layout\": {\"annotationdefaults\": {\"arrowcolor\": \"#2a3f5f\", \"arrowhead\": 0, \"arrowwidth\": 1}, \"coloraxis\": {\"colorbar\": {\"outlinewidth\": 0, \"ticks\": \"\"}}, \"colorscale\": {\"diverging\": [[0, \"#8e0152\"], [0.1, \"#c51b7d\"], [0.2, \"#de77ae\"], [0.3, \"#f1b6da\"], [0.4, \"#fde0ef\"], [0.5, \"#f7f7f7\"], [0.6, \"#e6f5d0\"], [0.7, \"#b8e186\"], [0.8, \"#7fbc41\"], [0.9, \"#4d9221\"], [1, \"#276419\"]], \"sequential\": [[0.0, \"#0d0887\"], [0.1111111111111111, \"#46039f\"], [0.2222222222222222, \"#7201a8\"], [0.3333333333333333, \"#9c179e\"], [0.4444444444444444, \"#bd3786\"], [0.5555555555555556, \"#d8576b\"], [0.6666666666666666, \"#ed7953\"], [0.7777777777777778, \"#fb9f3a\"], [0.8888888888888888, \"#fdca26\"], [1.0, \"#f0f921\"]], \"sequentialminus\": [[0.0, \"#0d0887\"], [0.1111111111111111, \"#46039f\"], [0.2222222222222222, \"#7201a8\"], [0.3333333333333333, \"#9c179e\"], [0.4444444444444444, \"#bd3786\"], [0.5555555555555556, \"#d8576b\"], [0.6666666666666666, \"#ed7953\"], [0.7777777777777778, \"#fb9f3a\"], [0.8888888888888888, \"#fdca26\"], [1.0, \"#f0f921\"]]}, \"colorway\": [\"#636efa\", \"#EF553B\", \"#00cc96\", \"#ab63fa\", \"#FFA15A\", \"#19d3f3\", \"#FF6692\", \"#B6E880\", \"#FF97FF\", \"#FECB52\"], \"font\": {\"color\": \"#2a3f5f\"}, \"geo\": {\"bgcolor\": \"white\", \"lakecolor\": \"white\", \"landcolor\": \"#E5ECF6\", \"showlakes\": true, \"showland\": true, \"subunitcolor\": \"white\"}, \"hoverlabel\": {\"align\": \"left\"}, \"hovermode\": \"closest\", \"mapbox\": {\"style\": \"light\"}, \"paper_bgcolor\": \"white\", \"plot_bgcolor\": \"#E5ECF6\", \"polar\": {\"angularaxis\": {\"gridcolor\": \"white\", \"linecolor\": \"white\", \"ticks\": \"\"}, \"bgcolor\": \"#E5ECF6\", \"radialaxis\": {\"gridcolor\": \"white\", \"linecolor\": \"white\", \"ticks\": \"\"}}, \"scene\": {\"xaxis\": {\"backgroundcolor\": \"#E5ECF6\", \"gridcolor\": \"white\", \"gridwidth\": 2, \"linecolor\": \"white\", \"showbackground\": true, \"ticks\": \"\", \"zerolinecolor\": \"white\"}, \"yaxis\": {\"backgroundcolor\": \"#E5ECF6\", \"gridcolor\": \"white\", \"gridwidth\": 2, \"linecolor\": \"white\", \"showbackground\": true, \"ticks\": \"\", \"zerolinecolor\": \"white\"}, \"zaxis\": {\"backgroundcolor\": \"#E5ECF6\", \"gridcolor\": \"white\", \"gridwidth\": 2, \"linecolor\": \"white\", \"showbackground\": true, \"ticks\": \"\", \"zerolinecolor\": \"white\"}}, \"shapedefaults\": {\"line\": {\"color\": \"#2a3f5f\"}}, \"ternary\": {\"aaxis\": {\"gridcolor\": \"white\", \"linecolor\": \"white\", \"ticks\": \"\"}, \"baxis\": {\"gridcolor\": \"white\", \"linecolor\": \"white\", \"ticks\": \"\"}, \"bgcolor\": \"#E5ECF6\", \"caxis\": {\"gridcolor\": \"white\", \"linecolor\": \"white\", \"ticks\": \"\"}}, \"title\": {\"x\": 0.05}, \"xaxis\": {\"automargin\": true, \"gridcolor\": \"white\", \"linecolor\": \"white\", \"ticks\": \"\", \"title\": {\"standoff\": 15}, \"zerolinecolor\": \"white\", \"zerolinewidth\": 2}, \"yaxis\": {\"automargin\": true, \"gridcolor\": \"white\", \"linecolor\": \"white\", \"ticks\": \"\", \"title\": {\"standoff\": 15}, \"zerolinecolor\": \"white\", \"zerolinewidth\": 2}}}, \"title\": {\"font\": {\"color\": \"#4D5663\"}, \"text\": \"Topic 2: Top 100 bigrams after removing stop words\"}, \"xaxis\": {\"gridcolor\": \"#E1E5ED\", \"linecolor\": \"black\", \"showgrid\": true, \"tickfont\": {\"color\": \"#4D5663\"}, \"title\": {\"font\": {\"color\": \"#4D5663\"}, \"text\": \"\"}, \"zerolinecolor\": \"#E1E5ED\"}, \"yaxis\": {\"gridcolor\": \"#E1E5ED\", \"linecolor\": \"black\", \"showgrid\": true, \"tickfont\": {\"color\": \"#4D5663\"}, \"title\": {\"font\": {\"color\": \"#4D5663\"}, \"text\": \"Count\"}, \"zerolinecolor\": \"#E1E5ED\"}},\n                        {\"showLink\": true, \"linkText\": \"Export to plot.ly\", \"plotlyServerURL\": \"https://plot.ly\", \"responsive\": true}\n                    ).then(function(){\n                            \nvar gd = document.getElementById('329d6fa4-ba02-4ddf-9e32-2f808a27a483');\nvar x = new MutationObserver(function (mutations, observer) {{\n        var display = window.getComputedStyle(gd).display;\n        if (!display || display === 'none') {{\n            console.log([gd, 'removed!']);\n            Plotly.purge(gd);\n            observer.disconnect();\n        }}\n}});\n\n// Listen for the removal of the full notebook cells\nvar notebookContainer = gd.closest('#notebook-container');\nif (notebookContainer) {{\n    x.observe(notebookContainer, {childList: true});\n}}\n\n// Listen for the clearing of the current output cell\nvar outputEl = gd.closest('.output');\nif (outputEl) {{\n    x.observe(outputEl, {childList: true});\n}}\n\n                        })\n                };\n                });\n            </script>\n        </div>"
         },
         "metadata": {},
         "output_type": "display_data"
        }
       ]
      }
     },
     "93acdd56af924feda1fa9548e71bb783": {
      "model_module": "@jupyter-widgets/base",
      "model_module_version": "1.2.0",
      "model_name": "LayoutModel",
      "state": {}
     },
     "93d58084ac804cbe93762e3d49f909b6": {
      "model_module": "@jupyter-widgets/controls",
      "model_module_version": "1.5.0",
      "model_name": "IntProgressModel",
      "state": {
       "description": "Processing: ",
       "layout": "IPY_MODEL_379ae64d79ba4e5eb105aff54a88ccd5",
       "max": 4,
       "style": "IPY_MODEL_91384f83997a40989067f97b2a15c999",
       "value": 4
      }
     },
     "95ef5bf7c10d49e3abc6007441890ba5": {
      "model_module": "@jupyter-widgets/controls",
      "model_module_version": "1.5.0",
      "model_name": "IntProgressModel",
      "state": {
       "description": "Processing: ",
       "layout": "IPY_MODEL_aa6d72bec06047ed9817f7e9edb5ddea",
       "max": 870,
       "style": "IPY_MODEL_c40dc93f165442c495c677db4987a53b",
       "value": 870
      }
     },
     "95f3e31f5349418db0ea0938aa4c8222": {
      "model_module": "@jupyter-widgets/controls",
      "model_module_version": "1.5.0",
      "model_name": "ProgressStyleModel",
      "state": {
       "description_width": ""
      }
     },
     "96f8fd9dded14f198991a160b4ce8f0e": {
      "model_module": "@jupyter-widgets/base",
      "model_module_version": "1.2.0",
      "model_name": "LayoutModel",
      "state": {}
     },
     "97e9ddff3e324cafbe45798124f3620f": {
      "model_module": "@jupyter-widgets/controls",
      "model_module_version": "1.5.0",
      "model_name": "ProgressStyleModel",
      "state": {
       "description_width": ""
      }
     },
     "98ec7b2109b443cd830023b2284e5337": {
      "model_module": "@jupyter-widgets/controls",
      "model_module_version": "1.5.0",
      "model_name": "DescriptionStyleModel",
      "state": {
       "description_width": ""
      }
     },
     "9a4c8b08486a40eeaa9253f434a0601e": {
      "model_module": "@jupyter-widgets/controls",
      "model_module_version": "1.5.0",
      "model_name": "IntProgressModel",
      "state": {
       "description": "Processing: ",
       "layout": "IPY_MODEL_be2c764e2e784646825313c7e654e5ba",
       "max": 48,
       "style": "IPY_MODEL_70c00a1bfdac47bab63eb7884d8f47ba",
       "value": 48
      }
     },
     "9aabb3b829874b058fd783f5e9b3d23c": {
      "model_module": "@jupyter-widgets/controls",
      "model_module_version": "1.5.0",
      "model_name": "IntProgressModel",
      "state": {
       "description": "Processing: ",
       "layout": "IPY_MODEL_0b344abf71a24150aa935a7f913cbea4",
       "max": 48,
       "style": "IPY_MODEL_7f76dc59fe0f4871a34e98099e7bf624",
       "value": 48
      }
     },
     "9b64f8fc10254320baddc9ed31f2b5f6": {
      "model_module": "@jupyter-widgets/controls",
      "model_module_version": "1.5.0",
      "model_name": "IntProgressModel",
      "state": {
       "description": "Processing: ",
       "layout": "IPY_MODEL_1c9056f33a1a44b480d6146ec57c5394",
       "max": 4,
       "style": "IPY_MODEL_b9a0c6615ef04ac495bb438fa8117d0c",
       "value": 4
      }
     },
     "9c4378f7d73c44c79a71e9357098d2d3": {
      "model_module": "@jupyter-widgets/controls",
      "model_module_version": "1.5.0",
      "model_name": "ProgressStyleModel",
      "state": {
       "description_width": ""
      }
     },
     "9c60033ee0d74e949a5e8bbb2ad1aca6": {
      "model_module": "@jupyter-widgets/controls",
      "model_module_version": "1.5.0",
      "model_name": "ProgressStyleModel",
      "state": {
       "description_width": ""
      }
     },
     "9dc261eb9a4e494586ff942cfe9e6f98": {
      "model_module": "@jupyter-widgets/controls",
      "model_module_version": "1.5.0",
      "model_name": "VBoxModel",
      "state": {
       "_dom_classes": [
        "widget-interact"
       ],
       "children": [
        "IPY_MODEL_dda1594c70a342a5b6b0748ea00dd659",
        "IPY_MODEL_69bb7f060370468ab969885a393bc713",
        "IPY_MODEL_0ca41fee96084ec6b860c2c557524953",
        "IPY_MODEL_ef7bc8a5ff5a4641b8b745d7b49cb773"
       ],
       "layout": "IPY_MODEL_58831f023c5b497e919aff6f4eb8a4a5"
      }
     },
     "9e372dc8d8dd4332b410424cc92f84c5": {
      "model_module": "@jupyter-widgets/controls",
      "model_module_version": "1.5.0",
      "model_name": "ProgressStyleModel",
      "state": {
       "description_width": ""
      }
     },
     "9e6d802bfa104586a25109d50ceff98d": {
      "model_module": "@jupyter-widgets/controls",
      "model_module_version": "1.5.0",
      "model_name": "ProgressStyleModel",
      "state": {
       "description_width": ""
      }
     },
     "9ef43e6e7e114d4784803f678f08a6c2": {
      "model_module": "@jupyter-widgets/controls",
      "model_module_version": "1.5.0",
      "model_name": "IntProgressModel",
      "state": {
       "description": "Processing: ",
       "layout": "IPY_MODEL_93acdd56af924feda1fa9548e71bb783",
       "max": 4,
       "style": "IPY_MODEL_fdc6a6ef75b44c73a1349f2dd0d7348a",
       "value": 4
      }
     },
     "9f25d12341b64552868de4dabd7bb506": {
      "model_module": "@jupyter-widgets/base",
      "model_module_version": "1.2.0",
      "model_name": "LayoutModel",
      "state": {}
     },
     "9f4d9978372844b092eb142c012eb461": {
      "model_module": "@jupyter-widgets/base",
      "model_module_version": "1.2.0",
      "model_name": "LayoutModel",
      "state": {}
     },
     "9faa55c9b02641e6abb0471247a2af53": {
      "model_module": "@jupyter-widgets/controls",
      "model_module_version": "1.5.0",
      "model_name": "ProgressStyleModel",
      "state": {
       "description_width": ""
      }
     },
     "a258c0286fa0415d818d3992c5c8338f": {
      "model_module": "@jupyter-widgets/controls",
      "model_module_version": "1.5.0",
      "model_name": "IntProgressModel",
      "state": {
       "description": "Processing: ",
       "layout": "IPY_MODEL_fae045083bb24cc5b7d9651f5abf55fd",
       "max": 4,
       "style": "IPY_MODEL_be2a7d4439384344931597cb08b5d5d5",
       "value": 4
      }
     },
     "a26c19ef5e91416490b0d2ef8b50537d": {
      "model_module": "@jupyter-widgets/output",
      "model_module_version": "1.0.0",
      "model_name": "OutputModel",
      "state": {
       "layout": "IPY_MODEL_4e3242bd35ff4ec681ee4cacddc4c182"
      }
     },
     "a3319ec54e0d41f382217ed7648b4abb": {
      "model_module": "@jupyter-widgets/controls",
      "model_module_version": "1.5.0",
      "model_name": "IntProgressModel",
      "state": {
       "description": "Processing: ",
       "layout": "IPY_MODEL_0db6eb636e3846ae9c7311a0242e7c96",
       "max": 48,
       "style": "IPY_MODEL_4e1fdee38f5c468196e169e6a5f7c101",
       "value": 48
      }
     },
     "a34fb008861f46e496add1a395f98c5c": {
      "model_module": "@jupyter-widgets/controls",
      "model_module_version": "1.5.0",
      "model_name": "ProgressStyleModel",
      "state": {
       "description_width": ""
      }
     },
     "a6d7d14e7d2743408312f61026036be1": {
      "model_module": "@jupyter-widgets/controls",
      "model_module_version": "1.5.0",
      "model_name": "ProgressStyleModel",
      "state": {
       "description_width": ""
      }
     },
     "a742a2a945db42c3a75be1bb9b816ab1": {
      "model_module": "@jupyter-widgets/controls",
      "model_module_version": "1.5.0",
      "model_name": "ToggleButtonsStyleModel",
      "state": {
       "button_width": "",
       "description_width": ""
      }
     },
     "a83a1065e8ea46f79cd22b93a05f9934": {
      "model_module": "@jupyter-widgets/base",
      "model_module_version": "1.2.0",
      "model_name": "LayoutModel",
      "state": {}
     },
     "a90a548c760246d6a187aeac60b8d716": {
      "model_module": "@jupyter-widgets/base",
      "model_module_version": "1.2.0",
      "model_name": "LayoutModel",
      "state": {}
     },
     "aa6d72bec06047ed9817f7e9edb5ddea": {
      "model_module": "@jupyter-widgets/base",
      "model_module_version": "1.2.0",
      "model_name": "LayoutModel",
      "state": {}
     },
     "abe072bd93824013b97f90ef499fb6da": {
      "model_module": "@jupyter-widgets/controls",
      "model_module_version": "1.5.0",
      "model_name": "ProgressStyleModel",
      "state": {
       "description_width": ""
      }
     },
     "ac0b46a532c142189c00dd3359f6d926": {
      "model_module": "@jupyter-widgets/controls",
      "model_module_version": "1.5.0",
      "model_name": "ButtonModel",
      "state": {
       "description": "Run Interact",
       "layout": "IPY_MODEL_0764c20174304f3e9df4de4a9740120c",
       "style": "IPY_MODEL_3f46aa5b765141ed92a825ac31204f31"
      }
     },
     "ac9e9ba97f7b4504aa27ec13c58d86d5": {
      "model_module": "@jupyter-widgets/base",
      "model_module_version": "1.2.0",
      "model_name": "LayoutModel",
      "state": {}
     },
     "ad38166a4bbc4532adc419c462abe613": {
      "model_module": "@jupyter-widgets/base",
      "model_module_version": "1.2.0",
      "model_name": "LayoutModel",
      "state": {}
     },
     "ad66ab41138c4307b80b59febd707236": {
      "model_module": "@jupyter-widgets/controls",
      "model_module_version": "1.5.0",
      "model_name": "ProgressStyleModel",
      "state": {
       "description_width": ""
      }
     },
     "ae2910a0461b4c3981e9225276dea5c2": {
      "model_module": "@jupyter-widgets/controls",
      "model_module_version": "1.5.0",
      "model_name": "ProgressStyleModel",
      "state": {
       "description_width": ""
      }
     },
     "b12f0fe4f8064a78850358a93c47c3df": {
      "model_module": "@jupyter-widgets/controls",
      "model_module_version": "1.5.0",
      "model_name": "IntProgressModel",
      "state": {
       "description": "Processing: ",
       "layout": "IPY_MODEL_e71a462d184d4220a6db5d431f1e30fe",
       "max": 870,
       "style": "IPY_MODEL_eed46932d7754328953be4b63dabc209",
       "value": 870
      }
     },
     "b3b7e8dd4298442697da18f77b3df623": {
      "model_module": "@jupyter-widgets/base",
      "model_module_version": "1.2.0",
      "model_name": "LayoutModel",
      "state": {}
     },
     "b40622a8926e4b758efc5c2d4eb5a023": {
      "model_module": "@jupyter-widgets/controls",
      "model_module_version": "1.5.0",
      "model_name": "IntProgressModel",
      "state": {
       "description": "Processing: ",
       "layout": "IPY_MODEL_fa9507c53bc945c38aa156d272a76a16",
       "max": 4,
       "style": "IPY_MODEL_ad66ab41138c4307b80b59febd707236",
       "value": 4
      }
     },
     "b4d0cd19d38e4b5ca3c1387a033125fa": {
      "model_module": "@jupyter-widgets/controls",
      "model_module_version": "1.5.0",
      "model_name": "IntProgressModel",
      "state": {
       "description": "Processing: ",
       "layout": "IPY_MODEL_745fc4e908784fe492b489c290b04246",
       "max": 870,
       "style": "IPY_MODEL_161d3ee7408a4de3b183655f24ccb534",
       "value": 870
      }
     },
     "b59b355d0c0f4ba884effbba76f430bf": {
      "model_module": "@jupyter-widgets/controls",
      "model_module_version": "1.5.0",
      "model_name": "IntProgressModel",
      "state": {
       "description": "Processing: ",
       "layout": "IPY_MODEL_09875ed6ea6648dfaf28dd3ba9e100dd",
       "max": 870,
       "style": "IPY_MODEL_bed8fc24103f4a2195eab281246524c9",
       "value": 870
      }
     },
     "b5f457b1a3de46378621c4dada36ceab": {
      "model_module": "@jupyter-widgets/base",
      "model_module_version": "1.2.0",
      "model_name": "LayoutModel",
      "state": {}
     },
     "b5f64572a64b4acd92ff3f379a591cbf": {
      "model_module": "@jupyter-widgets/base",
      "model_module_version": "1.2.0",
      "model_name": "LayoutModel",
      "state": {}
     },
     "b60e569c302f4aed9a592d920bb1d704": {
      "model_module": "@jupyter-widgets/controls",
      "model_module_version": "1.5.0",
      "model_name": "DropdownModel",
      "state": {
       "_options_labels": [
        "Topic 0",
        "Topic 1",
        "Topic 2",
        "Topic 3"
       ],
       "description": "Topic #:",
       "index": 2,
       "layout": "IPY_MODEL_8b04a0dfd25a4ae8b9db2d90479cf22c",
       "style": "IPY_MODEL_98ec7b2109b443cd830023b2284e5337"
      }
     },
     "b759bbd0fe404138801ea7e21a5a11f5": {
      "model_module": "@jupyter-widgets/controls",
      "model_module_version": "1.5.0",
      "model_name": "IntProgressModel",
      "state": {
       "description": "Processing: ",
       "layout": "IPY_MODEL_84430717888d4c71a53354d53ab75469",
       "max": 4,
       "style": "IPY_MODEL_1cd42b32b75a46dcaeea4756c5638425",
       "value": 4
      }
     },
     "b7ee6a23727d4f128a27c5424cfa14bd": {
      "model_module": "@jupyter-widgets/controls",
      "model_module_version": "1.5.0",
      "model_name": "ToggleButtonsModel",
      "state": {
       "_options_labels": [
        "Frequency Plot",
        "Bigrams",
        "Trigrams",
        "Sentiment Polarity",
        "Word Cloud"
       ],
       "button_style": "",
       "description": "Plot Type:",
       "icons": [
        ""
       ],
       "index": 1,
       "layout": "IPY_MODEL_8003fd95dc824071acdbe35c3483e10b",
       "style": "IPY_MODEL_806b8881c83940ddbaa76483ffdc7f97",
       "tooltips": []
      }
     },
     "b97fc926337941f882e40c70b1f6d86a": {
      "model_module": "@jupyter-widgets/base",
      "model_module_version": "1.2.0",
      "model_name": "LayoutModel",
      "state": {}
     },
     "b9a0c6615ef04ac495bb438fa8117d0c": {
      "model_module": "@jupyter-widgets/controls",
      "model_module_version": "1.5.0",
      "model_name": "ProgressStyleModel",
      "state": {
       "description_width": ""
      }
     },
     "ba2240e1c94a478cb4a761e40d0958b0": {
      "model_module": "@jupyter-widgets/controls",
      "model_module_version": "1.5.0",
      "model_name": "ProgressStyleModel",
      "state": {
       "description_width": ""
      }
     },
     "bc73140e8d064bf7b2f2e0ab84454788": {
      "model_module": "@jupyter-widgets/base",
      "model_module_version": "1.2.0",
      "model_name": "LayoutModel",
      "state": {}
     },
     "be2a7d4439384344931597cb08b5d5d5": {
      "model_module": "@jupyter-widgets/controls",
      "model_module_version": "1.5.0",
      "model_name": "ProgressStyleModel",
      "state": {
       "description_width": ""
      }
     },
     "be2c764e2e784646825313c7e654e5ba": {
      "model_module": "@jupyter-widgets/base",
      "model_module_version": "1.2.0",
      "model_name": "LayoutModel",
      "state": {}
     },
     "bed8fc24103f4a2195eab281246524c9": {
      "model_module": "@jupyter-widgets/controls",
      "model_module_version": "1.5.0",
      "model_name": "ProgressStyleModel",
      "state": {
       "description_width": ""
      }
     },
     "bf25e802d4f34cbd8a1157570c911d56": {
      "model_module": "@jupyter-widgets/controls",
      "model_module_version": "1.5.0",
      "model_name": "ProgressStyleModel",
      "state": {
       "description_width": ""
      }
     },
     "bfc1b4483bbd4920bb9befdaad7be39d": {
      "model_module": "@jupyter-widgets/controls",
      "model_module_version": "1.5.0",
      "model_name": "IntProgressModel",
      "state": {
       "description": "Processing: ",
       "layout": "IPY_MODEL_ad38166a4bbc4532adc419c462abe613",
       "max": 11,
       "style": "IPY_MODEL_8f1efb22dc584147b5cfa796e614d5e4",
       "value": 11
      }
     },
     "c0742be887a24fa080baf6d23b1ebe30": {
      "model_module": "@jupyter-widgets/base",
      "model_module_version": "1.2.0",
      "model_name": "LayoutModel",
      "state": {}
     },
     "c19dd1e299d540e6b565a1ce24abb292": {
      "model_module": "@jupyter-widgets/base",
      "model_module_version": "1.2.0",
      "model_name": "LayoutModel",
      "state": {}
     },
     "c2ef8b2e41dc4f2cbb808cb0ed3203b4": {
      "model_module": "@jupyter-widgets/controls",
      "model_module_version": "1.5.0",
      "model_name": "IntProgressModel",
      "state": {
       "description": "Processing: ",
       "layout": "IPY_MODEL_7a1376c322984f3dba0280748cca767c",
       "max": 48,
       "style": "IPY_MODEL_a6d7d14e7d2743408312f61026036be1",
       "value": 48
      }
     },
     "c36c5f6e93d24320b9c334cd7da8e437": {
      "model_module": "@jupyter-widgets/controls",
      "model_module_version": "1.5.0",
      "model_name": "ProgressStyleModel",
      "state": {
       "description_width": ""
      }
     },
     "c40dc93f165442c495c677db4987a53b": {
      "model_module": "@jupyter-widgets/controls",
      "model_module_version": "1.5.0",
      "model_name": "ProgressStyleModel",
      "state": {
       "description_width": ""
      }
     },
     "c45c5a4d34b4456884f58bb925af73f9": {
      "model_module": "@jupyter-widgets/base",
      "model_module_version": "1.2.0",
      "model_name": "LayoutModel",
      "state": {}
     },
     "c63cc2709e25419ba3e5761d63e6fb55": {
      "model_module": "@jupyter-widgets/output",
      "model_module_version": "1.0.0",
      "model_name": "OutputModel",
      "state": {
       "layout": "IPY_MODEL_3b43b69302be48c1b7fe3f6c01b6050e"
      }
     },
     "c79e454527a64401b237c45c4231ec24": {
      "model_module": "@jupyter-widgets/controls",
      "model_module_version": "1.5.0",
      "model_name": "IntProgressModel",
      "state": {
       "description": "Processing: ",
       "layout": "IPY_MODEL_84fc731fdbef457a939c9ececba04239",
       "max": 4,
       "style": "IPY_MODEL_95f3e31f5349418db0ea0938aa4c8222",
       "value": 4
      }
     },
     "c7d2734dbf3f49eeaf3de24042d97c77": {
      "model_module": "@jupyter-widgets/controls",
      "model_module_version": "1.5.0",
      "model_name": "ProgressStyleModel",
      "state": {
       "description_width": ""
      }
     },
     "c8eb4149d7a842dba0f40facbad1d89f": {
      "model_module": "@jupyter-widgets/base",
      "model_module_version": "1.2.0",
      "model_name": "LayoutModel",
      "state": {}
     },
     "c91c721a80904f2684bd850d3c26168c": {
      "model_module": "@jupyter-widgets/controls",
      "model_module_version": "1.5.0",
      "model_name": "IntProgressModel",
      "state": {
       "description": "Processing: ",
       "layout": "IPY_MODEL_d16466eaa6694e2a993022747b22abc0",
       "max": 4,
       "style": "IPY_MODEL_f998f6135090423c9f6adcabdd644be7",
       "value": 4
      }
     },
     "c94240c41acb4685a37cdf7f48cfe378": {
      "model_module": "@jupyter-widgets/controls",
      "model_module_version": "1.5.0",
      "model_name": "ProgressStyleModel",
      "state": {
       "description_width": ""
      }
     },
     "c9fa692b3c754ae18c158343025e9403": {
      "model_module": "@jupyter-widgets/controls",
      "model_module_version": "1.5.0",
      "model_name": "IntProgressModel",
      "state": {
       "description": "Processing: ",
       "layout": "IPY_MODEL_b5f457b1a3de46378621c4dada36ceab",
       "max": 4,
       "style": "IPY_MODEL_3acab8a540094d4098b78789d04c32ee",
       "value": 4
      }
     },
     "caa659819c434f14a218de71ea5e9920": {
      "model_module": "@jupyter-widgets/controls",
      "model_module_version": "1.5.0",
      "model_name": "ProgressStyleModel",
      "state": {
       "description_width": ""
      }
     },
     "cd45fc8852c0463bbedf71ef72c5aba5": {
      "model_module": "@jupyter-widgets/controls",
      "model_module_version": "1.5.0",
      "model_name": "IntProgressModel",
      "state": {
       "description": "Processing: ",
       "layout": "IPY_MODEL_86672c973c42441ebc1b07345926a549",
       "max": 4,
       "style": "IPY_MODEL_e87fb1343ae74d24a185c6b74a6ad89a",
       "value": 4
      }
     },
     "cdf17ecba82143e5a3e9de5fecc3a1ff": {
      "model_module": "@jupyter-widgets/controls",
      "model_module_version": "1.5.0",
      "model_name": "ProgressStyleModel",
      "state": {
       "description_width": ""
      }
     },
     "cdf2b8f2e6f14919aa8e23a8a3a02d2f": {
      "model_module": "@jupyter-widgets/controls",
      "model_module_version": "1.5.0",
      "model_name": "IntProgressModel",
      "state": {
       "description": "Processing: ",
       "layout": "IPY_MODEL_c0742be887a24fa080baf6d23b1ebe30",
       "max": 870,
       "style": "IPY_MODEL_9faa55c9b02641e6abb0471247a2af53",
       "value": 870
      }
     },
     "cf112e01e4634908840880db4337a1b6": {
      "model_module": "@jupyter-widgets/controls",
      "model_module_version": "1.5.0",
      "model_name": "IntProgressModel",
      "state": {
       "description": "Processing: ",
       "layout": "IPY_MODEL_35edcc52f9ab42fe9998f1f225424eaf",
       "max": 4,
       "style": "IPY_MODEL_1710c717bd8445f3a5810ec5bd6f44cb",
       "value": 4
      }
     },
     "cf980fd03b41494883574b8be5f315d9": {
      "model_module": "@jupyter-widgets/controls",
      "model_module_version": "1.5.0",
      "model_name": "ProgressStyleModel",
      "state": {
       "description_width": ""
      }
     },
     "cfd6c3e72cf74c52a810a8e192033337": {
      "model_module": "@jupyter-widgets/base",
      "model_module_version": "1.2.0",
      "model_name": "LayoutModel",
      "state": {}
     },
     "d03d1c65475a46e7b028e243ac822384": {
      "model_module": "@jupyter-widgets/controls",
      "model_module_version": "1.5.0",
      "model_name": "DescriptionStyleModel",
      "state": {
       "description_width": ""
      }
     },
     "d1261151d6a241c2be4de1ba33f52b2a": {
      "model_module": "@jupyter-widgets/base",
      "model_module_version": "1.2.0",
      "model_name": "LayoutModel",
      "state": {}
     },
     "d16466eaa6694e2a993022747b22abc0": {
      "model_module": "@jupyter-widgets/base",
      "model_module_version": "1.2.0",
      "model_name": "LayoutModel",
      "state": {}
     },
     "d1fccbfe4ee44d3e966860acc4854a60": {
      "model_module": "@jupyter-widgets/controls",
      "model_module_version": "1.5.0",
      "model_name": "ProgressStyleModel",
      "state": {
       "description_width": ""
      }
     },
     "d2aabbfda6494143b42c40dc46625599": {
      "model_module": "@jupyter-widgets/base",
      "model_module_version": "1.2.0",
      "model_name": "LayoutModel",
      "state": {}
     },
     "d4aa91fdb15c4bbeb5e9be34d4e36a75": {
      "model_module": "@jupyter-widgets/controls",
      "model_module_version": "1.5.0",
      "model_name": "IntProgressModel",
      "state": {
       "description": "Processing: ",
       "layout": "IPY_MODEL_cfd6c3e72cf74c52a810a8e192033337",
       "max": 48,
       "style": "IPY_MODEL_26f02ce620224ea8a80f62d026ec1419",
       "value": 48
      }
     },
     "d63697bfc5fe40f1946b1f0fafd0982a": {
      "model_module": "@jupyter-widgets/base",
      "model_module_version": "1.2.0",
      "model_name": "LayoutModel",
      "state": {}
     },
     "d82d000f5f9c42d18dfac2c0111a3417": {
      "model_module": "@jupyter-widgets/controls",
      "model_module_version": "1.5.0",
      "model_name": "IntProgressModel",
      "state": {
       "description": "Processing: ",
       "layout": "IPY_MODEL_14e074f71fd342fca47034ca4a825b51",
       "max": 870,
       "style": "IPY_MODEL_9e372dc8d8dd4332b410424cc92f84c5",
       "value": 870
      }
     },
     "d98f2d36d1b84e52b93b739c11af5bba": {
      "model_module": "@jupyter-widgets/controls",
      "model_module_version": "1.5.0",
      "model_name": "IntProgressModel",
      "state": {
       "description": "Processing: ",
       "layout": "IPY_MODEL_fe7cffdc36954cb688f49536930c7e11",
       "max": 870,
       "style": "IPY_MODEL_fdd91b2e5fb84437a70dd6b50c6c9eee",
       "value": 870
      }
     },
     "dda1594c70a342a5b6b0748ea00dd659": {
      "model_module": "@jupyter-widgets/controls",
      "model_module_version": "1.5.0",
      "model_name": "ToggleButtonsModel",
      "state": {
       "_options_labels": [
        "Frequency Plot",
        "Bigrams",
        "Trigrams",
        "Sentiment Polarity",
        "Word Cloud"
       ],
       "button_style": "",
       "description": "Plot Type:",
       "icons": [
        ""
       ],
       "index": 0,
       "layout": "IPY_MODEL_3a8cd6d206e444258351efc0bcae2d1d",
       "style": "IPY_MODEL_704ea141a5074eaa83f67d44f98d2c0b",
       "tooltips": []
      }
     },
     "de9e45298c6146c192cd25d0f087722b": {
      "model_module": "@jupyter-widgets/controls",
      "model_module_version": "1.5.0",
      "model_name": "ProgressStyleModel",
      "state": {
       "description_width": ""
      }
     },
     "df6710eb9bd64e1399f6eb85417e19bc": {
      "model_module": "@jupyter-widgets/base",
      "model_module_version": "1.2.0",
      "model_name": "LayoutModel",
      "state": {}
     },
     "e08b19f5eb244d1db0b11de26a4f32c2": {
      "model_module": "@jupyter-widgets/base",
      "model_module_version": "1.2.0",
      "model_name": "LayoutModel",
      "state": {}
     },
     "e3cae36ab6d443e6bf117d901b58f5d5": {
      "model_module": "@jupyter-widgets/base",
      "model_module_version": "1.2.0",
      "model_name": "LayoutModel",
      "state": {}
     },
     "e5f43c05ab66450d9111641e6985360b": {
      "model_module": "@jupyter-widgets/base",
      "model_module_version": "1.2.0",
      "model_name": "LayoutModel",
      "state": {}
     },
     "e6faccfc6fd544afa2637f5003bf7d9a": {
      "model_module": "@jupyter-widgets/controls",
      "model_module_version": "1.5.0",
      "model_name": "ProgressStyleModel",
      "state": {
       "description_width": ""
      }
     },
     "e71a462d184d4220a6db5d431f1e30fe": {
      "model_module": "@jupyter-widgets/base",
      "model_module_version": "1.2.0",
      "model_name": "LayoutModel",
      "state": {}
     },
     "e7f5ce9ac4454dd59223feb29de9f4f0": {
      "model_module": "@jupyter-widgets/controls",
      "model_module_version": "1.5.0",
      "model_name": "ProgressStyleModel",
      "state": {
       "description_width": ""
      }
     },
     "e804e8b8e49742c7b794eb645e9cfbb7": {
      "model_module": "@jupyter-widgets/controls",
      "model_module_version": "1.5.0",
      "model_name": "ButtonStyleModel",
      "state": {}
     },
     "e87fb1343ae74d24a185c6b74a6ad89a": {
      "model_module": "@jupyter-widgets/controls",
      "model_module_version": "1.5.0",
      "model_name": "ProgressStyleModel",
      "state": {
       "description_width": ""
      }
     },
     "ea9cafbe17334322a6646de324d3464d": {
      "model_module": "@jupyter-widgets/controls",
      "model_module_version": "1.5.0",
      "model_name": "DropdownModel",
      "state": {
       "_options_labels": [
        "Topic 0",
        "Topic 1",
        "Topic 2",
        "Topic 3",
        "Topic 4",
        "Topic 5",
        "Topic 6",
        "Topic 7",
        "Topic 8",
        "Topic 9"
       ],
       "description": "Topic #:",
       "index": 0,
       "layout": "IPY_MODEL_423bc887d5c74b828758d8bde8648171",
       "style": "IPY_MODEL_011d55cba1d2424b9b3535f3f6304d6a"
      }
     },
     "ebc411cffcd441f08ebce6e23bb4561b": {
      "model_module": "@jupyter-widgets/controls",
      "model_module_version": "1.5.0",
      "model_name": "ProgressStyleModel",
      "state": {
       "description_width": ""
      }
     },
     "ec0a7fed5165484799f14f346a99efff": {
      "model_module": "@jupyter-widgets/controls",
      "model_module_version": "1.5.0",
      "model_name": "IntProgressModel",
      "state": {
       "description": "Processing: ",
       "layout": "IPY_MODEL_ac9e9ba97f7b4504aa27ec13c58d86d5",
       "max": 870,
       "style": "IPY_MODEL_5f1dad62fcbe45caac6444f661f27d10",
       "value": 870
      }
     },
     "ec27026dd7434ab3a8fd3300a6f6c0df": {
      "model_module": "@jupyter-widgets/base",
      "model_module_version": "1.2.0",
      "model_name": "LayoutModel",
      "state": {}
     },
     "ec2ee32df4b34e6d91cb958ada69ae44": {
      "model_module": "@jupyter-widgets/base",
      "model_module_version": "1.2.0",
      "model_name": "LayoutModel",
      "state": {}
     },
     "ed35519ca52f4fd795e8c6cce2a7e233": {
      "model_module": "@jupyter-widgets/controls",
      "model_module_version": "1.5.0",
      "model_name": "ProgressStyleModel",
      "state": {
       "description_width": ""
      }
     },
     "ed6c19d2b9dd4d0cb71431f7aa30934c": {
      "model_module": "@jupyter-widgets/controls",
      "model_module_version": "1.5.0",
      "model_name": "ButtonStyleModel",
      "state": {}
     },
     "edee030403c44930b0c7622bb17ca79e": {
      "model_module": "@jupyter-widgets/controls",
      "model_module_version": "1.5.0",
      "model_name": "IntProgressModel",
      "state": {
       "description": "Processing: ",
       "layout": "IPY_MODEL_125c99e83f704685bfb89f907ade2fa7",
       "max": 870,
       "style": "IPY_MODEL_62077375abdf48e28987780b10e7d2da",
       "value": 870
      }
     },
     "eed46932d7754328953be4b63dabc209": {
      "model_module": "@jupyter-widgets/controls",
      "model_module_version": "1.5.0",
      "model_name": "ProgressStyleModel",
      "state": {
       "description_width": ""
      }
     },
     "ef033c789c0a4cbfa0cd93802fe28e76": {
      "model_module": "@jupyter-widgets/controls",
      "model_module_version": "1.5.0",
      "model_name": "IntProgressModel",
      "state": {
       "description": "Processing: ",
       "layout": "IPY_MODEL_0373170d28414abead8ee7b1e80ca1e1",
       "max": 48,
       "style": "IPY_MODEL_abe072bd93824013b97f90ef499fb6da",
       "value": 48
      }
     },
     "ef3e23835aa14ee99e95326fc0ca375f": {
      "model_module": "@jupyter-widgets/controls",
      "model_module_version": "1.5.0",
      "model_name": "ProgressStyleModel",
      "state": {
       "description_width": ""
      }
     },
     "ef40aec45187478aa8cae74cea8a52c7": {
      "model_module": "@jupyter-widgets/controls",
      "model_module_version": "1.5.0",
      "model_name": "IntProgressModel",
      "state": {
       "description": "Processing: ",
       "layout": "IPY_MODEL_66a25303bbe84b82b97f0a28a1667233",
       "max": 4,
       "style": "IPY_MODEL_de9e45298c6146c192cd25d0f087722b",
       "value": 4
      }
     },
     "ef7bc8a5ff5a4641b8b745d7b49cb773": {
      "model_module": "@jupyter-widgets/output",
      "model_module_version": "1.0.0",
      "model_name": "OutputModel",
      "state": {
       "layout": "IPY_MODEL_c8eb4149d7a842dba0f40facbad1d89f",
       "outputs": [
        {
         "data": {
          "text/html": "        <script type=\"text/javascript\">\n        window.PlotlyConfig = {MathJaxConfig: 'local'};\n        if (window.MathJax) {MathJax.Hub.Config({SVG: {font: \"STIX-Web\"}});}\n        if (typeof require !== 'undefined') {\n        require.undef(\"plotly\");\n        requirejs.config({\n            paths: {\n                'plotly': ['https://cdn.plot.ly/plotly-latest.min']\n            }\n        });\n        require(['plotly'], function(Plotly) {\n            window._Plotly = Plotly;\n        });\n        }\n        </script>\n        "
         },
         "metadata": {},
         "output_type": "display_data"
        },
        {
         "ename": "SystemExit",
         "evalue": "(Value Error): Invalid topic_num param or empty Vocab. Try changing Topic Number.",
         "output_type": "error",
         "traceback": [
          "\u001b[1;31m---------------------------------------------------------------------------\u001b[0m",
          "\u001b[1;31mValueError\u001b[0m                                Traceback (most recent call last)",
          "\u001b[1;32m~\\AppData\\Roaming\\Python\\Python37\\site-packages\\pycaret\\nlp.py\u001b[0m in \u001b[0;36mplot_model\u001b[1;34m(model, plot, topic_num, save, system)\u001b[0m\n\u001b[0;32m   1838\u001b[0m                 \u001b[0mfiltered_df\u001b[0m \u001b[1;33m=\u001b[0m \u001b[0massigned_df\u001b[0m\u001b[1;33m.\u001b[0m\u001b[0mloc\u001b[0m\u001b[1;33m[\u001b[0m\u001b[0massigned_df\u001b[0m\u001b[1;33m[\u001b[0m\u001b[1;34m'Dominant_Topic'\u001b[0m\u001b[1;33m]\u001b[0m \u001b[1;33m==\u001b[0m \u001b[0mtopic_num\u001b[0m\u001b[1;33m]\u001b[0m\u001b[1;33m\u001b[0m\u001b[1;33m\u001b[0m\u001b[0m\n\u001b[1;32m-> 1839\u001b[1;33m                 \u001b[0mcommon_words\u001b[0m \u001b[1;33m=\u001b[0m \u001b[0mget_top_n_words\u001b[0m\u001b[1;33m(\u001b[0m\u001b[0mfiltered_df\u001b[0m\u001b[1;33m[\u001b[0m\u001b[0mtarget_\u001b[0m\u001b[1;33m]\u001b[0m\u001b[1;33m,\u001b[0m \u001b[0mn\u001b[0m\u001b[1;33m=\u001b[0m\u001b[1;36m100\u001b[0m\u001b[1;33m)\u001b[0m\u001b[1;33m\u001b[0m\u001b[1;33m\u001b[0m\u001b[0m\n\u001b[0m\u001b[0;32m   1840\u001b[0m                 \u001b[0mdf2\u001b[0m \u001b[1;33m=\u001b[0m \u001b[0mpd\u001b[0m\u001b[1;33m.\u001b[0m\u001b[0mDataFrame\u001b[0m\u001b[1;33m(\u001b[0m\u001b[0mcommon_words\u001b[0m\u001b[1;33m,\u001b[0m \u001b[0mcolumns\u001b[0m \u001b[1;33m=\u001b[0m \u001b[1;33m[\u001b[0m\u001b[1;34m'Text'\u001b[0m \u001b[1;33m,\u001b[0m \u001b[1;34m'count'\u001b[0m\u001b[1;33m]\u001b[0m\u001b[1;33m)\u001b[0m\u001b[1;33m\u001b[0m\u001b[1;33m\u001b[0m\u001b[0m\n",
          "\u001b[1;32m~\\AppData\\Roaming\\Python\\Python37\\site-packages\\pycaret\\nlp.py\u001b[0m in \u001b[0;36mget_top_n_words\u001b[1;34m(corpus, n)\u001b[0m\n\u001b[0;32m   1816\u001b[0m                 \u001b[0mlogger\u001b[0m\u001b[1;33m.\u001b[0m\u001b[0minfo\u001b[0m\u001b[1;33m(\u001b[0m\u001b[1;34m\"Fitting CountVectorizer()\"\u001b[0m\u001b[1;33m)\u001b[0m\u001b[1;33m\u001b[0m\u001b[1;33m\u001b[0m\u001b[0m\n\u001b[1;32m-> 1817\u001b[1;33m                 \u001b[0mbag_of_words\u001b[0m \u001b[1;33m=\u001b[0m \u001b[0mvec\u001b[0m\u001b[1;33m.\u001b[0m\u001b[0mfit_transform\u001b[0m\u001b[1;33m(\u001b[0m\u001b[0mcorpus\u001b[0m\u001b[1;33m)\u001b[0m\u001b[1;33m\u001b[0m\u001b[1;33m\u001b[0m\u001b[0m\n\u001b[0m\u001b[0;32m   1818\u001b[0m                 \u001b[0msum_words\u001b[0m \u001b[1;33m=\u001b[0m \u001b[0mbag_of_words\u001b[0m\u001b[1;33m.\u001b[0m\u001b[0msum\u001b[0m\u001b[1;33m(\u001b[0m\u001b[0maxis\u001b[0m\u001b[1;33m=\u001b[0m\u001b[1;36m0\u001b[0m\u001b[1;33m)\u001b[0m\u001b[1;33m\u001b[0m\u001b[1;33m\u001b[0m\u001b[0m\n",
          "\u001b[1;32m~\\Anaconda3\\lib\\site-packages\\sklearn\\feature_extraction\\text.py\u001b[0m in \u001b[0;36mfit_transform\u001b[1;34m(self, raw_documents, y)\u001b[0m\n\u001b[0;32m   1198\u001b[0m         vocabulary, X = self._count_vocab(raw_documents,\n\u001b[1;32m-> 1199\u001b[1;33m                                           self.fixed_vocabulary_)\n\u001b[0m\u001b[0;32m   1200\u001b[0m \u001b[1;33m\u001b[0m\u001b[0m\n",
          "\u001b[1;32m~\\Anaconda3\\lib\\site-packages\\sklearn\\feature_extraction\\text.py\u001b[0m in \u001b[0;36m_count_vocab\u001b[1;34m(self, raw_documents, fixed_vocab)\u001b[0m\n\u001b[0;32m   1128\u001b[0m             \u001b[1;32mif\u001b[0m \u001b[1;32mnot\u001b[0m \u001b[0mvocabulary\u001b[0m\u001b[1;33m:\u001b[0m\u001b[1;33m\u001b[0m\u001b[1;33m\u001b[0m\u001b[0m\n\u001b[1;32m-> 1129\u001b[1;33m                 raise ValueError(\"empty vocabulary; perhaps the documents only\"\n\u001b[0m\u001b[0;32m   1130\u001b[0m                                  \" contain stop words\")\n",
          "\u001b[1;31mValueError\u001b[0m: empty vocabulary; perhaps the documents only contain stop words",
          "\nDuring handling of the above exception, another exception occurred:\n",
          "\u001b[1;31mSystemExit\u001b[0m                                Traceback (most recent call last)",
          "\u001b[1;32m~\\Anaconda3\\lib\\site-packages\\ipywidgets\\widgets\\interaction.py\u001b[0m in \u001b[0;36mupdate\u001b[1;34m(self, *args)\u001b[0m\n\u001b[0;32m    254\u001b[0m                     \u001b[0mvalue\u001b[0m \u001b[1;33m=\u001b[0m \u001b[0mwidget\u001b[0m\u001b[1;33m.\u001b[0m\u001b[0mget_interact_value\u001b[0m\u001b[1;33m(\u001b[0m\u001b[1;33m)\u001b[0m\u001b[1;33m\u001b[0m\u001b[1;33m\u001b[0m\u001b[0m\n\u001b[0;32m    255\u001b[0m                     \u001b[0mself\u001b[0m\u001b[1;33m.\u001b[0m\u001b[0mkwargs\u001b[0m\u001b[1;33m[\u001b[0m\u001b[0mwidget\u001b[0m\u001b[1;33m.\u001b[0m\u001b[0m_kwarg\u001b[0m\u001b[1;33m]\u001b[0m \u001b[1;33m=\u001b[0m \u001b[0mvalue\u001b[0m\u001b[1;33m\u001b[0m\u001b[1;33m\u001b[0m\u001b[0m\n\u001b[1;32m--> 256\u001b[1;33m                 \u001b[0mself\u001b[0m\u001b[1;33m.\u001b[0m\u001b[0mresult\u001b[0m \u001b[1;33m=\u001b[0m \u001b[0mself\u001b[0m\u001b[1;33m.\u001b[0m\u001b[0mf\u001b[0m\u001b[1;33m(\u001b[0m\u001b[1;33m**\u001b[0m\u001b[0mself\u001b[0m\u001b[1;33m.\u001b[0m\u001b[0mkwargs\u001b[0m\u001b[1;33m)\u001b[0m\u001b[1;33m\u001b[0m\u001b[1;33m\u001b[0m\u001b[0m\n\u001b[0m\u001b[0;32m    257\u001b[0m                 \u001b[0mshow_inline_matplotlib_plots\u001b[0m\u001b[1;33m(\u001b[0m\u001b[1;33m)\u001b[0m\u001b[1;33m\u001b[0m\u001b[1;33m\u001b[0m\u001b[0m\n\u001b[0;32m    258\u001b[0m                 \u001b[1;32mif\u001b[0m \u001b[0mself\u001b[0m\u001b[1;33m.\u001b[0m\u001b[0mauto_display\u001b[0m \u001b[1;32mand\u001b[0m \u001b[0mself\u001b[0m\u001b[1;33m.\u001b[0m\u001b[0mresult\u001b[0m \u001b[1;32mis\u001b[0m \u001b[1;32mnot\u001b[0m \u001b[1;32mNone\u001b[0m\u001b[1;33m:\u001b[0m\u001b[1;33m\u001b[0m\u001b[1;33m\u001b[0m\u001b[0m\n",
          "\u001b[1;32m~\\AppData\\Roaming\\Python\\Python37\\site-packages\\pycaret\\nlp.py\u001b[0m in \u001b[0;36mplot_model\u001b[1;34m(model, plot, topic_num, save, system)\u001b[0m\n\u001b[0;32m   1850\u001b[0m         \u001b[1;32mexcept\u001b[0m\u001b[1;33m:\u001b[0m\u001b[1;33m\u001b[0m\u001b[1;33m\u001b[0m\u001b[0m\n\u001b[0;32m   1851\u001b[0m             \u001b[0mlogger\u001b[0m\u001b[1;33m.\u001b[0m\u001b[0mwarning\u001b[0m\u001b[1;33m(\u001b[0m\u001b[1;34m\"Invalid topic_num param or empty Vocab. Try changing Topic Number.\"\u001b[0m\u001b[1;33m)\u001b[0m\u001b[1;33m\u001b[0m\u001b[1;33m\u001b[0m\u001b[0m\n\u001b[1;32m-> 1852\u001b[1;33m             \u001b[0msys\u001b[0m\u001b[1;33m.\u001b[0m\u001b[0mexit\u001b[0m\u001b[1;33m(\u001b[0m\u001b[1;34m'(Value Error): Invalid topic_num param or empty Vocab. Try changing Topic Number.'\u001b[0m\u001b[1;33m)\u001b[0m\u001b[1;33m\u001b[0m\u001b[1;33m\u001b[0m\u001b[0m\n\u001b[0m\u001b[0;32m   1853\u001b[0m \u001b[1;33m\u001b[0m\u001b[0m\n\u001b[0;32m   1854\u001b[0m \u001b[1;33m\u001b[0m\u001b[0m\n",
          "\u001b[1;31mSystemExit\u001b[0m: (Value Error): Invalid topic_num param or empty Vocab. Try changing Topic Number."
         ]
        }
       ]
      }
     },
     "f0aa0b72c5d34fd6b0fdec52b7bc6792": {
      "model_module": "@jupyter-widgets/controls",
      "model_module_version": "1.5.0",
      "model_name": "ToggleButtonsModel",
      "state": {
       "_options_labels": [
        "Frequency Plot",
        "Bigrams",
        "Trigrams",
        "Sentiment Polarity",
        "Word Cloud"
       ],
       "button_style": "",
       "description": "Plot Type:",
       "icons": [
        ""
       ],
       "index": 1,
       "layout": "IPY_MODEL_b5f64572a64b4acd92ff3f379a591cbf",
       "style": "IPY_MODEL_5b6b8326f0a5417d876abb0002f1a002",
       "tooltips": []
      }
     },
     "f18573d6c3f34538a9334ae261aa7425": {
      "model_module": "@jupyter-widgets/controls",
      "model_module_version": "1.5.0",
      "model_name": "IntProgressModel",
      "state": {
       "description": "Processing: ",
       "layout": "IPY_MODEL_80183cf5fe844d7083166c3250f3fcaa",
       "max": 48,
       "style": "IPY_MODEL_5bcb2f51df654e0f8523e33e88d2609f",
       "value": 48
      }
     },
     "f27b48ee4d564e7b961c6cd5cb814990": {
      "model_module": "@jupyter-widgets/controls",
      "model_module_version": "1.5.0",
      "model_name": "IntProgressModel",
      "state": {
       "description": "Processing: ",
       "layout": "IPY_MODEL_57cac375ec6d4fd3b96900dc60fef2aa",
       "max": 48,
       "style": "IPY_MODEL_923076edcc1f4dd1ae098ee1879c5ad2",
       "value": 48
      }
     },
     "f471eca31f6e48c1bd81b6d2d26b8b72": {
      "model_module": "@jupyter-widgets/base",
      "model_module_version": "1.2.0",
      "model_name": "LayoutModel",
      "state": {}
     },
     "f90aba366131435b94408fae809d8109": {
      "model_module": "@jupyter-widgets/base",
      "model_module_version": "1.2.0",
      "model_name": "LayoutModel",
      "state": {}
     },
     "f998f6135090423c9f6adcabdd644be7": {
      "model_module": "@jupyter-widgets/controls",
      "model_module_version": "1.5.0",
      "model_name": "ProgressStyleModel",
      "state": {
       "description_width": ""
      }
     },
     "f99bff09f5564cecb7aac86ee3ba30f0": {
      "model_module": "@jupyter-widgets/base",
      "model_module_version": "1.2.0",
      "model_name": "LayoutModel",
      "state": {}
     },
     "f9a5a98739fa4ba6a81df3a08ed82c5a": {
      "model_module": "@jupyter-widgets/controls",
      "model_module_version": "1.5.0",
      "model_name": "ButtonStyleModel",
      "state": {}
     },
     "fa30d12576524391bd1a84daf0e5e3e2": {
      "model_module": "@jupyter-widgets/controls",
      "model_module_version": "1.5.0",
      "model_name": "DescriptionStyleModel",
      "state": {
       "description_width": ""
      }
     },
     "fa9507c53bc945c38aa156d272a76a16": {
      "model_module": "@jupyter-widgets/base",
      "model_module_version": "1.2.0",
      "model_name": "LayoutModel",
      "state": {}
     },
     "fae045083bb24cc5b7d9651f5abf55fd": {
      "model_module": "@jupyter-widgets/base",
      "model_module_version": "1.2.0",
      "model_name": "LayoutModel",
      "state": {}
     },
     "fbc08f74a0834df1ac913e55ca9f491b": {
      "model_module": "@jupyter-widgets/output",
      "model_module_version": "1.0.0",
      "model_name": "OutputModel",
      "state": {
       "layout": "IPY_MODEL_d63697bfc5fe40f1946b1f0fafd0982a"
      }
     },
     "fdc6a6ef75b44c73a1349f2dd0d7348a": {
      "model_module": "@jupyter-widgets/controls",
      "model_module_version": "1.5.0",
      "model_name": "ProgressStyleModel",
      "state": {
       "description_width": ""
      }
     },
     "fdd91b2e5fb84437a70dd6b50c6c9eee": {
      "model_module": "@jupyter-widgets/controls",
      "model_module_version": "1.5.0",
      "model_name": "ProgressStyleModel",
      "state": {
       "description_width": ""
      }
     },
     "fe7cffdc36954cb688f49536930c7e11": {
      "model_module": "@jupyter-widgets/base",
      "model_module_version": "1.2.0",
      "model_name": "LayoutModel",
      "state": {}
     }
    },
    "version_major": 2,
    "version_minor": 0
   }
  }
 },
 "nbformat": 4,
 "nbformat_minor": 2
}
