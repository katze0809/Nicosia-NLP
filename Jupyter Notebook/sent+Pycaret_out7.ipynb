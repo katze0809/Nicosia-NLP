{
 "cells": [
  {
   "cell_type": "code",
   "execution_count": 1,
   "metadata": {},
   "outputs": [],
   "source": [
    "import pandas as pd"
   ]
  },
  {
   "cell_type": "code",
   "execution_count": 2,
   "metadata": {},
   "outputs": [
    {
     "data": {
      "text/html": [
       "<div>\n",
       "<style scoped>\n",
       "    .dataframe tbody tr th:only-of-type {\n",
       "        vertical-align: middle;\n",
       "    }\n",
       "\n",
       "    .dataframe tbody tr th {\n",
       "        vertical-align: top;\n",
       "    }\n",
       "\n",
       "    .dataframe thead th {\n",
       "        text-align: right;\n",
       "    }\n",
       "</style>\n",
       "<table border=\"1\" class=\"dataframe\">\n",
       "  <thead>\n",
       "    <tr style=\"text-align: right;\">\n",
       "      <th></th>\n",
       "      <th>r_points</th>\n",
       "      <th>r_text</th>\n",
       "      <th>place</th>\n",
       "    </tr>\n",
       "  </thead>\n",
       "  <tbody>\n",
       "    <tr>\n",
       "      <th>0</th>\n",
       "      <td>50</td>\n",
       "      <td>Happy customer always.. excellent quality of f...</td>\n",
       "      <td>Cook Shop</td>\n",
       "    </tr>\n",
       "    <tr>\n",
       "      <th>1</th>\n",
       "      <td>50</td>\n",
       "      <td>The food is delicious!! There are various uniq...</td>\n",
       "      <td>Cook Shop</td>\n",
       "    </tr>\n",
       "    <tr>\n",
       "      <th>2</th>\n",
       "      <td>50</td>\n",
       "      <td>The food here is soooo delicious! Yhe waiter r...</td>\n",
       "      <td>Cook Shop</td>\n",
       "    </tr>\n",
       "    <tr>\n",
       "      <th>3</th>\n",
       "      <td>40</td>\n",
       "      <td>I had a business lunch there. Service was real...</td>\n",
       "      <td>Cook Shop</td>\n",
       "    </tr>\n",
       "    <tr>\n",
       "      <th>4</th>\n",
       "      <td>50</td>\n",
       "      <td>We had a great experience! Food was delicious....</td>\n",
       "      <td>Cook Shop</td>\n",
       "    </tr>\n",
       "    <tr>\n",
       "      <th>...</th>\n",
       "      <td>...</td>\n",
       "      <td>...</td>\n",
       "      <td>...</td>\n",
       "    </tr>\n",
       "    <tr>\n",
       "      <th>205</th>\n",
       "      <td>50</td>\n",
       "      <td>Had a great dinner, excellent menu, not too ma...</td>\n",
       "      <td>Cook Shop</td>\n",
       "    </tr>\n",
       "    <tr>\n",
       "      <th>206</th>\n",
       "      <td>50</td>\n",
       "      <td>Excellent homemade bread!! We've had pork chop...</td>\n",
       "      <td>Cook Shop</td>\n",
       "    </tr>\n",
       "    <tr>\n",
       "      <th>207</th>\n",
       "      <td>40</td>\n",
       "      <td>I visited this place three times so far, and p...</td>\n",
       "      <td>Cook Shop</td>\n",
       "    </tr>\n",
       "    <tr>\n",
       "      <th>208</th>\n",
       "      <td>50</td>\n",
       "      <td>I visited The Cookshop with friends who have l...</td>\n",
       "      <td>Cook Shop</td>\n",
       "    </tr>\n",
       "    <tr>\n",
       "      <th>209</th>\n",
       "      <td>40</td>\n",
       "      <td>It's a very nice restaurant with very good foo...</td>\n",
       "      <td>Cook Shop</td>\n",
       "    </tr>\n",
       "  </tbody>\n",
       "</table>\n",
       "<p>210 rows × 3 columns</p>\n",
       "</div>"
      ],
      "text/plain": [
       "     r_points                                             r_text      place\n",
       "0          50  Happy customer always.. excellent quality of f...  Cook Shop\n",
       "1          50  The food is delicious!! There are various uniq...  Cook Shop\n",
       "2          50  The food here is soooo delicious! Yhe waiter r...  Cook Shop\n",
       "3          40  I had a business lunch there. Service was real...  Cook Shop\n",
       "4          50  We had a great experience! Food was delicious....  Cook Shop\n",
       "..        ...                                                ...        ...\n",
       "205        50  Had a great dinner, excellent menu, not too ma...  Cook Shop\n",
       "206        50  Excellent homemade bread!! We've had pork chop...  Cook Shop\n",
       "207        40  I visited this place three times so far, and p...  Cook Shop\n",
       "208        50  I visited The Cookshop with friends who have l...  Cook Shop\n",
       "209        40  It's a very nice restaurant with very good foo...  Cook Shop\n",
       "\n",
       "[210 rows x 3 columns]"
      ]
     },
     "execution_count": 2,
     "metadata": {},
     "output_type": "execute_result"
    }
   ],
   "source": [
    "tripadv_review = pd.read_csv(r'C:\\Users\\Dell\\Desktop\\Restaurant\\Cook Shop.csv', error_bad_lines=False);\n",
    "tripadv_review"
   ]
  },
  {
   "cell_type": "code",
   "execution_count": 3,
   "metadata": {},
   "outputs": [
    {
     "name": "stderr",
     "output_type": "stream",
     "text": [
      "[nltk_data] Downloading package vader_lexicon to\n",
      "[nltk_data]     C:\\Users\\Dell\\AppData\\Roaming\\nltk_data...\n",
      "[nltk_data]   Package vader_lexicon is already up-to-date!\n"
     ]
    }
   ],
   "source": [
    "import nltk\n",
    "nltk.download('vader_lexicon')\n",
    "from nltk.sentiment.vader import SentimentIntensityAnalyzer\n",
    "sent = SentimentIntensityAnalyzer()"
   ]
  },
  {
   "cell_type": "code",
   "execution_count": 4,
   "metadata": {},
   "outputs": [
    {
     "data": {
      "text/plain": [
       "{'neg': 0.0, 'neu': 0.553, 'pos': 0.447, 'compound': 0.8658}"
      ]
     },
     "execution_count": 4,
     "metadata": {},
     "output_type": "execute_result"
    }
   ],
   "source": [
    "sent.polarity_scores(tripadv_review.iloc[0]['r_text'])"
   ]
  },
  {
   "cell_type": "code",
   "execution_count": 6,
   "metadata": {},
   "outputs": [
    {
     "data": {
      "text/html": [
       "<div>\n",
       "<style scoped>\n",
       "    .dataframe tbody tr th:only-of-type {\n",
       "        vertical-align: middle;\n",
       "    }\n",
       "\n",
       "    .dataframe tbody tr th {\n",
       "        vertical-align: top;\n",
       "    }\n",
       "\n",
       "    .dataframe thead th {\n",
       "        text-align: right;\n",
       "    }\n",
       "</style>\n",
       "<table border=\"1\" class=\"dataframe\">\n",
       "  <thead>\n",
       "    <tr style=\"text-align: right;\">\n",
       "      <th></th>\n",
       "      <th>r_points</th>\n",
       "      <th>r_text</th>\n",
       "      <th>place</th>\n",
       "      <th>scores</th>\n",
       "      <th>compound</th>\n",
       "      <th>score</th>\n",
       "    </tr>\n",
       "  </thead>\n",
       "  <tbody>\n",
       "    <tr>\n",
       "      <th>0</th>\n",
       "      <td>50</td>\n",
       "      <td>Happy customer always.. excellent quality of f...</td>\n",
       "      <td>Cook Shop</td>\n",
       "      <td>{'neg': 0.0, 'neu': 0.553, 'pos': 0.447, 'comp...</td>\n",
       "      <td>0.8658</td>\n",
       "      <td>pos</td>\n",
       "    </tr>\n",
       "    <tr>\n",
       "      <th>1</th>\n",
       "      <td>50</td>\n",
       "      <td>The food is delicious!! There are various uniq...</td>\n",
       "      <td>Cook Shop</td>\n",
       "      <td>{'neg': 0.037, 'neu': 0.663, 'pos': 0.3, 'comp...</td>\n",
       "      <td>0.9574</td>\n",
       "      <td>pos</td>\n",
       "    </tr>\n",
       "    <tr>\n",
       "      <th>2</th>\n",
       "      <td>50</td>\n",
       "      <td>The food here is soooo delicious! Yhe waiter r...</td>\n",
       "      <td>Cook Shop</td>\n",
       "      <td>{'neg': 0.0, 'neu': 0.6, 'pos': 0.4, 'compound...</td>\n",
       "      <td>0.9824</td>\n",
       "      <td>pos</td>\n",
       "    </tr>\n",
       "    <tr>\n",
       "      <th>3</th>\n",
       "      <td>40</td>\n",
       "      <td>I had a business lunch there. Service was real...</td>\n",
       "      <td>Cook Shop</td>\n",
       "      <td>{'neg': 0.0, 'neu': 0.757, 'pos': 0.243, 'comp...</td>\n",
       "      <td>0.9147</td>\n",
       "      <td>pos</td>\n",
       "    </tr>\n",
       "    <tr>\n",
       "      <th>4</th>\n",
       "      <td>50</td>\n",
       "      <td>We had a great experience! Food was delicious....</td>\n",
       "      <td>Cook Shop</td>\n",
       "      <td>{'neg': 0.0, 'neu': 0.46, 'pos': 0.54, 'compou...</td>\n",
       "      <td>0.9694</td>\n",
       "      <td>pos</td>\n",
       "    </tr>\n",
       "  </tbody>\n",
       "</table>\n",
       "</div>"
      ],
      "text/plain": [
       "   r_points                                             r_text      place  \\\n",
       "0        50  Happy customer always.. excellent quality of f...  Cook Shop   \n",
       "1        50  The food is delicious!! There are various uniq...  Cook Shop   \n",
       "2        50  The food here is soooo delicious! Yhe waiter r...  Cook Shop   \n",
       "3        40  I had a business lunch there. Service was real...  Cook Shop   \n",
       "4        50  We had a great experience! Food was delicious....  Cook Shop   \n",
       "\n",
       "                                              scores  compound score  \n",
       "0  {'neg': 0.0, 'neu': 0.553, 'pos': 0.447, 'comp...    0.8658   pos  \n",
       "1  {'neg': 0.037, 'neu': 0.663, 'pos': 0.3, 'comp...    0.9574   pos  \n",
       "2  {'neg': 0.0, 'neu': 0.6, 'pos': 0.4, 'compound...    0.9824   pos  \n",
       "3  {'neg': 0.0, 'neu': 0.757, 'pos': 0.243, 'comp...    0.9147   pos  \n",
       "4  {'neg': 0.0, 'neu': 0.46, 'pos': 0.54, 'compou...    0.9694   pos  "
      ]
     },
     "execution_count": 6,
     "metadata": {},
     "output_type": "execute_result"
    }
   ],
   "source": [
    "tripadv_review['scores'] = tripadv_review['r_text'].apply(lambda review:sent.polarity_scores(review))\n",
    "tripadv_review['compound'] = tripadv_review['scores'].apply(lambda d:d['compound'])\n",
    "tripadv_review['score'] = tripadv_review['compound'].apply(lambda score: 'pos' if score >=0 else 'neg')\n",
    "tripadv_review.head()"
   ]
  },
  {
   "cell_type": "code",
   "execution_count": 7,
   "metadata": {},
   "outputs": [],
   "source": [
    "tripadv_review.to_csv(r'C:\\Users\\Dell\\Desktop\\sentiment_out7.csv')"
   ]
  },
  {
   "cell_type": "code",
   "execution_count": 8,
   "metadata": {},
   "outputs": [],
   "source": [
    "pos_rev=tripadv_review[(tripadv_review['score'] .str.contains('pos'))]\n",
    "pos_rev.to_csv(r'C:\\Users\\Dell\\Desktop\\sentiment_out7_pos.csv')\n",
    "neg_rev=tripadv_review[(tripadv_review['score'] .str.contains('neg'))]\n",
    "neg_rev.to_csv(r'C:\\Users\\Dell\\Desktop\\sentiment_out7_neg.csv')"
   ]
  },
  {
   "cell_type": "code",
   "execution_count": 9,
   "metadata": {},
   "outputs": [],
   "source": [
    "pos_review_imp= pd.read_csv(r'C:\\Users\\Dell\\Desktop\\sentiment_out7_pos.csv')\n",
    "neg_review_imp = pd.read_csv(r'C:\\Users\\Dell\\Desktop\\sentiment_out7_neg.csv')"
   ]
  },
  {
   "cell_type": "code",
   "execution_count": 10,
   "metadata": {},
   "outputs": [],
   "source": [
    "from pycaret.nlp import *"
   ]
  },
  {
   "cell_type": "code",
   "execution_count": 11,
   "metadata": {},
   "outputs": [
    {
     "data": {
      "text/html": [
       "<style  type=\"text/css\" >\n",
       "</style><table id=\"T_cb9d0f6c_301b_11eb_9409_c48e8ff9d2e0\" ><thead>    <tr>        <th class=\"col_heading level0 col0\" >Description</th>        <th class=\"col_heading level0 col1\" >Value</th>    </tr></thead><tbody>\n",
       "                <tr>\n",
       "                                <td id=\"T_cb9d0f6c_301b_11eb_9409_c48e8ff9d2e0row0_col0\" class=\"data row0 col0\" >session_id</td>\n",
       "                        <td id=\"T_cb9d0f6c_301b_11eb_9409_c48e8ff9d2e0row0_col1\" class=\"data row0 col1\" >2513</td>\n",
       "            </tr>\n",
       "            <tr>\n",
       "                                <td id=\"T_cb9d0f6c_301b_11eb_9409_c48e8ff9d2e0row1_col0\" class=\"data row1 col0\" >Documents</td>\n",
       "                        <td id=\"T_cb9d0f6c_301b_11eb_9409_c48e8ff9d2e0row1_col1\" class=\"data row1 col1\" >207</td>\n",
       "            </tr>\n",
       "            <tr>\n",
       "                                <td id=\"T_cb9d0f6c_301b_11eb_9409_c48e8ff9d2e0row2_col0\" class=\"data row2 col0\" >Vocab Size</td>\n",
       "                        <td id=\"T_cb9d0f6c_301b_11eb_9409_c48e8ff9d2e0row2_col1\" class=\"data row2 col1\" >1152</td>\n",
       "            </tr>\n",
       "            <tr>\n",
       "                                <td id=\"T_cb9d0f6c_301b_11eb_9409_c48e8ff9d2e0row3_col0\" class=\"data row3 col0\" >Custom Stopwords</td>\n",
       "                        <td id=\"T_cb9d0f6c_301b_11eb_9409_c48e8ff9d2e0row3_col1\" class=\"data row3 col1\" >True</td>\n",
       "            </tr>\n",
       "    </tbody></table>"
      ],
      "text/plain": [
       "<pandas.io.formats.style.Styler at 0x21990a40248>"
      ]
     },
     "metadata": {},
     "output_type": "display_data"
    }
   ],
   "source": [
    "exp_nlp = setup(data = pos_review_imp, target = 'r_text',\n",
    "                custom_stopwords = [ 'hotel', 'room', 'nice', 'good', 'excellent','restaurant', 'food'])"
   ]
  },
  {
   "cell_type": "code",
   "execution_count": 12,
   "metadata": {},
   "outputs": [
    {
     "name": "stdout",
     "output_type": "stream",
     "text": [
      "LdaModel(num_terms=1152, num_topics=4, decay=0.5, chunksize=100)\n"
     ]
    }
   ],
   "source": [
    "#create an LDA model\n",
    "lda_pos_custom = create_model('lda')\n",
    "print(lda_pos_custom)"
   ]
  },
  {
   "cell_type": "code",
   "execution_count": 13,
   "metadata": {},
   "outputs": [
    {
     "data": {
      "text/html": [
       "<div>\n",
       "<style scoped>\n",
       "    .dataframe tbody tr th:only-of-type {\n",
       "        vertical-align: middle;\n",
       "    }\n",
       "\n",
       "    .dataframe tbody tr th {\n",
       "        vertical-align: top;\n",
       "    }\n",
       "\n",
       "    .dataframe thead th {\n",
       "        text-align: right;\n",
       "    }\n",
       "</style>\n",
       "<table border=\"1\" class=\"dataframe\">\n",
       "  <thead>\n",
       "    <tr style=\"text-align: right;\">\n",
       "      <th></th>\n",
       "      <th>Unnamed: 0</th>\n",
       "      <th>r_points</th>\n",
       "      <th>r_text</th>\n",
       "      <th>place</th>\n",
       "      <th>scores</th>\n",
       "      <th>compound</th>\n",
       "      <th>score</th>\n",
       "      <th>Topic_0</th>\n",
       "      <th>Topic_1</th>\n",
       "      <th>Topic_2</th>\n",
       "      <th>Topic_3</th>\n",
       "      <th>Dominant_Topic</th>\n",
       "      <th>Perc_Dominant_Topic</th>\n",
       "    </tr>\n",
       "  </thead>\n",
       "  <tbody>\n",
       "    <tr>\n",
       "      <th>0</th>\n",
       "      <td>0</td>\n",
       "      <td>50</td>\n",
       "      <td>happy customer always quality always fresh tas...</td>\n",
       "      <td>Cook Shop</td>\n",
       "      <td>{'neg': 0.0, 'neu': 0.553, 'pos': 0.447, 'comp...</td>\n",
       "      <td>0.8658</td>\n",
       "      <td>pos</td>\n",
       "      <td>0.666039</td>\n",
       "      <td>0.009002</td>\n",
       "      <td>0.314752</td>\n",
       "      <td>0.010206</td>\n",
       "      <td>Topic 0</td>\n",
       "      <td>0.67</td>\n",
       "    </tr>\n",
       "    <tr>\n",
       "      <th>1</th>\n",
       "      <td>1</td>\n",
       "      <td>50</td>\n",
       "      <td>delicious various unique combination different...</td>\n",
       "      <td>Cook Shop</td>\n",
       "      <td>{'neg': 0.037, 'neu': 0.663, 'pos': 0.3, 'comp...</td>\n",
       "      <td>0.9574</td>\n",
       "      <td>pos</td>\n",
       "      <td>0.418585</td>\n",
       "      <td>0.004235</td>\n",
       "      <td>0.493239</td>\n",
       "      <td>0.083941</td>\n",
       "      <td>Topic 2</td>\n",
       "      <td>0.49</td>\n",
       "    </tr>\n",
       "    <tr>\n",
       "      <th>2</th>\n",
       "      <td>2</td>\n",
       "      <td>50</td>\n",
       "      <td>recommend pull pork starter similar super tast...</td>\n",
       "      <td>Cook Shop</td>\n",
       "      <td>{'neg': 0.0, 'neu': 0.6, 'pos': 0.4, 'compound...</td>\n",
       "      <td>0.9824</td>\n",
       "      <td>pos</td>\n",
       "      <td>0.003070</td>\n",
       "      <td>0.004233</td>\n",
       "      <td>0.426461</td>\n",
       "      <td>0.566236</td>\n",
       "      <td>Topic 3</td>\n",
       "      <td>0.57</td>\n",
       "    </tr>\n",
       "    <tr>\n",
       "      <th>3</th>\n",
       "      <td>3</td>\n",
       "      <td>40</td>\n",
       "      <td>really staff helpful steak cook perfectly frie...</td>\n",
       "      <td>Cook Shop</td>\n",
       "      <td>{'neg': 0.0, 'neu': 0.757, 'pos': 0.243, 'comp...</td>\n",
       "      <td>0.9147</td>\n",
       "      <td>pos</td>\n",
       "      <td>0.706632</td>\n",
       "      <td>0.004577</td>\n",
       "      <td>0.283602</td>\n",
       "      <td>0.005188</td>\n",
       "      <td>Topic 0</td>\n",
       "      <td>0.71</td>\n",
       "    </tr>\n",
       "    <tr>\n",
       "      <th>4</th>\n",
       "      <td>4</td>\n",
       "      <td>50</td>\n",
       "      <td>great experience delicious creative cuisine ex...</td>\n",
       "      <td>Cook Shop</td>\n",
       "      <td>{'neg': 0.0, 'neu': 0.46, 'pos': 0.54, 'compou...</td>\n",
       "      <td>0.9694</td>\n",
       "      <td>pos</td>\n",
       "      <td>0.006042</td>\n",
       "      <td>0.426468</td>\n",
       "      <td>0.558051</td>\n",
       "      <td>0.009439</td>\n",
       "      <td>Topic 2</td>\n",
       "      <td>0.56</td>\n",
       "    </tr>\n",
       "    <tr>\n",
       "      <th>...</th>\n",
       "      <td>...</td>\n",
       "      <td>...</td>\n",
       "      <td>...</td>\n",
       "      <td>...</td>\n",
       "      <td>...</td>\n",
       "      <td>...</td>\n",
       "      <td>...</td>\n",
       "      <td>...</td>\n",
       "      <td>...</td>\n",
       "      <td>...</td>\n",
       "      <td>...</td>\n",
       "      <td>...</td>\n",
       "      <td>...</td>\n",
       "    </tr>\n",
       "    <tr>\n",
       "      <th>202</th>\n",
       "      <td>205</td>\n",
       "      <td>50</td>\n",
       "      <td>great dinner menu many option cover wide range...</td>\n",
       "      <td>Cook Shop</td>\n",
       "      <td>{'neg': 0.0, 'neu': 0.682, 'pos': 0.318, 'comp...</td>\n",
       "      <td>0.9194</td>\n",
       "      <td>pos</td>\n",
       "      <td>0.004175</td>\n",
       "      <td>0.005754</td>\n",
       "      <td>0.644128</td>\n",
       "      <td>0.345943</td>\n",
       "      <td>Topic 2</td>\n",
       "      <td>0.64</td>\n",
       "    </tr>\n",
       "    <tr>\n",
       "      <th>203</th>\n",
       "      <td>206</td>\n",
       "      <td>50</td>\n",
       "      <td>homemade service atmosphere outstanding</td>\n",
       "      <td>Cook Shop</td>\n",
       "      <td>{'neg': 0.0, 'neu': 0.548, 'pos': 0.452, 'comp...</td>\n",
       "      <td>0.9243</td>\n",
       "      <td>pos</td>\n",
       "      <td>0.014959</td>\n",
       "      <td>0.020617</td>\n",
       "      <td>0.941050</td>\n",
       "      <td>0.023373</td>\n",
       "      <td>Topic 2</td>\n",
       "      <td>0.94</td>\n",
       "    </tr>\n",
       "    <tr>\n",
       "      <th>204</th>\n",
       "      <td>207</td>\n",
       "      <td>40</td>\n",
       "      <td>visit place time far plan warm friendly atmosp...</td>\n",
       "      <td>Cook Shop</td>\n",
       "      <td>{'neg': 0.0, 'neu': 0.866, 'pos': 0.134, 'comp...</td>\n",
       "      <td>0.7823</td>\n",
       "      <td>pos</td>\n",
       "      <td>0.004175</td>\n",
       "      <td>0.005754</td>\n",
       "      <td>0.983548</td>\n",
       "      <td>0.006523</td>\n",
       "      <td>Topic 2</td>\n",
       "      <td>0.98</td>\n",
       "    </tr>\n",
       "    <tr>\n",
       "      <th>205</th>\n",
       "      <td>208</td>\n",
       "      <td>50</td>\n",
       "      <td>visit cookshop friend live long time familiar ...</td>\n",
       "      <td>Cook Shop</td>\n",
       "      <td>{'neg': 0.0, 'neu': 0.744, 'pos': 0.256, 'comp...</td>\n",
       "      <td>0.9771</td>\n",
       "      <td>pos</td>\n",
       "      <td>0.002057</td>\n",
       "      <td>0.002835</td>\n",
       "      <td>0.417182</td>\n",
       "      <td>0.577927</td>\n",
       "      <td>Topic 3</td>\n",
       "      <td>0.58</td>\n",
       "    </tr>\n",
       "    <tr>\n",
       "      <th>206</th>\n",
       "      <td>209</td>\n",
       "      <td>40</td>\n",
       "      <td>huge meal service well</td>\n",
       "      <td>Cook Shop</td>\n",
       "      <td>{'neg': 0.039, 'neu': 0.453, 'pos': 0.508, 'co...</td>\n",
       "      <td>0.9558</td>\n",
       "      <td>pos</td>\n",
       "      <td>0.014960</td>\n",
       "      <td>0.207503</td>\n",
       "      <td>0.754167</td>\n",
       "      <td>0.023371</td>\n",
       "      <td>Topic 2</td>\n",
       "      <td>0.75</td>\n",
       "    </tr>\n",
       "  </tbody>\n",
       "</table>\n",
       "<p>207 rows × 13 columns</p>\n",
       "</div>"
      ],
      "text/plain": [
       "     Unnamed: 0  r_points                                             r_text  \\\n",
       "0             0        50  happy customer always quality always fresh tas...   \n",
       "1             1        50  delicious various unique combination different...   \n",
       "2             2        50  recommend pull pork starter similar super tast...   \n",
       "3             3        40  really staff helpful steak cook perfectly frie...   \n",
       "4             4        50  great experience delicious creative cuisine ex...   \n",
       "..          ...       ...                                                ...   \n",
       "202         205        50  great dinner menu many option cover wide range...   \n",
       "203         206        50            homemade service atmosphere outstanding   \n",
       "204         207        40  visit place time far plan warm friendly atmosp...   \n",
       "205         208        50  visit cookshop friend live long time familiar ...   \n",
       "206         209        40                             huge meal service well   \n",
       "\n",
       "         place                                             scores  compound  \\\n",
       "0    Cook Shop  {'neg': 0.0, 'neu': 0.553, 'pos': 0.447, 'comp...    0.8658   \n",
       "1    Cook Shop  {'neg': 0.037, 'neu': 0.663, 'pos': 0.3, 'comp...    0.9574   \n",
       "2    Cook Shop  {'neg': 0.0, 'neu': 0.6, 'pos': 0.4, 'compound...    0.9824   \n",
       "3    Cook Shop  {'neg': 0.0, 'neu': 0.757, 'pos': 0.243, 'comp...    0.9147   \n",
       "4    Cook Shop  {'neg': 0.0, 'neu': 0.46, 'pos': 0.54, 'compou...    0.9694   \n",
       "..         ...                                                ...       ...   \n",
       "202  Cook Shop  {'neg': 0.0, 'neu': 0.682, 'pos': 0.318, 'comp...    0.9194   \n",
       "203  Cook Shop  {'neg': 0.0, 'neu': 0.548, 'pos': 0.452, 'comp...    0.9243   \n",
       "204  Cook Shop  {'neg': 0.0, 'neu': 0.866, 'pos': 0.134, 'comp...    0.7823   \n",
       "205  Cook Shop  {'neg': 0.0, 'neu': 0.744, 'pos': 0.256, 'comp...    0.9771   \n",
       "206  Cook Shop  {'neg': 0.039, 'neu': 0.453, 'pos': 0.508, 'co...    0.9558   \n",
       "\n",
       "    score   Topic_0   Topic_1   Topic_2   Topic_3 Dominant_Topic  \\\n",
       "0     pos  0.666039  0.009002  0.314752  0.010206        Topic 0   \n",
       "1     pos  0.418585  0.004235  0.493239  0.083941        Topic 2   \n",
       "2     pos  0.003070  0.004233  0.426461  0.566236        Topic 3   \n",
       "3     pos  0.706632  0.004577  0.283602  0.005188        Topic 0   \n",
       "4     pos  0.006042  0.426468  0.558051  0.009439        Topic 2   \n",
       "..    ...       ...       ...       ...       ...            ...   \n",
       "202   pos  0.004175  0.005754  0.644128  0.345943        Topic 2   \n",
       "203   pos  0.014959  0.020617  0.941050  0.023373        Topic 2   \n",
       "204   pos  0.004175  0.005754  0.983548  0.006523        Topic 2   \n",
       "205   pos  0.002057  0.002835  0.417182  0.577927        Topic 3   \n",
       "206   pos  0.014960  0.207503  0.754167  0.023371        Topic 2   \n",
       "\n",
       "     Perc_Dominant_Topic  \n",
       "0                   0.67  \n",
       "1                   0.49  \n",
       "2                   0.57  \n",
       "3                   0.71  \n",
       "4                   0.56  \n",
       "..                   ...  \n",
       "202                 0.64  \n",
       "203                 0.94  \n",
       "204                 0.98  \n",
       "205                 0.58  \n",
       "206                 0.75  \n",
       "\n",
       "[207 rows x 13 columns]"
      ]
     },
     "execution_count": 13,
     "metadata": {},
     "output_type": "execute_result"
    }
   ],
   "source": [
    "apply_lda_pos = assign_model(lda_pos_custom)\n",
    "apply_lda_pos"
   ]
  },
  {
   "cell_type": "code",
   "execution_count": 14,
   "metadata": {},
   "outputs": [
    {
     "data": {
      "application/vnd.jupyter.widget-view+json": {
       "model_id": "93c4c7cecd9f4500bf56317539be31ca",
       "version_major": 2,
       "version_minor": 0
      },
      "text/plain": [
       "interactive(children=(ToggleButtons(description='Plot Type:', icons=('',), options=(('Frequency Plot', 'freque…"
      ]
     },
     "metadata": {},
     "output_type": "display_data"
    }
   ],
   "source": [
    "evaluate_model(lda_pos_custom)"
   ]
  },
  {
   "cell_type": "code",
   "execution_count": 15,
   "metadata": {},
   "outputs": [
    {
     "data": {
      "text/html": [
       "        <script type=\"text/javascript\">\n",
       "        window.PlotlyConfig = {MathJaxConfig: 'local'};\n",
       "        if (window.MathJax) {MathJax.Hub.Config({SVG: {font: \"STIX-Web\"}});}\n",
       "        if (typeof require !== 'undefined') {\n",
       "        require.undef(\"plotly\");\n",
       "        requirejs.config({\n",
       "            paths: {\n",
       "                'plotly': ['https://cdn.plot.ly/plotly-latest.min']\n",
       "            }\n",
       "        });\n",
       "        require(['plotly'], function(Plotly) {\n",
       "            window._Plotly = Plotly;\n",
       "        });\n",
       "        }\n",
       "        </script>\n",
       "        "
      ]
     },
     "metadata": {},
     "output_type": "display_data"
    },
    {
     "data": {
      "text/html": [
       "\n",
       "<link rel=\"stylesheet\" type=\"text/css\" href=\"https://cdn.rawgit.com/bmabey/pyLDAvis/files/ldavis.v1.0.0.css\">\n",
       "\n",
       "\n",
       "<div id=\"ldavis_el1163223089745959123237711600\"></div>\n",
       "<script type=\"text/javascript\">\n",
       "\n",
       "var ldavis_el1163223089745959123237711600_data = {\"mdsDat\": {\"x\": [0.21580867199075426, 0.013104474671384264, -0.12008707089966664, -0.10882607576247186], \"y\": [0.1055857493141461, -0.1401745506666683, -0.10099498821753787, 0.13558378957006012], \"topics\": [1, 2, 3, 4], \"cluster\": [1, 1, 1, 1], \"Freq\": [62.764339447021484, 16.532556533813477, 14.171244621276855, 6.531859874725342]}, \"tinfo\": {\"Term\": [\"menu\", \"dinner\", \"pork\", \"place\", \"huge\", \"friend\", \"owner\", \"risotto\", \"little\", \"bread\", \"wonderful\", \"recommend\", \"mussel\", \"option\", \"service\", \"great\", \"selection\", \"long\", \"visit\", \"enjoy\", \"certainly\", \"help\", \"range\", \"local\", \"pull\", \"willing\", \"cover\", \"wide\", \"center\", \"atmosphere\", \"great\", \"recommend\", \"atmosphere\", \"well\", \"place\", \"visit\", \"love\", \"friendly\", \"lunch\", \"much\", \"staff\", \"far\", \"enjoy\", \"service\", \"try\", \"pork_chop\", \"time\", \"meal\", \"highly\", \"choice\", \"make\", \"family\", \"cookshop\", \"portion\", \"many\", \"care\", \"romantic\", \"strongly\", \"warm\", \"booking\", \"amazing\", \"go\", \"homemade\", \"definitely\", \"open\", \"taste\", \"burger\", \"small\", \"friend\", \"dish\", \"menu\", \"different\", \"start\", \"fry\", \"dip\", \"rice\", \"wait\", \"smoke\", \"rather\", \"coffee\", \"waitress\", \"potato\", \"accompany\", \"olive\", \"halloumi\", \"beef\", \"fabulous\", \"seabass\", \"whole\", \"house\", \"share\", \"soft\", \"inside\", \"cheesecake\", \"lot\", \"french\", \"work\", \"simple\", \"pair\", \"brownie\", \"oil\", \"coconut\", \"experience\", \"happy\", \"person\", \"top\", \"keep\", \"fresh\", \"cooked\", \"special\", \"flavour\", \"bread\", \"smile\", \"wine\", \"tasty\", \"wonderful\", \"high\", \"chicken\", \"little\", \"salad\", \"delicious\", \"also\", \"order\", \"come\", \"look\", \"really\", \"back\", \"huge\", \"gem\", \"seem\", \"simply\", \"expensive\", \"cuisine\", \"vegetarian\", \"available\", \"wise\", \"salat\", \"remember\", \"detail\", \"provide\", \"unusual\", \"quantity\", \"easy\", \"impressed\", \"star\", \"interior\", \"get\", \"touch\", \"low\", \"bit\", \"little\", \"innovative\", \"satisfied\", \"situate\", \"passion\", \"expectation\", \"attention\", \"dry\", \"decorate\", \"regular\", \"choose\", \"forward\", \"party\", \"return\", \"order\", \"interesting\", \"people\", \"price\", \"even\", \"like\", \"enough\", \"dish\", \"sure\", \"wife\", \"reasonable\", \"cook\", \"salad\", \"quality\", \"look\", \"pull\", \"willing\", \"explain\", \"familiar\", \"friday\", \"varied\", \"marinade\", \"sized\", \"pork\", \"certainly\", \"combination\", \"mussel\", \"forget\", \"long\", \"regularly\", \"wonderful\", \"honest\", \"together\", \"full\", \"selection\", \"option\", \"bread\", \"bake\", \"wide\", \"center\", \"cover\", \"update\", \"risotto\", \"receive\", \"secret\", \"evening\", \"range\", \"customer\", \"dinner\", \"menu\", \"help\", \"owner\", \"local\", \"hope\", \"friend\"], \"Freq\": [47.0, 25.0, 14.0, 100.0, 14.0, 31.0, 20.0, 13.0, 16.0, 13.0, 12.0, 71.0, 10.0, 10.0, 86.0, 62.0, 10.0, 9.0, 70.0, 64.0, 7.0, 11.0, 10.0, 13.0, 6.0, 6.0, 8.0, 8.0, 8.0, 53.0, 61.892356872558594, 70.29756164550781, 52.723175048828125, 54.823238372802734, 98.68991088867188, 69.09864807128906, 37.09442901611328, 50.11246871948242, 42.60786437988281, 31.55387306213379, 36.4811897277832, 27.41033172607422, 63.19469451904297, 84.19994354248047, 38.2403564453125, 20.035011291503906, 62.89500045776367, 18.616687774658203, 17.81112289428711, 19.14784049987793, 45.851768493652344, 16.917112350463867, 17.41283416748047, 17.58837127685547, 15.994416236877441, 15.401618957519531, 15.031486511230469, 15.63186264038086, 15.990372657775879, 14.581344604492188, 30.051179885864258, 37.60039520263672, 25.835695266723633, 26.621013641357422, 21.116199493408203, 26.735349655151367, 25.877742767333984, 20.09535026550293, 27.765052795410156, 35.808895111083984, 37.40858840942383, 21.802505493164062, 5.622586250305176, 5.725260257720947, 4.3133392333984375, 3.438580274581909, 3.5084266662597656, 2.9599101543426514, 2.761273145675659, 2.731741189956665, 2.5406384468078613, 2.350677967071533, 2.2838637828826904, 2.2836480140686035, 3.5597448348999023, 2.0824460983276367, 2.0790770053863525, 2.0729763507843018, 2.0525002479553223, 2.047774076461792, 4.787514686584473, 1.872662901878357, 2.0240957736968994, 2.016099214553833, 2.724844455718994, 5.719139575958252, 1.991781234741211, 1.9262255430221558, 1.6070706844329834, 1.6065431833267212, 1.6064902544021606, 1.6061502695083618, 6.7117600440979, 3.2399046421051025, 2.446871757507324, 4.30985689163208, 4.610239505767822, 5.784668922424316, 2.5994114875793457, 2.820648670196533, 3.18935227394104, 4.972160816192627, 2.8652777671813965, 3.5853826999664307, 4.454217910766602, 4.1734209060668945, 3.9303696155548096, 3.5349936485290527, 4.312965393066406, 4.528491020202637, 4.2559895515441895, 3.854574203491211, 3.434199094772339, 3.2710752487182617, 3.3425791263580322, 3.447756052017212, 3.4654529094696045, 13.389636993408203, 4.371682643890381, 3.766911745071411, 3.752005100250244, 2.8486580848693848, 2.5186336040496826, 2.1589086055755615, 2.091966390609741, 2.088792562484741, 2.086566686630249, 2.5413877964019775, 2.0420284271240234, 2.533376693725586, 1.910680890083313, 1.9093416929244995, 1.9086570739746094, 1.9081617593765259, 2.980955123901367, 1.7239054441452026, 4.41654109954834, 1.6922065019607544, 1.8277603387832642, 5.6700592041015625, 12.166679382324219, 1.4723683595657349, 1.4719547033309937, 1.4714347124099731, 1.4713029861450195, 1.469204068183899, 1.4703083038330078, 2.4222402572631836, 2.516791343688965, 2.3786118030548096, 2.392014503479004, 2.65455961227417, 1.7343918085098267, 2.7879111766815186, 5.21384859085083, 3.273375988006592, 3.3742592334747314, 5.178573131561279, 3.096926689147949, 2.4058029651641846, 2.341973066329956, 5.7306227684021, 2.9323017597198486, 2.3853423595428467, 2.8391053676605225, 2.981409788131714, 3.1200032234191895, 2.9320857524871826, 2.498892307281494, 5.886425018310547, 5.809446334838867, 5.4601287841796875, 5.459968566894531, 5.380291938781738, 5.200361251831055, 5.200361251831055, 5.200361251831055, 11.977952003479004, 5.427831649780273, 1.2720905542373657, 6.023183822631836, 1.0170214176177979, 4.721704959869385, 0.6911422610282898, 5.789265155792236, 0.5959779620170593, 0.5943834781646729, 1.5152510404586792, 4.08882474899292, 4.3109941482543945, 5.310037136077881, 0.5387431979179382, 3.3255677223205566, 3.3255677223205566, 3.3255677223205566, 0.448060542345047, 4.8173828125, 0.4770473539829254, 0.5190989375114441, 1.5112183094024658, 3.29011607170105, 1.2175230979919434, 5.662853717803955, 9.07327651977539, 3.012585163116455, 3.4152190685272217, 2.5758931636810303, 2.1822965145111084, 3.0069475173950195], \"Total\": [47.0, 25.0, 14.0, 100.0, 14.0, 31.0, 20.0, 13.0, 16.0, 13.0, 12.0, 71.0, 10.0, 10.0, 86.0, 62.0, 10.0, 9.0, 70.0, 64.0, 7.0, 11.0, 10.0, 13.0, 6.0, 6.0, 8.0, 8.0, 8.0, 53.0, 62.5031852722168, 71.03120422363281, 53.31922912597656, 55.516082763671875, 100.23662567138672, 70.22225189208984, 37.70559310913086, 50.980735778808594, 43.404850006103516, 32.18368148803711, 37.2360725402832, 27.999250411987305, 64.72854614257812, 86.52288818359375, 39.38424301147461, 20.63724136352539, 64.79946899414062, 19.225078582763672, 18.408523559570312, 19.790184020996094, 47.46212387084961, 17.51649284362793, 18.061094284057617, 18.248493194580078, 16.600107192993164, 15.99189567565918, 15.618653297424316, 16.249309539794922, 16.625078201293945, 15.171981811523438, 31.44891357421875, 39.467506408691406, 27.201435089111328, 28.139184951782227, 22.220827102661133, 28.53753662109375, 27.57674789428711, 21.258079528808594, 31.27362060546875, 43.26836013793945, 47.00398254394531, 23.62008285522461, 6.216467380523682, 6.354168891906738, 4.884871006011963, 4.008327960968018, 4.169732093811035, 3.5307044982910156, 3.3313496112823486, 3.3280017375946045, 3.1296887397766113, 2.9262781143188477, 2.8541479110717773, 2.854135751724243, 4.474813461303711, 2.6542367935180664, 2.6530921459198, 2.653440475463867, 2.6506383419036865, 2.6512017250061035, 6.237211227416992, 2.448606252670288, 2.650174140930176, 2.6485719680786133, 3.585075616836548, 7.578125953674316, 2.6473770141601562, 2.5610005855560303, 2.177190065383911, 2.1771562099456787, 2.1771535873413086, 2.177121639251709, 9.318345069885254, 4.508364677429199, 3.5238800048828125, 7.113455772399902, 8.325095176696777, 11.703878402709961, 3.9911699295043945, 4.558578968048096, 5.7155609130859375, 13.501449584960938, 5.048074722290039, 7.876328945159912, 14.042865753173828, 12.166611671447754, 11.307989120483398, 8.720118522644043, 16.826223373413086, 20.974796295166016, 19.485116958618164, 16.703994750976562, 10.901679992675781, 9.197335243225098, 10.427756309509277, 14.452899932861328, 15.869034767150879, 14.039199829101562, 4.982545375823975, 4.367079257965088, 4.359601974487305, 3.45052170753479, 3.1244702339172363, 2.757976770401001, 2.6869492530822754, 2.687128782272339, 2.68729567527771, 3.2949724197387695, 2.6561951637268066, 3.304758310317993, 2.5036096572875977, 2.5037827491760254, 2.503779411315918, 2.503218650817871, 3.9812374114990234, 2.3202896118164062, 5.948820114135742, 2.3048794269561768, 2.4957385063171387, 7.813327789306641, 16.826223373413086, 2.065399646759033, 2.065786123275757, 2.065767526626587, 2.065786123275757, 2.0639660358428955, 2.06596040725708, 3.5717151165008545, 3.802361249923706, 3.572941780090332, 3.6137802600860596, 4.193927764892578, 2.517991065979004, 4.713525295257568, 10.901679992675781, 7.652023792266846, 8.255790710449219, 21.664281845092773, 8.153057098388672, 4.422921657562256, 4.204872131347656, 43.26836013793945, 8.831626892089844, 4.753407001495361, 10.808121681213379, 16.213626861572266, 20.974796295166016, 23.334735870361328, 10.427756309509277, 6.63115930557251, 6.560487747192383, 6.194736003875732, 6.194977760314941, 6.128104209899902, 5.953713893890381, 5.953713893890381, 5.953713893890381, 14.774210929870605, 7.508307456970215, 2.0262489318847656, 10.181350708007812, 1.7770328521728516, 9.020423889160156, 1.4489779472351074, 12.166611671447754, 1.333526849746704, 1.3358392715454102, 3.645840644836426, 10.045927047729492, 10.788347244262695, 13.501449584960938, 1.4193766117095947, 8.779306411743164, 8.779306411743164, 8.779306411743164, 1.1831306219100952, 13.015357971191406, 1.325224757194519, 1.4484308958053589, 4.329983711242676, 10.097969055175781, 3.7432098388671875, 25.81791114807129, 47.00398254394531, 11.854621887207031, 20.735815048217773, 13.704744338989258, 12.659271240234375, 31.27362060546875], \"Category\": [\"Default\", \"Default\", \"Default\", \"Default\", \"Default\", \"Default\", \"Default\", \"Default\", \"Default\", \"Default\", \"Default\", \"Default\", \"Default\", \"Default\", \"Default\", \"Default\", \"Default\", \"Default\", \"Default\", \"Default\", \"Default\", \"Default\", \"Default\", \"Default\", \"Default\", \"Default\", \"Default\", \"Default\", \"Default\", \"Default\", \"Topic1\", \"Topic1\", \"Topic1\", \"Topic1\", \"Topic1\", \"Topic1\", \"Topic1\", \"Topic1\", \"Topic1\", \"Topic1\", \"Topic1\", \"Topic1\", \"Topic1\", \"Topic1\", \"Topic1\", \"Topic1\", \"Topic1\", \"Topic1\", \"Topic1\", \"Topic1\", \"Topic1\", \"Topic1\", \"Topic1\", \"Topic1\", \"Topic1\", \"Topic1\", \"Topic1\", \"Topic1\", \"Topic1\", \"Topic1\", \"Topic1\", \"Topic1\", \"Topic1\", \"Topic1\", \"Topic1\", \"Topic1\", \"Topic1\", \"Topic1\", \"Topic1\", \"Topic1\", \"Topic1\", \"Topic1\", \"Topic2\", \"Topic2\", \"Topic2\", \"Topic2\", \"Topic2\", \"Topic2\", \"Topic2\", \"Topic2\", \"Topic2\", \"Topic2\", \"Topic2\", \"Topic2\", \"Topic2\", \"Topic2\", \"Topic2\", \"Topic2\", \"Topic2\", \"Topic2\", \"Topic2\", \"Topic2\", \"Topic2\", \"Topic2\", \"Topic2\", \"Topic2\", \"Topic2\", \"Topic2\", \"Topic2\", \"Topic2\", \"Topic2\", \"Topic2\", \"Topic2\", \"Topic2\", \"Topic2\", \"Topic2\", \"Topic2\", \"Topic2\", \"Topic2\", \"Topic2\", \"Topic2\", \"Topic2\", \"Topic2\", \"Topic2\", \"Topic2\", \"Topic2\", \"Topic2\", \"Topic2\", \"Topic2\", \"Topic2\", \"Topic2\", \"Topic2\", \"Topic2\", \"Topic2\", \"Topic2\", \"Topic2\", \"Topic2\", \"Topic3\", \"Topic3\", \"Topic3\", \"Topic3\", \"Topic3\", \"Topic3\", \"Topic3\", \"Topic3\", \"Topic3\", \"Topic3\", \"Topic3\", \"Topic3\", \"Topic3\", \"Topic3\", \"Topic3\", \"Topic3\", \"Topic3\", \"Topic3\", \"Topic3\", \"Topic3\", \"Topic3\", \"Topic3\", \"Topic3\", \"Topic3\", \"Topic3\", \"Topic3\", \"Topic3\", \"Topic3\", \"Topic3\", \"Topic3\", \"Topic3\", \"Topic3\", \"Topic3\", \"Topic3\", \"Topic3\", \"Topic3\", \"Topic3\", \"Topic3\", \"Topic3\", \"Topic3\", \"Topic3\", \"Topic3\", \"Topic3\", \"Topic3\", \"Topic3\", \"Topic3\", \"Topic3\", \"Topic3\", \"Topic3\", \"Topic3\", \"Topic3\", \"Topic3\", \"Topic4\", \"Topic4\", \"Topic4\", \"Topic4\", \"Topic4\", \"Topic4\", \"Topic4\", \"Topic4\", \"Topic4\", \"Topic4\", \"Topic4\", \"Topic4\", \"Topic4\", \"Topic4\", \"Topic4\", \"Topic4\", \"Topic4\", \"Topic4\", \"Topic4\", \"Topic4\", \"Topic4\", \"Topic4\", \"Topic4\", \"Topic4\", \"Topic4\", \"Topic4\", \"Topic4\", \"Topic4\", \"Topic4\", \"Topic4\", \"Topic4\", \"Topic4\", \"Topic4\", \"Topic4\", \"Topic4\", \"Topic4\", \"Topic4\", \"Topic4\", \"Topic4\", \"Topic4\"], \"logprob\": [30.0, 29.0, 28.0, 27.0, 26.0, 25.0, 24.0, 23.0, 22.0, 21.0, 20.0, 19.0, 18.0, 17.0, 16.0, 15.0, 14.0, 13.0, 12.0, 11.0, 10.0, 9.0, 8.0, 7.0, 6.0, 5.0, 4.0, 3.0, 2.0, 1.0, -3.861999988555908, -3.7346999645233154, -4.02239990234375, -3.983299970626831, -3.395400047302246, -3.7518999576568604, -4.373899936676025, -4.0731000900268555, -4.235400199890137, -4.535699844360352, -4.390600204467773, -4.676499843597412, -3.841200113296509, -3.5541999340057373, -4.343500137329102, -4.9899001121521, -3.845900058746338, -5.063300132751465, -5.107600212097168, -5.035200119018555, -4.1620001792907715, -5.15910005569458, -5.130199909210205, -5.120200157165527, -5.215199947357178, -5.252900123596191, -5.277299880981445, -5.238100051879883, -5.215400218963623, -5.307700157165527, -4.584499835968018, -4.360400199890137, -4.735599994659424, -4.705699920654297, -4.937399864196777, -4.701399803161621, -4.734000205993652, -4.9868998527526855, -4.663599967956543, -4.409200191497803, -4.365499973297119, -4.905399799346924, -4.926599979400635, -4.9085001945495605, -5.1915998458862305, -5.418300151824951, -5.398200035095215, -5.56820011138916, -5.637700080871582, -5.648399829864502, -5.720900058746338, -5.798600196838379, -5.827499866485596, -5.827600002288818, -5.383699893951416, -5.9197998046875, -5.92140007019043, -5.9243998527526855, -5.934299945831299, -5.936600208282471, -5.087299823760986, -6.026000022888184, -5.948200225830078, -5.952199935913086, -5.650899887084961, -4.9095001220703125, -5.964300155639648, -5.997799873352051, -6.178899765014648, -6.179299831390381, -6.179299831390381, -6.179500102996826, -4.749499797821045, -5.477799892425537, -5.758500099182129, -5.192399978637695, -5.125100135803223, -4.898099899291992, -5.6981000900268555, -5.616399765014648, -5.493500232696533, -5.049499988555908, -5.6006999015808105, -5.376500129699707, -5.1595001220703125, -5.224599838256836, -5.284599781036377, -5.390600204467773, -5.191699981689453, -5.14300012588501, -5.204999923706055, -5.304100036621094, -5.419600009918213, -5.468200206756592, -5.446599960327148, -5.415599822998047, -5.4105000495910645, -3.9047999382019043, -5.024099826812744, -5.172999858856201, -5.1768999099731445, -5.452400207519531, -5.575500011444092, -5.729599952697754, -5.761099815368652, -5.762599945068359, -5.763700008392334, -5.566500186920166, -5.785299777984619, -5.569699764251709, -5.851799964904785, -5.852499961853027, -5.852799892425537, -5.853099822998047, -5.4070000648498535, -5.954599857330322, -5.013899803161621, -5.973199844360352, -5.896100044250488, -4.763999938964844, -4.000500202178955, -6.112400054931641, -6.112599849700928, -6.11299991607666, -6.113100051879883, -6.114500045776367, -6.113800048828125, -5.614500045776367, -5.576200008392334, -5.632699966430664, -5.627099990844727, -5.5229997634887695, -5.948599815368652, -5.473899841308594, -4.847899913787842, -5.313399791717529, -5.283100128173828, -4.854700088500977, -5.368800163269043, -5.621300220489502, -5.648200035095215, -4.753399848937988, -5.423399925231934, -5.629899978637695, -5.455699920654297, -5.406799793243408, -5.361400127410889, -5.423500061035156, -5.583399772644043, -3.9521000385284424, -3.9651999473571777, -4.027200222015381, -4.027299880981445, -4.041999816894531, -4.076000213623047, -4.076000213623047, -4.076000213623047, -3.2416000366210938, -4.033199787139893, -5.484000205993652, -3.9291000366210938, -5.707799911499023, -4.172500133514404, -6.094099998474121, -3.9686999320983887, -6.242300033569336, -6.244900226593018, -5.309100151062012, -4.316500186920166, -4.263500213623047, -4.055099964141846, -6.343200206756592, -4.523099899291992, -4.523099899291992, -4.523099899291992, -6.527500152587891, -4.152500152587891, -6.464799880981445, -6.38040018081665, -5.311800003051758, -4.53380012512207, -5.527900218963623, -3.990799903869629, -3.519399881362915, -4.6219000816345215, -4.496500015258789, -4.778500080108643, -4.944300174713135, -4.623799800872803], \"loglift\": [30.0, 29.0, 28.0, 27.0, 26.0, 25.0, 24.0, 23.0, 22.0, 21.0, 20.0, 19.0, 18.0, 17.0, 16.0, 15.0, 14.0, 13.0, 12.0, 11.0, 10.0, 9.0, 8.0, 7.0, 6.0, 5.0, 4.0, 3.0, 2.0, 1.0, 0.4560000002384186, 0.4553999900817871, 0.4544999897480011, 0.45320001244544983, 0.45019999146461487, 0.4496999979019165, 0.44940000772476196, 0.44859999418258667, 0.447299987077713, 0.44600000977516174, 0.44530001282691956, 0.44449999928474426, 0.44179999828338623, 0.43860000371932983, 0.43630000948905945, 0.43619999289512634, 0.4359999895095825, 0.4336000084877014, 0.4327999949455261, 0.4327999949455261, 0.43130001425743103, 0.4309999942779541, 0.4291999936103821, 0.42890000343322754, 0.428600013256073, 0.42820000648498535, 0.42750000953674316, 0.4269999861717224, 0.4268999993801117, 0.4260999858379364, 0.4203000068664551, 0.4172999858856201, 0.41429999470710754, 0.41029998660087585, 0.4147999882698059, 0.40049999952316284, 0.40220001339912415, 0.40950000286102295, 0.3467999994754791, 0.2766000032424927, 0.23749999701976776, 0.385699987411499, 1.6993999481201172, 1.6956000328063965, 1.6754000186920166, 1.6464999914169312, 1.6272000074386597, 1.6234999895095825, 1.6122000217437744, 1.6023999452590942, 1.5913000106811523, 1.5808000564575195, 1.5769000053405762, 1.576799988746643, 1.5710999965667725, 1.5571999549865723, 1.555999994277954, 1.5529999732971191, 1.544100046157837, 1.541599988937378, 1.5353000164031982, 1.5317000150680542, 1.5303000211715698, 1.5269999504089355, 1.5255000591278076, 1.518399953842163, 1.5153000354766846, 1.5149999856948853, 1.4961999654769897, 1.49590003490448, 1.49590003490448, 1.4957000017166138, 1.4716999530792236, 1.4694000482559204, 1.4350999593734741, 1.298799991607666, 1.208799958229065, 1.0951000452041626, 1.371000051498413, 1.3198000192642212, 1.2165000438690186, 0.8008999824523926, 1.2335000038146973, 1.0127999782562256, 0.6516000032424927, 0.7299000024795532, 0.7430999875068665, 0.8968999981880188, 0.43849998712539673, 0.2669000029563904, 0.2784999907016754, 0.3334999978542328, 0.6446999907493591, 0.765999972820282, 0.6621000170707703, 0.3666999936103821, 0.2782999873161316, 1.906599998474121, 1.823199987411499, 1.8061000108718872, 1.8039000034332275, 1.7623000144958496, 1.7383999824523926, 1.7091000080108643, 1.7036999464035034, 1.7021000385284424, 1.7008999586105347, 1.6943000555038452, 1.690999984741211, 1.688099980354309, 1.6836999654769897, 1.6828999519348145, 1.6826000213623047, 1.6825000047683716, 1.6646000146865845, 1.6569000482559204, 1.6561000347137451, 1.6449999809265137, 1.6425000429153442, 1.6332999467849731, 1.629699945449829, 1.6154999732971191, 1.6150000095367432, 1.6146999597549438, 1.6145999431610107, 1.6139999628067017, 1.613800048828125, 1.565600037574768, 1.5413000583648682, 1.5470999479293823, 1.5413000583648682, 1.4966000318527222, 1.5812000036239624, 1.4287999868392944, 1.2164000272750854, 1.1047999858856201, 1.0592000484466553, 0.5228000283241272, 0.9860000014305115, 1.3450000286102295, 1.3687000274658203, -0.06759999692440033, 0.8514000177383423, 1.2644000053405762, 0.6171000003814697, 0.2605000138282776, 0.048500001430511475, -0.12030000239610672, 0.5253000259399414, 2.609299898147583, 2.6068999767303467, 2.602299928665161, 2.6022000312805176, 2.598299980163574, 2.5931999683380127, 2.5931999683380127, 2.5931999683380127, 2.518699884414673, 2.4040000438690186, 2.263000011444092, 2.2035000324249268, 2.1703999042510986, 2.081199884414673, 1.9881999492645264, 1.98580002784729, 1.9230999946594238, 1.9186999797821045, 1.8504999876022339, 1.8295999765396118, 1.8112000226974487, 1.795300006866455, 1.7596999406814575, 1.757699966430664, 1.757699966430664, 1.757699966430664, 1.7575000524520874, 1.7345999479293823, 1.7067999839782715, 1.702299952507019, 1.6757999658584595, 1.607100009918213, 1.6053999662399292, 1.211300015449524, 1.0836000442504883, 1.3586000204086304, 0.9248999953269958, 1.0569000244140625, 0.9704999923706055, 0.38659998774528503]}, \"token.table\": {\"Topic\": [2, 1, 2, 3, 1, 3, 1, 3, 3, 1, 2, 4, 2, 2, 3, 1, 1, 2, 4, 2, 1, 3, 1, 1, 4, 1, 4, 2, 1, 2, 3, 1, 2, 3, 2, 2, 4, 1, 2, 1, 2, 3, 2, 4, 1, 1, 4, 3, 2, 4, 2, 3, 1, 3, 1, 2, 3, 3, 1, 2, 1, 4, 2, 1, 3, 4, 1, 3, 3, 1, 4, 1, 3, 1, 3, 4, 2, 4, 3, 3, 2, 3, 4, 2, 4, 1, 1, 1, 2, 4, 1, 3, 1, 2, 1, 2, 4, 1, 4, 1, 2, 2, 4, 3, 1, 3, 1, 2, 1, 2, 2, 4, 1, 4, 1, 2, 3, 1, 1, 4, 4, 1, 4, 2, 3, 3, 3, 2, 1, 2, 3, 3, 1, 2, 2, 3, 2, 3, 1, 4, 1, 4, 1, 2, 3, 2, 1, 3, 1, 1, 4, 1, 4, 1, 1, 4, 1, 1, 2, 4, 2, 2, 1, 3, 1, 4, 1, 2, 3, 1, 4, 2, 3, 3, 1, 3, 2, 1, 2, 1, 4, 1, 1, 2, 1, 3, 3, 4, 1, 2, 3, 3, 1, 4, 2, 1, 2, 3, 1, 3, 1, 1, 3, 4, 3, 2, 3, 2, 1, 4, 1, 1, 2, 3, 3, 3, 2, 4, 3, 1, 4, 1, 3, 2, 3, 2, 3, 3, 4, 1, 2, 1, 2, 2, 2, 2, 4, 1, 3, 2, 1, 1, 3, 1, 2, 1, 2, 3, 1, 2, 4, 1, 2, 3, 1, 2, 3, 3, 4, 3, 1, 4, 2, 2, 1, 1, 2, 1, 4, 2, 3, 4, 1, 2, 3, 3, 1, 2, 4, 2], \"Freq\": [0.700734555721283, 0.7183910012245178, 0.239463672041893, 0.05986591801047325, 0.9539280533790588, 0.03179759904742241, 0.9940128922462463, 0.484036386013031, 0.7443385720252991, 0.7561896443367004, 0.1890474110841751, 0.704534649848938, 0.7535122632980347, 0.25597289204597473, 0.7679186463356018, 0.9886645078659058, 0.22219836711883545, 0.3703306019306183, 0.3703306019306183, 0.91862952709198, 0.9428232908248901, 0.03626243397593498, 0.9379751086235046, 0.5695210695266724, 0.3417126536369324, 0.26637160778045654, 0.6659290194511414, 0.7551239132881165, 0.45870935916900635, 0.45870935916900635, 0.11467733979225159, 0.9600719213485718, 0.27671852707862854, 0.5534370541572571, 0.91864413022995, 0.9014418125152588, 0.4935227632522583, 0.5436357259750366, 0.32618144154548645, 0.6167651414871216, 0.1850295513868332, 0.1850295513868332, 0.7516592741012573, 0.25055310130119324, 0.9412497282028198, 0.5695210695266724, 0.3417126536369324, 0.9601627588272095, 0.5343008041381836, 0.2671504020690918, 0.2629944682121277, 0.7889834046363831, 0.9595160484313965, 0.03553763031959534, 0.718497097492218, 0.20528487861156464, 0.10264243930578232, 0.752956748008728, 0.9314107894897461, 0.042336855083703995, 0.7746559977531433, 0.23239679634571075, 0.818854808807373, 0.8320167660713196, 0.1386694610118866, 0.023111576214432716, 0.2799775302410126, 0.5599550604820251, 0.7987924218177795, 0.9732954502105713, 0.01544913463294506, 0.4756387174129486, 0.4756387174129486, 0.49061352014541626, 0.367960125207901, 0.12265338003635406, 0.46189549565315247, 0.46189549565315247, 0.4845041036605835, 0.8694337606430054, 0.7512063384056091, 0.2146303802728653, 0.8071368932723999, 0.7538373470306396, 0.8071054220199585, 0.9705139398574829, 0.9643115401268005, 0.34992191195487976, 0.5248828530311584, 0.5627357959747314, 0.23843996226787567, 0.7153199315071106, 0.1319587528705597, 0.7917524576187134, 0.5126505494117737, 0.5126505494117737, 0.8159130215644836, 0.8953232765197754, 0.09592749178409576, 0.9807626008987427, 0.9442619681358337, 0.5485703349113464, 0.5485703349113464, 0.8028025031089783, 0.16810056567192078, 0.6724022626876831, 0.962817370891571, 0.050674598664045334, 0.9919494390487671, 0.8938919901847839, 0.6654297709465027, 0.22180992364883423, 0.6748422980308533, 0.2530658543109894, 0.5305983424186707, 0.3537321984767914, 0.08843304961919785, 0.9778079390525818, 0.9558319449424744, 0.03676276654005051, 0.7498911619186401, 0.7899348735809326, 0.15798698365688324, 0.7543748617172241, 0.9259787201881409, 0.7989713549613953, 0.48416778445243835, 0.7546674013137817, 0.39205315709114075, 0.13068437576293945, 0.39205315709114075, 0.8619613647460938, 0.36035624146461487, 0.6005937457084656, 0.45218977332115173, 0.45218977332115173, 0.237724170088768, 0.7131724953651428, 0.802641749382019, 0.21890228986740112, 0.4434381425380707, 0.554297685623169, 0.3835916221141815, 0.28769370913505554, 0.19179581105709076, 0.8368024230003357, 0.9812867641448975, 0.8013660311698914, 0.9906727075576782, 0.9691938757896423, 0.02106943167746067, 0.9638491868972778, 0.8398119211196899, 0.9882924556732178, 0.7871673703193665, 0.19147314131259918, 0.9942927360534668, 0.09821879863739014, 0.2946563959121704, 0.5893127918243408, 0.9186306595802307, 0.7007375359535217, 0.9450593590736389, 0.04500282555818558, 0.5561556220054626, 0.3707704246044159, 0.18345795571804047, 0.2751869559288025, 0.45864489674568176, 0.8198375701904297, 0.14467722177505493, 0.9186152219772339, 0.7942839860916138, 0.48407721519470215, 0.4845083951950073, 0.3633812963962555, 0.5675562024116516, 0.9876629114151001, 0.009976393543183804, 0.13537101447582245, 0.8122261166572571, 0.9691217541694641, 0.986382782459259, 0.6834620237350464, 0.7385428547859192, 0.23079463839530945, 0.9077819585800171, 0.9048191905021667, 0.7285276651382446, 0.12856370210647583, 0.12856370210647583, 0.7987913489341736, 0.5941789150238037, 0.29708945751190186, 0.9005359411239624, 0.6227123737335205, 0.20757080614566803, 0.1383805274963379, 0.7401841282844543, 0.277569055557251, 0.985482394695282, 0.27988141775131226, 0.5597628355026245, 0.6901416182518005, 0.9104780554771423, 0.21215543150901794, 0.6364663243293762, 0.748441755771637, 0.5378261804580688, 0.3841615319252014, 0.9603900909423828, 0.6197915077209473, 0.23838134109973907, 0.14302879571914673, 0.7442426085472107, 0.48407721519470215, 0.7537384033203125, 0.6904022693634033, 0.91594398021698, 0.4977141320705414, 0.3981713056564331, 0.9708414077758789, 0.02311527170240879, 0.8016403317451477, 0.16032806038856506, 0.7809447646141052, 0.917514979839325, 0.48408156633377075, 0.8398119211196899, 0.9408187866210938, 0.04704093933105469, 0.3961906433105469, 0.5942859649658203, 0.8496887683868408, 0.8167911767959595, 0.6580998301506042, 0.21936661005020142, 0.9668044447898865, 0.7535345554351807, 0.965178370475769, 0.9846572279930115, 0.6793765425682068, 0.3396882712841034, 0.9461222887039185, 0.03504156693816185, 0.5696842670440674, 0.2848421335220337, 0.07121053338050842, 0.9722301959991455, 0.030864451080560684, 0.7485930323600769, 0.2811572849750519, 0.5623145699501038, 0.8677243590354919, 0.9648528695106506, 0.02539086528122425, 0.02539086528122425, 0.7988466024398804, 0.8398119211196899, 0.7251692414283752, 0.9825945496559143, 0.014240500517189503, 0.9592942595481873, 0.9585617780685425, 0.9624015092849731, 0.9907038807868958, 0.7545351982116699, 0.5695210695266724, 0.3417126536369324, 0.42075085639953613, 0.42075085639953613, 0.914566159248352, 0.5078508257865906, 0.5078508257865906, 0.12696270644664764, 0.7442888617515564, 0.16438430547714233, 0.32876861095428467, 0.493152916431427, 0.7554647326469421], \"Term\": [\"accompany\", \"also\", \"also\", \"also\", \"amazing\", \"amazing\", \"atmosphere\", \"attention\", \"available\", \"back\", \"back\", \"bake\", \"beef\", \"bit\", \"bit\", \"booking\", \"bread\", \"bread\", \"bread\", \"brownie\", \"burger\", \"burger\", \"care\", \"center\", \"center\", \"certainly\", \"certainly\", \"cheesecake\", \"chicken\", \"chicken\", \"chicken\", \"choice\", \"choose\", \"choose\", \"coconut\", \"coffee\", \"combination\", \"come\", \"come\", \"cook\", \"cook\", \"cook\", \"cooked\", \"cooked\", \"cookshop\", \"cover\", \"cover\", \"cuisine\", \"customer\", \"customer\", \"decorate\", \"decorate\", \"definitely\", \"definitely\", \"delicious\", \"delicious\", \"delicious\", \"detail\", \"different\", \"different\", \"dinner\", \"dinner\", \"dip\", \"dish\", \"dish\", \"dish\", \"dry\", \"dry\", \"easy\", \"enjoy\", \"enjoy\", \"enough\", \"enough\", \"even\", \"even\", \"even\", \"evening\", \"evening\", \"expectation\", \"expensive\", \"experience\", \"experience\", \"explain\", \"fabulous\", \"familiar\", \"family\", \"far\", \"flavour\", \"flavour\", \"forget\", \"forward\", \"forward\", \"french\", \"french\", \"fresh\", \"fresh\", \"friday\", \"friend\", \"friend\", \"friendly\", \"fry\", \"full\", \"full\", \"gem\", \"get\", \"get\", \"go\", \"go\", \"great\", \"halloumi\", \"happy\", \"happy\", \"help\", \"help\", \"high\", \"high\", \"high\", \"highly\", \"homemade\", \"homemade\", \"honest\", \"hope\", \"hope\", \"house\", \"huge\", \"impressed\", \"innovative\", \"inside\", \"interesting\", \"interesting\", \"interesting\", \"interior\", \"keep\", \"keep\", \"like\", \"like\", \"little\", \"little\", \"local\", \"local\", \"long\", \"long\", \"look\", \"look\", \"look\", \"lot\", \"love\", \"low\", \"lunch\", \"make\", \"make\", \"many\", \"marinade\", \"meal\", \"menu\", \"menu\", \"much\", \"mussel\", \"mussel\", \"mussel\", \"oil\", \"olive\", \"open\", \"open\", \"option\", \"option\", \"order\", \"order\", \"order\", \"owner\", \"owner\", \"pair\", \"party\", \"passion\", \"people\", \"people\", \"person\", \"place\", \"place\", \"pork\", \"pork\", \"pork_chop\", \"portion\", \"potato\", \"price\", \"price\", \"provide\", \"pull\", \"quality\", \"quality\", \"quality\", \"quantity\", \"range\", \"range\", \"rather\", \"really\", \"really\", \"really\", \"reasonable\", \"reasonable\", \"recommend\", \"regular\", \"regular\", \"regularly\", \"remember\", \"return\", \"return\", \"rice\", \"risotto\", \"risotto\", \"romantic\", \"salad\", \"salad\", \"salad\", \"salat\", \"satisfied\", \"seabass\", \"secret\", \"seem\", \"selection\", \"selection\", \"service\", \"service\", \"share\", \"share\", \"simple\", \"simply\", \"situate\", \"sized\", \"small\", \"small\", \"smile\", \"smile\", \"smoke\", \"soft\", \"special\", \"special\", \"staff\", \"star\", \"start\", \"strongly\", \"sure\", \"sure\", \"taste\", \"taste\", \"tasty\", \"tasty\", \"tasty\", \"time\", \"time\", \"together\", \"top\", \"top\", \"touch\", \"try\", \"try\", \"try\", \"unusual\", \"varied\", \"vegetarian\", \"visit\", \"visit\", \"wait\", \"waitress\", \"warm\", \"well\", \"whole\", \"wide\", \"wide\", \"wife\", \"wife\", \"willing\", \"wine\", \"wine\", \"wine\", \"wise\", \"wonderful\", \"wonderful\", \"wonderful\", \"work\"]}, \"R\": 30, \"lambda.step\": 0.01, \"plot.opts\": {\"xlab\": \"PC1\", \"ylab\": \"PC2\"}, \"topic.order\": [3, 1, 2, 4]};\n",
       "\n",
       "function LDAvis_load_lib(url, callback){\n",
       "  var s = document.createElement('script');\n",
       "  s.src = url;\n",
       "  s.async = true;\n",
       "  s.onreadystatechange = s.onload = callback;\n",
       "  s.onerror = function(){console.warn(\"failed to load library \" + url);};\n",
       "  document.getElementsByTagName(\"head\")[0].appendChild(s);\n",
       "}\n",
       "\n",
       "if(typeof(LDAvis) !== \"undefined\"){\n",
       "   // already loaded: just create the visualization\n",
       "   !function(LDAvis){\n",
       "       new LDAvis(\"#\" + \"ldavis_el1163223089745959123237711600\", ldavis_el1163223089745959123237711600_data);\n",
       "   }(LDAvis);\n",
       "}else if(typeof define === \"function\" && define.amd){\n",
       "   // require.js is available: use it to load d3/LDAvis\n",
       "   require.config({paths: {d3: \"https://cdnjs.cloudflare.com/ajax/libs/d3/3.5.5/d3.min\"}});\n",
       "   require([\"d3\"], function(d3){\n",
       "      window.d3 = d3;\n",
       "      LDAvis_load_lib(\"https://cdn.rawgit.com/bmabey/pyLDAvis/files/ldavis.v1.0.0.js\", function(){\n",
       "        new LDAvis(\"#\" + \"ldavis_el1163223089745959123237711600\", ldavis_el1163223089745959123237711600_data);\n",
       "      });\n",
       "    });\n",
       "}else{\n",
       "    // require.js not available: dynamically load d3 & LDAvis\n",
       "    LDAvis_load_lib(\"https://cdnjs.cloudflare.com/ajax/libs/d3/3.5.5/d3.min.js\", function(){\n",
       "         LDAvis_load_lib(\"https://cdn.rawgit.com/bmabey/pyLDAvis/files/ldavis.v1.0.0.js\", function(){\n",
       "                 new LDAvis(\"#\" + \"ldavis_el1163223089745959123237711600\", ldavis_el1163223089745959123237711600_data);\n",
       "            })\n",
       "         });\n",
       "}\n",
       "</script>"
      ],
      "text/plain": [
       "PreparedData(topic_coordinates=              x         y  topics  cluster       Freq\n",
       "topic                                                \n",
       "2      0.215809  0.105586       1        1  62.764339\n",
       "0      0.013104 -0.140175       2        1  16.532557\n",
       "1     -0.120087 -0.100995       3        1  14.171245\n",
       "3     -0.108826  0.135584       4        1   6.531860, topic_info=        Term        Freq       Total Category  logprob  loglift\n",
       "86      menu   47.000000   47.000000  Default  30.0000  30.0000\n",
       "229   dinner   25.000000   25.000000  Default  29.0000  29.0000\n",
       "44      pork   14.000000   14.000000  Default  28.0000  28.0000\n",
       "20     place  100.000000  100.000000  Default  27.0000  27.0000\n",
       "1034    huge   14.000000   14.000000  Default  26.0000  26.0000\n",
       "...      ...         ...         ...      ...      ...      ...\n",
       "360     help    3.012585   11.854622   Topic4  -4.6219   1.3586\n",
       "259    owner    3.415219   20.735815   Topic4  -4.4965   0.9249\n",
       "806    local    2.575893   13.704744   Topic4  -4.7785   1.0569\n",
       "426     hope    2.182297   12.659271   Topic4  -4.9443   0.9705\n",
       "442   friend    3.006948   31.273621   Topic4  -4.6238   0.3866\n",
       "\n",
       "[219 rows x 6 columns], token_table=      Topic      Freq       Term\n",
       "term                            \n",
       "779       2  0.700735  accompany\n",
       "10        1  0.718391       also\n",
       "10        2  0.239464       also\n",
       "10        3  0.059866       also\n",
       "295       1  0.953928    amazing\n",
       "...     ...       ...        ...\n",
       "910       3  0.744289       wise\n",
       "365       1  0.164384  wonderful\n",
       "365       2  0.328769  wonderful\n",
       "365       4  0.493153  wonderful\n",
       "286       2  0.755465       work\n",
       "\n",
       "[280 rows x 3 columns], R=30, lambda_step=0.01, plot_opts={'xlab': 'PC1', 'ylab': 'PC2'}, topic_order=[3, 1, 2, 4])"
      ]
     },
     "metadata": {},
     "output_type": "display_data"
    }
   ],
   "source": [
    "plot_model(lda_pos_custom, plot ='topic_model')"
   ]
  },
  {
   "cell_type": "code",
   "execution_count": 16,
   "metadata": {},
   "outputs": [
    {
     "data": {
      "application/vnd.jupyter.widget-view+json": {
       "model_id": "",
       "version_major": 2,
       "version_minor": 0
      },
      "text/plain": [
       "IntProgress(value=0, description='Processing: ', max=25)"
      ]
     },
     "metadata": {},
     "output_type": "display_data"
    },
    {
     "data": {
      "application/vnd.jupyter.widget-view+json": {
       "model_id": "e67fd36052f54d8e9f22d445aa73d8c4",
       "version_major": 2,
       "version_minor": 0
      },
      "text/plain": [
       "Output()"
      ]
     },
     "metadata": {},
     "output_type": "display_data"
    },
    {
     "data": {
      "text/html": [
       "        <script type=\"text/javascript\">\n",
       "        window.PlotlyConfig = {MathJaxConfig: 'local'};\n",
       "        if (window.MathJax) {MathJax.Hub.Config({SVG: {font: \"STIX-Web\"}});}\n",
       "        if (typeof require !== 'undefined') {\n",
       "        require.undef(\"plotly\");\n",
       "        requirejs.config({\n",
       "            paths: {\n",
       "                'plotly': ['https://cdn.plot.ly/plotly-latest.min']\n",
       "            }\n",
       "        });\n",
       "        require(['plotly'], function(Plotly) {\n",
       "            window._Plotly = Plotly;\n",
       "        });\n",
       "        }\n",
       "        </script>\n",
       "        "
      ]
     },
     "metadata": {},
     "output_type": "display_data"
    },
    {
     "data": {
      "application/vnd.plotly.v1+json": {
       "config": {
        "plotlyServerURL": "https://plot.ly"
       },
       "data": [
        {
         "hovertemplate": "Metric=Coherence<br># Topics=%{x}<br>Score=%{y}<extra></extra>",
         "legendgroup": "Coherence",
         "line": {
          "color": "#636efa",
          "dash": "solid",
          "shape": "linear"
         },
         "mode": "lines",
         "name": "Coherence",
         "orientation": "v",
         "showlegend": true,
         "type": "scatter",
         "x": [
          2,
          4,
          8,
          16,
          32,
          64,
          100,
          200,
          300,
          400
         ],
         "xaxis": "x",
         "y": [
          0.35281978206854214,
          0.43998804835761673,
          0.3750202356213721,
          0.34712027493975134,
          0.37019287498298076,
          0.4421146507464642,
          0.4648230744713881,
          0.47646989762003633,
          0.43398802738140735,
          0.4037880228692295
         ],
         "yaxis": "y"
        }
       ],
       "layout": {
        "legend": {
         "title": {
          "text": "Metric"
         },
         "tracegroupgap": 0
        },
        "plot_bgcolor": "rgb(245,245,245)",
        "template": {
         "data": {
          "bar": [
           {
            "error_x": {
             "color": "#2a3f5f"
            },
            "error_y": {
             "color": "#2a3f5f"
            },
            "marker": {
             "line": {
              "color": "#E5ECF6",
              "width": 0.5
             }
            },
            "type": "bar"
           }
          ],
          "barpolar": [
           {
            "marker": {
             "line": {
              "color": "#E5ECF6",
              "width": 0.5
             }
            },
            "type": "barpolar"
           }
          ],
          "carpet": [
           {
            "aaxis": {
             "endlinecolor": "#2a3f5f",
             "gridcolor": "white",
             "linecolor": "white",
             "minorgridcolor": "white",
             "startlinecolor": "#2a3f5f"
            },
            "baxis": {
             "endlinecolor": "#2a3f5f",
             "gridcolor": "white",
             "linecolor": "white",
             "minorgridcolor": "white",
             "startlinecolor": "#2a3f5f"
            },
            "type": "carpet"
           }
          ],
          "choropleth": [
           {
            "colorbar": {
             "outlinewidth": 0,
             "ticks": ""
            },
            "type": "choropleth"
           }
          ],
          "contour": [
           {
            "colorbar": {
             "outlinewidth": 0,
             "ticks": ""
            },
            "colorscale": [
             [
              0,
              "#0d0887"
             ],
             [
              0.1111111111111111,
              "#46039f"
             ],
             [
              0.2222222222222222,
              "#7201a8"
             ],
             [
              0.3333333333333333,
              "#9c179e"
             ],
             [
              0.4444444444444444,
              "#bd3786"
             ],
             [
              0.5555555555555556,
              "#d8576b"
             ],
             [
              0.6666666666666666,
              "#ed7953"
             ],
             [
              0.7777777777777778,
              "#fb9f3a"
             ],
             [
              0.8888888888888888,
              "#fdca26"
             ],
             [
              1,
              "#f0f921"
             ]
            ],
            "type": "contour"
           }
          ],
          "contourcarpet": [
           {
            "colorbar": {
             "outlinewidth": 0,
             "ticks": ""
            },
            "type": "contourcarpet"
           }
          ],
          "heatmap": [
           {
            "colorbar": {
             "outlinewidth": 0,
             "ticks": ""
            },
            "colorscale": [
             [
              0,
              "#0d0887"
             ],
             [
              0.1111111111111111,
              "#46039f"
             ],
             [
              0.2222222222222222,
              "#7201a8"
             ],
             [
              0.3333333333333333,
              "#9c179e"
             ],
             [
              0.4444444444444444,
              "#bd3786"
             ],
             [
              0.5555555555555556,
              "#d8576b"
             ],
             [
              0.6666666666666666,
              "#ed7953"
             ],
             [
              0.7777777777777778,
              "#fb9f3a"
             ],
             [
              0.8888888888888888,
              "#fdca26"
             ],
             [
              1,
              "#f0f921"
             ]
            ],
            "type": "heatmap"
           }
          ],
          "heatmapgl": [
           {
            "colorbar": {
             "outlinewidth": 0,
             "ticks": ""
            },
            "colorscale": [
             [
              0,
              "#0d0887"
             ],
             [
              0.1111111111111111,
              "#46039f"
             ],
             [
              0.2222222222222222,
              "#7201a8"
             ],
             [
              0.3333333333333333,
              "#9c179e"
             ],
             [
              0.4444444444444444,
              "#bd3786"
             ],
             [
              0.5555555555555556,
              "#d8576b"
             ],
             [
              0.6666666666666666,
              "#ed7953"
             ],
             [
              0.7777777777777778,
              "#fb9f3a"
             ],
             [
              0.8888888888888888,
              "#fdca26"
             ],
             [
              1,
              "#f0f921"
             ]
            ],
            "type": "heatmapgl"
           }
          ],
          "histogram": [
           {
            "marker": {
             "colorbar": {
              "outlinewidth": 0,
              "ticks": ""
             }
            },
            "type": "histogram"
           }
          ],
          "histogram2d": [
           {
            "colorbar": {
             "outlinewidth": 0,
             "ticks": ""
            },
            "colorscale": [
             [
              0,
              "#0d0887"
             ],
             [
              0.1111111111111111,
              "#46039f"
             ],
             [
              0.2222222222222222,
              "#7201a8"
             ],
             [
              0.3333333333333333,
              "#9c179e"
             ],
             [
              0.4444444444444444,
              "#bd3786"
             ],
             [
              0.5555555555555556,
              "#d8576b"
             ],
             [
              0.6666666666666666,
              "#ed7953"
             ],
             [
              0.7777777777777778,
              "#fb9f3a"
             ],
             [
              0.8888888888888888,
              "#fdca26"
             ],
             [
              1,
              "#f0f921"
             ]
            ],
            "type": "histogram2d"
           }
          ],
          "histogram2dcontour": [
           {
            "colorbar": {
             "outlinewidth": 0,
             "ticks": ""
            },
            "colorscale": [
             [
              0,
              "#0d0887"
             ],
             [
              0.1111111111111111,
              "#46039f"
             ],
             [
              0.2222222222222222,
              "#7201a8"
             ],
             [
              0.3333333333333333,
              "#9c179e"
             ],
             [
              0.4444444444444444,
              "#bd3786"
             ],
             [
              0.5555555555555556,
              "#d8576b"
             ],
             [
              0.6666666666666666,
              "#ed7953"
             ],
             [
              0.7777777777777778,
              "#fb9f3a"
             ],
             [
              0.8888888888888888,
              "#fdca26"
             ],
             [
              1,
              "#f0f921"
             ]
            ],
            "type": "histogram2dcontour"
           }
          ],
          "mesh3d": [
           {
            "colorbar": {
             "outlinewidth": 0,
             "ticks": ""
            },
            "type": "mesh3d"
           }
          ],
          "parcoords": [
           {
            "line": {
             "colorbar": {
              "outlinewidth": 0,
              "ticks": ""
             }
            },
            "type": "parcoords"
           }
          ],
          "pie": [
           {
            "automargin": true,
            "type": "pie"
           }
          ],
          "scatter": [
           {
            "marker": {
             "colorbar": {
              "outlinewidth": 0,
              "ticks": ""
             }
            },
            "type": "scatter"
           }
          ],
          "scatter3d": [
           {
            "line": {
             "colorbar": {
              "outlinewidth": 0,
              "ticks": ""
             }
            },
            "marker": {
             "colorbar": {
              "outlinewidth": 0,
              "ticks": ""
             }
            },
            "type": "scatter3d"
           }
          ],
          "scattercarpet": [
           {
            "marker": {
             "colorbar": {
              "outlinewidth": 0,
              "ticks": ""
             }
            },
            "type": "scattercarpet"
           }
          ],
          "scattergeo": [
           {
            "marker": {
             "colorbar": {
              "outlinewidth": 0,
              "ticks": ""
             }
            },
            "type": "scattergeo"
           }
          ],
          "scattergl": [
           {
            "marker": {
             "colorbar": {
              "outlinewidth": 0,
              "ticks": ""
             }
            },
            "type": "scattergl"
           }
          ],
          "scattermapbox": [
           {
            "marker": {
             "colorbar": {
              "outlinewidth": 0,
              "ticks": ""
             }
            },
            "type": "scattermapbox"
           }
          ],
          "scatterpolar": [
           {
            "marker": {
             "colorbar": {
              "outlinewidth": 0,
              "ticks": ""
             }
            },
            "type": "scatterpolar"
           }
          ],
          "scatterpolargl": [
           {
            "marker": {
             "colorbar": {
              "outlinewidth": 0,
              "ticks": ""
             }
            },
            "type": "scatterpolargl"
           }
          ],
          "scatterternary": [
           {
            "marker": {
             "colorbar": {
              "outlinewidth": 0,
              "ticks": ""
             }
            },
            "type": "scatterternary"
           }
          ],
          "surface": [
           {
            "colorbar": {
             "outlinewidth": 0,
             "ticks": ""
            },
            "colorscale": [
             [
              0,
              "#0d0887"
             ],
             [
              0.1111111111111111,
              "#46039f"
             ],
             [
              0.2222222222222222,
              "#7201a8"
             ],
             [
              0.3333333333333333,
              "#9c179e"
             ],
             [
              0.4444444444444444,
              "#bd3786"
             ],
             [
              0.5555555555555556,
              "#d8576b"
             ],
             [
              0.6666666666666666,
              "#ed7953"
             ],
             [
              0.7777777777777778,
              "#fb9f3a"
             ],
             [
              0.8888888888888888,
              "#fdca26"
             ],
             [
              1,
              "#f0f921"
             ]
            ],
            "type": "surface"
           }
          ],
          "table": [
           {
            "cells": {
             "fill": {
              "color": "#EBF0F8"
             },
             "line": {
              "color": "white"
             }
            },
            "header": {
             "fill": {
              "color": "#C8D4E3"
             },
             "line": {
              "color": "white"
             }
            },
            "type": "table"
           }
          ]
         },
         "layout": {
          "annotationdefaults": {
           "arrowcolor": "#2a3f5f",
           "arrowhead": 0,
           "arrowwidth": 1
          },
          "coloraxis": {
           "colorbar": {
            "outlinewidth": 0,
            "ticks": ""
           }
          },
          "colorscale": {
           "diverging": [
            [
             0,
             "#8e0152"
            ],
            [
             0.1,
             "#c51b7d"
            ],
            [
             0.2,
             "#de77ae"
            ],
            [
             0.3,
             "#f1b6da"
            ],
            [
             0.4,
             "#fde0ef"
            ],
            [
             0.5,
             "#f7f7f7"
            ],
            [
             0.6,
             "#e6f5d0"
            ],
            [
             0.7,
             "#b8e186"
            ],
            [
             0.8,
             "#7fbc41"
            ],
            [
             0.9,
             "#4d9221"
            ],
            [
             1,
             "#276419"
            ]
           ],
           "sequential": [
            [
             0,
             "#0d0887"
            ],
            [
             0.1111111111111111,
             "#46039f"
            ],
            [
             0.2222222222222222,
             "#7201a8"
            ],
            [
             0.3333333333333333,
             "#9c179e"
            ],
            [
             0.4444444444444444,
             "#bd3786"
            ],
            [
             0.5555555555555556,
             "#d8576b"
            ],
            [
             0.6666666666666666,
             "#ed7953"
            ],
            [
             0.7777777777777778,
             "#fb9f3a"
            ],
            [
             0.8888888888888888,
             "#fdca26"
            ],
            [
             1,
             "#f0f921"
            ]
           ],
           "sequentialminus": [
            [
             0,
             "#0d0887"
            ],
            [
             0.1111111111111111,
             "#46039f"
            ],
            [
             0.2222222222222222,
             "#7201a8"
            ],
            [
             0.3333333333333333,
             "#9c179e"
            ],
            [
             0.4444444444444444,
             "#bd3786"
            ],
            [
             0.5555555555555556,
             "#d8576b"
            ],
            [
             0.6666666666666666,
             "#ed7953"
            ],
            [
             0.7777777777777778,
             "#fb9f3a"
            ],
            [
             0.8888888888888888,
             "#fdca26"
            ],
            [
             1,
             "#f0f921"
            ]
           ]
          },
          "colorway": [
           "#636efa",
           "#EF553B",
           "#00cc96",
           "#ab63fa",
           "#FFA15A",
           "#19d3f3",
           "#FF6692",
           "#B6E880",
           "#FF97FF",
           "#FECB52"
          ],
          "font": {
           "color": "#2a3f5f"
          },
          "geo": {
           "bgcolor": "white",
           "lakecolor": "white",
           "landcolor": "#E5ECF6",
           "showlakes": true,
           "showland": true,
           "subunitcolor": "white"
          },
          "hoverlabel": {
           "align": "left"
          },
          "hovermode": "closest",
          "mapbox": {
           "style": "light"
          },
          "paper_bgcolor": "white",
          "plot_bgcolor": "#E5ECF6",
          "polar": {
           "angularaxis": {
            "gridcolor": "white",
            "linecolor": "white",
            "ticks": ""
           },
           "bgcolor": "#E5ECF6",
           "radialaxis": {
            "gridcolor": "white",
            "linecolor": "white",
            "ticks": ""
           }
          },
          "scene": {
           "xaxis": {
            "backgroundcolor": "#E5ECF6",
            "gridcolor": "white",
            "gridwidth": 2,
            "linecolor": "white",
            "showbackground": true,
            "ticks": "",
            "zerolinecolor": "white"
           },
           "yaxis": {
            "backgroundcolor": "#E5ECF6",
            "gridcolor": "white",
            "gridwidth": 2,
            "linecolor": "white",
            "showbackground": true,
            "ticks": "",
            "zerolinecolor": "white"
           },
           "zaxis": {
            "backgroundcolor": "#E5ECF6",
            "gridcolor": "white",
            "gridwidth": 2,
            "linecolor": "white",
            "showbackground": true,
            "ticks": "",
            "zerolinecolor": "white"
           }
          },
          "shapedefaults": {
           "line": {
            "color": "#2a3f5f"
           }
          },
          "ternary": {
           "aaxis": {
            "gridcolor": "white",
            "linecolor": "white",
            "ticks": ""
           },
           "baxis": {
            "gridcolor": "white",
            "linecolor": "white",
            "ticks": ""
           },
           "bgcolor": "#E5ECF6",
           "caxis": {
            "gridcolor": "white",
            "linecolor": "white",
            "ticks": ""
           }
          },
          "title": {
           "x": 0.05
          },
          "xaxis": {
           "automargin": true,
           "gridcolor": "white",
           "linecolor": "white",
           "ticks": "",
           "title": {
            "standoff": 15
           },
           "zerolinecolor": "white",
           "zerolinewidth": 2
          },
          "yaxis": {
           "automargin": true,
           "gridcolor": "white",
           "linecolor": "white",
           "ticks": "",
           "title": {
            "standoff": 15
           },
           "zerolinecolor": "white",
           "zerolinewidth": 2
          }
         }
        },
        "title": {
         "text": "Coherence Value and # of Topics"
        },
        "xaxis": {
         "anchor": "y",
         "domain": [
          0,
          1
         ],
         "title": {
          "text": "# Topics"
         }
        },
        "yaxis": {
         "anchor": "x",
         "domain": [
          0,
          1
         ],
         "title": {
          "text": "Score"
         }
        }
       }
      },
      "text/html": [
       "<div>\n",
       "        \n",
       "        \n",
       "            <div id=\"fc8122c1-c36b-433a-a32d-bd47d5a6d7d8\" class=\"plotly-graph-div\" style=\"height:525px; width:100%;\"></div>\n",
       "            <script type=\"text/javascript\">\n",
       "                require([\"plotly\"], function(Plotly) {\n",
       "                    window.PLOTLYENV=window.PLOTLYENV || {};\n",
       "                    \n",
       "                if (document.getElementById(\"fc8122c1-c36b-433a-a32d-bd47d5a6d7d8\")) {\n",
       "                    Plotly.newPlot(\n",
       "                        'fc8122c1-c36b-433a-a32d-bd47d5a6d7d8',\n",
       "                        [{\"hovertemplate\": \"Metric=Coherence<br># Topics=%{x}<br>Score=%{y}<extra></extra>\", \"legendgroup\": \"Coherence\", \"line\": {\"color\": \"#636efa\", \"dash\": \"solid\", \"shape\": \"linear\"}, \"mode\": \"lines\", \"name\": \"Coherence\", \"orientation\": \"v\", \"showlegend\": true, \"type\": \"scatter\", \"x\": [2, 4, 8, 16, 32, 64, 100, 200, 300, 400], \"xaxis\": \"x\", \"y\": [0.35281978206854214, 0.43998804835761673, 0.3750202356213721, 0.34712027493975134, 0.37019287498298076, 0.4421146507464642, 0.4648230744713881, 0.47646989762003633, 0.43398802738140735, 0.4037880228692295], \"yaxis\": \"y\"}],\n",
       "                        {\"legend\": {\"title\": {\"text\": \"Metric\"}, \"tracegroupgap\": 0}, \"plot_bgcolor\": \"rgb(245,245,245)\", \"template\": {\"data\": {\"bar\": [{\"error_x\": {\"color\": \"#2a3f5f\"}, \"error_y\": {\"color\": \"#2a3f5f\"}, \"marker\": {\"line\": {\"color\": \"#E5ECF6\", \"width\": 0.5}}, \"type\": \"bar\"}], \"barpolar\": [{\"marker\": {\"line\": {\"color\": \"#E5ECF6\", \"width\": 0.5}}, \"type\": \"barpolar\"}], \"carpet\": [{\"aaxis\": {\"endlinecolor\": \"#2a3f5f\", \"gridcolor\": \"white\", \"linecolor\": \"white\", \"minorgridcolor\": \"white\", \"startlinecolor\": \"#2a3f5f\"}, \"baxis\": {\"endlinecolor\": \"#2a3f5f\", \"gridcolor\": \"white\", \"linecolor\": \"white\", \"minorgridcolor\": \"white\", \"startlinecolor\": \"#2a3f5f\"}, \"type\": \"carpet\"}], \"choropleth\": [{\"colorbar\": {\"outlinewidth\": 0, \"ticks\": \"\"}, \"type\": \"choropleth\"}], \"contour\": [{\"colorbar\": {\"outlinewidth\": 0, \"ticks\": \"\"}, \"colorscale\": [[0.0, \"#0d0887\"], [0.1111111111111111, \"#46039f\"], [0.2222222222222222, \"#7201a8\"], [0.3333333333333333, \"#9c179e\"], [0.4444444444444444, \"#bd3786\"], [0.5555555555555556, \"#d8576b\"], [0.6666666666666666, \"#ed7953\"], [0.7777777777777778, \"#fb9f3a\"], [0.8888888888888888, \"#fdca26\"], [1.0, \"#f0f921\"]], \"type\": \"contour\"}], \"contourcarpet\": [{\"colorbar\": {\"outlinewidth\": 0, \"ticks\": \"\"}, \"type\": \"contourcarpet\"}], \"heatmap\": [{\"colorbar\": {\"outlinewidth\": 0, \"ticks\": \"\"}, \"colorscale\": [[0.0, \"#0d0887\"], [0.1111111111111111, \"#46039f\"], [0.2222222222222222, \"#7201a8\"], [0.3333333333333333, \"#9c179e\"], [0.4444444444444444, \"#bd3786\"], [0.5555555555555556, \"#d8576b\"], [0.6666666666666666, \"#ed7953\"], [0.7777777777777778, \"#fb9f3a\"], [0.8888888888888888, \"#fdca26\"], [1.0, \"#f0f921\"]], \"type\": \"heatmap\"}], \"heatmapgl\": [{\"colorbar\": {\"outlinewidth\": 0, \"ticks\": \"\"}, \"colorscale\": [[0.0, \"#0d0887\"], [0.1111111111111111, \"#46039f\"], [0.2222222222222222, \"#7201a8\"], [0.3333333333333333, \"#9c179e\"], [0.4444444444444444, \"#bd3786\"], [0.5555555555555556, \"#d8576b\"], [0.6666666666666666, \"#ed7953\"], [0.7777777777777778, \"#fb9f3a\"], [0.8888888888888888, \"#fdca26\"], [1.0, \"#f0f921\"]], \"type\": \"heatmapgl\"}], \"histogram\": [{\"marker\": {\"colorbar\": {\"outlinewidth\": 0, \"ticks\": \"\"}}, \"type\": \"histogram\"}], \"histogram2d\": [{\"colorbar\": {\"outlinewidth\": 0, \"ticks\": \"\"}, \"colorscale\": [[0.0, \"#0d0887\"], [0.1111111111111111, \"#46039f\"], [0.2222222222222222, \"#7201a8\"], [0.3333333333333333, \"#9c179e\"], [0.4444444444444444, \"#bd3786\"], [0.5555555555555556, \"#d8576b\"], [0.6666666666666666, \"#ed7953\"], [0.7777777777777778, \"#fb9f3a\"], [0.8888888888888888, \"#fdca26\"], [1.0, \"#f0f921\"]], \"type\": \"histogram2d\"}], \"histogram2dcontour\": [{\"colorbar\": {\"outlinewidth\": 0, \"ticks\": \"\"}, \"colorscale\": [[0.0, \"#0d0887\"], [0.1111111111111111, \"#46039f\"], [0.2222222222222222, \"#7201a8\"], [0.3333333333333333, \"#9c179e\"], [0.4444444444444444, \"#bd3786\"], [0.5555555555555556, \"#d8576b\"], [0.6666666666666666, \"#ed7953\"], [0.7777777777777778, \"#fb9f3a\"], [0.8888888888888888, \"#fdca26\"], [1.0, \"#f0f921\"]], \"type\": \"histogram2dcontour\"}], \"mesh3d\": [{\"colorbar\": {\"outlinewidth\": 0, \"ticks\": \"\"}, \"type\": \"mesh3d\"}], \"parcoords\": [{\"line\": {\"colorbar\": {\"outlinewidth\": 0, \"ticks\": \"\"}}, \"type\": \"parcoords\"}], \"pie\": [{\"automargin\": true, \"type\": \"pie\"}], \"scatter\": [{\"marker\": {\"colorbar\": {\"outlinewidth\": 0, \"ticks\": \"\"}}, \"type\": \"scatter\"}], \"scatter3d\": [{\"line\": {\"colorbar\": {\"outlinewidth\": 0, \"ticks\": \"\"}}, \"marker\": {\"colorbar\": {\"outlinewidth\": 0, \"ticks\": \"\"}}, \"type\": \"scatter3d\"}], \"scattercarpet\": [{\"marker\": {\"colorbar\": {\"outlinewidth\": 0, \"ticks\": \"\"}}, \"type\": \"scattercarpet\"}], \"scattergeo\": [{\"marker\": {\"colorbar\": {\"outlinewidth\": 0, \"ticks\": \"\"}}, \"type\": \"scattergeo\"}], \"scattergl\": [{\"marker\": {\"colorbar\": {\"outlinewidth\": 0, \"ticks\": \"\"}}, \"type\": \"scattergl\"}], \"scattermapbox\": [{\"marker\": {\"colorbar\": {\"outlinewidth\": 0, \"ticks\": \"\"}}, \"type\": \"scattermapbox\"}], \"scatterpolar\": [{\"marker\": {\"colorbar\": {\"outlinewidth\": 0, \"ticks\": \"\"}}, \"type\": \"scatterpolar\"}], \"scatterpolargl\": [{\"marker\": {\"colorbar\": {\"outlinewidth\": 0, \"ticks\": \"\"}}, \"type\": \"scatterpolargl\"}], \"scatterternary\": [{\"marker\": {\"colorbar\": {\"outlinewidth\": 0, \"ticks\": \"\"}}, \"type\": \"scatterternary\"}], \"surface\": [{\"colorbar\": {\"outlinewidth\": 0, \"ticks\": \"\"}, \"colorscale\": [[0.0, \"#0d0887\"], [0.1111111111111111, \"#46039f\"], [0.2222222222222222, \"#7201a8\"], [0.3333333333333333, \"#9c179e\"], [0.4444444444444444, \"#bd3786\"], [0.5555555555555556, \"#d8576b\"], [0.6666666666666666, \"#ed7953\"], [0.7777777777777778, \"#fb9f3a\"], [0.8888888888888888, \"#fdca26\"], [1.0, \"#f0f921\"]], \"type\": \"surface\"}], \"table\": [{\"cells\": {\"fill\": {\"color\": \"#EBF0F8\"}, \"line\": {\"color\": \"white\"}}, \"header\": {\"fill\": {\"color\": \"#C8D4E3\"}, \"line\": {\"color\": \"white\"}}, \"type\": \"table\"}]}, \"layout\": {\"annotationdefaults\": {\"arrowcolor\": \"#2a3f5f\", \"arrowhead\": 0, \"arrowwidth\": 1}, \"coloraxis\": {\"colorbar\": {\"outlinewidth\": 0, \"ticks\": \"\"}}, \"colorscale\": {\"diverging\": [[0, \"#8e0152\"], [0.1, \"#c51b7d\"], [0.2, \"#de77ae\"], [0.3, \"#f1b6da\"], [0.4, \"#fde0ef\"], [0.5, \"#f7f7f7\"], [0.6, \"#e6f5d0\"], [0.7, \"#b8e186\"], [0.8, \"#7fbc41\"], [0.9, \"#4d9221\"], [1, \"#276419\"]], \"sequential\": [[0.0, \"#0d0887\"], [0.1111111111111111, \"#46039f\"], [0.2222222222222222, \"#7201a8\"], [0.3333333333333333, \"#9c179e\"], [0.4444444444444444, \"#bd3786\"], [0.5555555555555556, \"#d8576b\"], [0.6666666666666666, \"#ed7953\"], [0.7777777777777778, \"#fb9f3a\"], [0.8888888888888888, \"#fdca26\"], [1.0, \"#f0f921\"]], \"sequentialminus\": [[0.0, \"#0d0887\"], [0.1111111111111111, \"#46039f\"], [0.2222222222222222, \"#7201a8\"], [0.3333333333333333, \"#9c179e\"], [0.4444444444444444, \"#bd3786\"], [0.5555555555555556, \"#d8576b\"], [0.6666666666666666, \"#ed7953\"], [0.7777777777777778, \"#fb9f3a\"], [0.8888888888888888, \"#fdca26\"], [1.0, \"#f0f921\"]]}, \"colorway\": [\"#636efa\", \"#EF553B\", \"#00cc96\", \"#ab63fa\", \"#FFA15A\", \"#19d3f3\", \"#FF6692\", \"#B6E880\", \"#FF97FF\", \"#FECB52\"], \"font\": {\"color\": \"#2a3f5f\"}, \"geo\": {\"bgcolor\": \"white\", \"lakecolor\": \"white\", \"landcolor\": \"#E5ECF6\", \"showlakes\": true, \"showland\": true, \"subunitcolor\": \"white\"}, \"hoverlabel\": {\"align\": \"left\"}, \"hovermode\": \"closest\", \"mapbox\": {\"style\": \"light\"}, \"paper_bgcolor\": \"white\", \"plot_bgcolor\": \"#E5ECF6\", \"polar\": {\"angularaxis\": {\"gridcolor\": \"white\", \"linecolor\": \"white\", \"ticks\": \"\"}, \"bgcolor\": \"#E5ECF6\", \"radialaxis\": {\"gridcolor\": \"white\", \"linecolor\": \"white\", \"ticks\": \"\"}}, \"scene\": {\"xaxis\": {\"backgroundcolor\": \"#E5ECF6\", \"gridcolor\": \"white\", \"gridwidth\": 2, \"linecolor\": \"white\", \"showbackground\": true, \"ticks\": \"\", \"zerolinecolor\": \"white\"}, \"yaxis\": {\"backgroundcolor\": \"#E5ECF6\", \"gridcolor\": \"white\", \"gridwidth\": 2, \"linecolor\": \"white\", \"showbackground\": true, \"ticks\": \"\", \"zerolinecolor\": \"white\"}, \"zaxis\": {\"backgroundcolor\": \"#E5ECF6\", \"gridcolor\": \"white\", \"gridwidth\": 2, \"linecolor\": \"white\", \"showbackground\": true, \"ticks\": \"\", \"zerolinecolor\": \"white\"}}, \"shapedefaults\": {\"line\": {\"color\": \"#2a3f5f\"}}, \"ternary\": {\"aaxis\": {\"gridcolor\": \"white\", \"linecolor\": \"white\", \"ticks\": \"\"}, \"baxis\": {\"gridcolor\": \"white\", \"linecolor\": \"white\", \"ticks\": \"\"}, \"bgcolor\": \"#E5ECF6\", \"caxis\": {\"gridcolor\": \"white\", \"linecolor\": \"white\", \"ticks\": \"\"}}, \"title\": {\"x\": 0.05}, \"xaxis\": {\"automargin\": true, \"gridcolor\": \"white\", \"linecolor\": \"white\", \"ticks\": \"\", \"title\": {\"standoff\": 15}, \"zerolinecolor\": \"white\", \"zerolinewidth\": 2}, \"yaxis\": {\"automargin\": true, \"gridcolor\": \"white\", \"linecolor\": \"white\", \"ticks\": \"\", \"title\": {\"standoff\": 15}, \"zerolinecolor\": \"white\", \"zerolinewidth\": 2}}}, \"title\": {\"text\": \"Coherence Value and # of Topics\"}, \"xaxis\": {\"anchor\": \"y\", \"domain\": [0.0, 1.0], \"title\": {\"text\": \"# Topics\"}}, \"yaxis\": {\"anchor\": \"x\", \"domain\": [0.0, 1.0], \"title\": {\"text\": \"Score\"}}},\n",
       "                        {\"responsive\": true}\n",
       "                    ).then(function(){\n",
       "                            \n",
       "var gd = document.getElementById('fc8122c1-c36b-433a-a32d-bd47d5a6d7d8');\n",
       "var x = new MutationObserver(function (mutations, observer) {{\n",
       "        var display = window.getComputedStyle(gd).display;\n",
       "        if (!display || display === 'none') {{\n",
       "            console.log([gd, 'removed!']);\n",
       "            Plotly.purge(gd);\n",
       "            observer.disconnect();\n",
       "        }}\n",
       "}});\n",
       "\n",
       "// Listen for the removal of the full notebook cells\n",
       "var notebookContainer = gd.closest('#notebook-container');\n",
       "if (notebookContainer) {{\n",
       "    x.observe(notebookContainer, {childList: true});\n",
       "}}\n",
       "\n",
       "// Listen for the clearing of the current output cell\n",
       "var outputEl = gd.closest('.output');\n",
       "if (outputEl) {{\n",
       "    x.observe(outputEl, {childList: true});\n",
       "}}\n",
       "\n",
       "                        })\n",
       "                };\n",
       "                });\n",
       "            </script>\n",
       "        </div>"
      ]
     },
     "metadata": {},
     "output_type": "display_data"
    },
    {
     "name": "stdout",
     "output_type": "stream",
     "text": [
      "Best Model: Latent Dirichlet Allocation | # Topics: 200 | Coherence: 0.4765\n"
     ]
    }
   ],
   "source": [
    "tune_lda_positive = tune_model(model='lda', supervised_target=None, estimator='xgboost')"
   ]
  },
  {
   "cell_type": "markdown",
   "metadata": {},
   "source": [
    "16 topics selected"
   ]
  },
  {
   "cell_type": "markdown",
   "metadata": {},
   "source": [
    "## Negative reviews"
   ]
  },
  {
   "cell_type": "code",
   "execution_count": 17,
   "metadata": {},
   "outputs": [
    {
     "data": {
      "text/html": [
       "<style  type=\"text/css\" >\n",
       "</style><table id=\"T_493e614a_301c_11eb_871e_c48e8ff9d2e0\" ><thead>    <tr>        <th class=\"col_heading level0 col0\" >Description</th>        <th class=\"col_heading level0 col1\" >Value</th>    </tr></thead><tbody>\n",
       "                <tr>\n",
       "                                <td id=\"T_493e614a_301c_11eb_871e_c48e8ff9d2e0row0_col0\" class=\"data row0 col0\" >session_id</td>\n",
       "                        <td id=\"T_493e614a_301c_11eb_871e_c48e8ff9d2e0row0_col1\" class=\"data row0 col1\" >3562</td>\n",
       "            </tr>\n",
       "            <tr>\n",
       "                                <td id=\"T_493e614a_301c_11eb_871e_c48e8ff9d2e0row1_col0\" class=\"data row1 col0\" >Documents</td>\n",
       "                        <td id=\"T_493e614a_301c_11eb_871e_c48e8ff9d2e0row1_col1\" class=\"data row1 col1\" >3</td>\n",
       "            </tr>\n",
       "            <tr>\n",
       "                                <td id=\"T_493e614a_301c_11eb_871e_c48e8ff9d2e0row2_col0\" class=\"data row2 col0\" >Vocab Size</td>\n",
       "                        <td id=\"T_493e614a_301c_11eb_871e_c48e8ff9d2e0row2_col1\" class=\"data row2 col1\" >41</td>\n",
       "            </tr>\n",
       "            <tr>\n",
       "                                <td id=\"T_493e614a_301c_11eb_871e_c48e8ff9d2e0row3_col0\" class=\"data row3 col0\" >Custom Stopwords</td>\n",
       "                        <td id=\"T_493e614a_301c_11eb_871e_c48e8ff9d2e0row3_col1\" class=\"data row3 col1\" >True</td>\n",
       "            </tr>\n",
       "    </tbody></table>"
      ],
      "text/plain": [
       "<pandas.io.formats.style.Styler at 0x2199b0d9f08>"
      ]
     },
     "metadata": {},
     "output_type": "display_data"
    }
   ],
   "source": [
    "exp_nlp_neg = setup(data = neg_review_imp, target = 'r_text',\n",
    "                custom_stopwords = [ 'hotel', 'room', 'nice', 'good','restaurant', 'food','bad'])"
   ]
  },
  {
   "cell_type": "code",
   "execution_count": 18,
   "metadata": {},
   "outputs": [
    {
     "name": "stdout",
     "output_type": "stream",
     "text": [
      "LdaModel(num_terms=41, num_topics=4, decay=0.5, chunksize=100)\n"
     ]
    }
   ],
   "source": [
    "#create an LDA model\n",
    "lda_neg_custom = create_model('lda')\n",
    "print(lda_neg_custom)"
   ]
  },
  {
   "cell_type": "code",
   "execution_count": 19,
   "metadata": {},
   "outputs": [
    {
     "data": {
      "text/html": [
       "<div>\n",
       "<style scoped>\n",
       "    .dataframe tbody tr th:only-of-type {\n",
       "        vertical-align: middle;\n",
       "    }\n",
       "\n",
       "    .dataframe tbody tr th {\n",
       "        vertical-align: top;\n",
       "    }\n",
       "\n",
       "    .dataframe thead th {\n",
       "        text-align: right;\n",
       "    }\n",
       "</style>\n",
       "<table border=\"1\" class=\"dataframe\">\n",
       "  <thead>\n",
       "    <tr style=\"text-align: right;\">\n",
       "      <th></th>\n",
       "      <th>Unnamed: 0</th>\n",
       "      <th>r_points</th>\n",
       "      <th>r_text</th>\n",
       "      <th>place</th>\n",
       "      <th>scores</th>\n",
       "      <th>compound</th>\n",
       "      <th>score</th>\n",
       "      <th>Topic_0</th>\n",
       "      <th>Topic_1</th>\n",
       "      <th>Topic_2</th>\n",
       "      <th>Topic_3</th>\n",
       "      <th>Dominant_Topic</th>\n",
       "      <th>Perc_Dominant_Topic</th>\n",
       "    </tr>\n",
       "  </thead>\n",
       "  <tbody>\n",
       "    <tr>\n",
       "      <th>0</th>\n",
       "      <td>62</td>\n",
       "      <td>10</td>\n",
       "      <td>visit couple day ago service terrible almost s...</td>\n",
       "      <td>Cook Shop</td>\n",
       "      <td>{'neg': 0.204, 'neu': 0.737, 'pos': 0.059, 'co...</td>\n",
       "      <td>-0.7735</td>\n",
       "      <td>neg</td>\n",
       "      <td>0.001589</td>\n",
       "      <td>0.003852</td>\n",
       "      <td>0.990582</td>\n",
       "      <td>0.003976</td>\n",
       "      <td>Topic 2</td>\n",
       "      <td>0.99</td>\n",
       "    </tr>\n",
       "    <tr>\n",
       "      <th>1</th>\n",
       "      <td>94</td>\n",
       "      <td>50</td>\n",
       "      <td>tiny offer variety home make offardable price ...</td>\n",
       "      <td>Cook Shop</td>\n",
       "      <td>{'neg': 0.099, 'neu': 0.819, 'pos': 0.082, 'co...</td>\n",
       "      <td>-0.1531</td>\n",
       "      <td>neg</td>\n",
       "      <td>0.002753</td>\n",
       "      <td>0.006674</td>\n",
       "      <td>0.007221</td>\n",
       "      <td>0.983352</td>\n",
       "      <td>Topic 3</td>\n",
       "      <td>0.98</td>\n",
       "    </tr>\n",
       "    <tr>\n",
       "      <th>2</th>\n",
       "      <td>168</td>\n",
       "      <td>10</td>\n",
       "      <td>maybe day awful ingredient fresh drink service...</td>\n",
       "      <td>Cook Shop</td>\n",
       "      <td>{'neg': 0.22, 'neu': 0.709, 'pos': 0.071, 'com...</td>\n",
       "      <td>-0.7089</td>\n",
       "      <td>neg</td>\n",
       "      <td>0.003289</td>\n",
       "      <td>0.979861</td>\n",
       "      <td>0.008624</td>\n",
       "      <td>0.008226</td>\n",
       "      <td>Topic 1</td>\n",
       "      <td>0.98</td>\n",
       "    </tr>\n",
       "  </tbody>\n",
       "</table>\n",
       "</div>"
      ],
      "text/plain": [
       "   Unnamed: 0  r_points                                             r_text  \\\n",
       "0          62        10  visit couple day ago service terrible almost s...   \n",
       "1          94        50  tiny offer variety home make offardable price ...   \n",
       "2         168        10  maybe day awful ingredient fresh drink service...   \n",
       "\n",
       "       place                                             scores  compound  \\\n",
       "0  Cook Shop  {'neg': 0.204, 'neu': 0.737, 'pos': 0.059, 'co...   -0.7735   \n",
       "1  Cook Shop  {'neg': 0.099, 'neu': 0.819, 'pos': 0.082, 'co...   -0.1531   \n",
       "2  Cook Shop  {'neg': 0.22, 'neu': 0.709, 'pos': 0.071, 'com...   -0.7089   \n",
       "\n",
       "  score   Topic_0   Topic_1   Topic_2   Topic_3 Dominant_Topic  \\\n",
       "0   neg  0.001589  0.003852  0.990582  0.003976        Topic 2   \n",
       "1   neg  0.002753  0.006674  0.007221  0.983352        Topic 3   \n",
       "2   neg  0.003289  0.979861  0.008624  0.008226        Topic 1   \n",
       "\n",
       "   Perc_Dominant_Topic  \n",
       "0                 0.99  \n",
       "1                 0.98  \n",
       "2                 0.98  "
      ]
     },
     "execution_count": 19,
     "metadata": {},
     "output_type": "execute_result"
    }
   ],
   "source": [
    "apply_lda_neg = assign_model(lda_neg_custom)\n",
    "apply_lda_neg"
   ]
  },
  {
   "cell_type": "code",
   "execution_count": 20,
   "metadata": {},
   "outputs": [
    {
     "data": {
      "application/vnd.jupyter.widget-view+json": {
       "model_id": "f03141421ad74581a613273558d384e1",
       "version_major": 2,
       "version_minor": 0
      },
      "text/plain": [
       "interactive(children=(ToggleButtons(description='Plot Type:', icons=('',), options=(('Frequency Plot', 'freque…"
      ]
     },
     "metadata": {},
     "output_type": "display_data"
    }
   ],
   "source": [
    "evaluate_model(lda_neg_custom)"
   ]
  },
  {
   "cell_type": "code",
   "execution_count": 21,
   "metadata": {},
   "outputs": [
    {
     "data": {
      "text/html": [
       "        <script type=\"text/javascript\">\n",
       "        window.PlotlyConfig = {MathJaxConfig: 'local'};\n",
       "        if (window.MathJax) {MathJax.Hub.Config({SVG: {font: \"STIX-Web\"}});}\n",
       "        if (typeof require !== 'undefined') {\n",
       "        require.undef(\"plotly\");\n",
       "        requirejs.config({\n",
       "            paths: {\n",
       "                'plotly': ['https://cdn.plot.ly/plotly-latest.min']\n",
       "            }\n",
       "        });\n",
       "        require(['plotly'], function(Plotly) {\n",
       "            window._Plotly = Plotly;\n",
       "        });\n",
       "        }\n",
       "        </script>\n",
       "        "
      ]
     },
     "metadata": {},
     "output_type": "display_data"
    },
    {
     "data": {
      "text/html": [
       "\n",
       "<link rel=\"stylesheet\" type=\"text/css\" href=\"https://cdn.rawgit.com/bmabey/pyLDAvis/files/ldavis.v1.0.0.css\">\n",
       "\n",
       "\n",
       "<div id=\"ldavis_el116322309008538952673069372\"></div>\n",
       "<script type=\"text/javascript\">\n",
       "\n",
       "var ldavis_el116322309008538952673069372_data = {\"mdsDat\": {\"x\": [0.030947046382494806, 0.05813337696102132, -0.09259093107971826, 0.0035105077362021287], \"y\": [0.09401910954728263, -0.08976264418813264, -0.008169477303574937, 0.003913011944424953], \"topics\": [1, 2, 3, 4], \"cluster\": [1, 1, 1, 1], \"Freq\": [48.77934265136719, 27.82786750793457, 23.161855697631836, 0.23093338310718536]}, \"tinfo\": {\"Term\": [\"day\", \"service\", \"drink\", \"ingredient\", \"fresh\", \"ever\", \"think\", \"awful\", \"maybe\", \"come\", \"thing\", \"tiny\", \"offardable\", \"lunch\", \"offer\", \"make\", \"dinner\", \"variety\", \"friday\", \"price\", \"open\", \"home\", \"criticism\", \"furthermore\", \"definitely\", \"non\", \"say\", \"existent\", \"almost\", \"run\", \"establishment\", \"visit\", \"appreciate\", \"furthermore\", \"way\", \"existent\", \"criticism\", \"terrible\", \"business\", \"feedback\", \"couple\", \"non\", \"form\", \"run\", \"almost\", \"completely\", \"ago\", \"say\", \"definitely\", \"day\", \"service\", \"think\", \"drink\", \"come\", \"ingredient\", \"awful\", \"ever\", \"fresh\", \"maybe\", \"home\", \"open\", \"price\", \"friday\", \"variety\", \"dinner\", \"make\", \"offer\", \"lunch\", \"thing\", \"tiny\", \"offardable\", \"lunch\", \"offer\", \"make\", \"dinner\", \"variety\", \"friday\", \"price\", \"open\", \"home\", \"fresh\", \"awful\", \"think\", \"drink\", \"come\", \"ingredient\", \"ever\", \"maybe\", \"definitely\", \"say\", \"ago\", \"completely\", \"almost\", \"form\", \"run\", \"couple\", \"non\", \"feedback\", \"business\", \"terrible\", \"way\", \"existent\", \"criticism\", \"furthermore\", \"appreciate\", \"visit\", \"service\", \"maybe\", \"ever\", \"ingredient\", \"fresh\", \"awful\", \"come\", \"drink\", \"think\", \"service\", \"day\", \"thing\", \"tiny\", \"offardable\", \"make\", \"offer\", \"lunch\", \"dinner\", \"friday\", \"variety\", \"price\", \"open\", \"home\", \"definitely\", \"say\", \"non\", \"criticism\", \"almost\", \"furthermore\", \"run\", \"form\", \"completely\", \"business\", \"couple\", \"feedback\", \"way\", \"drink\", \"ingredient\", \"think\", \"fresh\", \"awful\", \"ever\", \"come\", \"maybe\", \"thing\", \"tiny\", \"offardable\", \"offer\", \"make\", \"lunch\", \"dinner\", \"friday\", \"variety\", \"price\", \"open\", \"home\", \"definitely\", \"say\", \"criticism\", \"non\", \"furthermore\", \"almost\", \"existent\", \"run\", \"form\", \"feedback\", \"visit\", \"completely\", \"establishment\", \"business\", \"terrible\", \"ago\", \"couple\", \"way\", \"appreciate\", \"day\", \"service\"], \"Freq\": [1.0, 1.0, 0.0, 0.0, 0.0, 0.0, 0.0, 0.0, 0.0, 0.0, 0.0, 0.0, 0.0, 0.0, 0.0, 0.0, 0.0, 0.0, 0.0, 0.0, 0.0, 0.0, 1.0, 1.0, 1.0, 1.0, 1.0, 1.0, 1.0, 1.0, 0.8374419808387756, 0.8374149203300476, 0.8374967575073242, 0.8372558951377869, 0.8373835682868958, 0.8372519016265869, 0.8372082710266113, 0.8373140692710876, 0.8372616171836853, 0.8371634483337402, 0.8372098803520203, 0.8370789289474487, 0.837107241153717, 0.8370819687843323, 0.8370729684829712, 0.8370886445045471, 0.8370553255081177, 0.8368294835090637, 0.8365341424942017, 0.8375096917152405, 0.8371124267578125, 0.16773231327533722, 0.16773025691509247, 0.16773074865341187, 0.16772693395614624, 0.16772717237472534, 0.16772626340389252, 0.16772542893886566, 0.16772472858428955, 0.17157968878746033, 0.1714940071105957, 0.17146088182926178, 0.17131344974040985, 0.17123259603977203, 0.17108942568302155, 0.17091286182403564, 0.17089879512786865, 0.17084114253520966, 0.6711035370826721, 0.6709529161453247, 0.6707137227058411, 0.6706810593605042, 0.6706284284591675, 0.6706128716468811, 0.6704769134521484, 0.6703642010688782, 0.6702920198440552, 0.6701785922050476, 0.6701536178588867, 0.6700868010520935, 0.1346525400876999, 0.1346524953842163, 0.13465237617492676, 0.13465192914009094, 0.1346520334482193, 0.13464973866939545, 0.1346491277217865, 0.13464806973934174, 0.1357402801513672, 0.13554929196834564, 0.13552092015743256, 0.13544975221157074, 0.13541115820407867, 0.13541080057621002, 0.13540704548358917, 0.13540399074554443, 0.1353750228881836, 0.13538479804992676, 0.13531231880187988, 0.13530363142490387, 0.13528482615947723, 0.1352653205394745, 0.13525530695915222, 0.1352342665195465, 0.13523249328136444, 0.1351875215768814, 0.13549402356147766, 0.6147781610488892, 0.6147735714912415, 0.6147710084915161, 0.6147700548171997, 0.6147693991661072, 0.6147691011428833, 0.614765465259552, 0.6147648096084595, 0.6147515177726746, 0.6147568225860596, 0.12296754866838455, 0.12296667695045471, 0.12296929210424423, 0.12297144532203674, 0.12296735495328903, 0.12296468019485474, 0.12296770513057709, 0.12297065556049347, 0.12296611070632935, 0.12296709418296814, 0.12296732515096664, 0.12296604365110397, 0.12296399474143982, 0.12296421825885773, 0.12296304106712341, 0.12296409904956818, 0.12296454608440399, 0.12296359241008759, 0.122963085770607, 0.12296409159898758, 0.12296503782272339, 0.12296527624130249, 0.12296493351459503, 0.12296421825885773, 0.12296418845653534, 0.0024184403009712696, 0.0024184181820601225, 0.0024184153880923986, 0.0024184081703424454, 0.00241839699447155, 0.0024183897767215967, 0.002418359275907278, 0.0024183415807783604, 0.0024183932691812515, 0.0024183557834476233, 0.002418434713035822, 0.002418419811874628, 0.002418416552245617, 0.0024183597415685654, 0.00241838488727808, 0.002418417716398835, 0.0024183765053749084, 0.0024183986242860556, 0.0024183655623346567, 0.0024183555506169796, 0.002427838509902358, 0.00242700707167387, 0.002426827559247613, 0.0024265635292977095, 0.0024265283718705177, 0.0024259714409708977, 0.002426023595035076, 0.0024259428028017282, 0.0024254934396594763, 0.00242514512501657, 0.002425071084871888, 0.0024250426795333624, 0.002425044309347868, 0.0024250119458884, 0.002424445701763034, 0.0024242650251835585, 0.0024241164792329073, 0.002423768164590001, 0.002423092955723405, 0.0024254180025309324, 0.002424895763397217], \"Total\": [1.0, 1.0, 0.0, 0.0, 0.0, 0.0, 0.0, 0.0, 0.0, 0.0, 0.0, 0.0, 0.0, 0.0, 0.0, 0.0, 0.0, 0.0, 0.0, 0.0, 0.0, 0.0, 1.0, 1.0, 1.0, 1.0, 1.0, 1.0, 1.0, 1.0, 1.0979982614517212, 1.0979913473129272, 1.0981156826019287, 1.097880244255066, 1.0980563163757324, 1.0979071855545044, 1.0978546142578125, 1.098005771636963, 1.0979641675949097, 1.0979377031326294, 1.0980029106140137, 1.0978435277938843, 1.0979076623916626, 1.0978779792785645, 1.097874641418457, 1.097928524017334, 1.0979644060134888, 1.0977699756622314, 1.0976662635803223, 1.5898321866989136, 1.589782953262329, 0.919567883014679, 0.9195660948753357, 0.9195702075958252, 0.9195660948753357, 0.9195674657821655, 0.919567346572876, 0.9195663928985596, 0.9195693135261536, 0.9670508503913879, 0.9670332670211792, 0.9670249223709106, 0.9669945240020752, 0.9669812917709351, 0.9669524431228638, 0.9669156074523926, 0.9669129848480225, 0.9669052362442017, 0.9667980074882507, 0.9668379426002502, 0.9668903946876526, 0.9669052362442017, 0.9669129848480225, 0.9669156074523926, 0.9669524431228638, 0.9669812917709351, 0.9669945240020752, 0.9670249223709106, 0.9670332670211792, 0.9670508503913879, 0.9195663928985596, 0.9195674657821655, 0.919567883014679, 0.9195660948753357, 0.9195702075958252, 0.9195660948753357, 0.919567346572876, 0.9195693135261536, 1.0976662635803223, 1.0977699756622314, 1.0979644060134888, 1.097928524017334, 1.097874641418457, 1.0979076623916626, 1.0978779792785645, 1.0980029106140137, 1.0978435277938843, 1.0979377031326294, 1.0979641675949097, 1.098005771636963, 1.0980563163757324, 1.0979071855545044, 1.0978546142578125, 1.097880244255066, 1.0981156826019287, 1.0979913473129272, 1.589782953262329, 0.9195693135261536, 0.919567346572876, 0.9195660948753357, 0.9195663928985596, 0.9195674657821655, 0.9195702075958252, 0.9195660948753357, 0.919567883014679, 1.589782953262329, 1.5898321866989136, 0.9667980074882507, 0.9668379426002502, 0.9668903946876526, 0.9669156074523926, 0.9669129848480225, 0.9669052362442017, 0.9669524431228638, 0.9669945240020752, 0.9669812917709351, 0.9670249223709106, 0.9670332670211792, 0.9670508503913879, 1.0976662635803223, 1.0977699756622314, 1.0978435277938843, 1.0978546142578125, 1.097874641418457, 1.097880244255066, 1.0978779792785645, 1.0979076623916626, 1.097928524017334, 1.0979641675949097, 1.0980029106140137, 1.0979377031326294, 1.0980563163757324, 0.9195660948753357, 0.9195660948753357, 0.919567883014679, 0.9195663928985596, 0.9195674657821655, 0.919567346572876, 0.9195702075958252, 0.9195693135261536, 0.9667980074882507, 0.9668379426002502, 0.9668903946876526, 0.9669129848480225, 0.9669156074523926, 0.9669052362442017, 0.9669524431228638, 0.9669945240020752, 0.9669812917709351, 0.9670249223709106, 0.9670332670211792, 0.9670508503913879, 1.0976662635803223, 1.0977699756622314, 1.0978546142578125, 1.0978435277938843, 1.097880244255066, 1.097874641418457, 1.0979071855545044, 1.0978779792785645, 1.0979076623916626, 1.0979377031326294, 1.0979913473129272, 1.097928524017334, 1.0979982614517212, 1.0979641675949097, 1.098005771636963, 1.0979644060134888, 1.0980029106140137, 1.0980563163757324, 1.0981156826019287, 1.5898321866989136, 1.589782953262329], \"Category\": [\"Default\", \"Default\", \"Default\", \"Default\", \"Default\", \"Default\", \"Default\", \"Default\", \"Default\", \"Default\", \"Default\", \"Default\", \"Default\", \"Default\", \"Default\", \"Default\", \"Default\", \"Default\", \"Default\", \"Default\", \"Default\", \"Default\", \"Default\", \"Default\", \"Default\", \"Default\", \"Default\", \"Default\", \"Default\", \"Default\", \"Topic1\", \"Topic1\", \"Topic1\", \"Topic1\", \"Topic1\", \"Topic1\", \"Topic1\", \"Topic1\", \"Topic1\", \"Topic1\", \"Topic1\", \"Topic1\", \"Topic1\", \"Topic1\", \"Topic1\", \"Topic1\", \"Topic1\", \"Topic1\", \"Topic1\", \"Topic1\", \"Topic1\", \"Topic1\", \"Topic1\", \"Topic1\", \"Topic1\", \"Topic1\", \"Topic1\", \"Topic1\", \"Topic1\", \"Topic1\", \"Topic1\", \"Topic1\", \"Topic1\", \"Topic1\", \"Topic1\", \"Topic1\", \"Topic1\", \"Topic1\", \"Topic2\", \"Topic2\", \"Topic2\", \"Topic2\", \"Topic2\", \"Topic2\", \"Topic2\", \"Topic2\", \"Topic2\", \"Topic2\", \"Topic2\", \"Topic2\", \"Topic2\", \"Topic2\", \"Topic2\", \"Topic2\", \"Topic2\", \"Topic2\", \"Topic2\", \"Topic2\", \"Topic2\", \"Topic2\", \"Topic2\", \"Topic2\", \"Topic2\", \"Topic2\", \"Topic2\", \"Topic2\", \"Topic2\", \"Topic2\", \"Topic2\", \"Topic2\", \"Topic2\", \"Topic2\", \"Topic2\", \"Topic2\", \"Topic2\", \"Topic2\", \"Topic2\", \"Topic3\", \"Topic3\", \"Topic3\", \"Topic3\", \"Topic3\", \"Topic3\", \"Topic3\", \"Topic3\", \"Topic3\", \"Topic3\", \"Topic3\", \"Topic3\", \"Topic3\", \"Topic3\", \"Topic3\", \"Topic3\", \"Topic3\", \"Topic3\", \"Topic3\", \"Topic3\", \"Topic3\", \"Topic3\", \"Topic3\", \"Topic3\", \"Topic3\", \"Topic3\", \"Topic3\", \"Topic3\", \"Topic3\", \"Topic3\", \"Topic3\", \"Topic3\", \"Topic3\", \"Topic3\", \"Topic3\", \"Topic4\", \"Topic4\", \"Topic4\", \"Topic4\", \"Topic4\", \"Topic4\", \"Topic4\", \"Topic4\", \"Topic4\", \"Topic4\", \"Topic4\", \"Topic4\", \"Topic4\", \"Topic4\", \"Topic4\", \"Topic4\", \"Topic4\", \"Topic4\", \"Topic4\", \"Topic4\", \"Topic4\", \"Topic4\", \"Topic4\", \"Topic4\", \"Topic4\", \"Topic4\", \"Topic4\", \"Topic4\", \"Topic4\", \"Topic4\", \"Topic4\", \"Topic4\", \"Topic4\", \"Topic4\", \"Topic4\", \"Topic4\", \"Topic4\", \"Topic4\", \"Topic4\", \"Topic4\", \"Topic4\"], \"logprob\": [30.0, 29.0, 28.0, 27.0, 26.0, 25.0, 24.0, 23.0, 22.0, 21.0, 20.0, 19.0, 18.0, 17.0, 16.0, 15.0, 14.0, 13.0, 12.0, 11.0, 10.0, 9.0, 8.0, 7.0, 6.0, 5.0, 4.0, 3.0, 2.0, 1.0, -3.2207000255584717, -3.2207999229431152, -3.2207000255584717, -3.2209999561309814, -3.2207999229431152, -3.2209999561309814, -3.2209999561309814, -3.220900058746338, -3.2209999561309814, -3.221100091934204, -3.2209999561309814, -3.2211999893188477, -3.221100091934204, -3.2211999893188477, -3.2211999893188477, -3.2211999893188477, -3.2211999893188477, -3.2214999198913574, -3.2218000888824463, -3.2207000255584717, -3.221100091934204, -4.828700065612793, -4.828700065612793, -4.828700065612793, -4.828800201416016, -4.828800201416016, -4.828800201416016, -4.828800201416016, -4.828800201416016, -4.806000232696533, -4.80649995803833, -4.806700229644775, -4.807600021362305, -4.80810022354126, -4.808899879455566, -4.809899806976318, -4.809999942779541, -4.810400009155273, -2.8808999061584473, -2.8810999393463135, -2.881500005722046, -2.881500005722046, -2.8815999031066895, -2.8815999031066895, -2.8817999362945557, -2.881999969482422, -2.8821001052856445, -2.8822999000549316, -2.8822999000549316, -2.8824000358581543, -4.487100124359131, -4.487100124359131, -4.487100124359131, -4.487100124359131, -4.487100124359131, -4.487100124359131, -4.487199783325195, -4.487199783325195, -4.479100227355957, -4.480500221252441, -4.4807000160217285, -4.481200218200684, -4.481500148773193, -4.481500148773193, -4.481500148773193, -4.481599807739258, -4.481800079345703, -4.4816999435424805, -4.4822001457214355, -4.4822998046875, -4.482399940490723, -4.482600212097168, -4.482699871063232, -4.482800006866455, -4.482800006866455, -4.4832000732421875, -4.480899810791016, -2.7850000858306885, -2.7850000858306885, -2.7850000858306885, -2.7850000858306885, -2.7850000858306885, -2.7850000858306885, -2.785099983215332, -2.785099983215332, -2.785099983215332, -2.785099983215332, -4.394400119781494, -4.394400119781494, -4.394400119781494, -4.3942999839782715, -4.394400119781494, -4.394400119781494, -4.394400119781494, -4.3942999839782715, -4.394400119781494, -4.394400119781494, -4.394400119781494, -4.394400119781494, -4.394400119781494, -4.394400119781494, -4.394400119781494, -4.394400119781494, -4.394400119781494, -4.394400119781494, -4.394400119781494, -4.394400119781494, -4.394400119781494, -4.394400119781494, -4.394400119781494, -4.394400119781494, -4.394400119781494, -3.7149999141693115, -3.7149999141693115, -3.7149999141693115, -3.7149999141693115, -3.715100049972534, -3.715100049972534, -3.715100049972534, -3.715100049972534, -3.715100049972534, -3.715100049972534, -3.7149999141693115, -3.7149999141693115, -3.7149999141693115, -3.715100049972534, -3.715100049972534, -3.7149999141693115, -3.715100049972534, -3.715100049972534, -3.715100049972534, -3.715100049972534, -3.711199998855591, -3.7114999294281006, -3.7116000652313232, -3.711699962615967, -3.711699962615967, -3.711899995803833, -3.711899995803833, -3.711899995803833, -3.712100028991699, -3.7123000621795654, -3.7123000621795654, -3.7123000621795654, -3.7123000621795654, -3.7123000621795654, -3.712599992752075, -3.712599992752075, -3.7126998901367188, -3.7128000259399414, -3.713099956512451, -3.7121999263763428, -3.712399959564209], \"loglift\": [30.0, 29.0, 28.0, 27.0, 26.0, 25.0, 24.0, 23.0, 22.0, 21.0, 20.0, 19.0, 18.0, 17.0, 16.0, 15.0, 14.0, 13.0, 12.0, 11.0, 10.0, 9.0, 8.0, 7.0, 6.0, 5.0, 4.0, 3.0, 2.0, 1.0, 0.44699999690055847, 0.44690001010894775, 0.44690001010894775, 0.44690001010894775, 0.44679999351501465, 0.44679999351501465, 0.44679999351501465, 0.44679999351501465, 0.44679999351501465, 0.44670000672340393, 0.44670000672340393, 0.44670000672340393, 0.44670000672340393, 0.44670000672340393, 0.4465999901294708, 0.4465999901294708, 0.4465000033378601, 0.446399986743927, 0.44620001316070557, 0.07689999788999557, 0.07649999856948853, -0.9836999773979187, -0.9836999773979187, -0.9836999773979187, -0.9836999773979187, -0.9836999773979187, -0.9836999773979187, -0.9836999773979187, -0.9836999773979187, -1.011299967765808, -1.0118000507354736, -1.0119999647140503, -1.0127999782562256, -1.0132999420166016, -1.0140999555587769, -1.0151000022888184, -1.0152000188827515, -1.0154999494552612, 0.9140999913215637, 0.9138000011444092, 0.9133999943733215, 0.9132999777793884, 0.9132000207901001, 0.9132000207901001, 0.9129999876022339, 0.9128000140190125, 0.9126999974250793, 0.9125000238418579, 0.9124000072479248, 0.9122999906539917, -0.6420999765396118, -0.6420999765396118, -0.6420999765396118, -0.6420999765396118, -0.6420999765396118, -0.6420999765396118, -0.6420999765396118, -0.6420999765396118, -0.8111000061035156, -0.8126000165939331, -0.8130000233650208, -0.8133999705314636, -0.8137000203132629, -0.8137000203132629, -0.8137000203132629, -0.8138999938964844, -0.8138999938964844, -0.8138999938964844, -0.8144999742507935, -0.8145999908447266, -0.8148000240325928, -0.8148000240325928, -0.8148000240325928, -0.8149999976158142, -0.8151999711990356, -0.8154000043869019, -1.1833000183105469, 1.059999942779541, 1.059999942779541, 1.059999942779541, 1.059999942779541, 1.059999942779541, 1.059999942779541, 1.059999942779541, 1.059999942779541, 0.512499988079071, 0.512499988079071, -0.599399983882904, -0.5995000004768372, -0.5995000004768372, -0.5995000004768372, -0.5995000004768372, -0.5995000004768372, -0.5996000170707703, -0.5996000170707703, -0.5996000170707703, -0.5996000170707703, -0.5996999740600586, -0.5996999740600586, -0.7264000177383423, -0.7264999747276306, -0.7265999913215637, -0.7265999913215637, -0.7265999913215637, -0.7265999913215637, -0.7265999913215637, -0.7265999913215637, -0.7265999913215637, -0.7265999913215637, -0.7267000079154968, -0.7265999913215637, -0.7267000079154968, 0.12999999523162842, 0.12999999523162842, 0.12999999523162842, 0.12999999523162842, 0.12999999523162842, 0.12999999523162842, 0.12999999523162842, 0.12999999523162842, 0.07989999651908875, 0.07989999651908875, 0.07980000227689743, 0.07980000227689743, 0.07980000227689743, 0.07980000227689743, 0.07970000058412552, 0.07970000058412552, 0.07970000058412552, 0.07970000058412552, 0.07970000058412552, 0.07959999889135361, -0.04309999942779541, -0.04360000044107437, -0.043699998408555984, -0.043800000101327896, -0.04390000179409981, -0.04410000145435333, -0.04410000145435333, -0.04410000145435333, -0.04430000111460686, -0.04450000077486038, -0.044599998742341995, -0.04450000077486038, -0.044599998742341995, -0.044599998742341995, -0.04490000009536743, -0.04490000009536743, -0.04500000178813934, -0.04520000144839287, -0.045499999076128006, -0.4146000146865845, -0.4147999882698059]}, \"token.table\": {\"Topic\": [1, 1, 1, 3, 1, 3, 1, 1, 1, 1, 3, 1, 2, 3, 1, 3, 1, 1, 1, 3, 2, 1, 2, 3, 2, 2, 3, 1, 2, 2, 2, 2, 1, 1, 1, 3, 1, 2, 3, 2, 2, 1, 1], \"Freq\": [0.9107763171195984, 0.9108508229255676, 0.9106508493423462, 1.0874677896499634, 0.9107765555381775, 1.0874645709991455, 0.9108061194419861, 0.9107443690299988, 0.9108673930168152, 0.6289972066879272, 0.6289972066879272, 0.911023736000061, 1.0341770648956299, 1.087469458580017, 0.9107482433319092, 1.087467908859253, 0.9108238220214844, 0.9107984900474548, 0.910823404788971, 1.0874691009521484, 1.0341320037841797, 0.9108461737632751, 1.0340718030929565, 1.087469458580017, 1.0342274904251099, 1.0342164039611816, 1.0874656438827515, 0.9108766317367554, 1.0342433452606201, 1.0342192649841309, 1.0340906381607056, 1.0340994596481323, 0.9108480215072632, 0.9109376668930054, 0.6290166974067688, 0.6290166974067688, 0.9107420444488525, 1.0343421697616577, 1.0874673128128052, 1.0342994928359985, 1.0341461896896362, 0.9107539653778076, 0.9107000827789307], \"Term\": [\"ago\", \"almost\", \"appreciate\", \"awful\", \"business\", \"come\", \"completely\", \"couple\", \"criticism\", \"day\", \"day\", \"definitely\", \"dinner\", \"drink\", \"establishment\", \"ever\", \"existent\", \"feedback\", \"form\", \"fresh\", \"friday\", \"furthermore\", \"home\", \"ingredient\", \"lunch\", \"make\", \"maybe\", \"non\", \"offardable\", \"offer\", \"open\", \"price\", \"run\", \"say\", \"service\", \"service\", \"terrible\", \"thing\", \"think\", \"tiny\", \"variety\", \"visit\", \"way\"]}, \"R\": 30, \"lambda.step\": 0.01, \"plot.opts\": {\"xlab\": \"PC1\", \"ylab\": \"PC2\"}, \"topic.order\": [3, 4, 2, 1]};\n",
       "\n",
       "function LDAvis_load_lib(url, callback){\n",
       "  var s = document.createElement('script');\n",
       "  s.src = url;\n",
       "  s.async = true;\n",
       "  s.onreadystatechange = s.onload = callback;\n",
       "  s.onerror = function(){console.warn(\"failed to load library \" + url);};\n",
       "  document.getElementsByTagName(\"head\")[0].appendChild(s);\n",
       "}\n",
       "\n",
       "if(typeof(LDAvis) !== \"undefined\"){\n",
       "   // already loaded: just create the visualization\n",
       "   !function(LDAvis){\n",
       "       new LDAvis(\"#\" + \"ldavis_el116322309008538952673069372\", ldavis_el116322309008538952673069372_data);\n",
       "   }(LDAvis);\n",
       "}else if(typeof define === \"function\" && define.amd){\n",
       "   // require.js is available: use it to load d3/LDAvis\n",
       "   require.config({paths: {d3: \"https://cdnjs.cloudflare.com/ajax/libs/d3/3.5.5/d3.min\"}});\n",
       "   require([\"d3\"], function(d3){\n",
       "      window.d3 = d3;\n",
       "      LDAvis_load_lib(\"https://cdn.rawgit.com/bmabey/pyLDAvis/files/ldavis.v1.0.0.js\", function(){\n",
       "        new LDAvis(\"#\" + \"ldavis_el116322309008538952673069372\", ldavis_el116322309008538952673069372_data);\n",
       "      });\n",
       "    });\n",
       "}else{\n",
       "    // require.js not available: dynamically load d3 & LDAvis\n",
       "    LDAvis_load_lib(\"https://cdnjs.cloudflare.com/ajax/libs/d3/3.5.5/d3.min.js\", function(){\n",
       "         LDAvis_load_lib(\"https://cdn.rawgit.com/bmabey/pyLDAvis/files/ldavis.v1.0.0.js\", function(){\n",
       "                 new LDAvis(\"#\" + \"ldavis_el116322309008538952673069372\", ldavis_el116322309008538952673069372_data);\n",
       "            })\n",
       "         });\n",
       "}\n",
       "</script>"
      ],
      "text/plain": [
       "PreparedData(topic_coordinates=              x         y  topics  cluster       Freq\n",
       "topic                                                \n",
       "2      0.030947  0.094019       1        1  48.779343\n",
       "3      0.058133 -0.089763       2        1  27.827868\n",
       "1     -0.092591 -0.008169       3        1  23.161856\n",
       "0      0.003511  0.003913       4        1   0.230933, topic_info=          Term      Freq     Total Category  logprob  loglift\n",
       "7          day  1.000000  1.000000  Default  30.0000  30.0000\n",
       "17     service  1.000000  1.000000  Default  29.0000  29.0000\n",
       "35       drink  0.000000  0.000000  Default  28.0000  28.0000\n",
       "38  ingredient  0.000000  0.000000  Default  27.0000  27.0000\n",
       "37       fresh  0.000000  0.000000  Default  26.0000  26.0000\n",
       "..         ...       ...       ...      ...      ...      ...\n",
       "5       couple  0.002424  1.098003   Topic4  -3.7127  -0.0450\n",
       "20         way  0.002424  1.098056   Topic4  -3.7128  -0.0452\n",
       "2   appreciate  0.002423  1.098116   Topic4  -3.7131  -0.0455\n",
       "7          day  0.002425  1.589832   Topic4  -3.7122  -0.4146\n",
       "17     service  0.002425  1.589783   Topic4  -3.7124  -0.4148\n",
       "\n",
       "[183 rows x 6 columns], token_table=      Topic      Freq           Term\n",
       "term                                \n",
       "0         1  0.910776            ago\n",
       "1         1  0.910851         almost\n",
       "2         1  0.910651     appreciate\n",
       "33        3  1.087468          awful\n",
       "3         1  0.910777       business\n",
       "34        3  1.087465           come\n",
       "4         1  0.910806     completely\n",
       "5         1  0.910744         couple\n",
       "6         1  0.910867      criticism\n",
       "7         1  0.628997            day\n",
       "7         3  0.628997            day\n",
       "8         1  0.911024     definitely\n",
       "21        2  1.034177         dinner\n",
       "35        3  1.087469          drink\n",
       "9         1  0.910748  establishment\n",
       "36        3  1.087468           ever\n",
       "10        1  0.910824       existent\n",
       "11        1  0.910798       feedback\n",
       "12        1  0.910823           form\n",
       "37        3  1.087469          fresh\n",
       "22        2  1.034132         friday\n",
       "13        1  0.910846    furthermore\n",
       "23        2  1.034072           home\n",
       "38        3  1.087469     ingredient\n",
       "24        2  1.034227          lunch\n",
       "25        2  1.034216           make\n",
       "39        3  1.087466          maybe\n",
       "14        1  0.910877            non\n",
       "26        2  1.034243     offardable\n",
       "27        2  1.034219          offer\n",
       "28        2  1.034091           open\n",
       "29        2  1.034099          price\n",
       "15        1  0.910848            run\n",
       "16        1  0.910938            say\n",
       "17        1  0.629017        service\n",
       "17        3  0.629017        service\n",
       "18        1  0.910742       terrible\n",
       "30        2  1.034342          thing\n",
       "40        3  1.087467          think\n",
       "31        2  1.034299           tiny\n",
       "32        2  1.034146        variety\n",
       "19        1  0.910754          visit\n",
       "20        1  0.910700            way, R=30, lambda_step=0.01, plot_opts={'xlab': 'PC1', 'ylab': 'PC2'}, topic_order=[3, 4, 2, 1])"
      ]
     },
     "metadata": {},
     "output_type": "display_data"
    }
   ],
   "source": [
    "plot_model(lda_neg_custom, plot ='topic_model')"
   ]
  },
  {
   "cell_type": "code",
   "execution_count": null,
   "metadata": {},
   "outputs": [],
   "source": []
  }
 ],
 "metadata": {
  "kernelspec": {
   "display_name": "Python 3",
   "language": "python",
   "name": "python3"
  },
  "language_info": {
   "codemirror_mode": {
    "name": "ipython",
    "version": 3
   },
   "file_extension": ".py",
   "mimetype": "text/x-python",
   "name": "python",
   "nbconvert_exporter": "python",
   "pygments_lexer": "ipython3",
   "version": "3.7.4"
  }
 },
 "nbformat": 4,
 "nbformat_minor": 2
}
