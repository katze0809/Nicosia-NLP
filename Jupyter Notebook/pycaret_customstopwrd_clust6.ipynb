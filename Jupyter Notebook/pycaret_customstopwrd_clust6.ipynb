{
 "cells": [
  {
   "cell_type": "code",
   "execution_count": 28,
   "metadata": {},
   "outputs": [],
   "source": [
    "import pandas as pd\n",
    "import glob"
   ]
  },
  {
   "cell_type": "markdown",
   "metadata": {},
   "source": [
    "# Positive Reviews"
   ]
  },
  {
   "cell_type": "code",
   "execution_count": 2,
   "metadata": {},
   "outputs": [
    {
     "data": {
      "text/html": [
       "<div>\n",
       "<style scoped>\n",
       "    .dataframe tbody tr th:only-of-type {\n",
       "        vertical-align: middle;\n",
       "    }\n",
       "\n",
       "    .dataframe tbody tr th {\n",
       "        vertical-align: top;\n",
       "    }\n",
       "\n",
       "    .dataframe thead th {\n",
       "        text-align: right;\n",
       "    }\n",
       "</style>\n",
       "<table border=\"1\" class=\"dataframe\">\n",
       "  <thead>\n",
       "    <tr style=\"text-align: right;\">\n",
       "      <th></th>\n",
       "      <th>Unnamed: 0</th>\n",
       "      <th>r_points</th>\n",
       "      <th>r_text</th>\n",
       "      <th>place</th>\n",
       "      <th>Unnamed: 3</th>\n",
       "      <th>Unnamed: 4</th>\n",
       "      <th>scores</th>\n",
       "      <th>compound</th>\n",
       "      <th>score</th>\n",
       "    </tr>\n",
       "  </thead>\n",
       "  <tbody>\n",
       "    <tr>\n",
       "      <th>0</th>\n",
       "      <td>0</td>\n",
       "      <td>40</td>\n",
       "      <td>I recomend the place, is a restaurante with Go...</td>\n",
       "      <td>Pantopoleio Kali Orexi</td>\n",
       "      <td>NaN</td>\n",
       "      <td>NaN</td>\n",
       "      <td>{'neg': 0.0, 'neu': 0.721, 'pos': 0.279, 'comp...</td>\n",
       "      <td>0.7003</td>\n",
       "      <td>pos</td>\n",
       "    </tr>\n",
       "    <tr>\n",
       "      <th>1</th>\n",
       "      <td>1</td>\n",
       "      <td>40</td>\n",
       "      <td>Saturday lunch with family. Arrived early befo...</td>\n",
       "      <td>Pantopoleio Kali Orexi</td>\n",
       "      <td>NaN</td>\n",
       "      <td>NaN</td>\n",
       "      <td>{'neg': 0.0, 'neu': 0.813, 'pos': 0.187, 'comp...</td>\n",
       "      <td>0.8937</td>\n",
       "      <td>pos</td>\n",
       "    </tr>\n",
       "    <tr>\n",
       "      <th>2</th>\n",
       "      <td>2</td>\n",
       "      <td>50</td>\n",
       "      <td>A very contemporary feel to this restaurant , ...</td>\n",
       "      <td>Pantopoleio Kali Orexi</td>\n",
       "      <td>NaN</td>\n",
       "      <td>NaN</td>\n",
       "      <td>{'neg': 0.0, 'neu': 0.9, 'pos': 0.1, 'compound...</td>\n",
       "      <td>0.7684</td>\n",
       "      <td>pos</td>\n",
       "    </tr>\n",
       "    <tr>\n",
       "      <th>3</th>\n",
       "      <td>3</td>\n",
       "      <td>40</td>\n",
       "      <td>The restaurant is big, not fussy, plenty of sp...</td>\n",
       "      <td>Pantopoleio Kali Orexi</td>\n",
       "      <td>NaN</td>\n",
       "      <td>NaN</td>\n",
       "      <td>{'neg': 0.109, 'neu': 0.559, 'pos': 0.332, 'co...</td>\n",
       "      <td>0.8799</td>\n",
       "      <td>pos</td>\n",
       "    </tr>\n",
       "    <tr>\n",
       "      <th>4</th>\n",
       "      <td>4</td>\n",
       "      <td>40</td>\n",
       "      <td>We have been many times to Pantopolio and stan...</td>\n",
       "      <td>Pantopoleio Kali Orexi</td>\n",
       "      <td>NaN</td>\n",
       "      <td>NaN</td>\n",
       "      <td>{'neg': 0.0, 'neu': 0.832, 'pos': 0.168, 'comp...</td>\n",
       "      <td>0.6652</td>\n",
       "      <td>pos</td>\n",
       "    </tr>\n",
       "    <tr>\n",
       "      <th>...</th>\n",
       "      <td>...</td>\n",
       "      <td>...</td>\n",
       "      <td>...</td>\n",
       "      <td>...</td>\n",
       "      <td>...</td>\n",
       "      <td>...</td>\n",
       "      <td>...</td>\n",
       "      <td>...</td>\n",
       "      <td>...</td>\n",
       "    </tr>\n",
       "    <tr>\n",
       "      <th>409</th>\n",
       "      <td>274</td>\n",
       "      <td>40</td>\n",
       "      <td>Mezze seems to go on for ever and includes man...</td>\n",
       "      <td>Syrian Arab Friendship Club</td>\n",
       "      <td>Review 495 Similarity</td>\n",
       "      <td>0.0</td>\n",
       "      <td>{'neg': 0.0, 'neu': 0.883, 'pos': 0.117, 'comp...</td>\n",
       "      <td>0.5719</td>\n",
       "      <td>pos</td>\n",
       "    </tr>\n",
       "    <tr>\n",
       "      <th>410</th>\n",
       "      <td>275</td>\n",
       "      <td>40</td>\n",
       "      <td>In the embassy district, with a large outdoor ...</td>\n",
       "      <td>Syrian Arab Friendship Club</td>\n",
       "      <td>Review 503 Similarity</td>\n",
       "      <td>0.0</td>\n",
       "      <td>{'neg': 0.056, 'neu': 0.835, 'pos': 0.109, 'co...</td>\n",
       "      <td>0.2846</td>\n",
       "      <td>pos</td>\n",
       "    </tr>\n",
       "    <tr>\n",
       "      <th>411</th>\n",
       "      <td>276</td>\n",
       "      <td>40</td>\n",
       "      <td>Nice garden to sit in during the summer and yo...</td>\n",
       "      <td>Syrian Arab Friendship Club</td>\n",
       "      <td>Review 505 Similarity</td>\n",
       "      <td>0.0</td>\n",
       "      <td>{'neg': 0.0, 'neu': 0.732, 'pos': 0.268, 'comp...</td>\n",
       "      <td>0.8316</td>\n",
       "      <td>pos</td>\n",
       "    </tr>\n",
       "    <tr>\n",
       "      <th>412</th>\n",
       "      <td>277</td>\n",
       "      <td>40</td>\n",
       "      <td>one of the least restaurants that serves pork ...</td>\n",
       "      <td>Syrian Arab Friendship Club</td>\n",
       "      <td>Review 507 Similarity</td>\n",
       "      <td>0.0</td>\n",
       "      <td>{'neg': 0.0, 'neu': 0.754, 'pos': 0.246, 'comp...</td>\n",
       "      <td>0.8576</td>\n",
       "      <td>pos</td>\n",
       "    </tr>\n",
       "    <tr>\n",
       "      <th>413</th>\n",
       "      <td>278</td>\n",
       "      <td>10</td>\n",
       "      <td>The meze menu includes some dips and salads th...</td>\n",
       "      <td>Syrian Arab Friendship Club</td>\n",
       "      <td>Review 517 Similarity</td>\n",
       "      <td>0.0</td>\n",
       "      <td>{'neg': 0.0, 'neu': 0.845, 'pos': 0.155, 'comp...</td>\n",
       "      <td>0.8825</td>\n",
       "      <td>pos</td>\n",
       "    </tr>\n",
       "  </tbody>\n",
       "</table>\n",
       "<p>414 rows × 9 columns</p>\n",
       "</div>"
      ],
      "text/plain": [
       "     Unnamed: 0  r_points                                             r_text  \\\n",
       "0             0        40  I recomend the place, is a restaurante with Go...   \n",
       "1             1        40  Saturday lunch with family. Arrived early befo...   \n",
       "2             2        50  A very contemporary feel to this restaurant , ...   \n",
       "3             3        40  The restaurant is big, not fussy, plenty of sp...   \n",
       "4             4        40  We have been many times to Pantopolio and stan...   \n",
       "..          ...       ...                                                ...   \n",
       "409         274        40  Mezze seems to go on for ever and includes man...   \n",
       "410         275        40  In the embassy district, with a large outdoor ...   \n",
       "411         276        40  Nice garden to sit in during the summer and yo...   \n",
       "412         277        40  one of the least restaurants that serves pork ...   \n",
       "413         278        10  The meze menu includes some dips and salads th...   \n",
       "\n",
       "                           place             Unnamed: 3  Unnamed: 4  \\\n",
       "0         Pantopoleio Kali Orexi                    NaN         NaN   \n",
       "1         Pantopoleio Kali Orexi                    NaN         NaN   \n",
       "2         Pantopoleio Kali Orexi                    NaN         NaN   \n",
       "3         Pantopoleio Kali Orexi                    NaN         NaN   \n",
       "4         Pantopoleio Kali Orexi                    NaN         NaN   \n",
       "..                           ...                    ...         ...   \n",
       "409  Syrian Arab Friendship Club  Review 495 Similarity         0.0   \n",
       "410  Syrian Arab Friendship Club  Review 503 Similarity         0.0   \n",
       "411  Syrian Arab Friendship Club  Review 505 Similarity         0.0   \n",
       "412  Syrian Arab Friendship Club  Review 507 Similarity         0.0   \n",
       "413  Syrian Arab Friendship Club  Review 517 Similarity         0.0   \n",
       "\n",
       "                                                scores  compound score  \n",
       "0    {'neg': 0.0, 'neu': 0.721, 'pos': 0.279, 'comp...    0.7003   pos  \n",
       "1    {'neg': 0.0, 'neu': 0.813, 'pos': 0.187, 'comp...    0.8937   pos  \n",
       "2    {'neg': 0.0, 'neu': 0.9, 'pos': 0.1, 'compound...    0.7684   pos  \n",
       "3    {'neg': 0.109, 'neu': 0.559, 'pos': 0.332, 'co...    0.8799   pos  \n",
       "4    {'neg': 0.0, 'neu': 0.832, 'pos': 0.168, 'comp...    0.6652   pos  \n",
       "..                                                 ...       ...   ...  \n",
       "409  {'neg': 0.0, 'neu': 0.883, 'pos': 0.117, 'comp...    0.5719   pos  \n",
       "410  {'neg': 0.056, 'neu': 0.835, 'pos': 0.109, 'co...    0.2846   pos  \n",
       "411  {'neg': 0.0, 'neu': 0.732, 'pos': 0.268, 'comp...    0.8316   pos  \n",
       "412  {'neg': 0.0, 'neu': 0.754, 'pos': 0.246, 'comp...    0.8576   pos  \n",
       "413  {'neg': 0.0, 'neu': 0.845, 'pos': 0.155, 'comp...    0.8825   pos  \n",
       "\n",
       "[414 rows x 9 columns]"
      ]
     },
     "execution_count": 2,
     "metadata": {},
     "output_type": "execute_result"
    }
   ],
   "source": [
    "pos_review = pd.read_csv(r'C:\\Users\\Dell\\Desktop\\sentiment_cluster6_pos.csv')\n",
    "pos_review"
   ]
  },
  {
   "cell_type": "code",
   "execution_count": 3,
   "metadata": {},
   "outputs": [],
   "source": [
    "from pycaret.nlp import *"
   ]
  },
  {
   "cell_type": "code",
   "execution_count": 10,
   "metadata": {},
   "outputs": [
    {
     "data": {
      "text/html": [
       "<style  type=\"text/css\" >\n",
       "</style><table id=\"T_66986b46_281f_11eb_92aa_c48e8ff9d2e0\" ><thead>    <tr>        <th class=\"col_heading level0 col0\" >Description</th>        <th class=\"col_heading level0 col1\" >Value</th>    </tr></thead><tbody>\n",
       "                <tr>\n",
       "                                <td id=\"T_66986b46_281f_11eb_92aa_c48e8ff9d2e0row0_col0\" class=\"data row0 col0\" >session_id</td>\n",
       "                        <td id=\"T_66986b46_281f_11eb_92aa_c48e8ff9d2e0row0_col1\" class=\"data row0 col1\" >1907</td>\n",
       "            </tr>\n",
       "            <tr>\n",
       "                                <td id=\"T_66986b46_281f_11eb_92aa_c48e8ff9d2e0row1_col0\" class=\"data row1 col0\" >Documents</td>\n",
       "                        <td id=\"T_66986b46_281f_11eb_92aa_c48e8ff9d2e0row1_col1\" class=\"data row1 col1\" >414</td>\n",
       "            </tr>\n",
       "            <tr>\n",
       "                                <td id=\"T_66986b46_281f_11eb_92aa_c48e8ff9d2e0row2_col0\" class=\"data row2 col0\" >Vocab Size</td>\n",
       "                        <td id=\"T_66986b46_281f_11eb_92aa_c48e8ff9d2e0row2_col1\" class=\"data row2 col1\" >1688</td>\n",
       "            </tr>\n",
       "            <tr>\n",
       "                                <td id=\"T_66986b46_281f_11eb_92aa_c48e8ff9d2e0row3_col0\" class=\"data row3 col0\" >Custom Stopwords</td>\n",
       "                        <td id=\"T_66986b46_281f_11eb_92aa_c48e8ff9d2e0row3_col1\" class=\"data row3 col1\" >True</td>\n",
       "            </tr>\n",
       "    </tbody></table>"
      ],
      "text/plain": [
       "<pandas.io.formats.style.Styler at 0x1587a72f948>"
      ]
     },
     "metadata": {},
     "output_type": "display_data"
    }
   ],
   "source": [
    "exp_nlp = setup(data = pos_review, target = 'r_text',\n",
    "                custom_stopwords = [ 'hotel', 'room', 'nice', 'good', 'excellent','restaurant', 'food'])"
   ]
  },
  {
   "cell_type": "code",
   "execution_count": 11,
   "metadata": {},
   "outputs": [
    {
     "name": "stdout",
     "output_type": "stream",
     "text": [
      "LdaModel(num_terms=1688, num_topics=4, decay=0.5, chunksize=100)\n"
     ]
    }
   ],
   "source": [
    "#create an LDA model\n",
    "lda_pos_custom = create_model('lda')\n",
    "print(lda_pos_custom)"
   ]
  },
  {
   "cell_type": "code",
   "execution_count": 12,
   "metadata": {},
   "outputs": [],
   "source": [
    "apply_lda_pos = assign_model(lda_pos_custom)"
   ]
  },
  {
   "cell_type": "code",
   "execution_count": 13,
   "metadata": {},
   "outputs": [
    {
     "data": {
      "text/html": [
       "<div>\n",
       "<style scoped>\n",
       "    .dataframe tbody tr th:only-of-type {\n",
       "        vertical-align: middle;\n",
       "    }\n",
       "\n",
       "    .dataframe tbody tr th {\n",
       "        vertical-align: top;\n",
       "    }\n",
       "\n",
       "    .dataframe thead th {\n",
       "        text-align: right;\n",
       "    }\n",
       "</style>\n",
       "<table border=\"1\" class=\"dataframe\">\n",
       "  <thead>\n",
       "    <tr style=\"text-align: right;\">\n",
       "      <th></th>\n",
       "      <th>Unnamed: 0</th>\n",
       "      <th>r_points</th>\n",
       "      <th>r_text</th>\n",
       "      <th>place</th>\n",
       "      <th>Unnamed: 3</th>\n",
       "      <th>Unnamed: 4</th>\n",
       "      <th>scores</th>\n",
       "      <th>compound</th>\n",
       "      <th>score</th>\n",
       "      <th>Topic_0</th>\n",
       "      <th>Topic_1</th>\n",
       "      <th>Topic_2</th>\n",
       "      <th>Topic_3</th>\n",
       "      <th>Dominant_Topic</th>\n",
       "      <th>Perc_Dominant_Topic</th>\n",
       "    </tr>\n",
       "  </thead>\n",
       "  <tbody>\n",
       "    <tr>\n",
       "      <th>0</th>\n",
       "      <td>0</td>\n",
       "      <td>40</td>\n",
       "      <td>service quality environment inside</td>\n",
       "      <td>Pantopoleio Kali Orexi</td>\n",
       "      <td>NaN</td>\n",
       "      <td>NaN</td>\n",
       "      <td>{'neg': 0.0, 'neu': 0.721, 'pos': 0.279, 'comp...</td>\n",
       "      <td>0.7003</td>\n",
       "      <td>pos</td>\n",
       "      <td>0.045025</td>\n",
       "      <td>0.025922</td>\n",
       "      <td>0.866591</td>\n",
       "      <td>0.062462</td>\n",
       "      <td>Topic 2</td>\n",
       "      <td>0.87</td>\n",
       "    </tr>\n",
       "    <tr>\n",
       "      <th>1</th>\n",
       "      <td>1</td>\n",
       "      <td>40</td>\n",
       "      <td>family arrive early get crowd helpful staff ch...</td>\n",
       "      <td>Pantopoleio Kali Orexi</td>\n",
       "      <td>NaN</td>\n",
       "      <td>NaN</td>\n",
       "      <td>{'neg': 0.0, 'neu': 0.813, 'pos': 0.187, 'comp...</td>\n",
       "      <td>0.8937</td>\n",
       "      <td>pos</td>\n",
       "      <td>0.010107</td>\n",
       "      <td>0.005607</td>\n",
       "      <td>0.629001</td>\n",
       "      <td>0.355285</td>\n",
       "      <td>Topic 2</td>\n",
       "      <td>0.63</td>\n",
       "    </tr>\n",
       "    <tr>\n",
       "      <th>2</th>\n",
       "      <td>2</td>\n",
       "      <td>50</td>\n",
       "      <td>contemporary feel decor modern dish often fusi...</td>\n",
       "      <td>Pantopoleio Kali Orexi</td>\n",
       "      <td>NaN</td>\n",
       "      <td>NaN</td>\n",
       "      <td>{'neg': 0.0, 'neu': 0.9, 'pos': 0.1, 'compound...</td>\n",
       "      <td>0.7684</td>\n",
       "      <td>pos</td>\n",
       "      <td>0.010789</td>\n",
       "      <td>0.006111</td>\n",
       "      <td>0.967989</td>\n",
       "      <td>0.015111</td>\n",
       "      <td>Topic 2</td>\n",
       "      <td>0.97</td>\n",
       "    </tr>\n",
       "    <tr>\n",
       "      <th>3</th>\n",
       "      <td>3</td>\n",
       "      <td>40</td>\n",
       "      <td>big fussy plenty space feel comfortable delici...</td>\n",
       "      <td>Pantopoleio Kali Orexi</td>\n",
       "      <td>NaN</td>\n",
       "      <td>NaN</td>\n",
       "      <td>{'neg': 0.109, 'neu': 0.559, 'pos': 0.332, 'co...</td>\n",
       "      <td>0.8799</td>\n",
       "      <td>pos</td>\n",
       "      <td>0.016910</td>\n",
       "      <td>0.009540</td>\n",
       "      <td>0.950627</td>\n",
       "      <td>0.022922</td>\n",
       "      <td>Topic 2</td>\n",
       "      <td>0.95</td>\n",
       "    </tr>\n",
       "    <tr>\n",
       "      <th>4</th>\n",
       "      <td>4</td>\n",
       "      <td>40</td>\n",
       "      <td>many time pantopolio standard never vary bit e...</td>\n",
       "      <td>Pantopoleio Kali Orexi</td>\n",
       "      <td>NaN</td>\n",
       "      <td>NaN</td>\n",
       "      <td>{'neg': 0.0, 'neu': 0.832, 'pos': 0.168, 'comp...</td>\n",
       "      <td>0.6652</td>\n",
       "      <td>pos</td>\n",
       "      <td>0.375796</td>\n",
       "      <td>0.011135</td>\n",
       "      <td>0.154674</td>\n",
       "      <td>0.458394</td>\n",
       "      <td>Topic 3</td>\n",
       "      <td>0.46</td>\n",
       "    </tr>\n",
       "    <tr>\n",
       "      <th>...</th>\n",
       "      <td>...</td>\n",
       "      <td>...</td>\n",
       "      <td>...</td>\n",
       "      <td>...</td>\n",
       "      <td>...</td>\n",
       "      <td>...</td>\n",
       "      <td>...</td>\n",
       "      <td>...</td>\n",
       "      <td>...</td>\n",
       "      <td>...</td>\n",
       "      <td>...</td>\n",
       "      <td>...</td>\n",
       "      <td>...</td>\n",
       "      <td>...</td>\n",
       "      <td>...</td>\n",
       "    </tr>\n",
       "    <tr>\n",
       "      <th>409</th>\n",
       "      <td>274</td>\n",
       "      <td>40</td>\n",
       "      <td>seem go ever include many delicious item staff...</td>\n",
       "      <td>Syrian Arab Friendship Club</td>\n",
       "      <td>Review 495 Similarity</td>\n",
       "      <td>0.0</td>\n",
       "      <td>{'neg': 0.0, 'neu': 0.883, 'pos': 0.117, 'comp...</td>\n",
       "      <td>0.5719</td>\n",
       "      <td>pos</td>\n",
       "      <td>0.938230</td>\n",
       "      <td>0.007440</td>\n",
       "      <td>0.036248</td>\n",
       "      <td>0.018083</td>\n",
       "      <td>Topic 0</td>\n",
       "      <td>0.94</td>\n",
       "    </tr>\n",
       "    <tr>\n",
       "      <th>410</th>\n",
       "      <td>275</td>\n",
       "      <td>40</td>\n",
       "      <td>large outdoor garden parking hard find worth w...</td>\n",
       "      <td>Syrian Arab Friendship Club</td>\n",
       "      <td>Review 503 Similarity</td>\n",
       "      <td>0.0</td>\n",
       "      <td>{'neg': 0.056, 'neu': 0.835, 'pos': 0.109, 'co...</td>\n",
       "      <td>0.2846</td>\n",
       "      <td>pos</td>\n",
       "      <td>0.091864</td>\n",
       "      <td>0.143496</td>\n",
       "      <td>0.048640</td>\n",
       "      <td>0.716000</td>\n",
       "      <td>Topic 3</td>\n",
       "      <td>0.72</td>\n",
       "    </tr>\n",
       "    <tr>\n",
       "      <th>411</th>\n",
       "      <td>276</td>\n",
       "      <td>40</td>\n",
       "      <td>summer enjoy main traditional dish lot dip sal...</td>\n",
       "      <td>Syrian Arab Friendship Club</td>\n",
       "      <td>Review 505 Similarity</td>\n",
       "      <td>0.0</td>\n",
       "      <td>{'neg': 0.0, 'neu': 0.732, 'pos': 0.268, 'comp...</td>\n",
       "      <td>0.8316</td>\n",
       "      <td>pos</td>\n",
       "      <td>0.024117</td>\n",
       "      <td>0.013254</td>\n",
       "      <td>0.927532</td>\n",
       "      <td>0.035097</td>\n",
       "      <td>Topic 2</td>\n",
       "      <td>0.93</td>\n",
       "    </tr>\n",
       "    <tr>\n",
       "      <th>412</th>\n",
       "      <td>277</td>\n",
       "      <td>40</td>\n",
       "      <td>least serve pork free dish love tasty traditio...</td>\n",
       "      <td>Syrian Arab Friendship Club</td>\n",
       "      <td>Review 507 Similarity</td>\n",
       "      <td>0.0</td>\n",
       "      <td>{'neg': 0.0, 'neu': 0.754, 'pos': 0.246, 'comp...</td>\n",
       "      <td>0.8576</td>\n",
       "      <td>pos</td>\n",
       "      <td>0.012453</td>\n",
       "      <td>0.545590</td>\n",
       "      <td>0.424678</td>\n",
       "      <td>0.017279</td>\n",
       "      <td>Topic 1</td>\n",
       "      <td>0.55</td>\n",
       "    </tr>\n",
       "    <tr>\n",
       "      <th>413</th>\n",
       "      <td>278</td>\n",
       "      <td>10</td>\n",
       "      <td>include dip salad look buy supermarket whole k...</td>\n",
       "      <td>Syrian Arab Friendship Club</td>\n",
       "      <td>Review 517 Similarity</td>\n",
       "      <td>0.0</td>\n",
       "      <td>{'neg': 0.0, 'neu': 0.845, 'pos': 0.155, 'comp...</td>\n",
       "      <td>0.8825</td>\n",
       "      <td>pos</td>\n",
       "      <td>0.815351</td>\n",
       "      <td>0.006705</td>\n",
       "      <td>0.027638</td>\n",
       "      <td>0.150307</td>\n",
       "      <td>Topic 0</td>\n",
       "      <td>0.82</td>\n",
       "    </tr>\n",
       "  </tbody>\n",
       "</table>\n",
       "<p>414 rows × 15 columns</p>\n",
       "</div>"
      ],
      "text/plain": [
       "     Unnamed: 0  r_points                                             r_text  \\\n",
       "0             0        40                 service quality environment inside   \n",
       "1             1        40  family arrive early get crowd helpful staff ch...   \n",
       "2             2        50  contemporary feel decor modern dish often fusi...   \n",
       "3             3        40  big fussy plenty space feel comfortable delici...   \n",
       "4             4        40  many time pantopolio standard never vary bit e...   \n",
       "..          ...       ...                                                ...   \n",
       "409         274        40  seem go ever include many delicious item staff...   \n",
       "410         275        40  large outdoor garden parking hard find worth w...   \n",
       "411         276        40  summer enjoy main traditional dish lot dip sal...   \n",
       "412         277        40  least serve pork free dish love tasty traditio...   \n",
       "413         278        10  include dip salad look buy supermarket whole k...   \n",
       "\n",
       "                           place             Unnamed: 3  Unnamed: 4  \\\n",
       "0         Pantopoleio Kali Orexi                    NaN         NaN   \n",
       "1         Pantopoleio Kali Orexi                    NaN         NaN   \n",
       "2         Pantopoleio Kali Orexi                    NaN         NaN   \n",
       "3         Pantopoleio Kali Orexi                    NaN         NaN   \n",
       "4         Pantopoleio Kali Orexi                    NaN         NaN   \n",
       "..                           ...                    ...         ...   \n",
       "409  Syrian Arab Friendship Club  Review 495 Similarity         0.0   \n",
       "410  Syrian Arab Friendship Club  Review 503 Similarity         0.0   \n",
       "411  Syrian Arab Friendship Club  Review 505 Similarity         0.0   \n",
       "412  Syrian Arab Friendship Club  Review 507 Similarity         0.0   \n",
       "413  Syrian Arab Friendship Club  Review 517 Similarity         0.0   \n",
       "\n",
       "                                                scores  compound score  \\\n",
       "0    {'neg': 0.0, 'neu': 0.721, 'pos': 0.279, 'comp...    0.7003   pos   \n",
       "1    {'neg': 0.0, 'neu': 0.813, 'pos': 0.187, 'comp...    0.8937   pos   \n",
       "2    {'neg': 0.0, 'neu': 0.9, 'pos': 0.1, 'compound...    0.7684   pos   \n",
       "3    {'neg': 0.109, 'neu': 0.559, 'pos': 0.332, 'co...    0.8799   pos   \n",
       "4    {'neg': 0.0, 'neu': 0.832, 'pos': 0.168, 'comp...    0.6652   pos   \n",
       "..                                                 ...       ...   ...   \n",
       "409  {'neg': 0.0, 'neu': 0.883, 'pos': 0.117, 'comp...    0.5719   pos   \n",
       "410  {'neg': 0.056, 'neu': 0.835, 'pos': 0.109, 'co...    0.2846   pos   \n",
       "411  {'neg': 0.0, 'neu': 0.732, 'pos': 0.268, 'comp...    0.8316   pos   \n",
       "412  {'neg': 0.0, 'neu': 0.754, 'pos': 0.246, 'comp...    0.8576   pos   \n",
       "413  {'neg': 0.0, 'neu': 0.845, 'pos': 0.155, 'comp...    0.8825   pos   \n",
       "\n",
       "      Topic_0   Topic_1   Topic_2   Topic_3 Dominant_Topic  \\\n",
       "0    0.045025  0.025922  0.866591  0.062462        Topic 2   \n",
       "1    0.010107  0.005607  0.629001  0.355285        Topic 2   \n",
       "2    0.010789  0.006111  0.967989  0.015111        Topic 2   \n",
       "3    0.016910  0.009540  0.950627  0.022922        Topic 2   \n",
       "4    0.375796  0.011135  0.154674  0.458394        Topic 3   \n",
       "..        ...       ...       ...       ...            ...   \n",
       "409  0.938230  0.007440  0.036248  0.018083        Topic 0   \n",
       "410  0.091864  0.143496  0.048640  0.716000        Topic 3   \n",
       "411  0.024117  0.013254  0.927532  0.035097        Topic 2   \n",
       "412  0.012453  0.545590  0.424678  0.017279        Topic 1   \n",
       "413  0.815351  0.006705  0.027638  0.150307        Topic 0   \n",
       "\n",
       "     Perc_Dominant_Topic  \n",
       "0                   0.87  \n",
       "1                   0.63  \n",
       "2                   0.97  \n",
       "3                   0.95  \n",
       "4                   0.46  \n",
       "..                   ...  \n",
       "409                 0.94  \n",
       "410                 0.72  \n",
       "411                 0.93  \n",
       "412                 0.55  \n",
       "413                 0.82  \n",
       "\n",
       "[414 rows x 15 columns]"
      ]
     },
     "execution_count": 13,
     "metadata": {},
     "output_type": "execute_result"
    }
   ],
   "source": [
    "apply_lda_pos"
   ]
  },
  {
   "cell_type": "code",
   "execution_count": 14,
   "metadata": {},
   "outputs": [
    {
     "data": {
      "application/vnd.jupyter.widget-view+json": {
       "model_id": "22cee89522294ff6b1d6c1908e8398fc",
       "version_major": 2,
       "version_minor": 0
      },
      "text/plain": [
       "interactive(children=(ToggleButtons(description='Plot Type:', icons=('',), options=(('Frequency Plot', 'freque…"
      ]
     },
     "metadata": {},
     "output_type": "display_data"
    }
   ],
   "source": [
    "evaluate_model(lda_pos_custom)"
   ]
  },
  {
   "cell_type": "code",
   "execution_count": 15,
   "metadata": {},
   "outputs": [
    {
     "data": {
      "text/html": [
       "        <script type=\"text/javascript\">\n",
       "        window.PlotlyConfig = {MathJaxConfig: 'local'};\n",
       "        if (window.MathJax) {MathJax.Hub.Config({SVG: {font: \"STIX-Web\"}});}\n",
       "        if (typeof require !== 'undefined') {\n",
       "        require.undef(\"plotly\");\n",
       "        requirejs.config({\n",
       "            paths: {\n",
       "                'plotly': ['https://cdn.plot.ly/plotly-latest.min']\n",
       "            }\n",
       "        });\n",
       "        require(['plotly'], function(Plotly) {\n",
       "            window._Plotly = Plotly;\n",
       "        });\n",
       "        }\n",
       "        </script>\n",
       "        "
      ]
     },
     "metadata": {},
     "output_type": "display_data"
    },
    {
     "data": {
      "text/html": [
       "\n",
       "<link rel=\"stylesheet\" type=\"text/css\" href=\"https://cdn.rawgit.com/bmabey/pyLDAvis/files/ldavis.v1.0.0.css\">\n",
       "\n",
       "\n",
       "<div id=\"ldavis_el456814795585873366542126336\"></div>\n",
       "<script type=\"text/javascript\">\n",
       "\n",
       "var ldavis_el456814795585873366542126336_data = {\"mdsDat\": {\"x\": [-0.18434687895747212, -0.11050901878413513, 0.13067411742343665, 0.1641817803181706], \"y\": [-0.11860475448887296, 0.16387445572383882, -0.1766070198337156, 0.13133731859874972], \"topics\": [1, 2, 3, 4], \"cluster\": [1, 1, 1, 1], \"Freq\": [49.02826690673828, 28.070201873779297, 14.010505676269531, 8.891021728515625]}, \"tinfo\": {\"Term\": [\"syrian\", \"order\", \"service\", \"dip\", \"meat\", \"serve\", \"chicken\", \"eat\", \"dish\", \"bread\", \"authentic\", \"come\", \"worth\", \"many\", \"whole\", \"fresh\", \"bit\", \"friendly\", \"night\", \"dessert\", \"friend\", \"include\", \"want\", \"great\", \"people\", \"salad\", \"go\", \"back\", \"environment\", \"always\", \"variety\", \"great\", \"environment\", \"big\", \"atmosphere\", \"lot\", \"helpful\", \"choice\", \"recommend\", \"definitely\", \"summer\", \"also\", \"cuisine\", \"waiter\", \"polite\", \"pork\", \"always\", \"simple\", \"greek\", \"reservation\", \"sure\", \"book\", \"ingredient\", \"highly_recommende\", \"service\", \"busy\", \"welcome\", \"smile\", \"plenty\", \"high\", \"vegetarian\", \"friendly\", \"quality\", \"tasty\", \"dish\", \"visit\", \"staff\", \"menu\", \"time\", \"try\", \"place\", \"delicious\", \"enjoy\", \"price\", \"syrian\", \"make\", \"well\", \"traditional\", \"go\", \"really\", \"fresh\", \"salad\", \"chicken\", \"bit\", \"night\", \"friend\", \"quite\", \"kebab\", \"overall\", \"live\", \"dancer\", \"shish\", \"star\", \"expect\", \"array\", \"pitta\", \"plate\", \"pay\", \"taouk\", \"right\", \"share\", \"hard\", \"complete\", \"ahead\", \"descent\", \"small\", \"compliment\", \"still\", \"moderate\", \"tabouli\", \"belly\", \"lately\", \"drinking\", \"bread\", \"coffee\", \"large\", \"genuine\", \"amazing\", \"top\", \"salad\", \"find\", \"little\", \"meat\", \"however\", \"go\", \"walk\", \"main\", \"price\", \"place\", \"well\", \"dish\", \"order\", \"afterwards\", \"ever\", \"bring\", \"see\", \"never\", \"wonderful\", \"meze\", \"seem\", \"read\", \"actually\", \"piece\", \"review\", \"regularly\", \"falafel\", \"particularly\", \"flatbread\", \"front\", \"item\", \"fountain\", \"gem\", \"delicacy\", \"student\", \"outdoor\", \"balmy\", \"enable\", \"evocative\", \"levant\", \"respective\", \"university\", \"woth\", \"back\", \"whole\", \"take\", \"many\", \"come\", \"order\", \"eat\", \"meat\", \"dip\", \"people\", \"meal\", \"include\", \"go\", \"fresh\", \"know\", \"love\", \"salad\", \"evening\", \"full\", \"table\", \"get\", \"authentic\", \"garden\", \"smoke\", \"oriental\", \"free\", \"least\", \"nargile\", \"recipe\", \"chap\", \"mouhamarra\", \"pistachio\", \"mahalepi\", \"face\", \"forget\", \"almost\", \"typical\", \"spread\", \"surrounding\", \"consistently\", \"like\", \"smoking\", \"relaxed\", \"past\", \"affordable\", \"slightly\", \"non\", \"stop\", \"excited\", \"middle_eastern\", \"instead\", \"old\", \"cold\", \"chef\", \"town\", \"especially\", \"worth\", \"want\", \"serve\", \"syrian\", \"hot\", \"order\", \"appetizer\", \"eat\", \"feast\", \"really\", \"dessert\"], \"Freq\": [111.0, 55.0, 125.0, 72.0, 49.0, 36.0, 41.0, 41.0, 150.0, 46.0, 16.0, 35.0, 24.0, 26.0, 24.0, 52.0, 28.0, 109.0, 28.0, 35.0, 27.0, 30.0, 19.0, 52.0, 26.0, 99.0, 127.0, 17.0, 50.0, 63.0, 48.128700256347656, 52.364437103271484, 50.12796401977539, 35.48781967163086, 41.47089767456055, 29.666101455688477, 29.075658798217773, 29.228065490722656, 39.66939926147461, 24.495197296142578, 24.630714416503906, 35.714439392089844, 17.223926544189453, 22.355976104736328, 15.335798263549805, 17.007856369018555, 61.17307662963867, 14.131274223327637, 13.68781852722168, 11.878395080566406, 12.50373363494873, 11.519782066345215, 11.037812232971191, 10.57622241973877, 119.32952880859375, 10.377778053283691, 10.159921646118164, 13.840609550476074, 9.61153507232666, 16.323688507080078, 13.596498489379883, 100.15576934814453, 41.229759216308594, 68.34698486328125, 131.20703125, 69.28490447998047, 87.53724670410156, 41.301231384277344, 46.38539123535156, 65.63557434082031, 97.90457916259766, 54.1659049987793, 42.79259490966797, 58.904720306396484, 75.83344268798828, 43.435935974121094, 53.98756408691406, 40.40452575683594, 69.09467315673828, 34.10173797607422, 34.32079315185547, 36.15472412109375, 40.656742095947266, 28.327743530273438, 28.305910110473633, 27.36211395263672, 20.344993591308594, 21.022871017456055, 18.01569366455078, 15.855195045471191, 15.495492935180664, 15.669047355651855, 15.039985656738281, 13.835686683654785, 12.781050682067871, 12.364748001098633, 13.564504623413086, 11.672807693481445, 11.443650245666504, 13.669031143188477, 14.485560417175293, 11.54088306427002, 12.012384414672852, 11.223369598388672, 10.487605094909668, 10.684687614440918, 10.045058250427246, 18.777828216552734, 9.895872116088867, 9.539060592651367, 21.603742599487305, 9.53437614440918, 9.53437614440918, 42.51266860961914, 18.195037841796875, 17.21181297302246, 11.929620742797852, 21.112638473510742, 15.544528007507324, 50.576961517333984, 19.631492614746094, 18.37336540222168, 25.40605354309082, 13.85177230834961, 28.884395599365234, 13.972086906433105, 17.275001525878906, 19.5773868560791, 21.0624942779541, 17.894123077392578, 19.01227569580078, 15.477339744567871, 12.109981536865234, 10.717074394226074, 9.91567611694336, 9.663843154907227, 9.66263198852539, 8.901018142700195, 8.40500545501709, 8.163700103759766, 8.302154541015625, 7.998087406158447, 7.880712509155273, 7.321839809417725, 7.046687126159668, 7.323538780212402, 6.884117603302002, 6.450078964233398, 6.4463396072387695, 6.443969249725342, 6.443521499633789, 6.332118511199951, 6.327734470367432, 6.242821216583252, 12.309928894042969, 6.012876987457275, 6.012876987457275, 6.012876987457275, 6.012876987457275, 6.012570381164551, 6.012570381164551, 6.012579917907715, 15.447275161743164, 18.117013931274414, 8.883537292480469, 17.343538284301758, 19.77169418334961, 26.333341598510742, 21.32476043701172, 23.24435043334961, 28.334369659423828, 14.032240867614746, 16.806230545043945, 13.762274742126465, 27.06365394592285, 15.532915115356445, 8.312982559204102, 10.977554321289062, 12.625914573669434, 8.354344367980957, 8.542339324951172, 8.253631591796875, 8.35136890411377, 15.973675727844238, 11.064085960388184, 9.588586807250977, 8.845802307128906, 9.074548721313477, 8.018851280212402, 7.610264301300049, 6.859195232391357, 6.2087507247924805, 6.2087507247924805, 6.203579425811768, 6.203579425811768, 6.203579425811768, 7.163998126983643, 3.920515775680542, 3.595978021621704, 3.3492586612701416, 2.8135647773742676, 2.7098560333251953, 10.196053504943848, 2.544368028640747, 2.476470708847046, 2.3980581760406494, 2.7181739807128906, 2.5567991733551025, 2.152456760406494, 2.1267898082733154, 5.739879131317139, 1.9709206819534302, 1.7169439792633057, 7.286447525024414, 6.965017318725586, 5.9644975662231445, 8.27026653289795, 9.453829765319824, 11.93115234375, 8.59267807006836, 13.14020824432373, 20.980152130126953, 6.795319557189941, 12.713607788085938, 6.408565521240234, 7.352756500244141, 5.585366725921631, 6.606339454650879, 6.179358005523682], \"Total\": [111.0, 55.0, 125.0, 72.0, 49.0, 36.0, 41.0, 41.0, 150.0, 46.0, 16.0, 35.0, 24.0, 26.0, 24.0, 52.0, 28.0, 109.0, 28.0, 35.0, 27.0, 30.0, 19.0, 52.0, 26.0, 99.0, 127.0, 17.0, 50.0, 63.0, 48.682830810546875, 52.97789764404297, 50.77065658569336, 36.057891845703125, 42.16967010498047, 30.215412139892578, 29.633892059326172, 29.947877883911133, 40.69839096069336, 25.173065185546875, 25.3261775970459, 36.810462951660156, 17.77174949645996, 23.136869430541992, 15.873539924621582, 17.632671356201172, 63.451072692871094, 14.674566268920898, 14.228137016296387, 12.429349899291992, 13.08698844909668, 12.079045295715332, 11.576316833496094, 11.109140396118164, 125.55247497558594, 10.92289924621582, 10.708731651306152, 14.628599166870117, 10.163818359375, 17.269695281982422, 14.392313957214355, 109.21031188964844, 44.232147216796875, 75.5237045288086, 150.54898071289062, 78.33734130859375, 102.59114837646484, 46.593284606933594, 52.8501091003418, 76.53938293457031, 119.8727798461914, 63.083656311035156, 49.922584533691406, 78.79052734375, 111.7813720703125, 57.00044631958008, 78.28470611572266, 53.72724914550781, 127.76830291748047, 44.451499938964844, 52.17831039428711, 99.51325225830078, 41.2684326171875, 28.951269149780273, 28.952402114868164, 27.998716354370117, 20.958415985107422, 21.71941566467285, 18.6436710357666, 16.474157333374023, 16.10301971435547, 16.287290573120117, 15.655096054077148, 14.453751564025879, 13.424774169921875, 12.988680839538574, 14.262697219848633, 12.27419662475586, 12.041906356811523, 14.392144203186035, 15.253111839294434, 12.153303146362305, 12.651741027832031, 11.830155372619629, 11.090394973754883, 11.322872161865234, 10.646389961242676, 19.929903030395508, 10.513089179992676, 10.135449409484863, 22.963363647460938, 10.136749267578125, 10.136749267578125, 46.494380950927734, 19.85270118713379, 19.04254722595215, 12.994308471679688, 27.93526840209961, 18.65962028503418, 99.51325225830078, 27.716632843017578, 26.73554039001465, 49.21940612792969, 17.42926597595215, 127.76830291748047, 18.907041549682617, 39.46840286254883, 78.79052734375, 119.8727798461914, 78.28470611572266, 150.54898071289062, 55.58649444580078, 12.800589561462402, 11.416376113891602, 10.615743637084961, 10.383419036865234, 10.392972946166992, 9.618220329284668, 9.099916458129883, 8.84886646270752, 9.017812728881836, 8.689797401428223, 8.570603370666504, 8.014849662780762, 7.738553047180176, 8.049150466918945, 7.576633453369141, 7.135373115539551, 7.138396263122559, 7.138889789581299, 7.139315128326416, 7.017226219177246, 7.019700050354004, 6.9341044425964355, 13.685444831848145, 6.6939778327941895, 6.6939778327941895, 6.6939778327941895, 6.6939778327941895, 6.694158554077148, 6.694158554077148, 6.69427490234375, 17.451841354370117, 24.271766662597656, 10.863873481750488, 26.723873138427734, 35.90467071533203, 55.58649444580078, 41.74477005004883, 49.21940612792969, 72.18769836425781, 26.308069229125977, 42.141780853271484, 30.114704132080078, 127.76830291748047, 52.17831039428711, 14.07055950164795, 39.74562072753906, 99.51325225830078, 15.707962036132812, 20.30923080444336, 23.935270309448242, 37.58444595336914, 16.701143264770508, 11.840697288513184, 10.284496307373047, 9.542764663696289, 9.794747352600098, 8.711235046386719, 8.301765441894531, 7.561680793762207, 6.891232490539551, 6.891232490539551, 6.8964691162109375, 6.8964691162109375, 6.8964691162109375, 7.968544006347656, 4.686720848083496, 4.31374454498291, 4.063172817230225, 3.5402214527130127, 3.450462818145752, 13.103598594665527, 3.2749764919281006, 3.2060279846191406, 3.111088514328003, 3.533952474594116, 3.326446533203125, 2.8575997352600098, 2.8702104091644287, 7.822718620300293, 2.7109479904174805, 2.4043402671813965, 10.615997314453125, 10.850872039794922, 9.21624755859375, 14.478347778320312, 17.35291290283203, 24.728857040405273, 19.3494930267334, 36.49797058105469, 111.7813720703125, 17.266319274902344, 55.58649444580078, 19.870864868164062, 41.74477005004883, 17.930522918701172, 44.451499938964844, 35.923789978027344], \"Category\": [\"Default\", \"Default\", \"Default\", \"Default\", \"Default\", \"Default\", \"Default\", \"Default\", \"Default\", \"Default\", \"Default\", \"Default\", \"Default\", \"Default\", \"Default\", \"Default\", \"Default\", \"Default\", \"Default\", \"Default\", \"Default\", \"Default\", \"Default\", \"Default\", \"Default\", \"Default\", \"Default\", \"Default\", \"Default\", \"Default\", \"Topic1\", \"Topic1\", \"Topic1\", \"Topic1\", \"Topic1\", \"Topic1\", \"Topic1\", \"Topic1\", \"Topic1\", \"Topic1\", \"Topic1\", \"Topic1\", \"Topic1\", \"Topic1\", \"Topic1\", \"Topic1\", \"Topic1\", \"Topic1\", \"Topic1\", \"Topic1\", \"Topic1\", \"Topic1\", \"Topic1\", \"Topic1\", \"Topic1\", \"Topic1\", \"Topic1\", \"Topic1\", \"Topic1\", \"Topic1\", \"Topic1\", \"Topic1\", \"Topic1\", \"Topic1\", \"Topic1\", \"Topic1\", \"Topic1\", \"Topic1\", \"Topic1\", \"Topic1\", \"Topic1\", \"Topic1\", \"Topic1\", \"Topic1\", \"Topic1\", \"Topic1\", \"Topic1\", \"Topic1\", \"Topic1\", \"Topic1\", \"Topic1\", \"Topic1\", \"Topic2\", \"Topic2\", \"Topic2\", \"Topic2\", \"Topic2\", \"Topic2\", \"Topic2\", \"Topic2\", \"Topic2\", \"Topic2\", \"Topic2\", \"Topic2\", \"Topic2\", \"Topic2\", \"Topic2\", \"Topic2\", \"Topic2\", \"Topic2\", \"Topic2\", \"Topic2\", \"Topic2\", \"Topic2\", \"Topic2\", \"Topic2\", \"Topic2\", \"Topic2\", \"Topic2\", \"Topic2\", \"Topic2\", \"Topic2\", \"Topic2\", \"Topic2\", \"Topic2\", \"Topic2\", \"Topic2\", \"Topic2\", \"Topic2\", \"Topic2\", \"Topic2\", \"Topic2\", \"Topic2\", \"Topic2\", \"Topic2\", \"Topic2\", \"Topic2\", \"Topic2\", \"Topic2\", \"Topic2\", \"Topic2\", \"Topic2\", \"Topic3\", \"Topic3\", \"Topic3\", \"Topic3\", \"Topic3\", \"Topic3\", \"Topic3\", \"Topic3\", \"Topic3\", \"Topic3\", \"Topic3\", \"Topic3\", \"Topic3\", \"Topic3\", \"Topic3\", \"Topic3\", \"Topic3\", \"Topic3\", \"Topic3\", \"Topic3\", \"Topic3\", \"Topic3\", \"Topic3\", \"Topic3\", \"Topic3\", \"Topic3\", \"Topic3\", \"Topic3\", \"Topic3\", \"Topic3\", \"Topic3\", \"Topic3\", \"Topic3\", \"Topic3\", \"Topic3\", \"Topic3\", \"Topic3\", \"Topic3\", \"Topic3\", \"Topic3\", \"Topic3\", \"Topic3\", \"Topic3\", \"Topic3\", \"Topic3\", \"Topic3\", \"Topic3\", \"Topic3\", \"Topic3\", \"Topic3\", \"Topic3\", \"Topic4\", \"Topic4\", \"Topic4\", \"Topic4\", \"Topic4\", \"Topic4\", \"Topic4\", \"Topic4\", \"Topic4\", \"Topic4\", \"Topic4\", \"Topic4\", \"Topic4\", \"Topic4\", \"Topic4\", \"Topic4\", \"Topic4\", \"Topic4\", \"Topic4\", \"Topic4\", \"Topic4\", \"Topic4\", \"Topic4\", \"Topic4\", \"Topic4\", \"Topic4\", \"Topic4\", \"Topic4\", \"Topic4\", \"Topic4\", \"Topic4\", \"Topic4\", \"Topic4\", \"Topic4\", \"Topic4\", \"Topic4\", \"Topic4\", \"Topic4\", \"Topic4\", \"Topic4\", \"Topic4\", \"Topic4\", \"Topic4\", \"Topic4\", \"Topic4\", \"Topic4\"], \"logprob\": [30.0, 29.0, 28.0, 27.0, 26.0, 25.0, 24.0, 23.0, 22.0, 21.0, 20.0, 19.0, 18.0, 17.0, 16.0, 15.0, 14.0, 13.0, 12.0, 11.0, 10.0, 9.0, 8.0, 7.0, 6.0, 5.0, 4.0, 3.0, 2.0, 1.0, -4.512899875640869, -4.428500175476074, -4.4721999168396, -4.817599773406982, -4.661799907684326, -4.996699810028076, -5.0167999267578125, -5.011600017547607, -4.706200122833252, -5.188300132751465, -5.182799816131592, -4.811200141906738, -5.54040002822876, -5.279699802398682, -5.656599998474121, -5.553100109100342, -4.2729997634887695, -5.738399982452393, -5.770199775695801, -5.9120001792907715, -5.8607001304626465, -5.942699909210205, -5.985400199890137, -6.02810001373291, -3.6048998832702637, -6.047100067138672, -6.068299770355225, -5.759099960327148, -6.123799800872803, -5.594099998474121, -5.776899814605713, -3.7799999713897705, -4.667600154876709, -4.162199974060059, -3.509999990463257, -4.148499965667725, -3.9147000312805176, -4.665900230407715, -4.549799919128418, -4.202600002288818, -3.802799940109253, -4.394700050354004, -4.63040018081665, -4.310800075531006, -4.058199882507324, -4.615499973297119, -4.3979997634887695, -4.68779993057251, -4.151299953460693, -4.857399940490723, -4.85099983215332, -4.798900127410889, -4.123899936676025, -4.485199928283691, -4.486000061035156, -4.519899845123291, -4.816199779510498, -4.783400058746338, -4.93779993057251, -5.0655999183654785, -5.088500022888184, -5.077400207519531, -5.118299961090088, -5.2017998695373535, -5.281099796295166, -5.314199924468994, -5.22160005569458, -5.371799945831299, -5.391600131988525, -5.213900089263916, -5.155900001525879, -5.383200168609619, -5.343100070953369, -5.411099910736084, -5.478899955749512, -5.46019983291626, -5.521999835968018, -4.896399974822998, -5.536900043487549, -5.573699951171875, -4.756199836730957, -5.57420015335083, -5.57420015335083, -4.0792999267578125, -4.9278998374938965, -4.983500003814697, -5.349999904632568, -4.779200077056885, -5.085400104522705, -3.905600070953369, -4.851900100708008, -4.9182000160217285, -4.594099998474121, -5.2006001472473145, -4.465799808502197, -5.191999912261963, -4.979800224304199, -4.854700088500977, -4.781599998474121, -4.9446001052856445, -4.883999824523926, -5.089700222015381, -4.640100002288818, -4.76230001449585, -4.840000152587891, -4.865799903869629, -4.865900039672852, -4.947999954223633, -5.005300045013428, -5.0345001220703125, -5.017600059509277, -5.054999828338623, -5.069699764251709, -5.1433000564575195, -5.181600093841553, -5.143099784851074, -5.204899787902832, -5.270100116729736, -5.270599842071533, -5.270999908447266, -5.271100044250488, -5.28849983215332, -5.2891998291015625, -5.302700042724609, -4.623799800872803, -5.3403000831604, -5.3403000831604, -5.3403000831604, -5.3403000831604, -5.3403000831604, -5.3403000831604, -5.3403000831604, -4.396699905395508, -4.237299919128418, -4.949999809265137, -4.280900001525879, -4.149899959564209, -3.863300085067749, -4.0742998123168945, -3.988100051879883, -3.79010009765625, -4.492800235748291, -4.312399864196777, -4.512199878692627, -3.8359999656677246, -4.391200065612793, -5.016300201416016, -4.73829984664917, -4.598400115966797, -5.01140022277832, -4.989099979400635, -5.023499965667725, -5.01170015335083, -3.9084999561309814, -4.275700092315674, -4.418799877166748, -4.4994001388549805, -4.473899841308594, -4.597599983215332, -4.649899959564209, -4.753799915313721, -4.853400230407715, -4.853400230407715, -4.854300022125244, -4.854300022125244, -4.854300022125244, -4.710299968719482, -5.313199996948242, -5.399600028991699, -5.470699787139893, -5.644899845123291, -5.682499885559082, -4.357399940490723, -5.745500087738037, -5.772600173950195, -5.804699897766113, -5.6793999671936035, -5.740600109100342, -5.912799835205078, -5.924799919128418, -4.932000160217285, -6.000899791717529, -6.138800144195557, -4.693399906158447, -4.738500118255615, -4.893599987030029, -4.566699981689453, -4.433000087738037, -4.200200080871582, -4.528500080108643, -4.103700160980225, -3.6357998847961426, -4.763199806213379, -4.13670015335083, -4.821800231933594, -4.684299945831299, -4.959199905395508, -4.791399955749512, -4.8582000732421875], \"loglift\": [30.0, 29.0, 28.0, 27.0, 26.0, 25.0, 24.0, 23.0, 22.0, 21.0, 20.0, 19.0, 18.0, 17.0, 16.0, 15.0, 14.0, 13.0, 12.0, 11.0, 10.0, 9.0, 8.0, 7.0, 6.0, 5.0, 4.0, 3.0, 2.0, 1.0, 0.7013000249862671, 0.7010999917984009, 0.699999988079071, 0.6967999935150146, 0.6960999965667725, 0.6944000124931335, 0.6937999725341797, 0.6883999705314636, 0.6872000098228455, 0.6855000257492065, 0.6848999857902527, 0.6825000047683716, 0.6815000176429749, 0.6783999800682068, 0.6783000230789185, 0.6766999959945679, 0.6761999726295471, 0.675000011920929, 0.6740999817848206, 0.6674000024795532, 0.6672000288963318, 0.6654000282287598, 0.6650999784469604, 0.6636000275611877, 0.661899983882904, 0.6615999937057495, 0.6601999998092651, 0.6574000120162964, 0.6568999886512756, 0.6564000248908997, 0.6559000015258789, 0.6262000203132629, 0.6424999833106995, 0.6129000186920166, 0.5752999782562256, 0.5899999737739563, 0.554099977016449, 0.592199981212616, 0.5823000073432922, 0.5590999722480774, 0.5102999806404114, 0.5604000091552734, 0.5587000250816345, 0.4219000041484833, 0.3248000144958496, 0.4410000145435333, 0.34119999408721924, 0.4277999997138977, 0.09799999743700027, 0.44769999384880066, 0.2939000129699707, -0.299699991941452, 1.2554999589920044, 1.2487000226974487, 1.2479000091552734, 1.247499942779541, 1.2408000230789185, 1.2379000186920166, 1.236199975013733, 1.232200026512146, 1.2319999933242798, 1.2317999601364136, 1.2303999662399292, 1.2267999649047852, 1.2213000059127808, 1.2211999893188477, 1.2202999591827393, 1.2201999425888062, 1.219499945640564, 1.2188999652862549, 1.2187999486923218, 1.2187999486923218, 1.2186000347137451, 1.2178000211715698, 1.2145999670028687, 1.212399959564209, 1.2122999429702759, 1.2108999490737915, 1.2100000381469727, 1.2098000049591064, 1.2094000577926636, 1.2092000246047974, 1.2092000246047974, 1.180899977684021, 1.1833000183105469, 1.1693999767303467, 1.184999942779541, 0.9904000163078308, 1.0878000259399414, 0.5936999917030334, 0.925599992275238, 0.8953999876976013, 0.6092000007629395, 1.0406999588012695, -0.21649999916553497, 0.9679999947547913, 0.4442000091075897, -0.12200000137090683, -0.4684999883174896, -0.2054000049829483, -0.7986999750137329, -0.008100000210106373, 1.9098999500274658, 1.9021999835968018, 1.8970999717712402, 1.8934999704360962, 1.8925000429153442, 1.8878999948501587, 1.8859000205993652, 1.8847999572753906, 1.882699966430664, 1.8824000358581543, 1.8813999891281128, 1.874899983406067, 1.8717000484466553, 1.87090003490448, 1.8695000410079956, 1.864400029182434, 1.8633999824523926, 1.8630000352859497, 1.8628000020980835, 1.8625999689102173, 1.8616000413894653, 1.8602999448776245, 1.8594000339508057, 1.8581000566482544, 1.8581000566482544, 1.8581000566482544, 1.8581000566482544, 1.8580000400543213, 1.8580000400543213, 1.8580000400543213, 1.843400001525879, 1.6728999614715576, 1.7640999555587769, 1.5329999923706055, 1.3687000274658203, 1.2182999849319458, 1.2936999797821045, 1.2151000499725342, 1.0302000045776367, 1.3367999792099, 1.0461000204086304, 1.1822999715805054, 0.4133000075817108, 0.7537000179290771, 1.4391000270843506, 0.6786999702453613, -0.09920000284910202, 1.3339999914169312, 1.0993000268936157, 0.9006999731063843, 0.4611999988555908, 2.3756000995635986, 2.352299928665161, 2.350100040435791, 2.3443000316619873, 2.3438000679016113, 2.3373000621795654, 2.333199977874756, 2.3225998878479004, 2.3157999515533447, 2.3157999515533447, 2.314199924468994, 2.314199924468994, 2.314199924468994, 2.313699960708618, 2.2416000366210938, 2.238100051879883, 2.226900100708008, 2.1903998851776123, 2.178499937057495, 2.1691999435424805, 2.1677000522613525, 2.161900043487549, 2.1598000526428223, 2.1577000617980957, 2.1570000648498535, 2.1368000507354736, 2.1203999519348145, 2.1105000972747803, 2.101300001144409, 2.083400011062622, 2.043800115585327, 1.9767999649047852, 1.9850000143051147, 1.8601000308990479, 1.8128000497817993, 1.6913000345230103, 1.6083999872207642, 1.3984999656677246, 0.7472000122070312, 1.4875999689102173, 0.9448999762535095, 1.2884999513626099, 0.6836000084877014, 1.2538000345230103, 0.5138000249862671, 0.6599000096321106]}, \"token.table\": {\"Topic\": [3, 4, 3, 2, 4, 1, 4, 1, 3, 2, 3, 1, 2, 4, 2, 1, 4, 2, 3, 3, 2, 3, 1, 2, 1, 2, 3, 3, 1, 4, 1, 4, 2, 1, 2, 4, 1, 4, 1, 2, 3, 2, 2, 4, 1, 2, 1, 3, 1, 2, 3, 2, 1, 4, 1, 2, 3, 1, 2, 2, 1, 3, 4, 3, 1, 2, 1, 2, 4, 2, 3, 3, 3, 1, 4, 2, 4, 3, 2, 4, 1, 2, 3, 4, 3, 4, 1, 2, 3, 2, 1, 2, 4, 3, 1, 3, 4, 3, 2, 3, 1, 2, 3, 4, 1, 2, 3, 4, 1, 1, 2, 1, 1, 3, 1, 1, 4, 1, 2, 1, 3, 1, 4, 3, 2, 1, 3, 2, 4, 2, 4, 3, 2, 4, 2, 3, 2, 1, 1, 3, 4, 1, 2, 1, 2, 3, 1, 3, 1, 2, 3, 4, 2, 3, 1, 3, 3, 4, 2, 4, 4, 3, 2, 4, 2, 4, 1, 2, 3, 4, 4, 2, 3, 2, 3, 4, 2, 1, 3, 3, 4, 2, 1, 2, 3, 2, 1, 1, 1, 1, 2, 1, 2, 4, 2, 3, 1, 2, 4, 4, 1, 2, 3, 4, 1, 3, 3, 2, 1, 2, 3, 3, 3, 1, 2, 4, 1, 2, 2, 2, 1, 4, 2, 1, 4, 4, 4, 1, 2, 3, 2, 2, 4, 4, 3, 1, 1, 4, 1, 2, 3, 4, 1, 2, 3, 2, 1, 3, 2, 1, 2, 3, 4, 1, 2, 3, 1, 2, 1, 4, 1, 2, 1, 2, 3, 4, 4, 3, 1, 1, 1, 2, 3, 1, 2, 4, 1, 4, 1, 1, 2, 3, 4, 1, 2, 3, 3, 2, 4, 3], \"Freq\": [0.9206198453903198, 0.8489078283309937, 0.9374568462371826, 0.9298271536827087, 0.8534752130508423, 0.9779828190803528, 0.02716618962585926, 0.9613706469535828, 0.03152034804224968, 0.7517378926277161, 0.214782252907753, 0.1006498709321022, 0.5535743236541748, 0.3019496202468872, 0.9683589339256287, 0.9722627401351929, 0.9580182433128357, 0.11460109055042267, 0.8595081567764282, 0.8963280320167542, 0.9580478072166443, 0.043547626584768295, 0.9706612825393677, 0.9671424031257629, 0.9934560060501099, 0.9248429536819458, 0.08603189885616302, 0.9419971108436584, 0.9155078530311584, 0.8706715106964111, 0.3255120813846588, 0.6510241627693176, 0.9934954643249512, 0.9683490991592407, 0.9066776037216187, 0.05037098005414009, 0.2764754891395569, 0.6451094150543213, 0.36206987500190735, 0.08355458825826645, 0.5570306181907654, 0.9484860897064209, 0.9392855167388916, 0.8694486021995544, 0.9565743803977966, 0.9315022826194763, 0.9534000158309937, 0.854737401008606, 0.8560062050819397, 0.01585196703672409, 0.12681573629379272, 0.901681125164032, 0.807264506816864, 0.16702024638652802, 0.45714160799980164, 0.1523805409669876, 0.3878777325153351, 0.8701487183570862, 0.12620477378368378, 0.9865095615386963, 0.31141626834869385, 0.5030570030212402, 0.16768567264080048, 0.8963280320167542, 0.8613336086273193, 0.14021709561347961, 0.9848208427429199, 0.403390496969223, 0.5186449289321899, 0.4456338882446289, 0.5092958807945251, 0.9635281562805176, 0.8963280320167542, 0.2556656002998352, 0.7669968008995056, 0.9686066508293152, 0.8700104355812073, 0.8696569800376892, 0.6692498922348022, 0.3346249461174011, 0.2525559365749359, 0.7215883731842041, 0.8408810496330261, 0.8784540891647339, 0.8404167294502258, 0.9188598394393921, 0.6516117453575134, 0.03833010420203209, 0.3066408336162567, 0.9643298983573914, 0.9156644344329834, 0.07325315475463867, 0.009156644344329834, 0.8405249118804932, 0.5416256189346313, 0.44314825534820557, 0.9289993643760681, 0.8550387024879456, 0.9234812259674072, 0.07695677131414413, 0.2660675048828125, 0.3458877503871918, 0.21285401284694672, 0.15964050590991974, 0.5400400161743164, 0.22697335481643677, 0.21132001280784607, 0.023480001837015152, 0.9815413951873779, 0.9839658141136169, 0.9873858690261841, 0.9786092042922974, 0.9264784455299377, 0.05790490284562111, 0.9901756048202515, 0.5791622400283813, 0.40541356801986694, 0.17212428152561188, 0.8032466769218445, 0.5313019156455994, 0.46488916873931885, 0.9502158761024475, 0.8318290114402771, 0.8404667973518372, 0.9668768644332886, 0.35535189509391785, 0.5685630440711975, 0.8927376866340637, 0.052513983100652695, 0.9865095615386963, 0.9183542728424072, 0.8963280320167542, 0.1526298224925995, 0.7631491422653198, 0.6732611060142517, 0.29922717809677124, 0.9712181091308594, 0.9928708076477051, 0.7044801115989685, 0.2767600417137146, 0.8700104355812073, 0.5574079155921936, 0.43072429299354553, 0.7543800473213196, 0.17543722689151764, 0.07017488777637482, 0.33677753806114197, 0.6361353397369385, 0.3559412956237793, 0.21356478333473206, 0.40340012311935425, 0.04745883867144585, 0.5079297423362732, 0.4672953486442566, 0.8799551129341125, 0.10731159895658493, 0.8791289329528809, 0.7377492785453796, 0.9511951804161072, 0.8706715106964111, 0.9636504650115967, 0.9621886014938354, 0.9671045541763306, 0.6998881101608276, 0.28259238600730896, 0.6593822240829468, 0.017989981919527054, 0.2698497176170349, 0.4677395224571228, 0.2338697612285614, 0.943122923374176, 0.07307033240795135, 0.8768439888954163, 0.9654750823974609, 0.92389315366745, 0.6428617835044861, 0.9776607155799866, 0.45613381266593933, 0.5321561098098755, 0.9334232211112976, 0.8700104355812073, 0.9238813519477844, 0.8175333738327026, 0.17518572509288788, 0.008342177607119083, 0.9815815091133118, 0.9838821887969971, 0.9449688196182251, 0.9641193747520447, 0.748820960521698, 0.25383761525154114, 0.9269276261329651, 0.04521598294377327, 0.022607991471886635, 0.954270601272583, 0.8871330618858337, 0.7648785710334778, 0.08998571336269379, 0.15747499465942383, 0.9257200956344604, 0.982839822769165, 0.024570995941758156, 0.9045618772506714, 0.6238248944282532, 0.9654567837715149, 0.8963038325309753, 0.8733788132667542, 0.9727529287338257, 0.36176085472106934, 0.5124945640563965, 0.13063587248325348, 0.9630739092826843, 0.9040706157684326, 0.5753744840621948, 0.054797567427158356, 0.356184184551239, 0.9478108882904053, 0.04778878390789032, 0.9178454875946045, 0.9823610782623291, 0.9540315866470337, 0.9018632769584656, 0.9714849591255188, 0.9570294618606567, 0.9723373651504517, 0.9160370826721191, 0.7383392453193665, 0.8577737808227539, 0.08772686868906021, 0.058484576642513275, 0.9581544399261475, 0.9533413052558899, 0.05017586052417755, 0.6968130469322205, 0.8652883768081665, 0.9871209263801575, 0.9933530688285828, 0.8474045991897583, 0.6798986196517944, 0.12524448335170746, 0.008946034125983715, 0.1878667175769806, 0.20889674127101898, 0.45957282185554504, 0.3342347741127014, 0.9866361021995544, 0.18409639596939087, 0.8284338116645813, 0.9134766459465027, 0.9003795385360718, 0.0264817513525486, 0.03972262889146805, 0.0264817513525486, 0.8703860640525818, 0.11352862417697906, 0.018921436741948128, 0.16077497601509094, 0.8574665188789368, 0.4144119322299957, 0.5525492429733276, 0.7445011734962463, 0.24196287989616394, 0.8623011708259583, 0.039195507764816284, 0.09145618230104446, 0.01306516956537962, 0.9272686243057251, 0.8963038325309753, 0.9859738945960999, 0.972741425037384, 0.8808059692382812, 0.08935713022947311, 0.025530608370900154, 0.9508633017539978, 0.7404648661613464, 0.2115613967180252, 0.5168094038963318, 0.46512845158576965, 0.9338173866271973, 0.689789891242981, 0.22992996871471405, 0.012773887254297733, 0.07664332538843155, 0.04120013117790222, 0.2060006558895111, 0.74160236120224, 0.9357240200042725, 0.48526301980018616, 0.48526301980018616, 0.896288275718689], \"Term\": [\"actually\", \"affordable\", \"afterwards\", \"ahead\", \"almost\", \"also\", \"also\", \"always\", \"always\", \"amazing\", \"amazing\", \"appetizer\", \"appetizer\", \"appetizer\", \"array\", \"atmosphere\", \"authentic\", \"back\", \"back\", \"balmy\", \"belly\", \"belly\", \"big\", \"bit\", \"book\", \"bread\", \"bread\", \"bring\", \"busy\", \"chap\", \"chef\", \"chef\", \"chicken\", \"choice\", \"coffee\", \"coffee\", \"cold\", \"cold\", \"come\", \"come\", \"come\", \"complete\", \"compliment\", \"consistently\", \"cuisine\", \"dancer\", \"definitely\", \"delicacy\", \"delicious\", \"delicious\", \"delicious\", \"descent\", \"dessert\", \"dessert\", \"dip\", \"dip\", \"dip\", \"dish\", \"dish\", \"drinking\", \"eat\", \"eat\", \"eat\", \"enable\", \"enjoy\", \"enjoy\", \"environment\", \"especially\", \"especially\", \"evening\", \"evening\", \"ever\", \"evocative\", \"excited\", \"excited\", \"expect\", \"face\", \"falafel\", \"feast\", \"feast\", \"find\", \"find\", \"flatbread\", \"forget\", \"fountain\", \"free\", \"fresh\", \"fresh\", \"fresh\", \"friend\", \"friendly\", \"friendly\", \"friendly\", \"front\", \"full\", \"full\", \"garden\", \"gem\", \"genuine\", \"genuine\", \"get\", \"get\", \"get\", \"get\", \"go\", \"go\", \"go\", \"go\", \"great\", \"greek\", \"hard\", \"helpful\", \"high\", \"high\", \"highly_recommende\", \"hot\", \"hot\", \"however\", \"however\", \"include\", \"include\", \"ingredient\", \"instead\", \"item\", \"kebab\", \"know\", \"know\", \"large\", \"large\", \"lately\", \"least\", \"levant\", \"like\", \"like\", \"little\", \"little\", \"live\", \"lot\", \"love\", \"love\", \"mahalepi\", \"main\", \"main\", \"make\", \"make\", \"make\", \"many\", \"many\", \"meal\", \"meal\", \"meal\", \"meal\", \"meat\", \"meat\", \"menu\", \"menu\", \"meze\", \"middle_eastern\", \"moderate\", \"mouhamarra\", \"nargile\", \"never\", \"night\", \"non\", \"old\", \"old\", \"order\", \"order\", \"order\", \"order\", \"oriental\", \"outdoor\", \"outdoor\", \"overall\", \"particularly\", \"past\", \"pay\", \"people\", \"people\", \"piece\", \"pistachio\", \"pitta\", \"place\", \"place\", \"place\", \"plate\", \"plenty\", \"polite\", \"pork\", \"price\", \"price\", \"quality\", \"quality\", \"quality\", \"quite\", \"read\", \"really\", \"really\", \"really\", \"recipe\", \"recommend\", \"recommend\", \"regularly\", \"relaxed\", \"reservation\", \"respective\", \"review\", \"right\", \"salad\", \"salad\", \"salad\", \"see\", \"seem\", \"serve\", \"serve\", \"serve\", \"service\", \"service\", \"share\", \"shish\", \"simple\", \"slightly\", \"small\", \"smile\", \"smoke\", \"smoking\", \"spread\", \"staff\", \"staff\", \"staff\", \"star\", \"still\", \"still\", \"stop\", \"student\", \"summer\", \"sure\", \"surrounding\", \"syrian\", \"syrian\", \"syrian\", \"syrian\", \"table\", \"table\", \"table\", \"tabouli\", \"take\", \"take\", \"taouk\", \"tasty\", \"tasty\", \"tasty\", \"tasty\", \"time\", \"time\", \"time\", \"top\", \"top\", \"town\", \"town\", \"traditional\", \"traditional\", \"try\", \"try\", \"try\", \"try\", \"typical\", \"university\", \"variety\", \"vegetarian\", \"visit\", \"visit\", \"visit\", \"waiter\", \"walk\", \"walk\", \"want\", \"want\", \"welcome\", \"well\", \"well\", \"well\", \"well\", \"whole\", \"whole\", \"whole\", \"wonderful\", \"worth\", \"worth\", \"woth\"]}, \"R\": 30, \"lambda.step\": 0.01, \"plot.opts\": {\"xlab\": \"PC1\", \"ylab\": \"PC2\"}, \"topic.order\": [3, 4, 1, 2]};\n",
       "\n",
       "function LDAvis_load_lib(url, callback){\n",
       "  var s = document.createElement('script');\n",
       "  s.src = url;\n",
       "  s.async = true;\n",
       "  s.onreadystatechange = s.onload = callback;\n",
       "  s.onerror = function(){console.warn(\"failed to load library \" + url);};\n",
       "  document.getElementsByTagName(\"head\")[0].appendChild(s);\n",
       "}\n",
       "\n",
       "if(typeof(LDAvis) !== \"undefined\"){\n",
       "   // already loaded: just create the visualization\n",
       "   !function(LDAvis){\n",
       "       new LDAvis(\"#\" + \"ldavis_el456814795585873366542126336\", ldavis_el456814795585873366542126336_data);\n",
       "   }(LDAvis);\n",
       "}else if(typeof define === \"function\" && define.amd){\n",
       "   // require.js is available: use it to load d3/LDAvis\n",
       "   require.config({paths: {d3: \"https://cdnjs.cloudflare.com/ajax/libs/d3/3.5.5/d3.min\"}});\n",
       "   require([\"d3\"], function(d3){\n",
       "      window.d3 = d3;\n",
       "      LDAvis_load_lib(\"https://cdn.rawgit.com/bmabey/pyLDAvis/files/ldavis.v1.0.0.js\", function(){\n",
       "        new LDAvis(\"#\" + \"ldavis_el456814795585873366542126336\", ldavis_el456814795585873366542126336_data);\n",
       "      });\n",
       "    });\n",
       "}else{\n",
       "    // require.js not available: dynamically load d3 & LDAvis\n",
       "    LDAvis_load_lib(\"https://cdnjs.cloudflare.com/ajax/libs/d3/3.5.5/d3.min.js\", function(){\n",
       "         LDAvis_load_lib(\"https://cdn.rawgit.com/bmabey/pyLDAvis/files/ldavis.v1.0.0.js\", function(){\n",
       "                 new LDAvis(\"#\" + \"ldavis_el456814795585873366542126336\", ldavis_el456814795585873366542126336_data);\n",
       "            })\n",
       "         });\n",
       "}\n",
       "</script>"
      ],
      "text/plain": [
       "PreparedData(topic_coordinates=              x         y  topics  cluster       Freq\n",
       "topic                                                \n",
       "2     -0.184347 -0.118605       1        1  49.028267\n",
       "3     -0.110509  0.163874       2        1  28.070202\n",
       "0      0.130674 -0.176607       3        1  14.010506\n",
       "1      0.164182  0.131337       4        1   8.891022, topic_info=           Term        Freq       Total Category  logprob  loglift\n",
       "999      syrian  111.000000  111.000000  Default  30.0000  30.0000\n",
       "69        order   55.000000   55.000000  Default  29.0000  29.0000\n",
       "3       service  125.000000  125.000000  Default  28.0000  28.0000\n",
       "1004        dip   72.000000   72.000000  Default  27.0000  27.0000\n",
       "154        meat   49.000000   49.000000  Default  26.0000  26.0000\n",
       "...         ...         ...         ...      ...      ...      ...\n",
       "1013  appetizer    6.408566   19.870865   Topic4  -4.8218   1.2885\n",
       "29          eat    7.352757   41.744770   Topic4  -4.6843   0.6836\n",
       "1170      feast    5.585367   17.930523   Topic4  -4.9592   1.2538\n",
       "104      really    6.606339   44.451500   Topic4  -4.7914   0.5138\n",
       "418     dessert    6.179358   35.923790   Topic4  -4.8582   0.6599\n",
       "\n",
       "[229 rows x 6 columns], token_table=      Topic      Freq        Term\n",
       "term                             \n",
       "286       3  0.920620    actually\n",
       "1104      4  0.848908  affordable\n",
       "456       3  0.937457  afterwards\n",
       "524       2  0.929827       ahead\n",
       "330       4  0.853475      almost\n",
       "...     ...       ...         ...\n",
       "315       3  0.741602       whole\n",
       "182       3  0.935724   wonderful\n",
       "281       2  0.485263       worth\n",
       "281       4  0.485263       worth\n",
       "1673      3  0.896288        woth\n",
       "\n",
       "[290 rows x 3 columns], R=30, lambda_step=0.01, plot_opts={'xlab': 'PC1', 'ylab': 'PC2'}, topic_order=[3, 4, 1, 2])"
      ]
     },
     "metadata": {},
     "output_type": "display_data"
    }
   ],
   "source": [
    "plot_model(lda_pos_custom, plot ='topic_model')"
   ]
  },
  {
   "cell_type": "markdown",
   "metadata": {},
   "source": [
    "## Tuning the model using Coherence Value"
   ]
  },
  {
   "cell_type": "code",
   "execution_count": 16,
   "metadata": {},
   "outputs": [
    {
     "data": {
      "application/vnd.jupyter.widget-view+json": {
       "model_id": "",
       "version_major": 2,
       "version_minor": 0
      },
      "text/plain": [
       "IntProgress(value=0, description='Processing: ', max=25)"
      ]
     },
     "metadata": {},
     "output_type": "display_data"
    },
    {
     "data": {
      "application/vnd.jupyter.widget-view+json": {
       "model_id": "f3d4d75fc56a41548e00dd28f5c55e9c",
       "version_major": 2,
       "version_minor": 0
      },
      "text/plain": [
       "Output()"
      ]
     },
     "metadata": {},
     "output_type": "display_data"
    },
    {
     "data": {
      "text/html": [
       "        <script type=\"text/javascript\">\n",
       "        window.PlotlyConfig = {MathJaxConfig: 'local'};\n",
       "        if (window.MathJax) {MathJax.Hub.Config({SVG: {font: \"STIX-Web\"}});}\n",
       "        if (typeof require !== 'undefined') {\n",
       "        require.undef(\"plotly\");\n",
       "        requirejs.config({\n",
       "            paths: {\n",
       "                'plotly': ['https://cdn.plot.ly/plotly-latest.min']\n",
       "            }\n",
       "        });\n",
       "        require(['plotly'], function(Plotly) {\n",
       "            window._Plotly = Plotly;\n",
       "        });\n",
       "        }\n",
       "        </script>\n",
       "        "
      ]
     },
     "metadata": {},
     "output_type": "display_data"
    },
    {
     "data": {
      "application/vnd.plotly.v1+json": {
       "config": {
        "plotlyServerURL": "https://plot.ly"
       },
       "data": [
        {
         "hovertemplate": "Metric=Coherence<br># Topics=%{x}<br>Score=%{y}<extra></extra>",
         "legendgroup": "Coherence",
         "line": {
          "color": "#636efa",
          "dash": "solid",
          "shape": "linear"
         },
         "mode": "lines",
         "name": "Coherence",
         "orientation": "v",
         "showlegend": true,
         "type": "scatter",
         "x": [
          2,
          4,
          8,
          16,
          32,
          64,
          100,
          200,
          300,
          400
         ],
         "xaxis": "x",
         "y": [
          0.28328001849112733,
          0.338172650328881,
          0.3269624675744485,
          0.35943373099565945,
          0.3462068985110639,
          0.47800208638797026,
          0.5398336629326823,
          0.571295093875273,
          0.588797079572907,
          0.566003032125764
         ],
         "yaxis": "y"
        }
       ],
       "layout": {
        "legend": {
         "title": {
          "text": "Metric"
         },
         "tracegroupgap": 0
        },
        "plot_bgcolor": "rgb(245,245,245)",
        "template": {
         "data": {
          "bar": [
           {
            "error_x": {
             "color": "#2a3f5f"
            },
            "error_y": {
             "color": "#2a3f5f"
            },
            "marker": {
             "line": {
              "color": "#E5ECF6",
              "width": 0.5
             }
            },
            "type": "bar"
           }
          ],
          "barpolar": [
           {
            "marker": {
             "line": {
              "color": "#E5ECF6",
              "width": 0.5
             }
            },
            "type": "barpolar"
           }
          ],
          "carpet": [
           {
            "aaxis": {
             "endlinecolor": "#2a3f5f",
             "gridcolor": "white",
             "linecolor": "white",
             "minorgridcolor": "white",
             "startlinecolor": "#2a3f5f"
            },
            "baxis": {
             "endlinecolor": "#2a3f5f",
             "gridcolor": "white",
             "linecolor": "white",
             "minorgridcolor": "white",
             "startlinecolor": "#2a3f5f"
            },
            "type": "carpet"
           }
          ],
          "choropleth": [
           {
            "colorbar": {
             "outlinewidth": 0,
             "ticks": ""
            },
            "type": "choropleth"
           }
          ],
          "contour": [
           {
            "colorbar": {
             "outlinewidth": 0,
             "ticks": ""
            },
            "colorscale": [
             [
              0,
              "#0d0887"
             ],
             [
              0.1111111111111111,
              "#46039f"
             ],
             [
              0.2222222222222222,
              "#7201a8"
             ],
             [
              0.3333333333333333,
              "#9c179e"
             ],
             [
              0.4444444444444444,
              "#bd3786"
             ],
             [
              0.5555555555555556,
              "#d8576b"
             ],
             [
              0.6666666666666666,
              "#ed7953"
             ],
             [
              0.7777777777777778,
              "#fb9f3a"
             ],
             [
              0.8888888888888888,
              "#fdca26"
             ],
             [
              1,
              "#f0f921"
             ]
            ],
            "type": "contour"
           }
          ],
          "contourcarpet": [
           {
            "colorbar": {
             "outlinewidth": 0,
             "ticks": ""
            },
            "type": "contourcarpet"
           }
          ],
          "heatmap": [
           {
            "colorbar": {
             "outlinewidth": 0,
             "ticks": ""
            },
            "colorscale": [
             [
              0,
              "#0d0887"
             ],
             [
              0.1111111111111111,
              "#46039f"
             ],
             [
              0.2222222222222222,
              "#7201a8"
             ],
             [
              0.3333333333333333,
              "#9c179e"
             ],
             [
              0.4444444444444444,
              "#bd3786"
             ],
             [
              0.5555555555555556,
              "#d8576b"
             ],
             [
              0.6666666666666666,
              "#ed7953"
             ],
             [
              0.7777777777777778,
              "#fb9f3a"
             ],
             [
              0.8888888888888888,
              "#fdca26"
             ],
             [
              1,
              "#f0f921"
             ]
            ],
            "type": "heatmap"
           }
          ],
          "heatmapgl": [
           {
            "colorbar": {
             "outlinewidth": 0,
             "ticks": ""
            },
            "colorscale": [
             [
              0,
              "#0d0887"
             ],
             [
              0.1111111111111111,
              "#46039f"
             ],
             [
              0.2222222222222222,
              "#7201a8"
             ],
             [
              0.3333333333333333,
              "#9c179e"
             ],
             [
              0.4444444444444444,
              "#bd3786"
             ],
             [
              0.5555555555555556,
              "#d8576b"
             ],
             [
              0.6666666666666666,
              "#ed7953"
             ],
             [
              0.7777777777777778,
              "#fb9f3a"
             ],
             [
              0.8888888888888888,
              "#fdca26"
             ],
             [
              1,
              "#f0f921"
             ]
            ],
            "type": "heatmapgl"
           }
          ],
          "histogram": [
           {
            "marker": {
             "colorbar": {
              "outlinewidth": 0,
              "ticks": ""
             }
            },
            "type": "histogram"
           }
          ],
          "histogram2d": [
           {
            "colorbar": {
             "outlinewidth": 0,
             "ticks": ""
            },
            "colorscale": [
             [
              0,
              "#0d0887"
             ],
             [
              0.1111111111111111,
              "#46039f"
             ],
             [
              0.2222222222222222,
              "#7201a8"
             ],
             [
              0.3333333333333333,
              "#9c179e"
             ],
             [
              0.4444444444444444,
              "#bd3786"
             ],
             [
              0.5555555555555556,
              "#d8576b"
             ],
             [
              0.6666666666666666,
              "#ed7953"
             ],
             [
              0.7777777777777778,
              "#fb9f3a"
             ],
             [
              0.8888888888888888,
              "#fdca26"
             ],
             [
              1,
              "#f0f921"
             ]
            ],
            "type": "histogram2d"
           }
          ],
          "histogram2dcontour": [
           {
            "colorbar": {
             "outlinewidth": 0,
             "ticks": ""
            },
            "colorscale": [
             [
              0,
              "#0d0887"
             ],
             [
              0.1111111111111111,
              "#46039f"
             ],
             [
              0.2222222222222222,
              "#7201a8"
             ],
             [
              0.3333333333333333,
              "#9c179e"
             ],
             [
              0.4444444444444444,
              "#bd3786"
             ],
             [
              0.5555555555555556,
              "#d8576b"
             ],
             [
              0.6666666666666666,
              "#ed7953"
             ],
             [
              0.7777777777777778,
              "#fb9f3a"
             ],
             [
              0.8888888888888888,
              "#fdca26"
             ],
             [
              1,
              "#f0f921"
             ]
            ],
            "type": "histogram2dcontour"
           }
          ],
          "mesh3d": [
           {
            "colorbar": {
             "outlinewidth": 0,
             "ticks": ""
            },
            "type": "mesh3d"
           }
          ],
          "parcoords": [
           {
            "line": {
             "colorbar": {
              "outlinewidth": 0,
              "ticks": ""
             }
            },
            "type": "parcoords"
           }
          ],
          "pie": [
           {
            "automargin": true,
            "type": "pie"
           }
          ],
          "scatter": [
           {
            "marker": {
             "colorbar": {
              "outlinewidth": 0,
              "ticks": ""
             }
            },
            "type": "scatter"
           }
          ],
          "scatter3d": [
           {
            "line": {
             "colorbar": {
              "outlinewidth": 0,
              "ticks": ""
             }
            },
            "marker": {
             "colorbar": {
              "outlinewidth": 0,
              "ticks": ""
             }
            },
            "type": "scatter3d"
           }
          ],
          "scattercarpet": [
           {
            "marker": {
             "colorbar": {
              "outlinewidth": 0,
              "ticks": ""
             }
            },
            "type": "scattercarpet"
           }
          ],
          "scattergeo": [
           {
            "marker": {
             "colorbar": {
              "outlinewidth": 0,
              "ticks": ""
             }
            },
            "type": "scattergeo"
           }
          ],
          "scattergl": [
           {
            "marker": {
             "colorbar": {
              "outlinewidth": 0,
              "ticks": ""
             }
            },
            "type": "scattergl"
           }
          ],
          "scattermapbox": [
           {
            "marker": {
             "colorbar": {
              "outlinewidth": 0,
              "ticks": ""
             }
            },
            "type": "scattermapbox"
           }
          ],
          "scatterpolar": [
           {
            "marker": {
             "colorbar": {
              "outlinewidth": 0,
              "ticks": ""
             }
            },
            "type": "scatterpolar"
           }
          ],
          "scatterpolargl": [
           {
            "marker": {
             "colorbar": {
              "outlinewidth": 0,
              "ticks": ""
             }
            },
            "type": "scatterpolargl"
           }
          ],
          "scatterternary": [
           {
            "marker": {
             "colorbar": {
              "outlinewidth": 0,
              "ticks": ""
             }
            },
            "type": "scatterternary"
           }
          ],
          "surface": [
           {
            "colorbar": {
             "outlinewidth": 0,
             "ticks": ""
            },
            "colorscale": [
             [
              0,
              "#0d0887"
             ],
             [
              0.1111111111111111,
              "#46039f"
             ],
             [
              0.2222222222222222,
              "#7201a8"
             ],
             [
              0.3333333333333333,
              "#9c179e"
             ],
             [
              0.4444444444444444,
              "#bd3786"
             ],
             [
              0.5555555555555556,
              "#d8576b"
             ],
             [
              0.6666666666666666,
              "#ed7953"
             ],
             [
              0.7777777777777778,
              "#fb9f3a"
             ],
             [
              0.8888888888888888,
              "#fdca26"
             ],
             [
              1,
              "#f0f921"
             ]
            ],
            "type": "surface"
           }
          ],
          "table": [
           {
            "cells": {
             "fill": {
              "color": "#EBF0F8"
             },
             "line": {
              "color": "white"
             }
            },
            "header": {
             "fill": {
              "color": "#C8D4E3"
             },
             "line": {
              "color": "white"
             }
            },
            "type": "table"
           }
          ]
         },
         "layout": {
          "annotationdefaults": {
           "arrowcolor": "#2a3f5f",
           "arrowhead": 0,
           "arrowwidth": 1
          },
          "coloraxis": {
           "colorbar": {
            "outlinewidth": 0,
            "ticks": ""
           }
          },
          "colorscale": {
           "diverging": [
            [
             0,
             "#8e0152"
            ],
            [
             0.1,
             "#c51b7d"
            ],
            [
             0.2,
             "#de77ae"
            ],
            [
             0.3,
             "#f1b6da"
            ],
            [
             0.4,
             "#fde0ef"
            ],
            [
             0.5,
             "#f7f7f7"
            ],
            [
             0.6,
             "#e6f5d0"
            ],
            [
             0.7,
             "#b8e186"
            ],
            [
             0.8,
             "#7fbc41"
            ],
            [
             0.9,
             "#4d9221"
            ],
            [
             1,
             "#276419"
            ]
           ],
           "sequential": [
            [
             0,
             "#0d0887"
            ],
            [
             0.1111111111111111,
             "#46039f"
            ],
            [
             0.2222222222222222,
             "#7201a8"
            ],
            [
             0.3333333333333333,
             "#9c179e"
            ],
            [
             0.4444444444444444,
             "#bd3786"
            ],
            [
             0.5555555555555556,
             "#d8576b"
            ],
            [
             0.6666666666666666,
             "#ed7953"
            ],
            [
             0.7777777777777778,
             "#fb9f3a"
            ],
            [
             0.8888888888888888,
             "#fdca26"
            ],
            [
             1,
             "#f0f921"
            ]
           ],
           "sequentialminus": [
            [
             0,
             "#0d0887"
            ],
            [
             0.1111111111111111,
             "#46039f"
            ],
            [
             0.2222222222222222,
             "#7201a8"
            ],
            [
             0.3333333333333333,
             "#9c179e"
            ],
            [
             0.4444444444444444,
             "#bd3786"
            ],
            [
             0.5555555555555556,
             "#d8576b"
            ],
            [
             0.6666666666666666,
             "#ed7953"
            ],
            [
             0.7777777777777778,
             "#fb9f3a"
            ],
            [
             0.8888888888888888,
             "#fdca26"
            ],
            [
             1,
             "#f0f921"
            ]
           ]
          },
          "colorway": [
           "#636efa",
           "#EF553B",
           "#00cc96",
           "#ab63fa",
           "#FFA15A",
           "#19d3f3",
           "#FF6692",
           "#B6E880",
           "#FF97FF",
           "#FECB52"
          ],
          "font": {
           "color": "#2a3f5f"
          },
          "geo": {
           "bgcolor": "white",
           "lakecolor": "white",
           "landcolor": "#E5ECF6",
           "showlakes": true,
           "showland": true,
           "subunitcolor": "white"
          },
          "hoverlabel": {
           "align": "left"
          },
          "hovermode": "closest",
          "mapbox": {
           "style": "light"
          },
          "paper_bgcolor": "white",
          "plot_bgcolor": "#E5ECF6",
          "polar": {
           "angularaxis": {
            "gridcolor": "white",
            "linecolor": "white",
            "ticks": ""
           },
           "bgcolor": "#E5ECF6",
           "radialaxis": {
            "gridcolor": "white",
            "linecolor": "white",
            "ticks": ""
           }
          },
          "scene": {
           "xaxis": {
            "backgroundcolor": "#E5ECF6",
            "gridcolor": "white",
            "gridwidth": 2,
            "linecolor": "white",
            "showbackground": true,
            "ticks": "",
            "zerolinecolor": "white"
           },
           "yaxis": {
            "backgroundcolor": "#E5ECF6",
            "gridcolor": "white",
            "gridwidth": 2,
            "linecolor": "white",
            "showbackground": true,
            "ticks": "",
            "zerolinecolor": "white"
           },
           "zaxis": {
            "backgroundcolor": "#E5ECF6",
            "gridcolor": "white",
            "gridwidth": 2,
            "linecolor": "white",
            "showbackground": true,
            "ticks": "",
            "zerolinecolor": "white"
           }
          },
          "shapedefaults": {
           "line": {
            "color": "#2a3f5f"
           }
          },
          "ternary": {
           "aaxis": {
            "gridcolor": "white",
            "linecolor": "white",
            "ticks": ""
           },
           "baxis": {
            "gridcolor": "white",
            "linecolor": "white",
            "ticks": ""
           },
           "bgcolor": "#E5ECF6",
           "caxis": {
            "gridcolor": "white",
            "linecolor": "white",
            "ticks": ""
           }
          },
          "title": {
           "x": 0.05
          },
          "xaxis": {
           "automargin": true,
           "gridcolor": "white",
           "linecolor": "white",
           "ticks": "",
           "title": {
            "standoff": 15
           },
           "zerolinecolor": "white",
           "zerolinewidth": 2
          },
          "yaxis": {
           "automargin": true,
           "gridcolor": "white",
           "linecolor": "white",
           "ticks": "",
           "title": {
            "standoff": 15
           },
           "zerolinecolor": "white",
           "zerolinewidth": 2
          }
         }
        },
        "title": {
         "text": "Coherence Value and # of Topics"
        },
        "xaxis": {
         "anchor": "y",
         "domain": [
          0,
          1
         ],
         "title": {
          "text": "# Topics"
         }
        },
        "yaxis": {
         "anchor": "x",
         "domain": [
          0,
          1
         ],
         "title": {
          "text": "Score"
         }
        }
       }
      },
      "text/html": [
       "<div>\n",
       "        \n",
       "        \n",
       "            <div id=\"b1fa71c3-7005-4a91-829a-9d5abbad1da2\" class=\"plotly-graph-div\" style=\"height:525px; width:100%;\"></div>\n",
       "            <script type=\"text/javascript\">\n",
       "                require([\"plotly\"], function(Plotly) {\n",
       "                    window.PLOTLYENV=window.PLOTLYENV || {};\n",
       "                    \n",
       "                if (document.getElementById(\"b1fa71c3-7005-4a91-829a-9d5abbad1da2\")) {\n",
       "                    Plotly.newPlot(\n",
       "                        'b1fa71c3-7005-4a91-829a-9d5abbad1da2',\n",
       "                        [{\"hovertemplate\": \"Metric=Coherence<br># Topics=%{x}<br>Score=%{y}<extra></extra>\", \"legendgroup\": \"Coherence\", \"line\": {\"color\": \"#636efa\", \"dash\": \"solid\", \"shape\": \"linear\"}, \"mode\": \"lines\", \"name\": \"Coherence\", \"orientation\": \"v\", \"showlegend\": true, \"type\": \"scatter\", \"x\": [2, 4, 8, 16, 32, 64, 100, 200, 300, 400], \"xaxis\": \"x\", \"y\": [0.28328001849112733, 0.338172650328881, 0.3269624675744485, 0.35943373099565945, 0.3462068985110639, 0.47800208638797026, 0.5398336629326823, 0.571295093875273, 0.588797079572907, 0.566003032125764], \"yaxis\": \"y\"}],\n",
       "                        {\"legend\": {\"title\": {\"text\": \"Metric\"}, \"tracegroupgap\": 0}, \"plot_bgcolor\": \"rgb(245,245,245)\", \"template\": {\"data\": {\"bar\": [{\"error_x\": {\"color\": \"#2a3f5f\"}, \"error_y\": {\"color\": \"#2a3f5f\"}, \"marker\": {\"line\": {\"color\": \"#E5ECF6\", \"width\": 0.5}}, \"type\": \"bar\"}], \"barpolar\": [{\"marker\": {\"line\": {\"color\": \"#E5ECF6\", \"width\": 0.5}}, \"type\": \"barpolar\"}], \"carpet\": [{\"aaxis\": {\"endlinecolor\": \"#2a3f5f\", \"gridcolor\": \"white\", \"linecolor\": \"white\", \"minorgridcolor\": \"white\", \"startlinecolor\": \"#2a3f5f\"}, \"baxis\": {\"endlinecolor\": \"#2a3f5f\", \"gridcolor\": \"white\", \"linecolor\": \"white\", \"minorgridcolor\": \"white\", \"startlinecolor\": \"#2a3f5f\"}, \"type\": \"carpet\"}], \"choropleth\": [{\"colorbar\": {\"outlinewidth\": 0, \"ticks\": \"\"}, \"type\": \"choropleth\"}], \"contour\": [{\"colorbar\": {\"outlinewidth\": 0, \"ticks\": \"\"}, \"colorscale\": [[0.0, \"#0d0887\"], [0.1111111111111111, \"#46039f\"], [0.2222222222222222, \"#7201a8\"], [0.3333333333333333, \"#9c179e\"], [0.4444444444444444, \"#bd3786\"], [0.5555555555555556, \"#d8576b\"], [0.6666666666666666, \"#ed7953\"], [0.7777777777777778, \"#fb9f3a\"], [0.8888888888888888, \"#fdca26\"], [1.0, \"#f0f921\"]], \"type\": \"contour\"}], \"contourcarpet\": [{\"colorbar\": {\"outlinewidth\": 0, \"ticks\": \"\"}, \"type\": \"contourcarpet\"}], \"heatmap\": [{\"colorbar\": {\"outlinewidth\": 0, \"ticks\": \"\"}, \"colorscale\": [[0.0, \"#0d0887\"], [0.1111111111111111, \"#46039f\"], [0.2222222222222222, \"#7201a8\"], [0.3333333333333333, \"#9c179e\"], [0.4444444444444444, \"#bd3786\"], [0.5555555555555556, \"#d8576b\"], [0.6666666666666666, \"#ed7953\"], [0.7777777777777778, \"#fb9f3a\"], [0.8888888888888888, \"#fdca26\"], [1.0, \"#f0f921\"]], \"type\": \"heatmap\"}], \"heatmapgl\": [{\"colorbar\": {\"outlinewidth\": 0, \"ticks\": \"\"}, \"colorscale\": [[0.0, \"#0d0887\"], [0.1111111111111111, \"#46039f\"], [0.2222222222222222, \"#7201a8\"], [0.3333333333333333, \"#9c179e\"], [0.4444444444444444, \"#bd3786\"], [0.5555555555555556, \"#d8576b\"], [0.6666666666666666, \"#ed7953\"], [0.7777777777777778, \"#fb9f3a\"], [0.8888888888888888, \"#fdca26\"], [1.0, \"#f0f921\"]], \"type\": \"heatmapgl\"}], \"histogram\": [{\"marker\": {\"colorbar\": {\"outlinewidth\": 0, \"ticks\": \"\"}}, \"type\": \"histogram\"}], \"histogram2d\": [{\"colorbar\": {\"outlinewidth\": 0, \"ticks\": \"\"}, \"colorscale\": [[0.0, \"#0d0887\"], [0.1111111111111111, \"#46039f\"], [0.2222222222222222, \"#7201a8\"], [0.3333333333333333, \"#9c179e\"], [0.4444444444444444, \"#bd3786\"], [0.5555555555555556, \"#d8576b\"], [0.6666666666666666, \"#ed7953\"], [0.7777777777777778, \"#fb9f3a\"], [0.8888888888888888, \"#fdca26\"], [1.0, \"#f0f921\"]], \"type\": \"histogram2d\"}], \"histogram2dcontour\": [{\"colorbar\": {\"outlinewidth\": 0, \"ticks\": \"\"}, \"colorscale\": [[0.0, \"#0d0887\"], [0.1111111111111111, \"#46039f\"], [0.2222222222222222, \"#7201a8\"], [0.3333333333333333, \"#9c179e\"], [0.4444444444444444, \"#bd3786\"], [0.5555555555555556, \"#d8576b\"], [0.6666666666666666, \"#ed7953\"], [0.7777777777777778, \"#fb9f3a\"], [0.8888888888888888, \"#fdca26\"], [1.0, \"#f0f921\"]], \"type\": \"histogram2dcontour\"}], \"mesh3d\": [{\"colorbar\": {\"outlinewidth\": 0, \"ticks\": \"\"}, \"type\": \"mesh3d\"}], \"parcoords\": [{\"line\": {\"colorbar\": {\"outlinewidth\": 0, \"ticks\": \"\"}}, \"type\": \"parcoords\"}], \"pie\": [{\"automargin\": true, \"type\": \"pie\"}], \"scatter\": [{\"marker\": {\"colorbar\": {\"outlinewidth\": 0, \"ticks\": \"\"}}, \"type\": \"scatter\"}], \"scatter3d\": [{\"line\": {\"colorbar\": {\"outlinewidth\": 0, \"ticks\": \"\"}}, \"marker\": {\"colorbar\": {\"outlinewidth\": 0, \"ticks\": \"\"}}, \"type\": \"scatter3d\"}], \"scattercarpet\": [{\"marker\": {\"colorbar\": {\"outlinewidth\": 0, \"ticks\": \"\"}}, \"type\": \"scattercarpet\"}], \"scattergeo\": [{\"marker\": {\"colorbar\": {\"outlinewidth\": 0, \"ticks\": \"\"}}, \"type\": \"scattergeo\"}], \"scattergl\": [{\"marker\": {\"colorbar\": {\"outlinewidth\": 0, \"ticks\": \"\"}}, \"type\": \"scattergl\"}], \"scattermapbox\": [{\"marker\": {\"colorbar\": {\"outlinewidth\": 0, \"ticks\": \"\"}}, \"type\": \"scattermapbox\"}], \"scatterpolar\": [{\"marker\": {\"colorbar\": {\"outlinewidth\": 0, \"ticks\": \"\"}}, \"type\": \"scatterpolar\"}], \"scatterpolargl\": [{\"marker\": {\"colorbar\": {\"outlinewidth\": 0, \"ticks\": \"\"}}, \"type\": \"scatterpolargl\"}], \"scatterternary\": [{\"marker\": {\"colorbar\": {\"outlinewidth\": 0, \"ticks\": \"\"}}, \"type\": \"scatterternary\"}], \"surface\": [{\"colorbar\": {\"outlinewidth\": 0, \"ticks\": \"\"}, \"colorscale\": [[0.0, \"#0d0887\"], [0.1111111111111111, \"#46039f\"], [0.2222222222222222, \"#7201a8\"], [0.3333333333333333, \"#9c179e\"], [0.4444444444444444, \"#bd3786\"], [0.5555555555555556, \"#d8576b\"], [0.6666666666666666, \"#ed7953\"], [0.7777777777777778, \"#fb9f3a\"], [0.8888888888888888, \"#fdca26\"], [1.0, \"#f0f921\"]], \"type\": \"surface\"}], \"table\": [{\"cells\": {\"fill\": {\"color\": \"#EBF0F8\"}, \"line\": {\"color\": \"white\"}}, \"header\": {\"fill\": {\"color\": \"#C8D4E3\"}, \"line\": {\"color\": \"white\"}}, \"type\": \"table\"}]}, \"layout\": {\"annotationdefaults\": {\"arrowcolor\": \"#2a3f5f\", \"arrowhead\": 0, \"arrowwidth\": 1}, \"coloraxis\": {\"colorbar\": {\"outlinewidth\": 0, \"ticks\": \"\"}}, \"colorscale\": {\"diverging\": [[0, \"#8e0152\"], [0.1, \"#c51b7d\"], [0.2, \"#de77ae\"], [0.3, \"#f1b6da\"], [0.4, \"#fde0ef\"], [0.5, \"#f7f7f7\"], [0.6, \"#e6f5d0\"], [0.7, \"#b8e186\"], [0.8, \"#7fbc41\"], [0.9, \"#4d9221\"], [1, \"#276419\"]], \"sequential\": [[0.0, \"#0d0887\"], [0.1111111111111111, \"#46039f\"], [0.2222222222222222, \"#7201a8\"], [0.3333333333333333, \"#9c179e\"], [0.4444444444444444, \"#bd3786\"], [0.5555555555555556, \"#d8576b\"], [0.6666666666666666, \"#ed7953\"], [0.7777777777777778, \"#fb9f3a\"], [0.8888888888888888, \"#fdca26\"], [1.0, \"#f0f921\"]], \"sequentialminus\": [[0.0, \"#0d0887\"], [0.1111111111111111, \"#46039f\"], [0.2222222222222222, \"#7201a8\"], [0.3333333333333333, \"#9c179e\"], [0.4444444444444444, \"#bd3786\"], [0.5555555555555556, \"#d8576b\"], [0.6666666666666666, \"#ed7953\"], [0.7777777777777778, \"#fb9f3a\"], [0.8888888888888888, \"#fdca26\"], [1.0, \"#f0f921\"]]}, \"colorway\": [\"#636efa\", \"#EF553B\", \"#00cc96\", \"#ab63fa\", \"#FFA15A\", \"#19d3f3\", \"#FF6692\", \"#B6E880\", \"#FF97FF\", \"#FECB52\"], \"font\": {\"color\": \"#2a3f5f\"}, \"geo\": {\"bgcolor\": \"white\", \"lakecolor\": \"white\", \"landcolor\": \"#E5ECF6\", \"showlakes\": true, \"showland\": true, \"subunitcolor\": \"white\"}, \"hoverlabel\": {\"align\": \"left\"}, \"hovermode\": \"closest\", \"mapbox\": {\"style\": \"light\"}, \"paper_bgcolor\": \"white\", \"plot_bgcolor\": \"#E5ECF6\", \"polar\": {\"angularaxis\": {\"gridcolor\": \"white\", \"linecolor\": \"white\", \"ticks\": \"\"}, \"bgcolor\": \"#E5ECF6\", \"radialaxis\": {\"gridcolor\": \"white\", \"linecolor\": \"white\", \"ticks\": \"\"}}, \"scene\": {\"xaxis\": {\"backgroundcolor\": \"#E5ECF6\", \"gridcolor\": \"white\", \"gridwidth\": 2, \"linecolor\": \"white\", \"showbackground\": true, \"ticks\": \"\", \"zerolinecolor\": \"white\"}, \"yaxis\": {\"backgroundcolor\": \"#E5ECF6\", \"gridcolor\": \"white\", \"gridwidth\": 2, \"linecolor\": \"white\", \"showbackground\": true, \"ticks\": \"\", \"zerolinecolor\": \"white\"}, \"zaxis\": {\"backgroundcolor\": \"#E5ECF6\", \"gridcolor\": \"white\", \"gridwidth\": 2, \"linecolor\": \"white\", \"showbackground\": true, \"ticks\": \"\", \"zerolinecolor\": \"white\"}}, \"shapedefaults\": {\"line\": {\"color\": \"#2a3f5f\"}}, \"ternary\": {\"aaxis\": {\"gridcolor\": \"white\", \"linecolor\": \"white\", \"ticks\": \"\"}, \"baxis\": {\"gridcolor\": \"white\", \"linecolor\": \"white\", \"ticks\": \"\"}, \"bgcolor\": \"#E5ECF6\", \"caxis\": {\"gridcolor\": \"white\", \"linecolor\": \"white\", \"ticks\": \"\"}}, \"title\": {\"x\": 0.05}, \"xaxis\": {\"automargin\": true, \"gridcolor\": \"white\", \"linecolor\": \"white\", \"ticks\": \"\", \"title\": {\"standoff\": 15}, \"zerolinecolor\": \"white\", \"zerolinewidth\": 2}, \"yaxis\": {\"automargin\": true, \"gridcolor\": \"white\", \"linecolor\": \"white\", \"ticks\": \"\", \"title\": {\"standoff\": 15}, \"zerolinecolor\": \"white\", \"zerolinewidth\": 2}}}, \"title\": {\"text\": \"Coherence Value and # of Topics\"}, \"xaxis\": {\"anchor\": \"y\", \"domain\": [0.0, 1.0], \"title\": {\"text\": \"# Topics\"}}, \"yaxis\": {\"anchor\": \"x\", \"domain\": [0.0, 1.0], \"title\": {\"text\": \"Score\"}}},\n",
       "                        {\"responsive\": true}\n",
       "                    ).then(function(){\n",
       "                            \n",
       "var gd = document.getElementById('b1fa71c3-7005-4a91-829a-9d5abbad1da2');\n",
       "var x = new MutationObserver(function (mutations, observer) {{\n",
       "        var display = window.getComputedStyle(gd).display;\n",
       "        if (!display || display === 'none') {{\n",
       "            console.log([gd, 'removed!']);\n",
       "            Plotly.purge(gd);\n",
       "            observer.disconnect();\n",
       "        }}\n",
       "}});\n",
       "\n",
       "// Listen for the removal of the full notebook cells\n",
       "var notebookContainer = gd.closest('#notebook-container');\n",
       "if (notebookContainer) {{\n",
       "    x.observe(notebookContainer, {childList: true});\n",
       "}}\n",
       "\n",
       "// Listen for the clearing of the current output cell\n",
       "var outputEl = gd.closest('.output');\n",
       "if (outputEl) {{\n",
       "    x.observe(outputEl, {childList: true});\n",
       "}}\n",
       "\n",
       "                        })\n",
       "                };\n",
       "                });\n",
       "            </script>\n",
       "        </div>"
      ]
     },
     "metadata": {},
     "output_type": "display_data"
    },
    {
     "name": "stdout",
     "output_type": "stream",
     "text": [
      "Best Model: Latent Dirichlet Allocation | # Topics: 300 | Coherence: 0.5888\n"
     ]
    }
   ],
   "source": [
    "tune_lda_positive = tune_model(model='lda', supervised_target=None, estimator='xgboost')"
   ]
  },
  {
   "cell_type": "markdown",
   "metadata": {},
   "source": [
    "16 topics is chosen"
   ]
  },
  {
   "cell_type": "markdown",
   "metadata": {},
   "source": [
    "# Negative reviews"
   ]
  },
  {
   "cell_type": "code",
   "execution_count": 21,
   "metadata": {},
   "outputs": [
    {
     "data": {
      "text/html": [
       "<div>\n",
       "<style scoped>\n",
       "    .dataframe tbody tr th:only-of-type {\n",
       "        vertical-align: middle;\n",
       "    }\n",
       "\n",
       "    .dataframe tbody tr th {\n",
       "        vertical-align: top;\n",
       "    }\n",
       "\n",
       "    .dataframe thead th {\n",
       "        text-align: right;\n",
       "    }\n",
       "</style>\n",
       "<table border=\"1\" class=\"dataframe\">\n",
       "  <thead>\n",
       "    <tr style=\"text-align: right;\">\n",
       "      <th></th>\n",
       "      <th>Unnamed: 0</th>\n",
       "      <th>r_points</th>\n",
       "      <th>r_text</th>\n",
       "      <th>place</th>\n",
       "      <th>Unnamed: 3</th>\n",
       "      <th>Unnamed: 4</th>\n",
       "      <th>scores</th>\n",
       "      <th>compound</th>\n",
       "      <th>score</th>\n",
       "    </tr>\n",
       "  </thead>\n",
       "  <tbody>\n",
       "    <tr>\n",
       "      <th>0</th>\n",
       "      <td>28</td>\n",
       "      <td>10</td>\n",
       "      <td>I am really sorry, but I will not visit the Re...</td>\n",
       "      <td>Pantopoleio Kali Orexi</td>\n",
       "      <td>NaN</td>\n",
       "      <td>NaN</td>\n",
       "      <td>{'neg': 0.236, 'neu': 0.72, 'pos': 0.044, 'com...</td>\n",
       "      <td>-0.8782</td>\n",
       "      <td>neg</td>\n",
       "    </tr>\n",
       "    <tr>\n",
       "      <th>1</th>\n",
       "      <td>29</td>\n",
       "      <td>20</td>\n",
       "      <td>The rocket salad consisted of limp green leave...</td>\n",
       "      <td>Pantopoleio Kali Orexi</td>\n",
       "      <td>NaN</td>\n",
       "      <td>NaN</td>\n",
       "      <td>{'neg': 0.188, 'neu': 0.766, 'pos': 0.046, 'co...</td>\n",
       "      <td>-0.9359</td>\n",
       "      <td>neg</td>\n",
       "    </tr>\n",
       "    <tr>\n",
       "      <th>2</th>\n",
       "      <td>30</td>\n",
       "      <td>20</td>\n",
       "      <td>The food was good however it took too long,it ...</td>\n",
       "      <td>Pantopoleio Kali Orexi</td>\n",
       "      <td>NaN</td>\n",
       "      <td>NaN</td>\n",
       "      <td>{'neg': 0.1, 'neu': 0.803, 'pos': 0.097, 'comp...</td>\n",
       "      <td>-0.0258</td>\n",
       "      <td>neg</td>\n",
       "    </tr>\n",
       "    <tr>\n",
       "      <th>3</th>\n",
       "      <td>74</td>\n",
       "      <td>50</td>\n",
       "      <td>I am a very choosy person but the food of this...</td>\n",
       "      <td>Pantopoleio Kali Orexi</td>\n",
       "      <td>NaN</td>\n",
       "      <td>NaN</td>\n",
       "      <td>{'neg': 0.116, 'neu': 0.842, 'pos': 0.042, 'co...</td>\n",
       "      <td>-0.4933</td>\n",
       "      <td>neg</td>\n",
       "    </tr>\n",
       "    <tr>\n",
       "      <th>4</th>\n",
       "      <td>108</td>\n",
       "      <td>20</td>\n",
       "      <td>Everything was awful except the service. High ...</td>\n",
       "      <td>Pantopoleio Kali Orexi</td>\n",
       "      <td>NaN</td>\n",
       "      <td>NaN</td>\n",
       "      <td>{'neg': 0.2, 'neu': 0.8, 'pos': 0.0, 'compound...</td>\n",
       "      <td>-0.6437</td>\n",
       "      <td>neg</td>\n",
       "    </tr>\n",
       "    <tr>\n",
       "      <th>5</th>\n",
       "      <td>33</td>\n",
       "      <td>50</td>\n",
       "      <td>Quality and great service at rediculously low ...</td>\n",
       "      <td>Syrian Arab Friendship Club</td>\n",
       "      <td>Review 217 Similarity</td>\n",
       "      <td>0.481125</td>\n",
       "      <td>{'neg': 0.29, 'neu': 0.54, 'pos': 0.17, 'compo...</td>\n",
       "      <td>-0.2225</td>\n",
       "      <td>neg</td>\n",
       "    </tr>\n",
       "    <tr>\n",
       "      <th>6</th>\n",
       "      <td>45</td>\n",
       "      <td>20</td>\n",
       "      <td>I’ve been there with a big group of friends an...</td>\n",
       "      <td>Syrian Arab Friendship Club</td>\n",
       "      <td>Review 58 Similarity</td>\n",
       "      <td>0.472456</td>\n",
       "      <td>{'neg': 0.09, 'neu': 0.827, 'pos': 0.083, 'com...</td>\n",
       "      <td>-0.3564</td>\n",
       "      <td>neg</td>\n",
       "    </tr>\n",
       "    <tr>\n",
       "      <th>7</th>\n",
       "      <td>87</td>\n",
       "      <td>20</td>\n",
       "      <td>After visited other Syrian places we found its...</td>\n",
       "      <td>Syrian Arab Friendship Club</td>\n",
       "      <td>Review 141 Similarity</td>\n",
       "      <td>0.412479</td>\n",
       "      <td>{'neg': 0.114, 'neu': 0.824, 'pos': 0.062, 'co...</td>\n",
       "      <td>-0.6284</td>\n",
       "      <td>neg</td>\n",
       "    </tr>\n",
       "    <tr>\n",
       "      <th>8</th>\n",
       "      <td>90</td>\n",
       "      <td>40</td>\n",
       "      <td>I went recently to the Syrian Friendship Club ...</td>\n",
       "      <td>Syrian Arab Friendship Club</td>\n",
       "      <td>Review 16 Similarity</td>\n",
       "      <td>0.408248</td>\n",
       "      <td>{'neg': 0.124, 'neu': 0.789, 'pos': 0.087, 'co...</td>\n",
       "      <td>-0.3910</td>\n",
       "      <td>neg</td>\n",
       "    </tr>\n",
       "    <tr>\n",
       "      <th>9</th>\n",
       "      <td>109</td>\n",
       "      <td>10</td>\n",
       "      <td>Avoid this place . We were the first ones in t...</td>\n",
       "      <td>Syrian Arab Friendship Club</td>\n",
       "      <td>Review 244 Similarity</td>\n",
       "      <td>0.384900</td>\n",
       "      <td>{'neg': 0.127, 'neu': 0.789, 'pos': 0.084, 'co...</td>\n",
       "      <td>-0.7506</td>\n",
       "      <td>neg</td>\n",
       "    </tr>\n",
       "    <tr>\n",
       "      <th>10</th>\n",
       "      <td>145</td>\n",
       "      <td>10</td>\n",
       "      <td>I was shocked how dirty this place isthere was...</td>\n",
       "      <td>Syrian Arab Friendship Club</td>\n",
       "      <td>Review 514 Similarity</td>\n",
       "      <td>0.353553</td>\n",
       "      <td>{'neg': 0.205, 'neu': 0.795, 'pos': 0.0, 'comp...</td>\n",
       "      <td>-0.8074</td>\n",
       "      <td>neg</td>\n",
       "    </tr>\n",
       "    <tr>\n",
       "      <th>11</th>\n",
       "      <td>177</td>\n",
       "      <td>10</td>\n",
       "      <td>This used to be one of my favourite eateries; ...</td>\n",
       "      <td>Syrian Arab Friendship Club</td>\n",
       "      <td>Review 337 Similarity</td>\n",
       "      <td>0.298142</td>\n",
       "      <td>{'neg': 0.109, 'neu': 0.891, 'pos': 0.0, 'comp...</td>\n",
       "      <td>-0.8163</td>\n",
       "      <td>neg</td>\n",
       "    </tr>\n",
       "    <tr>\n",
       "      <th>12</th>\n",
       "      <td>188</td>\n",
       "      <td>50</td>\n",
       "      <td>Really fresh dips and salads and nice meat, sp...</td>\n",
       "      <td>Syrian Arab Friendship Club</td>\n",
       "      <td>Review 453 Similarity</td>\n",
       "      <td>0.288675</td>\n",
       "      <td>{'neg': 0.104, 'neu': 0.772, 'pos': 0.124, 'co...</td>\n",
       "      <td>-0.1059</td>\n",
       "      <td>neg</td>\n",
       "    </tr>\n",
       "    <tr>\n",
       "      <th>13</th>\n",
       "      <td>200</td>\n",
       "      <td>30</td>\n",
       "      <td>Not super not even very good. Just fine. The p...</td>\n",
       "      <td>Syrian Arab Friendship Club</td>\n",
       "      <td>Review 260 Similarity</td>\n",
       "      <td>0.235702</td>\n",
       "      <td>{'neg': 0.2, 'neu': 0.728, 'pos': 0.072, 'comp...</td>\n",
       "      <td>-0.5726</td>\n",
       "      <td>neg</td>\n",
       "    </tr>\n",
       "    <tr>\n",
       "      <th>14</th>\n",
       "      <td>263</td>\n",
       "      <td>20</td>\n",
       "      <td>As a vegetarian there was nothing except the f...</td>\n",
       "      <td>Syrian Arab Friendship Club</td>\n",
       "      <td>Review 235 Similarity</td>\n",
       "      <td>0.000000</td>\n",
       "      <td>{'neg': 0.282, 'neu': 0.718, 'pos': 0.0, 'comp...</td>\n",
       "      <td>-0.8625</td>\n",
       "      <td>neg</td>\n",
       "    </tr>\n",
       "  </tbody>\n",
       "</table>\n",
       "</div>"
      ],
      "text/plain": [
       "    Unnamed: 0  r_points                                             r_text  \\\n",
       "0           28        10  I am really sorry, but I will not visit the Re...   \n",
       "1           29        20  The rocket salad consisted of limp green leave...   \n",
       "2           30        20  The food was good however it took too long,it ...   \n",
       "3           74        50  I am a very choosy person but the food of this...   \n",
       "4          108        20  Everything was awful except the service. High ...   \n",
       "5           33        50  Quality and great service at rediculously low ...   \n",
       "6           45        20  I’ve been there with a big group of friends an...   \n",
       "7           87        20  After visited other Syrian places we found its...   \n",
       "8           90        40  I went recently to the Syrian Friendship Club ...   \n",
       "9          109        10  Avoid this place . We were the first ones in t...   \n",
       "10         145        10  I was shocked how dirty this place isthere was...   \n",
       "11         177        10  This used to be one of my favourite eateries; ...   \n",
       "12         188        50  Really fresh dips and salads and nice meat, sp...   \n",
       "13         200        30  Not super not even very good. Just fine. The p...   \n",
       "14         263        20  As a vegetarian there was nothing except the f...   \n",
       "\n",
       "                          place             Unnamed: 3  Unnamed: 4  \\\n",
       "0        Pantopoleio Kali Orexi                    NaN         NaN   \n",
       "1        Pantopoleio Kali Orexi                    NaN         NaN   \n",
       "2        Pantopoleio Kali Orexi                    NaN         NaN   \n",
       "3        Pantopoleio Kali Orexi                    NaN         NaN   \n",
       "4        Pantopoleio Kali Orexi                    NaN         NaN   \n",
       "5   Syrian Arab Friendship Club  Review 217 Similarity    0.481125   \n",
       "6   Syrian Arab Friendship Club   Review 58 Similarity    0.472456   \n",
       "7   Syrian Arab Friendship Club  Review 141 Similarity    0.412479   \n",
       "8   Syrian Arab Friendship Club   Review 16 Similarity    0.408248   \n",
       "9   Syrian Arab Friendship Club  Review 244 Similarity    0.384900   \n",
       "10  Syrian Arab Friendship Club  Review 514 Similarity    0.353553   \n",
       "11  Syrian Arab Friendship Club  Review 337 Similarity    0.298142   \n",
       "12  Syrian Arab Friendship Club  Review 453 Similarity    0.288675   \n",
       "13  Syrian Arab Friendship Club  Review 260 Similarity    0.235702   \n",
       "14  Syrian Arab Friendship Club  Review 235 Similarity    0.000000   \n",
       "\n",
       "                                               scores  compound score  \n",
       "0   {'neg': 0.236, 'neu': 0.72, 'pos': 0.044, 'com...   -0.8782   neg  \n",
       "1   {'neg': 0.188, 'neu': 0.766, 'pos': 0.046, 'co...   -0.9359   neg  \n",
       "2   {'neg': 0.1, 'neu': 0.803, 'pos': 0.097, 'comp...   -0.0258   neg  \n",
       "3   {'neg': 0.116, 'neu': 0.842, 'pos': 0.042, 'co...   -0.4933   neg  \n",
       "4   {'neg': 0.2, 'neu': 0.8, 'pos': 0.0, 'compound...   -0.6437   neg  \n",
       "5   {'neg': 0.29, 'neu': 0.54, 'pos': 0.17, 'compo...   -0.2225   neg  \n",
       "6   {'neg': 0.09, 'neu': 0.827, 'pos': 0.083, 'com...   -0.3564   neg  \n",
       "7   {'neg': 0.114, 'neu': 0.824, 'pos': 0.062, 'co...   -0.6284   neg  \n",
       "8   {'neg': 0.124, 'neu': 0.789, 'pos': 0.087, 'co...   -0.3910   neg  \n",
       "9   {'neg': 0.127, 'neu': 0.789, 'pos': 0.084, 'co...   -0.7506   neg  \n",
       "10  {'neg': 0.205, 'neu': 0.795, 'pos': 0.0, 'comp...   -0.8074   neg  \n",
       "11  {'neg': 0.109, 'neu': 0.891, 'pos': 0.0, 'comp...   -0.8163   neg  \n",
       "12  {'neg': 0.104, 'neu': 0.772, 'pos': 0.124, 'co...   -0.1059   neg  \n",
       "13  {'neg': 0.2, 'neu': 0.728, 'pos': 0.072, 'comp...   -0.5726   neg  \n",
       "14  {'neg': 0.282, 'neu': 0.718, 'pos': 0.0, 'comp...   -0.8625   neg  "
      ]
     },
     "execution_count": 21,
     "metadata": {},
     "output_type": "execute_result"
    }
   ],
   "source": [
    "neg_review = pd.read_csv(r'C:\\Users\\Dell\\Desktop\\sentiment_cluster6_neg.csv')\n",
    "neg_review"
   ]
  },
  {
   "cell_type": "code",
   "execution_count": 22,
   "metadata": {},
   "outputs": [
    {
     "data": {
      "text/html": [
       "<style  type=\"text/css\" >\n",
       "</style><table id=\"T_73ce19f4_2820_11eb_b65e_c48e8ff9d2e0\" ><thead>    <tr>        <th class=\"col_heading level0 col0\" >Description</th>        <th class=\"col_heading level0 col1\" >Value</th>    </tr></thead><tbody>\n",
       "                <tr>\n",
       "                                <td id=\"T_73ce19f4_2820_11eb_b65e_c48e8ff9d2e0row0_col0\" class=\"data row0 col0\" >session_id</td>\n",
       "                        <td id=\"T_73ce19f4_2820_11eb_b65e_c48e8ff9d2e0row0_col1\" class=\"data row0 col1\" >5355</td>\n",
       "            </tr>\n",
       "            <tr>\n",
       "                                <td id=\"T_73ce19f4_2820_11eb_b65e_c48e8ff9d2e0row1_col0\" class=\"data row1 col0\" >Documents</td>\n",
       "                        <td id=\"T_73ce19f4_2820_11eb_b65e_c48e8ff9d2e0row1_col1\" class=\"data row1 col1\" >15</td>\n",
       "            </tr>\n",
       "            <tr>\n",
       "                                <td id=\"T_73ce19f4_2820_11eb_b65e_c48e8ff9d2e0row2_col0\" class=\"data row2 col0\" >Vocab Size</td>\n",
       "                        <td id=\"T_73ce19f4_2820_11eb_b65e_c48e8ff9d2e0row2_col1\" class=\"data row2 col1\" >231</td>\n",
       "            </tr>\n",
       "            <tr>\n",
       "                                <td id=\"T_73ce19f4_2820_11eb_b65e_c48e8ff9d2e0row3_col0\" class=\"data row3 col0\" >Custom Stopwords</td>\n",
       "                        <td id=\"T_73ce19f4_2820_11eb_b65e_c48e8ff9d2e0row3_col1\" class=\"data row3 col1\" >True</td>\n",
       "            </tr>\n",
       "    </tbody></table>"
      ],
      "text/plain": [
       "<pandas.io.formats.style.Styler at 0x15879fec348>"
      ]
     },
     "metadata": {},
     "output_type": "display_data"
    }
   ],
   "source": [
    "exp_nlp_neg = setup(data = neg_review, target = 'r_text',\n",
    "                custom_stopwords = [ 'hotel', 'room', 'nice', 'good','restaurant', 'food','bad'])"
   ]
  },
  {
   "cell_type": "code",
   "execution_count": 23,
   "metadata": {},
   "outputs": [
    {
     "name": "stdout",
     "output_type": "stream",
     "text": [
      "LdaModel(num_terms=231, num_topics=4, decay=0.5, chunksize=100)\n"
     ]
    }
   ],
   "source": [
    "#create an LDA model\n",
    "lda_neg_custom = create_model('lda')\n",
    "print(lda_neg_custom)"
   ]
  },
  {
   "cell_type": "code",
   "execution_count": 24,
   "metadata": {},
   "outputs": [],
   "source": [
    "apply_lda_neg = assign_model(lda_neg_custom)"
   ]
  },
  {
   "cell_type": "code",
   "execution_count": 25,
   "metadata": {},
   "outputs": [
    {
     "data": {
      "application/vnd.jupyter.widget-view+json": {
       "model_id": "0ea7ab430aa748499e00a282301d4883",
       "version_major": 2,
       "version_minor": 0
      },
      "text/plain": [
       "interactive(children=(ToggleButtons(description='Plot Type:', icons=('',), options=(('Frequency Plot', 'freque…"
      ]
     },
     "metadata": {},
     "output_type": "display_data"
    }
   ],
   "source": [
    "evaluate_model(lda_neg_custom)"
   ]
  },
  {
   "cell_type": "code",
   "execution_count": 26,
   "metadata": {},
   "outputs": [
    {
     "data": {
      "application/vnd.jupyter.widget-view+json": {
       "model_id": "",
       "version_major": 2,
       "version_minor": 0
      },
      "text/plain": [
       "IntProgress(value=0, description='Processing: ', max=25)"
      ]
     },
     "metadata": {},
     "output_type": "display_data"
    },
    {
     "data": {
      "application/vnd.jupyter.widget-view+json": {
       "model_id": "2498978cd0ee4da99ce9c3aab1e5db17",
       "version_major": 2,
       "version_minor": 0
      },
      "text/plain": [
       "Output()"
      ]
     },
     "metadata": {},
     "output_type": "display_data"
    },
    {
     "data": {
      "text/html": [
       "        <script type=\"text/javascript\">\n",
       "        window.PlotlyConfig = {MathJaxConfig: 'local'};\n",
       "        if (window.MathJax) {MathJax.Hub.Config({SVG: {font: \"STIX-Web\"}});}\n",
       "        if (typeof require !== 'undefined') {\n",
       "        require.undef(\"plotly\");\n",
       "        requirejs.config({\n",
       "            paths: {\n",
       "                'plotly': ['https://cdn.plot.ly/plotly-latest.min']\n",
       "            }\n",
       "        });\n",
       "        require(['plotly'], function(Plotly) {\n",
       "            window._Plotly = Plotly;\n",
       "        });\n",
       "        }\n",
       "        </script>\n",
       "        "
      ]
     },
     "metadata": {},
     "output_type": "display_data"
    },
    {
     "data": {
      "application/vnd.plotly.v1+json": {
       "config": {
        "plotlyServerURL": "https://plot.ly"
       },
       "data": [
        {
         "hovertemplate": "Metric=Coherence<br># Topics=%{x}<br>Score=%{y}<extra></extra>",
         "legendgroup": "Coherence",
         "line": {
          "color": "#636efa",
          "dash": "solid",
          "shape": "linear"
         },
         "mode": "lines",
         "name": "Coherence",
         "orientation": "v",
         "showlegend": true,
         "type": "scatter",
         "x": [
          2,
          4,
          8,
          16,
          32,
          64,
          100,
          200,
          300,
          400
         ],
         "xaxis": "x",
         "y": [
          0.3246089647499455,
          0.5286789821773545,
          0.38922262282648457,
          0.5673723474279586,
          0.5146141728441684,
          0.47844729401620134,
          0.45629626474822016,
          0.43691463094992644,
          0.4273841845506402,
          0.4198558710531276
         ],
         "yaxis": "y"
        }
       ],
       "layout": {
        "legend": {
         "title": {
          "text": "Metric"
         },
         "tracegroupgap": 0
        },
        "plot_bgcolor": "rgb(245,245,245)",
        "template": {
         "data": {
          "bar": [
           {
            "error_x": {
             "color": "#2a3f5f"
            },
            "error_y": {
             "color": "#2a3f5f"
            },
            "marker": {
             "line": {
              "color": "#E5ECF6",
              "width": 0.5
             }
            },
            "type": "bar"
           }
          ],
          "barpolar": [
           {
            "marker": {
             "line": {
              "color": "#E5ECF6",
              "width": 0.5
             }
            },
            "type": "barpolar"
           }
          ],
          "carpet": [
           {
            "aaxis": {
             "endlinecolor": "#2a3f5f",
             "gridcolor": "white",
             "linecolor": "white",
             "minorgridcolor": "white",
             "startlinecolor": "#2a3f5f"
            },
            "baxis": {
             "endlinecolor": "#2a3f5f",
             "gridcolor": "white",
             "linecolor": "white",
             "minorgridcolor": "white",
             "startlinecolor": "#2a3f5f"
            },
            "type": "carpet"
           }
          ],
          "choropleth": [
           {
            "colorbar": {
             "outlinewidth": 0,
             "ticks": ""
            },
            "type": "choropleth"
           }
          ],
          "contour": [
           {
            "colorbar": {
             "outlinewidth": 0,
             "ticks": ""
            },
            "colorscale": [
             [
              0,
              "#0d0887"
             ],
             [
              0.1111111111111111,
              "#46039f"
             ],
             [
              0.2222222222222222,
              "#7201a8"
             ],
             [
              0.3333333333333333,
              "#9c179e"
             ],
             [
              0.4444444444444444,
              "#bd3786"
             ],
             [
              0.5555555555555556,
              "#d8576b"
             ],
             [
              0.6666666666666666,
              "#ed7953"
             ],
             [
              0.7777777777777778,
              "#fb9f3a"
             ],
             [
              0.8888888888888888,
              "#fdca26"
             ],
             [
              1,
              "#f0f921"
             ]
            ],
            "type": "contour"
           }
          ],
          "contourcarpet": [
           {
            "colorbar": {
             "outlinewidth": 0,
             "ticks": ""
            },
            "type": "contourcarpet"
           }
          ],
          "heatmap": [
           {
            "colorbar": {
             "outlinewidth": 0,
             "ticks": ""
            },
            "colorscale": [
             [
              0,
              "#0d0887"
             ],
             [
              0.1111111111111111,
              "#46039f"
             ],
             [
              0.2222222222222222,
              "#7201a8"
             ],
             [
              0.3333333333333333,
              "#9c179e"
             ],
             [
              0.4444444444444444,
              "#bd3786"
             ],
             [
              0.5555555555555556,
              "#d8576b"
             ],
             [
              0.6666666666666666,
              "#ed7953"
             ],
             [
              0.7777777777777778,
              "#fb9f3a"
             ],
             [
              0.8888888888888888,
              "#fdca26"
             ],
             [
              1,
              "#f0f921"
             ]
            ],
            "type": "heatmap"
           }
          ],
          "heatmapgl": [
           {
            "colorbar": {
             "outlinewidth": 0,
             "ticks": ""
            },
            "colorscale": [
             [
              0,
              "#0d0887"
             ],
             [
              0.1111111111111111,
              "#46039f"
             ],
             [
              0.2222222222222222,
              "#7201a8"
             ],
             [
              0.3333333333333333,
              "#9c179e"
             ],
             [
              0.4444444444444444,
              "#bd3786"
             ],
             [
              0.5555555555555556,
              "#d8576b"
             ],
             [
              0.6666666666666666,
              "#ed7953"
             ],
             [
              0.7777777777777778,
              "#fb9f3a"
             ],
             [
              0.8888888888888888,
              "#fdca26"
             ],
             [
              1,
              "#f0f921"
             ]
            ],
            "type": "heatmapgl"
           }
          ],
          "histogram": [
           {
            "marker": {
             "colorbar": {
              "outlinewidth": 0,
              "ticks": ""
             }
            },
            "type": "histogram"
           }
          ],
          "histogram2d": [
           {
            "colorbar": {
             "outlinewidth": 0,
             "ticks": ""
            },
            "colorscale": [
             [
              0,
              "#0d0887"
             ],
             [
              0.1111111111111111,
              "#46039f"
             ],
             [
              0.2222222222222222,
              "#7201a8"
             ],
             [
              0.3333333333333333,
              "#9c179e"
             ],
             [
              0.4444444444444444,
              "#bd3786"
             ],
             [
              0.5555555555555556,
              "#d8576b"
             ],
             [
              0.6666666666666666,
              "#ed7953"
             ],
             [
              0.7777777777777778,
              "#fb9f3a"
             ],
             [
              0.8888888888888888,
              "#fdca26"
             ],
             [
              1,
              "#f0f921"
             ]
            ],
            "type": "histogram2d"
           }
          ],
          "histogram2dcontour": [
           {
            "colorbar": {
             "outlinewidth": 0,
             "ticks": ""
            },
            "colorscale": [
             [
              0,
              "#0d0887"
             ],
             [
              0.1111111111111111,
              "#46039f"
             ],
             [
              0.2222222222222222,
              "#7201a8"
             ],
             [
              0.3333333333333333,
              "#9c179e"
             ],
             [
              0.4444444444444444,
              "#bd3786"
             ],
             [
              0.5555555555555556,
              "#d8576b"
             ],
             [
              0.6666666666666666,
              "#ed7953"
             ],
             [
              0.7777777777777778,
              "#fb9f3a"
             ],
             [
              0.8888888888888888,
              "#fdca26"
             ],
             [
              1,
              "#f0f921"
             ]
            ],
            "type": "histogram2dcontour"
           }
          ],
          "mesh3d": [
           {
            "colorbar": {
             "outlinewidth": 0,
             "ticks": ""
            },
            "type": "mesh3d"
           }
          ],
          "parcoords": [
           {
            "line": {
             "colorbar": {
              "outlinewidth": 0,
              "ticks": ""
             }
            },
            "type": "parcoords"
           }
          ],
          "pie": [
           {
            "automargin": true,
            "type": "pie"
           }
          ],
          "scatter": [
           {
            "marker": {
             "colorbar": {
              "outlinewidth": 0,
              "ticks": ""
             }
            },
            "type": "scatter"
           }
          ],
          "scatter3d": [
           {
            "line": {
             "colorbar": {
              "outlinewidth": 0,
              "ticks": ""
             }
            },
            "marker": {
             "colorbar": {
              "outlinewidth": 0,
              "ticks": ""
             }
            },
            "type": "scatter3d"
           }
          ],
          "scattercarpet": [
           {
            "marker": {
             "colorbar": {
              "outlinewidth": 0,
              "ticks": ""
             }
            },
            "type": "scattercarpet"
           }
          ],
          "scattergeo": [
           {
            "marker": {
             "colorbar": {
              "outlinewidth": 0,
              "ticks": ""
             }
            },
            "type": "scattergeo"
           }
          ],
          "scattergl": [
           {
            "marker": {
             "colorbar": {
              "outlinewidth": 0,
              "ticks": ""
             }
            },
            "type": "scattergl"
           }
          ],
          "scattermapbox": [
           {
            "marker": {
             "colorbar": {
              "outlinewidth": 0,
              "ticks": ""
             }
            },
            "type": "scattermapbox"
           }
          ],
          "scatterpolar": [
           {
            "marker": {
             "colorbar": {
              "outlinewidth": 0,
              "ticks": ""
             }
            },
            "type": "scatterpolar"
           }
          ],
          "scatterpolargl": [
           {
            "marker": {
             "colorbar": {
              "outlinewidth": 0,
              "ticks": ""
             }
            },
            "type": "scatterpolargl"
           }
          ],
          "scatterternary": [
           {
            "marker": {
             "colorbar": {
              "outlinewidth": 0,
              "ticks": ""
             }
            },
            "type": "scatterternary"
           }
          ],
          "surface": [
           {
            "colorbar": {
             "outlinewidth": 0,
             "ticks": ""
            },
            "colorscale": [
             [
              0,
              "#0d0887"
             ],
             [
              0.1111111111111111,
              "#46039f"
             ],
             [
              0.2222222222222222,
              "#7201a8"
             ],
             [
              0.3333333333333333,
              "#9c179e"
             ],
             [
              0.4444444444444444,
              "#bd3786"
             ],
             [
              0.5555555555555556,
              "#d8576b"
             ],
             [
              0.6666666666666666,
              "#ed7953"
             ],
             [
              0.7777777777777778,
              "#fb9f3a"
             ],
             [
              0.8888888888888888,
              "#fdca26"
             ],
             [
              1,
              "#f0f921"
             ]
            ],
            "type": "surface"
           }
          ],
          "table": [
           {
            "cells": {
             "fill": {
              "color": "#EBF0F8"
             },
             "line": {
              "color": "white"
             }
            },
            "header": {
             "fill": {
              "color": "#C8D4E3"
             },
             "line": {
              "color": "white"
             }
            },
            "type": "table"
           }
          ]
         },
         "layout": {
          "annotationdefaults": {
           "arrowcolor": "#2a3f5f",
           "arrowhead": 0,
           "arrowwidth": 1
          },
          "coloraxis": {
           "colorbar": {
            "outlinewidth": 0,
            "ticks": ""
           }
          },
          "colorscale": {
           "diverging": [
            [
             0,
             "#8e0152"
            ],
            [
             0.1,
             "#c51b7d"
            ],
            [
             0.2,
             "#de77ae"
            ],
            [
             0.3,
             "#f1b6da"
            ],
            [
             0.4,
             "#fde0ef"
            ],
            [
             0.5,
             "#f7f7f7"
            ],
            [
             0.6,
             "#e6f5d0"
            ],
            [
             0.7,
             "#b8e186"
            ],
            [
             0.8,
             "#7fbc41"
            ],
            [
             0.9,
             "#4d9221"
            ],
            [
             1,
             "#276419"
            ]
           ],
           "sequential": [
            [
             0,
             "#0d0887"
            ],
            [
             0.1111111111111111,
             "#46039f"
            ],
            [
             0.2222222222222222,
             "#7201a8"
            ],
            [
             0.3333333333333333,
             "#9c179e"
            ],
            [
             0.4444444444444444,
             "#bd3786"
            ],
            [
             0.5555555555555556,
             "#d8576b"
            ],
            [
             0.6666666666666666,
             "#ed7953"
            ],
            [
             0.7777777777777778,
             "#fb9f3a"
            ],
            [
             0.8888888888888888,
             "#fdca26"
            ],
            [
             1,
             "#f0f921"
            ]
           ],
           "sequentialminus": [
            [
             0,
             "#0d0887"
            ],
            [
             0.1111111111111111,
             "#46039f"
            ],
            [
             0.2222222222222222,
             "#7201a8"
            ],
            [
             0.3333333333333333,
             "#9c179e"
            ],
            [
             0.4444444444444444,
             "#bd3786"
            ],
            [
             0.5555555555555556,
             "#d8576b"
            ],
            [
             0.6666666666666666,
             "#ed7953"
            ],
            [
             0.7777777777777778,
             "#fb9f3a"
            ],
            [
             0.8888888888888888,
             "#fdca26"
            ],
            [
             1,
             "#f0f921"
            ]
           ]
          },
          "colorway": [
           "#636efa",
           "#EF553B",
           "#00cc96",
           "#ab63fa",
           "#FFA15A",
           "#19d3f3",
           "#FF6692",
           "#B6E880",
           "#FF97FF",
           "#FECB52"
          ],
          "font": {
           "color": "#2a3f5f"
          },
          "geo": {
           "bgcolor": "white",
           "lakecolor": "white",
           "landcolor": "#E5ECF6",
           "showlakes": true,
           "showland": true,
           "subunitcolor": "white"
          },
          "hoverlabel": {
           "align": "left"
          },
          "hovermode": "closest",
          "mapbox": {
           "style": "light"
          },
          "paper_bgcolor": "white",
          "plot_bgcolor": "#E5ECF6",
          "polar": {
           "angularaxis": {
            "gridcolor": "white",
            "linecolor": "white",
            "ticks": ""
           },
           "bgcolor": "#E5ECF6",
           "radialaxis": {
            "gridcolor": "white",
            "linecolor": "white",
            "ticks": ""
           }
          },
          "scene": {
           "xaxis": {
            "backgroundcolor": "#E5ECF6",
            "gridcolor": "white",
            "gridwidth": 2,
            "linecolor": "white",
            "showbackground": true,
            "ticks": "",
            "zerolinecolor": "white"
           },
           "yaxis": {
            "backgroundcolor": "#E5ECF6",
            "gridcolor": "white",
            "gridwidth": 2,
            "linecolor": "white",
            "showbackground": true,
            "ticks": "",
            "zerolinecolor": "white"
           },
           "zaxis": {
            "backgroundcolor": "#E5ECF6",
            "gridcolor": "white",
            "gridwidth": 2,
            "linecolor": "white",
            "showbackground": true,
            "ticks": "",
            "zerolinecolor": "white"
           }
          },
          "shapedefaults": {
           "line": {
            "color": "#2a3f5f"
           }
          },
          "ternary": {
           "aaxis": {
            "gridcolor": "white",
            "linecolor": "white",
            "ticks": ""
           },
           "baxis": {
            "gridcolor": "white",
            "linecolor": "white",
            "ticks": ""
           },
           "bgcolor": "#E5ECF6",
           "caxis": {
            "gridcolor": "white",
            "linecolor": "white",
            "ticks": ""
           }
          },
          "title": {
           "x": 0.05
          },
          "xaxis": {
           "automargin": true,
           "gridcolor": "white",
           "linecolor": "white",
           "ticks": "",
           "title": {
            "standoff": 15
           },
           "zerolinecolor": "white",
           "zerolinewidth": 2
          },
          "yaxis": {
           "automargin": true,
           "gridcolor": "white",
           "linecolor": "white",
           "ticks": "",
           "title": {
            "standoff": 15
           },
           "zerolinecolor": "white",
           "zerolinewidth": 2
          }
         }
        },
        "title": {
         "text": "Coherence Value and # of Topics"
        },
        "xaxis": {
         "anchor": "y",
         "domain": [
          0,
          1
         ],
         "title": {
          "text": "# Topics"
         }
        },
        "yaxis": {
         "anchor": "x",
         "domain": [
          0,
          1
         ],
         "title": {
          "text": "Score"
         }
        }
       }
      },
      "text/html": [
       "<div>\n",
       "        \n",
       "        \n",
       "            <div id=\"a96e9e0b-5f9f-4bdd-9b43-e7d4dbd0095c\" class=\"plotly-graph-div\" style=\"height:525px; width:100%;\"></div>\n",
       "            <script type=\"text/javascript\">\n",
       "                require([\"plotly\"], function(Plotly) {\n",
       "                    window.PLOTLYENV=window.PLOTLYENV || {};\n",
       "                    \n",
       "                if (document.getElementById(\"a96e9e0b-5f9f-4bdd-9b43-e7d4dbd0095c\")) {\n",
       "                    Plotly.newPlot(\n",
       "                        'a96e9e0b-5f9f-4bdd-9b43-e7d4dbd0095c',\n",
       "                        [{\"hovertemplate\": \"Metric=Coherence<br># Topics=%{x}<br>Score=%{y}<extra></extra>\", \"legendgroup\": \"Coherence\", \"line\": {\"color\": \"#636efa\", \"dash\": \"solid\", \"shape\": \"linear\"}, \"mode\": \"lines\", \"name\": \"Coherence\", \"orientation\": \"v\", \"showlegend\": true, \"type\": \"scatter\", \"x\": [2, 4, 8, 16, 32, 64, 100, 200, 300, 400], \"xaxis\": \"x\", \"y\": [0.3246089647499455, 0.5286789821773545, 0.38922262282648457, 0.5673723474279586, 0.5146141728441684, 0.47844729401620134, 0.45629626474822016, 0.43691463094992644, 0.4273841845506402, 0.4198558710531276], \"yaxis\": \"y\"}],\n",
       "                        {\"legend\": {\"title\": {\"text\": \"Metric\"}, \"tracegroupgap\": 0}, \"plot_bgcolor\": \"rgb(245,245,245)\", \"template\": {\"data\": {\"bar\": [{\"error_x\": {\"color\": \"#2a3f5f\"}, \"error_y\": {\"color\": \"#2a3f5f\"}, \"marker\": {\"line\": {\"color\": \"#E5ECF6\", \"width\": 0.5}}, \"type\": \"bar\"}], \"barpolar\": [{\"marker\": {\"line\": {\"color\": \"#E5ECF6\", \"width\": 0.5}}, \"type\": \"barpolar\"}], \"carpet\": [{\"aaxis\": {\"endlinecolor\": \"#2a3f5f\", \"gridcolor\": \"white\", \"linecolor\": \"white\", \"minorgridcolor\": \"white\", \"startlinecolor\": \"#2a3f5f\"}, \"baxis\": {\"endlinecolor\": \"#2a3f5f\", \"gridcolor\": \"white\", \"linecolor\": \"white\", \"minorgridcolor\": \"white\", \"startlinecolor\": \"#2a3f5f\"}, \"type\": \"carpet\"}], \"choropleth\": [{\"colorbar\": {\"outlinewidth\": 0, \"ticks\": \"\"}, \"type\": \"choropleth\"}], \"contour\": [{\"colorbar\": {\"outlinewidth\": 0, \"ticks\": \"\"}, \"colorscale\": [[0.0, \"#0d0887\"], [0.1111111111111111, \"#46039f\"], [0.2222222222222222, \"#7201a8\"], [0.3333333333333333, \"#9c179e\"], [0.4444444444444444, \"#bd3786\"], [0.5555555555555556, \"#d8576b\"], [0.6666666666666666, \"#ed7953\"], [0.7777777777777778, \"#fb9f3a\"], [0.8888888888888888, \"#fdca26\"], [1.0, \"#f0f921\"]], \"type\": \"contour\"}], \"contourcarpet\": [{\"colorbar\": {\"outlinewidth\": 0, \"ticks\": \"\"}, \"type\": \"contourcarpet\"}], \"heatmap\": [{\"colorbar\": {\"outlinewidth\": 0, \"ticks\": \"\"}, \"colorscale\": [[0.0, \"#0d0887\"], [0.1111111111111111, \"#46039f\"], [0.2222222222222222, \"#7201a8\"], [0.3333333333333333, \"#9c179e\"], [0.4444444444444444, \"#bd3786\"], [0.5555555555555556, \"#d8576b\"], [0.6666666666666666, \"#ed7953\"], [0.7777777777777778, \"#fb9f3a\"], [0.8888888888888888, \"#fdca26\"], [1.0, \"#f0f921\"]], \"type\": \"heatmap\"}], \"heatmapgl\": [{\"colorbar\": {\"outlinewidth\": 0, \"ticks\": \"\"}, \"colorscale\": [[0.0, \"#0d0887\"], [0.1111111111111111, \"#46039f\"], [0.2222222222222222, \"#7201a8\"], [0.3333333333333333, \"#9c179e\"], [0.4444444444444444, \"#bd3786\"], [0.5555555555555556, \"#d8576b\"], [0.6666666666666666, \"#ed7953\"], [0.7777777777777778, \"#fb9f3a\"], [0.8888888888888888, \"#fdca26\"], [1.0, \"#f0f921\"]], \"type\": \"heatmapgl\"}], \"histogram\": [{\"marker\": {\"colorbar\": {\"outlinewidth\": 0, \"ticks\": \"\"}}, \"type\": \"histogram\"}], \"histogram2d\": [{\"colorbar\": {\"outlinewidth\": 0, \"ticks\": \"\"}, \"colorscale\": [[0.0, \"#0d0887\"], [0.1111111111111111, \"#46039f\"], [0.2222222222222222, \"#7201a8\"], [0.3333333333333333, \"#9c179e\"], [0.4444444444444444, \"#bd3786\"], [0.5555555555555556, \"#d8576b\"], [0.6666666666666666, \"#ed7953\"], [0.7777777777777778, \"#fb9f3a\"], [0.8888888888888888, \"#fdca26\"], [1.0, \"#f0f921\"]], \"type\": \"histogram2d\"}], \"histogram2dcontour\": [{\"colorbar\": {\"outlinewidth\": 0, \"ticks\": \"\"}, \"colorscale\": [[0.0, \"#0d0887\"], [0.1111111111111111, \"#46039f\"], [0.2222222222222222, \"#7201a8\"], [0.3333333333333333, \"#9c179e\"], [0.4444444444444444, \"#bd3786\"], [0.5555555555555556, \"#d8576b\"], [0.6666666666666666, \"#ed7953\"], [0.7777777777777778, \"#fb9f3a\"], [0.8888888888888888, \"#fdca26\"], [1.0, \"#f0f921\"]], \"type\": \"histogram2dcontour\"}], \"mesh3d\": [{\"colorbar\": {\"outlinewidth\": 0, \"ticks\": \"\"}, \"type\": \"mesh3d\"}], \"parcoords\": [{\"line\": {\"colorbar\": {\"outlinewidth\": 0, \"ticks\": \"\"}}, \"type\": \"parcoords\"}], \"pie\": [{\"automargin\": true, \"type\": \"pie\"}], \"scatter\": [{\"marker\": {\"colorbar\": {\"outlinewidth\": 0, \"ticks\": \"\"}}, \"type\": \"scatter\"}], \"scatter3d\": [{\"line\": {\"colorbar\": {\"outlinewidth\": 0, \"ticks\": \"\"}}, \"marker\": {\"colorbar\": {\"outlinewidth\": 0, \"ticks\": \"\"}}, \"type\": \"scatter3d\"}], \"scattercarpet\": [{\"marker\": {\"colorbar\": {\"outlinewidth\": 0, \"ticks\": \"\"}}, \"type\": \"scattercarpet\"}], \"scattergeo\": [{\"marker\": {\"colorbar\": {\"outlinewidth\": 0, \"ticks\": \"\"}}, \"type\": \"scattergeo\"}], \"scattergl\": [{\"marker\": {\"colorbar\": {\"outlinewidth\": 0, \"ticks\": \"\"}}, \"type\": \"scattergl\"}], \"scattermapbox\": [{\"marker\": {\"colorbar\": {\"outlinewidth\": 0, \"ticks\": \"\"}}, \"type\": \"scattermapbox\"}], \"scatterpolar\": [{\"marker\": {\"colorbar\": {\"outlinewidth\": 0, \"ticks\": \"\"}}, \"type\": \"scatterpolar\"}], \"scatterpolargl\": [{\"marker\": {\"colorbar\": {\"outlinewidth\": 0, \"ticks\": \"\"}}, \"type\": \"scatterpolargl\"}], \"scatterternary\": [{\"marker\": {\"colorbar\": {\"outlinewidth\": 0, \"ticks\": \"\"}}, \"type\": \"scatterternary\"}], \"surface\": [{\"colorbar\": {\"outlinewidth\": 0, \"ticks\": \"\"}, \"colorscale\": [[0.0, \"#0d0887\"], [0.1111111111111111, \"#46039f\"], [0.2222222222222222, \"#7201a8\"], [0.3333333333333333, \"#9c179e\"], [0.4444444444444444, \"#bd3786\"], [0.5555555555555556, \"#d8576b\"], [0.6666666666666666, \"#ed7953\"], [0.7777777777777778, \"#fb9f3a\"], [0.8888888888888888, \"#fdca26\"], [1.0, \"#f0f921\"]], \"type\": \"surface\"}], \"table\": [{\"cells\": {\"fill\": {\"color\": \"#EBF0F8\"}, \"line\": {\"color\": \"white\"}}, \"header\": {\"fill\": {\"color\": \"#C8D4E3\"}, \"line\": {\"color\": \"white\"}}, \"type\": \"table\"}]}, \"layout\": {\"annotationdefaults\": {\"arrowcolor\": \"#2a3f5f\", \"arrowhead\": 0, \"arrowwidth\": 1}, \"coloraxis\": {\"colorbar\": {\"outlinewidth\": 0, \"ticks\": \"\"}}, \"colorscale\": {\"diverging\": [[0, \"#8e0152\"], [0.1, \"#c51b7d\"], [0.2, \"#de77ae\"], [0.3, \"#f1b6da\"], [0.4, \"#fde0ef\"], [0.5, \"#f7f7f7\"], [0.6, \"#e6f5d0\"], [0.7, \"#b8e186\"], [0.8, \"#7fbc41\"], [0.9, \"#4d9221\"], [1, \"#276419\"]], \"sequential\": [[0.0, \"#0d0887\"], [0.1111111111111111, \"#46039f\"], [0.2222222222222222, \"#7201a8\"], [0.3333333333333333, \"#9c179e\"], [0.4444444444444444, \"#bd3786\"], [0.5555555555555556, \"#d8576b\"], [0.6666666666666666, \"#ed7953\"], [0.7777777777777778, \"#fb9f3a\"], [0.8888888888888888, \"#fdca26\"], [1.0, \"#f0f921\"]], \"sequentialminus\": [[0.0, \"#0d0887\"], [0.1111111111111111, \"#46039f\"], [0.2222222222222222, \"#7201a8\"], [0.3333333333333333, \"#9c179e\"], [0.4444444444444444, \"#bd3786\"], [0.5555555555555556, \"#d8576b\"], [0.6666666666666666, \"#ed7953\"], [0.7777777777777778, \"#fb9f3a\"], [0.8888888888888888, \"#fdca26\"], [1.0, \"#f0f921\"]]}, \"colorway\": [\"#636efa\", \"#EF553B\", \"#00cc96\", \"#ab63fa\", \"#FFA15A\", \"#19d3f3\", \"#FF6692\", \"#B6E880\", \"#FF97FF\", \"#FECB52\"], \"font\": {\"color\": \"#2a3f5f\"}, \"geo\": {\"bgcolor\": \"white\", \"lakecolor\": \"white\", \"landcolor\": \"#E5ECF6\", \"showlakes\": true, \"showland\": true, \"subunitcolor\": \"white\"}, \"hoverlabel\": {\"align\": \"left\"}, \"hovermode\": \"closest\", \"mapbox\": {\"style\": \"light\"}, \"paper_bgcolor\": \"white\", \"plot_bgcolor\": \"#E5ECF6\", \"polar\": {\"angularaxis\": {\"gridcolor\": \"white\", \"linecolor\": \"white\", \"ticks\": \"\"}, \"bgcolor\": \"#E5ECF6\", \"radialaxis\": {\"gridcolor\": \"white\", \"linecolor\": \"white\", \"ticks\": \"\"}}, \"scene\": {\"xaxis\": {\"backgroundcolor\": \"#E5ECF6\", \"gridcolor\": \"white\", \"gridwidth\": 2, \"linecolor\": \"white\", \"showbackground\": true, \"ticks\": \"\", \"zerolinecolor\": \"white\"}, \"yaxis\": {\"backgroundcolor\": \"#E5ECF6\", \"gridcolor\": \"white\", \"gridwidth\": 2, \"linecolor\": \"white\", \"showbackground\": true, \"ticks\": \"\", \"zerolinecolor\": \"white\"}, \"zaxis\": {\"backgroundcolor\": \"#E5ECF6\", \"gridcolor\": \"white\", \"gridwidth\": 2, \"linecolor\": \"white\", \"showbackground\": true, \"ticks\": \"\", \"zerolinecolor\": \"white\"}}, \"shapedefaults\": {\"line\": {\"color\": \"#2a3f5f\"}}, \"ternary\": {\"aaxis\": {\"gridcolor\": \"white\", \"linecolor\": \"white\", \"ticks\": \"\"}, \"baxis\": {\"gridcolor\": \"white\", \"linecolor\": \"white\", \"ticks\": \"\"}, \"bgcolor\": \"#E5ECF6\", \"caxis\": {\"gridcolor\": \"white\", \"linecolor\": \"white\", \"ticks\": \"\"}}, \"title\": {\"x\": 0.05}, \"xaxis\": {\"automargin\": true, \"gridcolor\": \"white\", \"linecolor\": \"white\", \"ticks\": \"\", \"title\": {\"standoff\": 15}, \"zerolinecolor\": \"white\", \"zerolinewidth\": 2}, \"yaxis\": {\"automargin\": true, \"gridcolor\": \"white\", \"linecolor\": \"white\", \"ticks\": \"\", \"title\": {\"standoff\": 15}, \"zerolinecolor\": \"white\", \"zerolinewidth\": 2}}}, \"title\": {\"text\": \"Coherence Value and # of Topics\"}, \"xaxis\": {\"anchor\": \"y\", \"domain\": [0.0, 1.0], \"title\": {\"text\": \"# Topics\"}}, \"yaxis\": {\"anchor\": \"x\", \"domain\": [0.0, 1.0], \"title\": {\"text\": \"Score\"}}},\n",
       "                        {\"responsive\": true}\n",
       "                    ).then(function(){\n",
       "                            \n",
       "var gd = document.getElementById('a96e9e0b-5f9f-4bdd-9b43-e7d4dbd0095c');\n",
       "var x = new MutationObserver(function (mutations, observer) {{\n",
       "        var display = window.getComputedStyle(gd).display;\n",
       "        if (!display || display === 'none') {{\n",
       "            console.log([gd, 'removed!']);\n",
       "            Plotly.purge(gd);\n",
       "            observer.disconnect();\n",
       "        }}\n",
       "}});\n",
       "\n",
       "// Listen for the removal of the full notebook cells\n",
       "var notebookContainer = gd.closest('#notebook-container');\n",
       "if (notebookContainer) {{\n",
       "    x.observe(notebookContainer, {childList: true});\n",
       "}}\n",
       "\n",
       "// Listen for the clearing of the current output cell\n",
       "var outputEl = gd.closest('.output');\n",
       "if (outputEl) {{\n",
       "    x.observe(outputEl, {childList: true});\n",
       "}}\n",
       "\n",
       "                        })\n",
       "                };\n",
       "                });\n",
       "            </script>\n",
       "        </div>"
      ]
     },
     "metadata": {},
     "output_type": "display_data"
    },
    {
     "name": "stdout",
     "output_type": "stream",
     "text": [
      "Best Model: Latent Dirichlet Allocation | # Topics: 16 | Coherence: 0.5674\n"
     ]
    }
   ],
   "source": [
    "tune_lda_negative = tune_model(model='lda', supervised_target=None, estimator='xgboost')"
   ]
  },
  {
   "cell_type": "markdown",
   "metadata": {},
   "source": [
    "4 is enough"
   ]
  },
  {
   "cell_type": "code",
   "execution_count": null,
   "metadata": {},
   "outputs": [],
   "source": []
  },
  {
   "cell_type": "code",
   "execution_count": null,
   "metadata": {},
   "outputs": [],
   "source": []
  },
  {
   "cell_type": "code",
   "execution_count": 27,
   "metadata": {},
   "outputs": [
    {
     "data": {
      "text/html": [
       "        <script type=\"text/javascript\">\n",
       "        window.PlotlyConfig = {MathJaxConfig: 'local'};\n",
       "        if (window.MathJax) {MathJax.Hub.Config({SVG: {font: \"STIX-Web\"}});}\n",
       "        if (typeof require !== 'undefined') {\n",
       "        require.undef(\"plotly\");\n",
       "        requirejs.config({\n",
       "            paths: {\n",
       "                'plotly': ['https://cdn.plot.ly/plotly-latest.min']\n",
       "            }\n",
       "        });\n",
       "        require(['plotly'], function(Plotly) {\n",
       "            window._Plotly = Plotly;\n",
       "        });\n",
       "        }\n",
       "        </script>\n",
       "        "
      ]
     },
     "metadata": {},
     "output_type": "display_data"
    },
    {
     "data": {
      "text/html": [
       "\n",
       "<link rel=\"stylesheet\" type=\"text/css\" href=\"https://cdn.rawgit.com/bmabey/pyLDAvis/files/ldavis.v1.0.0.css\">\n",
       "\n",
       "\n",
       "<div id=\"ldavis_el456814795303006168304905657\"></div>\n",
       "<script type=\"text/javascript\">\n",
       "\n",
       "var ldavis_el456814795303006168304905657_data = {\"mdsDat\": {\"x\": [-0.09774794416360838, -0.04684441113464527, 0.08863716582376305, 0.055955189474490595], \"y\": [-0.06509108267770075, 0.11996104587847134, -0.08206852097231522, 0.027198557771544635], \"topics\": [1, 2, 3, 4], \"cluster\": [1, 1, 1, 1], \"Freq\": [38.832847595214844, 30.508888244628906, 20.60972023010254, 10.048540115356445]}, \"tinfo\": {\"Term\": [\"table\", \"disappointing\", \"syrian\", \"atmosphere\", \"year\", \"nicosia\", \"lot\", \"tough\", \"leave\", \"chair\", \"dip\", \"go\", \"decor\", \"change\", \"pity\", \"staff\", \"ghastly\", \"bland\", \"cloth\", \"totally\", \"see\", \"authentic\", \"club\", \"serve\", \"always\", \"future\", \"quick\", \"friendship\", \"excellent\", \"music\", \"dip\", \"salad\", \"special\", \"take\", \"person\", \"really\", \"pay\", \"poor\", \"falafel\", \"fresh\", \"ago\", \"decent\", \"sorry\", \"terrible\", \"anymore\", \"unacceptable\", \"demand\", \"selective\", \"complain\", \"believe\", \"company\", \"super\", \"give\", \"accustic\", \"average\", \"expectation\", \"get\", \"presentation\", \"choose\", \"customer\", \"price\", \"even\", \"taste\", \"long\", \"visit\", \"much\", \"place\", \"syrian\", \"however\", \"service\", \"table\", \"conversation\", \"pity\", \"portion\", \"change\", \"big\", \"time\", \"menu\", \"year\", \"date\", \"use\", \"top\", \"try\", \"charge\", \"happen\", \"hygiene\", \"enormously\", \"think\", \"extremely\", \"favourite\", \"particularly\", \"past\", \"last\", \"decline\", \"chicken\", \"sense\", \"priority\", \"eatery\", \"prone\", \"par\", \"sub\", \"drop\", \"either\", \"low\", \"rediculously\", \"pressured\", \"isthere\", \"bill\", \"quality\", \"thing\", \"awful\", \"service\", \"place\", \"overall\", \"taste\", \"great\", \"visit\", \"meat\", \"order\", \"sit\", \"much\", \"tell\", \"decor\", \"disappointing\", \"nicosia\", \"lot\", \"tough\", \"leave\", \"friend\", \"tasty\", \"interesting\", \"arabic\", \"say\", \"favorite\", \"group\", \"impress\", \"noise\", \"limp\", \"oily\", \"space\", \"solve\", \"need\", \"tirokafteri\", \"knife\", \"tomato\", \"sun\", \"fridge\", \"dry\", \"throw\", \"desire\", \"cut\", \"oil\", \"large\", \"atmosphere\", \"syrian\", \"one\", \"much\", \"big\", \"taste\", \"spicy\", \"table\", \"service\", \"staff\", \"ghastly\", \"bland\", \"cloth\", \"totally\", \"see\", \"authentic\", \"club\", \"serve\", \"always\", \"future\", \"quick\", \"friendship\", \"excellent\", \"music\", \"area\", \"dismay\", \"look\", \"recently\", \"help\", \"modern\", \"loud\", \"shame\", \"table\", \"chair\", \"go\", \"decor\", \"change\", \"pity\", \"atmosphere\", \"syrian\"], \"Freq\": [2.0, 2.0, 3.0, 1.0, 2.0, 1.0, 1.0, 1.0, 1.0, 1.0, 3.0, 1.0, 1.0, 1.0, 1.0, 0.0, 0.0, 0.0, 0.0, 0.0, 0.0, 0.0, 0.0, 0.0, 0.0, 0.0, 0.0, 0.0, 0.0, 0.0, 2.8945655822753906, 2.2138469219207764, 2.213759422302246, 1.5360742807388306, 1.5339957475662231, 1.5335811376571655, 1.5335718393325806, 1.5332307815551758, 1.5320279598236084, 1.5309032201766968, 0.8533787727355957, 0.8533782362937927, 0.8533785939216614, 0.8533775806427002, 0.8533762693405151, 0.8533751964569092, 0.8533748984336853, 0.8533739447593689, 0.853374183177948, 0.8533739447593689, 0.8533726930618286, 0.8533709645271301, 0.8533691167831421, 0.8533682823181152, 0.8533673286437988, 0.8533675670623779, 0.8533669114112854, 0.853366494178772, 0.8533656001091003, 0.8533650040626526, 2.2189788818359375, 2.218815326690674, 2.2157983779907227, 1.5363718271255493, 1.5344281196594238, 1.5333908796310425, 1.531805396080017, 1.5336408615112305, 0.8537382483482361, 0.8536965847015381, 0.8536539077758789, 0.8536423444747925, 0.8533979058265686, 0.8533936142921448, 0.8533921837806702, 0.8533898591995239, 0.8533847332000732, 0.8533805012702942, 2.0437047481536865, 1.4148815870285034, 1.4148736000061035, 1.4125556945800781, 1.4121034145355225, 1.4116774797439575, 1.4099565744400024, 0.7860425114631653, 0.7860416769981384, 0.7860414981842041, 0.7860414981842041, 0.7860408425331116, 0.7860409617424011, 0.7860405445098877, 0.786040186882019, 0.7860398292541504, 0.7860389947891235, 0.7860395908355713, 0.7860391736030579, 0.7860386371612549, 0.7860378623008728, 0.7860380411148071, 0.786036491394043, 0.7860174775123596, 0.7860166430473328, 0.7860084772109985, 0.786007821559906, 0.7855712175369263, 0.7855600714683533, 0.7854843735694885, 1.4148917198181152, 1.4127156734466553, 1.4114189147949219, 1.414062738418579, 1.4137439727783203, 0.7886918783187866, 0.7884724140167236, 0.7884713411331177, 0.7878555059432983, 0.7865649461746216, 0.7865538597106934, 0.7864528298377991, 0.7861645221710205, 0.7860558032989502, 0.7860422730445862, 1.7299995422363281, 1.2022520303726196, 1.1987440586090088, 1.1977462768554688, 1.1976937055587769, 0.6679152846336365, 0.6679129004478455, 0.6679126620292664, 0.667912483215332, 0.6679121851921082, 0.667911171913147, 0.6679102778434753, 0.667908787727356, 0.6664491295814514, 0.6663486957550049, 0.6663134098052979, 0.6662307381629944, 0.6662482023239136, 0.6662166118621826, 0.6662280559539795, 0.6662001609802246, 0.6661121845245361, 0.6660957336425781, 0.6660873293876648, 0.6660529375076294, 0.6659911274909973, 0.6660271286964417, 0.6660302877426147, 0.6659818291664124, 0.6659252047538757, 1.2032420635223389, 1.7371511459350586, 0.6698087453842163, 0.6699545383453369, 0.6679043769836426, 0.6678802967071533, 0.6675854325294495, 0.667397677898407, 0.6667290329933167, 0.44832178950309753, 0.4482888877391815, 0.44825661182403564, 0.4482421875, 0.4482232630252838, 0.4482009708881378, 0.4481927156448364, 0.4481748342514038, 0.448172003030777, 0.4481682777404785, 0.44814860820770264, 0.44813260436058044, 0.4481233060359955, 0.448119193315506, 0.4481074810028076, 0.44810569286346436, 0.4481050372123718, 0.4480832517147064, 0.4480656087398529, 0.4480637013912201, 0.4480464458465576, 0.4480007588863373, 0.44787171483039856, 0.8077622652053833, 0.44963669776916504, 0.4483937919139862, 0.4481077790260315, 0.44806602597236633, 0.44803011417388916, 0.44797295331954956, 0.4484882354736328], \"Total\": [2.0, 2.0, 3.0, 1.0, 2.0, 1.0, 1.0, 1.0, 1.0, 1.0, 3.0, 1.0, 1.0, 1.0, 1.0, 0.0, 0.0, 0.0, 0.0, 0.0, 0.0, 0.0, 0.0, 0.0, 0.0, 0.0, 0.0, 0.0, 0.0, 0.0, 3.2812230587005615, 2.5985913276672363, 2.5989785194396973, 1.9166438579559326, 1.9164856672286987, 1.916183590888977, 1.9164495468139648, 1.916243314743042, 1.9163304567337036, 1.9159553050994873, 1.2339197397232056, 1.233919620513916, 1.2339205741882324, 1.2339198589324951, 1.2339191436767578, 1.2339187860488892, 1.2339198589324951, 1.2339186668395996, 1.2339195013046265, 1.2339191436767578, 1.2339186668395996, 1.2339175939559937, 1.2339167594909668, 1.2339178323745728, 1.233917236328125, 1.2339177131652832, 1.2339167594909668, 1.2339167594909668, 1.23391592502594, 1.2339171171188354, 3.2282161712646484, 3.228205442428589, 3.7621378898620605, 2.4504382610321045, 3.07912540435791, 3.079249858856201, 3.173229932785034, 3.878427028656006, 1.7676126956939697, 3.0253422260284424, 2.486044406890869, 1.7677754163742065, 1.593133568763733, 1.8626055717468262, 1.5931147336959839, 1.768259882926941, 1.862423300743103, 1.8624187707901, 2.43774676322937, 1.8088988065719604, 1.8088964223861694, 1.808549404144287, 1.8084805011749268, 1.8084179162979126, 1.808158040046692, 1.180047631263733, 1.180047631263733, 1.1800477504730225, 1.1800477504730225, 1.1800472736358643, 1.1800475120544434, 1.1800473928451538, 1.1800475120544434, 1.1800472736358643, 1.1800463199615479, 1.1800473928451538, 1.1800469160079956, 1.1800470352172852, 1.1800469160079956, 1.1800472736358643, 1.180046796798706, 1.18004310131073, 1.1800432205200195, 1.18004310131073, 1.1800429821014404, 1.179976224899292, 1.179975152015686, 1.1799637079238892, 2.4916045665740967, 2.490758180618286, 2.491081714630127, 3.0253422260284424, 3.173229932785034, 1.8625305891036987, 3.7621378898620605, 1.8625434637069702, 3.07912540435791, 1.8623281717300415, 1.8624792098999023, 1.8622905015945435, 3.079249858856201, 1.8622329235076904, 1.5392181873321533, 2.1525321006774902, 1.6199007034301758, 1.619122862815857, 1.6187328100204468, 1.6186752319335938, 1.0855509042739868, 1.0855505466461182, 1.0855510234832764, 1.0855509042739868, 1.0855509042739868, 1.0855515003204346, 1.0855510234832764, 1.0855516195297241, 1.0852115154266357, 1.0851556062698364, 1.0851620435714722, 1.0851411819458008, 1.085170030593872, 1.0851296186447144, 1.0851781368255615, 1.0851633548736572, 1.0851002931594849, 1.0850920677185059, 1.0850893259048462, 1.0850708484649658, 1.0850273370742798, 1.085094690322876, 1.085108995437622, 1.0850474834442139, 1.0850062370300293, 1.979139804840088, 3.878427028656006, 1.7140514850616455, 3.079249858856201, 1.768259882926941, 3.7621378898620605, 1.7673394680023193, 2.486044406890869, 3.0253422260284424, 0.9102771282196045, 0.910293459892273, 0.9103094339370728, 0.9103162288665771, 0.9103255271911621, 0.9103364944458008, 0.9103406667709351, 0.9103487730026245, 0.9103504419326782, 0.9103524088859558, 0.9103620648384094, 0.9103701114654541, 0.910374641418457, 0.910376787185669, 0.9103819131851196, 0.9103829860687256, 0.9103831648826599, 0.9103944301605225, 0.9104028940200806, 0.9104036092758179, 0.9104123115539551, 0.910434365272522, 0.9104974269866943, 2.486044406890869, 1.4440525770187378, 1.5390031337738037, 1.5392181873321533, 1.5931147336959839, 1.593133568763733, 1.979139804840088, 3.878427028656006], \"Category\": [\"Default\", \"Default\", \"Default\", \"Default\", \"Default\", \"Default\", \"Default\", \"Default\", \"Default\", \"Default\", \"Default\", \"Default\", \"Default\", \"Default\", \"Default\", \"Default\", \"Default\", \"Default\", \"Default\", \"Default\", \"Default\", \"Default\", \"Default\", \"Default\", \"Default\", \"Default\", \"Default\", \"Default\", \"Default\", \"Default\", \"Topic1\", \"Topic1\", \"Topic1\", \"Topic1\", \"Topic1\", \"Topic1\", \"Topic1\", \"Topic1\", \"Topic1\", \"Topic1\", \"Topic1\", \"Topic1\", \"Topic1\", \"Topic1\", \"Topic1\", \"Topic1\", \"Topic1\", \"Topic1\", \"Topic1\", \"Topic1\", \"Topic1\", \"Topic1\", \"Topic1\", \"Topic1\", \"Topic1\", \"Topic1\", \"Topic1\", \"Topic1\", \"Topic1\", \"Topic1\", \"Topic1\", \"Topic1\", \"Topic1\", \"Topic1\", \"Topic1\", \"Topic1\", \"Topic1\", \"Topic1\", \"Topic1\", \"Topic1\", \"Topic1\", \"Topic1\", \"Topic1\", \"Topic1\", \"Topic1\", \"Topic1\", \"Topic1\", \"Topic1\", \"Topic2\", \"Topic2\", \"Topic2\", \"Topic2\", \"Topic2\", \"Topic2\", \"Topic2\", \"Topic2\", \"Topic2\", \"Topic2\", \"Topic2\", \"Topic2\", \"Topic2\", \"Topic2\", \"Topic2\", \"Topic2\", \"Topic2\", \"Topic2\", \"Topic2\", \"Topic2\", \"Topic2\", \"Topic2\", \"Topic2\", \"Topic2\", \"Topic2\", \"Topic2\", \"Topic2\", \"Topic2\", \"Topic2\", \"Topic2\", \"Topic2\", \"Topic2\", \"Topic2\", \"Topic2\", \"Topic2\", \"Topic2\", \"Topic2\", \"Topic2\", \"Topic2\", \"Topic2\", \"Topic2\", \"Topic2\", \"Topic2\", \"Topic2\", \"Topic2\", \"Topic3\", \"Topic3\", \"Topic3\", \"Topic3\", \"Topic3\", \"Topic3\", \"Topic3\", \"Topic3\", \"Topic3\", \"Topic3\", \"Topic3\", \"Topic3\", \"Topic3\", \"Topic3\", \"Topic3\", \"Topic3\", \"Topic3\", \"Topic3\", \"Topic3\", \"Topic3\", \"Topic3\", \"Topic3\", \"Topic3\", \"Topic3\", \"Topic3\", \"Topic3\", \"Topic3\", \"Topic3\", \"Topic3\", \"Topic3\", \"Topic3\", \"Topic3\", \"Topic3\", \"Topic3\", \"Topic3\", \"Topic3\", \"Topic3\", \"Topic3\", \"Topic3\", \"Topic4\", \"Topic4\", \"Topic4\", \"Topic4\", \"Topic4\", \"Topic4\", \"Topic4\", \"Topic4\", \"Topic4\", \"Topic4\", \"Topic4\", \"Topic4\", \"Topic4\", \"Topic4\", \"Topic4\", \"Topic4\", \"Topic4\", \"Topic4\", \"Topic4\", \"Topic4\", \"Topic4\", \"Topic4\", \"Topic4\", \"Topic4\", \"Topic4\", \"Topic4\", \"Topic4\", \"Topic4\", \"Topic4\", \"Topic4\", \"Topic4\"], \"logprob\": [30.0, 29.0, 28.0, 27.0, 26.0, 25.0, 24.0, 23.0, 22.0, 21.0, 20.0, 19.0, 18.0, 17.0, 16.0, 15.0, 14.0, 13.0, 12.0, 11.0, 10.0, 9.0, 8.0, 7.0, 6.0, 5.0, 4.0, 3.0, 2.0, 1.0, -3.762700080871582, -4.030799865722656, -4.030799865722656, -4.396299839019775, -4.39769983291626, -4.397900104522705, -4.397900104522705, -4.398200035095215, -4.398900032043457, -4.399700164794922, -4.984099864959717, -4.984099864959717, -4.984099864959717, -4.984099864959717, -4.984099864959717, -4.984099864959717, -4.984099864959717, -4.984099864959717, -4.984099864959717, -4.984099864959717, -4.984099864959717, -4.984099864959717, -4.984099864959717, -4.984099864959717, -4.984099864959717, -4.984099864959717, -4.984099864959717, -4.984099864959717, -4.984099864959717, -4.984099864959717, -4.028500080108643, -4.028600215911865, -4.029900074005127, -4.396100044250488, -4.39739990234375, -4.398099899291992, -4.399099826812744, -4.397900104522705, -4.983699798583984, -4.983699798583984, -4.983799934387207, -4.983799934387207, -4.984099864959717, -4.984099864959717, -4.984099864959717, -4.984099864959717, -4.984099864959717, -4.984099864959717, -3.869499921798706, -4.237199783325195, -4.237199783325195, -4.238900184631348, -4.239200115203857, -4.239500045776367, -4.240699768066406, -4.824999809265137, -4.824999809265137, -4.824999809265137, -4.824999809265137, -4.824999809265137, -4.824999809265137, -4.824999809265137, -4.824999809265137, -4.824999809265137, -4.824999809265137, -4.824999809265137, -4.824999809265137, -4.824999809265137, -4.824999809265137, -4.824999809265137, -4.824999809265137, -4.825099945068359, -4.825099945068359, -4.825099945068359, -4.825099945068359, -4.8256001472473145, -4.8256001472473145, -4.825699806213379, -4.237199783325195, -4.238800048828125, -4.239699840545654, -4.237800121307373, -4.23799991607666, -4.821700096130371, -4.821899890899658, -4.821899890899658, -4.822700023651123, -4.824399948120117, -4.824399948120117, -4.82450008392334, -4.824900150299072, -4.824999809265137, -4.824999809265137, -3.643899917602539, -4.007800102233887, -4.010799884796143, -4.011600017547607, -4.011600017547607, -4.595600128173828, -4.595600128173828, -4.595600128173828, -4.595600128173828, -4.595600128173828, -4.595600128173828, -4.595600128173828, -4.595600128173828, -4.597799777984619, -4.5980000495910645, -4.5980000495910645, -4.598199844360352, -4.598100185394287, -4.598199844360352, -4.598199844360352, -4.598199844360352, -4.598299980163574, -4.598400115966797, -4.598400115966797, -4.598400115966797, -4.598499774932861, -4.598499774932861, -4.598499774932861, -4.598499774932861, -4.598599910736084, -4.006999969482422, -3.6398000717163086, -4.592800140380859, -4.592599868774414, -4.595600128173828, -4.595699787139893, -4.596099853515625, -4.596399784088135, -4.597400188446045, -4.275899887084961, -4.276000022888184, -4.276100158691406, -4.276100158691406, -4.276199817657471, -4.276199817657471, -4.276199817657471, -4.276299953460693, -4.276299953460693, -4.276299953460693, -4.276299953460693, -4.276400089263916, -4.276400089263916, -4.276400089263916, -4.276400089263916, -4.276400089263916, -4.276400089263916, -4.276500225067139, -4.276500225067139, -4.276500225067139, -4.276599884033203, -4.276700019836426, -4.276899814605713, -3.6872000694274902, -4.2729997634887695, -4.2758002281188965, -4.276400089263916, -4.276500225067139, -4.276599884033203, -4.276700019836426, -4.275599956512451], \"loglift\": [30.0, 29.0, 28.0, 27.0, 26.0, 25.0, 24.0, 23.0, 22.0, 21.0, 20.0, 19.0, 18.0, 17.0, 16.0, 15.0, 14.0, 13.0, 12.0, 11.0, 10.0, 9.0, 8.0, 7.0, 6.0, 5.0, 4.0, 3.0, 2.0, 1.0, 0.8205000162124634, 0.7857000231742859, 0.7854999899864197, 0.7246000170707703, 0.7232999801635742, 0.7232000231742859, 0.7229999899864197, 0.7228999733924866, 0.722100019454956, 0.7214999794960022, 0.5771999955177307, 0.5771999955177307, 0.5771999955177307, 0.5771999955177307, 0.5771999955177307, 0.5771999955177307, 0.5771999955177307, 0.5771999955177307, 0.5771999955177307, 0.5771999955177307, 0.5770999789237976, 0.5770999789237976, 0.5770999789237976, 0.5770999789237976, 0.5770999789237976, 0.5770999789237976, 0.5770999789237976, 0.5770999789237976, 0.5770999789237976, 0.5770999789237976, 0.5709999799728394, 0.5709999799728394, 0.4165000021457672, 0.47909998893737793, 0.24940000474452972, 0.24869999289512634, 0.2176000028848648, 0.01810000091791153, 0.21809999644756317, -0.31929999589920044, -0.12300000339746475, 0.21789999306201935, 0.32170000672340393, 0.16539999842643738, 0.32170000672340393, 0.21739999949932098, 0.1655000001192093, 0.1655000001192093, 1.0108000040054321, 0.9415000081062317, 0.9415000081062317, 0.9399999976158142, 0.9397000074386597, 0.9394999742507935, 0.9383999705314636, 0.7809000015258789, 0.7809000015258789, 0.7809000015258789, 0.7809000015258789, 0.7809000015258789, 0.7809000015258789, 0.7809000015258789, 0.7809000015258789, 0.7807999849319458, 0.7807999849319458, 0.7807999849319458, 0.7807999849319458, 0.7807999849319458, 0.7807999849319458, 0.7807999849319458, 0.7807999849319458, 0.7807999849319458, 0.7807999849319458, 0.7807999849319458, 0.7807999849319458, 0.7803000211715698, 0.7803000211715698, 0.7802000045776367, 0.6212999820709229, 0.6201000213623047, 0.6190000176429749, 0.42660000920295715, 0.37860000133514404, 0.3278000056743622, -0.37549999356269836, 0.32749998569488525, -0.17589999735355377, 0.32519999146461487, 0.32510000467300415, 0.32510000467300415, -0.17810000479221344, 0.3246000111103058, 0.5151000022888184, 1.3609000444412231, 1.2812000513076782, 1.2788000106811523, 1.2782000303268433, 1.2782000303268433, 1.0937000513076782, 1.0937000513076782, 1.0937000513076782, 1.0937000513076782, 1.0937000513076782, 1.0937000513076782, 1.0937000513076782, 1.0937000513076782, 1.0917999744415283, 1.0916999578475952, 1.0916999578475952, 1.091599941253662, 1.091599941253662, 1.091599941253662, 1.0915000438690186, 1.0915000438690186, 1.0914000272750854, 1.0914000272750854, 1.0914000272750854, 1.0914000272750854, 1.0913000106811523, 1.0913000106811523, 1.0913000106811523, 1.0913000106811523, 1.0911999940872192, 1.0817999839782715, 0.776199996471405, 0.6398000121116638, 0.05420000106096268, 0.6057999730110168, -0.14920000731945038, 0.6057999730110168, 0.26429998874664307, 0.06700000166893005, 1.5894999504089355, 1.589400053024292, 1.5893000364303589, 1.5893000364303589, 1.5892000198364258, 1.5892000198364258, 1.5891000032424927, 1.5891000032424927, 1.5891000032424927, 1.5891000032424927, 1.5889999866485596, 1.5889999866485596, 1.5889999866485596, 1.5888999700546265, 1.5888999700546265, 1.5888999700546265, 1.5888999700546265, 1.5887999534606934, 1.5887999534606934, 1.5887999534606934, 1.5887000560760498, 1.5886000394821167, 1.5882999897003174, 1.1735999584197998, 1.13100004196167, 1.0644999742507935, 1.0636999607086182, 1.0291999578475952, 1.029099941253662, 0.8120999932289124, 0.1404000073671341]}, \"token.table\": {\"Topic\": [1, 1, 1, 3, 3, 1, 1, 2, 1, 1, 3, 2, 3, 1, 2, 2, 1, 1, 1, 1, 3, 1, 3, 2, 1, 2, 2, 1, 3, 1, 3, 2, 3, 2, 2, 2, 1, 2, 1, 2, 1, 3, 2, 1, 3, 3, 1, 1, 2, 1, 2, 3, 2, 1, 3, 2, 3, 3, 2, 3, 3, 2, 3, 3, 1, 3, 3, 2, 1, 2, 1, 2, 1, 2, 3, 3, 3, 3, 3, 3, 2, 3, 1, 2, 1, 2, 2, 2, 2, 1, 1, 1, 1, 2, 1, 1, 2, 1, 2, 1, 2, 2, 2, 1, 2, 1, 2, 1, 3, 1, 2, 1, 2, 3, 1, 2, 3, 1, 3, 1, 1, 3, 2, 3, 1, 1, 3, 1, 3, 4, 1, 1, 2, 3, 3, 1, 2, 1, 1, 2, 2, 3, 1, 2, 3, 3, 2, 3, 2, 1, 2, 1, 2, 3, 2], \"Freq\": [0.8104267120361328, 0.8104254603385925, 0.810425877571106, 0.9211912751197815, 0.5052700042724609, 0.8104271292686462, 0.4014320373535156, 0.4014320373535156, 0.810425877571106, 0.5655277371406555, 0.5655277371406555, 0.8474836945533752, 0.692495584487915, 0.6277011632919312, 0.5529695153236389, 0.8474243879318237, 0.8104279637336731, 0.8104261755943298, 0.8104256391525269, 0.5656827092170715, 0.5656827092170715, 0.810427188873291, 0.9215664267539978, 0.5528225302696228, 0.8104255795478821, 0.8474236726760864, 0.649680495262146, 0.8104254007339478, 0.921578586101532, 0.9142932295799255, 0.9291383028030396, 0.8474266529083252, 0.9215987920761108, 0.8474238514900208, 0.8474265933036804, 0.8474234342575073, 0.6195392608642578, 0.3097696304321289, 0.8104268312454224, 0.8474233150482178, 1.04366135597229, 0.9211907386779785, 0.8474236726760864, 1.04386568069458, 0.9215831160545349, 0.9211912751197815, 0.8104274272918701, 0.8104274272918701, 0.6497712731361389, 0.5369002223014832, 0.5369002223014832, 0.9211911559104919, 0.5530490279197693, 0.5657348036766052, 0.5657348036766052, 0.8474234342575073, 0.921190619468689, 0.9211911559104919, 0.8474754691123962, 0.9215202331542969, 0.921653687953949, 0.8474234938621521, 0.6177891492843628, 0.9215268492698669, 0.8161805272102356, 0.4080902636051178, 0.6176183819770813, 0.8474266529083252, 0.5369622707366943, 0.5369622707366943, 0.5369361639022827, 0.5369361639022827, 0.6495088338851929, 0.32475441694259644, 0.32475441694259644, 0.9215489029884338, 0.617321789264679, 0.921479344367981, 0.921618640422821, 0.9215213656425476, 0.5834130644798279, 0.5834130644798279, 0.5369187593460083, 0.5369187593460083, 0.5369039177894592, 0.5369039177894592, 0.8474236726760864, 0.8474234938621521, 0.8474236130714417, 1.0435965061187744, 1.0435768365859985, 0.627693772315979, 0.630272626876831, 0.3151363134384155, 1.0437088012695312, 0.5368823409080505, 0.5368823409080505, 0.8104274272918701, 0.8474746942520142, 0.6195371747016907, 0.30976858735084534, 0.8474239110946655, 0.8474239110946655, 0.4013477861881256, 0.4013477861881256, 1.0437413454055786, 0.8474267721176147, 0.7696477770805359, 0.9211912751197815, 0.8104261755943298, 0.8474236130714417, 0.33054110407829285, 0.33054110407829285, 0.33054110407829285, 0.5369731783866882, 0.5369731783866882, 0.9215145707130432, 0.8104249238967896, 0.9215390682220459, 0.769533097743988, 0.5658222436904907, 0.5658222436904907, 0.8474240303039551, 0.9215807914733887, 0.8104268908500671, 0.5156729817390442, 0.5156729817390442, 0.402245432138443, 0.402245432138443, 0.402245432138443, 1.0434906482696533, 0.5316126346588135, 0.26580631732940674, 0.26580631732940674, 0.9211915731430054, 0.5369897484779358, 0.5369897484779358, 0.8104254007339478, 0.4014841914176941, 0.4014841914176941, 0.8474233150482178, 0.9216357469558716, 0.5369348526000977, 0.5369348526000977, 0.921507716178894, 0.92157381772995, 0.5529293417930603, 0.6177671551704407, 0.552950382232666, 0.8104261159896851, 0.5528232455253601, 0.6495351195335388, 0.3247675597667694, 0.3247675597667694, 0.8204297423362732], \"Term\": [\"accustic\", \"ago\", \"anymore\", \"arabic\", \"atmosphere\", \"average\", \"awful\", \"awful\", \"believe\", \"big\", \"big\", \"bill\", \"chair\", \"change\", \"charge\", \"chicken\", \"choose\", \"company\", \"complain\", \"conversation\", \"conversation\", \"customer\", \"cut\", \"date\", \"decent\", \"decline\", \"decor\", \"demand\", \"desire\", \"dip\", \"disappointing\", \"drop\", \"dry\", \"eatery\", \"either\", \"enormously\", \"even\", \"even\", \"expectation\", \"extremely\", \"falafel\", \"favorite\", \"favourite\", \"fresh\", \"fridge\", \"friend\", \"get\", \"give\", \"go\", \"great\", \"great\", \"group\", \"happen\", \"however\", \"however\", \"hygiene\", \"impress\", \"interesting\", \"isthere\", \"knife\", \"large\", \"last\", \"leave\", \"limp\", \"long\", \"long\", \"lot\", \"low\", \"meat\", \"meat\", \"menu\", \"menu\", \"much\", \"much\", \"much\", \"need\", \"nicosia\", \"noise\", \"oil\", \"oily\", \"one\", \"one\", \"order\", \"order\", \"overall\", \"overall\", \"par\", \"particularly\", \"past\", \"pay\", \"person\", \"pity\", \"place\", \"place\", \"poor\", \"portion\", \"portion\", \"presentation\", \"pressured\", \"price\", \"price\", \"priority\", \"prone\", \"quality\", \"quality\", \"really\", \"rediculously\", \"salad\", \"say\", \"selective\", \"sense\", \"service\", \"service\", \"service\", \"sit\", \"sit\", \"solve\", \"sorry\", \"space\", \"special\", \"spicy\", \"spicy\", \"sub\", \"sun\", \"super\", \"syrian\", \"syrian\", \"table\", \"table\", \"table\", \"take\", \"taste\", \"taste\", \"taste\", \"tasty\", \"tell\", \"tell\", \"terrible\", \"thing\", \"thing\", \"think\", \"throw\", \"time\", \"time\", \"tirokafteri\", \"tomato\", \"top\", \"tough\", \"try\", \"unacceptable\", \"use\", \"visit\", \"visit\", \"visit\", \"year\"]}, \"R\": 30, \"lambda.step\": 0.01, \"plot.opts\": {\"xlab\": \"PC1\", \"ylab\": \"PC2\"}, \"topic.order\": [4, 3, 1, 2]};\n",
       "\n",
       "function LDAvis_load_lib(url, callback){\n",
       "  var s = document.createElement('script');\n",
       "  s.src = url;\n",
       "  s.async = true;\n",
       "  s.onreadystatechange = s.onload = callback;\n",
       "  s.onerror = function(){console.warn(\"failed to load library \" + url);};\n",
       "  document.getElementsByTagName(\"head\")[0].appendChild(s);\n",
       "}\n",
       "\n",
       "if(typeof(LDAvis) !== \"undefined\"){\n",
       "   // already loaded: just create the visualization\n",
       "   !function(LDAvis){\n",
       "       new LDAvis(\"#\" + \"ldavis_el456814795303006168304905657\", ldavis_el456814795303006168304905657_data);\n",
       "   }(LDAvis);\n",
       "}else if(typeof define === \"function\" && define.amd){\n",
       "   // require.js is available: use it to load d3/LDAvis\n",
       "   require.config({paths: {d3: \"https://cdnjs.cloudflare.com/ajax/libs/d3/3.5.5/d3.min\"}});\n",
       "   require([\"d3\"], function(d3){\n",
       "      window.d3 = d3;\n",
       "      LDAvis_load_lib(\"https://cdn.rawgit.com/bmabey/pyLDAvis/files/ldavis.v1.0.0.js\", function(){\n",
       "        new LDAvis(\"#\" + \"ldavis_el456814795303006168304905657\", ldavis_el456814795303006168304905657_data);\n",
       "      });\n",
       "    });\n",
       "}else{\n",
       "    // require.js not available: dynamically load d3 & LDAvis\n",
       "    LDAvis_load_lib(\"https://cdnjs.cloudflare.com/ajax/libs/d3/3.5.5/d3.min.js\", function(){\n",
       "         LDAvis_load_lib(\"https://cdn.rawgit.com/bmabey/pyLDAvis/files/ldavis.v1.0.0.js\", function(){\n",
       "                 new LDAvis(\"#\" + \"ldavis_el456814795303006168304905657\", ldavis_el456814795303006168304905657_data);\n",
       "            })\n",
       "         });\n",
       "}\n",
       "</script>"
      ],
      "text/plain": [
       "PreparedData(topic_coordinates=              x         y  topics  cluster       Freq\n",
       "topic                                                \n",
       "3     -0.097748 -0.065091       1        1  38.832848\n",
       "2     -0.046844  0.119961       2        1  30.508888\n",
       "0      0.088637 -0.082069       3        1  20.609720\n",
       "1      0.055955  0.027199       4        1  10.048540, topic_info=              Term      Freq     Total Category  logprob  loglift\n",
       "12           table  2.000000  2.000000  Default  30.0000  30.0000\n",
       "23   disappointing  2.000000  2.000000  Default  29.0000  29.0000\n",
       "100         syrian  3.000000  3.000000  Default  28.0000  28.0000\n",
       "90      atmosphere  1.000000  1.000000  Default  27.0000  27.0000\n",
       "88            year  2.000000  2.000000  Default  26.0000  26.0000\n",
       "..             ...       ...       ...      ...      ...      ...\n",
       "133          decor  0.448108  1.539218   Topic4  -4.2764   1.0637\n",
       "3           change  0.448066  1.593115   Topic4  -4.2765   1.0292\n",
       "9             pity  0.448030  1.593134   Topic4  -4.2766   1.0291\n",
       "90      atmosphere  0.447973  1.979140   Topic4  -4.2767   0.8121\n",
       "100         syrian  0.448488  3.878427   Topic4  -4.2756   0.1404\n",
       "\n",
       "[193 rows x 6 columns], token_table=      Topic      Freq        Term\n",
       "term                             \n",
       "0         1  0.810427    accustic\n",
       "1         1  0.810425         ago\n",
       "2         1  0.810426     anymore\n",
       "89        3  0.921191      arabic\n",
       "90        3  0.505270  atmosphere\n",
       "...     ...       ...         ...\n",
       "211       2  0.552823         use\n",
       "16        1  0.649535       visit\n",
       "16        2  0.324768       visit\n",
       "16        3  0.324768       visit\n",
       "88        2  0.820430        year\n",
       "\n",
       "[155 rows x 3 columns], R=30, lambda_step=0.01, plot_opts={'xlab': 'PC1', 'ylab': 'PC2'}, topic_order=[4, 3, 1, 2])"
      ]
     },
     "metadata": {},
     "output_type": "display_data"
    }
   ],
   "source": [
    "plot_model(lda_neg_custom, plot ='topic_model')"
   ]
  },
  {
   "cell_type": "code",
   "execution_count": null,
   "metadata": {},
   "outputs": [],
   "source": []
  },
  {
   "cell_type": "code",
   "execution_count": null,
   "metadata": {},
   "outputs": [],
   "source": []
  }
 ],
 "metadata": {
  "kernelspec": {
   "display_name": "Python 3",
   "language": "python",
   "name": "python3"
  },
  "language_info": {
   "codemirror_mode": {
    "name": "ipython",
    "version": 3
   },
   "file_extension": ".py",
   "mimetype": "text/x-python",
   "name": "python",
   "nbconvert_exporter": "python",
   "pygments_lexer": "ipython3",
   "version": "3.7.4"
  },
  "widgets": {
   "application/vnd.jupyter.widget-state+json": {
    "state": {
     "0117c18961784440b5d8753007486595": {
      "model_module": "@jupyter-widgets/base",
      "model_module_version": "1.2.0",
      "model_name": "LayoutModel",
      "state": {}
     },
     "011d55cba1d2424b9b3535f3f6304d6a": {
      "model_module": "@jupyter-widgets/controls",
      "model_module_version": "1.5.0",
      "model_name": "DescriptionStyleModel",
      "state": {
       "description_width": ""
      }
     },
     "0373170d28414abead8ee7b1e80ca1e1": {
      "model_module": "@jupyter-widgets/base",
      "model_module_version": "1.2.0",
      "model_name": "LayoutModel",
      "state": {}
     },
     "0764c20174304f3e9df4de4a9740120c": {
      "model_module": "@jupyter-widgets/base",
      "model_module_version": "1.2.0",
      "model_name": "LayoutModel",
      "state": {}
     },
     "07cadb2a40d44b9c82d27537c72ea0b7": {
      "model_module": "@jupyter-widgets/controls",
      "model_module_version": "1.5.0",
      "model_name": "IntProgressModel",
      "state": {
       "description": "Processing: ",
       "layout": "IPY_MODEL_374d9a1bae56432c95465d275e0f0edf",
       "max": 870,
       "style": "IPY_MODEL_97e9ddff3e324cafbe45798124f3620f",
       "value": 870
      }
     },
     "08aa6aa0ef6447a0bdc4244114ce3161": {
      "model_module": "@jupyter-widgets/controls",
      "model_module_version": "1.5.0",
      "model_name": "ToggleButtonsModel",
      "state": {
       "_options_labels": [
        "Frequency Plot",
        "Bigrams",
        "Trigrams",
        "Sentiment Polarity",
        "Word Cloud"
       ],
       "button_style": "",
       "description": "Plot Type:",
       "icons": [
        ""
       ],
       "index": 0,
       "layout": "IPY_MODEL_ec2ee32df4b34e6d91cb958ada69ae44",
       "style": "IPY_MODEL_a742a2a945db42c3a75be1bb9b816ab1",
       "tooltips": []
      }
     },
     "08e8d8e39f4440d49e27f90ccb39ca91": {
      "model_module": "@jupyter-widgets/base",
      "model_module_version": "1.2.0",
      "model_name": "LayoutModel",
      "state": {}
     },
     "09733c562d1348feab4b8e9135b545b8": {
      "model_module": "@jupyter-widgets/controls",
      "model_module_version": "1.5.0",
      "model_name": "ProgressStyleModel",
      "state": {
       "description_width": ""
      }
     },
     "09875ed6ea6648dfaf28dd3ba9e100dd": {
      "model_module": "@jupyter-widgets/base",
      "model_module_version": "1.2.0",
      "model_name": "LayoutModel",
      "state": {}
     },
     "09da599d43ae45bc8c6dee91524cd7b5": {
      "model_module": "@jupyter-widgets/controls",
      "model_module_version": "1.5.0",
      "model_name": "IntProgressModel",
      "state": {
       "description": "Processing: ",
       "layout": "IPY_MODEL_c19dd1e299d540e6b565a1ce24abb292",
       "max": 4,
       "style": "IPY_MODEL_a34fb008861f46e496add1a395f98c5c",
       "value": 4
      }
     },
     "0b344abf71a24150aa935a7f913cbea4": {
      "model_module": "@jupyter-widgets/base",
      "model_module_version": "1.2.0",
      "model_name": "LayoutModel",
      "state": {}
     },
     "0c66ab04e33b42c9bde43f9096e72993": {
      "model_module": "@jupyter-widgets/base",
      "model_module_version": "1.2.0",
      "model_name": "LayoutModel",
      "state": {}
     },
     "0ca41fee96084ec6b860c2c557524953": {
      "model_module": "@jupyter-widgets/controls",
      "model_module_version": "1.5.0",
      "model_name": "ButtonModel",
      "state": {
       "description": "Run Interact",
       "layout": "IPY_MODEL_e3cae36ab6d443e6bf117d901b58f5d5",
       "style": "IPY_MODEL_f9a5a98739fa4ba6a81df3a08ed82c5a"
      }
     },
     "0cc5da2e312e40de8682a7fc343208dd": {
      "model_module": "@jupyter-widgets/controls",
      "model_module_version": "1.5.0",
      "model_name": "ProgressStyleModel",
      "state": {
       "description_width": ""
      }
     },
     "0db6eb636e3846ae9c7311a0242e7c96": {
      "model_module": "@jupyter-widgets/base",
      "model_module_version": "1.2.0",
      "model_name": "LayoutModel",
      "state": {}
     },
     "0e8fea0b79e245859bbb5e40c0241525": {
      "model_module": "@jupyter-widgets/controls",
      "model_module_version": "1.5.0",
      "model_name": "ProgressStyleModel",
      "state": {
       "description_width": ""
      }
     },
     "0f6c8ac6d1f846068fb9281665654538": {
      "model_module": "@jupyter-widgets/controls",
      "model_module_version": "1.5.0",
      "model_name": "ProgressStyleModel",
      "state": {
       "description_width": ""
      }
     },
     "1198a964cca548019a74dd779a581444": {
      "model_module": "@jupyter-widgets/controls",
      "model_module_version": "1.5.0",
      "model_name": "IntProgressModel",
      "state": {
       "description": "Processing: ",
       "layout": "IPY_MODEL_23c2129d6e4b4e60aea46e684ef74565",
       "max": 48,
       "style": "IPY_MODEL_36da061b06cd4ee99e00182a6e9ce4bc",
       "value": 48
      }
     },
     "125c99e83f704685bfb89f907ade2fa7": {
      "model_module": "@jupyter-widgets/base",
      "model_module_version": "1.2.0",
      "model_name": "LayoutModel",
      "state": {}
     },
     "14e074f71fd342fca47034ca4a825b51": {
      "model_module": "@jupyter-widgets/base",
      "model_module_version": "1.2.0",
      "model_name": "LayoutModel",
      "state": {}
     },
     "14e6ec2ea7e14054810148b216201d6b": {
      "model_module": "@jupyter-widgets/controls",
      "model_module_version": "1.5.0",
      "model_name": "IntProgressModel",
      "state": {
       "description": "Processing: ",
       "layout": "IPY_MODEL_d1261151d6a241c2be4de1ba33f52b2a",
       "max": 870,
       "style": "IPY_MODEL_c7d2734dbf3f49eeaf3de24042d97c77",
       "value": 870
      }
     },
     "161d3ee7408a4de3b183655f24ccb534": {
      "model_module": "@jupyter-widgets/controls",
      "model_module_version": "1.5.0",
      "model_name": "ProgressStyleModel",
      "state": {
       "description_width": ""
      }
     },
     "16e9e2a08a3f427ca590447071eb82e0": {
      "model_module": "@jupyter-widgets/base",
      "model_module_version": "1.2.0",
      "model_name": "LayoutModel",
      "state": {}
     },
     "1710c717bd8445f3a5810ec5bd6f44cb": {
      "model_module": "@jupyter-widgets/controls",
      "model_module_version": "1.5.0",
      "model_name": "ProgressStyleModel",
      "state": {
       "description_width": ""
      }
     },
     "17918aac13614c9294221adfef9f1907": {
      "model_module": "@jupyter-widgets/controls",
      "model_module_version": "1.5.0",
      "model_name": "IntProgressModel",
      "state": {
       "description": "Processing: ",
       "layout": "IPY_MODEL_ec27026dd7434ab3a8fd3300a6f6c0df",
       "max": 870,
       "style": "IPY_MODEL_367873095006426c9e320950f7b4ae8d",
       "value": 870
      }
     },
     "192d8afedf20450eb270e406abe64e0e": {
      "model_module": "@jupyter-widgets/controls",
      "model_module_version": "1.5.0",
      "model_name": "IntProgressModel",
      "state": {
       "description": "Processing: ",
       "layout": "IPY_MODEL_2ade8d5999e24b38aa950416d69b90b6",
       "max": 48,
       "style": "IPY_MODEL_cdf17ecba82143e5a3e9de5fecc3a1ff",
       "value": 48
      }
     },
     "1a19b13730c34adb8ac3f3e6fcc55655": {
      "model_module": "@jupyter-widgets/controls",
      "model_module_version": "1.5.0",
      "model_name": "ProgressStyleModel",
      "state": {
       "description_width": ""
      }
     },
     "1a44e97fbbe94591bf4aad7f63cc012a": {
      "model_module": "@jupyter-widgets/base",
      "model_module_version": "1.2.0",
      "model_name": "LayoutModel",
      "state": {}
     },
     "1b08de3ef7aa4b4384a1e311af2322ba": {
      "model_module": "@jupyter-widgets/controls",
      "model_module_version": "1.5.0",
      "model_name": "ProgressStyleModel",
      "state": {
       "description_width": ""
      }
     },
     "1c9056f33a1a44b480d6146ec57c5394": {
      "model_module": "@jupyter-widgets/base",
      "model_module_version": "1.2.0",
      "model_name": "LayoutModel",
      "state": {}
     },
     "1cd42b32b75a46dcaeea4756c5638425": {
      "model_module": "@jupyter-widgets/controls",
      "model_module_version": "1.5.0",
      "model_name": "ProgressStyleModel",
      "state": {
       "description_width": ""
      }
     },
     "1da79ec76dd64bfc8614901e6b5f0330": {
      "model_module": "@jupyter-widgets/controls",
      "model_module_version": "1.5.0",
      "model_name": "IntProgressModel",
      "state": {
       "description": "Processing: ",
       "layout": "IPY_MODEL_f99bff09f5564cecb7aac86ee3ba30f0",
       "max": 48,
       "style": "IPY_MODEL_bf25e802d4f34cbd8a1157570c911d56",
       "value": 48
      }
     },
     "1f0483d3c33345778b9899b758906692": {
      "model_module": "@jupyter-widgets/controls",
      "model_module_version": "1.5.0",
      "model_name": "IntProgressModel",
      "state": {
       "description": "Processing: ",
       "layout": "IPY_MODEL_7b0513ed1df24cb6ac19ec71eebd739b",
       "max": 4,
       "style": "IPY_MODEL_6eca3fee38aa49eaa15618e2c784e7ef",
       "value": 4
      }
     },
     "20e5fd6a0069454fafd326e0b2c6874e": {
      "model_module": "@jupyter-widgets/controls",
      "model_module_version": "1.5.0",
      "model_name": "IntProgressModel",
      "state": {
       "description": "Processing: ",
       "layout": "IPY_MODEL_9f25d12341b64552868de4dabd7bb506",
       "max": 4,
       "style": "IPY_MODEL_caa659819c434f14a218de71ea5e9920",
       "value": 4
      }
     },
     "214f5c9d01af4e3280d72e111805b628": {
      "model_module": "@jupyter-widgets/controls",
      "model_module_version": "1.5.0",
      "model_name": "IntProgressModel",
      "state": {
       "description": "Processing: ",
       "layout": "IPY_MODEL_e08b19f5eb244d1db0b11de26a4f32c2",
       "max": 870,
       "style": "IPY_MODEL_e6faccfc6fd544afa2637f5003bf7d9a",
       "value": 870
      }
     },
     "21f73cd0eb41414ba504f5427afc948b": {
      "model_module": "@jupyter-widgets/base",
      "model_module_version": "1.2.0",
      "model_name": "LayoutModel",
      "state": {}
     },
     "22df95c90c8f4280af2639447b493322": {
      "model_module": "@jupyter-widgets/controls",
      "model_module_version": "1.5.0",
      "model_name": "IntProgressModel",
      "state": {
       "description": "Processing: ",
       "layout": "IPY_MODEL_08e8d8e39f4440d49e27f90ccb39ca91",
       "max": 48,
       "style": "IPY_MODEL_0e8fea0b79e245859bbb5e40c0241525",
       "value": 48
      }
     },
     "2307265549e1422c90e209ab9fac75d9": {
      "model_module": "@jupyter-widgets/base",
      "model_module_version": "1.2.0",
      "model_name": "LayoutModel",
      "state": {}
     },
     "23c2129d6e4b4e60aea46e684ef74565": {
      "model_module": "@jupyter-widgets/base",
      "model_module_version": "1.2.0",
      "model_name": "LayoutModel",
      "state": {}
     },
     "23ed8d269a2b44afaef219e7a53bc0a6": {
      "model_module": "@jupyter-widgets/controls",
      "model_module_version": "1.5.0",
      "model_name": "DropdownModel",
      "state": {
       "_options_labels": [
        "Topic 0",
        "Topic 1",
        "Topic 2",
        "Topic 3"
       ],
       "description": "Topic #:",
       "index": 3,
       "layout": "IPY_MODEL_33eb2b1b8bb14719ba8a21393bcd7130",
       "style": "IPY_MODEL_fa30d12576524391bd1a84daf0e5e3e2"
      }
     },
     "25083cc1971945d7bc6bc8bef8f5913a": {
      "model_module": "@jupyter-widgets/controls",
      "model_module_version": "1.5.0",
      "model_name": "IntProgressModel",
      "state": {
       "description": "Processing: ",
       "layout": "IPY_MODEL_c45c5a4d34b4456884f58bb925af73f9",
       "max": 870,
       "style": "IPY_MODEL_ae2910a0461b4c3981e9225276dea5c2",
       "value": 870
      }
     },
     "26f02ce620224ea8a80f62d026ec1419": {
      "model_module": "@jupyter-widgets/controls",
      "model_module_version": "1.5.0",
      "model_name": "ProgressStyleModel",
      "state": {
       "description_width": ""
      }
     },
     "283c6fb0bef0443d8e6420eca0655ce4": {
      "model_module": "@jupyter-widgets/controls",
      "model_module_version": "1.5.0",
      "model_name": "IntProgressModel",
      "state": {
       "description": "Processing: ",
       "layout": "IPY_MODEL_934bc2eb15ec404c9b98c481e126b7ac",
       "max": 4,
       "style": "IPY_MODEL_9c60033ee0d74e949a5e8bbb2ad1aca6",
       "value": 4
      }
     },
     "283fc5c6b2514ea2b9ac077137ff3078": {
      "model_module": "@jupyter-widgets/controls",
      "model_module_version": "1.5.0",
      "model_name": "IntProgressModel",
      "state": {
       "description": "Processing: ",
       "layout": "IPY_MODEL_f471eca31f6e48c1bd81b6d2d26b8b72",
       "max": 4,
       "style": "IPY_MODEL_4447fae23ca74ff987b96e31f0ca8c64",
       "value": 4
      }
     },
     "2ade8d5999e24b38aa950416d69b90b6": {
      "model_module": "@jupyter-widgets/base",
      "model_module_version": "1.2.0",
      "model_name": "LayoutModel",
      "state": {}
     },
     "2b987b17499247a58f0f89886a90de49": {
      "model_module": "@jupyter-widgets/controls",
      "model_module_version": "1.5.0",
      "model_name": "IntProgressModel",
      "state": {
       "description": "Processing: ",
       "layout": "IPY_MODEL_a83a1065e8ea46f79cd22b93a05f9934",
       "max": 4,
       "style": "IPY_MODEL_09733c562d1348feab4b8e9135b545b8",
       "value": 4
      }
     },
     "2bb1a14617cf4d9dafd97b6ea9f6b467": {
      "model_module": "@jupyter-widgets/controls",
      "model_module_version": "1.5.0",
      "model_name": "IntProgressModel",
      "state": {
       "description": "Processing: ",
       "layout": "IPY_MODEL_21f73cd0eb41414ba504f5427afc948b",
       "max": 870,
       "style": "IPY_MODEL_1a19b13730c34adb8ac3f3e6fcc55655",
       "value": 870
      }
     },
     "2bd9437396b44d9b9119d03a87f910cd": {
      "model_module": "@jupyter-widgets/controls",
      "model_module_version": "1.5.0",
      "model_name": "IntProgressModel",
      "state": {
       "description": "Processing: ",
       "layout": "IPY_MODEL_0c66ab04e33b42c9bde43f9096e72993",
       "max": 4,
       "style": "IPY_MODEL_ebc411cffcd441f08ebce6e23bb4561b",
       "value": 4
      }
     },
     "31b3baafeb774a7cbac7db870aa9dd74": {
      "model_module": "@jupyter-widgets/base",
      "model_module_version": "1.2.0",
      "model_name": "LayoutModel",
      "state": {}
     },
     "31cc43fcacf44bd492789694ad981918": {
      "model_module": "@jupyter-widgets/controls",
      "model_module_version": "1.5.0",
      "model_name": "ButtonModel",
      "state": {
       "description": "Run Interact",
       "layout": "IPY_MODEL_df6710eb9bd64e1399f6eb85417e19bc",
       "style": "IPY_MODEL_e804e8b8e49742c7b794eb645e9cfbb7"
      }
     },
     "322c4bab47e543bb86e141cc5dd3babe": {
      "model_module": "@jupyter-widgets/controls",
      "model_module_version": "1.5.0",
      "model_name": "VBoxModel",
      "state": {
       "_dom_classes": [
        "widget-interact"
       ],
       "children": [
        "IPY_MODEL_f0aa0b72c5d34fd6b0fdec52b7bc6792",
        "IPY_MODEL_b60e569c302f4aed9a592d920bb1d704",
        "IPY_MODEL_31cc43fcacf44bd492789694ad981918",
        "IPY_MODEL_937c0719026c43d2b1b5d22fa0f42fb5"
       ],
       "layout": "IPY_MODEL_a90a548c760246d6a187aeac60b8d716"
      }
     },
     "331b048b024f45e780b69e099540ecf6": {
      "model_module": "@jupyter-widgets/base",
      "model_module_version": "1.2.0",
      "model_name": "LayoutModel",
      "state": {}
     },
     "33eb2b1b8bb14719ba8a21393bcd7130": {
      "model_module": "@jupyter-widgets/base",
      "model_module_version": "1.2.0",
      "model_name": "LayoutModel",
      "state": {}
     },
     "343289ca052f45dd9faadaefc9372136": {
      "model_module": "@jupyter-widgets/controls",
      "model_module_version": "1.5.0",
      "model_name": "ProgressStyleModel",
      "state": {
       "description_width": ""
      }
     },
     "34c55935c58b4f5d9becee874b767226": {
      "model_module": "@jupyter-widgets/base",
      "model_module_version": "1.2.0",
      "model_name": "LayoutModel",
      "state": {}
     },
     "35edcc52f9ab42fe9998f1f225424eaf": {
      "model_module": "@jupyter-widgets/base",
      "model_module_version": "1.2.0",
      "model_name": "LayoutModel",
      "state": {}
     },
     "367873095006426c9e320950f7b4ae8d": {
      "model_module": "@jupyter-widgets/controls",
      "model_module_version": "1.5.0",
      "model_name": "ProgressStyleModel",
      "state": {
       "description_width": ""
      }
     },
     "36da061b06cd4ee99e00182a6e9ce4bc": {
      "model_module": "@jupyter-widgets/controls",
      "model_module_version": "1.5.0",
      "model_name": "ProgressStyleModel",
      "state": {
       "description_width": ""
      }
     },
     "374d9a1bae56432c95465d275e0f0edf": {
      "model_module": "@jupyter-widgets/base",
      "model_module_version": "1.2.0",
      "model_name": "LayoutModel",
      "state": {}
     },
     "379ae64d79ba4e5eb105aff54a88ccd5": {
      "model_module": "@jupyter-widgets/base",
      "model_module_version": "1.2.0",
      "model_name": "LayoutModel",
      "state": {}
     },
     "3a8cd6d206e444258351efc0bcae2d1d": {
      "model_module": "@jupyter-widgets/base",
      "model_module_version": "1.2.0",
      "model_name": "LayoutModel",
      "state": {}
     },
     "3acab8a540094d4098b78789d04c32ee": {
      "model_module": "@jupyter-widgets/controls",
      "model_module_version": "1.5.0",
      "model_name": "ProgressStyleModel",
      "state": {
       "description_width": ""
      }
     },
     "3b43b69302be48c1b7fe3f6c01b6050e": {
      "model_module": "@jupyter-widgets/base",
      "model_module_version": "1.2.0",
      "model_name": "LayoutModel",
      "state": {}
     },
     "3bf7f25f47ad4584bbb8ee0ebc13b456": {
      "model_module": "@jupyter-widgets/controls",
      "model_module_version": "1.5.0",
      "model_name": "IntProgressModel",
      "state": {
       "description": "Processing: ",
       "layout": "IPY_MODEL_4e2151d4cb4c4f0ca0db2d5778d48953",
       "max": 48,
       "style": "IPY_MODEL_c36c5f6e93d24320b9c334cd7da8e437",
       "value": 48
      }
     },
     "3f46aa5b765141ed92a825ac31204f31": {
      "model_module": "@jupyter-widgets/controls",
      "model_module_version": "1.5.0",
      "model_name": "ButtonStyleModel",
      "state": {}
     },
     "423bc887d5c74b828758d8bde8648171": {
      "model_module": "@jupyter-widgets/base",
      "model_module_version": "1.2.0",
      "model_name": "LayoutModel",
      "state": {}
     },
     "4447fae23ca74ff987b96e31f0ca8c64": {
      "model_module": "@jupyter-widgets/controls",
      "model_module_version": "1.5.0",
      "model_name": "ProgressStyleModel",
      "state": {
       "description_width": ""
      }
     },
     "45a586cfd60944c28a4a5cb8dfe23639": {
      "model_module": "@jupyter-widgets/controls",
      "model_module_version": "1.5.0",
      "model_name": "ProgressStyleModel",
      "state": {
       "description_width": ""
      }
     },
     "45f53047ff5540dfa38eba501bd244ed": {
      "model_module": "@jupyter-widgets/controls",
      "model_module_version": "1.5.0",
      "model_name": "IntProgressModel",
      "state": {
       "description": "Processing: ",
       "layout": "IPY_MODEL_0117c18961784440b5d8753007486595",
       "max": 4,
       "style": "IPY_MODEL_1b08de3ef7aa4b4384a1e311af2322ba",
       "value": 4
      }
     },
     "460c90df8cb44ac69590932b8b6e5074": {
      "model_module": "@jupyter-widgets/base",
      "model_module_version": "1.2.0",
      "model_name": "LayoutModel",
      "state": {}
     },
     "479439093be741ac88e852948d5c5ab8": {
      "model_module": "@jupyter-widgets/base",
      "model_module_version": "1.2.0",
      "model_name": "LayoutModel",
      "state": {}
     },
     "4b6faed7bfb248248bf88f723cafb57e": {
      "model_module": "@jupyter-widgets/base",
      "model_module_version": "1.2.0",
      "model_name": "LayoutModel",
      "state": {}
     },
     "4e1fdee38f5c468196e169e6a5f7c101": {
      "model_module": "@jupyter-widgets/controls",
      "model_module_version": "1.5.0",
      "model_name": "ProgressStyleModel",
      "state": {
       "description_width": ""
      }
     },
     "4e2151d4cb4c4f0ca0db2d5778d48953": {
      "model_module": "@jupyter-widgets/base",
      "model_module_version": "1.2.0",
      "model_name": "LayoutModel",
      "state": {}
     },
     "4e3242bd35ff4ec681ee4cacddc4c182": {
      "model_module": "@jupyter-widgets/base",
      "model_module_version": "1.2.0",
      "model_name": "LayoutModel",
      "state": {}
     },
     "5035a2b460474f83903c74c7dad63a39": {
      "model_module": "@jupyter-widgets/controls",
      "model_module_version": "1.5.0",
      "model_name": "IntProgressModel",
      "state": {
       "description": "Processing: ",
       "layout": "IPY_MODEL_f90aba366131435b94408fae809d8109",
       "max": 4,
       "style": "IPY_MODEL_6b283543764646a9ae26e0b933fba321",
       "value": 4
      }
     },
     "529b5b871ba3463887efe28bc5b168c3": {
      "model_module": "@jupyter-widgets/controls",
      "model_module_version": "1.5.0",
      "model_name": "IntProgressModel",
      "state": {
       "description": "Processing: ",
       "layout": "IPY_MODEL_bc73140e8d064bf7b2f2e0ab84454788",
       "max": 4,
       "style": "IPY_MODEL_8588d3da2aaf42249875a17f77c6efc7",
       "value": 4
      }
     },
     "53158dec7f594db998d1d3c997266e28": {
      "model_module": "@jupyter-widgets/base",
      "model_module_version": "1.2.0",
      "model_name": "LayoutModel",
      "state": {}
     },
     "535c7dfe55704c279516fe05a4193ccd": {
      "model_module": "@jupyter-widgets/controls",
      "model_module_version": "1.5.0",
      "model_name": "IntProgressModel",
      "state": {
       "description": "Processing: ",
       "layout": "IPY_MODEL_16e9e2a08a3f427ca590447071eb82e0",
       "max": 870,
       "style": "IPY_MODEL_ba2240e1c94a478cb4a761e40d0958b0",
       "value": 870
      }
     },
     "57cac375ec6d4fd3b96900dc60fef2aa": {
      "model_module": "@jupyter-widgets/base",
      "model_module_version": "1.2.0",
      "model_name": "LayoutModel",
      "state": {}
     },
     "58831f023c5b497e919aff6f4eb8a4a5": {
      "model_module": "@jupyter-widgets/base",
      "model_module_version": "1.2.0",
      "model_name": "LayoutModel",
      "state": {}
     },
     "5971dcb9f6424a1cbf1c2014a1386b81": {
      "model_module": "@jupyter-widgets/controls",
      "model_module_version": "1.5.0",
      "model_name": "ButtonModel",
      "state": {
       "description": "Run Interact",
       "layout": "IPY_MODEL_70a28876caf14ca4a0c5f7a06e67284a",
       "style": "IPY_MODEL_ed6c19d2b9dd4d0cb71431f7aa30934c"
      }
     },
     "5a09472c1ef3476b924f3803890a10e1": {
      "model_module": "@jupyter-widgets/controls",
      "model_module_version": "1.5.0",
      "model_name": "IntProgressModel",
      "state": {
       "description": "Processing: ",
       "layout": "IPY_MODEL_b97fc926337941f882e40c70b1f6d86a",
       "max": 870,
       "style": "IPY_MODEL_9e6d802bfa104586a25109d50ceff98d",
       "value": 870
      }
     },
     "5b6b8326f0a5417d876abb0002f1a002": {
      "model_module": "@jupyter-widgets/controls",
      "model_module_version": "1.5.0",
      "model_name": "ToggleButtonsStyleModel",
      "state": {
       "button_width": "",
       "description_width": ""
      }
     },
     "5bcb2f51df654e0f8523e33e88d2609f": {
      "model_module": "@jupyter-widgets/controls",
      "model_module_version": "1.5.0",
      "model_name": "ProgressStyleModel",
      "state": {
       "description_width": ""
      }
     },
     "5be6d5098d9f467098ed1693d37e32b2": {
      "model_module": "@jupyter-widgets/output",
      "model_module_version": "1.0.0",
      "model_name": "OutputModel",
      "state": {
       "layout": "IPY_MODEL_5e22a500410947d3a5b677dcf2f13a84",
       "outputs": [
        {
         "data": {
          "text/html": "        <script type=\"text/javascript\">\n        window.PlotlyConfig = {MathJaxConfig: 'local'};\n        if (window.MathJax) {MathJax.Hub.Config({SVG: {font: \"STIX-Web\"}});}\n        if (typeof require !== 'undefined') {\n        require.undef(\"plotly\");\n        requirejs.config({\n            paths: {\n                'plotly': ['https://cdn.plot.ly/plotly-latest.min']\n            }\n        });\n        require(['plotly'], function(Plotly) {\n            window._Plotly = Plotly;\n        });\n        }\n        </script>\n        "
         },
         "metadata": {},
         "output_type": "display_data"
        },
        {
         "data": {
          "application/vnd.plotly.v1+json": {
           "config": {
            "linkText": "Export to plot.ly",
            "plotlyServerURL": "https://plot.ly",
            "showLink": true
           },
           "data": [
            {
             "marker": {
              "color": "rgba(255, 153, 51, 0.6)",
              "line": {
               "color": "rgba(255, 153, 51, 1.0)",
               "width": 1
              }
             },
             "name": "count",
             "orientation": "v",
             "text": "",
             "type": "bar",
             "x": [
              "outdoor pool",
              "pool bar",
              "stay night",
              "great variety",
              "go back",
              "first time",
              "lunch dinner",
              "night stay",
              "business trip",
              "staff friendly",
              "excellent service",
              "make sure",
              "next time",
              "pool area",
              "worth visit",
              "stay business",
              "business lunch",
              "late night",
              "morning breakfast",
              "staff excellent",
              "extra charge",
              "little old",
              "little bit",
              "well decorate",
              "flight cancel",
              "swim pool",
              "indoor pool",
              "friendly helpful",
              "include price",
              "friendly staff",
              "high quality",
              "bit pricey",
              "next day",
              "many time",
              "great time",
              "different salad",
              "spa area",
              "really like",
              "place stay",
              "soft drink",
              "day breakfast",
              "old fashion",
              "several different",
              "stay well",
              "buffet option",
              "complimentary drink",
              "cost euros",
              "book night",
              "change glass",
              "couple day",
              "go wife",
              "great atmosphere",
              "fresh fruit",
              "fan buffet",
              "buffet choose",
              "dessert include",
              "buffet rich",
              "buffet excellent",
              "buffet great",
              "entree dish",
              "buffet make",
              "enjoy great",
              "easy find",
              "drink also",
              "great place",
              "let know",
              "great value",
              "stay service",
              "really worth",
              "reasonable price",
              "right get",
              "salad meat",
              "service excellent",
              "staff keep",
              "summer time",
              "helpful polite",
              "think dessert",
              "try different",
              "variety choice",
              "variety salad",
              "want change",
              "want pay",
              "quality taste",
              "price friendly",
              "place go",
              "minute_walk away",
              "meat fish",
              "many option",
              "lunch salad",
              "lunch buffet",
              "local speciality",
              "like change",
              "late lunch",
              "large varaiety",
              "large clean",
              "indoor outdoor",
              "huge variety",
              "hot dish",
              "highly recomende",
              "always great"
             ],
             "y": [
              6,
              6,
              6,
              5,
              5,
              5,
              5,
              5,
              5,
              4,
              4,
              4,
              4,
              4,
              4,
              4,
              3,
              3,
              3,
              3,
              3,
              3,
              3,
              3,
              3,
              3,
              3,
              3,
              3,
              3,
              3,
              3,
              3,
              3,
              3,
              3,
              3,
              3,
              3,
              3,
              3,
              3,
              3,
              3,
              2,
              2,
              2,
              2,
              2,
              2,
              2,
              2,
              2,
              2,
              2,
              2,
              2,
              2,
              2,
              2,
              2,
              2,
              2,
              2,
              2,
              2,
              2,
              2,
              2,
              2,
              2,
              2,
              2,
              2,
              2,
              2,
              2,
              2,
              2,
              2,
              2,
              2,
              2,
              2,
              2,
              2,
              2,
              2,
              2,
              2,
              2,
              2,
              2,
              2,
              2,
              2,
              2,
              2,
              2,
              2
             ]
            }
           ],
           "layout": {
            "legend": {
             "bgcolor": "#F5F6F9",
             "font": {
              "color": "#4D5663"
             }
            },
            "paper_bgcolor": "#F5F6F9",
            "plot_bgcolor": "#F5F6F9",
            "template": {
             "data": {
              "bar": [
               {
                "error_x": {
                 "color": "#2a3f5f"
                },
                "error_y": {
                 "color": "#2a3f5f"
                },
                "marker": {
                 "line": {
                  "color": "#E5ECF6",
                  "width": 0.5
                 }
                },
                "type": "bar"
               }
              ],
              "barpolar": [
               {
                "marker": {
                 "line": {
                  "color": "#E5ECF6",
                  "width": 0.5
                 }
                },
                "type": "barpolar"
               }
              ],
              "carpet": [
               {
                "aaxis": {
                 "endlinecolor": "#2a3f5f",
                 "gridcolor": "white",
                 "linecolor": "white",
                 "minorgridcolor": "white",
                 "startlinecolor": "#2a3f5f"
                },
                "baxis": {
                 "endlinecolor": "#2a3f5f",
                 "gridcolor": "white",
                 "linecolor": "white",
                 "minorgridcolor": "white",
                 "startlinecolor": "#2a3f5f"
                },
                "type": "carpet"
               }
              ],
              "choropleth": [
               {
                "colorbar": {
                 "outlinewidth": 0,
                 "ticks": ""
                },
                "type": "choropleth"
               }
              ],
              "contour": [
               {
                "colorbar": {
                 "outlinewidth": 0,
                 "ticks": ""
                },
                "colorscale": [
                 [
                  0,
                  "#0d0887"
                 ],
                 [
                  0.1111111111111111,
                  "#46039f"
                 ],
                 [
                  0.2222222222222222,
                  "#7201a8"
                 ],
                 [
                  0.3333333333333333,
                  "#9c179e"
                 ],
                 [
                  0.4444444444444444,
                  "#bd3786"
                 ],
                 [
                  0.5555555555555556,
                  "#d8576b"
                 ],
                 [
                  0.6666666666666666,
                  "#ed7953"
                 ],
                 [
                  0.7777777777777778,
                  "#fb9f3a"
                 ],
                 [
                  0.8888888888888888,
                  "#fdca26"
                 ],
                 [
                  1,
                  "#f0f921"
                 ]
                ],
                "type": "contour"
               }
              ],
              "contourcarpet": [
               {
                "colorbar": {
                 "outlinewidth": 0,
                 "ticks": ""
                },
                "type": "contourcarpet"
               }
              ],
              "heatmap": [
               {
                "colorbar": {
                 "outlinewidth": 0,
                 "ticks": ""
                },
                "colorscale": [
                 [
                  0,
                  "#0d0887"
                 ],
                 [
                  0.1111111111111111,
                  "#46039f"
                 ],
                 [
                  0.2222222222222222,
                  "#7201a8"
                 ],
                 [
                  0.3333333333333333,
                  "#9c179e"
                 ],
                 [
                  0.4444444444444444,
                  "#bd3786"
                 ],
                 [
                  0.5555555555555556,
                  "#d8576b"
                 ],
                 [
                  0.6666666666666666,
                  "#ed7953"
                 ],
                 [
                  0.7777777777777778,
                  "#fb9f3a"
                 ],
                 [
                  0.8888888888888888,
                  "#fdca26"
                 ],
                 [
                  1,
                  "#f0f921"
                 ]
                ],
                "type": "heatmap"
               }
              ],
              "heatmapgl": [
               {
                "colorbar": {
                 "outlinewidth": 0,
                 "ticks": ""
                },
                "colorscale": [
                 [
                  0,
                  "#0d0887"
                 ],
                 [
                  0.1111111111111111,
                  "#46039f"
                 ],
                 [
                  0.2222222222222222,
                  "#7201a8"
                 ],
                 [
                  0.3333333333333333,
                  "#9c179e"
                 ],
                 [
                  0.4444444444444444,
                  "#bd3786"
                 ],
                 [
                  0.5555555555555556,
                  "#d8576b"
                 ],
                 [
                  0.6666666666666666,
                  "#ed7953"
                 ],
                 [
                  0.7777777777777778,
                  "#fb9f3a"
                 ],
                 [
                  0.8888888888888888,
                  "#fdca26"
                 ],
                 [
                  1,
                  "#f0f921"
                 ]
                ],
                "type": "heatmapgl"
               }
              ],
              "histogram": [
               {
                "marker": {
                 "colorbar": {
                  "outlinewidth": 0,
                  "ticks": ""
                 }
                },
                "type": "histogram"
               }
              ],
              "histogram2d": [
               {
                "colorbar": {
                 "outlinewidth": 0,
                 "ticks": ""
                },
                "colorscale": [
                 [
                  0,
                  "#0d0887"
                 ],
                 [
                  0.1111111111111111,
                  "#46039f"
                 ],
                 [
                  0.2222222222222222,
                  "#7201a8"
                 ],
                 [
                  0.3333333333333333,
                  "#9c179e"
                 ],
                 [
                  0.4444444444444444,
                  "#bd3786"
                 ],
                 [
                  0.5555555555555556,
                  "#d8576b"
                 ],
                 [
                  0.6666666666666666,
                  "#ed7953"
                 ],
                 [
                  0.7777777777777778,
                  "#fb9f3a"
                 ],
                 [
                  0.8888888888888888,
                  "#fdca26"
                 ],
                 [
                  1,
                  "#f0f921"
                 ]
                ],
                "type": "histogram2d"
               }
              ],
              "histogram2dcontour": [
               {
                "colorbar": {
                 "outlinewidth": 0,
                 "ticks": ""
                },
                "colorscale": [
                 [
                  0,
                  "#0d0887"
                 ],
                 [
                  0.1111111111111111,
                  "#46039f"
                 ],
                 [
                  0.2222222222222222,
                  "#7201a8"
                 ],
                 [
                  0.3333333333333333,
                  "#9c179e"
                 ],
                 [
                  0.4444444444444444,
                  "#bd3786"
                 ],
                 [
                  0.5555555555555556,
                  "#d8576b"
                 ],
                 [
                  0.6666666666666666,
                  "#ed7953"
                 ],
                 [
                  0.7777777777777778,
                  "#fb9f3a"
                 ],
                 [
                  0.8888888888888888,
                  "#fdca26"
                 ],
                 [
                  1,
                  "#f0f921"
                 ]
                ],
                "type": "histogram2dcontour"
               }
              ],
              "mesh3d": [
               {
                "colorbar": {
                 "outlinewidth": 0,
                 "ticks": ""
                },
                "type": "mesh3d"
               }
              ],
              "parcoords": [
               {
                "line": {
                 "colorbar": {
                  "outlinewidth": 0,
                  "ticks": ""
                 }
                },
                "type": "parcoords"
               }
              ],
              "pie": [
               {
                "automargin": true,
                "type": "pie"
               }
              ],
              "scatter": [
               {
                "marker": {
                 "colorbar": {
                  "outlinewidth": 0,
                  "ticks": ""
                 }
                },
                "type": "scatter"
               }
              ],
              "scatter3d": [
               {
                "line": {
                 "colorbar": {
                  "outlinewidth": 0,
                  "ticks": ""
                 }
                },
                "marker": {
                 "colorbar": {
                  "outlinewidth": 0,
                  "ticks": ""
                 }
                },
                "type": "scatter3d"
               }
              ],
              "scattercarpet": [
               {
                "marker": {
                 "colorbar": {
                  "outlinewidth": 0,
                  "ticks": ""
                 }
                },
                "type": "scattercarpet"
               }
              ],
              "scattergeo": [
               {
                "marker": {
                 "colorbar": {
                  "outlinewidth": 0,
                  "ticks": ""
                 }
                },
                "type": "scattergeo"
               }
              ],
              "scattergl": [
               {
                "marker": {
                 "colorbar": {
                  "outlinewidth": 0,
                  "ticks": ""
                 }
                },
                "type": "scattergl"
               }
              ],
              "scattermapbox": [
               {
                "marker": {
                 "colorbar": {
                  "outlinewidth": 0,
                  "ticks": ""
                 }
                },
                "type": "scattermapbox"
               }
              ],
              "scatterpolar": [
               {
                "marker": {
                 "colorbar": {
                  "outlinewidth": 0,
                  "ticks": ""
                 }
                },
                "type": "scatterpolar"
               }
              ],
              "scatterpolargl": [
               {
                "marker": {
                 "colorbar": {
                  "outlinewidth": 0,
                  "ticks": ""
                 }
                },
                "type": "scatterpolargl"
               }
              ],
              "scatterternary": [
               {
                "marker": {
                 "colorbar": {
                  "outlinewidth": 0,
                  "ticks": ""
                 }
                },
                "type": "scatterternary"
               }
              ],
              "surface": [
               {
                "colorbar": {
                 "outlinewidth": 0,
                 "ticks": ""
                },
                "colorscale": [
                 [
                  0,
                  "#0d0887"
                 ],
                 [
                  0.1111111111111111,
                  "#46039f"
                 ],
                 [
                  0.2222222222222222,
                  "#7201a8"
                 ],
                 [
                  0.3333333333333333,
                  "#9c179e"
                 ],
                 [
                  0.4444444444444444,
                  "#bd3786"
                 ],
                 [
                  0.5555555555555556,
                  "#d8576b"
                 ],
                 [
                  0.6666666666666666,
                  "#ed7953"
                 ],
                 [
                  0.7777777777777778,
                  "#fb9f3a"
                 ],
                 [
                  0.8888888888888888,
                  "#fdca26"
                 ],
                 [
                  1,
                  "#f0f921"
                 ]
                ],
                "type": "surface"
               }
              ],
              "table": [
               {
                "cells": {
                 "fill": {
                  "color": "#EBF0F8"
                 },
                 "line": {
                  "color": "white"
                 }
                },
                "header": {
                 "fill": {
                  "color": "#C8D4E3"
                 },
                 "line": {
                  "color": "white"
                 }
                },
                "type": "table"
               }
              ]
             },
             "layout": {
              "annotationdefaults": {
               "arrowcolor": "#2a3f5f",
               "arrowhead": 0,
               "arrowwidth": 1
              },
              "coloraxis": {
               "colorbar": {
                "outlinewidth": 0,
                "ticks": ""
               }
              },
              "colorscale": {
               "diverging": [
                [
                 0,
                 "#8e0152"
                ],
                [
                 0.1,
                 "#c51b7d"
                ],
                [
                 0.2,
                 "#de77ae"
                ],
                [
                 0.3,
                 "#f1b6da"
                ],
                [
                 0.4,
                 "#fde0ef"
                ],
                [
                 0.5,
                 "#f7f7f7"
                ],
                [
                 0.6,
                 "#e6f5d0"
                ],
                [
                 0.7,
                 "#b8e186"
                ],
                [
                 0.8,
                 "#7fbc41"
                ],
                [
                 0.9,
                 "#4d9221"
                ],
                [
                 1,
                 "#276419"
                ]
               ],
               "sequential": [
                [
                 0,
                 "#0d0887"
                ],
                [
                 0.1111111111111111,
                 "#46039f"
                ],
                [
                 0.2222222222222222,
                 "#7201a8"
                ],
                [
                 0.3333333333333333,
                 "#9c179e"
                ],
                [
                 0.4444444444444444,
                 "#bd3786"
                ],
                [
                 0.5555555555555556,
                 "#d8576b"
                ],
                [
                 0.6666666666666666,
                 "#ed7953"
                ],
                [
                 0.7777777777777778,
                 "#fb9f3a"
                ],
                [
                 0.8888888888888888,
                 "#fdca26"
                ],
                [
                 1,
                 "#f0f921"
                ]
               ],
               "sequentialminus": [
                [
                 0,
                 "#0d0887"
                ],
                [
                 0.1111111111111111,
                 "#46039f"
                ],
                [
                 0.2222222222222222,
                 "#7201a8"
                ],
                [
                 0.3333333333333333,
                 "#9c179e"
                ],
                [
                 0.4444444444444444,
                 "#bd3786"
                ],
                [
                 0.5555555555555556,
                 "#d8576b"
                ],
                [
                 0.6666666666666666,
                 "#ed7953"
                ],
                [
                 0.7777777777777778,
                 "#fb9f3a"
                ],
                [
                 0.8888888888888888,
                 "#fdca26"
                ],
                [
                 1,
                 "#f0f921"
                ]
               ]
              },
              "colorway": [
               "#636efa",
               "#EF553B",
               "#00cc96",
               "#ab63fa",
               "#FFA15A",
               "#19d3f3",
               "#FF6692",
               "#B6E880",
               "#FF97FF",
               "#FECB52"
              ],
              "font": {
               "color": "#2a3f5f"
              },
              "geo": {
               "bgcolor": "white",
               "lakecolor": "white",
               "landcolor": "#E5ECF6",
               "showlakes": true,
               "showland": true,
               "subunitcolor": "white"
              },
              "hoverlabel": {
               "align": "left"
              },
              "hovermode": "closest",
              "mapbox": {
               "style": "light"
              },
              "paper_bgcolor": "white",
              "plot_bgcolor": "#E5ECF6",
              "polar": {
               "angularaxis": {
                "gridcolor": "white",
                "linecolor": "white",
                "ticks": ""
               },
               "bgcolor": "#E5ECF6",
               "radialaxis": {
                "gridcolor": "white",
                "linecolor": "white",
                "ticks": ""
               }
              },
              "scene": {
               "xaxis": {
                "backgroundcolor": "#E5ECF6",
                "gridcolor": "white",
                "gridwidth": 2,
                "linecolor": "white",
                "showbackground": true,
                "ticks": "",
                "zerolinecolor": "white"
               },
               "yaxis": {
                "backgroundcolor": "#E5ECF6",
                "gridcolor": "white",
                "gridwidth": 2,
                "linecolor": "white",
                "showbackground": true,
                "ticks": "",
                "zerolinecolor": "white"
               },
               "zaxis": {
                "backgroundcolor": "#E5ECF6",
                "gridcolor": "white",
                "gridwidth": 2,
                "linecolor": "white",
                "showbackground": true,
                "ticks": "",
                "zerolinecolor": "white"
               }
              },
              "shapedefaults": {
               "line": {
                "color": "#2a3f5f"
               }
              },
              "ternary": {
               "aaxis": {
                "gridcolor": "white",
                "linecolor": "white",
                "ticks": ""
               },
               "baxis": {
                "gridcolor": "white",
                "linecolor": "white",
                "ticks": ""
               },
               "bgcolor": "#E5ECF6",
               "caxis": {
                "gridcolor": "white",
                "linecolor": "white",
                "ticks": ""
               }
              },
              "title": {
               "x": 0.05
              },
              "xaxis": {
               "automargin": true,
               "gridcolor": "white",
               "linecolor": "white",
               "ticks": "",
               "title": {
                "standoff": 15
               },
               "zerolinecolor": "white",
               "zerolinewidth": 2
              },
              "yaxis": {
               "automargin": true,
               "gridcolor": "white",
               "linecolor": "white",
               "ticks": "",
               "title": {
                "standoff": 15
               },
               "zerolinecolor": "white",
               "zerolinewidth": 2
              }
             }
            },
            "title": {
             "font": {
              "color": "#4D5663"
             },
             "text": "Topic 3: Top 100 bigrams after removing stop words"
            },
            "xaxis": {
             "gridcolor": "#E1E5ED",
             "linecolor": "black",
             "showgrid": true,
             "tickfont": {
              "color": "#4D5663"
             },
             "title": {
              "font": {
               "color": "#4D5663"
              },
              "text": ""
             },
             "zerolinecolor": "#E1E5ED"
            },
            "yaxis": {
             "gridcolor": "#E1E5ED",
             "linecolor": "black",
             "showgrid": true,
             "tickfont": {
              "color": "#4D5663"
             },
             "title": {
              "font": {
               "color": "#4D5663"
              },
              "text": "Count"
             },
             "zerolinecolor": "#E1E5ED"
            }
           }
          },
          "text/html": "<div>\n        \n        \n            <div id=\"35eb5c21-06d4-46a5-a219-ad3a7e64fe2b\" class=\"plotly-graph-div\" style=\"height:525px; width:100%;\"></div>\n            <script type=\"text/javascript\">\n                require([\"plotly\"], function(Plotly) {\n                    window.PLOTLYENV=window.PLOTLYENV || {};\n                    window.PLOTLYENV.BASE_URL='https://plot.ly';\n                    \n                if (document.getElementById(\"35eb5c21-06d4-46a5-a219-ad3a7e64fe2b\")) {\n                    Plotly.newPlot(\n                        '35eb5c21-06d4-46a5-a219-ad3a7e64fe2b',\n                        [{\"marker\": {\"color\": \"rgba(255, 153, 51, 0.6)\", \"line\": {\"color\": \"rgba(255, 153, 51, 1.0)\", \"width\": 1}}, \"name\": \"count\", \"orientation\": \"v\", \"text\": \"\", \"type\": \"bar\", \"x\": [\"outdoor pool\", \"pool bar\", \"stay night\", \"great variety\", \"go back\", \"first time\", \"lunch dinner\", \"night stay\", \"business trip\", \"staff friendly\", \"excellent service\", \"make sure\", \"next time\", \"pool area\", \"worth visit\", \"stay business\", \"business lunch\", \"late night\", \"morning breakfast\", \"staff excellent\", \"extra charge\", \"little old\", \"little bit\", \"well decorate\", \"flight cancel\", \"swim pool\", \"indoor pool\", \"friendly helpful\", \"include price\", \"friendly staff\", \"high quality\", \"bit pricey\", \"next day\", \"many time\", \"great time\", \"different salad\", \"spa area\", \"really like\", \"place stay\", \"soft drink\", \"day breakfast\", \"old fashion\", \"several different\", \"stay well\", \"buffet option\", \"complimentary drink\", \"cost euros\", \"book night\", \"change glass\", \"couple day\", \"go wife\", \"great atmosphere\", \"fresh fruit\", \"fan buffet\", \"buffet choose\", \"dessert include\", \"buffet rich\", \"buffet excellent\", \"buffet great\", \"entree dish\", \"buffet make\", \"enjoy great\", \"easy find\", \"drink also\", \"great place\", \"let know\", \"great value\", \"stay service\", \"really worth\", \"reasonable price\", \"right get\", \"salad meat\", \"service excellent\", \"staff keep\", \"summer time\", \"helpful polite\", \"think dessert\", \"try different\", \"variety choice\", \"variety salad\", \"want change\", \"want pay\", \"quality taste\", \"price friendly\", \"place go\", \"minute_walk away\", \"meat fish\", \"many option\", \"lunch salad\", \"lunch buffet\", \"local speciality\", \"like change\", \"late lunch\", \"large varaiety\", \"large clean\", \"indoor outdoor\", \"huge variety\", \"hot dish\", \"highly recomende\", \"always great\"], \"y\": [6, 6, 6, 5, 5, 5, 5, 5, 5, 4, 4, 4, 4, 4, 4, 4, 3, 3, 3, 3, 3, 3, 3, 3, 3, 3, 3, 3, 3, 3, 3, 3, 3, 3, 3, 3, 3, 3, 3, 3, 3, 3, 3, 3, 2, 2, 2, 2, 2, 2, 2, 2, 2, 2, 2, 2, 2, 2, 2, 2, 2, 2, 2, 2, 2, 2, 2, 2, 2, 2, 2, 2, 2, 2, 2, 2, 2, 2, 2, 2, 2, 2, 2, 2, 2, 2, 2, 2, 2, 2, 2, 2, 2, 2, 2, 2, 2, 2, 2, 2]}],\n                        {\"legend\": {\"bgcolor\": \"#F5F6F9\", \"font\": {\"color\": \"#4D5663\"}}, \"paper_bgcolor\": \"#F5F6F9\", \"plot_bgcolor\": \"#F5F6F9\", \"template\": {\"data\": {\"bar\": [{\"error_x\": {\"color\": \"#2a3f5f\"}, \"error_y\": {\"color\": \"#2a3f5f\"}, \"marker\": {\"line\": {\"color\": \"#E5ECF6\", \"width\": 0.5}}, \"type\": \"bar\"}], \"barpolar\": [{\"marker\": {\"line\": {\"color\": \"#E5ECF6\", \"width\": 0.5}}, \"type\": \"barpolar\"}], \"carpet\": [{\"aaxis\": {\"endlinecolor\": \"#2a3f5f\", \"gridcolor\": \"white\", \"linecolor\": \"white\", \"minorgridcolor\": \"white\", \"startlinecolor\": \"#2a3f5f\"}, \"baxis\": {\"endlinecolor\": \"#2a3f5f\", \"gridcolor\": \"white\", \"linecolor\": \"white\", \"minorgridcolor\": \"white\", \"startlinecolor\": \"#2a3f5f\"}, \"type\": \"carpet\"}], \"choropleth\": [{\"colorbar\": {\"outlinewidth\": 0, \"ticks\": \"\"}, \"type\": \"choropleth\"}], \"contour\": [{\"colorbar\": {\"outlinewidth\": 0, \"ticks\": \"\"}, \"colorscale\": [[0.0, \"#0d0887\"], [0.1111111111111111, \"#46039f\"], [0.2222222222222222, \"#7201a8\"], [0.3333333333333333, \"#9c179e\"], [0.4444444444444444, \"#bd3786\"], [0.5555555555555556, \"#d8576b\"], [0.6666666666666666, \"#ed7953\"], [0.7777777777777778, \"#fb9f3a\"], [0.8888888888888888, \"#fdca26\"], [1.0, \"#f0f921\"]], \"type\": \"contour\"}], \"contourcarpet\": [{\"colorbar\": {\"outlinewidth\": 0, \"ticks\": \"\"}, \"type\": \"contourcarpet\"}], \"heatmap\": [{\"colorbar\": {\"outlinewidth\": 0, \"ticks\": \"\"}, \"colorscale\": [[0.0, \"#0d0887\"], [0.1111111111111111, \"#46039f\"], [0.2222222222222222, \"#7201a8\"], [0.3333333333333333, \"#9c179e\"], [0.4444444444444444, \"#bd3786\"], [0.5555555555555556, \"#d8576b\"], [0.6666666666666666, \"#ed7953\"], [0.7777777777777778, \"#fb9f3a\"], [0.8888888888888888, \"#fdca26\"], [1.0, \"#f0f921\"]], \"type\": \"heatmap\"}], \"heatmapgl\": [{\"colorbar\": {\"outlinewidth\": 0, \"ticks\": \"\"}, \"colorscale\": [[0.0, \"#0d0887\"], [0.1111111111111111, \"#46039f\"], [0.2222222222222222, \"#7201a8\"], [0.3333333333333333, \"#9c179e\"], [0.4444444444444444, \"#bd3786\"], [0.5555555555555556, \"#d8576b\"], [0.6666666666666666, \"#ed7953\"], [0.7777777777777778, \"#fb9f3a\"], [0.8888888888888888, \"#fdca26\"], [1.0, \"#f0f921\"]], \"type\": \"heatmapgl\"}], \"histogram\": [{\"marker\": {\"colorbar\": {\"outlinewidth\": 0, \"ticks\": \"\"}}, \"type\": \"histogram\"}], \"histogram2d\": [{\"colorbar\": {\"outlinewidth\": 0, \"ticks\": \"\"}, \"colorscale\": [[0.0, \"#0d0887\"], [0.1111111111111111, \"#46039f\"], [0.2222222222222222, \"#7201a8\"], [0.3333333333333333, \"#9c179e\"], [0.4444444444444444, \"#bd3786\"], [0.5555555555555556, \"#d8576b\"], [0.6666666666666666, \"#ed7953\"], [0.7777777777777778, \"#fb9f3a\"], [0.8888888888888888, \"#fdca26\"], [1.0, \"#f0f921\"]], \"type\": \"histogram2d\"}], \"histogram2dcontour\": [{\"colorbar\": {\"outlinewidth\": 0, \"ticks\": \"\"}, \"colorscale\": [[0.0, \"#0d0887\"], [0.1111111111111111, \"#46039f\"], [0.2222222222222222, \"#7201a8\"], [0.3333333333333333, \"#9c179e\"], [0.4444444444444444, \"#bd3786\"], [0.5555555555555556, \"#d8576b\"], [0.6666666666666666, \"#ed7953\"], [0.7777777777777778, \"#fb9f3a\"], [0.8888888888888888, \"#fdca26\"], [1.0, \"#f0f921\"]], \"type\": \"histogram2dcontour\"}], \"mesh3d\": [{\"colorbar\": {\"outlinewidth\": 0, \"ticks\": \"\"}, \"type\": \"mesh3d\"}], \"parcoords\": [{\"line\": {\"colorbar\": {\"outlinewidth\": 0, \"ticks\": \"\"}}, \"type\": \"parcoords\"}], \"pie\": [{\"automargin\": true, \"type\": \"pie\"}], \"scatter\": [{\"marker\": {\"colorbar\": {\"outlinewidth\": 0, \"ticks\": \"\"}}, \"type\": \"scatter\"}], \"scatter3d\": [{\"line\": {\"colorbar\": {\"outlinewidth\": 0, \"ticks\": \"\"}}, \"marker\": {\"colorbar\": {\"outlinewidth\": 0, \"ticks\": \"\"}}, \"type\": \"scatter3d\"}], \"scattercarpet\": [{\"marker\": {\"colorbar\": {\"outlinewidth\": 0, \"ticks\": \"\"}}, \"type\": \"scattercarpet\"}], \"scattergeo\": [{\"marker\": {\"colorbar\": {\"outlinewidth\": 0, \"ticks\": \"\"}}, \"type\": \"scattergeo\"}], \"scattergl\": [{\"marker\": {\"colorbar\": {\"outlinewidth\": 0, \"ticks\": \"\"}}, \"type\": \"scattergl\"}], \"scattermapbox\": [{\"marker\": {\"colorbar\": {\"outlinewidth\": 0, \"ticks\": \"\"}}, \"type\": \"scattermapbox\"}], \"scatterpolar\": [{\"marker\": {\"colorbar\": {\"outlinewidth\": 0, \"ticks\": \"\"}}, \"type\": \"scatterpolar\"}], \"scatterpolargl\": [{\"marker\": {\"colorbar\": {\"outlinewidth\": 0, \"ticks\": \"\"}}, \"type\": \"scatterpolargl\"}], \"scatterternary\": [{\"marker\": {\"colorbar\": {\"outlinewidth\": 0, \"ticks\": \"\"}}, \"type\": \"scatterternary\"}], \"surface\": [{\"colorbar\": {\"outlinewidth\": 0, \"ticks\": \"\"}, \"colorscale\": [[0.0, \"#0d0887\"], [0.1111111111111111, \"#46039f\"], [0.2222222222222222, \"#7201a8\"], [0.3333333333333333, \"#9c179e\"], [0.4444444444444444, \"#bd3786\"], [0.5555555555555556, \"#d8576b\"], [0.6666666666666666, \"#ed7953\"], [0.7777777777777778, \"#fb9f3a\"], [0.8888888888888888, \"#fdca26\"], [1.0, \"#f0f921\"]], \"type\": \"surface\"}], \"table\": [{\"cells\": {\"fill\": {\"color\": \"#EBF0F8\"}, \"line\": {\"color\": \"white\"}}, \"header\": {\"fill\": {\"color\": \"#C8D4E3\"}, \"line\": {\"color\": \"white\"}}, \"type\": \"table\"}]}, \"layout\": {\"annotationdefaults\": {\"arrowcolor\": \"#2a3f5f\", \"arrowhead\": 0, \"arrowwidth\": 1}, \"coloraxis\": {\"colorbar\": {\"outlinewidth\": 0, \"ticks\": \"\"}}, \"colorscale\": {\"diverging\": [[0, \"#8e0152\"], [0.1, \"#c51b7d\"], [0.2, \"#de77ae\"], [0.3, \"#f1b6da\"], [0.4, \"#fde0ef\"], [0.5, \"#f7f7f7\"], [0.6, \"#e6f5d0\"], [0.7, \"#b8e186\"], [0.8, \"#7fbc41\"], [0.9, \"#4d9221\"], [1, \"#276419\"]], \"sequential\": [[0.0, \"#0d0887\"], [0.1111111111111111, \"#46039f\"], [0.2222222222222222, \"#7201a8\"], [0.3333333333333333, \"#9c179e\"], [0.4444444444444444, \"#bd3786\"], [0.5555555555555556, \"#d8576b\"], [0.6666666666666666, \"#ed7953\"], [0.7777777777777778, \"#fb9f3a\"], [0.8888888888888888, \"#fdca26\"], [1.0, \"#f0f921\"]], \"sequentialminus\": [[0.0, \"#0d0887\"], [0.1111111111111111, \"#46039f\"], [0.2222222222222222, \"#7201a8\"], [0.3333333333333333, \"#9c179e\"], [0.4444444444444444, \"#bd3786\"], [0.5555555555555556, \"#d8576b\"], [0.6666666666666666, \"#ed7953\"], [0.7777777777777778, \"#fb9f3a\"], [0.8888888888888888, \"#fdca26\"], [1.0, \"#f0f921\"]]}, \"colorway\": [\"#636efa\", \"#EF553B\", \"#00cc96\", \"#ab63fa\", \"#FFA15A\", \"#19d3f3\", \"#FF6692\", \"#B6E880\", \"#FF97FF\", \"#FECB52\"], \"font\": {\"color\": \"#2a3f5f\"}, \"geo\": {\"bgcolor\": \"white\", \"lakecolor\": \"white\", \"landcolor\": \"#E5ECF6\", \"showlakes\": true, \"showland\": true, \"subunitcolor\": \"white\"}, \"hoverlabel\": {\"align\": \"left\"}, \"hovermode\": \"closest\", \"mapbox\": {\"style\": \"light\"}, \"paper_bgcolor\": \"white\", \"plot_bgcolor\": \"#E5ECF6\", \"polar\": {\"angularaxis\": {\"gridcolor\": \"white\", \"linecolor\": \"white\", \"ticks\": \"\"}, \"bgcolor\": \"#E5ECF6\", \"radialaxis\": {\"gridcolor\": \"white\", \"linecolor\": \"white\", \"ticks\": \"\"}}, \"scene\": {\"xaxis\": {\"backgroundcolor\": \"#E5ECF6\", \"gridcolor\": \"white\", \"gridwidth\": 2, \"linecolor\": \"white\", \"showbackground\": true, \"ticks\": \"\", \"zerolinecolor\": \"white\"}, \"yaxis\": {\"backgroundcolor\": \"#E5ECF6\", \"gridcolor\": \"white\", \"gridwidth\": 2, \"linecolor\": \"white\", \"showbackground\": true, \"ticks\": \"\", \"zerolinecolor\": \"white\"}, \"zaxis\": {\"backgroundcolor\": \"#E5ECF6\", \"gridcolor\": \"white\", \"gridwidth\": 2, \"linecolor\": \"white\", \"showbackground\": true, \"ticks\": \"\", \"zerolinecolor\": \"white\"}}, \"shapedefaults\": {\"line\": {\"color\": \"#2a3f5f\"}}, \"ternary\": {\"aaxis\": {\"gridcolor\": \"white\", \"linecolor\": \"white\", \"ticks\": \"\"}, \"baxis\": {\"gridcolor\": \"white\", \"linecolor\": \"white\", \"ticks\": \"\"}, \"bgcolor\": \"#E5ECF6\", \"caxis\": {\"gridcolor\": \"white\", \"linecolor\": \"white\", \"ticks\": \"\"}}, \"title\": {\"x\": 0.05}, \"xaxis\": {\"automargin\": true, \"gridcolor\": \"white\", \"linecolor\": \"white\", \"ticks\": \"\", \"title\": {\"standoff\": 15}, \"zerolinecolor\": \"white\", \"zerolinewidth\": 2}, \"yaxis\": {\"automargin\": true, \"gridcolor\": \"white\", \"linecolor\": \"white\", \"ticks\": \"\", \"title\": {\"standoff\": 15}, \"zerolinecolor\": \"white\", \"zerolinewidth\": 2}}}, \"title\": {\"font\": {\"color\": \"#4D5663\"}, \"text\": \"Topic 3: Top 100 bigrams after removing stop words\"}, \"xaxis\": {\"gridcolor\": \"#E1E5ED\", \"linecolor\": \"black\", \"showgrid\": true, \"tickfont\": {\"color\": \"#4D5663\"}, \"title\": {\"font\": {\"color\": \"#4D5663\"}, \"text\": \"\"}, \"zerolinecolor\": \"#E1E5ED\"}, \"yaxis\": {\"gridcolor\": \"#E1E5ED\", \"linecolor\": \"black\", \"showgrid\": true, \"tickfont\": {\"color\": \"#4D5663\"}, \"title\": {\"font\": {\"color\": \"#4D5663\"}, \"text\": \"Count\"}, \"zerolinecolor\": \"#E1E5ED\"}},\n                        {\"showLink\": true, \"linkText\": \"Export to plot.ly\", \"plotlyServerURL\": \"https://plot.ly\", \"responsive\": true}\n                    ).then(function(){\n                            \nvar gd = document.getElementById('35eb5c21-06d4-46a5-a219-ad3a7e64fe2b');\nvar x = new MutationObserver(function (mutations, observer) {{\n        var display = window.getComputedStyle(gd).display;\n        if (!display || display === 'none') {{\n            console.log([gd, 'removed!']);\n            Plotly.purge(gd);\n            observer.disconnect();\n        }}\n}});\n\n// Listen for the removal of the full notebook cells\nvar notebookContainer = gd.closest('#notebook-container');\nif (notebookContainer) {{\n    x.observe(notebookContainer, {childList: true});\n}}\n\n// Listen for the clearing of the current output cell\nvar outputEl = gd.closest('.output');\nif (outputEl) {{\n    x.observe(outputEl, {childList: true});\n}}\n\n                        })\n                };\n                });\n            </script>\n        </div>"
         },
         "metadata": {},
         "output_type": "display_data"
        }
       ]
      }
     },
     "5e22a500410947d3a5b677dcf2f13a84": {
      "model_module": "@jupyter-widgets/base",
      "model_module_version": "1.2.0",
      "model_name": "LayoutModel",
      "state": {}
     },
     "5e3b8284655e4d1193d517ba382113c1": {
      "model_module": "@jupyter-widgets/base",
      "model_module_version": "1.2.0",
      "model_name": "LayoutModel",
      "state": {}
     },
     "5eb3637191734eec9f79620da58e5f29": {
      "model_module": "@jupyter-widgets/controls",
      "model_module_version": "1.5.0",
      "model_name": "ProgressStyleModel",
      "state": {
       "description_width": ""
      }
     },
     "5f1dad62fcbe45caac6444f661f27d10": {
      "model_module": "@jupyter-widgets/controls",
      "model_module_version": "1.5.0",
      "model_name": "ProgressStyleModel",
      "state": {
       "description_width": ""
      }
     },
     "62077375abdf48e28987780b10e7d2da": {
      "model_module": "@jupyter-widgets/controls",
      "model_module_version": "1.5.0",
      "model_name": "ProgressStyleModel",
      "state": {
       "description_width": ""
      }
     },
     "63382beeefa04a0a9a1169f1407a4c47": {
      "model_module": "@jupyter-widgets/controls",
      "model_module_version": "1.5.0",
      "model_name": "IntProgressModel",
      "state": {
       "description": "Processing: ",
       "layout": "IPY_MODEL_5e3b8284655e4d1193d517ba382113c1",
       "max": 48,
       "style": "IPY_MODEL_5eb3637191734eec9f79620da58e5f29",
       "value": 48
      }
     },
     "6581d7cb4d92419fbad67bffc7c275ab": {
      "model_module": "@jupyter-widgets/controls",
      "model_module_version": "1.5.0",
      "model_name": "IntProgressModel",
      "state": {
       "description": "Processing: ",
       "layout": "IPY_MODEL_9f4d9978372844b092eb142c012eb461",
       "max": 48,
       "style": "IPY_MODEL_ed35519ca52f4fd795e8c6cce2a7e233",
       "value": 48
      }
     },
     "66a25303bbe84b82b97f0a28a1667233": {
      "model_module": "@jupyter-widgets/base",
      "model_module_version": "1.2.0",
      "model_name": "LayoutModel",
      "state": {}
     },
     "68f776c0ee6042a2808649742f4bac2b": {
      "model_module": "@jupyter-widgets/controls",
      "model_module_version": "1.5.0",
      "model_name": "IntProgressModel",
      "state": {
       "description": "Processing: ",
       "layout": "IPY_MODEL_96f8fd9dded14f198991a160b4ce8f0e",
       "max": 48,
       "style": "IPY_MODEL_9c4378f7d73c44c79a71e9357098d2d3",
       "value": 48
      }
     },
     "69bb7f060370468ab969885a393bc713": {
      "model_module": "@jupyter-widgets/controls",
      "model_module_version": "1.5.0",
      "model_name": "DropdownModel",
      "state": {
       "_options_labels": [
        "Topic 0",
        "Topic 1",
        "Topic 2",
        "Topic 3",
        "Topic 4",
        "Topic 5",
        "Topic 6",
        "Topic 7",
        "Topic 8",
        "Topic 9"
       ],
       "description": "Topic #:",
       "index": 9,
       "layout": "IPY_MODEL_d2aabbfda6494143b42c40dc46625599",
       "style": "IPY_MODEL_d03d1c65475a46e7b028e243ac822384"
      }
     },
     "6b283543764646a9ae26e0b933fba321": {
      "model_module": "@jupyter-widgets/controls",
      "model_module_version": "1.5.0",
      "model_name": "ProgressStyleModel",
      "state": {
       "description_width": ""
      }
     },
     "6eca3fee38aa49eaa15618e2c784e7ef": {
      "model_module": "@jupyter-widgets/controls",
      "model_module_version": "1.5.0",
      "model_name": "ProgressStyleModel",
      "state": {
       "description_width": ""
      }
     },
     "704ea141a5074eaa83f67d44f98d2c0b": {
      "model_module": "@jupyter-widgets/controls",
      "model_module_version": "1.5.0",
      "model_name": "ToggleButtonsStyleModel",
      "state": {
       "button_width": "",
       "description_width": ""
      }
     },
     "70815f0b5b404c93be39bdaaca26b098": {
      "model_module": "@jupyter-widgets/controls",
      "model_module_version": "1.5.0",
      "model_name": "IntProgressModel",
      "state": {
       "description": "Processing: ",
       "layout": "IPY_MODEL_31b3baafeb774a7cbac7db870aa9dd74",
       "max": 11,
       "style": "IPY_MODEL_c94240c41acb4685a37cdf7f48cfe378",
       "value": 11
      }
     },
     "70a28876caf14ca4a0c5f7a06e67284a": {
      "model_module": "@jupyter-widgets/base",
      "model_module_version": "1.2.0",
      "model_name": "LayoutModel",
      "state": {}
     },
     "70c00a1bfdac47bab63eb7884d8f47ba": {
      "model_module": "@jupyter-widgets/controls",
      "model_module_version": "1.5.0",
      "model_name": "ProgressStyleModel",
      "state": {
       "description_width": ""
      }
     },
     "745fc4e908784fe492b489c290b04246": {
      "model_module": "@jupyter-widgets/base",
      "model_module_version": "1.2.0",
      "model_name": "LayoutModel",
      "state": {}
     },
     "7523194a671343439ee041b30daed4b8": {
      "model_module": "@jupyter-widgets/controls",
      "model_module_version": "1.5.0",
      "model_name": "IntProgressModel",
      "state": {
       "description": "Processing: ",
       "layout": "IPY_MODEL_53158dec7f594db998d1d3c997266e28",
       "max": 4,
       "style": "IPY_MODEL_45a586cfd60944c28a4a5cb8dfe23639",
       "value": 4
      }
     },
     "763db75e3ecf42a391036ae7cc84eedf": {
      "model_module": "@jupyter-widgets/controls",
      "model_module_version": "1.5.0",
      "model_name": "IntProgressModel",
      "state": {
       "description": "Processing: ",
       "layout": "IPY_MODEL_4b6faed7bfb248248bf88f723cafb57e",
       "max": 48,
       "style": "IPY_MODEL_d1fccbfe4ee44d3e966860acc4854a60",
       "value": 48
      }
     },
     "7a1376c322984f3dba0280748cca767c": {
      "model_module": "@jupyter-widgets/base",
      "model_module_version": "1.2.0",
      "model_name": "LayoutModel",
      "state": {}
     },
     "7b0513ed1df24cb6ac19ec71eebd739b": {
      "model_module": "@jupyter-widgets/base",
      "model_module_version": "1.2.0",
      "model_name": "LayoutModel",
      "state": {}
     },
     "7b0e6a4e2dfd48e390c41694374a5825": {
      "model_module": "@jupyter-widgets/controls",
      "model_module_version": "1.5.0",
      "model_name": "VBoxModel",
      "state": {
       "_dom_classes": [
        "widget-interact"
       ],
       "children": [
        "IPY_MODEL_b7ee6a23727d4f128a27c5424cfa14bd",
        "IPY_MODEL_23ed8d269a2b44afaef219e7a53bc0a6",
        "IPY_MODEL_ac0b46a532c142189c00dd3359f6d926",
        "IPY_MODEL_5be6d5098d9f467098ed1693d37e32b2"
       ],
       "layout": "IPY_MODEL_331b048b024f45e780b69e099540ecf6"
      }
     },
     "7b5a5643220a48888c4c3b6f73df3a63": {
      "model_module": "@jupyter-widgets/controls",
      "model_module_version": "1.5.0",
      "model_name": "IntProgressModel",
      "state": {
       "description": "Processing: ",
       "layout": "IPY_MODEL_7fb3d2a1a8404f7497fb26679cf4166d",
       "max": 870,
       "style": "IPY_MODEL_cf980fd03b41494883574b8be5f315d9",
       "value": 870
      }
     },
     "7f76dc59fe0f4871a34e98099e7bf624": {
      "model_module": "@jupyter-widgets/controls",
      "model_module_version": "1.5.0",
      "model_name": "ProgressStyleModel",
      "state": {
       "description_width": ""
      }
     },
     "7fb3d2a1a8404f7497fb26679cf4166d": {
      "model_module": "@jupyter-widgets/base",
      "model_module_version": "1.2.0",
      "model_name": "LayoutModel",
      "state": {}
     },
     "8003fd95dc824071acdbe35c3483e10b": {
      "model_module": "@jupyter-widgets/base",
      "model_module_version": "1.2.0",
      "model_name": "LayoutModel",
      "state": {}
     },
     "80183cf5fe844d7083166c3250f3fcaa": {
      "model_module": "@jupyter-widgets/base",
      "model_module_version": "1.2.0",
      "model_name": "LayoutModel",
      "state": {}
     },
     "801d09e6ba6a4c10b6e38212173591c2": {
      "model_module": "@jupyter-widgets/controls",
      "model_module_version": "1.5.0",
      "model_name": "IntProgressModel",
      "state": {
       "description": "Processing: ",
       "layout": "IPY_MODEL_b3b7e8dd4298442697da18f77b3df623",
       "max": 4,
       "style": "IPY_MODEL_ef3e23835aa14ee99e95326fc0ca375f",
       "value": 4
      }
     },
     "806b8881c83940ddbaa76483ffdc7f97": {
      "model_module": "@jupyter-widgets/controls",
      "model_module_version": "1.5.0",
      "model_name": "ToggleButtonsStyleModel",
      "state": {
       "button_width": "",
       "description_width": ""
      }
     },
     "84430717888d4c71a53354d53ab75469": {
      "model_module": "@jupyter-widgets/base",
      "model_module_version": "1.2.0",
      "model_name": "LayoutModel",
      "state": {}
     },
     "84fc731fdbef457a939c9ececba04239": {
      "model_module": "@jupyter-widgets/base",
      "model_module_version": "1.2.0",
      "model_name": "LayoutModel",
      "state": {}
     },
     "850b945cf1d84925b36b47b26dc721b1": {
      "model_module": "@jupyter-widgets/controls",
      "model_module_version": "1.5.0",
      "model_name": "IntProgressModel",
      "state": {
       "description": "Processing: ",
       "layout": "IPY_MODEL_1a44e97fbbe94591bf4aad7f63cc012a",
       "max": 870,
       "style": "IPY_MODEL_0f6c8ac6d1f846068fb9281665654538",
       "value": 870
      }
     },
     "8588d3da2aaf42249875a17f77c6efc7": {
      "model_module": "@jupyter-widgets/controls",
      "model_module_version": "1.5.0",
      "model_name": "ProgressStyleModel",
      "state": {
       "description_width": ""
      }
     },
     "86672c973c42441ebc1b07345926a549": {
      "model_module": "@jupyter-widgets/base",
      "model_module_version": "1.2.0",
      "model_name": "LayoutModel",
      "state": {}
     },
     "89b18157ae0c48089e0a9398fd4437f7": {
      "model_module": "@jupyter-widgets/controls",
      "model_module_version": "1.5.0",
      "model_name": "IntProgressModel",
      "state": {
       "description": "Processing: ",
       "layout": "IPY_MODEL_460c90df8cb44ac69590932b8b6e5074",
       "max": 48,
       "style": "IPY_MODEL_343289ca052f45dd9faadaefc9372136",
       "value": 48
      }
     },
     "8abccd2044f944c381d6a35591de0eac": {
      "model_module": "@jupyter-widgets/controls",
      "model_module_version": "1.5.0",
      "model_name": "VBoxModel",
      "state": {
       "_dom_classes": [
        "widget-interact"
       ],
       "children": [
        "IPY_MODEL_08aa6aa0ef6447a0bdc4244114ce3161",
        "IPY_MODEL_ea9cafbe17334322a6646de324d3464d",
        "IPY_MODEL_5971dcb9f6424a1cbf1c2014a1386b81",
        "IPY_MODEL_fbc08f74a0834df1ac913e55ca9f491b"
       ],
       "layout": "IPY_MODEL_2307265549e1422c90e209ab9fac75d9"
      }
     },
     "8b04a0dfd25a4ae8b9db2d90479cf22c": {
      "model_module": "@jupyter-widgets/base",
      "model_module_version": "1.2.0",
      "model_name": "LayoutModel",
      "state": {}
     },
     "8f1efb22dc584147b5cfa796e614d5e4": {
      "model_module": "@jupyter-widgets/controls",
      "model_module_version": "1.5.0",
      "model_name": "ProgressStyleModel",
      "state": {
       "description_width": ""
      }
     },
     "91384f83997a40989067f97b2a15c999": {
      "model_module": "@jupyter-widgets/controls",
      "model_module_version": "1.5.0",
      "model_name": "ProgressStyleModel",
      "state": {
       "description_width": ""
      }
     },
     "923076edcc1f4dd1ae098ee1879c5ad2": {
      "model_module": "@jupyter-widgets/controls",
      "model_module_version": "1.5.0",
      "model_name": "ProgressStyleModel",
      "state": {
       "description_width": ""
      }
     },
     "934bc2eb15ec404c9b98c481e126b7ac": {
      "model_module": "@jupyter-widgets/base",
      "model_module_version": "1.2.0",
      "model_name": "LayoutModel",
      "state": {}
     },
     "937c0719026c43d2b1b5d22fa0f42fb5": {
      "model_module": "@jupyter-widgets/output",
      "model_module_version": "1.0.0",
      "model_name": "OutputModel",
      "state": {
       "layout": "IPY_MODEL_e5f43c05ab66450d9111641e6985360b",
       "outputs": [
        {
         "data": {
          "text/html": "        <script type=\"text/javascript\">\n        window.PlotlyConfig = {MathJaxConfig: 'local'};\n        if (window.MathJax) {MathJax.Hub.Config({SVG: {font: \"STIX-Web\"}});}\n        if (typeof require !== 'undefined') {\n        require.undef(\"plotly\");\n        requirejs.config({\n            paths: {\n                'plotly': ['https://cdn.plot.ly/plotly-latest.min']\n            }\n        });\n        require(['plotly'], function(Plotly) {\n            window._Plotly = Plotly;\n        });\n        }\n        </script>\n        "
         },
         "metadata": {},
         "output_type": "display_data"
        },
        {
         "data": {
          "application/vnd.plotly.v1+json": {
           "config": {
            "linkText": "Export to plot.ly",
            "plotlyServerURL": "https://plot.ly",
            "showLink": true
           },
           "data": [
            {
             "marker": {
              "color": "rgba(255, 153, 51, 0.6)",
              "line": {
               "color": "rgba(255, 153, 51, 1.0)",
               "width": 1
              }
             },
             "name": "count",
             "orientation": "v",
             "text": "",
             "type": "bar",
             "x": [
              "include price",
              "breakfast breakfast",
              "pool look",
              "internet access",
              "price pay",
              "executive suite",
              "extra charge",
              "order breakfast",
              "breakfast selection",
              "business people",
              "general place",
              "full business",
              "impression cause",
              "however price",
              "honest lower",
              "hit shock",
              "expect many",
              "happen lobby",
              "fair location",
              "fill container",
              "go different",
              "fill plate",
              "finally fair",
              "find glass",
              "elevator breakfast",
              "friendly waiter",
              "glass complain",
              "euro mainly",
              "whole ambience",
              "eat bit",
              "due sale",
              "also offer",
              "ambience deadish",
              "apart staff",
              "average friendly",
              "bit pricey",
              "block elevator",
              "boring ago",
              "breakfast find",
              "breakfast less",
              "building block",
              "case extraordinary",
              "cause renovation",
              "complain much",
              "concierge parking",
              "container however",
              "convenient business",
              "dead boring",
              "deadish dead",
              "different building",
              "drink fill",
              "lobby notice",
              "less star",
              "want starve",
              "prime nicosianowaday",
              "promotion finally",
              "rate stay",
              "reception go",
              "relatively low",
              "renovation happen",
              "salad eat",
              "sale promotion",
              "shock sometimes",
              "sometimes pay",
              "special convenient",
              "special maybe",
              "staff polite",
              "star special",
              "star sure",
              "stay honest",
              "sure order",
              "think general",
              "value money",
              "visit overall",
              "waiter think",
              "pricey drink",
              "price hit",
              "polite whole",
              "much want",
              "location ideal",
              "low due",
              "lower expect",
              "mainly salad",
              "many star",
              "maybe impression",
              "money much",
              "much price",
              "much taste",
              "nicosianowaday special",
              "plate much",
              "notice concierge",
              "offer fill",
              "overall rate",
              "parking reception",
              "pay euro",
              "pay relatively",
              "people also",
              "people case",
              "place value",
              "ago prime"
             ],
             "y": [
              2,
              2,
              2,
              2,
              2,
              2,
              2,
              2,
              2,
              2,
              1,
              1,
              1,
              1,
              1,
              1,
              1,
              1,
              1,
              1,
              1,
              1,
              1,
              1,
              1,
              1,
              1,
              1,
              1,
              1,
              1,
              1,
              1,
              1,
              1,
              1,
              1,
              1,
              1,
              1,
              1,
              1,
              1,
              1,
              1,
              1,
              1,
              1,
              1,
              1,
              1,
              1,
              1,
              1,
              1,
              1,
              1,
              1,
              1,
              1,
              1,
              1,
              1,
              1,
              1,
              1,
              1,
              1,
              1,
              1,
              1,
              1,
              1,
              1,
              1,
              1,
              1,
              1,
              1,
              1,
              1,
              1,
              1,
              1,
              1,
              1,
              1,
              1,
              1,
              1,
              1,
              1,
              1,
              1,
              1,
              1,
              1,
              1,
              1,
              1
             ]
            }
           ],
           "layout": {
            "legend": {
             "bgcolor": "#F5F6F9",
             "font": {
              "color": "#4D5663"
             }
            },
            "paper_bgcolor": "#F5F6F9",
            "plot_bgcolor": "#F5F6F9",
            "template": {
             "data": {
              "bar": [
               {
                "error_x": {
                 "color": "#2a3f5f"
                },
                "error_y": {
                 "color": "#2a3f5f"
                },
                "marker": {
                 "line": {
                  "color": "#E5ECF6",
                  "width": 0.5
                 }
                },
                "type": "bar"
               }
              ],
              "barpolar": [
               {
                "marker": {
                 "line": {
                  "color": "#E5ECF6",
                  "width": 0.5
                 }
                },
                "type": "barpolar"
               }
              ],
              "carpet": [
               {
                "aaxis": {
                 "endlinecolor": "#2a3f5f",
                 "gridcolor": "white",
                 "linecolor": "white",
                 "minorgridcolor": "white",
                 "startlinecolor": "#2a3f5f"
                },
                "baxis": {
                 "endlinecolor": "#2a3f5f",
                 "gridcolor": "white",
                 "linecolor": "white",
                 "minorgridcolor": "white",
                 "startlinecolor": "#2a3f5f"
                },
                "type": "carpet"
               }
              ],
              "choropleth": [
               {
                "colorbar": {
                 "outlinewidth": 0,
                 "ticks": ""
                },
                "type": "choropleth"
               }
              ],
              "contour": [
               {
                "colorbar": {
                 "outlinewidth": 0,
                 "ticks": ""
                },
                "colorscale": [
                 [
                  0,
                  "#0d0887"
                 ],
                 [
                  0.1111111111111111,
                  "#46039f"
                 ],
                 [
                  0.2222222222222222,
                  "#7201a8"
                 ],
                 [
                  0.3333333333333333,
                  "#9c179e"
                 ],
                 [
                  0.4444444444444444,
                  "#bd3786"
                 ],
                 [
                  0.5555555555555556,
                  "#d8576b"
                 ],
                 [
                  0.6666666666666666,
                  "#ed7953"
                 ],
                 [
                  0.7777777777777778,
                  "#fb9f3a"
                 ],
                 [
                  0.8888888888888888,
                  "#fdca26"
                 ],
                 [
                  1,
                  "#f0f921"
                 ]
                ],
                "type": "contour"
               }
              ],
              "contourcarpet": [
               {
                "colorbar": {
                 "outlinewidth": 0,
                 "ticks": ""
                },
                "type": "contourcarpet"
               }
              ],
              "heatmap": [
               {
                "colorbar": {
                 "outlinewidth": 0,
                 "ticks": ""
                },
                "colorscale": [
                 [
                  0,
                  "#0d0887"
                 ],
                 [
                  0.1111111111111111,
                  "#46039f"
                 ],
                 [
                  0.2222222222222222,
                  "#7201a8"
                 ],
                 [
                  0.3333333333333333,
                  "#9c179e"
                 ],
                 [
                  0.4444444444444444,
                  "#bd3786"
                 ],
                 [
                  0.5555555555555556,
                  "#d8576b"
                 ],
                 [
                  0.6666666666666666,
                  "#ed7953"
                 ],
                 [
                  0.7777777777777778,
                  "#fb9f3a"
                 ],
                 [
                  0.8888888888888888,
                  "#fdca26"
                 ],
                 [
                  1,
                  "#f0f921"
                 ]
                ],
                "type": "heatmap"
               }
              ],
              "heatmapgl": [
               {
                "colorbar": {
                 "outlinewidth": 0,
                 "ticks": ""
                },
                "colorscale": [
                 [
                  0,
                  "#0d0887"
                 ],
                 [
                  0.1111111111111111,
                  "#46039f"
                 ],
                 [
                  0.2222222222222222,
                  "#7201a8"
                 ],
                 [
                  0.3333333333333333,
                  "#9c179e"
                 ],
                 [
                  0.4444444444444444,
                  "#bd3786"
                 ],
                 [
                  0.5555555555555556,
                  "#d8576b"
                 ],
                 [
                  0.6666666666666666,
                  "#ed7953"
                 ],
                 [
                  0.7777777777777778,
                  "#fb9f3a"
                 ],
                 [
                  0.8888888888888888,
                  "#fdca26"
                 ],
                 [
                  1,
                  "#f0f921"
                 ]
                ],
                "type": "heatmapgl"
               }
              ],
              "histogram": [
               {
                "marker": {
                 "colorbar": {
                  "outlinewidth": 0,
                  "ticks": ""
                 }
                },
                "type": "histogram"
               }
              ],
              "histogram2d": [
               {
                "colorbar": {
                 "outlinewidth": 0,
                 "ticks": ""
                },
                "colorscale": [
                 [
                  0,
                  "#0d0887"
                 ],
                 [
                  0.1111111111111111,
                  "#46039f"
                 ],
                 [
                  0.2222222222222222,
                  "#7201a8"
                 ],
                 [
                  0.3333333333333333,
                  "#9c179e"
                 ],
                 [
                  0.4444444444444444,
                  "#bd3786"
                 ],
                 [
                  0.5555555555555556,
                  "#d8576b"
                 ],
                 [
                  0.6666666666666666,
                  "#ed7953"
                 ],
                 [
                  0.7777777777777778,
                  "#fb9f3a"
                 ],
                 [
                  0.8888888888888888,
                  "#fdca26"
                 ],
                 [
                  1,
                  "#f0f921"
                 ]
                ],
                "type": "histogram2d"
               }
              ],
              "histogram2dcontour": [
               {
                "colorbar": {
                 "outlinewidth": 0,
                 "ticks": ""
                },
                "colorscale": [
                 [
                  0,
                  "#0d0887"
                 ],
                 [
                  0.1111111111111111,
                  "#46039f"
                 ],
                 [
                  0.2222222222222222,
                  "#7201a8"
                 ],
                 [
                  0.3333333333333333,
                  "#9c179e"
                 ],
                 [
                  0.4444444444444444,
                  "#bd3786"
                 ],
                 [
                  0.5555555555555556,
                  "#d8576b"
                 ],
                 [
                  0.6666666666666666,
                  "#ed7953"
                 ],
                 [
                  0.7777777777777778,
                  "#fb9f3a"
                 ],
                 [
                  0.8888888888888888,
                  "#fdca26"
                 ],
                 [
                  1,
                  "#f0f921"
                 ]
                ],
                "type": "histogram2dcontour"
               }
              ],
              "mesh3d": [
               {
                "colorbar": {
                 "outlinewidth": 0,
                 "ticks": ""
                },
                "type": "mesh3d"
               }
              ],
              "parcoords": [
               {
                "line": {
                 "colorbar": {
                  "outlinewidth": 0,
                  "ticks": ""
                 }
                },
                "type": "parcoords"
               }
              ],
              "pie": [
               {
                "automargin": true,
                "type": "pie"
               }
              ],
              "scatter": [
               {
                "marker": {
                 "colorbar": {
                  "outlinewidth": 0,
                  "ticks": ""
                 }
                },
                "type": "scatter"
               }
              ],
              "scatter3d": [
               {
                "line": {
                 "colorbar": {
                  "outlinewidth": 0,
                  "ticks": ""
                 }
                },
                "marker": {
                 "colorbar": {
                  "outlinewidth": 0,
                  "ticks": ""
                 }
                },
                "type": "scatter3d"
               }
              ],
              "scattercarpet": [
               {
                "marker": {
                 "colorbar": {
                  "outlinewidth": 0,
                  "ticks": ""
                 }
                },
                "type": "scattercarpet"
               }
              ],
              "scattergeo": [
               {
                "marker": {
                 "colorbar": {
                  "outlinewidth": 0,
                  "ticks": ""
                 }
                },
                "type": "scattergeo"
               }
              ],
              "scattergl": [
               {
                "marker": {
                 "colorbar": {
                  "outlinewidth": 0,
                  "ticks": ""
                 }
                },
                "type": "scattergl"
               }
              ],
              "scattermapbox": [
               {
                "marker": {
                 "colorbar": {
                  "outlinewidth": 0,
                  "ticks": ""
                 }
                },
                "type": "scattermapbox"
               }
              ],
              "scatterpolar": [
               {
                "marker": {
                 "colorbar": {
                  "outlinewidth": 0,
                  "ticks": ""
                 }
                },
                "type": "scatterpolar"
               }
              ],
              "scatterpolargl": [
               {
                "marker": {
                 "colorbar": {
                  "outlinewidth": 0,
                  "ticks": ""
                 }
                },
                "type": "scatterpolargl"
               }
              ],
              "scatterternary": [
               {
                "marker": {
                 "colorbar": {
                  "outlinewidth": 0,
                  "ticks": ""
                 }
                },
                "type": "scatterternary"
               }
              ],
              "surface": [
               {
                "colorbar": {
                 "outlinewidth": 0,
                 "ticks": ""
                },
                "colorscale": [
                 [
                  0,
                  "#0d0887"
                 ],
                 [
                  0.1111111111111111,
                  "#46039f"
                 ],
                 [
                  0.2222222222222222,
                  "#7201a8"
                 ],
                 [
                  0.3333333333333333,
                  "#9c179e"
                 ],
                 [
                  0.4444444444444444,
                  "#bd3786"
                 ],
                 [
                  0.5555555555555556,
                  "#d8576b"
                 ],
                 [
                  0.6666666666666666,
                  "#ed7953"
                 ],
                 [
                  0.7777777777777778,
                  "#fb9f3a"
                 ],
                 [
                  0.8888888888888888,
                  "#fdca26"
                 ],
                 [
                  1,
                  "#f0f921"
                 ]
                ],
                "type": "surface"
               }
              ],
              "table": [
               {
                "cells": {
                 "fill": {
                  "color": "#EBF0F8"
                 },
                 "line": {
                  "color": "white"
                 }
                },
                "header": {
                 "fill": {
                  "color": "#C8D4E3"
                 },
                 "line": {
                  "color": "white"
                 }
                },
                "type": "table"
               }
              ]
             },
             "layout": {
              "annotationdefaults": {
               "arrowcolor": "#2a3f5f",
               "arrowhead": 0,
               "arrowwidth": 1
              },
              "coloraxis": {
               "colorbar": {
                "outlinewidth": 0,
                "ticks": ""
               }
              },
              "colorscale": {
               "diverging": [
                [
                 0,
                 "#8e0152"
                ],
                [
                 0.1,
                 "#c51b7d"
                ],
                [
                 0.2,
                 "#de77ae"
                ],
                [
                 0.3,
                 "#f1b6da"
                ],
                [
                 0.4,
                 "#fde0ef"
                ],
                [
                 0.5,
                 "#f7f7f7"
                ],
                [
                 0.6,
                 "#e6f5d0"
                ],
                [
                 0.7,
                 "#b8e186"
                ],
                [
                 0.8,
                 "#7fbc41"
                ],
                [
                 0.9,
                 "#4d9221"
                ],
                [
                 1,
                 "#276419"
                ]
               ],
               "sequential": [
                [
                 0,
                 "#0d0887"
                ],
                [
                 0.1111111111111111,
                 "#46039f"
                ],
                [
                 0.2222222222222222,
                 "#7201a8"
                ],
                [
                 0.3333333333333333,
                 "#9c179e"
                ],
                [
                 0.4444444444444444,
                 "#bd3786"
                ],
                [
                 0.5555555555555556,
                 "#d8576b"
                ],
                [
                 0.6666666666666666,
                 "#ed7953"
                ],
                [
                 0.7777777777777778,
                 "#fb9f3a"
                ],
                [
                 0.8888888888888888,
                 "#fdca26"
                ],
                [
                 1,
                 "#f0f921"
                ]
               ],
               "sequentialminus": [
                [
                 0,
                 "#0d0887"
                ],
                [
                 0.1111111111111111,
                 "#46039f"
                ],
                [
                 0.2222222222222222,
                 "#7201a8"
                ],
                [
                 0.3333333333333333,
                 "#9c179e"
                ],
                [
                 0.4444444444444444,
                 "#bd3786"
                ],
                [
                 0.5555555555555556,
                 "#d8576b"
                ],
                [
                 0.6666666666666666,
                 "#ed7953"
                ],
                [
                 0.7777777777777778,
                 "#fb9f3a"
                ],
                [
                 0.8888888888888888,
                 "#fdca26"
                ],
                [
                 1,
                 "#f0f921"
                ]
               ]
              },
              "colorway": [
               "#636efa",
               "#EF553B",
               "#00cc96",
               "#ab63fa",
               "#FFA15A",
               "#19d3f3",
               "#FF6692",
               "#B6E880",
               "#FF97FF",
               "#FECB52"
              ],
              "font": {
               "color": "#2a3f5f"
              },
              "geo": {
               "bgcolor": "white",
               "lakecolor": "white",
               "landcolor": "#E5ECF6",
               "showlakes": true,
               "showland": true,
               "subunitcolor": "white"
              },
              "hoverlabel": {
               "align": "left"
              },
              "hovermode": "closest",
              "mapbox": {
               "style": "light"
              },
              "paper_bgcolor": "white",
              "plot_bgcolor": "#E5ECF6",
              "polar": {
               "angularaxis": {
                "gridcolor": "white",
                "linecolor": "white",
                "ticks": ""
               },
               "bgcolor": "#E5ECF6",
               "radialaxis": {
                "gridcolor": "white",
                "linecolor": "white",
                "ticks": ""
               }
              },
              "scene": {
               "xaxis": {
                "backgroundcolor": "#E5ECF6",
                "gridcolor": "white",
                "gridwidth": 2,
                "linecolor": "white",
                "showbackground": true,
                "ticks": "",
                "zerolinecolor": "white"
               },
               "yaxis": {
                "backgroundcolor": "#E5ECF6",
                "gridcolor": "white",
                "gridwidth": 2,
                "linecolor": "white",
                "showbackground": true,
                "ticks": "",
                "zerolinecolor": "white"
               },
               "zaxis": {
                "backgroundcolor": "#E5ECF6",
                "gridcolor": "white",
                "gridwidth": 2,
                "linecolor": "white",
                "showbackground": true,
                "ticks": "",
                "zerolinecolor": "white"
               }
              },
              "shapedefaults": {
               "line": {
                "color": "#2a3f5f"
               }
              },
              "ternary": {
               "aaxis": {
                "gridcolor": "white",
                "linecolor": "white",
                "ticks": ""
               },
               "baxis": {
                "gridcolor": "white",
                "linecolor": "white",
                "ticks": ""
               },
               "bgcolor": "#E5ECF6",
               "caxis": {
                "gridcolor": "white",
                "linecolor": "white",
                "ticks": ""
               }
              },
              "title": {
               "x": 0.05
              },
              "xaxis": {
               "automargin": true,
               "gridcolor": "white",
               "linecolor": "white",
               "ticks": "",
               "title": {
                "standoff": 15
               },
               "zerolinecolor": "white",
               "zerolinewidth": 2
              },
              "yaxis": {
               "automargin": true,
               "gridcolor": "white",
               "linecolor": "white",
               "ticks": "",
               "title": {
                "standoff": 15
               },
               "zerolinecolor": "white",
               "zerolinewidth": 2
              }
             }
            },
            "title": {
             "font": {
              "color": "#4D5663"
             },
             "text": "Topic 2: Top 100 bigrams after removing stop words"
            },
            "xaxis": {
             "gridcolor": "#E1E5ED",
             "linecolor": "black",
             "showgrid": true,
             "tickfont": {
              "color": "#4D5663"
             },
             "title": {
              "font": {
               "color": "#4D5663"
              },
              "text": ""
             },
             "zerolinecolor": "#E1E5ED"
            },
            "yaxis": {
             "gridcolor": "#E1E5ED",
             "linecolor": "black",
             "showgrid": true,
             "tickfont": {
              "color": "#4D5663"
             },
             "title": {
              "font": {
               "color": "#4D5663"
              },
              "text": "Count"
             },
             "zerolinecolor": "#E1E5ED"
            }
           }
          },
          "text/html": "<div>\n        \n        \n            <div id=\"329d6fa4-ba02-4ddf-9e32-2f808a27a483\" class=\"plotly-graph-div\" style=\"height:525px; width:100%;\"></div>\n            <script type=\"text/javascript\">\n                require([\"plotly\"], function(Plotly) {\n                    window.PLOTLYENV=window.PLOTLYENV || {};\n                    window.PLOTLYENV.BASE_URL='https://plot.ly';\n                    \n                if (document.getElementById(\"329d6fa4-ba02-4ddf-9e32-2f808a27a483\")) {\n                    Plotly.newPlot(\n                        '329d6fa4-ba02-4ddf-9e32-2f808a27a483',\n                        [{\"marker\": {\"color\": \"rgba(255, 153, 51, 0.6)\", \"line\": {\"color\": \"rgba(255, 153, 51, 1.0)\", \"width\": 1}}, \"name\": \"count\", \"orientation\": \"v\", \"text\": \"\", \"type\": \"bar\", \"x\": [\"include price\", \"breakfast breakfast\", \"pool look\", \"internet access\", \"price pay\", \"executive suite\", \"extra charge\", \"order breakfast\", \"breakfast selection\", \"business people\", \"general place\", \"full business\", \"impression cause\", \"however price\", \"honest lower\", \"hit shock\", \"expect many\", \"happen lobby\", \"fair location\", \"fill container\", \"go different\", \"fill plate\", \"finally fair\", \"find glass\", \"elevator breakfast\", \"friendly waiter\", \"glass complain\", \"euro mainly\", \"whole ambience\", \"eat bit\", \"due sale\", \"also offer\", \"ambience deadish\", \"apart staff\", \"average friendly\", \"bit pricey\", \"block elevator\", \"boring ago\", \"breakfast find\", \"breakfast less\", \"building block\", \"case extraordinary\", \"cause renovation\", \"complain much\", \"concierge parking\", \"container however\", \"convenient business\", \"dead boring\", \"deadish dead\", \"different building\", \"drink fill\", \"lobby notice\", \"less star\", \"want starve\", \"prime nicosianowaday\", \"promotion finally\", \"rate stay\", \"reception go\", \"relatively low\", \"renovation happen\", \"salad eat\", \"sale promotion\", \"shock sometimes\", \"sometimes pay\", \"special convenient\", \"special maybe\", \"staff polite\", \"star special\", \"star sure\", \"stay honest\", \"sure order\", \"think general\", \"value money\", \"visit overall\", \"waiter think\", \"pricey drink\", \"price hit\", \"polite whole\", \"much want\", \"location ideal\", \"low due\", \"lower expect\", \"mainly salad\", \"many star\", \"maybe impression\", \"money much\", \"much price\", \"much taste\", \"nicosianowaday special\", \"plate much\", \"notice concierge\", \"offer fill\", \"overall rate\", \"parking reception\", \"pay euro\", \"pay relatively\", \"people also\", \"people case\", \"place value\", \"ago prime\"], \"y\": [2, 2, 2, 2, 2, 2, 2, 2, 2, 2, 1, 1, 1, 1, 1, 1, 1, 1, 1, 1, 1, 1, 1, 1, 1, 1, 1, 1, 1, 1, 1, 1, 1, 1, 1, 1, 1, 1, 1, 1, 1, 1, 1, 1, 1, 1, 1, 1, 1, 1, 1, 1, 1, 1, 1, 1, 1, 1, 1, 1, 1, 1, 1, 1, 1, 1, 1, 1, 1, 1, 1, 1, 1, 1, 1, 1, 1, 1, 1, 1, 1, 1, 1, 1, 1, 1, 1, 1, 1, 1, 1, 1, 1, 1, 1, 1, 1, 1, 1, 1]}],\n                        {\"legend\": {\"bgcolor\": \"#F5F6F9\", \"font\": {\"color\": \"#4D5663\"}}, \"paper_bgcolor\": \"#F5F6F9\", \"plot_bgcolor\": \"#F5F6F9\", \"template\": {\"data\": {\"bar\": [{\"error_x\": {\"color\": \"#2a3f5f\"}, \"error_y\": {\"color\": \"#2a3f5f\"}, \"marker\": {\"line\": {\"color\": \"#E5ECF6\", \"width\": 0.5}}, \"type\": \"bar\"}], \"barpolar\": [{\"marker\": {\"line\": {\"color\": \"#E5ECF6\", \"width\": 0.5}}, \"type\": \"barpolar\"}], \"carpet\": [{\"aaxis\": {\"endlinecolor\": \"#2a3f5f\", \"gridcolor\": \"white\", \"linecolor\": \"white\", \"minorgridcolor\": \"white\", \"startlinecolor\": \"#2a3f5f\"}, \"baxis\": {\"endlinecolor\": \"#2a3f5f\", \"gridcolor\": \"white\", \"linecolor\": \"white\", \"minorgridcolor\": \"white\", \"startlinecolor\": \"#2a3f5f\"}, \"type\": \"carpet\"}], \"choropleth\": [{\"colorbar\": {\"outlinewidth\": 0, \"ticks\": \"\"}, \"type\": \"choropleth\"}], \"contour\": [{\"colorbar\": {\"outlinewidth\": 0, \"ticks\": \"\"}, \"colorscale\": [[0.0, \"#0d0887\"], [0.1111111111111111, \"#46039f\"], [0.2222222222222222, \"#7201a8\"], [0.3333333333333333, \"#9c179e\"], [0.4444444444444444, \"#bd3786\"], [0.5555555555555556, \"#d8576b\"], [0.6666666666666666, \"#ed7953\"], [0.7777777777777778, \"#fb9f3a\"], [0.8888888888888888, \"#fdca26\"], [1.0, \"#f0f921\"]], \"type\": \"contour\"}], \"contourcarpet\": [{\"colorbar\": {\"outlinewidth\": 0, \"ticks\": \"\"}, \"type\": \"contourcarpet\"}], \"heatmap\": [{\"colorbar\": {\"outlinewidth\": 0, \"ticks\": \"\"}, \"colorscale\": [[0.0, \"#0d0887\"], [0.1111111111111111, \"#46039f\"], [0.2222222222222222, \"#7201a8\"], [0.3333333333333333, \"#9c179e\"], [0.4444444444444444, \"#bd3786\"], [0.5555555555555556, \"#d8576b\"], [0.6666666666666666, \"#ed7953\"], [0.7777777777777778, \"#fb9f3a\"], [0.8888888888888888, \"#fdca26\"], [1.0, \"#f0f921\"]], \"type\": \"heatmap\"}], \"heatmapgl\": [{\"colorbar\": {\"outlinewidth\": 0, \"ticks\": \"\"}, \"colorscale\": [[0.0, \"#0d0887\"], [0.1111111111111111, \"#46039f\"], [0.2222222222222222, \"#7201a8\"], [0.3333333333333333, \"#9c179e\"], [0.4444444444444444, \"#bd3786\"], [0.5555555555555556, \"#d8576b\"], [0.6666666666666666, \"#ed7953\"], [0.7777777777777778, \"#fb9f3a\"], [0.8888888888888888, \"#fdca26\"], [1.0, \"#f0f921\"]], \"type\": \"heatmapgl\"}], \"histogram\": [{\"marker\": {\"colorbar\": {\"outlinewidth\": 0, \"ticks\": \"\"}}, \"type\": \"histogram\"}], \"histogram2d\": [{\"colorbar\": {\"outlinewidth\": 0, \"ticks\": \"\"}, \"colorscale\": [[0.0, \"#0d0887\"], [0.1111111111111111, \"#46039f\"], [0.2222222222222222, \"#7201a8\"], [0.3333333333333333, \"#9c179e\"], [0.4444444444444444, \"#bd3786\"], [0.5555555555555556, \"#d8576b\"], [0.6666666666666666, \"#ed7953\"], [0.7777777777777778, \"#fb9f3a\"], [0.8888888888888888, \"#fdca26\"], [1.0, \"#f0f921\"]], \"type\": \"histogram2d\"}], \"histogram2dcontour\": [{\"colorbar\": {\"outlinewidth\": 0, \"ticks\": \"\"}, \"colorscale\": [[0.0, \"#0d0887\"], [0.1111111111111111, \"#46039f\"], [0.2222222222222222, \"#7201a8\"], [0.3333333333333333, \"#9c179e\"], [0.4444444444444444, \"#bd3786\"], [0.5555555555555556, \"#d8576b\"], [0.6666666666666666, \"#ed7953\"], [0.7777777777777778, \"#fb9f3a\"], [0.8888888888888888, \"#fdca26\"], [1.0, \"#f0f921\"]], \"type\": \"histogram2dcontour\"}], \"mesh3d\": [{\"colorbar\": {\"outlinewidth\": 0, \"ticks\": \"\"}, \"type\": \"mesh3d\"}], \"parcoords\": [{\"line\": {\"colorbar\": {\"outlinewidth\": 0, \"ticks\": \"\"}}, \"type\": \"parcoords\"}], \"pie\": [{\"automargin\": true, \"type\": \"pie\"}], \"scatter\": [{\"marker\": {\"colorbar\": {\"outlinewidth\": 0, \"ticks\": \"\"}}, \"type\": \"scatter\"}], \"scatter3d\": [{\"line\": {\"colorbar\": {\"outlinewidth\": 0, \"ticks\": \"\"}}, \"marker\": {\"colorbar\": {\"outlinewidth\": 0, \"ticks\": \"\"}}, \"type\": \"scatter3d\"}], \"scattercarpet\": [{\"marker\": {\"colorbar\": {\"outlinewidth\": 0, \"ticks\": \"\"}}, \"type\": \"scattercarpet\"}], \"scattergeo\": [{\"marker\": {\"colorbar\": {\"outlinewidth\": 0, \"ticks\": \"\"}}, \"type\": \"scattergeo\"}], \"scattergl\": [{\"marker\": {\"colorbar\": {\"outlinewidth\": 0, \"ticks\": \"\"}}, \"type\": \"scattergl\"}], \"scattermapbox\": [{\"marker\": {\"colorbar\": {\"outlinewidth\": 0, \"ticks\": \"\"}}, \"type\": \"scattermapbox\"}], \"scatterpolar\": [{\"marker\": {\"colorbar\": {\"outlinewidth\": 0, \"ticks\": \"\"}}, \"type\": \"scatterpolar\"}], \"scatterpolargl\": [{\"marker\": {\"colorbar\": {\"outlinewidth\": 0, \"ticks\": \"\"}}, \"type\": \"scatterpolargl\"}], \"scatterternary\": [{\"marker\": {\"colorbar\": {\"outlinewidth\": 0, \"ticks\": \"\"}}, \"type\": \"scatterternary\"}], \"surface\": [{\"colorbar\": {\"outlinewidth\": 0, \"ticks\": \"\"}, \"colorscale\": [[0.0, \"#0d0887\"], [0.1111111111111111, \"#46039f\"], [0.2222222222222222, \"#7201a8\"], [0.3333333333333333, \"#9c179e\"], [0.4444444444444444, \"#bd3786\"], [0.5555555555555556, \"#d8576b\"], [0.6666666666666666, \"#ed7953\"], [0.7777777777777778, \"#fb9f3a\"], [0.8888888888888888, \"#fdca26\"], [1.0, \"#f0f921\"]], \"type\": \"surface\"}], \"table\": [{\"cells\": {\"fill\": {\"color\": \"#EBF0F8\"}, \"line\": {\"color\": \"white\"}}, \"header\": {\"fill\": {\"color\": \"#C8D4E3\"}, \"line\": {\"color\": \"white\"}}, \"type\": \"table\"}]}, \"layout\": {\"annotationdefaults\": {\"arrowcolor\": \"#2a3f5f\", \"arrowhead\": 0, \"arrowwidth\": 1}, \"coloraxis\": {\"colorbar\": {\"outlinewidth\": 0, \"ticks\": \"\"}}, \"colorscale\": {\"diverging\": [[0, \"#8e0152\"], [0.1, \"#c51b7d\"], [0.2, \"#de77ae\"], [0.3, \"#f1b6da\"], [0.4, \"#fde0ef\"], [0.5, \"#f7f7f7\"], [0.6, \"#e6f5d0\"], [0.7, \"#b8e186\"], [0.8, \"#7fbc41\"], [0.9, \"#4d9221\"], [1, \"#276419\"]], \"sequential\": [[0.0, \"#0d0887\"], [0.1111111111111111, \"#46039f\"], [0.2222222222222222, \"#7201a8\"], [0.3333333333333333, \"#9c179e\"], [0.4444444444444444, \"#bd3786\"], [0.5555555555555556, \"#d8576b\"], [0.6666666666666666, \"#ed7953\"], [0.7777777777777778, \"#fb9f3a\"], [0.8888888888888888, \"#fdca26\"], [1.0, \"#f0f921\"]], \"sequentialminus\": [[0.0, \"#0d0887\"], [0.1111111111111111, \"#46039f\"], [0.2222222222222222, \"#7201a8\"], [0.3333333333333333, \"#9c179e\"], [0.4444444444444444, \"#bd3786\"], [0.5555555555555556, \"#d8576b\"], [0.6666666666666666, \"#ed7953\"], [0.7777777777777778, \"#fb9f3a\"], [0.8888888888888888, \"#fdca26\"], [1.0, \"#f0f921\"]]}, \"colorway\": [\"#636efa\", \"#EF553B\", \"#00cc96\", \"#ab63fa\", \"#FFA15A\", \"#19d3f3\", \"#FF6692\", \"#B6E880\", \"#FF97FF\", \"#FECB52\"], \"font\": {\"color\": \"#2a3f5f\"}, \"geo\": {\"bgcolor\": \"white\", \"lakecolor\": \"white\", \"landcolor\": \"#E5ECF6\", \"showlakes\": true, \"showland\": true, \"subunitcolor\": \"white\"}, \"hoverlabel\": {\"align\": \"left\"}, \"hovermode\": \"closest\", \"mapbox\": {\"style\": \"light\"}, \"paper_bgcolor\": \"white\", \"plot_bgcolor\": \"#E5ECF6\", \"polar\": {\"angularaxis\": {\"gridcolor\": \"white\", \"linecolor\": \"white\", \"ticks\": \"\"}, \"bgcolor\": \"#E5ECF6\", \"radialaxis\": {\"gridcolor\": \"white\", \"linecolor\": \"white\", \"ticks\": \"\"}}, \"scene\": {\"xaxis\": {\"backgroundcolor\": \"#E5ECF6\", \"gridcolor\": \"white\", \"gridwidth\": 2, \"linecolor\": \"white\", \"showbackground\": true, \"ticks\": \"\", \"zerolinecolor\": \"white\"}, \"yaxis\": {\"backgroundcolor\": \"#E5ECF6\", \"gridcolor\": \"white\", \"gridwidth\": 2, \"linecolor\": \"white\", \"showbackground\": true, \"ticks\": \"\", \"zerolinecolor\": \"white\"}, \"zaxis\": {\"backgroundcolor\": \"#E5ECF6\", \"gridcolor\": \"white\", \"gridwidth\": 2, \"linecolor\": \"white\", \"showbackground\": true, \"ticks\": \"\", \"zerolinecolor\": \"white\"}}, \"shapedefaults\": {\"line\": {\"color\": \"#2a3f5f\"}}, \"ternary\": {\"aaxis\": {\"gridcolor\": \"white\", \"linecolor\": \"white\", \"ticks\": \"\"}, \"baxis\": {\"gridcolor\": \"white\", \"linecolor\": \"white\", \"ticks\": \"\"}, \"bgcolor\": \"#E5ECF6\", \"caxis\": {\"gridcolor\": \"white\", \"linecolor\": \"white\", \"ticks\": \"\"}}, \"title\": {\"x\": 0.05}, \"xaxis\": {\"automargin\": true, \"gridcolor\": \"white\", \"linecolor\": \"white\", \"ticks\": \"\", \"title\": {\"standoff\": 15}, \"zerolinecolor\": \"white\", \"zerolinewidth\": 2}, \"yaxis\": {\"automargin\": true, \"gridcolor\": \"white\", \"linecolor\": \"white\", \"ticks\": \"\", \"title\": {\"standoff\": 15}, \"zerolinecolor\": \"white\", \"zerolinewidth\": 2}}}, \"title\": {\"font\": {\"color\": \"#4D5663\"}, \"text\": \"Topic 2: Top 100 bigrams after removing stop words\"}, \"xaxis\": {\"gridcolor\": \"#E1E5ED\", \"linecolor\": \"black\", \"showgrid\": true, \"tickfont\": {\"color\": \"#4D5663\"}, \"title\": {\"font\": {\"color\": \"#4D5663\"}, \"text\": \"\"}, \"zerolinecolor\": \"#E1E5ED\"}, \"yaxis\": {\"gridcolor\": \"#E1E5ED\", \"linecolor\": \"black\", \"showgrid\": true, \"tickfont\": {\"color\": \"#4D5663\"}, \"title\": {\"font\": {\"color\": \"#4D5663\"}, \"text\": \"Count\"}, \"zerolinecolor\": \"#E1E5ED\"}},\n                        {\"showLink\": true, \"linkText\": \"Export to plot.ly\", \"plotlyServerURL\": \"https://plot.ly\", \"responsive\": true}\n                    ).then(function(){\n                            \nvar gd = document.getElementById('329d6fa4-ba02-4ddf-9e32-2f808a27a483');\nvar x = new MutationObserver(function (mutations, observer) {{\n        var display = window.getComputedStyle(gd).display;\n        if (!display || display === 'none') {{\n            console.log([gd, 'removed!']);\n            Plotly.purge(gd);\n            observer.disconnect();\n        }}\n}});\n\n// Listen for the removal of the full notebook cells\nvar notebookContainer = gd.closest('#notebook-container');\nif (notebookContainer) {{\n    x.observe(notebookContainer, {childList: true});\n}}\n\n// Listen for the clearing of the current output cell\nvar outputEl = gd.closest('.output');\nif (outputEl) {{\n    x.observe(outputEl, {childList: true});\n}}\n\n                        })\n                };\n                });\n            </script>\n        </div>"
         },
         "metadata": {},
         "output_type": "display_data"
        }
       ]
      }
     },
     "93acdd56af924feda1fa9548e71bb783": {
      "model_module": "@jupyter-widgets/base",
      "model_module_version": "1.2.0",
      "model_name": "LayoutModel",
      "state": {}
     },
     "93d58084ac804cbe93762e3d49f909b6": {
      "model_module": "@jupyter-widgets/controls",
      "model_module_version": "1.5.0",
      "model_name": "IntProgressModel",
      "state": {
       "description": "Processing: ",
       "layout": "IPY_MODEL_379ae64d79ba4e5eb105aff54a88ccd5",
       "max": 4,
       "style": "IPY_MODEL_91384f83997a40989067f97b2a15c999",
       "value": 4
      }
     },
     "95ef5bf7c10d49e3abc6007441890ba5": {
      "model_module": "@jupyter-widgets/controls",
      "model_module_version": "1.5.0",
      "model_name": "IntProgressModel",
      "state": {
       "description": "Processing: ",
       "layout": "IPY_MODEL_aa6d72bec06047ed9817f7e9edb5ddea",
       "max": 870,
       "style": "IPY_MODEL_c40dc93f165442c495c677db4987a53b",
       "value": 870
      }
     },
     "95f3e31f5349418db0ea0938aa4c8222": {
      "model_module": "@jupyter-widgets/controls",
      "model_module_version": "1.5.0",
      "model_name": "ProgressStyleModel",
      "state": {
       "description_width": ""
      }
     },
     "96f8fd9dded14f198991a160b4ce8f0e": {
      "model_module": "@jupyter-widgets/base",
      "model_module_version": "1.2.0",
      "model_name": "LayoutModel",
      "state": {}
     },
     "97e9ddff3e324cafbe45798124f3620f": {
      "model_module": "@jupyter-widgets/controls",
      "model_module_version": "1.5.0",
      "model_name": "ProgressStyleModel",
      "state": {
       "description_width": ""
      }
     },
     "98ec7b2109b443cd830023b2284e5337": {
      "model_module": "@jupyter-widgets/controls",
      "model_module_version": "1.5.0",
      "model_name": "DescriptionStyleModel",
      "state": {
       "description_width": ""
      }
     },
     "9a4c8b08486a40eeaa9253f434a0601e": {
      "model_module": "@jupyter-widgets/controls",
      "model_module_version": "1.5.0",
      "model_name": "IntProgressModel",
      "state": {
       "description": "Processing: ",
       "layout": "IPY_MODEL_be2c764e2e784646825313c7e654e5ba",
       "max": 48,
       "style": "IPY_MODEL_70c00a1bfdac47bab63eb7884d8f47ba",
       "value": 48
      }
     },
     "9aabb3b829874b058fd783f5e9b3d23c": {
      "model_module": "@jupyter-widgets/controls",
      "model_module_version": "1.5.0",
      "model_name": "IntProgressModel",
      "state": {
       "description": "Processing: ",
       "layout": "IPY_MODEL_0b344abf71a24150aa935a7f913cbea4",
       "max": 48,
       "style": "IPY_MODEL_7f76dc59fe0f4871a34e98099e7bf624",
       "value": 48
      }
     },
     "9b64f8fc10254320baddc9ed31f2b5f6": {
      "model_module": "@jupyter-widgets/controls",
      "model_module_version": "1.5.0",
      "model_name": "IntProgressModel",
      "state": {
       "description": "Processing: ",
       "layout": "IPY_MODEL_1c9056f33a1a44b480d6146ec57c5394",
       "max": 4,
       "style": "IPY_MODEL_b9a0c6615ef04ac495bb438fa8117d0c",
       "value": 4
      }
     },
     "9c4378f7d73c44c79a71e9357098d2d3": {
      "model_module": "@jupyter-widgets/controls",
      "model_module_version": "1.5.0",
      "model_name": "ProgressStyleModel",
      "state": {
       "description_width": ""
      }
     },
     "9c60033ee0d74e949a5e8bbb2ad1aca6": {
      "model_module": "@jupyter-widgets/controls",
      "model_module_version": "1.5.0",
      "model_name": "ProgressStyleModel",
      "state": {
       "description_width": ""
      }
     },
     "9dc261eb9a4e494586ff942cfe9e6f98": {
      "model_module": "@jupyter-widgets/controls",
      "model_module_version": "1.5.0",
      "model_name": "VBoxModel",
      "state": {
       "_dom_classes": [
        "widget-interact"
       ],
       "children": [
        "IPY_MODEL_dda1594c70a342a5b6b0748ea00dd659",
        "IPY_MODEL_69bb7f060370468ab969885a393bc713",
        "IPY_MODEL_0ca41fee96084ec6b860c2c557524953",
        "IPY_MODEL_ef7bc8a5ff5a4641b8b745d7b49cb773"
       ],
       "layout": "IPY_MODEL_58831f023c5b497e919aff6f4eb8a4a5"
      }
     },
     "9e372dc8d8dd4332b410424cc92f84c5": {
      "model_module": "@jupyter-widgets/controls",
      "model_module_version": "1.5.0",
      "model_name": "ProgressStyleModel",
      "state": {
       "description_width": ""
      }
     },
     "9e6d802bfa104586a25109d50ceff98d": {
      "model_module": "@jupyter-widgets/controls",
      "model_module_version": "1.5.0",
      "model_name": "ProgressStyleModel",
      "state": {
       "description_width": ""
      }
     },
     "9ef43e6e7e114d4784803f678f08a6c2": {
      "model_module": "@jupyter-widgets/controls",
      "model_module_version": "1.5.0",
      "model_name": "IntProgressModel",
      "state": {
       "description": "Processing: ",
       "layout": "IPY_MODEL_93acdd56af924feda1fa9548e71bb783",
       "max": 4,
       "style": "IPY_MODEL_fdc6a6ef75b44c73a1349f2dd0d7348a",
       "value": 4
      }
     },
     "9f25d12341b64552868de4dabd7bb506": {
      "model_module": "@jupyter-widgets/base",
      "model_module_version": "1.2.0",
      "model_name": "LayoutModel",
      "state": {}
     },
     "9f4d9978372844b092eb142c012eb461": {
      "model_module": "@jupyter-widgets/base",
      "model_module_version": "1.2.0",
      "model_name": "LayoutModel",
      "state": {}
     },
     "9faa55c9b02641e6abb0471247a2af53": {
      "model_module": "@jupyter-widgets/controls",
      "model_module_version": "1.5.0",
      "model_name": "ProgressStyleModel",
      "state": {
       "description_width": ""
      }
     },
     "a258c0286fa0415d818d3992c5c8338f": {
      "model_module": "@jupyter-widgets/controls",
      "model_module_version": "1.5.0",
      "model_name": "IntProgressModel",
      "state": {
       "description": "Processing: ",
       "layout": "IPY_MODEL_fae045083bb24cc5b7d9651f5abf55fd",
       "max": 4,
       "style": "IPY_MODEL_be2a7d4439384344931597cb08b5d5d5",
       "value": 4
      }
     },
     "a26c19ef5e91416490b0d2ef8b50537d": {
      "model_module": "@jupyter-widgets/output",
      "model_module_version": "1.0.0",
      "model_name": "OutputModel",
      "state": {
       "layout": "IPY_MODEL_4e3242bd35ff4ec681ee4cacddc4c182"
      }
     },
     "a3319ec54e0d41f382217ed7648b4abb": {
      "model_module": "@jupyter-widgets/controls",
      "model_module_version": "1.5.0",
      "model_name": "IntProgressModel",
      "state": {
       "description": "Processing: ",
       "layout": "IPY_MODEL_0db6eb636e3846ae9c7311a0242e7c96",
       "max": 48,
       "style": "IPY_MODEL_4e1fdee38f5c468196e169e6a5f7c101",
       "value": 48
      }
     },
     "a34fb008861f46e496add1a395f98c5c": {
      "model_module": "@jupyter-widgets/controls",
      "model_module_version": "1.5.0",
      "model_name": "ProgressStyleModel",
      "state": {
       "description_width": ""
      }
     },
     "a6d7d14e7d2743408312f61026036be1": {
      "model_module": "@jupyter-widgets/controls",
      "model_module_version": "1.5.0",
      "model_name": "ProgressStyleModel",
      "state": {
       "description_width": ""
      }
     },
     "a742a2a945db42c3a75be1bb9b816ab1": {
      "model_module": "@jupyter-widgets/controls",
      "model_module_version": "1.5.0",
      "model_name": "ToggleButtonsStyleModel",
      "state": {
       "button_width": "",
       "description_width": ""
      }
     },
     "a83a1065e8ea46f79cd22b93a05f9934": {
      "model_module": "@jupyter-widgets/base",
      "model_module_version": "1.2.0",
      "model_name": "LayoutModel",
      "state": {}
     },
     "a90a548c760246d6a187aeac60b8d716": {
      "model_module": "@jupyter-widgets/base",
      "model_module_version": "1.2.0",
      "model_name": "LayoutModel",
      "state": {}
     },
     "aa6d72bec06047ed9817f7e9edb5ddea": {
      "model_module": "@jupyter-widgets/base",
      "model_module_version": "1.2.0",
      "model_name": "LayoutModel",
      "state": {}
     },
     "abe072bd93824013b97f90ef499fb6da": {
      "model_module": "@jupyter-widgets/controls",
      "model_module_version": "1.5.0",
      "model_name": "ProgressStyleModel",
      "state": {
       "description_width": ""
      }
     },
     "ac0b46a532c142189c00dd3359f6d926": {
      "model_module": "@jupyter-widgets/controls",
      "model_module_version": "1.5.0",
      "model_name": "ButtonModel",
      "state": {
       "description": "Run Interact",
       "layout": "IPY_MODEL_0764c20174304f3e9df4de4a9740120c",
       "style": "IPY_MODEL_3f46aa5b765141ed92a825ac31204f31"
      }
     },
     "ac9e9ba97f7b4504aa27ec13c58d86d5": {
      "model_module": "@jupyter-widgets/base",
      "model_module_version": "1.2.0",
      "model_name": "LayoutModel",
      "state": {}
     },
     "ad38166a4bbc4532adc419c462abe613": {
      "model_module": "@jupyter-widgets/base",
      "model_module_version": "1.2.0",
      "model_name": "LayoutModel",
      "state": {}
     },
     "ad66ab41138c4307b80b59febd707236": {
      "model_module": "@jupyter-widgets/controls",
      "model_module_version": "1.5.0",
      "model_name": "ProgressStyleModel",
      "state": {
       "description_width": ""
      }
     },
     "ae2910a0461b4c3981e9225276dea5c2": {
      "model_module": "@jupyter-widgets/controls",
      "model_module_version": "1.5.0",
      "model_name": "ProgressStyleModel",
      "state": {
       "description_width": ""
      }
     },
     "b12f0fe4f8064a78850358a93c47c3df": {
      "model_module": "@jupyter-widgets/controls",
      "model_module_version": "1.5.0",
      "model_name": "IntProgressModel",
      "state": {
       "description": "Processing: ",
       "layout": "IPY_MODEL_e71a462d184d4220a6db5d431f1e30fe",
       "max": 870,
       "style": "IPY_MODEL_eed46932d7754328953be4b63dabc209",
       "value": 870
      }
     },
     "b3b7e8dd4298442697da18f77b3df623": {
      "model_module": "@jupyter-widgets/base",
      "model_module_version": "1.2.0",
      "model_name": "LayoutModel",
      "state": {}
     },
     "b40622a8926e4b758efc5c2d4eb5a023": {
      "model_module": "@jupyter-widgets/controls",
      "model_module_version": "1.5.0",
      "model_name": "IntProgressModel",
      "state": {
       "description": "Processing: ",
       "layout": "IPY_MODEL_fa9507c53bc945c38aa156d272a76a16",
       "max": 4,
       "style": "IPY_MODEL_ad66ab41138c4307b80b59febd707236",
       "value": 4
      }
     },
     "b4d0cd19d38e4b5ca3c1387a033125fa": {
      "model_module": "@jupyter-widgets/controls",
      "model_module_version": "1.5.0",
      "model_name": "IntProgressModel",
      "state": {
       "description": "Processing: ",
       "layout": "IPY_MODEL_745fc4e908784fe492b489c290b04246",
       "max": 870,
       "style": "IPY_MODEL_161d3ee7408a4de3b183655f24ccb534",
       "value": 870
      }
     },
     "b59b355d0c0f4ba884effbba76f430bf": {
      "model_module": "@jupyter-widgets/controls",
      "model_module_version": "1.5.0",
      "model_name": "IntProgressModel",
      "state": {
       "description": "Processing: ",
       "layout": "IPY_MODEL_09875ed6ea6648dfaf28dd3ba9e100dd",
       "max": 870,
       "style": "IPY_MODEL_bed8fc24103f4a2195eab281246524c9",
       "value": 870
      }
     },
     "b5f457b1a3de46378621c4dada36ceab": {
      "model_module": "@jupyter-widgets/base",
      "model_module_version": "1.2.0",
      "model_name": "LayoutModel",
      "state": {}
     },
     "b5f64572a64b4acd92ff3f379a591cbf": {
      "model_module": "@jupyter-widgets/base",
      "model_module_version": "1.2.0",
      "model_name": "LayoutModel",
      "state": {}
     },
     "b60e569c302f4aed9a592d920bb1d704": {
      "model_module": "@jupyter-widgets/controls",
      "model_module_version": "1.5.0",
      "model_name": "DropdownModel",
      "state": {
       "_options_labels": [
        "Topic 0",
        "Topic 1",
        "Topic 2",
        "Topic 3"
       ],
       "description": "Topic #:",
       "index": 2,
       "layout": "IPY_MODEL_8b04a0dfd25a4ae8b9db2d90479cf22c",
       "style": "IPY_MODEL_98ec7b2109b443cd830023b2284e5337"
      }
     },
     "b759bbd0fe404138801ea7e21a5a11f5": {
      "model_module": "@jupyter-widgets/controls",
      "model_module_version": "1.5.0",
      "model_name": "IntProgressModel",
      "state": {
       "description": "Processing: ",
       "layout": "IPY_MODEL_84430717888d4c71a53354d53ab75469",
       "max": 4,
       "style": "IPY_MODEL_1cd42b32b75a46dcaeea4756c5638425",
       "value": 4
      }
     },
     "b7ee6a23727d4f128a27c5424cfa14bd": {
      "model_module": "@jupyter-widgets/controls",
      "model_module_version": "1.5.0",
      "model_name": "ToggleButtonsModel",
      "state": {
       "_options_labels": [
        "Frequency Plot",
        "Bigrams",
        "Trigrams",
        "Sentiment Polarity",
        "Word Cloud"
       ],
       "button_style": "",
       "description": "Plot Type:",
       "icons": [
        ""
       ],
       "index": 1,
       "layout": "IPY_MODEL_8003fd95dc824071acdbe35c3483e10b",
       "style": "IPY_MODEL_806b8881c83940ddbaa76483ffdc7f97",
       "tooltips": []
      }
     },
     "b97fc926337941f882e40c70b1f6d86a": {
      "model_module": "@jupyter-widgets/base",
      "model_module_version": "1.2.0",
      "model_name": "LayoutModel",
      "state": {}
     },
     "b9a0c6615ef04ac495bb438fa8117d0c": {
      "model_module": "@jupyter-widgets/controls",
      "model_module_version": "1.5.0",
      "model_name": "ProgressStyleModel",
      "state": {
       "description_width": ""
      }
     },
     "ba2240e1c94a478cb4a761e40d0958b0": {
      "model_module": "@jupyter-widgets/controls",
      "model_module_version": "1.5.0",
      "model_name": "ProgressStyleModel",
      "state": {
       "description_width": ""
      }
     },
     "bc73140e8d064bf7b2f2e0ab84454788": {
      "model_module": "@jupyter-widgets/base",
      "model_module_version": "1.2.0",
      "model_name": "LayoutModel",
      "state": {}
     },
     "be2a7d4439384344931597cb08b5d5d5": {
      "model_module": "@jupyter-widgets/controls",
      "model_module_version": "1.5.0",
      "model_name": "ProgressStyleModel",
      "state": {
       "description_width": ""
      }
     },
     "be2c764e2e784646825313c7e654e5ba": {
      "model_module": "@jupyter-widgets/base",
      "model_module_version": "1.2.0",
      "model_name": "LayoutModel",
      "state": {}
     },
     "bed8fc24103f4a2195eab281246524c9": {
      "model_module": "@jupyter-widgets/controls",
      "model_module_version": "1.5.0",
      "model_name": "ProgressStyleModel",
      "state": {
       "description_width": ""
      }
     },
     "bf25e802d4f34cbd8a1157570c911d56": {
      "model_module": "@jupyter-widgets/controls",
      "model_module_version": "1.5.0",
      "model_name": "ProgressStyleModel",
      "state": {
       "description_width": ""
      }
     },
     "bfc1b4483bbd4920bb9befdaad7be39d": {
      "model_module": "@jupyter-widgets/controls",
      "model_module_version": "1.5.0",
      "model_name": "IntProgressModel",
      "state": {
       "description": "Processing: ",
       "layout": "IPY_MODEL_ad38166a4bbc4532adc419c462abe613",
       "max": 11,
       "style": "IPY_MODEL_8f1efb22dc584147b5cfa796e614d5e4",
       "value": 11
      }
     },
     "c0742be887a24fa080baf6d23b1ebe30": {
      "model_module": "@jupyter-widgets/base",
      "model_module_version": "1.2.0",
      "model_name": "LayoutModel",
      "state": {}
     },
     "c19dd1e299d540e6b565a1ce24abb292": {
      "model_module": "@jupyter-widgets/base",
      "model_module_version": "1.2.0",
      "model_name": "LayoutModel",
      "state": {}
     },
     "c2ef8b2e41dc4f2cbb808cb0ed3203b4": {
      "model_module": "@jupyter-widgets/controls",
      "model_module_version": "1.5.0",
      "model_name": "IntProgressModel",
      "state": {
       "description": "Processing: ",
       "layout": "IPY_MODEL_7a1376c322984f3dba0280748cca767c",
       "max": 48,
       "style": "IPY_MODEL_a6d7d14e7d2743408312f61026036be1",
       "value": 48
      }
     },
     "c36c5f6e93d24320b9c334cd7da8e437": {
      "model_module": "@jupyter-widgets/controls",
      "model_module_version": "1.5.0",
      "model_name": "ProgressStyleModel",
      "state": {
       "description_width": ""
      }
     },
     "c40dc93f165442c495c677db4987a53b": {
      "model_module": "@jupyter-widgets/controls",
      "model_module_version": "1.5.0",
      "model_name": "ProgressStyleModel",
      "state": {
       "description_width": ""
      }
     },
     "c45c5a4d34b4456884f58bb925af73f9": {
      "model_module": "@jupyter-widgets/base",
      "model_module_version": "1.2.0",
      "model_name": "LayoutModel",
      "state": {}
     },
     "c63cc2709e25419ba3e5761d63e6fb55": {
      "model_module": "@jupyter-widgets/output",
      "model_module_version": "1.0.0",
      "model_name": "OutputModel",
      "state": {
       "layout": "IPY_MODEL_3b43b69302be48c1b7fe3f6c01b6050e"
      }
     },
     "c79e454527a64401b237c45c4231ec24": {
      "model_module": "@jupyter-widgets/controls",
      "model_module_version": "1.5.0",
      "model_name": "IntProgressModel",
      "state": {
       "description": "Processing: ",
       "layout": "IPY_MODEL_84fc731fdbef457a939c9ececba04239",
       "max": 4,
       "style": "IPY_MODEL_95f3e31f5349418db0ea0938aa4c8222",
       "value": 4
      }
     },
     "c7d2734dbf3f49eeaf3de24042d97c77": {
      "model_module": "@jupyter-widgets/controls",
      "model_module_version": "1.5.0",
      "model_name": "ProgressStyleModel",
      "state": {
       "description_width": ""
      }
     },
     "c8eb4149d7a842dba0f40facbad1d89f": {
      "model_module": "@jupyter-widgets/base",
      "model_module_version": "1.2.0",
      "model_name": "LayoutModel",
      "state": {}
     },
     "c91c721a80904f2684bd850d3c26168c": {
      "model_module": "@jupyter-widgets/controls",
      "model_module_version": "1.5.0",
      "model_name": "IntProgressModel",
      "state": {
       "description": "Processing: ",
       "layout": "IPY_MODEL_d16466eaa6694e2a993022747b22abc0",
       "max": 4,
       "style": "IPY_MODEL_f998f6135090423c9f6adcabdd644be7",
       "value": 4
      }
     },
     "c94240c41acb4685a37cdf7f48cfe378": {
      "model_module": "@jupyter-widgets/controls",
      "model_module_version": "1.5.0",
      "model_name": "ProgressStyleModel",
      "state": {
       "description_width": ""
      }
     },
     "c9fa692b3c754ae18c158343025e9403": {
      "model_module": "@jupyter-widgets/controls",
      "model_module_version": "1.5.0",
      "model_name": "IntProgressModel",
      "state": {
       "description": "Processing: ",
       "layout": "IPY_MODEL_b5f457b1a3de46378621c4dada36ceab",
       "max": 4,
       "style": "IPY_MODEL_3acab8a540094d4098b78789d04c32ee",
       "value": 4
      }
     },
     "caa659819c434f14a218de71ea5e9920": {
      "model_module": "@jupyter-widgets/controls",
      "model_module_version": "1.5.0",
      "model_name": "ProgressStyleModel",
      "state": {
       "description_width": ""
      }
     },
     "cd45fc8852c0463bbedf71ef72c5aba5": {
      "model_module": "@jupyter-widgets/controls",
      "model_module_version": "1.5.0",
      "model_name": "IntProgressModel",
      "state": {
       "description": "Processing: ",
       "layout": "IPY_MODEL_86672c973c42441ebc1b07345926a549",
       "max": 4,
       "style": "IPY_MODEL_e87fb1343ae74d24a185c6b74a6ad89a",
       "value": 4
      }
     },
     "cdf17ecba82143e5a3e9de5fecc3a1ff": {
      "model_module": "@jupyter-widgets/controls",
      "model_module_version": "1.5.0",
      "model_name": "ProgressStyleModel",
      "state": {
       "description_width": ""
      }
     },
     "cdf2b8f2e6f14919aa8e23a8a3a02d2f": {
      "model_module": "@jupyter-widgets/controls",
      "model_module_version": "1.5.0",
      "model_name": "IntProgressModel",
      "state": {
       "description": "Processing: ",
       "layout": "IPY_MODEL_c0742be887a24fa080baf6d23b1ebe30",
       "max": 870,
       "style": "IPY_MODEL_9faa55c9b02641e6abb0471247a2af53",
       "value": 870
      }
     },
     "cf112e01e4634908840880db4337a1b6": {
      "model_module": "@jupyter-widgets/controls",
      "model_module_version": "1.5.0",
      "model_name": "IntProgressModel",
      "state": {
       "description": "Processing: ",
       "layout": "IPY_MODEL_35edcc52f9ab42fe9998f1f225424eaf",
       "max": 4,
       "style": "IPY_MODEL_1710c717bd8445f3a5810ec5bd6f44cb",
       "value": 4
      }
     },
     "cf980fd03b41494883574b8be5f315d9": {
      "model_module": "@jupyter-widgets/controls",
      "model_module_version": "1.5.0",
      "model_name": "ProgressStyleModel",
      "state": {
       "description_width": ""
      }
     },
     "cfd6c3e72cf74c52a810a8e192033337": {
      "model_module": "@jupyter-widgets/base",
      "model_module_version": "1.2.0",
      "model_name": "LayoutModel",
      "state": {}
     },
     "d03d1c65475a46e7b028e243ac822384": {
      "model_module": "@jupyter-widgets/controls",
      "model_module_version": "1.5.0",
      "model_name": "DescriptionStyleModel",
      "state": {
       "description_width": ""
      }
     },
     "d1261151d6a241c2be4de1ba33f52b2a": {
      "model_module": "@jupyter-widgets/base",
      "model_module_version": "1.2.0",
      "model_name": "LayoutModel",
      "state": {}
     },
     "d16466eaa6694e2a993022747b22abc0": {
      "model_module": "@jupyter-widgets/base",
      "model_module_version": "1.2.0",
      "model_name": "LayoutModel",
      "state": {}
     },
     "d1fccbfe4ee44d3e966860acc4854a60": {
      "model_module": "@jupyter-widgets/controls",
      "model_module_version": "1.5.0",
      "model_name": "ProgressStyleModel",
      "state": {
       "description_width": ""
      }
     },
     "d2aabbfda6494143b42c40dc46625599": {
      "model_module": "@jupyter-widgets/base",
      "model_module_version": "1.2.0",
      "model_name": "LayoutModel",
      "state": {}
     },
     "d4aa91fdb15c4bbeb5e9be34d4e36a75": {
      "model_module": "@jupyter-widgets/controls",
      "model_module_version": "1.5.0",
      "model_name": "IntProgressModel",
      "state": {
       "description": "Processing: ",
       "layout": "IPY_MODEL_cfd6c3e72cf74c52a810a8e192033337",
       "max": 48,
       "style": "IPY_MODEL_26f02ce620224ea8a80f62d026ec1419",
       "value": 48
      }
     },
     "d63697bfc5fe40f1946b1f0fafd0982a": {
      "model_module": "@jupyter-widgets/base",
      "model_module_version": "1.2.0",
      "model_name": "LayoutModel",
      "state": {}
     },
     "d82d000f5f9c42d18dfac2c0111a3417": {
      "model_module": "@jupyter-widgets/controls",
      "model_module_version": "1.5.0",
      "model_name": "IntProgressModel",
      "state": {
       "description": "Processing: ",
       "layout": "IPY_MODEL_14e074f71fd342fca47034ca4a825b51",
       "max": 870,
       "style": "IPY_MODEL_9e372dc8d8dd4332b410424cc92f84c5",
       "value": 870
      }
     },
     "d98f2d36d1b84e52b93b739c11af5bba": {
      "model_module": "@jupyter-widgets/controls",
      "model_module_version": "1.5.0",
      "model_name": "IntProgressModel",
      "state": {
       "description": "Processing: ",
       "layout": "IPY_MODEL_fe7cffdc36954cb688f49536930c7e11",
       "max": 870,
       "style": "IPY_MODEL_fdd91b2e5fb84437a70dd6b50c6c9eee",
       "value": 870
      }
     },
     "dda1594c70a342a5b6b0748ea00dd659": {
      "model_module": "@jupyter-widgets/controls",
      "model_module_version": "1.5.0",
      "model_name": "ToggleButtonsModel",
      "state": {
       "_options_labels": [
        "Frequency Plot",
        "Bigrams",
        "Trigrams",
        "Sentiment Polarity",
        "Word Cloud"
       ],
       "button_style": "",
       "description": "Plot Type:",
       "icons": [
        ""
       ],
       "index": 0,
       "layout": "IPY_MODEL_3a8cd6d206e444258351efc0bcae2d1d",
       "style": "IPY_MODEL_704ea141a5074eaa83f67d44f98d2c0b",
       "tooltips": []
      }
     },
     "de9e45298c6146c192cd25d0f087722b": {
      "model_module": "@jupyter-widgets/controls",
      "model_module_version": "1.5.0",
      "model_name": "ProgressStyleModel",
      "state": {
       "description_width": ""
      }
     },
     "df6710eb9bd64e1399f6eb85417e19bc": {
      "model_module": "@jupyter-widgets/base",
      "model_module_version": "1.2.0",
      "model_name": "LayoutModel",
      "state": {}
     },
     "e08b19f5eb244d1db0b11de26a4f32c2": {
      "model_module": "@jupyter-widgets/base",
      "model_module_version": "1.2.0",
      "model_name": "LayoutModel",
      "state": {}
     },
     "e3cae36ab6d443e6bf117d901b58f5d5": {
      "model_module": "@jupyter-widgets/base",
      "model_module_version": "1.2.0",
      "model_name": "LayoutModel",
      "state": {}
     },
     "e5f43c05ab66450d9111641e6985360b": {
      "model_module": "@jupyter-widgets/base",
      "model_module_version": "1.2.0",
      "model_name": "LayoutModel",
      "state": {}
     },
     "e6faccfc6fd544afa2637f5003bf7d9a": {
      "model_module": "@jupyter-widgets/controls",
      "model_module_version": "1.5.0",
      "model_name": "ProgressStyleModel",
      "state": {
       "description_width": ""
      }
     },
     "e71a462d184d4220a6db5d431f1e30fe": {
      "model_module": "@jupyter-widgets/base",
      "model_module_version": "1.2.0",
      "model_name": "LayoutModel",
      "state": {}
     },
     "e7f5ce9ac4454dd59223feb29de9f4f0": {
      "model_module": "@jupyter-widgets/controls",
      "model_module_version": "1.5.0",
      "model_name": "ProgressStyleModel",
      "state": {
       "description_width": ""
      }
     },
     "e804e8b8e49742c7b794eb645e9cfbb7": {
      "model_module": "@jupyter-widgets/controls",
      "model_module_version": "1.5.0",
      "model_name": "ButtonStyleModel",
      "state": {}
     },
     "e87fb1343ae74d24a185c6b74a6ad89a": {
      "model_module": "@jupyter-widgets/controls",
      "model_module_version": "1.5.0",
      "model_name": "ProgressStyleModel",
      "state": {
       "description_width": ""
      }
     },
     "ea9cafbe17334322a6646de324d3464d": {
      "model_module": "@jupyter-widgets/controls",
      "model_module_version": "1.5.0",
      "model_name": "DropdownModel",
      "state": {
       "_options_labels": [
        "Topic 0",
        "Topic 1",
        "Topic 2",
        "Topic 3",
        "Topic 4",
        "Topic 5",
        "Topic 6",
        "Topic 7",
        "Topic 8",
        "Topic 9"
       ],
       "description": "Topic #:",
       "index": 0,
       "layout": "IPY_MODEL_423bc887d5c74b828758d8bde8648171",
       "style": "IPY_MODEL_011d55cba1d2424b9b3535f3f6304d6a"
      }
     },
     "ebc411cffcd441f08ebce6e23bb4561b": {
      "model_module": "@jupyter-widgets/controls",
      "model_module_version": "1.5.0",
      "model_name": "ProgressStyleModel",
      "state": {
       "description_width": ""
      }
     },
     "ec0a7fed5165484799f14f346a99efff": {
      "model_module": "@jupyter-widgets/controls",
      "model_module_version": "1.5.0",
      "model_name": "IntProgressModel",
      "state": {
       "description": "Processing: ",
       "layout": "IPY_MODEL_ac9e9ba97f7b4504aa27ec13c58d86d5",
       "max": 870,
       "style": "IPY_MODEL_5f1dad62fcbe45caac6444f661f27d10",
       "value": 870
      }
     },
     "ec27026dd7434ab3a8fd3300a6f6c0df": {
      "model_module": "@jupyter-widgets/base",
      "model_module_version": "1.2.0",
      "model_name": "LayoutModel",
      "state": {}
     },
     "ec2ee32df4b34e6d91cb958ada69ae44": {
      "model_module": "@jupyter-widgets/base",
      "model_module_version": "1.2.0",
      "model_name": "LayoutModel",
      "state": {}
     },
     "ed35519ca52f4fd795e8c6cce2a7e233": {
      "model_module": "@jupyter-widgets/controls",
      "model_module_version": "1.5.0",
      "model_name": "ProgressStyleModel",
      "state": {
       "description_width": ""
      }
     },
     "ed6c19d2b9dd4d0cb71431f7aa30934c": {
      "model_module": "@jupyter-widgets/controls",
      "model_module_version": "1.5.0",
      "model_name": "ButtonStyleModel",
      "state": {}
     },
     "edee030403c44930b0c7622bb17ca79e": {
      "model_module": "@jupyter-widgets/controls",
      "model_module_version": "1.5.0",
      "model_name": "IntProgressModel",
      "state": {
       "description": "Processing: ",
       "layout": "IPY_MODEL_125c99e83f704685bfb89f907ade2fa7",
       "max": 870,
       "style": "IPY_MODEL_62077375abdf48e28987780b10e7d2da",
       "value": 870
      }
     },
     "eed46932d7754328953be4b63dabc209": {
      "model_module": "@jupyter-widgets/controls",
      "model_module_version": "1.5.0",
      "model_name": "ProgressStyleModel",
      "state": {
       "description_width": ""
      }
     },
     "ef033c789c0a4cbfa0cd93802fe28e76": {
      "model_module": "@jupyter-widgets/controls",
      "model_module_version": "1.5.0",
      "model_name": "IntProgressModel",
      "state": {
       "description": "Processing: ",
       "layout": "IPY_MODEL_0373170d28414abead8ee7b1e80ca1e1",
       "max": 48,
       "style": "IPY_MODEL_abe072bd93824013b97f90ef499fb6da",
       "value": 48
      }
     },
     "ef3e23835aa14ee99e95326fc0ca375f": {
      "model_module": "@jupyter-widgets/controls",
      "model_module_version": "1.5.0",
      "model_name": "ProgressStyleModel",
      "state": {
       "description_width": ""
      }
     },
     "ef40aec45187478aa8cae74cea8a52c7": {
      "model_module": "@jupyter-widgets/controls",
      "model_module_version": "1.5.0",
      "model_name": "IntProgressModel",
      "state": {
       "description": "Processing: ",
       "layout": "IPY_MODEL_66a25303bbe84b82b97f0a28a1667233",
       "max": 4,
       "style": "IPY_MODEL_de9e45298c6146c192cd25d0f087722b",
       "value": 4
      }
     },
     "ef7bc8a5ff5a4641b8b745d7b49cb773": {
      "model_module": "@jupyter-widgets/output",
      "model_module_version": "1.0.0",
      "model_name": "OutputModel",
      "state": {
       "layout": "IPY_MODEL_c8eb4149d7a842dba0f40facbad1d89f",
       "outputs": [
        {
         "data": {
          "text/html": "        <script type=\"text/javascript\">\n        window.PlotlyConfig = {MathJaxConfig: 'local'};\n        if (window.MathJax) {MathJax.Hub.Config({SVG: {font: \"STIX-Web\"}});}\n        if (typeof require !== 'undefined') {\n        require.undef(\"plotly\");\n        requirejs.config({\n            paths: {\n                'plotly': ['https://cdn.plot.ly/plotly-latest.min']\n            }\n        });\n        require(['plotly'], function(Plotly) {\n            window._Plotly = Plotly;\n        });\n        }\n        </script>\n        "
         },
         "metadata": {},
         "output_type": "display_data"
        },
        {
         "ename": "SystemExit",
         "evalue": "(Value Error): Invalid topic_num param or empty Vocab. Try changing Topic Number.",
         "output_type": "error",
         "traceback": [
          "\u001b[1;31m---------------------------------------------------------------------------\u001b[0m",
          "\u001b[1;31mValueError\u001b[0m                                Traceback (most recent call last)",
          "\u001b[1;32m~\\AppData\\Roaming\\Python\\Python37\\site-packages\\pycaret\\nlp.py\u001b[0m in \u001b[0;36mplot_model\u001b[1;34m(model, plot, topic_num, save, system)\u001b[0m\n\u001b[0;32m   1838\u001b[0m                 \u001b[0mfiltered_df\u001b[0m \u001b[1;33m=\u001b[0m \u001b[0massigned_df\u001b[0m\u001b[1;33m.\u001b[0m\u001b[0mloc\u001b[0m\u001b[1;33m[\u001b[0m\u001b[0massigned_df\u001b[0m\u001b[1;33m[\u001b[0m\u001b[1;34m'Dominant_Topic'\u001b[0m\u001b[1;33m]\u001b[0m \u001b[1;33m==\u001b[0m \u001b[0mtopic_num\u001b[0m\u001b[1;33m]\u001b[0m\u001b[1;33m\u001b[0m\u001b[1;33m\u001b[0m\u001b[0m\n\u001b[1;32m-> 1839\u001b[1;33m                 \u001b[0mcommon_words\u001b[0m \u001b[1;33m=\u001b[0m \u001b[0mget_top_n_words\u001b[0m\u001b[1;33m(\u001b[0m\u001b[0mfiltered_df\u001b[0m\u001b[1;33m[\u001b[0m\u001b[0mtarget_\u001b[0m\u001b[1;33m]\u001b[0m\u001b[1;33m,\u001b[0m \u001b[0mn\u001b[0m\u001b[1;33m=\u001b[0m\u001b[1;36m100\u001b[0m\u001b[1;33m)\u001b[0m\u001b[1;33m\u001b[0m\u001b[1;33m\u001b[0m\u001b[0m\n\u001b[0m\u001b[0;32m   1840\u001b[0m                 \u001b[0mdf2\u001b[0m \u001b[1;33m=\u001b[0m \u001b[0mpd\u001b[0m\u001b[1;33m.\u001b[0m\u001b[0mDataFrame\u001b[0m\u001b[1;33m(\u001b[0m\u001b[0mcommon_words\u001b[0m\u001b[1;33m,\u001b[0m \u001b[0mcolumns\u001b[0m \u001b[1;33m=\u001b[0m \u001b[1;33m[\u001b[0m\u001b[1;34m'Text'\u001b[0m \u001b[1;33m,\u001b[0m \u001b[1;34m'count'\u001b[0m\u001b[1;33m]\u001b[0m\u001b[1;33m)\u001b[0m\u001b[1;33m\u001b[0m\u001b[1;33m\u001b[0m\u001b[0m\n",
          "\u001b[1;32m~\\AppData\\Roaming\\Python\\Python37\\site-packages\\pycaret\\nlp.py\u001b[0m in \u001b[0;36mget_top_n_words\u001b[1;34m(corpus, n)\u001b[0m\n\u001b[0;32m   1816\u001b[0m                 \u001b[0mlogger\u001b[0m\u001b[1;33m.\u001b[0m\u001b[0minfo\u001b[0m\u001b[1;33m(\u001b[0m\u001b[1;34m\"Fitting CountVectorizer()\"\u001b[0m\u001b[1;33m)\u001b[0m\u001b[1;33m\u001b[0m\u001b[1;33m\u001b[0m\u001b[0m\n\u001b[1;32m-> 1817\u001b[1;33m                 \u001b[0mbag_of_words\u001b[0m \u001b[1;33m=\u001b[0m \u001b[0mvec\u001b[0m\u001b[1;33m.\u001b[0m\u001b[0mfit_transform\u001b[0m\u001b[1;33m(\u001b[0m\u001b[0mcorpus\u001b[0m\u001b[1;33m)\u001b[0m\u001b[1;33m\u001b[0m\u001b[1;33m\u001b[0m\u001b[0m\n\u001b[0m\u001b[0;32m   1818\u001b[0m                 \u001b[0msum_words\u001b[0m \u001b[1;33m=\u001b[0m \u001b[0mbag_of_words\u001b[0m\u001b[1;33m.\u001b[0m\u001b[0msum\u001b[0m\u001b[1;33m(\u001b[0m\u001b[0maxis\u001b[0m\u001b[1;33m=\u001b[0m\u001b[1;36m0\u001b[0m\u001b[1;33m)\u001b[0m\u001b[1;33m\u001b[0m\u001b[1;33m\u001b[0m\u001b[0m\n",
          "\u001b[1;32m~\\Anaconda3\\lib\\site-packages\\sklearn\\feature_extraction\\text.py\u001b[0m in \u001b[0;36mfit_transform\u001b[1;34m(self, raw_documents, y)\u001b[0m\n\u001b[0;32m   1198\u001b[0m         vocabulary, X = self._count_vocab(raw_documents,\n\u001b[1;32m-> 1199\u001b[1;33m                                           self.fixed_vocabulary_)\n\u001b[0m\u001b[0;32m   1200\u001b[0m \u001b[1;33m\u001b[0m\u001b[0m\n",
          "\u001b[1;32m~\\Anaconda3\\lib\\site-packages\\sklearn\\feature_extraction\\text.py\u001b[0m in \u001b[0;36m_count_vocab\u001b[1;34m(self, raw_documents, fixed_vocab)\u001b[0m\n\u001b[0;32m   1128\u001b[0m             \u001b[1;32mif\u001b[0m \u001b[1;32mnot\u001b[0m \u001b[0mvocabulary\u001b[0m\u001b[1;33m:\u001b[0m\u001b[1;33m\u001b[0m\u001b[1;33m\u001b[0m\u001b[0m\n\u001b[1;32m-> 1129\u001b[1;33m                 raise ValueError(\"empty vocabulary; perhaps the documents only\"\n\u001b[0m\u001b[0;32m   1130\u001b[0m                                  \" contain stop words\")\n",
          "\u001b[1;31mValueError\u001b[0m: empty vocabulary; perhaps the documents only contain stop words",
          "\nDuring handling of the above exception, another exception occurred:\n",
          "\u001b[1;31mSystemExit\u001b[0m                                Traceback (most recent call last)",
          "\u001b[1;32m~\\Anaconda3\\lib\\site-packages\\ipywidgets\\widgets\\interaction.py\u001b[0m in \u001b[0;36mupdate\u001b[1;34m(self, *args)\u001b[0m\n\u001b[0;32m    254\u001b[0m                     \u001b[0mvalue\u001b[0m \u001b[1;33m=\u001b[0m \u001b[0mwidget\u001b[0m\u001b[1;33m.\u001b[0m\u001b[0mget_interact_value\u001b[0m\u001b[1;33m(\u001b[0m\u001b[1;33m)\u001b[0m\u001b[1;33m\u001b[0m\u001b[1;33m\u001b[0m\u001b[0m\n\u001b[0;32m    255\u001b[0m                     \u001b[0mself\u001b[0m\u001b[1;33m.\u001b[0m\u001b[0mkwargs\u001b[0m\u001b[1;33m[\u001b[0m\u001b[0mwidget\u001b[0m\u001b[1;33m.\u001b[0m\u001b[0m_kwarg\u001b[0m\u001b[1;33m]\u001b[0m \u001b[1;33m=\u001b[0m \u001b[0mvalue\u001b[0m\u001b[1;33m\u001b[0m\u001b[1;33m\u001b[0m\u001b[0m\n\u001b[1;32m--> 256\u001b[1;33m                 \u001b[0mself\u001b[0m\u001b[1;33m.\u001b[0m\u001b[0mresult\u001b[0m \u001b[1;33m=\u001b[0m \u001b[0mself\u001b[0m\u001b[1;33m.\u001b[0m\u001b[0mf\u001b[0m\u001b[1;33m(\u001b[0m\u001b[1;33m**\u001b[0m\u001b[0mself\u001b[0m\u001b[1;33m.\u001b[0m\u001b[0mkwargs\u001b[0m\u001b[1;33m)\u001b[0m\u001b[1;33m\u001b[0m\u001b[1;33m\u001b[0m\u001b[0m\n\u001b[0m\u001b[0;32m    257\u001b[0m                 \u001b[0mshow_inline_matplotlib_plots\u001b[0m\u001b[1;33m(\u001b[0m\u001b[1;33m)\u001b[0m\u001b[1;33m\u001b[0m\u001b[1;33m\u001b[0m\u001b[0m\n\u001b[0;32m    258\u001b[0m                 \u001b[1;32mif\u001b[0m \u001b[0mself\u001b[0m\u001b[1;33m.\u001b[0m\u001b[0mauto_display\u001b[0m \u001b[1;32mand\u001b[0m \u001b[0mself\u001b[0m\u001b[1;33m.\u001b[0m\u001b[0mresult\u001b[0m \u001b[1;32mis\u001b[0m \u001b[1;32mnot\u001b[0m \u001b[1;32mNone\u001b[0m\u001b[1;33m:\u001b[0m\u001b[1;33m\u001b[0m\u001b[1;33m\u001b[0m\u001b[0m\n",
          "\u001b[1;32m~\\AppData\\Roaming\\Python\\Python37\\site-packages\\pycaret\\nlp.py\u001b[0m in \u001b[0;36mplot_model\u001b[1;34m(model, plot, topic_num, save, system)\u001b[0m\n\u001b[0;32m   1850\u001b[0m         \u001b[1;32mexcept\u001b[0m\u001b[1;33m:\u001b[0m\u001b[1;33m\u001b[0m\u001b[1;33m\u001b[0m\u001b[0m\n\u001b[0;32m   1851\u001b[0m             \u001b[0mlogger\u001b[0m\u001b[1;33m.\u001b[0m\u001b[0mwarning\u001b[0m\u001b[1;33m(\u001b[0m\u001b[1;34m\"Invalid topic_num param or empty Vocab. Try changing Topic Number.\"\u001b[0m\u001b[1;33m)\u001b[0m\u001b[1;33m\u001b[0m\u001b[1;33m\u001b[0m\u001b[0m\n\u001b[1;32m-> 1852\u001b[1;33m             \u001b[0msys\u001b[0m\u001b[1;33m.\u001b[0m\u001b[0mexit\u001b[0m\u001b[1;33m(\u001b[0m\u001b[1;34m'(Value Error): Invalid topic_num param or empty Vocab. Try changing Topic Number.'\u001b[0m\u001b[1;33m)\u001b[0m\u001b[1;33m\u001b[0m\u001b[1;33m\u001b[0m\u001b[0m\n\u001b[0m\u001b[0;32m   1853\u001b[0m \u001b[1;33m\u001b[0m\u001b[0m\n\u001b[0;32m   1854\u001b[0m \u001b[1;33m\u001b[0m\u001b[0m\n",
          "\u001b[1;31mSystemExit\u001b[0m: (Value Error): Invalid topic_num param or empty Vocab. Try changing Topic Number."
         ]
        }
       ]
      }
     },
     "f0aa0b72c5d34fd6b0fdec52b7bc6792": {
      "model_module": "@jupyter-widgets/controls",
      "model_module_version": "1.5.0",
      "model_name": "ToggleButtonsModel",
      "state": {
       "_options_labels": [
        "Frequency Plot",
        "Bigrams",
        "Trigrams",
        "Sentiment Polarity",
        "Word Cloud"
       ],
       "button_style": "",
       "description": "Plot Type:",
       "icons": [
        ""
       ],
       "index": 1,
       "layout": "IPY_MODEL_b5f64572a64b4acd92ff3f379a591cbf",
       "style": "IPY_MODEL_5b6b8326f0a5417d876abb0002f1a002",
       "tooltips": []
      }
     },
     "f18573d6c3f34538a9334ae261aa7425": {
      "model_module": "@jupyter-widgets/controls",
      "model_module_version": "1.5.0",
      "model_name": "IntProgressModel",
      "state": {
       "description": "Processing: ",
       "layout": "IPY_MODEL_80183cf5fe844d7083166c3250f3fcaa",
       "max": 48,
       "style": "IPY_MODEL_5bcb2f51df654e0f8523e33e88d2609f",
       "value": 48
      }
     },
     "f27b48ee4d564e7b961c6cd5cb814990": {
      "model_module": "@jupyter-widgets/controls",
      "model_module_version": "1.5.0",
      "model_name": "IntProgressModel",
      "state": {
       "description": "Processing: ",
       "layout": "IPY_MODEL_57cac375ec6d4fd3b96900dc60fef2aa",
       "max": 48,
       "style": "IPY_MODEL_923076edcc1f4dd1ae098ee1879c5ad2",
       "value": 48
      }
     },
     "f471eca31f6e48c1bd81b6d2d26b8b72": {
      "model_module": "@jupyter-widgets/base",
      "model_module_version": "1.2.0",
      "model_name": "LayoutModel",
      "state": {}
     },
     "f90aba366131435b94408fae809d8109": {
      "model_module": "@jupyter-widgets/base",
      "model_module_version": "1.2.0",
      "model_name": "LayoutModel",
      "state": {}
     },
     "f998f6135090423c9f6adcabdd644be7": {
      "model_module": "@jupyter-widgets/controls",
      "model_module_version": "1.5.0",
      "model_name": "ProgressStyleModel",
      "state": {
       "description_width": ""
      }
     },
     "f99bff09f5564cecb7aac86ee3ba30f0": {
      "model_module": "@jupyter-widgets/base",
      "model_module_version": "1.2.0",
      "model_name": "LayoutModel",
      "state": {}
     },
     "f9a5a98739fa4ba6a81df3a08ed82c5a": {
      "model_module": "@jupyter-widgets/controls",
      "model_module_version": "1.5.0",
      "model_name": "ButtonStyleModel",
      "state": {}
     },
     "fa30d12576524391bd1a84daf0e5e3e2": {
      "model_module": "@jupyter-widgets/controls",
      "model_module_version": "1.5.0",
      "model_name": "DescriptionStyleModel",
      "state": {
       "description_width": ""
      }
     },
     "fa9507c53bc945c38aa156d272a76a16": {
      "model_module": "@jupyter-widgets/base",
      "model_module_version": "1.2.0",
      "model_name": "LayoutModel",
      "state": {}
     },
     "fae045083bb24cc5b7d9651f5abf55fd": {
      "model_module": "@jupyter-widgets/base",
      "model_module_version": "1.2.0",
      "model_name": "LayoutModel",
      "state": {}
     },
     "fbc08f74a0834df1ac913e55ca9f491b": {
      "model_module": "@jupyter-widgets/output",
      "model_module_version": "1.0.0",
      "model_name": "OutputModel",
      "state": {
       "layout": "IPY_MODEL_d63697bfc5fe40f1946b1f0fafd0982a"
      }
     },
     "fdc6a6ef75b44c73a1349f2dd0d7348a": {
      "model_module": "@jupyter-widgets/controls",
      "model_module_version": "1.5.0",
      "model_name": "ProgressStyleModel",
      "state": {
       "description_width": ""
      }
     },
     "fdd91b2e5fb84437a70dd6b50c6c9eee": {
      "model_module": "@jupyter-widgets/controls",
      "model_module_version": "1.5.0",
      "model_name": "ProgressStyleModel",
      "state": {
       "description_width": ""
      }
     },
     "fe7cffdc36954cb688f49536930c7e11": {
      "model_module": "@jupyter-widgets/base",
      "model_module_version": "1.2.0",
      "model_name": "LayoutModel",
      "state": {}
     }
    },
    "version_major": 2,
    "version_minor": 0
   }
  }
 },
 "nbformat": 4,
 "nbformat_minor": 2
}
