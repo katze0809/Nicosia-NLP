{
 "cells": [
  {
   "cell_type": "code",
   "execution_count": 2,
   "metadata": {},
   "outputs": [],
   "source": [
    "import pandas as pd"
   ]
  },
  {
   "cell_type": "code",
   "execution_count": 3,
   "metadata": {},
   "outputs": [
    {
     "data": {
      "text/html": [
       "<div>\n",
       "<style scoped>\n",
       "    .dataframe tbody tr th:only-of-type {\n",
       "        vertical-align: middle;\n",
       "    }\n",
       "\n",
       "    .dataframe tbody tr th {\n",
       "        vertical-align: top;\n",
       "    }\n",
       "\n",
       "    .dataframe thead th {\n",
       "        text-align: right;\n",
       "    }\n",
       "</style>\n",
       "<table border=\"1\" class=\"dataframe\">\n",
       "  <thead>\n",
       "    <tr style=\"text-align: right;\">\n",
       "      <th></th>\n",
       "      <th>r_points</th>\n",
       "      <th>r_text</th>\n",
       "      <th>place</th>\n",
       "    </tr>\n",
       "  </thead>\n",
       "  <tbody>\n",
       "    <tr>\n",
       "      <th>0</th>\n",
       "      <td>40</td>\n",
       "      <td>Visit it if you are in the center of Nicosia o...</td>\n",
       "      <td>Archangel Michael Trypiotis Church</td>\n",
       "    </tr>\n",
       "    <tr>\n",
       "      <th>1</th>\n",
       "      <td>50</td>\n",
       "      <td>I love Churches, Orthodox Churches especially ...</td>\n",
       "      <td>Archangel Michael Trypiotis Church</td>\n",
       "    </tr>\n",
       "    <tr>\n",
       "      <th>2</th>\n",
       "      <td>50</td>\n",
       "      <td>It is the only church that has seats at variou...</td>\n",
       "      <td>Archangel Michael Trypiotis Church</td>\n",
       "    </tr>\n",
       "    <tr>\n",
       "      <th>3</th>\n",
       "      <td>50</td>\n",
       "      <td>The Church of Archangel Michael Trypiotis is j...</td>\n",
       "      <td>Archangel Michael Trypiotis Church</td>\n",
       "    </tr>\n",
       "    <tr>\n",
       "      <th>4</th>\n",
       "      <td>30</td>\n",
       "      <td>This was not on my original itiniery to visit ...</td>\n",
       "      <td>Archangel Michael Trypiotis Church</td>\n",
       "    </tr>\n",
       "    <tr>\n",
       "      <th>5</th>\n",
       "      <td>50</td>\n",
       "      <td>In the heart of the old city of Nicosia, this ...</td>\n",
       "      <td>Archangel Michael Trypiotis Church</td>\n",
       "    </tr>\n",
       "    <tr>\n",
       "      <th>6</th>\n",
       "      <td>40</td>\n",
       "      <td>Beautiful place and glad to see careful recons...</td>\n",
       "      <td>Archangel Michael Trypiotis Church</td>\n",
       "    </tr>\n",
       "    <tr>\n",
       "      <th>7</th>\n",
       "      <td>50</td>\n",
       "      <td>The Greek Orthodox church of Archangel Michael...</td>\n",
       "      <td>Archangel Michael Trypiotis Church</td>\n",
       "    </tr>\n",
       "    <tr>\n",
       "      <th>8</th>\n",
       "      <td>50</td>\n",
       "      <td>This orthodox church is located in the centre ...</td>\n",
       "      <td>Archangel Michael Trypiotis Church</td>\n",
       "    </tr>\n",
       "    <tr>\n",
       "      <th>9</th>\n",
       "      <td>30</td>\n",
       "      <td>The outside of the church is bring worked an a...</td>\n",
       "      <td>Archangel Michael Trypiotis Church</td>\n",
       "    </tr>\n",
       "    <tr>\n",
       "      <th>10</th>\n",
       "      <td>50</td>\n",
       "      <td>The Church of Archangelos Michael Trypiotis wa...</td>\n",
       "      <td>Archangel Michael Trypiotis Church</td>\n",
       "    </tr>\n",
       "    <tr>\n",
       "      <th>11</th>\n",
       "      <td>50</td>\n",
       "      <td>Worth visiting because inside it is not the ty...</td>\n",
       "      <td>Archangel Michael Trypiotis Church</td>\n",
       "    </tr>\n",
       "    <tr>\n",
       "      <th>12</th>\n",
       "      <td>40</td>\n",
       "      <td>One of the 7 Greek-Orthodox Churches downtown ...</td>\n",
       "      <td>Archangel Michael Trypiotis Church</td>\n",
       "    </tr>\n",
       "    <tr>\n",
       "      <th>13</th>\n",
       "      <td>50</td>\n",
       "      <td>Beautiful church located just off the pedestri...</td>\n",
       "      <td>Archangel Michael Trypiotis Church</td>\n",
       "    </tr>\n",
       "    <tr>\n",
       "      <th>14</th>\n",
       "      <td>50</td>\n",
       "      <td>This was one of a number of Byzantine churches...</td>\n",
       "      <td>Archangel Michael Trypiotis Church</td>\n",
       "    </tr>\n",
       "    <tr>\n",
       "      <th>15</th>\n",
       "      <td>40</td>\n",
       "      <td>Would recommend going with the free Cyprus Wal...</td>\n",
       "      <td>Archangel Michael Trypiotis Church</td>\n",
       "    </tr>\n",
       "    <tr>\n",
       "      <th>16</th>\n",
       "      <td>50</td>\n",
       "      <td>We visited the Church of Archangel Michael to ...</td>\n",
       "      <td>Archangel Michael Trypiotis Church</td>\n",
       "    </tr>\n",
       "    <tr>\n",
       "      <th>17</th>\n",
       "      <td>50</td>\n",
       "      <td>Like many places in the walled city, this is a...</td>\n",
       "      <td>Archangel Michael Trypiotis Church</td>\n",
       "    </tr>\n",
       "    <tr>\n",
       "      <th>18</th>\n",
       "      <td>50</td>\n",
       "      <td>Some of the icons in the Church are very old a...</td>\n",
       "      <td>Archangel Michael Trypiotis Church</td>\n",
       "    </tr>\n",
       "    <tr>\n",
       "      <th>19</th>\n",
       "      <td>40</td>\n",
       "      <td>Nice to visit shortly if in the area. It could...</td>\n",
       "      <td>Archangel Michael Trypiotis Church</td>\n",
       "    </tr>\n",
       "    <tr>\n",
       "      <th>20</th>\n",
       "      <td>50</td>\n",
       "      <td>Lots of details make this church and ideal wed...</td>\n",
       "      <td>Archangel Michael Trypiotis Church</td>\n",
       "    </tr>\n",
       "    <tr>\n",
       "      <th>21</th>\n",
       "      <td>50</td>\n",
       "      <td>When touring down-town Nicosia, you must go vi...</td>\n",
       "      <td>Archangel Michael Trypiotis Church</td>\n",
       "    </tr>\n",
       "    <tr>\n",
       "      <th>22</th>\n",
       "      <td>50</td>\n",
       "      <td>I attended a wedding there recently and the ch...</td>\n",
       "      <td>Archangel Michael Trypiotis Church</td>\n",
       "    </tr>\n",
       "    <tr>\n",
       "      <th>23</th>\n",
       "      <td>50</td>\n",
       "      <td>Wonderful architecture and history. A rare cha...</td>\n",
       "      <td>Archangel Michael Trypiotis Church</td>\n",
       "    </tr>\n",
       "    <tr>\n",
       "      <th>24</th>\n",
       "      <td>50</td>\n",
       "      <td>The church of Archangelos Michail Trypiotis, a...</td>\n",
       "      <td>Archangel Michael Trypiotis Church</td>\n",
       "    </tr>\n",
       "    <tr>\n",
       "      <th>25</th>\n",
       "      <td>50</td>\n",
       "      <td>Church of Archangel Michael Trypiotis is a sto...</td>\n",
       "      <td>Archangel Michael Trypiotis Church</td>\n",
       "    </tr>\n",
       "  </tbody>\n",
       "</table>\n",
       "</div>"
      ],
      "text/plain": [
       "    r_points                                             r_text  \\\n",
       "0         40  Visit it if you are in the center of Nicosia o...   \n",
       "1         50  I love Churches, Orthodox Churches especially ...   \n",
       "2         50  It is the only church that has seats at variou...   \n",
       "3         50  The Church of Archangel Michael Trypiotis is j...   \n",
       "4         30  This was not on my original itiniery to visit ...   \n",
       "5         50  In the heart of the old city of Nicosia, this ...   \n",
       "6         40  Beautiful place and glad to see careful recons...   \n",
       "7         50  The Greek Orthodox church of Archangel Michael...   \n",
       "8         50  This orthodox church is located in the centre ...   \n",
       "9         30  The outside of the church is bring worked an a...   \n",
       "10        50  The Church of Archangelos Michael Trypiotis wa...   \n",
       "11        50  Worth visiting because inside it is not the ty...   \n",
       "12        40  One of the 7 Greek-Orthodox Churches downtown ...   \n",
       "13        50  Beautiful church located just off the pedestri...   \n",
       "14        50  This was one of a number of Byzantine churches...   \n",
       "15        40  Would recommend going with the free Cyprus Wal...   \n",
       "16        50  We visited the Church of Archangel Michael to ...   \n",
       "17        50  Like many places in the walled city, this is a...   \n",
       "18        50  Some of the icons in the Church are very old a...   \n",
       "19        40  Nice to visit shortly if in the area. It could...   \n",
       "20        50  Lots of details make this church and ideal wed...   \n",
       "21        50  When touring down-town Nicosia, you must go vi...   \n",
       "22        50  I attended a wedding there recently and the ch...   \n",
       "23        50  Wonderful architecture and history. A rare cha...   \n",
       "24        50  The church of Archangelos Michail Trypiotis, a...   \n",
       "25        50  Church of Archangel Michael Trypiotis is a sto...   \n",
       "\n",
       "                                 place  \n",
       "0   Archangel Michael Trypiotis Church  \n",
       "1   Archangel Michael Trypiotis Church  \n",
       "2   Archangel Michael Trypiotis Church  \n",
       "3   Archangel Michael Trypiotis Church  \n",
       "4   Archangel Michael Trypiotis Church  \n",
       "5   Archangel Michael Trypiotis Church  \n",
       "6   Archangel Michael Trypiotis Church  \n",
       "7   Archangel Michael Trypiotis Church  \n",
       "8   Archangel Michael Trypiotis Church  \n",
       "9   Archangel Michael Trypiotis Church  \n",
       "10  Archangel Michael Trypiotis Church  \n",
       "11  Archangel Michael Trypiotis Church  \n",
       "12  Archangel Michael Trypiotis Church  \n",
       "13  Archangel Michael Trypiotis Church  \n",
       "14  Archangel Michael Trypiotis Church  \n",
       "15  Archangel Michael Trypiotis Church  \n",
       "16  Archangel Michael Trypiotis Church  \n",
       "17  Archangel Michael Trypiotis Church  \n",
       "18  Archangel Michael Trypiotis Church  \n",
       "19  Archangel Michael Trypiotis Church  \n",
       "20  Archangel Michael Trypiotis Church  \n",
       "21  Archangel Michael Trypiotis Church  \n",
       "22  Archangel Michael Trypiotis Church  \n",
       "23  Archangel Michael Trypiotis Church  \n",
       "24  Archangel Michael Trypiotis Church  \n",
       "25  Archangel Michael Trypiotis Church  "
      ]
     },
     "execution_count": 3,
     "metadata": {},
     "output_type": "execute_result"
    }
   ],
   "source": [
    "tripadv_review = pd.read_csv(r'C:\\Users\\Dell\\Desktop\\Attractions\\Archangel Michael Trypiotis Church.csv', error_bad_lines=False);\n",
    "tripadv_review"
   ]
  },
  {
   "cell_type": "code",
   "execution_count": 4,
   "metadata": {},
   "outputs": [
    {
     "name": "stderr",
     "output_type": "stream",
     "text": [
      "[nltk_data] Downloading package vader_lexicon to\n",
      "[nltk_data]     C:\\Users\\Dell\\AppData\\Roaming\\nltk_data...\n",
      "[nltk_data]   Package vader_lexicon is already up-to-date!\n"
     ]
    }
   ],
   "source": [
    "import nltk\n",
    "nltk.download('vader_lexicon')\n",
    "from nltk.sentiment.vader import SentimentIntensityAnalyzer\n",
    "sent = SentimentIntensityAnalyzer()"
   ]
  },
  {
   "cell_type": "code",
   "execution_count": 5,
   "metadata": {},
   "outputs": [
    {
     "data": {
      "text/plain": [
       "{'neg': 0.0, 'neu': 1.0, 'pos': 0.0, 'compound': 0.0}"
      ]
     },
     "execution_count": 5,
     "metadata": {},
     "output_type": "execute_result"
    }
   ],
   "source": [
    "sent.polarity_scores(tripadv_review.iloc[0]['r_text'])"
   ]
  },
  {
   "cell_type": "code",
   "execution_count": 6,
   "metadata": {},
   "outputs": [
    {
     "data": {
      "text/html": [
       "<div>\n",
       "<style scoped>\n",
       "    .dataframe tbody tr th:only-of-type {\n",
       "        vertical-align: middle;\n",
       "    }\n",
       "\n",
       "    .dataframe tbody tr th {\n",
       "        vertical-align: top;\n",
       "    }\n",
       "\n",
       "    .dataframe thead th {\n",
       "        text-align: right;\n",
       "    }\n",
       "</style>\n",
       "<table border=\"1\" class=\"dataframe\">\n",
       "  <thead>\n",
       "    <tr style=\"text-align: right;\">\n",
       "      <th></th>\n",
       "      <th>r_points</th>\n",
       "      <th>r_text</th>\n",
       "      <th>place</th>\n",
       "      <th>scores</th>\n",
       "      <th>compound</th>\n",
       "      <th>score</th>\n",
       "    </tr>\n",
       "  </thead>\n",
       "  <tbody>\n",
       "    <tr>\n",
       "      <th>0</th>\n",
       "      <td>40</td>\n",
       "      <td>Visit it if you are in the center of Nicosia o...</td>\n",
       "      <td>Archangel Michael Trypiotis Church</td>\n",
       "      <td>{'neg': 0.0, 'neu': 1.0, 'pos': 0.0, 'compound...</td>\n",
       "      <td>0.0000</td>\n",
       "      <td>pos</td>\n",
       "    </tr>\n",
       "    <tr>\n",
       "      <th>1</th>\n",
       "      <td>50</td>\n",
       "      <td>I love Churches, Orthodox Churches especially ...</td>\n",
       "      <td>Archangel Michael Trypiotis Church</td>\n",
       "      <td>{'neg': 0.0, 'neu': 0.785, 'pos': 0.215, 'comp...</td>\n",
       "      <td>0.9042</td>\n",
       "      <td>pos</td>\n",
       "    </tr>\n",
       "    <tr>\n",
       "      <th>2</th>\n",
       "      <td>50</td>\n",
       "      <td>It is the only church that has seats at variou...</td>\n",
       "      <td>Archangel Michael Trypiotis Church</td>\n",
       "      <td>{'neg': 0.0, 'neu': 0.851, 'pos': 0.149, 'comp...</td>\n",
       "      <td>0.5423</td>\n",
       "      <td>pos</td>\n",
       "    </tr>\n",
       "    <tr>\n",
       "      <th>3</th>\n",
       "      <td>50</td>\n",
       "      <td>The Church of Archangel Michael Trypiotis is j...</td>\n",
       "      <td>Archangel Michael Trypiotis Church</td>\n",
       "      <td>{'neg': 0.0, 'neu': 0.848, 'pos': 0.152, 'comp...</td>\n",
       "      <td>0.8268</td>\n",
       "      <td>pos</td>\n",
       "    </tr>\n",
       "    <tr>\n",
       "      <th>4</th>\n",
       "      <td>30</td>\n",
       "      <td>This was not on my original itiniery to visit ...</td>\n",
       "      <td>Archangel Michael Trypiotis Church</td>\n",
       "      <td>{'neg': 0.139, 'neu': 0.78, 'pos': 0.081, 'com...</td>\n",
       "      <td>-0.5144</td>\n",
       "      <td>neg</td>\n",
       "    </tr>\n",
       "  </tbody>\n",
       "</table>\n",
       "</div>"
      ],
      "text/plain": [
       "   r_points                                             r_text  \\\n",
       "0        40  Visit it if you are in the center of Nicosia o...   \n",
       "1        50  I love Churches, Orthodox Churches especially ...   \n",
       "2        50  It is the only church that has seats at variou...   \n",
       "3        50  The Church of Archangel Michael Trypiotis is j...   \n",
       "4        30  This was not on my original itiniery to visit ...   \n",
       "\n",
       "                                place  \\\n",
       "0  Archangel Michael Trypiotis Church   \n",
       "1  Archangel Michael Trypiotis Church   \n",
       "2  Archangel Michael Trypiotis Church   \n",
       "3  Archangel Michael Trypiotis Church   \n",
       "4  Archangel Michael Trypiotis Church   \n",
       "\n",
       "                                              scores  compound score  \n",
       "0  {'neg': 0.0, 'neu': 1.0, 'pos': 0.0, 'compound...    0.0000   pos  \n",
       "1  {'neg': 0.0, 'neu': 0.785, 'pos': 0.215, 'comp...    0.9042   pos  \n",
       "2  {'neg': 0.0, 'neu': 0.851, 'pos': 0.149, 'comp...    0.5423   pos  \n",
       "3  {'neg': 0.0, 'neu': 0.848, 'pos': 0.152, 'comp...    0.8268   pos  \n",
       "4  {'neg': 0.139, 'neu': 0.78, 'pos': 0.081, 'com...   -0.5144   neg  "
      ]
     },
     "execution_count": 6,
     "metadata": {},
     "output_type": "execute_result"
    }
   ],
   "source": [
    "tripadv_review['scores'] = tripadv_review['r_text'].apply(lambda review:sent.polarity_scores(review))\n",
    "tripadv_review['compound'] = tripadv_review['scores'].apply(lambda d:d['compound'])\n",
    "tripadv_review['score'] = tripadv_review['compound'].apply(lambda score: 'pos' if score >=0 else 'neg')\n",
    "tripadv_review.head()"
   ]
  },
  {
   "cell_type": "code",
   "execution_count": 7,
   "metadata": {},
   "outputs": [],
   "source": [
    "tripadv_review.to_csv(r'C:\\Users\\Dell\\Desktop\\sentiment_out4.csv')"
   ]
  },
  {
   "cell_type": "code",
   "execution_count": 8,
   "metadata": {},
   "outputs": [],
   "source": [
    "pos_rev=tripadv_review[(tripadv_review['score'] .str.contains('pos'))]\n",
    "pos_rev.to_csv(r'C:\\Users\\Dell\\Desktop\\sentiment_out4_pos.csv')\n",
    "neg_rev=tripadv_review[(tripadv_review['score'] .str.contains('neg'))]\n",
    "neg_rev.to_csv(r'C:\\Users\\Dell\\Desktop\\sentiment_out4_neg.csv')"
   ]
  },
  {
   "cell_type": "code",
   "execution_count": 9,
   "metadata": {},
   "outputs": [],
   "source": [
    "pos_review_imp= pd.read_csv(r'C:\\Users\\Dell\\Desktop\\sentiment_out4_pos.csv')\n",
    "neg_review_imp = pd.read_csv(r'C:\\Users\\Dell\\Desktop\\sentiment_out4_neg.csv')"
   ]
  },
  {
   "cell_type": "code",
   "execution_count": 10,
   "metadata": {},
   "outputs": [],
   "source": [
    "from pycaret.nlp import *"
   ]
  },
  {
   "cell_type": "code",
   "execution_count": 11,
   "metadata": {},
   "outputs": [
    {
     "data": {
      "text/html": [
       "<style  type=\"text/css\" >\n",
       "</style><table id=\"T_cfc0fc92_300b_11eb_8142_c48e8ff9d2e0\" ><thead>    <tr>        <th class=\"col_heading level0 col0\" >Description</th>        <th class=\"col_heading level0 col1\" >Value</th>    </tr></thead><tbody>\n",
       "                <tr>\n",
       "                                <td id=\"T_cfc0fc92_300b_11eb_8142_c48e8ff9d2e0row0_col0\" class=\"data row0 col0\" >session_id</td>\n",
       "                        <td id=\"T_cfc0fc92_300b_11eb_8142_c48e8ff9d2e0row0_col1\" class=\"data row0 col1\" >1704</td>\n",
       "            </tr>\n",
       "            <tr>\n",
       "                                <td id=\"T_cfc0fc92_300b_11eb_8142_c48e8ff9d2e0row1_col0\" class=\"data row1 col0\" >Documents</td>\n",
       "                        <td id=\"T_cfc0fc92_300b_11eb_8142_c48e8ff9d2e0row1_col1\" class=\"data row1 col1\" >25</td>\n",
       "            </tr>\n",
       "            <tr>\n",
       "                                <td id=\"T_cfc0fc92_300b_11eb_8142_c48e8ff9d2e0row2_col0\" class=\"data row2 col0\" >Vocab Size</td>\n",
       "                        <td id=\"T_cfc0fc92_300b_11eb_8142_c48e8ff9d2e0row2_col1\" class=\"data row2 col1\" >292</td>\n",
       "            </tr>\n",
       "            <tr>\n",
       "                                <td id=\"T_cfc0fc92_300b_11eb_8142_c48e8ff9d2e0row3_col0\" class=\"data row3 col0\" >Custom Stopwords</td>\n",
       "                        <td id=\"T_cfc0fc92_300b_11eb_8142_c48e8ff9d2e0row3_col1\" class=\"data row3 col1\" >True</td>\n",
       "            </tr>\n",
       "    </tbody></table>"
      ],
      "text/plain": [
       "<pandas.io.formats.style.Styler at 0x1910353f448>"
      ]
     },
     "metadata": {},
     "output_type": "display_data"
    }
   ],
   "source": [
    "exp_nlp = setup(data = pos_review_imp, target = 'r_text',\n",
    "                custom_stopwords = [ 'hotel', 'room', 'nice', 'good', 'excellent','restaurant', 'food'])"
   ]
  },
  {
   "cell_type": "code",
   "execution_count": 12,
   "metadata": {},
   "outputs": [
    {
     "name": "stdout",
     "output_type": "stream",
     "text": [
      "LdaModel(num_terms=292, num_topics=4, decay=0.5, chunksize=100)\n"
     ]
    }
   ],
   "source": [
    "#create an LDA model\n",
    "lda_pos_custom = create_model('lda')\n",
    "print(lda_pos_custom)"
   ]
  },
  {
   "cell_type": "code",
   "execution_count": 13,
   "metadata": {},
   "outputs": [
    {
     "data": {
      "text/html": [
       "<div>\n",
       "<style scoped>\n",
       "    .dataframe tbody tr th:only-of-type {\n",
       "        vertical-align: middle;\n",
       "    }\n",
       "\n",
       "    .dataframe tbody tr th {\n",
       "        vertical-align: top;\n",
       "    }\n",
       "\n",
       "    .dataframe thead th {\n",
       "        text-align: right;\n",
       "    }\n",
       "</style>\n",
       "<table border=\"1\" class=\"dataframe\">\n",
       "  <thead>\n",
       "    <tr style=\"text-align: right;\">\n",
       "      <th></th>\n",
       "      <th>Unnamed: 0</th>\n",
       "      <th>r_points</th>\n",
       "      <th>r_text</th>\n",
       "      <th>place</th>\n",
       "      <th>scores</th>\n",
       "      <th>compound</th>\n",
       "      <th>score</th>\n",
       "      <th>Topic_0</th>\n",
       "      <th>Topic_1</th>\n",
       "      <th>Topic_2</th>\n",
       "      <th>Topic_3</th>\n",
       "      <th>Dominant_Topic</th>\n",
       "      <th>Perc_Dominant_Topic</th>\n",
       "    </tr>\n",
       "  </thead>\n",
       "  <tbody>\n",
       "    <tr>\n",
       "      <th>0</th>\n",
       "      <td>0</td>\n",
       "      <td>40</td>\n",
       "      <td>old old church island morning hour open</td>\n",
       "      <td>Archangel Michael Trypiotis Church</td>\n",
       "      <td>{'neg': 0.0, 'neu': 1.0, 'pos': 0.0, 'compound...</td>\n",
       "      <td>0.0000</td>\n",
       "      <td>pos</td>\n",
       "      <td>0.006654</td>\n",
       "      <td>0.007453</td>\n",
       "      <td>0.979067</td>\n",
       "      <td>0.006825</td>\n",
       "      <td>Topic 2</td>\n",
       "      <td>0.98</td>\n",
       "    </tr>\n",
       "    <tr>\n",
       "      <th>1</th>\n",
       "      <td>1</td>\n",
       "      <td>50</td>\n",
       "      <td>love church orthodox church especially due ter...</td>\n",
       "      <td>Archangel Michael Trypiotis Church</td>\n",
       "      <td>{'neg': 0.0, 'neu': 0.785, 'pos': 0.215, 'comp...</td>\n",
       "      <td>0.9042</td>\n",
       "      <td>pos</td>\n",
       "      <td>0.003387</td>\n",
       "      <td>0.003793</td>\n",
       "      <td>0.989346</td>\n",
       "      <td>0.003474</td>\n",
       "      <td>Topic 2</td>\n",
       "      <td>0.99</td>\n",
       "    </tr>\n",
       "    <tr>\n",
       "      <th>2</th>\n",
       "      <td>2</td>\n",
       "      <td>50</td>\n",
       "      <td>church seat various level ever experience old ...</td>\n",
       "      <td>Archangel Michael Trypiotis Church</td>\n",
       "      <td>{'neg': 0.0, 'neu': 0.851, 'pos': 0.149, 'comp...</td>\n",
       "      <td>0.5423</td>\n",
       "      <td>pos</td>\n",
       "      <td>0.005216</td>\n",
       "      <td>0.005843</td>\n",
       "      <td>0.011206</td>\n",
       "      <td>0.977735</td>\n",
       "      <td>Topic 3</td>\n",
       "      <td>0.98</td>\n",
       "    </tr>\n",
       "    <tr>\n",
       "      <th>3</th>\n",
       "      <td>3</td>\n",
       "      <td>50</td>\n",
       "      <td>find impress icon beautiful iconostasis interi...</td>\n",
       "      <td>Archangel Michael Trypiotis Church</td>\n",
       "      <td>{'neg': 0.0, 'neu': 0.848, 'pos': 0.152, 'comp...</td>\n",
       "      <td>0.8268</td>\n",
       "      <td>pos</td>\n",
       "      <td>0.003939</td>\n",
       "      <td>0.004413</td>\n",
       "      <td>0.987607</td>\n",
       "      <td>0.004041</td>\n",
       "      <td>Topic 2</td>\n",
       "      <td>0.99</td>\n",
       "    </tr>\n",
       "    <tr>\n",
       "      <th>4</th>\n",
       "      <td>5</td>\n",
       "      <td>50</td>\n",
       "      <td>silver cover icon provide church many language</td>\n",
       "      <td>Archangel Michael Trypiotis Church</td>\n",
       "      <td>{'neg': 0.0, 'neu': 0.911, 'pos': 0.089, 'comp...</td>\n",
       "      <td>0.5574</td>\n",
       "      <td>pos</td>\n",
       "      <td>0.006654</td>\n",
       "      <td>0.007453</td>\n",
       "      <td>0.979067</td>\n",
       "      <td>0.006825</td>\n",
       "      <td>Topic 2</td>\n",
       "      <td>0.98</td>\n",
       "    </tr>\n",
       "    <tr>\n",
       "      <th>5</th>\n",
       "      <td>6</td>\n",
       "      <td>40</td>\n",
       "      <td>beautiful place glad see careful reconstructio...</td>\n",
       "      <td>Archangel Michael Trypiotis Church</td>\n",
       "      <td>{'neg': 0.0, 'neu': 0.542, 'pos': 0.458, 'comp...</td>\n",
       "      <td>0.9136</td>\n",
       "      <td>pos</td>\n",
       "      <td>0.003939</td>\n",
       "      <td>0.983557</td>\n",
       "      <td>0.008463</td>\n",
       "      <td>0.004041</td>\n",
       "      <td>Topic 1</td>\n",
       "      <td>0.98</td>\n",
       "    </tr>\n",
       "    <tr>\n",
       "      <th>6</th>\n",
       "      <td>7</td>\n",
       "      <td>50</td>\n",
       "      <td>wall beautiful church build special example ar...</td>\n",
       "      <td>Archangel Michael Trypiotis Church</td>\n",
       "      <td>{'neg': 0.0, 'neu': 0.835, 'pos': 0.165, 'comp...</td>\n",
       "      <td>0.9216</td>\n",
       "      <td>pos</td>\n",
       "      <td>0.001912</td>\n",
       "      <td>0.002141</td>\n",
       "      <td>0.004106</td>\n",
       "      <td>0.991841</td>\n",
       "      <td>Topic 3</td>\n",
       "      <td>0.99</td>\n",
       "    </tr>\n",
       "    <tr>\n",
       "      <th>7</th>\n",
       "      <td>8</td>\n",
       "      <td>50</td>\n",
       "      <td>locate next shopping street make limestone lot...</td>\n",
       "      <td>Archangel Michael Trypiotis Church</td>\n",
       "      <td>{'neg': 0.0, 'neu': 0.933, 'pos': 0.067, 'comp...</td>\n",
       "      <td>0.5994</td>\n",
       "      <td>pos</td>\n",
       "      <td>0.002169</td>\n",
       "      <td>0.990946</td>\n",
       "      <td>0.004659</td>\n",
       "      <td>0.002225</td>\n",
       "      <td>Topic 1</td>\n",
       "      <td>0.99</td>\n",
       "    </tr>\n",
       "    <tr>\n",
       "      <th>8</th>\n",
       "      <td>9</td>\n",
       "      <td>30</td>\n",
       "      <td>outside church bring work indeed much nicosia ...</td>\n",
       "      <td>Archangel Michael Trypiotis Church</td>\n",
       "      <td>{'neg': 0.022, 'neu': 0.856, 'pos': 0.122, 'co...</td>\n",
       "      <td>0.8100</td>\n",
       "      <td>pos</td>\n",
       "      <td>0.001332</td>\n",
       "      <td>0.001492</td>\n",
       "      <td>0.995811</td>\n",
       "      <td>0.001366</td>\n",
       "      <td>Topic 2</td>\n",
       "      <td>1.00</td>\n",
       "    </tr>\n",
       "    <tr>\n",
       "      <th>9</th>\n",
       "      <td>10</td>\n",
       "      <td>50</td>\n",
       "      <td>build stone old town wall architecture impress...</td>\n",
       "      <td>Archangel Michael Trypiotis Church</td>\n",
       "      <td>{'neg': 0.016, 'neu': 0.792, 'pos': 0.192, 'co...</td>\n",
       "      <td>0.9730</td>\n",
       "      <td>pos</td>\n",
       "      <td>0.001332</td>\n",
       "      <td>0.001492</td>\n",
       "      <td>0.002860</td>\n",
       "      <td>0.994317</td>\n",
       "      <td>Topic 3</td>\n",
       "      <td>0.99</td>\n",
       "    </tr>\n",
       "    <tr>\n",
       "      <th>10</th>\n",
       "      <td>11</td>\n",
       "      <td>50</td>\n",
       "      <td>worth visit typical way seating area theater a...</td>\n",
       "      <td>Archangel Michael Trypiotis Church</td>\n",
       "      <td>{'neg': 0.0, 'neu': 0.633, 'pos': 0.367, 'comp...</td>\n",
       "      <td>0.9335</td>\n",
       "      <td>pos</td>\n",
       "      <td>0.985458</td>\n",
       "      <td>0.003793</td>\n",
       "      <td>0.007275</td>\n",
       "      <td>0.003474</td>\n",
       "      <td>Topic 0</td>\n",
       "      <td>0.99</td>\n",
       "    </tr>\n",
       "    <tr>\n",
       "      <th>11</th>\n",
       "      <td>12</td>\n",
       "      <td>40</td>\n",
       "      <td>greek orthodox church downtown old historic ce...</td>\n",
       "      <td>Archangel Michael Trypiotis Church</td>\n",
       "      <td>{'neg': 0.0, 'neu': 0.826, 'pos': 0.174, 'comp...</td>\n",
       "      <td>0.5859</td>\n",
       "      <td>pos</td>\n",
       "      <td>0.984362</td>\n",
       "      <td>0.004080</td>\n",
       "      <td>0.007823</td>\n",
       "      <td>0.003736</td>\n",
       "      <td>Topic 0</td>\n",
       "      <td>0.98</td>\n",
       "    </tr>\n",
       "    <tr>\n",
       "      <th>12</th>\n",
       "      <td>13</td>\n",
       "      <td>50</td>\n",
       "      <td>locate downtown worth get side track go see</td>\n",
       "      <td>Archangel Michael Trypiotis Church</td>\n",
       "      <td>{'neg': 0.0, 'neu': 0.706, 'pos': 0.294, 'comp...</td>\n",
       "      <td>0.7845</td>\n",
       "      <td>pos</td>\n",
       "      <td>0.005848</td>\n",
       "      <td>0.006550</td>\n",
       "      <td>0.981603</td>\n",
       "      <td>0.005999</td>\n",
       "      <td>Topic 2</td>\n",
       "      <td>0.98</td>\n",
       "    </tr>\n",
       "    <tr>\n",
       "      <th>13</th>\n",
       "      <td>14</td>\n",
       "      <td>50</td>\n",
       "      <td>number byzantine church visit beautiful peacef...</td>\n",
       "      <td>Archangel Michael Trypiotis Church</td>\n",
       "      <td>{'neg': 0.089, 'neu': 0.585, 'pos': 0.326, 'co...</td>\n",
       "      <td>0.8946</td>\n",
       "      <td>pos</td>\n",
       "      <td>0.003165</td>\n",
       "      <td>0.003545</td>\n",
       "      <td>0.990044</td>\n",
       "      <td>0.003246</td>\n",
       "      <td>Topic 2</td>\n",
       "      <td>0.99</td>\n",
       "    </tr>\n",
       "    <tr>\n",
       "      <th>14</th>\n",
       "      <td>15</td>\n",
       "      <td>40</td>\n",
       "      <td>recommend go free walk tour get understand his...</td>\n",
       "      <td>Archangel Michael Trypiotis Church</td>\n",
       "      <td>{'neg': 0.0, 'neu': 0.791, 'pos': 0.209, 'comp...</td>\n",
       "      <td>0.7003</td>\n",
       "      <td>pos</td>\n",
       "      <td>0.003939</td>\n",
       "      <td>0.004413</td>\n",
       "      <td>0.987607</td>\n",
       "      <td>0.004041</td>\n",
       "      <td>Topic 2</td>\n",
       "      <td>0.99</td>\n",
       "    </tr>\n",
       "    <tr>\n",
       "      <th>15</th>\n",
       "      <td>16</td>\n",
       "      <td>50</td>\n",
       "      <td>visit see beautiful icon set wedding later day...</td>\n",
       "      <td>Archangel Michael Trypiotis Church</td>\n",
       "      <td>{'neg': 0.0, 'neu': 0.842, 'pos': 0.158, 'comp...</td>\n",
       "      <td>0.9546</td>\n",
       "      <td>pos</td>\n",
       "      <td>0.001409</td>\n",
       "      <td>0.001579</td>\n",
       "      <td>0.003027</td>\n",
       "      <td>0.993985</td>\n",
       "      <td>Topic 3</td>\n",
       "      <td>0.99</td>\n",
       "    </tr>\n",
       "    <tr>\n",
       "      <th>16</th>\n",
       "      <td>17</td>\n",
       "      <td>50</td>\n",
       "      <td>many place wall city palimpsest originally bui...</td>\n",
       "      <td>Archangel Michael Trypiotis Church</td>\n",
       "      <td>{'neg': 0.0, 'neu': 0.881, 'pos': 0.119, 'comp...</td>\n",
       "      <td>0.7684</td>\n",
       "      <td>pos</td>\n",
       "      <td>0.001839</td>\n",
       "      <td>0.992326</td>\n",
       "      <td>0.003949</td>\n",
       "      <td>0.001886</td>\n",
       "      <td>Topic 1</td>\n",
       "      <td>0.99</td>\n",
       "    </tr>\n",
       "    <tr>\n",
       "      <th>17</th>\n",
       "      <td>18</td>\n",
       "      <td>50</td>\n",
       "      <td>icon old beautiful take look remember show res...</td>\n",
       "      <td>Archangel Michael Trypiotis Church</td>\n",
       "      <td>{'neg': 0.065, 'neu': 0.646, 'pos': 0.289, 'co...</td>\n",
       "      <td>0.8251</td>\n",
       "      <td>pos</td>\n",
       "      <td>0.004708</td>\n",
       "      <td>0.005273</td>\n",
       "      <td>0.985190</td>\n",
       "      <td>0.004829</td>\n",
       "      <td>Topic 2</td>\n",
       "      <td>0.99</td>\n",
       "    </tr>\n",
       "    <tr>\n",
       "      <th>18</th>\n",
       "      <td>19</td>\n",
       "      <td>40</td>\n",
       "      <td>visit shortly area part walk tour old even see...</td>\n",
       "      <td>Archangel Michael Trypiotis Church</td>\n",
       "      <td>{'neg': 0.0, 'neu': 0.84, 'pos': 0.16, 'compou...</td>\n",
       "      <td>0.7089</td>\n",
       "      <td>pos</td>\n",
       "      <td>0.004708</td>\n",
       "      <td>0.980351</td>\n",
       "      <td>0.010113</td>\n",
       "      <td>0.004829</td>\n",
       "      <td>Topic 1</td>\n",
       "      <td>0.98</td>\n",
       "    </tr>\n",
       "    <tr>\n",
       "      <th>19</th>\n",
       "      <td>20</td>\n",
       "      <td>50</td>\n",
       "      <td>lot detail make church ideal wedding venue loc...</td>\n",
       "      <td>Archangel Michael Trypiotis Church</td>\n",
       "      <td>{'neg': 0.023, 'neu': 0.785, 'pos': 0.192, 'co...</td>\n",
       "      <td>0.9697</td>\n",
       "      <td>pos</td>\n",
       "      <td>0.001022</td>\n",
       "      <td>0.001144</td>\n",
       "      <td>0.996786</td>\n",
       "      <td>0.001048</td>\n",
       "      <td>Topic 2</td>\n",
       "      <td>1.00</td>\n",
       "    </tr>\n",
       "    <tr>\n",
       "      <th>20</th>\n",
       "      <td>21</td>\n",
       "      <td>50</td>\n",
       "      <td>tour town go visit beautiful church locate roa...</td>\n",
       "      <td>Archangel Michael Trypiotis Church</td>\n",
       "      <td>{'neg': 0.0, 'neu': 0.781, 'pos': 0.219, 'comp...</td>\n",
       "      <td>0.9067</td>\n",
       "      <td>pos</td>\n",
       "      <td>0.002970</td>\n",
       "      <td>0.003327</td>\n",
       "      <td>0.990657</td>\n",
       "      <td>0.003046</td>\n",
       "      <td>Topic 2</td>\n",
       "      <td>0.99</td>\n",
       "    </tr>\n",
       "    <tr>\n",
       "      <th>21</th>\n",
       "      <td>22</td>\n",
       "      <td>50</td>\n",
       "      <td>attend wedding recently church wonderful chair...</td>\n",
       "      <td>Archangel Michael Trypiotis Church</td>\n",
       "      <td>{'neg': 0.0, 'neu': 0.662, 'pos': 0.338, 'comp...</td>\n",
       "      <td>0.9504</td>\n",
       "      <td>pos</td>\n",
       "      <td>0.002507</td>\n",
       "      <td>0.002808</td>\n",
       "      <td>0.992112</td>\n",
       "      <td>0.002572</td>\n",
       "      <td>Topic 2</td>\n",
       "      <td>0.99</td>\n",
       "    </tr>\n",
       "    <tr>\n",
       "      <th>22</th>\n",
       "      <td>23</td>\n",
       "      <td>50</td>\n",
       "      <td>wonderful architecture history rare chance see...</td>\n",
       "      <td>Archangel Michael Trypiotis Church</td>\n",
       "      <td>{'neg': 0.0, 'neu': 0.801, 'pos': 0.199, 'comp...</td>\n",
       "      <td>0.6908</td>\n",
       "      <td>pos</td>\n",
       "      <td>0.004289</td>\n",
       "      <td>0.982098</td>\n",
       "      <td>0.009213</td>\n",
       "      <td>0.004400</td>\n",
       "      <td>Topic 1</td>\n",
       "      <td>0.98</td>\n",
       "    </tr>\n",
       "    <tr>\n",
       "      <th>23</th>\n",
       "      <td>24</td>\n",
       "      <td>50</td>\n",
       "      <td>locate walled quarter important division city ...</td>\n",
       "      <td>Archangel Michael Trypiotis Church</td>\n",
       "      <td>{'neg': 0.009, 'neu': 0.841, 'pos': 0.15, 'com...</td>\n",
       "      <td>0.9844</td>\n",
       "      <td>pos</td>\n",
       "      <td>0.996918</td>\n",
       "      <td>0.000804</td>\n",
       "      <td>0.001542</td>\n",
       "      <td>0.000736</td>\n",
       "      <td>Topic 0</td>\n",
       "      <td>1.00</td>\n",
       "    </tr>\n",
       "    <tr>\n",
       "      <th>24</th>\n",
       "      <td>25</td>\n",
       "      <td>50</td>\n",
       "      <td>build period locate wall town easy find great ...</td>\n",
       "      <td>Archangel Michael Trypiotis Church</td>\n",
       "      <td>{'neg': 0.0, 'neu': 0.783, 'pos': 0.217, 'comp...</td>\n",
       "      <td>0.9577</td>\n",
       "      <td>pos</td>\n",
       "      <td>0.989766</td>\n",
       "      <td>0.002670</td>\n",
       "      <td>0.005119</td>\n",
       "      <td>0.002445</td>\n",
       "      <td>Topic 0</td>\n",
       "      <td>0.99</td>\n",
       "    </tr>\n",
       "  </tbody>\n",
       "</table>\n",
       "</div>"
      ],
      "text/plain": [
       "    Unnamed: 0  r_points                                             r_text  \\\n",
       "0            0        40            old old church island morning hour open   \n",
       "1            1        50  love church orthodox church especially due ter...   \n",
       "2            2        50  church seat various level ever experience old ...   \n",
       "3            3        50  find impress icon beautiful iconostasis interi...   \n",
       "4            5        50     silver cover icon provide church many language   \n",
       "5            6        40  beautiful place glad see careful reconstructio...   \n",
       "6            7        50  wall beautiful church build special example ar...   \n",
       "7            8        50  locate next shopping street make limestone lot...   \n",
       "8            9        30  outside church bring work indeed much nicosia ...   \n",
       "9           10        50  build stone old town wall architecture impress...   \n",
       "10          11        50  worth visit typical way seating area theater a...   \n",
       "11          12        40  greek orthodox church downtown old historic ce...   \n",
       "12          13        50        locate downtown worth get side track go see   \n",
       "13          14        50  number byzantine church visit beautiful peacef...   \n",
       "14          15        40  recommend go free walk tour get understand his...   \n",
       "15          16        50  visit see beautiful icon set wedding later day...   \n",
       "16          17        50  many place wall city palimpsest originally bui...   \n",
       "17          18        50  icon old beautiful take look remember show res...   \n",
       "18          19        40  visit shortly area part walk tour old even see...   \n",
       "19          20        50  lot detail make church ideal wedding venue loc...   \n",
       "20          21        50  tour town go visit beautiful church locate roa...   \n",
       "21          22        50  attend wedding recently church wonderful chair...   \n",
       "22          23        50  wonderful architecture history rare chance see...   \n",
       "23          24        50  locate walled quarter important division city ...   \n",
       "24          25        50  build period locate wall town easy find great ...   \n",
       "\n",
       "                                 place  \\\n",
       "0   Archangel Michael Trypiotis Church   \n",
       "1   Archangel Michael Trypiotis Church   \n",
       "2   Archangel Michael Trypiotis Church   \n",
       "3   Archangel Michael Trypiotis Church   \n",
       "4   Archangel Michael Trypiotis Church   \n",
       "5   Archangel Michael Trypiotis Church   \n",
       "6   Archangel Michael Trypiotis Church   \n",
       "7   Archangel Michael Trypiotis Church   \n",
       "8   Archangel Michael Trypiotis Church   \n",
       "9   Archangel Michael Trypiotis Church   \n",
       "10  Archangel Michael Trypiotis Church   \n",
       "11  Archangel Michael Trypiotis Church   \n",
       "12  Archangel Michael Trypiotis Church   \n",
       "13  Archangel Michael Trypiotis Church   \n",
       "14  Archangel Michael Trypiotis Church   \n",
       "15  Archangel Michael Trypiotis Church   \n",
       "16  Archangel Michael Trypiotis Church   \n",
       "17  Archangel Michael Trypiotis Church   \n",
       "18  Archangel Michael Trypiotis Church   \n",
       "19  Archangel Michael Trypiotis Church   \n",
       "20  Archangel Michael Trypiotis Church   \n",
       "21  Archangel Michael Trypiotis Church   \n",
       "22  Archangel Michael Trypiotis Church   \n",
       "23  Archangel Michael Trypiotis Church   \n",
       "24  Archangel Michael Trypiotis Church   \n",
       "\n",
       "                                               scores  compound score  \\\n",
       "0   {'neg': 0.0, 'neu': 1.0, 'pos': 0.0, 'compound...    0.0000   pos   \n",
       "1   {'neg': 0.0, 'neu': 0.785, 'pos': 0.215, 'comp...    0.9042   pos   \n",
       "2   {'neg': 0.0, 'neu': 0.851, 'pos': 0.149, 'comp...    0.5423   pos   \n",
       "3   {'neg': 0.0, 'neu': 0.848, 'pos': 0.152, 'comp...    0.8268   pos   \n",
       "4   {'neg': 0.0, 'neu': 0.911, 'pos': 0.089, 'comp...    0.5574   pos   \n",
       "5   {'neg': 0.0, 'neu': 0.542, 'pos': 0.458, 'comp...    0.9136   pos   \n",
       "6   {'neg': 0.0, 'neu': 0.835, 'pos': 0.165, 'comp...    0.9216   pos   \n",
       "7   {'neg': 0.0, 'neu': 0.933, 'pos': 0.067, 'comp...    0.5994   pos   \n",
       "8   {'neg': 0.022, 'neu': 0.856, 'pos': 0.122, 'co...    0.8100   pos   \n",
       "9   {'neg': 0.016, 'neu': 0.792, 'pos': 0.192, 'co...    0.9730   pos   \n",
       "10  {'neg': 0.0, 'neu': 0.633, 'pos': 0.367, 'comp...    0.9335   pos   \n",
       "11  {'neg': 0.0, 'neu': 0.826, 'pos': 0.174, 'comp...    0.5859   pos   \n",
       "12  {'neg': 0.0, 'neu': 0.706, 'pos': 0.294, 'comp...    0.7845   pos   \n",
       "13  {'neg': 0.089, 'neu': 0.585, 'pos': 0.326, 'co...    0.8946   pos   \n",
       "14  {'neg': 0.0, 'neu': 0.791, 'pos': 0.209, 'comp...    0.7003   pos   \n",
       "15  {'neg': 0.0, 'neu': 0.842, 'pos': 0.158, 'comp...    0.9546   pos   \n",
       "16  {'neg': 0.0, 'neu': 0.881, 'pos': 0.119, 'comp...    0.7684   pos   \n",
       "17  {'neg': 0.065, 'neu': 0.646, 'pos': 0.289, 'co...    0.8251   pos   \n",
       "18  {'neg': 0.0, 'neu': 0.84, 'pos': 0.16, 'compou...    0.7089   pos   \n",
       "19  {'neg': 0.023, 'neu': 0.785, 'pos': 0.192, 'co...    0.9697   pos   \n",
       "20  {'neg': 0.0, 'neu': 0.781, 'pos': 0.219, 'comp...    0.9067   pos   \n",
       "21  {'neg': 0.0, 'neu': 0.662, 'pos': 0.338, 'comp...    0.9504   pos   \n",
       "22  {'neg': 0.0, 'neu': 0.801, 'pos': 0.199, 'comp...    0.6908   pos   \n",
       "23  {'neg': 0.009, 'neu': 0.841, 'pos': 0.15, 'com...    0.9844   pos   \n",
       "24  {'neg': 0.0, 'neu': 0.783, 'pos': 0.217, 'comp...    0.9577   pos   \n",
       "\n",
       "     Topic_0   Topic_1   Topic_2   Topic_3 Dominant_Topic  Perc_Dominant_Topic  \n",
       "0   0.006654  0.007453  0.979067  0.006825        Topic 2                 0.98  \n",
       "1   0.003387  0.003793  0.989346  0.003474        Topic 2                 0.99  \n",
       "2   0.005216  0.005843  0.011206  0.977735        Topic 3                 0.98  \n",
       "3   0.003939  0.004413  0.987607  0.004041        Topic 2                 0.99  \n",
       "4   0.006654  0.007453  0.979067  0.006825        Topic 2                 0.98  \n",
       "5   0.003939  0.983557  0.008463  0.004041        Topic 1                 0.98  \n",
       "6   0.001912  0.002141  0.004106  0.991841        Topic 3                 0.99  \n",
       "7   0.002169  0.990946  0.004659  0.002225        Topic 1                 0.99  \n",
       "8   0.001332  0.001492  0.995811  0.001366        Topic 2                 1.00  \n",
       "9   0.001332  0.001492  0.002860  0.994317        Topic 3                 0.99  \n",
       "10  0.985458  0.003793  0.007275  0.003474        Topic 0                 0.99  \n",
       "11  0.984362  0.004080  0.007823  0.003736        Topic 0                 0.98  \n",
       "12  0.005848  0.006550  0.981603  0.005999        Topic 2                 0.98  \n",
       "13  0.003165  0.003545  0.990044  0.003246        Topic 2                 0.99  \n",
       "14  0.003939  0.004413  0.987607  0.004041        Topic 2                 0.99  \n",
       "15  0.001409  0.001579  0.003027  0.993985        Topic 3                 0.99  \n",
       "16  0.001839  0.992326  0.003949  0.001886        Topic 1                 0.99  \n",
       "17  0.004708  0.005273  0.985190  0.004829        Topic 2                 0.99  \n",
       "18  0.004708  0.980351  0.010113  0.004829        Topic 1                 0.98  \n",
       "19  0.001022  0.001144  0.996786  0.001048        Topic 2                 1.00  \n",
       "20  0.002970  0.003327  0.990657  0.003046        Topic 2                 0.99  \n",
       "21  0.002507  0.002808  0.992112  0.002572        Topic 2                 0.99  \n",
       "22  0.004289  0.982098  0.009213  0.004400        Topic 1                 0.98  \n",
       "23  0.996918  0.000804  0.001542  0.000736        Topic 0                 1.00  \n",
       "24  0.989766  0.002670  0.005119  0.002445        Topic 0                 0.99  "
      ]
     },
     "execution_count": 13,
     "metadata": {},
     "output_type": "execute_result"
    }
   ],
   "source": [
    "apply_lda_pos = assign_model(lda_pos_custom)\n",
    "apply_lda_pos"
   ]
  },
  {
   "cell_type": "code",
   "execution_count": 14,
   "metadata": {},
   "outputs": [
    {
     "data": {
      "application/vnd.jupyter.widget-view+json": {
       "model_id": "db8bb2f8eab4482bb7d54a887d8baf74",
       "version_major": 2,
       "version_minor": 0
      },
      "text/plain": [
       "interactive(children=(ToggleButtons(description='Plot Type:', icons=('',), options=(('Frequency Plot', 'freque…"
      ]
     },
     "metadata": {},
     "output_type": "display_data"
    }
   ],
   "source": [
    "evaluate_model(lda_pos_custom)"
   ]
  },
  {
   "cell_type": "code",
   "execution_count": 16,
   "metadata": {},
   "outputs": [
    {
     "data": {
      "text/html": [
       "        <script type=\"text/javascript\">\n",
       "        window.PlotlyConfig = {MathJaxConfig: 'local'};\n",
       "        if (window.MathJax) {MathJax.Hub.Config({SVG: {font: \"STIX-Web\"}});}\n",
       "        if (typeof require !== 'undefined') {\n",
       "        require.undef(\"plotly\");\n",
       "        requirejs.config({\n",
       "            paths: {\n",
       "                'plotly': ['https://cdn.plot.ly/plotly-latest.min']\n",
       "            }\n",
       "        });\n",
       "        require(['plotly'], function(Plotly) {\n",
       "            window._Plotly = Plotly;\n",
       "        });\n",
       "        }\n",
       "        </script>\n",
       "        "
      ]
     },
     "metadata": {},
     "output_type": "display_data"
    },
    {
     "data": {
      "text/html": [
       "\n",
       "<link rel=\"stylesheet\" type=\"text/css\" href=\"https://cdn.rawgit.com/bmabey/pyLDAvis/files/ldavis.v1.0.0.css\">\n",
       "\n",
       "\n",
       "<div id=\"ldavis_el718817224920046802679808293\"></div>\n",
       "<script type=\"text/javascript\">\n",
       "\n",
       "var ldavis_el718817224920046802679808293_data = {\"mdsDat\": {\"x\": [0.08808231934719687, 0.04358088755843046, -0.08306102154253224, -0.048602185363095074], \"y\": [0.053948806302210627, -0.09676712202552838, -0.0512756711484279, 0.09409398687174564], \"topics\": [1, 2, 3, 4], \"cluster\": [1, 1, 1, 1], \"Freq\": [40.347076416015625, 22.744455337524414, 20.75843048095703, 16.150035858154297]}, \"tinfo\": {\"Term\": [\"icon\", \"small\", \"outside\", \"wall\", \"city\", \"use\", \"place\", \"history\", \"architecture\", \"build\", \"area\", \"carve\", \"example\", \"set\", \"stone\", \"see\", \"different\", \"important\", \"interesting\", \"date\", \"wedding\", \"show\", \"cover\", \"allow\", \"beautiful\", \"rich\", \"various\", \"gothic\", \"morning\", \"go\", \"mean\", \"get\", \"byzantine\", \"detail\", \"hour\", \"recommend\", \"location\", \"view\", \"priest\", \"ask\", \"modern\", \"guest\", \"wedding\", \"go\", \"number\", \"stop\", \"eye\", \"nation\", \"miss\", \"aesthetic\", \"term\", \"due\", \"keep\", \"easily\", \"village\", \"interior\", \"respect\", \"dark\", \"gold\", \"sign\", \"church\", \"place\", \"look\", \"tour\", \"wonderful\", \"silver\", \"especially\", \"find\", \"way\", \"beautiful\", \"visit\", \"make\", \"peaceful\", \"old\", \"icon\", \"see\", \"locate\", \"worth\", \"small\", \"different\", \"important\", \"charming\", \"center\", \"remind\", \"historic\", \"byzantium\", \"greek\", \"arrangement\", \"typical\", \"seating\", \"theater\", \"certainly\", \"afternoon\", \"internal\", \"great\", \"period\", \"quarter\", \"architectural\", \"follow\", \"carved\", \"easy\", \"door\", \"early\", \"big\", \"clearly\", \"external\", \"romanesque\", \"time\", \"area\", \"interesting\", \"date\", \"morning\", \"wall\", \"visit\", \"city\", \"church\", \"build\", \"locate\", \"worth\", \"icon\", \"old\", \"beautiful\", \"tourist\", \"downtown\", \"orthodox\", \"way\", \"peaceful\", \"example\", \"carve\", \"set\", \"amaze\", \"level\", \"ever\", \"ornately\", \"smoothed\", \"square\", \"almost\", \"dome\", \"decorate\", \"nave\", \"special\", \"aspect\", \"surround\", \"unusual\", \"amazing\", \"child\", \"hold\", \"later\", \"gild\", \"beauty\", \"stand\", \"lady\", \"item\", \"art\", \"extremely\", \"photo\", \"unique\", \"architecture\", \"icon\", \"stone\", \"show\", \"cover\", \"allow\", \"wall\", \"beautiful\", \"build\", \"church\", \"visit\", \"old\", \"worth\", \"experience\", \"wedding\", \"seat\", \"town\", \"various\", \"make\", \"day\", \"bring\", \"date\", \"century\", \"peaceful\", \"use\", \"outside\", \"read\", \"rare\", \"chance\", \"life\", \"glad\", \"reconstruction\", \"careful\", \"idiosyncratic\", \"course\", \"possibly\", \"parish\", \"refurbishment\", \"masonry\", \"bit\", \"era\", \"originally\", \"palimpsest\", \"underwent\", \"addition\", \"cycle\", \"mix\", \"past\", \"layout\", \"part\", \"goldplate\", \"mostly\", \"shortly\", \"building\", \"history\", \"city\", \"see\", \"place\", \"old\", \"church\", \"beautiful\", \"wall\", \"architecture\", \"wonderful\", \"build\", \"rich\", \"make\", \"gothic\", \"many\"], \"Freq\": [10.0, 3.0, 2.0, 4.0, 2.0, 1.0, 3.0, 2.0, 2.0, 3.0, 2.0, 1.0, 1.0, 1.0, 2.0, 3.0, 1.0, 1.0, 2.0, 2.0, 4.0, 2.0, 2.0, 2.0, 9.0, 1.0, 1.0, 1.0, 2.0, 3.0, 1.6490074396133423, 1.6488170623779297, 1.648395299911499, 1.648300051689148, 1.6482962369918823, 1.6478666067123413, 1.6478608846664429, 1.6477775573730469, 1.6475603580474854, 1.6474579572677612, 1.6474064588546753, 1.64705228805542, 3.845698356628418, 2.382572889328003, 0.9161016345024109, 0.9161006808280945, 0.9161005020141602, 0.9160992503166199, 0.9160988330841064, 0.916098415851593, 0.9160983562469482, 0.9160981178283691, 0.9160966277122498, 0.9160960912704468, 0.9160958528518677, 0.9160947203636169, 0.9160935878753662, 0.9160935282707214, 0.9160927534103394, 0.9160922169685364, 11.187948226928711, 2.3810439109802246, 1.649098515510559, 1.6486506462097168, 1.6475145816802979, 1.649004578590393, 1.6508352756500244, 1.6490788459777832, 1.6469954252243042, 3.863173246383667, 3.8549141883850098, 1.6483596563339233, 1.6504682302474976, 2.38661527633667, 3.1327691078186035, 1.651206612586975, 1.6533408164978027, 1.6509599685668945, 2.5938947200775146, 1.3737505674362183, 1.3716983795166016, 0.7644743919372559, 0.7644743919372559, 0.7644715905189514, 0.7644689679145813, 0.7644680738449097, 0.7644650936126709, 0.7642725110054016, 0.7642326951026917, 0.7641416192054749, 0.7641116976737976, 0.7626595497131348, 0.7626104354858398, 0.7625740170478821, 0.76228266954422, 0.7622766494750977, 0.7624499797821045, 0.7624044418334961, 0.7623485922813416, 0.7623195648193359, 0.7620792388916016, 0.7623113393783569, 0.7622702717781067, 0.7622946500778198, 0.7622736692428589, 0.7622371912002563, 0.7622103691101074, 0.7622030973434448, 1.375362515449524, 1.3739652633666992, 1.3717323541641235, 1.372145175933838, 1.9796723127365112, 3.2062525749206543, 1.372007966041565, 4.421739101409912, 1.3714818954467773, 1.3718796968460083, 1.3728888034820557, 1.978756070137024, 1.3748894929885864, 1.3728623390197754, 0.7644532322883606, 0.7644525766372681, 0.7644490003585815, 0.764284074306488, 0.7642331719398499, 1.3228589296340942, 1.3229529857635498, 1.3223439455032349, 0.7360711097717285, 0.7360694408416748, 0.7360669374465942, 0.7351958751678467, 0.7350613474845886, 0.7350294589996338, 0.7349967360496521, 0.7349815368652344, 0.7349774241447449, 0.7349609136581421, 0.7349548935890198, 0.7348787188529968, 0.7350801825523376, 0.7350447773933411, 0.7349808812141418, 0.7348813414573669, 0.7348734736442566, 0.7348045110702515, 0.7345403432846069, 0.7344195246696472, 0.7334756851196289, 0.733452558517456, 0.7334471940994263, 0.733416736125946, 0.7333481907844543, 0.7333300113677979, 0.7332860827445984, 1.3211973905563354, 4.850116729736328, 1.3218348026275635, 1.3220820426940918, 1.3210972547531128, 1.3195916414260864, 1.9101725816726685, 3.0807883739471436, 1.3240114450454712, 3.0935070514678955, 1.9146666526794434, 1.3248934745788574, 0.7376313805580139, 0.7375317811965942, 0.7368200421333313, 0.7365748882293701, 0.7363710403442383, 0.7362511157989502, 0.7361971139907837, 0.736085832118988, 0.735917329788208, 0.7356780171394348, 0.7352622151374817, 0.7351980805397034, 1.1828136444091797, 1.7078481912612915, 0.6580151915550232, 0.658009946346283, 0.6580086946487427, 0.6580074429512024, 0.6576665043830872, 0.6575729250907898, 0.6575661301612854, 0.6575360894203186, 0.6575322151184082, 0.6575011014938354, 0.6574751734733582, 0.657450258731842, 0.6574407815933228, 0.6574262380599976, 0.6573804616928101, 0.6573697328567505, 0.6573736071586609, 0.6573452353477478, 0.6573450565338135, 0.6571947932243347, 0.6571755409240723, 0.6571325659751892, 0.6570221185684204, 0.6567525863647461, 0.6568782329559326, 0.6568393111228943, 0.6566706299781799, 0.6567749381065369, 1.184398889541626, 1.183545470237732, 1.1839760541915894, 1.1842446327209473, 1.182287335395813, 1.7121589183807373, 1.1859896183013916, 0.661539614200592, 0.6600959300994873, 0.6591016054153442, 0.6588302254676819, 0.6584513783454895, 0.6584294438362122, 0.6575873494148254, 0.6574294567108154], \"Total\": [10.0, 3.0, 2.0, 4.0, 2.0, 1.0, 3.0, 2.0, 2.0, 3.0, 2.0, 1.0, 1.0, 1.0, 2.0, 3.0, 1.0, 1.0, 2.0, 2.0, 4.0, 2.0, 2.0, 2.0, 9.0, 1.0, 1.0, 1.0, 2.0, 3.0, 2.0807762145996094, 2.080742597579956, 2.0806570053100586, 2.0806381702423096, 2.080636501312256, 2.0805554389953613, 2.080559730529785, 2.0804901123046875, 2.0804386138916016, 2.0804731845855713, 2.0804622173309326, 2.0803937911987305, 4.867921352386475, 3.3403594493865967, 1.3478550910949707, 1.347854733467102, 1.3478548526763916, 1.3478543758392334, 1.3478543758392334, 1.3478543758392334, 1.3478543758392334, 1.3478542566299438, 1.3478541374206543, 1.3478537797927856, 1.347853660583496, 1.347853183746338, 1.347853183746338, 1.3478533029556274, 1.3478528261184692, 1.3478525876998901, 20.415353775024414, 3.866419792175293, 2.607313871383667, 2.6074817180633545, 2.606783866882324, 2.669558048248291, 2.6926395893096924, 2.692298412322998, 2.6919667720794678, 9.502813339233398, 9.632124900817871, 3.195910692214966, 3.281527280807495, 6.268685340881348, 10.095519065856934, 3.723024845123291, 3.831307888031006, 3.89312481880188, 3.061659097671509, 1.838466763496399, 1.838685393333435, 1.226561427116394, 1.2265615463256836, 1.2265621423721313, 1.2265617847442627, 1.2265616655349731, 1.226561427116394, 1.2266021966934204, 1.2266098260879517, 1.2266278266906738, 1.2266318798065186, 1.2267574071884155, 1.2267619371414185, 1.2268024682998657, 1.2264796495437622, 1.2264795303344727, 1.2268187999725342, 1.2268279790878296, 1.2268123626708984, 1.2268128395080566, 1.2264721393585205, 1.2268460988998413, 1.2267955541610718, 1.2268459796905518, 1.226814866065979, 1.226830005645752, 1.2268599271774292, 1.226851463317871, 2.364835500717163, 2.4271786212921143, 2.42787766456604, 2.571533679962158, 4.744020938873291, 9.632124900817871, 2.8919882774353027, 20.415353775024414, 3.543226718902588, 3.831307888031006, 3.89312481880188, 10.095519065856934, 6.268685340881348, 9.502813339233398, 1.9592530727386475, 1.9594452381134033, 1.9594528675079346, 2.6919667720794678, 3.281527280807495, 1.7925232648849487, 1.792912483215332, 1.7933937311172485, 1.2038495540618896, 1.2038493156433105, 1.2038499116897583, 1.2037532329559326, 1.2037396430969238, 1.2037358283996582, 1.2037321329116821, 1.2037310600280762, 1.2037303447723389, 1.2037286758422852, 1.2037278413772583, 1.2037198543548584, 1.2040966749191284, 1.2041051387786865, 1.2041211128234863, 1.2041454315185547, 1.2041476964950562, 1.2041640281677246, 1.2042287588119507, 1.2042579650878906, 1.204101324081421, 1.2040748596191406, 1.204129934310913, 1.2041997909545898, 1.2040983438491821, 1.2041558027267456, 1.2041805982589722, 2.319291114807129, 10.095519065856934, 2.4048848152160645, 2.526344060897827, 2.525879383087158, 2.526144027709961, 4.744020938873291, 9.502813339233398, 3.543226718902588, 20.415353775024414, 9.632124900817871, 6.268685340881348, 3.89312481880188, 1.9363815784454346, 4.867921352386475, 1.93661367893219, 2.5484962463378906, 1.7305712699890137, 3.195910692214966, 1.9367400407791138, 1.936781644821167, 2.42787766456604, 1.8160823583602905, 3.281527280807495, 1.6684762239456177, 2.927885055541992, 1.1413975954055786, 1.141398310661316, 1.1413989067077637, 1.141399621963501, 1.1415328979492188, 1.1415694952011108, 1.1415736675262451, 1.1415570974349976, 1.141556978225708, 1.1415983438491821, 1.1415793895721436, 1.141593098640442, 1.1415966749191284, 1.1416021585464478, 1.1416138410568237, 1.1416140794754028, 1.1416248083114624, 1.141625165939331, 1.1416257619857788, 1.141688585281372, 1.1416864395141602, 1.1416997909545898, 1.141740322113037, 1.1415879726409912, 1.1418451070785522, 1.1418607234954834, 1.1416033506393433, 1.14188551902771, 2.4007091522216797, 2.8919882774353027, 3.723024845123291, 3.866419792175293, 6.268685340881348, 20.415353775024414, 9.502813339233398, 4.744020938873291, 2.319291114807129, 2.606783866882324, 3.543226718902588, 1.7303760051727295, 3.195910692214966, 1.7534918785095215, 1.8744852542877197], \"Category\": [\"Default\", \"Default\", \"Default\", \"Default\", \"Default\", \"Default\", \"Default\", \"Default\", \"Default\", \"Default\", \"Default\", \"Default\", \"Default\", \"Default\", \"Default\", \"Default\", \"Default\", \"Default\", \"Default\", \"Default\", \"Default\", \"Default\", \"Default\", \"Default\", \"Default\", \"Default\", \"Default\", \"Default\", \"Default\", \"Default\", \"Topic1\", \"Topic1\", \"Topic1\", \"Topic1\", \"Topic1\", \"Topic1\", \"Topic1\", \"Topic1\", \"Topic1\", \"Topic1\", \"Topic1\", \"Topic1\", \"Topic1\", \"Topic1\", \"Topic1\", \"Topic1\", \"Topic1\", \"Topic1\", \"Topic1\", \"Topic1\", \"Topic1\", \"Topic1\", \"Topic1\", \"Topic1\", \"Topic1\", \"Topic1\", \"Topic1\", \"Topic1\", \"Topic1\", \"Topic1\", \"Topic1\", \"Topic1\", \"Topic1\", \"Topic1\", \"Topic1\", \"Topic1\", \"Topic1\", \"Topic1\", \"Topic1\", \"Topic1\", \"Topic1\", \"Topic1\", \"Topic1\", \"Topic1\", \"Topic1\", \"Topic1\", \"Topic1\", \"Topic1\", \"Topic2\", \"Topic2\", \"Topic2\", \"Topic2\", \"Topic2\", \"Topic2\", \"Topic2\", \"Topic2\", \"Topic2\", \"Topic2\", \"Topic2\", \"Topic2\", \"Topic2\", \"Topic2\", \"Topic2\", \"Topic2\", \"Topic2\", \"Topic2\", \"Topic2\", \"Topic2\", \"Topic2\", \"Topic2\", \"Topic2\", \"Topic2\", \"Topic2\", \"Topic2\", \"Topic2\", \"Topic2\", \"Topic2\", \"Topic2\", \"Topic2\", \"Topic2\", \"Topic2\", \"Topic2\", \"Topic2\", \"Topic2\", \"Topic2\", \"Topic2\", \"Topic2\", \"Topic2\", \"Topic2\", \"Topic2\", \"Topic2\", \"Topic2\", \"Topic2\", \"Topic2\", \"Topic2\", \"Topic2\", \"Topic2\", \"Topic3\", \"Topic3\", \"Topic3\", \"Topic3\", \"Topic3\", \"Topic3\", \"Topic3\", \"Topic3\", \"Topic3\", \"Topic3\", \"Topic3\", \"Topic3\", \"Topic3\", \"Topic3\", \"Topic3\", \"Topic3\", \"Topic3\", \"Topic3\", \"Topic3\", \"Topic3\", \"Topic3\", \"Topic3\", \"Topic3\", \"Topic3\", \"Topic3\", \"Topic3\", \"Topic3\", \"Topic3\", \"Topic3\", \"Topic3\", \"Topic3\", \"Topic3\", \"Topic3\", \"Topic3\", \"Topic3\", \"Topic3\", \"Topic3\", \"Topic3\", \"Topic3\", \"Topic3\", \"Topic3\", \"Topic3\", \"Topic3\", \"Topic3\", \"Topic3\", \"Topic3\", \"Topic3\", \"Topic3\", \"Topic3\", \"Topic3\", \"Topic3\", \"Topic3\", \"Topic3\", \"Topic3\", \"Topic4\", \"Topic4\", \"Topic4\", \"Topic4\", \"Topic4\", \"Topic4\", \"Topic4\", \"Topic4\", \"Topic4\", \"Topic4\", \"Topic4\", \"Topic4\", \"Topic4\", \"Topic4\", \"Topic4\", \"Topic4\", \"Topic4\", \"Topic4\", \"Topic4\", \"Topic4\", \"Topic4\", \"Topic4\", \"Topic4\", \"Topic4\", \"Topic4\", \"Topic4\", \"Topic4\", \"Topic4\", \"Topic4\", \"Topic4\", \"Topic4\", \"Topic4\", \"Topic4\", \"Topic4\", \"Topic4\", \"Topic4\", \"Topic4\", \"Topic4\", \"Topic4\", \"Topic4\", \"Topic4\", \"Topic4\", \"Topic4\", \"Topic4\", \"Topic4\"], \"logprob\": [30.0, 29.0, 28.0, 27.0, 26.0, 25.0, 24.0, 23.0, 22.0, 21.0, 20.0, 19.0, 18.0, 17.0, 16.0, 15.0, 14.0, 13.0, 12.0, 11.0, 10.0, 9.0, 8.0, 7.0, 6.0, 5.0, 4.0, 3.0, 2.0, 1.0, -4.810800075531006, -4.8109002113342285, -4.811100006103516, -4.811200141906738, -4.811200141906738, -4.811500072479248, -4.811500072479248, -4.811500072479248, -4.811699867248535, -4.811699867248535, -4.811699867248535, -4.811999797821045, -3.9639999866485596, -4.442800045013428, -5.398600101470947, -5.398600101470947, -5.398600101470947, -5.398600101470947, -5.398600101470947, -5.398600101470947, -5.398600101470947, -5.398600101470947, -5.398600101470947, -5.398600101470947, -5.398600101470947, -5.398600101470947, -5.398600101470947, -5.398600101470947, -5.398600101470947, -5.398600101470947, -2.8961000442504883, -4.443399906158447, -4.810699939727783, -4.810999870300293, -4.811699867248535, -4.810800075531006, -4.809700012207031, -4.810699939727783, -4.811999797821045, -3.9595000743865967, -3.9616000652313232, -4.811200141906738, -4.809899806976318, -4.441100120544434, -4.169000148773193, -4.8094000816345215, -4.808199882507324, -4.809599876403809, -3.784600019454956, -4.420199871063232, -4.4217000007629395, -5.00629997253418, -5.00629997253418, -5.00629997253418, -5.00629997253418, -5.00629997253418, -5.00629997253418, -5.0065999031066895, -5.0065999031066895, -5.006800174713135, -5.006800174713135, -5.008699893951416, -5.008800029754639, -5.008800029754639, -5.009200096130371, -5.009200096130371, -5.008999824523926, -5.008999824523926, -5.009099960327148, -5.009099960327148, -5.009500026702881, -5.009200096130371, -5.009200096130371, -5.009200096130371, -5.009200096130371, -5.009200096130371, -5.009300231933594, -5.009300231933594, -4.419000148773193, -4.420100212097168, -4.4217000007629395, -4.42140007019043, -4.054800033569336, -3.5725998878479004, -4.421500205993652, -3.251199960708618, -4.421899795532227, -4.421599864959717, -4.42080020904541, -4.055300235748291, -4.419400215148926, -4.420899868011475, -5.00629997253418, -5.00629997253418, -5.006400108337402, -5.0065999031066895, -5.0065999031066895, -4.366600036621094, -4.366499900817871, -4.367000102996826, -4.9527997970581055, -4.9527997970581055, -4.9527997970581055, -4.953999996185303, -4.95419979095459, -4.95419979095459, -4.9542999267578125, -4.9542999267578125, -4.9542999267578125, -4.9542999267578125, -4.9542999267578125, -4.954400062561035, -4.95419979095459, -4.95419979095459, -4.9542999267578125, -4.954400062561035, -4.954400062561035, -4.954500198364258, -4.954899787902832, -4.955100059509277, -4.956299781799316, -4.956399917602539, -4.956399917602539, -4.956399917602539, -4.956500053405762, -4.956500053405762, -4.956600189208984, -4.367800235748291, -3.0673999786376953, -4.367400169372559, -4.367199897766113, -4.3678998947143555, -4.369100093841553, -3.9992001056671143, -3.521199941635132, -4.365699768066406, -3.5171000957489014, -3.996799945831299, -4.365099906921387, -4.950699806213379, -4.950799942016602, -4.9517998695373535, -4.952099800109863, -4.952400207519531, -4.952600002288818, -4.952600002288818, -4.9527997970581055, -4.953000068664551, -4.9532999992370605, -4.95389986038208, -4.953999996185303, -4.227499961853027, -3.860100030899048, -4.813899993896484, -4.813899993896484, -4.813899993896484, -4.813899993896484, -4.8144001960754395, -4.814599990844727, -4.814599990844727, -4.814599990844727, -4.814599990844727, -4.814700126647949, -4.814700126647949, -4.814700126647949, -4.814799785614014, -4.814799785614014, -4.814799785614014, -4.814899921417236, -4.814899921417236, -4.814899921417236, -4.814899921417236, -4.815100193023682, -4.815199851989746, -4.815199851989746, -4.815400123596191, -4.815800189971924, -4.8155999183654785, -4.815700054168701, -4.815899848937988, -4.815800189971924, -4.226099967956543, -4.226799964904785, -4.226500034332275, -4.226200103759766, -4.22790002822876, -3.857599973678589, -4.224800109863281, -4.808499813079834, -4.810699939727783, -4.81220006942749, -4.812600135803223, -4.813199996948242, -4.813199996948242, -4.814499855041504, -4.814799785614014], \"loglift\": [30.0, 29.0, 28.0, 27.0, 26.0, 25.0, 24.0, 23.0, 22.0, 21.0, 20.0, 19.0, 18.0, 17.0, 16.0, 15.0, 14.0, 13.0, 12.0, 11.0, 10.0, 9.0, 8.0, 7.0, 6.0, 5.0, 4.0, 3.0, 2.0, 1.0, 0.6751000285148621, 0.675000011920929, 0.6747999787330627, 0.6747000217437744, 0.6747000217437744, 0.6744999885559082, 0.6744999885559082, 0.6744999885559082, 0.6743999719619751, 0.6743000149726868, 0.6743000149726868, 0.6740999817848206, 0.6718999743461609, 0.5698000192642212, 0.5214999914169312, 0.5214999914169312, 0.5214999914169312, 0.5214999914169312, 0.5214999914169312, 0.5214999914169312, 0.5214999914169312, 0.5214999914169312, 0.5214999914169312, 0.5214999914169312, 0.5214999914169312, 0.5214999914169312, 0.5214999914169312, 0.5214999914169312, 0.5214999914169312, 0.5214999914169312, 0.3061999976634979, 0.42289999127388, 0.4496000111103058, 0.44920000433921814, 0.4487999975681305, 0.42590001225471497, 0.41839998960494995, 0.41749998927116394, 0.4162999987602234, 0.007600000128149986, -0.008100000210106373, 0.24560000002384186, 0.22040000557899475, -0.057999998331069946, -0.26249998807907104, 0.09459999948740005, 0.06719999760389328, 0.049800001084804535, 1.3150999546051025, 1.1894999742507935, 1.1878000497817993, 1.0081000328063965, 1.0081000328063965, 1.0081000328063965, 1.0081000328063965, 1.0081000328063965, 1.0081000328063965, 1.0077999830245972, 1.007699966430664, 1.007599949836731, 1.0075000524520874, 1.0054999589920044, 1.0054999589920044, 1.0053999423980713, 1.0053000450134277, 1.0053000450134277, 1.0052000284194946, 1.0051000118255615, 1.0051000118255615, 1.0049999952316284, 1.0049999952316284, 1.0049999952316284, 1.0049999952316284, 1.0049999952316284, 1.0049999952316284, 1.0048999786376953, 1.0048999786376953, 1.0048999786376953, 0.9388999938964844, 0.9118000268936157, 0.9099000096321106, 0.8526999950408936, 0.6068999767303467, 0.3808000087738037, 0.7351999878883362, -0.048900000751018524, 0.5317000150680542, 0.4537999927997589, 0.43860000371932983, -0.14880000054836273, -0.03629999980330467, -0.4537999927997589, 0.5396999716758728, 0.5396000146865845, 0.5396000146865845, 0.22179999947547913, 0.02370000071823597, 1.268399953842163, 1.2682000398635864, 1.2675000429153442, 1.080299973487854, 1.080299973487854, 1.080299973487854, 1.079200029373169, 1.0789999961853027, 1.0788999795913696, 1.0788999795913696, 1.0788999795913696, 1.0788999795913696, 1.0788999795913696, 1.0787999629974365, 1.0787999629974365, 1.0786999464035034, 1.0786999464035034, 1.0786000490188599, 1.0784000158309937, 1.0784000158309937, 1.0782999992370605, 1.0779000520706177, 1.0777000188827515, 1.0765000581741333, 1.0765000581741333, 1.0765000581741333, 1.0764000415802002, 1.0764000415802002, 1.076300024986267, 1.076200008392334, 1.0095000267028809, 0.8391000032424927, 0.9736999869346619, 0.9247000217437744, 0.9240999817848206, 0.9228000044822693, 0.6625000238418579, 0.4458000063896179, 0.5878000259399414, -0.3147999942302704, -0.043299999088048935, 0.017999999225139618, -0.09130000323057175, 0.6069999933242798, -0.3158999979496002, 0.6054999828338623, 0.33070001006126404, 0.7175999879837036, 0.10409999638795853, 0.6047999858856201, 0.6046000123023987, 0.3781999945640564, 0.6679999828338623, 0.0763000026345253, 1.479200005531311, 1.2841999530792236, 1.2725000381469727, 1.2725000381469727, 1.2725000381469727, 1.2725000381469727, 1.2718000411987305, 1.2716000080108643, 1.2716000080108643, 1.2716000080108643, 1.2716000080108643, 1.2714999914169312, 1.2714999914169312, 1.271399974822998, 1.271399974822998, 1.271399974822998, 1.271299958229065, 1.271299958229065, 1.271299958229065, 1.2711999416351318, 1.2711999416351318, 1.2710000276565552, 1.270900011062622, 1.270900011062622, 1.2706999778747559, 1.270400047302246, 1.270300030708313, 1.270300030708313, 1.2702000141143799, 1.2702000141143799, 1.1167000532150269, 0.9297999739646912, 0.6776000261306763, 0.6399999856948853, 0.1551000028848648, -0.6553000211715698, -0.25780001282691956, -0.1467999964952469, 0.5666000247001648, 0.44830000400543213, 0.14090000092983246, 0.8569999933242798, 0.2434999942779541, 0.8424999713897705, 0.7754999995231628]}, \"token.table\": {\"Topic\": [4, 1, 2, 1, 3, 3, 3, 3, 2, 3, 4, 2, 4, 2, 3, 1, 3, 1, 2, 3, 4, 3, 2, 4, 1, 3, 2, 3, 4, 4, 1, 2, 4, 3, 2, 2, 2, 3, 2, 4, 2, 3, 1, 2, 3, 4, 2, 4, 2, 4, 1, 3, 4, 1, 2, 3, 1, 3, 3, 1, 2, 3, 2, 1, 2, 1, 2, 1, 2, 4, 1, 2, 3, 3, 1, 3, 2, 3, 1, 1, 2, 2, 1, 3, 4, 1, 4, 1, 4, 2, 4, 2, 2, 1, 2, 1, 4, 3, 1, 1, 2, 3, 4, 2, 2, 3, 1, 2, 3, 1, 3, 3, 4, 3, 4, 1, 2, 4, 1, 1, 4, 1, 3, 4, 1, 4, 4, 1, 1, 4, 1, 1, 2, 4, 1, 3, 1, 1, 2, 3, 4, 4, 3, 1, 2, 1, 4, 4, 4, 4, 4, 1, 2, 3, 2, 3, 1, 4, 4, 1, 2, 4, 4, 1, 4, 4, 2, 1, 3, 4, 2, 1, 3, 2, 1, 3, 4, 3, 4, 1, 3, 1, 1, 3, 2, 3, 3, 3, 3, 2, 3, 1, 3, 1, 2, 2, 1, 4, 1, 2, 1, 2, 3, 2, 4, 3, 3, 4, 3, 4, 1, 1, 1, 2, 3, 4, 2, 3, 4, 1, 2, 1, 3, 1, 4, 1, 2, 3], \"Freq\": [0.8759437799453735, 0.7419199347496033, 0.8151540756225586, 0.3958602547645569, 0.3958602547645569, 0.8307496309280396, 0.830668568611145, 0.830481231212616, 0.8151102066040039, 0.43116623163223267, 0.43116623163223267, 0.42286238074302673, 0.42286238074302673, 0.8152602314949036, 0.8304269909858704, 0.9613197445869446, 0.8307580947875977, 0.4209279716014862, 0.10523199290037155, 0.31569597125053406, 0.10523199290037155, 0.8303868770599365, 0.815098226070404, 0.8759618997573853, 0.5163204669952393, 0.5163204669952393, 0.28222861886024475, 0.28222861886024475, 0.28222861886024475, 0.8757445216178894, 0.9612348675727844, 0.815287172794342, 0.8759837746620178, 0.5577517151832581, 0.815120279788971, 0.8152872323989868, 0.550635814666748, 0.550635814666748, 0.8151571154594421, 0.8761178851127625, 0.8152873516082764, 0.8304644823074341, 0.538810133934021, 0.19593097269535065, 0.1469482183456421, 0.09796548634767532, 0.3457828760147095, 0.3457828760147095, 0.8151189088821411, 0.8759965896606445, 0.39590170979499817, 0.39590170979499817, 0.875895619392395, 0.741920530796051, 0.4118823707103729, 0.4118823707103729, 0.5163315534591675, 0.5163315534591675, 0.8307508230209351, 0.9612435102462769, 0.5439314842224121, 0.8307503461837769, 0.8150981664657593, 0.5103485584259033, 0.5103485584259033, 0.741919994354248, 0.8151317238807678, 0.7419202327728271, 0.8153467178344727, 0.875952959060669, 0.7427656054496765, 0.37138280272483826, 0.8306683301925659, 0.5578728318214417, 0.5164271593093872, 0.5164271593093872, 0.8151088356971741, 0.8304969668388367, 0.7419196367263794, 0.7428597211837769, 0.3714298605918884, 0.8151205778121948, 0.9611952900886536, 0.8304070234298706, 0.8760150671005249, 0.5987379550933838, 0.2993689775466919, 0.7419207692146301, 0.8757755160331726, 0.5702906250953674, 0.5702906250953674, 0.8153417110443115, 0.8152873516082764, 0.9613564610481262, 0.8152871131896973, 0.416543573141098, 0.416543573141098, 0.8304629325866699, 0.9612442851066589, 0.2971615493297577, 0.19810768961906433, 0.495269238948822, 0.875996470451355, 0.5438668131828308, 0.41200098395347595, 0.41200098395347595, 0.7419205904006958, 0.8151271343231201, 0.8304751515388489, 0.7419200539588928, 0.8305131196975708, 0.8304516673088074, 0.8758559226989746, 0.8306687474250793, 0.8761173486709595, 0.5220149755477905, 0.26100748777389526, 0.26100748777389526, 0.9612798094749451, 0.7670729756355286, 0.3835364878177643, 0.6257997155189514, 0.3128998577594757, 0.3128998577594757, 0.5334798097610474, 0.5334798097610474, 0.8759661316871643, 0.961179792881012, 0.7419199347496033, 0.875897228717804, 0.9613248109817505, 0.38887298107147217, 0.38887298107147217, 0.8757635354995728, 0.7419199347496033, 0.8307520151138306, 0.7419195175170898, 0.31904616951942444, 0.15952308475971222, 0.15952308475971222, 0.15952308475971222, 0.8759527802467346, 0.8307350277900696, 0.510346531867981, 0.510346531867981, 0.3415434658527374, 0.6830869317054749, 0.8759444952011108, 0.8759793639183044, 0.8759728074073792, 0.8758869767189026, 0.6094723343849182, 0.3047361671924591, 0.3047361671924591, 0.8153417706489563, 0.830457329750061, 0.5172743797302246, 0.2586371898651123, 0.8759648203849792, 0.9613357186317444, 0.815116286277771, 0.8761183619499207, 0.8761188983917236, 0.9612817764282227, 0.8759869933128357, 0.875968873500824, 0.8152868747711182, 0.7419205904006958, 0.5779090523719788, 0.5779090523719788, 0.8150889873504639, 0.5163652300834656, 0.5163652300834656, 0.8152431845664978, 0.5371975898742676, 0.2685987949371338, 0.2685987949371338, 0.557602047920227, 0.8759610056877136, 0.39582890272140503, 0.39582890272140503, 0.7419208884239197, 0.749187707901001, 0.3745938539505005, 0.9798609018325806, 0.8307444453239441, 0.8307525515556335, 0.8307470679283142, 0.8304948806762695, 0.41582033038139343, 0.41582033038139343, 0.7419196963310242, 0.8304980993270874, 0.7419199347496033, 0.8152405023574829, 0.8150945901870728, 0.7670236229896545, 0.38351181149482727, 0.5103985667228699, 0.5103985667228699, 0.392388254404068, 0.392388254404068, 0.392388254404068, 0.8152551651000977, 0.8759442567825317, 0.8304402232170105, 0.8304922580718994, 0.5993492603302002, 0.5778438448905945, 0.5778438448905945, 0.961311936378479, 0.7419202923774719, 0.41527700424194336, 0.3114577531814575, 0.20763850212097168, 0.10381925106048584, 0.42158329486846924, 0.42158329486846924, 0.21079164743423462, 0.7429512143135071, 0.37147560715675354, 0.8217059373855591, 0.20542648434638977, 0.767228901386261, 0.3836144506931305, 0.5137261152267456, 0.2568630576133728, 0.2568630576133728], \"Term\": [\"addition\", \"aesthetic\", \"afternoon\", \"allow\", \"allow\", \"almost\", \"amaze\", \"amazing\", \"architectural\", \"architecture\", \"architecture\", \"area\", \"area\", \"arrangement\", \"art\", \"ask\", \"aspect\", \"beautiful\", \"beautiful\", \"beautiful\", \"beautiful\", \"beauty\", \"big\", \"bit\", \"bring\", \"bring\", \"build\", \"build\", \"build\", \"building\", \"byzantine\", \"byzantium\", \"careful\", \"carve\", \"carved\", \"center\", \"century\", \"century\", \"certainly\", \"chance\", \"charming\", \"child\", \"church\", \"church\", \"church\", \"church\", \"city\", \"city\", \"clearly\", \"course\", \"cover\", \"cover\", \"cycle\", \"dark\", \"date\", \"date\", \"day\", \"day\", \"decorate\", \"detail\", \"different\", \"dome\", \"door\", \"downtown\", \"downtown\", \"due\", \"early\", \"easily\", \"easy\", \"era\", \"especially\", \"especially\", \"ever\", \"example\", \"experience\", \"experience\", \"external\", \"extremely\", \"eye\", \"find\", \"find\", \"follow\", \"get\", \"gild\", \"glad\", \"go\", \"go\", \"gold\", \"goldplate\", \"gothic\", \"gothic\", \"great\", \"greek\", \"guest\", \"historic\", \"history\", \"history\", \"hold\", \"hour\", \"icon\", \"icon\", \"icon\", \"idiosyncratic\", \"important\", \"interesting\", \"interesting\", \"interior\", \"internal\", \"item\", \"keep\", \"lady\", \"later\", \"layout\", \"level\", \"life\", \"locate\", \"locate\", \"locate\", \"location\", \"look\", \"look\", \"make\", \"make\", \"make\", \"many\", \"many\", \"masonry\", \"mean\", \"miss\", \"mix\", \"modern\", \"morning\", \"morning\", \"mostly\", \"nation\", \"nave\", \"number\", \"old\", \"old\", \"old\", \"old\", \"originally\", \"ornately\", \"orthodox\", \"orthodox\", \"outside\", \"outside\", \"palimpsest\", \"parish\", \"part\", \"past\", \"peaceful\", \"peaceful\", \"peaceful\", \"period\", \"photo\", \"place\", \"place\", \"possibly\", \"priest\", \"quarter\", \"rare\", \"read\", \"recommend\", \"reconstruction\", \"refurbishment\", \"remind\", \"respect\", \"rich\", \"rich\", \"romanesque\", \"seat\", \"seat\", \"seating\", \"see\", \"see\", \"see\", \"set\", \"shortly\", \"show\", \"show\", \"sign\", \"silver\", \"silver\", \"small\", \"smoothed\", \"special\", \"square\", \"stand\", \"stone\", \"stone\", \"stop\", \"surround\", \"term\", \"theater\", \"time\", \"tour\", \"tour\", \"tourist\", \"tourist\", \"town\", \"town\", \"town\", \"typical\", \"underwent\", \"unique\", \"unusual\", \"use\", \"various\", \"various\", \"view\", \"village\", \"visit\", \"visit\", \"visit\", \"visit\", \"wall\", \"wall\", \"wall\", \"way\", \"way\", \"wedding\", \"wedding\", \"wonderful\", \"wonderful\", \"worth\", \"worth\", \"worth\"]}, \"R\": 30, \"lambda.step\": 0.01, \"plot.opts\": {\"xlab\": \"PC1\", \"ylab\": \"PC2\"}, \"topic.order\": [3, 1, 4, 2]};\n",
       "\n",
       "function LDAvis_load_lib(url, callback){\n",
       "  var s = document.createElement('script');\n",
       "  s.src = url;\n",
       "  s.async = true;\n",
       "  s.onreadystatechange = s.onload = callback;\n",
       "  s.onerror = function(){console.warn(\"failed to load library \" + url);};\n",
       "  document.getElementsByTagName(\"head\")[0].appendChild(s);\n",
       "}\n",
       "\n",
       "if(typeof(LDAvis) !== \"undefined\"){\n",
       "   // already loaded: just create the visualization\n",
       "   !function(LDAvis){\n",
       "       new LDAvis(\"#\" + \"ldavis_el718817224920046802679808293\", ldavis_el718817224920046802679808293_data);\n",
       "   }(LDAvis);\n",
       "}else if(typeof define === \"function\" && define.amd){\n",
       "   // require.js is available: use it to load d3/LDAvis\n",
       "   require.config({paths: {d3: \"https://cdnjs.cloudflare.com/ajax/libs/d3/3.5.5/d3.min\"}});\n",
       "   require([\"d3\"], function(d3){\n",
       "      window.d3 = d3;\n",
       "      LDAvis_load_lib(\"https://cdn.rawgit.com/bmabey/pyLDAvis/files/ldavis.v1.0.0.js\", function(){\n",
       "        new LDAvis(\"#\" + \"ldavis_el718817224920046802679808293\", ldavis_el718817224920046802679808293_data);\n",
       "      });\n",
       "    });\n",
       "}else{\n",
       "    // require.js not available: dynamically load d3 & LDAvis\n",
       "    LDAvis_load_lib(\"https://cdnjs.cloudflare.com/ajax/libs/d3/3.5.5/d3.min.js\", function(){\n",
       "         LDAvis_load_lib(\"https://cdn.rawgit.com/bmabey/pyLDAvis/files/ldavis.v1.0.0.js\", function(){\n",
       "                 new LDAvis(\"#\" + \"ldavis_el718817224920046802679808293\", ldavis_el718817224920046802679808293_data);\n",
       "            })\n",
       "         });\n",
       "}\n",
       "</script>"
      ],
      "text/plain": [
       "PreparedData(topic_coordinates=              x         y  topics  cluster       Freq\n",
       "topic                                                \n",
       "2      0.088082  0.053949       1        1  40.347076\n",
       "0      0.043581 -0.096767       2        1  22.744455\n",
       "3     -0.083061 -0.051276       3        1  20.758430\n",
       "1     -0.048602  0.094094       4        1  16.150036, topic_info=        Term       Freq      Total Category  logprob  loglift\n",
       "27      icon  10.000000  10.000000  Default  30.0000  30.0000\n",
       "137    small   3.000000   3.000000  Default  29.0000  29.0000\n",
       "43   outside   2.000000   2.000000  Default  28.0000  28.0000\n",
       "66      wall   4.000000   4.000000  Default  27.0000  27.0000\n",
       "39      city   2.000000   2.000000  Default  26.0000  26.0000\n",
       "..       ...        ...        ...      ...      ...      ...\n",
       "51     build   0.658830   3.543227   Topic4  -4.8126   0.1409\n",
       "60      rich   0.658451   1.730376   Topic4  -4.8132   0.8570\n",
       "57      make   0.658429   3.195911   Topic4  -4.8132   0.2435\n",
       "188   gothic   0.657587   1.753492   Topic4  -4.8145   0.8425\n",
       "36      many   0.657429   1.874485   Topic4  -4.8148   0.7755\n",
       "\n",
       "[226 rows x 6 columns], token_table=      Topic      Freq       Term\n",
       "term                            \n",
       "183       4  0.875944   addition\n",
       "6         1  0.741920  aesthetic\n",
       "252       2  0.815154  afternoon\n",
       "111       1  0.395860      allow\n",
       "111       3  0.395860      allow\n",
       "...     ...       ...        ...\n",
       "247       1  0.767229  wonderful\n",
       "247       4  0.383614  wonderful\n",
       "141       1  0.513726      worth\n",
       "141       2  0.256863      worth\n",
       "141       3  0.256863      worth\n",
       "\n",
       "[228 rows x 3 columns], R=30, lambda_step=0.01, plot_opts={'xlab': 'PC1', 'ylab': 'PC2'}, topic_order=[3, 1, 4, 2])"
      ]
     },
     "metadata": {},
     "output_type": "display_data"
    }
   ],
   "source": [
    "plot_model(lda_pos_custom, plot ='topic_model')"
   ]
  },
  {
   "cell_type": "code",
   "execution_count": 17,
   "metadata": {},
   "outputs": [
    {
     "data": {
      "application/vnd.jupyter.widget-view+json": {
       "model_id": "",
       "version_major": 2,
       "version_minor": 0
      },
      "text/plain": [
       "IntProgress(value=0, description='Processing: ', max=25)"
      ]
     },
     "metadata": {},
     "output_type": "display_data"
    },
    {
     "data": {
      "application/vnd.jupyter.widget-view+json": {
       "model_id": "edd3b769dab4477a843342b3028a0fe7",
       "version_major": 2,
       "version_minor": 0
      },
      "text/plain": [
       "Output()"
      ]
     },
     "metadata": {},
     "output_type": "display_data"
    },
    {
     "data": {
      "text/html": [
       "        <script type=\"text/javascript\">\n",
       "        window.PlotlyConfig = {MathJaxConfig: 'local'};\n",
       "        if (window.MathJax) {MathJax.Hub.Config({SVG: {font: \"STIX-Web\"}});}\n",
       "        if (typeof require !== 'undefined') {\n",
       "        require.undef(\"plotly\");\n",
       "        requirejs.config({\n",
       "            paths: {\n",
       "                'plotly': ['https://cdn.plot.ly/plotly-latest.min']\n",
       "            }\n",
       "        });\n",
       "        require(['plotly'], function(Plotly) {\n",
       "            window._Plotly = Plotly;\n",
       "        });\n",
       "        }\n",
       "        </script>\n",
       "        "
      ]
     },
     "metadata": {},
     "output_type": "display_data"
    },
    {
     "data": {
      "application/vnd.plotly.v1+json": {
       "config": {
        "plotlyServerURL": "https://plot.ly"
       },
       "data": [
        {
         "hovertemplate": "Metric=Coherence<br># Topics=%{x}<br>Score=%{y}<extra></extra>",
         "legendgroup": "Coherence",
         "line": {
          "color": "#636efa",
          "dash": "solid",
          "shape": "linear"
         },
         "mode": "lines",
         "name": "Coherence",
         "orientation": "v",
         "showlegend": true,
         "type": "scatter",
         "x": [
          2,
          4,
          8,
          16,
          32,
          64,
          100,
          200,
          300,
          400
         ],
         "xaxis": "x",
         "y": [
          0.3025601330990905,
          0.3536392700622247,
          0.44018388366127403,
          0.4045408632845807,
          0.5715122018659935,
          0.5003646625865736,
          0.5178438163601363,
          0.5059059456953088,
          0.5050208084772049,
          0.49768365713214296
         ],
         "yaxis": "y"
        }
       ],
       "layout": {
        "legend": {
         "title": {
          "text": "Metric"
         },
         "tracegroupgap": 0
        },
        "plot_bgcolor": "rgb(245,245,245)",
        "template": {
         "data": {
          "bar": [
           {
            "error_x": {
             "color": "#2a3f5f"
            },
            "error_y": {
             "color": "#2a3f5f"
            },
            "marker": {
             "line": {
              "color": "#E5ECF6",
              "width": 0.5
             }
            },
            "type": "bar"
           }
          ],
          "barpolar": [
           {
            "marker": {
             "line": {
              "color": "#E5ECF6",
              "width": 0.5
             }
            },
            "type": "barpolar"
           }
          ],
          "carpet": [
           {
            "aaxis": {
             "endlinecolor": "#2a3f5f",
             "gridcolor": "white",
             "linecolor": "white",
             "minorgridcolor": "white",
             "startlinecolor": "#2a3f5f"
            },
            "baxis": {
             "endlinecolor": "#2a3f5f",
             "gridcolor": "white",
             "linecolor": "white",
             "minorgridcolor": "white",
             "startlinecolor": "#2a3f5f"
            },
            "type": "carpet"
           }
          ],
          "choropleth": [
           {
            "colorbar": {
             "outlinewidth": 0,
             "ticks": ""
            },
            "type": "choropleth"
           }
          ],
          "contour": [
           {
            "colorbar": {
             "outlinewidth": 0,
             "ticks": ""
            },
            "colorscale": [
             [
              0,
              "#0d0887"
             ],
             [
              0.1111111111111111,
              "#46039f"
             ],
             [
              0.2222222222222222,
              "#7201a8"
             ],
             [
              0.3333333333333333,
              "#9c179e"
             ],
             [
              0.4444444444444444,
              "#bd3786"
             ],
             [
              0.5555555555555556,
              "#d8576b"
             ],
             [
              0.6666666666666666,
              "#ed7953"
             ],
             [
              0.7777777777777778,
              "#fb9f3a"
             ],
             [
              0.8888888888888888,
              "#fdca26"
             ],
             [
              1,
              "#f0f921"
             ]
            ],
            "type": "contour"
           }
          ],
          "contourcarpet": [
           {
            "colorbar": {
             "outlinewidth": 0,
             "ticks": ""
            },
            "type": "contourcarpet"
           }
          ],
          "heatmap": [
           {
            "colorbar": {
             "outlinewidth": 0,
             "ticks": ""
            },
            "colorscale": [
             [
              0,
              "#0d0887"
             ],
             [
              0.1111111111111111,
              "#46039f"
             ],
             [
              0.2222222222222222,
              "#7201a8"
             ],
             [
              0.3333333333333333,
              "#9c179e"
             ],
             [
              0.4444444444444444,
              "#bd3786"
             ],
             [
              0.5555555555555556,
              "#d8576b"
             ],
             [
              0.6666666666666666,
              "#ed7953"
             ],
             [
              0.7777777777777778,
              "#fb9f3a"
             ],
             [
              0.8888888888888888,
              "#fdca26"
             ],
             [
              1,
              "#f0f921"
             ]
            ],
            "type": "heatmap"
           }
          ],
          "heatmapgl": [
           {
            "colorbar": {
             "outlinewidth": 0,
             "ticks": ""
            },
            "colorscale": [
             [
              0,
              "#0d0887"
             ],
             [
              0.1111111111111111,
              "#46039f"
             ],
             [
              0.2222222222222222,
              "#7201a8"
             ],
             [
              0.3333333333333333,
              "#9c179e"
             ],
             [
              0.4444444444444444,
              "#bd3786"
             ],
             [
              0.5555555555555556,
              "#d8576b"
             ],
             [
              0.6666666666666666,
              "#ed7953"
             ],
             [
              0.7777777777777778,
              "#fb9f3a"
             ],
             [
              0.8888888888888888,
              "#fdca26"
             ],
             [
              1,
              "#f0f921"
             ]
            ],
            "type": "heatmapgl"
           }
          ],
          "histogram": [
           {
            "marker": {
             "colorbar": {
              "outlinewidth": 0,
              "ticks": ""
             }
            },
            "type": "histogram"
           }
          ],
          "histogram2d": [
           {
            "colorbar": {
             "outlinewidth": 0,
             "ticks": ""
            },
            "colorscale": [
             [
              0,
              "#0d0887"
             ],
             [
              0.1111111111111111,
              "#46039f"
             ],
             [
              0.2222222222222222,
              "#7201a8"
             ],
             [
              0.3333333333333333,
              "#9c179e"
             ],
             [
              0.4444444444444444,
              "#bd3786"
             ],
             [
              0.5555555555555556,
              "#d8576b"
             ],
             [
              0.6666666666666666,
              "#ed7953"
             ],
             [
              0.7777777777777778,
              "#fb9f3a"
             ],
             [
              0.8888888888888888,
              "#fdca26"
             ],
             [
              1,
              "#f0f921"
             ]
            ],
            "type": "histogram2d"
           }
          ],
          "histogram2dcontour": [
           {
            "colorbar": {
             "outlinewidth": 0,
             "ticks": ""
            },
            "colorscale": [
             [
              0,
              "#0d0887"
             ],
             [
              0.1111111111111111,
              "#46039f"
             ],
             [
              0.2222222222222222,
              "#7201a8"
             ],
             [
              0.3333333333333333,
              "#9c179e"
             ],
             [
              0.4444444444444444,
              "#bd3786"
             ],
             [
              0.5555555555555556,
              "#d8576b"
             ],
             [
              0.6666666666666666,
              "#ed7953"
             ],
             [
              0.7777777777777778,
              "#fb9f3a"
             ],
             [
              0.8888888888888888,
              "#fdca26"
             ],
             [
              1,
              "#f0f921"
             ]
            ],
            "type": "histogram2dcontour"
           }
          ],
          "mesh3d": [
           {
            "colorbar": {
             "outlinewidth": 0,
             "ticks": ""
            },
            "type": "mesh3d"
           }
          ],
          "parcoords": [
           {
            "line": {
             "colorbar": {
              "outlinewidth": 0,
              "ticks": ""
             }
            },
            "type": "parcoords"
           }
          ],
          "pie": [
           {
            "automargin": true,
            "type": "pie"
           }
          ],
          "scatter": [
           {
            "marker": {
             "colorbar": {
              "outlinewidth": 0,
              "ticks": ""
             }
            },
            "type": "scatter"
           }
          ],
          "scatter3d": [
           {
            "line": {
             "colorbar": {
              "outlinewidth": 0,
              "ticks": ""
             }
            },
            "marker": {
             "colorbar": {
              "outlinewidth": 0,
              "ticks": ""
             }
            },
            "type": "scatter3d"
           }
          ],
          "scattercarpet": [
           {
            "marker": {
             "colorbar": {
              "outlinewidth": 0,
              "ticks": ""
             }
            },
            "type": "scattercarpet"
           }
          ],
          "scattergeo": [
           {
            "marker": {
             "colorbar": {
              "outlinewidth": 0,
              "ticks": ""
             }
            },
            "type": "scattergeo"
           }
          ],
          "scattergl": [
           {
            "marker": {
             "colorbar": {
              "outlinewidth": 0,
              "ticks": ""
             }
            },
            "type": "scattergl"
           }
          ],
          "scattermapbox": [
           {
            "marker": {
             "colorbar": {
              "outlinewidth": 0,
              "ticks": ""
             }
            },
            "type": "scattermapbox"
           }
          ],
          "scatterpolar": [
           {
            "marker": {
             "colorbar": {
              "outlinewidth": 0,
              "ticks": ""
             }
            },
            "type": "scatterpolar"
           }
          ],
          "scatterpolargl": [
           {
            "marker": {
             "colorbar": {
              "outlinewidth": 0,
              "ticks": ""
             }
            },
            "type": "scatterpolargl"
           }
          ],
          "scatterternary": [
           {
            "marker": {
             "colorbar": {
              "outlinewidth": 0,
              "ticks": ""
             }
            },
            "type": "scatterternary"
           }
          ],
          "surface": [
           {
            "colorbar": {
             "outlinewidth": 0,
             "ticks": ""
            },
            "colorscale": [
             [
              0,
              "#0d0887"
             ],
             [
              0.1111111111111111,
              "#46039f"
             ],
             [
              0.2222222222222222,
              "#7201a8"
             ],
             [
              0.3333333333333333,
              "#9c179e"
             ],
             [
              0.4444444444444444,
              "#bd3786"
             ],
             [
              0.5555555555555556,
              "#d8576b"
             ],
             [
              0.6666666666666666,
              "#ed7953"
             ],
             [
              0.7777777777777778,
              "#fb9f3a"
             ],
             [
              0.8888888888888888,
              "#fdca26"
             ],
             [
              1,
              "#f0f921"
             ]
            ],
            "type": "surface"
           }
          ],
          "table": [
           {
            "cells": {
             "fill": {
              "color": "#EBF0F8"
             },
             "line": {
              "color": "white"
             }
            },
            "header": {
             "fill": {
              "color": "#C8D4E3"
             },
             "line": {
              "color": "white"
             }
            },
            "type": "table"
           }
          ]
         },
         "layout": {
          "annotationdefaults": {
           "arrowcolor": "#2a3f5f",
           "arrowhead": 0,
           "arrowwidth": 1
          },
          "coloraxis": {
           "colorbar": {
            "outlinewidth": 0,
            "ticks": ""
           }
          },
          "colorscale": {
           "diverging": [
            [
             0,
             "#8e0152"
            ],
            [
             0.1,
             "#c51b7d"
            ],
            [
             0.2,
             "#de77ae"
            ],
            [
             0.3,
             "#f1b6da"
            ],
            [
             0.4,
             "#fde0ef"
            ],
            [
             0.5,
             "#f7f7f7"
            ],
            [
             0.6,
             "#e6f5d0"
            ],
            [
             0.7,
             "#b8e186"
            ],
            [
             0.8,
             "#7fbc41"
            ],
            [
             0.9,
             "#4d9221"
            ],
            [
             1,
             "#276419"
            ]
           ],
           "sequential": [
            [
             0,
             "#0d0887"
            ],
            [
             0.1111111111111111,
             "#46039f"
            ],
            [
             0.2222222222222222,
             "#7201a8"
            ],
            [
             0.3333333333333333,
             "#9c179e"
            ],
            [
             0.4444444444444444,
             "#bd3786"
            ],
            [
             0.5555555555555556,
             "#d8576b"
            ],
            [
             0.6666666666666666,
             "#ed7953"
            ],
            [
             0.7777777777777778,
             "#fb9f3a"
            ],
            [
             0.8888888888888888,
             "#fdca26"
            ],
            [
             1,
             "#f0f921"
            ]
           ],
           "sequentialminus": [
            [
             0,
             "#0d0887"
            ],
            [
             0.1111111111111111,
             "#46039f"
            ],
            [
             0.2222222222222222,
             "#7201a8"
            ],
            [
             0.3333333333333333,
             "#9c179e"
            ],
            [
             0.4444444444444444,
             "#bd3786"
            ],
            [
             0.5555555555555556,
             "#d8576b"
            ],
            [
             0.6666666666666666,
             "#ed7953"
            ],
            [
             0.7777777777777778,
             "#fb9f3a"
            ],
            [
             0.8888888888888888,
             "#fdca26"
            ],
            [
             1,
             "#f0f921"
            ]
           ]
          },
          "colorway": [
           "#636efa",
           "#EF553B",
           "#00cc96",
           "#ab63fa",
           "#FFA15A",
           "#19d3f3",
           "#FF6692",
           "#B6E880",
           "#FF97FF",
           "#FECB52"
          ],
          "font": {
           "color": "#2a3f5f"
          },
          "geo": {
           "bgcolor": "white",
           "lakecolor": "white",
           "landcolor": "#E5ECF6",
           "showlakes": true,
           "showland": true,
           "subunitcolor": "white"
          },
          "hoverlabel": {
           "align": "left"
          },
          "hovermode": "closest",
          "mapbox": {
           "style": "light"
          },
          "paper_bgcolor": "white",
          "plot_bgcolor": "#E5ECF6",
          "polar": {
           "angularaxis": {
            "gridcolor": "white",
            "linecolor": "white",
            "ticks": ""
           },
           "bgcolor": "#E5ECF6",
           "radialaxis": {
            "gridcolor": "white",
            "linecolor": "white",
            "ticks": ""
           }
          },
          "scene": {
           "xaxis": {
            "backgroundcolor": "#E5ECF6",
            "gridcolor": "white",
            "gridwidth": 2,
            "linecolor": "white",
            "showbackground": true,
            "ticks": "",
            "zerolinecolor": "white"
           },
           "yaxis": {
            "backgroundcolor": "#E5ECF6",
            "gridcolor": "white",
            "gridwidth": 2,
            "linecolor": "white",
            "showbackground": true,
            "ticks": "",
            "zerolinecolor": "white"
           },
           "zaxis": {
            "backgroundcolor": "#E5ECF6",
            "gridcolor": "white",
            "gridwidth": 2,
            "linecolor": "white",
            "showbackground": true,
            "ticks": "",
            "zerolinecolor": "white"
           }
          },
          "shapedefaults": {
           "line": {
            "color": "#2a3f5f"
           }
          },
          "ternary": {
           "aaxis": {
            "gridcolor": "white",
            "linecolor": "white",
            "ticks": ""
           },
           "baxis": {
            "gridcolor": "white",
            "linecolor": "white",
            "ticks": ""
           },
           "bgcolor": "#E5ECF6",
           "caxis": {
            "gridcolor": "white",
            "linecolor": "white",
            "ticks": ""
           }
          },
          "title": {
           "x": 0.05
          },
          "xaxis": {
           "automargin": true,
           "gridcolor": "white",
           "linecolor": "white",
           "ticks": "",
           "title": {
            "standoff": 15
           },
           "zerolinecolor": "white",
           "zerolinewidth": 2
          },
          "yaxis": {
           "automargin": true,
           "gridcolor": "white",
           "linecolor": "white",
           "ticks": "",
           "title": {
            "standoff": 15
           },
           "zerolinecolor": "white",
           "zerolinewidth": 2
          }
         }
        },
        "title": {
         "text": "Coherence Value and # of Topics"
        },
        "xaxis": {
         "anchor": "y",
         "domain": [
          0,
          1
         ],
         "title": {
          "text": "# Topics"
         }
        },
        "yaxis": {
         "anchor": "x",
         "domain": [
          0,
          1
         ],
         "title": {
          "text": "Score"
         }
        }
       }
      },
      "text/html": [
       "<div>\n",
       "        \n",
       "        \n",
       "            <div id=\"6fb9acd3-940a-4519-ab64-4d2d77fd09ce\" class=\"plotly-graph-div\" style=\"height:525px; width:100%;\"></div>\n",
       "            <script type=\"text/javascript\">\n",
       "                require([\"plotly\"], function(Plotly) {\n",
       "                    window.PLOTLYENV=window.PLOTLYENV || {};\n",
       "                    \n",
       "                if (document.getElementById(\"6fb9acd3-940a-4519-ab64-4d2d77fd09ce\")) {\n",
       "                    Plotly.newPlot(\n",
       "                        '6fb9acd3-940a-4519-ab64-4d2d77fd09ce',\n",
       "                        [{\"hovertemplate\": \"Metric=Coherence<br># Topics=%{x}<br>Score=%{y}<extra></extra>\", \"legendgroup\": \"Coherence\", \"line\": {\"color\": \"#636efa\", \"dash\": \"solid\", \"shape\": \"linear\"}, \"mode\": \"lines\", \"name\": \"Coherence\", \"orientation\": \"v\", \"showlegend\": true, \"type\": \"scatter\", \"x\": [2, 4, 8, 16, 32, 64, 100, 200, 300, 400], \"xaxis\": \"x\", \"y\": [0.3025601330990905, 0.3536392700622247, 0.44018388366127403, 0.4045408632845807, 0.5715122018659935, 0.5003646625865736, 0.5178438163601363, 0.5059059456953088, 0.5050208084772049, 0.49768365713214296], \"yaxis\": \"y\"}],\n",
       "                        {\"legend\": {\"title\": {\"text\": \"Metric\"}, \"tracegroupgap\": 0}, \"plot_bgcolor\": \"rgb(245,245,245)\", \"template\": {\"data\": {\"bar\": [{\"error_x\": {\"color\": \"#2a3f5f\"}, \"error_y\": {\"color\": \"#2a3f5f\"}, \"marker\": {\"line\": {\"color\": \"#E5ECF6\", \"width\": 0.5}}, \"type\": \"bar\"}], \"barpolar\": [{\"marker\": {\"line\": {\"color\": \"#E5ECF6\", \"width\": 0.5}}, \"type\": \"barpolar\"}], \"carpet\": [{\"aaxis\": {\"endlinecolor\": \"#2a3f5f\", \"gridcolor\": \"white\", \"linecolor\": \"white\", \"minorgridcolor\": \"white\", \"startlinecolor\": \"#2a3f5f\"}, \"baxis\": {\"endlinecolor\": \"#2a3f5f\", \"gridcolor\": \"white\", \"linecolor\": \"white\", \"minorgridcolor\": \"white\", \"startlinecolor\": \"#2a3f5f\"}, \"type\": \"carpet\"}], \"choropleth\": [{\"colorbar\": {\"outlinewidth\": 0, \"ticks\": \"\"}, \"type\": \"choropleth\"}], \"contour\": [{\"colorbar\": {\"outlinewidth\": 0, \"ticks\": \"\"}, \"colorscale\": [[0.0, \"#0d0887\"], [0.1111111111111111, \"#46039f\"], [0.2222222222222222, \"#7201a8\"], [0.3333333333333333, \"#9c179e\"], [0.4444444444444444, \"#bd3786\"], [0.5555555555555556, \"#d8576b\"], [0.6666666666666666, \"#ed7953\"], [0.7777777777777778, \"#fb9f3a\"], [0.8888888888888888, \"#fdca26\"], [1.0, \"#f0f921\"]], \"type\": \"contour\"}], \"contourcarpet\": [{\"colorbar\": {\"outlinewidth\": 0, \"ticks\": \"\"}, \"type\": \"contourcarpet\"}], \"heatmap\": [{\"colorbar\": {\"outlinewidth\": 0, \"ticks\": \"\"}, \"colorscale\": [[0.0, \"#0d0887\"], [0.1111111111111111, \"#46039f\"], [0.2222222222222222, \"#7201a8\"], [0.3333333333333333, \"#9c179e\"], [0.4444444444444444, \"#bd3786\"], [0.5555555555555556, \"#d8576b\"], [0.6666666666666666, \"#ed7953\"], [0.7777777777777778, \"#fb9f3a\"], [0.8888888888888888, \"#fdca26\"], [1.0, \"#f0f921\"]], \"type\": \"heatmap\"}], \"heatmapgl\": [{\"colorbar\": {\"outlinewidth\": 0, \"ticks\": \"\"}, \"colorscale\": [[0.0, \"#0d0887\"], [0.1111111111111111, \"#46039f\"], [0.2222222222222222, \"#7201a8\"], [0.3333333333333333, \"#9c179e\"], [0.4444444444444444, \"#bd3786\"], [0.5555555555555556, \"#d8576b\"], [0.6666666666666666, \"#ed7953\"], [0.7777777777777778, \"#fb9f3a\"], [0.8888888888888888, \"#fdca26\"], [1.0, \"#f0f921\"]], \"type\": \"heatmapgl\"}], \"histogram\": [{\"marker\": {\"colorbar\": {\"outlinewidth\": 0, \"ticks\": \"\"}}, \"type\": \"histogram\"}], \"histogram2d\": [{\"colorbar\": {\"outlinewidth\": 0, \"ticks\": \"\"}, \"colorscale\": [[0.0, \"#0d0887\"], [0.1111111111111111, \"#46039f\"], [0.2222222222222222, \"#7201a8\"], [0.3333333333333333, \"#9c179e\"], [0.4444444444444444, \"#bd3786\"], [0.5555555555555556, \"#d8576b\"], [0.6666666666666666, \"#ed7953\"], [0.7777777777777778, \"#fb9f3a\"], [0.8888888888888888, \"#fdca26\"], [1.0, \"#f0f921\"]], \"type\": \"histogram2d\"}], \"histogram2dcontour\": [{\"colorbar\": {\"outlinewidth\": 0, \"ticks\": \"\"}, \"colorscale\": [[0.0, \"#0d0887\"], [0.1111111111111111, \"#46039f\"], [0.2222222222222222, \"#7201a8\"], [0.3333333333333333, \"#9c179e\"], [0.4444444444444444, \"#bd3786\"], [0.5555555555555556, \"#d8576b\"], [0.6666666666666666, \"#ed7953\"], [0.7777777777777778, \"#fb9f3a\"], [0.8888888888888888, \"#fdca26\"], [1.0, \"#f0f921\"]], \"type\": \"histogram2dcontour\"}], \"mesh3d\": [{\"colorbar\": {\"outlinewidth\": 0, \"ticks\": \"\"}, \"type\": \"mesh3d\"}], \"parcoords\": [{\"line\": {\"colorbar\": {\"outlinewidth\": 0, \"ticks\": \"\"}}, \"type\": \"parcoords\"}], \"pie\": [{\"automargin\": true, \"type\": \"pie\"}], \"scatter\": [{\"marker\": {\"colorbar\": {\"outlinewidth\": 0, \"ticks\": \"\"}}, \"type\": \"scatter\"}], \"scatter3d\": [{\"line\": {\"colorbar\": {\"outlinewidth\": 0, \"ticks\": \"\"}}, \"marker\": {\"colorbar\": {\"outlinewidth\": 0, \"ticks\": \"\"}}, \"type\": \"scatter3d\"}], \"scattercarpet\": [{\"marker\": {\"colorbar\": {\"outlinewidth\": 0, \"ticks\": \"\"}}, \"type\": \"scattercarpet\"}], \"scattergeo\": [{\"marker\": {\"colorbar\": {\"outlinewidth\": 0, \"ticks\": \"\"}}, \"type\": \"scattergeo\"}], \"scattergl\": [{\"marker\": {\"colorbar\": {\"outlinewidth\": 0, \"ticks\": \"\"}}, \"type\": \"scattergl\"}], \"scattermapbox\": [{\"marker\": {\"colorbar\": {\"outlinewidth\": 0, \"ticks\": \"\"}}, \"type\": \"scattermapbox\"}], \"scatterpolar\": [{\"marker\": {\"colorbar\": {\"outlinewidth\": 0, \"ticks\": \"\"}}, \"type\": \"scatterpolar\"}], \"scatterpolargl\": [{\"marker\": {\"colorbar\": {\"outlinewidth\": 0, \"ticks\": \"\"}}, \"type\": \"scatterpolargl\"}], \"scatterternary\": [{\"marker\": {\"colorbar\": {\"outlinewidth\": 0, \"ticks\": \"\"}}, \"type\": \"scatterternary\"}], \"surface\": [{\"colorbar\": {\"outlinewidth\": 0, \"ticks\": \"\"}, \"colorscale\": [[0.0, \"#0d0887\"], [0.1111111111111111, \"#46039f\"], [0.2222222222222222, \"#7201a8\"], [0.3333333333333333, \"#9c179e\"], [0.4444444444444444, \"#bd3786\"], [0.5555555555555556, \"#d8576b\"], [0.6666666666666666, \"#ed7953\"], [0.7777777777777778, \"#fb9f3a\"], [0.8888888888888888, \"#fdca26\"], [1.0, \"#f0f921\"]], \"type\": \"surface\"}], \"table\": [{\"cells\": {\"fill\": {\"color\": \"#EBF0F8\"}, \"line\": {\"color\": \"white\"}}, \"header\": {\"fill\": {\"color\": \"#C8D4E3\"}, \"line\": {\"color\": \"white\"}}, \"type\": \"table\"}]}, \"layout\": {\"annotationdefaults\": {\"arrowcolor\": \"#2a3f5f\", \"arrowhead\": 0, \"arrowwidth\": 1}, \"coloraxis\": {\"colorbar\": {\"outlinewidth\": 0, \"ticks\": \"\"}}, \"colorscale\": {\"diverging\": [[0, \"#8e0152\"], [0.1, \"#c51b7d\"], [0.2, \"#de77ae\"], [0.3, \"#f1b6da\"], [0.4, \"#fde0ef\"], [0.5, \"#f7f7f7\"], [0.6, \"#e6f5d0\"], [0.7, \"#b8e186\"], [0.8, \"#7fbc41\"], [0.9, \"#4d9221\"], [1, \"#276419\"]], \"sequential\": [[0.0, \"#0d0887\"], [0.1111111111111111, \"#46039f\"], [0.2222222222222222, \"#7201a8\"], [0.3333333333333333, \"#9c179e\"], [0.4444444444444444, \"#bd3786\"], [0.5555555555555556, \"#d8576b\"], [0.6666666666666666, \"#ed7953\"], [0.7777777777777778, \"#fb9f3a\"], [0.8888888888888888, \"#fdca26\"], [1.0, \"#f0f921\"]], \"sequentialminus\": [[0.0, \"#0d0887\"], [0.1111111111111111, \"#46039f\"], [0.2222222222222222, \"#7201a8\"], [0.3333333333333333, \"#9c179e\"], [0.4444444444444444, \"#bd3786\"], [0.5555555555555556, \"#d8576b\"], [0.6666666666666666, \"#ed7953\"], [0.7777777777777778, \"#fb9f3a\"], [0.8888888888888888, \"#fdca26\"], [1.0, \"#f0f921\"]]}, \"colorway\": [\"#636efa\", \"#EF553B\", \"#00cc96\", \"#ab63fa\", \"#FFA15A\", \"#19d3f3\", \"#FF6692\", \"#B6E880\", \"#FF97FF\", \"#FECB52\"], \"font\": {\"color\": \"#2a3f5f\"}, \"geo\": {\"bgcolor\": \"white\", \"lakecolor\": \"white\", \"landcolor\": \"#E5ECF6\", \"showlakes\": true, \"showland\": true, \"subunitcolor\": \"white\"}, \"hoverlabel\": {\"align\": \"left\"}, \"hovermode\": \"closest\", \"mapbox\": {\"style\": \"light\"}, \"paper_bgcolor\": \"white\", \"plot_bgcolor\": \"#E5ECF6\", \"polar\": {\"angularaxis\": {\"gridcolor\": \"white\", \"linecolor\": \"white\", \"ticks\": \"\"}, \"bgcolor\": \"#E5ECF6\", \"radialaxis\": {\"gridcolor\": \"white\", \"linecolor\": \"white\", \"ticks\": \"\"}}, \"scene\": {\"xaxis\": {\"backgroundcolor\": \"#E5ECF6\", \"gridcolor\": \"white\", \"gridwidth\": 2, \"linecolor\": \"white\", \"showbackground\": true, \"ticks\": \"\", \"zerolinecolor\": \"white\"}, \"yaxis\": {\"backgroundcolor\": \"#E5ECF6\", \"gridcolor\": \"white\", \"gridwidth\": 2, \"linecolor\": \"white\", \"showbackground\": true, \"ticks\": \"\", \"zerolinecolor\": \"white\"}, \"zaxis\": {\"backgroundcolor\": \"#E5ECF6\", \"gridcolor\": \"white\", \"gridwidth\": 2, \"linecolor\": \"white\", \"showbackground\": true, \"ticks\": \"\", \"zerolinecolor\": \"white\"}}, \"shapedefaults\": {\"line\": {\"color\": \"#2a3f5f\"}}, \"ternary\": {\"aaxis\": {\"gridcolor\": \"white\", \"linecolor\": \"white\", \"ticks\": \"\"}, \"baxis\": {\"gridcolor\": \"white\", \"linecolor\": \"white\", \"ticks\": \"\"}, \"bgcolor\": \"#E5ECF6\", \"caxis\": {\"gridcolor\": \"white\", \"linecolor\": \"white\", \"ticks\": \"\"}}, \"title\": {\"x\": 0.05}, \"xaxis\": {\"automargin\": true, \"gridcolor\": \"white\", \"linecolor\": \"white\", \"ticks\": \"\", \"title\": {\"standoff\": 15}, \"zerolinecolor\": \"white\", \"zerolinewidth\": 2}, \"yaxis\": {\"automargin\": true, \"gridcolor\": \"white\", \"linecolor\": \"white\", \"ticks\": \"\", \"title\": {\"standoff\": 15}, \"zerolinecolor\": \"white\", \"zerolinewidth\": 2}}}, \"title\": {\"text\": \"Coherence Value and # of Topics\"}, \"xaxis\": {\"anchor\": \"y\", \"domain\": [0.0, 1.0], \"title\": {\"text\": \"# Topics\"}}, \"yaxis\": {\"anchor\": \"x\", \"domain\": [0.0, 1.0], \"title\": {\"text\": \"Score\"}}},\n",
       "                        {\"responsive\": true}\n",
       "                    ).then(function(){\n",
       "                            \n",
       "var gd = document.getElementById('6fb9acd3-940a-4519-ab64-4d2d77fd09ce');\n",
       "var x = new MutationObserver(function (mutations, observer) {{\n",
       "        var display = window.getComputedStyle(gd).display;\n",
       "        if (!display || display === 'none') {{\n",
       "            console.log([gd, 'removed!']);\n",
       "            Plotly.purge(gd);\n",
       "            observer.disconnect();\n",
       "        }}\n",
       "}});\n",
       "\n",
       "// Listen for the removal of the full notebook cells\n",
       "var notebookContainer = gd.closest('#notebook-container');\n",
       "if (notebookContainer) {{\n",
       "    x.observe(notebookContainer, {childList: true});\n",
       "}}\n",
       "\n",
       "// Listen for the clearing of the current output cell\n",
       "var outputEl = gd.closest('.output');\n",
       "if (outputEl) {{\n",
       "    x.observe(outputEl, {childList: true});\n",
       "}}\n",
       "\n",
       "                        })\n",
       "                };\n",
       "                });\n",
       "            </script>\n",
       "        </div>"
      ]
     },
     "metadata": {},
     "output_type": "display_data"
    },
    {
     "name": "stdout",
     "output_type": "stream",
     "text": [
      "Best Model: Latent Dirichlet Allocation | # Topics: 32 | Coherence: 0.5715\n"
     ]
    }
   ],
   "source": [
    "tune_lda_positive = tune_model(model='lda', supervised_target=None, estimator='xgboost')"
   ]
  },
  {
   "cell_type": "markdown",
   "metadata": {},
   "source": [
    "16 topics selected"
   ]
  },
  {
   "cell_type": "markdown",
   "metadata": {},
   "source": [
    "## Negative reviews"
   ]
  },
  {
   "cell_type": "code",
   "execution_count": 22,
   "metadata": {},
   "outputs": [
    {
     "data": {
      "text/html": [
       "<style  type=\"text/css\" >\n",
       "</style><table id=\"T_7e60ce86_3011_11eb_9b3c_c48e8ff9d2e0\" ><thead>    <tr>        <th class=\"col_heading level0 col0\" >Description</th>        <th class=\"col_heading level0 col1\" >Value</th>    </tr></thead><tbody>\n",
       "                <tr>\n",
       "                                <td id=\"T_7e60ce86_3011_11eb_9b3c_c48e8ff9d2e0row0_col0\" class=\"data row0 col0\" >session_id</td>\n",
       "                        <td id=\"T_7e60ce86_3011_11eb_9b3c_c48e8ff9d2e0row0_col1\" class=\"data row0 col1\" >5398</td>\n",
       "            </tr>\n",
       "            <tr>\n",
       "                                <td id=\"T_7e60ce86_3011_11eb_9b3c_c48e8ff9d2e0row1_col0\" class=\"data row1 col0\" >Documents</td>\n",
       "                        <td id=\"T_7e60ce86_3011_11eb_9b3c_c48e8ff9d2e0row1_col1\" class=\"data row1 col1\" >1</td>\n",
       "            </tr>\n",
       "            <tr>\n",
       "                                <td id=\"T_7e60ce86_3011_11eb_9b3c_c48e8ff9d2e0row2_col0\" class=\"data row2 col0\" >Vocab Size</td>\n",
       "                        <td id=\"T_7e60ce86_3011_11eb_9b3c_c48e8ff9d2e0row2_col1\" class=\"data row2 col1\" >14</td>\n",
       "            </tr>\n",
       "            <tr>\n",
       "                                <td id=\"T_7e60ce86_3011_11eb_9b3c_c48e8ff9d2e0row3_col0\" class=\"data row3 col0\" >Custom Stopwords</td>\n",
       "                        <td id=\"T_7e60ce86_3011_11eb_9b3c_c48e8ff9d2e0row3_col1\" class=\"data row3 col1\" >True</td>\n",
       "            </tr>\n",
       "    </tbody></table>"
      ],
      "text/plain": [
       "<pandas.io.formats.style.Styler at 0x1910c74ea48>"
      ]
     },
     "metadata": {},
     "output_type": "display_data"
    }
   ],
   "source": [
    "exp_nlp_neg = setup(data = neg_review_imp, target = 'r_text',\n",
    "                custom_stopwords = [ 'hotel', 'room', 'nice', 'good','restaurant', 'food','bad'])"
   ]
  },
  {
   "cell_type": "code",
   "execution_count": 23,
   "metadata": {},
   "outputs": [
    {
     "name": "stdout",
     "output_type": "stream",
     "text": [
      "LdaModel(num_terms=14, num_topics=4, decay=0.5, chunksize=100)\n"
     ]
    }
   ],
   "source": [
    "#create an LDA model\n",
    "lda_neg_custom = create_model('lda')\n",
    "print(lda_neg_custom)"
   ]
  },
  {
   "cell_type": "code",
   "execution_count": 24,
   "metadata": {},
   "outputs": [
    {
     "data": {
      "text/html": [
       "<div>\n",
       "<style scoped>\n",
       "    .dataframe tbody tr th:only-of-type {\n",
       "        vertical-align: middle;\n",
       "    }\n",
       "\n",
       "    .dataframe tbody tr th {\n",
       "        vertical-align: top;\n",
       "    }\n",
       "\n",
       "    .dataframe thead th {\n",
       "        text-align: right;\n",
       "    }\n",
       "</style>\n",
       "<table border=\"1\" class=\"dataframe\">\n",
       "  <thead>\n",
       "    <tr style=\"text-align: right;\">\n",
       "      <th></th>\n",
       "      <th>Unnamed: 0</th>\n",
       "      <th>r_points</th>\n",
       "      <th>r_text</th>\n",
       "      <th>place</th>\n",
       "      <th>scores</th>\n",
       "      <th>compound</th>\n",
       "      <th>score</th>\n",
       "      <th>Topic_0</th>\n",
       "      <th>Topic_1</th>\n",
       "      <th>Topic_2</th>\n",
       "      <th>Topic_3</th>\n",
       "      <th>Dominant_Topic</th>\n",
       "      <th>Perc_Dominant_Topic</th>\n",
       "    </tr>\n",
       "  </thead>\n",
       "  <tbody>\n",
       "    <tr>\n",
       "      <th>0</th>\n",
       "      <td>4</td>\n",
       "      <td>30</td>\n",
       "      <td>original itiniery visit tell worth look worth ...</td>\n",
       "      <td>Archangel Michael Trypiotis Church</td>\n",
       "      <td>{'neg': 0.139, 'neu': 0.78, 'pos': 0.081, 'com...</td>\n",
       "      <td>-0.5144</td>\n",
       "      <td>neg</td>\n",
       "      <td>0.002179</td>\n",
       "      <td>0.991448</td>\n",
       "      <td>0.003357</td>\n",
       "      <td>0.003016</td>\n",
       "      <td>Topic 1</td>\n",
       "      <td>0.99</td>\n",
       "    </tr>\n",
       "  </tbody>\n",
       "</table>\n",
       "</div>"
      ],
      "text/plain": [
       "   Unnamed: 0  r_points                                             r_text  \\\n",
       "0           4        30  original itiniery visit tell worth look worth ...   \n",
       "\n",
       "                                place  \\\n",
       "0  Archangel Michael Trypiotis Church   \n",
       "\n",
       "                                              scores  compound score  \\\n",
       "0  {'neg': 0.139, 'neu': 0.78, 'pos': 0.081, 'com...   -0.5144   neg   \n",
       "\n",
       "    Topic_0   Topic_1   Topic_2   Topic_3 Dominant_Topic  Perc_Dominant_Topic  \n",
       "0  0.002179  0.991448  0.003357  0.003016        Topic 1                 0.99  "
      ]
     },
     "execution_count": 24,
     "metadata": {},
     "output_type": "execute_result"
    }
   ],
   "source": [
    "apply_lda_neg = assign_model(lda_neg_custom)\n",
    "apply_lda_neg"
   ]
  },
  {
   "cell_type": "code",
   "execution_count": 26,
   "metadata": {},
   "outputs": [
    {
     "data": {
      "text/html": [
       "        <script type=\"text/javascript\">\n",
       "        window.PlotlyConfig = {MathJaxConfig: 'local'};\n",
       "        if (window.MathJax) {MathJax.Hub.Config({SVG: {font: \"STIX-Web\"}});}\n",
       "        if (typeof require !== 'undefined') {\n",
       "        require.undef(\"plotly\");\n",
       "        requirejs.config({\n",
       "            paths: {\n",
       "                'plotly': ['https://cdn.plot.ly/plotly-latest.min']\n",
       "            }\n",
       "        });\n",
       "        require(['plotly'], function(Plotly) {\n",
       "            window._Plotly = Plotly;\n",
       "        });\n",
       "        }\n",
       "        </script>\n",
       "        "
      ]
     },
     "metadata": {},
     "output_type": "display_data"
    },
    {
     "data": {
      "text/html": [
       "\n",
       "<link rel=\"stylesheet\" type=\"text/css\" href=\"https://cdn.rawgit.com/bmabey/pyLDAvis/files/ldavis.v1.0.0.css\">\n",
       "\n",
       "\n",
       "<div id=\"ldavis_el718817225839765207947536673\"></div>\n",
       "<script type=\"text/javascript\">\n",
       "\n",
       "var ldavis_el718817225839765207947536673_data = {\"mdsDat\": {\"x\": [-0.004780024910204286, 0.0015809118636516176, 0.0015993616867007888, 0.001599751359851879], \"y\": [0.00016636179003636254, -4.6625201154467346e-05, -5.566316677869504e-05, -6.407342210320017e-05], \"topics\": [1, 2, 3, 4], \"cluster\": [1, 1, 1, 1], \"Freq\": [99.14476013183594, 0.3357304036617279, 0.30164629220962524, 0.21786752343177795]}, \"tinfo\": {\"Term\": [\"look\", \"worth\", \"nature\", \"keep\", \"comment\", \"unfortunately\", \"exciting\", \"building\", \"interior\", \"visit\", \"original\", \"tell\", \"itiniery\", \"closed\", \"worth\", \"look\", \"nature\", \"keep\", \"comment\", \"unfortunately\", \"exciting\", \"building\", \"interior\", \"visit\", \"original\", \"tell\", \"itiniery\", \"closed\", \"closed\", \"itiniery\", \"tell\", \"original\", \"visit\", \"interior\", \"building\", \"exciting\", \"unfortunately\", \"comment\", \"keep\", \"nature\", \"look\", \"worth\", \"closed\", \"tell\", \"original\", \"itiniery\", \"visit\", \"exciting\", \"building\", \"interior\", \"comment\", \"nature\", \"unfortunately\", \"keep\", \"look\", \"worth\", \"closed\", \"tell\", \"itiniery\", \"original\", \"visit\", \"interior\", \"building\", \"exciting\", \"comment\", \"unfortunately\", \"nature\", \"keep\", \"look\", \"worth\"], \"Freq\": [1.0, 1.0, 1.0, 1.0, 1.0, 1.0, 1.0, 1.0, 1.0, 1.0, 1.0, 1.0, 1.0, 1.0, 1.8303139209747314, 1.8299331665039062, 1.017040729522705, 1.017041802406311, 1.0170079469680786, 1.0170060396194458, 1.016944169998169, 1.0169296264648438, 1.0169039964675903, 1.0168592929840088, 1.0168256759643555, 1.0168168544769287, 1.0168195962905884, 1.0167176723480225, 0.00383814238011837, 0.003836399409919977, 0.0038363549392670393, 0.0038362243212759495, 0.0038358396850526333, 0.003834943287074566, 0.0038343616761267185, 0.003834051312878728, 0.0038331414107233286, 0.0038326384965330362, 0.00383243546821177, 0.003832209389656782, 0.00385321700014174, 0.003846899140626192, 0.0034474448766559362, 0.0034473442938178778, 0.003447369672358036, 0.0034473231062293053, 0.0034471172839403152, 0.0034473782870918512, 0.003447312628850341, 0.00344721763394773, 0.0034474297426640987, 0.003447332652285695, 0.003447128925472498, 0.003447171300649643, 0.003448284463956952, 0.003447545925155282, 0.0024899188429117203, 0.002489941893145442, 0.002489894861355424, 0.0024899006821215153, 0.002489922335371375, 0.002489884849637747, 0.002489883452653885, 0.0024898608680814505, 0.0024899630807340145, 0.002489876700565219, 0.0024899125564843416, 0.00248986785300076, 0.002489991718903184, 0.0024899826385080814], \"Total\": [1.0, 1.0, 1.0, 1.0, 1.0, 1.0, 1.0, 1.0, 1.0, 1.0, 1.0, 1.0, 1.0, 1.0, 1.840098261833191, 1.8397246599197388, 1.0268101692199707, 1.0268113613128662, 1.026777982711792, 1.0267763137817383, 1.0267153978347778, 1.0267012119293213, 1.026676058769226, 1.0266321897506714, 1.0265992879867554, 1.0265904664993286, 1.0265932083129883, 1.0264931917190552, 1.0264931917190552, 1.0265932083129883, 1.0265904664993286, 1.0265992879867554, 1.0266321897506714, 1.026676058769226, 1.0267012119293213, 1.0267153978347778, 1.0267763137817383, 1.026777982711792, 1.0268113613128662, 1.0268101692199707, 1.8397246599197388, 1.840098261833191, 1.0264931917190552, 1.0265904664993286, 1.0265992879867554, 1.0265932083129883, 1.0266321897506714, 1.0267153978347778, 1.0267012119293213, 1.026676058769226, 1.026777982711792, 1.0268101692199707, 1.0267763137817383, 1.0268113613128662, 1.8397246599197388, 1.840098261833191, 1.0264931917190552, 1.0265904664993286, 1.0265932083129883, 1.0265992879867554, 1.0266321897506714, 1.026676058769226, 1.0267012119293213, 1.0267153978347778, 1.026777982711792, 1.0267763137817383, 1.0268101692199707, 1.0268113613128662, 1.8397246599197388, 1.840098261833191], \"Category\": [\"Default\", \"Default\", \"Default\", \"Default\", \"Default\", \"Default\", \"Default\", \"Default\", \"Default\", \"Default\", \"Default\", \"Default\", \"Default\", \"Default\", \"Topic1\", \"Topic1\", \"Topic1\", \"Topic1\", \"Topic1\", \"Topic1\", \"Topic1\", \"Topic1\", \"Topic1\", \"Topic1\", \"Topic1\", \"Topic1\", \"Topic1\", \"Topic1\", \"Topic2\", \"Topic2\", \"Topic2\", \"Topic2\", \"Topic2\", \"Topic2\", \"Topic2\", \"Topic2\", \"Topic2\", \"Topic2\", \"Topic2\", \"Topic2\", \"Topic2\", \"Topic2\", \"Topic3\", \"Topic3\", \"Topic3\", \"Topic3\", \"Topic3\", \"Topic3\", \"Topic3\", \"Topic3\", \"Topic3\", \"Topic3\", \"Topic3\", \"Topic3\", \"Topic3\", \"Topic3\", \"Topic4\", \"Topic4\", \"Topic4\", \"Topic4\", \"Topic4\", \"Topic4\", \"Topic4\", \"Topic4\", \"Topic4\", \"Topic4\", \"Topic4\", \"Topic4\", \"Topic4\", \"Topic4\"], \"logprob\": [14.0, 13.0, 12.0, 11.0, 10.0, 9.0, 8.0, 7.0, 6.0, 5.0, 4.0, 3.0, 2.0, 1.0, -2.1594998836517334, -2.1596999168395996, -2.7471001148223877, -2.7471001148223877, -2.7471001148223877, -2.7471001148223877, -2.7472000122070312, -2.7472000122070312, -2.7472000122070312, -2.747299909591675, -2.747299909591675, -2.747299909591675, -2.747299909591675, -2.7474000453948975, -2.638700008392334, -2.63919997215271, -2.63919997215271, -2.63919997215271, -2.6393001079559326, -2.6396000385284424, -2.639699935913086, -2.6398000717163086, -2.640000104904175, -2.640199899673462, -2.640199899673462, -2.6403000354766846, -2.6347999572753906, -2.6364998817443848, -2.6389999389648438, -2.6391000747680664, -2.6391000747680664, -2.6391000747680664, -2.6391000747680664, -2.6391000747680664, -2.6391000747680664, -2.6391000747680664, -2.6389999389648438, -2.6391000747680664, -2.6391000747680664, -2.6391000747680664, -2.6387999057769775, -2.6389999389648438, -2.6391000747680664, -2.6389999389648438, -2.6391000747680664, -2.6391000747680664, -2.6391000747680664, -2.6391000747680664, -2.6391000747680664, -2.6391000747680664, -2.6389999389648438, -2.6391000747680664, -2.6391000747680664, -2.6391000747680664, -2.6389999389648438, -2.6389999389648438], \"loglift\": [14.0, 13.0, 12.0, 11.0, 10.0, 9.0, 8.0, 7.0, 6.0, 5.0, 4.0, 3.0, 2.0, 1.0, 0.0032999999821186066, 0.0032999999821186066, -0.0010000000474974513, -0.0010000000474974513, -0.0010000000474974513, -0.0010000000474974513, -0.0010000000474974513, -0.0010000000474974513, -0.0010000000474974513, -0.0010000000474974513, -0.0010000000474974513, -0.0010000000474974513, -0.0010000000474974513, -0.0010000000474974513, 0.10769999772310257, 0.10719999670982361, 0.1071000024676323, 0.1071000024676323, 0.10700000077486038, 0.10670000314712524, 0.10649999976158142, 0.10639999806880951, 0.10610000044107437, 0.10599999874830246, 0.10589999705553055, 0.10580000281333923, -0.4717999994754791, -0.47369998693466187, 0.10740000009536743, 0.10729999840259552, 0.10729999840259552, 0.10729999840259552, 0.10719999670982361, 0.10719999670982361, 0.10719999670982361, 0.10719999670982361, 0.1071000024676323, 0.1071000024676323, 0.10700000077486038, 0.10700000077486038, -0.4758000075817108, -0.47620001435279846, 0.10740000009536743, 0.10729999840259552, 0.10729999840259552, 0.10729999840259552, 0.10729999840259552, 0.10719999670982361, 0.10719999670982361, 0.1071000024676323, 0.1071000024676323, 0.1071000024676323, 0.1071000024676323, 0.1071000024676323, -0.47609999775886536, -0.4763000011444092]}, \"token.table\": {\"Topic\": [1, 1, 1, 1, 1, 1, 1, 1, 1, 1, 1, 1, 1, 1], \"Freq\": [0.973993182182312, 0.9741905927658081, 0.9739204049110413, 0.9739797711372375, 0.9740170836448669, 0.9740956425666809, 0.9738886952400208, 1.087119221687317, 0.9738898277282715, 0.9740899205207825, 0.974098265171051, 0.9739219546318054, 0.9740586876869202, 1.0868984460830688], \"Term\": [\"building\", \"closed\", \"comment\", \"exciting\", \"interior\", \"itiniery\", \"keep\", \"look\", \"nature\", \"original\", \"tell\", \"unfortunately\", \"visit\", \"worth\"]}, \"R\": 14, \"lambda.step\": 0.01, \"plot.opts\": {\"xlab\": \"PC1\", \"ylab\": \"PC2\"}, \"topic.order\": [2, 3, 4, 1]};\n",
       "\n",
       "function LDAvis_load_lib(url, callback){\n",
       "  var s = document.createElement('script');\n",
       "  s.src = url;\n",
       "  s.async = true;\n",
       "  s.onreadystatechange = s.onload = callback;\n",
       "  s.onerror = function(){console.warn(\"failed to load library \" + url);};\n",
       "  document.getElementsByTagName(\"head\")[0].appendChild(s);\n",
       "}\n",
       "\n",
       "if(typeof(LDAvis) !== \"undefined\"){\n",
       "   // already loaded: just create the visualization\n",
       "   !function(LDAvis){\n",
       "       new LDAvis(\"#\" + \"ldavis_el718817225839765207947536673\", ldavis_el718817225839765207947536673_data);\n",
       "   }(LDAvis);\n",
       "}else if(typeof define === \"function\" && define.amd){\n",
       "   // require.js is available: use it to load d3/LDAvis\n",
       "   require.config({paths: {d3: \"https://cdnjs.cloudflare.com/ajax/libs/d3/3.5.5/d3.min\"}});\n",
       "   require([\"d3\"], function(d3){\n",
       "      window.d3 = d3;\n",
       "      LDAvis_load_lib(\"https://cdn.rawgit.com/bmabey/pyLDAvis/files/ldavis.v1.0.0.js\", function(){\n",
       "        new LDAvis(\"#\" + \"ldavis_el718817225839765207947536673\", ldavis_el718817225839765207947536673_data);\n",
       "      });\n",
       "    });\n",
       "}else{\n",
       "    // require.js not available: dynamically load d3 & LDAvis\n",
       "    LDAvis_load_lib(\"https://cdnjs.cloudflare.com/ajax/libs/d3/3.5.5/d3.min.js\", function(){\n",
       "         LDAvis_load_lib(\"https://cdn.rawgit.com/bmabey/pyLDAvis/files/ldavis.v1.0.0.js\", function(){\n",
       "                 new LDAvis(\"#\" + \"ldavis_el718817225839765207947536673\", ldavis_el718817225839765207947536673_data);\n",
       "            })\n",
       "         });\n",
       "}\n",
       "</script>"
      ],
      "text/plain": [
       "PreparedData(topic_coordinates=              x         y  topics  cluster       Freq\n",
       "topic                                                \n",
       "1     -0.004780  0.000166       1        1  99.144760\n",
       "2      0.001581 -0.000047       2        1   0.335730\n",
       "3      0.001599 -0.000056       3        1   0.301646\n",
       "0      0.001600 -0.000064       4        1   0.217868, topic_info=             Term     Freq     Total Category  logprob  loglift\n",
       "7            look  1.00000  1.000000  Default  14.0000  14.0000\n",
       "13          worth  1.00000  1.000000  Default  13.0000  13.0000\n",
       "8          nature  1.00000  1.000000  Default  12.0000  12.0000\n",
       "6            keep  1.00000  1.000000  Default  11.0000  11.0000\n",
       "2         comment  1.00000  1.000000  Default  10.0000  10.0000\n",
       "..            ...      ...       ...      ...      ...      ...\n",
       "11  unfortunately  0.00249  1.026776   Topic4  -2.6391   0.1071\n",
       "8          nature  0.00249  1.026810   Topic4  -2.6391   0.1071\n",
       "6            keep  0.00249  1.026811   Topic4  -2.6391   0.1071\n",
       "7            look  0.00249  1.839725   Topic4  -2.6390  -0.4761\n",
       "13          worth  0.00249  1.840098   Topic4  -2.6390  -0.4763\n",
       "\n",
       "[70 rows x 6 columns], token_table=      Topic      Freq           Term\n",
       "term                                \n",
       "0         1  0.973993       building\n",
       "1         1  0.974191         closed\n",
       "2         1  0.973920        comment\n",
       "3         1  0.973980       exciting\n",
       "4         1  0.974017       interior\n",
       "5         1  0.974096       itiniery\n",
       "6         1  0.973889           keep\n",
       "7         1  1.087119           look\n",
       "8         1  0.973890         nature\n",
       "9         1  0.974090       original\n",
       "10        1  0.974098           tell\n",
       "11        1  0.973922  unfortunately\n",
       "12        1  0.974059          visit\n",
       "13        1  1.086898          worth, R=14, lambda_step=0.01, plot_opts={'xlab': 'PC1', 'ylab': 'PC2'}, topic_order=[2, 3, 4, 1])"
      ]
     },
     "metadata": {},
     "output_type": "display_data"
    }
   ],
   "source": [
    "plot_model(lda_neg_custom, plot ='topic_model')"
   ]
  },
  {
   "cell_type": "code",
   "execution_count": null,
   "metadata": {},
   "outputs": [],
   "source": []
  }
 ],
 "metadata": {
  "kernelspec": {
   "display_name": "Python 3",
   "language": "python",
   "name": "python3"
  },
  "language_info": {
   "codemirror_mode": {
    "name": "ipython",
    "version": 3
   },
   "file_extension": ".py",
   "mimetype": "text/x-python",
   "name": "python",
   "nbconvert_exporter": "python",
   "pygments_lexer": "ipython3",
   "version": "3.7.4"
  }
 },
 "nbformat": 4,
 "nbformat_minor": 2
}
