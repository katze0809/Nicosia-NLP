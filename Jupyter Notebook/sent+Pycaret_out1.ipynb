{
 "cells": [
  {
   "cell_type": "code",
   "execution_count": 1,
   "metadata": {},
   "outputs": [],
   "source": [
    "import pandas as pd"
   ]
  },
  {
   "cell_type": "code",
   "execution_count": 2,
   "metadata": {},
   "outputs": [
    {
     "data": {
      "text/html": [
       "<div>\n",
       "<style scoped>\n",
       "    .dataframe tbody tr th:only-of-type {\n",
       "        vertical-align: middle;\n",
       "    }\n",
       "\n",
       "    .dataframe tbody tr th {\n",
       "        vertical-align: top;\n",
       "    }\n",
       "\n",
       "    .dataframe thead th {\n",
       "        text-align: right;\n",
       "    }\n",
       "</style>\n",
       "<table border=\"1\" class=\"dataframe\">\n",
       "  <thead>\n",
       "    <tr style=\"text-align: right;\">\n",
       "      <th></th>\n",
       "      <th>r_points</th>\n",
       "      <th>r_text</th>\n",
       "      <th>place</th>\n",
       "    </tr>\n",
       "  </thead>\n",
       "  <tbody>\n",
       "    <tr>\n",
       "      <th>0</th>\n",
       "      <td>40</td>\n",
       "      <td>Venetian column is located at the main square ...</td>\n",
       "      <td>The Venetian Column</td>\n",
       "    </tr>\n",
       "    <tr>\n",
       "      <th>1</th>\n",
       "      <td>20</td>\n",
       "      <td>It's an old column! And not a great one at tha...</td>\n",
       "      <td>The Venetian Column</td>\n",
       "    </tr>\n",
       "    <tr>\n",
       "      <th>2</th>\n",
       "      <td>40</td>\n",
       "      <td>woooow its really something from old time you ...</td>\n",
       "      <td>The Venetian Column</td>\n",
       "    </tr>\n",
       "    <tr>\n",
       "      <th>3</th>\n",
       "      <td>30</td>\n",
       "      <td>Marked on the free map and near the law courts...</td>\n",
       "      <td>The Venetian Column</td>\n",
       "    </tr>\n",
       "    <tr>\n",
       "      <th>4</th>\n",
       "      <td>30</td>\n",
       "      <td>This column stands in the old town area. It wa...</td>\n",
       "      <td>The Venetian Column</td>\n",
       "    </tr>\n",
       "    <tr>\n",
       "      <th>5</th>\n",
       "      <td>30</td>\n",
       "      <td>Worth having a look at if you cross to the Tur...</td>\n",
       "      <td>The Venetian Column</td>\n",
       "    </tr>\n",
       "    <tr>\n",
       "      <th>6</th>\n",
       "      <td>30</td>\n",
       "      <td>In the centre of Ataturk square is this column...</td>\n",
       "      <td>The Venetian Column</td>\n",
       "    </tr>\n",
       "    <tr>\n",
       "      <th>7</th>\n",
       "      <td>30</td>\n",
       "      <td>Wandered onto this commercial section of Lefko...</td>\n",
       "      <td>The Venetian Column</td>\n",
       "    </tr>\n",
       "    <tr>\n",
       "      <th>8</th>\n",
       "      <td>30</td>\n",
       "      <td>Not much to say about this small column the ce...</td>\n",
       "      <td>The Venetian Column</td>\n",
       "    </tr>\n",
       "    <tr>\n",
       "      <th>9</th>\n",
       "      <td>30</td>\n",
       "      <td>This column only stand around 12ft tall so I d...</td>\n",
       "      <td>The Venetian Column</td>\n",
       "    </tr>\n",
       "    <tr>\n",
       "      <th>10</th>\n",
       "      <td>30</td>\n",
       "      <td>Worth having a look at if you cross to the Tur...</td>\n",
       "      <td>The Venetian Column</td>\n",
       "    </tr>\n",
       "    <tr>\n",
       "      <th>11</th>\n",
       "      <td>30</td>\n",
       "      <td>In the centre of Ataturk square is this column...</td>\n",
       "      <td>The Venetian Column</td>\n",
       "    </tr>\n",
       "    <tr>\n",
       "      <th>12</th>\n",
       "      <td>30</td>\n",
       "      <td>Wandered onto this commercial section of Lefko...</td>\n",
       "      <td>The Venetian Column</td>\n",
       "    </tr>\n",
       "    <tr>\n",
       "      <th>13</th>\n",
       "      <td>30</td>\n",
       "      <td>Not much to say about this small column the ce...</td>\n",
       "      <td>The Venetian Column</td>\n",
       "    </tr>\n",
       "    <tr>\n",
       "      <th>14</th>\n",
       "      <td>30</td>\n",
       "      <td>This column only stand around 12ft tall so I d...</td>\n",
       "      <td>The Venetian Column</td>\n",
       "    </tr>\n",
       "    <tr>\n",
       "      <th>15</th>\n",
       "      <td>30</td>\n",
       "      <td>We saw it from the other side of the road, and...</td>\n",
       "      <td>The Venetian Column</td>\n",
       "    </tr>\n",
       "    <tr>\n",
       "      <th>16</th>\n",
       "      <td>30</td>\n",
       "      <td>The column is situated in the turkish half of ...</td>\n",
       "      <td>The Venetian Column</td>\n",
       "    </tr>\n",
       "    <tr>\n",
       "      <th>17</th>\n",
       "      <td>30</td>\n",
       "      <td>A much overrated monument,it's nothing more th...</td>\n",
       "      <td>The Venetian Column</td>\n",
       "    </tr>\n",
       "    <tr>\n",
       "      <th>18</th>\n",
       "      <td>20</td>\n",
       "      <td>The column marks the middle of Araturk Square ...</td>\n",
       "      <td>The Venetian Column</td>\n",
       "    </tr>\n",
       "    <tr>\n",
       "      <th>19</th>\n",
       "      <td>40</td>\n",
       "      <td>Standing tall and proud in the northern part o...</td>\n",
       "      <td>The Venetian Column</td>\n",
       "    </tr>\n",
       "    <tr>\n",
       "      <th>20</th>\n",
       "      <td>20</td>\n",
       "      <td>Ataturk square is an eyesore. The column does ...</td>\n",
       "      <td>The Venetian Column</td>\n",
       "    </tr>\n",
       "    <tr>\n",
       "      <th>21</th>\n",
       "      <td>20</td>\n",
       "      <td>Well I wouldn't go specifically to see this bu...</td>\n",
       "      <td>The Venetian Column</td>\n",
       "    </tr>\n",
       "    <tr>\n",
       "      <th>22</th>\n",
       "      <td>30</td>\n",
       "      <td>Again this is a nice photo if going past which...</td>\n",
       "      <td>The Venetian Column</td>\n",
       "    </tr>\n",
       "    <tr>\n",
       "      <th>23</th>\n",
       "      <td>30</td>\n",
       "      <td>This column has some great historical signific...</td>\n",
       "      <td>The Venetian Column</td>\n",
       "    </tr>\n",
       "    <tr>\n",
       "      <th>24</th>\n",
       "      <td>50</td>\n",
       "      <td>Very good looking monument, unfortunately is i...</td>\n",
       "      <td>The Venetian Column</td>\n",
       "    </tr>\n",
       "    <tr>\n",
       "      <th>25</th>\n",
       "      <td>50</td>\n",
       "      <td>This monumental Column is at the Greek side of...</td>\n",
       "      <td>The Venetian Column</td>\n",
       "    </tr>\n",
       "    <tr>\n",
       "      <th>26</th>\n",
       "      <td>30</td>\n",
       "      <td>i was 2 twice in Cyprus and only once in Nikos...</td>\n",
       "      <td>The Venetian Column</td>\n",
       "    </tr>\n",
       "    <tr>\n",
       "      <th>27</th>\n",
       "      <td>40</td>\n",
       "      <td>The column was originally brought and raised b...</td>\n",
       "      <td>The Venetian Column</td>\n",
       "    </tr>\n",
       "    <tr>\n",
       "      <th>28</th>\n",
       "      <td>30</td>\n",
       "      <td>The Venetian Column now resides near a main ro...</td>\n",
       "      <td>The Venetian Column</td>\n",
       "    </tr>\n",
       "    <tr>\n",
       "      <th>29</th>\n",
       "      <td>30</td>\n",
       "      <td>The Venetian Column is situated in the Ataturk...</td>\n",
       "      <td>The Venetian Column</td>\n",
       "    </tr>\n",
       "    <tr>\n",
       "      <th>30</th>\n",
       "      <td>40</td>\n",
       "      <td>The granite Venetian column, as it is called, ...</td>\n",
       "      <td>The Venetian Column</td>\n",
       "    </tr>\n",
       "  </tbody>\n",
       "</table>\n",
       "</div>"
      ],
      "text/plain": [
       "    r_points                                             r_text  \\\n",
       "0         40  Venetian column is located at the main square ...   \n",
       "1         20  It's an old column! And not a great one at tha...   \n",
       "2         40  woooow its really something from old time you ...   \n",
       "3         30  Marked on the free map and near the law courts...   \n",
       "4         30  This column stands in the old town area. It wa...   \n",
       "5         30  Worth having a look at if you cross to the Tur...   \n",
       "6         30  In the centre of Ataturk square is this column...   \n",
       "7         30  Wandered onto this commercial section of Lefko...   \n",
       "8         30  Not much to say about this small column the ce...   \n",
       "9         30  This column only stand around 12ft tall so I d...   \n",
       "10        30  Worth having a look at if you cross to the Tur...   \n",
       "11        30  In the centre of Ataturk square is this column...   \n",
       "12        30  Wandered onto this commercial section of Lefko...   \n",
       "13        30  Not much to say about this small column the ce...   \n",
       "14        30  This column only stand around 12ft tall so I d...   \n",
       "15        30  We saw it from the other side of the road, and...   \n",
       "16        30  The column is situated in the turkish half of ...   \n",
       "17        30  A much overrated monument,it's nothing more th...   \n",
       "18        20  The column marks the middle of Araturk Square ...   \n",
       "19        40  Standing tall and proud in the northern part o...   \n",
       "20        20  Ataturk square is an eyesore. The column does ...   \n",
       "21        20  Well I wouldn't go specifically to see this bu...   \n",
       "22        30  Again this is a nice photo if going past which...   \n",
       "23        30  This column has some great historical signific...   \n",
       "24        50  Very good looking monument, unfortunately is i...   \n",
       "25        50  This monumental Column is at the Greek side of...   \n",
       "26        30  i was 2 twice in Cyprus and only once in Nikos...   \n",
       "27        40  The column was originally brought and raised b...   \n",
       "28        30  The Venetian Column now resides near a main ro...   \n",
       "29        30  The Venetian Column is situated in the Ataturk...   \n",
       "30        40  The granite Venetian column, as it is called, ...   \n",
       "\n",
       "                  place  \n",
       "0   The Venetian Column  \n",
       "1   The Venetian Column  \n",
       "2   The Venetian Column  \n",
       "3   The Venetian Column  \n",
       "4   The Venetian Column  \n",
       "5   The Venetian Column  \n",
       "6   The Venetian Column  \n",
       "7   The Venetian Column  \n",
       "8   The Venetian Column  \n",
       "9   The Venetian Column  \n",
       "10  The Venetian Column  \n",
       "11  The Venetian Column  \n",
       "12  The Venetian Column  \n",
       "13  The Venetian Column  \n",
       "14  The Venetian Column  \n",
       "15  The Venetian Column  \n",
       "16  The Venetian Column  \n",
       "17  The Venetian Column  \n",
       "18  The Venetian Column  \n",
       "19  The Venetian Column  \n",
       "20  The Venetian Column  \n",
       "21  The Venetian Column  \n",
       "22  The Venetian Column  \n",
       "23  The Venetian Column  \n",
       "24  The Venetian Column  \n",
       "25  The Venetian Column  \n",
       "26  The Venetian Column  \n",
       "27  The Venetian Column  \n",
       "28  The Venetian Column  \n",
       "29  The Venetian Column  \n",
       "30  The Venetian Column  "
      ]
     },
     "execution_count": 2,
     "metadata": {},
     "output_type": "execute_result"
    }
   ],
   "source": [
    "tripadv_review = pd.read_csv(r'C:\\Users\\Dell\\Desktop\\Attractions\\The Venetian Column.csv', error_bad_lines=False);\n",
    "tripadv_review"
   ]
  },
  {
   "cell_type": "code",
   "execution_count": 3,
   "metadata": {},
   "outputs": [
    {
     "name": "stderr",
     "output_type": "stream",
     "text": [
      "[nltk_data] Downloading package vader_lexicon to\n",
      "[nltk_data]     C:\\Users\\Dell\\AppData\\Roaming\\nltk_data...\n",
      "[nltk_data]   Package vader_lexicon is already up-to-date!\n"
     ]
    }
   ],
   "source": [
    "import nltk\n",
    "nltk.download('vader_lexicon')\n",
    "from nltk.sentiment.vader import SentimentIntensityAnalyzer\n",
    "sent = SentimentIntensityAnalyzer()"
   ]
  },
  {
   "cell_type": "code",
   "execution_count": 4,
   "metadata": {},
   "outputs": [
    {
     "data": {
      "text/plain": [
       "{'neg': 0.07, 'neu': 0.891, 'pos': 0.039, 'compound': -0.3634}"
      ]
     },
     "execution_count": 4,
     "metadata": {},
     "output_type": "execute_result"
    }
   ],
   "source": [
    "sent.polarity_scores(tripadv_review.iloc[0]['r_text'])"
   ]
  },
  {
   "cell_type": "code",
   "execution_count": 5,
   "metadata": {},
   "outputs": [
    {
     "data": {
      "text/html": [
       "<div>\n",
       "<style scoped>\n",
       "    .dataframe tbody tr th:only-of-type {\n",
       "        vertical-align: middle;\n",
       "    }\n",
       "\n",
       "    .dataframe tbody tr th {\n",
       "        vertical-align: top;\n",
       "    }\n",
       "\n",
       "    .dataframe thead th {\n",
       "        text-align: right;\n",
       "    }\n",
       "</style>\n",
       "<table border=\"1\" class=\"dataframe\">\n",
       "  <thead>\n",
       "    <tr style=\"text-align: right;\">\n",
       "      <th></th>\n",
       "      <th>r_points</th>\n",
       "      <th>r_text</th>\n",
       "      <th>place</th>\n",
       "      <th>scores</th>\n",
       "      <th>compound</th>\n",
       "      <th>score</th>\n",
       "    </tr>\n",
       "  </thead>\n",
       "  <tbody>\n",
       "    <tr>\n",
       "      <th>0</th>\n",
       "      <td>40</td>\n",
       "      <td>Venetian column is located at the main square ...</td>\n",
       "      <td>The Venetian Column</td>\n",
       "      <td>{'neg': 0.07, 'neu': 0.891, 'pos': 0.039, 'com...</td>\n",
       "      <td>-0.3634</td>\n",
       "      <td>neg</td>\n",
       "    </tr>\n",
       "    <tr>\n",
       "      <th>1</th>\n",
       "      <td>20</td>\n",
       "      <td>It's an old column! And not a great one at tha...</td>\n",
       "      <td>The Venetian Column</td>\n",
       "      <td>{'neg': 0.153, 'neu': 0.793, 'pos': 0.054, 'co...</td>\n",
       "      <td>-0.7083</td>\n",
       "      <td>neg</td>\n",
       "    </tr>\n",
       "    <tr>\n",
       "      <th>2</th>\n",
       "      <td>40</td>\n",
       "      <td>woooow its really something from old time you ...</td>\n",
       "      <td>The Venetian Column</td>\n",
       "      <td>{'neg': 0.075, 'neu': 0.782, 'pos': 0.143, 'co...</td>\n",
       "      <td>0.4588</td>\n",
       "      <td>pos</td>\n",
       "    </tr>\n",
       "    <tr>\n",
       "      <th>3</th>\n",
       "      <td>30</td>\n",
       "      <td>Marked on the free map and near the law courts...</td>\n",
       "      <td>The Venetian Column</td>\n",
       "      <td>{'neg': 0.0, 'neu': 0.824, 'pos': 0.176, 'comp...</td>\n",
       "      <td>0.7650</td>\n",
       "      <td>pos</td>\n",
       "    </tr>\n",
       "    <tr>\n",
       "      <th>4</th>\n",
       "      <td>30</td>\n",
       "      <td>This column stands in the old town area. It wa...</td>\n",
       "      <td>The Venetian Column</td>\n",
       "      <td>{'neg': 0.139, 'neu': 0.861, 'pos': 0.0, 'comp...</td>\n",
       "      <td>-0.4404</td>\n",
       "      <td>neg</td>\n",
       "    </tr>\n",
       "  </tbody>\n",
       "</table>\n",
       "</div>"
      ],
      "text/plain": [
       "   r_points                                             r_text  \\\n",
       "0        40  Venetian column is located at the main square ...   \n",
       "1        20  It's an old column! And not a great one at tha...   \n",
       "2        40  woooow its really something from old time you ...   \n",
       "3        30  Marked on the free map and near the law courts...   \n",
       "4        30  This column stands in the old town area. It wa...   \n",
       "\n",
       "                 place                                             scores  \\\n",
       "0  The Venetian Column  {'neg': 0.07, 'neu': 0.891, 'pos': 0.039, 'com...   \n",
       "1  The Venetian Column  {'neg': 0.153, 'neu': 0.793, 'pos': 0.054, 'co...   \n",
       "2  The Venetian Column  {'neg': 0.075, 'neu': 0.782, 'pos': 0.143, 'co...   \n",
       "3  The Venetian Column  {'neg': 0.0, 'neu': 0.824, 'pos': 0.176, 'comp...   \n",
       "4  The Venetian Column  {'neg': 0.139, 'neu': 0.861, 'pos': 0.0, 'comp...   \n",
       "\n",
       "   compound score  \n",
       "0   -0.3634   neg  \n",
       "1   -0.7083   neg  \n",
       "2    0.4588   pos  \n",
       "3    0.7650   pos  \n",
       "4   -0.4404   neg  "
      ]
     },
     "execution_count": 5,
     "metadata": {},
     "output_type": "execute_result"
    }
   ],
   "source": [
    "tripadv_review['scores'] = tripadv_review['r_text'].apply(lambda review:sent.polarity_scores(review))\n",
    "tripadv_review['compound'] = tripadv_review['scores'].apply(lambda d:d['compound'])\n",
    "tripadv_review['score'] = tripadv_review['compound'].apply(lambda score: 'pos' if score >=0 else 'neg')\n",
    "tripadv_review.head()"
   ]
  },
  {
   "cell_type": "code",
   "execution_count": 6,
   "metadata": {},
   "outputs": [],
   "source": [
    "tripadv_review.to_csv(r'C:\\Users\\Dell\\Desktop\\sentiment_out1.csv')"
   ]
  },
  {
   "cell_type": "code",
   "execution_count": 7,
   "metadata": {},
   "outputs": [],
   "source": [
    "pos_rev=tripadv_review[(tripadv_review['score'] .str.contains('pos'))]\n",
    "pos_rev.to_csv(r'C:\\Users\\Dell\\Desktop\\sentiment_out1_pos.csv')\n",
    "neg_rev=tripadv_review[(tripadv_review['score'] .str.contains('neg'))]\n",
    "neg_rev.to_csv(r'C:\\Users\\Dell\\Desktop\\sentiment_out1_neg.csv')"
   ]
  },
  {
   "cell_type": "code",
   "execution_count": 8,
   "metadata": {},
   "outputs": [],
   "source": [
    "from pycaret.nlp import *"
   ]
  },
  {
   "cell_type": "code",
   "execution_count": 9,
   "metadata": {},
   "outputs": [
    {
     "data": {
      "text/html": [
       "<style  type=\"text/css\" >\n",
       "</style><table id=\"T_1f929a74_326b_11eb_b4e9_c48e8ff9d2e0\" ><thead>    <tr>        <th class=\"col_heading level0 col0\" >Description</th>        <th class=\"col_heading level0 col1\" >Value</th>    </tr></thead><tbody>\n",
       "                <tr>\n",
       "                                <td id=\"T_1f929a74_326b_11eb_b4e9_c48e8ff9d2e0row0_col0\" class=\"data row0 col0\" >session_id</td>\n",
       "                        <td id=\"T_1f929a74_326b_11eb_b4e9_c48e8ff9d2e0row0_col1\" class=\"data row0 col1\" >3035</td>\n",
       "            </tr>\n",
       "            <tr>\n",
       "                                <td id=\"T_1f929a74_326b_11eb_b4e9_c48e8ff9d2e0row1_col0\" class=\"data row1 col0\" >Documents</td>\n",
       "                        <td id=\"T_1f929a74_326b_11eb_b4e9_c48e8ff9d2e0row1_col1\" class=\"data row1 col1\" >23</td>\n",
       "            </tr>\n",
       "            <tr>\n",
       "                                <td id=\"T_1f929a74_326b_11eb_b4e9_c48e8ff9d2e0row2_col0\" class=\"data row2 col0\" >Vocab Size</td>\n",
       "                        <td id=\"T_1f929a74_326b_11eb_b4e9_c48e8ff9d2e0row2_col1\" class=\"data row2 col1\" >187</td>\n",
       "            </tr>\n",
       "            <tr>\n",
       "                                <td id=\"T_1f929a74_326b_11eb_b4e9_c48e8ff9d2e0row3_col0\" class=\"data row3 col0\" >Custom Stopwords</td>\n",
       "                        <td id=\"T_1f929a74_326b_11eb_b4e9_c48e8ff9d2e0row3_col1\" class=\"data row3 col1\" >True</td>\n",
       "            </tr>\n",
       "    </tbody></table>"
      ],
      "text/plain": [
       "<pandas.io.formats.style.Styler at 0x1c4f7a21d48>"
      ]
     },
     "metadata": {},
     "output_type": "display_data"
    }
   ],
   "source": [
    "exp_nlp = setup(data = pos_rev, target = 'r_text',\n",
    "                custom_stopwords = [ 'hotel', 'room', 'nice', 'good', 'excellent','restaurant', 'food'])"
   ]
  },
  {
   "cell_type": "code",
   "execution_count": 10,
   "metadata": {},
   "outputs": [
    {
     "name": "stdout",
     "output_type": "stream",
     "text": [
      "LdaModel(num_terms=187, num_topics=4, decay=0.5, chunksize=100)\n"
     ]
    }
   ],
   "source": [
    "#create an LDA model\n",
    "lda_pos_custom = create_model('lda')\n",
    "print(lda_pos_custom)"
   ]
  },
  {
   "cell_type": "code",
   "execution_count": 11,
   "metadata": {},
   "outputs": [
    {
     "data": {
      "text/html": [
       "<div>\n",
       "<style scoped>\n",
       "    .dataframe tbody tr th:only-of-type {\n",
       "        vertical-align: middle;\n",
       "    }\n",
       "\n",
       "    .dataframe tbody tr th {\n",
       "        vertical-align: top;\n",
       "    }\n",
       "\n",
       "    .dataframe thead th {\n",
       "        text-align: right;\n",
       "    }\n",
       "</style>\n",
       "<table border=\"1\" class=\"dataframe\">\n",
       "  <thead>\n",
       "    <tr style=\"text-align: right;\">\n",
       "      <th></th>\n",
       "      <th>r_points</th>\n",
       "      <th>r_text</th>\n",
       "      <th>place</th>\n",
       "      <th>scores</th>\n",
       "      <th>compound</th>\n",
       "      <th>score</th>\n",
       "      <th>Topic_0</th>\n",
       "      <th>Topic_1</th>\n",
       "      <th>Topic_2</th>\n",
       "      <th>Topic_3</th>\n",
       "      <th>Dominant_Topic</th>\n",
       "      <th>Perc_Dominant_Topic</th>\n",
       "    </tr>\n",
       "  </thead>\n",
       "  <tbody>\n",
       "    <tr>\n",
       "      <th>0</th>\n",
       "      <td>NaN</td>\n",
       "      <td>NaN</td>\n",
       "      <td>NaN</td>\n",
       "      <td>NaN</td>\n",
       "      <td>NaN</td>\n",
       "      <td>NaN</td>\n",
       "      <td>0.008906</td>\n",
       "      <td>0.005200</td>\n",
       "      <td>0.981144</td>\n",
       "      <td>0.004750</td>\n",
       "      <td>Topic 2</td>\n",
       "      <td>0.98</td>\n",
       "    </tr>\n",
       "    <tr>\n",
       "      <th>1</th>\n",
       "      <td>NaN</td>\n",
       "      <td>NaN</td>\n",
       "      <td>NaN</td>\n",
       "      <td>NaN</td>\n",
       "      <td>NaN</td>\n",
       "      <td>NaN</td>\n",
       "      <td>0.007033</td>\n",
       "      <td>0.985378</td>\n",
       "      <td>0.003838</td>\n",
       "      <td>0.003751</td>\n",
       "      <td>Topic 1</td>\n",
       "      <td>0.99</td>\n",
       "    </tr>\n",
       "    <tr>\n",
       "      <th>2</th>\n",
       "      <td>40.0</td>\n",
       "      <td>really old time love place also go taxi ask st...</td>\n",
       "      <td>The Venetian Column</td>\n",
       "      <td>{'neg': 0.075, 'neu': 0.782, 'pos': 0.143, 'co...</td>\n",
       "      <td>0.4588</td>\n",
       "      <td>pos</td>\n",
       "      <td>0.973375</td>\n",
       "      <td>0.009348</td>\n",
       "      <td>0.008737</td>\n",
       "      <td>0.008540</td>\n",
       "      <td>Topic 0</td>\n",
       "      <td>0.97</td>\n",
       "    </tr>\n",
       "    <tr>\n",
       "      <th>3</th>\n",
       "      <td>30.0</td>\n",
       "      <td>mark free map law court walk follow free touri...</td>\n",
       "      <td>The Venetian Column</td>\n",
       "      <td>{'neg': 0.0, 'neu': 0.824, 'pos': 0.176, 'comp...</td>\n",
       "      <td>0.7650</td>\n",
       "      <td>pos</td>\n",
       "      <td>0.006169</td>\n",
       "      <td>0.003602</td>\n",
       "      <td>0.003366</td>\n",
       "      <td>0.986864</td>\n",
       "      <td>Topic 3</td>\n",
       "      <td>0.99</td>\n",
       "    </tr>\n",
       "    <tr>\n",
       "      <th>4</th>\n",
       "      <td>NaN</td>\n",
       "      <td>NaN</td>\n",
       "      <td>NaN</td>\n",
       "      <td>NaN</td>\n",
       "      <td>NaN</td>\n",
       "      <td>NaN</td>\n",
       "      <td>0.012139</td>\n",
       "      <td>0.974764</td>\n",
       "      <td>0.006623</td>\n",
       "      <td>0.006474</td>\n",
       "      <td>Topic 1</td>\n",
       "      <td>0.97</td>\n",
       "    </tr>\n",
       "    <tr>\n",
       "      <th>5</th>\n",
       "      <td>30.0</td>\n",
       "      <td>worth look cross turkish side much</td>\n",
       "      <td>The Venetian Column</td>\n",
       "      <td>{'neg': 0.0, 'neu': 0.909, 'pos': 0.091, 'comp...</td>\n",
       "      <td>0.2263</td>\n",
       "      <td>pos</td>\n",
       "      <td>0.987423</td>\n",
       "      <td>0.004416</td>\n",
       "      <td>0.004127</td>\n",
       "      <td>0.004034</td>\n",
       "      <td>Topic 0</td>\n",
       "      <td>0.99</td>\n",
       "    </tr>\n",
       "    <tr>\n",
       "      <th>6</th>\n",
       "      <td>30.0</td>\n",
       "      <td>call build venetian lot see top column orb bot...</td>\n",
       "      <td>The Venetian Column</td>\n",
       "      <td>{'neg': 0.0, 'neu': 0.892, 'pos': 0.108, 'comp...</td>\n",
       "      <td>0.7351</td>\n",
       "      <td>pos</td>\n",
       "      <td>0.973375</td>\n",
       "      <td>0.009348</td>\n",
       "      <td>0.008737</td>\n",
       "      <td>0.008540</td>\n",
       "      <td>Topic 0</td>\n",
       "      <td>0.97</td>\n",
       "    </tr>\n",
       "    <tr>\n",
       "      <th>7</th>\n",
       "      <td>NaN</td>\n",
       "      <td>NaN</td>\n",
       "      <td>NaN</td>\n",
       "      <td>NaN</td>\n",
       "      <td>NaN</td>\n",
       "      <td>NaN</td>\n",
       "      <td>0.006169</td>\n",
       "      <td>0.003602</td>\n",
       "      <td>0.003366</td>\n",
       "      <td>0.986864</td>\n",
       "      <td>Topic 3</td>\n",
       "      <td>0.99</td>\n",
       "    </tr>\n",
       "    <tr>\n",
       "      <th>8</th>\n",
       "      <td>30.0</td>\n",
       "      <td>much say small column certainly history appeal...</td>\n",
       "      <td>The Venetian Column</td>\n",
       "      <td>{'neg': 0.0, 'neu': 0.902, 'pos': 0.098, 'comp...</td>\n",
       "      <td>0.3400</td>\n",
       "      <td>pos</td>\n",
       "      <td>0.012138</td>\n",
       "      <td>0.974765</td>\n",
       "      <td>0.006623</td>\n",
       "      <td>0.006474</td>\n",
       "      <td>Topic 1</td>\n",
       "      <td>0.97</td>\n",
       "    </tr>\n",
       "    <tr>\n",
       "      <th>9</th>\n",
       "      <td>30.0</td>\n",
       "      <td>column stand tall really class column monument...</td>\n",
       "      <td>The Venetian Column</td>\n",
       "      <td>{'neg': 0.0, 'neu': 0.955, 'pos': 0.045, 'comp...</td>\n",
       "      <td>0.1504</td>\n",
       "      <td>pos</td>\n",
       "      <td>0.987423</td>\n",
       "      <td>0.004416</td>\n",
       "      <td>0.004127</td>\n",
       "      <td>0.004034</td>\n",
       "      <td>Topic 0</td>\n",
       "      <td>0.99</td>\n",
       "    </tr>\n",
       "    <tr>\n",
       "      <th>10</th>\n",
       "      <td>30.0</td>\n",
       "      <td>worth look cross turkish side much</td>\n",
       "      <td>The Venetian Column</td>\n",
       "      <td>{'neg': 0.0, 'neu': 0.909, 'pos': 0.091, 'comp...</td>\n",
       "      <td>0.2263</td>\n",
       "      <td>pos</td>\n",
       "      <td>0.987423</td>\n",
       "      <td>0.004416</td>\n",
       "      <td>0.004127</td>\n",
       "      <td>0.004034</td>\n",
       "      <td>Topic 0</td>\n",
       "      <td>0.99</td>\n",
       "    </tr>\n",
       "    <tr>\n",
       "      <th>11</th>\n",
       "      <td>30.0</td>\n",
       "      <td>call build venetian lot see top column orb bot...</td>\n",
       "      <td>The Venetian Column</td>\n",
       "      <td>{'neg': 0.0, 'neu': 0.892, 'pos': 0.108, 'comp...</td>\n",
       "      <td>0.7351</td>\n",
       "      <td>pos</td>\n",
       "      <td>0.002622</td>\n",
       "      <td>0.001531</td>\n",
       "      <td>0.994448</td>\n",
       "      <td>0.001399</td>\n",
       "      <td>Topic 2</td>\n",
       "      <td>0.99</td>\n",
       "    </tr>\n",
       "    <tr>\n",
       "      <th>12</th>\n",
       "      <td>NaN</td>\n",
       "      <td>NaN</td>\n",
       "      <td>NaN</td>\n",
       "      <td>NaN</td>\n",
       "      <td>NaN</td>\n",
       "      <td>NaN</td>\n",
       "      <td>0.985190</td>\n",
       "      <td>0.005200</td>\n",
       "      <td>0.004860</td>\n",
       "      <td>0.004750</td>\n",
       "      <td>Topic 0</td>\n",
       "      <td>0.99</td>\n",
       "    </tr>\n",
       "    <tr>\n",
       "      <th>13</th>\n",
       "      <td>30.0</td>\n",
       "      <td>much say small column certainly history appeal...</td>\n",
       "      <td>The Venetian Column</td>\n",
       "      <td>{'neg': 0.0, 'neu': 0.902, 'pos': 0.098, 'comp...</td>\n",
       "      <td>0.3400</td>\n",
       "      <td>pos</td>\n",
       "      <td>0.008180</td>\n",
       "      <td>0.982994</td>\n",
       "      <td>0.004464</td>\n",
       "      <td>0.004363</td>\n",
       "      <td>Topic 1</td>\n",
       "      <td>0.98</td>\n",
       "    </tr>\n",
       "    <tr>\n",
       "      <th>14</th>\n",
       "      <td>30.0</td>\n",
       "      <td>column stand tall really class column monument...</td>\n",
       "      <td>The Venetian Column</td>\n",
       "      <td>{'neg': 0.0, 'neu': 0.955, 'pos': 0.045, 'comp...</td>\n",
       "      <td>0.1504</td>\n",
       "      <td>pos</td>\n",
       "      <td>0.008181</td>\n",
       "      <td>0.982993</td>\n",
       "      <td>0.004464</td>\n",
       "      <td>0.004363</td>\n",
       "      <td>Topic 1</td>\n",
       "      <td>0.98</td>\n",
       "    </tr>\n",
       "    <tr>\n",
       "      <th>15</th>\n",
       "      <td>30.0</td>\n",
       "      <td>see side road even bother look see interesting...</td>\n",
       "      <td>The Venetian Column</td>\n",
       "      <td>{'neg': 0.074, 'neu': 0.743, 'pos': 0.183, 'co...</td>\n",
       "      <td>0.5220</td>\n",
       "      <td>pos</td>\n",
       "      <td>0.004313</td>\n",
       "      <td>0.002518</td>\n",
       "      <td>0.990869</td>\n",
       "      <td>0.002300</td>\n",
       "      <td>Topic 2</td>\n",
       "      <td>0.99</td>\n",
       "    </tr>\n",
       "    <tr>\n",
       "      <th>16</th>\n",
       "      <td>30.0</td>\n",
       "      <td>situate turkish half strike difference part tu...</td>\n",
       "      <td>The Venetian Column</td>\n",
       "      <td>{'neg': 0.0, 'neu': 0.965, 'pos': 0.035, 'comp...</td>\n",
       "      <td>0.5106</td>\n",
       "      <td>pos</td>\n",
       "      <td>0.010829</td>\n",
       "      <td>0.006322</td>\n",
       "      <td>0.005909</td>\n",
       "      <td>0.976940</td>\n",
       "      <td>Topic 3</td>\n",
       "      <td>0.98</td>\n",
       "    </tr>\n",
       "    <tr>\n",
       "      <th>17</th>\n",
       "      <td>30.0</td>\n",
       "      <td>much overrated monument handy landmark help be...</td>\n",
       "      <td>The Venetian Column</td>\n",
       "      <td>{'neg': 0.0, 'neu': 0.838, 'pos': 0.162, 'comp...</td>\n",
       "      <td>0.5046</td>\n",
       "      <td>pos</td>\n",
       "      <td>0.981994</td>\n",
       "      <td>0.006322</td>\n",
       "      <td>0.005909</td>\n",
       "      <td>0.005775</td>\n",
       "      <td>Topic 0</td>\n",
       "      <td>0.98</td>\n",
       "    </tr>\n",
       "    <tr>\n",
       "      <th>18</th>\n",
       "      <td>NaN</td>\n",
       "      <td>NaN</td>\n",
       "      <td>NaN</td>\n",
       "      <td>NaN</td>\n",
       "      <td>NaN</td>\n",
       "      <td>NaN</td>\n",
       "      <td>0.987423</td>\n",
       "      <td>0.004416</td>\n",
       "      <td>0.004127</td>\n",
       "      <td>0.004034</td>\n",
       "      <td>Topic 0</td>\n",
       "      <td>0.99</td>\n",
       "    </tr>\n",
       "    <tr>\n",
       "      <th>19</th>\n",
       "      <td>40.0</td>\n",
       "      <td>stand tall proud northern part tower different...</td>\n",
       "      <td>The Venetian Column</td>\n",
       "      <td>{'neg': 0.0, 'neu': 0.839, 'pos': 0.161, 'comp...</td>\n",
       "      <td>0.5267</td>\n",
       "      <td>pos</td>\n",
       "      <td>0.004719</td>\n",
       "      <td>0.002755</td>\n",
       "      <td>0.990010</td>\n",
       "      <td>0.002517</td>\n",
       "      <td>Topic 2</td>\n",
       "      <td>0.99</td>\n",
       "    </tr>\n",
       "    <tr>\n",
       "      <th>20</th>\n",
       "      <td>NaN</td>\n",
       "      <td>NaN</td>\n",
       "      <td>NaN</td>\n",
       "      <td>NaN</td>\n",
       "      <td>NaN</td>\n",
       "      <td>NaN</td>\n",
       "      <td>0.006572</td>\n",
       "      <td>0.003838</td>\n",
       "      <td>0.003587</td>\n",
       "      <td>0.986004</td>\n",
       "      <td>Topic 3</td>\n",
       "      <td>0.99</td>\n",
       "    </tr>\n",
       "    <tr>\n",
       "      <th>21</th>\n",
       "      <td>20.0</td>\n",
       "      <td>go specifically see quite history make interes...</td>\n",
       "      <td>The Venetian Column</td>\n",
       "      <td>{'neg': 0.0, 'neu': 0.825, 'pos': 0.175, 'comp...</td>\n",
       "      <td>0.6249</td>\n",
       "      <td>pos</td>\n",
       "      <td>0.981994</td>\n",
       "      <td>0.006322</td>\n",
       "      <td>0.005909</td>\n",
       "      <td>0.005775</td>\n",
       "      <td>Topic 0</td>\n",
       "      <td>0.98</td>\n",
       "    </tr>\n",
       "    <tr>\n",
       "      <th>22</th>\n",
       "      <td>NaN</td>\n",
       "      <td>NaN</td>\n",
       "      <td>NaN</td>\n",
       "      <td>NaN</td>\n",
       "      <td>NaN</td>\n",
       "      <td>NaN</td>\n",
       "      <td>0.994299</td>\n",
       "      <td>0.002002</td>\n",
       "      <td>0.001871</td>\n",
       "      <td>0.001829</td>\n",
       "      <td>Topic 0</td>\n",
       "      <td>0.99</td>\n",
       "    </tr>\n",
       "    <tr>\n",
       "      <th>23</th>\n",
       "      <td>30.0</td>\n",
       "      <td>great historical significance area truly great...</td>\n",
       "      <td>The Venetian Column</td>\n",
       "      <td>{'neg': 0.053, 'neu': 0.785, 'pos': 0.162, 'co...</td>\n",
       "      <td>0.6594</td>\n",
       "      <td>pos</td>\n",
       "      <td>NaN</td>\n",
       "      <td>NaN</td>\n",
       "      <td>NaN</td>\n",
       "      <td>NaN</td>\n",
       "      <td>NaN</td>\n",
       "      <td>NaN</td>\n",
       "    </tr>\n",
       "    <tr>\n",
       "      <th>24</th>\n",
       "      <td>50.0</td>\n",
       "      <td>look monument unfortunately middle street easi...</td>\n",
       "      <td>The Venetian Column</td>\n",
       "      <td>{'neg': 0.088, 'neu': 0.696, 'pos': 0.216, 'co...</td>\n",
       "      <td>0.5400</td>\n",
       "      <td>pos</td>\n",
       "      <td>NaN</td>\n",
       "      <td>NaN</td>\n",
       "      <td>NaN</td>\n",
       "      <td>NaN</td>\n",
       "      <td>NaN</td>\n",
       "      <td>NaN</td>\n",
       "    </tr>\n",
       "    <tr>\n",
       "      <th>25</th>\n",
       "      <td>50.0</td>\n",
       "      <td>monumental side close turkish side divide city...</td>\n",
       "      <td>The Venetian Column</td>\n",
       "      <td>{'neg': 0.0, 'neu': 1.0, 'pos': 0.0, 'compound...</td>\n",
       "      <td>0.0000</td>\n",
       "      <td>pos</td>\n",
       "      <td>NaN</td>\n",
       "      <td>NaN</td>\n",
       "      <td>NaN</td>\n",
       "      <td>NaN</td>\n",
       "      <td>NaN</td>\n",
       "      <td>NaN</td>\n",
       "    </tr>\n",
       "    <tr>\n",
       "      <th>26</th>\n",
       "      <td>30.0</td>\n",
       "      <td>business trip arrive car taxi hour sorry see m...</td>\n",
       "      <td>The Venetian Column</td>\n",
       "      <td>{'neg': 0.05, 'neu': 0.84, 'pos': 0.11, 'compo...</td>\n",
       "      <td>0.4694</td>\n",
       "      <td>pos</td>\n",
       "      <td>NaN</td>\n",
       "      <td>NaN</td>\n",
       "      <td>NaN</td>\n",
       "      <td>NaN</td>\n",
       "      <td>NaN</td>\n",
       "      <td>NaN</td>\n",
       "    </tr>\n",
       "    <tr>\n",
       "      <th>27</th>\n",
       "      <td>40.0</td>\n",
       "      <td>column originally bring raise first take islan...</td>\n",
       "      <td>The Venetian Column</td>\n",
       "      <td>{'neg': 0.027, 'neu': 0.943, 'pos': 0.03, 'com...</td>\n",
       "      <td>0.0620</td>\n",
       "      <td>pos</td>\n",
       "      <td>NaN</td>\n",
       "      <td>NaN</td>\n",
       "      <td>NaN</td>\n",
       "      <td>NaN</td>\n",
       "      <td>NaN</td>\n",
       "      <td>NaN</td>\n",
       "    </tr>\n",
       "    <tr>\n",
       "      <th>28</th>\n",
       "      <td>30.0</td>\n",
       "      <td>reside main road sit nearby coffee contemplate...</td>\n",
       "      <td>The Venetian Column</td>\n",
       "      <td>{'neg': 0.04, 'neu': 0.821, 'pos': 0.139, 'com...</td>\n",
       "      <td>0.6124</td>\n",
       "      <td>pos</td>\n",
       "      <td>NaN</td>\n",
       "      <td>NaN</td>\n",
       "      <td>NaN</td>\n",
       "      <td>NaN</td>\n",
       "      <td>NaN</td>\n",
       "      <td>NaN</td>\n",
       "    </tr>\n",
       "    <tr>\n",
       "      <th>29</th>\n",
       "      <td>30.0</td>\n",
       "      <td>situate turkish part column transport ancient ...</td>\n",
       "      <td>The Venetian Column</td>\n",
       "      <td>{'neg': 0.0, 'neu': 1.0, 'pos': 0.0, 'compound...</td>\n",
       "      <td>0.0000</td>\n",
       "      <td>pos</td>\n",
       "      <td>NaN</td>\n",
       "      <td>NaN</td>\n",
       "      <td>NaN</td>\n",
       "      <td>NaN</td>\n",
       "      <td>NaN</td>\n",
       "      <td>NaN</td>\n",
       "    </tr>\n",
       "    <tr>\n",
       "      <th>30</th>\n",
       "      <td>40.0</td>\n",
       "      <td>call locate locally know british colonial cour...</td>\n",
       "      <td>The Venetian Column</td>\n",
       "      <td>{'neg': 0.044, 'neu': 0.9, 'pos': 0.056, 'comp...</td>\n",
       "      <td>0.1761</td>\n",
       "      <td>pos</td>\n",
       "      <td>NaN</td>\n",
       "      <td>NaN</td>\n",
       "      <td>NaN</td>\n",
       "      <td>NaN</td>\n",
       "      <td>NaN</td>\n",
       "      <td>NaN</td>\n",
       "    </tr>\n",
       "  </tbody>\n",
       "</table>\n",
       "</div>"
      ],
      "text/plain": [
       "    r_points                                             r_text  \\\n",
       "0        NaN                                                NaN   \n",
       "1        NaN                                                NaN   \n",
       "2       40.0  really old time love place also go taxi ask st...   \n",
       "3       30.0  mark free map law court walk follow free touri...   \n",
       "4        NaN                                                NaN   \n",
       "5       30.0                 worth look cross turkish side much   \n",
       "6       30.0  call build venetian lot see top column orb bot...   \n",
       "7        NaN                                                NaN   \n",
       "8       30.0  much say small column certainly history appeal...   \n",
       "9       30.0  column stand tall really class column monument...   \n",
       "10      30.0                 worth look cross turkish side much   \n",
       "11      30.0  call build venetian lot see top column orb bot...   \n",
       "12       NaN                                                NaN   \n",
       "13      30.0  much say small column certainly history appeal...   \n",
       "14      30.0  column stand tall really class column monument...   \n",
       "15      30.0  see side road even bother look see interesting...   \n",
       "16      30.0  situate turkish half strike difference part tu...   \n",
       "17      30.0  much overrated monument handy landmark help be...   \n",
       "18       NaN                                                NaN   \n",
       "19      40.0  stand tall proud northern part tower different...   \n",
       "20       NaN                                                NaN   \n",
       "21      20.0  go specifically see quite history make interes...   \n",
       "22       NaN                                                NaN   \n",
       "23      30.0  great historical significance area truly great...   \n",
       "24      50.0  look monument unfortunately middle street easi...   \n",
       "25      50.0  monumental side close turkish side divide city...   \n",
       "26      30.0  business trip arrive car taxi hour sorry see m...   \n",
       "27      40.0  column originally bring raise first take islan...   \n",
       "28      30.0  reside main road sit nearby coffee contemplate...   \n",
       "29      30.0  situate turkish part column transport ancient ...   \n",
       "30      40.0  call locate locally know british colonial cour...   \n",
       "\n",
       "                  place                                             scores  \\\n",
       "0                   NaN                                                NaN   \n",
       "1                   NaN                                                NaN   \n",
       "2   The Venetian Column  {'neg': 0.075, 'neu': 0.782, 'pos': 0.143, 'co...   \n",
       "3   The Venetian Column  {'neg': 0.0, 'neu': 0.824, 'pos': 0.176, 'comp...   \n",
       "4                   NaN                                                NaN   \n",
       "5   The Venetian Column  {'neg': 0.0, 'neu': 0.909, 'pos': 0.091, 'comp...   \n",
       "6   The Venetian Column  {'neg': 0.0, 'neu': 0.892, 'pos': 0.108, 'comp...   \n",
       "7                   NaN                                                NaN   \n",
       "8   The Venetian Column  {'neg': 0.0, 'neu': 0.902, 'pos': 0.098, 'comp...   \n",
       "9   The Venetian Column  {'neg': 0.0, 'neu': 0.955, 'pos': 0.045, 'comp...   \n",
       "10  The Venetian Column  {'neg': 0.0, 'neu': 0.909, 'pos': 0.091, 'comp...   \n",
       "11  The Venetian Column  {'neg': 0.0, 'neu': 0.892, 'pos': 0.108, 'comp...   \n",
       "12                  NaN                                                NaN   \n",
       "13  The Venetian Column  {'neg': 0.0, 'neu': 0.902, 'pos': 0.098, 'comp...   \n",
       "14  The Venetian Column  {'neg': 0.0, 'neu': 0.955, 'pos': 0.045, 'comp...   \n",
       "15  The Venetian Column  {'neg': 0.074, 'neu': 0.743, 'pos': 0.183, 'co...   \n",
       "16  The Venetian Column  {'neg': 0.0, 'neu': 0.965, 'pos': 0.035, 'comp...   \n",
       "17  The Venetian Column  {'neg': 0.0, 'neu': 0.838, 'pos': 0.162, 'comp...   \n",
       "18                  NaN                                                NaN   \n",
       "19  The Venetian Column  {'neg': 0.0, 'neu': 0.839, 'pos': 0.161, 'comp...   \n",
       "20                  NaN                                                NaN   \n",
       "21  The Venetian Column  {'neg': 0.0, 'neu': 0.825, 'pos': 0.175, 'comp...   \n",
       "22                  NaN                                                NaN   \n",
       "23  The Venetian Column  {'neg': 0.053, 'neu': 0.785, 'pos': 0.162, 'co...   \n",
       "24  The Venetian Column  {'neg': 0.088, 'neu': 0.696, 'pos': 0.216, 'co...   \n",
       "25  The Venetian Column  {'neg': 0.0, 'neu': 1.0, 'pos': 0.0, 'compound...   \n",
       "26  The Venetian Column  {'neg': 0.05, 'neu': 0.84, 'pos': 0.11, 'compo...   \n",
       "27  The Venetian Column  {'neg': 0.027, 'neu': 0.943, 'pos': 0.03, 'com...   \n",
       "28  The Venetian Column  {'neg': 0.04, 'neu': 0.821, 'pos': 0.139, 'com...   \n",
       "29  The Venetian Column  {'neg': 0.0, 'neu': 1.0, 'pos': 0.0, 'compound...   \n",
       "30  The Venetian Column  {'neg': 0.044, 'neu': 0.9, 'pos': 0.056, 'comp...   \n",
       "\n",
       "    compound score   Topic_0   Topic_1   Topic_2   Topic_3 Dominant_Topic  \\\n",
       "0        NaN   NaN  0.008906  0.005200  0.981144  0.004750        Topic 2   \n",
       "1        NaN   NaN  0.007033  0.985378  0.003838  0.003751        Topic 1   \n",
       "2     0.4588   pos  0.973375  0.009348  0.008737  0.008540        Topic 0   \n",
       "3     0.7650   pos  0.006169  0.003602  0.003366  0.986864        Topic 3   \n",
       "4        NaN   NaN  0.012139  0.974764  0.006623  0.006474        Topic 1   \n",
       "5     0.2263   pos  0.987423  0.004416  0.004127  0.004034        Topic 0   \n",
       "6     0.7351   pos  0.973375  0.009348  0.008737  0.008540        Topic 0   \n",
       "7        NaN   NaN  0.006169  0.003602  0.003366  0.986864        Topic 3   \n",
       "8     0.3400   pos  0.012138  0.974765  0.006623  0.006474        Topic 1   \n",
       "9     0.1504   pos  0.987423  0.004416  0.004127  0.004034        Topic 0   \n",
       "10    0.2263   pos  0.987423  0.004416  0.004127  0.004034        Topic 0   \n",
       "11    0.7351   pos  0.002622  0.001531  0.994448  0.001399        Topic 2   \n",
       "12       NaN   NaN  0.985190  0.005200  0.004860  0.004750        Topic 0   \n",
       "13    0.3400   pos  0.008180  0.982994  0.004464  0.004363        Topic 1   \n",
       "14    0.1504   pos  0.008181  0.982993  0.004464  0.004363        Topic 1   \n",
       "15    0.5220   pos  0.004313  0.002518  0.990869  0.002300        Topic 2   \n",
       "16    0.5106   pos  0.010829  0.006322  0.005909  0.976940        Topic 3   \n",
       "17    0.5046   pos  0.981994  0.006322  0.005909  0.005775        Topic 0   \n",
       "18       NaN   NaN  0.987423  0.004416  0.004127  0.004034        Topic 0   \n",
       "19    0.5267   pos  0.004719  0.002755  0.990010  0.002517        Topic 2   \n",
       "20       NaN   NaN  0.006572  0.003838  0.003587  0.986004        Topic 3   \n",
       "21    0.6249   pos  0.981994  0.006322  0.005909  0.005775        Topic 0   \n",
       "22       NaN   NaN  0.994299  0.002002  0.001871  0.001829        Topic 0   \n",
       "23    0.6594   pos       NaN       NaN       NaN       NaN            NaN   \n",
       "24    0.5400   pos       NaN       NaN       NaN       NaN            NaN   \n",
       "25    0.0000   pos       NaN       NaN       NaN       NaN            NaN   \n",
       "26    0.4694   pos       NaN       NaN       NaN       NaN            NaN   \n",
       "27    0.0620   pos       NaN       NaN       NaN       NaN            NaN   \n",
       "28    0.6124   pos       NaN       NaN       NaN       NaN            NaN   \n",
       "29    0.0000   pos       NaN       NaN       NaN       NaN            NaN   \n",
       "30    0.1761   pos       NaN       NaN       NaN       NaN            NaN   \n",
       "\n",
       "    Perc_Dominant_Topic  \n",
       "0                  0.98  \n",
       "1                  0.99  \n",
       "2                  0.97  \n",
       "3                  0.99  \n",
       "4                  0.97  \n",
       "5                  0.99  \n",
       "6                  0.97  \n",
       "7                  0.99  \n",
       "8                  0.97  \n",
       "9                  0.99  \n",
       "10                 0.99  \n",
       "11                 0.99  \n",
       "12                 0.99  \n",
       "13                 0.98  \n",
       "14                 0.98  \n",
       "15                 0.99  \n",
       "16                 0.98  \n",
       "17                 0.98  \n",
       "18                 0.99  \n",
       "19                 0.99  \n",
       "20                 0.99  \n",
       "21                 0.98  \n",
       "22                 0.99  \n",
       "23                  NaN  \n",
       "24                  NaN  \n",
       "25                  NaN  \n",
       "26                  NaN  \n",
       "27                  NaN  \n",
       "28                  NaN  \n",
       "29                  NaN  \n",
       "30                  NaN  "
      ]
     },
     "execution_count": 11,
     "metadata": {},
     "output_type": "execute_result"
    }
   ],
   "source": [
    "apply_lda_pos = assign_model(lda_pos_custom)\n",
    "apply_lda_pos"
   ]
  },
  {
   "cell_type": "code",
   "execution_count": 12,
   "metadata": {},
   "outputs": [
    {
     "data": {
      "application/vnd.jupyter.widget-view+json": {
       "model_id": "f26b102948d7456eb73317b11949b50d",
       "version_major": 2,
       "version_minor": 0
      },
      "text/plain": [
       "interactive(children=(ToggleButtons(description='Plot Type:', icons=('',), options=(('Frequency Plot', 'freque…"
      ]
     },
     "metadata": {},
     "output_type": "display_data"
    }
   ],
   "source": [
    "evaluate_model(lda_pos_custom)"
   ]
  },
  {
   "cell_type": "code",
   "execution_count": 13,
   "metadata": {},
   "outputs": [
    {
     "data": {
      "text/html": [
       "        <script type=\"text/javascript\">\n",
       "        window.PlotlyConfig = {MathJaxConfig: 'local'};\n",
       "        if (window.MathJax) {MathJax.Hub.Config({SVG: {font: \"STIX-Web\"}});}\n",
       "        if (typeof require !== 'undefined') {\n",
       "        require.undef(\"plotly\");\n",
       "        requirejs.config({\n",
       "            paths: {\n",
       "                'plotly': ['https://cdn.plot.ly/plotly-latest.min']\n",
       "            }\n",
       "        });\n",
       "        require(['plotly'], function(Plotly) {\n",
       "            window._Plotly = Plotly;\n",
       "        });\n",
       "        }\n",
       "        </script>\n",
       "        "
      ]
     },
     "metadata": {},
     "output_type": "display_data"
    },
    {
     "data": {
      "text/html": [
       "\n",
       "<link rel=\"stylesheet\" type=\"text/css\" href=\"https://cdn.rawgit.com/bmabey/pyLDAvis/files/ldavis.v1.0.0.css\">\n",
       "\n",
       "\n",
       "<div id=\"ldavis_el2028819456167726802155497764\"></div>\n",
       "<script type=\"text/javascript\">\n",
       "\n",
       "var ldavis_el2028819456167726802155497764_data = {\"mdsDat\": {\"x\": [-0.08616205022019628, -0.07074056271729001, 0.06929590303120688, 0.08760670990627942], \"y\": [-0.07082601357848341, 0.11500450896280455, -0.10425503908799386, 0.06007654370367273], \"topics\": [1, 2, 3, 4], \"cluster\": [1, 1, 1, 1], \"Freq\": [37.4315299987793, 28.669797897338867, 17.278640747070312, 16.620025634765625]}, \"tinfo\": {\"Term\": [\"venetian\", \"history\", \"much\", \"free\", \"map\", \"law\", \"say\", \"visitor\", \"appeal\", \"certainly\", \"small\", \"various\", \"orb\", \"lot\", \"bottom\", \"build\", \"ground\", \"court\", \"see\", \"take\", \"place\", \"area\", \"family\", \"coat\", \"noble\", \"arm\", \"top\", \"column\", \"side\", \"call\", \"way\", \"central\", \"class\", \"cross\", \"british\", \"side\", \"sorry\", \"hour\", \"saw\", \"business\", \"car\", \"amazing\", \"arrive\", \"trip\", \"monumental\", \"city\", \"divide\", \"famous\", \"close\", \"ancient\", \"animate\", \"many\", \"transport\", \"handy\", \"pidgeon\", \"vantage\", \"landmark\", \"bearing\", \"overrated\", \"point\", \"column\", \"much\", \"worth\", \"see\", \"monument\", \"tall\", \"quite\", \"know\", \"turkish\", \"look\", \"stand\", \"really\", \"go\", \"call\", \"part\", \"pigeon\", \"situate\", \"feed\", \"sit\", \"even\", \"taxi\", \"take\", \"area\", \"old\", \"control\", \"impressive\", \"great\", \"green\", \"place\", \"ask\", \"also\", \"colomn\", \"love\", \"time\", \"originally\", \"difference\", \"historically\", \"raise\", \"height\", \"significant\", \"island\", \"turk\", \"bring\", \"one\", \"last\", \"later\", \"first\", \"visit\", \"tree\", \"instead\", \"pleasant\", \"situate\", \"turkish\", \"look\", \"call\", \"column\", \"go\", \"stop\", \"taxi\", \"really\", \"move\", \"even\", \"sit\", \"watch\", \"venetian\", \"various\", \"orb\", \"lot\", \"bottom\", \"build\", \"ground\", \"main\", \"think\", \"happy\", \"new\", \"minute\", \"set\", \"nearby\", \"reside\", \"contemplate\", \"existence\", \"unfortunately\", \"pass\", \"realise\", \"easily\", \"street\", \"middle\", \"family\", \"coat\", \"arm\", \"noble\", \"top\", \"coffee\", \"stop\", \"call\", \"see\", \"column\", \"worth\", \"look\", \"sit\", \"monument\", \"road\", \"history\", \"free\", \"map\", \"law\", \"say\", \"visitor\", \"appeal\", \"small\", \"certainly\", \"information\", \"lack\", \"tourist\", \"follow\", \"mark\", \"specifically\", \"make\", \"tower\", \"northern\", \"different\", \"drawback\", \"around\", \"gather\", \"proud\", \"number\", \"court\", \"watch\", \"interesting\", \"walk\", \"much\", \"pigeon\", \"column\", \"really\", \"know\", \"sit\", \"quite\", \"go\", \"place\", \"see\", \"stand\"], \"Freq\": [2.0, 2.0, 4.0, 1.0, 1.0, 1.0, 1.0, 1.0, 1.0, 1.0, 1.0, 1.0, 1.0, 1.0, 1.0, 1.0, 1.0, 2.0, 5.0, 2.0, 3.0, 2.0, 2.0, 2.0, 2.0, 2.0, 2.0, 9.0, 4.0, 3.0, 1.6201766729354858, 1.620166301727295, 1.6201609373092651, 1.6200733184814453, 1.616466999053955, 3.7836740016937256, 0.9000936150550842, 0.9000847935676575, 0.900084912776947, 0.900081217288971, 0.900081217288971, 0.9000794887542725, 0.9000791311264038, 0.9000786542892456, 0.9000779390335083, 0.9000720977783203, 0.9000678062438965, 0.9000651836395264, 0.900063157081604, 0.9000557661056519, 0.9000548720359802, 0.9000380039215088, 0.9000325202941895, 0.8996415734291077, 0.8995510935783386, 0.899419367313385, 0.8993903398513794, 0.8993389010429382, 0.899281919002533, 0.899247944355011, 6.658656120300293, 3.0599186420440674, 3.0658113956451416, 3.7771451473236084, 3.0634899139404297, 1.6224809885025024, 1.6202512979507446, 1.6176837682724, 3.0700807571411133, 2.3427734375, 1.6270900964736938, 1.6207032203674316, 1.6203259229660034, 1.6171987056732178, 0.9062076807022095, 0.9060386419296265, 0.9060494899749756, 0.9021978974342346, 0.9016905426979065, 0.9004145860671997, 0.9001319408416748, 2.162187099456787, 2.161515474319458, 1.4996917247772217, 1.4982713460922241, 1.4974108934402466, 1.4966628551483154, 1.4964607954025269, 2.165712594985962, 0.8346424698829651, 0.8346394896507263, 0.8346391320228577, 0.8346338272094727, 0.8346279263496399, 0.8326960802078247, 0.8328128457069397, 0.8323595523834229, 0.8323271870613098, 0.8323172330856323, 0.8322862386703491, 0.8322270512580872, 0.8321868777275085, 0.8321046233177185, 0.8323651552200317, 0.8323357105255127, 0.8318898677825928, 0.8318578600883484, 0.8322837948799133, 0.8322165608406067, 0.832133412361145, 0.8321372270584106, 1.4965801239013672, 2.1602728366851807, 1.4969944953918457, 0.8373441696166992, 0.8367668390274048, 0.8353402018547058, 0.8346379995346069, 0.8346052765846252, 0.8345766067504883, 0.8341841101646423, 0.8341837525367737, 0.8336623907089233, 0.8326607942581177, 2.3181965351104736, 1.2278010845184326, 1.2274677753448486, 1.2274540662765503, 1.2272652387619019, 1.2272039651870728, 1.2271775007247925, 0.6826939582824707, 0.6826916933059692, 0.6826913356781006, 0.6826910972595215, 0.6826908588409424, 0.6826896667480469, 0.6826890110969543, 0.6826874017715454, 0.6826868057250977, 0.6826850771903992, 0.6826843619346619, 0.6826806664466858, 0.6826733350753784, 0.6826732754707336, 0.6826725006103516, 0.6826713681221008, 1.2276638746261597, 1.2275526523590088, 1.2273321151733398, 1.2272067070007324, 1.2268186807632446, 0.682926595211029, 0.6826964020729065, 1.2272619009017944, 1.2267001867294312, 1.2321264743804932, 0.683501124382019, 0.6833142042160034, 0.6828447580337524, 0.6827041506767273, 0.6826880574226379, 1.737761378288269, 1.2064359188079834, 1.206426739692688, 1.20619797706604, 1.2020982503890991, 1.2020944356918335, 1.2020907402038574, 1.2020840644836426, 1.2020848989486694, 0.6703289151191711, 0.6702211499214172, 0.6702209115028381, 0.6702054142951965, 0.6701384782791138, 0.6699907779693604, 0.6699730753898621, 0.6688165664672852, 0.6687594056129456, 0.6686794757843018, 0.6686637997627258, 0.6686474084854126, 0.6685529947280884, 0.6685148477554321, 0.6683695912361145, 1.206131935119629, 0.6698933839797974, 0.6696082949638367, 0.6701416969299316, 1.2023922204971313, 0.6684138774871826, 1.2036974430084229, 0.670150637626648, 0.6701421141624451, 0.6699717044830322, 0.6699144840240479, 0.669830858707428, 0.6697669625282288, 0.669724702835083, 0.6689806580543518], \"Total\": [2.0, 2.0, 4.0, 1.0, 1.0, 1.0, 1.0, 1.0, 1.0, 1.0, 1.0, 1.0, 1.0, 1.0, 1.0, 1.0, 1.0, 2.0, 5.0, 2.0, 3.0, 2.0, 2.0, 2.0, 2.0, 2.0, 2.0, 9.0, 4.0, 3.0, 2.057786464691162, 2.0577847957611084, 2.0577831268310547, 2.0577640533447266, 2.0575175285339355, 4.885880947113037, 1.337684988975525, 1.3376824855804443, 1.3376829624176025, 1.3376818895339966, 1.3376826047897339, 1.337681770324707, 1.3376816511154175, 1.3376820087432861, 1.3376816511154175, 1.3376803398132324, 1.3376801013946533, 1.3376790285110474, 1.3376789093017578, 1.337679147720337, 1.3376789093017578, 1.3376762866973877, 1.337674617767334, 1.3375701904296875, 1.3375473022460938, 1.3375133275985718, 1.3375065326690674, 1.3374933004379272, 1.3374786376953125, 1.337470531463623, 9.931246757507324, 4.570745944976807, 4.712101459503174, 5.847248077392578, 4.7120137214660645, 2.5947582721710205, 2.594308376312256, 2.5940675735473633, 5.501756191253662, 4.659109592437744, 3.2626147270202637, 3.262010097503662, 3.262063503265381, 3.8175904750823975, 2.542754888534546, 2.5426793098449707, 2.673537015914917, 2.0054008960723877, 3.0881693363189697, 2.005403757095337, 2.0054118633270264, 2.6192595958709717, 2.620370388031006, 1.953218698501587, 1.9522666931152344, 1.9527732133865356, 1.9530950784683228, 1.953416347503662, 3.1575939655303955, 1.285330057144165, 1.285329818725586, 1.285330057144165, 1.2853295803070068, 1.2853293418884277, 1.2849464416503906, 1.2854368686676025, 1.2848801612854004, 1.2848745584487915, 1.2848716974258423, 1.2848656177520752, 1.2848542928695679, 1.2848461866378784, 1.28482985496521, 1.2854540348052979, 1.2854546308517456, 1.284787893295288, 1.284781575202942, 1.2854746580123901, 1.2854599952697754, 1.2854743003845215, 1.2854810953140259, 2.673537015914917, 5.501756191253662, 4.659109592437744, 3.8175904750823975, 9.931246757507324, 3.262063503265381, 1.8314971923828125, 2.0054118633270264, 3.262010097503662, 2.0049474239349365, 2.005403757095337, 3.0881693363189697, 1.8218101263046265, 2.8029582500457764, 1.7101799249649048, 1.7102527618408203, 1.7102563381195068, 1.7102982997894287, 1.7103118896484375, 1.7103180885314941, 1.1637693643569946, 1.1637697219848633, 1.1637698411941528, 1.1637697219848633, 1.1637697219848633, 1.1637698411941528, 1.1637699604034424, 1.163770318031311, 1.1637705564498901, 1.1637706756591797, 1.1637712717056274, 1.163771390914917, 1.1637721061706543, 1.1637734174728394, 1.1637723445892334, 1.163773775100708, 2.430218458175659, 2.4302284717559814, 2.430241346359253, 2.430295705795288, 2.430360794067383, 1.8316409587860107, 1.8314971923828125, 3.8175904750823975, 5.847248077392578, 9.931246757507324, 4.712101459503174, 4.659109592437744, 3.0881693363189697, 4.7120137214660645, 1.8837623596191406, 2.2270328998565674, 1.6905107498168945, 1.6905126571655273, 1.6905478239059448, 1.6904685497283936, 1.6904661655426025, 1.6904653310775757, 1.6904666423797607, 1.69046950340271, 1.1540288925170898, 1.1540652513504028, 1.1540651321411133, 1.1540693044662476, 1.1540935039520264, 1.1540980339050293, 1.1541026830673218, 1.1545454263687134, 1.1545628309249878, 1.1545917987823486, 1.1545982360839844, 1.1546037197113037, 1.1546351909637451, 1.1546489000320435, 1.1546976566314697, 2.410548686981201, 1.8218101263046265, 1.8741648197174072, 2.4202051162719727, 4.570745944976807, 2.5426793098449707, 9.931246757507324, 3.262010097503662, 2.5940675735473633, 3.0881693363189697, 2.594308376312256, 3.262063503265381, 3.1575939655303955, 5.847248077392578, 3.2626147270202637], \"Category\": [\"Default\", \"Default\", \"Default\", \"Default\", \"Default\", \"Default\", \"Default\", \"Default\", \"Default\", \"Default\", \"Default\", \"Default\", \"Default\", \"Default\", \"Default\", \"Default\", \"Default\", \"Default\", \"Default\", \"Default\", \"Default\", \"Default\", \"Default\", \"Default\", \"Default\", \"Default\", \"Default\", \"Default\", \"Default\", \"Default\", \"Topic1\", \"Topic1\", \"Topic1\", \"Topic1\", \"Topic1\", \"Topic1\", \"Topic1\", \"Topic1\", \"Topic1\", \"Topic1\", \"Topic1\", \"Topic1\", \"Topic1\", \"Topic1\", \"Topic1\", \"Topic1\", \"Topic1\", \"Topic1\", \"Topic1\", \"Topic1\", \"Topic1\", \"Topic1\", \"Topic1\", \"Topic1\", \"Topic1\", \"Topic1\", \"Topic1\", \"Topic1\", \"Topic1\", \"Topic1\", \"Topic1\", \"Topic1\", \"Topic1\", \"Topic1\", \"Topic1\", \"Topic1\", \"Topic1\", \"Topic1\", \"Topic1\", \"Topic1\", \"Topic1\", \"Topic1\", \"Topic1\", \"Topic1\", \"Topic1\", \"Topic1\", \"Topic1\", \"Topic1\", \"Topic1\", \"Topic1\", \"Topic1\", \"Topic2\", \"Topic2\", \"Topic2\", \"Topic2\", \"Topic2\", \"Topic2\", \"Topic2\", \"Topic2\", \"Topic2\", \"Topic2\", \"Topic2\", \"Topic2\", \"Topic2\", \"Topic2\", \"Topic2\", \"Topic2\", \"Topic2\", \"Topic2\", \"Topic2\", \"Topic2\", \"Topic2\", \"Topic2\", \"Topic2\", \"Topic2\", \"Topic2\", \"Topic2\", \"Topic2\", \"Topic2\", \"Topic2\", \"Topic2\", \"Topic2\", \"Topic2\", \"Topic2\", \"Topic2\", \"Topic2\", \"Topic2\", \"Topic2\", \"Topic2\", \"Topic2\", \"Topic2\", \"Topic2\", \"Topic2\", \"Topic2\", \"Topic3\", \"Topic3\", \"Topic3\", \"Topic3\", \"Topic3\", \"Topic3\", \"Topic3\", \"Topic3\", \"Topic3\", \"Topic3\", \"Topic3\", \"Topic3\", \"Topic3\", \"Topic3\", \"Topic3\", \"Topic3\", \"Topic3\", \"Topic3\", \"Topic3\", \"Topic3\", \"Topic3\", \"Topic3\", \"Topic3\", \"Topic3\", \"Topic3\", \"Topic3\", \"Topic3\", \"Topic3\", \"Topic3\", \"Topic3\", \"Topic3\", \"Topic3\", \"Topic3\", \"Topic3\", \"Topic3\", \"Topic3\", \"Topic3\", \"Topic3\", \"Topic4\", \"Topic4\", \"Topic4\", \"Topic4\", \"Topic4\", \"Topic4\", \"Topic4\", \"Topic4\", \"Topic4\", \"Topic4\", \"Topic4\", \"Topic4\", \"Topic4\", \"Topic4\", \"Topic4\", \"Topic4\", \"Topic4\", \"Topic4\", \"Topic4\", \"Topic4\", \"Topic4\", \"Topic4\", \"Topic4\", \"Topic4\", \"Topic4\", \"Topic4\", \"Topic4\", \"Topic4\", \"Topic4\", \"Topic4\", \"Topic4\", \"Topic4\", \"Topic4\", \"Topic4\", \"Topic4\", \"Topic4\", \"Topic4\", \"Topic4\", \"Topic4\"], \"logprob\": [30.0, 29.0, 28.0, 27.0, 26.0, 25.0, 24.0, 23.0, 22.0, 21.0, 20.0, 19.0, 18.0, 17.0, 16.0, 15.0, 14.0, 13.0, 12.0, 11.0, 10.0, 9.0, 8.0, 7.0, 6.0, 5.0, 4.0, 3.0, 2.0, 1.0, -4.318600177764893, -4.318600177764893, -4.318600177764893, -4.318699836730957, -4.320899963378906, -3.4704999923706055, -4.906400203704834, -4.906400203704834, -4.906400203704834, -4.906400203704834, -4.906400203704834, -4.906400203704834, -4.906400203704834, -4.906400203704834, -4.906400203704834, -4.906400203704834, -4.906499862670898, -4.906499862670898, -4.906499862670898, -4.906499862670898, -4.906499862670898, -4.906499862670898, -4.906499862670898, -4.906899929046631, -4.9070000648498535, -4.907199859619141, -4.907199859619141, -4.907299995422363, -4.907299995422363, -4.907400131225586, -2.9052999019622803, -3.682800054550171, -3.6809000968933105, -3.4721999168395996, -3.6816000938415527, -4.317200183868408, -4.318600177764893, -4.320199966430664, -3.679500102996826, -3.9498000144958496, -4.3144001960754395, -4.318299770355225, -4.31850004196167, -4.320499897003174, -4.899700164794922, -4.899799823760986, -4.899799823760986, -4.904099941253662, -4.904699802398682, -4.906099796295166, -4.906400203704834, -3.763400077819824, -3.763700008392334, -4.129199981689453, -4.130199909210205, -4.130799770355225, -4.13129997253418, -4.131400108337402, -3.7618000507354736, -4.7153000831604, -4.7153000831604, -4.7153000831604, -4.7153000831604, -4.7153000831604, -4.717599868774414, -4.717400074005127, -4.7179999351501465, -4.7179999351501465, -4.7179999351501465, -4.718100070953369, -4.718100070953369, -4.718200206756592, -4.718299865722656, -4.7179999351501465, -4.7179999351501465, -4.718599796295166, -4.718599796295166, -4.718100070953369, -4.718200206756592, -4.718299865722656, -4.718299865722656, -4.13129997253418, -3.7643001079559326, -4.13100004196167, -4.711999893188477, -4.712699890136719, -4.714399814605713, -4.7153000831604, -4.7153000831604, -4.7153000831604, -4.715799808502197, -4.715799808502197, -4.716400146484375, -4.717599868774414, -3.187299966812134, -3.8229000568389893, -3.823199987411499, -3.823199987411499, -3.8232998847961426, -3.8234000205993652, -3.8234000205993652, -4.409800052642822, -4.409800052642822, -4.409800052642822, -4.409800052642822, -4.409800052642822, -4.409800052642822, -4.409800052642822, -4.409800052642822, -4.409800052642822, -4.409800052642822, -4.409800052642822, -4.409900188446045, -4.409900188446045, -4.409900188446045, -4.409900188446045, -4.409900188446045, -3.822999954223633, -3.8231000900268555, -3.8232998847961426, -3.8234000205993652, -3.823699951171875, -4.4095001220703125, -4.409800052642822, -3.8232998847961426, -3.8238000869750977, -3.8194000720977783, -4.408699989318848, -4.408899784088135, -4.409599781036377, -4.409800052642822, -4.409800052642822, -3.4367001056671143, -3.8015999794006348, -3.8015999794006348, -3.801800012588501, -3.8052000999450684, -3.8052000999450684, -3.8052000999450684, -3.8052000999450684, -3.8052000999450684, -4.3892998695373535, -4.389400005340576, -4.389400005340576, -4.389400005340576, -4.389500141143799, -4.389800071716309, -4.389800071716309, -4.391499996185303, -4.391600131988525, -4.39169979095459, -4.39169979095459, -4.3917999267578125, -4.391900062561035, -4.392000198364258, -4.392199993133545, -3.801800012588501, -4.389900207519531, -4.3902997970581055, -4.389500141143799, -3.805000066757202, -4.392099857330322, -3.8039000034332275, -4.389500141143799, -4.389500141143799, -4.389800071716309, -4.389900207519531, -4.389999866485596, -4.390100002288818, -4.390200138092041, -4.391300201416016], \"loglift\": [30.0, 29.0, 28.0, 27.0, 26.0, 25.0, 24.0, 23.0, 22.0, 21.0, 20.0, 19.0, 18.0, 17.0, 16.0, 15.0, 14.0, 13.0, 12.0, 11.0, 10.0, 9.0, 8.0, 7.0, 6.0, 5.0, 4.0, 3.0, 2.0, 1.0, 0.7436000108718872, 0.7436000108718872, 0.7436000108718872, 0.7434999942779541, 0.7414000034332275, 0.7269999980926514, 0.5864999890327454, 0.5864999890327454, 0.5864999890327454, 0.5863999724388123, 0.5863999724388123, 0.5863999724388123, 0.5863999724388123, 0.5863999724388123, 0.5863999724388123, 0.5863999724388123, 0.5863999724388123, 0.5863999724388123, 0.5863999724388123, 0.5863999724388123, 0.5863999724388123, 0.5863999724388123, 0.5863999724388123, 0.5860000252723694, 0.5860000252723694, 0.5857999920845032, 0.5857999920845032, 0.5857999920845032, 0.5856999754905701, 0.5856999754905701, 0.5828999876976013, 0.5813999772071838, 0.5527999997138977, 0.5457000136375427, 0.5521000027656555, 0.5131000280380249, 0.511900007724762, 0.5103999972343445, 0.3993000090122223, 0.295199990272522, 0.28690001368522644, 0.2831999957561493, 0.28290000557899475, 0.12370000034570694, -0.04910000041127205, -0.04919999837875366, -0.09939999878406525, 0.18389999866485596, -0.2484000027179718, 0.1818999946117401, 0.18160000443458557, 1.0576000213623047, 1.0568000078201294, 0.9850999712944031, 0.9846000075340271, 0.9837999939918518, 0.9830999970436096, 0.9828000068664551, 0.8723000288009644, 0.8176000118255615, 0.8176000118255615, 0.8176000118255615, 0.8174999952316284, 0.8174999952316284, 0.815500020980835, 0.8152999877929688, 0.8151999711990356, 0.8151000142097473, 0.8151000142097473, 0.8151000142097473, 0.8149999976158142, 0.8149999976158142, 0.8148999810218811, 0.8147000074386597, 0.8147000074386597, 0.8147000074386597, 0.8145999908447266, 0.8145999908447266, 0.8144999742507935, 0.8144000172615051, 0.8144000172615051, 0.6690999865531921, 0.31450000405311584, 0.11400000005960464, -0.2678000032901764, -1.2245999574661255, -0.11299999803304672, 0.4634000062942505, 0.3727000057697296, -0.11379999667406082, 0.3723999857902527, 0.37220001220703125, -0.06019999831914902, 0.46639999747276306, 1.5657999515533447, 1.424299955368042, 1.4240000247955322, 1.4240000247955322, 1.423799991607666, 1.423799991607666, 1.423699975013733, 1.2223000526428223, 1.2223000526428223, 1.2223000526428223, 1.2223000526428223, 1.2223000526428223, 1.2223000526428223, 1.2223000526428223, 1.2223000526428223, 1.2223000526428223, 1.2223000526428223, 1.2223000526428223, 1.2223000526428223, 1.2223000526428223, 1.2223000526428223, 1.2223000526428223, 1.2223000526428223, 1.0728000402450562, 1.072700023651123, 1.07260000705719, 1.0723999738693237, 1.072100043296814, 0.76910001039505, 0.7688999772071838, 0.6208999752998352, 0.1941000074148178, -0.3312000036239624, -0.17499999701976776, -0.1639000028371811, 0.24660000205039978, -0.1761000007390976, 0.7407000064849854, 1.5464999675750732, 1.457200050354004, 1.457200050354004, 1.4570000171661377, 1.4536000490188599, 1.4536000490188599, 1.4536000490188599, 1.4536000490188599, 1.4536000490188599, 1.2512999773025513, 1.251099944114685, 1.251099944114685, 1.251099944114685, 1.2510000467300415, 1.2508000135421753, 1.2506999969482422, 1.2486000061035156, 1.2484999895095825, 1.2483999729156494, 1.2482999563217163, 1.2482999563217163, 1.2481000423431396, 1.2481000423431396, 1.2477999925613403, 1.1021000146865845, 0.7940999865531921, 0.7652999758720398, 0.5103999972343445, 0.459199994802475, 0.4584999978542328, -0.3156999945640564, 0.21199999749660492, 0.44110000133514404, 0.26649999618530273, 0.4406000077724457, 0.21150000393390656, 0.24390000104904175, -0.37229999899864197, 0.20999999344348907]}, \"token.table\": {\"Topic\": [2, 1, 1, 1, 4, 2, 1, 3, 4, 1, 2, 1, 3, 2, 1, 3, 1, 1, 2, 3, 1, 1, 4, 1, 1, 1, 1, 3, 2, 3, 2, 1, 2, 3, 4, 3, 2, 1, 4, 1, 2, 4, 1, 4, 3, 1, 2, 3, 1, 3, 1, 1, 2, 2, 4, 4, 4, 1, 2, 4, 2, 2, 3, 1, 3, 2, 2, 4, 1, 2, 4, 2, 1, 4, 2, 1, 4, 4, 1, 2, 2, 4, 1, 2, 3, 3, 2, 3, 4, 1, 4, 4, 3, 3, 1, 2, 3, 1, 1, 2, 1, 4, 3, 3, 1, 3, 4, 4, 2, 2, 3, 2, 1, 1, 2, 4, 3, 1, 1, 2, 4, 2, 4, 2, 1, 4, 1, 4, 2, 3, 1, 2, 4, 3, 1, 3, 1, 4, 1, 3, 4, 3, 1, 2, 2, 1, 2, 3, 4, 1, 2, 4, 1, 4, 1, 2, 4, 2, 3, 3, 2, 1, 4, 1, 2, 3, 2, 1, 3, 4, 4, 1, 2, 1, 2, 1, 2, 3, 1, 3, 3, 2, 4, 1, 3, 4, 2, 4, 1, 1, 2, 3], \"Freq\": [0.7780104279518127, 0.7475619316101074, 0.7475634217262268, 0.7475635409355164, 0.5915530920028687, 0.7632508873939514, 0.4114817678928375, 0.4114817678928375, 0.8660980463027954, 0.747562050819397, 0.7780103087425232, 0.7476673126220703, 0.5846933126449585, 0.778313159942627, 0.9720451831817627, 0.584688663482666, 0.7475618720054626, 0.5238906741142273, 0.26194533705711365, 0.26194533705711365, 0.747561514377594, 0.9719189405441284, 0.591551661491394, 0.7475627660751343, 0.9719197154045105, 0.7475635409355164, 0.4114839434623718, 0.4114839434623718, 0.5459585189819336, 0.5459585189819336, 0.7780103087425232, 0.7048460245132446, 0.10069229453802109, 0.10069229453802109, 0.10069229453802109, 0.8592758774757385, 0.5122250914573669, 0.4148433208465576, 0.4148433208465576, 0.9719287157058716, 0.7779456377029419, 0.8661069869995117, 0.7475628852844238, 0.8661021590232849, 0.8592737913131714, 0.49865269660949707, 0.49865269660949707, 0.8592758178710938, 0.4114856421947479, 0.4114856421947479, 0.7475634813308716, 0.4986534118652344, 0.4986534118652344, 0.7783424258232117, 0.8664990663528442, 0.5915371775627136, 0.8660744428634644, 0.6131088733673096, 0.3065544366836548, 0.3065544366836548, 0.5120078325271606, 0.511923611164093, 0.5846865773200989, 0.7476243376731873, 0.8592764139175415, 0.7782878279685974, 0.7782827019691467, 0.898055911064148, 0.7475615739822388, 0.5120922327041626, 0.8665294051170349, 0.7779229879379272, 0.5335710048675537, 0.5335710048675537, 0.7782983779907227, 0.7709899544715881, 0.38549497723579407, 0.8665021061897278, 0.7476599216461182, 0.7779349088668823, 0.778338611125946, 0.5915242433547974, 0.4292665719985962, 0.2146332859992981, 0.2146332859992981, 0.5847076773643494, 0.7780105471611023, 0.8592767715454102, 0.8664740324020386, 0.7475650310516357, 0.5915365219116211, 0.8664809465408325, 0.8592735528945923, 0.859276533126831, 0.6366704702377319, 0.21222348511219025, 0.21222348511219025, 0.747562050819397, 0.4987661838531494, 0.4987661838531494, 0.6563479900360107, 0.21878266334533691, 0.8592763543128967, 0.859276533126831, 0.4114725589752197, 0.4114725589752197, 0.86612868309021, 0.8660275936126709, 0.5119754672050476, 0.777935266494751, 0.5847088694572449, 0.7782425284385681, 0.7476754784584045, 0.3932742476463318, 0.3932742476463318, 0.3932742476463318, 0.8592752814292908, 0.7476370930671692, 0.39328593015670776, 0.39328593015670776, 0.39328593015670776, 0.6333936452865601, 0.31669682264328003, 0.7779188752174377, 0.7476800084114075, 0.8660641312599182, 0.7709183692932129, 0.38545918464660645, 0.7782860994338989, 0.8592747449874878, 0.6131188869476318, 0.3065594434738159, 0.3065594434738159, 0.8592760562896729, 0.5308524966239929, 0.5308524966239929, 0.7475612759590149, 0.5915519595146179, 0.6840825080871582, 0.17102062702178955, 0.17102062702178955, 0.8592764139175415, 0.8186855316162109, 0.20467138290405273, 0.7782915234565735, 0.3238164484500885, 0.3238164484500885, 0.3238164484500885, 0.3238164484500885, 0.37403634190559387, 0.37403634190559387, 0.5915526151657104, 0.7475601434707642, 0.8664774894714355, 0.6130052804946899, 0.30650264024734497, 0.30650264024734497, 0.5460013747215271, 0.5460013747215271, 0.8592745661735535, 0.7635745406150818, 0.7707847356796265, 0.38539236783981323, 0.4986506998538971, 0.4986506998538971, 0.859276533126831, 0.7780107259750366, 0.4114615321159363, 0.4114615321159363, 0.8665022253990173, 0.8661417365074158, 0.7475659251213074, 0.7779316306114197, 0.7475618124008179, 0.7783032655715942, 0.5452804565429688, 0.3635202944278717, 0.8592754006385803, 0.7476561069488525, 0.584733784198761, 0.7135318517684937, 0.7779227495193481, 0.5915527939796448, 0.4131881296634674, 0.4131881296634674, 0.4131881296634674, 0.5489045977592468, 0.5489045977592468, 0.9719181656837463, 0.6366586089134216, 0.21221953630447388, 0.21221953630447388], \"Term\": [\"also\", \"amazing\", \"ancient\", \"animate\", \"appeal\", \"area\", \"arm\", \"arm\", \"around\", \"arrive\", \"ask\", \"bearing\", \"bottom\", \"bring\", \"british\", \"build\", \"business\", \"call\", \"call\", \"call\", \"car\", \"central\", \"certainly\", \"city\", \"class\", \"close\", \"coat\", \"coat\", \"coffee\", \"coffee\", \"colomn\", \"column\", \"column\", \"column\", \"column\", \"contemplate\", \"control\", \"court\", \"court\", \"cross\", \"difference\", \"different\", \"divide\", \"drawback\", \"easily\", \"even\", \"even\", \"existence\", \"family\", \"family\", \"famous\", \"feed\", \"feed\", \"first\", \"follow\", \"free\", \"gather\", \"go\", \"go\", \"go\", \"great\", \"green\", \"ground\", \"handy\", \"happy\", \"height\", \"historically\", \"history\", \"hour\", \"impressive\", \"information\", \"instead\", \"interesting\", \"interesting\", \"island\", \"know\", \"know\", \"lack\", \"landmark\", \"last\", \"later\", \"law\", \"look\", \"look\", \"look\", \"lot\", \"love\", \"main\", \"make\", \"many\", \"map\", \"mark\", \"middle\", \"minute\", \"monument\", \"monument\", \"monument\", \"monumental\", \"move\", \"move\", \"much\", \"much\", \"nearby\", \"new\", \"noble\", \"noble\", \"northern\", \"number\", \"old\", \"one\", \"orb\", \"originally\", \"overrated\", \"part\", \"part\", \"part\", \"pass\", \"pidgeon\", \"pigeon\", \"pigeon\", \"pigeon\", \"place\", \"place\", \"pleasant\", \"point\", \"proud\", \"quite\", \"quite\", \"raise\", \"realise\", \"really\", \"really\", \"really\", \"reside\", \"road\", \"road\", \"saw\", \"say\", \"see\", \"see\", \"see\", \"set\", \"side\", \"side\", \"significant\", \"sit\", \"sit\", \"sit\", \"sit\", \"situate\", \"situate\", \"small\", \"sorry\", \"specifically\", \"stand\", \"stand\", \"stand\", \"stop\", \"stop\", \"street\", \"take\", \"tall\", \"tall\", \"taxi\", \"taxi\", \"think\", \"time\", \"top\", \"top\", \"tourist\", \"tower\", \"transport\", \"tree\", \"trip\", \"turk\", \"turkish\", \"turkish\", \"unfortunately\", \"vantage\", \"various\", \"venetian\", \"visit\", \"visitor\", \"walk\", \"walk\", \"walk\", \"watch\", \"watch\", \"way\", \"worth\", \"worth\", \"worth\"]}, \"R\": 30, \"lambda.step\": 0.01, \"plot.opts\": {\"xlab\": \"PC1\", \"ylab\": \"PC2\"}, \"topic.order\": [1, 3, 4, 2]};\n",
       "\n",
       "function LDAvis_load_lib(url, callback){\n",
       "  var s = document.createElement('script');\n",
       "  s.src = url;\n",
       "  s.async = true;\n",
       "  s.onreadystatechange = s.onload = callback;\n",
       "  s.onerror = function(){console.warn(\"failed to load library \" + url);};\n",
       "  document.getElementsByTagName(\"head\")[0].appendChild(s);\n",
       "}\n",
       "\n",
       "if(typeof(LDAvis) !== \"undefined\"){\n",
       "   // already loaded: just create the visualization\n",
       "   !function(LDAvis){\n",
       "       new LDAvis(\"#\" + \"ldavis_el2028819456167726802155497764\", ldavis_el2028819456167726802155497764_data);\n",
       "   }(LDAvis);\n",
       "}else if(typeof define === \"function\" && define.amd){\n",
       "   // require.js is available: use it to load d3/LDAvis\n",
       "   require.config({paths: {d3: \"https://cdnjs.cloudflare.com/ajax/libs/d3/3.5.5/d3.min\"}});\n",
       "   require([\"d3\"], function(d3){\n",
       "      window.d3 = d3;\n",
       "      LDAvis_load_lib(\"https://cdn.rawgit.com/bmabey/pyLDAvis/files/ldavis.v1.0.0.js\", function(){\n",
       "        new LDAvis(\"#\" + \"ldavis_el2028819456167726802155497764\", ldavis_el2028819456167726802155497764_data);\n",
       "      });\n",
       "    });\n",
       "}else{\n",
       "    // require.js not available: dynamically load d3 & LDAvis\n",
       "    LDAvis_load_lib(\"https://cdnjs.cloudflare.com/ajax/libs/d3/3.5.5/d3.min.js\", function(){\n",
       "         LDAvis_load_lib(\"https://cdn.rawgit.com/bmabey/pyLDAvis/files/ldavis.v1.0.0.js\", function(){\n",
       "                 new LDAvis(\"#\" + \"ldavis_el2028819456167726802155497764\", ldavis_el2028819456167726802155497764_data);\n",
       "            })\n",
       "         });\n",
       "}\n",
       "</script>"
      ],
      "text/plain": [
       "PreparedData(topic_coordinates=              x         y  topics  cluster       Freq\n",
       "topic                                                \n",
       "0     -0.086162 -0.070826       1        1  37.431530\n",
       "2     -0.070741  0.115005       2        1  28.669798\n",
       "3      0.069296 -0.104255       3        1  17.278641\n",
       "1      0.087607  0.060077       4        1  16.620026, topic_info=        Term      Freq     Total Category  logprob  loglift\n",
       "42  venetian  2.000000  2.000000  Default  30.0000  30.0000\n",
       "45   history  2.000000  2.000000  Default  29.0000  29.0000\n",
       "24      much  4.000000  4.000000  Default  28.0000  28.0000\n",
       "13      free  1.000000  1.000000  Default  27.0000  27.0000\n",
       "18       map  1.000000  1.000000  Default  26.0000  26.0000\n",
       "..       ...       ...       ...      ...      ...      ...\n",
       "52     quite  0.669914  2.594308   Topic4  -4.3899   0.4406\n",
       "3         go  0.669831  3.262064   Topic4  -4.3900   0.2115\n",
       "6      place  0.669767  3.157594   Topic4  -4.3901   0.2439\n",
       "39       see  0.669725  5.847248   Topic4  -4.3902  -0.3723\n",
       "53     stand  0.668981  3.262615   Topic4  -4.3913   0.2100\n",
       "\n",
       "[201 rows x 6 columns], token_table=      Topic      Freq     Term\n",
       "term                          \n",
       "0         2  0.778010     also\n",
       "137       1  0.747562  amazing\n",
       "168       1  0.747563  ancient\n",
       "169       1  0.747564  animate\n",
       "43        4  0.591553   appeal\n",
       "...     ...       ...      ...\n",
       "111       4  0.548905    watch\n",
       "55        1  0.971918      way\n",
       "27        1  0.636659    worth\n",
       "27        2  0.212220    worth\n",
       "27        3  0.212220    worth\n",
       "\n",
       "[192 rows x 3 columns], R=30, lambda_step=0.01, plot_opts={'xlab': 'PC1', 'ylab': 'PC2'}, topic_order=[1, 3, 4, 2])"
      ]
     },
     "metadata": {},
     "output_type": "display_data"
    }
   ],
   "source": [
    "plot_model(lda_pos_custom, plot ='topic_model')"
   ]
  },
  {
   "cell_type": "code",
   "execution_count": 14,
   "metadata": {},
   "outputs": [
    {
     "data": {
      "application/vnd.jupyter.widget-view+json": {
       "model_id": "",
       "version_major": 2,
       "version_minor": 0
      },
      "text/plain": [
       "IntProgress(value=0, description='Processing: ', max=25)"
      ]
     },
     "metadata": {},
     "output_type": "display_data"
    },
    {
     "data": {
      "application/vnd.jupyter.widget-view+json": {
       "model_id": "c3d0dbe3567b4468b0175089aeca9970",
       "version_major": 2,
       "version_minor": 0
      },
      "text/plain": [
       "Output()"
      ]
     },
     "metadata": {},
     "output_type": "display_data"
    },
    {
     "data": {
      "text/html": [
       "        <script type=\"text/javascript\">\n",
       "        window.PlotlyConfig = {MathJaxConfig: 'local'};\n",
       "        if (window.MathJax) {MathJax.Hub.Config({SVG: {font: \"STIX-Web\"}});}\n",
       "        if (typeof require !== 'undefined') {\n",
       "        require.undef(\"plotly\");\n",
       "        requirejs.config({\n",
       "            paths: {\n",
       "                'plotly': ['https://cdn.plot.ly/plotly-latest.min']\n",
       "            }\n",
       "        });\n",
       "        require(['plotly'], function(Plotly) {\n",
       "            window._Plotly = Plotly;\n",
       "        });\n",
       "        }\n",
       "        </script>\n",
       "        "
      ]
     },
     "metadata": {},
     "output_type": "display_data"
    },
    {
     "data": {
      "application/vnd.plotly.v1+json": {
       "config": {
        "plotlyServerURL": "https://plot.ly"
       },
       "data": [
        {
         "hovertemplate": "Metric=Coherence<br># Topics=%{x}<br>Score=%{y}<extra></extra>",
         "legendgroup": "Coherence",
         "line": {
          "color": "#636efa",
          "dash": "solid",
          "shape": "linear"
         },
         "mode": "lines",
         "name": "Coherence",
         "orientation": "v",
         "showlegend": true,
         "type": "scatter",
         "x": [
          2,
          4,
          8,
          16,
          32,
          64,
          100,
          200,
          300,
          400
         ],
         "xaxis": "x",
         "y": [
          0.35734299599593244,
          0.36234918380866654,
          0.32272828484988725,
          0.3914756728614185,
          0.4424901597947118,
          0.4341261485866373,
          0.39625675151588075,
          0.37983380632531705,
          0.37232778837846475,
          0.3693238743991472
         ],
         "yaxis": "y"
        }
       ],
       "layout": {
        "legend": {
         "title": {
          "text": "Metric"
         },
         "tracegroupgap": 0
        },
        "plot_bgcolor": "rgb(245,245,245)",
        "template": {
         "data": {
          "bar": [
           {
            "error_x": {
             "color": "#2a3f5f"
            },
            "error_y": {
             "color": "#2a3f5f"
            },
            "marker": {
             "line": {
              "color": "#E5ECF6",
              "width": 0.5
             }
            },
            "type": "bar"
           }
          ],
          "barpolar": [
           {
            "marker": {
             "line": {
              "color": "#E5ECF6",
              "width": 0.5
             }
            },
            "type": "barpolar"
           }
          ],
          "carpet": [
           {
            "aaxis": {
             "endlinecolor": "#2a3f5f",
             "gridcolor": "white",
             "linecolor": "white",
             "minorgridcolor": "white",
             "startlinecolor": "#2a3f5f"
            },
            "baxis": {
             "endlinecolor": "#2a3f5f",
             "gridcolor": "white",
             "linecolor": "white",
             "minorgridcolor": "white",
             "startlinecolor": "#2a3f5f"
            },
            "type": "carpet"
           }
          ],
          "choropleth": [
           {
            "colorbar": {
             "outlinewidth": 0,
             "ticks": ""
            },
            "type": "choropleth"
           }
          ],
          "contour": [
           {
            "colorbar": {
             "outlinewidth": 0,
             "ticks": ""
            },
            "colorscale": [
             [
              0,
              "#0d0887"
             ],
             [
              0.1111111111111111,
              "#46039f"
             ],
             [
              0.2222222222222222,
              "#7201a8"
             ],
             [
              0.3333333333333333,
              "#9c179e"
             ],
             [
              0.4444444444444444,
              "#bd3786"
             ],
             [
              0.5555555555555556,
              "#d8576b"
             ],
             [
              0.6666666666666666,
              "#ed7953"
             ],
             [
              0.7777777777777778,
              "#fb9f3a"
             ],
             [
              0.8888888888888888,
              "#fdca26"
             ],
             [
              1,
              "#f0f921"
             ]
            ],
            "type": "contour"
           }
          ],
          "contourcarpet": [
           {
            "colorbar": {
             "outlinewidth": 0,
             "ticks": ""
            },
            "type": "contourcarpet"
           }
          ],
          "heatmap": [
           {
            "colorbar": {
             "outlinewidth": 0,
             "ticks": ""
            },
            "colorscale": [
             [
              0,
              "#0d0887"
             ],
             [
              0.1111111111111111,
              "#46039f"
             ],
             [
              0.2222222222222222,
              "#7201a8"
             ],
             [
              0.3333333333333333,
              "#9c179e"
             ],
             [
              0.4444444444444444,
              "#bd3786"
             ],
             [
              0.5555555555555556,
              "#d8576b"
             ],
             [
              0.6666666666666666,
              "#ed7953"
             ],
             [
              0.7777777777777778,
              "#fb9f3a"
             ],
             [
              0.8888888888888888,
              "#fdca26"
             ],
             [
              1,
              "#f0f921"
             ]
            ],
            "type": "heatmap"
           }
          ],
          "heatmapgl": [
           {
            "colorbar": {
             "outlinewidth": 0,
             "ticks": ""
            },
            "colorscale": [
             [
              0,
              "#0d0887"
             ],
             [
              0.1111111111111111,
              "#46039f"
             ],
             [
              0.2222222222222222,
              "#7201a8"
             ],
             [
              0.3333333333333333,
              "#9c179e"
             ],
             [
              0.4444444444444444,
              "#bd3786"
             ],
             [
              0.5555555555555556,
              "#d8576b"
             ],
             [
              0.6666666666666666,
              "#ed7953"
             ],
             [
              0.7777777777777778,
              "#fb9f3a"
             ],
             [
              0.8888888888888888,
              "#fdca26"
             ],
             [
              1,
              "#f0f921"
             ]
            ],
            "type": "heatmapgl"
           }
          ],
          "histogram": [
           {
            "marker": {
             "colorbar": {
              "outlinewidth": 0,
              "ticks": ""
             }
            },
            "type": "histogram"
           }
          ],
          "histogram2d": [
           {
            "colorbar": {
             "outlinewidth": 0,
             "ticks": ""
            },
            "colorscale": [
             [
              0,
              "#0d0887"
             ],
             [
              0.1111111111111111,
              "#46039f"
             ],
             [
              0.2222222222222222,
              "#7201a8"
             ],
             [
              0.3333333333333333,
              "#9c179e"
             ],
             [
              0.4444444444444444,
              "#bd3786"
             ],
             [
              0.5555555555555556,
              "#d8576b"
             ],
             [
              0.6666666666666666,
              "#ed7953"
             ],
             [
              0.7777777777777778,
              "#fb9f3a"
             ],
             [
              0.8888888888888888,
              "#fdca26"
             ],
             [
              1,
              "#f0f921"
             ]
            ],
            "type": "histogram2d"
           }
          ],
          "histogram2dcontour": [
           {
            "colorbar": {
             "outlinewidth": 0,
             "ticks": ""
            },
            "colorscale": [
             [
              0,
              "#0d0887"
             ],
             [
              0.1111111111111111,
              "#46039f"
             ],
             [
              0.2222222222222222,
              "#7201a8"
             ],
             [
              0.3333333333333333,
              "#9c179e"
             ],
             [
              0.4444444444444444,
              "#bd3786"
             ],
             [
              0.5555555555555556,
              "#d8576b"
             ],
             [
              0.6666666666666666,
              "#ed7953"
             ],
             [
              0.7777777777777778,
              "#fb9f3a"
             ],
             [
              0.8888888888888888,
              "#fdca26"
             ],
             [
              1,
              "#f0f921"
             ]
            ],
            "type": "histogram2dcontour"
           }
          ],
          "mesh3d": [
           {
            "colorbar": {
             "outlinewidth": 0,
             "ticks": ""
            },
            "type": "mesh3d"
           }
          ],
          "parcoords": [
           {
            "line": {
             "colorbar": {
              "outlinewidth": 0,
              "ticks": ""
             }
            },
            "type": "parcoords"
           }
          ],
          "pie": [
           {
            "automargin": true,
            "type": "pie"
           }
          ],
          "scatter": [
           {
            "marker": {
             "colorbar": {
              "outlinewidth": 0,
              "ticks": ""
             }
            },
            "type": "scatter"
           }
          ],
          "scatter3d": [
           {
            "line": {
             "colorbar": {
              "outlinewidth": 0,
              "ticks": ""
             }
            },
            "marker": {
             "colorbar": {
              "outlinewidth": 0,
              "ticks": ""
             }
            },
            "type": "scatter3d"
           }
          ],
          "scattercarpet": [
           {
            "marker": {
             "colorbar": {
              "outlinewidth": 0,
              "ticks": ""
             }
            },
            "type": "scattercarpet"
           }
          ],
          "scattergeo": [
           {
            "marker": {
             "colorbar": {
              "outlinewidth": 0,
              "ticks": ""
             }
            },
            "type": "scattergeo"
           }
          ],
          "scattergl": [
           {
            "marker": {
             "colorbar": {
              "outlinewidth": 0,
              "ticks": ""
             }
            },
            "type": "scattergl"
           }
          ],
          "scattermapbox": [
           {
            "marker": {
             "colorbar": {
              "outlinewidth": 0,
              "ticks": ""
             }
            },
            "type": "scattermapbox"
           }
          ],
          "scatterpolar": [
           {
            "marker": {
             "colorbar": {
              "outlinewidth": 0,
              "ticks": ""
             }
            },
            "type": "scatterpolar"
           }
          ],
          "scatterpolargl": [
           {
            "marker": {
             "colorbar": {
              "outlinewidth": 0,
              "ticks": ""
             }
            },
            "type": "scatterpolargl"
           }
          ],
          "scatterternary": [
           {
            "marker": {
             "colorbar": {
              "outlinewidth": 0,
              "ticks": ""
             }
            },
            "type": "scatterternary"
           }
          ],
          "surface": [
           {
            "colorbar": {
             "outlinewidth": 0,
             "ticks": ""
            },
            "colorscale": [
             [
              0,
              "#0d0887"
             ],
             [
              0.1111111111111111,
              "#46039f"
             ],
             [
              0.2222222222222222,
              "#7201a8"
             ],
             [
              0.3333333333333333,
              "#9c179e"
             ],
             [
              0.4444444444444444,
              "#bd3786"
             ],
             [
              0.5555555555555556,
              "#d8576b"
             ],
             [
              0.6666666666666666,
              "#ed7953"
             ],
             [
              0.7777777777777778,
              "#fb9f3a"
             ],
             [
              0.8888888888888888,
              "#fdca26"
             ],
             [
              1,
              "#f0f921"
             ]
            ],
            "type": "surface"
           }
          ],
          "table": [
           {
            "cells": {
             "fill": {
              "color": "#EBF0F8"
             },
             "line": {
              "color": "white"
             }
            },
            "header": {
             "fill": {
              "color": "#C8D4E3"
             },
             "line": {
              "color": "white"
             }
            },
            "type": "table"
           }
          ]
         },
         "layout": {
          "annotationdefaults": {
           "arrowcolor": "#2a3f5f",
           "arrowhead": 0,
           "arrowwidth": 1
          },
          "coloraxis": {
           "colorbar": {
            "outlinewidth": 0,
            "ticks": ""
           }
          },
          "colorscale": {
           "diverging": [
            [
             0,
             "#8e0152"
            ],
            [
             0.1,
             "#c51b7d"
            ],
            [
             0.2,
             "#de77ae"
            ],
            [
             0.3,
             "#f1b6da"
            ],
            [
             0.4,
             "#fde0ef"
            ],
            [
             0.5,
             "#f7f7f7"
            ],
            [
             0.6,
             "#e6f5d0"
            ],
            [
             0.7,
             "#b8e186"
            ],
            [
             0.8,
             "#7fbc41"
            ],
            [
             0.9,
             "#4d9221"
            ],
            [
             1,
             "#276419"
            ]
           ],
           "sequential": [
            [
             0,
             "#0d0887"
            ],
            [
             0.1111111111111111,
             "#46039f"
            ],
            [
             0.2222222222222222,
             "#7201a8"
            ],
            [
             0.3333333333333333,
             "#9c179e"
            ],
            [
             0.4444444444444444,
             "#bd3786"
            ],
            [
             0.5555555555555556,
             "#d8576b"
            ],
            [
             0.6666666666666666,
             "#ed7953"
            ],
            [
             0.7777777777777778,
             "#fb9f3a"
            ],
            [
             0.8888888888888888,
             "#fdca26"
            ],
            [
             1,
             "#f0f921"
            ]
           ],
           "sequentialminus": [
            [
             0,
             "#0d0887"
            ],
            [
             0.1111111111111111,
             "#46039f"
            ],
            [
             0.2222222222222222,
             "#7201a8"
            ],
            [
             0.3333333333333333,
             "#9c179e"
            ],
            [
             0.4444444444444444,
             "#bd3786"
            ],
            [
             0.5555555555555556,
             "#d8576b"
            ],
            [
             0.6666666666666666,
             "#ed7953"
            ],
            [
             0.7777777777777778,
             "#fb9f3a"
            ],
            [
             0.8888888888888888,
             "#fdca26"
            ],
            [
             1,
             "#f0f921"
            ]
           ]
          },
          "colorway": [
           "#636efa",
           "#EF553B",
           "#00cc96",
           "#ab63fa",
           "#FFA15A",
           "#19d3f3",
           "#FF6692",
           "#B6E880",
           "#FF97FF",
           "#FECB52"
          ],
          "font": {
           "color": "#2a3f5f"
          },
          "geo": {
           "bgcolor": "white",
           "lakecolor": "white",
           "landcolor": "#E5ECF6",
           "showlakes": true,
           "showland": true,
           "subunitcolor": "white"
          },
          "hoverlabel": {
           "align": "left"
          },
          "hovermode": "closest",
          "mapbox": {
           "style": "light"
          },
          "paper_bgcolor": "white",
          "plot_bgcolor": "#E5ECF6",
          "polar": {
           "angularaxis": {
            "gridcolor": "white",
            "linecolor": "white",
            "ticks": ""
           },
           "bgcolor": "#E5ECF6",
           "radialaxis": {
            "gridcolor": "white",
            "linecolor": "white",
            "ticks": ""
           }
          },
          "scene": {
           "xaxis": {
            "backgroundcolor": "#E5ECF6",
            "gridcolor": "white",
            "gridwidth": 2,
            "linecolor": "white",
            "showbackground": true,
            "ticks": "",
            "zerolinecolor": "white"
           },
           "yaxis": {
            "backgroundcolor": "#E5ECF6",
            "gridcolor": "white",
            "gridwidth": 2,
            "linecolor": "white",
            "showbackground": true,
            "ticks": "",
            "zerolinecolor": "white"
           },
           "zaxis": {
            "backgroundcolor": "#E5ECF6",
            "gridcolor": "white",
            "gridwidth": 2,
            "linecolor": "white",
            "showbackground": true,
            "ticks": "",
            "zerolinecolor": "white"
           }
          },
          "shapedefaults": {
           "line": {
            "color": "#2a3f5f"
           }
          },
          "ternary": {
           "aaxis": {
            "gridcolor": "white",
            "linecolor": "white",
            "ticks": ""
           },
           "baxis": {
            "gridcolor": "white",
            "linecolor": "white",
            "ticks": ""
           },
           "bgcolor": "#E5ECF6",
           "caxis": {
            "gridcolor": "white",
            "linecolor": "white",
            "ticks": ""
           }
          },
          "title": {
           "x": 0.05
          },
          "xaxis": {
           "automargin": true,
           "gridcolor": "white",
           "linecolor": "white",
           "ticks": "",
           "title": {
            "standoff": 15
           },
           "zerolinecolor": "white",
           "zerolinewidth": 2
          },
          "yaxis": {
           "automargin": true,
           "gridcolor": "white",
           "linecolor": "white",
           "ticks": "",
           "title": {
            "standoff": 15
           },
           "zerolinecolor": "white",
           "zerolinewidth": 2
          }
         }
        },
        "title": {
         "text": "Coherence Value and # of Topics"
        },
        "xaxis": {
         "anchor": "y",
         "domain": [
          0,
          1
         ],
         "title": {
          "text": "# Topics"
         }
        },
        "yaxis": {
         "anchor": "x",
         "domain": [
          0,
          1
         ],
         "title": {
          "text": "Score"
         }
        }
       }
      },
      "text/html": [
       "<div>\n",
       "        \n",
       "        \n",
       "            <div id=\"1226fef2-69fb-48ce-aa5e-c0eec05a5696\" class=\"plotly-graph-div\" style=\"height:525px; width:100%;\"></div>\n",
       "            <script type=\"text/javascript\">\n",
       "                require([\"plotly\"], function(Plotly) {\n",
       "                    window.PLOTLYENV=window.PLOTLYENV || {};\n",
       "                    \n",
       "                if (document.getElementById(\"1226fef2-69fb-48ce-aa5e-c0eec05a5696\")) {\n",
       "                    Plotly.newPlot(\n",
       "                        '1226fef2-69fb-48ce-aa5e-c0eec05a5696',\n",
       "                        [{\"hovertemplate\": \"Metric=Coherence<br># Topics=%{x}<br>Score=%{y}<extra></extra>\", \"legendgroup\": \"Coherence\", \"line\": {\"color\": \"#636efa\", \"dash\": \"solid\", \"shape\": \"linear\"}, \"mode\": \"lines\", \"name\": \"Coherence\", \"orientation\": \"v\", \"showlegend\": true, \"type\": \"scatter\", \"x\": [2, 4, 8, 16, 32, 64, 100, 200, 300, 400], \"xaxis\": \"x\", \"y\": [0.35734299599593244, 0.36234918380866654, 0.32272828484988725, 0.3914756728614185, 0.4424901597947118, 0.4341261485866373, 0.39625675151588075, 0.37983380632531705, 0.37232778837846475, 0.3693238743991472], \"yaxis\": \"y\"}],\n",
       "                        {\"legend\": {\"title\": {\"text\": \"Metric\"}, \"tracegroupgap\": 0}, \"plot_bgcolor\": \"rgb(245,245,245)\", \"template\": {\"data\": {\"bar\": [{\"error_x\": {\"color\": \"#2a3f5f\"}, \"error_y\": {\"color\": \"#2a3f5f\"}, \"marker\": {\"line\": {\"color\": \"#E5ECF6\", \"width\": 0.5}}, \"type\": \"bar\"}], \"barpolar\": [{\"marker\": {\"line\": {\"color\": \"#E5ECF6\", \"width\": 0.5}}, \"type\": \"barpolar\"}], \"carpet\": [{\"aaxis\": {\"endlinecolor\": \"#2a3f5f\", \"gridcolor\": \"white\", \"linecolor\": \"white\", \"minorgridcolor\": \"white\", \"startlinecolor\": \"#2a3f5f\"}, \"baxis\": {\"endlinecolor\": \"#2a3f5f\", \"gridcolor\": \"white\", \"linecolor\": \"white\", \"minorgridcolor\": \"white\", \"startlinecolor\": \"#2a3f5f\"}, \"type\": \"carpet\"}], \"choropleth\": [{\"colorbar\": {\"outlinewidth\": 0, \"ticks\": \"\"}, \"type\": \"choropleth\"}], \"contour\": [{\"colorbar\": {\"outlinewidth\": 0, \"ticks\": \"\"}, \"colorscale\": [[0.0, \"#0d0887\"], [0.1111111111111111, \"#46039f\"], [0.2222222222222222, \"#7201a8\"], [0.3333333333333333, \"#9c179e\"], [0.4444444444444444, \"#bd3786\"], [0.5555555555555556, \"#d8576b\"], [0.6666666666666666, \"#ed7953\"], [0.7777777777777778, \"#fb9f3a\"], [0.8888888888888888, \"#fdca26\"], [1.0, \"#f0f921\"]], \"type\": \"contour\"}], \"contourcarpet\": [{\"colorbar\": {\"outlinewidth\": 0, \"ticks\": \"\"}, \"type\": \"contourcarpet\"}], \"heatmap\": [{\"colorbar\": {\"outlinewidth\": 0, \"ticks\": \"\"}, \"colorscale\": [[0.0, \"#0d0887\"], [0.1111111111111111, \"#46039f\"], [0.2222222222222222, \"#7201a8\"], [0.3333333333333333, \"#9c179e\"], [0.4444444444444444, \"#bd3786\"], [0.5555555555555556, \"#d8576b\"], [0.6666666666666666, \"#ed7953\"], [0.7777777777777778, \"#fb9f3a\"], [0.8888888888888888, \"#fdca26\"], [1.0, \"#f0f921\"]], \"type\": \"heatmap\"}], \"heatmapgl\": [{\"colorbar\": {\"outlinewidth\": 0, \"ticks\": \"\"}, \"colorscale\": [[0.0, \"#0d0887\"], [0.1111111111111111, \"#46039f\"], [0.2222222222222222, \"#7201a8\"], [0.3333333333333333, \"#9c179e\"], [0.4444444444444444, \"#bd3786\"], [0.5555555555555556, \"#d8576b\"], [0.6666666666666666, \"#ed7953\"], [0.7777777777777778, \"#fb9f3a\"], [0.8888888888888888, \"#fdca26\"], [1.0, \"#f0f921\"]], \"type\": \"heatmapgl\"}], \"histogram\": [{\"marker\": {\"colorbar\": {\"outlinewidth\": 0, \"ticks\": \"\"}}, \"type\": \"histogram\"}], \"histogram2d\": [{\"colorbar\": {\"outlinewidth\": 0, \"ticks\": \"\"}, \"colorscale\": [[0.0, \"#0d0887\"], [0.1111111111111111, \"#46039f\"], [0.2222222222222222, \"#7201a8\"], [0.3333333333333333, \"#9c179e\"], [0.4444444444444444, \"#bd3786\"], [0.5555555555555556, \"#d8576b\"], [0.6666666666666666, \"#ed7953\"], [0.7777777777777778, \"#fb9f3a\"], [0.8888888888888888, \"#fdca26\"], [1.0, \"#f0f921\"]], \"type\": \"histogram2d\"}], \"histogram2dcontour\": [{\"colorbar\": {\"outlinewidth\": 0, \"ticks\": \"\"}, \"colorscale\": [[0.0, \"#0d0887\"], [0.1111111111111111, \"#46039f\"], [0.2222222222222222, \"#7201a8\"], [0.3333333333333333, \"#9c179e\"], [0.4444444444444444, \"#bd3786\"], [0.5555555555555556, \"#d8576b\"], [0.6666666666666666, \"#ed7953\"], [0.7777777777777778, \"#fb9f3a\"], [0.8888888888888888, \"#fdca26\"], [1.0, \"#f0f921\"]], \"type\": \"histogram2dcontour\"}], \"mesh3d\": [{\"colorbar\": {\"outlinewidth\": 0, \"ticks\": \"\"}, \"type\": \"mesh3d\"}], \"parcoords\": [{\"line\": {\"colorbar\": {\"outlinewidth\": 0, \"ticks\": \"\"}}, \"type\": \"parcoords\"}], \"pie\": [{\"automargin\": true, \"type\": \"pie\"}], \"scatter\": [{\"marker\": {\"colorbar\": {\"outlinewidth\": 0, \"ticks\": \"\"}}, \"type\": \"scatter\"}], \"scatter3d\": [{\"line\": {\"colorbar\": {\"outlinewidth\": 0, \"ticks\": \"\"}}, \"marker\": {\"colorbar\": {\"outlinewidth\": 0, \"ticks\": \"\"}}, \"type\": \"scatter3d\"}], \"scattercarpet\": [{\"marker\": {\"colorbar\": {\"outlinewidth\": 0, \"ticks\": \"\"}}, \"type\": \"scattercarpet\"}], \"scattergeo\": [{\"marker\": {\"colorbar\": {\"outlinewidth\": 0, \"ticks\": \"\"}}, \"type\": \"scattergeo\"}], \"scattergl\": [{\"marker\": {\"colorbar\": {\"outlinewidth\": 0, \"ticks\": \"\"}}, \"type\": \"scattergl\"}], \"scattermapbox\": [{\"marker\": {\"colorbar\": {\"outlinewidth\": 0, \"ticks\": \"\"}}, \"type\": \"scattermapbox\"}], \"scatterpolar\": [{\"marker\": {\"colorbar\": {\"outlinewidth\": 0, \"ticks\": \"\"}}, \"type\": \"scatterpolar\"}], \"scatterpolargl\": [{\"marker\": {\"colorbar\": {\"outlinewidth\": 0, \"ticks\": \"\"}}, \"type\": \"scatterpolargl\"}], \"scatterternary\": [{\"marker\": {\"colorbar\": {\"outlinewidth\": 0, \"ticks\": \"\"}}, \"type\": \"scatterternary\"}], \"surface\": [{\"colorbar\": {\"outlinewidth\": 0, \"ticks\": \"\"}, \"colorscale\": [[0.0, \"#0d0887\"], [0.1111111111111111, \"#46039f\"], [0.2222222222222222, \"#7201a8\"], [0.3333333333333333, \"#9c179e\"], [0.4444444444444444, \"#bd3786\"], [0.5555555555555556, \"#d8576b\"], [0.6666666666666666, \"#ed7953\"], [0.7777777777777778, \"#fb9f3a\"], [0.8888888888888888, \"#fdca26\"], [1.0, \"#f0f921\"]], \"type\": \"surface\"}], \"table\": [{\"cells\": {\"fill\": {\"color\": \"#EBF0F8\"}, \"line\": {\"color\": \"white\"}}, \"header\": {\"fill\": {\"color\": \"#C8D4E3\"}, \"line\": {\"color\": \"white\"}}, \"type\": \"table\"}]}, \"layout\": {\"annotationdefaults\": {\"arrowcolor\": \"#2a3f5f\", \"arrowhead\": 0, \"arrowwidth\": 1}, \"coloraxis\": {\"colorbar\": {\"outlinewidth\": 0, \"ticks\": \"\"}}, \"colorscale\": {\"diverging\": [[0, \"#8e0152\"], [0.1, \"#c51b7d\"], [0.2, \"#de77ae\"], [0.3, \"#f1b6da\"], [0.4, \"#fde0ef\"], [0.5, \"#f7f7f7\"], [0.6, \"#e6f5d0\"], [0.7, \"#b8e186\"], [0.8, \"#7fbc41\"], [0.9, \"#4d9221\"], [1, \"#276419\"]], \"sequential\": [[0.0, \"#0d0887\"], [0.1111111111111111, \"#46039f\"], [0.2222222222222222, \"#7201a8\"], [0.3333333333333333, \"#9c179e\"], [0.4444444444444444, \"#bd3786\"], [0.5555555555555556, \"#d8576b\"], [0.6666666666666666, \"#ed7953\"], [0.7777777777777778, \"#fb9f3a\"], [0.8888888888888888, \"#fdca26\"], [1.0, \"#f0f921\"]], \"sequentialminus\": [[0.0, \"#0d0887\"], [0.1111111111111111, \"#46039f\"], [0.2222222222222222, \"#7201a8\"], [0.3333333333333333, \"#9c179e\"], [0.4444444444444444, \"#bd3786\"], [0.5555555555555556, \"#d8576b\"], [0.6666666666666666, \"#ed7953\"], [0.7777777777777778, \"#fb9f3a\"], [0.8888888888888888, \"#fdca26\"], [1.0, \"#f0f921\"]]}, \"colorway\": [\"#636efa\", \"#EF553B\", \"#00cc96\", \"#ab63fa\", \"#FFA15A\", \"#19d3f3\", \"#FF6692\", \"#B6E880\", \"#FF97FF\", \"#FECB52\"], \"font\": {\"color\": \"#2a3f5f\"}, \"geo\": {\"bgcolor\": \"white\", \"lakecolor\": \"white\", \"landcolor\": \"#E5ECF6\", \"showlakes\": true, \"showland\": true, \"subunitcolor\": \"white\"}, \"hoverlabel\": {\"align\": \"left\"}, \"hovermode\": \"closest\", \"mapbox\": {\"style\": \"light\"}, \"paper_bgcolor\": \"white\", \"plot_bgcolor\": \"#E5ECF6\", \"polar\": {\"angularaxis\": {\"gridcolor\": \"white\", \"linecolor\": \"white\", \"ticks\": \"\"}, \"bgcolor\": \"#E5ECF6\", \"radialaxis\": {\"gridcolor\": \"white\", \"linecolor\": \"white\", \"ticks\": \"\"}}, \"scene\": {\"xaxis\": {\"backgroundcolor\": \"#E5ECF6\", \"gridcolor\": \"white\", \"gridwidth\": 2, \"linecolor\": \"white\", \"showbackground\": true, \"ticks\": \"\", \"zerolinecolor\": \"white\"}, \"yaxis\": {\"backgroundcolor\": \"#E5ECF6\", \"gridcolor\": \"white\", \"gridwidth\": 2, \"linecolor\": \"white\", \"showbackground\": true, \"ticks\": \"\", \"zerolinecolor\": \"white\"}, \"zaxis\": {\"backgroundcolor\": \"#E5ECF6\", \"gridcolor\": \"white\", \"gridwidth\": 2, \"linecolor\": \"white\", \"showbackground\": true, \"ticks\": \"\", \"zerolinecolor\": \"white\"}}, \"shapedefaults\": {\"line\": {\"color\": \"#2a3f5f\"}}, \"ternary\": {\"aaxis\": {\"gridcolor\": \"white\", \"linecolor\": \"white\", \"ticks\": \"\"}, \"baxis\": {\"gridcolor\": \"white\", \"linecolor\": \"white\", \"ticks\": \"\"}, \"bgcolor\": \"#E5ECF6\", \"caxis\": {\"gridcolor\": \"white\", \"linecolor\": \"white\", \"ticks\": \"\"}}, \"title\": {\"x\": 0.05}, \"xaxis\": {\"automargin\": true, \"gridcolor\": \"white\", \"linecolor\": \"white\", \"ticks\": \"\", \"title\": {\"standoff\": 15}, \"zerolinecolor\": \"white\", \"zerolinewidth\": 2}, \"yaxis\": {\"automargin\": true, \"gridcolor\": \"white\", \"linecolor\": \"white\", \"ticks\": \"\", \"title\": {\"standoff\": 15}, \"zerolinecolor\": \"white\", \"zerolinewidth\": 2}}}, \"title\": {\"text\": \"Coherence Value and # of Topics\"}, \"xaxis\": {\"anchor\": \"y\", \"domain\": [0.0, 1.0], \"title\": {\"text\": \"# Topics\"}}, \"yaxis\": {\"anchor\": \"x\", \"domain\": [0.0, 1.0], \"title\": {\"text\": \"Score\"}}},\n",
       "                        {\"responsive\": true}\n",
       "                    ).then(function(){\n",
       "                            \n",
       "var gd = document.getElementById('1226fef2-69fb-48ce-aa5e-c0eec05a5696');\n",
       "var x = new MutationObserver(function (mutations, observer) {{\n",
       "        var display = window.getComputedStyle(gd).display;\n",
       "        if (!display || display === 'none') {{\n",
       "            console.log([gd, 'removed!']);\n",
       "            Plotly.purge(gd);\n",
       "            observer.disconnect();\n",
       "        }}\n",
       "}});\n",
       "\n",
       "// Listen for the removal of the full notebook cells\n",
       "var notebookContainer = gd.closest('#notebook-container');\n",
       "if (notebookContainer) {{\n",
       "    x.observe(notebookContainer, {childList: true});\n",
       "}}\n",
       "\n",
       "// Listen for the clearing of the current output cell\n",
       "var outputEl = gd.closest('.output');\n",
       "if (outputEl) {{\n",
       "    x.observe(outputEl, {childList: true});\n",
       "}}\n",
       "\n",
       "                        })\n",
       "                };\n",
       "                });\n",
       "            </script>\n",
       "        </div>"
      ]
     },
     "metadata": {},
     "output_type": "display_data"
    },
    {
     "name": "stdout",
     "output_type": "stream",
     "text": [
      "Best Model: Latent Dirichlet Allocation | # Topics: 32 | Coherence: 0.4425\n"
     ]
    }
   ],
   "source": [
    "tune_lda_positive = tune_model(model='lda', supervised_target=None, estimator='xgboost')"
   ]
  },
  {
   "cell_type": "code",
   "execution_count": 15,
   "metadata": {},
   "outputs": [
    {
     "data": {
      "text/html": [
       "<style  type=\"text/css\" >\n",
       "</style><table id=\"T_73b470b6_326b_11eb_9001_c48e8ff9d2e0\" ><thead>    <tr>        <th class=\"col_heading level0 col0\" >Description</th>        <th class=\"col_heading level0 col1\" >Value</th>    </tr></thead><tbody>\n",
       "                <tr>\n",
       "                                <td id=\"T_73b470b6_326b_11eb_9001_c48e8ff9d2e0row0_col0\" class=\"data row0 col0\" >session_id</td>\n",
       "                        <td id=\"T_73b470b6_326b_11eb_9001_c48e8ff9d2e0row0_col1\" class=\"data row0 col1\" >2841</td>\n",
       "            </tr>\n",
       "            <tr>\n",
       "                                <td id=\"T_73b470b6_326b_11eb_9001_c48e8ff9d2e0row1_col0\" class=\"data row1 col0\" >Documents</td>\n",
       "                        <td id=\"T_73b470b6_326b_11eb_9001_c48e8ff9d2e0row1_col1\" class=\"data row1 col1\" >8</td>\n",
       "            </tr>\n",
       "            <tr>\n",
       "                                <td id=\"T_73b470b6_326b_11eb_9001_c48e8ff9d2e0row2_col0\" class=\"data row2 col0\" >Vocab Size</td>\n",
       "                        <td id=\"T_73b470b6_326b_11eb_9001_c48e8ff9d2e0row2_col1\" class=\"data row2 col1\" >67</td>\n",
       "            </tr>\n",
       "            <tr>\n",
       "                                <td id=\"T_73b470b6_326b_11eb_9001_c48e8ff9d2e0row3_col0\" class=\"data row3 col0\" >Custom Stopwords</td>\n",
       "                        <td id=\"T_73b470b6_326b_11eb_9001_c48e8ff9d2e0row3_col1\" class=\"data row3 col1\" >True</td>\n",
       "            </tr>\n",
       "    </tbody></table>"
      ],
      "text/plain": [
       "<pandas.io.formats.style.Styler at 0x1c4835ad3c8>"
      ]
     },
     "metadata": {},
     "output_type": "display_data"
    }
   ],
   "source": [
    "exp_nlp_neg = setup(data = neg_rev, target = 'r_text',\n",
    "                custom_stopwords = [ 'hotel', 'room', 'nice', 'good','restaurant', 'food','bad'])"
   ]
  },
  {
   "cell_type": "code",
   "execution_count": 16,
   "metadata": {},
   "outputs": [
    {
     "name": "stdout",
     "output_type": "stream",
     "text": [
      "LdaModel(num_terms=67, num_topics=4, decay=0.5, chunksize=100)\n"
     ]
    }
   ],
   "source": [
    "#create an LDA model\n",
    "lda_neg_custom = create_model('lda')\n",
    "print(lda_neg_custom)"
   ]
  },
  {
   "cell_type": "code",
   "execution_count": 17,
   "metadata": {},
   "outputs": [
    {
     "data": {
      "text/html": [
       "<div>\n",
       "<style scoped>\n",
       "    .dataframe tbody tr th:only-of-type {\n",
       "        vertical-align: middle;\n",
       "    }\n",
       "\n",
       "    .dataframe tbody tr th {\n",
       "        vertical-align: top;\n",
       "    }\n",
       "\n",
       "    .dataframe thead th {\n",
       "        text-align: right;\n",
       "    }\n",
       "</style>\n",
       "<table border=\"1\" class=\"dataframe\">\n",
       "  <thead>\n",
       "    <tr style=\"text-align: right;\">\n",
       "      <th></th>\n",
       "      <th>r_points</th>\n",
       "      <th>r_text</th>\n",
       "      <th>place</th>\n",
       "      <th>scores</th>\n",
       "      <th>compound</th>\n",
       "      <th>score</th>\n",
       "      <th>Topic_0</th>\n",
       "      <th>Topic_1</th>\n",
       "      <th>Topic_2</th>\n",
       "      <th>Topic_3</th>\n",
       "      <th>Dominant_Topic</th>\n",
       "      <th>Perc_Dominant_Topic</th>\n",
       "    </tr>\n",
       "  </thead>\n",
       "  <tbody>\n",
       "    <tr>\n",
       "      <th>0</th>\n",
       "      <td>40.0</td>\n",
       "      <td>locate main square north formerly main name en...</td>\n",
       "      <td>The Venetian Column</td>\n",
       "      <td>{'neg': 0.07, 'neu': 0.891, 'pos': 0.039, 'com...</td>\n",
       "      <td>-0.3634</td>\n",
       "      <td>neg</td>\n",
       "      <td>0.982366</td>\n",
       "      <td>0.002284</td>\n",
       "      <td>0.011830</td>\n",
       "      <td>0.003520</td>\n",
       "      <td>Topic 0</td>\n",
       "      <td>0.98</td>\n",
       "    </tr>\n",
       "    <tr>\n",
       "      <th>1</th>\n",
       "      <td>20.0</td>\n",
       "      <td>old column great staggering adjective immediat...</td>\n",
       "      <td>The Venetian Column</td>\n",
       "      <td>{'neg': 0.153, 'neu': 0.793, 'pos': 0.054, 'co...</td>\n",
       "      <td>-0.7083</td>\n",
       "      <td>neg</td>\n",
       "      <td>0.004971</td>\n",
       "      <td>0.002153</td>\n",
       "      <td>0.989559</td>\n",
       "      <td>0.003317</td>\n",
       "      <td>Topic 2</td>\n",
       "      <td>0.99</td>\n",
       "    </tr>\n",
       "    <tr>\n",
       "      <th>2</th>\n",
       "      <td>NaN</td>\n",
       "      <td>NaN</td>\n",
       "      <td>NaN</td>\n",
       "      <td>NaN</td>\n",
       "      <td>NaN</td>\n",
       "      <td>NaN</td>\n",
       "      <td>0.016069</td>\n",
       "      <td>0.006960</td>\n",
       "      <td>0.036014</td>\n",
       "      <td>0.940958</td>\n",
       "      <td>Topic 3</td>\n",
       "      <td>0.94</td>\n",
       "    </tr>\n",
       "    <tr>\n",
       "      <th>3</th>\n",
       "      <td>NaN</td>\n",
       "      <td>NaN</td>\n",
       "      <td>NaN</td>\n",
       "      <td>NaN</td>\n",
       "      <td>NaN</td>\n",
       "      <td>NaN</td>\n",
       "      <td>0.008324</td>\n",
       "      <td>0.003605</td>\n",
       "      <td>0.982515</td>\n",
       "      <td>0.005556</td>\n",
       "      <td>Topic 2</td>\n",
       "      <td>0.98</td>\n",
       "    </tr>\n",
       "    <tr>\n",
       "      <th>4</th>\n",
       "      <td>30.0</td>\n",
       "      <td>stand old town area bring</td>\n",
       "      <td>The Venetian Column</td>\n",
       "      <td>{'neg': 0.139, 'neu': 0.861, 'pos': 0.0, 'comp...</td>\n",
       "      <td>-0.4404</td>\n",
       "      <td>neg</td>\n",
       "      <td>0.008324</td>\n",
       "      <td>0.003605</td>\n",
       "      <td>0.982515</td>\n",
       "      <td>0.005556</td>\n",
       "      <td>Topic 2</td>\n",
       "      <td>0.98</td>\n",
       "    </tr>\n",
       "    <tr>\n",
       "      <th>5</th>\n",
       "      <td>NaN</td>\n",
       "      <td>NaN</td>\n",
       "      <td>NaN</td>\n",
       "      <td>NaN</td>\n",
       "      <td>NaN</td>\n",
       "      <td>NaN</td>\n",
       "      <td>0.982348</td>\n",
       "      <td>0.002284</td>\n",
       "      <td>0.011847</td>\n",
       "      <td>0.003520</td>\n",
       "      <td>Topic 0</td>\n",
       "      <td>0.98</td>\n",
       "    </tr>\n",
       "    <tr>\n",
       "      <th>6</th>\n",
       "      <td>NaN</td>\n",
       "      <td>NaN</td>\n",
       "      <td>NaN</td>\n",
       "      <td>NaN</td>\n",
       "      <td>NaN</td>\n",
       "      <td>NaN</td>\n",
       "      <td>0.013548</td>\n",
       "      <td>0.005868</td>\n",
       "      <td>0.971543</td>\n",
       "      <td>0.009042</td>\n",
       "      <td>Topic 2</td>\n",
       "      <td>0.97</td>\n",
       "    </tr>\n",
       "    <tr>\n",
       "      <th>7</th>\n",
       "      <td>30.0</td>\n",
       "      <td>wander commercial section look column interest...</td>\n",
       "      <td>The Venetian Column</td>\n",
       "      <td>{'neg': 0.174, 'neu': 0.765, 'pos': 0.062, 'co...</td>\n",
       "      <td>-0.5218</td>\n",
       "      <td>neg</td>\n",
       "      <td>0.013548</td>\n",
       "      <td>0.005868</td>\n",
       "      <td>0.971542</td>\n",
       "      <td>0.009042</td>\n",
       "      <td>Topic 2</td>\n",
       "      <td>0.97</td>\n",
       "    </tr>\n",
       "    <tr>\n",
       "      <th>12</th>\n",
       "      <td>30.0</td>\n",
       "      <td>wander commercial section look column interest...</td>\n",
       "      <td>The Venetian Column</td>\n",
       "      <td>{'neg': 0.174, 'neu': 0.765, 'pos': 0.062, 'co...</td>\n",
       "      <td>-0.5218</td>\n",
       "      <td>neg</td>\n",
       "      <td>NaN</td>\n",
       "      <td>NaN</td>\n",
       "      <td>NaN</td>\n",
       "      <td>NaN</td>\n",
       "      <td>NaN</td>\n",
       "      <td>NaN</td>\n",
       "    </tr>\n",
       "    <tr>\n",
       "      <th>18</th>\n",
       "      <td>20.0</td>\n",
       "      <td>column mark area well keep entire square cover...</td>\n",
       "      <td>The Venetian Column</td>\n",
       "      <td>{'neg': 0.135, 'neu': 0.833, 'pos': 0.032, 'co...</td>\n",
       "      <td>-0.6406</td>\n",
       "      <td>neg</td>\n",
       "      <td>NaN</td>\n",
       "      <td>NaN</td>\n",
       "      <td>NaN</td>\n",
       "      <td>NaN</td>\n",
       "      <td>NaN</td>\n",
       "      <td>NaN</td>\n",
       "    </tr>\n",
       "    <tr>\n",
       "      <th>20</th>\n",
       "      <td>20.0</td>\n",
       "      <td>really help dry dirty basin rather</td>\n",
       "      <td>The Venetian Column</td>\n",
       "      <td>{'neg': 0.226, 'neu': 0.774, 'pos': 0.0, 'comp...</td>\n",
       "      <td>-0.8006</td>\n",
       "      <td>neg</td>\n",
       "      <td>NaN</td>\n",
       "      <td>NaN</td>\n",
       "      <td>NaN</td>\n",
       "      <td>NaN</td>\n",
       "      <td>NaN</td>\n",
       "      <td>NaN</td>\n",
       "    </tr>\n",
       "    <tr>\n",
       "      <th>22</th>\n",
       "      <td>30.0</td>\n",
       "      <td>photo go past hunt impressive way</td>\n",
       "      <td>The Venetian Column</td>\n",
       "      <td>{'neg': 0.125, 'neu': 0.808, 'pos': 0.067, 'co...</td>\n",
       "      <td>-0.3925</td>\n",
       "      <td>neg</td>\n",
       "      <td>NaN</td>\n",
       "      <td>NaN</td>\n",
       "      <td>NaN</td>\n",
       "      <td>NaN</td>\n",
       "      <td>NaN</td>\n",
       "      <td>NaN</td>\n",
       "    </tr>\n",
       "  </tbody>\n",
       "</table>\n",
       "</div>"
      ],
      "text/plain": [
       "    r_points                                             r_text  \\\n",
       "0       40.0  locate main square north formerly main name en...   \n",
       "1       20.0  old column great staggering adjective immediat...   \n",
       "2        NaN                                                NaN   \n",
       "3        NaN                                                NaN   \n",
       "4       30.0                          stand old town area bring   \n",
       "5        NaN                                                NaN   \n",
       "6        NaN                                                NaN   \n",
       "7       30.0  wander commercial section look column interest...   \n",
       "12      30.0  wander commercial section look column interest...   \n",
       "18      20.0  column mark area well keep entire square cover...   \n",
       "20      20.0                 really help dry dirty basin rather   \n",
       "22      30.0                  photo go past hunt impressive way   \n",
       "\n",
       "                  place                                             scores  \\\n",
       "0   The Venetian Column  {'neg': 0.07, 'neu': 0.891, 'pos': 0.039, 'com...   \n",
       "1   The Venetian Column  {'neg': 0.153, 'neu': 0.793, 'pos': 0.054, 'co...   \n",
       "2                   NaN                                                NaN   \n",
       "3                   NaN                                                NaN   \n",
       "4   The Venetian Column  {'neg': 0.139, 'neu': 0.861, 'pos': 0.0, 'comp...   \n",
       "5                   NaN                                                NaN   \n",
       "6                   NaN                                                NaN   \n",
       "7   The Venetian Column  {'neg': 0.174, 'neu': 0.765, 'pos': 0.062, 'co...   \n",
       "12  The Venetian Column  {'neg': 0.174, 'neu': 0.765, 'pos': 0.062, 'co...   \n",
       "18  The Venetian Column  {'neg': 0.135, 'neu': 0.833, 'pos': 0.032, 'co...   \n",
       "20  The Venetian Column  {'neg': 0.226, 'neu': 0.774, 'pos': 0.0, 'comp...   \n",
       "22  The Venetian Column  {'neg': 0.125, 'neu': 0.808, 'pos': 0.067, 'co...   \n",
       "\n",
       "    compound score   Topic_0   Topic_1   Topic_2   Topic_3 Dominant_Topic  \\\n",
       "0    -0.3634   neg  0.982366  0.002284  0.011830  0.003520        Topic 0   \n",
       "1    -0.7083   neg  0.004971  0.002153  0.989559  0.003317        Topic 2   \n",
       "2        NaN   NaN  0.016069  0.006960  0.036014  0.940958        Topic 3   \n",
       "3        NaN   NaN  0.008324  0.003605  0.982515  0.005556        Topic 2   \n",
       "4    -0.4404   neg  0.008324  0.003605  0.982515  0.005556        Topic 2   \n",
       "5        NaN   NaN  0.982348  0.002284  0.011847  0.003520        Topic 0   \n",
       "6        NaN   NaN  0.013548  0.005868  0.971543  0.009042        Topic 2   \n",
       "7    -0.5218   neg  0.013548  0.005868  0.971542  0.009042        Topic 2   \n",
       "12   -0.5218   neg       NaN       NaN       NaN       NaN            NaN   \n",
       "18   -0.6406   neg       NaN       NaN       NaN       NaN            NaN   \n",
       "20   -0.8006   neg       NaN       NaN       NaN       NaN            NaN   \n",
       "22   -0.3925   neg       NaN       NaN       NaN       NaN            NaN   \n",
       "\n",
       "    Perc_Dominant_Topic  \n",
       "0                  0.98  \n",
       "1                  0.99  \n",
       "2                  0.94  \n",
       "3                  0.98  \n",
       "4                  0.98  \n",
       "5                  0.98  \n",
       "6                  0.97  \n",
       "7                  0.97  \n",
       "12                  NaN  \n",
       "18                  NaN  \n",
       "20                  NaN  \n",
       "22                  NaN  "
      ]
     },
     "execution_count": 17,
     "metadata": {},
     "output_type": "execute_result"
    }
   ],
   "source": [
    "apply_lda_neg = assign_model(lda_neg_custom)\n",
    "apply_lda_neg"
   ]
  },
  {
   "cell_type": "code",
   "execution_count": 18,
   "metadata": {},
   "outputs": [
    {
     "data": {
      "application/vnd.jupyter.widget-view+json": {
       "model_id": "12f6cca3b7f44fe493662ba08dd1f8bf",
       "version_major": 2,
       "version_minor": 0
      },
      "text/plain": [
       "interactive(children=(ToggleButtons(description='Plot Type:', icons=('',), options=(('Frequency Plot', 'freque…"
      ]
     },
     "metadata": {},
     "output_type": "display_data"
    }
   ],
   "source": [
    "evaluate_model(lda_neg_custom)"
   ]
  },
  {
   "cell_type": "code",
   "execution_count": 19,
   "metadata": {},
   "outputs": [
    {
     "data": {
      "application/vnd.jupyter.widget-view+json": {
       "model_id": "",
       "version_major": 2,
       "version_minor": 0
      },
      "text/plain": [
       "IntProgress(value=0, description='Processing: ', max=25)"
      ]
     },
     "metadata": {},
     "output_type": "display_data"
    },
    {
     "data": {
      "application/vnd.jupyter.widget-view+json": {
       "model_id": "0264ec950d38474293b981e74c93cda7",
       "version_major": 2,
       "version_minor": 0
      },
      "text/plain": [
       "Output()"
      ]
     },
     "metadata": {},
     "output_type": "display_data"
    },
    {
     "data": {
      "text/html": [
       "        <script type=\"text/javascript\">\n",
       "        window.PlotlyConfig = {MathJaxConfig: 'local'};\n",
       "        if (window.MathJax) {MathJax.Hub.Config({SVG: {font: \"STIX-Web\"}});}\n",
       "        if (typeof require !== 'undefined') {\n",
       "        require.undef(\"plotly\");\n",
       "        requirejs.config({\n",
       "            paths: {\n",
       "                'plotly': ['https://cdn.plot.ly/plotly-latest.min']\n",
       "            }\n",
       "        });\n",
       "        require(['plotly'], function(Plotly) {\n",
       "            window._Plotly = Plotly;\n",
       "        });\n",
       "        }\n",
       "        </script>\n",
       "        "
      ]
     },
     "metadata": {},
     "output_type": "display_data"
    },
    {
     "data": {
      "application/vnd.plotly.v1+json": {
       "config": {
        "plotlyServerURL": "https://plot.ly"
       },
       "data": [
        {
         "hovertemplate": "Metric=Coherence<br># Topics=%{x}<br>Score=%{y}<extra></extra>",
         "legendgroup": "Coherence",
         "line": {
          "color": "#636efa",
          "dash": "solid",
          "shape": "linear"
         },
         "mode": "lines",
         "name": "Coherence",
         "orientation": "v",
         "showlegend": true,
         "type": "scatter",
         "x": [
          2,
          4,
          8,
          16,
          32,
          64,
          100,
          200,
          300,
          400
         ],
         "xaxis": "x",
         "y": [
          0.3345292237291956,
          0.526176420959446,
          0.46045065890559467,
          0.3879905007964905,
          0.3655090014753257,
          0.3503900545997838,
          0.33852373571677336,
          0.3350219169843564,
          0.3369343825356639,
          0.3353121943404512
         ],
         "yaxis": "y"
        }
       ],
       "layout": {
        "legend": {
         "title": {
          "text": "Metric"
         },
         "tracegroupgap": 0
        },
        "plot_bgcolor": "rgb(245,245,245)",
        "template": {
         "data": {
          "bar": [
           {
            "error_x": {
             "color": "#2a3f5f"
            },
            "error_y": {
             "color": "#2a3f5f"
            },
            "marker": {
             "line": {
              "color": "#E5ECF6",
              "width": 0.5
             }
            },
            "type": "bar"
           }
          ],
          "barpolar": [
           {
            "marker": {
             "line": {
              "color": "#E5ECF6",
              "width": 0.5
             }
            },
            "type": "barpolar"
           }
          ],
          "carpet": [
           {
            "aaxis": {
             "endlinecolor": "#2a3f5f",
             "gridcolor": "white",
             "linecolor": "white",
             "minorgridcolor": "white",
             "startlinecolor": "#2a3f5f"
            },
            "baxis": {
             "endlinecolor": "#2a3f5f",
             "gridcolor": "white",
             "linecolor": "white",
             "minorgridcolor": "white",
             "startlinecolor": "#2a3f5f"
            },
            "type": "carpet"
           }
          ],
          "choropleth": [
           {
            "colorbar": {
             "outlinewidth": 0,
             "ticks": ""
            },
            "type": "choropleth"
           }
          ],
          "contour": [
           {
            "colorbar": {
             "outlinewidth": 0,
             "ticks": ""
            },
            "colorscale": [
             [
              0,
              "#0d0887"
             ],
             [
              0.1111111111111111,
              "#46039f"
             ],
             [
              0.2222222222222222,
              "#7201a8"
             ],
             [
              0.3333333333333333,
              "#9c179e"
             ],
             [
              0.4444444444444444,
              "#bd3786"
             ],
             [
              0.5555555555555556,
              "#d8576b"
             ],
             [
              0.6666666666666666,
              "#ed7953"
             ],
             [
              0.7777777777777778,
              "#fb9f3a"
             ],
             [
              0.8888888888888888,
              "#fdca26"
             ],
             [
              1,
              "#f0f921"
             ]
            ],
            "type": "contour"
           }
          ],
          "contourcarpet": [
           {
            "colorbar": {
             "outlinewidth": 0,
             "ticks": ""
            },
            "type": "contourcarpet"
           }
          ],
          "heatmap": [
           {
            "colorbar": {
             "outlinewidth": 0,
             "ticks": ""
            },
            "colorscale": [
             [
              0,
              "#0d0887"
             ],
             [
              0.1111111111111111,
              "#46039f"
             ],
             [
              0.2222222222222222,
              "#7201a8"
             ],
             [
              0.3333333333333333,
              "#9c179e"
             ],
             [
              0.4444444444444444,
              "#bd3786"
             ],
             [
              0.5555555555555556,
              "#d8576b"
             ],
             [
              0.6666666666666666,
              "#ed7953"
             ],
             [
              0.7777777777777778,
              "#fb9f3a"
             ],
             [
              0.8888888888888888,
              "#fdca26"
             ],
             [
              1,
              "#f0f921"
             ]
            ],
            "type": "heatmap"
           }
          ],
          "heatmapgl": [
           {
            "colorbar": {
             "outlinewidth": 0,
             "ticks": ""
            },
            "colorscale": [
             [
              0,
              "#0d0887"
             ],
             [
              0.1111111111111111,
              "#46039f"
             ],
             [
              0.2222222222222222,
              "#7201a8"
             ],
             [
              0.3333333333333333,
              "#9c179e"
             ],
             [
              0.4444444444444444,
              "#bd3786"
             ],
             [
              0.5555555555555556,
              "#d8576b"
             ],
             [
              0.6666666666666666,
              "#ed7953"
             ],
             [
              0.7777777777777778,
              "#fb9f3a"
             ],
             [
              0.8888888888888888,
              "#fdca26"
             ],
             [
              1,
              "#f0f921"
             ]
            ],
            "type": "heatmapgl"
           }
          ],
          "histogram": [
           {
            "marker": {
             "colorbar": {
              "outlinewidth": 0,
              "ticks": ""
             }
            },
            "type": "histogram"
           }
          ],
          "histogram2d": [
           {
            "colorbar": {
             "outlinewidth": 0,
             "ticks": ""
            },
            "colorscale": [
             [
              0,
              "#0d0887"
             ],
             [
              0.1111111111111111,
              "#46039f"
             ],
             [
              0.2222222222222222,
              "#7201a8"
             ],
             [
              0.3333333333333333,
              "#9c179e"
             ],
             [
              0.4444444444444444,
              "#bd3786"
             ],
             [
              0.5555555555555556,
              "#d8576b"
             ],
             [
              0.6666666666666666,
              "#ed7953"
             ],
             [
              0.7777777777777778,
              "#fb9f3a"
             ],
             [
              0.8888888888888888,
              "#fdca26"
             ],
             [
              1,
              "#f0f921"
             ]
            ],
            "type": "histogram2d"
           }
          ],
          "histogram2dcontour": [
           {
            "colorbar": {
             "outlinewidth": 0,
             "ticks": ""
            },
            "colorscale": [
             [
              0,
              "#0d0887"
             ],
             [
              0.1111111111111111,
              "#46039f"
             ],
             [
              0.2222222222222222,
              "#7201a8"
             ],
             [
              0.3333333333333333,
              "#9c179e"
             ],
             [
              0.4444444444444444,
              "#bd3786"
             ],
             [
              0.5555555555555556,
              "#d8576b"
             ],
             [
              0.6666666666666666,
              "#ed7953"
             ],
             [
              0.7777777777777778,
              "#fb9f3a"
             ],
             [
              0.8888888888888888,
              "#fdca26"
             ],
             [
              1,
              "#f0f921"
             ]
            ],
            "type": "histogram2dcontour"
           }
          ],
          "mesh3d": [
           {
            "colorbar": {
             "outlinewidth": 0,
             "ticks": ""
            },
            "type": "mesh3d"
           }
          ],
          "parcoords": [
           {
            "line": {
             "colorbar": {
              "outlinewidth": 0,
              "ticks": ""
             }
            },
            "type": "parcoords"
           }
          ],
          "pie": [
           {
            "automargin": true,
            "type": "pie"
           }
          ],
          "scatter": [
           {
            "marker": {
             "colorbar": {
              "outlinewidth": 0,
              "ticks": ""
             }
            },
            "type": "scatter"
           }
          ],
          "scatter3d": [
           {
            "line": {
             "colorbar": {
              "outlinewidth": 0,
              "ticks": ""
             }
            },
            "marker": {
             "colorbar": {
              "outlinewidth": 0,
              "ticks": ""
             }
            },
            "type": "scatter3d"
           }
          ],
          "scattercarpet": [
           {
            "marker": {
             "colorbar": {
              "outlinewidth": 0,
              "ticks": ""
             }
            },
            "type": "scattercarpet"
           }
          ],
          "scattergeo": [
           {
            "marker": {
             "colorbar": {
              "outlinewidth": 0,
              "ticks": ""
             }
            },
            "type": "scattergeo"
           }
          ],
          "scattergl": [
           {
            "marker": {
             "colorbar": {
              "outlinewidth": 0,
              "ticks": ""
             }
            },
            "type": "scattergl"
           }
          ],
          "scattermapbox": [
           {
            "marker": {
             "colorbar": {
              "outlinewidth": 0,
              "ticks": ""
             }
            },
            "type": "scattermapbox"
           }
          ],
          "scatterpolar": [
           {
            "marker": {
             "colorbar": {
              "outlinewidth": 0,
              "ticks": ""
             }
            },
            "type": "scatterpolar"
           }
          ],
          "scatterpolargl": [
           {
            "marker": {
             "colorbar": {
              "outlinewidth": 0,
              "ticks": ""
             }
            },
            "type": "scatterpolargl"
           }
          ],
          "scatterternary": [
           {
            "marker": {
             "colorbar": {
              "outlinewidth": 0,
              "ticks": ""
             }
            },
            "type": "scatterternary"
           }
          ],
          "surface": [
           {
            "colorbar": {
             "outlinewidth": 0,
             "ticks": ""
            },
            "colorscale": [
             [
              0,
              "#0d0887"
             ],
             [
              0.1111111111111111,
              "#46039f"
             ],
             [
              0.2222222222222222,
              "#7201a8"
             ],
             [
              0.3333333333333333,
              "#9c179e"
             ],
             [
              0.4444444444444444,
              "#bd3786"
             ],
             [
              0.5555555555555556,
              "#d8576b"
             ],
             [
              0.6666666666666666,
              "#ed7953"
             ],
             [
              0.7777777777777778,
              "#fb9f3a"
             ],
             [
              0.8888888888888888,
              "#fdca26"
             ],
             [
              1,
              "#f0f921"
             ]
            ],
            "type": "surface"
           }
          ],
          "table": [
           {
            "cells": {
             "fill": {
              "color": "#EBF0F8"
             },
             "line": {
              "color": "white"
             }
            },
            "header": {
             "fill": {
              "color": "#C8D4E3"
             },
             "line": {
              "color": "white"
             }
            },
            "type": "table"
           }
          ]
         },
         "layout": {
          "annotationdefaults": {
           "arrowcolor": "#2a3f5f",
           "arrowhead": 0,
           "arrowwidth": 1
          },
          "coloraxis": {
           "colorbar": {
            "outlinewidth": 0,
            "ticks": ""
           }
          },
          "colorscale": {
           "diverging": [
            [
             0,
             "#8e0152"
            ],
            [
             0.1,
             "#c51b7d"
            ],
            [
             0.2,
             "#de77ae"
            ],
            [
             0.3,
             "#f1b6da"
            ],
            [
             0.4,
             "#fde0ef"
            ],
            [
             0.5,
             "#f7f7f7"
            ],
            [
             0.6,
             "#e6f5d0"
            ],
            [
             0.7,
             "#b8e186"
            ],
            [
             0.8,
             "#7fbc41"
            ],
            [
             0.9,
             "#4d9221"
            ],
            [
             1,
             "#276419"
            ]
           ],
           "sequential": [
            [
             0,
             "#0d0887"
            ],
            [
             0.1111111111111111,
             "#46039f"
            ],
            [
             0.2222222222222222,
             "#7201a8"
            ],
            [
             0.3333333333333333,
             "#9c179e"
            ],
            [
             0.4444444444444444,
             "#bd3786"
            ],
            [
             0.5555555555555556,
             "#d8576b"
            ],
            [
             0.6666666666666666,
             "#ed7953"
            ],
            [
             0.7777777777777778,
             "#fb9f3a"
            ],
            [
             0.8888888888888888,
             "#fdca26"
            ],
            [
             1,
             "#f0f921"
            ]
           ],
           "sequentialminus": [
            [
             0,
             "#0d0887"
            ],
            [
             0.1111111111111111,
             "#46039f"
            ],
            [
             0.2222222222222222,
             "#7201a8"
            ],
            [
             0.3333333333333333,
             "#9c179e"
            ],
            [
             0.4444444444444444,
             "#bd3786"
            ],
            [
             0.5555555555555556,
             "#d8576b"
            ],
            [
             0.6666666666666666,
             "#ed7953"
            ],
            [
             0.7777777777777778,
             "#fb9f3a"
            ],
            [
             0.8888888888888888,
             "#fdca26"
            ],
            [
             1,
             "#f0f921"
            ]
           ]
          },
          "colorway": [
           "#636efa",
           "#EF553B",
           "#00cc96",
           "#ab63fa",
           "#FFA15A",
           "#19d3f3",
           "#FF6692",
           "#B6E880",
           "#FF97FF",
           "#FECB52"
          ],
          "font": {
           "color": "#2a3f5f"
          },
          "geo": {
           "bgcolor": "white",
           "lakecolor": "white",
           "landcolor": "#E5ECF6",
           "showlakes": true,
           "showland": true,
           "subunitcolor": "white"
          },
          "hoverlabel": {
           "align": "left"
          },
          "hovermode": "closest",
          "mapbox": {
           "style": "light"
          },
          "paper_bgcolor": "white",
          "plot_bgcolor": "#E5ECF6",
          "polar": {
           "angularaxis": {
            "gridcolor": "white",
            "linecolor": "white",
            "ticks": ""
           },
           "bgcolor": "#E5ECF6",
           "radialaxis": {
            "gridcolor": "white",
            "linecolor": "white",
            "ticks": ""
           }
          },
          "scene": {
           "xaxis": {
            "backgroundcolor": "#E5ECF6",
            "gridcolor": "white",
            "gridwidth": 2,
            "linecolor": "white",
            "showbackground": true,
            "ticks": "",
            "zerolinecolor": "white"
           },
           "yaxis": {
            "backgroundcolor": "#E5ECF6",
            "gridcolor": "white",
            "gridwidth": 2,
            "linecolor": "white",
            "showbackground": true,
            "ticks": "",
            "zerolinecolor": "white"
           },
           "zaxis": {
            "backgroundcolor": "#E5ECF6",
            "gridcolor": "white",
            "gridwidth": 2,
            "linecolor": "white",
            "showbackground": true,
            "ticks": "",
            "zerolinecolor": "white"
           }
          },
          "shapedefaults": {
           "line": {
            "color": "#2a3f5f"
           }
          },
          "ternary": {
           "aaxis": {
            "gridcolor": "white",
            "linecolor": "white",
            "ticks": ""
           },
           "baxis": {
            "gridcolor": "white",
            "linecolor": "white",
            "ticks": ""
           },
           "bgcolor": "#E5ECF6",
           "caxis": {
            "gridcolor": "white",
            "linecolor": "white",
            "ticks": ""
           }
          },
          "title": {
           "x": 0.05
          },
          "xaxis": {
           "automargin": true,
           "gridcolor": "white",
           "linecolor": "white",
           "ticks": "",
           "title": {
            "standoff": 15
           },
           "zerolinecolor": "white",
           "zerolinewidth": 2
          },
          "yaxis": {
           "automargin": true,
           "gridcolor": "white",
           "linecolor": "white",
           "ticks": "",
           "title": {
            "standoff": 15
           },
           "zerolinecolor": "white",
           "zerolinewidth": 2
          }
         }
        },
        "title": {
         "text": "Coherence Value and # of Topics"
        },
        "xaxis": {
         "anchor": "y",
         "domain": [
          0,
          1
         ],
         "title": {
          "text": "# Topics"
         }
        },
        "yaxis": {
         "anchor": "x",
         "domain": [
          0,
          1
         ],
         "title": {
          "text": "Score"
         }
        }
       }
      },
      "text/html": [
       "<div>\n",
       "        \n",
       "        \n",
       "            <div id=\"4733c3cb-4b05-4ff6-bd0d-3905d76f0239\" class=\"plotly-graph-div\" style=\"height:525px; width:100%;\"></div>\n",
       "            <script type=\"text/javascript\">\n",
       "                require([\"plotly\"], function(Plotly) {\n",
       "                    window.PLOTLYENV=window.PLOTLYENV || {};\n",
       "                    \n",
       "                if (document.getElementById(\"4733c3cb-4b05-4ff6-bd0d-3905d76f0239\")) {\n",
       "                    Plotly.newPlot(\n",
       "                        '4733c3cb-4b05-4ff6-bd0d-3905d76f0239',\n",
       "                        [{\"hovertemplate\": \"Metric=Coherence<br># Topics=%{x}<br>Score=%{y}<extra></extra>\", \"legendgroup\": \"Coherence\", \"line\": {\"color\": \"#636efa\", \"dash\": \"solid\", \"shape\": \"linear\"}, \"mode\": \"lines\", \"name\": \"Coherence\", \"orientation\": \"v\", \"showlegend\": true, \"type\": \"scatter\", \"x\": [2, 4, 8, 16, 32, 64, 100, 200, 300, 400], \"xaxis\": \"x\", \"y\": [0.3345292237291956, 0.526176420959446, 0.46045065890559467, 0.3879905007964905, 0.3655090014753257, 0.3503900545997838, 0.33852373571677336, 0.3350219169843564, 0.3369343825356639, 0.3353121943404512], \"yaxis\": \"y\"}],\n",
       "                        {\"legend\": {\"title\": {\"text\": \"Metric\"}, \"tracegroupgap\": 0}, \"plot_bgcolor\": \"rgb(245,245,245)\", \"template\": {\"data\": {\"bar\": [{\"error_x\": {\"color\": \"#2a3f5f\"}, \"error_y\": {\"color\": \"#2a3f5f\"}, \"marker\": {\"line\": {\"color\": \"#E5ECF6\", \"width\": 0.5}}, \"type\": \"bar\"}], \"barpolar\": [{\"marker\": {\"line\": {\"color\": \"#E5ECF6\", \"width\": 0.5}}, \"type\": \"barpolar\"}], \"carpet\": [{\"aaxis\": {\"endlinecolor\": \"#2a3f5f\", \"gridcolor\": \"white\", \"linecolor\": \"white\", \"minorgridcolor\": \"white\", \"startlinecolor\": \"#2a3f5f\"}, \"baxis\": {\"endlinecolor\": \"#2a3f5f\", \"gridcolor\": \"white\", \"linecolor\": \"white\", \"minorgridcolor\": \"white\", \"startlinecolor\": \"#2a3f5f\"}, \"type\": \"carpet\"}], \"choropleth\": [{\"colorbar\": {\"outlinewidth\": 0, \"ticks\": \"\"}, \"type\": \"choropleth\"}], \"contour\": [{\"colorbar\": {\"outlinewidth\": 0, \"ticks\": \"\"}, \"colorscale\": [[0.0, \"#0d0887\"], [0.1111111111111111, \"#46039f\"], [0.2222222222222222, \"#7201a8\"], [0.3333333333333333, \"#9c179e\"], [0.4444444444444444, \"#bd3786\"], [0.5555555555555556, \"#d8576b\"], [0.6666666666666666, \"#ed7953\"], [0.7777777777777778, \"#fb9f3a\"], [0.8888888888888888, \"#fdca26\"], [1.0, \"#f0f921\"]], \"type\": \"contour\"}], \"contourcarpet\": [{\"colorbar\": {\"outlinewidth\": 0, \"ticks\": \"\"}, \"type\": \"contourcarpet\"}], \"heatmap\": [{\"colorbar\": {\"outlinewidth\": 0, \"ticks\": \"\"}, \"colorscale\": [[0.0, \"#0d0887\"], [0.1111111111111111, \"#46039f\"], [0.2222222222222222, \"#7201a8\"], [0.3333333333333333, \"#9c179e\"], [0.4444444444444444, \"#bd3786\"], [0.5555555555555556, \"#d8576b\"], [0.6666666666666666, \"#ed7953\"], [0.7777777777777778, \"#fb9f3a\"], [0.8888888888888888, \"#fdca26\"], [1.0, \"#f0f921\"]], \"type\": \"heatmap\"}], \"heatmapgl\": [{\"colorbar\": {\"outlinewidth\": 0, \"ticks\": \"\"}, \"colorscale\": [[0.0, \"#0d0887\"], [0.1111111111111111, \"#46039f\"], [0.2222222222222222, \"#7201a8\"], [0.3333333333333333, \"#9c179e\"], [0.4444444444444444, \"#bd3786\"], [0.5555555555555556, \"#d8576b\"], [0.6666666666666666, \"#ed7953\"], [0.7777777777777778, \"#fb9f3a\"], [0.8888888888888888, \"#fdca26\"], [1.0, \"#f0f921\"]], \"type\": \"heatmapgl\"}], \"histogram\": [{\"marker\": {\"colorbar\": {\"outlinewidth\": 0, \"ticks\": \"\"}}, \"type\": \"histogram\"}], \"histogram2d\": [{\"colorbar\": {\"outlinewidth\": 0, \"ticks\": \"\"}, \"colorscale\": [[0.0, \"#0d0887\"], [0.1111111111111111, \"#46039f\"], [0.2222222222222222, \"#7201a8\"], [0.3333333333333333, \"#9c179e\"], [0.4444444444444444, \"#bd3786\"], [0.5555555555555556, \"#d8576b\"], [0.6666666666666666, \"#ed7953\"], [0.7777777777777778, \"#fb9f3a\"], [0.8888888888888888, \"#fdca26\"], [1.0, \"#f0f921\"]], \"type\": \"histogram2d\"}], \"histogram2dcontour\": [{\"colorbar\": {\"outlinewidth\": 0, \"ticks\": \"\"}, \"colorscale\": [[0.0, \"#0d0887\"], [0.1111111111111111, \"#46039f\"], [0.2222222222222222, \"#7201a8\"], [0.3333333333333333, \"#9c179e\"], [0.4444444444444444, \"#bd3786\"], [0.5555555555555556, \"#d8576b\"], [0.6666666666666666, \"#ed7953\"], [0.7777777777777778, \"#fb9f3a\"], [0.8888888888888888, \"#fdca26\"], [1.0, \"#f0f921\"]], \"type\": \"histogram2dcontour\"}], \"mesh3d\": [{\"colorbar\": {\"outlinewidth\": 0, \"ticks\": \"\"}, \"type\": \"mesh3d\"}], \"parcoords\": [{\"line\": {\"colorbar\": {\"outlinewidth\": 0, \"ticks\": \"\"}}, \"type\": \"parcoords\"}], \"pie\": [{\"automargin\": true, \"type\": \"pie\"}], \"scatter\": [{\"marker\": {\"colorbar\": {\"outlinewidth\": 0, \"ticks\": \"\"}}, \"type\": \"scatter\"}], \"scatter3d\": [{\"line\": {\"colorbar\": {\"outlinewidth\": 0, \"ticks\": \"\"}}, \"marker\": {\"colorbar\": {\"outlinewidth\": 0, \"ticks\": \"\"}}, \"type\": \"scatter3d\"}], \"scattercarpet\": [{\"marker\": {\"colorbar\": {\"outlinewidth\": 0, \"ticks\": \"\"}}, \"type\": \"scattercarpet\"}], \"scattergeo\": [{\"marker\": {\"colorbar\": {\"outlinewidth\": 0, \"ticks\": \"\"}}, \"type\": \"scattergeo\"}], \"scattergl\": [{\"marker\": {\"colorbar\": {\"outlinewidth\": 0, \"ticks\": \"\"}}, \"type\": \"scattergl\"}], \"scattermapbox\": [{\"marker\": {\"colorbar\": {\"outlinewidth\": 0, \"ticks\": \"\"}}, \"type\": \"scattermapbox\"}], \"scatterpolar\": [{\"marker\": {\"colorbar\": {\"outlinewidth\": 0, \"ticks\": \"\"}}, \"type\": \"scatterpolar\"}], \"scatterpolargl\": [{\"marker\": {\"colorbar\": {\"outlinewidth\": 0, \"ticks\": \"\"}}, \"type\": \"scatterpolargl\"}], \"scatterternary\": [{\"marker\": {\"colorbar\": {\"outlinewidth\": 0, \"ticks\": \"\"}}, \"type\": \"scatterternary\"}], \"surface\": [{\"colorbar\": {\"outlinewidth\": 0, \"ticks\": \"\"}, \"colorscale\": [[0.0, \"#0d0887\"], [0.1111111111111111, \"#46039f\"], [0.2222222222222222, \"#7201a8\"], [0.3333333333333333, \"#9c179e\"], [0.4444444444444444, \"#bd3786\"], [0.5555555555555556, \"#d8576b\"], [0.6666666666666666, \"#ed7953\"], [0.7777777777777778, \"#fb9f3a\"], [0.8888888888888888, \"#fdca26\"], [1.0, \"#f0f921\"]], \"type\": \"surface\"}], \"table\": [{\"cells\": {\"fill\": {\"color\": \"#EBF0F8\"}, \"line\": {\"color\": \"white\"}}, \"header\": {\"fill\": {\"color\": \"#C8D4E3\"}, \"line\": {\"color\": \"white\"}}, \"type\": \"table\"}]}, \"layout\": {\"annotationdefaults\": {\"arrowcolor\": \"#2a3f5f\", \"arrowhead\": 0, \"arrowwidth\": 1}, \"coloraxis\": {\"colorbar\": {\"outlinewidth\": 0, \"ticks\": \"\"}}, \"colorscale\": {\"diverging\": [[0, \"#8e0152\"], [0.1, \"#c51b7d\"], [0.2, \"#de77ae\"], [0.3, \"#f1b6da\"], [0.4, \"#fde0ef\"], [0.5, \"#f7f7f7\"], [0.6, \"#e6f5d0\"], [0.7, \"#b8e186\"], [0.8, \"#7fbc41\"], [0.9, \"#4d9221\"], [1, \"#276419\"]], \"sequential\": [[0.0, \"#0d0887\"], [0.1111111111111111, \"#46039f\"], [0.2222222222222222, \"#7201a8\"], [0.3333333333333333, \"#9c179e\"], [0.4444444444444444, \"#bd3786\"], [0.5555555555555556, \"#d8576b\"], [0.6666666666666666, \"#ed7953\"], [0.7777777777777778, \"#fb9f3a\"], [0.8888888888888888, \"#fdca26\"], [1.0, \"#f0f921\"]], \"sequentialminus\": [[0.0, \"#0d0887\"], [0.1111111111111111, \"#46039f\"], [0.2222222222222222, \"#7201a8\"], [0.3333333333333333, \"#9c179e\"], [0.4444444444444444, \"#bd3786\"], [0.5555555555555556, \"#d8576b\"], [0.6666666666666666, \"#ed7953\"], [0.7777777777777778, \"#fb9f3a\"], [0.8888888888888888, \"#fdca26\"], [1.0, \"#f0f921\"]]}, \"colorway\": [\"#636efa\", \"#EF553B\", \"#00cc96\", \"#ab63fa\", \"#FFA15A\", \"#19d3f3\", \"#FF6692\", \"#B6E880\", \"#FF97FF\", \"#FECB52\"], \"font\": {\"color\": \"#2a3f5f\"}, \"geo\": {\"bgcolor\": \"white\", \"lakecolor\": \"white\", \"landcolor\": \"#E5ECF6\", \"showlakes\": true, \"showland\": true, \"subunitcolor\": \"white\"}, \"hoverlabel\": {\"align\": \"left\"}, \"hovermode\": \"closest\", \"mapbox\": {\"style\": \"light\"}, \"paper_bgcolor\": \"white\", \"plot_bgcolor\": \"#E5ECF6\", \"polar\": {\"angularaxis\": {\"gridcolor\": \"white\", \"linecolor\": \"white\", \"ticks\": \"\"}, \"bgcolor\": \"#E5ECF6\", \"radialaxis\": {\"gridcolor\": \"white\", \"linecolor\": \"white\", \"ticks\": \"\"}}, \"scene\": {\"xaxis\": {\"backgroundcolor\": \"#E5ECF6\", \"gridcolor\": \"white\", \"gridwidth\": 2, \"linecolor\": \"white\", \"showbackground\": true, \"ticks\": \"\", \"zerolinecolor\": \"white\"}, \"yaxis\": {\"backgroundcolor\": \"#E5ECF6\", \"gridcolor\": \"white\", \"gridwidth\": 2, \"linecolor\": \"white\", \"showbackground\": true, \"ticks\": \"\", \"zerolinecolor\": \"white\"}, \"zaxis\": {\"backgroundcolor\": \"#E5ECF6\", \"gridcolor\": \"white\", \"gridwidth\": 2, \"linecolor\": \"white\", \"showbackground\": true, \"ticks\": \"\", \"zerolinecolor\": \"white\"}}, \"shapedefaults\": {\"line\": {\"color\": \"#2a3f5f\"}}, \"ternary\": {\"aaxis\": {\"gridcolor\": \"white\", \"linecolor\": \"white\", \"ticks\": \"\"}, \"baxis\": {\"gridcolor\": \"white\", \"linecolor\": \"white\", \"ticks\": \"\"}, \"bgcolor\": \"#E5ECF6\", \"caxis\": {\"gridcolor\": \"white\", \"linecolor\": \"white\", \"ticks\": \"\"}}, \"title\": {\"x\": 0.05}, \"xaxis\": {\"automargin\": true, \"gridcolor\": \"white\", \"linecolor\": \"white\", \"ticks\": \"\", \"title\": {\"standoff\": 15}, \"zerolinecolor\": \"white\", \"zerolinewidth\": 2}, \"yaxis\": {\"automargin\": true, \"gridcolor\": \"white\", \"linecolor\": \"white\", \"ticks\": \"\", \"title\": {\"standoff\": 15}, \"zerolinecolor\": \"white\", \"zerolinewidth\": 2}}}, \"title\": {\"text\": \"Coherence Value and # of Topics\"}, \"xaxis\": {\"anchor\": \"y\", \"domain\": [0.0, 1.0], \"title\": {\"text\": \"# Topics\"}}, \"yaxis\": {\"anchor\": \"x\", \"domain\": [0.0, 1.0], \"title\": {\"text\": \"Score\"}}},\n",
       "                        {\"responsive\": true}\n",
       "                    ).then(function(){\n",
       "                            \n",
       "var gd = document.getElementById('4733c3cb-4b05-4ff6-bd0d-3905d76f0239');\n",
       "var x = new MutationObserver(function (mutations, observer) {{\n",
       "        var display = window.getComputedStyle(gd).display;\n",
       "        if (!display || display === 'none') {{\n",
       "            console.log([gd, 'removed!']);\n",
       "            Plotly.purge(gd);\n",
       "            observer.disconnect();\n",
       "        }}\n",
       "}});\n",
       "\n",
       "// Listen for the removal of the full notebook cells\n",
       "var notebookContainer = gd.closest('#notebook-container');\n",
       "if (notebookContainer) {{\n",
       "    x.observe(notebookContainer, {childList: true});\n",
       "}}\n",
       "\n",
       "// Listen for the clearing of the current output cell\n",
       "var outputEl = gd.closest('.output');\n",
       "if (outputEl) {{\n",
       "    x.observe(outputEl, {childList: true});\n",
       "}}\n",
       "\n",
       "                        })\n",
       "                };\n",
       "                });\n",
       "            </script>\n",
       "        </div>"
      ]
     },
     "metadata": {},
     "output_type": "display_data"
    },
    {
     "name": "stdout",
     "output_type": "stream",
     "text": [
      "Best Model: Latent Dirichlet Allocation | # Topics: 4 | Coherence: 0.5262\n"
     ]
    }
   ],
   "source": [
    "tune_lda_negative = tune_model(model='lda', supervised_target=None, estimator='xgboost')"
   ]
  },
  {
   "cell_type": "code",
   "execution_count": 20,
   "metadata": {},
   "outputs": [
    {
     "data": {
      "text/html": [
       "        <script type=\"text/javascript\">\n",
       "        window.PlotlyConfig = {MathJaxConfig: 'local'};\n",
       "        if (window.MathJax) {MathJax.Hub.Config({SVG: {font: \"STIX-Web\"}});}\n",
       "        if (typeof require !== 'undefined') {\n",
       "        require.undef(\"plotly\");\n",
       "        requirejs.config({\n",
       "            paths: {\n",
       "                'plotly': ['https://cdn.plot.ly/plotly-latest.min']\n",
       "            }\n",
       "        });\n",
       "        require(['plotly'], function(Plotly) {\n",
       "            window._Plotly = Plotly;\n",
       "        });\n",
       "        }\n",
       "        </script>\n",
       "        "
      ]
     },
     "metadata": {},
     "output_type": "display_data"
    },
    {
     "data": {
      "text/html": [
       "\n",
       "<link rel=\"stylesheet\" type=\"text/css\" href=\"https://cdn.rawgit.com/bmabey/pyLDAvis/files/ldavis.v1.0.0.css\">\n",
       "\n",
       "\n",
       "<div id=\"ldavis_el2028819456180680405646618137\"></div>\n",
       "<script type=\"text/javascript\">\n",
       "\n",
       "var ldavis_el2028819456180680405646618137_data = {\"mdsDat\": {\"x\": [0.09073572724309578, -0.10552111378973375, 0.014991287116065592, -0.00020590056942763047], \"y\": [-0.06419863440100201, 0.029287317055093465, 0.04001060755346701, -0.00509929020755846], \"topics\": [1, 2, 3, 4], \"cluster\": [1, 1, 1, 1], \"Freq\": [56.61649703979492, 37.12716293334961, 5.9225945472717285, 0.333741158246994]}, \"tinfo\": {\"Term\": [\"old\", \"area\", \"square\", \"entire\", \"main\", \"worth\", \"exhibition\", \"commercial\", \"section\", \"wander\", \"look\", \"interesting\", \"grand\", \"find\", \"organised\", \"dump\", \"hour\", \"immediately\", \"tour\", \"lot\", \"mind\", \"spring\", \"adjective\", \"typical\", \"great\", \"hustle\", \"staggering\", \"bustle\", \"dry\", \"rather\", \"worth\", \"commercial\", \"exhibition\", \"section\", \"look\", \"interesting\", \"wander\", \"grand\", \"find\", \"help\", \"really\", \"dry\", \"rather\", \"dirty\", \"basin\", \"go\", \"bustle\", \"staggering\", \"hustle\", \"photo\", \"typical\", \"great\", \"past\", \"adjective\", \"hunt\", \"spring\", \"mind\", \"lot\", \"tour\", \"immediately\", \"way\", \"column\", \"impressive\", \"city\", \"old\", \"square\", \"entire\", \"main\", \"mark\", \"keep\", \"dropping\", \"petrified\", \"bird\", \"cover\", \"stay\", \"long\", \"spot\", \"filthy\", \"well\", \"want\", \"north\", \"court\", \"build\", \"colonial\", \"front\", \"name\", \"british\", \"locate\", \"miss\", \"formerly\", \"area\", \"city\", \"impressive\", \"stand\", \"bring\", \"column\", \"find\", \"town\", \"stand\", \"bring\", \"area\", \"old\", \"formerly\", \"miss\", \"locate\", \"british\", \"name\", \"front\", \"colonial\", \"build\", \"court\", \"north\", \"spot\", \"want\", \"long\", \"filthy\", \"bird\", \"well\", \"keep\", \"stay\", \"petrified\", \"cover\", \"mark\", \"dropping\", \"way\", \"hunt\", \"past\", \"photo\", \"main\", \"impressive\", \"go\", \"entire\", \"square\", \"city\", \"column\", \"worth\", \"find\", \"commercial\", \"look\", \"stand\", \"bring\", \"town\", \"formerly\", \"miss\", \"locate\", \"british\", \"name\", \"front\", \"colonial\", \"build\", \"court\", \"north\", \"spot\", \"well\", \"cover\", \"filthy\", \"want\", \"bird\", \"petrified\", \"mark\", \"keep\", \"long\", \"stay\", \"dropping\", \"organised\", \"dump\", \"hour\", \"immediately\", \"tour\", \"lot\", \"mind\", \"spring\", \"adjective\", \"typical\", \"great\", \"hustle\", \"staggering\", \"bustle\", \"old\", \"city\", \"column\", \"area\", \"find\", \"exhibition\", \"wander\", \"worth\", \"impressive\", \"commercial\", \"grand\", \"hunt\", \"past\", \"way\", \"interesting\"], \"Freq\": [1.0, 1.0, 1.0, 1.0, 1.0, 1.0, 1.0, 1.0, 1.0, 1.0, 1.0, 1.0, 1.0, 1.0, 1.0, 1.0, 1.0, 1.0, 1.0, 1.0, 1.0, 1.0, 1.0, 1.0, 1.0, 1.0, 1.0, 1.0, 1.0, 1.0, 1.6644209623336792, 1.664364218711853, 1.664334774017334, 1.6642199754714966, 1.6640748977661133, 1.6640287637710571, 1.6640146970748901, 1.6637946367263794, 1.6637146472930908, 0.927413821220398, 0.927406907081604, 0.9273994565010071, 0.9273964762687683, 0.9273921251296997, 0.9273879528045654, 0.9267020225524902, 0.9258168935775757, 0.9256908297538757, 0.9256449341773987, 0.9265735149383545, 0.9255303144454956, 0.9255320429801941, 0.926531970500946, 0.9251790642738342, 0.926356315612793, 0.9251118302345276, 0.9250653982162476, 0.9250483512878418, 0.9250138998031616, 0.9248770475387573, 0.9260722994804382, 2.4058079719543457, 0.9266762137413025, 0.9258852601051331, 0.9256160855293274, 1.4712268114089966, 1.47091805934906, 1.469428300857544, 0.8183761239051819, 0.8183756470680237, 0.8183771371841431, 0.8183745741844177, 0.8183726668357849, 0.8183725476264954, 0.8183740973472595, 0.8183726668357849, 0.8183655738830566, 0.818369448184967, 0.8183677196502686, 0.8183683753013611, 0.8168061971664429, 0.8167300224304199, 0.8165804743766785, 0.8164315819740295, 0.8164085745811462, 0.8161805868148804, 0.8161289095878601, 0.8160647749900818, 0.8159415125846863, 0.8156593441963196, 0.8184086680412292, 0.8166853785514832, 0.8153349757194519, 0.16370201110839844, 0.16369880735874176, 0.8217540979385376, 0.16867651045322418, 0.2919289171695709, 0.29192522168159485, 0.291923850774765, 0.29191720485687256, 0.2917819023132324, 0.05935761705040932, 0.05925867706537247, 0.059215910732746124, 0.05919293314218521, 0.059174612164497375, 0.059093084186315536, 0.0590859055519104, 0.05903235822916031, 0.05897792801260948, 0.05895133316516876, 0.05839398130774498, 0.058393754065036774, 0.058393578976392746, 0.05839316546916962, 0.05839308351278305, 0.0583927184343338, 0.05839256942272186, 0.05839256942272186, 0.0583924725651741, 0.058392249047756195, 0.05839221179485321, 0.058392174541950226, 0.05881271883845329, 0.05872252956032753, 0.0586690679192543, 0.05865979939699173, 0.059699829667806625, 0.0597224235534668, 0.0586179755628109, 0.05916612595319748, 0.05905173718929291, 0.05890408903360367, 0.05840321630239487, 0.05840053781867027, 0.05840026214718819, 0.058399904519319534, 0.05839962512254715, 0.004271172918379307, 0.004271185956895351, 0.004271132405847311, 0.004270920529961586, 0.004270903300493956, 0.004270824603736401, 0.004270812030881643, 0.004270792473107576, 0.004270819015800953, 0.0042707957327365875, 0.004270805511623621, 0.004270810633897781, 0.004270859062671661, 0.00427094055339694, 0.004270895384252071, 0.004270846024155617, 0.004270824138075113, 0.004270814824849367, 0.0042708138935267925, 0.0042707957327365875, 0.004270796664059162, 0.004270792007446289, 0.004270756151527166, 0.00427075894549489, 0.004270752426236868, 0.004334532655775547, 0.004334463272243738, 0.004330333787947893, 0.004329821560531855, 0.004326595459133387, 0.004325925372540951, 0.004325547255575657, 0.004324402194470167, 0.004322894848883152, 0.004314870107918978, 0.00431482307612896, 0.0043121944181621075, 0.004311222583055496, 0.004308195319026709, 0.004324841778725386, 0.004314139019697905, 0.004311414435505867, 0.0042715477757155895, 0.0042714509181678295, 0.004271450452506542, 0.004271422512829304, 0.00427134009078145, 0.004271303303539753, 0.004271260928362608, 0.004271236713975668, 0.004271235782653093, 0.004271224141120911, 0.004271197132766247, 0.004271180368959904], \"Total\": [1.0, 1.0, 1.0, 1.0, 1.0, 1.0, 1.0, 1.0, 1.0, 1.0, 1.0, 1.0, 1.0, 1.0, 1.0, 1.0, 1.0, 1.0, 1.0, 1.0, 1.0, 1.0, 1.0, 1.0, 1.0, 1.0, 1.0, 1.0, 1.0, 1.0, 1.895149827003479, 1.8951469659805298, 1.895138144493103, 1.8951412439346313, 1.8951172828674316, 1.8951128721237183, 1.8951009511947632, 1.8950837850570679, 1.8950629234313965, 1.1537785530090332, 1.1537736654281616, 1.1537678241729736, 1.1537688970565796, 1.1537671089172363, 1.153766393661499, 1.1532889604568481, 1.152205467224121, 1.152079701423645, 1.1520376205444336, 1.1531989574432373, 1.1519238948822021, 1.1519263982772827, 1.1531720161437988, 1.1515825986862183, 1.1530544757843018, 1.1515183448791504, 1.1514711380004883, 1.1514554023742676, 1.151424765586853, 1.1512889862060547, 1.1528596878051758, 3.290276527404785, 1.8060048818588257, 1.8057888746261597, 1.3854295015335083, 1.7200692892074585, 1.719869613647461, 1.718913197517395, 1.0665463209152222, 1.066545844078064, 1.066548228263855, 1.066546082496643, 1.0665442943572998, 1.066544771194458, 1.0665473937988281, 1.0665457248687744, 1.066537857055664, 1.0665440559387207, 1.0665422677993774, 1.0665432214736938, 1.0655357837677002, 1.0654900074005127, 1.0653916597366333, 1.0652952194213867, 1.0652817487716675, 1.0651359558105469, 1.065101981163025, 1.0650599002838135, 1.0649800300598145, 1.0648014545440674, 1.3001468181610107, 1.8057888746261597, 1.8060048818588257, 0.645425021648407, 0.6454278826713562, 3.290276527404785, 1.8950629234313965, 0.6454199552536011, 0.645425021648407, 0.6454278826713562, 1.3001468181610107, 1.3854295015335083, 1.0648014545440674, 1.0649800300598145, 1.0650599002838135, 1.065101981163025, 1.0651359558105469, 1.0652817487716675, 1.0652952194213867, 1.0653916597366333, 1.0654900074005127, 1.0655357837677002, 1.066537857055664, 1.0665432214736938, 1.0665457248687744, 1.0665440559387207, 1.0665442943572998, 1.0665422677993774, 1.066545844078064, 1.0665473937988281, 1.066546082496643, 1.066544771194458, 1.0665463209152222, 1.066548228263855, 1.1528596878051758, 1.1530544757843018, 1.1531720161437988, 1.1531989574432373, 1.718913197517395, 1.8060048818588257, 1.1532889604568481, 1.719869613647461, 1.7200692892074585, 1.8057888746261597, 3.290276527404785, 1.895149827003479, 1.8950629234313965, 1.8951469659805298, 1.8951172828674316, 0.645425021648407, 0.6454278826713562, 0.6454199552536011, 1.0648014545440674, 1.0649800300598145, 1.0650599002838135, 1.065101981163025, 1.0651359558105469, 1.0652817487716675, 1.0652952194213867, 1.0653916597366333, 1.0654900074005127, 1.0655357837677002, 1.066537857055664, 1.0665422677993774, 1.066544771194458, 1.0665440559387207, 1.0665432214736938, 1.0665442943572998, 1.066546082496643, 1.0665463209152222, 1.066545844078064, 1.0665457248687744, 1.0665473937988281, 1.066548228263855, 1.1510881185531616, 1.1510896682739258, 1.1512678861618042, 1.1512889862060547, 1.151424765586853, 1.1514554023742676, 1.1514711380004883, 1.1515183448791504, 1.1515825986862183, 1.1519238948822021, 1.1519263982772827, 1.1520376205444336, 1.152079701423645, 1.152205467224121, 1.3854295015335083, 1.8057888746261597, 3.290276527404785, 1.3001468181610107, 1.8950629234313965, 1.895138144493103, 1.8951009511947632, 1.895149827003479, 1.8060048818588257, 1.8951469659805298, 1.8950837850570679, 1.1530544757843018, 1.1531720161437988, 1.1528596878051758, 1.8951128721237183], \"Category\": [\"Default\", \"Default\", \"Default\", \"Default\", \"Default\", \"Default\", \"Default\", \"Default\", \"Default\", \"Default\", \"Default\", \"Default\", \"Default\", \"Default\", \"Default\", \"Default\", \"Default\", \"Default\", \"Default\", \"Default\", \"Default\", \"Default\", \"Default\", \"Default\", \"Default\", \"Default\", \"Default\", \"Default\", \"Default\", \"Default\", \"Topic1\", \"Topic1\", \"Topic1\", \"Topic1\", \"Topic1\", \"Topic1\", \"Topic1\", \"Topic1\", \"Topic1\", \"Topic1\", \"Topic1\", \"Topic1\", \"Topic1\", \"Topic1\", \"Topic1\", \"Topic1\", \"Topic1\", \"Topic1\", \"Topic1\", \"Topic1\", \"Topic1\", \"Topic1\", \"Topic1\", \"Topic1\", \"Topic1\", \"Topic1\", \"Topic1\", \"Topic1\", \"Topic1\", \"Topic1\", \"Topic1\", \"Topic1\", \"Topic1\", \"Topic1\", \"Topic1\", \"Topic2\", \"Topic2\", \"Topic2\", \"Topic2\", \"Topic2\", \"Topic2\", \"Topic2\", \"Topic2\", \"Topic2\", \"Topic2\", \"Topic2\", \"Topic2\", \"Topic2\", \"Topic2\", \"Topic2\", \"Topic2\", \"Topic2\", \"Topic2\", \"Topic2\", \"Topic2\", \"Topic2\", \"Topic2\", \"Topic2\", \"Topic2\", \"Topic2\", \"Topic2\", \"Topic2\", \"Topic2\", \"Topic2\", \"Topic2\", \"Topic2\", \"Topic2\", \"Topic3\", \"Topic3\", \"Topic3\", \"Topic3\", \"Topic3\", \"Topic3\", \"Topic3\", \"Topic3\", \"Topic3\", \"Topic3\", \"Topic3\", \"Topic3\", \"Topic3\", \"Topic3\", \"Topic3\", \"Topic3\", \"Topic3\", \"Topic3\", \"Topic3\", \"Topic3\", \"Topic3\", \"Topic3\", \"Topic3\", \"Topic3\", \"Topic3\", \"Topic3\", \"Topic3\", \"Topic3\", \"Topic3\", \"Topic3\", \"Topic3\", \"Topic3\", \"Topic3\", \"Topic3\", \"Topic3\", \"Topic3\", \"Topic3\", \"Topic3\", \"Topic3\", \"Topic3\", \"Topic3\", \"Topic3\", \"Topic4\", \"Topic4\", \"Topic4\", \"Topic4\", \"Topic4\", \"Topic4\", \"Topic4\", \"Topic4\", \"Topic4\", \"Topic4\", \"Topic4\", \"Topic4\", \"Topic4\", \"Topic4\", \"Topic4\", \"Topic4\", \"Topic4\", \"Topic4\", \"Topic4\", \"Topic4\", \"Topic4\", \"Topic4\", \"Topic4\", \"Topic4\", \"Topic4\", \"Topic4\", \"Topic4\", \"Topic4\", \"Topic4\", \"Topic4\", \"Topic4\", \"Topic4\", \"Topic4\", \"Topic4\", \"Topic4\", \"Topic4\", \"Topic4\", \"Topic4\", \"Topic4\", \"Topic4\", \"Topic4\", \"Topic4\", \"Topic4\", \"Topic4\", \"Topic4\", \"Topic4\", \"Topic4\", \"Topic4\", \"Topic4\", \"Topic4\", \"Topic4\", \"Topic4\", \"Topic4\", \"Topic4\"], \"logprob\": [30.0, 29.0, 28.0, 27.0, 26.0, 25.0, 24.0, 23.0, 22.0, 21.0, 20.0, 19.0, 18.0, 17.0, 16.0, 15.0, 14.0, 13.0, 12.0, 11.0, 10.0, 9.0, 8.0, 7.0, 6.0, 5.0, 4.0, 3.0, 2.0, 1.0, -3.375999927520752, -3.375999927520752, -3.3761000633239746, -3.3761000633239746, -3.376199960708618, -3.376199960708618, -3.376199960708618, -3.3763999938964844, -3.3763999938964844, -3.9607999324798584, -3.9607999324798584, -3.9607999324798584, -3.960900068283081, -3.960900068283081, -3.960900068283081, -3.9616000652313232, -3.962599992752075, -3.9626998901367188, -3.9626998901367188, -3.961699962615967, -3.962899923324585, -3.962899923324585, -3.9618000984191895, -3.963200092315674, -3.9619998931884766, -3.9632999897003174, -3.963399887084961, -3.963399887084961, -3.963399887084961, -3.963599920272827, -3.9623000621795654, -3.0076000690460205, -3.9616000652313232, -3.9625000953674316, -3.9628000259399414, -3.077399969100952, -3.0776000022888184, -3.078700065612793, -3.6640000343322754, -3.6640000343322754, -3.6640000343322754, -3.6640000343322754, -3.6640000343322754, -3.6640000343322754, -3.6640000343322754, -3.6640000343322754, -3.6640000343322754, -3.6640000343322754, -3.6640000343322754, -3.6640000343322754, -3.6658999919891357, -3.6659998893737793, -3.6661999225616455, -3.666300058364868, -3.6663999557495117, -3.666599988937378, -3.6666998863220215, -3.666800022125244, -3.6668999195098877, -3.66729998588562, -3.6638998985290527, -3.6659998893737793, -3.6677000522613525, -5.273200035095215, -5.2733001708984375, -3.6598000526428223, -5.243299961090088, -2.8592000007629395, -2.8592000007629395, -2.8592000007629395, -2.8592000007629395, -2.8596999645233154, -4.452099800109863, -4.453800201416016, -4.454500198364258, -4.454899787902832, -4.4552001953125, -4.456600189208984, -4.456699848175049, -4.457600116729736, -4.458499908447266, -4.459000110626221, -4.468500137329102, -4.468500137329102, -4.468500137329102, -4.468500137329102, -4.468500137329102, -4.468500137329102, -4.468500137329102, -4.468500137329102, -4.468500137329102, -4.468500137329102, -4.468500137329102, -4.468500137329102, -4.461299896240234, -4.462900161743164, -4.463799953460693, -4.464000225067139, -4.446400165557861, -4.446000099182129, -4.464700222015381, -4.455399990081787, -4.457300186157227, -4.459799766540527, -4.468299865722656, -4.468400001525879, -4.468400001525879, -4.468400001525879, -4.468400001525879, -4.207699775695801, -4.207699775695801, -4.207699775695801, -4.207699775695801, -4.207699775695801, -4.207699775695801, -4.207699775695801, -4.207699775695801, -4.207699775695801, -4.207699775695801, -4.207699775695801, -4.207699775695801, -4.207699775695801, -4.207699775695801, -4.207699775695801, -4.207699775695801, -4.207699775695801, -4.207699775695801, -4.207699775695801, -4.207699775695801, -4.207699775695801, -4.207699775695801, -4.207799911499023, -4.207799911499023, -4.207799911499023, -4.19290018081665, -4.19290018081665, -4.193900108337402, -4.193999767303467, -4.194799900054932, -4.194900035858154, -4.195000171661377, -4.195300102233887, -4.1956000328063965, -4.197500228881836, -4.197500228881836, -4.1981000900268555, -4.198299884796143, -4.198999881744385, -4.195199966430664, -4.1975998878479, -4.198299884796143, -4.207600116729736, -4.207600116729736, -4.207600116729736, -4.207600116729736, -4.207600116729736, -4.207600116729736, -4.207600116729736, -4.207600116729736, -4.207600116729736, -4.207600116729736, -4.207600116729736, -4.207699775695801], \"loglift\": [30.0, 29.0, 28.0, 27.0, 26.0, 25.0, 24.0, 23.0, 22.0, 21.0, 20.0, 19.0, 18.0, 17.0, 16.0, 15.0, 14.0, 13.0, 12.0, 11.0, 10.0, 9.0, 8.0, 7.0, 6.0, 5.0, 4.0, 3.0, 2.0, 1.0, 0.4390000104904175, 0.4390000104904175, 0.4390000104904175, 0.4388999938964844, 0.4388999938964844, 0.43880000710487366, 0.43880000710487366, 0.43869999051094055, 0.43869999051094055, 0.3504999876022339, 0.3504999876022339, 0.3504999876022339, 0.3504999876022339, 0.3504999876022339, 0.3504999876022339, 0.35010001063346863, 0.35010001063346863, 0.35010001063346863, 0.35010001063346863, 0.35010001063346863, 0.3499999940395355, 0.3499999940395355, 0.3499999940395355, 0.3499999940395355, 0.3499999940395355, 0.3499000072479248, 0.3499000072479248, 0.3499000072479248, 0.3499000072479248, 0.3499000072479248, 0.3497999906539917, 0.2558000087738037, -0.09839999675750732, -0.09910000115633011, 0.1656000018119812, 0.8345999717712402, 0.8345000147819519, 0.8339999914169312, 0.7260000109672546, 0.7260000109672546, 0.7260000109672546, 0.7260000109672546, 0.7260000109672546, 0.7260000109672546, 0.7260000109672546, 0.7260000109672546, 0.7260000109672546, 0.7260000109672546, 0.7260000109672546, 0.7260000109672546, 0.7250000238418579, 0.7249000072479248, 0.7247999906539917, 0.7247999906539917, 0.7246999740600586, 0.7246000170707703, 0.7246000170707703, 0.7245000004768372, 0.7245000004768372, 0.7243000268936157, 0.527999997138977, 0.1973000019788742, 0.19550000131130219, -0.38100001215934753, -0.38109999895095825, -0.39649999141693115, -1.4282000064849854, 2.0329999923706055, 2.0329999923706055, 2.0329999923706055, 1.3325999975204468, 1.2685999870300293, -0.060600001364946365, -0.06239999830722809, -0.06319999694824219, -0.06360000371932983, -0.06400000303983688, -0.06549999862909317, -0.06560000032186508, -0.066600002348423, -0.06759999692440033, -0.06809999793767929, -0.07859999686479568, -0.07859999686479568, -0.07859999686479568, -0.07859999686479568, -0.07859999686479568, -0.07859999686479568, -0.07859999686479568, -0.07859999686479568, -0.07859999686479568, -0.07859999686479568, -0.07859999686479568, -0.07859999686479568, -0.14920000731945038, -0.1509999930858612, -0.15199999511241913, -0.15209999680519104, -0.5336999893188477, -0.5827999711036682, -0.15289999544620514, -0.5432999730110168, -0.5453000068664551, -0.5964000225067139, -1.2050000429153442, -0.6532999873161316, -0.6532999873161316, -0.6532999873161316, -0.6532999873161316, 0.684499979019165, 0.684499979019165, 0.684499979019165, 0.18379999697208405, 0.18369999527931213, 0.18359999358654022, 0.1835000067949295, 0.1835000067949295, 0.1834000051021576, 0.1834000051021576, 0.18330000340938568, 0.18320000171661377, 0.18310000002384186, 0.18219999969005585, 0.18219999969005585, 0.18219999969005585, 0.18219999969005585, 0.18219999969005585, 0.18219999969005585, 0.18219999969005585, 0.18219999969005585, 0.18219999969005585, 0.18219999969005585, 0.18219999969005585, 0.18219999969005585, 0.12070000171661377, 0.12070000171661377, 0.11959999799728394, 0.11940000206232071, 0.11860000342130661, 0.11840000003576279, 0.11829999834299088, 0.11800000071525574, 0.11760000139474869, 0.11540000140666962, 0.11540000140666962, 0.11469999700784683, 0.1145000010728836, 0.1136000007390976, -0.06679999828338623, -0.3343000113964081, -0.9348999857902527, -0.015699999406933784, -0.39250001311302185, -0.39250001311302185, -0.39250001311302185, -0.39259999990463257, -0.34439998865127563, -0.39259999990463257, -0.39259999990463257, 0.10429999977350235, 0.10419999808073044, 0.10450000315904617, -0.39259999990463257]}, \"token.table\": {\"Topic\": [1, 2, 1, 2, 2, 2, 1, 1, 2, 2, 1, 2, 1, 2, 2, 1, 2, 1, 1, 2, 1, 2, 1, 2, 2, 1, 1, 1, 1, 1, 1, 1, 1, 1, 2, 1, 2, 2, 2, 1, 1, 2, 2, 1, 2, 2, 2, 1, 1, 1, 2, 1, 1, 1, 1, 2, 1, 2, 1, 2, 1, 1, 1, 2, 1, 2, 1], \"Freq\": [0.8683701753616333, 0.7691438794136047, 0.8667265772819519, 0.9376075863838196, 0.9388772249221802, 0.9386219382286072, 0.8679007887840271, 0.5537745952606201, 0.5537745952606201, 0.9387069344520569, 0.6078516244888306, 0.3039258122444153, 1.0553271770477295, 0.9385353326797485, 0.9376071691513062, 0.8667260408401489, 0.9376041293144226, 0.866725504398346, 0.868742048740387, 0.5814394354820251, 1.055332064628601, 0.9376077651977539, 1.0553739070892334, 0.9391422271728516, 0.9387187957763672, 0.8670853972434998, 1.055362343788147, 0.8681110143661499, 0.8667174577713013, 0.8686075806617737, 0.8672617077827454, 0.8680272102355957, 0.8685916662216187, 0.5537083745002747, 0.5537083745002747, 1.055346131324768, 0.9376062154769897, 0.9389142990112305, 0.9376063346862793, 1.0553436279296875, 0.8684661388397217, 0.581762969493866, 0.9376057982444763, 0.8684542179107666, 0.938984751701355, 0.9388473033905029, 0.9384949803352356, 0.7217978239059448, 0.8687432408332825, 0.8671733140945435, 0.9376059770584106, 0.8671530485153198, 0.8667246699333191, 0.8667210936546326, 1.0553302764892578, 0.9376132488250732, 0.8684186339378357, 0.5813719034194946, 0.8679955005645752, 0.9376048445701599, 0.8684892058372498, 0.8681129217147827, 1.055352807044983, 0.9376084804534912, 0.867408275604248, 0.9376093745231628, 1.0553255081176758], \"Term\": [\"adjective\", \"area\", \"basin\", \"bird\", \"british\", \"build\", \"bustle\", \"city\", \"city\", \"colonial\", \"column\", \"column\", \"commercial\", \"court\", \"cover\", \"dirty\", \"dropping\", \"dry\", \"dump\", \"entire\", \"exhibition\", \"filthy\", \"find\", \"formerly\", \"front\", \"go\", \"grand\", \"great\", \"help\", \"hour\", \"hunt\", \"hustle\", \"immediately\", \"impressive\", \"impressive\", \"interesting\", \"keep\", \"locate\", \"long\", \"look\", \"lot\", \"main\", \"mark\", \"mind\", \"miss\", \"name\", \"north\", \"old\", \"organised\", \"past\", \"petrified\", \"photo\", \"rather\", \"really\", \"section\", \"spot\", \"spring\", \"square\", \"staggering\", \"stay\", \"tour\", \"typical\", \"wander\", \"want\", \"way\", \"well\", \"worth\"]}, \"R\": 30, \"lambda.step\": 0.01, \"plot.opts\": {\"xlab\": \"PC1\", \"ylab\": \"PC2\"}, \"topic.order\": [3, 1, 4, 2]};\n",
       "\n",
       "function LDAvis_load_lib(url, callback){\n",
       "  var s = document.createElement('script');\n",
       "  s.src = url;\n",
       "  s.async = true;\n",
       "  s.onreadystatechange = s.onload = callback;\n",
       "  s.onerror = function(){console.warn(\"failed to load library \" + url);};\n",
       "  document.getElementsByTagName(\"head\")[0].appendChild(s);\n",
       "}\n",
       "\n",
       "if(typeof(LDAvis) !== \"undefined\"){\n",
       "   // already loaded: just create the visualization\n",
       "   !function(LDAvis){\n",
       "       new LDAvis(\"#\" + \"ldavis_el2028819456180680405646618137\", ldavis_el2028819456180680405646618137_data);\n",
       "   }(LDAvis);\n",
       "}else if(typeof define === \"function\" && define.amd){\n",
       "   // require.js is available: use it to load d3/LDAvis\n",
       "   require.config({paths: {d3: \"https://cdnjs.cloudflare.com/ajax/libs/d3/3.5.5/d3.min\"}});\n",
       "   require([\"d3\"], function(d3){\n",
       "      window.d3 = d3;\n",
       "      LDAvis_load_lib(\"https://cdn.rawgit.com/bmabey/pyLDAvis/files/ldavis.v1.0.0.js\", function(){\n",
       "        new LDAvis(\"#\" + \"ldavis_el2028819456180680405646618137\", ldavis_el2028819456180680405646618137_data);\n",
       "      });\n",
       "    });\n",
       "}else{\n",
       "    // require.js not available: dynamically load d3 & LDAvis\n",
       "    LDAvis_load_lib(\"https://cdnjs.cloudflare.com/ajax/libs/d3/3.5.5/d3.min.js\", function(){\n",
       "         LDAvis_load_lib(\"https://cdn.rawgit.com/bmabey/pyLDAvis/files/ldavis.v1.0.0.js\", function(){\n",
       "                 new LDAvis(\"#\" + \"ldavis_el2028819456180680405646618137\", ldavis_el2028819456180680405646618137_data);\n",
       "            })\n",
       "         });\n",
       "}\n",
       "</script>"
      ],
      "text/plain": [
       "PreparedData(topic_coordinates=              x         y  topics  cluster       Freq\n",
       "topic                                                \n",
       "2      0.090736 -0.064199       1        1  56.616497\n",
       "0     -0.105521  0.029287       2        1  37.127163\n",
       "3      0.014991  0.040011       3        1   5.922595\n",
       "1     -0.000206 -0.005099       4        1   0.333741, topic_info=           Term      Freq     Total Category  logprob  loglift\n",
       "25          old  1.000000  1.000000  Default  30.0000  30.0000\n",
       "31         area  1.000000  1.000000  Default  29.0000  29.0000\n",
       "14       square  1.000000  1.000000  Default  28.0000  28.0000\n",
       "5        entire  1.000000  1.000000  Default  27.0000  27.0000\n",
       "10         main  1.000000  1.000000  Default  26.0000  26.0000\n",
       "..          ...       ...       ...      ...      ...      ...\n",
       "38        grand  0.004271  1.895084   Topic4  -4.2076  -0.3926\n",
       "63         hunt  0.004271  1.153054   Topic4  -4.2076   0.1043\n",
       "64         past  0.004271  1.153172   Topic4  -4.2076   0.1042\n",
       "66          way  0.004271  1.152860   Topic4  -4.2076   0.1045\n",
       "39  interesting  0.004271  1.895113   Topic4  -4.2077  -0.3926\n",
       "\n",
       "[193 rows x 6 columns], token_table=      Topic      Freq       Term\n",
       "term                            \n",
       "15        1  0.868370  adjective\n",
       "31        2  0.769144       area\n",
       "56        1  0.866727      basin\n",
       "44        2  0.937608       bird\n",
       "0         2  0.938877    british\n",
       "...     ...       ...        ...\n",
       "42        1  1.055353     wander\n",
       "54        2  0.937608       want\n",
       "66        1  0.867408        way\n",
       "55        2  0.937609       well\n",
       "43        1  1.055326      worth\n",
       "\n",
       "[67 rows x 3 columns], R=30, lambda_step=0.01, plot_opts={'xlab': 'PC1', 'ylab': 'PC2'}, topic_order=[3, 1, 4, 2])"
      ]
     },
     "metadata": {},
     "output_type": "display_data"
    }
   ],
   "source": [
    "plot_model(lda_neg_custom, plot ='topic_model')"
   ]
  },
  {
   "cell_type": "code",
   "execution_count": null,
   "metadata": {},
   "outputs": [],
   "source": []
  }
 ],
 "metadata": {
  "kernelspec": {
   "display_name": "Python 3",
   "language": "python",
   "name": "python3"
  },
  "language_info": {
   "codemirror_mode": {
    "name": "ipython",
    "version": 3
   },
   "file_extension": ".py",
   "mimetype": "text/x-python",
   "name": "python",
   "nbconvert_exporter": "python",
   "pygments_lexer": "ipython3",
   "version": "3.7.4"
  }
 },
 "nbformat": 4,
 "nbformat_minor": 2
}
